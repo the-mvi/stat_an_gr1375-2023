{
 "cells": [
  {
   "cell_type": "markdown",
   "metadata": {},
   "source": [
    "# Практическая работа №2: Классические методы математической статистики\n",
    "Выполнил студент гр. 1375 Рудов Сергей. Вариант №23"
   ]
  },
  {
   "cell_type": "markdown",
   "metadata": {},
   "source": [
    "## Цель работы\n",
    "Научиться применять методы математической статистики для решения задач статистического анализа; сформировать навыки реализации методов с помощью прикладных программных пакетов."
   ]
  },
  {
   "cell_type": "markdown",
   "metadata": {},
   "source": [
    "## Основные теоретические положения\n",
    "1.1. Эмпирическое распределение: $F_n(x)$ представляет собой усредненную сумму индикаторов того, что каждый элемент выборки меньше заданного значения $x$.\n",
    "$F_n(x) = \\frac{1}{n}\\sum_{i=1}^{n}\\mathbb{I}_{\\{x_i < x\\}}$\n",
    "\n",
    "1.2. Вариационный ряд: $X_{(1)} \\le \\dots \\le X_{(n)}$\n",
    "\n",
    "\n",
    "1.3. Гистограмма - функция $H$, отображающая количество элементов выборки, попавших в каждый интервал, относительно общего числа элементов и размера интервала.\n",
    "$H: K \\to \\mathbb{R}_+: H(x) = \\frac{n_i}{nh_i}$, где $n_i$ - число элементов выборки, попавших в i-й интервал, h - размер интервала\n",
    "\n",
    "1.4. Полигон частот - кусочно-линейная функция, совпадающая с гистограммой в середине каждого интервала.\n",
    "\n",
    "2\\. Выборочные числовые характеристики:\n",
    "- Математическое ожидание $\\overline{X}$ - среднее значение элементов выборки: $\\overline{X}=\\frac{1}{n}\\sum_{i=1}^{n}X_{i}$\n",
    "\n",
    "- Дисперсия $S^{2}$ - мера разброса элементов относительно их среднего значения: $S^{2}=\\frac{1}{n}\\sum_{i=1}^{n}\\left( X_{i}-\\overline{X} \\right)^{2}=\\overline{X^{2}}-\\overline{X}^{2}$\n",
    "\n",
    "- Среднеквадратичное отклонение $S$ - корень из дисперсии: $S = \\sqrt{S^2} = \\sqrt{\\frac{1}{n}\\sum_{i=1}^{n}\\left( X_{i}-\\overline{X} \\right)^{2}}$\n",
    "\n",
    "- Медиана - значение, разделяющее упорядоченную выборку пополам: p-квантиль при p = 1/2\n",
    "\n",
    "- p-квантиль $Z_{n,p}$ - значение, которое разделяет p% выборки, где $X_{(\\lfloor np\\rfloor+1)}$ - если $np$ не целое, и интервал $\\left[X_{(np)},X_{(np+1)}\\right)$ в противном случае.\n",
    "\n",
    "- Коэффициент асимметрии $\\widehat{Skew_{F}}(X)$ - мера асимметрии распределения выборки: $\\widehat{Skew_{F}}(X)=\\frac{\\frac{1}{n}\\sum_{i=1}^{n}\\left( X_{i}-\\overline{X} \\right)^{3}}{S^{3}}$\n",
    "\n",
    "- Коэффициент эксцесса $\\widehat{Kurt_{F}}(X)$ - мера \"островершинности\" распределения выборки: $\\widehat{Kurt_{F}}(X)=\\frac{\\frac{1}{n}\\sum_{i=1}^{n}\\left( X_{i}-\\overline{X}^{4} \\right)}{S^{4}}-3$\n",
    "\n",
    "3.1 Функция правдоподобия $L(x,\\theta)$ представляет собой вероятность элемента $x$ при условии параметра $\\theta$.\n",
    "$L(\\overrightarrow{X},\\theta)=\\prod_{i=1}^{n}p_{\\theta}(X_{i})$\n",
    "\n",
    "3.2 Оценка максимального правдоподобия (ОМП):\n",
    "\n",
    "Оценка $\\widehat{\\theta}(X)$, максимизирующая функцию правдоподобия $L(\\overrightarrow{X},\\theta)$ по $\\theta$ при любом фиксированном $X$\n",
    "\n",
    "$L(\\overrightarrow{X}, \\widehat{\\theta}(X)) \\ge L(\\overrightarrow{X}, \\tilde{\\theta}(X))$ для любых $X \\in \\mathfrak{X}, \\tilde{\\theta}(x)$\n",
    "\n",
    "называется оценкой максимального правдоподобия\n",
    "\n",
    "3.3 Функция правдоподобия распадается в произведения: $L(\\overrightarrow{X},\\theta)$ представляет собой произведение вероятностей для каждого элемента выборки.\n",
    "$L(\\overrightarrow{X},\\theta)=\\prod_{i=1}^{n}p_{\\theta}(X_{i})$\n",
    "\n",
    "\n",
    "3.4 Логарифмическая функция правдоподобия: $LL(\\overrightarrow{X},\\theta)$ - логарифм функции правдоподобия.\n",
    "\n",
    "3.5 Оценка по методу моментов: Оценка, удовлетворяющая системе уравнений, основанных на выборочных моментах и теоретических моментах.\n",
    "Если существует единственное решение $\\tilde{\\theta}(X)$ системы уравнений $\\hat{\\mu_k}(\\tilde{\\theta}) = \\mu_k(\\tilde{\\theta})$ для $k = 1,\\dots,d$\n",
    "\n",
    "где $\\theta = (\\theta_1,\\dots,\\theta_d);\\ \\mu_k(\\theta) = \\mathbb{E}_{\\theta}X_1^k;\\  \\hat{\\mu_k}(\\theta) = \\frac{1}{n}\\sum_{i=1}^{n}X_1^k$ - выборочный момент k-ого порядка, то\n",
    "\n",
    "$\\tilde{\\theta}(X)$ - оценка по методу моментов\n",
    "\n",
    "3.6 Смещение оценки: $bias_{\\hat{\\theta}}(\\theta) = \\mathbb{E}\\hat{\\theta}(X) - \\theta$\n",
    "\n",
    "4\\. Асимптотический доверительный интервал:\n",
    "4.1 Асимптотическая нормальность: $\\sqrt{n}(\\widehat{\\theta}(\\overrightarrow{X})-\\theta)\\sim \\mathcal{N}(0,\\sigma^{2}(\\theta))$.\n",
    "\n",
    "4.2 Статистика $\\hat{\\Theta}n$ определена так, что вероятность содержания истинного параметра в интервале $\\left[T{1,n}(\\overrightarrow{X}), T_{2,n}(\\overrightarrow{X})\\right]$ стремится к $1 - \\alpha$ при $n \\to \\infty$.\n",
    "\n",
    "4.3 Метод построения на базе ОМП:\n",
    "При выполнении определенных условий регулярности\n",
    "\n",
    "$\\sqrt{n}\\left( \\hat{\\theta}(\\overrightarrow{X})-\\theta)\\right)\\sim \\mathcal{N}\\left(0,\\frac{1}{I(\\theta)}\\right)$, где $I(\\theta) = \\lim_{n \\to \\infty}I_n(\\theta)/n$ - информация Фишера, а $ I_n(\\theta) = -\\mathbb{E} \\frac{\\partial^{2} LL}{\\partial \\theta^{2}}$\n",
    "\n",
    "Тогда $\\sqrt{nI\\left(\\hat{\\theta}(\\overrightarrow{X}) \\right)}\\ \\left( \\hat{\\theta}(\\overrightarrow{X})-\\theta \\right)\\sim \\mathcal{N}(0,1)$\n",
    "\n",
    "Выберем $x_{\\alpha} : \\Phi(x_{\\alpha}) = 1 - x_{\\alpha}/2$\n",
    "\n",
    "и получим асимптотический доверительный интервал $\\left[ \\hat{\\theta}(\\overrightarrow{X})-\\frac{X_{\\alpha}}{\\sqrt{n I\\left( \\hat{\\theta}(\\overrightarrow{X}) \\right)}};\\ \\hat{\\theta}(\\overrightarrow{X})+\\frac{X_{\\alpha}}{\\sqrt{n I\\left( \\hat{\\theta}(\\overrightarrow{X}) \\right)}} \\right] \\ni \\theta$\n",
    "\n",
    "5\\. Проверка статистических гипотез:\n",
    "5.1 Статистическая гипотеза - утверждение о параметре вида $H: \\theta \\in \\Theta^* \\subseteq \\Theta$.\n",
    "Если гипотеза вида $H: \\theta = \\theta^*$, то такая гипотеза называется простой, в ином случае она называется сложной\n",
    "\n",
    "5.2 Классическая постановка задачи\n",
    "- основная (нулевая) гипотеза: $H_0: \\theta \\in \\Theta_0$\n",
    "- альтернативная гипотеза: $H_A: \\theta \\in \\Theta_A$\n",
    "\n",
    "5.3 Статистический критерий (тест) - статистика $\\phi$, определяющая вероятность отвергнуть основную гипотезу.\n",
    "\n",
    "5.4 Статистика отношения правдоподобия: Отношение вероятностей для основной и альтернативной гипотез.\n",
    "$H_0 : \\theta = \\theta_0;\\  H_A : \\theta = \\theta_1$\n",
    "\n",
    "$LR\\left(\\overrightarrow{X}, \\theta_1, \\theta_0\\right) = \\frac{L\\left(\\overrightarrow{X}, \\theta_1\\right)}{L\\left(\\overrightarrow{X}, \\theta_0\\right)}$\n",
    "\n",
    "5.5 Фундаментальная лемма Неймана - Пирсона: \n",
    "Существует наиболее мощный критерий уровня значимости $\\alpha$:\n",
    "\n",
    "$\\phi(x) = 1$, при $LR(X) > c$, $\\phi(x) = p$, при $LR(X) = c$, $\\phi(x) = 0$, при $LR(X) < c$ где $c = const$ и $p \\in [0,1)$ определяются из уровнения $\\mathbb{E}_{\\theta_0}\\phi(X) = P_{\\theta_0}(LR(X) > c) + p*P_{\\theta_0}(LR(X) = c) = \\alpha$\n",
    "\n",
    "5.6 Статистика Колмогорова: Статистика, измеряющая расхождение между эмпирической и теоретической функциями распределения.\n",
    "$D_{n}(\\overrightarrow{X}) = \\overset{}{\\underset{X \\in \\mathbb R}{sup}} |F_{0}(X) - F_{n}(X)|$\n",
    "\n",
    "5.7 Теорема Колмогорова\n",
    "\n",
    "Если гипотеза $H_{0}$ верна, и $F_{0}(X)$ - непрерывная, для любого $t > 0$:\n",
    "\n",
    "$P(\\sqrt{n} D_{n}(\\overrightarrow{X}) \\le t) \\xrightarrow[n \\rightarrow \\infty]{} K(t)$, где\n",
    "\n",
    "$K(t)$ = функция распределения Колмогорова.\n",
    "\n",
    "Если $D_{n} \\lt t$, то гипотезу принимаем\n",
    "\n",
    "Если $D_{n} \\gt t$, то гипотезу отвергаем\n",
    "\n",
    "5.8 Критерий $\\chi^2$\n",
    "\n",
    "Cтатистика критерия $\\chi^2 = \\sum \\limits_{i=1}^{r} \\frac{(n_{i} - p_{i} n)^{2}}{n p_{i}}$, где $r$ - число интервалов, $p_i = F_0(I_i)$ - гипотетическая вероятность попадания в интервал, $n_{i}$ - экспериментальная частота попадания в интервал\n",
    "\n",
    "Если $x_\\alpha \\ge \\chi^2$, то гипотезу принимаем\n",
    "\n",
    "Если $x_\\alpha \\lt \\chi^2$, то гипотезу отвергаем\n",
    "\n",
    "$x_{\\alpha} : K_{r-1}(x_{\\alpha}) = 1 - \\alpha$, где $K_{r-1}$ - функция распределения $\\chi^2$"
   ]
  },
  {
   "cell_type": "markdown",
   "metadata": {},
   "source": [
    "## Постановка задачи\n",
    "Для полученных в результате эксперимента наборов данных выполнить статистическую обработку. Полученные результаты содержательно проинтерпретировать."
   ]
  },
  {
   "cell_type": "markdown",
   "metadata": {},
   "source": [
    "## Выполнение работы"
   ]
  },
  {
   "cell_type": "markdown",
   "source": [
    "### Задание 1. "
   ],
   "metadata": {
    "collapsed": false
   }
  },
  {
   "cell_type": "code",
   "execution_count": 1291,
   "outputs": [
    {
     "name": "stdout",
     "output_type": "stream",
     "text": [
      "количество элементов: 50\n"
     ]
    }
   ],
   "source": [
    "import numpy as np\n",
    "import matplotlib.pyplot as plt\n",
    "from scipy import stats\n",
    "import pandas as pd\n",
    "\n",
    "tab1 = [7, 7, 0, 4, 0, 2, 1, 3, 13, 0, 0, 1, 11, 15, 1, 13, 0, 1, 1, 3, 1, 1, 2, 0, 1, 2, 9, 1, 0, 5, 13, 13, 0, 2, 1, 0, 1, 1, 2, 0, 2, 2, 0, 1, 2, 1, 5, 2, 0, 1]\n",
    "print(f\"количество элементов: {len(tab1)}\")"
   ],
   "metadata": {
    "collapsed": false,
    "ExecuteTime": {
     "end_time": "2023-12-06T18:49:18.882737500Z",
     "start_time": "2023-12-06T18:49:16.113135500Z"
    }
   }
  },
  {
   "cell_type": "markdown",
   "source": [
    "#### a)Построить вариационный ряд, эмпирическую функцию распределения и гистограммму частот."
   ],
   "metadata": {
    "collapsed": false
   }
  },
  {
   "cell_type": "code",
   "execution_count": 1292,
   "outputs": [
    {
     "name": "stdout",
     "output_type": "stream",
     "text": [
      "Вариационный ряд: [ 0  0  0  0  0  0  0  0  0  0  0  0  1  1  1  1  1  1  1  1  1  1  1  1\n",
      "  1  1  1  2  2  2  2  2  2  2  2  2  3  3  4  5  5  7  7  9 11 13 13 13\n",
      " 13 15]\n"
     ]
    }
   ],
   "source": [
    "var_tab1 = np.sort(tab1)\n",
    "\n",
    "print(f'Вариационный ряд: {var_tab1}')"
   ],
   "metadata": {
    "collapsed": false,
    "ExecuteTime": {
     "end_time": "2023-12-06T18:49:18.887721600Z",
     "start_time": "2023-12-06T18:49:16.167988900Z"
    }
   }
  },
  {
   "cell_type": "code",
   "execution_count": 1293,
   "outputs": [
    {
     "data": {
      "text/plain": "<Figure size 800x400 with 1 Axes>",
      "image/png": "[encoded data removed]"
     },
     "metadata": {},
     "output_type": "display_data"
    }
   ],
   "source": [
    "figure = plt.figure(figsize=(8, 4))\n",
    "\n",
    "\n",
    "array_len = len(tab1)\n",
    "var_range = np.unique(var_tab1)\n",
    "emp_function = np.searchsorted(var_tab1, var_range, side='right') / array_len\n",
    "\n",
    "plt.xlabel('Значения')\n",
    "plt.ylabel('Вероятность')\n",
    "plt.title('Эмпирическая функция')\n",
    "\n",
    "plt.step(var_range, emp_function, color='red')\n",
    "\n",
    "plt.show()"
   ],
   "metadata": {
    "collapsed": false,
    "ExecuteTime": {
     "end_time": "2023-12-06T18:49:19.291642300Z",
     "start_time": "2023-12-06T18:49:16.183946500Z"
    }
   }
  },
  {
   "cell_type": "code",
   "execution_count": 1294,
   "outputs": [
    {
     "data": {
      "text/plain": "<Figure size 640x480 with 1 Axes>",
      "image/png": "[encoded data removed]"
     },
     "metadata": {},
     "output_type": "display_data"
    }
   ],
   "source": [
    "plt.hist(var_tab1, bins=range(min(var_tab1), max(var_tab1) + 1), density=True, edgecolor='white', color='skyblue')\n",
    "plt.xlabel('Значение')\n",
    "plt.ylabel('Относительная частота')\n",
    "plt.title('Гистограмма частот')\n",
    "plt.show()\n"
   ],
   "metadata": {
    "collapsed": false,
    "ExecuteTime": {
     "end_time": "2023-12-06T18:49:19.585857400Z",
     "start_time": "2023-12-06T18:49:16.402364200Z"
    }
   }
  },
  {
   "cell_type": "markdown",
   "source": [
    "#### b) Вычислить выборочные аналоги следующих числовых характеристик: (i)математического ожидания; (ii)дисперсии; (iii)СКО; (iv)медиана; (v)асимметрии; (vi)эксцесса; (vii)вероятности $P(X \\in [a,b]).$"
   ],
   "metadata": {
    "collapsed": false
   }
  },
  {
   "cell_type": "code",
   "execution_count": 1295,
   "outputs": [
    {
     "name": "stdout",
     "output_type": "stream",
     "text": [
      "Математическое ожидание= 3.08\n",
      "Дисперсия = 17.233600000000003\n",
      "СКО = 4.151337133984664\n",
      "Медиана = 1.0\n",
      "Асимметрия = 1.6608792142415418\n",
      "Эксцесс = 1.4417783041337042\n",
      "Вероятность попадания в промежуток = 0.78\n"
     ]
    }
   ],
   "source": [
    "a = 0.00\n",
    "b = 4.39\n",
    "math_exp = np.mean(tab1)  # Выборочное математическое ожидание\n",
    "variance = np.var(tab1)  # Дисперсия\n",
    "standard_deviation=np.std(tab1) #СКО\n",
    "median = np.median(tab1)  # Медиана\n",
    "skewness = stats.skew(tab1)  # Асимметрия\n",
    "kurtosis = stats.kurtosis(tab1)  # Эксцесс\n",
    "probability = len([x for x in tab1 if a <= x <= b]) / len(tab1)  # Вероятность\n",
    "print(\"Математическое ожидание=\",math_exp)\n",
    "print(\"Дисперсия =\",variance)\n",
    "print(\"СКО =\",standard_deviation)\n",
    "print(\"Медиана =\",median)\n",
    "print(\"Асимметрия =\",skewness)\n",
    "print(\"Эксцесс =\",kurtosis)\n",
    "print(\"Вероятность попадания в промежуток =\", probability)\n"
   ],
   "metadata": {
    "collapsed": false,
    "ExecuteTime": {
     "end_time": "2023-12-06T18:49:19.623753700Z",
     "start_time": "2023-12-06T18:49:16.620778700Z"
    }
   }
  },
  {
   "cell_type": "markdown",
   "source": [
    "#### c)В предположении, что исходные наблюдения являются выборкой из распределения Пуассона, построить оценку максимального правдоподобия параметра $\\lambda$, а также оценку $\\lambda$ по методу моментов. Найти смещение оценок."
   ],
   "metadata": {
    "collapsed": false
   }
  },
  {
   "cell_type": "markdown",
   "source": [
    "Построим ОМП:\n",
    "$P_{\\lambda}(X=k) = \\frac{\\lambda^k}{k!} \\cdot exp(-\\lambda)$ \n",
    "$L(\\overrightarrow{X};\\theta)=\\prod_{i=1}^{n}P_{\\lambda}(X_{i})=\\prod_{i=1}^{n}\\frac{\\lambda^{X_{i}}}{X_{i}!}\\cdot exp(-\\lambda)=\\frac{\\lambda^{\\sum_{i=1}^{n}X_{i}}}{\\prod_{i=1}^{n}(X_{i}!)}\\cdot exp(-n \\cdot \\lambda)$\n",
    "$LL(\\overrightarrow{X};\\theta)= \\sum_{i=1}^{n}X_{i}\\cdot \\ln(\\lambda)-\\ln(\\prod_{i=1}^{n}X_{i}!)-n\\cdot \\lambda$\n",
    "<br>\n",
    "$\\frac{\\partial LL(\\overrightarrow{X};\\theta)}{\\partial \\lambda} = \\frac{\\sum_{i=1}^{n}X_{i}}{\\lambda}-n$\n",
    "<br>\n",
    "$\\frac{\\sum_{i=1}^{n}X_{i}}{\\lambda}-n=0 \\to \\lambda=\\frac{1}{n}\\cdot \\sum_{i=1}^{n}X_{i}\\to \\widehat{\\theta}=\\widehat{\\lambda}=\\overline{X}$"
   ],
   "metadata": {
    "collapsed": false
   }
  },
  {
   "cell_type": "code",
   "execution_count": 1296,
   "outputs": [
    {
     "name": "stdout",
     "output_type": "stream",
     "text": [
      "3.08\n"
     ]
    }
   ],
   "source": [
    "x = np.mean(tab1)\n",
    "print(x)"
   ],
   "metadata": {
    "collapsed": false,
    "ExecuteTime": {
     "end_time": "2023-12-06T18:49:19.623753700Z",
     "start_time": "2023-12-06T18:49:16.648705600Z"
    }
   }
  },
  {
   "cell_type": "markdown",
   "source": [
    "$\\widehat{\\lambda}=\\overline{X}=3.08$\n",
    "\n",
    "##### Построим оценку $\\lambda$ по методу моментов:\n",
    "$P_{\\lambda}(X=k)=\\frac{\\lambda^{k}}{k!}\\cdot exp(-\\lambda)$\n",
    "\n",
    "Первый момент $\\mathbb{E}X_{1}=\\lambda;M_{1}=\\overline{X}$\n",
    "равен параметру, поскольку параметр одномерный, получится система из одного уравнения.\n",
    "$\\widetilde{\\theta}=\\widetilde{\\lambda}=\\overline{X}=3.08$\n",
    "\n",
    "Найдем смещение оценки:\n",
    "\n",
    "\n",
    "$g\\left(T(\\overrightarrow{X})\\right)=\\lambda^{\\sum_{i=1}^{n}X_{i}}\\cdot exp(-n\\cdot \\lambda)$\n",
    "<br>\n",
    "$h(\\overrightarrow{X})=\\frac{1}{\\prod_{i=1}^{n}X_{i}!}$\n",
    "\n",
    "МДС: $T=\\sum_{i=1}^{n}X_{i}$."
   ],
   "metadata": {
    "collapsed": false
   }
  },
  {
   "cell_type": "code",
   "execution_count": 1297,
   "outputs": [
    {
     "name": "stdout",
     "output_type": "stream",
     "text": [
      "154\n"
     ]
    }
   ],
   "source": [
    "x = sum(tab1)\n",
    "print(x)"
   ],
   "metadata": {
    "collapsed": false,
    "ExecuteTime": {
     "end_time": "2023-12-06T18:49:19.643716800Z",
     "start_time": "2023-12-06T18:49:16.663665200Z"
    }
   }
  },
  {
   "cell_type": "markdown",
   "source": [
    "$T=\\sum_{i=1}^{n}X_{i}=154$\n",
    "\n",
    "Поскольку распределение Пуассона из семейства экспоненциальных распределений, МДС будет являться и ПДС.\n",
    "\n",
    "$\\mathbb{E}_{\\lambda}\\overline{X}=\\mathbb{E}_{\\lambda}\\frac{1}{n}\\cdot \\sum_{i=1}^{n}x_{i}=\\frac{1}{n}\\cdot \\mathbb{E_{\\lambda}}\\sum_{i=1}^{n}x_{i}=\\frac{1}{n}\\cdot \\sum_{i=1}^{n}\\mathbb{E_{\\lambda}}X_{1}=\\frac{1}{n}\\cdot n\\cdot \\mathbb{E}_{\\lambda}X_{1}=\\lambda=3.08$ - НРМД-оценка"
   ],
   "metadata": {
    "collapsed": false
   }
  },
  {
   "cell_type": "markdown",
   "source": [
    "#### d)Построить асимптотический доверительный интервал уровня значимости $\\alpha_1$ для параметра $\\lambda$ на базе оценки максимального правдоподобия."
   ],
   "metadata": {
    "collapsed": false
   }
  },
  {
   "cell_type": "markdown",
   "source": [
    "##### На базе ОМП: \n",
    "$\\sqrt{n}\\left( \\widehat{\\theta}(\\overrightarrow{X})-\\theta \\right)\\sim N\\left( 0, \\frac{1}{I(\\theta)} \\right)$,\n",
    "\n",
    "$\\widehat{\\theta} = \\widehat{\\lambda}= \\widehat{X}$\n",
    "\n",
    "Информация Фишера:\n",
    "$\\frac{\\partial^{2} LL}{\\partial \\lambda^{2}} = -\\frac{\\sum_{i=1}^{n}X_{i}}{\\lambda^{2}}$\n",
    "$I(\\theta)=-\\mathbb{E}\\left( \\frac{\\partial^{2} LL}{\\partial \\lambda^{2}} \\right)=-\\mathbb{E}\\left( -\\frac{\\sum_{i=1}^{n}X_{i}}{\\lambda^{2}} \\right)=\\frac{n}{\\lambda^{2}}$\n",
    "Тогда $\\sqrt{n\\cdot I\\left(  \\widehat{\\theta}(\\overrightarrow{X})\\right)}\\left( \\widehat{\\theta}(\\overrightarrow{X})-\\theta \\right)\\sim N(0,1)$\n",
    "\n",
    "$\\alpha_1 = 0.05$,\n",
    "$X_{\\alpha}$: $\\mathrm{Ф}(X_{\\alpha})=1-\\frac{\\alpha_{1}}{2}=1-\\frac{0.05}{2}=0.975$"
   ],
   "metadata": {
    "collapsed": false
   }
  },
  {
   "cell_type": "code",
   "execution_count": 1298,
   "outputs": [
    {
     "name": "stdout",
     "output_type": "stream",
     "text": [
      "1.959963984540054\n"
     ]
    }
   ],
   "source": [
    "from scipy.stats import norm\n",
    "\n",
    "alpha = 0.05\n",
    "X_975 = norm.ppf(1 - alpha/2)\n",
    "\n",
    "print(X_975)"
   ],
   "metadata": {
    "collapsed": false,
    "ExecuteTime": {
     "end_time": "2023-12-06T18:49:19.651681500Z",
     "start_time": "2023-12-06T18:49:16.678624800Z"
    }
   }
  },
  {
   "cell_type": "markdown",
   "source": [
    "$X_{\\alpha}$: $\\mathrm{Ф}(X_{\\alpha})=1-\\frac{\\alpha_{1}}{2}=1-\\frac{0.05}{2}=0.975 \\to X_{0.975}=1.96$\n",
    "Асимптотический доверительный интервал уровня значимости 0.05 для параметра $\\lambda$\n",
    "$\\left[ \\overline{X}-\\frac{X_{0.975}}{\\sqrt{50\\cdot \\frac{50}{\\overline{X}}}}; \\overline{X}+\\frac{X_{0.975}}{\\sqrt{50\\cdot \\frac{50}{\\overline{X}}}}\\right] \\to 3.08-\\frac{1.96}{\\sqrt{50 \\cdot \\frac{50}{3.08}}} \\le \\lambda \\le 3.08+\\frac{1.96}{\\sqrt{50 \\cdot \\frac{50}{3.08}}} \\to 3.0112 \\le \\lambda \\le 3.1488$"
   ],
   "metadata": {
    "collapsed": false
   }
  },
  {
   "cell_type": "markdown",
   "source": [
    "##### На базе асимптотической нормальной оценки $\\widehat{\\theta}$:\n",
    "$\\sqrt{n}\\left( \\widehat{\\theta}(\\overrightarrow{X})-\\theta \\right)\\sim N(0,\\sigma^{2}(\\theta))$\n",
    "<br>\n",
    "$\\sqrt{n}\\frac{ \\widehat{\\theta}(\\overrightarrow{X})-\\theta}{\\sigma(\\widehat{\\theta})}\\sim N(0,1)$\n",
    "<br>\n",
    "$\\alpha_1 = 0.05$,\n",
    "$X_{\\alpha}$: $\\mathrm{Ф}(X_{\\alpha})=1-\\frac{\\alpha_{1}}{2}=1-\\frac{0.05}{2}=0.975 \\to X_{0.975}=1.96$\n",
    "<br>\n",
    "$-X_{0.975}\\le \\sqrt{n}\\cdot \\frac{\\widehat{\\lambda}-\\lambda}{\\sqrt{\\widehat{\\lambda}}}\\le X_{0.975}$\n",
    "<br>\n",
    "$\\widehat{\\lambda} - \\frac{X_{0.975} \\cdot \\sqrt{\\widehat{\\lambda}}}{\\sqrt{n}} \\le \\lambda \\le \\widehat{\\lambda} - \\frac{X_{0.975} \\cdot \\sqrt{\\widehat{\\lambda}}}{\\sqrt{n}} \\to 3.08 - \\frac{1.96 \\cdot \\sqrt{3.08}}{\\sqrt{50}} \\le \\lambda \\le 3.08 + \\frac{1.96 \\cdot \\sqrt{3.08}}{\\sqrt{50}} \\to 2.5935 \\le \\lambda \\le 3.5665$"
   ],
   "metadata": {
    "collapsed": false
   }
  },
  {
   "cell_type": "markdown",
   "source": [
    "#### e)Используя гистограмму частот, построить критерий значимости $\\chi^2$ проверки простой гипотезы согласия с распределением Пуассона с параметром $\\lambda_0$. Проверить гипотезу на уровне значимости $\\alpha_1$. Вычислить наибольшее значение уровня значимости, на котором еще нет оснований отвергнуть данную гипотезу."
   ],
   "metadata": {
    "collapsed": false
   }
  },
  {
   "cell_type": "code",
   "execution_count": 1299,
   "outputs": [
    {
     "name": "stdout",
     "output_type": "stream",
     "text": [
      "0: 12 раз(а)\n",
      "1: 15 раз(а)\n",
      "2: 9 раз(а)\n",
      "3: 2 раз(а)\n",
      "4: 1 раз(а)\n",
      "5: 2 раз(а)\n",
      "7: 2 раз(а)\n",
      "9: 1 раз(а)\n",
      "11: 1 раз(а)\n",
      "13: 4 раз(а)\n",
      "15: 1 раз(а)\n",
      "[0, 1, 2, 3, 4, 5, 7, 9, 11, 13, 15]\n",
      "[12, 15, 9, 2, 1, 2, 2, 1, 1, 4, 1]\n"
     ]
    }
   ],
   "source": [
    "count_dict = {}\n",
    "for digit in tab1:\n",
    "    if digit in count_dict:\n",
    "        count_dict[digit] += 1\n",
    "    else:\n",
    "        count_dict[digit] = 1\n",
    "\n",
    "sorted_digits = sorted(count_dict.keys())\n",
    "\n",
    "unique_digits = sorted(count_dict.keys())\n",
    "frequencies = [count_dict[digit] for digit in unique_digits]\n",
    "\n",
    "for digit in sorted_digits:\n",
    "    print(f\"{digit}: {count_dict[digit]} раз(а)\")\n",
    "    \n",
    "print(unique_digits)\n",
    "print(frequencies)"
   ],
   "metadata": {
    "collapsed": false,
    "ExecuteTime": {
     "end_time": "2023-12-06T18:49:19.651681500Z",
     "start_time": "2023-12-06T18:49:16.693584200Z"
    }
   }
  },
  {
   "cell_type": "markdown",
   "source": [
    "$P_i=P_{H0}=P\\left(X\\in I_i\\right)={\\textstyle\\underset{k\\in I_i}{\\sum{\\displaystyle\\frac{\\lambda_0^k}{k!}}exp(-\\lambda_0)}}$<br>\n",
    "Критерий $\\chi^2:\\;{\\chi^2}_{sel}={\\textstyle\\sum_{i=1}^m}\\;\\frac{n_i-nP_i}{nP_i}$ где m=4 - количество групп<br>\n",
    "\n",
    "Определим:\n",
    "$I_1 = [0]$ - группа №1 (12 элементов)\n",
    "$I_2 = [1]$ - группа №2 (15 элементов)\n",
    "$I_3 = [2,3,4]$ - группа №3 (12 элементов)\n",
    "$I_4 = [5,7,9,11,13,15]$ - группа №4 (11 элементов)\n"
   ],
   "metadata": {
    "collapsed": false
   }
  },
  {
   "cell_type": "code",
   "execution_count": 1300,
   "outputs": [
    {
     "name": "stdout",
     "output_type": "stream",
     "text": [
      "[0.0024787521766663585, 0.014872513059998151, 0.26770523507996674, 0.3957578144940817]\n",
      "[12, 15, 12, 11]\n",
      "1415.3602\n",
      "7.8147\n"
     ]
    }
   ],
   "source": [
    "import numpy as np\n",
    "from scipy import stats\n",
    "\n",
    "def factorial(n):\n",
    "    result = 1\n",
    "    for i in range(1, n + 1):\n",
    "        result *= i\n",
    "    return result\n",
    "\n",
    "def poisson_distribution(lambda_param, k):\n",
    "    return lambda_param**k / factorial(k) * np.exp(-lambda_param)\n",
    "\n",
    "def merge_arr(P, N_i, index, merge_index):\n",
    "    P[merge_index] += P[index]\n",
    "    N_i[merge_index] += N_i[index]\n",
    "    del P[index]\n",
    "    del N_i[index]\n",
    "    return P, N_i\n",
    "\n",
    "lambda_0 = 6\n",
    "alpha = 0.05\n",
    "N = 50\n",
    "\n",
    "\n",
    "P = [poisson_distribution(lambda_0, k) for k in unique_digits]\n",
    "N_i = frequencies.copy()\n",
    "\n",
    "i1 = [3, 3, 4, 4, 4, 4, 4]\n",
    "i2 = [2, 2, 3, 3, 3, 3, 3]\n",
    "\n",
    "for i in range(7):\n",
    "    P, N_i = merge_arr(P, N_i, i1[i], i2[i])\n",
    "\n",
    "print(P)\n",
    "print(N_i)\n",
    "\n",
    "criteria = 0\n",
    "for i in range(len(P)):\n",
    "    criteria += ((N_i[i] - N * P[i])**2) / (N * P[i])\n",
    "\n",
    "print(round(criteria, 4))\n",
    "\n",
    "chi_value = stats.chi2.ppf(1 - alpha, len(P) - 1)\n",
    "print(round(chi_value, 4))\n"
   ],
   "metadata": {
    "collapsed": false,
    "ExecuteTime": {
     "end_time": "2023-12-06T18:49:19.690608600Z",
     "start_time": "2023-12-06T18:49:16.709542100Z"
    }
   }
  },
  {
   "cell_type": "markdown",
   "source": [
    "Критерий $\\chi^2$ наблюдаемый = 1415.3602\n",
    "Значение $\\chi^2$ при уровне значимости 0.05 и 3 степенях свободы = 7.8147\n",
    "Так как $\\chi^2>\\chi_{3;0.05}^2$, то по критерию Пирсона отвергаем гипотезу. Значение наблюдаемого критерия превышает критическое значение из распределения хи-квадрат с указанными степенями свободы и уровнем значимости."
   ],
   "metadata": {
    "collapsed": false
   }
  },
  {
   "cell_type": "code",
   "execution_count": 1301,
   "outputs": [
    {
     "name": "stdout",
     "output_type": "stream",
     "text": [
      "0.0\n"
     ]
    }
   ],
   "source": [
    "x= stats.chi2.cdf(criteria, len(P)-1)\n",
    "print(1-round(x,5))"
   ],
   "metadata": {
    "collapsed": false,
    "ExecuteTime": {
     "end_time": "2023-12-06T18:49:19.690608600Z",
     "start_time": "2023-12-06T18:49:16.739462200Z"
    }
   }
  },
  {
   "cell_type": "markdown",
   "source": [
    "Наибольшее значение уровня значимости при котором нет оснований отвергнуть данную гипотезу: $\\alpha$ = 0 ($\\alpha$ стремится к 0)"
   ],
   "metadata": {
    "collapsed": false
   }
  },
  {
   "cell_type": "markdown",
   "source": [
    "#### f)Построить критерий значимости $\\chi^2$ проверки сложной гипотезы согласия с распределением Пуассона. Проверить гипотезу на уровне значимости $\\alpha_1$. Вычислить наибольшее значение уровня значимости, на котором еще нет оснований отвергнуть данную гипотезу.\n",
    "$P_i=P_{H0}=P\\left(X\\in I_i\\right)={\\textstyle\\underset{k\\in I_i}{\\sum{\\displaystyle\\frac{\\overline x^k}{k!}}exp(-\\overline x)}}$<br>\n",
    "Критерий $\\chi^2:\\;{\\chi^2}_{sel}={\\textstyle\\sum_{i=1}^m}\\;\\frac{n_i-nP_i}{nP_i}$ где m=4 - количество групп<br>\n",
    "Определим:\n",
    "$I_1 = [0]$ - группа №1 (12 элементов)\n",
    "$I_2 = [1]$ - группа №2 (15 элементов)\n",
    "$I_3 = [2,3,4]$ - группа №3 (12 элементов)\n",
    "$I_4 = [5,7,9,11,13,15]$ - группа №4 (11 элементов)"
   ],
   "metadata": {
    "collapsed": false
   }
  },
  {
   "cell_type": "code",
   "execution_count": 1302,
   "outputs": [
    {
     "name": "stdout",
     "output_type": "stream",
     "text": [
      "[0.045959256649044204, 0.14155451047905615, 0.6141325450592594, 0.13358221800808254]\n",
      "[12, 15, 12, 11]\n",
      "64.0212\n",
      "5.9915\n"
     ]
    }
   ],
   "source": [
    "P=[]\n",
    "for k in unique_digits:\n",
    "    P.append(poisson_distribution(3.08, k))\n",
    "\n",
    "N_i = []\n",
    "for i in frequencies:\n",
    "    N_i.append(i)\n",
    "\n",
    "alpha = 0.05\n",
    "N=50\n",
    "i1 = [3, 3, 4, 4, 4, 4, 4]\n",
    "i2 = [2, 2, 3, 3, 3, 3, 3]\n",
    "\n",
    "for i in range(7):\n",
    "    P, N_i = merge_arr(P, N_i, i1[i], i2[i])\n",
    "print(P)\n",
    "print(N_i)\n",
    "criteria = 0\n",
    "for i in range(0, len(P)):\n",
    "    criteria += ((N_i[i] - N*P[i])**2)/(N*P[i])\n",
    "print(round(criteria,4))\n",
    "chi_value = stats.chi2.ppf(1-alpha, len(P)-2)\n",
    "print(round(chi_value,4))"
   ],
   "metadata": {
    "collapsed": false,
    "ExecuteTime": {
     "end_time": "2023-12-06T18:49:19.792339900Z",
     "start_time": "2023-12-06T18:49:16.754422200Z"
    }
   }
  },
  {
   "cell_type": "markdown",
   "source": [
    "Критерий $\\chi^2$ наблюдаемый = 64.0212\n",
    "Значение $\\chi^2$ при уровне значимости 0.05 и 2 степенях свободы = 5.9915\n",
    "Так как $\\chi^2>\\chi_{2;0.05}^2$, то по критерию Пирсона отвергаем гипотезу. Значение наблюдаемого критерия превышает критическое значение из распределения хи-квадрат с указанными степенями свободы и уровнем значимости."
   ],
   "metadata": {
    "collapsed": false
   }
  },
  {
   "cell_type": "code",
   "execution_count": 1303,
   "outputs": [
    {
     "name": "stdout",
     "output_type": "stream",
     "text": [
      "0.0\n"
     ]
    }
   ],
   "source": [
    "x = stats.chi2.cdf(criteria, len(P)-2)\n",
    "print(round(1-x,3))"
   ],
   "metadata": {
    "collapsed": false,
    "ExecuteTime": {
     "end_time": "2023-12-06T18:49:19.819267200Z",
     "start_time": "2023-12-06T18:49:16.769382700Z"
    }
   }
  },
  {
   "cell_type": "markdown",
   "source": [
    "Наибольшее значение уровня значимости при котором нет оснований отвергнуть данную гипотезу: $\\alpha$ = 0 ($\\alpha$ стремится к 0)"
   ],
   "metadata": {
    "collapsed": false
   }
  },
  {
   "cell_type": "markdown",
   "source": [
    "#### g)Построить наиболее мощный критерий проверки простой гипотезы пуассоновости с параметром $\\lambda = \\lambda_0$ при альтернативе пуассоновости с параметром $\\lambda = \\lambda_1$. Проверить гипотезу на уровне значимости $\\alpha_1$. Что получится, если поменять местами основную и альтернативные гипотезы? \n",
    "Основная гипотеза формулируется следующим образом:$H_0 : \\lambda = \\lambda_0$\n",
    "Альтернативная гипотеза выражается как: $H_A : \\lambda = \\lambda_1$\n",
    "Функция правдоподобия принимает следующий вид: $L\\left(\\overrightarrow{X}, \\theta\\right) = \\prod_{i=1}^{n}\\frac{\\lambda^{x_i}}{x_i!}\\exp(-\\lambda) = \\exp(-n\\lambda)\\lambda^{\\sum_{i=1}^{n}{x_i}}\\prod_{i=1}^{n}\\frac{1}{x_i!}$\n",
    "Затем статистика отношения правдоподобия определяется как:\n",
    "$LR\\left(\\overrightarrow{X}, \\lambda_0, \\lambda_1\\right) = \\frac{L\\left(\\overrightarrow{X}, \\lambda_1\\right)}{L\\left(\\overrightarrow{X}, \\lambda_0\\right)} = \\exp(-n(\\lambda_1 - \\lambda_0))\\left(\\frac{\\lambda_1}{\\lambda_0}\\right)^{\\sum_{i=1}^{n}{x_i}}$\n",
    "\n",
    "Поскольку $LR\\left(\\overrightarrow{X}, \\lambda_0, \\lambda_1\\right)$ монотонно зависит от выборочного среднего $\\bar{X}$\n",
    "$LR\\left(\\overrightarrow{X}\\right) = \\exp(-n(\\lambda_1 - \\lambda_0))\\left(\\frac{\\lambda_1}{\\lambda_0}\\right)^{\\sum_{i=1}^{n}{x_i}} > c \\iff -n(\\lambda_1 - \\lambda_0) + \\sum_{i=1}^{n}{x_i} \\ln\\frac{\\lambda_1}{\\lambda_0} > \\ln c \\iff \\bar{X} > \\frac{\\ln c + n(\\lambda_1 - \\lambda_0)}{n\\ln\\frac{\\lambda_1}{\\lambda_0}} = c^*$\n",
    "$LR\\left(\\overrightarrow{X}\\right) < c \\iff \\bar{X} < c^*$\n",
    "Рассмотрим уравнение: \n",
    "$P_{\\lambda_0}\\left(LR(\\overrightarrow{X}) > c\\right) + pP_{\\lambda_0}\\left(LR(\\overrightarrow{X}) = c\\right) = \\alpha_1$\n",
    "$P_{\\lambda_0}\\left(n\\bar{X} > nc^*\\right) + pP_{\\lambda_0}\\left(n\\bar{X} = nc^*\\right) = \\alpha_1$\n",
    "В случае, когда, $LR(\\overrightarrow{X}) = c$ критерий неоднозначен.\n",
    "Предположим, что $LR(\\overrightarrow{X}) \\neq c$\n",
    "\n",
    "Тогда $P_{\\lambda_0}\\left(n\\bar{X} > nc^*\\right) = 1 - F_{Pois(n\\lambda_0)}\\left(nc^*\\right) = \\alpha_1$\n",
    "\n",
    "$F_{Pois(n\\lambda_0)}\\left(nc^*\\right) = 1 - \\alpha_1 = 0.95$\n"
   ],
   "metadata": {
    "collapsed": false
   }
  },
  {
   "cell_type": "code",
   "execution_count": 1304,
   "outputs": [
    {
     "name": "stdout",
     "output_type": "stream",
     "text": [
      "6.58\n",
      "3.08\n"
     ]
    }
   ],
   "source": [
    "lambda_0 = 6\n",
    "print(stats.poisson.ppf(0.95, len(tab1)*lambda_0) / len(tab1))\n",
    "print(np.mean(tab1))"
   ],
   "metadata": {
    "collapsed": false,
    "ExecuteTime": {
     "end_time": "2023-12-06T18:49:19.857130700Z",
     "start_time": "2023-12-06T18:49:16.785339600Z"
    }
   }
  },
  {
   "cell_type": "markdown",
   "source": [
    "$c^* = 6.58$\n",
    "<br>\n",
    "$\\bar{X} = 3.08$\n",
    "\n",
    "$c^* > \\bar{X}$ следовательно принимаем гипотезу $H_0$\n",
    "Поменяем местами гипотезы.\n",
    "Основная гипотеза принимает форму:$H_0 : \\lambda = \\lambda_1$\n",
    "Альтернативная гипотеза формулируется как: $H_A : \\lambda = \\lambda_0$\n",
    "Таким образом, статистика отношения правдоподобия выглядит следующим образом:\n",
    "$LR\\left(\\overrightarrow{X}, \\lambda_1, \\lambda_0\\right) = \\frac{L\\left(\\overrightarrow{X}, \\lambda_0\\right)}{L\\left(\\overrightarrow{X}, \\lambda_1\\right)} = \\exp(-n(\\lambda_0 - \\lambda_1))\\left(\\frac{\\lambda_0}{\\lambda_1}\\right)^{\\sum_{i=1}^{n}{x_i}}$\n",
    "Поскольку $LR\\left(\\overrightarrow{X}, \\lambda_1, \\lambda_0\\right)$ монотонно зависит от выборочного среднего $\\bar{X}$:\n",
    "$LR\\left(\\overrightarrow{X}\\right) > c \\iff \\bar{X} > c^*$\n",
    "Решим уравнение: \n",
    " $P_{\\lambda_1}\\left(LR(\\overrightarrow{X}) > c\\right) + pP_{\\lambda_1}\\left(LR(\\overrightarrow{X}) = c\\right) = \\alpha_1$\n",
    " $P_{\\lambda_1}\\left(n\\bar{X} > nc^*\\right) + pP_{\\lambda_1}\\left(n\\bar{X} = nc^*\\right) = \\alpha_1$\n",
    "В случае, когда $LR(\\overrightarrow{X}) = c$, критерий неоднозначен.\n",
    "Предположим, что $LR(\\overrightarrow{X}) \\neq c$\n",
    "\n",
    "Тогда $P_{\\lambda_1}\\left(n\\bar{X} > nc^*\\right) = 1 - F_{Pois(n\\lambda_1)}\\left(nc^*\\right) = \\alpha_1$\n",
    "\n",
    "$F_{Pois(n\\lambda_1)}\\left(nc^*\\right) = 1 - \\alpha_1 = 0.95$"
   ],
   "metadata": {
    "collapsed": false
   }
  },
  {
   "cell_type": "code",
   "execution_count": 1305,
   "outputs": [
    {
     "name": "stdout",
     "output_type": "stream",
     "text": [
      "3.4\n",
      "3.08\n"
     ]
    }
   ],
   "source": [
    "lambda_1 = 3\n",
    "print(stats.poisson.ppf(0.95, len(tab1)*lambda_1) / len(tab1))\n",
    "print(np.mean(tab1))"
   ],
   "metadata": {
    "collapsed": false,
    "ExecuteTime": {
     "end_time": "2023-12-06T18:49:19.858128100Z",
     "start_time": "2023-12-06T18:49:16.802294700Z"
    }
   }
  },
  {
   "cell_type": "markdown",
   "source": [
    "$c^* = 3.52$\n",
    "<br>\n",
    "$\\bar{X} = 3.08$\n",
    "\n",
    "$c^* > \\bar{X}$ следовательно принимаем гипотезу $H_0$"
   ],
   "metadata": {
    "collapsed": false
   }
  },
  {
   "cell_type": "markdown",
   "source": [
    "#### h.c)В предположении, что исходные наблюдения являются выборкой из геометрического распределения, построить оценку максимального правдоподобия параметра $\\lambda$, а также оценку $\\lambda$ по методу моментов. Найти смещение оценок.\n",
    "Построим ОМП:\n",
    "$P_{\\lambda}(X=k)=\\frac{\\lambda^{k}}{(\\lambda+1)^{k+1}}, k \\in \\mathbb{Z}_{+}$\n",
    "<br>\n",
    "$L(\\overrightarrow{X};\\theta)=\\prod_{i=1}^{n}\\frac{\\lambda^{X_{i}}}{(\\lambda+1)^{X_{i}+1}}=\\frac{\\lambda^{\\sum_{i=1}^{n}X_{i}}}{(\\lambda+1)^{\\sum_{i=1}^{n}X_{i}+n}} $\n",
    "<br>\n",
    "\n",
    "$LL(\\overrightarrow{X};\\theta)= \\sum_{i=1}^{n}X_{i}\\cdot \\ln(\\lambda)-(\\sum_{i=1}^{n}X_{i}+n)\\ln(\\lambda+1)$\n",
    "<br>\n",
    "$\\frac{\\partial LL(\\overrightarrow{X};\\theta)}{\\partial \\lambda} = \\frac{\\sum_{i=1}^{n}X_{i}}{\\lambda}-\\frac{\\sum_{i=1}^{n}X_{i}+n}{\\lambda+1}$\n",
    "<br>\n",
    "$\\frac{\\sum_{i=1}^{n}X_{i}}{\\lambda}-\\frac{\\sum_{i=1}^{n}X_{i}+n}{\\lambda+1}=0\\to \\frac{\\lambda}{\\sum_{i=1}^{n}X_{i}}=\\frac{\\lambda+1}{\\sum_{i=1}^{n}X_{i}+n}\\to \\lambda\\cdot \\sum_{i=1}^{n}X_{i}+\\lambda \\cdot n = \\lambda\\cdot \\sum_{i=1}^{n}X_{i}+\\sum_{i=1}^{n}X_{i}\\to \\lambda \\cdot n =\\sum_{i=1}^{n}X_{i} \\to \\lambda=\\frac{\\sum_{i=1}^{n}X_{i}}{n}=\\overline{X}\\to \\widehat{\\theta}=\\widehat{\\lambda}=\\overline{X}$"
   ],
   "metadata": {
    "collapsed": false
   }
  },
  {
   "cell_type": "code",
   "execution_count": 1306,
   "outputs": [
    {
     "name": "stdout",
     "output_type": "stream",
     "text": [
      "3.08\n"
     ]
    }
   ],
   "source": [
    "x = np.mean(tab1)\n",
    "print(x)"
   ],
   "metadata": {
    "collapsed": false,
    "ExecuteTime": {
     "end_time": "2023-12-06T18:49:19.858128100Z",
     "start_time": "2023-12-06T18:49:16.816257200Z"
    }
   }
  },
  {
   "cell_type": "markdown",
   "source": [
    "$\\widehat{\\lambda}=\\overline{X}=3.08$\n",
    "\n",
    "##### Построим оценку $\\lambda$ по методу моментов:\n",
    "$P_{\\lambda}(X=k)=\\frac{\\lambda^{k}}{(\\lambda +1)^{k+1}}$\n",
    "\n",
    "Первый момент $\\mathbb{E}X_{1}=\\lambda;M_{1}=\\overline{X}$\n",
    "равен $\\frac{1}{параметр}$, поскольку параметр одномерный, получится система из одного уравнения.\n",
    "\n",
    "$\\widetilde{\\theta}=\\widetilde{\\lambda}=\\overline{X}$\n"
   ],
   "metadata": {
    "collapsed": false
   }
  },
  {
   "cell_type": "code",
   "execution_count": 1307,
   "outputs": [
    {
     "name": "stdout",
     "output_type": "stream",
     "text": [
      "3.08\n"
     ]
    }
   ],
   "source": [
    "x = np.mean(tab1)\n",
    "print(x)"
   ],
   "metadata": {
    "collapsed": false,
    "ExecuteTime": {
     "end_time": "2023-12-06T18:49:19.896026500Z",
     "start_time": "2023-12-06T18:49:16.831217200Z"
    }
   }
  },
  {
   "cell_type": "markdown",
   "source": [
    "$\\widetilde{\\theta}=\\widetilde{\\lambda}=\\overline{X}=3.08$\n",
    "<br>\n",
    "\n",
    "Найдем смещение оценки:\n",
    "\n",
    "\n",
    "$g\\left(T(\\overrightarrow{X})\\right)=\\frac{\\lambda^{\\sum_{i=1}^{n}X_{i}}}{(\\lambda+1)^{\\sum_{i=1}^{n}X_{i}+n}}$\n",
    "<br>\n",
    "$h(\\overrightarrow{X})=1$\n",
    "\n",
    "МДС: $T=\\sum_{i=1}^{n}X_{i}$.\n"
   ],
   "metadata": {
    "collapsed": false
   }
  },
  {
   "cell_type": "code",
   "execution_count": 1308,
   "outputs": [
    {
     "name": "stdout",
     "output_type": "stream",
     "text": [
      "154\n"
     ]
    }
   ],
   "source": [
    "x = sum(tab1)\n",
    "print(x)"
   ],
   "metadata": {
    "collapsed": false,
    "ExecuteTime": {
     "end_time": "2023-12-06T18:49:19.897030400Z",
     "start_time": "2023-12-06T18:49:16.843184300Z"
    }
   }
  },
  {
   "cell_type": "markdown",
   "source": [
    "ㅤ$T=\\sum_{i=1}^{n}X_{i}=154$\n",
    "Так как геометрическое распределение является частью семейства экспоненциальных распределений, МДС будет являться и ПДС.\n",
    "$\\mathbb{E}_{\\lambda}\\widehat{\\lambda}=\\mathbb{E}_{\\lambda}\\overline{X}=\\mathbb{E}_{\\lambda}\\frac{1}{n}\\cdot \\sum_{i=1}^{n}Х_{i}=\\frac{1}{n}\\cdot \\mathbb{E_{\\lambda}}\\sum_{i=1}^{n}X_{i}=\\frac{1}{n}\\cdot \\sum_{i=1}^{n}\\mathbb{E_{\\lambda}}X_{1}=\\frac{1}{n}\\cdot n\\cdot \\mathbb{E}_{\\lambda}X_{1}=\\lambda=3.08$ - НРМД-оценка"
   ],
   "metadata": {
    "collapsed": false
   }
  },
  {
   "cell_type": "markdown",
   "source": [
    "#### h.d)Построить асимптотический доверительный интервал уровня значимости $\\alpha_1$ для параметра $\\lambda$ на базе оценки максимального правдоподобия. (для геометрического распределения)\n",
    "##### На базе ОМП:\n",
    "\n",
    "$\\sqrt{n}\\left( \\widehat{\\theta}(\\overrightarrow{X})-\\theta \\right)\\sim N\\left( 0, \\frac{1}{I(\\theta)} \\right)$\n",
    "\n",
    "$\\widehat{\\theta}=\\widehat{\\lambda}=\\overline{X}$\n",
    "\n",
    "Информация Фишера:\n",
    "$I(\\theta)=-\\mathbb{E}\\left( \\frac{\\partial^{2} LL}{\\partial \\lambda^{2}} \\right)=-\\mathbb{E}\\left( -\\frac{\\sum_{i=1}^{n}X_{i}}{\\lambda^{2}}+\\frac{\\sum_{i=1}^{n}X_{i}+n}{(\\lambda +1)^{2}} \\right)=\\frac{n}{\\lambda^{2}}-\\frac{n}{(\\lambda+1)^{2}}-\\frac{n}{(\\lambda+1)^{2}}=\\frac{n(\\lambda^{2}+1)}{(\\lambda+1)^{2}\\cdot \\lambda^{2}}$\n",
    "\n",
    "Тогда $\\sqrt{n\\cdot I\\left(  \\widehat{\\theta}(\\overrightarrow{X})\\right)}\\left( \\widehat{\\theta}(\\overrightarrow{X})-\\theta \\right)\\sim N(0,1)$\n",
    "\n",
    "$\\alpha_1 = 0.05$,"
   ],
   "metadata": {
    "collapsed": false
   }
  },
  {
   "cell_type": "code",
   "execution_count": 1309,
   "outputs": [
    {
     "name": "stdout",
     "output_type": "stream",
     "text": [
      "1.959963984540054\n"
     ]
    }
   ],
   "source": [
    "from scipy.stats import norm\n",
    "\n",
    "alpha = 0.05\n",
    "X_975 = norm.ppf(1 - alpha/2)\n",
    "\n",
    "print(X_975)"
   ],
   "metadata": {
    "collapsed": false,
    "ExecuteTime": {
     "end_time": "2023-12-06T18:49:19.923991Z",
     "start_time": "2023-12-06T18:49:16.860140Z"
    }
   }
  },
  {
   "cell_type": "markdown",
   "source": [
    "$X_{\\alpha}$: $\\mathrm{Ф}(X_{\\alpha})=1-\\frac{\\alpha_{1}}{2}=1-\\frac{0.05}{2}=0.975 \\to X_{0.975}=1.96$\n",
    "Асимптотический доверительный интервал уровня значимости 0.05 для параметра $\\lambda$\n",
    "$ \\left[ \\overline{X}-\\frac{X_{0.975}}{\\sqrt{n\\cdot \\frac{n(\\widehat{\\lambda^{2}}+1)}{(\\widehat{\\lambda}+1)^{2}\\cdot \\widehat{\\lambda^{2}}}}};\\overline{X}+\\frac{X_{0.975}}{\\sqrt{n\\cdot \\frac{n(\\widehat{\\lambda^{2}}+1)}{(\\widehat{\\lambda}+1)^{2}\\cdot \\widehat{\\lambda^{2}}}}} \\right]\\to 2.97664\\le \\lambda\\le 3.18336$"
   ],
   "metadata": {
    "collapsed": false
   }
  },
  {
   "cell_type": "markdown",
   "source": [
    "##### На базе асимптотической нормальной оценки $\\widehat{\\theta}$:\n",
    "\n",
    "$\\sqrt{n}\\left( \\widehat{\\theta}(\\overrightarrow{X})-\\theta \\right)\\sim N(0,\\sigma^{2}(\\theta))$\n",
    "<br>\n",
    "$\\sqrt{n}\\frac{ \\widehat{\\theta}(\\overrightarrow{X})-\\theta}{\\sigma(\\widehat{\\theta})}\\sim N(0,1)$\n",
    "<br>\n",
    "$X_{\\alpha}: \\mathrm{Ф(X_{\\alpha})}=0.975\\to X_{0.975}=1.96$\n",
    "<br>\n",
    "$-X_{0.975}\\le \\sqrt{n}\\cdot \\frac{\\widehat{\\lambda}-\\lambda}{\\sqrt{\\widehat{\\lambda}(\\widehat{\\lambda}+1)}}\\le X_{0.975}$\n",
    "<br>\n",
    "$\\widehat{\\lambda}-\\frac{\\sqrt{\\widehat{\\lambda}(\\widehat{\\lambda}+1)} \\cdot X_{0.975}}{\\sqrt{n}} \\le \\lambda \\le \\widehat{\\lambda}+\\frac{\\sqrt{\\widehat{\\lambda}(\\widehat{\\lambda}+1)} \\cdot X_{0.975}}{\\sqrt{n}} \\to 2.0974 \\le \\lambda \\le 4.0626$\n"
   ],
   "metadata": {
    "collapsed": false
   }
  },
  {
   "cell_type": "markdown",
   "source": [
    "#### h.e)Используя гистограмму частот, построить критерий значимости $\\chi^2$ проверки простой гипотезы согласия с геометрическим распределением с параметром $\\lambda_0$. Проверить гипотезу на уровне значимости $\\alpha_1$. Вычислить наибольшее значение уровня значимости, на котором еще нет оснований отвергнуть данную гипотезу.(для геометрического распределения)\n",
    "Определим:\n",
    "$I_1 = [0]$ - группа №1 (12 элементов)\n",
    "$I_2 = [1]$ - группа №2 (15 элементов)\n",
    "$I_3 = [2,3,4]$ - группа №3 (12 элементов)\n",
    "$I_4 = [5,7,9,11,13,15]$ - группа №4 (11 элементов)\n",
    "$P_i=P_{H0}=P\\left(X\\in I_i\\right)=\\textstyle\\underset{k\\in I_i}{\\sum{\\displaystyle\\frac{\\lambda_0^k}{{(\\lambda_0+1)}^{k+1}}}}$<br>\n",
    "Критерий $\\chi^2:\\;{\\chi^2}_{sel}={\\textstyle\\sum_{i=1}^m}\\;\\frac{n_i-nP_i}{nP_i}$ где m=4 - количество групп<br>"
   ],
   "metadata": {
    "collapsed": false
   }
  },
  {
   "cell_type": "code",
   "execution_count": 1310,
   "outputs": [
    {
     "name": "stdout",
     "output_type": "stream",
     "text": [
      "[0.14285714285714285, 0.12244897959183673, 0.27202951151306004, 0.2099474325283306]\n",
      "[12, 15, 12, 11]\n",
      "16.3879\n",
      "7.8147\n"
     ]
    }
   ],
   "source": [
    "from scipy import stats\n",
    "def factorial(n):\n",
    "    result = 1\n",
    "    for i in range(1, n + 1):\n",
    "        result *= i\n",
    "    return result\n",
    "\n",
    "def geom_distribution(lambda_param,k):\n",
    "    return lambda_param**k/(lambda_param+1)**(k+1)\n",
    "\n",
    "def merge_arr(P,N_i,index, merge_index):\n",
    "    P[merge_index]+=P[index]\n",
    "    N_i[merge_index]+=N_i[index]\n",
    "    del P[index]\n",
    "    del N_i[index]\n",
    "    return P, N_i\n",
    "\n",
    "lambda_0 = 6\n",
    "alpha = 0.05\n",
    "N=50\n",
    "P=[]\n",
    "for k in unique_digits:\n",
    "    P.append(geom_distribution(lambda_0, k))\n",
    "N_i = []\n",
    "for i in frequencies:\n",
    "    N_i.append(i)\n",
    "i1 = [3,3,4,4,4,4,4]\n",
    "i2 = [2,2,3,3,3,3,3]\n",
    "for i in range(0,7):\n",
    "    P, N_i = merge_arr(P,N_i, i1[i], i2[i])\n",
    "\n",
    "print(P)\n",
    "print(N_i)\n",
    "\n",
    "criteria = 0\n",
    "for i in range(0, len(P)):\n",
    "    criteria += ((N_i[i] - N*P[i])**2)/(N*P[i])\n",
    "print(round(criteria,4))\n",
    "chi_value = stats.chi2.ppf(1-alpha, len(P)-1)\n",
    "print(round(chi_value,4))"
   ],
   "metadata": {
    "collapsed": false,
    "ExecuteTime": {
     "end_time": "2023-12-06T18:49:19.923991Z",
     "start_time": "2023-12-06T18:49:16.876096800Z"
    }
   }
  },
  {
   "cell_type": "markdown",
   "source": [
    "Критерий $\\chi^2$ наблюдаемый = 16.3879\n",
    "Значение $\\chi^2$ при уровне значимости 0.05 и 3 степенях свободы = 7.8147\n",
    "Так как $\\chi^2>\\chi_{3;0.05}^2$, то по критерию Пирсона отвергаем гипотезу. Значение наблюдаемого критерия превышает критическое значение из распределения хи-квадрат с указанными степенями свободы и уровнем значимости."
   ],
   "metadata": {
    "collapsed": false
   }
  },
  {
   "cell_type": "code",
   "execution_count": 1311,
   "outputs": [
    {
     "name": "stdout",
     "output_type": "stream",
     "text": [
      "0.00094\n"
     ]
    }
   ],
   "source": [
    "x = stats.chi2.cdf(criteria, len(P)-1)\n",
    "print(round(1-round(x,5),6))"
   ],
   "metadata": {
    "collapsed": false,
    "ExecuteTime": {
     "end_time": "2023-12-06T18:49:19.924982200Z",
     "start_time": "2023-12-06T18:49:16.891056500Z"
    }
   }
  },
  {
   "cell_type": "markdown",
   "source": [
    "Наибольшее значение уровня значимости при котором нет оснований отвергнуть данную гипотезу: $\\alpha$ = 0.00094"
   ],
   "metadata": {
    "collapsed": false
   }
  },
  {
   "cell_type": "markdown",
   "source": [
    "#### h.f)Построить критерий значимости $\\chi^2$ проверки сложной гипотезы согласия с геометрическим распределением. Проверить гипотезу на уровне значимости $\\alpha_1$. Вычислить наибольшее значение уровня значимости, на котором еще нет оснований отвергнуть данную гипотезу.\n",
    "Определим:\n",
    "$I_1 = [0]$ - группа №1 (12 элементов)\n",
    "$I_2 = [1]$ - группа №2 (15 элементов)\n",
    "$I_3 = [2,3,4]$ - группа №3 (12 элементов)\n",
    "$I_4 = [5,7,9,11,13,15]$ - группа №4 (11 элементов)\n",
    "$P_i=P_{H0}=P\\left(X\\in I_i\\right)=\\textstyle\\underset{k\\in I_i}{\\sum{\\displaystyle\\frac{\\overline x^k}{{(\\overline x+1)}^{k+1}}}}$<br>\n",
    "Критерий $\\chi^2:\\;{\\chi^2}_{sel}={\\textstyle\\sum_{i=1}^m}\\;\\frac{n_i-nP_i}{nP_i}$ где m=4 - количество групп<br>"
   ],
   "metadata": {
    "collapsed": false
   }
  },
  {
   "cell_type": "code",
   "execution_count": 1312,
   "outputs": [
    {
     "name": "stdout",
     "output_type": "stream",
     "text": [
      "[0.24509803921568626, 0.1850249903883122, 0.3247151897405619, 0.1349160756512855]\n",
      "[12, 15, 12, 11]\n",
      "7.3655\n",
      "5.9915\n"
     ]
    }
   ],
   "source": [
    "lambda_0 = 6\n",
    "alpha = 0.05\n",
    "N=50\n",
    "P=[]\n",
    "for k in unique_digits:\n",
    "    P.append(geom_distribution(3.08, k))\n",
    "N_i = []\n",
    "for i in frequencies:\n",
    "    N_i.append(i)\n",
    "i1 = [3,3,4,4,4,4,4]\n",
    "i2 = [2,2,3,3,3,3,3]\n",
    "for i in range(0,7):\n",
    "    P, N_i = merge_arr(P,N_i, i1[i], i2[i])\n",
    "\n",
    "print(P)\n",
    "print(N_i)\n",
    "\n",
    "criteria = 0\n",
    "for i in range(0, len(P)):\n",
    "    criteria += ((N_i[i] - N*P[i])**2)/(N*P[i])\n",
    "print(round(criteria,4))\n",
    "chi_value = stats.chi2.ppf(1-alpha, len(P)-2)\n",
    "print(round(chi_value,4))"
   ],
   "metadata": {
    "collapsed": false,
    "ExecuteTime": {
     "end_time": "2023-12-06T18:49:19.924982200Z",
     "start_time": "2023-12-06T18:49:16.907014800Z"
    }
   }
  },
  {
   "cell_type": "markdown",
   "source": [
    "Критерий $\\chi^2$ наблюдаемый = 7.3655\n",
    "Значение $\\chi^2$ при уровне значимости 0.05 и 2 степенях свободы = 5.9915\n",
    "Так как $\\chi^2>\\chi_{2;0.05}^2$, то по критерию Пирсона отвергаем гипотезу. Значение наблюдаемого критерия превышает критическое значение из распределения хи-квадрат с указанными степенями свободы и уровнем значимости."
   ],
   "metadata": {
    "collapsed": false
   }
  },
  {
   "cell_type": "code",
   "execution_count": 1313,
   "outputs": [
    {
     "name": "stdout",
     "output_type": "stream",
     "text": [
      "0.02515\n"
     ]
    }
   ],
   "source": [
    "x = stats.chi2.cdf(criteria, len(P)-2)\n",
    "print(round(1-round(x,5),6))"
   ],
   "metadata": {
    "collapsed": false,
    "ExecuteTime": {
     "end_time": "2023-12-06T18:49:19.962847800Z",
     "start_time": "2023-12-06T18:49:16.920976700Z"
    }
   }
  },
  {
   "cell_type": "markdown",
   "source": [
    "Наибольшее значение уровня значимости при котором нет оснований отвергнуть данную гипотезу: $\\alpha$ = 0.02515"
   ],
   "metadata": {
    "collapsed": false
   }
  },
  {
   "cell_type": "markdown",
   "source": [
    "### Задание №2\n"
   ],
   "metadata": {
    "collapsed": false
   }
  },
  {
   "cell_type": "code",
   "execution_count": 1314,
   "outputs": [
    {
     "name": "stdout",
     "output_type": "stream",
     "text": [
      "количество элементов: 50\n"
     ]
    }
   ],
   "source": [
    "import numpy as np\n",
    "import matplotlib.pyplot as plt\n",
    "from scipy import stats \n",
    "import pandas as pd\n",
    "\n",
    "tab2 = [0.328, 0.422, 0.178, 0.035, 0.196, 2.747, 0.004, 0.141, 0.003, 0.866, 0.106, 0.655, 0.000, 0.415, 0.247, 0.516, 0.773, 0.018, 0.501, 0.064, 0.547, 0.134, 1.114, 0.479, 0.023, 3.243, 0.134, 0.866, 0.309, 0.161, 0.181, 0.005, 0.137, 0.270, 1.349, 0.748, 0.110, 0.006, 0.559, 0.229, 0.429, 0.257, 2.240, 0.374, 0.039, 0.265, 0.007, 0.101, 0.025, 0.553]\n",
    "print(f\"количество элементов: {len(tab2)}\")"
   ],
   "metadata": {
    "collapsed": false,
    "ExecuteTime": {
     "end_time": "2023-12-06T18:49:19.990773300Z",
     "start_time": "2023-12-06T18:49:16.940923700Z"
    }
   }
  },
  {
   "cell_type": "markdown",
   "source": [
    "#### a)Построить вариационный ряд, эмпирическую функцию распределения и гистограммму частот."
   ],
   "metadata": {
    "collapsed": false
   }
  },
  {
   "cell_type": "code",
   "execution_count": 1315,
   "outputs": [
    {
     "name": "stdout",
     "output_type": "stream",
     "text": [
      "Вариационный ряд:\n",
      "[0.    0.003 0.004 0.005 0.006 0.007 0.018 0.023 0.025 0.035 0.039 0.064\n",
      " 0.101 0.106 0.11  0.134 0.134 0.137 0.141 0.161 0.178 0.181 0.196 0.229\n",
      " 0.247 0.257 0.265 0.27  0.309 0.328 0.374 0.415 0.422 0.429 0.479 0.501\n",
      " 0.516 0.547 0.553 0.559 0.655 0.748 0.773 0.866 0.866 1.114 1.349 2.24\n",
      " 2.747 3.243]\n"
     ]
    }
   ],
   "source": [
    "np.set_printoptions(precision=3, suppress=True)\n",
    "var_tab2 = np.sort(tab2)\n",
    "print('Вариационный ряд:')\n",
    "print(var_tab2)"
   ],
   "metadata": {
    "collapsed": false,
    "ExecuteTime": {
     "end_time": "2023-12-06T18:49:19.991770900Z",
     "start_time": "2023-12-06T18:49:16.952891500Z"
    }
   }
  },
  {
   "cell_type": "code",
   "execution_count": 1316,
   "outputs": [
    {
     "data": {
      "text/plain": "<Figure size 800x400 with 1 Axes>",
      "image/png": "[encoded data removed]"
     },
     "metadata": {},
     "output_type": "display_data"
    }
   ],
   "source": [
    "figure = plt.figure(figsize=(8, 4))\n",
    "\n",
    "\n",
    "array_len2 = len(tab2)\n",
    "var_range2 = np.unique(var_tab2)\n",
    "emp_function2 = np.searchsorted(var_tab2, var_range2, side='right') / array_len2\n",
    "\n",
    "plt.xlabel('Значения')\n",
    "plt.ylabel('Вероятность')\n",
    "plt.title('Эмпирическая функция')\n",
    "plt.step(var_range2, emp_function2, color='red')\n",
    "\n",
    "plt.show()"
   ],
   "metadata": {
    "collapsed": false,
    "ExecuteTime": {
     "end_time": "2023-12-06T18:49:20.270029Z",
     "start_time": "2023-12-06T18:49:16.968849Z"
    }
   }
  },
  {
   "cell_type": "code",
   "execution_count": 1317,
   "outputs": [
    {
     "data": {
      "text/plain": "<Figure size 640x480 with 1 Axes>",
      "image/png": "[encoded data removed]"
     },
     "metadata": {},
     "output_type": "display_data"
    }
   ],
   "source": [
    "h_value = 0.2\n",
    "custom_bins = np.arange(min(tab2), max(tab2) + h_value, h_value)\n",
    "\n",
    "plt.hist(tab2, bins=custom_bins, edgecolor='black', alpha=0.3, color='blue', label='Гистограмма')\n",
    "\n",
    "hist_values, _ = np.histogram(tab2, bins=custom_bins)\n",
    "bin_centers = 0.5 * (custom_bins[1:] + custom_bins[:-1])\n",
    "plt.plot(bin_centers, hist_values, color='green', marker='o', linestyle='-', label='Полигон')\n",
    "\n",
    "plt.title(\"Гистограмма и полигон частот\")\n",
    "plt.xlabel(\"Интервалы\")\n",
    "plt.ylabel(\"Частота\")\n",
    "\n",
    "plt.legend()\n",
    "plt.show()\n"
   ],
   "metadata": {
    "collapsed": false,
    "ExecuteTime": {
     "end_time": "2023-12-06T18:49:20.681928600Z",
     "start_time": "2023-12-06T18:49:17.188262400Z"
    }
   }
  },
  {
   "cell_type": "markdown",
   "source": [
    "#### b) Вычислить выборочные аналоги следующих числовых характеристик: (i)математического ожидания; (ii)дисперсии; (iii)СКО; (iv)медиана; (v)асимметрии; (vi)эксцесса; (vii)вероятности $P(X \\in [a,b]).$"
   ],
   "metadata": {
    "collapsed": false
   }
  },
  {
   "cell_type": "code",
   "execution_count": 1318,
   "outputs": [
    {
     "name": "stdout",
     "output_type": "stream",
     "text": [
      "Математическое ожидание= 0.46218\n",
      "Дисперсия = 0.4331271076\n",
      "СКО = 0.6581239302745342\n",
      "Медиана = 0.252\n",
      "Асимметрия = 2.718951040202494\n",
      "Эксцесс = 7.501993284575899\n",
      "Вероятность попадания в промежуток = 0.9\n"
     ]
    }
   ],
   "source": [
    "c = 0.00\n",
    "d = 0.92\n",
    "\n",
    "math_exp = np.mean(tab2)  # Выборочное математическое ожидание\n",
    "variance = np.var(tab2)  # Дисперсия\n",
    "standard_deviation=np.std(tab2) #СКО\n",
    "median = np.median(tab2)  # Медиана\n",
    "skewness = stats.skew(tab2)  # Асимметрия\n",
    "kurtosis = stats.kurtosis(tab2)  # Эксцесс\n",
    "probability = len([x for x in tab2 if c <= x <= d]) / len(tab2)  # Вероятность\n",
    "\n",
    "print(\"Математическое ожидание=\",math_exp)\n",
    "print(\"Дисперсия =\",variance)\n",
    "print(\"СКО =\",standard_deviation)\n",
    "print(\"Медиана =\",median)\n",
    "print(\"Асимметрия =\",skewness)\n",
    "print(\"Эксцесс =\",kurtosis)\n",
    "print(\"Вероятность попадания в промежуток =\", probability)"
   ],
   "metadata": {
    "collapsed": false,
    "ExecuteTime": {
     "end_time": "2023-12-06T18:49:20.713841500Z",
     "start_time": "2023-12-06T18:49:17.461532100Z"
    }
   }
  },
  {
   "cell_type": "markdown",
   "source": [
    "#### c)В предположении, что исходные наблюдения являются выборкой из показательного распределения, построить оценку максимального правдоподобия параметра $\\lambda$ и соответствующую оценку по методу моментов. Найти смещение оценок.\n",
    "Построим ОМП:\n",
    "$P(X)=\\lambda\\cdot exp(-\\lambda X), X\\ge 0$\n",
    "$L(\\overrightarrow{X},\\theta)=\\prod_{i=1}^{n}\\lambda\\cdot exp(-\\lambda\\cdot X_{i})=\\lambda^{n}\\cdot exp(-\\lambda\\cdot \\sum_{i=1}^{n}X_{i})$\n",
    "$LL(\\overrightarrow{X},\\theta)=n\\ln(\\lambda)-\\lambda\\cdot \\sum_{i=1}^{n}X_{i}$\n",
    "$\\frac{\\partial LL}{\\partial \\lambda}=\\frac{n}{\\lambda}-\\sum_{i=1}^{n}X_{i}=0$\n",
    "$\\frac{n}{\\lambda}-\\sum_{i=1}^{n}X_{i}=0 \\to \\lambda=\\frac{n}{\\sum_{i=1}^{n}X_{i}}=\\frac{1}{\\overline{X}}$"
   ],
   "metadata": {
    "collapsed": false
   }
  },
  {
   "cell_type": "code",
   "execution_count": 1319,
   "outputs": [
    {
     "name": "stdout",
     "output_type": "stream",
     "text": [
      "2.16\n"
     ]
    }
   ],
   "source": [
    "x = np.mean(tab2)\n",
    "print(round(1/x,2))"
   ],
   "metadata": {
    "collapsed": false,
    "ExecuteTime": {
     "end_time": "2023-12-06T18:49:20.714846800Z",
     "start_time": "2023-12-06T18:49:17.479487200Z"
    }
   }
  },
  {
   "cell_type": "markdown",
   "source": [
    "⠀$\\widehat{\\lambda}=\\frac{1}{\\overline{X}}=2.16$"
   ],
   "metadata": {
    "collapsed": false
   }
  },
  {
   "cell_type": "markdown",
   "source": [
    "###### Построим оценку $\\lambda$ по методу моментов:\n",
    "$P(X)=\\lambda\\cdot exp(-\\lambda X)$\n",
    "\n",
    "Первый момент $\\mathbb{E}X_{1}=\\frac{1}{\\lambda};M_{1}=\\overline{X}$\n",
    "равен параметру, поскольку параметр одномерный, получится система из одного уравнения.\n",
    "\n",
    "$\\widetilde{\\theta}=\\widetilde{\\lambda}=\\frac{1}{\\overline{X}}=2.16$\n",
    "\n",
    "Найдем смещение оценки:\n",
    "\n",
    "$g\\left(T(\\overrightarrow{X})\\right)=\\lambda\\cdot exp(-\\lambda X)$\n",
    "<br>\n",
    "$h(\\overrightarrow{X})=1$\n",
    "\n",
    "Достаточная минимальная статистика: $T=\\sum_{i=1}^{n}X_{i}$"
   ],
   "metadata": {
    "collapsed": false
   }
  },
  {
   "cell_type": "code",
   "execution_count": 1320,
   "outputs": [
    {
     "name": "stdout",
     "output_type": "stream",
     "text": [
      "23.11\n"
     ]
    }
   ],
   "source": [
    "x = sum(tab2)\n",
    "print(round(x,2))"
   ],
   "metadata": {
    "collapsed": false,
    "ExecuteTime": {
     "end_time": "2023-12-06T18:49:20.781661900Z",
     "start_time": "2023-12-06T18:49:17.495442200Z"
    }
   }
  },
  {
   "cell_type": "markdown",
   "source": [
    "⠀$T=\\sum_{i=1}^{n}X_{i}=23.11$\n",
    "Поскольку геометрическое распределение из семейства экспоненциальных распределений, МДС будет являться и ПДС.\n",
    "$\\mathbb{E}_{\\lambda}\\frac{1}{\\overline{X}}=\\mathbb{E}_{\\lambda}\\frac{n}{\\sum_{i=1}^{n}x_{i}}=n\\cdot \\mathbb{E_{\\lambda}}\\frac{1}{\\sum_{i=1}^{n}x_{i}}=n\\cdot \\mathbb{E}_{\\lambda}(\\sum_{i=1}^{n}X_{i})^{-1}=n\\cdot \\left(\\frac{1}{\\lambda}\\right)^{-1}\\frac{\\Gamma (-1+n)}{\\Gamma (n)}=n\\cdot \\lambda\\frac{\\Gamma (-1+n)}{\\Gamma(-1+n)\\cdot (n-1)}=\\frac{n\\cdot \\lambda}{n-1}$ - смещенная-оценка\n",
    "\n",
    "$\\widetilde{\\lambda}=\\widehat{\\lambda}\\frac{n-1}{n}$\n",
    "\n",
    "$\\mathbb{E}_{\\lambda}\\widetilde{\\lambda}=\\mathbb{E}_{\\lambda}\\widehat{\\lambda}\\frac{n-1}{n}=\\frac{n-1}{n}\\mathbb{E}_{\\lambda}\\widehat{\\lambda}=\\frac{n-1}{n}\\cdot \\frac{n\\cdot \\lambda}{n-1}=\\lambda$-НРМД-оценка\n",
    "<br>\n",
    "$X_{i}\\sim Exp(\\lambda) \\to X_{i}\\sim Gamma(1,\\frac{1}{\\lambda})\\Rightarrow \\sum_{i=1}^{n}X_{i}\\sim Gamma(n,\\frac{1}{\\lambda})$\n",
    "<br>\n",
    "Если $X_{i}\\sim Gamma(\\alpha,\\beta)$, где $\\alpha\\gt 0$ и $\\beta\\gt 0$, $\\gamma\\gt -\\alpha$, то $\\mathbb{E}X_{i}^{\\gamma}=\\beta^{\\gamma}\\frac{Г(\\gamma+\\alpha)}{Г(\\alpha)}$"
   ],
   "metadata": {
    "collapsed": false
   }
  },
  {
   "cell_type": "markdown",
   "source": [
    "#### d)Построить асимптотический доверительный интервал уровня значимости $\\alpha_2$ для параметра $\\lambda$ на базе оценки максимального правдоподобия.\n",
    "##### На базе ОМП: \n",
    "$\\sqrt{n}\\left( \\widehat{\\theta}(\\overrightarrow{X})-\\theta \\right)\\sim N\\left( 0, \\frac{1}{I(\\theta)} \\right)$\n",
    "<br>\n",
    "$\\widehat{\\theta}=\\widehat{\\lambda}=\\frac{1}{\\overline{X}}$\n",
    "<br>\n",
    "$I(\\theta)=-\\mathbb{E}\\left( \\frac{\\partial^{2} LL}{\\partial \\lambda^{2}} \\right)=-\\mathbb{E}\\left( -\\frac{n}{\\lambda^{2}} \\right)=\\frac{n}{\\lambda^{2}}$\n",
    "\n",
    "$\\alpha_2 = 0.01$,\n"
   ],
   "metadata": {
    "collapsed": false
   }
  },
  {
   "cell_type": "code",
   "execution_count": 1321,
   "outputs": [
    {
     "name": "stdout",
     "output_type": "stream",
     "text": [
      "2.58\n"
     ]
    }
   ],
   "source": [
    "from scipy.stats import norm\n",
    "\n",
    "alpha = 0.01\n",
    "X_995 = norm.ppf(1 - alpha/2)\n",
    "\n",
    "print(round(X_995,2))"
   ],
   "metadata": {
    "collapsed": false,
    "ExecuteTime": {
     "end_time": "2023-12-06T18:49:20.808589200Z",
     "start_time": "2023-12-06T18:49:17.509405800Z"
    }
   }
  },
  {
   "cell_type": "markdown",
   "source": [
    "$X_{\\alpha}$: $\\mathrm{Ф}(X_{\\alpha})=1-\\frac{\\alpha_{2}}{2}=1-\\frac{0.01}{2}=0.995$\n",
    "Асимптотический доверительный интервал уровня значимости 0.01 для параметра $\\lambda$\n",
    "$\\sqrt{n\\cdot I\\left(  \\widehat{\\theta}(\\overrightarrow{X})\\right)}\\left( \\widehat{\\theta}(\\overrightarrow{X})-\\theta \\right)\\sim N(0,1)$\n",
    "\n",
    "$X_{\\alpha}$: $\\mathrm{Ф}(X_{\\alpha})=1-\\frac{\\alpha_{2}}{2}=1-\\frac{0.01}{2}=0.995 \\to X_{0.995}=2.58$\n",
    "\n",
    "$\\left[ \\frac{1}{\\overline{X}}-\\frac{X_{0.995}}{\\sqrt{50\\cdot \\frac{50}{\\overline{X}^{2}}}}; \\frac{1}{\\overline{X}}+\\frac{X_{0.995}}{\\sqrt{50\\cdot \\frac{50}{\\overline{X}^{2}}}}\\right] \\to 2.16-\\frac{2.58\\cdot 0.46}{50}\\le \\lambda\\le 2.16+\\frac{2.58\\cdot 0.46}{50} \\to 2.0136\\le \\lambda\\le 2.1837$\n",
    "\n",
    "##### Построим на безе асимтотической нормальной оценки $\\widehat{\\theta}$\n",
    "\n",
    "$\\sqrt{n}\\left( \\widehat{\\theta}(\\overrightarrow{X})-\\theta \\right)\\sim N(0,\\sigma^{2}(\\theta))$\n",
    "<br>\n",
    "$\\sqrt{n}\\frac{ \\widehat{\\theta}(\\overrightarrow{X})-\\theta}{\\sigma(\\widehat{\\theta})}\\sim N(0,1)$\n",
    "<br>\n",
    "$\\alpha_2 = 0.01$\n",
    "$X_{\\alpha}: \\mathrm{Ф(X_{\\alpha})}=0.995\\to X_{0.995}=2.58$\n",
    "<br>\n",
    "$-X_{0.995}\\le \\sqrt{n}\\cdot \\frac{\\widehat{\\lambda}-\\lambda}{\\sqrt{\\widehat{\\lambda}}}\\le X_{0.995}$\n",
    "<br>\n",
    "$\\widehat{\\lambda} - \\frac{X_{0.995} \\cdot \\sqrt{\\widehat{\\lambda}}}{\\sqrt{n}} \\le \\lambda \\le \\widehat{\\lambda} - \\frac{X_{0.995} \\cdot \\sqrt{\\widehat{\\lambda}}}{\\sqrt{n}} \\to 2.16 - \\frac{2.58 \\cdot \\sqrt{2.16}}{\\sqrt{50}} \\le \\lambda \\le 2.16 + \\frac{2.58 \\cdot \\sqrt{2.16}}{\\sqrt{50}} \\to 1.6238 \\le \\lambda \\le 2.6962$"
   ],
   "metadata": {
    "collapsed": false
   }
  },
  {
   "cell_type": "markdown",
   "source": [
    "##### e)С использованием теоремы Колмогорова построить критерий значимости проверки простой гипотезы согласия с показательным распределением с параметром $\\lambda_0$. Проверить гипотезу на уровне значимости $\\alpha_2$. Вычислить наибольшее значение уровня значимости, на котором еще нет оснований отвергнуть данную гипотезу."
   ],
   "metadata": {
    "collapsed": false
   }
  },
  {
   "cell_type": "markdown",
   "source": [
    "Имеется выборка $X_1, X_2, \\dots, X_n$ - выборка из распределения с функцией распределения F.\n",
    "\n",
    "Формулируем основную гипотезу: $H_0 : F \\equiv Exp(\\lambda_0)$\n",
    "\n",
    "Альтернативная гипотеза будет выглядеть следующим образом: $H_A : \\exists x : F(x) \\neq F_{Exp(\\lambda_0)}(x)$\n",
    "\n",
    "Для построения критерия уровня значимости $\\alpha_2$ вводим функцию $\\phi(x)$:\n",
    "\n",
    "$\\phi(x) = 0$, при $D_n \\le x_{\\alpha_2}$\n",
    "\n",
    "$\\phi(x) = 1$, при $D_n > x_{\\alpha_2}$\n",
    "\n",
    "где $x_{\\alpha_2}$ определяется как: $K(x_{\\alpha_2} / \\sqrt{n}) = 1 - \\alpha_2$"
   ],
   "metadata": {
    "collapsed": false
   }
  },
  {
   "cell_type": "code",
   "execution_count": 1322,
   "outputs": [
    {
     "name": "stdout",
     "output_type": "stream",
     "text": [
      "Dn: 0.64\n",
      "x_a2: 0.23\n"
     ]
    }
   ],
   "source": [
    "import numpy as np\n",
    "from scipy import stats\n",
    "\n",
    "data_values, data_edges = np.histogram(tab2, bins=len(tab2))\n",
    "cumulative_frequency = data_values.cumsum() / len(tab2)\n",
    "\n",
    "def empirical_distribution(x, cumulative_freq, bin_edges):\n",
    "    for i in range(len(cumulative_freq)):\n",
    "        if x > bin_edges[i] and x <= bin_edges[i+1]:\n",
    "            return cumulative_freq[i]\n",
    "        elif x > bin_edges[-1]:\n",
    "            return 1\n",
    "        elif x <= bin_edges[0]:\n",
    "            return 0\n",
    "\n",
    "def theoretical_distribution(x, lambda_0):\n",
    "    return 1 - np.exp(-x * lambda_0)\n",
    "\n",
    "alpha_2 = 0.01\n",
    "lambda_0 = 0.36\n",
    "kolmogorov_statistic = 0\n",
    "current_x = 0\n",
    "\n",
    "while current_x <= 5:\n",
    "    current_statistic = np.abs(empirical_distribution(current_x, cumulative_frequency, data_edges) - theoretical_distribution(current_x, lambda_0))\n",
    "    kolmogorov_statistic = max(kolmogorov_statistic, current_statistic)\n",
    "    current_x += 0.0001\n",
    "\n",
    "critical_value = stats.kstwobign.ppf(1 - alpha_2) / np.sqrt(len(tab2))\n",
    "\n",
    "print(\"Dn:\", round(kolmogorov_statistic,2))\n",
    "print(\"x_a2:\", round(critical_value,2))\n"
   ],
   "metadata": {
    "collapsed": false,
    "ExecuteTime": {
     "end_time": "2023-12-06T18:49:20.934252300Z",
     "start_time": "2023-12-06T18:49:17.525361900Z"
    }
   }
  },
  {
   "cell_type": "markdown",
   "source": [
    "$D_n \\approx 0.64$\n",
    "<br>\n",
    "$x_{\\alpha_2} \\approx 0.23$\n",
    "\n",
    "Так как $D_n \\gt x_{\\alpha_2}$, то отвергаем гипотезу $H_0$"
   ],
   "metadata": {
    "collapsed": false
   }
  },
  {
   "cell_type": "code",
   "execution_count": 1323,
   "outputs": [
    {
     "name": "stdout",
     "output_type": "stream",
     "text": [
      "0.0\n"
     ]
    }
   ],
   "source": [
    "print(1 - stats.kstwobign.cdf(kolmogorov_statistic*np.sqrt(len(tab2))))"
   ],
   "metadata": {
    "collapsed": false,
    "ExecuteTime": {
     "end_time": "2023-12-06T18:49:20.935249500Z",
     "start_time": "2023-12-06T18:49:18.222499Z"
    }
   }
  },
  {
   "cell_type": "markdown",
   "source": [
    "Наибольшее значение уровня значимости, при котором нет оснований отвергнуть данную гипотезу = 0 (стремится к 0)"
   ],
   "metadata": {
    "collapsed": false
   }
  },
  {
   "cell_type": "markdown",
   "source": [
    "#### f)Используя гистограмму частот, построить критерий значимости $\\chi^2$ проверки простой гипотезы согласия с показательным распределением с параметром $\\lambda_0$. Проверить гипотезу на уровне значимости $\\alpha_2$. Вычислить наибольшее значение уровня значимости, на котором еще нет оснований отвергнуть данную гипотезу."
   ],
   "metadata": {
    "collapsed": false
   }
  },
  {
   "cell_type": "markdown",
   "source": [
    "Выборка $X_1, X_2, \\dots, X_n$, взята из распределения с функцией распределения $F$.\n",
    "Предположим основную гипотезу: $H_0$, в которой утверждается, что $F$ эквивалентно экспоненциальному распределению с параметром $\\lambda_0$\n",
    "$H_0 : F \\equiv Exp(\\lambda_0)$\n",
    "Альтернативная гипотеза, $H_A$, предполагает, что существует такое значение $x$, при котором функция распределения $F$ не равна функции распределения экспоненциального распределения с параметром $\\lambda_0$\n",
    "$H_A : \\exists x : F(x) \\neq F_{Exp(\\lambda_0)}(x)$\n",
    "$x_{\\alpha_2} : K_{r-1}(x_{\\alpha_2}) = 1 - \\alpha_2$"
   ],
   "metadata": {
    "collapsed": false
   }
  },
  {
   "cell_type": "code",
   "execution_count": 1324,
   "outputs": [
    {
     "name": "stdout",
     "output_type": "stream",
     "text": [
      "[0.0, 0.003, 0.004, 0.005, 0.006, 0.007, 0.018, 0.023, 0.025, 0.035, 0.039, 0.064, 0.101, 0.106, 0.11, 0.134, 0.134, 0.137, 0.141, 0.161, 0.178, 0.181, 0.196, 0.229, 0.247, 0.257, 0.265, 0.27, 0.309, 0.328, 0.374, 0.415, 0.422, 0.429, 0.479, 0.501, 0.516, 0.547, 0.553, 0.559, 0.655, 0.748, 0.773, 0.866, 0.866, 1.114, 1.349, 2.24, 2.747, 3.243]\n"
     ]
    }
   ],
   "source": [
    "P = sorted(tab2)\n",
    "print(P)\n"
   ],
   "metadata": {
    "collapsed": false,
    "ExecuteTime": {
     "end_time": "2023-12-06T18:49:20.935249500Z",
     "start_time": "2023-12-06T18:49:18.234467200Z"
    }
   }
  },
  {
   "cell_type": "markdown",
   "source": [
    "$I_1 = [0, 0.1)$ - группа №1 \n",
    "$I_2 = [0.101, 0.25)$ - группа №2 \n",
    "$I_3 = [0.255, 0.45)$ - группа №3 \n",
    "$I_4 = [0.46,0.7)$ - группа №4\n",
    "$I_5 = [0.74, \\infty)$ - группа №5\n"
   ],
   "metadata": {
    "collapsed": false
   }
  },
  {
   "cell_type": "code",
   "execution_count": 1325,
   "outputs": [
    {
     "name": "stdout",
     "output_type": "stream",
     "text": [
      "[ 0 , 0.1 ]\t 12 \t 1.7679853258438487\n",
      "[ 0.101 , 0.25 ]\t 13 \t 2.5180950103715785\n",
      "[ 0.255 , 0.45 ]\t 9 \t 3.092319213904282\n",
      "[ 0.46 , 0.7 ]\t 7 \t 3.5070191193432048\n",
      "[ 0.74 , +inf)\t 9 \t 38.306630657848714\n",
      "хи-квадрат: 140.0353444914372\n"
     ]
    }
   ],
   "source": [
    "import numpy as np\n",
    "from scipy import stats\n",
    "\n",
    "cur_lambda_new = 0.36\n",
    "intervals_new = [[0, 0.1], [0.101, 0.25], [0.255, 0.45], [0.46, 0.7], [0.74, 4]]\n",
    "data_new = tab2\n",
    "freq_new = [0] * len(intervals_new)  # Экспериментальные частоты\n",
    "freq_teor_new = [0] * len(intervals_new)  # Гипотетические частоты\n",
    "\n",
    "for i in range(len(intervals_new)):\n",
    "    a = intervals_new[i][0]\n",
    "    b = intervals_new[i][-1]\n",
    "    freq_new[i] += len([x for x in data_new if (x >= a and x < b)])\n",
    "    freq_teor_new[i] += len(data_new) * (stats.expon.cdf(b, scale=1/cur_lambda_new) - stats.expon.cdf(a, scale=1/cur_lambda_new))\n",
    "    if (i == len(intervals_new) - 1):\n",
    "        freq_teor_new[i] += len(data_new) * stats.expon.sf(b, scale=1/cur_lambda_new)\n",
    "        print('[', a, \", +inf)\\t\", freq_new[i], \"\\t\", freq_teor_new[i])\n",
    "    else:\n",
    "        print('[', a, ',', b, \"]\\t\", freq_new[i], \"\\t\", freq_teor_new[i])\n",
    "\n",
    "freq_new = np.array(freq_new)\n",
    "freq_teor_new = np.array(freq_teor_new)\n",
    "chi_square_new = np.sum((freq_new - freq_teor_new) ** 2 / freq_teor_new)\n",
    "print(\"хи-квадрат:\", chi_square_new)\n"
   ],
   "metadata": {
    "collapsed": false,
    "ExecuteTime": {
     "end_time": "2023-12-06T18:49:20.935249500Z",
     "start_time": "2023-12-06T18:49:18.249426900Z"
    }
   }
  },
  {
   "cell_type": "code",
   "execution_count": 1326,
   "outputs": [
    {
     "name": "stdout",
     "output_type": "stream",
     "text": [
      "x_a2: 13.276704135987622\n"
     ]
    }
   ],
   "source": [
    "print(\"x_a2:\", stats.chi2.ppf(1 - alpha_2, df = len(freq_new) - 1))"
   ],
   "metadata": {
    "collapsed": false,
    "ExecuteTime": {
     "end_time": "2023-12-06T18:49:20.935249500Z",
     "start_time": "2023-12-06T18:49:18.268376900Z"
    }
   }
  },
  {
   "cell_type": "markdown",
   "source": [
    "$\\chi^2 \\approx 140.03$\n",
    "<br>\n",
    "$x_{\\alpha_2} \\approx 13.28$\n",
    "\n",
    "Так как $\\chi^2 > x_{\\alpha_2}$, то отвергаем гипотезу $H_0$"
   ],
   "metadata": {
    "collapsed": false
   }
  },
  {
   "cell_type": "code",
   "execution_count": 1327,
   "outputs": [
    {
     "name": "stdout",
     "output_type": "stream",
     "text": [
      "0.0\n"
     ]
    }
   ],
   "source": [
    "print(1 - stats.chi2.cdf(chi_square_new, df = len(freq_new) - 1))"
   ],
   "metadata": {
    "collapsed": false,
    "ExecuteTime": {
     "end_time": "2023-12-06T18:49:20.936282400Z",
     "start_time": "2023-12-06T18:49:18.285331600Z"
    }
   }
  },
  {
   "cell_type": "markdown",
   "source": [
    "Наибольшее значение уровня значимости, при котором нет оснований отвергнуть данную гипотезу = 0 (стремится к 0)"
   ],
   "metadata": {
    "collapsed": false
   }
  },
  {
   "cell_type": "markdown",
   "source": [
    "#### g)Построить критерий проверки значимости $\\chi^2$ проверки сложной гипотезы согласия с показательным    распределением. Проверить гипотезу на уровне $\\alpha_2$. Вычислить наибольшее значение уровня значимости, на котором еще нет оснований отвергнуть данную гипотезу.\n",
    "\n",
    "Рассматривается выборка $X_1, X_2, \\dots, X_n$, происходящая из распределения с функцией распределения $F$.\n",
    "Предполагаем основную гипотезу: $H_0$, утверждая, что $F$ принадлежит семейству экспоненциальных распределений с параметром $\\theta$, где $\\theta$ принадлежит множеству $\\Theta_0$.\n",
    "$H_0 : F \\in \\left\\{Exp(\\theta) : \\theta \\in \\Theta_0 \\right\\}$\n",
    "\n",
    "Альтернативная гипотеза, $H_A$, предполагает, что $F$ не принадлежит упомянутому выше семейству.\n",
    " $H_A : F \\notin \\left\\{Exp(\\theta) : \\theta \\in \\Theta_0 \\right\\}$\n",
    " \n",
    "В качестве оценки неизвестного параметра $\\theta$ используем оценку максимального правдоподобия (ОМП): $\\hat{\\theta} = \\frac{1}{\\bar{X}}$.\n",
    "$x_{\\alpha_2} : K_{r-2}(x_{\\alpha_2}) = 1 - \\alpha_2$\n",
    "\n",
    "$I_1 = [0, 0.1)$ - группа №1 \n",
    "$I_2 = [0.101, 0.25)$ - группа №2 \n",
    "$I_3 = [0.255, 0.45)$ - группа №3 \n",
    "$I_4 = [0.46,0.7)$ - группа №4\n",
    "$I_5 = [0.74, \\infty)$ - группа №5"
   ],
   "metadata": {
    "collapsed": false
   }
  },
  {
   "cell_type": "code",
   "execution_count": 1328,
   "outputs": [
    {
     "name": "stdout",
     "output_type": "stream",
     "text": [
      "[ 0 , 0.1 ]\t 12 \t 9.727973863681157\n",
      "[ 0.101 , 0.25 ]\t 13 \t 11.07421534998933\n",
      "[ 0.255 , 0.45 ]\t 9 \t 9.912379514810226\n",
      "[ 0.46 , 0.7 ]\t 7 \t 7.485706855509822\n",
      "[ 0.74 , +inf)\t 9 \t 10.083649109144707\n",
      "хи-квадрат: 1.0974851921694535\n"
     ]
    }
   ],
   "source": [
    "cur_lambda = 1 / np.mean(tab2)\n",
    "intervals_new = [[0, 0.1], [0.101, 0.25], [0.255, 0.45], [0.46, 0.7], [0.74, 4]]\n",
    "freq = [0] * len(intervals_new) #экспереметальные частоты\n",
    "freq_teor = [0] * len(intervals_new) #Гипотетические частоты\n",
    "for i in range(len(intervals_new)):\n",
    "  a = intervals_new[i][0]\n",
    "  b = intervals_new[i][-1]\n",
    "  freq[i] += len([x for x in tab2 if (x >= a and x < b)])\n",
    "  freq_teor[i] += len(tab2) * (stats.expon.cdf(b, scale = 1/cur_lambda) - stats.expon.cdf(a, scale = 1/cur_lambda))\n",
    "  if (i == len(intervals_new) - 1):\n",
    "    freq_teor[i] += len(tab2) * stats.expon.sf(b, scale = 1/cur_lambda)\n",
    "    print('[', a, \", +inf)\\t\", freq[i], \"\\t\", freq_teor[i])\n",
    "  else:\n",
    "    print('[', a, ',', b, \"]\\t\", freq[i], \"\\t\", freq_teor[i])\n",
    "freq = np.array(freq)\n",
    "freq_teor = np.array(freq_teor)\n",
    "chi_square = np.sum((freq - freq_teor) ** 2 / freq_teor)\n",
    "print(\"хи-квадрат:\", chi_square)"
   ],
   "metadata": {
    "collapsed": false,
    "ExecuteTime": {
     "end_time": "2023-12-06T18:49:20.936282400Z",
     "start_time": "2023-12-06T18:49:18.300290900Z"
    }
   }
  },
  {
   "cell_type": "code",
   "execution_count": 1329,
   "outputs": [
    {
     "name": "stdout",
     "output_type": "stream",
     "text": [
      "x_a2: 11.344866730144373\n"
     ]
    }
   ],
   "source": [
    "print(\"x_a2:\", stats.chi2.ppf(1 - alpha_2, df = len(freq) - 2))"
   ],
   "metadata": {
    "collapsed": false,
    "ExecuteTime": {
     "end_time": "2023-12-06T18:49:20.936282400Z",
     "start_time": "2023-12-06T18:49:18.316248700Z"
    }
   }
  },
  {
   "cell_type": "markdown",
   "source": [
    "$\\chi^2 \\approx 1.1$\n",
    "<br>\n",
    "$x_{\\alpha_2} \\approx 11.34$\n",
    "\n",
    "Так как $\\chi^2 \\le x_{\\alpha_2}$, то принимаем гипотезу $H_0$"
   ],
   "metadata": {
    "collapsed": false
   }
  },
  {
   "cell_type": "code",
   "execution_count": 1330,
   "outputs": [
    {
     "name": "stdout",
     "output_type": "stream",
     "text": [
      "0.7777\n"
     ]
    }
   ],
   "source": [
    "print( round( 1 - stats.chi2.cdf(chi_square, df = len(freq) - 2),4))"
   ],
   "metadata": {
    "collapsed": false,
    "ExecuteTime": {
     "end_time": "2023-12-06T18:49:20.936282400Z",
     "start_time": "2023-12-06T18:49:18.327218800Z"
    }
   }
  },
  {
   "cell_type": "markdown",
   "source": [
    "Наибольшее значение уровня значимости, при котором нет оснований отвергнуть данную гипотезу = 0.7777"
   ],
   "metadata": {
    "collapsed": false
   }
  },
  {
   "cell_type": "markdown",
   "source": [
    "#### h)Построить наиболее мощный критерий проверки простой гипотезы о показательности с параметром $\\lambda = \\lambda_0$ при альтернативе показательности с параметром $\\lambda = \\lambda_1$. Проверить гипотезу на уровне значимости $\\alpha_2$. Что получится, если поменять местами основную и альтернативные гипотезы? "
   ],
   "metadata": {
    "collapsed": false
   }
  },
  {
   "cell_type": "markdown",
   "source": [
    "Основная гипотеза формулируется как $H_0$, предполагая, что параметр $\\lambda$ равен заданному значению $\\lambda_0$. Альтернативная гипотеза $H_A$ предполагает, что параметр $\\lambda$ равен другому значению $\\lambda_1$:\n",
    "Основная гипотеза: $H_0 : \\lambda = \\lambda_0$\n",
    "Альтернативная гипотеза: $H_A : \\lambda = \\lambda_1$\n",
    "<br>\n",
    "\n",
    "Функция правдоподобия для данного распределения выражается как произведение экспоненциальных членов, умноженных на индикаторы неотрицательности соответствующих значений выборки:\n",
    "$L\\left(\\overrightarrow{X}, \\theta\\right) = \\prod_{i=1}^{n}\\lambda\\exp(-\\lambda x_i)\\mathbb{I}_{\\{x_i \\ge 0\\}} = \\lambda^n \\exp(-\\lambda \\sum_{i=1}^{n}x_i)\\mathbb{I}_{\\{x_{(1)} \\ge 0\\}}$\n",
    "<br>\n",
    "Статистика отношения правдоподобия $LR(\\overrightarrow{X}, \\lambda_0, \\lambda_1)$ выражается как отношение функций правдоподобия для двух различных значений $\\lambda$. Эта статистика монотонно зависит от выборочного среднего $\\bar{X}$.\n",
    "$LR\\left(\\overrightarrow{X}, \\lambda_0, \\lambda_1\\right) = \\frac{L\\left(\\overrightarrow{X}, \\lambda_1\\right)}{L\\left(\\overrightarrow{X}, \\lambda_0\\right)} = \\left(\\frac{\\lambda_1}{\\lambda_0}\\right)^n\\exp(-(\\lambda_1 - \\lambda_0) \\sum_{i=1}^{n}x_i)$\n",
    "<br>\n",
    "$LR\\left(\\overrightarrow{X}\\right) = \\left(\\frac{\\lambda_1}{\\lambda_0}\\right)^n\\exp(-(\\lambda_1 - \\lambda_0) \\sum_{i=1}^{n}x_i) > c \\iff n\\ln\\frac{\\lambda_1}{\\lambda_0} - (\\lambda_1 - \\lambda_0)\\sum_{i=1}^{n}{x_i} > \\ln c \\iff \\bar{X} > -\\frac{\\ln c - n\\ln\\frac{\\lambda_1}{\\lambda_0}}{\\lambda_1 - \\lambda_0} = c^*$\n",
    "<br>\n",
    "$LR\\left(\\overrightarrow{X}\\right) < c \\iff \\bar{X} < c^*$\n",
    "Устанавливается условие, при котором статистика $LR(\\overrightarrow{X})$ будет больше или меньше определенного значения $c^*$. Затем рассматривается вероятностное уравнение, включающее данное условие, с целью нахождения критической области для теста.\n",
    "$P_{\\lambda_0}\\left(LR(\\overrightarrow{X}) > c\\right) + pP_{\\lambda_0}\\left(LR(\\overrightarrow{X}) = c\\right) = \\alpha_2$\n",
    "$P_{\\lambda_0}\\left(n\\bar{X} > nc^*\\right) + pP_{\\lambda_0}\\left(n\\bar{X} = nc^*\\right) = \\alpha_2$\n",
    "<br>\n",
    "Критерий неоднозначен в случае $LR(\\overrightarrow{X}) = c$, и далее проводится анализ вероятностей для случая $LR(\\overrightarrow{X}) \\neq c$.\n",
    "\n",
    "В заключение, устанавливается уравнение для определения критической области с учетом функции распределения гамма-распределения, и это уравнение используется для нахождения значений, при которых вероятность ошибки второго рода равна $\\alpha_2$.\n",
    "\n",
    "$P_{\\lambda_0}\\left(n\\bar{X} > nc^*\\right) = 1 - F_{Gamma(n, 1/\\lambda_0)}\\left(nc^*\\right) = \\alpha_2$\n",
    "<br>\n",
    "$F_{Gamma(n, 1/\\lambda_0)}\\left(nc^*\\right) = 1 - \\alpha_2 = 1 - 0.01 = 0.99$"
   ],
   "metadata": {
    "collapsed": false
   }
  },
  {
   "cell_type": "code",
   "execution_count": 1331,
   "outputs": [
    {
     "name": "stdout",
     "output_type": "stream",
     "text": [
      "3.772\n"
     ]
    }
   ],
   "source": [
    "lambda_0 = 0.36\n",
    "print(round(stats.gamma.ppf(0.99, a = len(tab2), scale = 1/lambda_0) / len(tab2),3))"
   ],
   "metadata": {
    "collapsed": false,
    "ExecuteTime": {
     "end_time": "2023-12-06T18:49:20.937244Z",
     "start_time": "2023-12-06T18:49:18.343176500Z"
    }
   }
  },
  {
   "cell_type": "code",
   "execution_count": 1332,
   "outputs": [
    {
     "name": "stdout",
     "output_type": "stream",
     "text": [
      "0.46218\n"
     ]
    }
   ],
   "source": [
    "x = np.mean(tab2)\n",
    "print(x)"
   ],
   "metadata": {
    "collapsed": false,
    "ExecuteTime": {
     "end_time": "2023-12-06T18:49:20.937244Z",
     "start_time": "2023-12-06T18:49:18.357139100Z"
    }
   }
  },
  {
   "cell_type": "markdown",
   "source": [
    "$c^* = 3.772$\n",
    "<br>\n",
    "$\\bar{X} = 0.462$\n",
    "\n",
    "Поскольку $c^* > \\bar{X}$, мы принимаем основную гипотезу $H_0$.\n",
    "\n",
    "Теперь переформулируем гипотезы, поменяв их местами:\n",
    "\n",
    "Основная гипотеза: $H_0$ теперь утверждает, что параметр $\\lambda$ равен $\\lambda_1$.\n",
    "\n",
    "Альтернативная гипотеза: $H_A$ предполагает, что параметр $\\lambda$ равен $\\lambda_0$.\n",
    "\n",
    "Тогда статистика отношения правдоподобия $LR(\\overrightarrow{X}, \\lambda_1, \\lambda_0)$ выражается следующим образом:\n",
    "\n",
    "$LR\\left(\\overrightarrow{X}, \\lambda_1, \\lambda_0\\right) = \\frac{L\\left(\\overrightarrow{X}, \\lambda_0\\right)}{L\\left(\\overrightarrow{X}, \\lambda_1\\right)} = \\left(\\frac{\\lambda_0}{\\lambda_1}\\right)^n\\exp(-(\\lambda_0 - \\lambda_1) \\sum_{i=1}^{n}x_i)$\n",
    "\n",
    "Поскольку $LR\\left(\\overrightarrow{X}, \\lambda_1, \\lambda_0\\right)$ монотонна относительно выборочного среднего $\\bar{X}$, условие для принятия альтернативной гипотезы выражается как:\n",
    "\n",
    "$LR\\left(\\overrightarrow{X}\\right) > c \\iff \\bar{X} > c^*$\n",
    "\n",
    "Далее рассматривается вероятностное уравнение для нахождения критической области.\n",
    "\n",
    "$P_{\\lambda_1}\\left(LR(\\overrightarrow{X}) > c\\right) + pP_{\\lambda_1}\\left(LR(\\overrightarrow{X}) = c\\right) = \\alpha_1$\n",
    "\n",
    "$P_{\\lambda_1}\\left(n\\bar{X} > nc^*\\right) + pP_{\\lambda_1}\\left(n\\bar{X} = nc^*\\right) = \\alpha_1$\n",
    "\n",
    "Критерий не определен однозначно при $LR(\\overrightarrow{X}) = c$\n",
    "\n",
    "Пусть $LR(\\overrightarrow{X}) \\neq c$\n",
    "\n",
    "Тогда $P_{\\lambda_1}\\left(n\\bar{X} > nc^*\\right) = 1 - F_{Gamma(n, 1/\\lambda_1)}\\left(nc^*\\right) = \\alpha_1$\n",
    "\n",
    "$F_{Gamma(n, 1/\\lambda_1)}\\left(nc^*\\right) = 1 - \\alpha_2 = 0.99$"
   ],
   "metadata": {
    "collapsed": false
   }
  },
  {
   "cell_type": "code",
   "execution_count": 1333,
   "outputs": [
    {
     "name": "stdout",
     "output_type": "stream",
     "text": [
      "0.95\n"
     ]
    }
   ],
   "source": [
    "lambda_1 = 1.43\n",
    "print(round(stats.gamma.ppf(0.99, a = len(tab2), scale = 1/lambda_1) / len(tab2),3))\n"
   ],
   "metadata": {
    "collapsed": false,
    "ExecuteTime": {
     "end_time": "2023-12-06T18:49:20.937244Z",
     "start_time": "2023-12-06T18:49:18.372099400Z"
    }
   }
  },
  {
   "cell_type": "markdown",
   "source": [
    "$c^* = 0.95$\n",
    "<br>\n",
    "$\\bar{X} = 0.462$\n",
    "\n",
    "$c^* > \\bar{X}$ следовательно принимаем гипотезу"
   ],
   "metadata": {
    "collapsed": false
   }
  },
  {
   "cell_type": "markdown",
   "source": [
    "#### i.c)В предположении, что исходные наблюдения являются выборкой из гамма-распределения, построить оценку максимального правдоподобия параметра $\\lambda$ и соответствующую оценку по методу моментов. Найти смещение оценок.\n",
    "##### Построим ОМП:\n",
    "$P_{\\lambda}(x) = \\frac{\\sqrt{\\lambda}\\exp(-\\lambda x/2)}{\\sqrt{2\\pi x}}$\n",
    "<br>\n",
    "$L\\left(\\overrightarrow{X}, \\theta\\right) = \\prod_{i=1}^{n}\\frac{\\sqrt{\\lambda}\\exp(-\\lambda x_i/2)}{\\sqrt{2\\pi x_i}} = \\left(\\frac{\\lambda}{2\\pi}\\right)^{n/2}\\exp\\left(-\\frac{\\lambda}{2}\\sum_{i=1}^{n}{x_i}\\right)\\prod_{i=1}^{n}\\frac{1}{\\sqrt{x_i}}$\n",
    "<br>\n",
    "$LL\\left(\\overrightarrow{X}, \\theta\\right) = \\frac{n}{2}\\ln\\frac{\\lambda}{2\\pi}-\\frac{\\lambda}{2}\\sum_{i=1}^{n}{x_i}+\\ln\\prod_{i=1}^{n}\\frac{1}{\\sqrt{x_i}}$\n",
    "<br>\n",
    "$\\frac{\\partial LL}{\\partial \\lambda} = \\frac{n}{2\\lambda} - \\frac{1}{2}\\sum_{i=1}^{n}x_i = 0 \\to \\hat{\\theta} = \\hat{\\lambda} = \\frac{1}{\\bar{X}}$"
   ],
   "metadata": {
    "collapsed": false
   }
  },
  {
   "cell_type": "code",
   "execution_count": 1334,
   "outputs": [
    {
     "name": "stdout",
     "output_type": "stream",
     "text": [
      "2.16\n",
      "0.46\n"
     ]
    }
   ],
   "source": [
    "x = 1/np.mean(tab2)\n",
    "print(round(x,2))\n",
    "x = np.mean(tab2)\n",
    "print(round(x,2))"
   ],
   "metadata": {
    "collapsed": false,
    "ExecuteTime": {
     "end_time": "2023-12-06T18:49:20.938274300Z",
     "start_time": "2023-12-06T18:49:18.389055400Z"
    }
   }
  },
  {
   "cell_type": "markdown",
   "source": [
    "⠀$\\hat{\\theta} = \\hat{\\lambda} = \\frac{1}{\\bar{X}} = 2.16$\n",
    "\n",
    "##### Построим оценку по методу моментов:\n",
    "$X_1 \\sim Gamma(\\frac{1}{2},\\frac{2}{\\lambda})$\n",
    "\n",
    "Тогда $\\mathbb{E}_\\theta X_1 = \\frac{1}{\\lambda}$\n",
    "$M_1 = \\frac{1}{n}\\sum_{i=1}^{n}x_i = \\bar{X}$\n",
    "$\\frac{1}{\\lambda} = \\bar{X} \\to \\hat{\\lambda} = \\frac{1}{\\bar{X}} = 2.16$\n",
    "\n",
    "Найдем смещение оценки:\n",
    "$g\\left(T(\\overrightarrow{X})\\right)=\\frac{\\lambda^{\\frac{n}{2}}\\cdot exp\\left( \\frac{-\\lambda}{2} \\cdot \\sum_{i=1}^{n}X_{i}\\right)}{(\\prod_{i=1}^{n}X_{i})^{\\frac{n}{2}}}$\n",
    "\n",
    "$h(\\overrightarrow{X})=\\frac{1}{(2\\pi)^{\\frac{n}{2}}}$\n",
    "\n",
    "$T=\\sum_{i=1}^{n}X_{i}$\n"
   ],
   "metadata": {
    "collapsed": false
   }
  },
  {
   "cell_type": "code",
   "execution_count": 1335,
   "outputs": [
    {
     "name": "stdout",
     "output_type": "stream",
     "text": [
      "23.11\n"
     ]
    }
   ],
   "source": [
    "x = sum(tab2)\n",
    "print(round(x,2))"
   ],
   "metadata": {
    "collapsed": false,
    "ExecuteTime": {
     "end_time": "2023-12-06T18:49:20.938274300Z",
     "start_time": "2023-12-06T18:49:18.405011300Z"
    }
   }
  },
  {
   "cell_type": "markdown",
   "source": [
    "⠀$T=\\sum_{i=1}^{n}X_{i} = 23.11$\n",
    "Поскольку гамма-распределение из семейства экспоненциальных распределений, МДС будет являться и ПДС.\n",
    "\n",
    "$\\mathbb{E}_{\\lambda}\\frac{1}{\\overline{X}}=\\mathbb{E}_{\\lambda}\\frac{n}{\\sum_{i=1}^{n}x_{i}}=n\\cdot \\mathbb{E_{\\lambda}}\\frac{1}{\\sum_{i=1}^{n}x_{i}}=n\\cdot \\mathbb{E}_{\\lambda}(\\sum_{i=1}^{n}X_{i})^{-1}=n\\cdot \\left(\\frac{1}{\\lambda}\\right)^{-1}\\frac{\\Gamma (-1+n)}{\\Gamma (n)}=n\\cdot \\lambda\\frac{\\Gamma (-1+n)}{\\Gamma(-1+n)\\cdot (n-1)}=\\frac{n\\cdot \\lambda}{n-1} \\to$ смещенная оценка\n",
    "\n",
    "$\\widetilde{\\lambda}=\\widehat{\\lambda}\\frac{n-1}{n}$\n",
    "\n",
    "$\\mathbb{E}_{\\lambda}\\widetilde{\\lambda}=\\mathbb{E}_{\\lambda}\\widehat{\\lambda}\\frac{n-1}{n}=\\frac{n-1}{n}\\mathbb{E}_{\\lambda}\\widehat{\\lambda}=\\frac{n-1}{n}\\cdot \\frac{n\\cdot \\lambda}{n-1}=\\lambda$-НРМД-оценка\n",
    "\n",
    "$X_{i}\\sim Exp(\\lambda) \\to X_{i}\\sim Gamma(1,\\frac{1}{\\lambda})\\Rightarrow \\sum_{i=1}^{n}X_{i}\\sim Gamma(n,\\frac{1}{\\lambda})$\n",
    "\n",
    "Если $X_{i}\\sim Gamma(\\alpha,\\beta)$, где $\\alpha\\gt 0$ и $\\beta\\gt 0$, $\\gamma\\gt -\\alpha$, то $\\mathbb{E}X_{i}^{\\gamma}=\\beta^{\\gamma}\\frac{Г(\\gamma+\\alpha)}{Г(\\alpha)}$"
   ],
   "metadata": {
    "collapsed": false
   }
  },
  {
   "cell_type": "markdown",
   "source": [
    "#### i.d)Построить асимптотический доверительный интервал уровня значимости $\\alpha_2$ для параметра $\\lambda$ на базе оценки максимального правдоподобия.\n",
    "##### На базе ОМП: \n",
    "$\\sqrt{n}\\left( \\widehat{\\theta}(\\overrightarrow{X})-\\theta \\right)\\sim N\\left( 0, \\frac{1}{I(\\theta)} \\right)$\n",
    "<br>\n",
    "$\\widehat{\\theta}=\\widehat{\\lambda}=\\frac{1}{\\overline{X}}$\n",
    "<br>\n",
    "$I(\\theta)=-\\mathbb{E}\\left( \\frac{\\partial^{2} LL}{\\partial \\lambda^{2}} \\right)=-\\mathbb{E}\\left( -\\frac{n}{2\\cdot \\lambda^{2}} \\right)=\\frac{n}{2\\cdot \\lambda^{2}}$\n",
    "\n",
    "$\\sqrt{n\\cdot I\\left(  \\widehat{\\theta}(\\overrightarrow{X})\\right)}\\left( \\widehat{\\theta}(\\overrightarrow{X})-\\theta \\right)\\sim N(0,1)$\n",
    "\n",
    "$\\alpha_2 = 0.01$,"
   ],
   "metadata": {
    "collapsed": false
   }
  },
  {
   "cell_type": "code",
   "execution_count": 1336,
   "outputs": [
    {
     "name": "stdout",
     "output_type": "stream",
     "text": [
      "2.58\n"
     ]
    }
   ],
   "source": [
    "from scipy.stats import norm\n",
    "\n",
    "alpha = 0.01\n",
    "X_995 = norm.ppf(1 - alpha/2)\n",
    "\n",
    "print(round(X_995,2))"
   ],
   "metadata": {
    "collapsed": false,
    "ExecuteTime": {
     "end_time": "2023-12-06T18:49:20.938274300Z",
     "start_time": "2023-12-06T18:49:18.420970500Z"
    }
   }
  },
  {
   "cell_type": "markdown",
   "source": [
    "$X_{\\alpha}$: $\\mathrm{Ф}(X_{\\alpha})=1-\\frac{\\alpha_{2}}{2}=1-\\frac{0.01}{2}=0.995 \\to X_{0.995}=2.58$\n",
    "Асимптотический доверительный интервал уровня значимости 0.01 для параметра $\\lambda$\n",
    "$\\left[ \\frac{1}{\\overline{X}}-\\frac{X_{0.995}}{\\sqrt{50\\cdot \\frac{50}{2\\cdot \\overline{X}^{2}}}}; \\frac{1}{\\overline{X}}+\\frac{X_{0.995}}{\\sqrt{50\\cdot \\frac{50}{2\\cdot \\overline{X}^{2}}}}\\right] \\to 2.16-\\frac{2.58}{\\sqrt{50\\cdot\\frac{50}{2 \\cdot 0.46^2 }}}\\le \\lambda\\le 2.16+\\frac{2.58}{\\sqrt{50\\cdot\\frac{50}{2 \\cdot 0.46^2 }}} \\to 2.1264\\le \\lambda\\le 2.1936$\n",
    "\n",
    "##### Построим на безе асимтотической нормальной оценки $\\widehat{\\theta}$\n",
    "\n",
    "$\\sqrt{n}\\left( \\widehat{\\theta}(\\overrightarrow{X})-\\theta \\right)\\sim N(0,\\sigma^{2}(\\theta))$\n",
    "<br>\n",
    "$\\sqrt{n}\\frac{ \\widehat{\\theta}(\\overrightarrow{X})-\\theta}{\\sigma(\\widehat{\\theta})}\\sim N(0,1)$\n",
    "<br>\n",
    "$\\alpha_2 = 0.01$\n",
    "$X_{\\alpha}: \\mathrm{Ф(X_{\\alpha})}=0.995\\to X_{0.995}=2.58$\n",
    "<br>\n",
    "$-X_{0.995}\\le \\sqrt{n}\\cdot \\frac{\\widehat{\\lambda}-\\lambda}{\\sqrt{\\widehat{\\lambda}}}\\le X_{0.995}$\n",
    "<br>\n",
    "$\\widehat{\\lambda} - \\frac{X_{0.995} \\cdot \\sqrt{\\widehat{\\lambda}}}{\\sqrt{n}} \\le \\lambda \\le \\widehat{\\lambda} - \\frac{X_{0.995} \\cdot \\sqrt{\\widehat{\\lambda}}}{\\sqrt{n}} \\to 2.16 - \\frac{2.58 \\cdot \\sqrt{2.16}}{\\sqrt{50}} \\le \\lambda \\le 2.16 + \\frac{2.58 \\cdot \\sqrt{2.16}}{\\sqrt{50}} \\to 1.6238 \\le \\lambda \\le 2.6962$"
   ],
   "metadata": {
    "collapsed": false
   }
  },
  {
   "cell_type": "markdown",
   "source": [
    "#### i.e)С использованием теоремы Колмогорова построить критерий значимости проверки простой гипотезы согласия с гамма-распределением с параметром $\\lambda_0$. Проверить гипотезу на уровне значимости $\\alpha_2$. Вычислить наибольшее значение уровня значимости, на котором еще нет оснований отвергнуть данную гипотезу."
   ],
   "metadata": {
    "collapsed": false
   }
  },
  {
   "cell_type": "code",
   "execution_count": 1337,
   "outputs": [
    {
     "name": "stdout",
     "output_type": "stream",
     "text": [
      "Dn: 0.4687787938130184\n",
      "x_a2: 0.2301807385848777\n"
     ]
    }
   ],
   "source": [
    "import numpy as np\n",
    "import scipy.stats as sps\n",
    "\n",
    "def calculate_distribution_params(data):\n",
    "    values, edges = np.histogram(data, bins=len(data))\n",
    "    cumulative_distribution = values.cumsum() / len(data)\n",
    "    return cumulative_distribution, edges\n",
    "\n",
    "def empirical_distribution(x, cumulative_distribution, edges):\n",
    "    for i in range(len(cumulative_distribution)):\n",
    "        if x > edges[i] and x <= edges[i + 1]:\n",
    "            return cumulative_distribution[i]\n",
    "        elif x > edges[-1]:\n",
    "            return 1\n",
    "        elif x <= edges[0]:\n",
    "            return 0\n",
    "\n",
    "def theoretical_distribution(x, lbd):\n",
    "    return sps.gamma.cdf(x, a=1/2, scale=lbd/2)\n",
    "\n",
    "def kolmogorov_statistic(data, lambda_0):\n",
    "    D = 0\n",
    "    x = 0\n",
    "    cumulative_distribution, edges = calculate_distribution_params(data)\n",
    "    \n",
    "    while x <= 5:\n",
    "        D = max(D, np.abs(empirical_distribution(x, cumulative_distribution, edges) - theoretical_distribution(x, lambda_0)))\n",
    "        x += 0.001\n",
    "\n",
    "    return D\n",
    "\n",
    "alpha_2 = 0.01\n",
    "lambda_0 =  0.36\n",
    "\n",
    "kolmogorov_statistic_value = kolmogorov_statistic(tab2, lambda_0)\n",
    "critical_value = sps.kstwobign.ppf(1 - alpha_2) / np.sqrt(len(tab2))\n",
    "\n",
    "print(\"Dn:\", kolmogorov_statistic_value)\n",
    "print(\"x_a2:\", critical_value)\n"
   ],
   "metadata": {
    "collapsed": false,
    "ExecuteTime": {
     "end_time": "2023-12-06T18:49:22.473182300Z",
     "start_time": "2023-12-06T18:49:18.436926Z"
    }
   }
  },
  {
   "cell_type": "markdown",
   "source": [
    "$D_n \\approx 0.46$\n",
    "<br>\n",
    "$x_{\\alpha_2} \\approx 0.23$\n",
    "\n",
    "Так как $D_n \\gt x_{\\alpha_2}$, то отвергаем гипотезу $H_0$"
   ],
   "metadata": {
    "collapsed": false
   }
  },
  {
   "cell_type": "code",
   "execution_count": 1338,
   "outputs": [
    {
     "name": "stdout",
     "output_type": "stream",
     "text": [
      "5.718132634058293e-10\n"
     ]
    }
   ],
   "source": [
    "print(1 - sps.kstwobign.cdf(kolmogorov_statistic_value*np.sqrt(len(tab2))))"
   ],
   "metadata": {
    "collapsed": false,
    "ExecuteTime": {
     "end_time": "2023-12-06T18:49:22.473182300Z",
     "start_time": "2023-12-06T18:49:19.202879800Z"
    }
   }
  },
  {
   "cell_type": "markdown",
   "source": [
    "Наибольшее значение уровня значимости, при котором нет оснований отвергнуть данную гипотезу = 5.718132634058293e-10"
   ],
   "metadata": {
    "collapsed": false
   }
  },
  {
   "cell_type": "markdown",
   "source": [
    "#### i.f)Используя гистограмму частот, построить критерий значимости $\\chi^2$ проверки простой гипотезы согласия с гамма-распределением с параметром $\\lambda_0$. Проверить гипотезу на уровне значимости $\\alpha_2$. Вычислить наибольшее значение уровня значимости, на котором еще нет оснований отвергнуть данную гипотезу.\n",
    "Выборка $X_1, X_2, \\dots, X_n$, взята из распределения с функцией распределения $F$.\n",
    "Предположим основную гипотезу: $H_0$, в которой утверждается, что $F$ эквивалентно экспоненциальному распределению с параметром $\\lambda_0$\n",
    "$H_0 : F \\equiv Exp(\\lambda_0)$\n",
    "Альтернативная гипотеза, $H_A$, предполагает, что существует такое значение $x$, при котором функция распределения $F$ не равна функции распределения экспоненциального распределения с параметром $\\lambda_0$\n",
    "$H_A : \\exists x : F(x) \\neq F_{Exp(\\lambda_0)}(x)$\n",
    "$x_{\\alpha_2} : K_{r-1}(x_{\\alpha_2}) = 1 - \\alpha_2$"
   ],
   "metadata": {
    "collapsed": false
   }
  },
  {
   "cell_type": "code",
   "execution_count": 1339,
   "outputs": [
    {
     "name": "stdout",
     "output_type": "stream",
     "text": [
      "[0.0, 0.003, 0.004, 0.005, 0.006, 0.007, 0.018, 0.023, 0.025, 0.035, 0.039, 0.064, 0.101, 0.106, 0.11, 0.134, 0.134, 0.137, 0.141, 0.161, 0.178, 0.181, 0.196, 0.229, 0.247, 0.257, 0.265, 0.27, 0.309, 0.328, 0.374, 0.415, 0.422, 0.429, 0.479, 0.501, 0.516, 0.547, 0.553, 0.559, 0.655, 0.748, 0.773, 0.866, 0.866, 1.114, 1.349, 2.24, 2.747, 3.243]\n"
     ]
    }
   ],
   "source": [
    "P = sorted(tab2)\n",
    "print(P)"
   ],
   "metadata": {
    "collapsed": false,
    "ExecuteTime": {
     "end_time": "2023-12-06T18:49:22.474137300Z",
     "start_time": "2023-12-06T18:49:19.219834900Z"
    }
   }
  },
  {
   "cell_type": "markdown",
   "source": [
    "$I_1 = [0, 0.1)$ - группа №1 \n",
    "$I_2 = [0.101, 0.25)$ - группа №2 \n",
    "$I_3 = [0.255, 0.45)$ - группа №3 \n",
    "$I_4 = [0.46,0.7)$ - группа №4\n",
    "$I_5 = [0.74, \\infty)$ - группа №5"
   ],
   "metadata": {
    "collapsed": false
   }
  },
  {
   "cell_type": "code",
   "execution_count": 1340,
   "outputs": [
    {
     "name": "stdout",
     "output_type": "stream",
     "text": [
      "[ 0 , 0.1 ]\t 12 \t 35.40797274281058\n",
      "[ 0.101 , 0.25 ]\t 13 \t 9.692987510682038\n",
      "[ 0.255 , 0.45 ]\t 9 \t 3.3489613639420988\n",
      "[ 0.46 , 0.7 ]\t 7 \t 0.9241904196592654\n",
      "[ 0.74 , +inf)\t 9 \t 0.2069024819516931\n",
      "хи-квадрат: 439.7779390701655\n"
     ]
    }
   ],
   "source": [
    "import numpy as np\n",
    "from scipy import stats\n",
    "\n",
    "cur_lambda_new = 0.36\n",
    "intervals_new = [[0, 0.1], [0.101, 0.25], [0.255, 0.45], [0.46, 0.7], [0.74, 4]]\n",
    "data_new = tab2\n",
    "freq_new = [0] * len(intervals_new)  # Экспериментальные частоты\n",
    "freq_teor_new = [0] * len(intervals_new)  # Гипотетические частоты\n",
    "\n",
    "for i in range(len(intervals_new)):\n",
    "    a = intervals_new[i][0]\n",
    "    \n",
    "    b = intervals_new[i][-1]\n",
    "    \n",
    "    freq_new[i] += len([x for x in data_new if (x >= a and x < b)])\n",
    "    \n",
    "    freq_teor_new[i] += len(data_new) * (stats.gamma.cdf(b,a=1/2, scale=cur_lambda_new/2) - stats.gamma.cdf(a,a=1/2, scale=cur_lambda_new/2))\n",
    "    \n",
    "    if (i == len(intervals_new) - 1):\n",
    "        freq_teor_new[i] += len(data_new) * stats.gamma.sf(b,a=1/2, scale=cur_lambda_new/2)\n",
    "        print('[', a, \", +inf)\\t\", freq_new[i], \"\\t\", freq_teor_new[i])\n",
    "    else:\n",
    "        print('[', a, ',', b, \"]\\t\", freq_new[i], \"\\t\", freq_teor_new[i])\n",
    "\n",
    "\n",
    "freq_new = np.array(freq_new)\n",
    "\n",
    "freq_teor_new = np.array(freq_teor_new)\n",
    "\n",
    "chi_square_new = np.sum((freq_new - freq_teor_new) ** 2 / freq_teor_new)\n",
    "\n",
    "print(\"хи-квадрат:\", chi_square_new)"
   ],
   "metadata": {
    "collapsed": false,
    "ExecuteTime": {
     "end_time": "2023-12-06T18:49:22.478127500Z",
     "start_time": "2023-12-06T18:49:19.236789900Z"
    }
   }
  },
  {
   "cell_type": "code",
   "execution_count": 1341,
   "outputs": [
    {
     "name": "stdout",
     "output_type": "stream",
     "text": [
      "x_a2: 13.276704135987622\n"
     ]
    }
   ],
   "source": [
    "alpha_2=0.01\n",
    "print(\"x_a2:\", sps.chi2.ppf(1 - alpha_2, df = len(freq) - 1))"
   ],
   "metadata": {
    "collapsed": false,
    "ExecuteTime": {
     "end_time": "2023-12-06T18:49:22.478127500Z",
     "start_time": "2023-12-06T18:49:19.266710700Z"
    }
   }
  },
  {
   "cell_type": "markdown",
   "source": [
    "$\\chi^2 \\approx 439.78$\n",
    "<br>\n",
    "$x_{\\alpha_2} \\approx 13.28$\n",
    "\n",
    "Так как $\\chi^2 > x_{\\alpha_2}$, то отвергаем гипотезу $H_0$"
   ],
   "metadata": {
    "collapsed": false
   }
  },
  {
   "cell_type": "code",
   "execution_count": 1342,
   "outputs": [
    {
     "name": "stdout",
     "output_type": "stream",
     "text": [
      "0.0\n"
     ]
    }
   ],
   "source": [
    "print(1 - stats.chi2.cdf(chi_square_new, df = len(freq_new) - 1))"
   ],
   "metadata": {
    "collapsed": false,
    "ExecuteTime": {
     "end_time": "2023-12-06T18:49:22.493086700Z",
     "start_time": "2023-12-06T18:49:19.281668800Z"
    }
   }
  },
  {
   "cell_type": "markdown",
   "source": [
    "Наибольшее значение уровня значимости, при котором нет оснований отвергнуть данную гипотезу = 0 (стремится к 0)"
   ],
   "metadata": {
    "collapsed": false
   }
  },
  {
   "cell_type": "markdown",
   "source": [
    "#### i.g)Построить критерий проверки значимости $\\chi^2$ проверки сложной гипотезы согласия с гамма-распределением. Проверить гипотезу на уровне $\\alpha_2$. Вычислить наибольшее значение уровня значимости, на котором еще нет оснований отвергнуть данную гипотезу.\n",
    "\n",
    "Рассматривается выборка $X_1, X_2, \\dots, X_n$, происходящая из распределения с функцией распределения $F$.\n",
    "Предполагаем основную гипотезу: $H_0$, утверждая, что $F$ принадлежит семейству экспоненциальных распределений с параметром $\\theta$, где $\\theta$ принадлежит множеству $\\Theta_0$.\n",
    "$H_0 : F \\in \\left\\{Exp(\\theta) : \\theta \\in \\Theta_0 \\right\\}$\n",
    "\n",
    "Альтернативная гипотеза, $H_A$, предполагает, что $F$ не принадлежит упомянутому выше семейству.\n",
    " $H_A : F \\notin \\left\\{Exp(\\theta) : \\theta \\in \\Theta_0 \\right\\}$\n",
    " \n",
    "В качестве оценки неизвестного параметра $\\theta$ используем оценку максимального правдоподобия (ОМП): $\\hat{\\theta} = \\frac{1}{\\bar{X}}$.\n",
    "$x_{\\alpha_2} : K_{r-2}(x_{\\alpha_2}) = 1 - \\alpha_2$\n",
    "\n",
    "$I_1 = [0, 0.1)$ - группа №1 \n",
    "$I_2 = [0.101, 0.25)$ - группа №2 \n",
    "$I_3 = [0.255, 0.45)$ - группа №3 \n",
    "$I_4 = [0.46,0.7)$ - группа №4\n",
    "$I_5 = [0.74, \\infty)$ - группа №5"
   ],
   "metadata": {
    "collapsed": false
   }
  },
  {
   "cell_type": "code",
   "execution_count": 1343,
   "outputs": [
    {
     "name": "stdout",
     "output_type": "stream",
     "text": [
      "[ 0 , 0.1 ]\t 12 \t 16.639033703514734\n",
      "[ 0.101 , 0.25 ]\t 13 \t 8.452657927870384\n",
      "[ 0.255 , 0.45 ]\t 9 \t 6.530810013338617\n",
      "[ 0.46 , 0.7 ]\t 7 \t 5.057151314593877\n",
      "[ 0.74 , +inf)\t 9 \t 12.107336075202936\n",
      "хи-квадрат: 6.217206232062298\n"
     ]
    }
   ],
   "source": [
    "cur_lambda = 1 / np.mean(tab2)\n",
    "\n",
    "intervals_new = [[0, 0.1], [0.101, 0.25], [0.255, 0.45], [0.46, 0.7], [0.74, 4]]\n",
    "\n",
    "freq = [0] * len(intervals_new)  #экспереметальные частоты\n",
    "\n",
    "freq_teor = [0] * len(intervals_new)  #Гипотетические частоты\n",
    "\n",
    "for i in range(len(intervals_new)):\n",
    "    a = intervals_new[i][0]\n",
    "\n",
    "    b = intervals_new[i][-1]\n",
    "\n",
    "    freq[i] += len([x for x in tab2 if (x >= a and x < b)])\n",
    "\n",
    "    freq_teor[i] += len(tab2) * (stats.gamma.cdf(b, a=1/2, scale= cur_lambda/2) - stats.gamma.cdf(a,a=1/2, scale= cur_lambda/2))\n",
    "\n",
    "    if (i == len(intervals_new) - 1):\n",
    "        freq_teor[i] += len(tab2) * stats.gamma.sf(b,a=1/2, scale= cur_lambda/2)\n",
    "        print('[', a, \", +inf)\\t\", freq[i], \"\\t\", freq_teor[i])\n",
    "    else:\n",
    "        print('[', a, ',', b, \"]\\t\", freq[i], \"\\t\", freq_teor[i])\n",
    "\n",
    "freq = np.array(freq)\n",
    "\n",
    "freq_teor = np.array(freq_teor)\n",
    "\n",
    "chi_square = np.sum((freq - freq_teor) ** 2 / freq_teor)\n",
    "print(\"хи-квадрат:\", chi_square)"
   ],
   "metadata": {
    "collapsed": false,
    "ExecuteTime": {
     "end_time": "2023-12-06T18:49:22.494084900Z",
     "start_time": "2023-12-06T18:49:19.295631Z"
    }
   }
  },
  {
   "cell_type": "code",
   "execution_count": 1344,
   "outputs": [
    {
     "name": "stdout",
     "output_type": "stream",
     "text": [
      "x_a2: 11.344866730144373\n"
     ]
    }
   ],
   "source": [
    "alpha_2 = 0.01\n",
    "print(\"x_a2:\", stats.chi2.ppf(1 - alpha_2, df = len(freq) - 2))"
   ],
   "metadata": {
    "collapsed": false,
    "ExecuteTime": {
     "end_time": "2023-12-06T18:49:22.494084900Z",
     "start_time": "2023-12-06T18:49:19.311589700Z"
    }
   }
  },
  {
   "cell_type": "markdown",
   "source": [
    "$\\chi^2 \\approx 6.22$\n",
    "<br>\n",
    "$x_{\\alpha_2} \\approx 11.34$\n",
    "\n",
    "Так как $\\chi^2 \\le x_{\\alpha_2}$, то принимаем гипотезу $H_0$"
   ],
   "metadata": {
    "collapsed": false
   }
  },
  {
   "cell_type": "code",
   "execution_count": 1345,
   "outputs": [
    {
     "name": "stdout",
     "output_type": "stream",
     "text": [
      "0.1015\n"
     ]
    }
   ],
   "source": [
    "print( round( 1 - stats.chi2.cdf(chi_square, df = len(freq) - 2),4))"
   ],
   "metadata": {
    "collapsed": false,
    "ExecuteTime": {
     "end_time": "2023-12-06T18:49:22.494084900Z",
     "start_time": "2023-12-06T18:49:19.326548700Z"
    }
   }
  },
  {
   "cell_type": "markdown",
   "source": [
    "Наибольшее значение уровня значимости, при котором нет оснований отвергнуть данную гипотезу = 0.1015"
   ],
   "metadata": {
    "collapsed": false
   }
  },
  {
   "cell_type": "markdown",
   "source": [
    "#### i.h)Построить наиболее мощный критерий проверки простой гипотезы с параметром $\\lambda = \\lambda_0$ при альтернативе с параметром $\\lambda = \\lambda_1$. Проверить гипотезу на уровне значимости $\\alpha_2$. Что получится, если поменять местами основную и альтернативные гипотезы? \n",
    "Основная предположенная гипотеза: $H_0 : \\lambda = \\lambda_0$\n",
    "Альтернативная гипотеза:$H_A : \\lambda = \\lambda_1$\n",
    "Функция правдоподобия представляется следующим образом:\n",
    "$L\\left(\\overrightarrow{X}, \\theta\\right) = \\left(\\frac{\\lambda}{2\\pi}\\right)^{n/2}\\exp\\left(-\\frac{\\lambda}{2}\\sum_{i=1}^{n}{x_i}\\right)\\prod_{i=1}^{n}\\frac{1}{\\sqrt{x_i}}$\n",
    "Таким образом, статистика отношения правдоподобия принимает форму:\n",
    "$LR\\left(\\overrightarrow{X}, \\lambda_0, \\lambda_1\\right) = \\frac{L\\left(\\overrightarrow{X}, \\lambda_1\\right)}{L\\left(\\overrightarrow{X}, \\lambda_0\\right)} = \\left(\\frac{\\lambda_1}{\\lambda_0}\\right)^{n/2}\\exp(-\\frac{1}{2}(\\lambda_1 - \\lambda_0) \\sum_{i=1}^{n}x_i)$\n",
    "Поскольку $LR\\left(\\overrightarrow{X}, \\lambda_0, \\lambda_1\\right)$ монотонно относительно среднего значения $\\bar{X}$\n",
    "$LR\\left(\\overrightarrow{X}\\right) = \\left(\\frac{\\lambda_1}{\\lambda_0}\\right)^{n/2}\\exp(-\\frac{1}{2}(\\lambda_1 - \\lambda_0) \\sum_{i=1}^{n}x_i) > c \\iff \\frac{n}{2}\\ln\\frac{\\lambda_1}{\\lambda_0} - \\frac{1}{2}(\\lambda_1 - \\lambda_0)\\sum_{i=1}^{n}{x_i} > \\ln c \\iff \\bar{X} > -\\frac{\\ln c - \\frac{n}{2}\\ln\\frac{\\lambda_1}{\\lambda_0}}{\\frac{1}{2}(\\lambda_1 - \\lambda_0)} = c^*$\n",
    "$LR\\left(\\overrightarrow{X}\\right) < c \\iff \\bar{X} < c^*$\n",
    "Решение уравнения:\n",
    "$P_{\\lambda_0}\\left(LR(\\overrightarrow{X}) > c\\right) + pP_{\\lambda_0}\\left(LR(\\overrightarrow{X}) = c\\right) = \\alpha_2$\n",
    "$P_{\\lambda_0}\\left(n\\bar{X} > nc^*\\right) + pP_{\\lambda_0}\\left(n\\bar{X} = nc^*\\right) = \\alpha_2$\n",
    "Критерий не имеет однозначного определения при $LR(\\overrightarrow{X}) = c$\n",
    "Допустим, $LR(\\overrightarrow{X}) \\neq c$, тогда:$P_{\\lambda_0}\\left(n\\bar{X} > nc^*\\right) = 1 - F_{Gamma(n/2, 2/\\lambda_0)}\\left(nc^*\\right) = \\alpha_2$\n",
    "$F_{Gamma(n/2, 2/\\lambda_0)}\\left(nc^*\\right) = 1 - \\alpha_2 = 0.99$"
   ],
   "metadata": {
    "collapsed": false
   }
  },
  {
   "cell_type": "code",
   "execution_count": 1348,
   "outputs": [
    {
     "name": "stdout",
     "output_type": "stream",
     "text": [
      "4.2308\n",
      "0.46218\n"
     ]
    }
   ],
   "source": [
    "print(round(sps.gamma.ppf(0.99, a = len(tab2)/2, scale = 2/lambda_0) / len(tab2),4))\n",
    "print(np.mean(tab2))"
   ],
   "metadata": {
    "collapsed": false,
    "ExecuteTime": {
     "end_time": "2023-12-06T19:04:24.236489Z",
     "start_time": "2023-12-06T19:04:24.197593Z"
    }
   }
  },
  {
   "cell_type": "markdown",
   "source": [
    "$c^* = 4.23$\n",
    "<br>\n",
    "$\\bar{X} = 0.462$\n",
    "\n",
    "$c^* < \\bar{X}$ следовательно принимаем гипотезу $H_0$\n",
    "\n",
    "Изменим местами гипотезы.\n",
    "Альтернативная гипотеза: $H_A : \\lambda = \\lambda_0$\n",
    "Основная гипотеза: $H_0 : \\lambda = \\lambda_1$\n",
    "Тогда статистика отношения правдоподобия принимает следующий вид:\n",
    "$LR\\left(\\overrightarrow{X}, \\lambda_1, \\lambda_0\\right) = \\frac{L\\left(\\overrightarrow{X}, \\lambda_0\\right)}{L\\left(\\overrightarrow{X}, \\lambda_1\\right)} = \\left(\\frac{\\lambda_0}{\\lambda_1}\\right)^{n/2}\\exp(-\\frac{1}{2}(\\lambda_0 - \\lambda_1) \\sum_{i=1}^{n}x_i)$\n",
    "Поскольку $LR\\left(\\overrightarrow{X}, \\lambda_1, \\lambda_0\\right)$ монотонна относительно среднего значения $\\bar{X}$\n",
    "$LR\\left(\\overrightarrow{X}\\right) > c \\iff \\bar{X} > c^*$\n",
    "Решение уравнения: $P_{\\lambda_1}\\left(LR(\\overrightarrow{X}) > c\\right) + pP_{\\lambda_1}\\left(LR(\\overrightarrow{X}) = c\\right) = \\alpha_1$\n",
    "$P_{\\lambda_1}\\left(n\\bar{X} > nc^*\\right) + pP_{\\lambda_1}\\left(n\\bar{X} = nc^*\\right) = \\alpha_1$\n",
    "Критерий не имеет однозначного определения при $LR(\\overrightarrow{X}) = c$\n",
    "Допустим, $LR(\\overrightarrow{X}) \\neq c$, тогда:\n",
    "$P_{\\lambda_1}\\left(n\\bar{X} > nc^*\\right) = 1 - F_{Gamma(n/2, 2/\\lambda_1)}\\left(nc^*\\right) = \\alpha_1$\n",
    "$F_{Gamma(n/2, 2/\\lambda_1)}\\left(nc^*\\right) = 1 - \\alpha_2 = 0.99$    "
   ],
   "metadata": {
    "collapsed": false
   }
  },
  {
   "cell_type": "code",
   "execution_count": 1347,
   "outputs": [
    {
     "name": "stdout",
     "output_type": "stream",
     "text": [
      "1.0651\n",
      "0.46218\n"
     ]
    }
   ],
   "source": [
    "lambda_1 = 1.43\n",
    "\n",
    "print(round(sps.gamma.ppf(0.99, a = len(tab2)/2, scale = 2/lambda_1) / len(tab2),4))\n",
    "print(np.mean(tab2))"
   ],
   "metadata": {
    "collapsed": false,
    "ExecuteTime": {
     "end_time": "2023-12-06T18:49:22.495081800Z",
     "start_time": "2023-12-06T18:49:19.355472Z"
    }
   }
  },
  {
   "cell_type": "markdown",
   "source": [
    "$c^* = 1.06$\n",
    "<br>\n",
    "$\\bar{X} = 0.46$\n",
    "\n",
    "$c^* > \\bar{X}$ следовательно принимаем гипотезу $H_0$"
   ],
   "metadata": {
    "collapsed": false
   }
  },
  {
   "cell_type": "markdown",
   "source": [
    "## Выводы\n",
    "В ходе выполнения практической работы было изучено и успешно применено применение методов математической статистики для решения задач статистического анализа. Были освоены навыки реализации этих методов с использованием прикладных программных пакетов. Изучив основные концепции и методы математической статистики, были приобретены умения проводить статистические тесты, анализировать выборочные данные, строить доверительные интервалы, проверять гипотезы и многое другое.\n",
    "\n",
    "Также был получен опыт оценивания параметров для различных семейств распределений, строения асимптотических интервалов и проверки гипотез. При этом были успешно применены программные пакеты, такие как Python с библиотеками NumPy и Scipy. Они позволили проводить анализ данных, вычислять статистические выборочные характеристики, разрабатывать и оценивать модели, и существенно облегчили процесс статистического анализа данных."
   ],
   "metadata": {
    "collapsed": false
   }
  }
 ],
 "metadata": {
  "kernelspec": {
   "name": "python3",
   "language": "python",
   "display_name": "Python 3 (ipykernel)"
  },
  "language_info": {
   "codemirror_mode": "r",
   "file_extension": ".r",
   "mimetype": "text/x-r-source",
   "name": "R",
   "pygments_lexer": "r",
   "version": "4.0.3"
  }
 },
 "nbformat": 4,
 "nbformat_minor": 4
}
