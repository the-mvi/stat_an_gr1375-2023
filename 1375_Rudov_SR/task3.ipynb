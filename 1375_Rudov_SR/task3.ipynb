{
 "cells": [
  {
   "cell_type": "markdown",
   "metadata": {},
   "source": [
    "# Практическая работа №3: Регрессионный анализ\n",
    "Выполнил студент гр. 1375 Рудов Сергей. Вариант №23"
   ]
  },
  {
   "cell_type": "markdown",
   "metadata": {},
   "source": [
    "## Цель работы\n",
    "Ознакомление с основными положениями метода наименьших квадратов (МНК), со статистическими свойствами МНК-оценок, с понятием функции регрессии и роли МНК в регрессионном анализе."
   ]
  },
  {
   "cell_type": "markdown",
   "metadata": {},
   "source": [
    "## Основные теоретические положения\n",
    "Регрессионные модели:\n",
    "- Общая формула: $\\mathbb{E}{\\theta}(Y|z)=f{\\theta}(z)$, где $Y$ - наблюдения, $z$ - ковариата.\n",
    "- Линейная регрессия: $\\mathbb{E}_{\\theta}(Y|z)=x(z)^\\intercal\\beta$, где $\\beta$ - параметры, $x(z)$ - регрессоры.\n",
    "- Статистическая модель: $\\mathbb{E}_{\\theta}(Y|z)=X^\\intercal\\beta$, $Var(Y|z) = \\sigma^2E$.\n",
    "\n",
    "Метод наименьших квадратов (МНК):\n",
    "- Альтернативная форма: $Y = X^\\intercal\\beta + \\varepsilon$.\n",
    "- Минимизация $RSS(\\beta)=\\left| Y-X^\\intercal\\beta \\right|^2$.\n",
    "- Нормальные уравнения: $XX^\\intercal\\beta=XY$.\n",
    "- Решение: $\\hat{\\beta}=(XX^\\intercal)^{-1}XY$.\n",
    "\n",
    "Оценка параметра $\\sigma^2$:\n",
    "- $S^2 =\\frac{RSS(\\hat{\\beta})}{n-r}$.\n",
    "\n",
    "Линейная функция параметра $\\psi(\\beta)$:\n",
    "- $\\psi(\\beta) = C^\\intercal\\beta$.\n",
    "- Несмещенная оценка: $\\hat{\\psi} = \\sum_{i = 1}^{m}c_i\\hat{\\beta}_i$.\n",
    "\n",
    "Теорема Гаусса-Маркова:\n",
    "- Линейные несмещенные оценки единственны и имеют вид $\\hat{\\psi} = C^\\intercal\\hat{\\beta}$.\n",
    "\n",
    "Предположения:\n",
    "- Классическое: $ Y \\sim \\mathcal{N}(X^\\intercal\\beta,\\sigma^2E) $.\n",
    "- Об остатках: $ \\varepsilon \\sim \\mathcal{N}(0,\\sigma^2E) $.\n",
    "\n",
    "Доверительный интервал:\n",
    "- Для $\\psi(\\beta) = C^\\intercal\\beta$.\n",
    "- $\\hat{\\psi} \\sim \\mathcal{N}(\\psi,\\sigma^2b_\\psi)$.\n",
    "- ДИ: $\\left[\\hat{\\psi} - x_\\alpha S \\sqrt{b_\\psi}; \\hat{\\psi} + x_\\alpha S \\sqrt{b_\\psi}\\right]$.\n",
    "\n",
    "Доверительный эллипсоид:\n",
    "- Распределение: $\\frac{\\left(\\hat{\\psi} - {\\psi}\\right)^\\intercal {b_\\psi}^{-1} \\left(\\hat{\\psi} - {\\psi}\\right)}{qS^2} \\sim \\mathcal{F}_{q,n-r}$.\n",
    "- Дов. эллипсоид: $\\left\\{\\overrightarrow{x} : \\left(\\overrightarrow{x} - \\hat{\\psi}\\right)^\\intercal b_\\psi^{-1} \\left(\\overrightarrow{x} - \\hat{\\psi}\\right) \\le q S^2 x_\\alpha\\right\\}$,где $x_\\alpha: \\mathcal{F}_{q, n-r}(x_\\alpha) = 1 - \\alpha$\n",
    "\n",
    "Проверка гипотез:\n",
    "- $H_0:\\psi=0$.\n",
    "- Статистика: $\\mathbb{F} = \\frac{SS_H/q}{SS_e/(n-r)}$.\n",
    "- $\\mathbb{F} \\sim \\mathcal{F}_{q,n-r}$."
   ]
  },
  {
   "cell_type": "markdown",
   "metadata": {},
   "source": [
    "## Постановка задачи\n",
    "Результаты статистического эксперимента приведены в таблице 1. Требуется оценить характер (случайной) зависимости переменной $Y$ от переменной $X$. \n",
    "<br>\n",
    "1.Построить графически результаты эксперимента. Сформулировать линейную регрессионную модель переменной $Y$ по переменной $X$. Построить МНК оценки параметра сдвига $\\beta_0$ и масштаба $\\beta_1$. Построить полученную линию регрессии. Оценить визуально соответствие полученных данных и построенной оценки. \n",
    "<br>\n",
    "2.Построить и интерпретировать несмещенную оценку дисперсии. На базе ошибок построить гистограмму с шагом h. Проверить гипотезу нормальности ошибок на уровне значимости $\\alpha$ по $\\chi^2$. Оценить расстояние полученной оценки до класса нормальных распределений по Колмогорову. Визуально оценить данный факт. \n",
    "<br>\n",
    "3.В предположении нормальности ошибок построить доверительные интервалы для параметров $\\beta_0$ и $\\beta_1$ уровня доверия $1-\\alpha$. Построить доверительный эллипс уровня доверия $1-\\alpha$ для $(\\beta_0, \\beta_1)$ (вычислить его полуоси).\n",
    "<br>\n",
    "4.Сформулировать гипотезу независимости переменной $Y$ от переменной $X$. Провести проверку значимости\n",
    "<br>\n",
    "5.Сформулировать модель, включающую дополнительный член с $X^2$. Построить МНК оценки параметров $\\beta_0$, $\\beta_1$, $\\beta_2$ в данной модели. Изобразить графически полученную регрессионную зависимость. \n",
    "<br>\n",
    "6.Построить несмещенную оценку дисперсии. Провести исследование нормальности ошибок как в пункте 2.\n",
    "<br>\n",
    "7.В предположении нормальности ошибок построить доверительные интервалы для параметров $\\beta_0$, $\\beta_1$, $\\beta_2$ уровня доверия $1-\\alpha$. Написать уравнение доверительного эллипсоида уровня доверия $1-\\alpha$.\n",
    "<br>\n",
    "8.Сформулировать гипотезу линейной регрессионной зависимости переменной $Y$ от переменной $X$ и проверить ее значимость на уровне $\\alpha$.\n",
    "<br>\n",
    "9.Интерпритировать полученные результаты."
   ]
  },
  {
   "cell_type": "markdown",
   "metadata": {},
   "source": [
    "## Выполнение работы\n",
    "Таблица 1:"
   ]
  },
  {
   "cell_type": "code",
   "execution_count": 1134,
   "metadata": {
    "ExecuteTime": {
     "end_time": "2023-12-13T18:13:11.526414400Z",
     "start_time": "2023-12-13T18:13:11.295997300Z"
    }
   },
   "outputs": [
    {
     "name": "stdout",
     "output_type": "stream",
     "text": [
      "  Number    Number_y    Number_x\n",
      "       1       34.19           1\n",
      "       2       20.3            1\n",
      "       3       28.02           2\n",
      "       4       26.19           2\n",
      "       5       10.52           2\n",
      "       6        6.79           0\n",
      "       7        5.2            1\n",
      "       8       20.36           1\n",
      "       9       31.64           0\n",
      "      10       21.97           2\n",
      "      11        8.39           0\n",
      "      12        4.92           2\n",
      "      13       23.54           1\n",
      "      14        6.2            0\n",
      "      15        5.86           1\n",
      "      16       19.06           1\n",
      "      17       14              0\n",
      "      18       16.46           2\n",
      "      19       17.43           1\n",
      "      20       10.87           2\n",
      "      21       18.47           0\n",
      "      22        3.58           1\n",
      "      23       10.33           0\n",
      "      24        9.91           0\n",
      "      25       12.49           2\n",
      "      26       24.83           2\n",
      "      27        1.87           1\n",
      "      28        6.81           1\n",
      "      29       15.72           0\n",
      "      30       13.34           0\n",
      "      31       14.47           0\n",
      "      32       13.25           0\n",
      "      33       13.97           0\n",
      "      34        6.48           0\n",
      "      35        9.02           2\n",
      "      36       12.81           1\n",
      "      37       19.94           2\n",
      "      38       17.94           1\n",
      "      39        9.94           0\n",
      "      40        4.42           1\n",
      "      41       21.33           2\n",
      "      42        0.35           0\n",
      "      43       18.21           0\n",
      "      44       12.13           2\n",
      "      45       21.09           2\n",
      "      46        1.05           2\n",
      "      47        1.2            1\n",
      "      48        7.7            2\n",
      "      49        2.74           1\n",
      "      50       14.34           1\n"
     ]
    }
   ],
   "source": [
    "from tabulate import tabulate\n",
    "import warnings\n",
    "import sympy\n",
    "# Игнорировать предупреждения DeprecationWarning\n",
    "warnings.filterwarnings(\"ignore\", category=DeprecationWarning)\n",
    "\n",
    "numbers = [1, 2, 3, 4, 5, 6, 7, 8, 9, 10, 11, 12, 13, 14, 15, 16, 17, 18, 19, 20, 21, 22, 23, 24, 25, 26, 27, 28, 29, 30, 31, 32, 33, 34, 35, 36, 37, 38, 39, 40, 41, 42, 43, 44, 45, 46, 47, 48, 49, 50]\n",
    "numbers_y = [34.19, 20.30, 28.02, 26.19, 10.52, 6.79, 5.20, 20.36, 31.64, 21.97, 8.39, 4.92, 23.54, 6.20, 5.86, 19.06, 14.00, 16.46, 17.43, 10.87, 18.47, 3.58, 10.33, 9.91, 12.49, 24.83, 1.87, 6.81, 15.72, 13.34, 14.47, 13.25, 13.97, 6.48, 9.02, 12.81, 19.94, 17.94, 9.94, 4.42, 21.33, 0.35, 18.21, 12.13, 21.09, 1.05, 1.20, 7.70, 2.74, 14.34]\n",
    "numbers_x = [1, 1, 2, 2, 2, 0, 1, 1, 0, 2, 0, 2, 1, 0, 1, 1, 0, 2, 1, 2, 0, 1, 0, 0, 2, 2, 1, 1, 0, 0, 0, 0, 0, 0, 2, 1, 2, 1, 0, 1, 2, 0, 0, 2, 2, 2, 1, 2, 1, 1]\n",
    "h = 2.9\n",
    "alpha = 0.2\n",
    "data = list(zip(numbers, numbers_y, numbers_x))\n",
    "headers = [\"Number\", \"Number_y\", \"Number_x\"]\n",
    "\n",
    "table = tabulate(data, headers=headers, tablefmt=\"plain\")\n",
    "print(table)\n"
   ]
  },
  {
   "cell_type": "markdown",
   "source": [
    "### 1.Построить графически результаты эксперимента. Сформулировать линейную регрессионную модель переменной $Y$ по переменной $X$. Построить МНК оценки параметра сдвига $\\beta_0$ и масштаба $\\beta_1$. Построить полученную линию регрессии. Оценить визуально соответствие полученных данных и построенной оценки. "
   ],
   "metadata": {
    "collapsed": false
   }
  },
  {
   "cell_type": "markdown",
   "source": [
    "ㅤ\n",
    "$\\mathbb{E}_{\\theta}(Y|z) = x(z)^{\\intercal}\\beta$\n",
    "<br>\n",
    "$Y = \\beta_0 + \\beta_1 X + \\varepsilon$"
   ],
   "metadata": {
    "collapsed": false
   }
  },
  {
   "cell_type": "code",
   "execution_count": 1135,
   "outputs": [
    {
     "name": "stdout",
     "output_type": "stream",
     "text": [
      "beta_0 11.93\n",
      "beta_1 1.53\n"
     ]
    },
    {
     "data": {
      "text/plain": "<Figure size 640x480 with 1 Axes>",
      "image/png": "[encoded data removed]"
     },
     "metadata": {},
     "output_type": "display_data"
    }
   ],
   "source": [
    "import matplotlib.pyplot as plt\n",
    "import numpy as np\n",
    "from scipy.optimize import curve_fit\n",
    "import scipy.stats as sps\n",
    "\n",
    "# Ваши данные\n",
    "numbers_x = np.array([1, 1, 2, 2, 2, 0, 1, 1, 0, 2, 0, 2, 1, 0, 1, 1, 0, 2, 1, 2, 0, 1, 0, 0, 2, 2, 1, 1, 0, 0, 0, 0, 0, 0, 2, 1, 2, 1, 0, 1, 2, 0, 0, 2, 2, 2, 1, 2, 1, 1])\n",
    "numbers_y = np.array([34.19, 20.30, 28.02, 26.19, 10.52, 6.79, 5.20, 20.36, 31.64, 21.97, 8.39, 4.92, 23.54, 6.20, 5.86, 19.06, 14.00, 16.46, 17.43, 10.87, 18.47, 3.58, 10.33, 9.91, 12.49, 24.83, 1.87, 6.81, 15.72, 13.34, 14.47, 13.25, 13.97, 6.48, 9.02, 12.81, 19.94, 17.94, 9.94, 4.42, 21.33, 0.35, 18.21, 12.13, 21.09, 1.05, 1.20, 7.70, 2.74, 14.34])\n",
    "\n",
    "# МНК функция\n",
    "def linear_regression(x, beta_0, beta_1):\n",
    "    return beta_0 + beta_1 * x\n",
    "\n",
    "# МНК оценки параметров\n",
    "params, covariance = curve_fit(linear_regression, numbers_x, numbers_y)\n",
    "beta_0, beta_1 = params\n",
    "\n",
    "# Вывод оценок\n",
    "print(\"beta_0\",round(beta_0,2))\n",
    "print(\"beta_1\",round(beta_1,2))\n",
    "\n",
    "# Построение графика данных и линии регрессии\n",
    "plt.scatter(numbers_x, numbers_y, s=20, c='blue', label=\"Данные\")\n",
    "plt.xlabel(\"X\")\n",
    "plt.ylabel(\"Y\")\n",
    "plt.show()\n"
   ],
   "metadata": {
    "collapsed": false,
    "ExecuteTime": {
     "end_time": "2023-12-13T18:13:11.684956200Z",
     "start_time": "2023-12-13T18:13:11.528375700Z"
    }
   }
  },
  {
   "cell_type": "code",
   "execution_count": 1136,
   "outputs": [
    {
     "data": {
      "text/plain": "<Figure size 640x480 with 1 Axes>",
      "image/png": "[encoded data removed]"
     },
     "metadata": {},
     "output_type": "display_data"
    }
   ],
   "source": [
    "plt.scatter(numbers_x, numbers_y, s=20, c='blue', label=\"Данные\")\n",
    "plt.plot(numbers_x, linear_regression(numbers_x, beta_0, beta_1), color='red', label=\"Линия регрессии\")\n",
    "plt.xlabel(\"X\")\n",
    "plt.ylabel(\"Y\")\n",
    "plt.legend()\n",
    "plt.show()\n"
   ],
   "metadata": {
    "collapsed": false,
    "ExecuteTime": {
     "end_time": "2023-12-13T18:13:11.885420Z",
     "start_time": "2023-12-13T18:13:11.671990400Z"
    }
   }
  },
  {
   "cell_type": "markdown",
   "source": [
    "Линейная регрессионная модель будет иметь вид:\n",
    "$Y \\approx 11.93 + 1.53 \\cdot X$\n",
    "Из графика видно, что наблюдаемые данные сильно отклоняются от построенной линии регрессии. Это может указывать на то, что линейная модель не является наилучшим приближением для этих данных."
   ],
   "metadata": {
    "collapsed": false
   }
  },
  {
   "cell_type": "markdown",
   "source": [
    "### 2.Построить и интерпретировать несмещенную оценку дисперсии. На базе ошибок построить гистограмму с шагом h. Проверить гипотезу нормальности ошибок на уровне значимости $\\alpha$ по $\\chi^2$. Оценить расстояние полученной оценки до класса нормальных распределений по Колмогорову. Визуально оценить данный факт. "
   ],
   "metadata": {
    "collapsed": false
   }
  },
  {
   "cell_type": "code",
   "execution_count": 1137,
   "outputs": [
    {
     "name": "stdout",
     "output_type": "stream",
     "text": [
      "[[11.93211037]\n",
      " [ 1.53131595]]\n",
      "Несмещённая оценка дисперсии: 66.12\n"
     ]
    }
   ],
   "source": [
    "y_matrix = np.matrix(numbers_y).T\n",
    "x_matrix = np.matrix([[1] * len(numbers_x), numbers_x])\n",
    "b_matrix = np.linalg.inv(x_matrix * x_matrix.T) * x_matrix * y_matrix\n",
    "print(b_matrix)\n",
    "# Рассчет несмещенной оценки дисперсии\n",
    "# np.linalg.norm() вычисляет норму вектора\n",
    "# np.linalg.matrix_rank() вычисляет ранг матрицы\n",
    "unbiased_variance  = np.linalg.norm(y_matrix - x_matrix.T * b_matrix)**2/(len(numbers_x) - np.linalg.matrix_rank(x_matrix))\n",
    "\n",
    "print(\"Несмещённая оценка дисперсии:\", round(unbiased_variance,2))"
   ],
   "metadata": {
    "collapsed": false,
    "ExecuteTime": {
     "end_time": "2023-12-13T18:13:11.890408600Z",
     "start_time": "2023-12-13T18:13:11.870461700Z"
    }
   }
  },
  {
   "cell_type": "code",
   "execution_count": 1138,
   "outputs": [
    {
     "name": "stdout",
     "output_type": "stream",
     "text": [
      "Интервал 1: [-13.94:-11.04], Частота: 4\n",
      "Интервал 2: [-11.04:-8.14], Частота: 5\n",
      "Интервал 3: [-8.14:-5.24], Частота: 6\n",
      "Интервал 4: [-5.24:-2.34], Частота: 6\n",
      "Интервал 5: [-2.34:0.56], Частота: 4\n",
      "Интервал 6: [0.56:3.46], Частота: 7\n",
      "Интервал 7: [3.46:6.36], Частота: 8\n",
      "Интервал 8: [6.36:9.26], Частота: 4\n",
      "Интервал 9: [9.26:12.16], Частота: 3\n",
      "Интервал 10: [12.16:15.06], Частота: 1\n",
      "Интервал 11: [15.06:17.96], Частота: 0\n",
      "Интервал 12: [17.96:20.86], Частота: 2\n",
      "50\n"
     ]
    },
    {
     "data": {
      "text/plain": "<Figure size 640x480 with 1 Axes>",
      "image/png": "[encoded data removed]"
     },
     "metadata": {},
     "output_type": "display_data"
    }
   ],
   "source": [
    "#вычисляем вектор ошибок, который представляет собой разницу между фактическими значениями и предсказанными значениями на основе регрессии \n",
    "errors = y_matrix - x_matrix.T * b_matrix\n",
    "\n",
    "hist_bins = np.arange(min(errors), max(errors) + h, h)\n",
    "\n",
    "# Вычисление частот и границ бинов\n",
    "hist_values, hist_edges = np.histogram(errors, bins=hist_bins)\n",
    "\n",
    "total_elements = len(errors)\n",
    "hist_values_normalized = hist_values / total_elements\n",
    "# Вывод интервалов и частот всех бинов\n",
    "for i in range(len(hist_values_normalized)):\n",
    "    print(f\"Интервал {i + 1}: [{hist_edges[i]:.2f}:{hist_edges[i + 1]:.2f}], Частота: {hist_values[i]}\")\n",
    "print(sum(hist_values))\n",
    "# Построение гистограммы\n",
    "plt.hist(errors, bins=hist_bins, edgecolor='black', density=True)\n",
    "plt.xlabel(\"Ошибки\")\n",
    "plt.ylabel(\"Частота\")\n",
    "plt.title(\"Гистограмма ошибок\")\n",
    "plt.show()\n"
   ],
   "metadata": {
    "collapsed": false,
    "ExecuteTime": {
     "end_time": "2023-12-13T18:13:12.142733Z",
     "start_time": "2023-12-13T18:13:11.888412200Z"
    }
   }
  },
  {
   "cell_type": "code",
   "execution_count": 1139,
   "outputs": [
    {
     "name": "stdout",
     "output_type": "stream",
     "text": [
      "\n",
      "хи-квадрат: 2.87\n",
      "x_a: 5.99\n"
     ]
    }
   ],
   "source": [
    "# Среднее значение ошибок\n",
    "mean_errors = 0\n",
    "# Стандартное отклонение ошибок на основе несмещенной оценки дисперсии\n",
    "std_errors = np.sqrt(unbiased_variance)\n",
    "\n",
    "# Заданные интервалы\n",
    "intervals = [[-14, -8], [-7.9, -2.2], [-2.1, 3.5], [3.55, 6.4], [6.45, 21]]\n",
    "\n",
    "# Экспериментальные частоты\n",
    "freq_exp = [0] * len(intervals) \n",
    "# Теоретические частоты\n",
    "freq_teor = [0] * len(intervals) \n",
    "\n",
    "for i in range(len(intervals)):\n",
    "    num1 = intervals[i][0]\n",
    "    num2 = intervals[i][-1]\n",
    "    freq_exp[i] += len([x for x in errors if (x >= num1 and x < num2)])\n",
    "    freq_teor[i] += len(errors) * (sps.norm.cdf(num2, loc=mean_errors, scale=std_errors) - sps.norm.cdf(num1, loc=mean_errors, scale=std_errors))\n",
    "    if i == len(intervals) - 1:\n",
    "        freq_teor[i] += len(errors) * sps.norm.sf(num2, loc=mean_errors, scale=std_errors)\n",
    "    \n",
    "\n",
    "\n",
    "freq_exp = np.array(freq_exp)\n",
    "freq_teor = np.array(freq_teor)\n",
    "chi_2 = np.sum((freq_exp - freq_teor) ** 2 / freq_teor)\n",
    "\n",
    "print()\n",
    "print(\"хи-квадрат:\", round(chi_2,2))\n",
    "print(\"x_a:\", round(sps.chi2.ppf(1 - alpha, df=len(freq_exp) - 1),2))\n"
   ],
   "metadata": {
    "collapsed": false,
    "ExecuteTime": {
     "end_time": "2023-12-13T18:13:12.241469200Z",
     "start_time": "2023-12-13T18:13:12.094861Z"
    }
   }
  },
  {
   "cell_type": "code",
   "execution_count": 1140,
   "outputs": [
    {
     "name": "stdout",
     "output_type": "stream",
     "text": [
      "Интервал x        Экспериментальная частота    Гипотетическая частота\n",
      "[-14, -8]                                 9                   6.0019\n",
      "[-7.9, -2.2]                             12                  11.3863\n",
      "[-2.1, 3.5]                              11                  13.4226\n",
      "[3.55, 6.4]                               8                   5.77938\n",
      "[6.45, '+inf']                           10                  10.6914\n"
     ]
    }
   ],
   "source": [
    "intervals = [[-14, -8], [-7.9, -2.2], [-2.1, 3.5], [3.55, 6.4], [6.45, \"+inf\"]]\n",
    "data = list(zip(intervals, freq_exp, freq_teor))\n",
    "headers = [\"Интервал x\",\"Экспериментальная частота\",\"Гипотетическая частота\"]\n",
    "table = tabulate(data, headers=headers, tablefmt=\"plain\")\n",
    "print(table)"
   ],
   "metadata": {
    "collapsed": false,
    "ExecuteTime": {
     "end_time": "2023-12-13T18:13:12.244460700Z",
     "start_time": "2023-12-13T18:13:12.118797400Z"
    }
   }
  },
  {
   "cell_type": "markdown",
   "source": [
    "\n",
    "${\\chi}^2 \\approx 2.87$\n",
    "<br>\n",
    "$x_{\\alpha} \\approx 5.99$\n",
    "\n",
    "$\\chi^2 < x_{\\alpha} \\to$ гипотеза о нормальности принимается"
   ],
   "metadata": {
    "collapsed": false
   }
  },
  {
   "cell_type": "code",
   "execution_count": 1141,
   "outputs": [
    {
     "name": "stdout",
     "output_type": "stream",
     "text": [
      "Статистика критерия Колмогорова: 0.0755\n",
      "x_a: 0.1517\n"
     ]
    }
   ],
   "source": [
    "print(\"Статистика критерия Колмогорова:\", round(sps.kstest([num[0,0] for num in errors], \"norm\", args = (mean_errors,std_errors)).statistic,4))\n",
    "print(\"x_a:\", round(sps.kstwobign.ppf(1 - alpha) / np.sqrt(len(errors)),4))"
   ],
   "metadata": {
    "collapsed": false,
    "ExecuteTime": {
     "end_time": "2023-12-13T18:13:12.286348500Z",
     "start_time": "2023-12-13T18:13:12.133757600Z"
    }
   }
  },
  {
   "cell_type": "markdown",
   "source": [
    "ㅤ\n",
    "$D_n \\approx 0.0755$\n",
    "$x_a \\approx 0.1517$\n",
    "$D_n < x_a \\to$ гипотеза о нормальности принимается"
   ],
   "metadata": {
    "collapsed": false
   }
  },
  {
   "cell_type": "code",
   "execution_count": 1142,
   "outputs": [
    {
     "data": {
      "text/plain": "<Figure size 1000x600 with 1 Axes>",
      "image/png": "[encoded data removed]"
     },
     "metadata": {},
     "output_type": "display_data"
    }
   ],
   "source": [
    "plt.figure(figsize=(10, 6))\n",
    "\n",
    "hist_values, hist_edges = np.histogram(errors, bins=hist_bins)\n",
    "\n",
    "# Построение гистограммы\n",
    "plt.hist(errors, bins=hist_bins, edgecolor='black', density=True, label='Гистограмма ошибок')\n",
    "\n",
    "# Построение теоретической функции плотности нормального распределения\n",
    "plt.plot(np.arange(min(errors), max(errors) + 1, 0.01), sps.norm.pdf(np.arange(min(errors), max(errors) + 1, 0.01), mean_errors, std_errors), c = 'red', label='Нормальное распределение')\n",
    "\n",
    "# Добавление легенды\n",
    "plt.legend()\n",
    "plt.title(\"Сравнение гистограммы ошибок и теоретической функции нормального распределения\")\n",
    "plt.show()\n"
   ],
   "metadata": {
    "collapsed": false,
    "ExecuteTime": {
     "end_time": "2023-12-13T18:13:12.436946500Z",
     "start_time": "2023-12-13T18:13:12.151708900Z"
    }
   }
  },
  {
   "cell_type": "markdown",
   "source": [
    "### 3.В предположении нормальности ошибок построить доверительные интервалы для параметров $\\beta_0$ и $\\beta_1$ уровня доверия $1-\\alpha$. Построить доверительный эллипс уровня доверия $1-\\alpha$ для $(\\beta_0, \\beta_1)$ (вычислить его полуоси)."
   ],
   "metadata": {
    "collapsed": false
   }
  },
  {
   "cell_type": "markdown",
   "source": [
    "#### Доверительный интервал для параметра $\\beta_0$:\n",
    "$\\left[\\hat{\\psi} - x_\\alpha S \\sqrt{b_\\psi}; \\hat{\\psi} + x_\\alpha S \\sqrt{b_\\psi}\\right]$\n",
    "<br>\n",
    "$x_\\alpha: S_{n-r}(x_\\alpha) = 1 - \\frac{\\alpha}{2}$\n",
    "<br>\n",
    "$b_\\psi = C^\\intercal(XX^\\intercal)^{-1}C$\n",
    "<br>\n",
    "$C = (1, 0)^\\intercal$\n",
    "<br>\n",
    "$\\hat{\\psi} = \\hat{\\beta}_0$\n",
    "<br>"
   ],
   "metadata": {
    "collapsed": false
   }
  },
  {
   "cell_type": "code",
   "execution_count": 1143,
   "outputs": [
    {
     "name": "stdout",
     "output_type": "stream",
     "text": [
      "x_a =  1.2994388784066297\n",
      "[9.59,14.27]\n"
     ]
    }
   ],
   "source": [
    "r = np.linalg.matrix_rank(x_matrix)\n",
    "\n",
    "n = len(numbers_x)\n",
    "\n",
    "x_a = sps.t.ppf(1 - alpha/2, df = n - r)\n",
    "\n",
    "C = np.matrix([[1], [0]])\n",
    "\n",
    "b = float(C.T * np.linalg.inv(x_matrix * x_matrix.T) * C)\n",
    "\n",
    "print(\"x_a = \", x_a)\n",
    "print(\"[\", round(beta_0 - x_a * np.sqrt(unbiased_variance) * np.sqrt(b),2), \",\", round(beta_0 + x_a * np.sqrt(unbiased_variance) * np.sqrt(b),2), \"]\", sep='')"
   ],
   "metadata": {
    "collapsed": false,
    "ExecuteTime": {
     "end_time": "2023-12-13T18:13:12.459885500Z",
     "start_time": "2023-12-13T18:13:12.436946500Z"
    }
   }
  },
  {
   "cell_type": "markdown",
   "source": [
    "ㅤ\n",
    "$\\left[9.59, 14.27\\right] \\ni \\beta_0$"
   ],
   "metadata": {
    "collapsed": false
   }
  },
  {
   "cell_type": "markdown",
   "source": [
    "#### Доверительный интервал для параметра $\\beta_1$:\n",
    "$\\left[\\hat{\\psi} - x_\\alpha S \\sqrt{b_\\psi}; \\hat{\\psi} + x_\\alpha S \\sqrt{b_\\psi}\\right]$\n",
    "<br>\n",
    "$x_\\alpha: S_{n-r}(x_\\alpha) = 1 - \\frac{\\alpha}{2}$\n",
    "<br>\n",
    "$b_\\psi = C^\\intercal(XX^\\intercal)^{-1}C$\n",
    "<br>\n",
    "$C = (0, 1)^\\intercal$\n",
    "<br>\n",
    "$\\hat{\\psi} = \\hat{\\beta}_1$"
   ],
   "metadata": {
    "collapsed": false
   }
  },
  {
   "cell_type": "code",
   "execution_count": 1144,
   "outputs": [
    {
     "name": "stdout",
     "output_type": "stream",
     "text": [
      "[-0.31,3.37]\n"
     ]
    }
   ],
   "source": [
    "r = np.linalg.matrix_rank(x_matrix)\n",
    "\n",
    "n = len(numbers_x)\n",
    "\n",
    "x_a = sps.t.ppf(1 - alpha/2, df = n - r)\n",
    "\n",
    "C = np.matrix([[0], [1]])\n",
    "\n",
    "b = float(C.T * np.linalg.inv(x_matrix * x_matrix.T) * C)\n",
    "print(\"[\", round(beta_1 - x_a * np.sqrt(unbiased_variance) * np.sqrt(b),2), \",\", round(beta_1 + x_a * np.sqrt(unbiased_variance) * np.sqrt(b),2), \"]\", sep='')"
   ],
   "metadata": {
    "collapsed": false,
    "ExecuteTime": {
     "end_time": "2023-12-13T18:13:12.576574200Z",
     "start_time": "2023-12-13T18:13:12.455895700Z"
    }
   }
  },
  {
   "cell_type": "markdown",
   "source": [
    "ㅤ\n",
    "$\\left[-0.31, 3.37\\right] \\ni \\beta_1$"
   ],
   "metadata": {
    "collapsed": false
   }
  },
  {
   "cell_type": "markdown",
   "source": [
    "#### Доверительный эллипс для параметра $(\\beta_0, \\beta_1)$: (ХЗ ПРАВИЛЬНО ЧИ НЕТ)\n",
    "$\\left\\{\\overrightarrow{x} : \\left(\\overrightarrow{x} - \\hat{\\psi}\\right)^\\intercal b_\\psi^{-1} \\left(\\overrightarrow{x} - \\hat{\\psi}\\right) \\le q S^2 x_\\alpha\\right\\}$\n",
    "<br>\n",
    "$x_\\alpha: \\mathcal{F}_{q, n-r}(x_\\alpha) = 1 - \\alpha$\n",
    "<br>\n",
    "$b_\\psi = C^\\intercal(XX^\\intercal)^{-1}C$\n",
    "<br>\n",
    "$C = \\begin{pmatrix}1 & 0 \\\\0 & 1\\end{pmatrix}$\n",
    "<br>\n",
    "$\\hat{\\psi} = (\\hat{\\beta}_0, \\hat{\\beta}_1)^\\intercal$\n"
   ],
   "metadata": {
    "collapsed": false
   }
  },
  {
   "cell_type": "code",
   "execution_count": 1145,
   "outputs": [
    {
     "name": "stdout",
     "output_type": "stream",
     "text": [
      "[3.95028889 1.37230402]\n"
     ]
    }
   ],
   "source": [
    "C = np.array([[1, 0],[0, 1]])\n",
    "xx_t = x_matrix*x_matrix.T\n",
    "xx_t_inv = np.linalg.inv(xx_t)\n",
    "b = C.T * xx_t_inv * C\n",
    "b_inv = np.linalg.inv(b)\n",
    "q = 2\n",
    "x_a = sps.f.ppf(1-alpha, dfn=q, dfd=n - r)\n",
    "cov = b_inv\n",
    "eigenvalues, _ = np.linalg.eig(cov)\n",
    "print(np.sqrt(1 / eigenvalues * (x_a * q * unbiased_variance)))"
   ],
   "metadata": {
    "collapsed": false,
    "ExecuteTime": {
     "end_time": "2023-12-13T18:13:12.576574200Z",
     "start_time": "2023-12-13T18:13:12.468861800Z"
    }
   }
  },
  {
   "cell_type": "markdown",
   "source": [
    "Длины полуосей: 3.95 и 1.37"
   ],
   "metadata": {
    "collapsed": false
   }
  },
  {
   "cell_type": "markdown",
   "source": [
    "### 4.Сформулировать гипотезу независимости переменной $Y$ от переменной $X$. Провести проверку значимости\n",
    "$H_0 : \\psi = 0$ - основная гипотеза"
   ],
   "metadata": {
    "collapsed": false
   }
  },
  {
   "cell_type": "code",
   "execution_count": 1146,
   "outputs": [
    {
     "name": "stdout",
     "output_type": "stream",
     "text": [
      "Оценка при выполнении гипотезы:(13.432800000000007,0)\n",
      "F = 0.58\n",
      "x_a = 1.66\n"
     ]
    }
   ],
   "source": [
    "h_b0 = sum(numbers_y)/len(numbers_y)\n",
    "h_b1 = 0\n",
    "\n",
    "print(\"Оценка при выполнении гипотезы:(\", h_b0,\",\", h_b1,\")\", sep='')\n",
    "h_b_matrix = np.matrix([[h_b0],[h_b1]])\n",
    "statistic_F = (np.linalg.norm(y_matrix - x_matrix.T * h_b_matrix)**2 - np.linalg.norm(y_matrix - x_matrix.T * b_matrix)**2)/2/unbiased_variance\n",
    "print(\"F =\", round(statistic_F,2))\n",
    "print(\"x_a =\", round(sps.f.ppf(1 - alpha, dfn = 2, dfd = n - r),2))"
   ],
   "metadata": {
    "collapsed": false,
    "ExecuteTime": {
     "end_time": "2023-12-13T18:13:12.616466400Z",
     "start_time": "2023-12-13T18:13:12.486813300Z"
    }
   }
  },
  {
   "cell_type": "markdown",
   "source": [
    "ㅤ\n",
    "$\\mathbb{F} \\approx 0.58$\n",
    "<br>\n",
    "$x_{\\alpha} \\approx 1.66$\n",
    "<br>\n",
    "$\\mathbb{F} < x_{\\alpha} \\to$ гипотеза о независимости принимается"
   ],
   "metadata": {
    "collapsed": false
   }
  },
  {
   "cell_type": "markdown",
   "source": [
    "### 5.Сформулировать модель, включающую дополнительный член с $X^2$. Построить МНК оценки параметров $\\beta_0$, $\\beta_1$, $\\beta_2$ в данной модели. Изобразить графически полученную регрессионную зависимость. "
   ],
   "metadata": {
    "collapsed": false
   }
  },
  {
   "cell_type": "markdown",
   "source": [
    "ㅤ\n",
    "$\\mathbb{E}_{\\theta}(Y|z) = x(z)^{\\intercal}\\beta$\n",
    "\n",
    "$Y = \\beta_0 + \\beta_1 X + \\beta_2 X^2 + \\varepsilon$"
   ],
   "metadata": {
    "collapsed": false
   }
  },
  {
   "cell_type": "code",
   "execution_count": 1147,
   "outputs": [
    {
     "name": "stdout",
     "output_type": "stream",
     "text": [
      "beta_0:  12.44\n",
      "beta_1:  -1.52\n",
      "beta_2:  1.54\n"
     ]
    },
    {
     "data": {
      "text/plain": "<Figure size 640x480 with 1 Axes>",
      "image/png": "[encoded data removed]"
     },
     "metadata": {},
     "output_type": "display_data"
    }
   ],
   "source": [
    "def linear_regression2(x, beta_0, beta_1, beta_2):\n",
    "    return beta_0 + beta_1 * x + beta_2*(x**2)\n",
    "\n",
    "# МНК оценки параметров\n",
    "params, covariance = curve_fit(linear_regression2, numbers_x, numbers_y)\n",
    "beta_0, beta_1, beta_2 = params\n",
    "\n",
    "# Вывод оценок\n",
    "print(\"beta_0: \",round(beta_0,2))\n",
    "print(\"beta_1: \",round(beta_1,2))\n",
    "print(\"beta_2: \",round(beta_2,2))\n",
    "\n",
    "# Построение графика данных и линии регрессии\n",
    "plt.scatter(numbers_x, numbers_y, s=20, c='blue', label=\"Данные\")\n",
    "plt.xlabel(\"X\")\n",
    "plt.ylabel(\"Y\")\n",
    "plt.show()"
   ],
   "metadata": {
    "collapsed": false,
    "ExecuteTime": {
     "end_time": "2023-12-13T18:13:12.642398700Z",
     "start_time": "2023-12-13T18:13:12.502770500Z"
    }
   }
  },
  {
   "cell_type": "code",
   "execution_count": 1148,
   "outputs": [
    {
     "data": {
      "text/plain": "<Figure size 640x480 with 1 Axes>",
      "image/png": "[encoded data removed]"
     },
     "metadata": {},
     "output_type": "display_data"
    }
   ],
   "source": [
    "# Построение графика данных и линии регрессии\n",
    "# Построение графика данных и линии регрессии\n",
    "plt.scatter(numbers_x, numbers_y, s=20, c='blue', label=\"Данные\")\n",
    "x_range = np.linspace(min(numbers_x), max(numbers_x), 100)  # Генерация значений X для более плавной линии регрессии\n",
    "plt.plot(x_range, linear_regression2(x_range, beta_0, beta_1, beta_2), color='red', label=\"Линия регрессии\")\n",
    "plt.xlabel(\"X\")\n",
    "plt.ylabel(\"Y\")\n",
    "plt.legend()\n",
    "plt.show()"
   ],
   "metadata": {
    "collapsed": false,
    "ExecuteTime": {
     "end_time": "2023-12-13T18:13:12.784020900Z",
     "start_time": "2023-12-13T18:13:12.636438800Z"
    }
   }
  },
  {
   "cell_type": "markdown",
   "source": [
    "Линейная регрессионная модель будет иметь вид:\n",
    "$Y \\approx 12.44 - 1.52 \\cdot X + 1.54 \\cdot X^2$\n",
    "Из графика видно, что линейная модель не является наилучшим приближением для этих данных."
   ],
   "metadata": {
    "collapsed": false
   }
  },
  {
   "cell_type": "markdown",
   "source": [
    "### 6.Построить несмещенную оценку дисперсии. Провести исследование нормальности ошибок как в пункте 2."
   ],
   "metadata": {
    "collapsed": false
   }
  },
  {
   "cell_type": "code",
   "execution_count": 1149,
   "outputs": [
    {
     "name": "stdout",
     "output_type": "stream",
     "text": [
      "[[12.43882353]\n",
      " [-1.52479779]\n",
      " [ 1.53597426]]\n",
      "Несмещённая оценка дисперсии: 66.97\n"
     ]
    }
   ],
   "source": [
    "y_matrix = np.matrix(numbers_y).T\n",
    "x_matrix = np.matrix([[1] * len(numbers_x), numbers_x, [x**2 for x in numbers_x]])\n",
    "b_matrix = np.linalg.inv(x_matrix * x_matrix.T) * x_matrix * y_matrix\n",
    "print(b_matrix)\n",
    "# Рассчет несмещенной оценки дисперсии\n",
    "# np.linalg.norm() вычисляет норму вектора\n",
    "# np.linalg.matrix_rank() вычисляет ранг матрицы\n",
    "unbiased_variance  = np.linalg.norm(y_matrix - x_matrix.T * b_matrix)**2/(len(numbers_x) - np.linalg.matrix_rank(x_matrix))\n",
    "\n",
    "print(\"Несмещённая оценка дисперсии:\", round(unbiased_variance,2))"
   ],
   "metadata": {
    "collapsed": false,
    "ExecuteTime": {
     "end_time": "2023-12-13T18:13:12.796993300Z",
     "start_time": "2023-12-13T18:13:12.785018200Z"
    }
   }
  },
  {
   "cell_type": "code",
   "execution_count": 1150,
   "outputs": [
    {
     "name": "stdout",
     "output_type": "stream",
     "text": [
      "Интервал 1: [-14.48:-11.58], Частота: 2\n",
      "Интервал 2: [-11.58:-8.68], Частота: 5\n",
      "Интервал 3: [-8.68:-5.78], Частота: 7\n",
      "Интервал 4: [-5.78:-2.88], Частота: 7\n",
      "Интервал 5: [-2.88:0.02], Частота: 3\n",
      "Интервал 6: [0.02:2.92], Частота: 8\n",
      "Интервал 7: [2.92:5.82], Частота: 7\n",
      "Интервал 8: [5.82:8.72], Частота: 5\n",
      "Интервал 9: [8.72:11.62], Частота: 3\n",
      "Интервал 10: [11.62:14.52], Частота: 1\n",
      "Интервал 11: [14.52:17.42], Частота: 0\n",
      "Интервал 12: [17.42:20.32], Частота: 1\n",
      "Интервал 13: [20.32:23.22], Частота: 1\n",
      "50\n"
     ]
    },
    {
     "data": {
      "text/plain": "<Figure size 640x480 with 1 Axes>",
      "image/png": "[encoded data removed]"
     },
     "metadata": {},
     "output_type": "display_data"
    }
   ],
   "source": [
    "#вычисляем вектор ошибок, который представляет собой разницу между фактическими значениями и предсказанными значениями на основе регрессии \n",
    "errors = y_matrix - x_matrix.T * b_matrix\n",
    "\n",
    "hist_bins = np.arange(min(errors), max(errors) + h, h)\n",
    "\n",
    "# Вычисление частот и границ бинов\n",
    "hist_values, hist_edges = np.histogram(errors, bins=hist_bins)\n",
    "\n",
    "total_elements = len(errors)\n",
    "hist_values_normalized = hist_values/ total_elements\n",
    "# Вывод интервалов и частот всех бинов\n",
    "for i in range(len(hist_values)):\n",
    "    print(f\"Интервал {i + 1}: [{hist_edges[i]:.2f}:{hist_edges[i + 1]:.2f}], Частота: {hist_values[i]}\")\n",
    "print(sum(hist_values))\n",
    "# Построение гистограммы\n",
    "plt.hist(errors, bins=hist_bins, edgecolor='black', density = True)\n",
    "plt.xlabel(\"Ошибки\")\n",
    "plt.ylabel(\"Частота\")\n",
    "plt.title(\"Гистограмма ошибок\")\n",
    "plt.show()"
   ],
   "metadata": {
    "collapsed": false,
    "ExecuteTime": {
     "end_time": "2023-12-13T18:13:12.954572Z",
     "start_time": "2023-12-13T18:13:12.798986900Z"
    }
   }
  },
  {
   "cell_type": "code",
   "execution_count": 1151,
   "outputs": [
    {
     "name": "stdout",
     "output_type": "stream",
     "text": [
      "\n",
      "хи-квадрат: 2.53\n",
      "x_a: 5.99\n"
     ]
    }
   ],
   "source": [
    "# Среднее значение ошибок\n",
    "mean_errors = 0\n",
    "# Стандартное отклонение ошибок на основе несмещенной оценки дисперсии\n",
    "std_errors = np.sqrt(unbiased_variance)\n",
    "\n",
    "# Заданные интервалы\n",
    "intervals = [[-14.5, -5.75], [-5.74, 0.1], [0.11, 3], [3.01, 6], [6.01, 24]]\n",
    "\n",
    "# Экспериментальные частоты\n",
    "freq_exp = [0] * len(intervals) \n",
    "# Теоретические частоты\n",
    "freq_teor = [0] * len(intervals) \n",
    "\n",
    "\n",
    "for i in range(len(intervals)):\n",
    "    num1 = intervals[i][0]\n",
    "    num2 = intervals[i][-1]\n",
    "    freq_exp[i] += len([x for x in errors if (x >= num1 and x < num2)])\n",
    "    freq_teor[i] += len(errors) * (sps.norm.cdf(num2, loc=mean_errors, scale=std_errors) - sps.norm.cdf(num1, loc=mean_errors, scale=std_errors))\n",
    "    if i == len(intervals) - 1:\n",
    "        freq_teor[i] += len(errors) * sps.norm.sf(num2, loc=mean_errors, scale=std_errors)\n",
    "    \n",
    "\n",
    "freq_exp = np.array(freq_exp)\n",
    "freq_teor = np.array(freq_teor)\n",
    "chi_2 = np.sum((freq_exp - freq_teor) ** 2 / freq_teor)\n",
    "\n",
    "print()\n",
    "print(\"хи-квадрат:\", round(chi_2,2))\n",
    "print(\"x_a:\", round(sps.chi2.ppf(1 - alpha, df=len(freq_exp) - 1),2))"
   ],
   "metadata": {
    "collapsed": false,
    "ExecuteTime": {
     "end_time": "2023-12-13T18:13:12.969531600Z",
     "start_time": "2023-12-13T18:13:12.958560200Z"
    }
   }
  },
  {
   "cell_type": "code",
   "execution_count": 1152,
   "outputs": [
    {
     "name": "stdout",
     "output_type": "stream",
     "text": [
      "Интервал x        Экспериментальная частота    Гипотетическая частота\n",
      "[-14.5, -5.75]                           14                  10.1465\n",
      "[-5.74, 0.1]                             10                  13.168\n",
      "[0.11, 3]                                 8                   6.88401\n",
      "[3.01, 6]                                 7                   6.23928\n",
      "[6.01, '+inf']                           11                  11.5672\n"
     ]
    }
   ],
   "source": [
    "intervals = [[-14.5, -5.75], [-5.74, 0.1], [0.11, 3], [3.01, 6], [6.01, \"+inf\"]]\n",
    "data = list(zip(intervals, freq_exp, freq_teor))\n",
    "headers = [\"Интервал x\",\"Экспериментальная частота\",\"Гипотетическая частота\"]\n",
    "table = tabulate(data, headers=headers, tablefmt=\"plain\")\n",
    "print(table)"
   ],
   "metadata": {
    "collapsed": false,
    "ExecuteTime": {
     "end_time": "2023-12-13T18:13:13.026380300Z",
     "start_time": "2023-12-13T18:13:12.971525500Z"
    }
   }
  },
  {
   "cell_type": "markdown",
   "source": [
    "${\\chi}^2 \\approx 2.53$\n",
    "<br>\n",
    "$x_{\\alpha} \\approx 5.99$\n",
    "\n",
    "$\\chi^2 < x_{\\alpha} \\to$ гипотеза о нормальности принимается"
   ],
   "metadata": {
    "collapsed": false
   }
  },
  {
   "cell_type": "code",
   "execution_count": 1153,
   "outputs": [
    {
     "name": "stdout",
     "output_type": "stream",
     "text": [
      "Статистика критерия Колмогорова: 0.0817\n",
      "x_a: 0.1517\n"
     ]
    }
   ],
   "source": [
    "print(\"Статистика критерия Колмогорова:\", round(sps.kstest([num[0,0] for num in errors], \"norm\", args = (mean_errors,std_errors)).statistic,4))\n",
    "print(\"x_a:\", round(sps.kstwobign.ppf(1 - alpha) / np.sqrt(len(errors)),4))"
   ],
   "metadata": {
    "collapsed": false,
    "ExecuteTime": {
     "end_time": "2023-12-13T18:13:13.068266600Z",
     "start_time": "2023-12-13T18:13:12.986486700Z"
    }
   }
  },
  {
   "cell_type": "markdown",
   "source": [
    "ㅤ\n",
    "$D_n \\approx 0.0817$\n",
    "$x_a \\approx 0.1517$\n",
    "$D_n < x_a \\to$ гипотеза о нормальности принимается"
   ],
   "metadata": {
    "collapsed": false
   }
  },
  {
   "cell_type": "code",
   "execution_count": 1154,
   "outputs": [
    {
     "data": {
      "text/plain": "<Figure size 1000x600 with 1 Axes>",
      "image/png": "[encoded data removed]"
     },
     "metadata": {},
     "output_type": "display_data"
    }
   ],
   "source": [
    "plt.figure(figsize=(10, 6))\n",
    "\n",
    "hist_values, hist_edges = np.histogram(errors, bins=hist_bins)\n",
    "\n",
    "# Построение гистограммы\n",
    "plt.hist(errors, bins=hist_bins, edgecolor='black', density=True, label='Гистограмма ошибок')\n",
    "\n",
    "# Построение теоретической функции плотности нормального распределения\n",
    "plt.plot(np.arange(min(errors), max(errors) + 1, 0.01), sps.norm.pdf(np.arange(min(errors), max(errors) + 1, 0.01), mean_errors, std_errors), c = 'red', label='Нормальное распределение')\n",
    "\n",
    "# Добавление легенды\n",
    "plt.legend()\n",
    "plt.title(\"Сравнение гистограммы ошибок и теоретической функции нормального распределения\")\n",
    "plt.show()"
   ],
   "metadata": {
    "collapsed": false,
    "ExecuteTime": {
     "end_time": "2023-12-13T18:13:13.187954300Z",
     "start_time": "2023-12-13T18:13:13.002444Z"
    }
   }
  },
  {
   "cell_type": "markdown",
   "source": [
    "### 7.В предположении нормальности ошибок построить доверительные интервалы для параметров $\\beta_0$, $\\beta_1$, $\\beta_2$ уровня доверия $1-\\alpha$. Написать уравнение доверительного эллипсоида уровня доверия $1-\\alpha$."
   ],
   "metadata": {
    "collapsed": false
   }
  },
  {
   "cell_type": "markdown",
   "source": [
    "#### Доверительный интервал для параметра $\\beta_0$:\n",
    "$\\left[\\hat{\\psi} - x_\\alpha S \\sqrt{b_\\psi}; \\hat{\\psi} + x_\\alpha S \\sqrt{b_\\psi}\\right]$\n",
    "<br>\n",
    "$x_\\alpha: S_{n-r}(x_\\alpha) = 1 - \\frac{\\alpha}{2}$\n",
    "<br>\n",
    "$b_\\psi = C^\\intercal(XX^\\intercal)^{-1}C$\n",
    "<br>\n",
    "$C = (1, 0, 0)^\\intercal$\n",
    "<br>\n",
    "$\\psi = C^\\intercal \\beta = \\beta_0$"
   ],
   "metadata": {
    "collapsed": false
   }
  },
  {
   "cell_type": "code",
   "execution_count": 1155,
   "outputs": [
    {
     "name": "stdout",
     "output_type": "stream",
     "text": [
      "x_a =  1.2998249470173255\n",
      "[9.86,15.02]\n"
     ]
    }
   ],
   "source": [
    "r = np.linalg.matrix_rank(x_matrix)\n",
    "\n",
    "n = len(numbers_x)\n",
    "\n",
    "x_a = sps.t.ppf(1 - alpha/2, df = n - r)\n",
    "\n",
    "C = np.matrix([[1], [0], [0]])\n",
    "\n",
    "b = float(C.T * np.linalg.inv(x_matrix * x_matrix.T) * C)\n",
    "\n",
    "print(\"x_a = \", x_a)\n",
    "print(\"[\",round(beta_0 - x_a * np.sqrt(unbiased_variance) * np.sqrt(b),2),\",\",round(beta_0 + x_a * np.sqrt(unbiased_variance) * np.sqrt(b),2),\"]\", sep='')"
   ],
   "metadata": {
    "collapsed": false,
    "ExecuteTime": {
     "end_time": "2023-12-13T18:13:13.284735600Z",
     "start_time": "2023-12-13T18:13:13.188977200Z"
    }
   }
  },
  {
   "cell_type": "markdown",
   "source": [
    "ㅤ\n",
    "$\\left[9.86, 15.02\\right] \\ni \\beta_0$"
   ],
   "metadata": {
    "collapsed": false
   }
  },
  {
   "cell_type": "markdown",
   "source": [
    "#### Доверительный интервал для параметра $\\beta_1$:\n",
    "$\\left[\\hat{\\psi} - x_\\alpha S \\sqrt{b_\\psi}; \\hat{\\psi} + x_\\alpha S \\sqrt{b_\\psi}\\right]$\n",
    "<br>\n",
    "$x_\\alpha: S_{n-r}(x_\\alpha) = 1 - \\frac{\\alpha}{2}$\n",
    "<br>\n",
    "$b_\\psi = C^\\intercal(XX^\\intercal)^{-1}C$\n",
    "<br>\n",
    "$C = (0, 1, 0)^\\intercal$\n",
    "<br>\n",
    "$\\psi = C^\\intercal \\beta = \\beta_1$"
   ],
   "metadata": {
    "collapsed": false
   }
  },
  {
   "cell_type": "code",
   "execution_count": 1156,
   "outputs": [
    {
     "name": "stdout",
     "output_type": "stream",
     "text": [
      "x_a =  1.2998249470173255\n",
      "[-8.11,5.06]\n"
     ]
    }
   ],
   "source": [
    "r = np.linalg.matrix_rank(x_matrix)\n",
    "\n",
    "n = len(numbers_x)\n",
    "\n",
    "x_a = sps.t.ppf(1 - alpha/2, df = n - r)\n",
    "\n",
    "C = np.matrix([[0], [1], [0]])\n",
    "\n",
    "b = float(C.T * np.linalg.inv(x_matrix * x_matrix.T) * C)\n",
    "\n",
    "print(\"x_a = \", x_a)\n",
    "print(\"[\",round(beta_1 - x_a * np.sqrt(unbiased_variance) * np.sqrt(b),2),\",\",round(beta_1 + x_a * np.sqrt(unbiased_variance) * np.sqrt(b),2),\"]\", sep='')"
   ],
   "metadata": {
    "collapsed": false,
    "ExecuteTime": {
     "end_time": "2023-12-13T18:13:13.286708800Z",
     "start_time": "2023-12-13T18:13:13.205923200Z"
    }
   }
  },
  {
   "cell_type": "markdown",
   "source": [
    "ㅤ\n",
    "$\\left[-8.11, 5.06\\right] \\ni \\beta_1$"
   ],
   "metadata": {
    "collapsed": false
   }
  },
  {
   "cell_type": "markdown",
   "source": [
    "#### Доверительный интервал для параметра $\\beta_2$:\n",
    "$\\left[\\hat{\\psi} - x_\\alpha S \\sqrt{b_\\psi}; \\hat{\\psi} + x_\\alpha S \\sqrt{b_\\psi}\\right]$\n",
    "<br>\n",
    "$x_\\alpha: S_{n-r}(x_\\alpha) = 1 - \\frac{\\alpha}{2}$\n",
    "<br>\n",
    "$b_\\psi = C^\\intercal(XX^\\intercal)^{-1}C$\n",
    "<br>\n",
    "$C = (0, 0, 1)^\\intercal$\n",
    "<br>\n",
    "$\\psi = C^\\intercal \\beta = \\beta_2$"
   ],
   "metadata": {
    "collapsed": false
   }
  },
  {
   "cell_type": "code",
   "execution_count": 1157,
   "outputs": [
    {
     "name": "stdout",
     "output_type": "stream",
     "text": [
      "x_a =  1.2998249470173255\n",
      "[-1.64,4.71]\n"
     ]
    }
   ],
   "source": [
    "r = np.linalg.matrix_rank(x_matrix)\n",
    "\n",
    "n = len(numbers_x)\n",
    "\n",
    "x_a = sps.t.ppf(1 - alpha/2, df = n - r)\n",
    "\n",
    "C = np.matrix([[0], [0], [1]])\n",
    "\n",
    "b = float(C.T * np.linalg.inv(x_matrix * x_matrix.T) * C)\n",
    "\n",
    "print(\"x_a = \", x_a)\n",
    "print(\"[\",round(beta_2 - x_a * np.sqrt(unbiased_variance) * np.sqrt(b),2),\",\",round(beta_2 + x_a * np.sqrt(unbiased_variance) * np.sqrt(b),2),\"]\", sep='')"
   ],
   "metadata": {
    "collapsed": false,
    "ExecuteTime": {
     "end_time": "2023-12-13T18:13:13.349540Z",
     "start_time": "2023-12-13T18:13:13.218890300Z"
    }
   }
  },
  {
   "cell_type": "markdown",
   "source": [
    "ㅤ\n",
    "$\\left[-1.64, 4.71\\right] \\ni \\beta_2$"
   ],
   "metadata": {
    "collapsed": false
   }
  },
  {
   "cell_type": "markdown",
   "source": [
    "#### Доверительный эллипсоид\n",
    "$\\left\\{\\overrightarrow{x} : \\left(\\overrightarrow{x} - \\hat{\\psi}\\right)^\\intercal b_\\psi^{-1} \\left(\\overrightarrow{x} - \\hat{\\psi}\\right) \\le q S^2 x_\\alpha\\right\\}$\n",
    "<br>\n",
    "$x_\\alpha: \\mathcal{F}_{q, n-r}(x_\\alpha) = 1 - \\alpha$, $b_\\psi = C^\\intercal(XX^\\intercal)^{-1}C$\n",
    "<br>\n",
    "$b_\\psi = C^\\intercal(XX^\\intercal)^{-1}C$\n",
    "<br>\n",
    "$C = \\begin{pmatrix}1 & 0 & 0\\\\0 & 1 &0 \\\\ 0&0&1 \\end{pmatrix}$\n",
    "<br>\n",
    "$\\psi = C^\\intercal \\beta = (\\beta_0, \\beta_1, \\beta_2)^\\intercal$\n",
    "<br>"
   ],
   "metadata": {
    "collapsed": false
   }
  },
  {
   "cell_type": "code",
   "execution_count": 1158,
   "outputs": [
    {
     "name": "stdout",
     "output_type": "stream",
     "text": [
      "[[ 0.05882353 -0.08823529  0.02941176]\n",
      " [-0.08823529  0.38327206 -0.17738971]\n",
      " [ 0.02941176 -0.17738971  0.08915441]]\n",
      "det b_p =  5.4065743944637025e-05\n"
     ]
    }
   ],
   "source": [
    "r = np.linalg.matrix_rank(x_matrix)\n",
    "\n",
    "# Установка значений переменных\n",
    "n = len(numbers_x)\n",
    "q = len(b_matrix)\n",
    "c_level = 1 - alpha\n",
    "\n",
    "# Рассчет значения x_a\n",
    "x_a = sps.f.ppf(c_level, dfn=q, dfd=n - r)\n",
    "\n",
    "# Создание матрицы C\n",
    "C_matrix = np.matrix([[1, 0, 0], [0, 1, 0], [0, 0, 1]])\n",
    "\n",
    "# Вычисление матрицы b_p\n",
    "b_p = C_matrix.T * np.linalg.inv(x_matrix * x_matrix.T) * C_matrix\n",
    "\n",
    "# Вывод определителя матрицы b_p\n",
    "print(b_p)\n",
    "print(\"det b_p = \", np.linalg.det(b_p))"
   ],
   "metadata": {
    "collapsed": false,
    "ExecuteTime": {
     "end_time": "2023-12-13T18:13:13.350569400Z",
     "start_time": "2023-12-13T18:13:13.234845900Z"
    }
   }
  },
  {
   "cell_type": "markdown",
   "source": [
    "ㅤ\n",
    "$B=C^{T}(XX^{T})^{-1}C$\n",
    "$detB \\approx 5.407 \\cdot 10^{-5}$ "
   ],
   "metadata": {
    "collapsed": false
   }
  },
  {
   "cell_type": "code",
   "execution_count": 1159,
   "outputs": [
    {
     "name": "stdout",
     "output_type": "stream",
     "text": [
      "x_a =  1.6085202639061869\n"
     ]
    }
   ],
   "source": [
    "# Вывод критического значения x_a\n",
    "print(\"x_a = \", x_a)"
   ],
   "metadata": {
    "collapsed": false,
    "ExecuteTime": {
     "end_time": "2023-12-13T18:13:13.352531600Z",
     "start_time": "2023-12-13T18:13:13.250805Z"
    }
   }
  },
  {
   "cell_type": "markdown",
   "source": [
    "ㅤ\n",
    "$x_{\\alpha} \\approx 1.609$"
   ],
   "metadata": {
    "collapsed": false
   }
  },
  {
   "cell_type": "code",
   "execution_count": 1160,
   "outputs": [
    {
     "name": "stdout",
     "output_type": "stream",
     "text": [
      "49.9999999999999*x**2 + 97.9999999999996*x*y + 161.999999999999*x*z - 1343.28*x + 80.9999999999997*y**2 + 289.999999999999*y*z - 1417.42*y + 272.999999999999*z**2 - 2411.53999999999*z + 9125.80367977941\n",
      "323.14471747572435\n"
     ]
    }
   ],
   "source": [
    "x_s = sympy.Symbol('x', real=True)\n",
    "y_s = sympy.Symbol('y', real=True)\n",
    "z_s = sympy.Symbol('z', real=True)\n",
    "\n",
    "vector = np.matrix([[x_s], [y_s], [z_s]])\n",
    "\n",
    "expression = (vector - b_matrix).T * np.linalg.inv(b_p) * (vector - b_matrix)\n",
    "print(expression[0,0].as_poly().as_expr())\n",
    "print(q * unbiased_variance * x_a)\n"
   ],
   "metadata": {
    "collapsed": false,
    "ExecuteTime": {
     "end_time": "2023-12-13T18:13:13.354525900Z",
     "start_time": "2023-12-13T18:13:13.266760700Z"
    }
   }
  },
  {
   "cell_type": "markdown",
   "source": [
    "Неравенство примет примерно следующий вид:\n",
    "$50x^2 + 98xy + 162xz-1343.28x + 81y^2 + 290yz - 1417.42y + 273z^2 - 2411.54z + 9125.804 <= 323.1447$"
   ],
   "metadata": {
    "collapsed": false
   }
  },
  {
   "cell_type": "code",
   "execution_count": 1161,
   "outputs": [
    {
     "name": "stdout",
     "output_type": "stream",
     "text": [
      "1.17020194970091*x'**2 + 0.0736521402664703*y'**2 + 0.00635975587817215*z'**2\n"
     ]
    }
   ],
   "source": [
    "expression = expression[0,0].as_poly().as_expr() - q * unbiased_variance * x_a\n",
    "x_s = sympy.Symbol(\"x'\", real=True)\n",
    "y_s = sympy.Symbol(\"y'\", real=True)\n",
    "z_s = sympy.Symbol(\"z'\", real=True)\n",
    "\n",
    "# Расчет коэффициентов итогового неравенства\n",
    "eigenvalues, _ = np.linalg.eig(np.linalg.inv(b_p))\n",
    "coefficients = eigenvalues / (x_a * q * unbiased_variance)\n",
    "expression = coefficients[0] * x_s**2 + coefficients[1] * y_s**2 + coefficients[2] * z_s**2\n",
    "print(expression)"
   ],
   "metadata": {
    "collapsed": false,
    "ExecuteTime": {
     "end_time": "2023-12-13T18:13:13.365530200Z",
     "start_time": "2023-12-13T18:13:13.281720900Z"
    }
   }
  },
  {
   "cell_type": "markdown",
   "source": [
    "В итоговом виде неравенство для эллипсоида будет выглядеть примерно так:\n",
    "$1.1702x'^2 + 0.0736y'^2 + 0.0064z'^2 <= 1$"
   ],
   "metadata": {
    "collapsed": false
   }
  },
  {
   "cell_type": "code",
   "execution_count": 1162,
   "outputs": [
    {
     "name": "stdout",
     "output_type": "stream",
     "text": [
      "0.9244205499486974 3.684743947914776 12.53948722412987\n"
     ]
    }
   ],
   "source": [
    "# Вывод длин полуосей эллипсоида\n",
    "print(np.sqrt(1/coefficients[0]), np.sqrt(1/coefficients[1]), np.sqrt(1/coefficients[2]))\n"
   ],
   "metadata": {
    "collapsed": false,
    "ExecuteTime": {
     "end_time": "2023-12-13T18:13:13.367526200Z",
     "start_time": "2023-12-13T18:13:13.300685600Z"
    }
   }
  },
  {
   "cell_type": "markdown",
   "source": [
    "Длины полуосей будут примерно такими: 0.9244, 3.6847, 12.5395"
   ],
   "metadata": {
    "collapsed": false
   }
  },
  {
   "cell_type": "markdown",
   "source": [
    "### 8.Сформулировать гипотезу линейной регрессионной зависимости переменной $Y$ от переменной $X$ и проверить ее значимость на уровне $\\alpha$.\n",
    "$H_0 : \\psi = 0$ - основная гипотеза"
   ],
   "metadata": {
    "collapsed": false
   }
  },
  {
   "cell_type": "code",
   "execution_count": 1163,
   "outputs": [
    {
     "name": "stdout",
     "output_type": "stream",
     "text": [
      "Оценка при выполнении гипотезы: (11.93,1.53,0)\n",
      "F = 0.13\n",
      "x_a = 1.61\n"
     ]
    }
   ],
   "source": [
    "q = len(b_matrix)\n",
    "x_h_matrix = np.matrix([[1] * len(numbers_x), numbers_x])\n",
    "\n",
    "h_b_matrix = np.linalg.inv(x_h_matrix * x_h_matrix.T) * x_h_matrix * y_matrix\n",
    "\n",
    "h_b0 = float(h_b_matrix[0])\n",
    "h_b1 = float(h_b_matrix[1])\n",
    "h_b2 = 0\n",
    "\n",
    "h_b_matrix = np.matrix([[h_b0], [h_b1], [h_b2]])\n",
    "\n",
    "print(\"Оценка при выполнении гипотезы: (\",round(h_b0,2),',',round(h_b1,2),',',round(h_b2,2),')', sep='')\n",
    "statistic_F = (np.linalg.norm(y_matrix - x_matrix.T * h_b_matrix)**2 - np.linalg.norm(y_matrix - x_matrix.T * b_matrix)**2)/q/unbiased_variance\n",
    "print(\"F =\", round(statistic_F,2))\n",
    "print(\"x_a =\", round(sps.f.ppf(1 - alpha, dfn = q, dfd = n - r),2))"
   ],
   "metadata": {
    "collapsed": false,
    "ExecuteTime": {
     "end_time": "2023-12-13T18:13:13.451292600Z",
     "start_time": "2023-12-13T18:13:13.317626Z"
    }
   }
  },
  {
   "cell_type": "markdown",
   "source": [
    "ㅤ\n",
    "$\\mathbb{F} \\approx 0.13$\n",
    "<br>\n",
    "$x_{\\alpha} \\approx 1.61$\n",
    "<br>\n",
    "$\\mathbb{F} < x_{\\alpha} \\to$ гипотеза о квадратичной регрессионной независимости принимается"
   ],
   "metadata": {
    "collapsed": false
   }
  },
  {
   "cell_type": "markdown",
   "metadata": {},
   "source": [
    "## Выводы\n",
    "\n",
    "Были изучены основные принципы метода наименьших квадратов (МНК), а также статистические свойства МНК-оценок, функции регрессии и роль МНК в регрессионном анализе.\n",
    "Были приобретены навыки по построению МНК-оценок, созданию доверительных эллипсов и эллипсоидов, а также проверке гипотез о независимости и линейной регрессионной зависимости.\n",
    "Были сделаны выводы о нормальности вектора ошибок и характере взаимосвязи в данных"
   ]
  }
 ],
 "metadata": {
  "kernelspec": {
   "name": "python3",
   "language": "python",
   "display_name": "Python 3 (ipykernel)"
  },
  "language_info": {
   "codemirror_mode": "r",
   "file_extension": ".r",
   "mimetype": "text/x-r-source",
   "name": "R",
   "pygments_lexer": "r",
   "version": "4.0.3"
  }
 },
 "nbformat": 4,
 "nbformat_minor": 4
}
