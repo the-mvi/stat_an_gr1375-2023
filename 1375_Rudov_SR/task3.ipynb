{
 "cells": [
  {
   "cell_type": "markdown",
   "metadata": {},
   "source": [
    "# Практическая работа №3: Регрессионный анализ\n",
    "Выполнил студент гр. 1375 Рудов Сергей. Вариант №23"
   ]
  },
  {
   "cell_type": "markdown",
   "metadata": {},
   "source": [
    "## Цель работы\n",
    "Ознакомление с основными положениями метода наименьших квадратов (МНК), со статистическими свойствами МНК-оценок, с понятием функции регрессии и роли МНК в регрессионном анализе."
   ]
  },
  {
   "cell_type": "markdown",
   "metadata": {},
   "source": [
    "## Основные теоретические положения\n",
    "Регрессионные модели:\n",
    "- Общая формула: $\\mathbb{E}{\\theta}(Y|z)=f{\\theta}(z)$, где $Y$ - наблюдения, $z$ - ковариата.\n",
    "- Линейная регрессия: $\\mathbb{E}_{\\theta}(Y|z)=x(z)^\\intercal\\beta$, где $\\beta$ - параметры, $x(z)$ - регрессоры.\n",
    "- Статистическая модель: $\\mathbb{E}_{\\theta}(Y|z)=X^\\intercal\\beta$, $Var(Y|z) = \\sigma^2E$.\n",
    "\n",
    "Метод наименьших квадратов (МНК):\n",
    "- Альтернативная форма: $Y = X^\\intercal\\beta + \\varepsilon$.\n",
    "- Минимизация $RSS(\\beta)=\\left| Y-X^\\intercal\\beta \\right|^2$.\n",
    "- Нормальные уравнения: $XX^\\intercal\\beta=XY$.\n",
    "- Решение: $\\hat{\\beta}=(XX^\\intercal)^{-1}XY$.\n",
    "\n",
    "Оценка параметра $\\sigma^2$:\n",
    "- $S^2 =\\frac{RSS(\\hat{\\beta})}{n-r}$.\n",
    "\n",
    "Линейная функция параметра $\\psi(\\beta)$:\n",
    "- $\\psi(\\beta) = C^\\intercal\\beta$.\n",
    "- Несмещенная оценка: $\\hat{\\psi} = \\sum_{i = 1}^{m}c_i\\hat{\\beta}_i$.\n",
    "\n",
    "Теорема Гаусса-Маркова:\n",
    "- Линейные несмещенные оценки единственны и имеют вид $\\hat{\\psi} = C^\\intercal\\hat{\\beta}$.\n",
    "\n",
    "Предположения:\n",
    "- Классическое: $ Y \\sim \\mathcal{N}(X^\\intercal\\beta,\\sigma^2E) $.\n",
    "- Об остатках: $ \\varepsilon \\sim \\mathcal{N}(0,\\sigma^2E) $.\n",
    "\n",
    "Доверительный интервал:\n",
    "- Для $\\psi(\\beta) = C^\\intercal\\beta$.\n",
    "- $\\hat{\\psi} \\sim \\mathcal{N}(\\psi,\\sigma^2b_\\psi)$.\n",
    "- ДИ: $\\left[\\hat{\\psi} - x_\\alpha S \\sqrt{b_\\psi}; \\hat{\\psi} + x_\\alpha S \\sqrt{b_\\psi}\\right]$.\n",
    "\n",
    "Доверительный эллипсоид:\n",
    "- Распределение: $\\frac{\\left(\\hat{\\psi} - {\\psi}\\right)^\\intercal {b_\\psi}^{-1} \\left(\\hat{\\psi} - {\\psi}\\right)}{qS^2} \\sim \\mathcal{F}_{q,n-r}$.\n",
    "- Дов. эллипсоид: $\\left\\{\\overrightarrow{x} : \\left(\\overrightarrow{x} - \\hat{\\psi}\\right)^\\intercal b_\\psi^{-1} \\left(\\overrightarrow{x} - \\hat{\\psi}\\right) \\le q S^2 x_\\alpha\\right\\}$,где $x_\\alpha: \\mathcal{F}_{q, n-r}(x_\\alpha) = 1 - \\alpha$\n",
    "\n",
    "Проверка гипотез:\n",
    "- $H_0:\\psi=0$.\n",
    "- Статистика: $\\mathbb{F} = \\frac{SS_H/q}{SS_e/(n-r)}$.\n",
    "- $\\mathbb{F} \\sim \\mathcal{F}_{q,n-r}$."
   ]
  },
  {
   "cell_type": "markdown",
   "metadata": {},
   "source": [
    "## Постановка задачи\n",
    "Результаты статистического эксперимента приведены в таблице 1. Требуется оценить характер (случайной) зависимости переменной $Y$ от переменной $X$. \n",
    "<br>\n",
    "1.Построить графически результаты эксперимента. Сформулировать линейную регрессионную модель переменной $Y$ по переменной $X$. Построить МНК оценки параметра сдвига $\\beta_0$ и масштаба $\\beta_1$. Построить полученную линию регрессии. Оценить визуально соответствие полученных данных и построенной оценки. \n",
    "<br>\n",
    "2.Построить и интерпретировать несмещенную оценку дисперсии. На базе ошибок построить гистограмму с шагом h. Проверить гипотезу нормальности ошибок на уровне значимости $\\alpha$ по $\\chi^2$. Оценить расстояние полученной оценки до класса нормальных распределений по Колмогорову. Визуально оценить данный факт. \n",
    "<br>\n",
    "3.В предположении нормальности ошибок построить доверительные интервалы для параметров $\\beta_0$ и $\\beta_1$ уровня доверия $1-\\alpha$. Построить доверительный эллипс уровня доверия $1-\\alpha$ для $(\\beta_0, \\beta_1)$ (вычислить его полуоси).\n",
    "<br>\n",
    "4.Сформулировать гипотезу независимости переменной $Y$ от переменной $X$. Провести проверку значимости\n",
    "<br>\n",
    "5.Сформулировать модель, включающую дополнительный член с $X^2$. Построить МНК оценки параметров $\\beta_0$, $\\beta_1$, $\\beta_2$ в данной модели. Изобразить графически полученную регрессионную зависимость. \n",
    "<br>\n",
    "6.Построить несмещенную оценку дисперсии. Провести исследование нормальности ошибок как в пункте 2.\n",
    "<br>\n",
    "7.В предположении нормальности ошибок построить доверительные интервалы для параметров $\\beta_0$, $\\beta_1$, $\\beta_2$ уровня доверия $1-\\alpha$. Написать уравнение доверительного эллипсоида уровня доверия $1-\\alpha$.\n",
    "<br>\n",
    "8.Сформулировать гипотезу линейной регрессионной зависимости переменной $Y$ от переменной $X$ и проверить ее значимость на уровне $\\alpha$.\n",
    "<br>\n",
    "9.Интерпритировать полученные результаты."
   ]
  },
  {
   "cell_type": "markdown",
   "metadata": {},
   "source": [
    "## Выполнение работы\n",
    "Таблица 1:"
   ]
  },
  {
   "cell_type": "code",
   "execution_count": 1134,
   "metadata": {
    "ExecuteTime": {
     "end_time": "2023-12-13T18:13:11.526414400Z",
     "start_time": "2023-12-13T18:13:11.295997300Z"
    }
   },
   "outputs": [
    {
     "name": "stdout",
     "output_type": "stream",
     "text": [
      "  Number    Number_y    Number_x\n",
      "       1       34.19           1\n",
      "       2       20.3            1\n",
      "       3       28.02           2\n",
      "       4       26.19           2\n",
      "       5       10.52           2\n",
      "       6        6.79           0\n",
      "       7        5.2            1\n",
      "       8       20.36           1\n",
      "       9       31.64           0\n",
      "      10       21.97           2\n",
      "      11        8.39           0\n",
      "      12        4.92           2\n",
      "      13       23.54           1\n",
      "      14        6.2            0\n",
      "      15        5.86           1\n",
      "      16       19.06           1\n",
      "      17       14              0\n",
      "      18       16.46           2\n",
      "      19       17.43           1\n",
      "      20       10.87           2\n",
      "      21       18.47           0\n",
      "      22        3.58           1\n",
      "      23       10.33           0\n",
      "      24        9.91           0\n",
      "      25       12.49           2\n",
      "      26       24.83           2\n",
      "      27        1.87           1\n",
      "      28        6.81           1\n",
      "      29       15.72           0\n",
      "      30       13.34           0\n",
      "      31       14.47           0\n",
      "      32       13.25           0\n",
      "      33       13.97           0\n",
      "      34        6.48           0\n",
      "      35        9.02           2\n",
      "      36       12.81           1\n",
      "      37       19.94           2\n",
      "      38       17.94           1\n",
      "      39        9.94           0\n",
      "      40        4.42           1\n",
      "      41       21.33           2\n",
      "      42        0.35           0\n",
      "      43       18.21           0\n",
      "      44       12.13           2\n",
      "      45       21.09           2\n",
      "      46        1.05           2\n",
      "      47        1.2            1\n",
      "      48        7.7            2\n",
      "      49        2.74           1\n",
      "      50       14.34           1\n"
     ]
    }
   ],
   "source": [
    "from tabulate import tabulate\n",
    "import warnings\n",
    "import sympy\n",
    "# Игнорировать предупреждения DeprecationWarning\n",
    "warnings.filterwarnings(\"ignore\", category=DeprecationWarning)\n",
    "\n",
    "numbers = [1, 2, 3, 4, 5, 6, 7, 8, 9, 10, 11, 12, 13, 14, 15, 16, 17, 18, 19, 20, 21, 22, 23, 24, 25, 26, 27, 28, 29, 30, 31, 32, 33, 34, 35, 36, 37, 38, 39, 40, 41, 42, 43, 44, 45, 46, 47, 48, 49, 50]\n",
    "numbers_y = [34.19, 20.30, 28.02, 26.19, 10.52, 6.79, 5.20, 20.36, 31.64, 21.97, 8.39, 4.92, 23.54, 6.20, 5.86, 19.06, 14.00, 16.46, 17.43, 10.87, 18.47, 3.58, 10.33, 9.91, 12.49, 24.83, 1.87, 6.81, 15.72, 13.34, 14.47, 13.25, 13.97, 6.48, 9.02, 12.81, 19.94, 17.94, 9.94, 4.42, 21.33, 0.35, 18.21, 12.13, 21.09, 1.05, 1.20, 7.70, 2.74, 14.34]\n",
    "numbers_x = [1, 1, 2, 2, 2, 0, 1, 1, 0, 2, 0, 2, 1, 0, 1, 1, 0, 2, 1, 2, 0, 1, 0, 0, 2, 2, 1, 1, 0, 0, 0, 0, 0, 0, 2, 1, 2, 1, 0, 1, 2, 0, 0, 2, 2, 2, 1, 2, 1, 1]\n",
    "h = 2.9\n",
    "alpha = 0.2\n",
    "data = list(zip(numbers, numbers_y, numbers_x))\n",
    "headers = [\"Number\", \"Number_y\", \"Number_x\"]\n",
    "\n",
    "table = tabulate(data, headers=headers, tablefmt=\"plain\")\n",
    "print(table)\n"
   ]
  },
  {
   "cell_type": "markdown",
   "source": [
    "### 1.Построить графически результаты эксперимента. Сформулировать линейную регрессионную модель переменной $Y$ по переменной $X$. Построить МНК оценки параметра сдвига $\\beta_0$ и масштаба $\\beta_1$. Построить полученную линию регрессии. Оценить визуально соответствие полученных данных и построенной оценки. "
   ],
   "metadata": {
    "collapsed": false
   }
  },
  {
   "cell_type": "markdown",
   "source": [
    "ㅤ\n",
    "$\\mathbb{E}_{\\theta}(Y|z) = x(z)^{\\intercal}\\beta$\n",
    "<br>\n",
    "$Y = \\beta_0 + \\beta_1 X + \\varepsilon$"
   ],
   "metadata": {
    "collapsed": false
   }
  },
  {
   "cell_type": "code",
   "execution_count": 1135,
   "outputs": [
    {
     "name": "stdout",
     "output_type": "stream",
     "text": [
      "beta_0 11.93\n",
      "beta_1 1.53\n"
     ]
    },
    {
     "data": {
      "text/plain": "<Figure size 640x480 with 1 Axes>",
      "image/png": "iVBORw0KGgoAAAANSUhEUgAAAjIAAAGwCAYAAACzXI8XAAAAOXRFWHRTb2Z0d2FyZQBNYXRwbG90bGliIHZlcnNpb24zLjguMiwgaHR0cHM6Ly9tYXRwbG90bGliLm9yZy8g+/7EAAAACXBIWXMAAA9hAAAPYQGoP6dpAAAwfklEQVR4nO3de3wU9b3/8feykCBCloRLLoeACElUBLRU0lgvIAu74MNCvVTBC3pQKw0+qmhrOT8remwfodaHWk8RrVWxpxKqVvTokUQCJB41gHIpYCub5KDgwUAlkA1BIk3m98c0664kYTcmOzPZ1/Px2IfudyabzzDZ7Dsz34vLMAxDAAAADtTL6gIAAAA6iyADAAAciyADAAAciyADAAAciyADAAAciyADAAAciyADAAAcq7fVBXS3lpYW7du3TwMGDJDL5bK6HAAAEAXDMNTQ0KCsrCz16tX+dZceH2T27dun7Oxsq8sAAACdsHfvXg0bNqzd7T0+yAwYMECS+Q+RkpJicTUAACAawWBQ2dnZoc/x9vT4INN6OyklJYUgAwCAw5ysWwidfQEAgGMRZAAAgGNZGmSWLVumcePGhW77FBQUaPXq1aHtkyZNksvlinjcdtttFlYMAADsxNI+MsOGDdOSJUuUk5MjwzD0/PPPa+bMmdq6davGjBkjSbrlllv07//+76Gv6devn1XlAgAAm7E0yFx22WURz3/5y19q2bJl2rBhQyjI9OvXTxkZGVaUBwAAbM42fWSam5u1cuVKNTY2qqCgINT+wgsvaPDgwTr77LO1aNEiHT16tMPXaWpqUjAYjHgAAICeyfLh1zt27FBBQYGOHTum/v37a9WqVTrrrLMkSXPmzNGIESOUlZWl7du365577tGuXbv0yiuvtPt6RUVFeuCBB+JVPgAAsJDLMAzDygK+/PJL7dmzR/X19Xr55Zf1+9//XhUVFaEwE27dunWaMmWKqqurNWrUqDZfr6mpSU1NTaHnrRPq1NfXM48MAAAOEQwG5fF4Tvr5bXmQ+Tqv16tRo0bpqaeeOmFbY2Oj+vfvr5KSEvl8vqheL9p/CAAAYB/Rfn7bpo9Mq5aWlogrKuG2bdsmScrMzIxjRQAAwK4s7SOzaNEiTZ8+XcOHD1dDQ4NWrFih8vJylZaWqqamRitWrNCMGTM0aNAgbd++XXfeeacuuugijRs3zsqyAdhEICDV1EijR0s5OVZXA8AKlgaZAwcO6IYbbtBnn30mj8ejcePGqbS0VFOnTtXevXtVVlamxx57TI2NjcrOztYVV1yhe++918qSAdhAXZ00Z45UWvpVm88nFRdLqanW1QUg/mzXR6ar0UcG6Hn8fqmsTGpu/qrN7Za8XqmkxLq6AHQdx/aRAYCOBALmlZjwECOZz0tLpaoqa+oCYA2CDABHqanpeHt1dXzqAGAPBBkAjtLOFFIho0fHpw4A9kCQAeAoublmx163O7Ld7TbbGb0EJBaCDADHKS42O/aG83rNdgCJxfK1lgAgVqmp5uikqiqzTwzzyACJiyADwLFycggwQKLj1hIAAHAsggwAAHAsggwAAHAsggwAAHAsggwAAHAsggwAAHAsggwAAHAsggwAAHAsggwAAHAsggwAAHAsggwAAHAsggwAAHAsggwAAHAsggwAAHAsggwAAHCs3lYX4FSBgFRTI40eLeXkWF0NAACJiSsyMaqrk/x+KS9PmjFDys01nx86ZHVlAAAkHoJMjObMkcrKItvKyqTZs62pBwCAREaQiUEgIJWWSs3Nke3NzWZ7VZU1dQEAkKgIMjGoqel4e3V1fOoAAAAmgkwMRo3qePvo0fGpAwAAmAgyMcjNlXw+ye2ObHe7zXZGLwEAEF8EmRgVF0teb2Sb12u2AwCA+GIemRilpkolJWbH3upq5pEBAMBKBJlOyskhwAAAYDVuLQEAAMciyAAAAMciyAAAAMciyAAAAMciyAAAAMciyAAAAMciyAAAAMeyNMgsW7ZM48aNU0pKilJSUlRQUKDVq1eHth87dkyFhYUaNGiQ+vfvryuuuEL79++3sGIAAGAnlgaZYcOGacmSJdq8ebM++OADXXLJJZo5c6Y+/PBDSdKdd96p119/XS+99JIqKiq0b98+XX755VaWDAAAbMRlGIZhdRHh0tLS9Otf/1pXXnmlhgwZohUrVujKK6+UJH300Uc688wzVVlZqe985ztRvV4wGJTH41F9fb1SUlK6s3QAANBFov38tk0fmebmZq1cuVKNjY0qKCjQ5s2bdfz4cXnDVmg844wzNHz4cFVWVrb7Ok1NTQoGgxEPAADQM1keZHbs2KH+/fsrOTlZt912m1atWqWzzjpLtbW1SkpK0sCBAyP2T09PV21tbbuvV1RUJI/HE3pkZ2d38xEAAACrWB5k8vLytG3bNm3cuFHz58/X3Llz9de//rXTr7do0SLV19eHHnv37u3CagEAgJ1Yvvp1UlKSRo8eLUmaMGGC3n//ff3mN7/R1VdfrS+//FKHDx+OuCqzf/9+ZWRktPt6ycnJSk5O7u6yAQCADVh+RebrWlpa1NTUpAkTJqhPnz5au3ZtaNuuXbu0Z88eFRQUWFghAACwC0uvyCxatEjTp0/X8OHD1dDQoBUrVqi8vFylpaXyeDyaN2+eFi5cqLS0NKWkpOj2229XQUFB1COWAABAz2ZpkDlw4IBuuOEGffbZZ/J4PBo3bpxKS0s1depUSdKjjz6qXr166YorrlBTU5N8Pp+eeOIJK0sGAAA2Yrt5ZLoa88gAAOA8jptHBgAAIFYEGQAA4FgEGQAA4FgEGQAA4FgEGQAA4FgEGQAA4FgEGQAA4FgEGQAA4FiWLxoJAACcKRCQamqk0aOlnBxrauCKDAAAiEldneT3S3l50owZUm6u+fzQofjXQpABAAAxmTNHKiuLbCsrk2bPjn8tBBkAABC1QEAqLZWamyPbm5vN9qqq+NZDkAEAAFGrqel4e3V1fOpoRZABAABRGzWq4+2jR8enjlYEGQAAELXcXMnnk9zuyHa322yP9+glggwAAIhJcbHk9Ua2eb1me7wxjwwAAIhJaqpUUmJ27K2utnYeGYIMAADolJwc6wJMK24tAQAAxyLIAAAAxyLIAAAAxyLIAAAAxyLIAAAAxyLIAAAAxyLIAAAAxyLIAAAAx2JCPAAA0CmBgLkatpUz+3JFBgAAxKSuTvL7pbw8acYMcyFJv186dCj+tRBkAABATObMkcrKItvKyqTZs+NfC0EGAABELRCQSkul5ubI9uZms72qKr71EGQAAEDUamo63l5dHZ86WhFkAABA1EaN6nj76NHxqaMVQQYAAEQtN1fy+SS3O7Ld7Tbb4z16iSADAABiUlwseb2RbV6v2R5vzCMDAABikpoqlZSYHXurq62dR4YgAwAAOiUnx7oA04pbSwAAwLEIMgAAwLEIMgAAwLEsDTJFRUU677zzNGDAAA0dOlSzZs3Srl27IvaZNGmSXC5XxOO2226zqGIAAGAnlgaZiooKFRYWasOGDVqzZo2OHz+uadOmqbGxMWK/W265RZ999lno8dBDD1lUMQAAaBUISKtXx39ZgnCWjloqKSmJeL58+XINHTpUmzdv1kUXXRRq79evnzIyMqJ6zaamJjU1NYWeB4PBrikWAABIMle/njPHXFuplc9nziOTmhrfWmzVR6a+vl6SlJaWFtH+wgsvaPDgwTr77LO1aNEiHT16tN3XKCoqksfjCT2ys7O7tWYAABKNnVa/dhmGYcT/256opaVF3/ve93T48GG98847ofbf/e53GjFihLKysrR9+3bdc889mjhxol555ZU2X6etKzLZ2dmqr69XSkpKtx8HAAA9WSAg5eV1vL0r5pYJBoPyeDwn/fy2zYR4hYWF2rlzZ0SIkaRbb7019P9jx45VZmampkyZopqaGo1qY+Wq5ORkJScnd3u9AAAkomhWv47nJHm2uLW0YMECvfHGG1q/fr2GDRvW4b75+fmSpOp4rxMOAABY/TqcYRhasGCBVq1apXXr1mnkyJEn/Zpt27ZJkjIzM7u5OgAA8HWsfh2msLBQf/zjH7VixQoNGDBAtbW1qq2t1RdffCFJqqmp0YMPPqjNmzfr448/1n/913/phhtu0EUXXaRx48ZZWToAAAnLTqtfW9rZ1+Vytdn+3HPP6cYbb9TevXt13XXXaefOnWpsbFR2dra+//3v695774264260nYUAAEBsunP162g/v20zaqm7EGQAAHCeaD+/bdHZFwAAoDMIMgAAwLEIMgAAwLFsMyEeAMQqEDAn5+qOjoYAnIErMgAcp65O8vvNadJnzDDntfD7pUOHrK4MQLwRZAA4jp0WrANgLYIMAEcJBKTSUqm5ObK9udlsr6qypi4A1iDIAHCUaBasA5A4CDIAHMVuC9YBsBZBBoCj2G3BOgDWIsgAcBw7LVgHwFrMIwPAcVJTpZKS7l2wDoAzEGQAOFZODgEGSHTcWgIAAI5FkAEAAI5FkAEAAI5FkAEAAI5FkAEAAI7FqCUAANApgYC5bIiVUyBwRQYAAMSkrk7y+6W8PGnGDHPGbb9fOnQo/rUQZAAAQEzmzJHKyiLbysqk2bPjXwtBBgAARC0QkEpLpebmyPbmZrO9qiq+9RBkAABA1GpqOt5eXR2fOloRZAAAQNRGjep4++jR8amjFUEGAABELTdX8vkktzuy3e022+M9eokgAwAAYlJcLHm9kW1er9kebwQZAAAQE8OwuoKvEGQAAEBMGH4NAAAcieHXAADAsRh+DQAAHKvXSZJD7ziv4kiQAQAAUWtp6Xj7P/4RnzpaEWQAAEDUmBAPAAA4FhPiAUAXCQSk1avjP0oCSHR2mhAvzl1yAOCbq6sz57EoLf2qzeczf4mmplpXF5AoUlOlkhLzj4jqavN2UryvxLRyGYad5ufresFgUB6PR/X19UpJSbG6HABdYMoUaf36yNlFXS5p8mRp7Vrr6gLQdaL9/ObWEgBHCQSkdetOnCLdMMx2bjMBicXSIFNUVKTzzjtPAwYM0NChQzVr1izt2rUrYp9jx46psLBQgwYNUv/+/XXFFVdo//79FlUMwGoVFd9sO4CuY4d+apYGmYqKChUWFmrDhg1as2aNjh8/rmnTpqmxsTG0z5133qnXX39dL730kioqKrRv3z5dfvnlFlYNAEBiq6uT/H4pL0+aMcMcyeT3S4cOxb8WW/WR+fvf/66hQ4eqoqJCF110kerr6zVkyBCtWLFCV155pSTpo48+0plnnqnKykp95zvfOelr0kcG6FkCAfOXZ0fbrep0CCQKv99cJDJ8vSW32xy5VFLSNd/DkX1k6uvrJUlpaWmSpM2bN+v48ePyho3xOuOMMzR8+HBVVla2+RpNTU0KBoMRDwA9R26udMklbW+75BJCDNDdWDSyHS0tLbrjjjv03e9+V2effbYkqba2VklJSRo4cGDEvunp6aqtrW3zdYqKiuTxeEKP7Ozs7i4dQJy9/LI53Dqcz2e2A+hedls00jbzyBQWFmrnzp165513vtHrLFq0SAsXLgw9DwaDhBmgh7HTHBZAorHbEgW2CDILFizQG2+8obffflvDhg0LtWdkZOjLL7/U4cOHI67K7N+/XxkZGW2+VnJyspKTk7u7ZAA2kJNDgAHirXWJgvb6yCTUEgWGYWjBggVatWqV1q1bp5EjR0ZsnzBhgvr06aO1YTNc7dq1S3v27FFBQUG8ywUAAGKJgpDCwkKtWLFCr732mgYMGBDq9+LxeHTKKafI4/Fo3rx5WrhwodLS0pSSkqLbb79dBQUFUY1YAgAAXc9Ot3ctHX7tcrnabH/uued04403SjInxLvrrrtUXFyspqYm+Xw+PfHEE+3eWvo6hl8DPVcgYHY8pI8M0PNE+/ltq3lkugNBBuh5WDQS6PkcOY8MAERjzhyzo2G4sjJp9mxr6gFgHYIMAEex22RcAKxFkAHgKHabjAuAtQgyABzFbpNxAbAWQaaT7LB0OZCIWifjcrsj291us53RS0BiIcjEyE5LlwOJyk6TcQGwFsOvYxSPpcsBRMcOk3EB6B7MI/NPXRlkAgHzSkxH2/llCgDAN8c8Mt2A0RIAANiLLVa/dgpGSwD2whIFALgiA8Bx6HQPoBVBJgbcWgLsgSUKALQiyMSAW0uA9ViiAEA4gkwMmIgLsB5XRgGEI8jEiIm4AGtxZRRAOEYtxSg11Zz4jom4AGvk5kqXXCKtXy+Fz4LlckmTJ/N+BBJN1EFm3759ysrK6s5aHCUnh1+YgJW+PpVnz57aE0B7or61NGbMGK1YsaI7awGAkwoEpHXr2t62bh2dfYFEE3WQ+eUvf6kf/vCHuuqqq1RXV9edNQFAu+jsCyBc1EHmRz/6kbZv366DBw/qrLPO0uuvv96ddQFAm+jsCyBcTJ19R44cqXXr1um3v/2tLr/8cp155pnq3TvyJbZs2dKlBQJAuNZpENpbhZ6+a0BiiXnU0ieffKJXXnlFqampmjlz5glBBgC6W3GxOYtvaelXbUyDACSmmFLI008/rbvuukter1cffvihhgwZ0l11AUC7mAYBQKuog4zf79emTZv029/+VjfccEN31gQAUWEaBABRB5nm5mZt375dw4YN6856AACAQwQC5khCK6+KRh1k1qxZ0511AAAAh6irM1ehD++n5vOZ/dRSU+NbC2stAQCAmMyZY44cDFdWZnbCjzeCDAAAiFogYF6JCZ/+QDKfl5bGf3ZtggwAAIia3WbXJsgAAICo2W12bYIMAACIWuvs2m53ZLvbbbbHe/QSQaaTAgFp9WpW2gUAJJ7iYnM27XBWza7N+gIxstOQMwAArGCn2bUJMjHqaMhZSYk1NQEAYAU7zK7NraUY2G3IGQAAiY4gEwO7DTkDACDREWRiYLchZwAAJDqCTAzsNuQMAIBER5CJkZ2GnAEAkOgsDTJvv/22LrvsMmVlZcnlcunVV1+N2H7jjTfK5XJFPPx+vzXF/lPrkLNAQHrzTfO/JSUMvQYAwAqWDr9ubGzU+PHj9a//+q+6/PLL29zH7/frueeeCz1PTk6OV3kdssOQMwAAEp2lQWb69OmaPn16h/skJycrIyMj6tdsampSU1NT6HkwGOx0fQAAwN5s30emvLxcQ4cOVV5enubPn6+DBw92uH9RUZE8Hk/okZ2dHadKAQBAvLkMwzCsLkKSXC6XVq1apVmzZoXaVq5cqX79+mnkyJGqqanRv/3bv6l///6qrKyU++tDh/6prSsy2dnZqq+vV0pKSncfBgAA6ALBYFAej+ekn9+2XqLgmmuuCf3/2LFjNW7cOI0aNUrl5eWaMmVKm1+TnJwcl340gYA5QZ6V60sAAJDobH9rKdzpp5+uwYMHq9rCKXTr6iS/X8rLk2bMMOeW8fulQ4csKwlIWKxCD8BRQebTTz/VwYMHlZmZaVkNHS0aCSA++IMCQCtLg8yRI0e0bds2bdu2TZK0e/dubdu2TXv27NGRI0f0k5/8RBs2bNDHH3+stWvXaubMmRo9erR8Pp8l9bJoJGAP/EEBoJWlQeaDDz7Queeeq3PPPVeStHDhQp177rm677775Ha7tX37dn3ve99Tbm6u5s2bpwkTJuh//ud/LJtLhkUjAevxBwWAcJZ29p00aZI6GjRVWloax2pOjkUjAetF8wcFHfCBxOGoPjJWy81tfymC1FR+eQLxwB8UAMIRZGIQCLTfmfDQIS5pA/HAKvQAwhFkYlBR8c22A+garEIPoJWtJ8QDgLa0rkJfVWX2iWFiSiBxEWRicPHF32w7gK7FKvQAuLUUg9xc6ZJLJJcrst3lMtv5hQoAQHwRZGL09NNSWlpkW1qa9PvfW1MPAACJjCATo5tvlg4ejGw7eNBsBwAA8UWQiUEgIK1f3/a2desYfg0AQLwRZGLA8GsAAOyFUUsAHCsQMJcsYPg1kLi4IhMDhl8D9lBXJ/n9Ul6eNGOGOaLQ729/5m0APRdBJgYMvwbsYc4cqawssq2sTJo925p6AFiHIBOjl1+Wpk2LbJs2zWwH0P0CAam0VGpujmxvbjbb6XQPxE8gIK1ebe37jj4yMWJqdMBaNTUdb6+u5j0JdLe6OvPKaGnpV20+n7neWWpqfGshyHQSU6MD1hg1quPto0fHpw4gkXV0e7ekJL61cGsJgKPk5pp/+bndke1ut9nOHxhA97Lb7V2CDADHKS6WvN7INq/XbAfQvaK5vRtP3FoC4Dj0VQOsY7fbuwQZAI5FXzUg/nJzpUGDTlx3UDLb4/2e5NYSAACIWiDQdoiRzHb6yAAAANuyWx8ZggwAAIia3frIEGQAAEDU7DYFAkEGAADExE5TIDBqCQAAxMROUyAQZAAAQKfYYQoEbi0BAADHIsgAAADH4tYSAADolEDAnFfGyj4yXJEBAAAxqauT/H4pL0+aMcMcku33S4cOxb8WggwAAIjJnDlSWVlkW1mZNHt2/GshyAAAgKgFAlJpqdTcHNne3Gy2s9YSAACwLdZaAgAAjsVaSz1EICCtXh3/S2gAAFgpN1caNKjtbYMGsdaS7dmppzYAAPEWCEgHD7a97eBB+sjYnp16agMAEG/0kQnz9ttv67LLLlNWVpZcLpdeffXViO2GYei+++5TZmamTjnlFHm9XlVZeC/Hbj21AQCIN/rIhGlsbNT48eO1dOnSNrc/9NBDevzxx/Xkk09q48aNOvXUU+Xz+XTs2LE4V2qyWwoFACDecnMln09yuyPb3W6zPd59ZCxdomD69OmaPn16m9sMw9Bjjz2me++9VzNnzpQk/eEPf1B6erpeffVVXXPNNfEsVZL9UigAAFYoLja7VJSWftXm9Zrt8WbbtZZ2796t2tpaeb3eUJvH41F+fr4qKyvbDTJNTU1qamoKPQ8Gg11WU26u1KePdPz4idv69LF+KXMAAOIhNVUqKTG7VFRXs9ZSm2prayVJ6enpEe3p6emhbW0pKiqSx+MJPbKzs7usptLStkOMZLavWdNl3woAANvLyZGmT7f2D3nbBpnOWrRokerr60OPvXv3dtlrb9zY8fbKyi77VgAAIAq2DTIZGRmSpP3790e079+/P7StLcnJyUpJSYl4dJX8/I63FxR02bcCAABRsG2QGTlypDIyMrR27dpQWzAY1MaNG1VgUWLw+TqezXDq1PjWAwBAorO0s++RI0dUHTZmeffu3dq2bZvS0tI0fPhw3XHHHfrFL36hnJwcjRw5Uj//+c+VlZWlWbNmWVbz++9L550XOavhoEFmOwAAiC9Lg8wHH3ygyZMnh54vXLhQkjR37lwtX75cP/3pT9XY2Khbb71Vhw8f1gUXXKCSkhL17dvXqpI1cqT0+edmx97KSvN2EldiAACwhsswDMPqIrpTMBiUx+NRfX19l/aXAQAg0QUC5mSx3TH8OtrPb9v2kQEAAPZkpwWUCTIAACAmdlpAmSADAACiZrcFlAkyAAAganZbQJkgAwAAoma3BZQJMp0UCEirV8f/EhoAAFbKzTUniHW7I9vdbrM93usuEWRiZKee2gAAWKG4WPJ6I9u8XrM93phHJkZ+v9kzO7yTk9ttnsCSkm/88gAAOEZVldknxsp5ZAgyMQgEzCsxHW23cilzAAB6CibE6wZ266kNAECiI8jEwG49tQEASHQEmRjYrac2AACJjiATIzv11AYAwEp2mIqkt3Xf2plSU83RSd3ZUxsAADurqzPXWyot/arN5zP/qE9NjW8tBJlOyskhwAAAElNHi0bGeyoSbi0BAICosWgkAABwLLtNRUKQAQAAUbPbVCQEGQAAEDW7TUVCkAEAADGx01QkjFoCAAAxsdNUJASZTgoEzA5PzCMDWIf3IWAtO0xFwq2lGNXVSX6/uQr2jBnmvUK/Xzp0yOrKgMTB+xBAK4JMjDqaBAhAfPA+BNCKIBMDu00CBCQi3ocAwhFkYmC3SYCARMT7EEA4gkwM7DYJEJCIeB8CCEeQAeAodpuMC4C1CDIx4JI2YA92mowLgLWYRyYGXNIG7MFOk3EBsBZXZAA4lmFYXQEAqxFkYsCtJcAemBAPQCuCTAy4tQTYAxPiAWhFkIkBoyUA6zEhHoBwBJkYMVoCsBa3eAGEY9RSjBgtAViLW7wAwhFkOskOS5cDiaj1Fm9ZWeTtJbfbvDrK+xJILNxaAuA43OIF0IogA8BxmD8GQCtbB5n7779fLpcr4nHGGWdYXRYAizH8GkAr2/eRGTNmjMrCfmP17m37kgF0o9bh118XPvyafjJAfAQC5khCKwe+2D4V9O7dWxkZGVaXAcAmohl+TZABulddnXllNPyPCp/P7KeWmhrfWmx9a0mSqqqqlJWVpdNPP13XXnut9uzZ0+H+TU1NCgaDEQ8APQfDrwHr2en2rq2DTH5+vpYvX66SkhItW7ZMu3fv1oUXXqiGhoZ2v6aoqEgejyf0yM7OjmPFALobM2wD1rLb7Nouw3BO///Dhw9rxIgReuSRRzRv3rw292lqalJTU1PoeTAYVHZ2turr65WSkhKvUgF0o0OHzL/87HBZG0g0q1ebi7W25803penTv/n3CQaD8ng8J/38tn0fmXADBw5Ubm6uqjuYgzw5OVnJyclxrApAvLXOsP3WW9KGDVJBgTR1qtVVAYnBbrd3bX1r6euOHDmimpoaZWZmWl0KAAvV1Ul+v3kVZvFiado08/mhQ1ZXBvR8dru9a+sgc/fdd6uiokIff/yx3nvvPX3/+9+X2+3WbCaLABKanToaAonITrNr2/rW0qeffqrZs2fr4MGDGjJkiC644AJt2LBBQ4YMsbo0ABZhHhnAenZaQNnWQWblypVWlwDAZphHBrAPOyygbOtbSwDwdXbraAjAWgQZAI5it46GAKxFkAHgOHbqaAjAWrbuIwMAbWEeGQCtCDIAHMdOC9YBsBa3lgA4DvPIAGhFkAHgKHZbsA6AtQgyABwlmnlkACQOggwAR2EeGQDhCDIAHIV5ZACEI8gAcBzmkQHQiuHXAByHeWQAtCLIAHAc5pEB0IpbSwAch3lkALQiyABwFOaRARCOIAPAUZhHBkA4ggwAR2EeGQDhCDIAHIV5ZACEI8gAcBzmkQHQiuHXAByndR6ZqiqzT8zo0VyJARIVV2QAOJZhWF0BAKsRZAA4Tl2d5PdLeXnSjBlmvxm/Xzp0yOrKAMQbQQaA4zAhHoBWBBkAjsKEeADCEWQAOAoT4gEIR5AB4ChMiAcgHEEGgKMwIR6AcAQZAI7zxBPSwIGRbQMHSsuWWVENACsRZAA4zo9+JB0+HNl2+LA0f74V1QCJKxCQVq+2tpM9QQaAozBqCbCeneZyIsgAcBRGLQHWs9NcTgQZAI7CqCXAWna7KkqQAeAojFoCrGW3q6IEGQCOU1wseb2RbV6v2Q6ge9ntqmjv+H47APjmUlOlkhLzEnZ1tfmLkysxQHy0XhUtK4u8veR2m39QxPu9yBWZTrLDkDMg0eXkSNOnE2KAeLPTVVGuyMSors7srV1a+lWbz2eevNRU6+oCACBe7HRVlCATo46GnJWUWFMTAABWyMmx/ooot5ZiYLchZwAAJDpHBJmlS5fqtNNOU9++fZWfn69NmzZZUofdhpwBAJDobB9k/vSnP2nhwoVavHixtmzZovHjx8vn8+nAgQNxr8VuQ84AAEh0tg8yjzzyiG655RbddNNNOuuss/Tkk0+qX79+evbZZ9vcv6mpScFgMOLRVZiICwAAe7F1kPnyyy+1efNmecPGePXq1Uter1eVlZVtfk1RUZE8Hk/okZ2d3aU12WnIGQAAic7WQebzzz9Xc3Oz0tPTI9rT09NVW1vb5tcsWrRI9fX1ocfevXu7tKbWIWeBgPTmm+Z/S0oYeg0AgBV63PDr5ORkJScnd/v3scOQMwAAEp2tr8gMHjxYbrdb+/fvj2jfv3+/MjIyLKoKAADYha2DTFJSkiZMmKC1a9eG2lpaWrR27VoVFBRYWBkAALAD299aWrhwoebOnatvf/vbmjhxoh577DE1Njbqpptusro0AABgMdsHmauvvlp///vfdd9996m2tlbnnHOOSkpKTugADAAAEo/LMAzD6iK6UzAYlMfjUX19vVJSUqwuBwAARCHaz29b95EBAADoCEEGAAA4FkEGAAA4FkEGAAA4FkEGAAA4lu2HX39TrYOyunIVbAAA0L1aP7dPNri6xweZhoYGSeryVbABAED3a2hokMfjaXd7j59HpqWlRfv27dOAAQPkcrm67HWDwaCys7O1d+/eHjs/TU8/xp5+fFLPP0aOz/l6+jFyfJ1nGIYaGhqUlZWlXr3a7wnT46/I9OrVS8OGDeu2109JSemRP5zhevox9vTjk3r+MXJ8ztfTj5Hj65yOrsS0orMvAABwLIIMAABwLIJMJyUnJ2vx4sVKTk62upRu09OPsacfn9Tzj5Hjc76efowcX/fr8Z19AQBAz8UVGQAA4FgEGQAA4FgEGQAA4FgEGQAA4FgEmTBLly7Vaaedpr59+yo/P1+bNm3qcP+XXnpJZ5xxhvr27auxY8fqzTffjNhuGIbuu+8+ZWZm6pRTTpHX61VVVVV3HkKHYjm+p59+WhdeeKFSU1OVmpoqr9d7wv433nijXC5XxMPv93f3YXQolmNcvnz5CfX37ds3Yh8nn8NJkyadcHwul0uXXnppaB87ncO3335bl112mbKysuRyufTqq6+e9GvKy8v1rW99S8nJyRo9erSWL19+wj6xvq+7S6zH98orr2jq1KkaMmSIUlJSVFBQoNLS0oh97r///hPO3xlnnNGNR9GxWI+xvLy8zZ/R2traiP2ceg7ben+5XC6NGTMmtI+dzmFRUZHOO+88DRgwQEOHDtWsWbO0a9euk36d1Z+FBJl/+tOf/qSFCxdq8eLF2rJli8aPHy+fz6cDBw60uf97772n2bNna968edq6datmzZqlWbNmaefOnaF9HnroIT3++ON68skntXHjRp166qny+Xw6duxYvA4rJNbjKy8v1+zZs7V+/XpVVlYqOztb06ZN0//93/9F7Of3+/XZZ5+FHsXFxfE4nDbFeoySORtleP2ffPJJxHYnn8NXXnkl4th27twpt9utq666KmI/u5zDxsZGjR8/XkuXLo1q/927d+vSSy/V5MmTtW3bNt1xxx26+eabIz7sO/Mz0V1iPb63335bU6dO1ZtvvqnNmzdr8uTJuuyyy7R169aI/caMGRNx/t55553uKD8qsR5jq127dkUcw9ChQ0PbnHwOf/Ob30Qc1969e5WWlnbCe9Au57CiokKFhYXasGGD1qxZo+PHj2vatGlqbGxs92ts8VlowDAMw5g4caJRWFgYet7c3GxkZWUZRUVFbe7/gx/8wLj00ksj2vLz840f/vCHhmEYRktLi5GRkWH8+te/Dm0/fPiwkZycbBQXF3fDEXQs1uP7un/84x/GgAEDjOeffz7UNnfuXGPmzJldXWqnxXqMzz33nOHxeNp9vZ52Dh999FFjwIABxpEjR0JtdjuHrSQZq1at6nCfn/70p8aYMWMi2q6++mrD5/OFnn/Tf7PuEs3xteWss84yHnjggdDzxYsXG+PHj++6wrpQNMe4fv16Q5Jx6NChdvfpSedw1apVhsvlMj7++ONQm53P4YEDBwxJRkVFRbv72OGzkCsykr788ktt3rxZXq831NarVy95vV5VVla2+TWVlZUR+0uSz+cL7b97927V1tZG7OPxeJSfn9/ua3aXzhzf1x09elTHjx9XWlpaRHt5ebmGDh2qvLw8zZ8/XwcPHuzS2qPV2WM8cuSIRowYoezsbM2cOVMffvhhaFtPO4fPPPOMrrnmGp166qkR7XY5h7E62XuwK/7N7KSlpUUNDQ0nvAerqqqUlZWl008/Xddee6327NljUYWdd8455ygzM1NTp07Vu+++G2rvaefwmWeekdfr1YgRIyLa7XoO6+vrJemEn7lwdvgsJMhI+vzzz9Xc3Kz09PSI9vT09BPu1baqra3tcP/W/8bymt2lM8f3dffcc4+ysrIifhj9fr/+8Ic/aO3atfrVr36liooKTZ8+Xc3NzV1afzQ6c4x5eXl69tln9dprr+mPf/yjWlpadP755+vTTz+V1LPO4aZNm7Rz507dfPPNEe12Ooexau89GAwG9cUXX3TJz72dPPzwwzpy5Ih+8IMfhNry8/O1fPlylZSUaNmyZdq9e7cuvPBCNTQ0WFhp9DIzM/Xkk0/qz3/+s/785z8rOztbkyZN0pYtWyR1ze8uu9i3b59Wr159wnvQruewpaVFd9xxh7773e/q7LPPbnc/O3wW9vjVr/HNLVmyRCtXrlR5eXlEZ9hrrrkm9P9jx47VuHHjNGrUKJWXl2vKlClWlBqTgoICFRQUhJ6ff/75OvPMM/XUU0/pwQcftLCyrvfMM89o7NixmjhxYkS7089holixYoUeeOABvfbaaxH9R6ZPnx76/3Hjxik/P18jRozQiy++qHnz5llRakzy8vKUl5cXen7++eerpqZGjz76qP7zP//Twsq63vPPP6+BAwdq1qxZEe12PYeFhYXauXOnpX2uosUVGUmDBw+W2+3W/v37I9r379+vjIyMNr8mIyOjw/1b/xvLa3aXzhxfq4cfflhLlizRW2+9pXHjxnW47+mnn67Bgwerurr6G9ccq29yjK369Omjc889N1R/TzmHjY2NWrlyZVS/FK08h7Fq7z2YkpKiU045pUt+Juxg5cqVuvnmm/Xiiy+ecAn/6wYOHKjc3FxHnL/2TJw4MVR/TzmHhmHo2Wef1fXXX6+kpKQO97XDOVywYIHeeOMNrV+/XsOGDetwXzt8FhJkJCUlJWnChAlau3ZtqK2lpUVr166N+Is9XEFBQcT+krRmzZrQ/iNHjlRGRkbEPsFgUBs3bmz3NbtLZ45PMnuaP/jggyopKdG3v/3tk36fTz/9VAcPHlRmZmaX1B2Lzh5juObmZu3YsSNUf084h5I5NLKpqUnXXXfdSb+PlecwVid7D3bFz4TViouLddNNN6m4uDhi2Hx7jhw5opqaGkecv/Zs27YtVH9POIeSORqouro6qj8mrDyHhmFowYIFWrVqldatW6eRI0ee9Gts8VnYJV2Ge4CVK1caycnJxvLly42//vWvxq233moMHDjQqK2tNQzDMK6//nrjZz/7WWj/d9991+jdu7fx8MMPG3/729+MxYsXG3369DF27NgR2mfJkiXGwIEDjddee83Yvn27MXPmTGPkyJHGF198YfvjW7JkiZGUlGS8/PLLxmeffRZ6NDQ0GIZhGA0NDcbdd99tVFZWGrt37zbKysqMb33rW0ZOTo5x7NixuB9fZ47xgQceMEpLS42amhpj8+bNxjXXXGP07dvX+PDDD0P7OPkctrrggguMq6+++oR2u53DhoYGY+vWrcbWrVsNScYjjzxibN261fjkk08MwzCMn/3sZ8b1118f2v9///d/jX79+hk/+clPjL/97W/G0qVLDbfbbZSUlIT2Odm/mZ2P74UXXjB69+5tLF26NOI9ePjw4dA+d911l1FeXm7s3r3bePfddw2v12sMHjzYOHDgQNyPzzBiP8ZHH33UePXVV42qqipjx44dxo9//GOjV69eRllZWWgfJ5/DVtddd52Rn5/f5mva6RzOnz/f8Hg8Rnl5ecTP3NGjR0P72PGzkCAT5j/+4z+M4cOHG0lJScbEiRONDRs2hLZdfPHFxty5cyP2f/HFF43c3FwjKSnJGDNmjPHf//3fEdtbWlqMn//850Z6erqRnJxsTJkyxdi1a1c8DqVNsRzfiBEjDEknPBYvXmwYhmEcPXrUmDZtmjFkyBCjT58+xogRI4xbbrnFkl8u4WI5xjvuuCO0b3p6ujFjxgxjy5YtEa/n5HNoGIbx0UcfGZKMt95664TXsts5bB2K+/VH6zHNnTvXuPjii0/4mnPOOcdISkoyTj/9dOO555474XU7+jeLp1iP7+KLL+5wf8Mwh5tnZmYaSUlJxr/8y78YV199tVFdXR3fAwsT6zH+6le/MkaNGmX07dvXSEtLMyZNmmSsW7fuhNd16jk0DHOo8SmnnGL87ne/a/M17XQO2zo2SRHvKzt+Frr+WTwAAIDj0EcGAAA4FkEGAAA4FkEGAAA4FkEGAAA4FkEGAAA4FkEGAAA4FkEGAAA4FkEGAAA4FkEGAAA4FkEGgKM0Nzfr/PPP1+WXXx7RXl9fr+zsbP2///f/LKoMgBVYogCA4wQCAZ1zzjl6+umnde2110qSbrjhBv3lL3/R+++/r6SkJIsrBBAvBBkAjvT444/r/vvv14cffqhNmzbpqquu0vvvv6/x48dbXRqAOCLIAHAkwzB0ySWXyO12a8eOHbr99tt17733Wl0WgDgjyABwrI8++khnnnmmxo4dqy1btqh3795WlwQgzujsC8Cxnn32WfXr10+7d+/Wp59+anU5ACzAFRkAjvTee+/p4osv1ltvvaVf/OIXkqSysjK5XC6LKwMQT1yRAeA4R48e1Y033qj58+dr8uTJeuaZZ7Rp0yY9+eSTVpcGIM64IgPAcX784x/rzTff1F/+8hf169dPkvTUU0/p7rvv1o4dO3TaaadZWyCAuCHIAHCUiooKTZkyReXl5brgggsitvl8Pv3jH//gFhOQQAgyAADAsegjAwAAHIsgAwAAHIsgAwAAHIsgAwAAHIsgAwAAHIsgAwAAHIsgAwAAHIsgAwAAHIsgAwAAHIsgAwAAHIsgAwAAHOv/A5UkcZBGQkoEAAAAAElFTkSuQmCC"
     },
     "metadata": {},
     "output_type": "display_data"
    }
   ],
   "source": [
    "import matplotlib.pyplot as plt\n",
    "import numpy as np\n",
    "from scipy.optimize import curve_fit\n",
    "import scipy.stats as sps\n",
    "\n",
    "# Ваши данные\n",
    "numbers_x = np.array([1, 1, 2, 2, 2, 0, 1, 1, 0, 2, 0, 2, 1, 0, 1, 1, 0, 2, 1, 2, 0, 1, 0, 0, 2, 2, 1, 1, 0, 0, 0, 0, 0, 0, 2, 1, 2, 1, 0, 1, 2, 0, 0, 2, 2, 2, 1, 2, 1, 1])\n",
    "numbers_y = np.array([34.19, 20.30, 28.02, 26.19, 10.52, 6.79, 5.20, 20.36, 31.64, 21.97, 8.39, 4.92, 23.54, 6.20, 5.86, 19.06, 14.00, 16.46, 17.43, 10.87, 18.47, 3.58, 10.33, 9.91, 12.49, 24.83, 1.87, 6.81, 15.72, 13.34, 14.47, 13.25, 13.97, 6.48, 9.02, 12.81, 19.94, 17.94, 9.94, 4.42, 21.33, 0.35, 18.21, 12.13, 21.09, 1.05, 1.20, 7.70, 2.74, 14.34])\n",
    "\n",
    "# МНК функция\n",
    "def linear_regression(x, beta_0, beta_1):\n",
    "    return beta_0 + beta_1 * x\n",
    "\n",
    "# МНК оценки параметров\n",
    "params, covariance = curve_fit(linear_regression, numbers_x, numbers_y)\n",
    "beta_0, beta_1 = params\n",
    "\n",
    "# Вывод оценок\n",
    "print(\"beta_0\",round(beta_0,2))\n",
    "print(\"beta_1\",round(beta_1,2))\n",
    "\n",
    "# Построение графика данных и линии регрессии\n",
    "plt.scatter(numbers_x, numbers_y, s=20, c='blue', label=\"Данные\")\n",
    "plt.xlabel(\"X\")\n",
    "plt.ylabel(\"Y\")\n",
    "plt.show()\n"
   ],
   "metadata": {
    "collapsed": false,
    "ExecuteTime": {
     "end_time": "2023-12-13T18:13:11.684956200Z",
     "start_time": "2023-12-13T18:13:11.528375700Z"
    }
   }
  },
  {
   "cell_type": "code",
   "execution_count": 1136,
   "outputs": [
    {
     "data": {
      "text/plain": "<Figure size 640x480 with 1 Axes>",
      "image/png": "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"
     },
     "metadata": {},
     "output_type": "display_data"
    }
   ],
   "source": [
    "plt.scatter(numbers_x, numbers_y, s=20, c='blue', label=\"Данные\")\n",
    "plt.plot(numbers_x, linear_regression(numbers_x, beta_0, beta_1), color='red', label=\"Линия регрессии\")\n",
    "plt.xlabel(\"X\")\n",
    "plt.ylabel(\"Y\")\n",
    "plt.legend()\n",
    "plt.show()\n"
   ],
   "metadata": {
    "collapsed": false,
    "ExecuteTime": {
     "end_time": "2023-12-13T18:13:11.885420Z",
     "start_time": "2023-12-13T18:13:11.671990400Z"
    }
   }
  },
  {
   "cell_type": "markdown",
   "source": [
    "Линейная регрессионная модель будет иметь вид:\n",
    "$Y \\approx 11.93 + 1.53 \\cdot X$\n",
    "Из графика видно, что наблюдаемые данные сильно отклоняются от построенной линии регрессии. Это может указывать на то, что линейная модель не является наилучшим приближением для этих данных."
   ],
   "metadata": {
    "collapsed": false
   }
  },
  {
   "cell_type": "markdown",
   "source": [
    "### 2.Построить и интерпретировать несмещенную оценку дисперсии. На базе ошибок построить гистограмму с шагом h. Проверить гипотезу нормальности ошибок на уровне значимости $\\alpha$ по $\\chi^2$. Оценить расстояние полученной оценки до класса нормальных распределений по Колмогорову. Визуально оценить данный факт. "
   ],
   "metadata": {
    "collapsed": false
   }
  },
  {
   "cell_type": "code",
   "execution_count": 1137,
   "outputs": [
    {
     "name": "stdout",
     "output_type": "stream",
     "text": [
      "[[11.93211037]\n",
      " [ 1.53131595]]\n",
      "Несмещённая оценка дисперсии: 66.12\n"
     ]
    }
   ],
   "source": [
    "y_matrix = np.matrix(numbers_y).T\n",
    "x_matrix = np.matrix([[1] * len(numbers_x), numbers_x])\n",
    "b_matrix = np.linalg.inv(x_matrix * x_matrix.T) * x_matrix * y_matrix\n",
    "print(b_matrix)\n",
    "# Рассчет несмещенной оценки дисперсии\n",
    "# np.linalg.norm() вычисляет норму вектора\n",
    "# np.linalg.matrix_rank() вычисляет ранг матрицы\n",
    "unbiased_variance  = np.linalg.norm(y_matrix - x_matrix.T * b_matrix)**2/(len(numbers_x) - np.linalg.matrix_rank(x_matrix))\n",
    "\n",
    "print(\"Несмещённая оценка дисперсии:\", round(unbiased_variance,2))"
   ],
   "metadata": {
    "collapsed": false,
    "ExecuteTime": {
     "end_time": "2023-12-13T18:13:11.890408600Z",
     "start_time": "2023-12-13T18:13:11.870461700Z"
    }
   }
  },
  {
   "cell_type": "code",
   "execution_count": 1138,
  "outputs": [
    {
     "data": {
      "text/plain": "<Figure size 1000x600 with 1 Axes>",
      "image/png": "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"
     },
     "metadata": {},
     "output_type": "display_data"
    }
   ],
   "source": [
    "plt.figure(figsize=(10, 6))\n",
    "errors = y_matrix - x_matrix.T * b_matrix\n",
    "bins = np.arange(np.min(errors)/h, (np.max(errors)+h)/h,h)\n",
    "plt.hist(errors, bins=bins, edgecolor='black', density = True)\n",
    "plt.xlabel(\"Ошибки\")\n",
    "plt.ylabel(\"Частота\")\n",
    "plt.title(\"Гистограмма ошибок\")\n",
    "plt.show()\n",
    "\n"
   ],
   "metadata": {
    "collapsed": false,
    "ExecuteTime": {
     "end_time": "2023-12-16T05:40:41.183118700Z",
     "start_time": "2023-12-16T05:40:40.804009200Z"
    }
   }
  },
  {
   "cell_type": "code",
   "execution_count": 1139,
   "outputs": [
    {
     "name": "stdout",
     "output_type": "stream",
     "text": [
      "\n",
      "хи-квадрат: 2.87\n",
      "x_a: 5.99\n"
     ]
    }
   ],
   "source": [
    "# Среднее значение ошибок\n",
    "mean_errors = 0\n",
    "# Стандартное отклонение ошибок на основе несмещенной оценки дисперсии\n",
    "std_errors = np.sqrt(unbiased_variance)\n",
    "\n",
    "# Заданные интервалы\n",
    "intervals = [[-14, -8], [-7.9, -2.2], [-2.1, 3.5], [3.55, 6.4], [6.45, 21]]\n",
    "\n",
    "# Экспериментальные частоты\n",
    "freq_exp = [0] * len(intervals) \n",
    "# Теоретические частоты\n",
    "freq_teor = [0] * len(intervals) \n",
    "\n",
    "for i in range(len(intervals)):\n",
    "    num1 = intervals[i][0]\n",
    "    num2 = intervals[i][-1]\n",
    "    freq_exp[i] += len([x for x in errors if (x >= num1 and x < num2)])\n",
    "    freq_teor[i] += len(errors) * (sps.norm.cdf(num2, loc=mean_errors, scale=std_errors) - sps.norm.cdf(num1, loc=mean_errors, scale=std_errors))\n",
    "    if i == len(intervals) - 1:\n",
    "        freq_teor[i] += len(errors) * sps.norm.sf(num2, loc=mean_errors, scale=std_errors)\n",
    "    \n",
    "\n",
    "\n",
    "freq_exp = np.array(freq_exp)\n",
    "freq_teor = np.array(freq_teor)\n",
    "chi_2 = np.sum((freq_exp - freq_teor) ** 2 / freq_teor)\n",
    "\n",
    "print()\n",
    "print(\"хи-квадрат:\", round(chi_2,2))\n",
    "print(\"x_a:\", round(sps.chi2.ppf(1 - alpha, df=len(freq_exp) - 1),2))\n"
   ],
   "metadata": {
    "collapsed": false,
    "ExecuteTime": {
     "end_time": "2023-12-13T18:13:12.241469200Z",
     "start_time": "2023-12-13T18:13:12.094861Z"
    }
   }
  },
  {
   "cell_type": "code",
   "execution_count": 1140,
   "outputs": [
    {
     "name": "stdout",
     "output_type": "stream",
     "text": [
      "Интервал x        Экспериментальная частота    Гипотетическая частота\n",
      "[-14, -8]                                 9                   6.0019\n",
      "[-7.9, -2.2]                             12                  11.3863\n",
      "[-2.1, 3.5]                              11                  13.4226\n",
      "[3.55, 6.4]                               8                   5.77938\n",
      "[6.45, '+inf']                           10                  10.6914\n"
     ]
    }
   ],
   "source": [
    "intervals = [[-14, -8], [-7.9, -2.2], [-2.1, 3.5], [3.55, 6.4], [6.45, \"+inf\"]]\n",
    "data = list(zip(intervals, freq_exp, freq_teor))\n",
    "headers = [\"Интервал x\",\"Экспериментальная частота\",\"Гипотетическая частота\"]\n",
    "table = tabulate(data, headers=headers, tablefmt=\"plain\")\n",
    "print(table)"
   ],
   "metadata": {
    "collapsed": false,
    "ExecuteTime": {
     "end_time": "2023-12-13T18:13:12.244460700Z",
     "start_time": "2023-12-13T18:13:12.118797400Z"
    }
   }
  },
  {
   "cell_type": "markdown",
   "source": [
    "\n",
    "${\\chi}^2 \\approx 2.87$\n",
    "<br>\n",
    "$x_{\\alpha} \\approx 5.99$\n",
    "\n",
    "$\\chi^2 < x_{\\alpha} \\to$ гипотеза о нормальности принимается"
   ],
   "metadata": {
    "collapsed": false
   }
  },
  {
   "cell_type": "code",
   "execution_count": 1141,
   "outputs": [
    {
     "name": "stdout",
     "output_type": "stream",
     "text": [
      "Статистика критерия Колмогорова: 0.0755\n",
      "x_a: 0.1517\n"
     ]
    }
   ],
   "source": [
    "print(\"Статистика критерия Колмогорова:\", round(sps.kstest([num[0,0] for num in errors], \"norm\", args = (mean_errors,std_errors)).statistic,4))\n",
    "print(\"x_a:\", round(sps.kstwobign.ppf(1 - alpha) / np.sqrt(len(errors)),4))"
   ],
   "metadata": {
    "collapsed": false,
    "ExecuteTime": {
     "end_time": "2023-12-13T18:13:12.286348500Z",
     "start_time": "2023-12-13T18:13:12.133757600Z"
    }
   }
  },
  {
   "cell_type": "markdown",
   "source": [
    "ㅤ\n",
    "$D_n \\approx 0.0755$\n",
    "$x_a \\approx 0.1517$\n",
    "$D_n < x_a \\to$ гипотеза о нормальности принимается"
   ],
   "metadata": {
    "collapsed": false
   }
  },
  {
   "cell_type": "code",
   "execution_count": 1142,
   "outputs": [
    {
     "data": {
      "text/plain": "<Figure size 1000x600 with 1 Axes>",
      "image/png": "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"
     },
     "metadata": {},
     "output_type": "display_data"
    }
   ],
   source": [
    "plt.figure(figsize=(10, 6))\n",
    "bins = np.arange(np.min(errors)/h, (np.max(errors)+h)/h,h)\n",
    "\n",
    "\n",
    "# Построение гистограммы\n",
    "plt.hist(errors, bins=bins, edgecolor='black', density=True, label='Гистограмма ошибок')\n",
    "\n",
    "\n",
    "plt.plot(np.arange(min(errors)/h, (max(errors)+h)/h + 1, 0.01), sps.norm.pdf(np.arange(min(errors)/h, (max(errors)+h)/h + 1, 0.01), mean_errors, std_errors), c = 'red', label='Нормальное распределение')\n",
    "\n",
    "# Добавление легенды\n",
    "plt.legend()\n",
    "plt.title(\"Сравнение гистограммы ошибок и теоретической функции нормального распределения\")\n",
    "plt.show()"
   ],
   "metadata": {
    "collapsed": false,
    "ExecuteTime": {
     "end_time": "2023-12-13T18:13:12.436946500Z",
     "start_time": "2023-12-13T18:13:12.151708900Z"
    }
   }
  },
  {
   "cell_type": "markdown",
   "source": [
    "### 3.В предположении нормальности ошибок построить доверительные интервалы для параметров $\\beta_0$ и $\\beta_1$ уровня доверия $1-\\alpha$. Построить доверительный эллипс уровня доверия $1-\\alpha$ для $(\\beta_0, \\beta_1)$ (вычислить его полуоси)."
   ],
   "metadata": {
    "collapsed": false
   }
  },
  {
   "cell_type": "markdown",
   "source": [
    "#### Доверительный интервал для параметра $\\beta_0$:\n",
    "$\\left[\\hat{\\psi} - x_\\alpha S \\sqrt{b_\\psi}; \\hat{\\psi} + x_\\alpha S \\sqrt{b_\\psi}\\right]$\n",
    "<br>\n",
    "$x_\\alpha: S_{n-r}(x_\\alpha) = 1 - \\frac{\\alpha}{2}$\n",
    "<br>\n",
    "$b_\\psi = C^\\intercal(XX^\\intercal)^{-1}C$\n",
    "<br>\n",
    "$C = (1, 0)^\\intercal$\n",
    "<br>\n",
    "$\\hat{\\psi} = \\hat{\\beta}_0$\n",
    "<br>"
   ],
   "metadata": {
    "collapsed": false
   }
  },
  {
   "cell_type": "code",
   "execution_count": 1143,
   "outputs": [
    {
     "name": "stdout",
     "output_type": "stream",
     "text": [
      "x_a =  1.2994388784066297\n",
      "[9.59,14.27]\n"
     ]
    }
   ],
   "source": [
    "r = np.linalg.matrix_rank(x_matrix)\n",
    "\n",
    "n = len(numbers_x)\n",
    "\n",
    "x_a = sps.t.ppf(1 - alpha/2, df = n - r)\n",
    "\n",
    "C = np.matrix([[1], [0]])\n",
    "\n",
    "b = float(C.T * np.linalg.inv(x_matrix * x_matrix.T) * C)\n",
    "\n",
    "print(\"x_a = \", x_a)\n",
    "print(\"[\", round(beta_0 - x_a * np.sqrt(unbiased_variance) * np.sqrt(b),2), \",\", round(beta_0 + x_a * np.sqrt(unbiased_variance) * np.sqrt(b),2), \"]\", sep='')"
   ],
   "metadata": {
    "collapsed": false,
    "ExecuteTime": {
     "end_time": "2023-12-13T18:13:12.459885500Z",
     "start_time": "2023-12-13T18:13:12.436946500Z"
    }
   }
  },
  {
   "cell_type": "markdown",
   "source": [
    "ㅤ\n",
    "$\\left[9.59, 14.27\\right] \\ni \\beta_0$"
   ],
   "metadata": {
    "collapsed": false
   }
  },
  {
   "cell_type": "markdown",
   "source": [
    "#### Доверительный интервал для параметра $\\beta_1$:\n",
    "$\\left[\\hat{\\psi} - x_\\alpha S \\sqrt{b_\\psi}; \\hat{\\psi} + x_\\alpha S \\sqrt{b_\\psi}\\right]$\n",
    "<br>\n",
    "$x_\\alpha: S_{n-r}(x_\\alpha) = 1 - \\frac{\\alpha}{2}$\n",
    "<br>\n",
    "$b_\\psi = C^\\intercal(XX^\\intercal)^{-1}C$\n",
    "<br>\n",
    "$C = (0, 1)^\\intercal$\n",
    "<br>\n",
    "$\\hat{\\psi} = \\hat{\\beta}_1$"
   ],
   "metadata": {
    "collapsed": false
   }
  },
  {
   "cell_type": "code",
   "execution_count": 1144,
   "outputs": [
    {
     "name": "stdout",
     "output_type": "stream",
     "text": [
      "[-0.31,3.37]\n"
     ]
    }
   ],
   "source": [
    "r = np.linalg.matrix_rank(x_matrix)\n",
    "\n",
    "n = len(numbers_x)\n",
    "\n",
    "x_a = sps.t.ppf(1 - alpha/2, df = n - r)\n",
    "\n",
    "C = np.matrix([[0], [1]])\n",
    "\n",
    "b = float(C.T * np.linalg.inv(x_matrix * x_matrix.T) * C)\n",
    "print(\"[\", round(beta_1 - x_a * np.sqrt(unbiased_variance) * np.sqrt(b),2), \",\", round(beta_1 + x_a * np.sqrt(unbiased_variance) * np.sqrt(b),2), \"]\", sep='')"
   ],
   "metadata": {
    "collapsed": false,
    "ExecuteTime": {
     "end_time": "2023-12-13T18:13:12.576574200Z",
     "start_time": "2023-12-13T18:13:12.455895700Z"
    }
   }
  },
  {
   "cell_type": "markdown",
   "source": [
    "ㅤ\n",
    "$\\left[-0.31, 3.37\\right] \\ni \\beta_1$"
   ],
   "metadata": {
    "collapsed": false
   }
  },
  {
   "cell_type": "markdown",
   "source": [
    "#### Доверительный эллипс для параметра $(\\beta_0, \\beta_1)$: (ХЗ ПРАВИЛЬНО ЧИ НЕТ)\n",
    "$\\left\\{\\overrightarrow{x} : \\left(\\overrightarrow{x} - \\hat{\\psi}\\right)^\\intercal b_\\psi^{-1} \\left(\\overrightarrow{x} - \\hat{\\psi}\\right) \\le q S^2 x_\\alpha\\right\\}$\n",
    "<br>\n",
    "$x_\\alpha: \\mathcal{F}_{q, n-r}(x_\\alpha) = 1 - \\alpha$\n",
    "<br>\n",
    "$b_\\psi = C^\\intercal(XX^\\intercal)^{-1}C$\n",
    "<br>\n",
    "$C = \\begin{pmatrix}1 & 0 \\\\0 & 1\\end{pmatrix}$\n",
    "<br>\n",
    "$\\hat{\\psi} = (\\hat{\\beta}_0, \\hat{\\beta}_1)^\\intercal$\n"
   ],
   "metadata": {
    "collapsed": false
   }
  },
  {
   "cell_type": "code",
   "execution_count": 1145,
   "outputs": [
    {
     "name": "stdout",
     "output_type": "stream",
     "text": [
      "[3.95028889 1.37230402]\n"
     ]
    }
   ],
   "source": [
    "C = np.array([[1, 0],[0, 1]])\n",
    "xx_t = x_matrix*x_matrix.T\n",
    "xx_t_inv = np.linalg.inv(xx_t)\n",
    "b = C.T * xx_t_inv * C\n",
    "b_inv = np.linalg.inv(b)\n",
    "q = 2\n",
    "x_a = sps.f.ppf(1-alpha, dfn=q, dfd=n - r)\n",
    "cov = b_inv\n",
    "eigenvalues, _ = np.linalg.eig(cov)\n",
    "print(np.sqrt(1 / eigenvalues * (x_a * q * unbiased_variance)))"
   ],
   "metadata": {
    "collapsed": false,
    "ExecuteTime": {
     "end_time": "2023-12-13T18:13:12.576574200Z",
     "start_time": "2023-12-13T18:13:12.468861800Z"
    }
   }
  },
  {
   "cell_type": "markdown",
   "source": [
    "Длины полуосей: 3.95 и 1.37"
   ],
   "metadata": {
    "collapsed": false
   }
  },
  {
   "cell_type": "markdown",
   "source": [
    "### 4.Сформулировать гипотезу независимости переменной $Y$ от переменной $X$. Провести проверку значимости\n",
    "$H_0 : \\psi = 0$ - основная гипотеза"
   ],
   "metadata": {
    "collapsed": false
   }
  },
  {
   "cell_type": "code",
   "execution_count": 1146,
   "outputs": [
    {
     "name": "stdout",
     "output_type": "stream",
     "text": [
      "Оценка при выполнении гипотезы:(13.432800000000007,0)\n",
      "F = 0.58\n",
      "x_a = 1.66\n"
     ]
    }
   ],
   "source": [
    "h_b0 = sum(numbers_y)/len(numbers_y)\n",
    "h_b1 = 0\n",
    "\n",
    "print(\"Оценка при выполнении гипотезы:(\", h_b0,\",\", h_b1,\")\", sep='')\n",
    "h_b_matrix = np.matrix([[h_b0],[h_b1]])\n",
    "statistic_F = (np.linalg.norm(y_matrix - x_matrix.T * h_b_matrix)**2 - np.linalg.norm(y_matrix - x_matrix.T * b_matrix)**2)/2/unbiased_variance\n",
    "print(\"F =\", round(statistic_F,2))\n",
    "print(\"x_a =\", round(sps.f.ppf(1 - alpha, dfn = 2, dfd = n - r),2))"
   ],
   "metadata": {
    "collapsed": false,
    "ExecuteTime": {
     "end_time": "2023-12-13T18:13:12.616466400Z",
     "start_time": "2023-12-13T18:13:12.486813300Z"
    }
   }
  },
  {
   "cell_type": "markdown",
   "source": [
    "ㅤ\n",
    "$\\mathbb{F} \\approx 0.58$\n",
    "<br>\n",
    "$x_{\\alpha} \\approx 1.66$\n",
    "<br>\n",
    "$\\mathbb{F} < x_{\\alpha} \\to$ гипотеза о независимости принимается"
   ],
   "metadata": {
    "collapsed": false
   }
  },
  {
   "cell_type": "markdown",
   "source": [
    "### 5.Сформулировать модель, включающую дополнительный член с $X^2$. Построить МНК оценки параметров $\\beta_0$, $\\beta_1$, $\\beta_2$ в данной модели. Изобразить графически полученную регрессионную зависимость. "
   ],
   "metadata": {
    "collapsed": false
   }
  },
  {
   "cell_type": "markdown",
   "source": [
    "ㅤ\n",
    "$\\mathbb{E}_{\\theta}(Y|z) = x(z)^{\\intercal}\\beta$\n",
    "\n",
    "$Y = \\beta_0 + \\beta_1 X + \\beta_2 X^2 + \\varepsilon$"
   ],
   "metadata": {
    "collapsed": false
   }
  },
  {
   "cell_type": "code",
   "execution_count": 1147,
   "outputs": [
    {
     "name": "stdout",
     "output_type": "stream",
     "text": [
      "beta_0:  12.44\n",
      "beta_1:  -1.52\n",
      "beta_2:  1.54\n"
     ]
    },
    {
     "data": {
      "text/plain": "<Figure size 640x480 with 1 Axes>",
      "image/png": "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"
     },
     "metadata": {},
     "output_type": "display_data"
    }
   ],
   "source": [
    "def linear_regression2(x, beta_0, beta_1, beta_2):\n",
    "    return beta_0 + beta_1 * x + beta_2*(x**2)\n",
    "\n",
    "# МНК оценки параметров\n",
    "params, covariance = curve_fit(linear_regression2, numbers_x, numbers_y)\n",
    "beta_0, beta_1, beta_2 = params\n",
    "\n",
    "# Вывод оценок\n",
    "print(\"beta_0: \",round(beta_0,2))\n",
    "print(\"beta_1: \",round(beta_1,2))\n",
    "print(\"beta_2: \",round(beta_2,2))\n",
    "\n",
    "# Построение графика данных и линии регрессии\n",
    "plt.scatter(numbers_x, numbers_y, s=20, c='blue', label=\"Данные\")\n",
    "plt.xlabel(\"X\")\n",
    "plt.ylabel(\"Y\")\n",
    "plt.show()"
   ],
   "metadata": {
    "collapsed": false,
    "ExecuteTime": {
     "end_time": "2023-12-13T18:13:12.642398700Z",
     "start_time": "2023-12-13T18:13:12.502770500Z"
    }
   }
  },
  {
   "cell_type": "code",
   "execution_count": 1148,
   "outputs": [
    {
     "data": {
      "text/plain": "<Figure size 640x480 with 1 Axes>",
      "image/png": "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"
     },
     "metadata": {},
     "output_type": "display_data"
    }
   ],
   "source": [
    "# Построение графика данных и линии регрессии\n",
    "# Построение графика данных и линии регрессии\n",
    "plt.scatter(numbers_x, numbers_y, s=20, c='blue', label=\"Данные\")\n",
    "x_range = np.linspace(min(numbers_x), max(numbers_x), 100)  # Генерация значений X для более плавной линии регрессии\n",
    "plt.plot(x_range, linear_regression2(x_range, beta_0, beta_1, beta_2), color='red', label=\"Линия регрессии\")\n",
    "plt.xlabel(\"X\")\n",
    "plt.ylabel(\"Y\")\n",
    "plt.legend()\n",
    "plt.show()"
   ],
   "metadata": {
    "collapsed": false,
    "ExecuteTime": {
     "end_time": "2023-12-13T18:13:12.784020900Z",
     "start_time": "2023-12-13T18:13:12.636438800Z"
    }
   }
  },
  {
   "cell_type": "markdown",
   "source": [
    "Линейная регрессионная модель будет иметь вид:\n",
    "$Y \\approx 12.44 - 1.52 \\cdot X + 1.54 \\cdot X^2$\n",
    "Из графика видно, что линейная модель не является наилучшим приближением для этих данных."
   ],
   "metadata": {
    "collapsed": false
   }
  },
  {
   "cell_type": "markdown",
   "source": [
    "### 6.Построить несмещенную оценку дисперсии. Провести исследование нормальности ошибок как в пункте 2."
   ],
   "metadata": {
    "collapsed": false
   }
  },
  {
   "cell_type": "code",
   "execution_count": 1149,
   "outputs": [
    {
     "name": "stdout",
     "output_type": "stream",
     "text": [
      "[[12.43882353]\n",
      " [-1.52479779]\n",
      " [ 1.53597426]]\n",
      "Несмещённая оценка дисперсии: 66.97\n"
     ]
    }
   ],
   "source": [
    "y_matrix = np.matrix(numbers_y).T\n",
    "x_matrix = np.matrix([[1] * len(numbers_x), numbers_x, [x**2 for x in numbers_x]])\n",
    "b_matrix = np.linalg.inv(x_matrix * x_matrix.T) * x_matrix * y_matrix\n",
    "print(b_matrix)\n",
    "# Рассчет несмещенной оценки дисперсии\n",
    "# np.linalg.norm() вычисляет норму вектора\n",
    "# np.linalg.matrix_rank() вычисляет ранг матрицы\n",
    "unbiased_variance  = np.linalg.norm(y_matrix - x_matrix.T * b_matrix)**2/(len(numbers_x) - np.linalg.matrix_rank(x_matrix))\n",
    "\n",
    "print(\"Несмещённая оценка дисперсии:\", round(unbiased_variance,2))"
   ],
   "metadata": {
    "collapsed": false,
    "ExecuteTime": {
     "end_time": "2023-12-13T18:13:12.796993300Z",
     "start_time": "2023-12-13T18:13:12.785018200Z"
    }
   }
  },
  {
   "cell_type": "code",
   "execution_count": 1150,
   "outputs": [
    {
     "data": {
      "text/plain": "<Figure size 640x480 with 1 Axes>",
      "image/png": "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"
     },
     "metadata": {},
     "output_type": "display_data"
    }
   ],
   "source": [
    "\n",
    "errors = y_matrix - x_matrix.T * b_matrix\n",
    "bins = np.arange(np.min(errors)/h, (np.max(errors)+h)/h,h)\n",
    "plt.hist(errors, bins=bins, edgecolor='black', density = True)\n",
    "plt.xlabel(\"Ошибки\")\n",
    "plt.ylabel(\"Частота\")\n",
    "plt.title(\"Гистограмма ошибок\")\n",
    "plt.show()"
   ],
   "metadata": {
    "collapsed": false,
    "ExecuteTime": {
     "end_time": "2023-12-13T18:13:12.954572Z",
     "start_time": "2023-12-13T18:13:12.798986900Z"
    }
   }
  },
  {
   "cell_type": "code",
   "execution_count": 1151,
   "outputs": [
    {
     "name": "stdout",
     "output_type": "stream",
     "text": [
      "\n",
      "хи-квадрат: 2.53\n",
      "x_a: 5.99\n"
     ]
    }
   ],
   "source": [
    "# Среднее значение ошибок\n",
    "mean_errors = 0\n",
    "# Стандартное отклонение ошибок на основе несмещенной оценки дисперсии\n",
    "std_errors = np.sqrt(unbiased_variance)\n",
    "\n",
    "# Заданные интервалы\n",
    "intervals = [[-14.5, -5.75], [-5.74, 0.1], [0.11, 3], [3.01, 6], [6.01, 24]]\n",
    "\n",
    "# Экспериментальные частоты\n",
    "freq_exp = [0] * len(intervals) \n",
    "# Теоретические частоты\n",
    "freq_teor = [0] * len(intervals) \n",
    "\n",
    "\n",
    "for i in range(len(intervals)):\n",
    "    num1 = intervals[i][0]\n",
    "    num2 = intervals[i][-1]\n",
    "    freq_exp[i] += len([x for x in errors if (x >= num1 and x < num2)])\n",
    "    freq_teor[i] += len(errors) * (sps.norm.cdf(num2, loc=mean_errors, scale=std_errors) - sps.norm.cdf(num1, loc=mean_errors, scale=std_errors))\n",
    "    if i == len(intervals) - 1:\n",
    "        freq_teor[i] += len(errors) * sps.norm.sf(num2, loc=mean_errors, scale=std_errors)\n",
    "    \n",
    "\n",
    "freq_exp = np.array(freq_exp)\n",
    "freq_teor = np.array(freq_teor)\n",
    "chi_2 = np.sum((freq_exp - freq_teor) ** 2 / freq_teor)\n",
    "\n",
    "print()\n",
    "print(\"хи-квадрат:\", round(chi_2,2))\n",
    "print(\"x_a:\", round(sps.chi2.ppf(1 - alpha, df=len(freq_exp) - 1),2))"
   ],
   "metadata": {
    "collapsed": false,
    "ExecuteTime": {
     "end_time": "2023-12-13T18:13:12.969531600Z",
     "start_time": "2023-12-13T18:13:12.958560200Z"
    }
   }
  },
  {
   "cell_type": "code",
   "execution_count": 1152,
   "outputs": [
    {
     "name": "stdout",
     "output_type": "stream",
     "text": [
      "Интервал x        Экспериментальная частота    Гипотетическая частота\n",
      "[-14.5, -5.75]                           14                  10.1465\n",
      "[-5.74, 0.1]                             10                  13.168\n",
      "[0.11, 3]                                 8                   6.88401\n",
      "[3.01, 6]                                 7                   6.23928\n",
      "[6.01, '+inf']                           11                  11.5672\n"
     ]
    }
   ],
   "source": [
    "intervals = [[-14.5, -5.75], [-5.74, 0.1], [0.11, 3], [3.01, 6], [6.01, \"+inf\"]]\n",
    "data = list(zip(intervals, freq_exp, freq_teor))\n",
    "headers = [\"Интервал x\",\"Экспериментальная частота\",\"Гипотетическая частота\"]\n",
    "table = tabulate(data, headers=headers, tablefmt=\"plain\")\n",
    "print(table)"
   ],
   "metadata": {
    "collapsed": false,
    "ExecuteTime": {
     "end_time": "2023-12-13T18:13:13.026380300Z",
     "start_time": "2023-12-13T18:13:12.971525500Z"
    }
   }
  },
  {
   "cell_type": "markdown",
   "source": [
    "${\\chi}^2 \\approx 2.53$\n",
    "<br>\n",
    "$x_{\\alpha} \\approx 5.99$\n",
    "\n",
    "$\\chi^2 < x_{\\alpha} \\to$ гипотеза о нормальности принимается"
   ],
   "metadata": {
    "collapsed": false
   }
  },
  {
   "cell_type": "code",
   "execution_count": 1153,
   "outputs": [
    {
     "name": "stdout",
     "output_type": "stream",
     "text": [
      "Статистика критерия Колмогорова: 0.0817\n",
      "x_a: 0.1517\n"
     ]
    }
   ],
   "source": [
    "print(\"Статистика критерия Колмогорова:\", round(sps.kstest([num[0,0] for num in errors], \"norm\", args = (mean_errors,std_errors)).statistic,4))\n",
    "print(\"x_a:\", round(sps.kstwobign.ppf(1 - alpha) / np.sqrt(len(errors)),4))"
   ],
   "metadata": {
    "collapsed": false,
    "ExecuteTime": {
     "end_time": "2023-12-13T18:13:13.068266600Z",
     "start_time": "2023-12-13T18:13:12.986486700Z"
    }
   }
  },
  {
   "cell_type": "markdown",
   "source": [
    "ㅤ\n",
    "$D_n \\approx 0.0817$\n",
    "$x_a \\approx 0.1517$\n",
    "$D_n < x_a \\to$ гипотеза о нормальности принимается"
   ],
   "metadata": {
    "collapsed": false
   }
  },
  {
   "cell_type": "code",
   "execution_count": 1154,
   "outputs": [
    {
     "data": {
      "text/plain": "<Figure size 1000x600 with 1 Axes>",
      "image/png": "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"
     },
     "metadata": {},
     "output_type": "display_data"
    }
   ],
   "source": [
    "plt.figure(figsize=(10, 6))\n",
    "bins = np.arange(np.min(errors)/h, (np.max(errors)+h)/h,h)\n",
    "\n",
    "\n",
    "# Построение гистограммы\n",
    "plt.hist(errors, bins=bins, edgecolor='black', density=True, label='Гистограмма ошибок')\n",
    "\n",
    "\n",
    "plt.plot(np.arange(min(errors)/h, (max(errors)+h)/h + 1, 0.01), sps.norm.pdf(np.arange(min(errors)/h, (max(errors)+h)/h + 1, 0.01), mean_errors, std_errors), c = 'red', label='Нормальное распределение')\n",
    "\n",
    "# Добавление легенды\n",
    "plt.legend()\n",
    "plt.title(\"Сравнение гистограммы ошибок и теоретической функции нормального распределения\")\n",
    "plt.show()"
   ],
   "metadata": {
    "collapsed": false,
    "ExecuteTime": {
     "end_time": "2023-12-13T18:13:13.187954300Z",
     "start_time": "2023-12-13T18:13:13.002444Z"
    }
   }
  },
  {
   "cell_type": "markdown",
   "source": [
    "### 7.В предположении нормальности ошибок построить доверительные интервалы для параметров $\\beta_0$, $\\beta_1$, $\\beta_2$ уровня доверия $1-\\alpha$. Написать уравнение доверительного эллипсоида уровня доверия $1-\\alpha$."
   ],
   "metadata": {
    "collapsed": false
   }
  },
  {
   "cell_type": "markdown",
   "source": [
    "#### Доверительный интервал для параметра $\\beta_0$:\n",
    "$\\left[\\hat{\\psi} - x_\\alpha S \\sqrt{b_\\psi}; \\hat{\\psi} + x_\\alpha S \\sqrt{b_\\psi}\\right]$\n",
    "<br>\n",
    "$x_\\alpha: S_{n-r}(x_\\alpha) = 1 - \\frac{\\alpha}{2}$\n",
    "<br>\n",
    "$b_\\psi = C^\\intercal(XX^\\intercal)^{-1}C$\n",
    "<br>\n",
    "$C = (1, 0, 0)^\\intercal$\n",
    "<br>\n",
    "$\\psi = C^\\intercal \\beta = \\beta_0$"
   ],
   "metadata": {
    "collapsed": false
   }
  },
  {
   "cell_type": "code",
   "execution_count": 1155,
   "outputs": [
    {
     "name": "stdout",
     "output_type": "stream",
     "text": [
      "x_a =  1.2998249470173255\n",
      "[9.86,15.02]\n"
     ]
    }
   ],
   "source": [
    "r = np.linalg.matrix_rank(x_matrix)\n",
    "\n",
    "n = len(numbers_x)\n",
    "\n",
    "x_a = sps.t.ppf(1 - alpha/2, df = n - r)\n",
    "\n",
    "C = np.matrix([[1], [0], [0]])\n",
    "\n",
    "b = float(C.T * np.linalg.inv(x_matrix * x_matrix.T) * C)\n",
    "\n",
    "print(\"x_a = \", x_a)\n",
    "print(\"[\",round(beta_0 - x_a * np.sqrt(unbiased_variance) * np.sqrt(b),2),\",\",round(beta_0 + x_a * np.sqrt(unbiased_variance) * np.sqrt(b),2),\"]\", sep='')"
   ],
   "metadata": {
    "collapsed": false,
    "ExecuteTime": {
     "end_time": "2023-12-13T18:13:13.284735600Z",
     "start_time": "2023-12-13T18:13:13.188977200Z"
    }
   }
  },
  {
   "cell_type": "markdown",
   "source": [
    "ㅤ\n",
    "$\\left[9.86, 15.02\\right] \\ni \\beta_0$"
   ],
   "metadata": {
    "collapsed": false
   }
  },
  {
   "cell_type": "markdown",
   "source": [
    "#### Доверительный интервал для параметра $\\beta_1$:\n",
    "$\\left[\\hat{\\psi} - x_\\alpha S \\sqrt{b_\\psi}; \\hat{\\psi} + x_\\alpha S \\sqrt{b_\\psi}\\right]$\n",
    "<br>\n",
    "$x_\\alpha: S_{n-r}(x_\\alpha) = 1 - \\frac{\\alpha}{2}$\n",
    "<br>\n",
    "$b_\\psi = C^\\intercal(XX^\\intercal)^{-1}C$\n",
    "<br>\n",
    "$C = (0, 1, 0)^\\intercal$\n",
    "<br>\n",
    "$\\psi = C^\\intercal \\beta = \\beta_1$"
   ],
   "metadata": {
    "collapsed": false
   }
  },
  {
   "cell_type": "code",
   "execution_count": 1156,
   "outputs": [
    {
     "name": "stdout",
     "output_type": "stream",
     "text": [
      "x_a =  1.2998249470173255\n",
      "[-8.11,5.06]\n"
     ]
    }
   ],
   "source": [
    "r = np.linalg.matrix_rank(x_matrix)\n",
    "\n",
    "n = len(numbers_x)\n",
    "\n",
    "x_a = sps.t.ppf(1 - alpha/2, df = n - r)\n",
    "\n",
    "C = np.matrix([[0], [1], [0]])\n",
    "\n",
    "b = float(C.T * np.linalg.inv(x_matrix * x_matrix.T) * C)\n",
    "\n",
    "print(\"x_a = \", x_a)\n",
    "print(\"[\",round(beta_1 - x_a * np.sqrt(unbiased_variance) * np.sqrt(b),2),\",\",round(beta_1 + x_a * np.sqrt(unbiased_variance) * np.sqrt(b),2),\"]\", sep='')"
   ],
   "metadata": {
    "collapsed": false,
    "ExecuteTime": {
     "end_time": "2023-12-13T18:13:13.286708800Z",
     "start_time": "2023-12-13T18:13:13.205923200Z"
    }
   }
  },
  {
   "cell_type": "markdown",
   "source": [
    "ㅤ\n",
    "$\\left[-8.11, 5.06\\right] \\ni \\beta_1$"
   ],
   "metadata": {
    "collapsed": false
   }
  },
  {
   "cell_type": "markdown",
   "source": [
    "#### Доверительный интервал для параметра $\\beta_2$:\n",
    "$\\left[\\hat{\\psi} - x_\\alpha S \\sqrt{b_\\psi}; \\hat{\\psi} + x_\\alpha S \\sqrt{b_\\psi}\\right]$\n",
    "<br>\n",
    "$x_\\alpha: S_{n-r}(x_\\alpha) = 1 - \\frac{\\alpha}{2}$\n",
    "<br>\n",
    "$b_\\psi = C^\\intercal(XX^\\intercal)^{-1}C$\n",
    "<br>\n",
    "$C = (0, 0, 1)^\\intercal$\n",
    "<br>\n",
    "$\\psi = C^\\intercal \\beta = \\beta_2$"
   ],
   "metadata": {
    "collapsed": false
   }
  },
  {
   "cell_type": "code",
   "execution_count": 1157,
   "outputs": [
    {
     "name": "stdout",
     "output_type": "stream",
     "text": [
      "x_a =  1.2998249470173255\n",
      "[-1.64,4.71]\n"
     ]
    }
   ],
   "source": [
    "r = np.linalg.matrix_rank(x_matrix)\n",
    "\n",
    "n = len(numbers_x)\n",
    "\n",
    "x_a = sps.t.ppf(1 - alpha/2, df = n - r)\n",
    "\n",
    "C = np.matrix([[0], [0], [1]])\n",
    "\n",
    "b = float(C.T * np.linalg.inv(x_matrix * x_matrix.T) * C)\n",
    "\n",
    "print(\"x_a = \", x_a)\n",
    "print(\"[\",round(beta_2 - x_a * np.sqrt(unbiased_variance) * np.sqrt(b),2),\",\",round(beta_2 + x_a * np.sqrt(unbiased_variance) * np.sqrt(b),2),\"]\", sep='')"
   ],
   "metadata": {
    "collapsed": false,
    "ExecuteTime": {
     "end_time": "2023-12-13T18:13:13.349540Z",
     "start_time": "2023-12-13T18:13:13.218890300Z"
    }
   }
  },
  {
   "cell_type": "markdown",
   "source": [
    "ㅤ\n",
    "$\\left[-1.64, 4.71\\right] \\ni \\beta_2$"
   ],
   "metadata": {
    "collapsed": false
   }
  },
  {
   "cell_type": "markdown",
   "source": [
    "#### Доверительный эллипсоид\n",
    "$\\left\\{\\overrightarrow{x} : \\left(\\overrightarrow{x} - \\hat{\\psi}\\right)^\\intercal b_\\psi^{-1} \\left(\\overrightarrow{x} - \\hat{\\psi}\\right) \\le q S^2 x_\\alpha\\right\\}$\n",
    "<br>\n",
    "$x_\\alpha: \\mathcal{F}_{q, n-r}(x_\\alpha) = 1 - \\alpha$, $b_\\psi = C^\\intercal(XX^\\intercal)^{-1}C$\n",
    "<br>\n",
    "$b_\\psi = C^\\intercal(XX^\\intercal)^{-1}C$\n",
    "<br>\n",
    "$C = \\begin{pmatrix}1 & 0 & 0\\\\0 & 1 &0 \\\\ 0&0&1 \\end{pmatrix}$\n",
    "<br>\n",
    "$\\psi = C^\\intercal \\beta = (\\beta_0, \\beta_1, \\beta_2)^\\intercal$\n",
    "<br>"
   ],
   "metadata": {
    "collapsed": false
   }
  },
  {
   "cell_type": "code",
   "execution_count": 1158,
   "outputs": [
    {
     "name": "stdout",
     "output_type": "stream",
     "text": [
      "[[ 0.05882353 -0.08823529  0.02941176]\n",
      " [-0.08823529  0.38327206 -0.17738971]\n",
      " [ 0.02941176 -0.17738971  0.08915441]]\n",
      "det b_p =  5.4065743944637025e-05\n"
     ]
    }
   ],
   "source": [
    "r = np.linalg.matrix_rank(x_matrix)\n",
    "\n",
    "# Установка значений переменных\n",
    "n = len(numbers_x)\n",
    "q = len(b_matrix)\n",
    "c_level = 1 - alpha\n",
    "\n",
    "# Рассчет значения x_a\n",
    "x_a = sps.f.ppf(c_level, dfn=q, dfd=n - r)\n",
    "\n",
    "# Создание матрицы C\n",
    "C_matrix = np.matrix([[1, 0, 0], [0, 1, 0], [0, 0, 1]])\n",
    "\n",
    "# Вычисление матрицы b_p\n",
    "b_p = C_matrix.T * np.linalg.inv(x_matrix * x_matrix.T) * C_matrix\n",
    "\n",
    "# Вывод определителя матрицы b_p\n",
    "print(b_p)\n",
    "print(\"det b_p = \", np.linalg.det(b_p))"
   ],
   "metadata": {
    "collapsed": false,
    "ExecuteTime": {
     "end_time": "2023-12-13T18:13:13.350569400Z",
     "start_time": "2023-12-13T18:13:13.234845900Z"
    }
   }
  },
  {
   "cell_type": "markdown",
   "source": [
    "ㅤ\n",
    "$B=C^{T}(XX^{T})^{-1}C$\n",
    "$detB \\approx 5.407 \\cdot 10^{-5}$ "
   ],
   "metadata": {
    "collapsed": false
   }
  },
  {
   "cell_type": "code",
   "execution_count": 1159,
   "outputs": [
    {
     "name": "stdout",
     "output_type": "stream",
     "text": [
      "x_a =  1.6085202639061869\n"
     ]
    }
   ],
   "source": [
    "# Вывод критического значения x_a\n",
    "print(\"x_a = \", x_a)"
   ],
   "metadata": {
    "collapsed": false,
    "ExecuteTime": {
     "end_time": "2023-12-13T18:13:13.352531600Z",
     "start_time": "2023-12-13T18:13:13.250805Z"
    }
   }
  },
  {
   "cell_type": "markdown",
   "source": [
    "ㅤ\n",
    "$x_{\\alpha} \\approx 1.609$"
   ],
   "metadata": {
    "collapsed": false
   }
  },
  {
   "cell_type": "code",
   "execution_count": 1160,
   "outputs": [
    {
     "name": "stdout",
     "output_type": "stream",
     "text": [
      "49.9999999999999*x**2 + 97.9999999999996*x*y + 161.999999999999*x*z - 1343.28*x + 80.9999999999997*y**2 + 289.999999999999*y*z - 1417.42*y + 272.999999999999*z**2 - 2411.53999999999*z + 9125.80367977941\n",
      "323.14471747572435\n"
     ]
    }
   ],
   "source": [
    "x_s = sympy.Symbol('x', real=True)\n",
    "y_s = sympy.Symbol('y', real=True)\n",
    "z_s = sympy.Symbol('z', real=True)\n",
    "\n",
    "vector = np.matrix([[x_s], [y_s], [z_s]])\n",
    "\n",
    "expression = (vector - b_matrix).T * np.linalg.inv(b_p) * (vector - b_matrix)\n",
    "print(expression[0,0].as_poly().as_expr())\n",
    "print(q * unbiased_variance * x_a)\n"
   ],
   "metadata": {
    "collapsed": false,
    "ExecuteTime": {
     "end_time": "2023-12-13T18:13:13.354525900Z",
     "start_time": "2023-12-13T18:13:13.266760700Z"
    }
   }
  },
  {
   "cell_type": "markdown",
   "source": [
    "Неравенство примет примерно следующий вид:\n",
    "$50x^2 + 98xy + 162xz-1343.28x + 81y^2 + 290yz - 1417.42y + 273z^2 - 2411.54z + 9125.804 <= 323.1447$"
   ],
   "metadata": {
    "collapsed": false
   }
  },
  {
   "cell_type": "code",
   "execution_count": 1161,
   "outputs": [
    {
     "name": "stdout",
     "output_type": "stream",
     "text": [
      "1.17020194970091*x'**2 + 0.0736521402664703*y'**2 + 0.00635975587817215*z'**2\n"
     ]
    }
   ],
   "source": [
    "expression = expression[0,0].as_poly().as_expr() - q * unbiased_variance * x_a\n",
    "x_s = sympy.Symbol(\"x'\", real=True)\n",
    "y_s = sympy.Symbol(\"y'\", real=True)\n",
    "z_s = sympy.Symbol(\"z'\", real=True)\n",
    "\n",
    "# Расчет коэффициентов итогового неравенства\n",
    "eigenvalues, _ = np.linalg.eig(np.linalg.inv(b_p))\n",
    "coefficients = eigenvalues / (x_a * q * unbiased_variance)\n",
    "expression = coefficients[0] * x_s**2 + coefficients[1] * y_s**2 + coefficients[2] * z_s**2\n",
    "print(expression)"
   ],
   "metadata": {
    "collapsed": false,
    "ExecuteTime": {
     "end_time": "2023-12-13T18:13:13.365530200Z",
     "start_time": "2023-12-13T18:13:13.281720900Z"
    }
   }
  },
  {
   "cell_type": "markdown",
   "source": [
    "В итоговом виде неравенство для эллипсоида будет выглядеть примерно так:\n",
    "$1.1702x'^2 + 0.0736y'^2 + 0.0064z'^2 <= 1$"
   ],
   "metadata": {
    "collapsed": false
   }
  },
  {
   "cell_type": "code",
   "execution_count": 1162,
   "outputs": [
    {
     "name": "stdout",
     "output_type": "stream",
     "text": [
      "0.9244205499486974 3.684743947914776 12.53948722412987\n"
     ]
    }
   ],
   "source": [
    "# Вывод длин полуосей эллипсоида\n",
    "print(np.sqrt(1/coefficients[0]), np.sqrt(1/coefficients[1]), np.sqrt(1/coefficients[2]))\n"
   ],
   "metadata": {
    "collapsed": false,
    "ExecuteTime": {
     "end_time": "2023-12-13T18:13:13.367526200Z",
     "start_time": "2023-12-13T18:13:13.300685600Z"
    }
   }
  },
  {
   "cell_type": "markdown",
   "source": [
    "Длины полуосей будут примерно такими: 0.9244, 3.6847, 12.5395"
   ],
   "metadata": {
    "collapsed": false
   }
  },
  {
   "cell_type": "markdown",
   "source": [
    "### 8.Сформулировать гипотезу линейной регрессионной зависимости переменной $Y$ от переменной $X$ и проверить ее значимость на уровне $\\alpha$.\n",
    "$H_0 : \\psi = 0$ - основная гипотеза"
   ],
   "metadata": {
    "collapsed": false
   }
  },
  {
   "cell_type": "code",
   "execution_count": 1163,
   "outputs": [
    {
     "name": "stdout",
     "output_type": "stream",
     "text": [
      "Оценка при выполнении гипотезы: (11.93,1.53,0)\n",
      "F = 0.13\n",
      "x_a = 1.61\n"
     ]
    }
   ],
   "source": [
    "q = len(b_matrix)\n",
    "x_h_matrix = np.matrix([[1] * len(numbers_x), numbers_x])\n",
    "\n",
    "h_b_matrix = np.linalg.inv(x_h_matrix * x_h_matrix.T) * x_h_matrix * y_matrix\n",
    "\n",
    "h_b0 = float(h_b_matrix[0])\n",
    "h_b1 = float(h_b_matrix[1])\n",
    "h_b2 = 0\n",
    "\n",
    "h_b_matrix = np.matrix([[h_b0], [h_b1], [h_b2]])\n",
    "\n",
    "print(\"Оценка при выполнении гипотезы: (\",round(h_b0,2),',',round(h_b1,2),',',round(h_b2,2),')', sep='')\n",
    "statistic_F = (np.linalg.norm(y_matrix - x_matrix.T * h_b_matrix)**2 - np.linalg.norm(y_matrix - x_matrix.T * b_matrix)**2)/q/unbiased_variance\n",
    "print(\"F =\", round(statistic_F,2))\n",
    "print(\"x_a =\", round(sps.f.ppf(1 - alpha, dfn = q, dfd = n - r),2))"
   ],
   "metadata": {
    "collapsed": false,
    "ExecuteTime": {
     "end_time": "2023-12-13T18:13:13.451292600Z",
     "start_time": "2023-12-13T18:13:13.317626Z"
    }
   }
  },
  {
   "cell_type": "markdown",
   "source": [
    "ㅤ\n",
    "$\\mathbb{F} \\approx 0.13$\n",
    "<br>\n",
    "$x_{\\alpha} \\approx 1.61$\n",
    "<br>\n",
    "$\\mathbb{F} < x_{\\alpha} \\to$ гипотеза о квадратичной регрессионной независимости принимается"
   ],
   "metadata": {
    "collapsed": false
   }
  },
  {
   "cell_type": "markdown",
   "metadata": {},
   "source": [
    "## Выводы\n",
    "\n",
    "Были изучены основные принципы метода наименьших квадратов (МНК), а также статистические свойства МНК-оценок, функции регрессии и роль МНК в регрессионном анализе.\n",
    "Были приобретены навыки по построению МНК-оценок, созданию доверительных эллипсов и эллипсоидов, а также проверке гипотез о независимости и линейной регрессионной зависимости.\n",
    "Были сделаны выводы о нормальности вектора ошибок и характере взаимосвязи в данных"
   ]
  }
 ],
 "metadata": {
  "kernelspec": {
   "name": "python3",
   "language": "python",
   "display_name": "Python 3 (ipykernel)"
  },
  "language_info": {
   "codemirror_mode": "r",
   "file_extension": ".r",
   "mimetype": "text/x-r-source",
   "name": "R",
   "pygments_lexer": "r",
   "version": "4.0.3"
  }
 },
 "nbformat": 4,
 "nbformat_minor": 4
}
