{
  "nbformat": 4,
  "nbformat_minor": 0,
  "metadata": {
    "colab": {
      "provenance": []
    },
    "kernelspec": {
      "name": "python3",
      "display_name": "Python 3"
    },
    "language_info": {
      "name": "python"
    }
  },
  "cells": [
    {
      "cell_type": "markdown",
      "source": [
        "# Практическая работа №2: Классические методы математической статистики\n",
        "Выполнила студентка гр.1375 Петрова Варвара. Вариант 21"
      ],
      "metadata": {
        "id": "Dgizzcch0Oa_"
      }
    },
    {
      "cell_type": "markdown",
      "source": [
        "## Цель работы\n",
        "Научится применять методы математической статистики для решения задач статистического анализа; сформировать навыки реализации методов с помощью прикладных программных пакетов."
      ],
      "metadata": {
        "id": "tfao5oPNBTku"
      }
    },
    {
      "cell_type": "markdown",
      "source": [
        "## Основные теоретические положения\n",
        "\n",
        "1.Выборочные числовые характеристики:\n",
        "Мат.ожидание $\\overline{X}=\\frac{1}{n}\\sum_{i=1}^{n}X_{i}$\n",
        "\n",
        "Дисперсия $S^{2}=\\frac{1}{n}\\sum_{i=1}^{n}\\left( X_{i}-\\overline{X} \\right)^{2}=\\overline{X^{2}}-\\overline{X}^{2}$\n",
        "\n",
        "2.Оценка Максимального Правдоподобия (ОМП):\n",
        "\n",
        "Если $X_{1},...,X_{n}$-выборка из распределения с плотностью распределения $P_{\\theta}, \\theta\\in \\Theta$, то\n",
        "\n",
        "Функция правдоподобия распадается в произведения $L(\\overrightarrow{X},\\theta)=\\prod_{i=1}^{n}P_{\\theta}(X_{i})$\n",
        "\n",
        "Логарифм функции правдоподобия представляется в виде суммы $LL(\\overrightarrow{X},\\theta)=\\ln L(\\overrightarrow{X},\\theta)=\\sum_{i=1}^{n}\\ln P_{\\theta}(X_{i})$\n",
        "\n",
        "В силу монотонности логарифма задача максимизации функции правдоподобия сводится к задаче максимизации ее логарифма по всем $\\theta\\in \\Theta  LL(\\overrightarrow{X}),\\theta=\\sum_{i=1}^{n}\\ln P_{\\theta}(X_{i})$\n",
        "\n",
        "Если $\\theta$ - d-мерный параметр и $P_{\\theta}$ дифференцируема по $\\theta$, то для нахождения максимума надо найти решения системы уравнений: $U(\\overrightarrow{X},\\theta)=\\frac{\\partial }{\\partial \\theta}LL(\\overrightarrow{X},\\theta)=0, i=\\overline{1,d}$\n",
        "\n",
        "3. Оценка метода моментов (ОММ)\n",
        "\n",
        "Пусть $X_{1},...,X_{n}$-выбока из распределения $P_{\\theta}, \\theta=(\\theta_{1},...,\\theta_{d})$\n",
        "\n",
        "$\\exists \\mu_{k}(\\theta)=\\mathbb{E}X^{k}_{1}, k=\\overline{1,d}$\n",
        "\n",
        "Если $\\exists$ ! решение $\\widetilde{\\theta}(X)$ системы уравнений: $\\widehat{\\mu^{k}}(\\widetilde{\\theta})=\\mu_{k}(\\theta), k=\\overline{1,d}$, где $\\widetilde{\\theta}(X)=\\frac{1}{n}\\sum_{i=1}^{n}X^{k}_{i}$-выборочный момент k-го порядка, то $\\widetilde{\\theta}(X)$ называется оценкой по методу моментов\n",
        "\n",
        "4. Асимптотический доверительный интервал (АДИ)\n",
        "\n",
        "На базе Асимптотической нормальности оценки $\\widehat{\\theta}$\n",
        "\n",
        "Асимптотическая нормальность $\\sqrt{n}\\left( \\widehat{\\theta}(\\overrightarrow{X})-\\theta)\\right)\\sim \\mathcal{N}\\left(0,\\sigma^{2}(\\theta)\\right)$\n",
        "\n",
        " Тогда $\\sqrt{n}\\frac{\\widehat{\\theta}(\\overrightarrow{X})-\\theta}{\\sigma\\left(\\widehat{\\theta}(\\overrightarrow{X})\\right)}$    \n",
        "\n",
        "Выбираем $X_{\\alpha}: \\Phi(X_{\\alpha})=1-\\frac{\\alpha}{2}$\n",
        "\n",
        " А.Д.И. $\\left[ \\widehat{\\theta}(\\overrightarrow{X})-\\frac{X_{\\alpha}\\cdot \\sigma\\left( \\widehat{\\theta}(\\overrightarrow{X}) \\right)}{\\sqrt{n}}; \\widehat{\\theta}(\\overrightarrow{X})+\\frac{X_{\\alpha}\\cdot \\sigma\\left( \\widehat{\\theta}(\\overrightarrow{X}) \\right)}{\\sqrt{n}}\\right]$\n",
        "\n",
        " на базе ОМП\n",
        " Пусть $\\widehat{\\theta}(\\overrightarrow{X})$-ОМП\n",
        "\n",
        "При выполнении опр.условий регулярности: $\\sqrt{n}\\left( \\widehat{\\theta}(\\overrightarrow{X})-\\theta)\\right)\\sim \\mathcal{N}\\left(0,\\frac{1}{I(\\theta)}\\right), I(\\theta)=-\\mathbb{E}\\left( \\frac{\\partial^{2} LL}{\\partial \\theta^{2}} \\right)$-информация Фишера\n",
        "\n",
        " Тогда $\\sqrt{n\\cdot I\\left( \\widehat{\\theta}(\\overrightarrow{X}) \\right)}\\cdot \\left( \\widehat{\\theta}(\\overrightarrow{X})-\\theta \\right)\\sim \\mathcal{N}(0,1)$\n",
        "\n",
        " Выбираем $X_{\\alpha}: \\Phi(X_{\\alpha})=1-\\frac{\\alpha}{2}$\n",
        "\n",
        " А.Д.И $\\left[ \\widehat{\\theta}(\\overrightarrow{X})-\\frac{X_{\\alpha}}{\\sqrt{n\\cdot I\\left( \\widehat{\\theta}(\\overrightarrow{X}) \\right)}};\\widehat{\\theta}(\\overrightarrow{X})+\\frac{X_{\\alpha}}{\\sqrt{n\\cdot I\\left( \\widehat{\\theta}(\\overrightarrow{X}) \\right)}} \\right]$\n",
        "\n",
        "\n",
        "5. теорема Колмогорова\n",
        "\n",
        "$D_{n}(\\overrightarrow{X}) = \\overset{}{\\underset{X \\in \\mathbb R}{sup}} |F_{0}(X_{i}) - F_{n}(X_{i})|$\n",
        "\n",
        "Если гипотеза $H_{0}$ верна, и $F_{0}(X)$ - непрерывная ф-я на $\\mathbb R$, тогда имеет место сходимость\n",
        "\n",
        "$P(\\sqrt{n} D_{n}(\\overrightarrow{X}) < z) \\xrightarrow[n \\rightarrow \\infty]{} K(z)$, где\n",
        "\n",
        "$K(z)=1-\\alpha$ - ф-я распределения Колмогорова.\n",
        "\n",
        "Если $D_{n} \\lt z$, то гипотезу принимаем\n",
        "\n",
        "Если $D_{n} \\gt z$, то гипотезу отвергаем\n",
        "\n",
        "6. Наиболее мощный критерий простой гипотезы\n",
        "\n",
        "Для основной гипотезы $H_{0}: \\theta=\\theta_{0}$ и альтернативной гипотезы $H_{1}: \\theta=\\theta_{1}$, где $\\theta_{0}$ и $\\theta_{1}$ - фиксированные параметры, мы можем построить статистику правдоподобия:\n",
        "\n",
        "$LR(\\overrightarrow{X},\\theta_{1},\\theta_{0})=\\frac{L(\\overrightarrow{X},\\theta_{1})}{L(\\overrightarrow{X},\\theta_{0})}=\\frac{P_{\\theta_{1}}(X)}{P_{\\theta_{0}}(X)}$ - статистика отношений правдоподобия\n",
        "\n",
        "Чтобы построить критическую область, мы должны задать уровень значимости $\\alpha$ - вероятность ошибки первого рода. Затем мы находим критическое значение $c$ такое, что $P\\left(LR(\\overrightarrow{X},\\theta_{1},\\theta_{0}) > c | H_{0} \\right) = \\alpha$, где $P\\left(LR(\\overrightarrow{X},\\theta_{1},\\theta_{0}) > c | H_{0}\\right)$ - вероятность получить наблюдаемое значение статистики правдоподобия, большее или равное $c$, при условии, что основная гипотеза верна.\n",
        "\n",
        "$LR(\\overrightarrow{X},\\theta_{1},\\theta_{0})\\gt c$, то принимаем основную гипотезу\n",
        "\n",
        "$LR(\\overrightarrow{X},\\theta_{1},\\theta_{0})\\lt c$, то отвергаем основную гипотезу"
      ],
      "metadata": {
        "id": "lGfbEBIpBu9M"
      }
    },
    {
      "cell_type": "markdown",
      "source": [
        "## Постановка задачи\n",
        "Для полученных в результате эксперимента наборов данных выполнить статистическую обработку. Полученные результаты содержательно проинтерпретировать."
      ],
      "metadata": {
        "id": "X-OSbbFMB4aM"
      }
    },
    {
      "cell_type": "markdown",
      "source": [
        "## Выполнение работы"
      ],
      "metadata": {
        "id": "FFEysGy7CDvZ"
      }
    },
    {
      "cell_type": "markdown",
      "source": [
        "### Задание-1"
      ],
      "metadata": {
        "id": "f__gimKYKZZ5"
      }
    },
    {
      "cell_type": "code",
      "source": [
        "import numpy as np\n",
        "import matplotlib.pyplot as plt\n",
        "from scipy import stats\n",
        "data = [2, 34, 0, 1, 1, 7, 0, 2, 5, 1, 0, 0, 3, 0, 0, 7, 8, 4, 0, 0, 9, 4, 8, 0, 5, 6, 5, 1, 0, 11, 0, 12, 8, 4, 5, 1, 9, 9, 1, 0, 0, 6, 4, 0, 2, 2, 5, 4, 8, 1] #выборка"
      ],
      "metadata": {
        "id": "13Ei00PCAbqI"
      },
      "execution_count": null,
      "outputs": []
    },
    {
      "cell_type": "markdown",
      "source": [
        "#### a)Построить вариционный ряд, эмпирическую функцию распределения и гистограмму частот"
      ],
      "metadata": {
        "id": "DzRE7SrPCOoY"
      }
    },
    {
      "cell_type": "code",
      "source": [
        "data = [2, 34, 0, 1, 1, 7, 0, 2, 5, 1, 0, 0, 3, 0, 0, 7, 8, 4, 0, 0, 9, 4, 8, 0, 5, 6, 5, 1, 0, 11, 0, 12, 8, 4, 5, 1, 9, 9, 1, 0, 0, 6, 4, 0, 2, 2, 5, 4, 8, 1]\n",
        "sorted_data = np.sort(data)\n",
        "n = len(data)\n",
        "sum=np.sum(data)\n",
        "variation_range = np.unique(sorted_data)\n",
        "empirical_function = np.searchsorted(sorted_data, variation_range, side='right') / n\n",
        "print(sorted_data)\n",
        "print(sum)"
      ],
      "metadata": {
        "colab": {
          "base_uri": "https://localhost:8080/"
        },
        "id": "rkIoTsqIqwg2",
        "outputId": "2efcb72a-94c6-4a3f-fbd9-befa47c301f9"
      },
      "execution_count": null,
      "outputs": [
        {
          "output_type": "stream",
          "name": "stdout",
          "text": [
            "[ 0  0  0  0  0  0  0  0  0  0  0  0  0  0  1  1  1  1  1  1  1  2  2  2\n",
            "  2  3  4  4  4  4  4  5  5  5  5  5  6  6  7  7  8  8  8  8  9  9  9 11\n",
            " 12 34]\n",
            "205\n"
          ]
        }
      ]
    },
    {
      "cell_type": "code",
      "source": [
        "plt.subplot(312)\n",
        "plt.step(variation_range, empirical_function, color='g')\n",
        "plt.xlabel('Значения')\n",
        "plt.ylabel('Вероятность')\n",
        "plt.title('Эмпирическая функция')\n",
        "plt.show()"
      ],
      "metadata": {
        "colab": {
          "base_uri": "https://localhost:8080/",
          "height": 211
        },
        "id": "iI4_MXCEv4WR",
        "outputId": "42d7e997-e0c3-4467-f67c-f7f4dc549f10"
      },
      "execution_count": null,
      "outputs": [
        {
          "output_type": "display_data",
          "data": {
            "text/plain": [
              "<Figure size 640x480 with 1 Axes>"
            ],
            "image/png": "[encoded data removed]"
          },
          "metadata": {}
        }
      ]
    },
    {
      "cell_type": "code",
      "source": [
        "plt.subplot(313)\n",
        "plt.hist(sorted_data, bins=range(min(sorted_data), max(sorted_data) + 1), density=True, edgecolor='black')\n",
        "plt.xlabel('Значение')\n",
        "plt.ylabel('Относительная частота')\n",
        "plt.title('Гистограмма частот')\n",
        "plt.show()"
      ],
      "metadata": {
        "colab": {
          "base_uri": "https://localhost:8080/",
          "height": 211
        },
        "id": "aQFzsyuFvlVj",
        "outputId": "6f7efcae-e973-40cf-f4b6-adba349adc55"
      },
      "execution_count": null,
      "outputs": [
        {
          "output_type": "display_data",
          "data": {
            "text/plain": [
              "<Figure size 640x480 with 1 Axes>"
            ],
            "image/png": "[encoded data removed]"
          },
          "metadata": {}
        }
      ]
    },
    {
      "cell_type": "markdown",
      "source": [
        "#### b) Вычислить выборочные аналоги следующих числовых характеристик: (i)математическое ожидание, (ii)дисперсия, (iii)медианы, (iv)асимметрии, (v)эксцесса (vi) вероятности $\\mathrm{P}(X\\in \\left[ a,b \\right])$"
      ],
      "metadata": {
        "id": "L6smtvKiCptl"
      }
    },
    {
      "cell_type": "code",
      "source": [
        "a = 2.21\n",
        "b = 7.58\n",
        "mean = np.mean(data)  # Выборочное математическое ожидание\n",
        "variance = np.var(data)  # Дисперсия\n",
        "deviation=np.std(data) #СКО\n",
        "median = np.median(data)  # Медиана\n",
        "skewness = stats.skew(data)  # Асимметрия\n",
        "kurtosis = stats.kurtosis(data)  # Эксцесс\n",
        "probability = len([x for x in data if a <= x <= b]) / len(data)  # Вероятность\n",
        "print(\"Мат.ожидание=\",mean)\n",
        "print(\"Дисперсия=\",variance)\n",
        "print(\"Выборочное стандартное отклонение=\",deviation)\n",
        "print(\"Медиана=\",median)\n",
        "print(\"Асимметрия=\",skewness)\n",
        "print(\"Эксцесс=\",kurtosis)\n",
        "print(\"Вероятность попадания в промежуток=\",probability)"
      ],
      "metadata": {
        "colab": {
          "base_uri": "https://localhost:8080/"
        },
        "id": "oYiXySOcEDpE",
        "outputId": "fb1f2f30-f1bf-44b5-a078-17aa8f99b0ba"
      },
      "execution_count": null,
      "outputs": [
        {
          "output_type": "stream",
          "name": "stdout",
          "text": [
            "Мат.ожидание= 4.1\n",
            "Дисперсия= 29.729999999999997\n",
            "Выборочное стандартное отклонение= 5.452522352086234\n",
            "Медиана= 2.5\n",
            "Асимметрия= 3.3308351447198357\n",
            "Эксцесс= 15.394567929393464\n",
            "Вероятность попадания в промежуток= 0.3\n"
          ]
        }
      ]
    },
    {
      "cell_type": "markdown",
      "source": [
        "#### c)В предположении, что исходные наблюдения являются выборкой из распределения Пуассона, построить ОМП и ОММ параметра $\\lambda$.Найти смещение оценки.\n",
        "\n",
        "Построим ОМП.\n",
        "Плотность распределения Пуассона: $P_{\\lambda}(X=k)=\\frac{\\lambda^{k}}{k!}\\cdot exp(-\\lambda)$\n",
        "\n",
        "Построим функцию правдоподобия:\n",
        "\n",
        "$L(\\overrightarrow{X};\\theta)=\\prod_{i=1}^{n}P_{\\lambda}(X_{i})=\\prod_{i=1}^{n}\\frac{\\lambda^{X_{i}}}{X_{i}!}\\cdot exp(-\\lambda)=\\frac{\\lambda^{\\sum_{i=1}^{n}X_{i}}}{\\prod_{i=1}^{n}(X_{i}!)}\\cdot exp(-n\\cdot \\lambda)$\n",
        "\n",
        "Прологарифмируем функцию правдоподобия:\n",
        "\n",
        "$LL(\\overrightarrow{X};\\theta)= \\sum_{i=1}^{n}X_{i}\\cdot \\ln(\\lambda)-\\ln(\\prod_{i=1}^{n}X_{i}!)-n\\cdot \\lambda$\n",
        "\n",
        "Найдем частную производную по параметру $\\lambda$ и приравняем производную к нулю и тем самым найдем наш параметр:\n",
        "\n",
        "$\\frac{\\partial LL(\\overrightarrow{X};\\theta)}{\\partial \\lambda} = \\frac{\\sum_{i=1}^{n}X_{i}}{\\lambda}-n=0\\to \\frac{\\sum_{i=1}^{n}X_{i}}{\\lambda}=n\\to \\lambda=\\frac{1}{n}\\cdot \\sum_{i=1}^{n}X_{i}\\to \\widehat{\\theta}=\\widehat{\\lambda}=\\overline{X}$.\n",
        "\n",
        "Выборка нам известна, и мы можем посчитать, чему равен параметр:$\\widehat{\\lambda}=\\overline{X}=4,1$\n",
        "\n",
        "\n",
        "Построим по ОММ.\n",
        "Для закона Пуассона $P_{\\lambda}(X=k)=\\frac{\\lambda^{k}}{k!}\\cdot exp(-\\lambda)$\n",
        "\n",
        "нам известно, что первый момент $\\mathbb{E}X_{1}=\\lambda;M_{1}=\\overline{X}$\n",
        "равен нашему параметру, и поскольку у нас одномерный параметр, то у нас будет система из одного уравнения.\n",
        "\n",
        "Тогда мы получим $\\widetilde{\\theta}=\\widetilde{\\lambda}=\\overline{X}=4,1$\n",
        "\n",
        "\n",
        "Осталось найти смещение оценки.\n",
        "\n",
        "Для нахождения НРМД-оценки нам понадобится ОМП, которое мы нашли.\n",
        "\n",
        "$g\\left(T(\\overrightarrow{X})\\right)=\\lambda^{\\sum_{i=1}^{n}X_{i}}\\cdot exp(-n\\cdot \\lambda)$\n",
        "\n",
        "$h(\\overrightarrow{X})=\\frac{1}{\\prod_{i=1}^{n}X_{i}!}$\n",
        "\n",
        "Достаточная минимальная статистика: $T=\\sum_{i=1}^{n}X_{i}=205$.\n",
        "\n",
        "Распределение Пуассона принадлежит экспоненциальному семейству распределения, следовательно, МДС будет являться ПДС.\n",
        "\n",
        "$\\mathbb{E}_{\\lambda}\\overline{X}=\\mathbb{E}_{\\lambda}\\frac{1}{n}\\cdot \\sum_{i=1}^{n}x_{i}=\\frac{1}{n}\\cdot \\mathbb{E_{\\lambda}}\\sum_{i=1}^{n}x_{i}=\\frac{1}{n}\\cdot \\sum_{i=1}^{n}\\mathbb{E_{\\lambda}}X_{1}=\\frac{1}{n}\\cdot n\\cdot \\mathbb{E}_{\\lambda}X_{1}=\\lambda=4,1$-НРМД-оценка"
      ],
      "metadata": {
        "id": "Qt3oFzjjJfXn"
      }
    },
    {
      "cell_type": "markdown",
      "source": [
        "#### d)Построить А.Д.И. уровня значимости $\\alpha_1$ для параметра $\\lambda$ на базе ОМП\n",
        "1. Построим на базе ОМП.\n",
        "\n",
        "$\\sqrt{n}\\left( \\widehat{\\theta}(\\overrightarrow{X})-\\theta \\right)\\sim N\\left( 0, \\frac{1}{I(\\theta)} \\right)$\n",
        "\n",
        "ОМП $\\widehat{\\theta}=\\widehat{\\lambda}=\\overline{X}$\n",
        "\n",
        "Найдем информацию Фишера: $I(\\theta)=-\\mathbb{E}\\left( \\frac{\\partial^{2} LL}{\\partial \\lambda^{2}} \\right)=-\\mathbb{E}\\left( -\\frac{\\sum_{i=1}^{n}X_{i}}{\\lambda^{2}} \\right)=\\frac{n}{\\lambda^{2}}$\n",
        "\n",
        "Тогда $\\sqrt{n\\cdot I\\left(  \\widehat{\\theta}(\\overrightarrow{X})\\right)}\\left( \\widehat{\\theta}(\\overrightarrow{X})-\\theta \\right)\\sim N(0,1)$\n",
        "\n",
        "Выбираем $X_{\\alpha}$: $\\mathrm{Ф}(X_{\\alpha})=1-\\frac{\\alpha_{1}}{2}=1-\\frac{0.05}{2}=0.975 \\to X_{0.975}=1,96$\n",
        "\n",
        "$А.Д.И. \\left[ \\overline{X}-\\frac{X_{0.975}}{\\sqrt{50\\cdot \\frac{50}{\\overline{X}}}}; \\overline{X}+\\frac{X_{0.975}}{\\sqrt{50\\cdot \\frac{50}{\\overline{X}}}}\\right] \\to 4,1-\\frac{1,96}{\\sqrt{50\\cdot \\frac{50}{4,1}}}\\le \\lambda\\le 4,1+\\frac{1,96}{\\sqrt{50\\cdot \\frac{50}{4,1}}}$\n",
        "\n",
        "$4,02\\le \\lambda\\le 4,18$ - Асимп. довер. интервал параметра $\\lambda$.\n",
        "\n",
        "2. Построим на безе асимтотической нормальной оценки $\\widehat{\\theta}$\n",
        "\n",
        "$\\sqrt{n}\\left( \\widehat{\\theta}(\\overrightarrow{X})-\\theta \\right)\\sim N(0,\\sigma^{2}(\\theta))$\n",
        "\n",
        "$\\sqrt{n}\\frac{ \\widehat{\\theta}(\\overrightarrow{X})-\\theta}{\\sigma(\\widehat{\\theta})}\\sim N(0,1)$\n",
        "\n",
        "$X_{\\alpha}: \\mathrm{Ф(X_{\\alpha})}=0.975\\to X_{0.975}=1,96$\n",
        "\n",
        "$-X_{0.975}\\le \\sqrt{n}\\cdot \\frac{\\widehat{\\lambda}-\\lambda}{\\sqrt{\\widehat{\\lambda}}}\\le X_{0.975}$\n",
        "\n",
        "$4,1-\\frac{1,96\\cdot 4,1}{\\sqrt{50}}\\le \\lambda\\le 4,1+\\frac{1,96\\cdot 4,1}{\\sqrt{50}}\\to 2,96\\le \\lambda\\le 5,24$ - А.Д.И. параметра $\\lambda$"
      ],
      "metadata": {
        "id": "FyUqDbBYWYYL"
      }
    },
    {
      "cell_type": "markdown",
      "source": [
        "#### e)Используя гистограмму частот, построить критерий значимости $\\mathcal{X^{2}}$ проверки простой гипотезы согласия с распределением Пуассона с параметром $\\lambda_{0}$. Проверить гипотезу на уровень значимости $\\alpha_{1}$=0,05. Вычислить наибольшее значение уровня значимости, на котором ещё нет оснований отвергнуть данную гипотезу.\n",
        "\n",
        "$P_{i}=P_{H_{0}}=(X\\in I_{i})=\\sum_{k\\in I_{i}}^{}\\frac{\\lambda_{0}^{k}}{k!}exp(-\\lambda_{0})$\n",
        "\n",
        "$I_{1}=\\left[ 0,1 \\right), n_{1}=14$\n",
        "\n",
        "$P_{1}=\\frac{1,4^{0}}{0!}exp(-1,4)+\\frac{1,4^{1}}{1!}exp(-1,4)=0,59\\to nP_{1}=29,5$\n",
        "\n",
        "$I_{2}=\\left[ 1, 2 \\right), n_{2}=7$\n",
        "\n",
        "$P_{2}=\\frac{1,4^{1}}{1!}exp(-1,4)+\\frac{1,4^{2}}{2!}exp(-1,4)=0,59\\to nP_{2}=29,5$\n",
        "\n",
        "$I_{3}=\\left[ 2, 34 \\right], n_{3}=29$\n",
        "\n",
        "$P_{3}=\\frac{1,4^{2}}{2!}exp(-1,4)+\\frac{1,4^{34}}{34!}exp(-1,4)=0.242\\to nP_{3}=12,1$\n",
        "\n",
        "Критерий $\\mathcal{X}^{2}: \\mathcal{X}^{2}_{набл}=\\sum_{i=1}^{3}\\frac{(n_{i}-np_{i})^{2}}{np_{i}} =48,9$\n",
        "\n",
        "$\\mathcal{X}^{2}_{N-1,1-\\alpha_{1}}=\\mathcal{X}^{2}_{2,0,95}\\simeq 5,991$\n",
        "\n",
        "$\\mathcal{X}^{2}\\gt \\mathcal{X}^{2}_{2,0,95}\\to$ по критерию Пирсона мы отвергаем гипотезу\n",
        "\n",
        "Наибольшее значение уровня значимости, при котором нет еще оснований отвергнуть данную гипотезу $\\simeq$ 0.01"
      ],
      "metadata": {
        "id": "3noN0hiiWsqi"
      }
    },
    {
      "cell_type": "markdown",
      "source": [
        "#### f)Построить критерий значимости  $\\mathcal{X^{2}}$ проверки сложной гипотезы согласия с распределением Пуассона. Проверить гипотезу по уровню значимости $\\alpha_{1}$.Вычислить наибольшее значение уровня значимости, на котором ещё нет оснований отвергнуть данную гипотезу.\n",
        "\n",
        "$P_{i}=P_{H_{0}}=(X\\in I_{i})=\\sum_{k\\in I_{i}}^{}\\frac{\\overline{X}^{k}}{k!}exp(-\\overline{X})$\n",
        "\n",
        "$I_{1}=\\left[ 0,2 \\right), n_{1}=21$\n",
        "\n",
        "$P_{1}=\\frac{4,1^{0}}{0!}exp(-4,1)+\\frac{4,1^{2}}{2!}exp(-4,1)=0.16\\to nP_{1}=7.79$\n",
        "\n",
        "$I_{2}=\\left[ 2,6 \\right), n_{2}=15$\n",
        "\n",
        "$P_{2}=\\frac{4,1^{2}}{2!}exp(-4,1)+=\\frac{4,1^{6}}{6!}exp(-4,1)=0.25\\to nP_{2}=12.5$\n",
        "\n",
        "$I_{3}=\\left[ 6,34 \\right], n_{3}=14$\n",
        "\n",
        "$P_{3}=\\frac{4,1^{6}}{6!}exp(-4,1)+\\frac{4,1^{34}}{34!}exp(-4,1)=2.43\\to nP_{3}=121.35$\n",
        "\n",
        "Критерий $\\mathcal{X}^{2}: \\mathcal{X}^{2}_{набл}=\\sum_{i=1}^{3}\\frac{(n_{i}-np_{i})^{2}}{np_{i}} =117.87$\n",
        "\n",
        "$\\mathcal{X}^{2}_{N-1,1-\\alpha_{1}}=\\mathcal{X}^{2}_{2,0,95}\\simeq 5.991$\n",
        "\n",
        "$\\mathcal{X}^{2}\\gt \\mathcal{X}^{2}_{2,0.95}\\to$ по критерию Пирсона мы отвергаем гипотезу\n",
        "\n",
        "Наибольшее значение уровня значимости, при котором нет еще оснований отвергнуть данную гипотезу $\\simeq$ 0.01"
      ],
      "metadata": {
        "id": "VGtzcCuPe6lw"
      }
    },
    {
      "cell_type": "markdown",
      "source": [
        "#### g)Построить наиболее мощный критерий проверки простой гипотезы пауссоновости с параметром $\\lambda=\\lambda_{0}$ при альтернативе пуассоновсти с параметром $\\lambda=\\lambda_{1}$. Проверить гипотезу на уровне значимости $\\alpha_{1}$. Что получится, если поменять местами основную и альтернативную гипотезы?\n",
        "\n",
        "Основная гипотеза: $H_{0}=\\lambda_{0}$\n",
        "\n",
        "Альтернативная гипотеза: $H_{A}=\\lambda_{1}$\n",
        "\n",
        "Воспользуемся статистическим отношением правдоподобия:\n",
        "\n",
        "$LR(\\overrightarrow{X},\\lambda_{1},\\lambda_{0}) = \\frac{L\\left( \\overrightarrow{X},\\lambda_{1} \\right)}{L\\left( \\overrightarrow{X},\\lambda_{0} \\right)}= \\frac{\\lambda_{1}^{\\sum_{i=1}^{50}X_{i}}\\cdot exp(-n\\cdot \\lambda_{1})}{\\lambda_{0}^{\\sum_{i=1}^{50}X_{i}}\\cdot exp(-n\\cdot \\lambda_{0})}$\n",
        "\n",
        "В силу монотонности статистики $LR(\\overrightarrow{X})$ относительно МДС $T(\\overrightarrow{X})=\\sum_{i=1}^{50}X_{i}$\n",
        "\n",
        "$LR(\\overrightarrow{X},\\lambda_{0},\\lambda_{1})\\gt c\\Leftrightarrow \\overline{X}\\gt c$\n",
        "\n",
        "$\\sqrt{n}\\frac{\\overline{X}-\\lambda_{0}}{\\sqrt{\\overline{X}}}\\sim N(0,1)$ по ЦПТ\n",
        "\n",
        "$P\\left(\\sqrt{n}\\frac{\\overline{X}-\\lambda_{0}}{\\sqrt{\\overline{X}}} \\right)\\gt \\sqrt{n}\\frac{\\overline{X}-\\lambda_{0}}{\\sqrt{\\overline{X}}}=1-\\Phi\\left(\\sqrt{n}\\frac{\\overline{X}-\\lambda_{0}}{\\sqrt{\\overline{X}}} \\right)=\\alpha_{1}$\n",
        "\n",
        "$\\Phi\\left(\\sqrt{n}\\frac{\\overline{X}-\\lambda_{0}}{\\sqrt{\\overline{X}}} \\right)=1-\\alpha_{1}=0.95$\n",
        "\n",
        "$\\sqrt{n}\\frac{\\overline{X}-\\lambda_{0}}{\\sqrt{\\overline{X}}}\\gt \\sqrt{n}\\frac{c-\\lambda_{0}}{\\sqrt{\\overline{X}}}=1,65\\to c=1,65\\cdot \\frac{\\sqrt{\\overline{X}}}{\\sqrt{n}}+\\lambda_{0}=1,65\\cdot \\frac{\\sqrt{4,1}}{\\sqrt{50}}+4=4,47\\gt \\overline{X}\\to$ гипотезу отвергаем\n",
        "\n",
        "Поменяем теперь основную и альтернативную гипотезу местами:\n",
        "\n",
        "Основная гипотеза: $H_{0}=\\lambda_{1}$\n",
        "\n",
        "Альтернативная гипотеза: $H_{A}=\\lambda_{0}$\n",
        "\n",
        "Воспользуемся статистическим отношением правдоподобия:\n",
        "\n",
        "$LR(\\overrightarrow{X},\\lambda_{0},\\lambda_{1}) = \\frac{L\\left( \\overrightarrow{X},\\lambda_{0} \\right)}{L\\left( \\overrightarrow{X},\\lambda_{1} \\right)}= \\frac{\\lambda_{0}^{\\sum_{i=1}^{50}X_{i}}\\cdot exp(-n\\cdot \\lambda_{0})}{\\lambda_{1}^{\\sum_{i=1}^{50}X_{i}}\\cdot exp(-n\\cdot \\lambda_{1})}$\n",
        "\n",
        "В силу монотонности статистики $LR(\\overrightarrow{X})$ относительно МДС $T(\\overrightarrow{X})=\\sum_{i=1}^{50}X_{i}$\n",
        "\n",
        "$LR(\\overrightarrow{X},\\lambda_{0},\\lambda_{1})\\gt c\\Leftrightarrow \\overline{X}\\gt c$\n",
        "\n",
        "$\\sqrt{n}\\frac{\\overline{X}-\\lambda_{1}}{\\sqrt{\\overline{X}}}\\sim N(0,1)$\n",
        "\n",
        "$P\\left(\\sqrt{n}\\frac{\\overline{X}-\\lambda_{1}}{\\sqrt{\\overline{X}}} \\right)\\gt \\sqrt{n}\\frac{\\overline{X}-\\lambda_{1}}{\\sqrt{\\overline{X}}}=1-\\Phi\\left(\\sqrt{n}\\frac{\\overline{X}-\\lambda_{1}}{\\sqrt{\\overline{X}}} \\right)=\\alpha_{1}$\n",
        "\n",
        "$\\Phi\\left(\\sqrt{n}\\frac{\\overline{X}-\\lambda_{1}}{\\sqrt{\\overline{X}}} \\right)=1-\\alpha_{1}=0.98$\n",
        "\n",
        "$\\sqrt{n}\\frac{\\overline{X}-\\lambda_{1}}{\\sqrt{\\overline{X}}}\\gt \\sqrt{n}\\frac{c-\\lambda_{1}}{\\sqrt{\\overline{X}}}=1,65\\to c=1,65\\cdot \\frac{\\sqrt{\\overline{X}}}{\\sqrt{n}}+\\lambda_{1}=1,65\\cdot \\frac{\\sqrt{4,1}}{\\sqrt{50}}+5=5,47\\gt \\overline{X}\\to$ гипотезу отвергаем\n"
      ],
      "metadata": {
        "id": "aPuxOjR5KPnE"
      }
    },
    {
      "cell_type": "markdown",
      "source": [
        "#### h)В пунктах (c)-(f) заменить семейство распределение Пуассона на семейство геометрических распредленией $\\mathbb{P}_{\\lambda}(X=k)=\\frac{\\lambda^{k}}{(\\lambda+1)^{k+1}}, k\\in \\mathbb{Z_{+}}$"
      ],
      "metadata": {
        "id": "RIpL4fkwbRvM"
      }
    },
    {
      "cell_type": "markdown",
      "source": [
        "#### h.c)В предположении, что исходные наблюдения являются выборкой из геометрического распределения, построить ОМП и ОММ параметра $\\lambda$.Найти смещение оценки.\n",
        "\n",
        "Построим ОМП.\n",
        "Плотность распределения Пуассона: $P_{\\lambda}(X=k)=\\frac{\\lambda^{k}}{(\\lambda+1)^{k+1}}$\n",
        "\n",
        "Построим функцию правдоподобия:\n",
        "\n",
        "$L(\\overrightarrow{X};\\theta)=\\prod_{i=1}^{n}P_{\\lambda}(X_{i})=\\prod_{i=1}^{n}\\frac{\\lambda^{X_{i}}}{(\\lambda+1)^{X_{i}}}=\\frac{\\lambda^{\\sum_{i=1}^{n}X_{i}}}{(\\lambda+1)^{\\sum_{i=1}^{n}X_{i}+n}}$\n",
        "\n",
        "Прологарифмируем функцию правдоподобия:\n",
        "\n",
        "$LL(\\overrightarrow{X};\\theta)= \\sum_{i=1}^{n}X_{i}\\cdot \\ln(\\lambda)-(\\sum_{i=1}^{n}X_{i}+n)\\ln(\\lambda+1)$\n",
        "\n",
        "Найдем частную производную по параметру $\\lambda$ и приравняем производную к нулю и тем самым найдем наш параметр:\n",
        "\n",
        "$\\frac{\\partial LL(\\overrightarrow{X};\\theta)}{\\partial \\lambda} = \\frac{\\sum_{i=1}^{n}X_{i}}{\\lambda}-\\frac{\\sum_{i=1}^{50}X_{i}+n}{\\lambda+1}=0\\to \\frac{\\lambda}{\\sum_{i=1}^{50}X_{i}}=\\frac{\\lambda+1}{\\sum_{i=1}^{50}X_{i}+n}\\to \\lambda\\cdot \\sum_{i=1}^{n}X_{i}+\\lambda \\cdot n = \\lambda\\cdot \\sum_{i=1}^{n}X_{i}+\\sum_{i=1}^{n}X_{i}\\to \\lambda=\\overline{X}\\to \\widehat{\\theta}=\\widehat{\\lambda}=\\overline{X}=4,1$.\n",
        "\n",
        "\n",
        "\n",
        "Построим по ОММ.\n",
        "Для геометрического распределения  $P_{\\lambda}(X=k)=\\frac{\\lambda^{k}}{(\\lambda +1)^{k+1}}$\n",
        "\n",
        "нам известно, что первый момент $\\mathbb{E}X_{1}=\\frac{1}{\\lambda};M_{1}=\\frac{1}{\\overline{X}}$\n",
        "равен 1 делить на параметр, и поскольку у нас одномерный параметр, то у нас будет система из одного уравнения.\n",
        "\n",
        "Тогда мы получим $\\widetilde{\\theta}=\\widetilde{\\lambda}=\\frac{1}{\\overline{X}}=0,24$\n",
        "\n",
        "\n",
        "Осталось найти смещение оценки.\n",
        "\n",
        "Для нахождения НРМД-оценки нам понадобится ОМП, которое мы нашли.\n",
        "\n",
        "$g\\left(T(\\overrightarrow{X})\\right)=\\frac{\\lambda^{\\sum_{i=1}^{n}X_{i}}}{(\\lambda+1)^{\\sum_{i=1}^{n}X_{i}+n}}$\n",
        "\n",
        "$h(\\overrightarrow{X})=1$\n",
        "\n",
        "Достаточная минимальная статистика: $T=\\sum_{i=1}^{n}X_{i}=205$.\n",
        "\n",
        "\n",
        "$\\mathbb{E}_{\\lambda}\\widehat{\\lambda}=\\mathbb{E}_{\\lambda}\\overline{X}=\\mathbb{E}_{\\lambda}\\frac{1}{n}\\cdot \\sum_{i=1}^{n}x_{i}=\\frac{1}{n}\\cdot \\mathbb{E_{\\lambda}}\\sum_{i=1}^{n}x_{i}=\\frac{1}{n}\\cdot \\sum_{i=1}^{n}\\mathbb{E_{\\lambda}}X_{1}=\\frac{1}{n}\\cdot n\\cdot \\mathbb{E}_{\\lambda}X_{1}=\\lambda=4,1$-НРМД-оценка"
      ],
      "metadata": {
        "id": "jYocGnu_b8lS"
      }
    },
    {
      "cell_type": "markdown",
      "source": [
        "#### h.d)Построить А.Д.И. уровня значимости $\\alpha_1$ для параметра $\\lambda$ на базе ОМП\n",
        "1. Построим на базе ОМП.\n",
        "\n",
        "$\\sqrt{n}\\left( \\widehat{\\theta}(\\overrightarrow{X})-\\theta \\right)\\sim N\\left( 0, \\frac{1}{I(\\theta)} \\right)$\n",
        "\n",
        "ОМП $\\widehat{\\theta}=\\widehat{\\lambda}=\\frac{1}{\\overline{X}}$\n",
        "\n",
        "Найдем информацию Фишера: $I(\\theta)=-\\mathbb{E}\\left( \\frac{\\partial^{2} LL}{\\partial \\lambda^{2}} \\right)=-\\mathbb{E}\\left( -\\frac{\\sum_{i=1}^{n}X_{i}}{\\lambda^{2}}+\\frac{\\sum_{i=1}^{n}X_{i}+n}{(\\lambda +1)^{2}} \\right)=\\frac{n}{\\lambda^{2}}-\\mathbb{E}\\left( \\frac{\\sum_{i=1}^{n}X_{i}+n}{(\\lambda+1)^{2}} \\right) = \\frac{n}{\\lambda^{2}}-\\mathbb{E}\\left( \\frac{\\sum_{i=1}^{n}X_{i}}{(\\lambda+1)^{2}} \\right)-\\mathbb{E}\\left( \\frac{n}{(\\lambda+1)^{2}} \\right)=\\frac{n}{\\lambda^{2}}-\\frac{n}{(\\lambda+1)^{2}}-\\frac{n}{(\\lambda+1)^{2}}=\\frac{n(\\lambda^{2}+1)}{(\\lambda+1)^{2}\\cdot \\lambda^{2}}$\n",
        "\n",
        "Тогда $\\sqrt{n\\cdot I\\left(  \\widehat{\\theta}(\\overrightarrow{X})\\right)}\\left( \\widehat{\\theta}(\\overrightarrow{X})-\\theta \\right)\\sim N(0,1)$\n",
        "\n",
        "Выбираем $X_{\\alpha}$: $\\mathrm{Ф}(X_{\\alpha})=1-\\frac{\\alpha_{1}}{2}=1-\\frac{0.05}{2}=0.975 \\to X_{0.975}=1,96$\n",
        "\n",
        "$А.Д.И. \\left[ \\frac{1}{\\overline{X}}-\\frac{X_{0.975}}{\\sqrt{n\\cdot \\frac{n(\\widehat{\\lambda^{2}}+1)}{(\\widehat{\\lambda}+1)^{2}\\cdot \\widehat{\\lambda^{2}}}}};\\frac{1}{\\overline{X}}+\\frac{X_{0.975}}{\\sqrt{n\\cdot \\frac{n(\\widehat{\\lambda^{2}}+1)}{(\\widehat{\\lambda}+1)^{2}\\cdot \\widehat{\\lambda^{2}}}}} \\right]\\to 0.232\\le \\lambda\\le 0,255$\n",
        "\n",
        "$0.232\\le \\lambda\\le 0,255$ - Асимп. довер. интервал параметра $\\lambda$.\n",
        "\n",
        "2. Построим на безе асимтотической нормальной оценки $\\widehat{\\theta}$\n",
        "\n",
        "$\\sqrt{n}\\left( \\widehat{\\theta}(\\overrightarrow{X})-\\theta \\right)\\sim N(0,\\sigma^{2}(\\theta))$\n",
        "\n",
        "$\\sqrt{n}\\frac{ \\widehat{\\theta}(\\overrightarrow{X})-\\theta}{\\sigma(\\widehat{\\theta})}\\sim N(0,1)$\n",
        "\n",
        "$X_{\\alpha}: \\mathrm{Ф(X_{\\alpha})}=0.975\\to X_{0.975}=1,96$\n",
        "\n",
        "$-X_{0.975}\\le \\sqrt{n}\\cdot \\frac{\\widehat{\\lambda}-\\lambda}{\\sqrt{\\widehat{\\lambda}(\\widehat{\\lambda}+1)}}\\le X_{0.975}$\n",
        "\n",
        "$0,24-\\frac{1,96\\cdot 0,55}{\\sqrt{50}}\\le \\lambda\\le 0,24+\\frac{1,96\\cdot 0,55}{\\sqrt{50}}\\to 0.088\\le \\lambda\\le 0,392$ - А.Д.И. параметра $\\lambda$"
      ],
      "metadata": {
        "id": "thiyFmFFjD2I"
      }
    },
    {
      "cell_type": "markdown",
      "source": [
        "#### h.e)Используя гистограмму частот, построить критерий значимости $\\mathcal{X^{2}}$ проверки простой гипотезы согласия с геометрическим распределением с параметром $\\lambda_{0}$. Проверить гипотезу на уровень значимости $\\alpha_{1}$. Вычислить наибольшее значение уровня значимости, на котором ещё нет оснований отвергнуть данную гипотезу.\n",
        "\n",
        "$P_{i}=P_{H_{0}}=(X\\in I_{i})=\\sum_{k\\in I_{i}}^{}\\frac{\\lambda_{0}^{k}}{(\\lambda_{0}+1)^{k+1}}$\n",
        "\n",
        "$I_{1}=\\left[ 0,1 \\right), n_{1}=14$\n",
        "\n",
        "$P_{1}=\\frac{1,4^{0}}{(1,4+1)^{0+1}}+\\frac{1,4^{1}}{(1,4+1)^{1+1}}=0,66\\to nP_{1}=33$\n",
        "\n",
        "$I_{2}=\\left[ 1, 2 \\right), n_{2}=7$\n",
        "\n",
        "$P_{2}=\\frac{1,4^{1}}{(1,4+1)^{1+1}}+\\frac{1,4^{2}}{(1,4+1)^{2+1}}=0.38\\to nP_{2}=19$\n",
        "\n",
        "$I_{3}=\\left[ 2,34 \\right], n_{3}=29$\n",
        "\n",
        "$P_{3}=\\frac{1,4^{2}}{(1,4+1)^{2+1}}+\\frac{1,4^{34}}{(1,4+1)^{34+1}}=0,14\\to nP_{3}=7$\n",
        "\n",
        "\n",
        "Критерий $\\mathcal{X}^{2}: \\mathcal{X}^{2}_{набл}=\\sum_{i=1}^{3}\\frac{(n_{i}-np_{i})^{2}}{np_{i}} =87,66$\n",
        "\n",
        "$\\mathcal{X}^{2}_{N-1,1-\\alpha_{1}}=\\mathcal{X}^{2}_{2,0.95}\\simeq 9.4$\n",
        "\n",
        "$\\mathcal{X}^{2}\\gt \\mathcal{X}^{2}_{2,0.95}\\to$ по критерию Пирсона мы отвергаем гипотезу\n",
        "\n",
        "Наибольшее значение уровня значимости, при котором нет еще оснований отвергнуть данную гипотезу $\\simeq$ 0.01"
      ],
      "metadata": {
        "id": "dZrG9ltptGMs"
      }
    },
    {
      "cell_type": "markdown",
      "source": [
        "#### h.f)Построить критерий значимости  $\\mathcal{X^{2}}$ проверки сложной гипотезы согласия с геометрическим распределением. Проверить гипотезу по уровню значимости $\\alpha_{1}$.Вычислить наибольшее значение уровня значимости, на котором ещё нет оснований отвергнуть данную гипотезу.\n",
        "\n",
        "$P_{i}=P_{H_{0}}=(X\\in I_{i})=\\sum_{k\\in I_{i}}^{}\\frac{\\frac{1}{\\overline{X}^{k}}}{\\left( \\frac{1}{\\overline{X}} +1\\right)^{k+1}}$\n",
        "\n",
        "$I_{1}=\\left[ 0,1 \\right), n_{1}=14$\n",
        "\n",
        "$P_{1}=\\frac{0,244^{0}}{(0,244+1)^{0+1}}+\\frac{0,244^{1}}{(0,244+1)^{1+1}}=0,96\\to nP_{1}=48$\n",
        "\n",
        "$I_{2}=\\left[ 1,34 \\right], n_{2}=36$\n",
        "\n",
        "$P_{2}=\\frac{0,244^{1}}{(0,244+1)^{1+1}}+\\frac{0,244^{34}}{(0,244+1)^{34+1}}=0,16\\to nP_{3}=8$\n",
        "\n",
        "\n",
        "Критерий $\\mathcal{X}^{2}: \\mathcal{X}^{2}_{набл}=\\sum_{i=1}^{2}\\frac{(n_{i}-np_{i})^{2}}{np_{i}} =122,1$\n",
        "\n",
        "$\\mathcal{X}^{2}_{N-1,1-\\alpha_{1}}=\\mathcal{X}^{2}_{1,0.95}\\simeq 3,84$\n",
        "\n",
        "$\\mathcal{X}^{2}\\gt \\mathcal{X}^{2}_{1,0.95}\\to$ по критерию Пирсона мы отвергаем гипотезу\n",
        "\n",
        "Наибольшее значение уровня значимости, при котором нет еще оснований отвергнуть данную гипотезу $\\simeq$ 0.01"
      ],
      "metadata": {
        "id": "hcEIyMkuxAR4"
      }
    },
    {
      "cell_type": "markdown",
      "source": [
        "### Задание-2"
      ],
      "metadata": {
        "id": "OMnpHk2fyi-a"
      }
    },
    {
      "cell_type": "markdown",
      "source": [
        "#### a)Построить вариционный ряд, эмпирическую функцию распределения,гистограмму и полигон частот с шагом h."
      ],
      "metadata": {
        "id": "VbmN05n61mEq"
      }
    },
    {
      "cell_type": "code",
      "source": [
        "data_1 = [0.62, 1.83, 1.30, 1.17, 1.32, 16.17, 0.67, 2.05, 3.10, 3.35, 10.20, 1.80, 3.51, 10.99, 1.84, 12.07, 0.09, 0.52, 8.12, 1.45, 0.42, 2.04, 1.33, 2.34, 6.65, 2.05, 1.88, 2.35, 0.27, 3.18, 5.98, 1.48, 1.58, 5.44, 1.13, 1.64, 6.83, 0.09, 5.71, 3.66, 1.07, 3.96, 4.44, 7.89, 3.28, 4.78, 15.75, 13.30, 2.11, 3.00] #выборка\n",
        "sorted_data_1 = np.sort(data_1)\n",
        "summ=np.sum(data_1)\n",
        "variation_range_1 = np.unique(sorted_data_1)\n",
        "print(sorted_data_1)\n",
        "print(summ)"
      ],
      "metadata": {
        "colab": {
          "base_uri": "https://localhost:8080/"
        },
        "id": "9CBjjWHPy0we",
        "outputId": "86271e10-9880-49c0-ad58-e6ced8d77006"
      },
      "execution_count": null,
      "outputs": [
        {
          "output_type": "stream",
          "name": "stdout",
          "text": [
            "[ 0.09  0.09  0.27  0.42  0.52  0.62  0.67  1.07  1.13  1.17  1.3   1.32\n",
            "  1.33  1.45  1.48  1.58  1.64  1.8   1.83  1.84  1.88  2.04  2.05  2.05\n",
            "  2.11  2.34  2.35  3.    3.1   3.18  3.28  3.35  3.51  3.66  3.96  4.44\n",
            "  4.78  5.44  5.71  5.98  6.65  6.83  7.89  8.12 10.2  10.99 12.07 13.3\n",
            " 15.75 16.17]\n",
            "197.8\n"
          ]
        }
      ]
    },
    {
      "cell_type": "code",
      "source": [
        "empirical_function = np.arange(1, n + 1) / n\n",
        "plt.subplot(312)\n",
        "# Добавим нулевое значение в начало\n",
        "x = np.concatenate(([sorted_data_1[0]], sorted_data_1))\n",
        "y = np.concatenate(([0], empirical_function))\n",
        "\n",
        "# Построим эмпирическую функцию\n",
        "plt.step(x, y, where='post')\n",
        "plt.xlabel('Значение')\n",
        "plt.ylabel('Вероятность')\n",
        "plt.title('Эмпирическая функция')\n",
        "plt.show()"
      ],
      "metadata": {
        "colab": {
          "base_uri": "https://localhost:8080/",
          "height": 211
        },
        "id": "NFbSKTiy1hkZ",
        "outputId": "6bb767e4-1072-4716-fb5e-0abb3e4e4eb1"
      },
      "execution_count": null,
      "outputs": [
        {
          "output_type": "display_data",
          "data": {
            "text/plain": [
              "<Figure size 640x480 with 1 Axes>"
            ],
            "image/png": "[encoded data removed]"
          },
          "metadata": {}
        }
      ]
    },
    {
      "cell_type": "code",
      "source": [
        "h=1.60\n",
        "bins = np.arange(min(data_1), max(data_1) + h, h)\n",
        "plt.hist(data_1, bins=bins, edgecolor='black', alpha=0.5, label='Гистограмма')\n",
        "plt.title(\"Гистограмма и полигон частот\")\n",
        "plt.xlabel(\"Интервалы\")\n",
        "plt.ylabel(\"Частота\")\n",
        "\n",
        "hist, _ = np.histogram(data_1, bins=bins)\n",
        "bin_centers = 0.5 * (bins[1:] + bins[:-1])\n",
        "plt.plot(bin_centers, hist, color='red', marker='o', linestyle='-', label='Полигон')\n",
        "\n",
        "plt.legend()\n",
        "plt.show()"
      ],
      "metadata": {
        "colab": {
          "base_uri": "https://localhost:8080/",
          "height": 472
        },
        "id": "fuhc7FHO2j05",
        "outputId": "ba56896b-fab6-4f24-a4aa-5346c0081300"
      },
      "execution_count": null,
      "outputs": [
        {
          "output_type": "display_data",
          "data": {
            "text/plain": [
              "<Figure size 640x480 with 1 Axes>"
            ],
            "image/png": "[encoded data removed]"
          },
          "metadata": {}
        }
      ]
    },
    {
      "cell_type": "markdown",
      "source": [
        "#### b) Вычислить выборочные аналоги следующих числовых характеристик: (i)математическое ожидание, (ii)дисперсия, (iii)медианы, (iv)асимметрии, (v)эксцесса (vi) вероятности $\\mathrm{P}(X\\in \\left[ a,b \\right])$"
      ],
      "metadata": {
        "id": "RyBb32GD22wp"
      }
    },
    {
      "cell_type": "code",
      "source": [
        "from scipy import stats\n",
        "\n",
        "c = 0.0\n",
        "d = 6.4\n",
        "\n",
        "mean = np.mean(data_1)  # Выборочное математическое ожидание\n",
        "variance = np.var(data_1)  # Дисперсия\n",
        "deviation = np.std(data_1)  # Стандартное отклонение\n",
        "median = np.median(data_1)  # Медиана\n",
        "skewness = stats.skew(data_1)  # Асимметрия\n",
        "kurtosis = stats.kurtosis(data_1)  # Эксцесс\n",
        "probability = len([x for x in data_1 if c <= x <= d]) / len(data_1)  # Вероятность\n",
        "\n",
        "print(\"Мат. ожидание=\", mean)\n",
        "print(\"Дисперсия=\", variance)\n",
        "print(\"Стандартное отклонение=\", deviation)\n",
        "print(\"Медиана=\", median)\n",
        "print(\"Асимметрия=\", skewness)\n",
        "print(\"Эксцесс=\", kurtosis)\n",
        "print(\"Вероятность попадания в промежуток=\", probability)\n"
      ],
      "metadata": {
        "colab": {
          "base_uri": "https://localhost:8080/"
        },
        "id": "ubdrSTdT26la",
        "outputId": "3030260d-fa9e-48fa-bbc5-8db55859f0c9"
      },
      "execution_count": null,
      "outputs": [
        {
          "output_type": "stream",
          "name": "stdout",
          "text": [
            "Мат. ожидание= 3.9560000000000004\n",
            "Дисперсия= 15.749480000000005\n",
            "Стандартное отклонение= 3.96856145221414\n",
            "Медиана= 2.2249999999999996\n",
            "Асимметрия= 1.6059289970134774\n",
            "Эксцесс= 1.8389220450048693\n",
            "Вероятность попадания в промежуток= 0.8\n"
          ]
        }
      ]
    },
    {
      "cell_type": "markdown",
      "source": [
        "#### c)В предположении, что исходные наблюдения являются выборкой из показательного распределения, построить ОМП и ОММ параметра $\\lambda$.Найти смещение оценки.\n",
        "\n",
        "Построим ОМП.\n",
        "Плотность показательного распределения: $P(X)=\\lambda\\cdot exp(-\\lambda X)$, при условии, что $X\\ge 0$ для данной выборки это событие достоверное и всегда выполняется, так что можем индикатор у плотности распределения не писать\n",
        "\n",
        "Построим функцию правдоподобия:\n",
        "\n",
        "$L(\\overrightarrow{X},\\theta)=\\prod_{i=1}^{n}\\lambda\\cdot exp(-\\lambda\\cdot X_{i})=\\lambda^{n}\\cdot exp(-\\lambda\\cdot \\sum_{i=1}^{n}X_{i})$\n",
        "\n",
        "Прологарифмируем функцию правдоподобия:\n",
        "\n",
        "$LL(\\overrightarrow{X},\\theta)=n\\ln(\\lambda)-\\lambda\\cdot \\sum_{i=1}^{n}X_{i}$\n",
        "\n",
        "Найдем частную производную по параметру $\\lambda$ и приравняем производную к нулю и тем самым найдем наш параметр:\n",
        "\n",
        "$\\frac{\\partial LL}{\\partial \\lambda}=\\frac{n}{\\lambda}-\\sum_{i=1}^{n}X_{i}=0\\to \\lambda=\\frac{n}{\\sum_{i=1}^{n}X_{i}}=\\frac{1}{\\overline{X}}$.\n",
        "\n",
        "Выборка нам известна, и мы можем посчитать, чему равен параметр:$\\widehat{\\lambda}=\\frac{1}{\\overline{X}}=0.253$\n",
        "\n",
        "\n",
        "Построим по ОММ.\n",
        "Для показательного распределения $P(X)=\\lambda\\cdot exp(-\\lambda X)$\n",
        "\n",
        "нам известно, что первый момент $\\mathbb{E}X_{1}=\\frac{1}{\\lambda};M_{1}=\\overline{X}$\n",
        "равен нашему параметру, и поскольку у нас одномерный параметр, то у нас будет система из одного уравнения.\n",
        "\n",
        "Тогда мы получим $\\widetilde{\\theta}=\\widetilde{\\lambda}=\\frac{1}{\\overline{X}}=0.253$\n",
        "\n",
        "\n",
        "Осталось найти смещение оценки.\n",
        "\n",
        "Для нахождения НРМД-оценки нам понадобится ОМП, которое мы нашли.\n",
        "\n",
        "$g\\left(T(\\overrightarrow{X})\\right)=\\lambda\\cdot exp(-\\lambda X)$\n",
        "\n",
        "$h(\\overrightarrow{X})=1$\n",
        "\n",
        "Достаточная минимальная статистика: $T=\\sum_{i=1}^{n}X_{i}=197.8$.\n",
        "\n",
        "Показательное распределение принадлежит экспоненциальному семейству распределения, следовательно, МДС будет являться ПДС.\n",
        "\n",
        "$\\mathbb{E}_{\\lambda}\\frac{1}{\\overline{X}}=\\mathbb{E}_{\\lambda}\\frac{n}{\\sum_{i=1}^{n}x_{i}}=n\\cdot \\mathbb{E_{\\lambda}}\\frac{1}{\\sum_{i=1}^{n}x_{i}}=n\\cdot \\mathbb{E}_{\\lambda}(\\sum_{i=1}^{n}X_{i})^{-1}=n\\cdot \\left(\\frac{1}{\\lambda}\\right)^{-1}\\frac{\\Gamma (-1+n)}{\\Gamma (n)}=n\\cdot \\lambda\\frac{\\Gamma (-1+n)}{\\Gamma(-1+n)\\cdot (n-1)}=\\frac{n\\cdot \\lambda}{n-1}\\to смещенная-оценка$\n",
        "\n",
        "$\\widetilde{\\lambda}=\\widehat{\\lambda}\\frac{n-1}{n}$\n",
        "\n",
        "$\\mathbb{E}_{\\lambda}\\widetilde{\\lambda}=\\mathbb{E}_{\\lambda}\\widehat{\\lambda}\\frac{n-1}{n}=\\frac{n-1}{n}\\mathbb{E}_{\\lambda}\\widehat{\\lambda}=\\frac{n-1}{n}\\cdot \\frac{n\\cdot \\lambda}{n-1}=\\lambda$-НРМД-оценка\n",
        "\n",
        "$X_{i}\\sim Exp(\\lambda) \\to X_{i}\\sim Gamma(1,\\frac{1}{\\lambda})\\Rightarrow \\sum_{i=1}^{n}X_{i}\\sim Gamma(n,\\frac{1}{\\lambda})$\n",
        "\n",
        "Если $X_{i}\\sim Gamma(\\alpha,\\beta)$, где $\\alpha\\gt 0$ и $\\beta\\gt 0$, $\\gamma\\gt -\\alpha$, то $\\mathbb{E}X_{i}^{\\gamma}=\\beta^{\\gamma}\\frac{Г(\\gamma+\\alpha)}{Г(\\alpha)}$"
      ],
      "metadata": {
        "id": "Hs9QJNAT7Hwg"
      }
    },
    {
      "cell_type": "markdown",
      "source": [
        "#### d)Построить А.Д.И. уровня значимости $\\alpha_2$ для параметра $\\lambda$ на базе ОМП\n",
        "1. Построим на базе ОМП.\n",
        "\n",
        "$\\sqrt{n}\\left( \\widehat{\\theta}(\\overrightarrow{X})-\\theta \\right)\\sim N\\left( 0, \\frac{1}{I(\\theta)} \\right)$\n",
        "\n",
        "ОМП $\\widehat{\\theta}=\\widehat{\\lambda}=\\frac{1}{\\overline{X}}$\n",
        "\n",
        "Найдем информацию Фишера: $I(\\theta)=-\\mathbb{E}\\left( \\frac{\\partial^{2} LL}{\\partial \\lambda^{2}} \\right)=-\\mathbb{E}\\left( -\\frac{n}{\\lambda^{2}} \\right)=\\frac{n}{\\lambda^{2}}$\n",
        "\n",
        "Тогда $\\sqrt{n\\cdot I\\left(  \\widehat{\\theta}(\\overrightarrow{X})\\right)}\\left( \\widehat{\\theta}(\\overrightarrow{X})-\\theta \\right)\\sim N(0,1)$\n",
        "\n",
        "Выбираем $X_{\\alpha}$: $\\mathrm{Ф}(X_{\\alpha})=1-\\frac{\\alpha_{2}}{2}=1-\\frac{0.05}{2}=0.975 \\to X_{0.975}=1,96$\n",
        "\n",
        "$А.Д.И. \\left[ \\frac{1}{\\overline{X}}-\\frac{X_{0.975}}{\\sqrt{50\\cdot \\frac{50}{\\overline{X}^{2}}}}; \\frac{1}{\\overline{X}}+\\frac{X_{0.975}}{\\sqrt{50\\cdot \\frac{50}{\\overline{X}^{2}}}}\\right] \\to 0.253-\\frac{1,96\\cdot 3,956}{50}\\le \\lambda\\le 0.253+\\frac{1,96\\cdot 3,956}{50}$\n",
        "\n",
        "$0.098\\le \\lambda\\le 0.408$- Асимп. довер. интервал параметра $\\lambda$.\n",
        "\n",
        "2. Построим на безе асимтотической нормальной оценки $\\widehat{\\theta}$\n",
        "\n",
        "$\\sqrt{n}\\left( \\widehat{\\theta}(\\overrightarrow{X})-\\theta \\right)\\sim N(0,\\sigma^{2}(\\theta))$\n",
        "\n",
        "$\\sqrt{n}\\frac{ \\widehat{\\theta}(\\overrightarrow{X})-\\theta}{\\sigma(\\widehat{\\theta})}\\sim N(0,1)$\n",
        "\n",
        "$X_{\\alpha}: \\mathrm{Ф(X_{\\alpha})}=0.995\\to X_{0.975}=1,96$\n",
        "\n",
        "$-X_{0.975}\\le \\sqrt{n}\\cdot \\frac{\\widehat{\\lambda}-\\lambda}{\\sqrt{\\widehat{\\lambda}}}\\le X_{0.975}$\n",
        "\n",
        "$0.253-\\frac{1,96\\cdot 0.253}{\\sqrt{50}}\\le \\lambda\\le 0.253+\\frac{1,96\\cdot 0.253}{\\sqrt{50}}\\to 0.243\\le \\lambda\\le 0.263$ - А.Д.И. параметра $\\lambda$"
      ],
      "metadata": {
        "id": "bBzTdeiMXIZN"
      }
    },
    {
      "cell_type": "markdown",
      "source": [
        "#### e)Построение критерия значимости проверки простой гипотезы согласия с показательным распределением с параметром λ0=0.14 с использованием теоремы Колмогорова. Проверка гипотезы на уровне значимости α2 = 0,05. Вычисление наименьшее значения уровня значимости, на котором ещё нет оснований отвергнуть гипотезу.\n",
        "\n"
      ],
      "metadata": {
        "id": "8Dyc_1xzewiv"
      }
    },
    {
      "cell_type": "code",
      "source": [
        "from scipy.stats import expon\n",
        "from scipy.stats import kstwobign\n",
        "# Вычисление статистики Колмогорова D\n",
        "D = np.max(np.abs(expon.cdf(sorted_data_1, scale=1/0.14) - np.arange(1, len(data_1)+1 / len(data_1))))\n",
        "\n",
        "# Расчёт критического значения\n",
        "alpha_2 = 0.05\n",
        "critical_value = kstwobign.ppf(1 - alpha_2/2) / np.sqrt(len(data_1))\n",
        "\n",
        "# Проверка гипотезы\n",
        "if D <= critical_value:\n",
        "    print(\"Гипотеза принимается\")\n",
        "    print(\"Наименьшее значение уровня значимости, на котором нет оснований отвергать гипотезу (D <= critical_value):\", alpha_2)\n",
        "else:\n",
        "    print(\"Гипотеза отвергается (D > critical_value)\")\n",
        "\n",
        "print(\"Вычисленное значение статистики Колмогорова D:\",D)\n",
        "print(\"Вычисленное критическое значение статичтики Колмогорова:\",critical_value)\n",
        "\n",
        "# Найдем наибольший уровень значимости\n",
        "max_alpha = 0.01\n",
        "while D <= kstwobign.ppf(1 - max_alpha/2) / np.sqrt(len(data_1)):\n",
        "    max_alpha += 0.01\n",
        "\n",
        "print(\"Наибольший уровень значимости без отвергания гипотезы:\", round(max_alpha, 2))"
      ],
      "metadata": {
        "colab": {
          "base_uri": "https://localhost:8080/"
        },
        "id": "eJwZknrnh8N6",
        "outputId": "ec058b71-d70e-4809-ccc0-6434a9df919f"
      },
      "execution_count": null,
      "outputs": [
        {
          "output_type": "stream",
          "name": "stdout",
          "text": [
            "Гипотеза отвергается (D > critical_value)\n",
            "Вычисленное значение статистики Колмогорова D: 49.10395470536978\n",
            "Вычисленное критическое значение статичтики Колмогорова: 0.20933286128879836\n",
            "Наибольший уровень значимости без отвергания гипотезы: 0.01\n"
          ]
        }
      ]
    },
    {
      "cell_type": "markdown",
      "source": [
        "#### f)Используя гистограмму частот, построить критерий значимости $\\mathcal{X^{2}}$ проверки простой гипотезы согласия с показательным распределением с параметром $\\lambda_{0}$. Проверить гипотезу на уровень значимости $\\alpha_{2}$. Вычислить наибольшее значение уровня значимости, на котором ещё нет оснований отвергнуть данную гипотезу.\n",
        "\n",
        "$P_{i}=P_{H_{0}}=(X\\in I_{i})=\\sum_{k\\in I_{i}}^{}\\lambda_{0}\\cdot exp(-\\lambda_{0}\\cdot k)$\n",
        "\n",
        "$I_{1}=\\left[ 0,1 \\right), n_{1}=7$\n",
        "\n",
        "$P_{1}=0.33\\cdot exp(-0.33\\cdot 0)+0.33\\cdot exp(-0.33\\cdot 1)=0,57\\to nP_{1}=28,5$\n",
        "\n",
        "$I_{2}=\\left[ 1,3 \\right) n_{2}=20$\n",
        "\n",
        "$P_{2}=0.33\\cdot exp(-0.33\\cdot 1)+0.33\\cdot exp(-0.33\\cdot 3)=0.3\\to nP_{2}=18$\n",
        "\n",
        "$I_{3}=\\left[ 3,17 \\right], n_{3}=23$\n",
        "\n",
        "$P_{3}=0.33\\cdot exp(-0.33\\cdot 3)+0.33\\cdot exp(-0.33\\cdot 17)=0,12\\to nP_{3}=6$\n",
        "\n",
        "Критерий $\\mathcal{X}^{2}: \\mathcal{X}^{2}_{набл}=\\sum_{i=1}^{3}\\frac{(n_{i}-np_{i})^{2}}{np_{i}} =64,61$\n",
        "\n",
        "$\\mathcal{X}^{2}_{N-1,1-\\alpha_{1}}=\\mathcal{X}^{2}_{2,0.95}\\simeq 5,99$\n",
        "\n",
        "$\\mathcal{X}^{2}\\gt \\mathcal{X}^{2}_{2,0.95}\\to$ по критерию Пирсона мы отвергаем гипотезу\n",
        "\n",
        "Наибольшее значение уровня значимости, при котором нет еще оснований отвергнуть данную гипотезу очень мала << 0.01"
      ],
      "metadata": {
        "id": "R2tggMyZju0o"
      }
    },
    {
      "cell_type": "markdown",
      "source": [
        "#### g)Построить критерий значимости  $\\mathcal{X^{2}}$ проверки сложной гипотезы согласия с показательным распределением. Проверить гипотезу по уровню значимости $\\alpha_{2}$.Вычислить наибольшее значение уровня значимости, на котором ещё нет оснований отвергнуть данную гипотезу.\n",
        "\n",
        "$P_{i}=P_{H_{0}}=(X\\in I_{i})=\\sum_{k\\in I_{i}}^{}\\frac{1}{\\overline{X}}\\cdot exp(-\\frac{1}{\\overline{X}}\\cdot k)$\n",
        "\n",
        "$I_{1}=\\left[ 0,1 \\right), n_{1}=7$\n",
        "\n",
        "$P_{1}=0.253\\cdot exp(-0.253\\cdot 0)+0.253\\cdot exp(-0.253\\cdot 1)=0.45\\to nP_{1}=22,5$\n",
        "\n",
        "$I_{2}=\\left[ 1,3 \\right), n_{2}=20$\n",
        "\n",
        "$P_{2}=0.253\\cdot exp(-0.253\\cdot 1)+0.253\\cdot exp(-0.253\\cdot 3)=0.32\\to nP_{2}=16$\n",
        "\n",
        "$I_{3}=\\left[ 3,17 \\right], n_{3}=23$\n",
        "\n",
        "$P_{3}=0.253\\cdot exp(-0.253\\cdot 3)+0.253\\cdot exp(-0.253\\cdot 17)=0.12\\to nP_{3}=6$\n",
        "\n",
        "Критерий $\\mathcal{X}^{2}: \\mathcal{X}^{2}_{набл}=\\sum_{i=1}^{3}\\frac{(n_{i}-np_{i})^{2}}{np_{i}} =59,8$\n",
        "\n",
        "$\\mathcal{X}^{2}_{N-1,1-\\alpha_{1}}=\\mathcal{X}^{2}_{2,0.95}\\simeq 5,99$\n",
        "\n",
        "$\\mathcal{X}^{2}\\gt \\mathcal{X}^{2}_{2,0.95}\\to$ по критерию Пирсона мы отвергаем гипотезу\n",
        "\n",
        "Наибольшее значение уровня значимости, при котором нет еще оснований отвергнуть данную гипотезу очень мала << 0.01"
      ],
      "metadata": {
        "id": "VCXT-_ZEqy1r"
      }
    },
    {
      "cell_type": "markdown",
      "source": [
        "#### h)Построить наиболее мощный критерий проверки простой гипотезы о показательности с параметром $\\lambda=\\lambda_{0}$ при альтернативе показательности с параметром $\\lambda=\\lambda_{1}$. Проверить гипотезу на уровне значимости $\\alpha_2$. Что получится, если поменять местами основную и альтернативную гипотезы?\n",
        "\n",
        "Основная гипотеза: $H_{0}=\\lambda_{0}=0.33$\n",
        "\n",
        "Альтернативная гипотеза: $H_{A}=\\lambda_{1}=0.25$\n",
        "\n",
        "Воспользуемся статистическим отношением правдоподобия:\n",
        "\n",
        "$LR(\\overrightarrow{X},\\lambda_{1},\\lambda_{0}) = \\frac{L\\left( \\overrightarrow{X},\\lambda_{1} \\right)}{L\\left( \\overrightarrow{X},\\lambda_{0} \\right)}= \\frac{\\lambda_{1}^{n}\\cdot exp(-\\lambda_{1}\\cdot \\sum_{i=1}^{50}X_{i})}{\\lambda_{0}^{n}\\cdot exp(-\\lambda_{0}\\cdot \\sum_{i=1}^{50}X_{i})}$.\n",
        "\n",
        "$\\left(\\frac{\\lambda_{1}}{\\lambda_{0}}\\right)^{n} \\cdot exp \\left((\\lambda_{0}-\\lambda_{1}) \\cdot \\sum_{i=1}^{50}X_{i} \\right) > c$\n",
        "\n",
        "$LR(\\overrightarrow{X},\\lambda_{0},\\lambda_{1})\\gt c\\Leftrightarrow \\overrightarrow{X}\\gt c$\n",
        "\n",
        "$exp\\left( (\\lambda_{0}-\\lambda_{1})\\sum_{i=1}^{50}X_{i} \\right)=\\left( \\frac{\\lambda_{0}}{\\lambda_{1}} \\right)^{n}\\cdot c$\n",
        "\n",
        "$\\sum_{i=1}^{50}X_{i}=n\\cdot \\ln\\left(\\left( \\frac{\\lambda_{0}}{\\lambda_{1}} \\right)c \\right)=c^{*}$\n",
        "\n",
        "$P\\left\\{ H_{1}|H_{0} \\right\\}=P\\left\\{ \\sum_{i=1}^{50}X_{i}\\gt c^{*}|\\lambda=\\lambda_{0} \\right\\}=\\alpha_{2}$\n",
        "\n",
        "$X_{i}\\sim Exp(\\lambda)\\to X_{i}\\sim \\Gamma \\left(1,\\frac{1}{\\lambda} \\right)\\to \\sum_{i=1}^{50}X_{i}\\sim \\Gamma \\left(n,\\frac{1}{\\lambda}\\right)$\n",
        "\n",
        "$\\alpha_{2}=1-F_{\\Gamma \\left(n,\\frac{1}{\\lambda} \\right)}(c)\\Rightarrow c=F_{\\Gamma \\left(n,\\frac{1}{\\lambda} \\right)}^{-1}(1-\\alpha_{2})$\n",
        "\n",
        "Найдем критическое значение $c$. В данном случае, так как $n=50$ и $\\lambda=\\lambda_{0}=0.33$, вычислим $c = F_{\\Gamma(50, 3)}^{-1}(1-0.05) = 188,4$.\n",
        "\n",
        "Рассчитаем статистику отношения правдоподобия $LR(\\overrightarrow{X}, \\lambda_{0}, \\lambda_{1})$. В данном случае, так как $\\lambda_{0}=0.33$, $\\lambda_{1}=0.25$, $n=50$ и $\\sum_{i=1}^{50}X_i=c^*=197,8$, получаем $LR(\\overrightarrow{X}, \\lambda_{0}, \\lambda_{1}) = \\left(\\frac{0.33}{0.25}\\right)^{50} \\cdot e^{(0.25-0.33) \\cdot 197,8} = 0,14$.\n",
        "\n",
        "Так как $LR(\\overrightarrow{X}, \\lambda_0, \\lambda_1) = 0,14 \\lt 188,4$, то мы отвергаем основную гипотезу $H_0$.\n",
        "\n",
        "Поменяем теперь основную и альтернативную гипотезу местами:\n",
        "\n",
        "Основная гипотеза: $H_{0}=\\lambda_{1}$\n",
        "\n",
        "Альтернативная гипотеза: $H_{A}=\\lambda_{0}$\n",
        "\n",
        "Воспользуемся статистическим отношением правдоподобия:\n",
        "\n",
        "$LR(\\overrightarrow{X},\\lambda_{0},\\lambda_{1}) = \\frac{L\\left( \\overrightarrow{X},\\lambda_{0} \\right)}{L\\left( \\overrightarrow{X},\\lambda_{1} \\right)}= \\frac{\\lambda_{0}^{n}\\cdot exp(-\\lambda_{0}\\cdot \\sum_{i=1}^{50}X_{i})}{\\lambda_{1}^{n}\\cdot exp(-\\lambda_{1}\\cdot \\sum_{i=1}^{50}X_{i})}$\n",
        "\n",
        "$LR(\\overrightarrow{X},\\lambda_{0},\\lambda_{1})\\gt c\\Leftrightarrow \\overline{X}\\gt c^{*}$\n",
        "\n",
        "$c = F_{\\Gamma(50, \\frac{1}{0.25})}^{-1}(1-0.05) = 248,7$.\n",
        "\n",
        "$LR(\\overrightarrow{X}, \\lambda_{0}, \\lambda_{1}) = \\left(\\frac{0.25}{0.33}\\right)^{50} \\cdot e^{(0.33-0.25) \\cdot 197,8} = 6,98$.\n",
        "\n",
        "Если поменять местами основную и альтернативную гипотезы, то вместо статистики отношения правдоподобия мы будем рассчитывать ее обратное значение. То есть, рассчитаем $LR(\\overrightarrow{X}, \\lambda_{1}, \\lambda_{0})$ и сравним его с критическим значением. В данном случае, мы придем к выводу, что не можем отвергнуть основную гипотезу, так как $LR(\\overrightarrow{X}, \\lambda_{1}, \\lambda_{0})=6,98 \\lt c = 248,7$. И мы отвергаем гипотезу $H_{0}$\n"
      ],
      "metadata": {
        "id": "QpF673nMt-Os"
      }
    },
    {
      "cell_type": "code",
      "source": [
        "#Код для нахождения с\n",
        "shape = 50\n",
        "scale = 1/0.33\n",
        "c = stats.gamma.ppf(0.95, a=shape, scale=scale)\n",
        "\n",
        "shape_1 = 50\n",
        "scale_1 = 1/0.25\n",
        "c_1 = stats.gamma.ppf(0.95, a=shape_1, scale=scale_1)\n",
        "print(c)\n",
        "print(c_1)"
      ],
      "metadata": {
        "colab": {
          "base_uri": "https://localhost:8080/"
        },
        "id": "AVmv7GlymoP2",
        "outputId": "bcb43a93-52d3-4ac1-e45c-bc46b9438213"
      },
      "execution_count": null,
      "outputs": [
        {
          "output_type": "stream",
          "name": "stdout",
          "text": [
            "188.3971415212183\n",
            "248.68422680800813\n"
          ]
        }
      ]
    },
    {
      "cell_type": "markdown",
      "source": [
        "#### i)В пунктах (c)-(h) заменить семейство показательных распределений на гамма-распределений с плотностями $P_{\\lambda}(X)=\\frac{\\sqrt{\\lambda}\\cdot exp\\left( \\frac{-\\lambda\\cdot X}{2} \\right)}{\\sqrt{2\\cdot \\pi\\cdot X}}$"
      ],
      "metadata": {
        "id": "sEnQ-Q3l5JZy"
      }
    },
    {
      "cell_type": "markdown",
      "source": [
        "#### i.c)В предположении, что исходные наблюдения являются выборкой из гамма-распределения, построить ОМП и ОММ параметра $\\lambda$.Найти смещение оценки.\n",
        "\n",
        "Построим ОМП.\n",
        "Плотность показательного распределения: $P_{\\lambda}(X)=\\frac{\\sqrt{\\lambda}\\cdot exp\\left( \\frac{-\\lambda\\cdot X}{2} \\right)}{\\sqrt{2\\cdot \\pi\\cdot X}}$\n",
        "\n",
        "Построим функцию правдоподобия:\n",
        "\n",
        "$L(\\overrightarrow{X},\\theta)=\\prod_{i=1}^{n}\\frac{\\sqrt{\\lambda}\\cdot exp\\left( \\frac{-\\lambda\\cdot X}{2} \\right)}{\\sqrt{2\\cdot \\pi\\cdot X}}=\\frac{\\lambda^{\\frac{n}{2}}\\cdot exp\\left( \\frac{-\\lambda}{2} \\cdot \\sum_{i=1}^{n}X_{i}\\right)}{(2\\pi)^{\\frac{n}{2}}\\cdot (\\prod_{i=1}^{n}X_{i})^{\\frac{n}{2}}}$\n",
        "\n",
        "Прологарифмируем функцию правдоподобия:\n",
        "\n",
        "$LL(\\overrightarrow{X},\\theta)=\\frac{n}{2}\\ln(\\lambda)-\\frac{-\\lambda\\cdot \\sum_{i=1}^{n}X_{i}}{2}-\\frac{n}{2}\\ln(2\\pi)-\\frac{n}{2}\\ln(\\prod_{i=1}^{n}X_{i})$\n",
        "\n",
        "Найдем частную производную по параметру $\\lambda$ и приравняем производную к нулю и тем самым найдем наш параметр:\n",
        "\n",
        "$\\frac{\\partial LL}{\\partial \\lambda}=\\frac{n}{2\\lambda}-\\frac{\\sum_{i=1}^{n}X_{i}}{2}=0\\to \\frac{n}{2\\lambda}=\\frac{\\sum_{i=1}^{n}X_{i}}{2}\\to \\frac{\\lambda}{n}=\\frac{1}{\\sum_{i=1}^{n}X_{i}}\\to \\lambda=\\frac{1}{\\overline{X}}$.\n",
        "\n",
        "Выборка нам известна, и мы можем посчитать, чему равен параметр:$\\widehat{\\lambda}=\\frac{1}{\\overline{X}}=0.253$\n",
        "\n",
        "\n",
        "Построим по ОММ.\n",
        "Для показательного распределения $P_{\\lambda}(X)=\\frac{\\sqrt{\\lambda}\\cdot exp\\left( \\frac{-\\lambda\\cdot X}{2} \\right)}{\\sqrt{2\\cdot \\pi\\cdot X}}$\n",
        "\n",
        "нам известно, что первый момент $\\mathbb{E}X_{1}=a \\cdot b=\\frac{1}{\\lambda};M_{1}=\\overline{X}$,где $a-1=\\frac{-1}{2} \\to a=\\frac{1}{2}$, а параметр $b=\\frac{2}{\\lambda}$\n",
        "\n",
        "Нашли из $\\left(P(X)=\\frac{1}{\\Gamma(a)\\cdot b^{a}}X^{a-1} \\cdot exp \\left(-\\frac{X}{b}\\right)\\right)$\n",
        "\n",
        "равен нашему параметру, и поскольку у нас одномерный параметр, то у нас будет система из одного уравнения.\n",
        "\n",
        "Тогда мы получим $\\widetilde{\\theta}=\\widetilde{\\lambda}=\\frac{1}{\\overline{X}}=0.253$\n",
        "\n",
        "\n",
        "Осталось найти смещение оценки.\n",
        "\n",
        "Для нахождения НРМД-оценки нам понадобится ОМП, которое мы нашли.\n",
        "\n",
        "$g\\left(T(\\overrightarrow{X})\\right)=\\frac{\\lambda^{\\frac{n}{2}}\\cdot exp\\left( \\frac{-\\lambda}{2} \\cdot \\sum_{i=1}^{n}X_{i}\\right)}{(\\prod_{i=1}^{n}X_{i})^{\\frac{n}{2}}}$\n",
        "\n",
        "$h(\\overrightarrow{X})=\\frac{1}{(2\\pi)^{\\frac{n}{2}}}$\n",
        "\n",
        "Достаточная минимальная статистика: $T=\\sum_{i=1}^{n}X_{i}=197,8$.\n",
        "\n",
        "Показательное распределение принадлежит экспоненциальному семейству распределения, следовательно, МДС будет являться ПДС.\n",
        "\n",
        "$\\mathbb{E}_{\\lambda}\\frac{1}{\\overline{X}}=\\mathbb{E}_{\\lambda}\\frac{n}{\\sum_{i=1}^{n}x_{i}}=n\\cdot \\mathbb{E_{\\lambda}}\\frac{1}{\\sum_{i=1}^{n}x_{i}}=n\\cdot \\mathbb{E}_{\\lambda}(\\sum_{i=1}^{n}X_{i})^{-1}=n\\cdot \\left(\\frac{1}{\\lambda}\\right)^{-1}\\frac{\\Gamma (-1+n)}{\\Gamma (n)}=n\\cdot \\lambda\\frac{\\Gamma (-1+n)}{\\Gamma(-1+n)\\cdot (n-1)}=\\frac{n\\cdot \\lambda}{n-1}\\to смещенная-оценка$\n",
        "\n",
        "$\\widetilde{\\lambda}=\\widehat{\\lambda}\\frac{n-1}{n}$\n",
        "\n",
        "$\\mathbb{E}_{\\lambda}\\widetilde{\\lambda}=\\mathbb{E}_{\\lambda}\\widehat{\\lambda}\\frac{n-1}{n}=\\frac{n-1}{n}\\mathbb{E}_{\\lambda}\\widehat{\\lambda}=\\frac{n-1}{n}\\cdot \\frac{n\\cdot \\lambda}{n-1}=\\lambda$-НРМД-оценка\n",
        "\n",
        "$X_{i}\\sim Exp(\\lambda) \\to X_{i}\\sim Gamma(1,\\frac{1}{\\lambda})\\Rightarrow \\sum_{i=1}^{n}X_{i}\\sim Gamma(n,\\frac{1}{\\lambda})$\n",
        "\n",
        "Если $X_{i}\\sim Gamma(\\alpha,\\beta)$, где $\\alpha\\gt 0$ и $\\beta\\gt 0$, $\\gamma\\gt -\\alpha$, то $\\mathbb{E}X_{i}^{\\gamma}=\\beta^{\\gamma}\\frac{Г(\\gamma+\\alpha)}{Г(\\alpha)}$"
      ],
      "metadata": {
        "id": "Z4Yi-KhH65P9"
      }
    },
    {
      "cell_type": "markdown",
      "source": [
        "#### i.d)Построить А.Д.И. уровня значимости $\\alpha_2$ для параметра $\\lambda$ на базе ОМП\n",
        "1. Построим на базе ОМП.\n",
        "\n",
        "$\\sqrt{n}\\left( \\widehat{\\theta}(\\overrightarrow{X})-\\theta \\right)\\sim N\\left( 0, \\frac{1}{I(\\theta)} \\right)$\n",
        "\n",
        "ОМП $\\widehat{\\theta}=\\widehat{\\lambda}=\\frac{1}{\\overline{X}}$\n",
        "\n",
        "Найдем информацию Фишера: $I(\\theta)=-\\mathbb{E}\\left( \\frac{\\partial^{2} LL}{\\partial \\lambda^{2}} \\right)=-\\mathbb{E}\\left( -\\frac{n}{2\\cdot \\lambda^{2}} \\right)=\\frac{n}{2\\cdot \\lambda^{2}}$\n",
        "\n",
        "Тогда $\\sqrt{n\\cdot I\\left(  \\widehat{\\theta}(\\overrightarrow{X})\\right)}\\left( \\widehat{\\theta}(\\overrightarrow{X})-\\theta \\right)\\sim N(0,1)$\n",
        "\n",
        "Выбираем $X_{\\alpha}$: $\\mathrm{Ф}(X_{\\alpha})=1-\\frac{\\alpha_{2}}{2}=1-\\frac{0.05}{2}=0.975 \\to X_{0.975}=1,96$\n",
        "\n",
        "$А.Д.И. \\left[ \\frac{1}{\\overline{X}}-\\frac{X_{0.975}}{\\sqrt{50\\cdot \\frac{50}{2\\cdot \\overline{X}^{2}}}}; \\frac{1}{\\overline{X}}+\\frac{X_{0.975}}{\\sqrt{50\\cdot \\frac{50}{2\\cdot \\overline{X}^{2}}}}\\right] \\to 0.253-\\frac{1,96\\cdot 0.253}{\\sqrt{50\\cdot 25 \\cdot 0.253^{2}}}\\le \\lambda\\le 0.253+\\frac{1,96\\cdot 0.253}{\\sqrt{50\\cdot 25\\cdot 0.253^{2}}}$\n",
        "\n",
        "$0.198\\le \\lambda\\le 0.308$- Асимп. довер. интервал параметра $\\lambda$.\n",
        "\n",
        "2. Построим на безе асимтотической нормальной оценки $\\widehat{\\theta}$\n",
        "\n",
        "$\\sqrt{n}\\left( \\widehat{\\theta}(\\overrightarrow{X})-\\theta \\right)\\sim N(0,\\sigma^{2}(\\theta))$\n",
        "\n",
        "$\\sqrt{n}\\frac{ \\widehat{\\theta}(\\overrightarrow{X})-\\theta}{\\sigma(\\widehat{\\theta})}\\sim N(0,1)$\n",
        "\n",
        "$X_{\\alpha}: \\mathrm{Ф(X_{\\alpha})}=0.975\\to X_{0.975}=1,96$\n",
        "\n",
        "$-X_{0.975}\\le \\sqrt{n}\\cdot \\frac{\\widehat{\\lambda}-\\lambda}{\\sqrt{\\widehat{\\lambda}}}\\le X_{0.975}$\n",
        "\n",
        "$0.253-\\frac{1,96\\cdot 0.253}{\\sqrt{50}}\\le \\lambda\\le 0.253+\\frac{1,96\\cdot 0.253}{\\sqrt{50}}\\to 0.183\\le \\lambda\\le 0.323$ - А.Д.И. параметра $\\lambda$"
      ],
      "metadata": {
        "id": "x9LN6byjCf91"
      }
    },
    {
      "cell_type": "markdown",
      "source": [
        "#### i.e)Построение критерия значимости проверки простой гипотезы согласия с гамма-распределением с параметром λ0=0.33 с использованием теоремы Колмогорова. Проверка гипотезы на уровне значимости α2 = 0,05. Вычисление наибольшее значения уровня значимости, на котором ещё нет оснований отвергнуть гипотезу."
      ],
      "metadata": {
        "id": "SBoUEuZEF91O"
      }
    },
    {
      "cell_type": "code",
      "source": [
        "from scipy.stats import gamma\n",
        "# Вычисление статистики Колмогорова D\n",
        "D = np.max(np.abs(gamma.cdf(sorted_data_1, 1, scale=1/0.33) - np.arange(1, len(data_1)+1 / len(data_1))))\n",
        "\n",
        "# Расчёт критического значения\n",
        "alpha_2 = 0.05\n",
        "critical_value = kstwobign.ppf(1 - alpha_2/2) / np.sqrt(len(data_1))\n",
        "\n",
        "# Проверка гипотезы\n",
        "if D <= critical_value:\n",
        "    print(\"Наименьшее значение уровня значимости, на котором нет оснований отвергать гипотезу (D <= critical_value):\", alpha_2)\n",
        "else:\n",
        "    print(\"Гипотеза отвергается (D > critical_value)\")\n",
        "print(\"Вычисленное значение статистики Колмогорова D:\",D)\n",
        "print(\"Вычисленное критическое значение статичтики Колмогорова:\",critical_value)\n",
        "\n",
        "# Найдем наибольший уровень значимости\n",
        "max_alpha = 0.01\n",
        "while D <= kstwobign.ppf(1 - max_alpha/2) / np.sqrt(len(data_1)):\n",
        "    max_alpha += 0.01\n",
        "\n",
        "print(\"Наибольший уровень значимости без отвергания гипотезы:\", round(max_alpha, 2))"
      ],
      "metadata": {
        "colab": {
          "base_uri": "https://localhost:8080/"
        },
        "id": "aNWXrWsaH2m1",
        "outputId": "a63849a6-d30d-40b0-c07f-f9e510edd0a9"
      },
      "execution_count": null,
      "outputs": [
        {
          "output_type": "stream",
          "name": "stdout",
          "text": [
            "Гипотеза отвергается (D > critical_value)\n",
            "Вычисленное значение статистики Колмогорова D: 49.00481461112612\n",
            "Вычисленное критическое значение статичтики Колмогорова: 0.20933286128879836\n",
            "Наибольший уровень значимости без отвергания гипотезы: 0.01\n"
          ]
        }
      ]
    },
    {
      "cell_type": "markdown",
      "source": [
        "#### i.f)Используя гистограмму частот, построить критерий значимости $\\mathcal{X^{2}}$ проверки простой гипотезы согласия с гамма-распределением с параметром $\\lambda_{0}$. Проверить гипотезу на уровень значимости $\\alpha_{2}$. Вычислить наибольшее значение уровня значимости, на котором ещё нет оснований отвергнуть данную гипотезу.\n",
        "\n",
        "$P_{i}=P_{H_{0}}=(X\\in I_{i})=\\sum_{k\\in I_{i}}^{}\\frac{\\sqrt{\\lambda_{0}}\\cdot exp\\left( -\\frac{\\lambda_{0}\\cdot k}{2} \\right)}{\\sqrt{2\\pi\\cdot k}}$\n",
        "\n",
        "$I_{1}=\\left[ 0.01,1 \\right), n_{1}=7$\n",
        "\n",
        "$P_{1}=\\frac{\\sqrt{0.33}\\cdot exp\\left( -\\frac{0.33\\cdot 0.01}{2} \\right)}{\\sqrt{2\\pi\\cdot 0.01}}+\\frac{\\sqrt{0.33}\\cdot exp\\left( -\\frac{0.33\\cdot 1}{2} \\right)}{\\sqrt{2\\pi\\cdot 1}}=2,5\\to nP_{1}=125$\n",
        "\n",
        "$I_{2}=\\left[ 1,2,2 \\right), n_{2}=18$\n",
        "\n",
        "$P_{2}=\\frac{\\sqrt{0.33}\\cdot exp\\left( -\\frac{0.33\\cdot 1}{2} \\right)}{\\sqrt{2\\pi\\cdot 1}}+\\frac{\\sqrt{0.33}\\cdot exp\\left( -\\frac{0.33\\cdot 2.2}{2} \\right)}{\\sqrt{2\\pi\\cdot 2.2}}=0.3\\to nP_{2}=15$\n",
        "\n",
        "$I_{3}=\\left[ 2,2,17 \\right], n_{3}=25$\n",
        "\n",
        "$P_{3}=\\frac{\\sqrt{0.33}\\cdot exp\\left( -\\frac{0.33\\cdot 2,2}{2} \\right)}{\\sqrt{2\\pi\\cdot 2,2}}+\\frac{\\sqrt{0.33}\\cdot exp\\left( -\\frac{0.33\\cdot 17}{2} \\right)}{\\sqrt{2\\pi\\cdot 17}}=0.11\\to nP_{3}=5,5$\n",
        "\n",
        "Критерий $\\mathcal{X}^{2}: \\mathcal{X}^{2}_{набл}=\\sum_{i=1}^{3}\\frac{(n_{i}-np_{i})^{2}}{np_{i}} =181,03$\n",
        "\n",
        "$\\mathcal{X}^{2}_{N-1,1-\\alpha_{1}}=\\mathcal{X}^{2}_{2,0.95}\\simeq 5,99$\n",
        "\n",
        "$\\mathcal{X}^{2}\\gt \\mathcal{X}^{2}_{2,0.95}\\to$ по критерию Пирсона мы отвергаем гипотезу\n",
        "\n",
        "Наибольшее значение уровня значимости, при котором нет еще оснований отвергнуть данную гипотезу очень мала << 0.01\n",
        "\n"
      ],
      "metadata": {
        "id": "kjxgkG4BH9zi"
      }
    },
    {
      "cell_type": "markdown",
      "source": [
        "#### i.g)Построить критерий значимости  $\\mathcal{X^{2}}$ проверки сложной гипотезы согласия с показательным распределением. Проверить гипотезу по уровню значимости $\\alpha_{2}$.Вычислить наибольшее значение уровня значимости, на котором ещё нет оснований отвергнуть данную гипотезу.\n",
        "\n",
        "$P_{i}=P_{H_{0}}=(X\\in I_{i})=\\sum_{k\\in I_{i}}^{}\\frac{\\sqrt{\\frac{1}{\\overline{X}}}\\cdot exp\\left( -\\frac{\\frac{1}{\\overline{X}}\\cdot k}{2} \\right)}{\\sqrt{2\\pi\\cdot k}}$\n",
        "\n",
        "$I_{1}=\\left[ 0.01,1 \\right), n_{1}=7$\n",
        "\n",
        "$P_{1}=\\frac{\\sqrt{0.253}\\cdot exp\\left( -\\frac{0.253\\cdot 0.01}{2} \\right)}{\\sqrt{2\\pi\\cdot 0.01}}+\\frac{\\sqrt{0.253}\\cdot exp\\left( -\\frac{0.253\\cdot 1}{2} \\right)}{\\sqrt{2\\pi\\cdot 1}}=2,18\\to nP_{1}=109$\n",
        "\n",
        "$I_{2}=\\left[ 1,2,2 \\right], n_{2}=18$\n",
        "\n",
        "$P_{2}=\\frac{\\sqrt{0.253}\\cdot exp\\left( -\\frac{0.253\\cdot 1}{2} \\right)}{\\sqrt{2\\pi\\cdot 1}}+\\frac{\\sqrt{0.253}\\cdot exp\\left( -\\frac{0.253\\cdot 2.2}{2} \\right)}{\\sqrt{2\\pi\\cdot 2.2}}=0.28\\to nP_{2}=14$\n",
        "\n",
        "$I_{3}=\\left[ 2,2,17 \\right], n_{3}=25$\n",
        "\n",
        "$P_{3}=\\frac{\\sqrt{0.253}\\cdot exp\\left( -\\frac{0.253\\cdot 2.2}{2} \\right)}{\\sqrt{2\\pi\\cdot 2.2}}+\\frac{\\sqrt{0.253}\\cdot exp\\left( -\\frac{0.253\\cdot 17}{2} \\right)}{\\sqrt{2\\pi\\cdot 17}}=0.11\\to nP_{3}=5,5$\n",
        "\n",
        "Критерий $\\mathcal{X}^{2}: \\mathcal{X}^{2}_{набл}=\\sum_{i=1}^{3}\\frac{(n_{i}-np_{i})^{2}}{np_{i}} =165,7$\n",
        "\n",
        "$\\mathcal{X}^{2}_{N-1,1-\\alpha_{1}}=\\mathcal{X}^{2}_{2,0.95}\\simeq 5,99$\n",
        "\n",
        "$\\mathcal{X}^{2}\\gt \\mathcal{X}^{2}_{2,0.95}\\to$ по критерию Пирсона мы отвергаем гипотезу\n",
        "\n",
        "Наибольшее значение уровня значимости, при котором нет еще оснований отвергнуть данную гипотезу очень мала << 0.01"
      ],
      "metadata": {
        "id": "HfW68W_wPoQQ"
      }
    },
    {
      "cell_type": "markdown",
      "source": [
        "#### i.h)Для гамма-распределения $P_{\\lambda}(X)=\\frac{\\sqrt{\\lambda}\\cdot exp\\left( \\frac{-\\lambda\\cdot X}{2} \\right)}{\\sqrt{2\\cdot \\pi\\cdot X}}$ построить наиболее мощный критерий проверки гипотезы о показательности с параметром $\\lambda=\\lambda_{0}$ при альтернативе показательности с параметром $\\lambda=\\lambda_{1}$.\n",
        "\n",
        "Основная гипотеза: $H_{0}=\\lambda_{0}=0.33$\n",
        "\n",
        "Альтернативная гипотеза: $H_{A}=\\lambda_{1}=0.25$\n",
        "\n",
        "Мы можем использовать статистическое отношение правдоподобия для этой задачи.\n",
        "\n",
        "$LR(\\overrightarrow{X},\\lambda_{0},\\lambda_{1}) = \\frac{L\\left( \\overrightarrow{X},\\lambda_{0} \\right)}{L\\left( \\overrightarrow{X},\\lambda_{1} \\right)}= \\frac{\\lambda_{0}^{\\frac{n}{2}} \\cdot exp \\left(-\\frac{\\lambda_{0}\\cdot \\sum_{i=1}^{50}X_{i}}{2} \\right)}{\\lambda_{1}^{\\frac{n}{2}}\\cdot exp \\left(-\\frac{\\lambda_{1}\\cdot \\sum_{i=1}^{50}X_{i}}{2} \\right)}=\\left(\\frac{\\lambda_{0}}{\\lambda_{1}}\\right)^{\\frac{n}{2}}\\cdot exp \\left((\\lambda_{1}-\\lambda_{0})\\cdot \\sum_{i=1}^{50}X_{i} \\right)$\n",
        "\n",
        "Затем мы можем найти критическую область, используя неравенство: $LR(\\overrightarrow{X},\\lambda_{0},\\lambda_{1}) \\gt c$, где $c$ является критической точкой.\n",
        "\n",
        "Таким образом, наша критическая область будет иметь вид ${\\overrightarrow{X} : \\sum_{i=1}^{50}X_{i} \\gt c^{*}}$.\n",
        "\n",
        "Теперь давайте численно решим эту задачу, используя значения $\\lambda_{0}=0.33$ и $\\lambda_{1}=0.25$, а также уровень значимости $\\alpha_{2}=0.05$. Для этого нам понадобится рассчитать критическую точку $c^{*}$.\n",
        "\n",
        "Используя формулу $c=F_{\\Gamma \\left(n,\\frac{1}{\\lambda} \\right)}^{-1}(1-\\alpha_{2})$, где $F$ - функция распределения гамма-распределения, а $\\Gamma \\left(n,\\frac{1}{\\lambda} \\right)$ - гамма-распределение с параметрами $n$ и $\\frac{1}{\\lambda}$, мы можем найти значение $c^{*}$.\n",
        "\n",
        "Вычислим $c$:\n",
        "$c=F_{\\Gamma \\left(50,\\frac{1}{0,33} \\right)}^{-1}(1-0,05)$\n",
        "\n",
        "Найдем критическое значение $c$. В данном случае, так как $n=50$ и $\\lambda=\\lambda_0=0,33$, вычислим $c = F_{\\Gamma(50, 3)}^{-1}(1-0,05) = 188,4$.\n",
        "\n",
        "Рассчитаем статистику отношения правдоподобия $LR(\\overrightarrow{X}, \\lambda_0, \\lambda_1)$. В данном случае, так как $\\lambda_0=0.33$, $\\lambda_1=0.25$, $n=50$ и $\\sum_{i=1}^{50}X_i=c^*=197,8$, получаем $LR(\\overrightarrow{X}, \\lambda_0, \\lambda_1) = \\left(\\frac{0.33}{0,25}\\right)^{25} \\cdot e^{(0,25-0.33) \\cdot 197,8} = 0.00014$.\n",
        "\n",
        "Так как $LR(\\overrightarrow{X}, \\lambda_{0}, \\lambda_{1}) = 0,00014 \\lt 188,4$, то мы отвергаем основную гипотезу $H_{0}$.\n",
        "\n",
        "\n",
        "После вычислений мы получаем значение $c^{*}$, которое будет использовано для определения критической области и проверки гипотезы.\n",
        "\n",
        "Теперь давайте рассмотрим ситуацию, если мы поменяем местами основную и альтернативную гипотезы:\n",
        "\n",
        "Основная гипотеза: $H_{0}=\\lambda_{1}=0,25$\n",
        "\n",
        "Альтернативная гипотеза: $H_{A}=\\lambda_{0}=0,33$\n",
        "\n",
        "Вычислим $c$:\n",
        "$c=F_{\\Gamma \\left(50,\\frac{1}{0,25} \\right)}^{-1}(1-0,05)=248,7$\n",
        "\n",
        "Если поменять местами основную и альтернативную гипотезы, то вместо статистики отношения правдоподобия мы будем рассчитывать ее обратное значение. То есть, рассчитаем $LR(\\overrightarrow{X}, \\lambda_{1}, \\lambda_{0})$ и сравним его с критическим значением.\n",
        "\n",
        "$LR(\\overrightarrow{X}, \\lambda_{0}, \\lambda_{1}) = \\left(\\frac{0,25}{0,33}\\right)^{25} \\cdot e^{(0,33-0,25) \\cdot 197,8} = 7209,87$\n",
        "\n",
        "В данном случае, мы придем к выводу, что не можем отвергнуть основную гипотезу, так как $LR(\\overrightarrow{X}, \\lambda_{1}, \\lambda_{0})=7209,87 \\gt c = 248,7$. И мы принимаем гипотезу $H_{0}$"
      ],
      "metadata": {
        "id": "mTogAwWXW6Ko"
      }
    },
    {
      "cell_type": "code",
      "source": [
        "#Код для нахождения с\n",
        "shape = 50\n",
        "scale = 1/0.33\n",
        "c = stats.gamma.ppf(0.95, a=shape, scale=scale)\n",
        "\n",
        "shape_1 = 50\n",
        "scale_1 = 1/0.25\n",
        "c_1 = stats.gamma.ppf(0.95, a=shape_1, scale=scale_1)\n",
        "print(c)\n",
        "print(c_1)"
      ],
      "metadata": {
        "colab": {
          "base_uri": "https://localhost:8080/"
        },
        "id": "NvkvWxc-jA5H",
        "outputId": "6b2406fc-64e2-424b-bd0d-9c025e3c0032"
      },
      "execution_count": null,
      "outputs": [
        {
          "output_type": "stream",
          "name": "stdout",
          "text": [
            "188.3971415212183\n",
            "248.68422680800813\n"
          ]
        }
      ]
    },
    {
      "cell_type": "markdown",
      "source": [
        "## Выводы\n",
        "\n",
        "В рамках выполнения практической работы был изучен и реализован применение методов математической статистики для решения задач статистического анализа. Были приобретены навыки реализации этих методов с использованием специальных программных пакетов. Исследовав основные концепции и методы, овладели навыками проводить статистические тесты, анализировать выборочные данные, строить доверительные интервалы, проверять гипотезы и многое другое. Для различных семейств распределений построили оценки, асимптотические интервалы и гипотезы. В то же время активно были применяны программные пакеты, такие как Python с библиотеками NumPy и Scipy, которые содержат модули для работы со статистикой, распределениями и т.д. Эти прикладные программные пакеты оказались незаменимыми инструментами при реализации методов математической статистики, позволяя проводить анализ данных, вычислять статистические характеристики выборок, разрабатывать модели и многое другое."
      ],
      "metadata": {
        "id": "QX7-VGUuZf9G"
      }
    }
  ]
}
