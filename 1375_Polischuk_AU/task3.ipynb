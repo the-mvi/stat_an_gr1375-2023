{
  "cells": [
    {
      "cell_type": "markdown",
      "metadata": {
        "id": "RiW2CRTs5Oa0"
      },
      "source": [
        "# Практическая работа №3: Регрессионный анализ\n",
        "Выполнилa студентrf гр. 1375 Полищук Анфиса. Вариант №22"
      ]
    },
    {
      "cell_type": "markdown",
      "metadata": {
        "id": "4pS5bYeI5Oa4"
      },
      "source": [
        "## Цель работы\n",
        "Ознакомление с основными положениями метода наименьших квадратов (МНК), со статистическими свойствами МНК-оценок, с понятием функции регрессии и роли МНК в регрессионном анализе."
      ]
    },
    {
      "cell_type": "markdown",
      "metadata": {
        "id": "7A7vSKlK5Oa5"
      },
      "source": [
        "## Основные теоретические положения\n",
        "<b>1) Линейная регрессионная модель</b>\n",
        "\n",
        "Статистические данные $(Y, Z)$\n",
        "\n",
        "Линейная регрессионная модель: $\\mathbb{E_\\theta}(Y|Z) = X(Z)^{\\intercal}$\n",
        "\n",
        "Статистическая модель: $\\mathbb{E_\\theta}(Y|Z) = X^{\\intercal}\\beta, \\;\\; Var(Y|Z) = \\sigma^2E,\\;\\; X -$ Матрица регрессоров\n",
        "\n",
        "Альтернативная форма записис модели линейной регрессии: $Y = X^{\\intercal}\\beta + \\varepsilon,\\;\\; \\mathbb{E_\\theta}\\varepsilon = 0,\\;\\; Var_\\theta \\varepsilon = \\sigma^2E$\n",
        "\n",
        "<b>2) Несмещенная оценка дисперсии:</b>\n",
        "\n",
        "$S^2 = \\large\\frac{SS_e}{n -r} = \\large\\frac{RSS(\\widehat \\beta)}{n - r},$ где:\n",
        "\n",
        "$S^2 - $несмещенная оценка дисперсии\n",
        "\n",
        "$r$ - ранг матрицы $X$\n",
        "\n",
        "<b>3) Проверка гипотез</b>\n",
        "\n",
        "$\\mathbb{F} - $ критерий:\n",
        "\n",
        "Основная гипотеза: $H_0: \\psi = 0$\n",
        "\n",
        "$\\mathbb{F} - $ статистика: $\\mathbb{F} = \\large \\frac{SS_H(n -r)}{q SS_e}$\n",
        "\n",
        "$SS_H = RSS(\\widehat \\beta_H) - RSS(\\widehat \\beta)$\n",
        "\n",
        "$\\widehat \\beta_H$ - МНК оценка при выполнении основной гипотезы $\\psi = 0$\n",
        "\n",
        "$SS_e = R(\\widehat \\beta) = S^2(n - r)$\n",
        "\n",
        "Проверка гипотезы согласия:\n",
        "\n",
        "$\\mathbb{F} - $ статистика при основной гипотезе имеет распределение Фишера-Снедекора $\\mathcal{F}_{q, n - r}$\n",
        "\n",
        "Границы критической области: $x_\\alpha:\\mathcal{F}_{q, n - r}(x_\\alpha) = 1 - \\alpha $\n",
        "\n",
        "p-value: $pv = 1 - \\mathcal{F}_{q, n - r}(\\mathbb{F})$\n",
        "\n",
        "<b>5) Доверительный эллипсоид</b>\n",
        "\n",
        "Ключевое свойство нормального распределения: <br>\n",
        "$\\xi \\sim \\mathcal{N}(0, \\Sigma), \\det\\Sigma>0 \\Rightarrow \\xi^{\\intercal}\\Sigma^{-1}\\xi \\sim \\chi_q^2$\n",
        "\n",
        "Таким образом,\n",
        "\n",
        "$\\sigma^{-2}(\\hat\\psi - \\psi)^{\\intercal} B^{-1}(\\hat\\psi - \\psi) \\sim \\chi_q^2$\n",
        "\n",
        "Ввиду независимости $\\hat\\psi$ и $RSS(\\hat\\beta)$:\n",
        "\n",
        "$\\large\\frac{(\\hat\\psi - \\psi)^{\\intercal} B^{-1}(\\hat\\psi - \\psi)}{qS^2} \\sim \\mathcal{F}_{q,n-r}$\n",
        "\n",
        "Доверительный эллипсоид уровня доверия $1-\\alpha$ функции параметра $\\psi$\n",
        "\n",
        "$A_\\alpha = \\{\\overrightarrow x:(\\overrightarrow x - \\widehat \\psi )B^{-1}(\\overrightarrow x - \\widehat \\psi) \\leq qS^2x_\\alpha\\}$, где $x_{\\alpha}: \\mathcal{F}_{q, n-r}(x_{\\alpha}) = 1 - \\alpha$\n",
        "\n",
        "<b>6) Статистика Колмогорова</b> - это отклонение теоретической функции распределения от эмпирической:\n",
        "\n",
        "$D_n=\\sup\\limits_{-\\infty < x < +\\infty}\\left|F_n(x)-F(x)\\right|$\n",
        "\n",
        "<b>7) Теорема Колмогорова:</b>\n",
        "\n",
        "$ \\lim\\limits_{n \\to \\infty} \\mathbb{P}(\\sqrt{n}D_n \\leq t) = K(t)$, где $K(t)$ - функция распределения Колмогорова\n",
        "\n",
        "<b>8) Критерий $\\chi^2$ для проверки простой гипотезы:</b>\n",
        "\n",
        "Статистика критерия: $X^2 = \\sum\\limits_{i=1}^r \\frac{(n_i - np_{i})^2}{np_{i}}$\n",
        "\n",
        "где:\n",
        "\n",
        "$p_{i} = F(I_j)$ - гипотетические вероятности попадания в интервалы\n",
        "\n",
        "r - количество зон разбиения\n",
        "\n",
        "$I_i$, $n_i$ - абсолютные частоты в интервале $I_i$\n",
        "\n",
        "Асимптотический критерий уровня значимости $\\alpha$:\n",
        "$\\phi(x) = \\left\\{\\begin{array}{l} 0,X^2 \\leq x_{\\alpha}\\\\1, X^2 > x_{\\alpha}\\end{array}\\right.$\n",
        "\n",
        "где $x_\\alpha: K_{r-1}(x_\\alpha)=1-\\alpha$,\n",
        "\n",
        "$K_{r-1}$ - функция распределения $ \\chi_{r-1}^2$<br>\n",
        "\n",
        "<b>9) Критерий $\\chi^2$ для проверки сложной гипотезы:</b>\n",
        "\n",
        "Асимптотический критерий уровня значимости $\\alpha$:\n",
        "\n",
        " $\\hat\\phi(x) = \\left\\{\\begin{array}{l} 0,\\widehat X^2 \\leq x_{\\alpha}\\\\1, \\widehat X^2 > x_{\\alpha}\\end{array}\\right.$\n",
        "\n",
        "где $x_\\alpha: K_{r-d-1}(x_\\alpha)=1-\\alpha$,\n",
        "\n",
        "$K_{r-d-1}$ - функция распределения $ \\chi_{r-d-1}^2$\n",
        "\n",
        "<b>10) МНК</b>\n",
        "\n",
        "$RSS\\left(\\beta\\right)=\\left(Y-X^T\\beta\\right)^T\\left(Y-X^T\\beta\\right)\\underset\\beta{\\rightarrow\\min}$<br>\n",
        "Система нормальных уравнений в матричном виде: $XX^{\\intercal}\\beta=XY$<br>\n",
        "Решение системы нормальных уравнений: $\\widehat\\beta=\\left(XX^{\\intercal}\\right)^{-1}XY$\n",
        "\n"
      ]
    },
    {
      "cell_type": "markdown",
      "metadata": {
        "id": "CDg1r3pM5Oa5"
      },
      "source": [
        "## Постановка задачи\n",
        "Результаты статистического эксперимента представлены в виде двух переменных. Требуется оценить характер (случайной) зависимости переменной Y от переменной X.Полученные результаты содержательно проинтерпретировать."
      ]
    },
    {
      "cell_type": "markdown",
      "metadata": {
        "id": "ii3sTvW85Oa5"
      },
      "source": [
        "## Выполнение работы\n",
        "####<b>1) Построить графически результаты эксперимента. Сформулировать линейную регрессионную модель переменной Y по переменной X. Построить МНК оценки параметров сдвига $\\beta_0$ и масштаба $\\beta_1$. Построить полученную линию регрессии. Оценить визуально соответствие полученных данных и построенной оценки.</b>\n",
        "\n",
        "Графическое представлние результатов эксперимента:"
      ]
    },
    {
      "cell_type": "code",
      "execution_count": 1018,
      "metadata": {
        "id": "iFab7MIV5Oa6",
        "colab": {
          "base_uri": "https://localhost:8080/",
          "height": 472
        },
        "outputId": "6a053bc7-b03e-4c0a-c80e-e99deddf025d"
      },
      "outputs": [
        {
          "output_type": "display_data",
          "data": {
            "text/plain": [
              "<Figure size 640x480 with 1 Axes>"
            ],
            "image/png": "[encoded data removed]"
          },
          "metadata": {}
        }
      ],
      "source": [
        "import math\n",
        "import numpy as np\n",
        "import matplotlib.pyplot as plt\n",
        "import prettytable\n",
        "import scipy.stats as st\n",
        "\n",
        "x = [3, 2, 1, 1, 1, 1, 1, 2, 2, 3, 1, 3, 1, 2, 3, 2, 2, 2, 1, 2, 0, 3, 0, 2, 1, 2, 2, 0, 3, 2, 1, 2, 3, 2, 1, 2, 2, 2, 2, 1, 1, 2, 0, 3, 2, 1, 0, 1, 3, 1]\n",
        "y = [7.51, 4.69, 2.43, 23.92, 6.88, 8.63, 10.06, 5.39, 0.51, 17.19, 17.68, 15.74, 13.47, 8.16, 14.47, 2.93, 2.12, 4.74, 19.02, 6.73, 24.17, 13.27, 1.40, 25.78, 19.16, 6.33, 19.76, 16.85, 10.95, 13.74, 19.92, 17.65, 15.34, 13.89, 13.60, 2.68, 21.31, 13.49, 10.03, 14.75, 16.82, 6.82, 1.47, 2.71, 6.90, 5.51, 27.20, 27.92, 5.92, 8.06]\n",
        "\n",
        "n = len(x)\n",
        "plt.scatter(x, y)\n",
        "plt.xlabel('X')\n",
        "plt.ylabel('Y')\n",
        "plt.title('Графическое представлние результатов эксперимента')\n",
        "plt.show()"
      ]
    },
    {
      "cell_type": "markdown",
      "source": [
        "Альтернативная форма записи модели линейной регрессии:\n",
        "\n",
        "$Y = X^\\intercal\\beta + \\varepsilon;\\;\\; \\mathbb{E_\\theta}\\varepsilon = 0;\\;\\; Var_\\theta \\varepsilon = \\sigma^2E$\n",
        "\n",
        "$Y = \\beta_0 + \\beta_1 X + \\varepsilon $\n",
        "\n",
        "МНК оценки параметров сдвига $\\beta_0$ и масштаба $\\beta_1$:\n",
        "\n",
        "Нормальные уравнения: $ X X^\\intercal \\beta = XY$\n",
        "\n",
        "Решение системы нормальных уравнений в регулярном случае: $\\widehat \\beta = \\left( X X^\\intercal\\right)^{-1} XY$\n",
        "\n",
        "$Y = \\begin{pmatrix}1&x_1\\\\1&x_2\\\\...&...\\\\1&x_{49}\\\\1&x_{50}\\end{pmatrix}\\begin{pmatrix}\\beta_0\\\\\\beta_1\\end{pmatrix}$\n",
        "\n",
        "<br>\n",
        "\n",
        "$X = \\begin{pmatrix}1&1&...&1&1\\\\x_1&x_2&...&x_{49}&x_{50}\\end{pmatrix}$\n",
        "\n",
        "$ X X^\\intercal = \\begin{pmatrix}1&1&...&1&1\\\\x_1&x_2&...&x_{49}&x_{50}\\end{pmatrix}\\begin{pmatrix}1&x_1\\\\1&x_2\\\\...&...\\\\1&x_{49}\\\\1&x_{50}\\end{pmatrix} = \\begin{pmatrix}50&83\\\\83&177\\end{pmatrix}$\n",
        "\n",
        "<br>\n",
        "\n",
        "$\\left( X X^\\intercal\\right)^{-1} = \\begin{pmatrix}0.09026007&-0.04232534\\\\-0.04232534&0.0254972\\end{pmatrix}$\n",
        "\n",
        "<br>\n",
        "\n",
        "$Y = \\begin{pmatrix}y_1\\\\y_2\\\\...\\\\y_{49}\\\\y_{50}\\end{pmatrix}$\n",
        "\n",
        "<br>\n",
        "\n",
        "$\\widehat \\beta = \\begin{pmatrix}14.639\\\\-1.642\\end{pmatrix} \\Rightarrow Y\\approx 14.639 -1.642X$\n"
      ],
      "metadata": {
        "id": "rYbCGTs5ASKD"
      }
    },
    {
      "cell_type": "code",
      "source": [
        "X = np.vstack((np.ones(len(x)), x))\n",
        "Y = np.array(y)\n",
        "#Произведение матрицы X и транспонированной матрицы X (матрица произведения)\n",
        "product_X = np.dot(X, X.T)\n",
        "\n",
        "#Матрица, обратная матрице произведения\n",
        "inv_X = np.linalg.inv(product_X)\n",
        "\n",
        "beta = np.dot(np.dot(inv_X, X), Y)\n",
        "\n",
        "print(\"Матрица X:\")\n",
        "print(X)\n",
        "print(\"Произведение матрицы X и транспонированной матрицы X:\")\n",
        "print(product_X)\n",
        "print(\"Обратная матрица:\")\n",
        "print(inv_X)\n",
        "print(\"Бета с крышкой:\")\n",
        "print(beta)"
      ],
      "metadata": {
        "colab": {
          "base_uri": "https://localhost:8080/"
        },
        "id": "LyqqRt2LIm0V",
        "outputId": "d435b738-7553-4af9-d07d-b705d8bfd5c5"
      },
      "execution_count": 1019,
      "outputs": [
        {
          "output_type": "stream",
          "name": "stdout",
          "text": [
            "Матрица X:\n",
            "[[1. 1. 1. 1. 1. 1. 1. 1. 1. 1. 1. 1. 1. 1. 1. 1. 1. 1. 1. 1. 1. 1. 1. 1.\n",
            "  1. 1. 1. 1. 1. 1. 1. 1. 1. 1. 1. 1. 1. 1. 1. 1. 1. 1. 1. 1. 1. 1. 1. 1.\n",
            "  1. 1.]\n",
            " [3. 2. 1. 1. 1. 1. 1. 2. 2. 3. 1. 3. 1. 2. 3. 2. 2. 2. 1. 2. 0. 3. 0. 2.\n",
            "  1. 2. 2. 0. 3. 2. 1. 2. 3. 2. 1. 2. 2. 2. 2. 1. 1. 2. 0. 3. 2. 1. 0. 1.\n",
            "  3. 1.]]\n",
            "Произведение матрицы X и транспонированной матрицы X:\n",
            "[[ 50.  83.]\n",
            " [ 83. 177.]]\n",
            "Обратная матрица:\n",
            "[[ 0.09026007 -0.04232534]\n",
            " [-0.04232534  0.0254972 ]]\n",
            "Бета с крышкой:\n",
            "[14.63839878 -1.64156553]\n"
          ]
        }
      ]
    },
    {
      "cell_type": "code",
      "source": [
        "plt.scatter(x, y)\n",
        "plt.plot(np.array(x), 14.639 - 1.642*np.array(x), 'r-')\n",
        "plt.title(\"Линия регрессии и исходные данные\")\n",
        "plt.xlabel(\"X\")\n",
        "plt.ylabel(\"Y\")\n",
        "plt.show()"
      ],
      "metadata": {
        "colab": {
          "base_uri": "https://localhost:8080/",
          "height": 472
        },
        "id": "-qWs1W_YVH1g",
        "outputId": "826aaeca-9953-48bd-c1ee-8771d52335b2"
      },
      "execution_count": 1020,
      "outputs": [
        {
          "output_type": "display_data",
          "data": {
            "text/plain": [
              "<Figure size 640x480 with 1 Axes>"
            ],
            "image/png": "[encoded data removed]"
          },
          "metadata": {}
        }
      ]
    },
    {
      "cell_type": "markdown",
      "source": [
        "Визуально оценивая соответствие исходных данных и полученной оценки можно сказать, что линия регрессии проходит через диапазон значений. Сверху и снизу от линии регрессии находятся примерно одинаковое количество значений Y, полученных при одинаковых X."
      ],
      "metadata": {
        "id": "dbNbXZc58c_D"
      }
    },
    {
      "cell_type": "markdown",
      "source": [
        "#### <b>2) Построить и интерпретировать несмещенную оценку дисперсии. На базе ошибок построить гистограмму с шагом h. Проверить гипотезу нормальности ошибок на уровне значимости $\\alpha$ по $\\chi^2$.Оценить расстояние полученной оценки до класса нормальных распределений по Колмогорову. Визуально оценить данный факт.</b>\n",
        "\n",
        "<b>Несмещенная оценка дисперсии:</b>\n",
        "\n",
        "$s^2 = \\large\\frac{RSS(\\widehat \\beta)}{n - r} = \\large \\frac{(Y - X^\\intercal \\widehat \\beta)^\\intercal(Y - X^\\intercal \\widehat \\beta)}{n - r} = 54.142$\n",
        "\n"
      ],
      "metadata": {
        "id": "PdAehptTWh09"
      }
    },
    {
      "cell_type": "markdown",
      "source": [
        "Значение оценки дисперсии достаточное большое. Чем большее значение дисперсии, тем шире разброс значений относительно среднего выборочного"
      ],
      "metadata": {
        "id": "3TS4b5iz-Lx4"
      }
    },
    {
      "cell_type": "code",
      "source": [
        "epsilon = Y - np.dot(X.T, beta) #ошибки\n",
        "rank_X = np.linalg.matrix_rank(X) #ранг матрицы X\n",
        "RSS = np.dot(epsilon.T, epsilon)\n",
        "disp = RSS/(n - rank_X)\n",
        "print(\"Квадраты ошибок:\")\n",
        "print(RSS)\n",
        "print(\"Дисперсия = \", disp)"
      ],
      "metadata": {
        "colab": {
          "base_uri": "https://localhost:8080/"
        },
        "id": "aLJYsqJ2aLGI",
        "outputId": "f7d87e6b-fd3f-44ae-b7d5-1d47c200dec0"
      },
      "execution_count": 1021,
      "outputs": [
        {
          "output_type": "stream",
          "name": "stdout",
          "text": [
            "Квадраты ошибок:\n",
            "2598.8355218765937\n",
            "Дисперсия =  54.14240670576237\n"
          ]
        }
      ]
    },
    {
      "cell_type": "markdown",
      "source": [
        "<b>Гистограмма с шагом $h = 3.1$ на базе ошибок: </b>"
      ],
      "metadata": {
        "id": "WO2xc5vyg3An"
      }
    },
    {
      "cell_type": "code",
      "source": [
        "h = 3.1\n",
        "bins = np.arange(min(epsilon), max(epsilon) + h, h) # определение границ интервалов гистограммы\n",
        "counts, _ = np.histogram(epsilon, bins=bins)\n",
        "\n",
        "plt.bar(bins[:-1], counts, align='edge', width=h, edgecolor='black')\n",
        "plt.xlabel('ɛ')\n",
        "plt.ylabel('Частота')\n",
        "plt.title('Гистограмма частот с шагом h = 3.1')\n",
        "plt.show()\n"
      ],
      "metadata": {
        "colab": {
          "base_uri": "https://localhost:8080/",
          "height": 472
        },
        "id": "ecVywNCneFd4",
        "outputId": "b3e684b6-92cd-484a-b7e0-5625242bea23"
      },
      "execution_count": 1022,
      "outputs": [
        {
          "output_type": "display_data",
          "data": {
            "text/plain": [
              "<Figure size 640x480 with 1 Axes>"
            ],
            "image/png": "[encoded data removed]"
          },
          "metadata": {}
        }
      ]
    },
    {
      "cell_type": "markdown",
      "source": [
        "<b>Проверим гипотезу нормальности ошибок на уровне значимсоти $\\alpha$ по $\\chi^2$ </b>\n",
        "\n"
      ],
      "metadata": {
        "id": "f9dpZpjwg5K1"
      }
    },
    {
      "cell_type": "code",
      "source": [
        "val_interval = []#массив, подмассивы которого содержат элементы выборки, находящиеся в интервале\n",
        "count_val = []#содержит количество элементов выборки в каждом интервале\n",
        "for i in range(len(bins)-1):\n",
        "    interval_values = [e for e in epsilon if bins[i] <= e < bins[i+1]]\n",
        "    val_interval.append(interval_values)\n",
        "    count_val.append(len(interval_values))\n",
        "\n",
        "start_end = np.vstack((bins[:-1], bins[1:])).T #массив, содеражщий начало и конец каждого интервала\n",
        "\n",
        "start_end[0][0] = -np.inf\n",
        "start_end[len(count_val) - 1][1] = np.inf\n",
        "\n",
        "#вывод таблицы\n",
        "def IntervalsTable(count_val, start_end):\n",
        "  table = prettytable.PrettyTable()\n",
        "  table.field_names = [\"№\", \"Интервал\", \"Количество значений\"]\n",
        "  for i in range(len(count_val)):\n",
        "      if i == len(count_val) - 1:\n",
        "        interval = '(' + \"{:.3f}\".format(start_end[i][0]) + \"; \" + \"{:.3f}\".format(start_end[i][1]) + ')'\n",
        "      else:\n",
        "        interval = '(' + \"{:.3f}\".format(start_end[i][0]) + \"; \" + \"{:.3f}\".format(start_end[i][1]) + ']'\n",
        "      count = count_val[i] if len(val_interval[i]) > 0 else 0\n",
        "      table.add_row([i+1, interval, count])\n",
        "  return table\n",
        "\n",
        "\n",
        "\n",
        "table = IntervalsTable(count_val, start_end)\n",
        "print(table)\n",
        "\n",
        "#объединение интервалов\n",
        "def mergeIntervals(count_val, start_end):\n",
        "  new_start_end = []\n",
        "  new_count_val = []\n",
        "  current_start = start_end[0][0]\n",
        "  total_count = 0\n",
        "  for i in range(len(count_val)):\n",
        "    current_count = count_val[i]\n",
        "    total_count += current_count\n",
        "\n",
        "    if total_count >= 5:\n",
        "        current_end = start_end[i][1]\n",
        "\n",
        "        new_start_end.append([current_start, current_end])\n",
        "        new_count_val.append(total_count)\n",
        "\n",
        "        current_start = start_end[i+1][0]\n",
        "        total_count = 0\n",
        "  new_start_end[len(new_start_end) - 1][1] = np.inf\n",
        "  return new_start_end, new_count_val\n",
        "\n",
        "start_end, count_val = mergeIntervals(count_val, start_end)\n",
        "\n",
        "print(\"Объединим некоторые интервалы, чтобы в каждом было не менее 5ти значений\")\n",
        "table = IntervalsTable(count_val, start_end)\n",
        "print(table)\n",
        "r = len(count_val)\n",
        "print(\"Количество зон: r = \", r )\n",
        "\n"
      ],
      "metadata": {
        "colab": {
          "base_uri": "https://localhost:8080/"
        },
        "id": "Q93_gYC2jwFZ",
        "outputId": "90c3f5db-d4bf-4033-86ac-0156f4624f7d"
      },
      "execution_count": 1023,
      "outputs": [
        {
          "output_type": "stream",
          "name": "stdout",
          "text": [
            "+----+-------------------+---------------------+\n",
            "| №  |      Интервал     | Количество значений |\n",
            "+----+-------------------+---------------------+\n",
            "| 1  |  (-inf; -10.138]  |          4          |\n",
            "| 2  | (-10.138; -7.038] |          4          |\n",
            "| 3  |  (-7.038; -3.938] |          11         |\n",
            "| 4  |  (-3.938; -0.838] |          5          |\n",
            "| 5  |  (-0.838; 2.262]  |          6          |\n",
            "| 6  |   (2.262; 5.362]  |          6          |\n",
            "| 7  |   (5.362; 8.462]  |          8          |\n",
            "| 8  |  (8.462; 11.562]  |          3          |\n",
            "| 9  |  (11.562; 14.662] |          2          |\n",
            "| 10 |   (14.662; inf)   |          1          |\n",
            "+----+-------------------+---------------------+\n",
            "Объединим некоторые интервалы, чтобы в каждом было не менее 5ти значений\n",
            "+---+------------------+---------------------+\n",
            "| № |     Интервал     | Количество значений |\n",
            "+---+------------------+---------------------+\n",
            "| 1 |  (-inf; -7.038]  |          8          |\n",
            "| 2 | (-7.038; -3.938] |          11         |\n",
            "| 3 | (-3.938; -0.838] |          5          |\n",
            "| 4 | (-0.838; 2.262]  |          6          |\n",
            "| 5 |  (2.262; 5.362]  |          6          |\n",
            "| 6 |  (5.362; 8.462]  |          8          |\n",
            "| 7 |   (8.462; inf)   |          5          |\n",
            "+---+------------------+---------------------+\n",
            "Количество зон: r =  7\n"
          ]
        }
      ]
    },
    {
      "cell_type": "markdown",
      "source": [
        "Гипотеза нормальности ошибок - $H_0: \\varepsilon \\sim  \\mathcal N\\left(\\overrightarrow 0, \\sigma^2E\\right)$\n",
        "\n",
        "$\\sigma^2 = (0, 54.142)$\n",
        "\n",
        "$p_{i}=P_{H_{0}}\\left(\\alpha< X < \\beta \\right)= \\Phi\\left(\\frac{\\beta -\\alpha}{\\sigma}\\right) - \\Phi\\left(\\frac{\\alpha - a}{\\sigma}\\right)$\n"
      ],
      "metadata": {
        "id": "gzYTW-4Zk6T2"
      }
    },
    {
      "cell_type": "code",
      "source": [
        "def funcF(start_end, count_val, a, disp, n):\n",
        "  sigma = disp**0.5\n",
        "  p = []\n",
        "  np = []\n",
        "  zone_sums = []\n",
        "  for i in range(len(start_end)):\n",
        "    start = start_end[i][0]\n",
        "    end = start_end[i][1]\n",
        "    p.append(round(st.norm.cdf(end, loc = a, scale=sigma) - st.norm.cdf(start, loc = a, scale=sigma), 3))\n",
        "    np.append(round(p[i]*n, 3))\n",
        "    zone_sums.append((count_val[i] - np[i])**2/np[i])\n",
        "  chi_sample = sum(zone_sums)\n",
        "  return p, np, zone_sums, chi_sample\n",
        "\n",
        "a = 0\n",
        "alpha = 0.05\n",
        "p, np, zone_sums, chi_sample = funcF(start_end, count_val, a, disp, n)\n",
        "\n",
        "table.add_column(\"pi\", p)\n",
        "table.add_column(\"n*pi\", np)\n",
        "table.add_column(\"(ni - npi)^2/npi\", p)\n",
        "print(table)\n",
        "print(\"Критерий хи-квадрат по выборке = \", chi_sample)\n",
        "r = r - 1\n",
        "print(\"Квантиль при количестве степеней свободы = \", r, \"и уровне значимости = \", alpha, \" = \", st.chi2.ppf(1 - alpha, r))\n",
        "print(\"Наибольшее значение уровня значимости, при котором нет еще оснований отвергнуть данную гипотезу = \", 1 - st.chi2.cdf(chi_sample, r))"
      ],
      "metadata": {
        "colab": {
          "base_uri": "https://localhost:8080/"
        },
        "id": "qwr5OORKmXb8",
        "outputId": "39c05f95-e957-4c39-fcc9-cf96e5ebd82f"
      },
      "execution_count": 1024,
      "outputs": [
        {
          "output_type": "stream",
          "name": "stdout",
          "text": [
            "+---+------------------+---------------------+-------+------+------------------+\n",
            "| № |     Интервал     | Количество значений |   pi  | n*pi | (ni - npi)^2/npi |\n",
            "+---+------------------+---------------------+-------+------+------------------+\n",
            "| 1 |  (-inf; -7.038]  |          8          | 0.169 | 8.45 |      0.169       |\n",
            "| 2 | (-7.038; -3.938] |          11         | 0.127 | 6.35 |      0.127       |\n",
            "| 3 | (-3.938; -0.838] |          5          | 0.158 | 7.9  |      0.158       |\n",
            "| 4 | (-0.838; 2.262]  |          6          | 0.166 | 8.3  |      0.166       |\n",
            "| 5 |  (2.262; 5.362]  |          6          | 0.146 | 7.3  |      0.146       |\n",
            "| 6 |  (5.362; 8.462]  |          8          | 0.108 | 5.4  |      0.108       |\n",
            "| 7 |   (8.462; inf)   |          5          | 0.125 | 6.25 |      0.125       |\n",
            "+---+------------------+---------------------+-------+------+------------------+\n",
            "Критерий хи-квадрат по выборке =  6.8643476680602395\n",
            "Квантиль при количестве степеней свободы =  6 и уровне значимости =  0.05  =  12.591587243743977\n",
            "Наибольшее значение уровня значимости, при котором нет еще оснований отвергнуть данную гипотезу =  0.3335747480081992\n"
          ]
        }
      ]
    },
    {
      "cell_type": "markdown",
      "source": [
        "Критерий $\\chi^2$(по выборке) $=\\sum\\limits_{i=1}^{r}\\frac{(n_{i}-np_{i})^{2}}{np_{i}} = 6.864$\n",
        "\n",
        "Квантиль $x_\\alpha: K_{r - 1}(x_\\alpha) = 1 - \\alpha,\\;\\;$ где $K -$ функция распределения хи-квадрат.\n",
        "\n",
        "$r = 7,\\;\\; \\alpha = 0.05 ⇒ x_{0.05}: K_{6}(x_{0.05}) = 0.95$\n",
        "\n",
        "$x_{0.05} = 12.592 ⇒ x_{0.05} >  \\chi^2 ⇒$ нет оснований отвергать гипотезу $H_0 $\n",
        "\n",
        "Наибольшее значение уровня значимости, при котором нет еще оснований отвергнуть данную гипотезу $\\approx  0.334$\n",
        "\n",
        "<b> Оценка расстояния полученной оценки до класса нормальных распределений по Колмогорову</b>\n",
        "\n",
        "Основная гипотеза: $H_0: \\varepsilon \\sim  \\mathcal N\\left(\\overrightarrow 0, \\sigma^2E\\right)$;\n",
        "\n",
        "Статистика критерия Колмогорова: $D_n = \\sup_{X\\in \\mathbb{R}}\\left|F_n\\left(x\\right) - F_0\\left(x\\right) \\right|$\n",
        "\n",
        "$F_n\\left(x\\right)$ - выборочная функция распределения\n",
        "\n",
        "$F_0$ - непрерывная функция распределения(теоретическая)$\n",
        "\n",
        "Найдем $D_n$:\n",
        "\n"
      ],
      "metadata": {
        "id": "M2BoH9bDnHaa"
      }
    },
    {
      "cell_type": "code",
      "source": [
        "def normalCdf(x):\n",
        "  a = 0\n",
        "  sigma = 54.142**0.5\n",
        "  return st.norm.cdf(x, loc=a, scale=sigma)\n",
        "\n",
        "\n",
        "\n",
        "# Вычисляем статистику критерия Колмогорова и p-значение\n",
        "Dn, p_value = st.kstest(epsilon, normalCdf)\n",
        "Dn = round(Dn, 3)\n",
        "print(\"Статистика критерия Колмогорова:\", Dn)\n",
        "Dn*= n**0.5\n",
        "print(\"(корень из n *Dn) = \", round(Dn, 3))\n",
        "print(\"p-значение:\", p_value)"
      ],
      "metadata": {
        "colab": {
          "base_uri": "https://localhost:8080/"
        },
        "id": "RHVZhrdo3FTZ",
        "outputId": "99924fea-d2a6-4b4d-aee4-75d0119bb1b4"
      },
      "execution_count": 1025,
      "outputs": [
        {
          "output_type": "stream",
          "name": "stdout",
          "text": [
            "Статистика критерия Колмогорова: 0.104\n",
            "(корень из n *Dn) =  0.735\n",
            "p-значение: 0.6196328546827571\n"
          ]
        }
      ]
    },
    {
      "cell_type": "markdown",
      "source": [
        "$D_n \\approx 0.104$\n",
        "\n",
        "По теореме Колмогорова: $\\sqrt n\\cdot D_n \\Rightarrow \\mathcal K$ при основной гипотезе\n",
        "\n",
        "$\\sqrt n\\cdot D_n \\approx 0.735$\n",
        "\n",
        "$x_{\\alpha}: K_n\\left(x_{\\alpha}\\right) = 1 - \\alpha = 0.95,\\;\\;K -$ функция распределения Колмогорова"
      ],
      "metadata": {
        "id": "VD2izPyA3FxP"
      }
    },
    {
      "cell_type": "code",
      "source": [
        "#квантиль\n",
        "xAlpha = st.kstwobign.ppf(1 - alpha)\n",
        "print(\"Значение x_alpha:\", round(xAlpha, 3))"
      ],
      "metadata": {
        "colab": {
          "base_uri": "https://localhost:8080/"
        },
        "id": "A6qS_pkRB1N-",
        "outputId": "83b26d6c-55b3-4cca-f553-10f7ca0b836c"
      },
      "execution_count": 1026,
      "outputs": [
        {
          "output_type": "stream",
          "name": "stdout",
          "text": [
            "Значение x_alpha: 1.358\n"
          ]
        }
      ]
    },
    {
      "cell_type": "markdown",
      "source": [
        "$x_{\\alpha} = 1.358$\n",
        "\n",
        "$\\sqrt n\\cdot D_n < x_{\\alpha} \\Rightarrow $ нет оснований отвергать гипотезу $H_0$\n",
        "\n",
        "Наибольшеее значение уровня значимости, на котором еще нет оснований отвергать гипотезу $\\approx 0.62$\n",
        "\n",
        "<b> Визуальная оценка:</b>"
      ],
      "metadata": {
        "id": "fTzCoznMCQcH"
      }
    },
    {
      "cell_type": "code",
      "source": [
        "import numpy as np\n",
        "def Fn(x, epsilon, n):\n",
        "  f = 0\n",
        "  for i in range(n):\n",
        "    if epsilon[i] < x:\n",
        "      f += 1\n",
        "  return f / n\n",
        "\n",
        "x_val = np.arange(min(epsilon), max(epsilon), 0.01)\n",
        "e_real = [Fn(x,epsilon, n) for x in x_val]\n",
        "\n",
        "e_norm = [st.norm.cdf(x, a,disp**0.5) for x in x_val]\n",
        "\n",
        "plt.title('Выборочная функция распределения ошибки и функция нормального распределения')\n",
        "plt.xlabel('ɛ')\n",
        "plt.ylabel('F(ɛ)')\n",
        "plt.plot(x_val, e_real)\n",
        "plt.plot(x_val, e_norm, color='r')\n",
        "plt.show()"
      ],
      "metadata": {
        "colab": {
          "base_uri": "https://localhost:8080/",
          "height": 472
        },
        "id": "hjAEIG_ZDgZH",
        "outputId": "b4bbcaa8-0cba-4974-926f-207cc4ddd337"
      },
      "execution_count": 1027,
      "outputs": [
        {
          "output_type": "display_data",
          "data": {
            "text/plain": [
              "<Figure size 640x480 with 1 Axes>"
            ],
            "image/png": "[encoded data removed]"
          },
          "metadata": {}
        }
      ]
    },
    {
      "cell_type": "markdown",
      "source": [
        "На основании полученного графика, который представляет собой сравнение распределения выборки с теоретической функцией распределения, можно сделать следующий вывод: в начале и в конце графика наблюдаются небольшие отклонения, однако на интервале  приблизительно от -5 до 5 есть значительные расхождения как в сторону нижней, так и в сторону верхней части графика, однако при уровне значимости $1 - \\alpha $ нет оснований отвергать гипотезу $H_0$"
      ],
      "metadata": {
        "id": "GnOGEqFVBXYQ"
      }
    },
    {
      "cell_type": "markdown",
      "source": [
        "#### <b>3) В предположении нормальности ошибок построить доверительные интервалы для параметров $\\beta_0$ и $\\beta_1$ уровня доверия $1 - \\alpha$. Построить доверительный эллипс уровня доверия $1 - \\alpha$ для $(\\beta_0, \\beta_1)$.(вычислить его полуоси)</b>\n",
        "\n",
        "ДНО функция: $\\psi = C^{\\intercal}\\beta,\\;\\; C -$ матрица определения параметров\n",
        "\n",
        "МНК оценка: $\\widehat \\psi = C^{\\intercal}\\widehat\\beta$\n",
        "\n",
        "Элемент дисперсии оценки: $b_\\psi = C^{\\intercal}\\left( X X^\\intercal\\right)^{-1}C$\n",
        "\n",
        "Распределение: $\\large\\frac{\\widehat \\psi - \\psi }{s\\sqrt b} \\sim S_{n - r}$\n",
        "\n",
        "1.\n",
        "$C_0^{\\intercal} = \\begin{pmatrix}1&0\\end{pmatrix}$\n",
        "\n",
        "  $C_1^{\\intercal} = \\begin{pmatrix}0&1\\end{pmatrix}$\n",
        "\n",
        "2. $\\widehat\\psi_0 = \\begin{pmatrix}1&0\\end{pmatrix} \\begin{pmatrix}14.639\\\\-1.642\\end{pmatrix} = 14.639$\n",
        "<br>\n",
        "\n",
        "  $\\widehat\\psi_1 = \\begin{pmatrix}0&1\\end{pmatrix} \\begin{pmatrix}14.639\\\\-1.642\\end{pmatrix} = -1.642$\n",
        "\n",
        "3. $\\large b_{\\psi_0} = C_0^{\\intercal}\\left( X X^\\intercal\\right)^{-1}C_0 \\approx 0.09$\n",
        "\n",
        "  $\\large b_{\\psi_1} = C_1^{\\intercal}\\left( X X^\\intercal\\right)^{-1}C_1 \\approx 0.025$"
      ],
      "metadata": {
        "id": "_7gbQKAoMQaG"
      }
    },
    {
      "cell_type": "code",
      "source": [
        "C0 = np.array([1, 0])\n",
        "C1 = np.array([0, 1])\n",
        "b0 = round(np.dot(np.dot(C0.T, inv_X ), C0),3)\n",
        "b1 = round(np.dot(np.dot(C1.T, inv_X ), C1),3)\n",
        "print(\"b_psi_1 = \", b0,\"b_psi_2 = \", b1)"
      ],
      "metadata": {
        "colab": {
          "base_uri": "https://localhost:8080/"
        },
        "id": "rehaTPlZUCXK",
        "outputId": "3a40c9aa-b97d-49fa-cbaa-b717839900c1"
      },
      "execution_count": 1028,
      "outputs": [
        {
          "output_type": "stream",
          "name": "stdout",
          "text": [
            "b_psi_1 =  0.09 b_psi_2 =  0.025\n"
          ]
        }
      ]
    },
    {
      "cell_type": "markdown",
      "source": [
        "4. $x_\\alpha: S_{n - r}(x_\\alpha) = 1 - \\frac{\\alpha}{2} = 0.975;\\;\\; S -$ функция распределения Стьюдента\n",
        "\n",
        "  $x_\\alpha = 2.011$"
      ],
      "metadata": {
        "id": "YhrImHDCXgEN"
      }
    },
    {
      "cell_type": "code",
      "source": [
        "x_alpha = st.t.ppf(1 - alpha/2, n - 2)\n",
        "print(\"x_alpha = \", round(x_alpha, 3))"
      ],
      "metadata": {
        "colab": {
          "base_uri": "https://localhost:8080/"
        },
        "id": "75ZtSnt9Xg6E",
        "outputId": "4de0f52d-1cad-49fb-b5ce-22c80da8eb16"
      },
      "execution_count": 1029,
      "outputs": [
        {
          "output_type": "stream",
          "name": "stdout",
          "text": [
            "x_alpha =  2.011\n"
          ]
        }
      ]
    },
    {
      "cell_type": "markdown",
      "source": [
        "$S = 7.35812$\n",
        "\n",
        "5. Доверительный интервал уровня доверия $1 - \\alpha:$\n",
        "\n",
        "  $\\large\\left[\\widehat \\psi - x_\\alpha S\\sqrt b,\\;\\; \\widehat \\psi + x_\\alpha S\\sqrt b\\right] \\ni \\psi$\n",
        "\n",
        "  Подставим все известные значения и получим:"
      ],
      "metadata": {
        "id": "wu8BWyr_ZQ7G"
      }
    },
    {
      "cell_type": "code",
      "source": [
        "def dovInterval(psi, x_alpha, S, b):\n",
        "  start = round(psi - x_alpha*S*(b**0.5),3)\n",
        "  end = round(psi + x_alpha*S*(b**0.5),3)\n",
        "  return [start, end]\n",
        "\n",
        "print(\"beta0 принадлежит\", dovInterval(beta[0], x_alpha, disp**0.5, b0))\n",
        "print(\"beta1 принадлежит\", dovInterval(beta[1], x_alpha, disp**0.5, b1))\n"
      ],
      "metadata": {
        "colab": {
          "base_uri": "https://localhost:8080/"
        },
        "id": "tc-VhILkavU5",
        "outputId": "800e0168-f106-4fba-bfb2-4988f5747f69"
      },
      "execution_count": 1030,
      "outputs": [
        {
          "output_type": "stream",
          "name": "stdout",
          "text": [
            "beta0 принадлежит [10.2, 19.077]\n",
            "beta1 принадлежит [-3.981, 0.698]\n"
          ]
        }
      ]
    },
    {
      "cell_type": "markdown",
      "source": [
        "Доверительные интервалы для параметров $\\beta_0$ и $\\beta_1$:\n",
        "\n",
        "$\\beta_0 \\in [10.2, 19.077]$\n",
        "\n",
        "$\\beta_1 \\in [-3.981, 0.698]$\n",
        "\n",
        "<b> Доверительный эллипс уровня доверия $1 - \\alpha$ для $(\\beta_0, \\beta_1)$</b>\n",
        "\n",
        "$\\large\\frac{(\\widehat \\psi - \\psi)^{\\intercal}B^{-1}(\\widehat \\psi - \\psi)}{qS^2} \\sim \\mathcal{F}_{q, n - r},\\;\\; \\mathcal F - $ функция распределения Фишера-Снедекора\n",
        "\n",
        "$B =  C^{\\intercal}\\left( X X^\\intercal\\right)^{-1}C$\n",
        "\n",
        "Доверительный эллипс:\n",
        "\n",
        "$A_\\alpha = \\{\\overrightarrow x:(\\overrightarrow x - \\widehat \\psi )B^{-1}(\\overrightarrow x - \\widehat \\psi) \\leq qS^2x_\\alpha\\}$ (*)\n",
        "\n",
        "где $x_\\alpha:\\mathcal{F}_{q, n - r}(x_\\alpha) = 1 - \\alpha $\n",
        "\n",
        "$C = \\begin{pmatrix}1&0\\\\0&1\\end{pmatrix}$\n",
        "\n",
        "$\\widehat \\psi = β$\n",
        "\n",
        "С помощью кода найдем  набор таких векторов $\\overrightarrow \\beta$, которые удовлетворяют условию (*)"
      ],
      "metadata": {
        "id": "ENXviyUjcnlV"
      }
    },
    {
      "cell_type": "code",
      "source": [
        "\n",
        "def dovEllipce(inv_X, beta, n, disp, alpha):#inv_x = (XX^T)^-1, beta - массив значений параметров\n",
        "  q = len(beta)\n",
        "  x_vec1 = []\n",
        "  x_vec2 = []\n",
        "  #вычисляем квантиль\n",
        "  x_alpha =  st.f.ppf(1 - alpha, q, n - q)\n",
        "  C = np.eye(q)\n",
        "  qSx = q*disp*x_alpha\n",
        "  psi = np.dot(C, beta)\n",
        "  inv_B = np.linalg.inv(np.dot(np.dot(C, inv_X), C))\n",
        "  for x1 in np.arange(7, 22, 0.01):\n",
        "    for x2 in np.arange(-5, 4, 0.01):\n",
        "      x = np.array([x1, x2])\n",
        "      x_psi = x - psi\n",
        "      if np.dot(np.dot(x_psi.T, inv_B), x_psi) <= qSx:\n",
        "        x_vec1.append(x1)\n",
        "        x_vec2.append(x2)\n",
        "  return x_vec1, x_vec2, inv_B, x_alpha\n",
        "\n",
        "\n",
        "beta1, beta2, inv_B, x_alpha = dovEllipce(inv_X, beta, n, disp, alpha)\n",
        "plt.title('Доверительный эллипс')\n",
        "plt.xlabel('β0', fontsize=12)\n",
        "plt.ylabel('β1', fontsize=12)\n",
        "plt.scatter(beta1, beta2, marker=',', color='purple')\n",
        "plt.show()\n",
        "\n",
        "\n"
      ],
      "metadata": {
        "colab": {
          "base_uri": "https://localhost:8080/",
          "height": 476
        },
        "id": "43Pmy1iazm0N",
        "outputId": "e0d80688-ece7-4cb7-ba5b-ef7f3a15674e"
      },
      "execution_count": 1031,
      "outputs": [
        {
          "output_type": "display_data",
          "data": {
            "text/plain": [
              "<Figure size 640x480 with 1 Axes>"
            ],
            "image/png": "[encoded data removed]"
          },
          "metadata": {}
        }
      ]
    },
    {
      "cell_type": "markdown",
      "source": [
        "<b>Вычисление полуосей</b>\n",
        "\n",
        "1. Найдем выражение эллипса:\n",
        "\n",
        "$(\\overrightarrow x - \\widehat \\psi )B^{-1}(\\overrightarrow x - \\widehat \\psi)= \\left(\\begin{pmatrix}\\beta_0\\\\\\beta_1\\end{pmatrix}\\;-\\;\\begin{pmatrix}14.639\\\\-1.642\\end{pmatrix}\\right)^{\\intercal}\\cdot\\begin{pmatrix}50&83\\\\83&177\\end{pmatrix} \\cdot \\left(\\begin{pmatrix}\\beta_0\\\\\\beta_1\\end{pmatrix}\\;-\\;\\begin{pmatrix}14.639\\\\-1.642\\end{pmatrix}\\right) $"
      ],
      "metadata": {
        "id": "uMtvuyQMDqh1"
      }
    },
    {
      "cell_type": "code",
      "source": [
        "import sympy\n",
        "\n",
        "b0, b1 = sympy.symbols('b0 b1')\n",
        "\n",
        "b = sympy.Matrix([[b0 - 14.639], [b1 + 1.642]])\n",
        "B_inv = sympy.Matrix([[50, 83], [83, 177]])\n",
        "result = b.T * B_inv * b\n",
        "result = result[0]\n",
        "\n",
        "print(\"Выражение, задающее эллипс \", result)\n",
        "result = sympy.expand(result)\n",
        "result = sympy.collect(result, [b0, b1])\n",
        "result = sympy.expand(result)\n",
        "print(\"Упрощенное выражение:  \", result)"
      ],
      "metadata": {
        "colab": {
          "base_uri": "https://localhost:8080/"
        },
        "id": "Mk0p7id5Gn_M",
        "outputId": "7049a8bd-d591-4f79-84b3-589dd9188043"
      },
      "execution_count": 1032,
      "outputs": [
        {
          "output_type": "stream",
          "name": "stdout",
          "text": [
            "Выражение, задающее эллипс  (b0 - 14.639)*(50*b0 + 83*b1 - 595.664) + (b1 + 1.642)*(83*b0 + 177*b1 - 924.403)\n",
            "Упрощенное выражение:   50*b0**2 + 166*b0*b1 - 1191.328*b0 + 177*b1**2 - 1848.806*b1 + 7202.05557\n"
          ]
        }
      ]
    },
    {
      "cell_type": "markdown",
      "source": [
        "$50\\beta_0^2 + 166\\beta_0\\cdot \\beta_1 - 1191.328\\beta_0 + 177\\beta_1^2 - 1848.806\\beta_1 + 7202.05557$\n",
        "\n",
        "Запишем матрицу квадратичной формы, используя коэффиценты при $\\beta_0^2, \\;\\;\\beta_1^2, \\;\\;\\beta_0\\cdot \\beta_1$\n",
        "\n",
        "$A = \\begin{pmatrix}50&83\\\\83&177\\end{pmatrix} $\n",
        "\n",
        "Найдем характеристическое уравнение и собственные числа:"
      ],
      "metadata": {
        "id": "IAS44XitL7eM"
      }
    },
    {
      "cell_type": "code",
      "source": [
        "lambda_ = sympy.symbols('lambda')\n",
        "A =  sympy.Matrix([[50, 83], [83, 177]])\n",
        "char_eqn = A.charpoly(lambda_)\n",
        "char_eqn = sympy.simplify(char_eqn.as_expr())\n",
        "print(\"Характеристическое уравнение матрицы A:\", char_eqn, \" = 0\")\n",
        "\n",
        "#решение уравнения\n",
        "solutions = sympy.solve(char_eqn, lambda_)\n",
        "\n",
        "print(\"Корни характеристического уравнения:\")\n",
        "for i in range(len(solutions)):\n",
        "  s = \"λ\" + str(i + 1) + \" = \"\n",
        "  solutions[i] = round(solutions[i].evalf(),3)\n",
        "  print(s , solutions[i])"
      ],
      "metadata": {
        "colab": {
          "base_uri": "https://localhost:8080/"
        },
        "id": "LH5MxJmSP3vI",
        "outputId": "49fef7b5-b5eb-4b7c-d273-84cc8e5c4a73"
      },
      "execution_count": 1033,
      "outputs": [
        {
          "output_type": "stream",
          "name": "stdout",
          "text": [
            "Характеристическое уравнение матрицы A: lambda**2 - 227*lambda + 1961  = 0\n",
            "Корни характеристического уравнения:\n",
            "λ1 =  8.995\n",
            "λ2 =  218.005\n"
          ]
        }
      ]
    },
    {
      "cell_type": "markdown",
      "source": [
        "$\\det(A - \\lambda E) = \\begin{vmatrix}50 - \\lambda &83\\\\83&177 - \\lambda\\end{vmatrix} = \\lambda^2 - 227\\lambda + 1961 = 0\\Rightarrow \\lambda_1 = 8.995 ;\\;\\;\\lambda_2 = 218.005$\n",
        "\n",
        "Найдем полуоси, используя собственные числа по формуле $\\large\\sqrt{\\frac{qS^2 x_\\alpha}{\\lambda_i}}$"
      ],
      "metadata": {
        "id": "jKUnC4kbRExV"
      }
    },
    {
      "cell_type": "code",
      "source": [
        "q = len(beta)\n",
        "for i in range(len(solutions)):\n",
        "  s = str(i+1) + \"я полуось = \"\n",
        "  print(s, round(((q*disp*x_alpha)/solutions[i])**0.5,3))"
      ],
      "metadata": {
        "colab": {
          "base_uri": "https://localhost:8080/"
        },
        "id": "0I9QEnF7ZQLB",
        "outputId": "5e6b8e81-4088-4533-f5e2-e029cf0dead4"
      },
      "execution_count": 1034,
      "outputs": [
        {
          "output_type": "stream",
          "name": "stdout",
          "text": [
            "1я полуось =  6.198\n",
            "2я полуось =  1.259\n"
          ]
        }
      ]
    },
    {
      "cell_type": "markdown",
      "source": [
        "Большая полуось = $6.198$\n",
        "\n",
        "Малая полуось = $1.259$"
      ],
      "metadata": {
        "id": "CUhAn2Gfeq7u"
      }
    },
    {
      "cell_type": "markdown",
      "source": [
        "#### <b>4) Сформулировать гипотезу независимости переменной Y от переменной X.Провести проверку значимости</b>\n",
        "\n",
        "$Y \\not\\sim X $\n",
        "\n",
        "$Y = \\beta_0 + \\beta_1X\\;\\;$ т.к. $X \\neq \\overrightarrow 0,\\;\\;$ то для того, чтобы Y не зависела от X, необходимо чтобы $\\beta_1 = 0$\n",
        "\n",
        "$\\psi = C^{\\intercal}\\beta,\\;\\; C = \\begin{pmatrix}0\\\\1\\end{pmatrix} \\Rightarrow \\psi = \\begin{pmatrix}0&1\\end{pmatrix}\\begin{pmatrix}\\beta_0\\\\\\beta_1\\end{pmatrix} = \\beta_1$\n",
        "\n",
        "Основная гипотеза $H_0: \\psi = 0$\n",
        "\n",
        "$\\mathbb{F} - $ статистика: $\\mathbb{F} = \\large \\frac{SS_H(n -r)}{q SS_e}$\n",
        "\n",
        "$SS_H = RSS(\\widehat \\beta_H) - RSS(\\widehat \\beta)$\n",
        "\n",
        "$\\widehat \\beta_H$ - МНК оценка при выполнении основной гипотезы $\\psi = 0$\n",
        "\n",
        "$SS_e = R(\\widehat \\beta) = S^2(n - r)$\n",
        "\n",
        "$\\large \\frac{(n - r)S^2}{\\sigma^2} =\\frac{RSS(\\widehat \\beta)}{\\sigma^2} \\sim \\chi_{n - r}^2$\n",
        "\n",
        "$\\Rightarrow \\mathbb{F} = \\large\\frac{RSS(\\widehat \\beta_H) - (n - r)S^2}{q S^2}$\n",
        "\n",
        "$\\widehat \\beta_H = (XX^{\\intercal})^{-1}XY = 11.9134$\n",
        "\n",
        "где $X = \\begin{pmatrix}1\\\\1\\\\...\\\\1\\\\1\\end{pmatrix}, \\;\\; Y-$вектор исходных значений Y\n",
        "\n",
        "$RSS(\\widehat \\beta_H) = (Y - X^\\intercal \\widehat \\beta_H)^\\intercal (Y - X^\\intercal \\widehat \\beta_H) = 2704.523$\n",
        "\n",
        "$r = 2, \\;\\; n = 50,\\;\\; q = 1 ,\\;\\; S^2 = 54.142 \\Rightarrow$\n",
        "\n",
        "$\\mathbb{F} = \\large\\frac{2704.523 - (50 - 2)\\cdot 54.142}{1\\cdot 54.142} = 1.952$\n"
      ],
      "metadata": {
        "id": "kd1nDOlHe-gG"
      }
    },
    {
      "cell_type": "code",
      "source": [
        "X = np.array([[1]*n])\n",
        "product_X = np.dot(X, X.T)\n",
        "inv_X = np.linalg.inv(product_X)\n",
        "beta_h = np.dot(np.dot(inv_X, X), Y)\n",
        "print(\"βH = \", beta_h)\n",
        "Y_XB = Y - np.dot(X.T, beta_h)\n",
        "RSS = round(np.dot(Y_XB.T, Y_XB),3)\n",
        "print(\"RSS(βH) = \", RSS)\n",
        "r = 2\n",
        "q = 1\n",
        "F = (RSS - (n -r)*disp)/(q*disp)\n",
        "print(\"F - критерий = \", round(F,3))"
      ],
      "metadata": {
        "colab": {
          "base_uri": "https://localhost:8080/"
        },
        "id": "HW5iVR2NmewK",
        "outputId": "f386d136-2013-4929-e44f-155553f2b756"
      },
      "execution_count": 1035,
      "outputs": [
        {
          "output_type": "stream",
          "name": "stdout",
          "text": [
            "βH =  [11.9134]\n",
            "RSS(βH) =  2704.523\n",
            "F - критерий =  1.952\n"
          ]
        }
      ]
    },
    {
      "cell_type": "markdown",
      "source": [
        "$x_\\alpha:\\mathcal{F}_{q, n - r}(x_\\alpha) = 1 - \\alpha, \\;\\; \\mathcal F - $функция распределения Фишера-Снедекора\n",
        "\n",
        "$\\mathcal{F}_{1, 48}(x_\\alpha) = 0. 95 \\Rightarrow x_\\alpha = 4.04265$\n",
        "\n",
        "$x_\\alpha > \\mathbb{F} \\Rightarrow $ нет оснований отвергать гипотезу"
      ],
      "metadata": {
        "id": "TgGQJzBur7Qq"
      }
    },
    {
      "cell_type": "code",
      "source": [
        "x_alpha =  st.f.ppf(1 - alpha, q, n - r)\n",
        "print(\"x_alpha = \", x_alpha)"
      ],
      "metadata": {
        "colab": {
          "base_uri": "https://localhost:8080/"
        },
        "id": "jndnm6h4t4qz",
        "outputId": "a3da8df0-a88c-42c3-b349-fa03b66b9376"
      },
      "execution_count": 1036,
      "outputs": [
        {
          "output_type": "stream",
          "name": "stdout",
          "text": [
            "x_alpha =  4.042652128566653\n"
          ]
        }
      ]
    },
    {
      "cell_type": "markdown",
      "source": [
        "Наибольшее значение уровня значимости, при котором еще нет оснований отвергнуть гипотезу $H_0 = 1 - \\mathcal{F}_{q, n - r}(\\mathbb{F}) = 0.169$"
      ],
      "metadata": {
        "id": "qQwT_mo1uznK"
      }
    },
    {
      "cell_type": "code",
      "source": [
        "print(\"Наибольшее значение уровня значимости, при котором еще нет оснований отвергнуть гипотезу = \", round(1 - st.f.cdf(F, q , n - r),3))"
      ],
      "metadata": {
        "colab": {
          "base_uri": "https://localhost:8080/"
        },
        "id": "jFAQTkBHvpEG",
        "outputId": "ce0c45a2-579c-42c9-f4ef-395c89f44d4f"
      },
      "execution_count": 1037,
      "outputs": [
        {
          "output_type": "stream",
          "name": "stdout",
          "text": [
            "Наибольшее значение уровня значимости, при котором еще нет оснований отвергнуть гипотезу =  0.169\n"
          ]
        }
      ]
    },
    {
      "cell_type": "markdown",
      "source": [
        "#### <b>5) Сформулировать модель, включающую дополнительный член с $X^2$. Построить МНК оценки параметров $\\beta_0, \\beta_1, \\beta_2$ в данной модели. Изобразить графически полученную регрессионную зависимость </b>\n",
        "\n",
        "$Y = \\beta_0 + \\beta_1 X + \\beta_2 X^2 $\n",
        "\n",
        "МНК оценки параметров $\\beta_0, \\beta_1, \\beta_2$:\n",
        "\n",
        "Нормальные уравнения: $ X X^\\intercal \\beta = XY$\n",
        "\n",
        "Решение системы нормальных уравнений в регулярном случае: $\\widehat \\beta = \\left( X X^\\intercal\\right)^{-1} XY$\n",
        "\n",
        "$Y =X^\\intercal\\beta= \\begin{pmatrix}1&x_1 & x_1^2\\\\1&x_2 & x_2^2\\\\...&...&...\\\\1&x_{49} & x_{49}^2\\\\1&x_{50} &x_{50}^2\\end{pmatrix}\\begin{pmatrix}\\beta_0\\\\\\beta_1\\\\\\beta_2\\end{pmatrix}$\n",
        "\n",
        "<br>\n",
        "\n",
        "$X = \\begin{pmatrix}1&1&...&1&1\\\\x_1&x_2&...&x_{49}&x_{50}\\\\x_1^2&x_2^2&...&x_{49}^2&x_{50}^2\\end{pmatrix}$\n",
        "\n",
        "$ X X^\\intercal = \\begin{pmatrix}1&1&...&1&1\\\\x_1&x_2&...&x_{49}&x_{50}\\\\x_1^2&x_2^2&...&x_{49}^2&x_{50}^2\\end{pmatrix}\\begin{pmatrix}1&x_1 & x_1^2\\\\1&x_2 & x_2^2\\\\...&...&...\\\\1&x_{49} & x_{49}^2\\\\1&x_{50} &x_{50}^2\\end{pmatrix} = \\begin{pmatrix}50&83&177\\\\83&177&419\\\\177&419&1065\\end{pmatrix}$\n",
        "\n",
        "<br>\n",
        "\n",
        "$\\left( X X^\\intercal\\right)^{-1} = \\begin{pmatrix}0.17&-0.187&0.045\\\\-0.187&0.288&-0.082\\\\0.045&-0.082&0.026\\end{pmatrix}$\n",
        "\n",
        "<br>\n",
        "\n",
        "$Y = \\begin{pmatrix}y_1\\\\y_2\\\\...\\\\y_{49}\\\\y_{50}\\end{pmatrix}$\n",
        "\n",
        "<br>\n",
        "\n",
        "$\\widehat \\beta = \\begin{pmatrix}15.866\\\\-3.87\\\\0.698\\end{pmatrix} \\Rightarrow Y\\approx 15.866 -3.87 X + 0.698 X^2$\n"
      ],
      "metadata": {
        "id": "m0vglEUfw50v"
      }
    },
    {
      "cell_type": "code",
      "source": [
        "X = np.vstack((np.ones(len(x)), x, np.array(x)**2))\n",
        "#Y = np.array(y)\n",
        "#Произведение матрицы X и транспонированной матрицы X (матрица произведения)\n",
        "product_X = np.dot(X, X.T)\n",
        "\n",
        "#Матрица, обратная матрице произведения\n",
        "inv_X = np.linalg.inv(product_X)\n",
        "\n",
        "beta = np.dot(np.dot(inv_X, X), Y)\n",
        "\n",
        "print(\"Матрица X:\")\n",
        "print(X)\n",
        "print(\"Произведение матрицы X и транспонированной матрицы X:\")\n",
        "print(product_X)\n",
        "print(\"Обратная матрица:\")\n",
        "print(np.round(inv_X,3))\n",
        "print(\"Бета с крышкой:\")\n",
        "print(np.round(beta,3))"
      ],
      "metadata": {
        "colab": {
          "base_uri": "https://localhost:8080/"
        },
        "id": "Je9UbtM5yYqw",
        "outputId": "3b0da6c7-89f2-40cf-ab52-6c3c3aa862d5"
      },
      "execution_count": 1038,
      "outputs": [
        {
          "output_type": "stream",
          "name": "stdout",
          "text": [
            "Матрица X:\n",
            "[[1. 1. 1. 1. 1. 1. 1. 1. 1. 1. 1. 1. 1. 1. 1. 1. 1. 1. 1. 1. 1. 1. 1. 1.\n",
            "  1. 1. 1. 1. 1. 1. 1. 1. 1. 1. 1. 1. 1. 1. 1. 1. 1. 1. 1. 1. 1. 1. 1. 1.\n",
            "  1. 1.]\n",
            " [3. 2. 1. 1. 1. 1. 1. 2. 2. 3. 1. 3. 1. 2. 3. 2. 2. 2. 1. 2. 0. 3. 0. 2.\n",
            "  1. 2. 2. 0. 3. 2. 1. 2. 3. 2. 1. 2. 2. 2. 2. 1. 1. 2. 0. 3. 2. 1. 0. 1.\n",
            "  3. 1.]\n",
            " [9. 4. 1. 1. 1. 1. 1. 4. 4. 9. 1. 9. 1. 4. 9. 4. 4. 4. 1. 4. 0. 9. 0. 4.\n",
            "  1. 4. 4. 0. 9. 4. 1. 4. 9. 4. 1. 4. 4. 4. 4. 1. 1. 4. 0. 9. 4. 1. 0. 1.\n",
            "  9. 1.]]\n",
            "Произведение матрицы X и транспонированной матрицы X:\n",
            "[[  50.   83.  177.]\n",
            " [  83.  177.  419.]\n",
            " [ 177.  419. 1065.]]\n",
            "Обратная матрица:\n",
            "[[ 0.17  -0.187  0.045]\n",
            " [-0.187  0.288 -0.082]\n",
            " [ 0.045 -0.082  0.026]]\n",
            "Бета с крышкой:\n",
            "[15.866 -3.87   0.698]\n"
          ]
        }
      ]
    },
    {
      "cell_type": "code",
      "source": [
        "X_graf = np.vstack((np.ones(len(x)), sorted(x), np.array(sorted(x))**2))\n",
        "plt.scatter(x, y)\n",
        "plt.plot(np.array(sorted(x)), np.dot(X_graf.T, beta), 'r-')\n",
        "plt.title(\"Линия регрессии и исходные данные\")\n",
        "plt.xlabel(\"X\")\n",
        "plt.ylabel(\"Y\")\n",
        "plt.show()"
      ],
      "metadata": {
        "colab": {
          "base_uri": "https://localhost:8080/",
          "height": 472
        },
        "id": "-zOfhc1531x_",
        "outputId": "732f5ff4-bb41-4409-acda-f695f2d46e37"
      },
      "execution_count": 1039,
      "outputs": [
        {
          "output_type": "display_data",
          "data": {
            "text/plain": [
              "<Figure size 640x480 with 1 Axes>"
            ],
            "image/png": "[encoded data removed]"
          },
          "metadata": {}
        }
      ]
    },
    {
      "cell_type": "markdown",
      "source": [
        "#### <b>6) Построить несмещенную оценку дисперсии. Провести исследовование нормальности ошибок как в пункте 2.</b>\n",
        "\n",
        "<b>Несмещенная оценка дисперсии:</b>\n",
        "\n",
        "$s^2 = \\large\\frac{RSS(\\widehat \\beta)}{n - r} = \\large \\frac{(Y - X^\\intercal \\widehat \\beta)^\\intercal(Y - X^\\intercal \\widehat \\beta)}{n - r} = 54.891$"
      ],
      "metadata": {
        "id": "tKnAupEH6PcX"
      }
    },
    {
      "cell_type": "code",
      "source": [
        "epsilon = Y - np.dot(X.T, beta) #ошибки\n",
        "rank_X = np.linalg.matrix_rank(X) #ранг матрицы X\n",
        "RSS = np.dot(epsilon.T, epsilon)\n",
        "disp = RSS/(n - rank_X)\n",
        "print(\"Квадраты ошибок:\")\n",
        "print(RSS)\n",
        "print(\"Дисперсия = \", disp)"
      ],
      "metadata": {
        "colab": {
          "base_uri": "https://localhost:8080/"
        },
        "outputId": "99eac0a0-db78-4c8a-d813-801e22e32cb0",
        "id": "iJtYfn3W9CHr"
      },
      "execution_count": 1040,
      "outputs": [
        {
          "output_type": "stream",
          "name": "stdout",
          "text": [
            "Квадраты ошибок:\n",
            "2579.876570745016\n",
            "Дисперсия =  54.89099086691524\n"
          ]
        }
      ]
    },
    {
      "cell_type": "markdown",
      "source": [
        "<b>Гистограмма с шагом $h = 3.1$ на базе ошибок: </b>"
      ],
      "metadata": {
        "id": "qihIB-nt9H-c"
      }
    },
    {
      "cell_type": "code",
      "source": [
        "h = 3.1\n",
        "bins = np.arange(min(epsilon), max(epsilon) + h, h) # определение границ интервалов гистограммы\n",
        "counts, _ = np.histogram(epsilon, bins=bins)\n",
        "\n",
        "plt.bar(bins[:-1], counts, align='edge', width=h, edgecolor='black')\n",
        "plt.xlabel('ɛ')\n",
        "plt.ylabel('Частота')\n",
        "plt.title('Гистограмма частот с шагом h = 3.1')\n",
        "plt.show()\n"
      ],
      "metadata": {
        "colab": {
          "base_uri": "https://localhost:8080/",
          "height": 472
        },
        "outputId": "4e8a8ee5-82f1-4a4c-ef4e-143446c6acac",
        "id": "pVx0bLdA9QQ8"
      },
      "execution_count": 1041,
      "outputs": [
        {
          "output_type": "display_data",
          "data": {
            "text/plain": [
              "<Figure size 640x480 with 1 Axes>"
            ],
            "image/png": "[encoded data removed]"
          },
          "metadata": {}
        }
      ]
    },
    {
      "cell_type": "markdown",
      "source": [
        "<b>Проверим гипотезу нормальности ошибок на уровне значимсоти $\\alpha$ по $\\chi^2$ </b>\n",
        "\n"
      ],
      "metadata": {
        "id": "J4Kz7jo29gCY"
      }
    },
    {
      "cell_type": "code",
      "source": [
        "val_interval = []#массив, подмассивы которого содержат элементы выборки, находящиеся в интервале\n",
        "count_val = []#содержит количество элементов выборки в каждом интервале\n",
        "for i in range(len(bins)-1):\n",
        "    interval_values = [e for e in epsilon if bins[i] <= e < bins[i+1]]\n",
        "    val_interval.append(interval_values)\n",
        "    count_val.append(len(interval_values))\n",
        "\n",
        "start_end = np.vstack((bins[:-1], bins[1:])).T #массив, содеражщий начало и конец каждого интервала\n",
        "\n",
        "start_end[0][0] = -np.inf\n",
        "start_end[len(count_val) - 1][1] = np.inf\n",
        "\n",
        "#вывод таблицы\n",
        "table = IntervalsTable(count_val, start_end)\n",
        "print(table)\n",
        "\n",
        "#объединение интервалов\n",
        "start_end, count_val = mergeIntervals(count_val, start_end)\n",
        "count_val[len(count_val)-1] = 7\n",
        "\n",
        "print(\"Объединим некоторые интервалы, чтобы в каждом было не менее 5ти значений\")\n",
        "table = IntervalsTable(count_val, start_end)\n",
        "print(table)\n",
        "r = len(count_val)\n",
        "print(\"Количество зон: r = \", r )\n",
        "\n"
      ],
      "metadata": {
        "colab": {
          "base_uri": "https://localhost:8080/"
        },
        "outputId": "1f573756-8e7e-4c61-b2a3-6ed2590d262d",
        "id": "oCFCra-c9jt9"
      },
      "execution_count": 1042,
      "outputs": [
        {
          "output_type": "stream",
          "name": "stdout",
          "text": [
            "+----+-------------------+---------------------+\n",
            "| №  |      Интервал     | Количество значений |\n",
            "+----+-------------------+---------------------+\n",
            "| 1  |  (-inf; -11.366]  |          2          |\n",
            "| 2  | (-11.366; -8.266] |          3          |\n",
            "| 3  |  (-8.266; -5.166] |          8          |\n",
            "| 4  |  (-5.166; -2.066] |          10         |\n",
            "| 5  |  (-2.066; 1.034]  |          5          |\n",
            "| 6  |   (1.034; 4.134]  |          7          |\n",
            "| 7  |   (4.134; 7.234]  |          8          |\n",
            "| 8  |  (7.234; 10.334]  |          2          |\n",
            "| 9  |  (10.334; 13.434] |          3          |\n",
            "| 10 |   (13.434; inf)   |          2          |\n",
            "+----+-------------------+---------------------+\n",
            "Объединим некоторые интервалы, чтобы в каждом было не менее 5ти значений\n",
            "+---+------------------+---------------------+\n",
            "| № |     Интервал     | Количество значений |\n",
            "+---+------------------+---------------------+\n",
            "| 1 |  (-inf; -8.266]  |          5          |\n",
            "| 2 | (-8.266; -5.166] |          8          |\n",
            "| 3 | (-5.166; -2.066] |          10         |\n",
            "| 4 | (-2.066; 1.034]  |          5          |\n",
            "| 5 |  (1.034; 4.134]  |          7          |\n",
            "| 6 |  (4.134; 7.234]  |          8          |\n",
            "| 7 |   (7.234; inf)   |          7          |\n",
            "+---+------------------+---------------------+\n",
            "Количество зон: r =  7\n"
          ]
        }
      ]
    },
    {
      "cell_type": "markdown",
      "source": [
        "Гипотеза нормальности ошибок - $H_0: \\varepsilon \\sim  \\mathcal N\\left(\\overrightarrow 0, \\sigma^2E\\right)$\n",
        "\n",
        "$\\sigma^2 = (0, 54.891)$\n",
        "\n",
        "$p_{i}=P_{H_{0}}\\left(\\alpha< X < \\beta \\right)= \\Phi\\left(\\frac{\\beta -\\alpha}{\\sigma}\\right) - \\Phi\\left(\\frac{\\alpha - a}{\\sigma}\\right)$\n"
      ],
      "metadata": {
        "id": "Zwba8v4mAr6T"
      }
    },
    {
      "cell_type": "code",
      "source": [
        "a = 0\n",
        "alpha = 0.05\n",
        "p, np, zone_sums, chi_sample = funcF(start_end, count_val, a, disp, n)\n",
        "\n",
        "table.add_column(\"pi\", p)\n",
        "table.add_column(\"n*pi\", np)\n",
        "table.add_column(\"(ni - npi)^2/npi\", p)\n",
        "print(table)\n",
        "print(\"Критерий хи-квадрат по выборке = \", chi_sample)\n",
        "r = r - 1\n",
        "print(\"Квантиль при количестве степеней свободы = \", r, \"и уровне значимости = \", alpha, \" = \", st.chi2.ppf(1 - alpha, r))\n",
        "print(\"Наибольшее значение уровня значимости, при котором нет еще оснований отвергнуть данную гипотезу = \", 1 - st.chi2.cdf(chi_sample, r))"
      ],
      "metadata": {
        "colab": {
          "base_uri": "https://localhost:8080/"
        },
        "outputId": "0102c540-1f09-4f8b-e917-9dae23abb827",
        "id": "QiKQsXRQAzQk"
      },
      "execution_count": 1043,
      "outputs": [
        {
          "output_type": "stream",
          "name": "stdout",
          "text": [
            "+---+------------------+---------------------+-------+------+------------------+\n",
            "| № |     Интервал     | Количество значений |   pi  | n*pi | (ni - npi)^2/npi |\n",
            "+---+------------------+---------------------+-------+------+------------------+\n",
            "| 1 |  (-inf; -8.266]  |          5          | 0.132 | 6.6  |      0.132       |\n",
            "| 2 | (-8.266; -5.166] |          8          | 0.111 | 5.55 |      0.111       |\n",
            "| 3 | (-5.166; -2.066] |          10         | 0.147 | 7.35 |      0.147       |\n",
            "| 4 | (-2.066; 1.034]  |          5          | 0.165 | 8.25 |      0.165       |\n",
            "| 5 |  (1.034; 4.134]  |          7          | 0.156 | 7.8  |      0.156       |\n",
            "| 6 |  (4.134; 7.234]  |          8          | 0.124 | 6.2  |      0.124       |\n",
            "| 7 |   (7.234; inf)   |          7          | 0.164 | 8.2  |      0.164       |\n",
            "+---+------------------+---------------------+-------+------+------------------+\n",
            "Критерий хи-квадрат по выборке =  4.4853972098942325\n",
            "Квантиль при количестве степеней свободы =  6 и уровне значимости =  0.05  =  12.591587243743977\n",
            "Наибольшее значение уровня значимости, при котором нет еще оснований отвергнуть данную гипотезу =  0.6112880027479655\n"
          ]
        }
      ]
    },
    {
      "cell_type": "markdown",
      "source": [
        "Критерий $\\chi^2$(по выборке) $=\\sum\\limits_{i=1}^{r}\\frac{(n_{i}-np_{i})^{2}}{np_{i}} = 4.485$\n",
        "\n",
        "Квантиль $x_\\alpha: K_{r - 1}(x_\\alpha) = 1 - \\alpha,\\;\\;$ где $K -$ функция распределения хи-квадрат.\n",
        "\n",
        "$r = 7,\\;\\; \\alpha = 0.05 ⇒ x_{0.05}: K_{6}(x_{0.05}) = 0.95$\n",
        "\n",
        "$x_{0.05} = 12.592 ⇒ x_{0.05} >  \\chi^2 ⇒$ нет оснований отвергать гипотезу $H_0 $\n",
        "\n",
        "Наибольшее значение уровня значимости, при котором нет еще оснований отвергнуть данную гипотезу $\\approx  0.611$\n",
        "\n",
        "<b> Оценка расстояния полученной оценки до класса нормальных распределений по Колмогорову</b>\n",
        "\n",
        "Основная гипотеза: $H_0: \\varepsilon \\sim  \\mathcal N\\left(\\overrightarrow 0, \\sigma^2E\\right)$;\n",
        "\n",
        "Статистика критерия Колмогорова: $D_n = \\sup_{X\\in \\mathbb{R}}\\left|F_n\\left(x\\right) - F_0\\left(x\\right) \\right|$\n",
        "\n",
        "$F_n\\left(x\\right)$ - выборочная функция распределения\n",
        "\n",
        "$F_0$ - непрерывная функция распределения(теоретическая)$\n",
        "\n",
        "Найдем $D_n$:\n",
        "\n"
      ],
      "metadata": {
        "id": "F4bJk554A6FL"
      }
    },
    {
      "cell_type": "code",
      "source": [
        "def normalCdf(x):\n",
        "  a = 0\n",
        "  sigma = 54.891**0.5\n",
        "  return st.norm.cdf(x, loc=a, scale=sigma)\n",
        "\n",
        "# Вычисляем статистику критерия Колмогорова и p-значение\n",
        "Dn, p_value = st.kstest(epsilon, normalCdf)\n",
        "Dn = round(Dn, 3)\n",
        "print(\"Статистика критерия Колмогорова:\", Dn)\n",
        "Dn*= n**0.5\n",
        "print(\"(корень из n *Dn) = \", round(Dn, 3))\n",
        "print(\"p-значение:\", p_value)"
      ],
      "metadata": {
        "colab": {
          "base_uri": "https://localhost:8080/"
        },
        "outputId": "1615ed72-3565-4c05-e80a-98036b5fa835",
        "id": "UHAvD0hiA_ZM"
      },
      "execution_count": 1044,
      "outputs": [
        {
          "output_type": "stream",
          "name": "stdout",
          "text": [
            "Статистика критерия Колмогорова: 0.106\n",
            "(корень из n *Dn) =  0.75\n",
            "p-значение: 0.5879364925009412\n"
          ]
        }
      ]
    },
    {
      "cell_type": "markdown",
      "source": [
        "$D_n \\approx 0.106$\n",
        "\n",
        "По теореме Колмогорова: $\\sqrt n\\cdot D_n \\Rightarrow \\mathcal K$ при основной гипотезе\n",
        "\n",
        "$\\sqrt n\\cdot D_n \\approx 0.75$\n",
        "\n",
        "$x_{\\alpha}: K_n\\left(x_{\\alpha}\\right) = 1 - \\alpha = 0.95,\\;\\;K -$ функция распределения Колмогорова"
      ],
      "metadata": {
        "id": "LBOu9s7OBGqX"
      }
    },
    {
      "cell_type": "code",
      "source": [
        "#квантиль\n",
        "xAlpha = st.kstwobign.ppf(1 - alpha)\n",
        "print(\"Значение x_alpha:\", round(xAlpha, 3))"
      ],
      "metadata": {
        "colab": {
          "base_uri": "https://localhost:8080/"
        },
        "outputId": "8aa81654-d60a-45cd-97a5-2eca1ed8e462",
        "id": "_i82NDkBBMgq"
      },
      "execution_count": 1045,
      "outputs": [
        {
          "output_type": "stream",
          "name": "stdout",
          "text": [
            "Значение x_alpha: 1.358\n"
          ]
        }
      ]
    },
    {
      "cell_type": "markdown",
      "source": [
        "$x_{\\alpha} = 1.358$\n",
        "\n",
        "$\\sqrt n\\cdot D_n < x_{\\alpha} \\Rightarrow $ нет оснований отвергать гипотезу $H_0$\n",
        "\n",
        "Наибольшеее значение уровня значимости, на котором еще нет оснований отвергать гипотезу $\\approx 0.59$\n",
        "\n",
        "<b> Визуальная оценка:</b>"
      ],
      "metadata": {
        "id": "iH6ihR3ZBQ5T"
      }
    },
    {
      "cell_type": "code",
      "source": [
        "import numpy as np\n",
        "def Fn(x, epsilon, n):\n",
        "  f = 0\n",
        "  for i in range(n):\n",
        "    if epsilon[i] < x:\n",
        "      f += 1\n",
        "  return f / n\n",
        "\n",
        "x_val = np.arange(min(epsilon), max(epsilon), 0.01)\n",
        "e_real = [Fn(x,epsilon, n) for x in x_val]\n",
        "\n",
        "e_norm = [st.norm.cdf(x, a,disp**0.5) for x in x_val]\n",
        "\n",
        "plt.title('Выборочная функция распределения ошибки и функция нормального распределения')\n",
        "plt.xlabel('ɛ')\n",
        "plt.ylabel('F(ɛ)')\n",
        "plt.plot(x_val, e_real)\n",
        "plt.plot(x_val, e_norm, color='r')\n",
        "plt.show()"
      ],
      "metadata": {
        "colab": {
          "base_uri": "https://localhost:8080/",
          "height": 472
        },
        "outputId": "6432dee5-6b86-4618-bbdf-154bb1911141",
        "id": "qWgIoVE3BVG2"
      },
      "execution_count": 1046,
      "outputs": [
        {
          "output_type": "display_data",
          "data": {
            "text/plain": [
              "<Figure size 640x480 with 1 Axes>"
            ],
            "image/png": "[encoded data removed]"
          },
          "metadata": {}
        }
      ]
    },
    {
      "cell_type": "markdown",
      "source": [
        "Выборочная функция  распределения визуально имеет небольшие отклонения от теоретической Исключением является интервал от -5 до 0, в котором наблюдается наибольшее отклонение. Однако это отклонение не настолько велико, чтобы опровергнуть гипотезу $H_0$ при уровне значимости $1 - \\alpha$"
      ],
      "metadata": {
        "id": "MNi_5il4hKP4"
      }
    },
    {
      "cell_type": "markdown",
      "source": [
        "#### <b>7) В предположении нормальности ошибок построить доверительные интервалы для параметров $\\beta_0$ и $\\beta_1$ уровня доверия $1 - \\alpha$. Написать уравнение доверительного эллипсоида доверия $1 - \\alpha</b>\n",
        "\n",
        "ДНО функция: $\\psi = C^{\\intercal}\\beta,\\;\\; C -$ матрица определения параметров\n",
        "\n",
        "МНК оценка: $\\widehat \\psi = C^{\\intercal}\\widehat\\beta$\n",
        "\n",
        "Элемент дисперсии оценки: $b_\\psi = C^{\\intercal}\\left( X X^\\intercal\\right)^{-1}C$\n",
        "\n",
        "Распределение: $\\large\\frac{\\widehat \\psi - \\psi }{s\\sqrt b} \\sim S_{n - r}$\n",
        "\n",
        "1.\n",
        "$C_0^{\\intercal} = \\begin{pmatrix}1&0&0\\end{pmatrix}$\n",
        "\n",
        "  $C_1^{\\intercal} = \\begin{pmatrix}0&1&0\\end{pmatrix}$\n",
        "\n",
        "  $C_2^{\\intercal} = \\begin{pmatrix}0&0&1\\end{pmatrix}$\n",
        "\n",
        "2. $\\widehat\\psi_0 = \\begin{pmatrix}1&0&0\\end{pmatrix} \\begin{pmatrix}15.866\\\\-3.87\\\\0.698\\end{pmatrix} = 15.866$\n",
        "<br>\n",
        "\n",
        "  $\\widehat\\psi_1 = \\begin{pmatrix}0&1&0\\end{pmatrix} \\begin{pmatrix}15.866\\\\-3.87\\\\0.698\\end{pmatrix} = -3.87$\n",
        "  <br>\n",
        "\n",
        "  $\\widehat\\psi_2 = \\begin{pmatrix}0&0&1\\end{pmatrix} \\begin{pmatrix}15.866\\\\-3.87\\\\0.698\\end{pmatrix} = 0.698$\n",
        "\n",
        "3. $\\large b_{\\psi_0} = C_0^{\\intercal}\\left( X X^\\intercal\\right)^{-1}C_0 \\approx 0.17$\n",
        "\n",
        "  $\\large b_{\\psi_1} = C_1^{\\intercal}\\left( X X^\\intercal\\right)^{-1}C_1 \\approx 0.288$\n",
        "\n",
        "  $\\large b_{\\psi_2} = C_2^{\\intercal}\\left( X X^\\intercal\\right)^{-1}C_2 \\approx 0.026$"
      ],
      "metadata": {
        "id": "7NF-DPKOHmEA"
      }
    },
    {
      "cell_type": "code",
      "source": [
        "C0 = np.array([1, 0, 0])\n",
        "C1 = np.array([0, 1, 0])\n",
        "C2 = np.array([0, 0, 1])\n",
        "b0 = round(np.dot(np.dot(C0.T, inv_X ), C0),3)\n",
        "b1 = round(np.dot(np.dot(C1.T, inv_X ), C1),3)\n",
        "b2 = round(np.dot(np.dot(C2.T, inv_X ), C2),3)\n",
        "print(\"b_psi_0 = \", b0,\"b_psi_1 = \", b1, \"b_psi_2 = \", b2)"
      ],
      "metadata": {
        "colab": {
          "base_uri": "https://localhost:8080/"
        },
        "outputId": "c7e5117a-38df-42cf-a4ee-0430735c852e",
        "id": "v_mg-HeEKOSo"
      },
      "execution_count": 1047,
      "outputs": [
        {
          "output_type": "stream",
          "name": "stdout",
          "text": [
            "b_psi_0 =  0.17 b_psi_1 =  0.288 b_psi_2 =  0.026\n"
          ]
        }
      ]
    },
    {
      "cell_type": "markdown",
      "source": [
        "4. $x_\\alpha: S_{n - r}(x_\\alpha) = 1 - \\frac{\\alpha}{2} = 0.975;\\;\\; S -$ функция распределения Стьюдента\n",
        "\n",
        "  $x_\\alpha = 2.012$"
      ],
      "metadata": {
        "id": "iETuYZSJKVUn"
      }
    },
    {
      "cell_type": "code",
      "source": [
        "x_alpha = st.t.ppf(1 - alpha/2, n - 3)\n",
        "print(\"x_alpha = \", round(x_alpha, 3))"
      ],
      "metadata": {
        "colab": {
          "base_uri": "https://localhost:8080/"
        },
        "outputId": "9860a2a8-8554-452a-9b27-22d62880fee4",
        "id": "re_1aI5SKZjm"
      },
      "execution_count": 1048,
      "outputs": [
        {
          "output_type": "stream",
          "name": "stdout",
          "text": [
            "x_alpha =  2.012\n"
          ]
        }
      ]
    },
    {
      "cell_type": "markdown",
      "source": [
        "$S = 7.40885$\n",
        "\n",
        "5. Доверительный интервал уровня доверия $1 - \\alpha:$\n",
        "\n",
        "  $\\large\\left[\\widehat \\psi - x_\\alpha S\\sqrt b,\\;\\; \\widehat \\psi + x_\\alpha S\\sqrt b\\right] \\ni \\psi$\n",
        "\n",
        "  Подставим все известные значения и получим:"
      ],
      "metadata": {
        "id": "z1g5hNybKhqZ"
      }
    },
    {
      "cell_type": "code",
      "source": [
        "def dovInterval(psi, x_alpha, S, b):\n",
        "  start = round(psi - x_alpha*S*(b**0.5),3)\n",
        "  end = round(psi + x_alpha*S*(b**0.5),3)\n",
        "  return [start, end]\n",
        "\n",
        "print(\"beta0 принадлежит\", dovInterval(beta[0], x_alpha, disp**0.5, b0))\n",
        "print(\"beta1 принадлежит\", dovInterval(beta[1], x_alpha, disp**0.5, b1))\n",
        "print(\"beta2 принадлежит\", dovInterval(beta[2], x_alpha, disp**0.5, b2))\n",
        "\n"
      ],
      "metadata": {
        "colab": {
          "base_uri": "https://localhost:8080/"
        },
        "outputId": "a96a88f1-8196-403e-8435-26df4ef59fe1",
        "id": "dPSBrtRiKoEj"
      },
      "execution_count": 1049,
      "outputs": [
        {
          "output_type": "stream",
          "name": "stdout",
          "text": [
            "beta0 принадлежит [9.721, 22.012]\n",
            "beta1 принадлежит [-11.869, 4.128]\n",
            "beta2 принадлежит [-1.705, 3.102]\n"
          ]
        }
      ]
    },
    {
      "cell_type": "markdown",
      "source": [
        "Доверительные интервалы для параметров $\\beta_0, \\beta_1, \\beta_2$:\n",
        "\n",
        "$\\beta_0 \\in [9.721, 22.012]$\n",
        "\n",
        "$\\beta_1 \\in [-3.98, 0.696]$\n",
        "\n",
        "$\\beta_2 \\in [-1.705, 3.102]$\n",
        "\n",
        "<b> Доверительный эллипсоид уровня доверия $1 - \\alpha$ для $(\\beta_0, \\beta_1, \\beta_2)$</b>\n",
        "\n",
        "$\\large\\frac{(\\widehat \\psi - \\psi)^{\\intercal}B^{-1}(\\widehat \\psi - \\psi)}{qS^2} \\sim \\mathcal{F}_{q, n - r},\\;\\; \\mathcal F - $ функция распределения Фишера-Снедекора\n",
        "\n",
        "$B =  C^{\\intercal}\\left( X X^\\intercal\\right)^{-1}C$\n",
        "\n",
        "Доверительный эллипсоид:\n",
        "\n",
        "$A_\\alpha = \\{\\overrightarrow x:(\\overrightarrow x - \\widehat \\psi )B^{-1}(\\overrightarrow x - \\widehat \\psi) \\leq qS^2x_\\alpha\\}$ (*)\n",
        "\n",
        "где $x_\\alpha:\\mathcal{F}_{q, n - r}(x_\\alpha) = 1 - \\alpha $\n",
        "\n",
        "$C = \\begin{pmatrix}1&0&0\\\\0&1&0\\\\0&0&1\\end{pmatrix}$\n",
        "\n",
        "$\\widehat \\psi = β$\n",
        "\n",
        "С помощью кода найдем  набор таких векторов $\\overrightarrow \\beta$, которые удовлетворяют условию (*)"
      ],
      "metadata": {
        "id": "EFNh8GhwKwGe"
      }
    },
    {
      "cell_type": "code",
      "source": [
        "from mpl_toolkits.mplot3d import Axes3D\n",
        "def dovEllipce(inv_X, beta, n, disp, alpha):#inv_x = (XX^T)^-1, beta - массив значений параметров\n",
        "  q = len(beta)\n",
        "  x_vec1 = []\n",
        "  x_vec2 = []\n",
        "  x_vec3 = []\n",
        "  #вычисляем квантиль\n",
        "  x_alpha =  st.f.ppf(1 - alpha, q, n - q)\n",
        "  C = np.eye(q)\n",
        "  qSx = q*disp*x_alpha\n",
        "  psi = np.dot(C, beta)\n",
        "  inv_B = np.linalg.inv(np.dot(np.dot(C, inv_X), C))\n",
        "  for x1 in np.arange(0, 25, 0.15):\n",
        "    for x2 in np.arange(-10, 7, 0.15):\n",
        "      for x3 in np.arange(-9, 10, 0.15):\n",
        "        x = np.array([x1, x2, x3])\n",
        "        x_psi = x - psi\n",
        "        if np.dot(np.dot(x_psi.T, inv_B), x_psi) <= qSx:\n",
        "          x_vec1.append(x1)\n",
        "          x_vec2.append(x2)\n",
        "          x_vec3.append(x3)\n",
        "  return x_vec1, x_vec2, x_vec3, inv_B, x_alpha\n",
        "\n",
        "beta1, beta2, beta3,  inv_B, x_alpha = dovEllipce(inv_X, beta, n, disp, alpha)\n",
        "\n",
        "beta1 = np.array(beta1)\n",
        "beta2 = np.array(beta2)\n",
        "beta3 = np.array(beta3)\n",
        "# Создание трехмерной фигуры\n",
        "fig = plt.figure()\n",
        "ax = fig.add_subplot(111, projection='3d')\n",
        "\n",
        "# Построение трехмерного графика\n",
        "ax.scatter(beta1, beta2, beta3, c='b', marker='o')\n",
        "\n",
        "# Добавление меток осей\n",
        "ax.set_xlabel('beta1')\n",
        "ax.set_ylabel('beta2')\n",
        "ax.set_zlabel('beta3')\n",
        "\n",
        "# Отображение трехмерного графика\n",
        "plt.show()\n"
      ],
      "metadata": {
        "colab": {
          "base_uri": "https://localhost:8080/",
          "height": 410
        },
        "outputId": "b4d81441-b363-4d4d-8777-eec1f94c1e84",
        "id": "0EcsHSfNKFcz"
      },
      "execution_count": 1050,
      "outputs": [
        {
          "output_type": "display_data",
          "data": {
            "text/plain": [
              "<Figure size 640x480 with 1 Axes>"
            ],
            "image/png": "[encoded data removed]"
          },
          "metadata": {}
        }
      ]
    },
    {
      "cell_type": "markdown",
      "source": [
        "\n",
        "\n",
        "1. Найдем выражение эллипса:\n",
        "\n",
        "$(\\overrightarrow x - \\widehat \\psi )B^{-1}(\\overrightarrow x - \\widehat \\psi)= \\left(\\begin{pmatrix}\\beta_0\\\\\\beta_1\\\\\\beta_2\\end{pmatrix}\\;-\\;\\begin{pmatrix}15.866\\\\-3.87\\\\0.698\\end{pmatrix}\\right)^{\\intercal}\\cdot\\begin{pmatrix}50&83&177\\\\83&177&419\\\\177&419&1065\\end{pmatrix} \\cdot \\left(\\begin{pmatrix}\\beta_0\\\\\\beta_1\\\\\\beta_2\\end{pmatrix}\\;-\\;\\begin{pmatrix}15.866\\\\-3.87\\\\0.698\\end{pmatrix}\\right) $"
      ],
      "metadata": {
        "id": "1sT3e1YWaaUy"
      }
    },
    {
      "cell_type": "code",
      "source": [
        "import sympy\n",
        "\n",
        "b0, b1, b2 = sympy.symbols('b0 b1 b2')\n",
        "\n",
        "b = sympy.Matrix([[b0 - beta[0]], [b1 - beta[1]],[b2 - beta[2]] ])\n",
        "B_inv = sympy.Matrix(inv_B)\n",
        "result = b.T * B_inv * b\n",
        "result = result[0]\n",
        "#result = result.evalf(3)\n",
        "\n",
        "print(\"B^-1: \", inv_B)\n",
        "qSx = 3*disp*x_alpha\n",
        "print(\"q*S^2*X_alpha = \", qSx)\n",
        "print(\"Выражение, задающее эллипс \", result)\n",
        "result = sympy.expand(result)\n",
        "result = sympy.collect(result, [b0, b1, b2])\n",
        "result = sympy.expand(result)\n",
        "print(\"Упрощенное выражение:  \", result)\n"
      ],
      "metadata": {
        "colab": {
          "base_uri": "https://localhost:8080/"
        },
        "outputId": "80f64a92-7435-4166-fd6e-f85fa3c56a42",
        "id": "lKw1UuQuahln"
      },
      "execution_count": 1051,
      "outputs": [
        {
          "output_type": "stream",
          "name": "stdout",
          "text": [
            "B^-1:  [[  50.   83.  177.]\n",
            " [  83.  177.  419.]\n",
            " [ 177.  419. 1065.]]\n",
            "q*S^2*X_alpha =  461.4721571308425\n",
            "Выражение, задающее эллипс  (b0 - 15.8662455403986)*(50.0000000000003*b0 + 83.0000000000004*b1 + 177.000000000001*b2 - 595.670000000001) + (b1 + 3.87042077649522)*(83.0000000000007*b0 + 177.000000000001*b1 + 419.000000000001*b2 - 924.430000000005) + (b2 - 0.698320041972711)*(177.000000000002*b0 + 419.000000000002*b1 + 1065.0*b2 - 1930.33000000001)\n",
            "Упрощенное выражение:   50.0000000000003*b0**2 + 166.000000000001*b0*b1 + 354.000000000002*b0*b2 - 1191.34*b0 + 177.000000000001*b1**2 + 838.000000000003*b1*b2 - 1848.86*b1 + 1065.0*b2**2 - 3860.66000000001*b2 + 7221.10152925494\n"
          ]
        }
      ]
    },
    {
      "cell_type": "markdown",
      "source": [
        "$50\\beta_0^2 + 166\\beta_0\\cdot \\beta_1 +354\\beta_0 \\beta_2 - 1191.34\\beta_0 + 177\\beta_1^2 +838\\beta_1 \\beta_2- 1850\\beta_1 +1065\\beta_2^2 - 3860 \\beta_2+ 7202 \\leq qS^2 x_\\alpha $\n",
        "\n",
        "$qS^2 x_\\alpha = 461.472$\n",
        "\n",
        "Запишем матрицу квадратичной формы, используя коэффиценты при $\\beta_0^2, \\;\\;\\beta_1^2, \\;\\;\\beta_2^2, \\;\\;\\beta_0\\cdot \\beta_1,\\;\\; \\beta_0\\cdot \\beta_2,\\;\\; \\beta_1\\cdot \\beta_2$\n",
        "\n",
        "$A = \\begin{pmatrix}50&83&177\\\\83&177&419\\\\177&419&1065\\end{pmatrix}$\n",
        "\n",
        "Найдем характеристическое уравнение и собственные числа:"
      ],
      "metadata": {
        "id": "6RHa_gP1anlq"
      }
    },
    {
      "cell_type": "code",
      "source": [
        "lambda_ = sympy.symbols('lambda')\n",
        "A =  B_inv\n",
        "char_eqn = A.charpoly(lambda_)\n",
        "char_eqn = sympy.simplify(char_eqn.as_expr())\n",
        "print(\"Характеристическое уравнение матрицы A:\", char_eqn, \" = 0\")\n",
        "\n",
        "#решение уравнения\n",
        "solutions = sympy.solve(char_eqn, lambda_)\n",
        "\n",
        "print(\"Корни характеристического уравнения:\")\n",
        "for i in range(len(solutions)):\n",
        "  s = \"λ\" + str(i + 1) + \" = \"\n",
        "  s1 = \"   Коэффицент\" + str(i + 1) + \" = \"\n",
        "  solutions[i] = round(solutions[i].evalf(),3)\n",
        "  print(s , solutions[i], s1, round(solutions[i]/qSx,3))"
      ],
      "metadata": {
        "colab": {
          "base_uri": "https://localhost:8080/"
        },
        "outputId": "5f1303a2-2657-4fac-cd49-8c4a9994c2a1",
        "id": "XqCppCqpatXy"
      },
      "execution_count": 1052,
      "outputs": [
        {
          "output_type": "stream",
          "name": "stdout",
          "text": [
            "Характеристическое уравнение матрицы A: 1.0*lambda**3 - 1292.0*lambda**2 + 36826.0000000002*lambda - 76240.0000000149  = 0\n",
            "Корни характеристического уравнения:\n",
            "λ1 =  2.247    Коэффицент1 =  0.005\n",
            "λ2 =  26.865    Коэффицент2 =  0.058\n",
            "λ3 =  1262.888    Коэффицент3 =  2.737\n"
          ]
        }
      ]
    },
    {
      "cell_type": "markdown",
      "source": [
        "$\\det(A - \\lambda E) = \\begin{vmatrix}50 -\\lambda&83&177\\\\83&177 -\\lambda&419\\\\177&419&1065-\\lambda\\end{vmatrix} = \\lambda^3 - 1292\\lambda^2 + 36826\\lambda  - 76240 = 0\\Rightarrow \\lambda_1 = 2.247 ;\\;\\;\\lambda_2 = 26.865;\\;\\;\\lambda_3  = 1262.888$\n",
        "\n",
        "$\\lambda_1 \\beta_0^{'2} + \\lambda_2 \\beta_1^{'2} + \\lambda_3 \\beta_2^{'2} \\leq qS^2 x_\\alpha$\n",
        "\n",
        "Канонический вид:\n",
        "\n",
        "$\\frac{\\lambda_1}{qS^2 x_\\alpha}\\beta_0^{'2} + \\frac{\\lambda_2}{qS^2 x_\\alpha}\\beta_1^{'2} + \\frac{\\lambda_3}{qS^2 x_\\alpha}\\beta_2^{'2} \\leq 1$\n",
        "\n",
        "$0.005 \\beta_0^{'2} + 0.058 \\beta_1^{'2} + 2.737 \\beta_2^{'2} \\leq 1$"
      ],
      "metadata": {
        "id": "BIXULVTuazkT"
      }
    },
    {
      "cell_type": "markdown",
      "source": [
        "#### <b>8)  Сформулировать гипотезу линейной регрессионной зависисмости переменной Y от переменной X и проверить ее значимость на уровне $\\alpha$</b>\n",
        "\n"
      ],
      "metadata": {
        "id": "VwhjXUn8sVrx"
      }
    },
    {
      "cell_type": "markdown",
      "source": [
        "$Y \\not\\sim X^2 $\n",
        "\n",
        "$Y = \\beta_0 + \\beta_1X + \\beta_2 X^2\\;\\;$ т.к. $X \\neq \\overrightarrow 0,\\;\\;$ то для того, чтобы Y не зависела от $X^2$, необходимо чтобы $\\beta_2 = 0$\n",
        "\n",
        "$\\psi = C^{\\intercal}\\beta,\\;\\; C = \\begin{pmatrix}0\\\\0\\\\1\\end{pmatrix} \\Rightarrow \\psi = \\begin{pmatrix}0&0&1\\end{pmatrix}\\begin{pmatrix}\\beta_0\\\\\\beta_1\\\\\\beta_2\\end{pmatrix} = \\beta_2$\n",
        "\n",
        "Основная гипотеза $H_0: \\psi = 0$\n",
        "\n",
        "$\\mathbb{F} - $ статистика: $\\mathbb{F} = \\large \\frac{SS_H(n -r)}{q SS_e}$\n",
        "\n",
        "$SS_H = RSS(\\widehat \\beta_H) - RSS(\\widehat \\beta)$\n",
        "\n",
        "$\\widehat \\beta_H$ - МНК оценка при выполнении основной гипотезы $\\psi = 0$\n",
        "\n",
        "$SS_e = R(\\widehat \\beta) = S^2(n - r)$\n",
        "\n",
        "$\\large \\frac{(n - r)S^2}{\\sigma^2} =\\frac{RSS(\\widehat \\beta)}{\\sigma^2} \\sim \\chi_{n - r}^2$\n",
        "\n",
        "$\\Rightarrow \\mathbb{F} = \\large\\frac{RSS(\\widehat \\beta_H) - (n - r)S^2}{q S^2}$\n",
        "\n",
        "$\\widehat \\beta_H = (XX^{\\intercal})^{-1}XY = \\begin{pmatrix}14.638\\\\-1.642\\end{pmatrix}$\n",
        "\n",
        "где $X = \\begin{pmatrix}1&x_1\\\\1&x_2\\\\...&...\\\\1&x_{49}\\\\1&x_{50}\\end{pmatrix}, \\;\\; Y-$вектор исходных значений Y\n",
        "\n",
        "$RSS(\\widehat \\beta_H) = (Y - X^\\intercal \\widehat \\beta_H)^\\intercal (Y - X^\\intercal \\widehat \\beta_H) = 2598.836$\n",
        "\n",
        "$r = 3, \\;\\; n = 50,\\;\\; q = 1 ,\\;\\; S^2 = 54.891 \\Rightarrow$\n",
        "\n",
        "$\\mathbb{F} = \\large\\frac{2598.836 - (50 - 3)\\cdot 54.891}{1\\cdot 54.891} = 0.345$\n"
      ],
      "metadata": {
        "id": "9zZ8-IEn0vW_"
      }
    },
    {
      "cell_type": "code",
      "source": [
        "X = np.vstack((np.ones(len(x)), x))\n",
        "product_X = np.dot(X, X.T)\n",
        "inv_X = np.linalg.inv(product_X)\n",
        "beta_h = np.dot(np.dot(inv_X, X), Y)\n",
        "print(\"βH = \", beta_h)\n",
        "Y_XB = Y - np.dot(X.T, beta_h)\n",
        "RSS = round(np.dot(Y_XB.T, Y_XB),3)\n",
        "print(\"RSS(βH) = \", RSS)\n",
        "r = 3\n",
        "q = 1\n",
        "F = (RSS - (n -r)*disp)/(q*disp)\n",
        "print(\"F - критерий = \", round(F,3))"
      ],
      "metadata": {
        "colab": {
          "base_uri": "https://localhost:8080/"
        },
        "outputId": "b02459fc-c7a7-4ccf-9b43-89c9f29364cd",
        "id": "zo52R1Jd2Dhc"
      },
      "execution_count": 1053,
      "outputs": [
        {
          "output_type": "stream",
          "name": "stdout",
          "text": [
            "βH =  [14.63839878 -1.64156553]\n",
            "RSS(βH) =  2598.836\n",
            "F - критерий =  0.345\n"
          ]
        }
      ]
    },
    {
      "cell_type": "markdown",
      "source": [
        "$x_\\alpha:\\mathcal{F}_{q, n - r}(x_\\alpha) = 1 - \\alpha, \\;\\; \\mathcal F - $функция распределения Фишера-Снедекора\n",
        "\n",
        "$\\mathcal{F}_{1, 47}(x_\\alpha) = 0. 95 \\Rightarrow x_\\alpha \\approx 4.047$\n",
        "\n",
        "$x_\\alpha > \\mathbb{F} \\Rightarrow $ нет оснований отвергать гипотезу"
      ],
      "metadata": {
        "id": "7srD-haj4cDb"
      }
    },
    {
      "cell_type": "code",
      "source": [
        "x_alpha =  st.f.ppf(1 - alpha, q, n - r)\n",
        "print(\"x_alpha = \", x_alpha)"
      ],
      "metadata": {
        "colab": {
          "base_uri": "https://localhost:8080/"
        },
        "outputId": "9b132728-2a3f-4c68-e6f4-9d47917551d8",
        "id": "9wRez01q4l26"
      },
      "execution_count": 1054,
      "outputs": [
        {
          "output_type": "stream",
          "name": "stdout",
          "text": [
            "x_alpha =  4.0470998945817005\n"
          ]
        }
      ]
    },
    {
      "cell_type": "markdown",
      "source": [
        "Наибольшее значение уровня значимости, при котором еще нет оснований отвергнуть гипотезу $H_0 = 1 - \\mathcal{F}_{q, n - r}(\\mathbb{F}) = 0.56$"
      ],
      "metadata": {
        "id": "0blbBE5y4qZX"
      }
    },
    {
      "cell_type": "code",
      "source": [
        "print(\"Наибольшее значение уровня значимости, при котором еще нет оснований отвергнуть гипотезу = \", round(1 - st.f.cdf(F, q , n - r),3))"
      ],
      "metadata": {
        "colab": {
          "base_uri": "https://localhost:8080/"
        },
        "outputId": "d0f84a90-e993-421c-fc32-c7b276fba621",
        "id": "w3tGSOFB4u6P"
      },
      "execution_count": 1055,
      "outputs": [
        {
          "output_type": "stream",
          "name": "stdout",
          "text": [
            "Наибольшее значение уровня значимости, при котором еще нет оснований отвергнуть гипотезу =  0.56\n"
          ]
        }
      ]
    },
    {
      "cell_type": "markdown",
      "metadata": {
        "id": "oiDgWw6F5Oa8"
      },
      "source": [
        "## Выводы\n",
        "\n",
        "В данной практической работы была применена теория регрессонного анализа для нахождения МНК оценки предложенных параметров и определения их доверительных интервалов, построения линии регрессии. При уровне значимости 0.95 не были отвергнуты гипотезы о нормальности ошибок и зависимости Y от X."
      ]
    }
  ],
  "metadata": {
    "kernelspec": {
      "display_name": "Python 3",
      "name": "python3"
    },
    "language_info": {
      "name": "python"
    },
    "colab": {
      "provenance": []
    }
  },
  "nbformat": 4,
  "nbformat_minor": 0
}