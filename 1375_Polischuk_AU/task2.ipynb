{
  "cells": [
    {
      "cell_type": "markdown",
      "metadata": {
        "id": "m1A2Uqy2mjB2"
      },
      "source": [
        "# Практическая работа №2: Классические методы математической статистики\n",
        "Выполнилa студентка гр. 1375 Полищук Анфиса. Вариант №22"
      ]
    },
    {
      "cell_type": "markdown",
      "metadata": {
        "id": "0Q2H-R7lmjB4"
      },
      "source": [
        "## Цель работы\n",
        "Научится применять методы математической статистики для решения задач статистического анализа; сформировать навыки реализации методов с помощью прикладных программных пакетов."
      ]
    },
    {
      "cell_type": "markdown",
      "metadata": {
        "id": "tqFNBIIumjB5"
      },
      "source": [
        "## Основные теоретические положения\n",
        "<b>1) Эмпирическая функция распределения</b>\n",
        "\n",
        "$F_n(x) = \\frac 1n\\sum\\limits_{i=1}^n \\mathbb{1}_{\\{x_i < X\\}} $\n",
        "\n",
        "<b>2) Гистограмма частот </b>- это функция $H: \\mathbb{R} \\rightarrow \\mathbb{R_+}$, такая что $H(x) = \\frac{\\nu_j}{nh},\\;\\;\\; x \\in I_j,\\;\\; j \\in \\mathbb{N}$\n",
        "\n",
        "<b>Полигон частот</b> - это кусочно-линейная непрерывная функция, совпадающая с гистограммой в середине каждого интервала\n",
        "\n",
        "<b>3)</b> Выборочное среднее:\n",
        "$\\overline X=\\frac1n\\sum\\limits_{i=1}^nx_i$\n",
        "\n",
        "Выборочная дисперсия:\n",
        "$S^2 = \\frac1n\\sum\\limits_{i=1}^n\\left(X_i-\\overline X\\right)^2 $\n",
        "\n",
        "Выборочное СКО:\n",
        "$S = \\sqrt{\\frac1n\\sum\\limits_{i=1}^n\\left(X_i-\\overline X\\right)^2} $\n",
        "\n",
        "Медиана:\n",
        "$z_{n,\\frac12} = \\left\\{\\begin{array}{l}x_{\\frac{N + 1}{2}},\\;\\; N = 2n + 1,\\;\\;n\\in\\mathbb{Z_+}\\\\\\frac{x_{\\frac N2} + x_{\\frac{N}{2} + 1}}{2}, \\;\\; N = 2n,\\;\\;n\\in\\mathbb{Z_+}\\end{array}\\right. $,  где $N$ - объем выборки\n",
        "\n",
        "Коэффицент асимметрии:\n",
        "$\\widehat{Skew}X = \\frac{\\frac1n\\sum\\limits_{i=1}^n\\left(X_i-\\overline X\\right)^3}{S^3} $\n",
        "\n",
        "Эксцесс:\n",
        "$\\widehat{Kurt}X = \\frac{\\frac1n\\sum\\limits_{i=1}^n\\left(X_i-\\overline X\\right)^4}{S^4} - 3 $\n",
        "\n",
        "Вероятность: $\\mathbb{P}\\left(X\\in\\left[a,b\\right]\\right) = \\sum\\limits_{i=1}^n p(x), \\;\\;$ где $p $ - плотность вероятности, $x \\in \\left[a, b\\right]$\n",
        "\n",
        "Вариационный ряд - упорядоченный набор наблюдений $x_{(1)}\\leq . . . \\leq x_{(n)}$\n",
        "\n",
        "\n",
        "<b>4) Функция правдоподобия:</b>\n",
        "\n",
        "\n",
        "$L(\\overrightarrow X; \\theta) = \\prod\\limits_{i=1}^n f_{\\theta, i}(X_i),  \\;\\; \\theta \\in \\Theta $\n",
        "\n",
        " <b>Оценка правдоподобия:</b>\n",
        "\n",
        " Оценка $\\widehat \\theta(X)$, максимизирующая функцию правдоподобия $L( X; \\theta)$ по $\\theta$ при каждом фиксированном X:\n",
        "\n",
        "$L( X; \\widehat \\theta(X)) \\geq L( X; \\widetilde \\theta(X)),\\;\\; \\forall X \\in \\mathfrak X, \\; \\forall\\; \\widetilde \\theta(X)$\n",
        "\n",
        "\n",
        "<b>5) Метод моментов</b>\n",
        "\n",
        "Пусть $X_1, . . . X_n$- выборка из распределения $P_\\theta$\n",
        "\n",
        "$\\theta = \\left(\\theta_1, . . . \\theta_d\\right)$\n",
        "\n",
        "Существуют $\\mu_k\\left(\\theta\\right) = \\mathbb{E_\\theta} X_1^k,\\;\\; k = 1, . . . d$\n",
        "\n",
        "Если существует одинственное решение $\\widetilde\\theta(X)$ системы уравнений\n",
        "\n",
        "$\\widehat\\mu_k(\\widetilde\\theta) = \\mu_k(\\widetilde\\theta), k = 1, . . . d$,\n",
        "\n",
        "где $\\widehat\\mu_k(\\widetilde\\theta) = \\frac1n \\sum\\limits_{i=1}^n X_i^k $ - выборочный  момент k-го порядка, то $\\widetilde\\theta(X)$ называется оценкой по методу моментов(ОММ).\n",
        "\n",
        "<b>6) Асимптотический доверительный интервал на базе асимптотически нормальной оценки:</b>\n",
        "\n",
        "$\\left[\\hat\\theta(\\vec{x}) - \\frac{x_{\\alpha} \\cdot \\sigma(\\hat\\theta(\\vec{x})) }{\\sqrt{n}}, \\hat\\theta(\\vec{x}) + \\frac{x_{\\alpha} \\cdot \\sigma(\\hat\\theta(\\vec{x})) }{\\sqrt{n}} \\right] \\ni \\theta$\n",
        "\n",
        "<b>Асимптотический доверительный интервал на базе ОМП:</b>\n",
        "\n",
        "$\\left[\\hat\\theta(\\vec{x}) - \\frac{x_{\\alpha}}{\\sqrt{nI(\\hat\\theta)}}, \\hat\\theta(\\vec{x}) + \\frac{x_{\\alpha}}{\\sqrt{nI(\\hat\\theta)}}\\right] \\ni \\theta$\n",
        "\n",
        "<b>6) Статистика Колмогорова</b> - это отклонение теоретической функции распределения от эмпирической:\n",
        "\n",
        "$D_n=\\sup\\limits_{-\\infty < x < +\\infty}\\left|F_n(x)-F(x)\\right|$\n",
        "\n",
        "<b>7) Теорема Колмогорова:</b>\n",
        "\n",
        "$ \\lim\\limits_{n \\to \\infty} \\mathbb{P}(\\sqrt{n}D_n \\leq t) = K(t)$, где $K(t)$ - функция распределения Колмогорова\n",
        "\n",
        "<b>8) Критерий $\\chi^2$ для проверки простой гипотезы:</b>\n",
        "\n",
        "Статистика критерия: $X^2 = \\sum\\limits_{i=1}^r \\frac{(n_i - np_{i})^2}{np_{i}}$\n",
        "\n",
        "где:\n",
        "\n",
        "$p_{i} = F(I_j)$ - гипотетические вероятности попадания в интервалы\n",
        "\n",
        "r - количество зон разбиения\n",
        "\n",
        "$I_i$, $n_i$ - абсолютные частоты в интервале $I_i$\n",
        "\n",
        "Асимптотический критерий уровня значимости $\\alpha$:\n",
        "$\\phi(x) = \\left\\{\\begin{array}{l} 0,X^2 \\leq x_{\\alpha}\\\\1, X^2 > x_{\\alpha}\\end{array}\\right.$\n",
        "\n",
        "где $x_\\alpha: K_{r-1}(x_\\alpha)=1-\\alpha$,\n",
        "\n",
        "$K_{r-1}$ - функция распределения $ \\chi_{r-1}^2$<br>\n",
        "\n",
        "<b>9) Критерий $\\chi^2$ для проверки сложной гипотезы:</b>\n",
        "\n",
        "Асимптотический критерий уровня значимости $\\alpha$:\n",
        "\n",
        " $\\hat\\phi(x) = \\left\\{\\begin{array}{l} 0,\\widehat X^2 \\leq x_{\\alpha}\\\\1, \\widehat X^2 > x_{\\alpha}\\end{array}\\right.$\n",
        "\n",
        "где $x_\\alpha: K_{r-d-1}(x_\\alpha)=1-\\alpha$,\n",
        "\n",
        "$K_{r-d-1}$ - функция распределения $ \\chi_{r-d-1}^2$\n",
        "\n",
        "10) Наиболее мощный критерий простой гипотезы:\n",
        "\n",
        "$H_0: \\theta = \\theta_0$ - простая основная гипотеза\n",
        "\n",
        "$H_0: \\theta = \\theta_A$ - простая альтернатива\n",
        "\n",
        "Статистика отношения правдоподобия\n",
        "\n",
        "$LR(X, \\theta_0, \\theta1) = \\frac{L(X; \\theta_1)}{L(X; \\theta_0)} = \\frac{p_{\\theta_1}(X)}{p_{\\theta_0}(X)}$\n",
        "\n",
        "Лемма Неймана-Пирсона:\n",
        "\n",
        "(i). Существует наиболее мощный критерий уровня значимости $\\alpha$\n",
        "\n",
        "(ii). Данный критерий представляется в виде\n",
        "\n",
        "$\\phi\\left(x\\right) = \\left\\{\\begin{array}{l}1,\\;\\; LR(X) > c\\\\p, \\;\\;LR(X) = c\\\\0, \\;\\; LR(X) < c\\end{array}\\right.$\n",
        "\n",
        "где константа $c$ и вероятность $p \\in [0, 1) $ находятся из уравнения:\n",
        "\n",
        "$\\mathbb{E_{\\theta_0}}\\phi(X) = P_{\\theta_0}(LR(X) > c) + pP_{\\theta_0}(LR(X) = c) = \\alpha $\n",
        "\n",
        "(iii). В области $LR(X) \\neq c$ наиболее мощный критерий $\\phi$ определен однозначно"
      ]
    },
    {
      "cell_type": "markdown",
      "metadata": {
        "id": "yD-4SSzqmjB5"
      },
      "source": [
        "## Постановка задачи\n",
        "Для полученных в результате эксперимента наборов данных выполнить статистическую обработку. Полученные результаты содержательно проинтерпретировать."
      ]
    },
    {
      "cell_type": "markdown",
      "metadata": {
        "id": "43MddVk_mjB6"
      },
      "source": [
        "## Выполнение работы\n",
        "Каждый пункт работы (*по возможности*) выполняется с помощью кода.\n",
        "Рекомендованные языки программирования – R и Python."
      ]
    },
    {
      "cell_type": "markdown",
      "source": [
        "###Задание 1\n",
        "\n",
        "####<b>a) Построить вариционный ряд, эмпирическую функцию распределения и гистограмму частот</b>\n",
        "\n",
        "Объем выборки n = 50\n",
        "\n",
        "Вариационный ряд:\n",
        "\n",
        "0;  0;  0;  0;  0;  0;  0;  0;  1;  1;  1;  1;  1;  1;  1;  1;  1;  1;  1;  1;  1;  1;  1;  2;  2;  2;  2;  2;  2;  2;  2;  2;  2;  2;  2;  3;  3;  3;  3;  3;  4;  4;  4;  4;  4;  5;  5;  5;  6;  6\n"
      ],
      "metadata": {
        "id": "EQ9St9hateZX"
      }
    },
    {
      "cell_type": "code",
      "source": [
        "import math\n",
        "import numpy\n",
        "import matplotlib.pyplot as plt\n",
        "import statistics\n",
        "import prettytable\n",
        "\n",
        "xi = [2,2,1,1,0,4,2,1,1,2,0,2,2,4,1,4,2,3,5,1,3,3,2,2,0,6,2,3,1,1,4,0,0,0,1,2,1,6,1,1,0,5,2,4,3,1,1,0,5,1]\n",
        "#xi = [-2,-2,-1,0,0,0,1,1,2,3]\n",
        "n = len(xi) #объем выборки\n",
        "accuracy = 2 #точность для всех округлений. Везде до 2х знаков после запятой\n",
        "\n",
        "print('Объем выборки:', n)\n",
        "print(\"Вариационный ряд:\")\n",
        "xi = sorted(xi)\n",
        "print('; '.join(str(xi).split(',')))\n",
        "\n",
        "i = 0\n",
        "xmax = xi[-1]\n",
        "xmin = xi[0]\n",
        "nx = 0 #количество элементов, меньших чем xi\n",
        "Fx = [] #эмпирическая функция распрделенения\n",
        "ni = [] #Количество каждого элемента выборки(относительная частота)\n",
        "p = [] #плотность относительной частоты(вероятность; количество одинаковых элементов делим на n)\n",
        "while i != n:\n",
        "    countCurrentX = xi.count(xi[i])\n",
        "    nx = i\n",
        "    Fx.append(nx/n)\n",
        "    ni.append(countCurrentX)\n",
        "    p.append(countCurrentX/n)\n",
        "    i += countCurrentX\n",
        "xi_unique = list(sorted(set(xi)))\n"
      ],
      "metadata": {
        "id": "-runMZXAqCll",
        "colab": {
          "base_uri": "https://localhost:8080/"
        },
        "outputId": "aa2d4e7c-0f35-482e-9cc2-0476381a5a59"
      },
      "execution_count": null,
      "outputs": [
        {
          "output_type": "stream",
          "name": "stdout",
          "text": [
            "Объем выборки: 50\n",
            "Вариационный ряд:\n",
            "[0;  0;  0;  0;  0;  0;  0;  0;  1;  1;  1;  1;  1;  1;  1;  1;  1;  1;  1;  1;  1;  1;  1;  2;  2;  2;  2;  2;  2;  2;  2;  2;  2;  2;  2;  3;  3;  3;  3;  3;  4;  4;  4;  4;  4;  5;  5;  5;  6;  6]\n"
          ]
        }
      ]
    },
    {
      "cell_type": "code",
      "source": [
        "# Построение эмпирической функции распределения\n",
        "print(\"Эмпирическая функция распределения\")\n",
        "table = prettytable.PrettyTable()\n",
        "table.header = False\n",
        "table.hrules=prettytable.ALL\n",
        "table.add_row(xi_unique)\n",
        "table.add_row(p)\n",
        "table.add_column(0, '00')\n",
        "table.rows[0].insert(0, 'наблюдение xi')\n",
        "table.rows[1].insert(0, 'Относительная частота')\n",
        "print(table)\n",
        "\n",
        "Fx2 = Fx.copy()\n",
        "Fx2.append(Fx[-1])\n",
        "\n",
        "xi_unique2 = xi_unique.copy()\n",
        "xi_unique2.append(xi_unique[-1] + 1)\n",
        "\n",
        "plt.hlines(Fx2[:-1], xi_unique2[:-1], xi_unique2[1:], colors='b')\n",
        "#plt.step(xi_unique2, Fx2, where='post')\n",
        "plt.xlabel('Значения выборки')\n",
        "plt.ylabel('Вероятность')\n",
        "plt.title('Эмпирическая функция распределения')\n",
        "plt.show()\n",
        "table.clear()"
      ],
      "metadata": {
        "colab": {
          "base_uri": "https://localhost:8080/",
          "height": 576
        },
        "id": "GJZ1eWV_2GBo",
        "outputId": "16cccfa4-d2e6-455d-8aa0-709c1acff2c6"
      },
      "execution_count": null,
      "outputs": [
        {
          "output_type": "stream",
          "name": "stdout",
          "text": [
            "Эмпирическая функция распределения\n",
            "+-----------------------+------+-----+------+-----+-----+------+------+\n",
            "|     наблюдение xi     |  0   |  1  |  2   |  3  |  4  |  5   |  6   |\n",
            "+-----------------------+------+-----+------+-----+-----+------+------+\n",
            "| Относительная частота | 0.16 | 0.3 | 0.24 | 0.1 | 0.1 | 0.06 | 0.04 |\n",
            "+-----------------------+------+-----+------+-----+-----+------+------+\n"
          ]
        },
        {
          "output_type": "display_data",
          "data": {
            "text/plain": [
              "<Figure size 640x480 with 1 Axes>"
            ],
            "image/png": "[encoded data removed]"
          },
          "metadata": {}
        }
      ]
    },
    {
      "cell_type": "code",
      "source": [
        "table = prettytable.PrettyTable()\n",
        "table.header = False\n",
        "table.hrules=prettytable.ALL\n",
        "table.add_row(xi_unique)\n",
        "table.add_row(p)\n",
        "table.add_row(ni)\n",
        "table.add_column(0, '000')\n",
        "table.rows[0].insert(0, 'наблюдение xi')\n",
        "table.rows[1].insert(0, 'Относительная частота')\n",
        "table.rows[2].insert(0, 'Частота')\n",
        "print(table)\n",
        "\n",
        "#гистограмма частот\n",
        "def plot_histogram(xi_unique):\n",
        "    plt.bar(xi_unique, p, align='edge', width=1, edgecolor='black')\n",
        "    plt.xlabel('Значения')  # подпись оси x\n",
        "    plt.ylabel('Относительная частота')  # подпись оси y\n",
        "    plt.title('Гистограмма')  # заголовок диаграммы\n",
        "    plt.show()  # отображение гистограммы\n",
        "\n",
        "plot_histogram(xi_unique)\n",
        "\n",
        "table.clear()"
      ],
      "metadata": {
        "colab": {
          "base_uri": "https://localhost:8080/",
          "height": 593
        },
        "id": "HsD3k51L3yMC",
        "outputId": "875c1735-d54f-4786-bceb-1a9f4ff09f83"
      },
      "execution_count": null,
      "outputs": [
        {
          "output_type": "stream",
          "name": "stdout",
          "text": [
            "+-----------------------+------+-----+------+-----+-----+------+------+\n",
            "|     наблюдение xi     |  0   |  1  |  2   |  3  |  4  |  5   |  6   |\n",
            "+-----------------------+------+-----+------+-----+-----+------+------+\n",
            "| Относительная частота | 0.16 | 0.3 | 0.24 | 0.1 | 0.1 | 0.06 | 0.04 |\n",
            "+-----------------------+------+-----+------+-----+-----+------+------+\n",
            "|        Частота        |  8   |  15 |  12  |  5  |  5  |  3   |  2   |\n",
            "+-----------------------+------+-----+------+-----+-----+------+------+\n"
          ]
        },
        {
          "output_type": "display_data",
          "data": {
            "text/plain": [
              "<Figure size 640x480 with 1 Axes>"
            ],
            "image/png": "[encoded data removed]"
          },
          "metadata": {}
        }
      ]
    },
    {
      "cell_type": "markdown",
      "source": [
        "####<b>b) Вычислить выборочные аналоги следующих числовых характеристик: (i)математического ожидания, (ii)дисперсии, (iii)медианы, (iv)асимметрии, (v)эксцесса, (vi) вероятности $\\mathbb{P}\\left(X\\in\\left[a,b\\right]\\right)$ </b>\n",
        "\n",
        "Выборочное среднее:\n",
        "$\\overline X=\\frac1n\\sum\\limits_{i=1}^nx_i = 2.02$\n",
        "\n",
        "Выборочная дисперсия:\n",
        "$S^2 = \\frac1n\\sum\\limits_{i=1}^n\\left(X_i-\\overline X\\right)^2 = 2.62$\n",
        "\n",
        "Выборочное СКО:\n",
        "$S = \\sqrt{\\frac1n\\sum\\limits_{i=1}^n\\left(X_i-\\overline X\\right)^2} = 1.62$\n",
        "\n",
        "Медиана:\n",
        "$z_{n,\\frac12} = 2$\n",
        "\n",
        "Коэффицент асимметрии:\n",
        "$\\widehat{Skew}X = \\frac{\\frac1n\\sum\\limits_{i=1}^n\\left(X_i-\\overline X\\right)^3}{S^3} = 0.79$\n",
        "\n",
        "Эксцесс:\n",
        "$\\widehat{Kurt}X = \\frac{\\frac1n\\sum\\limits_{i=1}^n\\left(X_i-\\overline X\\right)^4}{S^4} - 3 = -0.19$\n",
        "\n",
        "Вероятность:\n",
        "\n",
        "a = 0;  b = 3.13\n",
        "\n",
        "$\\mathbb{P}\\left(X\\in\\left[a,b\\right]\\right) = 0.8$"
      ],
      "metadata": {
        "id": "CNYpCpFn4Xqg"
      }
    },
    {
      "cell_type": "code",
      "source": [
        "xAvg = statistics.mean(xi)\n",
        "print('Среднее арифметическое: x среднее = ', sum(xi), '/', n, ' = ', xAvg)\n",
        "\n",
        "D = 0\n",
        "for i in range(0, n):\n",
        "    D += (xi[i] - xAvg)**2\n",
        "D = round(D/n,  accuracy)\n",
        "print('Выборочная дисперсия: D(x) = ', D)\n",
        "\n",
        "S = round(math.sqrt(D), accuracy)\n",
        "print('Выборочное СКО: S(x) = ', S)\n",
        "\n",
        "print('Количество вариантов:', len(xi_unique))\n",
        "\n",
        "print('Медиана:', statistics.median(sorted(xi)))\n",
        "\n",
        "SkewX = 0\n",
        "for i in range(0, n):\n",
        "    SkewX += (xi[i] - xAvg)**3\n",
        "SkewX = round((1/n)*SkewX/(S**3),  accuracy)\n",
        "print('Коэффицент асимметрии: SkewX = ', SkewX)\n",
        "\n",
        "KurtX = 0\n",
        "for i in range(0, n):\n",
        "    KurtX += (xi[i] - xAvg)**4\n",
        "KurtX = round((1/n)*KurtX/(S**4) - 3,  accuracy)\n",
        "print('Эксцесс: KurtX = ', KurtX)\n",
        "\n",
        "a = 0\n",
        "b = 3.13\n",
        "P = 0\n",
        "for i in range(0, len(xi_unique)):\n",
        "    if xi_unique[i] >= a and xi_unique[i] <= b:\n",
        "        P += p[i]\n",
        "P = round(P, accuracy)\n",
        "print('Вероятность P(X принадлежит [a, b]) = ', P)\n"
      ],
      "metadata": {
        "colab": {
          "base_uri": "https://localhost:8080/"
        },
        "id": "Bj-ot1FS8-AQ",
        "outputId": "3a19544b-dad9-4498-d6aa-5b9696fa105f"
      },
      "execution_count": null,
      "outputs": [
        {
          "output_type": "stream",
          "name": "stdout",
          "text": [
            "Среднее арифметическое: x среднее =  101 / 50  =  2.02\n",
            "Выборочная дисперсия: D(x) =  2.62\n",
            "Выборочное СКО: S(x) =  1.62\n",
            "Количество вариантов: 7\n",
            "Медиана: 2.0\n",
            "Коэффицент асимметрии: SkewX =  0.79\n",
            "Эксцесс: KurtX =  -0.19\n",
            "Вероятность P(X принадлежит [a, b]) =  0.8\n"
          ]
        }
      ]
    },
    {
      "cell_type": "markdown",
      "source": [
        "####<b>c) В предположении, что исходные наблюдения являются выборкой из распределения Пуассона, построить оценку максимального правдоподобия параметра $\\lambda$ и оценку $\\lambda$ по методу моментов. Найти смещение оценок.</b>\n",
        "\n",
        "$q_\\theta\\left(k\\right)=\\frac{\\lambda^ke^{-\\lambda}}{k!}$\n",
        "\n",
        "1) $L\\left(\\vec X,\\theta\\right)=\\prod\\limits_{i=1}^n\\frac{\\lambda^ke^{-\\lambda}}{x_i!} = \\lambda^{\\sum\\limits_{i=1}^n x_i}e^{-n\\lambda}\\prod\\limits_{i=1}^n\\frac1{x_i!}$\n",
        "\n",
        "2)$LL\\left(\\vec X,\\theta\\right) = \\sum\\limits_{i=1}^n\\ln{\\lambda} - n\\lambda + \\ln{\\prod\\limits_{i=1}^n\\frac1{x_i!}}$\n",
        "\n",
        "$\\frac{\\partial LL}{\\partial\\lambda}=\\sum\\limits_{i=1}^nx_i-n=0 \\Rightarrow\\widehat \\lambda=\\frac{\\sum\\limits_{i=1}^nx_i}n\\Rightarrow\\widehat\\theta=\\overline X$ - ОМП\n",
        "\n",
        "3) Метод моментов:\n",
        "\n",
        "$k = 1$ (Т.к. один параметр)\n",
        "\n",
        "Существуeт $\\mu_k\\left(\\theta\\right)=\\mathbb{E}x_1^k, k = 1$\n",
        "\n",
        "$\\widehat\\mu_k\\left(\\widetilde\\theta\\right) = \\frac1n\\sum\\limits_{i=1}^nx_i^k = \\lambda \\Rightarrow$ ОММ: $\\widetilde\\theta\\left(x\\right) = \\overline X$\n",
        "\n",
        "4) Смещение оценки:\n",
        "\n",
        "$\\mathbb{E}_{\\theta}\\widehat\\theta = \\mathbb{E}_{\\theta}\\overline X = \\frac1n\\mathbb{E}_{\\theta}\\left(\\sum\\limits_{i=1}^nx_i\\right) = \\frac1n\\sum\\limits_{i=1}^n\\mathbb{E}_{\\theta}x_i = \\frac{n\\lambda}n = \\lambda\\Rightarrow \\widetilde\\theta = \\overline X$ - несмещенная оценка\n"
      ],
      "metadata": {
        "id": "TqaccAUBDR1E"
      }
    },
    {
      "cell_type": "markdown",
      "source": [
        "####<b>d).1) Асимптотический доверительный интервал уровня значимости $\\alpha_1$ для параметра $\\lambda$ на базе ОМП:</b>\n",
        "\n",
        "1) ОМП:\n",
        "\n",
        "$\\widehat\\theta=\\overline X$\n",
        "\n",
        "2) Информация Фишера:\n",
        "\n",
        "$I_n\\left(\\theta\\right) = -\\mathbb{E_\\theta}\\frac{\\partial^2 LL}{\\partial\\theta^2}$\n",
        "\n",
        "$\\frac{\\partial^2 LL}{\\partial\\lambda^2} = -\\frac{\\sum\\limits_{i=1}^nx_i}{\\lambda^2}$\n",
        "\n",
        "$I_n\\left(\\lambda\\right) = -\\mathbb{E_\\theta}\\left(-\\frac{\\sum\\limits_{i=1}^nx_i}{\\lambda^2}\\right) = \\frac{\\sum\\limits_{i=1}^n}{\\lambda^2}\\mathbb{E_\\theta}x_i\\;\\;\\;$ Т.к. для распределениe Пуассона $\\mathbb{E}\\xi = \\lambda \\Rightarrow I_n\\left(\\lambda\\right) = \\frac{n\\lambda}{\\lambda^2} = \\frac n\\lambda$\n",
        "\n",
        "$I\\left(\\lambda\\right) = \\lim_{n\\rightarrow\\infty}\\left(\\frac{I_n\\left(\\lambda\\right)}n\\right) = \\lim_{n\\rightarrow\\infty}\\left(\\frac{n}\\lambda\\cdot\\frac1n\\right) = \\frac1\\lambda $\n",
        "\n",
        "$x_{\\alpha_1}: \\Phi\\left(x_{\\alpha_1}\\right) = 1 - \\frac{\\alpha_1}2 = 1 - \\frac{0.20}2 = 0.9$\n",
        "\n",
        "3) $\\sqrt{n\\cdot\\frac1{\\overline x}}\\left(\\overline x-\\lambda\\right)\\;\\sim \\mathcal{N}\\left(0,1\\right)$\n",
        "\n",
        "4) $\\mathbb{P_\\lambda}\\left(\\frac{\\widehat\\theta\\left(\\overrightarrow X\\right) - x_{\\alpha_1}}{\\sqrt{nI\\left(\\widehat\\theta\\right)}} \\leq \\lambda\\leq\\frac{\\widehat\\theta\\left(\\overrightarrow X\\right) + x_{\\alpha_1}}{\\sqrt{nI\\left(\\widehat\\theta\\right)}}\\right) = 1 - \\alpha_1$\n",
        "\n",
        "Асимптотический доверительный интервал:\n",
        "\n",
        "$\\left[\\overline X\\;-\\;\\frac{x_{\\alpha_1}}{\\sqrt{n\\cdot\\frac1{\\overline X}}};\\;\\overline X\\;+\\;\\frac{x_{\\alpha_1}}{\\sqrt{n\\cdot\\frac1{\\overline X}}}\\;\\right]\\ni\\lambda$\n",
        "\n",
        "Подставим $\\overline X = 2.02,\\;\\; x_\\alpha = 1.28,\\;\\; n = 50$:\n",
        "\n",
        "$1.76\\leq \\lambda \\leq 2.28$\n",
        "\n",
        "####<b>d).2) Асимптотический доверительный интервал уровня значимости $\\alpha_1$ для параметра $\\lambda$ на базе асимптотически нормальной оценки:</b>\n",
        "\n",
        "ЦПТ:\n",
        "\n",
        "$\\sqrt n \\cdot \\frac{\\left(\\widehat \\theta\\left(\\overrightarrow X\\right) -\n",
        " \\;\\theta\\right)}{\\sigma\\left(\\widehat \\theta \\left(X\\right)\\right)} \\sim \\mathcal{N}\\left(0,1\\right)$\n",
        "\n",
        " $x_{\\alpha_1}: \\Phi\\left(x_{\\alpha_1}\\right) = 1 - \\frac{\\alpha_1}2 = 1 - \\frac{0.20}2 = 0.9$\n",
        "\n",
        " $\\sqrt n\\cdot \\frac{\\left(\\overline X - \\lambda \\right)}{\\overline X}\\sim \\mathcal{N}\\left(0,1\\right)$\n",
        "\n",
        " Асимптотический доверительный интервал:\n",
        "\n",
        " $\\left[\\overline X\\;-\\;\\frac{x_{\\alpha_1\\cdot \\sqrt{\\overline X}}}{\\sqrt{n}};\\;\\overline X\\;+\\;\\frac{x_{\\alpha_1\\cdot \\sqrt{\\overline X}}}{\\sqrt{n}}\\;\\right]\\ni\\lambda$\n",
        "\n",
        " $1.76\\leq \\lambda \\leq 2.28$"
      ],
      "metadata": {
        "id": "LHKCCxGhirtI"
      }
    },
    {
      "cell_type": "code",
      "source": [
        "#Вычисление аргумента функции Лапласа по значению функции\n",
        "import scipy.stats as st\n",
        "\n",
        "F = 0.9  # значение функции Лапласа\n",
        "inverse_laplace = st.norm.ppf(F)  # вычисление обратной функции Лапласа\n",
        "\n",
        "print(round(inverse_laplace, 2))"
      ],
      "metadata": {
        "colab": {
          "base_uri": "https://localhost:8080/"
        },
        "id": "Gs9cCX9R0EfM",
        "outputId": "1df51fcb-6a52-46cf-bc8c-f17fbd41fd07"
      },
      "execution_count": null,
      "outputs": [
        {
          "output_type": "stream",
          "name": "stdout",
          "text": [
            "1.28\n"
          ]
        }
      ]
    },
    {
      "cell_type": "markdown",
      "source": [
        "####<b>e) Используя гистограмму частот, построить критерий значимости $\\chi^2$ проверки простой гипотезы согласия с распределением Пуассона с параметром $\\lambda_0$. Проверить гипотезу на уровне значимости $\\alpha_1$. Вычислить наибольшее значение уровня значимости, на котором ещё нет оснований отвергнуть данную гипотезу.</b>\n",
        "\n",
        "$P_{i}=P_{H_{0}}=(X\\in I_{i})=\\sum_{k\\in I_{i}}^{}\\frac{\\lambda_{0}^{k}}{k!}exp(-\\lambda_{0})$\n",
        "\n",
        "$\\lambda_0 = 2;\\;\\; \\alpha_1 = 0.2;\\;\\; n = 50$\n",
        "\n",
        "$I_{1} = \\left[0\\right], n_{1} = 8$\n",
        "\n",
        "$p_{1} = \\frac{2^{0}}{0!}exp(-2) = 0.135\\Rightarrow n\\cdot p_{1} = 6.75$\n",
        "\n",
        "$I_{2} = \\left[1\\right], n_{2} = 15$\n",
        "\n",
        "$p_{2} = \\frac{2^{1}}{1!}exp(-2) = 0.271\\Rightarrow n\\cdot p_{2} = 13.55$\n",
        "\n",
        "$I_{3} = \\left[2\\right], n_{3} = 12$\n",
        "\n",
        "$p_{3} = \\frac{2^{2}}{2!}exp(-2) = 0.271\\Rightarrow n\\cdot p_{3} = 13.55$\n",
        "\n",
        "$I_{4} = \\left[3\\right], n_{4} = 5$\n",
        "\n",
        "$p_{4} = \\frac{2^{3}}{3!}exp(-2) = 0.18\\Rightarrow n\\cdot p_{4} = 9$\n",
        "\n",
        "$I_{5} = \\left[4\\right], n_{5} = 5$\n",
        "\n",
        "$p_{5} = \\frac{2^{4}}{4!}exp(-2) = 0.09\\Rightarrow n\\cdot p_{5} = 4.5$\n",
        "\n",
        "$I_{6} = \\left[5, 6\\right], n_{6} = 5$\n",
        "\n",
        "$p_{6} = \\frac{2^{5}}{5!}exp(-2) + \\frac{2^{6}}{6!}exp(-2) = 0.048\\Rightarrow n\\cdot p_{6} = 2.4$\n",
        "\n",
        "$r = 6$ - количество зон\n",
        "\n",
        "Критерий $\\chi^2$(по выборке) $=\\sum_{i=1}^{r}\\frac{(n_{i}-np_{i})^{2}}{np_{i}} =5.21$\n",
        "\n",
        "\n",
        "$\\chi^{2}_{5,0.8}\\approx 7.289$,\n",
        "\n",
        "$\\chi^2< \\chi^{2}_{5,0.8}\\Rightarrow$ по критерию Пирсона гипотеза $H_0$ не отвергается\n",
        "\n",
        "Наибольшее значение уровня значимости, при котором нет еще оснований отвергнуть данную гипотезу $\\approx 0.391$"
      ],
      "metadata": {
        "id": "9Qg7TbJPyoA2"
      }
    },
    {
      "cell_type": "code",
      "source": [
        "lambda0 = 2\n",
        "alpha = 0.2\n",
        "def funcPi(x, lambda0):\n",
        "  n = 50\n",
        "  p = 0\n",
        "  for i in range(len(x)):\n",
        "    p += (lambda0**x[i]/math.factorial(x[i]))*math.exp(-lambda0)\n",
        "  p = round(p, 3)\n",
        "  print(\"x = \", x, \"p = \", p, \"np = \", round(n*p, 3))\n",
        "  return round(n*p, 3)\n",
        "npi = []\n",
        "npi.append(funcPi([0], lambda0))\n",
        "npi.append(funcPi([1], lambda0))\n",
        "npi.append(funcPi([2], lambda0))\n",
        "npi.append(funcPi([3], lambda0))\n",
        "npi.append(funcPi([4], lambda0))\n",
        "npi.append(funcPi([5,6], lambda0))\n",
        "r = len(npi) - 1 #количество степеней свободы\n",
        "ni = [8,15,12,5,5,5]\n",
        "hiSample = 0\n",
        "for i in range(len(npi)):\n",
        "  hiSample += (ni[i] - npi[i])**2/npi[i]\n",
        "\n",
        "hiSample = round(hiSample, 2)\n",
        "print(\"Критерий хи-квадрат по выборке = \", hiSample)\n",
        "npi.clear()\n",
        "ni.clear()\n",
        "\n",
        "print(\"Значение хи-квадрат при количестве степеней свободы = \", r, \"и уровне значимости = \", alpha, \" = \", st.chi2.ppf(1 - alpha, r))\n",
        "print(\"Наибольшее значение уровня значимости, при котором нет еще оснований отвергнуть данную гипотезу = \", 1 - st.chi2.cdf(hiSample, r))"
      ],
      "metadata": {
        "colab": {
          "base_uri": "https://localhost:8080/"
        },
        "id": "qVivqNkpzL2c",
        "outputId": "26b697b7-fd6b-4476-aab7-848a807212be"
      },
      "execution_count": null,
      "outputs": [
        {
          "output_type": "stream",
          "name": "stdout",
          "text": [
            "x =  [0] p =  0.135 np =  6.75\n",
            "x =  [1] p =  0.271 np =  13.55\n",
            "x =  [2] p =  0.271 np =  13.55\n",
            "x =  [3] p =  0.18 np =  9.0\n",
            "x =  [4] p =  0.09 np =  4.5\n",
            "x =  [5, 6] p =  0.048 np =  2.4\n",
            "Критерий хи-квадрат по выборке =  5.21\n",
            "Значение хи-квадрат при количестве степеней свободы =  5 и уровне значимости =  0.2  =  7.289276126648961\n",
            "Наибольшее значение уровня значимости, при котором нет еще оснований отвергнуть данную гипотезу =  0.3907929383616602\n"
          ]
        }
      ]
    },
    {
      "cell_type": "markdown",
      "source": [
        "####<b>f) Построить критерий значимости $\\chi^2$ проверки сложной гипотезы согласия с распределением Пуассона. Проверить гипотезу по уровню значимости $\\alpha_1$. Вычислить наибольшее значение уровня значимости, на котором ещё нет оснований отвергнуть данную гипотезу.</b>\n",
        "\n",
        "$P_{i}=P_{H_{0}}=(X\\in I_{i})=\\sum_{k\\in I_{i}}^{}\\frac{\\overline X^{k}}{k!}exp(-\\overline X)$\n",
        "\n",
        "$\\overline X = 2.02;\\;\\; \\alpha_1 = 0.2;\\;\\; n = 50$\n",
        "\n",
        "$I_{1} = \\left[0\\right], n_{1} = 8$\n",
        "\n",
        "$p_{1} = \\frac{2.02^{0}}{0!}exp(-2.02) = 0.133\\Rightarrow n\\cdot p_{1} = 6.65$\n",
        "\n",
        "$I_{2} = \\left[1\\right], n_{2} = 15$\n",
        "\n",
        "$p_{2} = \\frac{2.02^{1}}{1!}exp(-2.02) = 0.268\\Rightarrow n\\cdot p_{2} = 13.4$\n",
        "\n",
        "$I_{3} = \\left[2\\right], n_{3} = 12$\n",
        "\n",
        "$p_{3} = \\frac{2.02^{2}}{2!}exp(-2.02) = 0.271\\Rightarrow n\\cdot p_{3} = 13.55$\n",
        "\n",
        "$I_{4} = \\left[3\\right], n_{4} = 5$\n",
        "\n",
        "$p_{4} = \\frac{2.02^{3}}{3!}exp(-2.02) = 0.182\\Rightarrow n\\cdot p_{4} = 9.1$\n",
        "\n",
        "$I_{5} = \\left[4\\right], n_{5} = 5$\n",
        "\n",
        "$p_{5} = \\frac{2.02^{4}}{4!}exp(-2.02) = 0.092\\Rightarrow n\\cdot p_{5} = 4.6$\n",
        "\n",
        "$I_{6} = \\left[5, 6\\right], n_{6} = 5$\n",
        "\n",
        "$p_{6} = \\frac{2.02^{5}}{5!}exp(-2.02) + \\frac{2.02^{6}}{6!}exp(-2.02) = 0.05\\Rightarrow n\\cdot p_{6} = 2.5$\n",
        "\n",
        "$r = 6$ - количество зон\n",
        "\n",
        "Критерий $\\chi^2$(по выборке) $=\\sum_{i=1}^{r}\\frac{(n_{i}-np_{i})^{2}}{np_{i}} =5.024$\n",
        "\n",
        "\n",
        "$\\chi^{2}_{4,0.8}\\approx 5.98861$\n",
        "\n",
        "$\\chi^2 < \\chi^{2}_{4,0.8}\\Rightarrow$ по критерию Пирсона гипотеза $H_0$ не отвергается\n",
        "\n",
        "Наибольшее значение уровня значимости, при котором нет еще оснований отвергнуть данную гипотезу $\\approx 0.285$"
      ],
      "metadata": {
        "id": "cO53v5lgL0sp"
      }
    },
    {
      "cell_type": "code",
      "source": [
        "lambda0 = xAvg\n",
        "alpha = 0.2\n",
        "def funcPi(x, lambda0):\n",
        "  n = 50\n",
        "  p = 0\n",
        "  for i in range(len(x)):\n",
        "    p += (lambda0**x[i]/math.factorial(x[i]))*math.exp(-lambda0)\n",
        "  p = round(p, 3)\n",
        "  print(\"x = \", x, \"p = \", p, \"np = \", round(n*p, 3))\n",
        "  return round(n*p, 3)\n",
        "npi = []\n",
        "npi.append(funcPi([0], lambda0))\n",
        "npi.append(funcPi([1], lambda0))\n",
        "npi.append(funcPi([2], lambda0))\n",
        "npi.append(funcPi([3], lambda0))\n",
        "npi.append(funcPi([4], lambda0))\n",
        "npi.append(funcPi([5,6], lambda0))\n",
        "r = len(npi) - 2 #количество степеней свободы\n",
        "ni = [8,15,12,5,5,5]\n",
        "hiSample = 0\n",
        "for i in range(len(npi)):\n",
        "  hiSample += (ni[i] - npi[i])**2/npi[i]\n",
        "\n",
        "hiSample = round(hiSample, 3)\n",
        "print(\"Критерий хи-квадрат по выборке = \", hiSample)\n",
        "npi.clear()\n",
        "ni.clear()\n",
        "print(\"Значение хи-квадрат при количестве степеней свободы = \", r, \"и уровне значимости = \", alpha, \" = \", st.chi2.ppf(1 - alpha, r))\n",
        "print(\"Наибольшее значение уровня значимости, при котором нет еще оснований отвергнуть данную гипотезу = \", 1 - st.chi2.cdf(hiSample, r))"
      ],
      "metadata": {
        "colab": {
          "base_uri": "https://localhost:8080/"
        },
        "outputId": "ef691d54-cb4f-40e8-e27e-c3df2e5f33d3",
        "id": "lDhC-dtjL9sm"
      },
      "execution_count": null,
      "outputs": [
        {
          "output_type": "stream",
          "name": "stdout",
          "text": [
            "x =  [0] p =  0.133 np =  6.65\n",
            "x =  [1] p =  0.268 np =  13.4\n",
            "x =  [2] p =  0.271 np =  13.55\n",
            "x =  [3] p =  0.182 np =  9.1\n",
            "x =  [4] p =  0.092 np =  4.6\n",
            "x =  [5, 6] p =  0.05 np =  2.5\n",
            "Критерий хи-квадрат по выборке =  5.024\n",
            "Значение хи-квадрат при количестве степеней свободы =  4 и уровне значимости =  0.2  =  5.9886166940042465\n",
            "Наибольшее значение уровня значимости, при котором нет еще оснований отвергнуть данную гипотезу =  0.28484379854933406\n"
          ]
        }
      ]
    },
    {
      "cell_type": "markdown",
      "source": [
        "####<b>g) Построить наиболее мощный критерий проверки простой гипотезы пуассоновости с параметром $\\lambda = \\lambda_0$ при альтернативе пуассоновости с параметром $\\lambda = \\lambda_1$. Проверить гипотезу на уровне значимости $\\alpha_1$. Что получится, если поменять местами основную и альтернативную гипотезы?</b>\n",
        "\n",
        "Простая основная гипотеза: $H_0: \\lambda = \\lambda_0$\n",
        "\n",
        "Простая альтернатива: $H_1: \\lambda = \\lambda_1$\n",
        "\n",
        "Статистика отношения правдоподобия:\n",
        "\n",
        "$LR\\left(X, \\lambda_1, \\lambda_0\\right) = \\frac{L\\left(X, \\lambda_1\\right)}{L\\left(X, \\lambda_0\\right)} = \\frac{\\lambda_1^{\\sum\\limits_{i=1}^n x_i}e^{-n\\lambda_1}\\prod\\limits_{i=1}^n\\frac1{x_i!}}{\\lambda_0^{\\sum\\limits_{i=1}^n x_i}e^{-n\\lambda_0}\\prod\\limits_{i=1}^n\\frac1{x_i!}} = \\left(\\frac{\\lambda_1}{\\lambda_0}\\right)^{\\sum\\limits_{i=1}^n x_i}\\cdot e^{-n\\left(\\lambda_1 - \\lambda_0\\right)}$\n",
        "\n",
        "Статистика LR(X) монотонна относительно МДС$\\left(T = \\sum\\limits_{i=1}^n x_i\\right)$\n",
        "\n",
        "В силу монотонности статистикик $LR\\left(X\\right)$ относительно МДС $\\overline X$\n",
        "\n",
        "$LR\\left(X\\right) > c \\Leftrightarrow \\overline X < c^*$\n",
        "\n",
        "$LR\\left(X\\right) < c \\Leftrightarrow \\overline X > c^*$\n",
        "\n",
        "$\\Rightarrow$ по Лемме Неймана-Пирсона:\n",
        "\n",
        "$\\phi\\left(x\\right) = \\left\\{\\begin{array}{l}1, \\overline X < c^*\\\\p, \\overline X = c^*\\\\0, \\overline X > c^*\\end{array}\\right.$\n",
        "\n",
        "ЦПТ:\n",
        "\n",
        "$\\sqrt n \\frac{\\overline X - \\mathbb{E}x}{S} \\sim \\mathcal N\\left(0, 1\\right)$\n",
        "\n",
        "$\\sqrt n \\frac{\\overline X - \\lambda_0}{\\sqrt{\\lambda_0}} \\sim \\mathcal N\\left(0, 1\\right)$ при $H_0$\n",
        "\n",
        "$\\Phi\\left(\\sqrt n \\frac{\\overline X - \\lambda_0}{\\sqrt{\\lambda_0}} \\geq \\frac{c^* - \\lambda_0}{\\sqrt{\\lambda_0}} \\right) = 1 - \\Phi\\left(\\sqrt n \\frac{\\overline X - \\lambda_0}{\\sqrt{\\lambda_0}}\\right) = \\alpha_1$\n",
        "\n",
        "Квантиль $x_{\\alpha_1}: \\Phi\\left(x_{\\alpha_1}\\right) = 1 - \\alpha_1 = 0.8$"
      ],
      "metadata": {
        "id": "qI16qJ5SvcOx"
      }
    },
    {
      "cell_type": "code",
      "source": [
        "F = 0.8  # значение функции Лапласа\n",
        "inverse_laplace = st.norm.ppf(F)  # вычисление обратной функции Лапласа\n",
        "\n",
        "print(inverse_laplace)\n"
      ],
      "metadata": {
        "colab": {
          "base_uri": "https://localhost:8080/"
        },
        "id": "3xzVuW3XEM0c",
        "outputId": "189ed7c9-4670-4860-fea3-ec0f4c4081c7"
      },
      "execution_count": null,
      "outputs": [
        {
          "output_type": "stream",
          "name": "stdout",
          "text": [
            "0.8416212335729143\n"
          ]
        }
      ]
    },
    {
      "cell_type": "markdown",
      "source": [
        "$x_{\\alpha_1} = 0.84;\\;\\; \\lambda_0 = 2;\\;\\; \\overline X = 2.02$\n",
        "\n",
        "$c^* = \\frac{x_{\\alpha_1}\\sqrt{\\lambda_0}}{\\sqrt n}+ \\lambda_0 = 2.168$\n",
        "\n",
        "$\\overline X < c^*  \\Rightarrow$ принимаем гипотезу $H_0$"
      ],
      "metadata": {
        "id": "Ib7FBOiKEaNu"
      }
    },
    {
      "cell_type": "markdown",
      "source": [
        "Меняем местами основную и альтернативную гипотезы:\n",
        "\n",
        "Простая основная гипотеза: $H_0: \\lambda = \\lambda_1$\n",
        "\n",
        "Простая альтернатива: $H_1: \\lambda = \\lambda_0$\n",
        "\n",
        "Статистика отношения правдоподобия:\n",
        "\n",
        "$LR\\left(X, \\lambda_1, \\lambda_0\\right) = \\frac{L\\left(X, \\lambda_0\\right)}{L\\left(X, \\lambda_1\\right)} = \\frac{\\lambda_0^{\\sum\\limits_{i=1}^n x_i}e^{-n\\lambda_0}\\prod\\limits_{i=1}^n\\frac1{x_i!}}{\\lambda_1^{\\sum\\limits_{i=1}^n x_i}e^{-n\\lambda_1}\\prod\\limits_{i=1}^n\\frac1{x_i!}} = \\left(\\frac{\\lambda_0}{\\lambda_1}\\right)^{\\sum\\limits_{i=1}^n x_i}\\cdot e^{-n\\left(\\lambda_0 - \\lambda_1\\right)}$\n",
        "\n",
        "Статистика LR(X) монотонна относительно МДС$\\left(T = \\sum\\limits_{i=1}^n x_i\\right)$\n",
        "\n",
        "В силу монотонности статистикик $LR\\left(X\\right)$ относительно МДС $\\overline X$\n",
        "\n",
        "$LR\\left(X\\right) > c \\Leftrightarrow \\overline X < c^*$\n",
        "\n",
        "$LR\\left(X\\right) < c \\Leftrightarrow \\overline X > c^*$\n",
        "\n",
        "$\\Rightarrow$ по Лемме Неймана-Пирсона:\n",
        "\n",
        "$\\phi\\left(x\\right) = \\left\\{\\begin{array}{l}1, \\overline X < c^*\\\\p, \\overline X = c^*\\\\0, \\overline X > c^*\\end{array}\\right.$\n",
        "\n",
        "ЦПТ:\n",
        "\n",
        "$\\sqrt n \\frac{\\overline X - \\mathbb{E}x}{S} \\sim \\mathcal N\\left(0, 1\\right)$\n",
        "\n",
        "$\\sqrt n \\frac{\\overline X - \\lambda_1}{\\sqrt{\\lambda_1}} \\sim \\mathcal N\\left(0, 1\\right)$ при $H_0$\n",
        "\n",
        "$\\Phi\\left(\\sqrt n \\frac{\\overline X - \\lambda_1}{\\sqrt{\\lambda_1}} \\geq \\frac{c^* - \\lambda_1}{\\sqrt{\\lambda_1}} \\right) = 1 - \\Phi\\left(\\sqrt n \\frac{\\overline X - \\lambda_1}{\\sqrt{\\lambda_1}}\\right) = \\alpha_1$\n",
        "\n",
        "Квантиль $x_{\\alpha_1}: \\Phi\\left(x_{\\alpha_1}\\right) = 1 - \\alpha_1 = 0.8$\n",
        "\n",
        "$x_{\\alpha_1} = 0.84;\\;\\; \\lambda_1 = 3;\\;\\; \\overline X = 2.02$\n",
        "\n",
        "$c^* = \\frac{x_{\\alpha_1}\\sqrt{\\lambda_1}}{\\sqrt n}+ \\lambda_1 = 3.21$\n",
        "\n",
        "$\\overline X < c^*  \\Rightarrow$ принимаем гипотезу $H_0$"
      ],
      "metadata": {
        "id": "aX5rXEgDJOKc"
      }
    },
    {
      "cell_type": "markdown",
      "source": [
        "####<b>h) В пунктах (c)-(f) заменить семейство распределений Пуассона на семейство геометрических распределений: $\\mathbb{P_\\lambda}\\left(X = k\\right) =\\frac{\\lambda^k}{\\left(\\lambda + 1\\right)^{k + 1}},\\;\\;\\;k\\in\\mathbb{Z_+}$</b>\n",
        "\n",
        "$q_\\theta\\left(k\\right) = \\frac{\\lambda^k}{\\left(\\lambda + 1\\right)^{k + 1}},\\;\\;\\;k\\in\\mathbb{Z_+}$\n",
        "\n",
        "####<b>h).c) ОМП:</b>\n",
        "\n",
        "1) $L\\left(\\overrightarrow X, \\theta\\right) = \\prod\\limits_{i=1}^n\\frac{\\lambda^{x_i}}{\\left(\\lambda + 1\\right)^{x_i + 1}} = \\frac{\\lambda^{\\sum\\limits_{i=1}^n x_i}}{\\left(\\lambda + 1\\right)^{\\sum\\limits_{i=1}^nx_i + 1}}$\n",
        "\n",
        "$LL\\left(\\overrightarrow X, \\theta\\right) = \\sum\\limits_{i=1}^nx_i\\ln\\lambda - \\left(\\sum\\limits_{i=1}^nx_i + n\\right)\\ln\\left(\\lambda + 1\\right) $\n",
        "\n",
        "$\\frac{\\partial LL}{\\partial\\lambda} = \\frac{\\sum\\limits_{i=1}^nx_i}{\\lambda} - \\frac{\\sum\\limits_{i=1}^nx_i +n}{\\lambda + 1} = 0$\n",
        "\n",
        "$\\left(\\lambda + 1\\right)\\sum\\limits_{i=1}^n x_i -\\lambda\\left(\\sum\\limits_{i=1}^n x_i + n\\right) = 0$\n",
        "\n",
        "$\\lambda\\sum\\limits_{i=1}^n x_i + \\sum\\limits_{i=1}^n x_i - \\lambda\\sum\\limits_{i=1}^n x_i - \\lambda n = 0$\n",
        "\n",
        "$\\lambda n = \\sum\\limits_{i=1}^n x_i \\Rightarrow \\widehat \\lambda = \\overline X$\n",
        "\n",
        "$\\widehat\\theta = \\overline X$ - ОМП\n",
        "\n",
        "<b>2) Метод моментов:</b>\n",
        "\n",
        "$\\mu_1 = \\frac{\\sum\\limits_{i=1}^n x_i}{n} = \\overline X$\n",
        "\n",
        "$\\widetilde \\theta = \\overline X$ - ОММ\n",
        "\n",
        "<b>3) Смещение оценки:</b>\n",
        "\n",
        "$\\frac{\\lambda^k}{\\left(\\lambda + 1\\right)^{k + 1}} = \\frac{1}{\\lambda + 1}\\cdot \\left(\\frac{\\lambda + 1 - 1}{\\lambda + 1}\\right)^k = \\frac{1}{\\lambda + 1}\\left(1 - \\frac{1}{\\lambda + 1}\\right)^k$ - геометрическое распределение с параметром $p = \\frac{1}{\\lambda + 1}$\n",
        "\n",
        "$\\mathbb{E}\\xi = \\frac{1 - p}{p} = \\frac{1 - \\frac{1}{\\lambda + 1}}{\\frac{1}{\\lambda + 1}} = \\lambda$\n",
        "\n",
        "$\\mathbb{E_\\theta}\\widehat \\lambda = \\mathbb{E_\\theta}\\overline X = \\frac1n\\cdot\\sum\\limits_{i=1}^n\\mathbb{E_\\theta} x_i = \\frac{n\\cdot\\lambda}{n} = \\lambda \\Rightarrow $ оценка несмещенная\n",
        "\n",
        "$\\widetilde\\theta = \\widehat\\theta$\n",
        "\n",
        "####<b>h).d) Асимптотический доверительный интервал уровня значимости $\\alpha_2$ для параметра $\\lambda$ на базе ОМП:</b>\n",
        "\n",
        "1) ОМП:\n",
        "\n",
        "$\\widehat\\theta=\\overline X$\n",
        "\n",
        "2) Информация Фишера:\n",
        "\n",
        "$I_n\\left(\\theta\\right) = -\\mathbb{E_\\theta}\\frac{\\partial^2 LL}{\\partial\\theta^2}$\n",
        "\n",
        "$\\frac{\\partial^2 LL}{\\partial\\lambda^2} = -\\frac{\\sum\\limits_{i=1}^nx_i}{\\lambda^2} + \\frac{\\sum\\limits_{i=1}^nx_i + n}{\\left(\\lambda + 1\\right)^2}$\n",
        "\n",
        "$I_n\\left(\\lambda\\right) = -\\mathbb{E_\\theta}\\left(-\\frac{\\sum\\limits_{i=1}^nx_i}{\\lambda^2} + \\frac{\\sum\\limits_{i=1}^nx_i + n}{\\left(\\lambda + 1\\right)^2}\\right) = \\mathbb{E_\\theta}\\frac{\\sum\\limits_{i=1}^nx_i}{\\lambda^2} - \\mathbb{E_\\theta}\\frac{\\sum\\limits_{i=1}^nx_i + n}{\\left(\\lambda + 1\\right)^2} = \\frac{\\sum\\limits_{i=1}^n \\mathbb{E_\\theta}x_i}{\\lambda^2}- \\frac1{\\left(\\lambda + 1\\right)^2}\\mathbb{E_\\theta}\\left(\\sum\\limits_{i=1}^nx_i + n\\right) = \\frac{\\sum\\limits_{i=1}^n \\mathbb{E_\\theta}x_i}{\\lambda^2} - \\frac{\\sum\\limits_{i=1}^n \\mathbb{E_\\theta x_i}}{\\left(\\lambda + 1\\right)^2} -  \\frac n{\\left(\\lambda + 1\\right)^2} = n\\left(\\frac1\\lambda - \\frac \\lambda{\\left(\\lambda + 1\\right)^2} - \\frac 1{\\left(\\lambda + 1\\right)^2}\\right) = n\\left(\\frac1\\lambda - \\frac {\\lambda + 1}{\\left(\\lambda + 1\\right)^2} \\right) = \\frac n{\\lambda\\left(\\lambda + 1\\right)}$\n",
        "\n",
        "$I\\left(\\lambda\\right) = \\lim_{n\\rightarrow\\infty}\\left(\\frac{I_n\\left(\\lambda\\right)}n\\right) = \\lim_{n\\rightarrow\\infty}\\left(\\frac{n}{\\lambda\\left(\\lambda + 1\\right)}\\cdot\\frac1n\\right) = \\frac1{\\lambda\\left(\\lambda + 1\\right)} $\n",
        "\n",
        "$x_{\\alpha_1}: \\Phi\\left(x_{\\alpha_1}\\right) = 1 - \\frac{\\alpha_2}2 = 1 - \\frac{0.20}2 = 0.9 \\Rightarrow x_{\\alpha_1} = 1.28$\n",
        "\n",
        "3) $\\sqrt{n\\cdot\\frac1{\\overline X\\left(\\overline X + 1\\right)}}\\left(\\overline x-\\lambda\\right)\\;\\sim \\mathcal{N}\\left(0,1\\right)$\n",
        "\n",
        "4) $\\mathbb{P_\\lambda}\\left(\\frac{\\widehat\\theta\\left(\\overrightarrow X\\right) - x_{\\alpha_1}}{\\sqrt{nI\\left(\\widehat\\theta\\right)}} \\leq \\lambda\\leq\\frac{\\widehat\\theta\\left(\\overrightarrow X\\right) + x_{\\alpha_1}}{\\sqrt{nI\\left(\\widehat\\theta\\right)}}\\right) = 1 - \\alpha_2$\n",
        "\n",
        "Асимптотический доверительный интервал:\n",
        "\n",
        "$\\left[\\overline X\\;-\\;\\frac{x_{\\alpha_1}}{\\sqrt{n\\cdot\\frac1{\\overline X\\left(\\overline X + 1\\right)}}};\\;\\overline X\\;+\\;\\frac{x_{\\alpha_1}}{\\sqrt{n\\cdot\\frac1{\\overline X\\left(\\overline X + 1\\right)}}}\\;\\right]\\ni\\lambda$\n",
        "\n",
        "Подставим $\\overline X = 2.02,\\;\\; x_\\alpha = 1.28,\\;\\; n = 50$:\n",
        "\n",
        "$1.57\\leq \\lambda \\leq 2.47$\n",
        "\n",
        "####<b>d).2) Асимптотический доверительный интервал уровня значимости $\\alpha_1$ для параметра $\\lambda$ на базе асимптотически нормальной оценки:</b>\n",
        "\n",
        "ЦПТ:\n",
        "\n",
        "$\\sqrt n \\cdot \\frac{\\left(\\widehat \\theta\\left(\\overrightarrow X\\right) -\n",
        " \\;\\theta\\right)}{\\sigma\\left(\\widehat \\theta \\left(X\\right)\\right)} \\sim \\mathcal{N}\\left(0,1\\right)$\n",
        "\n",
        " $x_{\\alpha_1}: \\Phi\\left(x_{\\alpha_1}\\right) = 1 - \\frac{\\alpha_1}2 = 1 - \\frac{0.20}2 = 0.9$\n",
        "\n",
        " Для геометрического распределения с параметром $p = \\frac{1}{\\lambda + 1} \\;\\;\\;\\mathbb{D}\\xi = \\frac{1-p}{p^2} = \\frac{1-\\frac{1}{\\lambda + 1}}{\\left(\\frac{1}{\\lambda + 1}\\right)^2} = \\lambda\\left(\\lambda + 1\\right) \\Rightarrow$\n",
        "\n",
        " $\\sigma\\left(\\widehat \\theta \\left(X\\right)\\right) = \\sqrt{\\overline X\\left(\\overline X + 1\\right)}$\n",
        "\n",
        " $\\sqrt n\\cdot \\frac{\\left(\\overline X - \\lambda \\right)}{\\sqrt{\\overline X\\left(\\overline X + 1\\right)}}\\sim \\mathcal{N}\\left(0,1\\right)$\n",
        "\n",
        " Асимптотический доверительный интервал:\n",
        "\n",
        " $\\left[\\overline X\\;-\\;\\frac{x_{\\alpha_1}\\cdot \\sqrt{\\overline X\\left(\\overline X + 1\\right)}}{\\sqrt{n}};\\;\\overline X\\;+\\;\\frac{x_{\\alpha_1}\\cdot \\sqrt{\\overline X\\left(\\overline X + 1\\right)}}{\\sqrt{n}}\\;\\right]\\ni\\lambda$\n",
        "\n",
        " $1.57\\leq \\lambda \\leq 2.47$\n",
        "\n"
      ],
      "metadata": {
        "id": "vXq4i44QL2GT"
      }
    },
    {
      "cell_type": "markdown",
      "source": [
        "####<b>h).e)</b>\n",
        "\n",
        "$P_{i}=P_{H_{0}}=(X\\in I_{i})=\\sum_{k\\in I_{i}}^{}\\frac{\\lambda_0^k}{\\left(\\lambda_0 + 1\\right)^{k + 1}}$\n",
        "\n",
        "$\\lambda_0 = 2;\\;\\; \\alpha_1 = 0.2;\\;\\; n = 50$\n",
        "\n",
        "$I_{1} = \\left[0\\right], n_{1} = 8$\n",
        "\n",
        "$p_{1} = \\frac{2^0}{\\left(2+ 1\\right)^{0 + 1}} = 0.333\\Rightarrow n\\cdot p_{1} = 16.65$\n",
        "\n",
        "$I_{2} = \\left[1\\right], n_{2} = 15$\n",
        "\n",
        "$p_{2} = \\frac{2^1}{\\left(2+ 1\\right)^{1 + 1}} = 0.222\\Rightarrow n\\cdot p_{2} = 11.1$\n",
        "\n",
        "$I_{3} = \\left[2\\right], n_{3} = 12$\n",
        "\n",
        "$p_{3} = \\frac{2^2}{\\left(2+ 1\\right)^{2 + 1}} = 0.148\\Rightarrow n\\cdot p_{3} = 7.4$\n",
        "\n",
        "$I_{4} = \\left[3\\right], n_{4} = 5$\n",
        "\n",
        "$p_{4} = \\frac{2^3}{\\left(2+ 1\\right)^{3 + 1}} = 0.099\\Rightarrow n\\cdot p_{4} = 4.95$\n",
        "\n",
        "$I_{5} = \\left[4\\right], n_{5} = 5$\n",
        "\n",
        "$p_{5} = \\frac{2^4}{\\left(2+ 1\\right)^{4 + 1}} = 0.066\\Rightarrow n\\cdot p_{5} = 3.3$\n",
        "\n",
        "$I_{6} = \\left[5, 6\\right], n_{6} = 5$\n",
        "\n",
        "$p_{6} = \\frac{2^5}{\\left(2+ 1\\right)^{5 + 1}} + \\frac{2^6}{\\left(2+ 1\\right)^{6 + 1}} = 0.073\\Rightarrow n\\cdot p_{6} = 3.65$\n",
        "\n",
        "$r = 6$ - количество зон\n",
        "\n",
        "Критерий $\\chi^2$(по выборке) $=\\sum_{i=1}^{r}\\frac{(n_{i}-np_{i})^{2}}{np_{i}} =10.1$\n",
        "\n",
        "\n",
        "$\\chi^{2}_{5,0.8}\\approx 7.289$,\n",
        "\n",
        "$\\chi^2 > \\chi^{2}_{5,0.8}\\Rightarrow$ по критерию Пирсона гипотеза $H_0$ отвергается\n",
        "\n",
        "Наибольшее значение уровня значимости, при котором нет еще оснований отвергнуть данную гипотезу $\\approx 0.0725$"
      ],
      "metadata": {
        "id": "idFDRtB_KBC4"
      }
    },
    {
      "cell_type": "code",
      "source": [
        "lambda0 = 2\n",
        "alpha = 0.2\n",
        "def funcPi(x, lambda0):\n",
        "  n = 50\n",
        "  p = 0\n",
        "  for i in range(len(x)):\n",
        "    p += lambda0**x[i]/(lambda0 +1)**(x[i] + 1)\n",
        "  p = round(p, 3)\n",
        "  print(\"x = \", x, \"p = \", p, \"np = \", round(n*p, 3))\n",
        "  return round(n*p, 3)\n",
        "npi = []\n",
        "npi.append(funcPi([0], lambda0))\n",
        "npi.append(funcPi([1], lambda0))\n",
        "npi.append(funcPi([2], lambda0))\n",
        "npi.append(funcPi([3], lambda0))\n",
        "npi.append(funcPi([4], lambda0))\n",
        "npi.append(funcPi([5,6], lambda0))\n",
        "r = len(npi) - 1 #количество степеней свободы\n",
        "ni = [8,15,12,5,5,5]\n",
        "hiSample = 0\n",
        "for i in range(len(npi)):\n",
        "  hiSample += (ni[i] - npi[i])**2/npi[i]\n",
        "\n",
        "hiSample = round(hiSample, 2)\n",
        "print(\"Критерий хи-квадрат по выборке = \", hiSample)\n",
        "npi.clear()\n",
        "ni.clear()\n",
        "\n",
        "print(\"Значение хи-квадрат при количестве степеней свободы = \", r, \"и уровне значимости = \", alpha, \" = \", st.chi2.ppf(1 - alpha, r))\n",
        "print(\"Наибольшее значение уровня значимости, при котором нет еще оснований отвергнуть данную гипотезу = \", 1 - st.chi2.cdf(hiSample, r))"
      ],
      "metadata": {
        "colab": {
          "base_uri": "https://localhost:8080/"
        },
        "id": "he5UsmB90ek5",
        "outputId": "760996f7-f455-427e-a41f-e17a1467fcf0"
      },
      "execution_count": null,
      "outputs": [
        {
          "output_type": "stream",
          "name": "stdout",
          "text": [
            "x =  [0] p =  0.333 np =  16.65\n",
            "x =  [1] p =  0.222 np =  11.1\n",
            "x =  [2] p =  0.148 np =  7.4\n",
            "x =  [3] p =  0.099 np =  4.95\n",
            "x =  [4] p =  0.066 np =  3.3\n",
            "x =  [5, 6] p =  0.073 np =  3.65\n",
            "Критерий хи-квадрат по выборке =  10.1\n",
            "Значение хи-квадрат при количестве степеней свободы =  5 и уровне значимости =  0.2  =  7.289276126648961\n",
            "Наибольшее значение уровня значимости, при котором нет еще оснований отвергнуть данную гипотезу =  0.07245087127246386\n"
          ]
        }
      ]
    },
    {
      "cell_type": "markdown",
      "source": [
        "####<b>h).f)</b>\n",
        "\n",
        "$P_{i}=P_{H_{0}}=(X\\in I_{i})=\\sum_{k\\in I_{i}}^{}\\frac{\\overline X^k}{\\left(\\overline X + 1\\right)^{k + 1}}$\n",
        "\n",
        "$\\overline X = 2.02;\\;\\; \\alpha_1 = 0.2;\\;\\; n = 50$\n",
        "\n",
        "$I_{1} = \\left[0\\right], n_{1} = 8$\n",
        "\n",
        "$p_{1} = \\frac{2.02^0}{\\left(2.02+ 1\\right)^{0 + 1}} = 0.331\\Rightarrow n\\cdot p_{1} = 16.65$\n",
        "\n",
        "$I_{2} = \\left[1\\right], n_{2} = 15$\n",
        "\n",
        "$p_{2} = \\frac{2.02^1}{\\left(2.02+ 1\\right)^{1 + 1}} = 0.221\\Rightarrow n\\cdot p_{2} = 11.1$\n",
        "\n",
        "$I_{3} = \\left[2\\right], n_{3} = 12$\n",
        "\n",
        "$p_{3} = \\frac{2.02^2}{\\left(2.02+ 1\\right)^{2 + 1}} = 0.148\\Rightarrow n\\cdot p_{3} = 7.4$\n",
        "\n",
        "$I_{4} = \\left[3\\right], n_{4} = 5$\n",
        "\n",
        "$p_{4} = \\frac{2.02^3}{\\left(2.02+ 1\\right)^{3 + 1}} = 0.099\\Rightarrow n\\cdot p_{4} = 4.95$\n",
        "\n",
        "$I_{5} = \\left[4\\right], n_{5} = 5$\n",
        "\n",
        "$p_{5} = \\frac{2.02^4}{\\left(2.02+ 1\\right)^{4 + 1}} = 0.066\\Rightarrow n\\cdot p_{5} = 3.3$\n",
        "\n",
        "$I_{6} = \\left[5, 6\\right], n_{6} = 5$\n",
        "\n",
        "$p_{6} = \\frac{2.02^5}{\\left(2.02+ 1\\right)^{5 + 1}} + \\frac{2.02^6}{\\left(2.02+ 1\\right)^{6 + 1}} = 0.074\\Rightarrow n\\cdot p_{6} = 3.7$\n",
        "\n",
        "$r = 6$ - количество зон\n",
        "\n",
        "Критерий $\\chi^2$(по выборке) $=\\sum_{i=1}^{r}\\frac{(n_{i}-np_{i})^{2}}{np_{i}} =10.02$\n",
        "\n",
        "\n",
        "$\\chi^{2}_{4,0.8}\\approx 5.98862$,\n",
        "\n",
        "$\\chi^2 > \\chi^{2}_{4,0.8}\\Rightarrow$ по критерию Пирсона гипотеза $H_0$ отвергается\n",
        "\n",
        "Наибольшее значение уровня значимости, при котором нет еще оснований отвергнуть данную гипотезу $\\approx 0.04$\n"
      ],
      "metadata": {
        "id": "-WzG1_lrKV80"
      }
    },
    {
      "cell_type": "code",
      "source": [
        "lambda0 = 2.02\n",
        "alpha = 0.2\n",
        "def funcPi(x, lambda0):\n",
        "  n = 50\n",
        "  p = 0\n",
        "  for i in range(len(x)):\n",
        "    p += lambda0**x[i]/(lambda0 +1)**(x[i] + 1)\n",
        "  p = round(p, 3)\n",
        "  print(\"x = \", x, \"p = \", p, \"np = \", round(n*p, 3))\n",
        "  return round(n*p, 3)\n",
        "npi = []\n",
        "npi.append(funcPi([0], lambda0))\n",
        "npi.append(funcPi([1], lambda0))\n",
        "npi.append(funcPi([2], lambda0))\n",
        "npi.append(funcPi([3], lambda0))\n",
        "npi.append(funcPi([4], lambda0))\n",
        "npi.append(funcPi([5,6], lambda0))\n",
        "r = len(npi) - 2 #количество степеней свободы\n",
        "ni = [8,15,12,5,5,5]\n",
        "hiSample = 0\n",
        "for i in range(len(npi)):\n",
        "  hiSample += (ni[i] - npi[i])**2/npi[i]\n",
        "\n",
        "hiSample = round(hiSample, 2)\n",
        "print(\"Критерий хи-квадрат по выборке = \", hiSample)\n",
        "npi.clear()\n",
        "ni.clear()\n",
        "\n",
        "print(\"Значение хи-квадрат при количестве степеней свободы = \", r, \"и уровне значимости = \", alpha, \" = \", st.chi2.ppf(1 - alpha, r))\n",
        "print(\"Наибольшее значение уровня значимости, при котором нет еще оснований отвергнуть данную гипотезу = \", 1 - st.chi2.cdf(hiSample, r))"
      ],
      "metadata": {
        "colab": {
          "base_uri": "https://localhost:8080/"
        },
        "id": "Sa0chhIfq3DZ",
        "outputId": "661a3acc-3765-4def-c9cf-3549d0a18049"
      },
      "execution_count": null,
      "outputs": [
        {
          "output_type": "stream",
          "name": "stdout",
          "text": [
            "x =  [0] p =  0.331 np =  16.55\n",
            "x =  [1] p =  0.221 np =  11.05\n",
            "x =  [2] p =  0.148 np =  7.4\n",
            "x =  [3] p =  0.099 np =  4.95\n",
            "x =  [4] p =  0.066 np =  3.3\n",
            "x =  [5, 6] p =  0.074 np =  3.7\n",
            "Критерий хи-квадрат по выборке =  10.02\n",
            "Значение хи-квадрат при количестве степеней свободы =  4 и уровне значимости =  0.2  =  5.9886166940042465\n",
            "Наибольшее значение уровня значимости, при котором нет еще оснований отвергнуть данную гипотезу =  0.04009212887059421\n"
          ]
        }
      ]
    },
    {
      "cell_type": "markdown",
      "source": [
        "###Задание 2"
      ],
      "metadata": {
        "id": "qKp3eLpP7Cce"
      }
    },
    {
      "cell_type": "markdown",
      "source": [
        "####<b>a) Построить вариционный ряд, эмпирическую функцию распределения,гистограмму и полигон частотс шагом h </b>\n",
        "\n",
        "Объем выборки n = 50\n",
        "\n",
        "Вариационный ряд:\n",
        "\n",
        "0.207;  0.217;  0.352;  0.463;  0.832;  1.193;  1.635;  1.741;  1.849;  1.968;  2.07;  2.186;  2.997;  3.073;  3.162;  3.274;  3.483;  3.519;  3.534;  3.582;  3.796;  3.861;  3.869;  3.898;  4.019;  4.056;  4.094;  4.167;  4.326;  4.418;  4.491;  4.578;  4.736;  4.904;  5.09;  5.146;  5.18;  5.232;  5.335;  5.356;  5.431;  5.453;  5.748;  5.904;  6.046;  6.124;  6.771;  7.375;  8.466;  8.637\n",
        "\n",
        "Эмпирическая функция:"
      ],
      "metadata": {
        "id": "mhknFsG_JZrR"
      }
    },
    {
      "cell_type": "code",
      "source": [
        "xi = [5.431, 4.056, 6.124, 3.162, 8.637, 0.207, 4.167, 4.578, 5.335, 4.326, 1.635, 4.418, 5.356, 7.375, 0.217, 5.453, 5.090, 3.274, 0.463, 8.466, 5.232,\\\n",
        "6.771, 3.582, 3.073, 3.861, 3.519, 5.146, 4.019, 4.904, 4.491, 2.997, 3.483, 1.968, 0.352, 5.748, 6.046, 3.898, 5.180, 5.904, 2.186, 1.741, 0.832,\\\n",
        "4.736, 3.534, 1.849, 4.094, 1.193, 3.796, 2.070, 3.869]\n",
        "n = len(xi) #объем выборки\n",
        "accuracy = 3 #точность для всех округлений. Везде до 3х знаков после запятой\n",
        "\n",
        "print('Объем выборки:', n)\n",
        "print(\"Вариационный ряд:\")\n",
        "xi = sorted(xi)\n",
        "print('; '.join(str(xi).split(',')))\n",
        "\n",
        "i = 0\n",
        "xmax = xi[-1]\n",
        "xmin = xi[0]\n",
        "nx = 0 #количество элементов, меньших чем xi\n",
        "Fx = [] #эмпирическая функция распрделенения\n",
        "ni = [] #Количество каждого элемента выборки\n",
        "p = [] #плотность относительной часты(вероятность; количество одинаковых элементов делим на n)\n",
        "while i != n:\n",
        "    countCurrentX = xi.count(xi[i])\n",
        "    nx = i\n",
        "    Fx.append(nx/n)\n",
        "    ni.append(countCurrentX)\n",
        "    p.append(countCurrentX/n)\n",
        "    i += countCurrentX\n",
        "xi_unique = list(sorted(set(xi)))"
      ],
      "metadata": {
        "colab": {
          "base_uri": "https://localhost:8080/"
        },
        "id": "mStMLkoLDiEW",
        "outputId": "5dae6b53-d493-4b94-edb2-96e7102719e1"
      },
      "execution_count": null,
      "outputs": [
        {
          "output_type": "stream",
          "name": "stdout",
          "text": [
            "Объем выборки: 50\n",
            "Вариационный ряд:\n",
            "[0.207;  0.217;  0.352;  0.463;  0.832;  1.193;  1.635;  1.741;  1.849;  1.968;  2.07;  2.186;  2.997;  3.073;  3.162;  3.274;  3.483;  3.519;  3.534;  3.582;  3.796;  3.861;  3.869;  3.898;  4.019;  4.056;  4.094;  4.167;  4.326;  4.418;  4.491;  4.578;  4.736;  4.904;  5.09;  5.146;  5.18;  5.232;  5.335;  5.356;  5.431;  5.453;  5.748;  5.904;  6.046;  6.124;  6.771;  7.375;  8.466;  8.637]\n"
          ]
        }
      ]
    },
    {
      "cell_type": "code",
      "source": [
        "# Построение эмпирической функции распределения\n",
        "print(\"Эмпирическая функция распределения\")\n",
       
        "\n",
        "Fx2 = Fx.copy()\n",
        "Fx2.append(Fx[-1])\n",
        "\n",
        "xi_unique2 = xi_unique.copy()\n",
        "xi_unique2.append(xi_unique[-1] + 1)\n",
        "\n",
        "plt.hlines(Fx2[:-1], xi_unique2[:-1], xi_unique2[1:], colors='b')\n",
        "plt.xlabel('Значения выборки')\n",
        "plt.ylabel('Вероятность')\n",
        "plt.title('Эмпирическая функция распределения')\n",
        "plt.show()"
      ],
      "metadata": {
        "colab": {
          "base_uri": "https://localhost:8080/",
          "height": 596
        },
        "id": "bePmcTZy2bsQ",
        "outputId": "5abe6061-e0ec-4fe7-de0f-7c9c8652bd26"
      },
      "execution_count": null,
      "outputs": [
        {
          "output_type": "stream",
          "name": "stdout",
          "text": [
            
          ]
        },
        {
          "output_type": "display_data",
          "data": {
            "text/plain": [
              "<Figure size 640x480 with 1 Axes>"
            ],
            "image/png": "[encoded data removed]"
          },
          "metadata": {}
        }
      ]
    },
    {
      "cell_type": "code",
      "source": [
        "\n",
        "#гистограмма частот\n",
        "h = 0.8\n",
        "bins = numpy.arange(min(xi), max(xi) + h, h) # определение границ интервалов гистограммы\n",
        "counts, _ = numpy.histogram(xi, bins=bins, density=True)\n",
        "\n",
        "plt.bar(bins[:-1], counts, align='edge', width=h, edgecolor='black')\n",
        "plt.xlabel('интервалы')\n",
        "plt.ylabel('Относительная частота')\n",
        "plt.title('Гистограмма частот с шагом h = 0.8')\n",
        "plt.show()\n",
        "\n",
        "\n",
        "\n",
        "\n",
        "#полигон частот\n",
        "plt.title(\"Полигон частот с шагом h = 0.8\")\n",
        "plt.xlabel(\"интервалы\")\n",
        "plt.ylabel(\"Относительная частота\")\n",
        "\n",
        "hist, _ = numpy.histogram(xi, bins=bins,density=True)\n",
        "bin_centers = 0.5 * (bins[1:] + bins[:-1])\n",
        "plt.plot(bin_centers, hist, color='blue', marker='o', linestyle='-', label='Полигон')\n",
        "plt.show()\n"
      ],
      "metadata": {
        "colab": {
          "base_uri": "https://localhost:8080/",
          "height": 1000
        },
        "id": "3XZsX1u1JatP",
        "outputId": "028d2e65-1573-43e2-8211-81bb7c68031f"
      },
      "execution_count": null,
      "outputs": [
        {
          "output_type": "stream",
          "name": "stdout",
          "text": [
            
          ]
        },
        {
          "output_type": "display_data",
          "data": {
            "text/plain": [
              "<Figure size 640x480 with 1 Axes>"
            ],
            "image/png": "[encoded data removed]"
          },
          "metadata": {}
        },
        {
          "output_type": "display_data",
          "data": {
            "text/plain": [
              "<Figure size 640x480 with 1 Axes>"
            ],
            "image/png": "[encoded data removed]"
          },
          "metadata": {}
        }
      ]
    },
    {
      "cell_type": "markdown",
      "source": [
        "####<b>b) Вычислить выборочные аналоги следующих числовых характеристик: (i)математического ожидания, (ii)дисперсии, (iii)медианы, (iv)асимметрии, (v)эксцесса, (vi) вероятности $\\mathbb{P}\\left(X\\in\\left[c,d\\right]\\right)$ </b>\n",
        "Выборочное среднее:\n",
        "$\\overline X=\\frac1n\\sum\\limits_{i=1}^nx_i = 3.95688$\n",
        "\n",
        "Выборочная дисперсия:\n",
        "$S^2 = \\frac1n\\sum\\limits_{i=1}^n\\left(X_i-\\overline X\\right)^2 = 3.884$\n",
        "\n",
        "Выборочное СКО:\n",
        "$S = \\sqrt{\\frac1n\\sum\\limits_{i=1}^n\\left(X_i-\\overline X\\right)^2} = 1.971$\n",
        "\n",
        "Медиана:\n",
        "$z_{n,\\frac12} = 4.0375$\n",
        "\n",
        "Коэффицент асимметрии:\n",
        "$\\widehat{Skew}X = \\frac{\\frac1n\\sum\\limits_{i=1}^n\\left(X_i-\\overline X\\right)^3}{S^3} = 0.021$\n",
        "\n",
        "Эксцесс:\n",
        "$\\widehat{Kurt}X = \\frac{\\frac1n\\sum\\limits_{i=1}^n\\left(X_i-\\overline X\\right)^4}{S^4} - 3 = -0.133$\n",
        "\n",
        "Вероятность:\n",
        "\n",
        "c = 2.4; b = 5.6\n",
        "\n",
        "$\\mathbb{P}\\left(X\\in\\left[c,d\\right]\\right) = 0.6$"
      ],
      "metadata": {
        "id": "JIenSaFLvQqk"
      }
    },
    {
      "cell_type": "code",
      "source": [
        "xAvg = statistics.mean(xi)\n",
        "print('Среднее арифметическое: x среднее = ', sum(xi), '/', n, ' = ', xAvg)\n",
        "\n",
        "D = 0\n",
        "for i in range(0, n):\n",
        "    D += (xi[i] - xAvg)**2\n",
        "D = round(D/n,  accuracy)\n",
        "print('Выборочная дисперсия: D(x) = ', D)\n",
        "\n",
        "S = round(math.sqrt(D), accuracy)\n",
        "print('Выборочное СКО: S(x) = ', S)\n",
        "\n",
        "print('Количество вариантов:', len(xi_unique))\n",
        "\n",
        "print('Медиана:', statistics.median(sorted(xi)))\n",
        "\n",
        "SkewX = 0\n",
        "for i in range(0, n):\n",
        "    SkewX += (xi[i] - xAvg)**3\n",
        "SkewX = round((1/n)*SkewX/(S**3),  accuracy)\n",
        "print('Коэффицент асимметрии: SkewX = ', SkewX)\n",
        "\n",
        "KurtX = 0\n",
        "for i in range(0, n):\n",
        "    KurtX += (xi[i] - xAvg)**4\n",
        "KurtX = round((1/n)*KurtX/(S**4) - 3,  accuracy)\n",
        "print('Эксцесс: KurtX = ', KurtX)\n",
        "\n",
        "a = 2.4\n",
        "b = 5.6\n",
        "P = 0\n",
        "for i in range(0, len(xi_unique)):\n",
        "    if xi_unique[i] >= a and xi_unique[i] <= b:\n",
        "        P += p[i]\n",
        "P = round(P, accuracy)\n",
        "print('Вероятность P(X принадлежит [a, b]) = ', P)"
      ],
      "metadata": {
        "colab": {
          "base_uri": "https://localhost:8080/"
        },
        "id": "9BDG22ayuqKt",
        "outputId": "226c7cf9-345c-4a84-d3c5-9c6b55a9440d"
      },
      "execution_count": null,
      "outputs": [
        {
          "output_type": "stream",
          "name": "stdout",
          "text": [
            "Среднее арифметическое: x среднее =  197.844 / 50  =  3.95688\n",
            "Выборочная дисперсия: D(x) =  3.884\n",
            "Выборочное СКО: S(x) =  1.971\n",
            "Количество вариантов: 50\n",
            "Медиана: 4.0375\n",
            "Коэффицент асимметрии: SkewX =  0.021\n",
            "Эксцесс: KurtX =  -0.133\n",
            "Вероятность P(X принадлежит [a, b]) =  0.6\n"
          ]
        }
      ]
    },
    {
      "cell_type": "markdown",
      "source": [
        "####<b>c) В предположении, что исходные наблюдения являются выборкой из нормального распределения, построить оценку максимального правдоподобия параметров $\\left(a, \\sigma^2\\right)$ и соответствующие оценки по методу моментов. Найти смещение оценок.</b>\n",
        "\n",
        "$p_\\theta = \\frac1{\\sqrt{2\\pi\\sigma^2}}exp\\left(\\frac{-\\left(x - a\\right)^2}{2\\sigma^2}\\right)$\n",
        "\n",
        "1) ОММ:\n",
        "\n",
        "$\\theta = \\left(a, \\sigma^2\\right)$ - ОМП\n",
        "\n",
        "$\\mu_k\\left(\\theta\\right) = \\mathbb{E_\\theta}x_1^k$;  $k = 1, 2$\n",
        "\n",
        "$\\widehat\\mu_k\\left(\\widetilde\\theta\\right) = \\frac1n\\sum\\limits_{i=1}^nx_i^k$\n",
        "\n",
        "$\\left\\{\\begin{array}{l}\\mu_1 = \\frac1n\\sum\\limits_{i=1}^nx_i\\\\\\mu_2 = \\frac1n\\sum\\limits_{i=1}^nx_i^2\\end{array}\\right.\\Rightarrow \\left\\{\\begin{array}{l}\\mu_1 = \\overline X = a\\\\\\mu_2 = \\overline{X^2} = a^2 + \\sigma^2 \\left(\\mathbb{E}\\xi^2 = \\mathbb{D}\\xi + \\left(\\mathbb{E}\\xi\\right)^2\\right)\\end{array}\\right.\\Rightarrow \\left\\{\\begin{array}{l}\\widetilde a = \\overline X\\\\\\widetilde{\\sigma^2} = \\overline{X^2} -\\overline X^2 = S^2\\end{array}\\right.$\n",
        "\n",
        "ОММ:  $\\;\\widetilde\\theta = \\left(\\overline X, S^2\\right)$\n",
        "\n",
        "2)ОМП:\n",
        "\n",
        "$L\\left(\\vec X,\\theta\\right)=\\prod\\limits_{i=1}^n\\frac1{\\sqrt{2\\pi\\sigma^2}}exp\\left(\\frac{-\\left(x - a\\right)^2}{2\\sigma^2}\\right) = \\left(2\\pi\\right)^{\\frac{-n}{2}}\\sigma^{-n}exp\\left(\\frac{-\\sum\\limits_{i=1}^n\\left(x_i - a\\right)^2}{2\\sigma^2}\\right)$\n",
        "\n",
        "$LL\\left(\\vec X,\\theta\\right) = \\frac{-n}2\\ln 2\\pi - n\\ln\\sigma - \\frac{\\sum\\limits_{i=1}^n\\left(x_i - a\\right)^2}{2\\sigma^2}$\n",
        "\n",
        "$\\left\\{\\begin{array}{l}\\frac{\\partial LL}{\\partial a}=\\frac1{\\sigma^2}(\\sum\\limits_{i=1}^n x_i-na) = 0\\\\\\frac{\\partial LL}{\\partial\\sigma}=\\frac{-n}\\sigma+\\frac1{\\sigma^3}\\sum\\limits_{i=1}^n\\left(x_i-a\\right)^2\\;=\\;0\\end{array}\\right.\\Rightarrow \\left\\{\\begin{array}{l}\\widehat a = \\sum\\limits_{i=1}^n x_i = \\overline X\\\\\\widehat{\\sigma^2} = \\frac1n\\sum\\limits_{i=1}^n\\left(x_i-\\widehat a\\right)^2 = \\frac1n\\sum\\limits_{i=1}^n\\left(x_i-\\overline X\\right)^2 = S^2\\end{array}\\right.$\n",
        "\n",
        "$\\widehat\\theta = \\left(\\overline X, S^2\\right)$\n",
        "\n",
        "3) Смещение оценок:\n",
        "\n",
        "1)\n",
        "$\\mathbb{E_\\theta}\\widehat a = \\mathbb{E_\\theta}\\overline X = \\frac1n\\sum\\limits_{i=1}^n\\mathbb{E_\\theta}x_i = \\frac{na}n = a \\Rightarrow \\widehat a = \\overline X$ - НРМД оценка\n",
        "\n",
        "2)$\\mathbb{E_\\theta}\\widehat{\\sigma^2} = \\mathbb{E_\\theta}S^2 = \\mathbb{E_\\theta}\\frac1n\\sum\\limits_{i=1}^n\\left(x_i-\\overline X\\right)^2 = \\begin{bmatrix}x_i - \\mathbb{E_\\theta}x_i = y_i\\\\\\mathbb{E}y_i = 0;\\;\\mathbb{D_\\theta}y_i = \\mathbb{D_\\theta}x_i = \\sigma^2\\end{bmatrix} = \\mathbb{E_\\theta}\\frac1n\\sum\\limits_{i=1}^n\\left(y_i-\\overline Y\\right)^2 = \\mathbb{E_\\theta}\\overline{y^2} - \\mathbb{E_\\theta}\\overline Y^2$\n",
        "\n",
        "3)$\\mathbb{E_\\theta}\\overline{y^2} = \\mathbb{E_\\theta}\\left(\\frac1n \\sum\\limits_{i=1}^ny_i^2\\right) = \\frac1n\\sum\\limits_{i=1}^n \\mathbb{E_\\theta}y_i^2 = \\sigma^2$\n",
        "\n",
        "4)$\\mathbb{E_\\theta}\\overline Y^2 = \\mathbb{E_\\theta}\\left(\\frac1n \\sum\\limits_{i=1}^ny_i\\right)^2 = \\frac1{n^2}\\mathbb{E_\\theta}\\left(\\sum\\limits_{i=1}^ny_i\\right)^2 = \\frac1{n^2}\\sum\\limits_{i=1}^n\\sum\\limits_{j=1}^n\\mathbb{E_\\theta}y_iy_j = \\left\\{\\begin{array}{l}i=j:\\;\\mathbb{E_\\theta}y_i^2 = \\sigma^2\\\\i\\neq j:\\;\\mathbb{E_\\theta}y_i\\mathbb{E_\\theta}y_j = 0\\end{array}\\right.$\n",
        "\n",
        "$i=j: n$ слагаемых\n",
        "\n",
        "$i\\neq j: n^2 - n$ слагаемых\n",
        "\n",
        "$ = \\frac1{n^2}\\left(n\\sigma^2 +\\left(n^2-n\\right)\\cdot0\\right) = \\frac{\\sigma^2}n$\n",
        "\n",
        "5)$\\mathbb{E_\\theta}\\overline{y^2} - \\mathbb{E_\\theta}\\overline Y^2 = \\sigma^2 - \\frac{\\sigma^2}n = \\frac{\\sigma^2\\left(n - 1\\right)}{n} = S^2$\n",
        "\n",
        "$\\mathbb{E_\\theta}\\widetilde{\\sigma^2} = \\mathbb{E_\\theta}S^2\\frac{n}{n-1} = \\frac{n}{n-1}\\cdot\\frac{n-1}{n}\\cdot\\sigma^2 \\Rightarrow \\widetilde{\\sigma^2} = \\widehat{\\sigma^2}\\cdot\\frac{n}{n-1} - НРМД $"
      ],
      "metadata": {
        "id": "4gHgY_1_7MR9"
      }
    },
    {
      "cell_type": "markdown",
      "source": [
        "####<b> d) Доверительные интервалы уровня значимости $\\alpha_2$ для параметров $\\left(a,\\sigma^2\\right)$</b>\n",
        "\n",
        "1) $\\theta = a$\n",
        "\n",
        "По п.4 Леммы Фишера:\n",
        "\n",
        "$G\\left(\\overrightarrow X, a\\right) = \\sqrt{n - 1}\\cdot\\frac{\\overline X - a}{S}\\sim S_{n -1 }$\n",
        "\n",
        "$\\mathbb{P_\\theta}\\left(\\sqrt{n-1}\\cdot\\frac{\\overline X - a}{S}\\in\\left[x_{1\\alpha_2}; x_{2\\alpha_2}\\right]\\right) = 1 - \\alpha_2$\n",
        "\n",
        "$x_{\\alpha_2}: S_{n-1}\\left(x_{\\alpha_2}\\right) = 1 - \\frac\\alpha2 \\Rightarrow x_{2\\alpha} = x_{\\alpha_2};\\;\\;\\; x_{1\\alpha} = -x_{\\alpha_2}$\n",
        "\n",
        "$\\mathbb{P_\\theta}\\left(-x_{\\alpha_2}\\leq \\sqrt{n - 1}\\cdot\\frac{\\overline X - a}{S}\\leq x_{\\alpha2}\\right)$\n",
        "\n",
        "Выразим a:\n",
        "\n",
        "$\\mathbb{P_\\theta}\\left(\\overline X - \\frac{x_{\\alpha_2}S}{\\sqrt{n-1}}\\leq a\\leq \\overline X + \\frac{x_{\\alpha_2}S}{\\sqrt{n-1}}\\right) = 1 - \\alpha_2$\n",
        "\n",
        "Доверительный интервал для параметра a:\n",
        "\n",
        "$\\left[\\overline X - \\frac{x_{\\alpha_2}S}{\\sqrt{n-1}}; \\overline X + \\frac{x_{\\alpha_2}S}{\\sqrt{n-1}}\\right]\\ni a$\n",
        "\n",
        "Подставим $x_{\\alpha_2} = 1.299;\\;\\; S = 1.971;\\;\\; \\overline X = 3.95688:$\n",
        "\n",
        "$\\left[3.59112; 4.32264\\right] \\ni a$\n",
        "\n",
        "2) $\\theta = \\sigma^2$\n",
        "\n",
        "По п.3 Леммы Фишера:\n",
        "\n",
        "$G\\left(\\overrightarrow X, \\sigma^2\\right) = \\frac{nS^2}{\\sigma^2}\\sim \\chi_{n-1}^2$\n",
        "\n",
        "$\\mathbb{P_\\theta}\\left(\\frac{nS^2}{\\sigma^2}\\in\\left[x_{1\\alpha_2}; x_{2\\alpha_2}\\right]\\right) = 1 - \\alpha_2$\n",
        "\n",
        "$x_{1\\alpha_2}: K_{n-1}\\left(x_{1\\alpha_2}\\right) = \\frac \\alpha 2;\\;\\;x_{2\\alpha_2}: K_{n-1}\\left(x_{2\\alpha_2}\\right) = 1 - \\frac \\alpha 2$\n",
        "\n",
        "$K_{n-1}\\left(x_{2\\alpha_2}\\right) - K_{n-1}\\left(x_{1\\alpha_2}\\right) = 1 - \\frac{\\alpha_2}{2} - \\frac{\\alpha_2}{2} = 1 - \\alpha_2 $\n",
        "\n",
        "$\\mathbb{P_\\theta}\\left(x_{1\\alpha_2}\\leq \\frac{nS^2}{\\sigma^2}\\leq x_{2\\alpha2}\\right)$\n",
        "\n",
        "Выразим $\\sigma^2$:\n",
        "\n",
        "$\\mathbb{P_\\theta}\\left(\\frac{x_{1\\alpha_2}}{nS^2}\\leq \\frac1{\\sigma^2}\\leq \\frac{x_{2\\alpha_2}}{nS^2}\\right) = 1 - \\alpha_2$\n",
        "\n",
        "$\\mathbb{P_\\theta}\\left(\\frac{nS^2}{x_{1\\alpha_2}}\\geq \\sigma^2\\geq \\frac{nS^2}{x_{2\\alpha_2}}\\right) = 1 - \\alpha_2$\n",
        "\n",
        "Доверительный интервал для параметра $\\sigma^2$:\n",
        "\n",
        "$\\left[\\frac{nS^2}{x_{2\\alpha_2}}; \\frac{nS^2}{x_{1\\alpha_2}}\\right]\\ni \\sigma^2$\n",
        "\n",
        "Подставим $x_{1\\alpha_2} = 36.818;\\;\\; x_{2\\alpha_2} = 62.0375;\\;\\; S^2 = 3.884;$\n",
        "\n",
        "$\\left[3.13; 5.275\\right]\\ni \\sigma^2$"
      ],
      "metadata": {
        "id": "lqtNsPRPNw19"
      }
    },
    {
      "cell_type": "code",
      "source": [
        "print(\"S(x) = 0.9 с n-1 степенями свободы, x =\", st.t.ppf(0.9, n-1))\n",
        "#нахождение обратной функции распределения хи-квадрат\n",
        "print(\"K(x1) = 0.1 с n-1 степенями свободы, x =\",  st.chi2.ppf(0.1, n-1) )\n",
        "print(\"K(x2) = 0.9 с n-1 степенями свободы, x =\",  st.chi2.ppf(0.9, n-1))"
      ],
      "metadata": {
        "colab": {
          "base_uri": "https://localhost:8080/"
        },
        "id": "DBA5VTRtLgGT",
        "outputId": "e17f71f1-fdfe-4a5d-bc2a-07a81923befa"
      },
      "execution_count": null,
      "outputs": [
        {
          "output_type": "stream",
          "name": "stdout",
          "text": [
            "S(x) = 0.9 с n-1 степенями свободы, x = 1.2990687845090696\n",
            "K(x1) = 0.1 с n-1 степенями свободы, x = 36.81821727017282\n",
            "K(x2) = 0.9 с n-1 степенями свободы, x = 62.03753678530966\n"
          ]
        }
      ]
    },
    {
      "cell_type": "markdown",
      "source": [
        "####<b>e) С использованием теоремы Колмогорова построить критерий значимости проверки простой гипотезы согласия с нормальным распределением с параметрами $\\left(a_0, \\sigma^2_0\\right)$. Проверить гипотезу на уровне значимости $\\alpha_2$. Вычислить наибольшее значение уровня значимости, на котором еще нет оснований отвергнуть данную гипотезу</b>"
      ],
      "metadata": {
        "id": "LwM4TOyMVqDb"
      }
    },
    {
      "cell_type": "code",
      "source": [
        "# Задаем функцию распределения, к которой будем сравнивать выборку\n",
        "def normal_cdf(x):\n",
        "  a0 = -2\n",
        "  sigma0 = 2\n",
        "  return st.norm.cdf(x, loc=a0, scale=sigma0 )\n",
        "\n",
        "# Вычисляем статистику критерия Колмогорова и p-значение\n",
        "Dn, p_value = st.kstest(xi, normal_cdf)\n",
        "\n",
        "print(\"Статистика критерия Колмогорова:\", Dn)\n",
        "Dn*= n**0.5\n",
        "print(\"корень из n *Dn = \", Dn)\n",
        "print(\"p-значение:\", p_value)\n",
        "\n",
        "alpha = 0.2\n",
        "#квантиль\n",
        "xAlpha = st.kstwobign.ppf(1 - alpha)\n",
        "\n",
        "print(\"Значение x_alpha:\", xAlpha)\n"
      ],
      "metadata": {
        "colab": {
          "base_uri": "https://localhost:8080/"
        },
        "id": "q7Zf6mkH68GF",
        "outputId": "ceabb8fb-1586-4fd0-bdf2-d56358b8615b"
      },
      "execution_count": null,
      "outputs": [
        {
          "output_type": "stream",
          "name": "stdout",
          "text": [
            "Статистика критерия Колмогорова: 0.8650949542237822\n",
            "корень из n *Dn =  6.117145085019024\n",
            "p-значение: 7.143595097669288e-44\n",
            "Значение x_alpha: 1.072749174939648\n"
          ]
        }
      ]
    },
    {
      "cell_type": "markdown",
      "source": [
        "Основная гипотеза согласия: $H_0: F\\equiv F_0$; $F_0$ - непрерывная функция распределения(теоретическая)\n",
        "\n",
        "Статистика критерия Колмогорова: $D_n = \\sup_{X\\in \\mathbb{R}}\\left|F_n\\left(x\\right) - F_0\\left(x\\right) \\right|$\n",
        "\n",
        "$F_n\\left(x\\right)$ - выборочная функция распределения\n",
        "\n",
        "$D_n \\approx 0.865$\n",
        "\n",
        "По теореме Колмогорова: $\\sqrt n\\cdot D_n \\Rightarrow \\mathcal K$ при основной гипотезе\n",
        "\n",
        "$\\sqrt n\\cdot D_n \\approx 6.117$\n",
        "\n",
        "$x_{\\alpha_2}: K_n\\left(x_{\\alpha_2}\\right) = 1 - \\alpha_2 = 0.8$\n",
        "\n",
        "$x_{\\alpha_2} = 1.073$\n",
        "\n",
        "$\\sqrt n\\cdot D_n > x_{\\alpha_2} \\Rightarrow $ отвергаем гипотезу $H_0$\n",
        "\n",
        "Наибольшеее значение уровня значимости, на котором еще нет оснований отвергать гипотезу $\\approx 7.14\\cdot10^{-44} \\approx 0$"
      ],
      "metadata": {
        "id": "VtgGx-uuQ3nO"
      }
    },
    {
      "cell_type": "markdown",
      "source": [
        "####<b>f) Используя гистограмму частот, построить критерий значимости $\\chi^2$ проверки простой гипотезы согласия с нормальным распределением с параметрами $\\left(a_0, \\sigma_0^2\\right)$. Проверить гипотезу на уровне значимости $\\alpha_2$. Вычислить наибольшее значение уровня значимости, на котором ещё нет оснований отвергнуть данную гипотезу.</b>\n"
      ],
      "metadata": {
        "id": "0QLdtI_fVqsM"
      }
    },
    {
      "cell_type": "code",
      "source": [
        "valInterval = []#массив, подмассивы которого содержат элементы выборки, находящиеся в интервале\n",
        "countVal = []#содержит количество элементов выборки в каждом интервале\n",
        "for i in range(len(bins)-1):\n",
        "    interval_values = [x for x in xi if bins[i] <= x < bins[i+1]]\n",
        "    valInterval.append(interval_values)\n",
        "    countVal.append(len(interval_values))\n",
        "\n",
        "startEnd = numpy.vstack((bins[:-1], bins[1:])).T #массив, содеражщий начало и конец каждого интервала\n",
        "\n",
        "print(\"Значения по интервалам:\")\n",
        "for interval in valInterval:\n",
        "    print(interval)\n",
        "print(\"Начало:конец интервала:  Количество значений в интервале: \")\n",
        "for i in range(len(countVal)):\n",
        "  print(str(startEnd[i])+' '*15+ str(countVal[i]))"
      ],
      "metadata": {
        "colab": {
          "base_uri": "https://localhost:8080/"
        },
        "id": "1GBveRjui-Wi",
        "outputId": "d077a7ae-4031-48f2-849e-524df68878ad"
      },
      "execution_count": null,
      "outputs": [
        {
          "output_type": "stream",
          "name": "stdout",
          "text": [
            "Значения по интервалам:\n",
            "[0.207, 0.217, 0.352, 0.463, 0.832]\n",
            "[1.193, 1.635, 1.741]\n",
            "[1.849, 1.968, 2.07, 2.186]\n",
            "[2.997, 3.073, 3.162, 3.274]\n",
            "[3.483, 3.519, 3.534, 3.582, 3.796, 3.861, 3.869, 3.898, 4.019, 4.056, 4.094, 4.167]\n",
            "[4.326, 4.418, 4.491, 4.578, 4.736, 4.904]\n",
            "[5.09, 5.146, 5.18, 5.232, 5.335, 5.356, 5.431, 5.453, 5.748]\n",
            "[5.904, 6.046, 6.124]\n",
            "[6.771, 7.375]\n",
            "[]\n",
            "[8.466, 8.637]\n",
            "Начало:конец интервала:  Количество значений в интервале: \n",
            "[0.207 1.007]               5\n",
            "[1.007 1.807]               3\n",
            "[1.807 2.607]               4\n",
            "[2.607 3.407]               4\n",
            "[3.407 4.207]               12\n",
            "[4.207 5.007]               6\n",
            "[5.007 5.807]               9\n",
            "[5.807 6.607]               3\n",
            "[6.607 7.407]               2\n",
            "[7.407 8.207]               0\n",
            "[8.207 9.007]               2\n"
          ]
        }
      ]
    },
    {
      "cell_type": "markdown",
      "source": [
        "$P_{i}=P_{H_{0}}\\left(\\alpha< X < \\beta \\right)= \\Phi\\left(\\frac{\\beta -\\alpha}{\\sigma}\\right) - \\Phi\\left(\\frac{\\alpha - a}{\\sigma}\\right)$\n",
        "\n",
        "$a_0 = -2;\\;\\; \\sigma_0 = 2;\\;\\; \\alpha_2 = 0.2;\\;\\; n = 50$\n",
        "\n",
        "$r = 6$ - количество зон\n",
        "\n",
        "Критерий $\\chi^2$(по выборке) $=\\sum\\limits_{i=1}^{r}\\frac{(n_{i}-np_{i})^{2}}{np_{i}} =31679.91$\n",
        "\n",
        "\n",
        "$\\chi^{2}_{5,0.8}\\approx 7.289$,\n",
        "\n",
        "$\\chi^2 > \\chi^{2}_{5,0.8}\\Rightarrow$ по критерию Пирсона гипотеза $H_0$  отвергается\n",
        "\n",
        "Наибольшее значение уровня значимости, при котором нет еще оснований отвергнуть данную гипотезу = 0"
      ],
      "metadata": {
        "id": "1cKK9iOCi_zH"
      }
    },
    {
      "cell_type": "code",
      "source": [
        "\n",
        "alpha = 0.2\n",
        "\n",
        "def funcF(start, end):\n",
        "  sigma = 2\n",
        "  n = 50\n",
        "  a0 = -2\n",
        "  p =  st.norm.cdf(end, loc = a0, scale=sigma) - st.norm.cdf(start, loc = a0, scale=sigma)\n",
        "  print(\"I = [ \", start,\",\",end,\" ]\" \"   p = \", p, \"np = \", n*p)\n",
        "  return n*p\n",
        "\n",
        "npi = []\n",
        "npi.append(funcF(0.207, 1.007))\n",
        "npi.append(funcF(1.007,3.407))\n",
        "npi.append(funcF(3.407,4.207))\n",
        "npi.append(funcF(4.207,5.007))\n",
        "npi.append(funcF(5.007,5.807))\n",
        "npi.append(funcF(5.807,9.007))\n",
        "r = len(npi) - 1 #количество степеней свободы\n",
        "ni = [5,11,12,6,9,7]\n",
        "hiSample = 0\n",
        "for i in range(len(npi)):\n",
        "  hiSample += (ni[i] - npi[i])**2/npi[i]\n",
        "\n",
        "hiSample = round(hiSample, 2)\n",
        "print(\"Критерий хи-квадрат по выборке = \", hiSample)\n",
        "npi.clear()\n",
        "ni.clear()\n",
        "\n",
        "print(\"Значение хи-квадрат при количестве степеней свободы = \", r, \"и уровне значимости = \", alpha, \" = \", st.chi2.ppf(1 - alpha, r))\n",
        "print(\"Наибольшее значение уровня значимости, при котором нет еще оснований отвергнуть данную гипотезу = \", 1 - st.chi2.cdf(hiSample, r))"
      ],
      "metadata": {
        "colab": {
          "base_uri": "https://localhost:8080/"
        },
        "id": "UwD16z98ZTn4",
        "outputId": "87cae7ee-0042-4f9f-8a20-5b403ead535d"
      },
      "execution_count": null,
      "outputs": [
        {
          "output_type": "stream",
          "name": "stdout",
          "text": [
            "I = [  0.207 , 1.007  ]   p =  0.06854996730707708 np =  3.4274983653538538\n",
            "I = [  1.007 , 3.407  ]   p =  0.06292440606937966 np =  3.146220303468983\n",
            "I = [  3.407 , 4.207  ]   p =  0.0024744412250876646 np =  0.12372206125438323\n",
            "I = [  4.207 , 5.007  ]   p =  0.0007266378469144019 np =  0.036331892345720096\n",
            "I = [  5.007 , 5.807  ]   p =  0.00018218755262155995 np =  0.009109377631077997\n",
            "I = [  5.807 , 9.007  ]   p =  4.738715891083878e-05 np =  0.002369357945541939\n",
            "Критерий хи-квадрат по выборке =  31679.91\n",
            "Значение хи-квадрат при количестве степеней свободы =  5 и уровне значимости =  0.2  =  7.289276126648961\n",
            "Наибольшее значение уровня значимости, при котором нет еще оснований отвергнуть данную гипотезу =  0.0\n"
          ]
        }
      ]
    },
    {
      "cell_type": "markdown",
      "source": [
        "####<b>g) Построить критерий значимости $\\chi^2$ проверки сложной гипотезы согласия с нормальным распределением. Проверить гипотезу на уровне значимости $\\alpha_2$. Вычислить наибольшее значение уровня значимости, на котором ещё нет оснований отвергнуть данную гипотезу.</b>\n",
        "\n",
        "$P_{i}=P_{H_{0}}\\left(\\alpha< X < \\beta \\right)= \\Phi\\left(\\frac{\\beta -\\alpha}{\\sigma}\\right) - \\Phi\\left(\\frac{\\alpha - a}{\\sigma}\\right)$\n",
        "\n",
        "$a = \\overline X =  3.957;\\;\\; \\sigma = 1.971;\\;\\; \\alpha_2 = 0.2;\\;\\; n = 50$\n",
        "\n",
        "$I_{1} = \\left[0.207, 1.007\\right], n_{1} = 5$\n",
        "\n",
        "$p_{1} = \\Phi\\left(\\frac{1.007 -0.207}{1.971}\\right) - \\Phi\\left(\\frac{0.207 -3.957}{1.971}\\right) = 0.039\\Rightarrow n\\cdot p_{1} =  1.95$\n",
        "\n",
        "$I_{2} = \\left[1.007,  3.407\\right], n_{2} = 11$\n",
        "\n",
        "$p_{2} =\\Phi\\left(\\frac{3.407 -1.007}{1.971}\\right) - \\Phi\\left(\\frac{1.007 -3.957}{1.971}\\right) = 0.323\\Rightarrow n\\cdot p_{2} = 16.15$\n",
        "\n",
        "$I_{3} = \\left[3.407, 4.207\\right], n_{3} = 12$\n",
        "\n",
        "$p_{3} = \\Phi\\left(\\frac{4.207 -3.407}{1.971}\\right) - \\Phi\\left(\\frac{3.407 -3.957}{1.971}\\right) = 0.16\\Rightarrow n\\cdot p_{3} = 8$\n",
        "\n",
        "$I_{4} = \\left[4.207, 5.007\\right], n_{4} = 6$\n",
        "\n",
        "$p_{4} = \\Phi\\left(\\frac{5.007 -4.207}{1.971}\\right) - \\Phi\\left(\\frac{4.207 -3.957}{1.971}\\right) = 0.152\\Rightarrow n\\cdot p_{4} = 7.6$\n",
        "\n",
        "$I_{5} = \\left[5.007, 5.807\\right], n_{5} = 9$\n",
        "\n",
        "$p_{5} =\\Phi\\left(\\frac{5.807 -5.007}{1.971}\\right) - \\Phi\\left(\\frac{5.007 -3.957}{1.971}\\right) =  0.123\\Rightarrow n\\cdot p_{5} = 6.15$\n",
        "\n",
        "$I_{6} = \\left[5.807, 9.007\\right], n_{6} = 7$\n",
        "\n",
        "$p_{6} =\\Phi\\left(\\frac{9.007 -5.807}{1.971}\\right) - \\Phi\\left(\\frac{5.807 -3.957}{1.971}\\right) = 0.169\\Rightarrow n\\cdot p_{6} = 8.45$\n",
        "\n",
        "$r = 6$ - количество зон\n",
        "\n",
        "Критерий $\\chi^2$(по выборке) $=\\sum\\limits_{i=1}^{r}\\frac{(n_{i}-np_{i})^{2}}{np_{i}} =10.32$\n",
        "\n",
        "\n",
        "$\\chi^{2}_{3,0.8}\\approx 4.642$,\n",
        "\n",
        "$\\chi^2 > \\chi^{2}_{3,0.8}\\Rightarrow$ по критерию Пирсона гипотеза $H_0$  отвергается\n",
        "\n",
        "Наибольшее значение уровня значимости, при котором нет еще оснований отвергнуть данную гипотезу $\\approx 0.016$"
      ],
      "metadata": {
        "id": "_fi_WLUs1wxG"
      }
    },
    {
      "cell_type": "code",
      "source": [
        "\n",
        "alpha = 0.2\n",
        "\n",
        "def funcF(start, end):\n",
        "  n = 50\n",
        "  a = 3.957\n",
        "  sigma  = 1.97\n",
        "  p =  st.norm.cdf(end, loc=a, scale=sigma) - st.norm.cdf(start, loc=a, scale=sigma)\n",
        "  p = round(p, 3)\n",
        "  print(\"I = [ \", start,\",\",end,\" ]\" \"   p = \", p, \"np = \", round(n*p, 3))\n",
        "  return round(n*p, 3)\n",
        "\n",
        "npi = []\n",
        "npi.append(funcF(0.207, 1.007))\n",
        "npi.append(funcF(1.007,3.407))\n",
        "npi.append(funcF(3.407,4.207))\n",
        "npi.append(funcF(4.207,5.007))\n",
        "npi.append(funcF(5.007,5.807))\n",
        "npi.append(funcF(5.807,9.007))\n",
        "r = len(npi) - 3 #количество степеней свободы\n",
        "ni = [5,11,12,6,9,7]\n",
        "hiSample = 0\n",
        "for i in range(len(npi)):\n",
        "  hiSample += (ni[i] - npi[i])**2/npi[i]\n",
        "\n",
        "hiSample = round(hiSample, 2)\n",
        "print(\"Критерий хи-квадрат по выборке = \", hiSample)\n",
        "npi.clear()\n",
        "ni.clear()\n",
        "\n",
        "print(\"Значение хи-квадрат при количестве степеней свободы = \", r, \"и уровне значимости = \", alpha, \" = \", st.chi2.ppf(1 - alpha, r))\n",
        "print(\"Наибольшее значение уровня значимости, при котором нет еще оснований отвергнуть данную гипотезу = \", 1 - st.chi2.cdf(hiSample, r))"
      ],
      "metadata": {
        "colab": {
          "base_uri": "https://localhost:8080/"
        },
        "outputId": "c0301716-4b36-4587-f29a-749cf4ab025c",
        "id": "zg6Pv_jt4RC3"
      },
      "execution_count": null,
      "outputs": [
        {
          "output_type": "stream",
          "name": "stdout",
          "text": [
            "I = [  0.207 , 1.007  ]   p =  0.039 np =  1.95\n",
            "I = [  1.007 , 3.407  ]   p =  0.323 np =  16.15\n",
            "I = [  3.407 , 4.207  ]   p =  0.16 np =  8.0\n",
            "I = [  4.207 , 5.007  ]   p =  0.152 np =  7.6\n",
            "I = [  5.007 , 5.807  ]   p =  0.123 np =  6.15\n",
            "I = [  5.807 , 9.007  ]   p =  0.169 np =  8.45\n",
            "Критерий хи-квадрат по выборке =  10.32\n",
            "Значение хи-квадрат при количестве степеней свободы =  3 и уровне значимости =  0.2  =  4.64162767608745\n",
            "Наибольшее значение уровня значимости, при котором нет еще оснований отвергнуть данную гипотезу =  0.01603299995196672\n"
          ]
        }
      ]
    },
    {
      "cell_type": "markdown",
      "source": [
        "####<b>h) Построить наиболее мощный критерий проверки простой гипотезы о нормальности с параметром $(a, \\sigma^2) = (a_0, \\sigma_0^2)$ при альтернативе нормальности с параметром$(a, \\sigma^2) = (a_1, \\sigma_1^2)$. Проверить гипотезу на уровне значимости $\\alpha_2$. Что получится, если поменять местами основновную и альтернативную гипотезы?</b>\n",
        "\n",
        "Простая основная гипотеза: $H_0: \\theta_0 = (a_0, \\sigma_0^2)$\n",
        "\n",
        "Простая альтернатива: $H_1: \\theta_1 = (a_1, \\sigma_1^2)$\n",
        "\n",
        "Статистика отношения правдоподобия:\n",
        "\n",
        "$LR\\left(X, \\theta_0, \\theta_1\\right) = \\frac{(2\\pi)^{-\\frac n2}\\sigma_1^{-n} \\exp\\left(-\\frac{1}{2\\sigma_1^2}\\sum\\limits_{i=1}^n(x_i - a_1)^2\\right)}{(2\\pi)^{-\\frac n2}\\sigma_0^{-n} \\exp\\left(-\\frac{1}{2\\sigma_0^2}\\sum\\limits_{i=1}^n(x_i - a_0)^2\\right)} = $ (т.к. $\\sigma_0 = \\sigma_1  = 2$) $ = \\exp\\left(\\frac{n}{2\\sigma^2}(a_0^2 - a_1^2) + \\frac{1}{\\sigma^2}\\sum\\limits_{i=1}^n x_i (a_1 - a_0)\\right)$\n",
        "\n",
        "Статистика LR(X) монотонна относительно МДС$\\left(T = \\sum\\limits_{i=1}^n x_i\\right)$\n",
        "\n",
        "В силу монотонности статистики $LR\\left(X\\right)$ относительно МДС $\\overline X$\n",
        "\n",
        "$LR\\left(X\\right) > c \\Leftrightarrow \\overline X < c^*$\n",
        "\n",
        "$LR\\left(X\\right) < c \\Leftrightarrow \\overline X > c^*$\n",
        "\n",
        "$\\Rightarrow$ по Лемме Неймана-Пирсона:\n",
        "\n",
        "$\\phi\\left(x\\right) = \\left\\{\\begin{array}{l}1, \\overline X < c^*\\\\p, \\overline X = c^*\\\\0, \\overline X > c^*\\end{array}\\right.$\n",
        "\n",
        "ЦПТ:\n",
        "\n",
        "$\\sqrt n \\frac{\\overline X - \\mathbb{E}x}{S} \\sim \\mathcal N\\left(0, 1\\right)$\n",
        "\n",
        "$\\sqrt n \\frac{\\overline X - a_0}{\\sigma} \\sim \\mathcal N\\left(0, 1\\right)$ при $H_0$\n",
        "\n",
        "$a_0 = -2;\\;\\; \\overline X = 3.957$\n",
        "\n",
        "$\\mathbb{P}\\left(\\sqrt n \\frac{\\overline X - a_0}{\\sigma}\\geq \\sqrt n \\frac{c^*- a_0}{\\sigma}\\right) = 1 - \\Phi\\left(\\sqrt n \\frac{c^*- a_0}{\\sigma}\\right) = \\alpha_2$\n",
        "\n",
        "Квантиль $x_{\\alpha_2}: \\Phi\\left(x_{\\alpha_2}\\right) = 1 - \\alpha_2 = 0.8$\n",
        "\n",
        "$x_{\\alpha_2} = \\sqrt n \\frac{c^*- a_0}{\\sigma}$\n",
        "\n",
        "$x_{\\alpha_2} = 0.84$\n",
        "\n",
        "$c^* = \\frac{x_{\\alpha_2} \\sigma}{\\sqrt n} + a_0 = -1.76$\n",
        "\n",
        "$\\overline X > c^*  \\Rightarrow$ отвергаем гипотезу $H_0$\n",
        "\n",
        "Меняем местами основную и альтернативную гипотезы:\n",
        "\n",
        "Простая основная гипотеза: $H_0: \\theta_0 = (a_1, \\sigma_1^2)$\n",
        "\n",
        "Простая альтернатива: $H_1: \\theta_1 = (a_0, \\sigma_0^2)$\n",
        "\n",
        "Статистика отношения правдоподобия:\n",
        "\n",
        "$LR\\left(X, \\theta_0, \\theta_1\\right) = \\frac{(2\\pi)^{-\\frac n2}\\sigma_0^{-n} \\exp\\left(-\\frac{1}{2\\sigma_0^2}\\sum\\limits_{i=1}^n(x_i - a_0)^2\\right)}{(2\\pi)^{-\\frac n2}\\sigma_1^{-n} \\exp\\left(-\\frac{1}{2\\sigma_1^2}\\sum\\limits_{i=1}^n(x_i - a_1)^2\\right)} = $ (т.к. $\\sigma_0 = \\sigma_1  = 2$) $ = \\exp\\left(\\frac{n}{2\\sigma^2}(a_1^2 - a_0^2) + \\frac{1}{\\sigma^2}\\sum\\limits_{i=1}^n x_i (a_0 - a_1)\\right)$\n",
        "\n",
        "Статистика LR(X) монотонна относительно МДС$\\left(T = \\sum\\limits_{i=1}^n x_i\\right)$\n",
        "\n",
        "В силу монотонности статистики $LR\\left(X\\right)$ относительно МДС $\\overline X$\n",
        "\n",
        "$LR\\left(X\\right) > c \\Leftrightarrow \\overline X < c^*$\n",
        "\n",
        "$LR\\left(X\\right) < c \\Leftrightarrow \\overline X > c^*$\n",
        "\n",
        "$\\Rightarrow$ по Лемме Неймана-Пирсона:\n",
        "\n",
        "$\\phi\\left(x\\right) = \\left\\{\\begin{array}{l}1, \\overline X < c^*\\\\p, \\overline X = c^*\\\\0, \\overline X > c^*\\end{array}\\right.$\n",
        "\n",
        "ЦПТ:\n",
        "\n",
        "$\\sqrt n \\frac{\\overline X - \\mathbb{E}x}{S} \\sim \\mathcal N\\left(0, 1\\right)$\n",
        "\n",
        "$\\sqrt n \\frac{\\overline X - a_1}{\\sigma} \\sim \\mathcal N\\left(0, 1\\right)$ при $H_0$\n",
        "\n",
        "$a_1 = 4;\\;\\; \\overline X = 3.957$\n",
        "\n",
        "$\\mathbb{P}\\left(\\sqrt n \\frac{\\overline X - a_1}{\\sigma}\\geq \\sqrt n \\frac{c^*- a_1}{\\sigma}\\right) = 1 - \\Phi\\left(\\sqrt n \\frac{c^*- a_1}{\\sigma}\\right) = \\alpha_2$\n",
        "\n",
        "Квантиль $x_{\\alpha_2}: \\Phi\\left(x_{\\alpha_2}\\right) = 1 - \\alpha_2 = 0.8$\n",
        "\n",
        "$x_{\\alpha_2} = \\sqrt n \\frac{c^*- a_1}{\\sigma}$\n",
        "\n",
        "$x_{\\alpha_2} = 0.84$\n",
        "\n",
        "$c^* = \\frac{x_{\\alpha_2} \\sigma}{\\sqrt n} + a_1 = 4.238$\n",
        "\n",
        "$\\overline X < c^*  \\Rightarrow$ принимаем гипотезу $H_0$\n",
        "\n"
      ],
      "metadata": {
        "id": "Kub4GN-Zh4zM"
      }
    },
    {
      "cell_type": "markdown",
      "source": [
        "####<b>i) В пунктах (c)-(g) заменить семейство нормальных распределений на двухпараметрическое семейство распределений Лапласа с плотностями: $p_{a, \\sigma}\\left(x\\right)=\\frac{1}{\\sqrt2 \\sigma}exp\\left(-\\frac{\\sqrt2}{\\sigma}\\left|x - a\\right|\\right) $</b>\n",
        "\n",
        "####<b>i).c)</b>\n",
        "\n",
        "1) ОМП:\n",
        "\n",
        "$L\\left(\\overrightarrow X, \\theta \\right) = \\frac{1}{\\left(\\sqrt2 \\sigma\\right)^n} e^{\\left(-\\frac{\\sqrt2}{\\sigma}\\sum\\limits_{i=1}^{n}\\left|x_i - a\\right|\\right)}$\n",
        "\n",
        "$LL\\left(\\overrightarrow X, \\theta \\right) = -n\\ln\\left(2\\sigma\\right) - \\frac{\\sqrt 2}{\\sigma}\\sum\\limits_{i=1}^{n}\\left|x_i - a\\right| $\n",
        "\n",
        "Найдем частные производные по $a$ и $\\sigma^2$:\n",
        "\n",
        "$\\frac{\\partial LL}{\\partial\\sigma} = -\\frac{n}{\\sigma} + \\frac{\\sqrt2}{\\sigma^2}\\sum\\limits_{i=1}^{n}\\left|x_i - a\\right| = 0 \\Rightarrow -n\\sigma + \\sqrt2\\cdot\\sum\\limits_{i=1}^{n}\\left|x_i - a\\right| = 0 \\Rightarrow \\widehat \\sigma = \\frac{\\sqrt 2}{n} \\sum\\limits_{i=1}^{n}\\left|x_i - a\\right|$\n",
        "\n",
        "$\\frac{\\partial LL}{\\partial a} = -\\frac{\\sqrt2}{\\sigma}\\sum\\limits_{i=1}^{n} sign(x_i - a) = 0 \\Rightarrow \\sum\\limits_{i=1}^{n} sign(x_i - a) = 0 \\Rightarrow$ ОМП: $\\widehat a = z_{n, \\frac12}; \\;\\;\\; \\widehat{\\sigma^2} = \\left( \\frac{\\sqrt 2}{n} \\sum\\limits_{i=1}^{n}\\left|x_i - z_{n, \\frac12}\\right| \\right)^2$\n",
        "\n",
        "2) Оценка по методу моментов:\n",
        "\n",
        "$k = 1, 2$\n",
        "\n",
        "$\\left\\{\\begin{array}{l}\\mu_1 = \\frac1n \\sum\\limits_{i=1}^{n} x_i = \\overline X\\\\\\mu_2 = \\frac1n \\sum\\limits_{i=1}^{n} x_i^2 = \\mathbb{D}X + \\left(\\mathbb{E}X\\right)^2\\end{array}\\right.$\n",
        "\n",
        "Плотность распредления Лапласа:\n",
        "\n",
        "$p_{\\alpha, \\beta} = \\frac{\\alpha}{2}e^{-\\alpha\\left(x - \\beta\\right)}$\n",
        "\n",
        "Приведем данную в условии плотность к виду плотности распределения Лапласа с парамерами $\\alpha, \\beta:$\n",
        "\n",
        "$p_{a, \\sigma}\\left(x\\right)=\\frac{\\sqrt2}{2 \\sigma}exp\\left(-\\frac{\\sqrt2}{\\sigma}\\left|x - a\\right|\\right) $, где $\\alpha = \\frac{\\sqrt2}{\\sigma};\\;\\;\\beta = a$\n",
        "\n",
        "Для распределения Лапласа $\\mathbb{E}\\xi = \\beta;\\;\\; \\mathbb{D}\\xi = \\frac{2}{\\alpha^2}$. Найдем математическое ожидание и дисперсию для распределения, данного в условии:\n",
        "\n",
        "\n",
        "$\\left\\{\\begin{array}{l}\\mathbb{E}\\xi = \\beta = a\\\\\\mathbb{D}\\xi = \\frac{2}{\\alpha^2} = 2\\cdot \\frac{\\sigma^2}{2} = \\sigma^2\\end{array}\\right. \\Rightarrow \\left\\{\\begin{array}{l}\\mu_1 = \\overline X = a \\\\\\mu_2 = \\overline{X^2} = \\mathbb{D}X + \\overline{X}^2 = \\sigma^2 + \\overline{X}^2\\end{array}\\right. \\Rightarrow $ ОММ: $\\left\\{\\begin{array}{l}\\widetilde a = \\overline X\\\\\\widetilde{\\sigma^2} = \\overline{X^2} - \\overline{X}^2 = S^2\\end{array}\\right.$\n",
        "\n",
        "3) Смещение оценок:\n",
        "\n",
        "$\\mathbb{E_\\theta}\\widehat a = \\mathbb{E_\\theta}z_{n, \\frac12} = z_{n, \\frac12} $\n",
        "\n",
        "$\\mathbb{E_\\theta}\\widehat{\\sigma^2} = \\mathbb{E_\\theta}\\left( \\frac1n \\sum\\limits_{i=1}^{n}\\left|x_i - z_{n, \\frac12}\\right| \\right)^2 = 0$\n",
        "\n",
        "####<b>i).d)</b>\n",
        "\n",
        "1) $\\theta = a$\n",
        "\n",
        "По п.4 Леммы Фишера:\n",
        "\n",
        "$G\\left(\\overrightarrow X, a\\right) = \\sqrt{n - 1}\\cdot\\frac{\\overline X - a}{S}\\sim S_{n -1 }$\n",
        "\n",
        "$\\mathbb{P_\\theta}\\left(\\sqrt{n-1}\\cdot\\frac{\\overline X - a}{S}\\in\\left[x_{1\\alpha_2}; x_{2\\alpha_2}\\right]\\right) = 1 - \\alpha_2$\n",
        "\n",
        "$x_{\\alpha_2}: S_{n-1}\\left(x_{\\alpha_2}\\right) = 1 - \\frac\\alpha2 \\Rightarrow x_{2\\alpha} = x_{\\alpha_2};\\;\\;\\; x_{1\\alpha} = -x_{\\alpha_2}$\n",
        "\n",
        "$\\mathbb{P_\\theta}\\left(-x_{\\alpha_2}\\leq \\sqrt{n - 1}\\cdot\\frac{\\overline X - a}{S}\\leq x_{\\alpha2}\\right)$\n",
        "\n",
        "Выразим a:\n",
        "\n",
        "$\\mathbb{P_\\theta}\\left(\\overline X - \\frac{x_{\\alpha_2}S}{\\sqrt{n-1}}\\leq a\\leq \\overline X + \\frac{x_{\\alpha_2}S}{\\sqrt{n-1}}\\right) = 1 - \\alpha_2$\n",
        "\n",
        "Доверительный интервал для параметра a:\n",
        "\n",
        "$\\left[\\overline X - \\frac{x_{\\alpha_2}S}{\\sqrt{n-1}}; \\overline X + \\frac{x_{\\alpha_2}S}{\\sqrt{n-1}}\\right]\\ni a$\n",
        "\n",
        "2) $\\theta = \\sigma^2$\n",
        "\n",
        "По п.3 Леммы Фишера:\n",
        "\n",
        "$G\\left(\\overrightarrow X, \\sigma^2\\right) = \\frac{nS^2}{\\sigma^2}\\sim \\chi_{n-1}^2$\n",
        "\n",
        "$\\mathbb{P_\\theta}\\left(\\frac{nS^2}{\\sigma^2}\\in\\left[x_{1\\alpha_2}; x_{2\\alpha_2}\\right]\\right) = 1 - \\alpha_2$\n",
        "\n",
        "$x_{1\\alpha_2}: K_{n-1}\\left(x_{1\\alpha_2}\\right) = \\frac \\alpha 2;\\;\\;x_{2\\alpha_2}: K_{n-1}\\left(x_{2\\alpha_2}\\right) = 1 - \\frac \\alpha 2$\n",
        "\n",
        "$K_{n-1}\\left(x_{2\\alpha_2}\\right) - K_{n-1}\\left(x_{1\\alpha_2}\\right) = 1 - \\frac{\\alpha_2}{2} - \\frac{\\alpha_2}{2} = 1 - \\alpha_2 $\n",
        "\n",
        "$\\mathbb{P_\\theta}\\left(x_{1\\alpha_2}\\leq \\frac{nS^2}{\\sigma^2}\\leq x_{2\\alpha2}\\right)$\n",
        "\n",
        "Выразим $\\sigma^2$:\n",
        "\n",
        "$\\mathbb{P_\\theta}\\left(\\frac{x_{1\\alpha_2}}{nS^2}\\leq \\frac1{\\sigma^2}\\leq \\frac{x_{2\\alpha_2}}{nS^2}\\right) = 1 - \\alpha_2$\n",
        "\n",
        "$\\mathbb{P_\\theta}\\left(\\frac{nS^2}{x_{1\\alpha_2}}\\geq \\sigma^2\\geq \\frac{nS^2}{x_{2\\alpha_2}}\\right) = 1 - \\alpha_2$\n",
        "\n",
        "Доверительный интервал для параметра a:\n",
        "\n",
        "$\\left[\\frac{nS^2}{x_{2\\alpha_2}}; \\frac{nS^2}{x_{1\\alpha_2}}\\right]\\ni \\sigma^2$\n",
        "\n",
        "####<b>i).e)</b>\n"
      ],
      "metadata": {
        "id": "N9Q171FNPpPs"
      }
    },
    {
      "cell_type": "code",
      "source": [
        "# Задаем функцию распределения, к которой будем сравнивать выборку\n",
        "def laplace_cdf(x):\n",
        "  a0 = -2\n",
        "  sigma0 = 2\n",
        "  disp= 2**0.5/sigma0\n",
        "  return st.laplace.cdf(x, loc=a0, scale=disp )\n",
        "\n",
        "# Вычисляем статистику критерия Колмогорова и p-значение\n",
        "Dn, p_value = st.kstest(xi, laplace_cdf)\n",
        "\n",
        "print(\"Статистика критерия Колмогорова:\", Dn)\n",
        "Dn*= n**0.5\n",
        "print(\"корень из n *Dn = \", Dn)\n",
        "print(\"p-значение:\", p_value)\n",
        "\n",
        "alpha = 0.2\n",
        "#квантиль\n",
        "xAlpha = st.kstwobign.ppf(1 - alpha)\n",
        "\n",
        "print(\"Значение x_alpha:\", xAlpha)"
      ],
      "metadata": {
        "colab": {
          "base_uri": "https://localhost:8080/"
        },
        "id": "6QTKcj8pfh6g",
        "outputId": "4ced3a3b-9b76-41c8-d055-507339c2849a"
      },
      "execution_count": null,
      "outputs": [
        {
          "output_type": "stream",
          "name": "stdout",
          "text": [
            "Статистика критерия Колмогорова: 0.977947217900102\n",
            "корень из n *Dn =  6.915131094196804\n",
            "p-значение: 2.979883671057542e-83\n",
            "Значение x_alpha: 1.072749174939648\n"
          ]
        }
      ]
    },
    {
      "cell_type": "markdown",
      "source": [
        "Основная гипотеза согласия: $H_0: F\\equiv F_0$; $F_0$ - непрерывная функция распределения(теоретическая)\n",
        "\n",
        "Статистика критерия Колмогорова: $D_n = \\sup_{X\\in \\mathbb{R}}\\left|F_n\\left(x\\right) - F_0\\left(x\\right) \\right|$\n",
        "\n",
        "$F_n\\left(x\\right)$ - выборочная функция распределения\n",
        "\n",
        "$D_n \\approx 0.978$\n",
        "\n",
        "По теореме Колмогорова: $\\sqrt n\\cdot D_n \\Rightarrow \\mathcal K$ при основной гипотезе\n",
        "\n",
        "$\\sqrt n\\cdot D_n \\approx 6.915$\n",
        "\n",
        "$x_{\\alpha_2}: K_n\\left(x_{\\alpha_2}\\right) = 1 - \\alpha_2 = 0.8$\n",
        "\n",
        "$x_{\\alpha_2} = 1.073$\n",
        "\n",
        "$\\sqrt n\\cdot D_n > x_{\\alpha_2} \\Rightarrow $ отвергаем гипотезу $H_0$\n",
        "\n",
        "Наибольшеее значение уровня значимости, на котором еще нет оснований отвергать гипотезу $\\approx 3\\cdot10^{-83} \\approx 0$"
      ],
      "metadata": {
        "id": "rLxsF7huh3dA"
      }
    },
    {
      "cell_type": "markdown",
      "source": [
        "####<b>i).f)</b>\n",
        "\n",
        "$P_{i}=P_{H_{0}}\\left(a< X < b \\right)= F\\left(b\\right) - F\\left(a\\right)$\n",
        "\n",
        "Функция данного в условии распределения:\n",
        "\n",
        "$F(x) = \\left\\{\\begin{array}{l}\\frac12 e^{\\alpha\\left(x-\\beta\\right)},\\;\\;x \\leq\\beta\\\\1 - \\frac12 e^{-\\alpha\\left(x-\\beta\\right)}, \\;\\; x > \\beta\\end{array}\\right.\\;\\;\\;$ где $\\alpha = \\frac{\\sqrt 2}{\\sigma_0};\\;\\; \\beta = a_0$\n",
        "\n",
        "\n",
        "$a_0 = -2;\\;\\; \\sigma_0 = 2;\\;\\; \\alpha_2 = 0.2;\\;\\; n = 50$\n",
        "\n",
        "$r = 6$ - количество зон\n",
        "\n",
        "Критерий $\\chi^2$(по выборке) $=\\sum\\limits_{i=1}^{r}\\frac{(n_{i}-np_{i})^{2}}{np_{i}} =251684.44$\n",
        "\n",
        "\n",
        "$\\chi^{2}_{5,0.8}\\approx 7.289$,\n",
        "\n",
        "$\\chi^2 > \\chi^{2}_{5,0.8}\\Rightarrow$ по критерию Пирсона гипотеза $H_0$  отвергается\n",
        "\n",
        "Наибольшее значение уровня значимости, при котором нет еще оснований отвергнуть данную гипотезу = 0$"
      ],
      "metadata": {
        "id": "rjxJgmNhflzt"
      }
    },
    {
      "cell_type": "code",
      "source": [
        "\n",
        "\n",
        "def funcF(start, end):\n",
        "  sigma0 = 2\n",
        "  n = 50\n",
        "  a0 = -2\n",
        "  disp= 2**0.5/sigma0\n",
        "  p =  st.laplace.cdf(end, loc=a0, scale=disp ) - st.laplace.cdf(start, loc=a0, scale=disp)\n",
        "  print(\"I = [ \", start,\",\",end,\" ]\" \"   p = \", p, \"np = \", n*p)\n",
        "  return n*p\n",
        "\n",
        "npi = []\n",
        "npi.append(funcF(0.207, 1.007))\n",
        "npi.append(funcF(1.007,3.407))\n",
        "npi.append(funcF(3.407,4.207))\n",
        "npi.append(funcF(4.207,5.007))\n",
        "npi.append(funcF(5.007,5.807))\n",
        "npi.append(funcF(5.807,9.007))\n",
        "r = len(npi) - 1 #количество степеней свободы\n",
        "ni = [5,11,12,6,9,7]\n",
        "hiSample = 0\n",
        "for i in range(len(npi)):\n",
        "  hiSample += (ni[i] - npi[i])**2/npi[i]\n",
        "\n",
        "hiSample = round(hiSample, 2)\n",
        "print(\"Критерий хи-квадрат по выборке = \", hiSample)\n",
        "npi.clear()\n",
        "ni.clear()\n",
        "\n",
        "print(\"Значение хи-квадрат при количестве степеней свободы = \", r, \"и уровне значимости = \", alpha, \" = \", st.chi2.ppf(1 - alpha, r))\n",
        "print(\"Наибольшее значение уровня значимости, при котором нет еще оснований отвергнуть данную гипотезу = \", 1 - st.chi2.cdf(hiSample, r))"
      ],
      "metadata": {
        "colab": {
          "base_uri": "https://localhost:8080/"
        },
        "outputId": "a4e5f7f5-b92b-41e4-f716-74fa64810a97",
        "id": "G8eA_8zljqJo"
      },
      "execution_count": null,
      "outputs": [
        {
          "output_type": "stream",
          "name": "stdout",
          "text": [
            "I = [  0.207 , 1.007  ]   p =  0.014938759030296622 np =  0.7469379515148311\n",
            "I = [  1.007 , 3.407  ]   p =  0.006875202946478254 np =  0.3437601473239127\n",
            "I = [  3.407 , 4.207  ]   p =  0.00016177896533697833 np =  0.008088948266848917\n",
            "I = [  4.207 , 5.007  ]   p =  5.218839447873602e-05 np =  0.002609419723936801\n",
            "I = [  5.007 , 5.807  ]   p =  1.6835492256950246e-05 np =  0.0008417746128475123\n",
            "I = [  5.807 , 9.007  ]   p =  7.930448188364636e-06 np =  0.0003965224094182318\n",
            "Критерий хи-квадрат по выборке =  251684.44\n",
            "Значение хи-квадрат при количестве степеней свободы =  5 и уровне значимости =  0.2  =  7.289276126648961\n",
            "Наибольшее значение уровня значимости, при котором нет еще оснований отвергнуть данную гипотезу =  0.0\n"
          ]
        }
      ]
    },
    {
      "cell_type": "markdown",
      "source": [
        "####<b>i).g)</b>\n",
        "\n",
        "$P_{i}=P_{H_{0}}\\left(a< X < b \\right)= F\\left(b\\right) - F\\left(a\\right)$\n",
        "\n",
        "Функция данного в условии распределения:\n",
        "\n",
        "$F(x) = \\left\\{\\begin{array}{l}\\frac12 e^{\\alpha\\left(x-\\beta\\right)},\\;\\;x \\leq\\beta\\\\1 - \\frac12 e^{-\\alpha\\left(x-\\beta\\right)}, \\;\\; x > \\beta\\end{array}\\right.\\;\\;\\;$ где $\\alpha = \\frac{\\sqrt 2}{\\sigma};\\;\\; \\beta = a$\n",
        "\n",
        "\n",
        "$a_0 = \\overline X =  3.957;\\;\\; \\sigma = 1.971;\\;\\; \\alpha_2 = 0.2;\\;\\; n = 50$\n",
        "\n",
        "$r = 6$ - количество зон\n",
        "\n",
        "Критерий $\\chi^2$(по выборке) $=\\sum\\limits_{i=1}^{r}\\frac{(n_{i}-np_{i})^{2}}{np_{i}} =108.48$\n",
        "\n",
        "\n",
        "$\\chi^{2}_{3,0.8}\\approx 4.642$,\n",
        "\n",
        "$\\chi^2 > \\chi^{2}_{3,0.8}\\Rightarrow$ по критерию Пирсона гипотеза $H_0$  отвергается\n",
        "\n",
        "Наибольшее значение уровня значимости, при котором нет еще оснований отвергнуть данную гипотезу = 0$"
      ],
      "metadata": {
        "id": "izruiMSljZdZ"
      }
    },
    {
      "cell_type": "code",
      "source": [
        "def funcF(start, end):\n",
        "  sigma0 = 1.971\n",
        "  n = 50\n",
        "  a0 = 3.957\n",
        "  disp= 2**0.5/sigma0\n",
        "  p =  st.laplace.cdf(end, loc=a0, scale=disp ) - st.laplace.cdf(start, loc=a0, scale=disp)\n",
        "  print(\"I = [ \", start,\",\",end,\" ]\" \"   p = \", p, \"np = \", round(n*p,3))\n",
        "  return round(n*p, 3)\n",
        "\n",
        "npi = []\n",
        "npi.append(funcF(0.207, 1.007))\n",
        "npi.append(funcF(1.007,3.407))\n",
        "npi.append(funcF(3.407,4.207))\n",
        "npi.append(funcF(4.207,5.007))\n",
        "npi.append(funcF(5.007,5.807))\n",
        "npi.append(funcF(5.807,9.007))\n",
        "r = len(npi) - 3 #количество степеней свободы\n",
        "ni = [5,11,12,6,9,7]\n",
        "hiSample = 0\n",
        "for i in range(len(npi)):\n",
        "  hiSample += (ni[i] - npi[i])**2/npi[i]\n",
        "\n",
        "hiSample = round(hiSample, 2)\n",
        "print(\"Критерий хи-квадрат по выборке = \", hiSample)\n",
        "npi.clear()\n",
        "ni.clear()\n",
        "\n",
        "print(\"Значение хи-квадрат при количестве степеней свободы = \", r, \"и уровне значимости = \", alpha, \" = \", st.chi2.ppf(1 - alpha, r))\n",
        "print(\"Наибольшее значение уровня значимости, при котором нет еще оснований отвергнуть данную гипотезу = \", 1 - st.chi2.cdf(hiSample, r))"
      ],
      "metadata": {
        "colab": {
          "base_uri": "https://localhost:8080/"
        },
        "outputId": "e37c5137-b880-4da3-8732-863dbdd5ecdc",
        "id": "YY-U2bqPBAQI"
      },
      "execution_count": null,
      "outputs": [
        {
          "output_type": "stream",
          "name": "stdout",
          "text": [
            "I = [  0.207 , 1.007  ]   p =  0.005505698234490214 np =  0.275\n",
            "I = [  1.007 , 3.407  ]   p =  0.22411703521781948 np =  11.206\n",
            "I = [  3.407 , 4.207  ]   p =  0.41479209291933106 np =  20.74\n",
            "I = [  4.207 , 5.007  ]   p =  0.23717393051220825 np =  11.859\n",
            "I = [  5.007 , 5.807  ]   p =  0.07777560203006506 np =  3.889\n",
            "I = [  5.807 , 9.007  ]   p =  0.03751039023018288 np =  1.876\n",
            "Критерий хи-квадрат по выборке =  108.48\n",
            "Значение хи-квадрат при количестве степеней свободы =  3 и уровне значимости =  0.2  =  4.64162767608745\n",
            "Наибольшее значение уровня значимости, при котором нет еще оснований отвергнуть данную гипотезу =  0.0\n"
          ]
        }
      ]
    },
    {
      "cell_type": "markdown",
      "metadata": {
        "id": "1wZyq-1TmjB8"
      },
      "source": [
        "Также можно (и нужно) вставлять таблицы. [Удобный сайт для создания Markdown-таблиц.](https://www.tablesgenerator.com/markdown_tables \"Markdown Tables generator\")\n",
        "\n",
        "Не забывайте проанализировать полученные результаты."
      ]
    },
    {
      "cell_type": "markdown",
      "metadata": {
        "id": "EqHmFR5HmjB8"
      },
      "source": [
        "## Выводы\n",
        "\n",
        "В данной работе была примененена теория математической статистики и инструменты языка программирования Python для обработки результатов экспериментов и решения необходимых задач: Нахождение выборочных харакетристик, ОМП, ОММ, смещение оценок, построение доверительных интервалов, построение критериев."
      ]
    }
  ],
  "metadata": {
    "kernelspec": {
      "display_name": "Python 3",
      "name": "python3"
    },
    "language_info": {
      "name": "python"
    },
    "colab": {
      "provenance": []
    }
  },
  "nbformat": 4,
  "nbformat_minor": 0
}
