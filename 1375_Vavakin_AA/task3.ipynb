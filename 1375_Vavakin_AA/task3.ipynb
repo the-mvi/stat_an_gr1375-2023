{
 "cells": [
  {
   "cell_type": "markdown",
   "metadata": {},
   "source": [
    "# Практическая работа №3: Регрессионный анализ\n",
    "Выполнил студент гр. 1375 Вавакин Артем. Вариант №6"
   ]
  },
  {
   "cell_type": "markdown",
   "metadata": {},
   "source": [
    "## Цель работы\n",
    "Ознакомление с основными положениями метода наименьших квадратов (МНК), со статистическими свойствами МНК-оценок, с понятием функции регрессии и роли МНК в регрессионном анализе."
   ]
  },
  {
   "cell_type": "markdown",
   "metadata": {},
   "source": [
    "## Основные теоретические положения\n"
   ]
  },
  {
   "cell_type": "markdown",
   "metadata": {},
   "source": [
    "1. **Линейная регрессионная модель**: Линейная регрессия некоторой зависимой переменной y на набор независимых переменных  $x = (x_1, …, x_n)$, предполагает, что линейное отношение между $y$ и $x$:\\\n",
    "$y =\\beta_0  + \\beta_1 x_1 + ⋯ + \\beta_n x_n + \\epsilon$ - уравнение регрессии.\\\n",
    "$\\beta_0, \\beta_1, …, \\beta_n$ – коэффициенты регрессии (параметры), $\\epsilon$ – случайная ошибка.\n",
    "\n",
    "2. **Метод Наименьших Квадратов (МНК)**: Этот метод минимизирует сумму квадратов разностей между наблюдаемыми и предсказанными значениями (RSS). Он включает решение системы уравнений для определения коэффициентов регрессии ($\\beta$) и использует производную RSS для оптимизации этих коэффициентов.\n",
    "$$RSS(\\beta)=\\left\\| Y-X^{\\intercal}\\beta \\right\\|=(Y-X^{\\intercal}\\beta)^{\\intercal}\\cdot(Y-X^{\\intercal}\\beta)\\to min\\beta$$\n",
    "$\\quad\\quad$ Нормальные уравнения: $XX^{\\intercal}\\beta=XY$\\\n",
    "$\\quad\\quad$ Решение системы нормальных уравнений в регулярном случае: $\\widehat{\\beta}=(XX^{\\intercal})^{-1}XY$\n",
    "\n",
    "$$RSS(\\beta)=\\sum_{i=1}^{n}\\left( Y_{i}-\\sum_{j=1}^{m}x_{ji}\\beta_{j} \\right)^{2}$$\n",
    "$$\\frac{\\partial RSS}{\\partial \\beta_{k}} = -2\\sum_{i=1}^{n}x_{ki}\\left(Y_{i}- \\sum_{j=1}^{m}x_{ji}\\beta_{j}\\right)=0, k=\\overline{1,m}$$\n",
    "\n",
    "3. **Несмещенная оценка дисперсии**: \n",
    "$$S^{2} = \\frac{SS_{e}}{n-r} = \\frac{RSS(\\widehat{\\beta})}{n-r}$$\n",
    "\n",
    "$$SS_{e}=RSS(\\widehat{\\beta})$$\n",
    "$\\quad\\quad r$-ранг матрицы $X$\n",
    "\n",
    "4. **Доверительный интервал**:\\\n",
    "ДНО функции:$\\psi=с^{\\intercal}\\beta$<br><br>\n",
    "МНК-оценка: $\\widehat{\\psi}=с^{\\intercal}\\beta$<br><br>\n",
    "Элемент дисперсии оценки: $b_{\\psi}=c^{\\intercal}(XX^{\\intercal})^{-1}c$<br><br>\n",
    "Распределение $\\widehat{\\psi}\\sim \\mathcal{N}(\\psi,\\sigma^{2}b)$<br><br>\n",
    "$\\frac{\\widehat{\\psi}-\\psi}{S\\sqrt{b}}\\sim \\mathrm{S}_{n-r}$<br><br>\n",
    "Д.И. уровня доверия $1-\\alpha: \\left[ \\widehat{\\psi} - X_{\\alpha}S\\sqrt{b};\\widehat{\\psi} + X_{\\alpha}S\\sqrt{b} \\right]$, где $X_{\\alpha}: \\mathrm{S}_{n-r}(X_{\\alpha})=1-\\frac{\\alpha}{2}$\n",
    "\n",
    "5. **Уравнение доверительного эллипсоида**: Описывает область, в которой с определенной вероятностью находятся оценки параметров.\\\n",
    "Это уравнение использует вектор оценок параметров, матрицу ковариации, оценку дисперсии и значение функции распределения хи-квадрат.\n",
    "\n",
    "6. **Критерий $\\chi^2$**: Проверяет гипотезу, сравнивая теоретическую плотность распределения со статистическими данными.\\\n",
    "Основывается на разбиении множества значений на интервалы и сравнении частоты попадания в эти интервалы с теоретической вероятностью.\n",
    "\n",
    "7. **Теорема Колмогорова**: Описывает сходимость распределения максимальной разницы между эмпирической и теоретической функциями распределения. Гипотеза проверяется на основе распределения Колмогорова.<br><br>\n",
    "$D_{n}(\\overrightarrow{X}) = \\overset{}{\\underset{X \\in \\mathbb R}{sup}} |F_{0}(X_{i}) - F_{n}(X_{i})|$<br><br>\n",
    "Если гипотеза $H_{0}$ верна, и $F_{0}(X)$ - непрерывная функция на $\\mathbb R$, тогда имеет место сходимость<br><br>\n",
    "$P(\\sqrt{n} D_{n}(\\overrightarrow{X}) < z) \\xrightarrow[n \\rightarrow \\infty]{} K(z)$, где<br><br>\n",
    "$\\mathrm{K}(z)=1-\\alpha$ - функция распределения Колмогорова.\n",
    "\n",
    "8. **$\\mathbb{F}$-критерий**:<br><br>\n",
    "$\\mathbb{F}=\\frac{MSR}{MSE}$ - статистика распределения<br><br>\n",
    "где $MSR=\\frac{SSR}{p}=\\frac{\\sum_{i=1}^{n}\\left(\\sum_{j=1}^{n}x_{ji} \\beta_j - \\overline{Y}\\right)^2}{p}$ - среднеквадратичное отклонение объясненных отклонений<br><br>\n",
    "$MSE = \\frac{SS_e}{n-p}=\\frac{\\sum_{i=1}^{n}\\left( Y_{i}-\\sum_{j=1}^{m}x_{ji}\\beta_{j} \\right)^{2}}{n-p}$, где $SS_{e}=RSS(\\beta)$ - среднеквадратичное отклонение остатков."
   ]
  },
  {
   "cell_type": "markdown",
   "metadata": {},
   "source": [
    "## Постановка задачи\n",
    "Результаты статистического эксперимента представлены в виде двух переменных. \\\n",
    "Требуется оценить характер (случайной) зависимости переменной $Y$\n",
    "от переменной $X$. \\\n",
    "Полученные результаты содержательно проинтерпретировать."
   ]
  },
  {
   "cell_type": "markdown",
   "metadata": {},
   "source": [
    "## Выполнение работы"
   ]
  },
  {
   "cell_type": "markdown",
   "metadata": {},
   "source": [
    "#### 1.\n",
    "Построить графически результаты эксперимента. Сформулировать линейную регрессионную модель переменной $Y$ по переменной $X$.\\\n",
    "Построить МНК оценки параметров сдвига  $\\beta_0$ и масштаба  $\\beta_1$.\\\n",
    "Построить полученную линию регрессии. Оценить визуально соответствие полученных данных и построенной оценки."
   ]
  },
  {
   "cell_type": "code",
   "execution_count": 1152,
   "metadata": {},
   "outputs": [],
   "source": [
    "import matplotlib.pyplot as plt\n",
    "import pandas as pd\n",
    "import numpy as np\n",
    "from scipy import stats as st"
   ]
  },
  {
   "cell_type": "code",
   "execution_count": 1153,
   "metadata": {},
   "outputs": [
    {
     "data": {
      "text/html": [
       "<div>\n",
       "<style scoped>\n",
       "    .dataframe tbody tr th:only-of-type {\n",
       "        vertical-align: middle;\n",
       "    }\n",
       "\n",
       "    .dataframe tbody tr th {\n",
       "        vertical-align: top;\n",
       "    }\n",
       "\n",
       "    .dataframe thead th {\n",
       "        text-align: right;\n",
       "    }\n",
       "</style>\n",
       "<table border=\"1\" class=\"dataframe\">\n",
       "  <thead>\n",
       "    <tr style=\"text-align: right;\">\n",
       "      <th></th>\n",
       "      <th>1</th>\n",
       "      <th>2</th>\n",
       "      <th>3</th>\n",
       "      <th>4</th>\n",
       "      <th>5</th>\n",
       "      <th>6</th>\n",
       "      <th>7</th>\n",
       "      <th>8</th>\n",
       "      <th>9</th>\n",
       "      <th>10</th>\n",
       "      <th>...</th>\n",
       "      <th>41</th>\n",
       "      <th>42</th>\n",
       "      <th>43</th>\n",
       "      <th>44</th>\n",
       "      <th>45</th>\n",
       "      <th>46</th>\n",
       "      <th>47</th>\n",
       "      <th>48</th>\n",
       "      <th>49</th>\n",
       "      <th>50</th>\n",
       "    </tr>\n",
       "  </thead>\n",
       "  <tbody>\n",
       "    <tr>\n",
       "      <th>X</th>\n",
       "      <td>4.00</td>\n",
       "      <td>5.00</td>\n",
       "      <td>4.00</td>\n",
       "      <td>3.0</td>\n",
       "      <td>3.0</td>\n",
       "      <td>3.00</td>\n",
       "      <td>1.00</td>\n",
       "      <td>3.00</td>\n",
       "      <td>4.00</td>\n",
       "      <td>2.00</td>\n",
       "      <td>...</td>\n",
       "      <td>5.0</td>\n",
       "      <td>2.00</td>\n",
       "      <td>3.00</td>\n",
       "      <td>3.00</td>\n",
       "      <td>5.00</td>\n",
       "      <td>3.00</td>\n",
       "      <td>3.00</td>\n",
       "      <td>3.00</td>\n",
       "      <td>4.0</td>\n",
       "      <td>3.00</td>\n",
       "    </tr>\n",
       "    <tr>\n",
       "      <th>Y</th>\n",
       "      <td>6.52</td>\n",
       "      <td>7.01</td>\n",
       "      <td>8.08</td>\n",
       "      <td>9.5</td>\n",
       "      <td>7.8</td>\n",
       "      <td>9.48</td>\n",
       "      <td>8.12</td>\n",
       "      <td>6.58</td>\n",
       "      <td>9.27</td>\n",
       "      <td>8.21</td>\n",
       "      <td>...</td>\n",
       "      <td>9.3</td>\n",
       "      <td>5.89</td>\n",
       "      <td>8.42</td>\n",
       "      <td>7.68</td>\n",
       "      <td>6.73</td>\n",
       "      <td>10.17</td>\n",
       "      <td>8.33</td>\n",
       "      <td>8.51</td>\n",
       "      <td>8.7</td>\n",
       "      <td>6.65</td>\n",
       "    </tr>\n",
       "  </tbody>\n",
       "</table>\n",
       "<p>2 rows × 50 columns</p>\n",
       "</div>"
      ],
      "text/plain": [
       "     1     2     3    4    5     6     7     8     9     10  ...   41    42  \\\n",
       "X  4.00  5.00  4.00  3.0  3.0  3.00  1.00  3.00  4.00  2.00  ...  5.0  2.00   \n",
       "Y  6.52  7.01  8.08  9.5  7.8  9.48  8.12  6.58  9.27  8.21  ...  9.3  5.89   \n",
       "\n",
       "     43    44    45     46    47    48   49    50  \n",
       "X  3.00  3.00  5.00   3.00  3.00  3.00  4.0  3.00  \n",
       "Y  8.42  7.68  6.73  10.17  8.33  8.51  8.7  6.65  \n",
       "\n",
       "[2 rows x 50 columns]"
      ]
     },
     "execution_count": 1153,
     "metadata": {},
     "output_type": "execute_result"
    },
    {
     "data": {
      "image/png": "[encoded data removed]",
      "text/plain": [
       "<Figure size 640x480 with 1 Axes>"
      ]
     },
     "metadata": {},
     "output_type": "display_data"
    }
   ],
   "source": [
    "X_raw = \"4 5 4 3 3 3 1 3 4 2 2 3 3 3 4 2 5 4 2 4 2 4 4 3 0 \"\\\n",
    "        \"5 4 2 3 4 3 2 0 6 3 3 5 3 4 4 5 2 3 3 5 3 3 3 4 3\"\n",
    "\n",
    "Y_raw = \"6.52 7.01 8.08 9.50 7.80 9.48 8.12 6.58 9.27 8.21 \"\\\n",
    "        \"8.09 7.14 9.70 6.85 8.89 7.62 7.17 6.21 6.11 5.90 \"\\\n",
    "        \"9.51 4.73 7.25 7.66 6.78 7.58 5.52 7.00 8.25 7.72 \"\\\n",
    "        \"8.38 8.51 7.79 6.40 10.19 7.40 7.63 8.94 7.22 5.71 \"\\\n",
    "        \"9.30 5.89 8.42 7.68 6.73 10.17 8.33 8.51 8.70 6.65\"\n",
    "\n",
    "X = [int(item) for item in X_raw.split()]\n",
    "Y = [float(item) for item in Y_raw.split()]\n",
    "observations = [X, Y]\n",
    "n = len(X)\n",
    "\n",
    "df = pd.DataFrame(observations, columns=[i for i in range(1, n + 1)], index=[\"X\", \"Y\"])\n",
    "\n",
    "plt.plot(X, Y, \"bo\")\n",
    "plt.title(\"Результаты стат. эксперимента\")\n",
    "plt.grid()\n",
    "plt.xlabel(\"X\")\n",
    "plt.ylabel(\"Y\")\n",
    "\n",
    "df"
   ]
  },
  {
   "cell_type": "markdown",
   "metadata": {},
   "source": [
    "МНК оценки параметров сдвига  $\\beta_0$ и масштаба  $\\beta_1$:\n",
    "\n",
    "Линейная регрессионная модель: $Y = \\beta_0 + \\beta_1X  + \\epsilon$\n",
    "\n",
    "Решение системы нормальных уравнений в регулярном случае:\n",
    " \n",
    "$X = \\begin{pmatrix} 1 & 1  & 1 & \\cdots & 1 \\\\ x_1 & x_2 & x_3 & \\cdots & x_{50}\\end{pmatrix}$\n",
    "\n",
    "$XX^{\\intercal} = \\begin{pmatrix} 1 & 1  & 1 & \\cdots & 1 \\\\ x_1 & x_2 & x_3 & \\cdots & x_{50}\\end{pmatrix} \\cdot \\begin{pmatrix} 1 & x_1 \\\\ 1 & x_2 \\\\ 1 & x_3\\\\ \\vdots & \\vdots \\\\ 1 & x_{50} \\end{pmatrix} = \\begin{pmatrix}50 & 162 \\\\ 162 & 598 \\end{pmatrix}$\n",
    "\n",
    "$\\mathrm{det}\\left(XX^{\\intercal}\\right) = 3656 \\neq 0 \\Rightarrow$ матрица  невырожденная.\n",
    "\n",
    "$\\left(XX^{\\intercal}\\right)^{-1} = \\frac{1}{3656} \\cdot \\begin{pmatrix}598 & -162 \\\\ -162 & 50 \\end{pmatrix}$\n",
    "\n",
    "Тогда, $\\widehat{\\beta} = \\left(XX^{\\intercal}\\right)^{-1}XY \\approx \\begin{pmatrix} 8.205 \\\\ -0.157 \\end{pmatrix} \\Rightarrow Y \\approx 8.205 - 0.157X$"
   ]
  },
  {
   "cell_type": "code",
   "execution_count": 1154,
   "metadata": {},
   "outputs": [
    {
     "name": "stdout",
     "output_type": "stream",
     "text": [
      "XX^T =\n",
      " [[ 50 162]\n",
      " [162 598]]\n",
      "det_XX^T = 3656\n",
      "XX^T_inv =\n",
      " [[ 0.16356674 -0.04431072]\n",
      " [-0.04431072  0.01367615]]\n",
      "beta_0 = 8.204775711159742\n",
      "beta_1 = -0.15702954048140183\n"
     ]
    },
    {
     "data": {
      "image/png": "[encoded data removed]",
      "text/plain": [
       "<Figure size 640x480 with 1 Axes>"
      ]
     },
     "metadata": {},
     "output_type": "display_data"
    }
   ],
   "source": [
    "X_1 = [np.array([1]*n), np.array(X)] \n",
    "\n",
    "X_1T = np.transpose(X_1) \n",
    "\n",
    "XXT_1 = np.dot(X_1, X_1T) \n",
    "print(\"XX^T =\\n\", XXT_1)\n",
    "\n",
    "det_XXT_1 = round(np.linalg.det(XXT_1))\n",
    "print(\"det_XX^T =\", det_XXT_1)\n",
    "\n",
    "XXT_inv = np.linalg.inv(XXT_1)\n",
    "print(\"XX^T_inv =\\n\", XXT_inv)\n",
    "\n",
    "cur_beta = np.dot(XXT_inv, X_1)\n",
    "beta_hat = np.dot(cur_beta, np.transpose(Y)) \n",
    "\n",
    "print(\"beta_0 =\", beta_hat[0])\n",
    "print(\"beta_1 =\", beta_hat[1])\n",
    "\n",
    "Y_1 = beta_hat[0] + beta_hat[1]*np.array(X) \n",
    "\n",
    "plt.title(\"Результаты стат. эксперимента, линия регрессии\")\n",
    "plt.xlabel(\"X\")\n",
    "plt.ylabel(\"Y\")\n",
    "plt.grid()\n",
    "plt.plot(X, Y, \"bo\")\n",
    "plt.plot(X, Y_1, \"r-\");"
   ]
  },
  {
   "cell_type": "markdown",
   "metadata": {},
   "source": [
    "Результаты стат. эксперимента значительно отклоняются от полученной линии регрессии."
   ]
  },
  {
   "cell_type": "markdown",
   "metadata": {},
   "source": [
    "#### 2.\n",
    "Построить и интерпретировать несмещённую оценку дисперсии. На базе ошибок построить гистограмму с шагом $h = 1.00$.\\\n",
    "Проверить гипотезу нормальности ошибок на уровне значимости $\\alpha = 0.02$ по $\\chi^2$.\\\n",
    "Оценить расстояние полученной оценки до класса нормальных распределений по Колмогорову.\\\n",
    "Визульно оценить данный факт."
   ]
  },
  {
   "cell_type": "markdown",
   "metadata": {},
   "source": [
    "Несмещённая оценка параметра $\\sigma^2$:\n",
    "\n",
    "$$\\large s^2 = \\frac{RSS(\\widehat \\beta)}{n - r} = \\frac{1}{n - r} \\cdot \\sum \\limits_{i = 1}^n\\left(Y_i - \\sum \\limits_{j = 1}^m x_{ij} \\widehat{\\beta_j} \\right)^2 = \\frac{1}{n - r} \\cdot \\sum \\limits_{i = 1}^n\\left(Y_i - \\widehat{\\beta_0} - \\widehat{\\beta_1}X_i\\right)^2 $$\n",
    "\n",
    "$r = 2$ - ранг матрицы $X$"
   ]
  },
  {
   "cell_type": "code",
   "execution_count": 1155,
   "metadata": {},
   "outputs": [
    {
     "name": "stdout",
     "output_type": "stream",
     "text": [
      "Несмещённая оценка дисперсии s^2 = 1.5783788920040116\n"
     ]
    }
   ],
   "source": [
    "sum_sq = np.sum((Y - beta_hat[0] - beta_hat[1] * np.array(X))**2)\n",
    "s2 = sum_sq / (n - len(beta_hat))\n",
    "print('Несмещённая оценка дисперсии s^2 =', s2)"
   ]
  },
  {
   "cell_type": "code",
   "execution_count": 1156,
   "metadata": {},
   "outputs": [
    {
     "data": {
      "image/png": "[encoded data removed]",
      "text/plain": [
       "<Figure size 640x480 with 1 Axes>"
      ]
     },
     "metadata": {},
     "output_type": "display_data"
    }
   ],
   "source": [
    "h = 1.0\n",
    "errors = Y - Y_1\n",
    "errors = sorted(errors)\n",
    "bins = np.arange(min(errors), max(errors) + h, h) \n",
    "plt.xticks(bins)\n",
    "\n",
    "y, edges, _= plt.hist(errors, edgecolor='black', bins=bins, weights=np.ones_like(errors) / n)\n",
    "plt.grid()\n",
    "plt.title('Гистограмма ошибок')\n",
    "plt.xlabel('Ошибки')\n",
    "plt.ylabel('Частота');"
   ]
  },
  {
   "cell_type": "markdown",
   "metadata": {},
   "source": [
    "Проверка гипотезы нормальности:\n",
    "\n",
    "Основная гипотеза $H_0$: $\\vec{\\epsilon} \\sim \\mathcal{N}(0, \\sigma^2)$\n",
    "\n",
    "Разобьём числовую прямую на отрезки $G_1 = \\left(- \\infty, -1.4\\right],  G_2 = \\left(-1.4, -0.847\\right],\\\\\n",
    "G_3 = \\left(-0.847, 0.153\\right], G_4 = \\left(0.153, 1.153 \\right], G_5 = \\left(1.153, + \\infty\\right)$\n",
    "\n",
    "Рассмотрим $\\mathbb{P}_{k} = \\mathbb{P}_{\\theta}\\left(x_i \\in G_k\\right) = \\sum \\limits_{x \\in G_k} p_{\\theta}(x)$, где $p_{\\theta}(x)$ - плотность нормального распределения.<br>"
   ]
  },
  {
   "cell_type": "code",
   "execution_count": 1157,
   "metadata": {},
   "outputs": [
    {
     "name": "stdout",
     "output_type": "stream",
     "text": [
      "P1 =  0.13256409980114858 , n*P1 =  6.628204990057429\n",
      "P2 =  0.11753339774986848 , n*P2 =  5.876669887493424\n",
      "P3 =  0.2983669670027683 , n*P3 =  14.918348350138416\n",
      "P4 =  0.27216025595961135 , n*P4 =  13.608012797980567\n",
      "P5 =  0.17937527948660326 , n*P5 =  8.968763974330162\n",
      "Количество значений в группах:\n",
      "n1 =  7 , n2 =  7 , n3 =  14 , n4 =  12 n5 =  10\n",
      "Статистика критерия:  0.6006982781354828\n",
      "Табличное значение: 7.824046010856292\n",
      "Гипотеза принимается\n"
     ]
    }
   ],
   "source": [
    "a = 0\n",
    "sigma = s2**0.5\n",
    "alpha = 0.02\n",
    "\n",
    "edges = [-1.4, -0.847,  0.153, 1.153, 3.153] \n",
    "p1 = st.norm.cdf(edges[0], a, sigma)\n",
    "p2 = st.norm.cdf(edges[1], a, sigma) - st.norm.cdf(edges[0], a, sigma)\n",
    "p3 = st.norm.cdf(edges[2], a, sigma) - st.norm.cdf(edges[1], a, sigma)\n",
    "p4 = st.norm.cdf(edges[3], a, sigma) - st.norm.cdf(edges[2], a, sigma)\n",
    "p5 = 1 - p1 - p2 - p3 - p4\n",
    "print('P1 = ', p1, ', n*P1 = ', n * p1)\n",
    "print('P2 = ', p2, ', n*P2 = ', n * p2)\n",
    "print('P3 = ', p3, ', n*P3 = ', n * p3)\n",
    "print('P4 = ', p4, ', n*P4 = ', n * p4)\n",
    "print('P5 = ', p5, ', n*P5 = ', n * p5)\n",
    "\n",
    "groups = [[],[],[],[],[]]\n",
    "cur_edge_index = 0\n",
    "cur_group = 0\n",
    "\n",
    "for item in errors:\n",
    "    cur_edge = edges[cur_edge_index]\n",
    "    if item <= cur_edge:\n",
    "        groups[cur_group].append(item)\n",
    "    else:\n",
    "        cur_group += 1\n",
    "        groups[cur_group].append(item)\n",
    "        cur_edge_index += 1\n",
    "\n",
    "print(\"Количество значений в группах:\")\n",
    "n1, n2, n3, n4, n5 = len(groups[0]), len(groups[1]), len(groups[2]), len(groups[3]), len(groups[4])\n",
    "print('n1 = ', n1, ', n2 = ', n2, ', n3 = ', n3, ', n4 = ', n4, 'n5 = ', n5)\n",
    "\n",
    "chi = ((n1 - n*p1)**2) / (n*p1) + ((n2 - n*p2)**2) / (n*p2) + ((n3 - n*p3)**2) / (n*p3) + ((n4 - n*p4)**2) / (n*p4) + ((n5 - n*p5)**2) / (n*p5)\n",
    "print(\"Статистика критерия: \", chi)\n",
    "print('Табличное значение:', st.chi2.ppf(1 - alpha, 2))\n",
    "\n",
    "if chi > st.chi2.ppf(1 - alpha, 2):\n",
    "    print('Гипотеза отвергается')\n",
    "else:\n",
    "    print('Гипотеза принимается')"
   ]
  },
  {
   "cell_type": "markdown",
   "metadata": {},
   "source": [
    "Так как $\\chi^2 < \\chi_{2, 0.02}^2$ , нет оснований отвергнуть гипотезу."
   ]
  },
  {
   "cell_type": "markdown",
   "metadata": {},
   "source": [
    "Выборочный критерий Колмогорова $\\eta = \\sqrt{n}D_n$:"
   ]
  },
  {
   "cell_type": "code",
   "execution_count": 1158,
   "metadata": {},
   "outputs": [
    {
     "name": "stdout",
     "output_type": "stream",
     "text": [
      "Критерий Колмогорова:  0.4333330027634278\n",
      "Квантиль:  1.5174269646320033\n"
     ]
    }
   ],
   "source": [
    "sigma = s2**0.5\n",
    "\n",
    "cdf = lambda x: st.norm.cdf(x, scale = sigma)\n",
    "Dn, _ = st.kstest(errors, cdf)\n",
    "eta = n**0.5 * Dn\n",
    "print('Критерий Колмогорова: ', eta)\n",
    "\n",
    "alpha = 0.02\n",
    "\n",
    "d = st.kstwobign.ppf(1 - alpha)\n",
    "print('Квантиль: ', d)"
   ]
  },
  {
   "cell_type": "markdown",
   "metadata": {},
   "source": [
    "Уровень значимости $\\alpha = 0.02$.\\\n",
    "Квантиль Колмогорова $d_{1 - \\alpha}$, чтобы построить критическую область $V_k = (d_{1 - \\alpha},+ \\infty)$\n",
    "\n",
    "$V_k = (1.517, + \\infty)$\\\n",
    "$\\eta = 0.433$\\\n",
    "$\\eta \\notin V_k \\Rightarrow$ нет оснований отвергнуть гипотезу."
   ]
  },
  {
   "cell_type": "code",
   "execution_count": 1159,
   "metadata": {},
   "outputs": [
    {
     "data": {
      "image/png": "[encoded data removed]",
      "text/plain": [
       "<Figure size 640x480 with 1 Axes>"
      ]
     },
     "metadata": {},
     "output_type": "display_data"
    }
   ],
   "source": [
    "y, edges, _= plt.hist(errors, edgecolor='black', bins=bins, weights=np.ones_like(errors) / n) \n",
    "vals = np.linspace(min(errors), max(errors), 100)\n",
    "plt.plot(vals, st.norm.pdf(vals, np.array(errors).mean(), np.array(errors).std()), color='red')\n",
    "plt.grid()\n",
    "plt.xticks(bins)\n",
    "plt.title('Гистограмма ошибок')\n",
    "plt.xlabel('Ошибки')\n",
    "plt.ylabel('Частота');"
   ]
  },
  {
   "cell_type": "markdown",
   "metadata": {},
   "source": [
    "На гистограмме видно, что распределение ошибок схоже с нормальным."
   ]
  },
  {
   "cell_type": "markdown",
   "metadata": {},
   "source": [
    "#### 3.\n",
    "В предположении нормальности ошибок построить доверительные интервалы для параметров $\\beta_0$ и $\\beta_1$\\\n",
    "уровня доверия $1 - \\alpha$. Построить доверительный эллипс уровня доверия $1 - \\alpha$ для $(\\beta_0, \\beta_1)$ (вычислить его полуоси)."
   ]
  },
  {
   "cell_type": "markdown",
   "metadata": {},
   "source": [
    "Функция, допускающая несмещенное оценивание: $\\psi = C^{\\intercal}\\beta$\n",
    "\n",
    "МНК-оценка: $\\widehat{\\psi} = C^{\\intercal}\\widehat{\\beta}$\n",
    "\n",
    "Для $\\beta_0$: $C = \\begin{pmatrix} 1 \\\\ 0 \\end{pmatrix}$\n",
    "\n",
    "Для $\\beta_1$: $C = \\begin{pmatrix} 0 \\\\ 1 \\end{pmatrix}$\n",
    "\n",
    "Элемент дисперсии оценки: $b_{\\psi} =  C^{\\intercal} \\left(XX^{\\intercal}\\right)^{-1}C$\n",
    "\n",
    "$\\Large \\frac{\\widehat{\\psi} - \\psi}{s\\sqrt{b}} \\normalsize \\sim S_{n-r}$ , где $r = 2$\n",
    "\n",
    "Доверительный интервал уровня доверия $1 - \\alpha$:\n",
    "\n",
    "$\\left[\\widehat{\\psi} - x_{\\alpha}s\\sqrt{b}, \\widehat{\\psi} + x_{\\alpha}s\\sqrt{b}\\right] \\ni \\psi$\\\n",
    "где $x_{\\alpha}: \\mathrm{S}_{n-r}(x_{\\alpha}) = 1 - \\frac{\\alpha}{2}$"
   ]
  },
  {
   "cell_type": "code",
   "execution_count": 1160,
   "metadata": {},
   "outputs": [
    {
     "name": "stdout",
     "output_type": "stream",
     "text": [
      "x_alpha = 2.4065812732756067\n",
      "Доверительный интервал для beta_0 [6.981980684834662, 9.427570737484823]\n",
      "Доверительный интервал для beta_1 [-0.5106098517103248, 0.19655077074752114]\n"
     ]
    }
   ],
   "source": [
    "alpha = 0.02\n",
    "r = 2\n",
    "df = n - r\n",
    "x_alpha = st.t.ppf(1 - alpha/2, df)\n",
    "print('x_alpha =', x_alpha)\n",
    "\n",
    "CT_0 = np.array([1.0, 0.0])\n",
    "b_0 = np.dot(np.dot(CT_0, XXT_inv), np.transpose(CT_0))\n",
    "psi_hat = np.dot(CT_0, beta_hat)\n",
    "left_0 = psi_hat - x_alpha * (s2 * b_0)**0.5\n",
    "right_0 = psi_hat + x_alpha * (s2 * b_0)**0.5\n",
    "print('Доверительный интервал для beta_0', [left_0, right_0])\n",
    "\n",
    "CT_1 = np.array([0.0, 1.0])\n",
    "b_1 = np.dot(np.dot(CT_1, XXT_inv), np.transpose(CT_1))\n",
    "psi_hat = np.dot(CT_1, beta_hat)\n",
    "left_1 = psi_hat - x_alpha * (s2 * b_1)**0.5\n",
    "right_1 = psi_hat + x_alpha * (s2 * b_1)**0.5\n",
    "print('Доверительный интервал для beta_1', [left_1, right_1])"
   ]
  },
  {
   "cell_type": "markdown",
   "metadata": {},
   "source": [
    "Доверительный эллипс:\n",
    "\n",
    "$\\large \\frac{\\left(\\widehat{\\psi} - \\psi\\right)^{\\intercal}B^{-1}\\left(\\widehat{\\psi} - \\psi\\right)}{qs^2} \\normalsize \\sim \\mathcal{F}_{q, n - r}$\n",
    "\n",
    "Квантиль: $x_{\\alpha} : \\mathrm{F}_{q, n - r}(x_{\\alpha}) = 1 - \\alpha$\n",
    "\n",
    "$A_{\\alpha} = \\left\\{\\vec{x} : \\left(\\vec{x} - \\widehat{\\psi}\\right)^{\\intercal}B^{-1} \\left(\\vec{x} - \\widehat{\\psi}\\right) \\leq qs^2x_{\\alpha}\\right\\}$ , где $x_{\\alpha} : \\mathrm{F}_{q, n-r} = 1 - \\alpha$, $B = C^{\\intercal}\\left(XX^{\\intercal}\\right)^{-1}C$\n",
    "\n",
    "$C = \\begin{pmatrix}1 & 0 \\\\ 0 & 1\\end{pmatrix}$\n",
    "\n",
    "Тогда, $\\begin{pmatrix} x \\\\ y \\end{pmatrix} = P\\left(\\widehat{\\psi} - \\psi\\right)$ ,\\\n",
    "где $P$ - матрица собственных векторов $XX^{\\intercal}$.\n",
    "\n",
    "Тогда, уравнение доверительного эллипса выглядит так:\n",
    "\n",
    "$\\left(\\widehat{\\psi} - \\psi\\right)^{\\intercal}B^{-1}\\left(\\widehat{\\psi} - \\psi\\right) = \\lambda_1x^2 + \\lambda_2y^2 \\leq qs^2x_{\\alpha}$\n",
    "\n",
    "Таким образом $\\large \\frac{\\lambda_1x^2}{qs^2x_{\\alpha}} + \\frac{\\lambda_2y^2}{qs^2x_{\\alpha}} \\normalsize \\leq 1$, где $q = 2$ - размер модели"
   ]
  },
  {
   "cell_type": "code",
   "execution_count": 1161,
   "metadata": {},
   "outputs": [
    {
     "name": "stdout",
     "output_type": "stream",
     "text": [
      "P =\n",
      " [[-0.96457281 -0.26381678]\n",
      " [ 0.26381678 -0.96457281]]\n"
     ]
    }
   ],
   "source": [
    "eigenvalues, eigenvectors = np.linalg.eig(np.array(XXT_1))\n",
    "print('P =\\n', eigenvectors)"
   ]
  },
  {
   "cell_type": "markdown",
   "metadata": {},
   "source": [
    "$ P\\left(\\widehat{\\psi} - \\psi\\right) = \\begin{pmatrix} -0.96 & -0.26 \\\\ 0.26 & -0.96\\end{pmatrix} \\begin{pmatrix} 8.205 - \\beta_0 \\\\ -0.157 - \\beta_1 \\end{pmatrix} = \\begin{pmatrix} -7.836 + 0.96\\beta_0 + 0.26\\beta_1 \\\\ 2.284 - 0.26\\beta_0 + 0.96\\beta_1\\end{pmatrix}$"
   ]
  },
  {
   "cell_type": "code",
   "execution_count": 1162,
   "metadata": {},
   "outputs": [
    {
     "name": "stdout",
     "output_type": "stream",
     "text": [
      "x_alpha = 4.248907630769176\n"
     ]
    },
    {
     "data": {
      "image/png": "[encoded data removed]",
      "text/plain": [
       "<Figure size 640x480 with 1 Axes>"
      ]
     },
     "metadata": {},
     "output_type": "display_data"
    }
   ],
   "source": [
    "q = 2\n",
    "x_alpha_1 = st.f.ppf(1 - alpha, q, n - r)\n",
    "print('x_alpha =', x_alpha_1)\n",
    "a = eigenvalues[0] / (q*s2*x_alpha_1)\n",
    "b = eigenvalues[1] / (q*s2*x_alpha_1)\n",
    "\n",
    "def ellipse(b1, b2):\n",
    "  return (( -7.836 + 0.96 * b1 + 0.26 * b2)**2 * a) + (( 2.284 - 0.26 * b1 + 0.96 * b2)**2 * b)\n",
    "\n",
    "x = np.linspace(6, 10.5, 200)\n",
    "y = np.linspace(-0.7, 0.4, 200)\n",
    "X_plot, Y_plot = np.meshgrid(x, y)\n",
    "\n",
    "plt.contour(X_plot, Y_plot, ellipse(X_plot, Y_plot), levels=[1], colors='blue', linewidths=2)\n",
    "plt.title(\"Эллипс\")\n",
    "plt.xlabel(\"X\")\n",
    "plt.ylabel(\"Y\")\n",
    "plt.grid()"
   ]
  },
  {
   "cell_type": "markdown",
   "metadata": {},
   "source": [
    "Полуоси эллипса:\n",
    "\n",
    "$\\large \\frac{\\lambda_1x^2}{qs^2x_{\\alpha}} + \\frac{\\lambda_2y^2}{qs^2x_{\\alpha}} \\normalsize = 1$\n",
    "\n",
    "Отсюда следует, что $a = \\large \\left(\\sqrt{\\frac{\\lambda_1}{qs^2x_{\\alpha}}}\\right)^{-1}$ - большая полуось, $b = \\large \\left(\\sqrt{\\frac{\\lambda_2}{qs^2x_{\\alpha}}}\\right)^{-1}$ - малая полуось"
   ]
  },
  {
   "cell_type": "code",
   "execution_count": 1163,
   "metadata": {},
   "outputs": [
    {
     "name": "stdout",
     "output_type": "stream",
     "text": [
      "Малая полуось а = 1.5350688399141135\n",
      "Большая полуось b = 0.144506572481617\n"
     ]
    }
   ],
   "source": [
    "a_ellipse = 1/(eigenvalues[0] / (q*s2*x_alpha_1))**0.5\n",
    "print('Малая полуось а =', a_ellipse)\n",
    "\n",
    "b_ellipse = 1/(eigenvalues[1] / (q*s2*x_alpha_1))**0.5\n",
    "print('Большая полуось b =', b_ellipse)"
   ]
  },
  {
   "cell_type": "markdown",
   "metadata": {},
   "source": [
    "#### 4.\n",
    "Сформулировать гипотезу независимости переменной $Y$ от переменной $X$. Провести проверку значимости."
   ]
  },
  {
   "cell_type": "markdown",
   "metadata": {},
   "source": [
    "Нулевая гипотеза: $H_0: \\beta_1 = 0$\n",
    "\n",
    "Альтернативная гипотеза: $H_A: \\beta_1 \\neq 0$\n",
    "\n",
    "$\\mathbb{F}$-статистика: $\\mathbb{F} =\\large \\frac{SS_н}{q} \\cdot \\frac{n - r}{SS_e} \\normalsize = \\large \\frac{\\widehat{\\psi}^{\\intercal}B^{-1}\\widehat{\\psi}}{qs^2} \\sim \\mathcal{F}_{q, n - r}$ , $B = C^{\\intercal}\\left(XX^{\\intercal}\\right)^{-1}C$\n",
    "\n",
    "Т.к. при нулевой гипотезе $\\beta_0 = 0$, то $C = \\begin{pmatrix} 0 \\\\ 1 \\end{pmatrix}$. Тогда $\\widehat{\\psi} = C^{\\intercal}\\widehat{\\beta} = \\widehat{\\beta_1}$, \\\n",
    "$\\mathbb{F} = \\large \\frac{\\widehat{\\beta_1}^2}{bqs^2}$\n",
    "\n",
    "Квантиль: \n",
    "\n",
    "$x_{\\alpha}: \\mathrm{F}(x_{\\alpha}) = 1 - \\alpha$"
   ]
  },
  {
   "cell_type": "code",
   "execution_count": 1164,
   "metadata": {},
   "outputs": [
    {
     "name": "stdout",
     "output_type": "stream",
     "text": [
      "Статистика F-критерия: 0.5711598124320613\n",
      "Табличное значение: 5.791633424880838\n"
     ]
    }
   ],
   "source": [
    "x_alpha_2 = st.f.ppf(1 - alpha, q, n - r)\n",
    "\n",
    "C = np.array([0, 1])\n",
    "b = np.dot(np.dot(np.transpose(C), XXT_inv), C)\n",
    "F = (beta_hat[1]**2) / (b*q*s2)\n",
    "print('Статистика F-критерия:', F)\n",
    "\n",
    "q, r = 1, 2\n",
    "F_q_n_r = st.f.ppf(1 - alpha, q, n - r)\n",
    "print('Табличное значение:', F_q_n_r)"
   ]
  },
  {
   "cell_type": "markdown",
   "metadata": {},
   "source": [
    "Cтатистика критерия меньше табличного значения $\\Rightarrow$ нет оснований отвергнуть данную гипотезу."
   ]
  },
  {
   "cell_type": "markdown",
   "metadata": {},
   "source": [
    "#### 5. \n",
    "Сформулировать модель, включающую дополнительный член с $X^2$.\\\n",
    "Построить МНК оценки параметров $\\beta_0$, $\\beta_1$, $\\beta_2$ в данной модели.\\\n",
    "Изобразить графически полученную регрессионную модель."
   ]
  },
  {
   "cell_type": "markdown",
   "metadata": {},
   "source": [
    "МНК оценки $\\beta_0$, $\\beta_1$, $\\beta_2$:\n",
    "\n",
    "Квадратичная регрессионная модель: $Y = \\beta_0 + \\beta_1X  + \\beta_2X^2 + \\epsilon$\n",
    "\n",
    "Решение системы нормальных уравнений в регулярном случае:\n",
    " \n",
    "$X = \\begin{pmatrix} 1 & 1  & 1 & \\cdots & 1 \\\\ x_1 & x_2 & x_3 & \\cdots & x_{50} \\\\ x_1^2 & x_2^2 & x_3^2 & \\cdots & x_{50}^2\\end{pmatrix}$\n",
    "\n",
    "$XX^{\\intercal} = \\begin{pmatrix} 1 & 1  & 1 & \\cdots & 1 \\\\ x_1 & x_2 & x_3 & \\cdots & x_{50} \\\\ x_1^2 & x_2^2 & x_3^2 & \\cdots & x_{50}^2\\end{pmatrix} \\cdot \\begin{pmatrix} 1 & x_1 & x_1^2 \\\\ 1 & x_2 & x_2^2 \\\\ 1 & x_3 & x_3^2\\\\ \\vdots & \\vdots & \\vdots \\\\ 1 & x_{50} & x_{50}^2 \\end{pmatrix} = \\begin{pmatrix}50 & 129 & 391\\\\ 129 & 391 & 1311 \\\\ 391 & 1311 & 4747 \\end{pmatrix}$\n",
    "\n",
    "Тогда, $\\widehat{\\beta} = \\left(XX^{\\intercal}\\right)^{-1}XY = \\begin{pmatrix} 4.37 \\\\ 1.76 \\\\ -0.17 \\end{pmatrix} \\rightarrow Y \\approx 4.37 + 1.76X - 0.17X^2$"
   ]
  },
  {
   "cell_type": "code",
   "execution_count": 1165,
   "metadata": {},
   "outputs": [
    {
     "name": "stdout",
     "output_type": "stream",
     "text": [
      "XX^T =\n",
      " [[   50   162   598]\n",
      " [  162   598  2376]\n",
      " [  598  2376 10042]]\n",
      "beta_0 = 7.362184494157398\n",
      "beta_1 = 0.519437789295948\n",
      "beta_2 = -0.1128062651736017\n"
     ]
    },
    {
     "data": {
      "image/png": "[encoded data removed]",
      "text/plain": [
       "<Figure size 640x480 with 1 Axes>"
      ]
     },
     "metadata": {},
     "output_type": "display_data"
    }
   ],
   "source": [
    "X_2 = [np.array([1]*n), X, [i**2 for i in X]] \n",
    "XT_2 = np.transpose(X_2)\n",
    "XXT_2 = np.dot(X_2, XT_2)\n",
    "print('XX^T =\\n', XXT_2)\n",
    "\n",
    "XXT_inv_2 = np.linalg.inv(XXT_2)\n",
    "cur_beta_2 = np.dot(XXT_inv_2, X_2)\n",
    "beta_hat_2 = np.dot(cur_beta_2, np.transpose(Y))\n",
    "print('beta_0 =', beta_hat_2[0])\n",
    "print('beta_1 =', beta_hat_2[1])\n",
    "print('beta_2 =', beta_hat_2[2])\n",
    "\n",
    "x_values = np.unique(X)\n",
    "Y_2 = beta_hat_2[0] + beta_hat_2[1] * x_values + beta_hat_2[2] * x_values**2\n",
    "\n",
    "plt.title('Регрессионная модель')\n",
    "plt.xlabel('X')\n",
    "plt.ylabel('Y')\n",
    "plt.grid()\n",
    "plt.plot(X, Y, 'bo')\n",
    "plt.plot(x_values, Y_2,'r-');"
   ]
  },
  {
   "cell_type": "markdown",
   "metadata": {},
   "source": [
    "#### 6.\n",
    "Построить несмещённую оценку дисперсии. Провести исследование нормальности ошибок как в пункте 2.\n",
    "\n",
    "$$\\large s^2 = \\frac{RSS(\\widehat \\beta)}{n - r} = \\frac{1}{n - r} \\cdot \\sum \\limits_{i = 1}^n\\left(Y_i - \\sum \\limits_{j = 1}^m x_{ij} \\widehat{\\beta_j} \\right)^2 = \\frac{1}{n - r} \\cdot \\sum \\limits_{i = 1}^n\\left(Y_i - \\widehat{\\beta_0} - \\widehat{\\beta_1}X_i - \\widehat{\\beta_2}X_i^2\\right)^2$$\n",
    ", где $r = 3$ - ранг матрицы $X$"
   ]
  },
  {
   "cell_type": "code",
   "execution_count": 1166,
   "metadata": {},
   "outputs": [
    {
     "name": "stdout",
     "output_type": "stream",
     "text": [
      "Несмещённая оценка дисперсии s^2 = 1.5414366557142993\n"
     ]
    }
   ],
   "source": [
    "sum2_2 = np.sum((Y - beta_hat_2[0] - beta_hat_2[1] * np.array(X) - beta_hat_2[2]*np.array(X2))**2)\n",
    "s2_2 = sum2_2 / (n - len(beta_hat_2))\n",
    "print('Несмещённая оценка дисперсии s^2 =', s2_2)"
   ]
  },
  {
   "cell_type": "code",
   "execution_count": 1167,
   "metadata": {},
   "outputs": [
    {
     "data": {
      "image/png": "[encoded data removed]",
      "text/plain": [
       "<Figure size 640x480 with 1 Axes>"
      ]
     },
     "metadata": {},
     "output_type": "display_data"
    }
   ],
   "source": [
    "h = 1\n",
    "Y_2 = beta_hat_2[0] + beta_hat_2[1] * np.array(X) + beta_hat_2[2] * np.array(X)**2\n",
    "errors_2 = Y - Y_2\n",
    "errors_2 = sorted(errors_2)\n",
    "bins_2 = np.arange(min(errors_2), max(errors_2) + h, h)\n",
    "plt.xticks(bins_2)\n",
    "\n",
    "y_2, edges_2, _= plt.hist(errors_2, edgecolor='black', bins=bins_2, weights=np.ones_like(errors_2) / n) \n",
    "plt.grid()\n",
    "plt.title('Гистограмма ошибок')\n",
    "plt.xlabel('Ошибки')\n",
    "plt.ylabel('Частота');"
   ]
  },
  {
   "cell_type": "markdown",
   "metadata": {},
   "source": [
    "Проверка гипотезы нормальности:\n",
    "\n",
    "Основная гипотеза $H_0$: $\\vec{\\epsilon} \\sim \\mathcal{N}(0, \\sigma^2)$\n",
    "\n",
    "Разобьём числовую прямую на отрезки $G_1 = \\left(- \\infty, -4.20\\right],  G_2 = \\left(-4.20, -2.7\\right],  G_3 = \\left(-2.7, 1.69\\right], G_4 = \\left(1.69, 3.86 \\right], G_5 = \\left(3.86, 5.4 \\right]G_6 = \\left(5.4, + \\infty\\right)$"
   ]
  },
  {
   "cell_type": "code",
   "execution_count": 1168,
   "metadata": {},
   "outputs": [
    {
     "name": "stdout",
     "output_type": "stream",
     "text": [
      "P1 =  0.009645663535197016 , n*P1 =  0.4822831767598508\n",
      "P2 =  0.052819271136278836 , n*P2 =  2.640963556813942\n",
      "P3 =  0.17054862792807263 , n*P3 =  8.527431396403632\n",
      "P4 =  0.29747139644913884 , n*P4 =  14.873569822456941\n",
      "P5 =  0.28060942188350513 , n*P5 =  14.030471094175256\n",
      "P6 =  0.18890561906780762 , n*P5 =  9.44528095339038\n",
      "n1 =  4 , n2 =  8 , n3 =  14 , n4 =  15 n5 =  6 n6 =  3\n",
      "Статистика критерия:  0.6006982781354828\n",
      "Табличное значение: 9.837409311192593\n",
      "Гипотеза принимается\n"
     ]
    }
   ],
   "source": [
    "a = 0\n",
    "sigma_2 = s2_2**0.5\n",
    "\n",
    "edges = [-1.905, -0.905, 0.095, 1.095, 2.095, 3.095] #интервалы\n",
    "\n",
    "#подсчёт вероятностей\n",
    "p1_2 = st.norm.cdf(edges_2[0], a, sigma_2)\n",
    "p2_2 = st.norm.cdf(edges_2[1], a, sigma_2) - st.norm.cdf(edges_2[0], a, sigma_2)\n",
    "p3_2 = st.norm.cdf(edges_2[2], a, sigma_2) - st.norm.cdf(edges_2[1], a, sigma_2)\n",
    "p4_2 = st.norm.cdf(edges_2[3], a, sigma_2) - st.norm.cdf(edges_2[2], a, sigma_2)\n",
    "p5_2 = st.norm.cdf(edges_2[4], a, sigma_2) - st.norm.cdf(edges_2[3], a, sigma_2)\n",
    "p6_2 = 1 - p1_2 - p2_2 - p3_2 - p4_2 - p5_2\n",
    "print('P1 = ', p1_2, ', n*P1 = ', n * p1_2)\n",
    "print('P2 = ', p2_2, ', n*P2 = ', n * p2_2)\n",
    "print('P3 = ', p3_2, ', n*P3 = ', n * p3_2)\n",
    "print('P4 = ', p4_2, ', n*P4 = ', n * p4_2)\n",
    "print('P5 = ', p5_2, ', n*P5 = ', n * p5_2)\n",
    "print('P6 = ', p6_2, ', n*P5 = ', n * p6_2)\n",
    "\n",
    "#количество значений, попавших в интервал\n",
    "groups = [[],[],[],[],[],[]]\n",
    "cur_edge_index = 0\n",
    "cur_group = 0\n",
    "\n",
    "for item in errors_2:\n",
    "    cur_edge = edges[cur_edge_index]\n",
    "    if item <= cur_edge:\n",
    "        groups[cur_group].append(item)\n",
    "    else:\n",
    "        cur_group += 1\n",
    "        groups[cur_group].append(item)\n",
    "        cur_edge_index += 1\n",
    "        \n",
    "n1_2, n2_2, n3_2, n4_2, n5_2, n6_2 = len(groups[0]), len(groups[1]), len(groups[2]), len(groups[3]), len(groups[4]), len(groups[5])\n",
    "#print(groups)\n",
    "print('n1 = ', n1_2, ', n2 = ', n2_2, ', n3 = ', n3_2, ', n4 = ', n4_2, 'n5 = ', n5_2, 'n6 = ', n6_2)\n",
    "\n",
    "chi = ((n1 - n*p1)**2) / (n*p1) + ((n2 - n*p2)**2) / (n*p2) + ((n3 - n*p3)**2) / (n*p3) + ((n4 - n*p4)**2) / (n*p4) + ((n5 - n*p5)**2) / (n*p5)\n",
    "print(\"Статистика критерия: \", chi)\n",
    "print('Табличное значение:', st.chi2.ppf(1 - alpha, 3))\n",
    "\n",
    "if chi > st.chi2.ppf(1 - alpha, 3):\n",
    "    print('Гипотеза отвергается')\n",
    "else:\n",
    "    print('Гипотеза принимается')"
   ]
  },
  {
   "cell_type": "markdown",
   "metadata": {},
   "source": [
    "Так как $\\chi^2 < \\chi_{3, 0.02}^2 \\Rightarrow$ нет оснований отвергнуть гипотезу."
   ]
  },
  {
   "cell_type": "markdown",
   "metadata": {},
   "source": [
    "Оценка расстояния до класса нормальных распределений по Колмогорову:\n",
    "Выборочный критерий Колмогорова $\\eta = \\sqrt{n}D_n$"
   ]
  },
  {
   "cell_type": "code",
   "execution_count": 1169,
   "metadata": {},
   "outputs": [
    {
     "name": "stdout",
     "output_type": "stream",
     "text": [
      "Критерий Колмогорова:  1.2695745437026127\n"
     ]
    }
   ],
   "source": [
    "sigma = s2_2 ** 2\n",
    "\n",
    "cdf = lambda x: st.norm.cdf(x, loc = 0, scale = sigma)\n",
    "Dn, _ = st.kstest(errors_2, cdf)\n",
    "eta = n**0.5 * Dn\n",
    "print('Критерий Колмогорова: ', eta)"
   ]
  },
  {
   "cell_type": "markdown",
   "metadata": {},
   "source": [
    "Уровень значимости $\\alpha = 0.02$. Вычислим квантиль Колмогорова $d_{1 - \\alpha}$,\\\n",
    "чтобы построить критическую область $V_k = (d_{1 - \\alpha},+ \\infty)$"
   ]
  },
  {
   "cell_type": "code",
   "execution_count": 1170,
   "metadata": {},
   "outputs": [
    {
     "name": "stdout",
     "output_type": "stream",
     "text": [
      "Квантиль:  1.5174269646320033\n"
     ]
    }
   ],
   "source": [
    "d = st.kstwobign.ppf(1 - alpha)\n",
    "print('Квантиль: ', d)"
   ]
  },
  {
   "cell_type": "markdown",
   "metadata": {},
   "source": [
    "$V_k = (1.52, + \\infty)$\\\n",
    "$\\eta = 1.27$\\\n",
    "$\\eta \\notin V_k \\Rightarrow$ нет оснований отвергнуть гипотезу."
   ]
  },
  {
   "cell_type": "code",
   "execution_count": 1171,
   "metadata": {},
   "outputs": [
    {
     "data": {
      "image/png": "[encoded data removed]",
      "text/plain": [
       "<Figure size 640x480 with 1 Axes>"
      ]
     },
     "metadata": {},
     "output_type": "display_data"
    }
   ],
   "source": [
    "y_2, edges_2, _= plt.hist(errors_2, edgecolor='black', bins=bins_2, weights=np.ones_like(errors_2) / n) \n",
    "values_2 = np.linspace(min(errors_2), max(errors_2), 100)\n",
    "plt.plot(values_2, st.norm.pdf(values_2, np.mean(errors_2), np.std(errors_2)), color='red')\n",
    "plt.grid()\n",
    "plt.xticks(bins_2)\n",
    "plt.title('Гистограмма ошибок')\n",
    "plt.xlabel('Ошибки')\n",
    "plt.ylabel('Частота');"
   ]
  },
  {
   "cell_type": "markdown",
   "metadata": {},
   "source": [
    "На гистограмме видно, что распределение ошибок схоже с нормальным."
   ]
  },
  {
   "cell_type": "markdown",
   "metadata": {},
   "source": [
    "#### 7.\n",
    "В предположении нормальности ошибок построить доверительные интервалы для параметров $\\beta_0$, $\\beta_1$, $\\beta_2$ уровня доверия $1 - \\alpha$. Написать уравнение доверительного эллипсоида уровня доверия $1 - \\alpha$."
   ]
  },
  {
   "cell_type": "markdown",
   "metadata": {},
   "source": [
    "Доверительный интервал:\n",
    "\n",
    "$\\beta_0$: $C = \\begin{pmatrix} 1 \\\\ 0 \\\\ 0\\end{pmatrix}$\n",
    "\n",
    "$\\beta_1$: $C = \\begin{pmatrix} 0 \\\\ 1 \\\\ 0\\end{pmatrix}$\n",
    "\n",
    "$\\beta_2$: $C = \\begin{pmatrix} 0 \\\\ 0 \\\\ 1\\end{pmatrix}$\n",
    "\n",
    "Элемент дисперсии оценки: $b_{\\psi} =  C^{\\intercal} \\left(XX^{\\intercal}\\right)^{-1}C$\n",
    "\n",
    "$\\Large \\frac{\\widehat{\\psi} - \\psi}{s\\sqrt{b}} \\normalsize \\sim S_{n-r}$ , где $r = 3$\n",
    "\n",
    "Доверительный интервал уровня доверия $1 - \\alpha$:\n",
    "\n",
    "$$\\left[\\widehat{\\psi} - x_{\\alpha}s\\sqrt{b}, \\widehat{\\psi} + x_{\\alpha}s\\sqrt{b}\\right] \\ni \\psi$$\n",
    "где $x_{\\alpha}: \\mathrm{S}_{n-r}(x_{\\alpha}) = 1 - \\frac{\\alpha}{2}$"
   ]
  },
  {
   "cell_type": "code",
   "execution_count": 1172,
   "metadata": {},
   "outputs": [
    {
     "name": "stdout",
     "output_type": "stream",
     "text": [
      "x_alpha = 2.408345050443425\n",
      "Д.И. для beta_0 [5.524435102870523, 9.199933885444272]\n",
      "Д.И. для beta_1 [-0.6452776565016772, 1.6841532350935733]\n",
      "Д.И. для beta_2 [-0.29807196271889136, 0.07245943237168798]\n"
     ]
    }
   ],
   "source": [
    "alpha = 0.02\n",
    "r = 3\n",
    "df = n - r\n",
    "x_alpha = st.t.ppf(1 - alpha/2, df)\n",
    "print('x_alpha =', x_alpha)\n",
    "\n",
    "CT_0_2 = np.array([1.0, 0.0, 0.0])\n",
    "b_0 = np.dot(np.dot(CT_0_2, XXT_inv_2), np.transpose(CT_0_2))\n",
    "psi_hat_2 = np.dot(CT_0_2, beta_hat_2)\n",
    "left_0_2 = psi_hat_2 - x_alpha * (s2_2 * b_0)**0.5\n",
    "right_0_2 = psi_hat_2 + x_alpha * (s2_2 * b_0)**0.5\n",
    "print('Д.И. для beta_0', [left_0_2, right_0_2])\n",
    "\n",
    "CT_1_2 = np.array([0.0, 1.0, 0.0])\n",
    "b_1 = np.dot(np.dot(CT_1_2, XXT_inv_2), np.transpose(CT_1_2))\n",
    "psi_hat_2 = np.dot(CT_1_2, beta_hat_2)\n",
    "left_1_2 = psi_hat_2 - x_alpha * (s2_2 * b_1)**0.5\n",
    "right_1_2 = psi_hat_2 + x_alpha * (s2_2 * b_1)**0.5\n",
    "print('Д.И. для beta_1', [left_1_2, right_1_2])\n",
    "\n",
    "CT_2_2 = np.array([0.0, 0.0, 1.0])\n",
    "b_2 = np.dot(np.dot(CT_2_2, XXT_inv_2), np.transpose(CT_2_2))\n",
    "psi_hat_2 = np.dot(CT_2_2, beta_hat_2)\n",
    "left_2_2 = psi_hat_2 - x_alpha * (s2_2 * b_2)**0.5\n",
    "right_2_2 = psi_hat_2 + x_alpha * (s2_2 * b_2)**0.5\n",
    "print('Д.И. для beta_2', [left_2_2, right_2_2])"
   ]
  },
  {
   "cell_type": "markdown",
   "metadata": {},
   "source": [
    "Доверительный эллипсоид:\n",
    "\n",
    "$A_{\\alpha} = \\left\\{\\vec{x} : \\left(\\vec{x} - \\widehat{\\psi}\\right)^{\\intercal}B^{-1} \\left(\\vec{x} - \\widehat{\\psi}\\right) \\leq qs^2x_{\\alpha}\\right\\}$ , где $x_{\\alpha} : \\mathrm{F}_{q, n-r} = 1 - \\alpha$, $B = C^{\\intercal}\\left(XX^{\\intercal}\\right)^{-1}C$\n",
    "\n",
    "$C = \\begin{pmatrix}1 & 0 & 0 \\\\ 0 & 1 & 0 \\\\ 0 & 0 & 1\\end{pmatrix}$\n",
    "\n",
    "Тогда, $\\begin{pmatrix} x \\\\ y \\\\ z \\end{pmatrix} = P\\left(\\widehat{\\psi} - \\psi\\right)$,\\\n",
    "где $P$ - матрица собственных векторов матрицы $XX^{\\intercal}$.\n",
    "\n",
    "Тогда, уравнение доверительного эллипсоида выглядит так:\n",
    "\n",
    "$\\left(\\widehat{\\psi} - \\psi\\right)^{\\intercal}B^{-1}\\left(\\widehat{\\psi} - \\psi\\right) = \\lambda_1x^2 + \\lambda_2y^2 + \\lambda_3z^2 \\leq qs^2x_{\\alpha}$\n",
    "\n",
    "$\\Large \\frac{\\lambda_1x^2}{qs^2x_{\\alpha}} + \\frac{\\lambda_2y^2}{qs^2x_{\\alpha}} + \\frac{\\lambda_3z^2}{qs^2x_{\\alpha}}\\normalsize \\leq 1$,\\\n",
    "где $q = 3$ - размер модели; $\\lambda_1$ , $\\lambda_2$ , $\\lambda_3$ - собственные числа\n",
    "\n",
    "Уравнение элипсоида:\n",
    "\n",
    "$$638.2x^2 + 0.12y^2+2.7z^2 \\leq 1$$"
   ]
  },
  {
   "cell_type": "code",
   "execution_count": 1173,
   "metadata": {},
   "outputs": [
    {
     "name": "stdout",
     "output_type": "stream",
     "text": [
      "x_alpha = 3.6061455215960643\n",
      "lambda_1 = 10642.28444429738\n",
      "lambda_2 = 1.9555001396264502\n",
      "lambda_3 = 45.76005556298997\n",
      "x_coeff = 638.1821858554202, y_coeff = 0.11726479968463012, z_coeff = 2.7440774052701484\n"
     ]
    }
   ],
   "source": [
    "q, r = 3, 3\n",
    "x_alpha_2 = st.f.ppf(1 - alpha, q, n - r)\n",
    "print('x_alpha =', x_alpha_2)\n",
    "\n",
    "eigvals_2, eigvecs_2 = np.linalg.eig(np.array(XXT_2))\n",
    "print('lambda_1 =', eigvals_2[0])\n",
    "print('lambda_2 =', eigvals_2[1])\n",
    "print('lambda_3 =', eigvals_2[2])\n",
    "\n",
    "x_coeff = eigvals_2[0] / (q*s2_2*x_alpha_2)\n",
    "y_coeff = eigvals_2[1] / (q*s2_2*x_alpha_2)\n",
    "z_coeff = eigvals_2[2] / (q*s2_2*x_alpha_2)\n",
    "print(f'x_coeff = {x_coeff}, y_coeff = {y_coeff}, z_coeff = {z_coeff}')\n"
   ]
  },
  {
   "cell_type": "markdown",
   "metadata": {},
   "source": [
    "#### 8.\n",
    "Сформулировать гипотезу линейной регрессионной зависимости переменной $Y$ от переменной $X$ и проверить её значимость на уровне $\\alpha = 0.02$."
   ]
  },
  {
   "cell_type": "markdown",
   "metadata": {},
   "source": [
    "Нулевая гипотеза: $H_0: \\beta_2 = 0$\n",
    "\n",
    "Альтернативная гипотеза: $H_A: \\beta_2 \\neq 0$\n",
    "\n",
    "$\\mathbb{F}$-статистика: $\\mathbb{F} =\\large \\frac{SS_н}{q} \\cdot \\frac{n - r}{SS_e} \\normalsize = \\large \\frac{\\widehat{\\psi}^{\\intercal}B^{-1}\\widehat{\\psi}}{qs^2} \\sim \\mathcal{F}_{q, n - r}$ , $B = C^{\\intercal}\\left(XX^{\\intercal}\\right)^{-1}C$\n",
    "\n",
    "Т.к. при нулевой гипотезе $\\beta_0 = 0$ и $\\beta_1 = 0$, то $C = \\begin{pmatrix} 0 \\\\ 0 \\\\ 1 \\end{pmatrix}$. Тогда $\\widehat{\\psi} = C^{\\intercal}\\widehat{\\beta} = \\widehat{\\beta_2}$, значит $\\mathbb{F} = \\large \\frac{\\widehat{\\beta_2}^2}{bqs^2}$ , где $q = 1$\n",
    "\n",
    "Квантиль: \n",
    "\n",
    "$x_{\\alpha}: \\mathrm{F}(x_{\\alpha}) = 1 - \\alpha$\n",
    "\n",
    "Cтатистика критерия меньше табличного значения $\\Rightarrow$ нет оснований отвергнуть данную гипотезу."
   ]
  },
  {
   "cell_type": "code",
   "execution_count": 1174,
   "metadata": {},
   "outputs": [
    {
     "name": "stdout",
     "output_type": "stream",
     "text": [
      "Статистика F-критерия: 2.1503731504845516\n",
      "Табличное значение: 5.800125881995347\n"
     ]
    }
   ],
   "source": [
    "df = n - r\n",
    "q = 1\n",
    "\n",
    "C = np.array([0, 0, 1])\n",
    "b_2 = np.matmul(np.matmul(np.transpose(C), XXT_inv_2), C)\n",
    "F_2 = (beta_hat_2[2]**2) / (b_2 * q * s2_2)\n",
    "print('Статистика F-критерия:', F_2)\n",
    "\n",
    "F_q_n_r_2 = st.f.ppf(1 - alpha, q, df)\n",
    "print('Табличное значение:', F_q_n_r_2)"
   ]
  },
  {
   "cell_type": "markdown",
   "metadata": {},
   "source": [
    "## Выводы\n",
    "\n",
    "В ходе данной лабораторной работы были изучены основные теоретические положения,\\\n",
    "связанные с линейной регрессией и методом наименьших квадратов (МНК).\\\n",
    "МНК используется для оценки коэффициентов регрессии, минимизируя сумму квадратов остатков.\n",
    "\n",
    "Был исследован регрессионный анализ, включая построение модели, оценку параметров и проверку их значимости.\\\n",
    "Проведен анализ нормальности ошибок, построение доверительных интервалов, эллипса, элипсоида.\\\n",
    "Оценено расстояние до нормального распределения с использованием критерия Колмогорова,\\\n",
    "проверена гипотеза о независимости переменных Y и X."
   ]
  }
 ],
 "metadata": {
  "kernelspec": {
   "display_name": "Python 3",
   "language": "python",
   "name": "python3"
  },
  "language_info": {
   "codemirror_mode": {
    "name": "ipython",
    "version": 3
   },
   "file_extension": ".py",
   "mimetype": "text/x-python",
   "name": "python",
   "nbconvert_exporter": "python",
   "pygments_lexer": "ipython3",
   "version": "3.11.4"
  }
 },
 "nbformat": 4,
 "nbformat_minor": 4
}
