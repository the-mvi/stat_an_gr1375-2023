{
 "cells": [
  {
   "cell_type": "markdown",
   "metadata": {},
   "source": [
    "# Практическая работа №2: Классические методы математической статистики\n",
    "Выполнил студент гр. 1375 Вавакин Артем. Вариант №6"
   ]
  },
  {
   "cell_type": "markdown",
   "metadata": {},
   "source": [
    "## Цель работы\n",
    "Научится применять методы математической статистики для решения задач статистического анализа; сформировать навыки реализации методов с помощью прикладных программных пакетов."
   ]
  },
  {
   "cell_type": "markdown",
   "metadata": {},
   "source": [
    "## Основные теоретические положения\n",
    "\n",
    "Выборочное среднее:\n",
    "$$\\overline{X} =\\frac{1}{n}\\sum_{i=1}^{n}x_i$$\n",
    "\n",
    "Выборочная дисперсия и выборочное СКО:\n",
    "$$S^2 =\\frac{1}{n}\\sum_{i=1}^{n}\\left(x_i-\\overline{X}\\right)$$ \n",
    "$$S=\\sqrt{S^2}$$\n",
    "\n",
    "Выборочная медиана:\n",
    "\n",
    "$$z_{n, \\frac{1}{2}} = \\begin{cases} X_{\\lfloor \\frac{n}{2} \\rfloor + 1} , np \\in \\mathbb{Z} \\\\ \\\\ \\left[X_{\\left(\\frac{n}{2}\\right)}, X_{\\left(\\frac{n}{2} + 1\\right)}\\right), np \\notin \\mathbb{Z} \\end{cases}$$\n",
    "\n",
    "\n",
    "Выборочный коэффициент асимметрии: \n",
    "$$\\widehat{\\mathrm{Skew}}X=\\frac{1}{n}\\frac{\\sum \\limits_{i=1}^{n}\\left(x_i-\\overline{X}\\right)^3}{S^3}$$\n",
    "\n",
    "Выборочный коэффициент эксцесса:\n",
    "$$\\widehat{\\mathrm{Kurt}}X=\\frac{1}{n}\\frac{\\sum \\limits_{i=1}^{n}\\left(x_i-\\overline{X}\\right)^4}{S^4}-3$$"
   ]
  },
  {
   "cell_type": "markdown",
   "metadata": {},
   "source": [
    "Функция правдоподобия $\\mathrm{L} : \\mathcal{X} \\times \\Theta \\rightarrow (0, +\\infty):$\n",
    "\n",
    " $$\\mathrm{L}\\left(\\vec{X}, \\theta \\right) = \\prod \\limits_{i = 1}^n p_{\\theta}(x_i)$$\n",
    "где $p_{\\theta}(x)$ - плотность распределения <br>\n",
    "\n",
    "Оценка $\\widehat{\\theta}\\left(\\vec{X}\\right)$, максимизирующая функцию правдоподобия $\\mathrm{L}\\left(\\vec{X}, \\theta \\right)$ по $\\theta$ при каждом фиксированном $x$:\n",
    "$$\\mathrm{L}\\left(\\vec{X}, \\widehat{\\theta}\\left(\\vec{X}\\right)\\right) \\geq \\mathrm{L}\\left(\\vec{X}, \\widetilde{\\theta}\\left(\\vec{X}\\right)\\right), \\forall x \\in \\mathcal{X}, \\forall  \\widetilde{\\theta}\\left(\\vec{X}\\right)$$\n",
    "называется оценкой максимального прадоподобия (ОМП)\n",
    "\n",
    "\n",
    "Пусть $X_1, \\ldots, X_n$ - выборка из распределения $p_{\\theta}$ ; $\\vec{\\theta} = \\left(\\theta_1, \\ldots, \\theta_d \\right)$ ; существует $\\mu_k\\left(\\theta\\right) = \\mathbb{E}_{\\theta}x_1^k, k = 1, \\ldots, d$\n",
    "\n",
    "Если $\\exists!$ решение $\\widetilde{\\theta}\\left(\\vec{X}\\right)$ системы уравнений\n",
    "$$\\widehat{\\mu_k}\\left(\\widetilde{\\theta}\\right) = \\mu_k\\left(\\widetilde{\\theta}\\right), k = \\overline{1, d}$$\n",
    "где $\\widehat{\\mu_k}\\left(\\widetilde{\\theta}\\right) = \\frac{1}{n}\\sum \\limits_{i = 1}^n x_i^k$ - выборочный момент k-ого порядка, то $\\widetilde{\\theta}\\left(\\vec{X}\\right)$ называется оценкой по методу моментов (ОММ)\n",
    "\n",
    "Оценка $\\widehat{\\theta}\\left(X\\right)$ параметра $\\theta$ называется несмещённой, если при каждом значении параметра $\\theta \\in \\Theta$\n",
    "$$\\mathbb{E}_{\\theta}\\widehat{\\theta}\\left(X\\right) = \\theta$$"
   ]
  },
  {
   "cell_type": "markdown",
   "metadata": {},
   "source": [
    "Статистика $\\widehat{\\Theta} : \\mathcal{X} \\rightarrow \\mathcal{Y}$ , удовлетворяющая условию:\n",
    "$$\\mathbb{P}_{\\theta}\\left(\\widehat{\\Theta} \\ni \\theta\\right) \\geq 1 - \\alpha$$ \n",
    "называется доверительной оценкой парамаетра $\\theta$ уровня доверия $1 - \\alpha$.\n",
    "\n",
    "Статистика $\\widehat{\\Theta} : \\mathcal{X} \\rightarrow \\mathbb{R}^2$, удовлетворяющая условию\n",
    "$$\\mathbb{P}_{\\theta}\\left(\\left[T_1\\left(\\vec{X}\\right), T_2\\left(\\vec{X}\\right)\\right] \\ni \\theta\\right) \\geq 1 - \\alpha, \\forall \\theta \\in \\Theta$$\n",
    "назвается доверительным интервалом параметра $\\theta$ уровня доверия $1 - \\alpha$.\n",
    "\n",
    "Статистика $\\widehat{\\Theta_n}$ вида $\\widehat{\\Theta_n} = \\left[T_{1n}\\left(\\vec{X}\\right), T_{2n}\\left(\\vec{X}\\right)\\right]$ (определённая при каждом $n \\in \\mathbb{N}$), удовлетворяющая условию\n",
    "$$\\lim _{n \\to \\infty } \\mathbb{P}_{\\theta} \\left(\\left[T_{1n}\\left(\\vec{X}\\right), T_{2n}\\left(\\vec{X}\\right)\\right] \\ni \\theta \\right) \\geq 1 - \\alpha, \\forall \\theta \\ni \\Theta$$\n",
    "называется асимптотическим доверительным интервалом параметра $\\theta$ уровня доверия $1 - \\alpha$."
   ]
  },
  {
   "cell_type": "markdown",
   "metadata": {},
   "source": [
    "- Простая гипотеза - одноточечная гипотеза, определяющая точное значение параметра:\n",
    "$$H: \\theta = \\theta^*$$\n",
    "\n",
    "- Сложная гипотеза - гипотеза, состоящая из конечного или бесконечного числа простых гипотез.\n",
    "\n",
    "- Доверительная область: $\\{x \\in \\mathcal{X}| \\phi\\left(x\\right) = 0\\}$\n",
    "\n",
    "- Критическая область: $\\{x \\in \\mathcal{X}| \\phi\\left(x\\right) = 1\\}$ \n",
    "\n",
    "- Область сомнения: $\\{x \\in \\mathcal{X}| \\phi(x) \\in (0, 1)\\}$\n",
    "\n",
    "- Нерандомизированный критерий, если результаты наблюдений одзнозначно определяют решение:\n",
    "$$\\phi: \\mathcal{X} \\rightarrow \\{0,1\\}$$\n",
    "\n",
    "- Статистика отношения правдоподобия: $\\mathrm{LR}\\left(X, \\theta_1, \\theta_0\\right) = \\frac{\\mathrm{L}\\left(X, \\theta_1\\right)}{\\mathrm{L}\\left(X, \\theta_0\\right)}$\n",
    "\n",
    "\n",
    "Лемма Неймана-Пирсона: $\\exists$ более мощный критерий уровня значимости $\\alpha$ вида:\n",
    "$$\\phi(x) =\\left\\{\\begin{array}{l} 1, \\mathrm{LR} > c \\\\ \\mathrm{LR} = c  \\\\ 0, \\mathrm{LR} < c \\\\ \\end{array}\\right.$$\n",
    "где константа $c$ и вероятность $p \\in [0,1]$ определяются из уравнения: $\\mathbb{E}_{\\theta_0}\\phi(x) = \\mathbb{P}_{\\theta_0}\\left(\\mathrm{LR}(x)>c\\right) + p \\cdot \\mathbb{P}_{\\theta_0}\\left(\\mathrm{LR}(x)=c\\right) = \\alpha$"
   ]
  },
  {
   "cell_type": "markdown",
   "metadata": {},
   "source": [
    "## Постановка задачи\n",
    "Для полученных в результате эксперимента наборов данных выполнить статистическую обработку. Полученные результаты содержательно проинтерпретировать."
   ]
  },
  {
   "cell_type": "markdown",
   "metadata": {},
   "source": [
    "## Выполнение работы"
   ]
  },
  {
   "cell_type": "markdown",
   "metadata": {},
   "source": [
    "#### 1.a) \n",
    "Построить вариационный ряд, эмпирическую функцию распределения и гистограмму частот."
   ]
  },
  {
   "cell_type": "code",
   "execution_count": 739,
   "metadata": {},
   "outputs": [
    {
     "name": "stdout",
     "output_type": "stream",
     "text": [
      "Вариационный ряд:  0,0,0,0,0,0,0,0,0,0,0,0,0,0,0,0,0,0,0,0,0,0,1,1,1,1,1,1,1,1,1,1,1,1,1,1,1,1,1,1,1,1,1,1,2,2,2,2,2,3\n"
     ]
    }
   ],
   "source": [
    "import matplotlib.pyplot as plt\n",
    "import numpy as np\n",
    "import seaborn as sns\n",
    "import math\n",
    "from scipy import stats as st\n",
    "from IPython.display import Markdown\n",
    "\n",
    "src_data = \"0 0 0 0 0 1 0 1 0 0 0 0 1 2 1 0 1 1 2 0 0 0 1 0 1 \" \\\n",
    "           \"0 2 1 1 2 1 0 1 1 1 0 1 1 1 0 1 3 0 1 1 0 1 1 2 0 \"\n",
    "\n",
    "data_1 = src_data.split()\n",
    "data_1.sort()\n",
    "n = len(data_1)\n",
    "\n",
    "print(\"Вариационный ряд: \", ','.join(data_1))\n",
    "data_1 = [int(i) for i in data_1]"
   ]
  },
  {
   "cell_type": "markdown",
   "metadata": {},
   "source": [
    "Вариационный ряд:\n",
    " $$\\vec{X}^\\prime = \\left(0,0,0,0,0,0,0,0,0,0,0,0,0,0,0,0,0,0,0,0,0,0,1,1,1,1,1,1,1,1,1,1,1,1,1,1,1,1,1,1,1,1,1,1,2,2,2,2,2,3 \\right)$$"
   ]
  },
  {
   "cell_type": "code",
   "execution_count": 740,
   "metadata": {},
   "outputs": [
    {
     "data": {
      "image/png": "[encoded data removed]",
      "text/plain": [
       "<Figure size 640x480 with 1 Axes>"
      ]
     },
     "metadata": {},
     "output_type": "display_data"
    }
   ],
   "source": [
    "sns.ecdfplot(data_1) #построение эмпирической функции распределения\n",
    "\n",
    "plt.title(\"Эмпирическая функция распределения\")\n",
    "plt.xlabel(\"x\")\n",
    "plt.ylabel(\"F(x)\")\n",
    "plt.show()"
   ]
  },
  {
   "cell_type": "code",
   "execution_count": 741,
   "metadata": {},
   "outputs": [
    {
     "data": {
      "image/png": "[encoded data removed]",
      "text/plain": [
       "<Figure size 640x480 with 1 Axes>"
      ]
     },
     "metadata": {},
     "output_type": "display_data"
    }
   ],
   "source": [
    "#гистограмма частот\n",
    "\n",
    "plt.hist(data_1, edgecolor='black', bins=4, weights=np.ones_like(data_1)/n,\n",
    "                range=(min(data_1), max(data_1) + 1))\n",
    "plt.title('Гистограмма частот');"
   ]
  },
  {
   "cell_type": "markdown",
   "metadata": {},
   "source": [
    "#### 1.b) \n",
    "Вычислить выборочные аналоги следующих числовых характеристик: (i)математическое ожидание, (ii)дисперсия, (iii)медианы, (iv)асимметрии, (v)эксцесса (vi) вероятности $\\mathbb{P}\\left(X \\in \\left[a, b\\right]\\right)$, (a = 0.00; b = 1.37)"
   ]
  },
  {
   "cell_type": "code",
   "execution_count": 742,
   "metadata": {},
   "outputs": [
    {
     "data": {
      "text/markdown": [
       "Выборочное среднее: $\\overline{X} = 0.7$<br>        Выборочная дисперсия: $S^2 = 0.53$<br>        Выборочное СКО: $S = 0.728$<br>        Выборочная медиана: $z_{50,\\frac{1}{2}} = 1.0$<br>        Выборочный коэф. асимметрии: $\\widehat{\\mathrm{Skew}}X = 0.84$<br>        Выборочный коэф. эксцесса: $\\widehat{\\mathrm{Kurt}}X = 0.398$ <br>        Выборочный аналог $\\mathbb{P}\\left(X \\in \\left[0.00, 1.37\\right]        \\right) = \\mathrm{F}(1.37) - \\mathrm{F}(0)$ = 0.88,<br>        где $\\mathrm{F}(x)$ - эмпирическая функция распределения"
      ],
      "text/plain": [
       "<IPython.core.display.Markdown object>"
      ]
     },
     "execution_count": 742,
     "metadata": {},
     "output_type": "execute_result"
    }
   ],
   "source": [
    "def F(x): #эмпирическая функция распределения P(X < x)\n",
    "    sum_i = 0\n",
    "    for item in data_1:\n",
    "        if item < x:\n",
    "            sum_i += 1\n",
    "    return sum_i/n\n",
    "\n",
    "mean = np.mean(data_1)\n",
    "variance = np.var(data_1)\n",
    "deviation = round(np.std(data_1), 3)\n",
    "median_ = np.median(data_1)\n",
    "skew_ = round(st.skew(data_1), 3)\n",
    "kurt_ = round(st.kurtosis(data_1), 3)\n",
    "prob = F(1.37) - F(0.00)\n",
    "\n",
    "Markdown(f\"Выборочное среднее: $\\\\overline{{X}} = {mean}$<br>\\\n",
    "        Выборочная дисперсия: $S^2 = {variance}$<br>\\\n",
    "        Выборочное СКО: $S = {deviation}$<br>\\\n",
    "        Выборочная медиана: $z_{{50,\\\\frac{{1}}{{2}}}} = {median_}$<br>\\\n",
    "        Выборочный коэф. асимметрии: $\\\\widehat{{\\\\mathrm{{Skew}}}}X = {skew_}$<br>\\\n",
    "        Выборочный коэф. эксцесса: $\\\\widehat{{\\\\mathrm{{Kurt}}}}X = {kurt_}$ <br>\\\n",
    "        Выборочный аналог $\\\\mathbb{{P}}\\\\left(X \\\\in \\\\left[0.00, 1.37\\\\right]\\\n",
    "        \\\\right) = \\\\mathrm{{F}}(1.37) - \\\\mathrm{{F}}(0)$ = {prob},<br>\\\n",
    "        где $\\\\mathrm{{F}}(x)$ - эмпирическая функция распределения\")"
   ]
  },
  {
   "cell_type": "markdown",
   "metadata": {},
   "source": [
    "#### 1.c) \n",
    "В предположении, что исходные наблюдения являются выборкой из распределения Пуассона, построить оценку\n",
    "максимального правдоподобия параметра  , а также оценку   по методу моментов. Найти смещение оценок"
   ]
  },
  {
   "cell_type": "markdown",
   "metadata": {},
   "source": [
    "*Плотность распределения:*: \n",
    "$$\\large q_{\\theta} = \\frac{\\lambda^x}{x!}e^{-\\lambda}$$\n",
    "\n",
    "*ОМП:*<br><br>\n",
    "$ L\\left(\\vec{X}, \\theta \\right) =\\prod\\limits_{i = 1}^nq_{\\theta}\\left(\\normalsize x_i\\right)=\\prod\\limits_{i = 1}^n\\frac{\\lambda^x_i}{x_i!}e^{-\\lambda} = \\large \\lambda^{\\sum \\limits_{i=1}^{n}x_i} \\cdot e^{-n\\lambda} \\cdot \\prod\\limits_{i = 1}^n\\frac{1}{x_i!}$ <br><br>\n",
    "\n",
    "$LL\\left(\\vec{X}, \\theta \\right) = \\sum \\limits_{i=1}^{n}x_i \\cdot \\ln{\\lambda} - n\\lambda + \\ln{\\left(\\prod\\limits_{i = 1}^n\\frac{1}{\\large x_i!}\\right)}$ <br><br>\n",
    "\n",
    "$\\Large \\frac{\\partial LL}{\\partial \\lambda} = \\frac{\\sum \\limits_{i=1}^{n}x_i}{\\lambda} \\normalsize - n = 0 \\Rightarrow \\widehat{\\theta} = \\widehat{\\lambda} = \\overline{X}$ - ОМП <br><br>\n",
    "\n",
    "$\\large \\mathbb{E}_{\\theta}\\widehat{\\theta} = \\mathbb{E}_{\\theta}\\overline{X} = \\mathbb{E}_{\\theta}\\frac{1}{n}\\sum \\limits_{i=1}^{n}x_i = \\frac{1}{n} \\cdot \\normalsize n \\cdot \\lambda = \\lambda \\Rightarrow$ несмещённая оценка. <br>\n",
    "Смещение: $\\large \\mathbb{E}_{\\theta}\\widehat{\\theta} - \\theta = 0$ <br><br>\n",
    "\n",
    "\n",
    "*ОММ:*<br><br>\n",
    "$\\mathbb{E}X_1 = \\lambda$ - математическое ожидание (теоретический первый момент)<br><br> \n",
    "$\\mathrm{M_1} = \\overline{X}$ - выборочное среднее (выборочный первый момент)<br><br>\n",
    "Следовательно, $\\widetilde{\\theta} = \\widetilde{\\lambda} = \\overline{X}$<br><br>\n",
    "\n",
    "$\\large \\mathbb{E}_{\\theta}\\widetilde{\\theta} = \\mathbb{E}_{\\theta}\\overline{X} = \\mathbb{E}_{\\theta}\\frac{1}{n}\\sum \\limits_{i=1}^{n}x_i = \\frac{1}{n} \\cdot \\normalsize n \\cdot \\lambda = \\lambda \\Rightarrow$ несмещённая оценка. <br>\n",
    "Смещение: $\\large \\mathbb{E}_{\\theta}\\widetilde{\\theta} - \\theta = 0$"
   ]
  },
  {
   "cell_type": "markdown",
   "metadata": {},
   "source": [
    "#### 1.d) Построить асимптотичексий доверительный интервал уровня значимости $\\alpha_1 = 0.02$ для параметра $\\lambda$ на базе оценки максимального правдоподобия."
   ]
  },
  {
   "cell_type": "markdown",
   "metadata": {},
   "source": [
    "ОМП: $\\widehat{\\theta} = \\widehat{\\lambda} = \\overline{X}$<br>\n",
    "\n",
    "$\\Large \\frac{\\partial LL}{\\partial \\lambda} = \\frac{\\sum \\limits_{i=1}^{n}x_i}{\\lambda} \\normalsize - n$<br>\n",
    "\n",
    "$\\Large \\frac{\\partial^2 LL}{\\partial \\lambda^2} = \\normalsize - \\Large \\frac{\\sum \\limits_{i=1}^{n}x_i}{\\lambda^2}$<br>\n",
    "\n",
    "$\\mathrm{I}_n(\\lambda) = - \\large \\mathbb{E}_{\\theta}\\frac{\\partial^2 LL}{\\partial \\lambda^2} = \\mathbb{E}_{\\theta} \\left(\\frac{\\sum \\limits_{i=1}^{n}x_i}{\\lambda^2}\\right) = \\frac{1}{\\lambda^2}\\sum \\limits_{i=1}^{n}\\mathbb{E}_{\\theta}x_i = \\frac{1}{\\lambda^2} \\cdot n \\cdot \\lambda = \\Large \\frac{n}{\\lambda}$ <br>\n",
    "\n",
    "$\\mathrm{I}(\\lambda) = \\lim \\limits_{n \\to \\infty} \\large \\frac{1}{\\lambda} = \\frac{1}{\\lambda}$ <br>\n",
    "\n",
    "**Квантили:** \n",
    "\n",
    "Так как распределение симметричное: <br><br>\n",
    "$x_{\\alpha} : \\mathrm{\\Phi}(x_{\\alpha}) = 1 - \\frac{\\alpha}{2} = 1 - \\frac{0.02}{2} = 0.99$, где $\\alpha = \\alpha_1 = 0.02$<br><br>\n",
    "$\\mathrm{\\Phi}(x_{\\alpha}) = 0.99$.\n",
    "\n",
    "*Асимптотический доверительный интервал:* <br><br>\n",
    "$\\left[\\overline{X} - \\sqrt{\\frac{\\overline{X}}{n}} \\cdot x_{\\alpha} , \\overline{X} + \\sqrt{\\frac{\\overline{X}}{n}} \\cdot x_{\\alpha}\\right] \\ni \\lambda$"
   ]
  },
  {
   "cell_type": "code",
   "execution_count": 743,
   "metadata": {},
   "outputs": [
    {
     "name": "stdout",
     "output_type": "stream",
     "text": [
      "x_alpha = 2.33\n",
      "Асимптотический доверительный интервал: [0.424, 0.976]\n"
     ]
    }
   ],
   "source": [
    "x_alpha = 0\n",
    "while st.norm.cdf(x_alpha) < 0.99:\n",
    "    x_alpha += 0.01\n",
    "x_alpha = round(x_alpha, 3)\n",
    "left = round(mean - ((mean / n) ** 0.5) * x_alpha, 3)\n",
    "right = round(mean + ((mean / n) ** 0.5) * x_alpha, 3)\n",
    "\n",
    "print(\"x_alpha =\", x_alpha)\n",
    "print(\"Асимптотический доверительный интервал:\", \n",
    "      [left, right])"
   ]
  },
  {
   "cell_type": "markdown",
   "metadata": {},
   "source": [
    "#### 1.e)\n",
    "Используя гистограмму частот, построить критерий значимости $\\chi^2$ проверки простой гипотезы согласия с распределением Пуассона с параметром $\\lambda_0 = 0.70$. Проверить гипотезу на уровне значимости $\\alpha_1 = 0.02$. Вычислить наибольшее значение уровня значимости, на котором ещё нет оснований отвергнуть данную гипотезу."
   ]
  },
  {
   "cell_type": "markdown",
   "metadata": {},
   "source": [
    "Группировка значений $x_i$ :<br>\n",
    "$G_1 \\cup G_2 \\cup G_3,$ где $G_1 = \\{x_i:x_i \\in (-\\infty, 0.5 ]\\}$,  $G_2 = \\{x_i:x_i \\in (0.5 , 1.5 ]\\}$,  $G_3 = \\{x_i:x_i \\in (1.5 , +\\infty)\\}$, <br><br>\n",
    "\n",
    "$\\mathbb{P}_{k} = \\mathbb{P}_{\\theta}\\left(x_i \\in G_k\\right) = \\sum \\limits_{x \\in G_k} q_{\\theta}(x)$, где $q_{\\theta}(x)$ - плотность распределения Пуассона <br><br>\n",
    "\n",
    "$\\mathbb{P}_{1} = \\frac{0.7^0}{0!}e^{-0.7} = 0.5$ <br><br>\n",
    "$\\mathbb{P}_{2} = \\frac{0.7^1}{1!}e^{-0.7} = 0.35$ <br><br>\n",
    "$\\mathbb{P}_{3} = 1 - \\mathbb{P}_1 - \\mathbb{P}_2 = 0.15$ <br><br>\n",
    "\n",
    "Получили статистику критерия $\\chi^2 = \\sum \\limits_{i=1}^3 \\large \\frac{\\left(n_i - n\\mathbb{P}_i\\right)^2}{n\\mathbb{P}_i}  \\normalsize = 1.96$<br>\n",
    "Из таблицы: $\\chi_{k-1, \\alpha_1}^2 = \\chi_{2, 0.02}^2 = 7.82$ <br>\n",
    "\n",
    "$\\chi^2 < \\chi_{2, 0.02}^2 \\Rightarrow$ нет оснований отвергнуть гипотезу.\n",
    "\n",
    "Наибольшее значение уровня значимости, при котором ещё нет оснований отвергнуть данную гипотезу, $\\alpha = 0.376$"
   ]
  },
  {
   "cell_type": "code",
   "execution_count": 744,
   "metadata": {},
   "outputs": [
    {
     "name": "stdout",
     "output_type": "stream",
     "text": [
      "P1 =  0.4965853037914095 , n*P1 =  24.829265189570478\n",
      "P2 =  0.34760971265398666 , n*P2 =  17.380485632699333\n",
      "P3 =  0.15580498355460382 , n*P3 =  7.790249177730191\n",
      "n1 =  22 , n2 =  22 , n3 =  6\n",
      "Статистика критерия:  1.96\n",
      "Табличное значение: 7.82\n",
      "Гипотеза принимается\n",
      "Наибольший уровень значимости:  0.376\n"
     ]
    }
   ],
   "source": [
    "lambda_0 = 0.70\n",
    "alpha_1 = 0.02\n",
    "\n",
    "edges = [0.5, 1.5, 3] \n",
    "\n",
    "p1 = st.poisson.cdf(edges[0], lambda_0)\n",
    "p2 = st.poisson.cdf(edges[1], lambda_0) - st.poisson.cdf(edges[0], lambda_0)\n",
    "p3 = 1 - p1 - p2\n",
    "print('P1 = ', p1, ', n*P1 = ', n * p1)\n",
    "print('P2 = ', p2, ', n*P2 = ', n * p2)\n",
    "print('P3 = ', p3, ', n*P3 = ', n * p3)\n",
    "\n",
    "groups = [[],[],[]]\n",
    "cur_edge_index = 0\n",
    "cur_group = 0\n",
    "\n",
    "for item in data_1:\n",
    "    cur_edge = edges[cur_edge_index]\n",
    "    if item <= cur_edge:\n",
    "        groups[cur_group].append(item)\n",
    "    else:\n",
    "        cur_group += 1\n",
    "        groups[cur_group].append(item)\n",
    "        cur_edge_index += 1\n",
    "\n",
    "n1, n2, n3 = len(groups[0]), len(groups[1]), len(groups[2])\n",
    "print('n1 = ', n1, ', n2 = ', n2, ', n3 = ', n3)\n",
    "\n",
    "chi = ((n1 - n*p1)**2) / (n*p1) + ((n2 - n*p2)**2) / (n*p2) +\\\n",
    "      ((n3 - n*p3)**2) / (n*p3)\n",
    "\n",
    "print(\"Статистика критерия: \", round(chi, 2))\n",
    "print('Табличное значение:', round(st.chi2.ppf(1 - alpha_1, 2), 2))\n",
    "\n",
    "if chi > st.chi2.ppf(1 - alpha_1, 2):\n",
    "    print('Гипотеза отвергается')\n",
    "else:\n",
    "    print('Гипотеза принимается')\n",
    "\n",
    "alpha = 0.02\n",
    "while chi < st.chi2.ppf(1 - alpha, 2):\n",
    "    alpha += 0.001\n",
    "print('Наибольший уровень значимости: ', round(alpha, 3))"
   ]
  },
  {
   "cell_type": "markdown",
   "metadata": {},
   "source": [
    "### 1.f)\n",
    "Построить критерий значимости $\\chi^2$ проверки сложной гипотезы согласия с распределением Пуассона.<br>\n",
    "Проверить гипотезу на уровне значимости $\\alpha_1 = 0.02$.<br>\n",
    "Вычислить наибольшее значение значение уровня значимости, на котором ещё нет <br> оснований отвергнуть данную гипотезу.\n",
    "\n",
    "Проведём группировку, аналогично пункту 1.е. В качестве параметра $\\lambda$ возьмём ОМП, т.е. $\\lambda = \\overline{X} = 0.7$\n",
    "\n",
    "Исходные данные совпали с пунктом е)\n",
    "\n",
    "$\\mathbb{P}_{1} = \\frac{0.7^0}{0!}e^{-0.7} = 0.5$ <br><br>\n",
    "$\\mathbb{P}_{2} = \\frac{0.7^1}{1!}e^{-0.7} = 0.35$ <br><br>\n",
    "$\\mathbb{P}_{3} = 1 - \\mathbb{P}_1 - \\mathbb{P}_2 = 0.15$ <br><br>\n",
    "\n",
    "Cтатистика критерия $\\chi^2 = \\sum \\limits_{i=1}^3 \\large \\frac{\\left(n_i - n\\mathbb{P}_i\\right)^2}{n\\mathbb{P}_i}  \\normalsize = 1.96$<br>\n",
    "Из таблицы: $\\chi_{k-1-r, \\alpha_1}^2 = \\chi_{1, 0.02}^2 = 5.41$ <br>\n",
    "\n",
    "$\\chi^2 < \\chi_{1, 0.02}^2 \\Rightarrow$ нет оснований отвергнуть гипотезу.\n",
    "\n",
    "Наибольшее значение уровня значимости, при котором ещё нет оснований отвергнуть данную гипотезу, $\\alpha = 0.162$"
   ]
  },
  {
   "cell_type": "code",
   "execution_count": 745,
   "metadata": {},
   "outputs": [
    {
     "name": "stdout",
     "output_type": "stream",
     "text": [
      "Табличное значение: 5.41\n",
      "Гипотеза принимается\n",
      "Наибольший уровень значимости:  0.162\n"
     ]
    }
   ],
   "source": [
    "print('Табличное значение:', round(st.chi2.ppf(1 - alpha_1, 1), 2))\n",
    "\n",
    "if chi > st.chi2.ppf(1 - alpha_1, 1):\n",
    "    print('Гипотеза отвергается')\n",
    "else:\n",
    "    print('Гипотеза принимается')\n",
    "\n",
    "alpha = 0.02\n",
    "while chi < st.chi2.ppf(1 - alpha, 1):\n",
    "    alpha += 0.001\n",
    "print('Наибольший уровень значимости: ', round(alpha, 3))"
   ]
  },
  {
   "cell_type": "markdown",
   "metadata": {},
   "source": [
    "### 1.g)\n",
    "Построить наиболее мощный критерий проверки простой гипотезы пуассоновости с параметром $\\lambda = \\lambda_0 = 0.70$ при альтернативе пуассоновости с параметром $\\lambda = \\lambda_1 = 2.80$. Проверить гипотезу на уровне значимости $\\alpha_1 = 0.02$. Что получится, если поменять местами основную и альтернативную гипотезы?\n",
    "\n",
    "$$\\mathbb{P}_{\\lambda}\\left(X = k\\right) = \\frac{\\lambda^k}{(\\lambda + 1)^{k+1}}, k \\in \\mathbb{Z}_+$$\n",
    "\n",
    "Нулевая гипотеза $H_0: \\lambda = \\lambda_0 = 0.7$\n",
    "\n",
    "Альтернативная гипотеза $H_1: \\lambda = \\lambda_1 = 2.8$\n",
    "\n",
    "Функция правдоподобия:\n",
    "\n",
    "$ L\\left(\\vec{X}, \\theta \\right) = \\large \\lambda^{\\sum \\limits_{i=1}^{n}x_i} \\cdot e^{-n\\lambda} \\cdot \\prod\\limits_{i = 1}^n\\frac{1}{x_i!}$\n",
    "\n",
    "$\\mathrm{LR}\\left(\\vec{X}, \\lambda_0, \\lambda_1\\right) = \\frac{\\mathrm{L}\\left(\\vec{X}, \\lambda_1\\right)}{\\mathrm{L}\\left(\\vec{X}, \\lambda_0\\right)} = \\left(\\frac{\\lambda_1}{\\lambda_0}\\right)^{\\sum \\limits_{i = 1}^n x_i} \\cdot \\exp{\\left(-n\\left(\\lambda_1 - \\lambda_0\\right)\\right)}$\n",
    "\n",
    "$\\sum \\limits_{i = 1}^n x_i \\cdot \\ln{\\left(\\frac{\\lambda_1}{\\lambda_0}\\right)} + n\\left(\\lambda_0 - \\lambda_1\\right) > \\ln{c}$\n",
    "\n",
    "$\\sum \\limits_{i = 1}^n x_i \\cdot \\ln{\\left(\\frac{\\lambda_1}{\\lambda_0}\\right)} > \\ln{c} - n\\left(\\lambda_0 - \\lambda_1\\right)$\n",
    "\n",
    "Так как $\\lambda_0 < \\lambda_1$ знак неравенства остается:\n",
    "\n",
    "$\\overline{X} > \\frac{\\ln{c} - n\\left(\\lambda_0 - \\lambda_1\\right)}{n \\cdot \\ln{\\left(\\frac{\\lambda_1}{\\lambda_0}\\right)}}$\n",
    "\n",
    "В силу монотонности статистики LR относительно $\\overline{X}$:\n",
    "\n",
    "$\\mathrm{LR} > c \\iff \\overline{X} > c^*$\n",
    "\n",
    "$\\mathrm{LR} < c \\iff \\overline{X} < c^*$\n",
    "\n",
    "Тогда получим:\n",
    "\n",
    "$$ \\phi(x) =\\left\\{\\begin{array}{l} 1, \\overline{X} > c^* \\\\ p, \\overline{X} = c^* \\\\ 0, \\overline{X} < c^*\\\\ \\end{array}\\right.$$\n",
    "$$ \\phi(x) =\\left\\{\\begin{array}{l} 1, \\overline{X} > 0.94 \\\\ p, \\overline{X} = 0.94 \\\\ 0, \\overline{X} < 0.94\\\\ \\end{array}\\right.$$\n",
    "Используя ЦПТ, получаем эквивалентный критерий:\n",
    "\n",
    "$\\sqrt{n} \\frac{\\overline{X} - \\mathbb{E}x}{\\sqrt{\\mathbb{D}}} \\sim \\mathcal{N}(0, 1)$ \n",
    "\n",
    "$\\sqrt{n} \\frac{\\overline{X} - \\lambda_0}{\\sqrt{\\lambda_0}}\\sim \\mathcal{N}(0, 1)$, при $H_0$\n",
    "\n",
    "$\\Phi\\left(\\sqrt{n} \\frac{\\overline{X} - \\lambda_0}{\\sqrt{\\lambda_0}} \\geq \\sqrt{n} \\frac{c^* - \\lambda_0}{\\sqrt{\\lambda_0}}\\right) =1 - \\Phi\\left(\\sqrt{n} \\frac{c^* - \\lambda_0}{\\sqrt{\\lambda_0}}\\right) = \\alpha_1$\n",
    "\n",
    "Квантиль:\n",
    "\n",
    "$x_{\\alpha} : \\Phi(x_{\\alpha}) = 1 - \\alpha_1 = 1 - 0.02 = 0.98$\n",
    "\n",
    "$c^* = \\frac{x_{\\alpha} \\sqrt{\\lambda_0}}{\\sqrt{n}} + \\lambda_0 = 0.94$\n",
    "\n",
    "$\\overline{X} = 0.7$\n",
    "\n",
    "Так как $\\overline{X} < c^*$, то нет основания отвергнуть гипотезу."
   ]
  },
  {
   "cell_type": "code",
   "execution_count": 746,
   "metadata": {},
   "outputs": [
    {
     "name": "stdout",
     "output_type": "stream",
     "text": [
      "x_alpha = 2.053999999999885\n",
      "c* = 0.9430325574897185\n",
      "Выборочное среднее =  0.7\n"
     ]
    }
   ],
   "source": [
    "alpha_1 = 0.02\n",
    "lambda_0 = 0.7\n",
    "x_alpha = 0\n",
    "while st.norm.cdf(x_alpha) < (1 - alpha_1):  \n",
    "    x_alpha += 0.001\n",
    "print('x_alpha =', x_alpha)\n",
    "c_ = (x_alpha * (lambda_0**0.5)) / (n**0.5) + lambda_0\n",
    "print('c* =', c_)\n",
    "print('Выборочное среднее = ', mean)"
   ]
  },
  {
   "cell_type": "markdown",
   "metadata": {},
   "source": [
    "Поменяем местами гипотезы:\n",
    "\n",
    "Нулевая гипотеза $H_0: \\lambda = \\lambda_1 = 2.8$\n",
    "\n",
    "Альтернативная гипотеза $H_1: \\lambda = \\lambda_0 = 0.7$\n",
    "\n",
    "*Функция правдоподобия:*\n",
    "\n",
    "$ L\\left(\\vec{X}, \\theta \\right) = \\large \\lambda^{\\sum \\limits_{i=1}^{n}x_i} \\cdot e^{-n\\lambda} \\cdot \\prod\\limits_{i = 1}^n\\frac{1}{x_i!}$\n",
    "\n",
    "*Статистика отношения правдоподобия:*\n",
    "\n",
    "$\\mathrm{LR}\\left(\\vec{X}, \\lambda_0, \\lambda_1\\right) = \\frac{\\mathrm{L}\\left(\\vec{X}, \\lambda_0\\right)}{\\mathrm{L}\\left(\\vec{X}, \\lambda_1\\right)} = \\left(\\frac{\\lambda_0}{\\lambda_1}\\right)^{\\sum \\limits_{i = 1}^n x_i} \\cdot \\exp{\\left(-n\\left(\\lambda_0 - \\lambda_1\\right)\\right)}$ - монотонная функция от $\\sum \\limits_{i = 1}^n x_i$\n",
    "\n",
    "$\\sum \\limits_{i = 1}^n x_i \\cdot \\ln{\\left(\\frac{\\lambda_0}{\\lambda_1}\\right)} + n\\left(\\lambda_1 - \\lambda_0\\right) > \\ln{c}$\n",
    "\n",
    "$\\sum \\limits_{i = 1}^n x_i \\cdot \\ln{\\left(\\frac{\\lambda_0}{\\lambda_1}\\right)} > \\ln{c} - n\\left(\\lambda_1 - \\lambda_0\\right)$\n",
    "\n",
    "Так как $\\lambda_0 > \\lambda_1$ знак неравенства меняется:\n",
    "\n",
    "$\\overline{X} < \\frac{\\ln{c} - n\\left(\\lambda_1 - \\lambda_0\\right)}{n \\cdot \\ln{\\left(\\frac{\\lambda_0}{\\lambda_1}\\right)}}$\n",
    "\n",
    "В силу монотонности статистики LR относительно $\\overline{X}$:\n",
    "\n",
    "$\\mathrm{LR} > c \\iff \\overline{X} < c^*$\n",
    "\n",
    "$\\mathrm{LR} < c \\iff \\overline{X} > c^*$\n",
    "\n",
    "Тогда получим:\n",
    "\n",
    "$$ \\phi(x) =\\left\\{\\begin{array}{l} 1, \\overline{X} < c^* \\\\ p, \\overline{X} = c^* \\\\ 0, \\overline{X} > c^*\\\\ \\end{array}\\right.$$\n",
    "$$ \\phi(x) =\\left\\{\\begin{array}{l} 1, \\overline{X} < 3.286 \\\\ p, \\overline{X} = 3.286 \\\\ 0, \\overline{X} > 3.286\\\\ \\end{array}\\right.$$\n",
    "Используя ЦПТ, получаем эквивалентный критерий:\n",
    "\n",
    "$\\sqrt{n} \\frac{\\overline{X} - \\mathbb{E}x}{\\sqrt{\\mathbb{D}}} \\sim \\mathcal{N}(0, 1)$ \n",
    "\n",
    "$\\sqrt{n} \\frac{\\overline{X} - \\lambda_1}{\\sqrt{\\lambda_1}}\\sim \\mathcal{N}(0, 1)$, при $H_0$\n",
    "\n",
    "$\\Phi\\left(\\sqrt{n} \\frac{\\overline{X} - \\lambda_1}{\\sqrt{\\lambda_1}} \\geq \\sqrt{n} \\frac{c^* - \\lambda_1}{\\sqrt{\\lambda_1}}\\right) =1 - \\Phi\\left(\\sqrt{n} \\frac{c^* - \\lambda_1}{\\sqrt{\\lambda_1}}\\right) = \\alpha_1$\n",
    "\n",
    "$x_{\\alpha} : \\Phi(x_{\\alpha}) = 1 - \\alpha_1 = 1 - 0.02 = 0.98$\n",
    "\n",
    "$c^* = \\frac{x_{\\alpha} \\sqrt{\\lambda_1}}{\\sqrt{n}} + \\lambda_1 = 3.286$\n",
    "\n",
    "$\\overline{X} = 0.7$\n",
    "\n",
    "Так как $\\overline{X} < c^*$, гипотеза отвергается."
   ]
  },
  {
   "cell_type": "code",
   "execution_count": 747,
   "metadata": {},
   "outputs": [
    {
     "name": "stdout",
     "output_type": "stream",
     "text": [
      "x_alpha = 2.053999999999885\n",
      "c* = 3.286065114979437\n",
      "Выборочное среднее =  0.7\n"
     ]
    }
   ],
   "source": [
    "alpha_1 = 0.02\n",
    "lambda_1 = 2.8\n",
    "x_alpha = 0\n",
    "while st.norm.cdf(x_alpha) < (1 - alpha_1):  \n",
    "    x_alpha += 0.001\n",
    "print('x_alpha =', x_alpha)\n",
    "c_ = (x_alpha * (lambda_1**0.5)) / (n**0.5) + lambda_1\n",
    "print('c* =', c_)\n",
    "print('Выборочное среднее = ', mean)"
   ]
  },
  {
   "cell_type": "markdown",
   "metadata": {},
   "source": [
    "### 1.h) \n",
    "В пунктах (c) - (f) заменить семейство распределений Пуассона на семейство геометрических распределений:\n",
    "\n",
    "$$\\mathbb{P}_{\\lambda}\\left(X = k\\right) = \\frac{\\lambda^k}{(\\lambda + 1)^{k+1}}, k \\in \\mathbb{Z}_+$$"
   ]
  },
  {
   "cell_type": "markdown",
   "metadata": {},
   "source": [
    "1.h.c)\n",
    "\n",
    "$\\mathbb{P}_{\\lambda}\\left(X = k\\right) = \\frac{\\lambda^k}{(\\lambda + 1)^{k+1}} = \\frac{1}{\\lambda + 1} \\cdot \\left(\\frac{\\lambda}{\\lambda + 1}\\right)^k = \\frac{1}{\\lambda + 1} \\cdot \\left(\\frac{\\lambda + 1 - 1}{\\lambda + 1}\\right)^k = \\frac{1}{\\lambda + 1} \\cdot \\left(1 - \\frac{1}{\\lambda + 1}\\right)^k$ <br>\n",
    "\n",
    "Пусть $\\frac{1}{\\lambda + 1} = p$ , тогда $\\mathbb{E}x = \\frac{1-p}{p} = \\lambda$\n",
    "\n",
    "ОМП: <br>\n",
    "\n",
    "$\\mathrm{L}\\left(\\vec{X}, \\theta \\right) = \\lambda^{\\sum \\limits_{i = 1}^n x_i} + (\\lambda + 1)^{-\\sum \\limits_{i = 1}^n x_i - n}$ <br>\n",
    "\n",
    "$\\mathrm{LL}\\left(\\vec{X}, \\theta \\right) = \\sum \\limits_{i = 1}^n x_i \\ln{\\lambda} - \\left(\\sum \\limits_{i = 1}^n x_i + n\\right) \\ln{(\\lambda + 1)}$<br>\n",
    "\n",
    "$\\large \\frac{\\partial LL}{\\partial \\lambda} = \\frac{\\sum \\limits_{i = 1}^n x_i}{\\lambda} - \\large \\frac{\\sum \\limits_{i = 1}^n x_i + n}{\\lambda + 1} \\normalsize = 0$, $\\Rightarrow \\widehat{\\theta} = \\widehat{\\lambda} = \\overline{X}$ - ОМП <br>\n",
    "\n",
    "$\\mathbb{E}_{\\theta}\\widehat{\\theta} = \\frac{1}{n}\\sum \\limits_{i = 1}^n\\mathbb{E}_{\\theta}x_i = \\frac{1}{n} \\cdot n \\cdot \\lambda = \\lambda$, $\\Rightarrow$ несмещённая оценка <br>\n",
    "\n",
    "ОММ: <br>\n",
    "\n",
    "$\\mathbb{E}X_1 = \\lambda$ - математическое ожидание (теоретическая величина)<br><br> \n",
    "$\\mathrm{M_1} = \\overline{X}$ - выборочное среднее (выборочная величина)<br><br>\n",
    "Следовательно, $\\widetilde{\\theta} = \\widetilde{\\lambda} = \\overline{X}$ - ОММ<br>\n",
    "\n",
    "$\\large \\mathbb{E}_{\\theta}\\widetilde{\\theta} = \\mathbb{E}_{\\theta}\\overline{X} = \\mathbb{E}_{\\theta}\\frac{1}{n}\\sum \\limits_{i=1}^{n}x_i = \\frac{1}{n} \\cdot \\normalsize n \\cdot \\lambda = \\lambda \\Rightarrow$ несмещённая оценка.\n",
    "\n",
    "ОММ и ОМП получились несмещенные $\\Rightarrow$ смещения ОМП и ОММ = 0"
   ]
  },
  {
   "cell_type": "code",
   "execution_count": 748,
   "metadata": {},
   "outputs": [
    {
     "name": "stdout",
     "output_type": "stream",
     "text": [
      "x_alpha = 2.33\n",
      "Асимптотический доверительный интервал: [0.543, 0.857]\n"
     ]
    }
   ],
   "source": [
    "x_alpha = 0\n",
    "while st.norm.cdf(x_alpha) < 0.99:\n",
    "    x_alpha += 0.01\n",
    "x_alpha = round(x_alpha, 2)\n",
    "left = round(mean - x_alpha * (mean / (n*(3*mean+1)))**0.5, 3) \n",
    "right = round(mean + x_alpha * (mean / (n*(3*mean+1)))**0.5, 3)\n",
    "\n",
    "print(\"x_alpha =\", x_alpha)\n",
    "print(\"Асимптотический доверительный интервал:\", \n",
    "      [left, right])"
   ]
  },
  {
   "cell_type": "markdown",
   "metadata": {},
   "source": [
    "1.h.e)\n",
    "\n",
    "Проведём группировку значений $x_i$ : \n",
    "\n",
    "$G_1 \\cup G_2 \\cup G_3,$ где $G_1 = \\{x_i:x_i \\in (-\\infty, 0.5 ]\\}$,  $G_2 = \\{x_i:x_i \\in (0.5 , 1.5 ]\\}$,  $G_3 = \\{x_i:x_i \\in (1.5 , +\\infty)\\}$, <br><br>\n",
    "\n",
    "Рассмотрим $\\mathbb{P}_{k} = \\mathbb{P}_{\\theta}\\left(x_i \\in G_k\\right) = \\sum \\limits_{x \\in G_k} q_{\\theta}(x)$, где $q_{\\theta}(x)$ - плотность распределения \n",
    "\n",
    "$\\mathbb{P}_{1} = \\frac{0.7^0}{1.7^1} = 0.59$ <br>\n",
    "$\\mathbb{P}_{2} = \\frac{0.7^1}{1.7^2} = 0.24$ <br>\n",
    "$\\mathbb{P}_{3} = 1 - \\mathbb{P}_1 - \\mathbb{P}_2 = 0.17$\n",
    "\n",
    "Cтатистика критерия $\\chi^2 = \\sum \\limits_{i=1}^3 \\large \\frac{\\left(n_i - n\\mathbb{P}_i\\right)^2}{n\\mathbb{P}_i}  \\normalsize = 7.82$\n",
    "\n",
    "Из таблицы: $\\chi_{k-1, \\alpha_1}^2 = \\chi_{2, 0.02}^2 = 10.67$\n",
    "\n",
    "$\\chi^2 > \\chi_{2, 0.02}^2 \\Rightarrow$ гипотеза отвергается.\n",
    "\n",
    "Наибольшее значение уровня значимости, при котором ещё нет оснований отвергнуть данную гипотезу, $\\alpha = 0.005$"
   ]
  },
  {
   "cell_type": "code",
   "execution_count": 749,
   "metadata": {},
   "outputs": [
    {
     "name": "stdout",
     "output_type": "stream",
     "text": [
      "P1 =  0.5882352941176471 , n*P1 =  29.411764705882355\n",
      "P2 =  0.24221453287197237 , n*P2 =  12.110726643598618\n",
      "P3 =  0.16955017301038056 , n*P3 =  8.477508650519027\n",
      "n1 =  22 , n2 =  22 , n3 =  6\n",
      "Статистика критерия:  10.67\n",
      "Табличное значение: 7.82\n",
      "Гипотеза отвергается\n",
      "Наибольший уровень значимости:  0.005\n"
     ]
    }
   ],
   "source": [
    "lambda_0 = 0.70\n",
    "p = 1/(lambda_0 + 1)\n",
    "alpha_1 = 0.02\n",
    "\n",
    "edges = [0.5, 1.5, 3]\n",
    "\n",
    "p1 = st.geom.cdf(1, p)\n",
    "p2 = st.geom.cdf(2, p) - st.geom.cdf(1, p)\n",
    "p3 = 1 - p1 - p2\n",
    "print('P1 = ', p1, ', n*P1 = ', n * p1)\n",
    "print('P2 = ', p2, ', n*P2 = ', n * p2)\n",
    "print('P3 = ', p3, ', n*P3 = ', n * p3)\n",
    "\n",
    "groups = [[],[],[]]\n",
    "cur_edge_index = 0\n",
    "cur_group = 0\n",
    "\n",
    "for item in data_1:\n",
    "    cur_edge = edges[cur_edge_index]\n",
    "    if item <= cur_edge:\n",
    "        groups[cur_group].append(item)\n",
    "    else:\n",
    "        cur_group += 1\n",
    "        groups[cur_group].append(item)\n",
    "        cur_edge_index += 1\n",
    "\n",
    "n1, n2, n3 = len(groups[0]), len(groups[1]), len(groups[2])\n",
    "print('n1 = ', n1, ', n2 = ', n2, ', n3 = ', n3)\n",
    "\n",
    "chi = ((n1 - n*p1)**2) / (n*p1) + ((n2 - n*p2)**2) / (n*p2) +\\\n",
    "      ((n3 - n*p3)**2) / (n*p3)\n",
    "\n",
    "print(\"Статистика критерия: \", round(chi, 2))\n",
    "print('Табличное значение:', round(st.chi2.ppf(1 - alpha_1, 2), 2))\n",
    "\n",
    "if chi > st.chi2.ppf(1 - alpha_1, 2):\n",
    "    print('Гипотеза отвергается')\n",
    "else:\n",
    "    print('Гипотеза принимается')\n",
    "\n",
    "alpha = 0.02\n",
    "while chi > st.chi2.ppf(1 - alpha, 2):\n",
    "    alpha -= 0.00001\n",
    "print('Наибольший уровень значимости: ', round(alpha, 3))"
   ]
  },
  {
   "cell_type": "markdown",
   "metadata": {},
   "source": [
    "1.h.f)\n",
    "\n",
    "Проведём группировку, аналогично пункту 1.h.е. В качествке параметра $\\lambda$ возьмём ОМП, т.е. $\\lambda = \\overline{X} = 0.7$\n",
    "\n",
    "Исходные данные совпали с пунктом е)\n",
    "\n",
    "Cтатистика критерия $\\chi^2 = \\sum \\limits_{i=1}^3 \\large \\frac{\\left(n_i - n\\mathbb{P}_i\\right)^2}{n\\mathbb{P}_i}  \\normalsize = 10.67$\n",
    "\n",
    "Из таблицы: $\\chi_{k-1-r, \\alpha_1}^2 = \\chi_{1, 0.02}^2 = 5.41$\n",
    "\n",
    "$\\chi^2 > \\chi_{1, 0.02}^2 \\Rightarrow$ гипотеза отвергается.\n",
    "\n",
    "Наибольшее значение уровня значимости, при котором ещё нет оснований отвергнуть данную гипотезу, $\\alpha = 0.001$"
   ]
  },
  {
   "cell_type": "code",
   "execution_count": 750,
   "metadata": {},
   "outputs": [
    {
     "name": "stdout",
     "output_type": "stream",
     "text": [
      "Статистика критерия:  10.67\n",
      "Табличное значение: 5.41\n",
      "Гипотеза отвергается\n",
      "Наибольший уровень значимости:  0.001\n"
     ]
    }
   ],
   "source": [
    "print(\"Статистика критерия: \", round(chi, 2))\n",
    "print('Табличное значение:', round(st.chi2.ppf(1 - alpha_1, 1), 2))\n",
    "\n",
    "if chi > st.chi2.ppf(1 - alpha_1, 1):\n",
    "    print('Гипотеза отвергается')\n",
    "else:\n",
    "    print('Гипотеза принимается')\n",
    "\n",
    "alpha = 0.02\n",
    "while chi > st.chi2.ppf(1 - alpha, 1):\n",
    "    alpha -= 0.00001\n",
    "print('Наибольший уровень значимости: ', round(alpha, 3))"
   ]
  },
  {
   "cell_type": "markdown",
   "metadata": {},
   "source": [
    "#### 2.a)\n",
    "\n",
    "Построить вариационный ряд, эмпирическую функцию распределения,<br> гистограмму и полигон частот с шагом $h = 2.00$"
   ]
  },
  {
   "cell_type": "code",
   "execution_count": 751,
   "metadata": {},
   "outputs": [
    {
     "name": "stdout",
     "output_type": "stream",
     "text": [
      "Вариационный ряд:  -7.77 -7.49 -6.41 -6.15 -5.46 -4.23 -2.81 -2.78 -2.1 -1.74 -0.9 -0.53 0.44 0.6 1.01 1.42 1.5 1.55 1.91 1.94 2.06 2.42 2.69 2.69 2.77 2.98 3.02 3.09 3.1 3.67 3.68 4.0 5.31 5.51 5.58 5.58 6.22 6.64 6.9 6.94 7.2 8.56 9.69 9.8 9.96 10.13 10.83 11.23 11.34 12.13\n"
     ]
    }
   ],
   "source": [
    "src_data = \"3.10 -4.23 4.00 -7.77 10.83 6.22 9.69 5.58 7.20 -6.15 11.34 1.55 \\\n",
    "            6.64 -2.10 3.67 0.60 9.96 5.51 8.56 5.58 -2.78 3.02 2.06 -1.74 9.80\\\n",
    "            1.01 2.42 -6.41 1.91 0.44 6.90 3.09 2.77 10.13 2.69 5.31 2.98 -5.46\\\n",
    "            3.68 1.42 1.50 11.23 -7.49 12.13 -0.53 -0.90 -2.81 2.69 1.94 6.94\"\n",
    "\n",
    "data_2 = src_data.split()\n",
    "data_2 = [float(i) for i in data_2]\n",
    "data_2.sort()\n",
    "n = len(data_2)\n",
    "\n",
    "print(\"Вариационный ряд: \", *data_2)"
   ]
  },
  {
   "cell_type": "code",
   "execution_count": 752,
   "metadata": {},
   "outputs": [
    {
     "data": {
      "image/png": "[encoded data removed]",
      "text/plain": [
       "<Figure size 640x480 with 1 Axes>"
      ]
     },
     "metadata": {},
     "output_type": "display_data"
    }
   ],
   "source": [
    "sns.ecdfplot(data_2)\n",
    "\n",
    "plt.title(\"Эмпирическая функция распределения\")\n",
    "plt.xlabel(\"x\")\n",
    "plt.ylabel(\"F(x)\")\n",
    "plt.show()"
   ]
  },
  {
   "cell_type": "code",
   "execution_count": 753,
   "metadata": {},
   "outputs": [
    {
     "data": {
      "image/png": "[encoded data removed]",
      "text/plain": [
       "<Figure size 640x480 with 1 Axes>"
      ]
     },
     "metadata": {},
     "output_type": "display_data"
    }
   ],
   "source": [
    "h = 2\n",
    "bins = [-7.77, -5.77, -3.77, -1.77, 0.23, 2.23, 4.23, 6.23, 8.23, 10.23, 12.13]\n",
    "plt.xticks(bins)\n",
    "\n",
    "y, edges, _= plt.hist(data_2, edgecolor='black', bins=bins, weights=np.ones_like (data_2) / n) \n",
    "\n",
    "midpoints = 0.5*(edges[1:] + edges[:-1])\n",
    "plt.plot(midpoints, y, '-o')\n",
    "\n",
    "plt.yticks(np.arange(0, 0.23, 0.02))\n",
    "plt.xlabel('$x_i$')\n",
    "plt.ylabel('Частота')\n",
    "plt.title('Гистограмма и полигон частот');"
   ]
  },
  {
   "cell_type": "markdown",
   "metadata": {},
   "source": [
    "#### 2.b) \n",
    "Вычислить выборочные аналоги следующих числовых характеристик: (i)математическое ожидание, (ii)дисперсия, (iii)медианы, (iv)асимметрии, (v)эксцесса (vi) вероятности $\\mathbb{P}\\left(X \\in \\left[c, d\\right]\\right)$, (c = 1.00; d = 8.00)"
   ]
  },
  {
   "cell_type": "code",
   "execution_count": 754,
   "metadata": {},
   "outputs": [
    {
     "data": {
      "text/markdown": [
       "Выборочное среднее: $\\overline{X} = 2.9544$<br>        Выборочная дисперсия: $S^2 = 25.88539664$<br>        Выборочное СКО: $S = 5.088$<br>        Выборочная медиана: $z_{50,\\frac{1}{2}} = 2.875$<br>        Выборочный коэф. асимметрии: $\\widehat{\\mathrm{Skew}}X = -0.211$<br>        Выборочный коэф. эксцесса: $\\widehat{\\mathrm{Kurt}}X = -0.513$ <br>        Выборочный аналог $\\mathbb{P}\\left(X \\in \\left[1.00, 8.00\\right]        \\right) = \\mathrm{F}(8.00) - \\mathrm{F}(1.00)$ = 0.54,<br>        где $\\mathrm{F}(x)$ - эмпирическая функция распределения"
      ],
      "text/plain": [
       "<IPython.core.display.Markdown object>"
      ]
     },
     "execution_count": 754,
     "metadata": {},
     "output_type": "execute_result"
    }
   ],
   "source": [
    "def F(x): #эмпирическая функция распределения P(X < x)\n",
    "    sum_i = 0\n",
    "    for item in data_2:\n",
    "        if item < x:\n",
    "            sum_i += 1\n",
    "    return sum_i/n\n",
    "\n",
    "mean = np.mean(data_2)\n",
    "variance = np.var(data_2)\n",
    "deviation = round(np.std(data_2), 3)\n",
    "median_ = np.median(data_2)\n",
    "skew_ = round(st.skew(data_2), 3)\n",
    "kurt_ = round(st.kurtosis(data_2), 3)\n",
    "prob = round(F(8.00) - F(1.00), 2)\n",
    "\n",
    "Markdown(f\"Выборочное среднее: $\\\\overline{{X}} = {mean}$<br>\\\n",
    "        Выборочная дисперсия: $S^2 = {variance}$<br>\\\n",
    "        Выборочное СКО: $S = {deviation}$<br>\\\n",
    "        Выборочная медиана: $z_{{50,\\\\frac{{1}}{{2}}}} = {median_}$<br>\\\n",
    "        Выборочный коэф. асимметрии: $\\\\widehat{{\\\\mathrm{{Skew}}}}X = {skew_}$<br>\\\n",
    "        Выборочный коэф. эксцесса: $\\\\widehat{{\\\\mathrm{{Kurt}}}}X = {kurt_}$ <br>\\\n",
    "        Выборочный аналог $\\\\mathbb{{P}}\\\\left(X \\\\in \\\\left[1.00, 8.00\\\\right]\\\n",
    "        \\\\right) = \\\\mathrm{{F}}(8.00) - \\\\mathrm{{F}}(1.00)$ = {prob},<br>\\\n",
    "        где $\\\\mathrm{{F}}(x)$ - эмпирическая функция распределения\")"
   ]
  },
  {
   "cell_type": "markdown",
   "metadata": {},
   "source": [
    "### 2.c)\n",
    "В предположении, что исходные наблюдения являются выборкой из нормального распределения, построить оценку максимального правдоподобия параметров $\\left(a, \\sigma^2 \\right)$ и соответствующие оценки по методу моментов. Найти смещение оценок.\n",
    "\n",
    "Плотность нормального распределения: \n",
    "$$p_{\\theta}(x) = \\frac{1}{\\sqrt{2\\pi}\\sigma} \\exp{\\left(-\\frac{(x - a)^2}{2\\sigma^2}\\right)}$$\n",
    "\n",
    "ОМП: <br>\n",
    "\n",
    "$\\mathrm{L}\\left(\\vec{X}, \\vec{\\theta}\\right) = \\left(2\\pi \\right)^{-\\frac{n}{2}} \\cdot \\sigma^{-n} \\cdot \\exp{\\left(-\\frac{1}{2\\sigma^2} \\sum \\limits_{i = 1}^n (x_i - a)^2\\right)}$ <br>\n",
    "\n",
    "$\\mathrm{LL}\\left(\\vec{X}, \\vec{\\theta}\\right) = -\\frac{n}{2} \\ln{2\\pi} - n\\ln{\\sigma} - \\frac{1}{2\\sigma^2}\\sum \\limits_{i = 1}^n (x_i - a)^2$ <br>\n",
    "\n",
    "Для параметра $a$: <br>\n",
    "\n",
    "$\\frac{\\partial \\mathrm{LL}}{ \\partial a} = \\frac{1}{\\sigma^2} \\cdot \\normalsize \\left(\\sum \\limits_{i = 1}^n x_i - na\\right) = 0$ , $\\Rightarrow \\widehat{a} = \\overline{X}$ <br>\n",
    "\n",
    "Для параметра $\\sigma^2$: <br>\n",
    "\n",
    "$\\frac{\\partial \\mathrm{LL}}{ \\partial \\sigma} = -\\frac{n}{\\sigma} + \\frac{1}{\\sigma^3}\\sum \\limits_{i = 1}^n (x_i - a)^2 = 0$ , $\\Rightarrow \\widehat{\\sigma^2} = S^2$ <br>\n",
    "\n",
    "Значит, $\\widehat{\\theta} = \\left(\\widehat{a}, \\widehat{\\sigma^2}\\right) = \\left(\\overline{X}, S^2\\right)$ <br>\n",
    "\n",
    "ОММ:\n",
    "\n",
    "$\\mathbb{E}X_1 = a$ , $M_1 = \\overline{X}$ <br>\n",
    "$\\mathbb{E}X_1^2 = a^2 + \\sigma^2$ , $M_2 = \\overline{X^2}$\n",
    "\n",
    "Система уравнений метода моментов:\n",
    " $\\begin{equation} \\begin{cases} \\overline{X} = a \\\\ \\overline{X^2} = a^2 + \\sigma^2 \\end{cases}\\end{equation}$ <br>\n",
    "\n",
    "Следовательно, $\\widetilde{\\theta} = \\left(\\widetilde{a}, \\widetilde{\\sigma^2}\\right) = \\left(\\overline{X}, S^2\\right)$<br>\n",
    "\n",
    "$\\mathbb{E}_{\\theta}\\widehat{a} = \\mathbb{E}_{\\theta}\\widetilde{a} = \\mathbb{E}_{\\theta}\\overline{X} = \\frac{1}{n} \\sum \\limits_{i = 1}^n\\mathbb{E}_{\\theta}X_1 = \\frac{1}{n} \\cdot n \\cdot a = a \\Rightarrow$ ,  оценки $a$ несмещённые.$ \\Rightarrow $ смещение = 0<br>\n",
    "\n",
    "$\\mathbb{E}_{\\theta}\\widehat{\\sigma^2} = \\mathbb{E}_{\\theta}\\widetilde{\\sigma^2} = \\mathbb{E}_{\\theta}S^2 = \\frac{1}{n}\\mathbb{E}_{\\theta}\\sum \\limits_{i = 1}^n \\left(X_i - \\overline{X}\\right)^2 = \\left[\\begin{array}{l l} X_i - \\mathbb{E}_{\\theta}X_i = Y_i \\\\ \\mathbb{E}_{\\theta}Y_i = 0 \\\\ \\mathbb{D}_{\\theta} = \\sigma^2 \\end{array} \\right] = \\mathbb{E}_{\\theta}\\frac{1}{n}\\sum \\limits_{i = 1}^n \\left(Y_i - \\overline{Y}\\right)^2 = \\mathbb{E}_{\\theta}\\overline{Y^2} - \\mathbb{E}_{\\theta}\\overline{Y}^2$ <br>\n",
    "\n",
    "$\\mathbb{E}_{\\theta}\\overline{Y^2} = \\frac{1}{n} \\sum \\limits_{i = 1}^n\\mathbb{E}_{\\theta}Y_1^2 = \\frac{1}{n} \\cdot n \\cdot \\sigma^2 = \\sigma^2$\n",
    "\n",
    "$\\mathbb{E}_{\\theta}\\overline{Y}^2 = \\frac{1}{n^2}\\sum \\limits_{i = 1}^n \\sum \\limits_{j = 1}^n \\mathbb{E}_{\\theta}Y_iY_j = \\left[\\begin{array}{l l} i = j: \\mathbb{E}_{\\theta}Y_i^2 = \\sigma^2 \\\\ i \\neq j: \\mathbb{E}_{\\theta}Y_i\\mathbb{E}_{\\theta}Y_j = 0 \\end{array} \\right] = \\frac{1}{n^2} \\left(n \\cdot \\sigma^2 + \\left(n^2 - n\\right) \\cdot 0\\right) = \\frac{\\sigma^2}{n}$ <br><br>\n",
    "\n",
    "$\\mathbb{E}_{\\theta}S^2 = \\sigma^2 - \\frac{\\sigma^2}{n} = \\frac{n - 1}{n}\\sigma^2 \\Rightarrow$ оценки $\\sigma^2$ смещённые. <br><br>\n",
    "Смещение: <br><br>\n",
    "$\\large \\mathbb{E}_{\\theta}\\widehat{\\theta} - \\theta = \\mathbb{E}_{\\theta}\\widetilde{\\theta} - \\theta = \\frac{n - 1}{n}\\sigma^2 - \\sigma^2 = -\\frac{\\sigma^2}{n}$ "
   ]
  },
  {
   "cell_type": "markdown",
   "metadata": {},
   "source": [
    "#### 2.d)\n",
    "Построить доверительные интервалы уровня значимости $\\alpha_2 = 0.01$ для параметров $\\left(a, \\sigma^2\\right)$."
   ]
  },
  {
   "cell_type": "markdown",
   "metadata": {},
   "source": [
    "$\\theta = a$\n",
    "\n",
    "$\\mathrm{G}\\left(\\vec{X}, a\\right) = \\sqrt{n - 1} \\cdot \\frac{\\overline{X} - a}{S} \\sim \\mathrm{Student}(n - 1)$\n",
    "\n",
    "Квантили:\n",
    "\n",
    "$x_{\\alpha}: \\mathrm{S}_{n-1}(x_{\\alpha}) = 1 - \\frac{\\alpha}{2}  = 1 - \\frac{0.01}{2} = 0.995 $<br> \n",
    "\n",
    "Так как распределение Стьюдента симметричное.\n",
    "$\\mathbb{P}_{\\theta}\\left(-x_{\\alpha} \\le \\sqrt{n - 1} \\cdot \\frac{\\overline{X} - a}{S} \\le x_{\\alpha}\\right) = 1 - \\alpha$\n",
    "\n",
    "$\\mathbb{P}_{\\theta}\\left(-\\frac{x_{\\alpha} \\cdot S}{\\sqrt{n - 1}} + \\overline{X} \\le a \\le \\frac{x_{\\alpha} \\cdot S}{\\sqrt{n - 1}} + \\overline{X}\\right) = 1 - \\alpha$\n",
    "\n",
    "Доверительный интервал:\n",
    "\n",
    "$$\\left[-\\frac{x_{\\alpha} \\cdot S}{\\sqrt{n - 1}} + \\overline{X}, \\frac{x_{\\alpha} \\cdot S}{\\sqrt{n - 1}} + \\overline{X}\\right] \\ni a$$\n",
    "\n",
    "<br><br>\n",
    "\n",
    "$\\theta = \\sigma^2$\n",
    "\n",
    "$\\mathrm{G}\\left(\\vec{X}, \\sigma^2\\right) = \\frac{nS^2}{\\sigma^2} \\sim \\chi^2_{n-1}$\n",
    "\n",
    "Квантили:\n",
    "\n",
    "$x_{1\\alpha}: \\mathrm{K}_{n-1}(x_{1\\alpha}) = \\frac{\\alpha}{2} = \\frac{0.01}{2} = 0.005$\n",
    "\n",
    "$x_{2\\alpha}: \\mathrm{K}_{n-1}(x_{2\\alpha}) = 1 - \\frac{\\alpha}{2} = 1 - 0.005 = 0.995$, так как распределение несимметричное.\n",
    "\n",
    "$\\mathbb{P}_{\\theta}\\left(x_{1\\alpha} \\le \\frac{nS^2}{\\sigma^2} \\le x_{2\\alpha}\\right) = 1 - \\alpha$\n",
    "\n",
    "$\\mathbb{P}_{\\theta}\\left(\\frac{nS^2}{x_{2\\alpha}} \\le \\sigma^2 \\le \\frac{nS^2}{x_{1\\alpha}}\\right) = 1 - \\alpha$\n",
    "\n",
    "Доверительный интервал:\n",
    "\n",
    "$$\\left[\\frac{nS^2}{x_{2\\alpha}}, \\frac{nS^2}{x_{1\\alpha}}\\right] \\ni \\sigma^2$$"
   ]
  },
  {
   "cell_type": "code",
   "execution_count": 755,
   "metadata": {},
   "outputs": [
    {
     "data": {
      "text/markdown": [
       "Доверительный интервал для параметра а: [1.01, 4.9]<br>         Доверительный интервал для параметра $\\sigma^2$: [16.54, 47.5]"
      ],
      "text/plain": [
       "<IPython.core.display.Markdown object>"
      ]
     },
     "execution_count": 755,
     "metadata": {},
     "output_type": "execute_result"
    }
   ],
   "source": [
    "alpha_2 = 0.01\n",
    "\n",
    "x_alpha = 0\n",
    "df = n - 1\n",
    "\n",
    "while st.t.cdf(x_alpha, df) < 0.995:\n",
    "    x_alpha += 0.001\n",
    "\n",
    "left_a = -(x_alpha * deviation)/(n - 1)**0.5 + mean\n",
    "right_a = (x_alpha * deviation)/(n - 1)**0.5 + mean\n",
    "\n",
    "x_1alpha = 0\n",
    "x_2alpha = 0\n",
    "while st.chi2.cdf(x_1alpha, df) < 0.005:\n",
    "    x_1alpha += 0.01\n",
    "while st.chi2.cdf(x_2alpha, df) < 0.995:\n",
    "    x_2alpha += 0.01\n",
    "\n",
    "left_sigma = (n*variance)/x_2alpha\n",
    "right_sigma = (n*variance)/x_1alpha\n",
    "\n",
    "CI_a = [round(left_a, 2), round(right_a, 2)]\n",
    "CI_sigma = [round(left_sigma, 2), round(right_sigma, 2)]\n",
    "\n",
    "Markdown(f\"Доверительный интервал для параметра а: {CI_a}<br>\\\n",
    "         Доверительный интервал для параметра $\\\\sigma^2$: {CI_sigma}\")"
   ]
  },
  {
   "cell_type": "markdown",
   "metadata": {},
   "source": [
    "### 2.e)\n",
    "С использованием теоремы Колмогорова построить критерий значимости проверки простой гипотезы согласия с нормальным распределением с параметрами $(a_0, \\sigma_0^2) = (-2.00, 25.00)$. Проверить гипотезу на уровне значимости $\\alpha_2 = 0.01$. Вычислить наибольшее значение уровня значимости, на котором ещё нет оснований отвергнуть данную гипотезу."
   ]
  },
  {
   "cell_type": "markdown",
   "metadata": {},
   "source": [
    "Выборочный критерий Колмогорова $\\eta = \\sqrt{n}D_n = 3.203$:"
   ]
  },
  {
   "cell_type": "code",
   "execution_count": 756,
   "metadata": {},
   "outputs": [
    {
     "name": "stdout",
     "output_type": "stream",
     "text": [
      "Критерий Колмогорова:  3.203\n"
     ]
    }
   ],
   "source": [
    "a = -2.00\n",
    "D = 25.00\n",
    "sigma = 5.00\n",
    "\n",
    "cdf = lambda x: st.norm.cdf(x, loc = a, scale = sigma)\n",
    "Dn, _ = st.kstest(data_2, cdf)\n",
    "\n",
    "eta = n**0.5 * Dn\n",
    "print('Критерий Колмогорова: ', round(eta, 3))"
   ]
  },
  {
   "cell_type": "markdown",
   "metadata": {},
   "source": [
    "Уровень значимости $\\alpha = 0.01$.<br>\n",
    "Квантиль Колмогорова $d_{1 - \\alpha}$, чтобы построить критическую область<br> \n",
    "$V_k = (d_{1 - \\alpha},+ \\infty)$"
   ]
  },
  {
   "cell_type": "code",
   "execution_count": 757,
   "metadata": {},
   "outputs": [
    {
     "name": "stdout",
     "output_type": "stream",
     "text": [
      "Квантиль:  1.628\n"
     ]
    }
   ],
   "source": [
    "alpha = 0.01\n",
    "d = st.kstwobign.ppf(1 - alpha)\n",
    "print('Квантиль: ', round(d, 3))"
   ]
  },
  {
   "cell_type": "markdown",
   "metadata": {},
   "source": [
    "$V_k = (1.628, + \\infty)$\n",
    "\n",
    "$\\eta \\in V_k \\Rightarrow$ гипотеза отвергается."
   ]
  },
  {
   "cell_type": "code",
   "execution_count": 758,
   "metadata": {},
   "outputs": [
    {
     "name": "stdout",
     "output_type": "stream",
     "text": [
      "Наибольшее значение уровня значимости, при котором нет оснований отвергнуть гипотезу:  2e-09\n"
     ]
    }
   ],
   "source": [
    "alpha = 2e-09\n",
    "while eta > d:\n",
    "    alpha += 1e-12\n",
    "    d = st.kstwobign.ppf(1 - alpha)\n",
    "\n",
    "print(\"Наибольшее значение уровня значимости, при котором нет оснований отвергнуть гипотезу: \",\n",
    "       round(alpha, 11))"
   ]
  },
  {
   "cell_type": "markdown",
   "metadata": {},
   "source": [
    "#### 2.f)\n",
    "Используя гистограмму частот, построить критерии значимости $\\chi^2$ проверки простой гипотезы согласия с нормальным распределением с параметрами $(a_0, \\sigma_0^2) = (-2.00, 25)$. Проверить гипотезу на уровне значимости $\\alpha_2 = 0.01$. Вычислить наибольшее значение уровня значимости, на котором ещё нет оснований отвергнуть данную гипотезу."
   ]
  },
  {
   "cell_type": "code",
   "execution_count": 759,
   "metadata": {},
   "outputs": [
    {
     "name": "stdout",
     "output_type": "stream",
     "text": [
      "P1 =  0.3113596717706816 , n*P1 =  15.567983588534078\n",
      "P2 =  0.20937598152159875 , n*P2 =  10.468799076079938\n",
      "P3 =  0.3254001163349849 , n*P3 =  16.270005816749244\n",
      "P4 =  0.15386423037273478 , n*P4 =  7.693211518636739\n",
      "n1 =  5 , n2 =  5 , n3 =  19 , n4 =  21\n",
      "Статистика критерия:  33.51\n",
      "Табличное значение: 11.34\n",
      "Гипотеза отвергается\n",
      "Наибольший уровень значимости:  2.520000000000069e-07\n"
     ]
    }
   ],
   "source": [
    "a = -2\n",
    "sigma = 5\n",
    "alpha_2 = 0.01\n",
    "\n",
    "edges = [-4.46, -1.74, 3.1, 12.13] \n",
    "\n",
    "p1 = st.norm.cdf(edges[0], a, sigma)\n",
    "p2 = st.norm.cdf(edges[1], a, sigma) - st.norm.cdf(edges[0], a, sigma)\n",
    "p3 = st.norm.cdf(edges[2], a, sigma) - st.norm.cdf(edges[1], a, sigma)\n",
    "p4 = 1 - p1 - p2 - p3\n",
    "print('P1 = ', p1, ', n*P1 = ', n * p1)\n",
    "print('P2 = ', p2, ', n*P2 = ', n * p2)\n",
    "print('P3 = ', p3, ', n*P3 = ', n * p3)\n",
    "print('P4 = ', p4, ', n*P4 = ', n * p4)\n",
    "\n",
    "groups = [[],[],[],[]]\n",
    "cur_edge_index = 0\n",
    "cur_group = 0\n",
    "\n",
    "for item in data_2:\n",
    "    cur_edge = edges[cur_edge_index]\n",
    "    if item <= cur_edge:\n",
    "        groups[cur_group].append(item)\n",
    "    else:\n",
    "        cur_group += 1\n",
    "        groups[cur_group].append(item)\n",
    "        cur_edge_index += 1\n",
    "\n",
    "n1, n2, n3, n4 = len(groups[0]), len(groups[1]), len(groups[2]), len(groups[3])\n",
    "print('n1 = ', n1, ', n2 = ', n2, ', n3 = ', n3, ', n4 = ', n4)\n",
    "\n",
    "chi = ((n1 - n*p1)**2) / (n*p1) + ((n2 - n*p2)**2) / (n*p2) +\\\n",
    "      ((n3 - n*p3)**2) / (n*p3) + ((n4 - n*p4)**2) / (n*p4)\n",
    "print(\"Статистика критерия: \", round(chi, 2))\n",
    "print('Табличное значение:', round(st.chi2.ppf(1 - alpha_2, 3), 2))\n",
    "\n",
    "if chi > st.chi2.ppf(1 - alpha_2, 3):\n",
    "    print('Гипотеза отвергается')\n",
    "else:\n",
    "    print('Гипотеза принимается')\n",
    "\n",
    "alpha = 1e-10\n",
    "while chi < st.chi2.ppf(1 - alpha, 3):\n",
    "    alpha += 1e-10\n",
    "print('Наибольший уровень значимости: ', alpha)"
   ]
  },
  {
   "cell_type": "markdown",
   "metadata": {},
   "source": [
    "Статистика критерия $\\chi^2 = \\sum \\limits_{i=1}^4 \\large \\frac{\\left(n_i - n\\mathbb{P}_i\\right)^2}{n\\mathbb{P}_i}  \\normalsize = 33.51$<br><br>\n",
    "Табличное значение: $\\chi_{k-1, \\alpha_2}^2 = \\chi_{3, 0.01}^2 = 11.34$ <br><br>\n",
    "Так как $\\chi^2 > \\chi_{3, 0.01}^2$ , то гипотеза отвергается. <br><br>\n",
    "\n",
    "Наибольшее значение уровня значимости, при котором ещё нет оснований отвергнуть данную гипотезу, $\\alpha = 2.52e-07$"
   ]
  },
  {
   "cell_type": "markdown",
   "metadata": {},
   "source": [
    "### 2.g)\n",
    "Построить критерий проверки значимости $\\chi^2$ сложной гипотезы согласия с нормальным распределением. Проверить гипотезу на уровне значимости $\\alpha_2 = 0.01$. Вычислить наибольшее значение уровня значимости, на котором ещё нет оснований отвергнуть данную гипотезу."
   ]
  },
  {
   "cell_type": "code",
   "execution_count": 760,
   "metadata": {},
   "outputs": [
    {
     "name": "stdout",
     "output_type": "stream",
     "text": [
      "P1 =  0.1602584499225015 , n*P1 =  8.012922496125075\n",
      "P2 =  0.22123060316754617 , n*P2 =  11.061530158377309\n",
      "P3 =  0.3155969201094533 , n*P3 =  15.779846005472663\n",
      "P4 =  0.30291402680049906 , n*P4 =  15.145701340024953\n",
      "n1 =  9 , n2 =  7 , n3 =  20 , n4 =  14\n",
      "Статистика критерия:  2.83\n",
      "Табличное значение: 6.63\n",
      "Гипотеза принимается\n",
      "Наибольший уровень значимости:  0.093\n"
     ]
    }
   ],
   "source": [
    "a = mean\n",
    "sigma = deviation\n",
    "alpha_2 = 0.01\n",
    "\n",
    "edges = [-2.1, 1.42, 5.58, 12.13] \n",
    "\n",
    "p1 = st.norm.cdf(edges[0], a, sigma)\n",
    "p2 = st.norm.cdf(edges[1], a, sigma) - st.norm.cdf(edges[0], a, sigma)\n",
    "p3 = st.norm.cdf(edges[2], a, sigma) - st.norm.cdf(edges[1], a, sigma)\n",
    "p4 = 1 - p1 - p2 - p3\n",
    "print('P1 = ', p1, ', n*P1 = ', n * p1)\n",
    "print('P2 = ', p2, ', n*P2 = ', n * p2)\n",
    "print('P3 = ', p3, ', n*P3 = ', n * p3)\n",
    "print('P4 = ', p4, ', n*P4 = ', n * p4)\n",
    "\n",
    "groups = [[],[],[],[]]\n",
    "cur_edge_index = 0\n",
    "cur_group = 0\n",
    "\n",
    "for item in data_2:\n",
    "    cur_edge = edges[cur_edge_index]\n",
    "    if item <= cur_edge:\n",
    "        groups[cur_group].append(item)\n",
    "    else:\n",
    "        cur_group += 1\n",
    "        groups[cur_group].append(item)\n",
    "        cur_edge_index += 1\n",
    "\n",
    "n1, n2, n3, n4 = len(groups[0]), len(groups[1]), len(groups[2]), len(groups[3])\n",
    "print('n1 = ', n1, ', n2 = ', n2, ', n3 = ', n3, ', n4 = ', n4)\n",
    "\n",
    "chi = ((n1 - n*p1)**2) / (n*p1) + ((n2 - n*p2)**2) / (n*p2) +\\\n",
    "      ((n3 - n*p3)**2) / (n*p3) + ((n4 - n*p4)**2) / (n*p4)\n",
    "print(\"Статистика критерия: \", round(chi, 2))\n",
    "print('Табличное значение:', round(st.chi2.ppf(1 - alpha_2, 1), 2))\n",
    "\n",
    "if chi > st.chi2.ppf(1 - alpha_2, 1):\n",
    "    print('Гипотеза отвергается')\n",
    "else:\n",
    "    print('Гипотеза принимается')\n",
    "\n",
    "alpha = 0.01\n",
    "while chi < st.chi2.ppf(1 - alpha, 1):\n",
    "    alpha += 0.001\n",
    "print('Наибольший уровень значимости: ', round(alpha,3))"
   ]
  },
  {
   "cell_type": "markdown",
   "metadata": {},
   "source": [
    "Статистика критерия $\\chi^2 = \\sum \\limits_{i=1}^4 \\large \\frac{\\left(n_i - n\\mathbb{P}_i\\right)^2}{n\\mathbb{P}_i}  \\normalsize = 2.83$<br><br>\n",
    "Табличное значение: $\\chi_{k-1-r, \\alpha_2}^2 = \\chi_{1, 0.01}^2 = 6.63$ <br><br>\n",
    "Так как $\\chi^2 < \\chi_{1, 0.01}^2$ , нет основания отвургнуть гипотезу. <br><br>\n",
    "\n",
    "Наибольшее значение уровня значимости, при котором ещё нет оснований отвергнуть данную гипотезу, $\\alpha = 0.093$"
   ]
  },
  {
   "cell_type": "markdown",
   "metadata": {},
   "source": [
    "#### 2.h)\n",
    "Построить наиболее мощный критерий проверки простой гипотезы о нормальности с параметром $\\left(a, \\sigma^2\\right) = \\left(a_0, \\sigma_0^2\\right) = \\left(-2.00, 25\\right)$ при альтернативе нормальности с параметром $\\left(a, \\sigma^2\\right) = \\left(a_1, \\sigma_1^2\\right) = \\left(3, 25\\right)$. Проверить гипотезу на уровне значимости $\\alpha_2 = 0.01$. Что получится, если поменять местами основновную и альтернативную гипотезы?\n",
    "\n",
    "Нулевая гипотеза $H_0: \\theta_0 = \\left( a_0, \\sigma^2_0\\right) = (-2, 25)$\n",
    "\n",
    "Альтернативная гипотеза $H_1: \\theta_1 = \\left( a_1, \\sigma^2_1\\right) = (3, 25)$\n",
    "\n",
    "Функция правдоподобия:\n",
    "\n",
    "$\\mathrm{L}\\left(\\vec{X}, \\vec{\\theta}\\right) = \\left(2\\pi \\right)^{-\\frac{n}{2}} \\cdot \\sigma^{-n} \\cdot \\exp{\\left(-\\frac{1}{2\\sigma^2} \\sum \\limits_{i = 1}^n (x_i - a)^2\\right)}$\n",
    "\n",
    "Статистика отношения правдоподобия:\n",
    "\n",
    "$\\mathrm{LR}\\left(\\vec{X}, \\vec{\\theta_0}, \\vec{\\theta_1}\\right) = \\frac{\\mathrm{L}\\left(\\vec{X}, \\vec{\\theta_1}\\right)}{\\mathrm{L}\\left(\\vec{X}, \\vec{\\theta_0}\\right)} = \\exp{\\left(\\frac{n}{2\\sigma^2}\\left(a_0^2 - a_1^2\\right) + \\frac{1}{\\sigma^2}\\sum \\limits_{i = 1}^n x_i \\cdot \\left(a_1 - a_0\\right)\\right)}$ - монотонно возрастающая функция от $\\sum \\limits_{i = 1}^n x_i$.  $\\sigma = \\sigma_0 = \\sigma_1 = 5$\n",
    "\n",
    "$\\frac{n}{2\\sigma^2}\\left(a_0^2 - a_1^2\\right) + \\frac{1}{\\sigma^2} \\sum \\limits_{i = 1}^n x_i \\cdot \\left(a_1 - a_0\\right) > \\ln{c}$\n",
    "\n",
    "$\\overline{X} > \\large \\frac{2\\sigma^2\\ln{c} - n\\left(a_0^2 - a_1^2\\right)}{2n\\left(a_1 - a_0\\right)}$\n",
    "\n",
    "В силу монотонности статистики LR относительно $\\overline{X}$:\n",
    "\n",
    "$\\mathrm{LR} > c \\iff \\overline{X} > c^*$\n",
    "\n",
    "$\\mathrm{LR} < c \\iff \\overline{X} < c^*$\n",
    "\n",
    "$$ \\phi(x) =\\left\\{\\begin{array}{l} 1, \\overline{X} > c^* \\\\ p, \\overline{X} = c^* \\\\ 0, \\overline{X} < c^*\\\\ \\end{array}\\right.$$\n",
    "\n",
    "Используя ЦПТ, получаем эквивалентный критерий:\n",
    "\n",
    "$\\sqrt{n} \\frac{\\overline{X} - a_0}{\\sigma} \\sim \\mathcal{N}(0, 1)$ при $H_0$\n",
    "\n",
    "$\\sqrt{n} \\frac{\\overline{X} - a_0}{\\sigma} = 5.495$\n",
    "\n",
    "Квантиль:\n",
    "\n",
    "$c^* : \\Phi(c^*) = 1 - \\alpha_2 = 1 - 0.01 = 0.99$\n",
    "$c^* = 2.326$\n",
    "\n",
    "Так как $\\sqrt{n} \\frac{\\overline{X} - a_0}{\\sigma} > c^*$, гипотезу отвергаем"
   ]
  },
  {
   "cell_type": "code",
   "execution_count": 761,
   "metadata": {},
   "outputs": [
    {
     "name": "stdout",
     "output_type": "stream",
     "text": [
      "c_alpha = 2.3263478740408408\n",
      "LR = 5.495642797806768\n"
     ]
    }
   ],
   "source": [
    "c_alpha = 0\n",
    "c_alpha = st.norm.ppf(0.99)\n",
    "print('c_alpha =', c_alpha)\n",
    "\n",
    "a_0 = -1\n",
    "clt = ((mean - a_0)/sigma) * n**0.5\n",
    "print('LR =', clt)"
   ]
  },
  {
   "cell_type": "markdown",
   "metadata": {},
   "source": [
    "**Поменяем местамим основную и альтернативную гипотезы:**\n",
    "\n",
    "*Нулевая гипотеза* $H_0: \\theta_0 = \\left( a_1, \\sigma^2_1\\right) = (3, 25)$\n",
    "\n",
    "*Альтернативная гипотеза* $H_1: \\theta_1 = \\left( a_0, \\sigma^2_0\\right) = (-2, 25)$\n",
    "\n",
    "*Статистика отношения правдоподобия:*\n",
    "\n",
    "$\\mathrm{LR}\\left(\\vec{X}, \\vec{\\theta_0}, \\vec{\\theta_1}\\right) = \\frac{\\mathrm{L}\\left(\\vec{X}, \\vec{\\theta_1}\\right)}{\\mathrm{L}\\left(\\vec{X}, \\vec{\\theta_0}\\right)} = \\exp{\\left(\\frac{n}{2\\sigma^2}\\left(a_1^2 - a_0^2\\right) + \\frac{1}{\\sigma^2}\\sum \\limits_{i = 1}^n x_i \\cdot \\left(a_0 - a_1\\right)\\right)}$ - монотонная функция от $\\sum \\limits_{i = 1}^n x_i$. Здесь $\\sigma = \\sigma_0 = \\sigma_1 = 5$\n",
    "\n",
    "$\\frac{n}{2\\sigma^2}\\left(a_1^2 - a_0^2\\right) + \\frac{1}{\\sigma^2}\\sum \\limits_{i = 1}^n x_i \\cdot \\left(a_0 - a_1\\right) > \\ln{c}$\n",
    "\n",
    "Т.к. $a_0 < a_1$ - знак меняется\n",
    "\n",
    "$\\overline{X} < \\large \\frac{2\\sigma^2\\ln{c} - n\\left(a_1^2 - a_0^2\\right)}{2n\\left(a_0 - a_1\\right)}$\n",
    "\n",
    "В силу монотонности статистики LR относительно $\\overline{X}$:\n",
    "\n",
    "$\\mathrm{LR} > c \\iff \\overline{X} < c^*$\n",
    "\n",
    "$\\mathrm{LR} < c \\iff \\overline{X} > c^*$\n",
    "\n",
    "Тогда получим:\n",
    "$$ \\phi(x) =\\left\\{\n",
    "  \\begin{array}{l}\n",
    "    1, \\overline{X} < c^* \\\\\n",
    "    p, \\overline{X} = c^* \\\\\n",
    "    0, \\overline{X} > c^*\\\\\n",
    "  \\end{array}\\right.$$\n",
    "  \n",
    "Используя ЦПТ, получаем эквивалентный критерий:\n",
    "\n",
    "$\\sqrt{n} \\frac{\\overline{X} - a_1}{\\sigma} \\sim \\mathcal{N}(0, 1)$ при $H_1$\n",
    "\n",
    "$\\mathbb{P}\\left(\\sqrt{n}\\frac{\\overline{X} - a_1}{\\sigma} \\geq \\sqrt{n}\\frac{c^* - a_1}{\\sigma}\\right) = 1 - \\Phi\\left(\\sqrt{n}\\frac{c^* - a_1}{\\sigma}\\right) = \\alpha_2$\n",
    "\n",
    "$\\sqrt{n}\\frac{c^* - a_1}{\\sigma} = x_{\\alpha}$\n",
    "\n",
    "$x_{\\alpha} : \\Phi(x_{\\alpha}) = 1 - \\alpha_2 = 1 - 0.01 = 0.99$\n",
    "\n",
    "Так как $\\overline{X} < c^*$, гипотеза отвергается"
   ]
  },
  {
   "cell_type": "code",
   "execution_count": 762,
   "metadata": {},
   "outputs": [
    {
     "name": "stdout",
     "output_type": "stream",
     "text": [
      "2.9544\n",
      "4.644976357133187\n"
     ]
    }
   ],
   "source": [
    "x_alpha = st.norm.ppf(0.99)\n",
    "sigma = 5\n",
    "a_1 = 3\n",
    "c_star = (x_alpha * sigma)/n**0.5 + a_1\n",
    "print(mean)\n",
    "print(c_star)"
   ]
  },
  {
   "cell_type": "markdown",
   "metadata": {},
   "source": [
    "#### 2.i)\n",
    "В пунктах (c) - (g) заменить семейство нормальных распределенеий на двухпараметрическое семейство распределений Лапласа с плотностями:\n",
    "\n",
    "$$p_{a, \\sigma}(x) = \\frac{1}{\\sqrt{2}\\sigma} \\exp{\\left(-\\frac{\\sqrt{2}}{\\sigma} \\left| x - a\\right|\\right)}$$"
   ]
  },
  {
   "cell_type": "markdown",
   "metadata": {},
   "source": [
    "2.i.c)\n",
    "\n",
    "ОМП:\n",
    "\n",
    "$\\mathrm{L}\\left(\\vec{X}, \\vec{\\theta}\\right) = 2^{-\\frac{n}{2}} \\sigma^{-n} \\exp\\left(-\\frac{\\sqrt{2}}{\\sigma} \\sum \\limits_{i = 1}^{n} |x_i - a|\\right)$\n",
    "\n",
    "$\\mathrm{LL}\\left(\\vec{X}, \\vec{\\theta}\\right) = -\\frac{n}{2}\\ln{2} - n\\ln{\\sigma} - \\frac{\\sqrt{2}}{\\sigma}\\sum \\limits_{i = 1}^{n} |x_i - a|$\n",
    "\n",
    "$\\frac{\\partial\\mathrm{LL}}{\\partial a} = -\\Large\\frac{\\sqrt{2}}{\\widehat{\\sigma}} \\normalsize \\sum \\limits_{i = 1}^n \\mathrm{sgn}\\left(x_i - a\\right) = 0$\n",
    "\n",
    "$\\widehat{a} = z_{n, \\frac{1}{2}} = \\begin{cases} X_{\\lfloor \\frac{n}{2} \\rfloor + 1} , np \\in \\mathbb{Z} \\\\ \\\\ \\left[X_{\\left(\\frac{n}{2}\\right)}, X_{\\left(\\frac{n}{2} + 1\\right)}\\right), np \\notin \\mathbb{Z} \\end{cases}$\n",
    "\n",
    "$\\frac{\\partial\\mathrm{LL}}{\\partial \\sigma} = -\\frac{n}{\\sigma} + \\frac{\\sqrt{2}}{\\sigma^2}\\sum \\limits_{i = 1}^{n} |x_i - \\widehat{a}| = 0 \\Rightarrow \\widehat{\\sigma}^2 = \\frac{2}{n^2}\\left(\\sum \\limits_{i = 1}^{n} |x_i - \\widehat{a}|\\right)^2$ - ОМП параметра $\\sigma^2$\n",
    "\n",
    "$\\widehat{\\theta} = \\left(\\widehat{a}, \\widehat{\\sigma}^2 \\right)$<br>\n",
    "\n",
    "ОММ:\n",
    "\n",
    "$\\mathbb{E}x = a$ , $\\mathrm{M}_1 = \\overline{X}$\n",
    "\n",
    "$\\mathbb{E}x^2 = \\sigma^2 + a^2$, $\\mathrm{M}_2 = \\overline{X^2}$\n",
    "\n",
    "Система уравнений:\n",
    " $\\begin{equation} \\begin{cases} \\overline{X} = a \\\\ \\overline{X^2} = a^2 + \\sigma^2 \\end{cases}\\end{equation}$\n",
    "\n",
    "$\\widetilde{\\theta} = \\left(\\widetilde{a}, \\widetilde{\\sigma^2}\\right) = \\left(\\overline{X}, S^2\\right)$<br>\n",
    "\n",
    "$\\mathbb{E}_{\\theta} \\widehat{a} = \\mathbb{E}_{\\theta}z_{n, \\frac{1}{2}} = a$, несмещенная $\\Rightarrow смещение = 0$.\n",
    "\n",
    "$\\mathbb{E}_{\\theta} \\widehat{\\sigma^2} \\neq \\sigma^2$, смещенная оценка.\n",
    "\n",
    "$\\mathbb{E}_{\\theta} \\widetilde{a} = \\mathbb{E}_{\\theta} \\overline{X} = a$, несмещенная $\\Rightarrow смещение = 0$.\n",
    "\n",
    "$\\mathbb{E}_{\\theta}\\widetilde{\\sigma^2} = \\mathbb{E}_{\\theta} S^2 = \\frac{n -1}{n} \\sigma^2$, смещение $=-\\frac{\\sigma^2}{n}$."
   ]
  },
  {
   "cell_type": "markdown",
   "metadata": {},
   "source": [
    "2.i.d)<br>\n",
    "Аналогично пункту 2.d)<br>\n",
    "\n",
    "$\\theta = a$\n",
    "\n",
    "$$\\left[-\\frac{x_{\\alpha} \\cdot S}{\\sqrt{n - 1}} + \\overline{X}, \\frac{x_{\\alpha} \\cdot S}{\\sqrt{n - 1}} + \\overline{X}\\right] \\ni a$$\n",
    "\n",
    "Квантили:\n",
    "\n",
    "$x_{\\alpha}: \\mathrm{S}_{n-1}(x_{\\alpha}) = 1 - \\frac{\\alpha}{2}  = 1 - \\frac{0.01}{2} = 0.995 $<br> \n",
    "\n",
    "Так как распределение Стьюдента симметричное.\n",
    "$\\mathbb{P}_{\\theta}\\left(-x_{\\alpha} \\le \\sqrt{n - 1} \\cdot \\frac{\\overline{X} - a}{S} \\le x_{\\alpha}\\right) = 1 - \\alpha$\n",
    "\n",
    "$\\mathbb{P}_{\\theta}\\left(-\\frac{x_{\\alpha} \\cdot S}{\\sqrt{n - 1}} + \\overline{X} \\le a \\le \\frac{x_{\\alpha} \\cdot S}{\\sqrt{n - 1}} + \\overline{X}\\right) = 1 - \\alpha$\n",
    "\n",
    "Доверительный интервал:\n",
    "\n",
    "$$\\left[-\\frac{x_{\\alpha} \\cdot S}{\\sqrt{n - 1}} + \\overline{X}, \\frac{x_{\\alpha} \\cdot S}{\\sqrt{n - 1}} + \\overline{X}\\right] \\ni a$$\n",
    "\n",
    "<br><br>\n",
    "\n",
    "$\\theta = \\sigma^2$\n",
    "\n",
    "Квантили:\n",
    "\n",
    "$x_{1\\alpha}: \\mathrm{K}_{n-1}(x_{1\\alpha}) = \\frac{\\alpha}{2} = \\frac{0.01}{2} = 0.005 \\Rightarrow x_{1\\alpha} = $\n",
    "\n",
    "$x_{2\\alpha}: \\mathrm{K}_{n-1}(x_{2\\alpha}) = 1 - \\frac{\\alpha}{2} = 1 - 0.005 = 0.995 \\Rightarrow x_{2\\alpha} = $ , так как распределение несимметричное.\n",
    "\n",
    "$\\mathbb{P}_{\\theta}\\left(x_{1\\alpha} \\le \\frac{nS^2}{\\sigma^2} \\le x_{2\\alpha}\\right) = 1 - \\alpha$\n",
    "\n",
    "$\\mathbb{P}_{\\theta}\\left(\\frac{nS^2}{x_{2\\alpha}} \\le \\sigma^2 \\le \\frac{nS^2}{x_{1\\alpha}}\\right) = 1 - \\alpha$\n",
    "\n",
    "Доверительный интервал:\n",
    "\n",
    "$$\\left[\\frac{nS^2}{x_{2\\alpha}}, \\frac{nS^2}{x_{1\\alpha}}\\right] \\ni \\sigma^2$$"
   ]
  },
  {
   "cell_type": "code",
   "execution_count": 763,
   "metadata": {},
   "outputs": [
    {
     "data": {
      "text/markdown": [
       "Доверительный интервал для параметра а: [1.01, 4.9]<br>         Доверительный интервал для параметра $\\sigma^2$: [16.54, 47.5]"
      ],
      "text/plain": [
       "<IPython.core.display.Markdown object>"
      ]
     },
     "execution_count": 763,
     "metadata": {},
     "output_type": "execute_result"
    }
   ],
   "source": [
    "alpha_2 = 0.01\n",
    "\n",
    "x_alpha = 0\n",
    "df = n - 1\n",
    "\n",
    "while st.t.cdf(x_alpha, df) < 0.995:\n",
    "    x_alpha += 0.001\n",
    "\n",
    "left_a = -(x_alpha * deviation)/(n - 1)**0.5 + mean\n",
    "right_a = (x_alpha * deviation)/(n - 1)**0.5 + mean\n",
    "\n",
    "x_1alpha = 0\n",
    "x_2alpha = 0\n",
    "while st.chi2.cdf(x_1alpha, df) < 0.005:\n",
    "    x_1alpha += 0.01\n",
    "while st.chi2.cdf(x_2alpha, df) < 0.995:\n",
    "    x_2alpha += 0.01\n",
    "\n",
    "left_sigma = (n*variance)/x_2alpha\n",
    "right_sigma = (n*variance)/x_1alpha\n",
    "\n",
    "CI_a = [round(left_a, 2), round(right_a, 2)]\n",
    "CI_sigma = [round(left_sigma, 2), round(right_sigma, 2)]\n",
    "\n",
    "Markdown(f\"Доверительный интервал для параметра а: {CI_a}<br>\\\n",
    "         Доверительный интервал для параметра $\\\\sigma^2$: {CI_sigma}\")"
   ]
  },
  {
   "cell_type": "markdown",
   "metadata": {},
   "source": [
    "2.i.e)\n",
    "\n",
    "Выборочный критерий Колмогорова $\\eta = \\sqrt{n}D_n = 3.2$\n",
    "\n",
    "Уровень значимости $\\alpha = 0.01$. Вычислим квантиль Колмогорова $d_{1 - \\alpha}$, чтобы построить критическую область $V_k = (d_{1 - \\alpha},+ \\infty) = (1.63,+ \\infty)$\n",
    "\n",
    "Так как $\\eta \\in V_k \\Rightarrow$ гипотеза отвергается.\n",
    "\n",
    "Наибольший уровень значимости, при котором ещё нет оснований отвергнуть гипотезу: $\\alpha = 2e-09$"
   ]
  },
  {
   "cell_type": "code",
   "execution_count": 764,
   "metadata": {},
   "outputs": [
    {
     "name": "stdout",
     "output_type": "stream",
     "text": [
      "Критерий Колмогорова:  3.204\n",
      "Квантиль:  1.628\n",
      "Наибольшее значение уровня значимости, при котором нет оснований отвергнуть гипотезу:  2e-09\n"
     ]
    }
   ],
   "source": [
    "a = -2\n",
    "D = 25\n",
    "sigma = np.sqrt(D)\n",
    " \n",
    "cdf = lambda x: st.laplace.cdf(x, a, sigma)\n",
    "Dn, _ = st.kstest(data_2, cdf)\n",
    "eta = n**0.5 * Dn\n",
    "print('Критерий Колмогорова: ', round(eta, 3))\n",
    "\n",
    "alpha = 0.01\n",
    "d = st.kstwobign.ppf(1 - alpha)\n",
    "print('Квантиль: ', round(d, 3))\n",
    "\n",
    "alpha = 2e-09\n",
    "while eta > d:\n",
    "    alpha += 1e-12\n",
    "    d = st.kstwobign.ppf(1 - alpha)\n",
    "print('Наибольшее значение уровня значимости, при котором нет оснований отвергнуть гипотезу: ',\n",
    "       round(alpha, 11))"
   ]
  },
  {
   "cell_type": "markdown",
   "metadata": {},
   "source": [
    "2.i.f)\n"
   ]
  },
  {
   "cell_type": "code",
   "execution_count": 765,
   "metadata": {},
   "outputs": [
    {
     "name": "stdout",
     "output_type": "stream",
     "text": [
      "P1 =  0.30570118291620435 , n*P1 =  15.285059145810218\n",
      "P2 =  0.21963438366235094 , n*P2 =  10.981719183117548\n",
      "P3 =  0.29436696333490553 , n*P3 =  14.718348166745276\n",
      "P4 =  0.18029747008653912 , n*P4 =  9.014873504326957\n",
      "n1 =  5 , n2 =  5 , n3 =  19 , n4 =  21\n",
      "Статистика критерия:  27.36\n",
      "Табличное значение: 11.34\n",
      "Гипотеза отвергается\n",
      "Наибольший уровень значимости:  4.951799999998729e-06\n"
     ]
    }
   ],
   "source": [
    "a = -2\n",
    "sigma = 5\n",
    "alpha_2 = 0.01\n",
    "\n",
    "edges = [-4.46, -1.74, 3.1, 12.13] \n",
    "\n",
    "p1 = st.laplace.cdf(edges[0], a, sigma)\n",
    "p2 = st.laplace.cdf(edges[1], a, sigma) - st.laplace.cdf(edges[0], a, sigma)\n",
    "p3 = st.laplace.cdf(edges[2], a, sigma) - st.laplace.cdf(edges[1], a, sigma)\n",
    "p4 = 1 - p1 - p2 - p3\n",
    "print('P1 = ', p1, ', n*P1 = ', n * p1)\n",
    "print('P2 = ', p2, ', n*P2 = ', n * p2)\n",
    "print('P3 = ', p3, ', n*P3 = ', n * p3)\n",
    "print('P4 = ', p4, ', n*P4 = ', n * p4)\n",
    "\n",
    "groups = [[],[],[],[]]\n",
    "cur_edge_index = 0\n",
    "cur_group = 0\n",
    "\n",
    "for item in data_2:\n",
    "    cur_edge = edges[cur_edge_index]\n",
    "    if item <= cur_edge:\n",
    "        groups[cur_group].append(item)\n",
    "    else:\n",
    "        cur_group += 1\n",
    "        groups[cur_group].append(item)\n",
    "        cur_edge_index += 1\n",
    "\n",
    "n1, n2, n3, n4 = len(groups[0]), len(groups[1]), len(groups[2]), len(groups[3])\n",
    "print('n1 = ', n1, ', n2 = ', n2, ', n3 = ', n3, ', n4 = ', n4)\n",
    "\n",
    "chi = ((n1 - n*p1)**2) / (n*p1) + ((n2 - n*p2)**2) / (n*p2) +\\\n",
    "      ((n3 - n*p3)**2) / (n*p3) + ((n4 - n*p4)**2) / (n*p4)\n",
    "print(\"Статистика критерия: \", round(chi, 2))\n",
    "print('Табличное значение:', round(st.chi2.ppf(1 - alpha_2, 3), 2))\n",
    "\n",
    "if chi > st.chi2.ppf(1 - alpha_2, 3):\n",
    "    print('Гипотеза отвергается')\n",
    "else:\n",
    "    print('Гипотеза принимается')\n",
    "\n",
    "alpha = 1e-10\n",
    "while chi < st.chi2.ppf(1 - alpha, 3):\n",
    "    alpha += 1e-10\n",
    "print('Наибольший уровень значимости: ', alpha)"
   ]
  },
  {
   "cell_type": "markdown",
   "metadata": {},
   "source": [
    "Статистика критерия $\\chi^2 = \\sum \\limits_{i=1}^4 \\large \\frac{\\left(n_i - n\\mathbb{P}_i\\right)^2}{n\\mathbb{P}_i}  \\normalsize = 27.36$<br><br>\n",
    "Табличное значение: $\\chi_{k-1, \\alpha_2}^2 = \\chi_{3, 0.01}^2 = 11.34$ <br><br>\n",
    "Так как $\\chi^2 > \\chi_{3, 0.01}^2$ , то гипотеза отвергается. <br><br>\n",
    "\n",
    "Наибольшее значение уровня значимости, при котором ещё нет оснований отвергнуть данную гипотезу, $\\alpha = 4.95e-06$"
   ]
  },
  {
   "cell_type": "markdown",
   "metadata": {},
   "source": [
    "2.i.g)"
   ]
  },
  {
   "cell_type": "code",
   "execution_count": 766,
   "metadata": {},
   "outputs": [
    {
     "name": "stdout",
     "output_type": "stream",
     "text": [
      "P1 =  0.2943573525848647 , n*P1 =  14.717867629243234\n",
      "P2 =  0.21120250197160978 , n*P2 =  10.560125098580489\n",
      "P3 =  0.17898503551471323 , n*P3 =  8.94925177573566\n",
      "P4 =  0.31545510992881237 , n*P4 =  15.772755496440618\n",
      "[[-7.77, -7.49, -6.41, -6.15, -5.46, -4.23, -2.81, -2.78, -2.1], [-1.74, -0.9, -0.53, 0.44, 0.6, 1.01, 1.42, 1.5, 1.55, 1.91, 1.94, 2.06, 2.42, 2.69, 2.69, 2.77, 2.98], [3.02, 3.09, 3.1, 3.67, 3.68, 4.0, 5.31, 5.51, 5.58, 5.58, 6.22, 6.64, 6.9, 6.94, 7.2], [8.56, 9.69, 9.8, 9.96, 10.13, 10.83, 11.23, 11.34, 12.13]]\n",
      "n1 =  9 , n2 =  17 , n3 =  15 , n4 =  9\n",
      "Статистика критерия:  13.15\n",
      "Табличное значение: 6.63\n",
      "Гипотеза отвергается\n",
      "Наибольший уровень значимости:  0.00029\n"
     ]
    }
   ],
   "source": [
    "a = median_\n",
    "sum_ = 0\n",
    "for item in data_2:\n",
    "    sum_ += abs(item + median_)\n",
    "sigma = (2**0.5/n) * sum_\n",
    "\n",
    "alpha_2 = 0.01\n",
    "\n",
    "edges = [-2.1, 2.98, 7.2, 12.13] \n",
    "\n",
    "\n",
    "p1 = st.laplace.cdf(edges[0], a, sigma)\n",
    "p2 = st.laplace.cdf(edges[1], a, sigma) - st.laplace.cdf(edges[0], a, sigma)\n",
    "p3 = st.laplace.cdf(edges[2], a, sigma) - st.laplace.cdf(edges[1], a, sigma)\n",
    "p4 = 1 - p1 - p2 - p3\n",
    "print('P1 = ', p1, ', n*P1 = ', n * p1)\n",
    "print('P2 = ', p2, ', n*P2 = ', n * p2)\n",
    "print('P3 = ', p3, ', n*P3 = ', n * p3)\n",
    "print('P4 = ', p4, ', n*P4 = ', n * p4)\n",
    "\n",
    "groups = [[],[],[],[]]\n",
    "cur_edge_index = 0\n",
    "cur_group = 0\n",
    "\n",
    "for item in data_2:\n",
    "    cur_edge = edges[cur_edge_index]\n",
    "    if item <= cur_edge:\n",
    "        groups[cur_group].append(item)\n",
    "    else:\n",
    "        cur_group += 1\n",
    "        groups[cur_group].append(item)\n",
    "        cur_edge_index += 1\n",
    "\n",
    "print(groups)\n",
    "\n",
    "n1, n2, n3, n4 = len(groups[0]), len(groups[1]), len(groups[2]), len(groups[3])\n",
    "print('n1 = ', n1, ', n2 = ', n2, ', n3 = ', n3, ', n4 = ', n4)\n",
    "\n",
    "chi = ((n1 - n*p1)**2) / (n*p1) + ((n2 - n*p2)**2) / (n*p2) +\\\n",
    "      ((n3 - n*p3)**2) / (n*p3) + ((n4 - n*p4)**2) / (n*p4)\n",
    "print(\"Статистика критерия: \", round(chi, 2))\n",
    "print('Табличное значение:', round(st.chi2.ppf(1 - alpha_2, 1), 2))\n",
    "\n",
    "if chi > st.chi2.ppf(1 - alpha_2, 1):\n",
    "    print('Гипотеза отвергается')\n",
    "else:\n",
    "    print('Гипотеза принимается')\n",
    "\n",
    "alpha = 0.01\n",
    "while chi > st.chi2.ppf(1 - alpha, 1):\n",
    "    alpha -= 1e-6\n",
    "print('Наибольший уровень значимости: ', round(alpha, 5))"
   ]
  },
  {
   "cell_type": "markdown",
   "metadata": {},
   "source": [
    "Статистика критерия $\\chi^2 = \\sum \\limits_{i=1}^4 \\large \\frac{\\left(n_i - n\\mathbb{P}_i\\right)^2}{n\\mathbb{P}_i}  \\normalsize = 13.15$<br><br>\n",
    "Табличное значение: $\\chi_{k-1-r, \\alpha_2}^2 = \\chi_{1, 0.01}^2 = 6.63$ <br><br>\n",
    "Так как $\\chi^2 > \\chi_{1, 0.01}^2$ , то гипотеза отвергается. <br><br>\n",
    "\n",
    "Наибольшее значение уровня значимости, при котором ещё нет оснований отвергнуть данную гипотезу, $\\alpha = 0.00028$"
   ]
  },
  {
   "cell_type": "markdown",
   "metadata": {},
   "source": [
    "## Выводы\n",
    "\n",
    "В результате практической работы были освоены навыки применения методов математической статистики для решения задач статистического анализа. Были углубленно изучены и успешно применены методы различных библиотек, содержащие статистические функции.\n",
    "\n",
    "Проведен анализ данных, включающий вычисление выборочных аналогов числовых характеристик, построение оценок метода максимального правдоподобия (ОМП) и метода моментов (ОММ), создание доверительных интервалов, а также проверку статистических гипотез."
   ]
  }
 ],
 "metadata": {
  "kernelspec": {
   "display_name": "Python 3",
   "language": "python",
   "name": "python3"
  },
  "language_info": {
   "codemirror_mode": {
    "name": "ipython",
    "version": 3
   },
   "file_extension": ".py",
   "mimetype": "text/x-python",
   "name": "python",
   "nbconvert_exporter": "python",
   "pygments_lexer": "ipython3",
   "version": "3.11.4"
  }
 },
 "nbformat": 4,
 "nbformat_minor": 4
}
