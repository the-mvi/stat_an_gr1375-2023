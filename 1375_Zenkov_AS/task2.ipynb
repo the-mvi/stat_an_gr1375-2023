{
 "cells": [
  {
   "cell_type": "markdown",
   "metadata": {},
   "source": [
    "# Практическая работа №2: Классические методы математической статистики\n",
    "Выполнил студент гр.1375 Зеньков Артем. Вариант 11"
   ]
  },
  {
   "cell_type": "markdown",
   "metadata": {},
   "source": [
    "## Цель работы\n",
    "Научится применять методы математической статистики для решения задач статистического анализа; сформировать навыки реализации методов с помощью прикладных программных пакетов."
   ]
  },
  {
   "cell_type": "markdown",
   "metadata": {},
   "source": [
    "## Основные теоретические положения\n",
    "\n",
    "Выборочные числовые xарактеристики:\n",
    "- Математическое ожидание\n",
    "\n",
    "  Teopетичская характерситика $E_F X=\\int_n d F(x)$  \n",
    "  \n",
    "  Выброчная характерситика $\\bar{X}=\\frac{1}{n} \\sum_{i=1}^n x_i$\n",
    "- К-ый момент\n",
    "\n",
    "  Teopетичская характерситика $E_F X^k=\\int x^K d F(x)$\n",
    "  \n",
    "  Выброчная характерситика $\\bar{x^k}=\\frac{1}{n} \\sum_{i=1}^n x_i^k$\n",
    "- Дисперсия\n",
    "\n",
    "  Teopетичская характерситика $D_f(x)=\\int\\left(x-E_f x\\right)^2 d F(x)=\\int x^2 d F(x)=\\left(E_F\\right.$\n",
    "\n",
    "  Выброчная характерситика $S^2=\\frac{1}{n} \\frac{n}{2}\\left(x_i-\\bar{x}\\right)^2=\\overline{x^2}-(\\bar{x})^2$\n",
    "- p-квантиль (p oт 0 дo 1 )\n",
    "\n",
    "  Teopетичская характерситика $\\{p(x \\leqslant z p) \\geqslant p$\n",
    "$\\{P(k \\geq z p) \\geqslant 1-p$\n",
    "\n",
    "  Выброчная характерситика $Z_{n,p}=\\left\\{x(n, p)+1)\\right.$, если $np\\notin z \\{(x(n p), x(n p+1))$, если $np \\in z$\n",
    "- Коэффцициент асимметри (скошенности)\n",
    "\n",
    "  Teopетичская характерситика $S_{\\text {kew }} X=\\frac{F_F\\left(X-E_F X\\right)^3}{\\left(D_F X\\right)^{3 / 2}}$.\n",
    "\n",
    "   Выброчная характерситика $\\hat{S_{kew}}X=\\left(\\frac{1}{n} \\sum_{i=1}^n\\left(x_i-\\bar{x}\\right)^3\\right) / s^3$\n",
    "- Коэффициент эксцесса (островершинности)\n",
    "\n",
    "   Teopетичская характерситика. $Kurt_F=\\frac{E_F\\left(X-F_F X\\right)^4}{\\left(D_F X\\right)^2}-3$\n",
    "\n",
    "   Выброчная характерситика  $Kurt_X=\\frac{1}{n} \\frac{\\sum_{i=1}^n\\left(x_i-\\bar{x}^4\\right)}{s^4}-3$\n",
    "  \n",
    "Если $X_{1},...,X_{n}$-выборка из распределения с плотностью распределения $P_{\\theta}, \\theta\\in \\Theta$, то\n",
    "\n",
    "Функция правдоподобия распадается в произведения $L(\\overrightarrow{X},\\theta)=\\prod_{i=1}^{n}P_{\\theta}(X_{i})$\n",
    "\n",
    "Логарифм функции правдоподобия представляется в виде суммы $LL(\\overrightarrow{X},\\theta)=\\ln L(\\overrightarrow{X},\\theta)=\\sum_{i=1}^{n}\\ln P_{\\theta}(X_{i})$\n",
    "\n",
    "В силу монотонности логарифма задача максимизации функции правдоподобия сводится к задаче максимизации ее логарифма по всем $\\theta\\in \\Theta  LL(\\overrightarrow{X}),\\theta=\\sum_{i=1}^{n}\\ln P_{\\theta}(X_{i})$\n",
    "\n",
    "\n",
    "Оценка метода моментов (ОММ)\n",
    "\n",
    "Пусть $X_{1},...,X_{n}$-выбока из распределения $P_{\\theta}, \\theta=(\\theta_{1},...,\\theta_{d})$\n",
    "\n",
    "$\\exists \\mu_{k}(\\theta)=\\mathbb{E}X^{k}_{1}, k=\\overline{1,d}$\n",
    "\n",
    "Если $\\exists$ ! решение $\\widetilde{\\theta}(X)$ системы уравнений: $\\widehat{\\mu^{k}}(\\widetilde{\\theta})=\\mu_{k}(\\theta), k=\\overline{1,d}$, где $\\widetilde{\\theta}(X)=\\frac{1}{n}\\sum_{i=1}^{n}X^{k}_{i}$-выборочный момент k-го порядка, то $\\widetilde{\\theta}(X)$ называется оценкой по методу моментов\n",
    "\n",
    "НРМД-оценки (несмещенная оценка)\n",
    "\n",
    "Оценка $\\widehat{\\theta}(X)$ параметра $\\theta$ называется несмещенной, если при любом значении параметра $\\theta\\in \\Theta: \\mathbb{E}\\widehat{\\theta}(X)=\\theta$\n",
    "\n",
    "Смещением оценки называется величина: $bias_{\\widehat{\\theta}}(\\theta)=\\mathbb{E}_{\\theta}\\widehat{\\theta}(X)-\\theta$\n",
    "\n",
    "Алгоритм несмещенного оценивания:\n",
    "\n",
    "Найти оценку $\\widehat{\\theta}(T)$, являющуюся функцией от минимальной достаточной статистики T(e.g.ОМП)\n",
    "\n",
    "Доказать полноту МДС T\n",
    "\n",
    "Скорректировать смещение:$\\widetilde{\\theta}(T)=f(\\widehat{\\theta}(T),T): \\mathbb{E}_{\\theta}\\widetilde{\\theta}(T)=\\theta,\\forall \\theta\\in \\Theta$\n",
    "\n",
    "Асимптотический доверительный интервал (АДИ)\n",
    "\n",
    "На базе Асимптотической нормальности оценки $\\widehat{\\theta}$\n",
    "\n",
    "Асимптотическая нормальность $\\sqrt{n}\\left( \\widehat{\\theta}(\\overrightarrow{X})-\\theta)\\right)\\sim \\mathcal{N}\\left(0,\\sigma^{2}(\\theta)\\right)$\n",
    "\n",
    "Тогда $\\sqrt{n}\\frac{\\widehat{\\theta}(\\overrightarrow{X})-\\theta}{\\sigma\\left(\\widehat{\\theta}(\\overrightarrow{X})\\right)}$    \n",
    "\n",
    "Выбираем $X_{\\alpha}: \\Phi(X_{\\alpha})=1-\\frac{\\alpha}{2}$\n",
    "\n",
    "А.Д.И. $\\left[ \\widehat{\\theta}(\\overrightarrow{X})-\\frac{X_{\\alpha}\\cdot \\sigma\\left( \\widehat{\\theta}(\\overrightarrow{X}) \\right)}{\\sqrt{n}}; \\widehat{\\theta}(\\overrightarrow{X})+\\frac{X_{\\alpha}\\cdot \\sigma\\left( \\widehat{\\theta}(\\overrightarrow{X}) \\right)}{\\sqrt{n}}\\right]$\n"
   ]
  },
  {
   "cell_type": "markdown",
   "metadata": {},
   "source": [
    "## Постановка задачи\n",
    "Для полученных в результате эксперимента наборов данных выполнить статистическую обработку. Полученные результаты содержательно проинтерпретировать."
   ]
  },
  {
   "cell_type": "markdown",
   "metadata": {},
   "source": [
    "## Выполнение работы"
   ]
  },
  {
   "cell_type": "markdown",
   "metadata": {},
   "source": [
    "### 1.a Построить вариационный ряд, эмпирическую функцию распределения и гистограмму частот.\n"
   ]
  },
  {
   "cell_type": "code",
   "execution_count": 2,
   "metadata": {},
   "outputs": [
    {
     "data": {
      "text/plain": [
       "'[ 0  0  0  0  0  0  0  0  0  0  0  0  0  0  0  1  1  1  1  1  1  1  1  1\\n  1  1  2  2  2  2  3  3  3  4  4  4  4  5  5  5  5  6  6  6  7  8  8 10\\n 10 28]'"
      ]
     },
     "execution_count": 2,
     "metadata": {},
     "output_type": "execute_result"
    }
   ],
   "source": [
    "import numpy as np\n",
    "import matplotlib.pyplot as plt\n",
    "import seaborn as sns\n",
    "\n",
    "\n",
    "data = [3, 0, 4, 6, 6, 0, 1, 4, 0, 10, 1, 4, 1, 2, 5, 0, 0, 1, 0, 1, 1, 2, 0, 6, 0, 0, 1, 28, 2, 0, 1, 1, 1, 5, 5, 3, 8, 8, 0, 3, 0, 0, 10, 2, 0, 4,\n",
    "1, 0, 5, 7]\n",
    "sorted_data = np.array(data)\n",
    "sorted_data.sort()\n",
    "str(sorted_data)\n"
   ]
  },
  {
   "cell_type": "markdown",
   "metadata": {},
   "source": [
    "Вариационный ряд:\n",
    " $$\\vec{X} = \\left(0, 0, 0, 0, 0, 0, 0, 0, 0, 0, 0, 0, 0, 0, 0, 1, 1, 1, 1, 1, 1, 1, 1, 1, 1, 1, 2, 2, 2, 2, 3, 3, 3, 4, 4, 4, 4, 5, 5, 5, 5, 6, 6, 6, 7, 8, 8, 10, 10, 28\\right)$$"
   ]
  },
  {
   "cell_type": "code",
   "execution_count": 3,
   "metadata": {},
   "outputs": [
    {
     "data": {
      "text/plain": [
       "[0.3, 0.22, 0.08, 0.06, 0.08, 0.08, 0.06, 0.02, 0.04, 0.04, 0.02]"
      ]
     },
     "execution_count": 3,
     "metadata": {},
     "output_type": "execute_result"
    }
   ],
   "source": [
    "import collections\n",
    "\n",
    "# Подсчет частоты появления значений в данных\n",
    "frequency_result = collections.Counter(sorted_data)\n",
    "\n",
    "# Нормализация частоты по всей выборке\n",
    "normalized_result = {key: value / len(sorted_data) for key, value in frequency_result.items()}\n",
    "\n",
    "# Получение нормализованных значений частоты\n",
    "normalized_values = list(normalized_result.values())\n",
    "normalized_values\n"
   ]
  },
  {
   "cell_type": "code",
   "execution_count": 4,
   "metadata": {},
   "outputs": [
    {
     "data": {
      "image/png": "[encoded data removed]",
      "text/plain": [
       "<Figure size 640x480 with 1 Axes>"
      ]
     },
     "metadata": {},
     "output_type": "display_data"
    }
   ],
   "source": [
    "plt.hist(sorted_data, bins=11, color='skyblue', edgecolor='black')\n",
    "plt.title(\"Гистограмма данных\")\n",
    "plt.xlabel(\"Значения\")\n",
    "plt.ylabel(\"Частота\")\n",
    "plt.show()"
   ]
  },
  {
   "cell_type": "markdown",
   "metadata": {},
   "source": [
    "### 1.b Вычислить выборочные аналоги следующих числовых характеристик:"
   ]
  },
  {
   "cell_type": "code",
   "execution_count": 5,
   "metadata": {},
   "outputs": [
    {
     "name": "stdout",
     "output_type": "stream",
     "text": [
      "Среднее (E): 3.06 \n",
      " Дисперсия (D): 20.376400000000004 \n",
      " Стандартное отклонение (std): 4.514022596310302 \n",
      " Медиана: 1.0 \t 1 1 \n",
      " Коэффициент асимметрии (skew): 3.4924295861278893 \n",
      " Эксцесс (kurt): 16.015627030785687 \n",
      "\n",
      "Нормализованные частоты: dict_items([(0, 0.3), (1, 0.22), (2, 0.08), (3, 0.06), (4, 0.08), (5, 0.08), (6, 0.06), (7, 0.02), (8, 0.04), (10, 0.04), (28, 0.02)])\n"
     ]
    }
   ],
   "source": [
    "from scipy import stats as sp\n",
    "\n",
    "# Вычисление статистических параметров\n",
    "mean_value = np.mean(sorted_data)\n",
    "variance_value = np.var(sorted_data)\n",
    "std_deviation = np.std(sorted_data)\n",
    "median_value = np.median(sorted_data)\n",
    "skewness_value = sp.skew(sorted_data)\n",
    "kurtosis_value = sp.kurtosis(sorted_data)\n",
    "\n",
    "# Вывод статистических параметров\n",
    "print('Среднее (E):', mean_value, '\\n',\n",
    "      'Дисперсия (D):', variance_value, '\\n',\n",
    "      'Стандартное отклонение (std):', std_deviation, '\\n',\n",
    "      'Медиана:', median_value, '\\t', sorted_data[24], sorted_data[25], '\\n',\n",
    "      'Коэффициент асимметрии (skew):', skewness_value, '\\n',\n",
    "      'Эксцесс (kurt):', kurtosis_value, '\\n')\n",
    "\n",
    "# Вывод нормализованных частот\n",
    "print('Нормализованные частоты:', normalized_result.items())\n"
   ]
  },
  {
   "cell_type": "markdown",
   "metadata": {},
   "source": [
    "Выборочный аналог математического ожидания - выборочное среднее:\n",
    "$$\\overline{X} =\\frac{1}{n}\\sum_{i=1}^{n}x_i= 3.06$$\n",
    "\n",
    "Выборочный аналог дисперсии и СКО - выборочную дисперсию и выборочное СКО: \n",
    "$$S^2 =\\frac{1}{n}\\sum_{i=1}^{n}\\left(x_i-\\overline{X}\\right)=20.37$$ \n",
    "$$S=\\sqrt{S^2}=4.51$$\n",
    "\n",
    "Выборочная медиана: <br><br>\n",
    "$$np = 50\\cdot\\frac{1}{2}=25\\in \\mathbb Z \\Rightarrow \\large z_{50,\\frac{1}{2}} = \\normalsize \\left[ X_{(25)},X_{(26)} \\right) = 1.9$$\n",
    "\n",
    "Выборочный коэффициент асимметрии: \n",
    "$$\\mathrm{Skew}=\\frac{1}{n}\\frac{\\sum \\limits_{i=1}^{n}\\left(x_i-\\overline{X}\\right)^3}{S^3} = 3.49$$\n",
    "\n",
    "Выборочный коэффициент эксцесса:\n",
    "$$\\mathrm{Kurt}=\\frac{1}{n}\\frac{\\sum \\limits_{i=1}^{n}\\left(x_i-\\overline{X}\\right)^4}{S^4}-3 = 16.01$$"
   ]
  },
  {
   "cell_type": "code",
   "execution_count": 6,
   "metadata": {},
   "outputs": [
    {
     "name": "stdout",
     "output_type": "stream",
     "text": [
      "Вероятность P(x = a) = 0.0\n",
      "Вероятность P(x = b) = 0.82\n",
      "Вероятность P(a < x < b) = 0.82\n"
     ]
    }
   ],
   "source": [
    "def empirical_distribution_function(x, data):\n",
    "    sum_i = sum(1 for i in data if i < x)\n",
    "    return sum_i / len(data)\n",
    "\n",
    "a_value = 0.00\n",
    "b_value = 5.77\n",
    "\n",
    "# Вычисление вероятностей\n",
    "probability_a = empirical_distribution_function(a_value, sorted_data)\n",
    "probability_b = empirical_distribution_function(b_value, sorted_data)\n",
    "probability_interval = probability_b - probability_a\n",
    "\n",
    "# Вывод результатов\n",
    "print(\"Вероятность P(x = a) =\", probability_a)\n",
    "print(\"Вероятность P(x = b) =\", probability_b)\n",
    "print(\"Вероятность P(a < x < b) =\", probability_interval)\n"
   ]
  },
  {
   "cell_type": "markdown",
   "metadata": {},
   "source": [
    "\n",
    "Выборочный аналог $\\mathbb{P}\\left(x \\in \\left[a, b\\right]\\right)$, a = 0.00, b = 5.77:\n",
    "\n",
    "$$\\mathbb{P}\\left(x \\in \\left[a, b\\right]\\right) = \\mathrm{F}(b) - \\mathrm{F}(a) = 0.82 - 0.00 = 0.82$$\n"
   ]
  },
  {
   "cell_type": "markdown",
   "metadata": {},
   "source": [
    "### 1.c В предположении, что исходные наблюдения являются выборкой из распределения Пуассона, построить оценку максимального правдоподобия параметра $\\lambda$, а также оценку $\\lambda$ по методу моментов. Найти смещение оценок.\n",
    "\n",
    "**Плотность распределения пуассона**: \n",
    "$$\\large q_{\\theta} = \\frac{\\lambda^x}{x!}e^{-\\lambda}$$\n",
    "\n",
    "***Оценка максимального правдоподобия:***\n",
    "$ L\\left(\\vec{X}, \\theta \\right) =\\prod\\limits_{i = 1}^n q_{\\theta}\\left(\\normalsize x_i\\right)=\\prod\\limits_{i = 1}^n\\frac{\\lambda^{x_i}}{x_i!}e^{-\\lambda} = \\large \\lambda^{\\sum \\limits_{i=1}^{n}x_i} \\cdot e^{-n\\lambda} \\cdot \\prod\\limits_{i = 1}^n\\frac{1}{x_i!}$ \n",
    "\n",
    "$LL\\left(\\vec{X}, \\theta \\right) = \\sum \\limits_{i=1}^{n}x_i \\cdot \\ln{\\lambda} - n\\lambda + \\ln{\\prod\\limits_{i = 1}^n\\frac{1}{\\large x_i!}}$ \n",
    "\n",
    "$\\Large \\frac{\\partial LL}{\\partial \\lambda} = \\frac{\\sum \\limits_{i=1}^{n}x_i}{\\lambda} \\normalsize - n = 0 \\Rightarrow \\widehat{\\theta} = \\widehat{\\lambda} = \\overline{X}$ - ОМП\n",
    "\n",
    "$\\large \\mathbb{E}_{\\theta}\\widehat{\\theta} = \\mathbb{E}_{\\theta}\\overline{X} = \\mathbb{E}_{\\theta}\\frac{1}{n}\\sum \\limits_{i=1}^{n}x_i = \\frac{1}{n} \\cdot \\normalsize n \\cdot \\lambda = \\lambda \\Rightarrow$ несмещённая оценка. \n",
    "\n",
    "***Оценка методом моментов:***<br><br>\n",
    "$\\mathbb{E}X = \\lambda$ - математическое ожидание (теоретическая величина)\n",
    "$\\mathrm{M} = \\overline{X}$ - выборочное среднее (выборочная величина)\n",
    "Следовательно, $\\widetilde{\\theta} = \\widetilde{\\lambda} = \\overline{X}$\n",
    "\n",
    "$\\large \\mathbb{E}_{\\theta}\\widetilde{\\theta} = \\mathbb{E}_{\\theta}\\overline{X} = \\mathbb{E}_{\\theta}\\frac{1}{n}\\sum \\limits_{i=1}^{n}x_i = \\frac{1}{n} \\cdot \\normalsize n \\cdot \\lambda = \\lambda \\Rightarrow$ несмещённая оценка.\n"
   ]
  },
  {
   "cell_type": "markdown",
   "metadata": {},
   "source": [
    "### 1.d Построить асимптотичексий доверительный интервал уровня значимости $\\alpha_1$ для параметра $\\lambda$ на базе оценки максимального правдоподобия. <br>\n",
    " $\\alpha_1 = 0.10$ \n",
    " \n",
    " **Плотность распределения пуассона:**:\n",
    " \n",
    "$$\\large q_{\\theta} = \\frac{\\lambda^x}{x!}e^{-\\lambda}$$\n",
    "$\\widehat{\\theta} = \\widehat{\\lambda} = \\overline{X}$\n",
    "\n",
    "Из пункта 1.с:\n",
    "\n",
    "$\\Large \\frac{\\partial LL}{\\partial \\lambda} = \\frac{\\sum \\limits_{i=1}^{n}x_i}{\\lambda} \\normalsize - n$\n",
    "\n",
    "$\\Large \\frac{\\partial^2 LL}{\\partial \\lambda^2} = \\normalsize - \\Large \\frac{\\sum \\limits_{i=1}^{n}x_i}{\\lambda^2}$\n",
    "\n",
    "$\\mathrm{I}_n(\\lambda) = - \\large \\mathbb{E}_{\\theta}\\frac{\\partial^2 LL}{\\partial \\lambda^2} = \\mathbb{E}_{\\theta} \\left(\\frac{\\sum \\limits_{i=1}^{n}x_i}{\\lambda^2}\\right) = \\frac{1}{\\lambda^2}\\sum \\limits_{i=1}^{n}\\mathbb{E}_{\\theta}x_i = \\frac{1}{\\lambda^2} \\cdot n \\cdot \\lambda = \\Large \\frac{n}{\\lambda}$  \n",
    "\n",
    "**Квантили:** \n",
    "\n",
    "Так как распределение симметричное: <br><br>\n",
    "$x_{\\alpha} : \\mathrm{\\Phi}(x_{\\alpha}) = 1 - \\frac{\\alpha}{2} = 1 - \\frac{0.1}{2} = 0.95$, где $\\alpha = \\alpha_1 = 0.1$\n",
    "\n",
    "\n",
    "$\\mathrm{\\Phi}(x_{\\alpha}) = 0.95 \\Rightarrow x_{\\alpha} = 1.65$ \n",
    "\n",
    "*Асимптотический доверительный интервал:* \n",
    "$\\left[\\overline{X} - \\sqrt{\\frac{\\overline{X}}{n}} \\cdot x_{\\alpha} , \\overline{X} + \\sqrt{\\frac{\\overline{X}}{n}} \\cdot x_{\\alpha}\\right] \\ni \\lambda$"
   ]
  },
  {
   "cell_type": "code",
   "execution_count": 7,
   "metadata": {},
   "outputs": [
    {
     "name": "stdout",
     "output_type": "stream",
     "text": [
      "Нижняя граница интервала доверия: 2.6518125430638517\n",
      "Верхняя граница интервала доверия: 3.4681874569361484\n"
     ]
    }
   ],
   "source": [
    "x_alpha = 1.65\n",
    "\n",
    "# Вычисление интервала доверия\n",
    "mean_value = np.mean(sorted_data)\n",
    "standard_error = np.std(sorted_data) / np.sqrt(len(sorted_data))\n",
    "\n",
    "left_interval = mean_value - x_alpha * (mean_value / len(sorted_data))**0.5\n",
    "right_interval = mean_value + x_alpha * (mean_value / len(sorted_data))**0.5\n",
    "\n",
    "# Вывод результатов\n",
    "print(\"Нижняя граница интервала доверия:\", left_interval)\n",
    "print(\"Верхняя граница интервала доверия:\", right_interval)\n"
   ]
  },
  {
   "cell_type": "markdown",
   "metadata": {},
   "source": [
    "Таким образом, АДИ уровня значимости $\\alpha_1$ для параметра $\\lambda$: \n",
    "\n",
    "$$\\left[2.65, 3.47\\right] \\ni \\lambda$$"
   ]
  },
  {
   "cell_type": "markdown",
   "metadata": {},
   "source": [
    "### 1.е Используя гистограмму частот, построить критерий значимости $\\chi^2$ проверки простой гипотезы согласия с распределением Пуассона с параметром $\\lambda_0 = 3$. Проверить гипотезу на уровне значимости $\\alpha_1 = 0.1$. Вычислить наибольшее значение уровня значимости, на котором ещё нет оснований отвергнуть данную гипотезу.\n"
   ]
  },
  {
   "cell_type": "code",
   "execution_count": 8,
   "metadata": {},
   "outputs": [
    {
     "name": "stdout",
     "output_type": "stream",
     "text": [
      "33 8 4 5\n",
      "0.9970071591177923\n",
      "0.65 32.36159443911156\n",
      "0.27 13.442508459323266\n",
      "0.07 3.600671908747303\n",
      "0.01 0.44558314870747895\n",
      "48.81\n",
      "x_alpha_1 равен: 6.251388631170325\n"
     ]
    }
   ],
   "source": [
    "import math\n",
    "import scipy.stats as sp\n",
    "\n",
    "lambda_0 = 3\n",
    "intervals = [[0, 1, 2, 3], [4, 5], [6, 7], [8, 10, 28]]\n",
    "var_freq = [15, 11, 4, 3, 4, 4, 3, 1, 2, 2, 1]\n",
    "var_uniq = [0, 1, 2, 3, 4, 5, 6, 7, 8, 10, 28]\n",
    "\n",
    "exp_lambda = math.exp(-lambda_0)\n",
    "\n",
    "n = len(sorted_data)\n",
    "\n",
    "n_1 = var_freq[0] + var_freq[1] + var_freq[2] + var_freq[3]\n",
    "n_2 = var_freq[4] + var_freq[5]\n",
    "n_3 = var_freq[6] + var_freq[7]\n",
    "n_4 = var_freq[8] + var_freq[9] + var_freq[10]\n",
    "\n",
    "print(n_1, n_2, n_3, n_4)\n",
    "\n",
    "# Вычисление значений вероятностей\n",
    "P1 = (lambda_0**var_uniq[0] / math.factorial(var_uniq[0]) +\n",
    "      lambda_0**var_uniq[1] / math.factorial(var_uniq[1]) +\n",
    "      lambda_0**var_uniq[2] / math.factorial(var_uniq[2]) +\n",
    "      lambda_0**var_uniq[3] / math.factorial(var_uniq[3])) * exp_lambda\n",
    "P2 = (lambda_0**var_uniq[4] / math.factorial(var_uniq[4]) +\n",
    "      lambda_0**var_uniq[5] / math.factorial(var_uniq[5])) * exp_lambda\n",
    "P3 = (lambda_0**var_uniq[6] / math.factorial(var_uniq[6]) +\n",
    "      lambda_0**var_uniq[7] / math.factorial(var_uniq[7])) * exp_lambda\n",
    "P4 = (lambda_0**var_uniq[8] / math.factorial(var_uniq[8]) +\n",
    "      lambda_0**var_uniq[9] / math.factorial(var_uniq[9]) +\n",
    "      lambda_0**var_uniq[10] / math.factorial(var_uniq[10])) * exp_lambda\n",
    "\n",
    "print(P1 + P2 + P3 + P4)\n",
    "print(round(P1, 2), 50 * P1)\n",
    "print(round(P2, 2), 50 * P2)\n",
    "print(round(P3, 2), 50 * P3)\n",
    "print(round(P4, 2), 50 * P4)\n",
    "\n",
    "# Вычисление критерия хи-квадрат\n",
    "chi = ((n_1 - n * P1)**2) / (n * P1) + ((n_2 - n * P2)**2) / (n * P2) + ((n_3 - n * P3)**2) / (n * P3) + ((n_4 - n * P4)**2) / (n * P4)\n",
    "print(round(chi, 2))\n",
    "\n",
    "print(\"x_alpha_1 равен:\", sp.chi2.ppf(1 - 0.1, df=4-1))\n",
    "\n",
    "\n"
   ]
  },
  {
   "cell_type": "markdown",
   "metadata": {},
   "source": [
    "Расммотрим $\\mathbb{P}_{k} = \\mathbb{P}_{\\theta}\\left(x_i \\in G_k\\right) = \\sum \\limits_{x \\in G_k} q_{\\theta}(x)$ <br><br>\n",
    "\n",
    "\n",
    "Из таблицы: $\\chi_{k-1, \\alpha_1}^2 = \\chi_{3, 0.1}^2 =  6.25$ \n",
    "\n",
    "Получили: $\\chi^2 = 48.81$\n",
    "\n",
    "Так как $\\chi^2 > \\chi_{3, 0.1}^2$ , то гипотезу отвергаем \n",
    "\n"
   ]
  },
  {
   "cell_type": "code",
   "execution_count": 9,
   "metadata": {},
   "outputs": [
    {
     "name": "stdout",
     "output_type": "stream",
     "text": [
      "Наибольшее значение уровня значимости:  1.4302103945595945e-10\n"
     ]
    }
   ],
   "source": [
    "p_value = sp.chi2.cdf(chi, 3)\n",
    "print('Наибольшее значение уровня значимости: ', 1-p_value)"
   ]
  },
  {
   "cell_type": "markdown",
   "metadata": {},
   "source": [
    "### 1.f Построить критерий значимости $\\chi^2$ проверки сложной гипотезы согласия с распределением Пуассона. Проверить гипотезу на уровне значимости $\\alpha_1 = 0.1$. Вычислить наибольшее значение уровня значимости, на котором ещё нет оснований отвергнуть данную гипотезу.\n"
   ]
  },
  {
   "cell_type": "code",
   "execution_count": 10,
   "metadata": {},
   "outputs": [
    {
     "name": "stdout",
     "output_type": "stream",
     "text": [
      "33 8 4 5\n",
      "0.9966161166436548\n",
      "0.63 31.689602089232814\n",
      "0.28 13.806016605045476\n",
      "0.08 3.8417127846361185\n",
      "0.01 0.49347435326832434\n",
      "43.66\n",
      "x_alpha_1 равен: 4.605170185988092\n",
      "p-value =  0.09999999999999998\n"
     ]
    }
   ],
   "source": [
    "import math\n",
    "\n",
    "lambda_0 = 7\n",
    "\n",
    "# Вычисление среднего значения и экспоненты среднего\n",
    "E = np.mean(sorted_data)\n",
    "exp_E = math.exp(-E)\n",
    "\n",
    "n_1 = var_freq[0] + var_freq[1] + var_freq[2] + var_freq[3]\n",
    "n_2 = var_freq[4] + var_freq[5]\n",
    "n_3 = var_freq[6] + var_freq[7]\n",
    "n_4 = var_freq[8] + var_freq[9] + var_freq[10]\n",
    "\n",
    "print(n_1, n_2, n_3, n_4)\n",
    "\n",
    "# Вычисление вероятностей\n",
    "P1 = (E**var_uniq[0] / math.factorial(var_uniq[0]) +\n",
    "      E**var_uniq[1] / math.factorial(var_uniq[1]) +\n",
    "      E**var_uniq[2] / math.factorial(var_uniq[2]) +\n",
    "      E**var_uniq[3] / math.factorial(var_uniq[3])) * exp_E\n",
    "P2 = (E**var_uniq[4] / math.factorial(var_uniq[4]) +\n",
    "      E**var_uniq[5] / math.factorial(var_uniq[5])) * exp_E\n",
    "P3 = (E**var_uniq[6] / math.factorial(var_uniq[6]) +\n",
    "      E**var_uniq[7] / math.factorial(var_uniq[7])) * exp_E\n",
    "P4 = (E**var_uniq[8] / math.factorial(var_uniq[8]) +\n",
    "      E**var_uniq[9] / math.factorial(var_uniq[9]) +\n",
    "      E**var_uniq[10] / math.factorial(var_uniq[10])) * exp_E\n",
    "\n",
    "print(P1 + P2 + P3 + P4)\n",
    "print(round(P1, 2), 50 * P1)\n",
    "print(round(P2, 2), 50 * P2)\n",
    "print(round(P3, 2), 50 * P3)\n",
    "print(round(P4, 2), 50 * P4)\n",
    "\n",
    "# Вычисление критерия Xi квадрат\n",
    "chi = ((n_1 - n * P1)**2) / (n * P1) + ((n_2 - n * P2)**2) / (n * P2) + ((n_3 - n * P3)**2) / (n * P3) + ((n_4 - n * P4)**2) / (n * P4)\n",
    "print(round(chi, 2))\n",
    "\n",
    "print(\"x_alpha_1 равен:\", sp.chi2.ppf(1 - 0.1, df=4-1-1))\n",
    "print('p-value = ', 1 - sp.chi2.cdf(sp.chi2.ppf(1 - 0.1, df=4-1-1), 2))\n"
   ]
  },
  {
   "cell_type": "markdown",
   "metadata": {},
   "source": [
    "Расммотрим $\\mathbb{P}_{k} = \\mathbb{P}_{\\theta}\\left(x_i \\in G_k\\right) = \\sum \\limits_{x \\in G_k} q_{\\theta}(x)$ \n",
    "\n",
    "\n",
    "Из таблицы: $\\chi_{k-1-1, \\alpha_1}^2 = \\chi_{2, 0.1}^2 =  4.61 $\n",
    "\n",
    "Получим: $\\chi^2 = 43.66$\n",
    "\n",
    "Так как $\\chi^2 > \\chi_{2, 0.1}^2$ , то гипотезу отвергаем \n",
    "\n"
   ]
  },
  {
   "cell_type": "code",
   "execution_count": 11,
   "metadata": {},
   "outputs": [
    {
     "name": "stdout",
     "output_type": "stream",
     "text": [
      "Наибольшее значение уровня значимости:  3.3112457220596525e-10\n"
     ]
    }
   ],
   "source": [
    "p_value = sp.chi2.cdf(chi, 2)\n",
    "print('Наибольшее значение уровня значимости: ', 1-p_value)"
   ]
  },
  {
   "cell_type": "markdown",
   "metadata": {},
   "source": [
    "### 1.g Построить наиболее мощный критерий проверки простой гипотезы пуассоновости с параметром $\\lambda_0 = 3$ при альтернативе пуассоновости с параметром $\\lambda_1 = 6$.  Проверить гипотезу на уровне значимости $\\alpha_1 = 0.1$. Что получится, если поменять местами  основную и альтернативную гипотезы? "
   ]
  },
  {
   "cell_type": "markdown",
   "metadata": {},
   "source": [
    " $ H_ {0} :  \\lambda  =  \\lambda _ {0} $ \n",
    " \n",
    " $ H_ {1} :  \\lambda  =  \\lambda _ {1} $ \n",
    " \n",
    "Cтатистическое отношение правдоподобия:\n",
    "\n",
    "$$LR(\\overrightarrow{X},\\lambda_{1},\\lambda_{0}) = \\left(\\frac{\\lambda_{1}}{\\lambda_{0}}\\right)^{\\sum_{i=1}^{50}X_{i}} \\cdot exp^{-n\\cdot \\lambda_{1} + n\\cdot \\lambda_{0} }$$\n",
    "\n",
    "$LR(\\overrightarrow{X},\\lambda_{0},\\lambda_{1})\\gt c\\Leftrightarrow \\overline{X}\\gt c$\n",
    "\n",
    "$\\sqrt{n}\\frac{\\overline{X}-\\lambda_{0}}{\\sqrt{\\overline{X}}}\\sim N(0,1)$\n",
    "\n",
    "$P\\left(\\sqrt{n}\\frac{\\overline{X}-\\lambda_{0}}{\\sqrt{\\overline{X}}} \\right)\\gt \\sqrt{n}\\frac{\\overline{X}-\\lambda_{0}}{\\sqrt{\\overline{X}}}=1-\\Phi\\left(\\sqrt{n}\\frac{\\overline{X}-\\lambda_{0}}{\\sqrt{\\overline{X}}} \\right)=\\alpha_{1}$\n",
    "\n",
    "$\\Phi\\left(\\sqrt{n}\\frac{\\overline{X}-\\lambda_{0}}{\\sqrt{\\overline{X}}} \\right)=1-\\alpha_{1}=0.9$\n",
    "\n",
    "$\\sqrt{n}\\frac{\\overline{X}-\\lambda_{0}}{\\sqrt{\\overline{X}}}\\gt \\sqrt{n}\\frac{c-\\lambda_{0}}{\\sqrt{\\overline{X}}} = 1.29\\to c=3.319$\n",
    "\n",
    "$$ \\phi(x) =\\left\\{\n",
    "  \\begin{array}{l}\n",
    "    1, LR(x) > 3.319 \\\\\n",
    "    p, LR(x) = 3.319\\\\\n",
    "    0, LR(x) < 3.319\\\\\n",
    "  \\end{array}\\right.$$\n",
    "\n",
    "   $$ c=3.319\\gt \\overline{X} = 3.06 \\to отвергаем\\,гипотезу$$"
   ]
  },
  {
   "cell_type": "code",
   "execution_count": 12,
   "metadata": {},
   "outputs": [
    {
     "name": "stdout",
     "output_type": "stream",
     "text": [
      "c_1 = 3.3191283754228067\n",
      "c_2 = 6.319128375422807\n"
     ]
    }
   ],
   "source": [
    "# Вычисление интервалов доверия с использованием коэффициента\n",
    "c_1 = 1.29 * np.sqrt(np.mean(sorted_data)) / np.sqrt(len(sorted_data)) + 3\n",
    "c_2 = 1.29 * np.sqrt(np.mean(sorted_data)) / np.sqrt(len(sorted_data)) + 6\n",
    "\n",
    "# Вывод результатов\n",
    "print('c_1 =', c_1)\n",
    "print('c_2 =', c_2)\n"
   ]
  },
  {
   "cell_type": "markdown",
   "metadata": {},
   "source": [
    "**Меняем местами основную и альтернативную гипотезу:**\n",
    "\n",
    "$H_{0}=\\lambda_{1}$\n",
    "\n",
    "$H_{1}=\\lambda_{0}$\n",
    "\n",
    "Cтатистическое отношение правдоподобия:\n",
    "\n",
    "$$LR(\\overrightarrow{X},\\lambda_{0},\\lambda_{1}) = \\left(\\frac{\\lambda_{0}}{\\lambda_{1}}\\right)^{\\sum_{i=1}^{50}X_{i}} \\cdot exp^{-n\\cdot \\lambda_{0} + n\\cdot \\lambda_{1} }$$\n",
    "\n",
    "$LR(\\overrightarrow{X},\\lambda_{1},\\lambda_{0})\\gt c\\Leftrightarrow \\overline{X}\\gt c$\n",
    "\n",
    "$\\sqrt{n}\\frac{\\overline{X}-\\lambda_{1}}{\\sqrt{\\overline{X}}}\\sim N(0,1)$\n",
    "\n",
    "$P\\left(\\sqrt{n}\\frac{\\overline{X}-\\lambda_{1}}{\\sqrt{\\overline{X}}} \\right)\\gt \\sqrt{n}\\frac{\\overline{X}-\\lambda_{1}}{\\sqrt{\\overline{X}}}=1-\\Phi\\left(\\sqrt{n}\\frac{\\overline{X}-\\lambda_{1}}{\\sqrt{\\overline{X}}} \\right)=\\alpha_{1}$\n",
    "\n",
    "$\\Phi\\left(\\sqrt{n}\\frac{\\overline{X}-\\lambda_{1}}{\\sqrt{\\overline{X}}} \\right)=1-\\alpha_{1}=0.9$\n",
    "\n",
    "$\\sqrt{n}\\frac{\\overline{X}-\\lambda_{1}}{\\sqrt{\\overline{X}}}\\gt \\sqrt{n}\\frac{c-\\lambda_{1}}{\\sqrt{\\overline{X}}} = 1.29\\to c=6.319$\n",
    "\n",
    "$$ \\phi(x) =\\left\\{\n",
    "  \\begin{array}{l}\n",
    "    1, LR(x) > 6.319 \\\\\n",
    "    p, LR(x) = 6.319\\\\\n",
    "    0, LR(x) < 6.319\\\\\n",
    "  \\end{array}\\right.$$\n",
    "\n",
    "   $$ c=6.319 > \\overline{X} = 3.06 \\to отвергаем\\,гипотезу$$"
   ]
  },
  {
   "cell_type": "markdown",
   "metadata": {},
   "source": [
    "### 1h.c В предположении, что исходные наблюдения являются выборкой из геометрического распределения , построить оценку максимального правдоподобия параметра $\\lambda$, а также оценку $\\lambda$ по методу моментов. Найти смещение оценок.\n",
    "\n",
    "**Плотность геометрического распределения**: \n",
    "$$\\large q_{\\theta} = \\frac{\\lambda^x}{({\\lambda+1})^{x+1}}$$\n",
    "\n",
    "***Оценка максимального правдоподобия:***\n",
    "$ L\\left(\\vec{X}, \\theta \\right) =\\prod\\limits_{i = 1}^n q_{\\theta}\\left(\\normalsize x_i\\right)=\\prod\\limits_{i = 1}^n\\frac{\\lambda^{x_i}}{x_i!}e^{-\\lambda} = \\large \\frac{\\lambda^{\\sum \\limits_{i=1}^{n}x_i}}{(\\lambda+1)^{\\sum \\limits_{i=1}^{n}x_i + n}} $\n",
    "\n",
    "$LL\\left(\\vec{X}, \\theta \\right) = \\sum \\limits_{i=1}^{n}x_i \\cdot \\ln{\\lambda} - (\\sum \\limits_{i=1}^{n}x_i + n)\\cdot \\ln{(\\lambda + 1)}$ \n",
    "\n",
    "$\\Large \\frac{\\partial LL}{\\partial \\lambda} = \\normalsize \\sum \\limits_{i=1}^{n}x_i- n \\cdot \\lambda = 0 \\Rightarrow \\widehat{\\theta} = \\widehat{\\lambda} = \\overline{X}$ - ОМП \n",
    "\n",
    "$\\large \\mathbb{E}_{\\theta}\\widehat{\\theta} = \\mathbb{E}_{\\theta}\\overline{X} = \\mathbb{E}_{\\theta}\\frac{1}{n}\\sum \\limits_{i=1}^{n}x_i = \\frac{1}{n} \\cdot \\normalsize n \\cdot \\lambda = \\lambda \\Rightarrow$ несмещённая оценка.\n",
    "\n",
    "\n",
    "***Оценка методом моментов:***\n",
    "\n",
    "$\\mathbb{E}X = \\lambda$ - математическое ожидание (теоретическая величина)\n",
    "\n",
    "$\\mathrm{M} = \\overline{X}$ - выборочное среднее (выборочная величина)\n",
    "\n",
    "Следовательно, $\\widetilde{\\theta} = \\widetilde{\\lambda} = \\overline{X}$\n",
    "\n",
    "$\\large \\mathbb{E}_{\\theta}\\widetilde{\\theta} = \\mathbb{E}_{\\theta}\\overline{X} = \\mathbb{E}_{\\theta}\\frac{1}{n}\\sum \\limits_{i=1}^{n}x_i = \\frac{1}{n} \\cdot \\normalsize n \\cdot \\lambda = \\lambda \\Rightarrow$ несмещённая оценка.\n"
   ]
  },
  {
   "cell_type": "markdown",
   "metadata": {},
   "source": [
    "### 1.h.d Построить асимптотичексий доверительный интервал уровня значимости $\\alpha_1$ для параметра $\\lambda$ на базе оценки максимального правдоподобия. \n",
    " $\\alpha_1 = 0.10$ \n",
    " \n",
    " **Плотность геометрического распределения**: \n",
    " \n",
    "$$\\large q_{\\theta} = \\frac{\\lambda^x}{({\\lambda+1})^{x+1}}$$\n",
    "\n",
    "Из пункта 1.с:<br><br>\n",
    "$\\Large \\frac{\\partial LL}{\\partial \\lambda} = \\normalsize \\frac{\\sum \\limits_{i=1}^{n}x_i}{\\lambda}- \\frac{\\sum \\limits_{i=1}^{n}x_i + n}{\\lambda + 1}$\n",
    "\n",
    "$\\Large \\frac{\\partial^2 LL}{\\partial \\lambda^2} = \\normalsize -\\frac{\\sum \\limits_{i=1}^{n}x_i}{\\lambda^2}+ \\frac{\\sum \\limits_{i=1}^{n}x_i + n}{(\\lambda + 1)^2}$\n",
    "\n",
    "$\\mathrm{I}_n(\\lambda) = - \\large \\mathbb{E}_{\\theta}\\frac{\\partial^2 LL}{\\partial \\lambda^2} = \\mathbb{E}_{\\theta} \\left(\\normalsize \\frac{\\sum \\limits_{i=1}^{n}x_i}{\\lambda^2} - \\frac{\\sum \\limits_{i=1}^{n}x_i + n}{(\\lambda + 1)^2}\\right) = \\frac{n\\cdot \\lambda}{\\lambda^2} + \\frac{n \\cdot \\lambda + n}{(\\lambda + 1)^2} = \\frac{n}{\\lambda} + \\frac{n}{\\lambda+1}$ \n",
    "\n",
    "$\\mathrm{I}(\\lambda) = \\lim \\limits_{n \\to \\infty} \\large (\\frac{1}{\\lambda} + \\frac{1}{\\lambda+1}) = \\frac{1}{\\lambda} + \\frac{1}{\\lambda+1}$ \n",
    "\n",
    "**Квантили:** \n",
    "\n",
    "Так как распределение симметричное: <br><br>\n",
    "$x_{\\alpha} : \\mathrm{\\Phi}(x_{\\alpha}) = 1 - \\frac{\\alpha}{2} = 1 - \\frac{0.1}{2} = 0.95$, где $\\alpha = \\alpha_1 = 0.1$\n",
    "\n",
    "$\\mathrm{\\Phi}(x_{\\alpha}) = 0.95 \\Rightarrow x_{\\alpha} = 1.65$ \n",
    "\n",
    "*Асимптотический доверительный интервал:* \n",
    "$\\left[\\overline{X} - \\sqrt{\\frac{\\overline{X}}{n}} \\cdot x_{\\alpha} , \\overline{X} + \\sqrt{\\frac{\\overline{X}}{n}} \\cdot x_{\\alpha}\\right] \\ni \\lambda$"
   ]
  },
  {
   "cell_type": "code",
   "execution_count": 13,
   "metadata": {},
   "outputs": [
    {
     "name": "stdout",
     "output_type": "stream",
     "text": [
      "2.6518125430638517 3.4681874569361484\n"
     ]
    }
   ],
   "source": [
    "x_alpha_h = 1.65\n",
    "\n",
    "# Вычисление интервала доверия с использованием стандартной ошибки среднего\n",
    "left_h = np.mean(sorted_data) - x_alpha_h * (np.mean(sorted_data) / len(sorted_data))**0.5\n",
    "right_h = np.mean(sorted_data) + x_alpha_h * (np.mean(sorted_data) / len(sorted_data))**0.5\n",
    "\n",
    "# Вывод результатов\n",
    "print(left_h, right_h)\n"
   ]
  },
  {
   "cell_type": "markdown",
   "metadata": {},
   "source": [
    "Таким образом, АДИ уровня значимости $\\alpha_1$ для параметра $\\lambda$: \n",
    "\n",
    "$$\\left[2.65, 3.47\\right] \\ni \\lambda$$"
   ]
  },
  {
   "cell_type": "markdown",
   "metadata": {},
   "source": [
    "### 1.h.е Используя гистограмму частот, построить критерий значимости $\\chi^2$ проверки простой гипотезы согласия с геометрическим распределением с параметром $\\lambda_0 = 3$. Проверить гипотезу на уровне значимости $\\alpha_1 = 0.1$. Вычислить наибольшее значение уровня значимости, на котором ещё нет оснований отвергнуть данную гипотезу.\n"
   ]
  },
  {
   "cell_type": "code",
   "execution_count": 19,
   "metadata": {},
   "outputs": [
    {
     "name": "stdout",
     "output_type": "stream",
     "text": [
      "33 8 4 5\n",
      "0.7391218903409247\n",
      "0.44 21.875\n",
      "0.18 9.228515625\n",
      "0.08 3.893280029296875\n",
      "0.04 1.9592988627493564\n",
      "10.54\n",
      "x_alpha_1 равен: 6.251388631170325\n"
     ]
    }
   ],
   "source": [
    "import math\n",
    "import scipy.stats as sp\n",
    "\n",
    "lambda_0 = 3\n",
    "intervals = [[0,1,2,3], [4,5], [6,7], [8,10,28]]\n",
    "var_freq = [15, 11, 4, 3, 4, 4, 3, 1, 2, 2, 1]\n",
    "var_uniq = [0, 1, 2, 3, 4, 5, 6, 7, 8, 10, 28]\n",
    "\n",
    "n = len(sorted_data)\n",
    "\n",
    "n_1 = var_freq[0] + var_freq[1] + var_freq[2] + var_freq[3]\n",
    "n_2 = var_freq[4] + var_freq[5] \n",
    "n_3 = var_freq[6] + var_freq[7]\n",
    "n_4 = var_freq[8] + var_freq[9] + var_freq[10]\n",
    "\n",
    "print(n_1, n_2, n_3, n_4)\n",
    "#вычисление  вероятностей\n",
    "\n",
    "P1 = lambda_0**var_uniq[0] / (lambda_0+1)**(var_uniq[0]+1) + lambda_0**var_uniq[1] / (lambda_0+1)**(var_uniq[1]+1) \n",
    "+ lambda_0**(var_uniq[2]) / (lambda_0+1)**(var_uniq[2]+1)\n",
    "P2 = lambda_0**var_uniq[3] / (lambda_0+1)**(var_uniq[3]+1) + lambda_0**var_uniq[4] / (lambda_0+1)**(var_uniq[4]+1)\n",
    "+ lambda_0**var_uniq[5] / (lambda_0+1)**(var_uniq[5]+1)\n",
    "P3 = lambda_0**var_uniq[6] / (lambda_0+1)**(var_uniq[6]+1) + lambda_0**var_uniq[7] / (lambda_0+1)**(var_uniq[7]+1) \n",
    "P4 = lambda_0**var_uniq[8] / (lambda_0+1)**(var_uniq[8]+1) + lambda_0**var_uniq[9] / (lambda_0+1)**(var_uniq[9]+1) + lambda_0**var_uniq[10] / (lambda_0+1)**(var_uniq[10]+1)\n",
    "\n",
    "print(P1+P2+P3+P4)\n",
    "print(round(P1, 2), 50*P1)\n",
    "print(round(P2, 2), 50*P2)\n",
    "print(round(P3, 2), 50*P3)\n",
    "print(round(P4, 2), 50*P4)\n",
    "\n",
    "    \n",
    "#вычисление критерия Xi квадрат\n",
    "chi = ((n_1 - n*P1)**2) / (n*P1) + ((n_2 - n*P2)**2) / (n*P2) + ((n_3 - n*P3)**2) / (n*P3) + ((n_4 - n*P4)**2) / (n*P4)\n",
    "print(round(chi, 2))\n",
    "\n",
    "print(\"x_alpha_1 равен:\", sp.chi2.ppf(1 - 0.1, df = 4-1))\n",
    "\n"
   ]
  },
  {
   "cell_type": "markdown",
   "metadata": {},
   "source": [
    "Расммотрим $\\mathbb{P}_{k} = \\mathbb{P}_{\\theta}\\left(x_i \\in G_k\\right) = \\sum \\limits_{x \\in G_k} q_{\\theta}(x)$ <br><br>\n",
    "\n",
    "\n",
    "Из таблицы: $\\chi_{k-1, \\alpha_1}^2 = \\chi_{3, 0.1}^2 =  6.25$ <br><br>\n",
    "Получили: $\\chi^2 = 10.54$<br><br>\n",
    "Так как $\\chi^2 > \\chi_{3, 0.1}^2$ , то гипотезу отвергаем <br><br>\n",
    "\n"
   ]
  },
  {
   "cell_type": "code",
   "execution_count": 21,
   "metadata": {},
   "outputs": [
    {
     "name": "stdout",
     "output_type": "stream",
     "text": [
      "Наибольшее значение уровня значимости:  0.014470094074676143\n"
     ]
    }
   ],
   "source": [
    "p_value = sp.chi2.cdf(chi, 3)\n",
    "print('Наибольшее значение уровня значимости: ', 1-p_value)"
   ]
  },
  {
   "cell_type": "markdown",
   "metadata": {},
   "source": [
    "### 1.h.f Построить критерий значимости $\\chi^2$ проверки сложной гипотезы согласия с геометрическим распределением. Проверить гипотезу на уровне значимости $\\alpha_1 = 0.1$. Вычислить наибольшее значение уровня значимости, на котором ещё нет оснований отвергнуть данную гипотезу.\n"
   ]
  },
  {
   "cell_type": "code",
   "execution_count": 22,
   "metadata": {},
   "outputs": [
    {
     "name": "stdout",
     "output_type": "stream",
     "text": [
      "33 8 4 5\n",
      "2.989622712031304\n",
      "1.75 | 87.68472906403942\n",
      "0.75 | 37.54137222965366\n",
      "0.32 | 16.07297694740104\n",
      "0.16 | 8.182057360471077\n",
      "67.66\n",
      "x_alpha_1 равен: 4.605170185988092\n"
     ]
    }
   ],
   "source": [
    "import math\n",
    "\n",
    "intervals = [[0,1,2,3], [4,5], [6,7], [8,10,28]]\n",
    "var_freq = [15, 11, 4, 3, 4, 4, 3, 1, 2, 2, 1]\n",
    "var_uniq = [0, 1, 2, 3, 4, 5, 6, 7, 8, 10, 28]\n",
    "\n",
    "E = np.mean(sorted_data)\n",
    "exp_E = math.exp(-E)\n",
    "\n",
    "n = len(data)\n",
    "\n",
    "n_1 = var_freq[0] + var_freq[1] + var_freq[2] + var_freq[3]\n",
    "n_2 = var_freq[4] + var_freq[5] \n",
    "n_3 = var_freq[6] + var_freq[7]\n",
    "n_4 = var_freq[8] + var_freq[9] + var_freq[10]\n",
    "\n",
    "print(n_1, n_2, n_3, n_4)\n",
    "#вычисление  вероятностей\n",
    "\n",
    "P1 = E**var_uniq[0] / (E+1)**var_uniq[0] + E**var_uniq[1] / (E+1)**(var_uniq[1]) \n",
    "+ E**var_uniq[2] / (E+1)**(var_uniq[2])\n",
    "P2 = E**var_uniq[3] / (E+1)**(var_uniq[3]) + E**var_uniq[4] / (E+1)**(var_uniq[4])\n",
    "+ E**var_uniq[5] / (E+1)**(var_uniq[5])\n",
    "P3 = E**var_uniq[6] / (E+1)**(var_uniq[6]) + E**var_uniq[7] / (E+1)**(var_uniq[7]) \n",
    "P4 = E**var_uniq[8] / (E+1)**(var_uniq[8]) + E**var_uniq[9] / (E+1)**(var_uniq[9]) + E**var_uniq[10] / (E+1)**(var_uniq[10])\n",
    "\n",
    "print(P1+P2+P3+P4)\n",
    "print(round(P1, 2), '|', 50*P1)\n",
    "print(round(P2, 2), '|', 50*P2)\n",
    "print(round(P3, 2), '|', 50*P3)\n",
    "print(round(P4, 2), '|', 50*P4)\n",
    "    \n",
    "#вычисление критерия Xi квадрат\n",
    "chi = ((n_1 - n*P1)**2) / (n*P1) + ((n_2 - n*P2)**2) / (n*P2) + ((n_3 - n*P3)**2) / (n*P3) + ((n_4 - n*P4)**2) / (n*P4)\n",
    "print(round(chi, 2))\n",
    "\n",
    "print(\"x_alpha_1 равен:\", sp.chi2.ppf(1 - 0.1, df = 4-1-1))\n"
   ]
  },
  {
   "cell_type": "markdown",
   "metadata": {},
   "source": [
    "Расммотрим $\\mathbb{P}_{k} = \\mathbb{P}_{\\theta}\\left(x_i \\in G_k\\right) = \\sum \\limits_{x \\in G_k} q_{\\theta}(x)$ <br><br>\n",
    "\n",
    "\n",
    "Из таблицы: $\\chi_{k-1-1, \\alpha_1}^2 = \\chi_{2, 0.1}^2 =  4.61$ <br><br>\n",
    "Получty: $\\chi^2 = 67.66$<br><br>\n",
    "Так как $\\chi^2 > \\chi_{2, 0.1}^2$ , то гипотезу отвергаем <br><br>\n",
    "\n"
   ]
  },
  {
   "cell_type": "code",
   "execution_count": 23,
   "metadata": {},
   "outputs": [
    {
     "name": "stdout",
     "output_type": "stream",
     "text": [
      "Наибольшее значение уровня значимости:  1.9984014443252818e-15\n"
     ]
    }
   ],
   "source": [
    "p_value = sp.chi2.cdf(chi, 2)\n",
    "print('Наибольшее значение уровня значимости: ', 1-p_value)"
   ]
  },
  {
   "cell_type": "markdown",
   "metadata": {},
   "source": [
    "### 2.a Построить вариационный ряд, эмпирическую функцию распределения и гистограмму и полигон частот с шагом  $h$."
   ]
  },
  {
   "cell_type": "code",
   "execution_count": 24,
   "metadata": {},
   "outputs": [
    {
     "data": {
      "text/plain": [
       "'[ 0.    0.    0.02  0.02  0.04  0.07  0.08  0.09  0.1   0.12  0.12  0.19\\n  0.2   0.23  0.24  0.36  0.37  0.46  0.54  0.61  0.73  0.81  0.96  0.98\\n  1.01  1.15  1.15  1.17  1.19  1.26  1.52  1.87  1.88  2.5   2.5   2.93\\n  3.3   3.3   3.53  3.88  4.12  4.2   4.29  6.76  6.79  7.45  8.39  8.47\\n 12.46 16.08]'"
      ]
     },
     "execution_count": 24,
     "metadata": {},
     "output_type": "execute_result"
    }
   ],
   "source": [
    "data_2 = [0.02, 0.36, 0.46, 1.15, 0.61, 2.50, 0.08, 8.39, 0.54, 1.26, 0.37, 16.08, 0.02, 1.87, 3.88, 4.12, 4.20, 2.50, 0.23, 0.12, 1.52, 0.24, 1.15, 4.29, 0.09,\n",
    "0.20, 0.73, 6.79, 1.01, 3.30, 1.88, 7.45, 3.53, 0.81, 6.76, 0.10, 2.93, 0.00, 0.98, 1.19, 0.00, 3.30, 12.46, 1.17, 0.04, 0.07, 0.12, 0.19, 8.47, 0.96]\n",
    "# Сортировка данных\n",
    "sorted_data_2 = np.array(data_2)\n",
    "sorted_data_2.sort()\n",
    "str(sorted_data_2)"
   ]
  },
  {
   "cell_type": "markdown",
   "metadata": {},
   "source": [
    "Вариационный ряд:\n",
    " $$\\vec{X} = \\left(0.0, 0.0, 0.02, 0.02, 0.04, 0.07, 0.08, 0.09, 0.1, 0.12, 0.12, 0.19, 0.2, 0.23, 0.24, 0.36, 0.37, 0.46, 0.54, 0.61, 0.73, 0.81, 0.96, 0.98, 1.01, 1.15, 1.15, 1.17, 1.19, 1.26, 1.52, 1.87, 1.88, 2.5, 2.5, 2.93, 3.3, 3.3, 3.53, 3.88, 4.12, 4.2, 4.29, 6.76, 6.79, 7.45, 8.39, 8.47, 12.46, 16.08\\right)$$"
   ]
  },
  {
   "cell_type": "code",
   "execution_count": 25,
   "metadata": {},
   "outputs": [
    {
     "data": {
      "text/plain": [
       "Text(0, 0.5, 'Частота')"
      ]
     },
     "execution_count": 25,
     "metadata": {},
     "output_type": "execute_result"
    },
    {
     "data": {
      "image/png": "[encoded data removed]",
      "text/plain": [
       "<Figure size 640x480 with 1 Axes>"
      ]
     },
     "metadata": {},
     "output_type": "display_data"
    }
   ],
   "source": [
    "sns.ecdfplot(sorted_data_2)\n",
    "plt.title(\"Эмпирическая функция распределения\")\n",
    "plt.xlabel(\"Значения\")\n",
    "plt.ylabel(\"Частота\")"
   ]
  },
  {
   "cell_type": "code",
   "execution_count": 26,
   "metadata": {},
   "outputs": [
    {
     "data": {
      "text/plain": [
       "Text(0.5, 1.0, 'Гистограмма и полигон частот')"
      ]
     },
     "execution_count": 26,
     "metadata": {},
     "output_type": "execute_result"
    },
    {
     "data": {
      "image/png": "[encoded data removed]",
      "text/plain": [
       "<Figure size 640x480 with 1 Axes>"
      ]
     },
     "metadata": {},
     "output_type": "display_data"
    }
   ],
   "source": [
    "import seaborn as sns\n",
    "import matplotlib.pyplot as plt\n",
    "import numpy as np\n",
    "\n",
    "# Построение гистограммы и полигона частот с шагом h = 1.1\n",
    "bins = np.arange(min(data_2), max(data_2) + 1.1, 1.1)\n",
    "plt.hist(sorted_data_2, bins=bins, density=True, edgecolor='black', color=\"skyblue\", label=\"Гистограмма\")\n",
    "polygon_values = []\n",
    "for i in range(1, len(bins)):\n",
    "    polygon_values.append((bins[i] + bins[i-1])/2)\n",
    "hist, _ = np.histogram(data_2, bins=bins, density=True)\n",
    "plt.plot(polygon_values, hist, color='r', label=\"Полигон\")\n",
    "plt.xlabel('Значение')\n",
    "plt.legend()\n",
    "plt.ylabel('Относительная частота')\n",
    "plt.title('Гистограмма и полигон частот')\n"
   ]
  },
  {
   "cell_type": "markdown",
   "metadata": {},
   "source": [
    "### 2.b Вычислить выборочные аналоги следующих числовых характеристик:"
   ]
  },
  {
   "cell_type": "code",
   "execution_count": 165,
   "metadata": {},
   "outputs": [
    {
     "name": "stdout",
     "output_type": "stream",
     "text": [
      "Среднее (E): 2.4097999999999997 \n",
      " Дисперсия (D): 11.16272996 \n",
      " Стандартное отклонение (std): 3.341067188788636 \n",
      " Медиана: 1.08 \t 1.01 1.15 \n",
      " Коэффициент асимметрии (skew): 2.184857164953953 \n",
      " Эксцесс (kurt): 4.977553677303413 \n",
      "\n",
      "Нормализованные частоты: [(0, 0.3), (1, 0.22), (2, 0.08), (3, 0.06), (4, 0.08), (5, 0.08), (6, 0.06), (7, 0.02), (8, 0.04), (10, 0.04), (28, 0.02)]\n"
     ]
    }
   ],
   "source": [
    "from scipy import stats as sp\n",
    "\n",
    "# Вычисление статистических параметров\n",
    "mean_value = np.mean(sorted_data_2)\n",
    "variance_value = np.var(sorted_data_2)\n",
    "std_deviation = np.std(sorted_data_2)\n",
    "median_value = np.median(sorted_data_2)\n",
    "skewness_value = sp.skew(sorted_data_2)\n",
    "kurtosis_value = sp.kurtosis(sorted_data_2)\n",
    "\n",
    "# Вывод статистических параметров\n",
    "print('Среднее (E):', mean_value, '\\n',\n",
    "      'Дисперсия (D):', variance_value, '\\n',\n",
    "      'Стандартное отклонение (std):', std_deviation, '\\n',\n",
    "      'Медиана:', median_value, '\\t', sorted_data_2[24], sorted_data_2[25], '\\n',\n",
    "      'Коэффициент асимметрии (skew):', skewness_value, '\\n',\n",
    "      'Эксцесс (kurt):', kurtosis_value, '\\n')\n",
    "\n",
    "# Вывод нормализованных частот\n",
    "print('Нормализованные частоты:', list(result.items()))\n"
   ]
  },
  {
   "cell_type": "markdown",
   "metadata": {},
   "source": [
    "Выборочный аналог математического ожидания - выборочное среднее:\n",
    "$$\\overline{X} =\\frac{1}{n}\\sum_{i=1}^{n}x_i= 2.41$$\n",
    "\n",
    "Выборочный аналог дисперсии и СКО - выборочную дисперсию и выборочное СКО: \n",
    "$$S^2 =\\frac{1}{n}\\sum_{i=1}^{n}\\left(x_i-\\overline{X}\\right)=11.16$$ \n",
    "$$S=\\sqrt{S^2}=3.34$$\n",
    "\n",
    "Выборочная медиана: <br><br>\n",
    "$$np = 50\\cdot\\frac{1}{2}=25\\in \\mathbb Z \\Rightarrow \\large z_{50,\\frac{1}{2}} = \\normalsize \\left[ X_{(25)},X_{(26)} \\right) = 1.08$$\n",
    "\n",
    "Выборочный коэффициент асимметрии: \n",
    "$$\\mathrm{Skew}=\\frac{1}{n}\\frac{\\sum \\limits_{i=1}^{n}\\left(x_i-\\overline{X}\\right)^3}{S^3} = 2.18$$\n",
    "\n",
    "Выборочный коэффициент эксцесса:\n",
    "$$\\mathrm{Kurt}=\\frac{1}{n}\\frac{\\sum \\limits_{i=1}^{n}\\left(x_i-\\overline{X}\\right)^4}{S^4}-3 = 4.98$$"
   ]
  },
  {
   "cell_type": "code",
   "execution_count": 27,
   "metadata": {},
   "outputs": [
    {
     "name": "stdout",
     "output_type": "stream",
     "text": [
      "Вероятность Р(х = a) = 0.62\n",
      "Вероятность Р(х = b) = 0.8\n",
      "Вероятность: 0.18000000000000005\n"
     ]
    }
   ],
   "source": [
    "def empirical_distribution_function(x, data):\n",
    "    sum_i = 0\n",
    "    for i in data:\n",
    "        if i < x:\n",
    "            sum_i += 1\n",
    "    return sum_i / len(data)\n",
    "\n",
    "c = 1.79\n",
    "d = 3.91\n",
    "\n",
    "print(\"Вероятность Р(х = a) =\", empirical_distribution_function(c, sorted_data_2))\n",
    "print(\"Вероятность Р(х = b) =\", empirical_distribution_function(d, sorted_data_2))\n",
    "print(\"Вероятность:\", empirical_distribution_function(d, sorted_data_2) - empirical_distribution_function(c, sorted_data_2))\n"
   ]
  },
  {
   "cell_type": "markdown",
   "metadata": {},
   "source": [
    "Выборочный аналог $\\mathbb{P}\\left(x \\in \\left[a, b\\right]\\right)$, c = 1.79, b = 3.91: <br><br>\n",
    "\n",
    "$$\\mathbb{P}\\left(x \\in \\left[a, b\\right]\\right) = \\mathrm{F}(b) - \\mathrm{F}(a) = 0.8 - 0.62 = 0.18$$"
   ]
  },
  {
   "cell_type": "markdown",
   "metadata": {},
   "source": [
    "### 2.c В предположении, что исходные наблюдения являются выборкой из показательного распределения, построить оценку максимального правдоподобия параметра $\\lambda$, а также оценку $\\lambda$ по методу моментов. Найти смещение оценок. \n",
    "\n",
    "**Плотность показательного распределения**: \n",
    "$$\\large q_{\\theta} = \\lambda \\cdot e^{-\\lambda\\cdot x}$$\n",
    "\n",
    "***Оценка максимального правдоподобия:***\n",
    "$ L\\left(\\vec{X}, \\theta \\right) =\\prod\\limits_{i = 1}^n q_{\\theta}\\left(\\normalsize x_i\\right)=\\prod\\limits_{i = 1}^n \\lambda \\cdot e^{-\\lambda \\cdot x_i}  = \\large \\lambda^{n} \\cdot e^{-\\lambda \\cdot \\sum \\limits_{i=1}^{n}x_i} $ <br><br>\n",
    "\n",
    "$LL\\left(\\vec{X}, \\theta \\right) = n \\cdot \\ln{\\lambda} - \\lambda \\cdot \\sum \\limits_{i=1}^{n}x_i $\n",
    "\n",
    "$\\Large \\frac{\\partial LL}{\\partial \\lambda} = \\frac{n}{\\lambda} \\normalsize - \\sum \\limits_{i=1}^{n}x_i = 0 \\Rightarrow \\widehat{\\theta} = \\widehat{\\lambda} = \\frac{1}{\\overline{X}}$ - ОМП \n",
    "\n",
    "$\\large \\mathbb{E}_{\\theta}\\widehat{\\theta} = \\mathbb{E}_{\\theta}\\overline{X} = \\mathbb{E}_{\\theta} n\\cdot \\sum \\limits_{i=1}^{n}\\frac{1}{x_i} = \\normalsize n \\cdot\\frac{1}{n-1}   \\cdot \\lambda = \\frac{n\\cdot\\lambda}{n+1} \\Rightarrow$ смещённая оценка. \n",
    "\n",
    "МДС: $T=\\sum_{i=1}^{n}X_{i}$.\n",
    "\n",
    "Т.к. $q_{\\theta}$ из сем-ва экспоненциальных распределений $=>$ МДС =  ПДС.\n",
    "\n",
    "$\\mathbb{E}\\widetilde{\\theta} = \\mathbb{E} \\widehat{\\theta} \\cdot \\frac{n-1}{n} = \\frac{n\\cdot\\lambda}{n+1}\\cdot \\frac{n-1}{n} = \\lambda$\n",
    "\n",
    "$$ \\widetilde{\\theta} = \\widehat{\\theta} \\cdot \\frac{n-1}{n} - несмещенная \\, оценка$$\n",
    "\n",
    "***Оценка методом моментов:***<br><br>\n",
    "$\\mathbb{E}X = \\frac{1}{\\lambda}$ - математическое ожидание (теоретическая величина) \n",
    "\n",
    "$\\mathrm{M} = \\overline{X}$ - выборочное среднее (выборочная величина)\n",
    "\n",
    "Следовательно, $\\widetilde{\\theta} = \\widetilde{\\lambda} = \\frac{1}{\\overline{X}}$\n",
    "\n",
    "\n"
   ]
  },
  {
   "cell_type": "markdown",
   "metadata": {},
   "source": [
    "### 2.d Построить асимптотичексий доверительный интервал уровня значимости $\\alpha_1$ для параметра $\\lambda$ на базе оценки максимального правдоподобия.\n",
    " $\\alpha_2 = 0.01$ \n",
    " \n",
    " **Плотность показательного распределения:**:\n",
    " \n",
    "$$\\large q_{\\theta} = \\lambda \\cdot e^{-\\lambda\\cdot x}$$\n",
    "$\\large \\widehat{\\theta} = \\widehat{\\lambda} = \\frac{1}{\\overline{X}}$<br><br>\n",
    "\n",
    "Из пункта 2.с\n",
    "\n",
    "$\\Large \\frac{\\partial LL}{\\partial \\lambda} = \\frac{\\sum \\limits_{i=1}^{n}x_i}{\\lambda} \\normalsize - n$\n",
    "\n",
    "$\\Large \\frac{\\partial^2 LL}{\\partial \\lambda^2} = -\\frac{n}{\\lambda^2}$\n",
    "\n",
    "$\\mathrm{I}_n(\\lambda) = - \\large \\mathbb{E}_{\\theta}\\frac{\\partial^2 LL}{\\partial \\lambda^2} = \\mathbb{E}_{\\theta} \\left(\\frac{n}{\\lambda^2}\\right) = \\frac{n}{\\lambda^2}$ \n",
    "\n",
    "$\\mathrm{I}(\\lambda) = \\lim \\limits_{n \\to \\infty} \\large \\frac{1}{\\lambda^2} = \\frac{1}{\\lambda^2}$ \n",
    "\n",
    "**Квантили:** \n",
    "\n",
    "Так как распределение симметричное: <br><br>\n",
    "$x_{\\alpha} : \\mathrm{\\Phi}(x_{\\alpha}) = 1 - \\frac{\\alpha}{2} = 1 - \\frac{0.01}{2} = 0.995$, где $\\alpha = \\alpha_1 = 0.01$<br><br>\n",
    "$\\mathrm{\\Phi}(x_{\\alpha}) = 0.995 \\Rightarrow x_{\\alpha} = 2.5\n",
    "$ \n",
    "\n",
    "*Асимптотический доверительный интервал:* <br><br>\n",
    "$\\left[\\overline{X} - \\sqrt{\\frac{\\overline{X}}{n}} \\cdot x_{\\alpha} , \\overline{X} + \\sqrt{\\frac{\\overline{X}}{n}} \\cdot x_{\\alpha}\\right] \\ni \\lambda$"
   ]
  },
  {
   "cell_type": "code",
   "execution_count": 28,
   "metadata": {},
   "outputs": [
    {
     "name": "stdout",
     "output_type": "stream",
     "text": [
      "Нижняя граница интервала доверия: 1.8609603148459468\n",
      "Верхняя граница интервала доверия: 2.9586396851540524\n"
     ]
    }
   ],
   "source": [
    "x_alpha_2 = 2.5\n",
    "\n",
    "# Вычисление интервала доверия\n",
    "mean_value_2 = np.mean(sorted_data_2)\n",
    "standard_error_2 = np.std(sorted_data_2) / np.sqrt(len(sorted_data_2))\n",
    "\n",
    "left_interval_2 = mean_value_2 - x_alpha_2 * (mean_value_2 / len(sorted_data_2))**0.5\n",
    "right_interval_2 = mean_value_2 + x_alpha_2 * (mean_value_2 / len(sorted_data_2))**0.5\n",
    "\n",
    "# Вывод результатов\n",
    "print(\"Нижняя граница интервала доверия:\", left_interval_2)\n",
    "print(\"Верхняя граница интервала доверия:\", right_interval_2)\n"
   ]
  },
  {
   "cell_type": "markdown",
   "metadata": {},
   "source": [
    "Таким образом, АДИ уровня значимости $\\alpha_1$ для параметра $\\lambda$: \n",
    "\n",
    "$$\\left[1.86, 2.96\\right] \\ni \\lambda$$"
   ]
  },
  {
   "cell_type": "markdown",
   "metadata": {},
   "source": [
    "### 2.e C использованием теоремы Колмогорова построить критерий значимости проверки простой гипотезы согласия с показательным распределением с параметром $λ_{0}=0.33$. Проверить гипотезу на уровне значимости  $\\alpha_2 = 0,01$. Вычислить наименьшее значения уровня значимости, на котором ещё нет оснований отвергнуть гипотезу.\n"
   ]
  },
  {
   "cell_type": "markdown",
   "metadata": {},
   "source": [
    "Статистика критерия Колмагорова: $D_n = sup_{x \\in \\mathbb{R}}|F_n(x) - F_0(x)|$\n",
    "\n",
    "Теорема Колмагорова: $\\sqrt{n}D_n \\rightarrow K, при \\, основной \\, гипотезе$\n",
    "\n",
    "$$D_n = 49.004 $$\n",
    "$$Критическое \\, значение: C =  0.244$$\n",
    "\n",
    "Так как $D_n > c $ , то гипотезу отвергаем\n",
    "\n",
    "Наибольшее значение уровня значимости, при котором ещё нет оснований отвергнуть данную гипотезу, очень мало $(\\ll 0.01)$\n"
   ]
  },
  {
   "cell_type": "code",
   "execution_count": 172,
   "metadata": {},
   "outputs": [
    {
     "name": "stdout",
     "output_type": "stream",
     "text": [
      "49.000097077590226 0.2447746827489105\n"
     ]
    }
   ],
   "source": [
    "from scipy.stats import expon, kstwobign\n",
    "\n",
    "# Вычисление статистики Колмогорова-Смирнова\n",
    "D = np.max(np.abs(expon.cdf(ryad, scale=1/0.33) - np.arange(1, len(ryad)+1 / len(ryad))))\n",
    "c_val = kstwobign.ppf(1 - 0.01/2) / np.sqrt(len(ryad))\n",
    "\n",
    "# Вывод результатов\n",
    "print(D, c_val)"
   ]
  },
  {
   "cell_type": "markdown",
   "metadata": {},
   "source": [
    "### 2.f Используя гистограмму частот, построить критерий значимости $\\chi^2$ проверки простой гипотезы согласия с распределением Пуассона с параметром $\\lambda_0 = 0.33$. Проверить гипотезу на уровне значимости $\\alpha_1 = 0.01$. Вычислить наибольшее значение уровня значимости, на котором ещё нет оснований отвергнуть данную гипотезу.\n"
   ]
  },
  {
   "cell_type": "code",
   "execution_count": 29,
   "metadata": {},
   "outputs": [
    {
     "name": "stdout",
     "output_type": "stream",
     "text": [
      "15 12 12 11\n",
      "1.596757464767526\n",
      "0.63 31.74360972650611\n",
      "0.53 26.48274524396641\n",
      "0.33 16.39940166746525\n",
      "0.1 5.2121166004385255\n",
      "Ci^2: 24.359361738155183\n",
      "x_alpha_1 равен: 11.344866730144373\n"
     ]
    }
   ],
   "source": [
    "import math\n",
    "import scipy.stats as sp\n",
    "\n",
    "lambda_0 = 0.33\n",
    "intervals = [[0, 0.24], [0.25, 1.15], [1.16, 3.53], [3.54, 16.08]]\n",
    "\n",
    "n = len(sorted_data_2)\n",
    "\n",
    "def n_counter(left: float, right: float):\n",
    "    counter = 0\n",
    "    for i in sorted_data_2:\n",
    "        if left <= i <= right:\n",
    "            counter += 1\n",
    "    return counter\n",
    "\n",
    "n_1 = n_counter(*intervals[0])\n",
    "n_2 = n_counter(*intervals[1])\n",
    "n_3 = n_counter(*intervals[2])\n",
    "n_4 = n_counter(*intervals[3])\n",
    "\n",
    "print(n_1, n_2, n_3, n_4)\n",
    "\n",
    "P1 = lambda_0 * math.exp(-lambda_0 * intervals[0][0]) + lambda_0 * math.exp(-lambda_0 * intervals[0][1])\n",
    "P2 = lambda_0 * math.exp(-lambda_0 * intervals[1][0]) + lambda_0 * math.exp(-lambda_0 * intervals[1][1])\n",
    "P3 = lambda_0 * math.exp(-lambda_0 * intervals[2][0]) + lambda_0 * math.exp(-lambda_0 * intervals[2][1])\n",
    "P4 = lambda_0 * math.exp(-lambda_0 * intervals[3][0]) + lambda_0 * math.exp(-lambda_0 * intervals[3][1])\n",
    "\n",
    "print(P1 + P2 + P3 + P4)\n",
    "print(round(P1, 2), 50 * P1)\n",
    "print(round(P2, 2), 50 * P2)\n",
    "print(round(P3, 2), 50 * P3)\n",
    "print(round(P4, 2), 50 * P4)\n",
    "\n",
    "# вычисление критерия Xi квадрат\n",
    "chi = ((n_1 - n * P1)**2) / (n * P1) + ((n_2 - n * P2)**2) / (n * P2) + ((n_3 - n * P3)**2) / (n * P3) + ((n_4 - n * P4)**2) / (n * P4)\n",
    "\n",
    "print('Ci^2:', chi)\n",
    "\n",
    "print(\"x_alpha_1 равен:\", sp.chi2.ppf(1 - 0.01, df=4-1))\n",
    "\n"
   ]
  },
  {
   "cell_type": "markdown",
   "metadata": {},
   "source": [
    "Расммотрим $\\mathbb{P}_{k} = \\mathbb{P}_{\\theta}\\left(x_i \\in G_k\\right) = \\sum \\limits_{x \\in G_k} q_{\\theta}(x)$ <br><br>\n",
    "\n",
    "\n",
    "Из таблицы: $\\chi_{k-1, \\alpha_1}^2 = \\chi_{3, 0.1}^2 = 11.34$ <br><br>\n",
    "Получили: $\\chi^2 = 24.36$<br><br>\n",
    "Так как $\\chi^2 > \\chi_{3, 0.01}^2$ , то гипотезу отвергаем <br><br>"
   ]
  },
  {
   "cell_type": "code",
   "execution_count": 30,
   "metadata": {},
   "outputs": [
    {
     "name": "stdout",
     "output_type": "stream",
     "text": [
      "Наибольшее значение уровня значимости:  2.101581970337385e-05\n"
     ]
    }
   ],
   "source": [
    "p_value = sp.chi2.cdf(chi, 3)\n",
    "print('Наибольшее значение уровня значимости: ', 1-p_value)"
   ]
  },
  {
   "cell_type": "markdown",
   "metadata": {},
   "source": [
    "### 2.g Построить критерий значимости $\\chi^2$ проверки сложной гипотезы согласия с распределением Пуассона. Проверить гипотезу на уровне значимости $\\alpha_1 = 0.01$. Вычислить наибольшее значение уровня значимости, на котором ещё нет оснований отвергнуть данную гипотезу.\n",
    "\n",
    "\n"
   ]
  },
  {
   "cell_type": "code",
   "execution_count": 31,
   "metadata": {},
   "outputs": [
    {
     "name": "stdout",
     "output_type": "stream",
     "text": [
      "15 12 12 11\n",
      "1.636922171415595\n",
      "0.71 35.282888077046266\n",
      "0.55 27.74904872866723\n",
      "0.3 14.990750142074788\n",
      "0.08 3.823421622991462\n",
      "Ci^2: 34.665474205426605\n",
      "x_alpha_1 равен: 9.21034037197618\n"
     ]
    }
   ],
   "source": [
    "print(n_1, n_2, n_3, n_4)\n",
    "\n",
    "P1 = lambda_0 * math.exp(-0.415 * intervals[0][0]) + 0.415 * math.exp(-0.415 * intervals[0][1])\n",
    "P2 = lambda_0 * math.exp(-0.415 * intervals[1][0]) + 0.415 * math.exp(-0.415 * intervals[1][1])\n",
    "P3 = lambda_0 * math.exp(-0.415 * intervals[2][0]) + 0.415 * math.exp(-0.415 * intervals[2][1])\n",
    "P4 = lambda_0 * math.exp(-0.415 * intervals[3][0]) + 0.415 * math.exp(-0.415 * intervals[3][1])\n",
    "\n",
    "print(P1 + P2 + P3 + P4)\n",
    "print(round(P1, 2), 50 * P1)\n",
    "print(round(P2, 2), 50 * P2)\n",
    "print(round(P3, 2), 50 * P3)\n",
    "print(round(P4, 2), 50 * P4)\n",
    "\n",
    "# вычисление критерия Xi-квадрат\n",
    "chi = ((n_1 - n * P1)**2) / (n * P1) + ((n_2 - n * P2)**2) / (n * P2) + ((n_3 - n * P3)**2) / (n * P3) + ((n_4 - n * P4)**2) / (n * P4)\n",
    "print('Ci^2:', chi)\n",
    "\n",
    "print(\"x_alpha_1 равен:\", sp.chi2.ppf(1 - 0.01, df=4-1-1))\n",
    "\n"
   ]
  },
  {
   "cell_type": "markdown",
   "metadata": {},
   "source": [
    "Расммотрим $\\mathbb{P}_{k} = \\mathbb{P}_{\\theta}\\left(x_i \\in G_k\\right) = \\sum \\limits_{x \\in G_k} q_{\\theta}(x)$ <br><br>\n",
    "\n",
    "$\\widehat{\\lambda} = \\frac{1}{\\overline{X}} = \\frac{1}{2.41} = 0.415 $\n",
    "\n",
    "Из таблицы: $\\chi_{k-1-1, \\alpha_1}^2 = \\chi_{2, 0.01}^2 = 9.21$ <br><br>\n",
    "Получty: $\\chi^2 =  34.67$<br><br>\n",
    "Так как $\\chi^2 > \\chi_{2, 0.01}^2$ , то гипотезу отвергаем <br><br>"
   ]
  },
  {
   "cell_type": "code",
   "execution_count": 32,
   "metadata": {},
   "outputs": [
    {
     "name": "stdout",
     "output_type": "stream",
     "text": [
      "Наибольшее значение уровня значимости:  1.4335166631518348e-07\n"
     ]
    }
   ],
   "source": [
    "p_value = sp.chi2.cdf(chi, 3)\n",
    "print('Наибольшее значение уровня значимости: ', 1-p_value)"
   ]
  },
  {
   "cell_type": "markdown",
   "metadata": {},
   "source": [
    "### 2.h Построить наиболее мощный критерий проверки простой гипотезы показательности с параметром $\\lambda_0 = 0.33$ при альтернативе показательности с параметром $\\lambda_1 = 0.14$.  Проверить гипотезу на уровне значимости $\\alpha_2 = 0.01$. Что получится, если поменять местами  основную и альтернативную гипотезы? "
   ]
  },
  {
   "cell_type": "markdown",
   "metadata": {},
   "source": [
    " $ H_ {0} :  \\lambda  =  \\lambda _ {0} $ \n",
    " \n",
    " $ H_ {1} :  \\lambda  =  \\lambda _ {1} $ \n",
    " \n",
    "Cтатистическое отношение правдоподобия:\n",
    "\n",
    "\n",
    "\n",
    "$$LR(\\overrightarrow{X},\\lambda_{1},\\lambda_{0}) = \\left(\\frac{\\lambda_{1}}{\\lambda_{0}}\\right)^n \\cdot exp^{-\\lambda_{1} \\cdot {\\sum_{i=1}^{50}X_{i}} + \\lambda_{0} \\cdot {\\sum_{i=1}^{50}X_{i}} }$$\n",
    "\n",
    "$LR(\\overrightarrow{X},\\lambda_{1},\\lambda_{0})>  c\\Leftrightarrow \\overline{X} < c^*$\n",
    "\n",
    "$LR(\\overrightarrow{X},\\lambda_{1},\\lambda_{0})<  c\\Leftrightarrow \\overline{X} > c^*$\n",
    "\n",
    "${exp}^{{\\sum_{i=1}^{50}X_{i}}\\cdot (-\\lambda_{1} + \\lambda_{0})}=\\left(\\frac{\\lambda_{0}}{\\lambda_{1}}\\right)^n c$\n",
    "\n",
    "Логарифмируем:\n",
    "\n",
    "(1)    $c* = {\\sum_{i=1}^{50}X_{i}}=n \\cdot ln\\left(\\left(\\frac{\\lambda_{0}}{\\lambda_{1}}\\right) c\\right)$\n",
    "\n",
    "$\\sum_{i=1}^{50}X_{i}\\sim \\Gamma \\left(n,\\frac{1}{\\lambda}\\right)$\n",
    "\n",
    "$1-\\Phi_{\\Gamma \\left(n,\\frac{1}{\\lambda}\\right)}(c)=\\alpha_{2}$\n",
    "\n",
    "$ c = \\Phi^{-1}_{\\Gamma \\left(n,\\frac{1}{\\lambda}\\right)}(1-\\alpha_{2})$\n",
    "\n",
    "$ c = 205.77$\n",
    "\n",
    "Найдем с* подставив значени в выражение (1):\n",
    "\n",
    "$ с* = 309.21$\n",
    "\n",
    "$LR(\\overrightarrow{X}, \\lambda_{0}, \\lambda_{1}) = \\left(\\frac{0.33}{0.14}\\right)^{50} \\cdot e^{(0.14-0.33) \\cdot 309.21} = 0.00000012$\n",
    "\n",
    "$$ \\phi(x) =\\left\\{\n",
    "  \\begin{array}{l}\n",
    "    1, LR(x) > 205.77 \\\\\n",
    "    p, LR(x) = 205.77\\\\\n",
    "    0, LR(x) < 205.77\\\\\n",
    "  \\end{array}\\right.$$\n",
    "\n",
    "<br><br>\n",
    "\n",
    "  $$c > LR  \\to отвергаем\\,гипотезу$$"
   ]
  },
  {
   "cell_type": "code",
   "execution_count": 70,
   "metadata": {},
   "outputs": [
    {
     "name": "stdout",
     "output_type": "stream",
     "text": [
      "c = 205.76776238034358\n",
      "c* =  309.2099198799402\n",
      "LR = 1.2721679168795103e-07 \n",
      "\n",
      "c = 485.02401132509556\n",
      "c* =  309.2099198799402\n",
      "LR = 27109508954.434273\n"
     ]
    }
   ],
   "source": [
    "c_H0_H1 = sp.gamma.ppf(0.99, a =50, scale = 1/0.33)\n",
    "print('c =', c_H0_H1)\n",
    "c_zv_1 = 50*np.log(0.33/0.14*c_H0_H1)\n",
    "print('c* = ',c_zv_1)\n",
    "LR1 = ((0.33/0.14)**50)*np.exp(0.14*c_zv_1 - 0.33*c_zv_1)\n",
    "print('LR =', LR1,'\\n')\n",
    "\n",
    "c_H1_H0 = sp.gamma.ppf(0.99, a =50, scale=1/0.14)\n",
    "print('c =', c_H1_H0)\n",
    "c_zv_2 = 50*np.log(0.33/0.14*c_H1_H0)\n",
    "print('c* = ',c_zv_1)\n",
    "LR2 = ((0.14/0.33)**50)*np.exp(0.33*c_zv_2 - 0.14*c_zv_2)\n",
    "print('LR =', LR2)"
   ]
  },
  {
   "cell_type": "markdown",
   "metadata": {},
   "source": [
    "**Меняем местами основную и альтернативную гипотезу:**\n",
    "\n",
    "$H_{0}=\\lambda_{1}$\n",
    "\n",
    "$H_{1}=\\lambda_{0}$\n",
    "\n",
    "Cтатистическое отношение правдоподобия:\n",
    "\n",
    "$$LR(\\overrightarrow{X},\\lambda_{0},\\lambda_{1}) = \\left(\\frac{\\lambda_{0}}{\\lambda_{1}}\\right)^n \\cdot exp^{-\\lambda_{0} \\cdot {\\sum_{i=1}^{50}X_{i}} + \\lambda_{1} \\cdot {\\sum_{i=1}^{50}X_{i}} }$$\n",
    "\n",
    "$LR(\\overrightarrow{X},\\lambda_{0},\\lambda_{1})>  c\\Leftrightarrow \\overline{X} < c^*$\n",
    "\n",
    "$LR(\\overrightarrow{X},\\lambda_{0},\\lambda_{1})<  c\\Leftrightarrow \\overline{X} > c^*$\n",
    "\n",
    "${exp}^{{\\sum_{i=1}^{50}X_{i}}\\cdot (-\\lambda_{0} + \\lambda_{1})}=\\left(\\frac{\\lambda_{1}}{\\lambda_{0}}\\right)^n c$\n",
    "\n",
    "$ c = \\Phi^{-1}_{\\Gamma \\left(n,\\frac{1}{\\lambda}\\right)}(1-\\alpha_{2})$\n",
    "\n",
    "$ c = 485.02$\n",
    "\n",
    "$ с* = 309.21$\n",
    "\n",
    "\n",
    "$LR(\\overrightarrow{X}, \\lambda_{0}, \\lambda_{1}) = \\left(\\frac{0.14}{0.33}\\right)^{50} \\cdot e^{(0.33-0.14) \\cdot 309.21} = 27109508954.43$\n",
    "\n",
    "$$ \\phi(x) =\\left\\{\n",
    "  \\begin{array}{l}\n",
    "    1, LR(x) > 485.02 \\\\\n",
    "    p, LR(x) = 485.02 \\\\\n",
    "    0, LR(x) < 485.02 \\\\\n",
    "  \\end{array}\\right.$$\n",
    "\n",
    "<br><br>\n",
    "\n",
    "   $$ c < LR \\to принимаем\\,гипотезу$$"
   ]
  },
  {
   "cell_type": "markdown",
   "metadata": {},
   "source": [
    "### 2.i.c В предположении, что исходные наблюдения являются выборкой из гамма-распределения, построить оценку максимального правдоподобия параметра $\\lambda$, а также оценку $\\lambda$ по методу моментов. Найти смещение оценок."
   ]
  },
  {
   "cell_type": "markdown",
   "metadata": {},
   "source": [
    "**Плотность показательного распределения**: \n",
    "$$\\large q_{\\theta} = \\frac{\\sqrt{\\lambda}\\cdot exp\\left( \\frac{-\\lambda\\cdot x}{2} \\right)}{\\sqrt{2\\cdot \\pi\\cdot x}}$$\n",
    "\n",
    "***Оценка максимального правдоподобия:***<br><br>\n",
    "$ L\\left(\\vec{X}, \\theta \\right) =\\prod_{i=1}^{n}\\frac{\\sqrt{\\lambda}\\cdot exp\\left( \\frac{-\\lambda\\cdot x}{2} \\right)}{\\sqrt{2\\cdot \\pi\\cdot x}}=\\lambda^{\\frac{n}{2}}\\cdot exp\\left( \\frac{-\\lambda}{2} \\cdot \\sum_{i=1}^{n}x_{i}\\right) \\cdot (2\\pi)^{-\\frac{n}{2}}\\cdot (\\prod_{i=1}^{n}x_{i})^{-\\frac{n}{2}}$ <br><br>\n",
    "\n",
    "\n",
    "$LL\\left(\\vec{X}, \\theta \\right) = \\frac{n}{2}\\ln(\\lambda)+\\frac{\\lambda\\cdot \\sum_{i=1}^{n}x_{i}}{2}-\\frac{n}{2}\\ln(2\\pi)-\\frac{n}{2}\\ln(\\prod_{i=1}^{n}x_{i})$ <br><br>\n",
    "\n",
    "$\\normalsize \\frac{\\partial LL}{\\partial \\lambda} = \\frac{n}{2\\lambda}-\\frac{\\sum_{i=1}^{n}X_{i}}{2}=0 => \\widehat{\\theta} = \\widehat{\\lambda}=\\frac{1}{\\overline{X}} - ОМП$\n",
    "\n",
    "$\\mathbb{E}_{\\theta}\\widehat{\\theta} = \\mathbb{E}_{\\theta}\\overline{X} = \\mathbb{E}_{\\theta} n\\cdot \\sum \\limits_{i=1}^{n}\\frac{1}{x_i} = \\normalsize n \\cdot\\frac{1}{n-1}   \\cdot \\lambda = \\frac{n\\cdot\\lambda}{n+1} \\Rightarrow$ смещённая оценка.\n",
    "\n",
    "МДС: $T=\\sum_{i=1}^{n}X_{i}$.\n",
    "\n",
    "Т.к. $q_{\\theta}$ из сем-ва экспоненциальных распределений $=>$ МДС =  ПДС.\n",
    "\n",
    "$\\mathbb{E}\\widetilde{\\theta} = \\mathbb{E} \\widehat{\\theta} \\cdot \\frac{n-1}{n} = \\frac{n\\cdot\\lambda}{n+1}\\cdot \\frac{n-1}{n} = \\lambda$\n",
    "\n",
    "$$ \\widetilde{\\theta} = \\widehat{\\theta} \\cdot \\frac{n-1}{n} - несмещенная \\, оценка$$\n",
    "***Оценка методом моментов:***<br><br>\n",
    "$\\mathbb{E}X = \\frac{1}{\\lambda}$ - математическое ожидание (теоретическая величина)<br><br> \n",
    "$\\mathrm{M} = \\overline{X}$ - выборочное среднее (выборочная величина)<br><br>\n",
    "Следовательно, $\\widetilde{\\theta} = \\widetilde{\\lambda} = \\frac{1}{\\overline{X}}$<br><br>"
   ]
  },
  {
   "cell_type": "markdown",
   "metadata": {},
   "source": [
    "### 2.i.d Построить асимптотичексий доверительный интервал уровня значимости $\\alpha_1$ для параметра $\\lambda$ на базе оценки максимального правдоподобия. <br>\n",
    " $\\alpha_2 = 0.01$ <br><br>\n",
    " **Плотность распределения:**:\n",
    " \n",
    "$$\\Large q_{\\theta} = \\frac{\\sqrt{\\lambda}\\cdot exp\\left( \\frac{-\\lambda\\cdot x}{2} \\right)}{\\sqrt{2\\cdot \\pi\\cdot x}}$$\n",
    "\n",
    "$\\large \\widehat{\\theta} = \\widehat{\\lambda} = \\frac{1}{\\overline{X}}$<br><br>\n",
    "\n",
    "Из пункта 2.с:\n",
    "\n",
    "$\\frac{\\partial LL}{\\partial \\lambda} = \\frac{n}{2\\lambda}-\\frac{\\sum_{i=1}^{n}X_{i}}{2}$ \n",
    "\n",
    "$\\frac{\\partial^2 LL}{\\partial \\lambda^2} = -\\frac{n}{2 \\cdot \\lambda^2}$\n",
    "\n",
    "$\\mathrm{I}_n(\\lambda) = - \\large \\mathbb{E}_{\\theta}\\frac{\\partial^2 LL}{\\partial \\lambda^2} = \\mathbb{E}_{\\theta} \\left(\\frac{n}{2 \\cdot \\lambda^2}\\right) = \\frac{n}{2\\cdot\\lambda^2}$\n",
    "\n",
    "**Квантили:** \n",
    "\n",
    "Так как распределение симметричное: \n",
    "$x_{\\alpha} : \\mathrm{\\Phi}(x_{\\alpha}) = 1 - \\frac{\\alpha}{2} = 1 - \\frac{0.01}{2} = 0.995$, где $\\alpha = \\alpha_1 = 0.01$\n",
    "\n",
    "\n",
    "$\\mathrm{\\Phi}(x_{\\alpha}) = 0.995 \\Rightarrow x_{\\alpha} = 2.5$ \n",
    "\n",
    "*Асимптотический доверительный интервал:* \n",
    "\n",
    "$\\left[\\frac{1}{\\overline{X}} - \\frac{x_{\\alpha}}{\\sqrt{n\\cdot \\frac{n}{2\\cdot\\lambda^2}}} , \\frac{1}{\\overline{X}} + \\frac{x_{\\alpha}}{\\sqrt{n\\cdot \\frac{n}{2\\cdot\\lambda^2}}} \\right] \\ni \\lambda$"
   ]
  },
  {
   "cell_type": "code",
   "execution_count": 40,
   "metadata": {},
   "outputs": [
    {
     "name": "stdout",
     "output_type": "stream",
     "text": [
      "0.4149721968628102\n",
      "Нижняя граница интервала: 0.3052042598319996\n",
      "Верхняя граница интервала: 0.5247401338936208\n"
     ]
    }
   ],
   "source": [
    "x_alpha_2 = 2.5\n",
    "\n",
    "print(1/sorted_data_2.mean())\n",
    "\n",
    "left_interval_2  = 1/sorted_data_2.mean() - x_alpha_2 * sorted_data_2.mean()/(len(sorted_data_2) * len(sorted_data_2) / 2 * sorted_data_2.mean())**0.5\n",
    "right_interval_2  = 1/sorted_data_2.mean() + x_alpha_2 * sorted_data_2.mean()/(len(sorted_data_2) * len(sorted_data_2) / 2 * sorted_data_2.mean())**0.5\n",
    "\n",
    "print(\"Нижняя граница интервала:\", left_interval_2)\n",
    "print(\"Верхняя граница интервала:\", right_interval_2)"
   ]
  },
  {
   "cell_type": "markdown",
   "metadata": {},
   "source": [
    "Таким образом, АДИ уровня значимости $\\alpha_1$ для параметра $\\lambda$: \n",
    "\n",
    "$$\\left[0.305, 0.525\\right] \\ni \\lambda$$"
   ]
  },
  {
   "cell_type": "markdown",
   "metadata": {},
   "source": [
    "### 2.i.e C использованием теоремы Колмогорова построить критерий значимости проверки простой гипотезы согласия с показательным распределением с параметром  $\\lambda_0 = 0,33$. Проверить гипотезу на уровне значимости  $\\alpha_2 = 0,01$. Вычислить наименьшее значения уровня значимости, на котором ещё нет оснований отвергнуть гипотезу.\n"
   ]
  },
  {
   "cell_type": "markdown",
   "metadata": {},
   "source": [
    "Статистика критерия Колмагорова: $D_n = sup_{x \\in \\mathbb{R}}|F_n(x) - F_0(x)|$\n",
    "\n",
    "Теорема Колмагорова: $\\sqrt{n}D_n \\rightarrow K, при \\, основной \\, гипотезе$\n",
    "\n",
    "$$D_n = 49.004 $$\n",
    "$$Критическое \\, значение: C =  0.244$$\n",
    "\n",
    "**Так как** $D_n > c $ **, то гипотезу отвергаем**\n",
    "\n",
    "Наибольшее значение уровня значимости, при котором ещё нет оснований отвергнуть данную гипотезу, очень мало $(\\ll 0.01)$\n"
   ]
  },
  {
   "cell_type": "code",
   "execution_count": 42,
   "metadata": {},
   "outputs": [
    {
     "name": "stdout",
     "output_type": "stream",
     "text": [
      "49.004959749716015 0.2447746827489105\n"
     ]
    }
   ],
   "source": [
    "from scipy.stats import gamma\n",
    "from scipy.stats import kstwobign\n",
    "\n",
    "# Вычисление статистики Колмогорова-Смирнова\n",
    "D = np.max(np.abs(gamma.cdf(sorted_data_2,1, scale=1/0.33) - np.arange(1, len(sorted_data_2)+1 / len(sorted_data_2))))\n",
    "critical_value = kstwobign.ppf(1 - 0.01/2) / np.sqrt(len(sorted_data_2))\n",
    "\n",
    "# Вывод результатов\n",
    "print(D, critical_value)"
   ]
  },
  {
   "cell_type": "code",
   "execution_count": 43,
   "metadata": {},
   "outputs": [
    {
     "name": "stdout",
     "output_type": "stream",
     "text": [
      "Наибольшее значение уровня значимости, на котором ещё нет оснований отвергнуть данную гипотезу: 0.0\n"
     ]
    }
   ],
   "source": [
    "pvalue = 1 - sp.kstwobign.cdf(D*np.sqrt(len(data_2)))\n",
    "print(\"Наибольшее значение уровня значимости, на котором ещё нет оснований отвергнуть данную гипотезу:\", pvalue)"
   ]
  },
  {
   "cell_type": "markdown",
   "metadata": {},
   "source": [
    "### 2.i.f Используя гистограмму частот, построить критерий значимости $\\chi^2$ проверки простой гипотезы согласия с распределением Пуассона с параметром $\\lambda_0 = 0.33$. Проверить гипотезу на уровне значимости $\\alpha_1 = 0.01$. Вычислить наибольшее значение уровня значимости, на котором ещё нет оснований отвергнуть данную гипотезу.\n"
   ]
  },
  {
   "cell_type": "code",
   "execution_count": 34,
   "metadata": {},
   "outputs": [
    {
     "name": "stdout",
     "output_type": "stream",
     "text": [
      "13 12 8 7 8\n",
      "2.74\n",
      "0.62\n",
      "0.27\n",
      "0.15\n",
      "0.06\n",
      "Chi^2: 125.955\n",
      "x_alpha_1 равен: 13.276704135987622\n"
     ]
    }
   ],
   "source": [
    "intervals = [[0.01, 0.24], [0.25,1.15], [1.16, 2.5], [2.51, 4.2], [4.21, 16.08]]\n",
    "            \n",
    "n_1 = n_counter(*intervals[0])\n",
    "n_2 = n_counter(*intervals[1])\n",
    "n_3 = n_counter(*intervals[2])\n",
    "n_4 = n_counter(*intervals[3])\n",
    "n_5 = n_counter(*intervals[4])\n",
    "\n",
    "print(n_1, n_2, n_3, n_4, n_5)\n",
    "#вычисление вероятностей\n",
    "\n",
    "P1 = math.sqrt(lambda_0)*math.exp(-lambda_0*intervals[0][0]/2)/math.sqrt(2* math.pi * intervals[0][0]) + math.sqrt(lambda_0)*math.exp(-lambda_0*intervals[0][1]/2)/math.sqrt(2* math.pi * intervals[0][1])\n",
    "P2 = math.sqrt(lambda_0)*math.exp(-lambda_0*intervals[1][0]/2)/math.sqrt(2* math.pi * intervals[1][0]) + math.sqrt(lambda_0)*math.exp(-lambda_0*intervals[1][1]/2)/math.sqrt(2* math.pi * intervals[1][1])\n",
    "P3 = math.sqrt(lambda_0)*math.exp(-lambda_0*intervals[2][0]/2)/math.sqrt(2* math.pi * intervals[2][0]) + math.sqrt(lambda_0)*math.exp(-lambda_0*intervals[2][1]/2)/math.sqrt(2* math.pi * intervals[2][1])\n",
    "P4 = math.sqrt(lambda_0)*math.exp(-lambda_0*intervals[3][0]/2)/math.sqrt(2* math.pi * intervals[3][0]) + math.sqrt(lambda_0)*math.exp(-lambda_0*intervals[3][1]/2)/math.sqrt(2* math.pi * intervals[3][1])\n",
    "P5 = math.sqrt(lambda_0)*math.exp(-lambda_0*intervals[4][0]/2)/math.sqrt(2* math.pi * intervals[4][0]) + math.sqrt(lambda_0)*math.exp(-lambda_0*intervals[4][1]/2)/math.sqrt(2* math.pi * intervals[4][1])\n",
    "\n",
    "\n",
    "print(round(P1, 2))\n",
    "print(round(P2, 2))\n",
    "print(round(P3, 2))\n",
    "print(round(P4, 2))\n",
    "print(round(P5, 2))\n",
    "    \n",
    "#вычисление критерия Xi квадрат\n",
    "chi = ((n_1 - n*P1)**2) / (n*P1) + ((n_2 - n*P2)**2) / (n*P2) + ((n_3 - n*P3)**2) / (n*P3) + ((n_4 - n*P4)**2) / (n*P4)\n",
    "+ ((n_5 - n*P5)**2) / (n*P5)\n",
    "print('Chi^2:',round(chi, 3))\n",
    "\n",
    "print(\"x_alpha_1 равен:\", sp.chi2.ppf(1 - 0.01, df = 5-1))\n"
   ]
  },
  {
   "cell_type": "markdown",
   "metadata": {},
   "source": [
    "Расммотрим $\\mathbb{P}_{k} = \\mathbb{P}_{\\theta}\\left(x_i \\in G_k\\right) = \\sum \\limits_{x \\in G_k} q_{\\theta}(x)$ \n",
    "\n",
    "\n",
    "Из таблицы: $\\chi_{k-1, \\alpha_1}^2 = \\chi_{4, 0.1}^2 = 13.28$ \n",
    "\n",
    "Получили: $\\chi^2 = 125.955$\n",
    "\n",
    "**Так как** $\\chi^2 > \\chi_{4, 0.1}^2$ **, то гипотезу отвергаем**"
   ]
  },
  {
   "cell_type": "code",
   "execution_count": 33,
   "metadata": {},
   "outputs": [
    {
     "name": "stdout",
     "output_type": "stream",
     "text": [
      "Наибольшее значение уровня значимости:  5.441457363586366e-07\n"
     ]
    }
   ],
   "source": [
    "p_value = sp.chi2.cdf(chi, 4)\n",
    "print('Наибольшее значение уровня значимости: ', 1-p_value)"
   ]
  },
  {
   "cell_type": "markdown",
   "metadata": {},
   "source": [
    "### 2.i.g Построить критерий значимости $\\chi^2$ проверки сложной гипотезы согласия. Проверить гипотезу на уровне значимости $\\alpha_1 = 0.01$. Вычислить наибольшее значение уровня значимости, на котором ещё нет оснований отвергнуть данную гипотезу.\n",
    "\n",
    "\n"
   ]
  },
  {
   "cell_type": "code",
   "execution_count": 188,
   "metadata": {},
   "outputs": [
    {
     "name": "stdout",
     "output_type": "stream",
     "text": [
      "13 12 8 7 8\n",
      "2.56\n",
      "0.49\n",
      "0.19\n",
      "0.1\n",
      "0.05\n",
      "Chi^2: 111.04\n",
      "x_alpha_1 равен: 13.276704135987622\n"
     ]
    }
   ],
   "source": [
    "print(n_1, n_2, n_3, n_4, n_5)\n",
    "#вычисление вероятностей\n",
    "\n",
    "P1 = math.sqrt(1/sorted_data_2.mean())*math.exp(-1/sorted_data_2.mean()*intervals[0][0]/2)/math.sqrt(2* math.pi * intervals[0][0]) \n",
    "+ math.sqrt(1/sorted_data_2.mean())*math.exp(-1/sorted_data_2.mean()*intervals[0][1]/2)/math.sqrt(2* math.pi * intervals[0][1])\n",
    "P2 = math.sqrt(1/sorted_data_2.mean())*math.exp(-1/sorted_data_2.mean()*intervals[1][0]/2)/math.sqrt(2* math.pi * intervals[1][0])\n",
    "+ math.sqrt(1/sorted_data_2.mean())*math.exp(-1/sorted_data_2.mean()*intervals[1][1]/2)/math.sqrt(2* math.pi * intervals[1][1])\n",
    "P3 = math.sqrt(1/sorted_data_2.mean())*math.exp(-1/sorted_data_2.mean()*intervals[2][0]/2)/math.sqrt(2* math.pi * intervals[2][0]) \n",
    "+ math.sqrt(1/sorted_data_2.mean())*math.exp(-1/sorted_data_2.mean()*intervals[2][1]/2)/math.sqrt(2* math.pi * intervals[2][1])\n",
    "P4 = math.sqrt(1/sorted_data_2.mean())*math.exp(-1/sorted_data_2.mean()*intervals[3][0]/2)/math.sqrt(2* math.pi * intervals[3][0]) \n",
    "+ math.sqrt(1/sorted_data_2.mean())*math.exp(-1/sorted_data_2.mean()*intervals[3][1]/2)/math.sqrt(2* math.pi * intervals[3][1])\n",
    "P5 = math.sqrt(1/sorted_data_2.mean())*math.exp(-1/sorted_data_2.mean()*intervals[4][0]/2)/math.sqrt(2* math.pi * intervals[4][0]) \n",
    "+ math.sqrt(1/sorted_data_2.mean())*math.exp(-1/sorted_data_2.mean()*intervals[4][1]/2)/math.sqrt(2* math.pi * intervals[4][1])\n",
    "\n",
    "\n",
    "print(round(P1, 2))\n",
    "print(round(P2, 2))\n",
    "print(round(P3, 2))\n",
    "print(round(P4, 2))\n",
    "print(round(P5, 2))\n",
    "    \n",
    "#вычисление критерия Xi квадрат\n",
    "chi = ((n_1 - n*P1)**2) / (n*P1) + ((n_2 - n*P2)**2) / (n*P2) + ((n_3 - n*P3)**2) / (n*P3) + ((n_4 - n*P4)**2) / (n*P4)\n",
    "+ ((n_5 - n*P5)**2) / (n*P5)\n",
    "print('Chi^2:',round(chi, 3))\n",
    "\n",
    "print(\"x_alpha_1 равен:\", sp.chi2.ppf(1 - 0.01, df = 5-1))"
   ]
  },
  {
   "cell_type": "markdown",
   "metadata": {},
   "source": [
    "Расммотрим $\\mathbb{P}_{k} = \\mathbb{P}_{\\theta}\\left(x_i \\in G_k\\right) = \\sum \\limits_{x \\in G_k} q_{\\theta}(x)$ \n",
    "\n",
    "$\\widehat{\\lambda} = \\frac{1}{\\overline{X}} = \\frac{1}{2.41} = 0.415 $\n",
    "\n",
    "Из таблицы: $\\chi_{k-1, \\alpha_1}^2 = \\chi_{4, 0.01}^2 =  13.28$\n",
    "\n",
    "Получили: $\\chi^2 = 111.04$\n",
    "\n",
    "**Так как** $\\chi^2 > \\chi_{4, 0.01}^2$ **, то гипотезу отвергаем**"
   ]
  },
  {
   "cell_type": "code",
   "execution_count": 37,
   "metadata": {},
   "outputs": [
    {
     "name": "stdout",
     "output_type": "stream",
     "text": [
      "1.0\n",
      "Наибольшее значение уровня значимости:  0.0\n"
     ]
    }
   ],
   "source": [
    "p_value = sp.chi2.cdf(chi, 3)\n",
    "print(p_value)\n",
    "print('Наибольшее значение уровня значимости: ', 1-p_value)"
   ]
  },
  {
   "cell_type": "markdown",
   "metadata": {},
   "source": [
    "### 2.h Построить наиболее мощный критерий проверки простой гипотезы гамма-распределенности с параметром $\\lambda_0 = 0.33$ при альтернативе амма-распределенности с параметром $\\lambda_1 = 0.14$.  Проверить гипотезу на уровне значимости $\\alpha_2 = 0.01$. Что получится, если поменять местами  основную и альтернативную гипотезы? "
   ]
  },
  {
   "cell_type": "markdown",
   "metadata": {},
   "source": [
    " $ H_ {0} :  \\lambda  =  \\lambda _ {0} $ \n",
    " \n",
    " $ H_ {1} :  \\lambda  =  \\lambda _ {1} $ \n",
    " \n",
    "Cтатистическое отношение правдоподобия:\n",
    "\n",
    "\n",
    "\n",
    "$$LR(\\overrightarrow{X},\\lambda_{1},\\lambda_{0}) = =\\left(\\frac{\\lambda_{0}}{\\lambda_{1}}\\right)^{\\frac{n}{2}}\\cdot exp \\left((\\lambda_{1}-\\lambda_{0})\\cdot \\sum_{i=1}^{50}X_{i} \\right)$$\n",
    "\n",
    "$LR(\\overrightarrow{X},\\lambda_{1},\\lambda_{0})>  c\\Leftrightarrow \\overline{X} < c^*$\n",
    "\n",
    "$LR(\\overrightarrow{X},\\lambda_{1},\\lambda_{0})<  c\\Leftrightarrow \\overline{X} > c^*$\n",
    "\n",
    "${exp}^{{\\sum_{i=1}^{50}X_{i}}\\cdot (-\\lambda_{1} + \\lambda_{0})}=\\left(\\frac{\\lambda_{0}}{\\lambda_{1}}\\right)^n c$\n",
    "\n",
    "Логарифмируем:\n",
    "\n",
    "(1)    $c* = {\\sum_{i=1}^{50}X_{i}}=n \\cdot ln\\left(\\left(\\frac{\\lambda_{0}}{\\lambda_{1}}\\right) c\\right)$\n",
    "\n",
    "$\\sum_{i=1}^{50}X_{i}\\sim \\Gamma \\left(n,\\frac{1}{\\lambda}\\right)$\n",
    "\n",
    "$1-\\Phi_{\\Gamma \\left(n,\\frac{1}{\\lambda}\\right)}(c)=\\alpha_{2}$\n",
    "\n",
    "$ c = \\Phi^{-1}_{\\Gamma \\left(n,\\frac{1}{\\lambda}\\right)}(1-\\alpha_{2})$\n",
    "\n",
    "$ c = 205.77$\n",
    "\n",
    "Найдем с* подставив значени в выражение (1):\n",
    "\n",
    "$ с* = 309.21$\n",
    "\n",
    "$LR(\\overrightarrow{X}, \\lambda_{0}, \\lambda_{1}) = \\left(\\frac{0.33}{0.14}\\right)^{50} \\cdot e^{(0.14-0.33) \\cdot 309.21} = 6.235866855307944e-17$\n",
    "\n",
    "$$ \\phi(x) =\\left\\{\n",
    "  \\begin{array}{l}\n",
    "    1, LR(x) > 205.77 \\\\\n",
    "    p, LR(x) = 205.77\\\\\n",
    "    0, LR(x) < 205.77\\\\\n",
    "  \\end{array}\\right.$$\n",
    "\n",
    "<br><br>\n",
    "\n",
    "  $$c > LR  \\to отвергаем\\,гипотезу$$"
   ]
  },
  {
   "cell_type": "code",
   "execution_count": 80,
   "metadata": {},
   "outputs": [
    {
     "name": "stdout",
     "output_type": "stream",
     "text": [
      "c = 205.76776238034358\n",
      "c* =  309.2099198799402\n",
      "LR = 6.235866855307944e-17 \n",
      "\n",
      "c = 485.02401132509556\n",
      "c* =  309.2099198799402\n",
      "LR = 5.530561882480399e+19\n"
     ]
    }
   ],
   "source": [
    "c_H0_H1 = sp.gamma.ppf(0.99, a =50, scale = 1/0.33)\n",
    "print('c =', c_H0_H1)\n",
    "c_zv_1 = 50*np.log(0.33/0.14*c_H0_H1)\n",
    "print('c* = ',c_zv_1)\n",
    "LR1 = ((0.33/0.14)**25)*np.exp(0.14*c_zv_1 - 0.33*c_zv_1)\n",
    "print('LR =', LR1,'\\n')\n",
    "\n",
    "c_H1_H0 = sp.gamma.ppf(0.99, a =50, scale=1/0.14)\n",
    "print('c =', c_H1_H0)\n",
    "c_zv_2 = 50*np.log(0.33/0.14*c_H1_H0)\n",
    "print('c* = ',c_zv_1)\n",
    "LR2 = ((0.14/0.33)**25)*np.exp(0.33*c_zv_2 - 0.14*c_zv_2)\n",
    "print('LR =', LR2)"
   ]
  },
  {
   "cell_type": "markdown",
   "metadata": {},
   "source": [
    "**Меняем местами основную и альтернативную гипотезу:**\n",
    "\n",
    "$H_{0}=\\lambda_{1}$\n",
    "\n",
    "$H_{1}=\\lambda_{0}$\n",
    "\n",
    "Cтатистическое отношение правдоподобия:\n",
    "\n",
    "$$LR(\\overrightarrow{X},\\lambda_{0},\\lambda_{1}) = \\left(\\frac{\\lambda_{0}}{\\lambda_{1}}\\right)^n \\cdot exp^{-\\lambda_{0} \\cdot {\\sum_{i=1}^{50}X_{i}} + \\lambda_{1} \\cdot {\\sum_{i=1}^{50}X_{i}} }$$\n",
    "\n",
    "$LR(\\overrightarrow{X},\\lambda_{0},\\lambda_{1})>  c\\Leftrightarrow \\overline{X} < c^*$\n",
    "\n",
    "$LR(\\overrightarrow{X},\\lambda_{0},\\lambda_{1})<  c\\Leftrightarrow \\overline{X} > c^*$\n",
    "\n",
    "${exp}^{{\\sum_{i=1}^{50}X_{i}}\\cdot (-\\lambda_{0} + \\lambda_{1})}=\\left(\\frac{\\lambda_{1}}{\\lambda_{0}}\\right)^n c$\n",
    "\n",
    "$ c = \\Phi^{-1}_{\\Gamma \\left(n,\\frac{1}{\\lambda}\\right)}(1-\\alpha_{2})$\n",
    "\n",
    "$ c = 485.02$\n",
    "\n",
    "$ с* = 309.21$\n",
    "\n",
    "\n",
    "$LR(\\overrightarrow{X}, \\lambda_{0}, \\lambda_{1}) = \\left(\\frac{0.14}{0.33}\\right)^{50} \\cdot e^{(0.33-0.14) \\cdot 309.21} = 5.530561882480399e+19$\n",
    "\n",
    "$$ \\phi(x) =\\left\\{\n",
    "  \\begin{array}{l}\n",
    "    1, LR(x) > 485.02 \\\\\n",
    "    p, LR(x) = 485.02 \\\\\n",
    "    0, LR(x) < 485.02 \\\\\n",
    "  \\end{array}\\right.$$\n",
    "\n",
    "<br><br>\n",
    "\n",
    "   $$ c < LR \\to принимаем\\,гипотезу$$"
   ]
  },
  {
   "cell_type": "markdown",
   "metadata": {},
   "source": [
    "## Выводы\n",
    "В результате выполнения практической работы было освоено и применено использование методов математической статистики для решения задач статистического анализа. Разработаны навыки применения этих методов с использованием прикладных программных пакетов. Были изучены основные методы, приобретены навыки проведения статистических тестов, анализа выборочных данных, построения доверительных интервалов, проверки гипотез и других аспектов. Проведены оценки, построены асимптотические интервалы, и выполнена проверка гипотез."
   ]
  }
 ],
 "metadata": {
  "kernelspec": {
   "display_name": "Python 3",
   "language": "python",
   "name": "python3"
  },
  "language_info": {
   "codemirror_mode": {
    "name": "ipython",
    "version": 3
   },
   "file_extension": ".py",
   "mimetype": "text/x-python",
   "name": "python",
   "nbconvert_exporter": "python",
   "pygments_lexer": "ipython3",
   "version": "3.11.7"
  }
 },
 "nbformat": 4,
 "nbformat_minor": 2
}
