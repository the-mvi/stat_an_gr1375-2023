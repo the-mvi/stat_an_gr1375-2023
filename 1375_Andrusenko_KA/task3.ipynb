{
 "cells": [
  {
   "cell_type": "markdown",
   "metadata": {},
   "source": [
    "# Практическая работа №3: Регрессионный анализ\n",
    "Выполнил студент гр. 1375 Андрусенко Константин. Вариант №3"
   ]
  },
  {
   "cell_type": "markdown",
   "metadata": {},
   "source": [
    "## Цель работы\n",
    "Ознакомление с основными положениями метода наименьших квадратов (МНК), со статистическими свойствами МНК-оценок, с понятием функции регрессии и роли МНК в регрессионном анализе."
   ]
  },
  {
   "cell_type": "markdown",
   "metadata": {},
   "source": [
    "## Основные теоретические положения\n"
   ]
  },
  {
   "cell_type": "markdown",
   "source": [
    "##### Регрессионная модель: \n",
    "$\\mathbb{E}_{\\theta}(Y|z)=f_{\\theta}(z)$\n",
    "\n",
    "##### Линейная регрессионная модель: \n",
    "$\\mathbb{E}_{\\theta}(Y|z)=x(z)^\\intercal\\beta$\n",
    "\n",
    "##### Статистическая модель: \n",
    "$\\mathbb{E}_{\\theta}(Y|z)=X^\\intercal\\beta$, $var(Y|z) = \\sigma^2E$\n",
    "\n",
    "##### МНК\n",
    "$RSS(\\beta)=\\left\\| Y-X^{\\intercal}\\beta \\right\\|=(Y-X^{\\intercal}\\beta)^{\\intercal}\\cdot(Y-X^{\\intercal}\\beta)\\to min_\\beta$\n",
    "\n",
    "##### Несмещённая оценка дисперсии:\n",
    "$S^{2} = \\frac{SS_{e}}{n-r} = \\frac{RSS(\\hat{\\beta})}{n-r}$\n",
    "\n",
    "##### Доверительный интервал\n",
    "ДНО - функция:\n",
    "$\\psi(\\beta) = C^\\intercal\\beta$\n",
    "МНК оценка: \n",
    "$\\hat{\\psi}= C^\\intercal\\hat{\\beta}$\n",
    "$b_\\psi = C^\\intercal(XX^\\intercal)^{-1}C$\n",
    "Распределение: $\\hat{\\psi} \\sim \\mathcal{N}(\\psi,\\sigma^2b_\\psi) $\n",
    "Тогда $\\frac{\\hat{\\psi} - {\\psi}}{S\\sqrt{b_\\psi}} \\sim S_{n-r}$\n",
    "Доверительный интервал: \n",
    "$\\left[\\hat{\\psi} - x_\\alpha S \\sqrt{b_\\psi}; \\hat{\\psi} + x_\\alpha S \\sqrt{b_\\psi}\\right]$, где $x_\\alpha: S_{n-r}(x_\\alpha) = 1 - \\frac{\\alpha}{2}$"
   ],
   "metadata": {
    "collapsed": false
   }
  },
  {
   "cell_type": "markdown",
   "metadata": {
    "tags": []
   },
   "source": [
    "## Постановка задачи\n",
    "Результаты статистического эксперимента представлены в виде двух переменных. Требуется оценить характер (случайной) зависимости переменной Y от переменной X. Полученные результаты содержательно проинтерпретировать."
   ]
  },
  {
   "cell_type": "markdown",
   "metadata": {},
   "source": [
    "## Выполнение работы\n"
   ]
  },
  {
   "cell_type": "markdown",
   "source": [
    "### 1. Построить графически результаты эксперимента. Сформулировать линейную регрессионную модель переменной Y по переменной X. Построить МНК оценки параметров сдвига $\\beta_0$ и масштаба $\\beta_1$.  Построить полученную линию регрессии. Оценить визуально соответствие полученных данных и построенной оценки."
   ],
   "metadata": {
    "collapsed": false
   }
  },
  {
   "cell_type": "code",
   "execution_count": 518,
   "outputs": [],
   "source": [
    "import numpy as np\n",
    "import matplotlib.pyplot as plt\n",
    "import scipy.stats as stats\n",
    "import pandas as pd\n",
    "import scipy.stats as sst\n"
   ],
   "metadata": {
    "collapsed": false,
    "ExecuteTime": {
     "end_time": "2023-12-13T20:12:07.048465200Z",
     "start_time": "2023-12-13T20:12:06.582897800Z"
    }
   }
  },
  {
   "cell_type": "code",
   "execution_count": 519,
   "outputs": [],
   "source": [
    "X = [int(x) for x in \"4 5 3 4 5 5 7 5 3 2 5 4 1 6 3 4 4 3 3 3 6 7 5 7 5 2 6 4 3 3 7 3 3 6 5 5 5 4 3 6 3 6 3 3 4 3 6 3 3 5\".split(\" \")]\n",
    "\n",
    "Y = [float(y) for y in \"23.79 13.60 9.50 7.70 14.69 19.63 33.74 20.91 12.89 7.20 26.80 12.38 27.13 17.47 25.47 19.19 5.21 18.78 4.90 13.70 0.04 13.52 21.71 16.44 11.51 16.57 1.97 21.66 16.09 18.99 6.53 16.78 11.79 23.12 6.08 2.04 25.48 7.57 21.44 15.46 19.66 18.91 41.12 11.42 20.32 21.93 20.60 5.76 13.39 23.69\".split(\" \")]\n",
    "\n",
    "a = 0.20\n",
    "h = 3.10"
   ],
   "metadata": {
    "collapsed": false,
    "ExecuteTime": {
     "end_time": "2023-12-13T20:12:07.131464600Z",
     "start_time": "2023-12-13T20:12:07.022922300Z"
    }
   }
  },
  {
   "cell_type": "code",
   "execution_count": 520,
   "outputs": [
    {
     "data": {
      "text/plain": "<Figure size 640x480 with 1 Axes>",
      "image/png": "[encoded data removed]"
     },
     "metadata": {},
     "output_type": "display_data"
    }
   ],
   "source": [
    "fig, ax = plt.subplots()\n",
    "ax.scatter(X, Y)\n",
    "ax.set_xlabel('X')\n",
    "ax.set_ylabel('Y')\n",
    "ax.set_title('Результаты эксперимента')\n",
    "plt.show()"
   ],
   "metadata": {
    "collapsed": false,
    "ExecuteTime": {
     "end_time": "2023-12-13T20:12:07.473721300Z",
     "start_time": "2023-12-13T20:12:07.126486900Z"
    }
   }
  },
  {
   "cell_type": "markdown",
   "source": [
    "Линейная модель регрессии переменной Y по переменной X: \n",
    "$\\mathbb{E}_{\\theta}(Y|z) = x(z)^{\\intercal}\\beta$  <br>\n",
    "$Y = \\beta_0+\\beta_1X$\n",
    "\n"
   ],
   "metadata": {
    "collapsed": false
   }
  },
  {
   "cell_type": "code",
   "execution_count": 521,
   "outputs": [
    {
     "name": "stdout",
     "output_type": "stream",
     "text": [
      "b0 = 17.343472827116077\n",
      "b1 = -0.2859325885248978\n"
     ]
    }
   ],
   "source": [
    "X_m = np.matrix([[1] * len(X), X])\n",
    "Y_m = np.matrix(Y).T\n",
    "XX_T = X_m*X_m.T\n",
    "XX_T_inv = np.linalg.inv(XX_T)\n",
    "B = XX_T_inv*X_m*Y_m\n",
    "\n",
    "b0 = float(np.asarray(B)[0][0])\n",
    "b1 = float(np.asarray(B)[1][0])\n",
    "\n",
    "print(\"b0 = \" + str(b0))\n",
    "print(\"b1 = \" + str(b1))\n"
   ],
   "metadata": {
    "collapsed": false,
    "ExecuteTime": {
     "end_time": "2023-12-13T20:12:07.493732800Z",
     "start_time": "2023-12-13T20:12:07.441803100Z"
    }
   }
  },
  {
   "cell_type": "markdown",
   "source": [
    "$ Y \\approx 17.34 - 0.29X$ "
   ],
   "metadata": {
    "collapsed": false
   }
  },
  {
   "cell_type": "code",
   "execution_count": 522,
   "outputs": [
    {
     "data": {
      "text/plain": "<Figure size 640x480 with 1 Axes>",
      "image/png": "[encoded data removed]"
     },
     "metadata": {},
     "output_type": "display_data"
    }
   ],
   "source": [
    "fig, ax = plt.subplots()\n",
    "ax.scatter(X, Y)\n",
    "ax.plot(X, b0 + b1 * np.array(X), color = 'g')\n",
    "ax.set_xlabel('X')\n",
    "ax.set_ylabel('Y')\n",
    "ax.set_title('Результаты эксперимента и линия регрессии')\n",
    "plt.show()"
   ],
   "metadata": {
    "collapsed": false,
    "ExecuteTime": {
     "end_time": "2023-12-13T20:12:07.767381400Z",
     "start_time": "2023-12-13T20:12:07.453721800Z"
    }
   }
  },
  {
   "cell_type": "markdown",
   "source": [
    "По графику заметим, что регрессионная модель приближает не очень хорошо, видны явные выбросы"
   ],
   "metadata": {
    "collapsed": false
   }
  },
  {
   "cell_type": "markdown",
   "source": [
    "### 2) Построить и интерпретировать несмещённую оценку дисперсии. На базе ошибок построить гистограмму с шагом $h$. Проверить гипотезу нормальности ошибок на уровне значимости $\\alpha$ по $\\chi^2$. Оценить расстояние полученной оценки до класса нормальных распределений по Колмогорову. Визуально оценить данный факт.\n"
   ],
   "metadata": {
    "collapsed": false
   }
  },
  {
   "cell_type": "code",
   "execution_count": 523,
   "outputs": [
    {
     "data": {
      "text/plain": "<Figure size 640x480 with 1 Axes>",
      "image/png": "[encoded data removed]"
     },
     "metadata": {},
     "output_type": "display_data"
    },
    {
     "name": "stdout",
     "output_type": "stream",
     "text": [
      "Несмешенная оценка дисперсии:  69.41080043000062\n"
     ]
    }
   ],
   "source": [
    "e = Y_m - X_m.T*B\n",
    "bins=np.arange(np.min(e), np.max(e)+h,h)\n",
    "n = len(X)\n",
    "r = np.linalg.matrix_rank(X_m)\n",
    "unb_var = np.linalg.norm(Y_m - X_m.T * B)**2/(n - r)\n",
    "\n",
    "plt.hist(e, bins = bins, color='b', edgecolor=\"black\",density=True)\n",
    "plt.title(\"Гистограмма частот\")\n",
    "plt.xlabel(\"Ошибки\")\n",
    "plt.ylabel(\"Частота\")\n",
    "plt.show()\n",
    "\n",
    "print(\"Несмешенная оценка дисперсии: \", unb_var)"
   ],
   "metadata": {
    "collapsed": false,
    "ExecuteTime": {
     "end_time": "2023-12-13T20:12:07.986171300Z",
     "start_time": "2023-12-13T20:12:07.655386300Z"
    }
   }
  },
  {
   "cell_type": "markdown",
   "source": [
    "Проверим гипотезу нормальности ошибок через $\\chi^2$\n",
    "$ H_0: ε ∼ N(0,\\sigma^2E) $\n",
    "$ H_A: ε \\nsim  N(0,\\sigma^2E) $\n"
   ],
   "metadata": {
    "collapsed": false
   }
  },
  {
   "cell_type": "code",
   "execution_count": 524,
   "outputs": [
    {
     "name": "stdout",
     "output_type": "stream",
     "text": [
      "I1: (-∞, -8.274749616980273]\n",
      "I2: (-8.274749616980273, -0.9616219379938524]\n",
      "I3: (-0.9616219379938524, 2.6949419014993587]\n",
      "I4: (2.6949419014993587, 6.351505740992568]\n",
      "I5: (6.351505740992568, +∞]\n",
      "Длины:  I1: 11,  I2: 11,  I3: 8,  I4: 11,  I5: 9, \n",
      "Наблюдаемый критерий X2 =  6.1286\n",
      "Значение X^2 при уровне значимости  0.2 и 4 степенях свободы =  5.9886\n"
     ]
    }
   ],
   "source": [
    "intervals = np.histogram(e, bins=11)\n",
    "\n",
    "values = intervals[1]\n",
    "ni2 = intervals[0]\n",
    "\n",
    "intervals = [[0, 1], [2, 3], [4], [5], [6, 10]]\n",
    "values_intervals = []\n",
    "i = 0\n",
    "\n",
    "for int_i in intervals:\n",
    "    values_intervals.append([values[int_i[0]], values[int_i[len(int_i)-1]+1]])\n",
    "    i += 1\n",
    "\n",
    "N_i = [0]*len(intervals)\n",
    "i = 0\n",
    "\n",
    "for int_i in intervals:\n",
    "    for j in range(int_i[0], int_i[len(int_i)-1]+1):\n",
    "        N_i[i] += ni2[j]\n",
    "    i += 1\n",
    "\n",
    "print(f\"I1: (-∞, {values_intervals[0][1]}]\")\n",
    "for j in range(1, len(values_intervals)-1):\n",
    "    print(f\"I{j+1}: ({values_intervals[j][0]}, {values_intervals[j][1]}]\")\n",
    "print(f\"I5: ({values_intervals[4][0]}, +∞]\")\n",
    "\n",
    "print(\"Длины: \", \" \".join([f\"I{i+1}: {N_i[i]}, \" for i in range(0, len(N_i))]))\n",
    "\n",
    "X2 = 0\n",
    "\n",
    "i = 0\n",
    "\n",
    "mn = 0\n",
    "std_e = np.sqrt(unb_var)\n",
    "\n",
    "for int_i in values_intervals:\n",
    "    if (len(int_i) > 1):\n",
    "        P = stats.norm.cdf(int_i[-1], loc=0, scale=std_e) - stats.norm.cdf(int_i[0], loc=0, scale=std_e)\n",
    "    else:\n",
    "        P = stats.norm.cdf(int_i[-1], loc=0, scale=std_e)\n",
    "    X2 += (N_i[i] - len(e)*P)**2/len(e)/P\n",
    "    i += 1\n",
    "\n",
    "\n",
    "print(\"Наблюдаемый критерий X2 = \", round(X2, 4))\n",
    "chi_value = stats.chi2.ppf(1-a, len(intervals)-1)\n",
    "print('Значение X^2 при уровне значимости ', a, 'и', len(intervals)-1, 'степенях свободы = ' , round(chi_value,4))"
   ],
   "metadata": {
    "collapsed": false,
    "ExecuteTime": {
     "end_time": "2023-12-13T20:12:08.006160100Z",
     "start_time": "2023-12-13T20:12:07.930890Z"
    }
   }
  },
  {
   "cell_type": "markdown",
   "source": [
    "$\\chi^2 > \\chi_{2;0.2}^2$ следовательно гипотезу $H_0$ отвергаем"
   ],
   "metadata": {
    "collapsed": false
   }
  },
  {
   "cell_type": "markdown",
   "source": [
    "Проверим гипотезу нормальности ошибок через критерий Колмагорова"
   ],
   "metadata": {
    "collapsed": false
   }
  },
  {
   "cell_type": "code",
   "execution_count": 525,
   "outputs": [
    {
     "name": "stdout",
     "output_type": "stream",
     "text": [
      "Статистика критерия Колмогорова Dn: 0.06619\n",
      "x_alpha: 0.1517096432224198\n"
     ]
    }
   ],
   "source": [
    "e_arr = np.asarray(e.T)[0]\n",
    "print(\"Статистика критерия Колмогорова Dn:\", round(stats.kstest([el for el in e_arr], \"norm\", args = (0, std_e)).statistic, 5))\n",
    "\n",
    "print(\"x_alpha:\", stats.kstwobign.ppf(1 - a) / np.sqrt(len(e)))"
   ],
   "metadata": {
    "collapsed": false,
    "ExecuteTime": {
     "end_time": "2023-12-13T20:12:08.007174400Z",
     "start_time": "2023-12-13T20:12:07.943409500Z"
    }
   }
  },
  {
   "cell_type": "markdown",
   "source": [
    "$D_n < x_{\\alpha_2}$ следовательно нет оснований отвергнуть гипотезу "
   ],
   "metadata": {
    "collapsed": false
   }
  },
  {
   "cell_type": "code",
   "execution_count": 526,
   "outputs": [
    {
     "data": {
      "text/plain": "<Figure size 640x480 with 1 Axes>",
      "image/png": "[encoded data removed]"
     },
     "metadata": {},
     "output_type": "display_data"
    }
   ],
   "source": [
    "plt.hist(e, bins = bins, color='b', edgecolor='black',density=True)\n",
    "arange = np.arange(min(e_arr), max(e_arr) + 1, 0.01)\n",
    "plt.plot(arange, stats.norm.pdf(arange, 0, std_e), color='r')\n",
    "plt.title('Гистограмма частот и график нормального распределения')\n",
    "plt.xlabel(\"Ошибки\")\n",
    "plt.ylabel(\"Частота\")\n",
    "plt.show()"
   ],
   "metadata": {
    "collapsed": false,
    "ExecuteTime": {
     "end_time": "2023-12-13T20:12:08.238603100Z",
     "start_time": "2023-12-13T20:12:07.954161300Z"
    }
   }
  },
  {
   "cell_type": "markdown",
   "source": [
    "По графику видно, что распределение похоже на нормальное, несмотря на некоторые выбросы."
   ],
   "metadata": {
    "collapsed": false
   }
  },
  {
   "cell_type": "markdown",
   "source": [
    "### 3) В предположении нормальности ошибок построить доверительные интервалы для параметров $\\beta_0$ и $\\beta_1$ уровня доверия $1 - \\alpha$. Построить доверительный эллипс уровня доверия $1 - \\alpha$ для $(\\beta_0, \\beta_1)$ (вычислить его полуоси)."
   ],
   "metadata": {
    "collapsed": false
   }
  },
  {
   "cell_type": "code",
   "execution_count": 527,
   "outputs": [
    {
     "name": "stdout",
     "output_type": "stream",
     "text": [
      "x_alpha = 1.2994388784066297\n",
      "Доверительный интервал для beta_0: [12.601969914315308, 22.084975739916846]\n",
      "Доверительный интервал для beta_1: [-1.3393398340294322, 0.7674746569796367]\n"
     ]
    }
   ],
   "source": [
    "x_alpha = stats.t.ppf(1 - a/2, n-r)\n",
    "print('x_alpha =', x_alpha)\n",
    "\n",
    "CT_0 = np.matrix([[1], [0]])\n",
    "b_0 = CT_0.T * XX_T_inv * CT_0\n",
    "psi_0 = CT_0.T * B\n",
    "\n",
    "left_0 = (psi_0 - x_alpha * np.sqrt(unb_var * b_0))[0, 0]\n",
    "right_0 = (psi_0 + x_alpha * np.sqrt(unb_var * b_0))[0, 0]\n",
    "\n",
    "CT_1 = np.matrix([[0], [1]])\n",
    "b_1 = CT_1.T * XX_T_inv * CT_1\n",
    "psi_1 = CT_1.T * B\n",
    "left_1 = (psi_1 - x_alpha * np.sqrt(unb_var * b_1))[0, 0]\n",
    "right_1 = (psi_1 + x_alpha * np.sqrt(unb_var * b_1))[0, 0]\n",
    "\n",
    "print(f'Доверительный интервал для beta_0: [{left_0}, {right_0}]')\n",
    "print(f'Доверительный интервал для beta_1: [{left_1}, {right_1}]')"
   ],
   "metadata": {
    "collapsed": false,
    "ExecuteTime": {
     "end_time": "2023-12-13T20:12:08.239605500Z",
     "start_time": "2023-12-13T20:12:08.160231700Z"
    }
   }
  },
  {
   "cell_type": "code",
   "execution_count": 528,
   "outputs": [
    {
     "name": "stdout",
     "output_type": "stream",
     "text": [
      "Собственные числа: \n",
      "[   4.99145306 1058.00854694]\n"
     ]
    }
   ],
   "source": [
    "e_val, e_vec = np.linalg.eig(np.array(XX_T))\n",
    "print(\"Собственные числа: \")\n",
    "print(e_val)"
   ],
   "metadata": {
    "collapsed": false,
    "ExecuteTime": {
     "end_time": "2023-12-13T20:12:08.240603700Z",
     "start_time": "2023-12-13T20:12:08.172028600Z"
    }
   }
  },
  {
   "cell_type": "code",
   "execution_count": 529,
   "outputs": [
    {
     "name": "stdout",
     "output_type": "stream",
     "text": [
      "Первая полуось:  6.011639877975586\n",
      "Вторая полуось:  0.4129161452117851\n"
     ]
    }
   ],
   "source": [
    "axis = np.sqrt(1 / (e_val / (x_alpha * 2 * unb_var)))\n",
    "print(\"Первая полуось: \", axis[0])\n",
    "print(\"Вторая полуось: \", axis[1])"
   ],
   "metadata": {
    "collapsed": false,
    "ExecuteTime": {
     "end_time": "2023-12-13T20:12:08.390207300Z",
     "start_time": "2023-12-13T20:12:08.181956400Z"
    }
   }
  },
  {
   "cell_type": "markdown",
   "source": [
    "### 4) Сформулировать гипотезу независимости переменной $Y$ от переменной $X$. Провести проверку значимости."
   ],
   "metadata": {
    "collapsed": false
   }
  },
  {
   "cell_type": "markdown",
   "source": [
    "Гипотеза: $H_0 : \\psi = 0$"
   ],
   "metadata": {
    "collapsed": false
   }
  },
  {
   "cell_type": "code",
   "execution_count": 530,
   "outputs": [
    {
     "name": "stdout",
     "output_type": "stream",
     "text": [
      "F = 0.06220372986966718\n",
      "x_alpha = 1.6646290755148485\n"
     ]
    }
   ],
   "source": [
    "mn_Y = np.mean(Y)\n",
    "b0_h = mn_Y\n",
    "b1_h = 0\n",
    "B_h_m = np.matrix([[b0_h], [b1_h]])\n",
    "SSh = np.linalg.norm(Y_m - X_m.T * B_h_m) ** 2 - np.linalg.norm(Y_m - X_m.T * B)**2\n",
    "SSe = unb_var*(n - r)\n",
    "F = (SSh / 2) / (SSe / (n-r))\n",
    "print(f\"F = {F}\")\n",
    "print(f\"x_alpha = {stats.f.ppf(1 - a, dfn = 2, dfd = n - r)}\")"
   ],
   "metadata": {
    "collapsed": false,
    "ExecuteTime": {
     "end_time": "2023-12-13T20:12:08.391207100Z",
     "start_time": "2023-12-13T20:12:08.193208700Z"
    }
   }
  },
  {
   "cell_type": "markdown",
   "source": [
    "$F < x_{\\alpha_2}$,  следовательно нет оснований отвергать гипотезу"
   ],
   "metadata": {
    "collapsed": false
   }
  },
  {
   "cell_type": "markdown",
   "source": [
    "### 5)  Сформулировать модель, включающую дополнительный член с $X^2$. Построить МНК оценки параметров $\\beta_0, \\beta_1, \\beta_2$ в данной модели. Изобразить графически полученную регрессионную зависимость."
   ],
   "metadata": {
    "collapsed": false
   }
  },
  {
   "cell_type": "markdown",
   "source": [
    "Линейная регрессионная модель с дополнительным членом $X^2$:\n",
    "\n",
    "$\\mathbb{E}_{\\theta}(Y|z) = x(z)^{\\intercal}\\beta $ <br>\n",
    "$Y = \\beta_0 + \\beta_1 X + \\beta_2 X^2 + \\varepsilon$"
   ],
   "metadata": {
    "collapsed": false
   }
  },
  {
   "cell_type": "code",
   "execution_count": 531,
   "outputs": [
    {
     "name": "stdout",
     "output_type": "stream",
     "text": [
      "b0 = 23.698365378100906\n",
      "b1 = -3.523145793806939\n",
      "b2 = 0.36701064676786455\n"
     ]
    }
   ],
   "source": [
    "X_m = np.matrix([[1] * len(X), X, [x**2 for x in X]])\n",
    "Y_m = np.matrix(Y).T\n",
    "XX_T = X_m*X_m.T\n",
    "XX_T_inv = np.linalg.inv(X_m*X_m.T)\n",
    "B = XX_T_inv*X_m*Y_m\n",
    "\n",
    "b0 = float(np.asarray(B)[0][0])\n",
    "b1 = float(np.asarray(B)[1][0])\n",
    "b2 = float(np.asarray(B)[2][0])\n",
    "\n",
    "print(\"b0 = \" + str(b0))\n",
    "print(\"b1 = \" + str(b1))\n",
    "print(\"b2 = \" + str(b2))"
   ],
   "metadata": {
    "collapsed": false,
    "ExecuteTime": {
     "end_time": "2023-12-13T20:12:08.415532300Z",
     "start_time": "2023-12-13T20:12:08.203494600Z"
    }
   }
  },
  {
   "cell_type": "code",
   "execution_count": 532,
   "outputs": [
    {
     "data": {
      "text/plain": "<Figure size 640x480 with 1 Axes>",
      "image/png": "[encoded data removed]"
     },
     "metadata": {},
     "output_type": "display_data"
    }
   ],
   "source": [
    "fig, ax = plt.subplots()\n",
    "ax.scatter(X, Y)\n",
    "X_for_plot = np.linspace(min(X), max(X), 10)\n",
    "ax.plot(X_for_plot, [b0 + b1 * x + b2 * x**2 for x in X_for_plot], color = 'g')\n",
    "ax.set_xlabel('X')\n",
    "ax.set_ylabel('Y')\n",
    "ax.set_title('Результаты эксперимента и линия регрессии')\n",
    "plt.show()"
   ],
   "metadata": {
    "collapsed": false,
    "ExecuteTime": {
     "end_time": "2023-12-13T20:12:08.620548Z",
     "start_time": "2023-12-13T20:12:08.223605200Z"
    }
   }
  },
  {
   "cell_type": "markdown",
   "source": [
    "Заметим, что парабола уже лучше приближает распределение, чем прямая"
   ],
   "metadata": {
    "collapsed": false
   }
  },
  {
   "cell_type": "markdown",
   "source": [
    "### 6) Построить несмещённую оценку дисперсии. Провести исследование нормальности ошибок как в пункте 2."
   ],
   "metadata": {
    "collapsed": false
   }
  },
  {
   "cell_type": "code",
   "execution_count": 533,
   "outputs": [
    {
     "data": {
      "text/plain": "<Figure size 640x480 with 1 Axes>",
      "image/png": "[encoded data removed]"
     },
     "metadata": {},
     "output_type": "display_data"
    },
    {
     "name": "stdout",
     "output_type": "stream",
     "text": [
      "Несмешенная оценка дисперсии:  70.11877522564393\n"
     ]
    }
   ],
   "source": [
    "e = Y_m - X_m.T*B\n",
    "bins=np.arange(np.min(e), np.max(e)+h,h)\n",
    "n = len(X)\n",
    "r = np.linalg.matrix_rank(X_m)\n",
    "unb_var = np.linalg.norm(Y_m - X_m.T * B)**2/(n - r)\n",
    "\n",
    "plt.hist(e, bins = bins, color='b', edgecolor=\"black\",density=True)\n",
    "plt.title(\"Гистограмма частот\")\n",
    "plt.xlabel(\"Ошибки\")\n",
    "plt.ylabel(\"Частота\")\n",
    "plt.show()\n",
    "\n",
    "print(\"Несмешенная оценка дисперсии: \", unb_var)"
   ],
   "metadata": {
    "collapsed": false,
    "ExecuteTime": {
     "end_time": "2023-12-13T20:12:08.833772500Z",
     "start_time": "2023-12-13T20:12:08.423792300Z"
    }
   }
  },
  {
   "cell_type": "markdown",
   "source": [
    "Проверим гипотезу нормальности ошибок через $\\chi^2$\n",
    "$ H_0: ε ∼ N(0,\\sigma^2E) $\n",
    "$ H_A: ε \\nsim  N(0,\\sigma^2E) $"
   ],
   "metadata": {
    "collapsed": false
   }
  },
  {
   "cell_type": "code",
   "execution_count": 534,
   "outputs": [
    {
     "name": "stdout",
     "output_type": "stream",
     "text": [
      "[ 3  6  4  9  8 10  6  2  1  0  1]\n",
      "I1: (-∞, -8.38281024775485]\n",
      "I2: (-8.38281024775485, -1.0337465966073012]\n",
      "I3: (-1.0337465966073012, 2.6407852289664717]\n",
      "I4: (2.6407852289664717, 6.315317054540248]\n",
      "I5: (6.315317054540248, +∞]\n",
      "Длины:  I1: 9,  I2: 13,  I3: 8,  I4: 10,  I5: 10, \n",
      "Наблюдаемый критерий X2 =  2.1985\n",
      "Значение X^2 при уровне значимости  0.2 и 4 степенях свободы =  5.9886\n"
     ]
    }
   ],
   "source": [
    "intervals = np.histogram(e, bins=11)\n",
    "\n",
    "values = intervals[1]\n",
    "ni2 = intervals[0]\n",
    "print(ni2)\n",
    "intervals = [[0, 1], [2, 3], [4], [5], [6, 10]]\n",
    "values_intervals = []\n",
    "i = 0\n",
    "\n",
    "for int_i in intervals:\n",
    "    values_intervals.append([values[int_i[0]], values[int_i[len(int_i)-1]+1]])\n",
    "    i += 1\n",
    "\n",
    "N_i = [0]*len(intervals)\n",
    "i = 0\n",
    "\n",
    "for int_i in intervals:\n",
    "    for j in range(int_i[0], int_i[len(int_i)-1]+1):\n",
    "        N_i[i] += ni2[j]\n",
    "    i += 1\n",
    "\n",
    "print(f\"I1: (-∞, {values_intervals[0][1]}]\")\n",
    "for j in range(1, len(values_intervals)-1):\n",
    "    print(f\"I{j+1}: ({values_intervals[j][0]}, {values_intervals[j][1]}]\")\n",
    "print(f\"I5: ({values_intervals[4][0]}, +∞]\")\n",
    "\n",
    "print(\"Длины: \", \" \".join([f\"I{i+1}: {N_i[i]}, \" for i in range(0, len(N_i))]))\n",
    "\n",
    "X2 = 0\n",
    "\n",
    "i = 0\n",
    "\n",
    "mn = 0\n",
    "std_e = np.sqrt(unb_var)\n",
    "\n",
    "for int_i in values_intervals:\n",
    "    if (len(int_i) > 1):\n",
    "        P = stats.norm.cdf(int_i[-1], loc=0, scale=std_e) - stats.norm.cdf(int_i[0], loc=0, scale=std_e)\n",
    "    else:\n",
    "        P = stats.norm.cdf(int_i[-1], loc=0, scale=std_e)\n",
    "    X2 += (N_i[i] - len(e)*P)**2/len(e)/P\n",
    "    i += 1\n",
    "\n",
    "\n",
    "print(\"Наблюдаемый критерий X2 = \", round(X2, 4))\n",
    "chi_value = stats.chi2.ppf(1-a, len(intervals)-1)\n",
    "print('Значение X^2 при уровне значимости ', a, 'и', len(intervals)-1, 'степенях свободы = ' , round(chi_value,4))"
   ],
   "metadata": {
    "collapsed": false,
    "ExecuteTime": {
     "end_time": "2023-12-13T20:12:08.836795800Z",
     "start_time": "2023-12-13T20:12:08.628901Z"
    }
   }
  },
  {
   "cell_type": "markdown",
   "source": [
    "$\\chi^2 < \\chi_{2;0.2}^2$, следовательно причин отвергнуть гипотезу $H_0$ нет\n"
   ],
   "metadata": {
    "collapsed": false
   }
  },
  {
   "cell_type": "code",
   "execution_count": 535,
   "outputs": [
    {
     "name": "stdout",
     "output_type": "stream",
     "text": [
      "Статистика критерия Колмогорова Dn: 0.06022\n",
      "x_alpha: 0.1517096432224198\n"
     ]
    }
   ],
   "source": [
    "e_arr = np.asarray(e.T)[0]\n",
    "print(\"Статистика критерия Колмогорова Dn:\", round(stats.kstest([el for el in e_arr], \"norm\", args = (0, std_e)).statistic, 5))\n",
    "\n",
    "print(\"x_alpha:\", stats.kstwobign.ppf(1 - a) / np.sqrt(len(e)))"
   ],
   "metadata": {
    "collapsed": false,
    "ExecuteTime": {
     "end_time": "2023-12-13T20:12:09.035778800Z",
     "start_time": "2023-12-13T20:12:08.799953500Z"
    }
   }
  },
  {
   "cell_type": "markdown",
   "source": [
    "$D_n < x_{\\alpha_2}$ следовательно нет оснований отвергнуть гипотезу "
   ],
   "metadata": {
    "collapsed": false
   }
  },
  {
   "cell_type": "code",
   "execution_count": 536,
   "outputs": [
    {
     "data": {
      "text/plain": "<Figure size 640x480 with 1 Axes>",
      "image/png": "[encoded data removed]"
     },
     "metadata": {},
     "output_type": "display_data"
    }
   ],
   "source": [
    "plt.hist(e, bins = bins, color='b', edgecolor='black',density=True)\n",
    "arange = np.arange(min(e_arr), max(e_arr) + 1, 0.01)\n",
    "plt.plot(arange, stats.norm.pdf(arange, 0, std_e), color='r')\n",
    "plt.title('Гистограмма частот и график нормального распределения')\n",
    "plt.xlabel(\"Ошибки\")\n",
    "plt.ylabel(\"Частота\")\n",
    "plt.show()"
   ],
   "metadata": {
    "collapsed": false,
    "ExecuteTime": {
     "end_time": "2023-12-13T20:12:09.154611900Z",
     "start_time": "2023-12-13T20:12:08.855781200Z"
    }
   }
  },
  {
   "cell_type": "markdown",
   "source": [
    "По графику видно, что распределение похоже на нормальное, несмотря на некоторые выбросы."
   ],
   "metadata": {
    "collapsed": false
   }
  },
  {
   "cell_type": "markdown",
   "source": [
    "### 7. В предположении нормальности ошибок построить доверительные интервалы для параметров $\\beta_0, \\beta_1, \\beta_2$ уровня доверия $1 - \\alpha$. Написать уравнение доверительного эллипсоида уровня доверия $1 - \\alpha$"
   ],
   "metadata": {
    "collapsed": false
   }
  },
  {
   "cell_type": "code",
   "execution_count": 537,
   "outputs": [
    {
     "name": "stdout",
     "output_type": "stream",
     "text": [
      "x_alpha = 1.2998249470173255\n",
      "Доверительный интервал для beta_0: [11.24355102829501, 36.1531797279068]\n",
      "Доверительный интервал для beta_1: [-9.479485394978035, 2.433193807364158]\n",
      "Доверительный интервал для beta_2: [-0.29751346401065115, 1.0315347575463802]\n"
     ]
    }
   ],
   "source": [
    "x_alpha = stats.t.ppf(1 - a/2, n-r)\n",
    "print('x_alpha =', x_alpha)\n",
    "\n",
    "CT_0 = np.matrix([[1], [0], [0]])\n",
    "b_0 = CT_0.T * XX_T_inv * CT_0\n",
    "psi_0 = CT_0.T * B\n",
    "\n",
    "left_0 = (psi_0 - x_alpha * np.sqrt(unb_var * b_0))[0, 0]\n",
    "right_0 = (psi_0 + x_alpha * np.sqrt(unb_var * b_0))[0, 0]\n",
    "\n",
    "CT_1 = np.matrix([[0], [1], [0]])\n",
    "b_1 = CT_1.T * XX_T_inv * CT_1\n",
    "psi_1 = CT_1.T * B\n",
    "left_1 = (psi_1 - x_alpha * np.sqrt(unb_var * b_1))[0, 0]\n",
    "right_1 = (psi_1 + x_alpha * np.sqrt(unb_var * b_1))[0, 0]\n",
    "\n",
    "CT_2 = np.matrix([[0], [0], [1]])\n",
    "b_2 = CT_2.T * XX_T_inv * CT_2\n",
    "psi_2 = CT_2.T * B\n",
    "\n",
    "left_2 = (psi_2 - x_alpha * np.sqrt(unb_var * b_2))[0, 0]\n",
    "right_2 = (psi_2 + x_alpha * np.sqrt(unb_var * b_2))[0, 0]\n",
    "\n",
    "print(f'Доверительный интервал для beta_0: [{left_0}, {right_0}]')\n",
    "print(f'Доверительный интервал для beta_1: [{left_1}, {right_1}]')\n",
    "print(f'Доверительный интервал для beta_2: [{left_2}, {right_2}]')"
   ],
   "metadata": {
    "collapsed": false,
    "ExecuteTime": {
     "end_time": "2023-12-13T20:12:09.170177400Z",
     "start_time": "2023-12-13T20:12:09.116710600Z"
    }
   }
  },
  {
   "cell_type": "code",
   "execution_count": 538,
   "outputs": [
    {
     "name": "stdout",
     "output_type": "stream",
     "text": [
      "Собственные числа: \n",
      "[2.99958353e+04 6.25265181e-01 7.55394004e+01]\n"
     ]
    }
   ],
   "source": [
    "e_val, e_vec = np.linalg.eig(np.array(XX_T))\n",
    "print(\"Собственные числа: \")\n",
    "print(e_val)"
   ],
   "metadata": {
    "collapsed": false,
    "ExecuteTime": {
     "end_time": "2023-12-13T20:12:09.207240100Z",
     "start_time": "2023-12-13T20:12:09.160584700Z"
    }
   }
  },
  {
   "cell_type": "code",
   "execution_count": 539,
   "outputs": [
    {
     "name": "stdout",
     "output_type": "stream",
     "text": [
      "Первая полуось:  0.095475016417675\n",
      "Вторая полуось:  20.91164028581101\n",
      "Третья полуось:  1.9025385064260019\n",
      "Полученные коэффициенты: 10.47394425810094 0.04782025638985963 0.5256135403422356\n"
     ]
    }
   ],
   "source": [
    "axis = np.sqrt(1 / (e_val / (x_alpha * 3 * unb_var)))\n",
    "print(\"Первая полуось: \", axis[0])\n",
    "print(\"Вторая полуось: \", axis[1])\n",
    "print(\"Третья полуось: \", axis[2])\n",
    "\n",
    "print(\"Полученные коэффициенты:\", 1/axis[0], 1/axis[1], 1/axis[2])"
   ],
   "metadata": {
    "collapsed": false,
    "ExecuteTime": {
     "end_time": "2023-12-13T20:12:09.328894400Z",
     "start_time": "2023-12-13T20:12:09.183169300Z"
    }
   }
  },
  {
   "cell_type": "markdown",
   "source": [
    "Таким образом, уравнение эллипсоида имеет вид:\n",
    "\n",
    "$ 10.47 x^2 + 0.05 y^2 + 0.53 z^2 = 1 $"
   ],
   "metadata": {
    "collapsed": false
   }
  },
  {
   "cell_type": "markdown",
   "source": [],
   "metadata": {
    "collapsed": false
   }
  },
  {
   "cell_type": "markdown",
   "source": [
    "### 8. Сформулировать гипотезу линейной регрессионной зависимости переменной $Y$ от переменной $X$ и проверить её значимость на уровне $\\alpha$."
   ],
   "metadata": {
    "collapsed": false
   }
  },
  {
   "cell_type": "markdown",
   "source": [
    "Гипотеза: $H_0 : \\psi = 0$"
   ],
   "metadata": {
    "collapsed": false
   }
  },
  {
   "cell_type": "code",
   "execution_count": 540,
   "outputs": [
    {
     "name": "stdout",
     "output_type": "stream",
     "text": [
      "F = 0.17178463694152477\n",
      "x_alpha = 1.6085202639061869\n"
     ]
    }
   ],
   "source": [
    "X_m_h = np.matrix([[1] * len(X), X])\n",
    "XX_T_inv = np.linalg.inv(X_m_h*X_m_h.T)\n",
    "B_h = np.array(XX_T_inv*X_m_h*Y_m)\n",
    "\n",
    "b0_h = float(B_h[0][0])\n",
    "b1_h = float(B_h[1][0])\n",
    "b2_h = 0\n",
    "\n",
    "B_h_m = np.matrix([[b0_h], [b1_h], [b2_h]])\n",
    "SSh = np.linalg.norm(Y_m - X_m.T * B_h_m) ** 2 - np.linalg.norm(Y_m - X_m.T * B)**2\n",
    "SSe = unb_var*(n - r)\n",
    "F = (SSh / 3) / (SSe / (n-r))\n",
    "print(f\"F = {F}\")\n",
    "print(f\"x_alpha = {stats.f.ppf(1 - a, dfn = 3, dfd = n - r)}\")"
   ],
   "metadata": {
    "collapsed": false,
    "ExecuteTime": {
     "end_time": "2023-12-13T20:12:09.361917600Z",
     "start_time": "2023-12-13T20:12:09.216245100Z"
    }
   }
  },
  {
   "cell_type": "markdown",
   "source": [
    "$F < x_{\\alpha_2}$,  следовательно нет оснований отвергать гипотезу"
   ],
   "metadata": {
    "collapsed": false
   }
  },
  {
   "cell_type": "markdown",
   "metadata": {},
   "source": [
    "## Выводы"
   ]
  },
  {
   "cell_type": "markdown",
   "source": [
    "Были изучены метод наименьших квадратов (МНК) и статистические свойства МНК-оценок. \n",
    "Получены навыки построения МНК оценок, доверительных эллипсов и эллипсоидов, проверки гипотез о независимости и линейной регрессионной зависимости. \n",
    "Сделаны выводы о нормальности вектора ошибок и характере зависимости данных."
   ],
   "metadata": {
    "collapsed": false
   }
  }
 ],
 "metadata": {
  "kernelspec": {
   "display_name": "Python 3 (ipykernel)",
   "language": "python",
   "name": "python3"
  },
  "language_info": {
   "codemirror_mode": {
    "name": "ipython",
    "version": 3
   },
   "file_extension": ".py",
   "mimetype": "text/x-python",
   "name": "python",
   "nbconvert_exporter": "python",
   "pygments_lexer": "ipython3",
   "version": "3.9.7"
  }
 },
 "nbformat": 4,
 "nbformat_minor": 4
}
