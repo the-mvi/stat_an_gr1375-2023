{
 "cells": [
  {
   "cell_type": "markdown",
   "metadata": {},
   "source": [
    "# Практическая работа №2: Классические методы математической статистики\n",
    "Выполнил студент гр. 1375 Андрусенко Константин. Вариант №3"
   ]
  },
  {
   "cell_type": "markdown",
   "metadata": {},
   "source": [
    "## Цель работы\n",
    "Научится применять методы математической статистики для решения задач статистического анализа; сформировать навыки реализации методов с помощью прикладных программных пакетов."
   ]
  },
  {
   "cell_type": "markdown",
   "metadata": {},
   "source": [
    "## Основные теоретические положения\n",
    "*Выборочные$  $числовые$  $характеристики<br>\n",
    "\n",
    "Математическое ожидание $$\\overline{X}=\\frac{1}{n}\\sum_{i=1}^{n}X_{i}$$\n",
    "Дисперсия $$S^{2}=\\frac{1}{n}\\sum_{i=1}^{n}\\left( X_{i}-\\overline{X} \\right)^{2}=\\overline{X^{2}}-\\overline{X}^{2}$$\n",
    "\n",
    "Среднеквадратичное отклонение $$S = \\sqrt{S^2} = \\sqrt{\\frac{1}{n}\\sum_{i=1}^{n}\\left( X_{i}-\\overline{X} \\right)^{2}}$$<br>\n",
    "\n",
    "Медиана - p-квантиль при p = 1/2<br>\n",
    "\n",
    "p-квантиль $Z_{n,p} : X_{(\\left\\lfloor np\\right\\rfloor+1)}$ если $np \\notin \\mathbb{Z}$ и $\\left[X_{(np)},X_{(np+1)}\\right)$ иначе<br>\n",
    "\n",
    "\n",
    "коэффициент эксцесса  $$\\widehat{Kurt_{F}}(X)=\\frac{\\frac{1}{n}\\sum_{i=1}^{n}\\left( X_{i}-\\overline{X}^{4} \\right)}{S^{4}}-3$$<br>\n",
    "\n",
    "коэффициент асимметрии $$\\widehat{Skew_{F}}(X)=\\frac{\\frac{1}{n}\\sum_{i=1}^{n}\\left( X_{i}-\\overline{X} \\right)^{3}}{S^{3}}$$<br>\n",
    "\n",
    "Гистограмма - функция $H: K \\to \\mathbb{R}_+: H(x) = \\frac{n_i}{nh_i}$, где $n_i$ - число элементов выборки, попавших в i-й интервал, h - размер интервала<br>\n",
    "\n",
    "\n",
    "*ОМП<br>\n",
    "Если $X_{1},...,X_{n}$-выборка из распределения с плотностью распределения $\\rho_{\\theta}, \\theta\\in \\Theta$, то:\n",
    "\n",
    "Функция правдоподобия распадается в произведение<br> $$L(\\vec {X},\\theta)=\\prod_{i=1}^{n}\\rho_{\\theta}(X_{i})$$\n",
    "\n",
    "Логарифм функции правдоподобия представляется в виде суммы $$LL(\\vec{X},\\theta)=\\ln L(\\vec{X},\\theta)=\\sum_{i=1}^{n}\\ln \\rho_{\\theta}(X_{i})$$\n",
    "\n",
    "В силу монотонности логарифма задача максимизации функции правдоподобия сводится к задаче максимизации её логарифма по всем $\\theta\\in \\Theta$  $$LL(\\vec{X}),\\theta=\\sum_{i=1}^{n}\\ln \\rho_{\\theta}(X_{i})$$<br>\n",
    "\n",
    "Если $\\theta=(\\theta_{1},\\dots,\\theta_{d})$ - d-мерный параметр и $\\rho_{\\theta}$ дифференцируема по $\\theta$, то для нахождения максимума надо найти решения системы уравнений: $$U(\\vec{X},\\theta)=\\frac{\\partial}{\\partial \\theta}LL(\\vec{X},\\theta)=0,\\ i=1,\\dots,d$$<br>\n",
    "\n",
    "*ОММ<br>\n",
    "\n",
    "Пусть $X_{1},\\dots,X_{n}$-выбока из распределения $P_{\\theta}$<br> $\\theta=(\\theta_{1},\\dots,\\theta_{d})$<br>\n",
    "Существуют $\\mu_{k}(\\theta)=\\mathbb{E}X^{k}_{1}, k=1,\\dots,d$<br>\n",
    "\n",
    "Если существует единственное решение $\\widetilde{\\theta}(X)$ системы уравнений:\n",
    "$$\\widehat{\\mu_{k}}(\\widetilde{\\theta})=\\mu_{k}(\\theta), k=1,\\dots,d,$$\n",
    "где $\\widehat{\\mu_{k}}(\\widetilde{\\theta})=\\frac{1}{n}\\sum_{i=1}^{n}X^{k}_{i}$-выборочный момент k-го порядка, то $\\widetilde{\\theta}(X)$ называется оценкой по методу моментов<br>\n",
    "\n",
    "*Асимптотический доверительный интервал<br>\n",
    "\n",
    "Асимптотическая нормальность в терминах сходимости: $\\sqrt{n}\\left( \\widehat{\\theta}(\\overrightarrow{X})-\\theta)\\right)\\sim \\mathcal{N}\\left(0,\\sigma^{2}(\\theta)\\right)$<br>\n",
    "\n",
    "Статистика $\\hat{\\Theta}_n = \\left[T_{1,n}(\\overrightarrow{X}), T_{2,n}(\\overrightarrow{X})\\right]$ определенная при любом $n \\in \\mathbb{N}$ такая, что $lim_{n \\to \\infty}P_{\\theta}\\left(\\left[T_{1,n}(\\overrightarrow{X}), T_{2,n}(\\overrightarrow{X})\\right] \\ni \\theta \\right) \\ge 1 - \\alpha$, где $\\alpha \\in (0,1)$ - уровень значимости<br>\n",
    "\n",
    "*Метод построения на базе ОМП<br>\n",
    "\n",
    "При выполнении определенных условий регулярности<br>\n",
    "\n",
    "$\\sqrt{n}\\left( \\hat{\\theta}(\\overrightarrow{X})-\\theta)\\right)\\sim \\mathcal{N}\\left(0,\\frac{1}{I(\\theta)}\\right)$, где $I(\\theta) = \\lim_{n \\to \\infty}I_n(\\theta)/n$ - информация Фишера, а $ I_n(\\theta) = -\\mathbb{E} \\frac{\\partial^{2} LL}{\\partial \\theta^{2}}$<br>\n",
    "\n",
    "Тогда $\\sqrt{nI\\left(\\hat{\\theta}(\\overrightarrow{X}) \\right)}\\ \\left( \\hat{\\theta}(\\overrightarrow{X})-\\theta \\right)\\sim \\mathcal{N}(0,1)$<br>\n",
    "\n",
    "Выберем $x_{\\alpha} : \\Phi(x_{\\alpha}) = 1 - x_{\\alpha}/2$<br>\n",
    "\n",
    "и получим асимптотический доверительный интервал $\\left[ \\hat{\\theta}(\\overrightarrow{X})-\\frac{X_{\\alpha}}{\\sqrt{n I\\left( \\hat{\\theta}(\\overrightarrow{X}) \\right)}};\\ \\hat{\\theta}(\\overrightarrow{X})+\\frac{X_{\\alpha}}{\\sqrt{n I\\left( \\hat{\\theta}(\\overrightarrow{X}) \\right)}} \\right] \\ni \\theta$<br>\n",
    "\n",
    "*Проверка статистических гипотез<br>\n",
    "\n",
    "Статистическая гипотеза - утверждение  о параметре вида $H: \\theta \\in \\Theta^* \\subseteq \\Theta$<br>\n",
    "\n",
    "Если гипотеза вида $H: \\theta = \\theta^*$, то такая гипотеза называется простой, в ином случае она называется сложной<br>\n",
    "\n",
    "Классическая постановка задачи<br>\n",
    "- основная (нулевая) гипотеза: $H_0: \\theta \\in \\Theta_0$<br>\n",
    "- альтернативная гипотеза: $H_A: \\theta \\in \\Theta_A$<br>\n",
    "\n",
    "Статистический критерий  статистика $\\phi : \\mathfrak{X} \\to [0,1]$, которая определяет вероятность отвергнуть основную гипотезу<br>\n",
    "\n",
    "*Критерий $\\chi^2$<br>\n",
    "\n",
    "Cтатистика критерия $\\chi^2 = \\sum \\limits_{i=1}^{r} \\frac{(n_{i} - p_{i} n)^{2}}{n p_{i}}$, где $r$ - число интервалов, $p_i = F_0(I_i)$ - гипотетическая вероятность попадания в интервал, $n_{i}$ - экспериментальная частота попадания в интервал<br>\n",
    "\n",
    "Если $x_\\alpha \\ge \\chi^2$, то гипотезу принимаем<br>\n",
    "\n",
    "Если $x_\\alpha \\lt \\chi^2$, то гипотезу отвергаем<br>\n",
    "\n",
    "$x_{\\alpha} : K_{r-1}(x_{\\alpha}) = 1 - \\alpha$, где $K_{r-1}$ - функция распределения $\\chi^2$<br>\n",
    "\n",
    "*Статистика отношения правдоподобия<br>\n",
    "\n",
    "$H_0 : \\theta = \\theta_0;\\  H_A : \\theta = \\theta_1$<br>\n",
    "\n",
    "$LR\\left(\\overrightarrow{X}, \\theta_1, \\theta_0\\right) = \\frac{L\\left(\\overrightarrow{X}, \\theta_1\\right)}{L\\left(\\overrightarrow{X}, \\theta_0\\right)}$<br>\n",
    "\n",
    "\n",
    "\n",
    "*Статистика Колмогорова<br>\n",
    "\n",
    "$D_{n}(\\overrightarrow{X}) = \\overset{}{\\underset{X \\in \\mathbb R}{sup}} |F_{0}(X) - F_{n}(X)|$<br>\n",
    "\n",
    "*Теорема Колмогорова<br>\n",
    "\n",
    "Если гипотеза $H_{0}$ верна, и $F_{0}(X)$ - непрерывная, для любого $t > 0$:<br>\n",
    "\n",
    "$P(\\sqrt{n} D_{n}(\\overrightarrow{X}) \\le t) \\xrightarrow[n \\rightarrow \\infty]{} K(t)$, где<br>\n",
    "\n",
    "$K(t) = функция распределения Колмогорова$<br>\n",
    "\n",
    "Если $D_{n} \\lt t$, то гипотезу принимаем<br>\n",
    "\n",
    "Если $D_{n} \\gt t$, то гипотезу отвергаем<br>\n",
    "\n",
    "\n",
    "*Фундаментальная лемма Неймана - Пирсона<br>\n",
    "\n",
    "Существует наиболее мощный критерий уровня значимости $\\alpha$:<br>\n",
    "\n",
    "$\\phi(x) = 1$, при $LR(X) > c$<br> $\\phi(x) = p$, при $LR(X) = c$<br> $\\phi(x) = 0$, при $LR(X)<br> < c$ где $c = const$ и $p \\in [0,1)$ определяются из уравнения<br> $\\mathbb{E}_{\\theta_0}\\phi(X) = P_{\\theta_0}(LR(X) > c) + p*P_{\\theta_0}(LR(X) = c) = \\alpha$<br>"
   ]
  },
  {
   "cell_type": "markdown",
   "metadata": {},
   "source": [
    "## Постановка задачи\n",
    "Для полученных в результате эксперимента наборов данных выполнить статистическую обработку. Полученные результаты содержательно проинтерпретировать."
   ]
  },
  {
   "cell_type": "markdown",
   "metadata": {},
   "source": [
    "## Выполнение работы"
   ]
  },
  {
   "cell_type": "markdown",
   "metadata": {},
   "source": []
  },
  {
   "cell_type": "markdown",
   "metadata": {},
   "source": [
    "### Задание 1"
   ]
  },
  {
   "cell_type": "code",
   "execution_count": 352,
   "metadata": {
    "ExecuteTime": {
     "end_time": "2023-12-06T20:20:04.425189500Z",
     "start_time": "2023-12-06T20:20:03.683800600Z"
    }
   },
   "outputs": [
    {
     "name": "stdout",
     "output_type": "stream",
     "text": [
      "Размер выборки:  50\n"
     ]
    }
   ],
   "source": [
    "import numpy as np\n",
    "import matplotlib.pyplot as plt\n",
    "\n",
    "x = [int(xi) for xi in \"1 0 0 7 6 7 4 16 5 1 0 4 10 0 4 1 0 3 0 6 0 8 1 1 8 0 10 8 1 5 0 15 3 4 1 0 13 4 1 0 10 0 2 11 1 1 1 3 6 1\".split(\" \")]\n",
    "n = len(x)\n",
    "print(\"Размер выборки: \", n)\n",
    "A1 = 0.10\n",
    "A = 2.21\n",
    "B = 5.79\n",
    "Lambda0 = 5.00\n",
    "Lambda1 = 4.00"
   ]
  },
  {
   "cell_type": "markdown",
   "metadata": {},
   "source": []
  },
  {
   "cell_type": "markdown",
   "metadata": {},
   "source": [
    "#### a)Построить вариационный ряд, эмпирическую функцию распределения и гистограмму частот."
   ]
  },
  {
   "cell_type": "code",
   "execution_count": 353,
   "metadata": {
    "ExecuteTime": {
     "end_time": "2023-12-06T20:20:04.736486900Z",
     "start_time": "2023-12-06T20:20:03.699047300Z"
    }
   },
   "outputs": [
    {
     "name": "stdout",
     "output_type": "stream",
     "text": [
      "Вариационный ряд: 0 0 0 0 0 0 0 0 0 0 0 0 1 1 1 1 1 1 1 1 1 1 1 1 2 3 3 3 4 4 4 4 4 5 5 6 6 6 7 7 8 8 8 10 10 10 11 13 15 16\n"
     ]
    }
   ],
   "source": [
    "x_sorted = np.sort(x)\n",
    "print(\"Вариационный ряд: \", end=\"\")\n",
    "print(*x_sorted)"
   ]
  },
  {
   "cell_type": "markdown",
   "metadata": {},
   "source": [
    "Вариационный ряд: $$\\vec{X}^\\prime = \\left(0, 0, 0, 0, 0, 0, 0, 0, 0, 0, 0, 0, 1, 1, 1, 1, 1, 1, 1, 1, 1, 1, 1, 1, 2, 3, 3, 3, 4, 4, 4, 4, 4, 5, 5, 6, 6, 6, 7, 7, 8, 8, 8, 10, 10, 10, 11, 13, 15, 16 \\right)$$\n"
   ]
  },
  {
   "cell_type": "code",
   "execution_count": 354,
   "metadata": {
    "ExecuteTime": {
     "end_time": "2023-12-06T20:20:05.022110200Z",
     "start_time": "2023-12-06T20:20:03.708911800Z"
    }
   },
   "outputs": [
    {
     "data": {
      "image/png": "[encoded data removed]",
      "text/plain": [
       "<Figure size 640x480 with 1 Axes>"
      ]
     },
     "metadata": {},
     "output_type": "display_data"
    }
   ],
   "source": [
    "plt.ecdf(x)\n",
    "plt.title(\"Эмпирическая функция распределения\")\n",
    "plt.xlabel(\"x\")\n",
    "plt.ylabel(\"F(x)\")\n",
    "plt.show()"
   ]
  },
  {
   "cell_type": "markdown",
   "metadata": {},
   "source": []
  },
  {
   "cell_type": "code",
   "execution_count": 355,
   "metadata": {
    "ExecuteTime": {
     "end_time": "2023-12-06T20:20:05.397009800Z",
     "start_time": "2023-12-06T20:20:03.890993100Z"
    }
   },
   "outputs": [
    {
     "data": {
      "image/png": "[encoded data removed]",
      "text/plain": [
       "<Figure size 640x480 with 1 Axes>"
      ]
     },
     "metadata": {},
     "output_type": "display_data"
    }
   ],
   "source": [
    "plt.hist(x_sorted, bins=range(min(x), max(x) + 2), density=True, edgecolor='black')\n",
    "plt.xlabel('Значение')\n",
    "plt.ylabel('Относительная частота')\n",
    "plt.title('Гистограмма частот')\n",
    "plt.show()"
   ]
  },
  {
   "cell_type": "markdown",
   "metadata": {},
   "source": [
    "#### b) Вычислить выборочные аналоги следующих числовых характеристик: (i)математическое ожидание, (ii)дисперсия, (iii)медианы, (iv)асимметрии, (v)эксцесса (vi) вероятности $\\mathbb{P}(X\\in \\left[ a,b \\right])$"
   ]
  },
  {
   "cell_type": "code",
   "execution_count": 356,
   "metadata": {
    "ExecuteTime": {
     "end_time": "2023-12-06T20:20:05.436408300Z",
     "start_time": "2023-12-06T20:20:04.032890700Z"
    }
   },
   "outputs": [
    {
     "name": "stdout",
     "output_type": "stream",
     "text": [
      "Выборочное среднее:  3.88\n",
      "Выборочная дисперсия:  17.786\n",
      "Выборочное СКО:  4.217\n",
      "Выборочная медиана:  2.5\n",
      "Выборочная асимметрия:  1.138\n",
      "Выборочный эксцесс:  0.493\n",
      "Вероятность попадания в промежуток:  0.2\n"
     ]
    }
   ],
   "source": [
    "from scipy import stats\n",
    "mn = np.mean(x)\n",
    "var = np.round(np.var(x), 3)\n",
    "sd = np.round(np.sqrt(var), 3)\n",
    "md = np.median(x)\n",
    "skew = np.round(stats.skew(x), 3)\n",
    "kurtosis = np.round(stats.kurtosis(x), 3)\n",
    "probability =  sum([int(A <= xi <= B) for xi in x]) / n\n",
    "\n",
    "print(\"Выборочное среднее: \", mn)\n",
    "print(\"Выборочная дисперсия: \", var)\n",
    "print(\"Выборочное СКО: \", sd)\n",
    "print(\"Выборочная медиана: \", md)\n",
    "print(\"Выборочная асимметрия: \", skew)\n",
    "print(\"Выборочный эксцесс: \", kurtosis)\n",
    "print(\"Вероятность попадания в промежуток: \", probability)"
   ]
  },
  {
   "cell_type": "markdown",
   "metadata": {},
   "source": [
    "#### c)В предположении, что исходные наблюдения являются выборкой из распределения Пуассона, построить ОМП и ОММ параметра $\\lambda$.Найти смещение оценки."
   ]
  },
  {
   "cell_type": "markdown",
   "metadata": {},
   "source": [
    "$X \\sim \\mathop{\\mathrm{Pois}}\\nolimits(\\lambda)$ <br>\n",
    "##### Найдем ОМП\n",
    "$ q_{\\theta}(k) = \\frac{\\lambda^k}{k!}\\cdot e^{-\\lambda}$<br>\n",
    "Построим функцию максимального правдоподобия\n",
    "$L(\\vec X,{\\theta}) = \\prod_{i=1}^{n} \\frac{\\lambda^{x_i}}{x_i!}\\cdot e^{-\\lambda} = \\lambda^{\\sum_{\\small i=1}^{n}x_i}\\cdot e^{-n\\lambda}\\cdot \\prod_{i=1}^{n} \\frac{1}{x_i!} $<br>\n",
    "$ g(T(\\overrightarrow{X})) = \\lambda^{\\sum_{\\small i=1}^{n}x_i}\\cdot e^{-n\\lambda}\\cdot \\prod_{i=1}^{n}$\n",
    "$ h(\\overrightarrow{X}) = \\frac{1}{x_i!}$\n",
    "$\\sum_{\\small i=1}^{n}x_i $- МДС. Т.к. распределение Пуассона принадлежит экспоненциальному семейству, МДС = ПДС\n",
    "Перейдем к логарифмической функции максимального правдоподобия\n",
    "$LL(\\vec x,{\\theta}) = \\sum_{i=1}^{n}x_i \\cdot \\ln{\\lambda} - n\\lambda + \\ln{\\prod\\limits_{i = 1}^n\\frac{1}{\\large x_i!}}$ <br>\n",
    "$\\frac{\\partial LL(\\vec x,{\\theta})}{\\partial \\lambda} = \\frac{\\displaystyle\\sum_{i=1}^{n}x_i}{\\lambda} - n=0$<br>\n",
    "$\\frac{\\displaystyle\\sum_{i=1}^{n}x_i}{\\lambda} = n$<br>\n",
    "$\\hat \\lambda = \\frac{1}{n}\\sum_{i=1}^{n}x_i = \\bar{X} - ОМП$<br>\n",
    "##### Найдем ОММ\n",
    "Их характеристик распределения Пуассона:<br>\n",
    "Математическое ожидание: $\\mathbb{E}_{\\theta}X = \\lambda$ <br>\n",
    "Первый момент: $\\mathrm{M_1} = \\bar{X}$ <br>\n",
    "$\\widetilde{\\theta} = \\widetilde{\\lambda} = \\bar{X} - ОММ$<br>\n",
    "\n",
    "##### Найдем смещение оценок <br>\n",
    "ОМП:\n",
    "$\\large \\mathbb{E}_{\\theta}{\\hat\\lambda} = \\mathbb{E}_{\\theta}\\overline{X} = \\mathbb{E}_{\\theta}\\frac{1}{n}\\sum_{i=1}^{n}x_i = \\frac{1}{n} \\cdot \\normalsize n \\cdot \\lambda = \\lambda$ - Несмещенная оценка\n",
    "ОММ = ОМП, следовательно она тоже несмещенная\n",
    "\n",
    "$\\hat{\\lambda} = \\bar{X} = 3.88$"
   ]
  },
  {
   "cell_type": "markdown",
   "metadata": {},
   "source": [
    "#### d) Построить асимптотический доверительный интервал уровня значимости $\\alpha_1$ для параметра $\\lambda$ на базе ОМП"
   ]
  },
  {
   "cell_type": "markdown",
   "metadata": {},
   "source": [
    "$\\hat{\\theta}\\left(\\overrightarrow{X}\\right) = \\bar{X}$ - ОМП<br>\n",
    "\n",
    "$\\frac{\\partial^2 LL\\left(\\overrightarrow X,\\ \\theta\\right)}{\\partial \\theta^2} = -\\frac{\n",
    "\\sum_{i=1}^{n}{x_i}}{\\lambda^2}$ <br>\n",
    "\n",
    "$I_n(\\theta) = -\\mathbb{E}_{\\theta}\\left(\\frac{\\partial^2 LL\\left(\\overrightarrow X,\\ \\theta\\right)}{\\partial \\theta^2}\\right) = \\mathbb{E}_{\\theta}\\frac{\\sum_{i=1}^{n}{x_i}}{\\lambda^2} = \\frac{n\\lambda}{\\lambda^2} = \\frac{n}{\\lambda}$ <br>\n",
    "\n",
    "$I(\\theta) = {\\lim_{n \\to \\infty}}\\frac{I_n(\\theta)}{n} = {\\lim_{n \\to \\infty}}\\frac{1}{\\lambda} = \\frac{1}{\\lambda}$ <br>\n",
    "\n",
    "$\\sqrt{n I(\\hat{\\theta})}(\\hat{\\theta}(\\overrightarrow{X})-\\theta)\\sim\\mathcal{N}(0, 1)$ <br>\n",
    "Подставим полученные значения:\n",
    "$\\sqrt{\\frac{n}{\\bar{X}}}\\left(\\bar{X} - \\theta\\right) \\sim \\mathcal{N} \\left(0, 1\\right)$ <br>\n",
    "$\\alpha_1=0.10$\n",
    "$x_\\alpha$ : $\\Phi(x_\\alpha) = 1 - \\frac{\\alpha}{2} = 0.95$ <br>\n",
    "Из таблицы стандартного нормального распределения получим: $x_\\alpha \\approx 1.67$\n",
    "$\\mathbb{P}_\\theta\\left(-x_\\alpha \\le \\sqrt{\\frac{n}{\\bar{X}}}\\left(\\bar{X} - \\theta\\right) \\le x_\\alpha\\right) \\approx 1 - \\alpha = 0.9$\n",
    "\n",
    "$\\left[\\bar{X} - x_\\alpha\\sqrt{\\frac{\\bar{X}}{n}}, \\bar{X} + x_\\alpha\\sqrt{\\frac{\\bar{X}}{n}}\\right] \\ni \\lambda$ <br>\n",
    "$\\left[3.88 - 1.67\\sqrt{\\frac{3.88}{50}}, 3.88 +  1.67\\sqrt{\\frac{3.88}{50}}\\right] \\ni \\lambda$ <br>\n",
    "$\\left[3.415, 4.345\\right] \\ni \\lambda$ - Асимптотический доверительный интервал\n",
    "\n"
   ]
  },
  {
   "cell_type": "markdown",
   "metadata": {},
   "source": [
    "#### e)Используя гистограмму частот, построить критерий значимости $\\mathcal{X^{2}}$ проверки простой гипотезы согласия с распределением Пуассона с параметром $\\lambda_{0}$. Проверить гипотезу на уровень значимости $\\alpha_{1}$. Вычислить наибольшее значение уровня значимости, на котором ещё нет оснований отвергнуть данную гипотезу."
   ]
  },
  {
   "cell_type": "code",
   "execution_count": 357,
   "metadata": {
    "ExecuteTime": {
     "end_time": "2023-12-06T20:20:05.462387800Z",
     "start_time": "2023-12-06T20:20:04.041093Z"
    }
   },
   "outputs": [
    {
     "name": "stdout",
     "output_type": "stream",
     "text": [
      "I1: [0, 1)\n",
      "I2: [1, 2)\n",
      "I3: [2, 5)\n",
      "I4: [5, 8)\n",
      "I5: [8, 17)\n",
      "Наблюдаемый критерий X2 =  28.1205\n",
      "Значение X^2 при уровне значимости  0.1 и 4 степенях свободы =  7.7794\n"
     ]
    }
   ],
   "source": [
    "def factorial(k):\n",
    "    result = 1\n",
    "    for i in range(1, k + 1):\n",
    "        result *= i\n",
    "    return result\n",
    "    \n",
    "def Puasson(lam,k):\n",
    "    return lam**k/factorial(k)*np.exp(-lam)\n",
    "\n",
    "ni = []\n",
    "uniqueX = sorted(np.unique(x))\n",
    "\n",
    "for j in uniqueX:\n",
    "    ni.append(x.count(j))\n",
    "\n",
    "intervals = [[0], [1], [2, 4], [5, 7], [8, 13]]\n",
    "\n",
    "i = 0\n",
    "for int_i in intervals:\n",
    "    print(f\"I{i+1}: [{uniqueX[int_i[0]]}, {uniqueX[int_i[len(int_i)-1]]+1})\")    \n",
    "    i += 1\n",
    "\n",
    "N_i = [0]*len(intervals)\n",
    "i = 0\n",
    "for int_i in intervals:\n",
    "    for j in range(int_i[0], int_i[len(int_i)-1]):\n",
    "        N_i[i] += ni[j]\n",
    "    i += 1\n",
    "\n",
    "X2 = 0\n",
    "\n",
    "i = 0\n",
    "for int_i in intervals:\n",
    "    P = 0\n",
    "    for k in range(uniqueX[int_i[0]],  uniqueX[int_i[len(int_i)-1]]+1):\n",
    "        P += Puasson(Lambda0, k)\n",
    "    X2 += (N_i[i] - n*P)**2/n/P\n",
    "    i += 1\n",
    "\n",
    "\n",
    "print(\"Наблюдаемый критерий X2 = \", round(X2, 4))\n",
    "chi_value = stats.chi2.ppf(1-A1, len(intervals)-1)\n",
    "print('Значение X^2 при уровне значимости ', A1, 'и', len(intervals)-1, 'степенях свободы = ' , round(chi_value,4))"
   ]
  },
  {
   "cell_type": "markdown",
   "metadata": {},
   "source": [
    "Так как $\\chi^2 >= \\chi_{4;0.1}^2$ то по критерию Пирсона отвергаем гипотезу"
   ]
  },
  {
   "cell_type": "code",
   "execution_count": 358,
   "metadata": {
    "ExecuteTime": {
     "end_time": "2023-12-06T20:20:05.487387900Z",
     "start_time": "2023-12-06T20:20:04.056081500Z"
    }
   },
   "outputs": [
    {
     "name": "stdout",
     "output_type": "stream",
     "text": [
      "Наибольшее значение уровня значимости:  1.1790636330055726e-05\n"
     ]
    }
   ],
   "source": [
    "p_value = stats.chi2.cdf(X2, len(intervals)-1)\n",
    "print('Наибольшее значение уровня значимости: ', 1-p_value)"
   ]
  },
  {
   "cell_type": "markdown",
   "metadata": {},
   "source": [
    "#### f) Построить критерий значимости  $\\mathcal{X^{2}}$ проверки сложной гипотезы согласия с распределением Пуассона. Проверить гипотезу по уровню значимости $\\alpha_{1}$.Вычислить наибольшее значение уровня значимости, на котором ещё нет оснований отвергнуть данную гипотезу."
   ]
  },
  {
   "cell_type": "code",
   "execution_count": 359,
   "metadata": {
    "ExecuteTime": {
     "end_time": "2023-12-06T20:20:05.487387900Z",
     "start_time": "2023-12-06T20:20:04.063208400Z"
    }
   },
   "outputs": [
    {
     "name": "stdout",
     "output_type": "stream",
     "text": [
      "Наблюдаемый критерий X2 =  52.791\n",
      "Значение X^2 при уровне значимости  0.1 и 3 степенях свободы =  6.2514\n"
     ]
    }
   ],
   "source": [
    "X2 = 0\n",
    "i = 0\n",
    "for int_i in intervals:\n",
    "    P = 0\n",
    "    for k in range(uniqueX[int_i[0]],  uniqueX[int_i[len(int_i)-1]]+1):\n",
    "        P += Puasson(mn, k)\n",
    "    X2 += (N_i[i] - n*P)**2/n/P\n",
    "    i += 1\n",
    "print(\"Наблюдаемый критерий X2 = \", round(X2, 4))\n",
    "chi_value = stats.chi2.ppf(1-A1, len(intervals)-2)\n",
    "print('Значение X^2 при уровне значимости ', A1, 'и', len(intervals)-2, 'степенях свободы = ' , round(chi_value,4))"
   ]
  },
  {
   "cell_type": "markdown",
   "metadata": {},
   "source": [
    "Так как $\\chi^2 >= \\chi_{3;0.1}^2$ то по критерию Пирсона отвергаем гипотезу"
   ]
  },
  {
   "cell_type": "code",
   "execution_count": 360,
   "metadata": {
    "ExecuteTime": {
     "end_time": "2023-12-06T20:20:05.487387900Z",
     "start_time": "2023-12-06T20:20:04.070726200Z"
    }
   },
   "outputs": [
    {
     "name": "stdout",
     "output_type": "stream",
     "text": [
      "Наибольшее значение уровня значимости:  2.0314860904591114e-11\n"
     ]
    }
   ],
   "source": [
    "p_value = stats.chi2.cdf(X2, len(intervals)-2)\n",
    "print('Наибольшее значение уровня значимости: ', 1-p_value)"
   ]
  },
  {
   "cell_type": "markdown",
   "metadata": {},
   "source": [
    "#### g)Построить наиболее мощный критерий проверки простой гипотезы пауссоновости с параметром $\\lambda=\\lambda_{0}$ при альтернативе пуассоновсти с параметром $\\lambda=\\lambda_{1}$. Проверить гипотезу на уровне значимости $\\alpha_{1}$. Что получится, если поменять местами основную и альтернативную гипотезы?"
   ]
  },
  {
   "cell_type": "markdown",
   "metadata": {},
   "source": [
    "Основная гипотеза: $H_0 : \\lambda = \\lambda_0$\n",
    "\n",
    "Альтернативная гипотеза: $H_A : \\lambda = \\lambda_1$\n",
    "\n",
    "Функция правдоподобия : $L\\left(\\overrightarrow{X}, \\theta\\right) = \\prod_{i=1}^{n}\\frac{\\lambda^{x_i}}{x_i!}\\exp(-\\lambda) = \\exp(-n\\lambda)\\lambda^{\\sum_{i=1}^{n}{x_i}}\\prod_{i=1}^{n}\\frac{1}{x_i!}$\n",
    "\n",
    "Cтатистика отношения правдоподобия: $LR\\left(\\overrightarrow{X}, \\lambda_0, \\lambda_1\\right) = \\frac{L\\left(\\overrightarrow{X}, \\lambda_1\\right)}{L\\left(\\overrightarrow{X}, \\lambda_0\\right)} = \\exp(-n(\\lambda_1 - \\lambda_0))\\left(\\frac{\\lambda_1}{\\lambda_0}\\right)^{\\sum_{i=1}^{n}{x_i}}$\n",
    "\n",
    "Так как $LR\\left(\\overrightarrow{X}, \\lambda_0, \\lambda_1\\right)$ монотонна относительно МДС $\\bar{X}$, тогда\n",
    "\n",
    "$LR\\left(\\overrightarrow{X}\\right) = \\exp(-n(\\lambda_1 - \\lambda_0))\\left(\\frac{\\lambda_1}{\\lambda_0}\\right)^{\\sum_{i=1}^{n}{x_i}} > c$ <br>\n",
    "$-n(\\lambda_1 - \\lambda_0) + \\sum_{i=1}^{n}{x_i} \\ln\\frac{\\lambda_1}{\\lambda_0} > \\ln c$ <br> \n",
    "$\\bar{X} > \\frac{\\ln c + n(\\lambda_1 - \\lambda_0)}{n\\ln\\frac{\\lambda_1}{\\lambda_0}} = c^*$\n",
    "\n",
    "$LR\\left(\\overrightarrow{X}\\right) < c $ <br>\n",
    "$ \\bar{X} < c^*$\n",
    "\n",
    "Решим уравнение: $P_{\\lambda_0}\\left(LR(\\overrightarrow{X}) > c\\right) + pP_{\\lambda_0}\\left(LR(\\overrightarrow{X}) = c\\right) = \\alpha_1$\n",
    "\n",
    "$P_{\\lambda_0}\\left(n\\bar{X} > nc^*\\right) + pP_{\\lambda_0}\\left(n\\bar{X} = nc^*\\right) = \\alpha_1$\n",
    "\n",
    "При $LR(\\overrightarrow{X}) = c$ Критерий не определен однозначно\n",
    " \n",
    "Пусть $LR(\\overrightarrow{X}) \\neq c$\n",
    "\n",
    "Тогда $P_{\\lambda_0}\\left(n\\bar{X} > nc^*\\right) = 1 - F_{Pois(n\\lambda_0)}\\left(nc^*\\right) = \\alpha_1$\n",
    "$ \\alpha_1 = 0.1 $\n",
    "$F_{Pois(n\\lambda_0)}\\left(nc^*\\right) = 1 - \\alpha_1 = 0.9$"
   ]
  },
  {
   "cell_type": "code",
   "execution_count": 361,
   "metadata": {
    "ExecuteTime": {
     "end_time": "2023-12-06T20:20:05.487387900Z",
     "start_time": "2023-12-06T20:20:04.075374300Z"
    }
   },
   "outputs": [
    {
     "name": "stdout",
     "output_type": "stream",
     "text": [
      "c* =  5.4\n",
      "Среднее выборочное:  3.88\n"
     ]
    }
   ],
   "source": [
    "print(\"c* = \", stats.poisson.ppf(0.9, len(x)*Lambda0) / len(x))\n",
    "print(\"Среднее выборочное: \", mn)"
   ]
  },
  {
   "cell_type": "markdown",
   "metadata": {},
   "source": [
    "Т.к. $c^* > \\bar{X}$ принимаем гипотезу $H_0$\n",
    "\n",
    "##### Поменяем местами гипотезы.\n",
    "Основная гипотеза :$H_0 : \\lambda = \\lambda_1$\n",
    "Альтернативная гипотеза : $H_A : \\lambda = \\lambda_0$\n",
    "Cтатистика отношения правдоподобия : $LR\\left(\\overrightarrow{X}, \\lambda_1, \\lambda_0\\right) = \\frac{L\\left(\\overrightarrow{X}, \\lambda_0\\right)}{L\\left(\\overrightarrow{X}, \\lambda_1\\right)} = \\exp(-n(\\lambda_0 - \\lambda_1))\\left(\\frac{\\lambda_0}{\\lambda_1}\\right)^{\\sum_{i=1}^{n}{x_i}}$\n",
    "Поскольку $LR\\left(\\overrightarrow{X}, \\lambda_1, \\lambda_0\\right)$ монотонно зависит от выборочного среднего $\\bar{X}$:\n",
    "$LR\\left(\\overrightarrow{X}\\right) > c \\iff \\bar{X} > c^*$\n",
    "Решим уравнение: \n",
    " $P_{\\lambda_1}\\left(LR(\\overrightarrow{X}) > c\\right) + pP_{\\lambda_1}\\left(LR(\\overrightarrow{X}) = c\\right) = \\alpha_1$\n",
    " $P_{\\lambda_1}\\left(n\\bar{X} > nc^*\\right) + pP_{\\lambda_1}\\left(n\\bar{X} = nc^*\\right) = \\alpha_1$\n",
    "При $LR(\\overrightarrow{X}) = c$ Критерий не определен однозначно\n",
    "Пусть $LR(\\overrightarrow{X}) \\neq c$\n",
    "\n",
    "Тогда $P_{\\lambda_1}\\left(n\\bar{X} > nc^*\\right) = 1 - F_{Pois(n\\lambda_1)}\\left(nc^*\\right) = \\alpha_1$\n",
    "\n",
    "$F_{Pois(n\\lambda_1)}\\left(nc^*\\right) = 1 - \\alpha_1 = 0.9$"
   ]
  },
  {
   "cell_type": "code",
   "execution_count": 362,
   "metadata": {
    "ExecuteTime": {
     "end_time": "2023-12-06T20:20:05.487387900Z",
     "start_time": "2023-12-06T20:20:04.080263Z"
    }
   },
   "outputs": [
    {
     "name": "stdout",
     "output_type": "stream",
     "text": [
      "c* =  4.36\n",
      "Среднее выборочное:  3.88\n"
     ]
    }
   ],
   "source": [
    "print(\"c* = \", stats.poisson.ppf(0.9, len(x)*Lambda1) / len(x))\n",
    "print(\"Среднее выборочное: \", mn)"
   ]
  },
  {
   "cell_type": "markdown",
   "metadata": {},
   "source": [
    "Т.к. $c^* > \\bar{X}$ принимаем гипотезу $H_0$"
   ]
  },
  {
   "cell_type": "markdown",
   "metadata": {},
   "source": [
    "#### h) В пунктах (c)-(f) заменить семейство распределение Пуассона на семейство геометрических распредленией: $\\mathbb{P}_{\\lambda}(X=k)=\\frac{\\lambda^{k}}{(\\lambda+1)^{k+1}}, k\\in \\mathbb{Z_{+}}$"
   ]
  },
  {
   "cell_type": "markdown",
   "metadata": {},
   "source": [
    "#### h.c)\n",
    "\n",
    "##### Найдем ОМП\n",
    "$q_{\\theta}(x) = \\frac{\\lambda^x}{(\\lambda + 1)^{x+1}}$, где $x \\in \\mathbb{Z}_{+}$ <br>\n",
    "\n",
    "Построим функцию максимального правдоподобия\n",
    "\n",
    "$L\\left(\\overrightarrow{X}, \\theta\\right) = \\prod_{i=1}^{n}\\frac{\\lambda^{x_i}}{(\\lambda + 1)^{x_i+1}} = \\frac{\\lambda^{\\sum_{i=1}^{n}x_i}}{(\\lambda + 1)^{n + \\sum_{i=1}^{n}x_i}}$<br>\n",
    "\n",
    "$g(T(\\vec{X})) = \\frac{\\lambda^{\\sum_{i=1}^{n}x_i}}{(\\lambda + 1)^{n + \\sum_{i=1}^{n}x_i}}$ <br>\n",
    "$h(\\vec{X}) \\equiv 1$ <br>\n",
    "$\\sum_{\\small i=1}^{n}x_i $- МДС. Т.к. $q_\\theta$ принадлежит экспоненциальному семейству, МДС = ПДС\n",
    "\n",
    "Перейдем к логарифмической функции максимального правдоподобия\n",
    "$LL\\left(\\overrightarrow{X}, \\theta\\right) = \\sum_{i=1}^{n}x_i\\ \\ln\\lambda - \\left(n + \\sum_{i=1}^{n}x_i\\right)\\ln(\\lambda+1)$ <br>\n",
    "\n",
    "$\\frac{\\partial LL\\left(\\overrightarrow X,\\ \\theta\\right)}{\\partial \\lambda} = \\frac{\\sum_{i=1}^{n}x_i}{\\lambda} - \\frac{n + \\sum_{i=1}^{n}x_i}{\\lambda + 1} = 0$ <br>\n",
    "$n\\lambda+\\lambda\\sum_{i=1}^{n}x_i = \\lambda\\sum_{i=1}^{n}x_i + \\sum_{i=1}^{n}x_i$ <br>\n",
    "$\\hat \\lambda = \\frac{1}{n}\\sum_{i=1}^{n}x_i = \\bar{X} - ОМП$<br>\n",
    "\n",
    "##### Найдем ОММ\n",
    "\n",
    "$q_{\\theta}(x)_{\\lambda}(X=k)=\\frac{\\lambda^{k}}{(\\lambda+1)^{k+1}} = \\left(1-\\frac{1}{\\lambda+1}\\right)^k\\frac{1}{\\lambda+1}$ <br>\n",
    "$p = \\frac{1}{\\lambda+1}$\n",
    "Из свойств семейства геометрических распределений получим:\n",
    "Математическое ожидание: $\\mathbb{E}_{\\theta}X = \\frac{1-p}{p}=\\lambda$ <br>\n",
    "Первый момент: $\\mathrm{M_1} = \\bar{X}$ <br>\n",
    "$\\widetilde{\\theta} = \\widetilde{\\lambda} = \\bar{X} - ОММ$<br>\n",
    "\n",
    "##### Найдем смещение оценок <br>\n",
    "ОМП:\n",
    "$\\large \\mathbb{E}_{\\theta}{\\hat\\lambda} = \\mathbb{E}_{\\theta}\\overline{X} = \\mathbb{E}_{\\theta}\\frac{1}{n}\\sum_{i=1}^{n}x_i = \\frac{1}{n} \\cdot \\normalsize n \\cdot \\lambda = \\lambda$ - Несмещенная оценка\n",
    "ОММ = ОМП, следовательно она тоже несмещенная\n",
    "$\\hat{\\lambda} = \\bar{X} = 3.88$"
   ]
  },
  {
   "cell_type": "markdown",
   "metadata": {},
   "source": [
    "#### h.d) \n",
    "\n",
    "$\\hat{\\theta}\\left(\\overrightarrow{X}\\right) = \\bar{X}$ - ОМП<br>\n",
    "\n",
    "$\\frac{\\partial^2 LL\\left(\\overrightarrow X,\\ \\theta\\right)}{\\partial \\lambda^2} = -\\frac{\\sum_{i=1}^{n}{x_i}}{\\lambda^2} + \\frac{n + \\sum_{i=1}^{n}{x_i}}{(\\lambda + 1)^2}$ <br>\n",
    "\n",
    "$I_n(\\theta) = -\\mathbb{E}_{\\theta}\\left(\\frac{\\partial^2 LL\\left(\\overrightarrow X,\\ \\theta\\right)}{\\partial \\lambda^2}\\right) = \\mathbb{E}_{\\theta}\\left(\\frac{\\sum_{i=1}^{n}{x_i}}{\\lambda^2} - \\frac{n + \\sum_{i=1}^{n}{x_i}}{(\\lambda + 1)^2}\\right) = \\frac{1}{\\lambda^2}\\sum_{i=1}^{n}\\mathbb{E}_{\\theta}{x_i} - \\frac{n}{(\\lambda+1)^2} - \\frac{1}{(\\lambda+1)^2}\\sum_{i=1}^{n}\\mathbb{E}_{\\theta}{x_i} = \\frac{n}{\\lambda} - \\frac{n}{(\\lambda+1)^2} - \\frac{n\\lambda}{(\\lambda+1)^2}$ <br>\n",
    "\n",
    "$I(\\theta) = {\\lim_{n \\to \\infty}}\\frac{I_n(\\theta)}{n} = {\\lim_{n \\to \\infty}\\left(\\frac{1}{\\lambda} - \\frac{1}{(\\lambda+1)^2} - \\frac{\\lambda}{(\\lambda+1)^2}\\right)} = \\frac{1}{\\lambda} - \\frac{1}{\\lambda+1}$ <br>\n",
    "\n",
    "$\\sqrt{n I(\\hat{\\theta})}(\\hat{\\theta}(\\overrightarrow{X})-\\theta)\\sim\\mathcal{N}(0, 1)$ <br>\n",
    "Подставим полученные значения:\n",
    "$I_n(\\bar{\\theta})=\\frac{1}{\\bar{X}}-\\frac{1}{\\bar{X}+1}=\\frac{1}{\\bar{X}(1+\\bar{X})}$\n",
    "$\\sqrt{\\frac{n}{\\bar{X}(1+\\bar{X})}}\\left(\\bar{X} - \\theta\\right) \\sim \\mathcal{N} \\left(0, 1\\right)$ <br>\n",
    "$\\alpha_1=0.10$\n",
    "$x_\\alpha$ : $\\Phi(x_\\alpha) = 1 - \\frac{\\alpha}{2} = 0.95$ <br>\n",
    "Из таблицы стандартного нормального распределения получим: $x_\\alpha \\approx 1.67$\n",
    "$\\mathbb{P}_\\theta\\left(-x_\\alpha \\le \\sqrt{\\frac{n}{\\bar{X}(1+\\bar{X})}}\\left(\\bar{X} - \\theta\\right) \\le x_\\alpha\\right) \\approx 1 - \\alpha = 0.9$\n",
    "\n",
    "$\\left[\\bar{X} - x_\\alpha\\sqrt{\\frac{\\bar{X}(\\bar{X}+1)}{n}}, \\bar{X} + x_\\alpha\\sqrt{\\frac{\\bar{X}(\\bar{X}+1)}{n}}\\right] \\ni \\lambda$ <br>\n",
    "$\\left[3.88 - 1.67\\sqrt{\\frac{3.88(3.88+1)}{50}}, 3.88 + 1.67\\sqrt{\\frac{3.88(3.88+1)}{50}}\\right] \\ni \\lambda$ <br>\n",
    "$\\left[2.852, 4.908\\right] \\ni \\lambda$ - Асимптотический доверительный интервал"
   ]
  },
  {
   "cell_type": "code",
   "execution_count": 363,
   "metadata": {
    "ExecuteTime": {
     "end_time": "2023-12-06T20:20:05.487387900Z",
     "start_time": "2023-12-06T20:20:04.090315400Z"
    }
   },
   "outputs": [
    {
     "name": "stdout",
     "output_type": "stream",
     "text": [
      "Наблюдаемый критерий X2 =  24.4335\n",
      "Значение X^2 при уровне значимости  0.1 и 4 степенях свободы =  7.7794\n"
     ]
    }
   ],
   "source": [
    "#### h.e) \n",
    "\n",
    "def Geom(lam, k):\n",
    "    return lam**k/(lam+1)**(k+1)\n",
    "\n",
    "X2 = 0\n",
    "\n",
    "i = 0\n",
    "for int_i in intervals:\n",
    "    P = 0\n",
    "    for k in range(uniqueX[int_i[0]],  uniqueX[int_i[len(int_i)-1]]+1):\n",
    "        P += Geom(Lambda0, k)\n",
    "    X2 += (N_i[i] - n*P)**2/n/P\n",
    "    i += 1\n",
    "print(\"Наблюдаемый критерий X2 = \", round(X2, 4))\n",
    "chi_value = stats.chi2.ppf(1-A1, len(intervals)-1)\n",
    "print('Значение X^2 при уровне значимости ', A1, 'и', len(intervals)-1, 'степенях свободы = ' , round(chi_value,4))"
   ]
  },
  {
   "cell_type": "markdown",
   "metadata": {},
   "source": [
    "Так как $\\chi^2 >= \\chi_{4;0.1}^2$ то по критерию Пирсона отвергаем гипотезу"
   ]
  },
  {
   "cell_type": "code",
   "execution_count": 364,
   "metadata": {
    "ExecuteTime": {
     "end_time": "2023-12-06T20:20:05.512389200Z",
     "start_time": "2023-12-06T20:20:04.095249300Z"
    }
   },
   "outputs": [
    {
     "name": "stdout",
     "output_type": "stream",
     "text": [
      "Наибольшее значение уровня значимости:  6.538143083134607e-05\n"
     ]
    }
   ],
   "source": [
    "p_value = stats.chi2.cdf(X2, len(intervals)-1)\n",
    "print('Наибольшее значение уровня значимости: ', 1-p_value)"
   ]
  },
  {
   "cell_type": "code",
   "execution_count": 365,
   "metadata": {
    "ExecuteTime": {
     "end_time": "2023-12-06T20:20:05.512389200Z",
     "start_time": "2023-12-06T20:20:04.101787300Z"
    }
   },
   "outputs": [
    {
     "name": "stdout",
     "output_type": "stream",
     "text": [
      "Наблюдаемый критерий X2 =  28.7874\n",
      "Значение X^2 при уровне значимости  0.1 и 3 степенях свободы =  6.2514\n"
     ]
    }
   ],
   "source": [
    "#### h.f)\n",
    "\n",
    "X2 = 0\n",
    "i = 0\n",
    "for int_i in intervals:\n",
    "    P = 0\n",
    "    for k in range(uniqueX[int_i[0]],  uniqueX[int_i[len(int_i)-1]]+1):\n",
    "        P += Geom(mn, k)\n",
    "    X2 += (N_i[i] - n*P)**2/n/P\n",
    "    i += 1\n",
    "print(\"Наблюдаемый критерий X2 = \", round(X2, 4))\n",
    "chi_value = stats.chi2.ppf(1-A1, len(intervals)-2)\n",
    "print('Значение X^2 при уровне значимости ', A1, 'и', len(intervals)-2, 'степенях свободы = ' , round(chi_value,4))"
   ]
  },
  {
   "cell_type": "markdown",
   "metadata": {},
   "source": [
    "Так как $\\chi^2 >= \\chi_{3;0.1}^2$ то по критерию Пирсона отвергаем гипотезу\n"
   ]
  },
  {
   "cell_type": "code",
   "execution_count": 366,
   "metadata": {
    "ExecuteTime": {
     "end_time": "2023-12-06T20:20:05.512389200Z",
     "start_time": "2023-12-06T20:20:04.109022400Z"
    }
   },
   "outputs": [
    {
     "name": "stdout",
     "output_type": "stream",
     "text": [
      "Наибольшее значение уровня значимости:  2.4820694485283568e-06\n"
     ]
    }
   ],
   "source": [
    "p_value = stats.chi2.cdf(X2, len(intervals)-2)\n",
    "print('Наибольшее значение уровня значимости: ', 1-p_value)"
   ]
  },
  {
   "cell_type": "markdown",
   "metadata": {},
   "source": [
    "### Задание 2"
   ]
  },
  {
   "cell_type": "code",
   "execution_count": 367,
   "metadata": {
    "ExecuteTime": {
     "end_time": "2023-12-06T20:20:05.537391500Z",
     "start_time": "2023-12-06T20:20:04.116278600Z"
    }
   },
   "outputs": [
    {
     "name": "stdout",
     "output_type": "stream",
     "text": [
      "Размер выборки:  50\n"
     ]
    }
   ],
   "source": [
    "x2 = [float(xi) for xi in \"15.67 0.20 7.49 1.10 0.01 0.00 1.28 3.57 0.33 0.25 15.58 0.04 0.36 3.71 6.48 0.43 3.55 0.00 22.37 0.39 1.06 4.87 0.01 0.28 0.75 \\\n",
    "6.93 0.02 0.01 3.08 1.39 0.39 0.06 20.37 5.34 3.14 2.02 0.87 7.72 3.78 11.69 1.91 3.14 0.03 6.39 3.24 9.29 2.30 0.10 2.11 3.25\".split(\" \")]\n",
    "n2 = len(x2)\n",
    "print(\"Размер выборки: \", n2)\n",
    "A2 = 0.20\n",
    "C = 0.00\n",
    "D = 4.49\n",
    "H = 1.90\n",
    "Lambda2_0 = 0.14\n",
    "Lambda2_1 = 0.25"
   ]
  },
  {
   "cell_type": "markdown",
   "metadata": {},
   "source": [
    "#### a) Построить вариционный ряд, эмпирическую функцию распределения,гистограмму и полигон частот с шагом h."
   ]
  },
  {
   "cell_type": "code",
   "execution_count": 368,
   "metadata": {
    "ExecuteTime": {
     "end_time": "2023-12-06T20:20:05.537391500Z",
     "start_time": "2023-12-06T20:20:04.122998Z"
    }
   },
   "outputs": [
    {
     "name": "stdout",
     "output_type": "stream",
     "text": [
      "Вариационный ряд: 0.0 0.0 0.01 0.01 0.01 0.02 0.03 0.04 0.06 0.1 0.2 0.25 0.28 0.33 0.36 0.39 0.39 0.43 0.75 0.87 1.06 1.1 1.28 1.39 1.91 2.02 2.11 2.3 3.08 3.14 3.14 3.24 3.25 3.55 3.57 3.71 3.78 4.87 5.34 6.39 6.48 6.93 7.49 7.72 9.29 11.69 15.58 15.67 20.37 22.37\n"
     ]
    }
   ],
   "source": [
    "x_sorted2 = np.sort(x2)\n",
    "print(\"Вариационный ряд: \", end=\"\")\n",
    "print(*x_sorted2)"
   ]
  },
  {
   "cell_type": "markdown",
   "metadata": {},
   "source": [
    "Вариационный ряд: $$\\vec{X}^\\prime = \\left(0.0, 0.0, 0.01, 0.01, 0.01, 0.02, 0.03, 0.04, 0.06, 0.1, 0.2, 0.25, 0.28, 0.33, 0.36, 0.39, 0.39, 0.43, 0.75, 0.87, 1.06, 1.1, 1.28, 1.39, 1.91, 2.02, 2.11, 2.3, 3.08, 3.14, 3.14, 3.24, 3.25, 3.55, 3.57, 3.71, 3.78, 4.87, 5.34, 6.39, 6.48, 6.93, 7.49, 7.72, 9.29, 11.69, 15.58, 15.67, 20.37, 22.37 \\right)$$"
   ]
  },
  {
   "cell_type": "code",
   "execution_count": 369,
   "metadata": {
    "ExecuteTime": {
     "end_time": "2023-12-06T20:20:05.724369200Z",
     "start_time": "2023-12-06T20:20:04.129064Z"
    }
   },
   "outputs": [
    {
     "data": {
      "image/png": "[encoded data removed]",
      "text/plain": [
       "<Figure size 640x480 with 1 Axes>"
      ]
     },
     "metadata": {},
     "output_type": "display_data"
    }
   ],
   "source": [
    "plt.ecdf(x2)\n",
    "plt.title(\"Эмпирическая функция распределения\")\n",
    "plt.xlabel(\"x\")\n",
    "plt.ylabel(\"F(x)\")\n",
    "plt.show()"
   ]
  },
  {
   "cell_type": "code",
   "execution_count": 370,
   "metadata": {
    "ExecuteTime": {
     "end_time": "2023-12-06T20:20:05.796377Z",
     "start_time": "2023-12-06T20:20:04.232932600Z"
    }
   },
   "outputs": [
    {
     "data": {
      "text/plain": [
       "Text(0.5, 1.0, 'Гистограмма и полигон частот')"
      ]
     },
     "execution_count": 370,
     "metadata": {},
     "output_type": "execute_result"
    },
    {
     "data": {
      "image/png": "[encoded data removed]",
      "text/plain": [
       "<Figure size 640x480 with 1 Axes>"
      ]
     },
     "metadata": {},
     "output_type": "display_data"
    }
   ],
   "source": [
    "bins = np.arange(min(x2), max(x2) + H, H)\n",
    "plt.hist(x_sorted2, bins=bins, density=True, edgecolor='black', color=\"green\", label=\"Гистограмма\")\n",
    "polygon_values = []\n",
    "for i in range(1, len(bins)):\n",
    "    polygon_values.append((bins[i] + bins[i-1])/2)\n",
    "hist, _ = np.histogram(x2, bins=bins, density=True)\n",
    "plt.plot(polygon_values, hist, color='r', label=\"Полигон\")\n",
    "plt.xlabel('Значение')\n",
    "plt.legend()\n",
    "plt.ylabel('Относительная частота')\n",
    "plt.title('Гистограмма и полигон частот')"
   ]
  },
  {
   "cell_type": "markdown",
   "metadata": {},
   "source": [
    "#### b) Вычислить выборочные аналоги следующих числовых характеристик: (i)математическое ожидание, (ii)дисперсия, (iii)медианы, (iv)асимметрии, (v)эксцесса (vi) вероятности $\\mathrm{P}(X\\in \\left[ c,d \\right])$"
   ]
  },
  {
   "cell_type": "code",
   "execution_count": 371,
   "metadata": {
    "ExecuteTime": {
     "end_time": "2023-12-06T20:20:05.801358600Z",
     "start_time": "2023-12-06T20:20:04.419707700Z"
    }
   },
   "outputs": [
    {
     "name": "stdout",
     "output_type": "stream",
     "text": [
      "Выборочное среднее:  3.767\n",
      "Выборочная дисперсия:  26.903\n",
      "Выборочное СКО:  5.187\n",
      "Выборочная медиана:  1.965\n",
      "Выборочная асимметрия:  2.037\n",
      "Выборочный эксцесс:  3.75\n",
      "Вероятность попадания в промежуток:  0.74\n"
     ]
    }
   ],
   "source": [
    "mn2 = np.round(np.mean(x2), 3)\n",
    "var2 = np.round(np.var(x2), 3)\n",
    "sd2 = np.round(np.sqrt(var2), 3)\n",
    "md2 = np.round(np.median(x2), 3)\n",
    "skew2 = np.round(stats.skew(x2), 3)\n",
    "kurtosis2 = np.round(stats.kurtosis(x2), 3)\n",
    "probability2 =  sum([int(C <= xi <= D) for xi in x2]) / n2\n",
    "\n",
    "print(\"Выборочное среднее: \", mn2)\n",
    "print(\"Выборочная дисперсия: \", var2)\n",
    "print(\"Выборочное СКО: \", sd2)\n",
    "print(\"Выборочная медиана: \", md2)\n",
    "print(\"Выборочная асимметрия: \", skew2)\n",
    "print(\"Выборочный эксцесс: \", kurtosis2)\n",
    "print(\"Вероятность попадания в промежуток: \", probability2)"
   ]
  },
  {
   "cell_type": "markdown",
   "metadata": {},
   "source": [
    "#### c)В предположении, что исходные наблюдения являются выборкой из показательного распределения, построить ОМП и ОММ параметра $\\lambda$.Найти смещение оценок."
   ]
  },
  {
   "cell_type": "markdown",
   "metadata": {},
   "source": [
    "##### Найдем ОМП\n",
    "$p_{\\theta}(x) = \\lambda\\exp(-\\lambda x)\\mathbb {1}_{\\{x \\ge 0\\}}$ <br>\n",
    "\n",
    "Построим функцию максимального правдоподобия\n",
    "\n",
    "$L\\left(\\vec{X}, \\theta\\right) = \\prod_{i=1}^{n}\\lambda\\exp(-\\lambda x_i)\\mathbb{1}_{\\{x_i \\ge 0\\}} = \\lambda^n \\exp\\left(-\\lambda \\sum_{i=1}^{n}x_i\\right)\\mathbb{1}_{\\{x_{(1)} \\ge 0\\}}$<br>\n",
    "\n",
    "$g(T(\\vec{X})) = \\lambda^n exp\\left(-\\lambda \\sum_{i=1}^{n}x_i\\right)$ <br>\n",
    "$h(\\vec{X}) = \\mathbb{1}_{\\{x_{(1)} \\ge 0\\}}$ <br>\n",
    "$\\sum_{\\small i=1}^{n}x_i $- МДС. Т.к. $q_\\theta$ принадлежит экспоненциальному семейству, МДС = ПДС\n",
    "\n",
    "Перейдем к логарифмической функции максимального правдоподобия\n",
    "$LL\\left(\\vec{X}, \\theta\\right) =  n\\ln\\lambda -\\lambda \\sum_{i=1}^{n}x_i$ <br>\n",
    "\n",
    "$\\frac{\\partial LL\\left(\\vec X,\\ \\theta\\right)}{\\partial \\lambda} = \\frac{n}{\\lambda} - \\sum_{i=1}^n x_i = 0$ <br>\n",
    "$\\hat \\lambda = \\frac{n}{\\sum_{i=1}^n x_i} = \\frac{1}{\\bar{X}} - ОМП$<br>\n",
    "\n",
    "##### Найдем ОММ\n",
    "\n",
    "Из свойств экспоненциального распределения получим:\n",
    "Математическое ожидание: $\\mathbb{E}_{\\theta}X = \\frac{1}{\\lambda}$ <br>\n",
    "Первый момент: $\\mathrm{M_1} = \\bar{X}$ <br>\n",
    "$\\widetilde{\\theta} = \\widetilde{\\lambda} = \\frac{1}{\\bar{X}} - ОММ$<br>\n",
    "\n",
    "##### Найдем смещение оценок <br>\n",
    "ОМП:\n",
    "\n",
    "$\\mathbb{E}_\\theta\\hat{\\lambda} = \\mathbb{E}_\\theta\\frac{1}{\\bar{X}} = n\\mathbb{E}_\\theta\\frac{1}{\\sum_{i=1}^{n}x_i} = n\\mathbb{E}_\\theta \\left(\\sum_{i=1}^{n}x_i\\right)^{-1}$\n",
    "\n",
    "Так как $X_i \\sim Exp(\\lambda) \\implies X_i \\sim Gamma(1, \\frac{1}{\\lambda}) \\implies \\sum_{i=1}^{n}X_i \\sim Gamma(n, \\frac{1}{\\lambda}) $ <br>\n",
    "$\\sum_{i=1}^{n}X_i \\sim Gamma(\\alpha, \\beta), \\alpha > 0, \\beta > 0, \\gamma > - \\alpha \\implies \\mathbb{E}_\\theta \\left(\\sum_{i=1}^n x_i\\right)^\\gamma = \\beta^\\gamma \\frac{\\Gamma(\\gamma + \\alpha)}{\\Gamma(\\alpha)}$\n",
    "\n",
    "$\\mathbb{E}_\\theta\\hat{\\lambda} = n\\mathbb{E}_\\theta \\left(\\sum_{i=1}^{n}x_i\\right)^{-1} = n \\lambda \\frac{\\Gamma(n-1)}{\\Gamma(n)} = n\\lambda \\frac{(n-2)!}{(n-1)!} = \\frac{n}{n-1} \\lambda \\implies$ оценка смещенная\n",
    "\n",
    "Несмещенная оценка: $\\tilde{\\lambda} = \\frac{n-1}{n}\\hat{\\lambda} = \\frac{n-1}{n}\\frac{1}{\\bar{X}}$\n",
    "Т.к. ОММ = ОМП, смещение ОММ будет таким же\n",
    "\n",
    "Численное значение смещенной оценки: $\\hat{\\lambda} = \\frac{1}{\\bar{X}} = 0.265$\n",
    "\n",
    "Численное значение несмещенной оценки: $\\tilde{\\lambda} = 0.260"
   ]
  },
  {
   "cell_type": "markdown",
   "metadata": {},
   "source": [
    "#### d)Построить А.Д.И. уровня значимости $\\alpha_2$ для параметра $\\lambda$ на базе ОМП"
   ]
  },
  {
   "cell_type": "markdown",
   "metadata": {},
   "source": [
    "$\\hat{\\theta}\\left(\\overrightarrow{X}\\right) = \\frac{1}{\\bar{X}}$ - ОМП<br>\n",
    "\n",
    "$\\frac{\\partial^2 LL\\left(\\overrightarrow X,\\ \\theta\\right)}{\\partial \\lambda^2} = -\\frac{n}{\\lambda^2}$ <br>\n",
    "\n",
    "$I_n(\\theta) = -\\mathbb{E}_{\\theta}\\left(\\frac{\\partial^2 LL\\left(\\overrightarrow X,\\ \\theta\\right)}{\\partial \\lambda^2}\\right) = \\mathbb{E}_{\\theta}\\frac{n}{\\lambda^2} = \\frac{n}{\\lambda^2}$ <br>\n",
    "\n",
    "$I(\\theta) = {\\lim_{n \\to \\infty}}\\frac{I_n(\\theta)}{n} = {\\lim_{n \\to \\infty}}\\frac{1}{\\lambda^2} = \\frac{1}{\\lambda^2}$ <br>\n",
    "\n",
    "$\\sqrt{n I(\\hat{\\theta})}(\\hat{\\theta}(\\overrightarrow{X})-\\theta)\\sim\\mathcal{N}(0, 1)$ <br>\n",
    "Подставим полученные значения:\n",
    "$\\sqrt{n\\bar{X}^{2}}\\left(\\frac{1}{\\bar{X}} - \\theta\\right) \\sim \\mathcal{N} \\left(0, 1\\right)$ <br>\n",
    "$\\alpha_2=0.20$\n",
    "$x_\\alpha$ : $\\Phi(x_\\alpha) = 1 - \\frac{\\alpha}{2} = 0.9$ <br>\n",
    "Из таблицы стандартного нормального распределения получим: $x_\\alpha \\approx 1.285$\n",
    "$\\mathbb{P}_\\theta\\left(-x_\\alpha \\le \\sqrt{n\\bar{X}^{2}}\\left(\\frac{1}{\\bar{X}} - \\theta\\right) \\le x_\\alpha\\right) \\approx 1 - \\alpha = 0.8$\n",
    "\n",
    "$\\left[\\frac{1}{\\bar{X}} - \\frac{x_\\alpha}{\\sqrt{n\\bar{X}^{2}}}, \\frac{1}{\\bar{X}} + \\frac{x_\\alpha}{\\sqrt{n\\bar{X}^{2}}}\\right] \\ni \\lambda$ <br>\n",
    "$\\left[\\frac{1}{3.767} - \\frac{1.285}{\\sqrt{50 \\cdot 3.767^{2}}}, \\frac{1}{3.767} + \\frac{1.285}{\\sqrt{50\\cdot3.767^{2}}}\\right] \\ni \\lambda$ <br>\n",
    "$\\left[0.217, 0.314\\right] \\ni \\lambda$ - Асимптотический доверительный интервал"
   ]
  },
  {
   "cell_type": "markdown",
   "metadata": {},
   "source": [
    "#### e) С использованием теоремы Колмагорова построить критерй значимости проверки простой гипотезы согласия с показательным распределением с параметром $\\lambda_0$. Проверить гипотезу на уровне значимости $\\alpha_2$. Вычислить наибольшее значение уровня значимости, на котором ещё нет оснований отвергнуть данную гипотезу. "
   ]
  },
  {
   "cell_type": "markdown",
   "metadata": {},
   "source": [
    "$\\sqsupset X_1, X_2, \\dots, X_n $ - выборка из распределения с функцией распределения F.\n",
    "\n",
    "Основная гипотеза: $H_0 : F \\equiv Exp(\\lambda_0)$\n",
    "\n",
    "Альтернативная гипотеза: $H_A : \\exists x : F(x) \\neq F_{Exp(\\lambda_0)}(x)$\n",
    "\n",
    "Критерий уровня значимости $\\alpha_2$:\n",
    "\n",
    "$\\phi(x) = 0$, при $D_n \\le x_{\\alpha_2}$\n",
    "\n",
    "$\\phi(x) = 1$, при $D_n > x_{\\alpha_2}$\n",
    "\n",
    "где $x_{\\alpha_2} : K(\\frac{x_{\\alpha_2}}{\\sqrt{n}}) = 1 - \\alpha_2$"
   ]
  },
  {
   "cell_type": "code",
   "execution_count": 372,
   "metadata": {
    "ExecuteTime": {
     "end_time": "2023-12-06T20:20:06.490213400Z",
     "start_time": "2023-12-06T20:20:04.428187100Z"
    }
   },
   "outputs": [
    {
     "name": "stdout",
     "output_type": "stream",
     "text": [
      "Статистика критерия Колмогорова:  0.32907604205763286\n",
      "x_alpha 2:  0.5822615015290107\n"
     ]
    }
   ],
   "source": [
    "ni, values = np.histogram(x2, bins=len(x2))\n",
    "\n",
    "def F0(k):\n",
    "  return 1 - np.exp(-k*Lambda2_0)\n",
    "\n",
    "def Fn(k):\n",
    "    s = 0\n",
    "    for g in x2:\n",
    "        if g < k:\n",
    "            s += 1\n",
    "    return s / n2\n",
    "\n",
    "Dmax = 0\n",
    "k = 0\n",
    "while k <= 23:\n",
    "    D = np.abs(Fn(k) - F0(k))\n",
    "    if Dmax < D:\n",
    "        Dmax = D\n",
    "    k += 0.0001\n",
    "\n",
    "print(\"Статистика критерия Колмогорова: \", Dmax)\n",
    "print(\"x_alpha 2: \", stats.kstwobign.ppf((1 - A2) / np.sqrt(len(x2))))"
   ]
  },
  {
   "cell_type": "markdown",
   "metadata": {},
   "source": [
    "$D_n \\le x_{\\alpha_2}$ следовательно гипотезу $H_0$ принимаем"
   ]
  },
  {
   "cell_type": "code",
   "execution_count": 373,
   "metadata": {
    "ExecuteTime": {
     "end_time": "2023-12-06T20:20:06.491204700Z",
     "start_time": "2023-12-06T20:20:05.348673300Z"
    }
   },
   "outputs": [
    {
     "name": "stdout",
     "output_type": "stream",
     "text": [
      "Наибольшее значение уровня значимости, на котором ещё нет оснований отвергнуть данную гипотезу: 0.9999982797505353\n"
     ]
    }
   ],
   "source": [
    "pvalue = 1 - stats.kstwobign.cdf(D*np.sqrt(len(x2)))\n",
    "print(\"Наибольшее значение уровня значимости, на котором ещё нет оснований отвергнуть данную гипотезу:\", pvalue)"
   ]
  },
  {
   "cell_type": "markdown",
   "metadata": {},
   "source": [
    "#### f) Используя гистограмму частот, построить критерий значимости $\\chi^2$ проверки простой гипотезы согласия с показательным распределением с параметром  $\\lambda_0$. Проверить гипотезу на уровне $\\alpha_2$. Вычислить наибольшее значения уровня значимости, на котором ещё нет оснований отвергнуть данную гипотезу.\n"
   ]
  },
  {
   "cell_type": "code",
   "execution_count": 374,
   "metadata": {
    "ExecuteTime": {
     "end_time": "2023-12-06T20:20:06.491204700Z",
     "start_time": "2023-12-06T20:20:05.353871900Z"
    }
   },
   "outputs": [
    {
     "name": "stdout",
     "output_type": "stream",
     "text": [
      "I1: [0.0, 2.237)\n",
      "I2: [2.237, 4.474)\n",
      "I3: [4.474, 8.948)\n",
      "I4: [8.948, 22.37)\n",
      "Наблюдаемый критерий X2 =  19.1293\n",
      "Значение X^2 при уровне значимости  0.2 и 3 степенях свободы =  4.6416\n"
     ]
    }
   ],
   "source": [
    "from scipy import stats\n",
    "\n",
    "intervals = np.histogram(x2, bins=10)\n",
    "\n",
    "values = intervals[1]\n",
    "ni2 = intervals[0]\n",
    "\n",
    "intervals = [[0], [1], [2, 3], [4, 9]]\n",
    "values_intervals = []\n",
    "i = 0\n",
    "for int_i in intervals:\n",
    "    values_intervals.append([values[int_i[0]], values[int_i[len(int_i)-1]+1]])\n",
    "    print(f\"I{i+1}: [{values[int_i[0]]}, {values[int_i[len(int_i)-1]+1]})\")  \n",
    "    i += 1\n",
    "\n",
    "N_i = [0]*len(intervals)\n",
    "i = 0\n",
    "for int_i in intervals:\n",
    "    for j in range(int_i[0], int_i[len(int_i)-1]+1):\n",
    "        N_i[i] += ni2[j]\n",
    "    i += 1\n",
    "\n",
    "X2 = 0\n",
    "\n",
    "i = 0\n",
    "for int_i in values_intervals:\n",
    "    P = stats.expon.cdf(int_i[-1], scale = 1/Lambda2_0) - stats.expon.cdf(int_i[0], scale = 1/Lambda2_0)\n",
    "    X2 += (N_i[i] - n2*P)**2/n2/P\n",
    "    i += 1\n",
    "\n",
    "\n",
    "print(\"Наблюдаемый критерий X2 = \", round(X2, 4))\n",
    "chi_value = stats.chi2.ppf(1-A2, len(intervals)-1)\n",
    "print('Значение X^2 при уровне значимости ', A2, 'и', len(intervals)-1, 'степенях свободы = ' , round(chi_value,4))\n"
   ]
  },
  {
   "cell_type": "markdown",
   "metadata": {},
   "source": [
    "Так как $\\chi^2 >= \\chi_{3;0.2}^2$ то по критерию Пирсона отвергаем гипотезу"
   ]
  },
  {
   "cell_type": "code",
   "execution_count": 375,
   "metadata": {
    "ExecuteTime": {
     "end_time": "2023-12-06T20:20:06.491204700Z",
     "start_time": "2023-12-06T20:20:05.373353600Z"
    }
   },
   "outputs": [
    {
     "name": "stdout",
     "output_type": "stream",
     "text": [
      "Наибольшее значение уровня значимости:  0.00025707332179714104\n"
     ]
    }
   ],
   "source": [
    "p_value = stats.chi2.cdf(X2, len(intervals)-1)\n",
    "print('Наибольшее значение уровня значимости: ', 1-p_value)"
   ]
  },
  {
   "cell_type": "markdown",
   "metadata": {},
   "source": [
    "#### g) Построить критерий проверки значимости $\\chi^2$ проверки сложной гипотезы согласия с показательным распределением. Проверить гипотезу на уровне значимости $\\alpha_2$. Вычислить наибольшее значения уровня значимости, на котором ещё нет оснований отвергнуть данную гипотезу"
   ]
  },
  {
   "cell_type": "code",
   "execution_count": 376,
   "metadata": {
    "ExecuteTime": {
     "end_time": "2023-12-06T20:20:06.491204700Z",
     "start_time": "2023-12-06T20:20:05.380090800Z"
    }
   },
   "outputs": [
    {
     "name": "stdout",
     "output_type": "stream",
     "text": [
      "Наблюдаемый критерий X2 =  3.109\n",
      "Значение X^2 при уровне значимости  0.2 и 2 степенях свободы =  3.2189\n"
     ]
    }
   ],
   "source": [
    "X2 = 0\n",
    "Lambda = 1 / mn2\n",
    "i = 0\n",
    "for int_i in values_intervals:\n",
    "    P = stats.expon.cdf(int_i[-1], scale = 1/Lambda) - stats.expon.cdf(int_i[0], scale = 1/Lambda)\n",
    "    X2 += (N_i[i] - n2*P)**2/n2/P\n",
    "    i += 1\n",
    "\n",
    "print(\"Наблюдаемый критерий X2 = \", round(X2, 4))\n",
    "chi_value = stats.chi2.ppf(1-A2, len(intervals)-2)\n",
    "print('Значение X^2 при уровне значимости ', A2, 'и', len(intervals)-2, 'степенях свободы = ' , round(chi_value,4))"
   ]
  },
  {
   "cell_type": "markdown",
   "metadata": {},
   "source": [
    "$\\chi^2 \\le \\chi_{2;0.2}^2$ следовательно гипотезу $H_0$ принимаем"
   ]
  },
  {
   "cell_type": "code",
   "execution_count": 377,
   "metadata": {
    "ExecuteTime": {
     "end_time": "2023-12-06T20:20:06.491204700Z",
     "start_time": "2023-12-06T20:20:05.388408700Z"
    }
   },
   "outputs": [
    {
     "name": "stdout",
     "output_type": "stream",
     "text": [
      "Наибольшее значение уровня значимости:  0.21129540746992825\n"
     ]
    }
   ],
   "source": [
    "p_value = stats.chi2.cdf(X2, len(intervals)-2)\n",
    "print('Наибольшее значение уровня значимости: ', 1-p_value)"
   ]
  },
  {
   "cell_type": "markdown",
   "metadata": {},
   "source": [
    "#### h)Построить наиболее мощный критерий проверки простой гипотезы о показательности с параметром $\\lambda=\\lambda_{0}$ при альтернативе показательности с параметром $\\lambda=\\lambda_{1}$. Проверить гипотезу на уровне значимости $\\alpha_2$. Что получится, если поменять местами основную и альтернативную гипотезы?"
   ]
  },
  {
   "cell_type": "markdown",
   "metadata": {},
   "source": [
    "Основная гипотеза : $H_0 : \\lambda = \\lambda_0$\n",
    "\n",
    "Альтернативная гипотеза : $H_A : \\lambda = \\lambda_1$\n",
    "\n",
    "Функция правдоподобия : $L\\left(\\overrightarrow{X}, \\theta\\right) = \\prod_{i=1}^{n}\\lambda\\exp(-\\lambda x_i)\\mathbb{I}_{\\{x_i \\ge 0\\}} = \\lambda^n \\exp(-\\lambda \\sum_{i=1}^{n}x_i)\\mathbb{I}_{\\{x_{(1)} \\ge 0\\}}$\n",
    "\n",
    "Cтатистика отношения правдоподобия : $LR\\left(\\overrightarrow{X}, \\lambda_0, \\lambda_1\\right) = \\frac{L\\left(\\overrightarrow{X}, \\lambda_1\\right)}{L\\left(\\overrightarrow{X}, \\lambda_0\\right)} = \\left(\\frac{\\lambda_1}{\\lambda_0}\\right)^n\\exp(-(\\lambda_1 - \\lambda_0) \\sum_{i=1}^{n}x_i)$\n",
    "\n",
    "Так как $LR\\left(\\overrightarrow{X}, \\lambda_0, \\lambda_1\\right)$ монотонна относительно МДС $\\bar{X}$\n",
    "\n",
    "$LR\\left(\\overrightarrow{X}\\right) = \\left(\\frac{\\lambda_1}{\\lambda_0}\\right)^n\\exp(-(\\lambda_1 - \\lambda_0) \\sum_{i=1}^{n}x_i) > c$ <br>\n",
    "$n\\ln\\frac{\\lambda_1}{\\lambda_0} - (\\lambda_1 - \\lambda_0)\\sum_{i=1}^{n}{x_i} > \\ln c $ <br>\n",
    "$\\bar{X} > -\\frac{\\ln c - n\\ln\\frac{\\lambda_1}{\\lambda_0}}{\\lambda_1 - \\lambda_0} = c^*$ <br>\n",
    "\n",
    "$LR\\left(\\overrightarrow{X}\\right) < c$<br>\n",
    "\n",
    "$\\bar{X} < c^*$\n",
    "\n",
    "Решим уравнение: $P_{\\lambda_0}\\left(LR(\\overrightarrow{X}) > c\\right) + pP_{\\lambda_0}\\left(LR(\\overrightarrow{X}) = c\\right) = \\alpha_2$\n",
    "\n",
    "$P_{\\lambda_0}\\left(n\\bar{X} > nc^*\\right) + pP_{\\lambda_0}\\left(n\\bar{X} = nc^*\\right) = \\alpha_2$\n",
    "\n",
    "При $LR(\\overrightarrow{X}) = c$ критерий не определен однозначно\n",
    "\n",
    "Пусть $LR(\\overrightarrow{X}) \\neq c$\n",
    "\n",
    "Тогда $P_{\\lambda_0}\\left(n\\bar{X} > nc^*\\right) = 1 - F_{Gamma(n, \\frac{1}{\\lambda_0})}\\left(nc^*\\right) = \\alpha_2$\n",
    "\n",
    "$F_{Gamma(n, \\frac{1}{\\lambda_0})}\\left(nc^*\\right) = 1 - \\alpha_2 = 0.8$\n"
   ]
  },
  {
   "cell_type": "code",
   "execution_count": 378,
   "metadata": {
    "ExecuteTime": {
     "end_time": "2023-12-06T20:20:06.517206700Z",
     "start_time": "2023-12-06T20:20:05.397009800Z"
    }
   },
   "outputs": [
    {
     "name": "stdout",
     "output_type": "stream",
     "text": [
      "c* =  7.976\n",
      "Выборочное среднее:  3.767\n"
     ]
    }
   ],
   "source": [
    "print(\"c* = \", round(stats.gamma.ppf(0.8, a = len(x2), scale = 1/Lambda2_0) / len(x2),3))\n",
    "print(\"Выборочное среднее: \", mn2)"
   ]
  },
  {
   "cell_type": "markdown",
   "metadata": {},
   "source": [
    "Т.к. $c^* > \\bar{X}$, мы принимаем основную гипотезу $H_0$.\n",
    "\n",
    "Поменяем гипотезы местами\n",
    "\n",
    "Основная гипотеза: $H_0 : \\lambda = \\lambda_1$\n",
    "\n",
    "Альтернативная гипотеза: $H_A : \\lambda = \\lambda_0$\n",
    "\n",
    "Статистика отношения правдоподобия: $LR\\left(\\overrightarrow{X}, \\lambda_1, \\lambda_0\\right) = \\frac{L\\left(\\overrightarrow{X}, \\lambda_0\\right)}{L\\left(\\overrightarrow{X}, \\lambda_1\\right)} = \\left(\\frac{\\lambda_0}{\\lambda_1}\\right)^n\\exp(-(\\lambda_0 - \\lambda_1) \\sum_{i=1}^{n}x_i)$\n",
    "\n",
    "Так как $LR\\left(\\overrightarrow{X}, \\lambda_1, \\lambda_0\\right)$ монотонна относительно МДС $\\bar{X}$\n",
    "\n",
    "$LR\\left(\\overrightarrow{X}\\right) > c$\n",
    "\n",
    "$\\bar{X} > c^*$\n",
    "\n",
    "Решим уравнение: $P_{\\lambda_1}\\left(LR(\\overrightarrow{X}) > c\\right) + pP_{\\lambda_1}\\left(LR(\\overrightarrow{X}) = c\\right) = \\alpha_1$\n",
    "\n",
    "$P_{\\lambda_1}\\left(n\\bar{X} > nc^*\\right) + pP_{\\lambda_1}\\left(n\\bar{X} = nc^*\\right) = \\alpha_1$\n",
    "\n",
    "Критерий не определен однозначно при $LR(\\overrightarrow{X}) = c$\n",
    "\n",
    "Пусть $LR(\\overrightarrow{X}) \\neq c$\n",
    "\n",
    "Тогда $P_{\\lambda_1}\\left(n\\bar{X} > nc^*\\right) = 1 - F_{Gamma(n, \\frac{1}{\\lambda_1})}\\left(nc^*\\right) = \\alpha_2$\n",
    "\n",
    "$F_{Gamma(n, \\frac{1}{\\lambda_1})}\\left(nc^*\\right) = 1 - \\alpha_2 = 0.8$"
   ]
  },
  {
   "cell_type": "code",
   "execution_count": 379,
   "metadata": {
    "ExecuteTime": {
     "end_time": "2023-12-06T20:20:06.517206700Z",
     "start_time": "2023-12-06T20:20:05.402776200Z"
    }
   },
   "outputs": [
    {
     "name": "stdout",
     "output_type": "stream",
     "text": [
      "c* =  4.467\n",
      "Выборочное среднее:  3.767\n"
     ]
    }
   ],
   "source": [
    "print(\"c* = \", round(stats.gamma.ppf(0.8, a = len(x2), scale = 1/Lambda2_1) / len(x2),3))\n",
    "print(\"Выборочное среднее: \", mn2)"
   ]
  },
  {
   "cell_type": "markdown",
   "metadata": {},
   "source": [
    "$c^* > \\bar{X}$ следовательно принимаем гипотезу"
   ]
  },
  {
   "cell_type": "markdown",
   "metadata": {},
   "source": [
    "#### i)В пунктах (c)-(h) заменить семейство показательных распределений на гамма-распределений с плотностями $P_{\\lambda}(X)=\\frac{\\sqrt{\\lambda} exp\\left( \\frac{-\\lambda X}{2} \\right)}{\\sqrt{2 \\pi X}}$"
   ]
  },
  {
   "cell_type": "markdown",
   "metadata": {},
   "source": [
    "##### i.c)\n",
    "\n",
    "##### Найдем ОМП\n",
    "$p_{\\theta}(x) = \\frac{\\sqrt{\\lambda}\\exp\\left(\\frac{-\\lambda x}{2}\\right)}{\\sqrt{2\\pi x}}$ <br>\n",
    "\n",
    "Построим функцию максимального правдоподобия\n",
    "\n",
    "$L\\left(\\overrightarrow{X}, \\theta\\right) = \\prod_{i=1}^{n}\\frac{\\sqrt{\\lambda}\\exp\\left(\\frac{-\\lambda x_i}{2}\\right)}{\\sqrt{2\\pi x_i}} = \\left(\\frac{\\lambda}{2\\pi}\\right)^{n/2}\\exp\\left(-\\frac{\\lambda}{2}\\sum_{i=1}^{n}{x_i}\\right)\\prod_{i=1}^{n}\\frac{1}{\\sqrt{x_i}}$<br>\n",
    "\n",
    "$g(T(\\vec{X})) = \\left(\\frac{\\lambda}{2\\pi}\\right)^{n/2}exp\\left(-\\frac{\\lambda}{2}\\sum_{i=1}^{n}{x_i}\\right)$ <br>\n",
    "$h(\\vec{X}) = \\prod_{i=1}^{n}\\frac{1}{\\sqrt{x_i}}$ <br>\n",
    "$\\sum_{\\small i=1}^{n}x_i $- МДС. Т.к. $q_\\theta$ принадлежит экспоненциальному семейству, МДС = ПДС\n",
    "\n",
    "Перейдем к логарифмической функции максимального правдоподобия\n",
    "$LL\\left(\\overrightarrow{X}, \\theta\\right) = \\frac{n}{2}\\ln\\frac{\\lambda}{2\\pi}-\\frac{\\lambda}{2}\\sum_{i=1}^{n}{x_i}+\\ln\\prod_{i=1}^{n}\\frac{1}{\\sqrt{x_i}}$ <br>\n",
    "\n",
    "$\\frac{\\partial LL\\left(\\overrightarrow X,\\ \\theta\\right)}{\\partial \\lambda} = \\frac{n}{2\\lambda} - \\frac{1}{2}\\sum_{i=1}^{n}x_i = 0$ <br>\n",
    "$\\hat \\lambda = \\frac{n}{\\sum_{i=1}^n x_i} = \\frac{1}{\\bar{X}} - ОМП$<br>\n",
    "\n",
    "##### Найдем ОММ\n",
    "\n",
    "Заметим, что $X_1 \\sim Gamma(\\frac{1}{2}, \\frac{2}{\\lambda})$\n",
    "Математическое ожидание: $\\mathbb{E}_{\\theta}X = \\frac{1}{\\lambda}$ <br>\n",
    "Первый момент: $\\mathrm{M_1} = \\bar{X}$ <br>\n",
    "$\\widetilde{\\theta} = \\widetilde{\\lambda} = \\frac{1}{\\bar{X}} - ОММ$<br>\n",
    "\n",
    "##### Найдем смещение оценок <br>\n",
    "ОМП:\n",
    "\n",
    "$\\mathbb{E}_\\theta\\hat{\\lambda} = \\mathbb{E}_\\theta\\frac{1}{\\bar{X}} = n\\mathbb{E}_\\theta\\frac{1}{\\sum_{i=1}^{n}x_i} = n\\mathbb{E}_\\theta \\left(\\sum_{i=1}^{n}x_i\\right)^{-1}$\n",
    "\n",
    "Так как $X_i \\sim Gamma(\\frac{1}{2}, \\frac{2}{\\lambda}) \\implies \\sum_{i=1}^{n}X_i \\sim Gamma(\\frac{n}{2}, \\frac{1}{\\lambda}) $ <br>\n",
    "$\\sum_{i=1}^{n}X_i \\sim Gamma(\\alpha, \\beta), \\alpha > 0, \\beta > 0, \\gamma > - \\alpha \\implies \\mathbb{E}_\\theta \\left(\\sum_{i=1}^n x_i\\right)^\\gamma = \\beta^\\gamma \\frac{\\Gamma(\\gamma + \\alpha)}{\\Gamma(\\alpha)}$\n",
    "\n",
    "$\\mathbb{E}_\\theta\\hat{\\lambda} = n\\mathbb{E}_\\theta \\left(\\sum_{i=1}^{n}x_i\\right)^{-1} = n \\frac{\\lambda}{2} \\frac{\\Gamma(\\frac{n}{2}-1)}{\\Gamma(\\frac{n}{2})} = \\frac{n}{\\frac{n}{2} - 1} \\frac{\\lambda}{2} = \\frac{n}{n-2}\\lambda \\implies$ оценка смещенная\n",
    "\n",
    "Несмещенная оценка: $\\tilde{\\lambda} = \\frac{n-2}{n}\\hat{\\lambda} = \\frac{n-2}{n}\\frac{1}{\\bar{X}}$\n",
    "\n",
    "Численное значение смещенной оценки: $\\hat{\\lambda} = \\frac{1}{\\bar{X}} = 0.265$\n",
    "\n",
    "Численное значение несмещенной оценки: $\\tilde{\\lambda} = 0.255$"
   ]
  },
  {
   "cell_type": "markdown",
   "metadata": {},
   "source": [
    "##### i.d)\n",
    "\n",
    "$\\hat{\\theta}\\left(\\overrightarrow{X}\\right) = \\frac{1}{\\bar{X}}$ - ОМП<br>\n",
    "\n",
    "$\\frac{\\partial^2 LL\\left(\\overrightarrow X,\\ \\theta\\right)}{\\partial \\lambda^2} = -\\frac{n}{2\\lambda^2}$ <br>\n",
    "\n",
    "$I_n(\\theta) = -\\mathbb{E}_{\\theta}\\left(\\frac{\\partial^2 LL\\left(\\overrightarrow X,\\ \\theta\\right)}{\\partial \\lambda^2}\\right) = \\mathbb{E}_{\\theta}\\frac{n}{2\\lambda^2} = \\frac{n}{2\\lambda^2}$ <br>\n",
    "\n",
    "$I(\\theta) = {\\lim_{n \\to \\infty}}\\frac{I_n(\\theta)}{n} = {\\lim_{n \\to \\infty}}\\frac{1}{2\\lambda^2} = \\frac{1}{2\\lambda^2}$ <br>\n",
    "\n",
    "$\\sqrt{n I(\\hat{\\theta})}(\\hat{\\theta}(\\overrightarrow{X})-\\theta)\\sim\\mathcal{N}(0, 1)$ <br>\n",
    "Подставим полученные значения:\n",
    "$\\sqrt{n\\frac{\\bar{X}^{2}}{2}}\\left(\\frac{1}{\\bar{X}} - \\theta\\right) \\sim \\mathcal{N} \\left(0, 1\\right)$ <br>\n",
    "$\\alpha_2=0.20$\n",
    "$x_\\alpha$ : $\\Phi(x_\\alpha) = 1 - \\frac{\\alpha}{2} = 0.9$ <br>\n",
    "Из таблицы стандартного нормального распределения получим: $x_\\alpha \\approx 1.285$\n",
    "$\\mathbb{P}_\\theta\\left(-x_\\alpha \\le \\sqrt{n\\frac{\\bar{X}^{2}}{2}}\\left(\\frac{1}{\\bar{X}} - \\theta\\right) \\le x_\\alpha\\right) \\approx 1 - \\alpha = 0.8$\n",
    "\n",
    "$\\left[\\frac{1}{\\bar{X}} - \\frac{\\sqrt{2}x_\\alpha}{\\sqrt{ n\\bar{X}^{2} }}, \\frac{1}{\\bar{X}} + \\frac{\\sqrt{2}x_\\alpha}{\\sqrt{n\\bar{X}^{2}}}\\right] \\ni \\lambda$ <br>\n",
    "$\\left[\\frac{1}{3.767} - \\frac{\\sqrt{2}\\cdot 1.285}{\\sqrt{50 \\cdot 3.767^{2}}}, \\frac{1}{3.767} + \\frac{\\sqrt{2} \\cdot 1.285}{\\sqrt{50\\cdot3.767^{2}}}\\right] \\ni \\lambda$ <br>\n",
    "$\\left[0.197, 0.334\\right] \\ni \\lambda$ - Асимптотический доверительный интервал"
   ]
  },
  {
   "cell_type": "markdown",
   "metadata": {},
   "source": [
    "##### i.e"
   ]
  },
  {
   "cell_type": "code",
   "execution_count": 380,
   "metadata": {
    "ExecuteTime": {
     "end_time": "2023-12-06T20:20:07.325326500Z",
     "start_time": "2023-12-06T20:20:05.411392Z"
    }
   },
   "outputs": [
    {
     "name": "stdout",
     "output_type": "stream",
     "text": [
      "Статистика критерия Колмогорова:  0.7828964242372494\n",
      "x_alpha 2:  0.5822615015290107\n"
     ]
    }
   ],
   "source": [
    "ni, values = np.histogram(x2, bins=len(x2))\n",
    "\n",
    "def F0(k):\n",
    "  return stats.gamma.cdf(k, a = 1/2, scale = Lambda2_0/2)\n",
    "\n",
    "Dmax = 0\n",
    "k = 0\n",
    "while k <= 23:\n",
    "    D = np.abs(Fn(k) - F0(k))\n",
    "    if Dmax < D:\n",
    "        Dmax = D\n",
    "    k += 0.001\n",
    "\n",
    "print(\"Статистика критерия Колмогорова: \", Dmax)\n",
    "print(\"x_alpha 2: \", stats.kstwobign.ppf((1 - A2) / np.sqrt(len(x2))))"
   ]
  },
  {
   "cell_type": "markdown",
   "metadata": {},
   "source": [
    "$D_n > x_{\\alpha_2}$ следовательно гипотезу $H_0$ отвергаем"
   ]
  },
  {
   "cell_type": "code",
   "execution_count": 381,
   "metadata": {
    "ExecuteTime": {
     "end_time": "2023-12-06T20:20:07.352165200Z",
     "start_time": "2023-12-06T20:20:07.320304600Z"
    }
   },
   "outputs": [
    {
     "name": "stdout",
     "output_type": "stream",
     "text": [
      "Наибольшее значение уровня значимости, на котором ещё нет оснований отвергнуть данную гипотезу: 0.0\n"
     ]
    }
   ],
   "source": [
    "pvalue = 1 - stats.kstwobign.cdf(Dmax*np.sqrt(len(x2)))\n",
    "print(\"Наибольшее значение уровня значимости, на котором ещё нет оснований отвергнуть данную гипотезу:\", pvalue)"
   ]
  },
  {
   "cell_type": "markdown",
   "metadata": {},
   "source": [
    "##### i.f) "
   ]
  },
  {
   "cell_type": "code",
   "execution_count": 382,
   "metadata": {
    "ExecuteTime": {
     "end_time": "2023-12-06T20:20:07.370331600Z",
     "start_time": "2023-12-06T20:20:07.328323Z"
    }
   },
   "outputs": [
    {
     "name": "stdout",
     "output_type": "stream",
     "text": [
      "Наблюдаемый критерий X2 =  1501199875790155.5\n",
      "Значение X^2 при уровне значимости  0.2 и 3 степенях свободы =  4.6416\n"
     ]
    }
   ],
   "source": [
    "X2 = 0\n",
    "\n",
    "i = 0\n",
    "for int_i in values_intervals:\n",
    "    P = stats.gamma.cdf(int_i[-1], a = 1/2, scale = Lambda2_0/2) - stats.gamma.cdf(int_i[0], a = 1/2, scale = Lambda2_0/2)\n",
    "    if P > 0:\n",
    "        X2 += (N_i[i] - n2*P)**2/n2/P\n",
    "    i += 1\n",
    "\n",
    "print(\"Наблюдаемый критерий X2 = \", round(X2, 4))\n",
    "chi_value = stats.chi2.ppf(1-A2, len(intervals)-1)\n",
    "print('Значение X^2 при уровне значимости ', A2, 'и', len(intervals)-1, 'степенях свободы = ' , round(chi_value,4))"
   ]
  },
  {
   "cell_type": "markdown",
   "metadata": {},
   "source": [
    "Так как $\\chi^2 >= \\chi_{3;0.2}^2$ то по критерию Пирсона отвергаем гипотезу"
   ]
  },
  {
   "cell_type": "code",
   "execution_count": 383,
   "metadata": {
    "ExecuteTime": {
     "end_time": "2023-12-06T20:20:07.370331600Z",
     "start_time": "2023-12-06T20:20:07.341651500Z"
    }
   },
   "outputs": [
    {
     "name": "stdout",
     "output_type": "stream",
     "text": [
      "Наибольшее значение уровня значимости:  0.0\n"
     ]
    }
   ],
   "source": [
    "p_value = stats.chi2.cdf(X2, len(intervals)-1)\n",
    "print('Наибольшее значение уровня значимости: ', 1-p_value)"
   ]
  },
  {
   "cell_type": "code",
   "execution_count": 384,
   "metadata": {
    "ExecuteTime": {
     "end_time": "2023-12-06T20:20:07.491172300Z",
     "start_time": "2023-12-06T20:20:07.348635200Z"
    }
   },
   "outputs": [],
   "source": [
    "##### i.g)"
   ]
  },
  {
   "cell_type": "code",
   "execution_count": 385,
   "metadata": {
    "ExecuteTime": {
     "end_time": "2023-12-06T20:20:07.508183200Z",
     "start_time": "2023-12-06T20:20:07.353161900Z"
    }
   },
   "outputs": [
    {
     "name": "stdout",
     "output_type": "stream",
     "text": [
      "Наблюдаемый критерий X2 =  4413527947001626.0\n",
      "Значение X^2 при уровне значимости  0.2 и 2 степенях свободы =  3.2189\n"
     ]
    }
   ],
   "source": [
    "X2 = 0\n",
    "\n",
    "i = 0\n",
    "for int_i in values_intervals:\n",
    "    P = stats.gamma.cdf(int_i[-1], a = 1/2, scale = Lambda/2) - stats.gamma.cdf(int_i[0], a = 1/2, scale = Lambda/2)\n",
    "    if P > 0:\n",
    "        X2 += (N_i[i] - n2*P)**2/n2/P\n",
    "    i += 1\n",
    "\n",
    "print(\"Наблюдаемый критерий X2 = \", round(X2, 4))\n",
    "chi_value = stats.chi2.ppf(1-A2, len(intervals)-2)\n",
    "print('Значение X^2 при уровне значимости ', A2, 'и', len(intervals)-2, 'степенях свободы = ' , round(chi_value,4))"
   ]
  },
  {
   "cell_type": "markdown",
   "metadata": {},
   "source": [
    "Так как $\\chi^2 >= \\chi_{3;0.2}^2$ то по критерию Пирсона отвергаем гипотезу"
   ]
  },
  {
   "cell_type": "code",
   "execution_count": 386,
   "metadata": {
    "ExecuteTime": {
     "end_time": "2023-12-06T20:20:07.508183200Z",
     "start_time": "2023-12-06T20:20:07.364795800Z"
    }
   },
   "outputs": [
    {
     "name": "stdout",
     "output_type": "stream",
     "text": [
      "Наибольшее значение уровня значимости:  0.0\n"
     ]
    }
   ],
   "source": [
    "p_value = stats.chi2.cdf(X2, len(intervals)-2)\n",
    "print('Наибольшее значение уровня значимости: ', 1-p_value)"
   ]
  },
  {
   "cell_type": "markdown",
   "metadata": {},
   "source": [
    "##### i.h)\n",
    "\n",
    "Основная гипотеза: $H_0 : \\lambda = \\lambda_0$\n",
    "\n",
    "Альтернативная гипотеза: $H_A : \\lambda = \\lambda_1$\n",
    "\n",
    "Функция правдоподобия: $L\\left(\\overrightarrow{X}, \\theta\\right) = \\left(\\frac{\\lambda}{2\\pi}\\right)^{n/2}\\exp\\left(-\\frac{\\lambda}{2}\\sum_{i=1}^{n}{x_i}\\right)\\prod_{i=1}^{n}\\frac{1}{\\sqrt{x_i}}$\n",
    "\n",
    "Статистика отношения правдоподобия: $LR\\left(\\overrightarrow{X}, \\lambda_0, \\lambda_1\\right) = \\frac{L\\left(\\overrightarrow{X}, \\lambda_1\\right)}{L\\left(\\overrightarrow{X}, \\lambda_0\\right)} = \\left(\\frac{\\lambda_1}{\\lambda_0}\\right)^{n/2}\\exp(-\\frac{1}{2}(\\lambda_1 - \\lambda_0) \\sum_{i=1}^{n}x_i)$\n",
    "\n",
    "Так как $LR\\left(\\overrightarrow{X}, \\lambda_0, \\lambda_1\\right)$ монотонна относительно МДС $\\bar{X}$\n",
    "\n",
    "$LR\\left(\\overrightarrow{X}\\right) = \\left(\\frac{\\lambda_1}{\\lambda_0}\\right)^{n/2}\\exp(-\\frac{1}{2}(\\lambda_1 - \\lambda_0) \\sum_{i=1}^{n}x_i) > c $\n",
    "$ \\frac{n}{2}\\ln\\frac{\\lambda_1}{\\lambda_0} - \\frac{1}{2}(\\lambda_1 - \\lambda_0)\\sum_{i=1}^{n}{x_i} > \\ln c $\n",
    "$ \\bar{X} > -\\frac{\\ln c - \\frac{n}{2}\\ln\\frac{\\lambda_1}{\\lambda_0}}{\\frac{1}{2}(\\lambda_1 - \\lambda_0)} = c^*$\n",
    "\n",
    "$LR\\left(\\overrightarrow{X}\\right) < c$\n",
    "$\\bar{X} < c^*$\n",
    "\n",
    "Решим уравнение: $P_{\\lambda_0}\\left(LR(\\overrightarrow{X}) > c\\right) + pP_{\\lambda_0}\\left(LR(\\overrightarrow{X}) = c\\right) = \\alpha_2$\n",
    "\n",
    "$P_{\\lambda_0}\\left(n\\bar{X} > nc^*\\right) + pP_{\\lambda_0}\\left(n\\bar{X} = nc^*\\right) = \\alpha_2$\n",
    "\n",
    "Критерий не определен однозначно при $LR(\\overrightarrow{X}) = c$\n",
    "\n",
    "Пусть $LR(\\overrightarrow{X}) \\neq c$\n",
    "\n",
    "Тогда $P_{\\lambda_0}\\left(n\\bar{X} > nc^*\\right) = 1 - F_{\\frac{n}{2}, \\frac{2}{\\lambda_0})}\\left(nc^*\\right) = \\alpha_2$\n",
    "\n",
    "$F_{Gamma(\\frac{n}{2}, \\frac{2}{\\lambda_0})}\\left(nc^*\\right) = 1 - \\alpha_2 = 0.8$"
   ]
  },
  {
   "cell_type": "code",
   "execution_count": 387,
   "metadata": {
    "ExecuteTime": {
     "end_time": "2023-12-06T20:20:07.540414400Z",
     "start_time": "2023-12-06T20:20:07.370331600Z"
    }
   },
   "outputs": [
    {
     "name": "stdout",
     "output_type": "stream",
     "text": [
      "c* =  8.309113797132625\n",
      "Выборочное среднее =  3.767\n"
     ]
    }
   ],
   "source": [
    "print(\"c* = \", stats.gamma.ppf(0.8, a = len(x2)/2, scale = 2/Lambda2_0) / len(x2))\n",
    "print(\"Выборочное среднее = \", mn2)"
   ]
  },
  {
   "cell_type": "markdown",
   "metadata": {},
   "source": [
    "Т.к. $c* > \\bar{X}$ принимаем гипотезу $H_0$\n",
    "\n",
    "Поменяем гипотезы местами\n",
    "\n",
    "Основная гипотеза: $H_0 : \\lambda = \\lambda_1$\n",
    "\n",
    "Альтернативная гипотеза: $H_A : \\lambda = \\lambda_0$\n",
    "\n",
    "Статистика отношения правдоподобия имеет вид: $LR\\left(\\overrightarrow{X}, \\lambda_1, \\lambda_0\\right) = \\frac{L\\left(\\overrightarrow{X}, \\lambda_0\\right)}{L\\left(\\overrightarrow{X}, \\lambda_1\\right)} = \\left(\\frac{\\lambda_0}{\\lambda_1}\\right)^{n/2}\\exp(-\\frac{1}{2}(\\lambda_0 - \\lambda_1) \\sum_{i=1}^{n}x_i)$\n",
    "\n",
    "Так как $LR\\left(\\overrightarrow{X}, \\lambda_1, \\lambda_0\\right)$ монотонна относительно МДС $\\bar{X}$\n",
    "\n",
    "$LR\\left(\\overrightarrow{X}\\right) > c \\iff \\bar{X} > c^*$\n",
    "\n",
    "Решим уравнение: $P_{\\lambda_1}\\left(LR(\\overrightarrow{X}) > c\\right) + pP_{\\lambda_1}\\left(LR(\\overrightarrow{X}) = c\\right) = \\alpha_1$\n",
    "\n",
    "$P_{\\lambda_1}\\left(n\\bar{X} > nc^*\\right) + pP_{\\lambda_1}\\left(n\\bar{X} = nc^*\\right) = \\alpha_1$\n",
    "\n",
    "При $LR(\\overrightarrow{X}) = c$ критерий не определен однозначно\n",
    "\n",
    "Пусть $LR(\\overrightarrow{X}) \\neq c$\n",
    "\n",
    "Тогда $P_{\\lambda_1}\\left(n\\bar{X} > nc^*\\right) = 1 - F_{Gamma(\\frac{n}{2}, \\frac{2}{\\lambda_1})}\\left(nc^*\\right) = \\alpha_2$\n",
    "\n",
    "$F_{Gamma(\\frac{n}{2}, \\frac{2}{\\lambda_1})}\\left(nc^*\\right) = 1 - \\alpha_2 = 0.8$"
   ]
  },
  {
   "cell_type": "code",
   "execution_count": 388,
   "metadata": {
    "ExecuteTime": {
     "end_time": "2023-12-06T20:20:07.555358Z",
     "start_time": "2023-12-06T20:20:07.377794600Z"
    }
   },
   "outputs": [
    {
     "name": "stdout",
     "output_type": "stream",
     "text": [
      "c* =  4.653103726394271\n",
      "Выборочное среднее =  3.767\n"
     ]
    }
   ],
   "source": [
    "print(\"c* = \", stats.gamma.ppf(0.8, a = len(x2)/2, scale = 2/Lambda2_1) / len(x2))\n",
    "print(\"Выборочное среднее = \", mn2)"
   ]
  },
  {
   "cell_type": "markdown",
   "metadata": {},
   "source": [
    "Т.к. $c^* > \\bar{X}$ принимаем гипотезу $H_0$"
   ]
  },
  {
   "cell_type": "markdown",
   "metadata": {},
   "source": [
    "## Выводы\n",
    "В данной практической работе были приобретены навыки работы с методами математической статистики для решения задач статистического анализа. Изучены специальные функции программирования, связанные с распределениями. Также изучена тема гипотез. Проведен анализ на выборках."
   ]
  }
 ],
 "metadata": {
  "kernelspec": {
   "display_name": "Python 3 (ipykernel)",
   "language": "python",
   "name": "python3"
  },
  "language_info": {
   "codemirror_mode": {
    "name": "ipython",
    "version": 3
   },
   "file_extension": ".py",
   "mimetype": "text/x-python",
   "name": "python",
   "nbconvert_exporter": "python",
   "pygments_lexer": "ipython3",
   "version": "3.10.11"
  }
 },
 "nbformat": 4,
 "nbformat_minor": 4
}
