{
 "cells": [
  {
   "cell_type": "markdown",
   "metadata": {},
   "source": [
    "# Лабораторная работа №3: Регрессионный анализ\n",
    "Выполнил студент гр. 1375 Кондрашин Дмитрий. Вариант №13"
   ]
  },
  {
   "cell_type": "markdown",
   "metadata": {},
   "source": [
    "## Цель работы\n",
    "Ознакомление с основными положениями метода наименьших квадратов (МНК), со статистическими свойствами МНК-оценок, с понятием функции регрессии и роли МНК в регрессионном анализе."
   ]
  },
  {
   "cell_type": "markdown",
   "metadata": {},
   "source": [
    "## Основные теоретические положения\n",
    "\n",
    "**МНК (Метод Наименьших Квадратов)**\n",
    "$RSS(\\beta)=\\left\\| Y-X^{\\intercal}\\beta \\right\\|=(Y-X^{\\intercal}\\beta)^{\\intercal}\\cdot(Y-X^{\\intercal}\\beta)\\to min\\beta$\\\n",
    "\\\n",
    "Нормальные уравнения: $XX^{\\intercal}\\beta=XY$\\\n",
    "Решение системы нормальных уравнений в регулярном случае: $\\widehat{\\beta}=(XX^{\\intercal})^{-1}XY$\\\n",
    "\\\n",
    "$RSS(\\beta)=\\sum_{i=1}^{n}\\left( Y_{i}-\\sum_{j=1}^{m}x_{ji}\\beta_{j} \\right)^{2}$\\\n",
    "$\\frac{\\partial RSS}{\\partial \\beta_{k}} = -2\\sum_{i=1}^{n}x_{ki}\\left(Y_{i}- \\sum_{j=1}^{m}x_{ji}\\beta_{j}\\right)=0, k=1...m$\n",
    "\n",
    "**Доверительный интервал**\n",
    "\n",
    "ДНО - функция: $\\psi(\\beta) = C^\\intercal\\beta$\n",
    "\n",
    "МНК оценка: $\\hat{\\psi}= C^\\intercal\\hat{\\beta}$\n",
    "\n",
    "$b_\\psi = C^\\intercal(XX^\\intercal)^{-1}C$\n",
    "\n",
    "Распределение: $\\hat{\\psi} \\sim \\mathcal{N}(\\psi,\\sigma^2b_\\psi) $\n",
    "\n",
    "Тогда $\\frac{\\hat{\\psi} - {\\psi}}{S\\sqrt{b_\\psi}} \\sim S_{n-r}$\n",
    "\n",
    "Доверительный интервал: $\\left[\\hat{\\psi} - x_\\alpha S \\sqrt{b_\\psi}; \\hat{\\psi} + x_\\alpha S \\sqrt{b_\\psi}\\right]$, где $x_\\alpha: S_{n-r}(x_\\alpha) = 1 - \\frac{\\alpha}{2}$\n",
    "\n",
    " **Доверительный эллипсоид**\n",
    "\n",
    "$b_\\psi = C^\\intercal(XX^\\intercal)^{-1}C$\n",
    "\n",
    "Распределение: $\\frac{\\left(\\hat{\\psi} - {\\psi}\\right)^\\intercal {b_\\psi}^{-1} \\left(\\hat{\\psi} - {\\psi}\\right)}{qS^2} \\sim \\mathcal{F}_{q,n-r}$\n",
    "\n",
    "Доверительный эллипсоид: $\\left\\{\\overrightarrow{x} : \\left(\\overrightarrow{x} - \\hat{\\psi}\\right)^\\intercal b_\\psi^{-1} \\left(\\overrightarrow{x} - \\hat{\\psi}\\right) \\le q S^2 x_\\alpha\\right\\}$,где $x_\\alpha: \\mathcal{F}_{q, n-r}(x_\\alpha) = 1 - \\alpha$\n",
    "\n",
    "**Несмещённая оценка дисперсии $(S^{2})$**\n",
    "\n",
    "$S^{2} = \\frac{SS_{e}}{n-r} = \\frac{RSS(\\widehat{\\beta})}{n-r}$\n",
    "\n",
    "$SS_{e}=RSS(\\widehat{\\beta})$, а r-ранг матрицы X"
   ]
  },
  {
   "cell_type": "markdown",
   "metadata": {},
   "source": [
    "## Постановка задачи\n",
    "Результаты статистического эксперимента представлены в виде двух переменных. Требуется оценить характер (случайной) зависимости переменной $Y$ от переменной $X$. Полученные результаты содержательно проинтерпретировать."
   ]
  },
  {
   "cell_type": "markdown",
   "metadata": {},
   "source": [
    "## Выполнение работы"
   ]
  },
  {
   "cell_type": "markdown",
   "metadata": {},
   "source": [
    "### 1.Построить графически результаты эксперимента. Сформулировать линейную регрессионную модель переменной Y по переменной X. Построить МНК оценки параметров сдвига $\\beta_0$ и масштаба $\\beta_1$.  Построить полученную линию регрессии. Оценить визуально соответствие полученных данных и построенной оценки"
   ]
  },
  {
   "cell_type": "markdown",
   "metadata": {},
   "source": [
    "Линейная регрессионная модель:\n",
    "\n",
    "$\\mathbb{E}_{\\theta}(Y|z) = x(z)^{\\intercal}\\beta$\n",
    "\n",
    "\n",
    "\n",
    "Альтернативная форма записи модели линейной регрессии\n",
    "\n",
    "$ Y = X^T \\beta + e  \\quad \\mathbb{E}_\\theta +\\varepsilon = 0 \\quad Var_\\theta e = \\sigma^2 E$\n",
    "\n",
    "Система нормальных уравнений:\n",
    "\n",
    "$ X X^T \\beta = X Y $\n",
    "\n",
    "Решение системы нормальных уравнений в регулярном случае:\n",
    "\n",
    "$ \\hat{\\beta} = (X X^T)^{-1} XY $"
   ]
  },
  {
   "cell_type": "code",
   "execution_count": 81,
   "metadata": {},
   "outputs": [
    {
     "data": {
      "image/png": "[encoded data removed]",
      "text/plain": [
       "<Figure size 640x480 with 1 Axes>"
      ]
     },
     "metadata": {},
     "output_type": "display_data"
    }
   ],
   "source": [
    "import pandas as pd\n",
    "import numpy as np\n",
    "from matplotlib import pyplot as plt\n",
    "import statistics as st\n",
    "import scipy.stats as sc\n",
    "from scipy.stats import chi2\n",
    "import scipy.stats as sps\n",
    "import scipy.optimize as spo\n",
    "\n",
    "y = np.array( [3.57, 3.97, 1.52, 5.32, 5.61, 4.65, 8.74, 2.19, 1.98, 6.48, 4.61, 7.29, 1.44, 5.18, 4.10, 6.05, 12.53,\n",
    "      3.40, 6.76, 8.38, 11.23, 4.79, 5.31, 1.43, 1.33, 3.31, 7.84, 6.02, 7.24, 7.39, 0.16, 3.69, 4.44, 4.98,\n",
    "      5.45, 3.28, 4.47, 5.70, 7.41, 1.42, 12.95, 1.75, 3.75, 5.44, 2.48, 1.41, 0.44, 4.86, 5.74, 8.77])\n",
    "\n",
    "x = np.array( [0, 3, 1, 7, 1, 7, 2, 1, 1, 7, 2, 0, 1, 7, 1, 0, 5,\n",
    "      5, 6, 6, 2, 6, 7, 7, 0, 3, 5, 1, 5, 5, 5, 4, 5, 3,\n",
    "      2, 6, 3, 1, 2, 1, 7, 0, 6, 4, 5, 2, 7, 7, 6, 3])\n",
    "plt.scatter(x, y)\n",
    "plt.xlabel(\"x\")\n",
    "plt.ylabel(\"y\")\n",
    "plt.title(\"Графическое представление результатов эксперимента\")\n",
    "plt.scatter(x, y, color='gray', edgecolors='black', linewidths=0.5)\n",
    "plt.show()"
   ]
  },
  {
   "cell_type": "code",
   "execution_count": 82,
   "metadata": {},
   "outputs": [
    {
     "name": "stdout",
     "output_type": "stream",
     "text": [
      "b0: 4.201\n",
      "b1: 0.209\n",
      "(XXT)^-1 [[ 0.06506965 -0.01231411]\n",
      " [-0.01231411  0.00336451]]\n"
     ]
    }
   ],
   "source": [
    "Y_matrix = np.matrix(y).T\n",
    "X_matrix = np.matrix([[1] * len(x), x])\n",
    "\n",
    "Beta_matrix = np.linalg.inv(X_matrix * X_matrix.T) * X_matrix * Y_matrix\n",
    "beta_0 = float(Beta_matrix[0, 0])\n",
    "beta_1 = float(Beta_matrix[1, 0])\n",
    "XX_T_inv = np.linalg.inv(X_matrix * X_matrix.T)\n",
    "print(\"b0:\", round(beta_0, 3) )\n",
    "print(\"b1:\", round(beta_1, 3))\n",
    "print(\"(XXT)^-1\",XX_T_inv)"
   ]
  },
  {
   "cell_type": "markdown",
   "metadata": {},
   "source": [
    "МНК-оценки параметров\n",
    "$ \\hat{\\beta} = \\left( \\begin{array}{c} \\hat\\beta_0 \\\\ \\hat\\beta_1 \\end{array} \\right) = \\left( \\begin{array}{c} 4.201 \\\\ 0.209 \\end{array} \\right) $"
   ]
  },
  {
   "cell_type": "code",
   "execution_count": 83,
   "metadata": {},
   "outputs": [
    {
     "data": {
      "image/png": "[encoded data removed]",
      "text/plain": [
       "<Figure size 640x480 with 1 Axes>"
      ]
     },
     "metadata": {},
     "output_type": "display_data"
    }
   ],
   "source": [
    "b = np.array([beta_0, beta_1])\n",
    "plt.scatter(x, y)\n",
    "plt.plot([min(x), max(x)], [beta_0 + beta_1 * min(x), beta_0 + beta_1 * max(x)], color='red')\n",
    "plt.xlabel(\"X\")\n",
    "plt.ylabel(\"Y\")\n",
    "plt.title(\"Линейная регрессия\")\n",
    "plt.scatter(x, y, color='gray', edgecolors='black', linewidths=0.5)\n",
    "plt.show()"
   ]
  },
  {
   "cell_type": "markdown",
   "metadata": {},
   "source": [
    "### 2. Построить и интерпретировать несмещённую оценку дисперсии. На базе ошибок построить гистограмму с шагом $h = 1.8 $. Проверить гипотезу нормальности ошибок на уровне значимости $\\alpha = 0.01$ по $\\chi^2$. Оценить расстояние полученной оценки до класса нормальных распределений по Колмогорову. Визуально оценить данный факт."
   ]
  },
  {
   "cell_type": "markdown",
   "metadata": {},
   "source": [
    "Несмещённая оценка дисперсии:\n",
    "\n",
    "$ \\displaystyle S^2 = \\frac{RSS( \\hat{\\beta} )}{ n - r } = \\frac{(Y - X^T \\hat{\\beta})^T (Y - X^T \\hat{\\beta})}{48} \\approx 8.25$\n",
    "\n",
    "Где r - ранг матрицы = 2"
   ]
  },
  {
   "cell_type": "code",
   "execution_count": 84,
   "metadata": {},
   "outputs": [
    {
     "name": "stdout",
     "output_type": "stream",
     "text": [
      "Rang = 2\n",
      "Несмещённая оценка дисперсии = 8.249918508456139\n"
     ]
    }
   ],
   "source": [
    "var = np.linalg.norm((Y_matrix - X_matrix.T * Beta_matrix).T*(Y_matrix - X_matrix.T * Beta_matrix)) /(len(x) - np.linalg.matrix_rank(X_matrix))\n",
    "print(\"Rang =\",np.linalg.matrix_rank(X_matrix))\n",
    "print(\"Несмещённая оценка дисперсии =\", var)"
   ]
  },
  {
   "cell_type": "code",
   "execution_count": 85,
   "metadata": {},
   "outputs": [
    {
     "name": "stdout",
     "output_type": "stream",
     "text": [
      "-5.222228652176839\n",
      "7.28777134782316\n"
     ]
    },
    {
     "data": {
      "image/png": "[encoded data removed]",
      "text/plain": [
       "<Figure size 640x480 with 1 Axes>"
      ]
     },
     "metadata": {},
     "output_type": "display_data"
    }
   ],
   "source": [
    "mistakes = Y_matrix - X_matrix.T * Beta_matrix\n",
    "mean_mistakes = 0\n",
    "std_mistakes = np.sqrt(var)\n",
    "mistakes = Y_matrix - X_matrix.T * Beta_matrix\n",
    "min_mistake_scalar = float(np.min(mistakes))\n",
    "max_mistake_scalar = float(np.max(mistakes))\n",
    "h = 1.8\n",
    "plt.title(\"Гистограмма ошибок с шагом h = 1.8\")\n",
    "plt.xlabel('x', fontsize=12)\n",
    "plt.ylabel('H(x)', fontsize=12)\n",
    "min_mistake_scalar = float(np.min(mistakes))\n",
    "max_mistake_scalar = float(np.max(mistakes))\n",
    "\n",
    "print(min_mistake_scalar)\n",
    "\n",
    "print(max_mistake_scalar)\n",
    "\n",
    "\n",
    "counts, bins = np.histogram(mistakes, bins=[i / 100 for i in range((int(min_mistake_scalar)*100)-30, (int(max_mistake_scalar)*100)+300, int(h*100))])\n",
    "plt.hist(bins[:-1], edgecolor='black', weights=counts, bins=bins, color='gray')\n",
    "plt.show()"
   ]
  },
  {
   "cell_type": "markdown",
   "metadata": {},
   "source": [
    "**Оценим соответствует ли распределение ошибок нормальному распредлению.**\n",
    "\n",
    "При $ a_0 = 0 $ и $ S^2 = 8.25$ и $ \\alpha_1 = 0.01 $\n",
    "\n",
    "$I_{1}=\\left(-\\infty, -3.42 \\right], n_{1}=3$  $\\quad\\quad\\quad\\quad\\quad\\quad\\quad\\quad\\quad$ $I_{5}=\\left(1.98, 3.78\\right], n_{5}=6$\n",
    "\n",
    "$P_{1}=0.117$  $\\quad\\quad\\quad\\quad\\quad\\quad\\quad\\quad\\quad\\quad\\quad\\quad\\quad\\quad\\quad$ $P_{5}=0.151$  \n",
    "\n",
    "$I_{2}=\\left(-3.42, -1.62 \\right], n_{2}=12$ $\\quad\\quad\\quad\\quad\\quad\\quad\\quad$ $I_{6}=\\left(3.78, 5.58\\right], n_{6}=2$  \n",
    "\n",
    "$P_{2}=0.169$   $\\quad\\quad\\quad\\quad\\quad\\quad\\quad\\quad\\quad\\quad\\quad\\quad\\quad\\quad\\quad$ $P_{6}=0.068$  \n",
    "\n",
    "$I_{3}=\\left(-1.62,0.18 \\right], n_{3}=14$  $\\quad\\quad\\quad\\quad\\quad\\quad\\quad\\quad$ $I_{7}=\\left(5.58, +\\infty\\right], n_{7}=3$  \n",
    "\n",
    "$P_{3}=0.239$  $\\quad\\quad\\quad\\quad\\quad\\quad\\quad\\quad\\quad\\quad\\quad\\quad\\quad\\quad\\quad$ $P_{7}=0.026$  \n",
    "\n",
    "$I_{4}=\\left(0.18,1.98 \\right], n_{4}=10$  \n",
    "\n",
    "$P_{4}=0.23$  \n",
    "\n",
    "\n",
    " **Вычисление статистики критерия $\\chi^2$:**\n",
    "\n",
    "   $\\chi^2 = \\sum \\limits_{i=1}^7 \\large \\frac{\\left(n_i - n\\mathbb{P}_i\\right)^2}{n\\mathbb{P}_i}  \\normalsize = 6.52$\n",
    "\n",
    "   **Сравнение с критическим значением:**\n",
    "   - Из таблицы для распределения $\\chi^2$ с 6 степенями свободы при уровне значимости $\\alpha = 0.01$ значение критерия составляет $\\chi_{6, 0.99}^2 \\approx 16.81$.\n",
    "   - Так как $\\chi_{6, 0.99}^2 > \\chi^2 $, гипотеза принимается.\n",
    "\n",
    "   Наибольшее значение уровня значимости, при котором ещё нет оснований отвергнуть данную гипотезу, равняется $0.368$\n",
    "\n",
    "\n"
   ]
  },
  {
   "cell_type": "code",
   "execution_count": 86,
   "metadata": {},
   "outputs": [
    {
     "name": "stdout",
     "output_type": "stream",
     "text": [
      "Pi =  [0.1168863, 0.1694859, 0.2386125, 0.2297141, 0.1512198, 0.0680562, 0.0260252]\n",
      "xsi^2 =  6.520460100000001\n",
      "chi2_val 16.811893829770927\n",
      "Наибольшее значение уровня значимости = 0.368\n"
     ]
    }
   ],
   "source": [
    "#Расчёты\n",
    "\n",
    "from re import match\n",
    "from math import inf\n",
    "\n",
    "I = [(-inf, -3.42), (-3.42,-1.62), (-1.62,0.18), (0.18, 1.98),(1.98, 3.78),(3.78, 5.58),(5.58,+inf)]\n",
    "a0=0\n",
    "sigma0=8.25\n",
    "n=len(y)\n",
    "alpha = 0.01\n",
    "n_i = [3,12,14,10,6,2,3];p_i = [];np_i = [];n_i_np_i = [];res = []\n",
    "for i in I:\n",
    " p_i.append(round(sc.norm.cdf(i[1], loc=a0,scale=std_mistakes) - sc.norm.cdf(i[0], loc=a0,scale=std_mistakes), 7))\n",
    "print(\"Pi = \",p_i)\n",
    "for i in range (7):\n",
    " np_i.append(round(n*p_i[i],7))\n",
    "#print(np_i)\n",
    "for i in range(7):\n",
    " n_i_np_i.append(round(n_i[i] - np_i[i], 7))\n",
    "for i in range(7):\n",
    " res.append(round((n_i_np_i[i] ** 2) / np_i[i] , 7))\n",
    "print(\"xsi^2 = \", sum(res))\n",
    "chi2_val_5_09 = chi2.ppf(1-alpha, 6)\n",
    "print('chi2_val',chi2_val_5_09)\n",
    "chi2 = 6.52\n",
    "print(\"Наибольшее значение уровня значимости =\", round(1 - sps.chi2.cdf(chi2, 6), 3))"
   ]
  },
  {
   "cell_type": "code",
   "execution_count": 87,
   "metadata": {},
   "outputs": [
    {
     "name": "stdout",
     "output_type": "stream",
     "text": [
      "Статистика критерия Колмогорова Dn: 0.10293549054068768\n",
      "x_alpha 0.2106765432666897\n",
      "Наибольшее значение уровня значимости = 0.3243174427429809\n"
     ]
    }
   ],
   "source": [
    "Dn =sps.kstest([element[0,0] for element in mistakes], \"norm\", args = (mean_mistakes,std_mistakes)).statistic\n",
    "print(\"Статистика критерия Колмогорова Dn:\", Dn)\n",
    "x_a = sps.ksone.ppf(0.99, 50)\n",
    "print(\"x_alpha\",x_a)\n",
    "\n",
    "\n",
    "print(\"Наибольшее значение уровня значимости =\", 1 - sps.ksone.cdf(Dn, 50))"
   ]
  },
  {
   "cell_type": "markdown",
   "metadata": {},
   "source": [
    "Критерий Колмогорова\\\n",
    "$\\widehat{\\varphi(\\vec{X})} = \\begin{cases} 0, \\quad \\widehat{D_n} \\leq 0.21 \\\\ 1, \\quad \\widehat{D_n} > 0.21 \\end{cases}$\n",
    "\n",
    "\n",
    "Т.к. $\\widehat{D_n} < x_\\alpha$, гипотеза  принимается.\n",
    "\n",
    "   Наибольшее значение уровня значимости, при котором ещё нет оснований отвергнуть данную гипотезу, равняется $0.324$\n"
   ]
  },
  {
   "cell_type": "code",
   "execution_count": 88,
   "metadata": {},
   "outputs": [
    {
     "name": "stderr",
     "output_type": "stream",
     "text": [
      "C:\\Users\\Honor MagicBook Pro\\AppData\\Local\\Temp\\ipykernel_20636\\1325884026.py:5: DeprecationWarning: Conversion of an array with ndim > 0 to a scalar is deprecated, and will error in future. Ensure you extract a single element from your array before performing this operation. (Deprecated NumPy 1.25.)\n",
      "  mistakes_range = np.arange(min(mistakes), max(mistakes) + 1, 0.01)\n"
     ]
    },
    {
     "data": {
      "image/png": "[encoded data removed]",
      "text/plain": [
       "<Figure size 640x480 with 1 Axes>"
      ]
     },
     "metadata": {},
     "output_type": "display_data"
    }
   ],
   "source": [
    "mistakes = Y_matrix - X_matrix.T * Beta_matrix\n",
    "fig, ax = plt.subplots()\n",
    "counts, bins = np.histogram(mistakes, bins=[i / 100 for i in range((int(min_mistake_scalar)*100)-30, (int(max_mistake_scalar)*100)+300, int(h*100))])\n",
    "plt.hist(bins[:-1], edgecolor='black', weights=counts, bins=bins, color='gray', density= True)\n",
    "mistakes_range = np.arange(min(mistakes), max(mistakes) + 1, 0.01)\n",
    "\n",
    "\n",
    "plt.plot(mistakes_range, sps.norm.pdf(mistakes_range, mean_mistakes, std_mistakes))\n",
    "ax.set_title(\"Сравнение гистограммы и функции плотности нормального распределения\")\n",
    "plt.show()"
   ]
  },
  {
   "cell_type": "markdown",
   "metadata": {},
   "source": [
    "Анализируя получившийся график, можно сказать, что в среднем расстояние между рассматриваемыми функциями распределения достаточно мало, но визуальная оценка может быть недостаточной для однозначного заключения о нормальности данных."
   ]
  },
  {
   "cell_type": "markdown",
   "metadata": {},
   "source": [
    "### 3.В предположении нормальности ошибок построить доверительный интервал для параметров $\\beta_0,\\beta_1$ уровня доверия $1-\\alpha$.Построить доверительный эллипс уровня доверия $1-\\alpha$ для ($\\beta_0,\\beta_1$) (вычислить его полуоси)."
   ]
  },
  {
   "cell_type": "markdown",
   "metadata": {},
   "source": [
    "ДНО функция: $\\psi = C^T \\beta $\n",
    "\n",
    "Элемент дисперсии оценки: $ b_\\psi = C^T (XX^T)^{-1}C$\n",
    "\n",
    "Тогда: $ \\cfrac{\\widehat \\psi - \\psi}{s\\sqrt{b}} \\sim S_{n-r} $\n",
    "\n",
    "Доверительный интервал уровня доверия $1 - \\alpha$:\n",
    "\n",
    "$ P_\\theta(-x_\\alpha \\le \\cfrac{\\widehat \\psi - \\psi}{s\\sqrt{b}} \\le x_\\alpha) = 1 -\\alpha $, \n",
    "\n",
    "\n",
    "$[ \\widehat \\psi -x_{\\alpha}s\\sqrt{b} , \\widehat \\psi + x_{\\alpha}s\\sqrt{b}] \\ni \\psi$ \n",
    "\n",
    "где квантиль $ x_\\alpha : S_{n-r}(x_\\alpha) = 1 -\\frac{\\alpha}{2} $\n",
    "\n",
    "$x_{\\alpha} = S_{n - 2}(1 - \\frac{\\alpha}{2}) = 2.6822$\n",
    "\n",
    "\n",
    "- **Вычислим $\\beta_0:$** \n",
    "\n",
    "  $\\psi_{\\beta_0} = \\begin{pmatrix}\n",
    "    1 \\\\\n",
    "    0\n",
    "    \\end{pmatrix}  ^ {\\intercal} \\cdot  \\begin{pmatrix}\n",
    "    \\beta_0 \\\\\n",
    "    \\beta_1\n",
    "    \\end{pmatrix}$\n",
    "\n",
    "    $b_{\\psi_{\\beta_0}} =  \\begin{pmatrix}\n",
    "    1 & 0\n",
    "    \\end{pmatrix} (XX^{\\intercal})^{-1} \\begin{pmatrix}\n",
    "    1 \\\\ 0\n",
    "    \\end{pmatrix} = 0.065$\n",
    "\n",
    "    \n",
    "  \n",
    "- **Вычислим $\\beta_1:$**\n",
    "\n",
    "  $\\psi_{\\beta_1} = \\begin{pmatrix}\n",
    "    0 \\\\\n",
    "    1\n",
    "    \\end{pmatrix}  ^ {\\intercal} \\cdot  \\begin{pmatrix}\n",
    "    \\beta_0 \\\\\n",
    "    \\beta_1\n",
    "    \\end{pmatrix}$\n",
    "  \n",
    "    $b_{\\psi_{\\beta_1}} =  \\begin{pmatrix}\n",
    "    0 & 1\n",
    "    \\end{pmatrix} (XX^{\\intercal})^{-1} \\begin{pmatrix}\n",
    "    0 \\\\ 1\n",
    "    \\end{pmatrix} = 0.0034$\n",
    "\n",
    "\n",
    "$ \\cfrac{\\widehat \\psi - \\psi}{s\\sqrt{b_{\\psi_{\\beta_0}}}} \\sim S_{n-2} $\n",
    "\n",
    "$ \\cfrac{\\widehat \\psi - \\psi}{s\\sqrt{b_{\\psi_{\\beta_1}}}} \\sim S_{n-2} $\n",
    "\n",
    "\n"
   ]
  },
  {
   "cell_type": "code",
   "execution_count": 89,
   "metadata": {},
   "outputs": [
    {
     "name": "stdout",
     "output_type": "stream",
     "text": [
      "x_alpha: 2.6822\n",
      "b0 =  [[0.06506965]]\n",
      "b1 =  [[0.00336451]]\n",
      "Интервал для b1 ( [[2.23577505]] [[6.16616694]] )\n",
      "Интервал для b2 ( [[-0.23811523]] [[0.65561741]] )\n"
     ]
    }
   ],
   "source": [
    "from scipy import stats\n",
    "import scipy\n",
    "\n",
    "r = np.linalg.matrix_rank(X_matrix)\n",
    "n = len(x)\n",
    "alpha = 0.01\n",
    "func = stats.t(n - 2)\n",
    "x_alpha = func.ppf(1 - alpha/2)\n",
    "print(f'x_alpha: {round(x_alpha, 4)}')\n",
    "\n",
    "e1 = np.array([1,0])\n",
    "e2 = np.array([0,1])\n",
    "\n",
    "e3 = np.array([[0], [1]])\n",
    "e =  np.array([[1], [0]])\n",
    "b1 = e1 * XX_T_inv * e\n",
    "b2 = e2 *XX_T_inv*e3\n",
    "print(\"b0 = \",b1)\n",
    "print(\"b1 = \",b2)\n",
    "\n",
    "\n",
    "left = beta_0 - x_alpha * np.sqrt(var) * np.sqrt(b1)\n",
    "right = beta_0 + x_alpha * np.sqrt(var) * np.sqrt(b1)\n",
    "print(\"Интервал для b1 (\",left,right,\")\")\n",
    "XX_T_inv = np.linalg.inv(X_matrix * X_matrix.T)\n",
    "left = beta_1 - x_alpha * np.sqrt(var) * np.sqrt(b2)\n",
    "right = beta_1 + x_alpha * np.sqrt(var) * np.sqrt(b2)\n",
    "print(\"Интервал для b2 (\",left,right,\")\")\n",
    "\n"
   ]
  },
  {
   "cell_type": "markdown",
   "metadata": {},
   "source": [
    "$\\left[2.24, 6.17\\right] \\ni \\beta_0$\n",
    "\n",
    "$\\left[-0.24, 0.66\\right] \\ni \\beta_1$"
   ]
  },
  {
   "cell_type": "markdown",
   "metadata": {},
   "source": [
    "**Построим доверительный эллипс для параметра $(\\beta_0, \\beta_1)$ уровня доверия 1 - $\\alpha$**\n",
    "\n",
    "$ A_\\alpha = \\{\\overrightarrow{x}: (\\overrightarrow{x} - \\widehat \\psi)^T B^{-1} (\\overrightarrow{x} - \\widehat \\psi) \\le qs^2x_\\alpha\\}$\n",
    "\n",
    "$ A_\\alpha = \\{\\overrightarrow{x}: (\\overrightarrow{x} - \\widehat \\psi)^T (C^T (XX^T)^{-1}C)^{-1}(\\overrightarrow{x} - \\widehat \\psi) \\le qs^2x_\\alpha\\}$, \n",
    "\n",
    "где $ x_\\alpha = F_{q, n-r}(x_\\alpha) = 1 - \\alpha$"
   ]
  },
  {
   "cell_type": "code",
   "execution_count": 90,
   "metadata": {},
   "outputs": [
    {
     "name": "stdout",
     "output_type": "stream",
     "text": [
      "x_a = 5.077\n"
     ]
    }
   ],
   "source": [
    "fx = 0.99\n",
    "x_a = sps.f.ppf(fx, 2, 48)\n",
    "print(\"x_a =\", round(x_a, 3))"
   ]
  },
  {
   "cell_type": "code",
   "execution_count": 91,
   "metadata": {},
   "outputs": [],
   "source": [
    "b0_val = []\n",
    "b1_val = []\n",
    "\n",
    "for b0 in np.arange(0, 10, 0.01):\n",
    "  for b1 in np.arange(-2, 5, 0.01):\n",
    "    x = np.array([b0, b1])\n",
    "    psi = np.array([4.201, 0.209])\n",
    "    X = np.array( [0, 3, 1, 7, 1, 7, 2, 1, 1, 7, 2, 0, 1, 7, 1, 0, 5,\n",
    "      5, 6, 6, 2, 6, 7, 7, 0, 3, 5, 1, 5, 5, 5, 4, 5, 3,\n",
    "      2, 6, 3, 1, 2, 1, 7, 0, 6, 4, 5, 2, 7, 7, 6, 3])\n",
    "    q = 2\n",
    "    S2 = 8.25\n",
    "    x_a = 5.077\n",
    "\n",
    "    x_psi = x - psi\n",
    "    XXT = np.dot(X, np.transpose(X))\n",
    "\n",
    "    if np.dot(np.dot(np.transpose(x_psi), XXT), x_psi) <= q * S2 * x_a:\n",
    "      b0_val.append(round(b0, 3))\n",
    "      b1_val.append(round(b1, 3))\n"
   ]
  },
  {
   "cell_type": "code",
   "execution_count": 92,
   "metadata": {},
   "outputs": [
    {
     "data": {
      "image/png": "[encoded data removed]",
      "text/plain": [
       "<Figure size 640x480 with 1 Axes>"
      ]
     },
     "metadata": {},
     "output_type": "display_data"
    }
   ],
   "source": [
    "import matplotlib.pyplot as plt\n",
    "import numpy as np\n",
    "from matplotlib.patches import Ellipse\n",
    "# Ваш код для вычисления b0_val и b1_val\n",
    "\n",
    "# Доверительные интервалы\n",
    "b0_interval = [2.24, 6.17]\n",
    "b1_interval = [-0.24, 0.66]\n",
    "\n",
    "# Средние значения\n",
    "b0_mean = (b0_interval[0] + b0_interval[1]) / 2\n",
    "b1_mean = (b1_interval[0] + b1_interval[1]) / 2\n",
    "\n",
    "# Размеры эллипса\n",
    "b0_std = (b0_interval[1] - b0_interval[0]) / 2\n",
    "b1_std = (b1_interval[1] - b1_interval[0]) / 2\n",
    "\n",
    "# Угол наклона эллипса\n",
    "angle = np.degrees(np.arctan2(b1_interval[1] - b1_interval[0], b0_interval[1] - b0_interval[0]))\n",
    "\n",
    "# Создаем фигуру и оси\n",
    "fig, ax = plt.subplots()\n",
    "\n",
    "# Строим точки\n",
    "ax.scatter(b0_val, b1_val, marker=',', color='red')\n",
    "\n",
    "# Строим доверительный эллипс\n",
    "ellipse = Ellipse((b0_mean, b1_mean), width=b0_std * 2, height=b1_std * 2, angle=angle,\n",
    "                  edgecolor='blue', fc='None', lw=2)\n",
    "\n",
    "# Добавляем эллипс к осям\n",
    "ax.add_patch(ellipse)\n",
    "\n",
    "# Настройка графика\n",
    "plt.title('Доверительный эллипс')\n",
    "plt.xlabel('b0', fontsize=12)\n",
    "plt.ylabel('b1', fontsize=12)\n",
    "\n",
    "plt.show()\n",
    "\n",
    "\n"
   ]
  },
  {
   "cell_type": "markdown",
   "metadata": {},
   "source": [
    "**Вычислим его полуоси**\n",
    "\n",
    "$C = \\begin{pmatrix}\n",
    "    1 & 0\\\\\n",
    "    0 & 1\n",
    "\\end{pmatrix} $\n",
    "\n",
    "Пусть $ \\begin{pmatrix}\n",
    "    x\\\\\n",
    "    y\n",
    "\\end{pmatrix}  = P(\\widehat \\psi - \\psi)$, где P - матрица собственных векторов.\n",
    "\n",
    "Тогда уравнение доверительного эллипсоида выглядит таким образом:\n",
    "\n",
    "$(\\widehat \\psi -  \\psi)^T (C^T (XX^T)^{-1}C)^{-1}(\\widehat \\psi -  \\psi) = \\lambda_1 x^2 + \\lambda_2 y^2 \\le qs^2x_\\alpha$, где $\\lambda_1$ и $\\lambda_2$ - собственные числа матрицы $XX^T$\n",
    "\n",
    "$\\cfrac{\\lambda_1}{qs^2x_\\alpha}x^2 + \\cfrac{\\lambda_2}{qs^2x_\\alpha}y^2 \\le 1$\n",
    "\n",
    "\n",
    "Большая полуось\\\n",
    "$ a  = 2.38$\n",
    "\\\n",
    "Малая полуось\\\n",
    "$ b = 0.29 $\n"
   ]
  },
  {
   "cell_type": "code",
   "execution_count": 93,
   "metadata": {},
   "outputs": [
    {
     "name": "stdout",
     "output_type": "stream",
     "text": [
      "x_alpha: 5.0767\n",
      "Большая полуось: 2.3767\n",
      "Малая полуось: 0.2891\n"
     ]
    }
   ],
   "source": [
    "XX_T = np.dot(X_matrix, X_matrix.T)\n",
    "eigenvalues, eigenvectors = np.linalg.eig(XX_T)\n",
    "\n",
    "\n",
    "\n",
    "func = stats.f(2, n - 2)\n",
    "x_alpha = func.ppf(1 - alpha)\n",
    "print(f'x_alpha: {round(x_alpha, 4)}')\n",
    "\n",
    "a = np.sqrt((2 * var * x_alpha) / eigenvalues[0])\n",
    "b =  np.sqrt((2 * var * x_alpha) / eigenvalues[1])\n",
    "\n",
    "print(f'Большая полуось: {round(a, 4)}')\n",
    "print(f'Малая полуось: {round(b, 4)}')\n"
   ]
  },
  {
   "cell_type": "markdown",
   "metadata": {},
   "source": [
    "### 4) Сформулировать гипотезу независимости переменной Y от переменной X. Провести проверку значимости."
   ]
  },
  {
   "cell_type": "markdown",
   "metadata": {},
   "source": [
    "Основная гипотеза: $H_0 : \\psi = 0$\n",
    "\n",
    "ДНО функция: \n",
    "$\\psi = C^T \\beta $\n",
    "\n",
    "$ C = \\begin{pmatrix}\n",
    "    0 \\\\\n",
    "    1\n",
    "\\end{pmatrix} \\Rightarrow$, $\\widehat \\psi = \\widehat \\beta_1 $"
   ]
  },
  {
   "cell_type": "code",
   "execution_count": 94,
   "metadata": {},
   "outputs": [
    {
     "name": "stdout",
     "output_type": "stream",
     "text": [
      "Статистика F =  [[1.56995025]]\n",
      "x_alpha =  7.194218442187959\n",
      "p_value 0.216\n"
     ]
    }
   ],
   "source": [
    "c = np.array([0, 1])\n",
    "b = np.dot(np.dot(c.T, XX_T_inv), c)\n",
    "q = 1\n",
    "r = 2\n",
    "F = beta_1**2 / (  b*var)\n",
    "print(\"Статистика F = \" , F)\n",
    "\n",
    "x_alpha = stats.f(q, 48).ppf(1 - alpha)\n",
    "print(\"x_alpha = \" , x_alpha)\n",
    "F = 1.57\n",
    "print(\"p_value\", round(1 - sps.f.cdf(F, 1, 48), 3))"
   ]
  },
  {
   "cell_type": "markdown",
   "metadata": {},
   "source": [
    "$\\mathbb{F} \\approx 1.57$\n",
    "\n",
    "$x_{\\alpha} \\approx 7.19$\n",
    "\n",
    "$\\mathbb{F} < x_{\\alpha_2} \\to$ Гипотезу принимаем"
   ]
  },
  {
   "cell_type": "markdown",
   "metadata": {},
   "source": [
    "### 5.Сформулировать модель включающую доплнительный член с $X^2$.Построить МНК оценки параметров $\\beta_0,\\beta_1,\\beta_2$ в данной модели. Изобразить графически полученную регрессионную модель.\n",
    "\n",
    "Линейная регрессионная модель:\n",
    "\n",
    "$\\mathbb{E}_{\\theta}(Y|z) = x(z)^{\\intercal}\\beta$\n",
    "\n",
    "\n",
    "\n",
    "Альтернативная форма записи модели линейной регрессии\n",
    "\n",
    "$ Y = X^T \\beta + e  \\quad \\mathbb{E}_\\theta +\\varepsilon = 0 \\quad Var_\\theta e = \\sigma^2 E$\n",
    "\n",
    "Система нормальных уравнений:\n",
    "\n",
    "$ X X^T \\beta = X Y $\n",
    "\n",
    "Решение системы нормальных уравнений в регулярном случае:\n",
    "\n",
    "$ \\hat{\\beta} = (X X^T)^{-1} XY $"
   ]
  },
  {
   "cell_type": "code",
   "execution_count": 95,
   "metadata": {},
   "outputs": [
    {
     "name": "stdout",
     "output_type": "stream",
     "text": [
      "Определитель матрицы X*X_transpose =  14159079.999999978\n",
      "[[ 0.12107849 -0.06813155  0.00766716]\n",
      " [-0.06813155  0.05899119 -0.00764096]\n",
      " [ 0.00766716 -0.00764096  0.00104957]]\n",
      "b0: 3.486\n",
      "b1: 0.922\n",
      "b2: -0.098\n"
     ]
    }
   ],
   "source": [
    "y = np.array( [3.57, 3.97, 1.52, 5.32, 5.61, 4.65, 8.74, 2.19, 1.98, 6.48, 4.61, 7.29, 1.44, 5.18, 4.10, 6.05, 12.53,\n",
    "      3.40, 6.76, 8.38, 11.23, 4.79, 5.31, 1.43, 1.33, 3.31, 7.84, 6.02, 7.24, 7.39, 0.16, 3.69, 4.44, 4.98,\n",
    "      5.45, 3.28, 4.47, 5.70, 7.41, 1.42, 12.95, 1.75, 3.75, 5.44, 2.48, 1.41, 0.44, 4.86, 5.74, 8.77])\n",
    "\n",
    "x = np.array( [0, 3, 1, 7, 1, 7, 2, 1, 1, 7, 2, 0, 1, 7, 1, 0, 5,\n",
    "      5, 6, 6, 2, 6, 7, 7, 0, 3, 5, 1, 5, 5, 5, 4, 5, 3,\n",
    "      2, 6, 3, 1, 2, 1, 7, 0, 6, 4, 5, 2, 7, 7, 6, 3])\n",
    "\n",
    "Y_matrix = np.matrix(y).T\n",
    "X_matrix = np.matrix([[1] * len(x), x, [i**2 for i in x]])\n",
    "print(\"Определитель матрицы X*X_transpose = \", np.linalg.det(X_matrix * X_matrix.T))\n",
    "Beta_matrix = np.linalg.inv(X_matrix * X_matrix.T) * X_matrix * Y_matrix\n",
    "beta_0 = float(Beta_matrix[0, 0])\n",
    "beta_1 = float(Beta_matrix[1, 0])\n",
    "beta_2 = float(Beta_matrix[2, 0])\n",
    "XX_T_inv = np.linalg.inv(X_matrix * X_matrix.T)\n",
    "print(XX_T_inv)\n",
    "print(\"b0:\", round(beta_0, 3) )\n",
    "print(\"b1:\", round(beta_1, 3))\n",
    "print(\"b2:\", round(beta_2, 3))\n"
   ]
  },
  {
   "cell_type": "markdown",
   "metadata": {},
   "source": [
    "МНК-оценки параметров\n",
    "$ \\hat{\\beta} = \\left( \\begin{array}{c} \\hat\\beta_0 \\\\ \\hat\\beta_1 \\\\ \\hat\\beta_2 \\end{array} \\right) = \\left( \\begin{array}{c} 3.484 \\\\ 0.922 \\\\ -0.098 \\end{array} \\right) $"
   ]
  },
  {
   "cell_type": "code",
   "execution_count": 96,
   "metadata": {},
   "outputs": [
    {
     "data": {
      "image/png": "[encoded data removed]",
      "text/plain": [
       "<Figure size 640x480 with 1 Axes>"
      ]
     },
     "metadata": {},
     "output_type": "display_data"
    }
   ],
   "source": [
    "y =  [3.57, 3.97, 1.52, 5.32, 5.61, 4.65, 8.74, 2.19, 1.98, 6.48, 4.61, 7.29, 1.44, 5.18, 4.10, 6.05, 12.53,\n",
    "      3.40, 6.76, 8.38, 11.23, 4.79, 5.31, 1.43, 1.33, 3.31, 7.84, 6.02, 7.24, 7.39, 0.16, 3.69, 4.44, 4.98,\n",
    "      5.45, 3.28, 4.47, 5.70, 7.41, 1.42, 12.95, 1.75, 3.75, 5.44, 2.48, 1.41, 0.44, 4.86, 5.74, 8.77]\n",
    "\n",
    "x =  [0, 3, 1, 7, 1, 7, 2, 1, 1, 7, 2, 0, 1, 7, 1, 0, 5,\n",
    "      5, 6, 6, 2, 6, 7, 7, 0, 3, 5, 1, 5, 5, 5, 4, 5, 3,\n",
    "      2, 6, 3, 1, 2, 1, 7, 0, 6, 4, 5, 2, 7, 7, 6, 3]\n",
    "\n",
    "b = [beta_0, beta_1, beta_2]\n",
    "plt.title('Линия регрессии и исходные данные')\n",
    "plt.xlabel('x', fontsize=12)\n",
    "plt.ylabel('y', fontsize=12)\n",
    "plt.scatter(x, y, color='gray', edgecolors='black', linewidths=0.5)\n",
    "\n",
    "X_val = np.array(sorted(x))\n",
    "X = np.array([[1] * 50, X_val, X_val**2])\n",
    "\n",
    "plt.plot(X_val, np.dot(np.transpose(X), b), 'r')\n",
    "plt.show()"
   ]
  },
  {
   "cell_type": "markdown",
   "metadata": {},
   "source": [
    "### 6.Построить несмещенную оценку дисперсии. Провести исследование нормальности ошибок как в пункте 2."
   ]
  },
  {
   "cell_type": "markdown",
   "metadata": {},
   "source": [
    "Несмещённая оценка дисперсии:\n",
    "\n",
    "$ \\displaystyle S^2 = \\frac{RSS( \\hat{\\beta} )}{ n - r } = \\frac{(Y - X^T \\hat{\\beta})^T (Y - X^T \\hat{\\beta})}{48} \\approx 8.23$\n",
    "\n",
    "Где r - ранг матрицы = 3"
   ]
  },
  {
   "cell_type": "code",
   "execution_count": 97,
   "metadata": {},
   "outputs": [
    {
     "name": "stdout",
     "output_type": "stream",
     "text": [
      "Rang = 3\n",
      "Несмещённая оценка дисперсии = 8.231029830654943\n"
     ]
    }
   ],
   "source": [
    "var = np.linalg.norm((Y_matrix - X_matrix.T * Beta_matrix).T*(Y_matrix - X_matrix.T * Beta_matrix)) /(len(x) - np.linalg.matrix_rank(X_matrix))\n",
    "print(\"Rang =\",np.linalg.matrix_rank(X_matrix))\n",
    "print(\"Несмещённая оценка дисперсии =\", var)"
   ]
  },
  {
   "cell_type": "code",
   "execution_count": 98,
   "metadata": {},
   "outputs": [
    {
     "name": "stdout",
     "output_type": "stream",
     "text": [
      "[[-5.48578571]] [[7.81117805]]\n"
     ]
    },
    {
     "name": "stderr",
     "output_type": "stream",
     "text": [
      "C:\\Users\\Honor MagicBook Pro\\AppData\\Local\\Temp\\ipykernel_20636\\1272907476.py:7: DeprecationWarning: Conversion of an array with ndim > 0 to a scalar is deprecated, and will error in future. Ensure you extract a single element from your array before performing this operation. (Deprecated NumPy 1.25.)\n",
      "  plt.hist(mistakes, bins=np.arange(min(mistakes), max(mistakes) + h, h), edgecolor='black',color = \"gray\")\n"
     ]
    },
    {
     "data": {
      "image/png": "[encoded data removed]",
      "text/plain": [
       "<Figure size 640x480 with 1 Axes>"
      ]
     },
     "metadata": {},
     "output_type": "display_data"
    }
   ],
   "source": [
    "mistakes = Y_matrix - X_matrix.T * Beta_matrix\n",
    "mean_mistakes = 0\n",
    "std_mistakes = np.sqrt(var)\n",
    "mistakes = Y_matrix - X_matrix.T * Beta_matrix\n",
    "\n",
    "h = 1.8\n",
    "plt.hist(mistakes, bins=np.arange(min(mistakes), max(mistakes) + h, h), edgecolor='black',color = \"gray\")\n",
    "print(min(mistakes), max(mistakes))\n",
    "plt.xlabel('X')\n",
    "plt.ylabel('H(X)')\n",
    "plt.title(\"Гистограмма ошибок с шагом h = 1.8\")\n",
    "plt.show()\n",
    "\n"
   ]
  },
  {
   "cell_type": "markdown",
   "metadata": {},
   "source": [
    "**Оценим соответствует ли распределение ошибок нормальному распредлению.**\n",
    "\n",
    "При $ a_0 = 0 $ и $ S^2 = 8.23$ и $ \\alpha_1 = 0.01 $\n",
    "\n",
    "$I_{1}=\\left(-\\infty, -3.69 \\right], n_{1}=3$  $\\quad\\quad\\quad\\quad\\quad\\quad\\quad\\quad\\quad$ $I_{5}=\\left(1.71, 3.51\\right], n_{5}=6$\n",
    "\n",
    "$P_{1}=0.117$  $\\quad\\quad\\quad\\quad\\quad\\quad\\quad\\quad\\quad\\quad\\quad\\quad\\quad\\quad\\quad$  $P_{5}=0.151$  \n",
    "\n",
    "$I_{2}=\\left(-3.69, -1.89 \\right], n_{2}=12$ $\\quad\\quad\\quad\\quad\\quad\\quad\\quad$            $I_{6}=\\left(3.51, +\\infty\\right], n_{6}=5$  \n",
    "\n",
    "$P_{2}=0.169$   $\\quad\\quad\\quad\\quad\\quad\\quad\\quad\\quad\\quad\\quad\\quad\\quad\\quad\\quad\\quad$ $P_{6}=0.068$  \n",
    "\n",
    "$I_{3}=\\left(-1.89,-0.09 \\right], n_{3}=12$  \n",
    "\n",
    "$P_{3}=0.239$  \n",
    "\n",
    "$I_{4}=\\left(-0.09,1.71 \\right], n_{4}=12$  \n",
    "\n",
    "$P_{4}=0.23$  \n",
    "\n",
    "\n",
    " **Вычисление статистики критерия $\\chi^2$:**\n",
    "\n",
    "   $\\chi^2 = \\sum \\limits_{i=1}^7 \\large \\frac{\\left(n_i - n\\mathbb{P}_i\\right)^2}{n\\mathbb{P}_i}  \\normalsize = 3.72$\n",
    "\n",
    "   **Сравнение с критическим значением:**\n",
    "   - Из таблицы для распределения $\\chi^2$ с 6 степенями свободы при уровне значимости $\\alpha = 0.01$ значение критерия составляет $\\chi_{6, 0.99}^2 \\approx 16.81$.\n",
    "   - Так как $\\chi_{6, 0.99}^2 > \\chi^2 $, гипотеза принимается.\n",
    "\n",
    "   Наибольшее значение уровня значимости, при котором ещё нет оснований отвергнуть данную гипотезу, равняется $0.589$"
   ]
  },
  {
   "cell_type": "code",
   "execution_count": 99,
   "metadata": {},
   "outputs": [
    {
     "name": "stdout",
     "output_type": "stream",
     "text": [
      "pi= [0.0991774, 0.1558307, 0.2324784, 0.2369489, 0.164996, 0.1105687]\n",
      "xsi^2 3.7251149999999993\n",
      "chi2_val 16.811893829770927\n",
      "Наибольшее значение уровня значимости = 0.589\n"
     ]
    }
   ],
   "source": [
    "from re import match\n",
    "from math import inf\n",
    "from scipy.stats import chi2\n",
    "I = [(-inf, -3.69), (-3.69,-1.89), (-1.89,-0.09), (-0.09, 1.71),(1.71, 3.51),(3.51,+inf)]\n",
    "a0=0\n",
    "sigma0=8.23\n",
    "n=len(y)\n",
    "\n",
    "alpha = 0.01\n",
    "n_i = [3,12,12,12,6,5];p_i = [];np_i = [];n_i_np_i = [];res = []\n",
    "for i in I:\n",
    " p_i.append(round(sc.norm.cdf(i[1], loc=a0,scale=sigma0**0.5) - sc.norm.cdf(i[0], loc=a0,scale=sigma0**0.5), 7))\n",
    "print(\"pi=\",p_i)\n",
    "for i in range (6):\n",
    " np_i.append(round(n*p_i[i],7))\n",
    "#print(np_i)\n",
    "for i in range(6):\n",
    " n_i_np_i.append(round(n_i[i] - np_i[i], 7))\n",
    "for i in range(6):\n",
    " res.append(round((n_i_np_i[i] ** 2) / np_i[i] , 7))\n",
    "print(\"xsi^2\", sum(res))\n",
    "chi2_val = chi2.ppf(1-0.01,5)\n",
    "print('chi2_val',chi2_val_5_09)\n",
    "chi2 = 3.73\n",
    "print(\"Наибольшее значение уровня значимости =\", round(1 - sps.chi2.cdf(chi2, 5), 3))"
   ]
  },
  {
   "cell_type": "code",
   "execution_count": 100,
   "metadata": {},
   "outputs": [
    {
     "name": "stdout",
     "output_type": "stream",
     "text": [
      "Статистика критерия Колмогорова Dn: 0.10531315418826104\n",
      "0.2106765432666897\n",
      "Наибольшее значение уровня значимости = 0.3081516222243529\n"
     ]
    }
   ],
   "source": [
    "Dn = sps.kstest([element[0,0] for element in mistakes], \"norm\", args = (mean_mistakes,std_mistakes)).statistic\n",
    "print(\"Статистика критерия Колмогорова Dn:\", Dn)\n",
    "x_a = sps.ksone.ppf(0.99, 50)\n",
    "print(x_a)\n",
    "print(\"Наибольшее значение уровня значимости =\", 1 - sps.ksone.cdf(Dn, 50))"
   ]
  },
  {
   "cell_type": "markdown",
   "metadata": {},
   "source": [
    "Критерий Колмогорова\\\n",
    "$\\widehat{\\varphi(\\vec{X})} = \\begin{cases} 0, \\quad \\widehat{D_n} \\leq 0.21 \\\\ 1, \\quad \\widehat{D_n} > 0.21 \\end{cases}$\n",
    "\n",
    "\n",
    "Т.к. $\\widehat{D_n} < x_\\alpha$, гипотеза  принимается.\n",
    "\n",
    "   Наибольшее значение уровня значимости, при котором ещё нет оснований отвергнуть данную гипотезу, равняется $0.308$"
   ]
  },
  {
   "cell_type": "code",
   "execution_count": 101,
   "metadata": {},
   "outputs": [
    {
     "name": "stderr",
     "output_type": "stream",
     "text": [
      "C:\\Users\\Honor MagicBook Pro\\AppData\\Local\\Temp\\ipykernel_20636\\2501215234.py:2: DeprecationWarning: Conversion of an array with ndim > 0 to a scalar is deprecated, and will error in future. Ensure you extract a single element from your array before performing this operation. (Deprecated NumPy 1.25.)\n",
      "  plt.hist(mistakes, bins=np.arange(min(mistakes), max(mistakes) + h, h), edgecolor='black',color = \"gray\",density= True)\n"
     ]
    },
    {
     "name": "stdout",
     "output_type": "stream",
     "text": [
      "[[-5.48578571]] [[7.81117805]]\n"
     ]
    },
    {
     "data": {
      "image/png": "[encoded data removed]",
      "text/plain": [
       "<Figure size 640x480 with 1 Axes>"
      ]
     },
     "metadata": {},
     "output_type": "display_data"
    }
   ],
   "source": [
    "\n",
    "plt.plot(mistakes_range, sps.norm.pdf(mistakes_range, mean_mistakes, std_mistakes))\n",
    "plt.hist(mistakes, bins=np.arange(min(mistakes), max(mistakes) + h, h), edgecolor='black',color = \"gray\",density= True)\n",
    "print(min(mistakes), max(mistakes))\n",
    "plt.xlabel('X')\n",
    "plt.ylabel('H(X)')\n",
    "plt.title(\"Сравнение гистограммы и функции плотности нормального распределения\")\n",
    "plt.show()"
   ]
  },
  {
   "cell_type": "markdown",
   "metadata": {},
   "source": [
    "Анализируя получившийся график, можно сказать, что в среднем расстояние между рассматриваемыми функциями распределения достаточно мало, но визуальная оценка может быть недостаточной для однозначного заключения о нормальности данных."
   ]
  },
  {
   "cell_type": "markdown",
   "metadata": {},
   "source": [
    "### 7.В предположении нормальности ошибок построить доверительные интервалы для параметров $\\beta_0,\\beta_1,\\beta_2$ уровня доверия $1-\\alpha$. Написать уравнение доверительного эллипсоида уровня доверия $1-\\alpha$."
   ]
  },
  {
   "cell_type": "markdown",
   "metadata": {},
   "source": [
    "ДНО функция: $\\psi = C^T \\beta $\n",
    "\n",
    "Элемент дисперсии оценки: $ b_\\psi = C^T (XX^T)^{-1}C$\n",
    "\n",
    "Тогда: $ \\cfrac{\\widehat \\psi - \\psi}{s\\sqrt{b}} \\sim S_{n-r} $\n",
    "\n",
    "Доверительный интервал уровня доверия $1 - \\alpha$:\n",
    "\n",
    "$ P_\\theta(-x_\\alpha \\le \\cfrac{\\widehat \\psi - \\psi}{s\\sqrt{b}} \\le x_\\alpha) = 1 -\\alpha $\n",
    "\n",
    "\n",
    "$[ \\widehat \\psi -x_{\\alpha}s\\sqrt{b} , \\widehat \\psi + x_{\\alpha}s\\sqrt{b}] \\ni \\psi$ \n",
    "\n",
    "где квантиль $ x_\\alpha : S_{n-r}(x_\\alpha) = 1 -\\frac{\\alpha}{2} $\n",
    "\n",
    "$x_{\\alpha} = S_{n - 3}(1 - \\frac{\\alpha}{2}) = 2.6846$\n",
    "\n",
    "- **Вычислим $\\beta_0:$**\n",
    "\n",
    "  $\\psi_{\\beta_0} = \\begin{pmatrix}\n",
    "    1 \\\\\n",
    "    0 \\\\\n",
    "    0\n",
    "    \\end{pmatrix}  ^ {\\intercal} \\cdot  \\begin{pmatrix}\n",
    "    \\beta_0 \\\\\n",
    "    \\beta_1 \\\\\n",
    "    \\beta_2\n",
    "    \\end{pmatrix}$\n",
    "\n",
    "    $b_{\\psi_{\\beta_0}} =  \\begin{pmatrix}\n",
    "    1 & 0 & 0\n",
    "    \\end{pmatrix} (XX^{\\intercal})^{-1} \\begin{pmatrix}\n",
    "    1 \\\\ 0 \\\\ 0\n",
    "    \\end{pmatrix} = 0.12$\n",
    "\n",
    "    \n",
    "  \n",
    "- **Вычислим $\\beta_1:$**\n",
    "\n",
    "  $\\psi_{\\beta_1} = \\begin{pmatrix}\n",
    "    0 \\\\\n",
    "    1 \\\\\n",
    "    0\n",
    "    \\end{pmatrix}  ^ {\\intercal} \\cdot  \\begin{pmatrix}\n",
    "    \\beta_0 \\\\\n",
    "    \\beta_1 \\\\\n",
    "    \\beta_2\n",
    "    \\end{pmatrix}$\n",
    "  \n",
    "    $b_{\\psi_{\\beta_1}} =  \\begin{pmatrix}\n",
    "    0 & 1 & 0\n",
    "    \\end{pmatrix} (XX^{\\intercal})^{-1} \\begin{pmatrix}\n",
    "    0 \\\\ 1 \\\\ 0\n",
    "    \\end{pmatrix} = 0.059$\n",
    "\n",
    "- **Вычислим $\\beta_2:$**\n",
    "\n",
    "  $\\psi_{\\beta_2} = \\begin{pmatrix}\n",
    "    0 \\\\\n",
    "    0 \\\\\n",
    "    1\n",
    "    \\end{pmatrix}  ^ {\\intercal} \\cdot  \\begin{pmatrix}\n",
    "    \\beta_0 \\\\\n",
    "    \\beta_1 \\\\\n",
    "    \\beta_2\n",
    "    \\end{pmatrix}$\n",
    "  \n",
    "    $b_{\\psi_{\\beta_2}} =  \\begin{pmatrix}\n",
    "    0 & 0 & 1\n",
    "    \\end{pmatrix} (XX^{\\intercal})^{-1} \\begin{pmatrix}\n",
    "    0 \\\\ 0 \\\\ 1\n",
    "    \\end{pmatrix} = 0.0010$\n",
    "\n",
    "    \n",
    "$ \\cfrac{\\widehat \\psi - \\psi}{s\\sqrt{b_{\\psi_{\\beta_0}}}} \\sim S_{n-3} $\n",
    "\n",
    "$ \\cfrac{\\widehat \\psi - \\psi}{s\\sqrt{b_{\\psi_{\\beta_1}}}} \\sim S_{n-3} $\n",
    "\n",
    "$ \\cfrac{\\widehat \\psi - \\psi}{s\\sqrt{b_{\\psi_{\\beta_2}}}} \\sim S_{n-3} $\n",
    "\n",
    "\n"
   ]
  },
  {
   "cell_type": "code",
   "execution_count": 105,
   "metadata": {},
   "outputs": [
    {
     "name": "stdout",
     "output_type": "stream",
     "text": [
      "x_alpha: 2.6846\n",
      "[[0.12107849]] [[0.05899119]] [[0.00104957]]\n",
      "Интервал для b0 ( [[0.80558628]] [[6.16556399]] )\n",
      "Интервал для b1 ( [[-0.94895021]] [[2.79235444]] )\n",
      "Интервал для b2 ( [[-0.34745236]] [[0.15158836]] )\n"
     ]
    }
   ],
   "source": [
    "alpha = 0.01\n",
    "x_alpha = stats.t(n - 3).ppf(1 - alpha / 2)\n",
    "print(f'x_alpha: {round(x_alpha, 4)}')\n",
    "\n",
    "\n",
    "e0 = np.array([1, 0, 0])\n",
    "e0_1 = np.array([[1], [0], [0]])\n",
    "e1 = np.array([0, 1, 0])\n",
    "e1_1 = np.array([[0], [1], [0]])\n",
    "e2 = np.array([0, 0, 1])\n",
    "e2_1 = np.array([[0], [0], [1]])\n",
    "\n",
    "b1 = e0*XX_T_inv*e0_1\n",
    "b2 = e1*XX_T_inv*e1_1\n",
    "b3 = e2*XX_T_inv*e2_1\n",
    "print(b1,b2,b3)\n",
    "left = beta_0 - x_alpha * np.sqrt(var) * np.sqrt(b1)\n",
    "right = beta_0 + x_alpha * np.sqrt(var) * np.sqrt(b1)\n",
    "print(\"Интервал для b0 (\",left,right,\")\")\n",
    "\n",
    "left = beta_1 - x_alpha * np.sqrt(var) * np.sqrt(b2)\n",
    "right = beta_1 + x_alpha * np.sqrt(var) * np.sqrt(b2)\n",
    "print(\"Интервал для b1 (\",left,right,\")\")\n",
    "\n",
    "left = beta_2 - x_alpha * np.sqrt(var) * np.sqrt(b3)\n",
    "right = beta_2 + x_alpha * np.sqrt(var) * np.sqrt(b3)\n",
    "print(\"Интервал для b2 (\",left,right,\")\")\n",
    "\n"
   ]
  },
  {
   "cell_type": "markdown",
   "metadata": {},
   "source": [
    "$\\left[0.806, 6.17\\right] \\ni \\beta_0$\n",
    "\n",
    "$\\left[-0.95, 2.79\\right] \\ni \\beta_1$\n",
    "\n",
    "$\\left[-0.35, 0.151\\right] \\ni \\beta_2$"
   ]
  },
  {
   "cell_type": "markdown",
   "metadata": {},
   "source": [
    "**Построим доверительный эллипс для параметра $(\\beta_0, \\beta_1)$ уровня доверия 1 - $\\alpha$**\n",
    "\n",
    "$ A_\\alpha = \\{\\overrightarrow{x}: (\\overrightarrow{x} - \\widehat \\psi)^T B^{-1} (\\overrightarrow{x} - \\widehat \\psi) \\le qs^2x_\\alpha\\}$\n",
    "\n",
    "$ A_\\alpha = \\{\\overrightarrow{x}: (\\overrightarrow{x} - \\widehat \\psi)^T (C^T (XX^T)^{-1}C)^{-1}(\\overrightarrow{x} - \\widehat \\psi) \\le qs^2x_\\alpha\\}$, \n",
    "\n",
    "где $ x_\\alpha = F_{q, n-r}(x_\\alpha) = 1 - \\alpha$\n",
    "\n",
    "$C = \\begin{pmatrix}\n",
    "    1 & 0 & 0 \\\\\n",
    "    0 & 1 & 0 \\\\\n",
    "    0 & 0 & 1\n",
    "\\end{pmatrix} $\n",
    "\n",
    "Пусть $ \\begin{pmatrix}\n",
    "    x\\\\\n",
    "    y\n",
    "\\end{pmatrix}  = P(\\widehat \\psi - \\psi)$, где P - матрица собственных векторов.\n",
    "\n",
    "Тогда уравнение доверительного эллипсоида выглядит таким образом:\n",
    "\n",
    "$(\\widehat \\psi -  \\psi)^T (C^T (XX^T)^{-1}C)^{-1}(\\widehat \\psi -  \\psi) = \\lambda_1 x^2 + \\lambda_2 y^2 + \\lambda_2 z^2 \\le qs^2x_\\alpha$, где $\\lambda_1$, $\\lambda_2$ и $\\lambda_3$ - собственные числа матрицы $XX^T$\n",
    "\n",
    "$\\cfrac{\\lambda_1}{qs^2x_\\alpha}x^2 + \\cfrac{\\lambda_2}{qs^2x_\\alpha}y^2  + \\cfrac{\\lambda_2}{qs^2x_\\alpha}z^2\\le 1$\n",
    "\n",
    "**Уравнение Элипса:**\n",
    "\n",
    "$349.03x^2 + 0.058y^2 + 0.6192z^2 < 1$ "
   ]
  },
  {
   "cell_type": "code",
   "execution_count": 103,
   "metadata": {},
   "outputs": [
    {
     "name": "stdout",
     "output_type": "stream",
     "text": [
      "x_alpha: 4.218\n",
      "Большая полуось: 0.0437\n",
      "Малая полуось: 3.3908\n"
     ]
    }
   ],
   "source": [
    "XX_T = np.dot(X_matrix, X_matrix.T)\n",
    "eigenvalues, eigenvectors = np.linalg.eig(XX_T)\n",
    "beta = [beta_0, beta_1, beta_2]\n",
    "#print(f'\\nМатрица перехода: \\n {eigenvectors}\\n')\n",
    "#print(f'\\nСобственные числа: \\n {eigenvalues}\\n')\n",
    "\n",
    "x_alpha = stats.f(3, n - 2).ppf(1 - alpha)\n",
    "print(f'x_alpha: {round(x_alpha, 4)}')\n",
    "\n",
    "a = np.sqrt((2 * var * x_alpha) / eigenvalues[0])\n",
    "b =  np.sqrt((2 * var * x_alpha) / eigenvalues[1])\n",
    "\n",
    "print(f'Большая полуось: {round(a, 4)}')\n",
    "print(f'Малая полуось: {round(b, 4)}')\n",
    "\n",
    "#print(f'Beta: {beta}')\n",
    "\n",
    "factors = []\n",
    "denominator = 3 * var * x_alpha\n",
    "for lmbd in eigenvalues:\n",
    "    factors.append(lmbd / denominator)\n",
    "    \n",
    "#print(f'{round(factors[0] , 4)}x^2 + {round(factors[1] , 4)}y^2 + {round(factors[2] , 4)}z^2')"
   ]
  },
  {
   "cell_type": "markdown",
   "metadata": {},
   "source": [
    "### 8.Сформулировать гипотезу линейной регрессионной зависимости переменной Y от переменной X и проверить её значимость на уровне $\\alpha$."
   ]
  },
  {
   "cell_type": "markdown",
   "metadata": {},
   "source": [
    "Основная гипотеза: $H_0 : \\psi = 0$\n",
    "\n",
    "ДНО - функция: \n",
    "$\\psi = C^T \\beta $\n",
    "\n",
    "$ C = \\begin{pmatrix}\n",
    "    0 \\\\\n",
    "    0 \\\\\n",
    "    1\n",
    "\\end{pmatrix} \\Rightarrow$, $\\widehat \\psi = \\widehat \\beta_2 $"
   ]
  },
  {
   "cell_type": "code",
   "execution_count": 104,
   "metadata": {},
   "outputs": [
    {
     "name": "stdout",
     "output_type": "stream",
     "text": [
      "Статистика F =  [[1.11015104]]\n",
      "x_alpha =  7.2068388654187014\n",
      "p_value 0.297\n"
     ]
    }
   ],
   "source": [
    "c = np.array([0, 0, 1])\n",
    "b = np.dot(np.dot(c.T, XX_T_inv), c)\n",
    "\n",
    "q = 1\n",
    "r = 3\n",
    "F = beta_2 ** 2 / (b * q * var)\n",
    "print(\"Статистика F = \" , F)\n",
    "\n",
    "x_alpha = stats.f(q, 47).ppf(1 - alpha)\n",
    "print(\"x_alpha = \" , x_alpha)\n",
    "\n",
    "F = 1.11\n",
    "print(\"p_value\", round(1 - sps.f.cdf(F, 1, 47), 3))"
   ]
  },
  {
   "cell_type": "markdown",
   "metadata": {},
   "source": [
    "$\\mathbb{F} \\approx 1.11$\n",
    "\n",
    "$x_{\\alpha} \\approx 7.21$\n",
    "\n",
    "$\\mathbb{F} < x_{\\alpha_2} \\to$ Гипотезу принимаем"
   ]
  },
  {
   "cell_type": "markdown",
   "metadata": {},
   "source": [
    "## Выводы\n",
    "\n",
    "В ходе выполнения практической работы была разработана модель линейной регрессии для зависимости переменной Y от X, используя метод наименьших квадратов (МНК) для вычисления параметров модели. Также были вычислены несмещенные оценки дисперсии, проведена проверка гипотезы о нормальности ошибок с уровнем значимости $\\alpha$ по $\\chi^2$, и оценено расстояние до нормального распределения по Колмогорову. \n",
    "Сформированы навыки посторения МНК оценок, доверительных эллипсов и эллипсоидов, проверки гипотез о независимости и линейной регрессионной зависимости."
   ]
  }
 ],
 "metadata": {
  "kernelspec": {
   "display_name": "Python 3",
   "language": "python",
   "name": "python3"
  },
  "language_info": {
   "codemirror_mode": {
    "name": "ipython",
    "version": 3
   },
   "file_extension": ".py",
   "mimetype": "text/x-python",
   "name": "python",
   "nbconvert_exporter": "python",
   "pygments_lexer": "ipython3",
   "version": "3.10.7"
  }
 },
 "nbformat": 4,
 "nbformat_minor": 2
}
