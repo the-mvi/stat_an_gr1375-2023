{
 "cells": [
  {
   "cell_type": "markdown",
   "metadata": {},
   "source": [
    "# Практическая работа №2: Классические методы математической статистики\n",
    "Выполнил студент гр.1375 Кондрашин Дмитрий. Вариант 13\n"
   ]
  },
  {
   "cell_type": "markdown",
   "metadata": {},
   "source": [
    "## Цель работы\n",
    "Научится применять методы математической статистики для решения задач статистического анализа; сформировать навыки реализации методов с помощью прикладных программных пакетов."
   ]
  },
  {
   "cell_type": "markdown",
   "metadata": {},
   "source": [
    "## Основные теоретические положения\n",
    "\n",
    "**Выборочный аналог математического ожидания - выборочное среднее:**\n",
    "$$\\overline{X} =\\frac{1}{n}\\sum_{i=1}^{n}x_i$$\n",
    "\n",
    "**Выборочный аналог дисперсии и СКО - выборочную дисперсию и выборочное СКО:**\n",
    "$$S^2 =\\frac{1}{n}\\sum_{i=1}^{n}\\left(x_i-\\overline{X}\\right)$$\n",
    "\n",
    "$$S=\\sqrt{S^2}$$\n",
    "\n",
    "\n",
    "\n",
    "**Выборочный коэффициент асимметрии:**\n",
    "$$\\widehat{\\mathrm{Skew}}X=\\frac{1}{n}\\frac{\\sum \\limits_{i=1}^{n}\\left(x_i-\\overline{X}\\right)^3}{S^3}$$\n",
    "\n",
    "**Выборочный коэффициент эксцесса:**\n",
    "$$\\widehat{\\mathrm{Kurt}}X=\\frac{1}{n}\\frac{\\sum \\limits_{i=1}^{n}\\left(x_i-\\overline{X}\\right)^4}{S^4}-3$$\n",
    "\n",
    "**Метод максимального правдоподобия** - это метод оценивания неизвестного параметра путём максимизации функции правдоподобия\n",
    " $$L(\\overrightarrow{X},\\theta)=\\prod_{i=1}^{n}P_{\\theta}(X_{i})$$\n",
    "\n",
    "**Метод моментов** — метод оценки неизвестных параметров распределений, идея метода заключается в замене истинных соотношений выборочными аналогами.\n",
    "\n",
    "**Статистика критерия Колмагорова:**\n",
    "$$D_n = sup_{x \\in \\mathbb{R}}|F_n(x) - F_0(x)|$$\n",
    "\n",
    "\n",
    "**Наиболее мощный критерий:**\n",
    "\n",
    "$$ \\phi(x) =\\left\\{\n",
    "  \\begin{array}{l}\n",
    "    1, LR(x) > с \\\\\n",
    "    p, LR(x) = с \\\\\n",
    "    0, LR(x) < с \\\\\n",
    "  \\end{array}\\right.$$\n",
    "\n",
    "  **Теорема Колмогорова**\n",
    "\n",
    "$D_{n}(\\overrightarrow{X}) = \\overset{}{\\underset{X \\in \\mathbb R}{sup}} |F_{0}(X_{i}) - F_{n}(X_{i})|$\n",
    "\n",
    "Если гипотеза $H_{0}$ верна, и $F_{0}(X)$ - непрерывна на R, тогда $P(\\sqrt{n} D_{n}(\\overrightarrow{X}) < у) \\xrightarrow[n \\rightarrow \\infty]{} K(у)$\n",
    "\n",
    "где $K(у)=1-\\alpha$ - функция распределения Колмогорова.\n",
    "\n",
    "$D_{n} < у$ - гипотезу не отвергаем\n",
    "\n",
    " $D_{n} > y$ - гипотезу отвергаем\n",
    "\n",
    "  **Асимптотический доверительный интервал (АДИ)**\n",
    "\n",
    "**На базе Асимптотической нормальности оценки $\\widehat{\\theta}$**\n",
    "\n",
    "- Асимптотическая нормальность $\\sqrt{n}\\left( \\widehat{\\theta}(\\overrightarrow{X})-\\theta)\\right)\\sim \\mathcal{N}\\left(0,\\sigma^{2}(\\theta)\\right)$\n",
    "\n",
    "- Тогда $\\sqrt{n}\\frac{\\widehat{\\theta}(\\overrightarrow{X})-\\theta}{\\sigma\\left(\\widehat{\\theta}(\\overrightarrow{X})\\right)}$    \n",
    "\n",
    "- Выбираем $X_{\\alpha}: \\Phi(X_{\\alpha})=1-\\frac{\\alpha}{2}$\n",
    "\n",
    "- А.Д.И. $\\left[ \\widehat{\\theta}(\\overrightarrow{X})-\\frac{X_{\\alpha}\\cdot \\sigma\\left( \\widehat{\\theta}(\\overrightarrow{X}) \\right)}{\\sqrt{n}}; \\widehat{\\theta}(\\overrightarrow{X})+\\frac{X_{\\alpha}\\cdot \\sigma\\left( \\widehat{\\theta}(\\overrightarrow{X}) \\right)}{\\sqrt{n}}\\right]$\n",
    "\n",
    "**на базе ОМП**\n",
    "\n",
    "- Пусть $\\widehat{\\theta}(\\overrightarrow{X})$-ОМП\n",
    "\n",
    "- При выполнении опр.условий регулярности: $\\sqrt{n}\\left( \\widehat{\\theta}(\\overrightarrow{X})-\\theta)\\right)\\sim \\mathcal{N}\\left(0,\\frac{1}{I(\\theta)}\\right), I(\\theta)=-\\mathbb{E}\\left( \\frac{\\partial^{2} LL}{\\partial \\theta^{2}} \\right)$-информация Фишера\n",
    "\n",
    "- Тогда $\\sqrt{n\\cdot I\\left( \\widehat{\\theta}(\\overrightarrow{X}) \\right)}\\cdot \\left( \\widehat{\\theta}(\\overrightarrow{X})-\\theta \\right)\\sim \\mathcal{N}(0,1)$\n",
    "\n",
    "- Выбираем $X_{\\alpha}: \\Phi(X_{\\alpha})=1-\\frac{\\alpha}{2}$\n",
    "\n",
    "- А.Д.И $\\left[ \\widehat{\\theta}(\\overrightarrow{X})-\\frac{X_{\\alpha}}{\\sqrt{n\\cdot I\\left( \\widehat{\\theta}(\\overrightarrow{X}) \\right)}};\\widehat{\\theta}(\\overrightarrow{X})+\\frac{X_{\\alpha}}{\\sqrt{n\\cdot I\\left( \\widehat{\\theta}(\\overrightarrow{X}) \\right)}} \\right]$"
   ]
  },
  {
   "cell_type": "markdown",
   "metadata": {},
   "source": [
    "## Постановка задачи\n",
    "Для полученных в результате эксперимента наборов данных выполнить статистическую обработку. Полученные результаты содержательно проинтерпретировать."
   ]
  },
  {
   "cell_type": "markdown",
   "metadata": {},
   "source": [
    "## Выполнение работы"
   ]
  },
  {
   "cell_type": "markdown",
   "metadata": {},
   "source": [
    "### Задание-1"
   ]
  },
  {
   "cell_type": "code",
   "execution_count": 173,
   "metadata": {},
   "outputs": [],
   "source": [
    "import matplotlib.pyplot as plt\n",
    "import seaborn as sns\n",
    "import numpy as np\n",
    "from scipy import stats as sp\n",
    "from scipy.stats import expon, kstwobign,gamma\n",
    "import statistics as stat\n",
    "import math\n",
    "import collections\n",
    "import numpy as np\n",
    "import matplotlib.pyplot as plt\n",
    "from scipy import stats\n",
    "\n",
    "\n",
    "row = [7,6, 3, 12, 1, 1, 8, 0, 8, 5, 0, 0, 4, 7, 11, 1, 21, 20, 4, 2,0, 2, 3, 1, 0, 2, 5, 6, 0, 4, 0, 5, 1, 3, 5, 0, 5, 19, 4, 5, 13, 1, 0, 0,\n",
    "23, 17, 2, 3, 2, 5] #выборка"
   ]
  },
  {
   "cell_type": "markdown",
   "metadata": {},
   "source": [
    "#### a)Построить вариционный ряд, эмпирическую функцию распределения и гистограмму частот"
   ]
  },
  {
   "cell_type": "code",
   "execution_count": 174,
   "metadata": {},
   "outputs": [
    {
     "name": "stdout",
     "output_type": "stream",
     "text": [
      "[ 0  0  0  0  0  0  0  0  0  0  1  1  1  1  1  1  2  2  2  2  2  3  3  3\n",
      "  3  4  4  4  4  5  5  5  5  5  5  5  6  6  7  7  8  8 11 12 13 17 19 20\n",
      " 21 23]\n",
      "Среднее выборки =  5.14\n",
      "Сумма выборки =  257\n"
     ]
    }
   ],
   "source": [
    "sortedRow = np.sort(row)\n",
    "n = len(row)\n",
    "print(sortedRow)\n",
    "print(\"Среднее выборки = \",sum(row)/ len(row))\n",
    "print(\"Сумма выборки = \",sum(sortedRow))\n",
    "# Нанесение на график вариационного ряда\n"
   ]
  },
  {
   "cell_type": "markdown",
   "metadata": {},
   "source": [
    "Вариационный ряд:\n",
    " $\\vec{X}^\\prime = \\left(0,  0,  0,  0,  0,  0,  0,  0,  0,  0,  1,  1,  1,  1,  1,  1,  2,  2,  2,  2,  2,  3,  3, 3, 3,  4,  4,  4,  4,  5,  5,  5,  5,  5,  5,  5,  6,  6,  7,  7,  8,  8, 11, 12, 13, 17,19, 20, 21, 23 \\right)$"
   ]
  },
  {
   "cell_type": "code",
   "execution_count": 175,
   "metadata": {},
   "outputs": [
    {
     "data": {
      "image/png": "[encoded data removed]",
      "text/plain": [
       "<Figure size 640x480 with 1 Axes>"
      ]
     },
     "metadata": {},
     "output_type": "display_data"
    }
   ],
   "source": [
    "#n = len(row)\n",
    "sns.ecdfplot(row) #построение эмпирической функции распределения\n",
    "\n",
    "plt.title(\"Эмпирическая функция распределения\")\n",
    "plt.xlabel(\"x\")\n",
    "plt.ylabel(\"F(x)\")\n",
    "plt.show()"
   ]
  },
  {
   "cell_type": "code",
   "execution_count": 176,
   "metadata": {},
   "outputs": [
    {
     "data": {
      "image/png": "[encoded data removed]",
      "text/plain": [
       "<Figure size 640x480 with 1 Axes>"
      ]
     },
     "metadata": {},
     "output_type": "display_data"
    }
   ],
   "source": [
    "from matplotlib.ticker import PercentFormatter\n",
    "unique_values, counts = zip(*[(value, row.count(value)) for value in sorted(set(row))])\n",
    "unique_values = sorted(set(row + [max(unique_values) + 1]))\n",
    "plt.hist(row, bins=unique_values, edgecolor='black', align='left', rwidth=1, color=\"g\",  weights=[1/len(row)]*len(row))\n",
    "plt.title('Гистограмма частот')\n",
    "plt.xlabel('Значения')\n",
    "plt.ylabel('Относительная частота,%')\n",
    "plt.gca().yaxis.set_major_formatter(PercentFormatter(1))\n",
    "plt.xticks(unique_values)\n",
    "plt.show()"
   ]
  },
  {
   "cell_type": "markdown",
   "metadata": {},
   "source": [
    "Получаем следующие выборочные аналоги:\n",
    "\n",
    "Мат. ожидание : $\\overline{X} =\\frac{1}{n}\\sum_{i=1}^{n}x_i= 5.14$\n",
    "\n",
    "Дисперсия: $S^2 =\\frac{1}{n}\\sum_{i=1}^{n}\\left(x_i-\\overline{X}\\right)=34.64$\n",
    "\n",
    "СКО: $S=\\sqrt{S^2}=5.89$\n",
    "\n",
    "Медиана:$ = n\\cdot\\frac{1}{2} = 50\\cdot\\frac{1}{2}=25\\in \\mathbb{Z} \\Rightarrow z_{50,\\frac{1}{2}} =  \\left[ X_{(25)},X_{(26)} \\right) = \\left[0,1\\right) \\Rightarrow z_{50,\\frac{1}{2}} = 3.5$\n",
    "\n",
    "Коэффициент асимметрии:$\\widehat{\\mathrm{Skew}}X=\\frac{1}{n}\\frac{\\sum \\limits_{i=1}^{n}\\left(x_i-\\overline{X}\\right)^3}{S^3} = 1.607$\n",
    "\n",
    "Коэффициент эксцесса: $\\widehat{\\mathrm{Kurt}}X=\\frac{1}{n}\\frac{\\sum \\limits_{i=1}^{n}\\left(x_i-\\overline{X}\\right)^4}{S^4}-3 =  1.7861$\n",
    "\n",
    "Вероятность попадания в промежуток: $P(0≤X≤9.38) = \\frac{42}{50} = 0.84 $\n",
    "\n",
    "​\n",
    " \n",
    "\n",
    "\n"
   ]
  },
  {
   "cell_type": "code",
   "execution_count": 177,
   "metadata": {},
   "outputs": [
    {
     "name": "stdout",
     "output_type": "stream",
     "text": [
      "Мат.ожидание= 5.14\n",
      "Дисперсия= 34.64039999999999\n",
      "Выборочное стандартное отклонение= 5.885609569110067\n",
      "Медиана= 3.5\n",
      "Асимметрия= 1.607359708702955\n",
      "Эксцесс= 1.7861279774877694\n",
      "Вероятность попадания в промежуток= 0.84\n"
     ]
    }
   ],
   "source": [
    "a = 0.00\n",
    "b = 9.38\n",
    "mean = np.mean(row)  # Выборочное математическое ожидание\n",
    "variance = np.var(row)  # Дисперсия\n",
    "deviation=np.std(row) #СКО\n",
    "median = np.median(row)  # Медиана\n",
    "skewness = stats.skew(row)  # Асимметрия\n",
    "kurtosis = stats.kurtosis(row)  # Эксцесс\n",
    "probability = len([x for x in row if a <= x <= b]) / len(row)  # Вероятность\n",
    "print(\"Мат.ожидание=\",mean)\n",
    "print(\"Дисперсия=\",variance)\n",
    "print(\"Выборочное стандартное отклонение=\",deviation)\n",
    "print(\"Медиана=\",median)\n",
    "print(\"Асимметрия=\",skewness)\n",
    "print(\"Эксцесс=\",kurtosis)\n",
    "print(\"Вероятность попадания в промежуток=\",probability)"
   ]
  },
  {
   "cell_type": "markdown",
   "metadata": {},
   "source": [
    "#### c)В предположении, что исходные наблюдения являются выборкой из распределения Пуассона, построить оценку максимального правдободобия и оценку по методу моментов параметра $\\lambda$.Найти смещение оценки.\n",
    "\n",
    "Построим ОМП.\n",
    "\n",
    "Плотность распределения Пуассона: $P_{\\lambda}(X=k)=\\frac{\\lambda^{k}}{k!}\\cdot exp(-\\lambda)$\n",
    "\n",
    " Функция правдоподобия:\n",
    "\n",
    "$L(\\overrightarrow{X};\\theta)=\\prod_{i=1}^{n}P_{\\lambda}(X_{i})=\\prod_{i=1}^{n}\\frac{\\lambda^{X_{i}}}{X_{i}!}\\cdot exp(-\\lambda)=\\frac{\\lambda^{\\sum_{i=1}^{n}X_{i}}}{\\prod_{i=1}^{n}(X_{i}!)}\\cdot exp(-n\\cdot \\lambda)$\n",
    "\n",
    "Прологарифмируем функцию правдоподобия(в силу монотоности логарифма задача максимизации функции правдободобия сводится к задаче максимизации её логарифма по всем $\\theta \\in \\Theta$):\n",
    "\n",
    "$LL(\\overrightarrow{X};\\theta)= \\sum_{i=1}^{n}X_{i}\\cdot \\ln(\\lambda)-\\ln(\\prod_{i=1}^{n}X_{i}!)-n\\cdot \\lambda$\n",
    "\n",
    "Найдем частную производную по параметру $\\lambda$ и приравняем производную к нулю:\n",
    "\n",
    "$\\frac{\\partial LL(\\overrightarrow{X};\\theta)}{\\partial \\lambda} = \\frac{\\sum_{i=1}^{n}X_{i}}{\\lambda}-n=0\\to \\frac{\\sum_{i=1}^{n}X_{i}}{\\lambda}=n\\to \\lambda=\\frac{1}{n}\\cdot \\sum_{i=1}^{n}X_{i}\\to \\widehat{\\theta}=\\widehat{\\lambda}=\\overline{X}$.\n",
    "\n",
    "Выборка нам известна, и мы можем посчитать, чему равен параметр:$\\widehat{\\lambda}=\\overline{X}=5.14$\n",
    "\n",
    "Тогда мы получим $\\widehat{\\theta}=\\widetilde{\\lambda}=\\overline{X}=5.14$ - ОМП\n",
    "\n",
    "Построим по ОММ.\n",
    "Для закона Пуассона $P_{\\lambda}(X=k)=\\frac{\\lambda^{k}}{k!}\\cdot exp(-\\lambda)$\n",
    "\n",
    "нам известно, что первый момент $\\mathbb{E}X_{1}=\\lambda;M_{1}=\\overline{X}$\n",
    "равен нашему параметру, и поскольку у нас 1-но мерный параметр, то у нас будет система из одного уравнения.\n",
    "\n",
    "\n",
    "\n",
    "Для нахождения НРМД-оценки нам понадобится найти мат. ожидание от ОМП.\n",
    "\n",
    "$g\\left(T(\\overrightarrow{X})\\right)=\\lambda^{\\sum_{i=1}^{n}X_{i}}\\cdot exp(-n\\cdot \\lambda)$\n",
    "\n",
    "$h(\\overrightarrow{X})=\\frac{1}{\\prod_{i=1}^{n}X_{i}!}$\n",
    "\n",
    " $T=\\sum_{i=1}^{n}X_{i}=257$ - МДС\n",
    "\n",
    "Распределение Пуассона принадлежит экспоненциальному семейству распределения, следовательно, МДС будет являться ПДС.\n",
    "\n",
    "$\\mathbb{E}{\\widehat{\\theta}} = \\mathbb{E}\\overline{X}=\\mathbb{E}\\frac{1}{n}\\cdot \\sum_{i=1}^{n}x_{i}=\\frac{1}{n}\\cdot \\mathbb{E}\\sum_{i=1}^{n}x_{i}=\\frac{1}{n}\\cdot \\sum_{i=1}^{n}\\mathbb{E}X_{1}=\\frac{1}{n}\\cdot n\\cdot \\mathbb{E}X_{1}=\\lambda=5.14$\n",
    "\n",
    "$\\mathbb{\\widetilde{\\theta}} = 5.14$-НРМД-оценка"
   ]
  },
  {
   "cell_type": "markdown",
   "metadata": {},
   "source": [
    "\n",
    "\n",
    "#### d) Построение асимптотического доверительного интервала уровня значимости $\\alpha_1$ для параметра $\\lambda$ на основе функции максимального правдоподобия.\n",
    "\n",
    "$\\alpha_1 = 0.2$\n",
    "\n",
    "1. **Построение на основе оценки максимального правдоподобия (ОМП):**\n",
    "\n",
    "    $\\sqrt{n}\\left( \\widehat{\\theta}(\\overrightarrow{X})-\\theta \\right)\\sim N\\left( 0, \\frac{1}{I(\\theta)} \\right)$\n",
    "   \n",
    "\n",
    "    Используем оценку максимального правдоподобия (ОМП) для параметра $\\lambda$, обозначенную как $\\widehat{\\lambda}$, которая равна среднему значению выборки $\\overline{X} = 5.14$. Тогда асимптотический доверительный интервал строится вокруг этой точечной оценки.\n",
    "\n",
    "    Информация Фишера для нашего параметра $\\lambda$ вычисляется как $I(\\theta)=-\\mathbb{E}\\left( \\frac{\\partial^{2} LL}{\\partial \\lambda^{2}} \\right)=-\\mathbb{E}\\left( -\\frac{\\sum_{i=1}^{n}X_{i}}{\\lambda^{2}} \\right)=\\frac{n}{\\lambda^{2}}$.\n",
    "\n",
    "    Тогда $\\sqrt{n\\cdot I\\left(  \\widehat{\\theta}(\\overrightarrow{X})\\right)}\\left( \\widehat{\\theta}(\\overrightarrow{X})-\\theta \\right)\\sim N(0,1)$\n",
    "\n",
    "    Выбор $X_{\\alpha}$: $\\mathrm{Ф}(X_{\\alpha})=1-\\frac{\\alpha_{1}}{2}=1-\\frac{0.2}{2}=0.9 \\to X_{0.9}=1.28$\n",
    "\n",
    "    *Асимптотический доверительный интервал:*\n",
    "\n",
    "    $\\left[\\overline{X} - \\sqrt{\\frac{\\overline{X}}{n}} \\cdot x_{\\alpha} , \\overline{X} + \\sqrt{\\frac{\\overline{X}}{n}} \\cdot x_{\\alpha}\\right] \\ni \\lambda$\n",
    "\n",
    "    Таким образом, АДИ уровня значимости $\\alpha_1$ для параметра $\\lambda$:\n",
    "    $\\left[4.73, 5.55\\right] \\ni \\lambda$\n",
    "\n",
    "2. **Построение на основе асимптотической нормальной оценки $\\widehat{\\theta}$:**\n",
    "\n",
    "    Теперь рассмотрим альтернативный метод построения доверительного интервала. Мы можем использовать асимптотическую нормальную оценку для $\\widehat{\\theta}$, которая дает нам более общий вид доверительного интервала.\n",
    "\n",
    "    $\\sqrt{n}\\left( \\widehat{\\theta}(\\overrightarrow{X})-\\theta \\right)\\sim N(0,\\sigma^{2}(\\theta))$\n",
    "\n",
    "    $\\sqrt{n}\\frac{ \\widehat{\\theta}(\\overrightarrow{X})-\\theta}{\\sigma(\\widehat{\\theta})}\\sim N(0,1)$\n",
    "\n",
    "    $X_{\\alpha}: \\mathrm{Ф(X_{\\alpha})}=0.90\\to X_{0.90}=1.28$\n",
    "\n",
    "    $-X_{0.90}\\le \\sqrt{n}\\cdot \\frac{\\widehat{\\lambda}-\\lambda}{\\sqrt{\\widehat{\\lambda}}}\\le X_{0.90}$\n",
    "\n",
    "    $5.14-\\frac{1.28\\cdot 5.14}{\\sqrt{50}}\\le \\lambda\\le 5.14+\\frac{1.28\\cdot 5.14}{\\sqrt{50}}$\n",
    "\n",
    "    $ \\lambda \\in \\left[4.73,5.55\\right]$ - Асимптотический доверительный интервал на основе ОМП с доверительной точностью 0.9"
   ]
  },
  {
   "cell_type": "code",
   "execution_count": 178,
   "metadata": {},
   "outputs": [
    {
     "name": "stdout",
     "output_type": "stream",
     "text": [
      "1.2815515655446004\n",
      "Асимптотический доверительный интервал на базе ОМП:λ от  4.73  до  5.55 с доверительной точностью 0.9\n"
     ]
    }
   ],
   "source": [
    "from math import sqrt\n",
    "\n",
    "n = len(row)\n",
    "xAlpha = stats.norm.ppf(0.9)\n",
    "\n",
    "Ex = 5.14\n",
    "lambda_min = Ex - xAlpha/sqrt(n/Ex)\n",
    "lambda_max = Ex + xAlpha/sqrt(n/Ex)\n",
    "print(xAlpha)\n",
    "print(\"Асимптотический доверительный интервал на базе ОМП:λ от \",round(lambda_min,2), \" до \", round(lambda_max,2),\"с доверительной точностью\", 0.9 )"
   ]
  },
  {
   "cell_type": "markdown",
   "metadata": {},
   "source": [
    "### е) Используя гистограмму частот, построить критерий значимости $\\chi^2$ проверки простой гипотезы согласия с распределением Пуассона с параметром $\\lambda_0 = 4$. Проверить гипотезу на уровне значимости $\\alpha_1 = 0.2$. Вычислить наибольшее значение уровня значимости, на котором ещё нет оснований отвергнуть данную гипотезу.\n"
   ]
  },
  {
   "cell_type": "markdown",
   "metadata": {},
   "source": [
    "\n",
    "$\\lambda_0 = 4 \\:\\alpha_1=0.2$  \n",
    "$P_{i}=P_{H_{0}}=(X\\in I_{i})=\\sum_{k\\in I_{i}}^{}\\frac{\\lambda_{0}^{k}}{k!}exp(-\\lambda_{0})$\n",
    "\n",
    "\n",
    "**Объединяем малочисленные частоты у которых n<5:**\n",
    "\n",
    "1. Определение категорий и частот:\n",
    "   \n",
    "   $   I_1 = \\left(-\\infty,0 \\right], \\quad n_1 = 10 $\n",
    "\n",
    "   $   I_2 = \\left(0,1 \\right], \\quad n_2 = 6 $\n",
    "\n",
    "   $   I_3 = \\left(1,2 \\right], \\quad n_3 = 5 $\n",
    "\n",
    "   $   I_4 = \\left(2,4 \\right], \\quad n_4 = 8 $\n",
    "\n",
    "   $   I_5 = \\left(4,5 \\right], \\quad n_5 = 7 $\n",
    "\n",
    "   $   I_6 = \\left(5,8 \\right], \\quad n_6 = 6 $\n",
    "\n",
    "   $   I_7 = \\left(8,23 \\right], \\quad n_7 = 8 $\n",
    "   \n",
    "\n",
    "2. Вычисление теоретических вероятностей $\\mathbb{P}_i$:\n",
    "\n",
    "   $\\mathbb{P}_{1} =  \\frac{4^{0}}{0!}exp(-4) = 0.018$\n",
    "\n",
    "      $\\mathbb{P}_{2} = \\sum \\limits_{k=0}^1 \\large \\frac{4^{k}}{k!}exp(-4)- \\frac{4^0}{0!}e^{-4} = 0.07 $\n",
    "\n",
    "      $\\mathbb{P}_{3} = \\sum \\limits_{k=0}^2 \\large \\frac{4^{k}}{k!}exp(-4)  - \\sum \\limits_{k=0}^1 \\large \\frac{4^{k}}{k!}exp(-4) = 0.14$\n",
    "\n",
    "      $\\mathbb{P}_{4} = \\sum \\limits_{k=0}^4 \\large \\frac{4^{k}}{k!}exp(-4)  - \\sum \\limits_{k=0}^2 \\large \\frac{4^{k}}{k!}exp(-4) = 0.391 $\n",
    "\n",
    "      $\\mathbb{P}_{5} = \\sum \\limits_{k=0}^5 \\large \\frac{4^{k}}{k!}exp(-4)  - \\sum \\limits_{k=0}^4 \\large \\frac{4^{k}}{k!}exp(-4) = 0.16$\n",
    "\n",
    "      $\\mathbb{P}_{6} = \\sum \\limits_{k=0}^8 \\large \\frac{4^{k}}{k!}exp(-4)  - \\sum \\limits_{k=0}^5 \\large \\frac{4^{k}}{k!}exp(-4) = 0.194 $\n",
    "      \n",
    "      $\\mathbb{P}_{7} = \\sum \\limits_{k=0}^{23} \\large \\frac{4^{k}}{k!}exp(-4)  - \\sum \\limits_{k=0}^8 \\large \\frac{4^{k}}{k!}exp(-4) = 0.0214$\n",
    "\n",
    "\n",
    "\n",
    "\n",
    "3. Вычисление статистики критерия $\\chi^2$:\n",
    "\n",
    "   $\\chi^2 = \\sum \\limits_{i=1}^7 \\large \\frac{\\left(n_i - n\\mathbb{P}_i\\right)^2}{n\\mathbb{P}_i}  \\normalsize = 145.61$\n",
    "\n",
    "4. Сравнение с критическим значением:\n",
    "   - Из таблицы для распределения $\\chi^2$ с 6 степенями свободы при уровне значимости $\\alpha = 0.2$ значение критерия составляет $\\chi_{7, 0.2}^2 \\approx 8.55$.\n",
    "   - Так как $\\chi^2 > \\chi_{7, 0.2}^2$, мы отвергаем гипотезу о согласии распределений.\n",
    "\n",
    "5. Оценка уровня значимости:\n",
    "   - Наибольшее значение уровня значимости, при котором ещё нет оснований отвергнуть данную гипотезу, равняется 0.199, исходя из таблицы значений $\\chi^2$.\n",
    "\n"
   ]
  },
  {
   "cell_type": "code",
   "execution_count": 179,
   "metadata": {},
   "outputs": [
    {
     "name": "stdout",
     "output_type": "stream",
     "text": [
      "теоретические вероятности: [0.0183, 0.0733, 0.1465, 0.3907, 0.1563, 0.1935, 0.0214]\n",
      "xsi^2 145.60539999999997\n",
      "0\n",
      "x_alpha_1 равен: 8.558059720250668\n",
      "p-value =  0.1331858753042796\n"
     ]
    }
   ],
   "source": [
    "lam0=4\n",
    "I = [(-math.inf,0), (0,1),(1,2),(2,4),(4,5),(5,8),(8,23)]\n",
    "\n",
    "n_i = [10,6, 5, 8,7,6,8] ;p_i = [] ;np_i = [] ; n_i_np_i = [] ; res = []\n",
    "for i in I:\n",
    " p_i.append(round(sp.poisson.cdf(i[1], lam0) - sp.poisson.cdf(i[0], lam0), 4))\n",
    "print(\"теоретические вероятности:\" ,p_i)\n",
    "for i in range (len(I)):\n",
    " np_i.append(round(n*p_i[i], 4))\n",
    "#print(np_i)\n",
    "for i in range(len(n_i)):\n",
    " n_i_np_i.append(round(n_i[i] - np_i[i], 4))\n",
    "for i in range(len(n_i)):\n",
    " res.append(round((n_i_np_i[i] ** 2) / np_i[i] , 4))\n",
    "print(\"xsi^2\", sum(res))\n",
    "print(round(1 - sp.chi2.cdf(sum(res), 7)))\n",
    "print(\"x_alpha_1 равен:\", stats.chi2.ppf(1 - 0.2, df=6))\n",
    "print('p-value = ', 1 - stats.chi2.cdf(stats.chi2.ppf(1 - 0.2, df=8-1), 6))"
   ]
  },
  {
   "cell_type": "markdown",
   "metadata": {},
   "source": [
    "#### f)Построить критерий значимости  $\\mathcal{X^{2}}$ проверки сложной гипотезы согласия с распределением Пуассона. Проверить гипотезу по уровню значимости $\\alpha_{1}$.Вычислить наибольшее значение уровня значимости, на котором ещё нет оснований отвергнуть данную гипотезу.\n",
    "\n",
    "$\\widehat{\\theta}=\\overline{X}=5.14  \\quad \\alpha_1=0.2$ \n",
    "\n",
    "$P_{i}=P_{H_{0}}=(X\\in I_{i})=\\sum_{k\\in I_{i}}^{}\\frac{\\overline{X}^{k}}{k!}exp(-\\overline{X})$\n",
    "\n",
    "**Объединяем малочисленные частоты у которых n<5:**\n",
    "\n",
    "1. Определение категорий и частот:\n",
    "   \n",
    "   $   I_1 = \\left(-\\infty,0 \\right], \\quad n_1 = 10 $\n",
    "\n",
    "   $   I_2 = \\left(0,1 \\right], \\quad n_2 = 6 $\n",
    "\n",
    "   $   I_3 = \\left(1,2 \\right], \\quad n_3 = 5 $\n",
    "\n",
    "   $   I_4 = \\left(2,4 \\right], \\quad n_4 = 8 $\n",
    "\n",
    "   $   I_5 = \\left(4,5 \\right], \\quad n_5 = 7 $\n",
    "\n",
    "   $   I_6 = \\left(5,8 \\right], \\quad n_6 = 6 $\n",
    "\n",
    "   $   I_7 = \\left(8,23 \\right], \\quad n_7 = 8 $\n",
    "   \n",
    "\n",
    "2. Вычисление теоретических вероятностей $\\mathbb{P}_i$:\n",
    "\n",
    "   $\\mathbb{P}_{1} =  \\frac{5.14^{0}}{0!}exp(-5.14) = 0.006$\n",
    "\n",
    "      $\\mathbb{P}_{2} = \\sum \\limits_{k=0}^1 \\large \\frac{5.14^{k}}{k!}exp(-5.14)- \\frac{5.14^0}{0!}e^{-5.14} = 0.03 $\n",
    "\n",
    "      $\\mathbb{P}_{3} = \\sum \\limits_{k=0}^2 \\large \\frac{5.14^{k}}{k!}exp(-5.14)  - \\sum \\limits_{k=0}^1 \\large \\frac{5.14^{k}}{k!}exp(-5.14) = 0.08$\n",
    "\n",
    "      $\\mathbb{P}_{4} = \\sum \\limits_{k=0}^4 \\large \\frac{5.14^{k}}{k!}exp(-5.14)  - \\sum \\limits_{k=0}^2 \\large \\frac{5.14^{k}}{k!}exp(-5.14) = 0.303 $\n",
    "\n",
    "      $\\mathbb{P}_{5} = \\sum \\limits_{k=0}^5 \\large \\frac{5.14^{k}}{k!}exp(-5.14)  - \\sum \\limits_{k=0}^4 \\large \\frac{5.14^{k}}{k!}exp(-5.14) = 0.18$\n",
    "\n",
    "      $\\mathbb{P}_{6} = \\sum \\limits_{k=0}^8 \\large \\frac{5.14^{k}}{k!}exp(-5.14)  - \\sum \\limits_{k=0}^5 \\large \\frac{5.14^{k}}{k!}exp(-5.14) = 0.331 $\n",
    "      \n",
    "      $\\mathbb{P}_{7} = \\sum \\limits_{k=0}^{23} \\large \\frac{5.14^{k}}{k!}exp(-5.14)  - \\sum \\limits_{k=0}^8 \\large \\frac{5.14^{k}}{k!}exp(-5.14) = 0.08$\n",
    "\n",
    "\n",
    "\n",
    "\n",
    "3. Вычисление статистики критерия $\\chi^2$:\n",
    "\n",
    "   $\\chi^2 = \\sum \\limits_{i=1}^3 \\large \\frac{\\left(n_i - n\\mathbb{P}_i\\right)^2}{n\\mathbb{P}_i}  \\normalsize = 291.21$\n",
    "\n",
    "4. Сравнение с критическим значением:\n",
    "   - Из таблицы для распределения $\\chi^2$ с 6 степенями свободы при уровне значимости $\\alpha = 0.2$ значение критерия составляет $\\chi_{7, 0.2}^2 \\approx 8.55$.\n",
    "   - Так как $\\chi^2 > \\chi_{7, 0.2}^2$, мы отвергаем гипотезу о согласии распределений.\n",
    "\n",
    "5. Оценка уровня значимости:\n",
    "   - Наибольшее значение уровня значимости, при котором ещё нет оснований отвергнуть данную гипотезу, равняется 0.199, исходя из таблицы значений $\\chi^2$.\n",
    "\n",
    "\n",
    "\n"
   ]
  },
  {
   "cell_type": "code",
   "execution_count": 180,
   "metadata": {},
   "outputs": [
    {
     "name": "stdout",
     "output_type": "stream",
     "text": [
      "теоретические вероятности: [0.0059, 0.0301, 0.0774, 0.3029, 0.1751, 0.331, 0.0776]\n",
      "0.0\n",
      "xsi^2 291.2108\n",
      "x_alpha_1 равен: 8.558059720250668\n",
      "p-value =  0.1331858753042796\n"
     ]
    }
   ],
   "source": [
    "p_i =[]\n",
    "for i in I:\n",
    " p_i.append(round(sp.poisson.cdf(i[1], Ex) - sp.poisson.cdf(i[0], Ex), 4))\n",
    "print(\"теоретические вероятности:\" ,p_i)\n",
    "for i in range (len(I)):\n",
    " np_i.append(round(n*p_i[i], 4))\n",
    "#print(np_i)\n",
    "for i in range(len(n_i)):\n",
    " n_i_np_i.append(round(n_i[i] - np_i[i], 4))\n",
    "for i in range(len(n_i)):\n",
    " res.append(round((n_i_np_i[i] ** 2) / np_i[i] , 4))\n",
    "print(1 - sp.chi2.cdf(sum(res), 6))\n",
    "print(\"xsi^2\", sum(res))\n",
    "print(\"x_alpha_1 равен:\", stats.chi2.ppf(1 - 0.2, df=6))\n",
    "print('p-value = ', 1 - stats.chi2.cdf(stats.chi2.ppf(1 - 0.2, df=8-1),6 ))\n",
    "   "
   ]
  },
  {
   "cell_type": "markdown",
   "metadata": {},
   "source": [
    "### 1.g Построить наиболее мощный критерий проверки простой гипотезы пуассоновости с параметром $\\lambda = \\lambda_0 = 4$ при альтернативе пуассоновости с параметром $\\lambda = \\lambda_1 = 6$. Проверить гипотезу на уровне значимости $\\alpha_1 = 0.2$. Что получится, если поменять местами основную и альтернативную гипотезы?\n",
    "\n",
    "\n",
    "\n",
    "$ H_{0}:\\lambda = \\lambda_{0}$\n",
    "\n",
    "$ H_{1}:\\lambda = \\lambda_{1}$\n",
    "\n",
    "\n",
    "Cтатистическое отношение правдоподобия:\n",
    "\n",
    "$LR(\\overrightarrow{X},\\lambda_{1},\\lambda_{0}) = \\frac{L\\left( \\overrightarrow{X},\\lambda_{1} \\right)}{L\\left( \\overrightarrow{X},\\lambda_{0} \\right)}= \\frac{\\lambda_{1}^{\\sum_{i=1}^{50}X_{i}}\\cdot exp(-n\\cdot \\lambda_{1})}{\\lambda_{0}^{\\sum_{i=1}^{50}X_{i}}\\cdot exp(-n\\cdot \\lambda_{0})} = \\left(\\frac{\\lambda_{1}}{\\lambda_{0}}\\right)^{\\sum_{i=1}^{50}X_{i}} \\cdot exp(-n\\cdot \\lambda_{1} + n\\cdot \\lambda_{0} )$\n",
    "\n",
    "Критерий для принятия альтернативной гипотезы:\n",
    "\n",
    "$LR(\\overrightarrow{X},\\lambda_{0},\\lambda_{1}) > c\\Leftrightarrow \\overline{X}> c$\n",
    "\n",
    "Нормализованная статистика:\n",
    "\n",
    "$\\sqrt{n}\\frac{\\overline{X}-\\lambda_{0}}{\\sqrt{\\overline{X}}}\\sim N(0,1)$\n",
    "\n",
    "Уровень значимости:\n",
    "\n",
    "$\\alpha = 0.2$\n",
    "\n",
    "$P\\left(\\sqrt{n}\\frac{\\overline{X}-\\lambda_{0}}{\\sqrt{\\overline{X}}} \\right)\\gt \\sqrt{n}\\frac{\\overline{X}-\\lambda_{0}}{\\sqrt{\\overline{X}}}=1-\\Phi\\left(\\sqrt{n}\\frac{\\overline{X}-\\lambda_{0}}{\\sqrt{\\overline{X}}} \\right)=\\alpha_{1}$\n",
    "\n",
    "$\\Phi\\left(\\sqrt{n}\\frac{\\overline{X}-\\lambda_{0}}{\\sqrt{\\overline{X}}} \\right)=1-\\alpha_{1}=0.8$\n",
    "\n",
    "$\\sqrt{n}\\frac{\\overline{X}-\\lambda_{0}}{\\sqrt{\\overline{X}}}\\gt \\sqrt{n}\\frac{c-\\lambda_{0}}{\\sqrt{\\overline{X}}} = 0.84$\n",
    "\n",
    "$c=\\frac{0.84 \\cdot \\sqrt{\\overline{X}}}{ \\sqrt{n}} + \\lambda_{0}  = 4 + \\frac{0.84 \\cdot \\sqrt{5.14}}{ \\sqrt{50}} = 4.27$\n",
    "\n",
    "$ \\overline{X} > c \\to $  Принимаем гипотезу\n",
    "\n",
    "**Поменяем местами основную и альтернативную гипотезу:**\n",
    "\n",
    "$H_{0}=\\lambda_{1}$\n",
    "\n",
    "$H_{1}=\\lambda_{0}$\n",
    "\n",
    "Cтатистическое отношение правдоподобия:\n",
    "\n",
    "$LR(\\overrightarrow{X},\\lambda_{0},\\lambda_{1}) = \\frac{L\\left( \\overrightarrow{X},\\lambda_{0} \\right)}{L\\left( \\overrightarrow{X},\\lambda_{1} \\right)}= \\frac{\\lambda_{0}^{\\sum_{i=1}^{50}X_{i}}\\cdot exp(-n\\cdot \\lambda_{0})}{\\lambda_{1}^{\\sum_{i=1}^{50}X_{i}}\\cdot exp(-n\\cdot \\lambda_{1})} = \\left(\\frac{\\lambda_{0}}{\\lambda_{1}}\\right)^{\\sum_{i=1}^{50}X_{i}} \\cdot e^{-n\\cdot \\lambda_{0} + n\\cdot \\lambda_{1} }$\n",
    "\n",
    "Критерий для принятия альтернативной гипотезы:\n",
    "\n",
    "$LR(\\overrightarrow{X},\\lambda_{1},\\lambda_{0})\\gt c\\Leftrightarrow \\overline{X}\\gt c$\n",
    "\n",
    "Нормализованная статистика:\n",
    "\n",
    "$\\sqrt{n}\\frac{\\overline{X}-\\lambda_{1}}{\\sqrt{\\overline{X}}}\\sim N(0,1)$\n",
    "\n",
    "$P\\left(\\sqrt{n}\\frac{\\overline{X}-\\lambda_{1}}{\\sqrt{\\overline{X}}} \\right)\\gt \\sqrt{n}\\frac{\\overline{X}-\\lambda_{1}}{\\sqrt{\\overline{X}}}=1-\\Phi\\left(\\sqrt{n}\\frac{\\overline{X}-\\lambda_{1}}{\\sqrt{\\overline{X}}} \\right)=\\alpha_{1}$\n",
    "\n",
    "Уровень значимости:\n",
    "\n",
    "$\\alpha = 0.2$\n",
    "\n",
    "$\\Phi\\left(\\sqrt{n}\\frac{\\overline{X}-\\lambda_{1}}{\\sqrt{\\overline{X}}} \\right)=1-\\alpha_{1}=0.8$\n",
    "\n",
    "$\\sqrt{n}\\frac{\\overline{X}-\\lambda_{1}}{\\sqrt{\\overline{X}}}\\gt \\sqrt{n}\\frac{c-\\lambda_{1}}{\\sqrt{\\overline{X}}} = 0.84$\n",
    "\n",
    "$c=\\frac{0.84 \\cdot \\sqrt{\\overline{X}}}{ \\sqrt{n}} + \\lambda_{1}  = 6 + \\frac{0.84 \\cdot \\sqrt{5.14}}{ \\sqrt{50}} = 6.27$\n",
    "\n",
    "$ c > \\overline{X} \\to $  Отвергаем гипотезу\n"
   ]
  },
  {
   "cell_type": "code",
   "execution_count": 181,
   "metadata": {},
   "outputs": [
    {
     "name": "stdout",
     "output_type": "stream",
     "text": [
      "0.8416212335729143\n",
      "основная гипотеза = λ0 = 4: 4.2693244883036074\n",
      "основная гипотеза = λ1 = 6: 6.2693244883036074\n"
     ]
    }
   ],
   "source": [
    "xAlpha = stats.norm.ppf(0.8)\n",
    "print(xAlpha)\n",
    "\n",
    "c1 = 4 +((0.84*sqrt(5.14))/sqrt(50))\n",
    "c2 = 6 +((0.84*sqrt(5.14))/sqrt(50))\n",
    "\n",
    "print(\"основная гипотеза = λ0 = 4:\",c1)\n",
    "print(\"основная гипотеза = λ1 = 6:\",c2)"
   ]
  },
  {
   "cell_type": "markdown",
   "metadata": {},
   "source": [
    "### 1.h В пунктах (c) - (f) заменить семейство распределений Пуассона на семейство геометрических распределений:\n",
    "$$\\mathbb{P}_{\\lambda}\\left(X = k\\right) = \\frac{\\lambda^k}{(\\lambda + 1)^{k+1}}, k \\in \\mathbb{Z}_+$$"
   ]
  },
  {
   "cell_type": "markdown",
   "metadata": {},
   "source": [
    "#### h.c)В предположении, что исходные наблюдения являются выборкой из геометрического распределения, построить ОМП и ОММ параметра $\\lambda$.Найти смещение оценки.\n",
    "\n",
    "\n",
    "\n",
    "$\\mathbb{P}_{\\lambda}\\left(X = k\\right) = \\frac{\\lambda^k}{(\\lambda + 1)^{k+1}} $\n",
    "\n",
    "\n",
    "\n",
    "**Оценка максимального правдоподобия:**\n",
    "\n",
    "$L(\\overrightarrow{X};\\theta)=\\prod_{i=1}^{n}P_{\\lambda}(X_{i})=\\prod_{i=1}^{n}\\frac{\\lambda^{X_{i}}}{(\\lambda+1)^{X_{i}}}=\\frac{\\lambda^{\\sum_{i=1}^{n}X_{i}}}{(\\lambda+1)^{\\sum_{i=1}^{n}X_{i}+n}}$\n",
    "\n",
    "\n",
    "$ L(\\vec{X}, \\theta) = \\small \\displaystyle \\prod_{i = 1}^{n} \\frac{\\large \\lambda^{X_i}}{(\\lambda + 1)^{X_i + 1}}  = \\frac{\\large \\lambda^{n \\bar{X}}}{(\\lambda + 1)^{n \\bar{X} + n}}$ \n",
    "\n",
    "Прологарифмируем функцию правдоподобия(в силу монотоности логарифма задача максимизации функции правдободобия сводится к задаче максимизации её логарифма по всем $\\theta \\in \\Theta$):\n",
    "\n",
    "$ LL(\\vec{X}, \\theta) = n \\bar{X} \\ ln \\lambda - \\left( n \\bar{X} + n \\right) ln (\\lambda + 1) $ \n",
    "\n",
    "$ \\frac{\\large \\partial LL(\\vec{X}, \\theta)}{\\large \\partial \\lambda} =  \\frac{\\large n \\bar{X}}{\\large \\lambda} - \\frac{\\large n \\bar{X} + n}{\\lambda + 1} = 0 \\implies \\hat{\\lambda} = \\bar{X} = 5.14$ \n",
    "\n",
    "\\\n",
    "\\\n",
    "**Расчёт ОММ**\n",
    "\n",
    "$ EX_1 = \\lambda $\\\n",
    "$ M_1 = \\bar{X} $ \\\n",
    "$ \\hat{\\lambda} = \\bar{X} = 5.14$\\\n",
    "\\\n",
    "\\\n",
    "**Оценки совпадают. Посчитаем смещещение оценок.**\n",
    "\n",
    "$ E \\hat{\\lambda} = E \\bar{X} = \\frac{1}{n} E \\displaystyle \\sum_{i=1}^{n}{X_i} = \\frac{1}{n} \\displaystyle \\sum_{i=1}^{n} E {X_i} = \\frac{1}{n} \\displaystyle \\sum_{i=1}^{n} \\lambda  = \\frac{\\lambda n}{n} = \\lambda $\\\n",
    " Тогда полученные оценки являются несмещёнными.\n",
    "\n"
   ]
  },
  {
   "cell_type": "markdown",
   "metadata": {},
   "source": [
    "#### h.d)Построить асимптотический доверительный интервал уровня значимости $\\alpha_1$ для параметра $\\lambda$ на базе ОМП"
   ]
  },
  {
   "cell_type": "markdown",
   "metadata": {},
   "source": [
    "$ \\widehat{\\theta} = 5.14 \\quad a_1 = 0.2 $ - ОМП\n",
    "\n",
    " **На основе ОМП.** \n",
    " \n",
    "$\\sqrt{n}\\left( \\widehat{\\theta}(\\overrightarrow{X})-\\theta \\right)\\sim N\\left( 0, \\frac{1}{I(\\theta)} \\right)$\n",
    "\n",
    "\n",
    "информация Фишера: $I(\\theta)=-\\mathbb{E}\\left( \\frac{\\partial^{2} LL}{\\partial \\lambda^{2}} \\right)=-\\mathbb{E}\\left( -\\frac{\\sum_{i=1}^{n}X_{i}}{\\lambda^{2}}+\\frac{\\sum_{i=1}^{n}X_{i}+n}{(\\lambda +1)^{2}} \\right)=\\frac{n}{\\lambda^{2}}-\\mathbb{E}\\left( \\frac{\\sum_{i=1}^{n}X_{i}+n}{(\\lambda+1)^{2}} \\right) = \\frac{n}{\\lambda^{2}}-\\mathbb{E}\\left( \\frac{\\sum_{i=1}^{n}X_{i}}{(\\lambda+1)^{2}} \\right)-\\mathbb{E}\\left( \\frac{n}{(\\lambda+1)^{2}} \\right)=\\frac{n}{\\lambda^{2}}-\\frac{n}{(\\lambda+1)^{2}}-\\frac{n}{(\\lambda+1)^{2}}=\\frac{n(\\lambda^{2}+1)}{(\\lambda+1)^{2}\\cdot \\lambda^{2}}$\n",
    "\n",
    "Тогда $\\sqrt{n\\cdot I\\left(  \\widehat{\\theta}(\\overrightarrow{X})\\right)}\\left( \\widehat{\\theta}(\\overrightarrow{X})-\\theta \\right)\\sim N(0,1)$\n",
    "\n",
    "Выбираем $X_{\\alpha}$: $\\mathrm{Ф}(X_{\\alpha})=1-\\frac{\\alpha_{1}}{2}=1-\\frac{0.2}{2}=0.90 $\n",
    "\n",
    "$ X_{0.90}=1.28$\n",
    "\n",
    "$А.Д.И. \\left[ \\overline{X}-\\frac{X_{0.90}}{\\sqrt{n\\cdot \\frac{n({\\bar{X}^{2}}+1)}{({\\bar{X}}+1)^{2}\\cdot {\\bar{X}^{2}}}}};{\\overline{X}}+\\frac{X_{0.90}}{\\sqrt{n\\cdot \\frac{n({\\bar{X}^{2}}+1)}{({\\bar{X}}+1)^{2}\\cdot {\\bar{X}^{2}}}}} \\right]$\n",
    "\n",
    "$\\lambda \\in [4.23;6.05]$\n",
    "\n",
    "$4.23\\le \\lambda\\le 6.05$ - Асимп. довер. интервал параметра $\\lambda$.\n"
   ]
  },
  {
   "cell_type": "code",
   "execution_count": 182,
   "metadata": {},
   "outputs": [
    {
     "name": "stdout",
     "output_type": "stream",
     "text": [
      "Асимптотический доверительный интервал:  [4.23, 6.05]\n"
     ]
    }
   ],
   "source": [
    "xAlpha = stats.norm.ppf(0.9)\n",
    "adi_2 = []\n",
    "E = 5.14\n",
    "SKO = 5.89\n",
    "left_border = E - (xAlpha * SKO / math.sqrt(n*n*(E**2+1)/((E+1)**2*(E**2))))\n",
    "right_border = E + (xAlpha * SKO / math.sqrt(n*n*(E**2+1)/((E+1)**2*(E**2))))\n",
    "adi_2.append(round(left_border, 2))\n",
    "adi_2.append(round(right_border, 2))\n",
    "print(\"Асимптотический доверительный интервал: \", adi_2)"
   ]
  },
  {
   "cell_type": "markdown",
   "metadata": {},
   "source": [
    "#### h.e)Используя гистограмму частот, построить критерий значимости $\\mathcal{X^{2}}$ проверки простой гипотезы согласия с геометрическим распределением с параметром $\\lambda_{0}$. Проверить гипотезу на урокень значимости $\\alpha_{1}$. Вычислить наибольшее значение уровня значимости, на котором ещё нет оснований отвергнуть данную гипотезу."
   ]
  },
  {
   "cell_type": "markdown",
   "metadata": {},
   "source": [
    "$\\lambda_0 = 4  \\quad \\alpha_1=0.2$ \n",
    "\n",
    "$P_{i}=P_{H_{0}}=(X\\in I_{i})=\\sum_{k\\in I_{i}}^{}\\frac{\\lambda_{0}^{k}}{(\\lambda_{0}+1)^{k+1}}$\n",
    "\n",
    "**Объединяем малочисленные частоты у которых n<5:**\n",
    "\n",
    "1. Определение категорий и частот:\n",
    "   \n",
    "   $   I_1 = \\left(-\\infty,0 \\right], \\quad n_1 = 10 $\n",
    "\n",
    "   $   I_2 = \\left(0,1 \\right], \\quad n_2 = 6 $\n",
    "\n",
    "   $   I_3 = \\left(1,2 \\right], \\quad n_3 = 5 $\n",
    "\n",
    "   $   I_4 = \\left(2,4 \\right], \\quad n_4 = 8 $\n",
    "\n",
    "   $   I_5 = \\left(4,5 \\right], \\quad n_5 = 7 $\n",
    "\n",
    "   $   I_6 = \\left(5,8 \\right], \\quad n_6 = 6 $\n",
    "\n",
    "   $   I_7 = \\left(8,23 \\right], \\quad n_7 = 8 $\n",
    "   \n",
    "\n",
    "2. Вычисление теоретических вероятностей $\\mathbb{P}_i$:\n",
    "\n",
    "   $\\mathbb{P}_{1} =  \\frac{4^{0}}{(4+1)^{0+1}} = 0.2$\n",
    "\n",
    "      $\\mathbb{P}_{2} = \\sum \\limits_{k=0}^1 \\large \\frac{4^{k}}{(4+1)^{k+1}} - \\frac{4^{0}}{(4+1)^{0+1}} = 0.16 $\n",
    "\n",
    "      $\\mathbb{P}_{3} = \\sum \\limits_{k=0}^2 \\frac{4^{k}}{(4+1)^{k+1}}  - \\sum \\limits_{k=0}^1 \\large \\frac{4^{k}}{(4+1)^{k+1}} = 0.13$\n",
    "\n",
    "      $\\mathbb{P}_{4} = \\sum \\limits_{k=0}^4 \\large \\frac{4^{k}}{(4+1)^{k+1}}  - \\sum \\limits_{k=0}^2 \\large \\frac{4^{k}}{(4+1)^{k+1}} = 0.18 $\n",
    "\n",
    "      $\\mathbb{P}_{5} = \\sum \\limits_{k=0}^5 \\large \\frac{4^{k}}{(4+1)^{k+1}}  - \\sum \\limits_{k=0}^4 \\large \\frac{4^{k}}{(4+1)^{k+1}} = 0.07$\n",
    "\n",
    "      $\\mathbb{P}_{6} = \\sum \\limits_{k=0}^8 \\large \\frac{4^{k}}{(4+1)^{k+1}}  - \\sum \\limits_{k=0}^5 \\large \\frac{4^{k}}{(4+1)^{k+1}} = 0.13 $\n",
    "      \n",
    "      $\\mathbb{P}_{7} = \\sum \\limits_{k=0}^{23} \\large \\frac{4^{k}}{(4+1)^{k+1}}  - \\sum \\limits_{k=0}^8 \\large \\frac{4^{k}}{(4+1)^{k+1}} = 0.13$\n",
    "\n",
    "\n",
    "\n",
    "\n",
    "3. Вычисление статистики критерия $\\chi^2$:\n",
    "\n",
    "   $\\chi^2 = \\sum \\limits_{i=1}^7 \\large \\frac{\\left(n_i - n\\mathbb{P}_i\\right)^2}{n\\mathbb{P}_i}  \\normalsize = 5.59$\n",
    "\n",
    "4. Сравнение с критическим значением:\n",
    "   - Из таблицы для распределения $\\chi^2$ с 6 степенями свободы при уровне значимости $\\alpha = 0.2$ значение критерия составляет $\\chi_{7, 0.2}^2 \\approx 9.80$.\n",
    "   - Так как $\\chi_{7, 0.2}^2 > \\chi^2 $, мы принимаем гипотезу о согласии распределений.\n",
    "\n",
    "5. Оценка уровня значимости:\n",
    "   - Наибольшее значение уровня значимости, при котором ещё нет оснований отвергнуть данную гипотезу, равняется 0.47, исходя из таблицы значений $\\chi^2$.\n",
    "\n"
   ]
  },
  {
   "cell_type": "code",
   "execution_count": 183,
   "metadata": {},
   "outputs": [
    {
     "name": "stdout",
     "output_type": "stream",
     "text": [
      "теоретические вероятности: [0.2, 0.16, 0.128, 0.1843, 0.0655, 0.1279, 0.1295]\n",
      "xsi^2 5.5868\n",
      "0.4710284427947752\n",
      "x_alpha_1 равен: 8.558059720250668\n",
      "p-value =  0.19999999999999996\n"
     ]
    }
   ],
   "source": [
    "def geom(x, lambd):\n",
    " res_g = 0\n",
    " for i in range(0, x + 1):\n",
    "     res_g += (lambd**i)/((lambd+1)**(i+1))\n",
    " return res_g\n",
    "lam0=4\n",
    "I = [(-math.inf,0), (0,1),(1,2),(2,4),(4,5),(5,8),(8,23)]\n",
    "n_i = [10,6, 5, 8,7,6,8] ;p_i = [] ;np_i = [] ; n_i_np_i = [] ; res = []\n",
    "n_inter = len(I) - 1\n",
    "p_i.append(geom(0, lam0))\n",
    "for i in range(1, len(n_i)):\n",
    " p_i.append(round(geom(I[i][1], lam0) - geom(I[i][0], lam0), 4))\n",
    "print(\"теоретические вероятности:\",p_i)\n",
    "for i in range(len(n_i)):\n",
    " np_i.append(round(p_i[i]*n, 4))\n",
    "#print(np_i)\n",
    "for i in range(len(n_i)):\n",
    " n_i_np_i.append(round(n_i[i] - np_i[i], 4))\n",
    "for i in range(len(n_i)):\n",
    " res.append(round((n_i_np_i[i] ** 2) / np_i[i] , 4))\n",
    "print(\"xsi^2\", sum(res))\n",
    "#print(1 - sp.chi2.cdf(sum(res), 4))\n",
    "print(1 - sp.chi2.cdf(sum(res), 6))\n",
    "print(\"x_alpha_1 равен:\", stats.chi2.ppf(1 - 0.2, df=n_inter))\n",
    "print('p-value = ', 1 - stats.chi2.cdf(stats.chi2.ppf(1 - 0.2, df=n_inter),n_inter)) "
   ]
  },
  {
   "cell_type": "markdown",
   "metadata": {},
   "source": [
    "#### h.f)Построить критерий значимости  $\\mathcal{X^{2}}$ проверки сложной гипотезы согласия с геометрическим распределением. Проверить гипотезу по уровню значимости $\\alpha_{1}$.Вычислить наибольшее значение уровня значимости, на котором ещё нет оснований отвергнуть данную гипотезу.\n",
    "\n",
    "$\\widehat{\\theta}=\\overline{X}=5.14  \\quad \\alpha_1=0.2$ \n",
    "\n",
    "$P_{i}=P_{H_{0}}=(X\\in I_{i})=\\sum_{k\\in I_{i}}^{}\\frac{\\overline{X}^{k}}{\\left( \\overline{X} +1\\right)^{k+1}}$\n",
    "\n",
    "**Объединяем малочисленные частоты у которых n<5:**\n",
    "\n",
    "1. Определение категорий и частот:\n",
    "   \n",
    "   $   I_1 = \\left(-\\infty,0 \\right], \\quad n_1 = 10 $\n",
    "\n",
    "   $   I_2 = \\left(0,1 \\right], \\quad n_2 = 6 $\n",
    "\n",
    "   $   I_3 = \\left(1,2 \\right], \\quad n_3 = 5 $\n",
    "\n",
    "   $   I_4 = \\left(2,4 \\right], \\quad n_4 = 8 $\n",
    "\n",
    "   $   I_5 = \\left(4,5 \\right], \\quad n_5 = 7 $\n",
    "\n",
    "   $   I_6 = \\left(5,8 \\right], \\quad n_6 = 6 $\n",
    "\n",
    "   $   I_7 = \\left(8,23 \\right], \\quad n_7 = 8 $\n",
    "   \n",
    "\n",
    "2. Вычисление теоретических вероятностей $\\mathbb{P}_i$:\n",
    "\n",
    "   $\\mathbb{P}_{1} =  \\frac{5.14^{0}}{(5.14+1)^{0+1}} = 0.2$\n",
    "\n",
    "      $\\mathbb{P}_{2} = \\sum \\limits_{k=0}^1 \\large \\frac{5.14^{k}}{(5.14+1)^{k+1}} - \\frac{5.14^{0}}{(5.14+1)^{0+1}} = 0.14 $\n",
    "\n",
    "      $\\mathbb{P}_{3} = \\sum \\limits_{k=0}^2 \\frac{5.14^{k}}{(5.14+1)^{k+1}}  - \\sum \\limits_{k=0}^1 \\large \\frac{5.14^{k}}{(5.14+1)^{k+1}} = 0.11$\n",
    "\n",
    "      $\\mathbb{P}_{4} = \\sum \\limits_{k=0}^4 \\large \\frac{5.14^{k}}{(5.14+1)^{k+1}}  - \\sum \\limits_{k=0}^2 \\large \\frac{5.14^{k}}{(5.14+1)^{k+1}} = 0.18 $\n",
    "\n",
    "      $\\mathbb{P}_{5} = \\sum \\limits_{k=0}^5 \\large \\frac{5.14^{k}}{(5.144+1)^{5.14+1}}  - \\sum \\limits_{k=0}^4 \\large \\frac{5.14^{k}}{(5.14+1)^{k+1}} = 0.07$\n",
    "\n",
    "      $\\mathbb{P}_{6} = \\sum \\limits_{k=0}^8 \\large \\frac{5.14^{k}}{(5.14+1)^{k+1}}  - \\sum \\limits_{k=0}^5 \\large \\frac{5.14^{k}}{(5.14+1)^{k+1}} = 0.14 $\n",
    "      \n",
    "      $\\mathbb{P}_{7} = \\sum \\limits_{k=0}^{23} \\large \\frac{5.14^{k}}{(5.14+1)^{k+1}}  - \\sum \\limits_{k=0}^8 \\large \\frac{5.14^{k}}{(5.14+1)^{k+1}} = 0.19$\n",
    "\n",
    "\n",
    "\n",
    "\n",
    "3. Вычисление статистики критерия $\\chi^2$:\n",
    "\n",
    "   $\\chi^2 = \\sum \\limits_{i=1}^3 \\large \\frac{\\left(n_i - n\\mathbb{P}_i\\right)^2}{n\\mathbb{P}_i}  \\normalsize = 4.61$\n",
    "\n",
    "4. Сравнение с критическим значением:\n",
    "   - Из таблицы для распределения $\\chi^2$ с 6 степенями свободы при уровне значимости $\\alpha = 0.2$ значение критерия составляет $\\chi_{7, 0.2}^2 \\approx 9.80$.\n",
    "   - Так как $\\chi_{7, 0.2}^2 > \\chi^2 $, мы принимаем гипотезу о согласии распределений.\n",
    "\n",
    "5. Оценка уровня значимости:\n",
    "   - Наибольшее значение уровня значимости, при котором ещё нет оснований отвергнуть данную гипотезу, равняется 0.59, исходя из таблицы значений $\\chi^2$.\n",
    "\n"
   ]
  },
  {
   "cell_type": "code",
   "execution_count": 184,
   "metadata": {},
   "outputs": [
    {
     "name": "stdout",
     "output_type": "stream",
     "text": [
      "теоретические вероятности: [0.2, 0.1363, 0.1141, 0.1755, 0.067, 0.1423, 0.1879]\n",
      "xsi^2 4.611699999999999\n",
      "0.5944880908332664\n",
      "x_alpha_1 равен: 8.558059720250668\n",
      "p-value =  0.19999999999999996\n"
     ]
    }
   ],
   "source": [
    "p_i = [] ;np_i = [] ; n_i_np_i = [] ; res = []\n",
    "\n",
    "p_i.append(geom(0, lam0))\n",
    "for i in range(1, len(n_i)):\n",
    " p_i.append(round(geom(I[i][1], Ex) - geom(I[i][0], Ex), 4))\n",
    "print(\"теоретические вероятности:\",p_i)\n",
    "for i in range(len(n_i)):\n",
    " np_i.append(round(p_i[i]*n, 4))\n",
    "#print(np_i)\n",
    "for i in range(len(n_i)):\n",
    " n_i_np_i.append(round(n_i[i] - np_i[i], 4))\n",
    "for i in range(len(n_i)):\n",
    " res.append(round((n_i_np_i[i] ** 2) / np_i[i] , 4))\n",
    "print(\"xsi^2\", sum(res))\n",
    "\n",
    "print(1 - sp.chi2.cdf(sum(res), 6))\n",
    "print(\"x_alpha_1 равен:\", stats.chi2.ppf(1 - 0.2, df=n_inter))\n",
    "print('p-value = ', 1 - stats.chi2.cdf(stats.chi2.ppf(1 - 0.2, df=n_inter),n_inter)) \n"
   ]
  },
  {
   "cell_type": "markdown",
   "metadata": {},
   "source": [
    "### Задание-2"
   ]
  },
  {
   "cell_type": "markdown",
   "metadata": {},
   "source": [
    "#### a)Построить вариционный ряд, эмпирическую функцию распределения,гистограмму и полигон частот с шагом h = 0.80."
   ]
  },
  {
   "cell_type": "code",
   "execution_count": 185,
   "metadata": {},
   "outputs": [
    {
     "name": "stdout",
     "output_type": "stream",
     "text": [
      "Вариационный ряд: [0.01, 0.02, 0.1, 0.12, 0.17, 0.34, 0.45, 0.54, 0.57, 0.58, 0.66, 0.66, 0.69, 0.73, 0.74, 0.76, 0.82, 0.85, 0.91, 1.18, 1.19, 1.32, 1.42, 1.55, 1.72, 1.79, 1.82, 1.88, 1.94, 2.12, 2.14, 2.18, 2.18, 2.29, 2.34, 2.45, 2.47, 2.57, 2.97, 3.11, 3.5, 3.72, 3.79, 3.83, 4.22, 4.24, 4.55, 4.63, 5.09, 12.65]\n"
     ]
    }
   ],
   "source": [
    "data2 = [1.19, 0.69, 4.55, 1.72, 0.66, 1.18, 3.50, 0.02, 1.79, 2.45, 2.34, 0.34, 1.82, 2.57, 2.97, 3.79, 2.47, 12.65, 0.12, 1.55, 0.58, 3.11, 0.66, 1.32, 1.42,\n",
    "         2.18, 0.73, 0.82, 2.29, 1.88, 0.45, 0.91, 0.17, 0.76, 0.57, 0.85, 2.14, 0.10, 3.72, 4.22, 1.94, 0.54, 0.01, 2.12, 3.83, 2.18, 4.24, 5.09, 0.74, 4.63]\n",
    "n = len(data2)\n",
    "#вариационный ряд\n",
    "data2.sort()\n",
    "\n",
    "\n",
    "print( \"Вариационный ряд:\", data2)"
   ]
  },
  {
   "cell_type": "code",
   "execution_count": 186,
   "metadata": {},
   "outputs": [
    {
     "data": {
      "image/png": "[encoded data removed]",
      "text/plain": [
       "<Figure size 640x480 with 1 Axes>"
      ]
     },
     "metadata": {},
     "output_type": "display_data"
    }
   ],
   "source": [
    "sns.ecdfplot(data2) #построение эмпирической функции распределения\n",
    "\n",
    "plt.title(\"Эмпирическая функция распределения\")\n",
    "plt.xlabel(\"x\")\n",
    "plt.ylabel(\"F(x)\")\n",
    "plt.show()"
   ]
  },
  {
   "cell_type": "code",
   "execution_count": 187,
   "metadata": {},
   "outputs": [
    {
     "data": {
      "image/png": "[encoded data removed]",
      "text/plain": [
       "<Figure size 640x480 with 1 Axes>"
      ]
     },
     "metadata": {},
     "output_type": "display_data"
    }
   ],
   "source": [
    "import matplotlib.pyplot as plt\n",
    "import seaborn as sns\n",
    "import numpy as np\n",
    "\n",
    "# Assuming data2 is your dataset\n",
    "data2 = [1.19, 0.69, 4.55, 1.72, 0.66, 1.18, 3.50, 0.02, 1.79, 2.45, 2.34, 0.34, 1.82, 2.57, 2.97, 3.79, 2.47, 12.65, 0.12, 1.55, 0.58, 3.11, 0.66, 1.32, 1.42,\n",
    "         2.18, 0.73, 0.82, 2.29, 1.88, 0.45, 0.91, 0.17, 0.76, 0.57, 0.85, 2.14, 0.10, 3.72, 4.22, 1.94, 0.54, 0.01, 2.12, 3.83, 2.18, 4.24, 5.09, 0.74, 4.63]\n",
    "\n",
    "# Set the style for seaborn\n",
    "sns.set(style=\"whitegrid\")\n",
    "\n",
    "# Create a histogram with seaborn\n",
    "sns.histplot(x=data2, binwidth=0.8, color='g')\n",
    "\n",
    "# Set the bins for the histogram\n",
    "bins = np.arange(min(data2), max(data2) + 1.2, 1.2)\n",
    "\n",
    "# Plot the frequency polygon\n",
    "hist, _ = np.histogram(data2, bins=bins)\n",
    "bin_centers = 0.5 * (bins[1:] + bins[:-1])\n",
    "plt.plot(bin_centers, hist, '-r', marker='.', linewidth=2, markersize=8)\n",
    "\n",
    "# Add title and labels\n",
    "plt.title(\"Гистограмма и полигон частот с шагом h = 0.8\", fontsize=14)\n",
    "plt.xlabel(\"x\", fontsize=12)\n",
    "plt.ylabel(\"Частота\", fontsize=12)\n",
    "\n",
    "# Show the plot\n",
    "plt.show()\n"
   ]
  },
  {
   "cell_type": "markdown",
   "metadata": {},
   "source": [
    "#### b) Вычислить выборочные аналоги следующих числовых характеристик: (i)математическое ожидание, (ii)дисперсия, (iii)медианы, (iv)асимметрии, (v)эксцесса (vi) вероятности $\\mathrm{P}(X\\in \\left[ a,b \\right])$"
   ]
  },
  {
   "cell_type": "markdown",
   "metadata": {},
   "source": [
    "Получаем следующие выборочные аналоги:\n",
    "\n",
    "Мат. ожидание : $\\overline{X} =\\frac{1}{n}\\sum_{i=1}^{n}x_i= 2.05$\n",
    "\n",
    "Дисперсия: $S^2 =\\frac{1}{n}\\sum_{i=1}^{n}\\left(x_i-\\overline{X}\\right)=4.15$\n",
    "\n",
    "СКО: $S=\\sqrt{S^2}=2.036$\n",
    "\n",
    "Медиана:$ = n\\cdot\\frac{1}{2} = 50\\cdot\\frac{1}{2}=25\\in \\mathbb{Z} \\Rightarrow z_{50,\\frac{1}{2}} =  \\left[ X_{(25)},X_{(26)} \\right) = \\left[0,1\\right) \\Rightarrow z_{50,\\frac{1}{2}} = 1.755$\n",
    "\n",
    "Коэффициент асимметрии:$\\widehat{\\mathrm{Skew}}X=\\frac{1}{n}\\frac{\\sum \\limits_{i=1}^{n}\\left(x_i-\\overline{X}\\right)^3}{S^3} = 2.87$\n",
    "\n",
    "Коэффициент эксцесса: $\\widehat{\\mathrm{Kurt}}X=\\frac{1}{n}\\frac{\\sum \\limits_{i=1}^{n}\\left(x_i-\\overline{X}\\right)^4}{S^4}-3 =  12.11$\n",
    "\n",
    "Вероятность попадания в промежуток: $P(0≤X≤4) = \\frac{44}{50} = 0.88 $"
   ]
  },
  {
   "cell_type": "code",
   "execution_count": 188,
   "metadata": {},
   "outputs": [
    {
     "name": "stdout",
     "output_type": "stream",
     "text": [
      "Мат.ожидание= 2.0513999999999997\n",
      "Дисперсия= 4.1472200400000006\n",
      "Выборочное стандартное отклонение= 2.036472450095999\n",
      "Медиана= 1.755\n",
      "Асимметрия= 2.8744148980388062\n",
      "Эксцесс= 12.11407438255599\n",
      "Вероятность попадания в промежуток= 0.88\n"
     ]
    }
   ],
   "source": [
    "c = 0\n",
    "d = 4\n",
    "mean = np.mean(data2)  # Выборочное математическое ожидание\n",
    "variance = np.var(data2)  # Дисперсия\n",
    "deviation=np.std(data2) #СКО\n",
    "median = np.median(data2)  # Медиана\n",
    "skewness = stats.skew(data2)  # Асимметрия\n",
    "kurtosis = stats.kurtosis(data2)  # Эксцесс\n",
    "probability = len([x for x in data2 if c <= x <= d]) / len(data2)  # Вероятность\n",
    "print(\"Мат.ожидание=\",mean)\n",
    "print(\"Дисперсия=\",variance)\n",
    "print(\"Выборочное стандартное отклонение=\",deviation)\n",
    "print(\"Медиана=\",median)\n",
    "print(\"Асимметрия=\",skewness)\n",
    "print(\"Эксцесс=\",kurtosis)\n",
    "print(\"Вероятность попадания в промежуток=\",probability)"
   ]
  },
  {
   "cell_type": "markdown",
   "metadata": {},
   "source": [
    "#### c)В предположении, что исходные наблюдения являются выборкой из показательного распределения, построить ОМП и ОММ параметра $\\lambda$.Найти смещение оценки.\n",
    "\n",
    "Плотность показательного распределения: \n",
    "\n",
    "$f(x; \\lambda) = \n",
    "\\begin{cases}\n",
    "\\lambda \\cdot exp(-\\lambda x), & \\text{если } x \\geq 0 \\\\\n",
    "0, & \\text{если } x < 0\n",
    "\\end{cases}$\n",
    "\n",
    "Для данной выборки это событие достоверное и всегда выполняется,   индикатором у плотности распределения можно не пиать\n",
    "\n",
    "\n",
    "\n",
    "$P(X)=\\lambda\\cdot exp(-\\lambda X)$\n",
    "\n",
    " Функция правдоподобия:\n",
    "\n",
    "$L(\\overrightarrow{X},\\theta)= \\prod_{i=1}^{n}P(x_i) = \\prod_{i=1}^{n}\\lambda\\cdot exp(-\\lambda\\cdot X_{i})=\\lambda^{n}\\cdot exp(-\\lambda\\cdot \\sum_{i=1}^{n}X_{i})$\n",
    "\n",
    "Прологарифмируем функцию правдоподобия(в силу монотоности логарифма задача максимизации функции правдободобия сводится к задаче максимизации её логарифма по всем $\\theta \\in \\Theta$):\n",
    "\n",
    "$LL(\\overrightarrow{X},\\theta)=n\\ln(\\lambda)-\\lambda\\cdot \\sum_{i=1}^{n}X_{i}$\n",
    "\n",
    "$ \\frac{\\partial LL}{\\partial \\lambda} = \\frac{n}{\\lambda} - \\sum \\limits_{i=1}^{n}x_i = 0$\n",
    "\n",
    "$ \\widehat{\\theta} = \\widehat{\\lambda} = \\frac{1}{\\overline{X}} = 0.487$ - ОМП\n",
    "\n",
    "**Расчёт ОММ**\n",
    "\n",
    "$\\mathbb{E}(X_1)=a$  \n",
    " $M_1=\\bar{x}=\\cfrac{1}{n}\\sum_{i=1}^nx_i = 0.487$  \n",
    "\n",
    " **Оценки совпали.Найдём смещение**\n",
    "\n",
    " $g\\left(T(\\overrightarrow{X})\\right)=\\lambda\\cdot exp(-\\lambda X)$\n",
    "\n",
    "$h(\\overrightarrow{X})=1$\n",
    "\n",
    "$T=\\sum_{i=1}^{n}X_{i}$.- МДС\n",
    "\n",
    "Показательное распределение принадлежит экспоненциальному семейству распределения $\\Rightarrow$ МДС =  ПДС.\n",
    "\n",
    "$ \\mathbb{E}_{\\theta}\\widehat{\\theta} = \\mathbb{E}_{\\theta}\\overline{X} = \\mathbb{E}_{\\theta} n\\cdot \\sum \\limits_{i=1}^{n}\\frac{1}{x_i} = n (\\frac1{λ})^{-1} \\frac{Г(-1+n)}{Г(n)}=\\frac{nλ}{n-1} =n \\cdot\\frac{1}{n-1}   \\cdot \\lambda = \\frac{n\\cdot\\lambda}{n-1} \\Rightarrow$ смещённая оценка.\n",
    "\n",
    "$\\mathbb{E}_{\\lambda}\\widetilde{\\lambda}=\\mathbb{E}_{\\lambda}\\widehat{\\lambda}\\frac{n-1}{n}=\\frac{n-1}{n}\\mathbb{E}_{\\lambda}\\widehat{\\lambda}=\\frac{n-1}{n}\\cdot \\frac{n\\cdot \\lambda}{n-1}=\\lambda$-НРМД-оценка\n",
    "\n",
    "$\\widetilde{\\theta} = \\widetilde{\\lambda} = \\frac{1}{\\overline{X}}$ -НРМД оценка"
   ]
  },
  {
   "cell_type": "markdown",
   "metadata": {},
   "source": [
    "#### d)Построить А.Д.И. уровня значимости $\\alpha_2$ для параметра $\\lambda$ на базе ОМП\n",
    "\n",
    "$\\sqrt{n}\\left( \\widehat{\\theta}(\\overrightarrow{X})-\\theta \\right)\\sim N(0,\\sigma^{2}(\\theta))$\n",
    "\n",
    "$\\sqrt{n}\\frac{ \\widehat{\\theta}(\\overrightarrow{X})-\\theta}{\\sigma(\\widehat{\\theta})}\\sim N(0,1)$\n",
    "\n",
    "$ x_{α}: Ф(x_{α})=1-\\frac{α}2=1-\\frac{0.05}2=0.975 $\n",
    "\n",
    "$ Ф(1,96)=0,9750 $  \n",
    "\n",
    " $x_{α}=1.96$\n",
    "\n",
    "\n",
    "\n",
    "$X_{\\alpha}: \\mathrm{Ф(X_{\\alpha})}=0.995\\to X_{0.99}=2.5$\n",
    "\n",
    "$-X_{0.975}\\le \\sqrt{n}\\cdot \\frac{\\widehat{\\lambda}-\\lambda}{\\sqrt{\\widehat{\\lambda}}}\\le X_{0.975}$\n",
    "\n",
    "$0.487\\frac{1.96\\cdot 0.487}{\\sqrt{50}}\\le \\lambda\\le 0.487+\\frac{1.96\\cdot 0.487}{\\sqrt{50}}$\n",
    "\n",
    "\n",
    " $\\lambda \\in [0.35;0.62]$ - Асимптотический доверительный интерввал параметра $\\lambda$"
   ]
  },
  {
   "cell_type": "code",
   "execution_count": 189,
   "metadata": {},
   "outputs": [
    {
     "name": "stdout",
     "output_type": "stream",
     "text": [
      "xalpa =  1.959963984540054\n",
      "Асимптотический доверительный интервал:  [0.35, 0.62]\n"
     ]
    }
   ],
   "source": [
    "xAlpha = stats.norm.ppf(0.975)\n",
    "print(\"xalpa = \", xAlpha)\n",
    "E = 0.487\n",
    "left_border = E - ((xAlpha*E)/sqrt(50))\n",
    "right_border = E + ((xAlpha*E)/sqrt(50))\n",
    "adi_2 = []\n",
    "adi_2.append(round(left_border, 2))\n",
    "adi_2.append(round(right_border, 2))\n",
    "print(\"Асимптотический доверительный интервал: \", adi_2)\n"
   ]
  },
  {
   "cell_type": "markdown",
   "metadata": {},
   "source": [
    "#### e) С использованием теоремы Колмогорова построить критерий значимости проверки простой гипотезы согласия с показательным распределением с параметрами $ (\\lambda_0 = 0.33) $. Проверить гипотезу на уровне значимости $ a_2 = 0.05 $. Вычислить наибольшее значение уровня значимости, на котором ещё нет оснований отвергнуть данную гипотезу.\n",
    "\n",
    "Основаня гипотеза $ H_0 : X_1...X_n \\sim \\mathcal{N}(\\alpha_0, \\sigma_0^2) $\\\n",
    "Альтернативная гипотеза $ H_А : X_1...X_n$ не распределена, как $\\mathcal{N}(\\alpha_0, \\sigma_0^2) $\n",
    "\n",
    "Статистика критерия Колмогорова $ \\widehat{D_n} = max| F_n(x) - Ф_{(\\alpha_0, \\sigma_0^2)}(x) | $. Построим критерий Колмогорова.\\\n",
    "$\\widehat{\\varphi(\\vec{X})} = \\begin{cases} 0, \\quad \\widehat{D_n} \\leq x_\\alpha  \\\\ 1, \\quad \\widehat{D_n} > x_\\alpha \\end{cases}$, где $ x_\\alpha: \\mathcal{K_n}(x_\\alpha) = 1 - \\alpha_2 = 0.95 $\n",
    "\n",
    "\n",
    "Критерий Колмогорова\\\n",
    "$\\widehat{\\varphi(\\vec{X})} = \\begin{cases} 0, \\quad \\widehat{D_n} \\leq 0.17  \\\\ 1, \\quad \\widehat{D_n} > 0.17 \\end{cases}$\n",
    "\n",
    "\n"
   ]
  },
  {
   "cell_type": "code",
   "execution_count": 190,
   "metadata": {},
   "outputs": [
    {
     "name": "stdout",
     "output_type": "stream",
     "text": [
      "Вычисленное значение статистики Колмогорова D: 49.216990870012914\n",
      "xa =  0.17307822563424255\n",
      "Наибольший уровень значимости без отвергания гипотезы: 5.260781810179083e-10\n"
     ]
    }
   ],
   "source": [
    "import scipy\n",
    "\n",
    "\n",
    "lambda0 = 0.33\n",
    "alpha_2 = 0.05\n",
    "D = np.max(np.abs(expon.cdf(data2, scale=1/lambda0) - np.arange(1, n+1 / n)))\n",
    "critical_value = kstwobign.ppf(1 - 0.2/2) / np.sqrt(n)\n",
    "print(\"Вычисленное значение статистики Колмогорова D:\",D)\n",
    "\n",
    "print(\"xa = \",critical_value)\n",
    "print(\"Наибольший уровень значимости без отвергания гипотезы:\", 1 - scipy.stats.chi2.cdf(D,4))\n"
   ]
  },
  {
   "cell_type": "markdown",
   "metadata": {},
   "source": [
    "Т.к. $\\widehat{D_n} > x_\\alpha$, гипотеза $H_0$ отвергается."
   ]
  },
  {
   "cell_type": "markdown",
   "metadata": {},
   "source": [
    "#### f)Используя гистограмму частот, построить критерий значимости $\\mathcal{X^{2}}$ проверки простой гипотезы согласия с показательным распределением с параметром $\\lambda_{0}$. Проверить гипотезу на урокень значимости $\\alpha_{2}$. Вычислить наибольшее значение уровня значимости, на котором ещё нет оснований отвергнуть данную гипотезу.\n",
    "\n",
    "$P_{i}=P_{H_{0}}=(X\\in I_{i})=\\sum_{k\\in I_{i}}^{}\\lambda_{0}\\cdot exp(-\\lambda_{0}\\cdot k)$\n",
    "\n",
    "**Объединяем малочисленные частоты у которых n<5:**\n",
    "\n",
    "1. Определение категорий и частот:\n",
    "   \n",
    "   $   I_1 = \\left(0,1 \\right], \\quad n_1 = 19 $\n",
    "\n",
    "   $   I_2 = \\left(1,2 \\right], \\quad n_2 = 10 $\n",
    "\n",
    "   $   I_3 = \\left(2,3 \\right], \\quad n_3 = 10 $\n",
    "\n",
    "   $   I_4 = \\left(3,4 \\right], \\quad n_4 = 5 $\n",
    "\n",
    "   $   I_5 = \\left(4,+\\infty \\right], \\quad n_4 = 6$\n",
    "  \n",
    "   \n",
    "\n",
    "2. Вычисление теоретических вероятностей $\\mathbb{P}_i$:\n",
    "\n",
    "   $\\mathbb{P}_{1} =  \\sum \\limits_{k=0}^1 \\large 0.33 \\cdot exp(-0.33 \\cdot k) - 0.33 \\cdot exp(-0.33 \\cdot 0) = 0.24$\n",
    "\n",
    "      $\\mathbb{P}_{2} = \\sum \\limits_{k=0}^2 \\large 0.33 \\cdot exp(-0.33 \\cdot k) - \\sum \\limits_{k=0}^1 \\large 0.33 \\cdot exp(-0.33 \\cdot k) = 0.17 $\n",
    "\n",
    "      $\\mathbb{P}_{3} = \\sum \\limits_{k=0}^3 \\large 0.33 \\cdot exp(-0.33 \\cdot k) - \\sum \\limits_{k=0}^2 \\large 0.33 \\cdot exp(-0.33 \\cdot k) = 0.12$\n",
    "\n",
    "      $\\mathbb{P}_{4} = \\sum \\limits_{k=0}^4 \\large 0.33 \\cdot exp(-0.33 \\cdot k) - \\sum \\limits_{k=0}^3 \\large 0.33 \\cdot exp(-0.33 \\cdot k) = 0.09 $\n",
    "      \n",
    "      $\\mathbb{P}_{5} = \\sum \\limits_{k=0}^{+\\infty} \\large 0.33 \\cdot exp(-0.33 \\cdot k) - \\sum \\limits_{k=0}^4 \\large 0.33 \\cdot exp(-0.33 \\cdot k) = 0.05 $\n",
    "\n",
    "\n",
    "\n",
    "\n",
    "\n",
    "3. Вычисление статистики критерия $\\chi^2$:\n",
    "\n",
    "   $\\chi^2 = \\sum \\limits_{i=1}^5 \\large \\frac{\\left(n_i - n\\mathbb{P}_i\\right)^2}{n\\mathbb{P}_i}  \\normalsize = 11.65$\n",
    "\n",
    "4. Сравнение с критическим значением:\n",
    "   - Из таблицы для распределения $\\chi^2$ с 4 степенями свободы при уровне значимости $\\alpha = 0.05$ значение критерия составляет $\\chi_{4, 0.05}^2 \\approx 9.49$.\n",
    "   - Так как $\\chi_{4, 0.05}^2 < \\chi^2 $, мы отвергаем гипотезу о согласии распределений.\n",
    "\n",
    "5. Оценка уровня значимости:\n",
    "   - Наибольшее значение уровня значимости, при котором ещё нет оснований отвергнуть данную гипотезу, равняется 0.0399, исходя из таблицы значений $\\chi^2$.\n"
   ]
  },
  {
   "cell_type": "code",
   "execution_count": 191,
   "metadata": {},
   "outputs": [
    {
     "name": "stdout",
     "output_type": "stream",
     "text": [
      "Теоретические вероятности: [0.2372, 0.1706, 0.1226, 0.0882, 0.0514]\n",
      "xsi^2 11.6516\n",
      "p-value =  0.03988642979836532\n",
      "x_alpha_1 равен: 12.591587243743977\n"
     ]
    }
   ],
   "source": [
    "import math\n",
    "\n",
    "def pok(x, lambd):\n",
    "    res_g = 0\n",
    "    if math.isinf(x):  # Проверяем, является ли x бесконечностью\n",
    "        return 1.0  # Если x бесконечность, вероятность равна 1\n",
    "    for i in range(0, int(x) + 1):\n",
    "        res_g += (lambd) * math.exp(-lambd * i)\n",
    "    return res_g\n",
    "p_i = [] ;np_i = [] ; n_i_np_i = [] ; res = []\n",
    "xsi = 0\n",
    "lam0 = 0.33\n",
    "I = [(0, 1), (1, 2), (2, 3), (3, 4), (4, math.inf)]\n",
    "n_i = [19, 10, 10, 5, 6]\n",
    "p_i = []\n",
    "\n",
    "# Вычисление вероятностей для каждого интервала\n",
    "\n",
    "p_i.append(round(pok(1, lam0) - pok(0, lam0), 4))\n",
    "p_i.append(round(pok(2, lam0) - pok(1, lam0), 4))\n",
    "p_i.append(round(pok(3, lam0) - pok(2, lam0), 4))\n",
    "p_i.append(round(pok(4, lam0) - pok(3, lam0), 4))\n",
    "p_i.append(round(pok(math.inf, lam0) - pok(4, lam0), 4))\n",
    "\n",
    "# Вывод результатов\n",
    "print(\"Теоретические вероятности:\", p_i)\n",
    "for i in range(len(n_i)):\n",
    " np_i.append(round(p_i[i]*n, 100))\n",
    "#print(np_i)\n",
    "for i in range(len(n_i)):\n",
    " n_i_np_i.append(round(n_i[i] - np_i[i], 4))\n",
    "for i in range(len(n_i)):\n",
    " res.append(round((n_i_np_i[i] ** 2) / np_i[i] , 4))\n",
    "print(\"xsi^2\", sum(res))\n",
    "#print(1 - sp.chi2.cdf(sum(res), 4))\n",
    "print('p-value = ',1 - sp.chi2.cdf(sum(res), 5))\n",
    "print(\"x_alpha_1 равен:\", stats.chi2.ppf(1 - 0.05, df=n_inter))"
   ]
  },
  {
   "cell_type": "markdown",
   "metadata": {},
   "source": [
    "#### g)Построить критерий значимости  $\\mathcal{X^{2}}$ проверки сложной гипотезы согласия с показательным распределением. Проверить гипотезу по уровню значимости $\\alpha_{2}$.Вычислить наибольшее значение уровня значимости, на котором ещё нет оснований отвергнуть данную гипотезу.\n",
    "\n",
    "$P_{i}=P_{H_{0}}=(X\\in I_{i})=\\sum_{k\\in I_{i}}^{}\\frac{1}{\\overline{X}}\\cdot exp(-\\frac{1}{\\overline{X}}\\cdot k)$\n",
    "\n",
    "**Объединяем малочисленные частоты у которых n<5:**\n",
    "\n",
    "1. Определение категорий и частот:\n",
    "   \n",
    "   $   I_1 = \\left(0,1 \\right], \\quad n_1 = 19 $\n",
    "\n",
    "   $   I_2 = \\left(1,2 \\right], \\quad n_2 = 10 $\n",
    "\n",
    "   $   I_3 = \\left(2,3 \\right], \\quad n_3 = 10 $\n",
    "\n",
    "   $   I_4 = \\left(3,4 \\right], \\quad n_4 = 5 $\n",
    "\n",
    "   $   I_5 = \\left(4,+\\infty \\right], \\quad n_4 = 6$\n",
    "  \n",
    "   \n",
    "\n",
    "2. Вычисление теоретических вероятностей $\\mathbb{P}_i$:\n",
    "\n",
    "   $\\mathbb{P}_{1} =  \\sum \\limits_{k=0}^1 \\large 0.487 \\cdot exp(-0.487 \\cdot k) - 0.487 \\cdot exp(-0.487 \\cdot 0) = 0.2992$\n",
    "\n",
    "      $\\mathbb{P}_{2} = \\sum \\limits_{k=0}^2 \\large 0.487 \\cdot exp(-0.487 \\cdot k) - \\sum \\limits_{k=0}^1 \\large 0.487\\cdot exp(-0.487 \\cdot k) = 0.1839 $\n",
    "\n",
    "      $\\mathbb{P}_{3} = \\sum \\limits_{k=0}^3 \\large 0.33 \\cdot exp(-0.487 \\cdot k) - \\sum \\limits_{k=0}^2 \\large 0.487 \\cdot exp(-0.487 \\cdot k) = 0.113$\n",
    "\n",
    "      $\\mathbb{P}_{4} = \\sum \\limits_{k=0}^4 \\large 0.487 \\cdot exp(-0.487 \\cdot k) - \\sum \\limits_{k=0}^3 \\large 0.487 \\cdot exp(-0.487 \\cdot k) = 0.069 $\n",
    "      \n",
    "      $\\mathbb{P}_{5} = \\sum \\limits_{k=0}^{+\\infty} \\large 0.487 \\cdot exp(-0.487 \\cdot k) - \\sum \\limits_{k=0}^4 \\large 0.487 \\cdot exp(-0.487 \\cdot k) = 0.153 $\n",
    "\n",
    "\n",
    "\n",
    "\n",
    "\n",
    "3. Вычисление статистики критерия $\\chi^2$:\n",
    "\n",
    "   $\\chi^2 = \\sum \\limits_{i=1}^5 \\large \\frac{\\left(n_i - n\\mathbb{P}_i\\right)^2}{n\\mathbb{P}_i}  \\normalsize = 5.53$\n",
    "\n",
    "4. Сравнение с критическим значением:\n",
    "   - Из таблицы для распределения $\\chi^2$ с 4 степенями свободы при уровне значимости $\\alpha = 0.05$ значение критерия составляет $\\chi_{4, 0.05}^2 \\approx 9.49$.\n",
    "   - Так как $\\chi_{4, 0.05}^2 > \\chi^2 $, мы принимаем гипотезу о согласии распределений.\n",
    "\n",
    "5. Оценка уровня значимости:\n",
    "   - Наибольшее значение уровня значимости, при котором ещё нет оснований отвергнуть данную гипотезу, равняется 0.355, исходя из таблицы значений $\\chi^2$."
   ]
  },
  {
   "cell_type": "code",
   "execution_count": 192,
   "metadata": {},
   "outputs": [
    {
     "name": "stdout",
     "output_type": "stream",
     "text": [
      "Теоретические вероятности: [0.2992, 0.1839, 0.113, 0.0694, 0.1525]\n",
      "xsi^2 5.5315\n",
      "p-value =  0.3545041541616334\n",
      "x_alpha_1 равен: 12.591587243743977\n"
     ]
    }
   ],
   "source": [
    "p_i = [] ;np_i = [] ; n_i_np_i = [] ; res = []\n",
    "xsi = 0\n",
    "lam0 = 0.487\n",
    "I = [(0, 1), (1, 2), (2, 3), (3, 4), (4, math.inf)]\n",
    "n_i = [19, 10, 10, 5, 6]\n",
    "p_i = []\n",
    "\n",
    "# Вычисление вероятностей для каждого интервала\n",
    "\n",
    "p_i.append(round(pok(1, lam0) - pok(0, lam0), 4))\n",
    "p_i.append(round(pok(2, lam0) - pok(1, lam0), 4))\n",
    "p_i.append(round(pok(3, lam0) - pok(2, lam0), 4))\n",
    "p_i.append(round(pok(4, lam0) - pok(3, lam0), 4))\n",
    "p_i.append(abs(round(pok(math.inf, lam0) - pok(4, lam0), 4)))\n",
    "\n",
    "# Вывод результатов\n",
    "print(\"Теоретические вероятности:\", p_i)\n",
    "for i in range(len(n_i)):\n",
    " np_i.append(round(p_i[i]*n, 100))\n",
    "#print(np_i)\n",
    "for i in range(len(n_i)):\n",
    " n_i_np_i.append(round(n_i[i] - np_i[i], 4))\n",
    "for i in range(len(n_i)):\n",
    " res.append(round((n_i_np_i[i] ** 2) / np_i[i] , 4))\n",
    "print(\"xsi^2\", sum(res))\n",
    "#print(1 - sp.chi2.cdf(sum(res), 4))\n",
    "print('p-value = ',1 - sp.chi2.cdf(sum(res), 5))\n",
    "print(\"x_alpha_1 равен:\", stats.chi2.ppf(1 - 0.05, df=n_inter))"
   ]
  },
  {
   "cell_type": "markdown",
   "metadata": {},
   "source": [
    "### 2.h Построить наиболее мощный критерий проверки простой гипотезы показательности с параметром $\\lambda_0 = 0.33$ при альтернативе показательности с параметром $\\lambda_1 = 0.50$.  Проверить гипотезу на уровне значимости $\\alpha_2 = 0.05$. Что получится, если поменять местами  основную и альтернативную гипотезы?\n",
    "\n",
    "сновная гипотеза: $H_{0}=\\lambda_{0}=0.33$\n",
    "\n",
    "Альтернативная гипотеза: $H_{A}=\\lambda_{1}=0.5$\n",
    "\n",
    "\n",
    "Cтатистическое отношение правдоподобия:\n",
    "\n",
    "$LR(\\overrightarrow{X},\\lambda_{1},\\lambda_{0}) = \\left(\\frac{\\lambda_{1}}{\\lambda_{0}}\\right)^n \\cdot e^{-\\lambda_{1} \\cdot {\\sum_{i=1}^{50}X_{i}} + \\lambda_{0} \\cdot {\\sum_{i=1}^{50}X_{i}} }$\n",
    "\n",
    "$LR(\\overrightarrow{X},\\lambda_{1},\\lambda_{0})>  c\\Leftrightarrow \\overline{X} < c^*$\n",
    "\n",
    "$LR(\\overrightarrow{X},\\lambda_{1},\\lambda_{0})<  c\\Leftrightarrow \\overline{X} > c^*$\n",
    "\n",
    "$e^{{\\sum_{i=1}^{50}X_{i}}\\cdot (-\\lambda_{1} + \\lambda_{0})}=\\left(\\frac{\\lambda_{0}}{\\lambda_{1}}\\right)^n c$\n",
    "\n",
    "Логарифмируем:\n",
    "\n",
    "(1)    $c* = {\\sum_{i=1}^{50}X_{i}}=n \\cdot ln\\left(\\left(\\frac{\\lambda_{0}}{\\lambda_{1}}\\right) c\\right)$\n",
    "\n",
    "$\\sum_{i=1}^{50}X_{i}\\sim \\Gamma \\left(n,\\frac{1}{\\lambda}\\right)$\n",
    "\n",
    "$1-\\Phi_{\\Gamma \\left(n,\\frac{1}{\\lambda}\\right)}(c)=\\alpha_{2}$\n",
    "\n",
    "$ c = \\Phi^{-1}_{\\Gamma \\left(n,\\frac{1}{\\lambda}\\right)}(1-\\alpha_{2})$\n",
    "\n",
    "$ c = 188.4$\n",
    "\n",
    "Найдем с* подставив значени в выражение (1):\n",
    "\n",
    "$ с* = 241.15$\n",
    "\n",
    "$LR(\\overrightarrow{X}, \\lambda_{0}, \\lambda_{1})  = 604577327.8$\n",
    "\n",
    "\n",
    "\n",
    "$c > LR  \\to$ принимаем гипотезу"
   ]
  },
  {
   "cell_type": "code",
   "execution_count": 193,
   "metadata": {},
   "outputs": [
    {
     "name": "stdout",
     "output_type": "stream",
     "text": [
      "c = 188.3971415212183\n",
      "c* =  241.15183728364053\n",
      "LR = 604577327.819885 \n",
      "\n"
     ]
    }
   ],
   "source": [
    "lambda_1 =0.5  \n",
    "lambda_0 = 0.33\n",
    "\n",
    "c1 = sp.gamma.ppf(0.95, a =50, scale = 1/lambda_0)\n",
    "print('c =', c1)\n",
    "cSt1 = 50*np.log(lambda_0/lambda_1*c1)\n",
    "print('c* = ',cSt1)\n",
    "LR1 = ((lambda_0/lambda_1)**50)*math.exp(lambda_1*cSt1 - lambda_0*cSt1)\n",
    "print('LR =', LR1,'\\n')"
   ]
  },
  {
   "cell_type": "markdown",
   "metadata": {},
   "source": [
    "**Меняем местами основную и альтернативную гипотезу:**\n",
    "\n",
    "$H_{0}=\\lambda_{1}$\n",
    "\n",
    "$H_{1}=\\lambda_{0}$\n",
    "\n",
    "Cтатистическое отношение правдоподобия:\n",
    "\n",
    "$LR(\\overrightarrow{X},\\lambda_{0},\\lambda_{1}) = \\left(\\frac{\\lambda_{0}}{\\lambda_{1}}\\right)^n \\cdot exp^{-\\lambda_{0} \\cdot {\\sum_{i=1}^{50}X_{i}} + \\lambda_{1} \\cdot {\\sum_{i=1}^{50}X_{i}} }$\n",
    "\n",
    "$LR(\\overrightarrow{X},\\lambda_{0},\\lambda_{1})>  c\\Leftrightarrow \\overline{X} < c^*$\n",
    "\n",
    "$LR(\\overrightarrow{X},\\lambda_{0},\\lambda_{1})<  c\\Leftrightarrow \\overline{X} > c^*$\n",
    "\n",
    "${exp}^{{\\sum_{i=1}^{50}X_{i}}\\cdot (-\\lambda_{0} + \\lambda_{1})}=\\left(\\frac{\\lambda_{1}}{\\lambda_{0}}\\right)^n c$\n",
    "\n",
    "$ c = \\Phi^{-1}_{\\Gamma \\left(n,\\frac{1}{\\lambda}\\right)}(1-\\alpha_{2})$\n",
    "\n",
    "$ c = 124.34$\n",
    "\n",
    "$ с* = 220.38$\n",
    "\n",
    "\n",
    "$LR(\\overrightarrow{X}, \\lambda_{0}, \\lambda_{1}) = 5.65$\n",
    "\n",
    "\n",
    "\n",
    "$ c > LR \\to $ отвергаем гипотезу"
   ]
  },
  {
   "cell_type": "code",
   "execution_count": 194,
   "metadata": {},
   "outputs": [
    {
     "name": "stdout",
     "output_type": "stream",
     "text": [
      "c = 124.34211340400407\n",
      "c* =  220.37606508555726\n",
      "LR = 5.654896898543588e-08\n"
     ]
    }
   ],
   "source": [
    "c2 = sp.gamma.ppf(0.95, a =50, scale=1/lambda_1)\n",
    "print('c =', c2)\n",
    "cSt2 = 50*np.log(lambda_0/lambda_1*c2)\n",
    "print('c* = ',cSt2)\n",
    "LR2 = ((lambda_1/lambda_0)**50)*np.exp(lambda_0*cSt2 - lambda_1*cSt2)\n",
    "print('LR =', LR2)"
   ]
  },
  {
   "cell_type": "markdown",
   "metadata": {},
   "source": [
    "### 2.i В пунктах (c)-(h) заменить семейство показательных распределений на семейство гамма-распределений с плотностями $$p_{\\lambda} = \\frac{\\sqrt{\\lambda}\\cdot exp\\left( \\frac{-\\lambda\\cdot x}{2} \\right)}{\\sqrt{2\\cdot \\pi\\cdot x}}$$"
   ]
  },
  {
   "cell_type": "markdown",
   "metadata": {},
   "source": [
    "#### i.c)В предположении, что исходные наблюдения являются выборкой из гамма-распределения, построить ОМП и ОММ параметра $\\lambda$.Найти смещение оценки.\n",
    "\n",
    "$ f(x)= \\frac{ \\sqrt{\\lambda}e^{-λ\\frac{x}2}}{\\sqrt{2 πx}} $\n",
    "\n",
    "**ОМП**\n",
    "\n",
    " $L( \\vec{X}, θ)= \\frac{λ^{n/2}e^{-\\frac{λ}2\\sum_{i=1}^n X_i}}{2 π^{n/2}\\prod_{i=1}^n \\sqrt{X_i}} $\n",
    "\n",
    "$ LL( \\vec{X}, θ)= \\frac{n}2lnλ-\\frac{λ}2\\sum_{i=1}^n X_i-\\frac{n}2ln(2 π)-\\frac1{2}\\sum_{i=1}^n ln(X_i)  $\n",
    "\n",
    "$ \\frac{\\partial LL}{\\partial λ} = \\frac{n}{2λ}-\\frac1{2}\\sum_{i=1}^n X_i=0 $\n",
    "\n",
    "$ \\widehat{\\theta} = \\hat{λ}=\\frac{n}{\\sum_{i=1}^n X_i}=\\frac1{\\overline{X}}=0,487 $ -ОМП\n",
    "\n",
    "**ОММ**\n",
    "\n",
    "$ EX_1=\\frac1{λ}=M_1 $\n",
    "\n",
    "$ λ= \\frac1{\\overline{X}}=0,487 $\n",
    "\n",
    "**Осталось найти смещение оценки.**\n",
    "\n",
    "$g\\left(T(\\overrightarrow{X})\\right)=\\frac{\\lambda^{\\frac{n}{2}}\\cdot exp\\left( \\frac{-\\lambda}{2} \\cdot \\sum_{i=1}^{n}X_{i}\\right)}{(\\prod_{i=1}^{n}X_{i})^{\\frac{n}{2}}}$\n",
    "\n",
    "$h(\\overrightarrow{X})=\\frac{1}{(2\\pi)^{\\frac{n}{2}}}$\n",
    "\n",
    "Достаточная минимальная статистика: $T=\\sum_{i=1}^{n}X_{i}$.\n",
    "\n",
    "МДС = ПДС тк семейство экспонециальных\n",
    "\n",
    "$\\mathbb{E}_{\\lambda}\\frac{1}{\\overline{X}}=\\mathbb{E}_{\\lambda}\\frac{n}{\\sum_{i=1}^{n}x_{i}}=n\\cdot \\mathbb{E_{\\lambda}}\\frac{1}{\\sum_{i=1}^{n}x_{i}}=n\\cdot \\mathbb{E}_{\\lambda}(\\sum_{i=1}^{n}X_{i})^{-1}=n\\cdot \\left(\\frac{1}{\\lambda}\\right)^{-1}\\frac{\\Gamma (-1+n)}{\\Gamma (n)}=n\\cdot \\lambda\\frac{\\Gamma (-1+n)}{\\Gamma(-1+n)\\cdot (n-1)}=\\frac{n\\cdot \\lambda}{n-1}\\to смещенная-оценка$\n",
    "\n",
    "$\\widetilde{\\lambda}=\\widehat{\\lambda}\\frac{n-1}{n}$\n",
    "\n",
    "$\\mathbb{E}_{\\lambda}\\widetilde{\\lambda}=\\mathbb{E}_{\\lambda}\\widehat{\\lambda}\\frac{n-1}{n}=\\frac{n-1}{n}\\mathbb{E}_{\\lambda}\\widehat{\\lambda}=\\frac{n-1}{n}\\cdot \\frac{n\\cdot \\lambda}{n-1}=\\lambda$-НРМД-оценка\n",
    "\n"
   ]
  },
  {
   "cell_type": "markdown",
   "metadata": {},
   "source": [
    "#### i.d)Построить А.Д.И. уровня значимости $\\alpha_2$ для параметра $\\lambda$ на базе ОМП"
   ]
  },
  {
   "cell_type": "markdown",
   "metadata": {},
   "source": [
    "$\\alpha_2 = 0.05$\n",
    "\n",
    "$\\widehat{\\theta} = \\widehat{\\lambda} = \\frac{1}{\\overline{X}} = 0.487$\n",
    "\n",
    "\n",
    "$\\frac{\\partial LL}{\\partial \\lambda} = \\frac{n}{2\\lambda}-\\frac{\\sum_{i=1}^{n}X_{i}}{2}$\n",
    "\n",
    "$\\frac{\\partial^2 LL}{\\partial \\lambda^2} = -\\frac{n}{2 \\cdot \\lambda^2}$\n",
    "\n",
    "$\\mathrm{I}_n(\\lambda) = - \\large \\mathbb{E}_{\\theta}\\frac{\\partial^2 LL}{\\partial \\lambda^2} = \\mathbb{E}_{\\theta} \\left(\\frac{n}{2 \\cdot \\lambda^2}\\right) = \\frac{n}{2\\cdot\\lambda^2}$\n",
    "\n",
    "\n",
    "\n",
    "$x_{\\alpha} : \\mathrm{\\Phi}(x_{\\alpha}) = 1 - \\frac{\\alpha}{2} = 1 - \\frac{0.05}{2} = 0.975$\n",
    "\n",
    "$\\mathrm{\\Phi}(x_{\\alpha}) = 0.975 \\Rightarrow x_{\\alpha} = 1.96\n",
    "$\n",
    "\n",
    "*Асимптотический доверительный интервал:*\n",
    "$\\lambda \\in \\left[\\frac{1}{\\overline{X}} - \\frac{x_{\\alpha}}{\\sqrt{n\\cdot \\frac{n}{2\\cdot\\lambda^2}}} , \\frac{1}{\\overline{X}} + \\frac{x_{\\alpha}}{\\sqrt{n\\cdot \\frac{n}{2\\cdot\\lambda^2}}} \\right] $\n",
    "\n",
    "Таким образом, АДИ уровня значимости $\\alpha_1$ для параметра $\\lambda$:\n",
    "\n",
    "$\\lambda \\in \\left[0.408, 0.567\\right] $"
   ]
  },
  {
   "cell_type": "code",
   "execution_count": 195,
   "metadata": {},
   "outputs": [
    {
     "name": "stdout",
     "output_type": "stream",
     "text": [
      "Асимптотический доверительный интервал:  [0.408, 0.567]\n"
     ]
    }
   ],
   "source": [
    "adi_2 = []\n",
    "EX = 2.05\n",
    "xAlpha = 1.96\n",
    "left_2 = 1/EX - xAlpha *EX/(n * n / 2 * EX)**0.5 #подсчёт левой границы АДИ\n",
    "adi_2.append(round(left_2, 3))\n",
    "\n",
    "right_2 = 1/EX+ xAlpha *     EX/(n * n / 2 *EX)**0.5 #подсчёт правой границы АДИ\n",
    "adi_2.append(round(right_2, 3))\n",
    "\n",
    "print(\"Асимптотический доверительный интервал: \", adi_2)"
   ]
  },
  {
   "cell_type": "markdown",
   "metadata": {},
   "source": [
    "#### i.e)Построение критерия значимости проверки простой гипотезы согласия с гамма-распределением с параметром λ0=0.33 с использованием теоремы Колмогорова. Проверка гипотезы на уровне значимости α2 = 0,05. Вычисление наибольшее значения уровня значимости, на котором ещё нет оснований отвергнуть гипотезу."
   ]
  },
  {
   "cell_type": "markdown",
   "metadata": {},
   "source": [
    "Основаня гипотеза $ H_0 : X_1...X_n \\sim \\mathcal{N}(\\alpha_0, \\sigma_0^2) $\\\n",
    "Альтернативная гипотеза $ H_А : X_1...X_n$ не распределена, как $\\mathcal{N}(\\alpha_0, \\sigma_0^2) $\n",
    "\n",
    "Статистика критерия Колмогорова $ \\widehat{D_n} = max| F_n(x) - Ф_{(\\alpha_0, \\sigma_0^2)}(x) | $. Построим критерий Колмогорова.\\\n",
    "$\\widehat{\\varphi(\\vec{X})} = \\begin{cases} 0, \\quad \\widehat{D_n} \\leq x_\\alpha  \\\\ 1, \\quad \\widehat{D_n} > x_\\alpha \\end{cases}$, где $ x_\\alpha: \\mathcal{K_n}(x_\\alpha) = 1 - \\alpha_2 = 0.95 $\n",
    "\n",
    "\n",
    "Критерий Колмогорова\\\n",
    "$\\widehat{\\varphi(\\vec{X})} = \\begin{cases} 0, \\quad \\widehat{D_n} \\leq 0.17  \\\\ 1, \\quad \\widehat{D_n} > 0.17 \\end{cases}$"
   ]
  },
  {
   "cell_type": "code",
   "execution_count": 196,
   "metadata": {},
   "outputs": [
    {
     "name": "stdout",
     "output_type": "stream",
     "text": [
      "Вычисленное значение статистики Колмогорова D: 49.216990870012914\n",
      "xa =  0.17307822563424255\n",
      "Наибольший уровень значимости без отвергания гипотезы: 5.260781810179083e-10\n"
     ]
    }
   ],
   "source": [
    "D = np.max(np.abs(gamma.cdf(data2,1, scale=1/lambda0) - np.arange(1, n+1 / n)))\n",
    "critical_value = kstwobign.ppf(1 - 0.2/2) / np.sqrt(n)\n",
    "\n",
    "\n",
    "print(\"Вычисленное значение статистики Колмогорова D:\",D)\n",
    "\n",
    "print(\"xa = \",critical_value)\n",
    "print(\"Наибольший уровень значимости без отвергания гипотезы:\", 1 - scipy.stats.chi2.cdf(D,4))"
   ]
  },
  {
   "cell_type": "markdown",
   "metadata": {},
   "source": [
    "Т.к. $\\widehat{D_n} > x_\\alpha$, гипотеза $H_0$ отвергается."
   ]
  },
  {
   "cell_type": "markdown",
   "metadata": {},
   "source": [
    "#### i.f)Используя гистограмму частот, построить критерий значимости $\\mathcal{X^{2}}$ проверки простой гипотезы согласия с гамма-распределением с параметром $\\lambda_{0}$. Проверить гипотезу на урокень значимости $\\alpha_{2}$. Вычислить наибольшее значение уровня значимости, на котором ещё нет оснований отвергнуть данную гипотезу.\n",
    "\n",
    "$P_{i}=P_{H_{0}}=(X\\in I_{i})=\\sum_{k\\in I_{i}}^{}\\frac{\\sqrt{\\lambda_{0}}\\cdot exp\\left( -\\frac{\\lambda_{0}\\cdot k}{2} \\right)}{\\sqrt{2\\pi\\cdot k}}$\n",
    "\n",
    "**Объединяем малочисленные частоты у которых n<5:**\n",
    "\n",
    "1. Определение категорий и частот:\n",
    "   \n",
    "   $   I_1 = \\left(0,1 \\right], \\quad n_1 = 19 $\n",
    "\n",
    "   $   I_2 = \\left(1,2 \\right], \\quad n_2 = 10 $\n",
    "\n",
    "   $   I_3 = \\left(2,3 \\right], \\quad n_3 = 10 $\n",
    "\n",
    "   $   I_4 = \\left(3,4 \\right], \\quad n_4 = 5 $\n",
    "\n",
    "   $   I_5 = \\left(4,+\\infty \\right], \\quad n_4 = 6$\n",
    "  \n",
    "   \n",
    "\n",
    "2. Вычисление теоретических вероятностей $\\mathbb{P}_i$:\n",
    "\n",
    "   $\\mathbb{P}_{1}   = 0.19$\n",
    "\n",
    "      $\\mathbb{P}_{2}   = 0.12 $\n",
    "\n",
    "      $\\mathbb{P}_{3}   = 0.08$\n",
    "\n",
    "      $\\mathbb{P}_{4}   = 0.06 $\n",
    "      \n",
    "      $\\mathbb{P}_{5}  = 0.55 $\n",
    "\n",
    "\n",
    "\n",
    "\n",
    "\n",
    "3. Вычисление статистики критерия $\\chi^2$:\n",
    "\n",
    "   $\\chi^2 = \\sum \\limits_{i=1}^5 \\large \\frac{\\left(n_i - n\\mathbb{P}_i\\right)^2}{n\\mathbb{P}_i}  \\normalsize = 38.87$\n",
    "\n",
    "4. Сравнение с критическим значением:\n",
    "   - Из таблицы для распределения $\\chi^2$ с 4 степенями свободы при уровне значимости $\\alpha = 0.05$ значение критерия составляет $\\chi_{4, 0.05}^2 \\approx 9.49$.\n",
    "   - Так как $\\chi_{4, 0.05}^2 < \\chi^2 $, мы отвергаем гипотезу о согласии распределений.\n",
    "\n",
    "5. Оценка уровня значимости:\n",
    "   - Наибольшее значение уровня значимости, при котором ещё нет оснований отвергнуть данную гипотезу, равняется $2.53 \\cdot 10^{-7}$, исходя из таблицы значений $\\chi^2$.\n"
   ]
  },
  {
   "cell_type": "code",
   "execution_count": 197,
   "metadata": {},
   "outputs": [
    {
     "name": "stdout",
     "output_type": "stream",
     "text": [
      "Теоретические вероятности: [0.1943, 0.1165, 0.0807, 0.0592, 0.5493]\n",
      "xsi^2 38.8662\n",
      "p-value =  2.526743207997839e-07\n",
      "x_alpha_1 равен: 12.591587243743977\n"
     ]
    }
   ],
   "source": [
    "\n",
    "\n",
    "import math\n",
    "def gamma(x, lambd):\n",
    "    res_g = 0\n",
    "    if math.isinf(x):  # Проверяем, является ли x бесконечностью\n",
    "        return 1.0  # Если x бесконечность, вероятность равна 1\n",
    "    for i in range(1, int(x) + 1):\n",
    "        res_g += (sqrt(lambd)*math.exp((-lambd*i)/2))/sqrt(2*math.pi*i)\n",
    "    return res_g\n",
    "\n",
    "\n",
    "\n",
    "\n",
    "p_i = [] ;np_i = [] ; n_i_np_i = [] ; res = []\n",
    "xsi = 0\n",
    "lam0 = 0.33\n",
    "I = [(0, 1), (1, 2), (2, 3), (3, 4), (4, math.inf)]\n",
    "n_i = [19, 10, 10, 5, 6]\n",
    "p_i = []\n",
    "\n",
    "# Вычисление вероятностей для каждого интервала\n",
    "\n",
    "p_i.append(round(gamma(1, lam0) , 4))\n",
    "p_i.append(round(gamma(2, lam0) - gamma(1, lam0), 4))\n",
    "p_i.append(round(gamma(3, lam0) - gamma(2, lam0), 4))\n",
    "p_i.append(round(gamma(4, lam0) - gamma(3, lam0), 4))\n",
    "p_i.append(abs(round(gamma(math.inf, lam0) - gamma(4, lam0), 4)))\n",
    "\n",
    "# Вывод результатов\n",
    "print(\"Теоретические вероятности:\", p_i)\n",
    "for i in range(len(n_i)):\n",
    " np_i.append(round(p_i[i]*n, 100))\n",
    "#print(np_i)\n",
    "for i in range(len(n_i)):\n",
    " n_i_np_i.append(round(n_i[i] - np_i[i], 4))\n",
    "for i in range(len(n_i)):\n",
    " res.append(round((n_i_np_i[i] ** 2) / np_i[i] , 4))\n",
    "print(\"xsi^2\", sum(res))\n",
    "#print(1 - sp.chi2.cdf(sum(res), 4))\n",
    "print('p-value = ',1 - sp.chi2.cdf(sum(res), 5))\n",
    "print(\"x_alpha_1 равен:\", stats.chi2.ppf(1 - 0.05, df=n_inter))\n",
    "\n",
    "\n",
    "\n"
   ]
  },
  {
   "cell_type": "markdown",
   "metadata": {},
   "source": [
    "#### i.g)Построить критерий значимости  $\\mathcal{X^{2}}$ проверки сложной гипотезы согласия с показательным распределением. Проверить гипотезу по уровню значимости $\\alpha_{2}$.Вычислить наибольшее значение уровня значимости, на котором ещё нет оснований отвергнуть данную гипотезу.\n",
    "\n",
    "$P_{i}=P_{H_{0}}=(X\\in I_{i})=\\sum_{k\\in I_{i}}^{}\\frac{\\sqrt{\\frac{1}{\\overline{X}}}\\cdot exp\\left( -\\frac{\\frac{1}{\\overline{X}}\\cdot k}{2} \\right)}{\\sqrt{2\\pi\\cdot k}}$\n",
    "\n",
    "**Объединяем малочисленные частоты у которых n<5:**\n",
    "\n",
    "1. Определение категорий и частот:\n",
    "   \n",
    "   $   I_1 = \\left(0,1 \\right], \\quad n_1 = 19 $\n",
    "\n",
    "   $   I_2 = \\left(1,2 \\right], \\quad n_2 = 10 $\n",
    "\n",
    "   $   I_3 = \\left(2,3 \\right], \\quad n_3 = 10 $\n",
    "\n",
    "   $   I_4 = \\left(3,4 \\right], \\quad n_4 = 5 $\n",
    "\n",
    "   $   I_5 = \\left(4,+\\infty \\right], \\quad n_4 = 6$\n",
    "  \n",
    "   \n",
    "\n",
    "2. Вычисление теоретических вероятностей $\\mathbb{P}_i$:\n",
    "\n",
    "   $\\mathbb{P}_{1}   = 0.22$\n",
    "\n",
    "      $\\mathbb{P}_{2}   = 0.121 $\n",
    "\n",
    "      $\\mathbb{P}_{3}   = 0.0774$\n",
    "\n",
    "      $\\mathbb{P}_{4}   = 0.052 $\n",
    "      \n",
    "      $\\mathbb{P}_{5}  = 0.53 $\n",
    "\n",
    "\n",
    "\n",
    "\n",
    "\n",
    "3. Вычисление статистики критерия $\\chi^2$:\n",
    "\n",
    "   $\\chi^2 = \\sum \\limits_{i=1}^5 \\large \\frac{\\left(n_i - n\\mathbb{P}_i\\right)^2}{n\\mathbb{P}_i}  \\normalsize = 36.32$\n",
    "\n",
    "4. Сравнение с критическим значением:\n",
    "   - Из таблицы для распределения $\\chi^2$ с 4 степенями свободы при уровне значимости $\\alpha = 0.05$ значение критерия составляет $\\chi_{4, 0.05}^2 \\approx 9.49$.\n",
    "   - Так как $\\chi_{4, 0.05}^2 < \\chi^2 $, мы отвергаем гипотезу о согласии распределений.\n",
    "\n",
    "5. Оценка уровня значимости:\n",
    "   - Наибольшее значение уровня значимости, при котором ещё нет оснований отвергнуть данную гипотезу, равняется $8.18 \\cdot 10^{-7}$, исходя из таблицы значений $\\chi^2$.\n"
   ]
  },
  {
   "cell_type": "code",
   "execution_count": 198,
   "metadata": {},
   "outputs": [
    {
     "name": "stdout",
     "output_type": "stream",
     "text": [
      "Теоретические вероятности: [0.2182, 0.121, 0.0774, 0.0526, 0.5308]\n",
      "xsi^2 36.3197\n",
      "p-value =  8.197201660786746e-07\n",
      "x_alpha_1 равен: 12.591587243743977\n"
     ]
    }
   ],
   "source": [
    "p_i = [] ;np_i = [] ; n_i_np_i = [] ; res = []\n",
    "xsi = 0\n",
    "lam0 = 0.487\n",
    "I = [(0, 1), (1, 2), (2, 3), (3, 4), (4, math.inf)]\n",
    "n_i = [19, 10, 10, 5, 6]\n",
    "p_i = []\n",
    "\n",
    "# Вычисление вероятностей для каждого интервала\n",
    "\n",
    "p_i.append(round(gamma(1, lam0) , 4))\n",
    "p_i.append(round(gamma(2, lam0) - gamma(1, lam0), 4))\n",
    "p_i.append(round(gamma(3, lam0) - gamma(2, lam0), 4))\n",
    "p_i.append(round(gamma(4, lam0) - gamma(3, lam0), 4))\n",
    "p_i.append(abs(round(gamma(math.inf, lam0) - gamma(4, lam0), 4)))\n",
    "\n",
    "# Вывод результатов\n",
    "print(\"Теоретические вероятности:\", p_i)\n",
    "for i in range(len(n_i)):\n",
    " np_i.append(round(p_i[i]*n, 100))\n",
    "#print(np_i)\n",
    "for i in range(len(n_i)):\n",
    " n_i_np_i.append(round(n_i[i] - np_i[i], 4))\n",
    "for i in range(len(n_i)):\n",
    " res.append(round((n_i_np_i[i] ** 2) / np_i[i] , 4))\n",
    "print(\"xsi^2\", sum(res))\n",
    "#print(1 - sp.chi2.cdf(sum(res), 4))\n",
    "print('p-value = ',1 - sp.chi2.cdf(sum(res), 5))\n",
    "print(\"x_alpha_1 равен:\", stats.chi2.ppf(1 - 0.05, df=n_inter))\n",
    "\n",
    "\n"
   ]
  },
  {
   "cell_type": "markdown",
   "metadata": {},
   "source": [
    "#### i.h)Для гамма-распределения $P_{\\lambda}(X)=\\frac{\\sqrt{\\lambda}\\cdot exp\\left( \\frac{-\\lambda\\cdot X}{2} \\right)}{\\sqrt{2\\cdot \\pi\\cdot X}}$ построить наиболее мощный критерий проверки гипотезы о показательности с параметром $\\lambda=\\lambda_{0}$ при альтернативе показательности с параметром $\\lambda=\\lambda_{1}$.\n",
    "\n",
    "Основная гипотеза: $H_{0}=\\lambda_{0}=0.25$\n",
    "\n",
    "Альтернативная гипотеза: $H_{A}=\\lambda_{1}=0.17$\n",
    "\n",
    "Cтатистическое отношение правдоподобия .\n",
    "\n",
    "$LR(\\overrightarrow{X},\\lambda_{0},\\lambda_{1}) = \\frac{L\\left( \\overrightarrow{X},\\lambda_{0} \\right)}{L\\left( \\overrightarrow{X},\\lambda_{1} \\right)}= \\frac{\\lambda_{0}^{\\frac{n}{2}} \\cdot exp \\left(-\\frac{\\lambda_{0}\\cdot \\sum_{i=1}^{50}X_{i}}{2} \\right)}{\\lambda_{1}^{\\frac{n}{2}}\\cdot exp \\left(-\\frac{\\lambda_{1}\\cdot \\sum_{i=1}^{50}X_{i}}{2} \\right)}=\\left(\\frac{\\lambda_{0}}{\\lambda_{1}}\\right)^{\\frac{n}{2}}\\cdot exp \\left((\\lambda_{1}-\\lambda_{0})\\cdot \\sum_{i=1}^{50}X_{i} \\right)$\n",
    "\n",
    "$LR(\\overrightarrow{X},\\lambda_{1},\\lambda_{0})>  c\\Leftrightarrow \\overline{X} < c^*$\n",
    "\n",
    "$LR(\\overrightarrow{X},\\lambda_{1},\\lambda_{0})<  c\\Leftrightarrow \\overline{X} > c^*$\n",
    "\n",
    "$e^{{\\sum_{i=1}^{50}X_{i}}\\cdot (-\\lambda_{1} + \\lambda_{0})}=\\left(\\frac{\\lambda_{0}}{\\lambda_{1}}\\right)^n c$\n",
    "\n",
    "Логарифмируем:\n",
    "\n",
    "(1) $c* = {\\sum_{i=1}^{50}X_{i}}=n \\cdot ln\\left(\\left(\\frac{\\lambda_{0}}{\\lambda_{1}}\\right) c\\right)$\n",
    "\n",
    "$\\sum_{i=1}^{50}X_{i}\\sim \\Gamma \\left(n,\\frac{1}{\\lambda}\\right)$\n",
    "\n",
    "$1-\\Phi_{\\Gamma \\left(n,\\frac{1}{\\lambda}\\right)}(c)=\\alpha_{2}$\n",
    "\n",
    "$ c = \\Phi^{-1}_{\\Gamma \\left(n,\\frac{1}{\\lambda}\\right)}(1-\\alpha_{2})$\n",
    "\n",
    "$ c = 188.4$\n",
    "\n",
    "Найдем с* подставив значени в выражение (1):\n",
    "\n",
    "$ с* = 241.15$\n",
    "\n",
    "$LR(\\overrightarrow{X}, \\lambda_{0}, \\lambda_{1}) = 19626979469084.316$\n",
    "\n",
    "$ \\phi(x) =\\left\\{\n",
    "  \\begin{array}{l}\n",
    "    1, LR(x) > 236.996 \\\\\n",
    "    p, LR(x) = 236.996\\\\\n",
    "    0, LR(x) < 236.996\\\\\n",
    "  \\end{array}\\right.$\n",
    "\n",
    "  $c < LR  \\to$ принимаем гипотезу"
   ]
  },
  {
   "cell_type": "code",
   "execution_count": 199,
   "metadata": {},
   "outputs": [
    {
     "name": "stdout",
     "output_type": "stream",
     "text": [
      "c = 188.3971415212183\n",
      "c* =  241.15183728364053\n",
      "LR = 19626979469084.316 \n",
      "\n"
     ]
    }
   ],
   "source": [
    "lambda_0 = 0.33\n",
    "lambda_1 = 0.5\n",
    "c1 = sp.gamma.ppf(0.95, a =50, scale = 1/lambda_0)\n",
    "print('c =', c1)\n",
    "cSt1 = 50*np.log(lambda_0/lambda_1*c1)\n",
    "print('c* = ',cSt1)\n",
    "LR1 = ((lambda_0/lambda_1)**25)*np.exp(lambda_1*cSt1 - lambda_0*cSt1)\n",
    "print('LR =', LR1,'\\n')"
   ]
  },
  {
   "cell_type": "markdown",
   "metadata": {},
   "source": [
    "**Меняем местами основную и альтернативную гипотезу:**\n",
    "\n",
    "$H_{0}=\\lambda_{1}$\n",
    "\n",
    "$H_{1}=\\lambda_{0}$\n",
    "\n",
    "Cтатистическое отношение правдоподобия:\n",
    "\n",
    "$LR(\\overrightarrow{X},\\lambda_{0},\\lambda_{1}) = \\left(\\frac{\\lambda_{0}}{\\lambda_{1}}\\right)^n \\cdot e^{-\\lambda_{0} \\cdot {\\sum_{i=1}^{50}X_{i}} + \\lambda_{1} \\cdot {\\sum_{i=1}^{50}X_{i}} }$\n",
    "\n",
    "$LR(\\overrightarrow{X},\\lambda_{0},\\lambda_{1})>  c\\Leftrightarrow \\overline{X} < c^*$\n",
    "\n",
    "$LR(\\overrightarrow{X},\\lambda_{0},\\lambda_{1})<  c\\Leftrightarrow \\overline{X} > c^*$\n",
    "\n",
    "$e^{{\\sum_{i=1}^{50}X_{i}}\\cdot (-\\lambda_{0} + \\lambda_{1})}=\\left(\\frac{\\lambda_{1}}{\\lambda_{0}}\\right)^n c$\n",
    "\n",
    "$ c = \\Phi^{-1}_{\\Gamma \\left(n,\\frac{1}{\\lambda}\\right)}(1-\\alpha_{2})$\n",
    "\n",
    "$ c = 118.5$\n",
    "\n",
    "$ с* = 217.9$\n",
    "\n",
    "\n",
    "$LR(\\overrightarrow{X}, \\lambda_{0}, \\lambda_{1})  = 2.6 \\cdot 10^{12}$\n",
    "\n",
    "\n",
    "\n",
    "  $ c > LR \\to$ принимаем гипотезу"
   ]
  },
  {
   "cell_type": "code",
   "execution_count": 200,
   "metadata": {},
   "outputs": [
    {
     "name": "stdout",
     "output_type": "stream",
     "text": [
      "c = 118.49800381106212\n",
      "c* =  217.96903354976826\n",
      "LR = 2.622613950680892e-12\n"
     ]
    }
   ],
   "source": [
    "c2 = sp.gamma.ppf(0.9, a =50, scale=1/lambda_1)\n",
    "print('c =', c2)\n",
    "cSt2 = 50*np.log(lambda_0/lambda_1*c2)\n",
    "print('c* = ',cSt2)\n",
    "LR2 = ((lambda_1/lambda_0)**25)*np.exp(lambda_0*cSt2 - lambda_1*cSt2)\n",
    "print('LR =', LR2)"
   ]
  },
  {
   "cell_type": "markdown",
   "metadata": {},
   "source": [
    "## Выводы\n",
    "\n",
    "В ходе практической работы были затронуты различные аспекты математической статистики, включая применение методов для статистического анализа данных. Были использованы прикладные программные пакеты, такие как Python с библиотеками NumPy и Scipy, для реализации методов и проведения статистических тестов. В ходе работы были изучены основные концепции и методы, такие как построение доверительных интервалов, проверка гипотез, анализ выборочных данных и другие аспекты статистического анализа. Применение различных распределений и методов оценки параметров дало возможность получить практические навыки в области статистики."
   ]
  }
 ],
 "metadata": {
  "kernelspec": {
   "display_name": "Python 3",
   "language": "python",
   "name": "python3"
  },
  "language_info": {
   "codemirror_mode": {
    "name": "ipython",
    "version": 3
   },
   "file_extension": ".py",
   "mimetype": "text/x-python",
   "name": "python",
   "nbconvert_exporter": "python",
   "pygments_lexer": "ipython3",
   "version": "3.10.7"
  }
 },
 "nbformat": 4,
 "nbformat_minor": 2
}
