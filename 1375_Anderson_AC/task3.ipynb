{
 "cells": [
  {
   "cell_type": "markdown",
   "metadata": {},
   "source": [
    "# Практическая работа №3: Регрессионный анализ\n",
    "Выполнил студент гр. 1375 Андерсон Алексей. Вариант №2"
   ]
  },
  {
   "cell_type": "markdown",
   "metadata": {},
   "source": [
    "## Цель работы\n",
    "Ознакомление с основными положениями метода наименьших квадратов (МНК), со статистическими свойствами МНК-оценок, с понятием функции регрессии и роли МНК в регрессионном анализе."
   ]
  },
  {
   "cell_type": "markdown",
   "metadata": {},
   "source": [
    "## Основные теоретические положения \n",
    "Регрессионная модель: $\\mathbb{E}_{\\theta}(Y|z)=f_{\\theta}(z)$,  где $Y$ - наблюдения, $z$ - ковариата\n",
    "\n",
    "Линейная регрессионная модель: $\\mathbb{E}_{\\theta}(Y|z)=x(z)^\\intercal\\beta$, где $\\beta$ - вектор параметров регрессии, a $x(z)$ - вектор регрессоров\n",
    "\n",
    "Статистическая модель: $\\mathbb{E}_{\\theta}(Y|z)=X^\\intercal\\beta$, $Var(Y|z) = \\sigma^2E$\n",
    "\n",
    "Альтернативная форма записи модели линейной регрессии: $Y = X^\\intercal\\beta + \\varepsilon, \\mathbb{E}_{\\theta}\\varepsilon = 0, Var_{\\theta}\\varepsilon = \\sigma^2E$, где $\\varepsilon$ - вектор ошибок\n",
    "\n",
    "Метод наименьших квадратов: $RSS(\\beta)=\\left\\| Y-X^\\intercal\\beta \\right\\|^2=(Y-X^\\intercal\\beta)^\\intercal(Y-X^\\intercal\\beta)\\to \\min_\\beta$\n",
    "\n",
    "Нормальные уравнения: $XX^\\intercal\\beta=XY$\n",
    "\n",
    "Решение системы нормальных уравнений в регулярном случае: $\\hat{\\beta}=(XX^\\intercal)^{-1}XY$\n",
    "\n",
    "##### Оценка параметра $\\sigma^2$\n",
    "\n",
    "$S^2 =\\frac{SS_e}{n-r} =\\frac{RSS(\\hat{\\beta})}{n-r}$, где $r = rank X, S^2$ - несмещенная оценка дисперсии\n",
    "\n",
    "##### Линейная функция параметра\n",
    "\n",
    "$\\psi(\\beta) = C^\\intercal\\beta$\n",
    "\n",
    "$\\psi(\\beta)$ допускает несмещенное оценивание, если $\\exists L(Y) = B Y : \\forall \\beta : \\mathbb{E}_\\beta L(Y) = C^\\intercal\\beta$, где $C$ - матрица $m \\times q$, $q$ - длина функции параметра\n",
    "\n",
    "\n",
    "##### Предположения\n",
    "\n",
    "Классическое предположение: $ Y \\sim \\mathcal{N}(X^\\intercal\\beta,\\sigma^2E) $\n",
    "\n",
    "Эквивалентное предположение об остатках:  $ \\varepsilon \\sim \\mathcal{N}(0,\\sigma^2E) $\n",
    "\n",
    "##### Доверительный интервал\n",
    "\n",
    "ДНО - функция: $\\psi(\\beta) = C^\\intercal\\beta$\n",
    "\n",
    "МНК оценка: $\\hat{\\psi}= C^\\intercal\\hat{\\beta}$\n",
    "\n",
    "$b_\\psi = C^\\intercal(XX^\\intercal)^{-1}C$\n",
    "\n",
    "Распределение: $\\hat{\\psi} \\sim \\mathcal{N}(\\psi,\\sigma^2b_\\psi) $\n",
    "\n",
    "Тогда $\\frac{\\hat{\\psi} - {\\psi}}{S\\sqrt{b_\\psi}} \\sim S_{n-r}$\n",
    "\n",
    "Доверительный интервал: $\\left[\\hat{\\psi} - x_\\alpha S \\sqrt{b_\\psi}; \\hat{\\psi} + x_\\alpha S \\sqrt{b_\\psi}\\right]$, где $x_\\alpha: S_{n-r}(x_\\alpha) = 1 - \\frac{\\alpha}{2}$\n",
    "\n",
    "##### Доверительный эллипсоид\n",
    "\n",
    "$b_\\psi = C^\\intercal(XX^\\intercal)^{-1}C$\n",
    "\n",
    "Распределение: $\\frac{\\left(\\hat{\\psi} - {\\psi}\\right)^\\intercal {b_\\psi}^{-1} \\left(\\hat{\\psi} - {\\psi}\\right)}{qS^2} \\sim \\mathcal{F}_{q,n-r}$\n",
    "\n",
    "Доверительный эллипсоид: $\\left\\{\\overrightarrow{x} : \\left(\\overrightarrow{x} - \\hat{\\psi}\\right)^\\intercal b_\\psi^{-1} \\left(\\overrightarrow{x} - \\hat{\\psi}\\right) \\le q S^2 x_\\alpha\\right\\}$,где $x_\\alpha: \\mathcal{F}_{q, n-r}(x_\\alpha) = 1 - \\alpha$\n",
    "\n",
    "##### Проверка гипотез\n",
    "\n",
    "Основная гипотеза $H_0:\\psi=0$\n",
    "\n",
    "Статистика: $\\mathbb{F} = \\frac{SS_H/q}{SS_e/(n-r)}$, где $SS_H = RSS(\\hat{\\beta}_H) - RSS(\\hat{\\beta})$, где $\\hat{\\beta}_H$ - МНК оценка при выполнении основной гипотезы\n",
    "\n",
    "$\\mathbb{F} \\sim \\mathcal{F}_{q,n-r}$\n",
    "\n",
    "$x_\\alpha: \\mathcal{F}_{q, n-r}(x_\\alpha) = 1 - \\alpha$"
   ]
  },
  {
   "cell_type": "markdown",
   "metadata": {},
   "source": [
    "## Постановка задачи\n",
    "Результаты статистического эксперимента представлены в виде двух переменных. Требуется оценить характер (случайной) зависимости переменной $Y$ от переменной $X$. Полученные результаты содержательно проинтерпретировать."
   ]
  },
  {
   "cell_type": "markdown",
   "metadata": {},
   "source": [
    "## Выполнение работы\n"
   ]
  },
  {
   "cell_type": "markdown",
   "metadata": {},
   "source": [
    "### 1. Построить графически результаты эксперимента. Сформулировать линейную регрессионную модель переменной $Y$ по переменной $X$. Построить МНК оценки параметров сдвига $\\beta_0$ и масштаба $\\beta_1$. Построить полученную линию регрессии. Оценить визуально соответствие полученных данных и построенной оценки."
   ]
  },
  {
   "cell_type": "code",
   "execution_count": 228,
   "metadata": {},
   "outputs": [
    {
     "data": {
      "image/png": "[encoded data removed]",
      "text/plain": [
       "<Figure size 640x480 with 1 Axes>"
      ]
     },
     "metadata": {},
     "output_type": "display_data"
    }
   ],
   "source": [
    "import matplotlib.pyplot as plt\n",
    "import numpy as np\n",
    "import scipy.stats as sps\n",
    "import sympy\n",
    "from sympy.solvers.solveset import nonlinsolve\n",
    "\n",
    "Y = np.array([6.57, 8.60, 11.77, 15.11, 4.68, 16.21, 8.45, 4.72, 6.45, 14.92, 2.18, 12.46, 18.31, 23.37,\n",
    "     8.96, 14.64, 24.32, 11.20, 23.75, 15.45, 3.43, 11.84, 8.80, 9.31, 2.89, 7.66, 23.25, 12.04,\n",
    "     12.56, 3.87, 10.92, 27.39, 20.19, 12.14, 24.51, 12.44, 17.66, 33.23, 21.70, 25.88, 21.27, 19.44,\n",
    "     14.85, 11.73, 10.98, 10.10, 16.54, 4.98, 10.61, 19.17])\n",
    "X = np.array([5, 5, 2, 4, 4, 5, 1, 3, 0, 1, 3, 4, 5, 1, 3, 1, 0, 0, 5, 0, 5, 4, 5, 2, 4,\n",
    "     0, 5, 2, 5, 4, 5, 5, 2, 1, 2, 3, 1, 4, 5, 5, 1, 5, 0, 3, 5, 1, 4, 4, 4, 3])\n",
    "alpha = 0.2\n",
    "h = 2.7\n",
    "\n",
    "fig, ax = plt.subplots()\n",
    "ax.scatter(X, Y)\n",
    "ax.set_xlabel('X')\n",
    "ax.set_ylabel('Y')\n",
    "plt.show()"
   ]
  },
  {
   "cell_type": "markdown",
   "metadata": {},
   "source": [
    "##### Линейная регрессионная модель:\n",
    "\n",
    "$\\mathbb{E}_{\\theta}(Y|z) = x(z)^{\\intercal}\\beta$\n",
    "\n",
    "$Y = \\beta_0 + \\beta_1 X + \\varepsilon$\n",
    "\n",
    "##### МНК оценки параметров сдвига $\\beta_0$ и масштаба $\\beta_1$:"
   ]
  },
  {
   "cell_type": "code",
   "execution_count": 229,
   "metadata": {},
   "outputs": [
    {
     "data": {
      "image/png": "[encoded data removed]",
      "text/plain": [
       "<Figure size 640x480 with 1 Axes>"
      ]
     },
     "metadata": {},
     "output_type": "display_data"
    },
    {
     "name": "stdout",
     "output_type": "stream",
     "text": [
      "Определитель X * X^T: 8049.00\n",
      "Оценка (beta_0): 13.58\n",
      "Оценка (beta_1): 0.09\n"
     ]
    }
   ],
   "source": [
    "#matrix\n",
    "Y_matrix = np.matrix(Y).T\n",
    "X_matrix = np.matrix([[1] * len(X), X])\n",
    "\n",
    "#determinant of X * X^T\n",
    "determinant_X_XT = np.linalg.det(X_matrix * X_matrix.T)\n",
    "\n",
    "#least squares solution\n",
    "Beta_matrix = np.linalg.inv(X_matrix * X_matrix.T) * X_matrix * Y_matrix\n",
    "\n",
    "# Obtained estimates\n",
    "beta_0 = float(Beta_matrix[0])\n",
    "beta_1 = float(Beta_matrix[1])\n",
    "\n",
    "#regression line\n",
    "regression_line = beta_0 + beta_1 * X\n",
    "\n",
    "#data and regression line\n",
    "fig, ax = plt.subplots()\n",
    "ax.scatter(X, Y)\n",
    "ax.plot(X, regression_line, color='red')\n",
    "\n",
    "ax.set_xlabel('X')\n",
    "ax.set_ylabel('Y')\n",
    "plt.show()\n",
    "\n",
    "print(f'Определитель X * X^T: {determinant_X_XT:.2f}')\n",
    "print(f'Оценка (beta_0): {beta_0:.2f}')\n",
    "print(f'Оценка (beta_1): {beta_1:.2f}')\n",
    "\n"
   ]
  },
  {
   "cell_type": "markdown",
   "metadata": {},
   "source": [
    "Построенная модель линейной регрессии не соответствует заданным данным"
   ]
  },
  {
   "cell_type": "markdown",
   "metadata": {},
   "source": [
    "### 2. Построить и интерпретировать несмещённую оценку дисперсии. На базе ошибок построить гистограмму с шагом $h$. Проверить гипотезу нормальности ошибок на уровне значимости $\\alpha$ по $\\chi^2$. Оценить расстояние полученной оценки до класса нормальных распределений по Колмогорову. Визуально оценить данный факт."
   ]
  },
  {
   "cell_type": "code",
   "execution_count": 230,
   "metadata": {},
   "outputs": [
    {
     "name": "stdout",
     "output_type": "stream",
     "text": [
      "Несмещенная оценка дисперсии: 52.70\n"
     ]
    }
   ],
   "source": [
    "\n",
    "unbiased_variance = np.linalg.norm(Y_matrix - X_matrix.T * Beta_matrix)**2/(len(X) - np.linalg.matrix_rank(X_matrix))\n",
    "\n",
    "print(f'Несмещенная оценка дисперсии: {unbiased_variance:.2f}')\n"
   ]
  },
  {
   "cell_type": "code",
   "execution_count": 231,
   "metadata": {},
   "outputs": [
    {
     "name": "stdout",
     "output_type": "stream",
     "text": [
      "Интервал         |   Фактическая частота   |   Теоретическая частота\n",
      "[-10, -4.6)\t\t 10\t\t 8.948798219759107\n",
      "[-4.6, 0.8)\t\t 14\t\t 14.036398574858202\n",
      "[0.8, 6.2)\t\t 11\t\t 12.979644290797127\n",
      "[6.2, 11.6)\t\t 8\t\t 7.075207657997851\n",
      "[11.6, 17.0)\t\t 2\t\t 2.7513474748177447\n",
      "\n",
      "Статистика хи-квадрат: 0.7515702490805343\n",
      "xi^2: 5.9886166940042465\n",
      "Нет оснований отклонить гипотезу о нормальности\n"
     ]
    }
   ],
   "source": [
    "mean_errors = 0\n",
    "std_errors = np.sqrt(unbiased_variance)\n",
    "\n",
    "intervals = [[-10, -10+2*h], [-10+2*h, -10+4*h], [-10+4*h, -10+6*h], [-10+6*h, -10+8*h], [-10+8*h, -10+10*h]]\n",
    "freq = [0] * len(intervals) \n",
    "freq_teor = [0] * len(intervals) \n",
    "\n",
    "print(\"Интервал         |   Фактическая частота   |   Теоретическая частота\")\n",
    "for i in range(len(intervals)):\n",
    "    a, b = intervals[i]\n",
    "    freq[i] += len([x for x in errors if (a <= x < b)])\n",
    "    freq_teor[i] += len(errors) * (sps.norm.cdf(b, loc=mean_errors, scale=std_errors) - sps.norm.cdf(a, loc=mean_errors, scale=std_errors))\n",
    "    if i == len(intervals) - 1:\n",
    "        freq_teor[i] += len(errors) * sps.norm.sf(b, loc=mean_errors, scale=std_errors)\n",
    "    print(f'[{round(a, 1)}, {round(b, 1)})\\t\\t {freq[i]}\\t\\t {freq_teor[i]}')\n",
    "\n",
    "freq = np.array(freq)\n",
    "freq_teor = np.array(freq_teor)\n",
    "chi_square = np.sum((freq - freq_teor) ** 2 / freq_teor)\n",
    "critical_value = sps.chi2.ppf(1 - alpha, df=len(freq) - 1)\n",
    "\n",
    "print(\"\\nСтатистика хи-квадрат:\", chi_square)\n",
    "print(\"xi^2:\", critical_value)\n",
    "\n",
    "if chi_square > critical_value:\n",
    "    print(\"Гипотеза о нормальности отклоняется\")\n",
    "else:\n",
    "    print(\"Нет оснований отклонить гипотезу о нормальности\")"
   ]
  },
  {
   "cell_type": "code",
   "execution_count": 232,
   "metadata": {},
   "outputs": [
    {
     "data": {
      "image/png": "[encoded data removed]",
      "text/plain": [
       "<Figure size 640x480 with 1 Axes>"
      ]
     },
     "metadata": {},
     "output_type": "display_data"
    }
   ],
   "source": [
    "# Вычисление ошибок регрессии\n",
    "errors = Y_matrix - X_matrix.T * Beta_matrix\n",
    "\n",
    "# Построение гистограммы\n",
    "plt.hist(errors, bins=[x / 10.0 for x in range(int(min(errors)) * 10, int(max(errors)) * 10 + 5, int(h * 10))], color='blue', edgecolor='black')\n",
    "plt.title('Histogram of Regression Errors')\n",
    "plt.xlabel('Ошибки')\n",
    "plt.ylabel('Частота')\n",
    "plt.show()\n"
   ]
  },
  {
   "cell_type": "markdown",
   "metadata": {},
   "source": [
    "Визуально оценивая распределение нельзя сказать что это нормальное распределение, но также нельзя отрицать что при изменении некоторых факторов, таких как выборка это распределение может стать нормальным"
   ]
  },
  {
   "cell_type": "markdown",
   "metadata": {},
   "source": [
    "### 3. В предположении нормальности ошибок построить доверительные интервалы для параметров $\\beta_0$ и $\\beta_1$ уровня доверия $1 - \\alpha$. Построить доверительный эллипс уровня доверия $1 - \\alpha$ для $(\\beta_0, \\beta_1)$ (вычислить его полуоси)."
   ]
  },
  {
   "cell_type": "code",
   "execution_count": 233,
   "metadata": {},
   "outputs": [
    {
     "name": "stdout",
     "output_type": "stream",
     "text": [
      "Доверительный интервал для beta_0: [10.972966558361968, 16.19635136933091]\n",
      "Доверительный интервал для beta_1: [-0.6489879207748248, 0.8379554943864564]\n",
      "Полуоси доверительного эллипса: [15.65093577 30.13459975]\n"
     ]
    }
   ],
   "source": [
    "from scipy.stats import t\n",
    "r = np.linalg.matrix_rank(X_matrix)\n",
    "\n",
    "x_alpha = sps.t.ppf(1 - alpha/2, df = len(X) - r)\n",
    "C = np.matrix([[1], [0]])\n",
    "b_psi = float(C.T * np.linalg.inv(X_matrix * X_matrix.T) * C)\n",
    "confidence_interval_beta_0 = [beta_0 - x_alpha * np.sqrt(unbiased_variance) * np.sqrt(b_psi), beta_0 + x_alpha * np.sqrt(unbiased_variance) * np.sqrt(b_psi)]\n",
    "\n",
    "\n",
    "C = np.matrix([[0], [1]])\n",
    "b_psi = float(C.T * np.linalg.inv(X_matrix * X_matrix.T) * C)\n",
    "confidence_interval_beta_1 = [beta_1 - x_alpha * np.sqrt(unbiased_variance) * np.sqrt(b_psi), beta_1 + x_alpha * np.sqrt(unbiased_variance) * np.sqrt(b_psi)]\n",
    "\n",
    "# Доверительный эллипс\n",
    "covariance_matrix = unbiased_variance / np.sum((np.array(X) - np.mean(X)) ** 2) * np.array([[np.sum(np.array(X) ** 2) / n, -np.mean(X) * np.sum(np.array(X))],[-np.mean(X) * np.sum(np.array(X)), np.sum(np.array(X) ** 2)]])\n",
    "eigenvalues, eigenvectors = np.linalg.eig(covariance_matrix)\n",
    "semi_axes = np.sqrt(np.abs(chi2.ppf(1 - alpha, df=2) * eigenvalues))\n",
    "\n",
    "\n",
    "# Вывод результатов\n",
    "print(f'Доверительный интервал для beta_0: {confidence_interval_beta_0}')\n",
    "print(f'Доверительный интервал для beta_1: {confidence_interval_beta_1}')\n",
    "print(f\"Полуоси доверительного эллипса: {semi_axes}\")\n",
    "\n"
   ]
  },
  {
   "cell_type": "markdown",
   "metadata": {},
   "source": [
    "### 4. Сформулировать гипотезу независимости переменной $Y$ от переменной $X$. Провести проверку значимости."
   ]
  },
  {
   "cell_type": "markdown",
   "metadata": {},
   "source": [
    "Основная гипотеза: $H_0 : \\psi = 0$"
   ]
  },
  {
   "cell_type": "code",
   "execution_count": 234,
   "metadata": {},
   "outputs": [
    {
     "name": "stdout",
     "output_type": "stream",
     "text": [
      "Оценка вектора beta: (13.870000000000003, 0)\n",
      "Статистика F: 0.013635385051969722\n",
      "x-alpha: 1.6646290755148478\n",
      "Нет оснований отвергнуть гипотезу\n"
     ]
    }
   ],
   "source": [
    "\n",
    "beta_0_h = sum(Y)/len(Y)\n",
    "beta_1_h = 0\n",
    "\n",
    "Beta_h_matrix = np.matrix([[beta_0_h], [beta_1_h]])\n",
    "F_statistic = (np.linalg.norm(Y_matrix - X_matrix.T * Beta_h_matrix)**2 - np.linalg.norm(Y_matrix - X_matrix.T * Beta_matrix)**2)/2/unbiased_variance\n",
    "\n",
    "print(f'Оценка вектора beta: ({beta_0_h}, {beta_1_h})')\n",
    "print(f'Статистика F: {F_statistic}')\n",
    "print(f'x-alpha: {sps.f.ppf(1 - alpha, dfn = 2, dfd = len(X) - r)}')\n",
    "\n",
    "if F_statistic > alpha:\n",
    "    print(\"Гипотеза отвергается\")\n",
    "else:\n",
    "    print(\"Нет оснований отвергнуть гипотезу\")\n"
   ]
  },
  {
   "cell_type": "markdown",
   "metadata": {},
   "source": [
    "### 5.  Сформулировать модель, включающую дополнительный член с $X^2$. Построить МНК оценки параметров $\\beta_0, \\beta_1, \\beta_2$ в данной модели. Изобразить графически полученную регрессионную зависимость."
   ]
  },
  {
   "cell_type": "code",
   "execution_count": 236,
   "metadata": {},
   "outputs": [
    {
     "name": "stdout",
     "output_type": "stream",
     "text": [
      "Оценка вектора beta: [15.3617474  -2.39243562  0.46461979]\n"
     ]
    },
    {
     "data": {
      "image/png": "[encoded data removed]",
      "text/plain": [
       "<Figure size 640x480 with 1 Axes>"
      ]
     },
     "metadata": {},
     "output_type": "display_data"
    },
    {
     "name": "stdout",
     "output_type": "stream",
     "text": [
      "dfc: [[ 1  1  1  1  1  1  1  1  1  1  1  1  1  1  1  1  1  1  1  1  1  1  1  1\n",
      "   1  1  1  1  1  1  1  1  1  1  1  1  1  1  1  1  1  1  1  1  1  1  1  1\n",
      "   1  1]\n",
      " [ 5  5  2  4  4  5  1  3  0  1  3  4  5  1  3  1  0  0  5  0  5  4  5  2\n",
      "   4  0  5  2  5  4  5  5  2  1  2  3  1  4  5  5  1  5  0  3  5  1  4  4\n",
      "   4  3]\n",
      " [25 25  4 16 16 25  1  9  0  1  9 16 25  1  9  1  0  0 25  0 25 16 25  4\n",
      "  16  0 25  4 25 16 25 25  4  1  4  9  1 16 25 25  1 25  0  9 25  1 16 16\n",
      "  16  9]] 1.2994388784066297\n"
     ]
    }
   ],
   "source": [
    "#матрица X с дополнительным членом X^2\n",
    "X_matrix = np.matrix([[1] * len(X), X, [x**2 for x in X]])\n",
    "Y_matrix = np.matrix(Y).T\n",
    "\n",
    "#МНК оценок\n",
    "Beta_matrix = np.linalg.inv(X_matrix * X_matrix.T) * X_matrix * Y_matrix\n",
    "beta_0 = float(Beta_matrix[0])\n",
    "beta_1 = float(Beta_matrix[1])\n",
    "beta_2 = float(Beta_matrix[2])\n",
    "print(f'Оценка вектора beta: {beta_new}')\n",
    "\n",
    "X_range = np.linspace(min(X), max(X), 100)\n",
    "Y_predicted = [beta_0 + beta_1 * x + beta_2 * x**2 for x in X_range]\n",
    "\n",
    "plt.scatter(X, Y)\n",
    "plt.plot(X_range, Y_predicted, color='red')\n",
    "plt.xlabel('X')\n",
    "plt.ylabel('Y')\n",
    "plt.show()\n",
    "\n"
   ]
  },
  {
   "cell_type": "markdown",
   "metadata": {},
   "source": [
    "### 6. Построить несмещённую оценку дисперсии. Провести исследование нормальности ошибок как в пункте 2."
   ]
  },
  {
   "cell_type": "code",
   "execution_count": 237,
   "metadata": {},
   "outputs": [
    {
     "name": "stdout",
     "output_type": "stream",
     "text": [
      "Несмещенная оценка дисперсии: 52.52\n"
     ]
    }
   ],
   "source": [
    "\n",
    "unbiased_variance = np.linalg.norm(Y_matrix - X_matrix.T * Beta_matrix)**2/(len(X) - np.linalg.matrix_rank(X_matrix))\n",
    "\n",
    "print(f'Несмещенная оценка дисперсии: {unbiased_variance:.2f}')\n"
   ]
  },
  {
   "cell_type": "code",
   "execution_count": 238,
   "metadata": {},
   "outputs": [
    {
     "name": "stdout",
     "output_type": "stream",
     "text": [
      "Интервал         |   Фактическая частота   |   Теоретическая частота\n",
      "[-10, -4.6)\t\t 10\t\t 8.949283967715022\n",
      "[-4.6, 0.8)\t\t 14\t\t 14.057731176552815\n",
      "[0.8, 6.2)\t\t 11\t\t 12.996062882470572\n",
      "[6.2, 11.6)\t\t 8\t\t 7.070181287883454\n",
      "[11.6, 17.0)\t\t 2\t\t 2.736233042838707\n",
      "\n",
      "Статистика хи-квадрат: [10 14 11  8  2]\n",
      "\n",
      "Статистика хи-квадрат: 0.7505541153319146\n",
      "xi^2: 5.9886166940042465\n",
      "Нет оснований отклонить гипотезу о нормальности\n"
     ]
    }
   ],
   "source": [
    "mean_errors = 0\n",
    "std_errors = np.sqrt(unbiased_variance)\n",
    "\n",
    "intervals = [[-10, -10+2*h], [-10+2*h, -10+4*h], [-10+4*h, -10+6*h], [-10+6*h, -10+8*h], [-10+8*h, -10+10*h]]\n",
    "freq = [0] * len(intervals) \n",
    "freq_teor = [0] * len(intervals) \n",
    "\n",
    "print(\"Интервал         |   Фактическая частота   |   Теоретическая частота\")\n",
    "for i in range(len(intervals)):\n",
    "    a, b = intervals[i]\n",
    "    freq[i] += len([x for x in errors if (a <= x < b)])\n",
    "    freq_teor[i] += len(errors) * (sps.norm.cdf(b, loc=mean_errors, scale=std_errors) - sps.norm.cdf(a, loc=mean_errors, scale=std_errors))\n",
    "    if i == len(intervals) - 1:\n",
    "        freq_teor[i] += len(errors) * sps.norm.sf(b, loc=mean_errors, scale=std_errors)\n",
    "    print(f'[{round(a, 1)}, {round(b, 1)})\\t\\t {freq[i]}\\t\\t {freq_teor[i]}')\n",
    "\n",
    "freq = np.array(freq)\n",
    "freq_teor = np.array(freq_teor)\n",
    "chi_square = np.sum((freq - freq_teor) ** 2 / freq_teor)\n",
    "critical_value = sps.chi2.ppf(1 - alpha, df=len(freq) - 1)\n",
    "print(\"\\nСтатистика хи-квадрат:\", freq)\n",
    "print(\"\\nСтатистика хи-квадрат:\", chi_square)\n",
    "print(\"xi^2:\", critical_value)\n",
    "\n",
    "if chi_square > critical_value:\n",
    "    print(\"Гипотеза о нормальности отклоняется\")\n",
    "else:\n",
    "    print(\"Нет оснований отклонить гипотезу о нормальности\")"
   ]
  },
  {
   "cell_type": "code",
   "execution_count": 239,
   "metadata": {},
   "outputs": [
    {
     "data": {
      "image/png": "[encoded data removed]",
      "text/plain": [
       "<Figure size 640x480 with 1 Axes>"
      ]
     },
     "metadata": {},
     "output_type": "display_data"
    },
    {
     "name": "stdout",
     "output_type": "stream",
     "text": [
      "dfc: [[ 1  1  1  1  1  1  1  1  1  1  1  1  1  1  1  1  1  1  1  1  1  1  1  1\n",
      "   1  1  1  1  1  1  1  1  1  1  1  1  1  1  1  1  1  1  1  1  1  1  1  1\n",
      "   1  1]\n",
      " [ 5  5  2  4  4  5  1  3  0  1  3  4  5  1  3  1  0  0  5  0  5  4  5  2\n",
      "   4  0  5  2  5  4  5  5  2  1  2  3  1  4  5  5  1  5  0  3  5  1  4  4\n",
      "   4  3]\n",
      " [25 25  4 16 16 25  1  9  0  1  9 16 25  1  9  1  0  0 25  0 25 16 25  4\n",
      "  16  0 25  4 25 16 25 25  4  1  4  9  1 16 25 25  1 25  0  9 25  1 16 16\n",
      "  16  9]] 1.2994388784066297\n"
     ]
    }
   ],
   "source": [
    "# Вычисление ошибок регрессии\n",
    "errors = Y_matrix - X_matrix.T * Beta_matrix\n",
    "\n",
    "# Построение гистограммы\n",
    "plt.hist(errors, bins=[x / 10.0 for x in range(int(min(errors)) * 10, int(max(errors)) * 10 + 5, int(h * 10))], color='blue', edgecolor='black')\n",
    "plt.title('Histogram of Regression Errors')\n",
    "plt.xlabel('Ошибки')\n",
    "plt.ylabel('Частота')\n",
    "plt.show()\n",
    "\n",
    "\n"
   ]
  },
  {
   "cell_type": "markdown",
   "metadata": {},
   "source": [
    "Визуально оценивая распределение ошибок можно сказать что используя дополнительный член с $X^2$, распределение больше похоже на нормальное нежели в п.2"
   ]
  },
  {
   "cell_type": "markdown",
   "metadata": {},
   "source": [
    "### 7. В предположении нормальности ошибок построить доверительные интервалы для параметров $\\beta_0, \\beta_1, \\beta_2$ уровня доверия $1 - \\alpha$. Написать уравнение доверительного эллипсоида уровня доверия $1 - \\alpha$"
   ]
  },
  {
   "cell_type": "code",
   "execution_count": 256,
   "metadata": {},
   "outputs": [
    {
     "name": "stdout",
     "output_type": "stream",
     "text": [
      "Доверительный интервал для beta_0: [11.987294126535621, 18.736200665295545]\n",
      "Доверительный интервал для beta_1: [12.274545369010879, 18.448949422820288]\n",
      "Доверительный интервал для beta_2: [14.80190613285896, 15.921588658972208]\n",
      "Уравнение доверительного эллипсоида: x^2/4.039543967389468 + y^2/0.32735364403480294 = 1\n"
     ]
    }
   ],
   "source": [
    "r = np.linalg.matrix_rank(X_matrix)\n",
    "\n",
    "x_alpha = sps.t.ppf(1 - alpha/2, df = n - r)\n",
    "C = np.matrix([[1], [0], [0]])\n",
    "b_psi = float(C.T * np.linalg.inv(X_matrix * X_matrix.T) * C)\n",
    "confidence_interval_beta_0 = [beta_0 - x_alpha * np.sqrt(unbiased_variance) * np.sqrt(b_psi), beta_0 + x_alpha * np.sqrt(unbiased_variance) * np.sqrt(b_psi)]\n",
    "\n",
    "C = np.matrix([[0], [1], [0]])\n",
    "b_psi = float(C.T * np.linalg.inv(X_matrix * X_matrix.T) * C)\n",
    "confidence_interval_beta_1 = [beta_0 - x_alpha * np.sqrt(unbiased_variance) * np.sqrt(b_psi), beta_0 + x_alpha * np.sqrt(unbiased_variance) * np.sqrt(b_psi)]\n",
    "\n",
    "C = np.matrix([[0], [0], [1]])\n",
    "b_psi = float(C.T * np.linalg.inv(X_matrix * X_matrix.T) * C)\n",
    "confidence_interval_beta_2 = [beta_0 - x_alpha * np.sqrt(unbiased_variance) * np.sqrt(b_psi), beta_0 + x_alpha * np.sqrt(unbiased_variance) * np.sqrt(b_psi)]\n",
    "\n",
    "\n",
    "# Доверительный эллипс\n",
    "semi_axes = np.sqrt(np.diag(cov_matrix))\n",
    "\n",
    "# Вывод результатов\n",
    "print(f'Доверительный интервал для beta_0: {confidence_interval_beta_0}')\n",
    "print(f'Доверительный интервал для beta_1: {confidence_interval_beta_1}')\n",
    "print(f'Доверительный интервал для beta_2: {confidence_interval_beta_2}')\n",
    "print(f\"Уравнение доверительного эллипсоида: x^2/{semi_axes[0]**2} + y^2/{semi_axes[1]**2} = 1\")\n",
    "\n",
    "\n"
   ]
  },
  {
   "cell_type": "markdown",
   "metadata": {},
   "source": [
    "### 8. Сформулировать гипотезу линейной регрессионной зависимости переменной $Y$ от переменной $X$ и проверить её значимость на уровне $\\alpha$.\n"
   ]
  },
  {
   "cell_type": "code",
   "execution_count": 270,
   "metadata": {},
   "outputs": [
    {
     "name": "stdout",
     "output_type": "stream",
     "text": [
      "Оценка вектора beta для модели с X: (13.584658963846438, 0.09448378680581582, 0)\n",
      "Статистика F: 0.3878949054522534\n",
      "x_alpha: 1.6658304737978833\n",
      "Нет оснований отвергнуть гипотезу\n"
     ]
    }
   ],
   "source": [
    "X_matrix_h = np.matrix([[1] * len(X), X]) \n",
    "\n",
    "Beta_h_matrix = np.linalg.inv(X_matrix_h * X_matrix_h.T) * X_matrix_h * Y_matrix\n",
    "\n",
    "\n",
    "beta_0_h = float(Beta_h_matrix[0])\n",
    "beta_1_h = float(Beta_h_matrix[1])\n",
    "beta_2_h = 0\n",
    "\n",
    "Beta_h_matrix = np.matrix([[beta_0_h], [beta_1_h], [beta_2_h]])\n",
    "\n",
    "# Расчет статистики F\n",
    "F_statistic = (np.linalg.norm(Y_matrix - X_matrix.T * Beta_h_matrix)**2 - np.linalg.norm(Y_matrix - X_matrix.T * Beta_matrix)**2)/len(Beta_matrix)/unbiased_variance\n",
    "# Вывод результатов\n",
    "print(f'Оценка вектора beta для модели с X: ({beta_0_h}, {beta_1_h}, {beta_2_h})')\n",
    "print(f'Статистика F: {F_statistic}')\n",
    "print(f'x_alpha: {sps.f.ppf(1 - alpha, dfn=2, dfd=len(X) - 3)}')\n",
    "\n",
    "# Проверка гипотезы\n",
    "if F_statistic > sps.f.ppf(1 - alpha, dfn=2, dfd=len(X) - 3):\n",
    "    print(\"Гипотеза отвергается\")\n",
    "else:\n",
    "    print(\"Нет оснований отвергнуть гипотезу\")    \n"
   ]
  },
  {
   "cell_type": "markdown",
   "metadata": {},
   "source": [
    "## Выводы\n",
    "\n",
    "В ходе практической работы были изучены основы линейной регрессии и метода наименьших квадратов (МНК). Построены модели линейной и квадратичной зависимостей между переменными X и Y, а также проведена проверка нормальности ошибок. Анализ показал, что квадратичная зависимость может лучше аппроксимировать данные. Однако, результаты проверок гипотез не всегда были однозначными. Построены доверительные интервалы и эллипсоиды для параметров моделей"
   ]
  }
 ],
 "metadata": {
  "kernelspec": {
   "display_name": "Python 3 (ipykernel)",
   "language": "python",
   "name": "python3"
  },
  "language_info": {
   "codemirror_mode": {
    "name": "ipython",
    "version": 3
   },
   "file_extension": ".py",
   "mimetype": "text/x-python",
   "name": "python",
   "nbconvert_exporter": "python",
   "pygments_lexer": "ipython3",
   "version": "3.11.4"
  }
 },
 "nbformat": 4,
 "nbformat_minor": 4
}
