{
 "cells": [
  {
   "cell_type": "markdown",
   "metadata": {},
   "source": [
    "# Практическая работа №2: Классические методы математической статистики\n",
    "Выполнил студент гр. 1375 Андерсон Алексей. Вариант №2"
   ]
  },
  {
   "cell_type": "markdown",
   "metadata": {},
   "source": [
    "## Цель работы\n",
    "Научится применять методы математической статистики для решения задач статистического анализа; сформировать навыки реализации методов с помощью прикладных программных пакетов."
   ]
  },
  {
   "cell_type": "markdown",
   "metadata": {},
   "source": [
    "## Основные теоретические положения\n",
    "\n",
    "### 1. Выборочные числовые характеристики:\n",
    "\n",
    "- **Мат.ожидание:**\n",
    "  $$\\overline{X}=\\frac{1}{n}\\sum_{i=1}^{n}X_{i}$$\n",
    "\n",
    "- **Дисперсия:**\n",
    "  $$S^{2}=\\frac{1}{n}\\sum_{i=1}^{n}\\left( X_{i}-\\overline{X} \\right)^{2}=\\overline{X^{2}}-\\overline{X}^{2}$$\n",
    "\n",
    "### 2. Оценка максимального правдоподобия (ОМП):\n",
    "\n",
    "- **Функция правдоподобия:**\n",
    "  $$L(\\overrightarrow{X},\\theta)=\\prod_{i=1}^{n}P_{\\theta}(X_{i})$$\n",
    "\n",
    "- **Логарифм функции правдоподобия:**\n",
    "  $$LL(\\overrightarrow{X},\\theta)=\\ln L(\\overrightarrow{X},\\theta)=\\sum_{i=1}^{n}\\ln P_{\\theta}(X_{i})$$\n",
    "\n",
    "- **Максимизация логарифма функции правдоподобия:**\n",
    "  $$\\frac{\\partial }{\\partial \\theta}LL(\\overrightarrow{X},\\theta)=0, \\quad i=\\overline{1,d}$$\n",
    "\n",
    "### 3. Оценка метода моментов (ОММ):\n",
    "\n",
    "- Если $\\exists$ единственное решение $\\widetilde{\\theta}(X)$ системы уравнений:\n",
    "  $$\\widehat{\\mu^{k}}(\\widetilde{\\theta})=\\mu_{k}(\\theta), \\quad k=\\overline{1,d}$$\n",
    "  то $\\widetilde{\\theta}(X)$ называется оценкой по методу моментов.\n",
    "\n",
    "### 4. НРМД-оценки (несмещенная оценка):\n",
    "\n",
    "- Оценка $\\widehat{\\theta}(X)$ параметра $\\theta$ называется несмещенной, если:\n",
    "  $$\\mathbb{E}\\widehat{\\theta}(X)=\\theta$$\n",
    "\n",
    "### 5. Асимптотический доверительный интервал (АДИ):\n",
    "\n",
    "#### 5.1 На базе Асимптотической нормальности оценки $\\widehat{\\theta}$\n",
    "\n",
    "- Асимптотическая нормальность:\n",
    "  $$\\sqrt{n}\\left( \\widehat{\\theta}(\\overrightarrow{X})-\\theta)\\right)\\sim \\mathcal{N}\\left(0,\\sigma^{2}(\\theta)\\right)$$\n",
    "\n",
    "- АДИ:\n",
    "  $$ \\widehat{\\theta}(\\overrightarrow{X})-\\frac{X_{\\alpha}\\cdot \\sigma\\left( \\widehat{\\theta}(\\overrightarrow{X}) \\right)}{\\sqrt{n}}; \\widehat{\\theta}(\\overrightarrow{X})+\\frac{X_{\\alpha}\\cdot \\sigma\\left( \\widehat{\\theta}(\\overrightarrow{X}) \\right)}{\\sqrt{n}}$$\n",
    "\n",
    "#### 5.2 на базе ОМП\n",
    "\n",
    "- Асимптотическая нормальность:\n",
    "  $$\\sqrt{n\\cdot I\\left( \\widehat{\\theta}(\\overrightarrow{X}) \\right)}\\cdot \\left( \\widehat{\\theta}(\\overrightarrow{X})-\\theta \\right)\\sim \\mathcal{N}(0,1)$$\n",
    "\n",
    "- АДИ:\n",
    "  $$ \\widehat{\\theta}(\\overrightarrow{X})-\\frac{X_{\\alpha}}{\\sqrt{n\\cdot I\\left( \\widehat{\\theta}(\\overrightarrow{X}) \\right)}};\\widehat{\\theta}(\\overrightarrow{X})+\\frac{X_{\\alpha}}{\\sqrt{n\\cdot I\\left( \\widehat{\\theta}(\\overrightarrow{X}) \\right)}} $$\n",
    "\n",
    "### 6. Критерий $\\chi^2$ для проверки гипотез:\n",
    "\n",
    "- Статистика критерия:\n",
    "  $$\\chi^{2}_{набл} = \\sum \\limits_{i=1}^{N} \\frac{(n_{i} - p_{i} n)^{2}}{n p_{i}} \\sim \\chi^{2}_{N-1}$$\n",
    "\n",
    "### 7. Теорема Колмогорова:\n",
    "\n",
    "- Статистика Колмогорова:\n",
    "  $$D_{n}(\\overrightarrow{X}) = \\overset{}{\\underset{-\\infty \\lt X\\lt \\infty}{sup}} |F_{n}(X) - F(X)|$$\n",
    "\n",
    "### 8. Наиболее мощный критерий простой гипотезы:\n",
    "\n",
    "- Статистика отношения правдоподобия:\n",
    "  $$\\mathrm{LR}(\\overrightarrow{X},\\theta_{1},\\theta_{0})=\\frac{L(\\overrightarrow{X},\\theta_{1})}{L(\\overrightarrow{X},\\theta_{0})}=\\frac{P_{\\theta_{1}}(X)}{P_{\\theta_{0}}(X)}$$\n",
    "\n",
    "- Критическая область:\n",
    "  $$\\mathrm{LR}(\\overrightarrow{X},\\theta_{1},\\theta_{0})\\gt c$$\n",
    "\n",
    "\n"
   ]
  },
  {
   "cell_type": "markdown",
   "metadata": {},
   "source": [
    "## Постановка задачи\n",
    "Для полученных в результате эксперимента наборов данных выполнить статистическую обработку. Полученные результаты содержательно проинтерпретировать."
   ]
  },
  {
   "cell_type": "markdown",
   "metadata": {},
   "source": [
    "## Выполнение работы\n",
    "### 1.a) Построить вариационный ряд, эмпирическую функцию распределения и гистограмму частот."
   ]
  },
  {
   "cell_type": "code",
   "execution_count": 216,
   "metadata": {},
   "outputs": [
    {
     "name": "stdout",
     "output_type": "stream",
     "text": [
      "Вариационный ряд:\n",
      "0 0 0 0 1 1 1 1 1 1 2 2 2 2 2 2 2 2 3 3 3 3 3 3 3 3 3 3 3 3 4 4 4 4 4 4 4 4 4 4 5 5 5 5 5 5 5 6 6 6 "
     ]
    }
   ],
   "source": [
    "import matplotlib.pyplot as plt\n",
    "import numpy as np\n",
    "import scipy.stats as sp\n",
    "\n",
    "# Результаты эксперимента\n",
    "data = [5, 3, 2, 1, 0, 6, 1, 2, 2, 0, 3, 1, 1, 1, 3, 3, 3, 5, 5, 2, 4, 5, 3, 5, 5, 4, 3, 3, 3, 0, 6, 1, 3, 4, 2, 5, 4, 4, 4, 4, 2, 3, 4, 0, 4, 2, 4, 2, 6, 3]\n",
    "\n",
    "# Сортируем данные для построения вариационного ряда\n",
    "sorted_data = sorted(data)\n",
    "\n",
    "# Вариационный ряд\n",
    "print('Вариационный ряд:')\n",
    "for i, value in enumerate(sorted_data):\n",
    "    print( value, end = \" \")\n",
    "\n"
   ]
  },
  {
   "cell_type": "code",
   "execution_count": 35,
   "metadata": {},
   "outputs": [
    {
     "data": {
      "image/png": "[encoded data removed]",
      "text/plain": [
       "<Figure size 640x480 with 1 Axes>"
      ]
     },
     "metadata": {},
     "output_type": "display_data"
    }
   ],
   "source": [
    "ecdf = np.cumsum(np.ones_like(sorted_data)) / len(sorted_data)\n",
    "\n",
    "\n",
    "plt.step(sorted_data, ecdf, where='post', color='blue', linewidth=2)\n",
    "plt.title('Эмпирическая функция распределения')\n",
    "plt.xlabel('x')\n",
    "plt.ylabel('F(x)')\n",
    "plt.show()\n"
   ]
  },
  {
   "cell_type": "code",
   "execution_count": 55,
   "metadata": {
    "scrolled": true
   },
   "outputs": [
    {
     "data": {
      "image/png": "[encoded data removed]",
      "text/plain": [
       "<Figure size 640x480 with 1 Axes>"
      ]
     },
     "metadata": {},
     "output_type": "display_data"
    }
   ],
   "source": [
    "# Гистограмма частот\n",
    "plt.hist(data, bins=range(min(data), max(data) + 2), align='left', alpha=0.7, rwidth=1, color='blue', edgecolor='black')\n",
    "plt.title('Гистограмма частот')\n",
    "plt.show()"
   ]
  },
  {
   "cell_type": "markdown",
   "metadata": {},
   "source": [
    "### 1.b Вычислить выборочные аналоги следующих числовых характеристик:"
   ]
  },
  {
   "cell_type": "code",
   "execution_count": 31,
   "metadata": {},
   "outputs": [
    {
     "name": "stdout",
     "output_type": "stream",
     "text": [
      "Математическое ожидание: 3.02\n",
      "Дисперсия: 2.7138775510204085\n",
      "СКО: 1.6473850645858146\n",
      "Медиана: 3.0\n",
      "Коэффициент асимметрии: -0.11518184597243936\n",
      "Коэффициент эксцесса: -0.7530718775035088\n",
      "Вероятность P(X ∈ (1.61, 4.04)): 0.6\n"
     ]
    }
   ],
   "source": [
    "from scipy.stats import skew, kurtosis, norm\n",
    "\n",
    "# Вычисление математического ожидания\n",
    "mean_value = np.mean(data)\n",
    "\n",
    "# Вычисление дисперсии\n",
    "variance = np.var(data, ddof=1)\n",
    "\n",
    "# Вычисление СКО (стандартное отклонение)\n",
    "std_deviation = np.std(data, ddof=1)\n",
    "\n",
    "# Вычисление медианы\n",
    "median_value = np.median(data)\n",
    "\n",
    "# Вычисление асимметрии\n",
    "skewness = skew(data)\n",
    "\n",
    "# Вычисление эксцесса\n",
    "kurt = kurtosis(data)\n",
    "\n",
    "# Вычисление вероятности P(X ∈ (a, b))\n",
    "a, b = 1.61 , 4.04\n",
    "probability = np.sum((data > a) & (data < b)) / len(data)\n",
    "\n",
    "# Вывод результатов\n",
    "print(f\"Математическое ожидание: {mean_value}\")\n",
    "print(f\"Дисперсия: {variance}\")\n",
    "print(f\"СКО: {std_deviation}\")\n",
    "print(f\"Медиана: {median_value}\")\n",
    "print(f\"Коэффициент асимметрии: {skewness}\")\n",
    "print(f\"Коэффициент эксцесса: {kurt}\")\n",
    "print(f\"Вероятность P(X ∈ ({a}, {b})): {probability}\")\n"
   ]
  },
  {
   "cell_type": "markdown",
   "metadata": {},
   "source": [
    "#### Расшифровка встроенных функций Python:\n",
    "\n",
    "Математическое ожидание : $\\overline{X} =\\frac{1}{n}\\sum_{i=1}^{n}x_i$\n",
    "\n",
    "Дисперсия : $S^2 =\\frac{1}{n}\\sum_{i=1}^{n}\\left(x_i-\\overline{X}\\right)$\n",
    "\n",
    "СКО : $S=\\sqrt{S^2}$\n",
    "\n",
    "Коэфициент асимметрии : $\\widehat{\\mathrm{Skew}}X=\\frac{1}{n}\\frac{\\sum \\limits_{i=1}^{n}\\left(x_i-\\overline{X}\\right)^3}{S^3}$\n",
    "\n",
    "Коэффициент эксцесса: $\\widehat{\\mathrm{Kurt}}X=\\frac{1}{n}\\frac{\\sum \\limits_{i=1}^{n}\\left(x_i-\\overline{X}\\right)^4}{S^4}$"
   ]
  },
  {
   "cell_type": "markdown",
   "metadata": {},
   "source": [
    "### 1.c В предположении, что исходные наблюдения являются выборкой из распределения Пуассона, построить оценку максимального правдоподобия параметра $\\lambda$, а также оценку $\\lambda$ по методу моментов. Найти смещение оценок."
   ]
  },
  {
   "cell_type": "markdown",
   "metadata": {},
   "source": [
    "#### Плотность распределения Пуассона : $\\large q_{\\theta} = \\frac{\\lambda^x}{x!}e^{-\\lambda}$\n",
    "\n",
    "#### Функция правдоподобия : $ L\\left(\\vec{X}, \\theta \\right) =\\prod\\limits_{i = 1}^nq_{\\theta}\\left(\\normalsize x_i\\right)=\\prod\\limits_{i = 1}^n\\frac{\\lambda^x_i}{x_i!}e^{-\\lambda} = \\large \\lambda^{\\sum \\limits_{i=1}^{n}x_i} \\cdot e^{-n\\lambda} \\cdot \\prod\\limits_{i = 1}^n\\frac{1}{x_i!}$ \n",
    "\n",
    "#### Логарифмирование функции правдоподобия : $LL\\left(\\vec{X}, \\theta \\right) = \\sum \\limits_{i=1}^{n}x_i \\cdot \\ln{\\lambda} - n\\lambda + \\ln{\\left(\\prod\\limits_{i = 1}^n\\frac{1}{\\large x_i!}\\right)}$\n",
    "\n",
    "#### Нахождение частной производной по $\\lambda$: $\\Large \\frac{\\partial LL}{\\partial \\lambda} = \\frac{\\sum \\limits_{i=1}^{n}x_i}{\\lambda} \\normalsize - n  \\Rightarrow \\widehat{\\theta} = \\widehat{\\lambda} = \\overline{X}$ \n",
    "\n",
    "#### Нахождение смещения оценки: $\\large \\mathbb{E}_{\\theta}\\widehat{\\theta} = \\mathbb{E}_{\\theta}\\overline{X} = \\mathbb{E}_{\\theta}\\frac{1}{n}\\sum \\limits_{i=1}^{n}x_i = \\frac{1}{n} \\cdot \\normalsize n \\cdot \\lambda = \\lambda$\n",
    "\n",
    "#### Оценка $\\lambda$ по методу моментов:\n",
    " $\\mathbb{E}X_1 = \\lambda$\n",
    " \n",
    " $\\mathrm{M_1} =\\frac{1}{n}\\sum_{i=1}^{n}x_i = \\overline{X} \\Rightarrow$ ОМП и ОММ совпали $\\Rightarrow$ОММ также является несмещенной\n",
    " \n",
    " $\\widetilde{\\theta} = \\widetilde{\\lambda} = \\overline{X}$"
   ]
  },
  {
   "cell_type": "markdown",
   "metadata": {},
   "source": [
    "### 1.d Построить асимптотичексий доверительный интервал уровня значимости $\\alpha_1 = 0.05$ для параметра $\\lambda$ на базе оценки максимального правдоподобия. \n",
    "\n",
    " $\\widetilde{\\theta} = \\widetilde{\\lambda} = \\overline{X}$\n",
    " \n",
    " $\\sqrt{n}\\left(\\bar{X} - \\theta\\right) \\sim \\mathcal{N} \\left(0, \\frac{1}{I(\\theta))}\\right)$\n",
    "\n",
    "$I_n(\\theta) = -\\mathbb{E}_{\\theta}\\frac{\\partial^2 LL\\left(\\overrightarrow X,\\ \\theta\\right)}{\\partial \\theta^2} = \\mathbb{E}_{\\theta}\\frac{\\sum_{i=1}^{n}{x_i}}{\\lambda^2} = \\frac{n\\lambda}{\\lambda^2} = \\frac{n}{\\lambda}$\n",
    "\n",
    "$I(\\theta) = {\\lim_{n \\to \\infty}}\\frac{1}{\\lambda} = \\frac{1}{\\lambda}$\n",
    "\n",
    "\n",
    "$\\sqrt{\\frac{n}{\\bar{X}}}\\left(\\bar{X} - \\theta\\right) \\sim \\mathcal{N} \\left(0, 1\\right)$\n",
    "\n",
    "$x_{\\alpha} : \\mathrm{\\Phi}(x_{\\alpha}) = 1 - \\frac{\\alpha}{2} = 1 - \\frac{0.05}{2} = 0.975$"
   ]
  },
  {
   "cell_type": "code",
   "execution_count": 33,
   "metadata": {},
   "outputs": [
    {
     "data": {
      "text/plain": [
       "1.959963984540054"
      ]
     },
     "execution_count": 33,
     "metadata": {},
     "output_type": "execute_result"
    }
   ],
   "source": [
    " norm.ppf(0.975)"
   ]
  },
  {
   "cell_type": "markdown",
   "metadata": {},
   "source": [
    "$x_\\alpha \\approx 1.96$\n"
   ]
  },
  {
   "cell_type": "markdown",
   "metadata": {},
   "source": [
    "$P_\\theta\\left(-x_\\alpha \\le \\sqrt{\\frac{n}{\\bar{X}}}\\left(\\bar{X} - \\theta\\right) \\le x_\\alpha\\right) \\approx 1 - \\alpha = 0.98$\n",
    "\n",
    "$\\left[\\bar{X} - x_\\alpha\\sqrt{\\frac{\\bar{X}}{n}}, \\bar{X} + x_\\alpha\\sqrt{\\frac{\\bar{X}}{n}}\\right] \\ni \\lambda$\n",
    "\n",
    "\n",
    "$\\left[3.02 - 1.96\\sqrt{\\frac{3.02}{50}}; 3.02 + 1.96\\sqrt{\\frac{3.02}{50}}\\right] \\ni \\lambda$\n",
    "\n",
    "$\\left[2.538; 3.502\\right] \\ni \\lambda$"
   ]
  },
  {
   "cell_type": "markdown",
   "metadata": {},
   "source": [
    "### 1.е Используя гистограмму частот, построить критерий значимости $\\chi^2$ проверки простой гипотезы согласия с распределением Пуассона с параметром $\\lambda_0 = 6.00$. Проверить гипотезу на уровне значимости $\\alpha_1 = 0.05$. Вычислить наибольшее значение уровня значимости, на котором ещё нет оснований отвергнуть данную гипотезу."
   ]
  },
  {
   "cell_type": "code",
   "execution_count": 81,
   "metadata": {},
   "outputs": [
    {
     "name": "stdout",
     "output_type": "stream",
     "text": [
      "       x |       P |                  n*P\n",
      "[0 , 0 ] |       4 |  0.12393760883331792\n",
      "[1 , 2 ] |      14 |   2.9745026119996294\n",
      "[3 , 4 ] |      22 |   11.154384794998613\n",
      "[5 , 6 ] |      10 |    35.74717498416843\n",
      "\n",
      "Статистика хи-квадрат: 191.17901538632054\n"
     ]
    }
   ],
   "source": [
    "import numpy as np\n",
    "import scipy.stats as sps\n",
    "\n",
    "#параметры распределения Пуассона\n",
    "lambda_param = 6\n",
    "intervals = [[0], [1, 2], [3, 4], [5, 6]]\n",
    "\n",
    "#массивы для экспериментальных и гипотетических частот\n",
    "observed_freq = np.zeros(len(intervals), dtype=int)\n",
    "expected_freq_poisson = np.zeros(len(intervals))\n",
    "\n",
    "print(\"{:>8} | {:>7} | {:>20}\".format(\"x\", \"P\", \"n*P\"))\n",
    "\n",
    "#частоты для каждого интервала\n",
    "for i in range(len(intervals)):\n",
    "    start, end = intervals[i][0], intervals[i][-1]\n",
    "    \n",
    "    #частота каждого значения в интервале\n",
    "    for val in intervals[i]:\n",
    "        observed_freq[i] += np.sum(data == val)\n",
    "        expected_freq_poisson[i] += len(data) * sps.poisson.pmf(val, lambda_param)\n",
    "    \n",
    "    #вывод\n",
    "    if i == len(intervals) - 1:\n",
    "        expected_freq_poisson[i] += len(data) * sps.poisson.sf(end, lambda_param)\n",
    "        print(\"[{:<2}, {:<2}] | {:>7} | {:>20}\".format(start, end, observed_freq[i], expected_freq_poisson[i]))\n",
    "    else:\n",
    "        print(\"[{:<2}, {:<2}] | {:>7} | {:>20}\".format(start, end, observed_freq[i], expected_freq_poisson[i]))\n",
    "\n",
    "#статистика хи-квадрат\n",
    "chi_square_statistic = np.sum((observed_freq - expected_freq_poisson) ** 2 / expected_freq_poisson)\n",
    "print(\"\\nСтатистика хи-квадрат:\", chi_square_statistic)\n"
   ]
  },
  {
   "cell_type": "markdown",
   "metadata": {},
   "source": [
    "$x_{\\alpha_1} : K_{r-d-1}(x_{\\alpha_1}) = 1 - \\alpha_1$\n"
   ]
  },
  {
   "cell_type": "code",
   "execution_count": 87,
   "metadata": {},
   "outputs": [
    {
     "data": {
      "text/plain": [
       "7.814727903251179"
      ]
     },
     "execution_count": 87,
     "metadata": {},
     "output_type": "execute_result"
    }
   ],
   "source": [
    "sps.chi2.ppf(1 - alpha_1, df = len(observed_freq) - 1)"
   ]
  },
  {
   "cell_type": "markdown",
   "metadata": {},
   "source": [
    "$x_{\\alpha_1} \\approx 7.8$\n",
    "\n",
    "$\\chi^2 \\approx 191.2$\n",
    "\n",
    "$\\chi^2 > x_{\\alpha_1} \\Rightarrow$ Гипотеза отвергается"
   ]
  },
  {
   "cell_type": "code",
   "execution_count": 89,
   "metadata": {},
   "outputs": [
    {
     "name": "stdout",
     "output_type": "stream",
     "text": [
      "Наибольший уровень значимости:  -3.987424539858564e-16\n"
     ]
    }
   ],
   "source": [
    "alpha = alpha_1\n",
    "step = 0.0001\n",
    "while chi > chi2.ppf(1 - alpha, df = len(observed_freq) - 1):\n",
    "    alpha -= step\n",
    "print('Наибольший уровень значимости: ', alpha)"
   ]
  },
  {
   "cell_type": "markdown",
   "metadata": {},
   "source": [
    "### 1.f Построить критерий значимости $\\chi^2$ проверки сложной гипотезы согласия с распределением Пуассона. Проверить гипотезу на уровне значимости $\\alpha_1 = 0.05$. Вычислить наибольшее значение значение уровня значимости, на котором ещё нет оснований отвергнуть данную гипотезу."
   ]
  },
  {
   "cell_type": "markdown",
   "metadata": {},
   "source": [
    "Пусть  $\\lambda = \\overline{X}$ "
   ]
  },
  {
   "cell_type": "code",
   "execution_count": 94,
   "metadata": {},
   "outputs": [
    {
     "name": "stdout",
     "output_type": "stream",
     "text": [
      "       x |       P |                  n*P\n",
      "[0 , 0 ] |       4 |   2.4400609181006483\n",
      "[1 , 2 ] |      14 |   18.496149771386534\n",
      "[3 , 4 ] |      22 |   19.658363816603178\n",
      "[5 , 6 ] |      10 |    9.405425493909652\n",
      "\n",
      "Статистика хи-квадрат: 2.4067383158740236\n"
     ]
    }
   ],
   "source": [
    "import numpy as np\n",
    "import scipy.stats as sps\n",
    "\n",
    "#параметры распределения Пуассона\n",
    "lambda_param = 3.02\n",
    "intervals = [[0], [1, 2], [3, 4], [5, 6]]\n",
    "\n",
    "#массивы для экспериментальных и гипотетических частот\n",
    "observed_freq = np.zeros(len(intervals), dtype=int)\n",
    "expected_freq_poisson = np.zeros(len(intervals))\n",
    "\n",
    "print(\"{:>8} | {:>7} | {:>20}\".format(\"x\", \"P\", \"n*P\"))\n",
    "\n",
    "#частоты для каждого интервала\n",
    "for i in range(len(intervals)):\n",
    "    start, end = intervals[i][0], intervals[i][-1]\n",
    "    \n",
    "    #частота каждого значения в интервале\n",
    "    for val in intervals[i]:\n",
    "        observed_freq[i] += np.sum(data == val)\n",
    "        expected_freq_poisson[i] += len(data) * sps.poisson.pmf(val, lambda_param)\n",
    "    \n",
    "    #вывод\n",
    "    if i == len(intervals) - 1:\n",
    "        expected_freq_poisson[i] += len(data) * sps.poisson.sf(end, lambda_param)\n",
    "        print(\"[{:<2}, {:<2}] | {:>7} | {:>20}\".format(start, end, observed_freq[i], expected_freq_poisson[i]))\n",
    "    else:\n",
    "        print(\"[{:<2}, {:<2}] | {:>7} | {:>20}\".format(start, end, observed_freq[i], expected_freq_poisson[i]))\n",
    "\n",
    "#статистика хи-квадрат\n",
    "chi_square_statistic = np.sum((observed_freq - expected_freq_poisson) ** 2 / expected_freq_poisson)\n",
    "print(\"\\nСтатистика хи-квадрат:\", chi_square_statistic)\n"
   ]
  },
  {
   "cell_type": "markdown",
   "metadata": {},
   "source": [
    "$x_{\\alpha_1} : K_{r-d-1}(x_{\\alpha_1}) = 1 - \\alpha_1$"
   ]
  },
  {
   "cell_type": "code",
   "execution_count": 96,
   "metadata": {},
   "outputs": [
    {
     "data": {
      "text/plain": [
       "5.991464547107979"
      ]
     },
     "execution_count": 96,
     "metadata": {},
     "output_type": "execute_result"
    }
   ],
   "source": [
    "sps.chi2.ppf(1 - alpha_1, df = len(observed_freq) - 2)"
   ]
  },
  {
   "cell_type": "markdown",
   "metadata": {},
   "source": [
    "$x_{\\alpha_1} \\approx 6.0$\n",
    "\n",
    "$\\chi^2 \\approx 2.4$\n",
    "\n",
    "$\\chi^2 < x_{\\alpha_1} \\Rightarrow$ Гипотеза принимается"
   ]
  },
  {
   "cell_type": "markdown",
   "metadata": {},
   "source": [
    "### 1.g Построить наиболее мощный критерий проверки простой гипотезы пуассоновости с параметром $\\lambda = \\lambda_0 = 6.0$ при альтернативе пуассоновости с параметром $\\lambda = \\lambda_1 = 3.0$. Проверить гипотезу на уровне значимости $\\alpha_1 = 0.05$. Что получится, если поменять местами основную и альтернативную гипотезы?"
   ]
  },
  {
   "cell_type": "markdown",
   "metadata": {},
   "source": [
    "Основная гипотеза: $H_0 : \\lambda = \\lambda_0$\n",
    "\n",
    "Альтернативная гипотеза: $H_A : \\lambda = \\lambda_1$\n",
    "\n",
    "Функция правдоподобия: $ L\\left(\\vec{X}, \\theta \\right) = \\large \\lambda^{\\sum \\limits_{i=1}^{n}x_i} \\cdot e^{-n\\lambda} \\cdot \\prod\\limits_{i = 1}^n\\frac{1}{x_i!}$\n",
    "\n",
    "*Статистика отношения правдоподобия:*\n",
    "\n",
    "$\\mathrm{LR}\\left(\\vec{X}, \\lambda_0, \\lambda_1\\right) = \\frac{\\mathrm{L}\\left(\\vec{X}, \\lambda_1\\right)}{\\mathrm{L}\\left(\\vec{X}, \\lambda_0\\right)} = \\left(\\frac{\\lambda_1}{\\lambda_0}\\right)^{\\sum \\limits_{i = 1}^n x_i} \\cdot \\exp{\\left(-n\\left(\\lambda_1 - \\lambda_0\\right)\\right)}$ - монотонная функция от МДС $\\bar{X}$\n",
    "\n",
    "$\\sum \\limits_{i = 1}^n x_i \\cdot \\ln{\\left(\\frac{\\lambda_1}{\\lambda_0}\\right)} + n\\left(\\lambda_0 - \\lambda_1\\right) > c$\n",
    "\n",
    "$\\sum \\limits_{i = 1}^n x_i \\cdot \\ln{\\left(\\frac{\\lambda_1}{\\lambda_0}\\right)} > c - n\\left(\\lambda_0 - \\lambda_1\\right)$\n",
    "\n",
    "Так как $\\lambda_0 > \\lambda_1$, то :\n",
    "\n",
    "$\\overline{X} < \\frac{c - n\\left(\\lambda_0 - \\lambda_1\\right)}{n \\cdot \\ln{\\left(\\frac{\\lambda_1}{\\lambda_0}\\right)}}$\n",
    "\n",
    "$LR\\left(\\overrightarrow{X}\\right) < c \\iff \\bar{X} < c^*$\n",
    "\n",
    " $P_{\\lambda_0}\\left(LR(\\overrightarrow{X}) > c\\right) + pP_{\\lambda_0}\\left(LR(\\overrightarrow{X}) = c\\right) = \\alpha_1$\n",
    "\n",
    "$P_{\\lambda_0}\\left(n\\bar{X} > nc^*\\right) + pP_{\\lambda_0}\\left(n\\bar{X} = nc^*\\right) = \\alpha_1$\n",
    "\n",
    "Критерий не определен однозначно при $LR(\\overrightarrow{X}) = c$\n",
    "\n",
    "Пусть $LR(\\overrightarrow{X}) \\neq c$\n",
    "\n",
    "Тогда $P_{\\lambda_0}\\left(n\\bar{X} > nc^*\\right) = 1 - F_{Pois(n\\lambda_0)}\\left(nc^*\\right) = \\alpha_1$\n",
    "\n",
    "$F_{Pois(n\\lambda_0)}\\left(nc^*\\right) = 1 - \\alpha_1 = 0.995$\n"
   ]
  },
  {
   "cell_type": "code",
   "execution_count": 98,
   "metadata": {},
   "outputs": [
    {
     "data": {
      "text/plain": [
       "3.68"
      ]
     },
     "execution_count": 98,
     "metadata": {},
     "output_type": "execute_result"
    }
   ],
   "source": [
    "sps.poisson.ppf(0.995, len(data)*lambda_param) / len(data)"
   ]
  },
  {
   "cell_type": "markdown",
   "metadata": {},
   "source": [
    "$c^* = 3.68$\n",
    "\n",
    "$\\bar{X} = 3.02$\n",
    "\n",
    "$c^* > \\bar{X} \\Rightarrow$ Принимается гипотеза $H_0$"
   ]
  },
  {
   "cell_type": "markdown",
   "metadata": {},
   "source": [
    "##### Смена гипотез местами\n",
    "\n",
    "Основная гипотеза: $H_0 : \\lambda = \\lambda_1$\n",
    "\n",
    "Альтернативная гипотеза: $H_A : \\lambda = \\lambda_0$\n",
    "\n",
    "Статистика отношения правдоподобия :\n",
    "\n",
    "$LR\\left(\\overrightarrow{X}, \\lambda_1, \\lambda_0\\right) = \\frac{L\\left(\\overrightarrow{X}, \\lambda_0\\right)}{L\\left(\\overrightarrow{X}, \\lambda_1\\right)} = \\exp(-n(\\lambda_0 - \\lambda_1))\\left(\\frac{\\lambda_0}{\\lambda_1}\\right)^{\\sum_{i=1}^{n}{x_i}}$\n",
    "\n",
    "Так как $LR\\left(\\overrightarrow{X}, \\lambda_1, \\lambda_0\\right)$ монотонна относительно МДС $\\bar{X}$\n",
    "\n",
    "$LR\\left(\\overrightarrow{X}\\right) > c \\iff \\bar{X} > c^*$\n",
    "\n",
    "$P_{\\lambda_1}\\left(LR(\\overrightarrow{X}) > c\\right) + pP_{\\lambda_1}\\left(LR(\\overrightarrow{X}) = c\\right) = \\alpha_1$\n",
    "\n",
    "$P_{\\lambda_1}\\left(n\\bar{X} > nc^*\\right) + pP_{\\lambda_1}\\left(n\\bar{X} = nc^*\\right) = \\alpha_1$\n",
    "\n",
    "Критерий не определен однозначно при $LR(\\overrightarrow{X}) = c$\n",
    "\n",
    "Пусть $LR(\\overrightarrow{X}) \\neq c$\n",
    "\n",
    "Тогда $P_{\\lambda_1}\\left(n\\bar{X} > nc^*\\right) = 1 - F_{Pois(n\\lambda_1)}\\left(nc^*\\right) = \\alpha_1$\n",
    "\n",
    "$F_{Pois(n\\lambda_1)}\\left(nc^*\\right) = 1 - \\alpha_1 = 0.995$"
   ]
  },
  {
   "cell_type": "code",
   "execution_count": 99,
   "metadata": {},
   "outputs": [
    {
     "data": {
      "text/plain": [
       "3.64"
      ]
     },
     "execution_count": 99,
     "metadata": {},
     "output_type": "execute_result"
    }
   ],
   "source": [
    "sps.poisson.ppf(0.995, len(data)*3) / len(data)"
   ]
  },
  {
   "cell_type": "markdown",
   "metadata": {},
   "source": [
    "$c^* = 3.64$\n",
    "\n",
    "$\\bar{X} = 3.02$\n",
    "\n",
    "$c^* > \\bar{X} \\Rightarrow$ Принимается гипотеза $H_0$"
   ]
  },
  {
   "cell_type": "markdown",
   "metadata": {},
   "source": [
    "### 1.h В пунктах (c) - (f) заменить семейство распределений Пуассона на семейство геометрических распределений: $$\\mathbb{P}_{\\lambda}\\left(X = k\\right) = \\frac{\\lambda^k}{(\\lambda + 1)^{k+1}}, k \\in \\mathbb{Z}_+$$"
   ]
  },
  {
   "cell_type": "markdown",
   "metadata": {},
   "source": [
    "#### 1.h.c\n",
    "\n",
    "$q_{\\theta}(x) = \\frac{\\lambda^x}{(\\lambda + 1)^{x+1}}$, где $x \\in \\mathbb{Z}_{+}$\n",
    "\n",
    "Оцениваемый параметр: $\\theta = \\lambda$\n",
    "\n",
    "Оценка по методу максимального правдоподобия:\n",
    "\n",
    "$L\\left(\\overrightarrow{X}, \\theta\\right) = \\prod_{i=1}^{n}\\frac{\\lambda^{x_i}}{(\\lambda + 1)^{x_i+1}} = \\frac{\\lambda^{\\sum_{i=1}^{n}x_i}}{(\\lambda + 1)^{n + \\sum_{i=1}^{n}x_i}}$\n",
    "\n",
    "$LL\\left(\\overrightarrow{X}, \\theta\\right) = \\sum_{i=1}^{n}x_i\\ \\ln\\lambda - \\left(n + \\sum_{i=1}^{n}x_i\\right)\\ln(\\lambda+1)$\n",
    "\n",
    "$\\frac{\\partial LL\\left(\\overrightarrow X,\\ \\theta\\right)}{\\partial \\theta} = \\frac{\\sum_{i=1}^{n}x_i}{\\lambda} - \\frac{n + \\sum_{i=1}^{n}x_i}{\\lambda + 1} = 0 \\implies n\\lambda+\\lambda\\sum_{i=1}^{n}x_i = \\lambda\\sum_{i=1}^{n}x_i + \\sum_{i=1}^{n}x_i \\implies \\hat{\\theta} = \\hat{\\lambda} = \\bar{X}$\n",
    "\n",
    "Смещение:\n",
    "\n",
    "$\\mathbb{E}_\\theta\\hat{\\lambda} = \\mathbb{E}_\\theta\\bar{X} = \\frac{1}{n}\\mathbb{E}_\\theta\\sum_{i=1}^{n}x_i = \\frac{1}{n}\\sum_{i=1}^{n}\\mathbb{E}_\\theta x_i = \\mathbb{E}_\\theta x_1 = \\sum_{i=1}^{\\infty}x_i\\frac{\\lambda^{x_i}}{(\\lambda + 1)^{x_i + 1}} = \\lim_{n \\to \\infty} \\sum_{i=1}^{n}x_i\\frac{\\lambda^{x_i}}{(\\lambda + 1)^{x_i + 1}} = \\\\ = \\lim_{n \\to \\infty} \\sum_{x=0}^{n-1}x\\frac{\\lambda^{x}}{(\\lambda + 1)^{x + 1}} = \\lim_{n \\to \\infty} \\left(\\lambda - \\lambda\\left(\\frac{\\lambda}{\\lambda + 1}\\right)^{n} - n\\left(\\frac{\\lambda}{\\lambda + 1}\\right)^{n}\\right) = \\lambda \\impliesнесмещенная$\n",
    "\n",
    "\n",
    "Оценка по методу моментов:\n",
    "\n",
    " $\\mathbb{E}X_1 = \\lambda$\n",
    " \n",
    " $\\mathrm{M_1} =\\frac{1}{n}\\sum_{i=1}^{n}x_i = \\overline{X} \\Rightarrow$ ОМП и ОММ совпали $\\Rightarrow$ОММ также является несмещенной\n",
    " \n",
    " $\\widetilde{\\theta} = \\widetilde{\\lambda} = \\overline{X}$\n",
    "\n",
    "Численное значение оценок: $\\hat{\\lambda} = \\bar{X} = 2.98$\n",
    "\n",
    "#### 1.h.d\n",
    "\n",
    "ОМП: $\\hat{\\theta}\\left(\\overrightarrow{X}\\right) = \\bar{X}$\n",
    "\n",
    "$\\sqrt{n}\\left(\\bar{X} - \\theta\\right) \\sim \\mathcal{N} \\left(0, \\frac{1}{I(\\theta))}\\right)$\n",
    "\n",
    "$I_n(\\theta) = -\\mathbb{E}_{\\theta}\\frac{\\partial^2 LL\\left(\\overrightarrow X,\\ \\theta\\right)}{\\partial \\theta^2} = \\mathbb{E}_{\\theta}\\left(\\frac{\\sum_{i=1}^{n}{x_i}}{\\lambda^2} - \\frac{n + \\sum_{i=1}^{n}{x_i}}{(\\lambda + 1)^2}\\right) = \\frac{1}{\\lambda^2}\\sum_{i=1}^{n}\\mathbb{E}_{\\theta}{x_i} - \\frac{1}{(\\lambda+1)^2}\\sum_{i=1}^{n}\\mathbb{E}_{\\theta}{x_i} - \\frac{n}{(\\lambda+1)^2} = \\frac{n}{\\lambda} - \\frac{n\\lambda}{(\\lambda+1)^2} - \\frac{n}{(\\lambda+1)^2}$\n",
    "\n",
    "$I(\\theta) = {\\lim_{n \\to \\infty}}\\frac{1}{\\lambda} - \\frac{\\lambda}{(\\lambda+1)^2} - \\frac{1}{(\\lambda+1)^2} = \\frac{1}{\\lambda} - \\frac{1}{\\lambda+1}$\n",
    "\n",
    "$I(\\hat{\\theta}) = \\frac{1}{\\bar{X}} - \\frac{1}{1 + \\bar{X}} = \\frac{1}{\\bar{X}(\\bar{X} + 1)}$\n",
    "\n",
    "$\\sqrt{\\frac{n}{\\bar{X}(\\bar{X} + 1)}}\\left(\\bar{X} - \\theta\\right) \\sim \\mathcal{N} \\left(0, 1\\right)$\n",
    "\n",
    " $\\Phi(x_\\alpha) = 1 - \\frac{\\alpha}{2} = 0.975$\n",
    "\n",
    "Тогда $P_\\theta\\left(-x_\\alpha \\le \\sqrt{\\frac{n}{\\bar{X}(\\bar{X} + 1)}}\\left(\\bar{X} - \\theta\\right) \\le x_\\alpha\\right) \\approx 1 - \\alpha = 0.995$\n",
    "\n",
    "$\\left[\\bar{X} - x_\\alpha\\sqrt{\\frac{\\bar{X}(\\bar{X}+1)}{n}}, \\bar{X} + x_\\alpha\\sqrt{\\frac{\\bar{X}(\\bar{X}+1)}{n}}\\right] \\ni \\lambda$"
   ]
  },
  {
   "cell_type": "code",
   "execution_count": 114,
   "metadata": {},
   "outputs": [
    {
     "name": "stdout",
     "output_type": "stream",
     "text": [
      "x_alpha =  1.959963984540054\n",
      "[ 2.05 , 3.99 ]\n"
     ]
    }
   ],
   "source": [
    "x_alpha = sps.norm.ppf(0.975)\n",
    "print(\"x_alpha = \",x_alpha)\n",
    "print(\"[\", round(3.02 - x_alpha*np.sqrt(3.02*(3.02 + 1)/50), 2),\",\", round(3.02 + x_alpha*np.sqrt(3.02*(3.02 + 1)/50), 2), \"]\")"
   ]
  },
  {
   "cell_type": "markdown",
   "metadata": {},
   "source": [
    "$\\left[2.05, 3.99\\right] \\ni \\lambda$"
   ]
  },
  {
   "cell_type": "markdown",
   "metadata": {},
   "source": [
    "#### 1.h.e\n",
    "\n",
    "Основная гипотеза: $H_0 : F \\equiv F_0(\\lambda_0)$\n",
    "\n",
    "Альтернативная гипотеза: $H_A : \\exists x : F(x) \\neq F_{\\lambda_0}(x)$"
   ]
  },
  {
   "cell_type": "code",
   "execution_count": 126,
   "metadata": {},
   "outputs": [
    {
     "name": "stdout",
     "output_type": "stream",
     "text": [
      "       x |       P |                  n*P\n",
      "[0 , 0 ] |       4 |    7.142857142857143\n",
      "[1 , 2 ] |      14 |   11.370262390670554\n",
      "[3 , 4 ] |      22 |    8.353662164574285\n",
      "[5 , 6 ] |      10 |   25.822245326812762\n",
      "\n",
      "Статистика хи-квадрат: 33.97826663717091\n"
     ]
    }
   ],
   "source": [
    "import numpy as np\n",
    "import scipy.stats as sps\n",
    "\n",
    "#параметры распределения Пуассона\n",
    "lambda_param = 6\n",
    "intervals = [[0], [1, 2], [3, 4], [5, 6]]\n",
    "\n",
    "#массивы для экспериментальных и гипотетических частот\n",
    "observed_freq = np.zeros(len(intervals), dtype=int)\n",
    "expected_freq_poisson = np.zeros(len(intervals))\n",
    "\n",
    "print(\"{:>8} | {:>7} | {:>20}\".format(\"x\", \"P\", \"n*P\"))\n",
    "\n",
    "#частоты для каждого интервала\n",
    "for i in range(len(intervals)):\n",
    "    start, end = intervals[i][0], intervals[i][-1]\n",
    "    \n",
    "    #частота каждого значения в интервале\n",
    "    for val in intervals[i]:\n",
    "        observed_freq[i] += np.sum(data == val)\n",
    "        expected_freq_poisson[i] += len(data) *  lambda_param ** val / (1 + lambda_param) ** (val + 1)\n",
    "    \n",
    "    #вывод\n",
    "    if i == len(intervals) - 1:\n",
    "        expected_freq_poisson[i] += len(data) * sps.poisson.sf(end, lambda_param)\n",
    "        print(\"[{:<2}, {:<2}] | {:>7} | {:>20}\".format(start, end, observed_freq[i], expected_freq_poisson[i]))\n",
    "    else:\n",
    "        print(\"[{:<2}, {:<2}] | {:>7} | {:>20}\".format(start, end, observed_freq[i], expected_freq_poisson[i]))\n",
    "\n",
    "#статистика хи-квадрат\n",
    "chi_square_statistic = np.sum((observed_freq - expected_freq_poisson) ** 2 / expected_freq_poisson)\n",
    "print(\"\\nСтатистика хи-квадрат:\", chi_square_statistic)\n"
   ]
  },
  {
   "cell_type": "markdown",
   "metadata": {},
   "source": [
    "$x_{\\alpha_1} : K_{r-d-1}(x_{\\alpha_1}) = 1 - \\alpha_1$"
   ]
  },
  {
   "cell_type": "code",
   "execution_count": 129,
   "metadata": {},
   "outputs": [
    {
     "data": {
      "text/plain": [
       "7.814727903251179"
      ]
     },
     "execution_count": 129,
     "metadata": {},
     "output_type": "execute_result"
    }
   ],
   "source": [
    "sps.chi2.ppf(1 - alpha_1, df = len(freq) - 1)"
   ]
  },
  {
   "cell_type": "markdown",
   "metadata": {},
   "source": [
    "$\\chi^2 \\approx 34.0$\n",
    "\n",
    "$x_{\\alpha_1} \\approx 7.8$\n",
    "\n",
    "$\\chi^2 > x_{\\alpha_1} \\Rightarrow$ Гипотеза отвергается\n",
    "\n",
    "Наибольший уровень значимсти 1.96"
   ]
  },
  {
   "cell_type": "markdown",
   "metadata": {},
   "source": [
    "#### 1.h.f\n",
    "\n",
    "Пусть  $\\lambda = \\overline{X}$ "
   ]
  },
  {
   "cell_type": "code",
   "execution_count": 127,
   "metadata": {},
   "outputs": [
    {
     "name": "stdout",
     "output_type": "stream",
     "text": [
      "       x |       P |                  n*P\n",
      "[0 , 0 ] |       4 |   12.437810945273633\n",
      "[1 , 2 ] |      14 |   16.363320892135945\n",
      "[3 , 4 ] |      22 |    9.234921899497332\n",
      "[5 , 6 ] |      10 |    6.938228563797656\n",
      "\n",
      "Статистика хи-квадрат: 25.06134742612439\n"
     ]
    }
   ],
   "source": [
    "import numpy as np\n",
    "import scipy.stats as sps\n",
    "\n",
    "#параметры распределения Пуассона\n",
    "lambda_param = 3.02\n",
    "intervals = [[0], [1, 2], [3, 4], [5, 6]]\n",
    "\n",
    "#массивы для экспериментальных и гипотетических частот\n",
    "observed_freq = np.zeros(len(intervals), dtype=int)\n",
    "expected_freq_poisson = np.zeros(len(intervals))\n",
    "\n",
    "print(\"{:>8} | {:>7} | {:>20}\".format(\"x\", \"P\", \"n*P\"))\n",
    "\n",
    "#частоты для каждого интервала\n",
    "for i in range(len(intervals)):\n",
    "    start, end = intervals[i][0], intervals[i][-1]\n",
    "    \n",
    "    #частота каждого значения в интервале\n",
    "    for val in intervals[i]:\n",
    "        observed_freq[i] += np.sum(data == val)\n",
    "        expected_freq_poisson[i] += len(data) *  lambda_param ** val / (1 + lambda_param) ** (val + 1)\n",
    "    \n",
    "    #вывод\n",
    "    if i == len(intervals) - 1:\n",
    "        expected_freq_poisson[i] += len(data) * sps.poisson.sf(end, lambda_param)\n",
    "        print(\"[{:<2}, {:<2}] | {:>7} | {:>20}\".format(start, end, observed_freq[i], expected_freq_poisson[i]))\n",
    "    else:\n",
    "        print(\"[{:<2}, {:<2}] | {:>7} | {:>20}\".format(start, end, observed_freq[i], expected_freq_poisson[i]))\n",
    "\n",
    "#статистика хи-квадрат\n",
    "chi_square_statistic = np.sum((observed_freq - expected_freq_poisson) ** 2 / expected_freq_poisson)\n",
    "print(\"\\nСтатистика хи-квадрат:\", chi_square_statistic)\n"
   ]
  },
  {
   "cell_type": "markdown",
   "metadata": {},
   "source": [
    "$x_{\\alpha_1} : K_{r-d-1}(x_{\\alpha_1}) = 1 - \\alpha_1$"
   ]
  },
  {
   "cell_type": "code",
   "execution_count": 128,
   "metadata": {},
   "outputs": [
    {
     "data": {
      "text/plain": [
       "5.991464547107979"
      ]
     },
     "execution_count": 128,
     "metadata": {},
     "output_type": "execute_result"
    }
   ],
   "source": [
    "sps.chi2.ppf(1 - alpha_1, df = len(freq) - 2)"
   ]
  },
  {
   "cell_type": "markdown",
   "metadata": {},
   "source": [
    "$\\chi^2 \\approx 25.0$\n",
    "\n",
    "$x_{\\alpha_1} \\approx 6.0$\n",
    "\n",
    "$\\chi^2 > x_{\\alpha_1} \\Rightarrow$ Гипотеза отвергается\n"
   ]
  },
  {
   "cell_type": "markdown",
   "metadata": {},
   "source": [
    "\n",
    "### 2.a) Построить вариационный ряд, эмпирическую функцию распределения, гистограмму и полигон частот с шагом $h = 0.20$. "
   ]
  },
  {
   "cell_type": "code",
   "execution_count": 282,
   "metadata": {},
   "outputs": [
    {
     "name": "stdout",
     "output_type": "stream",
     "text": [
      "Вариационный ряд:\n",
      "-4.26 -3.778 -3.699 -3.689 -3.688 -3.589 -3.588 -3.468 -3.333 -3.326 -3.297 -3.248 -3.227 -3.224 -3.223 -3.115 -3.115 -3.104 -3.067 -3.061 -3.056 -3.043 -3.013 -2.974 -2.953 -2.9 -2.896 -2.879 -2.869 -2.849 -2.838 -2.823 -2.735 -2.734 -2.71 -2.706 -2.702 -2.697 -2.657 -2.648 -2.601 -2.583 -2.518 -2.463 -2.336 -2.264 -2.128 -2.009 -1.852 -1.65 "
     ]
    }
   ],
   "source": [
    "import matplotlib.pyplot as plt\n",
    "import numpy as np\n",
    "\n",
    "# Результаты эксперимента\n",
    "data_2 = [-2.953, -2.697, -3.056, -3.115, -3.061, -3.333, -2.657, -2.601, -2.706, -4.260, -2.264, -3.067, -3.104, -3.699, -2.849, -3.043, -2.710, -2.583, -2.518, -2.702, -3.688, -2.869, -2.734, -1.650, -3.227, -3.778, -1.852, -3.297, -3.588, -3.248, -2.900, -2.009, -3.115, -3.468, -2.823, -3.224, -3.589, -2.336, -2.463, -2.879, -3.326, -2.896, -3.013, -2.974, -2.735, -2.838, -3.689, -2.648, -3.223, -2.128]\n",
    "\n",
    "# Сортируем данные для построения вариационного ряда\n",
    "sorted_data = sorted(data_2)\n",
    "\n",
    "# Вариационный ряд\n",
    "print('Вариационный ряд:')\n",
    "for i, value in enumerate(sorted_data):\n",
    "    print( value, end = \" \")\n",
    "\n"
   ]
  },
  {
   "cell_type": "code",
   "execution_count": 141,
   "metadata": {},
   "outputs": [
    {
     "data": {
      "image/png": "[encoded data removed]",
      "text/plain": [
       "<Figure size 640x480 with 1 Axes>"
      ]
     },
     "metadata": {},
     "output_type": "display_data"
    }
   ],
   "source": [
    "ecdf = np.cumsum(np.ones_like(sorted_data)) / len(sorted_data)\n",
    "\n",
    "\n",
    "plt.step(sorted_data, ecdf, where='post', color='blue', linewidth=2)\n",
    "plt.title('Эмпирическая функция распределения')\n",
    "plt.xlabel('x')\n",
    "plt.ylabel('F(x)')\n",
    "plt.show()\n"
   ]
  },
  {
   "cell_type": "code",
   "execution_count": 166,
   "metadata": {},
   "outputs": [
    {
     "data": {
      "image/png": "[encoded data removed]",
      "text/plain": [
       "<Figure size 640x480 with 1 Axes>"
      ]
     },
     "metadata": {},
     "output_type": "display_data"
    }
   ],
   "source": [
    "#Гистограмма частот\n",
    "hist, bins, _ = plt.hist(values, bins=10, edgecolor='black', alpha=0.7)\n",
    "\n",
    "#Координаты для полигона частот\n",
    "bin_centers = 0.5 * (bins[:-1] + bins[1:])\n",
    "plt.plot(bin_centers, hist, '-o', color='red')\n",
    "\n",
    "plt.title('Гистограмма и полигон частот')\n",
    "plt.show()\n"
   ]
  },
  {
   "cell_type": "markdown",
   "metadata": {},
   "source": [
    "### 2.b) Вычислить выборочные аналоги следующих числовых характеристик:"
   ]
  },
  {
   "cell_type": "code",
   "execution_count": 323,
   "metadata": {},
   "outputs": [
    {
     "name": "stdout",
     "output_type": "stream",
     "text": [
      "Математическое ожидание: 3.02\n",
      "Дисперсия: 2.7138775510204085\n",
      "СКО: 1.6473850645858146\n",
      "Медиана: 3.0\n",
      "Коэффициент асимметрии: -0.11518184597243936\n",
      "Коэффициент эксцесса: -0.7530718775035088\n",
      "Вероятность P(X ∈ (-3.4, -2.7)): 0.58\n"
     ]
    }
   ],
   "source": [
    "from scipy.stats import skew, kurtosis, norm\n",
    "\n",
    "# Вычисление математического ожидания\n",
    "mean_value = np.mean(data)\n",
    "\n",
    "# Вычисление дисперсии\n",
    "variance = np.var(data, ddof=1)\n",
    "\n",
    "# Вычисление СКО (стандартное отклонение)\n",
    "std_deviation = np.std(data, ddof=1)\n",
    "\n",
    "# Вычисление медианы\n",
    "median_value = np.median(data)\n",
    "\n",
    "# Вычисление асимметрии\n",
    "skewness = skew(data)\n",
    "\n",
    "# Вычисление эксцесса\n",
    "kurt = kurtosis(data)\n",
    "\n",
    "# Вычисление вероятности P(X ∈ (a, b))\n",
    "c, d = -3.4 , -2.7\n",
    "probability = (np.sum(np.array(data_2) <= d) - np.sum(np.array(data_2) <= c)) / len(data_2)\n",
    "\n",
    "# Вывод результатов\n",
    "print(f\"Математическое ожидание: {mean_value}\")\n",
    "print(f\"Дисперсия: {variance}\")\n",
    "print(f\"СКО: {std_deviation}\")\n",
    "print(f\"Медиана: {median_value}\")\n",
    "print(f\"Коэффициент асимметрии: {skewness}\")\n",
    "print(f\"Коэффициент эксцесса: {kurt}\")\n",
    "print(f\"Вероятность P(X ∈ ({c}, {d})): {probability}\")\n",
    "\n"
   ]
  },
  {
   "cell_type": "markdown",
   "metadata": {},
   "source": [
    "### 2.c) В предположении, что исходные наблюдения являются выборкой из нормального распределения, построить оценку максимального правдоподобия параметров $\\left(a, \\sigma^2 \\right)$ и соответствующие оценки по методу моментов. Найти смещение оценок."
   ]
  },
  {
   "cell_type": "markdown",
   "metadata": {},
   "source": [
    "Плотность нормального распределения:\n",
    "$$p_{\\theta}(x) = \\frac{1}{\\sqrt{2\\pi}\\sigma} \\exp{\\left(-\\frac{(x - a)^2}{2\\sigma^2}\\right)}$$\n",
    "\n",
    "Оценка максимального правдоподобия:\n",
    "\n",
    "$\\mathrm{L}\\left(\\vec{X}, \\vec{\\theta}\\right) = \\left(2\\pi \\right)^{-\\frac{n}{2}} \\cdot \\sigma^{-n} \\cdot \\exp{\\left(-\\frac{1}{2\\sigma^2} \\sum \\limits_{i = 1}^n (x_i - a)^2\\right)}$ <br>\n",
    "\n",
    "$\\mathrm{LL}\\left(\\vec{X}, \\vec{\\theta}\\right) = -\\frac{n}{2} \\ln{2\\pi} - n\\ln{\\sigma} - \\frac{1}{2\\sigma^2}\\sum \\limits_{i = 1}^n (x_i - a)^2$ \n",
    "\n",
    " $a$: \n",
    "\n",
    "$\\frac{\\partial \\mathrm{LL}}{ \\partial a} = \\frac{1}{\\sigma^2} \\cdot \\normalsize \\left(\\sum \\limits_{i = 1}^n x_i - na\\right) = 0$ , $\\Rightarrow \\widehat{a} = \\overline{X}$ \n",
    "\n",
    " $\\sigma^2$:\n",
    "\n",
    "$\\frac{\\partial \\mathrm{LL}}{ \\partial \\sigma} = -\\frac{n}{\\sigma} + \\frac{1}{\\sigma^3}\\sum \\limits_{i = 1}^n (x_i - a)^2 = 0$ , $\\Rightarrow \\widehat{\\sigma^2} = S^2$ \n",
    "\n",
    "$\\widehat{\\theta} = \\left(\\widehat{a}, \\widehat{\\sigma^2}\\right) = \\left(\\overline{X}, S^2\\right)$ - ОМП \n",
    "\n",
    "ОММ:\n",
    "\n",
    "$\\mathbb{E}X_1 = a$ , $M_1 = \\overline{X}$ \n",
    "$\\mathbb{E}X_1^2 = a^2 + \\sigma^2$ , $M_2 = \\overline{X^2} \\Rightarrow \\widetilde{\\theta} = \\left(\\widetilde{a}, \\widetilde{\\sigma^2}\\right) = \\left(\\overline{X}, S^2\\right)$ - ОММ\n",
    "\n",
    "Смещение оценок:\n",
    "\n",
    "$\\mathbb{E}_{\\theta}\\widehat{a} = \\mathbb{E}_{\\theta}\\widetilde{a} = \\mathbb{E}_{\\theta}\\overline{X} = \\frac{1}{n} \\sum \\limits_{i = 1}^n\\mathbb{E}_{\\theta}X_1 = \\frac{1}{n} \\cdot n \\cdot a = a$ $\\Rightarrow$оценки $a$ несмещённые.\n",
    "\n",
    "$\\mathbb{E}_{\\theta}\\widehat{\\sigma^2} = \\mathbb{E}_{\\theta}\\widetilde{\\sigma^2} = \\mathbb{E}_{\\theta}S^2 = \\frac{1}{n}\\mathbb{E}_{\\theta}\\sum \\limits_{i = 1}^n \\left(X_i - \\overline{X}\\right)^2 = \\left[\\begin{array}{l l} X_i - \\mathbb{E}_{\\theta}X_i = Y_i \\\\ \\mathbb{E}_{\\theta}Y_i = 0 \\\\ \\mathbb{D}_{\\theta} = \\sigma^2 \\end{array} \\right] = \\mathbb{E}_{\\theta}\\frac{1}{n}\\sum \\limits_{i = 1}^n \\left(Y_i - \\overline{Y}\\right)^2 = \\mathbb{E}_{\\theta}\\overline{Y^2} - \\mathbb{E}_{\\theta}\\overline{Y}^2$ \n",
    "\n",
    "Посчитаем отдельно $\\mathbb{E}_{\\theta}\\overline{Y^2}$ и $\\mathbb{E}_{\\theta}\\overline{Y}^2$:\n",
    "\n",
    "$\\mathbb{E}_{\\theta}\\overline{Y^2} = \\frac{1}{n} \\sum \\limits_{i = 1}^n\\mathbb{E}_{\\theta}Y_1^2 = \\frac{1}{n} \\cdot n \\cdot \\sigma^2 = \\sigma^2$\n",
    "\n",
    "$\\mathbb{E}_{\\theta}\\overline{Y}^2 = \\frac{1}{n^2}\\sum \\limits_{i = 1}^n \\sum \\limits_{j = 1}^n \\mathbb{E}_{\\theta}Y_iY_j = \\left[\\begin{array}{l l} i = j: \\mathbb{E}_{\\theta}Y_i^2 = \\sigma^2 \\\\ i \\neq j: \\mathbb{E}_{\\theta}Y_i\\mathbb{E}_{\\theta}Y_j = 0 \\end{array} \\right] = \\frac{1}{n^2} \\left(n \\cdot \\sigma^2 + \\left(n^2 - n\\right) \\cdot 0\\right) = \\frac{\\sigma^2}{n}$ \n",
    "\n",
    "Тогда $\\mathbb{E}_{\\theta}S^2 = \\sigma^2 - \\frac{\\sigma^2}{n} = \\frac{n - 1}{n}\\sigma^2$\n",
    "\n",
    "Смещённая оценка $ (S')^2 = \\frac{n}{n - 1} S^2 $"
   ]
  },
  {
   "cell_type": "markdown",
   "metadata": {},
   "source": [
    "### 2.d) Построить доверительные интервалы уровня значимости $\\alpha_2 = 0.10$ для параметров $\\left(a, \\sigma^2\\right)$."
   ]
  },
  {
   "cell_type": "markdown",
   "metadata": {},
   "source": [
    "По п. 4 Фишера:\n",
    "\n",
    "$\\mathrm{G}\\left(\\vec{X}, a\\right) = \\sqrt{n - 1} \\cdot \\frac{\\overline{X} - a}{S} \\sim S_{n - 1}$ - генератор\n",
    "\n",
    "$x_{\\alpha}: \\mathrm{S}_{n-1}(x_{\\alpha}) = 1 - \\frac{\\alpha}{2} = 0.95$"
   ]
  },
  {
   "cell_type": "code",
   "execution_count": 173,
   "metadata": {},
   "outputs": [
    {
     "data": {
      "text/plain": [
       "1.676550891914263"
      ]
     },
     "execution_count": 173,
     "metadata": {},
     "output_type": "execute_result"
    }
   ],
   "source": [
    "sps.t.ppf(0.95, 49)\n",
    "    "
   ]
  },
  {
   "cell_type": "markdown",
   "metadata": {},
   "source": [
    "$x_{\\alpha} = 1.68 ; x_{2\\alpha} = x_{\\alpha} = 1.68 ; x_{1\\alpha} = -x_{\\alpha} = -1.68$ \n",
    "\n",
    "$\\mathbb{P}_{\\theta}\\left(-x_{\\alpha} \\le \\sqrt{n - 1} \\cdot \\frac{\\overline{X} - a}{S} \\le x_{\\alpha}\\right) = 1 - \\alpha$\n",
    "\n",
    "$\\mathbb{P}_{\\theta}\\left(-\\frac{x_{\\alpha} \\cdot S}{\\sqrt{n - 1}} + \\overline{X} \\le a \\le \\frac{x_{\\alpha} \\cdot S}{\\sqrt{n - 1}} + \\overline{X}\\right) = 1 - \\alpha$\n",
    "\n",
    "\n",
    " \n"
   ]
  },
  {
   "cell_type": "code",
   "execution_count": 177,
   "metadata": {},
   "outputs": [
    {
     "name": "stdout",
     "output_type": "stream",
     "text": [
      "[ -3.07 , -2.82 ]\n"
     ]
    }
   ],
   "source": [
    "left = mean_value - 1.68*std_deviation/(49)**0.5\n",
    "right = mean_value + 1.68*std_deviation/(49)**0.5\n",
    "print(\"[\", round(left, 2), \",\", round(right, 2), \"]\")"
   ]
  },
  {
   "cell_type": "markdown",
   "metadata": {},
   "source": [
    "$\\left[-\\frac{x_{\\alpha} \\cdot S}{\\sqrt{n - 1}} + \\overline{X}, \\frac{x_{\\alpha} \\cdot S}{\\sqrt{n - 1}} + \\overline{X}\\right] \\ni a$\n",
    "$\\left[-3.07, -2.82\\right] \\ni a$"
   ]
  },
  {
   "cell_type": "markdown",
   "metadata": {},
   "source": [
    "По п. 3 леммы Фишера:\n",
    "\n",
    "$\\mathrm{G}\\left(\\vec{X}, \\sigma^2\\right) = \\frac{nS^2}{\\sigma^2} \\sim \\chi^2_{n-1}$ - генератор.\n",
    "\n"
   ]
  },
  {
   "cell_type": "code",
   "execution_count": 180,
   "metadata": {},
   "outputs": [
    {
     "name": "stdout",
     "output_type": "stream",
     "text": [
      "x_1a = 33.93030561852784\n",
      "x_2a = 78.23070808668994\n"
     ]
    }
   ],
   "source": [
    "print(\"x_1a =\", sps.chi2.ppf(0.05, 49))\n",
    "print(\"x_2a =\", sps.chi2.ppf(0.995, 49))"
   ]
  },
  {
   "cell_type": "markdown",
   "metadata": {},
   "source": [
    "$x_{1\\alpha}: \\mathrm{K}_{n-1}(x_{1\\alpha}) = \\frac{\\alpha}{2}  = 0.05 \\Rightarrow x_{1\\alpha} = 33.93$\n",
    "\n",
    "$x_{2\\alpha}: \\mathrm{K}_{n-1}(x_{2\\alpha}) = 1 - \\frac{\\alpha}{2} = 0.995 \\Rightarrow x_{2\\alpha} = 78.23$\n",
    "\n",
    "$\\mathbb{P}_{\\theta}\\left(x_{1\\alpha} \\le \\frac{nS^2}{\\sigma^2} \\le x_{2\\alpha}\\right) = 1 - \\alpha$\n",
    "\n",
    "$\\mathbb{P}_{\\theta}\\left(\\frac{nS^2}{x_{2\\alpha}} \\le \\sigma^2 \\le \\frac{nS^2}{x_{1\\alpha}}\\right) = 1 - \\alpha$\n",
    "\n",
    "$\\left[\\frac{nS^2}{x_{2\\alpha}}, \\frac{nS^2}{x_{1\\alpha}}\\right] \\ni \\sigma^2$"
   ]
  },
  {
   "cell_type": "code",
   "execution_count": 184,
   "metadata": {},
   "outputs": [
    {
     "name": "stdout",
     "output_type": "stream",
     "text": [
      "[ 0.16 , 0.38 ]\n"
     ]
    }
   ],
   "source": [
    "left = 50*variance/(78.23)\n",
    "right = 50*variance/(33.93)\n",
    "print(\"[\", round(left,2), \",\", round(right,2), \"]\")"
   ]
  },
  {
   "cell_type": "markdown",
   "metadata": {},
   "source": [
    "\n",
    "$\\left[0.16, 0.38\\right] \\ni \\sigma^2$"
   ]
  },
  {
   "cell_type": "markdown",
   "metadata": {},
   "source": [
    "### 2.e) С использованием теоремы Колмогорова построить критерий значимости проверки простой гипотезы согласия с нормальным распределением с параметрами $(a_0, \\sigma_0^2) = (-1.00, 0.50)$. Проверить гипотезу на уровне значимости $\\alpha_2 = 0.10$. Вычислить наибольшее значение уровня значимости, на котором ещё нет оснований отвергнуть данную гипотезу."
   ]
  },
  {
   "cell_type": "markdown",
   "metadata": {},
   "source": [
    "критерий Колмогорова $\\eta = \\sqrt{n}D_n$:"
   ]
  },
  {
   "cell_type": "code",
   "execution_count": 193,
   "metadata": {},
   "outputs": [
    {
     "data": {
      "text/plain": [
       "6.255560979322091"
      ]
     },
     "execution_count": 193,
     "metadata": {},
     "output_type": "execute_result"
    }
   ],
   "source": [
    "a = -1.00\n",
    "D = 0.50\n",
    "sigma = np.sqrt(D)\n",
    "n = len(data_2)\n",
    "\n",
    "cdf = lambda x: norm.cdf(x, loc = a, scale = sigma)\n",
    "Dn, _ = kstest(data_2, cdf)\n",
    "n**0.5 * Dn\n"
   ]
  },
  {
   "cell_type": "code",
   "execution_count": 195,
   "metadata": {},
   "outputs": [
    {
     "data": {
      "text/plain": [
       "1.2238478702170825"
      ]
     },
     "execution_count": 195,
     "metadata": {},
     "output_type": "execute_result"
    }
   ],
   "source": [
    "a = 0.1\n",
    "kstwobign.ppf(1 - a)"
   ]
  },
  {
   "cell_type": "markdown",
   "metadata": {},
   "source": [
    "$V_k = (1.36, + \\infty)$\n",
    "\n",
    "$\\eta \\in V_k \\Rightarrow$ гипотеза отвергается"
   ]
  },
  {
   "cell_type": "code",
   "execution_count": 284,
   "metadata": {},
   "outputs": [
    {
     "name": "stdout",
     "output_type": "stream",
     "text": [
      "Наибольший уровень значимости: -1\n"
     ]
    }
   ],
   "source": [
    "while eta > 6.26:\n",
    "    alpha -= 0.1\n",
    "    d = kstwobign.ppf(1 - alpha)\n",
    "print('Наибольший уровень значимости:',a)"
   ]
  },
  {
   "cell_type": "markdown",
   "metadata": {},
   "source": [
    "### 2.f) Используя гистограмму частот, построить критерии значимости $\\chi^2$ проверки простой гипотезы согласия с нормальным распределением с параметрами $(a_0, \\sigma_0^2) = (-1.00, 0,25)$. Проверить гипотезу на уровне значимости $\\alpha_2 = 0.10$. Вычислить наибольшее значение уровня значимости, на котором ещё нет оснований отвергнуть данную гипотезу."
   ]
  },
  {
   "cell_type": "code",
   "execution_count": 355,
   "metadata": {},
   "outputs": [
    {
     "name": "stdout",
     "output_type": "stream",
     "text": [
      "P1 =  9.865876450376946e-10\n",
      "P2 =  0.004661187037131107\n",
      "P3 =  0.40050394027848535\n",
      "P4 =  0.5948348716977958\n",
      "n*P1 =  4.932938225188473e-08\n",
      "n*P2 =  4.932938225188473e-08\n",
      "n*P3 =  4.932938225188473e-08\n",
      "n*P4 =  4.932938225188473e-08\n",
      "Xi^2:  458.97\n",
      "x_a1: 6.25\n"
     ]
    }
   ],
   "source": [
    "a = -1\n",
    "sigma = 0.5\n",
    "alpha_2 = 0.1\n",
    "\n",
    "edges = [-4.0, -2.3, -1.12, 0] \n",
    "\n",
    "\n",
    "p1 = norm.cdf(edges[0], a, sigma)\n",
    "p2 = norm.cdf(edges[1], a, sigma) - norm.cdf(edges[0], a, sigma)\n",
    "p3 = norm.cdf(edges[2], a, sigma) - norm.cdf(edges[1], a, sigma)\n",
    "p4 = 1 - p1 - p2 - p3\n",
    "print('P1 = ', p1 )\n",
    "print('P2 = ', p2 )\n",
    "print('P3 = ', p3 )\n",
    "print('P4 = ', p4 )\n",
    "print('n*P1 = ', n * p1)\n",
    "print('n*P2 = ', n * p1)\n",
    "print('n*P3 = ', n * p1)\n",
    "print('n*P4 = ', n * p1)\n",
    "\n",
    "groups = [[],[],[],[]]\n",
    "cur_edge_index = 0\n",
    "cur_group = 0\n",
    "\n",
    "for item in data_2:\n",
    "    cur_edge = edges[cur_edge_index]\n",
    "    if item <= cur_edge:\n",
    "        groups[cur_group].append(item)\n",
    "    else:\n",
    "        cur_group += 1\n",
    "        groups[cur_group].append(item)\n",
    "        cur_edge_index += 1\n",
    "\n",
    "n1, n2, n3, n4 = len(groups[0]), len(groups[1]), len(groups[2]), len(groups[3])\n",
    "\n",
    "chi = ((n1 - n*p1)**2) / (n*p1) + ((n2 - n*p2)**2) / (n*p2) + ((n3 - n*p3)**2) / (n*p3) + ((n4 - n*p4)**2) / (n*p4)\n",
    "print(\"Xi^2: \", round(chi, 2))\n",
    "print('x_a1:', round(chi2.ppf(1 - alpha_2, 3), 2))\n"
   ]
  },
  {
   "cell_type": "markdown",
   "metadata": {},
   "source": [
    " $\\chi^2 = 458.97$\n",
    "\n",
    "$\\chi_{k-1, \\alpha_2}^2 = \\chi_{3, 0.1}^2 = 6.25$ \n",
    " $\\chi^2 > \\chi_{3, 0.1}^2 \\Rightarrow$ Гипотеза отвергается"
   ]
  },
  {
   "cell_type": "code",
   "execution_count": 301,
   "metadata": {},
   "outputs": [
    {
     "name": "stdout",
     "output_type": "stream",
     "text": [
      "Наибольший уровень значимости:  0.1\n"
     ]
    }
   ],
   "source": [
    "alpha = 0.1\n",
    "step = 0.001\n",
    "while chi < chi2.ppf(1 - alpha, 3):\n",
    "    alpha += step\n",
    "print('Наибольший уровень значимости: ', round(alpha, 5))"
   ]
  },
  {
   "cell_type": "markdown",
   "metadata": {},
   "source": [
    "### 2.g) Построить критерий проверки значимости $\\chi^2$ сложной гипотезы согласия с нормальным распределением. Проверить гипотезу на уровне значимости $\\alpha_2 = 0.05$. Вычислить наибольшее значение уровня значимости, на которос ещё нет оснований отвергнуть данную гипотезу."
   ]
  },
  {
   "cell_type": "code",
   "execution_count": 306,
   "metadata": {},
   "outputs": [
    {
     "name": "stdout",
     "output_type": "stream",
     "text": [
      "P1 =  0.018399483192645782\n",
      "P2 =  0.879985235837504\n",
      "P3 =  0.10145914829589497\n",
      "P4 =  0.0001561326739553115\n",
      "n*P1 =  0.9199741596322891\n",
      "n*P2 =  0.9199741596322891\n",
      "n*P3 =  0.9199741596322891\n",
      "n*P4 =  0.9199741596322891\n",
      "Xi^2:  267.67\n",
      "x_a1: 6.25\n"
     ]
    }
   ],
   "source": [
    "a = mean_value\n",
    "sigma = std_deviation\n",
    "alpha_2 = 0.1\n",
    "\n",
    "edges = [-4.0, -2.3, -1.12, 0]\n",
    "\n",
    "p1 = norm.cdf(edges[0], a, sigma)\n",
    "p2 = norm.cdf(edges[1], a, sigma) - norm.cdf(edges[0], a, sigma)\n",
    "p3 = norm.cdf(edges[2], a, sigma) - norm.cdf(edges[1], a, sigma)\n",
    "p4 = 1 - p1 - p2 - p3\n",
    "print('P1 = ', p1 )\n",
    "print('P2 = ', p2 )\n",
    "print('P3 = ', p3 )\n",
    "print('P4 = ', p4 )\n",
    "print('n*P1 = ', n * p1)\n",
    "print('n*P2 = ', n * p1)\n",
    "print('n*P3 = ', n * p1)\n",
    "print('n*P4 = ', n * p1)\n",
    "\n",
    "groups = [[],[],[],[]]\n",
    "cur_edge_index = 0\n",
    "cur_group = 0\n",
    "\n",
    "for item in data_2:\n",
    "    cur_edge = edges[cur_edge_index]\n",
    "    if item <= cur_edge:\n",
    "        groups[cur_group].append(item)\n",
    "    else:\n",
    "        cur_group += 1\n",
    "        groups[cur_group].append(item)\n",
    "        cur_edge_index += 1\n",
    "\n",
    "n1, n2, n3, n4 = len(groups[0]), len(groups[1]), len(groups[2]), len(groups[3])\n",
    "\n",
    "chi = ((n1 - n*p1)**2) / (n*p1) + ((n2 - n*p2)**2) / (n*p2) + ((n3 - n*p3)**2) / (n*p3) + ((n4 - n*p4)**2) / (n*p4)\n",
    "print(\"Xi^2: \", round(chi, 2))\n",
    "print('x_a1:', round(chi2.ppf(1 - alpha_2, 3), 2))\n"
   ]
  },
  {
   "cell_type": "markdown",
   "metadata": {},
   "source": [
    " $\\chi^2 = 267.67$\n",
    "\n",
    "$\\chi_{k-1, \\alpha_2}^2 = \\chi_{3, 0.1}^2 = 6.25$ \n",
    " $\\chi^2 > \\chi_{3, 0.1}^2 \\Rightarrow$ Гипотеза отвергается"
   ]
  },
  {
   "cell_type": "code",
   "execution_count": 304,
   "metadata": {},
   "outputs": [
    {
     "name": "stdout",
     "output_type": "stream",
     "text": [
      "Наибольший уровень значимости:  0.1\n"
     ]
    }
   ],
   "source": [
    "alpha = 0.1\n",
    "step = 0.001\n",
    "while chi < chi2.ppf(1 - alpha, 3):\n",
    "    alpha += step\n",
    "print('Наибольший уровень значимости: ', round(alpha, 5))"
   ]
  },
  {
   "cell_type": "markdown",
   "metadata": {},
   "source": [
    "### 2.h) Построить наиболее мощный критерий проверки простой гипотезы о нормальности с параметром $\\left(a, \\sigma^2\\right) = \\left(a_0, \\sigma_0^2\\right) = \\left(-1, 0.25\\right)$ при альтернативе нормальности с параметром $\\left(a, \\sigma^2\\right) = \\left(a_1, \\sigma_1^2\\right) = \\left(-3, 0.25\\right)$. Проверить гипотезу на уровне значимости $\\alpha_2 = 0.1$. Что получится, если поменять местами основновную и альтернативную гипотезы?"
   ]
  },
  {
   "cell_type": "markdown",
   "metadata": {},
   "source": [
    "Основная гипотеза $H_0: \\theta_0 = \\left( a_0, \\sigma^2_0\\right) = (-1, 25)$\n",
    "\n",
    "Альтернативная гипотеза $H_1: \\theta_1 = \\left( a_1, \\sigma^2_1\\right) = (15, 25)$\n",
    "\n",
    "Функция правдоподобия:$\\mathrm{L}\\left(\\vec{X}, \\vec{\\theta}\\right) = \\left(2\\pi \\right)^{-\\frac{n}{2}} \\cdot \\sigma^{-n} \\cdot \\exp{\\left(-\\frac{1}{2\\sigma^2} \\sum \\limits_{i = 1}^n (x_i - a)^2\\right)}$\n",
    "\n",
    "*Статистика отношения правдоподобия:*\n",
    "\n",
    "$\\mathrm{LR}\\left(\\vec{X}, \\vec{\\theta_0}, \\vec{\\theta_1}\\right) = \\frac{\\mathrm{L}\\left(\\vec{X}, \\vec{\\theta_1}\\right)}{\\mathrm{L}\\left(\\vec{X}, \\vec{\\theta_0}\\right)} = \\exp{\\left(\\frac{n}{2\\sigma^2}\\left(a_0^2 - a_1^2\\right) + \\frac{1}{\\sigma^2}\\sum \\limits_{i = 1}^n x_i \\cdot \\left(a_1 - a_0\\right)\\right)}$ \n",
    "\n",
    "$\\mathrm{LR} > c \\iff \\overline{X} < c^*$\n",
    "\n",
    "$\\mathrm{LR} < c \\iff \\overline{X} > c^*$\n",
    "\n",
    "$\\sqrt{n} \\frac{\\overline{X} - a_0}{\\sigma} \\sim \\mathcal{N}(0, 1)$ при $H_0$"
   ]
  },
  {
   "cell_type": "code",
   "execution_count": 324,
   "metadata": {},
   "outputs": [
    {
     "data": {
      "text/plain": [
       "56.851385207398415"
      ]
     },
     "execution_count": 324,
     "metadata": {},
     "output_type": "execute_result"
    }
   ],
   "source": [
    "\n",
    "((3.02 - a_0)/0.5) * 50**0.5\n"
   ]
  },
  {
   "cell_type": "markdown",
   "metadata": {},
   "source": [
    "$\\sqrt{n} \\frac{\\overline{X} - a_0}{\\sigma} = 56.85$"
   ]
  },
  {
   "cell_type": "markdown",
   "metadata": {},
   "source": [
    "$c^* : \\Phi(c^*) = 1 - \\alpha_2 = 1 - 0.05 = 0.9$"
   ]
  },
  {
   "cell_type": "code",
   "execution_count": 326,
   "metadata": {},
   "outputs": [
    {
     "data": {
      "text/plain": [
       "0.8159398746532405"
      ]
     },
     "execution_count": 326,
     "metadata": {},
     "output_type": "execute_result"
    }
   ],
   "source": [
    "norm.cdf(0.9)"
   ]
  },
  {
   "cell_type": "markdown",
   "metadata": {},
   "source": [
    " $c^* = 0.82$"
   ]
  },
  {
   "cell_type": "markdown",
   "metadata": {},
   "source": [
    "$\\sqrt{n} \\frac{\\overline{X} - a_0}{\\sigma} > c^* \\Rightarrow$ гипотеза не принимается"
   ]
  },
  {
   "cell_type": "markdown",
   "metadata": {},
   "source": [
    "Смена гипотез местами\n",
    "\n",
    "*Основная гипотеза* $H_0: \\theta_0 = \\left( a_1, \\sigma^2_1\\right)$\n",
    "\n",
    "*Альтернативная гипотеза* $H_1: \\theta_1 = \\left( a_0, \\sigma^2_0\\right)$\n",
    "\n",
    "*Статистика отношения правдоподобия:*\n",
    "\n",
    "$\\mathrm{LR}\\left(\\vec{X}, \\vec{\\theta_0}, \\vec{\\theta_1}\\right) = \\frac{\\mathrm{L}\\left(\\vec{X}, \\vec{\\theta_1}\\right)}{\\mathrm{L}\\left(\\vec{X}, \\vec{\\theta_0}\\right)} = \\exp{\\left(\\frac{n}{2\\sigma^2}\\left(a_1^2 - a_0^2\\right) + \\frac{1}{\\sigma^2}\\sum \\limits_{i = 1}^n x_i \\cdot \\left(a_0 - a_1\\right)\\right)}$ \n",
    "\n",
    "$\\mathrm{LR} > c \\iff \\overline{X} < c^*$\n",
    "\n",
    "$\\mathrm{LR} < c \\iff \\overline{X} > c^*$\n",
    "\n",
    "$\\sqrt{n} \\frac{\\overline{X} - a_1}{\\sigma} \\sim \\mathcal{N}(0, 1)$ при $H_1$\n",
    "\n",
    "$\\mathbb{P}\\left(\\sqrt{n}\\frac{\\overline{X} - a_1}{\\sigma} \\geq \\sqrt{n}\\frac{c^* - a_1}{\\sigma}\\right) = 1 - \\Phi\\left(\\sqrt{n}\\frac{c^* - a_1}{\\sigma}\\right) = \\alpha_2$\n",
    "\n",
    "$\\sqrt{n}\\frac{c^* - a_1}{\\sigma} = x_{\\alpha}$\n",
    "\n",
    "$x_{\\alpha} : \\Phi(x_{\\alpha}) = 1 - \\alpha_2 = 0.9$\n",
    "\n",
    "\n"
   ]
  },
  {
   "cell_type": "code",
   "execution_count": 329,
   "metadata": {},
   "outputs": [
    {
     "data": {
      "text/plain": [
       "-2.9423043381592193"
      ]
     },
     "execution_count": 329,
     "metadata": {},
     "output_type": "execute_result"
    }
   ],
   "source": [
    "x_alpha = norm.cdf(0.9)\n",
    "sigma = 0.5\n",
    "a_1 = -3\n",
    "(x_alpha * sigma)/n**0.5 + a_1\n"
   ]
  },
  {
   "cell_type": "markdown",
   "metadata": {},
   "source": [
    "$c^* = -2.9$\n",
    "\n",
    "$\\overline{X} = 3.02$\n",
    "\n",
    " $\\overline{X} > c^* \\Rightarrow$ гипотеза принемается"
   ]
  },
  {
   "cell_type": "markdown",
   "metadata": {},
   "source": [
    "### 2.i) В пунктах (c) - (g) заменить семейство нормальных распределенеий на двухпараметрическое семейство распределений Лапласа с плотностями:\n",
    "$$p_{a, \\sigma}(x) = \\frac{1}{\\sqrt{2}\\sigma} \\exp{\\left(-\\frac{\\sqrt{2}}{\\sigma} \\left| x - a\\right|\\right)}$$"
   ]
  },
  {
   "cell_type": "markdown",
   "metadata": {},
   "source": [
    "#### 2.i.c\n",
    "\n",
    "ОМП:\n",
    "\n",
    "$\\mathrm{L}\\left(\\vec{X}, \\vec{\\theta}\\right) = 2^{-\\frac{n}{2}} \\sigma^{-n} \\exp\\left(-\\frac{\\sqrt{2}}{\\sigma} \\sum \\limits_{i = 1}^{n} |x_i - a|\\right)$\n",
    "\n",
    "$\\mathrm{LL}\\left(\\vec{X}, \\vec{\\theta}\\right) = -\\frac{n}{2}\\ln{2} - n\\ln{\\sigma} - \\frac{\\sqrt{2}}{\\sigma}\\sum \\limits_{i = 1}^{n} |x_i - a|$\n",
    "\n",
    "$\\frac{\\partial\\mathrm{LL}}{\\partial \\sigma} = -\\frac{n}{\\sigma} + \\frac{\\sqrt{2}}{\\sigma^2}\\sum \\limits_{i = 1}^{n} |x_i - \\widehat{a}| = 0 \\Rightarrow \\widehat{\\sigma}^2 = \\frac{2}{n^2}\\left(\\sum \\limits_{i = 1}^{n} |x_i - \\widehat{a}|\\right)^2$ - ОМП параметра $\\sigma^2$\n",
    "\n",
    "$\\frac{\\partial\\mathrm{LL}}{\\partial a} = -\\Large\\frac{\\sqrt{2}}{\\widehat{\\sigma}} \\normalsize \\sum \\limits_{i = 1}^n \\mathrm{sgn}\\left(x_i - a\\right) = 0$\n",
    "\n",
    "Так как $\\frac{\\partial\\mathrm{LL}}{\\partial a}$ - монотонно убывающая функция, то ОМП параметра а - выборочная медиана.\n",
    "\n",
    "$\\widehat{a} = z_{n, \\frac{1}{2}} = \\begin{cases} X_{\\lfloor \\frac{n}{2} \\rfloor + 1} , np \\in \\mathbb{Z} \\\\ \\\\ \\left[X_{\\left(\\frac{n}{2}\\right)}, X_{\\left(\\frac{n}{2} + 1\\right)}\\right), np \\notin \\mathbb{Z} \\end{cases}$\n",
    "$\\widehat{\\theta} = \\left(\\widehat{a}, \\widehat{\\sigma}^2 \\right)$\n",
    "\n",
    "ОММ:\n",
    "\n",
    "$\\mathbb{E}x = a$ , $\\mathrm{M}_1 = \\overline{X}$\n",
    "\n",
    "$\\mathbb{E}x^2 = \\sigma^2 + a^2$, $\\mathrm{M}_2 = \\overline{X^2}$\n",
    "\n",
    "$\\begin{equation} \\begin{cases} \\overline{X} = a \\\\ \\overline{X^2} = a^2 + \\sigma^2 \\end{cases}\\end{equation}\\Rightarrow \\widetilde{\\theta} = \\left(\\widetilde{a}, \\widetilde{\\sigma^2}\\right) = \\left(\\overline{X}, S^2\\right)$ - ОММ\n",
    "\n",
    "Смещение оценок:\n",
    "\n",
    "$\\mathbb{E}_{\\theta} \\widehat{a} = \\mathbb{E}_{\\theta}z_{n, \\frac{1}{2}} = \\mathbb{E} \\frac{X_{\\frac{n}{2}} + X_{\\frac{n}{2} + 1}}{2} = a \\rightarrow$ несмещённая\n",
    "\n",
    "$\\mathbb{E}_{\\theta} \\widehat{\\sigma^2} \\neq \\sigma^2 \\rightarrow$ смещённая \n",
    "\n",
    "$\\mathbb{E}_{\\theta} \\widetilde{a} = \\mathbb{E}_{\\theta} \\overline{X} = a \\rightarrow$ несмещённая \n",
    "\n",
    "$\\mathbb{E}_{\\theta}\\widetilde{\\sigma^2} = \\mathbb{E}_{\\theta} S^2 = \\frac{n -1}{n} \\sigma^2 \\rightarrow$ смещённая "
   ]
  },
  {
   "cell_type": "markdown",
   "metadata": {},
   "source": [
    "#### 2.i.d \n",
    "\n",
    "По п.4 Фишера:\n",
    "\n",
    "$\\mathrm{G}\\left(\\vec{X}, a\\right) = \\sqrt{n - 1} \\cdot \\frac{\\overline{X} - a}{S}  \\sim S_{n - 1}$ - генератор.\n",
    "\n",
    "$x_{\\alpha}: \\mathrm{S}_{n-1}(x_{\\alpha}) = 1 - \\frac{\\alpha}{2}  = 0.995 \\Rightarrow x_{\\alpha} = 1.96 \\Rightarrow x_{2\\alpha} = x_{\\alpha} = 1.96, x_{1\\alpha} = -x_{\\alpha} = -1.96$\n",
    "\n",
    "$\\mathbb{P}_{\\theta}\\left(-x_{\\alpha} \\le \\sqrt{n - 1} \\cdot \\frac{\\overline{X} - a}{S} \\le x_{\\alpha}\\right) = 1 - \\alpha$\n",
    "\n",
    "$\\mathbb{P}_{\\theta}\\left(-\\frac{x_{\\alpha} \\cdot S}{\\sqrt{n - 1}} + \\overline{X} \\le a \\le \\frac{x_{\\alpha} \\cdot S}{\\sqrt{n - 1}} + \\overline{X}\\right) = 1 - \\alpha$\n",
    "\n",
    "$$\\left[-\\frac{x_{\\alpha} \\cdot S}{\\sqrt{n - 1}} + \\overline{X}, \\frac{x_{\\alpha} \\cdot S}{\\sqrt{n - 1}} + \\overline{X}\\right] \\ni a$$\n",
    "\n",
    "\n",
    "\n"
   ]
  },
  {
   "cell_type": "code",
   "execution_count": 340,
   "metadata": {},
   "outputs": [
    {
     "name": "stdout",
     "output_type": "stream",
     "text": [
      "[2.56, 3.48]\n"
     ]
    }
   ],
   "source": [
    "alpha_2 = 0.1\n",
    "\n",
    "x_alpha = 1.96\n",
    "left_a = -(x_alpha * std_deviation)/(n - 1)**0.5 + 3.02\n",
    "right_a = (x_alpha * std_deviation)/(n - 1)**0.5 + 3.02\n",
    "\n",
    "print( [round(left_a, 2), round(right_a, 2)])\n"
   ]
  },
  {
   "cell_type": "markdown",
   "metadata": {},
   "source": [
    "$\\left[2.56, 3.48\\right] \\ni a$"
   ]
  },
  {
   "cell_type": "markdown",
   "metadata": {},
   "source": [
    "По п.3 Фишера:\n",
    "\n",
    "$\\mathrm{G}\\left(\\vec{X}, \\sigma^2\\right) = \\frac{nS^2}{\\sigma^2} \\sim \\chi^2_{n-1}$ - генератор.\n",
    "\n",
    "$x_{1\\alpha}: \\mathrm{K}_{n-1}(x_{1\\alpha}) = \\frac{\\alpha}{2} =  0.05 \\Rightarrow x_{1\\alpha} = 34.37$\n",
    "\n",
    "$x_{2\\alpha}: \\mathrm{K}_{n-1}(x_{2\\alpha}) = 1 - \\frac{\\alpha}{2} = 0.95 \\Rightarrow x_{2\\alpha} = 67.22$ , так как распределение несимметричное.\n",
    "\n",
    "$\\mathbb{P}_{\\theta}\\left(x_{1\\alpha} \\le \\frac{nS^2}{\\sigma^2} \\le x_{2\\alpha}\\right) = 1 - \\alpha$\n",
    "\n",
    "$\\mathbb{P}_{\\theta}\\left(\\frac{nS^2}{x_{2\\alpha}} \\le \\sigma^2 \\le \\frac{nS^2}{x_{1\\alpha}}\\right) = 1 - \\alpha$\n",
    "\n",
    "$\\left[\\frac{nS^2}{x_{2\\alpha}}, \\frac{nS^2}{x_{1\\alpha}}\\right] \\ni \\sigma^2$\n"
   ]
  },
  {
   "cell_type": "code",
   "execution_count": 350,
   "metadata": {},
   "outputs": [
    {
     "name": "stdout",
     "output_type": "stream",
     "text": [
      "[2.05, 4.0]\n"
     ]
    }
   ],
   "source": [
    "df = n - 1\n",
    "x_1alpha = chi2.ppf(alpha_2 / 2, df)\n",
    "x_2alpha = chi2.ppf(1 - alpha_2 / 2, df)\n",
    "\n",
    "left_sigma = (n*variance)/x_2alpha\n",
    "right_sigma = (n*variance)/x_1alpha\n",
    "print( [round(left_sigma, 2), round(right_sigma, 2)])"
   ]
  },
  {
   "cell_type": "markdown",
   "metadata": {},
   "source": [
    "$\\left[2.05, 4.0\\right] \\ni \\sigma^2$"
   ]
  },
  {
   "cell_type": "markdown",
   "metadata": {},
   "source": [
    "#### 2.i.e\n",
    "\n",
    "Критерий Колмогорова $\\eta = \\sqrt{n}D_n$"
   ]
  },
  {
   "cell_type": "code",
   "execution_count": 353,
   "metadata": {},
   "outputs": [
    {
     "name": "stdout",
     "output_type": "stream",
     "text": [
      "Критерий Колмогорова: 5.94\n",
      "Квантиль: 1.22\n",
      "Наибольший уровень значимости: 0.1\n"
     ]
    }
   ],
   "source": [
    "a = -1.00\n",
    "D = 0.50\n",
    "sigma = np.sqrt(D)\n",
    " \n",
    "cdf = lambda x: laplace.cdf(x, loc = a, scale = sigma)\n",
    "Dn, _ = kstest(data_2, cdf)\n",
    "eta = n**0.5 * Dn\n",
    "print('Критерий Колмогорова:', round(eta, 2))\n",
    "\n",
    "alpha = 0.1\n",
    "d = kstwobign.ppf(1 - alpha)\n",
    "print('Квантиль:', round(d, 2))\n",
    "\n",
    "\n",
    "while eta < d:\n",
    "    alpha += 0.001\n",
    "    d = kstwobign.ppf(1 - alpha)\n",
    "print('Наибольший уровень значимости:', round(alpha, 3))"
   ]
  },
  {
   "cell_type": "markdown",
   "metadata": {},
   "source": [
    " $V_k = (d_{1 - \\alpha},+ \\infty) = (1.22,+ \\infty)$\n",
    " \n",
    " $\\eta \\in V_k \\Rightarrow$ гипотеза отвергается"
   ]
  },
  {
   "cell_type": "markdown",
   "metadata": {},
   "source": [
    "#### 2.i.f"
   ]
  },
  {
   "cell_type": "code",
   "execution_count": 359,
   "metadata": {},
   "outputs": [
    {
     "name": "stdout",
     "output_type": "stream",
     "text": [
      "P1 =  9.865876450376946e-10\n",
      "P2 =  0.004661187037131107\n",
      "P3 =  0.40050394027848535\n",
      "P4 =  0.5948348716977958\n",
      "n*P1 =  4.932938225188473e-08\n",
      "n*P2 =  4.932938225188473e-08\n",
      "n*P3 =  4.932938225188473e-08\n",
      "n*P4 =  4.932938225188473e-08\n",
      "Xi^2:  458.97\n",
      "x_a1: 6.25\n"
     ]
    }
   ],
   "source": [
    "a = -1\n",
    "sigma = 0.5\n",
    "alpha_2 = 0.1\n",
    "\n",
    "edges = [-4.0, -2.3, -1.12, 0]\n",
    "\n",
    "p1 = norm.cdf(edges[0], a, sigma)\n",
    "p2 = norm.cdf(edges[1], a, sigma) - norm.cdf(edges[0], a, sigma)\n",
    "p3 = norm.cdf(edges[2], a, sigma) - norm.cdf(edges[1], a, sigma)\n",
    "p4 = 1 - p1 - p2 - p3\n",
    "print('P1 = ', p1 )\n",
    "print('P2 = ', p2 )\n",
    "print('P3 = ', p3 )\n",
    "print('P4 = ', p4 )\n",
    "print('n*P1 = ', n * p1)\n",
    "print('n*P2 = ', n * p1)\n",
    "print('n*P3 = ', n * p1)\n",
    "print('n*P4 = ', n * p1)\n",
    "\n",
    "groups = [[],[],[],[]]\n",
    "cur_edge_index = 0\n",
    "cur_group = 0\n",
    "\n",
    "for item in data_2:\n",
    "    cur_edge = edges[cur_edge_index]\n",
    "    if item <= cur_edge:\n",
    "        groups[cur_group].append(item)\n",
    "    else:\n",
    "        cur_group += 1\n",
    "        groups[cur_group].append(item)\n",
    "        cur_edge_index += 1\n",
    "\n",
    "n1, n2, n3, n4 = len(groups[0]), len(groups[1]), len(groups[2]), len(groups[3])\n",
    "\n",
    "chi = ((n1 - n*p1)**2) / (n*p1) + ((n2 - n*p2)**2) / (n*p2) + ((n3 - n*p3)**2) / (n*p3) + ((n4 - n*p4)**2) / (n*p4)\n",
    "print(\"Xi^2: \", round(chi, 2))\n",
    "print('x_a1:', round(chi2.ppf(1 - alpha_2, 3), 2))\n"
   ]
  },
  {
   "cell_type": "markdown",
   "metadata": {},
   "source": [
    "$\\chi^2 > \\chi_{3, 0.1}^2 \\Rightarrow$ гипотеза отвергается"
   ]
  },
  {
   "cell_type": "code",
   "execution_count": 365,
   "metadata": {},
   "outputs": [
    {
     "name": "stdout",
     "output_type": "stream",
     "text": [
      "Наибольший уровень значимости:  0.1\n"
     ]
    }
   ],
   "source": [
    "alpha = 0.1\n",
    "step = 0.001\n",
    "while chi < chi2.ppf(1 - alpha, 3):\n",
    "    alpha += step\n",
    "print('Наибольший уровень значимости: ', round(alpha, 5))"
   ]
  },
  {
   "cell_type": "markdown",
   "metadata": {},
   "source": [
    "#### 2.i.g"
   ]
  },
  {
   "cell_type": "code",
   "execution_count": 362,
   "metadata": {},
   "outputs": [
    {
     "name": "stdout",
     "output_type": "stream",
     "text": [
      "P1 =  0.13755228458086927\n",
      "P2 =  0.18057839956547955\n",
      "P3 =  0.16445889971824146\n",
      "P4 =  0.5174104161354098\n",
      "n*P1 =  6.877614229043464\n",
      "n*P2 =  6.877614229043464\n",
      "n*P3 =  6.877614229043464\n",
      "n*P4 =  6.877614229043464\n",
      "Xi^2:  155.65\n",
      "x_a1: 6.25\n"
     ]
    }
   ],
   "source": [
    "a = -1\n",
    "sum_abs = 0\n",
    "for item in data_2:\n",
    "    sum_abs += abs(item + 1)\n",
    "sigma = (2**0.5/n) * sum_abs\n",
    "alpha_2 = 0.1\n",
    "\n",
    "edges = [-4.0, -2.3, -1.12, 0]\n",
    "\n",
    "p1 = norm.cdf(edges[0], a, sigma)\n",
    "p2 = norm.cdf(edges[1], a, sigma) - norm.cdf(edges[0], a, sigma)\n",
    "p3 = norm.cdf(edges[2], a, sigma) - norm.cdf(edges[1], a, sigma)\n",
    "p4 = 1 - p1 - p2 - p3\n",
    "print('P1 = ', p1 )\n",
    "print('P2 = ', p2 )\n",
    "print('P3 = ', p3 )\n",
    "print('P4 = ', p4 )\n",
    "print('n*P1 = ', n * p1)\n",
    "print('n*P2 = ', n * p1)\n",
    "print('n*P3 = ', n * p1)\n",
    "print('n*P4 = ', n * p1)\n",
    "\n",
    "groups = [[],[],[],[]]\n",
    "cur_edge_index = 0\n",
    "cur_group = 0\n",
    "\n",
    "for item in data_2:\n",
    "    cur_edge = edges[cur_edge_index]\n",
    "    if item <= cur_edge:\n",
    "        groups[cur_group].append(item)\n",
    "    else:\n",
    "        cur_group += 1\n",
    "        groups[cur_group].append(item)\n",
    "        cur_edge_index += 1\n",
    "\n",
    "n1, n2, n3, n4 = len(groups[0]), len(groups[1]), len(groups[2]), len(groups[3])\n",
    "\n",
    "chi = ((n1 - n*p1)**2) / (n*p1) + ((n2 - n*p2)**2) / (n*p2) + ((n3 - n*p3)**2) / (n*p3) + ((n4 - n*p4)**2) / (n*p4)\n",
    "print(\"Xi^2: \", round(chi, 2))\n",
    "print('x_a1:', round(chi2.ppf(1 - alpha_2, 3), 2))\n"
   ]
  },
  {
   "cell_type": "markdown",
   "metadata": {},
   "source": [
    "$\\chi^2 > \\chi_{3, 0.1}^2 \\Rightarrow$ гипотеза отвергается"
   ]
  },
  {
   "cell_type": "code",
   "execution_count": 366,
   "metadata": {},
   "outputs": [
    {
     "name": "stdout",
     "output_type": "stream",
     "text": [
      "Наибольший уровень значимости:  0.1\n"
     ]
    }
   ],
   "source": [
    "alpha = 0.1\n",
    "step = 0.0001\n",
    "while chi < chi2.ppf(1 - alpha, 3):\n",
    "    alpha += step\n",
    "print('Наибольший уровень значимости: ', round(alpha, 5))"
   ]
  },
  {
   "cell_type": "markdown",
   "metadata": {},
   "source": [
    "## Выводы\n"
   ]
  },
  {
   "cell_type": "markdown",
   "metadata": {},
   "source": [
    "В данной практической работе были изучены методы математической статистики с использованием языка программирования Python.Была проведена работа с нахождением выборочных аналогов числовых характеристик, определением ОМП и ОММ оценкок, построением доверительных интервалов и работа с гипотезами."
   ]
  },
  {
   "cell_type": "code",
   "execution_count": null,
   "metadata": {},
   "outputs": [],
   "source": []
  }
 ],
 "metadata": {
  "kernelspec": {
   "display_name": "Python 3 (ipykernel)",
   "language": "python",
   "name": "python3"
  },
  "language_info": {
   "codemirror_mode": {
    "name": "ipython",
    "version": 3
   },
   "file_extension": ".py",
   "mimetype": "text/x-python",
   "name": "python",
   "nbconvert_exporter": "python",
   "pygments_lexer": "ipython3",
   "version": "3.11.4"
  }
 },
 "nbformat": 4,
 "nbformat_minor": 4
}
