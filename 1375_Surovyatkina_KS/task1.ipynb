{
 "cells": [
  {
   "cell_type": "markdown",
   "metadata": {},
   "source": [
    "# Практическая работа №1: Исследование двумерного нормального распределения\n",
    "Выполнила студенка гр. 1375 Суровяткина Ксения. Вариант №26"
   ]
  },
  {
   "cell_type": "markdown",
   "metadata": {},
   "source": [
    "## Цель работы:\n",
    "Исследовать свойства двумерного случайного вектора, имеющего нормальное распределение; овладеть навыками преобразования нормального вектора в стандартный и в вектор с независимыми компонентами."
   ]
  },
  {
   "cell_type": "markdown",
   "metadata": {},
   "source": [
    "## Основные теоретрические положения\n",
    "- ***Cлучайным вектором*** называется измеримое отображение $\\vec{\\xi}$ : $(\\Omega, \\mathfrak{F}) \\rightarrow (\\mathbb{R}^n, \\mathfrak{B}^n)$, где $\\mathfrak{B}^{n}$ — минимальная $\\sigma$-алгебра, порожденная n-мерными прямоугольниками вида <br>\n",
    "$(<a_{1}, b_{1}>, <a_{2}, b_{2}>, . . . , <a_{n}, b_{n}>)$, где $< , >$ означает, что каждая граница может быть либо включена, либо не включена в отрезок, $\\vec{\\xi}(\\omega) = (\\xi_{1}(\\omega), \\xi_{2}(\\omega), ..., \\xi_{n}(\\omega)) $."
   ]
  },
  {
   "cell_type": "markdown",
   "metadata": {},
   "source": [
    "- Случайный вектор $\\vec{\\xi} = (\\xi_{1}, \\xi_{2}, ... , \\xi_{n})^{\\intercal}: \\Omega \\rightarrow R^{n}$ называют ***нормальным*** (гауссовским), если существуют: вектор независимых стандартных нормальных случайных величин<br>\n",
    "$\\vec{\\eta} = (\\eta_{1}, \\eta_{2}, ... , \\eta_{n})^{\\intercal}$, матрица А размерности $n\\times m$ и вещественный вектор $B = (b_{1}, ... , b_{n})^{\\intercal}$ такие, что:\n",
    "$$\\vec{\\xi} = A\\cdot\\vec{\\eta} + B$$ \n",
    "При этом, $\\vec{\\xi} \\sim \\mathcal{N}(\\mu, \\Sigma)$, где $\\mu = \\mathbb{E}\\vec{\\xi} = (\\mathbb{E}\\xi_{1}, ... , \\mathbb{E}\\xi_{n})^{\\intercal}$ - вектор математических ожиданий компонент; $\\Sigma = \\{\\sigma_{i,j = 1}^{n}\\}$ - ковариационная матрица, где $\\sigma_{i,j} = \\mathrm{cov}\\{\\xi_i, \\xi_{j}\\}$ - ковариация"
   ]
  },
  {
   "cell_type": "markdown",
   "metadata": {},
   "source": [
    "- ***Плотность нормального вектора*** имеет вид:\n",
    "$$p_{\\vec{\\xi}}(x_1, ... , x_n) = \\frac{1}{(2\\pi)^\\frac{n}{2}\\cdot\\sqrt{\\mathrm{det}\\Sigma}}\\mathrm{exp}\\left\\{-\\frac{1}{2}(\\vec{x}-\\mu)^{\\intercal}\\cdot\\Sigma^{-1}(\\vec{x}-\\mu)\\right\\}$$\n",
    "где $\\vec{x} = (x_1, ..., x_n)^{\\intercal}$"
   ]
  },
  {
   "cell_type": "markdown",
   "metadata": {},
   "source": [
    "В частности, *плотность двумерного нормального вектора*:\n",
    "$$p(x,y) = \\frac{1}{2\\pi\\sigma_1\\sigma_2\\sqrt{1-\\rho^2}}\\cdot\\mathrm{exp}\\left\\{\\frac{1}{1-\\rho^2}\\cdot\\left(\\frac{(x-a_1)^2}{2\\sigma_1^2}-\\frac{\\rho(x-a_1)(y-a_2)}{\\sigma_1\\sigma_2}+\\frac{(y-a_2)^2}{\\sigma_2^2}\\right)\\right\\}$$\n",
    "где $a_1$ и $a_2$ - математические ожидания, $\\rho$ - коэффициент корреляции, $\\sigma_1$ и $\\sigma_2$ - дисперсии"
   ]
  },
  {
   "cell_type": "markdown",
   "metadata": {},
   "source": [
    "- **Свойства многомерного нормального распределения:**<br>\n",
    "1. Линейные комбинации случайных переменных, принадлежащих многомерному нормальному распределению, также являются нормально распределёнными;\n",
    "2. Условные и безусловные распределения, полученные из многомерного нормального распределения, также являются нормально распрделёнными;\n",
    "3. Параметры многомерного нормального распределения (средние и ковариационная матрица) полностью описывают его форму;\n",
    "4. Многомерное нормальное распределение устойчиво относительно линейных преобразований: если $\\vec{\\xi}\\sim\\mathcal{N}(\\mu, \\Sigma)$, A - произвольная матрица размерности $m\\times n$, а B - произвольный вектор размерности $m\\times 1$, то:\n",
    "$$A\\vec{\\xi} + B \\sim \\mathcal{N}(A\\mu+B,A\\Sigma,A^{\\intercal})$$"
   ]
  },
  {
   "cell_type": "markdown",
   "metadata": {},
   "source": [
    "- **Ковариационные характеристики случайного вектора:**\n",
    "1. *Ковариационная матрица случайного вектора* - это квадратная симметрическая неотрицательно определённая матрица, на диагонали которой располагаются дисперсии компонент вектор, а внедиагональные элементы - ковариации между компонентами;\n",
    "2. *Коэффициент корреляции* - это мера линейной зависимости двух случайных величин:\n",
    "$$\\rho(x,y) = \\frac{\\mathrm{cov}(x, y)}{\\sqrt{\\mathbb{D}x\\cdot\\mathbb{D}y}}$$\n",
    "где $\\mathrm{cov}(x,y)$ - ковариация, а $\\mathbb{D}$-дисперсия"
   ]
  },
  {
   "cell_type": "markdown",
   "metadata": {},
   "source": [
    "## Постановка задачи\n",
    "Для заданного двумерного нормального вектора необходимо вычислить числовые характеристики и выполнить заданные преобразования. Полученные результаты содержательно проинтерпретировать."
   ]
  },
  {
   "cell_type": "markdown",
   "metadata": {},
   "source": [
    "## Выполнение работы\n"
   ]
  },
  {
   "cell_type": "markdown",
   "metadata": {},
   "source": [
    "### Дано: \n",
    "Плотность двумерного нормального распределения имеет вид:\n",
    "$$p_{\\xi,\\eta}(x,y) = C\\mathrm{exp}\\left\\{-\\frac{1}{2}\\cdot(2x^2+4xy+5y^2-4x+8y+14)\\right\\}$$"
   ]
  },
  {
   "cell_type": "markdown",
   "metadata": {},
   "source": [
    "#### 1. Вычислить вектор математических ожиданий и ковариационные характеристики данного случайного вектора. Построить график плотности распределения $p_{\\xi,\\eta}$\n",
    "- Приведение квадратичной формы к каноническому виду методом Лагранжа:<br>\n",
    "\n",
    "$q(x,y) = 2x^2+4xy+5y^2-4x+8y+14=\\\\=(2x^2+4xy-4x)+5y^2+8y+14 =\\\\=2\\cdot(x^2+2x\\cdot(y-1)+(y-1)^2)-2\\cdot(y-1)^2+5y^2+8y+14=\\\\=2\\cdot(x+y-1)^2+3y^2+12y+12=\\\\=2\\cdot(x+y-1)^2+3\\cdot(y+2)^2=\\\\=2\\cdot((x-3)+(y+2))^2+3\\cdot(y+2)^2=\\\\=2\\cdot(x-3)^2+2\\cdot2\\cdot(x-3)(y+2)+5\\cdot(y+2)^2$<br>\n",
    "\n",
    "- Вектор математического ожидания:<br><br>\n",
    "$\\mathbb{E}\\begin{pmatrix}\\xi\\\\\\eta\\end{pmatrix}=\\begin{pmatrix}3\\\\-2\\end{pmatrix}$\n",
    "\n",
    "- Обратная ковариационная матрица:<br><br>\n",
    "$\\Sigma^{-1} = \\begin{pmatrix}2&2\\\\2&5\\end{pmatrix}$<br>\n",
    "\n",
    "- Ковариационная матрица:<br><br>\n",
    "$\\mathrm{det}\\Sigma^{-1}=10-4=6$<br><br>\n",
    "$\\Sigma=\\frac{1}{6}\\cdot\\begin{pmatrix}5&-2\\\\-2&2\\end{pmatrix}$<br><br>\n",
    "\n",
    "- $\\mathbb{D}(\\xi)=\\frac{5}{6}$; $\\mathbb{D}(\\eta)=\\frac{1}{3}$<br><br>\n",
    "$\\mathrm{cov}(\\xi,\\eta)=-\\frac{1}{3}$<br><br>\n",
    "$\\rho(\\xi,\\eta)=\\frac{\\normalsize\\mathrm{cov}(\\xi,\\eta)}{\\normalsize\\sqrt{\\mathbb{D}(\\xi)\\cdot\\mathbb{D}(\\eta)}}=-\\frac{\\small\\sqrt{10}}{\\normalsize 5}$<br><br>\n",
    "\n",
    "- Коэффициент С :<br><br>\n",
    "$\\mathrm{det}\\Sigma = \\frac{1}{6}$<br><br>\n",
    "$\\mathrm{C}=\\frac{1}{\\normalsize(2\\pi)^{\\frac{n}{2}}\\cdot\\mathrm{det}\\Sigma}=\\large\\frac{\\sqrt{6}}{2\\pi}$<br><br>\n",
    "\n",
    "- Плотность :<br><br>\n",
    "$$p_{\\xi,\\eta}(x,y)=\\frac{\\sqrt{6}}{2\\pi}\\cdot\\mathrm{exp}\\left\\{-\\frac{1}{2}\\cdot\\left[\\begin{pmatrix}x\\\\ y\\end{pmatrix}-\\begin{pmatrix}3\\\\-2\\end{pmatrix}\\right]^{\\intercal}\\cdot\\begin{pmatrix}2&2\\\\2&5\\end{pmatrix}\\cdot\\left[\\begin{pmatrix}x\\\\ y\\end{pmatrix}-\\begin{pmatrix}3\\\\-2\\end{pmatrix}\\right]\\right\\}$$"
   ]
  },
  {
   "cell_type": "code",
   "execution_count": 4,
   "metadata": {},
   "outputs": [
    {
     "name": "stdout",
     "output_type": "stream",
     "text": [
      "Note: you may need to restart the kernel to use updated packages.\n"
     ]
    },
    {
     "name": "stderr",
     "output_type": "stream",
     "text": [
      "ERROR: unknown command \"instal\" - maybe you meant \"install\"\n",
      "\n"
     ]
    }
   ],
   "source": [
    "pip install numpy"
   ]
  },
  {
   "cell_type": "code",
   "execution_count": null,
   "metadata": {},
   "outputs": [
    {
     "ename": "",
     "evalue": "",
     "output_type": "error",
     "traceback": [
      "\u001b[1;31mRunning cells with 'c:\\Program Files (x86)\\Microsoft Visual Studio\\Shared\\Python37_64\\python.exe' requires the ipykernel package.\n",
      "\u001b[1;31mRun the following command to install 'ipykernel' into the Python environment. \n",
      "\u001b[1;31mCommand: '\"c:/Program Files (x86)/Microsoft Visual Studio/Shared/Python37_64/python.exe\" -m pip install ipykernel -U --user --force-reinstall'"
     ]
    }
   ],
   "source": [
    "import matplotlib.pyplot as plt\n",
    "from mpl_toolkits.mplot3d import Axes3D\n",
    "import numpy as np\n",
    "u, v = np.mgrid[0:2*np.pi:20j, 0:np.pi:10j]\n",
    "x = np.cos(u)*np.sin(v)\n",
    "y = np.sin(u)*np.sin(v)\n",
    "z = np.cos(v)\n",
    "fig = plt.figure()\n",
    "ax = fig.add_subplot(111, projection='3d')\n",
    "ax.plot_surface(x, y, z, cmap='inferno')\n",
    "ax.legend()"
   ]
  },
  {
   "cell_type": "markdown",
   "metadata": {},
   "source": [
    "#### 2. Найти аффинное преобразование, переводящее исходный случайный вектор в стандартный нормальный.\n",
    "$q(x,y)=2\\cdot(x+y-1)^2+3\\cdot(y+2)^2=(\\sqrt{2}x+\\sqrt{2}y-\\sqrt{2})^2+(\\sqrt{3}y+2\\sqrt{3})^2$<br><br>\n",
    "\n",
    "$\\begin{pmatrix}\\xi_{st}\\\\\\eta_{st}\\end{pmatrix}=\\begin{pmatrix}\\sqrt{2}&\\sqrt{2}\\\\0&\\sqrt{3}\\end{pmatrix}\\begin{pmatrix}\\xi\\\\\\eta\\end{pmatrix}+\\begin{pmatrix}-\\sqrt{2}\\\\2\\sqrt{3}\\end{pmatrix}$\n",
    "\n",
    "$\\underline{\\mathrm{Check:}}$<br><br>\n",
    "$\\mathcal{N}(\\mu,\\Sigma_{st})$, где $\\mu$ - вектор математических ожиданий $\\mathbb{E}\\begin{pmatrix}\\xi_{st}\\\\\\eta_{st}\\end{pmatrix}=\\begin{pmatrix}0\\\\0\\end{pmatrix}$, а $\\Sigma_{st}=\\begin{pmatrix}1&0\\\\0&1\\end{pmatrix}$-матрица ковариаций\n",
    "\n",
    "$\\mathbb{E}\\begin{pmatrix}\\xi_{st}\\\\\\eta_{st}\\end{pmatrix}=\\begin{pmatrix}\\sqrt{2}&\\sqrt{2}\\\\0&\\sqrt{3}\\end{pmatrix}\\mathbb{E}\\begin{pmatrix}\\xi\\\\\\eta\\end{pmatrix}+\\begin{pmatrix}-\\sqrt{2}\\\\2\\sqrt{3}\\end{pmatrix}=\\begin{pmatrix}\\sqrt{2}&\\sqrt{2}\\\\0&\\sqrt{3}\\end{pmatrix}\\begin{pmatrix}3\\\\-2\\end{pmatrix}+\\begin{pmatrix}-\\sqrt{2}\\\\2\\sqrt{3}\\end{pmatrix}=\\begin{pmatrix}0\\\\0\\end{pmatrix}$\n",
    "\n",
    "$\\Sigma_{st} = A\\Sigma A^\\intercal=\\frac{1}{6}\\cdot\\begin{pmatrix}\\sqrt{2}&\\sqrt{2}\\\\0&\\sqrt{3}\\end{pmatrix}\\begin{pmatrix}5&-2\\\\-2&2\\end{pmatrix}\\begin{pmatrix}\\sqrt{2}&0\\\\\\sqrt{2}&\\sqrt{3}\\end{pmatrix}=\\frac{1}{6}\\cdot\\begin{pmatrix}6&0\\\\0&6\\end{pmatrix}=\\begin{pmatrix}1&0\\\\0&1\\end{pmatrix}$\n",
    "\n",
    "Следовательно, вектор $\\begin{pmatrix}\\xi_{st}\\\\\\eta_{st}\\end{pmatrix}$ явлеяется стандартным нормальным"
   ]
  },
  {
   "cell_type": "markdown",
   "metadata": {},
   "source": [
    "#### 3. Найти ортогональное преобразование, переводящее соответсвующий центрированный случайный вектор в вектор с независимыми компонентами.Построить график плотности полученного распределения.\n",
    "\n",
    "$\\Sigma^{-1}=\\begin{pmatrix}2&2\\\\2&5\\end{pmatrix}$\n",
    "\n",
    "$\\begin{vmatrix}2-\\lambda&2\\\\2&5-\\lambda\\end{vmatrix}=\\lambda^2-7\\lambda+6=0\\Rightarrow\\lambda_1=1, \\lambda_2=6$\n",
    "\n",
    "Для $\\lambda_1=1$:<br><br>\n",
    "$\\begin{pmatrix}1&2\\\\2&4\\end{pmatrix}\\sim\\begin{pmatrix}1&2\\end{pmatrix}=0,\\Rightarrow\\vec{v_1}=\\begin{pmatrix}-2\\\\1\\end{pmatrix},\\Rightarrow\\vec{v_1}'=\\frac{1}{\\sqrt{5}}\\cdot\\begin{pmatrix}-2\\\\1\\end{pmatrix}$\n",
    "\n",
    "Для $\\lambda_2=6$:<br><br>\n",
    "$\\begin{pmatrix}-4&2\\\\2&-1\\end{pmatrix}\\sim\\begin{pmatrix}2&-1\\end{pmatrix}=0,\\Rightarrow\\vec{v_2}=\\begin{pmatrix}1\\\\2\\end{pmatrix},\\Rightarrow\\vec{v_1}'=\\frac{1}{\\sqrt{5}}\\cdot\\begin{pmatrix}1\\\\2\\end{pmatrix}$\n",
    "\n",
    "Матрица ортогональных преобразований $Q^\\intercal$:<br><br>\n",
    "$Q^{\\intercal}=\\frac{1}{\\sqrt{5}}\\cdot\\begin{pmatrix}-2&1\\\\1&2\\end{pmatrix}$\n",
    "\n",
    "$\\begin{pmatrix}\\xi_3\\\\\\eta_3\\end{pmatrix}=\\frac{1}{\\sqrt{5}}\\cdot\\begin{pmatrix}-2&1\\\\1&2\\end{pmatrix}\\begin{pmatrix}\\xi\\\\\\eta\\end{pmatrix}$\n",
    "\n",
    "$\\mathbb{E}\\begin{pmatrix}\\xi_3\\\\\\eta_3\\end{pmatrix}=\\frac{1}{\\sqrt{5}}\\cdot\\begin{pmatrix}-2&1\\\\1&2\\end{pmatrix}\\mathbb{E}\\begin{pmatrix}\\xi\\\\\\eta\\end{pmatrix}=\\frac{1}{\\sqrt{5}}\\cdot\\begin{pmatrix}-2&1\\\\1&2\\end{pmatrix}\\begin{pmatrix}3\\\\-2\\end{pmatrix}=\\frac{1}{\\sqrt{5}}\\begin{pmatrix}-8\\\\-1\\end{pmatrix}$\n",
    "\n",
    "$\\Sigma_3=\\frac{1}{30}\\cdot\\begin{pmatrix}-2&1\\\\1&2\\end{pmatrix}\\begin{pmatrix}5&-2\\\\-2&2\\end{pmatrix}\\begin{pmatrix}-2&1\\\\1&2\\end{pmatrix}=\\frac{1}{30}\\cdot\\begin{pmatrix}30&0\\\\0&5\\end{pmatrix}=\\begin{pmatrix}1&0\\\\0&\\frac{1}{6}\\end{pmatrix}=\\begin{pmatrix}\\frac{1}{\\lambda_1}&0\\\\0&\\frac{1}{\\lambda_2}\\end{pmatrix},\\mathrm{det}\\Sigma_3=\\frac{1}{6}$<br><br>\n",
    "\n",
    "$\\Sigma_3^{-1}=\\begin{pmatrix}\\lambda_1&0\\\\0&\\lambda_2\\end{pmatrix}=\\begin{pmatrix}1&0\\\\0&6\\end{pmatrix}$\n",
    "\n",
    "$\\mathrm{C}=\\frac{\\sqrt{6}}{2\\pi}$\n",
    "\n",
    "Плотность:\n",
    "$p_{\\xi,\\eta}(x,y)=\\frac{\\sqrt{6}}{2\\pi}\\mathrm{exp}\\left(-\\frac{1}{2}\\cdot\\left(\\left(x+\\frac{8}{\\sqrt{5}}\\right)^2+6\\cdot\\left(y+\\frac{1}{\\sqrt{5}}\\right)^2\\right)\\right)\\\\\n",
    "p_{\\xi,\\eta}(x,y)=\\frac{\\sqrt{6}}{2\\pi}\\mathrm{exp}\\left\\{-\\frac{1}{2}\\cdot\\left[\\begin{pmatrix}x\\\\y\\end{pmatrix}-\\frac{1}{\\sqrt{5}}\\cdot\\begin{pmatrix}-8\\\\-1\\end{pmatrix}\\right]^\\intercal\\cdot\\begin{pmatrix}1&0\\\\0&6\\end{pmatrix}\\cdot\\left[\\begin{pmatrix}x\\\\y\\end{pmatrix}-\\frac{1}{\\sqrt{5}}\\cdot\\begin{pmatrix}-8\\\\-1\\end{pmatrix}\\right]\\right\\}$"
   ]
  },
  {
   "cell_type": "markdown",
   "metadata": {},
   "source": [
    "#### 4. Вычислить характеристики совместного распределения случайного вектора $(3\\xi+\\eta,4\\xi+\\eta)^\\intercal$ и записать его плотность. Построить график плотности получившегося распределения.\n",
    "\n",
    "$\\mathrm{A}=\\begin{pmatrix}3&1\\\\4&1\\end{pmatrix}$, $\\mathrm{detA}=3-4=-1\\ne 0\\Rightarrow$ матрица невырожденная\n",
    "\n",
    "$\\begin{pmatrix}\\xi_4\\\\\\eta_4\\end{pmatrix}=\\begin{pmatrix}3&1\\\\4&1\\end{pmatrix}\\begin{pmatrix}\\xi\\\\\\eta\\end{pmatrix}$\n",
    "\n",
    "$\\mathbb{E}\\begin{pmatrix}\\xi_4\\\\\\eta_4\\end{pmatrix}=\\begin{pmatrix}3&1\\\\4&1\\end{pmatrix}\\mathbb{E}\\begin{pmatrix}\\xi\\\\\\eta\\end{pmatrix}=\\begin{pmatrix}3&1\\\\4&1\\end{pmatrix}\\begin{pmatrix}3\\\\-2\\end{pmatrix}=\\begin{pmatrix}7\\\\10\\end{pmatrix}$\n",
    "\n",
    "$\\Sigma_4=\\mathrm{A}\\Sigma\\mathrm{A}^\\intercal=\\frac{1}{6}\\cdot\\begin{pmatrix}3&1\\\\4&1\\end{pmatrix}\\begin{pmatrix}5&-2\\\\-2&2\\end{pmatrix}\\begin{pmatrix}3&4\\\\1&1\\end{pmatrix}=\\frac{1}{6}\\cdot\\begin{pmatrix}35&48\\\\48&66\\end{pmatrix}=\\begin{pmatrix}\\frac{35}{6}&8\\\\8&11\\end{pmatrix}$, $\\mathrm{det}\\Sigma_4=\\frac{1}{6}$, $\\mathbb{D}\\xi_4=\\frac{35}{6}$, $\\mathbb{D}\\eta_4=11$, $\\mathrm{cov}(\\xi_4,\\eta_4)=8$, $\\rho(\\xi_4,\\eta_4)=\\frac{8\\cdot\\sqrt{2310}}{385}$ \n",
    "\n",
    "$\\Sigma_4^{-1}=6\\cdot\\begin{pmatrix}11&-8\\\\-8&\\frac{35}{6}\\end{pmatrix}=\\begin{pmatrix}66&-48\\\\-48&35\\end{pmatrix}$\n",
    "\n",
    "$\\mathrm{C}=\\Large\\frac{\\sqrt{6}}{2\\cdot\\pi}$\n",
    "\n",
    "$\\large p_{\\xi_4,\\eta_4}(x,y)=\\frac{\\sqrt{6}}{2\\cdot\\pi}\\cdot\\mathrm{exp}\\left\\{-\\frac{1}{2}\\cdot\\left[\\begin{pmatrix}x\\\\y\\end{pmatrix}-\\begin{pmatrix}7\\\\10\\end{pmatrix}\\right]^\\intercal\\begin{pmatrix}66&-48\\\\-48&35\\end{pmatrix}\\left[\\begin{pmatrix}x\\\\y\\end{pmatrix}-\\begin{pmatrix}7\\\\10\\end{pmatrix}\\right]\\right\\}$"
   ]
  },
  {
   "cell_type": "markdown",
   "metadata": {},
   "source": [
    "#### 5. Найти условное распределение $\\xi$ при условии $\\eta$. Вычислить $\\mathbb{E}(\\xi|\\eta)$ и $\\mathbb{D}(\\xi|\\eta).$\n",
    "\n",
    "*Формула условного распределения:*\n",
    "$$p_{\\xi|\\eta}=\\frac{p_{\\xi,\\eta}(x,y)}{p_{\\eta}(y)}$$\n",
    "\n",
    "*Плотность одномерного распределения:*\n",
    "$$p_\\eta(y)=\\frac{1}{\\sqrt{2\\pi\\mathbb{D}\\eta}}\\cdot\\mathrm{exp}\\left\\{-\\frac{1}{2}\\cdot\\frac{(y-\\mathbb{E}\\eta)^2}{\\mathbb{D}\\eta}\\right\\}$$\n",
    "\n",
    "$p_\\eta(y)=\\large\\frac{\\sqrt{3}}{\\sqrt{2\\pi}}\\cdot\\mathrm{exp}\\left\\{-\\frac{1}{2}\\cdot 3\\cdot(y+2)^2\\right\\}$\n",
    "\n",
    "$p_{\\xi|\\eta}=\\frac{\\normalsize\\frac{\\sqrt{6}}{2\\pi}\\cdot\\mathrm{exp}\\left\\{-\\frac{1}{2}\\cdot(2x^2+4xy+5y^2-4x+8y+14)\\right\\}}{\\normalsize\\frac{\\sqrt{3}}{\\sqrt{2\\pi}}\\cdot\\mathrm{exp}\\left\\{-\\frac{1}{2}\\cdot 3\\cdot(y+2)^2\\right\\}}=\\frac{1}{\\small\\sqrt{\\pi}}\\cdot\\mathrm{exp}\\left\\{-\\frac{1}{2}\\cdot(2x^2+4xy+2y^2-4x-4y+2)\\right\\}$\n",
    "\n",
    "$q(x,y)=2x^2+4xy+2y^2-4x-4y+2=2\\cdot(x^2+2x(y-1)+(y-1)^2)-2(y-1)^2+2y^2-4y+2=2(x-(1-y))^2$\n",
    "\n",
    "$\\mathbb{E}(\\xi|\\eta)=1-y$; $\\mathbb{D}(\\xi|\\eta)=2$"
   ]
  },
  {
   "cell_type": "markdown",
   "metadata": {},
   "source": [
    "## Вывод:\n",
    "Maybe переделанная цель????"
   ]
  },
  {
   "cell_type": "markdown",
   "metadata": {},
   "source": []
  }
 ],
 "metadata": {
  "kernelspec": {
   "display_name": "python",
   "language": "python",
   "name": "python"
  },
  "language_info": {
   "codemirror_mode": {
    "name": "ipython",
    "version": 3
   },
   "file_extension": ".py",
   "mimetype": "text/x-python",
   "name": "python",
   "nbconvert_exporter": "python",
   "pygments_lexer": "ipython3",
   "version": "3.7.8"
  },
  "orig_nbformat": 4
 },
 "nbformat": 4,
 "nbformat_minor": 2
}
