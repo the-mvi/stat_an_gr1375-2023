{
 "cells": [
  {
   "cell_type": "markdown",
   "metadata": {},
   "source": [
    "# Практическая работа №2: Классические методы математической статистики\n",
    "Выполнила студентка гр. 1375 Суровяткина Ксения. Вариант №26"
   ]
  },
  {
   "cell_type": "markdown",
   "metadata": {},
   "source": [
    "## Цель работы\n",
    "Научится применять методы математической статистики для решения задач статистического анализа; \n",
    "сформировать навыки реализации методов с помощью прикладных программных пакетов."
   ]
  },
  {
   "cell_type": "markdown",
   "metadata": {},
   "source": [
    "## Основные теоретические положения\n",
    "* **Функция правдоподобия** $\\mathrm{L} : \\mathcal{X} \\times \\Theta \\rightarrow (0, +\\infty):$\n",
    "\n",
    " $$\\mathrm{L}\\left(\\vec{X}, \\theta \\right) = \\prod \\limits_{i = 1}^n p_{\\theta}(x_i)$$\n",
    "где $p_{\\theta}(x)$ - плотность распределения\n",
    "\n",
    "* Оценка $\\widehat{\\theta}\\left(\\vec{X}\\right)$, максимизирующая функцию правдоподобия $\\mathrm{L}\\left(\\vec{X}, \\theta \\right)$ по $\\theta$ при каждом фиксированном $x$:\n",
    "$$\\mathrm{L}\\left(\\vec{X}, \\widehat{\\theta}\\left(\\vec{X}\\right)\\right) \\geq \\mathrm{L}\\left(\\vec{X}, \\widetilde{\\theta}\\left(\\vec{X}\\right)\\right), \\forall x \\in \\mathcal{X}, \\forall  \\widetilde{\\theta}\\left(\\vec{X}\\right)$$\n",
    "называется **оценкой максимального прадоподобия (ОМП)**\n",
    "\n",
    "\n",
    "* Пусть $X_1, \\ldots, X_n$ - выборка из распределения $p_{\\theta}$ ; $\\vec{\\theta} = \\left(\\theta_1, \\ldots, \\theta_d \\right)$ ; существует $\\mu_k\\left(\\theta\\right) = \\mathbb{E}_{\\theta}x_1^k, k = 1, \\ldots, d$\n",
    "\n",
    "Если существует единственное решение $\\widetilde{\\theta}\\left(\\vec{X}\\right)$ системы уравнений\n",
    "$$\\widehat{\\mu_k}\\left(\\widetilde{\\theta}\\right) = \\mu_k\\left(\\widetilde{\\theta}\\right), k = \\overline{1, d}$$\n",
    "где $\\widehat{\\mu_k}\\left(\\widetilde{\\theta}\\right) = \\frac{1}{n}\\sum \\limits_{i = 1}^n x_i^k$ - выборочный момент k-ого порядка, то $\\widetilde{\\theta}\\left(\\vec{X}\\right)$ называется **оценкой по методу моментов (ОММ)**\n",
    "\n",
    "* Оценка $\\widehat{\\theta}\\left(X\\right)$ параметра $\\theta$ называется **несмещённой**, если при каждом значении параметра $\\theta \\in \\Theta$\n",
    "$$\\mathbb{E}_{\\theta}\\widehat{\\theta}\\left(X\\right) = \\theta$$\n",
    "\n",
    "* Статистика $\\widehat{\\Theta} : \\mathcal{X} \\rightarrow \\mathcal{Y}$ , удовлетворяющая условию:\n",
    "$$\\mathbb{P}_{\\theta}\\left(\\widehat{\\Theta} \\ni \\theta\\right) \\geq 1 - \\alpha$$ \n",
    "называется **доверительной оценкой** парамаетра $\\theta$ уровня доверия $1 - \\alpha$.\n",
    "\n",
    "* Статистика $\\widehat{\\Theta} : \\mathcal{X} \\rightarrow \\mathbb{R}^2$, удовлетворяющая условию\n",
    "$$\\mathbb{P}_{\\theta}\\left(\\left[T_1\\left(\\vec{X}\\right), T_2\\left(\\vec{X}\\right)\\right] \\ni \\theta\\right) \\geq 1 - \\alpha, \\forall \\theta \\in \\Theta$$\n",
    "назвается **доверительным интервалом** параметра $\\theta$ уровня доверия $1 - \\alpha$.\n",
    "\n",
    "* Статистика $\\widehat{\\Theta_n}$ вида $\\widehat{\\Theta_n} = \\left[T_{1n}\\left(\\vec{X}\\right), T_{2n}\\left(\\vec{X}\\right)\\right]$ (определённая прикаждом $n \\in \\mathbb{N}$), удовлетворяющая условию\n",
    "$$\\lim _{n \\to \\infty } \\mathbb{P}_{\\theta} \\left(\\left[T_{1n}\\left(\\vec{X}\\right), T_{2n}\\left(\\vec{X}\\right)\\right] \\ni \\theta \\right) \\geq 1 - \\alpha, \\forall \\theta \\ni \\Theta$$\n",
    "называется **асимптотическим доверительным интервалом** параметра $\\theta$ уровня доверия $1 - \\alpha$.\n",
    "\n",
    "* **Простая гипотеза** - одноточечная гипотеза, определяющая точное значение параметра:\n",
    "$$H: \\theta = \\theta^*$$\n",
    "\n",
    "* **Сложная гипотеза** - гипотеза, состоящая из конечного или бесконечного числа простых гипотез.\n",
    "\n",
    "* **Доверительная область:** $\\{x \\in \\mathcal{X}| \\phi\\left(x\\right) = 0\\}$\n",
    "\n",
    "* **Критическая область:** $\\{x \\in \\mathcal{X}| \\phi\\left(x\\right) = 1\\}$ \n",
    "\n",
    "* **Область сомнения:** $\\{x \\in \\mathcal{X}| \\phi(x) \\in (0, 1)\\}$\n",
    "\n",
    "* **Нерандомизированный критерий**, если результаты наблюдений одзнозначно определяют решение:\n",
    "$$\\phi: \\mathcal{X} \\rightarrow \\{0,1\\}$$\n",
    "\n",
    "* **Статистика отношения правдоподобия:** $\\mathrm{LR}\\left(X, \\theta_1, \\theta_0\\right) = \\frac{\\mathrm{L}\\left(X, \\theta_1\\right)}{\\mathrm{L}\\left(X, \\theta_0\\right)}$\n",
    "\n",
    "* **Лемма Неймана-Пирсона:** существует более мощный критерий уровня значимости $\\alpha$ вида:\n",
    "$$\\phi(x) =\\left\\{\\begin{array}{l} 1, \\mathrm{LR} > c \\\\ \\mathrm{LR} = c  \\\\ 0, \\mathrm{LR} < c \\\\ \\end{array}\\right.$$\n",
    "где константа $c$ и вероятность $p \\in [0,1]$ определяются из уравнения: $\\mathbb{E}_{\\theta_0}\\phi(x) = \\mathbb{P}_{\\theta_0}\\left(\\mathrm{LR}(x)>c\\right) + p \\cdot \\mathbb{P}_{\\theta_0}\\left(\\mathrm{LR}(x)=c\\right) = \\alpha$\n"
   ]
  },
  {
   "cell_type": "markdown",
   "metadata": {},
   "source": [
    "## Постановка задачи\n",
    "Для полученных в результате эксперимента наборов данных выполнить статистическую обработку. Полученные результаты содержательно проинтерпретировать."
   ]
  },
  {
   "cell_type": "markdown",
   "metadata": {},
   "source": [
    "## Выполнение работы"
   ]
  },
  {
   "cell_type": "markdown",
   "metadata": {},
   "source": [
    "### Задание 1\n",
    "### a) Построить вариационный ряд, эмпирическую функцию распределения и гистограмму частот."
   ]
  },
  {
   "cell_type": "code",
   "execution_count": 479,
   "metadata": {},
   "outputs": [],
   "source": [
    "import matplotlib.pyplot as plt\n",
    "import numpy as np\n",
    "import seaborn as sns\n",
    "import statistics as stat\n",
    "import math\n",
    "from scipy.stats import chi2, norm, kstest, kstwobign, laplace, t, poisson, geom\n",
    "\n",
    "data_1 = [2, 0, 1, 0, 0, 1, 2, 0, 0, 0, 0, 0, 0, 0, 0, 0, 0, 1, 1, 1, 0, 1, 1, 0, 0, 1, 0, 3, 0, 2, 2, 2, 1, 2, 1, 1, 3, 3, 0, 0, 0, 0, 0, 1, 0, 1, 0, 0, 0, 1]\n",
    "n = len(data_1)"
   ]
  },
  {
   "cell_type": "code",
   "execution_count": 480,
   "metadata": {},
   "outputs": [
    {
     "name": "stdout",
     "output_type": "stream",
     "text": [
      "Вариационный ряд: 0,0,0,0,0,0,0,0,0,0,0,0,0,0,0,0,0,0,0,0,0,0,0,0,0,0,0,1,1,1,1,1,1,1,1,1,1,1,1,1,1,2,2,2,2,2,2,3,3,3\n"
     ]
    }
   ],
   "source": [
    "#вариационный ряд\n",
    "\n",
    "def variation(data):\n",
    "    data.sort()\n",
    "    data = [str(i) for i in data]\n",
    "    return ','.join(data)\n",
    "\n",
    "print( \"Вариационный ряд:\", variation(data_1))\n",
    "\n",
    "#print(data.count(0)/n) #частота\n",
    "#print(data.count(1)/n)\n",
    "#print(data.count(2)/n)\n",
    "#print(data.count(3)/n)"
   ]
  },
  {
   "cell_type": "markdown",
   "metadata": {},
   "source": [
    "Таким образом, вариационный ряд:\n",
    " $$\\vec{X}^\\prime = \\left(0, 0, 0, 0, 0, 0, 0, 0, 0, 0, 0, 0, 0, 0, 0, 0, 0, 0, 0, 0, 0, 0, 0, 0, 0, 0, 0, 1, 1, 1, 1, 1, 1, 1, 1, 1, 1, 1, 1, 1, 1, 2, 2, 2, 2, 2, 2, 3, 3, 3 \\right)$$"
   ]
  },
  {
   "cell_type": "code",
   "execution_count": 481,
   "metadata": {},
   "outputs": [
    {
     "data": {
      "image/png": "[encoded data removed]",
      "text/plain": [
       "<Figure size 640x480 with 1 Axes>"
      ]
     },
     "metadata": {},
     "output_type": "display_data"
    }
   ],
   "source": [
    "def F(x): #эмпирическая функция распределения P(X < x)\n",
    "    sum_i = 0\n",
    "    for item in data_1:\n",
    "        if item < x:\n",
    "            sum_i += 1 #сумма индикаторов\n",
    "    return sum_i/n\n",
    "\n",
    "sns.ecdfplot(data_1) #построение эмпирической функции распределения\n",
    "\n",
    "plt.title(\"Эмпирическая функция распределения\")\n",
    "plt.xlabel(\"x\")\n",
    "plt.ylabel(\"F(x)\")\n",
    "plt.show()"
   ]
  },
  {
   "cell_type": "markdown",
   "metadata": {},
   "source": [
    "| $x_i$  | 0    | 1    | 2    | 3    |\n",
    "|-------|------|------|------|------|\n",
    "|$n_i$   | 27   | 14   | 6    | 3    |\n",
    "| $\\frac{n_i}{n}$ | 0.54 | 0.28 | 0.12 | 0.06 |"
   ]
  },
  {
   "cell_type": "code",
   "execution_count": 482,
   "metadata": {},
   "outputs": [
    {
     "data": {
      "image/png": "[encoded data removed]",
      "text/plain": [
       "<Figure size 640x480 with 1 Axes>"
      ]
     },
     "metadata": {},
     "output_type": "display_data"
    }
   ],
   "source": [
    "#гистограмма частот\n",
    "\n",
    "hist = plt.hist(data_1, edgecolor='black', bins=4, weights=np.ones_like (data_1) / n, range=(min(data_1)-0.5, max(data_1)+0.5))\n",
    "plt.title('Гистограмма частот');"
   ]
  },
  {
   "cell_type": "markdown",
   "metadata": {},
   "source": [
    "### 1.b Вычислить выборочные аналоги следующих числовых характеристик:"
   ]
  },
  {
   "cell_type": "code",
   "execution_count": 483,
   "metadata": {},
   "outputs": [
    {
     "name": "stdout",
     "output_type": "stream",
     "text": [
      "Выборочное среднее:  0.7\n"
     ]
    }
   ],
   "source": [
    "#Математическое ожидание\n",
    "\n",
    "sum_= 0\n",
    "for item in data_1:\n",
    "    sum_ += item #сумма Х\n",
    "mn = sum_/n\n",
    "print(\"Выборочное среднее: \", mn)"
   ]
  },
  {
   "cell_type": "markdown",
   "metadata": {},
   "source": [
    "Получаем выборочный аналог математического ожидания - выборочное среднее:\n",
    "$$\\overline{X} =\\frac{1}{n}\\sum_{i=1}^{n}x_i= 0.7$$"
   ]
  },
  {
   "cell_type": "code",
   "execution_count": 484,
   "metadata": {},
   "outputs": [
    {
     "name": "stdout",
     "output_type": "stream",
     "text": [
      "Выборочная дисперсия:  0.81\n",
      "Выборочное СКО:  0.9\n"
     ]
    }
   ],
   "source": [
    "#Выборочный аналог дисперсии и СКО\n",
    "\n",
    "dif=[]\n",
    "for item in data_1:\n",
    "    dif.append((item - mn)**2) #массив  с (X_i-X_cp)^2\n",
    "S = round(sum(dif)/n, 2)\n",
    "\n",
    "s = S**0.5 #выборочное СКО\n",
    "\n",
    "print(\"Выборочная дисперсия: \", S)\n",
    "print(\"Выборочное СКО: \", s)"
   ]
  },
  {
   "cell_type": "markdown",
   "metadata": {},
   "source": [
    "Получаем выборочный аналог дисперсии и СКО - выборочную дисперсию и выборочное СКО: \n",
    "$$S^2 =\\frac{1}{n}\\sum_{i=1}^{n}\\left(x_i-\\overline{X}\\right)=0.81$$ \n",
    "$$S=\\sqrt{S^2}=0.9$$"
   ]
  },
  {
   "cell_type": "code",
   "execution_count": 485,
   "metadata": {},
   "outputs": [
    {
     "name": "stdout",
     "output_type": "stream",
     "text": [
      "Выборочная медиана:  0.0\n",
      "X_25 = 0 ; X_26 = 0\n"
     ]
    }
   ],
   "source": [
    "#Выборочная медиана\n",
    "\n",
    "med = stat.median(data_1)\n",
    "print(\"Выборочная медиана: \", med)\n",
    "print('X_25 =', data_1[24], '; X_26 =', data_1[25])"
   ]
  },
  {
   "cell_type": "markdown",
   "metadata": {},
   "source": [
    "Выборочная медиана: <br><br>\n",
    "$$np = 50\\cdot\\frac{1}{2}=25\\in \\mathbb Z \\Rightarrow \\large z_{50,\\frac{1}{2}} = \\normalsize \\left[ X_{(25)},X_{(26)} \\right) = \\left[0,0\\right) = 0$$"
   ]
  },
  {
   "cell_type": "code",
   "execution_count": 486,
   "metadata": {},
   "outputs": [
    {
     "name": "stdout",
     "output_type": "stream",
     "text": [
      "Выборочный коэффициент асимметрии:  1.119\n"
     ]
    }
   ],
   "source": [
    "#Выборочная асимметрия\n",
    "\n",
    "dif=[]\n",
    "for item in data_1:\n",
    "    dif.append((item - mn)**3) #массив  с (X_i-X_cp)^3\n",
    "skew_X = round(sum(dif)/(n*s**3), 3)\n",
    "print(\"Выборочный коэффициент асимметрии: \", skew_X)"
   ]
  },
  {
   "cell_type": "markdown",
   "metadata": {},
   "source": [
    "Выборочный коэффициент асимметрии: \n",
    "$$\\widehat{\\mathrm{Skew}}X=\\frac{1}{n}\\frac{\\sum \\limits_{i=1}^{n}\\left(x_i-\\overline{X}\\right)^3}{S^3} = 1.119$$"
   ]
  },
  {
   "cell_type": "code",
   "execution_count": 487,
   "metadata": {},
   "outputs": [
    {
     "name": "stdout",
     "output_type": "stream",
     "text": [
      "Выборочный коэффициент эксцесса:  0.283\n"
     ]
    }
   ],
   "source": [
    "#Выборочный эксцесс\n",
    "\n",
    "dif=[]\n",
    "for item in data_1:\n",
    "    dif.append((item - mn)**4) ##массив  с (X_i-X_cp)^4\n",
    "kurt_X = round(sum(dif)/(n*s**4) - 3, 3)\n",
    "print(\"Выборочный коэффициент эксцесса: \", kurt_X)"
   ]
  },
  {
   "cell_type": "markdown",
   "metadata": {},
   "source": [
    "Выборочный коэффициент эксцесса:\n",
    "$$\\widehat{\\mathrm{Kurt}}X=\\frac{1}{n}\\frac{\\sum \\limits_{i=1}^{n}\\left(x_i-\\overline{X}\\right)^4}{S^4}-3 = 0.283$$"
   ]
  },
  {
   "cell_type": "code",
   "execution_count": 488,
   "metadata": {},
   "outputs": [
    {
     "name": "stdout",
     "output_type": "stream",
     "text": [
      "F(a) = 0.0\n",
      "F(b) = 0.54\n",
      "Выборочный аналог P(a <= x <= b):  0.54\n"
     ]
    }
   ],
   "source": [
    "a, b = 0, 0.87\n",
    "print('F(a) =', F(a))\n",
    "print('F(b) =', F(b))\n",
    "print(\"Выборочный аналог P(a <= x <= b): \", F(b) - F(a))"
   ]
  },
  {
   "cell_type": "markdown",
   "metadata": {},
   "source": [
    "Выборочный аналог $\\mathbb{P}\\left(x \\in \\left[a, b\\right]\\right)$, a = 0.00, b = 0.87: <br><br>\n",
    "\n",
    "$$\\mathbb{P}\\left(x \\in \\left[a, b\\right]\\right) = \\mathrm{F}(b) - \\mathrm{F}(a) = 0.54 - 0 = 0.54$$\n",
    " где $\\mathrm{F}(x)$ - эмпирическая функция распределения"
   ]
  },
  {
   "cell_type": "markdown",
   "metadata": {},
   "source": [
    "### 1.c В предположении, что исходные наблюдения являются выборкой из распределения Пуассона, построить оценку максимального правдоподобия параметра $\\lambda$, а также оценку $\\lambda$ по методу моментов. Найти смещение оценок. <br><br>\n",
    "\n",
    "**Плотность распределения пуассона**: \n",
    "$$\\large q_{\\theta} = \\frac{\\lambda^x}{x!}e^{-\\lambda}$$\n",
    "\n",
    "***Оценка максимального правдоподобия:***<br><br>\n",
    "$ L\\left(\\vec{X}, \\theta \\right) =\\prod\\limits_{i = 1}^nq_{\\theta}\\left(\\normalsize x_i\\right)=\\prod\\limits_{i = 1}^n\\frac{\\lambda^x_i}{x_i!}e^{-\\lambda} = \\large \\lambda^{\\sum \\limits_{i=1}^{n}x_i} \\cdot e^{-n\\lambda} \\cdot \\prod\\limits_{i = 1}^n\\frac{1}{x_i!}$ <br><br>\n",
    "\n",
    "$LL\\left(\\vec{X}, \\theta \\right) = \\sum \\limits_{i=1}^{n}x_i \\cdot \\ln{\\lambda} - n\\lambda + \\ln{\\left(\\prod\\limits_{i = 1}^n\\frac{1}{\\large x_i!}\\right)}$ <br><br>\n",
    "\n",
    "$\\Large \\frac{\\partial LL}{\\partial \\lambda} = \\frac{\\sum \\limits_{i=1}^{n}x_i}{\\lambda} \\normalsize - n = 0 \\Rightarrow \\widehat{\\theta} = \\widehat{\\lambda} = \\overline{X}$ - ОМП <br><br>\n",
    "\n",
    "$\\large \\mathbb{E}_{\\theta}\\widehat{\\theta} = \\mathbb{E}_{\\theta}\\overline{X} = \\mathbb{E}_{\\theta}\\frac{1}{n}\\sum \\limits_{i=1}^{n}x_i = \\frac{1}{n} \\cdot \\normalsize n \\cdot \\lambda = \\lambda \\Rightarrow$ несмещённая оценка. <br><br>\n",
    "\n",
    "***Оценка методом моментов:***<br><br>\n",
    "$\\mathbb{E}X_1 = \\lambda$ - математическое ожидание (теоретический первый момент)<br><br> \n",
    "$\\mathrm{M_1} = \\overline{X}$ - выборочное среднее (выборочный первый момент)<br><br>\n",
    "Следовательно, $\\widetilde{\\theta} = \\widetilde{\\lambda} = \\overline{X}$<br><br>\n",
    "\n",
    "$\\large \\mathbb{E}_{\\theta}\\widetilde{\\theta} = \\mathbb{E}_{\\theta}\\overline{X} = \\mathbb{E}_{\\theta}\\frac{1}{n}\\sum \\limits_{i=1}^{n}x_i = \\frac{1}{n} \\cdot \\normalsize n \\cdot \\lambda = \\lambda \\Rightarrow$ несмещённая оценка.\n"
   ]
  },
  {
   "cell_type": "markdown",
   "metadata": {},
   "source": [
    "### 1.d Построить асимптотичексий доверительный интервал уровня значимости $\\alpha_1 = 0.20$ для параметра $\\lambda$ на базе оценки максимального правдоподобия. <br>\n",
    " **Плотность распределения пуассона**: \n",
    "$$\\large q_{\\theta} = \\frac{\\lambda^x}{x!}e^{-\\lambda}$$\n",
    "\n",
    "* Построение АДИ на базе ОМП:\n",
    "\n",
    "Из пункта 1.с:<br>\n",
    "\n",
    "$\\widehat{\\theta} = \\widehat{\\lambda} = \\overline{X}$<br>\n",
    "\n",
    "$\\Large \\frac{\\partial LL}{\\partial \\lambda} = \\frac{\\sum \\limits_{i=1}^{n}x_i}{\\lambda} \\normalsize - n$<br>\n",
    "\n",
    "$\\Large \\frac{\\partial^2 LL}{\\partial \\lambda^2} = \\normalsize - \\Large \\frac{\\sum \\limits_{i=1}^{n}x_i}{\\lambda^2}$<br>\n",
    "\n",
    "$\\mathrm{I}_n(\\lambda) = - \\large \\mathbb{E}_{\\theta}\\frac{\\partial^2 LL}{\\partial \\lambda^2} = \\mathbb{E}_{\\theta} \\left(\\frac{\\sum \\limits_{i=1}^{n}x_i}{\\lambda^2}\\right) = \\frac{1}{\\lambda^2}\\sum \\limits_{i=1}^{n}\\mathbb{E}_{\\theta}x_i = \\frac{1}{\\lambda^2} \\cdot n \\cdot \\lambda = \\Large \\frac{n}{\\lambda}$ <br>\n",
    "\n",
    "$\\mathrm{I}(\\lambda) = \\lim \\limits_{n \\to \\infty} \\large \\frac{1}{\\lambda} = \\frac{1}{\\lambda}$ <br>\n",
    "\n",
    "**Квантили:** \n",
    "\n",
    "Так как распределение симметричное: <br><br>\n",
    "$x_{\\alpha} : \\mathrm{\\Phi}(x_{\\alpha}) = 1 - \\frac{\\alpha}{2} = 1 - \\frac{0.2}{2} = 0.9$, где $\\alpha = \\alpha_1 = 0.2$<br><br>\n",
    "$\\mathrm{\\Phi}(x_{\\alpha}) = 0.9 \\Rightarrow x_{\\alpha} = 1.29$ (посчитано в коде с использованием scipy.stats).\n",
    "\n",
    "*Асимптотический доверительный интервал:* <br><br>\n",
    "$\\left[\\overline{X} - \\sqrt{\\frac{\\overline{X}}{n}} \\cdot x_{\\alpha} , \\overline{X} + \\sqrt{\\frac{\\overline{X}}{n}} \\cdot x_{\\alpha}\\right] \\ni \\lambda$\n",
    "\n",
    "Таким образом, АДИ уровня значимости $\\alpha_1 = 0.2$ для параметра $\\lambda$:\n",
    "$$\\left[0.55,0.85\\right] \\ni \\lambda$$\n",
    "\n",
    "* Построение АДИ на базе асимптотически нормальной оценки параметра:\n",
    "\n",
    "*Асимптотическая нормальность:*\n",
    "\n",
    "$\\sqrt{n}\\left(\\overline{X} - \\lambda\\right) \\sim \\mathcal{N}\\left(0, \\mathbb{D}x\\right)$\n",
    "\n",
    "Тогда получим:\n",
    "\n",
    "$\\sqrt{n}\\frac{\\left(\\overline{X} - \\lambda\\right)}{\\sqrt{\\lambda}} \\sim \\mathcal{N}\\left(0, 1\\right)$\n",
    "\n",
    "Так как распределение симметричное: <br><br>\n",
    "$x_{\\alpha} : \\mathrm{\\Phi}(x_{\\alpha}) = 1 - \\frac{\\alpha}{2} = 1 - \\frac{0.2}{2} = 0.9$, где $\\alpha = \\alpha_1 = 0.2$<br><br>\n",
    "$\\mathrm{\\Phi}(x_{\\alpha}) = 0.9 \\Rightarrow x_{\\alpha} = 0.816$ (посчитано в коде с использованием scipy.stats).\n",
    "\n",
    "*Асимптотический доверительный интервал:* <br><br>\n",
    "(Далее будут приведены окгруглённые до двух знаков после запятой значения, посчитанные в коде)\n",
    "1) $\\mathbb{D}x = \\lambda$. Заменим в знаменателе параметр на выборочную дисперсию:\n",
    "\n",
    "$\\mathbb{P}_{\\theta}\\left(-x_{\\alpha} \\leq \\sqrt{n} \\cdot \\frac{\\overline{X} - \\lambda}{\\sqrt{S^2}} \\leq x_{\\alpha}\\right) \\approx 1 - \\alpha$\n",
    "\n",
    "$\\mathbb{P}_{\\theta}\\left(\\overline{X} - \\frac{S}{\\sqrt{n}} \\cdot x_{\\alpha} \\leq \\lambda \\leq \\overline{X} + \\frac{S}{\\sqrt{n}} \\cdot x_{\\alpha}\\right) \\approx 1 - \\alpha$\n",
    "\n",
    "Таким образом, АДИ уровня значимости $\\alpha_1 = 0.2$ для параметра $\\lambda$:\n",
    "$$\\left[0.54,0.86\\right] \\ni \\lambda$$\n",
    "\n",
    "2) В знаменателе заменим параметр на $\\overline{X}$:\n",
    "\n",
    "$\\mathbb{P}_{\\theta}\\left(-x_{\\alpha} \\leq \\sqrt{n} \\cdot \\frac{\\overline{X} - \\lambda}{\\sqrt{\\overline{X}}} \\leq x_{\\alpha}\\right) \\approx 1 - \\alpha$\n",
    "\n",
    "$\\mathbb{P}_{\\theta}\\left(\\overline{X} - \\sqrt{\\frac{\\overline{X}}{n}} \\cdot x_{\\alpha} \\leq \\lambda \\leq \\overline{X} + \\sqrt{\\frac{\\overline{X}}{n}}\\right) \\approx 1 - \\alpha$\n",
    "\n",
    "Таким образом, АДИ уровня значимости $\\alpha_1 = 0.2$ для параметра $\\lambda$:\n",
    "$$\\left[0.55,0.85\\right] \\ni \\lambda$$\n",
    "\n",
    "3) \n",
    "$\\mathbb{P}_{\\theta}\\left(-x_{\\alpha} \\leq \\sqrt{n} \\cdot \\frac{\\overline{X} - \\lambda}{\\sqrt{\\lambda}} \\leq x_{\\alpha}\\right) \\approx 1 - \\alpha$\n",
    "\n",
    "$\\mathbb{P}_{\\theta}\\left(\\left|\\overline{X} - \\lambda\\right| \\leq x_{\\alpha} \\cdot \\sqrt{\\frac{\\lambda}{n}}\\right) \\approx 1 - \\alpha$\n",
    "\n",
    "Решим неравенство в скобках и получим границы интервала:\n",
    "$$\\left[0.6,0.8\\right] \\ni \\lambda$$"
   ]
  },
  {
   "cell_type": "code",
   "execution_count": 489,
   "metadata": {},
   "outputs": [
    {
     "name": "stdout",
     "output_type": "stream",
     "text": [
      "x_alpha = 1.290000000000001\n",
      "1) Асимптотический доверительный интервал:  [0.5473651415960298, 0.8526348584039701]\n",
      "2) Асимптотический доверительный интервал:  [0.5358098054084836, 0.8641901945915164]\n",
      "3) Асимптотический доверительный интервал:  [0.5473651415960298, 0.8526348584039701]\n",
      "4) Асимптотический доверительный интервал:  [0.6094675751428216, 0.8039804248571785]\n"
     ]
    }
   ],
   "source": [
    "x_alpha = 0\n",
    "while norm.cdf(x_alpha) <= 0.9:\n",
    "    x_alpha += 0.01\n",
    "print('x_alpha =', x_alpha)\n",
    "aci = []\n",
    "\n",
    "left_1 = mn - x_alpha * (mn / n)**0.5 #подсчёт левой границы АДИ\n",
    "aci.append(left_1)\n",
    "right_1 = mn + x_alpha * (mn / n)**0.5 #подсчёт правой границы АДИ\n",
    "aci.append(right_1)\n",
    "print(\"1) Асимптотический доверительный интервал: \", aci)\n",
    "\n",
    "left_2 = mn - (s / n**0.5) * x_alpha\n",
    "right_2 =  mn + (s / n**0.5) * x_alpha\n",
    "print(\"2) Асимптотический доверительный интервал: \", [left_2, right_2])\n",
    "\n",
    "left_3 = mn - x_alpha * (mn / n)**0.5\n",
    "right_3 = mn + x_alpha * (mn / n)**0.5\n",
    "print(\"3) Асимптотический доверительный интервал: \", [left_3, right_3])\n",
    "\n",
    "a = 100*50**3\n",
    "b = -140*50**3-168100\n",
    "c = 49*50**3\n",
    "Dis = b**2 - 4 * a * c\n",
    "left_4 = (-b - np.sqrt(Dis)) / (2 * a)\n",
    "right_4 = (-b + Dis**0.5) / (2 * a)\n",
    "print(\"4) Асимптотический доверительный интервал: \", [left_4, right_4])"
   ]
  },
  {
   "cell_type": "markdown",
   "metadata": {},
   "source": [
    "### 1.е Используя гистограмму частот, построить критерий значимости $\\chi^2$ проверки простой гипотезы согласия с распределением Пуассона с параметром $\\lambda_0 = 1.40$. Проверить гипотезу на уровне значимости $\\alpha_1 = 0.20$. Вычислить наибольшее значение уровня значимости, на котором ещё нет оснований отвергнуть данную гипотезу.\n",
    "\n",
    "Разобьём числовую прямую на интервалы: $G_1 = \\left(- \\infty, 0.5\\right]$,  $G_2 = \\left(0.5, 1.5\\right]$,  $G_3 = \\left(1.5, +\\infty\\right)$\n",
    "\n",
    "Рассмотрим $\\mathbb{P}_{k} = \\mathbb{P}_{\\theta}\\left(x_i \\in G_k\\right) = \\sum \\limits_{x \\in G_k} q_{\\theta}(x)$, где $q_{\\theta}(x)$ - плотность распределения Пуассона.\n",
    "\n",
    "$\\mathbb{P}_{1} = \\frac{1.4^0}{0!}e^{-1.4} = 0.25$ <br> \n",
    "\n",
    "$\\mathbb{P}_{2} = \\frac{1.4^1}{1!}e^{-1.4} = 0.35$ <br>\n",
    "\n",
    "$\\mathbb{P}_{3} = 1 - \\mathbb{P}_1 - \\mathbb{P}_2 = 0.4$ <br>\n",
    "\n",
    "Получили статистику критерия $\\chi^2 = \\sum \\limits_{i=1}^3 \\large \\frac{\\left(n_i - n\\mathbb{P}_i\\right)^2}{n\\mathbb{P}_i}  \\normalsize = 24.45$<br>\n",
    "Из таблицы: $\\chi_{k-1, \\alpha_1}^2 = \\chi_{2, 0.2}^2 = 3.22$ <br>\n",
    "\n",
    "$\\chi^2 > \\chi_{2, 0.2}^2 \\Rightarrow$ гипотезу отвергаем, так как статистика критерия попадает в критическую облать.\n",
    "\n",
    "Наибольшее значение уровня значимости, при котором ещё нет оснований отвергнуть данную гипотезу, $\\alpha = 5.7 \\cdot 10^{-15}$"
   ]
  },
  {
   "cell_type": "code",
   "execution_count": 490,
   "metadata": {},
   "outputs": [
    {
     "name": "stdout",
     "output_type": "stream",
     "text": [
      "P1 =  0.24659696394160646 , n*P1 =  12.329848197080324\n",
      "P2 =  0.3452357495182492 , n*P2 =  17.26178747591246\n",
      "P3 =  0.40816728654014434 , n*P3 =  20.408364327007217\n",
      "n1 =  27 , n2 =  14 , n3 =  9\n",
      "Статистика критерия:  24.448336321464986\n",
      "Табличное значение: 3.218875824868201\n",
      "Гипотеза отвергается\n",
      "Наибольший уровень значимости:  5.721361969260319e-15\n"
     ]
    }
   ],
   "source": [
    "lambda_0 = 1.4\n",
    "alpha_1 = 0.2\n",
    "\n",
    "edges = [0.5, 1.5, 3] #интервалы\n",
    "\n",
    "#подсчёт вероятностей\n",
    "p1 = poisson.cdf(edges[0], lambda_0)\n",
    "p2 = poisson.cdf(edges[1], lambda_0) - poisson.cdf(edges[0], lambda_0)\n",
    "p3 = 1 - p1 - p2\n",
    "print('P1 = ', p1, ', n*P1 = ', n * p1)\n",
    "print('P2 = ', p2, ', n*P2 = ', n * p2)\n",
    "print('P3 = ', p3, ', n*P3 = ', n * p3)\n",
    "\n",
    "#количество значений, попавших в интервал\n",
    "groups = [[],[],[]]\n",
    "cur_edge_index = 0\n",
    "cur_group = 0\n",
    "\n",
    "for item in data_1:\n",
    "    cur_edge = edges[cur_edge_index]\n",
    "    if item <= cur_edge:\n",
    "        groups[cur_group].append(item)\n",
    "    else:\n",
    "        cur_group += 1\n",
    "        groups[cur_group].append(item)\n",
    "        cur_edge_index += 1\n",
    "\n",
    "n1, n2, n3 = len(groups[0]), len(groups[1]), len(groups[2])\n",
    "#print(groups)\n",
    "print('n1 = ', n1, ', n2 = ', n2, ', n3 = ', n3)\n",
    "\n",
    "#критерий\n",
    "chi = ((n1 - n*p1)**2) / (n*p1) + ((n2 - n*p2)**2) / (n*p2) + ((n3 - n*p3)**2) / (n*p3)\n",
    "print(\"Статистика критерия: \", chi)\n",
    "print('Табличное значение:', chi2.ppf(1 - alpha_1, 2))\n",
    "\n",
    "if chi > chi2.ppf(1 - alpha_1, 2):\n",
    "    print('Гипотеза отвергается')\n",
    "else:\n",
    "    print('Гипотеза принимается')\n",
    "\n",
    "#наибольший уровень значимости\n",
    "alpha = 0.2\n",
    "step = 0.0001\n",
    "while chi > chi2.ppf(1 - alpha, 2):\n",
    "    alpha -= step\n",
    "print('Наибольший уровень значимости: ', alpha)"
   ]
  },
  {
   "cell_type": "markdown",
   "metadata": {},
   "source": [
    "### 1.f Построить критерий значимости $\\chi^2$ проверки сложной гипотезы согласия с распределением Пуассона. Проверить гипотезу на уровне значимости $\\alpha_1 = 0.20$. Вычислить наибольшее значение значение уровня значимости, на котором ещё нет оснований отвергнуть данную гипотезу.\n",
    "\n",
    "Проведём группировку, как в пункте 1.е. В качестев параметра $\\lambda$ возьмём его ОМП, то есть $\\lambda = \\overline{X} = 0.7$ \n",
    "\n",
    "$\\mathbb{P}_{1} = \\frac{\\overline{X}^0}{0!}e^{-\\overline{X}} = \\frac{0.7^0}{0!}e^{-0.7} = 0.5$ <br> \n",
    "\n",
    "$\\mathbb{P}_{2} = \\frac{\\overline{X}^1}{1!}e^{-\\overline{X}} = \\frac{0.7^1}{1!}e^{-0.7} = 0.35$ <br>\n",
    "\n",
    "$\\mathbb{P}_{3} = 1 - \\mathbb{P}_1 - \\mathbb{P}_2 = 0.15$ <br>\n",
    "\n",
    "Получили статистику критерия $\\chi^2 = \\sum \\limits_{i=1}^3 \\large \\frac{\\left(n_i - n\\mathbb{P}_i\\right)^2}{n\\mathbb{P}_i}  \\normalsize = 1.04$<br><br>\n",
    "Из таблицы: $\\chi_{k-1-r, \\alpha_1}^2 = \\chi_{1, 0.2}^2 = 1.64$ <br><br>\n",
    "$\\chi^2 > \\chi_{1, 0.2}^2 \\Rightarrow$ нет оснований отвергнуть гипотезу, так как статистика критерия не попадает в критическую облать.\n",
    "\n",
    "Наибольшее значение уровня значимости, при котором ещё нет оснований отвергнуть данную гипотезу, $\\alpha = 0.3$"
   ]
  },
  {
   "cell_type": "code",
   "execution_count": 491,
   "metadata": {},
   "outputs": [
    {
     "name": "stdout",
     "output_type": "stream",
     "text": [
      "P1 =  0.4965853037914095 , n*P1 =  24.829265189570478\n",
      "P2 =  0.34760971265398666 , n*P2 =  17.380485632699333\n",
      "P3 =  0.15580498355460382 , n*P3 =  7.790249177730191\n",
      "n1 =  27 , n2 =  14 , n3 =  9\n",
      "Статистика критерия:  1.0351431343497568\n",
      "Табличное значение: 1.6423744151498172\n",
      "Гипотеза принимается\n",
      "Наибольший уровень значимости:  0.3090000000000001\n"
     ]
    }
   ],
   "source": [
    "edges = [0.5, 1.5, 3] #интервалы\n",
    "\n",
    "#подсчёт вероятностей\n",
    "p1 = poisson.cdf(edges[0], mn)\n",
    "p2 = poisson.cdf(edges[1], mn) - poisson.cdf(edges[0], mn)\n",
    "p3 = 1 - p1 - p2\n",
    "print('P1 = ', p1, ', n*P1 = ', n * p1)\n",
    "print('P2 = ', p2, ', n*P2 = ', n * p2)\n",
    "print('P3 = ', p3, ', n*P3 = ', n * p3)\n",
    "\n",
    "#количество значений, попавших в интервал\n",
    "groups = [[],[],[]]\n",
    "cur_edge_index = 0\n",
    "cur_group = 0\n",
    "\n",
    "for item in data_1:\n",
    "    cur_edge = edges[cur_edge_index]\n",
    "    if item <= cur_edge:\n",
    "        groups[cur_group].append(item)\n",
    "    else:\n",
    "        cur_group += 1\n",
    "        groups[cur_group].append(item)\n",
    "        cur_edge_index += 1\n",
    "\n",
    "n1, n2, n3 = len(groups[0]), len(groups[1]), len(groups[2])\n",
    "#print(groups)\n",
    "print('n1 = ', n1, ', n2 = ', n2, ', n3 = ', n3)\n",
    "\n",
    "#критерий\n",
    "chi = ((n1 - n*p1)**2) / (n*p1) + ((n2 - n*p2)**2) / (n*p2) + ((n3 - n*p3)**2) / (n*p3)\n",
    "print(\"Статистика критерия: \", chi)\n",
    "print('Табличное значение:', chi2.ppf(1 - alpha_1, 1))\n",
    "\n",
    "if chi > chi2.ppf(1 - alpha_1, 1):\n",
    "    print('Гипотеза отвергается')\n",
    "else:\n",
    "    print('Гипотеза принимается')\n",
    "\n",
    "#наибольший уровень значимости\n",
    "alpha = 0.2\n",
    "step = 0.001\n",
    "while chi < chi2.ppf(1 - alpha, 1):\n",
    "    alpha += step\n",
    "print('Наибольший уровень значимости: ', alpha)"
   ]
  },
  {
   "cell_type": "markdown",
   "metadata": {},
   "source": [
    "### 1.g Построить наиболее мощный критерий проверки простой гипотезы пуассоновости с параметром $\\lambda = \\lambda_0 = 1.40$ при альтернативе пуассоновости с параметром $\\lambda = \\lambda_1 = 0.70$. Проверить гипотезу на уровне значимости $\\alpha_1 = 0.20$. Что получится, если поменять местами основную и альтернативную гипотезы?\n",
    "\n",
    "*Нулевая гипотеза* $H_0: \\lambda = \\lambda_0 = 1.4$\n",
    "\n",
    "*Альтернативная гипотеза* $H_1: \\lambda = \\lambda_1 = 0.7$\n",
    "\n",
    "*Функция правдоподобия:*\n",
    "\n",
    "$ L\\left(\\vec{X}, \\theta \\right) = \\large \\lambda^{\\sum \\limits_{i=1}^{n}x_i} \\cdot e^{-n\\lambda} \\cdot \\prod\\limits_{i = 1}^n\\frac{1}{x_i!}$\n",
    "\n",
    "*Статистика отношения правдоподобия:*\n",
    "\n",
    "$\\mathrm{LR}\\left(\\vec{X}, \\lambda_0, \\lambda_1\\right) = \\frac{\\mathrm{L}\\left(\\vec{X}, \\lambda_1\\right)}{\\mathrm{L}\\left(\\vec{X}, \\lambda_0\\right)} = \\left(\\frac{\\lambda_1}{\\lambda_0}\\right)^{\\sum \\limits_{i = 1}^n x_i} \\cdot \\exp{\\left(-n\\left(\\lambda_1 - \\lambda_0\\right)\\right)}$ - монотонная функция от $\\sum \\limits_{i = 1}^n x_i$\n",
    "\n",
    "$\\sum \\limits_{i = 1}^n x_i \\cdot \\ln{\\left(\\frac{\\lambda_1}{\\lambda_0}\\right)} + n\\left(\\lambda_0 - \\lambda_1\\right) > \\ln{c}$\n",
    "\n",
    "$\\sum \\limits_{i = 1}^n x_i \\cdot \\ln{\\left(\\frac{\\lambda_1}{\\lambda_0}\\right)} > \\ln{c} - n\\left(\\lambda_0 - \\lambda_1\\right)$\n",
    "\n",
    "Так как $\\lambda_0 > \\lambda_1$, то меняем знак неравенства:\n",
    "\n",
    "$\\overline{X} < \\large \\frac{\\ln{c} - n\\left(\\lambda_0 - \\lambda_1\\right)}{n \\cdot \\left(\\ln{\\lambda_1} - \\ln{\\lambda_0}\\right) }$\n",
    "\n",
    "В силу монотонности статистики LR относительно $\\overline{X}$:\n",
    "\n",
    "$\\mathrm{LR} > c \\iff \\overline{X} < c^*$\n",
    "\n",
    "$\\mathrm{LR} < c \\iff \\overline{X} > c^*$\n",
    "\n",
    "Тогда получим:\n",
    "\n",
    "$$ \\phi(x) =\\left\\{\\begin{array}{l} 1, \\overline{X} < c^* \\\\ p, \\overline{X} = c^* \\\\ 0, \\overline{X} > c^*\\\\ \\end{array}\\right.$$\n",
    "Используя ЦПТ, получаем эквивалентный критерий:\n",
    "\n",
    "$\\sqrt{n} \\frac{\\overline{X} - \\mathbb{E}x}{\\sqrt{\\mathbb{D}}} \\sim \\mathcal{N}(0, 1)$ \n",
    "\n",
    "$\\sqrt{n} \\frac{\\overline{X} - \\lambda_0}{\\sqrt{\\lambda_0}}\\sim \\mathcal{N}(0, 1)$, при $H_0$\n",
    "\n",
    "$\\Phi\\left(\\sqrt{n} \\frac{\\overline{X} - \\lambda_0}{\\sqrt{\\lambda_0}} \\geq \\sqrt{n} \\frac{c^* - \\lambda_0}{\\sqrt{\\lambda_0}}\\right) =1 - \\Phi\\left(\\sqrt{n} \\frac{c^* - \\lambda_0}{\\sqrt{\\lambda_0}}\\right) = \\alpha_1$\n",
    "\n",
    "Квантиль:\n",
    "\n",
    "$x_{\\alpha} : \\Phi(x_{\\alpha}) = 1 - \\alpha_1 = 1 - 0.2 = 0.8 \\Rightarrow x_{\\alpha} = 0.85$\n",
    "\n",
    "$c^* = \\frac{x_{\\alpha} \\sqrt{\\lambda_0}}{\\sqrt{n}} + \\lambda_0 = 1.54$\n",
    "\n",
    "$\\overline{X} = 0.7$\n",
    "$$ \\phi(x) =\\left\\{\\begin{array}{l} 1, \\overline{X} < 1.54 \\\\ p, \\overline{X} = 1.54 \\\\ 0, \\overline{X} > 1.54\\\\ \\end{array}\\right.$$\n",
    "Так как $\\overline{X} < c^*$, то гипотеза отвергается."
   ]
  },
  {
   "cell_type": "code",
   "execution_count": 492,
   "metadata": {},
   "outputs": [
    {
     "name": "stdout",
     "output_type": "stream",
     "text": [
      "x_alpha = 0.8500000000000005\n",
      "c* = 1.5422322045107928\n",
      "Среднее =  0.7\n"
     ]
    }
   ],
   "source": [
    "alpha_1 = 0.2\n",
    "lambda_0 = 1.4\n",
    "\n",
    "x_alpha = 0\n",
    "while norm.cdf(x_alpha) <= 0.8:\n",
    "    x_alpha += 0.01\n",
    "print('x_alpha =', x_alpha)\n",
    "\n",
    "c1_star = (x_alpha * (lambda_0**0.5)) / (n**0.5) + lambda_0\n",
    "print('c* =', c1_star)\n",
    "\n",
    "print('Среднее = ', mn)"
   ]
  },
  {
   "cell_type": "markdown",
   "metadata": {},
   "source": [
    "**Поменяем местами основную и альтернативную гипотезы**\n",
    "\n",
    "*Нулевая гипотеза* $H_0: \\lambda = \\lambda_1 = 0.7$\n",
    "\n",
    "*Альтернативная гипотеза* $H_1: \\lambda = \\lambda_0 = 1.4$\n",
    "\n",
    "*Функция правдоподобия:*\n",
    "\n",
    "$ L\\left(\\vec{X}, \\theta \\right) = \\large \\lambda^{\\sum \\limits_{i=1}^{n}x_i} \\cdot e^{-n\\lambda} \\cdot \\prod\\limits_{i = 1}^n\\frac{1}{x_i!}$\n",
    "\n",
    "*Статистика отношения правдоподобия:*\n",
    "\n",
    "$\\mathrm{LR}\\left(\\vec{X}, \\lambda_0, \\lambda_1\\right) = \\frac{\\mathrm{L}\\left(\\vec{X}, \\lambda_0\\right)}{\\mathrm{L}\\left(\\vec{X}, \\lambda_1\\right)} = \\left(\\frac{\\lambda_0}{\\lambda_1}\\right)^{\\sum \\limits_{i = 1}^n x_i} \\cdot \\exp{\\left(-n\\left(\\lambda_0 - \\lambda_1\\right)\\right)}$ - монотонная функция от $\\sum \\limits_{i = 1}^n x_i$\n",
    "\n",
    "$\\sum \\limits_{i = 1}^n x_i \\cdot \\ln{\\left(\\frac{\\lambda_0}{\\lambda_1}\\right)} + n\\left(\\lambda_1 - \\lambda_0\\right) > \\ln{c}$\n",
    "\n",
    "$\\sum \\limits_{i = 1}^n x_i \\cdot \\ln{\\left(\\frac{\\lambda_0}{\\lambda_1}\\right)} > \\ln{c} - n\\left(\\lambda_1 - \\lambda_0\\right)$\n",
    "\n",
    "$\\overline{X} > \\large \\frac{\\ln{c} - n\\left(\\lambda_1 - \\lambda_0\\right)}{n \\cdot \\left(\\ln{\\lambda_0} - \\ln{\\lambda_1}\\right)}$\n",
    "\n",
    "В силу монотонности статистики LR относительно $\\overline{X}$:\n",
    "\n",
    "$\\mathrm{LR} > c \\iff \\overline{X} > c^*$\n",
    "\n",
    "$\\mathrm{LR} < c \\iff \\overline{X} < c^*$\n",
    "\n",
    "Тогда получим:\n",
    "\n",
    "$$ \\phi(x) =\\left\\{\\begin{array}{l} 1, \\overline{X} > c^* \\\\ p, \\overline{X} = c^* \\\\ 0, \\overline{X} < c^*\\\\ \\end{array}\\right.$$\n",
    "Используя ЦПТ, получаем эквивалентный критерий:\n",
    "\n",
    "$\\sqrt{n} \\frac{\\overline{X} - \\mathbb{E}x}{\\sqrt{\\mathbb{D}}} \\sim \\mathcal{N}(0, 1)$ \n",
    "\n",
    "$\\sqrt{n} \\frac{\\overline{X} - \\lambda_1}{\\sqrt{\\lambda_1}}\\sim \\mathcal{N}(0, 1)$, при $H_0$\n",
    "\n",
    "$\\Phi\\left(\\sqrt{n} \\frac{\\overline{X} - \\lambda_1}{\\sqrt{\\lambda_1}} \\geq \\sqrt{n} \\frac{c^* - \\lambda_1}{\\sqrt{\\lambda_1}}\\right) =1 - \\Phi\\left(\\sqrt{n} \\frac{c^* - \\lambda_1}{\\sqrt{\\lambda_1}}\\right) = \\alpha_1$\n",
    "\n",
    "$x_{\\alpha} : \\Phi(x_{\\alpha}) = 1 - \\alpha_1 = 1 - 0.2 = 0.8 \\Rightarrow x_{\\alpha} = 0.85$\n",
    "\n",
    "$c^* = \\frac{x_{\\alpha} \\sqrt{\\lambda_1}}{\\sqrt{n}} + \\lambda_1 = 0.8$\n",
    "\n",
    "$$ \\phi(x) =\\left\\{\\begin{array}{l} 1, \\overline{X} > 0.8 \\\\ p, \\overline{X} = 0.8 \\\\ 0, \\overline{X} < 0.8\\\\ \\end{array}\\right.$$\n",
    "\n",
    "$\\overline{X} = 0.7$\n",
    "\n",
    "Так как $\\overline{X} < c^*$, то нет оснований отвергнуть гипотезу."
   ]
  },
  {
   "cell_type": "code",
   "execution_count": 493,
   "metadata": {},
   "outputs": [
    {
     "name": "stdout",
     "output_type": "stream",
     "text": [
      "x_alpha = 0.8500000000000005\n",
      "c = 0.8005733563126934\n",
      "Среднее =  0.7\n"
     ]
    }
   ],
   "source": [
    "lambda_1 = 0.7\n",
    "print('x_alpha =', x_alpha)\n",
    "c1_star = (x_alpha * (lambda_1**0.5)) / (n**0.5) + lambda_1\n",
    "print('c =', c1_star)\n",
    "print('Среднее = ', mn)"
   ]
  },
  {
   "cell_type": "markdown",
   "metadata": {},
   "source": [
    "### 1.h В пунктах (c) - (f) заменить семейство распределений Пуассона на семейство геометрических распределений:\n",
    "$$\\mathbb{P}_{\\lambda}\\left(X = k\\right) = \\frac{\\lambda^k}{(\\lambda + 1)^{k+1}}, k \\in \\mathbb{Z}_+$$\n",
    "\n",
    "* 1.h.c <br>\n",
    "\n",
    "Преобразуем плотность: <br>\n",
    "\n",
    "$\\mathbb{P}_{\\lambda}\\left(X = k\\right) = \\frac{\\lambda^k}{(\\lambda + 1)^{k+1}} = \\frac{1}{\\lambda + 1} \\cdot \\left(\\frac{\\lambda}{\\lambda + 1}\\right)^k = \\frac{1}{\\lambda + 1} \\cdot \\left(\\frac{\\lambda + 1 - 1}{\\lambda + 1}\\right)^k = \\frac{1}{\\lambda + 1} \\cdot \\left(1 - \\frac{1}{\\lambda + 1}\\right)^k$ <br>\n",
    "\n",
    "Пусть $\\frac{1}{\\lambda + 1} = p$ , тогда $\\mathbb{E}x = \\frac{1-p}{p} = \\lambda$\n",
    "\n",
    "**Оценка максимального правдоподобия:** <br>\n",
    "\n",
    "$\\mathrm{L}\\left(\\vec{X}, \\theta \\right) = \\lambda^{\\sum \\limits_{i = 1}^n x_i} + (\\lambda + 1)^{-\\sum \\limits_{i = 1}^n x_i - n}$ <br>\n",
    "\n",
    "$\\mathrm{LL}\\left(\\vec{X}, \\theta \\right) = \\sum \\limits_{i = 1}^n x_i \\ln{\\lambda} - \\left(\\sum \\limits_{i = 1}^n x_i + n\\right) \\ln{(\\lambda + 1)}$<br>\n",
    "\n",
    "$\\large \\frac{\\partial LL}{\\partial \\lambda} = \\frac{\\sum \\limits_{i = 1}^n x_i}{\\lambda} - \\large \\frac{\\sum \\limits_{i = 1}^n x_i + n}{\\lambda + 1} \\normalsize = 0$, $\\Rightarrow \\widehat{\\theta} = \\widehat{\\lambda} = \\overline{X}$ - ОМП <br>\n",
    "\n",
    "$\\mathbb{E}_{\\theta}\\widehat{\\theta} = \\frac{1}{n}\\sum \\limits_{i = 1}^n\\mathbb{E}_{\\theta}x_i = \\frac{1}{n} \\cdot n \\cdot \\lambda = \\lambda$, $\\Rightarrow$ несмещённая оценка <br>\n",
    "\n",
    "**Оценка методом моментов:** <br>\n",
    "\n",
    "$\\mathbb{E}X_1 = \\lambda$ - математическое ожидание (теоретическая величина)<br><br> \n",
    "$\\mathrm{M_1} = \\overline{X}$ - выборочное среднее (выборочная величина)<br><br>\n",
    "Следовательно, $\\widetilde{\\theta} = \\widetilde{\\lambda} = \\overline{X}$ - ОММ<br>\n",
    "\n",
    "$\\large \\mathbb{E}_{\\theta}\\widetilde{\\theta} = \\mathbb{E}_{\\theta}\\overline{X} = \\mathbb{E}_{\\theta}\\frac{1}{n}\\sum \\limits_{i=1}^{n}x_i = \\frac{1}{n} \\cdot \\normalsize n \\cdot \\lambda = \\lambda \\Rightarrow$ несмещённая оценка.\n",
    "\n",
    "\n",
    "* 1.h.d <br>\n",
    "\n",
    " Из предыдущего пункта: $\\widehat{\\lambda} = \\overline{X}$\n",
    "\n",
    " $ \\frac{\\partial LL}{\\partial \\lambda} = \\frac{\\sum \\limits_{i = 1}^n x_i}{\\lambda} - \\frac{\\sum \\limits_{i = 1}^n x_i + n}{\\lambda + 1}$ <br>\n",
    "\n",
    " $ \\frac{\\partial^2 LL}{\\partial \\lambda^2} = - \\frac{\\sum \\limits_{i = 1}^n x_i}{\\lambda^2} + \\frac{\\sum \\limits_{i = 1}^n x_i + n}{(\\lambda + 1)^2}$ <br>\n",
    "\n",
    " $\\mathrm{I}_n(\\lambda) = - \\large \\mathbb{E}_{\\theta}\\frac{\\partial^2 LL}{\\partial \\lambda^2} = \\mathbb{E}_{\\theta}\\left(\\frac{\\sum \\limits_{i = 1}^n x_i}{\\lambda^2} - \\frac{\\sum \\limits_{i = 1}^n x_i + n}{(\\lambda + 1)^2}\\right) = \\frac{1}{\\lambda^2}\\sum \\limits_{i = 1}^n\\mathbb{E}_{\\theta}x_i - \\frac{1}{(\\lambda + 1)^2}\\sum \\limits_{i = 1}^n\\mathbb{E}_{\\theta}x_i - \\frac{1}{(\\lambda + 1)^2}\\mathbb{E}_{\\theta}n = \\frac{n}{\\lambda} - \\frac{n(\\lambda - 1)}{(\\lambda + 1)^2}$ <br>\n",
    "\n",
    " $\\mathrm{I}(\\lambda) = \\lim \\limits_{n \\to \\infty}\\left(\\frac{1}{\\lambda} - \\frac{\\lambda - 1}{(\\lambda + 1)^2}\\right) = \\left(\\frac{1}{\\lambda} - \\frac{\\lambda - 1}{(\\lambda + 1)^2}\\right) = \\frac{3\\lambda + 1}{\\lambda(\\lambda + 1)^2}$ <br>\n",
    "\n",
    " **Квантили:** \n",
    " \n",
    " Так как распределение симметричное: <br><br>\n",
    "$x_{\\alpha} : \\mathrm{\\Phi}(x_{\\alpha}) = 1 - \\frac{\\alpha}{2} = 1 - \\frac{0.2}{2} = 0.9$, где $\\alpha = \\alpha_1 = 0.2$<br><br>\n",
    "$\\mathrm{\\Phi}(x_{\\alpha}) = 0.9 \\Rightarrow x_{\\alpha} = 0.816$\n",
    "\n",
    "*Асимптотический доверительный интервал:* <br><br>\n",
    "$\\left[\\overline{X} - \\sqrt{\\frac{\\overline{X}}{n\\left(3\\overline{X}+1\\right)}} \\cdot x_{\\alpha} , \\overline{X} + \\sqrt{\\frac{\\overline{X}}{n\\left(3\\overline{X}+1\\right)}} \\cdot x_{\\alpha}\\right] \\ni \\lambda$"
   ]
  },
  {
   "cell_type": "code",
   "execution_count": 494,
   "metadata": {},
   "outputs": [
    {
     "name": "stdout",
     "output_type": "stream",
     "text": [
      "Асимптотический доверительный интервал:  [0.64, 0.76]\n"
     ]
    }
   ],
   "source": [
    "aci_2 = []\n",
    "\n",
    "left_2 = mn - x_alpha * (mn / (n*(3*mn+1)))**0.5 #подсчёт левой границы АДИ\n",
    "aci_2.append(round(left_2, 2))\n",
    "\n",
    "right_2 = mn + x_alpha * (mn / (n*(3*mn+1)))**0.5 #подсчёт правой границы АДИ\n",
    "aci_2.append(round(right_2, 2))\n",
    "\n",
    "print(\"Асимптотический доверительный интервал: \", aci_2)"
   ]
  },
  {
   "cell_type": "markdown",
   "metadata": {},
   "source": [
    "Таким образом, АДИ уровня значимости $\\alpha_1$ для параметра $\\lambda$:\n",
    "$$\\left[0.64,0.76\\right] \\ni \\lambda$$\n",
    "\n",
    "* 1.h.e\n",
    "\n",
    "Разобьём числовую прямую на интервалы: $G_1 = \\left(- \\infty, 0.5\\right]$,  $G_2 = \\left(0.5, 1.5\\right]$,  $G_3 = \\left(1.5, +\\infty\\right)$\n",
    "\n",
    "Рассмотрим $\\mathbb{P}_{k} = \\mathbb{P}_{\\theta}\\left(x_i \\in G_k\\right) = \\sum \\limits_{x \\in G_k} q_{\\theta}(x)$, где $q_{\\theta}(x)$ - плотность данного распределения.\n",
    "\n",
    "$\\mathbb{P}_{1} = \\frac{1.4^0}{2.4^1} = 0.42$ <br>\n",
    "$\\mathbb{P}_{2} = \\frac{1.4^1}{2.4^2} = 0.24$ <br>\n",
    "$\\mathbb{P}_{3} = 1 - \\mathbb{P}_1 - \\mathbb{P}_2 = 0.34$ <br>\n",
    "\n",
    "Получили статистику критерия $\\chi^2 = \\sum \\limits_{i=1}^3 \\large \\frac{\\left(n_i - n\\mathbb{P}_i\\right)^2}{n\\mathbb{P}_i}  \\normalsize = 5.88$\n",
    "\n",
    "Из таблицы: $\\chi_{k-1, \\alpha_1}^2 = \\chi_{2, 0.2}^2 = 3.22$\n",
    "\n",
    "$\\chi^2 > \\chi_{2, 0.2}^2 \\Rightarrow$ гипотеза отвергается, так как статистика критерия попадает в критическую облать.\n",
    "\n",
    "Наибольшее значение уровня значимости, при котором ещё нет оснований отвергнуть данную гипотезу, $\\alpha = 0.053$"
   ]
  },
  {
   "cell_type": "code",
   "execution_count": 495,
   "metadata": {},
   "outputs": [
    {
     "name": "stdout",
     "output_type": "stream",
     "text": [
      "P1 =  0.4166666666666667 , n*P1 =  20.833333333333336\n",
      "P2 =  0.24305555555555552 , n*P2 =  12.152777777777777\n",
      "P3 =  0.34027777777777773 , n*P3 =  17.013888888888886\n",
      "n1 =  27 , n2 =  14 , n3 =  9\n",
      "Статистика критерия:  5.880816326530609\n",
      "Табличное значение: 3.218875824868201\n",
      "Гипотеза отвергается\n",
      "Наибольший уровень значимости:  0.0528000000000062\n"
     ]
    }
   ],
   "source": [
    "lambda_0 = 1.4\n",
    "p = 1 / (lambda_0 + 1)\n",
    "edges = [0.5, 1.5, 3] #интервалы\n",
    "\n",
    "#подсчёт вероятностей\n",
    "p1 = geom.cdf(1, p)\n",
    "p2 = geom.cdf(2, p) - geom.cdf(1, p)\n",
    "p3 = 1 - p1 - p2\n",
    "print('P1 = ', p1, ', n*P1 = ', n * p1)\n",
    "print('P2 = ', p2, ', n*P2 = ', n * p2)\n",
    "print('P3 = ', p3, ', n*P3 = ', n * p3)\n",
    "\n",
    "#количество значений, попавших в интервал\n",
    "groups = [[],[],[]]\n",
    "cur_edge_index = 0\n",
    "cur_group = 0\n",
    "\n",
    "for item in data_1:\n",
    "    cur_edge = edges[cur_edge_index]\n",
    "    if item <= cur_edge:\n",
    "        groups[cur_group].append(item)\n",
    "    else:\n",
    "        cur_group += 1\n",
    "        groups[cur_group].append(item)\n",
    "        cur_edge_index += 1\n",
    "\n",
    "n1, n2, n3 = len(groups[0]), len(groups[1]), len(groups[2])\n",
    "#print(groups)\n",
    "print('n1 = ', n1, ', n2 = ', n2, ', n3 = ', n3)\n",
    "\n",
    "#критерий\n",
    "chi = ((n1 - n*p1)**2) / (n*p1) + ((n2 - n*p2)**2) / (n*p2) + ((n3 - n*p3)**2) / (n*p3)\n",
    "print(\"Статистика критерия: \", chi)\n",
    "print('Табличное значение:', chi2.ppf(1 - alpha_1, 2))\n",
    "\n",
    "if chi > chi2.ppf(1 - alpha_1, 2):\n",
    "    print('Гипотеза отвергается')\n",
    "else:\n",
    "    print('Гипотеза принимается')\n",
    "\n",
    "#наибольший уровень значимости\n",
    "alpha = 0.2\n",
    "step = 0.0001\n",
    "while chi > chi2.ppf(1 - alpha, 2):\n",
    "    alpha -= step\n",
    "print('Наибольший уровень значимости: ', alpha)"
   ]
  },
  {
   "cell_type": "markdown",
   "metadata": {},
   "source": [
    "* 1.h.f\n",
    "\n",
    "Проведём группировку, как в пункте 1.h.е. В качестев параметра $\\lambda$ возьмём его ОМП, то есть $\\lambda = \\overline{X}$: \n",
    "\n",
    "$\\mathbb{P}_{1} = \\frac{\\overline{X}^0}{(\\overline{X} + 1)^{0+1}} = \\frac{0.7^0}{1.7^1}= 0.59$\n",
    "\n",
    "$\\mathbb{P}_{2} = \\frac{\\overline{X}^1}{(\\overline{X} + 1)^{1+1}} =  \\frac{0.7^1}{1.7^2} =0.24$ \n",
    "\n",
    "$\\mathbb{P}_{3} = 1 - \\mathbb{P}_1 - \\mathbb{P}_2   = 0.1$\n",
    "\n",
    "Получили статистику критерия $\\chi^2 = \\sum \\limits_{i=1}^3 \\large \\frac{\\left(n_i - n\\mathbb{P}_i\\right)^2}{n\\mathbb{P}_i}  \\normalsize = 0.53$\n",
    "\n",
    "Из таблицы: $\\chi_{k-1 - r, \\alpha_1}^2 = \\chi_{1, 0.2}^2 = 1.64$\n",
    "\n",
    "$\\chi^2 < \\chi_{1, 0.2}^2 \\Rightarrow$ гипотеза принимаетя, так как статистика критерия попадает в критическую облать.\n",
    "\n",
    "Наибольшее значение уровня значимости, при котором ещё нет оснований отвергнуть данную гипотезу, $\\alpha = 0.47$"
   ]
  },
  {
   "cell_type": "code",
   "execution_count": 496,
   "metadata": {},
   "outputs": [
    {
     "name": "stdout",
     "output_type": "stream",
     "text": [
      "P1 =  0.5882352941176471 , n*P1 =  29.411764705882355\n",
      "P2 =  0.24221453287197237 , n*P2 =  12.110726643598618\n",
      "P3 =  0.16955017301038056 , n*P3 =  8.477508650519027\n",
      "n1 =  27 , n2 =  14 , n3 =  9\n",
      "Статистика критерия:  0.5246938775510206\n",
      "Табличное значение: 1.6423744151498172\n",
      "Гипотеза принимается\n",
      "Наибольший уровень значимости:  0.4688999999999704\n"
     ]
    }
   ],
   "source": [
    "p = 1 / (mn + 1)\n",
    "edges = [0.5, 1.5, 3] #интервалы\n",
    "\n",
    "#подсчёт вероятностей\n",
    "p1 = geom.cdf(1, p)\n",
    "p2 = geom.cdf(2, p) - geom.cdf(1, p)\n",
    "p3 = 1 - p1 - p2\n",
    "print('P1 = ', p1, ', n*P1 = ', n * p1)\n",
    "print('P2 = ', p2, ', n*P2 = ', n * p2)\n",
    "print('P3 = ', p3, ', n*P3 = ', n * p3)\n",
    "\n",
    "#количество значений, попавших в интервал\n",
    "groups = [[],[],[]]\n",
    "cur_edge_index = 0\n",
    "cur_group = 0\n",
    "\n",
    "for item in data_1:\n",
    "    cur_edge = edges[cur_edge_index]\n",
    "    if item <= cur_edge:\n",
    "        groups[cur_group].append(item)\n",
    "    else:\n",
    "        cur_group += 1\n",
    "        groups[cur_group].append(item)\n",
    "        cur_edge_index += 1\n",
    "\n",
    "n1, n2, n3 = len(groups[0]), len(groups[1]), len(groups[2])\n",
    "#print(groups)\n",
    "print('n1 = ', n1, ', n2 = ', n2, ', n3 = ', n3)\n",
    "\n",
    "#критерий\n",
    "chi = ((n1 - n*p1)**2) / (n*p1) + ((n2 - n*p2)**2) / (n*p2) + ((n3 - n*p3)**2) / (n*p3)\n",
    "print(\"Статистика критерия: \", chi)\n",
    "print('Табличное значение:', chi2.ppf(1 - alpha_1, 1))\n",
    "\n",
    "alpha = alpha_1\n",
    "step = 0.0001\n",
    "if chi > chi2.ppf(1 - alpha_1, 1):\n",
    "    print('Гипотеза отвергается')\n",
    "    while chi > chi2.ppf(1 - alpha, 1):\n",
    "        alpha -= step\n",
    "    print('Наибольший уровень значимости: ', alpha)\n",
    "else:\n",
    "    print('Гипотеза принимается')\n",
    "    while chi < chi2.ppf(1 - alpha, 1):\n",
    "        alpha += step\n",
    "    print('Наибольший уровень значимости: ', alpha)\n"
   ]
  },
  {
   "cell_type": "markdown",
   "metadata": {},
   "source": [
    "### Задание 2\n",
    "### a) Построить вариационный ряд, эмпирическую функцию распределения, гистограмму и полигон частот с шагом $h = 2.00$. \n"
   ]
  },
  {
   "cell_type": "code",
   "execution_count": 497,
   "metadata": {},
   "outputs": [
    {
     "name": "stdout",
     "output_type": "stream",
     "text": [
      "Вариационный ряд: -11.35,-10.51,-10.26,-9.0,-8.63,-6.47,-6.07,-5.94,-5.41,-5.3,-5.05,-4.66,-3.65,-3.63,-3.0,-2.96,-2.59,-2.37,-1.94,-1.91,-1.72,-1.67,-1.63,-1.46,-1.4,-0.95,-0.63,-0.33,-0.29,0.12,0.53,0.72,0.89,1.02,1.23,2.35,2.57,2.71,2.8,3.16,3.77,3.84,3.9,3.94,5.67,6.15,7.11,7.78,8.26,10.55\n"
     ]
    }
   ],
   "source": [
    "data_2 = [-0.33, -5.30, -4.66, -2.37, -8.63, -10.26, 0.53, 10.55, -11.35, 8.26, 2.80, -1.67, -1.63, -1.94, 2.71, 7.11, -1.40, -0.63, 0.89, 6.15, 1.23, -5.41, 3.90, \\\n",
    "        -9.00, -3.63, -1.72, 5.67, -2.59, -5.94, -3.00, -1.46, 0.12, 3.94, -0.95, -10.51, -1.91, -6.47, -5.05, -6.07, -0.29, -2.96, 2.57, 7.78, 0.72, 3.77, 3.16, 1.02, \\\n",
    "            3.84, 2.35, -3.65]\n",
    "n = len(data_2)\n",
    "\n",
    "#вариационный ряд\n",
    "\n",
    "def variation(data):\n",
    "    data.sort()\n",
    "    data = [str(i) for i in data]\n",
    "    return ','.join(data)\n",
    "\n",
    "print( \"Вариационный ряд:\", variation(data_2))"
   ]
  },
  {
   "cell_type": "markdown",
   "metadata": {},
   "source": [
    "Таким образом, вариационный ряд:\n",
    " $$\\vec{X}^\\prime = \\left(-11.35,-10.51,-10.26,-9.0,-8.63,-6.47,-6.07,-5.94,-5.41,-5.3,-5.05,-4.66,-3.65,-3.63,-3.0,-2.96,-2.59,-2.37,-1.94,-1.91,-1.72,-1.67,-1.63,-1.46,-1.4,-0.95,-0.63,-0.33,-0.29,0.12,0.53,0.72,0.89,1.02,1.23,2.35,2.57,2.71,2.8,3.16,3.77,3.84,3.9,3.94,5.67,6.15,7.11,7.78,8.26,10.55 \\right)$$"
   ]
  },
  {
   "cell_type": "code",
   "execution_count": 498,
   "metadata": {},
   "outputs": [
    {
     "data": {
      "image/png": "[encoded data removed]",
      "text/plain": [
       "<Figure size 640x480 with 1 Axes>"
      ]
     },
     "metadata": {},
     "output_type": "display_data"
    }
   ],
   "source": [
    "sns.ecdfplot(data_2) #построение эмпирической функции распределения\n",
    "\n",
    "plt.title(\"Эмпирическая функция распределения\")\n",
    "plt.xlabel(\"x\")\n",
    "plt.ylabel(\"F(x)\")\n",
    "plt.show()"
   ]
  },
  {
   "cell_type": "code",
   "execution_count": 499,
   "metadata": {},
   "outputs": [
    {
     "data": {
      "image/png": "[encoded data removed]",
      "text/plain": [
       "<Figure size 640x480 with 1 Axes>"
      ]
     },
     "metadata": {},
     "output_type": "display_data"
    }
   ],
   "source": [
    "#гистограмма и полигон частот частот\n",
    "\n",
    "h = 2\n",
    "bins = [-11.35, -9.35, -7.35, -5.35, -3.35, -1.35, 0.65, 2.65, 4.65, 6.65, 8.65, 10.55]\n",
    "plt.xticks(bins)\n",
    "\n",
    "#построение гистограммы\n",
    "y, edges, _= plt.hist(data_2, edgecolor='black', bins=bins, weights=np.ones_like (data_2) / n) \n",
    "\n",
    " #построение полигона\n",
    "midpoints = 0.5*(edges[1:] + edges[:-1])\n",
    "plt.plot(midpoints, y, '-o')\n",
    "\n",
    "plt.yticks(np.arange(0, 0.23, 0.02))\n",
    "plt.xlabel('$x_i$')\n",
    "plt.ylabel('Частота')\n",
    "plt.title('Гистограмма и полигон частот');"
   ]
  },
  {
   "cell_type": "markdown",
   "metadata": {},
   "source": [
    "### b) Вычислить выборочные аналоги следующих числовых характеристик:\n",
    "* Математического ожидания;\n",
    "* Дисперсии;\n",
    "* СКО;\n",
    "* Медианы;\n",
    "* Асимметрии;\n",
    "* Эксцесса;\n",
    "* Вероятности $\\mathbb{P}\\left(X \\in [c, d]\\right)$. "
   ]
  },
  {
   "cell_type": "code",
   "execution_count": 500,
   "metadata": {},
   "outputs": [
    {
     "name": "stdout",
     "output_type": "stream",
     "text": [
      "Выборочное среднее:  -0.83\n"
     ]
    }
   ],
   "source": [
    "#Математическое ожидание\n",
    "\n",
    "sum_= 0\n",
    "for item in data_2:\n",
    "    sum_ += item #сумма Х\n",
    "mn = sum_/n\n",
    "print(\"Выборочное среднее: \", round(mn, 2))"
   ]
  },
  {
   "cell_type": "markdown",
   "metadata": {},
   "source": [
    "Получаем выборочный аналог математического ожидания - выборочное среднее:\n",
    "$$\\overline{X} =\\frac{1}{n}\\sum_{i=1}^{n}x_i= -0.83$$"
   ]
  },
  {
   "cell_type": "code",
   "execution_count": 501,
   "metadata": {},
   "outputs": [
    {
     "name": "stdout",
     "output_type": "stream",
     "text": [
      "Выборочная дисперсия:  24.47\n",
      "Выборочное СКО:  4.95\n"
     ]
    }
   ],
   "source": [
    "#Выборочный аналог дисперсии и СКО\n",
    "\n",
    "dif=[]\n",
    "for item in data_2:\n",
    "    dif.append((item - mn)**2) #массив  с (X_i-X_cp)^2\n",
    "S = round(sum(dif)/n, 2)\n",
    "\n",
    "s = round(S**0.5, 2) #выборочное СКО\n",
    "\n",
    "print(\"Выборочная дисперсия: \", S)\n",
    "print(\"Выборочное СКО: \", s)"
   ]
  },
  {
   "cell_type": "markdown",
   "metadata": {},
   "source": [
    "Получаем выборочный аналог дисперсии и СКО - выборочную дисперсию и выборочное СКО: \n",
    "$$S^2 =\\frac{1}{n}\\sum_{i=1}^{n}\\left(x_i-\\overline{X}\\right)=24.47$$ \n",
    "$$S=\\sqrt{S^2}=4.95$$"
   ]
  },
  {
   "cell_type": "code",
   "execution_count": 502,
   "metadata": {},
   "outputs": [
    {
     "name": "stdout",
     "output_type": "stream",
     "text": [
      "25ый элемент вариационного ряда:  -1.4\n",
      "26ой элемент вариационного ряда:  -0.95\n",
      "Выборочная медиана:  -1.175\n"
     ]
    }
   ],
   "source": [
    "#Выборочная медиана\n",
    "\n",
    "med = stat.median(data_2)\n",
    "print(\"25ый элемент вариационного ряда: \", data_2[24])\n",
    "print(\"26ой элемент вариационного ряда: \", data_2[25])\n",
    "print(\"Выборочная медиана: \", round(med, 3))"
   ]
  },
  {
   "cell_type": "markdown",
   "metadata": {},
   "source": [
    "Выборочная медиана: <br><br>\n",
    "$$np = 50\\cdot\\frac{1}{2}=25\\in \\mathbb Z \\Rightarrow \\large z_{50,\\frac{1}{2}} = \\normalsize \\left[ X_{(25)},X_{(26)} \\right) = \\left[-1.4, -0.95\\right) \\Rightarrow \\large z_{50,\\frac{1}{2}} \\normalsize = \\frac{-1.4-0.95}{2} = -1.175$$"
   ]
  },
  {
   "cell_type": "code",
   "execution_count": 503,
   "metadata": {},
   "outputs": [
    {
     "name": "stdout",
     "output_type": "stream",
     "text": [
      "Выборочный коэффициент асимметрии:  -0.0197\n"
     ]
    }
   ],
   "source": [
    "#Выборочная асимметрия\n",
    "\n",
    "dif=[]\n",
    "for item in data_2:\n",
    "    dif.append((item - mn)**3) #массив  с (X_i-X_cp)^3\n",
    "skew_X = round(sum(dif)/(n*s**3), 4)\n",
    "print(\"Выборочный коэффициент асимметрии: \", skew_X)"
   ]
  },
  {
   "cell_type": "markdown",
   "metadata": {},
   "source": [
    "Выборочный коэффициент асимметрии: \n",
    "$$\\widehat{\\mathrm{Skew}}X=\\frac{1}{n}\\frac{\\sum \\limits_{i=1}^{n}\\left(x_i-\\overline{X}\\right)^3}{S^3} = -0.0197$$"
   ]
  },
  {
   "cell_type": "code",
   "execution_count": 504,
   "metadata": {},
   "outputs": [
    {
     "name": "stdout",
     "output_type": "stream",
     "text": [
      "Выборочный коэффициент эксцесса:  -0.297\n"
     ]
    }
   ],
   "source": [
    "#Выборочный эксцесс\n",
    "\n",
    "dif=[]\n",
    "for item in data_2:\n",
    "    dif.append((item - mn)**4) ##массив  с (X_i-X_cp)^4\n",
    "kurt_X = round(sum(dif)/(n*s**4) - 3, 3)\n",
    "print(\"Выборочный коэффициент эксцесса: \", kurt_X)"
   ]
  },
  {
   "cell_type": "markdown",
   "metadata": {},
   "source": [
    "Выборочный коэффициент эксцесса:\n",
    "$$\\widehat{\\mathrm{Kurt}}X=\\frac{1}{n}\\frac{\\sum \\limits_{i=1}^{n}\\left(x_i-\\overline{X}\\right)^4}{S^4}-3 = -0.297$$"
   ]
  },
  {
   "cell_type": "code",
   "execution_count": 505,
   "metadata": {},
   "outputs": [
    {
     "name": "stdout",
     "output_type": "stream",
     "text": [
      "F(d) =  0.94\n",
      "F(c) =  0.0\n",
      "Вероятность P(c <= x <= d):  0.94\n"
     ]
    }
   ],
   "source": [
    "#нахождение P(c <= x <= d)\n",
    "\n",
    "c, d = -5.00, 3.00\n",
    "print(\"F(d) = \", F(d))\n",
    "print(\"F(c) = \", F(c))\n",
    "print(\"Вероятность P(c <= x <= d): \", F(d) - F(c))"
   ]
  },
  {
   "cell_type": "markdown",
   "metadata": {},
   "source": [
    "Выборочный аналог $\\mathbb{P}\\left(x \\in \\left[c, d\\right]\\right)$, c = -5.00, d = 3.00: <br><br>\n",
    "\n",
    "$$\\mathbb{P}\\left(x \\in \\left[c, d\\right]\\right) = \\mathrm{F}(d) - \\mathrm{F}(c) = 0.78 - 0.22 = 0.56$$\n",
    " где $\\mathrm{F}(x)$ - эмпирическая функция распределения"
   ]
  },
  {
   "cell_type": "markdown",
   "metadata": {},
   "source": [
    "### c) В предположении, что исходные наблюдения являются выборкой из нормального распределения, построить оценку максимального правдоподобия параметров $\\left(a, \\sigma^2 \\right)$ и соответствующие оценки по методу моментов. Найти смещение оценок.\n",
    "\n",
    "**Плотность нормального распределения:** \n",
    "$$p_{\\theta}(x) = \\frac{1}{\\sqrt{2\\pi}\\sigma} \\exp{\\left(-\\frac{(x - a)^2}{2\\sigma^2}\\right)}$$\n",
    "\n",
    "* **Оценка максимального правдоподобия:** <br>\n",
    "\n",
    "$\\mathrm{L}\\left(\\vec{X}, \\vec{\\theta}\\right) = \\left(2\\pi \\right)^{-\\frac{n}{2}} \\cdot \\sigma^{-n} \\cdot \\exp{\\left(-\\frac{1}{2\\sigma^2} \\sum \\limits_{i = 1}^n (x_i - a)^2\\right)}$ <br>\n",
    "\n",
    "$\\mathrm{LL}\\left(\\vec{X}, \\vec{\\theta}\\right) = -\\frac{n}{2} \\ln{2\\pi} - n\\ln{\\sigma} - \\frac{1}{2\\sigma^2}\\sum \\limits_{i = 1}^n (x_i - a)^2$ <br>\n",
    "\n",
    "Для параметра $a$: <br>\n",
    "\n",
    "$\\frac{\\partial \\mathrm{LL}}{ \\partial a} = \\frac{1}{\\sigma^2} \\cdot \\normalsize \\left(\\sum \\limits_{i = 1}^n x_i - na\\right) = 0$ , $\\Rightarrow \\widehat{a} = \\overline{X}$ <br>\n",
    "\n",
    "Для параметра $\\sigma^2$: <br>\n",
    "\n",
    "$\\frac{\\partial \\mathrm{LL}}{ \\partial \\sigma} = -\\frac{n}{\\sigma} + \\frac{1}{\\sigma^3}\\sum \\limits_{i = 1}^n (x_i - a)^2 = 0$ , $\\Rightarrow \\widehat{\\sigma^2} = S^2$ <br>\n",
    "\n",
    "Значит, $\\widehat{\\theta} = \\left(\\widehat{a}, \\widehat{\\sigma^2}\\right) = \\left(\\overline{X}, S^2\\right)$ - ОМП <br>\n",
    "\n",
    "* **Оценка методом моментов:** \n",
    "\n",
    "$\\mathbb{E}X_1 = a$ , $M_1 = \\overline{X}$ <br>\n",
    "$\\mathbb{E}X_1^2 = a^2 + \\sigma^2$ , $M_2 = \\overline{X^2}$\n",
    "\n",
    "Система уравнений метода моментов:\n",
    " $\\begin{equation} \\begin{cases} \\overline{X} = a \\\\ \\overline{X^2} = a^2 + \\sigma^2 \\end{cases}\\end{equation}$ <br>\n",
    "\n",
    "Следовательно, $\\widetilde{\\theta} = \\left(\\widetilde{a}, \\widetilde{\\sigma^2}\\right) = \\left(\\overline{X}, S^2\\right)$ - ОММ <br>\n",
    "\n",
    "* **Смещение оценок:**\n",
    "\n",
    "$\\mathbb{E}_{\\theta}\\widehat{a} = \\mathbb{E}_{\\theta}\\widetilde{a} = \\mathbb{E}_{\\theta}\\overline{X} = \\frac{1}{n} \\sum \\limits_{i = 1}^n\\mathbb{E}_{\\theta}X_1 = \\frac{1}{n} \\cdot n \\cdot a = a$ , следовательно оценки параметра $a$ несмещённые. <br>\n",
    "\n",
    "$\\mathbb{E}_{\\theta}\\widehat{\\sigma^2} = \\mathbb{E}_{\\theta}\\widetilde{\\sigma^2} = \\mathbb{E}_{\\theta}S^2 = \\frac{1}{n}\\mathbb{E}_{\\theta}\\sum \\limits_{i = 1}^n \\left(X_i - \\overline{X}\\right)^2 = \\left[\\begin{array}{l l} X_i - \\mathbb{E}_{\\theta}X_i = Y_i \\\\ \\mathbb{E}_{\\theta}Y_i = 0 \\\\ \\mathbb{D}_{\\theta} = \\sigma^2 \\end{array} \\right] = \\mathbb{E}_{\\theta}\\frac{1}{n}\\sum \\limits_{i = 1}^n \\left(Y_i - \\overline{Y}\\right)^2 = \\mathbb{E}_{\\theta}\\overline{Y^2} - \\mathbb{E}_{\\theta}\\overline{Y}^2$ <br>\n",
    "\n",
    "Посчитаем отдельно $\\mathbb{E}_{\\theta}\\overline{Y^2}$ и $\\mathbb{E}_{\\theta}\\overline{Y}^2$: <br>\n",
    "\n",
    "$\\mathbb{E}_{\\theta}\\overline{Y^2} = \\frac{1}{n} \\sum \\limits_{i = 1}^n\\mathbb{E}_{\\theta}Y_1^2 = \\frac{1}{n} \\cdot n \\cdot \\sigma^2 = \\sigma^2$\n",
    "\n",
    "$\\mathbb{E}_{\\theta}\\overline{Y}^2 = \\frac{1}{n^2}\\sum \\limits_{i = 1}^n \\sum \\limits_{j = 1}^n \\mathbb{E}_{\\theta}Y_iY_j = \\left[\\begin{array}{l l} i = j: \\mathbb{E}_{\\theta}Y_i^2 = \\sigma^2 \\\\ i \\neq j: \\mathbb{E}_{\\theta}Y_i\\mathbb{E}_{\\theta}Y_j = 0 \\end{array} \\right] = \\frac{1}{n^2} \\left(n \\cdot \\sigma^2 + \\left(n^2 - n\\right) \\cdot 0\\right) = \\frac{\\sigma^2}{n}$ <br> \n",
    "\n",
    "Тогда $\\mathbb{E}_{\\theta}S^2 = \\sigma^2 - \\frac{\\sigma^2}{n} = \\frac{n - 1}{n}\\sigma^2$, следовательно оценки параметра $\\sigma^2$ смещённые."
   ]
  },
  {
   "cell_type": "markdown",
   "metadata": {},
   "source": [
    "### d) Построить доверительные интервалы уровня значимости $\\alpha_2 = 0.05$ для параметров $\\left(a, \\sigma^2\\right)$.\n",
    "\n",
    "* $\\theta = a$\n",
    "\n",
    "По пункту 4 леммы Фишера:\n",
    "\n",
    "$\\mathrm{G}\\left(\\vec{X}, a\\right) = \\sqrt{n - 1} \\cdot \\frac{\\overline{X} - a}{S} \\sim \\mathrm{Student}(n - 1)$ - генератор.\n",
    "\n",
    "Выбор квантилей:\n",
    "\n",
    "$x_{\\alpha}: \\mathrm{S}_{n-1}(x_{\\alpha}) = 1 - \\frac{\\alpha}{2}  = 1 - \\frac{0.05}{2} = 0.975 \\Rightarrow x_{\\alpha} = 2 \\Rightarrow x_{2\\alpha} = x_{\\alpha} = 2, x_{1\\alpha} = -x_{\\alpha} = -2$ , так как распределение Стьюдента симметричное.\n",
    "\n",
    "$\\mathbb{P}_{\\theta}\\left(-x_{\\alpha} \\le \\sqrt{n - 1} \\cdot \\frac{\\overline{X} - a}{S} \\le x_{\\alpha}\\right) = 1 - \\alpha$\n",
    "\n",
    "$\\mathbb{P}_{\\theta}\\left(-\\frac{x_{\\alpha} \\cdot S}{\\sqrt{n - 1}} + \\overline{X} \\le a \\le \\frac{x_{\\alpha} \\cdot S}{\\sqrt{n - 1}} + \\overline{X}\\right) = 1 - \\alpha$\n",
    "\n",
    "Таким образом, доверительный интервал:\n",
    "\n",
    "$$\\left[-\\frac{x_{\\alpha} \\cdot S}{\\sqrt{n - 1}} + \\overline{X}, \\frac{x_{\\alpha} \\cdot S}{\\sqrt{n - 1}} + \\overline{X}\\right] \\ni a$$\n",
    "$$\\left[-2.26, 0.59\\right] \\ni a$$\n",
    "\n",
    "* $\\theta = \\sigma^2$\n",
    "\n",
    "По пункту 3 леммы Фишера:\n",
    "\n",
    "$\\mathrm{G}\\left(\\vec{X}, \\sigma^2\\right) = \\frac{nS^2}{\\sigma^2} \\sim \\chi^2_{n-1}$ - генератор.\n",
    "\n",
    "Выбор квантилей:\n",
    "\n",
    "$x_{1\\alpha}: \\mathrm{K}_{n-1}(x_{1\\alpha}) = \\frac{\\alpha}{2} = \\frac{0.05}{2} = 0.025 \\Rightarrow x_{1\\alpha} = 31.56$\n",
    "\n",
    "$x_{2\\alpha}: \\mathrm{K}_{n-1}(x_{2\\alpha}) = 1 - \\frac{\\alpha}{2} = 1 - 0.025 = 0.975 \\Rightarrow x_{2\\alpha} = 70.22$ , так как распределение несимметричное.\n",
    "\n",
    "$\\mathbb{P}_{\\theta}\\left(x_{1\\alpha} \\le \\frac{nS^2}{\\sigma^2} \\le x_{2\\alpha}\\right) = 1 - \\alpha$\n",
    "\n",
    "$\\mathbb{P}_{\\theta}\\left(\\frac{nS^2}{x_{2\\alpha}} \\le \\sigma^2 \\le \\frac{nS^2}{x_{1\\alpha}}\\right) = 1 - \\alpha$\n",
    "\n",
    "Таким образом, доверительный интервал:\n",
    "\n",
    "$$\\left[\\frac{nS^2}{x_{2\\alpha}}, \\frac{nS^2}{x_{1\\alpha}}\\right] \\ni \\sigma^2$$\n",
    "$$\\left[17.42, 38.77\\right] \\ni \\sigma^2$$\n",
    "\n"
   ]
  },
  {
   "cell_type": "code",
   "execution_count": 506,
   "metadata": {},
   "outputs": [
    {
     "name": "stdout",
     "output_type": "stream",
     "text": [
      "2.009575234489209\n",
      "Доверительный интервал для параметра а:  [-2.26, 0.59]\n",
      "31.55491646266713\n",
      "Доверительный интервал для параметра sigma^2 :  [17.42, 38.77]\n"
     ]
    }
   ],
   "source": [
    "#доверительный интервал для а\n",
    "alpha_2 = 0.05\n",
    "df = n - 1\n",
    "x_alpha = t.ppf(1 - alpha_2/2, df)\n",
    "print(x_alpha)\n",
    "left_a = -(x_alpha * s)/(n - 1)**0.5 + mn\n",
    "right_a = (x_alpha * s)/(n - 1)**0.5 + mn\n",
    "\n",
    "print('Доверительный интервал для параметра а: ', [round(left_a, 2), round(right_a, 2)])\n",
    "\n",
    "#доверительный интервал для сигмы\n",
    "\n",
    "x_1alpha = chi2.ppf(alpha_2 / 2, df) #подсчёт квантилей \n",
    "print(x_1alpha)\n",
    "x_2alpha = chi2.ppf(1 - alpha_2 / 2, df)\n",
    "#print(x_1alpha)\n",
    "#print(x_2alpha)\n",
    "left_sigma = (n*S)/x_2alpha\n",
    "right_sigma = (n*S)/x_1alpha\n",
    "print('Доверительный интервал для параметра sigma^2 : ', [round(left_sigma, 2), round(right_sigma, 2)])"
   ]
  },
  {
   "cell_type": "markdown",
   "metadata": {},
   "source": [
    "### e) С использованием теоремы Колмогорова построить критерий значимости проверки простой гипотезы согласия с нормальным распределением с параметрами $(a_0, \\sigma_0^2) = (-1.00, 5.00)$. Проверить гипотезу на уровне значимости $\\alpha_2 = 0.05$. Вычислить наибольшее значение уровня значимости, на котором ещё нет оснований отвергнуть данную гипотезу."
   ]
  },
  {
   "cell_type": "markdown",
   "metadata": {},
   "source": [
    "Вычислим выборочный критерий Колмогорова $\\eta = \\sqrt{n}D_n$ используя Scipy"
   ]
  },
  {
   "cell_type": "code",
   "execution_count": 507,
   "metadata": {},
   "outputs": [
    {
     "name": "stdout",
     "output_type": "stream",
     "text": [
      "Критерий Колмогорова:  1.65\n"
     ]
    }
   ],
   "source": [
    "X = data_2\n",
    "a = -1.00\n",
    "D = 5.00\n",
    "sigma = np.sqrt(D)\n",
    "n = len(X)\n",
    "\n",
    "cdf = lambda x: norm.cdf(x, loc = a, scale = sigma)\n",
    "Dn, _ = kstest(X, cdf)\n",
    "eta = n**0.5 * Dn\n",
    "print('Критерий Колмогорова: ', round(eta, 2))"
   ]
  },
  {
   "cell_type": "markdown",
   "metadata": {},
   "source": [
    "Зададим уровень значимости $\\alpha = 0.05$. Вычислим квантиль Колмогорова $d_{1 - \\alpha}$, чтобы построить критическую область $V_k = (d_{1 - \\alpha},+ \\infty)$"
   ]
  },
  {
   "cell_type": "code",
   "execution_count": 508,
   "metadata": {},
   "outputs": [
    {
     "name": "stdout",
     "output_type": "stream",
     "text": [
      "Квантиль:  1.36\n"
     ]
    }
   ],
   "source": [
    "alpha = 0.05\n",
    "d = kstwobign.ppf(1 - alpha)\n",
    "print('Квантиль: ', round(d, 2))"
   ]
  },
  {
   "cell_type": "markdown",
   "metadata": {},
   "source": [
    "$V_k = (1.36, + \\infty)$\n",
    "\n",
    "$\\eta \\in V_k \\Rightarrow$ гипотеза отвергается."
   ]
  },
  {
   "cell_type": "code",
   "execution_count": 509,
   "metadata": {},
   "outputs": [
    {
     "name": "stdout",
     "output_type": "stream",
     "text": [
      "Наибольшее значение уровня значимости, при котором нет оснований отвергнуть гипотезу:  0.008\n"
     ]
    }
   ],
   "source": [
    "while eta > d:\n",
    "    alpha -= 0.001\n",
    "    d = kstwobign.ppf(1 - alpha)\n",
    "\n",
    "print('Наибольшее значение уровня значимости, при котором нет оснований отвергнуть гипотезу: ', round(alpha, 3))"
   ]
  },
  {
   "cell_type": "markdown",
   "metadata": {},
   "source": [
    "### f) Используя гистограмму частот, построить критерии значимости $\\chi^2$ проверки простой гипотезы согласия с нормальным распределением с параметрами $(a_0, \\sigma_0^2) = (-1.00, 25)$. Проверить гипотезу на уровне значимости $\\alpha_2 = 0.05$. Вычислить наибольшее значение уровня значимости, на котором ещё нет оснований отвергнуть данную гипотезу.\n",
    "\n",
    "Разобьём числовую прямую на отрезки $G_1 = \\left(- \\infty, -3\\right],  G_2 = \\left(-3, -0.63\\right],  G_3 = \\left(-0.63, 1.02\\right], G_4 = \\left(1.02, +\\infty \\right)$\n",
    "\n",
    "Рассмотрим $\\mathbb{P}_{k} = \\mathbb{P}_{\\theta}\\left(x_i \\in G_k\\right) = \\sum \\limits_{x \\in G_k} p_{\\theta}(x)$, где $p_{\\theta}(x) = \\frac{1}{\\sqrt{2\\pi}\\sigma} \\mathrm{exp}\\left(-\\frac{(x - a)^2}{2\\sigma^2}\\right) = \\frac{1}{\\sqrt{50 \\cdot \\pi}} \\mathrm{exp}\\left(-\\frac{(x + 1)^2}{50}\\right)$ - плотность нормального распределения.<br>\n",
    "$\\mathbb{P}_{1} = 0.35 \\rightarrow n\\mathbb{P}_1 = 17.23$ \n",
    "\n",
    "$\\mathbb{P}_{2} = 0.18 \\rightarrow n\\mathbb{P}_2 = 9.25$\n",
    "\n",
    "$\\mathbb{P}_{3} = 0.13 \\rightarrow n\\mathbb{P} _3 = 6.37$\n",
    "\n",
    "$\\mathbb{P}_{4} = 1 - \\left(\\mathbb{P}_{1} + \\mathbb{P}_{2} + \\mathbb{P}_3 \\right) = 0.34 \\rightarrow n\\mathbb{P}_4 = 17.16$\n",
    "\n",
    "Тогда получилим статистику критерия $\\chi^2 = \\sum \\limits_{i=1}^4 \\large \\frac{\\left(n_i - n\\mathbb{P}_i\\right)^2}{n\\mathbb{P}_i}  \\normalsize = 1.25$<br><br>\n",
    "Из таблицы (дополнительно посчитано в коде): $\\chi_{k-1, \\alpha_2}^2 = \\chi_{3, 0.05}^2 = 7.81$ <br><br>\n",
    "Так как $\\chi^2 < \\chi_{3, 0.05}^2$ , то гипотезу принимаем.\n",
    "\n",
    "Наибольшее значение уровня значимости, при котором ещё нет оснований отвергнуть данную гипотезу, $\\alpha = 0.742$."
   ]
  },
  {
   "cell_type": "code",
   "execution_count": 510,
   "metadata": {},
   "outputs": [
    {
     "name": "stdout",
     "output_type": "stream",
     "text": [
      "P1 =  0.3445782583896758 , n*P1 =  17.22891291948379\n",
      "P2 =  0.18491654897922716 , n*P2 =  9.245827448961357\n",
      "P3 =  0.12739883304295407 , n*P3 =  6.369941652147704\n",
      "P4 =  0.34310635958814295 , n*P4 =  17.155317979407148\n",
      "n1 =  15 , n2 =  12 , n3 =  7 , n4 =  16\n",
      "Статистика критерия:  1.25\n",
      "Табличное значение: 7.81\n",
      "Гипотеза принимается\n",
      "Наибольший уровень значимости:  0.742\n"
     ]
    }
   ],
   "source": [
    "a = -1\n",
    "sigma = 5\n",
    "alpha_2 = 0.05\n",
    "\n",
    "edges = [-3.0, -0.63, 1.02, 10.55] #интервалы\n",
    "\n",
    "#подсчёт вероятностей\n",
    "p1 = norm.cdf(edges[0], a, sigma)\n",
    "p2 = norm.cdf(edges[1], a, sigma) - norm.cdf(edges[0], a, sigma)\n",
    "p3 = norm.cdf(edges[2], a, sigma) - norm.cdf(edges[1], a, sigma)\n",
    "p4 = 1 - p1 - p2 - p3\n",
    "print('P1 = ', p1, ', n*P1 = ', n * p1)\n",
    "print('P2 = ', p2, ', n*P2 = ', n * p2)\n",
    "print('P3 = ', p3, ', n*P3 = ', n * p3)\n",
    "print('P4 = ', p4, ', n*P4 = ', n * p4)\n",
    "\n",
    "#количество значений, попавших в интервал\n",
    "groups = [[],[],[],[]]\n",
    "cur_edge_index = 0\n",
    "cur_group = 0\n",
    "\n",
    "for item in data_2:\n",
    "    cur_edge = edges[cur_edge_index]\n",
    "    if item <= cur_edge:\n",
    "        groups[cur_group].append(item)\n",
    "    else:\n",
    "        cur_group += 1\n",
    "        groups[cur_group].append(item)\n",
    "        cur_edge_index += 1\n",
    "\n",
    "n1, n2, n3, n4 = len(groups[0]), len(groups[1]), len(groups[2]), len(groups[3])\n",
    "#print(groups)\n",
    "print('n1 = ', n1, ', n2 = ', n2, ', n3 = ', n3, ', n4 = ', n4)\n",
    "\n",
    "#критерий\n",
    "chi = ((n1 - n*p1)**2) / (n*p1) + ((n2 - n*p2)**2) / (n*p2) + ((n3 - n*p3)**2) / (n*p3) + ((n4 - n*p4)**2) / (n*p4)\n",
    "print(\"Статистика критерия: \", round(chi, 2))\n",
    "print('Табличное значение:', round(chi2.ppf(1 - alpha_2, 3), 2))\n",
    "\n",
    "if chi > chi2.ppf(1 - alpha_2, 3):\n",
    "    print('Гипотеза отвергается')\n",
    "else:\n",
    "    print('Гипотеза принимается')\n",
    "\n",
    "#наибольший уровень значимости\n",
    "alpha = 0.05\n",
    "step = 0.001\n",
    "while chi < chi2.ppf(1 - alpha, 3):\n",
    "    alpha += step\n",
    "print('Наибольший уровень значимости: ', round(alpha, 5))"
   ]
  },
  {
   "cell_type": "markdown",
   "metadata": {},
   "source": [
    "### g) Построить критерий проверки значимости $\\chi^2$ сложной гипотезы согласия с нормальным распределением. Проверить гипотезу на уровне значимости $\\alpha_2 = 0.05$. Вычислить наибольшее значение уровня значимости, на которос ещё нет оснований отвергнуть данную гипотезу.\n",
    "\n",
    "Проведём группировку значений, как в предыдущем пункте.\n",
    "\n",
    "Рассмотрим $\\mathbb{P}_{k} = \\mathbb{P}_{\\theta}\\left(x_i \\in G_k\\right) = \\sum \\limits_{x \\in G_k} p_{\\theta}(x)$, где $p_{\\theta}(x) = \\frac{1}{\\sqrt{2\\pi}\\sigma} \\exp{\\left(-\\frac{(x - a)^2}{2\\sigma^2}\\right)}$ - плотность нормального распределения.<br>\n",
    "\n",
    "Вместо параметров возьмём их оценки: $a = \\overline{X} = -0.83$ , $\\sigma^2 = S^2 = 24.47$. Тогда $p_{\\theta}(x) = \\frac{1}{\\sqrt{9.9\\pi}} \\exp{\\left(-\\frac{(x + 0.83)^2}{48.94}\\right)}$\n",
    "\n",
    "$\\mathbb{P}_{1} = 0.33 \\rightarrow n\\mathbb{P}_1 = 16.54$ \n",
    "\n",
    "$\\mathbb{P}_{2} = 0.19 \\rightarrow n\\mathbb{P}_2 = 9.28$\n",
    "\n",
    "$\\mathbb{P}_{3} = 0.13  \\rightarrow n\\mathbb{P} _3 = 6.48$\n",
    "\n",
    "$\\mathbb{P}_{4} = 1 - \\left(\\mathbb{P}_{1} + \\mathbb{P}_{2} + \\mathbb{P}_3 \\right) = 0.35 \\rightarrow n\\mathbb{P}_4 = 17.7$\n",
    "\n",
    "Тогда получилим статистику критерия $\\chi^2 = \\sum \\limits_{i=1}^4 \\large \\frac{\\left(n_i - n\\mathbb{P}_i\\right)^2}{n\\mathbb{P}_i}  \\normalsize = 1.15$\n",
    "\n",
    "Из таблицы (дополнительно посчитано в коде): $\\chi_{k-1-r, \\alpha_2}^2 = \\chi_{1, 0.05}^2 = 3.84$ \n",
    "\n",
    "Так как $\\chi^2 < \\chi_{1, 0.05}^2$ , то нет оснований отвергнуть гипотезу. \n",
    "\n",
    "Наибольшее значение уровня значимости, при котором ещё нет оснований отвергнуть данную гипотезу, $\\alpha = 0.28$."
   ]
  },
  {
   "cell_type": "code",
   "execution_count": 511,
   "metadata": {},
   "outputs": [
    {
     "name": "stdout",
     "output_type": "stream",
     "text": [
      "P1 =  0.3308615713409139 , n*P1 =  16.543078567045693\n",
      "P2 =  0.18559113856635878 , n*P2 =  9.27955692831794\n",
      "P3 =  0.1295630442164244 , n*P3 =  6.47815221082122\n",
      "P4 =  0.35398424587630295 , n*P4 =  17.699212293815147\n",
      "n1 =  15 , n2 =  12 , n3 =  7 , n4 =  16\n",
      "Статистика критерия:  1.146642289299461\n",
      "Табличное значение: 3.841458820694124\n",
      "Гипотеза принимается\n",
      "Наибольший уровень значимости:  0.2842999999999846\n"
     ]
    }
   ],
   "source": [
    "a = mn\n",
    "sigma = s\n",
    "alpha_2 = 0.05\n",
    "\n",
    "edges = [-3.0, -0.63, 1.02, 10.55] #интервалы\n",
    "\n",
    "#подсчёт вероятностей\n",
    "p1 = norm.cdf(edges[0], a, sigma)\n",
    "p2 = norm.cdf(edges[1], a, sigma) - norm.cdf(edges[0], a, sigma)\n",
    "p3 = norm.cdf(edges[2], a, sigma) - norm.cdf(edges[1], a, sigma)\n",
    "p4 = 1 - p1 - p2 - p3\n",
    "print('P1 = ', p1, ', n*P1 = ', n * p1)\n",
    "print('P2 = ', p2, ', n*P2 = ', n * p2)\n",
    "print('P3 = ', p3, ', n*P3 = ', n * p3)\n",
    "print('P4 = ', p4, ', n*P4 = ', n * p4)\n",
    "\n",
    "#количество значений, попавших в интервал\n",
    "groups = [[],[],[],[]]\n",
    "cur_edge_index = 0\n",
    "cur_group = 0\n",
    "\n",
    "for item in data_2:\n",
    "    cur_edge = edges[cur_edge_index]\n",
    "    if item <= cur_edge:\n",
    "        groups[cur_group].append(item)\n",
    "    else:\n",
    "        cur_group += 1\n",
    "        groups[cur_group].append(item)\n",
    "        cur_edge_index += 1\n",
    "\n",
    "n1, n2, n3, n4 = len(groups[0]), len(groups[1]), len(groups[2]), len(groups[3])\n",
    "#print(groups)\n",
    "print('n1 = ', n1, ', n2 = ', n2, ', n3 = ', n3, ', n4 = ', n4)\n",
    "\n",
    "#критерий\n",
    "chi = ((n1 - n*p1)**2) / (n*p1) + ((n2 - n*p2)**2) / (n*p2) + ((n3 - n*p3)**2) / (n*p3) + ((n4 - n*p4)**2) / (n*p4)\n",
    "print(\"Статистика критерия: \", chi)\n",
    "print('Табличное значение:', chi2.ppf(1 - alpha_2, 1))\n",
    "\n",
    "if chi > chi2.ppf(1 - alpha_2, 1):\n",
    "    print('Гипотеза отвергается')\n",
    "else:\n",
    "    print('Гипотеза принимается')\n",
    "\n",
    "#наибольший уровень значимости\n",
    "alpha = 0.05\n",
    "step = 0.0001\n",
    "while chi < chi2.ppf(1 - alpha, 1):\n",
    "    alpha += step\n",
    "print('Наибольший уровень значимости: ', alpha)"
   ]
  },
  {
   "cell_type": "markdown",
   "metadata": {},
   "source": [
    "### h) Построить наиболее мощный критерий проверки простой гипотезы о нормальности с параметром $\\left(a, \\sigma^2\\right) = \\left(a_0, \\sigma_0^2\\right) = \\left(-1.00, 25\\right)$ при альтернативе нормальности с параметром $\\left(a, \\sigma^2\\right) = \\left(a_1, \\sigma_1^2\\right) = \\left(15, 25\\right)$. Проверить гипотезу на уровне значимости $\\alpha_2 = 0.05$. Что получится, если поменять местами основновную и альтернативную гипотезы?\n",
    "\n",
    "*Нулевая гипотеза* $H_0: \\theta_0 = \\left( a_0, \\sigma^2_0\\right) = (-1, 25)$\n",
    "\n",
    "*Альтернативная гипотеза* $H_1: \\theta_1 = \\left( a_1, \\sigma^2_1\\right) = (15, 25)$\n",
    "\n",
    "*Функция правдоподобия:*\n",
    "\n",
    "$\\mathrm{L}\\left(\\vec{X}, \\vec{\\theta}\\right) = \\left(2\\pi \\right)^{-\\frac{n}{2}} \\cdot \\sigma^{-n} \\cdot \\exp{\\left(-\\frac{1}{2\\sigma^2} \\sum \\limits_{i = 1}^n (x_i - a)^2\\right)}$\n",
    "\n",
    "*Статистика отношения правдоподобия:*\n",
    "\n",
    "$\\mathrm{LR}\\left(\\vec{X}, \\vec{\\theta_0}, \\vec{\\theta_1}\\right) = \\frac{\\mathrm{L}\\left(\\vec{X}, \\vec{\\theta_1}\\right)}{\\mathrm{L}\\left(\\vec{X}, \\vec{\\theta_0}\\right)} = \\exp{\\left(\\frac{n}{2\\sigma^2}\\left(a_0^2 - a_1^2\\right) + \\frac{1}{\\sigma^2}\\sum \\limits_{i = 1}^n x_i \\cdot \\left(a_1 - a_0\\right)\\right)}$ - монотонно возрастающая функция от $\\sum \\limits_{i = 1}^n x_i$. Здесь $\\sigma = \\sigma_0 = \\sigma_1 = 5$\n",
    "\n",
    "$\\frac{n}{2\\sigma^2}\\left(a_0^2 - a_1^2\\right) + \\frac{1}{\\sigma^2}\\sum \\limits_{i = 1}^n x_i \\cdot \\left(a_1 - a_0\\right) > \\ln{c}$\n",
    "\n",
    "$\\overline{X} > \\large \\frac{2\\sigma^2\\ln{c} - n\\left(a_0^2 - a_1^2\\right)}{2n\\left(a_1 - a_0\\right)}$\n",
    "\n",
    "В силу монотонности статистики LR относительно $\\overline{X}$:\n",
    "\n",
    "$\\mathrm{LR} > c \\iff \\overline{X} > c^*$\n",
    "\n",
    "$\\mathrm{LR} < c \\iff \\overline{X} < c^*$\n",
    "\n",
    "Тогда:\n",
    "\n",
    "$$ \\phi(x) =\\left\\{\\begin{array}{l} 1, \\overline{X} > c^* \\\\ p, \\overline{X} = c^* \\\\ 0, \\overline{X} < c^*\\\\ \\end{array}\\right.$$\n",
    "  \n",
    "Используя ЦПТ, получается эквивалентный критерий:\n",
    "\n",
    "$\\sqrt{n} \\frac{\\overline{X} - a_0}{\\sigma} \\sim \\mathcal{N}(0, 1)$ при $H_0$\n",
    "\n",
    "$\\sqrt{n} \\frac{\\overline{X} - a_0}{\\sigma} = 0.24$\n",
    "\n",
    "Квантиль:\n",
    "\n",
    "$c^* : \\Phi(c^*) = 1 - \\alpha_2 = 1 - 0.05 = 0.95 \\Rightarrow c^* = 1.65$\n",
    "\n",
    "Тогда:\n",
    "$$ \\phi(x) =\\left\\{\\begin{array}{l} 1, \\overline{X} > 1.65 \\\\ p, \\overline{X} = 1.65 \\\\ 0, \\overline{X} < 1.65\\\\ \\end{array}\\right.$$\n",
    "Так как $\\sqrt{n} \\frac{\\overline{X} - a_0}{\\sigma} < c^*$, то нет оснований отвергнуть гипотезу."
   ]
  },
  {
   "cell_type": "code",
   "execution_count": 512,
   "metadata": {},
   "outputs": [
    {
     "name": "stdout",
     "output_type": "stream",
     "text": [
      "c* = 1.6500000000000012\n",
      "LR = 0.23684505923379737\n"
     ]
    }
   ],
   "source": [
    "c_alpha = 0\n",
    "while norm.cdf(c_alpha) <= 0.95:\n",
    "    c_alpha += 0.01\n",
    "print('c* =', c_alpha)\n",
    "\n",
    "a_0 = -1\n",
    "clt = ((mn - a_0)/sigma) * n**0.5\n",
    "print('LR =', clt)"
   ]
  },
  {
   "cell_type": "markdown",
   "metadata": {},
   "source": [
    "**Поменяем местамим основную и альтернативную гипотезы:**\n",
    "\n",
    "*Нулевая гипотеза* $H_0: \\theta_0 = \\left( a_1, \\sigma^2_1\\right) = (15, 25)$\n",
    "\n",
    "*Альтернативная гипотеза* $H_1: \\theta_1 = \\left( a_0, \\sigma^2_0\\right) = (-1, 25)$\n",
    "\n",
    "*Статистика отношения правдоподобия:*\n",
    "\n",
    "$\\mathrm{LR}\\left(\\vec{X}, \\vec{\\theta_0}, \\vec{\\theta_1}\\right) = \\frac{\\mathrm{L}\\left(\\vec{X}, \\vec{\\theta_1}\\right)}{\\mathrm{L}\\left(\\vec{X}, \\vec{\\theta_0}\\right)} = \\exp{\\left(\\frac{n}{2\\sigma^2}\\left(a_1^2 - a_0^2\\right) + \\frac{1}{\\sigma^2}\\sum \\limits_{i = 1}^n x_i \\cdot \\left(a_0 - a_1\\right)\\right)}$ - монотонная функция от $\\sum \\limits_{i = 1}^n x_i$. Здесь $\\sigma = \\sigma_0 = \\sigma_1 = 5$\n",
    "\n",
    "$\\frac{n}{2\\sigma^2}\\left(a_1^2 - a_0^2\\right) + \\frac{1}{\\sigma^2}\\sum \\limits_{i = 1}^n x_i \\cdot \\left(a_0 - a_1\\right) > \\ln{c}$\n",
    "\n",
    "Так как $a_0 < a_1$, то меняем знак неравенства:\n",
    "\n",
    "$\\overline{X} > \\large \\frac{2\\sigma^2\\ln{c} - n\\left(a_1^2 - a_0^2\\right)}{2n\\left(a_0 - a_1\\right)}$\n",
    "\n",
    "В силу монотонности статистики LR относительно $\\overline{X}$:\n",
    "\n",
    "$\\mathrm{LR} > c \\iff \\overline{X} < c^*$\n",
    "\n",
    "$\\mathrm{LR} < c \\iff \\overline{X} > c^*$\n",
    "\n",
    "Тогда получим:\n",
    "$$ \\phi(x) =\\left\\{\\begin{array}{l} 1, \\overline{X} < c^* \\\\ p, \\overline{X} = c^* \\\\ 0, \\overline{X} > c^*\\\\ \\end{array}\\right.$$\n",
    "  \n",
    "Используя ЦПТ, получаем эквивалентный критерий:\n",
    "\n",
    "$\\sqrt{n} \\frac{\\overline{X} - a_1}{\\sigma} \\sim \\mathcal{N}(0, 1)$ при $H_1$\n",
    "\n",
    "$\\mathbb{P}\\left(\\sqrt{n}\\frac{\\overline{X} - a_1}{\\sigma} \\geq \\sqrt{n}\\frac{c^* - a_1}{\\sigma}\\right) = 1 - \\Phi\\left(\\sqrt{n}\\frac{c^* - a_1}{\\sigma}\\right) = \\alpha_2$\n",
    "\n",
    "$\\sqrt{n}\\frac{c^* - a_1}{\\sigma} = x_{\\alpha}$\n",
    "\n",
    "$x_{\\alpha} : \\Phi(x_{\\alpha}) = 1 - \\alpha_2 = 1 - 0.05 = 0.95 \\Rightarrow x_{\\alpha} = 1.65 \\Rightarrow c^* = 16.17$\n",
    "\n",
    "$$ \\phi(x) =\\left\\{\\begin{array}{l} 1, \\overline{X} < 16.17 \\\\ p, \\overline{X} = 16.17 \\\\ 0, \\overline{X} > 16.17\\\\ \\end{array}\\right.$$\n",
    "\n",
    "$\\overline{X} = -0.83$\n",
    "\n",
    "Так как $\\overline{X} < c^*$, то гипотеза отвергается."
   ]
  },
  {
   "cell_type": "code",
   "execution_count": 513,
   "metadata": {},
   "outputs": [
    {
     "name": "stdout",
     "output_type": "stream",
     "text": [
      "x_alpha = 1.6500000000000012\n",
      "c = 16.166726188957803\n"
     ]
    }
   ],
   "source": [
    "x_alpha = 0\n",
    "while norm.cdf(x_alpha) <= 0.95:\n",
    "    x_alpha += 0.01\n",
    "print('x_alpha =', x_alpha)\n",
    "\n",
    "sigma = 5\n",
    "a_1 = 15\n",
    "c_star = (x_alpha * sigma)/n**0.5 + a_1\n",
    "print('c =', c_star)"
   ]
  },
  {
   "cell_type": "markdown",
   "metadata": {},
   "source": [
    "### i) В пунктах (c) - (g) заменить семейство нормальных распределенеий на двухпараметрическое семейство распределений Лапласа с плотностями:\n",
    "$$p_{a, \\sigma}(x) = \\frac{1}{\\sqrt{2}\\sigma} \\exp{\\left(-\\frac{\\sqrt{2}}{\\sigma} \\left| x - a\\right|\\right)}$$\n",
    "\n",
    "#### i.c)\n",
    "\n",
    "* Оценка максимального правдоподобия:\n",
    "\n",
    "$\\mathrm{L}\\left(\\vec{X}, \\vec{\\theta}\\right) = 2^{-\\frac{n}{2}} \\sigma^{-n} \\exp\\left(-\\frac{\\sqrt{2}}{\\sigma} \\sum \\limits_{i = 1}^{n} |x_i - a|\\right)$\n",
    "\n",
    "$\\mathrm{LL}\\left(\\vec{X}, \\vec{\\theta}\\right) = -\\frac{n}{2}\\ln{2} - n\\ln{\\sigma} - \\frac{\\sqrt{2}}{\\sigma}\\sum \\limits_{i = 1}^{n} |x_i - a|$\n",
    "\n",
    "$\\frac{\\partial\\mathrm{LL}}{\\partial \\sigma} = -\\frac{n}{\\sigma} + \\frac{\\sqrt{2}}{\\sigma^2}\\sum \\limits_{i = 1}^{n} |x_i - \\widehat{a}| = 0 \\Rightarrow \\widehat{\\sigma}^2 = \\frac{2}{n^2}\\left(\\sum \\limits_{i = 1}^{n} |x_i - \\widehat{a}|\\right)^2$ - ОМП параметра $\\sigma^2$\n",
    "\n",
    "$\\frac{\\partial\\mathrm{LL}}{\\partial a} = -\\Large\\frac{\\sqrt{2}}{\\widehat{\\sigma}} \\normalsize \\sum \\limits_{i = 1}^n \\mathrm{sgn}\\left(x_i - a\\right) = 0$\n",
    "\n",
    "Так как $\\frac{\\partial\\mathrm{LL}}{\\partial a}$ - монотонно убывающая функция, то ОМП параметра а - выборочная медиана.\n",
    "\n",
    "$\\widehat{a} = z_{n, \\frac{1}{2}} = \\begin{cases} X_{\\lfloor \\frac{n}{2} \\rfloor + 1} , np \\in \\mathbb{Z} \\\\ \\\\ \\left[X_{\\left(\\frac{n}{2}\\right)}, X_{\\left(\\frac{n}{2} + 1\\right)}\\right), np \\notin \\mathbb{Z} \\end{cases}$\n",
    "\n",
    "Таким образом $\\widehat{\\theta} = \\left(\\widehat{a}, \\widehat{\\sigma}^2 \\right)$\n",
    "\n",
    "* Оценка методом моментов:\n",
    "\n",
    "$\\mathbb{E}x = a$ , $\\mathrm{M}_1 = \\overline{X}$\n",
    "\n",
    "$\\mathbb{E}x^2 = \\sigma^2 + a^2$, $\\mathrm{M}_2 = \\overline{X^2}$\n",
    "\n",
    "Система уравнений метода моментов:\n",
    " $\\begin{equation} \\begin{cases} \\overline{X} = a \\\\ \\overline{X^2} = a^2 + \\sigma^2 \\end{cases}\\end{equation}$\n",
    "\n",
    "Следовательно, $\\widetilde{\\theta} = \\left(\\widetilde{a}, \\widetilde{\\sigma^2}\\right) = \\left(\\overline{X}, S^2\\right)$ - ОММ\n",
    "\n",
    "* Смещение оценок:\n",
    "\n",
    "$\\mathbb{E}_{\\theta} \\widehat{a} = \\mathbb{E}_{\\theta}z_{n, \\frac{1}{2}} = \\mathbb{E} \\frac{X_{\\frac{n}{2}} + X_{\\frac{n}{2} + 1}}{2} = a \\rightarrow$ несмещённая.\n",
    "\n",
    "$\\mathbb{E}_{\\theta} \\widehat{\\sigma^2} \\neq \\sigma^2 \\rightarrow$ смещённая оценка.\n",
    "\n",
    "$\\mathbb{E}_{\\theta} \\widetilde{a} = \\mathbb{E}_{\\theta} \\overline{X} = a \\rightarrow$ несмещённая оценка.\n",
    "\n",
    "$\\mathbb{E}_{\\theta}\\widetilde{\\sigma^2} = \\mathbb{E}_{\\theta} S^2 = \\frac{n -1}{n} \\sigma^2 \\rightarrow$ смещённая оценка."
   ]
  },
  {
   "cell_type": "markdown",
   "metadata": {},
   "source": [
    "#### **i.d) $\\alpha_2$ = 0.05**\n",
    "\n",
    "По пункту 4 леммы Фишера:\n",
    "\n",
    "$\\mathrm{G}\\left(\\vec{X}, a\\right) = \\sqrt{n - 1} \\cdot \\frac{\\overline{X} - a}{S} \\sim \\mathrm{Student}(n - 1)$ - генератор.\n",
    "\n",
    "Выбор квантилей:\n",
    "\n",
    "$x_{\\alpha}: \\mathrm{S}_{n-1}(x_{\\alpha}) = 1 - \\frac{\\alpha}{2}  = 1 - \\frac{0.05}{2} = 0.975 \\Rightarrow x_{\\alpha} = 2 \\Rightarrow x_{2\\alpha} = x_{\\alpha} = 2, x_{1\\alpha} = -x_{\\alpha} = -2$ , так как распределение Стьюдента симметричное.\n",
    "\n",
    "$\\mathbb{P}_{\\theta}\\left(-x_{\\alpha} \\le \\sqrt{n - 1} \\cdot \\frac{\\overline{X} - a}{S} \\le x_{\\alpha}\\right) = 1 - \\alpha$\n",
    "\n",
    "$\\mathbb{P}_{\\theta}\\left(-\\frac{x_{\\alpha} \\cdot S}{\\sqrt{n - 1}} + \\overline{X} \\le a \\le \\frac{x_{\\alpha} \\cdot S}{\\sqrt{n - 1}} + \\overline{X}\\right) = 1 - \\alpha$\n",
    "\n",
    "Таким образом, доверительный интервал:\n",
    "\n",
    "$$\\left[-\\frac{x_{\\alpha} \\cdot S}{\\sqrt{n - 1}} + \\overline{X}, \\frac{x_{\\alpha} \\cdot S}{\\sqrt{n - 1}} + \\overline{X}\\right] \\ni a$$\n",
    "$$\\left[-2.26, 0.59\\right] \\ni a$$\n",
    "\n",
    "По пункту 3 леммы Фишера:\n",
    "\n",
    "$\\mathrm{G}\\left(\\vec{X}, \\sigma^2\\right) = \\frac{nS^2}{\\sigma^2} \\sim \\chi^2_{n-1}$ - генератор.\n",
    "\n",
    "Выбор квантилей:\n",
    "\n",
    "$x_{1\\alpha}: \\mathrm{K}_{n-1}(x_{1\\alpha}) = \\frac{\\alpha}{2} = \\frac{0.05}{2} = 0.025 \\Rightarrow x_{1\\alpha} = 31.56$\n",
    "\n",
    "$x_{2\\alpha}: \\mathrm{K}_{n-1}(x_{2\\alpha}) = 1 - \\frac{\\alpha}{2} = 1 - 0.025 = 0.975 \\Rightarrow x_{2\\alpha} = 70.22$ , так как распределение несимметричное.\n",
    "\n",
    "$\\mathbb{P}_{\\theta}\\left(x_{1\\alpha} \\le \\frac{nS^2}{\\sigma^2} \\le x_{2\\alpha}\\right) = 1 - \\alpha$\n",
    "\n",
    "$\\mathbb{P}_{\\theta}\\left(\\frac{nS^2}{x_{2\\alpha}} \\le \\sigma^2 \\le \\frac{nS^2}{x_{1\\alpha}}\\right) = 1 - \\alpha$\n",
    "\n",
    "Таким образом, доверительный интервал:\n",
    "\n",
    "$$\\left[\\frac{nS^2}{x_{2\\alpha}}, \\frac{nS^2}{x_{1\\alpha}}\\right] \\ni \\sigma^2$$\n",
    "$$\\left[17.42, 38.77\\right] \\ni \\sigma^2$$\n"
   ]
  },
  {
   "cell_type": "code",
   "execution_count": 514,
   "metadata": {},
   "outputs": [
    {
     "name": "stdout",
     "output_type": "stream",
     "text": [
      "x_alpha = 2.009575234489209\n",
      "Доверительный интервал для параметра а:  [-2.26, 0.59]\n",
      "Доверительный интервал для параметра sigma^2 :  [17.42, 38.77]\n"
     ]
    }
   ],
   "source": [
    "#доверительный интервал для а\n",
    "alpha_2 = 0.05\n",
    "df = n - 1\n",
    "\n",
    "x_alpha = t.ppf(1 - alpha_2/2, df)\n",
    "print('x_alpha =', x_alpha)\n",
    "left_a = -(x_alpha * s)/(n - 1)**0.5 + mn\n",
    "right_a = (x_alpha * s)/(n - 1)**0.5 + mn\n",
    "\n",
    "print('Доверительный интервал для параметра а: ', [round(left_a, 2), round(right_a, 2)])\n",
    "\n",
    "#доверительный интервал для сигмы\n",
    "x_1alpha = chi2.ppf(alpha_2 / 2, df) #подсчёт квантилей \n",
    "x_2alpha = chi2.ppf(1 - alpha_2 / 2, df)\n",
    "#print(x_1alpha)\n",
    "#print(x_2alpha)\n",
    "left_sigma = (n*S)/x_2alpha\n",
    "right_sigma = (n*S)/x_1alpha\n",
    "print('Доверительный интервал для параметра sigma^2 : ', [round(left_sigma, 2), round(right_sigma, 2)])"
   ]
  },
  {
   "cell_type": "markdown",
   "metadata": {},
   "source": [
    "#### i.e)\n",
    "\n",
    "Вычислим выборочный критерий Колмогорова $\\eta = \\sqrt{n}D_n = 1.33$\n",
    "\n",
    "Зададим уровень значимости $\\alpha = 0.05$. Вычислим квантиль Колмогорова $d_{1 - \\alpha}$, чтобы построить критическую область $V_k = (d_{1 - \\alpha},+ \\infty) = (1.36,+ \\infty)$\n",
    "\n",
    "Так как $\\eta \\notin V_k \\Rightarrow$ гипотеза принимается.\n",
    "\n",
    "Наибольший уровень значимости, при котором ещё нет оснований отвергнуть гипотезу: $\\alpha = 0.058$"
   ]
  },
  {
   "cell_type": "code",
   "execution_count": 515,
   "metadata": {},
   "outputs": [
    {
     "name": "stdout",
     "output_type": "stream",
     "text": [
      "Критерий Колмогорова:  1.33\n",
      "Квантиль:  1.36\n",
      "Наибольшее значение уровня значимости, при котором нет оснований отвергнуть гипотезу:  0.058\n"
     ]
    }
   ],
   "source": [
    "a = -1.00\n",
    "D = 5.00\n",
    "sigma = np.sqrt(D)\n",
    "\n",
    "#Критерий Колмогорова   \n",
    "cdf = lambda x: laplace.cdf(x, loc = a, scale = sigma)\n",
    "Dn, _ = kstest(data_2, cdf)\n",
    "eta = n**0.5 * Dn\n",
    "print('Критерий Колмогорова: ', round(eta, 2))\n",
    "\n",
    "#Квантиль\n",
    "alpha = 0.05\n",
    "d = kstwobign.ppf(1 - alpha)\n",
    "print('Квантиль: ', round(d, 2))\n",
    "\n",
    "#наибольший уровень значимости\n",
    "while eta < d:\n",
    "    alpha += 0.001\n",
    "    d = kstwobign.ppf(1 - alpha)\n",
    "print('Наибольшее значение уровня значимости, при котором нет оснований отвергнуть гипотезу: ', round(alpha, 3))"
   ]
  },
  {
   "cell_type": "markdown",
   "metadata": {},
   "source": [
    "#### i.f) $a_0 = -1.00, \\sigma_0 = 5, \\alpha_2 = 0.05$\n",
    "\n",
    "Проведём группировку значений $x_i$ : $G_1 = \\left(- \\infty, -3\\right],  G_2 = \\left(-3, -0.63\\right],  G_3 = \\left(-0.63, 1.02\\right], G_4 = \\left(1.02, \\infty \\right]$\n",
    "\n",
    "Рассмотрим $\\mathbb{P}_{k} = \\mathbb{P}_{\\theta}\\left(x_i \\in G_k\\right) = \\sum \\limits_{x \\in G_k} p_{\\theta}(x)$, где $p_{\\theta}(x) = \\frac{1}{\\sqrt{2}\\sigma} \\exp{\\left(-\\frac{\\sqrt{2}}{\\sigma} \\left| x - a\\right|\\right)} = \\frac{1}{5 \\cdot \\sqrt{2}} \\exp{\\left(-\\frac{\\sqrt{2}}{5} \\left| x + 1\\right|\\right)}$ - плотность распределения Лапласа.<br>\n",
    "$\\mathbb{P}_{1} = 0.34 \\rightarrow n\\mathbb{P}_1 = 16.76$ \n",
    "\n",
    "$\\mathbb{P}_{2} = 0.2 \\rightarrow n\\mathbb{P}_2 = 10.03$\n",
    "\n",
    "$\\mathbb{P}_{3} = 0.13 \\rightarrow n\\mathbb{P} _3 = 6.53$\n",
    "\n",
    "$\\mathbb{P}_{4} = 1 - \\left(\\mathbb{P}_{1} + \\mathbb{P}_{2} + \\mathbb{P}_3 \\right) = 0.33 \\rightarrow n\\mathbb{P}_4 = 16.69$\n",
    "\n",
    "Тогда получилим статистику критерия $\\chi^2 = \\sum \\limits_{i=1}^4 \\large \\frac{\\left(n_i - n\\mathbb{P}_i\\right)^2}{n\\mathbb{P}_i}  \\normalsize = 0.64$<br><br>\n",
    "Из таблицы (дополнительно посчитано в коде): $\\chi_{k-1, \\alpha_2}^2 = \\chi_{3, 0.05}^2 = 7.81$ <br><br>\n",
    "Так как $\\chi^2 < \\chi_{3, 0.05}^2$ , то нет оснований отвергнуть гипотезу. <br><br>\n",
    "\n",
    "Наибольшее значение уровня значимости, при котором ещё нет оснований отвергнуть данную гипотезу, $\\alpha = 0.889$.\n"
   ]
  },
  {
   "cell_type": "code",
   "execution_count": 516,
   "metadata": {},
   "outputs": [
    {
     "name": "stdout",
     "output_type": "stream",
     "text": [
      "P1 =  0.33516002301781966 , n*P1 =  16.758001150890983\n",
      "P2 =  0.20050413006153678 , n*P2 =  10.02520650307684\n",
      "P3 =  0.13051378628617916 , n*P3 =  6.525689314308957\n",
      "P4 =  0.3338220606344644 , n*P4 =  16.69110303172322\n",
      "n1 =  15 , n2 =  12 , n3 =  7 , n4 =  16\n",
      "Статистика критерия:  0.64\n",
      "Табличное значение: 7.81\n",
      "Наибольший уровень значимости:  0.889\n"
     ]
    }
   ],
   "source": [
    "a = -1\n",
    "sigma = 5\n",
    "alpha_2 = 0.05\n",
    "\n",
    "edges = [-3.0, -0.63, 1.02, 10.55] #интервалы\n",
    "\n",
    "#подсчёт вероятностей\n",
    "p1 = laplace.cdf(edges[0], a, sigma)\n",
    "p2 = laplace.cdf(edges[1], a, sigma) - laplace.cdf(edges[0], a, sigma)\n",
    "p3 = laplace.cdf(edges[2], a, sigma) - laplace.cdf(edges[1], a, sigma)\n",
    "p4 = 1 - p1 - p2 - p3\n",
    "print('P1 = ', p1, ', n*P1 = ', n * p1)\n",
    "print('P2 = ', p2, ', n*P2 = ', n * p2)\n",
    "print('P3 = ', p3, ', n*P3 = ', n * p3)\n",
    "print('P4 = ', p4, ', n*P4 = ', n * p4)\n",
    "\n",
    "#количество значений, попавших в интервал\n",
    "groups = [[],[],[],[]]\n",
    "cur_edge_index = 0\n",
    "cur_group = 0\n",
    "\n",
    "for item in data_2:\n",
    "    cur_edge = edges[cur_edge_index]\n",
    "    if item <= cur_edge:\n",
    "        groups[cur_group].append(item)\n",
    "    else:\n",
    "        cur_group += 1\n",
    "        groups[cur_group].append(item)\n",
    "        cur_edge_index += 1\n",
    "\n",
    "n1, n2, n3, n4 = len(groups[0]), len(groups[1]), len(groups[2]), len(groups[3])\n",
    "#print(groups)\n",
    "print('n1 = ', n1, ', n2 = ', n2, ', n3 = ', n3, ', n4 = ', n4)\n",
    "\n",
    "#критерий\n",
    "chi = ((n1 - n*p1)**2) / (n*p1) + ((n2 - n*p2)**2) / (n*p2) + ((n3 - n*p3)**2) / (n*p3) + ((n4 - n*p4)**2) / (n*p4)\n",
    "print(\"Статистика критерия: \", round(chi, 2))\n",
    "print('Табличное значение:', round(chi2.ppf(1 - alpha_2, 3), 2))\n",
    "\n",
    "if chi > chi2.ppf(1 - alpha_2, 3):\n",
    "    print('Гипотеза отвергается')\n",
    "\n",
    "#наибольший уровень значимости\n",
    "alpha = 0.05\n",
    "step = 0.001\n",
    "while chi < chi2.ppf(1 - alpha, 3):\n",
    "    alpha += step\n",
    "print('Наибольший уровень значимости: ', round(alpha, 5))"
   ]
  },
  {
   "cell_type": "markdown",
   "metadata": {},
   "source": [
    "#### i.g) $\\alpha_2 = 0.05$\n",
    "\n",
    "Проведём группировку значений $x_i$ : $G_1 = \\left(- \\infty, -3\\right],  G_2 = \\left(-3, -0.63\\right],  G_3 = \\left(-0.63, 2.57\\right], G_4 = \\left(2.57, \\infty \\right]$\n",
    "\n",
    "Рассмотрим $\\mathbb{P}_{k} = \\mathbb{P}_{\\theta}\\left(x_i \\in G_k\\right) = \\sum \\limits_{x \\in G_k} p_{\\theta}(x)$, где $p_{\\theta}(x) = \\frac{1}{\\sqrt{2}\\sigma} \\exp{\\left(-\\frac{\\sqrt{2}}{\\sigma} \\left| x - a\\right|\\right)}$ - плотность распределения Лапласа.<br>\n",
    "\n",
    "В качестве параметров возьмём их оценки: $a = z_{n, \\frac{1}{2}} = -1.175, \\sigma^2 = \\frac{2}{n^2} \\left(\\sum \\limits_{i = 1}^n |x_i + 1.175|\\right)^2$\n",
    "\n",
    "$\\mathbb{P}_{1} = 0.36 \\rightarrow n\\mathbb{P}_1 = 17.97$ \n",
    "\n",
    "$\\mathbb{P}_{2} = 0.19 \\rightarrow n\\mathbb{P}_2 = 9.38$\n",
    "\n",
    "$\\mathbb{P}_{3} = 0.2 \\rightarrow n\\mathbb{P} _3 = 9.96$\n",
    "\n",
    "$\\mathbb{P}_{4} = 1 - \\left(\\mathbb{P}_{1} + \\mathbb{P}_{2} + \\mathbb{P}_3 \\right) = 0.25 \\rightarrow n\\mathbb{P}_4 = 12.7$\n",
    "\n",
    "Тогда получилим статистику критерия $\\chi^2 = \\sum \\limits_{i=1}^4 \\large \\frac{\\left(n_i - n\\mathbb{P}_i\\right)^2}{n\\mathbb{P}_i}  \\normalsize = 1.23$<br><br>\n",
    "Из таблицы (дополнительно посчитано в коде): $\\chi_{k-1-r, \\alpha_2}^2 = \\chi_{1, 0.05}^2 = 3.84$ <br><br>\n",
    "Так как $\\chi^2 < \\chi_{1, 0.05}^2$ , то нет оснований отвергнуть гипотезу. <br><br>\n",
    "\n",
    "Наибольшее значение уровня значимости, при котором ещё нет оснований отвергнуть данную гипотезу, $\\alpha = 0.27$."
   ]
  },
  {
   "cell_type": "code",
   "execution_count": 517,
   "metadata": {},
   "outputs": [
    {
     "name": "stdout",
     "output_type": "stream",
     "text": [
      "P1 =  0.35941590233854004 , n*P1 =  17.970795116927\n",
      "P2 =  0.18752527656480578 , n*P2 =  9.376263828240289\n",
      "P3 =  0.19910115016091512 , n*P3 =  9.955057508045757\n",
      "P4 =  0.25395767093573907 , n*P4 =  12.697883546786953\n",
      "n1 =  15 , n2 =  12 , n3 =  10 , n4 =  13\n",
      "Статистика критерия:  1.2326937457421603\n",
      "Табличное значение: 3.841458820694124\n",
      "Гипотеза принимается\n",
      "Наибольший уровень значимости:  0.26689999999998654\n"
     ]
    }
   ],
   "source": [
    "a = -1.175\n",
    "sum_abs = 0\n",
    "for item in data_2:\n",
    "    sum_abs += abs(item + 1.175)\n",
    "sigma = (2**0.5/n) * sum_abs\n",
    "alpha_2 = 0.05\n",
    "\n",
    "edges = [-3.0, -0.63, 2.57, 10.55] #интервалы\n",
    "\n",
    "#подсчёт вероятностей\n",
    "p1 = laplace.cdf(edges[0], a, sigma)\n",
    "p2 = laplace.cdf(edges[1], a, sigma) - laplace.cdf(edges[0], a, sigma)\n",
    "p3 = laplace.cdf(edges[2], a, sigma) - laplace.cdf(edges[1], a, sigma)\n",
    "p4 = 1 - p1 - p2 - p3\n",
    "print('P1 = ', p1, ', n*P1 = ', n * p1)\n",
    "print('P2 = ', p2, ', n*P2 = ', n * p2)\n",
    "print('P3 = ', p3, ', n*P3 = ', n * p3)\n",
    "print('P4 = ', p4, ', n*P4 = ', n * p4)\n",
    "\n",
    "#количество значений, попавших в интервал\n",
    "groups = [[],[],[],[]]\n",
    "cur_edge_index = 0\n",
    "cur_group = 0\n",
    "\n",
    "for item in data_2:\n",
    "    cur_edge = edges[cur_edge_index]\n",
    "    if item <= cur_edge:\n",
    "        groups[cur_group].append(item)\n",
    "    else:\n",
    "        cur_group += 1\n",
    "        groups[cur_group].append(item)\n",
    "        cur_edge_index += 1\n",
    "\n",
    "n1, n2, n3, n4 = len(groups[0]), len(groups[1]), len(groups[2]), len(groups[3])\n",
    "#print(groups)\n",
    "print('n1 = ', n1, ', n2 = ', n2, ', n3 = ', n3, ', n4 = ', n4)\n",
    "\n",
    "#критерий\n",
    "chi = ((n1 - n*p1)**2) / (n*p1) + ((n2 - n*p2)**2) / (n*p2) + ((n3 - n*p3)**2) / (n*p3) + ((n4 - n*p4)**2) / (n*p4)\n",
    "print(\"Статистика критерия: \", chi)\n",
    "print('Табличное значение:', chi2.ppf(1 - alpha_2, 1))\n",
    "\n",
    "if chi > chi2.ppf(1 - alpha_2, 1):\n",
    "    print('Гипотеза отвергается')\n",
    "else:\n",
    "    print('Гипотеза принимается')\n",
    "\n",
    "#наибольший уровень значимости\n",
    "alpha = 0.05\n",
    "step = 0.0001\n",
    "while chi < chi2.ppf(1 - alpha, 1):\n",
    "    alpha += step\n",
    "print('Наибольший уровень значимости: ', alpha)"
   ]
  },
  {
   "cell_type": "markdown",
   "metadata": {},
   "source": [
    "## Выводы\n",
    "В данной практической работе были преобретены навыки работы с методами математической статистики для решения задач статистического анализа. Так же изучены и применены встроенные методы среды программирования Python для реализации необходимых методов.\n",
    "\n",
    "Была проведа статистическая обработка данных: найдены выборочные аналоги числовых характеристик, построены ОМП и ОММ оценки, доверительные интервалы, проведена работа с гипотезами.\n",
    "\n",
    "Были проблемы с нахождением наиболее мощного критерия и проверкой гипотез."
   ]
  }
 ],
 "metadata": {
  "kernelspec": {
   "display_name": "Python 3",
   "language": "python",
   "name": "python3"
  },
  "language_info": {
   "codemirror_mode": {
    "name": "ipython",
    "version": 3
   },
   "file_extension": ".py",
   "mimetype": "text/x-python",
   "name": "python",
   "nbconvert_exporter": "python",
   "pygments_lexer": "ipython3",
   "version": "3.11.5"
  }
 },
 "nbformat": 4,
 "nbformat_minor": 4
}
