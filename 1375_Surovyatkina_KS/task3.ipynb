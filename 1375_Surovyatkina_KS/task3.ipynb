{
 "cells": [
  {
   "cell_type": "markdown",
   "metadata": {},
   "source": [
    "# Практическая работа №3: Регрессионный анализ\n",
    "Выполнила студентка гр. 1375 Суровяткина Ксения. Вариант №26"
   ]
  },
  {
   "cell_type": "markdown",
   "metadata": {},
   "source": [
    "## Цель работы\n",
    "Ознакомление с основными положениями метода наименьших квадратов (МНК), со статистическими свойствами МНК-оценок, с понятием функции регрессии и роли МНК в регрессионном анализе."
   ]
  },
  {
   "cell_type": "markdown",
   "metadata": {},
   "source": [
    "## Основные теоретические положения\n",
    "\n",
    "* **Регрессионная модель:**\n",
    "$$\\mathbb{E}\\left(Y|z\\right) = f_{\\theta}(z)$$\n",
    "\n",
    "* **Линейная регрессионная модель:**\n",
    "$$\\mathbb{E}_{\\theta}\\left(Y|z\\right) = x(z)^{\\intercal}\\vec{\\beta}$$\n",
    "где $x(z)$ - вектор регрессоров, однозначно зависящий от $z$(ковариата).\n",
    "\n",
    "* Альтернативная форма записи модели линейной регрессии: $Y = X^{\\intercal}\\vec{\\beta} + \\epsilon$ ,где $\\mathbb{E}_{\\theta}\\epsilon = 0$ , $\\mathrm{Var}_{\\theta}\\epsilon = \\sigma^2E$\n",
    "\n",
    "* **МНК-оценка:**\n",
    "$$\\mathrm{RSS}(\\beta) = ||Y - X^{\\intercal}\\beta||^2 = \\left(Y - X^{\\intercal}\\beta\\right)^{\\intercal}\\left(Y - X^{\\intercal}\\beta\\right) \\rightarrow \\min_{\\beta}$$\n",
    "\n",
    "* Решение системы нормальных уравнений в ркгулярном случае: $\\hat{\\beta} = \\left(XX^{\\intercal}\\right)^{-1}XY$\n",
    "\n",
    "* **Оценка параметра $\\sigma^2$:** $s^2 = \\large \\frac{\\mathrm{SSe}}{n - r} \\normalsize = \\large \\frac{\\mathrm{RSS}(\\hat{\\beta})}{n - r}$ - несмещённая оценка дисперсии, где $r$ - ранг матрицы $X$\n",
    "\n",
    "* **Линейная функция параметра:**\n",
    "$$\\psi(\\beta) = C^{\\intercal}\\beta$$\n",
    "\n",
    "* Функция параметра $\\psi(\\beta)$ **допускает несмещённое оценивание** (ДНО), если\n",
    "$$\\exists L(Y) = BY: \\forall \\beta\\mathbb{E}_{\\beta}L(Y) = C^{\\intercal}\\beta$$\n",
    "\n",
    "* ***Теорема Гаусса-Маркова***\n",
    "В модели линейной регрессии любая ДНО-функция параметра $\\psi = C^{\\intercal}\\beta$ , $C = \\begin{pmatrix} c_1, & \\ldots , & c_m \\end{pmatrix}^{\\intercal}$ имеет НРМД-оценку $\\hat{\\psi}$. Эта оценка единственная в классе линейных несмещённых оценок и равна:\n",
    "$$\\hat{\\psi} = \\sum \\limits_{j = 1}^m c_j \\hat{\\beta_j}$$\n",
    "где $\\hat{\\beta}$ - произвольное решение системы нормальных уравнений.\n",
    "\n",
    "* **Доверительный интервал уровня доверия $1 - \\alpha$:**\n",
    "$$\\left[\\widehat{\\psi} - x_{\\alpha}s\\sqrt{b}, \\widehat{\\psi} + x_{\\alpha}s\\sqrt{b}\\right] \\ni \\psi$$\n",
    "где $x_{\\alpha}: \\mathrm{S}_{n - r}(x_{\\alpha}) = 1 - \\frac{\\alpha}{2}$ - квантиль, $\\large \\frac{\\hat{\\psi} - \\psi}{s \\sqrt{b}} \\normalsize \\sim S_{n -r}$ - распределение, $b_{\\psi} = C^{\\intercal}\\left(XX^{\\intercal}\\right)^{-1}C$ - элемент дисперсии оценки\n",
    "\n",
    "* **Доверительный эллипосид уровн доверия $1 - \\alpha$ функции параметра $\\psi$:**\n",
    "$$A_{\\alpha} = \\left\\{\\vec{x}: \\left(\\vec{x} - \\hat{\\psi}\\right)^{\\intercal}B^{-1}\\left(\\vec{x} - \\hat{\\psi}\\right) \\leq qs^2x_{\\alpha}\\right\\}$$\n",
    "где $\\large \\frac{\\left(\\widehat{\\psi} - \\psi\\right)^{\\intercal}B^{-1}\\left(\\widehat{\\psi} - \\psi\\right)}{qs^2} \\normalsize \\sim \\mathcal{F}_{q, n - r}$ - распределение, $x_{\\alpha}: \\mathrm{F}_{q, n - r}(x_{\\alpha}) = 1 - \\alpha$ - квантиль, $B = C^{\\intercal}\\left(XX^{\\intercal}\\right)^{-1}C$\n",
    "\n",
    "* **$\\mathbb{F}$ - статистика:**\n",
    "$$\\mathbb{F} = \\frac{SS_н}{q} \\cdot \\frac{n - r}{SS_e} \\sim \\mathcal{F}_{q, n - r}$$\n",
    "где $\\mathrm{SS}_H = \\mathrm{RSS}(\\hat{\\beta}_H) - \\mathrm{RSS}(\\hat{\\beta})$ , $\\hat{\\beta}_H$ - МНК-оценка параметра при выполнении основной гипотезы, $\\mathrm{SSe} = \\mathrm{RSS}(\\hat{\\beta}) = s^2(n - r)$"
   ]
  },
  {
   "cell_type": "markdown",
   "metadata": {},
   "source": [
    "## Постановка задачи\n",
    "Результаты статистического эксперимента представлены в виде двух переменных. Требуется оценить характер (случайной) зависимости переменной Y от переменной X. Полученные результаты содержательно проинтерпретировать."
   ]
  },
  {
   "cell_type": "markdown",
   "metadata": {},
   "source": [
    "## Выполнение работы\n",
    "\n",
    "### Результаты статического экспериметка приведены в таблице. Требуется оценить характер (случайной) зависимости пременной $Y$ от переменной $X$.\n",
    "\n",
    "### 1. Построить графически результаты эксперимента. Сформулировать линейную регрессионную модель переменной $Y$ по переменной $X$. Построить МНК оценки параметров сдвига $\\beta_0$ и масштаба $\\beta_1$. Построить полученную линии регрессии. Оценить визуально соответсвие полученных данных и построенной оценки."
   ]
  },
  {
   "cell_type": "code",
   "execution_count": 32,
   "metadata": {},
   "outputs": [],
   "source": [
    "import matplotlib.pyplot as plt\n",
    "import pandas as pd\n",
    "import numpy as np\n",
    "from scipy.stats import chi2, norm, kstest, kstwobign, t, f\n",
    "import statistics as stat"
   ]
  },
  {
   "cell_type": "code",
   "execution_count": 33,
   "metadata": {},
   "outputs": [
    {
     "data": {
      "text/html": [
       "<div>\n",
       "<style scoped>\n",
       "    .dataframe tbody tr th:only-of-type {\n",
       "        vertical-align: middle;\n",
       "    }\n",
       "\n",
       "    .dataframe tbody tr th {\n",
       "        vertical-align: top;\n",
       "    }\n",
       "\n",
       "    .dataframe thead th {\n",
       "        text-align: right;\n",
       "    }\n",
       "</style>\n",
       "<table border=\"1\" class=\"dataframe\">\n",
       "  <thead>\n",
       "    <tr style=\"text-align: right;\">\n",
       "      <th></th>\n",
       "      <th>1</th>\n",
       "      <th>2</th>\n",
       "      <th>3</th>\n",
       "      <th>4</th>\n",
       "      <th>5</th>\n",
       "      <th>6</th>\n",
       "      <th>7</th>\n",
       "      <th>8</th>\n",
       "      <th>9</th>\n",
       "      <th>10</th>\n",
       "      <th>...</th>\n",
       "      <th>41</th>\n",
       "      <th>42</th>\n",
       "      <th>43</th>\n",
       "      <th>44</th>\n",
       "      <th>45</th>\n",
       "      <th>46</th>\n",
       "      <th>47</th>\n",
       "      <th>48</th>\n",
       "      <th>49</th>\n",
       "      <th>50</th>\n",
       "    </tr>\n",
       "  </thead>\n",
       "  <tbody>\n",
       "    <tr>\n",
       "      <th>X</th>\n",
       "      <td>4.00</td>\n",
       "      <td>5.00</td>\n",
       "      <td>1.00</td>\n",
       "      <td>2.00</td>\n",
       "      <td>2.00</td>\n",
       "      <td>3.00</td>\n",
       "      <td>5.00</td>\n",
       "      <td>3.00</td>\n",
       "      <td>3.00</td>\n",
       "      <td>3.00</td>\n",
       "      <td>...</td>\n",
       "      <td>2.00</td>\n",
       "      <td>2.00</td>\n",
       "      <td>2.00</td>\n",
       "      <td>1.00</td>\n",
       "      <td>3.00</td>\n",
       "      <td>4.00</td>\n",
       "      <td>2.00</td>\n",
       "      <td>3.00</td>\n",
       "      <td>2.00</td>\n",
       "      <td>3.00</td>\n",
       "    </tr>\n",
       "    <tr>\n",
       "      <th>Y</th>\n",
       "      <td>11.27</td>\n",
       "      <td>5.03</td>\n",
       "      <td>9.52</td>\n",
       "      <td>2.11</td>\n",
       "      <td>13.84</td>\n",
       "      <td>4.64</td>\n",
       "      <td>10.62</td>\n",
       "      <td>4.04</td>\n",
       "      <td>8.44</td>\n",
       "      <td>0.21</td>\n",
       "      <td>...</td>\n",
       "      <td>2.41</td>\n",
       "      <td>2.55</td>\n",
       "      <td>12.61</td>\n",
       "      <td>1.57</td>\n",
       "      <td>11.98</td>\n",
       "      <td>25.42</td>\n",
       "      <td>12.19</td>\n",
       "      <td>9.92</td>\n",
       "      <td>5.59</td>\n",
       "      <td>7.16</td>\n",
       "    </tr>\n",
       "  </tbody>\n",
       "</table>\n",
       "<p>2 rows × 50 columns</p>\n",
       "</div>"
      ],
      "text/plain": [
       "      1     2     3     4      5     6      7     8     9     10  ...    41  \\\n",
       "X   4.00  5.00  1.00  2.00   2.00  3.00   5.00  3.00  3.00  3.00  ...  2.00   \n",
       "Y  11.27  5.03  9.52  2.11  13.84  4.64  10.62  4.04  8.44  0.21  ...  2.41   \n",
       "\n",
       "     42     43    44     45     46     47    48    49    50  \n",
       "X  2.00   2.00  1.00   3.00   4.00   2.00  3.00  2.00  3.00  \n",
       "Y  2.55  12.61  1.57  11.98  25.42  12.19  9.92  5.59  7.16  \n",
       "\n",
       "[2 rows x 50 columns]"
      ]
     },
     "execution_count": 33,
     "metadata": {},
     "output_type": "execute_result"
    },
    {
     "data": {
      "image/png": "[encoded data removed]",
      "text/plain": [
       "<Figure size 640x480 with 1 Axes>"
      ]
     },
     "metadata": {},
     "output_type": "display_data"
    }
   ],
   "source": [
    "X = [4, 5, 1, 2, 2, 3, 5, 3, 3, 3,\\\n",
    "     4, 3, 3, 3, 4, 3, 2, 1, 4, 3,\\\n",
    "     2, 3, 3, 1, 3, 2, 2, 3, 1, 2,\\\n",
    "     1, 4, 1, 3, 2, 3, 4, 2, 0, 2,\\\n",
    "     2, 2, 2, 1, 3, 4, 2, 3, 2, 3]\n",
    "Y = [11.27, 5.03, 9.52, 2.11, 13.84,\\\n",
    "    4.64, 10.62, 4.04, 8.44, 0.21, 4.05,\\\n",
    "    4.61, 7.58, 7.42, 11.15, 5.09, 9.56,\\\n",
    "    9.83, 11.87, 4.12, 10.72, 6.95, 10.90,\\\n",
    "    5.18, 3.65, 4.33, 12.65, 9.47, 1.73, 3.69,\\\n",
    "    6.65, 2.41, 13.56, 14.20, 5.50, 12.80, 4.50,\\\n",
    "    1.64, 1.19, 11.08, 2.41, 2.55, 12.61, 1.57,\\\n",
    "    11.98, 25.42, 12.19, 9.92, 5.59, 7.16]\n",
    "data = [X, Y]\n",
    "n = len(X)\n",
    "\n",
    "plt.plot(X, Y, 'b*')\n",
    "plt.title('Результаты эксперимента')\n",
    "plt.xlabel('X')\n",
    "plt.ylabel('Y');\n",
    "\n",
    "table = pd.DataFrame(data, columns=[i for i in range(1, n + 1)], index=['X', 'Y'])\n",
    "table"
   ]
  },
  {
   "cell_type": "markdown",
   "metadata": {},
   "source": [
    "* МНК оценки $\\beta_0$ (параметр сдвига) и $\\beta_1$ (параметр масштаба):\n",
    "\n",
    "Линейная регрессионная модель: $Y = \\beta_0 + \\beta_1X  + \\epsilon$\n",
    "\n",
    "Решение системы нормальных уравнений в регулярном случае:\n",
    " \n",
    "$X = \\begin{pmatrix} 1 & 1  & 1 & \\cdots & 1 \\\\ x_1 & x_2 & x_3 & \\cdots & x_{50}\\end{pmatrix}$\n",
    "\n",
    "$XX^{\\intercal} = \\begin{pmatrix} 1 & 1  & 1 & \\cdots & 1 \\\\ x_1 & x_2 & x_3 & \\cdots & x_{50}\\end{pmatrix} \\cdot \\begin{pmatrix} 1 & x_1 \\\\ 1 & x_2 \\\\ 1 & x_3\\\\ \\vdots & \\vdots \\\\ 1 & x_{50} \\end{pmatrix} = \\begin{pmatrix}50 & 129 \\\\ 129 & 391 \\end{pmatrix}$\n",
    "\n",
    "$\\mathrm{det}\\left(XX^{\\intercal}\\right) = 2909$ - невырожденная, следовательно можно найти обратную матрицу.\n",
    "\n",
    "$\\left(XX^{\\intercal}\\right)^{-1} = \\frac{1}{2909} \\cdot \\begin{pmatrix}391 & -129 \\\\ -129 & 50 \\end{pmatrix}$\n",
    "\n",
    "Тогда, $\\widehat{\\beta} = \\left(XX^{\\intercal}\\right)^{-1}XY = \\begin{pmatrix} 5.32 \\\\ 0.88 \\end{pmatrix} \\rightarrow Y \\approx 5.32 + 0.88X$"
   ]
  },
  {
   "cell_type": "code",
   "execution_count": 34,
   "metadata": {},
   "outputs": [
    {
     "name": "stdout",
     "output_type": "stream",
     "text": [
      "XX^T =\n",
      " [[ 50 129]\n",
      " [129 391]]\n",
      "det = 2909.0000000000005\n",
      "beta_0 = 5.317342729460287\n",
      "beta_1 = 0.8785493296665519\n"
     ]
    },
    {
     "data": {
      "image/png": "[encoded data removed]",
      "text/plain": [
       "<Figure size 640x480 with 1 Axes>"
      ]
     },
     "metadata": {},
     "output_type": "display_data"
    }
   ],
   "source": [
    "X_1 = [np.array([1]*n), np.array(X)] # X =  1    1    1  ...   1\n",
    "                                     #     x_1  x_2  X_3 ...  x_50\n",
    "XT = np.transpose(X_1) #транспонирование матрицы Х\n",
    "XXT = np.matmul(X_1, XT) #произведение XX^T\n",
    "print('XX^T =\\n', XXT)\n",
    "\n",
    "det = np.linalg.det(XXT)#определитель матрицы XX^T\n",
    "print('det =', det)\n",
    "\n",
    "XXT_inv = np.linalg.inv(XXT)#обратная матрица XX^T\n",
    "cur_beta = np.matmul(XXT_inv, X_1)\n",
    "beta_hat = np.matmul(cur_beta, np.transpose(Y))#бета с крышкой\n",
    "print('beta_0 =', beta_hat[0])\n",
    "print('beta_1 =', beta_hat[1])\n",
    "\n",
    "Y_1 = beta_hat[0] + beta_hat[1]*np.array(X) # регрессионная модель\n",
    "\n",
    "plt.title('Результаты эксперимента и линия регрессии')\n",
    "plt.xlabel('X')\n",
    "plt.ylabel('Y')\n",
    "plt.grid()\n",
    "plt.plot(X, Y, 'b*')\n",
    "plt.plot(X, Y_1, 'ro-');"
   ]
  },
  {
   "cell_type": "markdown",
   "metadata": {},
   "source": [
    "По графику видно, что результаты эксперимента сильно отклоняются от полученной линии регрессии."
   ]
  },
  {
   "cell_type": "markdown",
   "metadata": {},
   "source": [
    "### 2. Построить и интерпретировать несмещённую оценку дисперсии. На базе ошибок построить гистограмму с шагом $h = 2.80$. Проверить гипотезу нормальности ошибок на уровне значимости $\\alpha = 0.10$ по $\\chi^2$. Оценить расстояние полученной оценки до класса нормальных распределений по Колмогорову. Визульно оценить данный факт.\n",
    "\n",
    "Несмещённая оценка параметра $\\sigma^2$:\n",
    "\n",
    " $s^2 = \\frac{RSS(\\widehat \\beta)}{n - r} = \\frac{1}{n - r} \\cdot \\sum \\limits_{i = 1}^n\\left(Y_i - \\sum \\limits_{j = 1}^m x_{ij} \\widehat{\\beta_j} \\right)^2 = \\frac{1}{n - r} \\cdot \\sum \\limits_{i = 1}^n\\left(Y_i - \\widehat{\\beta_0} - \\widehat{\\beta_1}X_i\\right)^2$, где $r = 2$ - ранг матрицы $X$"
   ]
  },
  {
   "cell_type": "code",
   "execution_count": 35,
   "metadata": {},
   "outputs": [
    {
     "name": "stdout",
     "output_type": "stream",
     "text": [
      "Несмещённая оценка дисперсии s^2 = 22.154000615904664\n"
     ]
    }
   ],
   "source": [
    "sum_2 = np.sum((Y - beta_hat[0] - beta_hat[1] * np.array(X))**2) # сумма квадратов\n",
    "s2 = sum_2 / (n - len(beta_hat))\n",
    "print('Несмещённая оценка дисперсии s^2 =', s2)"
   ]
  },
  {
   "cell_type": "code",
   "execution_count": 36,
   "metadata": {},
   "outputs": [
    {
     "data": {
      "image/png": "[encoded data removed]",
      "text/plain": [
       "<Figure size 640x480 with 1 Axes>"
      ]
     },
     "metadata": {},
     "output_type": "display_data"
    }
   ],
   "source": [
    "h = 2.8\n",
    "errors = Y - Y_1 #ошибки\n",
    "errors = sorted(errors) #сортировка ошибок\n",
    "bins = np.arange(min(errors), max(errors) + h, h) \n",
    "plt.xticks(bins)\n",
    "\n",
    "#построение гистограммы с шагом h\n",
    "y, edges, _= plt.hist(errors, edgecolor='black', bins=bins, weights=np.ones_like(errors) / n) \n",
    "plt.grid()\n",
    "plt.title('Гистограмма ошибок')\n",
    "plt.xlabel('Errors')\n",
    "plt.ylabel('freq');"
   ]
  },
  {
   "cell_type": "markdown",
   "metadata": {},
   "source": [
    "* **Проверка гипотезы нормальности**\n",
    "\n",
    "Основная гипотеза $H_0$: $\\vec{\\epsilon} \\sim \\mathcal{N}(0, \\sigma^2)$\n",
    "\n",
    "Разобьём числовую прямую на отрезки $G_1 = \\left(- \\infty, -4.68\\right],  G_2 = \\left(-4.68, -2.7\\right],  G_3 = \\left(-2.7, -0.53\\right], G_4 = \\left(-0.53, 2.34 \\right], G_5 = \\left(2.34, + \\infty\\right)$\n",
    "\n",
    "Рассмотрим $\\mathbb{P}_{k} = \\mathbb{P}_{\\theta}\\left(x_i \\in G_k\\right) = \\sum \\limits_{x \\in G_k} p_{\\theta}(x)$, где $p_{\\theta}(x)$ - плотность нормального распределения.<br>\n",
    "$\\mathbb{P}_{1} = 0.16 \\rightarrow n\\mathbb{P}_1 = 8$ \n",
    "\n",
    "$\\mathbb{P}_{2} = 0.12 \\rightarrow n\\mathbb{P}_2 = 6.15$\n",
    "\n",
    "$\\mathbb{P}_{3} = 0.17 \\rightarrow n\\mathbb{P} _3 = 8.6$\n",
    "\n",
    "$\\mathbb{P}_{4} = 0.24 \\rightarrow n\\mathbb{P} _3 = 11.76$\n",
    "\n",
    "$\\mathbb{P}_{5} = 1 - \\left(\\mathbb{P}_{1} + \\mathbb{P}_{2} + \\mathbb{P}_3 + \\mathbb{P}_{4}\\right) = 0.31 \\rightarrow n\\mathbb{P}_5 = 15.48$"
   ]
  },
  {
   "cell_type": "code",
   "execution_count": 37,
   "metadata": {},
   "outputs": [
    {
     "name": "stdout",
     "output_type": "stream",
     "text": [
      "P1 =  0.16003711864015452 , n*P1 =  8.001855932007725\n",
      "P2 =  0.12306938020585195 , n*P2 =  6.153469010292597\n",
      "P3 =  0.17206617223700693 , n*P3 =  8.603308611850347\n",
      "P4 =  0.23528663127123195 , n*P4 =  11.764331563561598\n",
      "P5 =  0.30954069764575454 , n*P5 =  15.477034882287727\n",
      "n1 =  6 , n2 =  14 , n3 =  6 , n4 =  7 n5 =  17\n"
     ]
    }
   ],
   "source": [
    "a = 0\n",
    "sigma = s2**0.5\n",
    "alpha = 0.1\n",
    "\n",
    "edges = [-4.68, -2.7, -0.53, 2.34, 17.46] #интервалы\n",
    "\n",
    "#подсчёт вероятностей\n",
    "p1 = norm.cdf(edges[0], a, sigma)\n",
    "p2 = norm.cdf(edges[1], a, sigma) - norm.cdf(edges[0], a, sigma)\n",
    "p3 = norm.cdf(edges[2], a, sigma) - norm.cdf(edges[1], a, sigma)\n",
    "p4 = norm.cdf(edges[3], a, sigma) - norm.cdf(edges[2], a, sigma)\n",
    "p5 = 1 - p1 - p2 - p3 - p4\n",
    "print('P1 = ', p1, ', n*P1 = ', n * p1)\n",
    "print('P2 = ', p2, ', n*P2 = ', n * p2)\n",
    "print('P3 = ', p3, ', n*P3 = ', n * p3)\n",
    "print('P4 = ', p4, ', n*P4 = ', n * p4)\n",
    "print('P5 = ', p5, ', n*P5 = ', n * p5)\n",
    "\n",
    "#количество значений, попавших в интервал\n",
    "groups = [[],[],[],[],[]]\n",
    "cur_edge_index = 0\n",
    "cur_group = 0\n",
    "\n",
    "for item in errors:\n",
    "    cur_edge = edges[cur_edge_index]\n",
    "    if item <= cur_edge:\n",
    "        groups[cur_group].append(item)\n",
    "    else:\n",
    "        cur_group += 1\n",
    "        groups[cur_group].append(item)\n",
    "        cur_edge_index += 1\n",
    "        \n",
    "n1, n2, n3, n4, n5 = len(groups[0]), len(groups[1]), len(groups[2]), len(groups[3]), len(groups[4])\n",
    "#print(groups)\n",
    "print('n1 = ', n1, ', n2 = ', n2, ', n3 = ', n3, ', n4 = ', n4, 'n5 = ', n5)"
   ]
  },
  {
   "cell_type": "code",
   "execution_count": 38,
   "metadata": {},
   "outputs": [
    {
     "name": "stdout",
     "output_type": "stream",
     "text": [
      "Статистика критерия:  13.373304875588854\n",
      "Табличное значение: 4.605170185988092\n"
     ]
    }
   ],
   "source": [
    "#критерий\n",
    "chi = ((n1 - n*p1)**2) / (n*p1) + ((n2 - n*p2)**2) / (n*p2) + ((n3 - n*p3)**2) / (n*p3) + ((n4 - n*p4)**2) / (n*p4) + ((n5 - n*p5)**2) / (n*p5)\n",
    "print(\"Статистика критерия: \", chi)\n",
    "print('Табличное значение:', chi2.ppf(1 - alpha, 2))"
   ]
  },
  {
   "cell_type": "markdown",
   "metadata": {},
   "source": [
    "Тогда получилим статистику критерия $\\chi^2 = \\sum \\limits_{i=1}^5 \\large \\frac{\\left(n_i - n\\mathbb{P}_i\\right)^2}{n\\mathbb{P}_i}  \\normalsize = 13.37$<br><br>\n",
    "Из таблицы (дополнительно посчитано в коде): $\\chi_{k-d-1, \\alpha}^2 = \\chi_{2, 0.1}^2 = 4.61$"
   ]
  },
  {
   "cell_type": "code",
   "execution_count": 39,
   "metadata": {},
   "outputs": [
    {
     "name": "stdout",
     "output_type": "stream",
     "text": [
      "Гипотеза отвергается\n"
     ]
    }
   ],
   "source": [
    "if chi > chi2.ppf(1 - alpha, 2):\n",
    "    print('Гипотеза отвергается')\n",
    "else:\n",
    "    print('Гипотеза принимается')"
   ]
  },
  {
   "cell_type": "markdown",
   "metadata": {},
   "source": [
    "Так как $\\chi^2 > \\chi_{2, 0.1}^2$ , то гипотеза отвергается.\n",
    "\n",
    "* **Оценка расстояния до класса нормальных распределений по Колмогорову**\n",
    "\n",
    "Вычислим выборочный критерий Колмогорова $\\eta = \\sqrt{n}D_n$ используя Scipy"
   ]
  },
  {
   "cell_type": "code",
   "execution_count": 40,
   "metadata": {},
   "outputs": [
    {
     "name": "stdout",
     "output_type": "stream",
     "text": [
      "Критерий Колмогорова:  0.8490949272572775\n"
     ]
    }
   ],
   "source": [
    "sigma = np.sqrt(s2)\n",
    "\n",
    "cdf = lambda x: norm.cdf(x, loc = 0, scale = sigma)\n",
    "Dn, _ = kstest(errors, cdf)\n",
    "eta = n**0.5 * Dn\n",
    "print('Критерий Колмогорова: ', eta)"
   ]
  },
  {
   "cell_type": "markdown",
   "metadata": {},
   "source": [
    "Зададим уровень значимости $\\alpha = 0.1$. Вычислим квантиль Колмогорова $d_{1 - \\alpha}$, чтобы построить критическую область $V_k = (d_{1 - \\alpha},+ \\infty)$"
   ]
  },
  {
   "cell_type": "code",
   "execution_count": 41,
   "metadata": {},
   "outputs": [
    {
     "name": "stdout",
     "output_type": "stream",
     "text": [
      "Квантиль:  1.2238478702170825\n"
     ]
    }
   ],
   "source": [
    "d = kstwobign.ppf(1 - alpha)\n",
    "print('Квантиль: ', d)"
   ]
  },
  {
   "cell_type": "markdown",
   "metadata": {},
   "source": [
    "$V_k = (1.22, + \\infty)$\n",
    "\n",
    "$\\eta \\notin V_k \\Rightarrow$ нет оснований отвергнуть гипотезу."
   ]
  },
  {
   "cell_type": "code",
   "execution_count": 42,
   "metadata": {},
   "outputs": [
    {
     "data": {
      "image/png": "[encoded data removed]",
      "text/plain": [
       "<Figure size 640x480 with 1 Axes>"
      ]
     },
     "metadata": {},
     "output_type": "display_data"
    }
   ],
   "source": [
    "\n",
    "y, edges, _= plt.hist(errors, edgecolor='black', bins=bins, weights=np.ones_like(errors) / n) \n",
    "values = np.linspace(min(errors), max(errors), 100)\n",
    "plt.plot(values, norm.pdf(values, np.array(errors).mean(), np.array(errors).std()), color='red')\n",
    "plt.grid()\n",
    "plt.xticks(bins)\n",
    "plt.title('Гистограмма ошибок')\n",
    "plt.xlabel('Errors')\n",
    "plt.ylabel('freq');"
   ]
  },
  {
   "cell_type": "markdown",
   "metadata": {},
   "source": [
    "Визуально видно, что распределение ошибок сильно отличается от нормального.\n",
    "\n",
    "### 3. В предположении нормальности ошибок построить доверительные интервалы для параметров $\\beta_0$ и $\\beta_1$ уровня доверия $1 - \\alpha$. Построить доверительный эллипс уровня доверия $1 - \\alpha$ для $(\\beta_0, \\beta_1)$ (вычислить его полуоси).\n",
    "\n",
    "* **Доверительный интервал**\n",
    "\n",
    "ДНО-функция: $\\psi = C^{\\intercal}\\beta$\n",
    "\n",
    "МНК-оценка: $\\widehat{\\psi} = C^{\\intercal}\\widehat{\\beta}$\n",
    "\n",
    "Для $\\beta_0$: $C = \\begin{pmatrix} 1 \\\\ 0 \\end{pmatrix}$\n",
    "\n",
    "Для $\\beta_1$: $C = \\begin{pmatrix} 0 \\\\ 1 \\end{pmatrix}$\n",
    "\n",
    "Элемент дисперсии оценки: $b_{\\psi} =  C^{\\intercal} \\left(XX^{\\intercal}\\right)^{-1}C$\n",
    "\n",
    "$\\Large \\frac{\\widehat{\\psi} - \\psi}{s\\sqrt{b}} \\normalsize \\sim S_{n-r}$ , где $r = 2$\n",
    "\n",
    "Доверительный интервал уровня доверия $1 - \\alpha$:\n",
    "\n",
    "$$\\left[\\widehat{\\psi} - x_{\\alpha}s\\sqrt{b}, \\widehat{\\psi} + x_{\\alpha}s\\sqrt{b}\\right] \\ni \\psi$$\n",
    "где $x_{\\alpha}: \\mathrm{S}_{n-r}(x_{\\alpha}) = 1 - \\frac{\\alpha}{2}$"
   ]
  },
  {
   "cell_type": "code",
   "execution_count": 43,
   "metadata": {},
   "outputs": [
    {
     "name": "stdout",
     "output_type": "stream",
     "text": [
      "x_alpha = 1.6772241953450393\n",
      "Доверительный интервал для beta_0 [2.423108212689163, 8.21157724623141]\n",
      "Доверительный интервал для beta_1 [-0.1564268205256507, 1.9135254798587544]\n"
     ]
    }
   ],
   "source": [
    "# x_alpha\n",
    "alpha = 0.1\n",
    "r = 2\n",
    "df = n - r\n",
    "x_alpha = t.ppf(1 - alpha/2, df)\n",
    "print('x_alpha =', x_alpha)\n",
    "\n",
    "#границы интервала beta_0\n",
    "CT_0 = np.array([1.0, 0.0])\n",
    "b_0 = np.dot(np.dot(CT_0, XXT_inv), np.transpose(CT_0))\n",
    "psi_hat = np.matmul(CT_0, beta_hat)\n",
    "left_0 = psi_hat - x_alpha * (s2 * b_0)**0.5\n",
    "right_0 = psi_hat + x_alpha * (s2 * b_0)**0.5\n",
    "print('Доверительный интервал для beta_0', [left_0, right_0])\n",
    "\n",
    "#границы интервала beta_1\n",
    "CT_1 = np.array([0.0, 1.0])\n",
    "b_1 = np.dot(np.dot(CT_1, XXT_inv), np.transpose(CT_1))\n",
    "psi_hat = np.matmul(CT_1, beta_hat)\n",
    "left_1 = psi_hat - x_alpha * (s2 * b_1)**0.5\n",
    "right_1 = psi_hat + x_alpha * (s2 * b_1)**0.5\n",
    "print('Доверительный интервал для beta_1', [left_1, right_1])"
   ]
  },
  {
   "cell_type": "markdown",
   "metadata": {},
   "source": [
    "* **Доверительный эллипс**\n",
    "\n",
    "$\\large \\frac{\\left(\\widehat{\\psi} - \\psi\\right)^{\\intercal}B^{-1}\\left(\\widehat{\\psi} - \\psi\\right)}{qs^2} \\normalsize \\sim \\mathcal{F}_{q, n - r}$\n",
    "\n",
    "Квантиль: $x_{\\alpha} : \\mathrm{F}_{q, n - r}(x_{\\alpha}) = 1 - \\alpha = 1 - 0.1 = 0.9$\n",
    "\n",
    "$A_{\\alpha} = \\left\\{\\vec{x} : \\left(\\vec{x} - \\widehat{\\psi}\\right)^{\\intercal}B^{-1} \\left(\\vec{x} - \\widehat{\\psi}\\right) \\leq qs^2x_{\\alpha}\\right\\}$ , где $x_{\\alpha} : \\mathrm{F}_{q, n-r} = 1 - \\alpha$, $B = C^{\\intercal}\\left(XX^{\\intercal}\\right)^{-1}C$\n",
    "\n",
    "$C = \\begin{pmatrix}1 & 0 \\\\ 0 & 1\\end{pmatrix}$\n",
    "\n",
    "Тогда, $\\begin{pmatrix} x \\\\ y \\end{pmatrix} = P\\left(\\widehat{\\psi} - \\psi\\right)$ , где $P$ - матрица собственных векторов матрицы $XX^{\\intercal}$.\n",
    "\n",
    "Тогда, уравнение доверительного эллипса выглядит так:\n",
    "\n",
    "$\\left(\\widehat{\\psi} - \\psi\\right)^{\\intercal}B^{-1}\\left(\\widehat{\\psi} - \\psi\\right) = \\lambda_1x^2 + \\lambda_2y^2 \\leq qs^2x_{\\alpha}$\n",
    "\n",
    "Таким образом $\\large \\frac{\\lambda_1x^2}{qs^2x_{\\alpha}} + \\frac{\\lambda_2y^2}{qs^2x_{\\alpha}} \\normalsize \\leq 1$, где $q = 2$ - размер модели"
   ]
  },
  {
   "cell_type": "code",
   "execution_count": 44,
   "metadata": {},
   "outputs": [
    {
     "name": "stdout",
     "output_type": "stream",
     "text": [
      "P =\n",
      " [[-0.94801561 -0.31822381]\n",
      " [ 0.31822381 -0.94801561]]\n"
     ]
    }
   ],
   "source": [
    "#матрица собственных векторов\n",
    "eigenvalues, eigenvectors = np.linalg.eig(np.array(XXT))\n",
    "print('P =\\n', eigenvectors)"
   ]
  },
  {
   "cell_type": "markdown",
   "metadata": {},
   "source": [
    "$ P\\left(\\widehat{\\psi} - \\psi\\right) = \\begin{pmatrix} -0.95 & -0.32 \\\\ 0.32 & -0.95\\end{pmatrix} \\begin{pmatrix} 5.32 - \\beta_0 \\\\ 0.88 - \\beta_1 \\end{pmatrix} = \\begin{pmatrix} -5.3356 + 0.95\\beta_0 + 0.32\\beta_1 \\\\ 0.8664 - 0.32\\beta_0 + 0.95\\beta_1\\end{pmatrix}$"
   ]
  },
  {
   "cell_type": "code",
   "execution_count": 45,
   "metadata": {},
   "outputs": [
    {
     "name": "stdout",
     "output_type": "stream",
     "text": [
      "x_alpha = 2.416660110053031\n"
     ]
    },
    {
     "data": {
      "image/png": "[encoded data removed]",
      "text/plain": [
       "<Figure size 640x480 with 1 Axes>"
      ]
     },
     "metadata": {},
     "output_type": "display_data"
    }
   ],
   "source": [
    "q = 2\n",
    "x_alpha_1 = f.ppf(1 - alpha, q, n - r)\n",
    "print('x_alpha =', x_alpha_1)\n",
    "a = eigenvalues[0] / (q*s2*x_alpha_1)\n",
    "b = eigenvalues[1] / (q*s2*x_alpha_1)\n",
    "\n",
    "#функция подсчёта значений уравнения\n",
    "def ellipse(b1, b2):\n",
    "  return (( -5.3356 + 0.95 * b1 + 0.32 * b2)**2 * a) + (( 0.8664 - 0.32 * b1 + 0.95 * b2)**2 * b)\n",
    "\n",
    "#Сетка\n",
    "x = np.linspace(0, 10, 200)\n",
    "y = np.linspace(-1, 2.5, 200)\n",
    "X_plot, Y_plot = np.meshgrid(x, y)\n",
    "\n",
    "#График\n",
    "plt.contour(X_plot, Y_plot, ellipse(X_plot, Y_plot), levels=[1], colors='blue', linewidths=2)\n",
    "plt.title(\"Эллипс\")\n",
    "plt.xlabel(\"X\")\n",
    "plt.ylabel(\"Y\")\n",
    "plt.grid()"
   ]
  },
  {
   "cell_type": "markdown",
   "metadata": {},
   "source": [
    "Полуоси эллипса:\n",
    "\n",
    "$\\large \\frac{\\lambda_1x^2}{qs^2x_{\\alpha}} + \\frac{\\lambda_2y^2}{qs^2x_{\\alpha}} \\normalsize = 1$\n",
    "\n",
    "Отсюда следует, что $a = \\large \\sqrt{\\frac{\\lambda_1}{qs^2x_{\\alpha}}}$ - малая полуось, $b = \\large \\sqrt{\\frac{\\lambda_2}{qs^2x_{\\alpha}}}$ - большая полуось"
   ]
  },
  {
   "cell_type": "code",
   "execution_count": 46,
   "metadata": {},
   "outputs": [
    {
     "name": "stdout",
     "output_type": "stream",
     "text": [
      "Малая полуось а = 0.25010774032640204\n",
      "Большая полуось b = 2.013942168888041\n"
     ]
    }
   ],
   "source": [
    "# расчёт малой полуоси\n",
    "a_ellipse = (eigenvalues[0] / (q*s2*x_alpha_1))**0.5\n",
    "print('Малая полуось а =', a_ellipse)\n",
    "\n",
    "#расчёт большой полуоси\n",
    "b_ellipse = (eigenvalues[1] / (q*s2*x_alpha_1))**0.5\n",
    "print('Большая полуось b =', b_ellipse)"
   ]
  },
  {
   "cell_type": "markdown",
   "metadata": {},
   "source": [
    "### 4. Сформулировать гипотезу независимости переменной $Y$ от переменной $X$. Провести проверку значимости.\n",
    "\n",
    "Нулевая гипотеза: $H_0: \\beta_1 = 0$\n",
    "\n",
    "Альтернативная гипотеза: $H_A: \\beta_1 \\neq 0$\n",
    "\n",
    "$\\mathbb{F}$-статистика: $\\mathbb{F} =\\large \\frac{SS_н}{q} \\cdot \\frac{n - r}{SS_e} \\normalsize = \\large \\frac{\\widehat{\\psi}^{\\intercal}B^{-1}\\widehat{\\psi}}{qs^2} \\sim \\mathcal{F}_{q, n - r}$ , $B = C^{\\intercal}\\left(XX^{\\intercal}\\right)^{-1}C$ , $q = 1$\n",
    "\n",
    "Так как при нулевой гипотезе $\\beta_0 = 0$, то $C = \\begin{pmatrix} 0 \\\\ 1 \\end{pmatrix}$. Тогда $\\widehat{\\psi} = C^{\\intercal}\\widehat{\\beta} = \\widehat{\\beta_1}$, а значит $\\mathbb{F} = \\large \\frac{\\widehat{\\beta_1}^2}{bqs^2}$\n",
    "\n",
    "Квантиль: \n",
    "\n",
    "$x_{\\alpha}: \\mathrm{F}(x_{\\alpha}) = 1 - \\alpha = 0.9 \\rightarrow x_{\\alpha} = 2.42$"
   ]
  },
  {
   "cell_type": "code",
   "execution_count": 47,
   "metadata": {},
   "outputs": [
    {
     "name": "stdout",
     "output_type": "stream",
     "text": [
      "x_alpha = 2.416660110053031\n",
      "Статистика F-критерия: 2.02700050501657\n",
      "Табличное значение: 2.813081004064934\n"
     ]
    }
   ],
   "source": [
    "#квантиль\n",
    "x_alpha_2 = x_alpha_1\n",
    "print('x_alpha =', x_alpha_2)\n",
    "\n",
    "#статистика критерия\n",
    "q = 1\n",
    "C = np.array([0, 1])\n",
    "b = np.matmul(np.matmul(np.transpose(C), XXT_inv), C)\n",
    "F = (beta_hat[1]**2) / (b*q*s2)\n",
    "print('Статистика F-критерия:', F)\n",
    "\n",
    "#табличное значение\n",
    "q, r = 1, 2\n",
    "alpha = 0.1\n",
    "F_q_n_r = f.ppf(1 - alpha, q, n - r)\n",
    "print('Табличное значение:', F_q_n_r)"
   ]
  },
  {
   "cell_type": "markdown",
   "metadata": {},
   "source": [
    "Так как статистика критерия меньше табличного значения, то нет оснований отвергнуть данную гипотезу.\n",
    "\n",
    "### 5. Сформулировать модель, включающую дополнительный член с $X^2$. Построить МНК оценки параметров $\\beta_0$, $\\beta_1$, $\\beta_2$ в данной модели. Изобразить графически полученную регрессионную модель.\n",
    "\n",
    "* МНК оценки $\\beta_0$, $\\beta_1$, $\\beta_2$:\n",
    "\n",
    "Квадратичная регрессионная модель: $Y = \\beta_0 + \\beta_1X  + \\beta_2X^2 + \\epsilon$\n",
    "\n",
    "Решение системы нормальных уравнений в регулярном случае:\n",
    " \n",
    "$X = \\begin{pmatrix} 1 & 1  & 1 & \\cdots & 1 \\\\ x_1 & x_2 & x_3 & \\cdots & x_{50} \\\\ x_1^2 & x_2^2 & x_3^2 & \\cdots & x_{50}^2\\end{pmatrix}$\n",
    "\n",
    "$XX^{\\intercal} = \\begin{pmatrix} 1 & 1  & 1 & \\cdots & 1 \\\\ x_1 & x_2 & x_3 & \\cdots & x_{50} \\\\ x_1^2 & x_2^2 & x_3^2 & \\cdots & x_{50}^2\\end{pmatrix} \\cdot \\begin{pmatrix} 1 & x_1 & x_1^2 \\\\ 1 & x_2 & x_2^2 \\\\ 1 & x_3 & x_3^2\\\\ \\vdots & \\vdots & \\vdots \\\\ 1 & x_{50} & x_{50}^2 \\end{pmatrix} = \\begin{pmatrix}50 & 129 & 391\\\\ 129 & 391 & 1311 \\\\ 391 & 1311 & 4747 \\end{pmatrix}$\n",
    "\n",
    "Тогда, $\\widehat{\\beta} = \\left(XX^{\\intercal}\\right)^{-1}XY = \\begin{pmatrix} 4.37 \\\\ 1.76 \\\\ -0.17 \\end{pmatrix} \\rightarrow Y \\approx 4.37 + 1.76X - 0.17X^2$"
   ]
  },
  {
   "cell_type": "code",
   "execution_count": 48,
   "metadata": {},
   "outputs": [
    {
     "name": "stdout",
     "output_type": "stream",
     "text": [
      "XX^T =\n",
      " [[  50  129  391]\n",
      " [ 129  391 1311]\n",
      " [ 391 1311 4747]]\n",
      "beta_0 = 4.366629301415605\n",
      "beta_1 = 1.763278397974456\n",
      "beta_2 = -0.17031810334906433\n"
     ]
    },
    {
     "data": {
      "image/png": "[encoded data removed]",
      "text/plain": [
       "<Figure size 640x480 with 1 Axes>"
      ]
     },
     "metadata": {},
     "output_type": "display_data"
    }
   ],
   "source": [
    "X2 = [i**2 for i in X]\n",
    "X_2 = [np.array([1]*n), X, X2] # матрица Х с доп строкой х^2\n",
    "XT_2 = np.transpose(X_2) # транспонированная матрица Х\n",
    "XXT_2 = np.matmul(X_2, XT_2) # матрица ХХ^T\n",
    "print('XX^T =\\n', XXT_2)\n",
    "\n",
    "XXT_inv_2 = np.linalg.inv(XXT_2) #обратная матрица XX^T\n",
    "cur_beta_2 = np.matmul(XXT_inv_2, X_2)\n",
    "beta_hat_2 = np.matmul(cur_beta_2, np.transpose(Y)) #бета с крышкой\n",
    "print('beta_0 =', beta_hat_2[0])\n",
    "print('beta_1 =', beta_hat_2[1])\n",
    "print('beta_2 =', beta_hat_2[2])\n",
    "\n",
    "#регресиионная модель\n",
    "x_values = np.unique(X)\n",
    "Y_2 = beta_hat_2[0] + beta_hat_2[1] * x_values + beta_hat_2[2] * x_values**2\n",
    "\n",
    "plt.title('Регрессионная модель')\n",
    "plt.xlabel('X')\n",
    "plt.ylabel('Y')\n",
    "plt.grid()\n",
    "plt.plot(X, Y, 'b*')\n",
    "plt.plot(x_values, Y_2,'ro-');"
   ]
  },
  {
   "cell_type": "markdown",
   "metadata": {},
   "source": [
    "### 6. Построить несмещённую оценку дисперсии. Провести исследование нормальности ошибок как в пункте 2.\n",
    "\n",
    " $s^2 = \\frac{RSS(\\widehat \\beta)}{n - r} = \\frac{1}{n - r} \\cdot \\sum \\limits_{i = 1}^n\\left(Y_i - \\sum \\limits_{j = 1}^m x_{ij} \\widehat{\\beta_j} \\right)^2 = \\frac{1}{n - r} \\cdot \\sum \\limits_{i = 1}^n\\left(Y_i - \\widehat{\\beta_0} - \\widehat{\\beta_1}X_i - \\widehat{\\beta_2}X_i^2\\right)^2$, где $r = 3$ - ранг матрицы $X$"
   ]
  },
  {
   "cell_type": "code",
   "execution_count": 49,
   "metadata": {},
   "outputs": [
    {
     "name": "stdout",
     "output_type": "stream",
     "text": [
      "Несмещённая оценка дисперсии s^2 = 22.551621193438514\n"
     ]
    }
   ],
   "source": [
    "\n",
    "sum2_2 = np.sum((Y - beta_hat_2[0] - beta_hat_2[1] * np.array(X) - beta_hat_2[2]*np.array(X2))**2)\n",
    "s2_2 = sum2_2 / (n - len(beta_hat_2))\n",
    "print('Несмещённая оценка дисперсии s^2 =', s2_2)"
   ]
  },
  {
   "cell_type": "code",
   "execution_count": 50,
   "metadata": {},
   "outputs": [
    {
     "data": {
      "image/png": "[encoded data removed]",
      "text/plain": [
       "<Figure size 640x480 with 1 Axes>"
      ]
     },
     "metadata": {},
     "output_type": "display_data"
    }
   ],
   "source": [
    "h = 2.8\n",
    "Y_2 = beta_hat_2[0] + beta_hat_2[1] * np.array(X) + beta_hat_2[2] * np.array(X)**2\n",
    "errors_2 = Y - Y_2\n",
    "errors_2 = sorted(errors_2)\n",
    "bins_2 = np.arange(min(errors_2), max(errors_2) + h, h)\n",
    "plt.xticks(bins_2)\n",
    "\n",
    "#построение гистограммы\n",
    "y_2, edges_2, _= plt.hist(errors_2, edgecolor='black', bins=bins_2, weights=np.ones_like(errors_2) / n) \n",
    "plt.grid()\n",
    "plt.title('Гистограмма ошибок')\n",
    "plt.xlabel('Errors')\n",
    "plt.ylabel('freq');"
   ]
  },
  {
   "cell_type": "markdown",
   "metadata": {},
   "source": [
    "* **Проверка гипотезы нормальности**\n",
    "\n",
    "Основная гипотеза $H_0$: $\\vec{\\epsilon} \\sim \\mathcal{N}(0, \\sigma^2)$\n",
    "\n",
    "Разобьём числовую прямую на отрезки $G_1 = \\left(- \\infty, -4.20\\right],  G_2 = \\left(-4.20, -2.7\\right],  G_3 = \\left(-2.7, 1.69\\right], G_4 = \\left(1.69, 3.86 \\right], G_5 = \\left(3.86, 5.4 \\right]G_6 = \\left(5.4, + \\infty\\right)$\n",
    "\n",
    "Рассмотрим $\\mathbb{P}_{k} = \\mathbb{P}_{\\theta}\\left(x_i \\in G_k\\right) = \\sum \\limits_{x \\in G_k} p_{\\theta}(x)$, где $p_{\\theta}(x)$ - плотность нормального распределения.<br>\n",
    "$\\mathbb{P}_{1} = 0.05 \\rightarrow n\\mathbb{P}_1 = 2.39$ \n",
    "\n",
    "$\\mathbb{P}_{2} = 0.09 \\rightarrow n\\mathbb{P}_2 = 4.65$\n",
    "\n",
    "$\\mathbb{P}_{3} = 0.17 \\rightarrow n\\mathbb{P} _3 = 8.61$\n",
    "\n",
    "$\\mathbb{P}_{4} = 0.23 \\rightarrow n\\mathbb{P} _3 = 11.48$\n",
    "\n",
    "$\\mathbb{P}_{5} = 0.22 \\rightarrow n\\mathbb{P} _3 = 10.74$\n",
    "\n",
    "$\\mathbb{P}_{6} = 1 - \\left(\\mathbb{P}_{1} + \\mathbb{P}_{2} + \\mathbb{P}_3 + \\mathbb{P}_{4} + \\mathbb{P}_{5}\\right) = 0.24 \\rightarrow n\\mathbb{P}_5 = 12.22$"
   ]
  },
  {
   "cell_type": "code",
   "execution_count": 51,
   "metadata": {},
   "outputs": [
    {
     "name": "stdout",
     "output_type": "stream",
     "text": [
      "P1 =  0.047814579089517056 , n*P1 =  2.3907289544758528\n",
      "P2 =  0.09296859641912728 , n*P2 =  4.6484298209563635\n",
      "P3 =  0.1722781455015691 , n*P3 =  8.613907275078455\n",
      "P4 =  0.2277287569739168 , n*P4 =  11.386437848695842\n",
      "P5 =  0.21475388411128638 , n*P5 =  10.737694205564319\n",
      "P6 =  0.24445603790458348 , n*P5 =  12.222801895229175\n",
      "n1 =  10 , n2 =  10 , n3 =  10 , n4 =  10 n5 =  5 n6 =  5\n"
     ]
    }
   ],
   "source": [
    "a = 0\n",
    "sigma_2 = s2_2**0.5\n",
    "\n",
    "edges = [-4.20, -2.7, 1.69, 3.86, 5.4, 17.29] #интервалы\n",
    "\n",
    "#подсчёт вероятностей\n",
    "p1_2 = norm.cdf(edges_2[0], a, sigma_2)\n",
    "p2_2 = norm.cdf(edges_2[1], a, sigma_2) - norm.cdf(edges_2[0], a, sigma_2)\n",
    "p3_2 = norm.cdf(edges_2[2], a, sigma_2) - norm.cdf(edges_2[1], a, sigma_2)\n",
    "p4_2 = norm.cdf(edges_2[3], a, sigma_2) - norm.cdf(edges_2[2], a, sigma_2)\n",
    "p5_2 = norm.cdf(edges_2[4], a, sigma_2) - norm.cdf(edges_2[3], a, sigma_2)\n",
    "p6_2 = 1 - p1_2 - p2_2 - p3_2 - p4_2 - p5_2\n",
    "print('P1 = ', p1_2, ', n*P1 = ', n * p1_2)\n",
    "print('P2 = ', p2_2, ', n*P2 = ', n * p2_2)\n",
    "print('P3 = ', p3_2, ', n*P3 = ', n * p3_2)\n",
    "print('P4 = ', p4_2, ', n*P4 = ', n * p4_2)\n",
    "print('P5 = ', p5_2, ', n*P5 = ', n * p5_2)\n",
    "print('P6 = ', p6_2, ', n*P5 = ', n * p6_2)\n",
    "\n",
    "#количество значений, попавших в интервал\n",
    "groups = [[],[],[],[],[],[]]\n",
    "cur_edge_index = 0\n",
    "cur_group = 0\n",
    "\n",
    "for item in errors_2:\n",
    "    cur_edge = edges[cur_edge_index]\n",
    "    if item <= cur_edge:\n",
    "        groups[cur_group].append(item)\n",
    "    else:\n",
    "        cur_group += 1\n",
    "        groups[cur_group].append(item)\n",
    "        cur_edge_index += 1\n",
    "        \n",
    "n1_2, n2_2, n3_2, n4_2, n5_2, n6_2 = len(groups[0]), len(groups[1]), len(groups[2]), len(groups[3]), len(groups[4]), len(groups[5])\n",
    "#print(groups)\n",
    "print('n1 = ', n1_2, ', n2 = ', n2_2, ', n3 = ', n3_2, ', n4 = ', n4_2, 'n5 = ', n5_2, 'n6 = ', n6_2)"
   ]
  },
  {
   "cell_type": "code",
   "execution_count": 52,
   "metadata": {},
   "outputs": [
    {
     "name": "stdout",
     "output_type": "stream",
     "text": [
      "Статистика критерия:  38.1060026527349\n",
      "Табличное значение: 6.251388631170325\n"
     ]
    }
   ],
   "source": [
    "#критерий\n",
    "alpha = 0.1\n",
    "chi = ((n1_2 - n*p1_2)**2) / (n*p1_2) + ((n2_2 - n*p2_2)**2) / (n*p2_2) + ((n3_2 - n*p3_2)**2) / (n*p3_2)\\\n",
    "      + ((n4_2 - n*p4_2)**2) / (n*p4_2) + ((n5_2 - n*p5_2)**2) / (n*p5_2) + ((n6_2 - n*p6_2)**2) / (n*p6_2)\n",
    "print(\"Статистика критерия: \", chi)\n",
    "print('Табличное значение:', chi2.ppf(1 - alpha, 3))"
   ]
  },
  {
   "cell_type": "markdown",
   "metadata": {},
   "source": [
    "Тогда получилим статистику критерия $\\chi^2 = \\sum \\limits_{i=1}^6 \\large \\frac{\\left(n_i - n\\mathbb{P}_i\\right)^2}{n\\mathbb{P}_i}  \\normalsize = 38.1$<br><br>\n",
    "Из таблицы (дополнительно посчитано в коде): $\\chi_{k-d-1, \\alpha}^2 = \\chi_{3, 0.1}^2 = 4.61$"
   ]
  },
  {
   "cell_type": "code",
   "execution_count": 53,
   "metadata": {},
   "outputs": [
    {
     "name": "stdout",
     "output_type": "stream",
     "text": [
      "Гипотеза отвергается\n"
     ]
    }
   ],
   "source": [
    "if chi > chi2.ppf(1 - alpha, 3):\n",
    "    print('Гипотеза отвергается')\n",
    "else:\n",
    "    print('Гипотеза принимается')"
   ]
  },
  {
   "cell_type": "markdown",
   "metadata": {},
   "source": [
    "Так как $\\chi^2 > \\chi_{3, 0.1}^2$ , то гипотеза отвергается.\n",
    "\n",
    "* **Оценка расстояния до класса нормальных распределений по Колмогорову**\n",
    "\n",
    "Вычислим выборочный критерий Колмогорова $\\eta = \\sqrt{n}D_n$ используя Scipy"
   ]
  },
  {
   "cell_type": "code",
   "execution_count": 54,
   "metadata": {},
   "outputs": [
    {
     "name": "stdout",
     "output_type": "stream",
     "text": [
      "Критерий Колмогорова:  0.9053069998689578\n"
     ]
    }
   ],
   "source": [
    "sigma = np.sqrt(s2_2)\n",
    "\n",
    "cdf = lambda x: norm.cdf(x, loc = 0, scale = sigma)\n",
    "Dn, _ = kstest(errors_2, cdf)\n",
    "eta = n**0.5 * Dn\n",
    "print('Критерий Колмогорова: ', eta)"
   ]
  },
  {
   "cell_type": "markdown",
   "metadata": {},
   "source": [
    "Зададим уровень значимости $\\alpha = 0.1$. Вычислим квантиль Колмогорова $d_{1 - \\alpha}$, чтобы построить критическую область $V_k = (d_{1 - \\alpha},+ \\infty)$"
   ]
  },
  {
   "cell_type": "code",
   "execution_count": 55,
   "metadata": {},
   "outputs": [
    {
     "name": "stdout",
     "output_type": "stream",
     "text": [
      "Квантиль:  1.2238478702170825\n"
     ]
    }
   ],
   "source": [
    "d = kstwobign.ppf(1 - alpha)\n",
    "print('Квантиль: ', d)"
   ]
  },
  {
   "cell_type": "markdown",
   "metadata": {},
   "source": [
    "$V_k = (1.22, + \\infty)$\n",
    "\n",
    "$\\eta \\notin V_k \\Rightarrow$ нет оснований отвергнуть данную гипотезу."
   ]
  },
  {
   "cell_type": "code",
   "execution_count": 56,
   "metadata": {},
   "outputs": [
    {
     "data": {
      "image/png": "[encoded data removed]",
      "text/plain": [
       "<Figure size 640x480 with 1 Axes>"
      ]
     },
     "metadata": {},
     "output_type": "display_data"
    }
   ],
   "source": [
    "y_2, edges_2, _= plt.hist(errors_2, edgecolor='black', bins=bins_2, weights=np.ones_like(errors_2) / n) \n",
    "values_2 = np.linspace(min(errors_2), max(errors_2), 100)\n",
    "plt.plot(values_2, norm.pdf(values_2, np.mean(errors_2), np.std(errors_2)), color='red')\n",
    "plt.grid()\n",
    "plt.xticks(bins_2)\n",
    "plt.title('Гистограмма ошибок')\n",
    "plt.xlabel('Errors')\n",
    "plt.ylabel('freq');"
   ]
  },
  {
   "cell_type": "markdown",
   "metadata": {},
   "source": [
    "Визуально видно, что распределение ошибок сильно отличается от нормального.\n",
    "\n",
    "### 7. В предположении нормальности ошибок построить доверительные интервалы для параметров $\\beta_0$, $\\beta_1$, $\\beta_2$ уровня доверия $1 - \\alpha$. Напистаь уравнение доверительного эллипсоида уровня доверия $1 - \\alpha$.\n",
    "\n",
    "* **Доверительный интервал**\n",
    "\n",
    "Для $\\beta_0$: $C = \\begin{pmatrix} 1 \\\\ 0 \\\\ 0\\end{pmatrix}$\n",
    "\n",
    "Для $\\beta_1$: $C = \\begin{pmatrix} 0 \\\\ 1 \\\\ 0\\end{pmatrix}$\n",
    "\n",
    "Для $\\beta_2$: $C = \\begin{pmatrix} 0 \\\\ 0 \\\\ 1\\end{pmatrix}$\n",
    "\n",
    "Элемент дисперсии оценки: $b_{\\psi} =  C^{\\intercal} \\left(XX^{\\intercal}\\right)^{-1}C$\n",
    "\n",
    "$\\Large \\frac{\\widehat{\\psi} - \\psi}{s\\sqrt{b}} \\normalsize \\sim S_{n-r}$ , где $r = 3$\n",
    "\n",
    "Доверительный интервал уровня доверия $1 - \\alpha$:\n",
    "\n",
    "$$\\left[\\widehat{\\psi} - x_{\\alpha}s\\sqrt{b}, \\widehat{\\psi} + x_{\\alpha}s\\sqrt{b}\\right] \\ni \\psi$$\n",
    "где $x_{\\alpha}: \\mathrm{S}_{n-r}(x_{\\alpha}) = 1 - \\frac{\\alpha}{2}$"
   ]
  },
  {
   "cell_type": "code",
   "execution_count": 57,
   "metadata": {},
   "outputs": [
    {
     "name": "stdout",
     "output_type": "stream",
     "text": [
      "x_alpha = 1.67792672077558\n",
      "Доверительный интервал для beta_0 [-0.642598674784888, 9.375857277616099]\n",
      "Доверительный интервал для beta_1 [-2.1649402796132513, 5.691497075562163]\n",
      "Доверительный интервал для beta_2 [-0.8993035202748432, 0.5586673135767146]\n"
     ]
    }
   ],
   "source": [
    "# x_alpha\n",
    "alpha = 0.1\n",
    "r = 3\n",
    "df = n - r\n",
    "x_alpha = t.ppf(1 - alpha/2, df)\n",
    "print('x_alpha =', x_alpha)\n",
    "\n",
    "#границы интервала для beta_0\n",
    "CT_0_2 = np.array([1.0, 0.0, 0.0])\n",
    "b_0 = np.dot(np.dot(CT_0_2, XXT_inv_2), np.transpose(CT_0_2))\n",
    "psi_hat_2 = np.matmul(CT_0_2, beta_hat_2)\n",
    "left_0_2 = psi_hat_2 - x_alpha * (s2_2 * b_0)**0.5\n",
    "right_0_2 = psi_hat_2 + x_alpha * (s2_2 * b_0)**0.5\n",
    "print('Доверительный интервал для beta_0', [left_0_2, right_0_2])\n",
    "\n",
    "#границы интервала для beta_1\n",
    "CT_1_2 = np.array([0.0, 1.0, 0.0])\n",
    "b_1 = np.dot(np.dot(CT_1_2, XXT_inv_2), np.transpose(CT_1_2))\n",
    "psi_hat_2 = np.matmul(CT_1_2, beta_hat_2)\n",
    "left_1_2 = psi_hat_2 - x_alpha * (s2_2 * b_1)**0.5\n",
    "right_1_2 = psi_hat_2 + x_alpha * (s2_2 * b_1)**0.5\n",
    "print('Доверительный интервал для beta_1', [left_1_2, right_1_2])\n",
    "\n",
    "#границы интервала для beta_2\n",
    "CT_2_2 = np.array([0.0, 0.0, 1.0])\n",
    "b_2 = np.dot(np.dot(CT_2_2, XXT_inv_2), np.transpose(CT_2_2))\n",
    "psi_hat_2 = np.matmul(CT_2_2, beta_hat_2)\n",
    "left_2_2 = psi_hat_2 - x_alpha * (s2_2 * b_2)**0.5\n",
    "right_2_2 = psi_hat_2 + x_alpha * (s2_2 * b_2)**0.5\n",
    "print('Доверительный интервал для beta_2', [left_2_2, right_2_2])"
   ]
  },
  {
   "cell_type": "markdown",
   "metadata": {},
   "source": [
    "* **Доверительный эллипсоид**\n",
    "\n",
    "$A_{\\alpha} = \\left\\{\\vec{x} : \\left(\\vec{x} - \\widehat{\\psi}\\right)^{\\intercal}B^{-1} \\left(\\vec{x} - \\widehat{\\psi}\\right) \\leq qs^2x_{\\alpha}\\right\\}$ , где $x_{\\alpha} : \\mathrm{F}_{q, n-r} = 1 - \\alpha$, $B = C^{\\intercal}\\left(XX^{\\intercal}\\right)^{-1}C$\n",
    "\n",
    "$C = \\begin{pmatrix}1 & 0 & 0 \\\\ 0 & 1 & 0 \\\\ 0 & 0 & 1\\end{pmatrix}$\n",
    "\n",
    "Тогда, $\\begin{pmatrix} x \\\\ y \\\\ z \\end{pmatrix} = P\\left(\\widehat{\\psi} - \\psi\\right)$ , где $P$ - матрица собственных векторов матрицы $XX^{\\intercal}$.\n",
    "\n",
    "Тогда, уравнение доверительного эллипсоида выглядит так:\n",
    "\n",
    "$\\left(\\widehat{\\psi} - \\psi\\right)^{\\intercal}B^{-1}\\left(\\widehat{\\psi} - \\psi\\right) = \\lambda_1x^2 + \\lambda_2y^2 + \\lambda_3z^2 \\leq qs^2x_{\\alpha}$\n",
    "\n",
    "Таким образом $\\large \\frac{\\lambda_1x^2}{qs^2x_{\\alpha}} + \\frac{\\lambda_2y^2}{qs^2x_{\\alpha}} + \\frac{\\lambda_3z^2}{qs^2x_{\\alpha}}\\normalsize \\leq 1$, где $q = 3$ - размер модели; $\\lambda_1$ , $\\lambda_2$ , $\\lambda_3$ - собственные числа"
   ]
  },
  {
   "cell_type": "code",
   "execution_count": 67,
   "metadata": {},
   "outputs": [
    {
     "name": "stdout",
     "output_type": "stream",
     "text": [
      "x_alpha = 2.2041823911022664\n",
      "lambda_1 = 5144.327344047637\n",
      "lambda_2 = 1.606067907933159\n",
      "lambda_3 = 42.06658804443366\n",
      "a = 34.49705686788526, b = 0.010770040910744705, c = 0.28209197878627307\n"
     ]
    }
   ],
   "source": [
    "q, r = 3, 3\n",
    "x_alpha_2 = f.ppf(1 - alpha, q, n - r)\n",
    "print('x_alpha =', x_alpha_2)\n",
    "\n",
    "#собственные числа\n",
    "eigenvalues_2, eigenvectors_2 = np.linalg.eig(np.array(XXT_2))\n",
    "print('lambda_1 =', eigenvalues_2[0])\n",
    "print('lambda_2 =', eigenvalues_2[1])\n",
    "print('lambda_3 =', eigenvalues_2[2])\n",
    "\n",
    "a_2 = eigenvalues_2[0] / (q*s2_2*x_alpha_2)\n",
    "b_2 = eigenvalues_2[1] / (q*s2_2*x_alpha_2)\n",
    "c_2 = eigenvalues_2[2] / (q*s2_2*x_alpha_2)\n",
    "print(f'a = {a_2}, b = {b_2}, c = {c_2}')"
   ]
  },
  {
   "cell_type": "markdown",
   "metadata": {},
   "source": [
    "Тогда уравнение эллипсоида имеет вид:\n",
    "$$34.5x^2 + 1.6y^2 + 0.28z^2 \\leq 1$$"
   ]
  },
  {
   "cell_type": "markdown",
   "metadata": {},
   "source": [
    "### 8. Сформулировать гипотезу линейной регрессионной зависимости переменной $Y$ от переменной $X$ и проверить её значимость на уровне $\\alpha = 0.10$.\n",
    "\n",
    "Нулевая гипотеза: $H_0: \\beta_2 = 0$\n",
    "\n",
    "Альтернативная гипотеза: $H_A: \\beta_2 \\neq 0$\n",
    "\n",
    "$\\mathbb{F}$-статистика: $\\mathbb{F} =\\large \\frac{SS_н}{q} \\cdot \\frac{n - r}{SS_e} \\normalsize = \\large \\frac{\\widehat{\\psi}^{\\intercal}B^{-1}\\widehat{\\psi}}{qs^2} \\sim \\mathcal{F}_{q, n - r}$ , $B = C^{\\intercal}\\left(XX^{\\intercal}\\right)^{-1}C$\n",
    "\n",
    "Так как при нулевой гипотезе $\\beta_0 = 0$ и $\\beta_1 = 0$, то $C = \\begin{pmatrix} 0 \\\\ 0 \\\\ 1 \\end{pmatrix}$. Тогда $\\widehat{\\psi} = C^{\\intercal}\\widehat{\\beta} = \\widehat{\\beta_2}$, а значит $\\mathbb{F} = \\large \\frac{\\widehat{\\beta_2}^2}{bqs^2}$ , где $q = 1$\n",
    "\n",
    "Квантиль: \n",
    "\n",
    "$x_{\\alpha}: \\mathrm{F}(x_{\\alpha}) = 1 - \\alpha = 0.9 \\rightarrow x_{\\alpha} = 2.82$"
   ]
  },
  {
   "cell_type": "code",
   "execution_count": 59,
   "metadata": {},
   "outputs": [
    {
     "name": "stdout",
     "output_type": "stream",
     "text": [
      "x_alpha = 2.8154380831998043\n",
      "Статистика F-критерия: 0.15368444876247953\n",
      "Табличное значение: 2.8154380831998043\n"
     ]
    }
   ],
   "source": [
    "df = n - r\n",
    "q = 1\n",
    "x_alpha_2_2 = f.ppf(1 - alpha, q, df)\n",
    "print('x_alpha =', x_alpha_2_2)\n",
    "\n",
    "C = np.array([0, 0, 1])\n",
    "#b = np.matmul(np.matmul(np.transpose(C), XXT_inv), C)\n",
    "b_2 = np.matmul(np.matmul(np.transpose(C), XXT_inv_2), C)\n",
    "F_2 = (beta_hat_2[2]**2) / (b_2*q*s2_2)\n",
    "print('Статистика F-критерия:', F_2)\n",
    "\n",
    "F_q_n_r_2 = f.ppf(1 - alpha, q, df)\n",
    "print('Табличное значение:', F_q_n_r_2)"
   ]
  },
  {
   "cell_type": "markdown",
   "metadata": {},
   "source": [
    "Так как статистика критерия меньше табличного значения, то нет оснований отвергнуть данную гипотезу."
   ]
  },
  {
   "cell_type": "markdown",
   "metadata": {},
   "source": [
    "## Выводы\n",
    "\n",
    "В данной практической работе был использован метод наименьших квадратов (МНК) для создания модели линейной регрессии, которая предсказывает переменную Y на основе переменной X. Также были оценены параметры модели, построены несмещенные оценки дисперсии, проверена гипотезу о нормальности ошибок с помощью хи-квадрат и оценено расстояние до класса нормальных распределений по Колмогорову.\n",
    "\n",
    "Построены доверительные интервалы, эллипс и эллипсоид для параметров с заданным уровнем доверия. Также проверена гипотеза о независимости переменных Y и X на соответствующем уровне значимости. Помимо этого, рассмотрена линейную зависимость между Y и X с учетом дополнительного параметра.\n",
    "\n",
    "При выполнении практической работы проблем не было."
   ]
  }
 ],
 "metadata": {
  "kernelspec": {
   "display_name": "Python 3",
   "language": "python",
   "name": "python3"
  },
  "language_info": {
   "codemirror_mode": {
    "name": "ipython",
    "version": 3
   },
   "file_extension": ".py",
   "mimetype": "text/x-python",
   "name": "python",
   "nbconvert_exporter": "python",
   "pygments_lexer": "ipython3",
   "version": "3.11.5"
  }
 },
 "nbformat": 4,
 "nbformat_minor": 4
}
