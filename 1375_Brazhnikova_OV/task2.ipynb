{
 "cells": [
  {
   "cell_type": "markdown",
   "id": "e1ca3277-6db9-4d88-bfe8-1fb841fd2a01",
   "metadata": {},
   "source": [
    "# Практическая работа №2: Классические методы математической статистики\n",
    "Выполнила студентка гр. 1375 Бражникова Ольга. Вариант №5"
   ]
  },
  {
   "cell_type": "markdown",
   "id": "ed24cef2-52a7-4ac8-8f29-69e290def33c",
   "metadata": {},
   "source": [
    "## Цель работы\n",
    "Научится применять методы математической статистики для решения задач статистического анализа; сформировать навыки реализации методов с помощью прикладных программных пакетов."
   ]
  },
  {
   "cell_type": "markdown",
   "id": "c218a40a-e98a-46b4-8f7a-18ecbcf05a6a",
   "metadata": {},
   "source": [
    "## Основные теоретические положения\n",
    "<i><b>Выборочное среднее: </b></i> <br>\n",
    "$\\overline X=\\frac1n\\sum\\limits_{i=1}^nx_i$ <br>\n",
    "\n",
    "<i><b>Выборочная дисперсия:</b></i> <br>\n",
    "$S^2 = \\frac1n\\sum\\limits_{i=1}^n\\left(X_i-\\overline X\\right)^2 $\n",
    "\n",
    "<i><b>Выборочное СКО:</b></i> <br>\n",
    "$S = \\sqrt{\\frac1n\\sum\\limits_{i=1}^n\\left(X_i-\\overline X\\right)^2} $\n",
    "\n",
    "<i><b>Медиана:</b></i> <br>\n",
    "$z_{n,0.5} = \\left\\{\\begin{array}{l}x_{\\frac{N + 1}{2}},\\;\\; N = 2n + 1,\\;\\;n\\in\\mathbb{Z_+}\\\\\\frac{x_{\\frac N2} + x_{\\frac{N}{2} + 1}}{2}, \\;\\; N = 2n,\\;\\;n\\in\\mathbb{Z_+}\\end{array}\\right. $\n",
    "\n",
    "<i><b>Коэффицент асимметрии:</b></i> <br>\n",
    "$\\widehat{Skew}X = \\frac{\\frac1n\\sum\\limits_{i=1}^n\\left(X_i-\\overline X\\right)^3}{S^3} $\n",
    "\n",
    "<i><b>Эксцесс:</b></i> <br>\n",
    "$\\widehat{Kurt}X = \\frac{\\frac1n\\sum\\limits_{i=1}^n\\left(X_i-\\overline X\\right)^4}{S^4} - 3 $ <br>\n",
    "\n",
    "<i><b>Теорема Колмогорова:</b></i> <br>\n",
    "Пусть $X_1,\\ldots,X_n$ - выборка объема $n$, порожденная случайная величина с непрерывной функцией распределения $F(x)$. <br>\n",
    "Пусть $F_n(x)$ - выборочная функция распределения. Если ввести обозначение <br>\n",
    "$D_n = \\sup\\limits_{x \\in \\mathbb{R}} |F_n(x) - F(x)|$, то выполняется <br>\n",
    "$ \\lim\\limits_{n \\to \\infty} P(\\sqrt{n}D_n \\leq t) = K(t)$ <br>\n",
    "\n",
    "<i><b>Метод построения на базе асимптотически нормальной оценки $\\hat\\theta$:</b></i> <br>\n",
    "$1. $ Асимптотическая нормальность: <br>\n",
    " $ \\sqrt{n}(\\hat\\theta(\\vec{x}) - \\theta) \\sim  \\mathcal{N}(0, \\sigma^2(\\theta))$ <br>\n",
    "$2. $ Тогда: <br>\n",
    " $ \\sqrt{n} \\frac{\\hat\\theta(\\vec{x}) - \\theta}{ \\sigma(\\hat\\theta(\\vec{x})) } \\sim \\mathcal{N}(0,1) $ <br>\n",
    "$3. $ Выбираем $x_\\alpha: \\Phi(x_\\alpha)=1-\\frac{\\alpha}{2}$ <br>\n",
    "$4. $ Асимптотический доверительный интервал: <br>\n",
    "$\\left[\\hat\\theta(\\vec{x}) - \\frac{x_{\\alpha} \\cdot \\sigma(\\hat\\theta(\\vec{x})) }{\\sqrt{n}}, \\hat\\theta(\\vec{x}) + \\frac{x_{\\alpha} \\cdot \\sigma(\\hat\\theta(\\vec{x})) }{\\sqrt{n}} \\right] \\ni \\theta$ <br>\n",
    "\n",
    "<i><b>Метод построения на базе ОМП:</b></i> <br>\n",
    "$1. $ Пусть $ \\hat\\theta(\\vec{x})$ - ОМП <br>\n",
    "$2. $ При выполнении определенных условий регулярности: <br>\n",
    "$\\sqrt{n}\\left( \\widehat{\\theta}(\\vec{x})-\\theta \\right)\\sim \\mathcal{N}\\left( 0, \\frac{1}{I(\\theta)} \\right)$<br>\n",
    "Здесь $I(\\theta) = \\lim\\limits_{n\\to\\infty}{\\frac{I_n(\\theta)}{n}}$, где $I_n(\\theta)$ - информация Фишера <br>\n",
    "$I_n(\\theta) = -\\mathbb{E}_\\theta\\frac{\\partial^2{LL}}{\\partial\\theta^2} $ <br>\n",
    "$3.$  Тогда: <br>\n",
    " $ \\sqrt{nI(\\hat\\theta)}(\\hat\\theta(\\vec{x}) - \\theta) \\sim  \\mathcal{N}(0, 1)$ <br>\n",
    "$4. $ Выбираем $x_\\alpha: \\Phi(x_\\alpha)=1-\\frac{\\alpha}{2}$ <br>\n",
    "$5. $  Асимптотический доверительный интервал: <br>\n",
    "$\\left[\\hat\\theta(\\vec{x}) - \\frac{x_{\\alpha}}{\\sqrt{nI(\\hat\\theta)}}, \\hat\\theta(\\vec{x}) + \\frac{x_{\\alpha}}{\\sqrt{nI(\\hat\\theta)}}\\right] \\ni \\theta$ <br>\n",
    "\n",
    "<i><b>Критерий $\\chi^2$ для проверки простой гипотезы:</b></i> <br>\n",
    "<i>Построение критерия:</i> <br>\n",
    "<ul>\n",
    "    <li>Абсолютные частоты: $v_j = \\sum\\limits_{j=1}^n 1_{\\{X_i=I_j\\}}, j = 1, \\ldots, n$</li>\n",
    "    <li>Статистика критерия: $X^2 = \\sum\\limits_{j=1}^r \\frac{(v_j - np_{j0})^2}{np_{j0}}$</li>\n",
    "    <ul>\n",
    "        <li>$p_{j0} = F_0(I_j), j=1, \\ldots, r$ - гипотетические вероятности  попадания в интервалы </li>\n",
    "        <li>$np_{j0}$ - ожидаемые частоты</li>\n",
    "    </ul>\n",
    "    <li>Асимптотическое распределение при основной гипотезе: $X^2 \\Rightarrow \\chi_{r-1}^2$</li>\n",
    "    <li>Асимптотический критерий уровня значимости $\\alpha$: <br> $\\phi(x) = \\left\\{\\begin{array}{l} 0,X^2 \\leq x_{\\alpha}\\\\1, X^2 > x_{\\alpha}\\end{array}\\right.$ </li>\n",
    "    <ul>\n",
    "        <li>$x_\\alpha: K_{r-1}(x_\\alpha)=1-\\alpha$</li>\n",
    "        <li>$K_{r-1}$ - функция распределения $ \\chi_{r-1}^2$</li>\n",
    "    </ul>\n",
    "</ul>\n",
    "\n",
    "<i><b>Критерий $\\chi^2$ для проверки сложной гипотезы:</b></i> <br>\n",
    "<i>Построение критериев:</i> <br>\n",
    "<ul>\n",
    "    <li>Асимптотический критерий уровня значимости $\\alpha$: <br> $\\hat\\phi(x) = \\left\\{\\begin{array}{l} 0,\\widehat X^2 \\leq x_{\\alpha}\\\\1, \\widehat X^2 > x_{\\alpha}\\end{array}\\right.$ </li>\n",
    "    <ul>\n",
    "        <li>$x_\\alpha: K_{r-d-1}(x_\\alpha)=1-\\alpha$</li>\n",
    "        <li>$K_{r-d-1}$ - функция распределения $ \\chi_{r-d-1}^2$</li>\n",
    "    </ul>\n",
    "    <li>Рекомендации по выбору разбиения (зон):</li>\n",
    "    <ul>\n",
    "        <li> число наблюдений в каждой зоне не должно быть меньше пяти, или ожидаемая частота не должна быть меньше пяти </li>\n",
    "        <li> число зон может определяться количеством наблюдений </li>\n",
    "        <li> число зон не может быть меньше $d+2$</li> \n",
    "        <li> в случае гипотезы о типе распределения выборки обычно не имеет смысла использовать более 20 зон</li>\n",
    "    </ul>\n",
    "</ul>\n",
    "\n",
    "<i><b>Наиболее мощный критерий простой гипотезы:</b></i> <br>\n",
    "$H_0:\\theta=\\theta_0$ - простая основная гипотеза <br>\n",
    "$H_1:\\theta=\\theta_1$ - простая альтернатива <br>\n",
    "Статистика отношения правдоподобия: <br>\n",
    "$LR(X,\\theta_1,\\theta_0) = \\frac{L(X;\\theta_1)}{L(X;\\theta_0)} = \\frac{p_{\\theta_1}(X)}{p_{\\theta_{0}}(X)}$ <br>\n",
    "Наиболее мощный критерий представляется в виде: <br>\n",
    "$\\phi(x) = \\left\\{\\begin{array}{l}1,LR(X) > c \\\\p, LR(X) = c\\\\0,LR(X) < c\\end{array}\\right.$, <br>\n",
    "где константа $c$ и вероятность $p \\in [0,1)$ находятся из уравнения <br>\n",
    "$\\mathbb{E}_{\\theta_0}\\phi(X) = P_{\\theta_0}(LR(X)>c) + pP_{\\theta_0}(LR(X)=c) = \\alpha$ <br>\n",
    "В области $LR(X) \\neq c$ наиболее мощный критерий $\\phi$ определен однозначно\n"
   ]
  },
  {
   "cell_type": "markdown",
   "id": "c818438a-b31a-4dcf-ba6a-1d951af437f8",
   "metadata": {},
   "source": [
    "## Постановка задачи\n",
    "Для полученных в результате эксперимента наборов данных выполнить статистическую обработку. Полученные результаты содержательно проинтерпретировать."
   ]
  },
  {
   "cell_type": "markdown",
   "id": "c97fd0ad-2b6d-4594-9ff9-955a7363b745",
   "metadata": {},
   "source": [
    "## Выполнение работы"
   ]
  },
  {
   "cell_type": "code",
   "execution_count": 1,
   "id": "69859264-cd07-4edc-95e0-735965eec58d",
   "metadata": {},
   "outputs": [],
   "source": [
    "import pandas as pd\n",
    "import numpy as np\n",
    "import matplotlib.pyplot as plt\n",
    "import scipy\n",
    "from scipy import stats\n",
    "from scipy.special import gamma, factorial\n",
    "from scipy.integrate import quad"
   ]
  },
  {
   "cell_type": "markdown",
   "id": "c7d2aa75-1ad4-4eb7-9869-801cd6cdf6dc",
   "metadata": {},
   "source": [
    "### Задание 1 \n"
   ]
  },
  {
   "cell_type": "code",
   "execution_count": 2,
   "id": "8f56dd29-fcba-495a-b78d-1e9541938f45",
   "metadata": {},
   "outputs": [
    {
     "data": {
      "text/html": [
       "<div>\n",
       "<style scoped>\n",
       "    .dataframe tbody tr th:only-of-type {\n",
       "        vertical-align: middle;\n",
       "    }\n",
       "\n",
       "    .dataframe tbody tr th {\n",
       "        vertical-align: top;\n",
       "    }\n",
       "\n",
       "    .dataframe thead th {\n",
       "        text-align: right;\n",
       "    }\n",
       "</style>\n",
       "<table border=\"1\" class=\"dataframe\">\n",
       "  <thead>\n",
       "    <tr style=\"text-align: right;\">\n",
       "      <th></th>\n",
       "      <th>0</th>\n",
       "      <th>1</th>\n",
       "      <th>2</th>\n",
       "      <th>3</th>\n",
       "      <th>4</th>\n",
       "      <th>5</th>\n",
       "      <th>6</th>\n",
       "      <th>7</th>\n",
       "      <th>8</th>\n",
       "      <th>9</th>\n",
       "      <th>10</th>\n",
       "      <th>11</th>\n",
       "      <th>12</th>\n",
       "      <th>13</th>\n",
       "      <th>14</th>\n",
       "      <th>15</th>\n",
       "      <th>16</th>\n",
       "      <th>17</th>\n",
       "      <th>18</th>\n",
       "      <th>19</th>\n",
       "      <th>20</th>\n",
       "      <th>21</th>\n",
       "      <th>22</th>\n",
       "      <th>23</th>\n",
       "      <th>24</th>\n",
       "      <th>25</th>\n",
       "      <th>26</th>\n",
       "      <th>27</th>\n",
       "      <th>28</th>\n",
       "      <th>29</th>\n",
       "      <th>30</th>\n",
       "      <th>31</th>\n",
       "      <th>32</th>\n",
       "      <th>33</th>\n",
       "      <th>34</th>\n",
       "      <th>35</th>\n",
       "      <th>36</th>\n",
       "      <th>37</th>\n",
       "      <th>38</th>\n",
       "      <th>39</th>\n",
       "      <th>40</th>\n",
       "      <th>41</th>\n",
       "      <th>42</th>\n",
       "      <th>43</th>\n",
       "      <th>44</th>\n",
       "      <th>45</th>\n",
       "      <th>46</th>\n",
       "      <th>47</th>\n",
       "      <th>48</th>\n",
       "      <th>49</th>\n",
       "    </tr>\n",
       "  </thead>\n",
       "  <tbody>\n",
       "    <tr>\n",
       "      <th>Таблица</th>\n",
       "      <td>2</td>\n",
       "      <td>0</td>\n",
       "      <td>0</td>\n",
       "      <td>0</td>\n",
       "      <td>0</td>\n",
       "      <td>1</td>\n",
       "      <td>9</td>\n",
       "      <td>1</td>\n",
       "      <td>1</td>\n",
       "      <td>1</td>\n",
       "      <td>2</td>\n",
       "      <td>4</td>\n",
       "      <td>4</td>\n",
       "      <td>1</td>\n",
       "      <td>0</td>\n",
       "      <td>3</td>\n",
       "      <td>1</td>\n",
       "      <td>0</td>\n",
       "      <td>2</td>\n",
       "      <td>4</td>\n",
       "      <td>0</td>\n",
       "      <td>1</td>\n",
       "      <td>1</td>\n",
       "      <td>0</td>\n",
       "      <td>4</td>\n",
       "      <td>4</td>\n",
       "      <td>3</td>\n",
       "      <td>6</td>\n",
       "      <td>4</td>\n",
       "      <td>3</td>\n",
       "      <td>0</td>\n",
       "      <td>2</td>\n",
       "      <td>2</td>\n",
       "      <td>4</td>\n",
       "      <td>3</td>\n",
       "      <td>0</td>\n",
       "      <td>2</td>\n",
       "      <td>0</td>\n",
       "      <td>1</td>\n",
       "      <td>0</td>\n",
       "      <td>1</td>\n",
       "      <td>9</td>\n",
       "      <td>1</td>\n",
       "      <td>0</td>\n",
       "      <td>0</td>\n",
       "      <td>0</td>\n",
       "      <td>3</td>\n",
       "      <td>0</td>\n",
       "      <td>6</td>\n",
       "      <td>2</td>\n",
       "    </tr>\n",
       "  </tbody>\n",
       "</table>\n",
       "</div>"
      ],
      "text/plain": [
       "         0   1   2   3   4   5   6   7   8   9   10  11  12  13  14  15  16  \\\n",
       "Таблица   2   0   0   0   0   1   9   1   1   1   2   4   4   1   0   3   1   \n",
       "\n",
       "         17  18  19  20  21  22  23  24  25  26  27  28  29  30  31  32  33  \\\n",
       "Таблица   0   2   4   0   1   1   0   4   4   3   6   4   3   0   2   2   4   \n",
       "\n",
       "         34  35  36  37  38  39  40  41  42  43  44  45  46  47  48  49  \n",
       "Таблица   3   0   2   0   1   0   1   9   1   0   0   0   3   0   6   2  "
      ]
     },
     "execution_count": 2,
     "metadata": {},
     "output_type": "execute_result"
    }
   ],
   "source": [
    "table_one={'Таблица': [2,0,0,0,0,1,9,1,1,1,2,4,4,1,0,3,1,0,2,4,0,1,1,0,4,4,3,6,4,3,0,2,2,4,3,0,2,0,1,0,1,9,1,0,0,0,3,0,6,2]}\n",
    "df=pd.DataFrame(table_one)\n",
    "# Сброс ограничений на число столбцов\n",
    "pd.set_option('display.max_columns', None)\n",
    "N=len(df)\n",
    "df.head(N).T"
   ]
  },
  {
   "cell_type": "markdown",
   "id": "270fef3c-b34e-476c-a53b-681800f5aa1e",
   "metadata": {
    "jp-MarkdownHeadingCollapsed": true
   },
   "source": [
    "#### a) Построить вариационный ряд, эмпирическую функцию распределения и гистограмму частот."
   ]
  },
  {
   "cell_type": "code",
   "execution_count": 3,
   "id": "5482d904-b3fb-404a-8eca-529dc57f1cb4",
   "metadata": {},
   "outputs": [
    {
     "data": {
      "text/html": [
       "<div>\n",
       "<style scoped>\n",
       "    .dataframe tbody tr th:only-of-type {\n",
       "        vertical-align: middle;\n",
       "    }\n",
       "\n",
       "    .dataframe tbody tr th {\n",
       "        vertical-align: top;\n",
       "    }\n",
       "\n",
       "    .dataframe thead th {\n",
       "        text-align: right;\n",
       "    }\n",
       "</style>\n",
       "<table border=\"1\" class=\"dataframe\">\n",
       "  <thead>\n",
       "    <tr style=\"text-align: right;\">\n",
       "      <th></th>\n",
       "      <th>30</th>\n",
       "      <th>20</th>\n",
       "      <th>14</th>\n",
       "      <th>43</th>\n",
       "      <th>44</th>\n",
       "      <th>45</th>\n",
       "      <th>17</th>\n",
       "      <th>23</th>\n",
       "      <th>47</th>\n",
       "      <th>35</th>\n",
       "      <th>4</th>\n",
       "      <th>3</th>\n",
       "      <th>2</th>\n",
       "      <th>1</th>\n",
       "      <th>37</th>\n",
       "      <th>39</th>\n",
       "      <th>38</th>\n",
       "      <th>22</th>\n",
       "      <th>21</th>\n",
       "      <th>42</th>\n",
       "      <th>16</th>\n",
       "      <th>13</th>\n",
       "      <th>9</th>\n",
       "      <th>8</th>\n",
       "      <th>7</th>\n",
       "      <th>5</th>\n",
       "      <th>40</th>\n",
       "      <th>31</th>\n",
       "      <th>36</th>\n",
       "      <th>32</th>\n",
       "      <th>0</th>\n",
       "      <th>49</th>\n",
       "      <th>18</th>\n",
       "      <th>10</th>\n",
       "      <th>46</th>\n",
       "      <th>34</th>\n",
       "      <th>26</th>\n",
       "      <th>15</th>\n",
       "      <th>29</th>\n",
       "      <th>11</th>\n",
       "      <th>12</th>\n",
       "      <th>28</th>\n",
       "      <th>19</th>\n",
       "      <th>25</th>\n",
       "      <th>33</th>\n",
       "      <th>24</th>\n",
       "      <th>48</th>\n",
       "      <th>27</th>\n",
       "      <th>6</th>\n",
       "      <th>41</th>\n",
       "    </tr>\n",
       "  </thead>\n",
       "  <tbody>\n",
       "    <tr>\n",
       "      <th>Вариационный ряд:</th>\n",
       "      <td>0</td>\n",
       "      <td>0</td>\n",
       "      <td>0</td>\n",
       "      <td>0</td>\n",
       "      <td>0</td>\n",
       "      <td>0</td>\n",
       "      <td>0</td>\n",
       "      <td>0</td>\n",
       "      <td>0</td>\n",
       "      <td>0</td>\n",
       "      <td>0</td>\n",
       "      <td>0</td>\n",
       "      <td>0</td>\n",
       "      <td>0</td>\n",
       "      <td>0</td>\n",
       "      <td>0</td>\n",
       "      <td>1</td>\n",
       "      <td>1</td>\n",
       "      <td>1</td>\n",
       "      <td>1</td>\n",
       "      <td>1</td>\n",
       "      <td>1</td>\n",
       "      <td>1</td>\n",
       "      <td>1</td>\n",
       "      <td>1</td>\n",
       "      <td>1</td>\n",
       "      <td>1</td>\n",
       "      <td>2</td>\n",
       "      <td>2</td>\n",
       "      <td>2</td>\n",
       "      <td>2</td>\n",
       "      <td>2</td>\n",
       "      <td>2</td>\n",
       "      <td>2</td>\n",
       "      <td>3</td>\n",
       "      <td>3</td>\n",
       "      <td>3</td>\n",
       "      <td>3</td>\n",
       "      <td>3</td>\n",
       "      <td>4</td>\n",
       "      <td>4</td>\n",
       "      <td>4</td>\n",
       "      <td>4</td>\n",
       "      <td>4</td>\n",
       "      <td>4</td>\n",
       "      <td>4</td>\n",
       "      <td>6</td>\n",
       "      <td>6</td>\n",
       "      <td>9</td>\n",
       "      <td>9</td>\n",
       "    </tr>\n",
       "  </tbody>\n",
       "</table>\n",
       "</div>"
      ],
      "text/plain": [
       "                   30  20  14  43  44  45  17  23  47  35  4   3   2   1   37  \\\n",
       "Вариационный ряд:   0   0   0   0   0   0   0   0   0   0   0   0   0   0   0   \n",
       "\n",
       "                   39  38  22  21  42  16  13  9   8   7   5   40  31  36  32  \\\n",
       "Вариационный ряд:   0   1   1   1   1   1   1   1   1   1   1   1   2   2   2   \n",
       "\n",
       "                   0   49  18  10  46  34  26  15  29  11  12  28  19  25  33  \\\n",
       "Вариационный ряд:   2   2   2   2   3   3   3   3   3   4   4   4   4   4   4   \n",
       "\n",
       "                   24  48  27  6   41  \n",
       "Вариационный ряд:   4   6   6   9   9  "
      ]
     },
     "execution_count": 3,
     "metadata": {},
     "output_type": "execute_result"
    }
   ],
   "source": [
    "sorted = df.sort_values(by=\"Таблица\")\n",
    "sorted.columns=[\"Вариационный ряд:\"]\n",
    "sorted.head(N).T"
   ]
  },
  {
   "cell_type": "code",
   "execution_count": 4,
   "id": "fe0cd029-be8b-46a1-af76-05031884426d",
   "metadata": {},
   "outputs": [],
   "source": [
    "x_unique = df.Таблица.unique()#уникальные значения x\n",
    "x_unique = np.sort(x_unique) # [0 1 2 3 4 6 9]\n",
    "freq_x = df.value_counts().sort_index() # частота вхождений (series)\n",
    "freq_x =  freq_x.rename_axis('')\n",
    "# вероятность вхождения\n",
    "p_i=[]\n",
    "for i in freq_x:\n",
    "   p_i.append(i/N) "
   ]
  },
  {
   "cell_type": "code",
   "execution_count": 5,
   "id": "04219932-434d-4220-a40f-19466e2940db",
   "metadata": {},
   "outputs": [
    {
     "data": {
      "text/html": [
       "<div>\n",
       "<style scoped>\n",
       "    .dataframe tbody tr th:only-of-type {\n",
       "        vertical-align: middle;\n",
       "    }\n",
       "\n",
       "    .dataframe tbody tr th {\n",
       "        vertical-align: top;\n",
       "    }\n",
       "\n",
       "    .dataframe thead th {\n",
       "        text-align: right;\n",
       "    }\n",
       "</style>\n",
       "<table border=\"1\" class=\"dataframe\">\n",
       "  <thead>\n",
       "    <tr style=\"text-align: right;\">\n",
       "      <th></th>\n",
       "      <th>частота вхождений</th>\n",
       "      <th>вероятность</th>\n",
       "    </tr>\n",
       "    <tr>\n",
       "      <th></th>\n",
       "      <th></th>\n",
       "      <th></th>\n",
       "    </tr>\n",
       "  </thead>\n",
       "  <tbody>\n",
       "    <tr>\n",
       "      <th>0</th>\n",
       "      <td>16</td>\n",
       "      <td>0.32</td>\n",
       "    </tr>\n",
       "    <tr>\n",
       "      <th>1</th>\n",
       "      <td>11</td>\n",
       "      <td>0.22</td>\n",
       "    </tr>\n",
       "    <tr>\n",
       "      <th>2</th>\n",
       "      <td>7</td>\n",
       "      <td>0.14</td>\n",
       "    </tr>\n",
       "    <tr>\n",
       "      <th>3</th>\n",
       "      <td>5</td>\n",
       "      <td>0.10</td>\n",
       "    </tr>\n",
       "    <tr>\n",
       "      <th>4</th>\n",
       "      <td>7</td>\n",
       "      <td>0.14</td>\n",
       "    </tr>\n",
       "    <tr>\n",
       "      <th>6</th>\n",
       "      <td>2</td>\n",
       "      <td>0.04</td>\n",
       "    </tr>\n",
       "    <tr>\n",
       "      <th>9</th>\n",
       "      <td>2</td>\n",
       "      <td>0.04</td>\n",
       "    </tr>\n",
       "  </tbody>\n",
       "</table>\n",
       "</div>"
      ],
      "text/plain": [
       "   частота вхождений  вероятность\n",
       "                                 \n",
       "0                 16         0.32\n",
       "1                 11         0.22\n",
       "2                  7         0.14\n",
       "3                  5         0.10\n",
       "4                  7         0.14\n",
       "6                  2         0.04\n",
       "9                  2         0.04"
      ]
     },
     "execution_count": 5,
     "metadata": {},
     "output_type": "execute_result"
    }
   ],
   "source": [
    "view = pd.DataFrame(freq_x)\n",
    "view.columns=[\"частота вхождений\"]\n",
    "view.insert(1,\"вероятность\", p_i)\n",
    "view"
   ]
  },
  {
   "cell_type": "code",
   "execution_count": 6,
   "id": "5f24adc1-1055-4218-87a8-1980db3ef426",
   "metadata": {},
   "outputs": [
    {
     "data": {
      "image/png": "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",
      "text/plain": [
       "<Figure size 640x480 with 1 Axes>"
      ]
     },
     "metadata": {},
     "output_type": "display_data"
    }
   ],
   "source": [
    "# гистограмма частот\n",
    "Freq_table = pd.DataFrame(\n",
    "    {\n",
    "        \"xi\": x_unique,\n",
    "        \"pi\": p_i,\n",
    "    }\n",
    ").set_index(\"xi\")\n",
    "Freq_table.plot(kind=\"bar\", align='edge', width = 1, edgecolor='black', color = \"purple\")\n",
    "#plt.bar(x_unique, p_i, align='edge', width=1, edgecolor='black')\n",
    "plt.title('Гистограмма частот')\n",
    "plt.show()"
   ]
  },
  {
   "cell_type": "code",
   "execution_count": 7,
   "id": "0f01c87c-a013-4a33-88f5-196a3fd8c64c",
   "metadata": {},
   "outputs": [
    {
     "name": "stdout",
     "output_type": "stream",
     "text": [
      "Эмпирическая функция распределения\n"
     ]
    },
    {
     "data": {
      "text/html": [
       "<div>\n",
       "<style scoped>\n",
       "    .dataframe tbody tr th:only-of-type {\n",
       "        vertical-align: middle;\n",
       "    }\n",
       "\n",
       "    .dataframe tbody tr th {\n",
       "        vertical-align: top;\n",
       "    }\n",
       "\n",
       "    .dataframe thead th {\n",
       "        text-align: right;\n",
       "    }\n",
       "</style>\n",
       "<table border=\"1\" class=\"dataframe\">\n",
       "  <thead>\n",
       "    <tr style=\"text-align: right;\">\n",
       "      <th>xi</th>\n",
       "      <th>0</th>\n",
       "      <th>1</th>\n",
       "      <th>2</th>\n",
       "      <th>3</th>\n",
       "      <th>4</th>\n",
       "      <th>6</th>\n",
       "      <th>9</th>\n",
       "    </tr>\n",
       "  </thead>\n",
       "  <tbody>\n",
       "    <tr>\n",
       "      <th>F(x)</th>\n",
       "      <td>0.0</td>\n",
       "      <td>0.32</td>\n",
       "      <td>0.54</td>\n",
       "      <td>0.68</td>\n",
       "      <td>0.78</td>\n",
       "      <td>0.92</td>\n",
       "      <td>0.96</td>\n",
       "    </tr>\n",
       "  </tbody>\n",
       "</table>\n",
       "</div>"
      ],
      "text/plain": [
       "xi      0     1     2     3     4     6     9\n",
       "F(x)  0.0  0.32  0.54  0.68  0.78  0.92  0.96"
      ]
     },
     "execution_count": 7,
     "metadata": {},
     "output_type": "execute_result"
    }
   ],
   "source": [
    "# эмпирическая функция распределения\n",
    "F_x=[]\n",
    "ans=0\n",
    "sum=0\n",
    "for i in freq_x:\n",
    "    F_x.append(ans)\n",
    "    sum+=i\n",
    "    ans=sum/N\n",
    "    #sum+=freq_x.get(key=i)\n",
    "print(\"Эмпирическая функция распределения\")\n",
    "Fn_table = pd.DataFrame(\n",
    "    {\n",
    "        \"F(x)\": F_x,\n",
    "        \"xi\": x_unique\n",
    "    }\n",
    ").set_index(\"xi\")\n",
    "\n",
    "Fn_table.T"
   ]
  },
  {
   "cell_type": "code",
   "execution_count": 8,
   "id": "d35aa7e4-8a4c-4cfb-8a4e-f8aa3a423e06",
   "metadata": {},
   "outputs": [
    {
     "data": {
      "image/png": "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",
      "text/plain": [
       "<Figure size 640x480 with 1 Axes>"
      ]
     },
     "metadata": {},
     "output_type": "display_data"
    }
   ],
   "source": [
    "x = x_unique\n",
    "y = F_x\n",
    "plt.step(x, y, \"b-o\", where='post')\n",
    "plt.grid()\n",
    "plt.title('График эмпирической функции распределения')\n",
    "plt.xlabel('x')\n",
    "plt.ylabel('F(x)')\n",
    "plt.show()"
   ]
  },
  {
   "cell_type": "markdown",
   "id": "55ef119f-e12c-4e25-9675-29dce84b1522",
   "metadata": {},
   "source": [
    "#### b) Вычислить выборочные аналоги следующих числовых характеристик: (i) математического ожидания; (ii) дисперсии; (iii) СКО; (iv) медианы; (v) асимметрии; (vi) эксцесса; (vii) вероятности $\\mathbb{P}(X \\in [a,b])$."
   ]
  },
  {
   "cell_type": "code",
   "execution_count": 9,
   "id": "37779cd3-4943-4ff5-bdc9-5c5444e672e0",
   "metadata": {},
   "outputs": [
    {
     "name": "stdout",
     "output_type": "stream",
     "text": [
      "Requirement already satisfied: scipy in c:\\users\\79897\\appdata\\local\\programs\\python\\python311\\lib\\site-packages (1.11.4)\n",
      "Requirement already satisfied: numpy<1.28.0,>=1.21.6 in c:\\users\\79897\\appdata\\local\\programs\\python\\python311\\lib\\site-packages (from scipy) (1.26.0)\n",
      "Note: you may need to restart the kernel to use updated packages.\n"
     ]
    }
   ],
   "source": [
    "pip install scipy \n"
   ]
  },
  {
   "cell_type": "code",
   "execution_count": 52,
   "id": "fe46a69c-450f-4ec9-8965-f6827fd8748e",
   "metadata": {},
   "outputs": [
    {
     "name": "stdout",
     "output_type": "stream",
     "text": [
      "Математическое ожидание:\n",
      "1.96\n",
      "Дисперсия:\n",
      "4.758\n",
      "СКО:\n",
      "2.181\n",
      "Медиана:\n",
      "1.0\n",
      "Коэффициент асимметрии:\n",
      "1.473\n",
      "Коэффициент эксцесса:\n",
      "2.139\n",
      "Вероятность P(x принадлежит [a,b]):\n",
      "0.68\n"
     ]
    }
   ],
   "source": [
    "# математическое ожидание\n",
    "#mean = round(np.mean(sorted.values),4)\n",
    "mean = sorted.values.sum()/N\n",
    "print(\"Математическое ожидание:\")\n",
    "print(mean)\n",
    "# дисперсия\n",
    "S_x2 = np.power((sorted.values - np.mean(sorted.values)),2).sum()/N\n",
    "print(\"Дисперсия:\")\n",
    "print(round(S_x2,3))\n",
    "# СКО\n",
    "S_x = np.sqrt(S_x2)\n",
    "print(\"СКО:\")\n",
    "print(round(S_x,3))\n",
    "# медиана\n",
    "median = np.median(sorted)\n",
    "print(\"Медиана:\")\n",
    "print(median)\n",
    "# асимметрия\n",
    "Skew_x = (np.power((sorted.values - mean),3)).sum()/ (N * np.power(S_x,3))\n",
    "print(\"Коэффициент асимметрии:\")\n",
    "print(round(Skew_x,3))\n",
    "# эксцесс\n",
    "Kurt_x =  (np.power((sorted.values - mean),4)).sum()/ (N * np.power(S_x,4)) - 3\n",
    "print(\"Коэффициент эксцесса:\")\n",
    "print(round(Kurt_x,3))\n",
    "# Вероятность P(x принадлежит [a,b])\n",
    "a=0\n",
    "b=2.49\n",
    "P_ab = 0\n",
    "for i in x_unique:\n",
    "    if i>=a and i<=b:\n",
    "        P_ab+=view[\"вероятность\"].loc[view.index[i]] #можно p_i[i]\n",
    "print(\"Вероятность P(x принадлежит [a,b]):\")\n",
    "print(P_ab)"
   ]
  },
  {
   "cell_type": "markdown",
   "id": "fb8c1d86-447d-4541-a1ab-12ce89cc6aab",
   "metadata": {
    "jp-MarkdownHeadingCollapsed": true
   },
   "source": [
    "#### c) В предположении, что исходные наблюдения являются выборкой из распределения Пуассона, построить оценку максимального правдоподобия параметра $\\lambda$, а также оценку $\\lambda$ по методу моментов. Найти смещение оценок."
   ]
  },
  {
   "cell_type": "markdown",
   "id": "b2642385-952b-456d-96ac-dd2e57fe799f",
   "metadata": {},
   "source": [
    "Функция плотности вероятности распределения Пуассона имеет вид:\n",
    "<br>\n",
    "$ \\mathbb{P}_\\lambda(\\xi=k) = \\frac{\\lambda^k}{k!} \\cdot \\exp(-\\lambda) $ <br>\n",
    "1. ОМП <br>\n",
    "Напишем функцию правдоподобия:\n",
    "<br>\n",
    "$L(\\theta, \\vec{x})= \\prod\\limits_{i=1}^n \\frac{\\lambda^{x_i}}{x_i!}\\cdot \\exp(-\\lambda) = \\lambda^{\\sum\\limits_{i=1}^n x_i} \\cdot \\prod\\limits_{i=1}^n\\frac{1}{x_i!} \\cdot \\exp(-\\lambda n) $ <br>\n",
    "Чтобы упростить вычисления, напишем логарифмическую функцию правдоподобия: <br>\n",
    "$LL(\\theta, \\vec{x})= \\sum\\limits_{i=1}^nx_i \\cdot \\ln\\lambda + \\ln\\prod\\limits_{i=1}^n\\frac{1}{x_i!} - \\lambda n$ <br>\n",
    "Вычислим производную логарифмической функции правдоподобия по параметру $\\lambda$: <br>\n",
    "$\\frac{\\partial LL(\\theta, \\vec{x})}{\\partial \\lambda} = \\frac{\\sum\\limits_{i=1}^nx_i}{\\lambda} - n $ <br>\n",
    "Приравниваем производную к 0 и вычисляем $\\lambda$: <br>\n",
    "$\\frac{\\sum\\limits_{i=1}^nx_i}{\\lambda} - n = 0$ <br>\n",
    "$\\hat{\\lambda}=\\frac{\\sum\\limits_{i=1}^nx_i}{n} = \\overline{x} $ <br>\n",
    "$\\hat\\theta = \\hat{\\lambda}= \\overline{x}$ - ОМП <br>\n"
   ]
  },
  {
   "cell_type": "code",
   "execution_count": 11,
   "id": "71fc18ac-fa3a-4eb1-9ee9-217de70338d5",
   "metadata": {},
   "outputs": [
    {
     "name": "stdout",
     "output_type": "stream",
     "text": [
      "Оценка максимального правдоподобия: 1.96\n"
     ]
    }
   ],
   "source": [
    "print(\"Оценка максимального правдоподобия:\", mean)"
   ]
  },
  {
   "cell_type": "markdown",
   "id": "5f7bd6e3-939d-421f-a150-aa702a2a1a6d",
   "metadata": {},
   "source": [
    "2. НРМД <br>\n",
    "$L(\\theta, \\vec{x})= \\lambda^{\\sum\\limits_{i=1}^n x_i} \\cdot \\prod\\limits_{i=1}^n\\frac{1}{x_i!} \\cdot \\exp(-\\lambda n) $ <br>\n",
    "$g(T) = \\lambda^{\\sum\\limits_{i=1}^n x_i} \\cdot \\exp(-\\lambda n) $ <br>\n",
    "$h(x) =  \\prod\\limits_{i=1}^n\\frac{1}{x_i!}$ <br>\n",
    "$ T=\\sum\\limits_{i=1}^n x_i$  - МДС. Так как распределение Пуассона принадлежит экспоненциальному семейству, то $T$ - ПДС <br>\n",
    "$\\mathbb{E}_\\theta \\hat{\\theta} = \\mathbb{E}_\\theta  \\overline{x} = \\mathbb{E}_\\theta \\frac{\\sum\\limits_{i=1}^nx_i}{n} = \\frac{1}{n}\\mathbb{E}_\\theta \\sum\\limits_{i=1}^nx_i = \\frac{1}{n} \\sum\\limits_{i=1}^n \\mathbb{E}_\\theta x_i = \\frac{1}{n} \\sum\\limits_{i=1}^n \\mathbb{E}_\\theta x_1 = \\frac{1}{n} \\sum\\limits_{i=1}^n \\lambda = \\lambda $ <br>\n",
    "$ \\hat{\\theta} =  \\lambda $ - НРМД <br>\n",
    "3. ОММ <br>\n",
    " Для закона Пуассона известно, что первый начальный момент равняется математическому ожиданию $\\mathbb{E}x_1 = \\lambda$, которое являетса параметром закона Пуассона. <br>\n",
    " $M_1 = \\overline{x}$  - выборочное среднее <br>\n",
    " Так как распределение определяется одним параметром, то для его отыскания достаточно одного уравнения. Значит: <br>\n",
    " $\\widetilde{\\theta} = \\widetilde{\\lambda} =  \\overline{x} $ <br>\n",
    " $\\mathbb{E}_\\theta \\widetilde{\\theta} = \\mathbb{E}_\\theta \\overline{x}= \\frac{1}{n} \\sum\\limits_{i=1}^n \\mathbb{E}_\\theta x_i  = \\lambda $ - несмещенная оценка <br>"
   ]
  },
  {
   "cell_type": "code",
   "execution_count": 12,
   "id": "58104f4b-3570-436b-8df3-5c1803a945a7",
   "metadata": {},
   "outputs": [
    {
     "name": "stdout",
     "output_type": "stream",
     "text": [
      "Оценка по методу моментов: 1.96\n"
     ]
    }
   ],
   "source": [
    "print(\"Оценка по методу моментов:\", mean)"
   ]
  },
  {
   "cell_type": "markdown",
   "id": "41d7c7bc-a52c-41cb-b958-49c7ada1ab40",
   "metadata": {
    "jp-MarkdownHeadingCollapsed": true
   },
   "source": [
    "#### d) Построить асимптотический доверительный интервал уровня значимости $\\alpha_1$ для параметра $\\lambda$ на базе оценки максимального правдоподобия."
   ]
  },
  {
   "cell_type": "markdown",
   "id": "07c78be4-547d-494b-8a59-3aaffb008c97",
   "metadata": {},
   "source": [
    "Построение АДИ на базе ОМП: <br>\n",
    "$\\theta = \\lambda \\Rightarrow \\hat\\theta = \\overline{x}$ <br>\n",
    "$\\sqrt{n}\\left( \\widehat{\\theta}(\\vec{x})-\\theta \\right)\\sim \\mathcal{N}\\left( 0, \\frac{1}{I(\\theta)} \\right)$<br>\n",
    "$I(\\theta) = \\lim\\limits_{n\\to\\infty}{\\frac{I_n(\\theta)}{n}}$ <br>\n",
    "$I_n(\\theta) = -\\mathbb{E}_\\theta\\frac{\\partial{LL^2}}{\\partial\\theta^2} $ <br>\n",
    "Из предыдущего пункта мы нашли: <br>\n",
    "$\\frac{\\partial LL(\\theta, \\vec{x})}{\\partial \\lambda} = \\frac{\\sum\\limits_{i=1}^nx_i}{\\lambda} - n $ <br>\n",
    "Тогда: <br>\n",
    "$\\frac{\\partial^2 LL(\\theta, \\vec{x})}{\\partial \\lambda^2} =  - \\frac{\\sum\\limits_{i=1}^nx_i}{\\lambda^2} $ <br>\n",
    "$I_n(\\lambda) =  - \\mathbb{E}{\\left(-\\frac{\\sum\\limits_{i=1}^nx_i}{\\lambda^2}\\right)} = \\frac{1}{\\lambda^2} \\sum\\limits_{i=1}^n \\mathbb{E} x_i =  \\frac{1}{\\lambda^2} \\sum\\limits_{i=1}^n \\mathbb{E} x_1 =  \\frac{1}{\\lambda^2} \\cdot n\\lambda = \\frac{n}{\\lambda}$ <br>\n",
    "$I(\\lambda) = \\lim\\limits_{n\\to\\infty}{\\frac{\\frac{n}{\\lambda}}{n}} = \\frac{1}{\\lambda}$ <br>\n",
    "Выбираем: <br>\n",
    "$x_\\alpha: \\Phi(x_\\alpha)=1-\\frac{\\alpha}{2}= 1-\\frac{0.05}{2} = 0.975 \\Rightarrow x_{0.975} = 1.96 $<br> \n",
    "Асимптотический доверительный интервал: <br>\n",
    "$\\left[\\overline{x} - \\frac{x_{0.975}}{\\sqrt{\\frac{n}{\\overline{x}}}}, \\overline{x} + \\frac{x_{0.975}}{\\sqrt{\\frac{n}{\\overline{x}}}} \\right] \\ni \\lambda$ <br>\n",
    "$ 1.572 \\leq \\lambda \\leq 2.348 $"
   ]
  },
  {
   "cell_type": "code",
   "execution_count": 13,
   "id": "e9feb0af-bf02-40bd-9341-79ba403ec43b",
   "metadata": {},
   "outputs": [
    {
     "name": "stdout",
     "output_type": "stream",
     "text": [
      "Асимптотический доверительный интервал:\n",
      "Лямбда принадлежит интервалу от 1.572 до 2.348\n"
     ]
    }
   ],
   "source": [
    "\n",
    "alpha = 0.05\n",
    "x_a = stats.norm.ppf(1-alpha/2)\n",
    "left = mean - x_a/(np.power(N/mean,0.5))\n",
    "right = mean + x_a/(np.power(N/mean,0.5))\n",
    "print(\"Асимптотический доверительный интервал:\")\n",
    "print(\"Лямбда принадлежит интервалу от\", round(left,3), \"до\", round(right,3))"
   ]
  },
  {
   "cell_type": "markdown",
   "id": "f760b3c0-7e24-4cf6-941c-0fcdf1674300",
   "metadata": {},
   "source": [
    "Построение АДИ на базе асимптотически нормальной оценки: <br>\n",
    " Асимптотическая нормальность: <br>\n",
    " $ \\sqrt{n}(\\hat\\theta(\\vec{x}) - \\theta) \\sim  \\mathcal{N}(0, \\sigma^2(\\theta))$ <br>\n",
    " Тогда: <br>\n",
    " $ \\sqrt{n} \\frac{\\overline{x} - \\lambda}{ \\sqrt{\\overline{x}} } \\sim \\mathcal{N}(0,1) $ <br>\n",
    " Выбираем: <br>\n",
    "$x_\\alpha: \\Phi(x_\\alpha)=1-\\frac{\\alpha}{2}= 1-\\frac{0.05}{2} = 0.975 \\Rightarrow x_{0.975} = 1.96 $<br>\n",
    "Асимптотический доверительный интервал: <br>\n",
    "$\\left[\\overline{x} - \\frac{x_{0.975} \\cdot \\sqrt{\\overline{x}}}{\\sqrt{n}}, \\overline{x} + \\frac{x_{0.975} \\cdot\\sqrt{\\overline{x}}}{\\sqrt{n}}\\right] \\ni \\lambda$ <br>\n",
    "$ 1.572 \\leq \\lambda \\leq 2.348 $"
   ]
  },
  {
   "cell_type": "code",
   "execution_count": 14,
   "id": "a2ea4077-ffc8-489d-a642-e8f891f90262",
   "metadata": {},
   "outputs": [
    {
     "name": "stdout",
     "output_type": "stream",
     "text": [
      "Асимптотический доверительный интервал:\n",
      "Лямбда принадлежит интервалу от 1.572 до 2.348\n"
     ]
    }
   ],
   "source": [
    "alpha = 0.05\n",
    "x_a = stats.norm.ppf(1-alpha/2)\n",
    "left = mean - (x_a*np.power(mean,0.5))/(np.power(N,0.5))\n",
    "right = mean + (x_a*np.power(mean,0.5))/(np.power(N,0.5))\n",
    "print(\"Асимптотический доверительный интервал:\")\n",
    "print(\"Лямбда принадлежит интервалу от\", round(left,3), \"до\", round(right,3))"
   ]
  },
  {
   "cell_type": "markdown",
   "id": "907efe9b-40f1-48c4-b500-2896f6ab84a3",
   "metadata": {
    "jp-MarkdownHeadingCollapsed": true
   },
   "source": [
    "#### e) Используя гистограмму частот, построить критерий значимости $\\chi^2$ проверки простой гипотезы согласия с распределением Пуассона с параметром $\\lambda_0$. Проверить гипотезу на уровне значимости $\\alpha_1$. Вычислить наибольшее значение уровня значимости, на котором еще нет оснований отвергнуть данную гипотезу."
   ]
  },
  {
   "cell_type": "markdown",
   "id": "b57f02a8-b2c7-45f5-a32e-8153b5ab1cff",
   "metadata": {},
   "source": [
    "$P_i = P_{H_0}(X \\in I_i) = \\sum_{k \\in I_i} \\frac{\\lambda_0^k}{k!} \\exp(-\\lambda_0)$ <br>\n",
    "$\\lambda_0 = 2$ <br>\n",
    "$I_1 = [0]$ <br>\n",
    "$n_1 = 16 $ <br>\n",
    "$P_1 = \\frac{2^0}{0!} \\exp(-2) = 0.135335$ <br>\n",
    "$nP_1 = 6.767 $ <br>\n",
    "\n",
    "$I_2 = [1]$ <br>\n",
    "$n_2 = 11 $ <br>\n",
    "$P_2 = \\frac{2^1}{1!} \\exp(-2) = 0.270671$ <br>\n",
    "$nP_2 = 13.534 $ <br>\n",
    "\n",
    "$I_3 = [2]$ <br>\n",
    "$n_3 = 7 $ <br>\n",
    "$P_3 = \\frac{2^2}{2!} \\exp(-2) = 0.270671$ <br>\n",
    "$nP_3 = 13.534 $ <br>\n",
    "\n",
    "$I_4 = [3]$ <br>\n",
    "$n_4 = 5 $ <br>\n",
    "$P_4 = \\frac{2^3}{3!} \\exp(-2) = 0.180447$ <br>\n",
    "$nP_4 =9.022 $ <br>\n",
    "\n",
    "$I_5 = [4,6,9]$ <br>\n",
    "$n_5 = 11 $ <br>\n",
    "$P_5 = \\frac{2^4}{4!} \\exp(-2) + \\frac{2^6}{6!} \\exp(-2) + \\frac{2^9}{9!} \\exp(-2) = 0.102444$ <br>\n",
    "$nP_5 = 5.122 $ <br>\n",
    "\n",
    " Критерий $\\chi^2: \\chi^2_{набл} = \\sum\\limits_{i=1}^5 \\frac{(n_i - nP_i)^2}{nP_i} = 24.765$ <br>\n",
    " Найдем квантиль распределения $\\chi^2_{1-\\alpha,r-1}$: <br>\n",
    " $\\chi^2_{1-0.05,5-1} = 9.49 $ <br>\n",
    " $ \\chi^2 > \\chi^2_{0.95,4} \\Rightarrow $  Отвергаем основную гипотезу $H_0$ <br>\n",
    " Наибольшее значение уровня значимости, на котором еще нет оснований отвергнуть гипотезу  $\\alpha = 0.000056$ \n",
    " "
   ]
  },
  {
   "cell_type": "code",
   "execution_count": 15,
   "id": "44bf313d-8060-474c-8aaf-feee4d6a684f",
   "metadata": {},
   "outputs": [
    {
     "name": "stdout",
     "output_type": "stream",
     "text": [
      "Значение уровня значимости, на котором еще нет оснований отвергнуть гипотезу:\n",
      "0.000056\n"
     ]
    }
   ],
   "source": [
    "chisq = 24.765 #получившийся хи-2\n",
    "dof = 4 # степень свободы\n",
    "p_value = 1 - stats.chi2.cdf(chisq, dof) # искомый уровень значимости\n",
    "print( \"Значение уровня значимости, на котором еще нет оснований отвергнуть гипотезу:\" )\n",
    "print(format(p_value,'.6f'))"
   ]
  },
  {
   "cell_type": "markdown",
   "id": "820a5c35-70de-42f9-a119-f28e27217367",
   "metadata": {
    "jp-MarkdownHeadingCollapsed": true
   },
   "source": [
    "#### f) Построить критерий значимости $\\chi^2$ проверки сложной гипотезы согласия с распределением Пуассона. Проверить гипотезу на уровне значимости $\\alpha_1$. Вычислить наибольшее значение уровня значимости, на котором еще нет оснований отвергнуть данную гипотезу."
   ]
  },
  {
   "attachments": {},
   "cell_type": "markdown",
   "id": "6b56beb1-2ff4-49a9-ac7e-7d3baf6ad568",
   "metadata": {},
   "source": [
    "Ожидаемые частоты зависят от параметра. Возьмем за параметр ОМП $\\hat\\lambda = \\overline{x} = 1.96$ <br>\n",
    "$P_i = P_{H_0}(X \\in I_i) = \\sum_{k \\in I_i} \\frac{\\hat\\lambda^k}{k!} \\exp(-\\hat\\lambda)$ <br>\n",
    "\n",
    "$I_1 = [0]$ <br>\n",
    "$n_1 = 16 $ <br>\n",
    "$P_1 = \\frac{1.96^0}{0!} \\exp(-1.96) = 0.140858$ <br>\n",
    "$nP_1 = 7.043 $ <br>\n",
    "\n",
    "$I_2 = [1]$ <br>\n",
    "$n_2 = 11 $ <br>\n",
    "$P_2 = \\frac{1.96^1}{1!} \\exp(-1.96) = 0.276083$ <br>\n",
    "$nP_2 = 13.804 $ <br>\n",
    "\n",
    "$I_3 = [2]$ <br>\n",
    "$n_3 = 7 $ <br>\n",
    "$P_3 = \\frac{1.96^2}{2!} \\exp(-1.96) = 0.270561$ <br>\n",
    "$nP_3 = 13.528 $ <br>\n",
    "\n",
    "$I_4 = [3]$ <br>\n",
    "$n_4 = 5 $ <br>\n",
    "$P_4 = \\frac{1.96^3}{3!} \\exp(-1.96) = 0.176766$ <br>\n",
    "$nP_4 =8.838 $ <br>\n",
    "\n",
    "$I_5 = [4,6,9]$ <br>\n",
    "$n_5 = 11 $ <br>\n",
    "$P_5 = \\frac{1.96^4}{4!} \\exp(-1.96) + \\frac{1.96^6}{6!} \\exp(-1.96) + \\frac{1.96^9}{9!} \\exp(-1.96) = 0.188024$ <br>\n",
    "$nP_5 = 9.401 $ <br>\n",
    "\n",
    " Критерий $\\chi^2: \\chi^2_{набл} = \\sum\\limits_{i=1}^5 \\frac{(n_i - nP_i)^2}{nP_i} = 17.05$ <br>\n",
    " Найдем квантиль распределения $\\chi^2_{1-\\alpha,r-1-1}$: <br>\n",
    " $\\chi^2_{1-0.05,5-1-1} = 7.815 $ <br>\n",
    " $ \\chi^2 > \\chi^2_{0.95,4} \\Rightarrow $  Отвергаем основную гипотезу $H_0$ <br>\n",
    " Наибольшее значение уровня значимости, на котором еще нет оснований отвергнуть гипотезу  $\\alpha = 0.00069$ \n"
   ]
  },
  {
   "cell_type": "code",
   "execution_count": 16,
   "id": "1ca22f72-67e8-483a-9871-17dd1dc14a68",
   "metadata": {},
   "outputs": [
    {
     "name": "stdout",
     "output_type": "stream",
     "text": [
      "Значение уровня значимости, на котором еще нет оснований отвергнуть гипотезу:\n",
      "0.000690\n"
     ]
    }
   ],
   "source": [
    "chisq = 17.05 #получившийся хи-2\n",
    "dof = 3 # степень свободы\n",
    "p_value = 1 - stats.chi2.cdf(chisq, dof) # искомый уровень значимости\n",
    "print( \"Значение уровня значимости, на котором еще нет оснований отвергнуть гипотезу:\" )\n",
    "print(format(p_value,'.6f'))"
   ]
  },
  {
   "cell_type": "markdown",
   "id": "d014af88-67a7-471b-9063-da04d1bc26fe",
   "metadata": {
    "jp-MarkdownHeadingCollapsed": true
   },
   "source": [
    "#### g) Построить наиболее мощный критерий проверки простой гипотезы пуассоновости с параметром $\\lambda = \\lambda_0$ при альтернативе пуассоновости с параметром $\\lambda = \\lambda_1$. Проверить гипотезу на уровне значимости $\\alpha_1$. Что получится, если поменять местами основную и альтернативную гипотезы?"
   ]
  },
  {
   "cell_type": "markdown",
   "id": "72157932-b9e7-4d85-aa35-0ae02364ea12",
   "metadata": {},
   "source": [
    "$H_0: \\lambda = \\lambda_0$ - основная гипотеза <br>\n",
    "$H_1: \\lambda = \\lambda_1$  - альтернативная гипотеза <br>\n",
    "$\\lambda_0 = 2$<br>\n",
    "$\\lambda_1 = 5$<br>\n",
    "Функция правдоподобия:\n",
    "<br>\n",
    "$L(\\theta, \\vec{x})=  \\lambda^{\\sum\\limits_{i=1}^n x_i} \\cdot \\prod\\limits_{i=1}^n\\frac{1}{x_i!} \\cdot \\exp(-\\lambda n) $ <br>\n",
    "Статистика отношения правдоподобия: <br>\n",
    "$LR(\\vec{x}) = \\frac{L(\\vec{x}, \\theta_1)}{L(\\vec{x}, \\theta_2)} = (\\frac{\\lambda_1}{\\lambda_0})^{\\sum\\limits_{i=1}^n x_i} \\cdot \\exp(n(\\lambda_0-\\lambda_1))$ <br>\n",
    "В силу монотонности статистики $LR(\\vec{x})$ относительно МДС $\\overline{x}$ <br>\n",
    " $LR(\\vec{x}) > c \\Leftrightarrow \\overline{x} < c^*$ <br>\n",
    " $LR(\\vec{x}) < c \\Leftrightarrow \\overline{x} > c^*$ <br>\n",
    "$\\phi(x) = \\left\\{\\begin{array}{l}1,\\overline{x} < c^*\\\\p,\\overline{x} = c^*\\\\0, \\overline{x} > c^*\\end{array}\\right.$ <br>\n",
    "По ЦПТ: <br>\n",
    "$ \\sqrt{n} \\frac{\\overline{x}-a}{\\sigma} \\sim \\mathcal{N}(0,1)$ <br>\n",
    "$\\mathbb{E}{X} = \\lambda_0, \\mathbb{D}{X} = \\lambda_0 $ <br>\n",
    "$ \\sqrt{n} \\frac{\\overline{x}-\\lambda_0}{\\sqrt{\\lambda_0}} \\sim \\mathcal{N}(0,1)$ <br>\n",
    "$P(\\sqrt{n} \\frac{\\overline{x}-\\lambda_0}{\\sqrt{\\lambda_0}} \\geq \\sqrt{n} \\frac{c^*-\\lambda_0}{\\sqrt{\\lambda_0}}) = 1 - \\Phi(\\sqrt{n} \\frac{c^*-\\lambda_0}{\\sqrt{\\lambda_0}}) = \\alpha $ <br>\n",
    "$x_{\\alpha} = \\sqrt{n} \\frac{c^*-\\lambda_0}{\\sqrt{\\lambda_0}}$\n",
    "$x_{\\alpha}: \\Phi(x_{\\alpha}) = 1 - \\alpha$\n"
   ]
  },
  {
   "cell_type": "code",
   "execution_count": 17,
   "id": "f6d8f339-4b7a-4b46-8891-55e8cf31cd36",
   "metadata": {},
   "outputs": [
    {
     "name": "stdout",
     "output_type": "stream",
     "text": [
      "х-альфа:  1.645\n",
      "с*: 2.329\n",
     
     ]
    }
   ],
   "source": [
    "alpha = 0.05\n",
    "print('х-альфа: ', round(stats.norm.ppf(1-alpha),3))\n",
    "lam0=2\n",
    "c_star = 1.645*np.sqrt(lam0)/np.sqrt(N) + lam0\n",
    "print(\"с*:\",c_star)\n",
   
   ]
  },
  {
   "cell_type": "markdown",
   "id": "8cd46361-c919-46be-9db0-ee59a3c06df1",
   "metadata": {},
   "source": [
    "$x_{\\alpha} = 1.645$ <br>\n",
    "$c^* = 2.329$ <br>\n",
    "$\\overline x = 1.96 \\Rightarrow \\overline x < c^*$ - значит гипотезу принимаем <br>\n",
    "Поменяем местами основную и альтернативную гипотезу <br>\n",
    "$H_0: \\lambda = \\lambda_1$ <br>\n",
    "$H_1: \\lambda = \\lambda_0$ <br>\n",
    "\n",
    "Статистика отношения правдоподобия: <br>\n",
    "$LR(\\vec{x}) = \\frac{L(\\vec{x}, \\theta_1)}{L(\\vec{x}, \\theta_2)} = (\\frac{\\lambda_0}{\\lambda_1})^{\\sum\\limits_{i=1}^n x_i} \\cdot \\exp(n(\\lambda_1-\\lambda_0))$ <br>\n",
    "В силу монотонности статистики $LR(\\vec{x})$ относительно МДС $\\overline{x}$ <br>\n",
    " $LR(\\vec{x}) > c \\Leftrightarrow \\overline{x} < c^*$ <br>\n",
    " $LR(\\vec{x}) < c \\Leftrightarrow \\overline{x} > c^*$ <br>\n",
    "$\\phi(x) = \\left\\{\\begin{array}{l}1,\\overline{x} < c^*\\\\p,\\overline{x} = c^*\\\\0, \\overline{x} > c^*\\end{array}\\right\\}$ <br>\n",
    "По ЦПТ: <br>\n",
    "$ \\sqrt{n} \\frac{\\overline{x}-a}{\\sigma} \\sim \\mathcal{N}(0,1)$ <br>\n",
    "$\\mathbb{E}{X} = \\lambda_0, \\mathbb{D}{X} = \\lambda_0 $ <br>\n",
    "$ \\sqrt{n} \\frac{\\overline{x}-\\lambda_1}{\\sqrt{\\lambda_1}} \\sim \\mathcal{N}(0,1)$ <br>\n",
    "$P(\\sqrt{n} \\frac{\\overline{x}-\\lambda_1}{\\sqrt{\\lambda_1}} \\geq \\sqrt{n} \\frac{c^*-\\lambda_1}{\\sqrt{\\lambda_1}}) = 1 - \\Phi(\\sqrt{n} \\frac{c^*-\\lambda_1}{\\sqrt{\\lambda_1}}) = \\alpha $ <br>\n",
    "$x_{\\alpha} = \\sqrt{n} \\frac{c^*-\\lambda_1}{\\sqrt{\\lambda_1}}$\n",
    "$x_{\\alpha}: \\Phi(x_{\\alpha}) = 1 - \\alpha$"
   ]
  },
  {
   "cell_type": "code",
   "execution_count": 18,
   "id": "b8e9abc8-249d-4973-9d43-5f86e29a0577",
   "metadata": {},
   "outputs": [
    {
     "name": "stdout",
     "output_type": "stream",
     "text": [
      "5.52\n"
     ]
    }
   ],
   "source": [
    "lam1=5\n",
    "c_star = 1.645*np.sqrt(lam1)/np.sqrt(N) + lam1\n",
    "print(round(c_star,3))"
   ]
  },
  {
   "cell_type": "markdown",
   "id": "d57d5867-de66-4ed6-be02-ed09a2501c07",
   "metadata": {},
   "source": [
    "$c^* = 5.52$ <br>\n",
    "$\\overline x = 1.96 \\Rightarrow \\overline x < c^*$ - значит гипотезу принимаем <br>"
   ]
  },
  {
   "cell_type": "markdown",
   "id": "27d3b25c-965b-4284-9587-966de6136b58",
   "metadata": {
    "jp-MarkdownHeadingCollapsed": true
   },
   "source": [
    "#### h) В пунктах (c)-(f) заменить семейство распределений Пуассона на семейство геометрических распределений."
   ]
  },
  {
   "cell_type": "markdown",
   "id": "1c0b7aee-451b-4fca-87de-df61efeea66f",
   "metadata": {
    "jp-MarkdownHeadingCollapsed": true
   },
   "source": [
    "##### h.c) "
   ]
  },
  {
   "cell_type": "markdown",
   "id": "eecf21f7-cb38-4e10-8397-134f7a8fba41",
   "metadata": {},
   "source": [
    "Функция плотности вероятности геометрического распределения:\n",
    "<br>\n",
    "$ \\mathbb{P}_\\lambda(X=k) = \\frac{\\lambda^k}{(\\lambda+1)^{k+1}} $ <br>\n",
    "\n",
    "1. ОМП <br>\n",
    "Напишем функцию правдоподобия:\n",
    "<br>\n",
    "$L(\\theta, \\vec{x})= \\prod\\limits_{i=1}^n \\frac{\\lambda^{x_i}}{(\\lambda+1)^{x_i+1}} = \\frac{\\lambda^{\\sum\\limits_{i=1}^n x_i}}{(\\lambda+1)^{\\sum\\limits_{i=1}^n x_i} (\\lambda+1)^n } = \\lambda^{\\sum\\limits_{i=1}^n x_i} \\cdot (\\lambda+1)^{-\\sum\\limits_{i=1}^n x_i} \\cdot (\\lambda+1)^{-n}  $ <br>\n",
    "Чтобы упростить вычисления, напишем логарифмическую функцию правдоподобия: <br>\n",
    "$LL(\\theta, \\vec{x})= \\sum\\limits_{i=1}^nx_i \\cdot \\ln\\lambda - \\sum\\limits_{i=1}^nx_i \\cdot \\ln{(\\lambda+1)}  - n  \\cdot \\ln{(\\lambda+1)} $ <br>\n",
    "Вычислим производную логарифмической функции правдоподобия по параметру $\\lambda$: <br>\n",
    "$\\frac{\\partial LL(\\theta, \\vec{x})}{\\partial \\lambda} = \\frac{\\sum\\limits_{i=1}^nx_i}{\\lambda} -  \\frac{\\sum\\limits_{i=1}^nx_i}{\\lambda+1} - \\frac{n}{\\lambda+1}$ <br>\n",
    "Приравниваем производную к 0 и вычисляем $\\lambda$: <br>\n",
    "$\\frac{\\sum\\limits_{i=1}^nx_i}{\\lambda} -  \\frac{\\sum\\limits_{i=1}^nx_i}{\\lambda+1} - \\frac{n}{\\lambda+1} = 0$ <br>\n",
    "$\\lambda \\sum\\limits_{i=1}^nx_i + \\sum\\limits_{i=1}^nx_i - \\lambda \\sum\\limits_{i=1}^nx_i - \\lambda n = 0$ <br>\n",
    "$\\hat{\\lambda}=\\frac{\\sum\\limits_{i=1}^nx_i}{n} = \\overline{x} $ <br>\n",
    "$\\hat\\theta = \\hat{\\lambda}= \\overline{x}$ - ОМП <br>"
   ]
  },
  {
   "cell_type": "code",
   "execution_count": 19,
   "id": "053cc8aa-4643-4d2b-b278-bb27555955b0",
   "metadata": {},
   "outputs": [
    {
     "name": "stdout",
     "output_type": "stream",
     "text": [
      "Оценка максимального правдоподобия: 1.96\n"
     ]
    }
   ],
   "source": [
    "print(\"Оценка максимального правдоподобия:\", mean)"
   ]
  },
  {
   "cell_type": "markdown",
   "id": "b037bf03-d3d5-4fe3-abbe-64a3692fbc89",
   "metadata": {},
   "source": [
    "2. ОММ <br>\n",
    "Сначала приведем данное распределение  к виду: $ \\mathbb{P}(X=k) = pq^k $, где $q=1-p$ <br>\n",
    "$  \\frac{\\lambda^k}{(\\lambda+1)^k} = (\\frac{\\lambda}{\\lambda+1})^k \\cdot \\frac{1}{\\lambda+1} = (1 - \\frac{1}{\\lambda+1})^k \\cdot \\frac{1}{\\lambda+1} $ <br>\n",
    "Таким образом, $ p = \\frac{1}{\\lambda+1}, q = \\frac{\\lambda}{\\lambda+1}$ <br>\n",
    "$ \\mathbb{E}{X_1} = \\frac{q}{p}= \\frac{\\frac{\\lambda}{\\lambda+1}}{\\frac{1}{\\lambda+1}} = \\lambda$ <br>\n",
    "$M_1 = \\overline{x} $ <br>\n",
    "$\\widetilde{\\theta} = \\widetilde{\\lambda} =  \\overline{x} $ - ОММ <br>"
   ]
  },
  {
   "cell_type": "code",
   "execution_count": 20,
   "id": "5a8651e5-63f1-4782-ad6f-b31b1b58c2de",
   "metadata": {},
   "outputs": [
    {
     "name": "stdout",
     "output_type": "stream",
     "text": [
      "Оценка по методу моментов: 1.96\n"
     ]
    }
   ],
   "source": [
    "print(\"Оценка по методу моментов:\", mean)"
   ]
  },
  {
   "cell_type": "markdown",
   "id": "41624d90-d6cf-4421-b35c-f4ac8cbb5eff",
   "metadata": {},
   "source": [
    "3. НРМД <br>\n",
    "$L(\\theta, \\vec{x})=  \\lambda^{\\sum\\limits_{i=1}^n x_i} \\cdot (\\lambda+1)^{-\\sum\\limits_{i=1}^n x_i} \\cdot (\\lambda+1)^{-n}  $ <br> \n",
    "$g(T) =  \\lambda^{\\sum\\limits_{i=1}^n x_i} \\cdot (\\lambda+1)^{-\\sum\\limits_{i=1}^n x_i} \\cdot (\\lambda+1)^{-n} $ <br>\n",
    "$h(x) =  1$ <br>\n",
    "$ T=\\sum\\limits_{i=1}^n x_i$  - МДС. Так как семейство геометрических распределенией принадлежит экспоненциальному семейству, то $T$ - ПДС <br>\n",
    "$\\mathbb{E}_\\theta \\hat{\\theta} = \\mathbb{E}_\\theta  \\overline{x} = \\mathbb{E}_\\theta \\frac{\\sum\\limits_{i=1}^nx_i}{n} = \\frac{1}{n}\\mathbb{E}_\\theta \\sum\\limits_{i=1}^nx_i = \\frac{1}{n} \\sum\\limits_{i=1}^n \\mathbb{E}_\\theta x_i = \\frac{1}{n} \\sum\\limits_{i=1}^n \\mathbb{E}_\\theta x_1 = \\frac{1}{n} \\sum\\limits_{i=1}^n \\lambda = \\lambda $ <br>\n",
    "$ \\hat{\\theta} =  \\lambda $ - НРМД\n"
   ]
  },
  {
   "cell_type": "markdown",
   "id": "bf18e257-ea96-4f92-9847-22aca6c55969",
   "metadata": {
    "jp-MarkdownHeadingCollapsed": true
   },
   "source": [
    "##### h.d) "
   ]
  },
  {
   "cell_type": "markdown",
   "id": "2a7838ee-e132-465e-8090-74c9e0787e7a",
   "metadata": {},
   "source": [
    "Построение АДИ на базе ОМП: <br>\n",
    "$\\theta = \\lambda \\Rightarrow \\hat\\theta = \\overline{x}$ <br>\n",
    "$\\sqrt{n}\\left( \\widehat{\\theta}(\\vec{x})-\\theta \\right)\\sim \\mathcal{N}\\left( 0, \\frac{1}{I(\\theta)} \\right)$<br>\n",
    "$I(\\theta) = \\lim\\limits_{n\\to\\infty}{\\frac{I_n(\\theta)}{n}}$ <br>\n",
    "$I_n(\\theta) = -\\mathbb{E}_\\theta\\frac{\\partial^2{LL}}{\\partial\\theta^2} $ <br>\n",
    "Из предыдущего пункта мы нашли: <br>\n",
    "$\\frac{\\partial LL(\\theta, \\vec{x})}{\\partial \\lambda} =\\frac{\\sum\\limits_{i=1}^nx_i}{\\lambda} -  \\frac{\\sum\\limits_{i=1}^nx_i}{\\lambda+1} - \\frac{n}{\\lambda+1} $ <br>\n",
    "Тогда: <br>\n",
    "$\\frac{\\partial^2 LL(\\theta, \\vec{x})}{\\partial \\lambda^2} =  -\\frac{\\sum\\limits_{i=1}^nx_i}{\\lambda^2} + \\frac{\\sum\\limits_{i=1}^nx_i}{(\\lambda+1)^2} + \\frac{n}{(\\lambda+1)^2} $ <br>\n",
    "$I_n(\\lambda) =  - \\mathbb{E}{\\left(-\\frac{\\sum\\limits_{i=1}^nx_i}{\\lambda^2} + \\frac{\\sum\\limits_{i=1}^nx_i}{(\\lambda+1)^2} + \\frac{n}{(\\lambda+1)^2}\\right)} = \\frac{1}{\\lambda^2} \\sum\\limits_{i=1}^n \\mathbb{E} x_i - \\frac{1}{(\\lambda+1)^2} \\sum\\limits_{i=1}^n \\mathbb{E}x_i -  \\frac{n}{(\\lambda+1)^2} = \\frac{n \\lambda}{\\lambda^2} - \\frac{n \\lambda}{(\\lambda+1)^2} - \\frac{n}{(\\lambda+1)^2} = \\frac{n}{\\lambda(\\lambda+1)}$ <br>\n",
    "$I(\\lambda) = \\lim\\limits_{n\\to\\infty}{\\frac{\\frac{n}{\\lambda(\\lambda+1)}}{n}} = \\frac{1}{\\lambda(\\lambda+1)}$ <br>\n",
    "Выбираем: <br>\n",
    "$x_\\alpha: \\Phi(x_\\alpha)=1-\\frac{\\alpha}{2}= 1-\\frac{0.05}{2} = 0.975 \\Rightarrow x_{0.975} = 1.96 $<br> \n",
    "Асимптотический доверительный интервал: <br>\n",
    "$\\left[\\overline{x} - \\frac{x_{0.975}}{\\sqrt{\\frac{n}{\\overline{x}(\\overline{x}+1)}}}, \\overline{x} + \\frac{x_{0.975}}{\\sqrt{\\frac{n}{\\overline{x}(\\overline{x}+1)}}} \\right] \\ni \\lambda$ <br>\n",
    "$ 1.292 \\leq \\lambda \\leq 2.628 $"
   ]
  },
  {
   "cell_type": "code",
   "execution_count": 21,
   "id": "ab4234f5-0a90-498b-b729-844f6c990b43",
   "metadata": {},
   "outputs": [
    {
     "name": "stdout",
     "output_type": "stream",
     "text": [
      "Асимптотический доверительный интервал:\n",
      "Лямбда принадлежит интервалу от 1.292 до 2.628\n"
     ]
    }
   ],
   "source": [
    "alpha = 0.05\n",
    "x_a = stats.norm.ppf(1-alpha/2)\n",
    "left = mean - x_a/(np.power(N/(mean*(mean+1)),0.5))\n",
    "right = mean + x_a/(np.power(N/(mean*(mean+1)),0.5))\n",
    "print(\"Асимптотический доверительный интервал:\")\n",
    "print(\"Лямбда принадлежит интервалу от\", round(left,3), \"до\", round(right,3))"
   ]
  },
  {
   "cell_type": "markdown",
   "id": "bbb8f070-95a4-404f-93e9-ef0f5ff64497",
   "metadata": {},
   "source": [
    "Построение АДИ на базе асимптотически нормальной оценки: <br>\n",
    " Асимптотическая нормальность: <br>\n",
    " $ \\sqrt{n}(\\hat\\theta(\\vec{x}) - \\theta) \\sim  \\mathcal{N}(0, \\sigma^2(\\theta))$ <br>\n",
    " Тогда: <br>\n",
    " $ \\sqrt{n} \\frac{\\overline{x} - \\lambda}{ \\sqrt{\\overline{x}^2+\\overline{x}}} \\sim \\mathcal{N}(0,1) $ <br>\n",
    " Выбираем: <br>\n",
    "$x_\\alpha: \\Phi(x_\\alpha)=1-\\frac{\\alpha}{2}= 1-\\frac{0.05}{2} = 0.975 \\Rightarrow x_{0.975} = 1.96 $<br>\n",
    "Асимптотический доверительный интервал: <br>\n",
    "$\\left[\\overline{x} - \\frac{x_{0.975} \\cdot  \\sqrt{\\overline{x}^2+\\overline{x}}}{\\sqrt{n}}, \\overline{x} + \\frac{x_{0.975} \\cdot  \\sqrt{\\overline{x}^2+\\overline{x}}}{\\sqrt{n}}\\right] \\ni \\lambda$ <br>\n",
    "$ 1.292 \\leq \\lambda \\leq 2.628 $"
   ]
  },
  {
   "cell_type": "code",
   "execution_count": 22,
   "id": "dbda00a6-ce61-48c6-959d-37978fc44d7f",
   "metadata": {},
   "outputs": [
    {
     "name": "stdout",
     "output_type": "stream",
     "text": [
      "Асимптотический доверительный интервал:\n",
      "Лямбда принадлежит интервалу от 1.292 до 2.628\n"
     ]
    }
   ],
   "source": [
    "alpha = 0.05\n",
    "x_a = stats.norm.ppf(1-alpha/2)\n",
    "left = mean - (x_a*(np.sqrt(mean*mean+mean)))/(np.power(N,0.5))\n",
    "right = mean + (x_a*(np.sqrt(mean*mean+mean)))/(np.power(N,0.5))\n",
    "print(\"Асимптотический доверительный интервал:\")\n",
    "print(\"Лямбда принадлежит интервалу от\", round(left,3), \"до\", round(right,3))"
   ]
  },
  {
   "cell_type": "markdown",
   "id": "67619a62-edfa-4e1b-bb35-266e589690be",
   "metadata": {
    "jp-MarkdownHeadingCollapsed": true
   },
   "source": [
    "##### h.e)"
   ]
  },
  {
   "cell_type": "markdown",
   "id": "5853abaf-95d1-4471-abda-d76d84d0fa1c",
   "metadata": {},
   "source": [
    "$P_i = P_{H_0}(X \\in I_i) = \\sum_{k \\in I_i} \\frac{\\lambda_0^k}{(\\lambda_0+1)^{k+1}}$ <br>\n",
    "$\\lambda_0 = 2$ <br>\n",
    "$I_1 = [0]$ <br>\n",
    "$n_1 = 16 $ <br>\n",
    "$P_1 =\\frac{2^0}{(2+1)^{0+1}} = \\frac{1}{3}$ <br>\n",
    "$nP_1 = 5\\frac{1}{3} $ <br>\n",
    "\n",
    "$I_2 = [1]$ <br>\n",
    "$n_2 = 11 $ <br>\n",
    "$P_2 = \\frac{2^1}{(2+1)^{1+1}} = \\frac{2}{9}$ <br>\n",
    "$nP_2 = 11\\frac{1}{9} $ <br>\n",
    "\n",
    "$I_3 = [2]$ <br>\n",
    "$n_3 = 7 $ <br>\n",
    "$P_3 = \\frac{2^2}{(2+1)^{2+1}} = \\frac{4}{27}$ <br>\n",
    "$nP_3 = 7\\frac{11}{27}$ <br>\n",
    "\n",
    "$I_4 = [3]$ <br>\n",
    "$n_4 = 5 $ <br>\n",
    "$P_4 = \\frac{2^3}{(2+1)^{3+1}}  = \\frac{8}{81}$ <br>\n",
    "$nP_4 = 4\\frac{76}{81}$ <br>\n",
    "\n",
    "$I_5 = [4,6,9]$ <br>\n",
    "$n_5 = 11 $ <br>\n",
    "$P_5 = \\frac{2^4}{(2+1)^{4+1}}  + \\frac{2^6}{(2+1)^{6+1}}  + \\frac{2^9}{(2+1)^{9+1}}  = \\frac{6128}{59049}$ <br>\n",
    "$nP_5 = 5\\frac{11155}{59049} $ <br>\n",
    "\n",
    " Критерий $\\chi^2: \\chi^2_{набл} = \\sum\\limits_{i=1}^5 \\frac{(n_i - nP_i)^2}{nP_i} = 6.559$ <br>\n",
    " Найдем квантиль распределения $\\chi^2_{1-\\alpha,r-1}$: <br>\n",
    " $\\chi^2_{1-0.05,5-1} = 9.49 $ <br>\n",
    " $ \\chi^2 < \\chi^2_{0.95,4} \\Rightarrow $  Принимаем основную гипотезу $H_0$ <br>\n",
    " Наибольшее значение уровня значимости, на котором еще нет оснований отвергнуть гипотезу  $\\alpha = 0.161111$ \n",
    " "
   ]
  },
  {
   "cell_type": "code",
   "execution_count": 23,
   "id": "1f903dd3-21be-4a07-ac20-efd2ce9cbffe",
   "metadata": {},
   "outputs": [
    {
     "name": "stdout",
     "output_type": "stream",
     "text": [
      "Значение уровня значимости, на котором еще нет оснований отвергнуть гипотезу:\n",
      "0.161111\n"
     ]
    }
   ],
   "source": [
    "chisq = 6.559 #получившийся хи-2\n",
    "dof = 4 # степень свободы\n",
    "p_value = 1 - stats.chi2.cdf(chisq, dof) # искомый уровень значимости\n",
    "print( \"Значение уровня значимости, на котором еще нет оснований отвергнуть гипотезу:\" )\n",
    "print(format(p_value,'.6f'))"
   ]
  },
  {
   "cell_type": "markdown",
   "id": "7a038c85-8020-4798-b4fd-3189f0b1a58c",
   "metadata": {},
   "source": [
    "##### h.f) "
   ]
  },
  {
   "cell_type": "markdown",
   "id": "d0f36985-f774-40af-9817-df216530d2a2",
   "metadata": {},
   "source": [
    "Ожидаемые частоты зависят от параметра. Возьмем за параметр ОМП $\\hat\\lambda = \\overline{x} = 1.96$ <br>\n",
    "$P_i = P_{H_0}(X \\in I_i) = \\sum_{k \\in I_i} \\frac{\\hat\\lambda^k}{(\\hat\\lambda+1)^{k+1}}$ <br>\n",
    "\n",
    "$I_1 = [0]$ <br>\n",
    "$n_1 = 16 $ <br>\n",
    "$P_1 =\\frac{1.96^0}{(1.96+1)^{0+1}} = 0.3378 $ <br>\n",
    "$nP_1 = 16.892 $ <br>\n",
    "\n",
    "$I_2 = [1]$ <br>\n",
    "$n_2 = 11 $ <br>\n",
    "$P_2 = \\frac{1.96^1}{(1.96+1)^{1+1}} = 0.223703 $ <br>\n",
    "$nP_2 = 11.185 $ <br>\n",
    "\n",
    "$I_3 = [2]$ <br>\n",
    "$n_3 = 7 $ <br>\n",
    "$P_3 = \\frac{1.96^2}{(1.96+1)^{2+1}} = 0.148128 $ <br>\n",
    "$nP_3 = 7.406$ <br>\n",
    "\n",
    "$I_4 = [3]$ <br>\n",
    "$n_4 = 5 $ <br>\n",
    "$P_4 = \\frac{1.96^3}{(1.96+1)^{3+1}}  = 0.098085$ <br>\n",
    "$nP_4 = 4.904 $ <br>\n",
    "\n",
    "$I_5 = [4,6,9]$ <br>\n",
    "$n_5 = 11 $ <br>\n",
    "$P_5 = \\frac{1.96^4}{(1.96+1)^{4+1}}  + \\frac{1.96^6}{(1.96+1)^{6+1}}  + \\frac{1.96^9}{(1.96+1)^{9+1}}  = 0.101693 $ <br>\n",
    "$nP_5 = 5.085 $ <br>\n",
    "\n",
    " Критерий $\\chi^2: \\chi^2_{набл} = \\sum\\limits_{i=1}^5 \\frac{(n_i - nP_i)^2}{nP_i} = 6.955$ <br>\n",
    " Найдем квантиль распределения $\\chi^2_{1-\\alpha,r-1-1}$: <br>\n",
    " $\\chi^2_{1-0.05,5-1-1} = 7.815 $ <br>\n",
    " $ \\chi^2 < \\chi^2_{0.95,4} \\Rightarrow $  Принимаем основную гипотезу $H_0$ <br>\n",
    " Наибольшее значение уровня значимости, на котором еще нет оснований отвергнуть гипотезу  $\\alpha = 0.14$ \n",
    " "
   ]
  },
  {
   "cell_type": "code",
   "execution_count": 24,
   "id": "9ffbc924-21d6-48b7-9212-ad1d4acde368",
   "metadata": {},
   "outputs": [
    {
     "name": "stdout",
     "output_type": "stream",
     "text": [
      "Значение уровня значимости, на котором еще нет оснований отвергнуть гипотезу:\n",
      "0.14\n"
     ]
    }
   ],
   "source": [
    "chisq = 6.955 #получившийся хи-2\n",
    "dof = 4 # степень свободы\n",
    "p_value = 1 - stats.chi2.cdf(chisq, dof) # искомый уровень значимости\n",
    "print( \"Значение уровня значимости, на котором еще нет оснований отвергнуть гипотезу:\" )\n",
    "print(format(p_value,'.2f'))"
   ]
  },
  {
   "cell_type": "markdown",
   "id": "76781acc-8d9d-4746-872a-e78acf692214",
   "metadata": {},
   "source": [
    "### Задание 2"
   ]
  },
  {
   "cell_type": "code",
   "execution_count": 25,
   "id": "4543d3e7-8e6b-49ee-bfd9-0a69e501efed",
   "metadata": {},
   "outputs": [
    {
     "data": {
      "text/html": [
       "<div>\n",
       "<style scoped>\n",
       "    .dataframe tbody tr th:only-of-type {\n",
       "        vertical-align: middle;\n",
       "    }\n",
       "\n",
       "    .dataframe tbody tr th {\n",
       "        vertical-align: top;\n",
       "    }\n",
       "\n",
       "    .dataframe thead th {\n",
       "        text-align: right;\n",
       "    }\n",
       "</style>\n",
       "<table border=\"1\" class=\"dataframe\">\n",
       "  <thead>\n",
       "    <tr style=\"text-align: right;\">\n",
       "      <th></th>\n",
       "      <th>0</th>\n",
       "      <th>1</th>\n",
       "      <th>2</th>\n",
       "      <th>3</th>\n",
       "      <th>4</th>\n",
       "      <th>5</th>\n",
       "      <th>6</th>\n",
       "      <th>7</th>\n",
       "      <th>8</th>\n",
       "      <th>9</th>\n",
       "      <th>10</th>\n",
       "      <th>11</th>\n",
       "      <th>12</th>\n",
       "      <th>13</th>\n",
       "      <th>14</th>\n",
       "      <th>15</th>\n",
       "      <th>16</th>\n",
       "      <th>17</th>\n",
       "      <th>18</th>\n",
       "      <th>19</th>\n",
       "      <th>20</th>\n",
       "      <th>21</th>\n",
       "      <th>22</th>\n",
       "      <th>23</th>\n",
       "      <th>24</th>\n",
       "      <th>25</th>\n",
       "      <th>26</th>\n",
       "      <th>27</th>\n",
       "      <th>28</th>\n",
       "      <th>29</th>\n",
       "      <th>30</th>\n",
       "      <th>31</th>\n",
       "      <th>32</th>\n",
       "      <th>33</th>\n",
       "      <th>34</th>\n",
       "      <th>35</th>\n",
       "      <th>36</th>\n",
       "      <th>37</th>\n",
       "      <th>38</th>\n",
       "      <th>39</th>\n",
       "      <th>40</th>\n",
       "      <th>41</th>\n",
       "      <th>42</th>\n",
       "      <th>43</th>\n",
       "      <th>44</th>\n",
       "      <th>45</th>\n",
       "      <th>46</th>\n",
       "      <th>47</th>\n",
       "      <th>48</th>\n",
       "      <th>49</th>\n",
       "    </tr>\n",
       "  </thead>\n",
       "  <tbody>\n",
       "    <tr>\n",
       "      <th>Таблица</th>\n",
       "      <td>0.317</td>\n",
       "      <td>0.324</td>\n",
       "      <td>2.047</td>\n",
       "      <td>0.919</td>\n",
       "      <td>0.472</td>\n",
       "      <td>0.355</td>\n",
       "      <td>4.183</td>\n",
       "      <td>1.342</td>\n",
       "      <td>1.291</td>\n",
       "      <td>0.562</td>\n",
       "      <td>0.006</td>\n",
       "      <td>1.971</td>\n",
       "      <td>0.316</td>\n",
       "      <td>0.175</td>\n",
       "      <td>0.321</td>\n",
       "      <td>0.371</td>\n",
       "      <td>0.233</td>\n",
       "      <td>0.111</td>\n",
       "      <td>0.399</td>\n",
       "      <td>0.466</td>\n",
       "      <td>0.213</td>\n",
       "      <td>2.522</td>\n",
       "      <td>0.839</td>\n",
       "      <td>2.331</td>\n",
       "      <td>0.028</td>\n",
       "      <td>0.777</td>\n",
       "      <td>0.716</td>\n",
       "      <td>2.668</td>\n",
       "      <td>0.312</td>\n",
       "      <td>0.01</td>\n",
       "      <td>4.114</td>\n",
       "      <td>2.24</td>\n",
       "      <td>2.813</td>\n",
       "      <td>2.298</td>\n",
       "      <td>0.356</td>\n",
       "      <td>2.151</td>\n",
       "      <td>0.412</td>\n",
       "      <td>0.11</td>\n",
       "      <td>0.333</td>\n",
       "      <td>0.051</td>\n",
       "      <td>0.908</td>\n",
       "      <td>0.714</td>\n",
       "      <td>1.186</td>\n",
       "      <td>0.044</td>\n",
       "      <td>0.678</td>\n",
       "      <td>1.726</td>\n",
       "      <td>0.5</td>\n",
       "      <td>0.169</td>\n",
       "      <td>1.133</td>\n",
       "      <td>0.774</td>\n",
       "    </tr>\n",
       "  </tbody>\n",
       "</table>\n",
       "</div>"
      ],
      "text/plain": [
       "            0      1      2      3      4      5      6      7      8      9   \\\n",
       "Таблица  0.317  0.324  2.047  0.919  0.472  0.355  4.183  1.342  1.291  0.562   \n",
       "\n",
       "            10     11     12     13     14     15     16     17     18     19  \\\n",
       "Таблица  0.006  1.971  0.316  0.175  0.321  0.371  0.233  0.111  0.399  0.466   \n",
       "\n",
       "            20     21     22     23     24     25     26     27     28    29  \\\n",
       "Таблица  0.213  2.522  0.839  2.331  0.028  0.777  0.716  2.668  0.312  0.01   \n",
       "\n",
       "            30    31     32     33     34     35     36    37     38     39  \\\n",
       "Таблица  4.114  2.24  2.813  2.298  0.356  2.151  0.412  0.11  0.333  0.051   \n",
       "\n",
       "            40     41     42     43     44     45   46     47     48     49  \n",
       "Таблица  0.908  0.714  1.186  0.044  0.678  1.726  0.5  0.169  1.133  0.774  "
      ]
     },
     "execution_count": 25,
     "metadata": {},
     "output_type": "execute_result"
    }
   ],
   "source": [
    "values = [0.317, 0.324, 2.047, 0.919, 0.472, 0.355, 4.183, 1.342, 1.291, 0.562, 0.006, 1.971, 0.316, 0.175, 0.321, 0.371, 0.233, 0.111, 0.399, 0.466, 0.213,\n",
    "2.522, 0.839, 2.331, 0.028, 0.777, 0.716, 2.668, 0.312, 0.010, 4.114, 2.240, 2.813, 2.298, 0.356, 2.151, 0.412, 0.110, 0.333, 0.051, 0.908, 0.714,\n",
    "1.186, 0.044, 0.678, 1.726, 0.500, 0.169, 1.133, 0.774]\n",
    "table_two={'Таблица': values}\n",
    "df2=pd.DataFrame(table_two)\n",
    "N=len(df2)\n",
    "df2.head(N).T"
   ]
  },
  {
   "cell_type": "markdown",
   "id": "e4b912d3-3dd1-4353-9b6d-1f54775e76cd",
   "metadata": {},
   "source": [
    "#### a) Построить вариационный ряд, эмпирическую функцию распределения, гистограмму и полигон частот с шагом h."
   ]
  },
  {
   "cell_type": "code",
   "execution_count": 26,
   "id": "a451fe7c-bac4-4cbc-9ebb-c6a05a7dc2b2",
   "metadata": {},
   "outputs": [
    {
     "data": {
      "text/html": [
       "<div>\n",
       "<style scoped>\n",
       "    .dataframe tbody tr th:only-of-type {\n",
       "        vertical-align: middle;\n",
       "    }\n",
       "\n",
       "    .dataframe tbody tr th {\n",
       "        vertical-align: top;\n",
       "    }\n",
       "\n",
       "    .dataframe thead th {\n",
       "        text-align: right;\n",
       "    }\n",
       "</style>\n",
       "<table border=\"1\" class=\"dataframe\">\n",
       "  <thead>\n",
       "    <tr style=\"text-align: right;\">\n",
       "      <th></th>\n",
       "      <th>10</th>\n",
       "      <th>29</th>\n",
       "      <th>24</th>\n",
       "      <th>43</th>\n",
       "      <th>39</th>\n",
       "      <th>37</th>\n",
       "      <th>17</th>\n",
       "      <th>47</th>\n",
       "      <th>13</th>\n",
       "      <th>20</th>\n",
       "      <th>16</th>\n",
       "      <th>28</th>\n",
       "      <th>12</th>\n",
       "      <th>0</th>\n",
       "      <th>14</th>\n",
       "      <th>1</th>\n",
       "      <th>38</th>\n",
       "      <th>5</th>\n",
       "      <th>34</th>\n",
       "      <th>15</th>\n",
       "      <th>18</th>\n",
       "      <th>36</th>\n",
       "      <th>19</th>\n",
       "      <th>4</th>\n",
       "      <th>46</th>\n",
       "      <th>9</th>\n",
       "      <th>44</th>\n",
       "      <th>41</th>\n",
       "      <th>26</th>\n",
       "      <th>49</th>\n",
       "      <th>25</th>\n",
       "      <th>22</th>\n",
       "      <th>40</th>\n",
       "      <th>3</th>\n",
       "      <th>48</th>\n",
       "      <th>42</th>\n",
       "      <th>8</th>\n",
       "      <th>7</th>\n",
       "      <th>45</th>\n",
       "      <th>11</th>\n",
       "      <th>2</th>\n",
       "      <th>35</th>\n",
       "      <th>31</th>\n",
       "      <th>33</th>\n",
       "      <th>23</th>\n",
       "      <th>21</th>\n",
       "      <th>27</th>\n",
       "      <th>32</th>\n",
       "      <th>30</th>\n",
       "      <th>6</th>\n",
       "    </tr>\n",
       "  </thead>\n",
       "  <tbody>\n",
       "    <tr>\n",
       "      <th>Вариационный ряд:</th>\n",
       "      <td>0.006</td>\n",
       "      <td>0.01</td>\n",
       "      <td>0.028</td>\n",
       "      <td>0.044</td>\n",
       "      <td>0.051</td>\n",
       "      <td>0.11</td>\n",
       "      <td>0.111</td>\n",
       "      <td>0.169</td>\n",
       "      <td>0.175</td>\n",
       "      <td>0.213</td>\n",
       "      <td>0.233</td>\n",
       "      <td>0.312</td>\n",
       "      <td>0.316</td>\n",
       "      <td>0.317</td>\n",
       "      <td>0.321</td>\n",
       "      <td>0.324</td>\n",
       "      <td>0.333</td>\n",
       "      <td>0.355</td>\n",
       "      <td>0.356</td>\n",
       "      <td>0.371</td>\n",
       "      <td>0.399</td>\n",
       "      <td>0.412</td>\n",
       "      <td>0.466</td>\n",
       "      <td>0.472</td>\n",
       "      <td>0.5</td>\n",
       "      <td>0.562</td>\n",
       "      <td>0.678</td>\n",
       "      <td>0.714</td>\n",
       "      <td>0.716</td>\n",
       "      <td>0.774</td>\n",
       "      <td>0.777</td>\n",
       "      <td>0.839</td>\n",
       "      <td>0.908</td>\n",
       "      <td>0.919</td>\n",
       "      <td>1.133</td>\n",
       "      <td>1.186</td>\n",
       "      <td>1.291</td>\n",
       "      <td>1.342</td>\n",
       "      <td>1.726</td>\n",
       "      <td>1.971</td>\n",
       "      <td>2.047</td>\n",
       "      <td>2.151</td>\n",
       "      <td>2.24</td>\n",
       "      <td>2.298</td>\n",
       "      <td>2.331</td>\n",
       "      <td>2.522</td>\n",
       "      <td>2.668</td>\n",
       "      <td>2.813</td>\n",
       "      <td>4.114</td>\n",
       "      <td>4.183</td>\n",
       "    </tr>\n",
       "  </tbody>\n",
       "</table>\n",
       "</div>"
      ],
      "text/plain": [
       "                      10    29     24     43     39    37     17     47  \\\n",
       "Вариационный ряд:  0.006  0.01  0.028  0.044  0.051  0.11  0.111  0.169   \n",
       "\n",
       "                      13     20     16     28     12     0      14     1   \\\n",
       "Вариационный ряд:  0.175  0.213  0.233  0.312  0.316  0.317  0.321  0.324   \n",
       "\n",
       "                      38     5      34     15     18     36     19     4   \\\n",
       "Вариационный ряд:  0.333  0.355  0.356  0.371  0.399  0.412  0.466  0.472   \n",
       "\n",
       "                    46     9      44     41     26     49     25     22  \\\n",
       "Вариационный ряд:  0.5  0.562  0.678  0.714  0.716  0.774  0.777  0.839   \n",
       "\n",
       "                      40     3      48     42     8      7      45     11  \\\n",
       "Вариационный ряд:  0.908  0.919  1.133  1.186  1.291  1.342  1.726  1.971   \n",
       "\n",
       "                      2      35    31     33     23     21     27     32  \\\n",
       "Вариационный ряд:  2.047  2.151  2.24  2.298  2.331  2.522  2.668  2.813   \n",
       "\n",
       "                      30     6   \n",
       "Вариационный ряд:  4.114  4.183  "
      ]
     },
     "execution_count": 26,
     "metadata": {},
     "output_type": "execute_result"
    }
   ],
   "source": [
    "sorted2 = df2.sort_values(by=\"Таблица\")\n",
    "sorted2.columns=[\"Вариационный ряд:\"]\n",
    "sorted2.head(N).T"
   ]
  },
  {
   "cell_type": "code",
   "execution_count": 27,
   "id": "4532a8e5-716f-48a3-aa0a-9cbb93ec7b8c",
   "metadata": {},
   "outputs": [],
   "source": [
    "x_unique2 = df2.Таблица.unique()#уникальные значения x\n",
    "x_unique2 = np.sort(x_unique2) # \n",
    "freq_x2 = df2.value_counts().sort_index() # частота вхождений (series)\n",
    "freq_x2 =  freq_x2.rename_axis('')\n",
    "# вероятность вхождения\n",
    "p_i2=[]\n",
    "for i in freq_x2:\n",
    "   p_i2.append(i/N) "
   ]
  },
  {
   "cell_type": "code",
   "execution_count": 28,
   "id": "816fa5ac-6c29-4cf7-851b-0cb852f95432",
   "metadata": {},
   "outputs": [
    {
     "name": "stdout",
     "output_type": "stream",
     "text": [
      "[0.006, 0.406)                 21\n",
      "[0.406, 0.806)                 10\n",
      "[0.806, 1.2060000000000002)     5\n",
      "[1.2060000000000002, 1.606)     2\n",
      "[1.606, 2.006)                  2\n",
      "[2.006, 2.406)                  5\n",
      "[2.406, 2.806)                  2\n",
      "[2.806, 3.206)                  1\n",
      "[3.206, 3.606)                  0\n",
      "[3.606, 4.006)                  0\n",
      "[4.006, 4.406000000000001)      2\n",
      "Name: count, dtype: int64\n"
     ]
    }
   ],
   "source": [
    "xmax = max(x_unique2)\n",
    "xmin = min(x_unique2)\n",
    "h=0.4\n",
    "view_inter = pd.DataFrame()\n",
    "bin_edges = pd.interval_range(start=xmin,\n",
    "                  freq=h,\n",
    "                  end=xmax+h,\n",
    "                  closed='left'\n",
    "                  )\n",
    "view_inter['interval'] = pd.cut(x_unique2, bins = bin_edges)\n",
    "print(view_inter['interval'].value_counts(bins= bin_edges,sort=False))"
   ]
  },
  {
   "cell_type": "code",
   "execution_count": 29,
   "id": "530126aa-a7d8-4d77-b3a0-1bc395cdbacc",
   "metadata": {},
   "outputs": [
    {
     "data": {
      "image/png": "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",
      "text/plain": [
       "<Figure size 640x480 with 1 Axes>"
      ]
     },
     "metadata": {},
     "output_type": "display_data"
    }
   ],
   "source": [
    "\n",
    "hist, bin_edges = np.histogram(x_unique2, bins=np.arange(xmin, xmax + h, h))\n",
    "density = hist / N\n",
    "plt.bar(bin_edges [:-1], density,  align='edge', width = h,edgecolor ='black')\n",
    "plt.title('Гистограмма и полигон частот')\n",
    "\n",
    "# Расчет центров интервалов для размещения точек\n",
    "bin_centers = 0.5 * (bin_edges[1:] + bin_edges[:-1])\n",
    "plt.plot(bin_centers, density, linestyle='-', marker='o', color='orange')\n",
    "plt.xlabel('xi')\n",
    "plt.ylabel('pi')\n",
    "plt.show()\n"
   ]
  },
  {
   "cell_type": "code",
   "execution_count": 30,
   "id": "234a3f9a-a631-49b1-832c-ebd69d39b853",
   "metadata": {},
   "outputs": [
    {
     "name": "stdout",
     "output_type": "stream",
     "text": [
      "Эмпирическая функция распределения:\n"
     ]
    },
    {
     "data": {
      "text/html": [
       "<div>\n",
       "<style scoped>\n",
       "    .dataframe tbody tr th:only-of-type {\n",
       "        vertical-align: middle;\n",
       "    }\n",
       "\n",
       "    .dataframe tbody tr th {\n",
       "        vertical-align: top;\n",
       "    }\n",
       "\n",
       "    .dataframe thead th {\n",
       "        text-align: right;\n",
       "    }\n",
       "</style>\n",
       "<table border=\"1\" class=\"dataframe\">\n",
       "  <thead>\n",
       "    <tr style=\"text-align: right;\">\n",
       "      <th>xi</th>\n",
       "      <th>0.006</th>\n",
       "      <th>0.010</th>\n",
       "      <th>0.028</th>\n",
       "      <th>0.044</th>\n",
       "      <th>0.051</th>\n",
       "      <th>0.110</th>\n",
       "      <th>0.111</th>\n",
       "      <th>0.169</th>\n",
       "      <th>0.175</th>\n",
       "      <th>0.213</th>\n",
       "      <th>0.233</th>\n",
       "      <th>0.312</th>\n",
       "      <th>0.316</th>\n",
       "      <th>0.317</th>\n",
       "      <th>0.321</th>\n",
       "      <th>0.324</th>\n",
       "      <th>0.333</th>\n",
       "      <th>0.355</th>\n",
       "      <th>0.356</th>\n",
       "      <th>0.371</th>\n",
       "      <th>0.399</th>\n",
       "      <th>0.412</th>\n",
       "      <th>0.466</th>\n",
       "      <th>0.472</th>\n",
       "      <th>0.500</th>\n",
       "      <th>0.562</th>\n",
       "      <th>0.678</th>\n",
       "      <th>0.714</th>\n",
       "      <th>0.716</th>\n",
       "      <th>0.774</th>\n",
       "      <th>0.777</th>\n",
       "      <th>0.839</th>\n",
       "      <th>0.908</th>\n",
       "      <th>0.919</th>\n",
       "      <th>1.133</th>\n",
       "      <th>1.186</th>\n",
       "      <th>1.291</th>\n",
       "      <th>1.342</th>\n",
       "      <th>1.726</th>\n",
       "      <th>1.971</th>\n",
       "      <th>2.047</th>\n",
       "      <th>2.151</th>\n",
       "      <th>2.240</th>\n",
       "      <th>2.298</th>\n",
       "      <th>2.331</th>\n",
       "      <th>2.522</th>\n",
       "      <th>2.668</th>\n",
       "      <th>2.813</th>\n",
       "      <th>4.114</th>\n",
       "      <th>4.183</th>\n",
       "    </tr>\n",
       "  </thead>\n",
       "  <tbody>\n",
       "    <tr>\n",
       "      <th>F(x)</th>\n",
       "      <td>0.0</td>\n",
       "      <td>0.02</td>\n",
       "      <td>0.04</td>\n",
       "      <td>0.06</td>\n",
       "      <td>0.08</td>\n",
       "      <td>0.1</td>\n",
       "      <td>0.12</td>\n",
       "      <td>0.14</td>\n",
       "      <td>0.16</td>\n",
       "      <td>0.18</td>\n",
       "      <td>0.2</td>\n",
       "      <td>0.22</td>\n",
       "      <td>0.24</td>\n",
       "      <td>0.26</td>\n",
       "      <td>0.28</td>\n",
       "      <td>0.3</td>\n",
       "      <td>0.32</td>\n",
       "      <td>0.34</td>\n",
       "      <td>0.36</td>\n",
       "      <td>0.38</td>\n",
       "      <td>0.4</td>\n",
       "      <td>0.42</td>\n",
       "      <td>0.44</td>\n",
       "      <td>0.46</td>\n",
       "      <td>0.48</td>\n",
       "      <td>0.5</td>\n",
       "      <td>0.52</td>\n",
       "      <td>0.54</td>\n",
       "      <td>0.56</td>\n",
       "      <td>0.58</td>\n",
       "      <td>0.6</td>\n",
       "      <td>0.62</td>\n",
       "      <td>0.64</td>\n",
       "      <td>0.66</td>\n",
       "      <td>0.68</td>\n",
       "      <td>0.7</td>\n",
       "      <td>0.72</td>\n",
       "      <td>0.74</td>\n",
       "      <td>0.76</td>\n",
       "      <td>0.78</td>\n",
       "      <td>0.8</td>\n",
       "      <td>0.82</td>\n",
       "      <td>0.84</td>\n",
       "      <td>0.86</td>\n",
       "      <td>0.88</td>\n",
       "      <td>0.9</td>\n",
       "      <td>0.92</td>\n",
       "      <td>0.94</td>\n",
       "      <td>0.96</td>\n",
       "      <td>0.98</td>\n",
       "    </tr>\n",
       "  </tbody>\n",
       "</table>\n",
       "</div>"
      ],
      "text/plain": [
       "xi    0.006  0.010  0.028  0.044  0.051  0.110  0.111  0.169  0.175  0.213  \\\n",
       "F(x)    0.0   0.02   0.04   0.06   0.08    0.1   0.12   0.14   0.16   0.18   \n",
       "\n",
       "xi    0.233  0.312  0.316  0.317  0.321  0.324  0.333  0.355  0.356  0.371  \\\n",
       "F(x)    0.2   0.22   0.24   0.26   0.28    0.3   0.32   0.34   0.36   0.38   \n",
       "\n",
       "xi    0.399  0.412  0.466  0.472  0.500  0.562  0.678  0.714  0.716  0.774  \\\n",
       "F(x)    0.4   0.42   0.44   0.46   0.48    0.5   0.52   0.54   0.56   0.58   \n",
       "\n",
       "xi    0.777  0.839  0.908  0.919  1.133  1.186  1.291  1.342  1.726  1.971  \\\n",
       "F(x)    0.6   0.62   0.64   0.66   0.68    0.7   0.72   0.74   0.76   0.78   \n",
       "\n",
       "xi    2.047  2.151  2.240  2.298  2.331  2.522  2.668  2.813  4.114  4.183  \n",
       "F(x)    0.8   0.82   0.84   0.86   0.88    0.9   0.92   0.94   0.96   0.98  "
      ]
     },
     "execution_count": 30,
     "metadata": {},
     "output_type": "execute_result"
    }
   ],
   "source": [
    "# эмпирическая функция распределения\n",
    "F_x2=[]\n",
    "ans=0\n",
    "sum=0\n",
    "for i in freq_x2:\n",
    "    F_x2.append(ans)\n",
    "    sum+=i\n",
    "    ans=sum/N\n",
    "    #sum+=freq_x.get(key=i)\n",
    "print(\"Эмпирическая функция распределения:\")\n",
    "Fn_table = pd.DataFrame(\n",
    "    {\n",
    "        \"F(x)\": F_x2,\n",
    "        \"xi\": x_unique2\n",
    "    }\n",
    ").set_index(\"xi\")\n",
    "\n",
    "Fn_table.T"
   ]
  },
  {
   "cell_type": "code",
   "execution_count": 31,
   "id": "fde64755-9f3a-4c01-ada8-17e14de719ec",
   "metadata": {},
   "outputs": [
    {
     "data": {
      "image/png": "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",
      "text/plain": [
       "<Figure size 640x480 with 1 Axes>"
      ]
     },
     "metadata": {},
     "output_type": "display_data"
    }
   ],
   "source": [
    "x = x_unique2\n",
    "y = F_x2\n",
    "plt.step(x, y, where='post', color = 'green')\n",
    "plt.grid()\n",
    "plt.title('График эмпирической функции распределения')\n",
    "plt.xlabel('x')\n",
    "plt.ylabel('F(x)')\n",
    "plt.show()"
   ]
  },
  {
   "cell_type": "markdown",
   "id": "519f65c3-76f9-4c26-8a54-bfa71d56ed1d",
   "metadata": {
    "jp-MarkdownHeadingCollapsed": true
   },
   "source": [
    "#### b) Вычислить выборочные аналоги следующих числовых характеристик: (i) математического ожидания; (ii) дисперсии; (iii) СКО; (iv) медианы; (v) асимметрии; (vi) эксцесса; (vii) вероятности $\\mathbb{P}(X \\in [a,b])$."
   ]
  },
  {
   "cell_type": "code",
   "execution_count": 32,
   "id": "bab8a24f-629c-45a9-96f9-33f05f1b9bb3",
   "metadata": {},
   "outputs": [
    {
     "name": "stdout",
     "output_type": "stream",
     "text": [
      "Математическое ожидание:\n",
      "0.986\n",
      "Дисперсия:\n",
      "1.047\n",
      "СКО:\n",
      "1.023\n",
      "Медиана:\n",
      "0.531\n",
      "Коэффициент асимметрии:\n",
      "1.446\n",
      "Коэффициент эксцесса:\n",
      "1.507\n",
      "Вероятность P(x принадлежит [a,b]):\n",
      "0.76\n"
     ]
    }
   ],
   "source": [
    "# математическое ожидание\n",
    "#mean = round(np.mean(sorted.values),4)\n",
    "mean = sorted2.values.sum()/N\n",
    "print(\"Математическое ожидание:\")\n",
    "print(round(mean,3))\n",
    "# дисперсия\n",
    "S_x2 = np.power((sorted2.values - np.mean(sorted2.values)),2).sum()/N\n",
    "print(\"Дисперсия:\")\n",
    "print(round(S_x2,3))\n",
    "# СКО\n",
    "S_x = np.sqrt(S_x2)\n",
    "print(\"СКО:\")\n",
    "print(round(S_x,3))\n",
    "# медиана\n",
    "median = np.median(sorted2)\n",
    "print(\"Медиана:\")\n",
    "print(median)\n",
    "# асимметрия\n",
    "Skew_x = (np.power((sorted2.values - mean),3)).sum()/ (N * np.power(S_x,3))\n",
    "print(\"Коэффициент асимметрии:\")\n",
    "print(round(Skew_x,4))\n",
    "# эксцесс\n",
    "Kurt_x =  (np.power((sorted2.values - mean),4)).sum()/ (N * np.power(S_x,4)) - 3\n",
    "print(\"Коэффициент эксцесса:\")\n",
    "print(round(Kurt_x,4))\n",
    "# Вероятность P(x принадлежит [a,b])\n",
    "a=0\n",
    "b=1.6\n",
    "P_ab = 0\n",
    "for i in range(0, N):\n",
    "    if x_unique2[i]>=a and x_unique2[i]<=b:\n",
    "        P_ab += p_i2[i]\n",
    "print(\"Вероятность P(x принадлежит [a,b]):\")\n",
    "print(round(P_ab,3))"
   ]
  },
  {
   "cell_type": "markdown",
   "id": "ae961413-38c7-4441-8020-648589b7f3cb",
   "metadata": {
    "jp-MarkdownHeadingCollapsed": true
   },
   "source": [
    "#### c) В предположении, что исходные наблюдения являются выборкой из показательного распределения, построить оценку максимального правдоподобия параметра $\\lambda$, а также оценку $\\lambda$ по методу моментов. Найти смещение оценок."
   ]
  },
  {
   "cell_type": "markdown",
   "id": "38ae8958-3fac-4718-87c0-46f582ad7cb8",
   "metadata": {},
   "source": [
    "Функция плотности показательного распределения имеет вид: <br>\n",
    "$ \\mathbb{P}_\\lambda(\\xi=x) = \\left\\{\\begin{array}{l} \\lambda \\exp(-\\lambda x), x \\geq 0\\\\ 0, x < 0\\end{array}\\right.$\n",
    "1. ОМП <br>\n",
    "Напишем функцию правдоподобия:\n",
    "<br>\n",
    "$L(\\theta, \\vec{x})= \\prod\\limits_{i=1}^n  \\lambda \\exp(-\\lambda x_i) \\{x_i \\geq 0 \\} = \\lambda^n \\cdot \\exp(-\\lambda  \\sum\\limits_{i=1}^nx_i ) \\cdot  \\{x_{(1)} \\geq 0 \\}$ <br>\n",
    "Так как индикатор не зависит от параметра, можем отбросить его. Чтобы упростить вычисления, напишем логарифмическую функцию правдоподобия: <br>\n",
    "$LL(\\theta, \\vec{x})= n \\ln\\lambda - \\lambda \\sum\\limits_{i=1}^nx_i $ <br>\n",
    "Вычислим производную логарифмической функции правдоподобия по параметру $\\lambda$: <br>\n",
    "$\\frac{\\partial LL(\\theta, \\vec{x})}{\\partial \\lambda} = \\frac{n}{\\lambda} -  \\sum\\limits_{i=1}^nx_i$ <br>\n",
    "Приравниваем производную к 0 и вычисляем $\\lambda$: <br>\n",
    "$\\frac{n}{\\lambda} -  \\sum\\limits_{i=1}^nx_i = 0$ <br>\n",
    "$\\hat{\\lambda}=\\frac{n}{\\sum\\limits_{i=1}^nx_i} = \\frac{1}{\\overline{x}} $ <br>\n",
    "$\\hat\\theta = \\hat{\\lambda}= \\frac{1}{\\overline{x}}$ - ОМП <br>"
   ]
  },
  {
   "cell_type": "code",
   "execution_count": 33,
   "id": "b1094971-3894-4c81-91ad-f3ce58391322",
   "metadata": {},
   "outputs": [
    {
     "name": "stdout",
     "output_type": "stream",
     "text": [
      "Оценка максимального правдоподобия: 1.014\n"
     ]
    }
   ],
   "source": [
    "print(\"Оценка максимального правдоподобия:\", round(1/mean, 3))"
   ]
  },
  {
   "cell_type": "markdown",
   "id": "7bb95acc-571a-4dcb-99cd-5c24ba14e1ca",
   "metadata": {},
   "source": [
    "2. ОММ <br>\n",
    "$ \\mathbb{E}{X_1} = \\frac{1}{ \\lambda}$ <br>\n",
    "$M_1 = \\overline{x} $ <br>\n",
    " $\\frac{1}{\\lambda} = \\overline{x} $ <br>\n",
    "$\\widetilde{\\theta} = \\widetilde{\\lambda} = \\frac{1}{\\overline{x}}$ - ОММ <br>"
   ]
  },
  {
   "cell_type": "code",
   "execution_count": 34,
   "id": "f1faf4cb-17b1-4ae0-ab06-89f2a6ca2e8d",
   "metadata": {},
   "outputs": [
    {
     "name": "stdout",
     "output_type": "stream",
     "text": [
      "Оценка по методу моментов: 1.014\n"
     ]
    }
   ],
   "source": [
    "print(\"Оценка по методу моментов:\", round(1/mean, 3))"
   ]
  },
  {
   "cell_type": "markdown",
   "id": "feaca5dc-821f-4d53-b232-da7649fd6a82",
   "metadata": {},
   "source": [
    "3. НРМД <br>\n",
    "$L(\\theta, \\vec{x})=  \\lambda^n \\cdot \\exp(-\\lambda  \\sum\\limits_{i=1}^nx_i ) \\cdot  \\{x_{(1)} \\geq 0 \\} $ <br> \n",
    "$g(T) = \\lambda^n \\cdot \\exp(-\\lambda  \\sum\\limits_{i=1}^nx_i )  $ <br>\n",
    "$h(x) = \\{x_{(1)} \\geq 0 \\} $ <br>\n",
    "$ T=\\sum\\limits_{i=1}^n x_i$  - МДС. Так как показательное распределение принадлежит экспоненциальному семейству, то $T$ - ПДС <br>\n",
    "$\\mathbb{E}_\\theta \\hat{\\theta} = \\mathbb{E}_\\theta  \\frac{1}{\\overline{x}} = \\mathbb{E}_\\theta \\frac{n}{\\sum\\limits_{i=1}^nx_i} = n \\mathbb{E}_\\theta \\left(\\sum\\limits_{i=1}^nx_i\\right)^{-1} = \\begin{bmatrix}\\gamma=-1\\\\\\alpha = n \\\\ \\beta = \\frac{1}{\\lambda}\\end{bmatrix} = n \\cdot \\lambda \\cdot \\frac{\\Gamma(n-1)}{\\Gamma(n)} = n \\cdot \\lambda \\cdot \\frac{\\Gamma(n-1)}{(n-1)\\Gamma(n-1)} = \\frac{n}{n-1} \\lambda$  - смещенная оценка <br>\n",
    "$\\widetilde{\\theta} = \\frac{n-1}{n}\\hat{\\theta}$  <br>\n",
    "$\\mathbb{E}_\\theta \\widetilde{\\theta} = \\mathbb{E}_\\theta \\frac{n-1}{n}\\hat{\\theta} = \\frac{n-1}{n} \\frac{n}{n-1} \\lambda = \\lambda  $ - НРМД <br>"
   ]
  },
  {
   "cell_type": "markdown",
   "id": "59c7b976-d154-46cb-a76c-9929871fb643",
   "metadata": {
    "jp-MarkdownHeadingCollapsed": true
   },
   "source": [
    "#### d) Построить асимптотический доверительный интервал уровня значимости $\\alpha_2$ для параметра $\\lambda$ на базе оценки максимального правдоподобия."
   ]
  },
  {
   "cell_type": "markdown",
   "id": "a28d21b0-0023-4e24-8869-c62828e05bdb",
   "metadata": {},
   "source": [
    "Построение АДИ на базе ОМП: <br>\n",
    "$\\theta = \\lambda \\Rightarrow \\hat\\theta = \\overline{x}$ <br>\n",
    "$\\sqrt{n}\\left( \\widehat{\\theta}(\\vec{x})-\\theta \\right)\\sim \\mathcal{N}\\left( 0, \\frac{1}{I(\\theta)} \\right)$<br>\n",
    "$I(\\theta) = \\lim\\limits_{n\\to\\infty}{\\frac{I_n(\\theta)}{n}}$ <br>\n",
    "$I_n(\\theta) = -\\mathbb{E}_\\theta\\frac{\\partial^2{LL}}{\\partial\\theta^2} $ <br>\n",
    "Из предыдущего пункта мы нашли: <br>\n",
    "$\\frac{\\partial LL(\\theta, \\vec{x})}{\\partial \\lambda} = \\frac{n}{\\lambda} -  \\sum\\limits_{i=1}^nx_i $ <br>\n",
    "Тогда: <br>\n",
    "$\\frac{\\partial^2 LL(\\theta, \\vec{x})}{\\partial \\lambda^2} =-\\frac{n}{\\lambda^2}  $ <br>\n",
    "$I_n(\\lambda) =  - \\mathbb{E}{\\left(-\\frac{n}{\\lambda^2} \\right)} = \\frac{n}{\\lambda^2}  $ <br>\n",
    "$I(\\lambda) = \\lim\\limits_{n\\to\\infty}{\\frac{\\frac{n}{\\lambda^2} }{n}} = \\frac{1}{\\lambda^2} $ <br>\n",
    "Выбираем: <br>\n",
    "$x_\\alpha: \\Phi(x_\\alpha)=1-\\frac{\\alpha}{2}= 1-\\frac{0.02}{2} = 0.99 \\Rightarrow x_{0.99} = 2.33 $<br> \n",
    "Асимптотический доверительный интервал: <br>\n",
    "$\\left[\\frac{1}{\\overline{x}}- \\frac{x_{0.99}}{\\sqrt{n \\overline{x}^2  }},\\frac{1}{\\overline{x}} + \\frac{x_{0.99}}{\\sqrt{n \\overline{x}^2  }} \\right] \\ni \\lambda$ <br>\n",
    "$ 0.680 \\leq \\lambda \\leq 1.348 $"
   ]
  },
  {
   "cell_type": "code",
   "execution_count": 35,
   "id": "a32efd88-01ef-4583-b73e-ebd39b21bc38",
   "metadata": {},
   "outputs": [
    {
     "name": "stdout",
     "output_type": "stream",
     "text": [
      "Асимптотический доверительный интервал:\n",
      "Лямбда принадлежит интервалу от 0.68 до 1.348\n"
     ]
    }
   ],
   "source": [
    "alpha = 0.02\n",
    "x_a = stats.norm.ppf(1-alpha/2)\n",
    "left = 1/mean - x_a/(np.power(N*mean*mean,0.5))\n",
    "right =1/mean + x_a/(np.power(N*mean*mean,0.5))\n",
    "print(\"Асимптотический доверительный интервал:\")\n",
    "print(\"Лямбда принадлежит интервалу от\", round(left,3), \"до\", round(right,3))"
   ]
  },
  {
   "cell_type": "markdown",
   "id": "f0f0067a-e37c-4510-a1d3-5bf220bfee86",
   "metadata": {},
   "source": [
    "Построение АДИ на базе асимптотически нормальной оценки: <br>\n",
    " Асимптотическая нормальность: <br>\n",
    " $ \\sqrt{n}(\\hat\\theta(\\vec{x}) - \\theta) \\sim  \\mathcal{N}(0, \\sigma^2(\\theta))$ <br>\n",
    " Тогда: <br>\n",
    " $ \\sqrt{n} \\frac{\\frac{1}{\\overline{x}} - \\lambda}{ \\sqrt{\\overline{x}^2}} \\sim \\mathcal{N}(0,1) $ <br>\n",
    " Выбираем: <br>\n",
    "$x_\\alpha: \\Phi(x_\\alpha)=1-\\frac{\\alpha}{2}= 1-\\frac{0.02}{2} = 0.99 \\Rightarrow x_{0.99} = 2.33 $<br> \n",
    "Асимптотический доверительный интервал: <br>\n",
    "$\\left[\\frac{1}{\\overline{x}}- \\frac{x_{0.99} \\cdot \\overline{x} }{\\sqrt{n}},\\frac{1}{\\overline{x}} + \\frac{x_{0.99} \\cdot \\overline{x} }{\\sqrt{n  }} \\right] \\ni \\lambda$ <br>\n",
    "$ 0.690 \\leq \\lambda \\leq 1.338$"
   ]
  },
  {
   "cell_type": "code",
   "execution_count": 36,
   "id": "f330a3da-8c7b-4af8-92f8-d328a0b47696",
   "metadata": {},
   "outputs": [
    {
     "name": "stdout",
     "output_type": "stream",
     "text": [
      "Асимптотический доверительный интервал:\n",
      "Лямбда принадлежит интервалу от 0.69 до 1.338\n"
     ]
    }
   ],
   "source": [
    "alpha = 0.02\n",
    "x_a = stats.norm.ppf(1-alpha/2)\n",
    "left = 1/mean - x_a*mean/(np.power(N,0.5))\n",
    "right =1/mean + x_a*mean/(np.power(N,0.5))\n",
    "print(\"Асимптотический доверительный интервал:\")\n",
    "print(\"Лямбда принадлежит интервалу от\", round(left,3), \"до\", round(right,3))"
   ]
  },
  {
   "cell_type": "markdown",
   "id": "4e68e5e1-e3bb-49c8-bb22-babc06970273",
   "metadata": {
    "jp-MarkdownHeadingCollapsed": true
   },
   "source": [
    "#### e) С использованием теоремы Колмогорова построить критерий значимости проверки простой гипотезы согласия с показательным распределением с параметром $\\lambda_0$. Проверить гипотезу на уровне значимости $\\alpha_2$. Вычислить наибольшее значение уровня значимости, на котором еще нет оснований отвергнуть данную гипотезу."
   ]
  },
  {
   "cell_type": "code",
   "execution_count": 37,
   "id": "d4edc1a8-bd56-47b7-9957-0eb04a5efab9",
   "metadata": {},
   "outputs": [
    {
     "name": "stdout",
     "output_type": "stream",
     "text": [
      "Гипотеза отвергается: 5.306 > 1.517\n",
      "Наибольший уровень значимости:\n",
      "0.0\n"
     ]
    }
   ],
   "source": [
    "# эмпирическая функция распределения\n",
    "F_exp = F_x2\n",
    "# теоритическая функция показательно распределения\n",
    "lambd = 0.25\n",
    "def F(x):\n",
    "    return (1 - lambd*np.exp(-lambd*x))\n",
    "F_th = []\n",
    "dif = []\n",
    "for i in range(N):\n",
    "    F_th.append(F(x_unique2[i]))\n",
    "    #разность\n",
    "    dif.append(np.abs(F_exp[i] - F_th[i]))\n",
    "# D\n",
    "D = np.max(dif)*np.sqrt(N)\n",
    "# Расчет критического значения\n",
    "crit_value = stats.kstwobign.ppf(1-0.02)\n",
    "if D>crit_value:\n",
    "    print(\"Гипотеза отвергается:\", round(D,3),\">\", round(crit_value,3))\n",
    "else:\n",
    "     print(\"Гипотеза принимается:\",round(D,3),\"<\", round(crit_value,3))\n",
    "# Вычисляем p-значение (наибольший уровень значимости)\n",
    "p_value = 1 - stats.kstwobign.cdf(D) \n",
    "print(\"Наибольший уровень значимости:\")\n",
    "print(format(p_value,'.1f'))"
   ]
  },
  {
   "cell_type": "markdown",
   "id": "2ca7c1ca-d1e0-49f4-93f8-1fcd32f649e9",
   "metadata": {},
   "source": [
    "$\\sqrt{n}Dn = 5.306$ <br>\n",
    "Квантиль Колмогорова $d_{0.98} = 1.517$ <br>\n",
    "$5.306>1.517 \\Rightarrow $ гипотеза отвергается <br>\n",
    "Наибольшее значение уровня значимости, на котором еще нет оснований отвергнуть данную гипотезу, близко к нулю."
   ]
  },
  {
   "cell_type": "markdown",
   "id": "0cdbb520-8d85-4369-9908-c5357f9bc3e3",
   "metadata": {
    "jp-MarkdownHeadingCollapsed": true
   },
   "source": [
    "#### f) Используя гистограмму частот, построить критерий значимости $\\chi^2$ проверки простой гипотезы согласия с показательным распределением с параметром $\\lambda_0$. Проверить гипотезу на уровне значимости $\\alpha_2$. Вычислить наибольшее значение уровня значимости, на котором еще нет оснований отвергнуть данную гипотезу."
   ]
  },
  {
   "cell_type": "markdown",
   "id": "0d011904-11b9-4011-9b70-bb2707cb5a5b",
   "metadata": {},
   "source": [
    "$P_i = P_{H_0}(a < \\xi < b) = \\exp(-\\lambda_0 a) - \\exp(-\\lambda_0 b) $ <br>\n",
    "$\\lambda_0 = 0.25 $ <br>\n",
    "$I_1 = [0.006,0.406) $ <br>\n",
    "$n_1 =21 $ <br>\n",
    "$P_1 = \\exp(-0.25 \\cdot  0.006) - \\exp(-0.25 \\cdot 0.406) = 0.095 $ <br>\n",
    "$nP_1 = 4.751  $ <br>\n",
    "\n",
    "$I_2 = [0.406,0.806)$ <br>\n",
    "$n_2 = 10 $ <br>\n",
    "$P_2 = \\exp(-0.25 \\cdot  0.406) - \\exp(-0.25 \\cdot 0.806) = 0.086 $<br>\n",
    "$nP_2 = 4.299 $ <br>\n",
    "\n",
    "$I_3 = [0.806,1.606)$ <br>\n",
    "$n_3 = 7 $ <br>\n",
    "$P_3 = \\exp(-0.25 \\cdot  0.806) - \\exp(-0.25 \\cdot 1.606) = 0.148$ <br>\n",
    "$nP_3 = 7.409 $ <br>\n",
    "\n",
    "$I_4 = [1.606,4.406)$ <br>\n",
    "$n_4 =  12 $ <br>\n",
    "$P_4 =  \\exp(-0.25 \\cdot  1.606) - \\exp(-0.25 \\cdot 4.406) = 0.337$ <br>\n",
    "$nP_4 = 16.847$ <br>\n",
    "\n",
    " Критерий $\\chi^2: \\chi^2_{набл} = \\sum\\limits_{i=1}^4 \\frac{(n_i - nP_i)^2}{nP_i} = 64.552$ <br>\n",
    " Найдем квантиль распределения $\\chi^2_{1-\\alpha,r-1}$: <br>\n",
    " $\\chi^2_{1-0.02,4-1} = 9.837 $ <br>\n",
    " $ \\chi^2 > \\chi^2_{0.98,3} \\Rightarrow $  Отвергаем основную гипотезу $H_0$ <br>\n",
    " Наибольшее значение уровня значимости, на котором еще нет оснований отвергнуть гипотезу близко к нулю. "
   ]
  },
  {
   "cell_type": "code",
   "execution_count": 53,
   "id": "03a66ea8-48ba-41f2-803b-289d9b5e120e",
   "metadata": {},
   "outputs": [
    {
     "name": "stdout",
     "output_type": "stream",
     "text": [
      "Значение хи-квадрат:\n",
      "64.552\n",
      "Значение уровня значимости, на котором еще нет оснований отвергнуть гипотезу:\n",
      "0.0000000000000625\n"
     ]
    },
    {
     "data": {
      "text/html": [
       "<div>\n",
       "<style scoped>\n",
       "    .dataframe tbody tr th:only-of-type {\n",
       "        vertical-align: middle;\n",
       "    }\n",
       "\n",
       "    .dataframe tbody tr th {\n",
       "        vertical-align: top;\n",
       "    }\n",
       "\n",
       "    .dataframe thead th {\n",
       "        text-align: right;\n",
       "    }\n",
       "</style>\n",
       "<table border=\"1\" class=\"dataframe\">\n",
       "  <thead>\n",
       "    <tr style=\"text-align: right;\">\n",
       "      <th></th>\n",
       "      <th>0</th>\n",
       "      <th>1</th>\n",
       "      <th>2</th>\n",
       "      <th>3</th>\n",
       "    </tr>\n",
       "  </thead>\n",
       "  <tbody>\n",
       "    <tr>\n",
       "      <th>ni</th>\n",
       "      <td>21.000000</td>\n",
       "      <td>10.000000</td>\n",
       "      <td>7.000000</td>\n",
       "      <td>12.000000</td>\n",
       "    </tr>\n",
       "    <tr>\n",
       "      <th>Pi</th>\n",
       "      <td>0.095020</td>\n",
       "      <td>0.085978</td>\n",
       "      <td>0.148188</td>\n",
       "      <td>0.336943</td>\n",
       "    </tr>\n",
       "    <tr>\n",
       "      <th>nPi</th>\n",
       "      <td>4.750997</td>\n",
       "      <td>4.298880</td>\n",
       "      <td>7.409413</td>\n",
       "      <td>16.847158</td>\n",
       "    </tr>\n",
       "    <tr>\n",
       "      <th>xi^2</th>\n",
       "      <td>55.573615</td>\n",
       "      <td>7.560752</td>\n",
       "      <td>0.022622</td>\n",
       "      <td>1.394594</td>\n",
       "    </tr>\n",
       "  </tbody>\n",
       "</table>\n",
       "</div>"
      ],
      "text/plain": [
       "              0          1         2          3\n",
       "ni    21.000000  10.000000  7.000000  12.000000\n",
       "Pi     0.095020   0.085978  0.148188   0.336943\n",
       "nPi    4.750997   4.298880  7.409413  16.847158\n",
       "xi^2  55.573615   7.560752  0.022622   1.394594"
      ]
     },
     "execution_count": 53,
     "metadata": {},
     "output_type": "execute_result"
    }
   ],
   "source": [
    "lamb = 0.25\n",
    "n = 4\n",
    "arr = [[0.006, 0.406],[0.406, 0.806],[0.806, 1.606],[1.606, 4.406]] #интервалы\n",
    "freq = [21, 10, 7, 12]\n",
    "Pi = []\n",
    "nPi = []\n",
    "Xi = []\n",
    "def F(x):\n",
    "    return 1-np.exp(-lamb*x)\n",
    "for i in range(n):\n",
    "    Fx2 = F(arr[i][1])\n",
    "    Fx1 = F(arr[i][0])\n",
    "    res = Fx2-Fx1\n",
    "    Pi.append(round(res,20))\n",
    "    nPi.append(round(res*N,10))\n",
    "    Xi.append(((freq[i] - nPi[i])**2)/nPi[i])\n",
    "print(\"Значение хи-квадрат:\")\n",
    "print(round(np.sum(Xi),3))\n",
    "chisq = round(np.sum(Xi),3)  #получившийся хи-2\n",
    "dof = 3 # степень свободы\n",
    "p_value = 1 - stats.chi2.cdf(chisq, dof) # искомый уровень значимости\n",
    "print( \"Значение уровня значимости, на котором еще нет оснований отвергнуть гипотезу:\" )\n",
    "print(format(p_value,'.16f'))\n",
    "Xi_table = pd.DataFrame(\n",
    "    {\n",
    "        \"ni\": freq,\n",
    "        \"Pi\": Pi,\n",
    "        \"nPi\": nPi,\n",
    "        \"xi^2\": Xi\n",
    "    }\n",
    ")\n",
    "\n",
    "Xi_table.T"
   ]
  },
  {
   "cell_type": "markdown",
   "id": "3a9b508e-10c2-4301-82c8-7acfed7ff213",
   "metadata": {
    "jp-MarkdownHeadingCollapsed": true
   },
   "source": [
    "#### g) Построить критерий значимости $\\chi^2$ проверки сложной гипотезы согласия с показательным распределением. Проверить гипотезу на уровне значимости $\\alpha_2$. Вычислить наибольшее значение уровня значимости, на котором еще нет оснований отвергнуть данную гипотезу."
   ]
  },
  {
   "cell_type": "markdown",
   "id": "99f8f5ff-6142-432a-8683-b9afba6d803c",
   "metadata": {},
   "source": [
    "Ожидаемые частоты зависят от параметра. Возьмем за параметр ОМП $\\hat\\lambda =\\frac{1}{\\overline{x}}$ <br>\n",
    "$P_i = P_{H_0}(a < \\xi < b) = \\exp(-\\hat\\lambda a) - \\exp(-\\hat\\lambda b) $ <br>\n",
    "$\\hat\\lambda=1.014 $ <br>\n",
    "$I_1 = [0.006,0.406) $ <br>\n",
    "$n_1 =21 $ <br>\n",
    "$P_1 = \\exp(-1.014  \\cdot  0.006) - \\exp(-1.014  \\cdot 0.406) = 0.331 $ <br>\n",
    "$nP_1 = 16.57  $ <br>\n",
    "\n",
    "$I_2 = [0.406,0.806)$ <br>\n",
    "$n_2 = 10 $ <br>\n",
    "$P_2 = \\exp(-1.014  \\cdot  0.406) - \\exp(-1.014  \\cdot 0.806) = 0.221 $<br>\n",
    "$nP_2 = 11.045$ <br>\n",
    "\n",
    "$I_3 = [0.806,1.606)$ <br>\n",
    "$n_3 = 7 $ <br>\n",
    "$P_3 = \\exp(-1.014  \\cdot  0.806) - \\exp(-1.014  \\cdot 1.606) = 0.245$ <br>\n",
    "$nP_3 = 12.27 $ <br>\n",
    "\n",
    "$I_4 = [1.606,4.406)$ <br>\n",
    "$n_4 =  12 $ <br>\n",
    "$P_4 =  \\exp(-1.014  \\cdot  1.606) - \\exp(-1.014  \\cdot 4.406) = 0.185$ <br>\n",
    "$nP_4 = 9.238 $ <br>\n",
    "\n",
    " Критерий $\\chi^2: \\chi^2_{набл} = \\sum\\limits_{i=1}^4 \\frac{(n_i - nP_i)^2}{nP_i} = 4.37$ <br>\n",
    " Найдем квантиль распределения $\\chi^2_{1-\\alpha,r-1-1}$: <br>\n",
    " $\\chi^2_{1-0.02,4-1-1} = 7.824 $ <br>\n",
    " $ \\chi^2 < \\chi^2_{0.98,2} \\Rightarrow $  Принимаем основную гипотезу $H_0$ <br>\n",
    " Наибольшее значение уровня значимости, на котором еще нет оснований отвергнуть гипотезу $\\alpha = 0.11$ . "
   ]
  },
  {
   "cell_type": "code",
   "execution_count": 39,
   "id": "0f1fc52d-51b0-490e-8b4a-942fe59c1bdc",
   "metadata": {},
   "outputs": [
    {
     "name": "stdout",
     "output_type": "stream",
     "text": [
      "Значение хи-квадрат:\n",
      "4.37\n",
      "Значение уровня значимости, на котором еще нет оснований отвергнуть гипотезу:\n",
      "0.11\n"
     ]
    },
    {
     "data": {
      "text/html": [
       "<div>\n",
       "<style scoped>\n",
       "    .dataframe tbody tr th:only-of-type {\n",
       "        vertical-align: middle;\n",
       "    }\n",
       "\n",
       "    .dataframe tbody tr th {\n",
       "        vertical-align: top;\n",
       "    }\n",
       "\n",
       "    .dataframe thead th {\n",
       "        text-align: right;\n",
       "    }\n",
       "</style>\n",
       "<table border=\"1\" class=\"dataframe\">\n",
       "  <thead>\n",
       "    <tr style=\"text-align: right;\">\n",
       "      <th></th>\n",
       "      <th>0</th>\n",
       "      <th>1</th>\n",
       "      <th>2</th>\n",
       "      <th>3</th>\n",
       "    </tr>\n",
       "  </thead>\n",
       "  <tbody>\n",
       "    <tr>\n",
       "      <th>ni</th>\n",
       "      <td>21.000000</td>\n",
       "      <td>10.000000</td>\n",
       "      <td>7.000000</td>\n",
       "      <td>12.000000</td>\n",
       "    </tr>\n",
       "    <tr>\n",
       "      <th>Pi</th>\n",
       "      <td>0.331415</td>\n",
       "      <td>0.220909</td>\n",
       "      <td>0.245400</td>\n",
       "      <td>0.184738</td>\n",
       "    </tr>\n",
       "    <tr>\n",
       "      <th>nPi</th>\n",
       "      <td>16.570764</td>\n",
       "      <td>11.045444</td>\n",
       "      <td>12.270021</td>\n",
       "      <td>9.236924</td>\n",
       "    </tr>\n",
       "    <tr>\n",
       "      <th>xi^2</th>\n",
       "      <td>1.183900</td>\n",
       "      <td>0.098951</td>\n",
       "      <td>2.263494</td>\n",
       "      <td>0.826530</td>\n",
       "    </tr>\n",
       "  </tbody>\n",
       "</table>\n",
       "</div>"
      ],
      "text/plain": [
       "              0          1          2          3\n",
       "ni    21.000000  10.000000   7.000000  12.000000\n",
       "Pi     0.331415   0.220909   0.245400   0.184738\n",
       "nPi   16.570764  11.045444  12.270021   9.236924\n",
       "xi^2   1.183900   0.098951   2.263494   0.826530"
      ]
     },
     "execution_count": 39,
     "metadata": {},
     "output_type": "execute_result"
    }
   ],
   "source": [
    "lamb = 1/(sorted2.values.sum()/N)\n",
    "n = 4\n",
    "arr = [[0.006, 0.406],[0.406, 0.806],[0.806, 1.606],[1.606, 4.406]]\n",
    "freq = [21, 10, 7, 12]\n",
    "Pi = []\n",
    "nPi = []\n",
    "Xi = []\n",
    "def F(x):\n",
    "    return 1-np.exp(-lamb*x)\n",
    "for i in range(n):\n",
    "    Fx2 = F(arr[i][1])\n",
    "    Fx1 = F(arr[i][0])\n",
    "    res = Fx2-Fx1\n",
    "    Pi.append(round(res,20))\n",
    "    nPi.append(round(res*N,10))\n",
    "    Xi.append(((freq[i] - nPi[i])**2)/nPi[i])\n",
    "print(\"Значение хи-квадрат:\")\n",
    "print(round(np.sum(Xi),2))\n",
    "chisq = round(np.sum(Xi),2)  #получившийся хи-2\n",
    "dof = 2 # степень свободы\n",
    "p_value = 1 - stats.chi2.cdf(chisq, dof) # искомый уровень значимости\n",
    "print( \"Значение уровня значимости, на котором еще нет оснований отвергнуть гипотезу:\" )\n",
    "print(format(p_value,'.2f'))\n",
    "Xi_table = pd.DataFrame(\n",
    "    {\n",
    "        \"ni\": freq,\n",
    "        \"Pi\": Pi,\n",
    "        \"nPi\": nPi,\n",
    "        \"xi^2\": Xi\n",
    "    }\n",
    ")\n",
    "\n",
    "Xi_table.T"
   ]
  },
  {
   "cell_type": "markdown",
   "id": "116fef5f-5f52-4873-b35e-066129000876",
   "metadata": {
    "jp-MarkdownHeadingCollapsed": true
   },
   "source": [
    "#### h) Построить наиболее мощный критерий проверки простой гипотезы о показательности с параметром $\\lambda = \\lambda_0$ при альтернативе показательности с параметром $\\lambda = \\lambda_1$. Проверить гипотезу на уровне значимости $\\alpha_2$. Что получится, если поменять местами основную и альтернативную гипотезы?"
   ]
  },
  {
   "cell_type": "markdown",
   "id": "b121deca-63bb-47f5-a2ee-b2b712379b0a",
   "metadata": {},
   "source": [
    "$H_0: \\lambda = \\lambda_0$ - основная гипотеза <br>\n",
    "$H_1: \\lambda = \\lambda_1$  - альтернативная гипотеза <br>\n",
    "$\\lambda_0 = 0.25$<br>\n",
    "$\\lambda_1 = 1 $<br>\n",
    "Функция правдоподобия:\n",
    "<br>\n",
    "$L(\\theta, \\vec{x})= \\lambda^n \\cdot \\exp(-\\lambda  \\sum\\limits_{i=1}^nx_i ) \\cdot  \\{x_{(1)} \\geq 0 \\} $ <br>\n",
    "Статистика отношения правдоподобия: <br>\n",
    "$LR(\\vec{x}) = \\frac{L(\\vec{x}, \\theta_1)}{L(\\vec{x}, \\theta_2)} = (\\frac{\\lambda_1}{\\lambda_0})^n \\cdot \\exp(\\sum\\limits_{i=1}^nx_i (\\lambda_0-\\lambda_1))$ <br>\n",
    "В силу монотонности статистики $LR(\\vec{x})$ относительно МДС $\\overline{x}$ <br>\n",
    " $LR(\\vec{x}) > c \\Leftrightarrow \\overline{x} < c^*$ <br>\n",
    " $LR(\\vec{x}) < c \\Leftrightarrow \\overline{x} > c^*$ <br>\n",
    "$\\phi(x) = \\left\\{\\begin{array}{l}1,\\overline{x} < c^*\\\\p,\\overline{x} = c^*\\\\0, \\overline{x} > c^*\\end{array}\\right.$ <br>\n",
    "По ЦПТ: <br>\n",
    "$ \\sqrt{n} \\frac{\\overline{x}-a}{\\sigma} \\sim \\mathcal{N}(0,1)$ <br>\n",
    "$\\mathbb{E}{X} =\\frac{1}{\\lambda_0}, \\mathbb{D}{X} =\\frac{1}{\\lambda_0^2} $ <br>\n",
    "$ \\sqrt{n} \\frac{\\overline{x}-\\frac{1}{\\lambda_0}}{\\sqrt{\\frac{1}{\\lambda_0^2}}} \\sim \\mathcal{N}(0,1)$ <br>\n",
    "$P(\\sqrt{n} \\frac{\\overline{x}-\\frac{1}{\\lambda_0}}{\\frac{1}{\\lambda_0}} \\geq \\sqrt{n} \\frac{c^*-\\frac{1}{\\lambda_0}}{\\frac{1}{\\lambda_0}}) = 1 - \\Phi(\\sqrt{n} \\frac{c^*-\\frac{1}{\\lambda_0}}{\\frac{1}{\\lambda_0}}) = \\alpha $ <br>\n",
    "$x_{\\alpha} = \\sqrt{n} \\frac{c^*-\\frac{1}{\\lambda_0}}{\\frac{1}{\\lambda_0}}$\n",
    "$x_{\\alpha}: \\Phi(x_{\\alpha}) = 1 - \\alpha$"
   ]
  },
  {
   "cell_type": "code",
   "execution_count": 40,
   "id": "dddba1ff-2ce1-4763-84be-e1307a714e48",
   "metadata": {},
   "outputs": [
    {
     "name": "stdout",
     "output_type": "stream",
     "text": [
      "х-альфа:  2.054\n",
      "с*: 4.581\n"
     ]
    }
   ],
   "source": [
    "alpha = 0.02\n",
    "print('х-альфа: ', round(stats.norm.ppf(1-alpha),3))\n",
    "lam0=0.25\n",
    "c_star =  round(stats.norm.ppf(1-alpha),3)/(np.sqrt(lam0)*np.sqrt(N) )+ 1/lam0\n",
    "print(\"с*:\", round(c_star,3))"
   ]
  },
  {
   "cell_type": "markdown",
   "id": "148e22d1-8eaf-4b06-ae82-c05b0a7682ab",
   "metadata": {},
   "source": [
    "$x_{\\alpha} = 2.054$ <br>\n",
    "$c^* = 4.581 $ <br>\n",
    "$\\overline x = 0.986 \\Rightarrow \\overline x < c^*$ - значит гипотезу принимаем <br>\n",
    "Поменяем местами основную и альтернативную гипотезу <br>\n",
    "$H_0: \\lambda = \\lambda_1$ <br>\n",
    "$H_1: \\lambda = \\lambda_0$ <br>\n",
    "\n",
    "Статистика отношения правдоподобия: <br>\n",
    "$LR(\\vec{x}) = \\frac{L(\\vec{x}, \\theta_1)}{L(\\vec{x}, \\theta_2)} = (\\frac{\\lambda_0}{\\lambda_1})^n \\cdot \\exp(\\sum\\limits_{i=1}^nx_i (\\lambda_1-\\lambda_0))$ <br>\n",
    "В силу монотонности статистики $LR(\\vec{x})$ относительно МДС $\\overline{x}$ <br>\n",
    " $LR(\\vec{x}) > c \\Leftrightarrow \\overline{x} < c^*$ <br>\n",
    " $LR(\\vec{x}) < c \\Leftrightarrow \\overline{x} > c^*$ <br>\n",
    "$\\phi(x) = \\left\\{\\begin{array}{l}1,\\overline{x} < c^*\\\\p,\\overline{x} = c^*\\\\0, \\overline{x} > c^*\\end{array}\\right\\}$ <br>\n",
    "По ЦПТ: <br>\n",
    "$ \\sqrt{n} \\frac{\\overline{x}-a}{\\sigma} \\sim \\mathcal{N}(0,1)$ <br>\n",
    "$\\mathbb{E}{X} =\\frac{1}{\\lambda_1}, \\mathbb{D}{X} =\\frac{1}{\\lambda_1^2} $ <br>\n",
    "$ \\sqrt{n} \\frac{\\overline{x}-\\frac{1}{\\lambda_1}}{\\sqrt{\\frac{1}{\\lambda_1^2}}} \\sim \\mathcal{N}(0,1)$ <br>\n",
    "$P(\\sqrt{n} \\frac{\\overline{x}-\\frac{1}{\\lambda_1}}{\\frac{1}{\\lambda_1}} \\geq \\sqrt{n} \\frac{c^*-\\frac{1}{\\lambda_1}}{\\frac{1}{\\lambda_1}}) = 1 - \\Phi(\\sqrt{n} \\frac{c^*-\\frac{1}{\\lambda_1}}{\\frac{1}{\\lambda_1}}) = \\alpha $ <br>\n",
    "$x_{\\alpha} = \\sqrt{n} \\frac{c^*-\\frac{1}{\\lambda_1}}{\\frac{1}{\\lambda_1}}$\n",
    "$x_{\\alpha}: \\Phi(x_{\\alpha}) = 1 - \\alpha$"
   ]
  },
  {
   "cell_type": "code",
   "execution_count": 41,
   "id": "92478635-945b-4921-8480-e586c1dd012c",
   "metadata": {},
   "outputs": [
    {
     "name": "stdout",
     "output_type": "stream",
     "text": [
      "с*: 1.29\n"
     ]
    }
   ],
   "source": [
    "alpha = 0.02\n",
    "lam1=1\n",
    "c_star =  round(stats.norm.ppf(1-alpha),3)/(np.sqrt(lam1)*np.sqrt(N) )+ 1/lam1\n",
    "print(\"с*:\", round(c_star,3))"
   ]
  },
  {
   "cell_type": "markdown",
   "id": "4f544e3f-3f81-4811-a1bc-a2940618af48",
   "metadata": {},
   "source": [
    "$c^* = 1.29 $ <br>\n",
    "$\\overline x = 0.986 \\Rightarrow \\overline x < c^*$ - значит гипотезу принимаем <br>"
   ]
  },
  {
   "cell_type": "markdown",
   "id": "cb08a908-4cca-4600-a71e-5a1947716d8c",
   "metadata": {},
   "source": [
    "#### i) В пунктах (c)-(h) заменить семейство показательных распределений на семейство гамма-распределений."
   ]
  },
  {
   "cell_type": "markdown",
   "id": "a2c20bcb-5fcd-4098-b64d-164ef56d5c79",
   "metadata": {
    "jp-MarkdownHeadingCollapsed": true
   },
   "source": [
    "##### i.c) "
   ]
  },
  {
   "cell_type": "markdown",
   "id": "bc771818-ccbd-4a11-a673-4ac9faf028a1",
   "metadata": {},
   "source": [
    "Функция плотности вероятности гамма-распределения: <br>\n",
    "$\\mathbb{P}_\\lambda(\\xi=x) = \\frac{\\sqrt{\\lambda} \\exp(-\\lambda x/2)}{\\sqrt{2 \\pi x}} $ <br>\n",
    "1. ОМП <br>\n",
    "Напишем функцию правдоподобия:\n",
    "<br>\n",
    "$L(\\theta, \\vec{x})= \\prod\\limits_{i=1}^n \\frac{\\sqrt{\\lambda} \\exp(-\\lambda x_i/2)}{\\sqrt{2 \\pi x_i}} = \\lambda^{\\frac{n}{2}} \\cdot  (2\\pi)^{-\\frac{n}{2}}\\cdot \\exp(-\\frac{\\lambda}{2}  \\sum\\limits_{i=1}^nx_i ) \\cdot  \\prod\\limits_{i=1}^n \\frac{1}{\\sqrt x_i}  $ <br>\n",
    "Чтобы упростить вычисления, напишем логарифмическую функцию правдоподобия: <br>\n",
    "$LL(\\theta, \\vec{x})= \\frac{n}{2} \\ln\\lambda - \\frac{n}{2} \\ln{2\\pi} - \\frac{\\lambda}{2} \\sum\\limits_{i=1}^nx_i + \\ln{\\prod\\limits_{i=1}^n \\frac{1}{\\sqrt x_i}} $ <br>\n",
    "Вычислим производную логарифмической функции правдоподобия по параметру $\\lambda$: <br>\n",
    "$\\frac{\\partial LL(\\theta, \\vec{x})}{\\partial \\lambda} = \\frac{n}{2\\lambda} -  \\frac{\\sum\\limits_{i=1}^nx_i}{2}$ <br>\n",
    "Приравниваем производную к 0 и вычисляем $\\lambda$: <br>\n",
    "$\\frac{n}{\\lambda} -  \\sum\\limits_{i=1}^nx_i = 0$ <br>\n",
    "$\\hat{\\lambda}=\\frac{n}{\\sum\\limits_{i=1}^nx_i} = \\frac{1}{\\overline{x}} $ <br>\n",
    "$\\hat\\theta = \\hat{\\lambda}= \\frac{1}{\\overline{x}}$ - ОМП <br>"
   ]
  },
  {
   "cell_type": "code",
   "execution_count": 42,
   "id": "79930325-988c-426e-a9ed-6f78cfff1bf0",
   "metadata": {},
   "outputs": [
    {
     "name": "stdout",
     "output_type": "stream",
     "text": [
      "Оценка максимального правдоподобия: 1.014\n"
     ]
    }
   ],
   "source": [
    "print(\"Оценка максимального правдоподобия:\", round(1/mean, 3))"
   ]
  },
  {
   "cell_type": "markdown",
   "id": "3de21814-0680-4ce2-b7ed-93e06daa7b00",
   "metadata": {},
   "source": [
    "2. ОММ <br>\n",
    "$a = \\frac{1}{2}, b = \\frac{2}{\\lambda}$ <br>\n",
    "$ \\mathbb{E}{X_1} = ab = \\frac{1}{ \\lambda}$ <br>\n",
    "$M_1 = \\overline{x} $ <br>\n",
    " $\\frac{1}{\\lambda} = \\overline{x} $ <br>\n",
    "$\\widetilde{\\theta} = \\widetilde{\\lambda} = \\frac{1}{\\overline{x}}$ - ОММ <br>"
   ]
  },
  {
   "cell_type": "code",
   "execution_count": 43,
   "id": "8dace82d-5588-41fa-ac6e-7eb128b9609b",
   "metadata": {},
   "outputs": [
    {
     "name": "stdout",
     "output_type": "stream",
     "text": [
      "Оценка по методу моментов: 1.014\n"
     ]
    }
   ],
   "source": [
    "print(\"Оценка по методу моментов:\", round(1/mean, 3))"
   ]
  },
  {
   "cell_type": "markdown",
   "id": "39626884-0bb0-4397-88e2-e11a64b028a1",
   "metadata": {},
   "source": [
    "3. НРМД <br>\n",
    "$L(\\theta, \\vec{x})=  \\lambda^{\\frac{n}{2}} \\cdot  (2\\pi)^{-\\frac{n}{2}}\\cdot \\exp(-\\frac{\\lambda}{2}  \\sum\\limits_{i=1}^nx_i ) \\cdot  \\prod\\limits_{i=1}^n \\frac{1}{\\sqrt x_i}  $ <br> \n",
    "$g(T) = \\lambda^{\\frac{n}{2}} \\cdot  (2\\pi)^{-\\frac{n}{2}}\\cdot \\exp(-\\frac{\\lambda}{2}  \\sum\\limits_{i=1}^nx_i ) $ <br>\n",
    "$h(x) = \\prod\\limits_{i=1}^n \\frac{1}{\\sqrt x_i} $ <br>\n",
    "$ T=\\sum\\limits_{i=1}^n x_i$  - МДС. Так как гамма-распределение принадлежит экспоненциальному семейству, то $T$ - ПДС <br>\n",
    "$\\mathbb{E}_\\theta \\hat{\\theta} = \\mathbb{E}_\\theta  \\frac{1}{\\overline{x}} = \\mathbb{E}_\\theta \\frac{n}{\\sum\\limits_{i=1}^nx_i} = n \\mathbb{E}_\\theta \\left(\\sum\\limits_{i=1}^nx_i\\right)^{-1} = \\begin{bmatrix}\\gamma=-1\\\\\\alpha = n \\\\ \\beta = \\frac{1}{\\lambda}\\end{bmatrix} = n \\cdot \\lambda \\cdot \\frac{\\Gamma(n-1)}{\\Gamma(n)} = n \\cdot \\lambda \\cdot \\frac{\\Gamma(n-1)}{(n-1)\\Gamma(n-1)} = \\frac{n}{n-1} \\lambda$  - смещенная оценка <br>\n",
    "$\\widetilde{\\theta} = \\frac{n-1}{n}\\hat{\\theta}$  <br>\n",
    "$\\mathbb{E}_\\theta \\widetilde{\\theta} = \\mathbb{E}_\\theta \\frac{n-1}{n}\\hat{\\theta} = \\frac{n-1}{n} \\frac{n}{n-1} \\lambda = \\lambda  $ - НРМД <br>"
   ]
  },
  {
   "cell_type": "markdown",
   "id": "3094ea69-435c-4aeb-b76f-589e3157a83f",
   "metadata": {
    "jp-MarkdownHeadingCollapsed": true
   },
   "source": [
    "##### i.d) "
   ]
  },
  {
   "cell_type": "markdown",
   "id": "602dd802-8dca-4d01-b808-e025dd0dc7d4",
   "metadata": {},
   "source": [
    "Построение АДИ на базе ОМП: <br>\n",
    "$\\theta = \\lambda \\Rightarrow \\hat\\theta = \\overline{x}$ <br>\n",
    "$\\sqrt{n}\\left( \\widehat{\\theta}(\\vec{x})-\\theta \\right)\\sim \\mathcal{N}\\left( 0, \\frac{1}{I(\\theta)} \\right)$<br>\n",
    "$I(\\theta) = \\lim\\limits_{n\\to\\infty}{\\frac{I_n(\\theta)}{n}}$ <br>\n",
    "$I_n(\\theta) = -\\mathbb{E}_\\theta\\frac{\\partial^2{LL}}{\\partial\\theta^2} $ <br>\n",
    "Из предыдущего пункта мы нашли: <br>\n",
    "$\\frac{\\partial LL(\\theta, \\vec{x})}{\\partial \\lambda} = \\frac{n}{2\\lambda} -  \\frac{\\sum\\limits_{i=1}^nx_i}{2}$ <br>\n",
    "Тогда: <br>\n",
    "$\\frac{\\partial^2 LL(\\theta, \\vec{x})}{\\partial \\lambda^2} =-\\frac{n}{2\\lambda^2}  $ <br>\n",
    "$I_n(\\lambda) =  - \\mathbb{E}{\\left(-\\frac{n}{\\lambda^2} \\right)} = \\frac{n}{2\\lambda^2}  $ <br>\n",
    "$I(\\lambda) = \\lim\\limits_{n\\to\\infty}{\\frac{\\frac{n}{\\lambda^2} }{n}} = \\frac{1}{2\\lambda^2} $ <br>\n",
    "Выбираем: <br>\n",
    "$x_\\alpha: \\Phi(x_\\alpha)=1-\\frac{\\alpha}{2}= 1-\\frac{0.02}{2} = 0.99 \\Rightarrow x_{0.99} = 2.33 $<br> \n",
    "Асимптотический доверительный интервал: <br>\n",
    "$\\left[\\frac{1}{\\overline{x}}- \\frac{x_{0.99}}{\\sqrt{\\frac{n \\overline{x}^2}{2}  }},\\frac{1}{\\overline{x}} + \\frac{x_{0.99}}{\\sqrt{\\frac{n \\overline{x}^2}{2}  }} \\right] \\ni \\lambda$ <br>\n",
    "$ 0.542\\leq \\lambda \\leq 1.486 $"
   ]
  },
  {
   "cell_type": "code",
   "execution_count": 44,
   "id": "2a2fb630-2082-4654-8b75-5efb4a434f50",
   "metadata": {},
   "outputs": [
    {
     "name": "stdout",
     "output_type": "stream",
     "text": [
      "Асимптотический доверительный интервал:\n",
      "Лямбда принадлежит интервалу от 0.542 до 1.486\n"
     ]
    }
   ],
   "source": [
    "alpha = 0.02\n",
    "x_a = stats.norm.ppf(1-alpha/2)\n",
    "left = 1/mean - x_a/(np.power(N*mean*mean/2,0.5))\n",
    "right =1/mean + x_a/(np.power(N*mean*mean/2,0.5))\n",
    "print(\"Асимптотический доверительный интервал:\")\n",
    "print(\"Лямбда принадлежит интервалу от\", round(left,3), \"до\", round(right,3))"
   ]
  },
  {
   "cell_type": "markdown",
   "id": "fec0006e-c7be-40fa-860e-269b421d28c2",
   "metadata": {},
   "source": [
    "Построение АДИ на базе асимптотически нормальной оценки: <br>\n",
    " Асимптотическая нормальность: <br>\n",
    " $ \\sqrt{n}(\\hat\\theta(\\vec{x}) - \\theta) \\sim  \\mathcal{N}(0, \\sigma^2(\\theta))$ <br>\n",
    " Тогда: <br>\n",
    " $ \\sqrt{n} \\frac{\\frac{1}{\\overline{x}} - \\lambda}{ \\sqrt{2\\overline{x}^2}} \\sim \\mathcal{N}(0,1) $ <br>\n",
    " Выбираем: <br>\n",
    "$x_\\alpha: \\Phi(x_\\alpha)=1-\\frac{\\alpha}{2}= 1-\\frac{0.02}{2} = 0.99 \\Rightarrow x_{0.99} = 2.33 $<br> \n",
    "Асимптотический доверительный интервал: <br>\n",
    "$\\left[\\frac{1}{\\overline{x}}- \\frac{x_{0.99} \\cdot \\sqrt2 \\overline{x} }{\\sqrt{n}},\\frac{1}{\\overline{x}} + \\frac{x_{0.99}\\cdot \\sqrt2 \\overline{x} }{\\sqrt{n  }} \\right] \\ni \\lambda$ <br>\n",
    "$ 0.555 \\leq \\lambda \\leq 1.473$"
   ]
  },
  {
   "cell_type": "code",
   "execution_count": 45,
   "id": "7191eecb-74dc-4464-a180-5dbc2f1ca019",
   "metadata": {},
   "outputs": [
    {
     "name": "stdout",
     "output_type": "stream",
     "text": [
      "Асимптотический доверительный интервал:\n",
      "Лямбда принадлежит интервалу от 0.555 до 1.473\n"
     ]
    }
   ],
   "source": [
    "alpha = 0.02\n",
    "x_a = stats.norm.ppf(1-alpha/2)\n",
    "left = 1/mean - x_a*np.sqrt(2)*mean/(np.power(N,0.5))\n",
    "right =1/mean + x_a*np.sqrt(2)*mean/(np.power(N,0.5))\n",
    "print(\"Асимптотический доверительный интервал:\")\n",
    "print(\"Лямбда принадлежит интервалу от\", round(left,3), \"до\", round(right,3))"
   ]
  },
  {
   "cell_type": "markdown",
   "id": "16664662-8bb1-4b47-86d6-c40e65adea30",
   "metadata": {},
   "source": [
    "##### i.e) "
   ]
  },
  {
   "cell_type": "code",
   "execution_count": 46,
   "id": "bd1d1a0a-81e6-4b50-9c1a-647b06843cc2",
   "metadata": {},
   "outputs": [
    {
     "name": "stdout",
     "output_type": "stream",
     "text": [
      "Гипотеза отвергается: 5.373 > 1.517\n",
      "p-значение (наибольший уровень значимости):\n",
      "0.0\n"
     ]
    }
   ],
   "source": [
    "# эмпирическая функция распределения\n",
    "F_exp = F_x2\n",
    "# теоритическая функция гамма-распределения\n",
    "lambd = 0.25\n",
    "alpha = 0.5\n",
    "beta = 2/lambd\n",
    "def F(x):\n",
    "    return beta**alpha * expint(x)/ G\n",
    "def integrand(t, beta,alpha):\n",
    "    return np.exp(-beta*t) * t**(alpha-1)\n",
    "def expint(x):\n",
    "    return quad(integrand, 0, x, args=(beta,alpha))[0]\n",
    "G =gamma(alpha)\n",
    "F_th = []\n",
    "dif = []\n",
    "for i in range(N):\n",
    "    F_th.append(F(x_unique2[i]))\n",
    "    #разность\n",
    "    dif.append(np.abs(F_exp[i] - F_th[i]))\n",
    "# D\n",
    "D = np.max(dif) * np.sqrt(N)\n",
    "# Расчет критического значения\n",
    "crit_value = stats.kstwobign.ppf(1-0.02)\n",
    "if D>crit_value:\n",
    "    print(\"Гипотеза отвергается:\", round(D,3),\">\", round(crit_value,3))\n",
    "else:\n",
    "    print(\"Гипотеза принимается:\",round(D,3),\"<\", round(crit_value,3))\n",
    "# Вычисляем p-значение\n",
    "p_value = 1 - stats.kstwobign.cdf(D) \n",
    "print(\"p-значение (наибольший уровень значимости):\")\n",
    "print(p_value)"
   ]
  },
  {
   "cell_type": "markdown",
   "id": "e3b44e9a-a525-4b88-a1fd-22c04e61d93a",
   "metadata": {},
   "source": [
    "$\\sqrt{n}Dn = 5.373$ <br>\n",
    "Квантиль Колмогорова $d_{0.98} = 1.517$ <br>\n",
    "$5.306>1.517 \\Rightarrow $ гипотеза отвергается <br>\n",
    "Наибольшее значение уровня значимости, на котором еще нет оснований отвергнуть данную гипотезу, близко к нулю."
   ]
  },
  {
   "cell_type": "markdown",
   "id": "9f5bc7b7-4f3e-4624-8c2f-5c2a8a45e1b9",
   "metadata": {},
   "source": [
    "##### i.f) "
   ]
  },
  {
   "cell_type": "markdown",
   "id": "d167cee7-15fc-418f-ab27-548fb62b612a",
   "metadata": {},
   "source": [
    "$F(x) = \\left\\{\\begin{array}{l}0,x<0\\\\ \\frac{\\beta^{\\alpha}}{\\Gamma(\\alpha)} \\int_{0}^{x} t^{\\alpha-1} \\exp(-\\beta t)\\,dt , x \\geq 0\\end{array}\\right. $ <br>\n",
    "$P_i = P_{H_0}(a < \\xi < b) = F(b)-F(a) $ <br>"
   ]
  },
  {
   "cell_type": "code",
   "execution_count": 47,
   "id": "ed4cb990-f595-463a-933b-36493920147c",
   "metadata": {},
   "outputs": [
    {
     "name": "stdout",
     "output_type": "stream",
     "text": [
      "Значение хи-квадрат:\n",
      "7209354\n",
      "Значение уровня значимости, на котором еще нет оснований отвергнуть гипотезу:\n",
      "0.00\n"
     ]
    },
    {
     "data": {
      "text/html": [
       "<div>\n",
       "<style scoped>\n",
       "    .dataframe tbody tr th:only-of-type {\n",
       "        vertical-align: middle;\n",
       "    }\n",
       "\n",
       "    .dataframe tbody tr th {\n",
       "        vertical-align: top;\n",
       "    }\n",
       "\n",
       "    .dataframe thead th {\n",
       "        text-align: right;\n",
       "    }\n",
       "</style>\n",
       "<table border=\"1\" class=\"dataframe\">\n",
       "  <thead>\n",
       "    <tr style=\"text-align: right;\">\n",
       "      <th></th>\n",
       "      <th>0</th>\n",
       "      <th>1</th>\n",
       "      <th>2</th>\n",
       "      <th>3</th>\n",
       "    </tr>\n",
       "  </thead>\n",
       "  <tbody>\n",
       "    <tr>\n",
       "      <th>ni</th>\n",
       "      <td>21.000000</td>\n",
       "      <td>10.000000</td>\n",
       "      <td>7.000000</td>\n",
       "      <td>1.200000e+01</td>\n",
       "    </tr>\n",
       "    <tr>\n",
       "      <th>Pi</th>\n",
       "      <td>0.745872</td>\n",
       "      <td>0.010482</td>\n",
       "      <td>0.000329</td>\n",
       "      <td>3.996547e-07</td>\n",
       "    </tr>\n",
       "    <tr>\n",
       "      <th>nPi</th>\n",
       "      <td>37.293595</td>\n",
       "      <td>0.524123</td>\n",
       "      <td>0.016444</td>\n",
       "      <td>1.998270e-05</td>\n",
       "    </tr>\n",
       "    <tr>\n",
       "      <th>xi^2</th>\n",
       "      <td>7.118682</td>\n",
       "      <td>171.319006</td>\n",
       "      <td>2965.777240</td>\n",
       "      <td>7.206209e+06</td>\n",
       "    </tr>\n",
       "  </tbody>\n",
       "</table>\n",
       "</div>"
      ],
      "text/plain": [
       "              0           1            2             3\n",
       "ni    21.000000   10.000000     7.000000  1.200000e+01\n",
       "Pi     0.745872    0.010482     0.000329  3.996547e-07\n",
       "nPi   37.293595    0.524123     0.016444  1.998270e-05\n",
       "xi^2   7.118682  171.319006  2965.777240  7.206209e+06"
      ]
     },
     "execution_count": 47,
     "metadata": {},
     "output_type": "execute_result"
    }
   ],
   "source": [
    "lamb = 0.25\n",
    "alpha = 0.5\n",
    "beta = 2/lamb\n",
    "n = 4\n",
    "arr = [[0.006, 0.406],[0.406, 0.806],[0.806, 1.606],[1.606, 4.406]]\n",
    "freq = [21, 10, 7, 12]\n",
    "Pi = []\n",
    "nPi = []\n",
    "Xi = []\n",
    "def integrand(t, beta,alpha):\n",
    "    return np.exp(-beta*t) * t**(alpha-1)\n",
    "def expint(x):\n",
    "    return quad(integrand, 0, x, args=(beta,alpha))[0]\n",
    "G =gamma(alpha)\n",
    "for i in range(n):\n",
    "    Fx2 = beta**alpha * expint(arr[i][1])/ G\n",
    "    Fx1 = beta**alpha * expint(arr[i][0])/ G\n",
    "    res = Fx2-Fx1\n",
    "    Pi.append(round(res,20))\n",
    "    nPi.append(round(res*N,10))\n",
    "    Xi.append(((freq[i] - nPi[i])**2)/nPi[i])\n",
    "print(\"Значение хи-квадрат:\")\n",
    "print(round(np.sum(Xi)))\n",
    "chisq = round(np.sum(Xi))  #получившийся хи-2\n",
    "dof = 3 # степень свободы\n",
    "p_value = 1 - stats.chi2.cdf(chisq, dof) # искомый уровень значимости\n",
    "print( \"Значение уровня значимости, на котором еще нет оснований отвергнуть гипотезу:\" )\n",
    "print(format(p_value,'.2f'))\n",
    "Xi_table = pd.DataFrame(\n",
    "    {\n",
    "        \"ni\": freq,\n",
    "        \"Pi\": Pi,\n",
    "        \"nPi\": nPi,\n",
    "        \"xi^2\": Xi\n",
    "    }\n",
    ")\n",
    "\n",
    "Xi_table.T"
   ]
  },
  {
   "cell_type": "markdown",
   "id": "e4d9f42e-18d2-464f-8efa-f7b9d28ea53b",
   "metadata": {},
   "source": [
    " Критерий $\\chi^2: \\chi^2_{набл} = \\sum\\limits_{i=1}^4 \\frac{(n_i - nP_i)^2}{nP_i} = 7209354$ <br>\n",
    " Найдем квантиль распределения $\\chi^2_{1-\\alpha,r-1}$: <br>\n",
    " $\\chi^2_{1-0.02,4-1} = 9.837 $ <br>\n",
    " $ \\chi^2 > \\chi^2_{0.98,3} \\Rightarrow $  Отвергаем основную гипотезу $H_0$ <br>\n",
    " Наибольшее значение уровня значимости, на котором еще нет оснований отвергнуть гипотезу близко к нулю. "
   ]
  },
  {
   "cell_type": "markdown",
   "id": "907ee2ce-2382-4a99-bcfe-cf00023914dd",
   "metadata": {},
   "source": [
    "##### i.g)"
   ]
  },
  {
   "cell_type": "markdown",
   "id": "5eb2cb2b-c832-4737-8689-235074164f05",
   "metadata": {},
   "source": [
    "$F(x) = \\left\\{\\begin{array}{l}0,x<0\\\\ \\frac{\\beta^{\\alpha}}{\\Gamma(\\alpha)} \\int_{0}^{x} t^{\\alpha-1} \\exp(-\\beta t)\\,dt , x \\geq 0\\end{array}\\right. $ <br>\n",
    "$P_i = P_{H_0}(a < \\xi < b) = F(b)-F(a) $ <br>"
   ]
  },
  {
   "cell_type": "code",
   "execution_count": 48,
   "id": "e932bdc6-3d71-41bd-931d-340757bff65b",
   "metadata": {},
   "outputs": [
    {
     "name": "stdout",
     "output_type": "stream",
     "text": [
      "Значение хи-квадрат:\n",
      "232\n",
      "Значение уровня значимости, на котором еще нет оснований отвергнуть гипотезу:\n",
      "0.00\n"
     ]
    },
    {
     "data": {
      "text/html": [
       "<div>\n",
       "<style scoped>\n",
       "    .dataframe tbody tr th:only-of-type {\n",
       "        vertical-align: middle;\n",
       "    }\n",
       "\n",
       "    .dataframe tbody tr th {\n",
       "        vertical-align: top;\n",
       "    }\n",
       "\n",
       "    .dataframe thead th {\n",
       "        text-align: right;\n",
       "    }\n",
       "</style>\n",
       "<table border=\"1\" class=\"dataframe\">\n",
       "  <thead>\n",
       "    <tr style=\"text-align: right;\">\n",
       "      <th></th>\n",
       "      <th>0</th>\n",
       "      <th>1</th>\n",
       "      <th>2</th>\n",
       "      <th>3</th>\n",
       "    </tr>\n",
       "  </thead>\n",
       "  <tbody>\n",
       "    <tr>\n",
       "      <th>ni</th>\n",
       "      <td>21.000000</td>\n",
       "      <td>10.000000</td>\n",
       "      <td>7.000000</td>\n",
       "      <td>12.000000</td>\n",
       "    </tr>\n",
       "    <tr>\n",
       "      <th>Pi</th>\n",
       "      <td>0.672042</td>\n",
       "      <td>0.131116</td>\n",
       "      <td>0.062738</td>\n",
       "      <td>0.011807</td>\n",
       "    </tr>\n",
       "    <tr>\n",
       "      <th>nPi</th>\n",
       "      <td>33.602116</td>\n",
       "      <td>6.555801</td>\n",
       "      <td>3.136896</td>\n",
       "      <td>0.590372</td>\n",
       "    </tr>\n",
       "    <tr>\n",
       "      <th>xi^2</th>\n",
       "      <td>4.726290</td>\n",
       "      <td>1.809467</td>\n",
       "      <td>4.757434</td>\n",
       "      <td>220.504195</td>\n",
       "    </tr>\n",
       "  </tbody>\n",
       "</table>\n",
       "</div>"
      ],
      "text/plain": [
       "              0          1         2           3\n",
       "ni    21.000000  10.000000  7.000000   12.000000\n",
       "Pi     0.672042   0.131116  0.062738    0.011807\n",
       "nPi   33.602116   6.555801  3.136896    0.590372\n",
       "xi^2   4.726290   1.809467  4.757434  220.504195"
      ]
     },
     "execution_count": 48,
     "metadata": {},
     "output_type": "execute_result"
    }
   ],
   "source": [
    "alpha = 0.5\n",
    "beta = 2*mean\n",
    "n = 4\n",
    "arr = [[0.006, 0.406],[0.406, 0.806],[0.806, 1.606],[1.606, 4.406]]\n",
    "freq = [21, 10, 7, 12]\n",
    "Pi = []\n",
    "nPi = []\n",
    "Xi = []\n",
    "def integrand(t, beta,alpha):\n",
    "    return np.exp(-beta*t) * t**(alpha-1)\n",
    "def expint(x):\n",
    "    return quad(integrand, 0, x, args=(beta,alpha))[0]\n",
    "G =gamma(alpha)\n",
    "for i in range(n):\n",
    "    Fx2 = beta**alpha * expint(arr[i][1])/ G\n",
    "    Fx1 = beta**alpha * expint(arr[i][0])/ G\n",
    "    res = Fx2-Fx1\n",
    "    Pi.append(round(res,20))\n",
    "    nPi.append(round(res*N,10))\n",
    "    Xi.append(((freq[i] - nPi[i])**2)/nPi[i])\n",
    "print(\"Значение хи-квадрат:\")\n",
    "print(round(np.sum(Xi)))\n",
    "chisq =round(np.sum(Xi)) #получившийся хи-2\n",
    "dof = 2 # степень свободы\n",
    "p_value = 1 - stats.chi2.cdf(chisq, dof) # искомый уровень значимости\n",
    "print( \"Значение уровня значимости, на котором еще нет оснований отвергнуть гипотезу:\" )\n",
    "print(format(p_value,'.2f'))\n",
    "Xi_table2 = pd.DataFrame(\n",
    "    {\n",
    "        \"ni\": freq,\n",
    "        \"Pi\": Pi,\n",
    "        \"nPi\": nPi,\n",
    "        \"xi^2\": Xi\n",
    "    }\n",
    ")\n",
    "\n",
    "Xi_table2.T"
   ]
  },
  {
   "cell_type": "markdown",
   "id": "e542e8d2-39e6-4081-a84d-accfe178cb1a",
   "metadata": {},
   "source": [
    " Критерий $\\chi^2: \\chi^2_{набл} = \\sum\\limits_{i=1}^4 \\frac{(n_i - nP_i)^2}{nP_i} = 232$ <br>\n",
    " Найдем квантиль распределения $\\chi^2_{1-\\alpha,r-1-1}$: <br>\n",
    " $\\chi^2_{1-0.02,4-1-1} = 7.824 $ <br>\n",
    " $ \\chi^2 > \\chi^2_{0.98,3} \\Rightarrow $  Отвергаем основную гипотезу $H_0$ <br>\n",
    " Наибольшее значение уровня значимости, на котором еще нет оснований отвергнуть гипотезу близко к нулю. "
   ]
  },
  {
   "cell_type": "markdown",
   "id": "05ca40ce-4ff8-40cd-9223-6cb7af7934b0",
   "metadata": {},
   "source": [
    "##### i.h)"
   ]
  },
  {
   "cell_type": "markdown",
   "id": "89e4b1a3-cb05-4088-83ad-2ea2f760f574",
   "metadata": {},
   "source": [
    "$H_0: \\lambda = \\lambda_0$ - основная гипотеза <br>\n",
    "$H_1: \\lambda = \\lambda_1$  - альтернативная гипотеза <br>\n",
    "$\\lambda_0 = 0.25$<br>\n",
    "$\\lambda_1 = 1 $<br>\n",
    "Функция правдоподобия:\n",
    "<br>\n",
    "$L(\\theta, \\vec{x})= \\lambda^{\\frac{n}{2}} \\cdot  (2\\pi)^{-\\frac{n}{2}}\\cdot \\exp\\left(-\\frac{\\lambda}{2}  \\sum\\limits_{i=1}^nx_i \\right) \\cdot  \\prod\\limits_{i=1}^n \\frac{1}{\\sqrt x_i} $ <br>\n",
    "Статистика отношения правдоподобия: <br>\n",
    "$LR(\\vec{x}) = \\frac{L(\\vec{x}, \\theta_1)}{L(\\vec{x}, \\theta_2)} = (\\frac{\\lambda_1}{\\lambda_0})^{\\frac{n}2} \\cdot \\exp\\left(\\frac{\\sum\\limits_{i=1}^nx_i}2(\\lambda_0-\\lambda_1)\\right)$ <br>\n",
    "В силу монотонности статистики $LR(\\vec{x})$ относительно МДС $\\overline{x}$ <br>\n",
    " $LR(\\vec{x}) > c \\Leftrightarrow \\overline{x} < c^*$ <br>\n",
    " $LR(\\vec{x}) < c \\Leftrightarrow \\overline{x} > c^*$ <br>\n",
    "$\\phi(x) = \\left\\{\\begin{array}{l}1,\\overline{x} < c^*\\\\p,\\overline{x} = c^*\\\\0, \\overline{x} > c^*\\end{array}\\right.$ <br>\n",
    "По ЦПТ: <br>\n",
    "$ \\sqrt{n} \\frac{\\overline{x}-a}{\\sigma} \\sim \\mathcal{N}(0,1)$ <br>\n",
    "$\\mathbb{E}{X} =\\frac{1}{\\lambda_0}, \\mathbb{D}{X} =\\frac{2}{\\lambda_0^2} $ <br>\n",
    "$ \\sqrt{n} \\frac{\\overline{x}-\\frac{1}{\\lambda_0}}{\\sqrt{\\frac{2}{\\lambda_0^2}}} \\sim \\mathcal{N}(0,1)$ <br>\n",
    "$P(\\sqrt{n} \\frac{\\overline{x}-\\frac{1}{\\lambda_0}}{\\frac{\\sqrt{2}}{\\lambda_0}} \\geq \\sqrt{n} \\frac{c^*-\\frac{1}{\\lambda_0}}{\\frac{\\sqrt{2}}{\\lambda_0}}) = 1 - \\Phi(\\sqrt{n} \\frac{c^*-\\frac{1}{\\lambda_0}}{\\frac{\\sqrt{2}}{\\lambda_0}}) = \\alpha $ <br>\n",
    "$x_{\\alpha} = \\sqrt{n} \\frac{c^*-\\frac{1}{\\lambda_0}}{\\frac{\\sqrt{2}}{\\lambda_0}}$\n",
    "$x_{\\alpha}: \\Phi(x_{\\alpha}) = 1 - \\alpha$"
   ]
  },
  {
   "cell_type": "code",
   "execution_count": 49,
   "id": "eee7b0c8-4b8d-4a6c-8ded-a9600bfad363",
   "metadata": {},
   "outputs": [
    {
     "name": "stdout",
     "output_type": "stream",
     "text": [
      "х-альфа:  2.054\n",
      "с*: 4.822\n"
     ]
    }
   ],
   "source": [
    "alpha = 0.02\n",
    "print('х-альфа: ', round(stats.norm.ppf(1-alpha),3))\n",
    "lam0=0.25\n",
    "c_star =  round(stats.norm.ppf(1-alpha),3)*np.sqrt(2)/(np.sqrt(lam0)*np.sqrt(N) )+ 1/lam0\n",
    "print(\"с*:\", round(c_star,3))"
   ]
  },
  {
   "cell_type": "markdown",
   "id": "ab381083-2315-4775-99e7-3c4d616918d6",
   "metadata": {},
   "source": [
    "$x_{\\alpha} = 2.054$ <br>\n",
    "$c^* = 4.822 $ <br>\n",
    "$\\overline x = 0.986 \\Rightarrow \\overline x < c^*$ - значит гипотезу принимаем <br>\n",
    "Поменяем местами основную и альтернативную гипотезу <br>\n",
    "$H_0: \\lambda = \\lambda_1$ <br>\n",
    "$H_1: \\lambda = \\lambda_0$ <br>\n",
    "\n",
    "Статистика отношения правдоподобия: <br>\n",
    "$LR(\\vec{x}) = \\frac{L(\\vec{x}, \\theta_1)}{L(\\vec{x}, \\theta_2)} = (\\frac{\\lambda_0}{\\lambda_1})^{\\frac{n}2} \\cdot \\exp\\left(\\frac{\\sum\\limits_{i=1}^nx_i}2(\\lambda_1-\\lambda_0)\\right)$ <br>\n",
    "В силу монотонности статистики $LR(\\vec{x})$ относительно МДС $\\overline{x}$ <br>\n",
    " $LR(\\vec{x}) > c \\Leftrightarrow \\overline{x} < c^*$ <br>\n",
    " $LR(\\vec{x}) < c \\Leftrightarrow \\overline{x} > c^*$ <br>\n",
    "$\\phi(x) = \\left\\{\\begin{array}{l}1,\\overline{x} < c^*\\\\p,\\overline{x} = c^*\\\\0, \\overline{x} > c^*\\end{array}\\right\\}$ <br>\n",
    "По ЦПТ: <br>\n",
    "$ \\sqrt{n} \\frac{\\overline{x}-a}{\\sigma} \\sim \\mathcal{N}(0,1)$ <br>\n",
    "$\\mathbb{E}{X} =\\frac{1}{\\lambda_1}, \\mathbb{D}{X} =\\frac{2}{\\lambda_1^2} $ <br>\n",
    "$ \\sqrt{n} \\frac{\\overline{x}-\\frac{1}{\\lambda_1}}{\\sqrt{\\frac{2}{\\lambda_1^2}}} \\sim \\mathcal{N}(0,1)$ <br>\n",
    "$P(\\sqrt{n} \\frac{\\overline{x}-\\frac{1}{\\lambda_1}}{\\frac{\\sqrt{2}}{\\lambda_1}} \\geq \\sqrt{n} \\frac{c^*-\\frac{1}{\\lambda_1}}{\\frac{\\sqrt{2}}{\\lambda_1}}) = 1 - \\Phi(\\sqrt{n} \\frac{c^*-\\frac{1}{\\lambda_1}}{\\frac{\\sqrt{2}}{\\lambda_1}}) = \\alpha $ <br>\n",
    "$x_{\\alpha} = \\sqrt{n} \\frac{c^*-\\frac{1}{\\lambda_1}}{\\frac{\\sqrt{2}}{\\lambda_1}}$\n",
    "$x_{\\alpha}: \\Phi(x_{\\alpha}) = 1 - \\alpha$"
   ]
  },
  {
   "cell_type": "code",
   "execution_count": 50,
   "id": "c02db007-1530-4939-9aa0-131f076e2f70",
   "metadata": {},
   "outputs": [
    {
     "name": "stdout",
     "output_type": "stream",
     "text": [
      "с*: 1.411\n"
     ]
    }
   ],
   "source": [
    "lam1=1\n",
    "alpha = 0.02\n",
    "c_star =  round(stats.norm.ppf(1-alpha),3)* np.sqrt(2)/(np.sqrt(lam1)*np.sqrt(N) )+ 1/lam1\n",
    "print(\"с*:\", round(c_star,3))"
   ]
  },
  {
   "cell_type": "markdown",
   "id": "6759ff6f-2436-447b-b390-9db289379698",
   "metadata": {},
   "source": [
    "$c^* = 1.411 $ <br>\n",
    "$\\overline x = 0.986 \\Rightarrow \\overline x < c^*$ - значит гипотезу принимаем <br>"
   ]
  },
  {
   "cell_type": "markdown",
   "id": "ed6dd168-5a9a-4d35-b2f3-083830ac38d5",
   "metadata": {},
   "source": [
    "## Выводы\n",
    "\n",
    "В данной работе были изучены и применены методы математической статистики для решения задач статистического анализа, сформированы навыки реализации методов с помощью прикладных программных пакетов. Были освоены навыки проведения статистических тестов, анализа выборочных данных, построения ОМП и ОММ, нахождения НРМД, построения доверительных интервалов и мощных критериев, проверки простых и сложных гипотез. Данная работа предоставила возможность поработать с библиотеками Python, такими как Pandas, NumPy, Matplotlib, SciPy."
   ]
  }
 ],
 "metadata": {
  "kernelspec": {
   "display_name": "Python 3 (ipykernel)",
   "language": "python",
   "name": "python3"
  },
  "language_info": {
   "codemirror_mode": {
    "name": "ipython",
    "version": 3
   },
   "file_extension": ".py",
   "mimetype": "text/x-python",
   "name": "python",
   "nbconvert_exporter": "python",
   "pygments_lexer": "ipython3",
   "version": "3.11.5"
  }
 },
 "nbformat": 4,
 "nbformat_minor": 5
}
