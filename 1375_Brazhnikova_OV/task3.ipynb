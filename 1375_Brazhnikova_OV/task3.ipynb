{
 "cells": [
  {
   "cell_type": "markdown",
   "id": "8cb90baa-9371-4bbe-b112-bb8f32db718e",
   "metadata": {},
   "source": [
    "# Практическая работа №3: Регрессионный анализ\n",
    "Выполнила студентка гр. 1375 Бражникова Ольга. Вариант №5"
   ]
  },
  {
   "cell_type": "markdown",
   "id": "3b88c11e-ebad-4523-a2cb-4f07402ef93f",
   "metadata": {},
   "source": [
    "## Цель работы\n",
    "Ознакомление с основными положениями метода наименьших квадратов (МНК), со статистическими свойствами МНК-оценок, с понятием функции регрессии и роли МНК в регрессионном анализе."
   ]
  },
  {
   "cell_type": "markdown",
   "id": "f9ef9d21-a3ab-4e3c-b5f9-35fbc9200f56",
   "metadata": {},
   "source": [
    "## Основные теоретические положения\n",
    "<i><b> Линейная регрессионная модель</b></i>   <br>\n",
    "Статистические данные $(Y, Z)$ <br>\n",
    "Линейная регрессионная модель: $\\mathbb{E_\\theta}(Y|Z) = X(Z)^{\\intercal}$  <br>\n",
    "Статистическая модель: $\\mathbb{E_\\theta}(Y|Z) = X^{\\intercal}\\beta, \\;\\; Var(Y|Z) = \\sigma^2E,\\;\\; X -$ Матрица регрессоров  <br>\n",
    "Альтернативная форма записис модели линейной регрессии: $Y = X^{\\intercal}\\beta + \\varepsilon,\\;\\; \\mathbb{E_\\theta}\\varepsilon = 0,\\;\\; Var_\\theta \\varepsilon = \\sigma^2E$  <br>\n",
    "\n",
    "<i><b>Несмещенная оценка дисперсии(Дисперсия ошибки): </b></i> <br>\n",
    "$S^2 = \\large\\frac{SS_e}{n -r} = \\large\\frac{RSS(\\widehat \\beta)}{n - r},$ где: <br>\n",
    "$S^2 - $несмещенная оценка дисперсии <br>\n",
    "$r$ - ранг матрицы $X$ <br>\n",
    "\n",
    "<i><b>  Метод наименьших квадратов </b></i> <br>\n",
    "\n",
    "$RSS\\left(\\beta\\right)=\\left(Y-X^T\\beta\\right)^T\\left(Y-X^T\\beta\\right)\\underset\\beta{\\rightarrow\\min}$<br>\n",
    "Система нормальных уравнений в матричном виде: $XX^{\\intercal}\\beta=XY$<br>\n",
    "Решение системы нормальных уравнений: $\\widehat\\beta=\\left(XX^{\\intercal}\\right)^{-1}XY$\n",
    "\n",
    "<i><b>Проверка гипотез:</b></i> <br>\n",
    "$\\mathbb{F} - $ критерий: <br>\n",
    "Основная гипотеза: $H_0: \\psi = 0$ <br>\n",
    "$\\mathbb{F} - $ статистика: $\\mathbb{F} = \\large \\frac{SS_H(n -r)}{q SS_e}$ <br>\n",
    "$SS_H = RSS(\\widehat \\beta_H) - RSS(\\widehat \\beta)$ <br>\n",
    "$\\widehat \\beta_H$ - МНК оценка при выполнении основной гипотезы $\\psi = 0$ <br>\n",
    "$SS_e = R(\\widehat \\beta) = S^2(n - r)$ <br>\n",
    "\n",
    "Проверка гипотезы согласия: <br>\n",
    "$\\mathbb{F} - $ статистика при основной гипотезе имеет распределение Фишера-Снедекора $\\mathcal{F}_{q, n - r}$ <br>\n",
    "Границы критической области: $x_\\alpha:\\mathcal{F}_{q, n - r}(x_\\alpha) = 1 - \\alpha $ <br>\n",
    "p-value: $pv = 1 - \\mathcal{F}_{q, n - r}(\\mathbb{F})$ <br> <br>\n",
    "\n",
    "<i><b>Теорема Колмогорова:</b></i> <br>\n",
    "Пусть $X_1,\\ldots,X_n$ - выборка объема $n$, порожденная случайная величина с непрерывной функцией распределения $F(x)$. <br>\n",
    "Пусть $F_n(x)$ - выборочная функция распределения. Если ввести обозначение <br>\n",
    "$D_n = \\sup\\limits_{x \\in \\mathbb{R}} |F_n(x) - F(x)|$, то выполняется <br>\n",
    "$ \\lim\\limits_{n \\to \\infty} P(\\sqrt{n}D_n \\leq t) = K(t)$ <br>\n",
    "<i><b>Критерий $\\chi^2$ для проверки простой гипотезы:</b></i> <br>\n",
    "<i>Построение критерия:</i> <br>\n",
    "<ul>\n",
    "    <li>Абсолютные частоты: $v_j = \\sum\\limits_{j=1}^n 1_{\\{X_i=I_j\\}}, j = 1, \\ldots, n$</li>\n",
    "    <li>Статистика критерия: $X^2 = \\sum\\limits_{j=1}^r \\frac{(v_j - np_{j0})^2}{np_{j0}}$</li>\n",
    "    <ul>\n",
    "        <li>$p_{j0} = F_0(I_j), j=1, \\ldots, r$ - гипотетические вероятности  попадания в интервалы </li>\n",
    "        <li>$np_{j0}$ - ожидаемые частоты</li>\n",
    "    </ul>\n",
    "    <li>Асимптотическое распределение при основной гипотезе: $X^2 \\Rightarrow \\chi_{r-1}^2$</li>\n",
    "    <li>Асимптотический критерий уровня значимости $\\alpha$: <br> $\\phi(x) = \\left\\{\\begin{array}{l} 0,X^2 \\leq x_{\\alpha}\\\\1, X^2 > x_{\\alpha}\\end{array}\\right.$ </li>\n",
    "    <ul>\n",
    "        <li>$x_\\alpha: K_{r-1}(x_\\alpha)=1-\\alpha$</li>\n",
    "        <li>$K_{r-1}$ - функция распределения $ \\chi_{r-1}^2$</li>\n",
    "    </ul>\n",
    "</ul>\n",
    "\n",
    "<i><b>Доверительный эллипсоид ДНО-функции параметра $\\psi$:</b></i> <br>\n",
    "Ключевое свойство нормального распределения: <br>\n",
    "$\\xi \\sim \\mathcal{N}(0, \\Sigma), \\det\\Sigma>0 \\Rightarrow \\xi^{\\intercal}\\Sigma^{-1}\\xi \\sim \\chi_q^2$ <br>\n",
    "Таким образом, <br>\n",
    "$\\sigma^{-2}(\\hat\\psi - \\psi)^{\\intercal} B^{-1}(\\hat\\psi - \\psi) \\sim \\chi_q^2$ <br>\n",
    "Ввиду независимости $\\hat\\psi$ и $RSS(\\hat\\beta)$: <br>\n",
    "$\\frac{(\\hat\\psi - \\psi)^{\\intercal} B^{-1}(\\hat\\psi - \\psi)}{qs^2} \\sim \\mathcal{F}_{q,n-r}$ <br>\n",
    "Доверительный эллипсоид уровня доверия $1-\\alpha$ функции параметра $\\psi$ <br>\n",
    "$A_{\\alpha}=\\{\\vec{x}: (\\vec{x}-\\hat\\psi)^{\\intercal} B^{-1} (\\vec{x}-\\hat\\psi) \\leq qs^2x_{\\alpha} \\}$, где <br>\n",
    "$x_{\\alpha}: \\mathcal{F}_{q, n-r}(x_{\\alpha}) = 1 - \\alpha$ <br>\n",
    "\n",
    "<i><b>Доверительный интервал:</b></i> <br>\n",
    "Дно-функция: $\\psi = C^{\\intercal}\\beta$ <br>\n",
    "МНК - оценка: $\\hat\\psi = C^{\\intercal}\\hat\\beta$ <br>\n",
    "Элемент дисперсии оценки: $b_{\\psi} =  C^{\\intercal}(XX^{\\intercal})^{-1}C$ <br>\n",
    "Распределение: $\\hat\\psi \\sim \\mathcal{N}(\\psi, \\sigma^2b)$ <br>\n",
    "Распределение: $\\frac{\\hat\\psi -\\psi }{s\\sqrt{b}} \\sim \\mathcal{S}_{n-1}$ <br>\n",
    "Доверительный интервал уровня $1-\\alpha$: <br> \n",
    "$[\\hat\\psi - x_{\\alpha}s\\sqrt{b}, \\hat\\psi + x_{\\alpha}s\\sqrt{b}] \\ni \\psi $, где <br>\n",
    "$x_{\\alpha}: \\mathcal{S}_{n-r} = 1 - \\frac{\\alpha}2$ <br>"
   ]
  },
  {
   "cell_type": "markdown",
   "id": "46028df3-63a6-4ab3-9463-62eec7e8de8a",
   "metadata": {},
   "source": [
    "## Постановка задачи\n",
    "Результаты статистического эксперимента представлены в виде двух переменных. Требуется оценить характер (случайной) зависимости переменной $Y$  от переменной $X$\r\n",
    ". Полученные результаты содержательно проинтерпретировать."
   ]
  },
  {
   "cell_type": "markdown",
   "id": "a0bc0d7b-35a8-4c50-9f93-c5895335f363",
   "metadata": {},
   "source": [
    "## Выполнение работы"
   ]
  },
  {
   "cell_type": "code",
   "execution_count": 1,
   "id": "b58f3491-da28-4356-997f-c553d88ee3f9",
   "metadata": {},
   "outputs": [],
   "source": [
    "import numpy as np\n",
    "import pandas as pd\n",
    "import matplotlib.pyplot as plt\n",
    "from numpy.linalg import inv\n",
    "from numpy import linalg\n",
    "from scipy import stats\n",
    "import seaborn as sns\n",
    "from matplotlib import style"
   ]
  },
  {
   "cell_type": "code",
   "execution_count": 142,
   "id": "8083e7d6-65e8-4f16-ad67-71b4b792ccfe",
   "metadata": {},
   "outputs": [
    {
     "data": {
      "text/html": [
       "<div>\n",
       "<style scoped>\n",
       "    .dataframe tbody tr th:only-of-type {\n",
       "        vertical-align: middle;\n",
       "    }\n",
       "\n",
       "    .dataframe tbody tr th {\n",
       "        vertical-align: top;\n",
       "    }\n",
       "\n",
       "    .dataframe thead th {\n",
       "        text-align: right;\n",
       "    }\n",
       "</style>\n",
       "<table border=\"1\" class=\"dataframe\">\n",
       "  <thead>\n",
       "    <tr style=\"text-align: right;\">\n",
       "      <th></th>\n",
       "      <th>0</th>\n",
       "      <th>1</th>\n",
       "      <th>2</th>\n",
       "      <th>3</th>\n",
       "      <th>4</th>\n",
       "      <th>5</th>\n",
       "      <th>6</th>\n",
       "      <th>7</th>\n",
       "      <th>8</th>\n",
       "      <th>9</th>\n",
       "      <th>...</th>\n",
       "      <th>40</th>\n",
       "      <th>41</th>\n",
       "      <th>42</th>\n",
       "      <th>43</th>\n",
       "      <th>44</th>\n",
       "      <th>45</th>\n",
       "      <th>46</th>\n",
       "      <th>47</th>\n",
       "      <th>48</th>\n",
       "      <th>49</th>\n",
       "    </tr>\n",
       "  </thead>\n",
       "  <tbody>\n",
       "    <tr>\n",
       "      <th>x</th>\n",
       "      <td>0.00</td>\n",
       "      <td>4.00</td>\n",
       "      <td>5.0</td>\n",
       "      <td>4.00</td>\n",
       "      <td>2.00</td>\n",
       "      <td>4.00</td>\n",
       "      <td>1.00</td>\n",
       "      <td>3.00</td>\n",
       "      <td>6.00</td>\n",
       "      <td>6.00</td>\n",
       "      <td>...</td>\n",
       "      <td>2.00</td>\n",
       "      <td>6.00</td>\n",
       "      <td>4.0</td>\n",
       "      <td>4.00</td>\n",
       "      <td>1.00</td>\n",
       "      <td>5.00</td>\n",
       "      <td>6.00</td>\n",
       "      <td>5.00</td>\n",
       "      <td>4.00</td>\n",
       "      <td>4.00</td>\n",
       "    </tr>\n",
       "    <tr>\n",
       "      <th>y</th>\n",
       "      <td>14.01</td>\n",
       "      <td>13.39</td>\n",
       "      <td>12.0</td>\n",
       "      <td>14.01</td>\n",
       "      <td>13.61</td>\n",
       "      <td>12.57</td>\n",
       "      <td>12.76</td>\n",
       "      <td>14.48</td>\n",
       "      <td>12.43</td>\n",
       "      <td>13.47</td>\n",
       "      <td>...</td>\n",
       "      <td>12.68</td>\n",
       "      <td>14.07</td>\n",
       "      <td>12.7</td>\n",
       "      <td>11.86</td>\n",
       "      <td>13.38</td>\n",
       "      <td>13.77</td>\n",
       "      <td>11.84</td>\n",
       "      <td>13.74</td>\n",
       "      <td>13.86</td>\n",
       "      <td>11.52</td>\n",
       "    </tr>\n",
       "  </tbody>\n",
       "</table>\n",
       "<p>2 rows × 50 columns</p>\n",
       "</div>"
      ],
      "text/plain": [
       "      0      1     2      3      4      5      6      7      8      9   ...  \\\n",
       "x   0.00   4.00   5.0   4.00   2.00   4.00   1.00   3.00   6.00   6.00  ...   \n",
       "y  14.01  13.39  12.0  14.01  13.61  12.57  12.76  14.48  12.43  13.47  ...   \n",
       "\n",
       "      40     41    42     43     44     45     46     47     48     49  \n",
       "x   2.00   6.00   4.0   4.00   1.00   5.00   6.00   5.00   4.00   4.00  \n",
       "y  12.68  14.07  12.7  11.86  13.38  13.77  11.84  13.74  13.86  11.52  \n",
       "\n",
       "[2 rows x 50 columns]"
      ]
     },
     "execution_count": 142,
     "metadata": {},
     "output_type": "execute_result"
    }
   ],
   "source": [
    "# Перенос данных эксперимента из таблицы\n",
    "y = []\n",
    "strY1=[14.01, 13.39, 12.00, 14.01, 13.61, 12.57, 12.76, 14.48, 12.43, 13.47, 11.26, 14.16, 12.42, 13.53, 14.41, 13.09, 13.55]\n",
    "strY2=[14.59, 14.38, 14.02, 14.73, 12.32, 14.15, 13.96, 14.68, 13.73, 13.26, 13.19, 13.18, 13.11, 14.76, 12.53, 12.05, 13.36]\n",
    "strY3=[13.74, 13.20, 13.90, 12.79, 14.17, 9.80, 12.68, 14.07, 12.70, 11.86, 13.38, 13.77, 11.84, 13.74, 13.86, 11.52]\n",
    "strY = strY1+strY2+strY3\n",
    "y.extend(strY)\n",
    "x = []\n",
    "strX1 = [0, 4, 5, 4, 2, 4, 1, 3, 6, 6, 7, 5, 8, 7, 4, 5, 4]\n",
    "strX2 = [6, 5, 6, 6, 4, 4, 6, 4, 5, 3, 8, 2, 5, 4, 4, 6, 2]\n",
    "strX3 = [7, 7, 6, 4, 4, 3, 2, 6, 4, 4, 1, 5, 6, 5, 4, 4]\n",
    "strX = strX1+strX2+strX3\n",
    "x.extend(strX)\n",
    "table = pd.DataFrame({\n",
    "    'x':x,\n",
    "    'y':y\n",
    "})\n",
    "table.head(len(x)).T"
   ]
  },
  {
   "cell_type": "markdown",
   "id": "5c3948cd-cb05-42f5-b3b7-a2c488d0f858",
   "metadata": {},
   "source": [
    "### 1. Построить графически результаты эксперимента. Сформулировать линейную регрессионную модель переменной $Y$ по переменной $X$. Построить МНК оценки параметров сдвига $\\beta_0$ и масштаба $\\beta_1$. Построить полученную линию регрессии. Оценить визуально соответствие полученных данных и построенной оценки."
   ]
  },
  {
   "cell_type": "markdown",
   "id": "49e02648-6603-4d13-94bf-b2174f97c731",
   "metadata": {},
   "source": [
    "Построим графически результаты эксперимента."
   ]
  },
  {
   "cell_type": "code",
   "execution_count": 143,
   "id": "a0eeb029-6308-46fd-a61e-8ba0d1d4148d",
   "metadata": {},
   "outputs": [
    {
     "data": {
      "image/png": "[encoded data removed]",
      "text/plain": [
       "<Figure size 640x480 with 1 Axes>"
      ]
     },
     "metadata": {},
     "output_type": "display_data"
    }
   ],
   "source": [
    "#print(plt.style.available)\n",
    "plt.style.use(\"seaborn-v0_8-ticks\")\n",
    "palette = sns.color_palette(\"inferno\", 50)\n",
    "plt.scatter(x,y, s=150, color = palette, marker = '*', edgecolor='black')\n",
    "plt.xlabel('X')\n",
    "plt.ylabel('Y')\n",
    "plt.title('Результаты эксперимента', fontsize = '18')\n",
    "plt.grid()\n",
    "plt.show()"
   ]
  },
  {
   "cell_type": "markdown",
   "id": "638f956a-8325-4f57-8356-77445d84a366",
   "metadata": {},
   "source": [
    "Модель линейной регрессии: <br>\n",
    "$ Y = X^{\\intercal}\\beta + \\varepsilon $ <br>\n",
    "$\\mathbb{E}_{\\theta}\\varepsilon = 0$ <br>\n",
    "$Var_{\\theta}\\varepsilon = \\sigma^2 E$ <br>\n",
    "\n",
    "Составим систему нормальных уравнений: <br>\n",
    "$X X^{\\intercal} \\beta = XY$ <br>\n",
    "\n",
    "Решение системы нормальных уравнений в регулярном случае: <br>\n",
    "$\\hat\\beta = (XX^{\\intercal})^{-1}XY$ <br>\n",
    "\n",
    "$Y = \\beta_1 X + \\beta_0 +  \\varepsilon$\n",
    "\n"
   ]
  },
  {
   "cell_type": "code",
   "execution_count": 144,
   "id": "f6dd0bd7-3812-4acc-8e04-1ef2370523ba",
   "metadata": {},
   "outputs": [
    {
     "name": "stdout",
     "output_type": "stream",
     "text": [
      "13.301 -0.004\n"
     ]
    },
    {
     "data": {
      "text/html": [
       "<div>\n",
       "<style scoped>\n",
       "    .dataframe tbody tr th:only-of-type {\n",
       "        vertical-align: middle;\n",
       "    }\n",
       "\n",
       "    .dataframe tbody tr th {\n",
       "        vertical-align: top;\n",
       "    }\n",
       "\n",
       "    .dataframe thead th {\n",
       "        text-align: right;\n",
       "    }\n",
       "</style>\n",
       "<table border=\"1\" class=\"dataframe\">\n",
       "  <thead>\n",
       "    <tr style=\"text-align: right;\">\n",
       "      <th></th>\n",
       "      <th>β</th>\n",
       "    </tr>\n",
       "  </thead>\n",
       "  <tbody>\n",
       "    <tr>\n",
       "      <th>0</th>\n",
       "      <td>13.300505</td>\n",
       "    </tr>\n",
       "    <tr>\n",
       "      <th>1</th>\n",
       "      <td>-0.003768</td>\n",
       "    </tr>\n",
       "  </tbody>\n",
       "</table>\n",
       "</div>"
      ],
      "text/plain": [
       "           β\n",
       "0  13.300505\n",
       "1  -0.003768"
      ]
     },
     "execution_count": 144,
     "metadata": {},
     "output_type": "execute_result"
    }
   ],
   "source": [
    "Y = y\n",
    "X = [[1]*50, x]\n",
    "XY = np.dot(X, Y)\n",
    "XX_T= np.dot(X, np.transpose(X))\n",
    "B_hat = np.dot(inv(XX_T),XY)\n",
    "view = pd.DataFrame({\n",
    "    \"β\": B_hat,\n",
    "})\n",
    "print(*np.round(B_hat,3))\n",
    "view.head()"
   ]
  },
  {
   "cell_type": "markdown",
   "id": "dcd2cb83-919a-469e-8259-2ca4b664659a",
   "metadata": {},
   "source": [
    "МНК-оценки параметра $\\hat\\beta = \\begin{pmatrix} \\hat\\beta_0 \\\\ \\hat\\beta_1 \\end{pmatrix} = \\begin{pmatrix} 13.301 \\\\ -0.004 \\end{pmatrix} $ <br>\n",
    "Построим линию регрессии."
   ]
  },
  {
   "cell_type": "code",
   "execution_count": 145,
   "id": "8ea507f1-7bc7-406e-8d61-42153c6117f1",
   "metadata": {},
   "outputs": [],
   "source": [
    "Y_res = np.dot(np.transpose(X), B_hat)"
   ]
  },
  {
   "cell_type": "code",
   "execution_count": 146,
   "id": "b922ae72-7683-4889-9289-d50d4a16ef01",
   "metadata": {},
   "outputs": [
    {
     "data": {
      "image/png": "[encoded data removed]",
      "text/plain": [
       "<Figure size 640x480 with 1 Axes>"
      ]
     },
     "metadata": {},
     "output_type": "display_data"
    }
   ],
   "source": [
    "x_line = np.linspace(min(x), max(x), 1000)\n",
    "y_line = B_hat[0] + B_hat[1]*x_line\n",
    "\n",
    "plt.style.use(\"seaborn-v0_8-ticks\")\n",
    "palette = sns.color_palette(\"viridis\", 50)\n",
    "plt.scatter(x,y, s=150,  c = palette , marker = \"*\", edgecolor='black')\n",
    "plt.plot(x_line, y_line, c='purple')\n",
    "plt.xlabel('X')\n",
    "plt.ylabel('Y')\n",
    "plt.title('Линия регрессии', fontsize = '18')\n",
    "plt.grid()\n",
    "plt.show()"
   ]
  },
  {
   "cell_type": "markdown",
   "id": "7e8fce33-77d6-4983-8c7e-7fdd79d0441d",
   "metadata": {},
   "source": [
    "Визуально оценивая линию регрессии, можно отметить присутствие выбросов - наблюдений, серьезно выпадающих из общей совокупности. Соответствие построенной оценки и полученных данных не очень удачное."
   ]
  },
  {
   "cell_type": "markdown",
   "id": "7f1a0cd3-f413-45e8-83bb-0ddb697425c1",
   "metadata": {},
   "source": [
    "### 2. Построить и интерпретировать несмещенную оценку дисперсии. На базе ошибок построить гистограмму с шагом h. Проверить гипотезу нормальности ошибок на уровне значимости $\\alpha$ по $\\chi^2$. Оценить расстояние полученной оценки до класса нормальных распределений по Колмогорову. Визуально оценить данный эффект."
   ]
  },
  {
   "cell_type": "markdown",
   "id": "600f2790-0999-4dde-916e-5c216d9db38a",
   "metadata": {},
   "source": [
    "Несмещенная оценка дисперсии: <br>\n",
    "$s^2 = \\frac{SS_e}{(n-r)} = \\frac{RSS(\\hat\\beta)}{n-r}$ <br>\n",
    "$RSS(\\beta) = (Y - X^{\\intercal}\\beta)^{\\intercal}(Y - X^{\\intercal}\\beta) \\rightarrow \\min\\limits_\\beta$\n"
   ]
  },
  {
   "cell_type": "code",
   "execution_count": 147,
   "id": "dfa97ee0-b203-4bcd-a177-6bb2556984ac",
   "metadata": {},
   "outputs": [
    {
     "name": "stdout",
     "output_type": "stream",
     "text": [
      "Несмещенная оценка дисперсии:\n",
      "1.0435152079825585\n"
     ]
    }
   ],
   "source": [
    "n = 50\n",
    "r = 2\n",
    "s_2 = np.sum(np.power(Y - Y_res,2))/(n-r)\n",
    "print('Несмещенная оценка дисперсии:')\n",
    "print(s_2)"
   ]
  },
  {
   "cell_type": "markdown",
   "id": "18927020-c0d8-4922-8c18-8b26414f8b36",
   "metadata": {},
   "source": [
    "Построим гистограмму с шагом 1 на базе ошибок."
   ]
  },
  {
   "cell_type": "code",
   "execution_count": 148,
   "id": "e953cc25-d80e-4c73-9720-1a2650cff361",
   "metadata": {},
   "outputs": [
    {
     "data": {
      "image/png": "[encoded data removed]",
      "text/plain": [
       "<Figure size 640x480 with 1 Axes>"
      ]
     },
     "metadata": {},
     "output_type": "display_data"
    }
   ],
   "source": [
    "errors = Y - Y_res\n",
    "h = 1\n",
    "bins = np.arange(min(errors), max(errors)+h,h)\n",
    "hist = plt.hist(errors, bins = bins, color = 'red', edgecolor = 'black', align='mid', density = 'True')\n",
    "plt.xlabel('Значение')\n",
    "plt.ylabel('Частота')\n",
    "plt.title('Гистограмма частот')\n",
    "plt.show()"
   ]
  },
  {
   "cell_type": "markdown",
   "id": "f6ca4253-1918-4478-8a31-222dbbf43df6",
   "metadata": {},
   "source": [
    "Проверим гипотезу нормальности ошибок на уровне значимости $\\alpha$ по $\\chi^2$. <br>\n",
    "Разобьем числовую прямую на удобные интервалы."
   ]
  },
  {
   "cell_type": "code",
   "execution_count": 135,
   "id": "8fe53e74-dbb7-43d9-93be-a5aebc490462",
   "metadata": {},
   "outputs": [
    {
     "name": "stdout",
     "output_type": "stream",
     "text": [
      "[-3.4892021758839498, -2.9892021758839498)       1\n",
      "[-2.9892021758839498, -2.4892021758839498)       0\n",
      "[-2.4892021758839498, -1.9892021758839498)       1\n",
      "[-1.9892021758839498, -1.4892021758839498)       1\n",
      "[-1.4892021758839498, -0.9892021758839498)       4\n",
      "[-0.9892021758839498, -0.48920217588394976)      9\n",
      "[-0.48920217588394976, 0.010797824116050236)     6\n",
      "[0.010797824116050236, 0.5107978241160502)      11\n",
      "[0.5107978241160502, 1.0107978241160502)        10\n",
      "[1.0107978241160502, 1.5107978241160502)         7\n",
      "[1.5107978241160502, 2.0107978241160502)         0\n",
      "Name: count, dtype: int64\n"
     ]
    }
   ],
   "source": [
    "xmax = max(errors)\n",
    "xmin = min(errors)\n",
    "h=0.5\n",
    "view_inter = pd.DataFrame()\n",
    "bin_edges = pd.interval_range(start=xmin,\n",
    "                  freq=h,\n",
    "                  end=xmax+h,\n",
    "                  closed='left'\n",
    "                  )\n",
    "view_inter['interval'] = pd.cut(errors, bins = bin_edges)\n",
    "print(view_inter['interval'].value_counts(bins= bin_edges,sort=False))"
   ]
  },
  {
   "cell_type": "markdown",
   "id": "105cb9c1-4f78-4101-9a63-53349f6f5c15",
   "metadata": {},
   "source": [
    "$ \\begin{array}{ |c | c | c| c|}\n",
    "    \\hline\n",
    "    I_1 & I_2 & I_3 & I_4 \\\\ \\hline\n",
    "    (-\\infty, -0.5] & (-0.5, 0] & (0, 0.5]  & (0.5, +\\infty) \\\\ \\hline\n",
    "    \\hline\n",
    "  \\end{array}$ <br>\n",
    "$\\begin{array}{ |c | c | c| c|}\n",
    "    \\hline\n",
    "    n_1 & n_2 & n_3 & n_4 \\\\ \\hline\n",
    "    16 & 6 & 11  & 17 \\\\ \\hline\n",
    "    \\hline\n",
    "  \\end{array}$ <br>\n",
    "Рассчитаем $\\chi^2$"
   ]
  },
  {
   "cell_type": "code",
   "execution_count": 136,
   "id": "478f2459-694d-48e2-abea-c7f25ee41be4",
   "metadata": {},
   "outputs": [
    {
     "data": {
      "text/html": [
       "<div>\n",
       "<style scoped>\n",
       "    .dataframe tbody tr th:only-of-type {\n",
       "        vertical-align: middle;\n",
       "    }\n",
       "\n",
       "    .dataframe tbody tr th {\n",
       "        vertical-align: top;\n",
       "    }\n",
       "\n",
       "    .dataframe thead th {\n",
       "        text-align: right;\n",
       "    }\n",
       "</style>\n",
       "<table border=\"1\" class=\"dataframe\">\n",
       "  <thead>\n",
       "    <tr style=\"text-align: right;\">\n",
       "      <th></th>\n",
       "      <th>0</th>\n",
       "      <th>1</th>\n",
       "      <th>2</th>\n",
       "      <th>3</th>\n",
       "    </tr>\n",
       "  </thead>\n",
       "  <tbody>\n",
       "    <tr>\n",
       "      <th>ni</th>\n",
       "      <td>16.000000</td>\n",
       "      <td>6.000000</td>\n",
       "      <td>11.000000</td>\n",
       "      <td>17.000000</td>\n",
       "    </tr>\n",
       "    <tr>\n",
       "      <th>Pi</th>\n",
       "      <td>0.312257</td>\n",
       "      <td>0.187743</td>\n",
       "      <td>0.187743</td>\n",
       "      <td>0.312257</td>\n",
       "    </tr>\n",
       "    <tr>\n",
       "      <th>nPi</th>\n",
       "      <td>15.612834</td>\n",
       "      <td>9.387166</td>\n",
       "      <td>9.387166</td>\n",
       "      <td>15.612834</td>\n",
       "    </tr>\n",
       "    <tr>\n",
       "      <th>xi^2</th>\n",
       "      <td>0.009601</td>\n",
       "      <td>1.222189</td>\n",
       "      <td>0.277105</td>\n",
       "      <td>0.123247</td>\n",
       "    </tr>\n",
       "  </tbody>\n",
       "</table>\n",
       "</div>"
      ],
      "text/plain": [
       "              0         1          2          3\n",
       "ni    16.000000  6.000000  11.000000  17.000000\n",
       "Pi     0.312257  0.187743   0.187743   0.312257\n",
       "nPi   15.612834  9.387166   9.387166  15.612834\n",
       "xi^2   0.009601  1.222189   0.277105   0.123247"
      ]
     },
     "execution_count": 136,
     "metadata": {},
     "output_type": "execute_result"
    }
   ],
   "source": [
    "n = 4\n",
    "alpha = 0.05\n",
    "N = 50\n",
    "arr = [[float('-inf'), -0.5],[-0.5, 0],[0, 0.5],[0.5, float('inf')]] #интервалы\n",
    "freq = [16, 6, 11,17]\n",
    "Pi = []\n",
    "nPi = []\n",
    "Xi = []\n",
    "def F(x):\n",
    "    return stats.norm.cdf(x,0,np.sqrt(s_2))\n",
    "for i in range(n):\n",
    "    Fx2 = F(arr[i][1])\n",
    "    Fx1 = F(arr[i][0])\n",
    "    res = Fx2-Fx1\n",
    "    Pi.append(round(res,20))\n",
    "    nPi.append(round(res*N,10))\n",
    "    Xi.append(((freq[i] - nPi[i])**2)/nPi[i])\n",
    "\n",
    "chisq = round(np.sum(Xi),3) #получившийся хи-2\n",
    "dof = n-1 # степень свободы\n",
    "chisq_crit = round(stats.chi2.ppf(1-alpha,dof),3)\n",
    "p_value = 1 - stats.chi2.cdf(chisq, dof) # искомый уровень значимости\n",
    "\n",
    "Xi_table = pd.DataFrame(\n",
    "    {\n",
    "        \"ni\": freq,\n",
    "        \"Pi\": Pi,\n",
    "        \"nPi\": nPi,\n",
    "        \"xi^2\": Xi\n",
    "    }\n",
    ")\n",
    "Xi_table.T"
   ]
  },
  {
   "cell_type": "code",
   "execution_count": 137,
   "id": "5eae231c-edb8-41f8-9280-b56f21b75374",
   "metadata": {},
   "outputs": [
    {
     "name": "stdout",
     "output_type": "stream",
     "text": [
      "Значение хи-квадрат:\n",
      "1.632\n",
      "Квантиль х-альфа:\n",
      "7.815\n"
     ]
    }
   ],
   "source": [
    "print(\"Значение хи-квадрат:\")\n",
    "print(chisq)\n",
    "print(\"Квантиль х-альфа:\")\n",
    "print(chisq_crit)\n"
   ]
  },
  {
   "cell_type": "markdown",
   "id": "d61862f6-f49b-477e-8bf4-b3fb5d099c8d",
   "metadata": {},
   "source": [
    "Так как $\\chi^2 < x_{\\alpha}$, то гипотеза принимается. Значит, можем предположить, что ошибки имеют нормальное распределение. <br>\n",
    "Найдем наибольшее значение уровня значимости, на котором еще нет оснований отвергнуть гипотезу"
   ]
  },
  {
   "cell_type": "code",
   "execution_count": 138,
   "id": "2d115a11-f9cb-4dfc-940b-71595b2e3626",
   "metadata": {},
   "outputs": [
    {
     "name": "stdout",
     "output_type": "stream",
     "text": [
      "Значение уровня значимости, на котором еще нет оснований отвергнуть гипотезу:\n",
      "0.652\n"
     ]
    }
   ],
   "source": [
    "print( \"Значение уровня значимости, на котором еще нет оснований отвергнуть гипотезу:\" )\n",
    "print(format(p_value,'.3f'))"
   ]
  },
  {
   "cell_type": "markdown",
   "id": "aa3d3f2c-8c01-4888-b35a-01e7098aff56",
   "metadata": {},
   "source": [
    "Оценим расстояние полученной оценки до класса нормальных распределений по Колмогорову."
   ]
  },
  {
   "cell_type": "code",
   "execution_count": 139,
   "id": "9bf9b589-713d-4c07-ae2f-1868a7eb2bd9",
   "metadata": {},
   "outputs": [
    {
     "name": "stdout",
     "output_type": "stream",
     "text": [
      "Гипотеза принимается: 0.605 < 1.358\n"
     ]
    },
    {
     "data": {
      "text/html": [
       "<div>\n",
       "<style scoped>\n",
       "    .dataframe tbody tr th:only-of-type {\n",
       "        vertical-align: middle;\n",
       "    }\n",
       "\n",
       "    .dataframe tbody tr th {\n",
       "        vertical-align: top;\n",
       "    }\n",
       "\n",
       "    .dataframe thead th {\n",
       "        text-align: right;\n",
       "    }\n",
       "</style>\n",
       "<table border=\"1\" class=\"dataframe\">\n",
       "  <thead>\n",
       "    <tr style=\"text-align: right;\">\n",
       "      <th></th>\n",
       "      <th>0</th>\n",
       "      <th>1</th>\n",
       "      <th>2</th>\n",
       "      <th>3</th>\n",
       "      <th>4</th>\n",
       "      <th>5</th>\n",
       "      <th>6</th>\n",
       "      <th>7</th>\n",
       "      <th>8</th>\n",
       "      <th>9</th>\n",
       "      <th>...</th>\n",
       "      <th>40</th>\n",
       "      <th>41</th>\n",
       "      <th>42</th>\n",
       "      <th>43</th>\n",
       "      <th>44</th>\n",
       "      <th>45</th>\n",
       "      <th>46</th>\n",
       "      <th>47</th>\n",
       "      <th>48</th>\n",
       "      <th>49</th>\n",
       "    </tr>\n",
       "  </thead>\n",
       "  <tbody>\n",
       "    <tr>\n",
       "      <th>Эмпир.функция</th>\n",
       "      <td>0.020000</td>\n",
       "      <td>0.040000</td>\n",
       "      <td>0.060000</td>\n",
       "      <td>0.080000</td>\n",
       "      <td>0.100000</td>\n",
       "      <td>0.120000</td>\n",
       "      <td>0.140000</td>\n",
       "      <td>0.160000</td>\n",
       "      <td>0.180000</td>\n",
       "      <td>0.20000</td>\n",
       "      <td>...</td>\n",
       "      <td>0.82000</td>\n",
       "      <td>0.840000</td>\n",
       "      <td>0.860000</td>\n",
       "      <td>0.880000</td>\n",
       "      <td>0.900000</td>\n",
       "      <td>0.920000</td>\n",
       "      <td>0.940000</td>\n",
       "      <td>0.960000</td>\n",
       "      <td>0.980000</td>\n",
       "      <td>1.000000</td>\n",
       "    </tr>\n",
       "    <tr>\n",
       "      <th>Теор.функция</th>\n",
       "      <td>0.000318</td>\n",
       "      <td>0.024323</td>\n",
       "      <td>0.041973</td>\n",
       "      <td>0.079625</td>\n",
       "      <td>0.081448</td>\n",
       "      <td>0.104801</td>\n",
       "      <td>0.114677</td>\n",
       "      <td>0.172306</td>\n",
       "      <td>0.202579</td>\n",
       "      <td>0.20326</td>\n",
       "      <td>...</td>\n",
       "      <td>0.80132</td>\n",
       "      <td>0.805057</td>\n",
       "      <td>0.806735</td>\n",
       "      <td>0.858855</td>\n",
       "      <td>0.864523</td>\n",
       "      <td>0.878133</td>\n",
       "      <td>0.900508</td>\n",
       "      <td>0.913902</td>\n",
       "      <td>0.922415</td>\n",
       "      <td>0.925559</td>\n",
       "    </tr>\n",
       "    <tr>\n",
       "      <th>разность</th>\n",
       "      <td>0.019682</td>\n",
       "      <td>0.015677</td>\n",
       "      <td>0.018027</td>\n",
       "      <td>0.000375</td>\n",
       "      <td>0.018552</td>\n",
       "      <td>0.015199</td>\n",
       "      <td>0.025323</td>\n",
       "      <td>0.012306</td>\n",
       "      <td>0.022579</td>\n",
       "      <td>0.00326</td>\n",
       "      <td>...</td>\n",
       "      <td>0.01868</td>\n",
       "      <td>0.034943</td>\n",
       "      <td>0.053265</td>\n",
       "      <td>0.021145</td>\n",
       "      <td>0.035477</td>\n",
       "      <td>0.041867</td>\n",
       "      <td>0.039492</td>\n",
       "      <td>0.046098</td>\n",
       "      <td>0.057585</td>\n",
       "      <td>0.074441</td>\n",
       "    </tr>\n",
       "  </tbody>\n",
       "</table>\n",
       "<p>3 rows × 50 columns</p>\n",
       "</div>"
      ],
      "text/plain": [
       "                     0         1         2         3         4         5   \\\n",
       "Эмпир.функция  0.020000  0.040000  0.060000  0.080000  0.100000  0.120000   \n",
       "Теор.функция   0.000318  0.024323  0.041973  0.079625  0.081448  0.104801   \n",
       "разность       0.019682  0.015677  0.018027  0.000375  0.018552  0.015199   \n",
       "\n",
       "                     6         7         8        9   ...       40        41  \\\n",
       "Эмпир.функция  0.140000  0.160000  0.180000  0.20000  ...  0.82000  0.840000   \n",
       "Теор.функция   0.114677  0.172306  0.202579  0.20326  ...  0.80132  0.805057   \n",
       "разность       0.025323  0.012306  0.022579  0.00326  ...  0.01868  0.034943   \n",
       "\n",
       "                     42        43        44        45        46        47  \\\n",
       "Эмпир.функция  0.860000  0.880000  0.900000  0.920000  0.940000  0.960000   \n",
       "Теор.функция   0.806735  0.858855  0.864523  0.878133  0.900508  0.913902   \n",
       "разность       0.053265  0.021145  0.035477  0.041867  0.039492  0.046098   \n",
       "\n",
       "                     48        49  \n",
       "Эмпир.функция  0.980000  1.000000  \n",
       "Теор.функция   0.922415  0.925559  \n",
       "разность       0.057585  0.074441  \n",
       "\n",
       "[3 rows x 50 columns]"
      ]
     },
     "execution_count": 139,
     "metadata": {},
     "output_type": "execute_result"
    }
   ],
   "source": [
    "# Оценим расстояние полученной оценки до класса нормальных распределений по Колмагорову\n",
    "# эмпирическая функция распределения\n",
    "F_empir = np.arange(1, N+1)/N\n",
    "errors = sorted(errors)\n",
    "# теоритическая функция нормального распределения\n",
    "def F(x):\n",
    "    return stats.norm.cdf(x,0,np.sqrt(s_2))\n",
    "F_th = []\n",
    "dif = []\n",
    "for i in range(N):\n",
    "    F_th.append(F(errors[i]))\n",
    "    #разность\n",
    "    dif.append(np.abs(F_empir[i] - F_th[i]))\n",
    "# D\n",
    "D = np.max(dif)*np.sqrt(N)\n",
    "# Расчет критического значения\n",
    "crit_value = stats.kstwobign.ppf(1-0.05)\n",
    "if D>crit_value:\n",
    "    print(\"Гипотеза отвергается:\", round(D,3),\">\", round(crit_value,3))\n",
    "else:\n",
    "     print(\"Гипотеза принимается:\",round(D,3),\"<\", round(crit_value,3))\n",
    "# Вычисляем p-значение (наибольший уровень значимости)\n",
    "p_value = 1 - stats.kstwobign.cdf(D) \n",
    "view2 = pd.DataFrame(\n",
    "    {\n",
    "        'Эмпир.функция':F_empir,\n",
    "        'Теор.функция':F_th,\n",
    "        'разность': dif,\n",
    "    }\n",
    ")\n",
    "view2.head(N).T"
   ]
  },
  {
   "cell_type": "markdown",
   "id": "3af40c5f-56e0-4174-b950-a5ea86e3c510",
   "metadata": {},
   "source": [
    "Так как $D_n < x_{\\alpha}$, то гипотеза принимается. <br>\n",
    "Найдем наибольшее значение уровня значимости, на котором еще нет оснований отвергнуть гипотезу"
   ]
  },
  {
   "cell_type": "code",
   "execution_count": 140,
   "id": "cf42fb0c-04dd-4bc4-980a-e418b5e2421c",
   "metadata": {},
   "outputs": [
    {
     "name": "stdout",
     "output_type": "stream",
     "text": [
      "Значение уровня значимости, на котором еще нет оснований отвергнуть гипотезу:\n",
      "0.857\n"
     ]
    }
   ],
   "source": [
    "print( \"Значение уровня значимости, на котором еще нет оснований отвергнуть гипотезу:\" )\n",
    "print(format(p_value,'.3f'))"
   ]
  },
  {
   "cell_type": "code",
   "execution_count": 141,
   "id": "f9efed78-886f-43e4-9747-eb34b1f7b639",
   "metadata": {},
   "outputs": [
    {
     "data": {
      "image/png": "[encoded data removed]",
      "text/plain": [
       "<Figure size 640x480 with 1 Axes>"
      ]
     },
     "metadata": {},
     "output_type": "display_data"
    }
   ],
   "source": [
    "plt.plot(errors,F_th, color ='red', label = 'Теоретическая')\n",
    "plt.step(errors,F_empir, where='post', color = 'green', label = 'Эмпирическая')\n",
    "plt.grid()\n",
    "plt.xlabel('x')\n",
    "plt.ylabel('F(x)')\n",
    "plt.legend()\n",
    "plt.show()"
   ]
  },
  {
   "cell_type": "markdown",
   "id": "4fd3df88-9674-4bb8-abce-e875d11807ac",
   "metadata": {},
   "source": [
    "Анализируя график, можно увидеть, что расстояние между данными функциями распределения невелико, вследствие чего гипотеза принимается."
   ]
  },
  {
   "cell_type": "markdown",
   "id": "278979fe-4cd5-4083-a8ac-6864e9626275",
   "metadata": {},
   "source": [
    "### 3. В предположении нормальности ошибок построить доверительные интервалы для параметров $\\beta_0$ и $\\beta_1$ уровня доверия $1-\\alpha$. Построить доверительный эллипс уровня доверия $1-\\alpha$ для $(\\beta_0,\\beta_1)$ (вычислить его полуоси)."
   ]
  },
  {
   "cell_type": "markdown",
   "id": "4e462642-b2cd-4e0a-a653-922d979e7892",
   "metadata": {},
   "source": [
    "Доверительный интервал уровня $1-\\alpha$: <br>\n",
    "$[\\hat\\psi - x_{\\alpha}s\\sqrt{b}, \\hat\\psi + x_{\\alpha}s\\sqrt{b}] \\ni \\psi $, где <br>\n",
    "$x_{\\alpha}: S_{n-r} = 1 - \\frac{\\alpha}2$ <br>\n",
    "$\\hat\\psi = C^{\\intercal}\\hat\\beta$ <br>\n",
    "$b_{\\psi} =  C^{\\intercal}(XX^{\\intercal})^{-1}C$ <br>\n",
    "Так как нужно определить каждый параметр отдельно, то <br>\n",
    "$C_0 =  \\begin{pmatrix}1 \\\\ 0\\end{pmatrix} $ <br> <br>\n",
    "$C_1 =  \\begin{pmatrix}0 \\\\ 1\\end{pmatrix} $ <br>"
   ]
  },
  {
   "cell_type": "code",
   "execution_count": 149,
   "id": "39f1c92b-6691-433b-ae83-f4e79dd28383",
   "metadata": {},
   "outputs": [
    {
     "name": "stdout",
     "output_type": "stream",
     "text": [
      "Доверительный интервал уровня доверия 0.95 для параметра β0:\n",
      "[ 12.496 , 14.105 ]\n"
     ]
    }
   ],
   "source": [
    "# Beta_0\n",
    "n = 50\n",
    "r = 2\n",
    "C0 = [1,0]\n",
    "psi0 = np.dot(np.transpose(C0), B_hat)\n",
    "b = np.dot( np.dot(np.transpose(C0),inv(XX_T)), C0)\n",
    "x_alpha = stats.t.ppf(1-alpha/2, df = n-r)\n",
    "left = psi0 - x_alpha*np.sqrt(s_2*b)\n",
    "right = psi0 + x_alpha*np.sqrt(s_2*b)\n",
    "print('Доверительный интервал уровня доверия 0.95 для параметра β0:')\n",
    "print('[', round(left,3),',',round(right,3),']')\n"
   ]
  },
  {
   "cell_type": "code",
   "execution_count": 150,
   "id": "a654a96c-bedf-4116-b780-e8e05eaad2e7",
   "metadata": {},
   "outputs": [
    {
     "name": "stdout",
     "output_type": "stream",
     "text": [
      "Доверительный интервал уровня доверия 0.95 для параметра β1:\n",
      "[ -0.169 , 0.162 ]\n"
     ]
    }
   ],
   "source": [
    "# Beta_1\n",
    "C1 = [0,1]\n",
    "psi1 = np.dot(np.transpose(C1), B_hat)\n",
    "b = np.dot( np.dot(np.transpose(C1),inv(XX_T)), C1)\n",
    "x_alpha = stats.t.ppf(1-alpha/2, df = n-r)\n",
    "left = psi1 - x_alpha*np.sqrt(s_2*b)\n",
    "right = psi1 + x_alpha*np.sqrt(s_2*b)\n",
    "print('Доверительный интервал уровня доверия 0.95 для параметра β1:')\n",
    "print('[', round(left,3),',',round(right,3),']')"
   ]
  },
  {
   "cell_type": "markdown",
   "id": "70e9aedb-5d78-4eb5-b5e7-e6ba52230611",
   "metadata": {},
   "source": [
    "Построим доверительный эллипс уровня $1-\\alpha$"
   ]
  },
  {
   "cell_type": "markdown",
   "id": "3e78a529-7318-40ba-aef2-5e6442e70877",
   "metadata": {},
   "source": [
    "$A_{\\alpha}=\\{\\vec{x}: (\\vec{x}-\\hat\\psi)^{\\intercal} B^{-1} (\\vec{x}-\\hat\\psi) \\leq qs^2x_{\\alpha} \\}$, где <br>\n",
    "$x_{\\alpha}: \\mathcal{F}_{q, n-r}(x_{\\alpha}) = 1 - \\alpha$ <br>\n",
    "$B = C^{\\intercal}(XX^{\\intercal})^{-1} C$ <br>\n",
    "Приведем уравнение эллипса к каноническому виду. <br>\n",
    "Вычислим $B^{-1}$"
   ]
  },
  {
   "cell_type": "code",
   "execution_count": 151,
   "id": "43a32fce-0d75-4956-b548-95d0418be739",
   "metadata": {},
   "outputs": [
    {
     "name": "stdout",
     "output_type": "stream",
     "text": [
      "[[  50.  227.]\n",
      " [ 227. 1185.]]\n"
     ]
    }
   ],
   "source": [
    "C = [[1,0],[0,1]]\n",
    "invB= inv(np.dot(np.dot(np.transpose(C),inv(XX_T)),C))\n",
    "print(invB)"
   ]
  },
  {
   "cell_type": "markdown",
   "id": "0f91301b-9bbb-49ea-b1d2-9b79d6df4458",
   "metadata": {},
   "source": [
    "<br> $(\\vec{x}-\\hat\\psi)^{\\intercal} B^{-1} (\\vec{x}-\\hat\\psi) = \\left(\\begin{pmatrix} \\beta_0 \\\\ \\beta_1 \\end{pmatrix} - \\begin{pmatrix} 13.301 \\\\ -0.004\\end{pmatrix}\\right)^{\\intercal} \\begin{pmatrix}50&227\\\\227&1185\\end{pmatrix} \\left(\\begin{pmatrix} \\beta_0 \\\\ \\beta_1 \\end{pmatrix} - \\begin{pmatrix} 13.301 \\\\ -0.004\\end{pmatrix}\\right) = $ <br> $\\begin{pmatrix} \\beta_0 - 13.301\\\\ \\beta_1 + 0.004 \\end{pmatrix} ^{\\intercal} \\begin{pmatrix}50&227\\\\227&1185\\end{pmatrix} \\begin{pmatrix} \\beta_0 - 13.301\\\\ \\beta_1 + 0.004 \\end{pmatrix} $ <br>\n",
    "Пусть $\\beta^{\\prime}_0 = \\beta_0 - 13.301, \\beta^{\\prime}_1 = \\beta_1 + 0.004$. Тогда: <br>\n",
    "$(\\vec{x}-\\hat\\psi)^{\\intercal} B^{-1} (\\vec{x}-\\hat\\psi) =  \\begin{pmatrix} \\beta^{\\prime}_0\\\\ \\beta^{\\prime}_1 \\end{pmatrix} ^{\\intercal} \\begin{pmatrix}50&227\\\\227&1185\\end{pmatrix} \\begin{pmatrix} \\beta^{\\prime}_0\\\\ \\beta^{\\prime}_1 \\end{pmatrix}  $ <br>\n",
    "Воспользуемся ортогональным преобразованием. <br>\n",
    "Найдем собственные числа матрицы $B^{-1}$"
   ]
  },
  {
   "cell_type": "code",
   "execution_count": 152,
   "id": "a168876d-7859-42b5-ace3-eb5402ee0ac6",
   "metadata": {},
   "outputs": [
    {
     "name": "stdout",
     "output_type": "stream",
     "text": [
      "Собственные числа: [   6.28379439 1228.71620561]\n"
     ]
    }
   ],
   "source": [
    "eigenvalues, eigenvectors = linalg.eig(invB)\n",
    "print('Собственные числа:', eigenvalues)"
   ]
  },
  {
   "cell_type": "markdown",
   "id": "53c8a9f9-7da4-42ca-98fa-3fe1df127d45",
   "metadata": {},
   "source": [
    "$\\lambda_0 {\\beta^{\\prime}_0}^2  + \\lambda_1  {\\beta^{\\prime}_1}^2 \\leq qs^2 x_{\\alpha}$ <br>\n"
   ]
  },
  {
   "cell_type": "markdown",
   "id": "7a59a231-95fb-4d6d-b9de-40f7e4237710",
   "metadata": {},
   "source": [
    "$\\frac{{\\beta^{\\prime}_0}^2 \\lambda_0}{qs^2 x_{\\alpha}} + \\frac{{\\beta^{\\prime}_1}^2 \\lambda_1}{qs^2 x_{\\alpha}} \\leq 1$"
   ]
  },
  {
   "cell_type": "code",
   "execution_count": 153,
   "id": "353500c0-043e-423c-b472-ba4715fe8a85",
   "metadata": {},
   "outputs": [
    {
     "name": "stdout",
     "output_type": "stream",
     "text": [
      "0.9436338135077323 184.51561060309288\n"
     ]
    }
   ],
   "source": [
    "q = 2\n",
    "n= 50\n",
    "r = 2\n",
    "coef = [0,0]\n",
    "x_alpha = stats.f.ppf(1-alpha, dfn = q, dfd = n-r)\n",
    "for i in range(r):\n",
    "    coef[i]=eigenvalues[i]/(q*s_2*x_alpha)\n",
    "print(*coef)"
   ]
  },
  {
   "cell_type": "markdown",
   "id": "676bd7e7-b56d-48d8-b35c-3d78fbc5a4f8",
   "metadata": {},
   "source": [
    "$0.944 {\\beta^{\\prime}_0}^2 + 184.516 {\\beta^{\\prime}_1}^2  \\leq 1$ <br>"
   ]
  },
  {
   "cell_type": "code",
   "execution_count": 155,
   "id": "54a18246-80dd-4efe-b565-759f7e8f62d0",
   "metadata": {},
   "outputs": [
    {
     "name": "stdout",
     "output_type": "stream",
     "text": [
      "Полуоси:\n",
      "Большая полуось:\n",
      "1.0294333948128025\n",
      "Меньшая полуось:\n",
      "0.07361790303212852\n"
     ]
    },
    {
     "data": {
      "image/png": "[encoded data removed]",
      "text/plain": [
       "<Figure size 640x480 with 1 Axes>"
      ]
     },
     "metadata": {},
     "output_type": "display_data"
    }
   ],
   "source": [
    "# Доверительный эллипс\n",
    "# Вычислим B \n",
    "\n",
    "def trust_Ell(b0,b1): \n",
    "     beta = np.array([b0,b1])\n",
    "     ans0 = []\n",
    "     ans1 = []\n",
    "     for x in np.arange(11,14.5,0.01):\n",
    "         for y in np.arange(-1,1,0.001):\n",
    "              arr = np.array([x,y])\n",
    "              if np.dot(np.dot(np.transpose(arr - beta),invB),arr - beta) <= q*s_2*x_alpha:\n",
    "                  ans0.append(x)\n",
    "                  ans1.append(y)\n",
    "     return ans0,ans1\n",
    "\n",
    "plt.title('Доверительный эллипс')\n",
    "plt.xlabel('β0')\n",
    "plt.ylabel('β1')\n",
    "El_x,El_y = trust_Ell(B_hat[0],B_hat[1])\n",
    "palette = sns.color_palette(\"icefire\",  len(El_x))\n",
    "plt.scatter(El_x,El_y, marker = ',', color = palette)\n",
    "\n",
    "\n",
    "\n",
    "\n",
    "print('Полуоси:')\n",
    "large = np.sqrt(q*s_2*x_alpha/eigenvalues[0])\n",
    "small = np.sqrt(q*s_2*x_alpha/eigenvalues[1])\n",
    "print('Большая полуось:')\n",
    "print(large)\n",
    "print('Меньшая полуось:')\n",
    "print(small)"
   ]
  },
  {
   "cell_type": "markdown",
   "id": "5fd7f47e-0120-463f-8538-86b0bc6d2e24",
   "metadata": {},
   "source": [
    "### 4. Сформулировать гипотезу независимости переменной $Y$ от переменной $X$. Провести проверку значимости."
   ]
  },
  {
   "cell_type": "markdown",
   "id": "068bdf6e-f452-4204-be99-eda47c616408",
   "metadata": {},
   "source": [
    "Рассмотрим основную гипотезу $H_0 : \\psi = 0 (\\beta_1 = 0)$ <br>\n",
    "$H_A : \\beta_1 \\neq 0$\n",
    "\n",
    "Статистика: <br>\n",
    "$\\mathbb{F} = \\frac{\\hat{\\psi}^\\intercal B^{-1}\\hat{\\psi}}{qs^2} \\sim \\mathcal{F}_{q,n-r}$ <br>\n",
    "$\\psi = \\begin{pmatrix}1 & 0\\end{pmatrix} \\begin{pmatrix}\\beta_0 \\\\ \\beta_1\\end{pmatrix} = \\beta_1$ <br>\n",
    "$\\hat\\psi=\\begin{pmatrix}1 & 0\\end{pmatrix} \\begin{pmatrix}13.3\\\\ -0.004\\end{pmatrix} = -0.004$"
   ]
  },
  {
   "cell_type": "code",
   "execution_count": 104,
   "id": "5051726d-5063-487f-bbe3-5d64e47a0d79",
   "metadata": {},
   "outputs": [
    {
     "name": "stdout",
     "output_type": "stream",
     "text": [
      "Значение квантили х_альфа:  4.042652128566653\n",
      "Статистика F: 0.0021006084247010334\n"
     ]
    }
   ],
   "source": [
    "q =1\n",
    "n = 50\n",
    "r = 2\n",
    "x_alpha = stats.f.ppf(1-alpha, dfn = q, dfd = n-r)\n",
    "print('Значение квантили х_альфа: ', x_alpha)\n",
    "psi = B_hat[1]\n",
    "#статистика F\n",
    "C = [0, 1]\n",
    "B = np.dot(np.dot(np.transpose(C),inv(XX_T)),C)\n",
    "F = psi * psi / (B*q*s_2)\n",
    "print('Статистика F:', F)"
   ]
  },
  {
   "cell_type": "markdown",
   "id": "1e46d92f-5ee7-435d-999b-41fd9e939f06",
   "metadata": {},
   "source": [
    "$\\mathbb{F}< x_{\\alpha} \\Rightarrow$ - гипотеза $H_0$ принимается"
   ]
  },
  {
   "cell_type": "code",
   "execution_count": 23,
   "id": "558a4fa1-ee93-4a06-b514-a6531f9a5663",
   "metadata": {},
   "outputs": [
    {
     "name": "stdout",
     "output_type": "stream",
     "text": [
      "Наибольшее значение уровня значимости, на котором нет оснований отвергнуть гипотезу: 0.964\n"
     ]
    }
   ],
   "source": [
    "print('Наибольшее значение уровня значимости, на котором нет оснований отвергнуть гипотезу:', round(1 - stats.f.cdf(F,dfn = q, dfd = n-r), 3))"
   ]
  },
  {
   "cell_type": "markdown",
   "id": "c379ec83-7ea2-4717-8b96-40a8aaa97954",
   "metadata": {},
   "source": [
    "Кроме того, статистику можно также вычислить следующим образом:"
   ]
  },
  {
   "cell_type": "markdown",
   "id": "e0ae1b59-9dca-45a2-876f-f2d7d393d7cf",
   "metadata": {},
   "source": [
    "$\\mathbb{F} = \\frac{\\frac{SS_H}q}{\\frac{SS_e}{n-r}} = \\frac{SS_H}{qs^2} = \\frac{RSS(\\widehat{BH}) - RSS(\\widehat{B}) }{qs^2} =  \\frac{RSS(\\widehat{BH}) - s^2(n-r)}{qs^2}$ <br>\n",
    "Вычислим $RSS(\\widehat{BH})$"
   ]
  },
  {
   "cell_type": "code",
   "execution_count": 105,
   "id": "29173df8-69b7-48b4-9d60-0ed08707569c",
   "metadata": {},
   "outputs": [
    {
     "data": {
      "text/html": [
       "<div>\n",
       "<style scoped>\n",
       "    .dataframe tbody tr th:only-of-type {\n",
       "        vertical-align: middle;\n",
       "    }\n",
       "\n",
       "    .dataframe tbody tr th {\n",
       "        vertical-align: top;\n",
       "    }\n",
       "\n",
       "    .dataframe thead th {\n",
       "        text-align: right;\n",
       "    }\n",
       "</style>\n",
       "<table border=\"1\" class=\"dataframe\">\n",
       "  <thead>\n",
       "    <tr style=\"text-align: right;\">\n",
       "      <th></th>\n",
       "      <th>βH</th>\n",
       "    </tr>\n",
       "  </thead>\n",
       "  <tbody>\n",
       "    <tr>\n",
       "      <th>0</th>\n",
       "      <td>13.2834</td>\n",
       "    </tr>\n",
       "  </tbody>\n",
       "</table>\n",
       "</div>"
      ],
      "text/plain": [
       "        βH\n",
       "0  13.2834"
      ]
     },
     "execution_count": 105,
     "metadata": {},
     "output_type": "execute_result"
    }
   ],
   "source": [
    "Y = y\n",
    "X = [[1]*50]\n",
    "XY = np.dot(X, Y)\n",
    "XX_T= np.dot(X, np.transpose(X))\n",
    "B_hat = np.dot(inv(XX_T),XY)\n",
    "view = pd.DataFrame({\n",
    "    \"βH\": B_hat,\n",
    "})\n",
    "view.head()"
   ]
  },
  {
   "cell_type": "code",
   "execution_count": 106,
   "id": "9f3f1621-e4c3-4777-a095-ae3cef12d9de",
   "metadata": {},
   "outputs": [
    {
     "name": "stdout",
     "output_type": "stream",
     "text": [
      "Статистика F\n",
      "0.002100608424708076\n"
     ]
    }
   ],
   "source": [
    "Y_res = X * B_hat\n",
    "RSSBH =  np.sum(np.power(Y - Y_res,2))\n",
    "print('Статистика F')\n",
    "F = (RSSBH - s_2*(n-r))/(1*s_2)\n",
    "print(F)"
   ]
  },
  {
   "cell_type": "code",
   "execution_count": 107,
   "id": "9bc88eba-1458-4943-89f0-517a1b0549e2",
   "metadata": {},
   "outputs": [
    {
     "name": "stdout",
     "output_type": "stream",
     "text": [
      "Наибольшее значение уровня значимости, на котором нет оснований отвергнуть гипотезу: 0.964\n"
     ]
    }
   ],
   "source": [
    "print('Наибольшее значение уровня значимости, на котором нет оснований отвергнуть гипотезу:', round(1 - stats.f.cdf(F,dfn = q, dfd = n-r), 3))"
   ]
  },
  {
   "cell_type": "markdown",
   "id": "12b6dc06-b80b-4970-ae0d-da4b8e5c55cd",
   "metadata": {},
   "source": [
    "### 5. Сформулировать модель, включающую дополнительный член с $X^2$. Построить МНК оценки параметров $\\beta_0, \\beta_1, \\beta_2$ в данной модели. Изобразить графически полученную регрессионную зависимость."
   ]
  },
  {
   "cell_type": "markdown",
   "id": "7278893d-56c9-4799-94bb-32acc38ab4ec",
   "metadata": {},
   "source": [
    "$Y = \\beta_0 + \\beta_0X + \\beta_2X^2 +  \\varepsilon$\n"
   ]
  },
  {
   "cell_type": "code",
   "execution_count": 156,
   "id": "45fe12e3-e49d-4e87-801b-bd61eaee8e35",
   "metadata": {},
   "outputs": [
    {
     "name": "stdout",
     "output_type": "stream",
     "text": [
      "13.083 0.12 -0.015\n"
     ]
    },
    {
     "data": {
      "text/html": [
       "<div>\n",
       "<style scoped>\n",
       "    .dataframe tbody tr th:only-of-type {\n",
       "        vertical-align: middle;\n",
       "    }\n",
       "\n",
       "    .dataframe tbody tr th {\n",
       "        vertical-align: top;\n",
       "    }\n",
       "\n",
       "    .dataframe thead th {\n",
       "        text-align: right;\n",
       "    }\n",
       "</style>\n",
       "<table border=\"1\" class=\"dataframe\">\n",
       "  <thead>\n",
       "    <tr style=\"text-align: right;\">\n",
       "      <th></th>\n",
       "      <th>β</th>\n",
       "    </tr>\n",
       "  </thead>\n",
       "  <tbody>\n",
       "    <tr>\n",
       "      <th>0</th>\n",
       "      <td>13.082610</td>\n",
       "    </tr>\n",
       "    <tr>\n",
       "      <th>1</th>\n",
       "      <td>0.120239</td>\n",
       "    </tr>\n",
       "    <tr>\n",
       "      <th>2</th>\n",
       "      <td>-0.014561</td>\n",
       "    </tr>\n",
       "  </tbody>\n",
       "</table>\n",
       "</div>"
      ],
      "text/plain": [
       "           β\n",
       "0  13.082610\n",
       "1   0.120239\n",
       "2  -0.014561"
      ]
     },
     "execution_count": 156,
     "metadata": {},
     "output_type": "execute_result"
    }
   ],
   "source": [
    "Y = y\n",
    "X = [[1]*50, x, np.power(x,2)]\n",
    "XY = np.dot(X, Y)\n",
    "XX_T= np.dot(X, np.transpose(X))\n",
    "B_hat = np.dot(inv(XX_T),XY)\n",
    "view = pd.DataFrame({\n",
    "    \"β\": B_hat,\n",
    "})\n",
    "print(*np.round(B_hat,3))\n",
    "view.head()"
   ]
  },
  {
   "cell_type": "code",
   "execution_count": 157,
   "id": "80f1d9a4-fc76-4438-b081-f63949a10515",
   "metadata": {},
   "outputs": [],
   "source": [
    "Y_res = np.dot(np.transpose(X), B_hat)\n",
    "x_line = np.linspace(min(x), max(x), 1000)\n",
    "y_line = B_hat[0] + B_hat[1]*x_line + B_hat[2]*x_line**2"
   ]
  },
  {
   "cell_type": "code",
   "execution_count": 110,
   "id": "ad4067ec-16eb-48fc-a08f-a5e61520fdc3",
   "metadata": {},
   "outputs": [
    {
     "data": {
      "image/png": "[encoded data removed]",
      "text/plain": [
       "<Figure size 640x480 with 1 Axes>"
      ]
     },
     "metadata": {},
     "output_type": "display_data"
    }
   ],
   "source": [
    "palette = sns.color_palette(\"vlag\",  50)\n",
    "plt.scatter(x,y, s=150,  c = palette, marker = \"*\", edgecolor='black')\n",
    "plt.plot(x_line, y_line, c='purple')\n",
    "plt.xlabel('X')\n",
    "plt.ylabel('Y')\n",
    "plt.title('Регрессионная модель')\n",
    "plt.grid()\n",
    "plt.show()"
   ]
  },
  {
   "cell_type": "markdown",
   "id": "ce0d4673-831b-487a-9058-ae985dad6919",
   "metadata": {},
   "source": [
    "### 6. Построить несмещенную оценку дисперсии. Провести исследование нормальности ошибок (как в пункте 2)."
   ]
  },
  {
   "cell_type": "markdown",
   "id": "2718fb53-8c4a-44a3-b221-e632b255149f",
   "metadata": {},
   "source": [
    "Несмещенная оценка дисперсии: <br>\n",
    "$s^2 = \\frac{SS_e}{(n-r)} = \\frac{RSS(\\hat\\beta)}{n-r}$ <br>\n",
    "$RSS(\\beta) = (Y - X^{\\intercal}\\beta)^{\\intercal}(Y - X^{\\intercal}\\beta) \\rightarrow \\min\\limits_\\beta$"
   ]
  },
  {
   "cell_type": "code",
   "execution_count": 158,
   "id": "dbfa91f6-1fde-4760-adec-9ec8fa12bdd2",
   "metadata": {},
   "outputs": [
    {
     "name": "stdout",
     "output_type": "stream",
     "text": [
      "Несмещенная оценка дисперсии:  1.06176322886308\n"
     ]
    }
   ],
   "source": [
    "n = 50\n",
    "r = 3\n",
    "s_2 = np.sum(np.power(Y - Y_res,2))/(n-r)\n",
    "print(\"Несмещенная оценка дисперсии: \", s_2)"
   ]
  },
  {
   "cell_type": "markdown",
   "id": "7083b099-77d4-49f0-8601-ea8d8d8303ad",
   "metadata": {},
   "source": [
    "Построим гистограмму с шагом 1 на базе ошибок."
   ]
  },
  {
   "cell_type": "code",
   "execution_count": 159,
   "id": "719debd9-bf93-453e-beef-078bfb3a4602",
   "metadata": {},
   "outputs": [
    {
     "data": {
      "text/plain": [
       "Text(0.5, 1.0, 'Гистограмма частот')"
      ]
     },
     "execution_count": 159,
     "metadata": {},
     "output_type": "execute_result"
    },
    {
     "data": {
      "image/png": "[encoded data removed]",
      "text/plain": [
       "<Figure size 640x480 with 1 Axes>"
      ]
     },
     "metadata": {},
     "output_type": "display_data"
    }
   ],
   "source": [
    "errors = Y - Y_res\n",
    "h = 1\n",
    "bins = np.arange(min(errors), max(errors)+h,h)\n",
    "hist = plt.hist(errors, bins = bins, color = 'red', edgecolor = 'black', align='mid', density = 'True')\n",
    "plt.xlabel('Значение')\n",
    "plt.ylabel('Частота')\n",
    "plt.title('Гистограмма частот')"
   ]
  },
  {
   "cell_type": "markdown",
   "id": "99844683-1e36-475a-b29a-7feec2f821ea",
   "metadata": {},
   "source": [
    "Проверим гипотезу нормальности ошибок на уровне значимости $\\alpha$ по $\\chi^2$. <br>\n",
    "Разобьем числовую прямую на удобные интервалы."
   ]
  },
  {
   "cell_type": "code",
   "execution_count": 113,
   "id": "2ed09c0d-f415-494c-9bfc-5a959a901e91",
   "metadata": {},
   "outputs": [
    {
     "name": "stdout",
     "output_type": "stream",
     "text": [
      "[-3.5122778925620004, -2.7122778925620006)     1\n",
      "[-2.7122778925620006, -1.9122778925620008)     1\n",
      "[-1.9122778925620008, -1.112277892562001)      5\n",
      "[-1.112277892562001, -0.3122778925620011)      9\n",
      "[-0.3122778925620011, 0.4877221074379987)     16\n",
      "[0.4877221074379987, 1.2877221074379985)      14\n",
      "[1.2877221074379985, 2.0877221074379984)       4\n",
      "Name: count, dtype: int64\n"
     ]
    }
   ],
   "source": [
    "xmax = max(errors)\n",
    "xmin = min(errors)\n",
    "h=0.8\n",
    "view_inter = pd.DataFrame()\n",
    "bin_edges = pd.interval_range(start=xmin,\n",
    "                  freq=h,\n",
    "                  end=xmax+h,\n",
    "                  closed='left'\n",
    "                  )\n",
    "view_inter['interval'] = pd.cut(errors, bins = bin_edges)\n",
    "print(view_inter['interval'].value_counts(bins= bin_edges,sort=False))"
   ]
  },
  {
   "cell_type": "markdown",
   "id": "62fd4bb5-129a-48cb-8be3-a2294d76fe3e",
   "metadata": {},
   "source": [
    "$ \\begin{array}{ |c | c | c| c|}\n",
    "    \\hline\n",
    "    I_1 & I_2 & I_3 & I_4 \\\\ \\hline\n",
    "    (-\\infty, -1.11] & (-1.11, -0.31] & (-0.31, 0.49]  & (0.49, +\\infty) \\\\ \\hline\n",
    "    \\hline\n",
    "  \\end{array}$ <br>\n",
    "$\\begin{array}{ |c | c | c| c|}\n",
    "    \\hline\n",
    "    n_1 & n_2 & n_3 & n_4 \\\\ \\hline\n",
    "    7 & 9 & 16  & 18 \\\\ \\hline\n",
    "    \\hline\n",
    "  \\end{array}$ <br>\n",
    "Рассчитаем $\\chi^2$"
   ]
  },
  {
   "cell_type": "code",
   "execution_count": 114,
   "id": "08d52821-8c32-48c6-bb65-7c0c2ace3e47",
   "metadata": {},
   "outputs": [
    {
     "data": {
      "text/html": [
       "<div>\n",
       "<style scoped>\n",
       "    .dataframe tbody tr th:only-of-type {\n",
       "        vertical-align: middle;\n",
       "    }\n",
       "\n",
       "    .dataframe tbody tr th {\n",
       "        vertical-align: top;\n",
       "    }\n",
       "\n",
       "    .dataframe thead th {\n",
       "        text-align: right;\n",
       "    }\n",
       "</style>\n",
       "<table border=\"1\" class=\"dataframe\">\n",
       "  <thead>\n",
       "    <tr style=\"text-align: right;\">\n",
       "      <th></th>\n",
       "      <th>0</th>\n",
       "      <th>1</th>\n",
       "      <th>2</th>\n",
       "      <th>3</th>\n",
       "    </tr>\n",
       "  </thead>\n",
       "  <tbody>\n",
       "    <tr>\n",
       "      <th>ni</th>\n",
       "      <td>7.000000</td>\n",
       "      <td>9.000000</td>\n",
       "      <td>16.000000</td>\n",
       "      <td>18.000000</td>\n",
       "    </tr>\n",
       "    <tr>\n",
       "      <th>Pi</th>\n",
       "      <td>0.140688</td>\n",
       "      <td>0.241077</td>\n",
       "      <td>0.301032</td>\n",
       "      <td>0.317203</td>\n",
       "    </tr>\n",
       "    <tr>\n",
       "      <th>nPi</th>\n",
       "      <td>7.034419</td>\n",
       "      <td>12.053832</td>\n",
       "      <td>15.051602</td>\n",
       "      <td>15.860147</td>\n",
       "    </tr>\n",
       "    <tr>\n",
       "      <th>xi^2</th>\n",
       "      <td>0.000168</td>\n",
       "      <td>0.773687</td>\n",
       "      <td>0.059758</td>\n",
       "      <td>0.288709</td>\n",
       "    </tr>\n",
       "  </tbody>\n",
       "</table>\n",
       "</div>"
      ],
      "text/plain": [
       "             0          1          2          3\n",
       "ni    7.000000   9.000000  16.000000  18.000000\n",
       "Pi    0.140688   0.241077   0.301032   0.317203\n",
       "nPi   7.034419  12.053832  15.051602  15.860147\n",
       "xi^2  0.000168   0.773687   0.059758   0.288709"
      ]
     },
     "execution_count": 114,
     "metadata": {},
     "output_type": "execute_result"
    }
   ],
   "source": [
    "n = 4\n",
    "alpha = 0.05\n",
    "N = 50\n",
    "arr = [[float('-inf'), -1.11],[-1.11, -0.31],[-0.31, 0.49],[0.49, float('inf')]] #интервалы\n",
    "freq = [7, 9, 16, 18]\n",
    "Pi = []\n",
    "nPi = []\n",
    "Xi = []\n",
    "def F(x):\n",
    "    return stats.norm.cdf(x,0,np.sqrt(s_2))\n",
    "for i in range(n):\n",
    "    Fx2 = F(arr[i][1])\n",
    "    Fx1 = F(arr[i][0])\n",
    "    res = Fx2-Fx1\n",
    "    Pi.append(round(res,20))\n",
    "    nPi.append(round(res*N,10))\n",
    "    Xi.append(((freq[i] - nPi[i])**2)/nPi[i])\n",
    "\n",
    "chisq = round(np.sum(Xi),3) #получившийся хи-2\n",
    "dof = n-1 # степень свободы\n",
    "chisq_crit = round(stats.chi2.ppf(1-alpha,dof),3)\n",
    "\n",
    "Xi_table = pd.DataFrame(\n",
    "    {\n",
    "        \"ni\": freq,\n",
    "        \"Pi\": Pi,\n",
    "        \"nPi\": nPi,\n",
    "        \"xi^2\": Xi\n",
    "    }\n",
    ")\n",
    "Xi_table.T"
   ]
  },
  {
   "cell_type": "code",
   "execution_count": 115,
   "id": "aa6db633-15b6-4c5c-b06a-d2703ae640db",
   "metadata": {},
   "outputs": [
    {
     "name": "stdout",
     "output_type": "stream",
     "text": [
      "Значение хи-квадрат:\n",
      "1.122\n",
      "Квантиль х-альфа:\n",
      "7.815\n"
     ]
    }
   ],
   "source": [
    "print(\"Значение хи-квадрат:\")\n",
    "print(chisq)\n",
    "print(\"Квантиль х-альфа:\")\n",
    "print(chisq_crit)"
   ]
  },
  {
   "cell_type": "markdown",
   "id": "8378c4af-9cd1-4415-8f1f-e1a172341e01",
   "metadata": {},
   "source": [
    "Так как $\\chi^2 < x_{\\alpha}$, то гипотеза принимается. Значит, можем предположить, что ошибки имеют нормальное распределение. <br>\n",
    "Найдем наибольшее значение уровня значимости, на котором еще нет оснований отвергнуть гипотезу"
   ]
  },
  {
   "cell_type": "code",
   "execution_count": 116,
   "id": "c883f0cd-2a80-48c1-b92f-638c14c0abab",
   "metadata": {},
   "outputs": [
    {
     "name": "stdout",
     "output_type": "stream",
     "text": [
      "Значение уровня значимости, на котором еще нет оснований отвергнуть гипотезу:\n",
      "0.772\n"
     ]
    }
   ],
   "source": [
    "p_value = 1 - stats.chi2.cdf(chisq, dof) # искомый уровень значимости\n",
    "print( \"Значение уровня значимости, на котором еще нет оснований отвергнуть гипотезу:\" )\n",
    "print(format(p_value,'.3f'))"
   ]
  },
  {
   "cell_type": "markdown",
   "id": "36367eee-43ba-46dc-b174-4b416caccc8a",
   "metadata": {},
   "source": [
    "Оценим расстояние полученной оценки до класса нормальных распределений по Колмогорову."
   ]
  },
  {
   "cell_type": "code",
   "execution_count": 117,
   "id": "e25519a3-c116-411a-892f-5141987ab733",
   "metadata": {},
   "outputs": [
    {
     "name": "stdout",
     "output_type": "stream",
     "text": [
      "Гипотеза принимается: 0.617 < 1.358\n"
     ]
    },
    {
     "data": {
      "text/html": [
       "<div>\n",
       "<style scoped>\n",
       "    .dataframe tbody tr th:only-of-type {\n",
       "        vertical-align: middle;\n",
       "    }\n",
       "\n",
       "    .dataframe tbody tr th {\n",
       "        vertical-align: top;\n",
       "    }\n",
       "\n",
       "    .dataframe thead th {\n",
       "        text-align: right;\n",
       "    }\n",
       "</style>\n",
       "<table border=\"1\" class=\"dataframe\">\n",
       "  <thead>\n",
       "    <tr style=\"text-align: right;\">\n",
       "      <th></th>\n",
       "      <th>0</th>\n",
       "      <th>1</th>\n",
       "      <th>2</th>\n",
       "      <th>3</th>\n",
       "      <th>4</th>\n",
       "      <th>5</th>\n",
       "      <th>6</th>\n",
       "      <th>7</th>\n",
       "      <th>8</th>\n",
       "      <th>9</th>\n",
       "      <th>...</th>\n",
       "      <th>40</th>\n",
       "      <th>41</th>\n",
       "      <th>42</th>\n",
       "      <th>43</th>\n",
       "      <th>44</th>\n",
       "      <th>45</th>\n",
       "      <th>46</th>\n",
       "      <th>47</th>\n",
       "      <th>48</th>\n",
       "      <th>49</th>\n",
       "    </tr>\n",
       "  </thead>\n",
       "  <tbody>\n",
       "    <tr>\n",
       "      <th>Эмпир.функция</th>\n",
       "      <td>0.020000</td>\n",
       "      <td>0.040000</td>\n",
       "      <td>0.060000</td>\n",
       "      <td>0.080000</td>\n",
       "      <td>0.100000</td>\n",
       "      <td>0.120000</td>\n",
       "      <td>0.140000</td>\n",
       "      <td>0.160000</td>\n",
       "      <td>0.180000</td>\n",
       "      <td>0.200000</td>\n",
       "      <td>...</td>\n",
       "      <td>0.820000</td>\n",
       "      <td>0.840000</td>\n",
       "      <td>0.860000</td>\n",
       "      <td>0.880000</td>\n",
       "      <td>0.900000</td>\n",
       "      <td>0.920000</td>\n",
       "      <td>0.94000</td>\n",
       "      <td>0.96000</td>\n",
       "      <td>0.980000</td>\n",
       "      <td>1.000000</td>\n",
       "    </tr>\n",
       "    <tr>\n",
       "      <th>Теор.функция</th>\n",
       "      <td>0.000326</td>\n",
       "      <td>0.029165</td>\n",
       "      <td>0.039447</td>\n",
       "      <td>0.076764</td>\n",
       "      <td>0.081155</td>\n",
       "      <td>0.100129</td>\n",
       "      <td>0.116328</td>\n",
       "      <td>0.163356</td>\n",
       "      <td>0.204754</td>\n",
       "      <td>0.218592</td>\n",
       "      <td>...</td>\n",
       "      <td>0.792358</td>\n",
       "      <td>0.792583</td>\n",
       "      <td>0.815943</td>\n",
       "      <td>0.848242</td>\n",
       "      <td>0.852576</td>\n",
       "      <td>0.871445</td>\n",
       "      <td>0.89822</td>\n",
       "      <td>0.90483</td>\n",
       "      <td>0.917311</td>\n",
       "      <td>0.920337</td>\n",
       "    </tr>\n",
       "    <tr>\n",
       "      <th>разность</th>\n",
       "      <td>0.019674</td>\n",
       "      <td>0.010835</td>\n",
       "      <td>0.020553</td>\n",
       "      <td>0.003236</td>\n",
       "      <td>0.018845</td>\n",
       "      <td>0.019871</td>\n",
       "      <td>0.023672</td>\n",
       "      <td>0.003356</td>\n",
       "      <td>0.024754</td>\n",
       "      <td>0.018592</td>\n",
       "      <td>...</td>\n",
       "      <td>0.027642</td>\n",
       "      <td>0.047417</td>\n",
       "      <td>0.044057</td>\n",
       "      <td>0.031758</td>\n",
       "      <td>0.047424</td>\n",
       "      <td>0.048555</td>\n",
       "      <td>0.04178</td>\n",
       "      <td>0.05517</td>\n",
       "      <td>0.062689</td>\n",
       "      <td>0.079663</td>\n",
       "    </tr>\n",
       "  </tbody>\n",
       "</table>\n",
       "<p>3 rows × 50 columns</p>\n",
       "</div>"
      ],
      "text/plain": [
       "                     0         1         2         3         4         5   \\\n",
       "Эмпир.функция  0.020000  0.040000  0.060000  0.080000  0.100000  0.120000   \n",
       "Теор.функция   0.000326  0.029165  0.039447  0.076764  0.081155  0.100129   \n",
       "разность       0.019674  0.010835  0.020553  0.003236  0.018845  0.019871   \n",
       "\n",
       "                     6         7         8         9   ...        40  \\\n",
       "Эмпир.функция  0.140000  0.160000  0.180000  0.200000  ...  0.820000   \n",
       "Теор.функция   0.116328  0.163356  0.204754  0.218592  ...  0.792358   \n",
       "разность       0.023672  0.003356  0.024754  0.018592  ...  0.027642   \n",
       "\n",
       "                     41        42        43        44        45       46  \\\n",
       "Эмпир.функция  0.840000  0.860000  0.880000  0.900000  0.920000  0.94000   \n",
       "Теор.функция   0.792583  0.815943  0.848242  0.852576  0.871445  0.89822   \n",
       "разность       0.047417  0.044057  0.031758  0.047424  0.048555  0.04178   \n",
       "\n",
       "                    47        48        49  \n",
       "Эмпир.функция  0.96000  0.980000  1.000000  \n",
       "Теор.функция   0.90483  0.917311  0.920337  \n",
       "разность       0.05517  0.062689  0.079663  \n",
       "\n",
       "[3 rows x 50 columns]"
      ]
     },
     "execution_count": 117,
     "metadata": {},
     "output_type": "execute_result"
    }
   ],
   "source": [
    "# Оценим расстояние полученной оценки до класса нормальных распределений по Колмагорову\n",
    "# эмпирическая функция распределения\n",
    "F_empir = np.arange(1, N+1)/N\n",
    "errors = sorted(errors)\n",
    "# теоритическая функция нормального распределения\n",
    "def F(x):\n",
    "    return stats.norm.cdf(x,0,np.sqrt(s_2))\n",
    "F_th = []\n",
    "dif = []\n",
    "for i in range(N):\n",
    "    F_th.append(F(errors[i]))\n",
    "    #разность\n",
    "    dif.append(np.abs(F_empir[i] - F_th[i]))\n",
    "# D\n",
    "D = np.max(dif)*np.sqrt(N)\n",
    "# Расчет критического значения\n",
    "crit_value = stats.kstwobign.ppf(1-0.05)\n",
    "if D>crit_value:\n",
    "    print(\"Гипотеза отвергается:\", round(D,3),\">\", round(crit_value,3))\n",
    "else:\n",
    "     print(\"Гипотеза принимается:\",round(D,3),\"<\", round(crit_value,3))\n",
    "\n",
    "view2 = pd.DataFrame(\n",
    "    {\n",
    "        'Эмпир.функция':F_empir,\n",
    "        'Теор.функция':F_th,\n",
    "        'разность': dif,\n",
    "    }\n",
    ")\n",
    "view2.head(N).T"
   ]
  },
  {
   "cell_type": "markdown",
   "id": "a27354e7-2d74-4361-a782-ad4e0f25c7a3",
   "metadata": {},
   "source": [
    "Так как $D_n < x_{\\alpha}$, то гипотеза принимается. <br>\n",
    "Найдем наибольшее значение уровня значимости, на котором еще нет оснований отвергнуть гипотезу"
   ]
  },
  {
   "cell_type": "code",
   "execution_count": 118,
   "id": "acde3945-4ac3-4d34-b583-3c731ce580ff",
   "metadata": {},
   "outputs": [
    {
     "name": "stdout",
     "output_type": "stream",
     "text": [
      "Наибольший уровень значимости:\n",
      "0.842\n"
     ]
    }
   ],
   "source": [
    "# Вычисляем p-значение (наибольший уровень значимости)\n",
    "p_value = 1 - stats.kstwobign.cdf(D) \n",
    "print(\"Наибольший уровень значимости:\")\n",
    "print(format(p_value,'.3f'))"
   ]
  },
  {
   "cell_type": "code",
   "execution_count": 121,
   "id": "a77c7ba6-7a5f-4ff9-84a1-2b74abaf94f2",
   "metadata": {},
   "outputs": [
    {
     "data": {
      "image/png": "[encoded data removed]",
      "text/plain": [
       "<Figure size 640x480 with 1 Axes>"
      ]
     },
     "metadata": {},
     "output_type": "display_data"
    }
   ],
   "source": [
    "plt.plot(errors,F_th, color = 'red', label = \"Теоретическая\" )\n",
    "plt.step(errors,F_empir, where='post', color = 'green', label = \"Эмпирическая\" )\n",
    "plt.xlabel('x')\n",
    "plt.ylabel('F(x)')\n",
    "plt.legend()\n",
    "plt.grid()\n",
    "plt.show()"
   ]
  },
  {
   "cell_type": "markdown",
   "id": "a61d7547-4a42-4839-949e-a522126dba2e",
   "metadata": {},
   "source": [
    "Анализируя график, можно увидеть, что расстояние между данными функциями распределения невелико, вследствие чего гипотеза принимается."
   ]
  },
  {
   "cell_type": "markdown",
   "id": "81db8f79-c148-4a13-b0e5-92354e7deee5",
   "metadata": {},
   "source": [
    "### 7. В предположении нормальности ошибок построить доверительные интервалы  $\\beta_0$, $\\beta_1$,$\\beta_2$ уровня доверия $1-\\alpha$. Написать уравнение доверительного эллипсоида  $1-\\alpha$."
   ]
  },
  {
   "cell_type": "markdown",
   "id": "7108a1b0-6082-4179-a48d-36d5977e676b",
   "metadata": {},
   "source": [
    "Построение доверительных интервалов $\\beta_0$, $\\beta_1$,$\\beta_2$ уровня доверия $1-\\alpha$"
   ]
  },
  {
   "cell_type": "markdown",
   "id": "4c0c000e-de22-414b-bc26-639ea9b3271a",
   "metadata": {},
   "source": [
    "Доверительный интервал уровня $1-\\alpha$: <br>\n",
    "$[\\hat\\psi - x_{\\alpha}s\\sqrt{b}, \\hat\\psi + x_{\\alpha}s\\sqrt{b}] \\ni \\psi $, где <br>\n",
    "$x_{\\alpha}: S_{n-r} = 1 - \\frac{\\alpha}2$ <br>\n",
    "$\\hat\\psi = C^{\\intercal}\\hat\\beta$ <br>\n",
    "$b_{\\psi} =  C^{\\intercal}(XX^{\\intercal})^{-1}C$ <br>\n",
    "Так как нужно определить каждый параметр отдельно, то <br>\n",
    "$C_0 =  \\begin{pmatrix}1 \\\\ 0 \\\\ 0 \\end{pmatrix} $ <br> <br>\n",
    "$C_1 =  \\begin{pmatrix}0 \\\\ 1 \\\\ 0\\end{pmatrix} $ <br><br>\n",
    "$C_2 =  \\begin{pmatrix}0 \\\\ 0 \\\\ 1 \\end{pmatrix} $ <br> "
   ]
  },
  {
   "cell_type": "code",
   "execution_count": 160,
   "id": "02491661-e609-47da-9e8f-1f42a3056718",
   "metadata": {},
   "outputs": [
    {
     "name": "stdout",
     "output_type": "stream",
     "text": [
      "Доверительный интервал уровня доверия 0.95 для параметра β0:\n",
      "[ 11.757 , 14.408 ]\n"
     ]
    }
   ],
   "source": [
    "# Beta_0\n",
    "n = 50\n",
    "r = 3\n",
    "C0 = [1,0,0]\n",
    "psi0 = np.dot(np.transpose(C0), B_hat)\n",
    "b = np.dot( np.dot(np.transpose(C0),inv(XX_T)), C0)\n",
    "x_alpha = stats.t.ppf(1-alpha/2, df = n-r)\n",
    "left = psi0 - x_alpha*np.sqrt(s_2*b)\n",
    "right = psi0 + x_alpha*np.sqrt(s_2*b)\n",
    "print('Доверительный интервал уровня доверия 0.95 для параметра β0:')\n",
    "print('[', round(left,3),',',round(right,3),']')\n"
   ]
  },
  {
   "cell_type": "code",
   "execution_count": 161,
   "id": "19b47587-458d-4163-bf29-cb5fd614873a",
   "metadata": {},
   "outputs": [
    {
     "name": "stdout",
     "output_type": "stream",
     "text": [
      "Доверительный интервал уровня доверия 0.95 для параметра β1:\n",
      "[ -0.499 , 0.739 ]\n"
     ]
    }
   ],
   "source": [
    "# Beta_1\n",
    "C1 = [0,1,0]\n",
    "psi1 = np.dot(np.transpose(C1), B_hat)\n",
    "b = np.dot( np.dot(np.transpose(C1),inv(XX_T)), C1)\n",
    "x_alpha = stats.t.ppf(1-alpha/2, df = n-r)\n",
    "left = psi1 - x_alpha*np.sqrt(s_2*b)\n",
    "right = psi1 + x_alpha*np.sqrt(s_2*b)\n",
    "print('Доверительный интервал уровня доверия 0.95 для параметра β1:')\n",
    "print('[', round(left,3),',',round(right,3),']')"
   ]
  },
  {
   "cell_type": "code",
   "execution_count": 162,
   "id": "cdec2fe2-8847-40da-a7de-c513098e754a",
   "metadata": {},
   "outputs": [
    {
     "name": "stdout",
     "output_type": "stream",
     "text": [
      "Доверительный интервал уровня доверия 0.95 для параметра β2:\n",
      "[ -0.085 , 0.055 ]\n"
     ]
    }
   ],
   "source": [
    "# Beta_2\n",
    "C1 = [0,0,1]\n",
    "psi1 = np.dot(np.transpose(C1), B_hat)\n",
    "b = np.dot( np.dot(np.transpose(C1),inv(XX_T)), C1)\n",
    "x_alpha = stats.t.ppf(1-alpha/2, df = n-r)\n",
    "left = psi1 - x_alpha*np.sqrt(s_2*b)\n",
    "right = psi1 + x_alpha*np.sqrt(s_2*b)\n",
    "print('Доверительный интервал уровня доверия 0.95 для параметра β2:')\n",
    "print('[', round(left,3),',',round(right,3),']')"
   ]
  },
  {
   "cell_type": "markdown",
   "id": "12088803-37d1-4390-9078-caf7a0dc2ef6",
   "metadata": {},
   "source": [
    "Построим доверительный эллипс для параметров  $\\beta_0$, $\\beta_1$,$\\beta_2$ <br>\n",
    "$A_{\\alpha}=\\{\\vec{x}: (\\vec{x}-\\hat\\psi)^{\\intercal} B^{-1} (\\vec{x}-\\hat\\psi) \\leq qs^2x_{\\alpha} \\}$, где <br>\n",
    "$x_{\\alpha}: \\mathcal{F}_{q, n-r}(x_{\\alpha}) = 1 - \\alpha$ <br>\n",
    "$B = C^{\\intercal}(XX^{\\intercal})^{-1} C$ <br>\n",
    "Приведем уравнение эллипса к каноническому виду. <br>\n",
    "Вычислим $B^{-1}$"
   ]
  },
  {
   "cell_type": "code",
   "execution_count": 163,
   "id": "b3b3b4e7-bc2f-4c3d-a965-87022703da0d",
   "metadata": {},
   "outputs": [
    {
     "name": "stdout",
     "output_type": "stream",
     "text": [
      "[[   50.   227.  1185.]\n",
      " [  227.  1185.  6695.]\n",
      " [ 1185.  6695. 40161.]]\n"
     ]
    }
   ],
   "source": [
    "# Вычисление B^(-1)\n",
    "C = [[1,0,0],[0,1,0],[0,0,1]]\n",
    "X = [[1]*50, x, np.power(x,2)]\n",
    "XX_T= np.dot(X, np.transpose(X))\n",
    "B = np.dot(np.dot(np.transpose(C), inv(XX_T)),C)\n",
    "B = inv(B)\n",
    "print(B)"
   ]
  },
  {
   "cell_type": "markdown",
   "id": "6124db96-61b5-4f00-a85a-dcf7c79933d2",
   "metadata": {},
   "source": [
    "<br> $(\\vec{x}-\\hat\\psi)^{\\intercal} B^{-1} (\\vec{x}-\\hat\\psi) = \\left(\\begin{pmatrix} \\beta_0 \\\\ \\beta_1 \\\\ \\beta_2 \\end{pmatrix} - \\begin{pmatrix} 13.083 \\\\ 0.120 \\\\ -0.015 \\end{pmatrix}\\right)^{\\intercal} \\begin{pmatrix}50&227&1185\\\\227&1185&6695\\\\11185&6695&40161\\end{pmatrix} \\left(\\begin{pmatrix} \\beta_0 \\\\ \\beta_1 \\\\ \\beta_2 \\end{pmatrix} - \\begin{pmatrix} 13.083 \\\\ 0.120 \\\\ -0.015 \\end{pmatrix}\\right) = $ <br><br>$\\begin{pmatrix} \\beta_0 - 13.083\\\\ \\beta_1 - 0.120 \\\\ \\beta_2 + 0.015 \\end{pmatrix} ^{\\intercal} \\begin{pmatrix}50&227&1185\\\\227&1185&6695\\\\11185&6695&40161\\end{pmatrix} \\begin{pmatrix} \\beta_0 - 13.083\\\\ \\beta_1 - 0.120 \\\\ \\beta_2 + 0.015 \\end{pmatrix} $ <br><br>\n",
    "Пусть $\\beta^{\\prime}_0 = \\beta_0 - 13.083, \\beta^{\\prime}_1 = \\beta_1 - 0.120 , \\beta^{\\prime}_2 = \\beta_2 + 0.015$. Тогда: <br>\n",
    "$(\\vec{x}-\\hat\\psi)^{\\intercal} B^{-1} (\\vec{x}-\\hat\\psi) =  \\begin{pmatrix} \\beta^{\\prime}_0\\\\ \\beta^{\\prime}_1 \\\\ \\beta^{\\prime}_2 \\end{pmatrix} ^{\\intercal} \\begin{pmatrix}50&227&1185\\\\227&1185&6695\\\\11185&6695&40161\\end{pmatrix} \\begin{pmatrix} \\beta^{\\prime}_0\\\\ \\beta^{\\prime}_1 \\\\ \\beta^{\\prime}_2 \\end{pmatrix}  $ <br>\n",
    "Воспользуемся ортогональным преобразованием. <br>\n",
    "Найдем собственные числа матрицы $B^{-1}$"
   ]
  },
  {
   "cell_type": "code",
   "execution_count": 164,
   "id": "b8f5b156-87b8-4b9a-91bf-b9ca9138bb13",
   "metadata": {},
   "outputs": [
    {
     "name": "stdout",
     "output_type": "stream",
     "text": [
      "Собственные числа: [4.13142087e+04 2.05456059e+00 7.97367234e+01]\n"
     ]
    }
   ],
   "source": [
    "eigenvalues, eigenvectors = linalg.eig(B)\n",
    "print('Собственные числа:', eigenvalues)"
   ]
  },
  {
   "cell_type": "markdown",
   "id": "a2eef693-276e-4bdf-a297-fa8f9ba7e758",
   "metadata": {},
   "source": [
    "$\\lambda_0 {\\beta^{\\prime}_0}^2  + \\lambda_1  {\\beta^{\\prime}_1}^2 + \\lambda_2 {\\beta^{\\prime}_2}^2\\leq qs^2 x_{\\alpha}$"
   ]
  },
  {
   "cell_type": "code",
   "execution_count": 165,
   "id": "04b91fbf-6f3e-4b15-ace2-ee58edbb4717",
   "metadata": {},
   "outputs": [
    {
     "name": "stdout",
     "output_type": "stream",
     "text": [
      "4628.362071578702 0.230169004513352 8.932772466785325\n"
     ]
    }
   ],
   "source": [
    "q = 3\n",
    "n= 50\n",
    "r = 3\n",
    "coef = [0,0,0]\n",
    "x_alpha = stats.f.ppf(1-alpha, dfn = q, dfd = n-r)\n",
    "for i in range(r):\n",
    "    coef[i]=eigenvalues[i]/(q*s_2*x_alpha)\n",
    "print(*coef)"
   ]
  },
  {
   "cell_type": "markdown",
   "id": "8480cede-55c5-4fdc-bad0-61b542cd02a7",
   "metadata": {},
   "source": [
    "$4727.838 {\\beta^{\\prime}_0}^2 + 0.235 {\\beta^{\\prime}_1}^2 + 9.123 {\\beta^{\\prime}_2}^2 \\leq 1$ <br>\n",
    "Вычислим полуоси: <br>\n",
    "$a = \\sqrt{\\frac{1}{4727.838}}$ <br>\n",
    "$b = \\sqrt{\\frac{1}{0.235}}$ <br>\n",
    "$c = \\sqrt{\\frac{1}{9.123}}$ <br>"
   ]
  },
  {
   "cell_type": "code",
   "execution_count": 166,
   "id": "f2d318cb-3ee8-416c-a5a0-8061f91b9ada",
   "metadata": {},
   "outputs": [
    {
     "name": "stdout",
     "output_type": "stream",
     "text": [
      "Полуоси равны:\n",
      "a =  0.014698950825985066\n",
      "b =  2.084378478218493\n",
      "c =  0.3345853059537547\n"
     ]
    }
   ],
   "source": [
    "half_ax = [0,0,0]\n",
    "for i in range(r):\n",
    "    half_ax[i] = np.sqrt(1/coef[i])\n",
    "print('Полуоси равны:')\n",
    "print('a = ', half_ax[0])\n",
    "print('b = ', half_ax[1])\n",
    "print('c = ', half_ax[2])"
   ]
  },
  {
   "cell_type": "markdown",
   "id": "f008badd-e8ed-4c9e-95eb-d24220c35fa5",
   "metadata": {},
   "source": [
    "Канонический вид уравнения: <br>\n",
    "$\\frac{ {\\beta^{\\prime}_0}^2}{0.015^2} + \\frac{ {\\beta^{\\prime}_1}^2}{2.063^2} + \\frac{ {\\beta^{\\prime}_2}^2}{0.331^2} \\leq 1$"
   ]
  },
  {
   "cell_type": "code",
   "execution_count": 168,
   "id": "bf1a8970-e3b4-4f67-bc24-15dbc2da6e8e",
   "metadata": {},
   "outputs": [
    {
     "data": {
      "image/png": "[encoded data removed]",
      "text/plain": [
       "<Figure size 640x480 with 1 Axes>"
      ]
     },
     "metadata": {},
     "output_type": "display_data"
    }
   ],
   "source": [
    "# Доверительный эллипсоид\n",
    "def trust_Ell(b0,b1,b2): \n",
    "     beta = np.array([b0,b1,b2])\n",
    "     ans0 = []\n",
    "     ans1 = []\n",
    "     ans2 = []\n",
    "     for x in np.arange(10,15, 0.05):\n",
    "         for y in np.arange(-1,1,0.004):\n",
    "             for z in np.arange(-0.2, 0.2, 0.001):\n",
    "                  arr = np.array([x,y,z])\n",
    "                  if np.dot(np.dot(np.transpose(arr - beta), B),arr - beta) <= q*s_2*x_alpha:\n",
    "                      ans0.append(x)\n",
    "                      ans1.append(y)\n",
    "                      ans2.append(z)\n",
    "     return ans0,ans1,ans2\n",
    "\n",
    "fig = plt.figure()\n",
    "ax = fig.add_subplot(111, projection='3d')\n",
    "ax.set_xlabel('\\n' + 'β0', linespacing=4)\n",
    "ax.set_ylabel('\\n' + 'β1', linespacing=4)\n",
    "ax.set_zlabel('\\n' + 'β2', linespacing=4)\n",
    "ax.set_title('Доверительный эллипсоид')\n",
    "El_x,El_y, El_z = trust_Ell(B_hat[0],B_hat[1],B_hat[2])\n",
    "palette = sns.color_palette(\"inferno\",   len(El_x))\n",
    "ax.scatter(El_x,El_y,El_z, marker = '.', color = palette)\n",
    "plt.show()"
   ]
  },
  {
   "cell_type": "markdown",
   "id": "04b0e105-25d7-4267-99ef-80a289b9c03a",
   "metadata": {},
   "source": [
    "### 8. Сформулировать гипотезу линейной регрессионной зависимости переменной $Y$ от переменной $X$ и проверить ее значимость на уровне $\\alpha$."
   ]
  },
  {
   "cell_type": "markdown",
   "id": "fd7298f6-9b6b-4854-8fa3-cf8e3bd591d0",
   "metadata": {},
   "source": [
    "Рассмотрим основную гипотезу $H_0 : \\psi = 0 (\\beta_2 = 0)$ <br>\n",
    "$H_A : \\beta_2 \\neq 0$\n",
    "\n",
    "Статистика: <br>\n",
    "$\\mathbb{F} = \\frac{\\hat{\\psi}^\\intercal B^{-1}\\hat{\\psi}}{qs^2} \\sim \\mathcal{F}_{q,n-r}$ <br>\n",
    "$\\psi = \\begin{pmatrix}0 & 0 & 1\\end{pmatrix} \\begin{pmatrix}\\beta_0 \\\\ \\beta_1  \\\\ \\beta_2\\end{pmatrix} = \\beta_2$ <br>\n",
    "$\\hat\\psi=\\begin{pmatrix}0 & 0 & 1\\end{pmatrix} \\begin{pmatrix}13.083\\\\ 0.12 \\\\ -0.015 \\end{pmatrix} = -0.015$"
   ]
  },
  {
   "cell_type": "code",
   "execution_count": 47,
   "id": "09a48d02-ce17-43a8-be7d-885fecd699e6",
   "metadata": {},
   "outputs": [
    {
     "name": "stdout",
     "output_type": "stream",
     "text": [
      "Значение квантили х_альфа:  4.0470998945817005\n",
      "Статистика F: 0.1750467727134102\n"
     ]
    }
   ],
   "source": [
    "q =1\n",
    "n = 50\n",
    "r = 3\n",
    "x_alpha = stats.f.ppf(1-alpha, dfn = q, dfd = n-r)\n",
    "print('Значение квантили х_альфа: ', x_alpha)\n",
    "psi = B_hat[2]\n",
    "#статистика F\n",
    "C = [0, 0, 1]\n",
    "B = np.dot(np.dot(np.transpose(C),inv(XX_T)),C)\n",
    "F = psi * psi / (B*q*s_2)\n",
    "print('Статистика F:', F)"
   ]
  },
  {
   "cell_type": "markdown",
   "id": "93d98ab5-d952-4ca3-b2f5-ae09610360b1",
   "metadata": {},
   "source": [
    "$\\mathbb{F}> x_{\\alpha} \\Rightarrow$ - гипотеза $H_0$ принимается"
   ]
  },
  {
   "cell_type": "code",
   "execution_count": 48,
   "id": "a6c12c0d-bad0-4534-ba32-3fac6a280605",
   "metadata": {},
   "outputs": [
    {
     "name": "stdout",
     "output_type": "stream",
     "text": [
      "Наибольшее значение уровня значимости, на котором нет оснований отвергнуть гипотезу: 0.678\n"
     ]
    }
   ],
   "source": [
    "print('Наибольшее значение уровня значимости, на котором нет оснований отвергнуть гипотезу:', round(1 - stats.f.cdf(F,dfn = q, dfd = n-r), 3))"
   ]
  },
  {
   "cell_type": "markdown",
   "id": "47d36f07-bc11-44b5-95f0-c133917b9a26",
   "metadata": {},
   "source": [
    "II способ. <br> \n",
    "$\\mathbb{F} = \\frac{\\frac{SS_H}q}{\\frac{SS_e}{n-r}} = \\frac{SS_H}{qs^2} = \\frac{RSS(\\widehat{BH}) - RSS(\\widehat{B}) }{qs^2} =  \\frac{RSS(\\widehat{BH}) - s^2(n-r)}{qs^2}$ <br>\n",
    "Вычислим $RSS(\\widehat{BH})$"
   ]
  },
  {
   "cell_type": "code",
   "execution_count": 49,
   "id": "1a0df819-449a-420b-9b94-289a44efc978",
   "metadata": {},
   "outputs": [
    {
     "data": {
      "text/html": [
       "<div>\n",
       "<style scoped>\n",
       "    .dataframe tbody tr th:only-of-type {\n",
       "        vertical-align: middle;\n",
       "    }\n",
       "\n",
       "    .dataframe tbody tr th {\n",
       "        vertical-align: top;\n",
       "    }\n",
       "\n",
       "    .dataframe thead th {\n",
       "        text-align: right;\n",
       "    }\n",
       "</style>\n",
       "<table border=\"1\" class=\"dataframe\">\n",
       "  <thead>\n",
       "    <tr style=\"text-align: right;\">\n",
       "      <th></th>\n",
       "      <th>βH</th>\n",
       "    </tr>\n",
       "  </thead>\n",
       "  <tbody>\n",
       "    <tr>\n",
       "      <th>0</th>\n",
       "      <td>13.300505</td>\n",
       "    </tr>\n",
       "    <tr>\n",
       "      <th>1</th>\n",
       "      <td>-0.003768</td>\n",
       "    </tr>\n",
       "  </tbody>\n",
       "</table>\n",
       "</div>"
      ],
      "text/plain": [
       "          βH\n",
       "0  13.300505\n",
       "1  -0.003768"
      ]
     },
     "execution_count": 49,
     "metadata": {},
     "output_type": "execute_result"
    }
   ],
   "source": [
    "Y = y\n",
    "X = [[1]*50, x]\n",
    "XY = np.dot(X, Y)\n",
    "XX_T= np.dot(X, np.transpose(X))\n",
    "B_hat = np.dot(inv(XX_T),XY)\n",
    "view = pd.DataFrame({\n",
    "    \"βH\": B_hat,\n",
    "})\n",
    "view.head()"
   ]
  },
  {
   "cell_type": "code",
   "execution_count": 50,
   "id": "73b41db1-63ed-4071-9826-7e79758ae0eb",
   "metadata": {},
   "outputs": [
    {
     "name": "stdout",
     "output_type": "stream",
     "text": [
      "Статистика F\n",
      "0.1750467727132133\n"
     ]
    }
   ],
   "source": [
    "Y_res = np.dot(np.transpose(X),B_hat)\n",
    "RSSBH =  np.sum(np.power(Y - Y_res,2))\n",
    "print('Статистика F')\n",
    "F = (RSSBH - s_2*(n-r))/(1*s_2)\n",
    "print(F)"
   ]
  },
  {
   "cell_type": "markdown",
   "id": "023cea89-fde8-40c1-b95e-e1ae54e09e3f",
   "metadata": {},
   "source": [
    "$\\mathbb{F}> x_{\\alpha} \\Rightarrow$ - гипотеза $H_0$ принимается"
   ]
  },
  {
   "cell_type": "code",
   "execution_count": 51,
   "id": "4e9c1035-f5e9-4be8-9cf8-44a2ea2b2c1d",
   "metadata": {},
   "outputs": [
    {
     "name": "stdout",
     "output_type": "stream",
     "text": [
      "Наибольшее значение уровня значимости, на котором нет оснований отвергнуть гипотезу: 0.678\n"
     ]
    }
   ],
   "source": [
    "print('Наибольшее значение уровня значимости, на котором нет оснований отвергнуть гипотезу:', round(1 - stats.f.cdf(F,dfn = q, dfd = n-r), 3))"
   ]
  },
  {
   "cell_type": "markdown",
   "id": "be81b241-02e6-4c6e-8eaa-780d7ec34477",
   "metadata": {},
   "source": [
    "## Выводы\n",
    "В ходе данной лабораторной работы были изучены основные положения метода наименьших квадратов (МНК), статистические свойства МНК-оценок, понятие функции регрессии и роль МНК в регрессионном анализе. Были построены оценки параметров с помощью доверительных интервалов, эллипса и эллипсоида. Также была рассмотрена гипотеза нормальности ошибок на уровне значимости $\\alpha$ по $\\chi^2$ и оценено расстояние полученной оценки до класса нормальных распределений по Колмогорову."
   ]
  }
 ],
 "metadata": {
  "kernelspec": {
   "display_name": "Python 3 (ipykernel)",
   "language": "python",
   "name": "python3"
  },
  "language_info": {
   "codemirror_mode": {
    "name": "ipython",
    "version": 3
   },
   "file_extension": ".py",
   "mimetype": "text/x-python",
   "name": "python",
   "nbconvert_exporter": "python",
   "pygments_lexer": "ipython3",
   "version": "3.11.5"
  }
 },
 "nbformat": 4,
 "nbformat_minor": 5
}
