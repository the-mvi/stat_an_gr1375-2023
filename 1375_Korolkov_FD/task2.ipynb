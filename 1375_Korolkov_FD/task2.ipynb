{
 "cells": [
  {
   "cell_type": "markdown",
   "id": "fbb837ca-975e-46a1-a21a-2b4b7cd69fce",
   "metadata": {},
   "source": [
    "# Практическая работа №2: Классические методы математической статистики\n",
    "Выполнил студент гр. 1375 Корольков Федор. Вариант №15"
   ]
  },
  {
   "cell_type": "markdown",
   "id": "af877899-2fe3-4fc7-a93e-8f20c7757a80",
   "metadata": {},
   "source": [
    "## Цель работы\n",
    "Научится применять методы математической статистики для решения задач статистического анализа; сформировать навыки реализации методов с помощью прикладных программных пакетов."
   ]
  },
  {
   "cell_type": "markdown",
   "id": "5173b1ef-b091-4eeb-905b-3ae0a68e1f2b",
   "metadata": {},
   "source": [
    "## Основные теоретические положения\n",
    "### 1\n",
    "#### Эмпирическая функция распределения\n",
    "ЭФР строится на основе выборки данных и представляет собой функцию, которая увеличивается на 1/n при каждом уникальном значении в выборке, где n — размер выборки. То есть, если в выборке есть k уникальных значений, то значение ЭФР увеличивается на 1/n в каждой из этих точек <br>\n",
    "\n",
    "#### Гистограмма \n",
    "Это графическое представление распределения данных, которое позволяет визуально оценить частоту появления значений в выборке. Она разбивает диапазон значений на несколько интервалов (столбцов) и показывает количество наблюдений, попавших в каждый интервал.\n",
    "\n",
    "#### Полигон частот\n",
    "Один из способов графического представления плотности вероятности случайной величины. Представляет собой ломаную, соединяющую точки, соответствующие срединным значениям интервалов группировки и частотам этих интервалов\n",
    "### 2\n",
    "#### Выборочные аналоги числовых характеристик\n",
    "Математическое ожидание: $\\overline{X}=\\frac{1}{n}\\sum_{i=1}^{n}X_{i}$ <br>\n",
    "Дисперсия: $S^{2}=\\frac{1}{n}\\sum_{i=1}^{n}\\left( X_{i}-\\overline{X} \\right)^{2}=\\overline{X^{2}}-\\overline{X}^{2}$ <br>\n",
    "Коэффициент асимметрии: $\\widehat{S_{kew}}X=\\frac{\\frac{1}{n}\\sum_{i=1}^{n}\\left( X_{i}-\\overline{X} \\right)^{3} }{S^{3}}$ <br>\n",
    "Коэффициент эксцесса: $\\widehat{K_{urt}}X=\\frac{\\frac{1}{n}\\sum_{i=1}^{n}\\left( X_{i}-\\overline{X}^{4} \\right)}{S^{4}}-3$ <br>\n",
    "СКО : $\\sigma=\\sqrt{D}$\n",
    "### 3\n",
    "#### ОМП\n",
    "Плотность распределения Пуассона: $P_{\\lambda}(X=k)=\\frac{\\lambda^{k}}{k!}\\cdot exp(-\\lambda)$ <br>\n",
    "Функция правдоподобия: $L(\\vec{X},\\theta)=\\prod_{i=1}^{n}P_{\\theta}(X_{i})$ <br>\n",
    "Поскольку функции L и ln(L) достигают максимума при одном и том же значении $\\theta$ , удобнее искать максимум ln(L) – логарифмической функции правдоподобия: $LL(\\vec{X},\\theta)=\\ln L(\\vec{X},\\theta)=\\sum_{i=1}^{n}\\ln P_{\\theta}(X_{i})$\n",
    "\n",
    "#### ОММ\n",
    "Пусть $X_{1},...,X_{n}$-выбока из распределения $P_{\\theta}, \\theta=(\\theta_{1},...,\\theta_{d})$ <br>\n",
    "$\\exists \\mu_{k}(\\theta)=\\mathbb{E}X^{k}_{1}, k=\\overline{1,d}$ <br>\n",
    "Если $\\exists$ ! решение $\\widetilde{\\theta}(X)$ системы уравнений: $\\widehat{\\mu^{k}}(\\widetilde{\\theta})=\\mu_{k}(\\theta), k=\\overline{1,d}$ , где $\\widetilde{\\theta}(X)=\\frac{1}{n}\\sum_{i=1}^{n}X^{k}_{i}$ - выборочный момент k-го порядка, то $\\widetilde{\\theta}(X)$ называется оценкой по методу моментов. <br>\n",
    "\n",
    "#### Смещение\n",
    "Оценка $\\widehat{\\theta}(X)$ параметра $\\theta$ называется несмещенной, если при любом значении параметра $\\theta\\in \\Theta: \\mathbb{E}\\widehat{\\theta}(X)=\\theta$ <br>\n",
    "Смещением оценки называется величина: $bias_{\\widehat{\\theta}}(\\theta)=\\mathbb{E}_{\\theta}\\widehat{\\theta}(X)-\\theta$\n",
    "### 4\n",
    "#### Асимптотический доверительный интервал (АДИ)\n",
    "На базе Асимптотической нормальности оценки $\\widehat{\\theta}$ :<br>\n",
    "Асимптотическая нормальность: $\\sqrt{n}\\left( \\widehat{\\theta}(\\vec{X})-\\theta\\right)\\sim \\mathcal{N}\\left(0,\\sigma^{2}(\\theta)\\right)$<br>\n",
    "Тогда $\\sqrt{n}\\frac{\\widehat{\\theta}(\\vec{X})-\\theta}{\\sigma\\left(\\widehat{\\theta}(\\vec{X})\\right)}\\sim \\mathcal{N}\\left(0,1\\right)$ <br>\n",
    "Выбираем $x_{\\alpha}: \\Phi(x_{\\alpha})=1-\\frac{\\alpha}{2}$ <br>\n",
    "АДИ: $\\left[ \\widehat{\\theta}(\\vec{X})-\\frac{x_{\\alpha}\\cdot \\sigma\\left( \\widehat{\\theta}(\\vec{X}) \\right)}{\\sqrt{n}}; \\widehat{\\theta}(\\vec{X})+\\frac{x_{\\alpha}\\cdot \\sigma\\left( \\widehat{\\theta}(\\vec{X}) \\right)}{\\sqrt{n}}\\right]$<br>\n",
    "\n",
    "На базе ОМП :<br>\n",
    "Пусть $\\widehat{\\theta}(\\overrightarrow{X})$-ОМП <br>\n",
    "При выполнении определённых условий регулярности: $\\sqrt{n}\\left( \\widehat{\\theta}(\\vec{X})-\\theta)\\right)\\sim \\mathcal{N}\\left(0,\\frac{1}{I(\\theta)}\\right), I(\\theta)=\\overset{}{\\underset{n\\to\\infty}{\\lim}} \\frac{I_{n}(\\theta)}{n}, I_{n}(\\theta) $ -информация Фишера <br>\n",
    "Тогда $\\sqrt{n\\cdot I\\left( \\widehat{\\theta}(\\vec{X}) \\right)}\\cdot \\left( \\widehat{\\theta}(\\vec{X})-\\theta \\right)\\sim \\mathcal{N}(0,1)$<br>\n",
    "Выбираем $x_{\\alpha}: \\Phi(x_{\\alpha})=1-\\frac{\\alpha}{2}$ <br>\n",
    "АДИ: $\\left[ \\widehat{\\theta}(\\vec{X})-\\frac{x_{\\alpha}}{\\sqrt{n\\cdot I\\left( \\widehat{\\theta}(\\vec{X}) \\right)}};\\widehat{\\theta}(\\vec{X})+\\frac{x_{\\alpha}}{\\sqrt{n\\cdot I\\left( \\widehat{\\theta}(\\vec{X}) \\right)}} \\right]$\n",
    "### 5\n",
    "#### Критерий $\\chi^2$ для проверки гипотез\n",
    "Разобъем множество значений сл. вел. X на N интервалов $I_{1}, ..., I_{N}:$ $I_{i} = (a_{i-1}, a_i], i = \\overline {1,N}$. данные интервалы не пересекаются и покрывают всё множество возможных значений случайной величины X.<br>\n",
    "$p_{i} = P(X \\in I_{i}|H_{0})$ - теоритическая вероятность попадания случайной величины X в интервал $I_{i}$, при условии, что справедлива $H_{0}$<br>\n",
    "$n_{i} = num(x_{j} \\in I_{i})$ - число наблюдений выборки, попавших в соответветствующий интервал $I_{i}$ <br>\n",
    "$\\chi^{2}_{набл} = \\sum \\limits_{i=1}^{N} \\frac{n}{p_{i}} \\bigg ( \\frac{n_{i}}{n} - p_{i} \\bigg )^{2} = \\sum \\limits_{i=1}^{N} \\frac{(n_{i} - p_{i} n)^{2}}{n p_{i}} \\sim \\chi^{2}_{N-1}$ - статистика критерия <br>\n",
    "Если $\\mathcal{X}^{2}_{N-1,1-\\alpha_{1}} \\gt \\chi^2_{набл}$, то гипотезу принимаем <br>\n",
    "Если $\\mathcal{X}^{2}_{N-1,1-\\alpha_{1}} \\lt \\chi^2_{набл}$, то гипотезу отвергаем<br>\n",
    "\n",
    "#### Наиболее мощный критерий простой гипотезы\n",
    "Пусть $\\mathcal{P}=\\{P_{\\theta}:\\theta \\in \\Theta\\}$ <br>\n",
    "Простая основная гипотеза $H_{0}: \\theta=\\theta_{0}$ <br>\n",
    "Простая альтернатива $H_{A}: \\theta=\\theta_{A}$ <br>\n",
    "Считаем, не умаляя общности, что $\\mathcal{P}=\\{P_{\\theta_{0}},P_{\\theta_{1}}\\}$ <br>\n",
    "Статистика отношения правдоподобия: <br>\n",
    "$LR(\\vec{X},\\theta_{1},\\theta_{0})=\\frac{L(\\vec{X},\\theta_{1})}{L(\\vec{X},\\theta_{0})}=\\frac{P_{\\theta_{1}}(X)}{P_{\\theta_{0}}(X)}$ <br>\n",
    "Наиболее мощным критерием будет критическая область, в которой наблюдаемое значение статистики правдоподобия $LR(\\vec{X},\\theta_{1},\\theta_{0})$ будет отклоняться от значения 1 в сторону более высоких значений <br>\n",
    "Чтобы построить критическую область, мы должны задать уровень значимости $\\alpha$ - вероятность ошибки первого рода. Затем мы находим критическое значение $c$ такое, что $P\\left(LR(\\vec{X},\\theta_{1},\\theta_{0}) > c | H_{0} \\right) = \\alpha$, где $P\\left(LR(\\vec{X},\\theta_{1},\\theta_{0}) > c | H_{0}\\right)$ - вероятность получить наблюдаемое значение статистики правдоподобия, большее или равное $c$\n",
    "\n",
    "### 6\n",
    "#### Теорема Колмогорова\n",
    "$D_{n} = \\overset{}{\\underset{X \\in \\mathbb R}{sup}} |F_{n}(X) - F_{0}(X)|$ - статистика критерия Колмогорова<br>\n",
    "$F_{0}$ - непрерывная функция распределения на $\\mathbb R$<br>\n",
    "При верной основной гипотезе $H_{0}$ теорема Колмогорова $\\sqrt{n} D_{n}\\Rightarrow \\mathcal{K}$ или $P_{F_{0}}(\\sqrt{n} D_{n} < x) \\rightarrow K(x)$<br>\n",
    "$\\mathcal{K}$ - распределение Колмогорова<br>\n",
    "$K(x)$ - функция распределения Колмогорова<br>"
   ]
  },
  {
   "cell_type": "markdown",
   "id": "46de3bd6-9008-4fde-a5cc-5db79f5186b7",
   "metadata": {},
   "source": [
    "## Постановка задачи\n",
    "Для полученных в результате эксперимента наборов данных выполнить статистическую обработку. Полученные результаты содержательно проинтерпретировать."
   ]
  },
  {
   "cell_type": "markdown",
   "id": "7ccf92d5-46ca-492f-9815-87b1c1ab43e1",
   "metadata": {},
   "source": [
    "## Выполнение работы"
   ]
  },
  {
   "cell_type": "markdown",
   "id": "5b221e50-88f9-43fd-bc5a-a552fbdbbd02",
   "metadata": {},
   "source": [
    "#### 1.a)Построить вариционный ряд, эмпирическую функцию распределения и гистограмму частот"
   ]
  },
  {
   "cell_type": "code",
   "execution_count": 98,
   "id": "9058eb39-63f6-4681-8a7e-4f4fdeea265c",
   "metadata": {},
   "outputs": [
    {
     "name": "stdout",
     "output_type": "stream",
     "text": [
      "Вариационный ряд [ 0  0  0  0  0  0  0  1  1  1  1  1  1  1  1  1  1  1  2  2  2  2  2  2\n",
      "  2  2  2  3  3  3  3  3  3  3  3  4  4  4  4  4  5  5  5  5  6  6  6  9\n",
      " 12 15]\n"
     ]
    },
    {
     "data": {
      "image/png": "[encoded data removed]",
      "text/plain": [
       "<Figure size 640x480 with 1 Axes>"
      ]
     },
     "metadata": {},
     "output_type": "display_data"
    },
    {
     "data": {
      "image/png": "[encoded data removed]",
      "text/plain": [
       "<Figure size 640x480 with 1 Axes>"
      ]
     },
     "metadata": {},
     "output_type": "display_data"
    }
   ],
   "source": [
    "import numpy as np\n",
    "import scipy.stats as st\n",
    "import matplotlib.pyplot as plt\n",
    "from scipy import stats\n",
    "Data = [4, 3, 1, 1, 9, 3, 2, 2, 1, 12, 4, 5, 15, 3, 2, 2, 3, 0, 1, 4, 4, 3, 0, 1, 1, 2, 0, 2, 3, 3, 2, 1, 4, 5, 0, 0, 6, 0, 5, 6, 6, 5, 1, 2, 3, 0, 1, 1, 2, 1]\n",
    "Sort = np.sort(Data)\n",
    "n = len(Data)\n",
    "\n",
    "X = range(len(Sort))\n",
    "\n",
    "print(\"Вариационный ряд\",Sort)\n",
    "\n",
    "\n",
    "bin_dt, bin_gr = np.histogram(Data, bins=len(Data))\n",
    "Y = bin_dt.cumsum()\n",
    "for i in range(len(Y)):\n",
    "    plt.plot([bin_gr[i], bin_gr[i+1]],[Y[i], Y[i]],color='green')\n",
    "plt.xlabel('Значения')\n",
    "plt.ylabel('Вероятность')\n",
    "plt.title('Эмпирическая функция')\n",
    "plt.show()\n",
    "    \n",
    "X = Sort\n",
    "Interval = range(min(Sort), max(Sort) + 1)\n",
    "plt.subplot()\n",
    "plt.hist(X, bins=Interval, density=True, edgecolor='black')\n",
    "plt.xlabel('Значения')\n",
    "plt.ylabel('Относительная частота')\n",
    "plt.title('Гистограмма частот')\n",
    "plt.show()"
   ]
  },
  {
   "cell_type": "markdown",
   "id": "dc946297-89ee-4310-9b86-75baaf268dbe",
   "metadata": {},
   "source": [
    "#### 1.b)Вычислить выборочные аналоги следующих числовых характеристик: (i)математического ожидания, (ii)дисперсии, (iii)СКО, (iv)медианы, (v)асимметрии, (vi)эксцесса (vii) вероятности $\\mathrm{P}(X\\in \\left[ a,b \\right])$"
   ]
  },
  {
   "cell_type": "code",
   "execution_count": 1,
   "id": "ed0b2848-79a1-4427-a59e-a35cd9c89dd9",
   "metadata": {},
   "outputs": [
    {
     "name": "stdout",
     "output_type": "stream",
     "text": [
      "Мат.ожидание =  2.94\n",
      "Дисперсия =  8.496400000000001\n",
      "Выборочное стандартное отклонение =  2.914858487131065\n",
      "Медиана =  2.0\n",
      "Асимметрия =  2.0847119976207242\n",
      "Эксцесс =  5.385614561295315\n",
      "Вероятность попадания в промежуток =  0.4000000000000001\n"
     ]
    }
   ],
   "source": [
    "import numpy as np\n",
    "import matplotlib.pyplot as plt\n",
    "from scipy import stats\n",
    "Data = [4, 3, 1, 1, 9, 3, 2, 2, 1, 12, 4, 5, 15, 3, 2, 2, 3, 0, 1, 4, 4, 3, 0, 1, 1, 2, 0, 2, 3, 3, 2, 1, 4, 5, 0, 0, 6, 0, 5, 6, 6, 5, 1, 2, 3, 0, 1, 1, 2, 1]\n",
    "\n",
    "Mx = np.mean(Data)\n",
    "print(\"Мат.ожидание = \",Mx)\n",
    "Dx = np.var(Data)\n",
    "print(\"Дисперсия = \",Dx)\n",
    "CKO=np.std(Data)\n",
    "print(\"Выборочное стандартное отклонение = \",CKO)\n",
    "Median = np.median(Data)\n",
    "print(\"Медиана = \",Median)\n",
    "Skewness = stats.skew(Data)\n",
    "print(\"Асимметрия = \",Skewness)\n",
    "Kurtosis = stats.kurtosis(Data)\n",
    "print(\"Эксцесс = \",Kurtosis)\n",
    "\n",
    "a = 2.31\n",
    "b = 6.46\n",
    "Probability = 0\n",
    "for x in range(len(Data)):\n",
    "    if a <= Data[x] <= b:\n",
    "        Probability = Probability + 1/50\n",
    "print(\"Вероятность попадания в промежуток = \",Probability)"
   ]
  },
  {
   "cell_type": "markdown",
   "id": "018c5a00-84d8-4e83-98bd-5b1a0e40ff6d",
   "metadata": {},
   "source": [
    "#### 1.c)В предположении, что исходные наблюдения являются выборкой из распределения Пуассона, построить ОМП параметра $\\lambda$ ,а также оценку $\\lambda$ по методу моментов.Найти смещение оценки."
   ]
  },
  {
   "cell_type": "markdown",
   "id": "7af59744-b2ee-4ff6-ba4c-fb505b986c77",
   "metadata": {
    "jp-MarkdownHeadingCollapsed": true
   },
   "source": [
    "##### ОМП:\n",
    "Плотность распределения Пуассона: $P_{\\lambda}(X=k)=\\frac{\\lambda^{k}}{k!}\\cdot exp(-\\lambda)$<br>\n",
    "Функция правдоподобия: $L(\\vec{X};\\theta)=\\prod_{i=1}^{n}P_{\\lambda}(X_{i})=\\prod_{i=1}^{n}\\frac{\\lambda^{X_{i}}}{X_{i}!}\\cdot exp(-\\lambda)=\\frac{\\lambda^{\\sum_{i=1}^{n}X_{i}}}{\\prod_{i=1}^{n}(X_{i}!)}\\cdot exp(-n\\cdot \\lambda)$<br>\n",
    "Прологарифмированная функция правдоподобия: $LL(\\vec{X};\\theta)= \\sum_{i=1}^{n}X_{i}\\cdot \\ln(\\lambda)-\\ln(\\prod_{i=1}^{n}X_{i}!)-n\\cdot \\lambda$<br>\n",
    "Частная производная $LL(\\vec{X};\\theta)$ по $\\lambda$ : $\\frac{\\partial LL(\\vec{X};\\theta)}{\\partial \\lambda} = \\frac{\\sum_{i=1}^{n}X_{i}}{\\lambda}-n $ <br>\n",
    "Приравняем её к нулю и выразим параметр $\\lambda$: $\\frac{\\sum_{i=1}^{n}X_{i}}{\\lambda}-n=0\\to \\lambda=\\frac{1}{n}\\cdot \\sum_{i=1}^{n}X_{i}\\to \\widehat{\\theta}=\\widehat{\\lambda}=\\overline{X}$ <br>\n",
    "##### ОММ:\n",
    "Для закона Пуассона нам известно, что параметр $\\lambda$  – это математическое ожидание, которое <br>\r",
    "по методу моментов оценивается первым выборочным моментом $\\mathbb{E}X_{1}=\\lambda;M_{1}=\\overline{X}$ <br>\n",
    "$\\widetilde{\\theta}=\\widetilde{\\lambda}=\\overline{X}$ <br>\n",
    "##### Смещение:\n",
    "Из функции правдоподобия: <br>\n",
    "$g\\left(T(\\vec{X})\\right)=\\lambda^{\\sum_{i=1}^{n}X_{i}}\\cdot exp(-n\\cdot \\lambda)$ <br>\n",
    "МДС: $T=\\sum_{i=1}^{n}X_{i}$ <br>\n",
    "ПДС = МДС т.к. распределение Пуассона принадлежит экспоненциальному семейству распределений <br>\n",
    "$\\widehat{\\theta}=\\widehat{\\lambda}=\\overline{X}$ - ОМП <br>\n",
    "$\\mathbb{E}_{\\lambda}\\widehat{\\lambda}=\\mathbb{E}_{\\lambda}\\overline{X}=\\mathbb{E}_{\\lambda}\\left( \\frac{1}{n}\\cdot \\sum_{i=1}^{n}x_{i}\\right)=\\frac{1}{n}\\cdot \\mathbb{E_{\\lambda}}\\sum_{i=1}^{n}x_{i}=\\frac{1}{n}\\cdot \\sum_{i=1}^{n}\\mathbb{E_{\\lambda}}X_{1}=\\frac{1}{n}\\cdot n\\cdot \\mathbb{E}_{\\lambda}X_{1}=\\lambda$ - несмещ. НРМД-оценка"
   ]
  },
  {
   "cell_type": "markdown",
   "id": "ba304728-cc29-4fb5-970f-9fcb0a04f432",
   "metadata": {},
   "source": [
    "#### 1.d)Построить АДИ уровня значимости $\\alpha_1=0.2$ для параметра $\\lambda$ на базе ОМП"
   ]
  },
  {
   "cell_type": "markdown",
   "id": "bfe017be-9dc9-4cf6-882e-3e31b3c9d71e",
   "metadata": {
    "jp-MarkdownHeadingCollapsed": true
   },
   "source": [
    "$\\mathrm{Ф}(x)=\\int_{-\\infty}^{x}\\frac{1}{\\sqrt{2\\pi}}\\cdot\\exp(-\\frac{t^2}{2})dt$ - функция распределения стандартного нормального распределения <br>\n",
    "Выбираем $x_{\\alpha}$: $\\mathrm{Ф}(x_{\\alpha})=1-\\frac{\\alpha_{1}}{2}=1-\\frac{0.2}{2}=0.9 \\to x_{0.9}=1.28$ <br>\n",
    "Формула АДИ: $\\left[ \\widehat{\\theta}(\\vec{X})-\\frac{x_{\\alpha}}{\\sqrt{n\\cdot I\\left( \\widehat{\\theta}(\\vec{X}) \\right)}};\\widehat{\\theta}(\\vec{X})+\\frac{x_{\\alpha}}{\\sqrt{n\\cdot I\\left( \\widehat{\\theta}(\\vec{X}) \\right)}} \\right]$ <br>\n",
    "$\\widehat{\\theta}=\\widehat{\\lambda}=\\overline{X}=2.94$ - ОМП <br>\n",
    "$I_n(\\theta)=-\\mathbb{E}\\left( \\frac{\\partial^{2} LL}{\\partial \\lambda^{2}} \\right)=-\\mathbb{E}\\left( -\\frac{\\sum_{i=1}^{n}X_{i}}{\\lambda^{2}} \\right)=17$<br>\n",
    "$\\sum_{i=1}^{n}X_{i}=147$ ; $\\lambda^{2}=8,6436$<br>\n",
    "АДИ:$\\left[ \\overline{X}-\\frac{x_{0.9}}{\\sqrt{17}}; \\overline{X}+\\frac{x_{0.9}}{\\sqrt{17}}\\right]\\to 2.94 - \\frac{1.28}{\\sqrt{17}}\\le \\lambda\\le 2.94 + \\frac{1.28}{\\sqrt{ 17}} \\to 2.6296\\le \\lambda\\le 3.2505$"
   ]
  },
  {
   "cell_type": "markdown",
   "id": "d5dbe048-1d99-4fcb-8998-fbefb34e989b",
   "metadata": {},
   "source": [
    "#### 1.e)Используя гистограмму частот, построить критерий значимости $\\chi^2$ проверки простой гипотезы согласия с распределением Пуассона с параметром $\\lambda_{0}=6.00$. Проверить гипотезу на уровне значимости $\\alpha_{1}=0.2$. Вычислить наибольшее значение уровня значимости, на котором ещё нет оснований отвергнуть данную гипотезу"
   ]
  },
  {
   "cell_type": "markdown",
   "id": "05cd836a-0dba-4710-8cee-bb3dd533ac8b",
   "metadata": {},
   "source": [
    "$P_{i}=P_{H_{0}}=(X\\in I_{i})=\\sum_{k\\in I_{i}}^{}\\frac{\\lambda_{0}^{k}}{k!}exp(-\\lambda_{0})$ <br>\n",
    "$I_{1}=\\left[ 0 \\right], n_{1}=7$ <br>\n",
    "$P_{1}=\\frac{6^{0}}{0!}exp(-6)=0.0025\\to nP_{1}=0,125$ <br>\n",
    "$I_{2}=\\left[ 1 \\right], n_{2}=11$ <br>\n",
    "$P_{2}=\\frac{6^{1}}{1!}exp(-6)=0.015\\to nP_{2}=0,744$ <br>\n",
    "$I_{3}=\\left[ 2 \\right], n_{3}=9$ <br>\n",
    "$P_{3}=\\frac{6^{2}}{2!}exp(-6)=0.045\\to nP_{3}=2,231$ <br>\n",
    "$I_{4}=\\left[ 3 \\right], n_{4}=8$ <br>\n",
    "$P_{4}=\\frac{6^{3}}{3!}exp(-6)=0.089\\to nP_{4}=4,462$ <br>\n",
    "Объединяю малочисленные частоты<br>\n",
    "$I_{5}=\\left[ 4,5 \\right], n_{5}=9$ <br>\n",
    "$P_{5}=\\frac{6^{4}}{4!}exp(-6)+\\frac{6^{5}}{5!}exp(-6)=0.294\\to nP_{5}=14,724$ <br>\n",
    "$I_{6}=\\left[ 6,9,12,15 \\right], n_{6}=6$ <br>\n",
    "$P_{6}=\\frac{6^{6}}{6!}exp(-6)+\\frac{6^{9}}{9!}exp(-6)+\\frac{6^{12}}{12!}exp(-6)+\\frac{6^{15}}{15!}exp(-6)=0.242\\to nP_{6}=12,081$ <br>\n",
    "Критерий $\\chi^2: \\chi^2_{набл}=\\sum_{i=1}^{6}\\frac{(n_{i}-nP_{i})^{2}}{nP_{i}} =548.132$<br>\n",
    "$\\chi^2_{k-1,\\alpha_{1}}=\\chi^2_{5,0.2} = 7.289$ <br>\n",
    "$\\chi^2_{набл}\\gt \\chi^2_{5,0.2}\\to$ по критерию Пирсона мы отвергаем гипотезу <br>\n",
    "Наибольшее значение уровня значимости, на котором ещё нет оснований отвергнуть данную гипотезу: <br>"
   ]
  },
  {
   "cell_type": "code",
   "execution_count": 74,
   "id": "89b1e647-0312-42d4-9fde-817e9c675212",
   "metadata": {},
   "outputs": [
    {
     "name": "stdout",
     "output_type": "stream",
     "text": [
      "0\n"
     ]
    }
   ],
   "source": [
    "xi_2 = 548.132\n",
    "max_alpha = 0\n",
    "for i in range(1, 10000):\n",
    "    if (xi_2 <= stats.chi2.ppf(1 - i/10000, 5)):\n",
    "        max_alpha = i/10000\n",
    "print(max_alpha)"
   ]
  },
  {
   "cell_type": "markdown",
   "id": "04c22444-8492-4040-8d79-21e14f223b2f",
   "metadata": {},
   "source": [
    "Наибольшее значение уровня значимости, на котором ещё нет оснований отвергнуть данную гипотезу стремится к нулю"
   ]
  },
  {
   "cell_type": "markdown",
   "id": "49069e03-ab4c-4c13-8126-724455d710d2",
   "metadata": {},
   "source": [
    "#### 1.f)Построить критерий значимости  $\\chi^2$ проверки сложной гипотезы согласия с распределением Пуассона. Проверить гипотезу по уровню значимости $\\alpha_{1}=0.2$.Вычислить наибольшее значение уровня значимости, на котором ещё нет оснований отвергнуть данную гипотезу"
   ]
  },
  {
   "cell_type": "markdown",
   "id": "e6a0877f-7a79-4110-8b2f-5387dd47c854",
   "metadata": {},
   "source": [
    "$P_{i}=P_{H_{0}}=(X\\in I_{i})=\\sum_{k\\in I_{i}}^{}\\frac{\\overline{X}^{k}}{k!}exp(-\\overline{X})$ <br>\n",
    "$I_{1}=\\left[ 0 \\right], n_{1}=7$ <br>\n",
    "$P_{1}=\\frac{2.94^{0}}{0!}exp(-2.94)=0.053\\to nP_{1}=2,643$ <br>\n",
    "$I_{2}=\\left[ 1 \\right], n_{2}=11$ <br>\n",
    "$P_{2}=\\frac{2.94^{1}}{1!}exp(-2.94)=0.155\\to nP_{2}=7,771$ <br>\n",
    "$I_{3}=\\left[ 2 \\right], n_{3}=9$ <br>\n",
    "$P_{3}=\\frac{2.94^{2}}{2!}exp(-2.94)=0.228\\to nP_{3}=11,424$ <br>\n",
    "$I_{4}=\\left[ 3 \\right], n_{4}=8$ <br>\n",
    "$P_{4}=\\frac{2.94^{3}}{3!}exp(-2.94)=0.224\\to nP_{4}=11,195$ <br>\n",
    "Объединяю малочисленные частоты<br>\n",
    "$I_{5}=\\left[ 4,5 \\right], n_{5}=9$ <br>\n",
    "$P_{5}=\\frac{2.94^{4}}{4!}exp(-2.94)+\\frac{2.94^{5}}{5!}exp(-2.94)=0.261\\to nP_{5}=13,067$ <br>\n",
    "$I_{6}=\\left[ 6,9,12,15 \\right], n_{6}=6$ <br>\n",
    "$P_{6}=\\frac{2.94^{6}}{6!}exp(-2.94)+\\frac{2.94^{9}}{9!}exp(-2.94)+\\frac{2.94^{12}}{12!}exp(-2.94)+\\frac{2.94^{15}}{15!}exp(-2.94)=0.049\\to nP_{6}=2,492$ <br>\n",
    "Критерий $\\chi^2: \\chi^2_{набл}=\\sum_{i=1}^{6}\\frac{(n_{i}-nP_{i})^{2}}{nP_{i}} =16.3$<br>\n",
    "$\\chi^2_{k-1,\\alpha_{1}}=\\chi^2_{5,0.2} = 7.289$ <br>\n",
    "$\\chi^2_{набл}\\gt \\chi^2_{5,0.2}\\to$ по критерию Пирсона мы отвергаем гипотезу <br>\n",
    "Наибольшее значение уровня значимости, на котором ещё нет оснований отвергнуть данную гипотезу: <br>"
   ]
  },
  {
   "cell_type": "code",
   "execution_count": 77,
   "id": "69bbe1e9-7a3d-42e0-9e2e-4a002db8d058",
   "metadata": {},
   "outputs": [
    {
     "name": "stdout",
     "output_type": "stream",
     "text": [
      "0.006\n"
     ]
    }
   ],
   "source": [
    "xi_2 = 16.3\n",
    "max_alpha = 0\n",
    "for i in range(1, 10000):\n",
    "    if (xi_2 <= stats.chi2.ppf(1 - i/10000, 5)):\n",
    "        max_alpha = i/10000\n",
    "print(max_alpha)"
   ]
  },
  {
   "cell_type": "markdown",
   "id": "efb75ee2-5549-4771-b5fa-70c78c19b1b6",
   "metadata": {},
   "source": [
    "Наибольшее значение уровня значимости, на котором ещё нет оснований отвергнуть данную гипотезу $\\thickapprox$ 0.006"
   ]
  },
  {
   "cell_type": "markdown",
   "id": "0de763e8-d7bc-4386-a869-1fbab5bda37b",
   "metadata": {},
   "source": [
    "#### 1.g)Построить наиболее мощный критерий проверки простой гипотезы пауссоновости с параметром $\\lambda=\\lambda_{0}=6.00$ при альтернативе пуассоновсти с параметром $\\lambda=\\lambda_{1}=3.00$. Проверить гипотезу на уровне значимости $\\alpha_{1}=0.2$. Что получится, если поменять местами основную и альтернативную гипотезы?"
   ]
  },
  {
   "cell_type": "markdown",
   "id": "ae7eb711-bed9-476b-b303-3f03383e5e2d",
   "metadata": {},
   "source": [
    "$LR(\\vec{X},\\lambda_{1},\\lambda_{0}) = \\frac{L\\left(\\vec{X},\\lambda_{1} \\right)}{L\\left(\\vec{X},\\lambda_{0} \\right)}= \\frac{\\lambda_{1}^{\\sum_{i=1}^{n}X_{i}}\\cdot exp(-n\\cdot \\lambda_{1})}{\\lambda_{0}^{\\sum_{i=1}^{n}X_{i}}\\cdot exp(-n\\cdot \\lambda_{0})}$ - статистическое отношение правдоподобия<br>\n",
    "Основная $H_{0}=\\lambda_{0}$ , альтернативная $H_{A}=\\lambda_{1}$ гипотезы <br>\n",
    "В силу монотонности статистики $LR(\\vec{X})$ относительно МДС $T(\\vec{X})=\\sum_{i=1}^{n}X_{i}$ <br>\n",
    "$LR(\\vec{X},\\lambda_{0},\\lambda_{1})\\gt c\\Leftrightarrow \\overline{X}=2.94$<br>\n",
    "$\\sqrt{n}\\frac{\\overline{X}-\\lambda_{0}}{\\sqrt{\\overline{X}}}\\sim N(0,1)$ - ассимптотически нормальная оценка.<br>\n",
    "$P\\left(\\sqrt{n}\\frac{\\overline{X}-\\lambda_{0}}{\\sqrt{\\overline{X}}} \\right)\\gt \\sqrt{n}\\frac{\\overline{X}-\\lambda_{0}}{\\sqrt{\\overline{X}}}=1-\\Phi\\left(\\sqrt{n}\\frac{c-\\lambda_{0}}{\\sqrt{\\overline{X}}} \\right)=\\alpha_{1}$<br>\n",
    "$\\Phi\\left(\\sqrt{n}\\frac{c-\\lambda_{0}}{\\sqrt{\\overline{X}}} \\right)=1-\\alpha_{1}=0.8$<br>\n",
    "$\\sqrt{n}\\frac{\\overline{X}-\\lambda_{0}}{\\sqrt{\\overline{X}}}\\gt \\sqrt{n}\\frac{c-\\lambda_{0}}{\\sqrt{\\overline{X}}}=0.84\\to c=6.2\\gt \\overline{X}$ - гипотезу принимаем<br>\n",
    "\n",
    "Теперь основная $H_{0}=\\lambda_{1}$ , альтернативная $H_{A}=\\lambda_{0}$ гипотезы <br>\n",
    "$LR(\\overrightarrow{X},\\lambda_{0},\\lambda_{1}) = \\frac{L\\left(\\overrightarrow{X},\\lambda_{0} \\right)}{L\\left( \\overrightarrow{X},\\lambda_{1} \\right)}= \\frac{\\lambda_{0}^{\\sum_{i=1}^{n}X_{i}}\\cdot exp(-n\\cdot \\lambda_{0})}{\\lambda_{1}^{\\sum_{i=1}^{n}X_{i}}\\cdot exp(-n\\cdot \\lambda_{1})}$ <br>\n",
    "$\\sqrt{n}\\frac{\\overline{X}-\\lambda_{1}}{\\sqrt{\\overline{X}}}\\sim N(0,1)$ <br>\n",
    "$P\\left(\\sqrt{n}\\frac{\\overline{X}-\\lambda_{1}}{\\sqrt{\\overline{X}}} \\right)\\gt \\sqrt{n}\\frac{\\overline{X}-\\lambda_{1}}{\\sqrt{\\overline{X}}}=1-\\Phi\\left(\\sqrt{n}\\frac{c-\\lambda_{1}}{\\sqrt{\\overline{X}}} \\right)=\\alpha_{1}$<br>\n",
    "$\\Phi\\left(\\sqrt{n}\\frac{c-\\lambda_{1}}{\\sqrt{\\overline{X}}} \\right)=1-\\alpha_{1}=0.8$<br>\n",
    "$\\sqrt{n}\\frac{\\overline{X}-\\lambda_{1}}{\\sqrt{\\overline{X}}}\\gt \\sqrt{n}\\frac{c-\\lambda_{1}}{\\sqrt{\\overline{X}}}=0.84\\to c=3.2\\gt \\overline{X}$ - гипотезу принимаем<br>"
   ]
  },
  {
   "cell_type": "markdown",
   "id": "143c68f2-c9f2-4d6c-9f14-1fbe8bab52fd",
   "metadata": {},
   "source": [
    "#### 1.h) Теперь подпункты (с-f) для семейства геометрических распределений"
   ]
  },
  {
   "cell_type": "markdown",
   "id": "7c4cf59c-8fd1-44b9-903a-ebe8a16e3c6d",
   "metadata": {},
   "source": [
    "#### 1.h.c) В предположении, что исходные наблюдения являются выборкой из геометрического распределения, построить ОМП параметра $\\lambda$ ,а также оценку $\\lambda$ по методу моментов.Найти смещение оценки."
   ]
  },
  {
   "cell_type": "markdown",
   "id": "ec45fd60-73c2-4871-bb44-c0ac0ead6269",
   "metadata": {},
   "source": [
    "##### ОМП:\n",
    "Плотность геометрического распределения: $P_{\\lambda}(X=k)=\\frac{\\lambda^{k}}{(\\lambda+1)^{k+1}}$<br>\n",
    "Функция правдоподобия: $L(\\vec{X};\\theta)=\\prod_{i=1}^{n}P_{\\lambda}(X_{i})=\\prod_{i=1}^{n}\\frac{\\lambda^{X_{i}}}{(\\lambda+1)^{X_{i}}}=\\frac{\\lambda^{\\sum_{i=1}^{n}X_{i}}}{(\\lambda+1)^{\\sum_{i=1}^{n}X_{i}+n}}$<br>\n",
    "Прологарифмированная функция правдоподобия: $LL(\\vec{X};\\theta)= \\sum_{i=1}^{n}X_{i}\\cdot \\ln(\\lambda)-(\\sum_{i=1}^{n}X_{i}+n)\\ln(\\lambda+1)$<br>\n",
    "Частная производная $\\frac{\\partial LL(\\vec{X};\\theta)}{\\partial \\lambda} = \\frac{\\sum_{i=1}^{n}X_{i}}{\\lambda}-\\frac{\\sum_{i=1}^{n}X_{i}+n}{\\lambda+1}$<br>\n",
    "Приравняем её к нулю и выразим параметр $\\lambda$:  $\\frac{\\sum_{i=1}^{n}X_{i}}{\\lambda}-\\frac{\\sum_{i=1}^{n}X_{i}+n}{\\lambda+1}=0 \\to \\frac{\\sum_{i=1}^{n}X_{i}}{\\lambda}=\\frac{\\sum_{i=1}^{n}X_{i}+n}{\\lambda+1}\\to \\lambda\\cdot \\sum_{i=1}^{n}X_{i}+\\lambda \\cdot n = \\lambda\\cdot \\sum_{i=1}^{n}X_{i}+\\sum_{i=1}^{n}X_{i}\\to \\lambda=\\overline{X}\\to \\widehat{\\theta}=\\widehat{\\lambda}=\\overline{X}=2.94$ <br>\n",
    "##### ОММ:\n",
    "Для геометрического распределения нам известно, что первый момент $\\mathbb{E}X_{1}=\\lambda;M_{1}=\\overline{X}$ <br>\n",
    "$\\widetilde{\\theta}=\\widetilde{\\lambda}=\\overline{X}$ <br>\n",
    "##### Смещение:\n",
    "Из функции правдоподобия: <br>\n",
    "$g\\left(T(\\vec{X})\\right)=\\frac{\\lambda^{\\sum_{i=1}^{n}X_{i}}}{(\\lambda+1)^{\\sum_{i=1}^{n}X_{i}+n}}$ <br>\n",
    "МДС: $T=\\sum_{i=1}^{n}X_{i}$ <br>\n",
    "$\\widehat{\\theta}=\\widehat{\\lambda}=\\overline{X}$ - ОМП <br>\n",
    "$\\mathbb{E}_{\\lambda}\\widehat{\\lambda}=\\mathbb{E}_{\\lambda}\\overline{X}=\\mathbb{E}_{\\lambda}\\frac{1}{n}\\cdot \\sum_{i=1}^{n}x_{i}=\\frac{1}{n}\\cdot \\mathbb{E_{\\lambda}}\\sum_{i=1}^{n}x_{i}=\\frac{1}{n}\\cdot \\sum_{i=1}^{n}\\mathbb{E_{\\lambda}}X_{1}=\\frac{1}{n}\\cdot n\\cdot \\mathbb{E}_{\\lambda}X_{1}=\\lambda$ - несмещ. НРМД-оценка"
   ]
  },
  {
   "cell_type": "markdown",
   "id": "fccde39c-3f0d-4c37-b439-23bc3dcae0dc",
   "metadata": {},
   "source": [
    "#### 1.h.d)Построить А.Д.И. уровня значимости $\\alpha_{1}=0.2$ для параметра $\\lambda$ на базе ОМП"
   ]
  },
  {
   "cell_type": "markdown",
   "id": "71c9843c-4fe8-4f18-9e41-6502b593e94c",
   "metadata": {},
   "source": [
    "Выбираем $x_{\\alpha}$: $\\mathrm{Ф}(x_{\\alpha})=1-\\frac{\\alpha_{1}}{2}=1-\\frac{0.2}{2}=0.9 \\to x_{0.9}=1.28$ <br>\n",
    "Формула АДИ: $\\left[ \\widehat{\\theta}(\\vec{X})-\\frac{x_{\\alpha}}{\\sqrt{n\\cdot I\\left( \\widehat{\\theta}(\\vec{X}) \\right)}};\\widehat{\\theta}(\\vec{X})+\\frac{x_{\\alpha}}{\\sqrt{n\\cdot I\\left( \\widehat{\\theta}(\\vec{X}) \\right)}} \\right]$ <br>\n",
    "$\\widehat{\\theta}=\\widehat{\\lambda}=\\overline{X}=2.94$ - ОМП <br>\n",
    "$I_n(\\theta)=-\\mathbb{E}\\left( \\frac{\\partial^{2} LL}{\\partial \\lambda^{2}} \\right)=-\\mathbb{E}\\left( -\\frac{\\sum_{i=1}^{n}X_{i}}{\\lambda^{2}}+\\frac{\\sum_{i=1}^{n}X_{i}+n}{(\\lambda +1)^{2}} \\right)=\\frac{147}{\\lambda^{2}}-\\mathbb{E}\\left( \\frac{\\sum_{i=1}^{n}X_{i}+n}{(\\lambda+1)^{2}} \\right) = \\frac{147}{\\lambda^{2}}-\\mathbb{E}\\left( \\frac{\\sum_{i=1}^{n}X_{i}}{(\\lambda+1)^{2}} \\right)-\\mathbb{E}\\left( \\frac{n}{(\\lambda+1)^{2}} \\right)=\\frac{147}{\\lambda^{2}}-\\frac{147}{(\\lambda+1)^{2}}-\\frac{50}{(\\lambda+1)^{2}}=\\frac{147(\\lambda+1)^{2}- 197\\lambda^2}{(\\lambda+1)^{2}\\cdot \\lambda^{2}}=4.3$<br>\n",
    "$\\sum_{i=1}^{n}X_{i}=147$ ; $\\lambda^{2}=8,6436$<br>\n",
    "АДИ:$\\left[ \\overline{X}-\\frac{x_{0.9}}{\\sqrt{ 4.3}}; \\overline{X}+\\frac{x_{0.9}}{\\sqrt{4.3}}\\right]\\to 2.94 - \\frac{1.28}{\\sqrt{4.3}}\\le \\lambda\\le 2.94 + \\frac{1.28}{\\sqrt{4.3}} \\to 2.3227\\le \\lambda\\le 3.5573$"
   ]
  },
  {
   "cell_type": "markdown",
   "id": "aaa0ec8b-ee13-4648-91ef-7b6641631343",
   "metadata": {},
   "source": [
    "#### 1.h.e)Используя гистограмму частот, построить критерий значимости $\\chi^2$ проверки простой гипотезы согласия с геометрическим распределением с параметром $\\lambda_{0}=6.00$. Проверить гипотезу на уровне значимости $\\alpha_{1}=0.2$. Вычислить наибольшее значение уровня значимости, на котором ещё нет оснований отвергнуть данную гипотезу"
   ]
  },
  {
   "cell_type": "markdown",
   "id": "902f949f-0b40-4a7a-9c58-b31d8408e117",
   "metadata": {},
   "source": [
    "$P_{i}=P_{H_{0}}=(X\\in I_{i})=\\sum_{k\\in I_{i}}^{}\\frac{\\lambda_{0}^{k}}{(\\lambda_{0}+1)^{k+1}}$ <br>\n",
    "$I_{1}=\\left[ 0 \\right], n_{1}=7$ <br>\n",
    "$P_{1}=\\frac{6^{0}}{(6+1)^{0+1}}=0.143\\to nP_{1}=7.15$ <br>\n",
    "$I_{2}=\\left[ 1 \\right], n_{2}=11$ <br>\n",
    "$P_{2}=\\frac{6^{1}}{(6+1)^{1+1}}=0.122\\to nP_{2}=6.1$ <br>\n",
    "$I_{3}=\\left[ 2 \\right], n_{3}=9$ <br>\n",
    "$P_{3}=\\frac{6^{2}}{(6+1)^{2+1}}=0.105\\to nP_{3}=5.25$ <br>\n",
    "$I_{4}=\\left[ 3 \\right], n_{4}=8$ <br>\n",
    "$P_{4}=\\frac{6^{3}}{(6+1)^{3+1}}=0.089\\to nP_{4}=4.45$ <br>\n",
    "Объединяю малочисленные частоты<br>\n",
    "$I_{5}=\\left[ 4,5 \\right], n_{5}=9$ <br>\n",
    "$P_{5}=\\frac{6^{4}}{(6+1)^{4+1}}+\\frac{6^{5}}{(6+1)^{5+1}}=0.143\\to nP_{5}=7.15$ <br>\n",
    "$I_{6}=\\left[ 6,9,12,15 \\right], n_{6}=6$ <br>\n",
    "$P_{6}=\\frac{6^{6}}{(6+1)^{6+1}}+\\frac{6^{9}}{(6+1)^{9+1}}+\\frac{6^{12}}{(6+1)^{12+1}}+\\frac{6^{15}}{(6+1)^{15+1}}=0.129\\to nP_{6}=6.45$ <br>\n",
    "Критерий $\\chi^2: \\chi^2_{набл}=\\sum_{i=1}^{6}\\frac{(n_{i}-nP_{i})^{2}}{nP_{i}} =9.96$<br>\n",
    "$\\chi^2_{k-1,\\alpha_{1}}=\\chi^2_{5,0.2} = 7.289$ <br>\n",
    "$\\chi^2_{набл}\\gt \\chi^2_{5,0.2}\\to$ мы отвергаем гипотезу <br>\n",
    "Наибольшее значение уровня значимости, на котором ещё нет оснований отвергнуть данную гипотезу: <br>"
   ]
  },
  {
   "cell_type": "code",
   "execution_count": 81,
   "id": "949e8638-8004-4365-938b-09ed3ec0281a",
   "metadata": {},
   "outputs": [
    {
     "name": "stdout",
     "output_type": "stream",
     "text": [
      "0.0763\n"
     ]
    }
   ],
   "source": [
    "xi_2 = 9.96\n",
    "max_alpha = 0\n",
    "for i in range(1, 10000):\n",
    "    if (xi_2 <= stats.chi2.ppf(1 - i/10000, 5)):\n",
    "        max_alpha = i/10000\n",
    "print(max_alpha)"
   ]
  },
  {
   "cell_type": "markdown",
   "id": "5986ba6b-a596-4968-a52f-3b80df587fa7",
   "metadata": {},
   "source": [
    "Наибольшее значение уровня значимости, на котором ещё нет оснований отвергнуть данную гипотезу $\\thickapprox$ 0.0763"
   ]
  },
  {
   "cell_type": "markdown",
   "id": "f357efba-b231-48a8-9bb7-f7b6fb647eea",
   "metadata": {},
   "source": [
    "#### 1.h.f) Построить критерий значимости  $\\chi^2$ проверки сложной гипотезы согласия с геометрическим распределением. Проверить гипотезу по уровню значимости $\\alpha_{1}=0.2$.Вычислить наибольшее значение уровня значимости, на котором ещё нет оснований отвергнуть данную гипотезу"
   ]
  },
  {
   "cell_type": "markdown",
   "id": "fa63ccb0-7d7c-4aa4-948c-be86fab894e3",
   "metadata": {},
   "source": [
    "$P_{i}=P_{H_{0}}=(X\\in I_{i})=\\sum_{k\\in I_{i}}^{}\\frac{\\overline{X}^{k}}{(\\overline{X}+1)^{k+1}}$ <br>\n",
    "$I_{1}=\\left[ 0 \\right], n_{1}=7$ <br>\n",
    "$P_{1}=\\frac{2.94^{0}}{(2.94+1)^{0+1}}=0.254\\to nP_{1}=12.7$ <br>\n",
    "$I_{2}=\\left[ 1 \\right], n_{2}=11$ <br>\n",
    "$P_{2}=\\frac{2.94^{1}}{(2.94+1)^{1+1}}=0.189\\to nP_{2}=9.45$ <br>\n",
    "$I_{3}=\\left[ 2 \\right], n_{3}=9$ <br>\n",
    "$P_{3}=\\frac{2.94^{2}}{(2.94+1)^{2+1}}=0.141\\to nP_{3}=7.05$ <br>\n",
    "$I_{4}=\\left[ 3 \\right], n_{4}=8$ <br>\n",
    "$P_{4}=\\frac{2.94^{3}}{(2.94+1)^{3+1}}=0.105\\to nP_{4}=5.25$ <br>\n",
    "Объединяю малочисленные частоты<br>\n",
    "$I_{5}=\\left[ 4,5 \\right], n_{5}=9$ <br>\n",
    "$P_{5}=\\frac{2.94^{4}}{(2.94+1)^{4+1}}+\\frac{2.94^{5}}{(2.94+1)^{5+1}}=0.137\\to nP_{5}=6.85$ <br>\n",
    "$I_{6}=\\left[ 6,9,12,15 \\right], n_{6}=6$ <br>\n",
    "$P_{6}=\\frac{2.94^{6}}{(2.94+1)^{6+1}}+\\frac{2.94^{9}}{(2.94+1)^{9+1}}+\\frac{2.94^{12}}{(2.94+1)^{12+1}}+\\frac{2.94^{15}}{(2.94+1)^{15+1}}=0.073\\to nP_{6}=3.65$ <br>\n",
    "Критерий $\\chi^2: \\chi^2_{набл}=\\sum_{i=1}^{6}\\frac{(n_{i}-nP_{i})^{2}}{nP_{i}} =6.98$<br>\n",
    "$\\chi^2_{k-1,\\alpha_{1}}=\\chi^2_{5,0.2} = 7.289$ <br>\n",
    "$\\chi^2_{набл}\\lt \\chi^2_{5,0.2}\\to$ мы принимаем гипотезу <br>\n",
    "Наибольшее значение уровня значимости, на котором ещё нет оснований отвергнуть данную гипотезу <br>"
   ]
  },
  {
   "cell_type": "code",
   "execution_count": 79,
   "id": "5c75bf17-175f-4548-8b26-e3ef82546d48",
   "metadata": {},
   "outputs": [
    {
     "name": "stdout",
     "output_type": "stream",
     "text": [
      "0.2221\n"
     ]
    }
   ],
   "source": [
    "xi_2 = 6.98\n",
    "max_alpha = 0\n",
    "for i in range(1, 10000):\n",
    "    if (xi_2 <= stats.chi2.ppf(1 - i/10000, 5)):\n",
    "        max_alpha = i/10000\n",
    "print(max_alpha)"
   ]
  },
  {
   "cell_type": "markdown",
   "id": "a0cf1747-a345-4b1f-95d0-f08d64ae3fad",
   "metadata": {},
   "source": [
    "Наибольшее значение уровня значимости, на котором ещё нет оснований отвергнуть данную гипотезу $\\thickapprox$ 0.2221"
   ]
  },
  {
   "cell_type": "markdown",
   "id": "1b86ccca-0ffc-4754-8654-0b989e91b764",
   "metadata": {},
   "source": [
    "#### 2.a)Построить вариционный ряд, эмпирическую функцию распределения, гистограмму частот и полигон частот с шагом $h=1.10$"
   ]
  },
  {
   "cell_type": "code",
   "execution_count": 99,
   "id": "545204ca-d84f-492d-bc5f-cd0b29135445",
   "metadata": {},
   "outputs": [
    {
     "name": "stdout",
     "output_type": "stream",
     "text": [
      "Вариационный ряд :\n",
      " [0.000e+00 0.000e+00 1.000e-02 1.000e-02 2.000e-02 2.000e-02 3.000e-02\n",
      " 7.000e-02 9.000e-02 1.500e-01 1.600e-01 2.000e-01 2.300e-01 2.700e-01\n",
      " 3.800e-01 4.100e-01 4.700e-01 4.800e-01 4.800e-01 5.500e-01 6.300e-01\n",
      " 7.200e-01 7.800e-01 8.300e-01 1.060e+00 1.080e+00 1.170e+00 1.230e+00\n",
      " 1.400e+00 1.790e+00 2.000e+00 2.390e+00 2.590e+00 2.640e+00 2.750e+00\n",
      " 2.910e+00 2.980e+00 3.510e+00 3.580e+00 3.820e+00 3.830e+00 4.030e+00\n",
      " 5.280e+00 5.400e+00 5.820e+00 6.470e+00 7.810e+00 8.350e+00 8.650e+00\n",
      " 1.778e+01]\n"
     ]
    },
    {
     "data": {
      "image/png": "[encoded data removed]",
      "text/plain": [
       "<Figure size 640x480 with 1 Axes>"
      ]
     },
     "metadata": {},
     "output_type": "display_data"
    },
    {
     "data": {
      "image/png": "[encoded data removed]",
      "text/plain": [
       "<Figure size 640x480 with 1 Axes>"
      ]
     },
     "metadata": {},
     "output_type": "display_data"
    },
    {
     "data": {
      "image/png": "[encoded data removed]",
      "text/plain": [
       "<Figure size 640x480 with 1 Axes>"
      ]
     },
     "metadata": {},
     "output_type": "display_data"
    }
   ],
   "source": [
    "import numpy as np\n",
    "import matplotlib.pyplot as plt\n",
    "from scipy import stats\n",
    "Data = [1.17, 0.01, 0.55, 1.40, 5.82, 0.23, 0.78, 0.41, 0.00, 0.02, 0.72, 0.01, 1.08, 3.51, 3.82, 0.38, 17.78, 2.00, 2.59, 6.47, 2.91, 0.00, 2.98, 8.65, 0.15, 0.47, 7.81, 0.09, 3.58, 3.83, 0.02, 5.40, 1.06, 0.63, 0.20, 5.28, 4.03, 0.16, 1.79, 0.27, 1.23, 0.48, 2.39, 0.07, 0.03, 0.83, 0.48, 8.35, 2.75, 2.64]\n",
    "Sort = np.sort(Data)\n",
    "print('Вариационный ряд :\\n', Sort)\n",
    "n = len(Data)\n",
    "\n",
    "X = range(len(Sort))\n",
    "\n",
    "bin_dt, bin_gr = np.histogram(Data, bins=len(Data))\n",
    "Y = bin_dt.cumsum()\n",
    "for i in range(len(Y)):\n",
    "    plt.plot([bin_gr[i], bin_gr[i+1]],[Y[i], Y[i]],color='green')\n",
    "plt.xlabel('Значения')\n",
    "plt.ylabel('Вероятность')\n",
    "plt.title('Эмпирическая функция')\n",
    "plt.show()\n",
    "\n",
    "h = 1.10\n",
    "X = Data\n",
    "Interval = np.arange(min(Data), max(Data) + h,h)\n",
    "plt.subplot()\n",
    "plt.hist(X, bins=Interval, alpha = 0.5)\n",
    "plt.xlabel('Значение')\n",
    "plt.ylabel('Частота')\n",
    "plt.title('Гистограмма частот')\n",
    "plt.show()\n",
    "\n",
    "\n",
    "Y, _ = np.histogram(Data, bins=Interval)\n",
    "X = 0.5 * (Interval[1:] + Interval[:-1])\n",
    "plt.plot(X, Y, color='blue', marker='*', linestyle='-', label='Полигон')\n",
    "plt.title(\"Полигон частот\")\n",
    "plt.xlabel(\"Интервалы\")\n",
    "plt.ylabel(\"Частота\")\n",
    "plt.legend()\n",
    "plt.show()\n"
   ]
  },
  {
   "cell_type": "markdown",
   "id": "8bf239aa-bfde-4621-a84a-006200a55831",
   "metadata": {},
   "source": [
    "#### 2.b) Вычислить выборочные аналоги следующих числовых характеристик: (i)математического ожидания, (ii)дисперсии, (iii)СКО, (iv)медианы, (v)асимметрии, (vi)эксцесса (vii) вероятности $\\mathrm{P}(X\\in \\left[ a,b \\right])$"
   ]
  },
  {
   "cell_type": "code",
   "execution_count": 13,
   "id": "5663dcd1-defb-4fcc-872d-ba98366584fa",
   "metadata": {},
   "outputs": [
    {
     "name": "stdout",
     "output_type": "stream",
     "text": [
      "Мат.ожидание:  2.3462\n",
      "Дисперсия:  10.24443956\n",
      "Выборочное стандартное отклонение:  3.200693606079782\n",
      "Медиана:  1.07\n",
      "Асимметрия:  2.598809455118424\n",
      "Эксцесс:  8.740372469114243\n",
      "Вероятность попадания в промежуток:  0.7800000000000004\n"
     ]
    }
   ],
   "source": [
    "import numpy as np\n",
    "import matplotlib.pyplot as plt\n",
    "from scipy import stats\n",
    "Data = [1.17, 0.01, 0.55, 1.40, 5.82, 0.23, 0.78, 0.41, 0.00, 0.02, 0.72, 0.01, 1.08, 3.51, 3.82, 0.38, 17.78, 2.00, 2.59, 6.47, 2.91, 0.00, 2.98, 8.65, 0.15, 0.47, 7.81, 0.09, 3.58, 3.83, 0.02, 5.40, 1.06, 0.63, 0.20, 5.28, 4.03, 0.16, 1.79, 0.27, 1.23, 0.48, 2.39, 0.07, 0.03, 0.83, 0.48, 8.35, 2.75, 2.64]\n",
    "Mx = np.mean(Data)\n",
    "print(\"Мат.ожидание: \",Mx)\n",
    "Dx = np.var(Data)\n",
    "print(\"Дисперсия: \",Dx)\n",
    "CKO=np.std(Data)\n",
    "print(\"Выборочное стандартное отклонение: \",CKO)\n",
    "Median = np.median(Data)\n",
    "print(\"Медиана: \",Median)\n",
    "Skewness = stats.skew(Data)\n",
    "print(\"Асимметрия: \",Skewness)\n",
    "Kurtosis = stats.kurtosis(Data)\n",
    "print(\"Эксцесс: \",Kurtosis)\n",
    "\n",
    "c = 0.00\n",
    "d = 3.70\n",
    "Probability = 0\n",
    "for x in range(len(Data)):\n",
    "    if c <= Data[x] <= d:\n",
    "        Probability = Probability + 1/50\n",
    "print(\"Вероятность попадания в промежуток: \",Probability)"
   ]
  },
  {
   "cell_type": "markdown",
   "id": "741da9bf-e6e2-4050-8878-7929bec8ef72",
   "metadata": {},
   "source": [
    "#### 2.c)В предположении, что исходные наблюдения являются выборкой из показательного распределения, построить ОМП параметра $\\lambda$ ,а также оценку $\\lambda$ по методу моментов.Найти смещение оценки."
   ]
  },
  {
   "cell_type": "markdown",
   "id": "0c312ce7-7ed2-4161-ad47-2fa206d34372",
   "metadata": {},
   "source": [
    "##### ОМП:\n",
    "Плотность показательного распределения : $P(X)=\\lambda\\cdot exp(-\\lambda X)$<br>\n",
    "Функция правдоподобия: $L(\\vec{X};\\theta)=\\prod_{i=1}^{n}\\lambda\\cdot exp(-\\lambda\\cdot X_{i})=\\lambda^{n}\\cdot exp(-\\lambda\\cdot \\sum_{i=1}^{n}X_{i})$<br>\n",
    "Прологарифмированная функция правдоподобия: $LL(\\vec{X};\\theta)=n\\ln(\\lambda)-\\lambda\\cdot \\sum_{i=1}^{n}X_{i}$<br>\n",
    "Частная производная $\\frac{\\partial LL}{\\partial \\lambda}=\\frac{n}{\\lambda}-\\sum_{i=1}^{n}X_{i}$ <br>\n",
    "Приравняем её к нулю и выразим параметр $\\lambda$: $\\frac{n}{\\lambda}-\\sum_{i=1}^{n}X_{i}=0\\to \\lambda=\\frac{n}{\\sum_{i=1}^{n}X_{i}}=\\frac{1}{\\overline{X}}$<br>\n",
    "##### ОММ:\n",
    "Для показательного распределения, нам известно, что первый момент $\\mathbb{E}X_{1}=\\frac{1}{\\lambda};M_{1}=\\overline{X}$ <br>\n",
    "$\\widetilde{\\theta}=\\widetilde{\\lambda}=\\frac{1}{\\overline{X}}$ <br>\n",
    "##### Смещение:\n",
    "Из функции правдоподобия: <br>\n",
    "$g\\left(T(\\vec{X})\\right)=\\lambda^{n}\\cdot exp(-\\lambda\\cdot \\sum_{i=1}^{n}X_{i})$ <br>\n",
    "МДС: $T=\\sum_{i=1}^{n}X_{i}$ <br>\n",
    "$\\widehat{\\theta}=\\widehat{\\lambda}=\\frac{1}{\\overline{X}}$ - ОМП <br>\n",
    "$\\mathbb{E}_{\\lambda}\\widehat{\\lambda}=\\mathbb{E} \\frac{1}{\\overline X} = n \\cdot \\mathbb{E} \\frac{1}{\\sum_{i=1}^n x_i} = n \\cdot \\lambda \\frac{\\text{Г}(n - 1)}{\\text{Г}(n)} = n \\cdot \\lambda \\frac{\\text{Г}(n - 1)}{\\text{Г}(n - 1)\\cdot(n - 1)} = \\frac{n \\lambda}{n - 1}$ - смещ. НРМД-оценка <br>\n",
    "Тогда $\\widetilde{\\lambda}=\\widehat{\\lambda}\\frac{n-1}{n}$ - несмещ. НРМД-оценка <br>"
   ]
  },
  {
   "cell_type": "markdown",
   "id": "d34dc8ee-f9b7-4189-9233-05cb6c291a24",
   "metadata": {},
   "source": [
    "#### 2.d)Построить А.Д.И. уровня значимости $\\alpha_{2}=0.2$ для параметра $\\lambda$ на базе ОМП"
   ]
  },
  {
   "cell_type": "markdown",
   "id": "6aca22cf-a2da-48ac-bf6e-0b7109220066",
   "metadata": {},
   "source": [
    "Выбираем $x_{\\alpha}$: $\\mathrm{Ф}(x_{\\alpha})=1-\\frac{\\alpha_{2}}{2}=1-\\frac{0.2}{2}=0.9 \\to x_{0.9}=1.28$ <br>\n",
    "Формула АДИ: $\\left[ \\widehat{\\theta}(\\vec{X})-\\frac{x_{\\alpha}}{\\sqrt{n\\cdot I\\left( \\widehat{\\theta}(\\vec{X}) \\right)}};\\widehat{\\theta}(\\vec{X})+\\frac{x_{\\alpha}}{\\sqrt{n\\cdot I\\left( \\widehat{\\theta}(\\vec{X}) \\right)}} \\right]$ <br>\n",
    "$\\widehat{\\theta}=\\widehat{\\lambda}=\\frac{1}{\\overline{X}}$ - ОМП <br>\n",
    "$I_n(\\theta)=-\\mathbb{E}\\left( \\frac{\\partial^{2} LL}{\\partial \\lambda^{2}} \\right)=-\\mathbb{E}\\left( -\\frac{n}{\\lambda^{2}} \\right)=\\frac{n}{\\lambda^{2}}$<br>\n",
    "$\\lambda^{2}=0.1823$<br>\n",
    "АДИ:$\\left[ \\frac{1}{\\overline{X}}-\\frac{x_{0.9}}{\\sqrt{270}}; \\frac{1}{\\overline{X}}+\\frac{x_{0.9}}{\\sqrt{270}}\\right]\\to 0.43 - \\frac{1.28}{\\sqrt{270}}\\le \\lambda\\le 0.43 + \\frac{1.28}{\\sqrt{270}} \\to 0.3521\\le \\lambda\\le 0.5079$"
   ]
  },
  {
   "cell_type": "markdown",
   "id": "31374b65-d18b-4390-86ff-71399e5d1d7a",
   "metadata": {},
   "source": [
    "#### 2.e)С использованием теоремы Колмогорова построить критерий значимости проверки простой гипотезы согласия с показательным распределением с параметром $\\lambda_{0}=0.26$. Проверить гипотезу на уровне значимости $\\alpha_{2}=0.2$. Вычислить наименьшее значения уровня значимости, на котором ещё нет оснований отвергнуть данную гипотезу"
   ]
  },
  {
   "cell_type": "code",
   "execution_count": 103,
   "id": "f2ba2b0e-3ea2-4dc7-bc55-2c7d759d8a3e",
   "metadata": {},
   "outputs": [
    {
     "name": "stdout",
     "output_type": "stream",
     "text": [
      "Гипотеза отвергается.\n",
      "Вычисленная статистика Колмогорова: 49.009825246819155\n",
      "Критическое значение статистики Колмогорова: 0.17307822563424255\n",
      "Наибольший уровень значимости без отвержения гипотезы: <=0.1\n"
     ]
    }
   ],
   "source": [
    "from scipy import stats\n",
    "from math import sqrt\n",
    "from scipy.stats import expon\n",
    "from scipy.stats import kstwobign\n",
    "Data = [1.17, 0.01, 0.55, 1.40, 5.82, 0.23, 0.78, 0.41, 0.00, 0.02, 0.72, 0.01, 1.08, 3.51, 3.82, 0.38, 17.78, 2.00, 2.59, 6.47, 2.91, 0.00, 2.98, 8.65, 0.15, 0.47, 7.81, 0.09, 3.58, 3.83, 0.02, 5.40, 1.06, 0.63, 0.20, 5.28, 4.03, 0.16, 1.79, 0.27, 1.23, 0.48, 2.39, 0.07, 0.03, 0.83, 0.48, 8.35, 2.75, 2.64]\n",
    "a_2 = 0.01\n",
    "alpha_2 = 0.2\n",
    "D = np.max(np.abs(st.expon.cdf(Sort, scale= 1 / 0.26) - np.arange(1, n + 1 / n)))\n",
    "\n",
    "val = st.kstwobign.ppf(1 - alpha_2/2) / np.sqrt(len(Sort))\n",
    "\n",
    "if D <= val:\n",
    "    print(\"Гипотеза принимается.\")\n",
    "else:\n",
    "    print(\"Гипотеза отвергается.\")\n",
    "\n",
    "print(\"Вычисленная статистика Колмогорова:\",D)\n",
    "print(\"Критическое значение статистики Колмогорова:\", val)\n",
    "\n",
    "max_alpha = 0.1\n",
    "while D <= st.kstwobign.ppf(1 - max_alpha/2) / np.sqrt(n):\n",
    "    max_alpha += 0.01\n",
    "\n",
    "print(f\"Наибольший уровень значимости без отвержения гипотезы: <={max_alpha}\")\n",
    "     "
   ]
  },
  {
   "cell_type": "markdown",
   "id": "9a898761-5b5b-4dfc-9336-df0fffdde98e",
   "metadata": {},
   "source": [
    "#### 2.f)Используя гистограмму частот, построить критерий значимости $\\chi^2$ проверки простой гипотезы согласия с показательным распределением с параметром $\\lambda_{0}=0.26$. Проверить гипотезу на уровне значимости $\\alpha_{2}=0.2$. Вычислить наибольшее значение уровня значимости, на котором ещё нет оснований отвергнуть данную гипотезу"
   ]
  },
  {
   "cell_type": "markdown",
   "id": "7ba1b566-90f6-4360-9fb4-bfb52443fca9",
   "metadata": {},
   "source": [
    "$P_{i}=P_{H_{0}}=(X\\in I_{i})=\\sum_{k\\in I_{i}}^{}\\lambda_{0}\\cdot exp(-\\lambda_{0}\\cdot k)$ <br>\n",
    "$I_{1}=\\left[ 0,1.1 \\right), n_{1}=26$ <br>\n",
    "$P_{1}=0.26\\cdot exp(-0.26\\cdot 0)+0.26\\cdot exp(-0.26\\cdot 1.1)=0.45\\to nP_{1}=22.5$ <br>\n",
    "$I_{2}=\\left[ 1.1,2.1 \\right), n_{2}=5$ <br>\n",
    "$P_{2}=0.26\\cdot exp(-0.26\\cdot 1.1)+0.26\\cdot exp(-0.26\\cdot 2.1)=0.35\\to nP_{2}=17.5$ <br>\n",
    "$I_{3}=\\left[ 2.1,4,1 \\right), n_{3}=11$ <br>\n",
    "$P_{3}=0.26\\cdot exp(-0.26\\cdot 2.1)+0.26\\cdot exp(-0.26\\cdot 4.1)=0.24\\to nP_{3}=12$ <br>\n",
    "$I_{4}=\\left[ 4.1,17.78 \\right], n_{4}=8$ <br>\n",
    "$P_{4}=0.26\\cdot exp(-0.26\\cdot 4.1)+0.26\\cdot exp(-0.26\\cdot 17.78)=0.09\\to nP_{4}=4.5$ <br>\n",
    "\n",
    "Критерий $\\chi^2: \\chi^2_{набл}=\\sum_{i=1}^{4}\\frac{(n_{i}-nP_{i})^{2}}{nP_{i}} =12.28$<br>\n",
    "$\\chi^2_{k-1,\\alpha_{2}}=\\chi^2_{3,0.2} = 4.642$ <br>\n",
    "$\\chi^2_{набл}\\gt \\chi^2_{3,0.2}\\to$ мы отвергаем гипотезу <br>\n",
    "Наибольшее значение уровня значимости, на котором ещё нет оснований отвергнуть данную гипотезу:"
   ]
  },
  {
   "cell_type": "code",
   "execution_count": 96,
   "id": "c71a72d2-be6f-4b60-ac97-34c53fbe619c",
   "metadata": {},
   "outputs": [
    {
     "name": "stdout",
     "output_type": "stream",
     "text": [
      "0.0064\n"
     ]
    }
   ],
   "source": [
    "xi_2 = 12.28\n",
    "max_alpha = 0\n",
    "for i in range(1, 10000):\n",
    "    if (xi_2 <= stats.chi2.ppf(1 - i/10000, 3)):\n",
    "        max_alpha = i/10000\n",
    "print(max_alpha)"
   ]
  },
  {
   "cell_type": "markdown",
   "id": "af09595b-8318-406b-988e-78cd04dcb263",
   "metadata": {},
   "source": [
    "Наибольшее значение уровня значимости, на котором ещё нет оснований отвергнуть данную гипотезу $\\thickapprox$ 0.0064"
   ]
  },
  {
   "cell_type": "markdown",
   "id": "0fa3b26f-c884-413c-94e4-b7f948660224",
   "metadata": {},
   "source": [
    "#### 2.g)Построить критерий значимости  $\\chi^2$ проверки сложной гипотезы согласия с показательным распределением. Проверить гипотезу по уровню значимости $\\alpha_{2}=0.2$.Вычислить наибольшее значение уровня значимости, на котором ещё нет оснований отвергнуть данную гипотезу"
   ]
  },
  {
   "cell_type": "markdown",
   "id": "9352864e-a925-4d16-b969-8a92ecc9b436",
   "metadata": {},
   "source": [
    "$P_{i}=P_{H_{0}}=(X\\in I_{i})=\\sum_{k\\in I_{i}}^{}\\frac{1}{\\overline{X}}\\cdot exp(-\\frac{1}{\\overline{X}}\\cdot k)$ <br>\n",
    "$I_{1}=\\left[ 0,1.1 \\right), n_{1}=26$ <br>\n",
    "$P_{1}=0.43\\cdot exp(-0.43\\cdot 0)+0.43\\cdot exp(-0.43\\cdot 1.1)=0.57\\to nP_{1}=28.5$ <br>\n",
    "$I_{2}=\\left[ 1.1,2.1 \\right), n_{2}=5$ <br>\n",
    "$P_{2}=0.43\\cdot exp(-0.43\\cdot 1.1)+0.43\\cdot exp(-0.43\\cdot 2.1)=0.40\\to nP_{2}=20$ <br>\n",
    "$I_{3}=\\left[ 2.1,4,1 \\right), n_{3}=11$ <br>\n",
    "$P_{3}=0.43\\cdot exp(-0.43\\cdot 2.1)+0.43\\cdot exp(-0.43\\cdot 4.1)=0.25\\to nP_{3}=12.5$ <br>\n",
    "$I_{4}=\\left[ 4.1,17.78 \\right], n_{4}=8$ <br>\n",
    "$P_{4}=0.43\\cdot exp(-0.43\\cdot 4.1)+0.43\\cdot exp(-0.43\\cdot 17.78)=0.08\\to nP_{4}=4$ <br>\n",
    "\n",
    "Критерий $\\chi^2: \\chi^2_{набл}=\\sum_{i=1}^{4}\\frac{(n_{i}-nP_{i})^{2}}{nP_{i}} =15.65$<br>\n",
    "$\\chi^2_{k-1,\\alpha_{1}}=\\chi^2_{3,0.2} = 4.642$ <br>\n",
    "$\\chi^2_{набл}\\gt \\chi^2_{3,0.2}\\to$ мы отвергаем гипотезу <br>\n",
    "Наибольшее значение уровня значимости, на котором ещё нет оснований отвергнуть данную гипотезу:"
   ]
  },
  {
   "cell_type": "code",
   "execution_count": 95,
   "id": "b03cd858-9a46-4ae3-9516-931a1b4a279a",
   "metadata": {},
   "outputs": [
    {
     "name": "stdout",
     "output_type": "stream",
     "text": [
      "0.0013\n"
     ]
    }
   ],
   "source": [
    "xi_2 = 15.65\n",
    "max_alpha = 0\n",
    "for i in range(1, 10000):\n",
    "    if (xi_2 <= stats.chi2.ppf(1 - i/10000, 3)):\n",
    "        max_alpha = i/10000\n",
    "print(max_alpha)"
   ]
  },
  {
   "cell_type": "markdown",
   "id": "5253cf51-eecd-435e-9d76-7149d563a6e1",
   "metadata": {},
   "source": [
    "Наибольшее значение уровня значимости, на котором ещё нет оснований отвергнуть данную гипотезу $\\thickapprox$ 0.0013"
   ]
  },
  {
   "cell_type": "markdown",
   "id": "6f777923-d20b-4b05-98ea-43f98c4cdc32",
   "metadata": {},
   "source": [
    "#### 2.h)Построить наиболее мощный критерий проверки простой гипотезы о показательности с параметром $\\lambda=\\lambda_{0}=0.26$ при альтернативе показательности с параметром $\\lambda=\\lambda_{1}=0.36$. Проверить гипотезу на уровне значимости $\\alpha_2=0.2$. Что получится, если поменять местами основную и альтернативную гипотезы?"
   ]
  },
  {
   "cell_type": "markdown",
   "id": "d6b9608a-7043-4d8b-8b15-281147bcd2b9",
   "metadata": {},
   "source": [
    "Основная $H_{0}=\\lambda_{0}$ , альтернативная $H_{A}=\\lambda_{1}$ гипотезы <br>\n",
    "$LR(\\vec X, \\lambda_1, \\lambda_0) = \\frac{L(\\overline X, \\lambda_1)}{L(\\overline X, \\lambda_0)} = \\frac{\\lambda_0^n \\cdot \\exp(-\\lambda_0 \\cdot \\sum_{i = 1}^n X_i)}{\\lambda_1^n \\cdot \\exp(-\\lambda_1 \\cdot \\sum_{i = 1}^n X_i)}$ - статистическое отношение правдоподобия <br>\n",
    "$LR(\\overline X, \\lambda_0, \\lambda_1) \\ge c \\leftrightarrow \\overline X \\ge c^*$ <br>\n",
    "ЦПТ: $ \\sqrt{n} \\frac{ \\overline{X}-\\mu}{\\sigma} \\sim N(0,1)$<br>\n",
    "$ \\mu=\\frac{1}{\\lambda_0}, \\sigma^{2}=\\frac{1}{\\lambda_0}$<br>\n",
    "$ \\sqrt{n} \\frac{ \\overline{X}-\\frac{1}{\\lambda_0}}{\\sqrt{\\frac{1}{\\lambda_0}}} \\sim N(0,1)$<br>\n",
    "$ P\\left(\\sqrt{n} \\frac{ \\overline{X}-\\frac{1}{\\lambda_0}}{\\sqrt{\\frac{1}{\\lambda_0}}} \\geq \\sqrt{n} \\frac{ c^*-\\frac{1}{\\lambda_0}}{\\sqrt{\\frac{1}{\\lambda_0}}}\\right)=1-\\text{Ф}\\left(\\sqrt{n} \\frac{ c^*-\\frac{1}{\\lambda_0}}{\\sqrt{\\frac{1}{\\lambda_0}}}\\right)= \\alpha$<br>\n",
    "$\\sqrt{n} \\frac{ c^*-\\frac{1}{\\lambda_0}}{\\sqrt{\\frac{1}{\\lambda_0}}}=x_{\\alpha}$<br>\n",
    "$x_\\alpha: \\text{Ф}(x_\\alpha)=1-\\alpha $<br>\n",
    "$\\sqrt{50} \\cdot \\frac{c^{*} - \\frac{1}{0.26}}{\\sqrt\\frac{1}{0.26}} = 0.84$<br>\n",
    "$c^*=4.08$<br>\n",
    "$\\overline{X} = 2.34$<br>\n",
    "$\\overline{X} < c^* \\leftrightarrow$ гипотезу принимаем <br>\n",
    "Поменяем гипотезы местами<br>\n",
    "Основная $H_{0}=\\lambda_{1}$ , альтернативная $H_{A}=\\lambda_{0}$ гипотезы <br>\n",
    "$LR(\\vec X;\\lambda_1, \\lambda_0) = \\left(\\frac{\\lambda_0}{\\lambda_1}\\right)^{n} \\cdot exp(\\sum_{i=1}^{n}X_i\\left(-\\lambda_0 + \\lambda_1 \\right) > c$<br>\n",
    "$\\sqrt{n} \\frac{ c^*-\\frac{1}{\\lambda_1}}{\\sqrt{\\frac{1}{\\lambda_1}}}=x_\\alpha$<br>\n",
    "$\\sqrt{50} \\cdot \\frac{c^{*} - \\frac{1}{0.36}}{\\sqrt\\frac{1}{0.36}} = 0.84$<br>\n",
    "$c^*=2.98$<br>\n",
    "$\\overline{X} = 2.34$<br>\n",
    "$\\overline{X} < c^* \\leftrightarrow$ гипотезу принимаем <br>"
   ]
  },
  {
   "cell_type": "markdown",
   "id": "36e2f9a3-82c8-4a3c-b295-41bf39853530",
   "metadata": {},
   "source": [
    "#### 2.i) В пунктах (c)-(h) заменить семейство показательных распределений на семейство гамма-распределений с плотностями $P_{\\lambda}(x) = \\frac{\\sqrt{\\lambda}\\cdot exp\\left( \\frac{-\\lambda x}{2} \\right)}{\\sqrt{2\\pi x}}$"
   ]
  },
  {
   "cell_type": "markdown",
   "id": "7996a4e9-707b-406a-b346-ebc07dcfc0cd",
   "metadata": {},
   "source": [
    "#### 2.i.c)В предположении, что исходные наблюдения являются выборкой из гамма-распределения, построить ОМП параметра $\\lambda$ ,а также оценку $\\lambda$ по методу моментов.Найти смещение оценки."
   ]
  },
  {
   "cell_type": "markdown",
   "id": "d6f6d5d5-0e89-4cc9-83b6-328365d46b15",
   "metadata": {},
   "source": [
    "##### ОМП:\n",
    "Плотность гамма-распределения :  $P_{\\lambda}(x) = \\frac{\\sqrt{\\lambda}\\cdot exp\\left( \\frac{-\\lambda x}{2} \\right)}{\\sqrt{2\\pi x}}$<br>\n",
    "Функция правдоподобия: $L(\\vec X;\\theta)=\\frac{\\lambda^{\\frac{n}{2}}\\cdot \\exp\\left(\\frac{\\lambda}{2} \\sum_{i = 1}^{n} X_i\\right)}{(2 \\pi )^{\\frac{n}{2}} \\prod_{i=1}^{n} \\sqrt{X_i}}$<br>\n",
    "Прологарифмированная функция правдоподобия: $LL(\\vec X;\\theta)= \\frac{n}{2}\\ln{\\lambda} - \\frac{\\lambda}{2}\\sum_{i = 1}^n X_i - \\frac{n}{2}\\ln{2\\pi} - \\frac{1}{2}\\sum_{i = 1}^n \\ln{X_i}$<br>\n",
    "Частная производная $\\frac{\\partial LL}{\\partial \\lambda}=\\frac{n}{2\\lambda} - \\frac{1}{2}\\sum_{i = 1}^n X_i$ <br>\n",
    "Приравняем её к нулю и выразим параметр $ \\frac{n}{2\\lambda} - \\frac{1}{2}\\sum_{i = 1}^n X_i = 0\\to \\lambda=\\frac{1}{\\overline{X}}$<br>\n",
    "##### ОММ:\n",
    "Для показательного распределения, нам известно, что первый момент $\\mathbb{E}X_{1}=\\frac{1}{\\lambda};M_{1}=\\overline{X}$ <br>\n",
    "$\\widetilde{\\theta}=\\widetilde{\\lambda}=\\frac{1}{\\overline{X}}$ <br>\n",
    "##### Смещение:\n",
    "Из функции правдоподобия: <br>\n",
    "$g\\left(T(\\vec X)\\right)=\\frac{\\lambda^{\\frac{n}{2}}\\cdot exp\\left( \\frac{-\\lambda}{2} \\cdot \\sum_{i=1}^{n}X_{i}\\right)}{(\\prod_{i=1}^{n}X_{i})^{\\frac{n}{2}}}$ <br>\n",
    "МДС: $T=\\sum_{i=1}^{n}X_{i}$ <br>\n",
    "$\\widehat{\\theta}=\\widehat{\\lambda}=\\frac{1}{\\overline{X}}$ - ОМП <br>\n",
    "$\\mathbb{E}\\widehat{λ} = n\\mathbb{E}\\frac{1}{\\sum_{i=1}^n X_i} $<br>\n",
    "$\\sum_{i=1}^n X_i \\sim Gamma(n, \\frac{1}{\\lambda}) $<br>\n",
    "$n\\mathbb{E}\\frac{1}{\\sum_{i=1}^n X_i}=n\\left(\\frac{1}{\\lambda}\\right)^{-1} \\frac{\\text{Г}(-1+n)}{\\text{Г}(n)}=\\frac{n\\lambda}{n-1}$ - смещ. НРМД-оценка <br>\n",
    "Тогда $\\widetilde{\\lambda}=\\frac{(n-1)\\overline{X}}{n}$ - несмещ. НРМД-оценка <br>"
   ]
  },
  {
   "cell_type": "markdown",
   "id": "d9c16b45-b84a-48d6-bcf8-eead24cb97a6",
   "metadata": {},
   "source": [
    "#### 2.i.d)Построить А.Д.И. уровня значимости $\\alpha_{2}=0.2$ для параметра $\\lambda$ на базе ОМП"
   ]
  },
  {
   "cell_type": "markdown",
   "id": "b1757c85-c715-4d93-8852-f4fbf90cb757",
   "metadata": {},
   "source": [
    "Выбираем $x_{\\alpha}$: $\\mathrm{Ф}(x_{\\alpha})=1-\\frac{\\alpha_{2}}{2}=1-\\frac{0.2}{2}=0.9 \\to x_{0.9}=1.28$ <br>\n",
    "Формула АДИ: $\\left[ \\widehat{\\theta}(\\vec{X})-\\frac{x_{\\alpha}}{\\sqrt{n\\cdot I\\left( \\widehat{\\theta}(\\vec{X}) \\right)}};\\widehat{\\theta}(\\vec{X})+\\frac{x_{\\alpha}}{\\sqrt{n\\cdot I\\left( \\widehat{\\theta}(\\vec{X}) \\right)}} \\right]$ <br>\n",
    "$\\widehat{\\theta}=\\widehat{\\lambda}=\\frac{1}{\\overline{X}}$ - ОМП <br>\n",
    "$I(\\theta)=-\\mathbb{E}\\left( \\frac{\\partial^{2} LL}{\\partial \\lambda^{2}} \\right)=-\\mathbb{E}\\left( -\\frac{n}{2\\lambda^{2}} \\right)=\\frac{n}{2\\lambda^{2}}$<br>\n",
    "$\\lambda^{2}=0.1823$<br>\n",
    "АДИ:$\\left[ \\frac{1}{\\overline{X}}-\\frac{x_{0.9}}{\\sqrt{ 137}}; \\frac{1}{\\overline{X}}+\\frac{x_{0.9}}{\\sqrt{ 137}}\\right]\\to 0.43 - \\frac{1.28}{\\sqrt{ 137}}\\le \\lambda\\le 0.43 + \\frac{1.28}{\\sqrt{ 137}} \\to 0.3206\\le \\lambda\\le 0.5394$"
   ]
  },
  {
   "cell_type": "markdown",
   "id": "8187b349-b7d8-47a4-8181-c9d465739387",
   "metadata": {},
   "source": [
    "#### 2.i.e)С использованием теоремы Колмогорова построить критерий значимости проверки простой гипотезы согласия с гамма-распределением с параметром $\\lambda_{0}=0.26$. Проверить гипотезу на уровне значимости $\\alpha_{2}=0.2$. Вычислить наименьшее значения уровня значимости, на котором ещё нет оснований отвергнуть данную гипотезу"
   ]
  },
  {
   "cell_type": "code",
   "execution_count": 92,
   "id": "04731c00-86b2-450a-a200-8c971c8f2fae",
   "metadata": {},
   "outputs": [
    {
     "name": "stdout",
     "output_type": "stream",
     "text": [
      "Гипотеза отвергается.\n",
      "Вычисленная статистика Колмогорова: 49.0098\n",
      "Критическое значение статистики Колмогорова: 0.1731\n",
      "Наибольший уровень значимости без отвержения гипотезы: <=0.1\n"
     ]
    }
   ],
   "source": [
    "D = np.max(np.abs(st.gamma.cdf(Sort, scale= 1 / 0.26) - np.arange(1, n + 1 / n)))\n",
    "\n",
    "val = st.kstwobign.ppf(1 - alpha_2/2) / np.sqrt(len(Sort))\n",
    "\n",
    "if D <= val:\n",
    "    print(\"Гипотеза принимается.\")\n",
    "else:\n",
    "    print(\"Гипотеза отвергается.\")\n",
    "\n",
    "print(\"Вычисленная статистика Колмогорова:\", D)\n",
    "print(\"Критическое значение статистики Колмогорова:\", val)\n",
    "\n",
    "max_alpha = 0.1\n",
    "while D <= st.kstwobign.ppf(1 - max_alpha/2) / np.sqrt(n):\n",
    "    max_alpha += 0.01\n",
    "\n",
    "print(f\"Наибольший уровень значимости без отвержения гипотезы: <={max_alpha}\")"
   ]
  },
  {
   "cell_type": "markdown",
   "id": "e017c603-f210-421e-84ef-4225b92b5a2b",
   "metadata": {},
   "source": [
    "#### 2.i.f)Используя гистограмму частот, построить критерий значимости $\\chi^2$ проверки простой гипотезы согласия с гамма-распределением с параметром $\\lambda_{0}=0.26$. Проверить гипотезу на уровне значимости $\\alpha_{2}=0.2$. Вычислить наибольшее значение уровня значимости, на котором ещё нет оснований отвергнуть данную гипотезу"
   ]
  },
  {
   "cell_type": "markdown",
   "id": "02fbb7b6-8a63-4610-81d4-634168fe3e37",
   "metadata": {},
   "source": [
    "$P_{i}=P_{H_{0}}=(X\\in I_{i})=\\sum_{k\\in I_{i}}^{}\\frac{\\sqrt{\\lambda_{0}}\\cdot exp\\left( -\\frac{\\lambda_{0}\\cdot k}{2} \\right)}{\\sqrt{2\\pi\\cdot k}}$ <br>\n",
    "$I_{1}=\\left[ 0,1.1 \\right), n_{1}=26$ <br>\n",
    "$P_{1}=\\frac{\\sqrt{0.26}\\cdot exp\\left( -\\frac{0.26\\cdot 0.01}{2} \\right)}{\\sqrt{2\\pi\\cdot 0.01}}+\\frac{\\sqrt{0.26}\\cdot exp\\left( -\\frac{0.26\\cdot 1}{2} \\right)}{\\sqrt{2\\pi\\cdot 1}}=2.2\\to nP_{1}=110$ <br>\n",
    "$I_{2}=\\left[ 1.1,2.1 \\right), n_{2}=5$ <br>\n",
    "$P_{2}=\\frac{\\sqrt{0.26}\\cdot exp\\left( -\\frac{0.26\\cdot 1.1}{2} \\right)}{\\sqrt{2\\pi\\cdot 1.1}}+\\frac{\\sqrt{0.26}\\cdot exp\\left( -\\frac{0.26\\cdot 2.1}{2} \\right)}{\\sqrt{2\\pi\\cdot 2.1}}=0.28\\to nP_{2}=14$ <br>\n",
    "$I_{3}=\\left[ 2.1,4,1 \\right), n_{3}=11$ <br>\n",
    "$P_{3}=\\frac{\\sqrt{0.26}\\cdot exp\\left( -\\frac{0.26\\cdot 2.1}{2} \\right)}{\\sqrt{2\\pi\\cdot 2.1}}+\\frac{\\sqrt{0.26}\\cdot exp\\left( -\\frac{0.26\\cdot 4.1}{2} \\right)}{\\sqrt{2\\pi\\cdot 4.1}}=0.16\\to nP_{3}=8$ <br>\n",
    "$I_{4}=\\left[ 4.1,17.78 \\right], n_{4}=8$ <br>\n",
    "$P_{4}=\\frac{\\sqrt{0.26}\\cdot exp\\left( -\\frac{0.26\\cdot 4.1}{2} \\right)}{\\sqrt{2\\pi\\cdot 4.1}}+\\frac{\\sqrt{0.26}\\cdot exp\\left( -\\frac{0.26\\cdot 17.78}{2} \\right)}{\\sqrt{2\\pi\\cdot 17.78}}=0.06\\to nP_{4}=3$ <br>\n",
    "\n",
    "Критерий $\\chi^2: \\chi^2_{набл}=\\sum_{i=1}^{4}\\frac{(n_{i}-nP_{i})^{2}}{nP_{i}} =79.39$<br>\n",
    "$\\chi^2_{k-1,\\alpha_{2}}=\\chi^2_{3,0.2} = 4.642$ <br>\n",
    "$\\chi^2_{набл}\\gt \\chi^2_{3,0.2}\\to$ мы отвергаем гипотезу <br>\n",
    "Наибольшее значение уровня значимости, на котором ещё нет оснований отвергнуть данную гипотезу:"
   ]
  },
  {
   "cell_type": "code",
   "execution_count": 94,
   "id": "75926012-8e4e-416a-a3db-3b80a53dee59",
   "metadata": {},
   "outputs": [
    {
     "name": "stdout",
     "output_type": "stream",
     "text": [
      "0\n"
     ]
    }
   ],
   "source": [
    "xi_2 = 79.39\n",
    "max_alpha = 0\n",
    "for i in range(1, 10000):\n",
    "    if (xi_2 <= stats.chi2.ppf(1 - i/10000, 3)):\n",
    "        max_alpha = i/10000\n",
    "print(max_alpha)"
   ]
  },
  {
   "cell_type": "markdown",
   "id": "1318408e-c669-41be-832b-d3bf972c5a4e",
   "metadata": {},
   "source": [
    "Наибольшее значение уровня значимости, на котором ещё нет оснований отвергнуть данную гипотезу стремится к нулю"
   ]
  },
  {
   "cell_type": "markdown",
   "id": "856e709f-c7f7-4eaf-86b6-6a4a97f730b9",
   "metadata": {},
   "source": [
    "#### 2.i.g)Построить критерий значимости  $\\chi^2$ проверки сложной гипотезы согласия с показательным распределением. Проверить гипотезу по уровню значимости $\\alpha_{2}=0.2$.Вычислить наибольшее значение уровня значимости, на котором ещё нет оснований отвергнуть данную гипотезу"
   ]
  },
  {
   "cell_type": "markdown",
   "id": "a4e59bbf-d077-45b5-9b55-b53cfee3de26",
   "metadata": {},
   "source": [
    "$P_{i}=P_{H_{0}}=(X\\in I_{i})=\\sum_{k\\in I_{i}}^{}\\frac{\\sqrt{\\frac{1}{\\overline{X}}}\\cdot exp\\left( -\\frac{\\frac{1}{\\overline{X}}\\cdot k}{2} \\right)}{\\sqrt{2\\pi\\cdot k}}$<br>\n",
    "$I_{1}=\\left[ 0,1.1 \\right), n_{1}=26$ <br>\n",
    "$P_{1}=\\frac{\\sqrt{0.427}\\cdot exp\\left( -\\frac{0.427\\cdot 0.01}{2} \\right)}{\\sqrt{2\\pi\\cdot 0.01}}+\\frac{\\sqrt{0.427}\\cdot exp\\left( -\\frac{0.427\\cdot 1}{2} \\right)}{\\sqrt{2\\pi\\cdot 1}}=2.81\\to nP_{1}=140.5$ <br>\n",
    "$I_{2}=\\left[ 1.1,2.1 \\right), n_{2}=5$ <br>\n",
    "$P_{2}=\\frac{\\sqrt{0.427}\\cdot exp\\left( -\\frac{0.427\\cdot 1.1}{2} \\right)}{\\sqrt{2\\pi\\cdot 1.1}}+\\frac{\\sqrt{0.427}\\cdot exp\\left( -\\frac{0.427\\cdot 2.1}{2} \\right)}{\\sqrt{2\\pi\\cdot 2.1}}=0.31\\to nP_{2}=15.5$ <br>\n",
    "$I_{3}=\\left[ 2.1,4,1 \\right), n_{3}=11$ <br>\n",
    "$P_{3}=\\frac{\\sqrt{0.427}\\cdot exp\\left( -\\frac{0.427\\cdot 2.1}{2} \\right)}{\\sqrt{2\\pi\\cdot 2.1}}+\\frac{\\sqrt{0.427}\\cdot exp\\left( -\\frac{0.427\\cdot 4.1}{2} \\right)}{\\sqrt{2\\pi\\cdot 4.1}}=0.17\\to nP_{3}=8.5$ <br>\n",
    "$I_{4}=\\left[ 4.1,17.78 \\right], n_{4}=8$ <br>\n",
    "$P_{4}=\\frac{\\sqrt{0.427}\\cdot exp\\left( -\\frac{0.427\\cdot 4.1}{2} \\right)}{\\sqrt{2\\pi\\cdot 4.1}}+\\frac{\\sqrt{0.427}\\cdot exp\\left( -\\frac{0.427\\cdot 17.78}{2} \\right)}{\\sqrt{2\\pi\\cdot 17.78}}=0.05\\to nP_{4}=2.5$ <br>\n",
    "\n",
    "Критерий $\\chi^2: \\chi^2_{набл}=\\sum_{i=1}^{4}\\frac{(n_{i}-nP_{i})^{2}}{nP_{i}} =113.26$<br>\n",
    "$\\chi^2_{k-1,\\alpha_{2}}=\\chi^2_{3,0.2} = 4.642$ <br>\n",
    "$\\chi^2_{набл}\\gt \\chi^2_{3,0.2}\\to$ мы отвергаем гипотезу <br>\n",
    "Наибольшее значение уровня значимости, на котором ещё нет оснований отвергнуть данную гипотезу:"
   ]
  },
  {
   "cell_type": "code",
   "execution_count": 90,
   "id": "39cd8258-b9a8-412d-84f3-16e844de8d70",
   "metadata": {},
   "outputs": [
    {
     "name": "stdout",
     "output_type": "stream",
     "text": [
      "0\n"
     ]
    }
   ],
   "source": [
    "xi_2 = 113.26\n",
    "max_alpha = 0\n",
    "for i in range(1, 10000):\n",
    "    if (xi_2 <= stats.chi2.ppf(1 - i/10000, 3)):\n",
    "        max_alpha = i/10000\n",
    "print(max_alpha)"
   ]
  },
  {
   "cell_type": "markdown",
   "id": "a1513ff4-b2b4-4170-8ab0-bfc818b8819e",
   "metadata": {},
   "source": [
    "Наибольшее значение уровня значимости, на котором ещё нет оснований отвергнуть данную гипотезу стремится к нулю"
   ]
  },
  {
   "cell_type": "markdown",
   "id": "99560f64-0d97-4674-b490-feb02c87082e",
   "metadata": {},
   "source": [
    "#### 2.i.h)Построить наиболее мощный критерий проверки простой гипотезы о показательности с параметром $\\lambda=\\lambda_{0}=0.26$ при альтернативе показательности с параметром $\\lambda=\\lambda_{1}=0.36$. Проверить гипотезу на уровне значимости $\\alpha_2=0.2$. Что получится, если поменять местами основную и альтернативную гипотезы?"
   ]
  },
  {
   "cell_type": "markdown",
   "id": "808546d5-baa2-4913-bc36-9ecce86abd5b",
   "metadata": {},
   "source": [
    "Основная $H_{0}=\\lambda_{0}$ , альтернативная $H_{A}=\\lambda_{1}$ гипотезы <br>\n",
    "$LR(\\vec{X};\\lambda_0, \\lambda_1) = \\left(\\frac{\\lambda_1}{\\lambda_0}\\right)^{\\frac{n}{n}} \\cdot exp\\left(\\frac{\\sum_{i=1}^{n}X_i}{2}\\left(\\lambda_0 - \\lambda_1 \\right)\\right)$ - статистическое отношение правдоподобия <br>\n",
    "$LR(\\overline X, \\lambda_0, \\lambda_1) \\ge c \\leftrightarrow \\overline X \\ge c^*$ <br>\n",
    "ЦПТ: $ \\sqrt{n} \\frac{ \\overline{X}-\\mu}{\\sigma} \\sim N(0,1)$<br>\n",
    "$ \\mu=\\frac{1}{\\lambda_0}, \\sigma^{2}=\\frac{2}{\\lambda_0^2}$<br>\n",
    "$ \\sqrt{n} \\frac{ \\overline{X}-\\frac{1}{\\lambda_0}}{\\sqrt{\\frac{2}{\\lambda_0^2}}} \\sim N(0,1)$<br>\n",
    "$ P\\left(\\sqrt{n} \\frac{ \\overline{X}-\\frac{1}{\\lambda_0}}{\\sqrt{\\frac{2}{\\lambda_0^2}}} \\geq \\sqrt{n} \\frac{ c^*-\\frac{1}{\\lambda_0}}{\\sqrt{\\frac{2}{\\lambda_0^2}}}\\right)=1-\\text{Ф}\\left(\\sqrt{n} \\frac{ c^*-\\frac{1}{\\lambda_0}}{\\sqrt{\\frac{2}{\\lambda_0^2}}}\\right)= \\alpha$<br>\n",
    "$\\sqrt{n} \\frac{ c^*-\\frac{1}{\\lambda_0}}{\\sqrt{\\frac{2}{\\lambda_0^2}}}=x_{\\alpha}$<br>\n",
    "$x_\\alpha: \\text{Ф}(x_\\alpha)=1-\\alpha $<br>\n",
    "$\\sqrt{50} \\cdot \\frac{c^{*} - \\frac{1}{\\lambda_0}}{\\sqrt\\frac{2}{0.26^2}} = 0.84$<br>\n",
    "$c^*=4.49$<br>\n",
    "$\\overline{X} = 2.34$<br>\n",
    "$\\overline{X} < c^* \\leftrightarrow H_{0}$ гипотезу принимаем <br>\n",
    "Поменяем гипотезы местами<br>\n",
    "Основная $H_{0}=\\lambda_{1}$ , альтернативная $H_{A}=\\lambda_{0}$ гипотезы <br>\n",
    "$LR(\\vec{X};\\lambda_1, \\lambda_0) = \\left(\\frac{\\lambda_0}{\\lambda_1}\\right)^{\\frac{n}{n}} \\cdot \\exp\\left(\\frac{\\sum_{i=1}^{n}X_i}{2}\\left(\\lambda_1 - \\lambda_0 \\right)\\right)$<br>\n",
    "$\\sqrt{n} \\frac{ c^*-\\frac{1}{\\lambda_1}}{\\sqrt{\\frac{2}{\\lambda_1^2}}}=x_\\alpha$<br>\n",
    "$\\sqrt{50} \\cdot \\frac{c^{*} - \\frac{1}{0.36}}{\\sqrt\\frac{2}{0.36^2}} = 0.84$<br>\n",
    "$c^*=3.24$<br>\n",
    "$\\overline{X} = 2.34$<br>\n",
    "$\\overline{X} < c^* \\leftrightarrow H_{0}$ гипотезу принимаем <br>"
   ]
  },
  {
   "cell_type": "markdown",
   "id": "6ebf409c-313d-4df5-afd6-c37ad140f980",
   "metadata": {},
   "source": [
    "## Выводы"
   ]
  },
  {
   "cell_type": "markdown",
   "id": "b1ea09b2-e209-4299-b01f-9cd73f0952c4",
   "metadata": {},
   "source": [
    "В ходе работы были применены методы математической статистики для визуализации и анализа полученных данных, сформированны навыки реализации методов с помощью прикладных программных пакетов. Были рассчитаны выборочные числовые характеристики, найдены ОМП и ОММ, ассимптотические доверительные интервалы, построены критерии значимости кси-квадрат, проверены простые и сложные гипотезы согласия с разными распредлениями и параметрами, построены наиболее мощные критерии для проверки простых гипотез. Так-же были изучены программные пакеты, помогающие анализировать и визуализировать данные."
   ]
  },
  {
   "cell_type": "code",
   "execution_count": null,
   "id": "e7ae4152-3e44-42b2-9394-e285abd0934e",
   "metadata": {},
   "outputs": [],
   "source": []
  }
 ],
 "metadata": {
  "kernelspec": {
   "display_name": "Python 3 (ipykernel)",
   "language": "python",
   "name": "python3"
  },
  "language_info": {
   "codemirror_mode": {
    "name": "ipython",
    "version": 3
   },
   "file_extension": ".py",
   "mimetype": "text/x-python",
   "name": "python",
   "nbconvert_exporter": "python",
   "pygments_lexer": "ipython3",
   "version": "3.10.7"
  }
 },
 "nbformat": 4,
 "nbformat_minor": 5
}
