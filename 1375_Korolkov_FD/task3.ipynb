{
 "cells": [
  {
   "cell_type": "markdown",
   "id": "28fbf1ea-6fed-413b-bb8e-e37352cdc99c",
   "metadata": {},
   "source": [
    "# Практическая работа №3: Регрессионный анализ\n",
    "Выполнил студент гр. 1375 Корольков Федор. Вариант №15"
   ]
  },
  {
   "cell_type": "markdown",
   "id": "54892180-fa39-40ad-b26c-b7bd80a4cf87",
   "metadata": {},
   "source": [
    "## Цель работы"
   ]
  },
  {
   "cell_type": "markdown",
   "id": "8fc523b1-4672-45ea-a4b1-0eeef084c72b",
   "metadata": {},
   "source": [
    "Ознакомление с основными положениями метода наименьших квадратов (МНК), со статистическими свойствами МНК-оценок, с понятием функции регрессии и роли МНК в регрессионном анализе."
   ]
  },
  {
   "cell_type": "markdown",
   "id": "19f1f047-506d-4615-a359-bb2932e7bd12",
   "metadata": {},
   "source": [
    "## Основные теоретические положения"
   ]
  },
  {
   "cell_type": "markdown",
   "id": "78b57126-ca79-4809-a946-967b5f16ac7e",
   "metadata": {},
   "source": [
    "### 1"
   ]
  },
  {
   "cell_type": "markdown",
   "id": "c2d26878-8eb4-42ee-be50-4f9d34ac7f41",
   "metadata": {},
   "source": [
    "Линейная регрессия некоторой зависимой переменной y на набор независимых переменных  $x = (x_1, …, x_n)$, n – это число наблюдений, предполагает, что линейное отношение между $y$ и $x$: $y =\\beta_0  + \\beta_1x_1 + ⋯ + \\beta_nx_n + \\varepsilon$ - уравнение регрессии. $\\beta_0, \\beta_1, …, \\beta_n$ – коэффициенты регрессии (параметры), и $\\varepsilon$ – случайная ошибка.<br>"
   ]
  },
  {
   "cell_type": "markdown",
   "id": "89e87d38-e456-4fd1-8fd1-ae08744d2100",
   "metadata": {},
   "source": [
    "### 2"
   ]
  },
  {
   "cell_type": "markdown",
   "id": "89ba03b5-1ef3-4f2e-b297-a3b84d7f837d",
   "metadata": {},
   "source": [
    "Для определения параметров используется метод наименьших квадратов (МНК)<br>\n",
    "$RSS(\\beta)=\\lVert Y-X^{\\intercal}\\beta \\rVert=(Y-X^{\\intercal}\\beta)^{\\intercal}\\cdot(Y-X^{\\intercal}\\beta)\\to min\\beta$<br>\n",
    "$RSS(\\beta)=\\sum_{i=1}^{n}\\left( y_{i}-\\sum_{j=1}^{m}x_{ji}\\beta_{j} \\right)^{2}$<br>\n",
    "$\\frac{\\partial RSS}{\\partial \\beta_{k}} = -2\\sum_{i=1}^{n}x_{ki}\\left(y_{i}- \\sum_{j=1}^{m}x_{ji}\\beta_{j}\\right)=0, k=1...m $- нормальное уравнение.<br>\n",
    "$XX^{\\intercal}\\beta=XY$ - нормальные уравнения в матричной форме. <br>\n",
    "$\\widehat{\\beta}=(XX^{\\intercal})^{-1}XY$ - решение системы нормальных уравнений.<br>"
   ]
  },
  {
   "cell_type": "markdown",
   "id": "746696a4-7d76-4a62-976c-71d17c00dcaf",
   "metadata": {},
   "source": [
    "### 3"
   ]
  },
  {
   "cell_type": "markdown",
   "id": "d4e8298f-201f-4246-8438-4a1e2066ac43",
   "metadata": {},
   "source": [
    "Несмещённая оценка дисперсии $(S^{2})$<br>\n",
    "$S^{2} = \\frac{SS_{e}}{n-r} = \\frac{RSS(\\widehat{\\beta})}{n-r}$<br>\n",
    "r - ранг матрицы X<br>"
   ]
  },
  {
   "cell_type": "markdown",
   "id": "6705f895-2e89-4059-a052-5efdf6b8b027",
   "metadata": {},
   "source": [
    "### 4"
   ]
  },
  {
   "cell_type": "markdown",
   "id": "178a515f-258a-4fd0-ae48-38e74b6d8b13",
   "metadata": {},
   "source": [
    "Доверительный интервал<br>\n",
    "$\\psi=C^{\\intercal}\\beta$-ДНО функции<br>\n",
    "$\\widehat{\\psi}=C^{\\intercal}\\beta$-МНК-оценка<br>\n",
    "$b_{\\psi}=C^{\\intercal}(XX^{\\intercal})^{-1}C$-элемент дисперсии оценки<br>\n",
    "Распределение $\\widehat{\\psi} \\sim \\mathcal{N}(\\psi,\\sigma^{2}b)$<br>\n",
    "Доверительный интервал уровня доверия $1-\\alpha: \\left[ \\widehat{\\psi} - X_{\\alpha}S\\sqrt{b},\\widehat{\\psi} + X_{\\alpha}S\\sqrt{b} \\right]$<br>\n",
    "$\\displaystyle x_{\\alpha}: \\mathcal{S}_{n-r}(x_{\\alpha})=1-\\frac{\\alpha}{2}$<br>"
   ]
  },
  {
   "cell_type": "markdown",
   "id": "d0071499-b9a2-4b7b-8891-1246bcae0519",
   "metadata": {},
   "source": [
    "### 5"
   ]
  },
  {
   "cell_type": "markdown",
   "id": "f84b9c9a-8b43-4c92-b314-a4c068e5fa95",
   "metadata": {},
   "source": [
    "$A_{\\alpha}=\\left\\{ \\vec{X}:(\\vec{X}-\\widehat{\\psi})^{\\intercal}B^{-1}(\\vec{X}-\\widehat{\\psi}) \\le qS^{2}x_{\\alpha} \\right\\}$ - уравнение доверительного эллипсоида<br>\n",
    "$\\widehat{\\psi}$ - вектор оценок параметров, $B$ - матрица оценок ковариации, q - пороговая точка, связанная с распределением $\\chi^{2}$ с $(n-r)$ степенями свободы,$S^{2}$ - оценка дисперсии, $X_{\\alpha}$ - значение функции распределения $\\chi^{2}$ с $(n-r)$ степенями свободы и уровнем доверия $1-\\alpha$<br>"
   ]
  },
  {
   "cell_type": "markdown",
   "id": "c4273b5a-050a-4e0e-a20f-5c53f3c4ffc2",
   "metadata": {},
   "source": [
    "### 6"
   ]
  },
  {
   "cell_type": "markdown",
   "id": "338e1163-127b-4da4-9732-fdb1366470ec",
   "metadata": {},
   "source": [
    "$D_{n}(\\vec{X}) = sup\\lvert F_{0}(X_{i}) - F_{n}(X_{i})\\rvert$<br>\n",
    "Если гипотеза $H_{0}$ верна, и $F_{0}(X)$ - непрерывная функция, тогда <br>\n",
    "$P(\\sqrt{n} D_{n}(\\vec{X}) < z) \\xrightarrow[n \\rightarrow \\infty]{} K(z)$<br>\n",
    "$K(z)=1-\\alpha$ - ф-я распределения Колмогорова.<br>"
   ]
  },
  {
   "cell_type": "markdown",
   "id": "42b7f24a-b889-4aa1-b12a-b3ba0fd63d3d",
   "metadata": {},
   "source": [
    "## Постановка задачи"
   ]
  },
  {
   "cell_type": "markdown",
   "id": "c37e260a-5037-4f08-8c4c-e41652a046e4",
   "metadata": {},
   "source": [
    "Результаты статистического эксперимента представлены в виде двух переменных. Требуется оценить характер (случайной) зависимости переменной Y  от переменной \r\n",
    ". Полученные результаты содержательно проинтерпретировать."
   ]
  },
  {
   "cell_type": "markdown",
   "id": "a5a87004-783c-42be-9076-ba0c20a23e4f",
   "metadata": {},
   "source": [
    "## Выполнение работы"
   ]
  },
  {
   "cell_type": "markdown",
   "id": "456a3366-e6ce-4053-8bc4-21c0431d6b39",
   "metadata": {},
   "source": [
    "### 1. Построить графически результаты эксперимента. Сформулировать линейную регрессионную модель переменной Y по переменной X. Построить МНК оценки параметров сдвига $\\beta_0$ и масштаба $\\beta_1$. Построить полученную линию регрессии. Оценить визуально соответствие полученных данных и построенной оценки."
   ]
  },
  {
   "cell_type": "markdown",
   "id": "ce6a0deb-b2d6-447f-9f33-de6a5bcf8f20",
   "metadata": {},
   "source": [
    "$Y = \\beta_0 + \\beta_1X + \\varepsilon$- линейная регрессионная модель переменной Y от переменной X<br>\n",
    "$X_{(2 \\times n)} = \\begin{pmatrix}1 & 1 & ... & 1 \\\\ x_1 & x_2 & ...  & x_n \\end{pmatrix} $<br>\n",
    "$Y = \\begin{pmatrix} y_1 \\\\ y_2 \\\\ ... \\\\ y_n \\end{pmatrix} =\\begin{pmatrix} \\beta_0 + \\beta_1x_1 + \\varepsilon_1 \\\\ \\beta_0 + \\beta_1x_2 + \\varepsilon_2 \\\\ ... \\\\ \\beta_0 + \\beta_1x_n + \\varepsilon_n \\end{pmatrix}$<br>\n",
    "Оценки параметров $\\hat{\\beta_0}$ и $\\hat{\\beta_1}$ вычисляются с помощью нормальных уравнений: $XX^{\\intercal} \\beta = XY$<br>\n",
    "Найдём $\\hat{\\beta}$:<br>\n",
    "$\\hat{\\beta} = (XX^{\\intercal})^{-1}  XY$<br>\n",
    "$XX^{\\intercal} = \\begin{pmatrix} 50 & 143 \\\\ 143 & 475 \\end{pmatrix}$<br>\n",
    "$(XX^{\\intercal})^{-1} = \\begin{pmatrix} 0.14389579 & -0.04332021 \\\\ -0.04332021 & 0.01514693 \\end{pmatrix}$<br>\n",
    "$\\hat{\\beta} = \\begin{pmatrix} 13.13479552 \\\\ -0.66209633 \\end{pmatrix}$<br>"
   ]
  },
  {
   "cell_type": "code",
   "execution_count": 248,
   "id": "552b117b-e4d5-42ed-b742-01e8380516ce",
   "metadata": {},
   "outputs": [
    {
     "name": "stdout",
     "output_type": "stream",
     "text": [
      "XX_T  [[ 50. 143.]\n",
      " [143. 475.]]\n",
      "XX_T_1  [[ 0.14389579 -0.04332021]\n",
      " [-0.04332021  0.01514693]]\n",
      "beta_rez  [13.13479552 -0.66209633]\n"
     ]
    }
   ],
   "source": [
    "import numpy as np\n",
    "np.seterr(all=None, divide=None, over=None, under=None, invalid=None)\n",
    "import matplotlib.pyplot as plt\n",
    "X = np.array([5, 3, 2, 3, 3, 3, 1, 2, 3, 3,\n",
    "            4, 3, 1, 2, 4, 5, 0, 4, 4, 3,\n",
    "            2, 4, 3, 1, 1, 2, 4, 4, 2, 1,\n",
    "            3, 3, 4, 4, 4, 4, 3, 4, 1, 1,\n",
    "            3, 4, 3, 3, 3, 2, 3, 3, 4, 2])\n",
    "Y = np.array([13.34, 10.99, 17.80, 5.86, 16.26, 19.87, 11.94, 13.64, 12.35, 7.86,\n",
    "             9.04, 8.54, 14.29, 10.24, 3.21, 11.51, 3.00, 7.75, 5.13, 13.99,\n",
    "            13.21, 12.43, 10.31, 6.53, 22.33, 10.78, 17.12, 10.75, 12.05, 11.65, \n",
    "             16.57, 7.58, 5.80, 6.98, 11.91, 10.81, 15.72, 2.66, 19.54, 11.32, \n",
    "             19.30, 20.80, 6.03, 12.19, 7.74, 9.99, 13.07, 13.10, 1.30, 5.88])\n",
    "RSS = 0.0\n",
    "\n",
    "matrix_X = np.array([[1.] * len(X), X])\n",
    "matrix_Y = np.array([Y[i] for i in range(len(Y))])\n",
    "X_T = np.transpose(matrix_X)\n",
    "XX_T = np.dot(matrix_X, X_T)\n",
    "print(\"XX_T \",XX_T)\n",
    "XX_T_1 = np.linalg.inv(XX_T)\n",
    "print(\"XX_T_1 \",XX_T_1)\n",
    "beta_rez = np.dot(XX_T_1, matrix_X).dot(matrix_Y)\n",
    "print(\"beta_rez \",beta_rez)"
   ]
  },
  {
   "cell_type": "markdown",
   "id": "69e0e3dd-9a1f-40fc-9693-01fbf866fc5c",
   "metadata": {},
   "source": [
    "Найдём МНК оценки параметра сдвига $\\beta_0$ и масштаба $\\beta_1$:<br>\n",
    "$RSS(\\hat{\\beta}) = \\sum_{i=1}^{n}\\left(y_i - \\hat{y_i} \\right)^2 = \\sum_{i=1}^{n}\\left(y_i - \\left(\\hat{\\beta_0} + \\hat{\\beta_1} x_i\\right) \\right)^2 = 1150.5566378673132$"
   ]
  },
  {
   "cell_type": "code",
   "execution_count": 249,
   "id": "5af0d741-6a0b-4184-8c16-961110846843",
   "metadata": {},
   "outputs": [
    {
     "name": "stdout",
     "output_type": "stream",
     "text": [
      "RSS  1150.5566378673132\n"
     ]
    }
   ],
   "source": [
    "for i in range(len(Y)):\n",
    "    RSS = RSS + (Y[i] - (beta_rez[0] + beta_rez[1] * X[i]) )**2\n",
    "print(\"RSS \",RSS)"
   ]
  },
  {
   "cell_type": "markdown",
   "id": "6651c465-1f74-4db6-ae60-c2527357050b",
   "metadata": {},
   "source": [
    "Построим линию регрессии:"
   ]
  },
  {
   "cell_type": "code",
   "execution_count": 250,
   "id": "bcc128af-071d-4174-bf46-2feae6deef2b",
   "metadata": {},
   "outputs": [
    {
     "data": {
      "image/png": "[encoded data removed]",
      "text/plain": [
       "<Figure size 640x480 with 1 Axes>"
      ]
     },
     "metadata": {},
     "output_type": "display_data"
    }
   ],
   "source": [
    "plt.scatter(X, Y)\n",
    "plt.plot([min(X), max(X)], [beta_rez[0] + beta_rez[1] * min(X), beta_rez[0] + beta_rez[1] * max(X)], color='red')\n",
    "plt.xlabel(\"X\")\n",
    "plt.ylabel(\"$\\hat{Y}$\")\n",
    "plt.title('Линия регрессии:')\n",
    "plt.show()"
   ]
  },
  {
   "cell_type": "markdown",
   "id": "bdb75f36-08f7-44ee-84c0-15dabefdc1cd",
   "metadata": {},
   "source": [
    "### 2. Построить и интерпретировать несмещенную оценку дисперсии. На базе ошибок построить гистограмму с шагом $h=2.20$. Проверить гипотезу нормальности ошибок на уровне значимости $\\alpha=0.20$ по $\\chi^2$. Оценить расстояние полученной оценки до класса нормальных распределений по Колмогорову. Визуально оценить данный факт."
   ]
  },
  {
   "cell_type": "markdown",
   "id": "163d637b-090b-4b42-9df4-07087cce1890",
   "metadata": {},
   "source": [
    "Оценивание параметра $\\sigma^2: S^2 = \\frac{RSS(\\hat{\\beta})}{n-r}=23.969929955569025 $"
   ]
  },
  {
   "cell_type": "code",
   "execution_count": 251,
   "id": "b0af3870-16c0-4a38-b51f-378e37ae6646",
   "metadata": {},
   "outputs": [
    {
     "name": "stdout",
     "output_type": "stream",
     "text": [
      "Несмещенная оценка дисперсии:  23.969929955569025\n"
     ]
    }
   ],
   "source": [
    "S_2 = RSS/(len(Y) - 2)\n",
    "print(\"Несмещенная оценка дисперсии: \", S_2)"
   ]
  },
  {
   "cell_type": "markdown",
   "id": "b220dc8f-0c94-41c7-a3eb-f9620932e319",
   "metadata": {},
   "source": [
    "Построим гистограмму ошибок с шагом $h=2.20$:"
   ]
  },
  {
   "cell_type": "code",
   "execution_count": 252,
   "id": "e60d5204-5269-4dfc-9b88-62fc9672ff41",
   "metadata": {},
   "outputs": [
    {
     "name": "stdout",
     "output_type": "stream",
     "text": [
      "[5. 3. 2. 3. 3. 3. 1. 2. 3. 3. 4. 3. 1. 2. 4. 5. 0. 4. 4. 3. 2. 4. 3. 1.\n",
      " 1. 2. 4. 4. 2. 1. 3. 3. 4. 4. 4. 4. 3. 4. 1. 1. 3. 4. 3. 3. 3. 2. 3. 3.\n",
      " 4. 2.]\n"
     ]
    },
    {
     "data": {
      "image/png": "[encoded data removed]",
      "text/plain": [
       "<Figure size 640x480 with 1 Axes>"
      ]
     },
     "metadata": {},
     "output_type": "display_data"
    }
   ],
   "source": [
    "h = 2.2\n",
    "Y_p = beta_rez[0] + beta_rez[1] * matrix_X[1]\n",
    "\n",
    "err = matrix_Y - Y_p\n",
    "sort_err = np.sort(err)\n",
    "hist, bins, _ = plt.hist(err, bins=np.arange(min(err), max(err) + h, h), edgecolor='black', color='w')\n",
    "plt.xlabel('Ошибки')\n",
    "plt.ylabel('Частота')\n",
    "plt.title('Гистограмма ошибок')\n",
    "plt.show()"
   ]
  },
  {
   "cell_type": "markdown",
   "id": "1f3e65cf-281e-43e9-9fbc-b120dff6b2a1",
   "metadata": {},
   "source": [
    "Проверим гипотезу нормальности ошибок $H_0 \\sim \\mathcal{N}(0, \\sigma^2)$ на уровне значимости $\\alpha=0.20$ по $\\chi^2$."
   ]
  },
  {
   "cell_type": "markdown",
   "id": "a6a4c743-b97c-4634-af27-9c95d05a3b29",
   "metadata": {},
   "source": [
    "Выделим интервалы и соответствующие частоты"
   ]
  },
  {
   "cell_type": "code",
   "execution_count": 253,
   "id": "549bc392-d1d1-403d-a6d9-0393d7a3b9b4",
   "metadata": {},
   "outputs": [
    {
     "name": "stdout",
     "output_type": "stream",
     "text": [
      "1 : (-10.1348, -7.9348) Частота:  2.0\n",
      "2 : (-7.9348, -5.7348) Частота:  4.0\n",
      "3 : (-5.7348, -3.5348) Частота:  5.0\n",
      "4 : (-3.5348, -1.3348) Частота:  8.0\n",
      "5 : (-1.3348, 0.8652) Частота:  9.0\n",
      "6 : (0.8652, 3.0652) Частота:  11.0\n",
      "7 : (3.0652, 5.2652) Частота:  3.0\n",
      "8 : (5.2652, 7.4652) Частота:  4.0\n",
      "9 : (7.4652, 9.6652) Частота:  2.0\n",
      "10 : (9.6652, 11.8652) Частота:  2.0\n"
     ]
    }
   ],
   "source": [
    "for i in range(len(hist)):\n",
    "    print(i+1,\":\", (round(bins[i], 4), round(bins[i+1], 4)), \"Частота: \",hist[i])"
   ]
  },
  {
   "cell_type": "markdown",
   "id": "72ac2985-2fdd-431a-b0ad-3909219c4a4f",
   "metadata": {},
   "source": [
    "Объединяем малочисленные частоты.Итоговые интервалы:"
   ]
  },
  {
   "cell_type": "markdown",
   "id": "f7c348e2-4857-4060-a3b0-81038fb30d18",
   "metadata": {},
   "source": [
    "$I_1 = (-\\infty, -3.5348], n_1 = 11$<br>\n",
    "$I_2 = (-3.5348, -1.3348], n_2 = 8$<br>\n",
    "$I_3 = (-1.3348, 0.8652], n_3 = 9$<br>\n",
    "$I_4 = (0.8652, 3.0652], n_4 = 11$<br>\n",
    "$I_5 = (3.0652, +\\infty), n_5 = 11$<br>"
   ]
  },
  {
   "cell_type": "markdown",
   "id": "6b537232-7f00-4deb-8d56-07d34ad268df",
   "metadata": {},
   "source": [
    "Считаем статистику критерия $\\chi^2$:<br>\n",
    "$\\chi^2 = \\sum_{j=1}^{k}\\frac{ (n_j - np_{j})^2 }{ np_{j} }$<br>\n",
    "n=50<br>\n",
    "$p_{j} = \\mathbb{P}(\\xi \\in I_i) = F(b_i) - F(a_i)$<br>\n",
    "a и b - границы соответствующего интервала <br>\n",
    "Квантиль $x_{\\alpha}: \\mathcal{K}_{r-d-1}(x_a) = 1 - \\alpha = 1 - 0.20 = 0.80$<br>"
   ]
  },
  {
   "cell_type": "code",
   "execution_count": 254,
   "id": "66a1b598-0abc-445a-b924-ff354a97aee9",
   "metadata": {},
   "outputs": [
    {
     "name": "stdout",
     "output_type": "stream",
     "text": [
      "Статистика критерия:  0.67\n",
      "Квантиль:  4.6416\n"
     ]
    }
   ],
   "source": [
    "from scipy import stats\n",
    "import scipy\n",
    "n = len(Y)\n",
    "alpha = 0.20\n",
    "ni = np.array([11, 8, 9, 11, 11])\n",
    "intervals = np.array([-3.5348, -1.3348, 0.8652, 3.0652])\n",
    "def min_sum(arg):\n",
    "    prob = np.zeros(len(intervals) + 1)\n",
    "    prob[0] = stats.norm.cdf(intervals[0], 0,arg)\n",
    "    \n",
    "    for i in range(1, len(intervals)):\n",
    "        prob[i] = stats.norm.cdf(intervals[i], 0, arg) - stats.norm.cdf(intervals[i-1], 0,arg)\n",
    "    prob[len(intervals)] = 1 - stats.norm.cdf(intervals[-1], 0,arg)\n",
    "\n",
    "    sum_array = ((ni - n * prob) ** 2) / (n * prob)\n",
    "    return np.sum(sum_array)\n",
    "\n",
    "result = scipy.optimize.minimize_scalar(min_sum)\n",
    "print(\"Статистика критерия: \",round(result.fun, 4))\n",
    "\n",
    "x_alpha = stats.chi2(3).ppf(1 - alpha)\n",
    "\n",
    "print(\"Квантиль: \",round(x_alpha, 4))"
   ]
  },
  {
   "cell_type": "markdown",
   "id": "b4f61f98-4c54-417e-9cf7-ecf594ce7043",
   "metadata": {},
   "source": [
    "$\\chi^2 = 0.67 < x_{\\alpha} = 4.6416$, следовательно гипотеза принимается<br>\n",
    "<br>\n",
    "Оценим расстояние полученной оценки до класса нормальных распределений по Колмогорову:<br>\n",
    "$\\sqrt{n} \\cdot \\sup\\lvert F_n(y) - F(y)\\rvert \\sim K$- распределение Колмогорова.<br>"
   ]
  },
  {
   "cell_type": "code",
   "execution_count": 255,
   "id": "cdc52cb6-33e9-478e-9dda-d3900a279f9f",
   "metadata": {},
   "outputs": [
    {
     "name": "stdout",
     "output_type": "stream",
     "text": [
      "Dn:  0.3227\n",
      "x_alpha:  0.1236\n"
     ]
    }
   ],
   "source": [
    "def find_Fn(x, values):\n",
    "    n = len(Y)\n",
    "    sum = 0\n",
    "    for i in values:\n",
    "        if i >= x:\n",
    "            return sum / n\n",
    "        sum = sum + 1\n",
    "    return sum / n\n",
    "\n",
    "X_values = np.arange(min(err) - h, max(err) + h, h)\n",
    "\n",
    "Fn = np.array([find_Fn(i, sort_err) for i in X_values])\n",
    "F = np.array([stats.norm.cdf(y, 0, np.sqrt(S_2)) for y in X_values])\n",
    "\n",
    "Dn = np.max(np.abs(Fn - F)) * np.sqrt(n)\n",
    "print(\"Dn: \",round(Dn, 4))\n",
    "\n",
    "x_alpha = stats.ksone.ppf(1 - alpha, n)\n",
    "print(\"x_alpha: \",round(x_alpha, 4))\n"
   ]
  },
  {
   "cell_type": "markdown",
   "id": "cf5e5f51-a24a-43e6-a636-3a2252bab409",
   "metadata": {},
   "source": [
    "$D_n = 0.3227 > x_{\\alpha} = 0.1236$, следовательно гипотеза отвергается<br>"
   ]
  },
  {
   "cell_type": "code",
   "execution_count": 256,
   "id": "b8590d4e-dc66-4b27-9c99-920f7d3d6c19",
   "metadata": {},
   "outputs": [
    {
     "data": {
      "image/png": "[encoded data removed]",
      "text/plain": [
       "<Figure size 640x480 with 1 Axes>"
      ]
     },
     "metadata": {},
     "output_type": "display_data"
    }
   ],
   "source": [
    "hist, bin_edges, _ = plt.hist(err, bins=np.arange(min(err), max(err) + h, h), density=True, edgecolor='black', color='w')\n",
    "values = np.linspace(min(err), max(err), 100)\n",
    "plt.plot(values, stats.norm.pdf(values, err.mean(), err.std()), color='red')\n",
    "\n",
    "plt.title('Гистограмма ошибок')\n",
    "plt.xlabel('Значение')\n",
    "plt.ylabel('Частота')\n",
    "plt.show()"
   ]
  },
  {
   "cell_type": "markdown",
   "id": "0aa76338-5eef-4c63-8594-cef02b733c7c",
   "metadata": {},
   "source": [
    "### 3. В предположении нормальности ошибок построить доверительные интервалы для параметров $\\beta_0$ и $\\beta_1$ уровня доверия $1-\\alpha$. Построить доверительный эллипс уровня доверия $1-\\alpha$ для $(\\beta_0, \\beta_1)$ (вычислить его полуоси)."
   ]
  },
  {
   "cell_type": "markdown",
   "id": "3de3d1f5-8213-47a6-aecd-5ce63b383e71",
   "metadata": {},
   "source": [
    "$\\psi = C^{\\intercal} \\beta $ - ДНО функция<br>\n",
    "$b_\\psi = C^{\\intercal} (XX^{\\intercal})^{-1}C$ - элемент дисперсии оценки<br>\n",
    "$\\frac{\\widehat \\psi - \\psi}{s\\sqrt{b}} \\sim S_{n-r}$<br>\n",
    "$x_\\alpha : S_{n-r}(x_\\alpha) = 1 -\\frac{\\alpha}{2}$<br> - квантиль\n",
    "$\\widehat \\psi-x_{\\alpha}S\\sqrt{b} \\le \\psi \\le \\widehat \\psi-x_{\\alpha}S\\sqrt{b}$ - доверительный интервал для $\\psi$<br>\n",
    "$\\frac{\\widehat \\psi - \\psi}{S\\sqrt{b_{\\psi_{\\beta_0}}}} \\sim S_{n-2} $<br>\n",
    "$\\frac{\\widehat \\psi - \\psi}{S\\sqrt{b_{\\psi_{\\beta_1}}}} \\sim S_{n-2} $<br>"
   ]
  },
  {
   "cell_type": "code",
   "execution_count": 257,
   "id": "5cb3e7d9-eefc-4f89-bf40-c6d9fce5c1c6",
   "metadata": {},
   "outputs": [
    {
     "name": "stdout",
     "output_type": "stream",
     "text": [
      "x_alpha  1.2994388784066297\n",
      "0.14389578915480158\n",
      "Доверительный интервал для β0: [ 10.721484576900739 ; 15.548106456119537 ]\n",
      "0.015146925174189642\n",
      "Доверительный интервал для β1: [ -1.445077794951814 ; 0.12088512606359703 ]\n"
     ]
    }
   ],
   "source": [
    "alpha,r = 0.20,2\n",
    "\n",
    "x_alpha = stats.t.ppf(1-alpha/2, n-r)\n",
    "\n",
    "matrix_X = np.array([[1.] * n, X])\n",
    "C_0 = np.array([1,0])\n",
    "C_1 = np.array([0,1])\n",
    "\n",
    "XX_T = np.dot(matrix_X, matrix_X.T)\n",
    "b0 = np.dot(np.dot(C_0.T, np.linalg.inv(XX_T)), C_0)\n",
    "b1 = np.dot(np.dot(C_1.T, np.linalg.inv(XX_T)), C_1)\n",
    "\n",
    "print(\"x_alpha \",x_alpha)\n",
    "print(b0)\n",
    "print(\"Доверительный интервал для β0: [\", beta_rez[0] - x_alpha * np.sqrt(S_2) * np.sqrt(b0),\";\",beta_rez[0] + x_alpha * np.sqrt(S_2) * np.sqrt(b0),\"]\")\n",
    "print(b1)\n",
    "print(\"Доверительный интервал для β1: [\", beta_rez[1] - x_alpha * np.sqrt(S_2) * np.sqrt(b1),\";\",beta_rez[1] + x_alpha * np.sqrt(S_2) * np.sqrt(b1),\"]\")"
   ]
  },
  {
   "cell_type": "markdown",
   "id": "a5f5111a-5e72-4c62-b495-a88c1e9fe876",
   "metadata": {},
   "source": [
    "Доверительный эллипс уровня доверия $1-\\alpha$:<br>\n",
    "$A_{\\alpha} = \\{\\vec{x}: (\\vec{x} - \\hat{\\psi})^t B^{-1} (\\vec{x} - \\hat{\\psi}) \\leq q S^2 x_{\\alpha} \\}$, где $ x_{\\alpha}: F_{q,n-r}(x_{\\alpha}) = 1 - \\alpha $ и $B = C^{\\intercal} (XX^{\\intercal})^{-1}C$<br>\n",
    "$\\vec{x}= P(\\widehat{\\psi} - \\psi) $, где P - матрица собственных векторов $XX^{\\intercal}$<br>\n",
    "$\\lambda_1 x^2 + \\lambda_2 y^2 \\leq q S^2 x_{\\alpha} $, где $\\lambda_1, \\lambda_2$ - собственные числа матрицы $XX^{\\intercal} ;$ <br>\n",
    "$(\\widehat \\psi -  \\psi)^{\\intercal} (C^{\\intercal} (XX^{\\intercal})^{-1}C)^{-1}(\\widehat \\psi -\\psi) = \\lambda_1 x^2 + \\lambda_2 y^2 \\le qS^2x_\\alpha$, где $\\lambda_1$ и $\\lambda_2$ - уравнение доверительного эллипса  <br>\n",
    "Полуоси: <br>\n",
    "$\\frac{\\lambda_1}{qS^2 x_{\\alpha}} x^2 + \\frac{\\lambda_2}{qS^2 x_{\\alpha}} y^2 \\leq 1$ <br>\n",
    "$\\frac{qS^2 x_{\\alpha}}{\\lambda_1}$ и $\\frac{qS^2 x_{\\alpha}}{\\lambda_2}$-большая и малая полуоси<br>"
   ]
  },
  {
   "cell_type": "code",
   "execution_count": 258,
   "id": "7f68e9b3-5721-41db-8a84-91b4d19578a1",
   "metadata": {},
   "outputs": [
    {
     "name": "stdout",
     "output_type": "stream",
     "text": [
      "Собственные числа:  [  6.3647818 518.6352182]\n",
      "x_alpha  1.6646290755148485\n",
      "Большая полуось:  3.5409138322234703\n",
      "Малая полуось:  0.39226188962718095\n"
     ]
    },
    {
     "data": {
      "image/png": "[encoded data removed]",
      "text/plain": [
       "<Figure size 600x600 with 1 Axes>"
      ]
     },
     "metadata": {},
     "output_type": "display_data"
    }
   ],
   "source": [
    "lmd,matrx = np.linalg.eig(XX_T)\n",
    "\n",
    "print(\"Собственные числа: \", lmd)\n",
    "\n",
    "func = stats.f(2, n - 2)\n",
    "x_alpha = func.ppf(1 - alpha)\n",
    "print(\"x_alpha \",x_alpha)\n",
    "\n",
    "a = np.sqrt((2 * S_2 * x_alpha) / lmd[0])\n",
    "print(\"Большая полуось: \",a)\n",
    "b = np.sqrt((2 * S_2 * x_alpha) / lmd[1])\n",
    "print(\"Малая полуось: \",b)\n",
    "\n",
    "def ellipse(xx, yy):\n",
    "    return (( matrx[0][0] * (beta_rez[0] - xx) - matrx[0][1] * (beta_rez[1] - yy))**2 / \n",
    "            a**2) + ((matrx[1][0] * (beta_rez[0] - xx) + matrx[1][1] * (beta_rez[1] - yy))**2 / b**2)\n",
    "\n",
    "x = np.linspace(5, 20, 200)\n",
    "y = np.linspace(-6, 4, 200)\n",
    "X_data, Y_data = np.meshgrid(x, y)\n",
    "plt.figure(figsize=(6, 6))\n",
    "plt.contour(X_data, Y_data, ellipse(X_data, Y_data), levels=[1], colors='red', linewidths=2)\n",
    "\n",
    "plt.title(\"Эллипс\")\n",
    "plt.xlabel(\"X\")\n",
    "plt.ylabel(\"Y\")\n",
    "plt.grid(True)\n",
    "plt.show()"
   ]
  },
  {
   "cell_type": "markdown",
   "id": "68d5e3a9-b476-4f5e-b656-f60199358e0b",
   "metadata": {},
   "source": [
    "### 4. Сформулировать гипотезу независимости переменной Y от переменной X. Провести проверку значимости."
   ]
  },
  {
   "cell_type": "markdown",
   "id": "e769aafc-8610-4ea2-9bca-179386efaecb",
   "metadata": {},
   "source": [
    "Гипотеза о независимости переменной Y от переменной X: $H_0:\\beta_1 = 0$<br>\n",
    "F-статистика: $\\mathbb{F} = \\frac{\\widehat{\\psi} B^-1 \\psi }{qS^2} \\sim F_{q,n-r}$<br>\n",
    "$x_{\\alpha}: F_{q,n-r}(x_{\\alpha}) = 1 - \\alpha$<br>\n",
    "При основной гипотезе $C = \\pmatrix{0 \\\\ 1}, \\widehat{\\psi} = \\beta_1, q=1$<br>\n",
    "Так как $\\widehat \\psi = \\widehat \\beta_1$ то $\\mathbb{F}  =  \\frac{{\\widehat \\beta_1} ^2}{bqS^2}  $<br>"
   ]
  },
  {
   "cell_type": "code",
   "execution_count": 259,
   "id": "569bedcd-3b52-40b9-9d6e-a051fd5572a6",
   "metadata": {},
   "outputs": [
    {
     "name": "stdout",
     "output_type": "stream",
     "text": [
      "x_alpha:  1.6885413994027616\n",
      "Статистика F:  1.207399862508279\n"
     ]
    }
   ],
   "source": [
    "alpha = 0.20\n",
    "q = 1\n",
    "x_alpha = stats.f.ppf(1-alpha, 1, n-2)\n",
    "print(\"x_alpha: \",x_alpha)\n",
    "\n",
    "C = np.array([0,1])\n",
    "XX_T = np.dot(matrix_X, matrix_X.T)\n",
    "B = np.dot(np.dot(C.T, np.linalg.inv(XX_T)), C)\n",
    "\n",
    "F = (beta_rez[1] * beta_rez[1]) / (B * q * S_2)\n",
    "print(\"Статистика F: \", F)"
   ]
  },
  {
   "cell_type": "markdown",
   "id": "ed40cc2c-3413-4e19-915b-a71b37d50135",
   "metadata": {},
   "source": [
    "т.к. $\\mathbb{F}< x_{\\alpha}$ - гипотеза принимается"
   ]
  },
  {
   "cell_type": "markdown",
   "id": "7f10691e-d163-43fa-b0b5-1cc5592a40e4",
   "metadata": {},
   "source": [
    "### 5. Сформулировать модель, включающую дополнительный член $X^2$. Построить МНК оценки параметров $\\beta_0, \\beta_1, \\beta_2$ в данной модели. Изобразить полученную регрессионную зависимость."
   ]
  },
  {
   "cell_type": "markdown",
   "id": "4b74c10e-e7b6-4599-9d13-b3b3da39775e",
   "metadata": {},
   "source": [
    "Квадратичная регрессионная модель имеет следующий вид:<br>\n",
    "$Y = \\beta_0 + \\beta_1X +\\beta_2X^2+ \\varepsilon$- линейная регрессионная модель переменной Y от переменной X<br>\n",
    "$X_{(2 \\times n)} = \\begin{pmatrix}1 & 1 & ... & 1 \\\\ x_1 & x_2 & ...  & x_n \\\\ x_1^2 & x_2^2 & ...  & x_n^2\\end{pmatrix} $<br>\n",
    "$Y = \\begin{pmatrix} y_1 \\\\ y_2 \\\\ ... \\\\ y_n \\end{pmatrix} =\\begin{pmatrix} \\beta_0 + \\beta_1x_1 + \\beta_2x_1^2 + \\varepsilon_1 \\\\ \\beta_0 + \\beta_1x_2 + \\beta_2x_2^2 + \\varepsilon_2 \\\\ ... \\\\ \\beta_0 + \\beta_1x_n + \\beta_2x_n^2 + \\varepsilon_n \\end{pmatrix}$<br>\n",
    "Оценки параметров $\\hat{\\beta_0}$,$\\hat{\\beta_1}$ и $\\hat{\\beta_2}$ вычисляются с помощью нормальных уравнений: $XX^{\\intercal} \\beta = XY$<br>\n",
    "Найдём $\\hat{\\beta}$:<br>\n",
    "$\\hat{\\beta} = (XX^{\\intercal})^{-1}  XY$<br>\n",
    "$XX^{\\intercal} = \\begin{pmatrix} 50 & 143 & 475 \\\\ 143 & 475 & 1703 \\\\ 475 & 1703 & 6427 \\end{pmatrix}$<br>\n",
    "$(XX^{\\intercal})^{-1} = \\begin{pmatrix} 0.39563243 & -0.28550986 & 0.04641324 \\\\ -0.28550986 & 0.24815166 & -0.04465304 \\\\ 0.04641324 & -0.04465304 & 0.00855731 \\end{pmatrix}$<br>\n",
    "$\\hat{\\beta} = \\begin{pmatrix} 10.75575437 \\\\ 1.6267209 \\\\ -0.43862907 \\end{pmatrix}$<br>"
   ]
  },
  {
   "cell_type": "code",
   "execution_count": 260,
   "id": "be83de58-7355-47cb-837e-c04160768cca",
   "metadata": {},
   "outputs": [
    {
     "name": "stdout",
     "output_type": "stream",
     "text": [
      "XX_T  [[  50  143  475]\n",
      " [ 143  475 1703]\n",
      " [ 475 1703 6427]]\n",
      "XX_T_1  [[ 0.39563243 -0.28550986  0.04641324]\n",
      " [-0.28550986  0.24815166 -0.04465304]\n",
      " [ 0.04641324 -0.04465304  0.00855731]]\n",
      "beta_rez  [10.75575437  1.6267209  -0.43862907]\n"
     ]
    }
   ],
   "source": [
    "matrix_X = np.array([[1 for i in range(len(X))], [X[i] for i in range(len(X))], [X[i] ** 2 for i in range(len(X))]])\n",
    "matrix_Y = np.array([Y[i] for i in range(len(Y))])\n",
    "X_T = np.transpose(matrix_X)\n",
    "\n",
    "XX_T = np.dot(matrix_X, X_T)\n",
    "print(\"XX_T \",XX_T)\n",
    "\n",
    "XX_T_1 = np.linalg.inv(XX_T)\n",
    "print(\"XX_T_1 \",XX_T_1)\n",
    "\n",
    "beta_rez = np.dot(XX_T_1, matrix_X).dot(matrix_Y)\n",
    "print(\"beta_rez \",beta_rez)"
   ]
  },
  {
   "cell_type": "markdown",
   "id": "765c070e-91b9-4102-ba1d-a856f678be12",
   "metadata": {},
   "source": [
    "МНК:"
   ]
  },
  {
   "cell_type": "code",
   "execution_count": 261,
   "id": "d576a561-d4be-49fd-a59e-2a53a6fb01db",
   "metadata": {},
   "outputs": [
    {
     "name": "stdout",
     "output_type": "stream",
     "text": [
      "\n",
      "RSS: 1128.0735\n"
     ]
    }
   ],
   "source": [
    "RSS = 0 \n",
    "for i in range(len(Y)):\n",
    "    RSS += (Y[i] - (beta_rez[0] + beta_rez[1] * X[i] + beta_rez[2] * X[i] ** 2)) ** 2\n",
    "print(f'\\nRSS: {round(RSS, 4)}')"
   ]
  },
  {
   "cell_type": "markdown",
   "id": "4c29686d-8008-4323-8de0-1d497ae73e98",
   "metadata": {},
   "source": [
    "Построим линию регрессии:"
   ]
  },
  {
   "cell_type": "code",
   "execution_count": 262,
   "id": "7610fdf0-69b8-4047-bef9-f3bf07e4747c",
   "metadata": {},
   "outputs": [
    {
     "data": {
      "image/png": "[encoded data removed]",
      "text/plain": [
       "<Figure size 640x480 with 1 Axes>"
      ]
     },
     "metadata": {},
     "output_type": "display_data"
    }
   ],
   "source": [
    "x = np.unique(X)\n",
    "Y_pred = beta_rez[0] + beta_rez[1] * x + beta_rez[2] * x**2\n",
    "\n",
    "plt.scatter(X, Y)\n",
    "plt.plot(x, beta_rez[0] + beta_rez[1] * x + beta_rez[2] * x**2, color='red')\n",
    "plt.xlabel(\"X\")\n",
    "plt.ylabel(\"$\\hat{Y}$\")\n",
    "plt.title(\"Линия регрессии:\")\n",
    "plt.show()"
   ]
  },
  {
   "cell_type": "markdown",
   "id": "88993009-b775-4edb-8ffd-df8c27a01ad8",
   "metadata": {},
   "source": [
    "### 6. Построить несмещенную оценку дисперсии. Провести исследование нормальности ошибок как в пункте 2."
   ]
  },
  {
   "cell_type": "markdown",
   "id": "54cdf5a1-ea9b-4287-bd2a-22b4ec262a41",
   "metadata": {},
   "source": [
    "Оценивание параметра $\\sigma^2: S^2 = \\frac{RSS(\\hat{\\beta})}{n-r}=24.001563218083458 $"
   ]
  },
  {
   "cell_type": "code",
   "execution_count": 263,
   "id": "ffd4ccb7-5cce-464a-accb-27a2b31709c0",
   "metadata": {},
   "outputs": [
    {
     "name": "stdout",
     "output_type": "stream",
     "text": [
      "Несмещенная оценка дисперсии:  24.001563218083458\n"
     ]
    }
   ],
   "source": [
    "S_2 = RSS/(len(Y) - 3)\n",
    "print(\"Несмещенная оценка дисперсии: \", S_2)"
   ]
  },
  {
   "cell_type": "markdown",
   "id": "08997396-5a19-431f-9ca3-8025542289f2",
   "metadata": {},
   "source": [
    "Построим гистограмму ошибок с шагом $h=2.20$:"
   ]
  },
  {
   "cell_type": "code",
   "execution_count": 264,
   "id": "7bcb796e-f61c-4fed-8e89-eb9c1c051fda",
   "metadata": {},
   "outputs": [
    {
     "name": "stdout",
     "output_type": "stream",
     "text": [
      "[5 3 2 3 3 3 1 2 3 3 4 3 1 2 4 5 0 4 4 3 2 4 3 1 1 2 4 4 2 1 3 3 4 4 4 4 3\n",
      " 4 1 1 3 4 3 3 3 2 3 3 4 2]\n"
     ]
    },
    {
     "data": {
      "image/png": "[encoded data removed]",
      "text/plain": [
       "<Figure size 640x480 with 1 Axes>"
      ]
     },
     "metadata": {},
     "output_type": "display_data"
    }
   ],
   "source": [
    "h = 2.2\n",
    "Y_p = beta_rez[0] + beta_rez[1] * matrix_X[1]+ beta_rez[2] * matrix_X[1]**2\n",
    "err = matrix_Y - Y_p\n",
    "sort_err = np.sort(err)\n",
    "hist, bins, _ = plt.hist(err, bins=np.arange(min(err), max(err) + h, h), edgecolor='black', color='w')\n",
    "plt.xlabel('Ошибки')\n",
    "plt.ylabel('Частота')\n",
    "plt.title('Гистограмма ошибок')\n",
    "plt.show()"
   ]
  },
  {
   "cell_type": "markdown",
   "id": "0200acfe-f3ed-4d17-8870-b19d22006f2b",
   "metadata": {},
   "source": [
    "Проверим гипотезу нормальности ошибок $H_0 \\sim \\mathcal{N}(0, \\sigma^2)$ на уровне значимости $\\alpha=0.20$ по $\\chi^2$."
   ]
  },
  {
   "cell_type": "markdown",
   "id": "0ae3edce-3e78-4e25-a5f2-eb80c9a82a27",
   "metadata": {},
   "source": [
    "Выделим интервалы и соответствующие частоты"
   ]
  },
  {
   "cell_type": "code",
   "execution_count": 265,
   "id": "3a9db85c-58f3-4124-bdcb-28cf95ac1b3f",
   "metadata": {},
   "outputs": [
    {
     "name": "stdout",
     "output_type": "stream",
     "text": [
      "1 : (-8.9446, -6.7446) Частота:  4.0\n",
      "2 : (-6.7446, -4.5446) Частота:  5.0\n",
      "3 : (-4.5446, -2.3446) Частота:  7.0\n",
      "4 : (-2.3446, -0.1446) Частота:  9.0\n",
      "5 : (-0.1446, 2.0554) Частота:  10.0\n",
      "6 : (2.0554, 4.2554) Частота:  5.0\n",
      "7 : (4.2554, 6.4554) Частота:  4.0\n",
      "8 : (6.4554, 8.6554) Частота:  4.0\n",
      "9 : (8.6554, 10.8554) Частота:  2.0\n"
     ]
    }
   ],
   "source": [
    "for i in range(len(hist)):\n",
    "    print(i+1,\":\", (round(bins[i], 4), round(bins[i+1], 4)), \"Частота: \",hist[i])"
   ]
  },
  {
   "cell_type": "markdown",
   "id": "bd352696-7fa1-42a0-a7fd-c1a716501174",
   "metadata": {},
   "source": [
    "Объединяем малочисленные частоты.Итоговые интервалы:"
   ]
  },
  {
   "cell_type": "markdown",
   "id": "bed2b4e9-a75c-4245-93fe-57c0fc8f9573",
   "metadata": {},
   "source": [
    "$I_1 = (-\\infty, -4.5446], n_1 = 9$<br>\n",
    "$I_2 = (-4.5446, -2.3446], n_2 = 7$<br>\n",
    "$I_3 = (-2.3446, -0.1446], n_3 = 9$<br>\n",
    "$I_4 = (-0.1446, 2.0554], n_4 = 10$<br>\n",
    "$I_5 = (2.0554, 6.4554], n_4 = 9$<br>\n",
    "$I_6 = (6.4554, +\\infty), n_5 = 6$<br>"
   ]
  },
  {
   "cell_type": "markdown",
   "id": "bd9eeefd-97de-451c-a221-689b5a199aa1",
   "metadata": {},
   "source": [
    "Считаем статистику критерия $\\chi^2$:<br>\n",
    "$\\chi^2 = \\sum_{j=1}^{k}\\frac{ (n_j - np_{j})^2 }{ np_{j} }$<br>\n",
    "n=50<br>\n",
    "$p_{j} = \\mathbb{P}(\\xi \\in I_i) = F(b_i) - F(a_i)$<br>\n",
    "a и b - границы соответствующего интервала <br>\n",
    "Квантиль $x_{\\alpha}: \\mathcal{K}_{r-d-1}(x_a) = 1 - \\alpha = 1 - 0.20 = 0.80$<br>"
   ]
  },
  {
   "cell_type": "code",
   "execution_count": 266,
   "id": "10cb7436-8743-4053-b3df-9a877f87c704",
   "metadata": {},
   "outputs": [
    {
     "name": "stdout",
     "output_type": "stream",
     "text": [
      "Статистика критерия:  1.2929\n",
      "Квантиль:  5.9886\n"
     ]
    }
   ],
   "source": [
    "from scipy import stats\n",
    "import scipy\n",
    "n = len(Y)\n",
    "alpha = 0.20\n",
    "ni = np.array([9, 7, 9, 10, 9, 6])\n",
    "intervals = np.array([-4.5446, -2.3446, -0.1446, 2.0554, 6.4554])\n",
    "def min_sum(arg):\n",
    "    prob = np.zeros(len(intervals) + 1)\n",
    "    prob[0] = stats.norm.cdf(intervals[0], 0,arg)\n",
    "    \n",
    "    for i in range(1, len(intervals)):\n",
    "        prob[i] = stats.norm.cdf(intervals[i], 0, arg) - stats.norm.cdf(intervals[i-1], 0,arg)\n",
    "    prob[len(intervals)] = 1 - stats.norm.cdf(intervals[-1], 0,arg)\n",
    "\n",
    "    sum_array = ((ni - n * prob) ** 2) / (n * prob)\n",
    "    return np.sum(sum_array)\n",
    "\n",
    "result = scipy.optimize.minimize_scalar(min_sum)\n",
    "print(\"Статистика критерия: \",round(result.fun, 4))\n",
    "\n",
    "x_alpha = stats.chi2(4).ppf(1 - alpha)\n",
    "\n",
    "print(\"Квантиль: \", round(x_alpha, 4))"
   ]
  },
  {
   "cell_type": "markdown",
   "id": "c11fdd1a-8dce-4f34-b84e-3c063709dee0",
   "metadata": {},
   "source": [
    "$\\chi^2 = 1.2929 < x_{\\alpha} = 5.9886$, следовательно гипотеза принимается<br>\n",
    "<br>\n",
    "Оценим расстояние полученной оценки до класса нормальных распределений по Колмогорову:<br>\n",
    "$\\sqrt{n} \\cdot \\sup\\lvert F_n(y) - F(y)\\rvert \\sim K$- распределение Колмогорова.<br>"
   ]
  },
  {
   "cell_type": "code",
   "execution_count": 267,
   "id": "3aa5041d-b80c-498a-8476-81b7136c9d1b",
   "metadata": {},
   "outputs": [
    {
     "name": "stdout",
     "output_type": "stream",
     "text": [
      "Dn:  0.2645\n",
      "x_alpha:  0.1236\n"
     ]
    }
   ],
   "source": [
    "def find_Fn(x, values):\n",
    "    n = len(Y)\n",
    "    sum = 0\n",
    "    for i in values:\n",
    "        if i >= x:\n",
    "            return sum / n\n",
    "        sum = sum + 1\n",
    "    return sum / n\n",
    "sort_err = np.sort(err)\n",
    "X_values = np.arange(min(err) - h, max(err) + h, h)\n",
    "\n",
    "Fn = np.array([find_Fn(i, sort_err) for i in X_values])\n",
    "F = np.array([stats.norm.cdf(y, 0, np.sqrt(S_2)) for y in X_values])\n",
    "\n",
    "Dn = np.max(np.abs(Fn - F)) * np.sqrt(n)\n",
    "print(\"Dn: \",round(Dn, 4))\n",
    "\n",
    "x_alpha = stats.ksone.ppf(1 - alpha, n)\n",
    "print(\"x_alpha: \",round(x_alpha, 4))"
   ]
  },
  {
   "cell_type": "markdown",
   "id": "895aa9a2-eb00-4fb4-96c0-b8c4ac97964c",
   "metadata": {},
   "source": [
    "$D_n = 0.2531 > x_{\\alpha} = 0.1236$, следовательно гипотеза отвергается<br>"
   ]
  },
  {
   "cell_type": "code",
   "execution_count": 268,
   "id": "33c96be1-5cd9-4447-8f3d-45c3806717c7",
   "metadata": {},
   "outputs": [
    {
     "data": {
      "image/png": "[encoded data removed]",
      "text/plain": [
       "<Figure size 640x480 with 1 Axes>"
      ]
     },
     "metadata": {},
     "output_type": "display_data"
    }
   ],
   "source": [
    "hist, bin_edges, _ = plt.hist(err, bins=np.arange(min(err), max(err) + h, h), density=True, edgecolor='black', color='w')\n",
    "values = np.linspace(min(err), max(err), 100)\n",
    "plt.plot(values, stats.norm.pdf(values, err.mean(), err.std()), color='red')\n",
    "\n",
    "plt.title('Гистограмма ошибок')\n",
    "plt.xlabel('Значение')\n",
    "plt.ylabel('Частота')\n",
    "plt.show()"
   ]
  },
  {
   "cell_type": "markdown",
   "id": "e4b74878-36e3-42ce-a679-f94f03f48e3f",
   "metadata": {},
   "source": [
    "### 7) В предположении нормальности ошибок построить доверительные интервалы для параметров $\\beta_0$, $\\beta_1$, $\\beta_2$  уровня доверия 1 − $\\alpha$. Написать уравнение доверительного эллипсоида уровня доверия $1 − \\alpha$."
   ]
  },
  {
   "cell_type": "markdown",
   "id": "ee34c49f-def1-4ca4-a728-64ce92800392",
   "metadata": {},
   "source": [
    "$\\psi = C^{\\intercal} \\beta $ - ДНО функция<br>\n",
    "$b_\\psi = C^{\\intercal} (XX^{\\intercal})^{-1}C$ - элемент дисперсии оценки<br>\n",
    "$\\frac{\\widehat \\psi - \\psi}{s\\sqrt{b}} \\sim S_{n-r}$<br>\n",
    "$x_\\alpha : S_{n-r}(x_\\alpha) = 1 -\\frac{\\alpha}{2} $ - квантиль<br>\n",
    "$\\widehat \\psi-x_{\\alpha}S\\sqrt{b} \\le \\psi \\le \\widehat \\psi-x_{\\alpha}S\\sqrt{b}$ - доверительный интервал для $\\psi$<br>\n",
    "$\\frac{\\widehat \\psi - \\psi}{S\\sqrt{b_{\\psi_{\\beta_0}}}} \\sim S_{n-3} $ ; $\\frac{\\widehat \\psi - \\psi}{S\\sqrt{b_{\\psi_{\\beta_1}}}} \\sim S_{n-3} $ ; $\\frac{\\widehat \\psi - \\psi}{S\\sqrt{b_{\\psi_{\\beta_2}}}} \\sim S_{n-3} $<br>"
   ]
  },
  {
   "cell_type": "code",
   "execution_count": 269,
   "id": "6b88a8e7-d9d8-4ffe-a7f8-d57ee69ca168",
   "metadata": {},
   "outputs": [
    {
     "name": "stdout",
     "output_type": "stream",
     "text": [
      "x_alpha  1.2998249470173255\n",
      "b0 0.3956324270515822\n",
      "Доверительный интервал для β0: [ 6.750311219969665 ; 14.761197521398046 ]\n",
      "b1 0.24815166220784715\n",
      "Доверительный интервал для β1: [ -1.5454985714920837 ; 4.798940368294243 ]\n",
      "b2 0.008557311433252574\n",
      "Доверительный интервал для β2: [ -1.027707741956927 ; 0.15044960719673894 ]\n"
     ]
    }
   ],
   "source": [
    "alpha,r = 0.20,3\n",
    "\n",
    "x_alpha = stats.t.ppf(1-alpha/2, n-r)\n",
    "\n",
    "C_0 = np.array([1,0,0])\n",
    "C_1 = np.array([0,1,0])\n",
    "C_2 = np.array([0,0,1])\n",
    "\n",
    "b0 = np.dot(np.dot(C_0.T, XX_T_1), C_0)\n",
    "b1 = np.dot(np.dot(C_1.T, XX_T_1), C_1)\n",
    "b2 = np.dot(np.dot(C_2.T, XX_T_1), C_2)\n",
    "\n",
    "print(\"x_alpha \",x_alpha)\n",
    "print(\"b0\",b0)\n",
    "print(\"Доверительный интервал для β0: [\", beta_rez[0] - x_alpha * np.sqrt(S_2) * np.sqrt(b0),\";\",beta_rez[0] + x_alpha * np.sqrt(S_2) * np.sqrt(b0),\"]\")\n",
    "print(\"b1\",b1)\n",
    "print(\"Доверительный интервал для β1: [\", beta_rez[1] - x_alpha * np.sqrt(S_2) * np.sqrt(b1),\";\",beta_rez[1] + x_alpha * np.sqrt(S_2) * np.sqrt(b1),\"]\")\n",
    "print(\"b2\",b2)\n",
    "print(\"Доверительный интервал для β2: [\", beta_rez[2] - x_alpha * np.sqrt(S_2) * np.sqrt(b2),\";\",beta_rez[2] + x_alpha * np.sqrt(S_2) * np.sqrt(b2),\"]\")"
   ]
  },
  {
   "cell_type": "markdown",
   "id": "e991d250-ae58-4f2f-8cc9-f5505b4c1e43",
   "metadata": {},
   "source": [
    "Доверительный эллипсоид уровня доверия $1-\\alpha$:<br>\n",
    "$A_{\\alpha} = \\{\\vec{x}: (\\vec{x} - \\hat{\\psi})^t B^{-1} (\\vec{x} - \\hat{\\psi}) \\leq q S^2 x_{\\alpha} \\}$, где $ x_{\\alpha}: F_{q,n-r}(x_{\\alpha}) = 1 - \\alpha $ и $B = C^{\\intercal} (XX^{\\intercal})^{-1}C$<br>\n",
    "$\\vec{x}= P(\\widehat{\\psi} - \\psi) $, где P - матрица собственных векторов $XX^{\\intercal}$<br>\n",
    "$\\lambda_1 x^2 + \\lambda_2 y^2 + \\lambda_3 z^2\\leq q S^2 x_{\\alpha} $, где $\\lambda_1, \\lambda_2, \\lambda_3$ - собственные числа матрицы $XX^{\\intercal} ;$ <br>\n",
    "$(\\widehat \\psi -  \\psi)^{\\intercal} (C^{\\intercal} (XX^{\\intercal})^{-1}C)^{-1}(\\widehat \\psi -\\psi) = \\lambda_1 x^2 + \\lambda_2 y^2 + \\lambda_3 z^2 \\le qS^2x_\\alpha$ - уравнение доверительного эллипсоида  <br>\n",
    "Полуоси: <br>\n",
    "$\\frac{\\lambda_1}{qS^2 x_{\\alpha}} x^2 + \\frac{\\lambda_2}{qS^2 x_{\\alpha}} y^2 + \\frac{\\lambda_3}{qS^2 x_{\\alpha}} z^2 \\leq 1$ <br>\n",
    "$\\frac{qS^2 x_{\\alpha}}{\\lambda_1}$ , $\\frac{qS^2 x_{\\alpha}}{\\lambda_2}$ и $\\frac{qS^2 x_{\\alpha}}{\\lambda_3}$ - параметры эллипсоида<br>"
   ]
  },
  {
   "cell_type": "code",
   "execution_count": 270,
   "id": "3eff6340-0571-48fa-836c-25b54c0cec01",
   "metadata": {},
   "outputs": [
    {
     "name": "stdout",
     "output_type": "stream",
     "text": [
      "Собственные числа:  [6.91562059e+03 1.60400140e+00 3.47754120e+01]\n",
      "x_alpha  1.6085202639061869\n",
      "a  0.12941305229046504\n",
      "b  8.497502237382253\n",
      "c  1.8249775138844446\n"
     ]
    }
   ],
   "source": [
    "matrix_X = np.array([[1 for i in range(len(X))], [X[i] for i in range(len(X))], [X[i] ** 2 for i in range(len(X))]])\n",
    "X_T = np.transpose(matrix_X)\n",
    "XX_T = np.dot(matrix_X, X_T)\n",
    "\n",
    "lmd,matrx = np.linalg.eig(XX_T)\n",
    "\n",
    "print(\"Собственные числа: \",lmd)\n",
    "\n",
    "func = stats.f(3, n - 3)\n",
    "x_alpha = func.ppf(1 - alpha)\n",
    "print(\"x_alpha \",x_alpha)\n",
    "\n",
    "a = np.sqrt((3 * S_2 * x_alpha) / lmd[0])\n",
    "b = np.sqrt((3 * S_2 * x_alpha) / lmd[1])\n",
    "с = np.sqrt((3 * S_2 * x_alpha) / lmd[2])\n",
    "print(\"a \",a)\n",
    "print(\"b \",b)\n",
    "print(\"c \",c)"
   ]
  },
  {
   "cell_type": "markdown",
   "id": "3c71b87a-3ea6-4958-be64-536741d91ce4",
   "metadata": {},
   "source": [
    "$\\frac{6915.62059}{3 \\cdot 24.0015632 \\cdot 1.60852026} x^2 +\n",
    "\\frac{1.60400140}{3 \\cdot 24.0015632 \\cdot 1.60852026} y^2 + \n",
    "\\frac{34.7754120}{3 \\cdot 24.0015632 \\cdot 1.60852026} z^2 \\leq 1$"
   ]
  },
  {
   "cell_type": "markdown",
   "id": "a083af6c-c7f5-4391-9ae2-7ab40bec3519",
   "metadata": {},
   "source": [
    "$59.70956 x^2 + 0.013849 y^2 + 0.300251 z^2 \\leq 1$ - уравнение эллипсоида"
   ]
  },
  {
   "cell_type": "markdown",
   "id": "d7036d3c-73a2-400d-9f74-dfa7afd25029",
   "metadata": {},
   "source": [
    "### 8) Сформулировать гипотезу линейной регрессинной зависимости переменной Y от переменной X и проверить её значимость на уровне $\\alpha=0.20$."
   ]
  },
  {
   "cell_type": "markdown",
   "id": "4a2ad8f0-0333-426c-9879-b0f165378ce7",
   "metadata": {},
   "source": [
    "Гипотеза о линейной зависимости переменной Y от переменной X: $H_0:\\beta_2 = 0$<br>\n",
    "F-статистика: $\\mathbb{F} = \\frac{\\widehat{\\psi} B^-1 \\psi }{qS^2} \\sim F_{q,n-r}$<br>\n",
    "$x_{\\alpha}: F_{q,n-r}(x_{\\alpha}) = 1 - \\alpha$<br>\n",
    "При основной гипотезе $C = \\pmatrix{0 \\\\ 0 \\\\ 1}, \\widehat{\\psi} = \\beta_2, q=1$<br>\n",
    "Так как $\\widehat \\psi = \\widehat \\beta_2$ то $\\mathbb{F}  =  \\frac{{\\widehat \\beta_2} ^2}{bqS^2}  $<br>"
   ]
  },
  {
   "cell_type": "code",
   "execution_count": 271,
   "id": "10c260e1-d531-4587-9eeb-b790b42e17b6",
   "metadata": {},
   "outputs": [
    {
     "name": "stdout",
     "output_type": "stream",
     "text": [
      "x_alpha:  1.6895448936537667\n",
      "Статистика F:  0.9367375955101346\n"
     ]
    }
   ],
   "source": [
    "alpha = 0.20\n",
    "q = 1\n",
    "x_alpha = stats.f.ppf(1-alpha, 1, n-3)\n",
    "print(\"x_alpha: \",x_alpha)\n",
    "\n",
    "C = np.array([0,0,1])\n",
    "XX_T = np.dot(matrix_X, matrix_X.T)\n",
    "B = np.dot(np.dot(C.T, np.linalg.inv(XX_T)), C)\n",
    "\n",
    "F = (beta_rez[2] * beta_rez[2]) / (B * q * S_2)\n",
    "print(\"Статистика F: \", F)"
   ]
  },
  {
   "cell_type": "markdown",
   "id": "a0fa3350-751d-4a09-9bba-072047acd0a0",
   "metadata": {},
   "source": [
    "т.к. $\\mathbb{F}< x_{\\alpha}$ - гипотеза принимается"
   ]
  },
  {
   "cell_type": "markdown",
   "id": "7de1e9e8-cd9c-46be-b300-e239d36b8277",
   "metadata": {},
   "source": [
    "## Выводы"
   ]
  },
  {
   "cell_type": "markdown",
   "id": "82b556e5-5369-41a0-8443-508b3eafe5b0",
   "metadata": {},
   "source": [
    "В ходе данной лабораторной работы были изучены основные теоретические положения, связанные с линейной регрессией и методом наименьших квадратов,исследован регрессионный анализ, включая построение модели, оценку параметров и проверку их значимости. Также проведен анализ нормальности ошибок, построены доверительные интервалы , эллипс и эллипсоид, оценено расстояние до нормального распределения с использованием критерия Колмогорова и проверена гипотеза о независимости/линейной регрессинной зависимости переменных Y и X."
   ]
  }
 ],
 "metadata": {
  "kernelspec": {
   "display_name": "Python 3 (ipykernel)",
   "language": "python",
   "name": "python3"
  },
  "language_info": {
   "codemirror_mode": {
    "name": "ipython",
    "version": 3
   },
   "file_extension": ".py",
   "mimetype": "text/x-python",
   "name": "python",
   "nbconvert_exporter": "python",
   "pygments_lexer": "ipython3",
   "version": "3.10.7"
  }
 },
 "nbformat": 4,
 "nbformat_minor": 5
}
