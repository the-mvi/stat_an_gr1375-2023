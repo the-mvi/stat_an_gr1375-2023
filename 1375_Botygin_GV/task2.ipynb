{
 "cells": [
  {
   "cell_type": "markdown",
   "id": "16cc8fc727251832",
   "metadata": {},
   "source": [
    "# Практическая работа №2: Классические методы математической статистики\n",
    "Выполнил студент гр. 1375 Ботыгин Глеб. Вариант №4"
   ]
  },
  {
   "cell_type": "markdown",
   "id": "a542ea90073fb9a3",
   "metadata": {},
   "source": [
    "## Цель работы\n",
    "Научится применять методы математической статистики для решения задач статистического анализа; сформировать навыки реализации методов с помощью прикладных программных пакетов."
   ]
  },
  {
   "cell_type": "markdown",
   "id": "10dac9fdfddb44ee",
   "metadata": {},
   "source": [
    "## Основные теоретические положения\n",
    "\n",
    "### Центральная предельная теорема\n",
    "$\\sqrt n\\frac{\\overline x-a}\\sigma\\sim N\\left(0,1\\right)$<br>\n",
    "\n",
    "### Эмпирическая функция распределения:\n",
    "$F_n(x) = \\frac 1n\\sum\\limits_{i=1}^n \\mathbb{1}_{\\{x_i < X\\}} $<br>\n",
    "\n",
    "\n",
    "### Асимптотический доверительный интервал:\n",
    "1. На базе асимптотической нормальности: <br>\n",
    "$ \\sqrt{n}(\\hat\\theta(\\vec{x}) - \\theta) \\sim \\mathcal{N}(0, \\sigma^2(\\theta))$ <br>\n",
    "Выбираем $x_\\alpha: \\Phi(x_\\alpha)=1-\\frac{\\alpha}{2}$<br>\n",
    "АДИ: $\\left[\\hat\\theta(\\vec{x}) - \\frac{x_{\\alpha} \\cdot \\sigma(\\hat\\theta(\\vec{x})) }{\\sqrt{n}}, \\hat\\theta(\\vec{x}) + \\frac{x_{\\alpha} \\cdot \\sigma(\\hat\\theta(\\vec{x})) }{\\sqrt{n}} \\right] \\ni \\theta$ <br>\n",
    "\n",
    "2. На базе ОМП: <br>\n",
    "$ \\hat\\theta(\\vec{x})$ - ОМП <br>\n",
    "$\\sqrt{n}\\left( \\widehat{\\theta}(\\vec{x})-\\theta \\right)\\sim \\mathcal{N}\\left( 0, \\frac{1}{I(\\theta)} \\right)$<br>\n",
    "Где $I(\\theta) = \\lim\\limits_{n\\to\\infty}{\\frac{I_n(\\theta)}{n}}$, где $I_n(\\theta)$ - информация Фишера $I_n(\\theta) = -\\mathbb{E}_\\theta\\frac{\\partial^2{LL}}{\\partial\\theta^2} $ <br>\n",
    "Выбираем $x_\\alpha: \\Phi(x_\\alpha)=1-\\frac{\\alpha}{2}$<br>\n",
    "АДИ: $\\left[\\hat\\theta(\\vec{x}) - \\frac{x_{\\alpha}}{\\sqrt{nI(\\hat\\theta)}}, \\hat\\theta(\\vec{x}) + \\frac{x_{\\alpha}}{\\sqrt{nI(\\hat\\theta)}}\\right] \\ni \\theta$ <br>\n",
    "\n",
    "### Функция правдободобия:\n",
    "$L(\\overrightarrow X; \\theta) = \\prod\\limits_{i=1}^n f_{\\theta}(X_i)$<br>\n",
    "Оценка максимального правдоподобия: $\\widehat \\theta(X)$, максимизирует функцию правдоподобия $L( \\overrightarrow X; \\theta)$ по $\\theta$ для любого X<br>\n",
    "\n",
    "### Метод моментов\n",
    "$\\theta = \\left(\\theta_1, . . . \\theta_d\\right)$<br>\n",
    "Существуют $\\mu_k\\left(\\theta\\right) = \\mathbb{E_\\theta} X_1^k$<br>\n",
    "Если существует одинственное решение $\\widetilde\\theta(X)$ системы уравнений<br>\n",
    "$\\widehat\\mu_k(\\widetilde\\theta) = \\mu_k(\\widetilde\\theta), k = 1, . . . d$,\n",
    "где $\\widehat\\mu_k(\\widetilde\\theta) = \\frac1n \\sum\\limits_{i=1}^n X_i^k $ - выборочный  момент k-го порядка, то $\\widetilde\\theta(X)$ называется оценкой по методу моментов (ОММ)<br>\n",
    "\n",
    "### Критерий $\\chi^2$ для проверки простой гипотезы:\n",
    "Статистика критерия: $X^2 = \\sum\\limits_{i=1}^r \\frac{(v_i - np_{i})^2}{np_{i}}$<br>\n",
    " где $p_{i} = F(I_j)$ - гипотетические вероятности попадания в интервалы, r - количество зон разбиения $I_i$, $v_i$ - абсолютные частоты в интервале $I_i$<br>\n",
    "Асимптотический критерий уровня значимости $\\alpha$: <br> $\\phi(x) = \\left\\{\\begin{array}{l} 0,X^2 \\leq x_{\\alpha}\\\\1, X^2 > x_{\\alpha}\\end{array}\\right.$ \n",
    "Где $x_\\alpha: K_{r-1}(x_\\alpha)=1-\\alpha$, $K_{r-1}$ - функция распределения $ \\chi_{r-1}^2$<br>\n",
    "\n",
    "### Критерий $\\chi^2$ для проверки сложной гипотезы:\n",
    "Асимптотический критерий уровня значимости $\\alpha$: <br> $\\hat\\phi(x) = \\left\\{\\begin{array}{l} 0,\\widehat X^2 \\leq x_{\\alpha}\\\\1, \\widehat X^2 > x_{\\alpha}\\end{array}\\right.$\n",
    "Где $x_\\alpha: K_{r-d-1}(x_\\alpha)=1-\\alpha$, $K_{r-d-1}$ - функция распределения $ \\chi_{r-d-1}^2$<br>\n",
    "\n",
    "### Теорема Колмогорова:\n",
    "Пусть $F_n(x)$ - выборочная функция распределения.<br>\n",
    "$D_n=\\sup\\nolimits_{x\\in R}\\left|F_n(x)-F(x)\\right|$ - статистика критерия Колмогорова<br>\n",
    "$\\eta=\\sqrt nD_n=\\sqrt n\\sup\\nolimits_{x\\in R}\\left|F_n(x)-F(x)\\right|$ - выборочный критерий Колмогорова $\\eta\\Rightarrow K$<br>\n",
    "$ \\lim\\limits_{n \\to \\infty} P(\\sqrt{n}D_n \\leq t) = K(t)$, где K - случайная величина имеющая распределение Колмогорова <br>\n",
    "\n",
    "### Наиболее мощный критерий простой гипотезы:\n",
    "$H_0:\\theta=\\theta_0$ - простая основная гипотеза <br>\n",
    "$H_1:\\theta=\\theta_1$ - простая альтернатива <br>\n",
    "Статистика отношения правдоподобия: <br>\n",
    "$LR(X,\\theta_1,\\theta_0) = \\frac{L(X;\\theta_1)}{L(X;\\theta_0)} = \\frac{p_{\\theta_1}(X)}{p_{\\theta_{0}}(X)}$ <br>\n",
    "Наиболее мощный критерий представляется в виде: <br>\n",
    "$\\varphi(x) = \\left\\{\\begin{array}{l}1,LR(X) > c \\\\ p, LR(X) = c\\\\0,LR(X) < c\\end{array}\\right.$ <br>\n",
    "Где c и вероятность $p \\in [0,1)$: <br>\n",
    "$\\mathbb{E}_{\\theta_0}\\varphi(X) = P_{\\theta_0}(LR(X)>c) + pP_{\\theta_0}(LR(X)=c) = \\alpha$ <br>\n",
    "В области $LR(X) = c$ наиболее мощный критерий $\\varphi$ не определен однозначно"
   ]
  },
  {
   "cell_type": "markdown",
   "id": "dbd06f2954232076",
   "metadata": {},
   "source": [
    "## Постановка задачи\n",
    "Для полученных в результате эксперимента наборов данных выполнить статистическую обработку. Полученные результаты содержательно проинтерпретировать."
   ]
  },
  {
   "cell_type": "markdown",
   "id": "a9cdbfc960dcf4d5",
   "metadata": {},
   "source": [
    "## Выполнение работы\n",
    "### Задание 1"
   ]
  },
  {
   "cell_type": "code",
   "execution_count": 286,
   "id": "d20284fc89daaa4b",
   "metadata": {
    "ExecuteTime": {
     "end_time": "2023-12-06T18:11:45.067789700Z",
     "start_time": "2023-12-06T18:11:44.450348Z"
    }
   },
   "outputs": [],
   "source": [
    "# Заданные в варианте №4 значения переменных\n",
    "x = [2, 0, 0, 2, 0, 0, 2, 0, 1, 1, 0, 1, 1, 1, 1, 1, 1, 1, 0, 1, 1, 0, 1, 1, 0, 0, 3, 0, 2, 0, 0, 0, 0, 0, 0 ,1, 1, 1, 0, 3, 2, 0, 1, 0, 0, 0 ,0,\n",
    "     1, 0, 1]\n",
    "N=len(x)\n",
    "a=0\n",
    "b=1.2\n",
    "alpha=0.1\n",
    "lambda_0 = 0.7\n",
    "lambda_1 = 2.8"
   ]
  },
  {
   "cell_type": "code",
   "execution_count": 287,
   "id": "279e140992e1b3b3",
   "metadata": {
    "ExecuteTime": {
     "end_time": "2023-12-06T18:11:45.067789700Z",
     "start_time": "2023-12-06T18:11:44.454785300Z"
    }
   },
   "outputs": [],
   "source": [
    "import numpy as np\n",
    "import matplotlib.pyplot as plt\n",
    "import pandas as pd\n",
    "import statistics\n",
    "from math import sqrt\n",
    "from scipy import stats"
   ]
  },
  {
   "cell_type": "markdown",
   "id": "9eceac93d0b5b63",
   "metadata": {},
   "source": [
    "#### Пункт a: построить вариционный ряд, эмпирическую функцию распределения и гистограмму частот"
   ]
  },
  {
   "cell_type": "code",
   "execution_count": 288,
   "id": "882034b80f268d0b",
   "metadata": {
    "ExecuteTime": {
     "end_time": "2023-12-06T18:11:45.627851900Z",
     "start_time": "2023-12-06T18:11:44.461768900Z"
    }
   },
   "outputs": [
    {
     "name": "stdout",
     "output_type": "stream",
     "text": [
      "Вариационный ряд:  [0, 0, 0, 0, 0, 0, 0, 0, 0, 0, 0, 0, 0, 0, 0, 0, 0, 0, 0, 0, 0, 0, 0, 0, 1, 1, 1, 1, 1, 1, 1, 1, 1, 1, 1, 1, 1, 1, 1, 1, 1, 1, 1, 2, 2, 2, 2, 2, 3, 3]\n",
      "Плотность относительной частоты\n",
      "         0     1    2     3\n",
      "x(i)  0.00  1.00  2.0  3.00\n",
      "p(i)  0.48  0.38  0.1  0.04\n",
      "Эмпирическая функция распределения\n",
      "        0     1     2     3\n",
      "x(i)  0.0  1.00  2.00  3.00\n",
      "F(i)  0.0  0.48  0.86  0.96\n"
     ]
    },
    {
     "data": {
      "text/plain": "<Figure size 640x480 with 1 Axes>",
      "image/png": "[encoded data removed]"
     },
     "metadata": {},
     "output_type": "display_data"
    }
   ],
   "source": [
    "var_row=sorted(x)\n",
    "print(\"Вариационный ряд: \",var_row)\n",
    "ni=[] #Частоты вхождений X\n",
    "xi=[] #Уникальные значения X\n",
    "for i in range (min(var_row),max(var_row)+1):\n",
    "    xi.append(i)\n",
    "    ni.append(var_row.count(i))\n",
    "pi=[] #Вероятности вхождений X\n",
    "for i in ni:\n",
    "    pi.append(i/N)\n",
    "density = pd.DataFrame({'x(i)': xi, 'p(i)': pi}).T\n",
    "print(\"Плотность относительной частоты\")\n",
    "print(density)\n",
    "Fi=[]\n",
    "for i in range(0,len(xi)):\n",
    "        Fi.append(sum(ni[0:i])/N)\n",
    "Fx = pd.DataFrame({'x(i)': xi, 'F(i)': Fi}).T\n",
    "print(\"Эмпирическая функция распределения\")\n",
    "print(Fx)\n",
    "\n",
    "# Отображаем эмпирическую функцию распределения\n",
    "plt.step(xi, Fi)\n",
    "plt.xlabel('Значения')\n",
    "plt.ylabel('Вероятность')\n",
    "plt.title('Эмпирическая функция')\n",
    "plt.show()"
   ]
  },
  {
   "cell_type": "code",
   "execution_count": 289,
   "id": "6700e17a0acd71dd",
   "metadata": {
    "ExecuteTime": {
     "end_time": "2023-12-06T18:11:45.736590700Z",
     "start_time": "2023-12-06T18:11:44.599811400Z"
    }
   },
   "outputs": [
    {
     "data": {
      "text/plain": "<Figure size 640x480 with 1 Axes>",
      "image/png": "[encoded data removed]"
     },
     "metadata": {},
     "output_type": "display_data"
    }
   ],
   "source": [
    "#Отображаем гистограмму частот\n",
    "plt.bar(xi, pi, align='edge', width=1, edgecolor='black')\n",
    "plt.xlabel('Значение')\n",
    "plt.ylabel('Плотность относительной частоты')\n",
    "plt.title('Гистограмма частот')\n",
    "plt.show()\n"
   ]
  },
  {
   "cell_type": "markdown",
   "id": "f514ce29c5995e17",
   "metadata": {},
   "source": [
    "#### Пункт b: вычислить выборочные аналоги следующих числовых характеристик: (i)математического ожидания, (ii)дисперсии, (iii)медианы, (iv)асимметрии, (v)эксцесса, (vi) вероятности $\\mathbb{P}\\left(X\\in\\left[a,b\\right]\\right)$\n",
    "Выборочное среднее:\n",
    "$\\overline X=\\frac1n\\sum\\limits_{i=1}^nx_i$\n",
    "\n",
    "Выборочная дисперсия:\n",
    "$S^2 = \\frac1n\\sum\\limits_{i=1}^n\\left(X_i-\\overline X\\right)^2 $\n",
    "\n",
    "Выборочное СКО:\n",
    "$S = \\sqrt{\\frac1n\\sum\\limits_{i=1}^n\\left(X_i-\\overline X\\right)^2} $\n",
    "\n",
    "Медиана:\n",
    "$z_{n,0.5} = \\left\\{\\begin{array}{l}x_{\\frac{N + 1}{2}},\\;\\; N = 2n + 1,\\;\\;n\\in\\mathbb{Z_+}\\\\\\frac{x_{\\frac N2} + x_{\\frac{N}{2} + 1}}{2}, \\;\\; N = 2n,\\;\\;n\\in\\mathbb{Z_+}\\end{array}\\right. $\n",
    "\n",
    "Коэффицент асимметрии:\n",
    "$\\widehat{Skew}X = \\frac{\\frac1n\\sum\\limits_{i=1}^n\\left(X_i-\\overline X\\right)^3}{S^3} $\n",
    "\n",
    "Эксцесс:\n",
    "$\\widehat{Kurt}X = \\frac{\\frac1n\\sum\\limits_{i=1}^n\\left(X_i-\\overline X\\right)^4}{S^4} - 3 $"
   ]
  },
  {
   "cell_type": "code",
   "execution_count": 290,
   "id": "7ff7c689296db667",
   "metadata": {
    "ExecuteTime": {
     "end_time": "2023-12-06T18:11:45.738552100Z",
     "start_time": "2023-12-06T18:11:44.747792Z"
    }
   },
   "outputs": [
    {
     "name": "stdout",
     "output_type": "stream",
     "text": [
      "Выборочное среднее: E(x) =  0.7\n",
      "Выборочная дисперсия: D(x) =  0.663\n",
      "Выборочное СКО: S =  0.814\n",
      "Медиана =  1.0\n",
      "Коэффицент асимметрии: SkewX =  1.022\n",
      "Коэффициент эксцесса: KurtX =  0.463\n",
      "Вероятность поподания в интервавл [a,b]: P([a,b]) =  0.86\n"
     ]
    }
   ],
   "source": [
    "Ex=statistics.mean(x)\n",
    "print(\"Выборочное среднее: E(x) = \",Ex)\n",
    "\n",
    "Dx=statistics.variance(x)\n",
    "print(\"Выборочная дисперсия: D(x) = \",round(Dx,3))\n",
    "\n",
    "S=sqrt(Dx)\n",
    "print(\"Выборочное СКО: S = \",round(S,3))\n",
    "\n",
    "median=statistics.median(x)\n",
    "print(\"Медиана = \",round(median,3))\n",
    "\n",
    "skew = 0\n",
    "for i in range(0, N):\n",
    "    skew += (x[i] - Ex)**3\n",
    "skew = (1/N)*skew/(S**3)\n",
    "print('Коэффицент асимметрии: SkewX = ', round(skew,3))\n",
    "\n",
    "kurt = 0\n",
    "for i in range(0, N):\n",
    "    kurt += (x[i] - Ex)**4\n",
    "kurt = (1/N)*kurt/(S**4) - 3\n",
    "print('Коэффициент эксцесса: KurtX = ', round(kurt,3))\n",
    "\n",
    "P_ab=0\n",
    "for i in range(0,len(xi)):\n",
    "    if (xi[i]>=a) and (xi[i]<=b):\n",
    "        P_ab+=pi[i]\n",
    "print('Вероятность поподания в интервавл [a,b]: P([a,b]) = ', P_ab)\n",
    "\n"
   ]
  },
  {
   "cell_type": "markdown",
   "id": "117e268bd216c914",
   "metadata": {},
   "source": [
    "#### Пункт c: в предположении, что исходные наблюдения являются выборкой из распределения Пуассона, построить оценку максимального правдоподобия параметра $\\lambda$ и оценку $\\lambda$ по методу моментов. Найти смещение оценок\n",
    "$p_\\theta(x)=\\frac{\\lambda^x}{x!}\\exp{(-\\lambda)}$ - плотность распределения Пуассона<br>\n",
    "Функция правдоподобия:<br>\n",
    "$L(\\overrightarrow x,\\theta)=\\prod_{i=1}^n\\frac{\\lambda^{x_i}}{x_i!}\\exp{(-\\lambda)}=\\lambda^\\overset n{\\underset{i=1}{\\sum x_i}}\\cdot\\prod_{i=1}^n\\frac1{x_i!}\\cdot\\exp{(-\\lambda n)}$<br>\n",
    "Логарифмическая функция правдоподобия:<br>\n",
    "$LL(\\overrightarrow x,\\theta)=\\overset n{\\underset{i=1}{\\sum x_i}}\\ln\\left(\\lambda\\right)+{\\textstyle\\sum_{i=1}^n}\\ln\\left(\\frac1{x_i!}\\right)-\\lambda n$<br>\n",
    "$\\frac{\\partial{LL(\\overrightarrow x,\\theta)}}{\\partial\\lambda}=\\frac1\\lambda\\overset n{\\underset{i=1}{\\sum x_i}}-n=0$<br>\n",
    "$\\frac1\\lambda\\overset n{\\underset{i=1}{\\sum x_i}}=n$<br>\n",
    "$\\widehat\\theta=\\lambda=\\frac1n\\overset n{\\underset{i=1}{\\sum x_i}}$ - ОМП"
   ]
  },
  {
   "cell_type": "code",
   "execution_count": 291,
   "id": "78d3fdb157ea6b05",
   "metadata": {
    "ExecuteTime": {
     "end_time": "2023-12-06T18:11:45.738552100Z",
     "start_time": "2023-12-06T18:11:44.752266100Z"
    }
   },
   "outputs": [
    {
     "name": "stdout",
     "output_type": "stream",
     "text": [
      "Оценка максимального правдоподобия =  0.7\n"
     ]
    }
   ],
   "source": [
    "print(\"Оценка максимального правдоподобия = \", round(1/N*sum(x), 3))"
   ]
  },
  {
   "cell_type": "markdown",
   "id": "ed192eb6f71a9dc7",
   "metadata": {},
   "source": [
    "$L(\\overrightarrow x,\\theta)=\\lambda^\\overset n{\\underset{i=1}{\\sum x_i}}\\cdot\\prod_{i=1}^n\\frac1{x_i!}\\cdot\\exp{(-\\lambda n)}$<br>\n",
    "$g(T)=\\lambda^\\overset n{\\underset{i=1}{\\sum x_i}}\\cdot\\exp{(-\\lambda n)}$<br>\n",
    "$h(x)=\\prod_{i=1}^n\\frac1{x_i!}$<br>\n",
    "$T=\\overset n{\\underset{i=1}{\\sum x_i}}$ - МДС. Тк распределение Пуассона принадлежит к семейству экспоненциальных, то МДС является ПДС<br>\n",
    "НРМД: <br>\n",
    "$\\mathbb{E}_\\theta\\widehat\\theta=\\mathbb{E}_\\theta\\frac1n\\overset n{\\underset{i=1}{\\sum x_i}}=\\frac1n\\overset n{\\underset{i=1}{\\sum \\mathbb{E}_\\theta x_i}}=\\frac1n\\overset n{\\underset{i=1}{\\sum \\mathbb{E}_\\theta x_1}}=\\frac1n\\overset n{\\underset{i=1}{\\sum\\lambda}}=\\lambda$ - оценка несмещенная"
   ]
  },
  {
   "cell_type": "markdown",
   "id": "cdd8293bc7224f32",
   "metadata": {},
   "source": [
    "Метод моментов:<br>\n",
    "Параметр λ для распределения Пуассона – мат. ожидание,которое по методу моментов оценивается первым выборочным моментом:<br>\n",
    "$\\lambda = \\overline x_{выб} = \\frac{1}{n} \\sum\\limits_{i=1}^n x_i$"
   ]
  },
  {
   "cell_type": "code",
   "execution_count": 292,
   "id": "a741e5770e237422",
   "metadata": {
    "ExecuteTime": {
     "end_time": "2023-12-06T18:11:45.739550Z",
     "start_time": "2023-12-06T18:11:44.757599100Z"
    }
   },
   "outputs": [
    {
     "name": "stdout",
     "output_type": "stream",
     "text": [
      "Оценка по методу моментов =  0.7\n"
     ]
    }
   ],
   "source": [
    "lambda_param=0\n",
    "for i in x:\n",
    "    lambda_param+=i\n",
    "lambda_param=lambda_param/N\n",
    "print(\"Оценка по методу моментов = \", round(lambda_param, 3))"
   ]
  },
  {
   "cell_type": "markdown",
   "id": "36537b901d39673d",
   "metadata": {},
   "source": [
    "#### Пункт d: построить асимптотический доверительный интервал уровня значимости $\\alpha_1$ для параметра $\\lambda$\n",
    "1. Построение АДИ на базе ОМП <br>\n",
    "$\\sqrt{n}\\left( \\widehat{\\theta}(\\overrightarrow{X})-\\theta \\right)\\sim N\\left( 0, \\frac{1}{I(\\theta)} \\right)$<br>\n",
    "$\\widehat\\theta=\\lambda=\\overline x$ - ОМП<br>\n",
    "Информация Фишера: \n",
    "$I_n(\\lambda)=-\\mathbb{E}_\\theta\\frac{\\partial{LL^2}}{\\partial\\lambda^2}=\\mathbb{E}_\\theta\\frac1{\\lambda^2}\\overset n{\\underset{i=1}{\\sum x_i}}=\\frac1{\\lambda^2}\\overset n{\\underset{i=1}{\\sum \\mathbb{E}_\\theta x_i}}=\\frac{n\\lambda}{\\lambda^2}=\\frac n\\lambda$<br>\n",
    "$I(\\lambda)=\\underset{n\\rightarrow\\infty}{\\lim\\;\\frac{I_n(\\lambda)}n}=\\frac1\\lambda$<br>\n",
    "Выбрать $x_\\alpha:\\;\\Phi(x_\\alpha)=1-\\frac\\alpha2=0.95$<br>\n",
    "$P_\\lambda\\left(\\widehat\\theta-\\frac{x_\\alpha}{\\sqrt{nI(\\widehat\\theta)}}\\leq\\lambda\\leq\\widehat\\theta+\\frac{x_\\alpha}{\\sqrt{nI(\\widehat\\theta)}}\\right)\\approx1-\\alpha$<br>\n",
    "$P_\\lambda\\left(\\overline x-\\frac{x_\\alpha}{\\sqrt{\\frac n{\\overline x}}}\\leq\\lambda\\leq\\overline x+\\frac{x_\\alpha}{\\sqrt{\\frac n{\\overline x}}}\\right)\\approx0.9$<br>"
   ]
  },
  {
   "cell_type": "code",
   "execution_count": 293,
   "id": "4d337c4521cee98a",
   "metadata": {
    "ExecuteTime": {
     "end_time": "2023-12-06T18:11:45.751552400Z",
     "start_time": "2023-12-06T18:11:44.760102Z"
    }
   },
   "outputs": [
    {
     "name": "stdout",
     "output_type": "stream",
     "text": [
      "АДИ на базе ОМП: λ от  0.505 до  0.895  с доверительной точностью  0.9\n"
     ]
    }
   ],
   "source": [
    "x_alpha = stats.norm.ppf(1-alpha/2)\n",
    "lambda_min = Ex - x_alpha/sqrt(N/Ex)\n",
    "lambda_max = Ex + x_alpha/sqrt(N/Ex)\n",
    "print(\"АДИ на базе ОМП: λ от \",round(lambda_min, 3),\"до \", round(lambda_max,3), \" с доверительной точностью \",1-alpha)"
   ]
  },
  {
   "cell_type": "markdown",
   "id": "c079d5d3a3850a9b",
   "metadata": {},
   "source": [
    "2. Построение АДИ на базе асимптотической нормальности\n",
    "$\\sqrt n\\left(\\widehat\\theta(x)-\\theta\\right)\\sim N\\left(0,\\;\\sigma^2(\\theta)\\right)$<br>\n",
    "Так как в распределении Пуассона $\\mathbb{D}_{\\theta} = \\lambda$, тогда:<br><br>\n",
    "$\\sqrt{n}\\frac{\\overline x-\\lambda}\\sqrt{\\lambda}\\sim N\\left(0,1\\right)$<br>\n",
    "Выбрать $x_\\alpha:\\;\\Phi(x_\\alpha)=1-\\frac\\alpha2=0.95$<br>\n",
    "$P_\\lambda\\left(-x_\\alpha\\leq\\sqrt n\\frac{\\overline x-\\lambda}{\\sqrt{\\lambda}}\\leq x_\\alpha\\right)\\approx1-\\alpha$<br>\n",
    "Подставить $\\lambda=\\overline x $:<br>\n",
    "$P_\\lambda\\left(\\overline x-\\frac{x_\\alpha \\sqrt{\\overline x}}{\\sqrt n}\\leq\\lambda\\leq\\overline x+\\frac{x_\\alpha \\sqrt{\\overline x}}{\\sqrt n}\\right)\\approx0.9$<br>"
   ]
  },
  {
   "cell_type": "code",
   "execution_count": 294,
   "id": "bde9c64299367371",
   "metadata": {
    "ExecuteTime": {
     "end_time": "2023-12-06T18:11:45.751552400Z",
     "start_time": "2023-12-06T18:11:44.767412400Z"
    }
   },
   "outputs": [
    {
     "name": "stdout",
     "output_type": "stream",
     "text": [
      "АДИ на базе асимптотической нормальности: λ от  0.505 до  0.895  с доверительной точностью  0.9\n"
     ]
    }
   ],
   "source": [
    "lambda_min_an = Ex - x_alpha*sqrt(Ex)/sqrt(N)\n",
    "lambda_max_an = Ex + x_alpha*sqrt(Ex)/sqrt(N)\n",
    "print(\"АДИ на базе асимптотической нормальности: λ от \",round(lambda_min_an, 3),\"до \", round(lambda_max_an,3), \" с доверительной точностью \",1-alpha)"
   ]
  },
  {
   "cell_type": "markdown",
   "id": "8d095d3feab33296",
   "metadata": {},
   "source": [
    "#### Пункт e: используя гистограмму частот, построить критерий значимости $\\chi^2$ проверки простой гипотезы согласия с распределением Пуассона с параметром $\\lambda_0$. Проверить гипотезу на уровне значимости $\\alpha_1$. Вычислить наибольшее значение уровня значимости, на котором ещё нет оснований отвергнуть данную гипотезу"
   ]
  },
  {
   "cell_type": "code",
   "execution_count": 295,
   "id": "8ebf825068b984e",
   "metadata": {
    "ExecuteTime": {
     "end_time": "2023-12-06T18:11:45.756536300Z",
     "start_time": "2023-12-06T18:11:44.771394100Z"
    }
   },
   "outputs": [
    {
     "name": "stdout",
     "output_type": "stream",
     "text": [
      "Частоты\n",
      "       0   1  2  3\n",
      "x(i)   0   1  2  3\n",
      "n(i)  24  19  5  2\n"
     ]
    }
   ],
   "source": [
    "frq = pd.DataFrame({'x(i)': xi, 'n(i)': ni}).T\n",
    "print(\"Частоты\")\n",
    "print(frq)"
   ]
  },
  {
   "cell_type": "markdown",
   "id": "ce2ea52e8ec71a2f",
   "metadata": {},
   "source": [
    "$I_1$ = [0] - 1 группа<br>\n",
    "$I_2$ = [1] - 2 группа<br>\n",
    "$I_3$ = [2, 3] - 3 группа<br>\n",
    "$P_i=P_{H0}=P\\left(X\\in I_i\\right)={\\textstyle\\underset{k\\in I_i}{\\sum{\\displaystyle\\frac{\\lambda_0^k}{k!}}exp(-\\lambda_0)}}$<br>\n",
    "Критерий $\\chi^2:\\;{\\chi^2}_{sel}={\\textstyle\\sum_{i=1}^m}\\;\\frac{\\left(n_i-nP_i\\right)^2}{nP_i}$ где m=3 - количество групп<br>"
   ]
  },
  {
   "cell_type": "code",
   "execution_count": 296,
   "id": "fc036b4fc8a67873",
   "metadata": {
    "ExecuteTime": {
     "end_time": "2023-12-06T18:11:45.756536300Z",
     "start_time": "2023-12-06T18:11:44.782374100Z"
    }
   },
   "outputs": [
    {
     "name": "stdout",
     "output_type": "stream",
     "text": [
      "Критерий X^2 наблюдаемый =  0.2123\n",
      "Значение X^2 при уровне значимости  0.1 и 2 степенях свободы =  4.6052\n"
     ]
    }
   ],
   "source": [
    "def factorial(n):\n",
    "    result = 1\n",
    "    for i in range(1, n + 1):\n",
    "        result *= i\n",
    "    return result\n",
    "\n",
    "def Puasson(lambda_param,k):\n",
    "    return lambda_param**k/factorial(k)*np.exp(-lambda_param)\n",
    "\n",
    "def merge_arrays(P,N_i,index, merge_index):\n",
    "    P[merge_index]+=P[index]\n",
    "    N_i[merge_index]+=N_i[index]\n",
    "    del P[index]\n",
    "    del N_i[index]\n",
    "    return P, N_i\n",
    "\n",
    "P=[]\n",
    "for k in xi:\n",
    "    P.append(Puasson(lambda_0, k))\n",
    "N_i = []\n",
    "for i in ni:\n",
    "    N_i.append(i)\n",
    "P, N_i = merge_arrays(P, N_i, 3, 2)\n",
    "criteria = 0\n",
    "for i in range(0, len(P)):\n",
    "    criteria += ((N_i[i] - N*P[i])**2)/(N*P[i])\n",
    "print('Критерий X^2 наблюдаемый = ', round(criteria,4))\n",
    "chi_value = stats.chi2.ppf(1-alpha, len(P)-1)\n",
    "print('Значение X^2 при уровне значимости ',alpha, 'и', len(P)-1, 'степенях свободы = ' ,round(chi_value,4))"
   ]
  },
  {
   "cell_type": "markdown",
   "id": "639044144628f14d",
   "metadata": {},
   "source": [
    "Так как $\\chi^2<=\\chi_{2;0.1}^2$ то по критерию Пирсона нет оснований отвергать гипотезу"
   ]
  },
  {
   "cell_type": "code",
   "execution_count": 297,
   "id": "21b9646d0b08ee26",
   "metadata": {
    "ExecuteTime": {
     "end_time": "2023-12-06T18:11:45.761533100Z",
     "start_time": "2023-12-06T18:11:44.786365900Z"
    }
   },
   "outputs": [
    {
     "name": "stdout",
     "output_type": "stream",
     "text": [
      "Наибольшее значение уровня значимости при котором нет оснований отвергнуть данную гипотезу: alpha =  0.8993\n"
     ]
    }
   ],
   "source": [
    "pvalue = stats.chi2.cdf(criteria, len(P)-1)\n",
    "print('Наибольшее значение уровня значимости при котором нет оснований отвергнуть данную гипотезу: alpha = ',1-round(pvalue,5))"
   ]
  },
  {
   "cell_type": "markdown",
   "id": "b77e771d872f79dc",
   "metadata": {},
   "source": [
    "#### Пункт f: построить критерий значимости $\\chi^2$ проверки сложной гипотезы согласия с распределением Пуассона. Проверить гипотезу по уровню значимости $\\alpha_1$. Вычислить наибольшее значение уровня значимости, на котором ещё нет оснований отвергнуть данную гипотезу\n",
    "$I_1$ = [0] - 1 группа<br>\n",
    "$I_2$ = [1] - 2 группа<br>\n",
    "$I_3$ = [2, 3] - 3 группа<br>\n",
    "$P_i=P_{H0}=P\\left(X\\in I_i\\right)={\\textstyle\\underset{k\\in I_i}{\\sum{\\displaystyle\\frac{\\overline x^k}{k!}}exp(-\\overline x)}}$<br>\n",
    "Критерий $\\chi^2:\\;{\\chi^2}_{sel}={\\textstyle\\sum_{i=1}^m}\\;\\frac{\\left(n_i-nP_i\\right)^2}{nP_i}$ где m=3 - количество групп<br>"
   ]
  },
  {
   "cell_type": "code",
   "execution_count": 298,
   "id": "c1baa9206bc48335",
   "metadata": {
    "ExecuteTime": {
     "end_time": "2023-12-06T18:11:45.767513100Z",
     "start_time": "2023-12-06T18:11:44.791551200Z"
    }
   },
   "outputs": [
    {
     "name": "stdout",
     "output_type": "stream",
     "text": [
      "Критерий X^2 наблюдаемый =  0.2123\n",
      "Значение X^2 при уровне значимости  0.1 и 1 степенях свободы =  2.7055\n"
     ]
    }
   ],
   "source": [
    "P=[]\n",
    "for k in xi:\n",
    "    P.append(Puasson(Ex, k))\n",
    "N_i = []\n",
    "for i in ni:\n",
    "    N_i.append(i)\n",
    "P, N_i = merge_arrays(P, N_i, 3, 2)\n",
    "criteria = 0\n",
    "for i in range(0, len(P)):\n",
    "    criteria += ((N_i[i] - N*P[i])**2)/(N*P[i])\n",
    "print('Критерий X^2 наблюдаемый = ', round(criteria,4))\n",
    "chi_value = stats.chi2.ppf(1-alpha, len(P)-2)\n",
    "print('Значение X^2 при уровне значимости ',alpha, 'и', len(P)-2, 'степенях свободы = ' ,round(chi_value,4))"
   ]
  },
  {
   "cell_type": "markdown",
   "id": "50ff5b59ca1b3425",
   "metadata": {},
   "source": [
    "Так как $\\chi^2<=\\chi_{1;0.1}^2$ то по критерию Пирсона нет оснований отвергать гипотезу"
   ]
  },
  {
   "cell_type": "code",
   "execution_count": 299,
   "id": "4d035634ced6cb08",
   "metadata": {
    "ExecuteTime": {
     "end_time": "2023-12-06T18:11:45.767513100Z",
     "start_time": "2023-12-06T18:11:44.798254500Z"
    }
   },
   "outputs": [
    {
     "name": "stdout",
     "output_type": "stream",
     "text": [
      "Наибольшее значение уровня значимости при котором нет оснований отвергнуть данную гипотезу: alpha =  0.645\n"
     ]
    }
   ],
   "source": [
    "pvalue = stats.chi2.cdf(criteria, len(P)-2)\n",
    "print('Наибольшее значение уровня значимости при котором нет оснований отвергнуть данную гипотезу: alpha = ',round(1-pvalue,3))"
   ]
  },
  {
   "cell_type": "markdown",
   "source": [
    "#### Пункт g: построить наиболее мощный критерий проверки простой гипотезы пуассоновости с параметром $\\lambda = \\lambda_0$ при альтернативе пуассоновости с параметром $\\lambda = \\lambda_1$. Проверить гипотезу на уровне значимости $\\alpha_1$. Что получится, если поменять местами основную и альтернативную гипотезы\n",
    "$H_0: \\lambda=\\lambda_0$ - основная гипотеза<br>\n",
    "$H_1: \\lambda=\\lambda_1$ - альтернативная гипотеза<br>\n",
    "$\\lambda_0=0.7 ; \\lambda_1=2.8$<br>\n",
    "$L(\\overrightarrow x,\\theta)=\\lambda^\\overset n{\\underset{i=1}{\\sum x_i}}\\cdot\\prod_{i=1}^n\\frac1{x_i!}\\cdot\\exp{(-\\lambda n)}$ - функция правдоподобия<br>\n",
    "$LR\\left(\\overrightarrow x,\\lambda_0,\\lambda_1\\right)=\\frac{L\\left(\\overrightarrow x,\\lambda_1\\right)}{L\\left(\\overrightarrow x,\\lambda_0\\right)}=\\left(\\frac{\\lambda_1}{\\lambda_0}\\right)^{\\textstyle\\overset n{\\underset{i=1}{\\sum x_i}}}\\exp\\left(-n(\\lambda_1-\\lambda_0)\\right)$ - статистика отношения правдоподобия - монотонная функция от МДС $\\textstyle\\overset n{\\underset{i=1}{\\sum x_i}}$<br>\n",
    "$\\textstyle\\ln\\left(LR\\right)=\\overset n{\\underset{i=1}{\\sum x_i}}\\ln\\left({\\displaystyle\\frac{\\lambda_1}{\\lambda_0}}\\right)-n\\left(\\lambda_1-\\lambda_0\\right)>\\ln(c)$<br>\n",
    "$\\overline x>\\frac{\\ln\\left(c\\right)+n\\left(\\lambda_1-\\lambda_0\\right)}{n\\ln\\left({\\displaystyle\\frac{\\lambda_1}{\\lambda_0}}\\right)}=c^\\ast$<br>\n",
    "Так как $LR\\left(\\overrightarrow x,\\lambda_0,\\lambda_1\\right)$ монотонна относительно $\\overline x$ то:<br>\n",
    "$LR\\left(\\overrightarrow x,\\lambda_0,\\lambda_1\\right)<c\\Leftrightarrow\\overline x<c^\\ast$<br>\n",
    "$\\varphi\\left(x\\right)=\\left\\{\\begin{array}{l}1,\\overline x<c^\\ast\\\\ p,\\overline x=c^\\ast\\\\0,\\overline x>c^\\ast\\end{array}\\right.$<br>\n",
    "$P_{\\lambda_0}\\left(LR>c^\\ast\\right)+pP_{\\lambda_0}\\left(nLR=c^\\ast\\right)=\\alpha$<br>\n",
    "$P_{\\lambda_0}\\left(n\\widehat x>nc^\\ast\\right)+pP_{\\lambda_0}\\left(n\\widehat x=c^\\ast\\right)=\\alpha$<br>\n",
    "При $LR\\left(\\overrightarrow x,\\lambda_0,\\lambda_1\\right)=c$ критерий не определен однозначно, тогда $LR\\left(\\overrightarrow x,\\lambda_0,\\lambda_1\\right)\\neq c$:<br>\n",
    "$P_{\\lambda_0}\\left(n\\overline x>nc^\\ast\\right)=1-F_{Pois(n\\lambda_0)}\\left(nc^\\ast\\right)=\\alpha$<br>\n",
    "$F_{Pois(n\\lambda_0)}\\left(nc^\\ast\\right)=1-\\alpha=0.9$<br>"
   ],
   "metadata": {
    "collapsed": false
   },
   "id": "66355815452220b1"
  },
  {
   "cell_type": "code",
   "execution_count": 300,
   "outputs": [
    {
     "name": "stdout",
     "output_type": "stream",
     "text": [
      "c* =  2.0\n"
     ]
    }
   ],
   "source": [
    "c_star=stats.poisson.ppf(1-alpha,lambda_0)\n",
    "print('c* = ',c_star)"
   ],
   "metadata": {
    "collapsed": false,
    "ExecuteTime": {
     "end_time": "2023-12-06T18:11:45.783464800Z",
     "start_time": "2023-12-06T18:11:44.802081200Z"
    }
   },
   "id": "7a8813b13758f20a"
  },
  {
   "cell_type": "markdown",
   "source": [
    "Так как $\\overline x < c^\\ast$ принимаем гипотезу $H_0$<br>\n",
    "Поменяем местами гипотезы $H_0$ и $H_1$:<br>\n",
    "$LR\\left(\\overrightarrow x,\\lambda_1,\\lambda_0\\right)=\\frac{L\\left(\\overrightarrow x,\\lambda_0\\right)}{L\\left(\\overrightarrow x,\\lambda_1\\right)}=\\left(\\frac{\\lambda_0}{\\lambda_1}\\right)^{\\textstyle\\overset n{\\underset{i=1}{\\sum x_i}}}\\exp\\left(-n(\\lambda_0-\\lambda_1)\\right)$ - статистика отношения правдоподобия - монотонная функция от МДС $\\textstyle\\overset n{\\underset{i=1}{\\sum x_i}}$<br>\n",
    "$\\overline x>\\frac{\\ln\\left(c\\right)+n\\left(\\lambda_0-\\lambda_1\\right)}{n\\ln\\left({\\displaystyle\\frac{\\lambda_0}{\\lambda_1}}\\right)}=c^\\ast$<br>\n",
    "$P_{\\lambda_1}\\left(LR>c^\\ast\\right)+pP_{\\lambda_1}\\left(nLR=c^\\ast\\right)=\\alpha$<br>\n",
    "$P_{\\lambda_1}\\left(n\\widehat x>nc^\\ast\\right)+pP_{\\lambda_1}\\left(n\\widehat x=c^\\ast\\right)=\\alpha$<br>\n",
    "При $LR\\left(\\overrightarrow x,\\lambda_1,\\lambda_0\\right)=c$ критерий не определен однозначно, тогда $LR\\left(\\overrightarrow x,\\lambda_1,\\lambda_0\\right)\\neq c$:<br>\n",
    "$P_{\\lambda_1}\\left(n\\overline x>nc^\\ast\\right)=1-F_{Pois(n\\lambda_1)}\\left(nc^\\ast\\right)=\\alpha$<br>\n",
    "$F_{Pois(n\\lambda_1)}\\left(nc^\\ast\\right)=1-\\alpha=0.9$<br>"
   ],
   "metadata": {
    "collapsed": false
   },
   "id": "d0a9901066aee1b0"
  },
  {
   "cell_type": "code",
   "execution_count": 301,
   "outputs": [
    {
     "name": "stdout",
     "output_type": "stream",
     "text": [
      "c* =  5.0\n"
     ]
    }
   ],
   "source": [
    "c_star=stats.poisson.ppf(1-alpha,lambda_1)\n",
    "print('c* = ',c_star)"
   ],
   "metadata": {
    "collapsed": false,
    "ExecuteTime": {
     "end_time": "2023-12-06T18:11:45.784462800Z",
     "start_time": "2023-12-06T18:11:44.809834100Z"
    }
   },
   "id": "a57851ad8ef4cf24"
  },
  {
   "cell_type": "markdown",
   "source": [
    "Так как $\\overline x < c^\\ast$ принимаем гипотезу $H_1$<br>"
   ],
   "metadata": {
    "collapsed": false
   },
   "id": "50a78270234470c0"
  },
  {
   "cell_type": "markdown",
   "source": [
    "#### Пункт h: в пунктах (c)-(f) заменить семейство распределений Пуассона на семейство геометрических распределений\n",
    "$P_\\lambda(X=k)=\\frac{\\lambda^k}{{(\\lambda+1)}^{k+1}}$ - геометрическое распределение<br>\n",
    "##### Подпункт c:\n",
    "Функция правдоподобия:<br>\n",
    "$L(\\overrightarrow x,\\theta)\\;=\\prod_{i=1}^n\\frac{\\lambda^{x_i}}{{(\\lambda+1)}^{x_i+1}}=\\frac{\\lambda^\\overset n{\\underset{i=1}{\\sum x_i}}}{{(\\lambda+1)}^{\\overset n{\\underset{i=1}{\\sum x_i}}+n}}$<br>\n",
    "Логарифмическая функция правдоподобия:<br>\n",
    "$LL(\\overrightarrow x,\\theta)\\;={\\textstyle\\overset n{\\underset{i=1}{\\sum x_i}}}\\ln\\left(\\lambda\\right)-\\left({\\textstyle\\overset n{\\underset{i=1}{\\sum x_i}}}+n\\right)\\ln\\left(\\lambda+1\\right)$<br>\n",
    "$\\frac{\\partial{LL(\\overrightarrow x,\\theta)}}{\\partial\\lambda}=\\frac{\\overset n{\\underset{i=1}{\\sum x_i}}}\\lambda-\\frac{\\overset n{\\underset{i=1}{\\sum x_i}}+n}{\\lambda+1}=0$<br>\n",
    "${\\textstyle\\overset n{\\underset{i=1}{\\lambda\\sum x_i}}}+{\\textstyle\\overset n{\\underset{i=1}{\\sum x_i}}}=\\lambda{\\textstyle\\overset n{\\underset{i=1}{\\sum x_i}}}+\\lambda n$<br>\n",
    "$\\widehat\\theta=\\lambda=\\frac1n\\overset n{\\underset{i=1}{\\sum x_i}}$ - ОМП<br>\n"
   ],
   "metadata": {
    "collapsed": false
   },
   "id": "4b42fd573b8519c"
  },
  {
   "cell_type": "code",
   "execution_count": 302,
   "id": "2ffb837b8376fc53",
   "metadata": {
    "ExecuteTime": {
     "end_time": "2023-12-06T18:11:45.784462800Z",
     "start_time": "2023-12-06T18:11:44.813356400Z"
    }
   },
   "outputs": [
    {
     "name": "stdout",
     "output_type": "stream",
     "text": [
      "Оценка максимального правдоподобия =  0.7\n"
     ]
    }
   ],
   "source": [
    "print(\"Оценка максимального правдоподобия = \", round(1/N*sum(x), 3))"
   ]
  },
  {
   "cell_type": "markdown",
   "id": "2b5cbfec853532d2",
   "metadata": {},
   "source": [
    "$P_p(X=k)=p\\left(1-p\\right)^k$ - формула плотности геометрического распределения. Заданную плотность можно представить в таком виде подставив $p=\\frac1{\\lambda+1}$, тогда $\\lambda=\\frac{1-p}p$<br>\n",
    "Выражение мат. ожидания и дисперсии геометрического распределения через $\\lambda$:<br>\n",
    "$\\mathbb{E}_\\theta x=\\frac{1-p}p=\\lambda$ - мат ожидание<br>\n",
    "$\\mathbb{D}_\\theta x=\\frac{1-p}{p^2}=\\lambda\\left(\\lambda+1\\right)$ - дисперсия<br>\n",
    "$L(\\overrightarrow x,\\theta)\\;=\\prod_{i=1}^n\\frac{\\lambda^{x_i}}{{(\\lambda+1)}^{x_i+1}}=\\frac{\\lambda^\\overset n{\\underset{i=1}{\\sum x_i}}}{{(\\lambda+1)}^{\\overset n{\\underset{i=1}{\\sum x_i}}+n}}$<br>\n",
    "$g(T)=\\frac{\\lambda^\\overset n{\\underset{i=1}{\\sum x_i}}}{{(\\lambda+1)}^{\\overset n{\\underset{i=1}{\\sum x_i}}+n}}$<br>\n",
    "$h(x)=1$<br>\n",
    "$T=\\overset n{\\underset{i=1}{\\sum x_i}}$ - МДС. Тк геометрическое распределение принадлежит к семейству экспоненциальных, то МДС является ПДС<br>\n",
    "НРМД: <br>\n",
    "$\\mathbb{E}_\\theta\\widehat\\theta=\\mathbb{E}_\\theta\\frac1n\\overset n{\\underset{i=1}{\\sum x_i}}=\\frac1n\\overset n{\\underset{i=1}{\\sum \\mathbb{E}_\\theta x_i}}=\\frac1n\\overset n{\\underset{i=1}{\\sum \\mathbb{E}_\\theta x_1}}=\\frac1n\\overset n{\\underset{i=1}{\\sum\\lambda}}=\\lambda$ - оценка несмещенная"
   ]
  },
  {
   "cell_type": "markdown",
   "id": "4fc51aaa451fd817",
   "metadata": {},
   "source": [
    "Метод моментов:<br>\n",
    "Параметр λ для геометрического распределения – мат. ожидание,которое по методу моментов оценивается первым выборочным моментом:<br>\n",
    "$\\lambda = \\overline x_{выб} = \\frac{1}{n} \\sum\\limits_{i=1}^n x_i$"
   ]
  },
  {
   "cell_type": "code",
   "execution_count": 303,
   "id": "85463abf380d861c",
   "metadata": {
    "ExecuteTime": {
     "end_time": "2023-12-06T18:11:45.789448800Z",
     "start_time": "2023-12-06T18:11:44.817634500Z"
    }
   },
   "outputs": [
    {
     "name": "stdout",
     "output_type": "stream",
     "text": [
      "Оценка по методу моментов =  0.7\n"
     ]
    }
   ],
   "source": [
    "lambda_param=0\n",
    "for i in x:\n",
    "    lambda_param+=i\n",
    "lambda_param=lambda_param/N\n",
    "print(\"Оценка по методу моментов = \", round(lambda_param, 3))"
   ]
  },
  {
   "cell_type": "markdown",
   "id": "f5e64cd1ef7d84",
   "metadata": {},
   "source": [
    "##### Подпункт d:\n",
    "1. Построение АДИ на базе ОМП <br>\n",
    "$\\sqrt{n}\\left( \\widehat{\\theta}(\\overrightarrow{X})-\\theta \\right)\\sim N\\left( 0, \\frac{1}{I(\\theta)} \\right)$<br>\n",
    "$\\widehat\\theta=\\lambda=\\overline x$ - ОМП<br>\n",
    "Информация Фишера: \n",
    "$I_n(\\lambda)=-\\mathbb{E}_\\theta\\frac{\\partial{LL^2}}{\\partial\\lambda^2}=-\\mathbb{E}_\\theta\\frac{\\overset n{\\underset{i=1}{\\sum x_i}}+n}{{(\\lambda+1)}^2}-\\frac{\\overset n{\\underset{i=1}{\\sum x_i}}}{\\lambda^2}=\\frac{\\overset n{\\underset{i=1}{\\sum \\mathbb{E}_\\theta x_i}}}{\\lambda^2}-\\frac{\\overset n{\\underset{i=1}{\\sum \\mathbb{E}_\\theta x_i}}+n}{{(\\lambda+1)}^2}=\\frac n\\lambda-\\frac n{\\lambda+1}$<br>\n",
    "$I(\\lambda)=\\underset{n\\rightarrow\\infty}{\\lim\\;\\frac{I_n(\\lambda)}n}=\\frac1\\lambda-\\frac1{\\lambda+1}$<br>\n",
    "Выбрать $x_\\alpha:\\;\\Phi(x_\\alpha)=1-\\frac\\alpha2=0.95$<br>\n",
    "$P_\\lambda\\left(\\widehat\\theta-\\frac{x_\\alpha}{\\sqrt{nI(\\widehat\\theta)}}\\leq\\lambda\\leq\\widehat\\theta+\\frac{x_\\alpha}{\\sqrt{nI(\\widehat\\theta)}}\\right)\\approx1-\\alpha$<br>\n",
    "$P_\\lambda\\left(\\overline x-\\frac{x_\\alpha}{\\sqrt{\\frac n{\\overline x}-\\frac n{\\overline x+1}}}\\leq\\lambda\\leq\\overline x+\\frac{x_\\alpha}{\\sqrt{\\frac n{\\overline x}-\\frac n{\\overline x+1}}}\\right)\\approx0.9$<br>"
   ]
  },
  {
   "cell_type": "code",
   "execution_count": 304,
   "id": "65f1052a6a02933c",
   "metadata": {
    "ExecuteTime": {
     "end_time": "2023-12-06T18:11:45.789448800Z",
     "start_time": "2023-12-06T18:11:44.821426300Z"
    }
   },
   "outputs": [
    {
     "name": "stdout",
     "output_type": "stream",
     "text": [
      "АДИ на базе ОМП: λ от  0.446 до  0.954  с доверительной точностью  0.9\n"
     ]
    }
   ],
   "source": [
    "x_alpha = stats.norm.ppf(1-alpha/2)\n",
    "lambda_min = Ex - x_alpha/sqrt(N/Ex-N/(Ex+1))\n",
    "lambda_max = Ex + x_alpha/sqrt(N/Ex-N/(Ex+1))\n",
    "print(\"АДИ на базе ОМП: λ от \",round(lambda_min, 3),\"до \", round(lambda_max,3), \" с доверительной точностью \",1-alpha)"
   ]
  },
  {
   "cell_type": "markdown",
   "id": "db1d80b0532ed89",
   "metadata": {},
   "source": [
    "2. Построение АДИ на базе асимптотической нормальности\n",
    "$\\sqrt{n}\\left(\\widehat\\theta(x)-\\theta\\right)\\sim N\\left(0,\\;\\sigma^2(\\theta)\\right)$<br>\n",
    "Так как в геометрическом распределении $\\mathbb{D}_{\\theta} = \\lambda(\\lambda+1)$, тогда:<br>\n",
    "$\\sqrt n\\frac{\\overline x-\\lambda}\\sqrt{\\lambda(\\lambda+1)}\\sim N\\left(0,1\\right)$<br>\n",
    "Выбрать $x_\\alpha:\\;\\Phi(x_\\alpha)=1-\\frac\\alpha2=0.95$<br>\n",
    "$P_\\lambda\\left(-x_\\alpha\\leq\\sqrt n\\frac{\\overline x-\\lambda}{\\sqrt{\\lambda(\\lambda+1)}}\\leq x_\\alpha\\right)\\approx1-\\alpha$<br>\n",
    "Подставить $\\lambda=\\overline x $:<br>\n",
    "$P_\\lambda\\left(\\overline x-\\frac{x_\\alpha \\sqrt{\\overline x(\\overline x+1)}}{\\sqrt n}\\leq\\lambda\\leq\\overline x+\\frac{x_\\alpha \\sqrt{\\overline x(\\overline x+1)}}{\\sqrt n}\\right)\\approx0.9$<br>"
   ]
  },
  {
   "cell_type": "code",
   "execution_count": 305,
   "id": "90306b805137ad8e",
   "metadata": {
    "ExecuteTime": {
     "end_time": "2023-12-06T18:11:45.789448800Z",
     "start_time": "2023-12-06T18:11:44.826575700Z"
    }
   },
   "outputs": [
    {
     "name": "stdout",
     "output_type": "stream",
     "text": [
      "АДИ на базе асимптотической нормальности: λ от  0.446 до  0.954  с доверительной точностью  0.9\n"
     ]
    }
   ],
   "source": [
    "lambda_min_an = Ex - x_alpha*sqrt(Ex*(Ex+1))/sqrt(N)\n",
    "lambda_max_an = Ex + x_alpha*sqrt(Ex*(Ex+1))/sqrt(N)\n",
    "print(\"АДИ на базе асимптотической нормальности: λ от \",round(lambda_min_an, 3),\"до \", round(lambda_max_an,3), \" с доверительной точностью \",1-alpha)"
   ]
  },
  {
   "cell_type": "markdown",
   "id": "c8512c560405cc3d",
   "metadata": {},
   "source": [
    "##### Подпункт e:\n",
    "$I_1$ = [0] - 1 группа<br>\n",
    "$I_2$ = [1] - 2 группа<br>\n",
    "$I_3$ = [2, 3] - 3 группа<br>\n",
    "$P_i=P_{H0}=P\\left(X\\in I_i\\right)=\\textstyle\\underset{k\\in I_i}{\\sum{\\displaystyle\\frac{\\lambda_0^k}{{(\\lambda_0+1)}^{k+1}}}}$<br>\n",
    "Критерий $\\chi^2:\\;{\\chi^2}_{sel}={\\textstyle\\sum_{i=1}^m}\\;\\frac{\\left(n_i-nP_i\\right)^2}{nP_i}$ где m=3 - количество групп<br>"
   ]
  },
  {
   "cell_type": "code",
   "execution_count": 306,
   "id": "72ffb38bd0f5ce3d",
   "metadata": {
    "ExecuteTime": {
     "end_time": "2023-12-06T18:11:45.789448800Z",
     "start_time": "2023-12-06T18:11:44.831575700Z"
    }
   },
   "outputs": [
    {
     "name": "stdout",
     "output_type": "stream",
     "text": [
      "Критерий X^2 наблюдаемый =  4.915\n",
      "Значение X^2 при уровне значимости  0.1 и 2 степенях свободы =  4.6052\n"
     ]
    }
   ],
   "source": [
    "def Geom(lambda_param,k):\n",
    "    return lambda_param**k/(lambda_param+1)**(k+1)\n",
    "\n",
    "P=[]\n",
    "for k in xi:\n",
    "    P.append(Geom(lambda_0, k))\n",
    "N_i = []\n",
    "for i in ni:\n",
    "    N_i.append(i)\n",
    "P, N_i = merge_arrays(P, N_i, 3, 2)\n",
    "criteria = 0\n",
    "for i in range(0, len(P)):\n",
    "    criteria += ((N_i[i] - N*P[i])**2)/(N*P[i])\n",
    "print('Критерий X^2 наблюдаемый = ', round(criteria,4))\n",
    "chi_value = stats.chi2.ppf(1-alpha, len(P)-1)\n",
    "print('Значение X^2 при уровне значимости ',alpha, 'и', len(P)-1, 'степенях свободы = ' ,round(chi_value,4))"
   ]
  },
  {
   "cell_type": "markdown",
   "id": "a9c66434ec140f29",
   "metadata": {},
   "source": [
    "Так как $\\chi^2>\\chi_{2;0.1}^2$ то по критерию Пирсона гипотеза отвергается"
   ]
  },
  {
   "cell_type": "code",
   "execution_count": 307,
   "id": "265880f8a0d520ee",
   "metadata": {
    "ExecuteTime": {
     "end_time": "2023-12-06T18:11:45.800419700Z",
     "start_time": "2023-12-06T18:11:44.840485200Z"
    }
   },
   "outputs": [
    {
     "name": "stdout",
     "output_type": "stream",
     "text": [
      "Наибольшее значение уровня значимости при котором нет оснований отвергнуть данную гипотезу: alpha =  0.08565\n"
     ]
    }
   ],
   "source": [
    "pvalue = stats.chi2.cdf(criteria, len(P)-1)\n",
    "print('Наибольшее значение уровня значимости при котором нет оснований отвергнуть данную гипотезу: alpha = ',1-round(pvalue,5))"
   ]
  },
  {
   "cell_type": "markdown",
   "id": "d58cce11da3a361e",
   "metadata": {},
   "source": [
    "##### Подпункт f:\n",
    "$I_1$ = [0] - 1 группа<br>\n",
    "$I_2$ = [1] - 2 группа<br>\n",
    "$I_3$ = [2, 3] - 3 группа<br>\n",
    "$P_i=P_{H0}=P\\left(X\\in I_i\\right)=\\textstyle\\underset{k\\in I_i}{\\sum{\\displaystyle\\frac{\\overline x^k}{{(\\overline x+1)}^{k+1}}}}$<br>\n",
    "Критерий $\\chi^2:\\;{\\chi^2}_{sel}={\\textstyle\\sum_{i=1}^m}\\;\\frac{\\left(n_i-nP_i\\right)^2}{nP_i}$ где m=3 - количество групп<br>"
   ]
  },
  {
   "cell_type": "code",
   "execution_count": 308,
   "id": "a5884c77aea5094f",
   "metadata": {
    "ExecuteTime": {
     "end_time": "2023-12-06T18:11:45.801418700Z",
     "start_time": "2023-12-06T18:11:44.847458400Z"
    }
   },
   "outputs": [
    {
     "name": "stdout",
     "output_type": "stream",
     "text": [
      "Критерий X^2 наблюдаемый =  4.915\n",
      "Значение X^2 при уровне значимости  0.1 и 1 степенях свободы =  2.7055\n"
     ]
    }
   ],
   "source": [
    "P=[]\n",
    "for k in xi:\n",
    "    P.append(Geom(Ex, k))\n",
    "N_i = []\n",
    "for i in ni:\n",
    "    N_i.append(i)\n",
    "P, N_i = merge_arrays(P, N_i, 3, 2)\n",
    "criteria = 0\n",
    "for i in range(0, len(P)):\n",
    "    criteria += ((N_i[i] - N*P[i])**2)/(N*P[i])\n",
    "print('Критерий X^2 наблюдаемый = ', round(criteria,4))\n",
    "chi_value = stats.chi2.ppf(1-alpha, len(P)-2)\n",
    "print('Значение X^2 при уровне значимости ',alpha, 'и', len(P)-2, 'степенях свободы = ' ,round(chi_value,4))"
   ]
  },
  {
   "cell_type": "markdown",
   "id": "86c4617d7c50be4e",
   "metadata": {},
   "source": [
    "Так как $\\chi^2>\\chi_{1;0.1}^2$ то по критерию Пирсона гипотеза отвергается"
   ]
  },
  {
   "cell_type": "code",
   "execution_count": 309,
   "id": "c23ee6338eb26f56",
   "metadata": {
    "ExecuteTime": {
     "end_time": "2023-12-06T18:11:45.801418700Z",
     "start_time": "2023-12-06T18:11:44.850956100Z"
    }
   },
   "outputs": [
    {
     "name": "stdout",
     "output_type": "stream",
     "text": [
      "Наибольшее значение уровня значимости при котором нет оснований отвергнуть данную гипотезу: alpha =  0.027\n"
     ]
    }
   ],
   "source": [
    "pvalue = stats.chi2.cdf(criteria, len(P)-2)\n",
    "print('Наибольшее значение уровня значимости при котором нет оснований отвергнуть данную гипотезу: alpha = ',round(1-pvalue,3))"
   ]
  },
  {
   "cell_type": "markdown",
   "id": "6d4af5f986544591",
   "metadata": {},
   "source": [
    "### Задание 2"
   ]
  },
  {
   "cell_type": "code",
   "execution_count": 310,
   "id": "8295dd53f98604ac",
   "metadata": {
    "ExecuteTime": {
     "end_time": "2023-12-06T18:11:45.813385Z",
     "start_time": "2023-12-06T18:11:44.856726Z"
    }
   },
   "outputs": [],
   "source": [
    "x = [5.064, 4.772, 4.186 ,7.122, 5.467, 5.947, 3.760, 3.592, 4.518, 5.480, 6.782, 6.490 ,3.193, 5.372 ,3.922, 4.182, 5.780, 3.546, 5.856, 5.749, 4.402,\n",
    "     6.936, 4.551 ,4.611, 6.298, 5.995, 4.846, 5.503, 4.320, 5.164, 5.700 ,5.099, 5.737, 5.412, 5.225 ,4.719 ,2.239, 4.366, 3.917, 5.846, 4.050 ,5.243,\n",
    "     5.624, 4.949, 4.946, 4.919, 6.006, 5.209 ,4.381, 3.174]\n",
    "N=len(x)\n",
    "h = 0.4\n",
    "c = 4.6\n",
    "d = 6\n",
    "a_0 = 3\n",
    "sigma_0 = 1\n",
    "a_1 = 5\n",
    "sigma_1 = 1"
   ]
  },
  {
   "cell_type": "markdown",
   "id": "ccf78b145a5bc53d",
   "metadata": {},
   "source": [
    "#### Пункт a: построить вариционный ряд, эмпирическую функцию распределения,гистограмму и полигон частотс шагом h"
   ]
  },
  {
   "cell_type": "code",
   "execution_count": 311,
   "id": "a23c37455117588b",
   "metadata": {
    "ExecuteTime": {
     "end_time": "2023-12-06T18:11:45.910167600Z",
     "start_time": "2023-12-06T18:11:44.863627Z"
    }
   },
   "outputs": [
    {
     "name": "stdout",
     "output_type": "stream",
     "text": [
      "Вариационный ряд:  [2.239 3.174 3.193 3.546 3.592 3.76  3.917 3.922 4.05  4.182 4.186 4.32\n",
      " 4.366 4.381 4.402 4.518 4.551 4.611 4.719 4.772 4.846 4.919 4.946 4.949\n",
      " 5.064 5.099 5.164 5.209 5.225 5.243 5.372 5.412 5.467 5.48  5.503 5.624\n",
      " 5.7   5.737 5.749 5.78  5.846 5.856 5.947 5.995 6.006 6.298 6.49  6.782\n",
      " 6.936 7.122]\n",
      "Плотность относительной частоты\n",
      "         0      1      2      3      4     5      6      7     8      9   ...  \\\n",
      "x(i)  2.239  3.174  3.193  3.546  3.592  3.76  3.917  3.922  4.05  4.182  ...   \n",
      "p(i)  0.020  0.020  0.020  0.020  0.020  0.02  0.020  0.020  0.02  0.020  ...   \n",
      "\n",
      "         40     41     42     43     44     45    46     47     48     49  \n",
      "x(i)  5.846  5.856  5.947  5.995  6.006  6.298  6.49  6.782  6.936  7.122  \n",
      "p(i)  0.020  0.020  0.020  0.020  0.020  0.020  0.02  0.020  0.020  0.020  \n",
      "\n",
      "[2 rows x 50 columns]\n",
      "Эмпирическая функция распределения\n",
      "         0      1      2      3      4     5      6      7     8      9   ...  \\\n",
      "x(i)  2.239  3.174  3.193  3.546  3.592  3.76  3.917  3.922  4.05  4.182  ...   \n",
      "F(i)  0.000  0.020  0.040  0.060  0.080  0.10  0.120  0.140  0.16  0.180  ...   \n",
      "\n",
      "         40     41     42     43     44     45    46     47     48     49  \n",
      "x(i)  5.846  5.856  5.947  5.995  6.006  6.298  6.49  6.782  6.936  7.122  \n",
      "F(i)  0.800  0.820  0.840  0.860  0.880  0.900  0.92  0.940  0.960  0.980  \n",
      "\n",
      "[2 rows x 50 columns]\n"
     ]
    },
    {
     "data": {
      "text/plain": "<Figure size 640x480 with 1 Axes>",
      "image/png": "[encoded data removed]"
     },
     "metadata": {},
     "output_type": "display_data"
    }
   ],
   "source": [
    "var_row=np.array(sorted(x))\n",
    "print(\"Вариационный ряд: \",var_row)\n",
    "xi, ni=np.unique(var_row, return_counts = True)\n",
    "pi = ni/N\n",
    "density = pd.DataFrame({'x(i)': xi, 'p(i)': pi}).T\n",
    "print(\"Плотность относительной частоты\")\n",
    "print(density)\n",
    "Fi=[]\n",
    "for i in range(0,len(xi)):\n",
    "    Fi.append(sum(ni[0:i])/N)\n",
    "Fx = pd.DataFrame({'x(i)': xi, 'F(i)': Fi}).T\n",
    "print(\"Эмпирическая функция распределения\")\n",
    "print(Fx)\n",
    "\n",
    "# Отображаем эмпирическую функцию распределения\n",
    "plt.step(xi, Fi)\n",
    "plt.xlabel('Значения')\n",
    "plt.ylabel('Вероятность')\n",
    "plt.title('Эмпирическая функция')\n",
    "plt.show()"
   ]
  },
  {
   "cell_type": "code",
   "execution_count": 312,
   "id": "b00438ad7ad07099",
   "metadata": {
    "ExecuteTime": {
     "end_time": "2023-12-06T18:11:45.975064500Z",
     "start_time": "2023-12-06T18:11:45.028860600Z"
    }
   },
   "outputs": [
    {
     "data": {
      "text/plain": "<Figure size 640x480 with 1 Axes>",
      "image/png": "[encoded data removed]"
     },
     "metadata": {},
     "output_type": "display_data"
    },
    {
     "data": {
      "text/plain": "<Figure size 640x480 with 1 Axes>",
      "image/png": "[encoded data removed]"
     },
     "metadata": {},
     "output_type": "display_data"
    }
   ],
   "source": [
    "bins = np.arange(var_row[0], var_row[-1] + h, h)\n",
    "\n",
    "#Гистограмма частот\n",
    "hist, none = np.histogram(xi, bins=bins, density=True)\n",
    "plt.bar(bins[:-1], hist, align='edge', width=h, edgecolor='black')\n",
    "plt.xlabel('Значение')\n",
    "plt.ylabel('Плотность относительной частоты')\n",
    "plt.title('Гистограмма частот')\n",
    "plt.show()\n",
    "#Полигон частот\n",
    "hist, none = np.histogram(xi, bins=bins, density=True)\n",
    "bins_c=[]\n",
    "for i in range (0,len(bins)-1):\n",
    "    bins_c.append((bins[i]+bins[i+1])/2)\n",
    "plt.plot(bins_c, hist)\n",
    "plt.xlabel('Значение')\n",
    "plt.ylabel('Частота')\n",
    "plt.title('Полигон частот')\n",
    "plt.show()"
   ]
  },
  {
   "cell_type": "markdown",
   "id": "3c0f7aa40fecc7f6",
   "metadata": {},
   "source": [
    "#### Пункт b: вычислить выборочные аналоги следующих числовых характеристик: (i)математического ожидания, (ii)дисперсии, (iii)медианы, (iv)асимметрии, (v)эксцесса, (vi) вероятности $\\mathbb{P}\\left(X\\in\\left[a,b\\right]\\right)$\n",
    "Выборочное среднее:\n",
    "$\\overline X=\\frac1n\\sum\\limits_{i=1}^nx_i$\n",
    "\n",
    "Выборочная дисперсия:\n",
    "$S^2 = \\frac1n\\sum\\limits_{i=1}^n\\left(X_i-\\overline X\\right)^2 $\n",
    "\n",
    "Выборочное СКО:\n",
    "$S = \\sqrt{\\frac1n\\sum\\limits_{i=1}^n\\left(X_i-\\overline X\\right)^2} $\n",
    "\n",
    "Медиана:\n",
    "$z_{n,0.5} = \\left\\{\\begin{array}{l}x_{\\frac{N + 1}{2}},\\;\\; N = 2n + 1,\\;\\;n\\in\\mathbb{Z_+}\\\\\\frac{x_{\\frac N2} + x_{\\frac{N}{2} + 1}}{2}, \\;\\; N = 2n,\\;\\;n\\in\\mathbb{Z_+}\\end{array}\\right. $\n",
    "\n",
    "Коэффицент асимметрии:\n",
    "$\\widehat{Skew}X = \\frac{\\frac1n\\sum\\limits_{i=1}^n\\left(X_i-\\overline X\\right)^3}{S^3} $\n",
    "\n",
    "Эксцесс:\n",
    "$\\widehat{Kurt}X = \\frac{\\frac1n\\sum\\limits_{i=1}^n\\left(X_i-\\overline X\\right)^4}{S^4} - 3 $"
   ]
  },
  {
   "cell_type": "code",
   "execution_count": 313,
   "id": "ad27ffaee1254fe1",
   "metadata": {
    "ExecuteTime": {
     "end_time": "2023-12-06T18:11:45.976098400Z",
     "start_time": "2023-12-06T18:11:45.300198300Z"
    }
   },
   "outputs": [
    {
     "name": "stdout",
     "output_type": "stream",
     "text": [
      "Выборочное среднее: E(x) =  5.003\n",
      "Выборочная дисперсия: D(x) =  1.026\n",
      "Выборочное СКО: S =  1.013\n",
      "Медиана =  5.082\n",
      "Коэффицент асимметрии: SkewX =  -0.244\n",
      "Коэффициент эксцесса: KurtX =  -0.079\n",
      "Вероятность поподания в интервавл [c,d]: P([c,d]) =  0.54\n"
     ]
    }
   ],
   "source": [
    "Ex=statistics.mean(x)\n",
    "print(\"Выборочное среднее: E(x) = \",round(Ex,3))\n",
    "\n",
    "Dx=statistics.variance(x)\n",
    "print(\"Выборочная дисперсия: D(x) = \",round(Dx,3))\n",
    "\n",
    "S=sqrt(Dx)\n",
    "print(\"Выборочное СКО: S = \",round(S,3))\n",
    "\n",
    "median=statistics.median(x)\n",
    "print(\"Медиана = \",round(median,3))\n",
    "\n",
    "skew = 0\n",
    "for i in range(0, N):\n",
    "    skew += (x[i] - Ex)**3\n",
    "skew = (1/N)*skew/(S**3)\n",
    "print('Коэффицент асимметрии: SkewX = ', round(skew,3))\n",
    "\n",
    "kurt = 0\n",
    "for i in range(0, N):\n",
    "    kurt += (x[i] - Ex)**4\n",
    "kurt = (1/N)*kurt/(S**4) - 3\n",
    "print('Коэффициент эксцесса: KurtX = ', round(kurt,3))\n",
    "\n",
    "P_cd=0\n",
    "for i in range(0,len(xi)):\n",
    "    if (xi[i]>=c) and (xi[i]<=d):\n",
    "        P_cd+=pi[i]\n",
    "print('Вероятность поподания в интервавл [c,d]: P([c,d]) = ', round(P_cd,3))\n",
    "\n"
   ]
  },
  {
   "cell_type": "markdown",
   "id": "2add827747f20057",
   "metadata": {},
   "source": [
    "#### Пункт c: в предположении, что исходные наблюдения являются выборкой из нормального распределения, построить оценку максимального правдоподобия параметров  (a,$\\sigma^2$)  и соответствующие оценки по методу моментов. Найти смещение оценок.\n",
    "$p_\\theta\\left(x\\right)=\\frac1{\\sqrt{2\\pi}\\sigma}\\exp\\left(-\\frac{{(x-a)}^2}{2\\sigma^2}\\right)$ - плотность нормального распределения<br>\n",
    "Функция правдоподобия:<br>\n",
    "$L(\\overrightarrow x,\\theta)={\\textstyle\\overset n{\\underset{i=1}{\\prod\\frac1{\\sqrt{2\\pi}\\sigma}\\exp\\left(-\\frac{{(x_i-a)}^2}{2\\sigma^2}\\right)}}}={(2\\pi)}^{-\\frac n2}\\sigma^{-n}\\exp\\left(-\\frac1{2\\sigma^2}{\\textstyle\\overset n{\\underset{i=1}{\\sum{(x_i-a)}^2}}}\\right)={(2\\pi)}^{-\\frac n2}\\sigma^{-n}\\exp\\left(-\\frac1{2\\sigma^2}{\\textstyle\\overset n{\\underset{i=1}{\\sum x_i^2}}+{\\displaystyle\\frac a{\\sigma^2}}\\overset n{\\underset{i=1}{\\sum x_i}}-{\\displaystyle\\frac{na^2}{2\\sigma^2}}}\\right)$<br>\n",
    "Логарифмическая функция правдоподобия:<br>\n",
    "$LL(\\overrightarrow x,\\theta)=-\\frac n2\\ln\\left(2\\pi\\right)-n\\ln\\left(\\delta\\right)-\\frac1{2\\sigma^2}{\\textstyle\\overset n{\\underset{i=1}{\\sum x_i^2}}+{\\displaystyle\\frac a{\\sigma^2}}\\overset n{\\underset{i=1}{\\sum x_i}}-{\\displaystyle\\frac{na^2}{2\\sigma^2}}}$<br>\n",
    "1. ОМП параметра а:<br>\n",
    "$\\frac{\\partial{LL(\\overrightarrow x,\\theta)}}{\\partial a}={\\textstyle{\\displaystyle\\frac1{\\sigma^2}}\\overset n{\\underset{i=1}{\\sum x_i}}-{\\displaystyle\\frac{na}{\\sigma^2}=0}}$<br>\n",
    "$\\overset n{\\underset{i=1}{\\sum x_i}}=na$<br>\n",
    "$\\widehat a=\\frac1n\\overset n{\\underset{i=1}{\\sum x_i}}$ - ОМП\n",
    "2. ОМП параметра $\\sigma^2$<br>\n",
    "$\\frac{\\partial{LL(\\overrightarrow x,\\theta)}}{\\partial\\sigma}=-\\frac n\\sigma+\\frac1{\\sigma^3}{\\textstyle\\overset n{\\underset{i=1}{\\sum\\left(x_i-a\\right)^2}}}=0$<br>\n",
    "$\\frac1{\\sigma^2}{\\textstyle\\overset n{\\underset{i=1}{\\sum\\left(x_i-a\\right)^2}}}=n$<br>\n",
    "$\\widehat\\sigma^2=\\frac1n{\\textstyle\\overset n{\\underset{i=1}{\\sum\\left(x_i-a\\right)^2}}}=s^2$ - ОМП<br>\n",
    "$\\widehat\\theta=\\left(\\widehat a,\\widehat{\\sigma^2}\\right)=\\left(\\overline x,s^2\\right)$<br>"
   ]
  },
  {
   "cell_type": "code",
   "execution_count": 314,
   "id": "4a1275c39d6d0736",
   "metadata": {
    "ExecuteTime": {
     "end_time": "2023-12-06T18:11:45.976098400Z",
     "start_time": "2023-12-06T18:11:45.303696300Z"
    }
   },
   "outputs": [
    {
     "name": "stdout",
     "output_type": "stream",
     "text": [
      "Оценка максимального правдоподобия a =  5.003\n",
      "Оценка максимального правдоподобия σ^2 =  1.026\n"
     ]
    }
   ],
   "source": [
    "print(\"Оценка максимального правдоподобия a = \", round(1/N*sum(x), 3))\n",
    "print(\"Оценка максимального правдоподобия σ^2 = \", round(Dx, 3))"
   ]
  },
  {
   "cell_type": "markdown",
   "id": "e3bb1f45c6d6b8a4",
   "metadata": {},
   "source": [
    "$L(\\overrightarrow x,\\theta)={(2\\pi)}^{-\\frac n2}\\sigma^{-n}\\exp\\left(-\\frac1{2\\sigma^2}{\\textstyle\\overset n{\\underset{i=1}{\\sum x_i^2}}+{\\displaystyle\\frac a{\\sigma^2}}\\overset n{\\underset{i=1}{\\sum x_i}}-{\\displaystyle\\frac{na^2}{2\\sigma^2}}}\\right)$<br>\n",
    "$g(T)=\\sigma^{-n}\\exp\\left(-\\frac1{2\\sigma^2}{\\textstyle\\overset n{\\underset{i=1}{\\sum x_i^2}}+{\\displaystyle\\frac a{\\sigma^2}}\\overset n{\\underset{i=1}{\\sum x_i}}-{\\displaystyle\\frac{na^2}{2\\sigma^2}}}\\right)$<br>\n",
    "$h(x)={(2\\pi)}^{-\\frac n2}$<br>\n",
    "$T=\\left(T_1,T_2\\right)=\\left({\\textstyle\\overset n{\\underset{i=1}{\\sum x_i^2}}},{\\textstyle\\overset n{\\underset{i=1}{\\sum x_i}}}\\right)$ - МДС. Тк ормальное распределение принадлежит к семейству экспоненциальных, то МДС является ПДС<br>\n",
    "1. НРМД параметра a: <br>\n",
    "$\\mathbb{E}_\\theta a={\\textstyle\\overset n{\\underset{i=1}{\\mathbb{E}_\\theta{\\displaystyle\\frac1n}\\sum x_i}}}={\\textstyle\\overset n{\\underset{i=1}{{\\displaystyle\\frac1n}\\sum \\mathbb{E}_\\theta x_i}}}={\\textstyle\\overset n{\\underset{i=1}{\\displaystyle\\frac1n\\sum \\mathbb{E}_\\theta x_1}}}=a$ - оценка несмещенная<br>\n",
    "2. НРМД параметра $\\sigma^2$:<br>\n",
    "$\\mathbb{E}_\\theta\\sigma^2=\\mathbb{E}_\\theta\\frac1n{\\textstyle\\overset n{\\underset{i=1}{\\sum\\left(x_i-\\overline x\\right)^2}}}=\\frac1n{\\textstyle\\overset n{\\underset{i=1}{\\sum \\mathbb{E}_\\theta\\left(x_i-\\overline x\\right)^2}}}$<br>\n",
    "Замена: $y_i=x_i-\\mathbb{E}_\\theta x_i$ тогда $\\mathbb{E}_\\theta y_i=\\mathbb{E}_\\theta x_i-\\mathbb{E}_\\theta x_i=0$ ; $\\mathbb{D}_\\theta y_i=\\mathbb{D}_\\theta x_i-\\mathbb{D}_\\theta \\mathbb{E}_\\theta x_i=\\mathbb{D}_\\theta x_i=\\sigma^2$<br>\n",
    "$\\mathbb{E}_\\theta\\sigma^2=\\mathbb{E}_\\theta\\frac1n{\\textstyle\\overset n{\\underset{i=1}{\\sum\\left(y_i-\\overline y\\right)^2}}}=\\mathbb{E}_\\theta\\overline{y^2}-{(\\mathbb{E}_\\theta y)}^2$<br>\n",
    "$\\mathbb{E}_\\theta\\overline{y^2}=\\frac1n{\\textstyle\\overset n{\\underset{i=1}{\\sum \\mathbb{E}_\\theta y^2}}}=\\sigma^2$<br>\n",
    "${(\\mathbb{E}_\\theta y)}^2=\\frac1{n^2}{\\textstyle\\overset n{\\underset{i=1}{\\sum\\overset n{\\underset{j=1}{\\sum \\mathbb{E}_\\theta y_iy_j}}}}}=\\left\\{\\begin{array}{l}i=j:\\;n:\\;\\mathbb{E}_\\theta y_i^2=\\sigma^2\\\\i\\neq j:\\;n^2-n:\\;\\mathbb{E}_\\theta y_iy_j=0\\end{array}\\right.=\\frac1{n^2}\\left(n\\sigma^2\\right)=\\frac{\\sigma^2}n$<br>\n",
    "$\\mathbb{E}_\\theta\\sigma^2=\\sigma^2-\\frac{\\sigma^2}n=\\sigma^2\\frac{n-1}n$ - оценка смещенная<br>\n",
    "$\\widetilde\\theta=\\frac n{n-1}\\widehat\\theta\\;;\\;E_\\theta\\widetilde\\theta=\\frac {n-1}{n}\\cdot\\frac n{n-1}\\sigma^2=\\sigma^2$ - оценка несмещенная<br>"
   ]
  },
  {
   "cell_type": "markdown",
   "id": "622136b6e86738a9",
   "metadata": {},
   "source": [
    "Метод моментов:<br>\n",
    "Параметр a для нормального распределения – мат. ожидание,которое по методу моментов оценивается первым выборочным моментом:<br>\n",
    "$a = \\overline x_{выб} = \\frac{1}{n} \\sum\\limits_{i=1}^n x_i$<br>\n",
    "Параметр $\\sigma^2$ для нормального распределения – дисперсия,которая по методу моментов оценивается вторым выборочным моментом:<br>\n",
    "$\\mu_2={\\textstyle\\overset n{\\underset{i=1}{{\\displaystyle\\frac1n}\\sum x_i^2}}}$ так как $\\mathbb{D}x=\\mathbb{E}x^2-{(\\mathbb{E}x)}^2$ то $\\mu_2=\\mathbb{D}x+{(\\mathbb{E}x)}^2=\\sigma^2+a^2$ значит $\\sigma^2=\\mu_2-a^2=\\mathbb{E}x^2-{(\\mathbb{E}x)}^2=s^2$"
   ]
  },
  {
   "cell_type": "code",
   "execution_count": 315,
   "id": "b1c1501f3e766d3d",
   "metadata": {
    "ExecuteTime": {
     "end_time": "2023-12-06T18:11:45.976098400Z",
     "start_time": "2023-12-06T18:11:45.309020400Z"
    }
   },
   "outputs": [
    {
     "name": "stdout",
     "output_type": "stream",
     "text": [
      "Оценка по методу моментов a =  5.003\n",
      "Оценка по методу моментов σ^2 =  1.026\n"
     ]
    }
   ],
   "source": [
    "a_param=0\n",
    "for i in x:\n",
    "    a_param+=i\n",
    "a_param=a_param/N\n",
    "print(\"Оценка по методу моментов a = \", round(a_param, 3))\n",
    "sigma_param=Dx\n",
    "print(\"Оценка по методу моментов σ^2 = \", round(sigma_param, 3))"
   ]
  },
  {
   "cell_type": "markdown",
   "id": "447c5dceffa83633",
   "metadata": {},
   "source": [
    "#### Пункт d: построить доверительные интервалы уровня значимости $\\alpha_2$ для параметров $\\left(a,\\sigma^2\\right)$\n",
    "1. Построение ДИ для параметра a<br>\n",
    "По Лемме Фишера: $\\sqrt{n-1}\\frac{\\overline x-a}s\\sim Student\\left(n-1\\right)$<br>\n",
    "Выбрать $x_\\alpha:\\;S(x_\\alpha)=1-\\frac\\alpha2=0.95$<br>\n",
    "$P_\\theta\\left(-x_\\alpha\\leq\\sqrt{n-1}\\frac{\\overline x-a}s\\leq x_\\alpha\\right)=1-\\alpha$<br>\n",
    "$P_\\theta\\left(\\overline x-\\frac{x_\\alpha s}{\\sqrt{n-1}}\\leq a\\leq\\overline x+\\frac{x_\\alpha s}{\\sqrt{n-1}}\\right)=1-\\alpha=0.9$<br>\n",
    "2. Построение ДИ для параметра $\\sigma^2$<br>\n",
    "По Лемме Фишера $\\frac{ns^2}{\\sigma^2}\\sim{\\chi^2}_{n-1}$<br>\n",
    "Выбрать $x_{1\\alpha}:\\;K_{n-1}\\left(x_{1\\alpha}\\right)=\\frac\\alpha2=0.05\\;;\\;x_{2\\alpha}:\\;K_{n-1}\\left(x_{2\\alpha}\\right)=1-\\frac\\alpha2=0.95$<br>\n",
    "$P_\\theta\\left(x_{1\\alpha}\\leq\\frac{ns^2}{\\sigma^2}\\leq x_{2\\alpha}\\right)=1-\\alpha$<br>\n",
    "$P_\\theta\\left(\\frac{ns^2}{x_{2\\alpha}}\\leq\\sigma^2\\leq\\frac{ns^2}{x_{1\\alpha}}\\right)=1-\\alpha=0.9$<br>"
   ]
  },
  {
   "cell_type": "code",
   "execution_count": 316,
   "id": "880ad4f6dc9c4f58",
   "metadata": {
    "ExecuteTime": {
     "end_time": "2023-12-06T18:11:45.976098400Z",
     "start_time": "2023-12-06T18:11:45.313282100Z"
    }
   },
   "outputs": [
    {
     "name": "stdout",
     "output_type": "stream",
     "text": [
      "Доверительный интервал: a от  4.761 до  5.246  с доверительной точностью  0.9\n",
      "Доверительный интервал: σ^2 от  0.773 до  1.511  с доверительной точностью  0.9\n"
     ]
    }
   ],
   "source": [
    "x_alpha = stats.t.ppf(1-alpha/2,N-1)\n",
    "a_min = Ex - x_alpha*S/sqrt(N-1)\n",
    "a_max = Ex + x_alpha*S/sqrt(N-1)\n",
    "x1_alpha = stats.chi2.ppf(alpha/2, N-1)\n",
    "x2_alpha = stats.chi2.ppf(1-alpha/2, N-1)\n",
    "sigma_min = N*Dx/x2_alpha\n",
    "sigma_max = N*Dx/x1_alpha\n",
    "print(\"Доверительный интервал: a от \",round(a_min, 3),\"до \", round(a_max,3), \" с доверительной точностью \",1-alpha)\n",
    "print(\"Доверительный интервал: σ^2 от \",round(sigma_min, 3),\"до \", round(sigma_max,3), \" с доверительной точностью \",1-alpha)"
   ]
  },
  {
   "cell_type": "markdown",
   "source": [
    "#### Пункт e: с использованием теоремы Колмогорова построить критерий значимости проверки простой гипотезы согласия с нормальным распределением с параметрами $\\left(a_0, \\sigma^2_0\\right)$. Проверить гипотезу на уровне значимости $\\alpha_2$. Вычислить наибольшее значение уровня значимости, на котором еще нет оснований отвергнуть данную гипотезу\n",
    "$D_n=\\sup\\nolimits_{x\\in R}\\left|F_n(x)-F(x)\\right|$ - статистика критерия Колмогорова<br>\n",
    "$\\eta=\\sqrt nD_n=\\sqrt n\\sup\\nolimits_{x\\in R}\\left|F_n(x)-F(x)\\right|$ - выборочный критерий Колмогорова $\\eta\\Rightarrow K$<br>\n",
    "$x_\\alpha$ - квантиль Колмогорова при уровне значимости $\\alpha$<br>\n",
    "$V_k=\\left(x_\\alpha;\\;+\\infty\\right)$ - критическая область"
   ],
   "metadata": {
    "collapsed": false
   },
   "id": "4e9cf20ed4a2f224"
  },
  {
   "cell_type": "code",
   "execution_count": 317,
   "outputs": [
    {
     "name": "stdout",
     "output_type": "stream",
     "text": [
      "Выборочный критерий Колмогорова =  4.96\n",
      "Квантиль Колмогорова =  1.224\n",
      "Так как Dη > x_alpha, выборочный критерий попадает в критическую область, значит гипотеза отвергается\n",
      "Наибольшее значение уровня значимости при котором нет оснований отвергнуть данную гипотезу: alpha =  0.0\n"
     ]
    }
   ],
   "source": [
    "def Normal(x):\n",
    "    return stats.norm.cdf(x, loc=a_0, scale=sigma_0)\n",
    "Dn, none = stats.kstest(xi, Normal)\n",
    "Dn*=sqrt(N)\n",
    "print('Выборочный критерий Колмогорова = ',round(Dn,3))\n",
    "x_alpha=stats.kstwobign.ppf(1-alpha)\n",
    "print('Квантиль Колмогорова = ',round(x_alpha,3))\n",
    "if Dn>x_alpha:\n",
    "    print(\"Так как Dη > x_alpha, выборочный критерий попадает в критическую область, значит гипотеза отвергается\")\n",
    "else:\n",
    "    print(\"Так как Dη <= x_alpha, выборочный критерий не попадает в критическую область, значит нет оснований отвергать гипотезу\")\n",
    "pvalue=1-stats.kstwobign.cdf(Dn)\n",
    "print(\"Наибольшее значение уровня значимости при котором нет оснований отвергнуть данную гипотезу: alpha = \",round(pvalue,3))"
   ],
   "metadata": {
    "collapsed": false,
    "ExecuteTime": {
     "end_time": "2023-12-06T18:11:45.976098400Z",
     "start_time": "2023-12-06T18:11:45.322477Z"
    }
   },
   "id": "3294faf3e7a7c6ea"
  },
  {
   "cell_type": "markdown",
   "source": [
    "Значения $\\alpha$ при котором нет оснований отвергать данную гипотезу стремится к нулю"
   ],
   "metadata": {
    "collapsed": false
   },
   "id": "3449fe34fdbb5e72"
  },
  {
   "cell_type": "markdown",
   "id": "560c2e3ff0477b67",
   "metadata": {},
   "source": [
    "#### Пункт f: используя гистограмму частот, построить критерий значимости $\\chi^2$ проверки простой гипотезы согласия с нормальным распределением с параметрами $\\left(a_0, \\sigma_0^2\\right)$. Проверить гипотезу на уровне значимости $\\alpha_2$. Вычислить наибольшее значение уровня значимости, на котором ещё нет оснований отвергнуть данную гипотезу\n",
    "$P_i=P_{H0}=P\\left(X\\in I_i\\right)={\\textstyle\\frac1{\\sqrt{2\\pi}\\sigma_0}\\int_{x\\in I_i}\\exp\\left(-\\frac{{(x-a_0)}^2}{2\\sigma_0^2}\\right)}$<br>\n",
    "Критерий $\\chi^2:\\;{\\chi^2}_{sel}={\\textstyle\\sum_{i=1}^m}\\;\\frac{\\left(n_i-nP_i\\right)^2}{nP_i}$ где m=7 - количество групп<br>"
   ]
  },
  {
   "cell_type": "code",
   "execution_count": 318,
   "id": "c70e865c2fae700e",
   "metadata": {
    "ExecuteTime": {
     "end_time": "2023-12-06T18:11:45.977083300Z",
     "start_time": "2023-12-06T18:11:45.331829100Z"
    }
   },
   "outputs": [
    {
     "name": "stdout",
     "output_type": "stream",
     "text": [
      "I0 [2.239, 3.7039): 5 элементов\n",
      "I1 [3.7039, 4.1922): 6 элементов\n",
      "I2 [4.1922, 4.6805): 7 элементов\n",
      "I3 [4.6805, 5.1688): 9 элементов\n",
      "I4 [5.1688, 5.6571): 9 элементов\n",
      "I5 [5.6571, 6.1454): 9 элементов\n",
      "I6 [6.1454, 7.122): 5 элементов\n"
     ]
    }
   ],
   "source": [
    "intervals = np.histogram(x, bins=10)\n",
    "\n",
    "bin_edges = intervals[1]\n",
    "bin_counts = intervals[0]\n",
    "\n",
    "I=[]\n",
    "I.append({'lower':bin_edges[0],'upper':bin_edges[3],'count':bin_counts[0]+bin_counts[1]+bin_counts[2]})\n",
    "for i in range(3,8):\n",
    "    I.append({'lower':bin_edges[i],'upper':bin_edges[i+1],'count':bin_counts[i]})\n",
    "I.append({'lower':bin_edges[8],'upper':bin_edges[10],'count':bin_counts[8]+bin_counts[9]})\n",
    "for i in range(len(I)):\n",
    "    print(f\"I{i} [{I[i]['lower']}, {I[i]['upper']}): {I[i]['count']} элементов\")\n"
   ]
  },
  {
   "cell_type": "code",
   "execution_count": 319,
   "id": "39ca5208fa0669f2",
   "metadata": {
    "ExecuteTime": {
     "end_time": "2023-12-06T18:11:45.977083300Z",
     "start_time": "2023-12-06T18:11:45.334331900Z"
    }
   },
   "outputs": [
    {
     "name": "stdout",
     "output_type": "stream",
     "text": [
      "Критерий X^2 наблюдаемый =  1294.5319\n",
      "Значение X^2 при уровне значимости  0.1 и 6 степенях свободы =  10.6446\n"
     ]
    }
   ],
   "source": [
    "P=[]\n",
    "N_i = []\n",
    "for i in I:\n",
    "    P_i=stats.norm.cdf(i['upper'], loc=a_0, scale=sigma_0**2)-stats.norm.cdf(i['lower'], loc=a_0, scale=sigma_0)\n",
    "    P.append(P_i)\n",
    "    N_i.append(i['count'])\n",
    "criteria = 0\n",
    "for i in range(0, len(P)):\n",
    "    criteria += ((N_i[i] - N*P[i])**2)/(N*P[i])\n",
    "print('Критерий X^2 наблюдаемый = ', round(criteria,4))\n",
    "chi_value = stats.chi2.ppf(1-alpha, len(P)-1)\n",
    "print('Значение X^2 при уровне значимости ',alpha, 'и', len(P)-1, 'степенях свободы = ' ,round(chi_value,4))"
   ]
  },
  {
   "cell_type": "markdown",
   "id": "cb72979dbe0738aa",
   "metadata": {},
   "source": [
    "Так как $\\chi^2>\\chi_{6;0.1}^2$ то по критерию Пирсона гипотеза отвергается"
   ]
  },
  {
   "cell_type": "code",
   "execution_count": 320,
   "id": "8b7636bf45850429",
   "metadata": {
    "ExecuteTime": {
     "end_time": "2023-12-06T18:11:45.977083300Z",
     "start_time": "2023-12-06T18:11:45.347822800Z"
    }
   },
   "outputs": [
    {
     "name": "stdout",
     "output_type": "stream",
     "text": [
      "Наибольшее значение уровня значимости при котором нет оснований отвергнуть данную гипотезу: alpha =  0.0\n"
     ]
    }
   ],
   "source": [
    "pvalue = stats.chi2.cdf(criteria, len(P)-1)\n",
    "print('Наибольшее значение уровня значимости при котором нет оснований отвергнуть данную гипотезу: alpha = ',1-round(pvalue,5))"
   ]
  },
  {
   "cell_type": "markdown",
   "id": "8ed7813a35417f87",
   "metadata": {},
   "source": [
    "Значения $\\alpha$ при котором нет оснований отвергать данную гипотезу стремится к нулю"
   ]
  },
  {
   "cell_type": "markdown",
   "id": "7c08f6ceabe1af22",
   "metadata": {},
   "source": [
    "#### Пункт g: построить критерий значимости $\\chi^2$ проверки сложной гипотезы согласия с нормальным распределением. Проверить гипотезу на уровне значимости $\\alpha_2$. Вычислить наибольшее значение уровня значимости, на котором ещё нет оснований отвергнуть данную гипотезу\n",
    "$P_i=P_{H0}=P\\left(X\\in I_i\\right)={\\textstyle\\frac1{\\sqrt{2\\pi}s}\\int_{x\\in I_i}\\exp\\left(-\\frac{{(x-\\overline x)}^2}{2s^2}\\right)}$<br>\n",
    "Критерий $\\chi^2:\\;{\\chi^2}_{sel}={\\textstyle\\sum_{i=1}^m}\\;\\frac{\\left(n_i-nP_i\\right)^2}{nP_i}$ где m=7 - количество групп<br>"
   ]
  },
  {
   "cell_type": "code",
   "execution_count": 321,
   "id": "594b9d014ea1b3fa",
   "metadata": {
    "ExecuteTime": {
     "end_time": "2023-12-06T18:11:45.977083300Z",
     "start_time": "2023-12-06T18:11:45.355312200Z"
    }
   },
   "outputs": [
    {
     "name": "stdout",
     "output_type": "stream",
     "text": [
      "Критерий X^2 наблюдаемый =  1.4124\n",
      "Значение X^2 при уровне значимости  0.1 и 4 степенях свободы =  7.7794\n"
     ]
    }
   ],
   "source": [
    "P=[]\n",
    "N_i = []\n",
    "for i in I:\n",
    "    P_i=stats.norm.cdf(i['upper'], loc=Ex, scale=Dx)-stats.norm.cdf(i['lower'], loc=Ex, scale=S)\n",
    "    P.append(P_i)\n",
    "    N_i.append(i['count'])\n",
    "criteria = 0\n",
    "for i in range(0, len(P)):\n",
    "    criteria += ((N_i[i] - N*P[i])**2)/(N*P[i])\n",
    "print('Критерий X^2 наблюдаемый = ', round(criteria,4))\n",
    "chi_value = stats.chi2.ppf(1-alpha, len(P)-3)\n",
    "print('Значение X^2 при уровне значимости ',alpha, 'и', len(P)-3, 'степенях свободы = ' ,round(chi_value,4))"
   ]
  },
  {
   "cell_type": "markdown",
   "id": "f61a43b51b67200c",
   "metadata": {},
   "source": [
    "Так как $\\chi^2<=\\chi_{4;0.1}^2$ то по критерию Пирсона нет оснований отвергать гипотезу"
   ]
  },
  {
   "cell_type": "code",
   "execution_count": 322,
   "id": "d4205f924c4d264a",
   "metadata": {
    "ExecuteTime": {
     "end_time": "2023-12-06T18:11:45.977083300Z",
     "start_time": "2023-12-06T18:11:45.359384900Z"
    }
   },
   "outputs": [
    {
     "name": "stdout",
     "output_type": "stream",
     "text": [
      "Наибольшее значение уровня значимости при котором нет оснований отвергнуть данную гипотезу: alpha =  0.84203\n"
     ]
    }
   ],
   "source": [
    "pvalue = stats.chi2.cdf(criteria, len(P)-3)\n",
    "print('Наибольшее значение уровня значимости при котором нет оснований отвергнуть данную гипотезу: alpha = ',round(1-pvalue,5))"
   ]
  },
  {
   "cell_type": "markdown",
   "source": [
    "#### Пункт h: построить наиболее мощный критерий проверки простой гипотезы о нормальности с параметром $(a, \\sigma^2) = (a_0, \\sigma_0^2)$ при альтернативе нормальности с параметром$(a, \\sigma^2) = (a_1, \\sigma_1^2)$. Проверить гипотезу на уровне значимости $\\alpha_2$. Что получится, если поменять местами основновную и альтернативную гипотезы\n",
    "$H_0: \\theta=\\left(a_0,\\sigma_0^2\\right)$ - основная гипотеза<br>\n",
    "$H_1: \\theta=\\left(a_1,\\sigma_1^2\\right)$ - альтернативная гипотеза<br>\n",
    "$L(\\overrightarrow x,\\theta)={(2\\pi)}^{-\\frac n2}\\sigma^{-n}\\exp\\left(-\\frac1{2\\sigma^2}{\\textstyle\\overset n{\\underset{i=1}{\\sum x_i^2}}+{\\displaystyle\\frac a{\\sigma^2}}\\overset n{\\underset{i=1}{\\sum x_i}}-{\\displaystyle\\frac{na^2}{2\\sigma^2}}}\\right)$ - функция правдоподобия<br>\n",
    "$LR\\left(\\overrightarrow x,\\theta_0,\\theta_1\\right)=\\frac{L\\left(\\overrightarrow x,a_1,\\sigma_1^2\\right)}{L\\left(\\overrightarrow x,a_0,\\sigma_0^2\\right)}=\\exp\\left(\\frac n{2\\sigma^2}\\left(a_0^2-a_1^2\\right)+\\frac1{\\sigma^2}{\\textstyle\\overset n{\\underset{i=1}{\\sum x_i}}}\\left(a_1-a_0\\right)\\right)$ - статистика отношения правдоподобия - монотонная функция от МДС $\\textstyle\\overset n{\\underset{i=1}{\\sum x_i}}$ где $\\sigma=\\sigma_0=\\sigma_1$<br>\n",
    "Так как $LR\\left(\\overrightarrow x,\\lambda_0,\\lambda_1\\right)$ монотонна относительно $\\overline x$ то:<br>\n",
    "$LR\\left(\\overrightarrow x\\right)<c\\Leftrightarrow\\overline x>c^\\ast$<br>\n",
    "$LR\\left(\\overrightarrow x\\right)>c\\Leftrightarrow\\overline x<c^\\ast$<br>\n",
    "$\\varphi\\left(x\\right)=\\left\\{\\begin{array}{l}1,\\overline x<c^\\ast\\\\ p,\\overline x=c^\\ast\\\\0,\\overline x>c^\\ast\\end{array}\\right.$<br>\n",
    "Согласно центральной предельной теореме:<br>\n",
    "$\\sqrt n\\frac{\\overline x-a}\\sigma\\sim N\\left(0,1\\right)$<br>\n",
    "$P\\left(\\sqrt n\\frac{\\overline x-a_1}\\sigma\\geq\\sqrt n\\frac{c^\\ast-a_1}\\sigma\\right)=1-\\Phi\\left(\\sqrt n\\frac{c^\\ast-a_1}\\sigma\\right)=\\alpha$<br>\n",
    "$x_\\alpha=\\sqrt n\\frac{c^\\ast-a_1}\\sigma$<br>\n",
    "Выбрать $x_\\alpha$: $\\Phi\\left(x_\\alpha\\right)=1-\\alpha=0.9$<br>"
   ],
   "metadata": {
    "collapsed": false
   },
   "id": "727ffbbef3eaf1ad"
  },
  {
   "cell_type": "code",
   "execution_count": 323,
   "outputs": [
    {
     "name": "stdout",
     "output_type": "stream",
     "text": [
      "х_alpha =  1.282\n",
      "c* =  3.181\n"
     ]
    }
   ],
   "source": [
    "x_alpha = stats.norm.ppf(1-alpha)\n",
    "print('х_alpha = ', round(x_alpha,3))\n",
    "c_star =  x_alpha*sigma_0/sqrt(N)+ a_0\n",
    "print('c* = ',round(c_star,3))"
   ],
   "metadata": {
    "collapsed": false,
    "ExecuteTime": {
     "end_time": "2023-12-06T18:11:45.978099800Z",
     "start_time": "2023-12-06T18:11:45.364452700Z"
    }
   },
   "id": "b6a9b7343764557e"
  },
  {
   "cell_type": "markdown",
   "source": [
    "Так как $\\overline x > c^\\ast$ отвергаем гипотезу $H_0$<br>\n",
    "Поменяем местами гипотезы $H_0$ и $H_1$:<br>\n",
    "$L(\\overrightarrow x,\\theta)={(2\\pi)}^{-\\frac n2}\\sigma^{-n}\\exp\\left(-\\frac1{2\\sigma^2}{\\textstyle\\overset n{\\underset{i=1}{\\sum x_i^2}}+{\\displaystyle\\frac a{\\sigma^2}}\\overset n{\\underset{i=1}{\\sum x_i}}-{\\displaystyle\\frac{na^2}{2\\sigma^2}}}\\right)$ - функция правдоподобия<br>\n",
    "$LR\\left(\\overrightarrow x,\\theta_0,\\theta_1\\right)=\\frac{L\\left(\\overrightarrow x,a_1,\\sigma_1^2\\right)}{L\\left(\\overrightarrow x,a_0,\\sigma_0^2\\right)}=\\exp\\left(\\frac n{2\\sigma^2}\\left(a_1^2-a_0^2\\right)+\\frac1{\\sigma^2}{\\textstyle\\overset n{\\underset{i=1}{\\sum x_i}}}\\left(a_0-a_1\\right)\\right)$ - статистика отношения правдоподобия - монотонная функция от МДС $\\textstyle\\overset n{\\underset{i=1}{\\sum x_i}}$ где $\\sigma=\\sigma_0=\\sigma_1$<br>\n",
    "Так как $LR\\left(\\overrightarrow x,\\lambda_0,\\lambda_1\\right)$ монотонна относительно $\\overline x$ то:<br>\n",
    "$LR\\left(\\overrightarrow x\\right)<c\\Leftrightarrow\\overline x>c^\\ast$<br>\n",
    "$LR\\left(\\overrightarrow x\\right)>c\\Leftrightarrow\\overline x<c^\\ast$<br>\n",
    "$\\varphi\\left(x\\right)=\\left\\{\\begin{array}{l}1,\\overline x<c^\\ast\\\\ p,\\overline x=c^\\ast\\\\0,\\overline x>c^\\ast\\end{array}\\right.$<br>\n",
    "Согласно центральной предельной теореме:<br>\n",
    "$\\sqrt n\\frac{\\overline x-a}\\sigma\\sim N\\left(0,1\\right)$<br>\n",
    "$P\\left(\\sqrt n\\frac{\\overline x-a_0}\\sigma\\geq\\sqrt n\\frac{c^\\ast-a_0}\\sigma\\right)=1-\\Phi\\left(\\sqrt n\\frac{c^\\ast-a_0}\\sigma\\right)=\\alpha$<br>\n",
    "$x_\\alpha=\\sqrt n\\frac{c^\\ast-a_0}\\sigma$<br>\n",
    "Выбрать $x_\\alpha$: $\\Phi\\left(x_\\alpha\\right)=1-\\alpha=0.9$<br>\n"
   ],
   "metadata": {
    "collapsed": false
   },
   "id": "f6543589d4cbcf5d"
  },
  {
   "cell_type": "code",
   "execution_count": 324,
   "outputs": [
    {
     "name": "stdout",
     "output_type": "stream",
     "text": [
      "х_alpha =  1.282\n",
      "c* =  5.181\n"
     ]
    }
   ],
   "source": [
    "x_alpha = stats.norm.ppf(1-alpha)\n",
    "print('х_alpha = ', round(x_alpha,3))\n",
    "c_star =  x_alpha*sigma_1/sqrt(N)+ a_1\n",
    "print('c* = ',round(c_star,3))"
   ],
   "metadata": {
    "collapsed": false,
    "ExecuteTime": {
     "end_time": "2023-12-06T18:11:45.978099800Z",
     "start_time": "2023-12-06T18:11:45.368776400Z"
    }
   },
   "id": "32294645a26a7633"
  },
  {
   "cell_type": "markdown",
   "source": [
    "Так как $\\overline x < c^\\ast$ принимаем гипотезу $H_1$<br>"
   ],
   "metadata": {
    "collapsed": false
   },
   "id": "6d9f4e7473efa776"
  },
  {
   "cell_type": "markdown",
   "id": "b3426bf968ddcb13",
   "metadata": {},
   "source": [
    "#### Пункт i: в пунктах (c)-(g) заменить семейство нормальных распределений на двухпараметрическое семейство распределений Лапласа\n",
    "##### Подпункт c:\n",
    "$\\textstyle p_{a,\\sigma}\\left(x\\right)={\\displaystyle\\frac1{\\sqrt2\\sigma}}\\exp\\left(-{\\displaystyle\\frac{\\sqrt2}\\sigma}\\left|x-a\\right|\\right)$ - плотность распределения Лапласа<br>\n",
    "Функция правдоподобия:<br>\n",
    "$\\textstyle L\\left(\\overrightarrow x,\\theta\\right)=\\overset n{\\underset{i=1}{\\prod\\frac1{\\sqrt2\\sigma}\\exp\\left(-{\\displaystyle\\frac{\\sqrt2}\\sigma}\\left|x_i-a\\right|\\right)}}=2^{-{\\displaystyle\\frac n2}}\\sigma^{-n}\\exp\\left(-\\frac{\\sqrt2}\\sigma\\overset n{\\underset{i=1}{\\sum\\left|x_i-a\\right|}}\\right)$<br>\n",
    "Логарифмическая функция правдоподобия:<br>\n",
    "$\\textstyle LL\\left(\\overrightarrow x,\\theta\\right)=-\\frac n2\\ln\\left(2\\right)-n\\ln\\left(\\sigma\\right)-\\frac{\\sqrt2}\\sigma\\overset n{\\underset{i=1}{\\sum\\left|x_i-a\\right|}}$<br>\n",
    "1. ОМП параметра a:<br>\n",
    "$\\textstyle{\\displaystyle\\frac{\\partial\\mathrm{LL}\\left(\\overrightarrow x,\\theta\\right)}{\\partial a}}=\\frac{\\sqrt2}\\sigma\\overset n{\\underset{i=1}{\\sum\\mathrm{sign}\\left(x_i-a\\right)}}=0$<br>\n",
    "ОМП параметра a - выборочная медиана: $\\textstyle\\widehat a=z_{n,0.5}$<br>\n",
    "2. ОМП параметра $\\sigma^2$:<br>\n",
    "$\\textstyle{\\displaystyle\\frac{\\partial\\mathrm{LL}\\left(\\overrightarrow x,\\theta\\right)}{\\partial\\sigma}}=-{\\displaystyle\\frac n\\sigma}+{\\displaystyle\\frac{\\sqrt2}{\\sigma^2}}\\overset n{\\underset{i=1}{\\sum\\left|x_i-a\\right|}}=0$<br>\n",
    "$\\textstyle\\sigma={\\displaystyle\\frac{\\sqrt2}n}\\overset n{\\underset{i=1}{\\sum\\left|x_i-a\\right|}}$<br>\n",
    "$\\textstyle\\widehat{\\sigma^2}={\\displaystyle\\frac2{n^2}}\\left(\\overset n{\\underset{i=1}{\\sum\\left|x_i-\\widehat a\\right|}}\\right)^2$ - ОМП<br>\n",
    "$\\widehat\\theta=\\left(\\widehat a,\\widehat{\\sigma^2}\\right)=\\left(z_{n,0.5},\\frac2{n^2}\\left({\\textstyle\\overset n{\\underset{i=1}{\\sum\\left|x_i-z_{n,0.5}\\right|}}}\\right)^2\\right)$<br>"
   ]
  },
  {
   "cell_type": "code",
   "execution_count": 325,
   "outputs": [
    {
     "name": "stdout",
     "output_type": "stream",
     "text": [
      "Оценка максимального правдоподобия a =  5.082\n",
      "Оценка максимального правдоподобия σ^2 =  1.275\n"
     ]
    }
   ],
   "source": [
    "omp_a = median\n",
    "omp_sigma = 0\n",
    "for i in x:\n",
    "    omp_sigma+=abs(i-median)\n",
    "omp_sigma=omp_sigma/N*sqrt(2)\n",
    "print(\"Оценка максимального правдоподобия a = \", round(omp_a, 3))\n",
    "print(\"Оценка максимального правдоподобия σ^2 = \", round(omp_sigma**2, 3))"
   ],
   "metadata": {
    "collapsed": false,
    "ExecuteTime": {
     "end_time": "2023-12-06T18:11:45.978099800Z",
     "start_time": "2023-12-06T18:11:45.375969400Z"
    }
   },
   "id": "67e84dcfb9eec053"
  },
  {
   "cell_type": "markdown",
   "source": [
    "НРМД:<br>\n",
    "$\\mathbb{E}_\\theta a=\\mathbb{E}_\\theta z_{n,0.5}=z_{n,0.5}$ - оценка несмещенная<br>\n",
    "$\\mathbb{E}_\\theta\\sigma^2=\\mathbb{E}_\\theta\\frac2{n^2}\\left({\\textstyle\\overset n{\\underset{i=1}{\\sum\\left|x_i-a\\right|}}}\\right)^2$ - оценка смещенная<br>"
   ],
   "metadata": {
    "collapsed": false
   },
   "id": "b413de32156c5fd6"
  },
  {
   "cell_type": "markdown",
   "source": [
    "Метод моментов:<br>\n",
    "$\\left\\{\\begin{array}{l}\\mu_1=\\frac1n\\sum_{i=1}^nx_i=\\overline x\\\\\\mu_2=\\mu_2=\\mathbb{D}x+{(\\mathbb{E}x)}^2\\end{array}\\right.$<br>\n",
    "В распределении Лапласа $\\mathbb{E}x=\\beta$, $\\mathbb{D}x=\\frac2{\\alpha^2}$ где $\\beta=a$, $\\alpha=\\frac\\sqrt{2}{\\sigma}$<br>\n",
    "Тогда $\\mathbb{E}x=a$, $\\mathbb{D}x=\\sigma^2$<br>\n",
    "$\\left\\{\\begin{array}{l}\\mu_1=\\overline x=a\\\\\\mu_2=\\mathbb{D}x+{(\\mathbb{E}x)}^2=\\sigma^2+{(\\mathbb{E}x)}^2\\end{array}\\right.$<br>\n",
    "$\\widehat a=\\overline x$ - ОММ параметра a<br>\n",
    "$\\widehat{\\sigma^2}=\\mathbb{E}x^2-\\left(\\mathbb{E}x\\right)^2=s^2$ - ОММ параметра $\\sigma^2$<br>"
   ],
   "metadata": {
    "collapsed": false
   },
   "id": "72c9bc464eab80ce"
  },
  {
   "cell_type": "code",
   "execution_count": 326,
   "outputs": [
    {
     "name": "stdout",
     "output_type": "stream",
     "text": [
      "Оценка по методу моментов a =  5.003\n",
      "Оценка по методу моментов σ^2 =  1.026\n"
     ]
    }
   ],
   "source": [
    "a_param=0\n",
    "for i in x:\n",
    "    a_param+=i\n",
    "a_param=a_param/N\n",
    "print(\"Оценка по методу моментов a = \", round(a_param, 3))\n",
    "sigma_param=Dx\n",
    "print(\"Оценка по методу моментов σ^2 = \", round(sigma_param, 3))"
   ],
   "metadata": {
    "collapsed": false,
    "ExecuteTime": {
     "end_time": "2023-12-06T18:11:45.978099800Z",
     "start_time": "2023-12-06T18:11:45.380465300Z"
    }
   },
   "id": "78244830d03551a0"
  },
  {
   "cell_type": "markdown",
   "source": [
    "##### Подпункт d:\n",
    "1. Построение ДИ для параметра a<br>\n",
    "По Лемме Фишера: $\\sqrt{n-1}\\frac{\\overline x-a}s\\sim Student\\left(n-1\\right)$<br>\n",
    "Выбрать $x_\\alpha:\\;S(x_\\alpha)=1-\\frac\\alpha2=0.95$<br>\n",
    "$P_\\theta\\left(-x_\\alpha\\leq\\sqrt{n-1}\\frac{\\overline x-a}s\\leq x_\\alpha\\right)=1-\\alpha$<br>\n",
    "$P_\\theta\\left(\\overline x-\\frac{x_\\alpha s}{\\sqrt{n-1}}\\leq a\\leq\\overline x+\\frac{x_\\alpha s}{\\sqrt{n-1}}\\right)=1-\\alpha=0.9$<br>\n",
    "2. Построение ДИ для параметра $\\sigma^2$<br>\n",
    "По Лемме Фишера $\\frac{ns^2}{\\sigma^2}\\sim{\\chi^2}_{n-1}$<br>\n",
    "Выбрать $x_{1\\alpha}:\\;K_{n-1}\\left(x_{1\\alpha}\\right)=\\frac\\alpha2=0.05\\;;\\;x_{2\\alpha}:\\;K_{n-1}\\left(x_{2\\alpha}\\right)=1-\\frac\\alpha2=0.95$<br>\n",
    "$P_\\theta\\left(x_{1\\alpha}\\leq\\frac{ns^2}{\\sigma^2}\\leq x_{2\\alpha}\\right)=1-\\alpha$<br>\n",
    "$P_\\theta\\left(\\frac{ns^2}{x_{2\\alpha}}\\leq\\sigma^2\\leq\\frac{ns^2}{x_{1\\alpha}}\\right)=1-\\alpha=0.9$<br>"
   ],
   "metadata": {
    "collapsed": false
   },
   "id": "8441a5eba0587abe"
  },
  {
   "cell_type": "code",
   "execution_count": 327,
   "outputs": [
    {
     "name": "stdout",
     "output_type": "stream",
     "text": [
      "Доверительный интервал: a от  4.761 до  5.246  с доверительной точностью  0.9\n",
      "Доверительный интервал: σ^2 от  0.773 до  1.511  с доверительной точностью  0.9\n"
     ]
    }
   ],
   "source": [
    "x_alpha = stats.t.ppf(1-alpha/2,N-1)\n",
    "a_min = Ex - x_alpha*S/sqrt(N-1)\n",
    "a_max = Ex + x_alpha*S/sqrt(N-1)\n",
    "x1_alpha = stats.chi2.ppf(alpha/2, N-1)\n",
    "x2_alpha = stats.chi2.ppf(1-alpha/2, N-1)\n",
    "sigma_min = N*Dx/x2_alpha\n",
    "sigma_max = N*Dx/x1_alpha\n",
    "print(\"Доверительный интервал: a от \",round(a_min, 3),\"до \", round(a_max,3), \" с доверительной точностью \",1-alpha)\n",
    "print(\"Доверительный интервал: σ^2 от \",round(sigma_min, 3),\"до \", round(sigma_max,3), \" с доверительной точностью \",1-alpha)"
   ],
   "metadata": {
    "collapsed": false,
    "ExecuteTime": {
     "end_time": "2023-12-06T18:11:45.978099800Z",
     "start_time": "2023-12-06T18:11:45.389308700Z"
    }
   },
   "id": "724cf2c42aa99f8c"
  },
  {
   "cell_type": "markdown",
   "source": [
    "##### Подпункт e:\n",
    "$D_n=\\sup\\nolimits_{x\\in R}\\left|F_n(x)-F(x)\\right|$ - статистика критерия Колмогорова<br>\n",
    "$\\eta=\\sqrt nD_n=\\sqrt n\\sup\\nolimits_{x\\in R}\\left|F_n(x)-F(x)\\right|$ - выборочный критерий Колмогорова $\\eta\\Rightarrow K$<br>\n",
    "$x_\\alpha$ - квантиль Колмогорова при уровне значимости $\\alpha$<br>\n",
    "$V_k=\\left(x_\\alpha;\\;+\\infty\\right)$ - критическая область"
   ],
   "metadata": {
    "collapsed": false
   },
   "id": "bcd5de8c040ebf30"
  },
  {
   "cell_type": "code",
   "execution_count": 328,
   "outputs": [
    {
     "name": "stdout",
     "output_type": "stream",
     "text": [
      "Выборочный критерий Колмогорова =  4.809\n",
      "Квантиль Колмогорова =  1.224\n",
      "Так как Dη > x_alpha, выборочный критерий попадает в критическую область, значит гипотеза отвергается\n",
      "Наибольшее значение уровня значимости при котором нет оснований отвергнуть данную гипотезу: alpha =  0.0\n"
     ]
    }
   ],
   "source": [
    "def Laplace(x):\n",
    "    return stats.laplace.cdf(x, loc=a_0, scale=sigma_0)\n",
    "Dn, none = stats.kstest(xi, Laplace)\n",
    "Dn*=sqrt(N)\n",
    "print('Выборочный критерий Колмогорова = ',round(Dn,3))\n",
    "x_alpha=stats.kstwobign.ppf(1-alpha)\n",
    "print('Квантиль Колмогорова = ',round(x_alpha,3))\n",
    "if Dn>x_alpha:\n",
    "    print(\"Так как Dη > x_alpha, выборочный критерий попадает в критическую область, значит гипотеза отвергается\")\n",
    "else:\n",
    "    print(\"Так как Dη <= x_alpha, выборочный критерий не попадает в критическую область, значит нет оснований отвергать гипотезу\")\n",
    "pvalue=1-stats.kstwobign.cdf(Dn)\n",
    "print(\"Наибольшее значение уровня значимости при котором нет оснований отвергнуть данную гипотезу: alpha = \",round(pvalue,3))"
   ],
   "metadata": {
    "collapsed": false,
    "ExecuteTime": {
     "end_time": "2023-12-06T18:11:45.978099800Z",
     "start_time": "2023-12-06T18:11:45.397822400Z"
    }
   },
   "id": "8ad28dde949088be"
  },
  {
   "cell_type": "markdown",
   "source": [
    "##### Подпункт f:\n",
    "$P_i=P_{H0}=P\\left(X\\in I_i\\right)={\\textstyle\\frac1{\\sqrt2\\sigma_0}\\int_{x\\in I_i}\\exp\\left(-\\frac{\\sqrt2}{\\sigma_0}\\left|x-a_0\\right|\\right)}$<br>\n",
    "Критерий $\\chi^2:\\;{\\chi^2}_{sel}={\\textstyle\\sum_{i=1}^m}\\;\\frac{\\left(n_i-nP_i\\right)^2}{nP_i}$ где m=7 - количество групп<br>"
   ],
   "metadata": {
    "collapsed": false
   },
   "id": "b49b7c4e12849b9b"
  },
  {
   "cell_type": "code",
   "execution_count": 329,
   "outputs": [
    {
     "name": "stdout",
     "output_type": "stream",
     "text": [
      "I0 [2.239, 3.7039): 5 элементов\n",
      "I1 [3.7039, 4.1922): 6 элементов\n",
      "I2 [4.1922, 4.6805): 7 элементов\n",
      "I3 [4.6805, 5.1688): 9 элементов\n",
      "I4 [5.1688, 5.6571): 9 элементов\n",
      "I5 [5.6571, 6.1454): 9 элементов\n",
      "I6 [6.1454, 7.122): 5 элементов\n"
     ]
    }
   ],
   "source": [
    "for i in range(len(I)):\n",
    "    print(f\"I{i} [{I[i]['lower']}, {I[i]['upper']}): {I[i]['count']} элементов\")\n"
   ],
   "metadata": {
    "collapsed": false,
    "ExecuteTime": {
     "end_time": "2023-12-06T18:11:45.979086300Z",
     "start_time": "2023-12-06T18:11:45.405669300Z"
    }
   },
   "id": "91cee9a155739aab"
  },
  {
   "cell_type": "code",
   "execution_count": 330,
   "outputs": [
    {
     "name": "stdout",
     "output_type": "stream",
     "text": [
      "Критерий X^2 наблюдаемый =  138.0164\n",
      "Значение X^2 при уровне значимости  0.1 и 6 степенях свободы =  10.6446\n"
     ]
    }
   ],
   "source": [
    "P=[]\n",
    "N_i = []\n",
    "for i in I:\n",
    "    P_i=stats.laplace.cdf(i['upper'], loc=a_0, scale=sqrt(2)/sigma_0)-stats.laplace.cdf(i['lower'], loc=a_0, scale=sqrt(2)/sigma_0)\n",
    "    P.append(P_i)\n",
    "    N_i.append(i['count'])\n",
    "criteria = 0\n",
    "for i in range(0, len(P)):\n",
    "    criteria += ((N_i[i] - N*P[i])**2)/(N*P[i])\n",
    "print('Критерий X^2 наблюдаемый = ', round(criteria,4))\n",
    "chi_value = stats.chi2.ppf(1-alpha, len(P)-1)\n",
    "print('Значение X^2 при уровне значимости ',alpha, 'и', len(P)-1, 'степенях свободы = ' ,round(chi_value,4))"
   ],
   "metadata": {
    "collapsed": false,
    "ExecuteTime": {
     "end_time": "2023-12-06T18:11:45.979086300Z",
     "start_time": "2023-12-06T18:11:45.413391300Z"
    }
   },
   "id": "5ca603bfb78ba2d0"
  },
  {
   "cell_type": "markdown",
   "source": [
    "Так как $\\chi^2>\\chi_{6;0.1}^2$ то по критерию Пирсона гипотеза отвергается"
   ],
   "metadata": {
    "collapsed": false
   },
   "id": "fc42ceadb6e5c151"
  },
  {
   "cell_type": "code",
   "execution_count": 331,
   "outputs": [
    {
     "name": "stdout",
     "output_type": "stream",
     "text": [
      "Наибольшее значение уровня значимости при котором нет оснований отвергнуть данную гипотезу: alpha =  0.0\n"
     ]
    }
   ],
   "source": [
    "pvalue = stats.chi2.cdf(criteria, len(P)-1)\n",
    "print('Наибольшее значение уровня значимости при котором нет оснований отвергнуть данную гипотезу: alpha = ',1-round(pvalue,5))"
   ],
   "metadata": {
    "collapsed": false,
    "ExecuteTime": {
     "end_time": "2023-12-06T18:11:45.979086300Z",
     "start_time": "2023-12-06T18:11:45.421753100Z"
    }
   },
   "id": "130ef0009add6094"
  },
  {
   "cell_type": "markdown",
   "source": [
    "Значения $\\alpha$ при котором нет оснований отвергать данную гипотезу стремится к нулю"
   ],
   "metadata": {
    "collapsed": false
   },
   "id": "8e3ec21adff157da"
  },
  {
   "cell_type": "markdown",
   "source": [
    "##### Подпункт g:\n",
    "$P_i=P_{H0}=P\\left(X\\in I_i\\right)={\\textstyle\\frac1{\\sqrt2s}\\int_{x\\in I_i}\\exp\\left(-\\frac{\\sqrt2}s\\left|x-\\overline x\\right|\\right)}$<br>\n",
    "Критерий $\\chi^2:\\;{\\chi^2}_{sel}={\\textstyle\\sum_{i=1}^m}\\;\\frac{\\left(n_i-nP_i\\right)^2}{nP_i}$ где m=7 - количество групп<br>"
   ],
   "metadata": {
    "collapsed": false
   },
   "id": "2c12ee1d4eac1e21"
  },
  {
   "cell_type": "code",
   "execution_count": 332,
   "outputs": [
    {
     "name": "stdout",
     "output_type": "stream",
     "text": [
      "Критерий X^2 наблюдаемый =  4.7669\n",
      "Значение X^2 при уровне значимости  0.1 и 4 степенях свободы =  7.7794\n"
     ]
    }
   ],
   "source": [
    "P=[]\n",
    "N_i = []\n",
    "for i in I:\n",
    "    P_i=stats.laplace.cdf(i['upper'], loc=omp_a, scale=sqrt(2)/omp_sigma)-stats.laplace.cdf(i['lower'], loc=omp_a, scale=sqrt(2)/omp_sigma)\n",
    "    P.append(P_i)\n",
    "    N_i.append(i['count'])\n",
    "criteria = 0\n",
    "for i in range(0, len(P)):\n",
    "    criteria += ((N_i[i] - N*P[i])**2)/(N*P[i])\n",
    "print('Критерий X^2 наблюдаемый = ', round(criteria,4))\n",
    "chi_value = stats.chi2.ppf(1-alpha, len(P)-3)\n",
    "print('Значение X^2 при уровне значимости ',alpha, 'и', len(P)-3, 'степенях свободы = ' ,round(chi_value,4))"
   ],
   "metadata": {
    "collapsed": false,
    "ExecuteTime": {
     "end_time": "2023-12-06T18:11:45.979086300Z",
     "start_time": "2023-12-06T18:11:45.427821700Z"
    }
   },
   "id": "576118ce71b7ff01"
  },
  {
   "cell_type": "markdown",
   "source": [
    "Так как $\\chi^2<=\\chi_{4;0.1}^2$ то по критерию Пирсона нет оснований отвергать гипотезу"
   ],
   "metadata": {
    "collapsed": false
   },
   "id": "6026bd90b3e73dc3"
  },
  {
   "cell_type": "code",
   "execution_count": 333,
   "outputs": [
    {
     "name": "stdout",
     "output_type": "stream",
     "text": [
      "Наибольшее значение уровня значимости при котором нет оснований отвергнуть данную гипотезу: alpha =  0.31206\n"
     ]
    }
   ],
   "source": [
    "pvalue = stats.chi2.cdf(criteria, len(P)-3)\n",
    "print('Наибольшее значение уровня значимости при котором нет оснований отвергнуть данную гипотезу: alpha = ',1-round(pvalue,5))"
   ],
   "metadata": {
    "collapsed": false,
    "ExecuteTime": {
     "end_time": "2023-12-06T18:11:45.979086300Z",
     "start_time": "2023-12-06T18:11:45.437847500Z"
    }
   },
   "id": "1685fa8699567886"
  },
  {
   "cell_type": "markdown",
   "source": [
    "## Выводы\n",
    "В ходе практической работы были изучены и применены методы математической статистики для анализа данных. Были освоены программные пакеты для реализации этих методов. Рассмотрены различные статистические тесты, проведен анализ выборочных данных, построены доверительные интервалы и проверены гипотезы. Также были созданы оценки и интервалы с использованием асимптотических методов и проведена проверка и доказательство гипотез."
   ],
   "metadata": {
    "collapsed": false
   },
   "id": "fd763a3277dbad9f"
  }
 ],
 "metadata": {
  "kernelspec": {
   "display_name": "Python 3 (ipykernel)",
   "language": "python",
   "name": "python3"
  },
  "language_info": {
   "codemirror_mode": {
    "name": "ipython",
    "version": 3
   },
   "file_extension": ".py",
   "mimetype": "text/x-python",
   "name": "python",
   "nbconvert_exporter": "python",
   "pygments_lexer": "ipython3",
   "version": "3.11.5"
  }
 },
 "nbformat": 4,
 "nbformat_minor": 5
}
