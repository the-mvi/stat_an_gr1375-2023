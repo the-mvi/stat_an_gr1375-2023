{
 "cells": [
  {
   "cell_type": "markdown",
   "metadata": {},
   "source": [
    "# Практическая работа №2: Классические методы математической статистики\n",
    "Выполнила студентка гр. 1375 Парфенова Екатерина. Вариант №20"
   ]
  },
  {
   "cell_type": "markdown",
   "metadata": {},
   "source": [
    "## Цель работы\n",
    "Научится применять методы математической статистики для решения задач статистического анализа; сформировать навыки реализации методов с помощью прикладных программных пакетов."
   ]
  },
  {
   "cell_type": "markdown",
   "metadata": {},
   "source": [
    "## Основные теоретические положения\n",
    "\n",
    "#### Выборочные числовые характеристики:\n",
    "Мат.ожидание<br>\n",
    "$\\bar{X} =\\frac{1}{n}\\sum_{i=1}^{n}x_i$<br>\n",
    "Дисперсия<br>\n",
    "$S^2 =\\frac{1}{n}\\sum_{i=1}^{n}\\left(x_i-\\bar{X}\\right)^2$<br>\n",
    "СКО<br>\n",
    "$S=\\sqrt{S^2}$<br>\n",
    "Коэффициент асимметрии:<br>\n",
    "$\\widehat{\\mathrm{Skew}}X=\\frac{1}{n}\\frac{\\sum_{i=1}^{n}\\left(x_i-\\bar{X}\\right)^3}{S^3} $<br>\n",
    "Коэффициент эксцесса:<br>\n",
    "$\\widehat{\\mathrm{Kurt}}X=\\frac{1}{n}\\frac{\\sum_{i=1}^{n}\\left(x_i-\\bar{X}\\right)^4}{S^4}-3 $<br>\n",
    "\n",
    "\n",
    "#### Метод моментов\n",
    "\n",
    "Пусть $X_{1},\\dots,X_{n}$-выбока из распределения $P_{\\theta}$<br> $\\theta=(\\theta_{1},\\dots,\\theta_{d})$<br>\n",
    "Существуют $\\mu_{k}(\\theta)=\\mathbb{E}X^{k}_{1}, k=1,\\dots,d$<br>\n",
    "\n",
    "Если существует единственное решение $\\widetilde{\\theta}(X)$ системы уравнений:\n",
    "$$\\widehat{\\mu_{k}}(\\widetilde{\\theta})=\\mu_{k}(\\theta), k=1,\\dots,d,$$\n",
    "где $\\widehat{\\mu_{k}}(\\widetilde{\\theta})=\\frac{1}{n}\\sum_{i=1}^{n}X^{k}_{i}$-выборочный момент k-го порядка, то $\\widetilde{\\theta}(X)$ называется оценкой по методу моментов\n",
    "\n",
    "#### Метод максимального правдоподобия\n",
    "\n",
    "Если $X_{1},...,X_{n}$-выборка из распределения с плотностью распределения $\\rho_{\\theta}, \\theta\\in \\Theta$, то:\n",
    "\n",
    "Функция правдоподобия распадается в произведение<br> $$L(\\vec {X},\\theta)=\\prod_{i=1}^{n}\\rho_{\\theta}(X_{i})$$\n",
    "\n",
    "Логарифм функции правдоподобия представляется в виде суммы $$LL(\\vec{X},\\theta)=\\ln L(\\vec{X},\\theta)=\\sum_{i=1}^{n}\\ln \\rho_{\\theta}(X_{i})$$\n",
    "\n",
    "В силу монотонности логарифма задача максимизации функции правдоподобия сводится к задаче максимизации её логарифма по всем $\\theta\\in \\Theta$  $$LL(\\vec{X}),\\theta=\\sum_{i=1}^{n}\\ln \\rho_{\\theta}(X_{i})$$<br>\n",
    "\n",
    "Если $\\theta=(\\theta_{1},\\dots,\\theta_{d})$ - d-мерный параметр и $\\rho_{\\theta}$ дифференцируема по $\\theta$, то для нахождения максимума надо найти решения системы уравнений: $$U(\\vec{X},\\theta)=\\frac{\\partial}{\\partial \\theta}LL(\\vec{X},\\theta)=0,\\ i=1,\\dots,d$$<br>\n",
    "\n",
    "#### Асимптотический доверительный интервал\n",
    "Асимптотическая нормальность в терминах сходимости: $\\sqrt{n}\\left( \\widehat{\\theta}(\\overrightarrow{X})-\\theta)\\right)\\sim \\mathcal{N}\\left(0,\\sigma^{2}(\\theta)\\right)$<br>\n",
    "\n",
    "Статистика $\\hat{\\Theta}_n = \\left[T_{1,n}(\\overrightarrow{X}), T_{2,n}(\\overrightarrow{X})\\right]$ определенная при любом $n \\in \\mathbb{N}$ такая, что $lim_{n \\to \\infty}P_{\\theta}\\left(\\left[T_{1,n}(\\overrightarrow{X}), T_{2,n}(\\overrightarrow{X})\\right] \\ni \\theta \\right) \\ge 1 - \\alpha$, где $\\alpha \\in (0,1)$ - уровень значимости<br>\n",
    "\n",
    "Метод построения на базе ОМП<br>\n",
    "\n",
    "При выполнении определенных условий регулярности<br>\n",
    "\n",
    "$\\sqrt{n}\\left( \\hat{\\theta}(\\overrightarrow{X})-\\theta)\\right)\\sim \\mathcal{N}\\left(0,\\frac{1}{I(\\theta)}\\right)$, где $I(\\theta) = \\lim_{n \\to \\infty}I_n(\\theta)/n$ - информация Фишера, а $ I_n(\\theta) = -\\mathbb{E} \\frac{\\partial^{2} LL}{\\partial \\theta^{2}}$<br>\n",
    "\n",
    "Тогда $\\sqrt{nI\\left(\\hat{\\theta}(\\overrightarrow{X}) \\right)}\\ \\left( \\hat{\\theta}(\\overrightarrow{X})-\\theta \\right)\\sim \\mathcal{N}(0,1)$<br>\n",
    "\n",
    "Выберем $x_{\\alpha} : \\Phi(x_{\\alpha}) = 1 - x_{\\alpha}/2$<br>\n",
    "\n",
    "и получим асимптотический доверительный интервал $\\left[ \\hat{\\theta}(\\overrightarrow{X})-\\frac{X_{\\alpha}}{\\sqrt{n I\\left( \\hat{\\theta}(\\overrightarrow{X}) \\right)}};\\ \\hat{\\theta}(\\overrightarrow{X})+\\frac{X_{\\alpha}}{\\sqrt{n I\\left( \\hat{\\theta}(\\overrightarrow{X}) \\right)}} \\right] \\ni \\theta$<br>\n",
    "\n",
    "#### Критерий $\\chi^2$ для проверки гипотез\n",
    "\n",
    "Разбиваем множество значений случайной величины на r непересекающихся интервалов, которые покроют все возможные значения СВ.<br>\n",
    "\n",
    "$p_{i}$ - теоретическая вероятность попадания СВ в i-ый интервал при нулевой гипотезе.<br>\n",
    "\n",
    "$n_{i}$ - количество значений выборки, попавших в i-ый интервал<br>\n",
    "\n",
    "Сравниваем относительную и теоретическую частоты.<br>\n",
    "\n",
    "$\\chi^{2}_в = \\sum_{i=1}^{N}  \\frac{(n_i-np_i)^2}{np_i}  $<br>\n",
    "\n",
    "Если $\\chi^{2} >\\chi^2_{1 - \\alpha, r - 1}$, где<br>\n",
    "\n",
    "$r$ - кол-во интервалов, то гипотезу отвергаем.<br>\n",
    " Если $\\chi^{2}_в <\\chi^2_{1 - \\alpha, r - 1}$ - не отвергаем.\n",
    "\n",
    "\n",
    "#### Теорема Колмогорова\n",
    "Статистика критерия Колмогорова<br>\n",
    "$D_{n} = \\overset{}{\\underset{X \\in \\mathbb R}{sup}} |F_{n}(X_{i}) - F_{0}(X_{i})|$<br>\n",
    "\n",
    "Теорема Колмогорова: $\\sqrt(n)D_n$ \\Rightarrow K при основной гипотезе <br>\n",
    "\n",
    "где $K$ - распределениe Колмогорова<br>\n",
    "K(x) - функция распределения Колмогорова<br>\n",
    "\n",
    "Критерий Колмогорова<br>\n",
    "Выбираем уровень значимости $\\alpha$ > 0 – малое число<br>\n",
    "Критерий уровня значимости α:<br>\n",
    "- 0, при $D_n<x_\\alpha$;<br>\n",
    "- 1, при  $D_n>x_\\alpha$<br>\n",
    "\n",
    "\n",
    "\n",
    "#### Наиболее мощный критерий простой гипотезы\n",
    "\n",
    "Для нулевой гипотезы $H_{0}: \\theta=\\theta_{0}$ и альтернативной гипотезы $H_{А}: \\theta=\\theta_{A}$, где $\\theta_{0}$ и $\\theta_{A}$ - фиксированные параметры, строим статистику правдоподобия:<br>\n",
    "\n",
    "$LR(\\overrightarrow{X},\\theta_{A},\\theta_{0})=\\frac{L(\\overrightarrow{X},\\theta_{A})}{L(\\overrightarrow{X},\\theta_{0})}$ - статистика отношений правдоподобия<br>\n",
    "$L(\\overrightarrow{X},\\theta)$ - соответствующие функции максимального правдоподобия.<br>\n",
    "\n",
    "Теорема (Лемма Неймана–Пирсона)<br>\n",
    "Cуществует более мощный критерий уровня значимости $\\alpha$ вида:<br>\n",
    "$\\phi(x) =\\left\\{\\begin{array}{l} 1, \\mathrm{LR} > c \\\\ \\mathrm{LR} = c  \\\\ 0, \\mathrm{LR} < c \\\\ \\end{array}\\right.$<br>\n",
    "где константа с и вероятность $ p \\in [0,1) $ находятся из уравнения<br>\n",
    "\n",
    "$  E_{θ_0}ϕ(x)=P_{θ_0}(LR(X)>c)+pP_{θ_0}(LR(X)=c)=α$<br>\n",
    "\n",
    "В области $ LR(X) \\not = c $ критерий $ϕ$ определен однозначно<br>"
   ]
  },
  {
   "cell_type": "markdown",
   "metadata": {
    "tags": []
   },
   "source": [
    "## Постановка задачи\n",
    "Для полученных в результате эксперимента наборов данных выполнить статистическую обработку. Полученные результаты содержательно проинтерпретировать."
   ]
  },
  {
   "cell_type": "markdown",
   "metadata": {},
   "source": [
    "## Выполнение работы\n"
   ]
  },
  {
   "cell_type": "markdown",
   "metadata": {},
   "source": [
    "### 1. В результате эксперимента получены данные, приведённые в таблице 1.\n",
    "\n"
   ]
  },
  {
   "cell_type": "markdown",
   "metadata": {
    "collapsed": false,
    "jupyter": {
     "outputs_hidden": false
    }
   },
   "source": [
    "#### a)Построить вариационный ряд, эмпирическую функцию распределения и гистограмму частот.Х"
   ]
  },
  {
   "cell_type": "code",
   "execution_count": 1517,
   "metadata": {
    "ExecuteTime": {
     "end_time": "2023-12-06T21:49:30.503830Z",
     "start_time": "2023-12-06T21:49:27.534157Z"
    },
    "collapsed": false,
    "jupyter": {
     "outputs_hidden": false
    }
   },
   "outputs": [],
   "source": [
    "import matplotlib.pyplot as plt\n",
    "import numpy as np\n",
    "import statistics as stat\n",
    "import pandas as pd\n",
    "from collections import Counter\n",
    "\n",
    "import sps as sps\n",
    "from scipy import stats"
   ]
  },
  {
   "cell_type": "code",
   "execution_count": 1518,
   "metadata": {
    "ExecuteTime": {
     "end_time": "2023-12-06T21:49:31.059082Z",
     "start_time": "2023-12-06T21:49:27.550136Z"
    },
    "collapsed": false,
    "jupyter": {
     "outputs_hidden": false
    }
   },
   "outputs": [],
   "source": [
    "s ='0 0 1 2 0 0 0 0 1 1 1 3 1 1 0 1 0 0 2 0 0 0 0 0 1 0 0 0 0 1 0 0 1 0 0 0 1 0 1 1 0 0 1 0 1 0 1 1 0 1'\n",
    "\n",
    "alpha1 = 0.05\n",
    "a = 0.00\n",
    "b = 0.78\n",
    "lambda0 = 0.50\n",
    "lambda1 = 1.00\n",
    "\n",
    "x = [int(x) for x in s.split()]\n",
    "n = len(x)"
   ]
  },
  {
   "cell_type": "code",
   "execution_count": 1519,
   "metadata": {
    "ExecuteTime": {
     "end_time": "2023-12-06T21:49:31.059082Z",
     "start_time": "2023-12-06T21:49:27.566114Z"
    },
    "collapsed": false,
    "jupyter": {
     "outputs_hidden": false
    }
   },
   "outputs": [
    {
     "name": "stdout",
     "output_type": "stream",
     "text": [
      "Вариационный ряд: 0 0 0 0 0 0 0 0 0 0 0 0 0 0 0 0 0 0 0 0 0 0 0 0 0 0 0 0 0 1 1 1 1 1 1 1 1 1 1 1 1 1 1 1 1 1 1 2 2 3\n"
     ]
    }
   ],
   "source": [
    "index = [i for i in range(1,n+1)]\n",
    "sorted_x = np.sort(x)\n",
    "\n",
    "print('Вариационный ряд:',*sorted_x)\n"
   ]
  },
  {
   "cell_type": "code",
   "execution_count": 1520,
   "metadata": {
    "ExecuteTime": {
     "end_time": "2023-12-06T21:49:31.063077Z",
     "start_time": "2023-12-06T21:49:27.582096Z"
    },
    "collapsed": false,
    "jupyter": {
     "outputs_hidden": false
    }
   },
   "outputs": [
    {
     "data": {
      "image/png": "[encoded data removed]",
      "text/plain": [
       "<Figure size 640x480 with 1 Axes>"
      ]
     },
     "metadata": {},
     "output_type": "display_data"
    }
   ],
   "source": [
    "variation_range = np.unique(sorted_x)\n",
    "variation_range_g = np.append(variation_range,sorted_x[-1]+1)\n",
    "plt.ecdf(x,color='g')\n",
    "plt.xticks(variation_range)\n",
    "plt.title(\"Эмпирическая функция распределения\")\n",
    "plt.xlabel(\"x\")\n",
    "plt.ylabel(\"F(x)\")\n",
    "plt.show()"
   ]
  },
  {
   "cell_type": "code",
   "execution_count": 1521,
   "metadata": {
    "ExecuteTime": {
     "end_time": "2023-12-06T21:49:31.099030Z",
     "start_time": "2023-12-06T21:49:27.797805Z"
    },
    "collapsed": false,
    "jupyter": {
     "outputs_hidden": false
    }
   },
   "outputs": [
    {
     "data": {
      "image/png": "[encoded data removed]",
      "text/plain": [
       "<Figure size 640x480 with 1 Axes>"
      ]
     },
     "metadata": {},
     "output_type": "display_data"
    }
   ],
   "source": [
    "\n",
    "plt.hist(x, bins = range(min(x),max(x) + 2),density = True ,color='g',edgecolor='black')\n",
    "plt.xticks(variation_range_g)\n",
    "plt.title('Гистограмма частот')\n",
    "plt.xlabel(\"x\")\n",
    "plt.ylabel(\"ni\")\n",
    "plt.show()"
   ]
  },
  {
   "cell_type": "markdown",
   "metadata": {
    "collapsed": false,
    "jupyter": {
     "outputs_hidden": false
    }
   },
   "source": [
    "#### b)Вычислить выборочные аналоги числовых характеристик\n"
   ]
  },
  {
   "cell_type": "code",
   "execution_count": 1522,
   "metadata": {
    "ExecuteTime": {
     "end_time": "2023-12-06T21:49:31.099030Z",
     "start_time": "2023-12-06T21:49:28.069442Z"
    },
    "collapsed": false,
    "jupyter": {
     "outputs_hidden": false
    }
   },
   "outputs": [
    {
     "name": "stdout",
     "output_type": "stream",
     "text": [
      "Выборочные аналоги следующих характеристик:\n",
      "Математическое ожидание:  0.5\n",
      "Дисперсия:  0.45\n",
      "СКО:  0.671\n",
      "Медиана:  0.0\n",
      "Асимметрия:  1.39\n",
      "Эксцесс:  2.143\n",
      "Вероятность попадания в отрезок [a, b]:  0.58\n"
     ]
    }
   ],
   "source": [
    "x_mn = round(np.mean(x),2)\n",
    "\n",
    "def diffence_power(x,n):\n",
    "    differ = []\n",
    "    for xi in x:\n",
    "        differ.append(xi-x_mn)\n",
    "    return [ xi**n for xi in differ ]\n",
    "\n",
    "x_S = sum(diffence_power(x,2))/n\n",
    "sd_x= round(np.sqrt(x_S),3)\n",
    "md = stat.median(x)\n",
    "skew_X =round(sum(diffence_power(x,3))/(n*sd_x**3),3)\n",
    "kurt_X = round(sum(diffence_power(x,4))/(n*sd_x**4)- 3,3)\n",
    "probability_interval = sum([int(a <= xi <= b) for xi in x]) / len(x)\n",
    "\n",
    "print(\"Выборочные аналоги следующих характеристик:\")\n",
    "print(\"Математическое ожидание: \", x_mn)\n",
    "print(\"Дисперсия: \",x_S)\n",
    "print(\"СКО: \", sd_x)\n",
    "print(\"Медиана: \", md)\n",
    "print(\"Асимметрия: \", skew_X)\n",
    "print(\"Эксцесс: \", kurt_X)\n",
    "print(\"Вероятность попадания в отрезок [a, b]: \",probability_interval)\n"
   ]
  },
  {
   "cell_type": "markdown",
   "metadata": {
    "collapsed": false,
    "jupyter": {
     "outputs_hidden": false
    }
   },
   "source": [
    "#### Получены величины<br>\n",
    "$\\bar{X} =0.5$<br>\n",
    "$S^2 =0.45$<br>\n",
    "$S=\\sqrt{S^2}=0.671$<br>\n",
    "$np = 50\\cdot\\frac{1}{2}=25\\in \\mathbb Z$<br>\n",
    "$\\large z_{50,\\frac{1}{2}} = \\normalsize \\left[ X_{(25)},X_{(26)} \\right) = \\left[0,0\\right) = 0$<br>\n",
    "$\\widehat{\\mathrm{Skew}}X = 1.39$<br>\n",
    "$\\widehat{\\mathrm{Kurt}}X= 2.143$<br>\n",
    "$\\mathbb{P}(a<X<b) = 0.58$"
   ]
  },
  {
   "cell_type": "markdown",
   "metadata": {
    "collapsed": false,
    "jupyter": {
     "outputs_hidden": false
    }
   },
   "source": [
    "#### с) Построить ОМП и ОММ.Найти смещение оценок <br>\n",
    "$X \\sim \\mathop{\\mathrm{Pois}}\\nolimits\\left(\\lambda\\right)$ <br>\n",
    "##### Оценка максимального правдоподобия<br>\n",
    "Плотность распределения Пуассона<br>\n",
    "$ q_{\\theta}\\left(k\\right) = \\frac{\\lambda^k}{k!}\\cdot e^{-\\lambda}$<br>\n",
    "$L\\left(\\vec X,{\\theta}\\right) = \\prod_{i=1}^{n} \\frac{\\lambda^{x_i}}{x_i!}\\cdot e^{-\\lambda} = \\lambda^{\\displaystyle\\small\\sum_{\\small i=1}^{n}x_i}\\cdot e^{-n\\lambda}\\cdot \\prod_{i=1}^{n} \\frac{1}{x_i!} $<br>\n",
    "$LL\\left(\\vec X,{\\theta}\\right) = \\sum_{i=1}^{n}x_i \\cdot \\ln{\\lambda} - n\\lambda + \\ln{\\prod\\limits_{i = 1}^n\\frac{1}{\\large x_i!}}$ <br>\n",
    "$\\frac{\\partial LL\\left(\\vec x,{\\theta}\\right)}{\\partial \\lambda} = \\frac{\\displaystyle\\sum_{i=1}^{n}x_i}{\\lambda} - n$<br>\n",
    "$\\frac{\\displaystyle\\sum_{i=1}^{n}x_i}{\\lambda} - n = 0$<br>\n",
    "$\\hat \\lambda = \\frac{1}{n}\\sum_{i=1}^{n}x_i = \\bar{X} = 0.5$<br><br>\n",
    "$g\\left(T(\\vec{X})\\right)=\\lambda^{\\sum_{i=1}^{n}X_{i}}\\cdot e^{-n\\lambda}$<br>\n",
    "$h(\\vec{X})=\\frac{1}{\\prod_{i=1}^{n}x_{i}!}$<br>\n",
    "МДС=$ \\sum_{i=1}^n х_i $ <br>\n",
    "МДС = ПДС, т.к. семейство экспоненциальных<br><br>\n",
    "##### Оценка методом моментов <br>\n",
    "Теоретическая характеристика для Пуассона:<br>\n",
    "$\\mathbb{E}X_1 = \\lambda$ <br>\n",
    "Выборочная характеристика для Пуассона:<br>\n",
    "$\\mathrm{M_1} = \\bar{X}$ <br>\n",
    "$\\widetilde{\\theta} = \\widetilde{\\lambda} = \\bar{X} $<br><br>\n",
    "\n",
    "##### Смещённость оценки <br>\n",
    "ОМП = ОММ $\\Rightarrow$\n",
    "$\\large \\mathbb{E}_{\\theta}\\widetilde{\\theta} = \\mathbb{E}_{\\theta}\\bar{X} = \\mathbb{E}_{\\theta}\\frac{1}{n}\\sum_{i=1}^{n}x_i = \\frac{1}{n} \\cdot \\normalsize n \\cdot \\lambda = \\lambda$<br>  Несмещённая оценка\n"
   ]
  },
  {
   "cell_type": "markdown",
   "metadata": {
    "collapsed": false,
    "jupyter": {
     "outputs_hidden": false
    }
   },
   "source": [
    "#### d)<br>\n",
    "\n",
    "$\\alpha_1 = 0.05$<br>\n",
    "##### На базе ОМП:\n",
    "\n",
    "$\\sqrt{n}\\left(\\hat{\\theta}\\left(\\vec{X}\\right)-\\theta \\right)\\sim N\\left( 0, \\frac{1}{I(\\theta)} \\right)$\n",
    "\n",
    "ОМП из п.с :$\\hat{\\theta}=\\hat{\\lambda}=\\bar{X}$\n",
    "\n",
    "$\\frac{\\partial^{2} LL}{\\partial \\lambda^{2}} = - \\frac{\\sum_{i=1}^{n}x_{i}}{\\lambda^{2}} $<br>\n",
    "\n",
    "$I_n\\left(\\lambda\\right)= -\\mathbb{E}\\left( \\frac{\\partial^{2} LL}{\\partial \\lambda^{2}} \\right)=\\frac{1}{\\lambda^{2}}\\mathbb{E}\\left( \\sum_{i=1}^{n}x_{i} \\right)=\\frac{1}{\\lambda^{2}}\\cdot n \\cdot \\lambda= \\frac{n}{\\lambda}$<br>\n",
    "$I(\\lambda) = {\\lim_{n \\to \\infty}}\\frac{1}{\\lambda} = \\frac{1}{\\lambda}$<br>\n",
    "$\\sqrt{\\frac{n}{\\bar{X}}}\\left(\\bar{X} - \\theta\\right) \\sim \\mathcal{N} \\left(0, 1\\right)$<br>\n",
    "$x_\\alpha: \\Phi(x_\\alpha) = 1 - \\frac{\\alpha}{2} =  1 - \\frac{0.05}{2} =0.975$<br>\n",
    "\n",
    "$x_{α}=1.96$ из таблицы стандартного нормального распределения<br>\n",
    "\n",
    "$\\mathbb{P}_\\theta\\left(-x_\\alpha \\le \\sqrt{\\frac{n}{\\bar{X}}}\\left(\\bar{X} - \\theta\\right) \\le x_\\alpha\\right) \\approx 1 - \\alpha = 0.95$<br>\n",
    "$\\left[\\bar{X} - x_{\\alpha}\\sqrt{\\frac{\\bar{X}}{n}},\\bar{X} + x_\\alpha\\sqrt{\\frac{\\bar{X}}{n}}\\right]\\ni \\lambda$<br>\n",
    "\n",
    "$\\left[0.5- 1.96\\sqrt{\\frac{0.5}{50}},0.5 + 1.96\\sqrt{\\frac{0.5}{50}}\\right]\\ni \\lambda$<br>\n",
    "\n",
    "$\\left[0.304,0.696\\right]\\ni \\lambda$<br>\n",
    "\n",
    "2. На базе асимптотической нормальной оценки $\\hat{\\theta}$\n",
    "\n",
    "$\\sqrt{n}\\left(\\hat\\theta(x)-\\theta\\right)\\sim N\\left(0,\\;\\sigma^2(\\theta)\\right)$<br>\n",
    "В распределении Пуассона $\\mathbb{D}{\\theta} = \\lambda$<br>\n",
    "$\\sqrt n\\frac{\\overline X-\\lambda}{\\sqrt{\\lambda}}\\sim N\\left(0,1\\right)$<br>\n",
    "$x_\\alpha:\\;\\Phi(x_\\alpha)=1-\\frac\\alpha2=0.975$<br>\n",
    "$x_{α}=1.96$<br>\n",
    "$\\mathbb{P}_\\lambda\\left(\\overline X-\\frac{x_\\alpha \\sqrt{\\overline X}}{\\sqrt n}\\leq\\lambda\\leq\\overline X+\\frac{x_\\alpha \\sqrt{\\overline X}}{\\sqrt n}\\right)\\approx1-\\alpha$<br>\n",
    "$\\mathbb{P}_\\lambda\\left(0.5-\\frac{1.96 \\sqrt{0.5}}{\\sqrt 50}\\leq\\lambda\\leq0.5+\\frac{1.96 \\sqrt{0.5}}{\\sqrt 50}\\right)\\approx0.95$<br>\n",
    "$\\left[0.304,0.696\\right]\\ni \\lambda$<br>"
   ]
  },
  {
   "cell_type": "markdown",
   "metadata": {
    "collapsed": false,
    "jupyter": {
     "outputs_hidden": false
    }
   },
   "source": [
    "#### e)<br>"
   ]
  },
  {
   "cell_type": "code",
   "execution_count": 1523,
   "metadata": {
    "ExecuteTime": {
     "end_time": "2023-12-06T21:49:31.099030Z",
     "start_time": "2023-12-06T21:49:28.093412Z"
    },
    "collapsed": false,
    "jupyter": {
     "outputs_hidden": false
    }
   },
   "outputs": [
    {
     "data": {
      "text/html": [
       "<div>\n",
       "<style scoped>\n",
       "    .dataframe tbody tr th:only-of-type {\n",
       "        vertical-align: middle;\n",
       "    }\n",
       "\n",
       "    .dataframe tbody tr th {\n",
       "        vertical-align: top;\n",
       "    }\n",
       "\n",
       "    .dataframe thead th {\n",
       "        text-align: right;\n",
       "    }\n",
       "</style>\n",
       "<table border=\"1\" class=\"dataframe\">\n",
       "  <thead>\n",
       "    <tr style=\"text-align: right;\">\n",
       "      <th></th>\n",
       "      <th>0</th>\n",
       "      <th>1</th>\n",
       "      <th>2</th>\n",
       "      <th>3</th>\n",
       "    </tr>\n",
       "  </thead>\n",
       "  <tbody>\n",
       "    <tr>\n",
       "      <th>ni</th>\n",
       "      <td>29</td>\n",
       "      <td>18</td>\n",
       "      <td>2</td>\n",
       "      <td>1</td>\n",
       "    </tr>\n",
       "  </tbody>\n",
       "</table>\n",
       "</div>"
      ],
      "text/plain": [
       "     0   1  2  3\n",
       "ni  29  18  2  1"
      ]
     },
     "execution_count": 1523,
     "metadata": {},
     "output_type": "execute_result"
    }
   ],
   "source": [
    "def count_unique_values(lst):\n",
    "    counts = Counter(lst)\n",
    "    result = [counts[val] for val in lst]\n",
    "    return result\n",
    "ni = list(dict.fromkeys(count_unique_values(sorted_x)))\n",
    "df_uniq = pd.DataFrame(ni,index = variation_range ,columns=['ni'])\n",
    "df_uniq.T"
   ]
  },
  {
   "cell_type": "markdown",
   "metadata": {
    "collapsed": false,
    "jupyter": {
     "outputs_hidden": false
    }
   },
   "source": [
    "Разобъём множество всех возможных значений СВ на интервалы\n",
    "$I_1$ = [0] - 1 группа<br>\n",
    "$I_2$ = [1] - 2 группа<br>\n",
    "$I_3= [2, +\\infty] $ - 3 группа<br>\n",
    "$P_i=P_{H0}=P\\left(X\\in I_i\\right)={{\\sum\\limits_{i=1}^4 {\\displaystyle\\frac{\\lambda_0^k}{k!}}exp(-\\lambda_0)}}$,где ${k\\in I_i}$<br>\n",
    "$Критерий \\chi^2={\\textstyle\\sum_{i=1}^r}\\;\\frac{(n_i-nP_i)^2}{nP_i}$ <br>\n",
    " r=3 - количество интервалов<br>"
   ]
  },
  {
   "cell_type": "code",
   "execution_count": 1524,
   "metadata": {
    "ExecuteTime": {
     "end_time": "2023-12-06T21:49:31.119008Z",
     "start_time": "2023-12-06T21:49:28.133358Z"
    },
    "collapsed": false,
    "jupyter": {
     "outputs_hidden": false
    }
   },
   "outputs": [
    {
     "data": {
      "text/html": [
       "<div>\n",
       "<style scoped>\n",
       "    .dataframe tbody tr th:only-of-type {\n",
       "        vertical-align: middle;\n",
       "    }\n",
       "\n",
       "    .dataframe tbody tr th {\n",
       "        vertical-align: top;\n",
       "    }\n",
       "\n",
       "    .dataframe thead th {\n",
       "        text-align: right;\n",
       "    }\n",
       "</style>\n",
       "<table border=\"1\" class=\"dataframe\">\n",
       "  <thead>\n",
       "    <tr style=\"text-align: right;\">\n",
       "      <th></th>\n",
       "      <th>1</th>\n",
       "      <th>2</th>\n",
       "      <th>3</th>\n",
       "    </tr>\n",
       "  </thead>\n",
       "  <tbody>\n",
       "    <tr>\n",
       "      <th>ni</th>\n",
       "      <td>29.000000</td>\n",
       "      <td>18.000000</td>\n",
       "      <td>3.000000</td>\n",
       "    </tr>\n",
       "    <tr>\n",
       "      <th>n*Pi</th>\n",
       "      <td>30.326533</td>\n",
       "      <td>15.163266</td>\n",
       "      <td>4.422619</td>\n",
       "    </tr>\n",
       "    <tr>\n",
       "      <th>Слагаемое</th>\n",
       "      <td>0.058025</td>\n",
       "      <td>0.530694</td>\n",
       "      <td>0.457613</td>\n",
       "    </tr>\n",
       "  </tbody>\n",
       "</table>\n",
       "</div>"
      ],
      "text/plain": [
       "                   1          2         3\n",
       "ni         29.000000  18.000000  3.000000\n",
       "n*Pi       30.326533  15.163266  4.422619\n",
       "Слагаемое   0.058025   0.530694  0.457613"
      ]
     },
     "execution_count": 1524,
     "metadata": {},
     "output_type": "execute_result"
    }
   ],
   "source": [
    "def factorial(n):\n",
    "     return 1 if n == 0 else n * factorial(n - 1)\n",
    "\n",
    "def poisson_pmf(lambda_param,k):\n",
    "    return lambda_param**k/factorial(k)*np.exp(-lambda_param)\n",
    "\n",
    "def merge_arrays(arr,source_index, target_index):\n",
    "    arr[target_index] += arr[source_index]\n",
    "    arr.pop(source_index)\n",
    "    return arr\n",
    "\n",
    "P=[poisson_pmf(lambda0, k) for k in variation_range]\n",
    "Ni = ni.copy()\n",
    "\n",
    "merge_arrays(P,3,2)\n",
    "merge_arrays(Ni,3,2)\n",
    "\n",
    "standart=[]\n",
    "for i in range(len(P)):\n",
    "    standart.append(((Ni[i]-n * P[i])**2)/ (n * P[i]))\n",
    "\n",
    "two_nPi_list = [n * Pi for Pi in P]\n",
    "values_df = pd.DataFrame([Ni,two_nPi_list,standart],index=['ni','n*Pi','Слагаемое'],columns=index[:(len(P))])\n",
    "\n",
    "values_df"
   ]
  },
  {
   "cell_type": "code",
   "execution_count": 1525,
   "metadata": {
    "ExecuteTime": {
     "end_time": "2023-12-06T21:49:31.119008Z",
     "start_time": "2023-12-06T21:49:28.157324Z"
    },
    "collapsed": false,
    "jupyter": {
     "outputs_hidden": false
    }
   },
   "outputs": [
    {
     "name": "stdout",
     "output_type": "stream",
     "text": [
      "Критерий X^2 = 1.04633\n",
      "Уровень значимости = 0.05\n",
      "Значение X^2 c 2 степенями свободы = 5.99146\n",
      "Наибольшее значение уровня значимости,на котором нет оснований отвергнуть данную гипотезу = 0.59264\n"
     ]
    }
   ],
   "source": [
    "print(f'Критерий X^2 = {round(sum(standart),5)}')\n",
    "chi_value = stats.chi2.ppf(1-alpha1, len(P)-1)\n",
    "print(f'Уровень значимости = {alpha1}')\n",
    "print(f'Значение X^2 c {len(P)-1} степенями свободы = {round(chi_value,5)}')\n",
    "p_value = stats.chi2.cdf(sum(standart), len(P)-1)\n",
    "print(f'Наибольшее значение уровня значимости,на котором нет оснований отвергнуть данную гипотезу = {round(1-p_value,5)}')"
   ]
  },
  {
   "cell_type": "markdown",
   "metadata": {
    "collapsed": false,
    "jupyter": {
     "outputs_hidden": false
    }
   },
   "source": [
    "$\\chi^2 = 1.04633 $<br>\n",
    "$\\chi^2_{3-1} = 5.99146$ c уровнем значимости $\\alpha = 0.05$<br>\n",
    "$\\chi^2<\\chi_{2}^2$ по критерию Пирсона принимаем гипотезу"
   ]
  },
  {
   "cell_type": "markdown",
   "metadata": {
    "collapsed": false,
    "jupyter": {
     "outputs_hidden": false
    }
   },
   "source": [
    "#### f)<br>\n",
    "Возьмем те же интервалы ,что и в прошлом задании<br>\n",
    "В качестве параметра $\\lambda$ возьмём его ОМП,$\\lambda = \\overline{X}$<br>\n",
    "$P_i=P_{H0}=P\\left(X\\in I_i\\right)={\\textstyle{\\sum\\limits_{i=1}^3{\\displaystyle\\frac{\\overline x^k}{k!}}exp(-\\overline x)}}$,где $k\\in I_i$<br>\n",
    "$Критерий \\chi^2={\\textstyle\\sum_{i=1}^r}\\;\\frac{(n_i-nP_i)^2}{nP_i}$ <br>\n",
    " r=3 - количество интервалов<br>"
   ]
  },
  {
   "cell_type": "code",
   "execution_count": 1526,
   "metadata": {
    "ExecuteTime": {
     "end_time": "2023-12-06T21:49:31.119008Z",
     "start_time": "2023-12-06T21:49:28.177298Z"
    },
    "collapsed": false,
    "jupyter": {
     "outputs_hidden": false
    }
   },
   "outputs": [
    {
     "data": {
      "text/html": [
       "<div>\n",
       "<style scoped>\n",
       "    .dataframe tbody tr th:only-of-type {\n",
       "        vertical-align: middle;\n",
       "    }\n",
       "\n",
       "    .dataframe tbody tr th {\n",
       "        vertical-align: top;\n",
       "    }\n",
       "\n",
       "    .dataframe thead th {\n",
       "        text-align: right;\n",
       "    }\n",
       "</style>\n",
       "<table border=\"1\" class=\"dataframe\">\n",
       "  <thead>\n",
       "    <tr style=\"text-align: right;\">\n",
       "      <th></th>\n",
       "      <th>1</th>\n",
       "      <th>2</th>\n",
       "      <th>3</th>\n",
       "    </tr>\n",
       "  </thead>\n",
       "  <tbody>\n",
       "    <tr>\n",
       "      <th>ni</th>\n",
       "      <td>29.000000</td>\n",
       "      <td>18.000000</td>\n",
       "      <td>3.000000</td>\n",
       "    </tr>\n",
       "    <tr>\n",
       "      <th>n*Pi</th>\n",
       "      <td>30.326533</td>\n",
       "      <td>15.163266</td>\n",
       "      <td>4.422619</td>\n",
       "    </tr>\n",
       "    <tr>\n",
       "      <th>Слагаемое</th>\n",
       "      <td>0.058025</td>\n",
       "      <td>0.530694</td>\n",
       "      <td>0.457613</td>\n",
       "    </tr>\n",
       "  </tbody>\n",
       "</table>\n",
       "</div>"
      ],
      "text/plain": [
       "                   1          2         3\n",
       "ni         29.000000  18.000000  3.000000\n",
       "n*Pi       30.326533  15.163266  4.422619\n",
       "Слагаемое   0.058025   0.530694  0.457613"
      ]
     },
     "execution_count": 1526,
     "metadata": {},
     "output_type": "execute_result"
    }
   ],
   "source": [
    "P=[]\n",
    "P=[poisson_pmf(x_mn, k) for k in variation_range]\n",
    "\n",
    "Ni = ni.copy()\n",
    "merge_arrays(P,3,2)\n",
    "merge_arrays(Ni,3,2)\n",
    "\n",
    "standart=[]\n",
    "for i in range(len(P)):\n",
    "    standart.append(((Ni[i]-n * P[i])**2)/ (n * P[i]))\n",
    "\n",
    "two_nPi_list = [n * Pi for Pi in P]\n",
    "values_df = pd.DataFrame([Ni,two_nPi_list,standart],index=['ni','n*Pi','Слагаемое'],columns=index[:(len(P))])\n",
    "\n",
    "values_df"
   ]
  },
  {
   "cell_type": "code",
   "execution_count": 1527,
   "metadata": {
    "ExecuteTime": {
     "end_time": "2023-12-06T21:49:31.119008Z",
     "start_time": "2023-12-06T21:49:28.205264Z"
    },
    "collapsed": false,
    "jupyter": {
     "outputs_hidden": false
    }
   },
   "outputs": [
    {
     "name": "stdout",
     "output_type": "stream",
     "text": [
      "Критерий X^2 = 1.04633\n",
      "Уровень значимости = 0.05\n",
      "Значение X^2 c 1 степенью свободы = 3.84146\n",
      "Наибольшее значение уровня значимости,на котором нет оснований отвергнуть данную гипотезу = 0.30635\n"
     ]
    }
   ],
   "source": [
    "print(f'Критерий X^2 = {round(sum(standart),5)}')\n",
    "chi_value = stats.chi2.ppf(1-alpha1, len(P)-2)\n",
    "print(f'Уровень значимости = {alpha1}')\n",
    "print(f'Значение X^2 c {len(P)-2} степенью свободы = {round(chi_value,5)}')\n",
    "p_value = stats.chi2.cdf(sum(standart), len(P)-2)\n",
    "print(f'Наибольшее значение уровня значимости,на котором нет оснований отвергнуть данную гипотезу = {round(1-p_value,5)}')"
   ]
  },
  {
   "cell_type": "markdown",
   "metadata": {
    "collapsed": false,
    "jupyter": {
     "outputs_hidden": false
    }
   },
   "source": [
    "$\\chi^2 = 1.04633 $<br>\n",
    "$\\chi^2_{3-d-1} =  3.84146$ c уровнем значимости $\\alpha$ = 0.05<br>\n",
    "$\\chi^2<\\chi_{1}^2$ по критерию Пирсона принимаем гипотезу"
   ]
  },
  {
   "cell_type": "markdown",
   "metadata": {
    "collapsed": false,
    "jupyter": {
     "outputs_hidden": false
    }
   },
   "source": [
    "#### g)<br>\n",
    "Основная гипотеза: $H_0 : \\lambda = \\lambda_0$<br>\n",
    "\n",
    "Альтернативная гипотеза: $H_A : \\lambda = \\lambda_1$<br>\n",
    "$\\alpha_1 = 0.05$\n",
    "$\\lambda_0 = 0.50$\n",
    "$\\lambda_1 = 1.00$\n",
    "Функция правдоподобия:<br>\n",
    "\n",
    "$L\\left(\\vec{X}, \\theta\\right) = \\prod_{i=1}^{n}\\frac{\\lambda^{x_i}}{x_i!}e^{-\\lambda} = \\lambda^{\\sum_{i=1}^{n}{x_i}}\\cdot e^{-n\\lambda}\\prod_{i=1}^{n}\\frac{1}{x_i!}$<br>\n",
    "\n",
    "Cтатистика отношения правдоподобия:<br>\n",
    "\n",
    "$LR\\left(\\vec{X}, \\lambda_0, \\lambda_1\\right) = \\frac{L\\left(\\vec{X}, \\lambda_1\\right)}{L\\left(\\vec{X}, \\lambda_0\\right)} = e^{-n(\\lambda_1 - \\lambda_0)}\\left(\\frac{\\lambda_1}{\\lambda_0}\\right)^{\\sum_{i=1}^{n}{x_i}}$<br>\n",
    "\n",
    "Получившаяся функция монотонна от $\\sum_{i=1}^{n}{x_i}$(МДС)\n",
    "\n",
    "$LR\\left(\\vec{X}\\right) = e^{-n(\\lambda_1 - \\lambda_0)}\\left(\\frac{\\lambda_1}{\\lambda_0}\\right)^{\\sum_{i=1}^{n}{x_i}} > c $<br>\n",
    " $LLR\\left(\\vec{X}\\right)= -n(\\lambda_1 - \\lambda_0) + \\sum_{i=1}^{n}{x_i} \\ln{\\frac{\\lambda_1}{\\lambda_0}} > \\ln c$ <br>\n",
    " $\\bar{X} > \\frac{\\ln c + n(\\lambda_1 - \\lambda_0) }{n\\ln\\frac{\\lambda_1}{\\lambda_0}} = c^*$<br>\n",
    "\n",
    "$LR > c \\iff \\overline{X} < c^*$<br>\n",
    "\n",
    "$LR < c \\iff \\overline{X} > c^*$<br>\n",
    "\n",
    "Потому что статистика монотонна от $\\sum_{i=1}^{n}{x_i}$<br>\n",
    "Наиболее мощный критерий удобно записать в терминах $\\overline{X}$<br>\n",
    "\n",
    "$$ \\phi(x) =\\left\\{\\begin{array}{l} 1, \\overline{X} < c^* \\\\ p, \\overline{X} = c^* \\\\ 0, \\overline{X} > c^*\\\\ \\end{array}\\right.$$\n",
    "\n",
    "\n",
    "Решим уравнение: $P_{\\lambda_0}\\left(LR(\\vec{X}) > c\\right) + pP_{\\lambda_0}\\left(LR(\\vec{X}) = c\\right) = \\alpha_1$<br>\n",
    "\n",
    "$P_{\\lambda_0}\\left(n\\bar{X} > nc^*\\right) + pP_{\\lambda_0}\\left(n\\bar{X} = nc^*\\right) = \\alpha_1$<br>\n",
    "\n",
    "Наиболее мощный критерий определен однозначно на\n",
    "множестве $X:LR(\\vec{X}) \\not =  c$<br>\n",
    "\n",
    "$P_{\\lambda_0}\\left(n\\bar{X} > nc^*\\right) = 1 - F_{Pois(n\\lambda_0)}\\left(nc^*\\right) = \\alpha_1$\n",
    "\n",
    "$F_{Pois(n\\lambda_0)}\\left(nc^*\\right) = 1 - \\alpha_1 = 0.95$\n"
   ]
  },
  {
   "cell_type": "code",
   "execution_count": 1528,
   "metadata": {
    "ExecuteTime": {
     "end_time": "2023-12-06T21:49:31.119008Z",
     "start_time": "2023-12-06T21:49:28.221240Z"
    },
    "collapsed": false,
    "jupyter": {
     "outputs_hidden": false
    }
   },
   "outputs": [
    {
     "name": "stdout",
     "output_type": "stream",
     "text": [
      "Константа c^* =0.66\n",
      "Мат.ожидание 0.5\n"
     ]
    }
   ],
   "source": [
    "print(f'Константа c^* ={ stats.poisson.ppf(0.95, n*lambda0) / n}')\n",
    "print(f'Мат.ожидание {x_mn}')"
   ]
  },
  {
   "cell_type": "markdown",
   "metadata": {
    "collapsed": false,
    "jupyter": {
     "outputs_hidden": false
    }
   },
   "source": [
    "$c^* =0.66 $<br>\n",
    "$\\bar{X} = 0.5$<br>\n",
    "Т.к. $c^* < \\bar{X}$  гипотезу $H_0$ отвергаем"
   ]
  },
  {
   "cell_type": "markdown",
   "metadata": {
    "collapsed": false,
    "jupyter": {
     "outputs_hidden": false
    }
   },
   "source": [
    "Меняем гипотезы местами:\n",
    "Основная гипотеза: $H_0 : \\lambda = \\lambda_1$<br>\n",
    "\n",
    "Альтернативная гипотеза: $H_A : \\lambda = \\lambda_0$<br>\n",
    "\n",
    "Статистика отношения правдоподобия:\n",
    "$LR\\left(\\vec{X}, \\lambda_1, \\lambda_0\\right) = e^{-n(\\lambda_0 - \\lambda_1)}\\left(\\frac{\\lambda_0}{\\lambda_1}\\right)^{\\sum_{i=1}^{n}{x_i}}$<br>\n",
    "Cтатистика также монотонна от $\\sum_{i=1}^{n}{x_i}$<br>\n",
    "\n",
    " $LLR\\left(\\vec{X}\\right)= -n(\\lambda_0 - \\lambda_1) + \\sum_{i=1}^{n}{x_i} \\ln{\\frac{\\lambda_0}{\\lambda_1}} > \\ln c$ <br>\n",
    " $\\bar{X} < - \\frac{\\ln c + n(\\lambda_0 - \\lambda_1) }{n\\ln\\frac{\\lambda_0}{\\lambda_1}} = c^*$<br>\n",
    "\n",
    "Решим уравнение: $P_{\\lambda_1}\\left(LR(\\vec{X}) > c\\right) + pP_{\\lambda_1}\\left(LR(\\vec{X}) = c\\right) = \\alpha_1$<br>\n",
    "\n",
    "$P_{\\lambda_1}\\left(n\\bar{X} > nc^*\\right) + pP_{\\lambda_1}\\left(n\\bar{X} = nc^*\\right) = \\alpha_1$<br>\n",
    "\n",
    "Наиболее мощный критерий определен однозначно на\n",
    "множестве $X:LR(\\vec{X}) \\not =  c$<br>\n",
    "\n",
    "$P_{\\lambda_1}\\left(n\\bar{X} > nc^*\\right) = 1 - F_{Pois(n\\lambda_0)}\\left(nc^*\\right) = \\alpha_1$\n",
    "\n",
    "$F_{Pois(n\\lambda_0)}\\left(nc^*\\right) = 1 - \\alpha_1 = 0.95$<br>\n",
    "Посчитаем константу\n"
   ]
  },
  {
   "cell_type": "code",
   "execution_count": 1529,
   "metadata": {
    "ExecuteTime": {
     "end_time": "2023-12-06T21:49:31.123030Z",
     "start_time": "2023-12-06T21:49:28.273173Z"
    },
    "collapsed": false,
    "jupyter": {
     "outputs_hidden": false
    }
   },
   "outputs": [
    {
     "name": "stdout",
     "output_type": "stream",
     "text": [
      "Константа c^* =1.24\n",
      "Мат.ожидание 0.5\n"
     ]
    }
   ],
   "source": [
    "print(f'Константа c^* ={ stats.poisson.ppf(0.95, n*lambda1) / n}')\n",
    "print(f'Мат.ожидание {x_mn}')"
   ]
  },
  {
   "cell_type": "markdown",
   "metadata": {
    "collapsed": false,
    "jupyter": {
     "outputs_hidden": false
    }
   },
   "source": [
    "Так как $c^* > \\bar{X}$  гипотезу $H_0$ принимаем"
   ]
  },
  {
   "cell_type": "markdown",
   "metadata": {
    "collapsed": false,
    "jupyter": {
     "outputs_hidden": false
    }
   },
   "source": [
    "#### h.с)<br>\n",
    "$P_{\\lambda}\\left(X=k\\right)=\\frac{\\lambda^{k}}{\\left(\\lambda+1\\right)^{k+1}}$\n",
    "\n",
    "##### Оценка максимального правдоподобия<br>\n",
    "Перейдем к функции правдоподобия:<br>\n",
    "$L\\left(\\vec{X},\\theta\\right)=\\prod_{i=1}^{n}\\frac{\\lambda^{x_{i}}}{\\left(\\lambda+1\\right)^{x_{i}+1}}=\\frac{\\lambda^{\\sum_{i=1}^{n}x_{i}}}{\\left(\\lambda+1\\right)^{\\sum_{i=1}^{n}x_{i}+n}}$<br>\n",
    "\n",
    "$LL\\left(\\vec{X},\\theta\\right)= \\sum_{i=1}^{n}x_{i}\\cdot \\ln\\left(\\lambda\\right)-\\left(\\sum_{i=1}^{n}x_{i}+n\\right)\\ln\\left(\\lambda+1\\right)$\n",
    "\n",
    "$\\frac{\\partial LL\\left(\\vec{X},\\theta\\right)}{\\partial \\lambda} = \\frac{\\sum_{i=1}^{n}x_{i}}{\\lambda}-\\frac{\\sum_{i=1}^{n}x_{i}+n}{\\lambda+1}$<br>\n",
    " $\\frac{\\sum_{i=1}^{n}x_{i}}{\\lambda}-\\frac{\\sum_{i=1}^{n}x_{i}+n}{\\lambda+1}=0$<br><br>\n",
    " $\\frac{\\left(\\lambda+1\\right)\\sum_{i=1}^{n}x_{i}-\\lambda\\left(\\sum_{i=1}^{n}x_{i}\\right)-n\\lambda}{\\lambda(\\lambda+1)}=0, \\lambda\\not=0,(\\lambda+1)\\not=0$<br><br>\n",
    " $\\left(\\lambda+1\\right)\\sum_{i=1}^{n}x_{i}-\\lambda\\left(\\sum_{i=1}^{n}x_{i}\\right)-n\\lambda=0$<br><br>\n",
    " $\\lambda\\cdot \\sum_{i=1}^{n}x_{i}+\\sum_{i=1}^{n}x_{i}=\\lambda\\cdot \\sum_{i=1}^{n}x_{i}+n\\lambda $<br>\n",
    " $\\lambda=\\bar{X}=0.5 $<br>\n",
    " $\\hat{\\theta}=\\hat{\\lambda}=\\bar{X} = 0.5$<br><br>\n",
    " $g\\left(T(\\vec{X})\\right)=\\frac{\\lambda^{\\sum_{i=1}^{n}x_{i}}}{(\\lambda+1)^{\\sum_{i=1}^{n}x_{i}+n}}$<br>\n",
    "$h(\\vec{X})=1$<br><br>\n",
    "##### Оценка методом моментов<br>\n",
    "$\\mathbb{E}_\\theta X = \\lambda$ т.к\n",
    "$\\frac{\\lambda^{k}}{\\left(\\lambda+1\\right)^{k+1}}=\\frac{\\lambda^{k}}{\\left(\\lambda+1\\right)^{k}}\\cdot\\frac{1}{\\lambda+1}=\\left(1-\\frac{1}{\\lambda+1}\\right)^{k}\\cdot\\frac{1}{\\lambda+1} $<br>\n",
    "Можно заметить ,что это $Geom(\\frac{1}{\\lambda+1})$<br>\n",
    "Следовательно $\\mathbb{E}_\\theta X = (1-\\frac{1}{\\lambda+1})\\cdot (\\lambda+1)=\\lambda$<br>\n",
    "\n",
    "Выборочный момент первого порядка: $M_1 = \\frac{1}{n}\\sum_{i=1}^{n}x_i = \\bar{X}$<br>\n",
    " $\\hat\\lambda = \\bar{X}$<br>\n",
    " ОМП = ОММ $\\Rightarrow$\n",
    "\n",
    "##### Смещение <br>\n",
    "$\\mathbb{E}_\\theta\\hat{\\lambda} = \\mathbb{E}_\\theta\\bar{X} = \\frac{1}{n}\\mathbb{E}_\\theta\\sum_{i=1}^{n}x_i = \\frac{1}{n}\\sum_{i=1}^{n}\\mathbb{E}_\\theta x_i = \\frac{1}{n}\\cdot n\\lambda = \\lambda$<br>\n",
    "Оценка несмещённая\n"
   ]
  },
  {
   "cell_type": "markdown",
   "metadata": {
    "collapsed": false,
    "jupyter": {
     "outputs_hidden": false
    }
   },
   "source": [
    "#### h.d)<br>\n",
    "$\\alpha_1 = 0.05$<br>\n",
    "##### На базе ОМП:\n",
    "\n",
    "$\\sqrt{n}\\left( \\hat{\\theta}\\left(\\vec{X}\\right)-\\theta \\right)\\sim N\\left( 0, \\frac{1}{I\\left(\\theta\\right)} \\right)$\n",
    "\n",
    "ОМП из пункта h.с :$\\widehat{\\theta}=\\widehat{\\lambda}=\\bar{X}$\n",
    "\n",
    "$\\frac{\\partial^{2} LL}{\\partial \\lambda^{2}} = \\left(-\\frac{\\sum_{i=1}^{n}{x_i}}{\\lambda^2} + \\frac{n + \\sum_{i=1}^{n}{x_i}}{(\\lambda + 1)^2}\\right) $<br>\n",
    "\n",
    "\n",
    "\n",
    "$I_n\\left(\\lambda\\right)=-\\mathbb{E}\\left( \\frac{\\partial^{2} LL}{\\partial \\lambda^{2}} \\right)=\\frac{1}{\\lambda^2}\\sum_{i=1}^{n}\\mathbb{E}_{\\theta}={x_i} - \\frac{1}{(\\lambda+1)^2}\\sum_{i=1}^{n}\\mathbb{E}_{\\theta}{x_i} - \\frac{n}{(\\lambda+1)^2}= $<br>\n",
    "$=\\frac{n}{\\lambda} - \\frac{n\\lambda}{(\\lambda+1)^2} - \\frac{n}{(\\lambda+1)^2}$<br>\n",
    "\n",
    "$I(\\lambda) = {\\lim_{n \\to \\infty}}\\left(\\frac{1}{\\lambda} - \\frac{\\lambda}{(\\lambda+1)^2} - \\frac{1}{(\\lambda+1)^2}\\right) = \\frac{1}{\\lambda} - \\frac{1}{\\lambda+1}$ <br>\n",
    "$\\sqrt{\\frac{n}{\\bar{X}(\\bar{X} + 1)}}\\left(\\bar{X} - \\theta\\right) \\sim \\mathcal{N} \\left(0, 1\\right)$\n",
    "$x_\\alpha: \\Phi(x_\\alpha) = 1 - \\frac{\\alpha}{2} =  1 - \\frac{0.05}{2} =0.975$<br>\n",
    "\n",
    "$x_{α}=1.96$ из таблицы стандартного нормального распределения<br>\n",
    "\n",
    "$\\mathbb{P}_\\theta\\left(\\overline x-\\frac{x_\\alpha \\sqrt{\\overline X(\\overline X+1)}}{\\sqrt n}\\leq\\lambda\\leq\\overline X+\\frac{x_\\alpha \\sqrt{\\overline X(\\overline X+1)}}{\\sqrt n}\\right) \\approx 1 - \\alpha= 0.95$<br>\n",
    "\n",
    "$\\left[\\bar{X} - x_\\alpha\\sqrt{\\frac{\\bar{X}}{n}},\\bar{X} + x_\\alpha\\sqrt{\\frac{\\bar{X}}{n}}\\right]\\ni \\lambda$<br>\n",
    "\n",
    "$\\left[0.5- 1.96\\sqrt{\\frac{0.5\\cdot(1.5)}{50}},0.5 + 1.96\\sqrt{\\frac{0.5\\cdot(1.5)}{50}}\\right]\\ni \\lambda$<br>\n",
    "\n",
    "$\\left[0.25995,0.74005\\right]\\ni \\lambda$<br>\n",
    "\n",
    "2. На базе асимптотической нормальной оценки $\\hat{\\theta}$\n",
    "\n",
    "$\\sqrt n\\left(\\hat\\theta(x)-\\theta\\right)\\sim N\\left(0,\\;\\sigma^2(\\theta)\\right)$<br>\n",
    "В геометрическом распределении $\\mathbb{D}{\\theta} = \\lambda(\\lambda+1)$<br>\n",
    "$\\sqrt n\\frac{\\overline x-\\lambda}{\\sqrt{\\lambda(\\lambda+1)}}\\sim N\\left(0,1\\right)$<br>\n",
    "$x_\\alpha:\\;\\Phi(x_\\alpha)=1-\\frac\\alpha2=0.975$<br>\n",
    "$x_{α}=1.96$<br>\n",
    "$\\mathbb{P}\\lambda\\left(\\overline X-\\frac{x_\\alpha \\sqrt{\\overline x(\\overline X+1)}}{\\sqrt n}\\leq\\lambda\\leq\\overline X+\\frac{x_\\alpha \\sqrt{\\overline x(\\overline X+1)}}{\\sqrt n}\\right)\\approx1-\\alpha$<br>\n",
    "$\\mathbb{P}_\\lambda\\left(0.5-\\frac{1.96 \\sqrt{0.5\\cdot 1.5}}{\\sqrt 50}\\leq\\lambda\\leq 0.5+\\frac{1.96 \\sqrt{0.5\\cdot 1.5}}{50}\\right)\\approx 0.95$<br>\n",
    "$\\left[0.304,0.696\\right]\\ni \\lambda$<br>"
   ]
  },
  {
   "cell_type": "markdown",
   "metadata": {
    "collapsed": false,
    "jupyter": {
     "outputs_hidden": false
    }
   },
   "source": [
    "#### h.e)<br>\n",
    "Разобъём множество всех возможных значений СВ на интервалы\n",
    "$I_1$ = [0] - 1 группа<br>\n",
    "$I_2$ = [1] - 2 группа<br>\n",
    "$I_3= [2, +\\infty] $ - 3 группа<br>\n",
    "$P_i=P_{H0}=P\\left(X\\in I_i\\right)=\\textstyle{\\sum\\limits_{i=1}^3{\\displaystyle\\frac{\\lambda_0^k}{{(\\lambda_0+1)}^{k+1}}}}$,где ${k\\in I_i}$<br>\n",
    "$Критерий \\chi^2={\\textstyle\\sum_{i=1}^r}\\;\\frac{(n_i-nP_i)^2}{nP_i}$ <br>\n",
    "r=3 - количество интервалов<br>\n"
   ]
  },
  {
   "cell_type": "code",
   "execution_count": 1530,
   "metadata": {
    "ExecuteTime": {
     "end_time": "2023-12-06T21:49:31.146965Z",
     "start_time": "2023-12-06T21:49:28.488881Z"
    },
    "collapsed": false,
    "jupyter": {
     "outputs_hidden": false
    }
   },
   "outputs": [
    {
     "data": {
      "text/html": [
       "<div>\n",
       "<style scoped>\n",
       "    .dataframe tbody tr th:only-of-type {\n",
       "        vertical-align: middle;\n",
       "    }\n",
       "\n",
       "    .dataframe tbody tr th {\n",
       "        vertical-align: top;\n",
       "    }\n",
       "\n",
       "    .dataframe thead th {\n",
       "        text-align: right;\n",
       "    }\n",
       "</style>\n",
       "<table border=\"1\" class=\"dataframe\">\n",
       "  <thead>\n",
       "    <tr style=\"text-align: right;\">\n",
       "      <th></th>\n",
       "      <th>1</th>\n",
       "      <th>2</th>\n",
       "      <th>3</th>\n",
       "    </tr>\n",
       "  </thead>\n",
       "  <tbody>\n",
       "    <tr>\n",
       "      <th>ni</th>\n",
       "      <td>29.000000</td>\n",
       "      <td>18.000000</td>\n",
       "      <td>3.000000</td>\n",
       "    </tr>\n",
       "    <tr>\n",
       "      <th>n*Pi</th>\n",
       "      <td>33.333333</td>\n",
       "      <td>11.111111</td>\n",
       "      <td>4.938272</td>\n",
       "    </tr>\n",
       "    <tr>\n",
       "      <th>Слагаемое</th>\n",
       "      <td>0.563333</td>\n",
       "      <td>4.271111</td>\n",
       "      <td>0.760772</td>\n",
       "    </tr>\n",
       "  </tbody>\n",
       "</table>\n",
       "</div>"
      ],
      "text/plain": [
       "                   1          2         3\n",
       "ni         29.000000  18.000000  3.000000\n",
       "n*Pi       33.333333  11.111111  4.938272\n",
       "Слагаемое   0.563333   4.271111  0.760772"
      ]
     },
     "execution_count": 1530,
     "metadata": {},
     "output_type": "execute_result"
    }
   ],
   "source": [
    "P=[]\n",
    "def geom_pmf(lambda_param,k):\n",
    "    return lambda_param**k/(lambda_param+1)**(k+1)\n",
    "\n",
    "P=[geom_pmf(lambda0, k) for k in variation_range]\n",
    "\n",
    "Ni=[]\n",
    "Ni = ni.copy()\n",
    "merge_arrays(P,3,2)\n",
    "merge_arrays(Ni,3,2)\n",
    "\n",
    "standart=[]\n",
    "for i in range(len(P)):\n",
    "    standart.append(((Ni[i]-n * P[i])**2)/ (n * P[i]))\n",
    "\n",
    "\n",
    "two_nPi_list = [n * Pi for Pi in P]\n",
    "values_df = pd.DataFrame([Ni,two_nPi_list,standart],index=['ni','n*Pi','Слагаемое'],columns=index[:len(P)])\n",
    "\n",
    "values_df"
   ]
  },
  {
   "cell_type": "code",
   "execution_count": 1531,
   "metadata": {
    "ExecuteTime": {
     "end_time": "2023-12-06T21:49:31.146965Z",
     "start_time": "2023-12-06T21:49:28.520839Z"
    },
    "collapsed": false,
    "jupyter": {
     "outputs_hidden": false
    }
   },
   "outputs": [
    {
     "name": "stdout",
     "output_type": "stream",
     "text": [
      "Критерий X^2 = 5.59522\n",
      "Уровень значимости = 0.05\n",
      "Значение X^2 c 2 степенями свободы = 5.99146\n",
      "Наибольшее значение уровня значимости,на котором нет оснований отвергнуть данную гипотезу = 0.06096\n"
     ]
    }
   ],
   "source": [
    "print(f'Критерий X^2 = {round(sum(standart),5)}')\n",
    "chi_value = stats.chi2.ppf(1-alpha1, len(P)-1)\n",
    "print(f'Уровень значимости = {alpha1}')\n",
    "print(f'Значение X^2 c {len(P)-1} степенями свободы = {round(chi_value,5)}')\n",
    "p_value = stats.chi2.cdf(sum(standart), len(P)-1)\n",
    "print(f'Наибольшее значение уровня значимости,на котором нет оснований отвергнуть данную гипотезу = {round(1-p_value,5)}')"
   ]
  },
  {
   "cell_type": "markdown",
   "metadata": {
    "collapsed": false,
    "jupyter": {
     "outputs_hidden": false
    }
   },
   "source": [
    "$\\chi^2 = 5.59522 $<br>\n",
    "$\\chi^2_{3-1} =  5.99146$ c уровнем значимости $\\alpha$ = 0.05<br>\n",
    "$\\chi^2<\\chi_{2}^2$ по критерию Пирсона принимаем гипотезу"
   ]
  },
  {
   "cell_type": "markdown",
   "metadata": {
    "collapsed": false,
    "jupyter": {
     "outputs_hidden": false
    }
   },
   "source": [
    "#### h.f)<br>\n",
    "Возьмем те же интервалы ,что и в прошлом задании<br>\n",
    "В качестве параметра $\\lambda$ возьмём его ОМП,$\\lambda = \\overline{X}$<br>\n",
    "$P_i=P_{H0}=P\\left(X\\in I_i\\right)=\\textstyle{\\sum\\limits_{k=1}^3{\\displaystyle\\frac{\\overline X^k}{{(\\overline X +1)}^{k+1}}}}$<br>\n",
    "$Критерий \\chi^2={\\textstyle\\sum_{i=1}^r}\\;\\frac{(n_i-nP_i)^2}{nP_i}$ <br>\n",
    " r=3 - количество интервалов<br>\n"
   ]
  },
  {
   "cell_type": "code",
   "execution_count": 1532,
   "metadata": {
    "ExecuteTime": {
     "end_time": "2023-12-06T21:49:31.174928Z",
     "start_time": "2023-12-06T21:49:28.596737Z"
    },
    "collapsed": false,
    "jupyter": {
     "outputs_hidden": false
    }
   },
   "outputs": [
    {
     "name": "stdout",
     "output_type": "stream",
     "text": [
      "3\n"
     ]
    },
    {
     "data": {
      "text/html": [
       "<div>\n",
       "<style scoped>\n",
       "    .dataframe tbody tr th:only-of-type {\n",
       "        vertical-align: middle;\n",
       "    }\n",
       "\n",
       "    .dataframe tbody tr th {\n",
       "        vertical-align: top;\n",
       "    }\n",
       "\n",
       "    .dataframe thead th {\n",
       "        text-align: right;\n",
       "    }\n",
       "</style>\n",
       "<table border=\"1\" class=\"dataframe\">\n",
       "  <thead>\n",
       "    <tr style=\"text-align: right;\">\n",
       "      <th></th>\n",
       "      <th>1</th>\n",
       "      <th>2</th>\n",
       "      <th>3</th>\n",
       "    </tr>\n",
       "  </thead>\n",
       "  <tbody>\n",
       "    <tr>\n",
       "      <th>ni</th>\n",
       "      <td>29.000000</td>\n",
       "      <td>18.000000</td>\n",
       "      <td>3.000000</td>\n",
       "    </tr>\n",
       "    <tr>\n",
       "      <th>n*Pi</th>\n",
       "      <td>33.333333</td>\n",
       "      <td>11.111111</td>\n",
       "      <td>4.938272</td>\n",
       "    </tr>\n",
       "    <tr>\n",
       "      <th>Слагаемое</th>\n",
       "      <td>0.563333</td>\n",
       "      <td>4.271111</td>\n",
       "      <td>0.760772</td>\n",
       "    </tr>\n",
       "  </tbody>\n",
       "</table>\n",
       "</div>"
      ],
      "text/plain": [
       "                   1          2         3\n",
       "ni         29.000000  18.000000  3.000000\n",
       "n*Pi       33.333333  11.111111  4.938272\n",
       "Слагаемое   0.563333   4.271111  0.760772"
      ]
     },
     "execution_count": 1532,
     "metadata": {},
     "output_type": "execute_result"
    }
   ],
   "source": [
    "P=[]\n",
    "P=[geom_pmf(x_mn, k) for k in variation_range]\n",
    "\n",
    "\n",
    "Ni=[]\n",
    "Ni = ni.copy()\n",
    "merge_arrays(P,3,2)\n",
    "merge_arrays(Ni,3,2)\n",
    "\n",
    "standart=[]\n",
    "for i in range(len(P)):\n",
    "    standart.append(((Ni[i]-n * P[i])**2)/ (n * P[i]))\n",
    "\n",
    "print(len(P))\n",
    "\n",
    "two_nPi_list = [n * Pi for Pi in P]\n",
    "values_df = pd.DataFrame([Ni,two_nPi_list,standart],index=['ni','n*Pi','Слагаемое'],columns=index[:len(P)])\n",
    "\n",
    "values_df"
   ]
  },
  {
   "cell_type": "code",
   "execution_count": 1533,
   "metadata": {
    "ExecuteTime": {
     "end_time": "2023-12-06T21:49:31.174928Z",
     "start_time": "2023-12-06T21:49:28.620705Z"
    },
    "collapsed": false,
    "jupyter": {
     "outputs_hidden": false
    }
   },
   "outputs": [
    {
     "name": "stdout",
     "output_type": "stream",
     "text": [
      "Критерий X^2 = 5.59522\n",
      "Уровень значимости = 0.05\n",
      "Значение X^2 c 1 степенью свободы = 3.84146\n",
      "Наибольшее значение уровня значимости,на котором нет оснований отвергнуть данную гипотезу = 0.01801\n"
     ]
    }
   ],
   "source": [
    "print(f'Критерий X^2 = {round(sum(standart),5)}')\n",
    "chi_value = stats.chi2.ppf(1-alpha1, len(P)-2)\n",
    "print(f'Уровень значимости = {alpha1}')\n",
    "print(f'Значение X^2 c {len(P)-2} степенью свободы = {round(chi_value,5)}')\n",
    "p_value = stats.chi2.cdf(sum(standart), len(P)-2)\n",
    "print(f'Наибольшее значение уровня значимости,на котором нет оснований отвергнуть данную гипотезу = {round(1-p_value,5)}')"
   ]
  },
  {
   "cell_type": "markdown",
   "metadata": {
    "collapsed": false,
    "jupyter": {
     "outputs_hidden": false
    }
   },
   "source": [
    "Так как $\\chi^2>\\chi_{1;0.05}^2$ по критерию Пирсона гипотеза отвергается"
   ]
  },
  {
   "cell_type": "markdown",
   "metadata": {
    "collapsed": false,
    "jupyter": {
     "outputs_hidden": false
    }
   },
   "source": [
    "### В результате эксперимента данные, приведённые в таблице 2.<br>\n"
   ]
  },
  {
   "cell_type": "markdown",
   "metadata": {
    "collapsed": false,
    "jupyter": {
     "outputs_hidden": false
    }
   },
   "source": [
    "#### a)\n"
   ]
  },
  {
   "cell_type": "code",
   "execution_count": 1534,
   "metadata": {
    "ExecuteTime": {
     "end_time": "2023-12-06T21:49:31.214908Z",
     "start_time": "2023-12-06T21:49:28.748537Z"
    },
    "collapsed": false,
    "jupyter": {
     "outputs_hidden": false
    }
   },
   "outputs": [],
   "source": [
    "two_s ='0.3049 0.4583 0.0198 0.0862 −0.1624 0.4158 −0.0873 −0.0964 0.0675 −0.5256 0.2053 −0.2002 0.2791 −0.0862 −0.3235 −0.0377 −0.2039 −0.0351 −0.1949 0.0279 0.0080 −0.1133 0.2098 0.0720 −0.0209 −0.2070 −0.1659 −0.1085 −0.0375 −0.0749 0.3875 0.0637 0.1687 −0.0595 0.0057 0.3043 −0.1960 0.0087 −0.0773 0.3874 0.1753 0.1863 −0.2595 −0.1282 0.2116 −0.1405 −0.0740 0.0968 −0.1619 −0.0761'\n",
    "\n",
    "alpha2 = 0.10\n",
    "c = -0.20\n",
    "d = 0.12\n",
    "h = 0.05\n",
    "a0 = 0.00\n",
    "sigma0 = 0.20\n",
    "a1 = 0.22\n",
    "sigma1 = 0.20\n",
    "\n",
    "two_x = [float(x) for x in two_s.replace(\"−\", \"-\").split()]\n",
    "two_n = len(two_x)"
   ]
  },
  {
   "cell_type": "code",
   "execution_count": 1535,
   "metadata": {
    "ExecuteTime": {
     "end_time": "2023-12-06T21:49:31.214908Z",
     "start_time": "2023-12-06T21:49:28.760520Z"
    },
    "collapsed": false,
    "jupyter": {
     "outputs_hidden": false
    }
   },
   "outputs": [
    {
     "name": "stdout",
     "output_type": "stream",
     "text": [
      "Вариационный ряд: -0.5256 -0.3235 -0.2595 -0.207 -0.2039 -0.2002 -0.196 -0.1949 -0.1659 -0.1624 -0.1619 -0.1405 -0.1282 -0.1133 -0.1085 -0.0964 -0.0873 -0.0862 -0.0773 -0.0761 -0.0749 -0.074 -0.0595 -0.0377 -0.0375 -0.0351 -0.0209 0.0057 0.008 0.0087 0.0198 0.0279 0.0637 0.0675 0.072 0.0862 0.0968 0.1687 0.1753 0.1863 0.2053 0.2098 0.2116 0.2791 0.3043 0.3049 0.3874 0.3875 0.4158 0.4583\n"
     ]
    }
   ],
   "source": [
    "index = [i for i in range(1,n+1)]\n",
    "two_sorted_x = np.sort(two_x)\n",
    "print('Вариационный ряд:',*two_sorted_x)\n"
   ]
  },
  {
   "cell_type": "code",
   "execution_count": 1536,
   "metadata": {
    "ExecuteTime": {
     "end_time": "2023-12-06T21:49:31.234849Z",
     "start_time": "2023-12-06T21:49:28.776497Z"
    },
    "collapsed": false,
    "jupyter": {
     "outputs_hidden": false
    }
   },
   "outputs": [
    {
     "data": {
      "image/png": "[encoded data removed]",
      "text/plain": [
       "<Figure size 640x480 with 1 Axes>"
      ]
     },
     "metadata": {},
     "output_type": "display_data"
    }
   ],
   "source": [
    "two_variation_range = np.unique(two_sorted_x)\n",
    "plt.ecdf(two_x,color='c')\n",
    "plt.title(\"Эмпирическая функция распределения\")\n",
    "plt.xlabel(\"x\")\n",
    "plt.ylabel(\"F(x)\")\n",
    "plt.show()"
   ]
  },
  {
   "cell_type": "code",
   "execution_count": 1537,
   "metadata": {
    "ExecuteTime": {
     "end_time": "2023-12-06T21:49:31.294767Z",
     "start_time": "2023-12-06T21:49:29.020173Z"
    },
    "collapsed": false,
    "jupyter": {
     "outputs_hidden": false
    }
   },
   "outputs": [
    {
     "data": {
      "image/png": "[encoded data removed]",
      "text/plain": [
       "<Figure size 640x480 with 1 Axes>"
      ]
     },
     "metadata": {},
     "output_type": "display_data"
    }
   ],
   "source": [
    "bins=np.arange(min(two_x), max(two_x)+h,h)\n",
    "plt.hist(two_x, bins = bins,color='c',edgecolor='black',density = True)\n",
    "hist, _ = np.histogram(two_x, bins=bins, density = True)\n",
    "plt.plot(0.5 * (bins[1:] + bins[:-1]),hist, color='tab:purple',marker='o', linestyle='-')\n",
    "plt.xticks([min(two_x)+i*h for i in range(0,25,5)])\n",
    "plt.title('Гистограмма частот')\n",
    "plt.xlabel(\"Относительная частота\")\n",
    "plt.ylabel(\"ni\")\n",
    "plt.show()\n"
   ]
  },
  {
   "cell_type": "markdown",
   "metadata": {
    "collapsed": false,
    "jupyter": {
     "outputs_hidden": false
    }
   },
   "source": [
    "#### b)\n"
   ]
  },
  {
   "cell_type": "code",
   "execution_count": 1538,
   "metadata": {
    "ExecuteTime": {
     "end_time": "2023-12-06T21:49:31.294767Z",
     "start_time": "2023-12-06T21:49:29.323767Z"
    },
    "collapsed": false,
    "jupyter": {
     "outputs_hidden": false
    }
   },
   "outputs": [
    {
     "name": "stdout",
     "output_type": "stream",
     "text": [
      "Выборочные аналоги следующих характеристик:\n",
      "Математическое ожидание:  0.01\n",
      "Дисперсия:  0.285\n",
      "СКО:  0.534\n",
      "Медиана:  -0.0363\n",
      "Асимметрия:  -1.176\n",
      "Эксцесс:  -1.522\n",
      "Вероятность попадания в отрезок [c, d]:  0.62\n"
     ]
    }
   ],
   "source": [
    "two_x_mn = round(np.mean(two_x),2)\n",
    "\n",
    "two_x_S = round(sum(diffence_power(two_x,2))/n,3)\n",
    "two_sd_x= round(np.sqrt(two_x_S),3)\n",
    "two_md = stat.median(two_x)\n",
    "two_skew_X =round(sum(diffence_power(two_x,3))/(n*two_sd_x**3),3)\n",
    "two_kurt_X = round(sum(diffence_power(two_x,4))/(n*two_sd_x**4)- 3,3)\n",
    "two_probability_interval = sum([int(c <= xi <= d) for xi in two_x]) / len(two_x)\n",
    "\n",
    "print(\"Выборочные аналоги следующих характеристик:\")\n",
    "print(\"Математическое ожидание: \", two_x_mn)\n",
    "print(\"Дисперсия: \",two_x_S)\n",
    "print(\"СКО: \", two_sd_x)\n",
    "print(\"Медиана: \", two_md)\n",
    "print(\"Асимметрия: \", two_skew_X)\n",
    "print(\"Эксцесс: \", two_kurt_X)\n",
    "print(\"Вероятность попадания в отрезок [c, d]: \",two_probability_interval)"
   ]
  },
  {
   "cell_type": "markdown",
   "metadata": {
    "collapsed": false,
    "jupyter": {
     "outputs_hidden": false
    }
   },
   "source": [
    "#### Получены величины<br>\n",
    "$\\bar{X} =0.01$<br>\n",
    "$S^2 =0.285$<br>\n",
    "$S=\\sqrt{S^2}=0.534$<br>\n",
    "$np = 50\\cdot\\frac{1}{2}=25\\in \\mathbb Z$<br>\n",
    "$\\large z_{50,\\frac{1}{2}} = \\normalsize [ X_{(25)},X_{(26)}) = \\left[-0.0375,-0.0351\\right) = -0.0363$<br>\n",
    "$\\widehat{\\mathrm{Skew}}X =-1.176$<br>\n",
    "$\\widehat{\\mathrm{Kurt}}X= -1.522$<br>\n",
    "$\\mathbb{P}\\left(c<X<d\\right) = 0.62$"
   ]
  },
  {
   "cell_type": "markdown",
   "metadata": {
    "collapsed": false,
    "jupyter": {
     "outputs_hidden": false
    }
   },
   "source": [
    "#### с) <br>\n",
    "$X \\sim \\mathcal{N}\\left(a, \\sigma^2\\right)$ <br><br>\n",
    "\n",
    "##### Найдем ОМП\n",
    "\n",
    "$\\rho_{\\theta}\\left(x\\right) = \\frac{1}{\\sqrt{2\\pi}\\sigma}\\cdot e^{-\\frac{\\left(x-a\\right)^2}{2\\sigma^2}}$<br>\n",
    "\n",
    "Перейдём к функции максимального правдоподобия\n",
    "$L\\left(\\vec x,{\\theta}\\right) = \\prod_{i=1}^{n} \\frac{1}{\\sqrt{2\\pi}} \\cdot e^{-\\frac{\\left(x_i-a\\right)^2}{2\\sigma^2}}= \\large2\\pi^{-\\frac{n}{2}}\\cdot\\sigma^{-n} \\cdot exp\\left(-\\frac{1}{2\\sigma^2}\\sum_{i=1}^{n}\\left(x_i-a\\right)^2\\right)$<br>\n",
    "$LL\\left(\\vec x,{\\theta}\\right) = -\\frac{n}{2}\\ln{2\\pi}-n\\ln\\sigma-\\frac{1}{2\\sigma^2}\\sum_{i=1}^{n}\\left(x_i-a\\right)^2$<br><br>\n",
    "\n",
    "$T=(\\sum_{i=1}^nx_i,\\sum_{i=1}^nx_i^2)$ - МДС <br>\n",
    "T = МДС = ПДС, т.к. семейство экспоненциальных.\n",
    "ОМП для $a$<br>\n",
    "\n",
    "$\\frac{\\partial LL\\left(\\vec x,{\\theta}\\right)}{\\partial a} = \\frac{1}{\\sigma^2}\\sum_{i=1}^{n}x_i-na$<br>\n",
    "$\\frac{1}{\\sigma^2}\\sum_{i=1}^{n}x_i-na=0$<br>\n",
    "$\\hat a = \\frac{1}{n}\\sum_{i=1}^{n}x_i=\\bar{X}=0.01$<br><br>\n",
    "\n",
    "ОМП для $\\sigma$<br>\n",
    "$\\frac{\\partial LL\\left(\\vec x,{\\theta}\\right)}{\\partial \\sigma} = -\\frac{n}{\\sigma}+\\frac{1}{\\sigma^3}\\sum_{i=1}^{n}\\left(x_i-a\\right)^2 $<br>\n",
    "$-\\frac{n}{\\sigma}+\\frac{1}{\\sigma^3}\\sum_{i=1}^{n}\\left(x_i-a\\right)^2 = 0$<br>\n",
    "$\\hat{\\sigma^2} = \\frac{1}{n}\\sum_{i=1}^{n}\\left(x_i-\\bar{X}\\right)^2 = S^2=0.285$<br>\n",
    "$\\hat \\theta = \\left(\\hat a,\\hat \\sigma^2\\right) = \\left(\\bar{X},S^2\\right)$<br><br>\n",
    "##### Найдем ОММ<br>\n",
    "$\\mathbb{E}X_1=a , M_1 = \\bar{X}$<br>\n",
    "$\\mathbb{E}X_1^2=a^2+\\sigma^2   , M_2 =  \\bar{X^2}$<br>\n",
    "\n",
    "$\\begin{cases}\n",
    "\\bar{X} = a ,\\\\\n",
    "\\bar{X^2} = a^2+\\sigma^2 .\n",
    "\\end{cases}$<br><br>\n",
    "\n",
    "$\\begin{cases}\n",
    "\\tilde a = \\bar{X}  ,\\\\\n",
    "\\tilde \\sigma^2 = \\bar{\\left(X^2\\right)} -\\left(\\bar{X}\\right)^2 = S^2 .\n",
    "\\end{cases}$<br>\n",
    "$\\tilde \\theta = \\left(\\tilde a,\\tilde \\sigma^2\\right) = \\left(\\bar{X},S^2\\right)$\n",
    "\n",
    "##### Смещение оценки<br>\n",
    "$\\mathbb{E}\\left(\\frac{\\sum_{i=1}^{n}x_i}{n}\\right)= \\frac{1}{n}\\sum_{i=1}^{n}\\mathbb{E}x_i = \\frac{a}{n}\\cdot n = a$<br>\n",
    "Несмещённая оценка<br>\n",
    "$\\mathbb{E}\\left(S^2\\right) = \\mathbb{E}\\left(\\frac{1}{n}\\sum_{i=1}^{n}\\left(X_i-\\bar{X}\\right)^2\\right)$ <br>\n",
    "Замена<br>\n",
    "$Y_i = X_i-\\mathbb{E}X_i$<br>\n",
    "$\\mathbb{E}Y_i = 0; \\mathbb{D}Y_i = \\sigma^2$<br>\n",
    "$ \\mathbb{E}\\left(\\frac{1}{n}\\sum_{i=1}^{n}\\left(Y_i-\\bar{Y}\\right)^2\\right) = \\mathbb{E}\\left(\\bar{Y_i^2}\\right) - \\mathbb{E}\\left(\\bar{Y_i}\\right)^2$<br>\n",
    "1. $\\mathbb{E}\\left(\\bar{Y_i^2}\\right) = \\mathbb{E}\\left(\\frac{1}{n}\\sum_{i=1}^{n}\\left(\\bar{Y_i^2}\\right)\\right) = \\frac{1}{n}\\sum_{i=1}^{n}{\\mathbb{E}\\left(\\bar{Y_i^2}\\right)} = \\sigma^2$<br>\n",
    "2. $\\mathbb{E}\\left(\\bar{Y_i}\\right)^2 = \\mathbb{E}{\\frac{1}{n}\\sum_{i=1}^{n}{Y_i}}^2 =\\frac{1}{n^2}\\sum_{i=1}^{n}\\sum_{j=1}^{n}Y_iY_j $<br>\n",
    "- $i=j: \\mathbb{E}\\left({Y_i}\\right)^2 =  \\sigma^2$<br>\n",
    "- $i\\ne j: \\mathbb{E}\\left({Y_i}\\right)\\cdot\\mathbb{E}\\left({Y_i}\\right) = 0 $<br>\n",
    "$\\frac{1}{n^2}\\sum_{i=1}^{n}\\sum_{j=1}^{n}Y_iY_j = \\frac{1}{n}\\left(n\\sigma^2\\right) = \\frac{\\sigma^2}{n}$<br><br>\n",
    "\n",
    "$\\mathbb{E}\\left(\\bar{Y_i^2}\\right) - \\mathbb{E}\\left(\\bar{Y_i}\\right)^2 = \\sigma^2 - \\frac{\\sigma^2}{n} = \\frac{n-1}{n}\\sigma^2$<br>\n",
    "$\\tilde\\theta=\\frac n{n-1}\\hat\\theta$<br>\n",
    "$E_\\theta\\tilde\\theta=\\frac n{n-1}\\cdot\\frac n{n-1}\\sigma^2=\\sigma^2$ - оценка несмещенная<br>\n",
    "\n"
   ]
  },
  {
   "cell_type": "markdown",
   "metadata": {
    "collapsed": false,
    "jupyter": {
     "outputs_hidden": false
    }
   },
   "source": [
    "#### d)  <br>\n",
    "$\\alpha_2=0.10$<br>\n",
    "$\\sqrt{n}\\frac{\\bar x-a}{S}\\sim   N (0,1)$п. из леммы Фишера<br>\n",
    "$\\sqrt{n-1}\\frac{\\bar x-a}{S}\\sim  S_{n-1}$п. из леммы Фишера<br>\n",
    "$G(\\bar X,a)=\\sqrt{n-1}\\frac{\\bar x-a}{S}$<br>\n",
    "$\\mathbb{P}(-x_\\alpha\\leq\\sqrt{n-1}\\frac{\\bar x-a}{S}\\leq x_\\alpha)=1-\\alpha_2$<br>\n",
    "$\\mathbb{P}(\\bar x-\\frac{x_\\alpha S}{\\sqrt{n-1}}\\leq a\\leq\\bar x+\\frac{x_\\alpha S}{\\sqrt{n-1}})=1-\\alpha_2$<br>\n",
    "$x_\\alpha\\approx 1.67$из таблицы стандартного нормального распределения<br>\n",
    "$\\mathbb{P}\\left(0.01-\\frac{1.67\\cdot 0.534}{\\sqrt{50-1}}\\leq a\\leq0.01+\\frac{1.67\\cdot 0.534}{\\sqrt{50-1}}\\right)=1-\\alpha_2$=0.9<br>\n",
    "$[-0.117,0.137]\\ni a$<br>\n",
    "$\\frac{nS^2}{\\sigma^2}\\sim \\mathscr \\chi^2_{n-1} $ п. из леммы Фишера\n",
    "$G(\\bar X,\\sigma^2)=\\frac{nS^2}{\\sigma^2}$<br>\n",
    "$\\mathbb{P}(x_{\\alpha_1}\\leq\\frac{nS^2}{\\sigma^2}\\leq x_{\\alpha_2})=1-\\alpha_2$<br>\n",
    "$\\mathbb{P}(\\frac{nS^2}{x_{\\alpha_1}}\\leq\\sigma^2\\leq\\frac{nS^2}{x_{\\alpha_2}})=1-\\alpha_2=0.9$<br>\n",
    "$x_{\\alpha_1}: Ф(x_{\\alpha_1})=\\frac{\\alpha}{2}=0.05$,где $Ф(x_{\\alpha_1})$ - функция распределения<br>\n",
    "$x_{\\alpha_2}: Ф(x_{\\alpha_2})=1-\\frac{\\alpha}{2}=0.95$<br>\n",
    "$x_{\\alpha_1}\\approx 66.34$  $x_{\\alpha_2}\\approx 33.93$из таблицы хи-квадрат распределения <br>\n",
    "$\\mathbb{P}\\left(\\frac{50\\cdot 0.285}{66.34}\\leq\\sigma^2\\leq\\frac{50\\cdot 0.285}{33.93}\\right)=1-\\alpha_2=0.9$<br>\n",
    "$[0.214,0.42]\\ni\\sigma^2$"
   ]
  },
  {
   "cell_type": "markdown",
   "metadata": {
    "collapsed": false,
    "jupyter": {
     "outputs_hidden": false
    }
   },
   "source": [
    "#### e) <br>\n"
   ]
  },
  {
   "cell_type": "code",
   "execution_count": 1539,
   "metadata": {
    "ExecuteTime": {
     "end_time": "2023-12-06T21:49:31.294767Z",
     "start_time": "2023-12-06T21:49:29.363714Z"
    },
    "collapsed": false,
    "jupyter": {
     "outputs_hidden": false
    }
   },
   "outputs": [
    {
     "name": "stdout",
     "output_type": "stream",
     "text": [
      "Критерий Колмогорова:  0.63876\n",
      "Квантиль:  1.22385\n",
      "Наибольшее значение уровня значимости, при котором нет оснований отвергнуть гипотезу:  0.809\n"
     ]
    }
   ],
   "source": [
    "def norm_cdf(x):\n",
    "    return stats.norm.cdf(x, loc=a0, scale=sigma0)\n",
    "\n",
    "Dn, _ = stats.kstest(two_x, norm_cdf)\n",
    "Dn_sqrt_two_n = two_n**0.5 * Dn\n",
    "print('Критерий Колмогорова: ', round(Dn_sqrt_two_n, 5))\n",
    "quantile= stats.kstwobign.ppf(1 - alpha2)\n",
    "print('Квантиль: ', round(quantile, 5))\n",
    "p_value = 1- stats.kstwobign.cdf(Dn_sqrt_two_n)\n",
    "print('Наибольшее значение уровня значимости, при котором нет оснований отвергнуть гипотезу: ', round(p_value , 3))"
   ]
  },
  {
   "cell_type": "markdown",
   "metadata": {
    "collapsed": false,
    "jupyter": {
     "outputs_hidden": false
    }
   },
   "source": [
    "Критическая область - $(1.22385, + \\infty)$\n",
    "$\\sqrt{n}D_n$ = 0.63876 .\n",
    "Критерий Колмогорова не попал в критическую область. <br>\n",
    "Нет оснований отвергнуть гипотезу"
   ]
  },
  {
   "cell_type": "markdown",
   "metadata": {
    "collapsed": false,
    "jupyter": {
     "outputs_hidden": false
    }
   },
   "source": [
    "#### f)  <br>\n",
    "\n",
    "Критерий $\\chi^2 ={\\textstyle\\sum_{i=1}^r}\\;\\frac{(n_i-nP_i)^2}{nP_i}$, где r=5 - количество интервалов<br>"
   ]
  },
  {
   "cell_type": "code",
   "execution_count": 1540,
   "metadata": {
    "ExecuteTime": {
     "end_time": "2023-12-06T21:49:31.294767Z",
     "start_time": "2023-12-06T21:49:29.387684Z"
    },
    "collapsed": false,
    "jupyter": {
     "outputs_hidden": false
    }
   },
   "outputs": [
    {
     "name": "stdout",
     "output_type": "stream",
     "text": [
      "Разобъем на следующие интервалы:\n",
      "I1(-∞,-0.13204]: 12 элементов\n",
      "I2[-0.13204, -0.03365): 14 элементов\n",
      "I3[-0.03365, 0.06474): 7 элементов\n",
      "I4[0.06474, 0.26152): 10 элементов\n",
      "I5[0.26152, +∞): 7 элементов\n"
     ]
    }
   ],
   "source": [
    "intervals = np.histogram(two_x, bins=10)\n",
    "bin_edges, bin_counts = intervals[1], intervals[0]\n",
    "\n",
    "ranges = [\n",
    "    {'lower': bin_edges[0], 'upper': bin_edges[4], 'count': sum(bin_counts[:4])},\n",
    "    {'lower': bin_edges[4], 'upper': bin_edges[5], 'count': sum(bin_counts[4:5])},\n",
    "     {'lower': bin_edges[5], 'upper': bin_edges[6], 'count': sum(bin_counts[5:6])},\n",
    "    {'lower': bin_edges[6], 'upper': bin_edges[8], 'count': sum(bin_counts[6:8])},\n",
    "    {'lower': bin_edges[8], 'upper': bin_edges[10], 'count': sum(bin_counts[8:])}\n",
    "]\n",
    "\n",
    "print(\"Разобъем на следующие интервалы:\")\n",
    "first_interval = ranges[0]\n",
    "print(f\"I{1}(-∞,{round(first_interval['upper'],6)}]: {first_interval['count']} элементов\")\n",
    "for i, interval in enumerate(ranges[1:-1], start=1):\n",
    "    print(f\"I{i+1}[{round(interval['lower'],6)}, {round(interval['upper'],6)}): {interval['count']} элементов\")\n",
    "last_interval = ranges[-1]\n",
    "print(f\"I{len(ranges)}[{round(last_interval['lower'],6)}, +∞): {last_interval['count']} элементов\")"
   ]
  },
  {
   "cell_type": "code",
   "execution_count": 1541,
   "metadata": {
    "ExecuteTime": {
     "end_time": "2023-12-06T21:49:31.298763Z",
     "start_time": "2023-12-06T21:49:29.423635Z"
    },
    "collapsed": false,
    "jupyter": {
     "outputs_hidden": false
    }
   },
   "outputs": [
    {
     "data": {
      "text/html": [
       "<div>\n",
       "<style scoped>\n",
       "    .dataframe tbody tr th:only-of-type {\n",
       "        vertical-align: middle;\n",
       "    }\n",
       "\n",
       "    .dataframe tbody tr th {\n",
       "        vertical-align: top;\n",
       "    }\n",
       "\n",
       "    .dataframe thead th {\n",
       "        text-align: right;\n",
       "    }\n",
       "</style>\n",
       "<table border=\"1\" class=\"dataframe\">\n",
       "  <thead>\n",
       "    <tr style=\"text-align: right;\">\n",
       "      <th></th>\n",
       "      <th>1</th>\n",
       "      <th>2</th>\n",
       "      <th>3</th>\n",
       "      <th>4</th>\n",
       "      <th>5</th>\n",
       "    </tr>\n",
       "  </thead>\n",
       "  <tbody>\n",
       "    <tr>\n",
       "      <th>ni</th>\n",
       "      <td>12.000000</td>\n",
       "      <td>14.000000</td>\n",
       "      <td>7.000000</td>\n",
       "      <td>10.000000</td>\n",
       "      <td>7.000000</td>\n",
       "    </tr>\n",
       "    <tr>\n",
       "      <th>n*Pi</th>\n",
       "      <td>12.513416</td>\n",
       "      <td>8.931528</td>\n",
       "      <td>9.686206</td>\n",
       "      <td>13.878904</td>\n",
       "      <td>4.226863</td>\n",
       "    </tr>\n",
       "    <tr>\n",
       "      <th>Слагаемое</th>\n",
       "      <td>0.021065</td>\n",
       "      <td>2.876261</td>\n",
       "      <td>0.744946</td>\n",
       "      <td>1.084084</td>\n",
       "      <td>1.819385</td>\n",
       "    </tr>\n",
       "  </tbody>\n",
       "</table>\n",
       "</div>"
      ],
      "text/plain": [
       "                   1          2         3          4         5\n",
       "ni         12.000000  14.000000  7.000000  10.000000  7.000000\n",
       "n*Pi       12.513416   8.931528  9.686206  13.878904  4.226863\n",
       "Слагаемое   0.021065   2.876261  0.744946   1.084084  1.819385"
      ]
     },
     "execution_count": 1541,
     "metadata": {},
     "output_type": "execute_result"
    }
   ],
   "source": [
    "P = []\n",
    "two_ni = []\n",
    "\n",
    "for interval in ranges:\n",
    "    P_i = stats.norm.cdf(interval['upper'], loc=a0, scale=sigma0) - stats.norm.cdf(interval['lower'], loc=a0, scale=sigma0)\n",
    "    P.append(P_i)\n",
    "    two_ni.append(interval['count'])\n",
    "\n",
    "\n",
    "standart=[]\n",
    "for i in range(len(P)):\n",
    "    standart.append(((two_ni[i]-two_n * P[i])**2)/ (two_n * P[i]))\n",
    "\n",
    "two_nPi_list = [two_n * Pi for Pi in P]\n",
    "values_df = pd.DataFrame([two_ni,two_nPi_list,standart],index=['ni','n*Pi','Слагаемое'],columns=index[:(len(P))])\n",
    "values_df"
   ]
  },
  {
   "cell_type": "code",
   "execution_count": 1542,
   "metadata": {
    "ExecuteTime": {
     "end_time": "2023-12-06T21:49:31.298763Z",
     "start_time": "2023-12-06T21:49:29.471569Z"
    },
    "collapsed": false,
    "jupyter": {
     "outputs_hidden": false
    }
   },
   "outputs": [
    {
     "name": "stdout",
     "output_type": "stream",
     "text": [
      "Критерий X^2 = 6.54574\n",
      "Уровень значимости = 0.1\n",
      "Значение X^2 c 4 степенями свободы = 7.77944\n",
      "Наибольшее значение уровня значимости,на котором нет оснований отвергнуть данную гипотезу = 0.16193\n"
     ]
    }
   ],
   "source": [
    "print(f'Критерий X^2 = {round(sum(standart),5)}')\n",
    "chi_value = stats.chi2.ppf(1-alpha2, len(P)-1)\n",
    "print(f'Уровень значимости = {alpha2}')\n",
    "print(f'Значение X^2 c {len(P)-1} степенями свободы = {round(chi_value,5)}')\n",
    "p_value = stats.chi2.cdf(sum(standart), len(P)-1)\n",
    "print(f'Наибольшее значение уровня значимости,на котором нет оснований отвергнуть данную гипотезу = {round(1-p_value,5)}')"
   ]
  },
  {
   "cell_type": "markdown",
   "metadata": {
    "collapsed": false,
    "jupyter": {
     "outputs_hidden": false
    }
   },
   "source": [
    "Получили:\n",
    "$\\chi^2$ = 6.5457 <br>\n",
    "$\\chi_{r-1}^2$ = 7.7794 с уровнем значимости $\\alpha = 0.1$<br>\n",
    "$\\chi^2<\\chi_{4}^2$ по критерию Пирсона гипотеза принимается"
   ]
  },
  {
   "cell_type": "markdown",
   "metadata": {
    "collapsed": false,
    "jupyter": {
     "outputs_hidden": false
    }
   },
   "source": [
    "#### g)<br>\n",
    "Критерий $\\chi^2 ={\\textstyle\\sum_{i=1}^r}\\;\\frac{(n_i-nP_i)^2}{nP_i}$, где r=5 - количество интервалов<br>"
   ]
  },
  {
   "cell_type": "code",
   "execution_count": 1543,
   "metadata": {
    "ExecuteTime": {
     "end_time": "2023-12-06T21:49:31.298763Z",
     "start_time": "2023-12-06T21:49:29.483553Z"
    },
    "collapsed": false,
    "jupyter": {
     "outputs_hidden": false
    }
   },
   "outputs": [
    {
     "data": {
      "text/html": [
       "<div>\n",
       "<style scoped>\n",
       "    .dataframe tbody tr th:only-of-type {\n",
       "        vertical-align: middle;\n",
       "    }\n",
       "\n",
       "    .dataframe tbody tr th {\n",
       "        vertical-align: top;\n",
       "    }\n",
       "\n",
       "    .dataframe thead th {\n",
       "        text-align: right;\n",
       "    }\n",
       "</style>\n",
       "<table border=\"1\" class=\"dataframe\">\n",
       "  <thead>\n",
       "    <tr style=\"text-align: right;\">\n",
       "      <th></th>\n",
       "      <th>1</th>\n",
       "      <th>2</th>\n",
       "      <th>3</th>\n",
       "      <th>4</th>\n",
       "      <th>5</th>\n",
       "    </tr>\n",
       "  </thead>\n",
       "  <tbody>\n",
       "    <tr>\n",
       "      <th>ni</th>\n",
       "      <td>12.000000</td>\n",
       "      <td>14.000000</td>\n",
       "      <td>7.000000</td>\n",
       "      <td>10.000000</td>\n",
       "      <td>7.000000</td>\n",
       "    </tr>\n",
       "    <tr>\n",
       "      <th>n*Pi</th>\n",
       "      <td>11.754345</td>\n",
       "      <td>8.741355</td>\n",
       "      <td>9.711262</td>\n",
       "      <td>14.394468</td>\n",
       "      <td>4.588569</td>\n",
       "    </tr>\n",
       "    <tr>\n",
       "      <th>Слагаемое</th>\n",
       "      <td>0.005134</td>\n",
       "      <td>3.163508</td>\n",
       "      <td>0.756950</td>\n",
       "      <td>1.341581</td>\n",
       "      <td>1.267280</td>\n",
       "    </tr>\n",
       "  </tbody>\n",
       "</table>\n",
       "</div>"
      ],
      "text/plain": [
       "                   1          2         3          4         5\n",
       "ni         12.000000  14.000000  7.000000  10.000000  7.000000\n",
       "n*Pi       11.754345   8.741355  9.711262  14.394468  4.588569\n",
       "Слагаемое   0.005134   3.163508  0.756950   1.341581  1.267280"
      ]
     },
     "execution_count": 1543,
     "metadata": {},
     "output_type": "execute_result"
    }
   ],
   "source": [
    "P=[]\n",
    "two_ni= []\n",
    "for interval in ranges:\n",
    "    P_i = stats.norm.cdf(interval['upper'], loc=two_x_mn, scale=sigma0) - stats.norm.cdf(interval['lower'], loc=two_x_mn, scale=sigma0)\n",
    "    P.append(P_i)\n",
    "    two_ni.append(interval['count'])\n",
    "\n",
    "standart=[]\n",
    "for i in range(len(P)):\n",
    "    standart.append(((two_ni[i]-two_n * P[i])**2)/ (two_n * P[i]))\n",
    "\n",
    "two_nPi_list = [two_n * Pi for Pi in P]\n",
    "values_df = pd.DataFrame([two_ni,two_nPi_list,standart],index=['ni','n*Pi','Слагаемое'],columns=index[:(len(P))])\n",
    "values_df"
   ]
  },
  {
   "cell_type": "code",
   "execution_count": 1544,
   "metadata": {
    "ExecuteTime": {
     "end_time": "2023-12-06T21:49:31.298763Z",
     "start_time": "2023-12-06T21:49:29.515510Z"
    },
    "collapsed": false,
    "jupyter": {
     "outputs_hidden": false
    }
   },
   "outputs": [
    {
     "name": "stdout",
     "output_type": "stream",
     "text": [
      "Критерий X^2 = 6.53445\n",
      "Уровень значимости = 0.1\n",
      "Значение X^2 c 2 степенями свободы = 4.60517\n",
      "Наибольшее значение уровня значимости,на котором нет оснований отвергнуть данную гипотезу = 0.03811\n"
     ]
    }
   ],
   "source": [
    "print(f'Критерий X^2 = {round(sum(standart),5)}')\n",
    "chi_value = stats.chi2.ppf(1-alpha2, len(P)-3)\n",
    "print(f'Уровень значимости = {alpha2}')\n",
    "print(f'Значение X^2 c {len(P)-3} степенями свободы = {round(chi_value,5)}')\n",
    "p_value = stats.chi2.cdf(sum(standart), len(P)-3)\n",
    "print(f'Наибольшее значение уровня значимости,на котором нет оснований отвергнуть данную гипотезу = {round(1-p_value,5)}')"
   ]
  },
  {
   "cell_type": "markdown",
   "metadata": {
    "collapsed": false,
    "jupyter": {
     "outputs_hidden": false
    }
   },
   "source": [
    "Получили:\n",
    "$\\chi^2$ =  6.53445 <br>\n",
    "$\\chi_{r-d-1}^2$ = 4.60517 с уровнем значимости $\\alpha = 0.1$<br>\n",
    "$\\chi^2>\\chi_{2}^2$ по критерию Пирсона гипотеза отвергается"
   ]
  },
  {
   "cell_type": "markdown",
   "metadata": {
    "collapsed": false,
    "jupyter": {
     "outputs_hidden": false
    }
   },
   "source": [
    "#### h) <br>\n",
    "Основная гипотеза: $H_0 : \\left(a, \\sigma^2\\right) = \\left(a_0, \\sigma_0^2\\right)$\n",
    "\n",
    "Альтернативная гипотеза: $H_A : \\left(a, \\sigma^2\\right) = \\left(a_1, \\sigma_1^2\\right)$<br>\n",
    "$a0$ = 0<br>\n",
    "$\\sigma_0$ = 0.2<br>\n",
    "$a1$ = 0.22<br>\n",
    "$\\sigma_1$ = 0.2<br>\n",
    "Пусть <br>\n",
    "$\\theta_0 = \\left( a_0, \\sigma^2_0\\right)$<br>\n",
    "$H_1: \\theta_1 = \\left( a_1, \\sigma^2_1\\right) $<br>\n",
    "Функция правдоподобия:<br>\n",
    "\n",
    "$L\\left(\\vec{X}, \\vec{\\theta}\\right) = \\left(2\\pi \\right)^{-\\frac{n}{2}} \\cdot \\sigma^{-n} \\cdot e^{\\left(-\\frac{1}{2\\sigma^2} \\sum \\limits_{i = 1}^n (x_i - a)^2\\right)}$\n",
    "\n",
    "Т.к. $\\sigma_0=\\sigma_1$ <br>\n",
    "Будем писать $\\sigma_0$<br>\n",
    "Cтатистика отношения правдоподобия:<br>\n",
    "\n",
    "$LR\\left(\\vec{X}, \\vec{\\theta_0}, \\vec{\\theta_1}\\right) = \\frac{L\\left(\\vec{X}, \\vec{\\theta_1}\\right)}{L\\left(\\vec{X}, \\vec{\\theta_0}\\right)} = e^{\\left(\\frac{n}{2\\sigma^2}\\left(a_0^2 - a_1^2\\right) + \\frac{1}{\\sigma^2}\\sum \\limits_{i = 1}^n x_i \\cdot \\left(a_1 - a_0\\right)\\right)}$\n",
    "\n",
    "Получившаяся функция монотонна от $\\sum_{i=1}^{n}{x_i}$(МДС)\n",
    "\n",
    "$LR\\left(\\vec{X}\\right) = e^{\\left(\\frac{n}{2\\sigma^2}\\left(a_0^2 - a_1^2\\right) + \\frac{1}{\\sigma^2}\\sum \\limits_{i = 1}^n x_i \\cdot \\left(a_1 - a_0\\right)\\right)} > c $<br>\n",
    "$LLR\\left(\\vec{X}\\right)= \\left(\\frac{n}{2\\sigma^2}\\left(a_0^2 - a_1^2\\right) + \\frac{1}{\\sigma^2}\\sum \\limits_{i = 1}^n x_i \\cdot \\left(a_1 - a_0\\right)\\right) > \\ln c$ <br>\n",
    "Так как $\\left(a_0 - a_1\\right)<0$ ,знак поменяется<br>\n",
    " $\\bar{X} < -\\frac{\\sigma^2\\left(\\ln c- \\frac{n}{2\\sigma^2}\\right)\\cdot(\\alpha_1^2-\\alpha_0^2) }{(\\alpha_0-\\alpha_1)\\cdot n} = c^*$<br>\n",
    "\n",
    "$LR > c \\iff \\overline{X} < c^*$<br>\n",
    "\n",
    "$LR < c \\iff \\overline{X} > c^*$<br>\n",
    "\n",
    "Потому что статистика монотонна от $\\sum_{i=1}^{n}{x_i}$<br>\n",
    "\n",
    "Вспоминая ЦПТ, получаем критерий:\n",
    "\n",
    "$\\sqrt{n} \\frac{\\overline{X} - a_0}{\\sigma} \\sim \\mathcal{N}(0, 1)$ при $H_0$\n",
    "\n",
    "$\\sqrt{n} \\frac{\\overline{X} - a_0}{\\sigma} = 0.24$\n",
    "\n"
   ]
  },
  {
   "cell_type": "code",
   "execution_count": 1545,
   "metadata": {
    "ExecuteTime": {
     "end_time": "2023-12-06T21:49:31.298763Z",
     "start_time": "2023-12-06T21:49:29.527494Z"
    },
    "collapsed": false,
    "jupyter": {
     "outputs_hidden": false
    }
   },
   "outputs": [
    {
     "name": "stdout",
     "output_type": "stream",
     "text": [
      "Константа c* = 0.8159398746532405\n",
      "LR = 0.35355339059327373\n"
     ]
    }
   ],
   "source": [
    "c = stats.norm.cdf(1-alpha2)\n",
    "print('Константа c* =', c)\n",
    "\n",
    "g = ((two_x_mn - a0)/sigma0) * n**0.5\n",
    "print('LR =', g)"
   ]
  },
  {
   "cell_type": "markdown",
   "metadata": {
    "collapsed": false,
    "jupyter": {
     "outputs_hidden": false
    }
   },
   "source": [
    "$\\sqrt{n} \\frac{\\overline{X} - a_0}{\\sigma} < c^*$<br>\n",
    "Гипотезу принимаем"
   ]
  },
  {
   "cell_type": "markdown",
   "metadata": {
    "collapsed": false,
    "jupyter": {
     "outputs_hidden": false
    }
   },
   "source": [
    "Основная гипотеза: $H_0 :\\left(a, \\sigma^2\\right) = \\left(a_1, \\sigma_1^2\\right) $\n",
    "\n",
    "Альтернативная гипотеза: $H_A :\\left(a, \\sigma^2\\right) = \\left(a_0, \\sigma_0^2\\right) $<br>\n",
    "$a0$ = 0<br>\n",
    "$\\sigma_0$ = 0.2<br>\n",
    "$a1$ = 0.22<br>\n",
    "$\\sigma_1$ = 0.2<br>\n",
    "Пусть <br>\n",
    "$\\theta_0 = \\left( a_0, \\sigma^2_0\\right)$<br>\n",
    "$H_1: \\theta_1 = \\left( a_1, \\sigma^2_1\\right) $<br>\n",
    "Функция правдоподобия:<br>\n",
    "\n",
    "$L\\left(\\vec{X}, \\vec{\\theta}\\right) = \\left(2\\pi \\right)^{-\\frac{n}{2}} \\cdot \\sigma^{-n} \\cdot e^{\\left(-\\frac{1}{2\\sigma^2} \\sum \\limits_{i = 1}^n (x_i - a)^2\\right)}$\n",
    "\n",
    "Т.к. $\\sigma_0=\\sigma_1$ <br>\n",
    "Будем писать $\\sigma_0$<br>\n",
    "Cтатистика отношения правдоподобия:<br>\n",
    "\n",
    "$LR\\left(\\vec{X}, \\vec{\\theta_1}, \\vec{\\theta_0}\\right) = \\frac{L\\left(\\vec{X}, \\vec{\\theta_0}\\right)}{L\\left(\\vec{X}, \\vec{\\theta_1}\\right)} = e^{\\left(\\frac{n}{2\\sigma^2}\\left(a_1^2 - a_0^2\\right) + \\frac{1}{\\sigma^2}\\sum \\limits_{i = 1}^n x_i \\cdot \\left(a_0 - a_1\\right)\\right)}$\n",
    "\n",
    "Получившаяся функция монотонна от $\\sum_{i=1}^{n}{x_i}$(МДС)\n",
    "\n",
    "$LR\\left(\\vec{X}\\right) = e^{\\left(\\frac{n}{2\\sigma^2}\\left(a_1^2 - a_0^2\\right) + \\frac{1}{\\sigma^2}\\sum \\limits_{i = 1}^n x_i \\cdot \\left(a_0 - a_1\\right)\\right)} > c $<br>\n",
    "$LLR\\left(\\vec{X}\\right)= \\left(\\frac{n}{2\\sigma^2}\\left(a_1^2 - a_0^2\\right) + \\frac{1}{\\sigma^2}\\sum \\limits_{i = 1}^n x_i \\cdot \\left(a_0 - a_1\\right)\\right) > \\ln c$ <br>\n",
    "\n",
    "$\\bar{X} > \\frac{\\sigma^2\\left(\\ln c- \\frac{n}{2\\sigma^2}\\right)\\cdot(\\alpha_0^2-\\alpha_1^2) }{(\\alpha_1-\\alpha_0)\\cdot n} = c^*$<br>\n",
    "\n",
    "$LR > c \\iff \\overline{X} < c^*$<br>\n",
    "\n",
    "$LR < c \\iff \\overline{X} > c^*$<br>\n",
    "\n",
    "Потому что статистика монотонна от $\\sum_{i=1}^{n}{x_i}$<br>\n",
    "\n",
    "Вспоминая ЦПТ, получаем критерий:\n",
    "\n",
    "$\\sqrt{n} \\frac{\\overline{X} - a_1}{\\sigma} \\sim \\mathcal{N}(0, 1)$ при $H_0$\n",
    "\n",
    "$\\sqrt{n} \\frac{\\overline{X} - a_1}{\\sigma} = 0.24$\n"
   ]
  },
  {
   "cell_type": "code",
   "execution_count": 1546,
   "metadata": {
    "ExecuteTime": {
     "end_time": "2023-12-06T21:49:31.322735Z",
     "start_time": "2023-12-06T21:49:29.579425Z"
    },
    "collapsed": false,
    "jupyter": {
     "outputs_hidden": false
    }
   },
   "outputs": [
    {
     "name": "stdout",
     "output_type": "stream",
     "text": [
      "Константа c* = 0.8159398746532405\n",
      "LR = -7.424621202458748\n"
     ]
    }
   ],
   "source": [
    "c_alpha = stats.norm.cdf(1-alpha2)\n",
    "print('Константа c* =', c_alpha)\n",
    "\n",
    "g = ((two_x_mn - a1)/sigma0) * n**0.5\n",
    "print('LR =', g)"
   ]
  },
  {
   "cell_type": "markdown",
   "metadata": {
    "collapsed": false,
    "jupyter": {
     "outputs_hidden": false
    }
   },
   "source": [
    "$\\sqrt{n} \\frac{\\overline{X} - a_0}{\\sigma} > c^*$<br>\n",
    "Гипотезу принимаем"
   ]
  },
  {
   "cell_type": "markdown",
   "metadata": {
    "collapsed": false,
    "jupyter": {
     "outputs_hidden": false
    }
   },
   "source": [
    "#### i.с)  <br>\n",
    "$X \\sim \\mathop{\\mathrm{DE}}\\nolimits(a, \\sigma)$ <br><br>\n",
    "\n",
    "##### Найдем ОМП\n",
    "\n",
    "$\\rho_{a,\\sigma}(x)=\\frac{1}{\\sqrt 2\\sigma}exp\\left(-\\frac{\\sqrt 2}{\\sigma}|x-a|\\right)$\n",
    "\n",
    "Перейдём к функции максимального правдоподобия\n",
    "$L\\left(\\vec x,{\\theta}\\right)  = \\prod_{i=1}^{n} \\frac{1}{\\sqrt{2\\pi}\\sigma} \\cdot exp\\left(-\\frac{\\sqrt 2}{\\sigma}|x_i-a|\\right) = (\\sqrt 2\\sigma)^{-n}exp\\left(-\\frac{\\sqrt 2}{\\sigma}\\sum_{i=1}^n|x_{i}-a|\\right) $<br>\n",
    "\n",
    "$LL\\left(\\vec x,{\\theta}\\right) = -n \\ln(\\sqrt 2\\sigma)\\cdot(-\\frac{\\sqrt 2}{\\sigma} \\sum_{i=1}^n|x_{(i)}-a|)$<br><br>\n",
    "$T=(\\sum_{i=1}^nx_i)$<br>\n",
    "T = МДС = ПДС, т.к. семейство экспоненциальных<br>\n",
    "\n",
    "ОМП для $a$<br>\n",
    "\n",
    "$\\frac{\\partial LL\\left(\\vec x,{\\theta}\\right)}{\\partial a} = -\\frac{1}{\\sigma}\\sum_{i=1}^n sign(x_{(i)}-a)$<br><br>\n",
    "$-\\frac{1}{\\sigma}\\sum_{i=1}^n sign(x_{(i)}-a)=0$<br>\n",
    "$\\hat a=Z_{n,\\frac{1}{2}}= -0.0363$<br><br>\n",
    "\n",
    "ОМП для $\\sigma$<br>\n",
    "$\\frac{\\partial LL\\left(\\vec x,{\\theta}\\right)}{\\partial \\sigma} = -\\cfrac{n}{\\sigma}+\\cfrac{1}{\\sigma^2}\\sum_{i=1}^n|x_{(i)}-a| $<br>\n",
    "$-\\cfrac{n}{\\sigma}+\\cfrac{1}{\\sigma^2}\\sum_{i=1}^n|x_{(i)}-a|=0$<br>\n",
    "$\\hat{\\sigma} =\\frac{1}{n}\\sum_{i=1}^n|x_{(i)}-Z_{n,\\frac{1}{2}}| $<br>\n",
    "$\\hat\\sigma^2=(\\frac{1}{n}\\sum_{i=1}^n|x_{(i)}-Z_{n,\\frac{1}{2}}|)^2= 0.000854433656$\n",
    "\n",
    "##### Найдем ОММ<br>\n",
    "$\\mathbb{E}X_1=a , M_1 = \\bar{X}$<br>\n",
    "т.к. $\\mathop{\\mathrm{DE}}\\nolimits(a, \\frac{\\sqrt{2}}{\\sigma})$<br>\n",
    "$\\mathbb{D}X = \\frac{\\sigma^2}{2}\\cdot 2 = \\sigma^2$<br>\n",
    "$\\mathbb{E}X_1^2=a^2+\\sigma^2   , M_2 =  \\bar{X^2}$<br>\n",
    "\n",
    "$\\begin{cases}\n",
    "\\bar{X} = a ,\\\\\n",
    "\\bar{X^2} = a^2+\\sigma^2 .\n",
    "\\end{cases}$<br><br>\n",
    "\n",
    "$\\begin{cases}\n",
    "\\tilde a = \\bar{X}  ,\\\\\n",
    "\\tilde \\sigma^2 = \\bar{\\left(X^2\\right)} -\\left(\\bar{X}\\right)^2 = S^2 .\n",
    "\\end{cases}$<br>\n",
    "$\\tilde \\theta = \\left(\\tilde a,\\tilde \\sigma^2\\right) = \\left(\\bar{X},S^2\\right)$\n",
    "\n",
    "##### Смещение оценки<br>\n",
    "$\\mathbb{E}\\left(\\frac{\\sum_{i=1}^{n}x_i}{n}\\right)= \\frac{1}{n}\\sum_{i=1}^{n}\\mathbb{E}x_i = \\frac{a}{n}\\cdot n = a$<br>\n",
    "\n",
    "$\\mathbb{E}_{\\theta} \\hat{\\sigma^2} \\neq \\sigma^2$ смещённая оценка\n",
    "$\\mathbb{E}_{\\theta} \\tilde{a} = \\mathbb{E}_{\\theta} \\overline{X} $= a несмещённая оценка.\n",
    "$\\mathbb{E}_{\\theta}\\widetilde{\\sigma^2} = \\mathbb{E}_{\\theta} S^2 = \\frac{n -1}{n} \\sigma^2$ смещённая оценка."
   ]
  },
  {
   "cell_type": "markdown",
   "metadata": {
    "collapsed": false,
    "jupyter": {
     "outputs_hidden": false
    }
   },
   "source": [
    "#### i.d)  <br>\n",
    "$\\alpha_2=0.10$<br>\n",
    "$\\sqrt{n}\\frac{\\bar x-a}{S}\\sim   N (0,1)$п. из леммы Фишера<br>\n",
    "$\\sqrt{n-1}\\frac{\\bar x-a}{S}\\sim  S_{n-1}$п. из леммы Фишера<br>\n",
    "$G(\\bar X,a)=\\sqrt{n-1}\\frac{\\bar x-a}{S}$<br>\n",
    "$\\mathbb{P}(-x_\\alpha\\leq\\sqrt{n-1}\\frac{\\bar x-a}{S}\\leq x_\\alpha)=1-\\alpha_2$<br>\n",
    "$\\mathbb{P}(\\bar X-\\frac{x_\\alpha S}{\\sqrt{n-1}}\\leq a\\leq\\bar X+\\frac{x_\\alpha S}{\\sqrt{n-1}})=1-\\alpha_2$<br>\n",
    "$x_\\alpha\\approx 1.67$из таблицы стандартного нормального распределения<br>\n",
    "$\\mathbb{P}\\left(0.01-\\frac{1.67\\cdot 0.534}{\\sqrt{50-1}}\\leq a\\leq0.01+\\frac{1.67\\cdot 0.534}{\\sqrt{50-1}}\\right)=1-\\alpha_2$=0.9<br>\n",
    "$[-0.117,0.137]\\ni a$<br>\n",
    "$\\frac{nS^2}{\\sigma^2}\\sim \\mathscr \\chi^2_{n-1} $ п. из леммы Фишера\n",
    "$G(\\bar X,\\sigma^2)=\\frac{nS^2}{\\sigma^2}$<br>\n",
    "$\\mathbb{P}(x_{\\alpha_1}\\leq\\frac{nS^2}{\\sigma^2}\\leq x_{\\alpha_2})=1-\\alpha_2$<br>\n",
    "$\\mathbb{P}(\\frac{nS^2}{x_{\\alpha_1}}\\leq\\sigma^2\\leq\\frac{nS^2}{x_{\\alpha_2}})=1-\\alpha_2=0.9$<br>\n",
    "$x_{\\alpha_1}: Ф(x_{\\alpha_1})=\\frac{\\alpha}{2}=0.05$,где $Ф(x_{\\alpha_1})$ - функция распределения<br>\n",
    "$x_{\\alpha_2}: Ф(x_{\\alpha_2})=1-\\frac{\\alpha}{2}=0.95$<br>\n",
    "$x_{\\alpha_1}\\approx 66.34$  $x_{\\alpha_2}\\approx 33.93$из таблицы хи-квадрат распределения <br>\n",
    "$\\mathbb{P}\\left(\\frac{50\\cdot 0.285}{66.34}\\leq\\sigma^2\\leq\\frac{50\\cdot 0.285}{33.93}\\right)=1-\\alpha_2=0.9$<br>\n",
    "$[0.214,0.42]\\ni\\sigma^2$"
   ]
  },
  {
   "cell_type": "markdown",
   "metadata": {
    "collapsed": false,
    "jupyter": {
     "outputs_hidden": false
    }
   },
   "source": [
    "#### i.e)  <br>"
   ]
  },
  {
   "cell_type": "code",
   "execution_count": 1547,
   "metadata": {
    "ExecuteTime": {
     "end_time": "2023-12-06T21:49:31.326728Z",
     "start_time": "2023-12-06T21:49:29.779162Z"
    },
    "collapsed": false,
    "jupyter": {
     "outputs_hidden": false
    }
   },
   "outputs": [
    {
     "name": "stdout",
     "output_type": "stream",
     "text": [
      "Критерий Колмогорова:0.83165 \n",
      "Квантиль: 1.22385\n",
      "Наибольшее значение уровня значимости, при котором нет оснований отвергнуть гипотезу:0.494\n"
     ]
    }
   ],
   "source": [
    "def laplac_cdf(x):\n",
    "    return stats.laplace.cdf(x, loc=a0, scale=sigma0)\n",
    "\n",
    "Dn, _ = stats.kstest(two_x, laplac_cdf)\n",
    "Dn_sqrt_two_n = two_n**0.5 * Dn\n",
    "print(f'Критерий Колмогорова:{ round(Dn_sqrt_two_n, 5)} ')\n",
    "quantile= stats.kstwobign.ppf(1 - alpha2)\n",
    "print(f'Квантиль: { round(quantile, 5)}')\n",
    "p_value = 1- stats.kstwobign.cdf(Dn_sqrt_two_n)\n",
    "print(f'Наибольшее значение уровня значимости, при котором нет оснований отвергнуть гипотезу:{round(p_value , 3)}')"
   ]
  },
  {
   "cell_type": "markdown",
   "metadata": {
    "collapsed": false,
    "jupyter": {
     "outputs_hidden": false
    }
   },
   "source": [
    "Критическая область - $(1.22385, + \\infty)$\n",
    "$\\sqrt{n}D_n$ = 0.83165\n",
    "Критерий Колмогорова не попал в критическую область. <br>\n",
    "Нет оснований отвергнуть гипотезу"
   ]
  },
  {
   "cell_type": "markdown",
   "metadata": {
    "collapsed": false,
    "jupyter": {
     "outputs_hidden": false
    }
   },
   "source": [
    "#### i.f)  <br>\n"
   ]
  },
  {
   "cell_type": "code",
   "execution_count": 1548,
   "metadata": {
    "ExecuteTime": {
     "end_time": "2023-12-06T21:49:31.358714Z",
     "start_time": "2023-12-06T21:49:29.910983Z"
    },
    "collapsed": false,
    "jupyter": {
     "outputs_hidden": false
    }
   },
   "outputs": [
    {
     "data": {
      "text/html": [
       "<div>\n",
       "<style scoped>\n",
       "    .dataframe tbody tr th:only-of-type {\n",
       "        vertical-align: middle;\n",
       "    }\n",
       "\n",
       "    .dataframe tbody tr th {\n",
       "        vertical-align: top;\n",
       "    }\n",
       "\n",
       "    .dataframe thead th {\n",
       "        text-align: right;\n",
       "    }\n",
       "</style>\n",
       "<table border=\"1\" class=\"dataframe\">\n",
       "  <thead>\n",
       "    <tr style=\"text-align: right;\">\n",
       "      <th></th>\n",
       "      <th>1</th>\n",
       "      <th>2</th>\n",
       "      <th>3</th>\n",
       "      <th>4</th>\n",
       "      <th>5</th>\n",
       "    </tr>\n",
       "  </thead>\n",
       "  <tbody>\n",
       "    <tr>\n",
       "      <th>ni</th>\n",
       "      <td>12.000000</td>\n",
       "      <td>14.000000</td>\n",
       "      <td>7.000000</td>\n",
       "      <td>10.000000</td>\n",
       "      <td>7.000000</td>\n",
       "    </tr>\n",
       "    <tr>\n",
       "      <th>n*Pi</th>\n",
       "      <td>2.395545</td>\n",
       "      <td>0.646938</td>\n",
       "      <td>0.667383</td>\n",
       "      <td>1.398707</td>\n",
       "      <td>1.488510</td>\n",
       "    </tr>\n",
       "    <tr>\n",
       "      <th>Слагаемое</th>\n",
       "      <td>38.507118</td>\n",
       "      <td>275.612434</td>\n",
       "      <td>60.088451</td>\n",
       "      <td>52.893322</td>\n",
       "      <td>20.407344</td>\n",
       "    </tr>\n",
       "  </tbody>\n",
       "</table>\n",
       "</div>"
      ],
      "text/plain": [
       "                   1           2          3          4          5\n",
       "ni         12.000000   14.000000   7.000000  10.000000   7.000000\n",
       "n*Pi        2.395545    0.646938   0.667383   1.398707   1.488510\n",
       "Слагаемое  38.507118  275.612434  60.088451  52.893322  20.407344"
      ]
     },
     "execution_count": 1548,
     "metadata": {},
     "output_type": "execute_result"
    }
   ],
   "source": [
    "P=[]\n",
    "two_ni = []\n",
    "\n",
    "for interval in ranges:\n",
    "    P_i = stats.laplace.cdf(interval['upper'], loc=lambda0, scale=(2/sigma0)**0.5) - stats.laplace.cdf(interval['lower'], loc=lambda0, scale=(2/sigma0)**0.5)\n",
    "    P.append(P_i)\n",
    "    two_ni.append(interval['count'])\n",
    "\n",
    "standart=[]\n",
    "for i in range(len(P)):\n",
    "    standart.append(((two_ni[i]-two_n * P[i])**2)/ (two_n * P[i]))\n",
    "\n",
    "two_nPi_list = [two_n * Pi for Pi in P]\n",
    "values_df = pd.DataFrame([two_ni,two_nPi_list,standart],index=['ni','n*Pi','Слагаемое'],columns=index[:(len(P))])\n",
    "\n",
    "values_df"
   ]
  },
  {
   "cell_type": "code",
   "execution_count": 1549,
   "metadata": {
    "ExecuteTime": {
     "end_time": "2023-12-06T21:49:31.358714Z",
     "start_time": "2023-12-06T21:49:29.942972Z"
    },
    "collapsed": false,
    "jupyter": {
     "outputs_hidden": false
    }
   },
   "outputs": [
    {
     "name": "stdout",
     "output_type": "stream",
     "text": [
      "Критерий X^2 =447.50867\n",
      "Уровень значимости 0.1\n",
      "Значение X^2 c 4 степенях свободы 7.77944\n",
      "Наибольшее значение уровня значимости при котором нет оснований отвергнуть данную гипотезу 0.0 \n"
     ]
    }
   ],
   "source": [
    "print(f'Критерий X^2 ={round(sum(standart),5)}', )\n",
    "chi_value = stats.chi2.ppf(1 - alpha2, len(P) - 1)\n",
    "print(f'Уровень значимости {alpha2}')\n",
    "print(f'Значение X^2 c {len(P) - 1} степенях свободы {round(chi_value, 5)}')\n",
    "p_value = stats.chi2.cdf(sum(standart), len(P)-1)\n",
    "print(f'Наибольшее значение уровня значимости при котором нет оснований отвергнуть данную гипотезу {round(1-p_value,5)} ')"
   ]
  },
  {
   "cell_type": "markdown",
   "metadata": {
    "collapsed": false,
    "jupyter": {
     "outputs_hidden": false
    }
   },
   "source": [
    "Получили:\n",
    "$\\chi^2$ = 447.5087<br>\n",
    "$\\chi_{r-1}^2$ = 7.7794 с уровнем значимости $\\alpha = 0.1$<br>\n",
    "$\\chi^2>\\chi_{4}^2$ по критерию Пирсона гипотеза отвергается"
   ]
  },
  {
   "cell_type": "markdown",
   "metadata": {
    "collapsed": false,
    "jupyter": {
     "outputs_hidden": false
    }
   },
   "source": [
    "#### i.g)  <br>\n"
   ]
  },
  {
   "cell_type": "code",
   "execution_count": 1550,
   "metadata": {
    "ExecuteTime": {
     "end_time": "2023-12-06T21:49:31.378689Z",
     "start_time": "2023-12-06T21:49:30.094735Z"
    },
    "collapsed": false,
    "jupyter": {
     "outputs_hidden": false
    }
   },
   "outputs": [
    {
     "data": {
      "text/html": [
       "<div>\n",
       "<style scoped>\n",
       "    .dataframe tbody tr th:only-of-type {\n",
       "        vertical-align: middle;\n",
       "    }\n",
       "\n",
       "    .dataframe tbody tr th {\n",
       "        vertical-align: top;\n",
       "    }\n",
       "\n",
       "    .dataframe thead th {\n",
       "        text-align: right;\n",
       "    }\n",
       "</style>\n",
       "<table border=\"1\" class=\"dataframe\">\n",
       "  <thead>\n",
       "    <tr style=\"text-align: right;\">\n",
       "      <th></th>\n",
       "      <th>1</th>\n",
       "      <th>2</th>\n",
       "      <th>3</th>\n",
       "      <th>4</th>\n",
       "      <th>5</th>\n",
       "    </tr>\n",
       "  </thead>\n",
       "  <tbody>\n",
       "    <tr>\n",
       "      <th>ni</th>\n",
       "      <td>12.000000</td>\n",
       "      <td>14.000000</td>\n",
       "      <td>7.000000</td>\n",
       "      <td>10.000000</td>\n",
       "      <td>7.000000</td>\n",
       "    </tr>\n",
       "    <tr>\n",
       "      <th>n*Pi</th>\n",
       "      <td>2.797042</td>\n",
       "      <td>0.755366</td>\n",
       "      <td>0.771746</td>\n",
       "      <td>1.482384</td>\n",
       "      <td>1.392951</td>\n",
       "    </tr>\n",
       "    <tr>\n",
       "      <th>Слагаемое</th>\n",
       "      <td>30.279997</td>\n",
       "      <td>232.232172</td>\n",
       "      <td>50.264102</td>\n",
       "      <td>48.941279</td>\n",
       "      <td>22.570071</td>\n",
       "    </tr>\n",
       "  </tbody>\n",
       "</table>\n",
       "</div>"
      ],
      "text/plain": [
       "                   1           2          3          4          5\n",
       "ni         12.000000   14.000000   7.000000  10.000000   7.000000\n",
       "n*Pi        2.797042    0.755366   0.771746   1.482384   1.392951\n",
       "Слагаемое  30.279997  232.232172  50.264102  48.941279  22.570071"
      ]
     },
     "execution_count": 1550,
     "metadata": {},
     "output_type": "execute_result"
    }
   ],
   "source": [
    "P=[]\n",
    "two_ni = []\n",
    "\n",
    "for interval in ranges:\n",
    "    P_i = stats.laplace.cdf(interval['upper'], loc=two_x_mn, scale=(2/sigma0)**0.5) - stats.laplace.cdf(interval['lower'], loc=two_x_mn, scale=(2/sigma0)**0.5)\n",
    "    P.append(P_i)\n",
    "    two_ni.append(interval['count'])\n",
    "\n",
    "standart=[]\n",
    "for i in range(len(P)):\n",
    "    standart.append(((two_ni[i]-two_n * P[i])**2)/ (two_n * P[i]))\n",
    "\n",
    "two_nPi_list = [two_n * Pi for Pi in P]\n",
    "values_df = pd.DataFrame([two_ni,two_nPi_list,standart],index=['ni','n*Pi','Слагаемое'],columns=index[:(len(P))])\n",
    "\n",
    "values_df"
   ]
  },
  {
   "cell_type": "code",
   "execution_count": 1551,
   "metadata": {
    "ExecuteTime": {
     "end_time": "2023-12-06T21:49:31.378689Z",
     "start_time": "2023-12-06T21:49:30.122699Z"
    },
    "collapsed": false,
    "jupyter": {
     "outputs_hidden": false
    }
   },
   "outputs": [
    {
     "name": "stdout",
     "output_type": "stream",
     "text": [
      "Критерий X^2 =384.28762\n",
      "Уровень значимости 0.1\n",
      "Значение X^2 c 2 степенях свободы 4.60517\n",
      "Наибольшее значение уровня значимости при котором нет оснований отвергнуть данную гипотезу 0.0 \n"
     ]
    }
   ],
   "source": [
    "print(f'Критерий X^2 ={round(sum(standart),5)}', )\n",
    "chi_value = stats.chi2.ppf(1 - alpha2, len(P) - 3)\n",
    "print(f'Уровень значимости {alpha2}')\n",
    "print(f'Значение X^2 c {len(P) - 3} степенях свободы {round(chi_value, 5)}')\n",
    "p_value = stats.chi2.cdf(sum(standart), len(P)-3)\n",
    "print(f'Наибольшее значение уровня значимости при котором нет оснований отвергнуть данную гипотезу {round(1-p_value,5)} ')"
   ]
  },
  {
   "cell_type": "markdown",
   "metadata": {
    "collapsed": false,
    "jupyter": {
     "outputs_hidden": false
    }
   },
   "source": [
    "Получили:\n",
    "$\\chi^2$ = 384.28762<br>\n",
    "$\\chi_{r-1-d}^2$ = 4.60517 с уровнем значимости $\\alpha = 0.1$<br>\n",
    "$\\chi^2>\\chi_{2}^2$ по критерию Пирсона гипотеза отвергается"
   ]
  },
  {
   "cell_type": "markdown",
   "metadata": {},
   "source": [
    "\n",
    "## Выводы\n",
    "\n",
    "В процессе выполнения текущего лабораторного исследования были освоены основные теоретические положения статистического анализа данных. Сформировались навыки реализации методов с помощью специальных библиотек. Получены навыки проведения анализа выборочных данных.\n",
    "Самостоятельно была изучена тема гипотез."
   ]
  }
 ],
 "metadata": {
  "kernelspec": {
   "display_name": "Python 3 (ipykernel)",
   "language": "python",
   "name": "python3"
  },
  "language_info": {
   "codemirror_mode": {
    "name": "ipython",
    "version": 3
   },
   "file_extension": ".py",
   "mimetype": "text/x-python",
   "name": "python",
   "nbconvert_exporter": "python",
   "pygments_lexer": "ipython3",
   "version": "3.9.7"
  }
 },
 "nbformat": 4,
 "nbformat_minor": 4
}
