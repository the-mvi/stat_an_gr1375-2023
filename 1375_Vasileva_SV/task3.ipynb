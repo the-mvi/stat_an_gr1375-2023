{
 "cells": [
  {
   "cell_type": "markdown",
   "metadata": {},
   "source": [
    "# Лабораторная работа №3: Регрессионный анализ\n",
    "Выполнила студентка гр. 1375 Васильева Софья. Вариант №7"
   ]
  },
  {
   "cell_type": "markdown",
   "metadata": {},
   "source": [
    "## Цель работы\n",
    "Ознакомиться с основными положениями метода наименьших квадратов (МНК), со статистическими свойствами МНК-оценок, с понятием функции регрессии и роли МНК в регрессионном анализе."
   ]
  },
  {
   "cell_type": "markdown",
   "metadata": {},
   "source": [
    "## Основные теоретические положения\n",
    "\n",
    "**МНК (Метод Наименьших Квадратов)**\n",
    "$RSS(\\beta)=\\left\\| Y-X^{\\intercal}\\beta \\right\\|=(Y-X^{\\intercal}\\beta)^{\\intercal}\\cdot(Y-X^{\\intercal}\\beta)\\to min\\beta$\\\n",
    "\\\n",
    "Нормальные уравнения: $XX^{\\intercal}\\beta=XY$\\\n",
    "Решение системы нормальных уравнений в регулярном случае: $\\widehat{\\beta}=(XX^{\\intercal})^{-1}XY$\\\n",
    "\\\n",
    "$RSS(\\beta)=\\sum_{i=1}^{n}\\left( Y_{i}-\\sum_{j=1}^{m}x_{ji}\\beta_{j} \\right)^{2}$\\\n",
    "$\\frac{\\partial RSS}{\\partial \\beta_{k}} = -2\\sum_{i=1}^{n}x_{ki}\\left(Y_{i}- \\sum_{j=1}^{m}x_{ji}\\beta_{j}\\right)=0, k=1...m$\n",
    "\n",
    "**Доверительный интервал**\n",
    "\n",
    "ДНО - функция: $\\psi(\\beta) = C^\\intercal\\beta$\n",
    "\n",
    "МНК оценка: $\\hat{\\psi}= C^\\intercal\\hat{\\beta}$\n",
    "\n",
    "$b_\\psi = C^\\intercal(XX^\\intercal)^{-1}C$\n",
    "\n",
    "Распределение: $\\hat{\\psi} \\sim \\mathcal{N}(\\psi,\\sigma^2b_\\psi) $\n",
    "\n",
    "Тогда $\\frac{\\hat{\\psi} - {\\psi}}{S\\sqrt{b_\\psi}} \\sim S_{n-r}$\n",
    "\n",
    "Доверительный интервал: $\\left[\\hat{\\psi} - x_\\alpha S \\sqrt{b_\\psi}; \\hat{\\psi} + x_\\alpha S \\sqrt{b_\\psi}\\right]$, где $x_\\alpha: S_{n-r}(x_\\alpha) = 1 - \\frac{\\alpha}{2}$\n",
    "\n",
    " **Доверительный эллипсоид**\n",
    "\n",
    "$b_\\psi = C^\\intercal(XX^\\intercal)^{-1}C$\n",
    "\n",
    "Распределение: $\\frac{\\left(\\hat{\\psi} - {\\psi}\\right)^\\intercal {b_\\psi}^{-1} \\left(\\hat{\\psi} - {\\psi}\\right)}{qS^2} \\sim \\mathcal{F}_{q,n-r}$\n",
    "\n",
    "Доверительный эллипсоид: $\\left\\{\\overrightarrow{x} : \\left(\\overrightarrow{x} - \\hat{\\psi}\\right)^\\intercal b_\\psi^{-1} \\left(\\overrightarrow{x} - \\hat{\\psi}\\right) \\le q S^2 x_\\alpha\\right\\}$,где $x_\\alpha: \\mathcal{F}_{q, n-r}(x_\\alpha) = 1 - \\alpha$\n",
    "\n",
    "**Несмещённая оценка дисперсии $(S^{2})$**\n",
    "\n",
    "$S^{2} = \\frac{SS_{e}}{n-r} = \\frac{RSS(\\widehat{\\beta})}{n-r}$\n",
    "\n",
    "$SS_{e}=RSS(\\widehat{\\beta})$"
   ]
  },
  {
   "cell_type": "markdown",
   "metadata": {},
   "source": [
    "## Постановка задачи\n",
    "Результаты статистического эксперимента представлены в виде двух переменных. Требуется оценить характер (случайной) зависимости переменной $Y$ от переменной $X$. Полученные результаты содержательно проинтерпретировать."
   ]
  },
  {
   "cell_type": "markdown",
   "metadata": {},
   "source": [
    "## Выполнение работы"
   ]
  },
  {
   "cell_type": "markdown",
   "metadata": {},
   "source": [
    "### 1.Построить графически результаты эксперимента. Сформулировать линейную регрессионную модель переменной Y по переменной X. Построить МНК оценки параметров сдвига $\\beta_0$ и масштаба $\\beta_1$.  Построить полученную линию регрессии. Оценить визуально соответствие полученных данных и построенной оценки"
   ]
  },
  {
   "cell_type": "markdown",
   "metadata": {},
   "source": [
    "Линейная регрессионная модель:\n",
    "\n",
    "$\\mathbb{E}_{\\theta}(Y|z) = x(z)^{\\intercal}\\beta$\n",
    "\n",
    "\n",
    "\n",
    "Альтернативная форма записи :\n",
    "\n",
    "$ Y = X^T \\beta + e  \\quad \\mathbb{E}_\\theta +\\varepsilon = 0 \\quad Var_\\theta e = \\sigma^2 E$\n",
    "\n",
    "Система нормальных уравнений:\n",
    "\n",
    "$ X X^T \\beta = X Y $\n",
    "\n",
    "Решение системы нормальных уравнений в регулярном случае:\n",
    "\n",
    "$ \\hat{\\beta} = (X X^T)^{-1} XY $"
   ]
  },
  {
   "cell_type": "code",
   "execution_count": 664,
   "metadata": {},
   "outputs": [
    {
     "data": {
      "image/png": "[encoded data removed]",
      "text/plain": [
       "<Figure size 640x480 with 1 Axes>"
      ]
     },
     "metadata": {},
     "output_type": "display_data"
    }
   ],
   "source": [
    "import pandas as pd\n",
    "import numpy as np\n",
    "from matplotlib import pyplot as plt\n",
    "import statistics as st\n",
    "import scipy.stats as sc\n",
    "from scipy.stats import chi2\n",
    "import scipy.stats as sps\n",
    "import scipy.optimize as spo\n",
    "\n",
    "y = np.array( [4.03, 8.77, 6.21, 7.15, 2.27, 2.15, 15.47,9.59, 14.94, 2.08, 5.19,14.96, 3.48, 1.80, 4.40, \n",
    "14.98, 0.65, 7.57, 6.23, 6.20, 7.88, 10.26, 7.33, 13.21, 4.49, 8.63, 11.26, 11.50, 6.41, 4.86, 6.46, 0.42, 8.48,\n",
    " 8.33, 0.38, 5.64, 16.66, 13.00, 5.38, 5.76, 7.10, 0.48, 10.29, 8.28, 9.15, 6.57, 7.25, 12.58, 3.61, 1.25])\n",
    "\n",
    "x = np.array( [0, 0, 4, 4, 0, 1, 0, 4, 0, 4, 0, 3, 4, 3, 2, 2, 1, 3, 2, 2, 4, 0, 4, 4, 0,\n",
    " 1, 2, 4, 0, 3, 0, 0, 2, 1, 4, 4, 4, 4, 0, 3, 1, 1, 3, 0, 3, 0, 0, 3, 0, 2])\n",
    "plt.scatter(x, y)\n",
    "plt.xlabel(\"x\")\n",
    "plt.ylabel(\"y\")\n",
    "plt.title(\"Графическое представление результатов эксперимента\")\n",
    "plt.scatter(x, y, color='purple', edgecolors='black', linewidths=0.5)\n",
    "plt.show()"
   ]
  },
  {
   "cell_type": "code",
   "execution_count": 665,
   "metadata": {},
   "outputs": [
    {
     "name": "stdout",
     "output_type": "stream",
     "text": [
      "b0: 6.375\n",
      "b1: 0.441\n",
      "(XXT)^-1 [[ 0.0484269  -0.01480568]\n",
      " [-0.01480568  0.00771129]]\n"
     ]
    }
   ],
   "source": [
    "Y_matrix = np.matrix(y).T\n",
    "X_matrix = np.matrix([[1] * len(x), x])\n",
    "\n",
    "Beta_matrix = np.linalg.inv(X_matrix * X_matrix.T) * X_matrix * Y_matrix\n",
    "beta_0 = float(Beta_matrix[0, 0])\n",
    "beta_1 = float(Beta_matrix[1, 0])\n",
    "XX_T_inv = np.linalg.inv(X_matrix * X_matrix.T)\n",
    "print(\"b0:\", round(beta_0, 3) )\n",
    "print(\"b1:\", round(beta_1, 3))\n",
    "print(\"(XXT)^-1\",XX_T_inv)"
   ]
  },
  {
   "cell_type": "markdown",
   "metadata": {},
   "source": [
    "МНК-оценки параметров\n",
    "$ \\hat{\\beta} = \\left( \\begin{array}{c} \\hat\\beta_0 \\\\ \\hat\\beta_1 \\end{array} \\right) = \\left( \\begin{array}{c} 6.375 \\\\ 0.441 \\end{array} \\right) $"
   ]
  },
  {
   "cell_type": "code",
   "execution_count": 666,
   "metadata": {},
   "outputs": [
    {
     "data": {
      "image/png": "[encoded data removed]",
      "text/plain": [
       "<Figure size 640x480 with 1 Axes>"
      ]
     },
     "metadata": {},
     "output_type": "display_data"
    }
   ],
   "source": [
    "b = np.array([beta_0, beta_1])\n",
    "plt.scatter(x, y)\n",
    "plt.plot([min(x), max(x)], [beta_0 + beta_1 * min(x), beta_0 + beta_1 * max(x)], color='black')\n",
    "plt.xlabel(\"X\")\n",
    "plt.ylabel(\"Y\")\n",
    "plt.title(\"Линейная регрессия\")\n",
    "plt.scatter(x, y, color='purple', edgecolors='black', linewidths=0.5)\n",
    "plt.show()"
   ]
  },
  {
   "cell_type": "markdown",
   "metadata": {},
   "source": []
  },
  {
   "cell_type": "markdown",
   "metadata": {},
   "source": [
    "### 2. Построить и интерпретировать несмещённую оценку дисперсии. На базе ошибок построить гистограмму с шагом $h = 2.20 $. Проверить гипотезу нормальности ошибок на уровне значимости $\\alpha = 0.05$ по $\\chi^2$. Оценить расстояние полученной оценки до класса нормальных распределений по Колмогорову. Визуально оценить данный факт."
   ]
  },
  {
   "cell_type": "markdown",
   "metadata": {},
   "source": [
    "Несмещённая оценка дисперсии:\n",
    "\n",
    "$ \\displaystyle S^2 = \\frac{RSS( \\hat{\\beta} )}{ n - r } = \\frac{(Y - X^T \\hat{\\beta})^T (Y - X^T \\hat{\\beta})}{48} \\approx 18.325$\n",
    "\n"
   ]
  },
  {
   "cell_type": "code",
   "execution_count": 667,
   "metadata": {},
   "outputs": [
    {
     "name": "stdout",
     "output_type": "stream",
     "text": [
      "ранг матрицы = 2\n",
      "Несмещённая оценка дисперсии = 18.324687324568167\n"
     ]
    }
   ],
   "source": [
    "var = np.linalg.norm((Y_matrix - X_matrix.T * Beta_matrix).T*(Y_matrix - X_matrix.T * Beta_matrix)) /(len(x) - np.linalg.matrix_rank(X_matrix))\n",
    "print(\"ранг матрицы =\",np.linalg.matrix_rank(X_matrix))\n",
    "print(\"Несмещённая оценка дисперсии =\", var)"
   ]
  },
  {
   "cell_type": "code",
   "execution_count": 668,
   "metadata": {},
   "outputs": [
    {
     "name": "stdout",
     "output_type": "stream",
     "text": [
      "-7.756761258482418\n",
      "9.095471930906845\n"
     ]
    },
    {
     "data": {
      "image/png": "[encoded data removed]",
      "text/plain": [
       "<Figure size 640x480 with 1 Axes>"
      ]
     },
     "metadata": {},
     "output_type": "display_data"
    }
   ],
   "source": [
    "mistakes = Y_matrix - X_matrix.T * Beta_matrix\n",
    "mean_mistakes = 0\n",
    "std_mistakes = np.sqrt(var)\n",
    "mistakes = Y_matrix - X_matrix.T * Beta_matrix\n",
    "min_mistake_scalar = float(np.min(mistakes))\n",
    "max_mistake_scalar = float(np.max(mistakes))\n",
    "h = 2.2 \n",
    "plt.title(\"Гистограмма ошибок\")\n",
    "plt.xlabel('x', fontsize=12)\n",
    "plt.ylabel('H(x)', fontsize=12)\n",
    "min_mistake_scalar = float(np.min(mistakes))\n",
    "max_mistake_scalar = float(np.max(mistakes))\n",
    "\n",
    "print(min_mistake_scalar)\n",
    "\n",
    "print(max_mistake_scalar)\n",
    "\n",
    "\n",
    "counts, bins = np.histogram(mistakes, bins=[i / 100 for i in range((int(min_mistake_scalar)*100)-30, (int(max_mistake_scalar)*100)+300, int(h*100))])\n",
    "plt.hist(bins[:-1], edgecolor='black', weights=counts, bins=bins, color='purple')\n",
    "plt.show()"
   ]
  },
  {
   "cell_type": "markdown",
   "metadata": {},
   "source": [
    "**Оценю соответсвует ли распределение ошибок нормальному распределению**\n",
    "\n",
    "При $ a_0 = 0 $ ; $ \\ S^2  = 18.325$; $ \\alpha_1 = 0.05 $\n",
    "\n",
    "$I_{1}=\\left(-\\infty, -5.55 \\right], n_{1}=6$  $\\quad\\quad\\quad\\quad\\quad\\quad\\quad\\quad\\quad$ $I_{5}=\\left(1.05, 3.25\\right], n_{5}=6$\n",
    "\n",
    "$P_{1}=0.097$  $\\quad\\quad\\quad\\quad\\quad\\quad\\quad\\quad\\quad\\quad\\quad\\quad\\quad\\quad\\quad\\quad\\quad\\quad$ $P_{5}=0.18$  \n",
    "\n",
    "$I_{2}=\\left(-5.55, -3.35 \\right], n_{2}=3$ $\\quad\\quad\\quad\\quad\\quad\\quad\\quad\\quad$ $I_{6}=\\left(3.25, 5.45\\right], n_{6}=5$  \n",
    "\n",
    "$P_{2}=0.12$   $\\quad\\quad\\quad\\quad\\quad\\quad\\quad\\quad\\quad\\quad\\quad\\quad\\quad\\quad\\quad\\quad\\quad\\quad$ $P_{6}=0.12$  \n",
    "\n",
    "$I_{3}=\\left(-3.35,-1.15 \\right], n_{3}=14$  $\\quad\\quad\\quad\\quad\\quad\\quad\\quad\\quad$ $I_{7}=\\left(5.45, 7.65\\right], n_{7}=2$  \n",
    "\n",
    "$P_{3}=0.17$  $\\quad\\quad\\quad\\quad\\quad\\quad\\quad\\quad\\quad\\quad\\quad\\quad\\quad\\quad\\quad\\quad\\quad\\quad$ $P_{7}=0.06$  \n",
    "\n",
    "$I_{4}=\\left(-1.15,1.05 \\right], n_{4}=10$  $\\quad\\quad\\quad\\quad\\quad\\quad\\quad\\quad$ $I_{8}=\\left(7.65, +\\infty\\right], n_{8}=3$ \n",
    "\n",
    "$P_{4}=0.2$  $\\quad\\quad\\quad\\quad\\quad\\quad\\quad\\quad\\quad\\quad\\quad\\quad\\quad\\quad\\quad\\quad\\quad\\quad$  $P_{8}=0.04$  \n",
    "\n",
    "\n",
    " **Вычисление статистики критерия $\\chi^2$:**\n",
    "\n",
    "   $\\chi^2 = \\sum \\limits_{i=1}^7 \\large \\frac{\\left(n_i - n\\mathbb{P}_i\\right)^2}{n\\mathbb{P}_i}  \\normalsize = 7.1$\n",
    "\n",
    "   **Сравнение с критическим значением:**\n",
    "   - Из таблицы для распределения $\\chi^2$ с 7 степенями свободы при уровне значимости $\\alpha = 0.05$ значение критерия составляет $\\chi_{7, 0.95}^2 \\approx 15.51$.\n",
    "   - Так как $\\chi_{7, 0.95}^2 > \\chi^2 $, то нет оснований отвергнуть гипотезу.\n",
    "\n",
    "   Наибольшее значение уровня значимости равняется $0.419$\n",
    "\n",
    "\n"
   ]
  },
  {
   "cell_type": "code",
   "execution_count": 669,
   "metadata": {},
   "outputs": [
    {
     "name": "stdout",
     "output_type": "stream",
     "text": [
      "[0.09740052, 0.11953755, 0.17716318, 0.20278087, 0.17925605, 0.12237871, 0.06452056, 0.03696256]\n",
      "[4.870026, 5.9768775, 8.858159, 10.1390435, 8.9628025, 6.1189355, 3.226028, 1.848128]\n",
      "[0.26218366, 1.48268049, 2.98465278, 0.0019068, 0.97940333, 0.20461347, 0.46594284, 0.71792057] 7.09930394\n",
      "chi2_val 15.507313055865453\n",
      "Наибольшее значение уровня значимости = 0.419\n"
     ]
    }
   ],
   "source": [
    "\n",
    "from re import match\n",
    "from math import inf\n",
    "\n",
    "I = [(-inf, -5.55), (-5.55,-3.35), (-3.35,-1.15), (-1.15, 1.05),(1.05, 3.25),(3.25, 5.45),(5.45,7.65),(7.65,+inf)]\n",
    "a0=0\n",
    "sigma0= 18.325\n",
    "n=len(y)\n",
    "alpha = 0.05\n",
    "n_i = [6,3,14,10,6,5,2,3];p_i = [];np_i = [];n_i_np_i = [];res = []\n",
    "for i in I:\n",
    " p_i.append(round(sc.norm.cdf(i[1], loc=a0,scale=std_mistakes) - sc.norm.cdf(i[0], loc=a0,scale=std_mistakes), 8))\n",
    "print(p_i)\n",
    "for i in range (8):\n",
    " np_i.append(round(n*p_i[i],8))\n",
    "print(np_i)\n",
    "for i in range(8):\n",
    " n_i_np_i.append(round(n_i[i] - np_i[i], 8))\n",
    "for i in range(8):\n",
    " res.append(round((n_i_np_i[i] ** 2) / np_i[i] , 8))\n",
    "print(res, sum(res))\n",
    "chi2_val_5_09 = chi2.ppf(1-alpha, 8)\n",
    "print('chi2_val',chi2_val_5_09)\n",
    "chi2 = 7.1\n",
    "print(\"Наибольшее значение уровня значимости =\", round(1 - sps.chi2.cdf(chi2, 7), 3))"
   ]
  },
  {
   "cell_type": "code",
   "execution_count": 670,
   "metadata": {},
   "outputs": [
    {
     "name": "stdout",
     "output_type": "stream",
     "text": [
      "Статистика критерия Колмогорова Dn: 0.07346711580350374\n",
      "x_alpha 0.16959440647022855\n",
      "Наибольшее значение уровня значимости = 0.5560267223825145\n"
     ]
    }
   ],
   "source": [
    "Dn =sps.kstest([element[0,0] for element in mistakes], \"norm\", args = (mean_mistakes,std_mistakes)).statistic\n",
    "print(\"Статистика критерия Колмогорова Dn:\", Dn)\n",
    "x_a = sps.ksone.ppf(0.95, 50)\n",
    "print(\"x_alpha\",x_a)\n",
    "\n",
    "\n",
    "print(\"Наибольшее значение уровня значимости =\", 1 - sps.ksone.cdf(Dn, 50))"
   ]
  },
  {
   "cell_type": "markdown",
   "metadata": {},
   "source": [
    "Критерий Колмогорова\\\n",
    "$\\widehat{\\varphi(\\vec{X})} = \\begin{cases} 0, \\quad \\widehat{D_n} \\leq 0.17 \\\\ 1, \\quad \\widehat{D_n} > 0.17 \\end{cases}$\n",
    "\n",
    "\n",
    "Т.к. $\\widehat{D_n} < x_\\alpha$, гипотеза  принимается.\n",
    "\n",
    "   Наибольшее значение уровня значимости, при котором ещё нет оснований отвергнуть данную гипотезу, равняется $0.540$\n"
   ]
  },
  {
   "cell_type": "code",
   "execution_count": 671,
   "metadata": {},
   "outputs": [
    {
     "name": "stderr",
     "output_type": "stream",
     "text": [
      "C:\\Users\\User\\AppData\\Local\\Temp\\ipykernel_3436\\894016379.py:5: DeprecationWarning: Conversion of an array with ndim > 0 to a scalar is deprecated, and will error in future. Ensure you extract a single element from your array before performing this operation. (Deprecated NumPy 1.25.)\n",
      "  mistakes_range = np.arange(min(mistakes), max(mistakes) + 1, 0.05)\n"
     ]
    },
    {
     "data": {
      "image/png": "[encoded data removed]",
      "text/plain": [
       "<Figure size 640x480 with 1 Axes>"
      ]
     },
     "metadata": {},
     "output_type": "display_data"
    }
   ],
   "source": [
    "mistakes = Y_matrix - X_matrix.T * Beta_matrix\n",
    "fig, ax = plt.subplots()\n",
    "counts, bins = np.histogram(mistakes, bins=[i / 100 for i in range((int(min_mistake_scalar)*100)-30, (int(max_mistake_scalar)*100)+300, int(h*100))])\n",
    "plt.hist(bins[:-1], edgecolor='black', weights=counts, bins=bins, color='purple', density= True)\n",
    "mistakes_range = np.arange(min(mistakes), max(mistakes) + 1, 0.05)\n",
    "\n",
    "\n",
    "plt.plot(mistakes_range, sps.norm.pdf(mistakes_range, mean_mistakes, std_mistakes))\n",
    "ax.set_title(\"Сравнение гистограммы и функции плотности нормального распределения\")\n",
    "plt.show()"
   ]
  },
  {
   "cell_type": "markdown",
   "metadata": {},
   "source": [
    "Анализируя получившийся график, можно сказать, что в среднем расстояние между рассматриваемыми функциями распределения достаточно мало, но визуальная оценка может быть недостаточной для однозначного заключения о нормальности данных."
   ]
  },
  {
   "cell_type": "markdown",
   "metadata": {},
   "source": [
    "### 3.В предположении нормальности ошибок построить доверительный интервал для параметров $\\beta_0,\\beta_1$ уровня доверия $1-\\alpha$.Построить доверительный эллипс уровня доверия $1-\\alpha$ для ($\\beta_0,\\beta_1$) (вычислить его полуоси)."
   ]
  },
  {
   "cell_type": "markdown",
   "metadata": {},
   "source": [
    "ДНО функция: $\\psi = C^T \\beta $\n",
    "\n",
    "Элемент дисперсии оценки: $ b_\\psi = C^T (XX^T)^{-1}C$\n",
    "\n",
    "Тогда: $ \\cfrac{\\widehat \\psi - \\psi}{s\\sqrt{b}} \\sim S_{n-r} $\n",
    "\n",
    "Доверительный интервал уровня доверия $1 - \\alpha$:\n",
    "\n",
    "$ P_\\theta(-x_\\alpha \\le \\cfrac{\\widehat \\psi - \\psi}{s\\sqrt{b}} \\le x_\\alpha) = 1 -\\alpha $, \n",
    "\n",
    "\n",
    "$[ \\widehat \\psi -x_{\\alpha}s\\sqrt{b} , \\widehat \\psi + x_{\\alpha}s\\sqrt{b}] \\ni \\psi$ \n",
    "\n",
    "где квантиль $ x_\\alpha : S_{n-r}(x_\\alpha) = 1 -\\frac{\\alpha}{2} $\n",
    "\n",
    "$x_{\\alpha} = S_{n - 2}(1 - \\frac{\\alpha}{2}) = 2.01$\n",
    "\n",
    "\n",
    "- **Вычислим $\\beta_0:$** \n",
    "\n",
    "  $\\psi_{\\beta_0} = \\begin{pmatrix}\n",
    "    1 \\\\\n",
    "    0\n",
    "    \\end{pmatrix}  ^ {\\intercal} \\cdot  \\begin{pmatrix}\n",
    "    \\beta_0 \\\\\n",
    "    \\beta_1\n",
    "    \\end{pmatrix}$\n",
    "\n",
    "    $b_{\\psi_{\\beta_0}} =  \\begin{pmatrix}\n",
    "    1 & 0\n",
    "    \\end{pmatrix} (XX^{\\intercal})^{-1} \\begin{pmatrix}\n",
    "    1 \\\\ 0\n",
    "    \\end{pmatrix} = 0.050$\n",
    "\n",
    "    \n",
    "  \n",
    "- **Вычислим $\\beta_1:$**\n",
    "\n",
    "  $\\psi_{\\beta_1} = \\begin{pmatrix}\n",
    "    0 \\\\\n",
    "    1\n",
    "    \\end{pmatrix}  ^ {\\intercal} \\cdot  \\begin{pmatrix}\n",
    "    \\beta_0 \\\\\n",
    "    \\beta_1\n",
    "    \\end{pmatrix}$\n",
    "  \n",
    "    $b_{\\psi_{\\beta_1}} =  \\begin{pmatrix}\n",
    "    0 & 1\n",
    "    \\end{pmatrix} (XX^{\\intercal})^{-1} \\begin{pmatrix}\n",
    "    0 \\\\ 1\n",
    "    \\end{pmatrix} = 0.008$\n",
    "\n",
    "\n",
    "$ \\cfrac{\\widehat \\psi - \\psi}{s\\sqrt{b_{\\psi_{\\beta_0}}}} \\sim S_{n-2} $\n",
    "\n",
    "$ \\cfrac{\\widehat \\psi - \\psi}{s\\sqrt{b_{\\psi_{\\beta_1}}}} \\sim S_{n-2} $\n",
    "\n",
    "\n"
   ]
  },
  {
   "cell_type": "code",
   "execution_count": 672,
   "metadata": {},
   "outputs": [
    {
     "name": "stdout",
     "output_type": "stream",
     "text": [
      "x_alpha: 2.0106\n",
      "[[0.0484269]]\n",
      "[[0.00771129]]\n",
      "Интервал для b1 ( [[4.48046345]] [[8.26859269]] )\n",
      "Интервал для b2 ( [[-0.31525577]] [[1.19637236]] )\n"
     ]
    }
   ],
   "source": [
    "from scipy import stats\n",
    "import scipy\n",
    "\n",
    "r = np.linalg.matrix_rank(X_matrix)\n",
    "n = len(x)\n",
    "alpha = 0.05\n",
    "func = stats.t(n - 2)\n",
    "x_alpha = func.ppf(1 - alpha/2)\n",
    "print(f'x_alpha: {round(x_alpha, 4)}')\n",
    "e =  np.array([1, 0]).reshape((2, 1))\n",
    "e1 = np.array([1,0])\n",
    "e2 = np.array([0,1])\n",
    "e3 =  np.array([0, 1]).reshape((2, 1))\n",
    "\n",
    "\n",
    "b1 = e1 * XX_T_inv * e\n",
    "b2 = e2 *XX_T_inv*e3\n",
    "print(b1)\n",
    "print(b2)\n",
    "\n",
    "\n",
    "left = beta_0 - x_alpha * np.sqrt(var) * np.sqrt(b1)\n",
    "right = beta_0 + x_alpha * np.sqrt(var) * np.sqrt(b1)\n",
    "print(\"Интервал для b1 (\",left,right,\")\")\n",
    "\n",
    "left = beta_1 - x_alpha * np.sqrt(var) * np.sqrt(b2)\n",
    "right = beta_1 + x_alpha * np.sqrt(var) * np.sqrt(b2)\n",
    "print(\"Интервал для b2 (\",left,right,\")\")"
   ]
  },
  {
   "cell_type": "markdown",
   "metadata": {},
   "source": [
    "$\\left[4.48, 8.27\\right] \\ni \\beta_0$\n",
    "\n",
    "$\\left[-0.32, 1.20\\right] \\ni \\beta_1$"
   ]
  },
  {
   "cell_type": "markdown",
   "metadata": {},
   "source": [
    "**Построим доверительный эллипс для параметра $(\\beta_0, \\beta_1)$ уровня доверия 1 - $\\alpha$**\n",
    "\n",
    "$ A_\\alpha = \\{\\overrightarrow{x}: (\\overrightarrow{x} - \\widehat \\psi)^T B^{-1} (\\overrightarrow{x} - \\widehat \\psi) \\le qs^2x_\\alpha\\}$\n",
    "\n",
    "$ A_\\alpha = \\{\\overrightarrow{x}: (\\overrightarrow{x} - \\widehat \\psi)^T (C^T (XX^T)^{-1}C)^{-1}(\\overrightarrow{x} - \\widehat \\psi) \\le qs^2x_\\alpha\\}$,\n",
    "\n",
    "где $ x_\\alpha = F_{q, n-r}(x_\\alpha) = 1 - \\alpha$"
   ]
  },
  {
   "cell_type": "code",
   "execution_count": 673,
   "metadata": {},
   "outputs": [
    {
     "name": "stdout",
     "output_type": "stream",
     "text": [
      "x_a = 3.191\n"
     ]
    }
   ],
   "source": [
    "fx = 0.95\n",
    "x_a = sps.f.ppf(fx, 2, 48)\n",
    "print(\"x_a =\", round(x_a, 3))"
   ]
  },
  {
   "cell_type": "code",
   "execution_count": 674,
   "metadata": {},
   "outputs": [],
   "source": [
    "\n",
    " b0_val = []\n",
    "b1_val = []\n",
    "\n",
    "for b0 in np.arange(0, 10, 0.05):\n",
    "    for b1 in np.arange(-2, 5, 0.05):\n",
    "        x = np.array([b0, b1])\n",
    "        psi = np.array([6.375, 0.441])\n",
    "        X = np.array( [0, 0, 4, 4, 0, 1, 0, 4, 0, 4, 0, 3, 4, 3, 2, 2, 1, 3, 2, 2, 4, 0, 4, 4, 0,\n",
    "        1, 2, 4, 0, 3, 0, 0, 2, 1, 4, 4, 4, 4, 0, 3, 1, 1, 3, 0, 3, 0, 0, 3, 0, 2])\n",
    "        q = 2\n",
    "        S2 = 18.325\n",
    "        x_a = 3.2\n",
    "        \n",
    "        x_psi = x - psi\n",
    "        XXT = np.dot(X, np.transpose(X))\n",
    "        \n",
    "        if np.dot(np.dot(np.transpose(x_psi), XXT), x_psi) <= q * S2 * x_a:\n",
    "            b0_val.append(round(b0, 3))\n",
    "            b1_val.append(round(b1, 3))\n"
   ]
  },
  {
   "cell_type": "code",
   "execution_count": 675,
   "metadata": {},
   "outputs": [
    {
     "data": {
      "image/png": "[encoded data removed]",
      "text/plain": [
       "<Figure size 640x480 with 1 Axes>"
      ]
     },
     "metadata": {},
     "output_type": "display_data"
    }
   ],
   "source": [
    "import matplotlib.pyplot as plt\n",
    "import numpy as np\n",
    "from matplotlib.patches import Ellipse\n",
    "\n",
    "\n",
    "\n",
    "b0_interval = [4.48,8.27]\n",
    "b1_interval = [-0.32,1.20]\n",
    "\n",
    "\n",
    "b0_mean = (b0_interval[0] + b0_interval[1]) / 2\n",
    "b1_mean = (b1_interval[0] + b1_interval[1]) / 2\n",
    "\n",
    "\n",
    "b0_std = (b0_interval[1] - b0_interval[0]) / 2\n",
    "b1_std = (b1_interval[1] - b1_interval[0]) / 2\n",
    "\n",
    "\n",
    "angle = np.degrees(np.arctan2(b1_interval[1] - b1_interval[0], b0_interval[1] - b0_interval[0]))\n",
    "\n",
    "\n",
    "fig, ax = plt.subplots()\n",
    "\n",
    "\n",
    "ax.scatter(b0_val, b1_val, marker=',', color='purple')\n",
    "\n",
    "\n",
    "ellipse = Ellipse((b0_mean, b1_mean), width=b0_std * 2, height=b1_std * 2, angle=angle,\n",
    "edgecolor='blue', fc='None', lw=2)\n",
    "\n",
    "\n",
    "ax.add_patch(ellipse)\n",
    "\n",
    "\n",
    "plt.title('Доверительный эллипс')\n",
    "plt.xlabel('b0', fontsize=12)\n",
    "plt.ylabel('b1', fontsize=12)\n",
    "\n",
    "plt.show()"
   ]
  },
  {
   "cell_type": "markdown",
   "metadata": {},
   "source": [
    "**Вычислю полуоси эллипса**\n",
    "\n",
    "$C = \\begin{pmatrix}\n",
    "1 & 0\\\\\n",
    "0 & 1\n",
    "\\end{pmatrix} $\n",
    "\n",
    "Пусть $ \\begin{pmatrix}\n",
    "x\\\\\n",
    "y\n",
    "\\end{pmatrix} = P(\\widehat \\psi - \\psi)$, где P - матрица собственных векторов.\n",
    "\n",
    "Тогда уравнение доверительного эллипсоида выглядит таким образом:\n",
    "\n",
    "$(\\widehat \\psi - \\psi)^T (C^T (XX^T)^{-1}C)^{-1}(\\widehat \\psi - \\psi) = \\lambda_1 x^2 + \\lambda_2 y^2 \\le qs^2x_\\alpha$, где $\\lambda_1$ и $\\lambda_2$ - собственные числа матрицы $XX^T$\n",
    "\n",
    "$\\cfrac{\\lambda_1}{qs^2x_\\alpha}x^2 + \\cfrac{\\lambda_2}{qs^2x_\\alpha}y^2 \\le 1$\n",
    "\n",
    "\n",
    "Большая полуось\\\n",
    "$ a = 2.50$\n",
    "\\\n",
    "Малая полуось\\\n",
    "$ b = 0.58 $"
   ]
  },
  {
   "cell_type": "code",
   "execution_count": 676,
   "metadata": {},
   "outputs": [
    {
     "name": "stdout",
     "output_type": "stream",
     "text": [
      "x_alpha: 3.1907\n",
      "Большая полуось: 2.4952\n",
      "Малая полуось: 0.582\n"
     ]
    }
   ],
   "source": [
    "XX_T = np.dot(X_matrix, X_matrix.T)\n",
    "eigenvalues, eigenvectors = np.linalg.eig(XX_T)\n",
    "\n",
    "\n",
    "\n",
    "func = stats.f(2, n - 2)\n",
    "x_alpha = func.ppf(1 - alpha)\n",
    "print(f'x_alpha: {round(x_alpha, 4)}')\n",
    "\n",
    "a = np.sqrt((2 * var * x_alpha) / eigenvalues[0])\n",
    "b = np.sqrt((2 * var * x_alpha) / eigenvalues[1])\n",
    "\n",
    "print(f'Большая полуось: {round(a, 4)}')\n",
    "print(f'Малая полуось: {round(b, 4)}')"
   ]
  },
  {
   "cell_type": "markdown",
   "metadata": {},
   "source": [
    "### 4.Сформулировать гипотезу независимости переменной Y от переменной X. Провести проверку значимости."
   ]
  },
  {
   "cell_type": "markdown",
   "metadata": {},
   "source": [
    "Основная гипотеза: $H_0 : \\psi = 0$\n",
    "\n",
    "ДНО функция: \n",
    "$\\psi = C^T \\beta $\n",
    "\n",
    "$ C = \\begin{pmatrix}\n",
    "    0 \\\\\n",
    "    1\n",
    "\\end{pmatrix} \\Rightarrow$, $\\widehat \\psi = \\widehat \\beta_1 $"
   ]
  },
  {
   "cell_type": "code",
   "execution_count": 677,
   "metadata": {},
   "outputs": [
    {
     "name": "stdout",
     "output_type": "stream",
     "text": [
      "Статистика F =  [[1.37354597]]\n",
      "x_alpha =  4.042652128566653\n",
      "p_value 0.216\n"
     ]
    }
   ],
   "source": [
    "c = np.array([0, 1])\n",
    "b = np.dot(np.dot(c.T, XX_T_inv), c)\n",
    "q = 1\n",
    "r = 2\n",
    "F = beta_1**2 / (  b*var)\n",
    "print(\"Статистика F = \" , F)\n",
    "\n",
    "x_alpha = stats.f(q, 48).ppf(1 - alpha)\n",
    "print(\"x_alpha = \" , x_alpha)\n",
    "F = 1.57\n",
    "print(\"p_value\", round(1 - sps.f.cdf(F, 1, 48), 3))"
   ]
  },
  {
   "cell_type": "markdown",
   "metadata": {},
   "source": [
    "$\\mathbb{F} \\approx 1.37$\n",
    "\n",
    "$x_{\\alpha} \\approx 4.05$\n",
    "\n",
    "$\\mathbb{F} < x_{\\alpha_2} $  , а значит нет оснований отвергнуть гипотезу"
   ]
  },
  {
   "cell_type": "markdown",
   "metadata": {},
   "source": [
    "### 5.Сформулировать модель включающую доплнительный член с $X^2$.Построить МНК оценки параметров $\\beta_0,\\beta_1,\\beta_2$ в данной модели. Изобразить графически полученную регрессионную модель.\n",
    "\n",
    "Линейная регрессионная модель:\n",
    "\n",
    "$\\mathbb{E}_{\\theta}(Y|z) = x(z)^{\\intercal}\\beta$\n",
    "\n",
    "\n",
    "\n",
    "Альтернативная форма записи модели линейной регрессии\n",
    "\n",
    "$ Y = X^T \\beta + e  \\quad \\mathbb{E}_\\theta +\\varepsilon = 0 \\quad Var_\\theta e = \\sigma^2 E$\n",
    "\n",
    "Система нормальных уравнений:\n",
    "\n",
    "$ X X^T \\beta = X Y $\n",
    "\n",
    "Решение системы нормальных уравнений в регулярном случае:\n",
    "\n",
    "$ \\hat{\\beta} = (X X^T)^{-1} XY $"
   ]
  },
  {
   "cell_type": "code",
   "execution_count": 678,
   "metadata": {},
   "outputs": [
    {
     "name": "stdout",
     "output_type": "stream",
     "text": [
      "Определитель матрицы  =  901031.9999999976\n",
      "[[ 0.05928313 -0.04937006  0.00883875]\n",
      " [-0.04937006  0.1177583  -0.02814106]\n",
      " [ 0.00883875 -0.02814106  0.00719619]]\n",
      "b0: 6.52\n",
      "b1: -0.021\n",
      "b2: 0.118\n"
     ]
    }
   ],
   "source": [
    "y = np.array( [4.03, 8.77, 6.21, 7.15, 2.27, 2.15, 15.47,9.59, 14.94, 2.08, 5.19,14.96, 3.48, 1.80, 4.40, \n",
    "14.98, 0.65, 7.57, 6.23, 6.20, 7.88, 10.26, 7.33, 13.21, 4.49, 8.63, 11.26, 11.50, 6.41, 4.86, 6.46, 0.42, 8.48,\n",
    " 8.33, 0.38, 5.64, 16.66, 13.00, 5.38, 5.76, 7.10, 0.48, 10.29, 8.28, 9.15, 6.57, 7.25, 12.58, 3.61, 1.25])\n",
    "\n",
    "x = np.array( [0, 0, 4, 4, 0, 1, 0, 4, 0, 4, 0, 3, 4, 3, 2, 2, 1, 3, 2, 2, 4, 0, 4, 4, 0,\n",
    "        1, 2, 4, 0, 3, 0, 0, 2, 1, 4, 4, 4, 4, 0, 3, 1, 1, 3, 0, 3, 0, 0, 3, 0, 2])\n",
    "\n",
    "Y_matrix = np.matrix(y).T\n",
    "X_matrix = np.matrix([[1] * len(x), x, [i**2 for i in x]])\n",
    "print(\"Определитель матрицы  = \", np.linalg.det(X_matrix * X_matrix.T))\n",
    "Beta_matrix = np.linalg.inv(X_matrix * X_matrix.T) * X_matrix * Y_matrix\n",
    "beta_0 = float(Beta_matrix[0, 0])\n",
    "beta_1 = float(Beta_matrix[1, 0])\n",
    "beta_2 = float(Beta_matrix[2, 0])\n",
    "XX_T_inv = np.linalg.inv(X_matrix * X_matrix.T)\n",
    "print(XX_T_inv)\n",
    "print(\"b0:\", round(beta_0, 3) )\n",
    "print(\"b1:\", round(beta_1, 3))\n",
    "print(\"b2:\", round(beta_2, 3))"
   ]
  },
  {
   "cell_type": "markdown",
   "metadata": {},
   "source": [
    "МНК-оценки параметров\n",
    "$ \\hat{\\beta} = \\left( \\begin{array}{c} \\hat\\beta_0 \\\\ \\hat\\beta_1 \\\\ \\hat\\beta_2 \\end{array} \\right) = \\left( \\begin{array}{c} 6.52 \\\\ -0.021 \\\\ 0.118\\end{array} \\right) $"
   ]
  },
  {
   "cell_type": "code",
   "execution_count": 679,
   "metadata": {},
   "outputs": [
    {
     "data": {
      "image/png": "[encoded data removed]",
      "text/plain": [
       "<Figure size 640x480 with 1 Axes>"
      ]
     },
     "metadata": {},
     "output_type": "display_data"
    }
   ],
   "source": [
    "y =  [4.03, 8.77, 6.21, 7.15, 2.27, 2.15, 15.47,9.59, 14.94, 2.08, 5.19,14.96, 3.48, 1.80, 4.40, \n",
    "14.98, 0.65, 7.57, 6.23, 6.20, 7.88, 10.26, 7.33, 13.21, 4.49, 8.63, 11.26, 11.50, 6.41, 4.86, 6.46, 0.42, 8.48,\n",
    " 8.33, 0.38, 5.64, 16.66, 13.00, 5.38, 5.76, 7.10, 0.48, 10.29, 8.28, 9.15, 6.57, 7.25, 12.58, 3.61, 1.25]\n",
    "\n",
    "x =  [0, 0, 4, 4, 0, 1, 0, 4, 0, 4, 0, 3, 4, 3, 2, 2, 1, 3, 2, 2, 4, 0, 4, 4, 0,\n",
    " 1, 2, 4, 0, 3, 0, 0, 2, 1, 4, 4, 4, 4, 0, 3, 1, 1, 3, 0, 3, 0, 0, 3, 0, 2]\n",
    "\n",
    "b = [beta_0, beta_1, beta_2]\n",
    "plt.title('Линия регрессии и исходные данные')\n",
    "plt.xlabel('x', fontsize=12)\n",
    "plt.ylabel('y', fontsize=12)\n",
    "plt.scatter(x, y, color='purple', edgecolors='black', linewidths=0.5)\n",
    "\n",
    "X_val = np.array(sorted(x))\n",
    "X = np.array([[1] * 50, X_val, X_val**2])\n",
    "\n",
    "plt.plot(X_val, np.dot(np.transpose(X), b), 'r')\n",
    "plt.show()"
   ]
  },
  {
   "cell_type": "markdown",
   "metadata": {},
   "source": [
    "### 6.Построить несмещенную оценку дисперсии. Провести исследование нормальности ошибок как в пункте 2."
   ]
  },
  {
   "cell_type": "markdown",
   "metadata": {},
   "source": [
    "Несмещённая оценка дисперсии:\n",
    "\n",
    "$ \\displaystyle S^2 = \\frac{RSS( \\hat{\\beta} )}{ n - r } = \\frac{(Y - X^T \\hat{\\beta})^T (Y - X^T \\hat{\\beta})}{47} \\approx 18.67$\n",
    "\n"
   ]
  },
  {
   "cell_type": "code",
   "execution_count": 680,
   "metadata": {},
   "outputs": [
    {
     "name": "stdout",
     "output_type": "stream",
     "text": [
      "ранг матрицы = 3\n",
      "Несмещённая оценка дисперсии = 18.673351113862253\n"
     ]
    }
   ],
   "source": [
    "var = np.linalg.norm((Y_matrix - X_matrix.T * Beta_matrix).T*(Y_matrix - X_matrix.T * Beta_matrix)) /(len(x) - np.linalg.matrix_rank(X_matrix))\n",
    "print(\"ранг матрицы =\",np.linalg.matrix_rank(X_matrix))\n",
    "print(\"Несмещённая оценка дисперсии =\", var)"
   ]
  },
  {
   "cell_type": "code",
   "execution_count": 681,
   "metadata": {},
   "outputs": [
    {
     "name": "stdout",
     "output_type": "stream",
     "text": [
      "[[-7.9440407]] [[8.95044145]]\n"
     ]
    },
    {
     "name": "stderr",
     "output_type": "stream",
     "text": [
      "C:\\Users\\User\\AppData\\Local\\Temp\\ipykernel_3436\\2635167241.py:7: DeprecationWarning: Conversion of an array with ndim > 0 to a scalar is deprecated, and will error in future. Ensure you extract a single element from your array before performing this operation. (Deprecated NumPy 1.25.)\n",
      "  plt.hist(mistakes, bins=np.arange(min(mistakes), max(mistakes) + h, h), edgecolor='black',color = \"purple\")\n"
     ]
    },
    {
     "data": {
      "image/png": "[encoded data removed]",
      "text/plain": [
       "<Figure size 640x480 with 1 Axes>"
      ]
     },
     "metadata": {},
     "output_type": "display_data"
    }
   ],
   "source": [
    "mistakes = Y_matrix - X_matrix.T * Beta_matrix\n",
    "mean_mistakes = 0\n",
    "std_mistakes = np.sqrt(var)\n",
    "mistakes = Y_matrix - X_matrix.T * Beta_matrix\n",
    "\n",
    "h = 2.20\n",
    "plt.hist(mistakes, bins=np.arange(min(mistakes), max(mistakes) + h, h), edgecolor='black',color = \"purple\")\n",
    "print(min(mistakes), max(mistakes))\n",
    "plt.xlabel('X')\n",
    "plt.ylabel('H(X)')\n",
    "plt.title(\"Гистограмма ошибок \")\n",
    "plt.show()\n",
    "\n"
   ]
  },
  {
   "cell_type": "markdown",
   "metadata": {},
   "source": [
    "**Оценю соответсвует ли распределение ошибок нормальному распределению**\n",
    "\n",
    "При $ a_0 = 0 $ и $ \\ S^2 = 18.67$ и $ \\alpha_1 = 0.05 $\n",
    "\n",
    "$I_{1}=\\left(-\\infty, -5.7 \\right], n_{1}=5$  $\\quad\\quad\\quad\\quad\\quad\\quad\\quad\\quad\\quad$ $I_{5}=\\left(0.9, 3.1\\right], n_{5}=8$\n",
    "\n",
    "$P_{1}=0.09$  $\\quad\\quad\\quad\\quad\\quad\\quad\\quad\\quad\\quad\\quad\\quad\\quad\\quad\\quad\\quad$  $P_{5}=0.18$  \n",
    "\n",
    "$I_{2}=\\left(-5.7, -3.5 \\right], n_{2}=5$ $\\quad\\quad\\quad\\quad\\quad\\quad\\quad$            $I_{6}=\\left(3.1, 5.3\\right], n_{6}=6$  \n",
    "\n",
    "$P_{2}=0.12$   $\\quad\\quad\\quad\\quad\\quad\\quad\\quad\\quad\\quad\\quad\\quad\\quad\\quad\\quad\\quad$ $P_{6}=0.13$  \n",
    "\n",
    "$I_{3}=\\left(-3.5,-1.3 \\right], n_{3}=8$  $\\quad\\quad\\quad\\quad\\quad\\quad\\quad\\quad\\quad$ $I_{7}=\\left(5.3, +\\infty\\right], n_{5}=5$\n",
    "\n",
    "\n",
    "$P_{3}=0.17$   $\\quad\\quad\\quad\\quad\\quad\\quad\\quad\\quad\\quad\\quad\\quad\\quad\\quad\\quad\\quad$ $P_{7}=0.11$  \n",
    "\n",
    "$I_{4}=\\left(-1.3,0.9 \\right], n_{4}=13$  \n",
    "\n",
    "$P_{4}=0.2$  \n",
    "\n",
    "\n",
    " **Вычисление статистики критерия $\\chi^2$:**\n",
    "\n",
    "   $\\chi^2 = \\sum \\limits_{i=1}^7 \\large \\frac{\\left(n_i - n\\mathbb{P}_i\\right)^2}{n\\mathbb{P}_i}  \\normalsize = 1.23$\n",
    "\n",
    "   **Сравнение с критическим значением:**\n",
    "   - Из таблицы для распределения $\\chi^2$ с 7 степенями свободы при уровне значимости $\\alpha = 0.05$ значение критерия составляет $\\chi_{7, 0.95}^2 \\approx 15.5$.\n",
    "   - Так как $\\chi_{7, 0.95}^2 > \\chi^2 $, то нет оснований отвергать гипотезу\n",
    "   - Наибольшее значение уровня значимости, при котором ещё нет оснований отвергнуть данную гипотезу, равняется $0.985$"
   ]
  },
  {
   "cell_type": "code",
   "execution_count": 682,
   "metadata": {},
   "outputs": [
    {
     "name": "stdout",
     "output_type": "stream",
     "text": [
      "[0.0935552, 0.1154091, 0.1727946, 0.2007402, 0.1809516, 0.1265632, 0.1099861]\n",
      "[4.67776, 5.770455, 8.63973, 10.03701, 9.04758, 6.32816, 5.499305]\n",
      "[0.02219836, 0.102869, 0.0473689, 0.87469373, 0.12129474, 0.01701742, 0.045334] 1.2307761499999998\n",
      "chi2_val 15.507313055865453\n",
      "Наибольшее значение уровня значимости = 0.975\n"
     ]
    }
   ],
   "source": [
    "from re import match\n",
    "from math import inf\n",
    "from scipy.stats import chi2\n",
    "I = [(-inf, -5.7), (-5.7,-3.5), (-3.5,-1.3), (-1.3, 0.9),(0.9, 3.1),(3.1, 5.3),(5.3,+inf)]\n",
    "a0=0\n",
    "sigma0=18.67\n",
    "n=len(y)\n",
    "\n",
    "alpha = 0.05\n",
    "n_i = [5,5,8,13,8,6,5];p_i = [];np_i = [];n_i_np_i = [];res = []\n",
    "for i in I:\n",
    " p_i.append(round(sc.norm.cdf(i[1], loc=a0,scale=sigma0**0.5) - sc.norm.cdf(i[0], loc=a0,scale=sigma0**0.5), 7))\n",
    "print(p_i)\n",
    "for i in range (7):\n",
    " np_i.append(round(n*p_i[i],8))\n",
    "print(np_i)\n",
    "for i in range(7):\n",
    " n_i_np_i.append(round(n_i[i] - np_i[i], 8))\n",
    "for i in range(7):\n",
    " res.append(round((n_i_np_i[i] ** 2) / np_i[i] , 8))\n",
    "print(res, sum(res))\n",
    "chi2_val = chi2.ppf(1-0.01,5)\n",
    "print('chi2_val',chi2_val_5_09)\n",
    "chi2 = 1.23\n",
    "print(\"Наибольшее значение уровня значимости =\", round(1 - sps.chi2.cdf(chi2, 6), 3))"
   ]
  },
  {
   "cell_type": "code",
   "execution_count": 683,
   "metadata": {},
   "outputs": [
    {
     "name": "stdout",
     "output_type": "stream",
     "text": [
      "Статистика критерия Колмогорова Dn: 0.0752626288773739\n",
      "0.16959440647022855\n",
      "Наибольшее значение уровня значимости = 0.5407579231909766\n"
     ]
    }
   ],
   "source": [
    "Dn = sps.kstest([element[0,0] for element in mistakes], \"norm\", args = (mean_mistakes,std_mistakes)).statistic\n",
    "print(\"Статистика критерия Колмогорова Dn:\", Dn)\n",
    "x_a = sps.ksone.ppf(0.95, 50)\n",
    "print(x_a)\n",
    "print(\"Наибольшее значение уровня значимости =\", 1 - sps.ksone.cdf(Dn, 50))"
   ]
  },
  {
   "cell_type": "markdown",
   "metadata": {},
   "source": [
    "Критерий Колмогорова\\\n",
    "$\\widehat{\\varphi(\\vec{X})} = \\begin{cases} 0, \\quad \\widehat{D_n} \\leq 0.17 \\\\ 1, \\quad \\widehat{D_n} > 0.17 \\end{cases}$\n",
    "\n",
    "\n",
    "Т.к. $\\widehat{D_n} < x_\\alpha$, то нет оснований отвергать гипотезу\n",
    "\n",
    "   Наибольшее значение уровня значимости, при котором ещё нет оснований отвергнуть данную гипотезу, равняется $0.540$"
   ]
  },
  {
   "cell_type": "code",
   "execution_count": 684,
   "metadata": {},
   "outputs": [
    {
     "name": "stdout",
     "output_type": "stream",
     "text": [
      "[[-7.9440407]] [[8.95044145]]\n"
     ]
    },
    {
     "name": "stderr",
     "output_type": "stream",
     "text": [
      "C:\\Users\\User\\AppData\\Local\\Temp\\ipykernel_3436\\2362336619.py:2: DeprecationWarning: Conversion of an array with ndim > 0 to a scalar is deprecated, and will error in future. Ensure you extract a single element from your array before performing this operation. (Deprecated NumPy 1.25.)\n",
      "  plt.hist(mistakes, bins=np.arange(min(mistakes), max(mistakes) + h, h), edgecolor='black',color = \"purple\",density= True)\n"
     ]
    },
    {
     "data": {
      "image/png": "[encoded data removed]",
      "text/plain": [
       "<Figure size 640x480 with 1 Axes>"
      ]
     },
     "metadata": {},
     "output_type": "display_data"
    }
   ],
   "source": [
    "\n",
    "plt.plot(mistakes_range, sps.norm.pdf(mistakes_range, mean_mistakes, std_mistakes))\n",
    "plt.hist(mistakes, bins=np.arange(min(mistakes), max(mistakes) + h, h), edgecolor='black',color = \"purple\",density= True)\n",
    "print(min(mistakes), max(mistakes))\n",
    "plt.xlabel('X')\n",
    "plt.ylabel('H(X)')\n",
    "plt.title(\"Сравнение гистограммы и функции плотности нормального распределения\")\n",
    "plt.show()"
   ]
  },
  {
   "cell_type": "markdown",
   "metadata": {},
   "source": [
    "### 7.В предположении нормальности ошибок построить доверительные интервалы для параметров $\\beta_0,\\beta_1,\\beta_2$ уровня доверия $1-\\alpha$. Написать уравнение доверительного эллипсоида уровня доверия $1-\\alpha$."
   ]
  },
  {
   "cell_type": "markdown",
   "metadata": {},
   "source": [
    "ДНО функция: $\\psi = C^T \\beta $\n",
    "\n",
    "Элемент дисперсии оценки: $ b_\\psi = C^T (XX^T)^{-1}C$\n",
    "\n",
    "Тогда: $ \\cfrac{\\widehat \\psi - \\psi}{s\\sqrt{b}} \\sim S_{n-r} $\n",
    "\n",
    "Доверительный интервал уровня доверия $1 - \\alpha$:\n",
    "\n",
    "$ P_\\theta(-x_\\alpha \\le \\cfrac{\\widehat \\psi - \\psi}{s\\sqrt{b}} \\le x_\\alpha) = 1 -\\alpha $\n",
    "\n",
    "\n",
    "$[ \\widehat \\psi -x_{\\alpha}s\\sqrt{b} , \\widehat \\psi + x_{\\alpha}s\\sqrt{b}] \\ni \\psi$ \n",
    "\n",
    "где квантиль $ x_\\alpha : S_{n-r}(x_\\alpha) = 1 -\\frac{\\alpha}{2} $\n",
    "\n",
    "$x_{\\alpha} = S_{n - 3}(1 - \\frac{\\alpha}{2}) = 2.01$\n",
    "\n",
    "- **Вычислим $\\beta_0:$**\n",
    "\n",
    "  $\\psi_{\\beta_0} = \\begin{pmatrix}\n",
    "    1 \\\\\n",
    "    0 \\\\\n",
    "    0\n",
    "    \\end{pmatrix}  ^ {\\intercal} \\cdot  \\begin{pmatrix}\n",
    "    \\beta_0 \\\\\n",
    "    \\beta_1 \\\\\n",
    "    \\beta_2\n",
    "    \\end{pmatrix}$\n",
    "\n",
    "    $b_{\\psi_{\\beta_0}} =  \\begin{pmatrix}\n",
    "    1 & 0 & 0\n",
    "    \\end{pmatrix} (XX^{\\intercal})^{-1} \\begin{pmatrix}\n",
    "    1 \\\\ 0 \\\\ 0\n",
    "    \\end{pmatrix} = 0.06$\n",
    "\n",
    "    \n",
    "  \n",
    "- **Вычислим $\\beta_1:$**\n",
    "\n",
    "  $\\psi_{\\beta_1} = \\begin{pmatrix}\n",
    "    0 \\\\\n",
    "    1 \\\\\n",
    "    0\n",
    "    \\end{pmatrix}  ^ {\\intercal} \\cdot  \\begin{pmatrix}\n",
    "    \\beta_0 \\\\\n",
    "    \\beta_1 \\\\\n",
    "    \\beta_2\n",
    "    \\end{pmatrix}$\n",
    "  \n",
    "    $b_{\\psi_{\\beta_1}} =  \\begin{pmatrix}\n",
    "    0 & 1 & 0\n",
    "    \\end{pmatrix} (XX^{\\intercal})^{-1} \\begin{pmatrix}\n",
    "    0 \\\\ 1 \\\\ 0\n",
    "    \\end{pmatrix} = 0.12$\n",
    "\n",
    "- **Вычислим $\\beta_2:$**\n",
    "\n",
    "  $\\psi_{\\beta_2} = \\begin{pmatrix}\n",
    "    0 \\\\\n",
    "    0 \\\\\n",
    "    1\n",
    "    \\end{pmatrix}  ^ {\\intercal} \\cdot  \\begin{pmatrix}\n",
    "    \\beta_0 \\\\\n",
    "    \\beta_1 \\\\\n",
    "    \\beta_2\n",
    "    \\end{pmatrix}$\n",
    "  \n",
    "    $b_{\\psi_{\\beta_2}} =  \\begin{pmatrix}\n",
    "    0 & 0 & 1\n",
    "    \\end{pmatrix} (XX^{\\intercal})^{-1} \\begin{pmatrix}\n",
    "    0 \\\\ 0 \\\\ 1\n",
    "    \\end{pmatrix} = 0.07$\n",
    "\n",
    "    \n",
    "$ \\cfrac{\\widehat \\psi - \\psi}{s\\sqrt{b_{\\psi_{\\beta_0}}}} \\sim S_{n-3} $\n",
    "\n",
    "$ \\cfrac{\\widehat \\psi - \\psi}{s\\sqrt{b_{\\psi_{\\beta_1}}}} \\sim S_{n-3} $\n",
    "\n",
    "$ \\cfrac{\\widehat \\psi - \\psi}{s\\sqrt{b_{\\psi_{\\beta_2}}}} \\sim S_{n-3} $\n",
    "\n",
    "\n"
   ]
  },
  {
   "cell_type": "code",
   "execution_count": 685,
   "metadata": {},
   "outputs": [
    {
     "name": "stdout",
     "output_type": "stream",
     "text": [
      "x_alpha: 2.0117\n",
      "Интервал для b0 ( [[4.40291042]] [[8.63620668]] )\n",
      "Интервал для b1 ( [[-3.00436961]] [[2.96198222]] )\n",
      "Интервал для b2 ( [[-0.61937468]] [[0.8555318]] )\n",
      "[[0.05928313]] [[0.1177583]] [[0.00719619]]\n"
     ]
    }
   ],
   "source": [
    "alpha = 0.05\n",
    "x_alpha = stats.t(n - 3).ppf(1 - alpha / 2)\n",
    "print(f'x_alpha: {round(x_alpha, 4)}')\n",
    "\n",
    "\n",
    "e0 = np.array([1, 0, 0])\n",
    "e0_1 = np.array([[1], [0], [0]])\n",
    "e1 = np.array([0, 1, 0])\n",
    "e1_1 = np.array([[0], [1], [0]])\n",
    "e2 = np.array([0, 0, 1])\n",
    "e2_1 = np.array([[0], [0], [1]])\n",
    "\n",
    "b1 = e0*XX_T_inv*e0_1\n",
    "b2 = e1*XX_T_inv*e1_1\n",
    "b3 = e2*XX_T_inv*e2_1\n",
    "\n",
    "left = beta_0 - x_alpha * np.sqrt(var) * np.sqrt(b1)\n",
    "right = beta_0 + x_alpha * np.sqrt(var) * np.sqrt(b1)\n",
    "print(\"Интервал для b0 (\",left,right,\")\")\n",
    "\n",
    "left = beta_1 - x_alpha * np.sqrt(var) * np.sqrt(b2)\n",
    "right = beta_1 + x_alpha * np.sqrt(var) * np.sqrt(b2)\n",
    "print(\"Интервал для b1 (\",left,right,\")\")\n",
    "\n",
    "left = beta_2 - x_alpha * np.sqrt(var) * np.sqrt(b3)\n",
    "right = beta_2 + x_alpha * np.sqrt(var) * np.sqrt(b3)\n",
    "print(\"Интервал для b2 (\",left,right,\")\")\n",
    "print(b1,b2,b3)\n",
    "\n"
   ]
  },
  {
   "cell_type": "markdown",
   "metadata": {},
   "source": [
    "$\\left[4.4, 8.64\\right] \\ni \\beta_0$\n",
    "\n",
    "$\\left[-3.004, 2.962\\right] \\ni \\beta_1$\n",
    "\n",
    "$\\left[-0.62, 0.85\\right] \\ni \\beta_2$"
   ]
  },
  {
   "cell_type": "markdown",
   "metadata": {},
   "source": [
    "**Построю доверительный эллипс для параметра $(\\beta_0, \\beta_1)$ уровня доверия 1 - $\\alpha$**\n",
    "\n",
    "$ A_\\alpha = \\{\\overrightarrow{x}: (\\overrightarrow{x} - \\widehat \\psi)^T B^{-1} (\\overrightarrow{x} - \\widehat \\psi) \\le qs^2x_\\alpha\\}$\n",
    "\n",
    "$ A_\\alpha = \\{\\overrightarrow{x}: (\\overrightarrow{x} - \\widehat \\psi)^T (C^T (XX^T)^{-1}C)^{-1}(\\overrightarrow{x} - \\widehat \\psi) \\le qs^2x_\\alpha\\}$,\n",
    "\n",
    "где $ x_\\alpha = F_{q, n-r}(x_\\alpha) = 1 - \\alpha$\n",
    "\n",
    "$C = \\begin{pmatrix}\n",
    "1 & 0 & 0 \\\\\n",
    "0 & 1 & 0 \\\\\n",
    "0 & 0 & 1\n",
    "\\end{pmatrix} $\n",
    "\n",
    "Пусть $ \\begin{pmatrix}\n",
    "x\\\\\n",
    "y\n",
    "\\end{pmatrix} = P(\\widehat \\psi - \\psi)$, где P - матрица собственных векторов.\n",
    "\n",
    "уравнение доверительного эллипсоида :\n",
    "\n",
    "$(\\widehat \\psi - \\psi)^T (C^T (XX^T)^{-1}C)^{-1}(\\widehat \\psi - \\psi) = \\lambda_1 x^2 + \\lambda_2 y^2 + \\lambda_2 z^2 \\le qs^2x_\\alpha$, где $\\lambda_1$, $\\lambda_2$ и $\\lambda_3$ - собственные числа матрицы $XX^T$\n",
    "\n",
    "$\\cfrac{\\lambda_1}{qs^2x_\\alpha}x^2 + \\cfrac{\\lambda_2}{qs^2x_\\alpha}y^2 + \\cfrac{\\lambda_2}{qs^2x_\\alpha}z^2\\le 1$\n",
    "\n",
    "**Уравнение 'эллипса:**\n",
    "\n",
    "$28.2x^2 + 0.2y^2 + 0.042z^2 < 1$"
   ]
  },
  {
   "cell_type": "code",
   "execution_count": 686,
   "metadata": {},
   "outputs": [
    {
     "name": "stdout",
     "output_type": "stream",
     "text": [
      "x_alpha: 2.7981\n",
      "Большая полуось: 0.1538\n",
      "Малая полуось: 1.8386\n",
      "уравнение эллипса28.2014x^2 + 0.1972y^2 + 0.0421z^2\n"
     ]
    }
   ],
   "source": [
    "XX_T = np.dot(X_matrix, X_matrix.T)\n",
    "eigenvalues, eigenvectors = np.linalg.eig(XX_T)\n",
    "beta = [beta_0, beta_1, beta_2]\n",
    "\n",
    "\n",
    "x_alpha = stats.f(3, n - 2).ppf(1 - alpha)\n",
    "print(f'x_alpha: {round(x_alpha, 4)}')\n",
    "\n",
    "a = np.sqrt((2 * var * x_alpha) / eigenvalues[0])\n",
    "b = np.sqrt((2 * var * x_alpha) / eigenvalues[1])\n",
    "\n",
    "print(f'Большая полуось: {round(a, 4)}')\n",
    "print(f'Малая полуось: {round(b, 4)}')\n",
    "\n",
    "\n",
    "factors = []\n",
    "denominator = 3 * var * x_alpha\n",
    "for lmbd in eigenvalues:\n",
    " factors.append(lmbd / denominator)\n",
    "\n",
    "print(\"уравнение эллипса\"f'{round(factors[0] , 4)}x^2 + {round(factors[1] , 4)}y^2 + {round(factors[2] , 4)}z^2')\n"
   ]
  },
  {
   "cell_type": "markdown",
   "metadata": {},
   "source": [
    "### 8.Сформулировать гипотезу линейной регрессионной зависимости переменной Y от переменной X и проверить её значимость на уровне $\\alpha$."
   ]
  },
  {
   "cell_type": "markdown",
   "metadata": {},
   "source": [
    "Основная гипотеза: $H_0 : \\psi = 0$\n",
    "\n",
    "ДНО - функция: \n",
    "$\\psi = C^T \\beta $\n",
    "\n",
    "$ C = \\begin{pmatrix}\n",
    "    0 \\\\\n",
    "    0 \\\\\n",
    "    1\n",
    "\\end{pmatrix} \\Rightarrow$, $\\widehat \\psi = \\widehat \\beta_2 $"
   ]
  },
  {
   "cell_type": "code",
   "execution_count": 687,
   "metadata": {},
   "outputs": [
    {
     "name": "stdout",
     "output_type": "stream",
     "text": [
      "Статистика F =  [[0.10375691]]\n",
      "x_alpha =  4.0470998945817005\n",
      "p_value 0.297\n"
     ]
    }
   ],
   "source": [
    "c = np.array([0, 0, 1])\n",
    "b = np.dot(np.dot(c.T, XX_T_inv), c)\n",
    "\n",
    "q = 1\n",
    "r = 3\n",
    "F = beta_2 ** 2 / (b * q * var)\n",
    "print(\"Статистика F = \" , F)\n",
    "\n",
    "x_alpha = stats.f(q, 47).ppf(1 - alpha)\n",
    "print(\"x_alpha = \" , x_alpha)\n",
    "\n",
    "F = 1.11\n",
    "print(\"p_value\", round(1 - sps.f.cdf(F, 1, 47), 3))"
   ]
  },
  {
   "cell_type": "markdown",
   "metadata": {},
   "source": [
    "$\\mathbb{F} \\approx 0.104$\n",
    "\n",
    "$x_{\\alpha} \\approx 4.05$\n",
    "\n",
    "$\\mathbb{F} < x_{\\alpha_2} $  , а значит нет оснований отвергнуть гипотезу"
   ]
  },
  {
   "cell_type": "markdown",
   "metadata": {},
   "source": [
    "## Выводы\n",
    "\n",
    "В ходе выполнения практической работы быыла сформулирована линейная регрессивная модель переменной Y по переменной X. Была построена и интерпретирована несмещённая оценка дисперсии, оценено расстрояние до нормального распределения по Колмогорову. Так же в практической работе были получены навыки построения доверительных эллипсов и сформулированы гипотезы линейной регрессионной зависимости переменной Y от переменной X."
   ]
  }
 ],
 "metadata": {
  "kernelspec": {
   "display_name": "Python 3",
   "language": "python",
   "name": "python3"
  },
  "language_info": {
   "codemirror_mode": {
    "name": "ipython",
    "version": 3
   },
   "file_extension": ".py",
   "mimetype": "text/x-python",
   "name": "python",
   "nbconvert_exporter": "python",
   "pygments_lexer": "ipython3",
   "version": "3.9.1"
  }
 },
 "nbformat": 4,
 "nbformat_minor": 2
}
