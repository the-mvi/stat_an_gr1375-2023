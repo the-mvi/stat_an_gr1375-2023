{
 "cells": [
  {
   "cell_type": "markdown",
   "id": "920e0f8c-9bda-4b6a-880d-c9230d8683f3",
   "metadata": {
    "editable": true,
    "slideshow": {
     "slide_type": ""
    },
    "tags": []
   },
   "source": [
    "# Практическая работа №3: Регрессионный анализ\n",
    "Выполнил студент гр. 1375 Авдеев Георгий. Вариант №1"
   ]
  },
  {
   "cell_type": "markdown",
   "id": "5d807c55-9013-4d2a-a06d-97b24d7eb660",
   "metadata": {
    "jp-MarkdownHeadingCollapsed": true
   },
   "source": [
    "## Цель работы\n",
    "Ознакомление с основными положениями метода наименьших квадратов (МНК), со статистическими свойствами МНК-оценок, с понятием функции регрессии и роли МНК в регрессионном анализе."
   ]
  },
  {
   "cell_type": "markdown",
   "id": "03ee4f58-a4c5-43f6-8bfb-19a08d1b8db5",
   "metadata": {
    "jp-MarkdownHeadingCollapsed": true
   },
   "source": [
    "## Основные теоретические положения\n",
    "\n",
    "#### Линейная регрессионная модель\n",
    "1. Линейная регрессия некоторой зависимой переменной y на набор независимых переменных  x = (x_1, …, x_n), где n – это число наблюдений, предполагает, что линейное отношение между y и x: $y =\\beta_{0}  + \\beta_{1}x_{1} + ⋯ + \\beta_{n}x_{n} + \\epsilon$ - уравнение регрессии. $\\beta_{0}, \\beta_{1},..., \\beta_{n}$ – коэффициенты регрессии (параметры), и $\\epsilon$ – случайная ошибка.\n",
    "#### МНК (Метод Наименьших Квадратов)\n",
    "1. $RSS(\\beta)=\\left\\| Y-X^{\\intercal}\\beta \\right\\|=(Y-X^{\\intercal}\\beta)^{\\intercal}\\cdot(Y-X^{\\intercal}\\beta)\\to min\\beta$\n",
    "2. Нормальные уравнения: $XX^{\\intercal}\\beta=XY$\n",
    "3. Решение системы нормальных уравнений в регулярном случае:\n",
    "   <br> $\\widehat{\\beta}=(XX^{\\intercal})^{-1}XY$\n",
    "   <br> $RSS(\\beta)=\\sum_{i=1}^{n}\\left( Y_{i}-\\sum_{j=1}^{m}x_{ji}\\beta_{j} \\right)^{2}$\n",
    "   <br> $\\frac{\\partial RSS}{\\partial \\beta_{k}} = -2\\sum_{i=1}^{n}x_{ki}\\left(Y_{i}- \\sum_{j=1}^{m}x_{ji}\\beta_{j}\\right)=0, k=\\vec{1,m}$\n",
    "\n",
    "#### Несмещённая оценка дисперсии $(S^{2})$\n",
    "1. $S^{2} = \\frac{SS_{e}}{n-r} = \\frac{RSS(\\widehat{\\beta})}{n-r}$ \n",
    "2. $SS_{e}=RSS(\\widehat{\\beta})$, а r-ранг матрицы \n",
    "#### Доверительный интервал\n",
    "1. ДНО функции:\n",
    "   <br> $\\psi=с^{\\intercal}\\beta$\n",
    "2. МНК-оценка:\n",
    "   <br> $\\widehat{\\psi}=с^{\\intercal}\\beta$ \n",
    "3. Элемент дисперсии оценки:\n",
    "   <br> $b_{\\psi}=c^{\\intercal}(XX^{\\intercal})^{-1}c$ \n",
    "4. Распределение\n",
    "   <br> $\\widehat{\\psi}\\sim \\mathcal{N}(\\psi,\\sigma^{2}b)$ \n",
    "$\\frac{\\widehat{\\psi}-\\psi}{S\\sqrt{b}}\\sim \\mathcal{S}_{n-r}$ \n",
    "6. Д.И. уровня доверия\n",
    "   <br> $1-\\alpha: \\left[ \\widehat{\\psi} - X_{\\alpha}S\\sqrt{b};\\widehat{\\psi} + X_{\\alpha}S\\sqrt{b} \\right]$\n",
    "   <br> $X_{\\alpha}: \\mathcal{S}_{n-r}(X_{\\alpha})=1-\\frac{\\alpha}{2}$\n",
    "\n",
    "#### Уравнение \n",
    "1. $A_{\\alpha}=\\left\\{ \\vec{X}:(\\vec{X}-\\widehat{\\psi})^{\\intercal}B^{-1}(\\vec{X}-\\widehat{\\psi})\\le qS^{2}X_{\\alpha} \\right\\}$ представляет собой уравнение доверительного эллипса.\n",
    "   <br> $\\widehat{\\psi}$ - вектор оценок параметров,\n",
    "   <br> $B$ - матрица оценок ковариации,\n",
    "   <br> $S^{2}$ - оценка дисперсии,\n",
    "   <br> q - пороговая точка, связанная с распределением хи-квадрат с \\(n-r\\) степенями свободы,\n",
    "   <br> $X_{\\alpha}$ - значение функции распределения хи-квадрат с (n-r) степенями свободы и уровнем доверия $1-\\alpha$.\n",
    "\n",
    "#### Критерий $\\chi^2$ для проверки гипотез\n",
    "1. основан на справнении теоритической плотности распределения и гистограммы, либо теоритической вероятностной меры и полигона частот.  \n",
    "2. Разобъем множество значений сл. вел. X на $N$ интервалов $I_{1}, ..., I_{N}:$ $I_{i} = (a_{i-1}, a_i], i = \\vec{1,N}$. данные интервалы не пересекаются и покрывают всё множество возможных значений сл. вел. X.  \n",
    "3. Обозначим через $p_{i}$ теоритическую вероятность попадания сл. вел. X в интервал $I_{i}$, при условии, что справедлива $H_{0}$.  \n",
    "   <br> $p_{i} = P(X \\in I_{i}|H_{0})$  \n",
    "4. Через $n_{i}$ обозначим число наблюдений нашей выборки, попавших в соответветствующий интервал $I_{i}$.   \n",
    "   <br> $n_{i} = \\sum \\limits_{i=1}^{n}\\mathbb{1}(x_{j} \\in I_{i})$ \n",
    "5. Статистика критерия основана на сравнении относительной частоты и теоритической.  \n",
    "   <br> $\\chi^{2}_{набл} = \\sum \\limits_{i=1}^{N} \\frac{n}{p_{i}} \\bigg ( \\frac{n_{i}}{n} - p_{i} \\bigg )^{2} = \\sum \\limits_{i=1}^{N} \\frac{(n_{i} - p_{i} n)^{2}}{n p_{i}} \\sim \\chi^{2}_{N-1}$    \n",
    "   <br> Если $\\mathcal{X}^{2}_{N-1,1-\\alpha_{1}} \\lt \\chi^2_{набл}$, то гипотезу отвергаем    \n",
    "   <br> Если $\\mathcal{X}^{2}_{N-1,1-\\alpha_{1}} \\gt \\chi^2_{набл}$, то гипотезу принимаем\n",
    "#### Теорема Колмогорова\n",
    "1. $D_{n}(\\vec{X}) = \\overset{}{\\underset{X \\in \\mathbb R}{sup}} |F_{0}(X_{i}) - F_{n}(X_{i})|$ \n",
    "2. Если гипотеза $H_{0}$ верна, и $F_{0}(X)$ - непрерывная ф-я на $\\mathbb R$, тогда имеет место сходимость \n",
    "   <br>2.1 $P(\\sqrt{n} D_{n}(\\vec{X}) < z) \\xrightarrow[n \\rightarrow \\infty]{} K(z)$ \n",
    "   <br>2.1.1 $K(z)=1-\\alpha$ - ф-я распределения Колмогорова.   \n",
    "   <br>2.1.2 $Если D_{n} \\lt z$, то гипотезу принимаем  \n",
    "   <br>2.1.3 $Если D_{n} \\gt z$, то гипотезу отвергаем"
   ]
  },
  {
   "cell_type": "markdown",
   "id": "d2532d40-4b13-4fb0-80dc-9167725b9e3d",
   "metadata": {},
   "source": [
    "## Постановка задачи\n",
    "Результаты статистического эксперимента представлены в виде двух переменных. Требуется оценить характер (случайной) зависимости переменной Y от переменной X. Полученные результаты содержательно проинтерпретировать."
   ]
  },
  {
   "cell_type": "markdown",
   "id": "74d48dbf-83ca-4747-a5d5-5e93c2773052",
   "metadata": {},
   "source": [
    "## Выполнение работы"
   ]
  },
  {
   "cell_type": "markdown",
   "id": "77a5b464-025a-46f7-a4b9-4810ad64681e",
   "metadata": {},
   "source": [
    "### Задание 1"
   ]
  },
  {
   "cell_type": "markdown",
   "id": "fbbe1675-2a96-425e-a822-e1e21c972bf7",
   "metadata": {},
   "source": [
    "<br> Построить графически результаты эксперемента. Сформулировать линейную регрессионную модель переменной Y от переменной X. Построить МНК оценки параметра сдвига $\\beta_0$ и масштаба $\\beta_1$. Построить полученную линию регрессии. Оценить визуально соответствие полученных данных и построенной оценки.\n",
    "<br> Построим графически результаты эксперемента и выведем полученную линию регресии:"
   ]
  },
  {
   "cell_type": "markdown",
   "id": "a05c2a74-f5e0-45f7-b047-c758b5e0a471",
   "metadata": {},
   "source": [
    "#### Линейная регрессионная модель.\n",
    "1. $Y = \\beta_0 + \\beta_{1}X + \\epsilon$\n",
    "    <br> $\\epsilon$ - вектор ошибок\n",
    "    <br> $\\beta_{0}$ - сдвиг\n",
    "    <br> $\\beta_{1}$ - масштаб\n",
    "2. $\\mathbb{E}_\\theta \\epsilon = 0$\n",
    "3. Оценки параметров $\\widehat{\\beta_{0}}$ и $\\widehat{\\beta_{}1}$\n",
    "    <br> вычисляются с помощью нормальных уравнений: $XX^{\\intercal}\\beta=XY$\n",
    "4. МНК оценка:\n",
    "    <br> $\\widehat{\\beta} = (XX^{\\intercal})^{-1}  XY$"
   ]
  },
  {
   "cell_type": "code",
   "execution_count": 51,
   "id": "7645a141-4254-41af-9e1a-0aaad550c0ae",
   "metadata": {},
   "outputs": [
    {
     "data": {
      "image/png": "[encoded data removed]",
      "text/plain": [
       "<Figure size 640x480 with 1 Axes>"
      ]
     },
     "metadata": {},
     "output_type": "display_data"
    },
    {
     "name": "stdout",
     "output_type": "stream",
     "text": [
      "МНК оценка: \n",
      "B_0:  11.0436\n",
      "B_1:  -0.4998750000000006\n"
     ]
    },
    {
     "data": {
      "image/png": "[encoded data removed]",
      "text/plain": [
       "<Figure size 640x480 with 1 Axes>"
      ]
     },
     "metadata": {},
     "output_type": "display_data"
    }
   ],
   "source": [
    "import numpy as np\n",
    "import scipy\n",
    "import scipy.stats as stats\n",
    "import matplotlib.pyplot as plt\n",
    "from scipy.stats import chi2\n",
    "from sklearn.linear_model import LinearRegression\n",
    "Y = np.array([12.71, 9.61, 13.06, 10.72, 26.19, 4.73, 17.36, 5.99, 14.66, 1.91, 6.28, 26.94, 17.30, 2.23, 5.90, 12.01, 15.35, 19.10, 14.80, 13.64, 18.02, 2.33, 14.35, 2.95, 9.41, 2.29, 3.48, 2.97, 8.46, 5.48, 19.89, 5.44, 9.96, 11.86, 14.02, 3.00, 0.23, 14.44, 6.36, 4.14, 7.33, 11.69, 12.14, 14.71, 0.41, 5.43, 11.09, 11.94, 12.80, 15.08])\n",
    "X = np.array([0, 0, 3, 3, 1, 2, 0, 1, 1, 1, 3, 1, 0, 0, 3, 3, 2, 2, 2, 0, 3, 1, 2, 0, 2, 1, 2, 1, 2, 2, 2, 1, 1, 2, 2, 3, 2, 1, 3, 3, 1, 3, 1, 1, 1, 3, 1, 2, 2, 1])\n",
    "n = 50\n",
    "plt.scatter(X, Y, color='red')\n",
    "plt.title('Результаты эксперемента')\n",
    "plt.show()\n",
    "\n",
    "print(\"МНК оценка: \")\n",
    "X_m = np.array([[1] * n, X])\n",
    "X_t = np.dot(X_m, X_m.T)\n",
    "X_t_1 = np.linalg.inv(X_t)\n",
    "B = np.dot(np.dot(X_t_1, X_m), Y)\n",
    "print(\"B_0: \",B[0])\n",
    "print(\"B_1: \",B[1])\n",
    "\n",
    "plt.scatter(X, Y, color='red')\n",
    "plt.plot([min(X), max(X)], [B[0] + B[1] * min(X), B[0] + B[1] * max(X)], color='black')\n",
    "plt.xlabel('X')\n",
    "plt.ylabel('Y')\n",
    "plt.title('Линия регрессии:')\n",
    "plt.show()"
   ]
  },
  {
   "cell_type": "markdown",
   "id": "d4fcee17-e899-42a3-81c1-6a272a688b1e",
   "metadata": {
    "editable": true,
    "slideshow": {
     "slide_type": ""
    },
    "tags": []
   },
   "source": [
    "### Задание 2"
   ]
  },
  {
   "cell_type": "markdown",
   "id": "921ac76f-4062-44bb-b1a3-ad92d58a0ce3",
   "metadata": {},
   "source": [
    "Построить и интерпретировать несмещенную оценку дисперсии. На базе оибок построить гистограмму с шагом h. Проверить гипотезу нормальности ошибок на уровне значимости по $\\alpha$ и $\\chi^2$. Оценить расстояние полученной оценки до класса нормальных распределений по Колмогорову. Визуально оценить данный факт."
   ]
  },
  {
   "cell_type": "code",
   "execution_count": 25,
   "id": "c1bbc201-7405-41b0-802d-0596c571f94c",
   "metadata": {},
   "outputs": [
    {
     "name": "stdout",
     "output_type": "stream",
     "text": [
      "ранг матрицы X:  2\n",
      "Несмещенная оценка дисперсии:  40.359049526041666\n",
      "Интервал:  ({-10.1337}, {-7.1337}) Количество чисел:  {8.0}\n",
      "Интервал:  ({-7.1337}, {-4.1337}) Количество чисел:  {7.0}\n",
      "Интервал:  ({-4.1337}, {-1.1337}) Количество чисел:  {7.0}\n",
      "Интервал:  ({-1.1337}, {1.8663}) Количество чисел:  {7.0}\n",
      "Интервал:  ({1.8663}, {4.8663}) Количество чисел:  {13.0}\n",
      "Интервал:  ({4.8663}, {7.8663}) Количество чисел:  {3.0}\n",
      "Интервал:  ({7.8663}, {10.8663}) Количество чисел:  {3.0}\n",
      "Интервал:  ({10.8663}, {13.8663}) Количество чисел:  {0.0}\n",
      "Интервал:  ({13.8663}, {16.8663}) Количество чисел:  {2.0}\n"
     ]
    },
    {
     "data": {
      "image/png": "[encoded data removed]",
      "text/plain": [
       "<Figure size 640x480 with 1 Axes>"
      ]
     },
     "metadata": {},
     "output_type": "display_data"
    }
   ],
   "source": [
    "import numpy as np\n",
    "import matplotlib.pyplot as plt\n",
    "from numpy.linalg import matrix_rank\n",
    "from scipy import stats\n",
    "import scipy\n",
    "Y = [12.71, 9.61, 13.06, 10.72, 26.19, 4.73, 17.36, 5.99, 14.66, 1.91, 6.28, 26.94, 17.30, 2.23, 5.90, 12.01, 15.35, 19.10, 14.80, 13.64, 18.02, 2.33, 14.35, 2.95, 9.41, 2.29, 3.48, 2.97, 8.46, 5.48, 19.89, 5.44, 9.96, 11.86, 14.02, 3.00, 0.23, 14.44, 6.36, 4.14, 7.33, 11.69, 12.14, 14.71, 0.41, 5.43, 11.09, 11.94, 12.80, 15.08]\n",
    "X = [0, 0, 3, 3, 1, 2, 0, 1, 1, 1, 3, 1, 0, 0, 3, 3, 2, 2, 2, 0, 3, 1, 2, 0, 2, 1, 2, 1, 2, 2, 2, 1, 1, 2, 2, 3, 2, 1, 3, 3, 1, 3, 1, 1, 1, 3, 1, 2, 2, 1]\n",
    "D = 0\n",
    "n=50\n",
    "r = 0\n",
    "a = 0.1\n",
    "h = 3\n",
    "X_m = np.array([[1 for i in range(n)], X])\n",
    "Y_m = np.array([Y[i] for i in range(len(Y))])\n",
    "XX_t = np.dot(X_m, X_m.T)\n",
    "XX_t_1 = np.linalg.inv(XX_t)\n",
    "B = np.dot(np.dot(XX_t_1, X_m), Y)\n",
    "r = np.linalg.matrix_rank(X_m)\n",
    "print(\"ранг матрицы X: \",r)\n",
    "D = np.dot((Y-np.dot(X_m.T, B)).T,(Y-np.dot(X_m.T, B)))\n",
    "s = D/(n-r)\n",
    "print(\"Несмещенная оценка дисперсии: \",s)\n",
    "error = Y_m - (B[0] + B[1] * X_m[1])\n",
    "sort_err = np.sort(error)\n",
    "hist, bins, _ = plt.hist(error, bins=np.arange(min(error), max(error) + h, h), edgecolor='black', color='red')\n",
    "for i in range(len(hist)):\n",
    "    print(\"Интервал: \",({round(bins[i], 4)}, {round(bins[i+1], 4)}), \"Количество чисел: \",{hist[i]})\n",
    "plt.title('Гистограмма на базе ошибок')\n",
    "plt.show()"
   ]
  },
  {
   "cell_type": "markdown",
   "id": "82b9cdee-285b-4420-8a11-21e13b5e94e7",
   "metadata": {},
   "source": [
    "#### Скорректированные интервалы с частотой >= 5\n",
    "1. $I_1 = (-\\infty, -7.1337], n_1 = 8$\n",
    "2. $I_2 = (-7.1337, -4.1337], n_2 = 7$\n",
    "3. $I_3 = (-4.1337, -1.1337], n_3 = 7$\n",
    "4. $I_4 = (-1.1337, 1.8663], n_4 = 7$\n",
    "5. $I_5 = (1.8663, 4.8663], n_5 = 13$\n",
    "6. $I_6 = (4.8663, +\\infty), n_6 = 8$"
   ]
  },
  {
   "cell_type": "markdown",
   "id": "9d70fb79-d6d3-46e6-b193-b00806944fec",
   "metadata": {},
   "source": [
    "#### Статистика критерия $\\chi^2$:"
   ]
  },
  {
   "cell_type": "code",
   "execution_count": 23,
   "id": "ab4629bc-29c3-4ef5-93fe-d56e930d9b79",
   "metadata": {},
   "outputs": [
    {
     "name": "stdout",
     "output_type": "stream",
     "text": [
      "Значение критерия Хи-квадрат:  5.012713593711639\n",
      "Квантиль Хи-квадрат:  7.779440339734858\n",
      "Dn:  0.4422156431313508\n",
      "x_alpha:  0.17307822563424255\n"
     ]
    }
   ],
   "source": [
    "import numpy as np\n",
    "import matplotlib.pyplot as plt\n",
    "from numpy.linalg import matrix_rank\n",
    "from scipy import stats\n",
    "import scipy\n",
    "def chi2(sigma):\n",
    "    otr = np.array([-7.1337,-4.1337,-1.1337,1.8663,4.8663])\n",
    "    p = np.zeros(len(otr) + 1)\n",
    "    theor = np.array([8,7,7,7,13,8])\n",
    "    p[0] = stats.norm.cdf(otr[0],0,sigma)\n",
    "    for i in range(1, len(otr)):\n",
    "        p[i] = round(stats.norm.cdf(otr[i],0,sigma) - stats.norm.cdf(otr[i-1],0,sigma),10)\n",
    "    p[len(otr)] = 1 - stats.norm.cdf(otr[-1],0,sigma)\n",
    "    krit = ((theor - n * p) ** 2)/ (n * p)\n",
    "    return np.sum(krit)\n",
    "result = scipy.optimize.minimize_scalar(chi2)\n",
    "print(\"Значение критерия Хи-квадрат: \", result.fun)\n",
    "func = stats.chi2(4)\n",
    "x_a = func.ppf(1 - a)\n",
    "print(\"Квантиль Хи-квадрат: \", x_a)\n",
    "def F_n(x):\n",
    "    count = 0\n",
    "    for i in range(len(error)):\n",
    "        if error[i] < x:\n",
    "            count+=1\n",
    "    return count / n\n",
    "Fn = np.array([F_n(i) for i in X])\n",
    "F0 = np.array([stats.norm.cdf(y, 0, np.sqrt(s)) for y in X])\n",
    "Dn = np.max(np.abs(Fn - F0)) * np.sqrt(n)\n",
    "print(\"Dn: \",Dn)\n",
    "print(\"x_alpha: \", stats.kstwobign.ppf(1 - a) / np.sqrt(len(error)))"
   ]
  },
  {
   "cell_type": "code",
   "execution_count": 32,
   "id": "7c673f68-1c97-4900-9217-2fbeab96f438",
   "metadata": {},
   "outputs": [
    {
     "data": {
      "image/png": "[encoded data removed]",
      "text/plain": [
       "<Figure size 640x480 with 1 Axes>"
      ]
     },
     "metadata": {},
     "output_type": "display_data"
    },
    {
     "name": "stdout",
     "output_type": "stream",
     "text": [
      "Гипотеза H_0 отвергается\n"
     ]
    }
   ],
   "source": [
    "hist, bin_edges, _ = plt.hist(error, bins=np.arange(min(error), max(error) + h, h), density=True, edgecolor='black', color='red')\n",
    "val = np.linspace(min(error), max(error), 100)\n",
    "plt.plot(val, stats.norm.pdf(val, error.mean(), error.std()))\n",
    "plt.title('Гистограмма на базе ошибок')\n",
    "plt.show()\n",
    "\n",
    "if Dn > stats.kstwobign.ppf(1 - a) / np.sqrt(len(error)):\n",
    "    print(\"Гипотеза H_0 отвергается\")\n",
    "elif Dn < stats.kstwobign.ppf(1 - a) / np.sqrt(len(error)):\n",
    "    print(\"Гипотеза H_0 принимается\")"
   ]
  },
  {
   "cell_type": "markdown",
   "id": "47d105ce-7062-483e-a929-e93467a38700",
   "metadata": {},
   "source": [
    "### Задание 3"
   ]
  },
  {
   "cell_type": "markdown",
   "id": "06d89415-9d80-4e80-9ffc-4d67115eccdc",
   "metadata": {},
   "source": [
    "<br> В предположении нормальности ошибок построить доверительные интервалы для параметров $\\beta_{0}$ и $\\beta_{1}$ уровня доверия 1 − $\\alpha$. Построить доверительный эллипс уровня доверия 1 − $\\alpha$ для $(\\beta_{0}, \\beta_{1})$. (вычислить его полуоси)"
   ]
  },
  {
   "cell_type": "markdown",
   "id": "b8274af9-1a81-443d-a352-ad953eb4494d",
   "metadata": {},
   "source": [
    "1. $\\psi = C^{T} \\beta $\n",
    "2. $b_{\\psi} = C^{T}(XX^T)^{-1}C$\n",
    "3. $ \\cfrac{\\widehat{\\psi} - \\psi}{s\\sqrt{b}} \\sim S_{n-r} $\n",
    "### Доверительный интервал:\n",
    "1. $ P_\\theta(-x_{\\alpha} \\le \\cfrac{\\widehat{\\psi} - \\psi}{s\\sqrt{b}} \\le x_{\\alpha}) = 1 -\\alpha $\n",
    "    <br> $x_{\\alpha}:S_{n-r}(x_\\alpha)=1 -\\frac{\\alpha}{2}$\n",
    "2. $\\widehat{\\psi} -x_{\\alpha}s\\sqrt{b} \\le \\psi \\le \\widehat \\psi -x_{\\alpha}s\\sqrt{b} $- доверительный интервал для $\\psi$\n",
    "3. $\\beta_{0}:$\n",
    "    <br> $\\psi_{\\beta_{0}} = \\begin{pmatrix}1 \\\\ 0\\end{pmatrix}^{\\intercal}\\cdot \\begin{pmatrix}\\beta_0 \\\\ \\beta_1\\end{pmatrix}$\n",
    "    <br> $b_{\\psi_{\\beta_0}} =  \\begin{pmatrix}1 & 0\\end{pmatrix} (XX^{\\intercal})^{-1} \\begin{pmatrix}1 \\\\ 0\\end{pmatrix}$ \n",
    "4. $\\beta_1:$\n",
    "    <br> $\\psi_{\\beta_1} = \\begin{pmatrix}0 \\\\ 1\\end{pmatrix}^{\\intercal} \\cdot  \\begin{pmatrix}\\beta_0 \\\\ \\beta_1\\end{pmatrix}$\n",
    "    <br> $b_{\\psi_{\\beta_{1}}} =  \\begin{pmatrix}0 & 1\\end{pmatrix} (XX^{\\intercal})^{-1} \\begin{pmatrix}0 \\\\ 1 \\end{pmatrix}$\n",
    "5. $x_{\\alpha} = S^{-1}_{n - 2}(1 - \\frac{\\alpha}{2})$\n",
    "### Доверительный эллипс\n",
    "1. $A_\\alpha=\\{x:(x - \\widehat{\\psi})^{T}(C^{T}(XX^{T})^{-1}C)^{-1}(x-\\widehat{\\psi})\\le qs^{2}x_{\\alpha}\\}$\n",
    "    <br> $x_{\\alpha} = F_{q,n-r}(x_{\\alpha}) = 1 - \\alpha$\n",
    "2. $C = \\begin{pmatrix}1 & 0\\\\0 & 1\\end{pmatrix}$\n",
    "3. Пусть $\\begin{pmatrix}x\\\\y\\end{pmatrix}=P(\\widehat{\\psi}-\\psi)$\n",
    "    <br> P - матрица собственных векторов.\n",
    "#### Уравнение доверительного эллипса:\n",
    "1. $(\\widehat{\\psi}-\\psi)^{T}(C^{T}(XX^{T})^{-1}C)^{-1}(\\widehat{\\psi}-\\psi)=\\lambda_{1} x^{2}+ \\lambda_{2} y^{2} \\le qs^{2}x_{\\alpha}$\n",
    "    <br> $\\lambda_{1}$ и $\\lambda_{2}$ - собственные числа матрицы $XX^{T}$\n",
    "2. $\\cfrac{\\lambda_{1}}{qs^{2}x_{\\alpha}}x^{2} + \\cfrac{\\lambda_{2}}{qs^{2}x_{\\alpha}}y^{2} \\le 1$"
   ]
  },
  {
   "cell_type": "code",
   "execution_count": 4,
   "id": "d41780d3-c00e-4ce6-b333-1379a25cda20",
   "metadata": {},
   "outputs": [
    {
     "name": "stdout",
     "output_type": "stream",
     "text": [
      "Phi_0:  11.0436\n",
      "Phi_1:  -0.4998750000000006\n",
      "b_Phi_0:  0.07333333333333333\n",
      "b_Phi_1:  0.020833333333333332\n",
      "Квантиль x_a = 1.6772241953450393\n",
      "Доверительный интервал для параметра B_0:\n",
      "[ 8.15815835 13.92904165]\n",
      "Доверительный интервал для параметра B_1:\n",
      "[-2.03782057  1.03807057]\n",
      "[[1 0]\n",
      " [0 1]]\n",
      "Доверительный эллипс:\n",
      "Собственные числа:\n",
      "[ 11.17171316 214.82828684]\n",
      "Собственные векторы:\n",
      "[[-0.89963565  0.43664139]\n",
      " [-0.43664139 -0.89963565]]\n",
      "Большая полуось:  3.481137149340721\n",
      "Малая полуось:  0.7938442247162965\n"
     ]
    }
   ],
   "source": [
    "import numpy as np\n",
    "import scipy\n",
    "import scipy.stats as stats\n",
    "import matplotlib.pyplot as plt\n",
    "from scipy.stats import chi2\n",
    "from numpy.linalg import matrix_rank\n",
    "Y = np.array([12.71, 9.61, 13.06, 10.72, 26.19, 4.73, 17.36, 5.99, 14.66, 1.91, 6.28, 26.94, 17.30, 2.23, 5.90, 12.01, 15.35, 19.10, 14.80, 13.64, 18.02, 2.33, 14.35, 2.95, 9.41, 2.29, 3.48, 2.97, 8.46, 5.48, 19.89, 5.44, 9.96, 11.86, 14.02, 3.00, 0.23, 14.44, 6.36, 4.14, 7.33, 11.69, 12.14, 14.71, 0.41, 5.43, 11.09, 11.94, 12.80, 15.08])\n",
    "X = np.array([0, 0, 3, 3, 1, 2, 0, 1, 1, 1, 3, 1, 0, 0, 3, 3, 2, 2, 2, 0, 3, 1, 2, 0, 2, 1, 2, 1, 2, 2, 2, 1, 1, 2, 2, 3, 2, 1, 3, 3, 1, 3, 1, 1, 1, 3, 1, 2, 2, 1])\n",
    "D = 0\n",
    "n=50\n",
    "a = 0.1\n",
    "h = 3\n",
    "\n",
    "c_0=np.array([1,0])\n",
    "c_t_0=c_0.T\n",
    "c_1=np.array([0,1])\n",
    "c_t_1=c_1.T\n",
    "\n",
    "Phi_0=0\n",
    "Phi_1=0\n",
    "b_Phi_0=0\n",
    "b_Phi_1=0\n",
    "\n",
    "X_m = np.array([[1]*n, X])\n",
    "X_t = np.dot(X_m, X_m.T)\n",
    "X_t_1 = np.linalg.inv(X_t)\n",
    "B = np.dot(np.dot(X_t_1, X_m), Y)\n",
    "r = np.linalg.matrix_rank(X_m)\n",
    "D = np.dot((Y-np.dot(X_m.T, B)).T,(Y-np.dot(X_m.T, B)))\n",
    "s = D/(n-r)\n",
    "\n",
    "Phi_0=np.dot(c_t_0,B)\n",
    "Phi_1=np.dot(c_t_1,B)\n",
    "X_0=np.dot(X,X.T)\n",
    "b_Phi_0=np.dot(np.dot(c_0,X_t_1),c_t_0)\n",
    "b_Phi_1=np.dot(np.dot(c_1,X_t_1),c_t_1)\n",
    "print(\"Phi_0: \",Phi_0)\n",
    "print(\"Phi_1: \",Phi_1)\n",
    "print(\"b_Phi_0: \",b_Phi_0)\n",
    "print(\"b_Phi_1: \",b_Phi_1)\n",
    "\n",
    "func = stats.t(n-2)\n",
    "x_a = func.ppf(1-a/2)\n",
    "print(\"Квантиль x_a =\", x_a)\n",
    "\n",
    "print(\"Доверительный интервал для параметра B_0:\")\n",
    "Int_B_0=np.array([B[0]-x_a*np.sqrt(s)*np.sqrt(b_Phi_0),B[0]+x_a*np.sqrt(s)*np.sqrt(b_Phi_0)])\n",
    "print(Int_B_0)\n",
    "print(\"Доверительный интервал для параметра B_1:\")\n",
    "Int_B_1=np.array([B[1]-x_a*np.sqrt(s)*np.sqrt(b_Phi_1),B[1]+x_a*np.sqrt(s)*np.sqrt(b_Phi_1)])\n",
    "print(Int_B_1)\n",
    "\n",
    "C=np.array([c_t_0,c_t_1])\n",
    "print(C)\n",
    "\n",
    "print(\"Доверительный эллипс:\")\n",
    "eig_v, eig_vec = np.linalg.eig(X_t)\n",
    "print(\"Собственные числа:\")\n",
    "print(eig_v)\n",
    "print(\"Собственные векторы:\")\n",
    "print(eig_vec.T)\n",
    "b_os = np.sqrt((2*s*x_a)/eig_v[0])\n",
    "m_os = np.sqrt((2*s*x_a)/eig_v[1])\n",
    "print(\"Большая полуось: \",b_os)\n",
    "print(\"Малая полуось: \",m_os)"
   ]
  },
  {
   "cell_type": "markdown",
   "id": "25f9a319-afd4-4a90-88ab-1859eea1885c",
   "metadata": {},
   "source": [
    "### Задание 4"
   ]
  },
  {
   "cell_type": "markdown",
   "id": "c3552fbc-3aef-4651-8fda-f318a483d4d8",
   "metadata": {},
   "source": [
    "<br> Сформулировать гипотезу независимости переменной Y от переменной X. Провести проверку значимости."
   ]
  },
  {
   "cell_type": "markdown",
   "id": "6e6d61ea-86f0-4ae2-a94f-00bbeb5645a9",
   "metadata": {},
   "source": [
    "1. Гипотезы: \n",
    "    <br> Основная: $H_{0}:\\beta_{1} = 0$\n",
    "    <br> Альтернативная: $H_{1}:\\beta_{1} \\neq 0$\n",
    "2. $\\psi=C^{T}\\beta $\n",
    "3. $C=\\begin{pmatrix}0 \\\\ 1\\end{pmatrix}$ \n",
    "4. $\\widehat{\\psi} = \\widehat{\\beta_{1}}$\n",
    "5. $b_{\\psi_{\\widehat{\\beta_{1}}}} =  \\begin{pmatrix}0 & 1\\end{pmatrix} (XX^{\\intercal})^{-1} \\begin{pmatrix}0 \\\\ 1\\end{pmatrix}$\n",
    "6. $\\mathcal{F} = \\cfrac{\\widehat{\\psi}^{T} ((C^{T} (XX^{T})^{-1}C)^{-1}) \\widehat{\\psi}}{qs^{2}} \\sim F_{q, n-r}$\n",
    "7. Так как $\\widehat{\\psi}=\\widehat{\\beta_{1}}$\n",
    "    <br> $\\mathcal{F} = \\cfrac{{\\widehat{\\beta_{1}}}^{2}}{bqs^{2}} $"
   ]
  },
  {
   "cell_type": "code",
   "execution_count": 12,
   "id": "5870ec8e-c90f-4964-a689-9847d00e85fd",
   "metadata": {},
   "outputs": [
    {
     "name": "stdout",
     "output_type": "stream",
     "text": [
      "B_1:  0.020833333333333332\n",
      "F_nabl:  145.05130608446618\n",
      "x_a:  2.813081004064934\n",
      "F_nabl > x_a: Гипотеза отвергается\n"
     ]
    }
   ],
   "source": [
    "import numpy as np\n",
    "import scipy\n",
    "import scipy.stats as stats\n",
    "import matplotlib.pyplot as plt\n",
    "from scipy.stats import chi2\n",
    "from numpy.linalg import matrix_rank\n",
    "Y = np.array([12.71, 9.61, 13.06, 10.72, 26.19, 4.73, 17.36, 5.99, 14.66, 1.91, 6.28, 26.94, 17.30, 2.23, 5.90, 12.01, 15.35, 19.10, 14.80, 13.64, 18.02, 2.33, 14.35, 2.95, 9.41, 2.29, 3.48, 2.97, 8.46, 5.48, 19.89, 5.44, 9.96, 11.86, 14.02, 3.00, 0.23, 14.44, 6.36, 4.14, 7.33, 11.69, 12.14, 14.71, 0.41, 5.43, 11.09, 11.94, 12.80, 15.08])\n",
    "X = np.array([0, 0, 3, 3, 1, 2, 0, 1, 1, 1, 3, 1, 0, 0, 3, 3, 2, 2, 2, 0, 3, 1, 2, 0, 2, 1, 2, 1, 2, 2, 2, 1, 1, 2, 2, 3, 2, 1, 3, 3, 1, 3, 1, 1, 1, 3, 1, 2, 2, 1])\n",
    "D = 0\n",
    "n=50\n",
    "a = 0.1\n",
    "h = 3\n",
    "\n",
    "c=np.array([0,1])\n",
    "c_t=c.T\n",
    "\n",
    "X_m = np.array([[1] * n, X])\n",
    "X_t = np.dot(X_m, X_m.T)\n",
    "X_t_1 = np.linalg.inv(X_t)\n",
    "B = np.dot(np.dot(X_t_1, X_m), Y)\n",
    "r = np.linalg.matrix_rank(X_m)\n",
    "D = np.dot((Y-np.dot(X_m.T, B)).T,(Y-np.dot(X_m.T, B)))\n",
    "s = D/(n-r)\n",
    "\n",
    "B_1 = np.dot(np.dot(c.T, X_t_1), c)\n",
    "print(\"B_1: \",B_1)\n",
    "\n",
    "F_nabl = B[0]**2 / (B_1*1*s)\n",
    "print(\"F_nabl: \",F_nabl)\n",
    "\n",
    "func = stats.f(1, n - 2)\n",
    "x_a = func.ppf(1 - a)\n",
    "print(\"x_a: \",x_a)\n",
    "\n",
    "if F_nabl < x_a:\n",
    "    print(\"F_nabl < x_a: Гипотеза принимается\")\n",
    "else:\n",
    "    print(\"F_nabl > x_a: Гипотеза отвергается\")\n"
   ]
  },
  {
   "cell_type": "markdown",
   "id": "a1669854-43e3-4d1f-8fe6-3cb7d2790692",
   "metadata": {},
   "source": [
    "### Задание 5"
   ]
  },
  {
   "cell_type": "markdown",
   "id": "6abf892b-47e4-41d9-b224-999c38b3cb6a",
   "metadata": {},
   "source": [
    "<br> Сформулировать модель, включающую дополнительный член $X^{2}$. Построить МНК оценки параметров $\\beta_{0}, \\beta_{1}, \\beta_{2}$ в данной модели. Изобразить полученную регрессионную зависимость."
   ]
  },
  {
   "cell_type": "markdown",
   "id": "3ca98eef-f51e-4243-8c54-130cf94f8875",
   "metadata": {},
   "source": [
    "#### Линейная регрессионная модель.\n",
    "1. $Y=\\beta_{0}+\\beta_{1}X+\\epsilon$\n",
    "    <br> $\\epsilon$ - вектор ошибок\n",
    "    <br> $\\beta_{0}$ - сдвиг\n",
    "    <br> $\\beta_{1}$ - масштаб\n",
    "2. $\\mathbb{E}_\\theta \\epsilon = 0$ \n",
    "3. $ E(Y|X)=\\beta_{0}+\\beta_{1}X+\\beta_{1}X^{2}$\n",
    "    <br> $\\beta = (\\beta_{0}, \\beta_{1}, \\beta_{2})$\n",
    "5. МНК оценка:\n",
    "    <br> $\\widehat{\\beta}=(XX^{\\intercal})^{-1}XY$"
   ]
  },
  {
   "cell_type": "code",
   "execution_count": 53,
   "id": "d265cab8-f3e1-4f47-ae61-8cdc8d5fd8ef",
   "metadata": {},
   "outputs": [
    {
     "data": {
      "image/png": "[encoded data removed]",
      "text/plain": [
       "<Figure size 640x480 with 1 Axes>"
      ]
     },
     "metadata": {},
     "output_type": "display_data"
    },
    {
     "name": "stdout",
     "output_type": "stream",
     "text": [
      "МНК оценка: \n",
      "B_0:  10.352673167451293\n",
      "B_1:  0.906338264962998\n",
      "B_2:  -0.44290181573637877\n"
     ]
    },
    {
     "data": {
      "image/png": "[encoded data removed]",
      "text/plain": [
       "<Figure size 640x480 with 1 Axes>"
      ]
     },
     "metadata": {},
     "output_type": "display_data"
    }
   ],
   "source": [
    "import numpy as np\n",
    "import scipy\n",
    "import scipy.stats as stats\n",
    "import matplotlib.pyplot as plt\n",
    "from scipy.stats import chi2\n",
    "from sklearn.linear_model import LinearRegression\n",
    "Y = np.array([12.71, 9.61, 13.06, 10.72, 26.19, 4.73, 17.36, 5.99, 14.66, 1.91, 6.28, 26.94, 17.30, 2.23, 5.90, 12.01, 15.35, 19.10, 14.80, 13.64, 18.02, 2.33, 14.35, 2.95, 9.41, 2.29, 3.48, 2.97, 8.46, 5.48, 19.89, 5.44, 9.96, 11.86, 14.02, 3.00, 0.23, 14.44, 6.36, 4.14, 7.33, 11.69, 12.14, 14.71, 0.41, 5.43, 11.09, 11.94, 12.80, 15.08])\n",
    "X = np.array([0, 0, 3, 3, 1, 2, 0, 1, 1, 1, 3, 1, 0, 0, 3, 3, 2, 2, 2, 0, 3, 1, 2, 0, 2, 1, 2, 1, 2, 2, 2, 1, 1, 2, 2, 3, 2, 1, 3, 3, 1, 3, 1, 1, 1, 3, 1, 2, 2, 1])\n",
    "n = 50\n",
    "plt.scatter(X, Y, color='red')\n",
    "plt.title('Результаты эксперемента')\n",
    "plt.show()\n",
    "\n",
    "print(\"МНК оценка: \")\n",
    "X_m = np.array([[1] * n, [X[i] for i in range(n)], [X[i]**2 for i in range(n)]])\n",
    "X_t = np.dot(X_m, X_m.T)\n",
    "X_t_1 = np.linalg.inv(X_t)\n",
    "B = np.dot(np.dot(X_t_1, X_m), Y)\n",
    "X_ellips = np.linspace(X_m.min(), X_m.max(), n).reshape(-1, 1)\n",
    "print(\"B_0: \",B[0])\n",
    "print(\"B_1: \",B[1])\n",
    "print(\"B_2: \",B[2])\n",
    "\n",
    "plt.scatter(X, Y, color='red')\n",
    "plt.plot(X_ellips, B[0]+B[1]*X_ellips+B[2]*X_ellips**2, color='black')\n",
    "plt.xlabel('X')\n",
    "plt.ylabel('Y')\n",
    "plt.title('Линия регрессии:')\n",
    "plt.show()"
   ]
  },
  {
   "cell_type": "markdown",
   "id": "ca13bb56-d579-4f59-8cbf-d676f84f6b0e",
   "metadata": {},
   "source": [
    "### Задание 6"
   ]
  },
  {
   "cell_type": "markdown",
   "id": "401bd0ab-8ec9-4c14-b52a-1754d1a028c5",
   "metadata": {},
   "source": [
    "Построить несмещенную оценку дисперсии. Провести исследование нормальности ошибок как в пункте 2."
   ]
  },
  {
   "cell_type": "code",
   "execution_count": 28,
   "id": "2ba8ead1-ca11-48fe-ae16-8865e7e262d3",
   "metadata": {},
   "outputs": [
    {
     "name": "stdout",
     "output_type": "stream",
     "text": [
      "ранг матрицы X:  3\n",
      "Несмещенная оценка дисперсии:  41.03156573638198\n",
      "Интервал: (-11.9353, -8.9353), Количество чисел: 5.0\n",
      "Интервал: (-8.9353, -5.9353), Количество чисел: 12.0\n",
      "Интервал: (-5.9353, -2.9353), Количество чисел: 4.0\n",
      "Интервал: (-2.9353, 0.0647), Количество чисел: 10.0\n",
      "Интервал: (0.0647, 3.0647), Количество чисел: 6.0\n",
      "Интервал: (3.0647, 6.0647), Количество чисел: 7.0\n",
      "Интервал: (6.0647, 9.0647), Количество чисел: 4.0\n",
      "Интервал: (9.0647, 12.0647), Количество чисел: 0.0\n",
      "Интервал: (12.0647, 15.0647), Количество чисел: 1.0\n",
      "Интервал: (15.0647, 18.0647), Количество чисел: 1.0\n"
     ]
    },
    {
     "data": {
      "image/png": "[encoded data removed]",
      "text/plain": [
       "<Figure size 640x480 with 1 Axes>"
      ]
     },
     "metadata": {},
     "output_type": "display_data"
    }
   ],
   "source": [
    "import numpy as np\n",
    "import matplotlib.pyplot as plt\n",
    "from numpy.linalg import matrix_rank\n",
    "from scipy import stats\n",
    "import scipy\n",
    "Y = [12.71, 9.61, 13.06, 10.72, 26.19, 4.73, 17.36, 5.99, 14.66, 1.91, 6.28, 26.94, 17.30, 2.23, 5.90, 12.01, 15.35, 19.10, 14.80, 13.64, 18.02, 2.33, 14.35, 2.95, 9.41, 2.29, 3.48, 2.97, 8.46, 5.48, 19.89, 5.44, 9.96, 11.86, 14.02, 3.00, 0.23, 14.44, 6.36, 4.14, 7.33, 11.69, 12.14, 14.71, 0.41, 5.43, 11.09, 11.94, 12.80, 15.08]\n",
    "X = [0, 0, 3, 3, 1, 2, 0, 1, 1, 1, 3, 1, 0, 0, 3, 3, 2, 2, 2, 0, 3, 1, 2, 0, 2, 1, 2, 1, 2, 2, 2, 1, 1, 2, 2, 3, 2, 1, 3, 3, 1, 3, 1, 1, 1, 3, 1, 2, 2, 1]\n",
    "D = 0\n",
    "n=50\n",
    "r = 0\n",
    "a = 0.1\n",
    "h = 3\n",
    "X_m = np.array([[1] * n, [X[i] for i in range(n)], [X[i]**2 for i in range(n)]])\n",
    "X_t = np.dot(X_m, X_m.T)\n",
    "X_t_1 = np.linalg.inv(X_t)\n",
    "B = np.dot(np.dot(X_t_1, X_m), Y)\n",
    "r = np.linalg.matrix_rank(X_m)\n",
    "print(\"ранг матрицы X: \",r)\n",
    "D = np.dot((Y-np.dot(X_m.T, B)).T,(Y-np.dot(X_m.T, B)))\n",
    "s = D/(n-r)\n",
    "print(\"Несмещенная оценка дисперсии: \",s)\n",
    "\n",
    "error = Y_m - (B[0] + B[1] * X_m[1])\n",
    "sort_err = np.sort(error)\n",
    "\n",
    "hist, bins, _ = plt.hist(error, bins=np.arange(min(error), max(error) + h, h), edgecolor='black', color='red')\n",
    "for i in range(len(hist)):\n",
    "    print(f'Интервал: ({round(bins[i], 4)}, {round(bins[i+1], 4)}), Количество чисел: {hist[i]}')\n",
    "plt.title('Гистограмма на базе ошибок')\n",
    "plt.show()"
   ]
  },
  {
   "cell_type": "markdown",
   "id": "7e01941e-a67e-4060-a8ce-71de3a155239",
   "metadata": {},
   "source": [
    "#### Скорректированные интервалы с частотой >= 5\n",
    "1. $I_1 = (-\\infty, -8.9353], n_1 = 5$\n",
    "2. $I_2 = (-8.9353, -5.9353], n_2 = 12$\n",
    "3. $I_3 = (-5.9353, 0.0647], n_3 = 14$\n",
    "4. $I_4 = (0.0647, 3.0647], n_4 = 6$\n",
    "5. $I_5 = (3.0647, 6.0647], n_5 = 7$\n",
    "6. $I_6 = (6.0647, +\\infty), n_6 = 6$"
   ]
  },
  {
   "cell_type": "markdown",
   "id": "81ed31a5-9d41-4b29-9795-25f50224c201",
   "metadata": {},
   "source": [
    "#### Статистика критерия $\\chi^2$:"
   ]
  },
  {
   "cell_type": "code",
   "execution_count": 29,
   "id": "89f3a9aa-a068-4c1b-a7cd-eb597a148ed5",
   "metadata": {},
   "outputs": [
    {
     "name": "stdout",
     "output_type": "stream",
     "text": [
      "Значение критерия Хи-квадрат:  12.569257616365359\n",
      "Квантиль Хи-квадрат:  7.779440339734858\n",
      "Dn:  0.848528137423857\n",
      "x_alpha:  0.17307822563424255\n"
     ]
    }
   ],
   "source": [
    "import numpy as np\n",
    "import matplotlib.pyplot as plt\n",
    "from numpy.linalg import matrix_rank\n",
    "from scipy import stats\n",
    "import scipy\n",
    "def chi2(sigma):\n",
    "    otr = np.array([-8.9353,-5.9353,0.0647,3.0647,6.0647])\n",
    "    p = np.zeros(len(otr) + 1)\n",
    "    theor = np.array([5,12,14,6,7,6])\n",
    "    p[0] = stats.norm.cdf(otr[0],0,sigma)\n",
    "    for i in range(1, len(otr)):\n",
    "        p[i] = round(stats.norm.cdf(otr[i],0,sigma) - stats.norm.cdf(otr[i-1],0,sigma),10)\n",
    "    p[len(otr)] = 1 - stats.norm.cdf(otr[-1],0,sigma)\n",
    "    krit = ((theor - n * p) ** 2)/ (n * p)\n",
    "    return np.sum(krit)\n",
    "result = scipy.optimize.minimize_scalar(chi2)\n",
    "print(\"Значение критерия Хи-квадрат: \", result.fun)\n",
    "func = stats.chi2(4)\n",
    "x_a = func.ppf(1 - a)\n",
    "print(\"Квантиль Хи-квадрат: \", x_a)\n",
    "def F_n(x):\n",
    "    count = 0\n",
    "    for i in range(len(error)):\n",
    "        if error[i] < x:\n",
    "            count+=1\n",
    "    return count / n\n",
    "Fn = np.array([F_n(i) for i in X])\n",
    "F0 = np.array([stats.norm.cdf(y, 0, np.sqrt(s)) for y in X])\n",
    "Dn = np.max(np.abs(Fn - F0)) * np.sqrt(n)\n",
    "print(\"Dn: \",Dn)\n",
    "print(\"x_alpha: \", stats.kstwobign.ppf(1 - a) / np.sqrt(len(error)))"
   ]
  },
  {
   "cell_type": "code",
   "execution_count": 31,
   "id": "6f383891-8bf8-47a4-b4a0-34cbc1c3bd9f",
   "metadata": {},
   "outputs": [
    {
     "data": {
      "image/png": "[encoded data removed]",
      "text/plain": [
       "<Figure size 640x480 with 1 Axes>"
      ]
     },
     "metadata": {},
     "output_type": "display_data"
    },
    {
     "name": "stdout",
     "output_type": "stream",
     "text": [
      "Гипотеза H_0 отвергается\n"
     ]
    }
   ],
   "source": [
    "hist, bin_edges, _ = plt.hist(error, bins=np.arange(min(error), max(error) + h, h), density=True, edgecolor='black', color='red')\n",
    "val = np.linspace(min(error), max(error), 100)\n",
    "plt.plot(val, stats.norm.pdf(val, error.mean(), error.std()))\n",
    "plt.title('Гистограмма на базе ошибок')\n",
    "plt.show()\n",
    "\n",
    "if Dn > stats.kstwobign.ppf(1 - a) / np.sqrt(len(error)):\n",
    "    print(\"Гипотеза H_0 отвергается\")\n",
    "elif Dn < stats.kstwobign.ppf(1 - a) / np.sqrt(len(error)):\n",
    "    print(\"Гипотеза H_0 принимается\")"
   ]
  },
  {
   "cell_type": "markdown",
   "id": "6fa7dcaa-72a8-4128-ac2e-3eafe87f41df",
   "metadata": {},
   "source": [
    "### Задание 7"
   ]
  },
  {
   "cell_type": "markdown",
   "id": "b050b335-96d5-4c1b-8898-895529597719",
   "metadata": {},
   "source": [
    "В предположении нормальности ошибок построить доверительные интервалы для параметров $\\beta_{0}$, $\\beta_{1}$, $\\beta_{2}$  уровня доверия 1 − $\\alpha$. Написать уравнение доверительного эллипса уровня доверия 1 − $\\alpha$."
   ]
  },
  {
   "cell_type": "markdown",
   "id": "0eed91be-5ae0-45a0-ac40-6ecec53fd989",
   "metadata": {},
   "source": [
    "1. $\\psi=C^{T}\\beta $\n",
    "2. $b_{\\psi}=C^{T}(XX^{T})^{-1}C$\n",
    "3. $\\cfrac{\\widehat{\\psi}-\\psi}{s\\sqrt{b}}\\sim S_{n-r}$\n",
    "### Доверительный интервал:\n",
    "1. $ P_{\\theta}(-x_{\\alpha}\\le\\cfrac{\\widehat{\\psi}-\\psi}{s\\sqrt{b}}\\le x_{\\alpha}) = 1-\\alpha $\n",
    "    <br> $x_{\\alpha}:S_{n-r}(x_{\\alpha})=1 -\\frac{\\alpha}{2}$\n",
    "2. $\\widehat{\\psi} -x_{\\alpha}s\\sqrt{b}\\le\\psi\\le\\widehat{\\psi}-x_{\\alpha}s\\sqrt{b} $- доверительный интервал для $\\psi$\n",
    "3. $\\beta_{0}:$\n",
    "    <br> $\\psi_{\\beta_{0}} = \\begin{pmatrix}1 \\\\ 0 \\\\ 0\\end{pmatrix}^{\\intercal}\\cdot \\begin{pmatrix}\\beta_{0} \\\\ \\beta_{1} \\\\ \\beta_{2}\\end{pmatrix}$\n",
    "    <br> $b_{\\psi_{\\beta_{0}}} =  \\begin{pmatrix}1 & 0 & 0\\end{pmatrix} (XX^{\\intercal})^{-1} \\begin{pmatrix}1 \\\\ 0 \\\\ 0\\end{pmatrix}$ \n",
    "4. $\\beta_{1}:$\n",
    "    <br> $\\psi_{\\beta_{1}} = \\begin{pmatrix}0 \\\\ 1 \\\\ 0\\end{pmatrix}^{\\intercal} \\cdot  \\begin{pmatrix}\\beta_0 \\\\ \\beta_{1} \\\\ \\beta_{2}\\end{pmatrix}$\n",
    "    <br> $b_{\\psi_{\\beta_{1}}}=\\begin{pmatrix}0 & 1 & 0\\end{pmatrix} (XX^{\\intercal})^{-1}\\begin{pmatrix}0 \\\\ 1 \\\\ 0\\end{pmatrix}$\n",
    "5. $\\beta_{2}:$\n",
    "    <br> $\\psi_{\\beta_{1}} = \\begin{pmatrix}0 \\\\ 0 \\\\ 1\\end{pmatrix}^{\\intercal} \\cdot  \\begin{pmatrix}\\beta_{0} \\\\ \\beta_{1} \\\\ \\beta_{2}\\end{pmatrix}$\n",
    "    <br> $b_{\\psi_{\\beta_{1}}} =  \\begin{pmatrix}0 & 0 & 1\\end{pmatrix} (XX^{\\intercal})^{-1} \\begin{pmatrix}0 \\\\ 0 \\\\ 1\\end{pmatrix}$\n",
    "6. $x_{\\alpha} = S^{-1}_{n - 2}(1 - \\frac{\\alpha}{2})$\n",
    "### Доверительный эллипс\n",
    "1. $A_{\\alpha}=\\{x:(x-\\widehat{\\psi})^{T}(C^{T}(XX^{T})^{-1}C)^{-1}(x-\\widehat{\\psi})\\le qs^{2}x_{\\alpha}\\}$\n",
    "    <br> $x_{\\alpha} = F_{q,n-r}(x_{\\alpha})=1-\\alpha$\n",
    "2. $C=\\begin{pmatrix}1 & 0 & 0\\\\0 & 1 & 0\\\\0 & 0 & 1\\end{pmatrix}$\n",
    "3. Пусть $\\begin{pmatrix}x\\\\y\\end{pmatrix}=P(\\widehat{\\psi}-\\psi)$\n",
    "    <br> P - матрица собственных векторов.\n",
    "#### Уравнение доверительного эллипса:\n",
    "1. $(\\widehat{\\psi}-\\psi)^{T}(C^{T}(XX^{T})^{-1}C)^{-1}(\\widehat{\\psi}-\\psi)=\\lambda_{1}x^{2}+\\lambda_{2}y^{2}+\\lambda_{2} z^{2}\\le qs^{2}x_{\\alpha}$\n",
    "    <br> $\\lambda_{1}$ и $\\lambda_{2}$ - собственные числа матрицы $XX^{T}$\n",
    "2. $\\cfrac{\\lambda_{1}}{qs^{2}x_{\\alpha}}x^{2} + \\cfrac{\\lambda_{2}}{qs^{2}x_{\\alpha}}y^{2}+\\cfrac{\\lambda_{2}}{qs^{2}x_{\\alpha}}z^{2} \\le 1$"
   ]
  },
  {
   "cell_type": "code",
   "execution_count": 5,
   "id": "9f1882cf-b0fc-479a-9454-a1085d9ba38d",
   "metadata": {},
   "outputs": [
    {
     "name": "stdout",
     "output_type": "stream",
     "text": [
      "Phi_0:  10.352673167451293\n",
      "Phi_1:  0.906338264962998\n",
      "Phi_2:  -0.44290181573637877\n",
      "b_Phi_0:  0.12788612418740183\n",
      "b_Phi_1:  0.24680564895763243\n",
      "b_Phi_2:  0.02241649854292756\n",
      "Квантиль x_a = 1.6772241953450393\n",
      "Доверительный интервал для параметра B_0:\n",
      "[ 6.51063322 14.19471312]\n",
      "Доверительный интервал для параметра B_1:\n",
      "[-4.43103667  6.2437132 ]\n",
      "Доверительный интервал для параметра B_2:\n",
      "[-2.05144992  1.16564628]\n",
      "[[1 0 0]\n",
      " [0 1 0]]\n",
      "Доверительный эллипс:\n",
      "Собственные числа:\n",
      "[1342.38748569   28.84778161    2.7647327 ]\n",
      "Собственные векторы:\n",
      "[[-0.14767673 -0.35378799 -0.92359387]\n",
      " [-0.83119096 -0.46170352  0.30976031]\n",
      " [ 0.53601602 -0.81342727  0.22588251]]\n",
      "Большая полуось:  0.39217173016752727\n",
      "Малая полуось:  2.675217032438984\n"
     ]
    }
   ],
   "source": [
    "import numpy as np\n",
    "import scipy\n",
    "import scipy.stats as stats\n",
    "import matplotlib.pyplot as plt\n",
    "from scipy.stats import chi2\n",
    "from numpy.linalg import matrix_rank\n",
    "Y = np.array([12.71, 9.61, 13.06, 10.72, 26.19, 4.73, 17.36, 5.99, 14.66, 1.91, 6.28, 26.94, 17.30, 2.23, 5.90, 12.01, 15.35, 19.10, 14.80, 13.64, 18.02, 2.33, 14.35, 2.95, 9.41, 2.29, 3.48, 2.97, 8.46, 5.48, 19.89, 5.44, 9.96, 11.86, 14.02, 3.00, 0.23, 14.44, 6.36, 4.14, 7.33, 11.69, 12.14, 14.71, 0.41, 5.43, 11.09, 11.94, 12.80, 15.08])\n",
    "X = np.array([0, 0, 3, 3, 1, 2, 0, 1, 1, 1, 3, 1, 0, 0, 3, 3, 2, 2, 2, 0, 3, 1, 2, 0, 2, 1, 2, 1, 2, 2, 2, 1, 1, 2, 2, 3, 2, 1, 3, 3, 1, 3, 1, 1, 1, 3, 1, 2, 2, 1])\n",
    "D = 0\n",
    "n=50\n",
    "a = 0.1\n",
    "h = 3\n",
    "\n",
    "c_0=np.array([1,0,0])\n",
    "c_t_0=c_0.T\n",
    "c_1=np.array([0,1,0])\n",
    "c_t_1=c_1.T\n",
    "c_2=np.array([0,0,1])\n",
    "c_t_2=c_2.T\n",
    "\n",
    "Phi_0=0\n",
    "Phi_1=0\n",
    "b_Phi_0=0\n",
    "b_Phi_1=0\n",
    "\n",
    "X_m = np.array([[1]*n, [X[i] for i in range(n)], [X[i]**2 for i in range(n)]])\n",
    "X_t = np.dot(X_m, X_m.T)\n",
    "X_t_1 = np.linalg.inv(X_t)\n",
    "B = np.dot(np.dot(X_t_1, X_m), Y)\n",
    "r = np.linalg.matrix_rank(X_m)\n",
    "D = np.dot((Y-np.dot(X_m.T, B)).T,(Y-np.dot(X_m.T, B)))\n",
    "s = D/(n-r)\n",
    "\n",
    "Phi_0=np.dot(c_t_0,B)\n",
    "Phi_1=np.dot(c_t_1,B)\n",
    "Phi_2=np.dot(c_t_2,B)\n",
    "X_0=np.dot(X,X.T)\n",
    "b_Phi_0=np.dot(np.dot(c_0,X_t_1),c_t_0)\n",
    "b_Phi_1=np.dot(np.dot(c_1,X_t_1),c_t_1)\n",
    "b_Phi_2=np.dot(np.dot(c_2,X_t_1),c_t_2)\n",
    "print(\"Phi_0: \",Phi_0)\n",
    "print(\"Phi_1: \",Phi_1)\n",
    "print(\"Phi_2: \",Phi_2)\n",
    "print(\"b_Phi_0: \",b_Phi_0)\n",
    "print(\"b_Phi_1: \",b_Phi_1)\n",
    "print(\"b_Phi_2: \",b_Phi_2)\n",
    "\n",
    "func = stats.t(n-2)\n",
    "x_a = func.ppf(1-a/2)\n",
    "print(\"Квантиль x_a =\", x_a)\n",
    "\n",
    "print(\"Доверительный интервал для параметра B_0:\")\n",
    "Int_B_0=np.array([B[0]-x_a*np.sqrt(s)*np.sqrt(b_Phi_0),B[0]+x_a*np.sqrt(s)*np.sqrt(b_Phi_0)])\n",
    "print(Int_B_0)\n",
    "print(\"Доверительный интервал для параметра B_1:\")\n",
    "Int_B_1=np.array([B[1]-x_a*np.sqrt(s)*np.sqrt(b_Phi_1),B[1]+x_a*np.sqrt(s)*np.sqrt(b_Phi_1)])\n",
    "print(Int_B_1)\n",
    "print(\"Доверительный интервал для параметра B_2:\")\n",
    "Int_B_2=np.array([B[2]-x_a*np.sqrt(s)*np.sqrt(b_Phi_2),B[2]+x_a*np.sqrt(s)*np.sqrt(b_Phi_2)])\n",
    "print(Int_B_2)\n",
    "\n",
    "C=np.array([c_t_0,c_t_1])\n",
    "print(C)\n",
    "\n",
    "print(\"Доверительный эллипс:\")\n",
    "eig_v, eig_vec = np.linalg.eig(X_t)\n",
    "print(\"Собственные числа:\")\n",
    "print(eig_v)\n",
    "print(\"Собственные векторы:\")\n",
    "print(eig_vec.T)\n",
    "b_os = np.sqrt((r*s*x_a)/eig_v[0])\n",
    "m_os = np.sqrt((r*s*x_a)/eig_v[1])\n",
    "print(\"Большая полуось: \",b_os)\n",
    "print(\"Малая полуось: \",m_os)"
   ]
  },
  {
   "cell_type": "markdown",
   "id": "338ccb4f-223c-423e-9dd2-60a8bbaeb2ce",
   "metadata": {},
   "source": [
    "### Задание 8"
   ]
  },
  {
   "cell_type": "markdown",
   "id": "3b8dba07-0b7d-42d6-abba-afded63e1873",
   "metadata": {},
   "source": [
    "<br> Сформулировать гипотезу линейной регрессинной зависимости переменной Y от переменной X и проверить её значимость на уровне $\\alpha$."
   ]
  },
  {
   "cell_type": "markdown",
   "id": "a1721644-1919-49c1-9612-048adc6479e5",
   "metadata": {},
   "source": [
    "1. Гипотезы: \n",
    "    <br> Основная: $H_{0}:\\beta_{1} = 0$\n",
    "    <br> Альтернативная: $H_{1}:\\beta_{1} \\neq 0$\n",
    "2. $\\psi=C^{T}\\beta $\n",
    "3. $C=\\begin{pmatrix}0 \\\\ 0 \\\\ 1\\end{pmatrix}$ \n",
    "4. $\\widehat{\\psi} = \\widehat{\\beta_{1}}$\n",
    "5. $b_{\\psi_{\\widehat{\\beta_{1}}}} =  \\begin{pmatrix}0 & 0 & 1\\end{pmatrix} (XX^{\\intercal})^{-1} \\begin{pmatrix}0 \\\\ 0 \\\\ 1\\end{pmatrix}$\n",
    "6. $\\mathcal{F} = \\cfrac{\\widehat{\\psi}^{T} ((C^{T} (XX^{T})^{-1}C)^{-1}) \\widehat{\\psi}}{qs^{2}} \\sim F_{q, n-r}$\n",
    "7. Так как $\\widehat{\\psi} = \\widehat{\\beta_{1}}$\n",
    "    <br> $\\mathcal{F} = \\cfrac{{\\widehat{\\beta_{1}}}^{2}}{bqs^{2}} $"
   ]
  },
  {
   "cell_type": "code",
   "execution_count": 13,
   "id": "61581b3e-59a9-44c3-8bf9-47c382499c43",
   "metadata": {},
   "outputs": [
    {
     "name": "stdout",
     "output_type": "stream",
     "text": [
      "B_1:  0.02241649854292756\n",
      "F_nabl:  0.8930890519716337\n",
      "x_a:  2.813081004064934\n",
      "F_nabl < x_a: Гипотеза принимается\n"
     ]
    }
   ],
   "source": [
    "import numpy as np\n",
    "import scipy\n",
    "import scipy.stats as stats\n",
    "import matplotlib.pyplot as plt\n",
    "from scipy.stats import chi2\n",
    "from numpy.linalg import matrix_rank\n",
    "Y = np.array([12.71, 9.61, 13.06, 10.72, 26.19, 4.73, 17.36, 5.99, 14.66, 1.91, 6.28, 26.94, 17.30, 2.23, 5.90, 12.01, 15.35, 19.10, 14.80, 13.64, 18.02, 2.33, 14.35, 2.95, 9.41, 2.29, 3.48, 2.97, 8.46, 5.48, 19.89, 5.44, 9.96, 11.86, 14.02, 3.00, 0.23, 14.44, 6.36, 4.14, 7.33, 11.69, 12.14, 14.71, 0.41, 5.43, 11.09, 11.94, 12.80, 15.08])\n",
    "X = np.array([0, 0, 3, 3, 1, 2, 0, 1, 1, 1, 3, 1, 0, 0, 3, 3, 2, 2, 2, 0, 3, 1, 2, 0, 2, 1, 2, 1, 2, 2, 2, 1, 1, 2, 2, 3, 2, 1, 3, 3, 1, 3, 1, 1, 1, 3, 1, 2, 2, 1])\n",
    "D = 0\n",
    "n=50\n",
    "a = 0.1\n",
    "h = 3\n",
    "\n",
    "c=np.array([0,0,1])\n",
    "c_t=c.T\n",
    "\n",
    "X_m = np.array([[1] * n, [X[i] for i in range(n)], [X[i]**2 for i in range(n)]])\n",
    "X_t = np.dot(X_m, X_m.T)\n",
    "X_t = np.dot(X_m, X_m.T)\n",
    "X_t_1 = np.linalg.inv(X_t)\n",
    "B = np.dot(np.dot(X_t_1, X_m), Y)\n",
    "r = np.linalg.matrix_rank(X_m)\n",
    "D = np.dot((Y-np.dot(X_m.T, B)).T,(Y-np.dot(X_m.T, B)))\n",
    "s = D/(n-r)\n",
    "\n",
    "B_1 = np.dot(np.dot(c.T, X_t_1), c)\n",
    "print(\"B_1: \",B_1)\n",
    "\n",
    "F_nabl = B[1]**2 / (B_1*1*s)\n",
    "print(\"F_nabl: \",F_nabl)\n",
    "\n",
    "func = stats.f(1, n - 2)\n",
    "x_a = func.ppf(1 - a)\n",
    "print(\"x_a: \",x_a)\n",
    "\n",
    "if F_nabl < x_a:\n",
    "    print(\"F_nabl < x_a: Гипотеза принимается\")\n",
    "else:\n",
    "    print(\"F_nabl > x_a: Гипотеза отвергается\")\n"
   ]
  },
  {
   "cell_type": "markdown",
   "id": "ded69bc2-96b1-46b1-af52-2f3d29161f98",
   "metadata": {},
   "source": [
    "## Выводы\n",
    "В ходе данной лабораторной работы были изучены основные теоретические положения формулировки линейной регрессионной модели с использованием метода наименьших квадратов (МНК).\n",
    "Также проведен анализ нормальности ошибок, построены доверительные интервалы и эллипсы.\n",
    "Были построены несмещенные оценки дисперсии, проверена гипотеза о нормальности ошибок на уровне значимости $\\alpha$ по $\\chi2 $ и оценено расстояние до класса нормальных распределений по Колмогорову. \n",
    "Проведена проверка гипотезы о независимости переменной Y от переменной X и линейной зависимости Y от X с введением дополнительного параметра."
   ]
  },
  {
   "cell_type": "code",
   "execution_count": null,
   "id": "854c5583-a331-4c4b-8552-3a67bd7cbf4b",
   "metadata": {},
   "outputs": [],
   "source": []
  }
 ],
 "metadata": {
  "kernelspec": {
   "display_name": "Python 3 (ipykernel)",
   "language": "python",
   "name": "python3"
  },
  "language_info": {
   "codemirror_mode": {
    "name": "ipython",
    "version": 3
   },
   "file_extension": ".py",
   "mimetype": "text/x-python",
   "name": "python",
   "nbconvert_exporter": "python",
   "pygments_lexer": "ipython3",
   "version": "3.8.0"
  }
 },
 "nbformat": 4,
 "nbformat_minor": 5
}
