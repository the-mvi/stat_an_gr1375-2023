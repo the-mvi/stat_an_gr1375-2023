{
 "cells": [
  {
   "cell_type": "markdown",
   "id": "bbcf1335-d822-447e-bddd-78fde94f0ec6",
   "metadata": {},
   "source": [
    "# Практическая работа №2: Классические методы математической статистики\n",
    "Выполнил студент гр. 1375 Авдеев Георгий. Вариант №1"
   ]
  },
  {
   "cell_type": "markdown",
   "id": "13a744be-45c1-4994-99f3-3c0c2dae8ca4",
   "metadata": {},
   "source": [
    "## Цель работы\n",
    "Научится применять методы математической статистики для решения задач статистического анализа; сформировать навыки реализации методов с помощью прикладных программных пакетов."
   ]
  },
  {
   "cell_type": "markdown",
   "id": "0aff532c-7a5c-47b7-a6ec-074e381baaea",
   "metadata": {},
   "source": [
    "## Основные теоретические положения\n",
    "### Выборочные числовые характеристики:\n",
    "<br>a. Мат.ожидание $\\overline{X}=\\frac{1}{n}\\sum_{i=1}^{n}X_{i}$\n",
    "<br>b. Дисперсия $S^{2}=\\frac{1}{n}\\sum_{i=1}^{n}\\left( X_{i}-\\overline{X} \\right)^{2}=\\overline{X^{2}}-\\overline{X}^{2}$\n",
    "<br>c. Коэф.асимметрии (скошености) $\\widehat{S_{kew}}X=\\frac{\\left(\\frac{1}{n}\\sum_{i=1}^{n}\\left( X_{i}-\\overline{X} \\right)^{3} \\right)}{S^{3}}$\n",
    "<br>d. Коэф.эксцесса (островершинности) $\\widehat{K_{urt}}X=\\frac{\\frac{1}{n}\\sum_{i=1}^{n}\\left( X_{i}-\\overline{X}^{4} \\right)}{S^{4}}-3$ <br>\n",
    "### Оценка Максимального Правдоподобия (ОМП):\n",
    "Если $X_{1},...,X_{n}$-выборка из распределения с плотностью распределения $P_{\\theta}, \\theta\\in \\Theta$, то\n",
    "<br>a. Функция правдоподобия распадается в произведения $L(\\overrightarrow{X},\\theta)=\\prod_{i=1}^{n}P_{\\theta}(X_{i})$\n",
    "<br>b. Логарифм функции правдоподобия представляется в виде суммы $LL(\\overrightarrow{X},\\theta)=\\ln L(\\overrightarrow{X},\\theta)=\\sum_{i=1}^{n}\\ln P_{\\theta}(X_{i})$\n",
    "<br>c. В силу монотонности логарифма задача максимизации функции правдоподобия сводится к задаче максимизации ее логарифма по всем $\\theta\\in \\Theta  LL(\\overrightarrow{X}),\\theta=\\sum_{i=1}^{n}\\ln P_{\\theta}(X_{i})$\n",
    "<br>d. Если $\\theta$ - d-мерный параметр и $P_{\\theta}$ дифференцируема по $\\theta$, то для нахождения максимума надо найти решения системы уравнений: U$(\\overrightarrow{X},\\theta)=\\frac{\\partial }{\\partial \\theta}LL(\\overrightarrow{X},\\theta)=0, i=\\overline{1,d}$ <br>\n",
    "### Оценка метода моментов (ОММ)\n",
    "Пусть $X_{1},...,X_{n}$-выбока из распределения $P_{\\theta}, \\theta=(\\theta_{1},...,\\theta_{d})$\n",
    "$\\exists \\mu_{k}(\\theta)=\\mathbb{E}X^{k}_{1}, k=\\overline{1,d}$\n",
    "Если $\\exists$ ! решение $\\widetilde{\\theta}(X)$ системы уравнений: $\\widehat{\\mu^{k}}(\\widetilde{\\theta})=\\mu_{k}(\\theta), k=\\overline{1,d}$, где $\\widetilde{\\theta}(X)=\\frac{1}{n}\\sum_{i=1}^{n}X^{k}_{i}$-выборочный момент k-го порядка, то $\\widetilde{\\theta}(X)$ называется оценкой по методу моментов\n",
    "### НРМД-оценки (несмещенная оценка)\n",
    "<br>a. Оценка $\\widehat{\\theta}(X)$ параметра $\\theta$ называется несмещенной, если при любом значении параметра $\\theta\\in \\Theta: \\mathbb{E}\\widehat{\\theta}(X)=\\theta$\n",
    "<br>b. Смещением оценки называется величина: $bias_{\\widehat{\\theta}}(\\theta)=\\mathbb{E}_{\\theta}\\widehat{\\theta}(X)-\\theta$\n",
    "#### Алгоритм несмещенного оценивания:\n",
    "<br>a. Найти оценку $\\widehat{\\theta}(T)$, являющуюся функцией от минимальной достаточной статистики T(e.g.ОМП)\n",
    "<br>b. Доказать полноту МДС T\n",
    "<br>c. Скорректировать смещение:$\\widetilde{\\theta}(T)=f(\\widehat{\\theta}(T),T): \\mathbb{E}_{\\theta}\\widetilde{\\theta}(T)=\\theta,\\forall \\theta\\in \\Theta$\n",
    "### Асимптотический доверительный интервал (АДИ)\n",
    "<br>a. На базе Асимптотической нормальности оценки $\\widehat{\\theta}$\n",
    "<br>a.1 Асимптотическая нормальность $\\sqrt{n}\\left( \\widehat{\\theta}(\\overrightarrow{X})-\\theta)\\right)\\sim \\mathcal{N}\\left(0,\\sigma^{2}(\\theta)\\right)$\n",
    "<br>a.2 Тогда $\\sqrt{n}\\frac{\\widehat{\\theta}(\\overrightarrow{X})-\\theta}{\\sigma\\left(\\widehat{\\theta}(\\overrightarrow{X})\\right)}$    \n",
    "<br>a.3 Выбираем $X_{\\alpha}: \\Phi(X_{\\alpha})=1-\\frac{\\alpha}{2}$\n",
    "<br>a.4 А.Д.И. $\\left[ \\widehat{\\theta}(\\overrightarrow{X})-\\frac{X_{\\alpha}\\cdot \\sigma\\left( \\widehat{\\theta}(\\overrightarrow{X}) \\right)}{\\sqrt{n}}; \\widehat{\\theta}(\\overrightarrow{X})+\\frac{X_{\\alpha}\\cdot \\sigma\\left( \\widehat{\\theta}(\\overrightarrow{X}) \\right)}{\\sqrt{n}}\\right]$\n",
    "<br>b. на базе ОМП\n",
    "<br>b.1 Пусть $\\widehat{\\theta}(\\overrightarrow{X})$-ОМП\n",
    "<br>b.2 При выполнении опр.условий регулярности: $\\sqrt{n}\\left( \\widehat{\\theta}(\\overrightarrow{X})-\\theta)\\right)\\sim \\mathcal{N}\\left(0,\\frac{1}{I(\\theta)}\\right), I(\\theta)=-\\mathbb{E}\\left( \\frac{\\partial^{2} LL}{\\partial \\theta^{2}} \\right)$-информация Фишера\n",
    "<br>b.3 Тогда $\\sqrt{n\\cdot I\\left( \\widehat{\\theta}(\\overrightarrow{X}) \\right)}\\cdot \\left( \\widehat{\\theta}(\\overrightarrow{X})-\\theta \\right)\\sim \\mathcal{N}(0,1)$\n",
    "<br>b.4 Выбираем $X_{\\alpha}: \\Phi(X_{\\alpha})=1-\\frac{\\alpha}{2}$\n",
    "<br>b.5 А.Д.И $\\left[ \\widehat{\\theta}(\\overrightarrow{X})-\\frac{X_{\\alpha}}{\\sqrt{n\\cdot I\\left( \\widehat{\\theta}(\\overrightarrow{X}) \\right)}};\\widehat{\\theta}(\\overrightarrow{X})+\\frac{X_{\\alpha}}{\\sqrt{n\\cdot I\\left( \\widehat{\\theta}(\\overrightarrow{X}) \\right)}} \\right]$\n",
    "### Критерий $\\chi^2$ для проверки гипотез\n",
    "<br>a. основан на справнении теоритической плотности распределения и гистограммы, либо теоритической вероятностной меры и полигона частот.\n",
    "<br>b. Разобъем множество значений сл. вел. X на $N$ интервалов $I_{1}, ..., I_{N}:$ $I_{i} = (a_{i-1}, a_i], i = \\overline {1,N}$. данные интервалы не пересекаются и покрывают всё множество возможных значений сл. вел. X.\n",
    "Обозначим через $p_{i}$ теоритическую вероятность попадания сл. вел. X в интервал $I_{i}$, при условии, что справедлива $H_{0}$.\n",
    "<br>c. $p_{i} = P(X \\in I_{i}|H_{0})$\n",
    "<br>d. Через $n_{i}$ обозначим число наблюдений нашей выборки, попавших в соответветствующий интервал $I_{i}$.\n",
    "<br>e. $n_{i} = num(x_{j} \\in I_{i})$\n",
    "#### Статистика критерия основана на сравнении относительной частоты и теоритической.\n",
    "<br>a. $\\chi^{2}_{набл} = \\sum \\limits_{i=1}^{N} \\frac{n}{p_{i}} \\bigg ( \\frac{n_{i}}{n} - p_{i} \\bigg )^{2} = \\sum \\limits_{i=1}^{N} \\frac{(n_{i} - p_{i} n)^{2}}{n p_{i}} \\sim \\chi^{2}_{N-1}$\n",
    "<br>b. Если $\\mathcal{X}^{2}_{N-1,1-\\alpha_{1}} \\lt \\chi^2_{набл}$, то гипотезу отвергаем\n",
    "<br>c. Если $\\mathcal{X}^{2}_{N-1,1-\\alpha_{1}} \\gt \\chi^2_{набл}$, то гипотезу принимаем\n",
    "### теорема Колмогорова\n",
    "<br>a. $D_{n}(\\overrightarrow{X}) = \\overset{}{\\underset{X \\in \\mathbb R}{sup}} |F_{0}(X_{i}) - F_{n}(X_{i})|$\n",
    "<br>b. Если гипотеза $H_{0}$ верна, и $F_{0}(X)$ - непрерывная ф-я на $\\mathbb R$, тогда имеет место сходимость\n",
    "<br>c. $P(\\sqrt{n} D_{n}(\\overrightarrow{X}) < z) \\xrightarrow[n \\rightarrow \\infty]{} K(z)$, где\n",
    "<br>d. $K(z)=1-\\alpha$ - ф-я распределения Колмогорова.\n",
    "<br>e. Если $D_{n} \\lt z$, то гипотезу принимаем\n",
    "<br>f. Если $D_{n} \\gt z$, то гипотезу отвергаем\n",
    "### Наиболее мощный критерий простой гипотезы\n",
    "<br>a. Для основной гипотезы $H_{0}: \\theta=\\theta_{0}$ и альтернативной гипотезы $H_{1}: \\theta=\\theta_{1}$, где $\\theta_{0}$ и $\\theta_{1}$ - фиксированные параметры, мы можем построить статистику правдоподобия:\n",
    "<br>b. $LR(\\overrightarrow{X},\\theta_{1},\\theta_{0})=\\frac{L(\\overrightarrow{X},\\theta_{1})}{L(\\overrightarrow{X},\\theta_{0})}=\\frac{P_{\\theta_{1}}(X)}{P_{\\theta_{0}}(X)}$ - статистика отношений правдоподобия\n",
    "где $L(\\overrightarrow{X},\\theta_{1})$ - функция правдоподобия для альтернативной гипотезы, а $L(\\overrightarrow{X}\\theta_{0})$ - функция правдоподобия для основной гипотезы.\n",
    "<br>c. Наиболее мощным критерием будет критическая область, в которой наблюдаемое значение статистики правдоподобия       $LR(\\overrightarrow{X},\\theta_{1},\\theta_{0})$ будет отклоняться от значения 1 в сторону более высоких значений.\n",
    "Чтобы построить критическую область, мы должны задать уровень значимости $\\alpha$ - вероятность ошибки первого рода. Затем мы находим критическое значение $c$ такое, что $P\\left(LR(\\overrightarrow{X},\\theta_{1},\\theta_{0}) > c | H_{0} \\right) = \\alpha$, где $P\\left(LR(\\overrightarrow{X},\\theta_{1},\\theta_{0}) > c | H_{0}\\right)$ - вероятность получить наблюдаемое значение статистики правдоподобия, большее или равное $c$, при условии, что основная гипотеза верна.\n",
    "<br>d. $LR(\\overrightarrow{X},\\theta_{1},\\theta_{0})\\gt c$, то принимаем основную гипотезу\n",
    "<br>e. $LR(\\overrightarrow{X},\\theta_{1},\\theta_{0})\\lt c$, то отвергаем основную гипотезу"
   ]
  },
  {
   "cell_type": "markdown",
   "id": "9ce819ba-97d5-48ee-8e31-571ddbacbc49",
   "metadata": {},
   "source": [
    "## Постановка задачи\n",
    "Для полученных в результате эксперимента наборов данных выполнить статистическую обработку. Полученные результаты содержательно проинтерпретировать."
   ]
  },
  {
   "cell_type": "markdown",
   "id": "7bfd2494-43dc-4b96-8f4d-7ef1d9b68358",
   "metadata": {},
   "source": [
    "## Выполнение работы"
   ]
  },
  {
   "cell_type": "markdown",
   "id": "df606e21-17fd-4c3f-8e91-c2d00ded080f",
   "metadata": {},
   "source": [
    "## Задание 1"
   ]
  },
  {
   "cell_type": "markdown",
   "id": "d4b25a17-d417-4e0d-82fe-d4a7b7ef9f19",
   "metadata": {},
   "source": [
    "## a) \n",
    "<br> Построить вариационный ряд, эмпирическую функцию распределения и гистограмму частот\n",
    "### Функция распределения выборки\n",
    "<br>$n = 27+15+6+1+1=50$\n",
    "<br>$F_{50}\\left(x\\leq0\\right)=\\frac{0}{50}=0$\n",
    "<br>$F_{50}\\left(0<x\\leq1\\right)=\\frac{27}{50}=0.54$\n",
    "<br>...\n",
    "<br>$F_{50}\\left(3<x\\leq5\\right)=\\frac{27+15+6+1}{50}=0.98$\n",
    "<br>$F_{50}\\left(x>5\\right)=1$\n",
    "### Гистограмма частот\n",
    "<br>$[0,1) - \\frac{27}{50}=0.54$\n",
    "<br>$(1,2) - \\frac{15}{50}=0.3$\n",
    "<br>$(2,3) - \\frac{6}{50}=0.12$\n",
    "<br>$(3,5] - \\frac{2}{50}=0.04$\n"
   ]
  },
  {
   "cell_type": "code",
   "execution_count": 2,
   "id": "f072ccd0-5a5d-42bc-b392-457bcdf7211c",
   "metadata": {},
   "outputs": [
    {
     "name": "stdout",
     "output_type": "stream",
     "text": [
      "[0 0 0 0 0 0 0 0 0 0 0 0 0 0 0 0 0 0 0 0 0 0 0 0 0 0 0 1 1 1 1 1 1 1 1 1 1\n",
      " 1 1 1 1 1 2 2 2 2 2 2 3 5]\n",
      "Вариационный ряд:\n",
      "Наблюдения - Значения\n",
      "0  -  27\n",
      "1  -  15\n",
      "2  -  6\n",
      "3  -  1\n",
      "5  -  1\n"
     ]
    }
   ],
   "source": [
    "import numpy as np\n",
    "import matplotlib.pyplot as plt\n",
    "from scipy import stats\n",
    "data = [0, 1, 0, 0, 0, 1, 0, 1, 0, 2, 0, 0, 0, 1, 0, 1, 1, 0, 1, 0, 0, 5, 1, 0, 2, 0, 0, 0, 0, 0, 0, 0, 1, 1, 2, 0, 1, 0, 1, 1, 2, 0, 0, 1, 1, 0, 3, 0, 2, 2]\n",
    "n = len(data)\n",
    "sorted_data = np.sort(data)\n",
    "Frequency_0 = 0\n",
    "Frequency_1 = 0\n",
    "Frequency_2 = 0\n",
    "Frequency_3 = 0\n",
    "Frequency_5 = 0\n",
    "for x in range(len(data)):\n",
    "    if data[x] == 0:\n",
    "        Frequency_0 = Frequency_0 + 1\n",
    "    elif data[x] == 1:\n",
    "        Frequency_1 = Frequency_1 + 1\n",
    "    elif data[x] == 2:\n",
    "        Frequency_2 = Frequency_2 + 1\n",
    "    elif data[x] == 3:\n",
    "        Frequency_3 = Frequency_3 + 1\n",
    "    elif data[x] == 5:\n",
    "        Frequency_5 = Frequency_5 + 1\n",
    "print(sorted_data)\n",
    "X = np.unique(sorted_data)\n",
    "print(\"Вариационный ряд:\")\n",
    "print(\"Наблюдения - Значения\")\n",
    "print(X[0], \" - \", Frequency_0)\n",
    "print(X[1], \" - \", Frequency_1)\n",
    "print(X[2], \" - \", Frequency_2)\n",
    "print(X[3], \" - \", Frequency_3)\n",
    "print(X[4], \" - \", Frequency_5)\n",
    "\n",
    "\n",
    "point_y = [0, 0.54, 0.54, 0.84, 0.84, 0.96, 0.96, 0.98, 0.98]\n",
    "point_x = [0, 0, 1, 1, 2, 2, 3, 3, 5]"
   ]
  },
  {
   "cell_type": "code",
   "execution_count": 3,
   "id": "61b85d3a-a157-43c8-a9e5-ddd55683d9d8",
   "metadata": {},
   "outputs": [
    {
     "data": {
      "image/png": "[encoded data removed]",
      "text/plain": [
       "<Figure size 640x480 with 1 Axes>"
      ]
     },
     "metadata": {},
     "output_type": "display_data"
    }
   ],
   "source": [
    "plt.subplot()\n",
    "plt.step(point_x, point_y, color='g')\n",
    "plt.xlabel('Значения')\n",
    "plt.ylabel('Вероятность')\n",
    "plt.title('Эмпирическая функция')\n",
    "plt.show()"
   ]
  },
  {
   "cell_type": "code",
   "execution_count": 4,
   "id": "01dca695-8ee6-4109-ae42-3a33d72502c5",
   "metadata": {},
   "outputs": [
    {
     "data": {
      "image/png": "[encoded data removed]",
      "text/plain": [
       "<Figure size 640x480 with 1 Axes>"
      ]
     },
     "metadata": {},
     "output_type": "display_data"
    }
   ],
   "source": [
    "plt.subplot()\n",
    "plt.hist(sorted_data, bins=range(min(sorted_data), max(sorted_data) + 1), density=True)\n",
    "plt.xlabel('Значение')\n",
    "plt.ylabel('Относительная частота')\n",
    "plt.title('Гистограмма частот')\n",
    "plt.show()"
   ]
  },
  {
   "cell_type": "markdown",
   "id": "2f80ca91-a217-486d-8c1a-7a9666c067f2",
   "metadata": {},
   "source": [
    "## b)\n",
    "<br> Вычислить выборочные аналоги слеующих числовых характеристик: (i)математическое ожидание, (ii)дисперсия, (iii)СКО, (iv)медианы, (v)асимметрии, (vi) эксцесса, (vii) вероятности $\\mathrm{P}(X\\in \\left[ a,b \\right])$\n",
    "### Мат.ожидание\n",
    "<br> $M\\left(x\\right)=\\frac{0*27+1*15+2*6+3*1+5*1}{50}=0.7$\n",
    "### Дисперсия\n",
    "<br> $\\sum_{i=1}^{50}x_{i}=35$\n",
    "<br> $\\bar{x}=\\frac{\\sum_{i=1}^{50}x_{i}}{n}=\\frac{35}{50}=0.7$\n",
    "<br> $\\left(x_{i}-\\bar{x}\\right)=\\lbrace\\left(0-0.7\\right),\\left(1-0.7\\right),\\left(2-0.7\\right),\\left(3-0.7\\right),\\left(5-0.7\\right)\\rbrace=\\lbrace-0.7, 0.3, 1.3, 2.3, 4.3\\rbrace$\n",
    "<br> $\\left(x_{i}-\\bar{x}\\right)^2=\\lbrace0.49, 0.09, 1.69, 5.29, 18.49\\rbrace$\n",
    "<br> $D\\left(x\\right)=\\frac{\\sum_{i=1}^{50}\\left(x_{i}-\\bar{x}\\right)^2*n_{i}}{n}=\\frac{0.49*27+ 0.09*15+ 1.69*6+ 5.29*1+ 18.49*1}{50}=0.97$\n",
    "### СКО\n",
    "<br> $\\sigma = \\sqrt{D\\left(x\\right)}=\\sqrt{0.97}=0.984886$\n",
    "### Медиана\n",
    "<br> $000000000000000000000000(00)011111111111111122222235$\n",
    "<br> $M=\\frac{0+0}{2}=0$\n",
    "### Асимметрия\n",
    "<br> $\\frac{\\frac{1}{n}*\\sum_{i=1}^{50}\\left(x_{i}-\\bar{x}\\right)^3*n_{i}}{\\sigma^3}=\\frac{\\frac{1}{50}*\\left(-0.7\\right)^3*27+ 0.3^3*15+ 1.3^3*6+ 2.3^3*1+ 4.3^3*1}{0.984886^3}=2.00976$\n",
    "### Эксцесс\n",
    "<br> $\\frac{\\frac{1}{n}*\\sum_{i=1}^{50}\\left(x_{i}-\\bar{x}\\right)^4*n_{i}}{\\sigma^4}-3=\\frac{\\frac{1}{50}*\\left(-0.7\\right)^4*27+ 0.3^4*15+ 1.3^4*6+ 2.3^4*1+ 4.3^4*1}{0.984886^4}-3=8.36656-3=5.36656$\n",
    "### Вероятность\n",
    "<br> $P\\left(x\\in\\lbrack a,b \\rbrack\\right)=P\\left(x\\in\\lbrack 0,0.94 \\rbrack\\right)=\\frac{27}{50}=0.54$"
   ]
  },
  {
   "cell_type": "code",
   "execution_count": 6,
   "id": "45586d5e-8f1c-42bc-934e-bc68876990b5",
   "metadata": {},
   "outputs": [
    {
     "name": "stdout",
     "output_type": "stream",
     "text": [
      "[0 1 2 3 5]\n",
      "[27, 15, 6, 1, 1]\n",
      "Мат. ожидание:  0.7000000000000001\n",
      "Проверка:  0.7\n",
      "Выборочное среднее значение 0.7\n",
      "Дисперсия:  0.97\n",
      "Проверка:  0.9699999999999998\n",
      "СКО:  0.9848857801796105\n",
      "Проверка:  0.9848857801796104\n",
      "Медиана:  0.0\n",
      "Проверка:  0.0\n",
      "Асимметрия:  2.009757357790256\n",
      "Проверка:  2.009757357790257\n",
      "Эксцесс:  5.366563928153894\n",
      "Проверка:  5.3665639281539\n",
      "Вероятность попадания в промежуток [0,0.92] =  0.54\n"
     ]
    }
   ],
   "source": [
    "import numpy as np\n",
    "import matplotlib.pyplot as plt\n",
    "from scipy import stats\n",
    "from math import sqrt\n",
    "data = [0, 1, 0, 0, 0, 1, 0, 1, 0, 2, 0, 0, 0, 1, 0, 1, 1, 0, 1, 0, 0, 5, 1, 0, 2, 0, 0, 0, 0, 0, 0, 0, 1, 1, 2, 0, 1, 0, 1, 1, 2, 0, 0, 1, 1, 0, 3, 0, 2, 2]\n",
    "n = len(data)\n",
    "sorted_data = np.sort(data)\n",
    "Frequency_0 = 0\n",
    "Frequency_1 = 0\n",
    "Frequency_2 = 0\n",
    "Frequency_3 = 0\n",
    "Frequency_5 = 0\n",
    "for x in range(len(data)):\n",
    "    if data[x] == 0:\n",
    "        Frequency_0 = Frequency_0 + 1\n",
    "    elif data[x] == 1:\n",
    "        Frequency_1 = Frequency_1 + 1\n",
    "    elif data[x] == 2:\n",
    "        Frequency_2 = Frequency_2 + 1\n",
    "    elif data[x] == 3:\n",
    "        Frequency_3 = Frequency_3 + 1\n",
    "    elif data[x] == 5:\n",
    "        Frequency_5 = Frequency_5 + 1\n",
    "Frequency = [Frequency_0, Frequency_1, Frequency_2, Frequency_3, Frequency_5]\n",
    "X = np.unique(sorted_data)\n",
    "M = 0\n",
    "print(X)\n",
    "print(Frequency)\n",
    "for i in range(len(X)):\n",
    "    M = M + ((X[i]*Frequency[i])/n)\n",
    "print(\"Мат. ожидание: \", M)\n",
    "M_x = np.mean(data)\n",
    "print(\"Проверка: \", M_x)\n",
    "\n",
    "\n",
    "Sample_average = sum(data)/n\n",
    "print(\"Выборочное среднее значение\", Sample_average)\n",
    "D = 0\n",
    "for i in range(len(X)):\n",
    "    D = D + ((X[i]-Sample_average)**2*Frequency[i]/n)\n",
    "print(\"Дисперсия: \", D)\n",
    "D_x = np.var(data)\n",
    "print(\"Проверка: \", D_x)\n",
    "\n",
    "\n",
    "SKO = sqrt(D)\n",
    "print(\"СКО: \",SKO)\n",
    "SKO_x = np.std(data)\n",
    "print(\"Проверка: \", SKO_x)\n",
    "\n",
    "\n",
    "m_1 = 0\n",
    "m_2 = 0\n",
    "for i in range(1, int(n/2), 1):\n",
    "    m_1 = sorted_data[i]\n",
    "for j in range(n-1, int(n/2)-1, -1):\n",
    "    m_2 = sorted_data[j]\n",
    "Median = (m_1 + m_2)/2\n",
    "print(\"Медиана: \", Median)\n",
    "Median_x = np.median(data)\n",
    "print(\"Проверка: \", Median_x)\n",
    "\n",
    "\n",
    "\n",
    "Asymmetry = 0\n",
    "for i in range(len(X)):\n",
    "    Asymmetry = Asymmetry + (X[i]-Sample_average)**3*Frequency[i]\n",
    "Asymmetry = 1/50*Asymmetry/SKO**3\n",
    "print(\"Асимметрия: \", Asymmetry)\n",
    "Asymmetry_x = stats.skew(data)\n",
    "print(\"Проверка: \", Asymmetry_x)\n",
    "\n",
    "\n",
    "EKS = 0\n",
    "for i in range(len(X)):\n",
    "    EKS = EKS + (X[i]-Sample_average)**4*Frequency[i]\n",
    "EKS = 1/50*EKS/SKO**4 - 3\n",
    "print(\"Эксцесс: \", EKS)\n",
    "EKS_x = stats.kurtosis(data)\n",
    "print(\"Проверка: \", EKS_x)\n",
    "\n",
    "\n",
    "a = 0\n",
    "b = 0.92\n",
    "n_i = 0\n",
    "P = 0\n",
    "for i in range(len(data)):\n",
    "    if data[i] >= a and data[i] <= b:\n",
    "        n_i = n_i + 1\n",
    "P = n_i/50\n",
    "print(\"Вероятность попадания в промежуток [0,0.92] = \", P)\n",
    "\n"
   ]
  },
  {
   "cell_type": "markdown",
   "id": "e3f593ac-2930-4184-940d-6fa32bb297ba",
   "metadata": {},
   "source": [
    "## c)\n",
    "<br> В предположении, что исходные наблюдения являются выборкой из распределения Пуассона, построить оценку максимального правдоподобия параметра $\\lambda$, а также оценку $\\lambda$ по методу моментов. Найти смещение оценки.\n",
    "### Оценка максимального правдоподобия\n",
    "1. $P\\left(x,\\lambda\\right)=\\frac{\\lambda^x}{x!}\\exp\\left(-\\lambda\\right),  \\Theta=\\lambda$\n",
    "2. $L\\left(x\\right)=\\prod_{i=1}^{n}\\frac{\\lambda^x_{i}}{x_{i}!}\\exp\\left(-\\lambda\\right)=\\exp\\left(-\\lambda n\\right)\\prod_{i=1}^{n}\\frac{\\lambda^x_{i}}{x_{i}!}$\n",
    "3. $LL\\left(x\\right)=ln\\left(\\exp\\left(-\\lambda n\\right)\\right)+ln\\left(\\prod_{i=1}^{n}\\frac{\\lambda^x_{i}}{x_{i}!}\\right)=-\\lambda n+\\sum_{i=1}^{n}\\left(x_{i}ln\\left(\\lambda\\right)-ln\\left(x_{i}!\\right)\\right)$\n",
    "4. $\\frac{dLL}{d\\lambda}=-n+\\sum_{i=1}^{n}\\frac{x_{i}}{\\lambda}-0=-n+\\frac{1}{\\lambda}\\sum_{i=1}^{n}x_{i}=0$\n",
    "5. $\\frac{1}{\\lambda}=\\frac{n}{\\sum_{i=1}^{n}x_{i}}$\n",
    "6. $\\lambda=\\bar{x}$\n",
    "### Оценка по методу моментов\n",
    "$\\lambda $ в законе Пуассона - Мат. ожидание, которое по методу моментов оценивается первым выборочным моментом по вариационному ряду:\n",
    "<br> $\\lambda=\\bar{x}=\\frac{1}{n}\\sum_{i=1}^{n}x_{i}*n_{i}$\n",
    "### НРМД оценка\n",
    "<br>$g\\left(T\\left(\\vec{x}\\right)\\right)=\\lambda^{\\sum_{i=1}^nx_{i}}*\\exp\\left(-n \\lambda\\right)$\n",
    "<br>$h\\left(\\vec{x}\\right)=\\frac{1}{\\prod_{i=1}^{n}x_{i}!}$\n",
    "<br> Распределение Пуассона принадлежит экспоненциальному семейству распределения, следовательно, МДС будет являться ПДС.\n",
    "<br> $\\mathbb{E}_{\\lambda}\\bar{X}=\\mathbb{E}_{\\lambda}\\frac{1}{n}*\\sum_{i=1}^{n}x_{i}=\\frac{1}{n}*\\mathbb{E}_{\\lambda}\\sum_{i=1}^{n}x_{i}=\\frac{1}{n}*\\sum_{i=1}^{n}\\mathbb{E}_{\\lambda} X_{1}=\\frac{1}{n}*n*\\mathbb{E}_{\\lambda} X_{1}=\\lambda=1$"
   ]
  },
  {
   "cell_type": "markdown",
   "id": "afbe8c15-4a48-4547-943b-ba291f15d83b",
   "metadata": {},
   "source": [
    "## d)\n",
    "<br> Построить асимптотический доверительный интервал уровня значимости $\\alpha_1$ для параметра $\\lambda$ на базе оценки максимального правдоподобия.\n",
    "### Асимптотический доверительный интервал\n",
    "#### Второй способ: на базе ОМП\n",
    "##### Функция распределения стандартного нормального распределения\n",
    "$a_{1}=0.05$\n",
    "1. $\\mathrm{Ф}(x)=\\int_{-\\infty}^{x}\\frac{1}{\\sqrt{2\\pi}}\\cdot\\exp(-\\frac{t^2}{2})dt$\n",
    "    <br>a. $x_{\\alpha}$: $\\mathrm{Ф}(x_{\\alpha})=1-\\frac{\\alpha_{1}}{2}=1-\\frac{0.05}{2}=0.975 \\to x_{0.975}$\n",
    "    <br>b. $\\mathrm{Ф}(x)=\\int_{-\\infty}^{x}\\frac{1}{\\sqrt{2\\pi}}\\cdot\\exp(-\\frac{t^2}{2})dt=0.975$\n",
    "    <br>c. $x\\thickapprox1.96$\n",
    "##### АДИ\n",
    "1. $\\widehat{\\theta}=\\widehat{\\lambda}=\\bar{X}=0.7$ - ОМП\n",
    "2. $\\sum_{i=1}^{50}x_{i}=35$\n",
    "3. $\\lambda^{2}=0,7^{2}=0.49$\n",
    "4. $I(\\theta)=-\\mathbb{E}\\left( \\frac{\\partial^{2} LL}{\\partial \\lambda^{2}} \\right)=-\\mathbb{E}\\left( -\\frac{\\sum_{i=1}^{n}X_{i}}{\\lambda^{2}} \\right)=-\\mathbb{E}\\left( -\\frac{35}{0.49} \\right)=71.428571$\n",
    "5. $\\left[ \\widehat{\\theta}(\\vec{X})-\\frac{x_{\\alpha}}{\\sqrt{n\\cdot I\\left( \\widehat{\\theta}(\\vec{X}) \\right)}};\\widehat{\\theta}(\\vec{X})+\\frac{x_{\\alpha}}{\\sqrt{n\\cdot I\\left( \\widehat{\\theta}(\\vec{X}) \\right)}} \\right]$\n",
    "    <br>a. $\\left[ \\bar{X}-\\frac{x_{0.975}}{\\sqrt{50\\cdot 71.428571}}; \\bar{X}+\\frac{x_{0.975}}{\\sqrt{50\\cdot 71.428571}}\\right]$\n",
    "    <br>b. $0.7 - \\frac{1.96}{\\sqrt{50\\cdot 71.428571}}\\le \\lambda\\le 0.7 + \\frac{1.96}{\\sqrt{50\\cdot 71.428571}}$\n",
    "    <br>c. $0.667203\\le \\lambda\\le 0.732797$"
   ]
  },
  {
   "cell_type": "markdown",
   "id": "aca96179-f522-4a00-b94d-b45fca4620ae",
   "metadata": {},
   "source": [
    "## e)\n",
    "<br> Используя гистограмму частот, построить критерий значимости $\\chi^2$ проверки простой гипотезы согласия с распределением Пуассона с параметром $\\lambda_{0}=1.40$. Проверить гипотезу на уровне значимости $\\alpha_{1}=0.05$. Вычислить наибольшее значение уровня значимости, на котором ещё нет оснований отвергнуть данную гипотезу\n",
    "<br>$P_{i}=P_{H_{0}}=(X\\in I_{i})=\\sum_{k\\in I_{i}}^{}\\frac{\\lambda_{0}^{k}}{k!}exp(-\\lambda_{0})$\n",
    "1. При $I_{1}=\\left[ 0 \\right], n_{1}=27$\n",
    "    <br>a. $P_{1}=\\frac{1.40^{0}}{0!}exp(-1.40)=0.246597$\n",
    "    <br>b. $nP_{1}=0.246597*50=12.32985$\n",
    "2. При $I_{2}=\\left[ 1 \\right], n_{2}=15$\n",
    "    <br>a. $P_{2}=\\frac{1.40^{1}}{1!}exp(-1.40)=0.345236$\n",
    "    <br>b. $nP_{2}=0.345236*50=17,2618$\n",
    "3. При $I_{3}=\\left[ 2 \\right], n_{3}=6$\n",
    "    <br>a. $P_{3}=\\frac{1.40^{2}}{2!}exp(-1.40)=0.241665$\n",
    "    <br>b. $nP_{3}=0.241665*50=12,08325$\n",
    "4. При $I_{4}=\\left[ 3 \\right], n_{4}=1$\n",
    "    <br>a. $P_{4}=\\frac{1.40^{3}}{3!}exp(-1.40)=0.112777$\n",
    "    <br>b. $nP_{4}=0.112777*50=5.63885$\n",
    "5. При $I_{5}=\\left[ 5 \\right], n_{5}=1$\n",
    "    <br>a. $P_{5}=\\frac{1.40^{5}}{5!}exp(-1.40)=0.0110521$\n",
    "    <br>b. $nP_{5}=0.0110521*50=0.552605$\n",
    "### Критерий \n",
    "1. $\\chi^2: \\chi^2_{набл.}=\\sum_{i=1}^{5}\\frac{(n_{i}-nP_{i})^{2}}{nP_{i}}=\\frac{\\left(27-12.32985\\right)^{2}}{12.32985}+\\frac{\\left(15-17,2618\\right)^{2}}{17,2618}+\\frac{\\left(6-12,08325\\right)^{2}}{12,08325}+\\frac{\\left(1-5.63885\\right)^{2}}{5.63885}+\\frac{\\left(1-0.552605\\right)^{2}}{0.552605}=24.99201$\n",
    "2. $\\chi^2_{N-1,\\alpha_{1}}=\\chi^2_{4,0.05} = 9.5$\n",
    "3. $\\chi^2_{набл.}>\\mathcal{X}^{2}_{5,0.2}$\n",
    "4. по критерию Пирсона мы отвергаем гипотезу"
   ]
  },
  {
   "cell_type": "code",
   "execution_count": 53,
   "id": "e9e070ac-daae-4b85-a37b-37c54d3b4553",
   "metadata": {},
   "outputs": [
    {
     "name": "stdout",
     "output_type": "stream",
     "text": [
      "Наибольшее значение уровня значимости, на котором ещё нет оснований отвергнуть данную гипотезу: 5.2693371203060835e-05\n"
     ]
    }
   ],
   "source": [
    "import numpy as np\n",
    "from scipy.stats import chi2\n",
    "X_2 = 24.9\n",
    "k = 5\n",
    "a_max = 1 - chi2.cdf(X_2,k - 1)\n",
    "print(\"Наибольшее значение уровня значимости, на котором ещё нет оснований отвергнуть данную гипотезу:\", a_max)"
   ]
  },
  {
   "cell_type": "markdown",
   "id": "3996fca9-f70d-442c-996e-e959393b5fe3",
   "metadata": {},
   "source": [
    "## f)\n",
    "<br> Построить критерий значимости  $\\mathcal{X^{2}}$ проверки сложной гипотезы согласия с распределением Пуассона. Проверить гипотезу по уровню значимости $\\alpha_{1}$.Вычислить наибольшее значение уровня значимости, на котором ещё нет оснований отвергнуть данную гипотезу.\n",
    "<br>$P_{i}=P_{H_{0}}=(X\\in I_{i})=\\sum_{k\\in I_{i}}^{}\\frac{\\bar{X}^{k}}{k!}exp(-\\bar{X})$\n",
    "1. При $I_{1}=\\left[ 0 \\right], n_{1}=27$\n",
    "    <br>a. $P_{1}=\\frac{0.70^{0}}{0!}exp(-0.70)=0.496585$\n",
    "    <br>b. $nP_{1}=0.496585*50=24.82925$\n",
    "2. При $I_{2}=\\left[ 1 \\right], n_{2}=15$\n",
    "    <br>a. $P_{2}=\\frac{0.70^{1}}{1!}exp(-0.70)=0.34761$\n",
    "    <br>b. $nP_{2}=0.34761*50=17.3805$\n",
    "3. При $I_{3}=\\left[ 2 \\right], n_{3}=6$\n",
    "    <br>a. $P_{3}=\\frac{0.70^{2}}{2!}exp(-0.70)=0.121663$\n",
    "    <br>b. $nP_{3}=0.121663*50=6.08315$\n",
    "4. При $I_{4}=\\left[ 3 \\right], n_{4}=1$\n",
    "    <br>a. $P_{4}=\\frac{0.70^{3}}{3!}exp(-0.70)=0.0283881$\n",
    "    <br>b. $nP_{4}=0.0283881*50=1.419405$\n",
    "5. При $I_{5}=\\left[ 5 \\right], n_{5}=1$\n",
    "    <br>a. $P_{5}=\\frac{0.70^{5}}{5!}exp(-0.70)=0.000695509$\n",
    "    <br>b. $nP_{5}=0.000695509*50=0.03477545$\n",
    "### Критерий \n",
    "1. $\\chi^2: \\chi^2_{набл.}=\\sum_{i=1}^{5}\\frac{(n_{i}-nP_{i})^{2}}{nP_{i}}=\\frac{\\left(27-24.82925\\right)^{2}}{24.82925}+\\frac{\\left(15-17.3805\\right)^{2}}{17.3805}+\\frac{\\left(6-6.08315\\right)^{2}}{6.08315}+\\frac{\\left(1-1.419405\\right)^{2}}{1.419405}+\\frac{\\left(1-0.03477545\\right)^{2}}{0.03477545}=27.43158$\n",
    "2. $\\chi^2_{N-1,\\alpha_{1}}=\\chi^2_{4,0.05} = 9.5$\n",
    "3. $\\chi^2_{набл.}>\\mathcal{X}^{2}_{5,0.2}$\n",
    "4. по критерию Пирсона мы отвергаем гипотезу"
   ]
  },
  {
   "cell_type": "code",
   "execution_count": 52,
   "id": "7d351f2c-f47f-4363-ae53-b6d31e61038b",
   "metadata": {},
   "outputs": [
    {
     "name": "stdout",
     "output_type": "stream",
     "text": [
      "Наибольшее значение уровня значимости, на котором ещё нет оснований отвергнуть данную гипотезу: 1.625891908418886e-05\n"
     ]
    }
   ],
   "source": [
    "import numpy as np\n",
    "from scipy.stats import chi2\n",
    "X_2 = 27.43158\n",
    "k = 5\n",
    "a_max = 1 - chi2.cdf(X_2,k - 1)\n",
    "print(\"Наибольшее значение уровня значимости, на котором ещё нет оснований отвергнуть данную гипотезу:\", a_max)"
   ]
  },
  {
   "cell_type": "markdown",
   "id": "c383266a-1dd2-4768-92f1-faa7ff19ed99",
   "metadata": {},
   "source": [
    "\n"
   ]
  },
  {
   "cell_type": "markdown",
   "id": "8c86be75-bbc1-46bd-b70f-46f441483541",
   "metadata": {},
   "source": [
    "\n"
   ]
  },
  {
   "cell_type": "markdown",
   "id": "7d8a2e33-779b-4086-9760-98d7f8a7242a",
   "metadata": {},
   "source": [
    "## g)\n",
    "<br> Построить наиболее мощный критерий проверки простой гипотезы пауссоновости с параметром $\\lambda=\\lambda_{0}$ при альтернативе пуассоновсти с параметром $\\lambda=\\lambda_{1}$. Проверить гипотезу на уровне значимости $\\alpha_{1}$. Что получится, если поменять местами основную и альтернативную гипотезы?\n",
    "### Статистическое отношение правдоподобия\n",
    "1. $LR(\\vec{X},\\lambda_{1},\\lambda_{0}) = \\frac{L\\left(\\vec{X},\\lambda_{1} \\right)}{L\\left(\\vec{X},\\lambda_{0} \\right)}= \\frac{\\lambda_{1}^{\\sum_{i=1}^{n}X_{i}}\\cdot exp(-n\\cdot \\lambda_{1})}{\\lambda_{0}^{\\sum_{i=1}^{n}X_{i}}\\cdot exp(-n\\cdot \\lambda_{0})}$\n",
    "#### Гипотезы:\n",
    "<br>a. Основная $H_{0}=\\lambda_{0}$,\n",
    "<br>b. Альтернативная $H_{A}=\\lambda_{1}$\n",
    "<br>В силу монотонности статистики $LR(\\vec{X})$ относительно МДС $T(\\vec{X})=\\sum_{i=1}^{n}X_{i}$\n",
    "<br> Ассимптотически нормальная оценка.\n",
    "<br>c. $\\lambda_{0}=1.40,n=50,\\bar{X}=0.7$\n",
    "<br>d. $LR(\\vec{X},\\lambda_{0},\\lambda_{1})\\gt c\\Leftrightarrow \\bar{X}=0.7$\n",
    "<br>e. $\\sqrt{n}\\frac{\\bar{X}-\\lambda_{0}}{\\sqrt{\\lambda_{0}}}\\sim N(0,1)$\n",
    "<br>f. $P\\left(\\sqrt{n}\\frac{\\bar{X}-\\lambda_{0}}{\\sqrt{\\lambda_{0}}} \\right)\\gt \\sqrt{n}\\frac{\\bar{X}-\\lambda_{0}}{\\sqrt{\\lambda_{0}}}=1-\\Phi\\left(\\sqrt{n}\\frac{c-\\lambda_{0}}{\\sqrt{\\lambda_{0}}} \\right)=\\alpha_{1},\\alpha_{1}=0.05$\n",
    "<br>g. $\\Phi\\left(\\sqrt{n}\\frac{c-\\lambda_{0}}{\\sqrt{\\lambda_{0}}}\\right)=\\Phi\\left(x_{\\alpha}\\right)=1-\\alpha_{1}=0.95$\n",
    "<br>h. $x_{\\alpha}=1.65$\n",
    "<br>i. $c=\\frac{x_{\\alpha}*\\sqrt{\\lambda_{0}}}{\\sqrt{n}}+\\lambda_{0}=\\frac{1.65*\\sqrt{1.40}}{\\sqrt{50}}+1.40=1.6761$\n",
    "<br>k. $c>\\bar{X}$ - гипотезу отвергаем\n",
    "#### Гипотезы:\n",
    "<br>a. Альтернативная $H_{0}=\\lambda_{1}$,\n",
    "<br>b. Основная $H_{A}=\\lambda_{0}$\n",
    "<br>c. $\\lambda_{1}=0.60,n=50,\\bar{X}=0.7$\n",
    "<br>$LR(\\bar{X},\\lambda_{0},\\lambda_{1}) = \\frac{L\\left(\\bar{X},\\lambda_{0} \\right)}{L\\left( \\bar{X},\\lambda_{1} \\right)}= \\frac{\\lambda_{0}^{\\sum_{i=1}^{n}X_{i}}\\cdot exp(-n\\cdot \\lambda_{0})}{\\lambda_{1}^{\\sum_{i=1}^{n}X_{i}}\\cdot exp(-n\\cdot \\lambda_{1})}$\n",
    "<br>d. $\\sqrt{n}\\frac{\\bar{X}-\\lambda_{1}}{\\sqrt{\\lambda_{1}}}\\sim N(0,1)$\n",
    "<br>e. $P\\left(\\sqrt{n}\\frac{\\bar{X}-\\lambda_{1}}{\\sqrt{\\lambda_{1}}} \\right)\\gt \\sqrt{n}\\frac{\\bar{X}-\\lambda_{1}}{\\sqrt{\\lambda_{1}}}=1-\\Phi\\left(\\sqrt{n}\\frac{c-\\lambda_{1}}{\\sqrt{\\lambda_{1}}} \\right)=\\alpha_{1}$\n",
    "<br>f. $\\Phi\\left(\\sqrt{n}\\frac{c-\\lambda_{1}}{\\sqrt{\\lambda_{1}}}\\right)=\\Phi\\left(x_{\\alpha}\\right)=1-\\alpha_{1}=0.95$\n",
    "<br>h. $x_{\\alpha}=1.65$\n",
    "<br>i. $c=\\frac{x_{\\alpha}*\\sqrt{\\lambda_{1}}}{\\sqrt{n}}+\\lambda_{1}=\\frac{1.65*\\sqrt{0.60}}{\\sqrt{50}}+0.60=0.780748$\n",
    "<br>k. $c>\\bar{X}$ - гипотезу отвергаем"
   ]
  },
  {
   "cell_type": "markdown",
   "id": "91feefab-82b3-4dc4-8cde-c5e8190572f9",
   "metadata": {},
   "source": [
    "## h)\n",
    "<br> В пунктах (c)-(f) заменить семейство распределений Пуассона на семейство геометрических распределений:\n",
    "<br> $P_{\\lambda}(X=k)=\\frac{\\lambda^{k}}{(\\lambda+1)^{k+1}},k\\in\\mathbb{Z}_{+}.$"
   ]
  },
  {
   "cell_type": "markdown",
   "id": "d2e35752-8f5c-4040-87d0-6cc93feb14c0",
   "metadata": {},
   "source": [
    "### h_c)\n",
    "#### ОМП:\n",
    "<br>a. $P_{\\lambda}(X=k)=\\frac{\\lambda^{k}}{(\\lambda+1)^{k+1}}$\n",
    "<br>b. $L(\\vec{X};\\theta)=\\prod_{i=1}^{n}P_{\\lambda}(X_{i})=\\prod_{i=1}^{n}\\frac{\\lambda^{X_{i}}}{(\\lambda+1)^{X_{i}}}=\\frac{\\lambda^{\\sum_{i=1}^{n}X_{i}}}{(\\lambda+1)^{\\sum_{i=1}^{n}X_{i}+n}}$<br>\n",
    "<br>c. $LL(\\vec{X};\\theta)= \\sum_{i=1}^{n}X_{i}\\cdot \\ln(\\lambda)-(\\sum_{i=1}^{n}X_{i}+n)\\ln(\\lambda+1)$<br>\n",
    "<br>d. $\\frac{\\partial LL(\\vec{X};\\theta)}{\\partial \\lambda} = \\frac{\\sum_{i=1}^{n}X_{i}}{\\lambda}-\\frac{\\sum_{i=1}^{n}X_{i}+n}{\\lambda+1}$<br>\n",
    "<br>e. $\\lambda$:  $\\frac{\\sum_{i=1}^{n}X_{i}}{\\lambda}-\\frac{\\sum_{i=1}^{n}X_{i}+n}{\\lambda+1}=0$\n",
    "<br>e.1. $\\frac{\\sum_{i=1}^{n}X_{i}}{\\lambda}=\\frac{\\sum_{i=1}^{n}X_{i}+n}{\\lambda+1}$\n",
    "<br>e.2. $\\lambda\\cdot \\sum_{i=1}^{n}X_{i}+\\lambda \\cdot n = \\lambda\\cdot \\sum_{i=1}^{n}X_{i}+\\sum_{i=1}^{n}X_{i}$\n",
    "<br>e.3. $\\lambda=\\overline{X}$\n",
    "<br>e.4. $\\widehat{\\theta}=\\widehat{\\lambda}=\\overline{X}=2.94$\n",
    "#### ОММ:\n",
    "Для геометрического распределения нам известно, что первый момент $\\mathbb{E}X_{1}=\\lambda;M_{1}=\\overline{X}$ <br>\n",
    "$\\widetilde{\\theta}=\\widehat{\\lambda}=\\bar{X}$ <br>\n",
    "##### Смещение:\n",
    "<br>Из функции правдоподобия:\n",
    "<br>a. $g\\left(T(\\vec{X})\\right)=\\frac{\\lambda^{\\sum_{i=1}^{n}X_{i}}}{(\\lambda+1)^{\\sum_{i=1}^{n}X_{i}+n}}$\n",
    "<br>b. МДС: $T=\\sum_{i=1}^{n}X_{i}$\n",
    "<br>c. ОМП: $\\widehat{\\theta}=\\widehat{\\lambda}=\\overline{X}$\n",
    "<br>d. Несмещенная НРМД-оценка: $\\mathbb{E}_{\\lambda}\\widehat{\\lambda}=\\mathbb{E}_{\\lambda}\\overline{X}=\\mathbb{E}_{\\lambda}\\frac{1}{n}\\cdot \\sum_{i=1}^{n}x_{i}=\\frac{1}{n}\\cdot \\mathbb{E_{\\lambda}}\\sum_{i=1}^{n}x_{i}=\\frac{1}{n}\\cdot \\sum_{i=1}^{n}\\mathbb{E_{\\lambda}}X_{1}=\\frac{1}{n}\\cdot n\\cdot \\mathbb{E}_{\\lambda}X_{1}=\\lambda$"
   ]
  },
  {
   "cell_type": "markdown",
   "id": "0bbdfffd-7cab-43a5-b4ef-5ce1d6b03fc7",
   "metadata": {},
   "source": [
    "### h_d)\n",
    "1. Выбираем\n",
    "<br> $\\mathrm{Ф}(x_{\\alpha})=1-\\frac{\\alpha_{1}}{2}=1-\\frac{0.5}{2}=0.975$\n",
    "<br> $x_{\\alpha}=x_{0.975}=1.96$\n",
    "3. Формула АДИ:\n",
    "<br> $\\left[ \\widehat{\\theta}(\\vec{X})-\\frac{x_{\\alpha}}{\\sqrt{n\\cdot I\\left( \\widehat{\\theta}(\\vec{X})\\right)}};\\widehat{\\theta}(\\vec{X})+\\frac{x_{\\alpha}}{\\sqrt{n\\cdot I\\left( \\widehat{\\theta}(\\vec{X})\\right)}}\\right]$\n",
    "4. ОМП - $\\widehat{\\theta}=\\widehat{\\lambda}=\\overline{X}=0.7$\n",
    "<br> $I(\\theta)=-\\mathbb{E}\\left( \\frac{\\partial^{2} LL}{\\partial \\lambda^{2}} \\right)=-\\mathbb{E}\\left( -\\frac{\\sum_{i=1}^{n}X_{i}}{\\lambda^{2}}+\\frac{\\sum_{i=1}^{n}X_{i}+n}{(\\lambda +1)^{2}} \\right)=\\frac{35}{\\lambda^{2}}-\\mathbb{E}\\left( \\frac{\\sum_{i=1}^{n}X_{i}+n}{(\\lambda+1)^{2}} \\right) = \\frac{35}{\\lambda^{2}}-\\mathbb{E}\\left( \\frac{\\sum_{i=1}^{n}X_{i}}{(\\lambda+1)^{2}} \\right)-\\mathbb{E}\\left( \\frac{n}{(\\lambda+1)^{2}} \\right)=\\frac{35}{\\lambda^{2}}-\\frac{35}{(\\lambda+1)^{2}}-\\frac{50}{(\\lambda+1)^{2}}=\\frac{35(\\lambda+1)^{2}- 85\\lambda^2}{(\\lambda+1)^{2}\\cdot \\lambda^{2}}=\\frac{35(0.7+1)^{2}- 85*0.7^2}{(0.7+1)^{2}\\cdot 0.7^{2}}=42.011681$\n",
    "<br> $\\sum_{i=1}^{n}X_{i}=35$\n",
    "5. АДИ:\n",
    "<br> $\\left[ \\overline{X}-\\frac{x_{0.975}}{\\sqrt{50\\cdot 42.011681}}; \\overline{X}+\\frac{x_{0.975}}{\\sqrt{50\\cdot 42.011681}}\\right]$\n",
    "<br> $0.7 - \\frac{1.96}{\\sqrt{50\\cdot 42.011681}}\\le \\lambda\\le 0.7 + \\frac{1.96}{\\sqrt{50\\cdot 42.011681}}$\n",
    "<br> $0.657235\\le \\lambda\\le 0.742765$"
   ]
  },
  {
   "cell_type": "markdown",
   "id": "bf2cbe98-8159-40cf-8cd8-b839aa7738b5",
   "metadata": {},
   "source": [
    "### h_e)\n",
    "$P_{i}=P_{H_{0}}=(X\\in I_{i})=\\sum_{k\\in I_{i}}^{}\\frac{\\lambda_{0}^{k}}{(\\lambda_{0}+1)^{k+1}}$ <br>\n",
    "1. При $I_{1}=\\left[ 0 \\right], n_{1}=27$\n",
    "    <br>a. $P_{1}=\\frac{1.40^{0}}{\\left(\\left(1.40+1\\right)^{0+1}\\right)}=0.416$\n",
    "    <br>b. $nP_{1}=0.416*50=20.8$\n",
    "2. При $I_{2}=\\left[ 1 \\right], n_{2}=15$\n",
    "    <br>a. $P_{2}=\\frac{1.40^{1}}{\\left(\\left(1.40+1\\right)^{1+1}\\right)}exp(-1.40)=0.24305$\n",
    "    <br>b. $nP_{2}=0.24305*50=12.1525$\n",
    "3. При $I_{3}=\\left[ 2 \\right], n_{3}=6$\n",
    "    <br>a. $P_{3}=\\frac{1.40^{2}}{\\left(\\left(1.40+1\\right)^{2+1}\\right)}=0.141782407$\n",
    "    <br>b. $nP_{3}=0.141782407*50=7.08912035$\n",
    "4. При $I_{4}=\\left[ 3 \\right], n_{4}=1$\n",
    "    <br>a. $P_{4}=\\frac{1.40^{3}}{\\left(\\left(1.40+1\\right)^{3+1}\\right)}=0.0827064$\n",
    "    <br>b. $nP_{4}=0.0827064*50=4.13532$\n",
    "5. При $I_{5}=\\left[ 5 \\right], n_{5}=1$\n",
    "    <br>a. $P_{5}=\\frac{1.40^{5}}{\\left(\\left(1.40+1\\right)^{5+1}\\right)}=0.0281432$\n",
    "    <br>b. $nP_{5}=0.0281432*50=1.40716$\n",
    "#### Критерий \n",
    "1. $\\chi^2: \\chi^2_{набл.}=\\sum_{i=1}^{5}\\frac{(n_{i}-nP_{i})^{2}}{nP_{i}}=\\frac{\\left(27-20.8\\right)^{2}}{20.8}+\\frac{\\left(15-12.1525\\right)^{2}}{12.1525}+\\frac{\\left(6-7.08912035\\right)^{2}}{7.08912035}+\\frac{\\left(1-4.13532\\right)^{2}}{4.13532}+\\frac{\\left(1-1.40716\\right)^{2}}{1.40716}=2.85377$\n",
    "2. $\\chi^2_{N-1,\\alpha_{1}}=\\chi^2_{4,0.05}=9.5$\n",
    "3. $\\chi^2_{набл.}<\\mathcal{X}^{2}_{5,0.2}$\n",
    "4. по критерию Пирсона мы принимаем гипотезу"
   ]
  },
  {
   "cell_type": "code",
   "execution_count": 8,
   "id": "f4f635ab-06a0-46a2-b6c2-202cf04aa01c",
   "metadata": {},
   "outputs": [
    {
     "name": "stdout",
     "output_type": "stream",
     "text": [
      "Наибольшее значение уровня значимости, на котором ещё нет оснований отвергнуть данную гипотезу: 0.582587169237067\n"
     ]
    }
   ],
   "source": [
    "import numpy as np\n",
    "from scipy.stats import chi2\n",
    "X_2 = 2.85377\n",
    "k = 5\n",
    "a_max = 1 - chi2.cdf(X_2,k - 1)\n",
    "print(\"Наибольшее значение уровня значимости, на котором ещё нет оснований отвергнуть данную гипотезу:\", a_max)"
   ]
  },
  {
   "cell_type": "markdown",
   "id": "596be554-02d9-4f48-bb4c-5700d25391df",
   "metadata": {},
   "source": [
    "### h_f)\n",
    "$P_{i}=P_{H_{0}}=(X\\in I_{i})=\\sum_{k\\in I_{i}}^{}\\frac{\\overline{X}^{k}}{(\\overline{X}+1)^{k+1}}$ <br>\n",
    "1. При $I_{1}=\\left[ 0 \\right], n_{1}=27$\n",
    "    <br>a. $P_{1}=\\frac{0.70^{0}}{\\left(\\left(0.70+1\\right)^{0+1}\\right)}=0.588235$\n",
    "    <br>b. $nP_{1}=0.588235*50=29.41175$\n",
    "2. При $I_{2}=\\left[ 1 \\right], n_{2}=15$\n",
    "    <br>a. $P_{2}=\\frac{0.70^{1}}{\\left(\\left(0.70+1\\right)^{1+1}\\right)}exp(-0.70)=0.242215$\n",
    "    <br>b. $nP_{2}=0.242215*50=12.11075$\n",
    "3. При $I_{3}=\\left[ 2 \\right], n_{3}=6$\n",
    "    <br>a. $P_{3}=\\frac{0.70^{2}}{\\left(\\left(0.70+1\\right)^{2+1}\\right)}=0.0997354$\n",
    "    <br>b. $nP_{3}=0.0997354*50=4.98677$\n",
    "4. При $I_{4}=\\left[ 3 \\right], n_{4}=1$\n",
    "    <br>a. $P_{4}=\\frac{0.70^{3}}{\\left(\\left(0.70+1\\right)^{3+1}\\right)}=0.0410675$\n",
    "    <br>b. $nP_{4}=0.0410675*50=2.053375$\n",
    "5. При $I_{5}=\\left[ 5 \\right], n_{5}=1$\n",
    "    <br>a. $P_{5}=\\frac{0.70^{5}}{\\left(\\left(0.70+1\\right)^{5+1}\\right)}=0.006963$\n",
    "    <br>b. $nP_{5}=0.006963*50=0.34815$\n",
    "#### Критерий \n",
    "1. $\\chi^2: \\chi^2_{набл.}=\\sum_{i=1}^{5}\\frac{(n_{i}-nP_{i})^{2}}{nP_{i}}=\\frac{\\left(27-29.41175\\right)^{2}}{29.41175}+\\frac{\\left(15-12.11075\\right)^{2}}{12.11075}+\\frac{\\left(6-4.98677\\right)^{2}}{4.98677}+\\frac{\\left(1-2.053375\\right)^{2}}{2.053375}+\\frac{\\left(1-0.34815\\right)^{2}}{0.34815}=5.17756$\n",
    "2. $\\chi^2_{N-1,\\alpha_{1}}=\\chi^2_{4,0.05} = 9.5$\n",
    "3. $\\chi^2_{набл.}>\\mathcal{X}^{2}_{5,0.2}$\n",
    "4. по критерию Пирсона мы отвергаем гипотезу"
   ]
  },
  {
   "cell_type": "code",
   "execution_count": 7,
   "id": "3e07f549-0908-4385-9c92-cb67d6e3630b",
   "metadata": {},
   "outputs": [
    {
     "name": "stdout",
     "output_type": "stream",
     "text": [
      "Наибольшее значение уровня значимости, на котором ещё нет оснований отвергнуть данную гипотезу: 0.26955908101194104\n"
     ]
    }
   ],
   "source": [
    "import numpy as np\n",
    "from scipy.stats import chi2\n",
    "X_2 = 5.17756\n",
    "k = 5\n",
    "a_max = 1 - chi2.cdf(X_2,k - 1)\n",
    "print(\"Наибольшее значение уровня значимости, на котором ещё нет оснований отвергнуть данную гипотезу:\", a_max)"
   ]
  },
  {
   "cell_type": "markdown",
   "id": "ec5b5bf5-fe20-449e-a599-04b9a2414f96",
   "metadata": {},
   "source": [
    "# Задание 2"
   ]
  },
  {
   "cell_type": "markdown",
   "id": "13d04b1a-ea32-440f-b9d6-3206beb4bdb8",
   "metadata": {},
   "source": [
    "## a) \n",
    "<br> Построить вариционный ряд, эмпирическую функцию распределения,гистограмму и полигон частот с шагом h.\n",
    "### Функция распределения выборки\n",
    "<br>$n = 27+15+6+1+1=50$\n",
    "<br>$F_{50}\\left(x\\leq0.07\\right)=\\frac{0}{50}=0$\n",
    "<br>$F_{50}\\left(0<x\\leq0.07\\right)=\\frac{2}{50}=0.04$\n",
    "<br>...\n",
    "<br>$F_{50}\\left(11.74<x\\leq12.69\\right)=\\frac{49}{50}=0.98$\n",
    "<br>$F_{50}\\left(x>12.69\\right)=1$\n",
    "### Гистограмма частот\n",
    "<br>$[0.07,0.18) - \\frac{2}{50}=0.04$\n",
    "<br>$(0.18,0.2) - \\frac{1}{50}=0.02$\n",
    "<br>$(0.2,0.21) - \\frac{1}{50}=0.02$\n",
    "<br>...\n",
    "<br>$(11.74,12.69] - \\frac{2}{50}=0.04$"
   ]
  },
  {
   "cell_type": "code",
   "execution_count": 51,
   "id": "27f69912-66c1-4035-99b3-e0d0484276c8",
   "metadata": {},
   "outputs": [
    {
     "name": "stdout",
     "output_type": "stream",
     "text": [
      "[ 0.07  0.07  0.18  0.2   0.21  0.32  0.35  0.42  0.54  0.71  0.72  0.73\n",
      "  0.84  0.87  0.99  1.01  1.16  1.17  1.18  1.2   1.28  1.39  1.51  1.51\n",
      "  1.61  1.74  2.05  2.31  2.64  2.8   3.04  3.19  3.32  3.67  3.83  4.4\n",
      "  4.73  4.98  5.12  5.26  5.5   5.67  6.03  6.16  6.26  8.47  8.81  9.46\n",
      " 11.74 12.69]\n",
      "Вариационный ряд:\n",
      "Наблюдения - Значения\n",
      "0.07  -  2\n",
      "0.18  -  1\n",
      "0.2  -  1\n",
      "0.21  -  1\n",
      "0.32  -  1\n",
      "0.35  -  1\n",
      "0.42  -  1\n",
      "0.54  -  1\n",
      "0.71  -  1\n",
      "0.72  -  1\n",
      "0.73  -  1\n",
      "0.84  -  1\n",
      "0.87  -  1\n",
      "0.99  -  1\n",
      "1.01  -  1\n",
      "1.16  -  1\n",
      "1.17  -  1\n",
      "1.18  -  1\n",
      "1.2  -  1\n",
      "1.28  -  1\n",
      "1.39  -  1\n",
      "1.51  -  2\n",
      "1.61  -  1\n",
      "1.74  -  1\n",
      "2.05  -  1\n",
      "2.31  -  1\n",
      "2.64  -  1\n",
      "2.8  -  1\n",
      "3.04  -  1\n",
      "3.19  -  1\n",
      "3.32  -  1\n",
      "3.67  -  1\n",
      "3.83  -  1\n",
      "4.4  -  1\n",
      "4.73  -  1\n",
      "4.98  -  1\n",
      "5.12  -  1\n",
      "5.26  -  1\n",
      "5.5  -  1\n",
      "5.67  -  1\n",
      "6.03  -  1\n",
      "6.16  -  1\n",
      "6.26  -  1\n",
      "8.47  -  1\n",
      "8.81  -  1\n",
      "9.46  -  1\n",
      "11.74  -  1\n",
      "12.69  -  1\n"
     ]
    }
   ],
   "source": [
    "import numpy as np\n",
    "import matplotlib.pyplot as plt\n",
    "from scipy import stats\n",
    "data = [4.73, 0.72, 2.64, 2.05, 3.19, 5.26, 0.54, 6.16, 1.18, 1.20, 1.51, 1.51, 5.67, 3.67, 0.87, 2.31, 4.98, 1.16, 0.18, 3.04, 2.80, 6.03, 12.69, 1.28, 8.81, 1.39, 8.47, 1.01, 1.74, 4.40, 0.73, 0.84, 9.46, 0.71, 5.50, 0.07, 0.35, 0.20, 1.61, 3.83, 0.07, 1.17, 11.74, 0.21, 0.99, 6.26, 0.42, 0.32, 3.32, 5.12]\n",
    "n = len(data)\n",
    "sorted_data = np.sort(data)\n",
    "X = np.unique(data)\n",
    "Frequency = []*len(X)\n",
    "for y in range(len(X)):\n",
    "    Frequency.insert(y,0)\n",
    "for x in range(len(data)):\n",
    "    for y in range(len(X)):\n",
    "        if data[x] == X[y]:\n",
    "            Frequency[y] = Frequency[y] + 1\n",
    "print(sorted_data)\n",
    "X = np.unique(sorted_data)\n",
    "print(\"Вариационный ряд:\")\n",
    "print(\"Наблюдения - Значения\")\n",
    "for y in range(len(X)):\n",
    "    print(X[y], \" - \", Frequency[y])"
   ]
  },
  {
   "cell_type": "code",
   "execution_count": 6,
   "id": "f76fbcf4-af70-4c14-aa63-5ab07cbdceb3",
   "metadata": {},
   "outputs": [
    {
     "data": {
      "image/png": "[encoded data removed]",
      "text/plain": [
       "<Figure size 640x480 with 1 Axes>"
      ]
     },
     "metadata": {},
     "output_type": "display_data"
    }
   ],
   "source": [
    "#### X = np.concatenate(([sorted_data[0]], sorted_data))\n",
    "Y = np.concatenate(([0], np.arange(1, n + 1) / n))\n",
    "plt.step(X, Y, where='post')\n",
    "plt.title('Эмпирическая функция распределения')\n",
    "plt.show()"
   ]
  },
  {
   "cell_type": "code",
   "execution_count": 7,
   "id": "59529bac-501e-4696-8e7c-373adf11079c",
   "metadata": {},
   "outputs": [
    {
     "data": {
      "image/png": "[encoded data removed]",
      "text/plain": [
       "<Figure size 640x480 with 1 Axes>"
      ]
     },
     "metadata": {},
     "output_type": "display_data"
    }
   ],
   "source": [
    "#### h=1.20\n",
    "bins = np.arange(min(data), max(data) + h, h)\n",
    "plt.subplot()\n",
    "plt.hist(data, bins=bins, alpha = 0.5)\n",
    "plt.xlabel('Значение')\n",
    "plt.ylabel('Относительная частота')\n",
    "plt.title('Гистограмма частот')\n",
    "plt.show()"
   ]
  },
  {
   "cell_type": "code",
   "execution_count": 5,
   "id": "b24c4f03-14be-4b7c-9604-1f36440a0faf",
   "metadata": {},
   "outputs": [
    {
     "data": {
      "image/png": "[encoded data removed]",
      "text/plain": [
       "<Figure size 640x480 with 1 Axes>"
      ]
     },
     "metadata": {},
     "output_type": "display_data"
    }
   ],
   "source": [
    "plt.title(\"Полигон частот\")\n",
    "plt.xlabel(\"Интервалы\")\n",
    "plt.ylabel(\"Частота\")\n",
    "hist, _ = np.histogram(data, bins=bins)\n",
    "bin_centers = 0.5 * (bins[1:] + bins[:-1])\n",
    "plt.plot(bin_centers, hist, color='red', marker='o', linestyle='-', label='Полигон')\n",
    "plt.legend()\n",
    "plt.show()"
   ]
  },
  {
   "cell_type": "markdown",
   "id": "2a34ab94-3218-4deb-aaef-76dfe86e78aa",
   "metadata": {},
   "source": [
    "## b)\n",
    "<br> Вычислить выборочные аналоги следующих числовых характеристик: (i)математическое ожидание, (ii)дисперсия, (iii)медианы, (iv)асимметрии, (v)эксцесса (vi) вероятности $\\mathrm{P}(X\\in \\left[ a,b \\right])$\n",
    "### Мат.ожидание"
   ]
  },
  {
   "cell_type": "code",
   "execution_count": 9,
   "id": "35b7c898-c07e-4a37-81eb-42dba72e1010",
   "metadata": {
    "scrolled": true
   },
   "outputs": [
    {
     "name": "stdout",
     "output_type": "stream",
     "text": [
      "[ 0.07  0.18  0.2   0.21  0.32  0.35  0.42  0.54  0.71  0.72  0.73  0.84\n",
      "  0.87  0.99  1.01  1.16  1.17  1.18  1.2   1.28  1.39  1.51  1.61  1.74\n",
      "  2.05  2.31  2.64  2.8   3.04  3.19  3.32  3.67  3.83  4.4   4.73  4.98\n",
      "  5.12  5.26  5.5   5.67  6.03  6.16  6.26  8.47  8.81  9.46 11.74 12.69]\n",
      "[2, 1, 1, 1, 1, 1, 1, 1, 1, 1, 1, 1, 1, 1, 1, 1, 1, 1, 1, 1, 1, 2, 1, 1, 1, 1, 1, 1, 1, 1, 1, 1, 1, 1, 1, 1, 1, 1, 1, 1, 1, 1, 1, 1, 1, 1, 1, 1]\n",
      "Мат. ожидание:  3.0822000000000003\n",
      "Проверка:  3.0822000000000003\n",
      "Выборочное среднее значение 3.082199999999999\n",
      "Дисперсия:  9.341669160000002\n",
      "Проверка:  9.341669159999999\n",
      "СКО:  3.0564144287056365\n",
      "Проверка:  3.056414428705636\n",
      "Медиана:  1.675\n",
      "Проверка:  1.675\n",
      "Асимметрия:  1.368972950600981\n",
      "Проверка:  1.3689729506009802\n",
      "Эксцесс:  1.3487345373164832\n",
      "Проверка:  1.3487345373164832\n",
      "Вероятность попадания в промежуток [0.00,5.40] =  0.8\n"
     ]
    }
   ],
   "source": [
    "import numpy as np\n",
    "import matplotlib.pyplot as plt\n",
    "from scipy import stats\n",
    "from math import sqrt\n",
    "data = [4.73, 0.72, 2.64, 2.05, 3.19, 5.26, 0.54, 6.16, 1.18, 1.20, 1.51, 1.51, 5.67, 3.67, 0.87, 2.31, 4.98, 1.16, 0.18, 3.04, 2.80, 6.03, 12.69, 1.28, 8.81, 1.39, 8.47, 1.01, 1.74, 4.40, 0.73, 0.84, 9.46, 0.71, 5.50, 0.07, 0.35, 0.20, 1.61, 3.83, 0.07, 1.17, 11.74, 0.21, 0.99, 6.26, 0.42, 0.32, 3.32, 5.12]\n",
    "n = len(data)\n",
    "sorted_data = np.sort(data)\n",
    "X = np.unique(data)\n",
    "Frequency = []*len(X)\n",
    "for y in range(len(X)):\n",
    "    Frequency.insert(y,0)\n",
    "for x in range(len(data)):\n",
    "    for y in range(len(X)):\n",
    "        if data[x] == X[y]:\n",
    "            Frequency[y] = Frequency[y] + 1\n",
    "    \n",
    "X = np.unique(sorted_data)\n",
    "M = 0\n",
    "print(X)\n",
    "print(Frequency)\n",
    "for i in range(len(X)):\n",
    "    M = M + ((X[i]*Frequency[i])/n)\n",
    "print(\"Мат. ожидание: \", M)\n",
    "M_x = np.mean(data)\n",
    "print(\"Проверка: \", M_x)\n",
    "\n",
    "\n",
    "Sample_average = sum(data)/n\n",
    "print(\"Выборочное среднее значение\", Sample_average)\n",
    "D = 0\n",
    "for i in range(len(X)):\n",
    "    D = D + ((X[i]-Sample_average)**2*Frequency[i]/n)\n",
    "print(\"Дисперсия: \", D)\n",
    "D_x = np.var(data)\n",
    "print(\"Проверка: \", D_x)\n",
    "\n",
    "\n",
    "SKO = sqrt(D)\n",
    "print(\"СКО: \",SKO)\n",
    "SKO_x = np.std(data)\n",
    "print(\"Проверка: \", SKO_x)\n",
    "\n",
    "\n",
    "m_1 = 0\n",
    "m_2 = 0\n",
    "for i in range(1, int(n/2), 1):\n",
    "    m_1 = sorted_data[i]\n",
    "for j in range(n-1, int(n/2)-1, -1):\n",
    "    m_2 = sorted_data[j]\n",
    "Median = (m_1 + m_2)/2\n",
    "print(\"Медиана: \", Median)\n",
    "Median_x = np.median(data)\n",
    "print(\"Проверка: \", Median_x)\n",
    "\n",
    "\n",
    "\n",
    "Asymmetry = 0\n",
    "for i in range(len(X)):\n",
    "    Asymmetry = Asymmetry + (X[i]-Sample_average)**3*Frequency[i]\n",
    "Asymmetry = 1/50*Asymmetry/SKO**3\n",
    "print(\"Асимметрия: \", Asymmetry)\n",
    "Asymmetry_x = stats.skew(data)\n",
    "print(\"Проверка: \", Asymmetry_x)\n",
    "\n",
    "\n",
    "EKS = 0\n",
    "for i in range(len(X)):\n",
    "    EKS = EKS + (X[i]-Sample_average)**4*Frequency[i]\n",
    "EKS = 1/50*EKS/SKO**4 - 3\n",
    "print(\"Эксцесс: \", EKS)\n",
    "EKS_x = stats.kurtosis(data)\n",
    "print(\"Проверка: \", EKS_x)\n",
    "\n",
    "\n",
    "c = 0.00\n",
    "d = 5.40\n",
    "n_i = 0\n",
    "P = 0\n",
    "for i in range(len(data)):\n",
    "    if data[i] >= c and data[i] <= d:\n",
    "        n_i = n_i + 1\n",
    "P = n_i/50\n",
    "print(\"Вероятность попадания в промежуток [0.00,5.40] = \", P)\n"
   ]
  },
  {
   "cell_type": "markdown",
   "id": "195dd24f-4ec2-4a63-b987-d71e817175c0",
   "metadata": {},
   "source": [
    "## c)\n",
    "<br> В предположении, что исходные наблюдения являются выборкой из показательного распределения, построить оценку максимального правдоподобия параметра $\\lambda$ и соответствующую оценку по методу моментов. Найти смещение оценки.\n",
    "### ОМП параметра $\\lambda$\n",
    "1. $P\\left(X\\right)=\\lambda*\\exp{\\left(-\\lambda*X\\right)}, X\\geqslant0$\n",
    "2. $L\\left(\\vec{X},\\theta\\right)=\\prod_{i=1}^{n}\\lambda*\\exp{\\left(-\\lambda*X_{i}\\right)}=\\lambda^{n}*\\exp{\\left(-\\lambda*\\sum_{i=1}^{n}X_{i}\\right)}$\n",
    "3. $LL\\left(\\vec{X},\\theta\\right)=nln\\left(\\lambda\\right)-\\lambda*\\sum_{i=1}^{n}X_{i}$\n",
    "4. $\\frac{dLL}{d\\lambda}=\\frac{n}{\\lambda}\\sum_{i=1}^{n}X_{i}=0$\n",
    "5. $\\lambda=\\frac{n}{\\sum_{i=1}^{n}X_{i}}=\\frac{1}{\\bar{x}}$\n",
    "### ОММ параметра $\\lambda$\n",
    "1. $P\\left(X\\right)=\\lambda*\\exp{-\\lambda*X}, X\\geqslant0$\n",
    "2. $\\mathbb{E}X_{1}=\\frac{1}{\\lambda}$\n",
    "3. $M_{1}=\\bar{X}$\n",
    "4. $\\widehat{\\theta}=\\tilde{\\lambda}=\\frac{1}{\\bar{X}}$\n",
    "### Смещение оценки\n",
    "1. $g\\left(T\\left(\\vec{X}\\right)\\right)=\\lambda*\\exp{\\left(-\\lambda*X\\right)}$\n",
    "2. $h\\left(\\bar{X}\\right)=1$\n",
    "3. $T=\\sum_{i=1}^{n}X_{i}=154.110000000000015$\n",
    "4. Показательное распределение принадлежит экспоненциальному семейству распределения, следовательно, МДС будет являться ПДС.\n",
    "5. $\\mathbb{E}_{\\lambda}\\frac{1}{\\bar{X}}=\\mathbb{E}_{\\lambda}\\frac{n}{\\sum_{i=1}^{n}X_{i}}=n*\\mathbb{E}_{\\lambda}\\left(\\sum_{i=1}^{n}X_{i}\\right)^{-1}=n*\\frac{1}{\\lambda}^{-1}*\\frac{\\Gamma\\left(-1+n\\right)}{\\Gamma\\left(n\\right)}=n*\\frac{\\lambda\\Gamma\\left(-1+n\\right)}{\\Gamma\\left(n\\right)\\Gamma\\left(-1+n\\right)}=\\frac{n*\\lambda}{n-1}$\n",
    "6. $\\tilde{\\lambda}=\\frac{\\widehat{\\lambda}n-1}{n}$\n",
    "7. $X_{i}~\\exp{\\lambda}$\n",
    "8. $X_{i}~Gamma\\left(1,\\frac{1}{\\lambda}\\right)$\n",
    "9. $\\sum_{i=1}^{n}X_{i}~Gamma\\left(1,\\frac{1}{\\lambda}\\right)$\n",
    "10. Если $X_{i}~Gamma\\left(\\alpha,\\beta\\right), где \\alpha>0,\\beta>0,\\gamma>-a,то \\mathbb{E}X_{i}^{\\gamma}=\\beta^{\\gamma}\\frac{\\Gamma\\left(\\gamma+\\alpha\\right)}{\\Gamma\\left(\\alpha\\right)}$"
   ]
  },
  {
   "cell_type": "markdown",
   "id": "ed007942-18e0-4114-a589-4485e4ae822f",
   "metadata": {},
   "source": [
    "## d)\n",
    "<br> Построить асимптотический доверительный интервал уровня значимости $\\alpha_{2}$ для параметра $\\lambda$ на базе оценки максимального правдоподобия.\n",
    "### Асимптотический доверительный интервал\n",
    "#### Второй способ: на базе ОМП\n",
    "##### Функция распределения стандартного нормального распределения\n",
    "$a_{2}=0.05$\n",
    "1. $\\sqrt{n}\\left(\\widehat{\\theta}\\left(\\vec{X}\\right)\\right)\\sim N\\left(0,\\frac{1}{I\\left(\\theta\\right)}\\right)$\n",
    "2. $\\widehat{\\theta}=\\tilde{\\lambda}=\\frac{1}{\\bar{X}}$\n",
    "3. $I(\\theta)=-\\mathbb{E}\\left( \\frac{\\partial^{2} LL}{\\partial \\lambda^{2}} \\right)=-\\mathbb{E}\\left( -\\frac{n}{2\\cdot \\lambda^{2}} \\right)=\\frac{n}{2\\cdot \\lambda^{2}}$ - информация Фишера\n",
    "4. $\\sqrt{n\\cdot I\\left(  \\widehat{\\theta}(\\overrightarrow{X})\\right)}\\left( \\widehat{\\theta}(\\overrightarrow{X})-\\theta \\right)\\sim N(0,1)$\n",
    "5. $X_{\\alpha}:\\mathrm{Ф}(X_{\\alpha})=1-\\frac{\\alpha_{2}}{2}=1-\\frac{0.05}{2}=0.975$\n",
    "    <br>a. $x\\thickapprox1.96$\n",
    "##### АДИ\n",
    "1. $\\widehat{\\theta}=\\widehat{\\lambda}=\\bar{X}=0.7$ - ОМП\n",
    "2. $\\sum_{i=1}^{50}x_{i}=154.10999999999996$\n",
    "3. $\\lambda^{2}=3.0822000000000003^{2}=9.49996$\n",
    "4. $I(\\theta)=-\\mathbb{E}\\left( \\frac{\\partial^{2} LL}{\\partial \\lambda^{2}} \\right)=-\\mathbb{E}\\left( -\\frac{\\sum_{i=1}^{n}X_{i}}{\\lambda^{2}} \\right)=-\\mathbb{E}\\left( -\\frac{154.10999999999996}{9.49996} \\right)=16.22217$\n",
    "5. $\\left[ \\widehat{\\theta}(\\vec{X})-\\frac{x_{\\alpha}}{\\sqrt{n\\cdot I\\left( \\widehat{\\theta}(\\vec{X}) \\right)}};\\widehat{\\theta}(\\vec{X})+\\frac{x_{\\alpha}}{\\sqrt{n\\cdot I\\left( \\widehat{\\theta}(\\vec{X}) \\right)}} \\right]$\n",
    "    <br>a. $\\left[ \\frac{1}{\\bar{X}}-\\frac{x_{0.975}}{\\sqrt{50\\cdot 16.22217}}; \\frac{1}{\\bar{X}}+\\frac{x_{0.975}}{\\sqrt{50\\cdot 16.22217}}\\right]$\n",
    "    <br>b. $\\frac{1}{3.0822000000000003} - \\frac{1.96}{\\sqrt{50\\cdot 16.22217}}\\le \\lambda\\le \\frac{1}{3.0822000000000003} + \\frac{1.96}{\\sqrt{50\\cdot 16.22217}}$\n",
    "    <br>c. $0.255623\\le \\lambda\\le 0.393264$"
   ]
  },
  {
   "cell_type": "markdown",
   "id": "63bd97d7-5c46-4448-a66a-201b659132b9",
   "metadata": {},
   "source": [
    "## e)\n",
    "<br> С использованием теоремы Колмогорова построить критерий значимости проверки простой гипотезы согласия с показательным распределением с параметром $\\lambda_{0}$. Проверить гипотезу на уровне значимости $\\alpha_{2}$. Вычислить наибольшее значение уровня значимости, на котором еще нет оснований отвергнуть данную теорию."
   ]
  },
  {
   "cell_type": "code",
   "execution_count": 1,
   "id": "ab27395c-e8e4-4627-ab0a-6556dd99f7ad",
   "metadata": {},
   "outputs": [
    {
     "name": "stdout",
     "output_type": "stream",
     "text": [
      "Вычисленное значение статистики Колмогорова D: 49.041898720060615\n",
      "Вычисленное критическое значение статичтики Колмогорова: 0.2447746827489105\n",
      "D > critical_value - по критерию Пирсона гипотеза отвергается\n",
      "Наибольшее значение уровня значимости, при котором нет оснований отвергнуть гипотезу:  0\n"
     ]
    }
   ],
   "source": [
    "import numpy as np\n",
    "import matplotlib.pyplot as plt\n",
    "from scipy import stats\n",
    "from scipy.stats import chi2\n",
    "from math import sqrt\n",
    "from scipy.stats import expon\n",
    "from scipy.stats import kstwobign\n",
    "data = [4.73, 0.72, 2.64, 2.05, 3.19, 5.26, 0.54, 6.16, 1.18, 1.20, 1.51, 1.51, 5.67, 3.67, 0.87, 2.31, 4.98, 1.16, 0.18, 3.04, 2.80, 6.03, 12.69, 1.28, 8.81, 1.39, 8.47, 1.01, 1.74, 4.40, 0.73, 0.84, 9.46, 0.71, 5.50, 0.07, 0.35, 0.20, 1.61, 3.83, 0.07, 1.17, 11.74, 0.21, 0.99, 6.26, 0.42, 0.32, 3.32, 5.12]\n",
    "n = len(data)\n",
    "sorted_data = np.sort(data)\n",
    "a_2 = 0.01\n",
    "D = np.max(np.abs(expon.cdf(sorted_data, scale=1/0.25) - np.arange(1, len(data)+1 / len(data))))\n",
    "print(\"Вычисленное значение статистики Колмогорова D:\",D)\n",
    "critical_value = kstwobign.ppf(1 - a_2/2) / np.sqrt(len(data))\n",
    "print(\"Вычисленное критическое значение статичтики Колмогорова:\",critical_value)\n",
    "\n",
    "if D <= critical_value:\n",
    "    print(\"D <= critical_value - по критерию Пирсона гипотеза принимается\")\n",
    "else:\n",
    "    print(\"D > critical_value - по критерию Пирсона гипотеза отвергается\")\n",
    "a_max = 0\n",
    "while D <= critical_value:\n",
    "    a_max += 0.001\n",
    "    critical_value = kstwobign.ppf(1 - a_max/2) / np.sqrt(len(data))\n",
    "print('Наибольшее значение уровня значимости, при котором нет оснований отвергнуть гипотезу: ', a_max)"
   ]
  },
  {
   "cell_type": "markdown",
   "id": "4e3d883c-e315-4500-95f9-24c275b20d70",
   "metadata": {},
   "source": [
    "## f)\n",
    "<br> Используя гистограмму частот, построить критерий значимости $\\mathcal{X^{2}}$ проверки простой гипотезы согласия с показательным распределением с параметром $\\lambda_{0}$. Проверить гипотезу на урокень значимости $\\alpha_{2}$. Вычислить наибольшее значение уровня значимости, на котором ещё нет оснований отвергнуть данную гипотезу."
   ]
  },
  {
   "cell_type": "code",
   "execution_count": 17,
   "id": "35a428d3-9c25-4893-a3f8-efe4b3daa529",
   "metadata": {},
   "outputs": [
    {
     "name": "stdout",
     "output_type": "stream",
     "text": [
      "Для уровня значимости: a2 = 0.05\n",
      "X^2_набл:  308.75467288955167\n",
      "X^2:  64.00111197221803\n",
      "X^2_набл > X^2 - по критерию Пирсона гипотеза отвергается\n",
      "Наибольшее значение уровня значимости, на котором ещё нет оснований отвергнуть данную гипотезу: 0.050000000000000155\n"
     ]
    }
   ],
   "source": [
    "import numpy as np\n",
    "import matplotlib.pyplot as plt\n",
    "from scipy import stats\n",
    "from scipy.stats import chi2\n",
    "from math import sqrt,exp\n",
    "data = [4.73, 0.72, 2.64, 2.05, 3.19, 5.26, 0.54, 6.16, 1.18, 1.20, 1.51, 1.51, 5.67, 3.67, 0.87, 2.31, 4.98, 1.16, 0.18, 3.04, 2.80, 6.03, 12.69, 1.28, 8.81, 1.39, 8.47, 1.01, 1.74, 4.40, 0.73, 0.84, 9.46, 0.71, 5.50, 0.07, 0.35, 0.20, 1.61, 3.83, 0.07, 1.17, 11.74, 0.21, 0.99, 6.26, 0.42, 0.32, 3.32, 5.12]\n",
    "Frequensy = [2,1,1,1,1,1,1,1,1,1,1,1,1,1,1,1,1,1,1,1,1,2,1,1,1,1,1,1,1,1,1,1,1,1,1,1,1,1,1,1,1,1,1,1,1,1,1,1,1,1]\n",
    "n = len(data)\n",
    "l = 0.33\n",
    "P_i = []\n",
    "nP_i = []\n",
    "Sum_nP = 0\n",
    "X_nabl = 0\n",
    "N=50\n",
    "data_X = np.unique(data)\n",
    "print(\"Для уровня значимости: a2 = 0.05\")\n",
    "for i in range(len(data_X)):\n",
    "    P_i.insert(i,l*exp(-l*data_X[i]))\n",
    "    nP_i.insert(i,P_i[i]*N)\n",
    "for i in range(len(data_X)):\n",
    "    X_nabl = X_nabl + (Frequensy[i]-nP_i[i])**2/(nP_i[i])\n",
    "print(\"X^2_набл: \", X_nabl)\n",
    "N = len(data_X)\n",
    "a_2 = 0.05\n",
    "degrees_of_freedom = N - 1\n",
    "X_2 = stats.chi2.ppf(1-a_2, degrees_of_freedom)\n",
    "print(\"X^2: \", X_2)\n",
    "if X_nabl < X_2:\n",
    "    print(\"X^2_набл < X^2 - по критерию Пирсона гипотеза принимается\")\n",
    "else:\n",
    "    print(\"X^2_набл > X^2 - по критерию Пирсона гипотеза отвергается\")\n",
    "k = len(data_X)\n",
    "a_max = 1 - chi2.cdf(X_2,k - 1)\n",
    "print(\"Наибольшее значение уровня значимости, на котором ещё нет оснований отвергнуть данную гипотезу:\", a_max)\n"
   ]
  },
  {
   "cell_type": "markdown",
   "id": "b92202f6-d340-4f6e-b14e-f8de68646cec",
   "metadata": {},
   "source": [
    "## g)\n",
    "<br> Построить критерий значимости  $\\mathcal{X^{2}}$ проверки сложной гипотезы согласия с показательным распределением. Проверить гипотезу по уровню значимости $\\alpha_{2}$.Вычислить наибольшее значение уровня значимости, на котором ещё нет оснований отвергнуть данную гипотезу."
   ]
  },
  {
   "cell_type": "code",
   "execution_count": 19,
   "id": "95a65cd0-f4d7-4404-8091-24331eb4c82e",
   "metadata": {},
   "outputs": [
    {
     "name": "stdout",
     "output_type": "stream",
     "text": [
      "Жля уровня значимости: a2 = 0.05\n",
      "X^2_набл:  2.0483691387147096\n",
      "X^2:  64.00111197221803\n",
      "X^2_набл < X^2 - по критерию Пирсона гипотеза принимается\n",
      "Наибольшее значение уровня значимости, на котором ещё нет оснований отвергнуть данную гипотезу: 0.050000000000000155\n"
     ]
    }
   ],
   "source": [
    "import numpy as np\n",
    "import matplotlib.pyplot as plt\n",
    "from scipy import stats\n",
    "from scipy.stats import chi2\n",
    "from math import sqrt,exp\n",
    "data = [4.73, 0.72, 2.64, 2.05, 3.19, 5.26, 0.54, 6.16, 1.18, 1.20, 1.51, 1.51, 5.67, 3.67, 0.87, 2.31, 4.98, 1.16, 0.18, 3.04, 2.80, 6.03, 12.69, 1.28, 8.81, 1.39, 8.47, 1.01, 1.74, 4.40, 0.73, 0.84, 9.46, 0.71, 5.50, 0.07, 0.35, 0.20, 1.61, 3.83, 0.07, 1.17, 11.74, 0.21, 0.99, 6.26, 0.42, 0.32, 3.32, 5.12]\n",
    "Frequensy = [2,1,1,1,1,1,1,1,1,1,1,1,1,1,1,1,1,1,1,1,1,2,1,1,1,1,1,1,1,1,1,1,1,1,1,1,1,1,1,1,1,1,1,1,1,1,1,1,1,1]\n",
    "n = len(data)\n",
    "X = 3.0822000000000003\n",
    "P_i = []\n",
    "nP_i = []\n",
    "Sum_nP = 0\n",
    "X_nabl = 0\n",
    "N = 50\n",
    "data_X = np.unique(data)\n",
    "print(\"Для уровня значимости: a2 = 0.05\")\n",
    "for i in range(len(data_X)):\n",
    "    P_i.insert(i,1/X*exp(-1/X*data_X[i]))\n",
    "    nP_i.insert(i,P_i[i]*N)\n",
    "for i in range(len(data_X)):\n",
    "    X_nabl = (Frequensy[i]-nP_i[i])**2/(nP_i[i])\n",
    "print(\"X^2_набл: \", X_nabl)\n",
    "a_2 = 0.05\n",
    "N=len(data_X)\n",
    "degrees_of_freedom = N - 1\n",
    "X_2 = stats.chi2.ppf(1-a_2, degrees_of_freedom)\n",
    "print(\"X^2: \", X_2)\n",
    "if X_nabl < X_2:\n",
    "    print(\"X^2_набл < X^2 - по критерию Пирсона гипотеза принимается\")\n",
    "else:\n",
    "    print(\"X^2_набл > X^2 - по критерию Пирсона гипотеза отвергается\")\n",
    "k = len(data_X)\n",
    "a_max = 1 - chi2.cdf(X_2,k - 1)\n",
    "print(\"Наибольшее значение уровня значимости, на котором ещё нет оснований отвергнуть данную гипотезу:\", a_max)"
   ]
  },
  {
   "cell_type": "markdown",
   "id": "3d01cdf9-e938-4a8a-b737-a218967fe2b9",
   "metadata": {},
   "source": [
    "## h)\n",
    "Построить наиболее мощный критерий проверки простой гипотезы о показательности с параметром $\\lambda = \\lambda_0$ при альтернативе показательности с параметром $\\lambda = \\lambda_1$. Проверить гипотезу на уровне значимости $\\alpha_2$. Что получится, если поменять местами основную и альтернативную гипотезы?\n",
    "#### Гипотезы\n",
    "$H_0: \\lambda = \\lambda_0$ - основная гипотеза , $H_1: \\lambda = \\lambda_1$  - альтернативная гипотеза\n",
    "##### Статистика отношения правдоподобия:\n",
    "<br> $LR(\\vec{x}) = \\frac{L(\\vec{x}, \\theta_1)}{L(\\vec{x}, \\theta_2)} = (\\frac{\\lambda_1}{\\lambda_0})^n \\cdot \\exp(\\sum\\limits_{i=1}^nx_i (\\lambda_0-\\lambda_1))$\n",
    "<br> В силу монотонности статистики $LR(\\vec{X})$ относительно МДС $\\bar{X}$\n",
    "<br>$LR(\\vec{x}) > c \\Leftrightarrow \\overline{x} < c^*$\n",
    "<br>$LR(\\vec{x}) < c \\Leftrightarrow \\overline{x} > c^*$\n",
    "<br>$\\phi(x) = \\left\\{\\begin{array}{l}1,\\overline{x} < c^*\\\\p,\\overline{x} = c^*\\\\0, \\overline{x} > c^*\\end{array}\\right.$\n",
    "##### По центральной предельной теореме:\n",
    "<br> $\\sqrt{n} \\frac{\\bar{X}-a}{\\sigma} \\sim \\mathcal{N}(0,1)$\n",
    "<br> $\\mathbb{E}{X} =\\frac{1}{\\lambda_0}, \\mathbb{D}{X} =\\frac{1}{\\lambda_0^2}$\n",
    "<br> $ \\sqrt{n} \\frac{\\bar{X}-\\frac{1}{\\lambda_0}}{\\sqrt{\\frac{1}{\\lambda_0^2}}} \\sim \\mathcal{N}(0,1)$\n",
    "<br> $P(\\sqrt{n} \\frac{\\bar{X}-\\frac{1}{\\lambda_0}}{\\frac{1}{\\lambda_0}} \\geq \\sqrt{n} \\frac{c^*-\\frac{1}{\\lambda_0}}{\\frac{1}{\\lambda_0}}) = 1 - \\Phi(\\sqrt{n} \\frac{c^*-\\frac{1}{\\lambda_0}}{\\frac{1}{\\lambda_0}}) = \\alpha$\n",
    "<br> $\\Phi(x_{\\alpha}) = 1 - \\alpha$\n",
    "<br> $x_{\\alpha} = 1.64$\n",
    "<br> $1.64 = \\sqrt{50} \\frac{c^*-\\frac{1}{0.33}}{\\frac{1}{0.33}}$\n",
    "<br> $c^* = 3.73312$\n",
    "<br> $\\bar{X}=3.0822000000000003$\n",
    "<br> $\\bar{X} =  \\Rightarrow \\bar{X} < c^*$ - значит гипотезу принимаем\n",
    "#### Гипотезы\n",
    "<br> $H_0: \\lambda = \\lambda_1$ - основная гипотеза , $H_1: \\lambda = \\lambda_0$  - альтернативная гипотеза\n",
    "##### Статистика отношения правдоподобия:\n",
    "<br> $LR(\\vec{x}) = \\frac{L(\\vec{x}, \\theta_1)}{L(\\vec{x}, \\theta_2)} = (\\frac{\\lambda_1}{\\lambda_0})^n \\cdot \\exp(\\sum\\limits_{i=1}^nx_i (\\lambda_0-\\lambda_1))$\n",
    "##### По центральной предельной теореме:\n",
    "<br> $\\sqrt{n} \\frac{\\bar{X}-\\frac{1}{\\lambda_1}}{\\sqrt{\\frac{1}{\\lambda_1^2}}} \\sim \\mathcal{N}(0,1)$\n",
    "<br> $\\mathbb{E}{X} =\\frac{1}{\\lambda_1}, \\mathbb{D}{X} =\\frac{1}{\\lambda_1^2}$\n",
    "<br> $P(\\sqrt{n} \\frac{\\bar{X}-\\frac{1}{\\lambda_1}}{\\frac{1}{\\lambda_1}} \\geq \\sqrt{n} \\frac{c^*-\\frac{1}{\\lambda_1}}{\\frac{1}{\\lambda_1}}) = 1 - \\Phi(\\sqrt{n} \\frac{c^*-\\frac{1}{\\lambda_1}}{\\frac{1}{\\lambda_1}})=\\alpha$\n",
    "<br> $\\Phi(x_{\\alpha}) = 1 - \\alpha$\n",
    "<br> $1.64 = \\sqrt{50} \\frac{c^*-\\frac{1}{0.25}}{\\frac{1}{0.25}}$\n",
    "<br> $c^* = 4.92772$\n",
    "<br> $\\bar{X}=3.0822000000000003$\n",
    "<br> $\\bar{X} =  \\Rightarrow \\bar{X} < c^*$ - значит гипотезу принимаем"
   ]
  },
  {
   "cell_type": "markdown",
   "id": "7fe4bb76-e32e-45b0-a534-44bb9a5727a9",
   "metadata": {},
   "source": [
    "## i)\n",
    "<br> В пунктах (c)-(h) заменить семейство показательных распределений на семейство гамма-распределений с плотностями $P_{\\lambda}(X)=\\frac{\\sqrt{\\lambda}\\cdot exp\\left( \\frac{-\\lambda\\cdot X}{2} \\right)}{\\sqrt{2\\cdot \\pi\\cdot X}} (испоьзовать таблицу распределений \\mathcal{X}^{2}_{1})$"
   ]
  },
  {
   "cell_type": "markdown",
   "id": "add0be69-3ba4-4359-9a79-19a544128ecc",
   "metadata": {},
   "source": [
    "### c_i)"
   ]
  },
  {
   "cell_type": "markdown",
   "id": "7490e477-7101-46d7-a951-acc03c9e7871",
   "metadata": {},
   "source": [
    "1. Построим ОМП.\n",
    "<br>a. Плотность показательного распределения: $P_{\\lambda}(X)=\\frac{\\sqrt{\\lambda}\\cdot exp\\left( \\frac{-\\lambda\\cdot X}{2} \\right)}{\\sqrt{2\\cdot \\pi\\cdot X}}$\n",
    "<br>b. $L(\\bar{X},\\theta)=\\prod_{i=1}^{n}\\frac{\\sqrt{\\lambda}\\cdot exp\\left( \\frac{-\\lambda\\cdot X}{2} \\right)}{\\sqrt{2\\cdot \\pi\\cdot X}}=\\frac{\\lambda^{\\frac{n}{2}}\\cdot exp\\left( \\frac{-\\lambda}{2} \\cdot \\sum_{i=1}^{n}X_{i}\\right)}{(2\\pi)^{\\frac{n}{2}}\\cdot (\\prod_{i=1}^{n}X_{i})^{\\frac{n}{2}}}$\n",
    "<br>c. $LL(\\bar{X},\\theta)=\\frac{n}{2}\\ln(\\lambda)-\\frac{-\\lambda\\cdot \\sum_{i=1}^{n}X_{i}}{2}-\\frac{n}{2}\\ln(2\\pi)-\\frac{n}{2}\\ln(\\prod_{i=1}^{n}X_{i})$\n",
    "<br>c_1. $\\frac{\\partial LL}{\\partial \\lambda}=\\frac{n}{2\\lambda}-\\frac{\\sum_{i=1}^{n}X_{i}}{2}=0$\n",
    "<br>c_2. $\\frac{n}{2\\lambda}=\\frac{\\sum_{i=1}^{n}X_{i}}{2}$\n",
    "<br>c_3. $\\frac{\\lambda}{n}=\\frac{1}{\\sum_{i=1}^{n}X_{i}}$\n",
    "<br>c_4. $\\lambda=\\frac{1}{\\overline{X}}$.\n",
    "<br>c_5. $\\widehat{\\lambda}=\\frac{1}{\\overline{X}}=0.324444$\n",
    "2. Построим по ОММ.\n",
    "<br>a. Для показательного распределения $P_{\\lambda}(X)=\\frac{\\sqrt{\\lambda}\\cdot exp\\left( \\frac{-\\lambda\\cdot X}{2} \\right)}{\\sqrt{2\\cdot \\pi\\cdot X}}$\n",
    "<br>b. Первый момент $\\mathbb{E}X_{1}=a \\cdot b=\\frac{1}{\\lambda};M_{1}=\\overline{X}$, $a-1=\\frac{-1}{2} \n",
    "<br>c. a=\\frac{1}{2}$ <br>c. Параметр $b=\\frac{2}{\\lambda}$\n",
    "Нашли из $\\left(P(X)=\\frac{1}{\\Gamma(a)\\cdot b^{a}}X^{a-1} \\cdot exp \\left(-\\frac{X}{b}\\right)\\right)$\n",
    "равен нашему параметру, и поскольку у нас 1-но мерный параметр, то у нас будет система из одного уравнения.\n",
    "<br>d. $\\widetilde{\\theta}=\\widetilde{\\lambda}=\\frac{1}{\\overline{X}}=0.324444$\n",
    "3. НРМД-оценка\n",
    "<br>a. $g\\left(T(\\bar{X})\\right)=\\frac{\\lambda^{\\frac{n}{2}}\\cdot exp\\left( \\frac{-\\lambda}{2} \\cdot \\sum_{i=1}^{n}X_{i}\\right)}{(\\prod_{i=1}^{n}X_{i})^{\\frac{n}{2}}}$\n",
    "<br>b. $h(\\bar{X})=\\frac{1}{(2\\pi)^{\\frac{n}{2}}}$\n",
    "<br>c. Достаточная минимальная статистика: $T=\\sum_{i=1}^{n}X_{i}=154.10999999999996$.\n",
    "<br>d. Показательное распределение принадлежит экспоненциальному семейству распределения, следовательно, МДС будет являться ПДС.\n",
    "<br>e. $\\mathbb{E}_{\\lambda}\\frac{1}{\\overline{X}}=\\mathbb{E}_{\\lambda}\\frac{n}{\\sum_{i=1}^{n}x_{i}}=n\\cdot \\mathbb{E_{\\lambda}}\\frac{1}{\\sum_{i=1}^{n}x_{i}}=n\\cdot \\mathbb{E}_{\\lambda}(\\sum_{i=1}^{n}X_{i})^{-1}=n\\cdot \\left(\\frac{1}{\\lambda}\\right)^{-1}\\frac{\\Gamma (-1+n)}{\\Gamma (n)}=n\\cdot \\lambda\\frac{\\Gamma (-1+n)}{\\Gamma(-1+n)\\cdot (n-1)}=\\frac{n\\cdot \\lambda}{n-1}\\to смещенная-оценка$\n",
    "<br>f. $\\widetilde{\\lambda}=\\widehat{\\lambda}\\frac{n-1}{n}$\n",
    "<br>h. $\\mathbb{E}_{\\lambda}\\widetilde{\\lambda}=\\mathbb{E}_{\\lambda}\\widehat{\\lambda}\\frac{n-1}{n}=\\frac{n-1}{n}\\mathbb{E}_{\\lambda}\\widehat{\\lambda}=\\frac{n-1}{n}\\cdot \\frac{n\\cdot \\lambda}{n-1}=\\lambda$-НРМД-оценка\n",
    "<br>i. $X_{i}\\sim Exp(\\lambda)$\n",
    "<br>k. $X_{i}\\sim Gamma(1,\\frac{1}{\\lambda})\\Rightarrow \\sum_{i=1}^{n}X_{i}\\sim Gamma(n,\\frac{1}{\\lambda})$\n",
    "Если $X_{i}\\sim Gamma(\\alpha,\\beta)$, $\\alpha\\gt 0$ и $\\beta\\gt 0$, $\\gamma\\gt -\\alpha$\n",
    "<br>l. $\\mathbb{E}X_{i}^{\\gamma}=\\beta^{\\gamma}\\frac{Г(\\gamma+\\alpha)}{Г(\\alpha)}$"
   ]
  },
  {
   "cell_type": "markdown",
   "id": "0a36e790-9d02-4740-8ab8-3e9561eea2d5",
   "metadata": {},
   "source": [
    "### d_i)"
   ]
  },
  {
   "cell_type": "markdown",
   "id": "809e39b1-d97e-41d3-9301-71d7e04ad7fe",
   "metadata": {},
   "source": [
    "1. Построим на базе ОМП.\n",
    "<br>a. $\\sqrt{n}\\left( \\widehat{\\theta}(\\bar{X})-\\theta \\right)\\sim N\\left( 0, \\frac{1}{I(\\theta)} \\right)$\n",
    "<br>b. ОМП $\\widehat{\\theta}=\\widehat{\\lambda}=\\frac{1}{\\overline{X}}$\n",
    "<br> Найдем информацию Фишера:\n",
    "<br>a. $I(\\theta)=-\\mathbb{E}\\left( \\frac{\\partial^{2} LL}{\\partial \\lambda^{2}} \\right)=-\\mathbb{E}\\left( -\\frac{n}{2\\cdot \\lambda^{2}} \\right)=\\frac{n}{2\\cdot \\lambda^{2}}$\n",
    "<br>b. $\\sqrt{n\\cdot I\\left(\\widehat{\\theta}(\\bar{X})\\right)}\\left( \\widehat{\\theta}(\\bar{X})-\\theta \\right)\\sim N(0,1)$\n",
    "<br>c. $x_{\\alpha}$: $\\mathrm{Ф}(x_{\\alpha})=1-\\frac{\\alpha_{1}}{2}=1-\\frac{0.05}{2}=0.975 \\to x_{0.975}$\n",
    "<br>d. $\\Phi(x)=\\int_{-\\infty}^{x}\\frac{1}{\\sqrt{2\\pi}}\\cdot\\exp(-\\frac{t^2}{2})dt=0.975$\n",
    "<br>e. $x\\thickapprox1.96$\n",
    "2. $\\widehat{\\theta}=\\widehat{\\lambda}=\\bar{X}=0.7$ - ОМП\n",
    "3. $\\sum_{i=1}^{50}x_{i}=35$\n",
    "4. $\\lambda^{2}=0,7^{2}=0.49$\n",
    "5. $А.Д.И. \\left[ \\frac{1}{\\overline{X}}-\\frac{X_{0.995}}{\\sqrt{50\\cdot \\frac{50}{2\\cdot \\overline{X}^{2}}}}; \\frac{1}{\\overline{X}}+\\frac{X_{0.995}}{\\sqrt{50\\cdot \\frac{50}{2\\cdot \\overline{X}^{2}}}}\\right]$\n",
    "<br> $0.324444-\\frac{1.96\\cdot 0.324444}{\\sqrt{50\\cdot 25 \\cdot 0.324444}}\\le \\lambda\\le 0.324444+\\frac{1.96\\cdot 0.324444}{\\sqrt{50\\cdot 25\\cdot 0.324444}}$\n",
    "$0.292867\\le \\lambda\\le 0.356021$- Асимп. довер. интервал параметра $\\lambda$.\n",
    "6.   Построим на безе асимтотической нормальной оценки $\\widehat{\\theta}$\n",
    "<br>a. $\\sqrt{n}\\left( \\widehat{\\theta}(\\bar{X})-\\theta \\right)\\sim N(0,\\sigma^{2}(\\theta))$\n",
    "<br>b. $\\sqrt{n}\\frac{ \\widehat{\\theta}(\\bar{X})-\\theta}{\\sigma(\\widehat{\\theta})}\\sim N(0,1)$\n",
    "<br>c. $-X_{0.995}\\le \\sqrt{n}\\cdot \\frac{\\widehat{\\lambda}-\\lambda}{\\sqrt{\\widehat{\\lambda}}}\\le X_{0.995}$\n",
    "<br>d. $0.324444-\\frac{1.96\\cdot 0.324444}{\\sqrt{50}}\\le \\lambda\\le 0.324444+\\frac{1.96\\cdot 0.324444}{\\sqrt{50}}$\n",
    "<br> асимптотический доверительный интервал параметра $\\lambda$\n",
    "<br>e. $0.234513\\le \\lambda\\le 0.414375$"
   ]
  },
  {
   "cell_type": "markdown",
   "id": "0d68fc0b-b2c4-4670-b96d-01f7fae430fe",
   "metadata": {},
   "source": [
    "### e_i)"
   ]
  },
  {
   "cell_type": "code",
   "execution_count": 49,
   "id": "5a3e2c78-05c3-4d4d-a8d6-a25c5b768063",
   "metadata": {},
   "outputs": [
    {
     "name": "stdout",
     "output_type": "stream",
     "text": [
      "Вычисленное значение статистики Колмогорова D: 49.041898720060615\n",
      "Вычисленное критическое значение статичтики Колмогорова: 0.20933286128879836\n",
      "D > critical_value - по критерию Пирсона гипотеза отвергается\n",
      "Наибольшее значение уровня значимости, при котором нет оснований отвергнуть гипотезу:  0\n"
     ]
    }
   ],
   "source": [
    "import numpy as np\n",
    "import matplotlib.pyplot as plt\n",
    "from scipy import stats\n",
    "from math import sqrt\n",
    "from scipy.stats import expon\n",
    "from scipy.stats import kstwobign\n",
    "from scipy.stats import gamma\n",
    "data = [4.73, 0.72, 2.64, 2.05, 3.19, 5.26, 0.54, 6.16, 1.18, 1.20, 1.51, 1.51, 5.67, 3.67, 0.87, 2.31, 4.98, 1.16, 0.18, 3.04, 2.80, 6.03, 12.69, 1.28, 8.81, 1.39, 8.47, 1.01, 1.74, 4.40, 0.73, 0.84, 9.46, 0.71, 5.50, 0.07, 0.35, 0.20, 1.61, 3.83, 0.07, 1.17, 11.74, 0.21, 0.99, 6.26, 0.42, 0.32, 3.32, 5.12]\n",
    "n = len(data)\n",
    "sorted_data = np.sort(data)\n",
    "a_2 = 0.05\n",
    "D = np.max(np.abs(gamma.cdf(sorted_data, 1, scale=1/0.25) - np.arange(1,len(data) + 1/len(data))))\n",
    "print(\"Вычисленное значение статистики Колмогорова D:\",D)\n",
    "critical_value = kstwobign.ppf(1 - a_2/2) / np.sqrt(len(data))\n",
    "print(\"Вычисленное критическое значение статичтики Колмогорова:\",critical_value)\n",
    "\n",
    "if D <= critical_value:\n",
    "    print(\"D < critical_value - по критерию Пирсона гипотеза принимается\")\n",
    "else:\n",
    "    print(\"D > critical_value - по критерию Пирсона гипотеза отвергается\")\n",
    "a_max = 0\n",
    "while D <= critical_value:\n",
    "    a_max += 0.001\n",
    "    critical_value = kstwobign.ppf(1 - a_max/2) / np.sqrt(len(data))\n",
    "print('Наибольшее значение уровня значимости, при котором нет оснований отвергнуть гипотезу: ', a_max)"
   ]
  },
  {
   "cell_type": "markdown",
   "id": "a101ae7b-79de-468a-8acd-740c9282b6e2",
   "metadata": {},
   "source": [
    "### f_i)"
   ]
  },
  {
   "cell_type": "code",
   "execution_count": 30,
   "id": "f891ba8c-287f-4ef7-a49a-000108e235c8",
   "metadata": {},
   "outputs": [
    {
     "name": "stdout",
     "output_type": "stream",
     "text": [
      "Для уровня значимости: a2 = 0.05\n",
      "X^2_набл:  2.619897377262131\n",
      "X^2:  64.00111197221803\n",
      "X^2_набл < X^2 - по критерию Пирсона гипотеза принимается\n",
      "Наибольшее значение уровня значимости, на котором еще нет оснований отвергнуть данную теорию: 1.0\n"
     ]
    }
   ],
   "source": [
    "import numpy as np\n",
    "import matplotlib.pyplot as plt\n",
    "from scipy import stats\n",
    "from scipy.stats import chi2\n",
    "from math import sqrt,exp,pi\n",
    "data = [4.73, 0.72, 2.64, 2.05, 3.19, 5.26, 0.54, 6.16, 1.18, 1.20, 1.51, 1.51, 5.67, 3.67, 0.87, 2.31, 4.98, 1.16, 0.18, 3.04, 2.80, 6.03, 12.69, 1.28, 8.81, 1.39, 8.47, 1.01, 1.74, 4.40, 0.73, 0.84, 9.46, 0.71, 5.50, 0.07, 0.35, 0.20, 1.61, 3.83, 0.07, 1.17, 11.74, 0.21, 0.99, 6.26, 0.42, 0.32, 3.32, 5.12]\n",
    "Frequensy = [2,1,1,1,1,1,1,1,1,1,1,1,1,1,1,1,1,1,1,1,1,2,1,1,1,1,1,1,1,1,1,1,1,1,1,1,1,1,1,1,1,1,1,1,1,1,1,1,1,1]\n",
    "n = len(data)\n",
    "l = 0.33\n",
    "P_i = []\n",
    "nP_i = []\n",
    "Sum_nP = 0\n",
    "X_nabl = 0\n",
    "N=50\n",
    "data_X = np.unique(data)\n",
    "print(\"Для уровня значимости: a2 = 0.05\")\n",
    "for i in range(len(data_X)):\n",
    "    P_i.insert(i,(l*exp(-(l*data_X[i])/(2)))/(sqrt(2*pi*data_X[i])))\n",
    "    nP_i.insert(i,P_i[i]*N)\n",
    "for i in range(len(data_X)):\n",
    "    X_nabl = (Frequensy[i]-nP_i[i])**2/(nP_i[i])\n",
    "print(\"X^2_набл: \", X_nabl)\n",
    "N = len(data_X)\n",
    "a_2 = 0.05\n",
    "degrees_of_freedom = N - 1\n",
    "X_2 = stats.chi2.ppf(1-a_2, degrees_of_freedom)\n",
    "print(\"X^2: \", X_2)\n",
    "if X_nabl < X_2:\n",
    "    print(\"X^2_набл < X^2 - по критерию Пирсона гипотеза принимается\")\n",
    "else:\n",
    "    print(\"X^2_набл > X^2 - по критерию Пирсона гипотеза отвергается\")\n",
    "a_max=0\n",
    "a_max = 1 - chi2.cdf(X_nabl, N - 1)\n",
    "print(\"Наибольшее значение уровня значимости, на котором еще нет оснований отвергнуть данную теорию:\", a_max)"
   ]
  },
  {
   "cell_type": "markdown",
   "id": "05cfb727-0af0-4e6d-bec8-225fe162f71b",
   "metadata": {},
   "source": [
    "### g_i)"
   ]
  },
  {
   "cell_type": "code",
   "execution_count": 50,
   "id": "2821de3c-27c2-47b1-a791-7d701cab9aa8",
   "metadata": {},
   "outputs": [
    {
     "name": "stdout",
     "output_type": "stream",
     "text": [
      "Для уровня значимости: a2 = 0.05\n",
      "X^2_набл:  0.8635861592878316\n",
      "X^2:  64.00111197221803\n",
      "X^2_набл < X^2 - по критерию Пирсона гипотеза принимается\n",
      "Наибольшее значение уровня значимости, на котором еще нет оснований отвергнуть данную теорию: 1.0\n"
     ]
    }
   ],
   "source": [
    "import numpy as np\n",
    "import matplotlib.pyplot as plt\n",
    "from scipy import stats\n",
    "from scipy.stats import chi2\n",
    "from math import sqrt,exp,pi\n",
    "data = [4.73, 0.72, 2.64, 2.05, 3.19, 5.26, 0.54, 6.16, 1.18, 1.20, 1.51, 1.51, 5.67, 3.67, 0.87, 2.31, 4.98, 1.16, 0.18, 3.04, 2.80, 6.03, 12.69, 1.28, 8.81, 1.39, 8.47, 1.01, 1.74, 4.40, 0.73, 0.84, 9.46, 0.71, 5.50, 0.07, 0.35, 0.20, 1.61, 3.83, 0.07, 1.17, 11.74, 0.21, 0.99, 6.26, 0.42, 0.32, 3.32, 5.12]\n",
    "Frequensy = [2,1,1,1,1,1,1,1,1,1,1,1,1,1,1,1,1,1,1,1,1,2,1,1,1,1,1,1,1,1,1,1,1,1,1,1,1,1,1,1,1,1,1,1,1,1,1,1,1,1]\n",
    "n = len(data)\n",
    "X = 3.0822000000000003\n",
    "P_i = []\n",
    "nP_i = []\n",
    "Sum_nP = 0\n",
    "X_nabl = 0\n",
    "N = 50\n",
    "data_X = np.unique(data)\n",
    "print(\"Для уровня значимости: a2 = 0.05\")\n",
    "for i in range(len(data_X)):\n",
    "    P_i.insert(i,(sqrt(1/X)*exp(-(1/X*data_X[i])/(2)))/(sqrt(2*pi*data_X[i])))\n",
    "    nP_i.insert(i,P_i[i]*N)\n",
    "for i in range(len(data_X)):\n",
    "    X_nabl = (Frequensy[i]-nP_i[i])**2/(nP_i[i])\n",
    "print(\"X^2_набл: \", X_nabl)\n",
    "N = len(data_X)\n",
    "a_2 = 0.05\n",
    "degrees_of_freedom = N - 1\n",
    "X_2 = stats.chi2.ppf(1-a_2, degrees_of_freedom)\n",
    "print(\"X^2: \", X_2)\n",
    "if X_nabl < X_2:\n",
    "    print(\"X^2_набл < X^2 - по критерию Пирсона гипотеза принимается\")\n",
    "else:\n",
    "    print(\"X^2_набл > X^2 - по критерию Пирсона гипотеза отвергается\")\n",
    "a_max=0\n",
    "a_max = 1 - chi2.cdf(X_nabl, N - 1)\n",
    "print(\"Наибольшее значение уровня значимости, на котором еще нет оснований отвергнуть данную теорию:\", a_max)"
   ]
  },
  {
   "cell_type": "markdown",
   "id": "ca2c6734-2bb8-42a9-9f1d-aff426db9b11",
   "metadata": {},
   "source": [
    "### h_i)\n",
    "#### Гипотезы\n",
    "$H_0: \\lambda = \\lambda_0$ - основная гипотеза , $H_1: \\lambda = \\lambda_1$  - альтернативная гипотеза\n",
    "##### Статистика отношения правдоподобия:\n",
    "<br> $LR(\\vec{x}) = \\frac{L(\\vec{X}, \\theta_1)}{L(\\vec{X}, \\theta_2)} = (\\frac{\\lambda_1}{\\lambda_0})^{\\frac{n}2} \\cdot \\exp\\left(\\frac{\\sum\\limits_{i=1}^nX_i}2(\\lambda_0-\\lambda_1)\\right)$\n",
    "<br> В силу монотонности статистики $LR(\\vec{X})$ относительно МДС $\\bar{X}$\n",
    "<br> $LR(\\vec{X}) > c \\Leftrightarrow \\bar{X} < c^*$\n",
    "<br> $\\phi(X) = \\left\\{\\begin{array}{l}1,\\bar{X} < c^*\\\\p,\\bar{X} = c^* \\\\0, \\bar{X} > c^*\\end{array}\\right.$\n",
    "##### По центральной предельной теореме:\n",
    "<br> $\\sqrt{n} \\frac{\\bar{X}-a}{\\sigma} \\sim \\mathcal{N}(0,1)$\n",
    "<br> $\\mathbb{E}{X} =\\frac{1}{\\lambda_0}, \\mathbb{D}{X} =\\frac{2}{\\lambda_0^2}$\n",
    "<br> $ \\sqrt{n} \\frac{\\bar{X}-\\frac{1}{\\lambda_0}}{\\sqrt{\\frac{2}{\\lambda_0^2}}} \\sim \\mathcal{N}(0,1)$\n",
    "<br> $P(\\sqrt{n} \\frac{\\bar{X}-\\frac{1}{\\lambda_0}}{\\frac{\\sqrt{2}}{\\lambda_0}} \\geq \\sqrt{n} \\frac{c^*-\\frac{1}{\\lambda_0}}{\\frac{\\sqrt{2}}{\\lambda_0}}) = 1 - \\Phi(\\sqrt{n} \\frac{c^*-\\frac{1}{\\lambda_0}}{\\frac{\\sqrt{2}}{\\lambda_0}}) = \\alpha$\n",
    "<br> $\\Phi(x_{\\alpha}) = 1 - \\alpha$\n",
    "<br> $x_{\\alpha} = 1.64$\n",
    "<br> $1.64 = \\sqrt{50} \\frac{c^*-\\frac{1}{0.33}}{\\frac{\\sqrt{2}}{0.33}}$\n",
    "<br> $c^* = 4.024 $\n",
    "<br> $\\bar{X}=3.0822000000000003$\n",
    "<br> $\\bar{X} =  \\Rightarrow \\bar{X} < c^*$ - значит гипотезу принимаем\n",
    "#### Гипотезы\n",
    "<br> $H_0: \\lambda = \\lambda_1$ - основная гипотеза , $H_1: \\lambda = \\lambda_0$  - альтернативная гипотеза\n",
    "##### Статистика отношения правдоподобия:\n",
    "<br> $LR(\\vec{X}) = \\frac{L(\\vec{X}, \\theta_1)}{L(\\vec{X}, \\theta_2)} = (\\frac{\\lambda_0}{\\lambda_1})^{\\frac{n}2} \\cdot \\exp\\left(\\frac{\\sum\\limits_{i=1}^nx_i}2(\\lambda_1-\\lambda_0)\\right)$\n",
    "##### По центральной предельной теореме:\n",
    "<br> $\\sqrt{n} \\frac{\\bar{X}-\\frac{1}{\\lambda_1}}{\\sqrt{\\frac{2}{\\lambda_1^2}}} \\sim \\mathcal{N}(0,1)$\n",
    "<br> $\\mathbb{E}{X} =\\frac{1}{\\lambda_1}, \\mathbb{D}{X} =\\frac{2}{\\lambda_1^2}$\n",
    "<br> $P(\\sqrt{n} \\frac{\\bar{X}-\\frac{1}{\\lambda_1}}{\\frac{\\sqrt{2}}{\\lambda_1}} \\geq \\sqrt{n} \\frac{c^*-\\frac{1}{\\lambda_1}}{\\frac{\\sqrt{2}}{\\lambda_1}}) = 1 - \\Phi(\\sqrt{n} \\frac{c^*-\\frac{1}{\\lambda_1}}{\\frac{\\sqrt{2}}{\\lambda_1}})=\\alpha$\n",
    "<br> $\\Phi(x_{\\alpha}) = 1 - \\alpha$\n",
    "<br> $1.64 = \\sqrt{n} \\frac{c^*-\\frac{1}{0.25}}{\\frac{\\sqrt{2}}{0.25}}$\n",
    "<br> $c^* = 5.312 $\n",
    "<br> $\\bar{X}=3.0822000000000003$\n",
    "<br> $\\bar{X} =  \\Rightarrow \\bar{X} < c^*$ - значит гипотезу принимаем"
   ]
  },
  {
   "cell_type": "markdown",
   "id": "55e7fe7a-08e6-437d-8ba5-8bcb800a1e34",
   "metadata": {},
   "source": [
    "## Выводы\n",
    "\n",
    "В процессе выполнения данной лабораторной работы мы изучили применение выборочных числовых характеристик. Освоили принципы работы с оценкой максимального правдоподобия (ОМП) и оценкой метода моментов (ОММ). Изучив основные концепции и методы,овладели навыками проведения статистических тестов, анализа выборочных данных, построения доверительных интервалов, проверки гипотез и многого другого.Для разных семейств распределений строили оценки, асимптотические интервалы, гипотезы. Были приобретены навыки реализации этих методов с использованием специальных библиотек: numpy, scipy, которые содержат необходимые для выполнения работы модули: stats, chi2, expon, kstwobign и gamma."
   ]
  },
  {
   "cell_type": "code",
   "execution_count": null,
   "id": "6621f2f5-9bd8-4e68-8f7a-e9affbf2dc5f",
   "metadata": {},
   "outputs": [],
   "source": []
  }
 ],
 "metadata": {
  "kernelspec": {
   "display_name": "Python 3 (ipykernel)",
   "language": "python",
   "name": "python3"
  },
  "language_info": {
   "codemirror_mode": {
    "name": "ipython",
    "version": 3
   },
   "file_extension": ".py",
   "mimetype": "text/x-python",
   "name": "python",
   "nbconvert_exporter": "python",
   "pygments_lexer": "ipython3",
   "version": "3.8.0"
  }
 },
 "nbformat": 4,
 "nbformat_minor": 5
}
