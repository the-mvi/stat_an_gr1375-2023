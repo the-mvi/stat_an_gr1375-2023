{
 "cells": [
  {
   "cell_type": "markdown",
   "metadata": {},
   "source": [
    "# Практическая работа №2: Классические методы математической статистики\n",
    "Выполнила студент гр. 1375 Оконечников Филипп. Вариант №19"
   ]
  },
  {
   "cell_type": "markdown",
   "metadata": {},
   "source": [
    "## Цель работы\n",
    "Научится применять методы математической статистики для решения задач статистического анализа; \n",
    "сформировать навыки реализации методов с помощью прикладных программных пакетов."
   ]
  },
  {
   "cell_type": "markdown",
   "metadata": {},
   "source": [
    "## Основные теоретические положения\n",
    "\n",
    " $$\\mathrm{L}\\left(\\vec{X}, \\theta \\right) = \\prod \\limits_{i = 1}^n p_{\\theta}(x_i)$$\n",
    "где $p_{\\theta}(x)$ - плотность распределения\n",
    "* Пусть $X_1, \\ldots, X_n$ - выборка из распределения $p_{\\theta}$ ; $\\vec{\\theta} = \\left(\\theta_1, \\ldots, \\theta_d \\right)$ ; существует $\\mu_k\\left(\\theta\\right) = \\mathbb{E}_{\\theta}x_1^k, k = 1, \\ldots, d$\n",
    "\n",
    "\n",
    "* Статистика $\\widehat{\\Theta} : \\mathcal{X} \\rightarrow \\mathcal{Y}$ , удовлетворяющая условию:\n",
    "$$\\mathbb{P}_{\\theta}\\left(\\widehat{\\Theta} \\ni \\theta\\right) \\geq 1 - \\alpha$$ \n",
    "называется **доверительной оценкой** парамаетра $\\theta$ уровня доверия $1 - \\alpha$.\n",
    "\n",
    "* Статистика $\\widehat{\\Theta} : \\mathcal{X} \\rightarrow \\mathbb{R}^2$, удовлетворяющая условию\n",
    "$$\\mathbb{P}_{\\theta}\\left(\\left[T_1\\left(\\vec{X}\\right), T_2\\left(\\vec{X}\\right)\\right] \\ni \\theta\\right) \\geq 1 - \\alpha, \\forall \\theta \\in \\Theta$$\n",
    "назвается **доверительным интервалом** параметра $\\theta$ уровня доверия $1 - \\alpha$.\n",
    "\n",
    "* **Простая гипотеза** - одноточечная гипотеза, определяющая точное значение параметра:\n",
    "$$H: \\theta = \\theta^*$$\n",
    "\n",
    "* **Нерандомизированный критерий**, если результаты наблюдений одзнозначно определяют решение:\n",
    "$$\\phi: \\mathcal{X} \\rightarrow \\{0,1\\}$$\n",
    "\n",
    "* **Статистика отношения правдоподобия:** $\\mathrm{LR}\\left(X, \\theta_1, \\theta_0\\right) = \\frac{\\mathrm{L}\\left(X, \\theta_1\\right)}{\\mathrm{L}\\left(X, \\theta_0\\right)}$\n",
    "\n",
    "* **Лемма Неймана-Пирсона:** существует более мощный критерий уровня значимости $\\alpha$ вида:\n",
    "$$\\phi(x) =\\left\\{\\begin{array}{l} 1, \\mathrm{LR} > c \\\\ \\mathrm{LR} = c  \\\\ 0, \\mathrm{LR} < c \\\\ \\end{array}\\right.$$\n",
    "где константа $c$ и вероятность $p \\in [0,1]$ определяются из уравнения: $\\mathbb{E}_{\\theta_0}\\phi(x) = \\mathbb{P}_{\\theta_0}\\left(\\mathrm{LR}(x)>c\\right) + p \\cdot \\mathbb{P}_{\\theta_0}\\left(\\mathrm{LR}(x)=c\\right) = \\alpha$\n"
   ]
  },
  {
   "cell_type": "markdown",
   "metadata": {},
   "source": [
    "## Постановка задачи\n",
    "Для полученных в результате эксперимента наборов данных выполнить статистическую обработку. Полученные результаты содержательно проинтерпретировать."
   ]
  },
  {
   "cell_type": "markdown",
   "metadata": {},
   "source": [
    "## Выполнение работы"
   ]
  },
  {
   "cell_type": "markdown",
   "metadata": {},
   "source": [
    "### Задание 1\n",
    "### a) Построить вариационный ряд, эмпирическую функцию распределения и гистограмму частот."
   ]
  },
  {
   "cell_type": "code",
   "execution_count": 209,
   "metadata": {},
   "outputs": [],
   "source": [
    "import matplotlib.pyplot as plt\n",
    "import numpy as np\n",
    "import seaborn as sns\n",
    "import statistics as stat\n",
    "import math\n",
    "from scipy.stats import chi2, norm, kstest, kstwobign, t, poisson, geom, expon, gamma\n",
    "from scipy.integrate import quad\n",
    "\n",
    "data_1 = [11, 12, 3, 2, 6, 14, 3, 6, 0, 3, 9, 10, 5, 3, 0, 4, 4, 6, 4, 1, 0, 7, 5, 4, 0, 5, 12, 4, 0, 0, 5, 6, 19, 4, 0, 2, 11, 3, 2, 0, 0, 4, 11, 2, 2, 2, 6, 7, 3, 8]\n",
    "data_sort = [x for x in data_1]\n",
    "data_sort.sort()\n",
    "n = len(data_1)"
   ]
  },
  {
   "cell_type": "code",
   "execution_count": 210,
   "metadata": {},
   "outputs": [
    {
     "name": "stdout",
     "output_type": "stream",
     "text": [
      "Вариационный ряд: [0, 0, 0, 0, 0, 0, 0, 0, 0, 1, 2, 2, 2, 2, 2, 2, 3, 3, 3, 3, 3, 3, 4, 4, 4, 4, 4, 4, 4, 5, 5, 5, 5, 6, 6, 6, 6, 6, 7, 7, 8, 9, 10, 11, 11, 11, 12, 12, 14, 19]\n"
     ]
    }
   ],
   "source": [
    "#вариационный ряд\n",
    "\n",
    "def variation(data):\n",
    "    data.sort()\n",
    "    data = [str(i) for i in data]\n",
    "    return ','.join(data)\n",
    "print( \"Вариационный ряд:\", data_sort)\n",
    "\n",
    "#print(data.count(0)/n) #частота\n",
    "#print(data.count(1)/n)\n",
    "#print(data.count(2)/n)\n",
    "#print(data.count(3)/n)"
   ]
  },
  {
   "cell_type": "markdown",
   "metadata": {},
   "source": [
    "Таким образом, вариационный ряд:\n",
    " $$\\vec{X}^\\prime = \\left(0,0,0,0,0,0,0,0,0,1,2,2,2,2,2,2,3,3,3,3,3,3,4,4,4,4,4,4,4,5,5,5,5,6,6,6,6,6,7,7,8,9,10,11,11,11,12,12,14,19 \\right)$$"
   ]
  },
  {
   "cell_type": "code",
   "execution_count": 211,
   "metadata": {},
   "outputs": [
    {
     "name": "stderr",
     "output_type": "stream",
     "text": [
      "c:\\Users\\79062\\AppData\\Local\\Programs\\Python\\Python310\\lib\\site-packages\\seaborn\\_oldcore.py:1498: FutureWarning: is_categorical_dtype is deprecated and will be removed in a future version. Use isinstance(dtype, CategoricalDtype) instead\n",
      "  if pd.api.types.is_categorical_dtype(vector):\n",
      "c:\\Users\\79062\\AppData\\Local\\Programs\\Python\\Python310\\lib\\site-packages\\seaborn\\_oldcore.py:1119: FutureWarning: use_inf_as_na option is deprecated and will be removed in a future version. Convert inf values to NaN before operating instead.\n",
      "  with pd.option_context('mode.use_inf_as_na', True):\n"
     ]
    },
    {
     "data": {
      "image/png": "[encoded data removed]",
      "text/plain": [
       "<Figure size 640x480 with 1 Axes>"
      ]
     },
     "metadata": {},
     "output_type": "display_data"
    }
   ],
   "source": [
    "def F(x): #эмпирическая функция распределения P(X < x)\n",
    "    sum_i = 0\n",
    "    for item in data_1:\n",
    "        if item < x:\n",
    "            sum_i += 1 #сумма индикаторов\n",
    "    return sum_i/n\n",
    "\n",
    "sns.ecdfplot(data_1) #построение эмпирической функции распределения\n",
    "\n",
    "plt.title(\"Эмпирическая функция распределения\")\n",
    "plt.xlabel(\"x\")\n",
    "plt.ylabel(\"F(x)\")\n",
    "plt.show()"
   ]
  },
  {
   "cell_type": "markdown",
   "metadata": {},
   "source": [
    "| $x_{i}$ | 0 | 1 | 2 | 3 | 4 | 5 | 6 | 7 | 8 | 9 | 10 | 11 | 12 | 14 | 19 |\n",
    "|---|---|---|---|---|---|---|---|---|---|---|---|---|---|---|---|\n",
    "| $n_{i}$ | 0 | 9 | 10 | 16 | 22 | 29 | 33 | 38 | 40 | 41 | 42  | 43  | 46  | 48  | 49  |\n",
    "| $w_{i}$ | 0 | 0.18 | 0.2 | 0.32 | 0.44 | 0.58 | 0.66 | 0.72 | 0.8 | 0.82 | 0.84 | 0.86 | 0.92 | 0.96 | 0.98 |"
   ]
  },
  {
   "cell_type": "code",
   "execution_count": 212,
   "metadata": {},
   "outputs": [
    {
     "data": {
      "image/png": "[encoded data removed]",
      "text/plain": [
       "<Figure size 640x480 with 1 Axes>"
      ]
     },
     "metadata": {},
     "output_type": "display_data"
    }
   ],
   "source": [
    "#гистограмма частот\n",
    "\n",
    "hist = plt.hist(data_1, edgecolor='black', bins=20, weights=np.ones_like (data_1) / n, range=(min(data_1)-0.5, max(data_1)+0.5))\n",
    "plt.title('Гистограмма частот');"
   ]
  },
  {
   "cell_type": "markdown",
   "metadata": {},
   "source": [
    "| $x_{i}$ | 0 | 1 | 2 | 3 | 4 | 5 | 6 | 7 | 8 | 9 | 10 | 11 | 12 | 14 | 19 |\n",
    "|---------|---|---|---|---|---|---|---|---|---|---|----|----|----|----|----|\n",
    "| $n_{i}$ | 9 | 1 | 6 | 6 | 7 | 4 | 5 | 2 | 1 | 1 | 1  | 3  | 2  | 1  | 1  |\n",
    "| $w_{i}$ | 0.18 | 0.02 | 0.12 | 0.12 | 0.14 | 0.08 | 0.1 | 0.04 | 0.02 | 0.02 | 0.02  | 0.06  | 0.04  | 0.02  | 0.02  |"
   ]
  },
  {
   "cell_type": "markdown",
   "metadata": {},
   "source": [
    "### 1.b Вычислить выборочные аналоги следующих числовых характеристик:"
   ]
  },
  {
   "cell_type": "code",
   "execution_count": 213,
   "metadata": {},
   "outputs": [
    {
     "name": "stdout",
     "output_type": "stream",
     "text": [
      "Математическое ожидание: 4.8\n"
     ]
    }
   ],
   "source": [
    "#Математическое ожидание\n",
    "\n",
    "mean_sum = 0\n",
    "for x in data_1:\n",
    "    mean_sum = mean_sum + x\n",
    "mean = mean_sum / n\n",
    "print(f'Математическое ожидание: {mean}')"
   ]
  },
  {
   "cell_type": "markdown",
   "metadata": {},
   "source": [
    "Получаем выборочный аналог математического ожидания - выборочное среднее:\n",
    "$$\\overline{X} =\\frac{1}{n}\\sum_{i=1}^{n}x_i= 4.8$$"
   ]
  },
  {
   "cell_type": "code",
   "execution_count": 214,
   "metadata": {},
   "outputs": [
    {
     "name": "stdout",
     "output_type": "stream",
     "text": [
      "Дисперсия: 17.4\n",
      "Выборочное СКО:  4.171330722922842\n"
     ]
    }
   ],
   "source": [
    "#Выборочный аналог дисперсии и СКО\n",
    "\n",
    "disp_help = 0\n",
    "for x in data_1:\n",
    "    disp_help = disp_help + ((x - mean) ** 2)\n",
    "disp = round(disp_help / n, 2)\n",
    "print(f'Дисперсия: {disp}')\n",
    "\n",
    "s = disp**0.5 #выборочное СКО\n",
    "\n",
    "print(\"Выборочное СКО: \", s)"
   ]
  },
  {
   "cell_type": "markdown",
   "metadata": {},
   "source": [
    "Получаем выборочный аналог дисперсии и СКО - выборочную дисперсию и выборочное СКО: \n",
    "$$S^2 =\\frac{1}{n}\\sum_{i=1}^{n}\\left(x_i-\\overline{X}\\right)=17.4$$ \n",
    "$$S=\\sqrt{S^2}=4.17$$"
   ]
  },
  {
   "cell_type": "code",
   "execution_count": 215,
   "metadata": {},
   "outputs": [
    {
     "name": "stdout",
     "output_type": "stream",
     "text": [
      "X_[25] = 0, X_[26] = 12\n"
     ]
    }
   ],
   "source": [
    "#Выборочная медиана\n",
    "\n",
    "print(f'X_[25] = {data_1[24]}, X_[26] = {data_1[26]}')"
   ]
  },
  {
   "cell_type": "markdown",
   "metadata": {},
   "source": [
    "Выборочная медиана: <br><br>\n",
    "$$np = 50\\cdot\\frac{1}{2}=25\\in \\mathbb Z \\Rightarrow \\large z_{50,\\frac{1}{2}} = \\normalsize \\left[ X_{(25)},X_{(26)} \\right) = \\left[4,4\\right) = 4$$"
   ]
  },
  {
   "cell_type": "code",
   "execution_count": 216,
   "metadata": {},
   "outputs": [
    {
     "name": "stdout",
     "output_type": "stream",
     "text": [
      "Коэффициент ассиметрии: 1.15\n"
     ]
    }
   ],
   "source": [
    "#Выборочная асимметрия\n",
    "\n",
    "assimetry_help = 0\n",
    "for x in data_1:\n",
    "    assimetry_help = assimetry_help + ((x - mean) ** 3)\n",
    "assimetry = round(assimetry_help / (n *(s ** 3)),2)\n",
    "print(f'Коэффициент ассиметрии: {assimetry}')"
   ]
  },
  {
   "cell_type": "markdown",
   "metadata": {},
   "source": [
    "Выборочный коэффициент асимметрии: \n",
    "$$\\widehat{\\mathrm{Skew}}X=\\frac{1}{n}\\frac{\\sum \\limits_{i=1}^{n}\\left(x_i-\\overline{X}\\right)^3}{S^3} = 1.15$$"
   ]
  },
  {
   "cell_type": "code",
   "execution_count": 217,
   "metadata": {},
   "outputs": [
    {
     "name": "stdout",
     "output_type": "stream",
     "text": [
      "Коэффициент эксцесса: 1.245\n"
     ]
    }
   ],
   "source": [
    "excess_help = 0\n",
    "for x in data_1:\n",
    "    excess_help = excess_help + ((x - mean) ** 4)\n",
    "excess = round(excess_help / (n * (disp ** 2)), 3)-3\n",
    "\n",
    "print(f'Коэффициент эксцесса: {excess}')"
   ]
  },
  {
   "cell_type": "markdown",
   "metadata": {},
   "source": [
    "Выборочный коэффициент эксцесса:\n",
    "$$\\widehat{\\mathrm{Kurt}}X=\\frac{1}{n}\\frac{\\sum \\limits_{i=1}^{n}\\left(x_i-\\overline{X}\\right)^4}{S^4}-3 = 1.245$$"
   ]
  },
  {
   "cell_type": "code",
   "execution_count": 218,
   "metadata": {},
   "outputs": [
    {
     "name": "stdout",
     "output_type": "stream",
     "text": [
      "F(a) = 0.32, F(b) = 0.84\n",
      "F(b) - F(a) = 0.52\n"
     ]
    }
   ],
   "source": [
    "def F(y):\n",
    "    for i in range(n):\n",
    "        if data_sort[i] >= y:\n",
    "            return i\n",
    "    return n - 1\n",
    "\n",
    "a = 2.81\n",
    "b = 9.38\n",
    "print(f'F(a) = {F(a)/n}, F(b) = {F(b)/n}')\n",
    "print(f'F(b) - F(a) = {(F(b) - F(a))/n}')"
   ]
  },
  {
   "cell_type": "markdown",
   "metadata": {},
   "source": [
    "Выборочный аналог $\\mathbb{P}\\left(x \\in \\left[a, b\\right]\\right)$, a = 2.81, b = 9.38: <br><br>\n",
    "\n",
    "$$\\mathbb{P}\\left(x \\in \\left[a, b\\right]\\right) = \\mathrm{F}(b) - \\mathrm{F}(a) = 0.84 - 0.32 = 0.52$$\n",
    " где $\\mathrm{F}(x)$ - эмпирическая функция распределения"
   ]
  },
  {
   "cell_type": "markdown",
   "metadata": {},
   "source": [
    "### 1.c В предположении, что исходные наблюдения являются выборкой из распределения Пуассона, построить оценку максимального правдоподобия параметра $\\lambda$, а также оценку $\\lambda$ по методу моментов. Найти смещение оценок. <br><br>\n",
    "\n",
    "**Плотность распределения пуассона**: \n",
    "$$\\large q_{\\theta} = \\frac{\\lambda^x}{x!}e^{-\\lambda}$$\n",
    "\n",
    "***Оценка максимального правдоподобия:***<br><br>\n",
    "$ L\\left(\\vec{X}, \\theta \\right) =\\prod\\limits_{i = 1}^nq_{\\theta}\\left(\\normalsize x_i\\right)=\\prod\\limits_{i = 1}^n\\frac{\\lambda^x_i}{x_i!}e^{-\\lambda} = \\large \\lambda^{\\sum \\limits_{i=1}^{n}x_i} \\cdot e^{-n\\lambda} \\cdot \\prod\\limits_{i = 1}^n\\frac{1}{x_i!}$ <br><br>\n",
    "\n",
    "$LL\\left(\\vec{X}, \\theta \\right) = \\sum \\limits_{i=1}^{n}x_i \\cdot \\ln{\\lambda} - n\\lambda + \\ln{\\left(\\prod\\limits_{i = 1}^n\\frac{1}{\\large x_i!}\\right)}$ <br><br>\n",
    "\n",
    "$\\Large \\frac{\\partial LL}{\\partial \\lambda} = \\frac{\\sum \\limits_{i=1}^{n}x_i}{\\lambda} \\normalsize - n = 0 \\Rightarrow \\widehat{\\theta} = \\widehat{\\lambda} = \\overline{X}$ - ОМП <br><br>\n",
    "\n",
    "$\\large \\mathbb{E}_{\\theta}\\widehat{\\theta} = \\mathbb{E}_{\\theta}\\overline{X} = \\mathbb{E}_{\\theta}\\frac{1}{n}\\sum \\limits_{i=1}^{n}x_i = \\frac{1}{n} \\cdot \\normalsize n \\cdot \\lambda = \\lambda \\Rightarrow$ несмещённая оценка. <br><br>\n",
    "\n",
    "***Оценка методом моментов:***<br><br>\n",
    "$\\mathbb{E}X_1 = \\lambda$ - математическое ожидание (теоретический первый момент)<br><br> \n",
    "$\\mathrm{M_1} = \\overline{X}$ - выборочное среднее (выборочный первый момент)<br><br>\n",
    "Следовательно, $\\widetilde{\\theta} = \\widetilde{\\lambda} = \\overline{X}$<br><br>\n",
    "\n",
    "$\\large \\mathbb{E}_{\\theta}\\widetilde{\\theta} = \\mathbb{E}_{\\theta}\\overline{X} = \\mathbb{E}_{\\theta}\\frac{1}{n}\\sum \\limits_{i=1}^{n}x_i = \\frac{1}{n} \\cdot \\normalsize n \\cdot \\lambda = \\lambda \\Rightarrow$ несмещённая оценка.\n"
   ]
  },
  {
   "cell_type": "markdown",
   "metadata": {},
   "source": [
    "### 1.d Построить асимптотичексий доверительный интервал уровня значимости $\\alpha_1 = 0.02$ для параметра $\\lambda$ на базе оценки максимального правдоподобия. <br>\n",
    " **Плотность распределения пуассона**: \n",
    "$$\\large q_{\\theta} = \\frac{\\lambda^x}{x!}e^{-\\lambda}$$\n",
    "\n",
    "* Построение АДИ на базе ОМП:\n",
    "\n",
    "Из пункта 1.с:<br>\n",
    "\n",
    "$\\widehat{\\theta} = \\widehat{\\lambda} = \\overline{X}$<br>\n",
    "\n",
    "$\\Large \\frac{\\partial LL}{\\partial \\lambda} = \\frac{\\sum \\limits_{i=1}^{n}x_i}{\\lambda} \\normalsize - n$<br>\n",
    "\n",
    "$\\Large \\frac{\\partial^2 LL}{\\partial \\lambda^2} = \\normalsize - \\Large \\frac{\\sum \\limits_{i=1}^{n}x_i}{\\lambda^2}$<br>\n",
    "\n",
    "$\\mathrm{I}_n(\\lambda) = - \\large \\mathbb{E}_{\\theta}\\frac{\\partial^2 LL}{\\partial \\lambda^2} = \\mathbb{E}_{\\theta} \\left(\\frac{\\sum \\limits_{i=1}^{n}x_i}{\\lambda^2}\\right) = \\frac{1}{\\lambda^2}\\sum \\limits_{i=1}^{n}\\mathbb{E}_{\\theta}x_i = \\frac{1}{\\lambda^2} \\cdot n \\cdot \\lambda = \\Large \\frac{n}{\\lambda}$ <br>\n",
    "\n",
    "$\\mathrm{I}(\\lambda) = \\lim \\limits_{n \\to \\infty} \\large \\frac{1}{\\lambda} = \\frac{1}{\\lambda}$ <br>\n",
    "\n",
    "**Квантили:** \n",
    "\n",
    "Так как распределение симметричное: <br><br>\n",
    "$x_{\\alpha} : \\mathrm{\\Phi}(x_{\\alpha}) = 1 - \\frac{\\alpha}{2} = 1 - \\frac{0.02}{2} = 0.99$, где $\\alpha = \\alpha_1 = 0.02$<br><br>\n",
    "$\\mathrm{\\Phi}(x_{\\alpha}) = 0.99 \\Rightarrow x_{\\alpha} = 2.33$ (посчитано в коде с использованием scipy.stats).\n",
    "\n",
    "*Асимптотический доверительный интервал:* <br><br>\n",
    "$\\left[\\overline{X} - \\sqrt{\\frac{\\overline{X}}{n}} \\cdot x_{\\alpha} , \\overline{X} + \\sqrt{\\frac{\\overline{X}}{n}} \\cdot x_{\\alpha}\\right] \\ni \\lambda$\n",
    "\n",
    "Таким образом, АДИ уровня значимости $\\alpha_1 = 0.02$ для параметра $\\lambda$:\n",
    "$$\\left[4.07,5.52\\right] \\ni \\lambda$$\n",
    "\n",
    "* Построение АДИ на базе асимптотически нормальной оценки параметра:\n",
    "\n",
    "*Асимптотическая нормальность:*\n",
    "\n",
    "$\\sqrt{n}\\left(\\overline{X} - \\lambda\\right) \\sim \\mathcal{N}\\left(0, \\mathbb{D}x\\right)$\n",
    "\n",
    "Тогда получим:\n",
    "\n",
    "$\\sqrt{n}\\frac{\\left(\\overline{X} - \\lambda\\right)}{\\sqrt{\\lambda}} \\sim \\mathcal{N}\\left(0, 1\\right)$\n",
    "\n",
    "Так как распределение симметричное: <br><br>\n",
    "$x_{\\alpha} : \\mathrm{\\Phi}(x_{\\alpha}) = 1 - \\frac{\\alpha}{2} = 1 - \\frac{0.02}{2} = 0.99$, где $\\alpha = \\alpha_1 = 0.02$<br><br>\n",
    "$\\mathrm{\\Phi}(x_{\\alpha}) = 0.99 \\Rightarrow x_{\\alpha} = 0.816$ (посчитано в коде с использованием scipy.stats).\n",
    "\n",
    "*Асимптотический доверительный интервал:* <br><br>\n",
    "(Далее будут приведены окгруглённые до двух знаков после запятой значения, посчитанные в коде)\n",
    "1) $\\mathbb{D}x = \\lambda$. Заменим в знаменателе параметр на выборочную дисперсию:\n",
    "\n",
    "$\\mathbb{P}_{\\theta}\\left(-x_{\\alpha} \\leq \\sqrt{n} \\cdot \\frac{\\overline{X} - \\lambda}{\\sqrt{S^2}} \\leq x_{\\alpha}\\right) \\approx 1 - \\alpha$\n",
    "\n",
    "$\\mathbb{P}_{\\theta}\\left(\\overline{X} - \\frac{S}{\\sqrt{n}} \\cdot x_{\\alpha} \\leq \\lambda \\leq \\overline{X} + \\frac{S}{\\sqrt{n}} \\cdot x_{\\alpha}\\right) \\approx 1 - \\alpha$\n",
    "\n",
    "Таким образом, АДИ уровня значимости $\\alpha_1 = 0.02$ для параметра $\\lambda$:\n",
    "$$\\left[4.03,5.54\\right] \\ni \\lambda$$\n",
    "\n",
    "2) В знаменателе заменим параметр на $\\overline{X}$:\n",
    "\n",
    "$\\mathbb{P}_{\\theta}\\left(-x_{\\alpha} \\leq \\sqrt{n} \\cdot \\frac{\\overline{X} - \\lambda}{\\sqrt{\\overline{X}}} \\leq x_{\\alpha}\\right) \\approx 1 - \\alpha$\n",
    "\n",
    "$\\mathbb{P}_{\\theta}\\left(\\overline{X} - \\sqrt{\\frac{\\overline{X}}{n}} \\cdot x_{\\alpha} \\leq \\lambda \\leq \\overline{X} + \\sqrt{\\frac{\\overline{X}}{n}}\\right) \\approx 1 - \\alpha$\n",
    "\n",
    "Таким образом, АДИ уровня значимости $\\alpha_1 = 0.02$ для параметра $\\lambda$:\n",
    "$$\\left[4.4,5.2\\right] \\ni \\lambda$$"
   ]
  },
  {
   "cell_type": "code",
   "execution_count": 219,
   "metadata": {},
   "outputs": [
    {
     "name": "stdout",
     "output_type": "stream",
     "text": [
      "x_alpha = 1.290000000000001\n",
      "1) Асимптотический доверительный интервал:  [4.400308118671394, 5.199691881328605]\n",
      "2) Асимптотический доверительный интервал:  [4.039009329886364, 5.560990670113636]\n",
      "3) Асимптотический доверительный интервал:  [4.400308118671394, 5.199691881328605]\n"
     ]
    }
   ],
   "source": [
    "x_alpha = 0\n",
    "while norm.cdf(x_alpha) <= 0.9:\n",
    "    x_alpha += 0.01\n",
    "print('x_alpha =', x_alpha)\n",
    "aci = []\n",
    "\n",
    "left_1 = mean - x_alpha * (mean / n)**0.5 #подсчёт левой границы АДИ\n",
    "aci.append(left_1)\n",
    "right_1 = mean + x_alpha * (mean / n)**0.5 #подсчёт правой границы АДИ\n",
    "aci.append(right_1)\n",
    "print(\"1) Асимптотический доверительный интервал: \", aci)\n",
    "\n",
    "left_2 = mean - (s / n**0.5) * x_alpha\n",
    "right_2 =  mean + (s / n**0.5) * x_alpha\n",
    "print(\"2) Асимптотический доверительный интервал: \", [left_2, right_2])\n",
    "\n",
    "left_3 = mean - x_alpha * (mean / n)**0.5\n",
    "right_3 = mean + x_alpha * (mean / n)**0.5\n",
    "print(\"3) Асимптотический доверительный интервал: \", [left_3, right_3])"
   ]
  },
  {
   "cell_type": "markdown",
   "metadata": {},
   "source": [
    "### 1.е Используя гистограмму частот, построить критерий значимости $\\chi^2$ проверки простой гипотезы согласия с распределением Пуассона с параметром $\\lambda_0 = 6.00$. Проверить гипотезу на уровне значимости $\\alpha_1 = 0.02$. Вычислить наибольшее значение уровня значимости, на котором ещё нет оснований отвергнуть данную гипотезу.\n",
    "\n",
    "Разобьём числовую прямую на интервалы: $G_1 = \\left(- \\infty, 3.5\\right]$,  $G_2 = \\left(3.5, 4.5\\right]$, $G_3 = \\left(4.5, 5.5\\right]$, $G_4 = \\left(5.5, 6.5\\right]$  $G_5 = \\left(6.5, +\\infty\\right)$\n",
    "\n",
    "Рассмотрим $\\mathbb{P}_{k} = \\mathbb{P}_{\\theta}\\left(x_i \\in G_k\\right) = \\sum \\limits_{x \\in G_k} q_{\\theta}(x)$, где $q_{\\theta}(x)$ - плотность распределения Пуассона.\n",
    "\n",
    "$\\mathbb{P}_{1} = 0.15$ <br> \n",
    "\n",
    "$\\mathbb{P}_{2} = 0.13$ <br>\n",
    "\n",
    "$\\mathbb{P}_{3} = 0.16$ <br>\n",
    "\n",
    "$\\mathbb{P}_{4} = 0.16$ <br>\n",
    "\n",
    "$\\mathbb{P}_{5} = 0.08$ <br>\n",
    "\n",
    "Получили статистику критерия $\\chi^2 = \\sum \\limits_{i=1}^3 \\large \\frac{\\left(n_i - n\\mathbb{P}_i\\right)^2}{n\\mathbb{P}_i}  \\normalsize = 46.65$<br>\n",
    "Из таблицы: $\\chi_{k-1, \\alpha_1}^2 = \\chi_{2, 0.2}^2 = 7.82$ <br>\n",
    "\n",
    "$\\chi^2 > \\chi_{2, 0.2}^2 \\Rightarrow$ гипотезу отвергаем, так как статистика критерия попадает в критическую облать.\n",
    "\n",
    "Наибольшее значение уровня значимости, при котором ещё нет оснований отвергнуть данную гипотезу, $\\alpha = 6.2 \\cdot 10^{-17}$"
   ]
  },
  {
   "cell_type": "code",
   "execution_count": 220,
   "metadata": {},
   "outputs": [
    {
     "name": "stdout",
     "output_type": "stream",
     "text": [
      "P1 =  0.15120388277664784 , n*P1 =  7.560194138832392\n",
      "P2 =  0.13385261753998337 , n*P2 =  6.692630876999169\n",
      "P3 =  0.16062314104797976 , n*P3 =  8.031157052398989\n",
      "P4 =  0.1606231410479803 , n*P4 =  8.031157052399015\n",
      "P5 =  0.3936972175874088 , n*P5 =  19.68486087937044\n",
      "n1 =  22 , n2 =  7 , n3 =  4 , n4 =  5 , n5 =  2\n",
      "Статистика критерия:  46.64932481910383\n",
      "Табличное значение: 7.824046010856292\n",
      "Гипотеза отвергается\n",
      "Наибольший уровень значимости:  6.616343757592791e-17\n"
     ]
    }
   ],
   "source": [
    "lambda_0 = 6\n",
    "alpha_1 = 0.02\n",
    "\n",
    "edges = [3.5, 4.5,5.5, 6.5,7.5, 19.5] #интервалы\n",
    "\n",
    "#подсчёт вероятностей\n",
    "p1 = poisson.cdf(edges[0], lambda_0)\n",
    "p2 = poisson.cdf(edges[1], lambda_0) - poisson.cdf(edges[0], lambda_0)\n",
    "p3 = poisson.cdf(edges[2], lambda_0) - poisson.cdf(edges[1], lambda_0)\n",
    "p4 = poisson.cdf(edges[3], lambda_0) - poisson.cdf(edges[2], lambda_0)\n",
    "p5 = 1 - p1 - p2 - p3 - p4\n",
    "print('P1 = ', p1, ', n*P1 = ', n * p1)\n",
    "print('P2 = ', p2, ', n*P2 = ', n * p2)\n",
    "print('P3 = ', p3, ', n*P3 = ', n * p3)\n",
    "print('P4 = ', p4, ', n*P4 = ', n * p4)\n",
    "print('P5 = ', p5, ', n*P5 = ', n * p5)\n",
    "\n",
    "#количество значений, попавших в интервал\n",
    "groups = [[],[],[],[],[],[]]\n",
    "cur_edge_index = 0\n",
    "cur_group = 0\n",
    "\n",
    "for item in data_sort:\n",
    "    cur_edge = edges[cur_edge_index]\n",
    "    if item <= cur_edge:\n",
    "        groups[cur_group].append(item)\n",
    "    else:\n",
    "        cur_group += 1\n",
    "        groups[cur_group].append(item)\n",
    "        cur_edge_index += 1\n",
    "\n",
    "n1, n2, n3, n4, n5 = len(groups[0]), len(groups[1]), len(groups[2]), len(groups[3]), len(groups[4])\n",
    "#print(groups)\n",
    "print('n1 = ', n1, ', n2 = ', n2, ', n3 = ', n3, ', n4 = ', n4, ', n5 = ', n5)\n",
    "\n",
    "#критерий\n",
    "chi = ((n1 - n*p1)**2) / (n*p1) + ((n2 - n*p2)**2) / (n*p2) + ((n3 - n*p3)**2) / (n*p3) + ((n4 - n*p4)**2) / (n*p4) + ((n5 - n*p5)**2) / (n*p5)\n",
    "print(\"Статистика критерия: \", chi)\n",
    "print('Табличное значение:', chi2.ppf(1 - alpha_1, 2))\n",
    "\n",
    "if chi > chi2.ppf(1 - alpha_1, 2):\n",
    "    print('Гипотеза отвергается')\n",
    "else:\n",
    "    print('Гипотеза принимается')\n",
    "\n",
    "#наибольший уровень значимости\n",
    "alpha = 0.02\n",
    "step = 0.0001\n",
    "while chi > chi2.ppf(1 - alpha, 2):\n",
    "    alpha -= step\n",
    "print('Наибольший уровень значимости: ', alpha)"
   ]
  },
  {
   "cell_type": "markdown",
   "metadata": {},
   "source": [
    "### 1.f Построить критерий значимости $\\chi^2$ проверки сложной гипотезы согласия с распределением Пуассона. Проверить гипотезу на уровне значимости $\\alpha_1 = 0.02$. Вычислить наибольшее значение значение уровня значимости, на котором ещё нет оснований отвергнуть данную гипотезу.\n",
    "\n",
    "Проведём группировку, как в пункте 1.е. В качестев параметра $\\lambda$ возьмём его ОМП, то есть $\\lambda = \\overline{X} = 0.7$ \n",
    "\n",
    "$\\mathbb{P}_{1} = 0.29$ <br> \n",
    "\n",
    "$\\mathbb{P}_{2} = 0.18$ <br>\n",
    "\n",
    "$\\mathbb{P}_{3} = 0.17$ <br>\n",
    "\n",
    "$\\mathbb{P}_{4} = 0.14$ <br>\n",
    "\n",
    "$\\mathbb{P}_{5} = 0.21$ <br>\n",
    "\n",
    "Получили статистику критерия $\\chi^2 = \\sum \\limits_{i=1}^3 \\large \\frac{\\left(n_i - n\\mathbb{P}_i\\right)^2}{n\\mathbb{P}_i}  \\normalsize = 14.07$<br><br>\n",
    "Из таблицы: $\\chi_{k-1-r, \\alpha_1}^2 = \\chi_{4, 0.2}^2 = 13.39$ <br><br>\n",
    "$\\chi^2 > \\chi_{1, 0.2}^2 \\Rightarrow$ нет оснований принять гипотезу, так как статистика критерия не попадает в критическую облать.\n",
    "\n",
    "Наибольшее значение уровня значимости, при котором ещё нет оснований отвергнуть данную гипотезу, $\\alpha = 0.015$"
   ]
  },
  {
   "cell_type": "code",
   "execution_count": 221,
   "metadata": {},
   "outputs": [
    {
     "name": "stdout",
     "output_type": "stream",
     "text": [
      "P1 =  0.2942299164965642 , n*P1 =  14.71149582482821\n",
      "P2 =  0.18202883712904422 , n*P2 =  9.101441856452212\n",
      "P3 =  0.1747476836438835 , n*P3 =  8.737384182194175\n",
      "P4 =  0.13979814691510573 , n*P4 =  6.989907345755286\n",
      "P5 =  0.20919541581540235 , n*P5 =  10.459770790770119\n",
      "n1 =  22 , n2 =  7 , n3 =  4 , n4 =  5 , n5 =  2\n",
      "Статистика критерия:  14.073418665397545\n",
      "Табличное значение: 13.38822259903634\n",
      "Гипотеза отвергается\n",
      "Наибольший уровень значимости:  0.01510000000000003\n"
     ]
    }
   ],
   "source": [
    "edges = [3.5, 4.5,5.5, 6.5,7.5, 19.5] #интервалы\n",
    "\n",
    "#подсчёт вероятностей\n",
    "p1 = poisson.cdf(edges[0], mean)\n",
    "p2 = poisson.cdf(edges[1], mean) - poisson.cdf(edges[0], mean)\n",
    "p3 = poisson.cdf(edges[2], mean) - poisson.cdf(edges[1], mean)\n",
    "p4 = poisson.cdf(edges[3], mean) - poisson.cdf(edges[2], mean)\n",
    "p5 = 1 - p1 - p2 - p3 - p4\n",
    "print('P1 = ', p1, ', n*P1 = ', n * p1)\n",
    "print('P2 = ', p2, ', n*P2 = ', n * p2)\n",
    "print('P3 = ', p3, ', n*P3 = ', n * p3)\n",
    "print('P4 = ', p4, ', n*P4 = ', n * p4)\n",
    "print('P5 = ', p5, ', n*P5 = ', n * p5)\n",
    "\n",
    "#количество значений, попавших в интервал\n",
    "groups = [[],[],[],[],[],[]]\n",
    "cur_edge_index = 0\n",
    "cur_group = 0\n",
    "\n",
    "for item in data_sort:\n",
    "    cur_edge = edges[cur_edge_index]\n",
    "    if item <= cur_edge:\n",
    "        groups[cur_group].append(item)\n",
    "    else:\n",
    "        cur_group += 1\n",
    "        groups[cur_group].append(item)\n",
    "        cur_edge_index += 1\n",
    "\n",
    "n1, n2, n3, n4, n5 = len(groups[0]), len(groups[1]), len(groups[2]), len(groups[3]), len(groups[4])\n",
    "#print(groups)\n",
    "print('n1 = ', n1, ', n2 = ', n2, ', n3 = ', n3, ', n4 = ', n4, ', n5 = ', n5)\n",
    "\n",
    "#критерий\n",
    "chi = ((n1 - n*p1)**2) / (n*p1) + ((n2 - n*p2)**2) / (n*p2) + ((n3 - n*p3)**2) / (n*p3) + ((n4 - n*p4)**2) / (n*p4) + ((n5 - n*p5)**2) / (n*p5)\n",
    "print(\"Статистика критерия: \", chi)\n",
    "print('Табличное значение:', chi2.ppf(1 - alpha_1, 5))\n",
    "\n",
    "if chi > chi2.ppf(1 - alpha_1, 1):\n",
    "    print('Гипотеза отвергается')\n",
    "else:\n",
    "    print('Гипотеза принимается')\n",
    "\n",
    "#наибольший уровень значимости\n",
    "#наибольший уровень значимости\n",
    "alpha = 0.02\n",
    "step = 0.0001\n",
    "while chi > chi2.ppf(1 - alpha, 5):\n",
    "    alpha -= step\n",
    "print('Наибольший уровень значимости: ', alpha)"
   ]
  },
  {
   "cell_type": "markdown",
   "metadata": {},
   "source": [
    "### 1.g Построить наиболее мощный критерий проверки простой гипотезы пуассоновости с параметром $\\lambda = \\lambda_0 = 6.00$ при альтернативе пуассоновости с параметром $\\lambda = \\lambda_1 = 4.00$. Проверить гипотезу на уровне значимости $\\alpha_1 = 0.02$. Что получится, если поменять местами основную и альтернативную гипотезы?\n",
    "\n",
    "*Нулевая гипотеза* $H_0: \\lambda = \\lambda_0 = 6$\n",
    "\n",
    "*Альтернативная гипотеза* $H_1: \\lambda = \\lambda_1 = 4$\n",
    "\n",
    "*Функция правдоподобия:*\n",
    "\n",
    "$ L\\left(\\vec{X}, \\theta \\right) = \\large \\lambda^{\\sum \\limits_{i=1}^{n}x_i} \\cdot e^{-n\\lambda} \\cdot \\prod\\limits_{i = 1}^n\\frac{1}{x_i!}$\n",
    "\n",
    "*Статистика отношения правдоподобия:*\n",
    "\n",
    "$\\mathrm{LR}\\left(\\vec{X}, \\lambda_0, \\lambda_1\\right) = \\frac{\\mathrm{L}\\left(\\vec{X}, \\lambda_1\\right)}{\\mathrm{L}\\left(\\vec{X}, \\lambda_0\\right)} = \\left(\\frac{\\lambda_1}{\\lambda_0}\\right)^{\\sum \\limits_{i = 1}^n x_i} \\cdot \\exp{\\left(-n\\left(\\lambda_1 - \\lambda_0\\right)\\right)}$ - монотонная функция от $\\sum \\limits_{i = 1}^n x_i$\n",
    "\n",
    "$\\sum \\limits_{i = 1}^n x_i \\cdot \\ln{\\left(\\frac{\\lambda_1}{\\lambda_0}\\right)} + n\\left(\\lambda_0 - \\lambda_1\\right) > \\ln{c}$\n",
    "\n",
    "$\\sum \\limits_{i = 1}^n x_i \\cdot \\ln{\\left(\\frac{\\lambda_1}{\\lambda_0}\\right)} > \\ln{c} - n\\left(\\lambda_0 - \\lambda_1\\right)$\n",
    "\n",
    "Так как $\\lambda_0 > \\lambda_1$, то меняем знак неравенства:\n",
    "\n",
    "$\\overline{X} < \\large \\frac{\\ln{c} - n\\left(\\lambda_0 - \\lambda_1\\right)}{n \\cdot \\left(\\ln{\\lambda_1} - \\ln{\\lambda_0}\\right) }$\n",
    "\n",
    "В силу монотонности статистики LR относительно $\\overline{X}$:\n",
    "\n",
    "$\\mathrm{LR} > c \\iff \\overline{X} < c^*$\n",
    "\n",
    "$\\mathrm{LR} < c \\iff \\overline{X} > c^*$\n",
    "\n",
    "Тогда получим:\n",
    "\n",
    "$$ \\phi(x) =\\left\\{\\begin{array}{l} 1, \\overline{X} < c^* \\\\ p, \\overline{X} = c^* \\\\ 0, \\overline{X} > c^*\\\\ \\end{array}\\right.$$\n",
    "Используя ЦПТ, получаем эквивалентный критерий:\n",
    "\n",
    "$\\sqrt{n} \\frac{\\overline{X} - \\mathbb{E}x}{\\sqrt{\\mathbb{D}}} \\sim \\mathcal{N}(0, 1)$ \n",
    "\n",
    "$\\sqrt{n} \\frac{\\overline{X} - \\lambda_0}{\\sqrt{\\lambda_0}}\\sim \\mathcal{N}(0, 1)$, при $H_0$\n",
    "\n",
    "$\\Phi\\left(\\sqrt{n} \\frac{\\overline{X} - \\lambda_0}{\\sqrt{\\lambda_0}} \\geq \\sqrt{n} \\frac{c^* - \\lambda_0}{\\sqrt{\\lambda_0}}\\right) =1 - \\Phi\\left(\\sqrt{n} \\frac{c^* - \\lambda_0}{\\sqrt{\\lambda_0}}\\right) = \\alpha_1$\n",
    "\n",
    "Квантиль:\n",
    "\n",
    "$x_{\\alpha} : \\Phi(x_{\\alpha}) = 1 - \\alpha_1 = 1 - 0.02 = 0.98 \\Rightarrow x_{\\alpha} = 2.06$\n",
    "\n",
    "$c^* = \\frac{x_{\\alpha} \\sqrt{\\lambda_0}}{\\sqrt{n}} + \\lambda_0 = 6.7$\n",
    "\n",
    "$\\overline{X} = 4.8$\n",
    "$$ \\phi(x) =\\left\\{\\begin{array}{l} 1, \\overline{X} < 6.7 \\\\ p, \\overline{X} = 6.7 \\\\ 0, \\overline{X} > 6.7\\\\ \\end{array}\\right.$$\n",
    "Так как $\\overline{X}  < c^*$, то нет оснований принять гипотезу."
   ]
  },
  {
   "cell_type": "code",
   "execution_count": 222,
   "metadata": {},
   "outputs": [
    {
     "name": "stdout",
     "output_type": "stream",
     "text": [
      "x_alpha = 2.06\n",
      "c* = 6.713604932718377\n",
      "Среднее =  4.8\n"
     ]
    }
   ],
   "source": [
    "alpha_1 = 0.02\n",
    "lambda_0 = 6\n",
    "\n",
    "x_alpha = 0\n",
    "while norm.cdf(x_alpha) <= 0.98:\n",
    "    x_alpha += 0.01\n",
    "print('x_alpha =', x_alpha)\n",
    "\n",
    "c1_star = (x_alpha * (lambda_0**0.5)) / (n**0.5) + lambda_0\n",
    "print('c* =', c1_star)\n",
    "\n",
    "print('Среднее = ', mean)"
   ]
  },
  {
   "cell_type": "markdown",
   "metadata": {},
   "source": [
    "**Поменяем местами основную и альтернативную гипотезы**\n",
    "\n",
    "*Нулевая гипотеза* $H_0: \\lambda = \\lambda_1 = 4$\n",
    "\n",
    "*Альтернативная гипотеза* $H_1: \\lambda = \\lambda_0 = 6$\n",
    "\n",
    "*Функция правдоподобия:*\n",
    "\n",
    "$ L\\left(\\vec{X}, \\theta \\right) = \\large \\lambda^{\\sum \\limits_{i=1}^{n}x_i} \\cdot e^{-n\\lambda} \\cdot \\prod\\limits_{i = 1}^n\\frac{1}{x_i!}$\n",
    "\n",
    "*Статистика отношения правдоподобия:*\n",
    "\n",
    "$\\mathrm{LR}\\left(\\vec{X}, \\lambda_0, \\lambda_1\\right) = \\frac{\\mathrm{L}\\left(\\vec{X}, \\lambda_0\\right)}{\\mathrm{L}\\left(\\vec{X}, \\lambda_1\\right)} = \\left(\\frac{\\lambda_0}{\\lambda_1}\\right)^{\\sum \\limits_{i = 1}^n x_i} \\cdot \\exp{\\left(-n\\left(\\lambda_0 - \\lambda_1\\right)\\right)}$ - монотонная функция от $\\sum \\limits_{i = 1}^n x_i$\n",
    "\n",
    "$\\sum \\limits_{i = 1}^n x_i \\cdot \\ln{\\left(\\frac{\\lambda_0}{\\lambda_1}\\right)} + n\\left(\\lambda_1 - \\lambda_0\\right) > \\ln{c}$\n",
    "\n",
    "$\\sum \\limits_{i = 1}^n x_i \\cdot \\ln{\\left(\\frac{\\lambda_0}{\\lambda_1}\\right)} > \\ln{c} - n\\left(\\lambda_1 - \\lambda_0\\right)$\n",
    "\n",
    "$\\overline{X} > \\large \\frac{\\ln{c} - n\\left(\\lambda_1 - \\lambda_0\\right)}{n \\cdot \\left(\\ln{\\lambda_0} - \\ln{\\lambda_1}\\right)}$\n",
    "\n",
    "В силу монотонности статистики LR относительно $\\overline{X}$:\n",
    "\n",
    "$\\mathrm{LR} > c \\iff \\overline{X} > c^*$\n",
    "\n",
    "$\\mathrm{LR} < c \\iff \\overline{X} < c^*$\n",
    "\n",
    "Тогда получим:\n",
    "\n",
    "$$ \\phi(x) =\\left\\{\\begin{array}{l} 1, \\overline{X} > c^* \\\\ p, \\overline{X} = c^* \\\\ 0, \\overline{X} < c^*\\\\ \\end{array}\\right.$$\n",
    "Используя ЦПТ, получаем эквивалентный критерий:\n",
    "\n",
    "$\\sqrt{n} \\frac{\\overline{X} - \\mathbb{E}x}{\\sqrt{\\mathbb{D}}} \\sim \\mathcal{N}(0, 1)$ \n",
    "\n",
    "$\\sqrt{n} \\frac{\\overline{X} - \\lambda_1}{\\sqrt{\\lambda_1}}\\sim \\mathcal{N}(0, 1)$, при $H_0$\n",
    "\n",
    "$\\Phi\\left(\\sqrt{n} \\frac{\\overline{X} - \\lambda_1}{\\sqrt{\\lambda_1}} \\geq \\sqrt{n} \\frac{c^* - \\lambda_1}{\\sqrt{\\lambda_1}}\\right) =1 - \\Phi\\left(\\sqrt{n} \\frac{c^* - \\lambda_1}{\\sqrt{\\lambda_1}}\\right) = \\alpha_1$\n",
    "\n",
    "$x_{\\alpha} : \\Phi(x_{\\alpha}) = 1 - \\alpha_1 = 1 - 0.92 = 0.98 \\Rightarrow x_{\\alpha} = 2.06$\n",
    "\n",
    "$c^* = \\frac{x_{\\alpha} \\sqrt{\\lambda_1}}{\\sqrt{n}} + \\lambda_1 = 4.58$\n",
    "\n",
    "$$ \\phi(x) =\\left\\{\\begin{array}{l} 1, \\overline{X} > 4.58 \\\\ p, \\overline{X} = 4.58 \\\\ 0, \\overline{X} < 4.58\\\\ \\end{array}\\right.$$\n",
    "\n",
    "$\\overline{X} = 4.8$\n",
    "\n",
    "Так как $\\overline{X} > c^*$, то нет оснований принять гипотезу."
   ]
  },
  {
   "cell_type": "code",
   "execution_count": 223,
   "metadata": {},
   "outputs": [
    {
     "name": "stdout",
     "output_type": "stream",
     "text": [
      "x_alpha = 2.06\n",
      "c = 4.5826559876977155\n",
      "Среднее =  4.8\n"
     ]
    }
   ],
   "source": [
    "lambda_1 = 4\n",
    "print('x_alpha =', x_alpha)\n",
    "c1_star = (x_alpha * (lambda_1**0.5)) / (n**0.5) + lambda_1\n",
    "print('c =', c1_star)\n",
    "print('Среднее = ', mean)"
   ]
  },
  {
   "cell_type": "markdown",
   "metadata": {},
   "source": [
    "### 1.h В пунктах (c) - (f) заменить семейство распределений Пуассона на семейство геометрических распределений:\n",
    "$$\\mathbb{P}_{\\lambda}\\left(X = k\\right) = \\frac{\\lambda^k}{(\\lambda + 1)^{k+1}}, k \\in \\mathbb{Z}_+$$\n",
    "\n",
    "* 1.h.c <br>\n",
    "\n",
    "Преобразуем плотность: <br>\n",
    "\n",
    "$\\mathbb{P}_{\\lambda}\\left(X = k\\right) = \\frac{\\lambda^k}{(\\lambda + 1)^{k+1}} = \\frac{1}{\\lambda + 1} \\cdot \\left(\\frac{\\lambda}{\\lambda + 1}\\right)^k = \\frac{1}{\\lambda + 1} \\cdot \\left(\\frac{\\lambda + 1 - 1}{\\lambda + 1}\\right)^k = \\frac{1}{\\lambda + 1} \\cdot \\left(1 - \\frac{1}{\\lambda + 1}\\right)^k$ <br>\n",
    "\n",
    "Пусть $\\frac{1}{\\lambda + 1} = p$ , тогда $\\mathbb{E}x = \\frac{1-p}{p} = \\lambda$\n",
    "\n",
    "**Оценка максимального правдоподобия:** <br>\n",
    "\n",
    "$\\mathrm{L}\\left(\\vec{X}, \\theta \\right) = \\lambda^{\\sum \\limits_{i = 1}^n x_i} + (\\lambda + 1)^{-\\sum \\limits_{i = 1}^n x_i - n}$ <br>\n",
    "\n",
    "$\\mathrm{LL}\\left(\\vec{X}, \\theta \\right) = \\sum \\limits_{i = 1}^n x_i \\ln{\\lambda} - \\left(\\sum \\limits_{i = 1}^n x_i + n\\right) \\ln{(\\lambda + 1)}$<br>\n",
    "\n",
    "$\\large \\frac{\\partial LL}{\\partial \\lambda} = \\frac{\\sum \\limits_{i = 1}^n x_i}{\\lambda} - \\large \\frac{\\sum \\limits_{i = 1}^n x_i + n}{\\lambda + 1} \\normalsize = 0$, $\\Rightarrow \\widehat{\\theta} = \\widehat{\\lambda} = \\overline{X}$ - ОМП <br>\n",
    "\n",
    "$\\mathbb{E}_{\\theta}\\widehat{\\theta} = \\frac{1}{n}\\sum \\limits_{i = 1}^n\\mathbb{E}_{\\theta}x_i = \\frac{1}{n} \\cdot n \\cdot \\lambda = \\lambda$, $\\Rightarrow$ несмещённая оценка <br>\n",
    "\n",
    "**Оценка методом моментов:** <br>\n",
    "\n",
    "$\\mathbb{E}X_1 = \\lambda$ - математическое ожидание (теоретическая величина)<br><br> \n",
    "$\\mathrm{M_1} = \\overline{X}$ - выборочное среднее (выборочная величина)<br><br>\n",
    "Следовательно, $\\widetilde{\\theta} = \\widetilde{\\lambda} = \\overline{X}$ - ОММ<br>\n",
    "\n",
    "$\\large \\mathbb{E}_{\\theta}\\widetilde{\\theta} = \\mathbb{E}_{\\theta}\\overline{X} = \\mathbb{E}_{\\theta}\\frac{1}{n}\\sum \\limits_{i=1}^{n}x_i = \\frac{1}{n} \\cdot \\normalsize n \\cdot \\lambda = \\lambda \\Rightarrow$ несмещённая оценка.\n",
    "\n",
    "\n",
    "* 1.h.d <br>\n",
    "\n",
    " Из предыдущего пункта: $\\widehat{\\lambda} = \\overline{X}$\n",
    "\n",
    " $ \\frac{\\partial LL}{\\partial \\lambda} = \\frac{\\sum \\limits_{i = 1}^n x_i}{\\lambda} - \\frac{\\sum \\limits_{i = 1}^n x_i + n}{\\lambda + 1}$ <br>\n",
    "\n",
    " $ \\frac{\\partial^2 LL}{\\partial \\lambda^2} = - \\frac{\\sum \\limits_{i = 1}^n x_i}{\\lambda^2} + \\frac{\\sum \\limits_{i = 1}^n x_i + n}{(\\lambda + 1)^2}$ <br>\n",
    "\n",
    " $\\mathrm{I}_n(\\lambda) = - \\large \\mathbb{E}_{\\theta}\\frac{\\partial^2 LL}{\\partial \\lambda^2} = \\mathbb{E}_{\\theta}\\left(\\frac{\\sum \\limits_{i = 1}^n x_i}{\\lambda^2} - \\frac{\\sum \\limits_{i = 1}^n x_i + n}{(\\lambda + 1)^2}\\right) = \\frac{1}{\\lambda^2}\\sum \\limits_{i = 1}^n\\mathbb{E}_{\\theta}x_i - \\frac{1}{(\\lambda + 1)^2}\\sum \\limits_{i = 1}^n\\mathbb{E}_{\\theta}x_i - \\frac{1}{(\\lambda + 1)^2}\\mathbb{E}_{\\theta}n = \\frac{n}{\\lambda} - \\frac{n(\\lambda - 1)}{(\\lambda + 1)^2}$ <br>\n",
    "\n",
    " $\\mathrm{I}(\\lambda) = \\lim \\limits_{n \\to \\infty}\\left(\\frac{1}{\\lambda} - \\frac{\\lambda - 1}{(\\lambda + 1)^2}\\right) = \\left(\\frac{1}{\\lambda} - \\frac{\\lambda - 1}{(\\lambda + 1)^2}\\right) = \\frac{3\\lambda + 1}{\\lambda(\\lambda + 1)^2}$ <br>\n",
    "\n",
    " **Квантили:** \n",
    " \n",
    " Так как распределение симметричное: <br><br>\n",
    "$x_{\\alpha} : \\mathrm{\\Phi}(x_{\\alpha}) = 1 - \\frac{\\alpha}{2} = 1 - \\frac{0.20}{2} = 0.99$, где $\\alpha = \\alpha_1 = 0.02$<br><br>\n",
    "$\\mathrm{\\Phi}(x_{\\alpha}) = 0.9 \\Rightarrow x_{\\alpha} = 0.816$\n",
    "\n",
    "*Асимптотический доверительный интервал:* <br><br>\n",
    "$\\left[\\overline{X} - \\sqrt{\\frac{\\overline{X}}{n\\left(3\\overline{X}+1\\right)}} \\cdot x_{\\alpha} , \\overline{X} + \\sqrt{\\frac{\\overline{X}}{n\\left(3\\overline{X}+1\\right)}} \\cdot x_{\\alpha}\\right] \\ni \\lambda$"
   ]
  },
  {
   "cell_type": "code",
   "execution_count": 224,
   "metadata": {},
   "outputs": [
    {
     "name": "stdout",
     "output_type": "stream",
     "text": [
      "Асимптотический доверительный интервал:  [4.64, 4.96]\n"
     ]
    }
   ],
   "source": [
    "aci_2 = []\n",
    "\n",
    "left_2 = mean - x_alpha * (mean / (n*(3*mean+1)))**0.5 #подсчёт левой границы АДИ\n",
    "aci_2.append(round(left_2, 2))\n",
    "\n",
    "right_2 = mean + x_alpha * (mean / (n*(3*mean+1)))**0.5 #подсчёт правой границы АДИ\n",
    "aci_2.append(round(right_2, 2))\n",
    "\n",
    "print(\"Асимптотический доверительный интервал: \", aci_2)"
   ]
  },
  {
   "cell_type": "markdown",
   "metadata": {},
   "source": [
    "Таким образом, АДИ уровня значимости $\\alpha_1$ для параметра $\\lambda$:\n",
    "$$\\left[4.64,4.96\\right] \\ni \\lambda$$\n",
    "\n",
    "* 1.h.e\n",
    "\n",
    "Разобьём числовую прямую на интервалы: $G_1 = \\left(- \\infty, 0.5\\right]$,  $G_2 = \\left(0.5, 1.5\\right]$,  $G_3 = \\left(1.5, +\\infty\\right)$\n",
    "\n",
    "Рассмотрим $\\mathbb{P}_{k} = \\mathbb{P}_{\\theta}\\left(x_i \\in G_k\\right) = \\sum \\limits_{x \\in G_k} q_{\\theta}(x)$, где $q_{\\theta}(x)$ - плотность данного распределения.\n",
    "\n",
    "$\\mathbb{P}_{1} = 0.37$ <br>\n",
    "$\\mathbb{P}_{2} = 0.08$ <br>\n",
    "$\\mathbb{P}_{3} = 0.07$ <br>\n",
    "$\\mathbb{P}_{4} = 0.06$ <br>\n",
    "$\\mathbb{P}_{5} = 0.05$ <br>\n",
    "$\\mathbb{P}_{6} = 0.32$ <br>\n",
    "\n",
    "Получили статистику критерия $\\chi^2 = \\sum \\limits_{i=1}^3 \\large \\frac{\\left(n_i - n\\mathbb{P}_i\\right)^2}{n\\mathbb{P}_i}  \\normalsize = 6.04$\n",
    "\n",
    "Из таблицы: $\\chi_{k-1, \\alpha_1}^2 = \\chi_{5, 0.2}^2 = 13.38$\n",
    "\n",
    "$\\chi^2 > \\chi_{5, 0.02}^2 \\Rightarrow$ гипотеза отвергается, так как статистика критерия попадает в критическую облать.\n",
    "\n",
    "Наибольшее значение уровня значимости, при котором ещё нет оснований отвергнуть данную гипотезу, $\\alpha = 0.048$"
   ]
  },
  {
   "cell_type": "code",
   "execution_count": 225,
   "metadata": {},
   "outputs": [
    {
     "name": "stdout",
     "output_type": "stream",
     "text": [
      "P1 =  0.37026239067055383 , n*P1 =  18.513119533527693\n",
      "P2 =  0.08996251561849233 , n*P2 =  4.4981257809246165\n",
      "P3 =  0.07711072767299337 , n*P3 =  3.8555363836496688\n",
      "P4 =  0.06609490943399432 , n*P4 =  3.304745471699716\n",
      "P5 =  0.05665277951485237 , n*P5 =  2.8326389757426185\n",
      "P6 =  0.33991667708911383 , n*P6 =  16.995833854455693\n",
      "n1 =  22 , n2 =  7 , n3 =  4 , n4 =  5 , n5 =  2 , n6 =  10\n",
      "Статистика критерия:  6.047709267180085\n",
      "Табличное значение: 13.38822259903634\n",
      "Гипотеза принимается\n",
      "Наибольший уровень значимости:  0.04870000000000043\n"
     ]
    }
   ],
   "source": [
    "lambda_0 = 6\n",
    "p = 1 / (lambda_0 + 1)\n",
    "edges = [3.5, 4.5, 5.5, 6.5, 7.5, 19.5] #интервалы\n",
    "\n",
    "#подсчёт вероятностей\n",
    "p1 = geom.cdf(edges[0], p)\n",
    "p2 = geom.cdf(edges[1], p) - geom.cdf(edges[0], p)\n",
    "p3 = geom.cdf(edges[2], p) - geom.cdf(edges[1], p)\n",
    "p4 = geom.cdf(edges[3], p) - geom.cdf(edges[2], p)\n",
    "p5 = geom.cdf(edges[4], p) - geom.cdf(edges[3], p)\n",
    "p6 = 1 - p1 - p2 - p3 - p4 - p5\n",
    "print('P1 = ', p1, ', n*P1 = ', n * p1)\n",
    "print('P2 = ', p2, ', n*P2 = ', n * p2)\n",
    "print('P3 = ', p3, ', n*P3 = ', n * p3)\n",
    "print('P4 = ', p4, ', n*P4 = ', n * p4)\n",
    "print('P5 = ', p5, ', n*P5 = ', n * p5)\n",
    "print('P6 = ', p6, ', n*P6 = ', n * p6)\n",
    "\n",
    "#количество значений, попавших в интервал\n",
    "groups = [[],[],[],[],[],[]]\n",
    "cur_edge_index = 0\n",
    "cur_group = 0\n",
    "\n",
    "for item in data_sort:\n",
    "    cur_edge = edges[cur_edge_index]\n",
    "    if item <= cur_edge:\n",
    "        groups[cur_group].append(item)\n",
    "    else:\n",
    "        cur_group += 1\n",
    "        groups[cur_group].append(item)\n",
    "        cur_edge_index += 1\n",
    "\n",
    "n1, n2, n3, n4, n5, n6 = len(groups[0]), len(groups[1]), len(groups[2]), len(groups[3]), len(groups[4]), len(groups[5])\n",
    "#print(groups)\n",
    "print('n1 = ', n1, ', n2 = ', n2, ', n3 = ', n3, ', n4 = ', n4, ', n5 = ', n5, ', n6 = ', n6)\n",
    "\n",
    "#критерий\n",
    "chi = ((n1 - n*p1)**2) / (n*p1) + ((n2 - n*p2)**2) / (n*p2) + ((n3 - n*p3)**2) / (n*p3) + ((n4 - n*p4)**2) / (n*p4) + ((n5 - n*p5)**2) / (n*p5) + ((n6 - n*p6)**2) / (n*p6)\n",
    "print(\"Статистика критерия: \", chi)\n",
    "print('Табличное значение:', chi2.ppf(1 - alpha_1, 5))\n",
    "\n",
    "if chi > chi2.ppf(1 - alpha_1, 2):\n",
    "    print('Гипотеза отвергается')\n",
    "else:\n",
    "    print('Гипотеза принимается')\n",
    "\n",
    "#наибольший уровень значимости\n",
    "alpha = 0.02\n",
    "step = 0.0001\n",
    "while chi < chi2.ppf(1 - alpha, 2):\n",
    "    alpha += step\n",
    "print('Наибольший уровень значимости: ', alpha)"
   ]
  },
  {
   "cell_type": "markdown",
   "metadata": {},
   "source": [
    "* 1.h.f\n",
    "\n",
    "Проведём группировку, как в пункте 1.h.е. В качестев параметра $\\lambda$ возьмём его ОМП, то есть $\\lambda = \\overline{X}$: \n",
    "\n",
    "$\\mathbb{P}_{1} = 0.43$ <br>\n",
    "$\\mathbb{P}_{2} = 0.1$ <br>\n",
    "$\\mathbb{P}_{3} = 0.08$ <br>\n",
    "$\\mathbb{P}_{4} = 0.06$ <br>\n",
    "$\\mathbb{P}_{5} = 0.05$ <br>\n",
    "$\\mathbb{P}_{6} = 0.26$ <br>\n",
    "\n",
    "Получили статистику критерия $\\chi^2 = \\sum \\limits_{i=1}^3 \\large \\frac{\\left(n_i - n\\mathbb{P}_i\\right)^2}{n\\mathbb{P}_i}  \\normalsize = 2.76$\n",
    "\n",
    "Из таблицы: $\\chi_{k-1 - r, \\alpha_1}^2 = \\chi_{4, 0.02}^2 = 11.66$\n",
    "\n",
    "$\\chi^2 < \\chi_{4, 0.02}^2 \\Rightarrow$ гипотеза принимаетя, так как статистика критерия попадает в критическую облать.\n",
    "\n",
    "Наибольшее значение уровня значимости, при котором ещё нет оснований отвергнуть данную гипотезу, $\\alpha = 0.6$"
   ]
  },
  {
   "cell_type": "code",
   "execution_count": 226,
   "metadata": {},
   "outputs": [
    {
     "name": "stdout",
     "output_type": "stream",
     "text": [
      "P1 =  0.4331870925417197 , n*P1 =  21.659354627085985\n",
      "P2 =  0.09772636335487583 , n*P2 =  4.8863181677437915\n",
      "P3 =  0.08087699036265594 , n*P3 =  4.043849518132797\n",
      "P4 =  0.06693268167943944 , n*P4 =  3.3466340839719724\n",
      "P5 =  0.05539256414850158 , n*P5 =  2.769628207425079\n",
      "P6 =  0.2658843079128075 , n*P6 =  13.294215395640375\n",
      "n1 =  22 , n2 =  7 , n3 =  4 , n4 =  5 , n5 =  2 , n6 =  10\n",
      "Статистика критерия:  2.767127098355143\n",
      "Табличное значение: 11.667843403834778\n",
      "Гипотеза принимается\n",
      "Наибольший уровень значимости:  0.5975999999999506\n"
     ]
    }
   ],
   "source": [
    "p = 1 / (mean + 1)\n",
    "edges = [3.5, 4.5, 5.5, 6.5, 7.5, 19.5] #интервалы\n",
    "\n",
    "#подсчёт вероятностей\n",
    "p1 = geom.cdf(edges[0], p)\n",
    "p2 = geom.cdf(edges[1], p) - geom.cdf(edges[0], p)\n",
    "p3 = geom.cdf(edges[2], p) - geom.cdf(edges[1], p)\n",
    "p4 = geom.cdf(edges[3], p) - geom.cdf(edges[2], p)\n",
    "p5 = geom.cdf(edges[4], p) - geom.cdf(edges[3], p)\n",
    "p6 = 1 - p1 - p2 - p3 - p4 - p5\n",
    "print('P1 = ', p1, ', n*P1 = ', n * p1)\n",
    "print('P2 = ', p2, ', n*P2 = ', n * p2)\n",
    "print('P3 = ', p3, ', n*P3 = ', n * p3)\n",
    "print('P4 = ', p4, ', n*P4 = ', n * p4)\n",
    "print('P5 = ', p5, ', n*P5 = ', n * p5)\n",
    "print('P6 = ', p6, ', n*P6 = ', n * p6)\n",
    "\n",
    "#количество значений, попавших в интервал\n",
    "groups = [[],[],[],[],[],[]]\n",
    "cur_edge_index = 0\n",
    "cur_group = 0\n",
    "\n",
    "for item in data_sort:\n",
    "    cur_edge = edges[cur_edge_index]\n",
    "    if item <= cur_edge:\n",
    "        groups[cur_group].append(item)\n",
    "    else:\n",
    "        cur_group += 1\n",
    "        groups[cur_group].append(item)\n",
    "        cur_edge_index += 1\n",
    "\n",
    "nn1, n2, n3, n4, n5, n6 = len(groups[0]), len(groups[1]), len(groups[2]), len(groups[3]), len(groups[4]), len(groups[5])\n",
    "#print(groups)\n",
    "print('n1 = ', n1, ', n2 = ', n2, ', n3 = ', n3, ', n4 = ', n4, ', n5 = ', n5, ', n6 = ', n6)\n",
    "\n",
    "#критерий\n",
    "chi = ((n1 - n*p1)**2) / (n*p1) + ((n2 - n*p2)**2) / (n*p2) + ((n3 - n*p3)**2) / (n*p3) + ((n4 - n*p4)**2) / (n*p4) + ((n5 - n*p5)**2) / (n*p5) + ((n6 - n*p6)**2) / (n*p6)\n",
    "print(\"Статистика критерия: \", chi)\n",
    "print('Табличное значение:', chi2.ppf(1 - alpha_1, 4))\n",
    "\n",
    "alpha = alpha_1\n",
    "step = 0.0001\n",
    "if chi > chi2.ppf(1 - alpha_1, 4):\n",
    "    print('Гипотеза отвергается')\n",
    "    while chi > chi2.ppf(1 - alpha, 4):\n",
    "        alpha -= step\n",
    "    print('Наибольший уровень значимости: ', alpha)\n",
    "else:\n",
    "    print('Гипотеза принимается')\n",
    "    while chi < chi2.ppf(1 - alpha, 4):\n",
    "        alpha += step\n",
    "    print('Наибольший уровень значимости: ', alpha)\n"
   ]
  },
  {
   "cell_type": "markdown",
   "metadata": {},
   "source": [
    "### Задание 2\n",
    "### a) Построить вариационный ряд, эмпирическую функцию распределения, гистограмму и полигон частот с шагом $h = 2.00$. \n"
   ]
  },
  {
   "cell_type": "code",
   "execution_count": 227,
   "metadata": {},
   "outputs": [
    {
     "name": "stdout",
     "output_type": "stream",
     "text": [
      "[0.    0.    0.    0.009 0.017 0.022 0.042 0.049 0.062 0.081 0.082 0.09\n",
      " 0.103 0.113 0.117 0.14  0.201 0.207 0.25  0.27  0.284 0.365 0.379 0.383\n",
      " 0.482 0.492 0.52  0.53  0.547 0.623 0.73  0.78  0.834 0.898 1.039 1.091\n",
      " 1.128 1.211 1.297 1.401 1.652 1.739 1.789 1.925 2.15  2.649 3.606 4.541\n",
      " 5.328 5.788]\n"
     ]
    }
   ],
   "source": [
    "\n",
    "numbers_string = \"0.365 1.211 1.128 0.000 0.017 1.789 0.090 0.623 0.383 0.049 0.898 0.270 2.150 1.401 0.834 5.788 0.009 0.780 5.328 1.739 0.201 0.140 0.022 0.000 0.492 4.541 1.925 0.547 0.042 0.207 0.520 2.649 0.103 1.297 0.379 0.482 0.530 0.117 0.113 0.284 1.652 0.081 0.062 0.250 1.091 0.082 0.000 1.039 0.730 3.606\"\n",
    "\n",
    "numbers = numbers_string.split() \n",
    "data_2 = np.array(numbers, dtype=float)\n",
    "data2_sort = np.sort(data_2)\n",
    "n = len(data_2)\n",
    "\n",
    "print(data2_sort)"
   ]
  },
  {
   "cell_type": "markdown",
   "metadata": {},
   "source": [
    "Таким образом, вариационный ряд:\n",
    " $$\\vec{X}^\\prime = \\left(0, 0, 0, 0.009, 0.017, 0.022, 0.042, 0.049, 0.062, 0.081, 0.082, 0.09, 0.103, 0.113, 0.117, 0.14, 0.201, 0.207, 0.25,  0.27,  0.284, 0.365, 0.379, 0.383, 0.482, 0.492, 0.52, 0.53, 0.547, 0.623, 0.73, 0.78 , 0.834, 0.898, 1.039, 1.091, 1.128, 1.211, 1.297, 1.401, 1.652, 1.739, 1.789, 1.925, 2.15, 2.649, 3.606, 4.541, 5.328, 5.788 \\right)$$"
   ]
  },
  {
   "cell_type": "code",
   "execution_count": 228,
   "metadata": {},
   "outputs": [
    {
     "name": "stderr",
     "output_type": "stream",
     "text": [
      "c:\\Users\\79062\\AppData\\Local\\Programs\\Python\\Python310\\lib\\site-packages\\seaborn\\_oldcore.py:1498: FutureWarning: is_categorical_dtype is deprecated and will be removed in a future version. Use isinstance(dtype, CategoricalDtype) instead\n",
      "  if pd.api.types.is_categorical_dtype(vector):\n",
      "c:\\Users\\79062\\AppData\\Local\\Programs\\Python\\Python310\\lib\\site-packages\\seaborn\\_oldcore.py:1119: FutureWarning: use_inf_as_na option is deprecated and will be removed in a future version. Convert inf values to NaN before operating instead.\n",
      "  with pd.option_context('mode.use_inf_as_na', True):\n"
     ]
    },
    {
     "data": {
      "image/png": "[encoded data removed]",
      "text/plain": [
       "<Figure size 640x480 with 1 Axes>"
      ]
     },
     "metadata": {},
     "output_type": "display_data"
    }
   ],
   "source": [
    "sns.ecdfplot(data_2) #построение эмпирической функции распределения\n",
    "\n",
    "plt.title(\"Эмпирическая функция распределения\");\n",
    "plt.xlabel(\"x\");\n",
    "plt.ylabel(\"F(x)\");\n",
    "plt.show();"
   ]
  },
  {
   "cell_type": "code",
   "execution_count": 229,
   "metadata": {},
   "outputs": [
    {
     "data": {
      "image/png": "[encoded data removed]",
      "text/plain": [
       "<Figure size 640x480 with 1 Axes>"
      ]
     },
     "metadata": {},
     "output_type": "display_data"
    }
   ],
   "source": [
    "#гистограмма и полигон частот частот\n",
    "\n",
    "h = 0.5\n",
    "bins = [0, 0.5, 1, 1.5, 2, 2.5, 3, 3.5, 4, 4.5, 5, 5.5, 6]\n",
    "plt.xticks(bins)\n",
    "\n",
    "#построение гистограммы\n",
    "y, edges, _= plt.hist(data_2, edgecolor='black', bins=bins, weights=np.ones_like (data_2) / n) \n",
    "\n",
    " #построение полигона\n",
    "midpoints = 0.5*(edges[1:] + edges[:-1])\n",
    "plt.plot(midpoints, y, '-o')\n",
    "\n",
    "plt.yticks(np.arange(0, 0.54, 0.02))\n",
    "plt.xlabel('$x_i$')\n",
    "plt.ylabel('Частота')\n",
    "plt.title('Гистограмма и полигон частот');"
   ]
  },
  {
   "cell_type": "markdown",
   "metadata": {},
   "source": [
    "### b) Вычислить выборочные аналоги следующих числовых характеристик:\n",
    "* Математического ожидания;\n",
    "* Дисперсии;\n",
    "* СКО;\n",
    "* Медианы;\n",
    "* Асимметрии;\n",
    "* Эксцесса;\n",
    "* Вероятности $\\mathbb{P}\\left(X \\in [c, d]\\right)$. "
   ]
  },
  {
   "cell_type": "code",
   "execution_count": 230,
   "metadata": {},
   "outputs": [
    {
     "name": "stdout",
     "output_type": "stream",
     "text": [
      "Выборочное среднее:  0.96\n"
     ]
    }
   ],
   "source": [
    "#Математическое ожидание\n",
    "\n",
    "sum_= 0\n",
    "for item in data_2:\n",
    "    sum_ += item #сумма Х\n",
    "mn = sum_/n\n",
    "print(\"Выборочное среднее: \", round(mn, 2))"
   ]
  },
  {
   "cell_type": "markdown",
   "metadata": {},
   "source": [
    "Получаем выборочный аналог математического ожидания - выборочное среднее:\n",
    "$$\\overline{X} =\\frac{1}{n}\\sum_{i=1}^{n}x_i= 0.96$$"
   ]
  },
  {
   "cell_type": "code",
   "execution_count": 231,
   "metadata": {},
   "outputs": [
    {
     "name": "stdout",
     "output_type": "stream",
     "text": [
      "Выборочная дисперсия:  1.75\n",
      "Выборочное СКО:  1.32\n"
     ]
    }
   ],
   "source": [
    "#Выборочный аналог дисперсии и СКО\n",
    "\n",
    "dif=[]\n",
    "for item in data_2:\n",
    "    dif.append((item - mn)**2) #массив  с (X_i-X_cp)^2\n",
    "S = round(sum(dif)/n, 2)\n",
    "\n",
    "s = round(S**0.5, 2) #выборочное СКО\n",
    "\n",
    "print(\"Выборочная дисперсия: \", S)\n",
    "print(\"Выборочное СКО: \", s)"
   ]
  },
  {
   "cell_type": "markdown",
   "metadata": {},
   "source": [
    "Получаем выборочный аналог дисперсии и СКО - выборочную дисперсию и выборочное СКО: \n",
    "$$S^2 =\\frac{1}{n}\\sum_{i=1}^{n}\\left(x_i-\\overline{X}\\right)=1.75$$ \n",
    "$$S=\\sqrt{S^2}=1.32$$"
   ]
  },
  {
   "cell_type": "code",
   "execution_count": 232,
   "metadata": {},
   "outputs": [
    {
     "name": "stdout",
     "output_type": "stream",
     "text": [
      "25ый элемент вариационного ряда:  0.482\n",
      "26ой элемент вариационного ряда:  0.492\n",
      "Выборочная медиана:  0.487\n"
     ]
    }
   ],
   "source": [
    "#Выборочная медиана\n",
    "\n",
    "med = stat.median(data_2)\n",
    "print(\"25ый элемент вариационного ряда: \", data2_sort[24])\n",
    "print(\"26ой элемент вариационного ряда: \", data2_sort[25])\n",
    "print(\"Выборочная медиана: \", round(med, 3))"
   ]
  },
  {
   "cell_type": "markdown",
   "metadata": {},
   "source": [
    "Выборочная медиана: <br><br>\n",
    "$$np = 50\\cdot\\frac{1}{2}=25\\in \\mathbb Z \\Rightarrow \\large z_{50,\\frac{1}{2}} = \\normalsize \\left[ X_{(25)},X_{(26)} \\right) = \\left[0.482, 0.492\\right) \\Rightarrow \\large z_{50,\\frac{1}{2}} \\normalsize = \\frac{0.492+0.482}{2} = 0.487$$"
   ]
  },
  {
   "cell_type": "code",
   "execution_count": 233,
   "metadata": {},
   "outputs": [
    {
     "name": "stdout",
     "output_type": "stream",
     "text": [
      "Выборочный коэффициент асимметрии:  2.211\n"
     ]
    }
   ],
   "source": [
    "#Выборочная асимметрия\n",
    "\n",
    "dif=[]\n",
    "for item in data_2:\n",
    "    dif.append((item - mn)**3) #массив  с (X_i-X_cp)^3\n",
    "skew_X = round(sum(dif)/(n*s**3), 4)\n",
    "print(\"Выборочный коэффициент асимметрии: \", skew_X)"
   ]
  },
  {
   "cell_type": "markdown",
   "metadata": {},
   "source": [
    "Выборочный коэффициент асимметрии: \n",
    "$$\\widehat{\\mathrm{Skew}}X=\\frac{1}{n}\\frac{\\sum \\limits_{i=1}^{n}\\left(x_i-\\overline{X}\\right)^3}{S^3} = 2.21$$"
   ]
  },
  {
   "cell_type": "code",
   "execution_count": 234,
   "metadata": {},
   "outputs": [
    {
     "name": "stdout",
     "output_type": "stream",
     "text": [
      "Выборочный коэффициент эксцесса:  4.542\n"
     ]
    }
   ],
   "source": [
    "#Выборочный эксцесс\n",
    "\n",
    "dif=[]\n",
    "for item in data_2:\n",
    "    dif.append((item - mn)**4) ##массив  с (X_i-X_cp)^4\n",
    "kurt_X = round(sum(dif)/(n*s**4) - 3, 3)\n",
    "print(\"Выборочный коэффициент эксцесса: \", kurt_X)"
   ]
  },
  {
   "cell_type": "markdown",
   "metadata": {},
   "source": [
    "Выборочный коэффициент эксцесса:\n",
    "$$\\widehat{\\mathrm{Kurt}}X=\\frac{1}{n}\\frac{\\sum \\limits_{i=1}^{n}\\left(x_i-\\overline{X}\\right)^4}{S^4}-3 = 4.54$$"
   ]
  },
  {
   "cell_type": "code",
   "execution_count": 235,
   "metadata": {},
   "outputs": [
    {
     "name": "stdout",
     "output_type": "stream",
     "text": [
      "F(d) =  0.76\n",
      "F(c) =  0.06\n",
      "Вероятность P(c <= x <= d):  0.7\n"
     ]
    }
   ],
   "source": [
    "#нахождение P(c <= x <= d)\n",
    "\n",
    "def F2(y):\n",
    "    for i in range(n):\n",
    "        if data2_sort[i] >= y:\n",
    "            return i\n",
    "    return n - 1\n",
    "\n",
    "c, d = 0.00001, 1.280001\n",
    "print(\"F(d) = \", F2(d)/n)\n",
    "print(\"F(c) = \", F2(c)/n)\n",
    "print(\"Вероятность P(c <= x <= d): \", F2(d)/n - F2(c)/n)"
   ]
  },
  {
   "cell_type": "markdown",
   "metadata": {},
   "source": [
    "Выборочный аналог $\\mathbb{P}\\left(x \\in \\left[c, d\\right]\\right)$, c = 0.00, d = 1.28: <br><br>\n",
    "\n",
    "$$\\mathbb{P}\\left(x \\in \\left[c, d\\right]\\right) = \\mathrm{F}(d) - \\mathrm{F}(c) = 0.76 - 0.06 = 0.7$$\n",
    " где $\\mathrm{F}(x)$ - эмпирическая функция распределения"
   ]
  },
  {
   "cell_type": "markdown",
   "metadata": {},
   "source": [
    "### c) В предположении, что исходные наблюдения являются выборкой из показательного распределения, построить оценку максимального правдоподобия параметров $\\lambda$ и соответствующие оценки по методу моментов. Найти смещение оценок.\n",
    "\n",
    "**Плотность нормального распределения:** \n",
    "$p_{\\theta}(x) = \\lambda\\cdot e^{-\\lambda\\cdot x}$, при $x \\ge 0$\n",
    "\n",
    "* **Оценка максимального правдоподобия:** <br>\n",
    "\n",
    "$\\mathrm{L}\\left(\\vec{X}, \\vec{\\theta}\\right) = \\lambda^n \\cdot e ^ {\\lambda \\displaystyle \\sum_{i=1}^{n}x_{i}}$ <br>\n",
    "\n",
    "$\\mathrm{LL}\\left(\\vec{X}, \\vec{\\theta}\\right) = n \\ln{\\lambda} - \\lambda \\displaystyle \\sum_{i=1}^{n}x_{i}$ <br>\n",
    "\n",
    "$\\frac{\\partial \\mathrm{LL}}{ \\partial \\lambda} = \\frac{n}{\\lambda} \\cdot - \\displaystyle \\sum_{i=1}^{n}x_{i} = 0$ , $\\Rightarrow \\widehat{\\lambda} = \\frac{1}{\\overline{X}}$ <br>\n",
    "\n",
    "Значит, $\\widehat{\\theta} = \\frac{1}{\\overline{X}}$ - ОМП <br>\n",
    "\n",
    "* **Оценка методом моментов:** \n",
    "\n",
    "$\\mathbb{E}X_1 = \\frac{1}{\\lambda}$ , $M_1 = \\overline{X}$ <br>\n",
    "\n",
    "Следовательно, $\\widetilde{\\theta} = \\frac{1}{\\overline{X}}$ - ОММ <br>\n",
    "\n",
    "* **Смещение оценок:**\n",
    "\n",
    "$\\mathbb{E}_{\\theta}\\widehat{\\lambda} = \\mathbb{E}_{\\theta}\\widetilde{\\lambda} = \\mathbb{E}_{\\theta}\\frac{1}{\\overline{X}} = \\frac{1}{n} \\sum \\limits_{i = 1}^n\\mathbb{E}_{\\theta}\\frac{1}{X_1} = \\frac{1}{n} \\cdot n \\cdot \\lambda = \\lambda$ , следовательно оценки параметра $\\lambda$ несмещённые. <br>\n",
    "\n"
   ]
  },
  {
   "cell_type": "markdown",
   "metadata": {},
   "source": [
    "### d) Построить доверительныq интервал уровня значимости $\\alpha_2 = 0.02$ для параметра $\\lambda$.\n",
    "\n",
    "Из пункта 2.с:<br>\n",
    "\n",
    "$\\widehat{\\theta} = \\widehat{\\lambda} = \\frac{1}{\\overline{X}}$<br>\n",
    "\n",
    "$\\Large \\frac{\\partial LL}{\\partial \\lambda} = \\frac{n}{\\lambda} \\cdot - \\displaystyle \\sum_{i=1}^{n}x_{i}$<br>\n",
    "\n",
    "$\\Large \\frac{\\partial^2 LL}{\\partial \\lambda^2} = \\normalsize - \\Large \\frac{n}{\\lambda^2}$<br>\n",
    "\n",
    "$\\mathrm{I}_n(\\lambda) = - \\large \\mathbb{E}_{\\theta}\\frac{\\partial^2 LL}{\\partial \\lambda^2} = \\mathbb{E}_{\\theta} \\left(\\frac{n}{\\lambda^2}\\right) = \\frac{n}{\\lambda^2}$ <br>\n",
    "\n",
    "$\\mathrm{I}(\\lambda) = \\lim \\limits_{n \\to \\infty} \\large \\frac{1}{\\lambda^2} = \\frac{1}{\\lambda^2}$ <br>\n",
    "\n",
    "**Квантили:** \n",
    "\n",
    "Так как распределение симметричное: <br><br>\n",
    "$x_{\\alpha} : \\mathrm{\\Phi}(x_{\\alpha}) = 1 - \\frac{\\alpha}{2} = 1 - \\frac{0.02}{2} = 0.99$, где $\\alpha = \\alpha_1 = 0.02$<br><br>\n",
    "$\\mathrm{\\Phi}(x_{\\alpha}) = 0.99 \\Rightarrow x_{\\alpha} = 2.4$ (посчитано в коде с использованием scipy.stats).\n",
    "\n",
    "*Асимптотический доверительный интервал:* <br><br>\n",
    "$\\left[\\overline{X} - \\sqrt{\\frac{\\overline{X}^2}{n}} \\cdot x_{\\alpha} , \\overline{X} + \\sqrt{\\frac{\\overline{X}^2}{n}} \\cdot x_{\\alpha}\\right] \\ni \\lambda$\n",
    "\n",
    "Таким образом, АДИ уровня значимости $\\alpha_1 = 0.02$ для параметра $\\lambda$:\n",
    "$$\\left[0.63,1.29\\right] \\ni \\lambda$$\n",
    "\n"
   ]
  },
  {
   "cell_type": "code",
   "execution_count": 236,
   "metadata": {},
   "outputs": [
    {
     "name": "stdout",
     "output_type": "stream",
     "text": [
      "2.4048917596601207\n",
      "Доверительный интервал для параметра :  [0.63, 1.29]\n"
     ]
    }
   ],
   "source": [
    "\n",
    "alpha_2 = 0.02\n",
    "df = n - 1\n",
    "x_alpha = t.ppf(1 - alpha_2/2, df)\n",
    "print(x_alpha)\n",
    "left_a = mn - mn/n**0.5*x_alpha \n",
    "right_a = mn + mn/n**0.5*x_alpha \n",
    "\n",
    "print('Доверительный интервал для параметра : ', [round(left_a, 2), round(right_a, 2)])"
   ]
  },
  {
   "cell_type": "markdown",
   "metadata": {},
   "source": [
    "### e) С использованием теоремы Колмогорова построить критерий значимости проверки простой гипотезы согласия с показательным распределением с параметром $\\lambda = 0.42$. Проверить гипотезу на уровне значимости $\\alpha_2 = 0.02$. Вычислить наибольшее значение уровня значимости, на котором ещё нет оснований отвергнуть данную гипотезу."
   ]
  },
  {
   "cell_type": "markdown",
   "metadata": {},
   "source": [
    "Вычислим выборочный критерий Колмогорова $\\eta = \\sqrt{n}D_n$ используя Scipy"
   ]
  },
  {
   "cell_type": "code",
   "execution_count": 237,
   "metadata": {},
   "outputs": [
    {
     "name": "stdout",
     "output_type": "stream",
     "text": [
      "Критерий Колмогорова:  6.36\n"
     ]
    }
   ],
   "source": [
    "X = data_2\n",
    "lambda_x = 0.42\n",
    "lo = 1/lambda_x\n",
    "scal = 1/(lambda_x)**2\n",
    "n = len(X)\n",
    "\n",
    "cdf = lambda x: expon.cdf(x, loc = lo, scale = scal)\n",
    "Dn, _ = kstest(X, cdf)\n",
    "eta = 50**0.5 * Dn\n",
    "print('Критерий Колмогорова: ', round(eta, 2))"
   ]
  },
  {
   "cell_type": "markdown",
   "metadata": {},
   "source": [
    "Зададим уровень значимости $\\alpha = 0.02$. Вычислим квантиль Колмогорова $d_{1 - \\alpha}$, чтобы построить критическую область $V_k = (d_{1 - \\alpha},+ \\infty)$"
   ]
  },
  {
   "cell_type": "code",
   "execution_count": 238,
   "metadata": {},
   "outputs": [
    {
     "name": "stdout",
     "output_type": "stream",
     "text": [
      "Квантиль:  1.52\n"
     ]
    }
   ],
   "source": [
    "alpha = 0.02\n",
    "d = kstwobign.ppf(1 - alpha)\n",
    "print('Квантиль: ', round(d, 2))"
   ]
  },
  {
   "cell_type": "markdown",
   "metadata": {},
   "source": [
    "$V_k = (1.52, + \\infty)$\n",
    "\n",
    "$\\eta \\in V_k \\Rightarrow$ гипотеза отвергается."
   ]
  },
  {
   "cell_type": "code",
   "execution_count": 239,
   "metadata": {},
   "outputs": [
    {
     "name": "stdout",
     "output_type": "stream",
     "text": [
      "Наибольшее значение уровня значимости, при котором нет оснований отвергнуть гипотезу:  -0.0\n"
     ]
    }
   ],
   "source": [
    "alpha = 0.02\n",
    "\n",
    "while eta > d:\n",
    "    alpha -= 0.0001\n",
    "    d = kstwobign.ppf(1 - alpha)\n",
    "\n",
    "print('Наибольшее значение уровня значимости, при котором нет оснований отвергнуть гипотезу: ', round(alpha, 3))"
   ]
  },
  {
   "cell_type": "markdown",
   "metadata": {},
   "source": [
    "### f) Используя гистограмму частот, построить критерии значимости $\\chi^2$ проверки простой гипотезы согласия с показательным распределением с параметром $\\lambda = 0.42$. Проверить гипотезу на уровне значимости $\\alpha_2 = 0.02$. Вычислить наибольшее значение уровня значимости, на котором ещё нет оснований отвергнуть данную гипотезу.\n",
    "\n",
    "Разобьём числовую прямую на отрезки $G_1 = \\left(- \\infty, 1\\right],  G_2 = \\left(1, 1.5\\right],  G_3 = \\left(1.5, 2.5\\right], G_4 = \\left(2.5, +\\infty \\right)$\n",
    "\n",
    "Рассмотрим $\\mathbb{P}_{k} = \\mathbb{P}_{\\theta}\\left(x_i \\in G_k\\right) = \\sum \\limits_{x \\in G_k} p_{\\theta}(x)$, где $p_{\\theta}(x) = \\lambda e ^{-\\lambda x} = 0.42 e ^{-0.42 x}$ - плотность показательного распределения.<br>\n",
    "$\\mathbb{P}_{1} = 0.21 \\rightarrow n\\mathbb{P}_1 = 10.8$ \n",
    "\n",
    "$\\mathbb{P}_{2} = 0.14 \\rightarrow n\\mathbb{P}_2 = 7.42$\n",
    "\n",
    "$\\mathbb{P}_{3} = 0.22 \\rightarrow n\\mathbb{P} _3 = 10.87$\n",
    "\n",
    "$\\mathbb{P}_{4} = 1 - \\left(\\mathbb{P}_{1} + \\mathbb{P}_{2} + \\mathbb{P}_3 \\right) = 0.42 \\rightarrow n\\mathbb{P}_4 = 20.87$\n",
    "\n",
    "Тогда получилим статистику критерия $\\chi^2 = \\sum \\limits_{i=1}^4 \\large \\frac{\\left(n_i - n\\mathbb{P}_i\\right)^2}{n\\mathbb{P}_i}  \\normalsize = 65.28$<br><br>\n",
    "Из таблицы (дополнительно посчитано в коде): $\\chi_{k-1, \\alpha_2}^2 = \\chi_{3, 0.02}^2 = 7.81$ <br><br>\n",
    "Так как $\\chi^2 > \\chi_{3, 0.02}^2$ , то нет оснований принять гипотезу.\n",
    "\n",
    "Наибольшее значение уровня значимости, при котором ещё нет оснований отвергнуть данную гипотезу, $\\alpha = 6.46\\cdot 10^{-16}$."
   ]
  },
  {
   "cell_type": "code",
   "execution_count": 240,
   "metadata": {},
   "outputs": [
    {
     "name": "stdout",
     "output_type": "stream",
     "text": [
      "P1 =  0.21619890799606356 , n*P1 =  10.809945399803178\n",
      "P2 =  0.1484642748513164 , n*P2 =  7.423213742565821\n",
      "P3 =  0.2178907819310708 , n*P3 =  10.89453909655354\n",
      "P4 =  0.4174460352215492 , n*P4 =  20.87230176107746\n",
      "n1 =  34 , n2 =  6 , n3 =  5 , n4 =  5\n",
      "Статистика критерия:  65.28\n",
      "Табличное значение: 9.84\n",
      "Гипотеза отвергается\n",
      "Наибольший уровень значимости:  6.464250521583809e-16\n"
     ]
    }
   ],
   "source": [
    "lam_x = 0.42\n",
    "scal = 1/lam_x\n",
    "\n",
    "edges = [1, 1.5, 2.5, 6] #интервалы\n",
    "\n",
    "#подсчёт вероятностей\n",
    "p1 = expon.cdf(edges[0], lam_x, scal)\n",
    "p2 = expon.cdf(edges[1], lam_x, scal) - expon.cdf(edges[0], lam_x, scal)\n",
    "p3 = expon.cdf(edges[2], lam_x, scal) - expon.cdf(edges[1], lam_x, scal)\n",
    "p4 = 1 - p1 - p2 - p3\n",
    "print('P1 = ', p1, ', n*P1 = ', n * p1)\n",
    "print('P2 = ', p2, ', n*P2 = ', n * p2)\n",
    "print('P3 = ', p3, ', n*P3 = ', n * p3)\n",
    "print('P4 = ', p4, ', n*P4 = ', n * p4)\n",
    "\n",
    "#количество значений, попавших в интервал\n",
    "groups = [[],[],[],[]]\n",
    "cur_edge_index = 0\n",
    "cur_group = 0\n",
    "\n",
    "for item in data2_sort:\n",
    "    cur_edge = edges[cur_edge_index]\n",
    "    if item <= cur_edge:\n",
    "        groups[cur_group].append(item)\n",
    "    else:\n",
    "        cur_group += 1\n",
    "        groups[cur_group].append(item)\n",
    "        cur_edge_index += 1\n",
    "\n",
    "n1, n2, n3, n4 = len(groups[0]), len(groups[1]), len(groups[2]), len(groups[3])\n",
    "#print(groups)\n",
    "print('n1 = ', n1, ', n2 = ', n2, ', n3 = ', n3, ', n4 = ', n4)\n",
    "\n",
    "#критерий\n",
    "chi = ((n1 - n*p1)**2) / (n*p1) + ((n2 - n*p2)**2) / (n*p2) + ((n3 - n*p3)**2) / (n*p3) + ((n4 - n*p4)**2) / (n*p4)\n",
    "print(\"Статистика критерия: \", round(chi, 2))\n",
    "print('Табличное значение:', round(chi2.ppf(1 - alpha_2, 3), 2))\n",
    "\n",
    "if chi > chi2.ppf(1 - alpha_2, 3):\n",
    "    print('Гипотеза отвергается')\n",
    "else:\n",
    "    print('Гипотеза принимается')\n",
    "\n",
    "#наибольший уровень значимости\n",
    "alpha = 0.02\n",
    "step = 0.00001\n",
    "while chi > chi2.ppf(1 - alpha, 3):\n",
    "    alpha -= step\n",
    "print('Наибольший уровень значимости: ', alpha)"
   ]
  },
  {
   "cell_type": "markdown",
   "metadata": {},
   "source": [
    "### g) Построить критерий проверки значимости $\\chi^2$ сложной гипотезы согласия с показательным распределением. Проверить гипотезу на уровне значимости $\\alpha_2 = 0.02$. Вычислить наибольшее значение уровня значимости, на которос ещё нет оснований отвергнуть данную гипотезу.\n",
    "\n",
    "Проведём группировку значений, как в предыдущем пункте.\n",
    "\n",
    "Рассмотрим $\\mathbb{P}_{k} = \\mathbb{P}_{\\theta}\\left(x_i \\in G_k\\right) = \\mathbb{P}_{\\theta}\\left(x_i \\in G_k\\right) = \\sum \\limits_{x \\in G_k} p_{\\theta}(x)$, где $p_{\\theta}(x) = \\lambda e ^{-\\lambda x} = 0.96 e ^{-0.96 x}$ - плотность показательного распределения.<br>\n",
    "\n",
    "$\\mathbb{P}_{1} = 0.03 \\rightarrow n\\mathbb{P}_1 = 1.88$ \n",
    "\n",
    "$\\mathbb{P}_{2} = 0.36 \\rightarrow n\\mathbb{P}_2 = 18.34$\n",
    "\n",
    "$\\mathbb{P}_{3} = 0.22  \\rightarrow n\\mathbb{P} _3 = 18.37$\n",
    "\n",
    "$\\mathbb{P}_{4} = 1 - \\left(\\mathbb{P}_{1} + \\mathbb{P}_{2} + \\mathbb{P}_3 \\right) = 0.22 \\rightarrow n\\mathbb{P}_4 = 11.4$\n",
    "\n",
    "Тогда получилим статистику критерия $\\chi^2 = \\sum \\limits_{i=1}^4 \\large \\frac{\\left(n_i - n\\mathbb{P}_i\\right)^2}{n\\mathbb{P}_i}  \\normalsize = 569.23$\n",
    "\n",
    "Из таблицы (дополнительно посчитано в коде): $\\chi_{k-1-r, \\alpha_2}^2 = \\chi_{2, 0.02}^2 = 7.82$ \n",
    "\n",
    "Так как $\\chi^2 < \\chi_{1, 0.05}^2$ , то нет оснований отвергнуть гипотезу. \n",
    "\n",
    "Наибольшее значение уровня значимости, при котором ещё нет оснований отвергнуть данную гипотезочень мало."
   ]
  },
  {
   "cell_type": "code",
   "execution_count": 241,
   "metadata": {},
   "outputs": [
    {
     "name": "stdout",
     "output_type": "stream",
     "text": [
      "P1 =  0.03767206727838963 , n*P1 =  1.8836033639194814\n",
      "P2 =  0.36685539048234056 , n*P2 =  18.342769524117028\n",
      "P3 =  0.36747034202233897 , n*P3 =  18.37351710111695\n",
      "P4 =  0.22800220021693074 , n*P4 =  11.400110010846538\n",
      "n1 =  34 , n2 =  6 , n3 =  5 , n4 =  5\n",
      "Статистика критерия:  569.2335570315786\n",
      "Табличное значение: 7.824046010856292\n",
      "Гипотеза отвергается\n",
      "Наибольший уровень значимости:  -9.999999993469481e-07\n"
     ]
    }
   ],
   "source": [
    "lam_x = 0.96\n",
    "scal = 1/lam_x\n",
    "alpha_2 = 0.02\n",
    "edges = [1, 1.5, 2.5, 6] #интервалы\n",
    "\n",
    "#подсчёт вероятностей\n",
    "p1 = expon.cdf(edges[0], lam_x, scal)\n",
    "p2 = expon.cdf(edges[1], lam_x, scal) - expon.cdf(edges[0], lam_x, scal)\n",
    "p3 = expon.cdf(edges[2], lam_x, scal) - expon.cdf(edges[1], lam_x, scal)\n",
    "p4 = 1 - p1 - p2 - p3\n",
    "print('P1 = ', p1, ', n*P1 = ', n * p1)\n",
    "print('P2 = ', p2, ', n*P2 = ', n * p2)\n",
    "print('P3 = ', p3, ', n*P3 = ', n * p3)\n",
    "print('P4 = ', p4, ', n*P4 = ', n * p4)\n",
    "\n",
    "#количество значений, попавших в интервал\n",
    "groups = [[],[],[],[]]\n",
    "cur_edge_index = 0\n",
    "cur_group = 0\n",
    "\n",
    "for item in data2_sort:\n",
    "    cur_edge = edges[cur_edge_index]\n",
    "    if item <= cur_edge:\n",
    "        groups[cur_group].append(item)\n",
    "    else:\n",
    "        cur_group += 1\n",
    "        groups[cur_group].append(item)\n",
    "        cur_edge_index += 1\n",
    "\n",
    "n1, n2, n3, n4 = len(groups[0]), len(groups[1]), len(groups[2]), len(groups[3])\n",
    "#print(groups)\n",
    "print('n1 = ', n1, ', n2 = ', n2, ', n3 = ', n3, ', n4 = ', n4)\n",
    "\n",
    "#критерий\n",
    "chi = ((n1 - n*p1)**2) / (n*p1) + ((n2 - n*p2)**2) / (n*p2) + ((n3 - n*p3)**2) / (n*p3) + ((n4 - n*p4)**2) / (n*p4)\n",
    "print(\"Статистика критерия: \", chi)\n",
    "print('Табличное значение:', chi2.ppf(1 - alpha_2, 2))\n",
    "\n",
    "if chi > chi2.ppf(1 - alpha_2, 2):\n",
    "    print('Гипотеза отвергается')\n",
    "else:\n",
    "    print('Гипотеза принимается')\n",
    "\n",
    "#наибольший уровень значимости\n",
    "alpha = 0.02\n",
    "step = 0.000001\n",
    "while chi > chi2.ppf(1 - alpha, 2):\n",
    "    alpha -= step\n",
    "print('Наибольший уровень значимости: ', alpha)"
   ]
  },
  {
   "cell_type": "markdown",
   "metadata": {},
   "source": [
    "### h) Построить наиболее мощный критерий проверки простой гипотезы о показательности с параметром $\\lambda = 0.42$ при альтернативе нормальности с параметром $\\lambda = 0.71$. Проверить гипотезу на уровне значимости $\\alpha_2 = 0.02$. Что получится, если поменять местами основновную и альтернативную гипотезы?\n",
    "\n",
    "*Нулевая гипотеза* $H_0: \\theta_0 = \\lambda_{0} = 0.42$\n",
    "\n",
    "*Альтернативная гипотеза* $H_1: \\theta_1 = \\lambda_{1} = 0.71$\n",
    "\n",
    "*Функция правдоподобия:*\n",
    "\n",
    "$\\mathrm{L}\\left(\\vec{X}, \\vec{\\theta}\\right) = \\lambda ^ n e^{-\\lambda \\cdot n \\overline{X}}$\n",
    "\n",
    "*Статистика отношения правдоподобия:*\n",
    "\n",
    "$\\mathrm{LR}\\left(\\vec{X}, \\vec{\\theta_0}, \\vec{\\theta_1}\\right) = \\frac{\\mathrm{L}\\left(\\vec{X}, \\vec{\\theta_1}\\right)}{\\mathrm{L}\\left(\\vec{X}, \\vec{\\theta_0}\\right)} = \\exp{(-\\lambda_{0} n \\overline{X} + \\lambda_{1} n \\overline{X})} = \\exp{(\\sum \\limits_{i = 1}^n x_i(\\lambda_{1}-\\lambda_{0}))}$ - монотонно возрастающая функция от $\\sum \\limits_{i = 1}^n x_i$.\n",
    "\n",
    "$\\sum \\limits_{i = 1}^n x_i(\\lambda_{1}-\\lambda_{0}) > \\ln{c}$\n",
    "\n",
    "$\\overline{X} > \\large \\frac{\\ln{c}}{n(\\lambda_{1}- \\lambda_{0})}$\n",
    "\n",
    "В силу монотонности статистики LR относительно $\\overline{X}$:\n",
    "\n",
    "$\\mathrm{LR} > c \\iff \\overline{X} > c^*$\n",
    "\n",
    "$\\mathrm{LR} < c \\iff \\overline{X} < c^*$\n",
    "\n",
    "Тогда:\n",
    "\n",
    "$$ \\phi(x) =\\left\\{\\begin{array}{l} 1, \\overline{X} > c^* \\\\ p, \\overline{X} = c^* \\\\ 0, \\overline{X} < c^*\\\\ \\end{array}\\right.$$\n",
    "  \n",
    "Используя ЦПТ, получается эквивалентный критерий:\n",
    "\n",
    "$\\sqrt{n} \\frac{\\overline{X} - 1/\\lambda_{0}}{1/\\lambda_{0}^2} \\sim \\mathcal{N}(0, 1)$ при $H_0$\n",
    "\n",
    "$\\sqrt{n} \\frac{\\overline{X} - 1/\\lambda_{0}}{1/\\lambda_{0}^2} = -1.77$\n",
    "\n",
    "Квантиль:\n",
    "\n",
    "$c^* : \\Phi(c^*) = 1 - \\alpha_2 = 1 - 0.02 = 0.98 \\Rightarrow c^* = 2.06$\n",
    "\n",
    "Тогда:\n",
    "$$ \\phi(x) =\\left\\{\\begin{array}{l} 1, \\overline{X} > 1.65 \\\\ p, \\overline{X} = 1.65 \\\\ 0, \\overline{X} < 1.65\\\\ \\end{array}\\right.$$\n",
    "Так как $\\sqrt{n} \\frac{\\overline{X} - a_0}{\\sigma} < c^*$, то нет оснований отвергнуть гипотезу."
   ]
  },
  {
   "cell_type": "code",
   "execution_count": 242,
   "metadata": {},
   "outputs": [
    {
     "name": "stdout",
     "output_type": "stream",
     "text": [
      "c* = 2.06\n",
      "LR = -1.7715074912703028\n"
     ]
    }
   ],
   "source": [
    "c_alpha = 0\n",
    "while norm.cdf(c_alpha) <= 0.98:\n",
    "    c_alpha += 0.01\n",
    "print('c* =', c_alpha)\n",
    "lam_x = 0.42\n",
    "clt = ((mn - 1/lam_x)/(1/(lam_x)**2)) * n**0.5\n",
    "print('LR =', clt)"
   ]
  },
  {
   "cell_type": "markdown",
   "metadata": {},
   "source": [
    "**Поменяем местамим основную и альтернативную гипотезы:**\n",
    "\n",
    "*Нулевая гипотеза* $H_0: \\theta_0 = \\lambda_{1} = 0.71$\n",
    "\n",
    "*Альтернативная гипотеза* $H_1: \\theta_1 = \\lambda_{0} = 0.42$\n",
    "\n",
    "*Статистика отношения правдоподобия:*\n",
    "\n",
    "$\\mathrm{LR}\\left(\\vec{X}, \\vec{\\theta_0}, \\vec{\\theta_1}\\right) = \\frac{\\mathrm{L}\\left(\\vec{X}, \\vec{\\theta_1}\\right)}{\\mathrm{L}\\left(\\vec{X}, \\vec{\\theta_0}\\right)} = \\exp{(-\\lambda_{1} n \\overline{X} + \\lambda_{0} n \\overline{X})} = \\exp{(\\sum \\limits_{i = 1}^n x_i(\\lambda_{0}-\\lambda_{1}))}$ - монотонная функция от $\\sum \\limits_{i = 1}^n x_i$.\n",
    "\n",
    "$\\sum \\limits_{i = 1}^n x_i(\\lambda_{0}-\\lambda_{1}) > \\ln{c}$\n",
    "\n",
    "Так как $\\lambda_{0} < \\lambda_{1}$, то меняем знак неравенства:\n",
    "\n",
    "$\\overline{X} > \\large \\frac{\\ln{c}}{n(\\lambda_{0}-\\lambda_{1})}$\n",
    "\n",
    "В силу монотонности статистики LR относительно $\\overline{X}$:\n",
    "\n",
    "$\\mathrm{LR} > c \\iff \\overline{X} < c^*$\n",
    "\n",
    "$\\mathrm{LR} < c \\iff \\overline{X} > c^*$\n",
    "\n",
    "Тогда получим:\n",
    "$$ \\phi(x) =\\left\\{\\begin{array}{l} 1, \\overline{X} < c^* \\\\ p, \\overline{X} = c^* \\\\ 0, \\overline{X} > c^*\\\\ \\end{array}\\right.$$\n",
    "  \n",
    "Используя ЦПТ, получаем эквивалентный критерий:\n",
    "\n",
    "$\\sqrt{n} \\frac{\\overline{X} - 1/\\lambda_{1}}{1/\\lambda_{1}^2} \\sim \\mathcal{N}(0, 1)$ при $H_1$\n",
    "\n",
    "$\\mathbb{P}\\left(\\sqrt{n}\\frac{\\overline{X} - 1/\\lambda_{1}}{1/\\lambda_{1}^2} \\geq \\sqrt{n}\\frac{c^* - 1/\\lambda_{1}}{1/\\lambda_{1}^2}\\right) = 1 - \\Phi\\left(\\sqrt{n}\\frac{c^* - 1/\\lambda_{1}}{1/\\lambda_{1}^2}\\right) = \\alpha_2$\n",
    "\n",
    "$\\sqrt{n}\\frac{c^* - 1/\\lambda_{1}}{1/\\lambda_{1}^2} = x_{\\alpha}$\n",
    "\n",
    "$x_{\\alpha} : \\Phi(x_{\\alpha}) = 1 - \\alpha_2 = 1 - 0.02 = 0.98 \\Rightarrow x_{\\alpha} = 2.06 \\Rightarrow c^* = 1.98$\n",
    "\n",
    "$$ \\phi(x) =\\left\\{\\begin{array}{l} 1, \\overline{X} < 1.98 \\\\ p, \\overline{X} = 1.98 \\\\ 0, \\overline{X} > 1.98\\\\ \\end{array}\\right.$$\n",
    "\n",
    "$\\overline{X} = 0.96$\n",
    "\n",
    "Так как $\\overline{X} < c^*$, то гипотеза отвергается."
   ]
  },
  {
   "cell_type": "code",
   "execution_count": 243,
   "metadata": {},
   "outputs": [
    {
     "name": "stdout",
     "output_type": "stream",
     "text": [
      "x_alpha = 2.06\n",
      "c = 1.986367771967581\n"
     ]
    }
   ],
   "source": [
    "x_alpha = 0\n",
    "while norm.cdf(x_alpha) <= 0.98:\n",
    "    x_alpha += 0.01\n",
    "print('x_alpha =', x_alpha)\n",
    "\n",
    "lam_x = 0.71\n",
    "\n",
    "lam_x12 = 1/(lam_x)**2\n",
    "lam_x1 = 1/(lam_x) \n",
    "c_star = (x_alpha * lam_x12)/n**0.5 + lam_x1\n",
    "print('c =', c_star)"
   ]
  },
  {
   "cell_type": "markdown",
   "metadata": {},
   "source": [
    "### i) В пунктах (c) - (h) заменить семейство показательных распределенеий на семейство ГАММА - распределений с плотностями:\n",
    "$$\\mathbb{p}_{\\theta} = \\frac{\\sqrt{\\lambda}\\exp{-\\lambda x/2}}{\\sqrt{2\\pi x}}$$\n",
    "$L(\\theta, \\vec{x})= \\prod\\limits_{i=1}^n \\frac{\\sqrt{\\lambda} \\exp(-\\lambda x_i/2)}{\\sqrt{2 \\pi x_i}} = \\lambda^{\\frac{n}{2}} \\cdot  (2\\pi)^{-\\frac{n}{2}}\\cdot \\exp(-\\frac{\\lambda}{2}  \\sum\\limits_{i=1}^nx_i ) \\cdot  \\prod\\limits_{i=1}^n \\frac{1}{\\sqrt x_i}  $ <br>\n",
    "Чтобы упростить вычисления, напишем логарифмическую функцию правдоподобия: <br>\n",
    "$LL(\\theta, \\vec{x})= \\frac{n}{2} \\ln\\lambda - \\frac{n}{2} \\ln{2\\pi} - \\frac{\\lambda}{2} \\sum\\limits_{i=1}^nx_i + \\ln{\\prod\\limits_{i=1}^n \\frac{1}{\\sqrt x_i}} $ <br>\n",
    "Вычислим производную логарифмической функции правдоподобия по параметру $\\lambda$: <br>\n",
    "$\\frac{\\partial LL(\\theta, \\vec{x})}{\\partial \\lambda} = \\frac{n}{2\\lambda} -  \\frac{\\sum\\limits_{i=1}^nx_i}{2}$ <br>\n",
    "Приравниваем производную к 0 и вычисляем $\\lambda$: <br>\n",
    "$\\frac{n}{\\lambda} -  \\sum\\limits_{i=1}^nx_i = 0$ <br>\n",
    "$\\hat{\\lambda}=\\frac{n}{\\sum\\limits_{i=1}^nx_i} = \\frac{1}{\\overline{x}} $ <br>\n",
    "$\\hat\\theta = \\hat{\\lambda}= \\frac{1}{\\overline{x}}$ - ОМП <br>\n",
    "\n",
    "ОММ <br>\n",
    "$a = \\frac{1}{2}, b = \\frac{2}{\\lambda}$ <br>\n",
    "$ \\mathbb{E}{X_1} = ab = \\frac{1}{ \\lambda}$ <br>\n",
    "$M_1 = \\overline{x} $ <br>\n",
    " $\\frac{1}{\\lambda} = \\overline{x} $ <br>\n",
    "$\\widetilde{\\theta} = \\widetilde{\\lambda} = \\frac{1}{\\overline{x}}$ - ОММ <br>\n",
    "\n",
    "НРМД <br>\n",
    "$L(\\theta, \\vec{x})=  \\lambda^{\\frac{n}{2}} \\cdot  (2\\pi)^{-\\frac{n}{2}}\\cdot \\exp(-\\frac{\\lambda}{2}  \\sum\\limits_{i=1}^nx_i ) \\cdot  \\prod\\limits_{i=1}^n \\frac{1}{\\sqrt x_i}  $ <br> \n",
    "$g(T) = \\lambda^{\\frac{n}{2}} \\cdot  (2\\pi)^{-\\frac{n}{2}}\\cdot \\exp(-\\frac{\\lambda}{2}  \\sum\\limits_{i=1}^nx_i ) $ <br>\n",
    "$h(x) = \\prod\\limits_{i=1}^n \\frac{1}{\\sqrt x_i} $ <br>\n",
    "$ T=\\sum\\limits_{i=1}^n x_i$  - МДС. Так как гамма-распределение принадлежит экспоненциальному семейству, то $T$ - ПДС <br>\n",
    "$\\mathbb{E}_\\theta \\hat{\\theta} = \\mathbb{E}_\\theta  \\frac{1}{\\overline{x}} = \\mathbb{E}_\\theta \\frac{n}{\\sum\\limits_{i=1}^nx_i} = n \\mathbb{E}_\\theta \\left(\\sum\\limits_{i=1}^nx_i\\right)^{-1} = \\begin{bmatrix}\\gamma=-1\\\\\\alpha = n \\\\ \\beta = \\frac{1}{\\lambda}\\end{bmatrix} = n \\cdot \\lambda \\cdot \\frac{\\Gamma(n-1)}{\\Gamma(n)} = n \\cdot \\lambda \\cdot \\frac{\\Gamma(n-1)}{(n-1)\\Gamma(n-1)} = \\frac{n}{n-1} \\lambda$  - смещенная оценка <br>\n",
    "$\\widetilde{\\theta} = \\frac{n-1}{n}\\hat{\\theta}$  <br>\n",
    "$\\mathbb{E}_\\theta \\widetilde{\\theta} = \\mathbb{E}_\\theta \\frac{n-1}{n}\\hat{\\theta} = \\frac{n-1}{n} \\frac{n}{n-1} \\lambda = \\lambda  $ - НРМД "
   ]
  },
  {
   "cell_type": "markdown",
   "metadata": {},
   "source": [
    "#### **i.d) $\\alpha_2$ = 0.02**\n",
    "\n",
    "Построение АДИ на базе ОМП: <br>\n",
    "$\\theta = \\lambda \\Rightarrow \\hat\\theta = \\overline{x}$ <br>\n",
    "$\\sqrt{n}\\left( \\widehat{\\theta}(\\vec{x})-\\theta \\right)\\sim \\mathcal{N}\\left( 0, \\frac{1}{I(\\theta)} \\right)$<br>\n",
    "$I(\\theta) = \\lim\\limits_{n\\to\\infty}{\\frac{I_n(\\theta)}{n}}$ <br>\n",
    "$I_n(\\theta) = -\\mathbb{E}_\\theta\\frac{\\partial^2{LL}}{\\partial\\theta^2} $ <br>\n",
    "Из предыдущего пункта мы нашли: <br>\n",
    "$\\frac{\\partial LL(\\theta, \\vec{x})}{\\partial \\lambda} = \\frac{n}{2\\lambda} -  \\frac{\\sum\\limits_{i=1}^nx_i}{2}$ <br>\n",
    "Тогда: <br>\n",
    "$\\frac{\\partial^2 LL(\\theta, \\vec{x})}{\\partial \\lambda^2} =-\\frac{n}{2\\lambda^2}  $ <br>\n",
    "$I_n(\\lambda) =  - \\mathbb{E}{\\left(-\\frac{n}{\\lambda^2} \\right)} = \\frac{n}{2\\lambda^2}  $ <br>\n",
    "$I(\\lambda) = \\lim\\limits_{n\\to\\infty}{\\frac{\\frac{n}{\\lambda^2} }{n}} = \\frac{1}{2\\lambda^2} $ <br>\n",
    "Выбираем: <br>\n",
    "$x_\\alpha: \\Phi(x_\\alpha)=1-\\frac{\\alpha}{2}= 1-\\frac{0.02}{2} = 0.99 \\Rightarrow x_{0.99} = 2.33 $<br> \n",
    "Асимптотический доверительный интервал: <br>\n",
    "$\\left[\\frac{1}{\\overline{x}}- \\frac{x_{0.99}}{\\sqrt{\\frac{n \\overline{x}^2}{2}  }},\\frac{1}{\\overline{x}} + \\frac{x_{0.99}}{\\sqrt{\\frac{n \\overline{x}^2}{2}  }} \\right] \\ni \\lambda$ <br>\n",
    "$ 0.557\\leq \\lambda \\leq 1.525 $\n"
   ]
  },
  {
   "cell_type": "code",
   "execution_count": 244,
   "metadata": {},
   "outputs": [
    {
     "name": "stdout",
     "output_type": "stream",
     "text": [
      "Асимптотический доверительный интервал:\n",
      "Лямбда принадлежит интервалу от 0.557 до 1.525\n"
     ]
    }
   ],
   "source": [
    "alpha = 0.02\n",
    "x_a = norm.ppf(1-alpha/2)\n",
    "left = 1/mn - x_a/(np.power(n*mn*mn/2,0.5))\n",
    "right = 1/mn + x_a/(np.power(n*mn*mn/2,0.5))\n",
    "print(\"Асимптотический доверительный интервал:\")\n",
    "print(\"Лямбда принадлежит интервалу от\", round(left,3), \"до\", round(right,3))"
   ]
  },
  {
   "cell_type": "markdown",
   "metadata": {},
   "source": [
    "## Выводы\n",
    "В данной практической работе были преобретены навыки работы с методами математической статистики для решения задач статистического анализа. Так же изучены и применены встроенные методы среды программирования Python для реализации необходимых методов.\n",
    "\n",
    "Была проведа статистическая обработка данных: найдены выборочные аналоги числовых характеристик, построены ОМП и ОММ оценки, доверительные интервалы, проведена работа с гипотезами.\n",
    "\n",
    "Были проблемы с нахождением наиболее мощного критерия и проверкой гипотез."
   ]
  }
 ],
 "metadata": {
  "kernelspec": {
   "display_name": "Python 3",
   "language": "python",
   "name": "python3"
  },
  "language_info": {
   "codemirror_mode": {
    "name": "ipython",
    "version": 3
   },
   "file_extension": ".py",
   "mimetype": "text/x-python",
   "name": "python",
   "nbconvert_exporter": "python",
   "pygments_lexer": "ipython3",
   "version": "3.10.7"
  }
 },
 "nbformat": 4,
 "nbformat_minor": 4
}
