{
 "cells": [
  {
   "cell_type": "markdown",
   "metadata": {},
   "source": [
    "# Практическая работа №3: Регрессионный анализ\n",
    "Выполнил студент гр. 1375 Мкртчян Гарик Вариант №17"
   ]
  },
  {
   "cell_type": "markdown",
   "metadata": {},
   "source": [
    "## Цель работы\n",
    "Ознакомление с основными положениями метода наименьших квадратов (МНК), со статистическими свойствами МНК-оценок, с понятием функции регрессии и роли МНК в регрессионном анализе."
   ]
  },
  {
   "cell_type": "markdown",
   "metadata": {},
   "source": [
    "## Основные теоретические положения\n",
    "Регрессионная модель: $ E(Y|z)=f_ϴ(z) $\n",
    "\n",
    "Линейная регрессионная модель: $ E_{\\theta}(Y|z) = x(z)^{\\intercal}\\beta $\n",
    "\n",
    "z-ковариата\n",
    "\n",
    "x(z) - вектор регрессоров\n",
    "\n",
    "$ β $ - вектор параметров\n",
    "\n",
    "Линейная регрессия У по  Х: $У =\\beta_0  + \\beta_1x_1 + ⋯ + \\beta_nx_n + 𝜀$\n",
    "\n",
    " МНК (Метод Наименьших Квадратов)\n",
    "\n",
    "$RSS(\\beta)=\\left\\| Y-X^\\intercal\\beta \\right\\|^2=(Y-X^\\intercal\\beta)^\\intercal(Y-X^\\intercal\\beta)\\to min $(по $ \\beta)$\n",
    "\n",
    "Нормальные уравнения: $XX^\\intercal\\beta=XY$\n",
    "\n",
    "\n",
    "Решение системы нормальных уравнений в регулярном случае: $\\hat{\\beta}=(XX^\\intercal)^{-1}XY$\n",
    "\n",
    " Несмещённая оценка дисперсии $s^{2}$\n",
    "\n",
    "$S^{2} =\\frac{SS_e}{n-r} =\\frac{RSS(\\hat{\\beta})}{n-r}$\n",
    "\n",
    " r-ранг матрицы X\n",
    "\n",
    "ДНО функции:$\\psi=C^\\intercal\\beta$\n",
    "\n",
    "Доверительное оценивание\n",
    "\n",
    "Классическое предположение: $ Y \\sim \\mathcal{N}(X^\\intercal\\beta, \\sigma^2E) $\n",
    "\n",
    "Эквивалентное предположение об остатках:  $ ε \\sim N(0,σ^2E) $\n",
    "\n",
    "Доверительный эллипс уровня доверия $1- α$ для $ (β_0,β_1) $\n",
    "\n",
    "Проверка гипотез\n",
    "\n",
    "$ H_0:Ψ=0 $\n",
    "\n",
    "$ F-статистика: F=\\frac{SS_H/q}{SS_e/(n-r)} $\n",
    "\n",
    "$ SS_H=RSS(\\hat{\\beta_H})-RSS(\\hat{\\beta}) $\n",
    "\n",
    "$ \\hat{\\beta_H}$ - МНК при условии  $Ψ=0$\n",
    "\n",
    "F-статистика при $ H_0 \\sim F_{q,n-r} $, где - $ F_{q,n-r} $ распределение Фишера Снедекора с q и (n-r) степенями свободы\n",
    "\n",
    "$ x_α: F_{q,n-r}(x_α)=1-α $"
   ]
  },
  {
   "cell_type": "markdown",
   "metadata": {},
   "source": [
    "## Постановка задачи\n",
    "Результаты статистического эксперимента приведены в таблице 1. Требуется оценить характер (случайной) зависимости переменной $Y$ от переменной $X$."
   ]
  },
  {
   "cell_type": "markdown",
   "metadata": {},
   "source": [
    "## Выполнение работы"
   ]
  },
  {
   "cell_type": "code",
   "execution_count": 173,
   "metadata": {
    "ExecuteTime": {
     "end_time": "2023-12-12T15:43:42.004384500Z",
     "start_time": "2023-12-12T15:43:41.443734700Z"
    }
   },
   "outputs": [
    {
     "name": "stdout",
     "output_type": "stream",
     "text": []
    }
   ],
   "source": [
    "from tabulate import tabulate\n",
    "import numpy as numpy\n",
    "\n",
    "n = numpy.array([1, 2, 3, 4, 5, 6, 7, 8, 9, 10, 11, 12, 13, 14, 15, 16, 17, 18, 19, 20, 21, 22, 23, 24, 25, 26, 27, 28, 29, 30, 31, 32, 33, 34, 35, 36, 37, 38, 39, 40, 41, 42, 43, 44, 45, 46, 47, 48, 49, 50])\n",
    "\n",
    "y = numpy.array([3.77, 14.11, 8.90, 8.59, 9.16, 7.92, 9.72, 4.33, 7.45, 5.16, 10.10, 12.44, 3.14, 0.32, 12.51, 12.33, 15.29, 2.83, 11.12, 12.00, 5.47, 9.53, 10.06, 6.33, 14.02, 9.39, 7.96, 7.13, 9.93, 7.82, 10.24, 4.97, 5.38, 10.40, 7.97, 10.19, 8.71, 2.85, 12.16, 14.74, 2.20, 1.94, 15.60, 7.04, 6.21, 14.13, 5.71, 3.74, 13.38, 4.09])\n",
    "\n",
    "x = numpy.array([3, 2, 6, 1, 2, 3, 5, 3, 4, 3, 4, 2, 2, 5, 3, 3, 4, 3, 4, 3, 3, 2, 4, 5, 3, 3, 3, 1, 4, 2, 3, 4, 2, 3, 3, 2, 4, 5, 1, 0, 2, 4, 3, 3, 3, 2, 4, 3, 4, 5])\n",
    "\n",
    "h = 2.1\n",
    "alpha = 0.01\n",
    "\n",
    "import warnings\n",
    "\n",
    "warnings.filterwarnings(\"ignore\", category=DeprecationWarning)"
   ]
  },
  {
   "cell_type": "markdown",
   "source": [
    "- 1.Построить графически результаты эксперимента. Сформулировать линейную регрессионную модель переменной $Y$ по переменной $X$. Построить МНК оценки параметра сдвига $\\beta_0$ и масштаба $\\beta_1$. Построить полученную линию регрессии. Оценить визуально соответствие полученных данных и построенной оценки."
   ],
   "metadata": {
    "collapsed": false
   }
  },
  {
   "cell_type": "code",
   "execution_count": 174,
   "outputs": [
    {
     "name": "stdout",
     "output_type": "stream",
     "text": [
      "beta0 -  10.97\n",
      "beta1 -  -0.82\n"
     ]
    },
    {
     "data": {
      "text/plain": "<matplotlib.collections.PathCollection at 0x1bf853d3bb0>"
     },
     "execution_count": 174,
     "metadata": {},
     "output_type": "execute_result"
    },
    {
     "data": {
      "text/plain": "<Figure size 640x480 with 1 Axes>",
      "image/png": "[encoded data removed]"
     },
     "metadata": {},
     "output_type": "display_data"
    }
   ],
   "source": [
    "import matplotlib.pyplot as plot\n",
    "from scipy.optimize import curve_fit\n",
    "import scipy.stats as sps\n",
    "\n",
    "def linear_regression(x, beta_0, beta_1):\n",
    "    return beta_0 + beta_1 * x\n",
    "\n",
    "params, covariance = curve_fit(linear_regression, x, y)\n",
    "b_0, b_1 = params\n",
    "\n",
    "print(\"beta0 - \",round(b_0, 2))\n",
    "print(\"beta1 - \",round(b_1, 2))\n",
    "\n",
    "figure = plot.figure()\n",
    "axes = figure.add_subplot(111)\n",
    "\n",
    "plot.xlabel('x')\n",
    "plot.ylabel('y')\n",
    "plot.title('Результаты эксперимента')\n",
    "axes.set_facecolor('white')\n",
    "\n",
    "plot.scatter(x, y, s=20, color='turquoise', label=\"Данные\")\n",
    "\n"
   ],
   "metadata": {
    "collapsed": false,
    "ExecuteTime": {
     "end_time": "2023-12-12T15:43:42.391381500Z",
     "start_time": "2023-12-12T15:43:41.465676100Z"
    }
   }
  },
  {
   "cell_type": "code",
   "execution_count": 175,
   "outputs": [
    {
     "data": {
      "text/plain": "<Figure size 640x480 with 1 Axes>",
      "image/png": "[encoded data removed]"
     },
     "metadata": {},
     "output_type": "display_data"
    }
   ],
   "source": [
    "plot.scatter(x, y, s=20, c='turquoise', label=\"Данные\", )\n",
    "plot.plot([0,6], [b_0, b_0 + b_1 * 6], color = 'red', label = \"Линия регрессии\")\n",
    "plot.xlabel(\"x\")\n",
    "plot.ylabel(\"y\")\n",
    "plot.title(\"Результаты эксперимента и линия регрессии\")\n",
    "plot.legend()\n",
    "plot.show()"
   ],
   "metadata": {
    "collapsed": false,
    "ExecuteTime": {
     "end_time": "2023-12-12T15:43:42.652426800Z",
     "start_time": "2023-12-12T15:43:41.636998Z"
    }
   }
  },
  {
   "cell_type": "markdown",
   "source": [
    "$y \\approx 10.97 - 0.82 \\cdot x$"
   ],
   "metadata": {
    "collapsed": false
   }
  },
  {
   "cell_type": "markdown",
   "source": [
    "- 2.Построить и интерпретировать несмещенную оценку дисперсии. На базе ошибок построить гистограмму с шагом h. Проверить гипотезу нормальности ошибок на уровне значимости $\\alpha$ по $\\chi^2$. Оценить расстояние полученной оценки до класса нормальных распределений по Колмогорову. Визуально оценить данный факт."
   ],
   "metadata": {
    "collapsed": false
   }
  },
  {
   "cell_type": "code",
   "execution_count": 176,
   "outputs": [
    {
     "name": "stdout",
     "output_type": "stream",
     "text": [
      "Несмещённая оценка дисперсии -  14.48\n"
     ]
    },
    {
     "data": {
      "text/plain": "<Figure size 640x480 with 1 Axes>",
      "image/png": "[encoded data removed]"
     },
     "metadata": {},
     "output_type": "display_data"
    }
   ],
   "source": [
    "y_matrix = numpy.matrix(y).T\n",
    "x_matrix = numpy.matrix([[1] * len(x), x])\n",
    "b_matrix = numpy.linalg.inv(x_matrix * x_matrix.T) * x_matrix * y_matrix\n",
    "\n",
    "unbiased_variance = round(numpy.linalg.norm(y_matrix - x_matrix.T * b_matrix)**2/(len(x) - numpy.linalg.matrix_rank(x_matrix)),2)\n",
    "\n",
    "print(\"Несмещённая оценка дисперсии - \", unbiased_variance)\n",
    "\n",
    "errors = y_matrix - x_matrix.T * b_matrix\n",
    "hist_bins = numpy.arange(min(errors), max(errors) + h, h)\n",
    "\n",
    "plot.hist(errors, bins=hist_bins, edgecolor='black', color=\"turquoise\")\n",
    "plot.xlabel(\"Ошибки\")\n",
    "plot.ylabel(\"Частота\")\n",
    "plot.title(\"Гистограмма ошибок\")\n",
    "plot.show()"
   ],
   "metadata": {
    "collapsed": false,
    "ExecuteTime": {
     "end_time": "2023-12-12T15:43:42.653423Z",
     "start_time": "2023-12-12T15:43:41.860508800Z"
    }
   }
  },
  {
   "cell_type": "code",
   "execution_count": 177,
   "outputs": [
    {
     "name": "stdout",
     "output_type": "stream",
     "text": [
      "x          | Частота | Гипотетическая частота\n",
      "[ -7.1 , -2.9 ]\t 0 \t 9.538403263127314\n",
      "[ -2.9 , 1.3 ]\t 0 \t 20.51362339427668\n",
      "[ 1.3 , 5.5 ]\t 0 \t 14.668780936180125\n",
      "[ 5.5 , +inf)\t 0 \t 3.7458926698636352\n",
      "\n",
      "x^2 - 48.47\n",
      "x_a - 11.34\n"
     ]
    }
   ],
   "source": [
    "mean_errors = 0\n",
    "std_errors = numpy.sqrt(unbiased_variance)\n",
    "intervals = [[-7.12, -2.92], [-2.92, 1.28], [1.28, 5.48], [5.48, 9.68]]\n",
    "freq_exp = [0] * len(intervals)\n",
    "freq_teor = [0] * len(intervals)\n",
    "\n",
    "print(\"x          | Частота | Гипотетическая частота\")\n",
    "for i in range(len(intervals)):\n",
    "    num_1 = intervals[i][0]\n",
    "    num_2 = intervals[i][-1]\n",
    "    freq_exp[i] += len([x for x in errors if (x >= num_1 and x < num_1)])\n",
    "    freq_teor[i] += len(errors) * (sps.norm.cdf(num_2, loc=mean_errors, scale=std_errors) - sps.norm.cdf(num_1, loc=mean_errors, scale=std_errors))\n",
    "    if i == len(intervals) - 1:\n",
    "        freq_teor[i] += len(errors) * sps.norm.sf(num_2, loc=mean_errors, scale=std_errors)\n",
    "        print('[', round(num_1, 1), \", +inf)\\t\", freq_exp[i], \"\\t\", freq_teor[i])\n",
    "    else:\n",
    "        print('[', round(num_1, 1), ',', round(num_2, 1), \"]\\t\", freq_exp[i], \"\\t\", freq_teor[i])\n",
    "\n",
    "freq_exp = numpy.array(freq_exp)\n",
    "freq_teor = numpy.array(freq_teor)\n",
    "chi_2 = numpy.sum((freq_exp - freq_teor) ** 2 / freq_teor)\n",
    "\n",
    "print(\"\\nx^2 -\", round(chi_2,2))\n",
    "print(\"x_a -\", round(sps.chi2.ppf(1 - alpha, df=len(freq_exp) - 1),2))\n"
   ],
   "metadata": {
    "collapsed": false,
    "ExecuteTime": {
     "end_time": "2023-12-12T15:43:42.874576200Z",
     "start_time": "2023-12-12T15:43:42.102257300Z"
    }
   }
  },
  {
   "cell_type": "markdown",
   "source": [
    "\n",
    "${\\chi}^2 \\approx 48.47$\n",
    "<br>\n",
    "$x_{\\alpha} \\approx 11.34$\n",
    "\n",
    "$\\chi^2 > x_{\\alpha}$ -  гипотеза о нормальности отвергается"
   ],
   "metadata": {
    "collapsed": false
   }
  },
  {
   "cell_type": "code",
   "execution_count": 178,
   "outputs": [
    {
     "name": "stdout",
     "output_type": "stream",
     "text": [
      "Статистика критерия Колмогорова - 0.077\n",
      "x_a - 0.2302\n"
     ]
    }
   ],
   "source": [
    "print(\"Статистика критерия Колмогорова -\", round(sps.kstest([num[0,0] for num in errors], \"norm\", args = (mean_errors,std_errors)).statistic,4))\n",
    "print(\"x_a -\", round(sps.kstwobign.ppf(1 - alpha) / numpy.sqrt(len(errors)),4))"
   ],
   "metadata": {
    "collapsed": false,
    "ExecuteTime": {
     "end_time": "2023-12-12T15:43:42.874576200Z",
     "start_time": "2023-12-12T15:43:42.134737300Z"
    }
   }
  },
  {
   "cell_type": "markdown",
   "source": [
    "$D_n \\approx 0.0777$\n",
    "\n",
    "$x_a \\approx 0.2302$\n",
    "\n",
    "$D_n < x_a$ - гипотеза о нормальности принимается"
   ],
   "metadata": {
    "collapsed": false
   }
  },
  {
   "cell_type": "code",
   "execution_count": 179,
   "outputs": [
    {
     "data": {
      "text/plain": "<Figure size 640x480 with 1 Axes>",
      "image/png": "[encoded data removed]"
     },
     "metadata": {},
     "output_type": "display_data"
    }
   ],
   "source": [
    "plot.figure()\n",
    "\n",
    "plot.hist(errors, bins=hist_bins, edgecolor='black', density=True, label='Гистограмма на базе ошибок', color=\"turquoise\")\n",
    "\n",
    "plot.plot(numpy.arange(min(errors), max(errors) + 1, 0.01), sps.norm.pdf(numpy.arange(min(errors), max(errors) + 1, 0.01), mean_errors, std_errors), c = 'red', label='Нормальное распределение')\n",
    "\n",
    "plot.legend()\n",
    "plot.show()\n"
   ],
   "metadata": {
    "collapsed": false,
    "ExecuteTime": {
     "end_time": "2023-12-12T15:43:42.901455500Z",
     "start_time": "2023-12-12T15:43:42.149564400Z"
    }
   }
  },
  {
   "cell_type": "markdown",
   "source": [
    "- 3.В предположении нормальности ошибок построить доверительные интервалы для параметров $\\beta_0$ и $\\beta_1$ уровня доверия $1-\\alpha$. Построить доверительный эллипс уровня доверия $1-\\alpha$ для $(\\beta_0, \\beta_1)$ (вычислить его полуоси)."
   ],
   "metadata": {
    "collapsed": false
   }
  },
  {
   "cell_type": "markdown",
   "source": [
    "Доверительный интервал для параметра $\\beta_0$:\n",
    "\n",
    "$\\psi = C^\\intercal \\beta = \\beta_0$\n",
    "\n",
    "$C = (1, 0)^\\intercal$\n",
    "\n",
    "$\\hat{\\psi} = \\hat{\\beta}_0$\n",
    "\n",
    "$\\left[\\hat{\\psi} - x_\\alpha S \\sqrt{b_\\psi}; \\hat{\\psi} + x_\\alpha S \\sqrt{b_\\psi}\\right]$,\n",
    "\n",
    "$x_\\alpha: S_{n-r}(x_\\alpha) = 1 - \\frac{\\alpha}{2}$, $b_\\psi = C^\\intercal(XX^\\intercal)^{-1}C$"
   ],
   "metadata": {
    "collapsed": false
   }
  },
  {
   "cell_type": "code",
   "execution_count": 180,
   "outputs": [
    {
     "name": "stdout",
     "output_type": "stream",
     "text": [
      "x_a - 2.6822040269502136\n",
      "[6.93,15.0]\n"
     ]
    }
   ],
   "source": [
    "r = numpy.linalg.matrix_rank(x_matrix)\n",
    "\n",
    "n = len(x)\n",
    "\n",
    "x_a = sps.t.ppf(1 - alpha/2, df = n - r)\n",
    "\n",
    "C = numpy.matrix([[1], [0]])\n",
    "\n",
    "b = float(C.T * numpy.linalg.inv(x_matrix * x_matrix.T) * C)\n",
    "\n",
    "print(\"x_a -\", x_a)\n",
    "print(\"[\", round(b_0 - x_a * numpy.sqrt(unbiased_variance) * numpy.sqrt(b),2), \",\", round(b_0 + x_a * numpy.sqrt(unbiased_variance) * numpy.sqrt(b),2), \"]\", sep='')"
   ],
   "metadata": {
    "collapsed": false,
    "ExecuteTime": {
     "end_time": "2023-12-12T15:43:42.901455500Z",
     "start_time": "2023-12-12T15:43:42.489416900Z"
    }
   }
  },
  {
   "cell_type": "markdown",
   "source": [
    "$\\left[6.93, 15.\\right] \\ni \\beta_0$"
   ],
   "metadata": {
    "collapsed": false
   }
  },
  {
   "cell_type": "markdown",
   "source": [
    "Доверительный интервал для параметра $\\beta_1$:\n",
    "\n",
    "$\\psi = C^\\intercal \\beta = \\beta_1$\n",
    "\n",
    "$C = (0, 1)^\\intercal$\n",
    "\n",
    "$\\hat{\\psi} = \\hat{\\beta}_1$\n",
    "\n",
    "$\\left[\\hat{\\psi} - x_\\alpha S \\sqrt{b_\\psi}; \\hat{\\psi} + x_\\alpha S \\sqrt{b_\\psi}\\right]$,\n",
    "\n",
    "$x_\\alpha: S_{n-r}(x_\\alpha) = 1 - \\frac{\\alpha}{2}$, $b_\\psi = C^\\intercal(XX^\\intercal)^{-1}C$"
   ],
   "metadata": {
    "collapsed": false
   }
  },
  {
   "cell_type": "code",
   "execution_count": 181,
   "outputs": [
    {
     "name": "stdout",
     "output_type": "stream",
     "text": [
      "x_a - 2.6822040269502136\n",
      "[-2.04,0.39]\n"
     ]
    }
   ],
   "source": [
    "r = numpy.linalg.matrix_rank(x_matrix)\n",
    "\n",
    "n = len(x)\n",
    "\n",
    "x_a = sps.t.ppf(1 - alpha/2, df = n - r)\n",
    "\n",
    "C = numpy.matrix([[0], [1]])\n",
    "\n",
    "b = float(C.T * numpy.linalg.inv(x_matrix * x_matrix.T) * C)\n",
    "print(\"x_a -\", x_a)\n",
    "print(\"[\", round(b_1 - x_a * numpy.sqrt(unbiased_variance) * numpy.sqrt(b),2), \",\", round(b_1 + x_a * numpy.sqrt(unbiased_variance) * numpy.sqrt(b),2), \"]\", sep='')"
   ],
   "metadata": {
    "collapsed": false,
    "ExecuteTime": {
     "end_time": "2023-12-12T15:43:42.927386Z",
     "start_time": "2023-12-12T15:43:42.524324Z"
    }
   }
  },
  {
   "cell_type": "markdown",
   "source": [
    "$\\left[-2.04, 0.39\\right] \\ni \\beta_1$"
   ],
   "metadata": {
    "collapsed": false
   }
  },
  {
   "cell_type": "markdown",
   "source": [
    "Доверительный эллипс для параметра $(\\beta_0, \\beta_1)$:\n",
    "\n",
    "$\\psi = C^\\intercal \\beta = (\\beta_0, \\beta_1)^\\intercal$\n",
    "\n",
    "$C = \\begin{pmatrix}1 & 0 \\\\0 & 1\\end{pmatrix}$\n",
    "\n",
    "$\\hat{\\psi} = (\\hat{\\beta}_0, \\hat{\\beta}_1)^\\intercal$\n",
    "\n",
    "$\\left\\{\\overrightarrow{x} : \\left(\\overrightarrow{x} - \\hat{\\psi}\\right)^\\intercal b_\\psi^{-1} \\left(\\overrightarrow{x} - \\hat{\\psi}\\right) \\le q S^2 x_\\alpha\\right\\}$,\n",
    "\n",
    "$x_\\alpha: \\mathcal{F}_{q, n-r}(x_\\alpha) = 1 - \\alpha$, $b_\\psi = C^\\intercal(XX^\\intercal)^{-1}C$\n"
   ],
   "metadata": {
    "collapsed": false
   }
  },
  {
   "cell_type": "code",
   "execution_count": 182,
   "outputs": [
    {
     "name": "stdout",
     "output_type": "stream",
     "text": [
      "Неравенства -0.0402911292394536*x''**2 + 4.04758295885209*y''**2 <= 1\n",
      "Длины полуосей - 4.98 и 0.5\n"
     ]
    }
   ],
   "source": [
    "import numpy as numpy\n",
    "import sympy as sympy\n",
    "\n",
    "r = numpy.linalg.matrix_rank(x_matrix)\n",
    "n = len(x)\n",
    "q = len(b_matrix)\n",
    "x_alpha = sps.f.ppf(1 - alpha, dfn = q, dfd = n - r)\n",
    "C = numpy.matrix([[1, 0], [0, 1]])\n",
    "b_psi = C.T * numpy.linalg.inv(x_matrix * x_matrix.T) * C\n",
    "\n",
    "x_symbol = sympy.Symbol('x', real=True)\n",
    "y_symbol = sympy.Symbol('y', real=True)\n",
    "x_vec = numpy.matrix([[x_symbol], [y_symbol]])\n",
    "expr = (x_vec - b_matrix).T * numpy.linalg.inv(b_psi) * (x_vec - b_matrix)\n",
    "expr = expr[0,0].as_poly().as_expr() - q * unbiased_variance * x_alpha\n",
    "angle = numpy.arctan(float(expr.as_poly().coeff_monomial(x_symbol*y_symbol)\n",
    "      /(expr.as_poly().coeff_monomial(x_symbol**2) - expr.as_poly().coeff_monomial(y_symbol**2)))) / 2\n",
    "x_2_symbol = sympy.Symbol(\"x'\", real=True)\n",
    "y_2_symbol = sympy.Symbol(\"y'\", real=True)\n",
    "expr = expr.subs([(x_symbol, x_2_symbol * numpy.cos(angle) - y_2_symbol * numpy.sin(angle)), (y_symbol, x_2_symbol * numpy.sin(angle) + y_2_symbol * numpy.cos(angle))])\n",
    "expr = expr.as_poly().as_expr()\n",
    "small_numbers = set([e for e in expr.atoms(sympy.Number) if abs(e) < 1e-05])\n",
    "d = {s: 0 for s in small_numbers}\n",
    "expr = expr.subs(d)\n",
    "A = expr.as_poly().coeff_monomial(x_2_symbol**2)\n",
    "B = expr.as_poly().coeff_monomial(x_2_symbol)\n",
    "C = expr.as_poly().coeff_monomial(y_2_symbol**2)\n",
    "D = expr.as_poly().coeff_monomial(y_2_symbol)\n",
    "E = expr.as_poly().coeff_monomial(1)\n",
    "F = E - B**2/A/4 - D**2/C/4\n",
    "x_3_symbol = sympy.Symbol(\"x''\", real=True)\n",
    "y_3_symbol = sympy.Symbol(\"y''\", real=True)\n",
    "expr = A * x_3_symbol**2 + C * y_3_symbol**2 + F\n",
    "expr = expr / (-F) + 1\n",
    "print(f\"Неравенства -{expr} <= 1\")\n",
    "A = expr.as_poly().coeff_monomial(x_3_symbol**2)\n",
    "C = expr.as_poly().coeff_monomial(y_3_symbol**2)\n",
    "print(f\"Длины полуосей - {round(numpy.sqrt(float(1/A)), 2)} и {round(numpy.sqrt(float(1/C)), 2)}\")"
   ],
   "metadata": {
    "collapsed": false,
    "ExecuteTime": {
     "end_time": "2023-12-12T15:43:42.928383600Z",
     "start_time": "2023-12-12T15:43:42.551252900Z"
    }
   }
  },
  {
   "cell_type": "markdown",
   "source": [
    "Длины полуосей: -4.98 и 0.5"
   ],
   "metadata": {
    "collapsed": false
   }
  },
  {
   "cell_type": "markdown",
   "source": [
    "- 4.Сформулировать гипотезу независимости переменной $Y$ от переменной $X$. Провести проверку значимости\n",
    "$H_0 : \\psi = 0$ - основная гипотеза"
   ],
   "metadata": {
    "collapsed": false
   }
  },
  {
   "cell_type": "code",
   "execution_count": 183,
   "outputs": [
    {
     "name": "stdout",
     "output_type": "stream",
     "text": [
      "Оценка при выполнении гипотезы - (8.409600000000001,0)\n",
      "F - 1.66\n",
      "x_a - 5.08\n"
     ]
    }
   ],
   "source": [
    "b_0_h = sum(y)/len(y)\n",
    "b_1_h = 0\n",
    "\n",
    "print(\"Оценка при выполнении гипотезы - (\", b_0_h,\",\", b_1_h,\")\", sep='')\n",
    "matrix = numpy.matrix([[b_0_h],[b_1_h]])\n",
    "statistic_F = (numpy.linalg.norm(y_matrix - x_matrix.T * matrix)**2 - numpy.linalg.norm(y_matrix - x_matrix.T * b_matrix)**2)/2/unbiased_variance\n",
    "print(\"F -\", round(statistic_F,2))\n",
    "print(\"x_a -\", round(sps.f.ppf(1 - alpha, dfn = 2, dfd = n - r),2))"
   ],
   "metadata": {
    "collapsed": false,
    "ExecuteTime": {
     "end_time": "2023-12-12T15:43:42.928383600Z",
     "start_time": "2023-12-12T15:43:42.586158700Z"
    }
   }
  },
  {
   "cell_type": "markdown",
   "source": [
    "ㅤ\n",
    "$\\mathbb{F} \\approx 1.66$\n",
    "\n",
    "$x_{\\alpha} \\approx 5.08$\n",
    "\n",
    "$\\mathbb{F} < x_{\\alpha}$ -гипотеза о независимости принимается"
   ],
   "metadata": {
    "collapsed": false
   }
  },
  {
   "cell_type": "markdown",
   "source": [
    "- 5.Сформулировать модель, включающую дополнительный член с $X^2$. Построить МНК оценки параметров $\\beta_0$, $\\beta_1$, $\\beta_2$ в данной модели. Изобразить графически полученную регрессионную зависимость."
   ],
   "metadata": {
    "collapsed": false
   }
  },
  {
   "cell_type": "markdown",
   "source": [
    "ㅤ\n",
    "$\\mathbb{E}_{\\theta}(Y|z) = x(z)^{\\intercal}\\beta$\n",
    "\n",
    "$Y = \\beta_0 + \\beta_1 X + \\beta_2 X^2 + \\varepsilon$"
   ],
   "metadata": {
    "collapsed": false
   }
  },
  {
   "cell_type": "code",
   "execution_count": 184,
   "outputs": [
    {
     "name": "stdout",
     "output_type": "stream",
     "text": [
      "b_0:  11.56\n",
      "b_1:  -1.28\n",
      "b_2:  0.07\n"
     ]
    },
    {
     "data": {
      "text/plain": "<Figure size 640x480 with 1 Axes>",
      "image/png": "[encoded data removed]"
     },
     "metadata": {},
     "output_type": "display_data"
    }
   ],
   "source": [
    "def linear_regression2(x, beta_0, beta_1, beta_2):\n",
    "    return beta_0 + beta_1 * x + beta_2*(x**2)\n",
    "\n",
    "params, covariance = curve_fit(linear_regression2, x, y)\n",
    "beta_0, beta_1, beta_2 = params\n",
    "\n",
    "print(\"b_0: \",round(beta_0,2))\n",
    "print(\"b_1: \",round(beta_1,2))\n",
    "print(\"b_2: \",round(beta_2,2))\n",
    "\n",
    "plot.scatter(x, y, s=20, c='turquoise')\n",
    "plot.xlabel(\"x\")\n",
    "plot.ylabel(\"y\")\n",
    "plot.show()"
   ],
   "metadata": {
    "collapsed": false,
    "ExecuteTime": {
     "end_time": "2023-12-12T15:43:43.652611800Z",
     "start_time": "2023-12-12T15:43:42.620124500Z"
    }
   }
  },
  {
   "cell_type": "code",
   "execution_count": 185,
   "outputs": [
    {
     "data": {
      "text/plain": "<Figure size 640x480 with 1 Axes>",
      "image/png": "[encoded data removed]"
     },
     "metadata": {},
     "output_type": "display_data"
    }
   ],
   "source": [
    "plot.scatter(x, y, s=20, c='turquoise', label=\"Данные\")\n",
    "\n",
    "x_range = numpy.linspace(min(x), max(y), 100)\n",
    "plot.plot(x_range, linear_regression2(x_range, beta_0, beta_1, beta_2), color='red', label=\"Линия регрессии\")\n",
    "plot.xlabel(\"x\")\n",
    "plot.ylabel(\"y\")\n",
    "plot.legend()\n",
    "plot.show()"
   ],
   "metadata": {
    "collapsed": false,
    "ExecuteTime": {
     "end_time": "2023-12-12T15:43:43.668569400Z",
     "start_time": "2023-12-12T15:43:42.953636500Z"
    }
   }
  },
  {
   "cell_type": "markdown",
   "source": [
    "Линейная регрессионная модель будет иметь вид:\n",
    "$Y \\approx 11.55 - 1.27 \\cdot X + 0.07 \\cdot X^2$\n",
    "Линейная модель не отражает реальные данные"
   ],
   "metadata": {
    "collapsed": false
   }
  },
  {
   "cell_type": "markdown",
   "source": [
    "- 6.Построить несмещенную оценку дисперсии. Провести исследование нормальности ошибок как в пункте 2."
   ],
   "metadata": {
    "collapsed": false
   }
  },
  {
   "cell_type": "code",
   "execution_count": 186,
   "outputs": [
    {
     "name": "stdout",
     "output_type": "stream",
     "text": [
      "Несмещённая оценка дисперсии: 14.76\n"
     ]
    }
   ],
   "source": [
    "y_matrix = numpy.matrix(y).T\n",
    "x_matrix = numpy.matrix([[1] * len(x), x, [x**2 for x in x]])\n",
    "b_matrix = numpy.linalg.inv(x_matrix * x_matrix.T) * x_matrix * y_matrix\n",
    "\n",
    "unbiased_variance  = numpy.linalg.norm(y_matrix - x_matrix.T * b_matrix)**2/(len(x) - numpy.linalg.matrix_rank(x_matrix))\n",
    "\n",
    "print(\"Несмещённая оценка дисперсии:\", round(unbiased_variance,2))"
   ],
   "metadata": {
    "collapsed": false,
    "ExecuteTime": {
     "end_time": "2023-12-12T15:43:43.668569400Z",
     "start_time": "2023-12-12T15:43:43.570615800Z"
    }
   }
  },
  {
   "cell_type": "code",
   "execution_count": 187,
   "outputs": [
    {
     "name": "stdout",
     "output_type": "stream",
     "text": [
      "Интервал 1: [-7.10:-5.00], Частота: 5\n",
      "Интервал 2: [-5.00:-2.90], Частота: 9\n",
      "Интервал 3: [-2.90:-0.80], Частота: 6\n",
      "Интервал 4: [-0.80:1.30], Частота: 10\n",
      "Интервал 5: [1.30:3.40], Частота: 10\n",
      "Интервал 6: [3.40:5.50], Частота: 6\n",
      "Интервал 7: [5.50:7.60], Частота: 3\n",
      "Интервал 8: [7.60:9.70], Частота: 1\n",
      "50\n"
     ]
    },
    {
     "data": {
      "text/plain": "<Figure size 640x480 with 1 Axes>",
      "image/png": "[encoded data removed]"
     },
     "metadata": {},
     "output_type": "display_data"
    }
   ],
   "source": [
    "errors = y_matrix - x_matrix.T * b_matrix\n",
    "\n",
    "hist_bins = numpy.arange(min(errors), max(errors) + h, h)\n",
    "\n",
    "hist_values, hist_edges = numpy.histogram(errors, bins=hist_bins)\n",
    "\n",
    "for i in range(len(hist_values)):\n",
    "    print(f\"Интервал {i + 1}: [{hist_edges[i]:.2f}:{hist_edges[i + 1]:.2f}], Частота: {hist_values[i]}\")\n",
    "print(sum(hist_values))\n",
    "\n",
    "plot.hist(errors, bins=hist_bins, edgecolor='black', color=\"turquoise\")\n",
    "plot.xlabel(\"Ошибки\")\n",
    "plot.ylabel(\"Частота\")\n",
    "plot.title(\"Гистограмма ошибок\")\n",
    "plot.show()"
   ],
   "metadata": {
    "collapsed": false,
    "ExecuteTime": {
     "end_time": "2023-12-12T15:43:44.030806600Z",
     "start_time": "2023-12-12T15:43:43.621337300Z"
    }
   }
  },
  {
   "cell_type": "code",
   "execution_count": 188,
   "outputs": [
    {
     "name": "stdout",
     "output_type": "stream",
     "text": [
      "x          | Частота | Гипотетическая частота\n",
      "[ -7.1 , -2.9 ]\t 0 \t 9.598363278392348\n",
      "[ -2.9 , 1.3 ]\t 0 \t 20.53434939755507\n",
      "[ 1.3 , 5.5 ]\t 0 \t 14.60682419219469\n",
      "[ 5.5 , +inf)\t 0 \t 3.7088642957116793\n",
      "\n",
      "x^2 - 48.45\n",
      "x_a - 11.34\n"
     ]
    }
   ],
   "source": [
    "mean_errors = 0\n",
    "sqrt_errors = numpy.sqrt(unbiased_variance)\n",
    "\n",
    "intervals = [[-7.1, -2.9], [-2.9, 1.3], [1.3, 5.5], [5.5, 9.7]]\n",
    "\n",
    "freq_exp = [0] * len(intervals)\n",
    "freq_teor = [0] * len(intervals)\n",
    "\n",
    "print(\"x          | Частота | Гипотетическая частота\")\n",
    "for i in range(len(intervals)):\n",
    "    num_1 = intervals[i][0]\n",
    "    num_2 = intervals[i][-1]\n",
    "    freq_exp[i] += len([x for x in errors if (x >= num_1 and x < num_1)])\n",
    "    freq_teor[i] += len(errors) * (sps.norm.cdf(num_2, loc=mean_errors, scale=std_errors) - sps.norm.cdf(num_1, loc=mean_errors, scale=std_errors))\n",
    "    if i == len(intervals) - 1:\n",
    "        freq_teor[i] += len(errors) * sps.norm.sf(num_2, loc=mean_errors, scale=std_errors)\n",
    "        print('[', round(num_1, 1), \", +inf)\\t\", freq_exp[i], \"\\t\", freq_teor[i])\n",
    "    else:\n",
    "        print('[', round(num_1, 1), ',', round(num_2, 1), \"]\\t\", freq_exp[i], \"\\t\", freq_teor[i])\n",
    "\n",
    "freq_exp = numpy.array(freq_exp)\n",
    "freq_teor = numpy.array(freq_teor)\n",
    "chi_2 = numpy.sum((freq_exp - freq_teor) ** 2 / freq_teor)\n",
    "\n",
    "print(\"\\nx^2 -\", round(chi_2,2))\n",
    "print(\"x_a -\", round(sps.chi2.ppf(1 - alpha, df=len(freq_exp) - 1),2))"
   ],
   "metadata": {
    "collapsed": false,
    "ExecuteTime": {
     "end_time": "2023-12-12T15:43:44.031803700Z",
     "start_time": "2023-12-12T15:43:43.968844900Z"
    }
   }
  },
  {
   "cell_type": "markdown",
   "source": [
    "${\\chi}^2 \\approx 48.45$\n",
    "<br>\n",
    "$x_{\\alpha} \\approx 11.34$\n",
    "\n",
    "$\\chi^2 > x_{\\alpha}$ - гипотеза о нормальности отвергается"
   ],
   "metadata": {
    "collapsed": false
   }
  },
  {
   "cell_type": "code",
   "execution_count": 189,
   "outputs": [
    {
     "name": "stdout",
     "output_type": "stream",
     "text": [
      "Статистика критерия Колмогорова: 0.0825\n",
      "x_a: 0.2302\n"
     ]
    }
   ],
   "source": [
    "print(\"Статистика критерия Колмогорова:\", round(sps.kstest([num[0,0] for num in errors], \"norm\", args = (mean_errors,std_errors)).statistic,4))\n",
    "print(\"x_a:\", round(sps.kstwobign.ppf(1 - alpha) / numpy.sqrt(len(errors)),4))"
   ],
   "metadata": {
    "collapsed": false,
    "ExecuteTime": {
     "end_time": "2023-12-12T15:43:44.056307800Z",
     "start_time": "2023-12-12T15:43:43.993974Z"
    }
   }
  },
  {
   "cell_type": "markdown",
   "source": [
    "$D_n \\approx 0.025$\n",
    "<br>\n",
    "$x_a \\approx 0.2302$\n",
    "\n",
    "$D_n < x_a$ - гипотеза о нормальности принимается"
   ],
   "metadata": {
    "collapsed": false
   }
  },
  {
   "cell_type": "code",
   "execution_count": 190,
   "outputs": [
    {
     "data": {
      "text/plain": "<Figure size 640x480 with 1 Axes>",
      "image/png": "[encoded data removed]"
     },
     "metadata": {},
     "output_type": "display_data"
    }
   ],
   "source": [
    "plot.figure()\n",
    "\n",
    "hist_values, hist_edges = numpy.histogram(errors, bins=hist_bins)\n",
    "\n",
    "plot.hist(errors, bins=hist_bins, edgecolor='black', density=True, label='Гистограмма на базе ошибок', color=\"turquoise\")\n",
    "\n",
    "plot.plot(numpy.arange(min(errors), max(errors) + 1, 0.01), sps.norm.pdf(numpy.arange(min(errors), max(errors) + 1, 0.01), mean_errors, std_errors), c = 'red', label='Нормальное распределение')\n",
    "\n",
    "plot.legend()\n",
    "plot.show()"
   ],
   "metadata": {
    "collapsed": false,
    "ExecuteTime": {
     "end_time": "2023-12-12T15:43:44.377701200Z",
     "start_time": "2023-12-12T15:43:44.004944400Z"
    }
   }
  },
  {
   "cell_type": "markdown",
   "source": [
    "- 7.В предположении нормальности ошибок построить доверительные интервалы для параметров $\\beta_0$, $\\beta_1$, $\\beta_2$ уровня доверия $1-\\alpha$. Написать уравнение доверительного эллипсоида уровня доверия $1-\\alpha$."
   ],
   "metadata": {
    "collapsed": false
   }
  },
  {
   "cell_type": "markdown",
   "source": [
    "Доверительный интервал для параметра $\\beta_0$:\n",
    "$\\left[\\hat{\\psi} - x_\\alpha S \\sqrt{b_\\psi}; \\hat{\\psi} + x_\\alpha S \\sqrt{b_\\psi}\\right]$\n",
    "$x_\\alpha: S_{n-r}(x_\\alpha) = 1 - \\frac{\\alpha}{2}$\n",
    "$b_\\psi = C^\\intercal(XX^\\intercal)^{-1}C$\n",
    "$C = (1, 0, 0)^\\intercal$\n",
    "$\\psi = C^\\intercal \\beta = \\beta_0$"
   ],
   "metadata": {
    "collapsed": false
   }
  },
  {
   "cell_type": "code",
   "execution_count": 191,
   "outputs": [
    {
     "name": "stdout",
     "output_type": "stream",
     "text": [
      "x_a =  2.6845556178665215\n",
      "[4.53,18.58]\n"
     ]
    }
   ],
   "source": [
    "r = numpy.linalg.matrix_rank(x_matrix)\n",
    "n = len(x)\n",
    "x_a = sps.t.ppf(1 - alpha/2, df = n - r)\n",
    "C = numpy.matrix([[1], [0], [0]])\n",
    "b = float(C.T * numpy.linalg.inv(x_matrix * x_matrix.T) * C)\n",
    "print(\"x_a = \", x_a)\n",
    "print(\"[\",round(beta_0 - x_a * numpy.sqrt(unbiased_variance) * numpy.sqrt(b),2),\",\",round(beta_0 + x_a * numpy.sqrt(unbiased_variance) * numpy.sqrt(b),2),\"]\", sep='')"
   ],
   "metadata": {
    "collapsed": false,
    "ExecuteTime": {
     "end_time": "2023-12-12T15:43:44.591032900Z",
     "start_time": "2023-12-12T15:43:44.384093800Z"
    }
   }
  },
  {
   "cell_type": "markdown",
   "source": [
    "$\\left[4.53, 18.58\\right] \\ni \\beta_0$"
   ],
   "metadata": {
    "collapsed": false
   }
  },
  {
   "cell_type": "markdown",
   "source": [
    "Доверительный интервал для параметра $\\beta_1$:\n",
    "$\\left[\\hat{\\psi} - x_\\alpha S \\sqrt{b_\\psi}; \\hat{\\psi} + x_\\alpha S \\sqrt{b_\\psi}\\right]$\n",
    "$x_\\alpha: S_{n-r}(x_\\alpha) = 1 - \\frac{\\alpha}{2}$\n",
    "$b_\\psi = C^\\intercal(XX^\\intercal)^{-1}C$\n",
    "$C = (0, 1, 0)^\\intercal$\n",
    "$\\psi = C^\\intercal \\beta = \\beta_1$"
   ],
   "metadata": {
    "collapsed": false
   }
  },
  {
   "cell_type": "code",
   "execution_count": 192,
   "outputs": [
    {
     "name": "stdout",
     "output_type": "stream",
     "text": [
      "x_a =  2.6845556178665215\n",
      "[-5.83,3.28]\n"
     ]
    }
   ],
   "source": [
    "r = numpy.linalg.matrix_rank(x_matrix)\n",
    "n = len(x)\n",
    "x_a = sps.t.ppf(1 - alpha/2, df = n - r)\n",
    "C = numpy.matrix([[0], [1], [0]])\n",
    "b = float(C.T * numpy.linalg.inv(x_matrix * x_matrix.T) * C)\n",
    "print(\"x_a = \", x_a)\n",
    "print(\"[\",round(beta_1 - x_a * numpy.sqrt(unbiased_variance) * numpy.sqrt(b),2),\",\",round(beta_1 + x_a * numpy.sqrt(unbiased_variance) * numpy.sqrt(b),2),\"]\", sep='')"
   ],
   "metadata": {
    "collapsed": false,
    "ExecuteTime": {
     "end_time": "2023-12-12T15:43:44.622357300Z",
     "start_time": "2023-12-12T15:43:44.434957200Z"
    }
   }
  },
  {
   "cell_type": "markdown",
   "source": [
    "$\\left[-5.83, 3.28\\right] \\ni \\beta_1$"
   ],
   "metadata": {
    "collapsed": false
   }
  },
  {
   "cell_type": "markdown",
   "source": [
    "Доверительный интервал для параметра $\\beta_2$:\n",
    "$\\left[\\hat{\\psi} - x_\\alpha S \\sqrt{b_\\psi}; \\hat{\\psi} + x_\\alpha S \\sqrt{b_\\psi}\\right]$\n",
    "$x_\\alpha: S_{n-r}(x_\\alpha) = 1 - \\frac{\\alpha}{2}$\n",
    "$b_\\psi = C^\\intercal(XX^\\intercal)^{-1}C$\n",
    "$C = (0, 0, 1)^\\intercal$\n",
    "$\\psi = C^\\intercal \\beta = \\beta_2$"
   ],
   "metadata": {
    "collapsed": false
   }
  },
  {
   "cell_type": "code",
   "execution_count": 193,
   "outputs": [
    {
     "name": "stdout",
     "output_type": "stream",
     "text": [
      "x_a =  2.6845556178665215\n",
      "[-0.64,0.79]\n"
     ]
    }
   ],
   "source": [
    "r = numpy.linalg.matrix_rank(x_matrix)\n",
    "n = len(x)\n",
    "x_a = sps.t.ppf(1 - alpha/2, df = n - r)\n",
    "C = numpy.matrix([[0], [0], [1]])\n",
    "b = float(C.T * numpy.linalg.inv(x_matrix * x_matrix.T) * C)\n",
    "print(\"x_a = \", x_a)\n",
    "print(\"[\",round(beta_2 - x_a * numpy.sqrt(unbiased_variance) * numpy.sqrt(b),2),\",\",round(beta_2 + x_a * numpy.sqrt(unbiased_variance) * numpy.sqrt(b),2),\"]\", sep='')"
   ],
   "metadata": {
    "collapsed": false,
    "ExecuteTime": {
     "end_time": "2023-12-12T15:43:44.642947200Z",
     "start_time": "2023-12-12T15:43:44.437950100Z"
    }
   }
  },
  {
   "cell_type": "markdown",
   "source": [
    "$\\left[-0.64, .79\\right] \\ni \\beta_2$"
   ],
   "metadata": {
    "collapsed": false
   }
  },
  {
   "cell_type": "markdown",
   "source": [
    "Доверительный эллипсоид для параметра $(\\beta_0, \\beta_1, \\beta_2)$:\n",
    "\n",
    "$\\psi = C^\\intercal \\beta = (\\beta_0, \\beta_1, \\beta_2)^\\intercal$\n",
    "\n",
    "$C = \\begin{pmatrix}1 & 0 & 0\\\\0 & 1 &0 \\\\ 0&0&1 \\end{pmatrix}$\n",
    "\n",
    "$\\hat{\\psi} = (\\hat{\\beta}_0, \\hat{\\beta}_1,\\hat{\\beta}_2)^\\intercal$\n",
    "\n",
    "$\\left\\{\\overrightarrow{x} : \\left(\\overrightarrow{x} - \\hat{\\psi}\\right)^\\intercal b_\\psi^{-1} \\left(\\overrightarrow{x} - \\hat{\\psi}\\right) \\le q S^2 x_\\alpha\\right\\}$,\n",
    "\n",
    "$x_\\alpha: \\mathcal{F}_{q, n-r}(x_\\alpha) = 1 - \\alpha$, $b_\\psi = C^\\intercal(XX^\\intercal)^{-1}C$"
   ],
   "metadata": {
    "collapsed": false
   }
  },
  {
   "cell_type": "code",
   "execution_count": 194,
   "outputs": [
    {
     "name": "stdout",
     "output_type": "stream",
     "text": [
      "Итоговый вид неравенства: 50.6801822442779*x'**2 + 0.008301074796621*y'**2 + 0.266570787631457*z'**2 <= 1\n",
      "Длины полуосей: 0, 11 и 2\n"
     ]
    }
   ],
   "source": [
    "r = numpy.linalg.matrix_rank(x_matrix)\n",
    "n = len(x)\n",
    "q = len(b_matrix)\n",
    "x_alpha = sps.f.ppf(1 - alpha, dfn = q, dfd = n - r)\n",
    "C = numpy.matrix([[1, 0, 0], [0, 1, 0], [0, 0, 1]])\n",
    "b_psi = C.T * numpy.linalg.inv(x_matrix * x_matrix.T) * C\n",
    "\n",
    "x_symbol = sympy.Symbol('x', real=True)\n",
    "y_symbol = sympy.Symbol('y', real=True)\n",
    "z_symbol = sympy.Symbol('z', real=True)\n",
    "\n",
    "x_vec = numpy.matrix([[x_symbol], [y_symbol], [z_symbol]])\n",
    "expr = (x_vec - b_matrix).T * numpy.linalg.inv(b_psi) * (x_vec - b_matrix)\n",
    "expr = expr[0,0].as_poly().as_expr() - q * unbiased_variance * x_alpha\n",
    "x_2_symbol = sympy.Symbol(\"x'\", real=True)\n",
    "y_2_symbol = sympy.Symbol(\"y'\", real=True)\n",
    "z_2_symbol = sympy.Symbol(\"z'\", real=True)\n",
    "ev, _ = numpy.linalg.eig(numpy.linalg.inv(b_psi))\n",
    "koef = ev / (x_alpha * q * unbiased_variance)\n",
    "expr = koef[0]*x_2_symbol**2+koef[1]*y_2_symbol**2+koef[2]*z_2_symbol**2\n",
    "print(f\"Итоговый вид неравенства: {expr} <= 1\")\n",
    "print(f\"Длины полуосей: {round(numpy.sqrt(1/koef[0]))}, {round(numpy.sqrt(1/koef[1]))} и {round(numpy.sqrt(1/koef[2]))}\")"
   ],
   "metadata": {
    "collapsed": false
   }
  },
  {
   "cell_type": "markdown",
   "source": [
    "- 8.Сформулировать гипотезу линейной регрессионной зависимости переменной $Y$ от переменной $X$ и проверить ее значимость на уровне $\\alpha$.\n",
    "$H_0 : \\psi = 0$ - основная гипотеза"
   ],
   "metadata": {
    "collapsed": false
   }
  },
  {
   "cell_type": "code",
   "execution_count": 195,
   "outputs": [
    {
     "name": "stdout",
     "output_type": "stream",
     "text": [
      "Оценка при выполнении гипотезы: (10.97,-0.82,0)\n",
      "F = 0.03\n",
      "x_a = 4.23\n"
     ]
    }
   ],
   "source": [
    "q = len(b_matrix)\n",
    "x_h_matrix = numpy.matrix([[1] * len(x), x])\n",
    "\n",
    "h_b_matrix = numpy.linalg.inv(x_h_matrix * x_h_matrix.T) * x_h_matrix * y_matrix\n",
    "\n",
    "h_b0 = float(h_b_matrix[0])\n",
    "h_b1 = float(h_b_matrix[1])\n",
    "h_b2 = 0\n",
    "\n",
    "h_b_matrix = numpy.matrix([[h_b0], [h_b1], [h_b2]])\n",
    "\n",
    "print(\"Оценка при выполнении гипотезы: (\",round(h_b0,2),',',round(h_b1,2),',',round(h_b2,2),')', sep='')\n",
    "statistic_F = (numpy.linalg.norm(y_matrix - x_matrix.T * h_b_matrix)**2 - numpy.linalg.norm(y_matrix - x_matrix.T * b_matrix)**2)/q/unbiased_variance\n",
    "print(\"F =\", round(statistic_F,2))\n",
    "print(\"x_a =\", round(sps.f.ppf(1 - alpha, dfn = q, dfd = n - r),2))"
   ],
   "metadata": {
    "collapsed": false,
    "ExecuteTime": {
     "end_time": "2023-12-12T15:43:44.643942900Z",
     "start_time": "2023-12-12T15:43:44.454904200Z"
    }
   }
  },
  {
   "cell_type": "markdown",
   "source": [
    "$\\mathbb{F} \\approx 0.03$\n",
    "\n",
    "$x_{\\alpha} \\approx 4.23$\n",
    "\n",
    "$\\mathbb{F} < x_{\\alpha}$ - гипотеза о квадратичной регрессионной независимости принимается"
   ],
   "metadata": {
    "collapsed": false
   }
  },
  {
   "cell_type": "markdown",
   "metadata": {},
   "source": [
    "## Выводы\n",
    "\n",
    "В ходе лабораторной работы по линейной регрессии были рассмотрены основные принципы метода наименьших квадратов (МНК) и изучены статистические свойства МНК-оценок, функции регрессии, а также роль МНК в регрессионном анализе. При построении моделей были использованы графики, на которых заметно, как различные прямые описывают выборку. Оценки параметров были проведены с применением доверительных интервалов и эллипсоидов. В ходе рассмотрения гипотез были приняты предположения о нормальности ошибок и линейной независимости Y от X, в то время как гипотезы о нормальности ошибок по Колмогорову были отвергнуты. Полученные результаты позволили сделать выводы о нормальности вектора ошибок и характере взаимосвязи в данных."
   ]
  }
 ],
 "metadata": {
  "kernelspec": {
   "name": "python3",
   "language": "python",
   "display_name": "Python 3 (ipykernel)"
  },
  "language_info": {
   "codemirror_mode": "r",
   "file_extension": ".r",
   "mimetype": "text/x-r-source",
   "name": "R",
   "pygments_lexer": "r",
   "version": "4.0.3"
  }
 },
 "nbformat": 4,
 "nbformat_minor": 4
}
