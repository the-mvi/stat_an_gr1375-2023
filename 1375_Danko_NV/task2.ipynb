{
  "cells": [
    {
      "cell_type": "markdown",
      "metadata": {
        "id": "Dgizzcch0Oa_"
      },
      "source": [
        "# Практическая работа №2: Классические методы математической статистики\n",
        "Выполнил студент гр.1375 Данько Никита. Вариант 10"
      ]
    },
    {
      "cell_type": "markdown",
      "metadata": {
        "id": "tfao5oPNBTku"
      },
      "source": [
        "## Цель работы\n",
        "Научится применять методы математической статистики для решения задач статистического анализа; сформировать навыки реализации методов с помощью прикладных программных пакетов."
      ]
    },
    {
      "cell_type": "markdown",
      "metadata": {},
      "source": [
        "## Основные теоретические положения\n",
        "\n",
        "Выборочные числовые характеристики:\n",
        " \n",
        " \n",
        "\n",
        "Мат.ожидание: $\\overline{X}=\\frac{1}{n}\\sum\\limits_{i=1}^{n}X_{i}$\n",
        "\n",
        "Дисперсия: $s^{2}=\\frac{1}{n}\\sum\\limits_{i=1}^{n}\\left( X_{i}-\\overline{X} \\right)^{2}=\\overline{X^{2}}-\\overline{X}^{2}$\n",
        "\n",
        "Коэф.асимметрии: $\\widehat{S_{kew}}X=\\frac{\\left(\\frac{1}{n}\\sum\\limits_{i=1}^{n}\\left( X_{i}-\\overline{X} \\right)^{3} \\right)}{S^{3}}$\n",
        "\n",
        "Коэф.эксцесса: $\\widehat{K_{urt}}X=\\frac{\\frac{1}{n}\\sum\\limits_{i=1}^{n}\\left( X_{i}-\\overline{X}^{4} \\right)}{S^{4}}-3$\n",
        "\n",
        "Оценка Максимального Правдоподобия (ОМП):\n",
        "\n",
        "Если $X_{1},...,X_{n}$-выборка из распределения с плотностью распределения $P_{\\theta}, \\theta\\in \\Theta$, то\n",
        "\n",
        "Функция правдоподобия - $L(\\overrightarrow{X},\\theta)=\\prod\\limits_{i=1}^{n}P_{\\theta}(X_{i})$\n",
        "\n",
        "Логарифм функции правдоподобия  $LL(\\overrightarrow{X},\\theta)=\\ln L(\\overrightarrow{X},\\theta)=\\sum\\limits_{i=1}^{n}\\ln P_{\\theta}(X_{i})$\n",
        "\n",
        "В силу монотонности логарифма задача максимизации функции правдоподобия сводится к задаче максимизации ее логарифма по всем $\\theta\\in \\Theta  LL(\\overrightarrow{X}),\\theta=\\sum\\limits_{i=1}^{n}\\ln P_{\\theta}(X_{i})$\n",
        "\n",
        "Если $\\theta$ - d-мерный параметр и $P_{\\theta}$ дифференцируема по $\\theta$, то для нахождения максимума надо найти решения системы уравнений: \n",
        "$(\\overrightarrow{X},\\theta)=\\frac{\\partial }{\\partial \\theta}LL(\\overrightarrow{X},\\theta)=0, i=1,...,d$\n",
        "\n",
        "Оценка метода моментов (ОММ)\n",
        "\n",
        "Пусть $X_{1},...,X_{n}$-выбока из распределения $P_{\\theta}$ \n",
        "\n",
        "$\\theta=(\\theta_{1},...,\\theta_{d})$\n",
        "\n",
        "$Существуют   \\mu_{k}(\\theta)=\\mathbb{E}X^{k}_{1}, k=1,. . .,d$\n",
        "\n",
        "Если существует единственное решение $\\widetilde{\\theta}(X)$ системы уравнений: $\\widehat{\\mu^{k}}(\\widetilde{\\theta})=\\mu_{k}(\\tilde\\theta), k=1,...,d$, где $\\widetilde{\\theta}(X)=\\frac{1}{n}\\sum\\limits_{i=1}^{n}X^{k}_{i}$-выборочный момент k-го порядка, то $\\widetilde{\\theta}(X)$ называется оценкой по методу моментов\n",
        "\n",
        "НРМД-оценки (несмещенная оценка)\n",
        "\n",
        "Оценка $\\widehat{\\theta}(X)$ параметра $\\theta$ называется несмещенной, если при любом значении параметра $\\theta\\in \\Theta: \\mathbb{E}\\widehat{\\theta}(X)=\\theta$\n",
        "\n",
        "Смещением оценки называется величина: $bias_{\\widehat{\\theta}}(\\theta)=\\mathbb{E}_{\\theta}\\widehat{\\theta}(X)-\\theta$\n",
        "\n",
        "Алгоритм несмещенного оценивания:\n",
        "\n",
        "Найти оценку $\\widehat{\\theta}(T)$, являющуюся функцией от минимальной достаточной статистики T(e.g.ОМП)\n",
        "\n",
        "Доказать полноту минимальной достаточной статистики  T\n",
        "\n",
        "Скорректировать смещение:$\\widetilde{\\theta}(T)=f(\\widehat{\\theta}(T),T): \\mathbb{E}_{\\theta}\\widetilde{\\theta}(T)=\\theta,\\forall \\theta\\in \\Theta$\n",
        "\n",
        "Асимптотический доверительный интервал (АДИ)\n",
        "\n",
        "На базе Асимптотической нормальности оценки $\\widehat{\\theta}$\n",
        "\n",
        "Асимптотическая нормальность $\\sqrt{n}\\left( \\widehat{\\theta}(\\overrightarrow{X})-\\theta)\\right)\\sim \\mathcal{N}\\left(0,\\sigma^{2}(\\theta)\\right)$\n",
        "\n",
        "Тогда $\\sqrt{n}\\frac{\\widehat{\\theta}(\\overrightarrow{X})-\\theta}{\\sigma\\left(\\widehat{\\theta}(\\overrightarrow{X})\\right)}$    \n",
        "\n",
        "$X_{\\alpha}: \\Phi(X_{\\alpha})=1-\\frac{\\alpha}{2}$\n",
        "\n",
        "А.Д.И. $\\left[ \\widehat{\\theta}(\\overrightarrow{X})-\\frac{X_{\\alpha}\\cdot \\sigma\\left( \\widehat{\\theta}(\\overrightarrow{X}) \\right)}{\\sqrt{n}}; \\widehat{\\theta}(\\overrightarrow{X})+\\frac{X_{\\alpha}\\cdot \\sigma\\left( \\widehat{\\theta}(\\overrightarrow{X}) \\right)}{\\sqrt{n}}\\right]$\n",
        "\n",
        "на базе ОМП\n",
        "\n",
        "Пусть $\\widehat{\\theta}(\\overrightarrow{X})$-ОМП\n",
        "\n",
        "При выполнении условий регулярности: $\\sqrt{n}\\left( \\widehat{\\theta}(\\overrightarrow{X})-\\theta)\\right)\\sim \\mathcal{N}\\left(0,\\frac{1}{I(\\theta)}\\right), I(\\theta)=-\\mathbb{E}\\left( \\frac{\\partial^{2} LL}{\\partial \\theta^{2}} \\right)$-информация Фишера\n",
        "\n",
        "Тогда $\\sqrt{n\\cdot I\\left( \\widehat{\\theta}(\\overrightarrow{X}) \\right)}\\cdot \\left( \\widehat{\\theta}(\\overrightarrow{X})-\\theta \\right)\\sim \\mathcal{N}(0,1)$\n",
        "\n",
        " $X_{\\alpha}: \\Phi(X_{\\alpha})=1-\\frac{\\alpha}{2}$\n",
        "\n",
        " А.Д.И $\\left[ \\widehat{\\theta}(\\overrightarrow{X})-\\frac{X_{\\alpha}}{\\sqrt{n\\cdot I\\left( \\widehat{\\theta}(\\overrightarrow{X}) \\right)}};\\widehat{\\theta}(\\overrightarrow{X})+\\frac{X_{\\alpha}}{\\sqrt{n\\cdot I\\left( \\widehat{\\theta}(\\overrightarrow{X}) \\right)}} \\right]$\n",
        "\n",
        "Критерий $\\chi^2$ для проверки гипотез\n",
        "\n",
        "основан на справнении теоритической плотности распределения и гистограммы, либо теоритической вероятностной меры и полигона частот.\n",
        "\n",
        "Разобъем множество значений сл. вел. X на $N$ интервалов $I_{1}, ..., I_{N}:$ $I_{i} = (a_{i-1}, a_i], i = 1,...,N$. данные интервалы не пересекаются и покрывают всё множество возможных значений сл. вел. X.\n",
        "\n",
        "Обозначим через $p_{i}$ теоритическую вероятность попадания сл. вел. X в интервал $I_{i}$, при условии, что справедлива $H_{0}$.\n",
        "\n",
        "$p_{i} = P(X \\in I_{i}|H_{0})$\n",
        "\n",
        "Через $n_{i}$ обозначим число наблюдений нашей выборки, попавших в соответветствующий интервал $I_{i}$.\n",
        "\n",
        "$n_{i} = num(x_{j} \\in I_{i})$\n",
        "\n",
        "Статистика критерия основана на сравнении относительной частоты и теоритической.\n",
        "\n",
        "$\\chi^{2}_{набл} = \\sum \\limits_{i=1}^{N} \\frac{n}{p_{i}} \\bigg ( \\frac{n_{i}}{n} - p_{i} \\bigg )^{2} = \\sum \\limits_{i=1}^{N} \\frac{(n_{i} - p_{i} n)^{2}}{n p_{i}} \\sim \\chi^{2}_{N-1}$\n",
        "\n",
        "Если $\\mathcal{X}^{2}_{N-1,1-\\alpha_{1}} \\lt \\chi^2_{набл}$, то гипотезу отвергаем\n",
        "\n",
        "Если $\\mathcal{X}^{2}_{N-1,1-\\alpha_{1}} \\gt \\chi^2_{набл}$, то гипотезу принимаем\n",
        "\n",
        "Теорема Смирнова-Колмогорова\n",
        "\n",
        "$D_{n}(\\overrightarrow{X}) = \\overset{}{\\underset{X \\in \\mathbb R}{sup}} |F_{0}(X_{i}) - F_{n}(X_{i})|$\n",
        "\n",
        "Если гипотеза $H_{0}$ верна, и $F_{0}(X)$ - непрерывная ф-я на $\\mathbb R$, тогда имеет место сходимость\n",
        "\n",
        "$P(\\sqrt{n} D_{n}(\\overrightarrow{X}) < z) \\xrightarrow[n \\rightarrow \\infty]{} K(z)$, где\n",
        "\n",
        "$K(z)=1-\\alpha$ - ф-я распределения Колмогорова.\n",
        "\n",
        "Если $D_{n} \\lt z$, то гипотезу принимаем\n",
        "\n",
        "Если $D_{n} \\gt z$, то гипотезу отвергаем\n",
        "\n",
        "Наиболее мощный критерий простой гипотезы\n",
        "\n",
        "Для основной гипотезы $H_{0}: \\theta=\\theta_{0}$ и альтернативной гипотезы $H_{1}: \\theta=\\theta_{1}$, где $\\theta_{0}$ и $\\theta_{1}$ - фиксированные параметры, мы можем построить статистику правдоподобия:\n",
        "\n",
        "$LR(\\overrightarrow{X},\\theta_{1},\\theta_{0})=\\frac{L(\\overrightarrow{X},\\theta_{1})}{L(\\overrightarrow{X},\\theta_{0})}=\\frac{P_{\\theta_{1}}(X)}{P_{\\theta_{0}}(X)}$ - статистика отношений правдоподобия\n",
        "\n",
        "где $L(\\overrightarrow{X},\\theta_{1})$ - функция правдоподобия для альтернативной гипотезы, а $L(\\overrightarrow{X}\\theta_{0})$ - функция правдоподобия для основной гипотезы.\n",
        "\n",
        "Наиболее мощным критерием будет критическая область, в которой наблюдаемое значение статистики правдоподобия $LR(\\overrightarrow{X},\\theta_{1},\\theta_{0})$ будет отклоняться от значения 1 в сторону более высоких значений.\n",
        "\n",
        "Чтобы построить критическую область, мы должны задать уровень значимости $\\alpha$ - вероятность ошибки первого рода. Затем мы находим критическое значение $c$ такое, что $P\\left(LR(\\overrightarrow{X},\\theta_{1},\\theta_{0}) > c | H_{0} \\right) = \\alpha$, где $P\\left(LR(\\overrightarrow{X},\\theta_{1},\\theta_{0}) > c | H_{0}\\right)$ - вероятность получить наблюдаемое значение статистики правдоподобия, большее или равное $c$, при условии, что основная гипотеза верна.\n",
        "\n",
        "$LR(\\overrightarrow{X},\\theta_{1},\\theta_{0})\\gt c$, то принимаем основную гипотезу\n",
        "\n",
        "$LR(\\overrightarrow{X},\\theta_{1},\\theta_{0})\\lt c$, то отвергаем основную гипотезу"
      ]
    },
    {
      "cell_type": "markdown",
      "metadata": {},
      "source": [
        "## Постановка задачи"
      ]
    },
    {
      "cell_type": "markdown",
      "metadata": {},
      "source": [
        "Для полученных в результате эксперимента наборов данных выполнить статистическую обработку. Полученные результаты содержательно проинтерпретировать.\n",
        "\n"
      ]
    },
    {
      "cell_type": "markdown",
      "metadata": {
        "id": "FFEysGy7CDvZ"
      },
      "source": [
        "## Выполнение работы"
      ]
    },
    {
      "cell_type": "markdown",
      "metadata": {
        "id": "f__gimKYKZZ5"
      },
      "source": [
        "### Задание-1"
      ]
    },
    {
      "cell_type": "code",
      "execution_count": 1,
      "metadata": {
        "id": "13Ei00PCAbqI"
      },
      "outputs": [],
      "source": [
        "import numpy as np\n",
        "import matplotlib.pyplot as plt\n",
        "from scipy import stats\n",
        "data = [5, 2, 4, 2, 3, 6, 6, 1, 4, 3, 1, 2, 11, 6, 2, 6, 3, 1, 2, 1, 2, 2, 5, 2, 3, 2, 2, 7, 3, 7, 6, 6, 4, 4, 4, 3, 7, 4, 7, 3, 4, 3, 1, 4, 5, 6, 7, 4, 8, 2] #выборка"
      ]
    },
    {
      "cell_type": "markdown",
      "metadata": {
        "id": "DzRE7SrPCOoY"
      },
      "source": [
        "#### a)Построить вариционный ряд, эмпирическую функцию распределения и гистограмму частот"
      ]
    },
    {
      "cell_type": "code",
      "execution_count": 2,
      "metadata": {
        "colab": {
          "base_uri": "https://localhost:8080/",
          "height": 246
        },
        "id": "rkIoTsqIqwg2",
        "outputId": "c05f884b-a65d-4818-8d98-007e10514b88"
      },
      "outputs": [
        {
          "name": "stdout",
          "output_type": "stream",
          "text": [
            "[ 1  1  1  1  1  2  2  2  2  2  2  2  2  2  2  2  3  3  3  3  3  3  3  3\n",
            "  4  4  4  4  4  4  4  4  4  5  5  5  6  6  6  6  6  6  6  7  7  7  7  7\n",
            "  8 11]\n"
          ]
        },
        {
          "data": {
            "image/png": "[encoded data removed]",
            "text/plain": [
              "<Figure size 1000x600 with 1 Axes>"
            ]
          },
          "metadata": {},
          "output_type": "display_data"
        }
      ],
      "source": [
        "sorted_data = np.sort(data)\n",
        "n = len(data)\n",
        "empirical_function = np.arange(1, n + 1) / n\n",
        "print(sorted_data)\n",
        "plt.figure(figsize=(10, 6))\n",
        "plt.subplot(3, 1, 1)\n",
        "plt.plot(range(len(sorted_data)), sorted_data, marker='o', linestyle='-', color='r')\n",
        "plt.xlabel('Наблюдения')\n",
        "plt.ylabel('Значения')\n",
        "plt.title('Вариационный ряд')\n",
        "plt.show()"
      ]
    },
    {
      "cell_type": "code",
      "execution_count": 3,
      "metadata": {
        "colab": {
          "base_uri": "https://localhost:8080/",
          "height": 211
        },
        "id": "iI4_MXCEv4WR",
        "outputId": "a3a4553b-33fd-4ad7-cd22-f192c863b703"
      },
      "outputs": [
        {
          "data": {
            "image/png": "[encoded data removed]",
            "text/plain": [
              "<Figure size 640x480 with 1 Axes>"
            ]
          },
          "metadata": {},
          "output_type": "display_data"
        }
      ],
      "source": [
        "plt.subplot(3, 1, 2)\n",
        "plt.step(sorted_data, empirical_function, color='r')\n",
        "plt.xlabel('Значения')\n",
        "plt.ylabel('Вероятность')\n",
        "plt.title('Эмпирическая функция распределения')\n",
        "plt.tight_layout()\n",
        "plt.show()"
      ]
    },
    {
      "cell_type": "code",
      "execution_count": 4,
      "metadata": {
        "colab": {
          "base_uri": "https://localhost:8080/",
          "height": 211
        },
        "id": "aQFzsyuFvlVj",
        "outputId": "f8d9fcdc-e3ea-47d7-eee6-3dce5897aa09"
      },
      "outputs": [
        {
          "data": {
            "image/png": "[encoded data removed]",
            "text/plain": [
              "<Figure size 640x480 with 1 Axes>"
            ]
          },
          "metadata": {},
          "output_type": "display_data"
        }
      ],
      "source": [
        "plt.subplot(3, 1, 3)\n",
        "plt.hist(sorted_data, bins=range(min(sorted_data), max(sorted_data) + 1), density=True, edgecolor='pink')\n",
        "plt.xlabel('Значение')\n",
        "plt.ylabel('Относительная частота')\n",
        "plt.title('Гистограмма частот')\n",
        "plt.tight_layout()\n",
        "plt.show()"
      ]
    },
    {
      "cell_type": "markdown",
      "metadata": {
        "id": "L6smtvKiCptl"
      },
      "source": [
        "#### b) Вычислить выборочные аналоги следующих числовых характеристик: (i)математическое ожидание, (ii)дисперсия, (iii)медианы, (iv)асимметрии, (v)эксцесса (vi) вероятности $\\mathrm{P}(X\\in \\left[ a,b \\right])$"
      ]
    },
    {
      "cell_type": "code",
      "execution_count": 5,
      "metadata": {
        "colab": {
          "base_uri": "https://localhost:8080/"
        },
        "id": "oYiXySOcEDpE",
        "outputId": "3362f5de-f396-4ec5-f59b-979bbe24d70b"
      },
      "outputs": [
        {
          "name": "stdout",
          "output_type": "stream",
          "text": [
            "Мат.ожидание= 3.96\n",
            "Дисперсия= 4.758399999999999\n",
            "Выборочное стандартное отклонение= 2.1813757127097566\n",
            "Медиана= 4.0\n",
            "Асимметрия= 0.767936502893308\n",
            "Эксцесс= 0.3808159846669352\n",
            "Вероятность попадания в промежуток= 0.86\n"
          ]
        }
      ],
      "source": [
        "a = 0.10\n",
        "b = 6.00\n",
        "mean = np.mean(data)  \n",
        "variance = np.var(data)  \n",
        "deviation=np.std(data) \n",
        "median = np.median(data)  \n",
        "skewness = stats.skew(data) \n",
        "kurtosis = stats.kurtosis(data)\n",
        "probability = len([x for x in data if a <= x <= b]) / len(data)\n",
        "print(\"Мат.ожидание=\",mean)\n",
        "print(\"Дисперсия=\",variance)\n",
        "print(\"Выборочное стандартное отклонение=\",deviation)\n",
        "print(\"Медиана=\",median)\n",
        "print(\"Асимметрия=\",skewness)\n",
        "print(\"Эксцесс=\",kurtosis)\n",
        "print(\"Вероятность попадания в промежуток=\",probability)"
      ]
    },
    {
      "cell_type": "markdown",
      "metadata": {
        "id": "Qt3oFzjjJfXn"
      },
      "source": [
        "#### c)В предположении, что исходные наблюдения являются выборкой из распределения Пуассона, построить ОМП и ОММ параметра $\\lambda$.Найти смещение оценок.\n",
        "\n",
        "\n",
        "Плотность распределения Пуассона: $P_{\\lambda}(X=k)=\\frac{\\lambda^{k}}{k!}\\cdot exp(-\\lambda)$\n",
        "\n",
        "Функция правдоподобия:\n",
        "\n",
        "$L(\\overrightarrow{X};\\theta)=\\prod\\limits_{i=1}^{n}P_{\\lambda}(x_{i})=\\prod\\limits_{i=1}^{n}\\frac{\\lambda^{x_{i}}}{x_{i}!}\\cdot exp(-\\lambda)=\\frac{\\lambda^{\\sum\\limits_{i=1}^{n}x_{i}}}{\\prod\\limits_{i=1}^{n}(x_{i}!)}\\cdot exp(-n\\lambda)$\n",
        "\n",
        "Логарифм функции правдоподобия:\n",
        "\n",
        "$LL(\\overrightarrow{X};\\theta)= (\\sum\\limits_{i=1}^{n}x_{i}) \\ln(\\lambda)-\\ln(\\prod\\limits_{i=1}^{n}x_{i}!)-n\\lambda$\n",
        "\n",
        "Частная производная по $\\lambda$\n",
        "\n",
        "$\\frac{\\partial LL(\\overrightarrow{X};\\theta)}{\\partial \\lambda} = \\frac{\\sum\\limits_{i=1}^{n}x_{i}}{\\lambda}-n=0 $\n",
        "\n",
        "$\\frac{\\sum\\limits_{i=1}^{n}x_{i}}{\\lambda}=n $\n",
        "\n",
        "$\\lambda=\\frac{1}{n} \\sum\\limits_{i=1}^{n}x_{i} $\n",
        "\n",
        "$\\hat{\\lambda}=\\overline{x}$.\n",
        "\n",
        "Метод Моментов\n",
        "\n",
        "$P_{\\lambda}(X=k)=\\frac{\\lambda^{k}}{k!}\\cdot exp(-\\lambda)$\n",
        "\n",
        "Первый момент $\\mathbb{E}X_{1}=\\lambda;M_{1}=\\overline{x}$\n",
        "\n",
        "\n",
        "$\\overline{x}=\\lambda$\n",
        "\n",
        "$\\hat{\\lambda}=\\overline{x}$\n",
        "\n",
        "\n",
        "Cмещение оценки.\n",
        "\n",
        "$bias_{\\widehat{\\theta}}(\\theta)=\\mathbb{E}_{\\theta}\\widehat{\\theta}(X)-\\theta = \\mathbb{E}_{\\lambda}\\overline{x}-\\lambda = \\lambda-\\lambda = 0$\n",
        "\n",
        "$\\mathbb{E}_{\\lambda}\\overline{x}=\\mathbb{E}_{\\lambda}\\frac{1}{n}\\cdot \\sum\\limits_{i=1}^{n}x_{i}=\\frac{1}{n}\\cdot \\mathbb{E_{\\lambda}}\\sum\\limits_{i=1}^{n}x_{i}=\\frac{1}{n}\\cdot \\sum\\limits_{i=1}^{n}\\mathbb{E_{\\lambda}}x_{1}=\\frac{1}{n}\\cdot n\\cdot \\mathbb{E}_{\\lambda}x_{1}=\\lambda$\n",
        "\n",
        "Смещение оценок в обоих методах равно 0, значит, оценка несмещенная\n",
        "\n"
      ]
    },
    {
      "cell_type": "markdown",
      "metadata": {
        "id": "FyUqDbBYWYYL"
      },
      "source": [
        "#### d)Построить А.Д.И. уровня значимости $\\alpha_1$ для параметра $\\lambda$ на базе ОМП\n",
        "\n",
        "\n",
        "\n",
        "$\\hat{\\lambda}=\\overline{x}$\n",
        "\n",
        "\n",
        "\n",
        "$LL(\\overrightarrow{X};\\theta)= (\\sum\\limits_{i=1}^{n}x_{i}) \\ln(\\lambda)-\\ln(\\prod\\limits_{i=1}^{n}x_{i}!)-n\\lambda$\n",
        "\n",
        "$ \\frac{\\partial LL}{\\partial \\lambda} = \\frac{\\sum\\limits_{i=1}^{n}x_{i}}{\\lambda}-n $\n",
        "\n",
        "$\\frac{\\partial^{2} LL}{\\partial \\lambda^{2}}=-\\frac{\\sum\\limits_{i=1}^{n}x_{i}}{\\lambda^{2}}$\n",
        "\n",
        "$I(\\theta)=-\\mathbb{E}\\left( \\frac{\\partial^{2} LL}{\\partial \\lambda^{2}} \\right)=-\\mathbb{E}\\left( -\\frac{\\sum\\limits_{i=1}^{n}x_{i}}{\\lambda^{2}} \\right)=\\frac{n}{\\lambda}$\n",
        "\n",
        "Доверительный интервал для параметра $\\lambda$ пуассоновского\n",
        "распределения – то же самое, что и доверительный интервал для\n",
        "математического ожидания этого распределения, так как $\\mathrm{E}(x) = \\lambda$\n",
        "\n",
        "$\\sqrt{n\\cdot I\\left(  \\widehat{\\theta}(\\overrightarrow{X})\\right)}\\left( \\widehat{\\theta}(\\overrightarrow{X})-\\theta \\right)\\sim N(0,1)$\n",
        "\n",
        "$\\sqrt{n\\cdot \\frac{n}{\\hat \\lambda}}\\left( \\overline{x}-\\lambda \\right)\\sim N(0,1)$\n",
        "\n",
        " $ P(\\sqrt{\\frac{n^2}{\\overline{x}}}(\\overline{x}-λ) \\in [-x_{\\alpha};x_{\\alpha}] ) = 1- \\alpha = 0.9$\n",
        "\n",
        "$ -x_{\\alpha} \\sqrt{\\frac{\\overline{x}}{n^2}} \\leq \\overline{x}-λ \\leq x_{\\alpha} \\sqrt{\\frac{\\overline{X}}{n^2}}  $\n",
        "\n",
        "$ -x_{\\alpha} \\sqrt{\\frac{\\overline{x}}{n^2}}-\\overline{x} \\leq -λ \\leq x_{\\alpha} \\sqrt{\\frac{\\overline{x}}{n^2}} -\\overline{X} $\n",
        "\n",
        "$ -x_{\\alpha} \\sqrt{\\frac{\\overline{x}}{n^2}}+\\overline{x} \\leq λ \\leq x_{\\alpha} \\sqrt{\\frac{\\overline{x}}{n^2}} +\\overline{x} $\n",
        "\n",
        "$X_{\\alpha}$: $\\mathrm{Ф}(X_{\\alpha})=1-\\frac{\\alpha_{1}}{2}=1-\\frac{0.10}{2}=0.95$  \n",
        "\n",
        "$X_{0.95}=1.645$\n",
        "\n",
        "$ -1.645 \\sqrt{\\frac{3,96}{50^2}}+3,96 \\leq \\lambda \\leq 1.645 \\sqrt{\\frac{3,96}{50^2}} +3,96 $\n",
        "\n",
        "$3,895\\le \\lambda\\le 4,025$ - Асимптотический доверительный интервал.\n",
        "\n",
        "\n"
      ]
    },
    {
      "cell_type": "code",
      "execution_count": 14,
      "metadata": {},
      "outputs": [
        {
          "name": "stdout",
          "output_type": "stream",
          "text": [
            "Асимптотический доверительный интервал для параметра lambda:\n",
            "Нижняя граница: 3.894535652212161\n",
            "Верхняя граница: 4.025464347787839\n"
          ]
        }
      ],
      "source": [
        "from scipy.stats import norm\n",
        "import math\n",
        "\n",
        "x_bar = 3.96 \n",
        "n = 50  \n",
        "alpha = 0.1\n",
        "z_alpha = abs(norm.ppf(1 - alpha/2))\n",
        "lower_bound = -z_alpha * math.sqrt(x_bar / (n**2)) + x_bar\n",
        "upper_bound = z_alpha * math.sqrt(x_bar / (n**2)) + x_bar\n",
        "print(\"Асимптотический доверительный интервал для параметра lambda:\")\n",
        "print(\"Нижняя граница:\", lower_bound)\n",
        "print(\"Верхняя граница:\", upper_bound)"
      ]
    },
    {
      "cell_type": "markdown",
      "metadata": {
        "id": "3noN0hiiWsqi"
      },
      "source": [
        "#### e)Используя гистограмму частот, построить критерий значимости $\\mathcal{X^{2}}$ проверки простой гипотезы согласия с распределением Пуассона с параметром $\\lambda_{0}$. Проверить гипотезу на уровень значимости $\\alpha_{1}$. Вычислить наибольшее значение уровня значимости, на котором ещё нет оснований отвергнуть данную гипотезу.\n",
        "\n",
        "$\\lambda_0=4.00$\n",
        "\n",
        "$P_{i}=P_{H_{0}}(X\\in I_{i})=\\sum_{k\\in I_{i}}^{}\\frac{\\lambda_{0}^{k}}{k!}exp(-\\lambda_{0})$\n",
        "\n",
        "$I_{1}=\\left( 0,2 \\right], n_{1}=16$\n",
        "\n",
        "$P_{1}=\\frac{4^{1}}{1!}exp(-4)+\\frac{4^{2}}{2!}exp(-4)=0.366\\to nP_{1}=18,3$\n",
        "\n",
        "$I_{2}=\\left( 2,4 \\right], n_{2}=17$\n",
        "\n",
        "$P_{2}=\\frac{4^{2}}{2!}exp(-4)+\\frac{4^{4}}{4!}exp(-4)=0.342\\to nP_{2}=17.1$\n",
        "\n",
        "$I_{3}=\\left( 4,6 \\right], n_{3}=10$\n",
        "\n",
        "$P_{3}=\\frac{4^{4}}{4!}exp(-4)+\\frac{4^{6}}{6!}exp(-4)=0,299\\to nP_{3}=14,95$\n",
        "\n",
        "$I_{4}=\\left(6,11 \\right], n_{4}=7$\n",
        "\n",
        "$P_{4}=\\frac{4^{6}}{6!}exp(-4)+\\frac{4^{11}}{11!}exp(-4)=0.106\\to nP_{4}=5,3$\n",
        "\n",
        "Критерий $\\mathcal{X}^{2}: \\mathcal{X}^{2}_{набл}=\\sum_{i=1}^{4}\\frac{(n_{i}-np_{i})^{2}}{np_{i}} =2,47$\n",
        "\n",
        "$\\mathcal{X}^{2}_{N-1,1-\\alpha_{1}}=\\mathcal{X}^{2}_{3,0.9}\\simeq 6.25$\n",
        "\n",
        "$\\mathcal{X}^{2}< \\mathcal{X}^{2}_{3,0.9}$  по критерию Пирсона мы принимаем гипотезу\n",
        "\n",
        "Наибольшее значение уровня значимости, на котором ещё нет оснований отвергнуть гипотезу: 0.49000000000000027"
      ]
    },
    {
      "cell_type": "code",
      "execution_count": 11,
      "metadata": {},
      "outputs": [
        {
          "name": "stdout",
          "output_type": "stream",
          "text": [
            "Критическое значение (квантиль) для уровня значимости 0.1 и степеней свободы 4 :\n",
            "6.251388631170325\n"
          ]
        }
      ],
      "source": [
        "from scipy.stats import chi2\n",
        "\n",
        "alpha = 0.1\n",
        "df = 4\n",
        "chi2_quantile = chi2.ppf(1 - alpha, df-1)\n",
        "print(\"Критическое значение (квантиль) для уровня значимости\", alpha, \"и степеней свободы\", df, \":\")\n",
        "print(chi2_quantile)"
      ]
    },
    {
      "cell_type": "code",
      "execution_count": 12,
      "metadata": {},
      "outputs": [
        {
          "name": "stdout",
          "output_type": "stream",
          "text": [
            "Наибольшее значение уровня значимости, на котором ещё нет оснований отвергнуть гипотезу: 0.49000000000000027\n"
          ]
        }
      ],
      "source": [
        "import scipy.stats as stats\n",
        "\n",
        "chi2 = 2.47\n",
        "alpha = 0\n",
        "chi2_critical = 6.25\n",
        "while chi2 < chi2_critical:\n",
        "    alpha += 0.01\n",
        "    chi2_critical = stats.chi2.ppf(1-alpha, 3)\n",
        "\n",
        "print(\"Наибольшее значение уровня значимости, на котором ещё нет оснований отвергнуть гипотезу:\", alpha)"
      ]
    },
    {
      "cell_type": "markdown",
      "metadata": {
        "id": "VGtzcCuPe6lw"
      },
      "source": [
        "#### f)Построить критерий значимости  $\\mathcal{X^{2}}$ проверки сложной гипотезы согласия с распределением Пуассона. Проверить гипотезу по уровню значимости $\\alpha_{1}$.Вычислить наибольшее значение уровня значимости, на котором ещё нет оснований отвергнуть данную гипотезу.\n",
        "\n",
        "$\\lambda_0=4.00$\n",
        "\n",
        "$\\alpha_1=0.1$\n",
        "\n",
        "$\\overline x= 3.96$\n",
        "\n",
        "$P_{i}=P_{H_{0}}(X\\in I_{i})=\\sum_{k\\in I_{i}}^{}\\frac{\\overline x^{k}}{k!}exp(-\\overline x)$\n",
        "\n",
        "$I_{1}=\\left( 0,2 \\right], n_{1}=16$\n",
        "\n",
        "$P_{1}=\\frac{3.96^{1}}{1!}exp(-3.96)+\\frac{3.96^{2}}{2!}exp(-3.96)=0.225\\to nP_{1}=11,25$\n",
        "\n",
        "$I_{2}=\\left( 2,4 \\right], n_{2}=17$\n",
        "\n",
        "$P_{2}=\\frac{3.96^{2}}{2!}exp(-3.96)+\\frac{3.96^{4}}{4!}exp(-3.96)=0.345\\to nP_{2}=17.25$\n",
        "\n",
        "$I_{3}=\\left(4,6 \\right], n_{3}=10$\n",
        "\n",
        "$P_{3}=\\frac{3.96^{4}}{4!}exp(-3.96)+\\frac{3.96^{6}}{6!}exp(-3.96)=0,297\\to nP_{3}=14,85$\n",
        "\n",
        "$I_{4}=\\left(6,11 \\right], n_{4}=7$\n",
        "\n",
        "$P_{4}=\\frac{3.96^{6}}{6!}exp(-3.96)+\\frac{3.96^{11}}{11!}exp(-3.96)=0.104\\to nP_{4}=5,2$\n",
        "\n",
        "Критерий $\\mathcal{X}^{2}: \\mathcal{X}^{2}_{набл}=\\sum_{i=1}^{4}\\frac{(n_{i}-np_{i})^{2}}{np_{i}} =4,21$\n",
        "\n",
        "$\\mathcal{X}^{2}_{N-1,1-\\alpha_{1}}=\\mathcal{X}^{2}_{3,0.9}\\simeq 6.25$\n",
        "\n",
        "$\\mathcal{X}^{2}< \\mathcal{X}^{2}_{3,0.9}\\to$ по критерию Пирсона мы принимаем гипотезу\n",
        "\n",
        "\n",
        "Наибольшее значение уровня значимости, на котором ещё нет оснований отвергнуть гипотезу: 0.24000000000000007\n"
      ]
    },
    {
      "cell_type": "code",
      "execution_count": 13,
      "metadata": {},
      "outputs": [
        {
          "name": "stdout",
          "output_type": "stream",
          "text": [
            "Наибольшее значение уровня значимости, на котором ещё нет оснований отвергнуть гипотезу: 0.24000000000000007\n"
          ]
        }
      ],
      "source": [
        "import scipy.stats as stats\n",
        "\n",
        "chi2 = 4.21\n",
        "alpha = 0\n",
        "chi2_critical = 6.25\n",
        "while chi2 < chi2_critical:\n",
        "    alpha += 0.01\n",
        "    chi2_critical = stats.chi2.ppf(1-alpha, 3)\n",
        "\n",
        "print(\"Наибольшее значение уровня значимости, на котором ещё нет оснований отвергнуть гипотезу:\", alpha)"
      ]
    },
    {
      "cell_type": "markdown",
      "metadata": {
        "id": "aPuxOjR5KPnE"
      },
      "source": [
        "#### g)Построить наиболее мощный критерий проверки простой гипотезы пауссоновости с параметром $\\lambda=\\lambda_{0}$ при альтернативе пуассоновсти с параметром $\\lambda=\\lambda_{1}$. Проверить гипотезу на уровне значимости $\\alpha_{1}$. Что получится, если поменять местами основную и альтернативную гипотезы?\n",
        "\n",
        "\n",
        "\n",
        "Основная гипотеза: $H_{0}=\\lambda_{0}$\n",
        "\n",
        "Альтернативная гипотеза: $H_{A}=\\lambda_{1}$\n",
        "\n",
        "\n",
        "$\\lambda_0 = 4$\n",
        "\n",
        "$\\lambda_1=5.00$\n",
        "\n",
        "$LR(\\overrightarrow{X},\\lambda_{1},\\lambda_{0}) = \\frac{L\\left( \\overrightarrow{x},\\lambda_{1} \\right)}{L\\left( \\overrightarrow{x},\\lambda_{0} \\right)}= \\frac{\\lambda_{1}^{\\sum\\limits_{i=1}^{50}x_{i}}\\cdot exp(-n\\cdot \\lambda_{1})}{\\lambda_{0}^{\\sum\\limits_{i=1}^{50}x_{i}}\\cdot exp(-n\\cdot \\lambda_{0})}$\n",
        "\n",
        "\n",
        "$LR(\\overrightarrow{X},\\lambda_{0},\\lambda_{1})\\gt c\\Leftrightarrow \\overline{x}\\gt c$\n",
        "\n",
        "$\\sqrt{n}\\frac{\\overline{X}-\\lambda_{0}}{\\sqrt{\\overline{X}}}\\sim N(0,1)$\n",
        "\n",
        "$P\\left(\\sqrt{n}\\frac{\\overline{X}-\\lambda_{0}}{\\sqrt{\\overline{X}}} \\right)\\gt \\sqrt{n}\\frac{\\overline{X}-\\lambda_{0}}{\\sqrt{\\overline{X}}}=1-\\Phi\\left(\\sqrt{n}\\frac{\\overline{X}-\\lambda_{0}}{\\sqrt{\\overline{X}}} \\right)=\\alpha_{1}$\n",
        "\n",
        "$\\Phi\\left(\\sqrt{n}\\frac{\\overline{X}-\\lambda_{0}}{\\sqrt{\\overline{X}}} \\right)=1-\\alpha_{1}=0.90$\n",
        "\n",
        "Квантиль равен 1.29\n",
        "\n",
        "$\\sqrt{50}\\frac{c-4}{\\sqrt{3.96}}=1.29$\n",
        "\n",
        "$c=4,36$\n",
        "\n",
        "$\\sqrt{n}\\frac{\\overline{X}-\\lambda_{0}}{\\sqrt{\\overline{X}}}\\gt \\sqrt{n}\\frac{c-\\lambda_{0}}{\\sqrt{\\overline{X}}}\\to c=4.36> \\overline{X}\\to$ гипотезу отвергаем\n",
        "\n",
        "\n",
        "Поменяем основную и альтернативную гипотезу местами:\n",
        "\n",
        "Основная гипотеза: $H_{0}=\\lambda_{1}$\n",
        "\n",
        "Альтернативная гипотеза: $H_{A}=\\lambda_{0}$\n",
        "\n",
        "$LR(\\overrightarrow{X},\\lambda_{0},\\lambda_{1}) = \\frac{L\\left( \\overrightarrow{X},\\lambda_{0} \\right)}{L\\left( \\overrightarrow{X},\\lambda_{1} \\right)}= \\frac{\\lambda_{0}^{\\sum\\limits_{i=1}^{50}X_{i}}\\cdot exp(-n\\cdot \\lambda_{0})}{\\lambda_{1}^{\\sum\\limits_{i=1}^{50}X_{i}}\\cdot exp(-n\\cdot \\lambda_{1})}$\n",
        " \n",
        "\n",
        "$LR(\\overrightarrow{X},\\lambda_{0},\\lambda_{1})\\gt c\\Leftrightarrow \\overline{X}\\gt c$\n",
        "\n",
        "$\\sqrt{n}\\frac{\\overline{X}-\\lambda_{1}}{\\sqrt{\\overline{X}}}\\sim N(0,1)$\n",
        "\n",
        "$P\\left(\\sqrt{n}\\frac{\\overline{X}-\\lambda_{1}}{\\sqrt{\\overline{X}}} \\right)\\gt \\sqrt{n}\\frac{\\overline{X}-\\lambda_{1}}{\\sqrt{\\overline{X}}}=1-\\Phi\\left(\\sqrt{n}\\frac{\\overline{X}-\\lambda_{1}}{\\sqrt{\\overline{X}}} \\right)=\\alpha_{1}$\n",
        "\n",
        "$\\Phi\\left(\\sqrt{n}\\frac{\\overline{X}-\\lambda_{1}}{\\sqrt{\\overline{X}}} \\right)=1-\\alpha_{1}=0.90$\n",
        "\n",
        "$\\sqrt{50}\\frac{c-5}{\\sqrt{3.96}}=1.29$\n",
        "\n",
        "$c=5,36$\n",
        "\n",
        "$\\sqrt{n}\\frac{\\overline{X}-\\lambda_{1}}{\\sqrt{\\overline{X}}}\\gt \\sqrt{n}\\frac{c-\\lambda_{1}}{\\sqrt{\\overline{X}}}$ \n",
        "\n",
        "$c=5,36\\gt \\overline{X}\\to$ гипотезу отвергаем\n"
      ]
    },
    {
      "cell_type": "markdown",
      "metadata": {
        "id": "RIpL4fkwbRvM"
      },
      "source": [
        "#### h)В пунктах (c)-(f) заменить семейство распределение Пуассона на семейство геометрических распредленией $\\mathbb{P}_{\\lambda}(X=k)=\\frac{\\lambda^{k}}{(\\lambda+1)^{k+1}}, k\\in \\mathbb{Z_{+}}$"
      ]
    },
    {
      "cell_type": "markdown",
      "metadata": {
        "id": "jYocGnu_b8lS"
      },
      "source": [
        "#### h.c)В предположении, что исходные наблюдения являются выборкой из геометрического распределения, построить ОМП и ОММ параметра $\\lambda$.Найти смещение оценки.\n",
        "\n",
        "\n",
        "Плотность геометрического распределения: $P_{\\lambda}(X=k)=\\frac{\\lambda^{k}}{(\\lambda+1)^{k+1}}$\n",
        "\n",
        "Функция правдоподобия:\n",
        "\n",
        "$L(\\overrightarrow{X};\\theta)=\\prod\\limits_{i=1}^{n}P_{\\lambda}(X_{i})=\\prod\\limits_{i=1}^{n}\\frac{\\lambda^{x_{i}}}{(\\lambda+1)^{x_{i}}}=\\frac{\\lambda^{\\sum\\limits_{i=1}^{n}x_{i}}}{(\\lambda+1)^{\\sum\\limits_{i=1}^{n}(x_{i})+n}}$\n",
        "\n",
        "Логарифм функции правдоподобия:\n",
        "\n",
        "$LL(\\overrightarrow{X};\\theta)= (\\sum\\limits_{i=1}^{n}x_{i}) \\ln(\\lambda)-(\\sum\\limits_{i=1}^{n}x_{i}+n)\\ln(\\lambda+1)$\n",
        "\n",
        "Диффиринцируем по параметру $\\lambda$ \n",
        "\n",
        "$\\frac{\\partial LL(\\overrightarrow{X};\\theta)}{\\partial \\lambda} = \\frac{\\sum\\limits_{i=1}^{n}x_{i}}{\\lambda}-\\frac{(\\sum\\limits_{i=1}^{n}x_{i})+n}{\\lambda+1}=0$ \n",
        "\n",
        "$\\frac{\\lambda}{\\sum\\limits_{i=1}^{n}x_{i}}=\\frac{\\lambda+1}{\\sum\\limits_{i=1}^{n}x_{i}+n}$ \n",
        "\n",
        "$(\\lambda+1)\\sum\\limits_{i=1}^{n}x_{i}=\\lambda \\cdot \\sum\\limits_{i=1}^{n}x_{i}+\\lambda n$\n",
        "\n",
        "$\\sum\\limits_{i=1}^{n}x_{i}=\\lambda n$\n",
        "\n",
        "$\\widehat{\\lambda}=\\frac1n \\sum\\limits_{i=1}^{n}x_{i} = \\overline{x}$\n",
        "\n",
        "\n",
        "ОММ.\n",
        "\n",
        "$P_{\\lambda}(X=k)=\\frac{\\lambda^{k}}{(\\lambda +1)^{k+1}}$\n",
        "\n",
        "Первый момент $\\mathbb{E}X_{1}={\\lambda}$ (теоретическая величина)\n",
        "\n",
        "$\\mathbb{P}_{\\lambda}\\left(X = k\\right) = \\frac{\\lambda^k}{(\\lambda + 1)^{k+1}} = \\frac{1}{\\lambda + 1} \\cdot \\left(\\frac{\\lambda}{\\lambda + 1}\\right)^k = \\frac{1}{\\lambda + 1} \\cdot \\left(\\frac{\\lambda + 1 - 1}{\\lambda + 1}\\right)^k = \\frac{1}{\\lambda + 1} \\cdot \\left(1 - \\frac{1}{\\lambda + 1}\\right)^k$ \n",
        "\n",
        "\n",
        "$ \\mathbb{E}X_{1}=\\frac{1-\\frac{1}{\\lambda+1}}{\\frac1{\\lambda+1}}=\\lambda$\n",
        "\n",
        "$M_{1}={\\overline{x}}$\n",
        "\n",
        "Приравниваем момент выборки с теоретическим моментом\n",
        "\n",
        "${\\lambda}=\\overline x$\n",
        "\n",
        "$\\widetilde{\\lambda}=\\overline{x}$\n",
        "\n",
        "\n",
        "Cмещение оценки:\n",
        "\n",
        "\n",
        "$bias_{\\widehat{\\theta}}(\\theta)=\\mathbb{E}_{\\theta}\\widehat{\\theta}(X)-\\theta = \\mathbb{E}_{\\lambda}\\overline{x}-\\lambda = \\lambda-\\lambda = 0$ несмещенная оценка\n",
        "\n",
        "\n",
        "\n",
        "$\\mathbb{E}_{\\lambda}\\overline{x}=\\frac1n \\mathbb{E}_{\\lambda}\\sum\\limits_{i=1}^{n}x_i = \\frac1n \\sum\\limits_{i=1}^{n}\\mathbb{E}_{\\lambda}x_1 = \n",
        "\\frac1n n \\cdot \\mathbb{E}_{\\lambda}x_1 = \\mathbb{E}_{\\lambda}x_1 = \\lambda $\n",
        "\n",
        "\n",
        "\n",
        "\n",
        "\n"
      ]
    },
    {
      "cell_type": "markdown",
      "metadata": {
        "id": "thiyFmFFjD2I"
      },
      "source": [
        "#### h.d)Построить А.Д.И. уровня значимости $\\alpha_1$ для параметра $\\lambda$ на базе ОМП\n",
        "\n",
        "$\\sqrt{n}\\left( \\widehat{\\theta}(\\overrightarrow{X})-\\theta \\right)\\sim N\\left( 0, \\frac{1}{I(\\theta)} \\right)$\n",
        "\n",
        "ОМП: $\\widehat{\\lambda}=\\overline{x}$\n",
        "\n",
        "$ \\frac{\\partial LL}{\\partial \\lambda} = \\frac{\\sum\\limits_{i=1}^{n}x_{i}}{\\lambda}-\\frac{(\\sum\\limits_{i=1}^{n}x_{i})+n}{\\lambda+1}$\n",
        "\n",
        "\n",
        "Информация Фишера: $I(\\theta)=-\\mathbb{E}\\left( \\frac{\\partial^{2} LL}{\\partial \\lambda^{2}} \\right)=-\\mathbb{E}\\left( -\\frac{\\sum\\limits_{i=1}^{n}x_{i}}{\\lambda^{2}}+\\frac{\\sum\\limits_{i=1}^{n}x_{i}+n}{(\\lambda +1)^{2}} \\right)=\\frac{n\\lambda}{\\lambda^{2}}-\\mathbb{E}\\left( \\frac{\\sum\\limits_{i=1}^{n}x_{i}+n}{(\\lambda+1)^{2}} \\right) = \\frac{n \\lambda}{\\lambda^{2}}-\\mathbb{E}\\left( \\frac{\\sum\\limits_{i=1}^{n}x_{i}}{(\\lambda+1)^{2}} \\right)-\\mathbb{E}\\left( \\frac{n}{(\\lambda+1)^{2}} \\right)=\\frac{n}{\\lambda}-\\frac{n\\lambda}{(\\lambda+1)^{2}}-\\frac{n}{(\\lambda+1)^{2}}=\\frac{n}{\\lambda^2+\\lambda}$\n",
        "\n",
        "\n",
        "\n",
        "\n",
        "\n",
        "$\\sqrt{n\\cdot I\\left(  \\widehat{\\theta}(\\overrightarrow{X})\\right)}\\left( \\widehat{\\theta}(\\overrightarrow{X})-\\theta \\right)\\sim N(0,1)$\n",
        "\n",
        "$\\sqrt{n\\cdot \\frac{n}{\\hat \\lambda^2+\\hat \\lambda}}\\left( \\overline{\\lambda}-\\lambda \\right)\\sim N(0,1)$\n",
        "\n",
        "$\\sqrt{n\\cdot \\frac{n}{\\overline{x}^2+\\overline{x}}}\\left( \\overline{x}-\\lambda \\right)\\sim N(0,1)$\n",
        "\n",
        "$ P(\\sqrt{n\\cdot \\frac{n}{\\overline{x}^2+\\overline{x}}}(\\overline{x}-\\lambda) \\in [-x_{\\alpha};x_{\\alpha}] ) = 1- \\alpha = 0.9$\n",
        "\n",
        "$ -x_{\\alpha} \\sqrt{n\\cdot \\frac{n}{\\overline{x}^2+\\overline{x}}} \\leq \\overline{x}-\\lambda \\leq x_{\\alpha} \\sqrt{n\\cdot \\frac{n}{\\overline{x}^2+\\overline{x}}}  $\n",
        "\n",
        "$ -x_{\\alpha} \\sqrt{n\\cdot \\frac{n}{\\overline{x}^2+\\overline{x}}}-\\overline{x} \\leq \\lambda \\leq x_{\\alpha} \\sqrt{n\\cdot \\frac{n}{\\overline{x}^2+\\overline{x}}} -\\overline{x} $\n",
        "\n",
        "$ -x_{\\alpha} \\sqrt{n\\cdot \\frac{n}{\\overline{x}^2+\\overline{x}}}+\\overline{x} \\leq \\lambda \\leq x_{\\alpha} \\sqrt{n\\cdot \\frac{n}{\\overline{x}^2+\\overline{x}}} +\\overline{x} $\n",
        "\n",
        "$X_{\\alpha}$: $\\mathrm{Ф}(X_{\\alpha})=1-\\frac{\\alpha_{1}}{2}=1-\\frac{0.10}{2}=0.95$\n",
        "\n",
        "$X_{0.95}=1.645$\n",
        "\n",
        "$-1,645 \\cdot \\sqrt{50 \\cdot \\frac{50}{3.96^2+3.96}}+3.96\\leq \\lambda \\leq1,645 \\cdot \\sqrt{50 \\cdot \\frac{50}{3.96^2+3.96}}+3.96$\n",
        "\n",
        "$-14,6\\le \\lambda\\le 22,52$ - Асимп. довер. интервал параметра $\\lambda$.\n",
        "\n"
      ]
    },
    {
      "cell_type": "code",
      "execution_count": 16,
      "metadata": {},
      "outputs": [
        {
          "name": "stdout",
          "output_type": "stream",
          "text": [
            "Асимптотический доверительный интервал для параметра lambda:\n",
            "Нижняя граница: -14.597045385764911\n",
            "Верхняя граница: 22.517045385764913\n"
          ]
        }
      ],
      "source": [
        "from scipy.stats import norm\n",
        "import math\n",
        "\n",
        "x_bar = 3.96 \n",
        "n = 50  \n",
        "alpha = 0.1  \n",
        "z_alpha = abs(norm.ppf(1 - alpha/2))\n",
        "lower_bound = -z_alpha * math.sqrt(n*(n/(x_bar**2+x_bar))) + x_bar\n",
        "upper_bound = z_alpha * math.sqrt(n*(n/(x_bar**2+x_bar))) + x_bar\n",
        "print(\"Асимптотический доверительный интервал для параметра lambda:\")\n",
        "print(\"Нижняя граница:\", lower_bound)\n",
        "print(\"Верхняя граница:\", upper_bound)"
      ]
    },
    {
      "cell_type": "markdown",
      "metadata": {
        "id": "dZrG9ltptGMs"
      },
      "source": [
        "#### h.e)Используя гистограмму частот, построить критерий значимости $\\mathcal{X^{2}}$ проверки простой гипотезы согласия с геометрическим распределением с параметром $\\lambda_{0}$. Проверить гипотезу на урокень значимости $\\alpha_{1}$. Вычислить наибольшее значение уровня значимости, на котором ещё нет оснований отвергнуть данную гипотезу.\n",
        "\n",
        "$P_{i}=P_{H_{0}}(X\\in I_{i})=\\sum_{k\\in I_{i}}^{}\\frac{\\lambda_{0}^{k}}{(\\lambda_{0}+1)^{k+1}}$\n",
        "\n",
        "$I_{1}=\\left( 0,2 \\right], n_{1}=16$\n",
        "\n",
        "$P_{1}=\\frac{4^{1}}{(4+1)^{1+1}}+\\frac{4^{2}}{(4+1)^{2+1}}=0,288\\to nP_{1}=14,4$\n",
        "\n",
        "$I_{2}=\\left( 2,4 \\right], n_{2}=17$\n",
        "\n",
        "$P_{2}=\\frac{4^{2}}{(4+1)^{2+1}}+\\frac{4^{4}}{(4+1)^{4+1}}=0.21\\to nP_{2}=10,5$\n",
        "\n",
        "$I_{3}=\\left( 4,6 \\right], n_{3}=10$\n",
        "\n",
        "$P_{3}=\\frac{4^{4}}{(4+1)^{4+1}}+\\frac{4^{6}}{(4+1)^{6+1}}=0.134\\to nP_{3}=6,7$\n",
        "\n",
        "$I_{4}=\\left( 6,11 \\right], n_{4}=7$\n",
        "\n",
        "$P_{4}=\\frac{4^{6}}{(4+1)^{6+1}}+\\frac{4^{11}}{(4+1)^{11+1}}=0,07\\to nP_{4}=3,5$\n",
        "\n",
        "Критерий $\\mathcal{X}^{2}: \\mathcal{X}^{2}_{набл}=\\sum_{i=1}^{4}\\frac{(n_{i}-np_{i})^{2}}{np_{i}} =9,32$\n",
        "\n",
        "$\\mathcal{X}^{2}_{N-1,1-\\alpha_{1}}=\\mathcal{X}^{2}_{3,0.90}\\simeq 6.25$\n",
        "\n",
        "$\\mathcal{X}^{2}\\gt \\mathcal{X}^{2}_{3,0.90}\\to$ по критерию Пирсона мы отвергаем гипотезу\n",
        "\n",
        "Наибольшее значение уровня значимости, на котором еще нет оснований отвергнуть гипотезу: 0.025\n",
        "\n"
      ]
    },
    {
      "cell_type": "code",
      "execution_count": 2,
      "metadata": {},
      "outputs": [
        {
          "name": "stdout",
          "output_type": "stream",
          "text": [
            "Наибольшее значение уровня значимости, на котором еще нет оснований отвергнуть гипотезу: 0.025\n"
          ]
        }
      ],
      "source": [
        "import scipy.stats as stats\n",
        "\n",
        "chi2 = 9.32\n",
        "alpha = 0.2\n",
        "chi2_critical = 6.25\n",
        "while chi2 > chi2_critical:\n",
        "    alpha -= 0.001\n",
        "    chi2_critical = stats.chi2.ppf(1 - alpha, 3)\n",
        "print(\"Наибольшее значение уровня значимости, на котором еще нет оснований отвергнуть гипотезу: {:.3f}\".format(alpha))"
      ]
    },
    {
      "cell_type": "markdown",
      "metadata": {
        "id": "hcEIyMkuxAR4"
      },
      "source": [
        "#### h.f)Построить критерий значимости  $\\mathcal{X^{2}}$ проверки сложной гипотезы согласия с геометрическим распределением. Проверить гипотезу по уровню значимости $\\alpha_{1}$.Вычислить наибольшее значение уровня значимости, на котором ещё нет оснований отвергнуть данную гипотезу.\n",
        "\n",
        "$P_{i}=P_{H_{0}}(X\\in I_{i})=\\sum_{k\\in I_{i}}^{}\\frac{{\\overline{X}^{k}}}{\\left( {\\overline{X}} +1\\right)^{k+1}}$\n",
        "\n",
        "$I_{1}=\\left( 0,2 \\right], n_{1}=16$\n",
        "\n",
        "$P_{1}=\\frac{3,96^{1}}{(3,96+1)^{1+1}}+\\frac{3,96^{2}}{(3,96+1)^{2+1}}=0,289\\to nP_{1}=14,45$\n",
        "\n",
        "$I_{2}=\\left(2,4 \\right], n_{2}=17$\n",
        "\n",
        "$P_{2}=\\frac{3,96^{2}}{(3,96+1)^{2+1}}+\\frac{3,96^{4}}{(3,96+1)^{4+1}}=0.21\\to nP_{2}=10,5$\n",
        "\n",
        "$I_{3}=\\left(4,6 \\right], n_{3}=10$\n",
        "\n",
        "$P_{3}=\\frac{3,96^{4}}{(3,96+1)^{4+1}}+\\frac{3,96^{6}}{(3,96+1)^{6+1}}=0.134\\to nP_{3}=6,7$\n",
        "\n",
        "$I_{4}=\\left(6,11 \\right], n_{4}=7$\n",
        "\n",
        "$P_{4}=\\frac{3,96^{6}}{(3,96+1)^{6+1}}+\\frac{3,96^{11}}{(3,96+1)^{11+1}}=0,069\\to nP_{4}=3,45$\n",
        "\n",
        "Критерий $\\mathcal{X}^{2}: \\mathcal{X}^{2}_{набл}=\\sum_{i=1}^{4}\\frac{(n_{i}-np_{i})^{2}}{np_{i}} =9,46$\n",
        "\n",
        "$\\mathcal{X}^{2}_{N-1,1-\\alpha_{1}}=\\mathcal{X}^{3}_{3,0.90}\\simeq 6,25$\n",
        "\n",
        "$\\mathcal{X}^{2}\\gt \\mathcal{X}^{2}_{3,0.90}\\to$ по критерию Пирсона мы отвергаем гипотезу\n",
        "\n",
        "Наибольшее значение уровня значимости, на котором еще нет оснований отвергнуть гипотезу: 0.025"
      ]
    },
    {
      "cell_type": "code",
      "execution_count": 3,
      "metadata": {},
      "outputs": [
        {
          "name": "stdout",
          "output_type": "stream",
          "text": [
            "Наибольшее значение уровня значимости, на котором еще нет оснований отвергнуть гипотезу: 0.025\n"
          ]
        }
      ],
      "source": [
        "import scipy.stats as stats\n",
        "\n",
        "chi2 = 9.32\n",
        "alpha = 0.2\n",
        "chi2_critical = 6.25\n",
        "while chi2 > chi2_critical:\n",
        "    alpha -= 0.001\n",
        "    chi2_critical = stats.chi2.ppf(1 - alpha, 3)\n",
        "print(\"Наибольшее значение уровня значимости, на котором еще нет оснований отвергнуть гипотезу: {:.3f}\".format(alpha))"
      ]
    },
    {
      "cell_type": "markdown",
      "metadata": {
        "id": "OMnpHk2fyi-a"
      },
      "source": [
        "### Задание-2"
      ]
    },
    {
      "cell_type": "markdown",
      "metadata": {
        "id": "VbmN05n61mEq"
      },
      "source": [
        "#### a)Построить вариционный ряд, эмпирическую функцию распределения,гистограмму и полигон частот с шагом h."
      ]
    },
    {
      "cell_type": "code",
      "execution_count": 6,
      "metadata": {
        "colab": {
          "base_uri": "https://localhost:8080/",
          "height": 367
        },
        "id": "9CBjjWHPy0we",
        "outputId": "48862946-3cbd-49ca-ada9-3b9ba5e21afe"
      },
      "outputs": [
        {
          "name": "stdout",
          "output_type": "stream",
          "text": [
            "[-5.467 -5.438 -5.384 -5.354 -5.277 -5.25  -5.232 -5.188 -5.184 -5.183\n",
            " -5.176 -5.164 -5.161 -5.15  -5.148 -5.144 -5.091 -5.085 -5.081 -5.057\n",
            " -5.046 -5.041 -5.034 -5.004 -4.984 -4.975 -4.954 -4.946 -4.909 -4.9\n",
            " -4.876 -4.858 -4.8   -4.793 -4.771 -4.731 -4.717 -4.709 -4.706 -4.65\n",
            " -4.632 -4.592 -4.59  -4.585 -4.561 -4.559 -4.502 -4.48  -4.391 -3.958]\n",
            "-246.468\n"
          ]
        },
        {
          "data": {
            "image/png": "[encoded data removed]",
            "text/plain": [
              "<Figure size 1000x600 with 1 Axes>"
            ]
          },
          "metadata": {},
          "output_type": "display_data"
        }
      ],
      "source": [
        "import numpy as np\n",
        "import matplotlib.pyplot as plt\n",
        "from scipy import stats\n",
        "data_1 = [-4.559, -5.057, -4.502, -4.561, -4.909, -4.954, -4.9, -5.15, -5.176, -3.958, -5.144, -5.148, -5.438, -4.709, -5.354, -4.8, -4.48, -4.771, -5.091, -4.632, -5.085, -4.984, -5.164, -5.188, -5.046, -5.004, -4.585, -4.858, -5.277, -4.65, -5.034, -4.731, -4.876, -5.081, -5.232, -5.183, -4.59, -5.467, -4.391, -4.975, -4.592, -5.25, -5.384, -5.041, -4.717, -4.946, -5.184, -4.793, -5.161, -4.706]\n",
        "sorted_data_1 = np.sort(data_1)\n",
        "sum=np.sum(data_1)\n",
        "variation_range_1 = np.unique(sorted_data_1)\n",
        "print(sorted_data_1)\n",
        "print(sum)\n",
        "plt.figure(figsize=(10, 6))\n",
        "plt.subplot(3, 1, 1)\n",
        "plt.plot(range(len(sorted_data_1)), sorted_data_1, marker='o', linestyle='-', color='r')\n",
        "plt.xlabel('Наблюдения')\n",
        "plt.ylabel('Значения')\n",
        "plt.title('Вариационный ряд')\n",
        "plt.show()"
      ]
    },
    {
      "cell_type": "code",
      "execution_count": 7,
      "metadata": {
        "colab": {
          "base_uri": "https://localhost:8080/",
          "height": 211
        },
        "id": "NFbSKTiy1hkZ",
        "outputId": "ab28d07b-33a0-492b-acb4-e1ea9c294330"
      },
      "outputs": [
        {
          "data": {
            "image/png": "[encoded data removed]",
            "text/plain": [
              "<Figure size 1000x600 with 1 Axes>"
            ]
          },
          "metadata": {},
          "output_type": "display_data"
        }
      ],
      "source": [
        "sorted_data_1 = np.sort(data_1)\n",
        "n = len(sorted_data_1)\n",
        "y = np.arange(1, n+1) / n\n",
        "\n",
        "plt.figure(figsize=(10, 6))\n",
        "plt.step(sorted_data_1, y, color='r')\n",
        "plt.xlabel('Значения')\n",
        "plt.ylabel('Эмпирическая функция распределения')\n",
        "plt.title('Эмпирическая функция распределения')\n",
        "plt.show()"
      ]
    },
    {
      "cell_type": "code",
      "execution_count": 8,
      "metadata": {
        "colab": {
          "base_uri": "https://localhost:8080/",
          "height": 472
        },
        "id": "fuhc7FHO2j05",
        "outputId": "36f6c26e-ce73-4b21-c35b-dd2ca957efa1"
      },
      "outputs": [
        {
          "data": {
            "image/png": "[encoded data removed]",
            "text/plain": [
              "<Figure size 640x480 with 1 Axes>"
            ]
          },
          "metadata": {},
          "output_type": "display_data"
        }
      ],
      "source": [
        "h=0.10\n",
        "bins = np.arange(min(data_1), max(data_1) + h, h)\n",
        "plt.hist(data_1, bins=bins, edgecolor='black', alpha=0.5, density=True)\n",
        "plt.xlabel('Значения')\n",
        "plt.ylabel('Частота')\n",
        "plt.title('Гистограмма')\n",
        "hist, _ = np.histogram(data_1, bins=bins, density=True)\n",
        "midpoints = (bins[1:] + bins[:-1]) / 2\n",
        "plt.plot(midpoints, hist, marker='p', linestyle='--', color='b')\n",
        "plt.xlabel('Значения')\n",
        "plt.ylabel('Частота')\n",
        "plt.title('Полигон частот')\n",
        "plt.show()"
      ]
    },
    {
      "cell_type": "markdown",
      "metadata": {
        "id": "RyBb32GD22wp"
      },
      "source": [
        "#### b) Вычислить выборочные аналоги следующих числовых характеристик: (i)математическое ожидание, (ii)дисперсия, (iii)медианы, (iv)асимметрии, (v)эксцесса (vi) вероятности $\\mathrm{P}(X\\in \\left[ c,d\\right])$"
      ]
    },
    {
      "cell_type": "code",
      "execution_count": 9,
      "metadata": {
        "colab": {
          "base_uri": "https://localhost:8080/"
        },
        "id": "ubdrSTdT26la",
        "outputId": "a2aeca9c-4ea2-4591-f742-f7f613d7fce2"
      },
      "outputs": [
        {
          "name": "stdout",
          "output_type": "stream",
          "text": [
            "Мат.ожидание= -4.92936\n",
            "Дисперсия= 0.09107439039999997\n",
            "Выборочное стандартное отклонение= 0.3017853382787175\n",
            "Медиана= -4.9795\n",
            "Асимметрия= 0.6234654021038757\n",
            "Эксцесс= 0.4736023635085478\n",
            "Вероятность попадания в промежуток= 0.52\n"
          ]
        }
      ],
      "source": [
        "c = -5.30\n",
        "d = -4.88\n",
        "mean = np.mean(data_1)  \n",
        "variance = np.var(data_1)  \n",
        "deviation=np.std(data_1) \n",
        "median = np.median(data_1)  \n",
        "skewness = stats.skew(data_1) \n",
        "kurtosis = stats.kurtosis(data_1)\n",
        "probability = len([x for x in data_1 if c <= x <= d]) / len(data_1)\n",
        "print(\"Мат.ожидание=\",mean)\n",
        "print(\"Дисперсия=\",variance)\n",
        "print(\"Выборочное стандартное отклонение=\",deviation)\n",
        "print(\"Медиана=\",median)\n",
        "print(\"Асимметрия=\",skewness)\n",
        "print(\"Эксцесс=\",kurtosis)\n",
        "print(\"Вероятность попадания в промежуток=\",probability)"
      ]
    },
    {
      "cell_type": "markdown",
      "metadata": {
        "id": "Hs9QJNAT7Hwg"
      },
      "source": [
        "#### c)В предположении, что исходные наблюдения являются выборкой из нормального распределения, построить ОМП и ОММ для параметров $(a,\\sigma^2)$. Найти смещение оценки.\n",
        "\n",
        "Плотность нормального распределения : $P_{a,\\sigma^2}= \\frac{1}{\\sqrt{2\\pi}\\sigma} \\cdot e^{-\\frac{(x-a)^2}{2\\sigma^2}}$\n",
        "\n",
        "Функция правдоподобия:\n",
        "\n",
        "$L(\\overrightarrow{X},\\theta)=\\prod\\limits_{i=1}^{n} \\frac{1}{\\sqrt{2\\pi\\sigma^2}} \\cdot e^{-\\frac{(x_i-a)^2}{2\\sigma^2}} = (2\\pi)^{-n/2} \\sigma^{-n} e^{-\\frac{1}{2\\sigma^2}\\sum\\limits_{i=1}^{n}(x_i-a)^2}$\n",
        "\n",
        "Логарифм функции правдоподобия:\n",
        "\n",
        "$LL(\\overrightarrow{X},\\theta)=-\\frac{n}{2}\\ln(2\\pi)-n\\ln(\\sigma)-\\frac{1}{2\\sigma^2}\\sum\\limits_{i=1}^{n}(x_{i}-a)^2$\n",
        "\n",
        "Дифференцируем по a:\n",
        "\n",
        "$\\frac{\\partial LL}{\\partial a}=-\\frac{1}{2\\sigma^2}\\sum\\limits_{i=1}^{n}-2(x_{i}-a)=\\frac{1}{\\sigma^2}(\\sum\\limits_{i=1}^{n}x_{i}-\\sum\\limits_{i=1}^{n}a) = \\frac{1}{\\sigma^2} (\\sum\\limits_{i=1}^{n}x_{i}-na)$\n",
        "\n",
        "$\\frac{1}{\\sigma^2} (\\sum\\limits_{i=1}^{n}x_{i}-na)=0$\n",
        "\n",
        "Домнажаем обе части на $\\sigma^2$\n",
        "\n",
        "$ \\sum\\limits_{i=1}^{n}x_{i}=na$\n",
        "\n",
        "$\\hat a = \\frac1n \\sum\\limits_{i=1}^{n}x_{i} = \\overline x$\n",
        "\n",
        "Дифференцируем по $\\sigma$:\n",
        "\n",
        "$\\frac{\\partial LL}{\\partial \\sigma}=-\\frac{n}\\sigma + \\frac{1}{\\sigma^3} \\sum\\limits_{i=1}^{n}(x_{i}-a)^2$  \n",
        "\n",
        "$\\frac{n}\\sigma = \\frac{1}{\\sigma^3} \\sum\\limits_{i=1}^{n}(x_{i}-a)^2 $\n",
        "\n",
        "Домнажаем обе части на $\\sigma^3$\n",
        "\n",
        "$n\\sigma^2 =  \\sum\\limits_{i=1}^{n}(x_{i}-a)^2 $\n",
        "\n",
        "Учитывая, что $\\hat a = \\overline x$\n",
        "\n",
        "$\\hat \\sigma^2 = \\frac1n \\sum\\limits_{i=1}^{n}(x_{i}-\\overline x)^2 = s^2$\n",
        "\n",
        "\n",
        "ОММ\n",
        "\n",
        "\n",
        "\n",
        "Первый момент $\\mathbb{E}X_{1}=a$\n",
        "\n",
        "$M_{1}=\\overline{X}$\n",
        "\n",
        "Второй момент \n",
        "\n",
        "$Var(x_1)=\\sigma^2$\n",
        "\n",
        "$Var(x_1)=E(X_1^2)-(E(X_1))^2$\n",
        "\n",
        "$\\mathbb{E}X_{1}^2=a^2+\\sigma^2$\n",
        "\n",
        "$M_{2}=\\frac1n\\sum\\limits_{i=1}^{n}x_{i}^2=\\overline x^2$\n",
        "\n",
        "Составляем систему из 2 уравнений\n",
        "\n",
        "$a=\\overline x$\n",
        "\n",
        "$a^2+\\sigma^2=\\overline x^2$\n",
        "\n",
        "$\\widetilde a = \\overline x$\n",
        "\n",
        "$\\sigma^2=\\overline x^2 - (\\overline x)^2 = s^2$\n",
        "\n",
        "$\\widetilde \\sigma^2 = s^2$\n",
        "\n",
        "\n",
        "Смещение оценок.\n",
        "\n",
        "\n",
        "$bias_{\\widehat{\\theta}}(a)=\\mathbb{E}_{\\theta}\\widehat{\\theta}(X)-\\theta = \\mathbb{E}_{\\theta} \\overline x - a = a - a = 0$\n",
        "\n",
        "$bias_{\\widehat{\\theta}}(\\sigma^2)=\\mathbb{E}_{\\theta}\\widehat{\\theta}(X)-\\theta = \\mathbb{E}_{\\theta} \\overline s^2 - \\sigma^2 = \\sigma^2(\\frac{n-1}n) - \\sigma^2 = -\\sigma^2/n$\n",
        "\n",
        "\n",
        "$\\mathbb{E}_{\\theta}{s^2}=\\mathbb{E}{(\\frac1n\\sum\\limits_{i=1}^{n}(x_i-\\overline x)^2)} = \\frac1n \\mathbb{E}{(\\sum\\limits_{i=1}^{n}(x_i^2-2x_i\\overline x + \\overline x^2)}=\\frac1n (\\sum\\limits_{i=1}^{n}(\\mathbb{E}{x_i^2}-2\\mathbb{E}{x_i\\overline x} + \\mathbb{E}{\\overline x^2}) =\n",
        "\\frac1n (\\sum\\limits_{i=1}^{n}(\\mathbb{E}{x_1^2}-2\\mathbb{E}{x_1} \\mathbb{E}{\\overline x} + \\mathbb{E}{\\overline x^2}) = \\frac1n \\sum\\limits_{i=1}^{n}(\\sigma^2+a^2-2a^2 + \\mathbb{E}{\\overline x^2})=$\n",
        "\n",
        "Учитывая, что $\\mathbb{E}{\\overline x^2}=Var(\\overline x) + (\\mathbb{E}{\\overline x})^2 = \\frac{\\sigma^2}n+a^2$\n",
        "\n",
        "$=\\frac1n \\sum\\limits_{i=1}^{n}(\\sigma^2+a^2-2a^2 + \\frac{\\sigma^2}n+a^2)=\n",
        "\\frac1n \\sum\\limits_{i=1}^{n}(\\sigma^2 + \\frac{\\sigma^2}n) = \\sigma^2 + \\frac{\\sigma^2}n=\\sigma^2(1-\\frac1n)=\\sigma^2(\\frac{n-1}n) $ - смещенная  оценка\n",
        "\n",
        "Скорректируем смещение:\n",
        "\n",
        "$\\mathbb{E}_{\\theta}{\\hat s^2} = \\frac{n}{n-1}\\mathbb{E}_{\\theta}{s^2}=\n",
        "\\frac{n}{n-1} \\frac{n-1}{n} \\sigma^2=\\sigma^2$ \n",
        "\n",
        "$\\widehat s = \\frac{1}{n-1}\\sum\\limits_{i=1}^{n}(x_i-\\overline x)^2$ - несмещенная оценка \n",
        "\n",
        "\n"
      ]
    },
    {
      "cell_type": "markdown",
      "metadata": {
        "id": "bBzTdeiMXIZN"
      },
      "source": [
        "#### d)Построить доверительные интервалы уровня значимости $\\alpha_2$ для параметров $(a,\\sigma^2)$ на базе ОМП\n",
        "\n",
        "1)$\\theta=a$\n",
        "\n",
        "$G(\\vec x,a)=\\sqrt {n-1}\\cdot\\frac{\\overline x-a}{s}\\sim S_{n-1}$\n",
        "\n",
        "$x_\\alpha: S_{n-1}(x_\\alpha)=1-\\frac{0,20}2=0.9$ \n",
        "\n",
        "$x_{0,9} = 1,3$\n",
        "\n",
        "\n",
        "$P_\\theta (\\sqrt {n-1}\\cdot\\frac{\\overline x-a}{s} \\in [-x_{\\alpha},x_{\\alpha}]) = 1 - \\alpha$\n",
        "\n",
        "\n",
        "$P_\\theta ( -x_\\alpha \\leq \\sqrt {n-1}\\cdot\\frac{\\overline x-a}{s} \\leq x_\\alpha)=1-\\alpha$\n",
        "\n",
        "$P_\\theta (\\overline x -\\frac{x_\\alpha s}{\\sqrt{n-1}} \\leq a \\leq \\overline x +\\frac{x_\\alpha s}{\\sqrt{n-1}}) $\n",
        "\n",
        "Подставив значения, получим:\n",
        "\n",
        "$ a \\in [-4,96; -4,84] $\n",
        "\n",
        "2)$\\theta=\\sigma^2$\n",
        "\n",
        "$G(\\overrightarrow{X},\\sigma^{2})=\\frac{ns^{2}}{\\sigma^{2}} \\sim \\chi_{n-1}^{2}$\n",
        "\n",
        "$\\mathbb{P}_{\\theta}\\left(\\frac{ns^{2}}{\\sigma^{2}} \\in [x_{1\\alpha},x_{2\\alpha}]\\right)=1-\\alpha$\n",
        "\n",
        "\n",
        "$x_{1\\alpha}: K_{n-1}(x_{1\\alpha})=\\frac{\\alpha}{2}$ \n",
        "\n",
        "$x_{2\\alpha}: K_{n-1}(x_{2\\alpha})=1-\\frac{\\alpha}{2}=1-\\frac{0.20}{2}=0,9$\n",
        "\n",
        "\n",
        "$\\mathbb{P}_{\\theta}\\left(x_{1\\alpha} \\leq \\frac{ns^{2}}{\\sigma^{2}} \\leq x_{2\\alpha}\\right)=1-\\alpha$\n",
        "\n",
        "$\\mathbb{P}_{\\theta}\\left(\\frac{ns^{2}}{x_{2\\alpha}} \\leq \\sigma^{2} \\leq \\frac{ns^{2}}{x_{1\\alpha}}\\right)$\n",
        "\n",
        "$x_{\\alpha_1} = 34.8$\n",
        "\n",
        "$x_{\\alpha_1} = 67.5$\n",
        "\n",
        "$\\left[\\frac{ns^{2}}{x_{2\\alpha}}; \\frac{ns^{2}}{x_{1\\alpha}}\\right] $\n",
        "\n",
        "\n",
        "\n",
        "Подставим значения\n",
        "\n",
        "$[0.07;0.13] \\ni \\sigma^{2}$\n"
      ]
    },
    {
      "cell_type": "code",
      "execution_count": 4,
      "metadata": {},
      "outputs": [
        {
          "name": "stdout",
          "output_type": "stream",
          "text": [
            "Значение x_alpha: 1.2990687845090696\n"
          ]
        }
      ],
      "source": [
        "import scipy.stats as stats\n",
        "\n",
        "\n",
        "alpha = 0.2\n",
        "n = 50 \n",
        "degrees_of_freedom = n - 1  \n",
        "probability = 1 - alpha / 2  \n",
        "x_alpha = stats.t.ppf(probability, degrees_of_freedom)\n",
        "print(\"Значение x_alpha:\", x_alpha)"
      ]
    },
    {
      "cell_type": "code",
      "execution_count": 9,
      "metadata": {},
      "outputs": [
        {
          "name": "stdout",
          "output_type": "stream",
          "text": [
            "Доверитальный интервал для параметра а: (-4.955714285714286, -4.844285714285714)\n",
            "Доверитальный интервал для параметра sigma^2: (0.06666666666666667, 0.12931034482758622)\n"
          ]
        }
      ],
      "source": [
        "import math\n",
        "\n",
        "e=-4.9\n",
        "sko=0.09\n",
        "n=50\n",
        "left_border = e - ((1.3 * math.sqrt(sko))/ math.sqrt(n-1))\n",
        "right_border = e + (1.3 * math.sqrt(sko) / math.sqrt(n-1))\n",
        "left_border2 = ((50*sko)/ 67.5)\n",
        "right_border2 = ((50*sko)/ 34.8)\n",
        "\n",
        "print(f\"Доверитальный интервал для параметра а: {left_border,right_border}\"  )\n",
        "print(f\"Доверитальный интервал для параметра sigma^2: {left_border2,right_border2}\"  )"
      ]
    },
    {
      "cell_type": "code",
      "execution_count": 8,
      "metadata": {},
      "outputs": [
        {
          "name": "stdout",
          "output_type": "stream",
          "text": [
            "Нижний квантиль хи-квадрат: 37.68864839397849\n",
            "Верхний квантиль хи-квадрат: 63.167121005726315\n"
          ]
        }
      ],
      "source": [
        "import scipy.stats as stats\n",
        "\n",
        "\n",
        "degrees_of_freedom = 50\n",
        "probability = 0.2  \n",
        "quantile_lower = stats.chi2.ppf((probability) / 2, degrees_of_freedom)\n",
        "quantile_upper = stats.chi2.ppf( (1 - (probability) / 2), degrees_of_freedom)\n",
        "print(\"Нижний квантиль хи-квадрат:\", quantile_lower)\n",
        "print(\"Верхний квантиль хи-квадрат:\", quantile_upper)"
      ]
    },
    {
      "cell_type": "markdown",
      "metadata": {
        "id": "8Dyc_1xzewiv"
      },
      "source": [
        "#### e)С использованием теоремы Колмогорова построить критерий значимости проверки простой гипотезы согласия с нормальным распределением с параметрами $(a_0,\\sigma_0^2)$. Проверить гипотезу на уровне значимости $\\alpha_2$ Вычислить наибольшее значение уровня значимости, на котором еще нет оснований отвергнуть данную гипотезу.\n"
      ]
    },
    {
      "cell_type": "code",
      "execution_count": 29,
      "metadata": {},
      "outputs": [
        {
          "name": "stdout",
          "output_type": "stream",
          "text": [
            "Критическое значение: 0.17307822563424255\n",
            "KstestResult(statistic=0.9992967975131712, pvalue=4.519078565789475e-158, statistic_location=-3.958, statistic_sign=1)\n",
            "Наибольшее значение уровня значимости, на котором гипотеза не отвергается: 0.009999999999999247\n"
          ]
        }
      ],
      "source": [
        "import numpy as np\n",
        "import scipy.stats as stats\n",
        "\n",
        "alpha_2 = 0.2\n",
        "a0 = -3.00\n",
        "sigma0_squared = 0.30 ** 2\n",
        "\n",
        "data = [-4.559, -5.057, -4.502, -4.561, -4.909, -4.954, -4.9, -5.15, -5.176, -3.958,\n",
        "        -5.144, -5.148, -5.438, -4.709, -5.354, -4.8, -4.48, -4.771, -5.091, -4.632,\n",
        "        -5.085, -4.984, -5.164, -5.188, -5.046, -5.004, -4.585, -4.858, -5.277, -4.65,\n",
        "        -5.034, -4.731, -4.876, -5.081, -5.232, -5.183, -4.59, -5.467, -4.391, -4.975,\n",
        "        -4.592, -5.25, -5.384, -5.041, -4.717, -4.946, -5.184, -4.793, -5.161, -4.706]\n",
        "\n",
        "data_sorted = sorted(data)\n",
        "critic_value = stats.kstwobign.ppf(1 - alpha_2 / 2) / np.sqrt(len(data))\n",
        "\n",
        "print(\"Критическое значение:\", critic_value)\n",
        "print(stats.kstest(data_sorted, 'norm', args=(a0, np.sqrt(sigma0_squared))))\n",
        "\n",
        "alpha = 1.0\n",
        "reject = False\n",
        "while alpha >= 0.01:\n",
        "    critic_value = stats.kstwobign.ppf(1 - alpha / 2) / np.sqrt(len(data))\n",
        "    result = stats.kstest(data_sorted, 'norm', args=(a0, np.sqrt(sigma0_squared)))\n",
        "    \n",
        "    if result.statistic <= critic_value:\n",
        "        reject = True\n",
        "        break  \n",
        "    \n",
        "    alpha -= 0.01  \n",
        "\n",
        "if reject:\n",
        "    print(\"Наибольшее значение уровня значимости, на котором гипотеза отвергается:\", alpha)\n",
        "else:\n",
        "    print(\"Наибольшее значение уровня значимости, на котором гипотеза не отвергается:\", alpha)"
      ]
    },
    {
      "cell_type": "markdown",
      "metadata": {},
      "source": [
        "Если p-значение меньше заданного уровня значимости alpha_2, то гипотеза о том, что данные имеют заданное распределение, может быть отвергнута"
      ]
    },
    {
      "cell_type": "markdown",
      "metadata": {
        "id": "R2tggMyZju0o"
      },
      "source": [
        "#### f)Используя гистограмму частот, построить критерий $\\mathcal{X}^{2}$ значимости проверки простой гипотезы согласия с нормальным распределением с параметрами $(a_0,\\sigma_0^2)$ Проверить гипотезу на уровень значимости $\\alpha_2$. Вычислить наибольшее значение уровня значимости, на котором ещё нет оснований отвергнуть данную гипотезу.\n",
        "\n",
        "$P_{i}=P_{H_{0}}(X\\in I_{i})=\\sum_{k\\in I_{i}}\\frac{1}{\\sqrt{2\\pi}\\sigma}\\cdot exp\\left(-\\frac{(x-a_0)^{2}}{2\\sigma_0^{2}}\\right)$\n",
        "\n",
        "$\\sigma_0=0.3$\n",
        "\n",
        "$a_0=-3$\n",
        "\n",
        "$\\alpha_2=0.2$\n",
        "\n",
        "$I_{1}=[-6,-5,2], n_{1}=7$\n",
        "\n",
        "$P_{1}=\\frac{1}{\\sqrt{2\\pi}\\cdot{0.3}}\\cdot exp\\left(-\\frac{(-6+3)^{2}}{2\\cdot0.3^{2}}\\right)+\\frac{1}{\\sqrt{2\\pi}\\cdot0.3}\\cdot exp\\left(-\\frac{(-5,2+3)^{2}}{2\\cdot0.3^{2}}\\right)=2,79 \\implies nP_{1}=139,5$\n",
        "\n",
        "$I_{2}=(-5,2,-5], n_{2}=17$\n",
        "\n",
        "$P_{2}=\\frac{1}{\\sqrt{2\\pi}\\cdot0.3}\\cdot exp\\left(-\\frac{(-5,2+3)^{2}}{2\\cdot0.3^{2}}\\right)+\\frac{1}{\\sqrt{2\\pi}\\cdot0.3}\\cdot exp\\left(-\\frac{(-5+3)^{2}}{2\\cdot0.3^{2}}\\right)=3 \\implies nP_{2}=150$\n",
        "\n",
        "$I_{3}=(-5,-4,6], n_{3}=17$\n",
        "\n",
        "$P_{3}=\\frac{1}{\\sqrt{2\\pi}\\cdot0.3}\\cdot exp\\left(-\\frac{(-5+3)^{2}}{2\\cdot0.3^{2}}\\right)+\\frac{1}{\\sqrt{2\\pi}\\cdot0.3}\\cdot exp\\left(-\\frac{(-4,6+3)^{2}}{2\\cdot0.3^{2}}\\right)=8,85\\implies nP_{3}=442,5$\n",
        "\n",
        "$I_{4}=(-4,6,-3,8], n_{4}=9$\n",
        "\n",
        "$P_{4}=\\frac{1}{\\sqrt{2\\pi}\\cdot0.3}\\cdot exp\\left(-\\frac{(-4,6+3)^{2}}{2\\cdot0.3^{2}}\\right)+\\frac{1}{\\sqrt{2\\pi}\\cdot0.3}\\cdot exp\\left(-\\frac{(-3,8+3)^{2}}{2\\cdot0.3^{2}}\\right)=0,04\\implies nP_{4}=2$\n",
        "\n",
        "\n",
        "\n",
        "Критерий $\\mathcal{X}^{2}: \\mathcal{X}^{2}_{набл}=\\sum_{i=1}^{4}\\frac{(n_{i}-np_{i})^{2}}{np_{i}} =677,43$\n",
        "\n",
        "$\\mathcal{X}^{2}_{N-1,1-\\alpha_{2}}=\\mathcal{X}^{2}_{3,0.8}\\sim 4.64$\n",
        "\n",
        "$\\mathcal{X}^{2}> \\mathcal{X}^{2}_{3,0.8}\\implies$ по критерию Пирсона мы отвергаем гипотезу\n",
        "\n",
        "Наибольшее значение уровня значимости, при котором нет оснований отвергнуть данную гипотезу, очень мало, так как наблюдаемое значение статистики $\\chi^2$ (677.43) значительно превышает критическое значение $\\chi^2_{\\text{critical}}$ (4.64)"
      ]
    },
    {
      "cell_type": "markdown",
      "metadata": {
        "id": "VCXT-_ZEqy1r"
      },
      "source": [
        "#### g)Построить критерий значимости  $\\mathcal{X^{2}}$ проверки сложной гипотезы согласия с нормальным распределением. Проверить гипотезу по уровню значимости $\\alpha_{2}$.Вычислить наибольшее значение уровня значимости, на котором ещё нет оснований отвергнуть данную гипотезу.\n",
        "\n",
        "$P_{i}=P_{H_{0}}(X\\in I_{i})=\\sum_{k\\in I_{i}}\\frac{1}{\\sqrt{2\\pi\\cdot s^{2}}}\\cdot exp\\left(-\\frac{(x-\\overline{x})^{2}}{2s^{2}}\\right)$\n",
        "\n",
        "$\\overline x = -4.929$\n",
        "\n",
        "$s^2=0.09$\n",
        "\n",
        "$I_{1}=[-6,-5,2], n_{1}=7$\n",
        "\n",
        "$P_{1}=\\frac{1}{\\sqrt{2\\pi}\\cdot{0.3}}\\cdot exp\\left(-\\frac{(-6+4.929)^{2}}{2\\cdot0.3^{2}}\\right)+\\frac{1}{\\sqrt{2\\pi}\\cdot0.3}\\cdot exp\\left(-\\frac{(-5,2+4.929)^{2}}{2\\cdot0.3^{2}}\\right)=0.88 \\implies nP_{1}=44$\n",
        "\n",
        "$I_{2}=(-5,2,-5], n_{2}=17$\n",
        "\n",
        "$P_{2}=\\frac{1}{\\sqrt{2\\pi}\\cdot0.3}\\cdot exp\\left(-\\frac{(-5,2+4.929)^{2}}{2\\cdot0.3^{2}}\\right)+\\frac{1}{\\sqrt{2\\pi}\\cdot0.3}\\cdot exp\\left(-\\frac{(-5+4.929)^{2}}{2\\cdot0.3^{2}}\\right)=2,25 \\implies nP_{2}=112,5$\n",
        "\n",
        "$I_{3}=(-5,-4,6], n_{3}=17$\n",
        "\n",
        "$P_{3}=\\frac{1}{\\sqrt{2\\pi}\\cdot0.3}\\cdot exp\\left(-\\frac{(-5+4.929)^{2}}{2\\cdot0.3^{2}}\\right)+\\frac{1}{\\sqrt{2\\pi}\\cdot0.3}\\cdot exp\\left(-\\frac{(-4,6+4.929)^{2}}{2\\cdot0.3^{2}}\\right)=2,1\\implies nP_{3}=105$\n",
        "\n",
        "$I_{4}=(-4,6,-3,958], n_{4}=9$\n",
        "\n",
        "$P_{4}=\\frac{1}{\\sqrt{2\\pi}\\cdot0.3}\\cdot exp\\left(-\\frac{(-4,6+4.929)^{2}}{2\\cdot0.3^{2}}\\right)+\\frac{1}{\\sqrt{2\\pi}\\cdot0.3}\\cdot exp\\left(-\\frac{(-3,958+4.929)^{2}}{2\\cdot0.3^{2}}\\right)=0,736\\implies nP_{4}=36,8$\n",
        "\n",
        "Критерий $\\mathcal{X}^{2}: \\mathcal{X}^{2}_{набл}=\\sum_{i=1}^{4}\\frac{(n_{i}-np_{i})^{2}}{np_{i}} = 188$\n",
        "\n",
        "$\\mathcal{X}^{2}_{N-1,1-\\alpha_{2}}=\\mathcal{X}^{2}_{3,0.8}= 4,64$\n",
        "\n",
        "$\\mathcal{X}^{2}> \\mathcal{X}^{2}_{3,0.8}\\implies$ по критерию Пирсона мы отвергаем гипотезу\n",
        "\n",
        "Наибольшее значение уровня значимости, при котором нет оснований отвергнуть данную гипотезу, очень мало, так как наблюдаемое значение статистики $\\chi^2$ (188) значительно превышает критическое значение $\\chi^2_{\\text{critical}}$ (4.64)"
      ]
    },
    {
      "cell_type": "markdown",
      "metadata": {
        "id": "QpF673nMt-Os"
      },
      "source": [
        "#### h)Построить наиболее мощный критерий проверки простой гипотезы о нормальности с параметрами $(a,\\sigma^2)=(a_0,\\sigma_0^2)$ при альтернативе нормальности с параметрами $(a,\\sigma^2)=(a_1,\\sigma_0^1)$ Проверить гипотезу на уровне значимости $\\alpha_2$ Что получится, если поменять местами основную и альтернативную гипотезы?\n",
        "\n",
        "Основная гипотеза - Распределение данных соответствует нормальному распределению с параметрами $(a, σ^2) = (a_0, σ_0^2):$ \n",
        "\n",
        "$H_{0}=(a,\\sigma^{2})=(a_{0},\\sigma_{0}^{2})=(-3,0.3)$\n",
        "\n",
        "Альтернативная гипотеза - Распределение данных соответствует нормальному распределению с параметрами $(a, σ^2) = (a_1, σ_1^2)$: \n",
        "\n",
        "$H_{A}=(a,\\sigma^{2})=(a_{1},\\sigma_{1}^{2})=(-5,0.3)$\n",
        "\n",
        "Воспользуемся статистическим отношением правдоподобия:\n",
        "\n",
        "$LR(\\overrightarrow{X},(a_{1},\\sigma^{2}_{1}),(a_{0},\\sigma^{2}_{0})) = \\frac{L\\left( \\overrightarrow{X},(a_{1},\\sigma^{2}_{1}) \\right)}{L\\left( \\overrightarrow{X},(a_{0},\\sigma^{2}_{0}) \\right)}= \\frac{(2\\pi)^{-\\frac{n}{2}}\\sigma_{1}^{-n}exp\\left(-\\frac{1}{2\\sigma_{1}^{2}}\\sum_{i=1}^{n}(X_{i}-a_{1})^{2}\\right)}{(2\\pi)^{-\\frac{n}{2}}\\sigma_{0}^{-n}exp\\left(-\\frac{1}{2\\sigma_{0}^{2}}\\sum_{i=1}^{n}(X_{i}-a_{0})^{2}\\right)}=\\left(\\frac{\\sigma_{1}}{\\sigma_{0}}\\right)^{-n}exp\\left(\\frac{1}{2}\\left(\\frac{1}{\\sigma_{0}^{2}}\\sum_{i=1}^{n}(X_{i}-a_{0})^{2}-\\frac{1}{\\sigma_{1}^{2}}\\sum_{i=1}^{n}(X_{i}-a_{1})^{2}\\right)\\right)$\n",
        "\n",
        "$LR\\left(\\overrightarrow{X},(a_{1},\\sigma^{2}_{1}),(a_{0},\\sigma^{2}_{0})\\right)\\gt c\\Leftrightarrow \\overrightarrow{X}< c$\n",
        "\n",
        "Используя ЦПТ:\n",
        "\n",
        "$\\sqrt{n} \\frac{\\overline{X} - a_0}{\\sigma_0} \\sim {N}(0, 1)$ при $H_0$\n",
        "\n",
        "$\\sqrt{50} \\frac{-4.9 + 3}{{0.3}} = -44,7$\n",
        "\n",
        "Квантиль:\n",
        "\n",
        "$c^* : \\Phi(c^*) = 1 - \\alpha_2 = 1 - 0.2 = 0.8 \\Rightarrow c^* = 0.84$\n",
        "\n",
        "Так как $\\sqrt{n} \\frac{\\overline{X} - a_0}{\\sigma} < c^*$, то гипотезу принимаем\n",
        "\n",
        "\n",
        "Если поменять гипотезы местами:\n",
        "\n",
        "Основная гипотеза:\n",
        "$H_{0}=(a,\\sigma^{2})=(a_{0},\\sigma_{0}^{2})=(-5,0.3)$\n",
        "\n",
        "Альтернативная гипотеза:\n",
        "$H_{A}=(a,\\sigma^{2})=(a_{1},\\sigma_{1}^{2})=(-3,0.3)$\n",
        "\n",
        "Воспользуемся статистическим отношением правдоподобия:\n",
        "\n",
        "$LR(\\overrightarrow{X},(a_{1},\\sigma^{2}_{1}),(a_{0},\\sigma^{2}_{0})) = \\frac{L\\left( \\overrightarrow{X},(a_{1},\\sigma^{2}_{1}) \\right)}{L\\left( \\overrightarrow{X},(a_{0},\\sigma^{2}_{0}) \\right)}= \\frac{(2\\pi)^{-\\frac{n}{2}}\\sigma_{1}^{-n}exp\\left(-\\frac{1}{2\\sigma_{1}^{2}}\\sum_{i=1}^{n}(X_{i}-a_{1})^{2}\\right)}{(2\\pi)^{-\\frac{n}{2}}\\sigma_{0}^{-n}exp\\left(-\\frac{1}{2\\sigma_{0}^{2}}\\sum_{i=1}^{n}(X_{i}-a_{0})^{2}\\right)}=\\left(\\frac{\\sigma_{1}}{\\sigma_{0}}\\right)^{-n}exp\\left(\\frac{1}{2}\\left(\\frac{1}{\\sigma_{0}^{2}}\\sum_{i=1}^{n}(X_{i}-a_{0})^{2}-\\frac{1}{\\sigma_{1}^{2}}\\sum_{i=1}^{n}(X_{i}-a_{1})^{2}\\right)\\right)$\n",
        "\n",
        "В силу монотонности статистики LR относительно $\\overline{X}$:\n",
        "\n",
        "$\\mathrm{LR} > c \\iff \\overline{X} < c^*$\n",
        "\n",
        "$\\mathrm{LR} < c \\iff \\overline{X} > c^*$\n",
        "\n",
        "Используя ЦПТ:\n",
        "\n",
        "$\\sqrt{n} \\frac{\\overline{X} - a_1}{\\sigma} \\sim \\mathcal{N}(0, 1)$ при $H_1$\n",
        "\n",
        "$\\mathbb{P}\\left(\\sqrt{n}\\frac{\\overline{X} - a_1}{\\sigma} \\geq \\sqrt{n}\\frac{c^* - a_1}{\\sigma}\\right) = 1 - \\Phi\\left(\\sqrt{n}\\frac{c^* - a_1}{\\sigma}\\right) = \\alpha_2$\n",
        "\n",
        "$\\sqrt{n}\\frac{c^* - a_1}{\\sigma} = x_{\\alpha}$\n",
        "\n",
        "$x_{\\alpha} : \\Phi(x_{\\alpha}) = 1 - \\alpha_2 = 1 - 0.2 = 0.8\\Rightarrow x_{\\alpha} = 0.84 \\Rightarrow c^* = -2.9$\n",
        "\n",
        "$\\overline{X} = -4.929$\n",
        "\n",
        "Так как $\\overline{X} < c^*$, то гипотезу отвергаем"
      ]
    },
    {
      "cell_type": "code",
      "execution_count": 3,
      "metadata": {},
      "outputs": [
        {
          "name": "stdout",
          "output_type": "stream",
          "text": [
            "0.8416212335729143\n"
          ]
        }
      ],
      "source": [
        "from scipy.stats import norm \n",
        "\n",
        "alpha=0.2\n",
        "quantile = norm.ppf(1 - alpha)\n",
        "print(quantile)"
      ]
    },
    {
      "cell_type": "markdown",
      "metadata": {
        "id": "sEnQ-Q3l5JZy"
      },
      "source": [
        "#### i)В пунктах (c)-(g) заменить семейство нормальных распределений на двухпараметрическое семейство распределений Лапласа с  плотностями $P_{a,\\sigma} = \\frac1{\\sqrt{2}\\sigma} exp(-\\frac{\\sqrt2}{\\sigma}|x-a|)$"
      ]
    },
    {
      "cell_type": "markdown",
      "metadata": {
        "id": "Z4Yi-KhH65P9"
      },
      "source": [
        "#### i.c)В предположении, что исходные наблюдения являются выборкой из распределения Лапласа, построить ОМП и ОММ параметров $(a,\\sigma)$.Найти смещение оценки.\n",
        "\n",
        "\n",
        "Плотность распределения Лапласа: $P_{a,\\sigma} = \\frac1{\\sqrt{2}\\sigma} exp(-\\frac{\\sqrt2}{\\sigma}|x-a|)$\n",
        "\n",
        "\n",
        "Функция правдоподобия:\n",
        "\n",
        "\n",
        "$L(\\overrightarrow{X},\\theta)=\\prod\\limits_{i=1}^{n} \\frac1{\\sqrt{2}\\sigma} exp(-\\frac{\\sqrt2}{\\sigma}|x_i-a|) = (\\sqrt{2} \\sigma)^{-n} exp(-\\frac1{\\sqrt{2}\\sigma}\\sum\\limits_{i=1}^{n}|x_i-a|)$\n",
        "\n",
        "Прологарифмируем функцию правдоподобия:\n",
        "\n",
        "$LL(\\overrightarrow{X},\\theta)=-n\\ln(\\sqrt{2}\\sigma) - \\frac{\\sqrt{2}}{\\sigma} \\sum\\limits_{i=1}^{n}|x_i-a|$\n",
        "\n",
        "Диффиринцируем по $\\sigma$:\n",
        "\n",
        "$\\frac{\\partial LL}{\\partial \\sigma}=-\\frac{n}\\sigma+\\frac{\\sqrt{2}}{\\sigma^2}\\sum\\limits_{i=1}^{n}|x_i-a| = 0$\n",
        "\n",
        "$n\\sigma = \\sqrt2 \\sum\\limits_{i=1}^{n}|x_i-a|$\n",
        "\n",
        "$\\hat \\sigma =  \\frac{\\sqrt{2}}n \\sum\\limits_{i=1}^{n}|x_i-a|$\n",
        "\n",
        "$\\hat \\sigma^2 =  \\frac{{2}}{n^2} (\\sum\\limits_{i=1}^{n}|x_i-a|)^2$\n",
        "\n",
        "Диффиринцируем по a:\n",
        "\n",
        "$\\frac{\\partial LL}{\\partial a}= -\\frac{\\sqrt2}{\\sigma}\\sum\\limits_{i=1}^{n}sign(x_i-a) \\to max$\n",
        "\n",
        "Максимум лог-правдоподобия будет достигаться тогда, когда a находится в точке, где функция переходит от возрастания к убыванию. Это и есть определение медианы - значение, которое делит набор наблюдений на две равные части\n",
        "\n",
        "$\\hat a = Med(x)$\n",
        "\n",
        "ОММ.\n",
        "$P_{a,\\sigma} = \\frac1{\\sqrt{2}\\sigma} exp(-\\frac{\\sqrt2}{\\sigma}|x-a|)$\n",
        "\n",
        "Первый момент: \n",
        "$\\mathbb{E}X_{1}=a $\n",
        "\n",
        "$M_{1}=\\overline{X}$\n",
        "\n",
        "$\\widehat a = \\overline x$\n",
        "\n",
        "Второй момент:\n",
        "\n",
        "$\\mathbb{E}X_1^2=\\frac1n \\sum\\limits_{i=1}^{n}x_i^2$\n",
        "\n",
        "$\\mathbb{E}X_1^2=Var(x_1)+(\\mathbb{E}X_1)^2=\\sigma^2+a^2$\n",
        "\n",
        "$\\sigma^2+a^2 = \\overline x^2$\n",
        "\n",
        "$\\sigma^2 = \\overline x^2-a^2$\n",
        "\n",
        "$\\hat \\sigma^2 = \\overline x^2-a^2$\n",
        "\n",
        "\n",
        "Смещение оценок.\n",
        "\n",
        "\n",
        "$bias_{\\widehat{\\theta}}(\\hat a)=\\mathbb{E}_{\\theta}\\widehat{\\theta}(X)-\\theta = \\mathbb{E}_{\\theta} \\overline x - a = a - a = 0$ - несмещенная в обоих методах\n",
        "\n",
        "$bias_{\\widehat{\\theta}}(\\hat \\sigma^2)=\\mathbb{E}_{\\theta}\\widehat{\\theta}(X)-\\theta = \\mathbb{E}_{\\theta} \\frac{{2}}{n^2} (\\sum\\limits_{i=1}^{n}|x_i-a|)^2 - \\sigma^2 $ - смещенная\n",
        "\n",
        "$bias_{\\widehat{\\theta}}(\\hat \\sigma^2)=\\mathbb{E}_{\\theta}\\widehat{\\theta}(X)-\\theta = \\mathbb{E}_{\\theta} (\\overline x^2-a^2) - \\sigma^2 $ смещенная"
      ]
    },
    {
      "cell_type": "markdown",
      "metadata": {
        "id": "x9LN6byjCf91"
      },
      "source": [
        "#### i.d)Построить доверительный интервалы уровня значимости $\\alpha_2$ для параметров $(a, \\sigma^2)$\n",
        "\n",
        "$\\sqrt{n}\\cfrac{\\bar x-a}{S}\\sim   N (0,1)$  \n",
        "\n",
        "$G(\\overline X,a)=\\sqrt{n-1}\\cfrac{\\overline x-a}{s}\\sim  S_{n-1}$   \n",
        "\n",
        "$P(-x_\\alpha\\leq\\sqrt{n-1}\\cfrac{\\overline x-a}{s}\\leq x_\\alpha)=1-\\alpha_2=0.8$  \n",
        "\n",
        "$P(\\bar x-\\cfrac{x_\\alpha s}{\\sqrt{n-1}}\\leq a\\leq\\bar x+\\cfrac{x_\\alpha s}{\\sqrt{n-1}})=1-\\alpha_2$  \n",
        "\n",
        "$x_\\alpha = 1.3$  \n",
        "\n",
        "$[-4,91, -4,88]\\ni a$\n",
        "  \n",
        "$G(\\bar X,\\sigma^2)=\\cfrac{ns^2}{\\sigma^2}\\sim \\mathscr X^2_{n-1}$ \n",
        "\n",
        "$\\mathbb{P}(x_{\\alpha_1}\\leq\\cfrac{ns^2}{\\sigma^2}\\leq x_{\\alpha_2})=1-\\alpha_2=0.8$  \n",
        "\n",
        "$P(\\cfrac{ns^2}{x_{\\alpha_2}}\\leq\\sigma^2\\leq\\cfrac{ns^2}{x_{\\alpha_1}})=1-\\alpha_2=0.8$  \n",
        "\n",
        "${\\cfrac{ns^2}{x_{\\alpha_2}}}\\leq\\sigma^2\\leq{\\cfrac{ns^2}{x_{\\alpha_1}}}$  \n",
        "\n",
        "$x_{\\alpha_1}: Z_{n-1}(x_{\\alpha_1})=\\cfrac{\\alpha}{2}$\n",
        "\n",
        "$x_{\\alpha_2}: Z_{n-1}(x_{\\alpha_2})=1-\\cfrac{\\alpha}{2}$ \n",
        "\n",
        "$x_{\\alpha_1}= 36.8$  \n",
        "\n",
        "$x_{\\alpha_2}=62$  \n",
        "\n",
        "$[0,007,0,011]\\ni\\sigma^2$\n",
        "\n"
      ]
    },
    {
      "cell_type": "code",
      "execution_count": 20,
      "metadata": {},
      "outputs": [
        {
          "name": "stdout",
          "output_type": "stream",
          "text": [
            "Квантиль распределения Стьюдента: 1.2987136939791877\n"
          ]
        }
      ],
      "source": [
        "from scipy.stats import t\n",
        "\n",
        "def calculate_t_quantile(df, alpha):\n",
        "    t_quantile = t.ppf(1 - alpha/2, df)\n",
        "    return t_quantile\n",
        "df = 50\n",
        "alpha = 0.2\n",
        "\n",
        "t_quantile = calculate_t_quantile(df, alpha)\n",
        "print(\"Квантиль распределения Стьюдента:\", t_quantile)"
      ]
    },
    {
      "cell_type": "code",
      "execution_count": 21,
      "metadata": {},
      "outputs": [
        {
          "name": "stdout",
          "output_type": "stream",
          "text": [
            "36.81821727017282\n",
            "62.03753678530966\n"
          ]
        }
      ],
      "source": [
        "from scipy.stats import chi2\n",
        "\n",
        "alpha = 0.2\n",
        "df = 50\n",
        "chi2_quantile = chi2.ppf(alpha/2, df-1)\n",
        "chi2_quantile2 = chi2.ppf(1 - alpha/2, df-1)\n",
        "print(chi2_quantile)\n",
        "print(chi2_quantile2)"
      ]
    },
    {
      "cell_type": "markdown",
      "metadata": {
        "id": "SBoUEuZEF91O"
      },
      "source": [
        "#### i.e)С использованием теоремы Колмогорова построить критерий значимости проверки простой гипотезы согласия с  распределением Лапласа с параметрами $(a_0,\\sigma_0)$. Проверить гипотезу на уровне значимости $\\alpha_2$ Вычислить наибольшее значение уровня значимости, на котором еще нет оснований отвергнуть данную гипотезу."
      ]
    },
    {
      "cell_type": "code",
      "execution_count": 25,
      "metadata": {
        "colab": {
          "base_uri": "https://localhost:8080/"
        },
        "id": "aNWXrWsaH2m1",
        "outputId": "7c0bbd63-4b05-4dc0-da1f-793e1513557a"
      },
      "outputs": [
        {
          "name": "stdout",
          "output_type": "stream",
          "text": [
            "0.17307822563424255\n",
            "KstestResult(statistic=0.9794825700760242, pvalue=8.075658311178841e-85, statistic_location=-3.958, statistic_sign=1)\n",
            "Наибольшее значение уровня значимости, на котором нет оснований отвергнуть гипотезу: -3.122502256758253e-17\n"
          ]
        }
      ],
      "source": [
        "import numpy as np\n",
        "import scipy.stats as stats\n",
        "\n",
        "alpha_2 = 0.2\n",
        "a0 = -3.00\n",
        "sigma0 = 0.30\n",
        "\n",
        "data = [-4.559, -5.057, -4.502, -4.561, -4.909, -4.954, -4.9, -5.15, -5.176, -3.958,\n",
        "        -5.144, -5.148, -5.438, -4.709, -5.354, -4.8, -4.48, -4.771, -5.091, -4.632,\n",
        "        -5.085, -4.984, -5.164, -5.188, -5.046, -5.004, -4.585, -4.858, -5.277, -4.65,\n",
        "        -5.034, -4.731, -4.876, -5.081, -5.232, -5.183, -4.59, -5.467, -4.391, -4.975,\n",
        "        -4.592, -5.25, -5.384, -5.041, -4.717, -4.946, -5.184, -4.793, -5.161, -4.706]\n",
        "\n",
        "data_sorted = sorted(data)\n",
        "critic_value = stats.kstwobign.ppf(1 - alpha_2 / 2) / np.sqrt(len(data))\n",
        "\n",
        "print(critic_value)\n",
        "print(stats.kstest(data_sorted, 'laplace', args=(a0, sigma0)))\n",
        "while True:\n",
        "    critic_value = stats.kstwobign.ppf(1 - alpha / 2) / np.sqrt(len(data))\n",
        "    result = stats.kstest(data_sorted, 'laplace', args=(a0, sigma0))\n",
        "    \n",
        "    if result.statistic <= critic_value:\n",
        "        break  \n",
        "    \n",
        "    alpha -= 0.01  \n",
        "\n",
        "print(\"Наибольшее значение уровня значимости, на котором нет оснований отвергнуть гипотезу:\", alpha)"
      ]
    },
    {
      "cell_type": "markdown",
      "metadata": {},
      "source": [
        "Если p-значение меньше заданного уровня значимости alpha_2, то гипотеза о том, что данные имеют заданное распределение, может быть отвергнута"
      ]
    },
    {
      "cell_type": "markdown",
      "metadata": {
        "id": "kjxgkG4BH9zi"
      },
      "source": [
        "#### i.f)Используя гистограмму частот, построить критерий $\\mathcal{X}^{2}$ значимости проверки простой гипотезы согласия с нормальным распределением с параметрами $(a_0,\\sigma_0)$ Проверить гипотезу на уровень значимости $\\alpha_2$. Вычислить наибольшее значение уровня значимости, на котором ещё нет оснований отвергнуть данную гипотезу.\n",
        "\n",
        "$P_{i}=P_{H_{0}}(X\\in I_{i})=\\sum_{k\\in I_{i}}\\frac{1}{\\sqrt{2}\\sigma_0}exp\\left(-\\frac{\\sqrt{2}}{\\sigma_0}|x-a_0|\\right)$\n",
        "\n",
        "$a_0=-3$ \n",
        "$\\sigma_0=0.3$\n",
        "\n",
        "\n",
        "$I_{1}=[-6,-5,2], n_{1}=7$\n",
        "\n",
        "$P_{1}=\\frac{1}{\\sqrt{2}\\cdot0.3}exp\\left(-\\frac{\\sqrt{2}}{0.3}|-6+3|\\right)+\\frac{1}{\\sqrt{2}\\cdot0.3}exp\\left(-\\frac{\\sqrt{2}}{0.3}|-5,2+3|\\right)=7,55 \\cdot 10^{-7} \\implies nP_{1}=3,775 \\cdot 10^{-5}$\n",
        "\n",
        "$I_{2}=(-5,2,-5], n_{2}=17$\n",
        "\n",
        "$P_{2}=\\frac{1}{\\sqrt{2}\\cdot0.3}exp\\left(-\\frac{\\sqrt{2}}{0.3}|-5,2+3|\\right)+\\frac{1}{\\sqrt{2}\\cdot0.3}exp\\left(-\\frac{\\sqrt{2}}{0.3}|-5+3|\\right)=0,0003\\implies nP_{2}=0,015$\n",
        "\n",
        "$I_{3}=(-5,-4,6], n_{3}=17$\n",
        "\n",
        "$P_{3}=\\frac{1}{\\sqrt{2}\\cdot0.3}exp\\left(-\\frac{\\sqrt{2}}{0.3}|-5+3|\\right)+\\frac{1}{\\sqrt{2}\\cdot0.3}exp\\left(-\\frac{\\sqrt{2}}{0.3}|-4,6+3|\\right)=0,002\\implies nP_{3}=0,1$\n",
        "\n",
        "$I_{4}=[-4,6,-3,8], n_{4}=9$\n",
        "\n",
        "$P_{4}=\\frac{1}{\\sqrt{2}\\cdot0.3}exp\\left(-\\frac{\\sqrt{2}}{0.3}|-4,6+3|\\right)+\\frac{1}{\\sqrt{2}\\cdot0.3}exp\\left(-\\frac{\\sqrt{2}}{0.3}|-3,8+3|\\right)=0,06\\implies nP_{4}=3$\n",
        "\n",
        "\n",
        "Критерий $\\mathcal{X}^{2}: \\mathcal{X}^{2}_{набл}=\\sum_{i=1}^{4}\\frac{(n_{i}-np_{i})^{2}}{np_{i}}=1,298\\cdot 10^6$\n",
        "\n",
        "$\\mathcal{X}^{2}_{N-1,1-\\alpha_{1}}=\\mathcal{X}^{2}_{3,0.8}\\sim 4,64$\n",
        "\n",
        "$\\mathcal{X}^{2}> \\mathcal{X}^{2}_{3,0.8}\\implies$ по критерию Пирсона мы отвергаем гипотезу\n",
        "\n",
        "Наибольшее значение уровня значимости, при котором нет оснований отвергнуть данную гипотезу, очень мало, так как наблюдаемое значение статистики $\\chi^2$ (1,298 10^6) значительно превышает критическое значение $\\chi^2_{\\text{critical}}$ (4.64)"
      ]
    },
    {
      "cell_type": "markdown",
      "metadata": {
        "id": "HfW68W_wPoQQ"
      },
      "source": [
        "#### i.g)Построить критерий значимости  $\\mathcal{X^{2}}$ проверки сложной гипотезы согласия с распределением Лапласа. Проверить гипотезу по уровню значимости $\\alpha_{2}$.Вычислить наибольшее значение уровня значимости, на котором ещё нет оснований отвергнуть данную гипотезу.\n",
        "\n",
        "$s=0.3$\n",
        "\n",
        "$\\overline x = -4.9$\n",
        "\n",
        "$P_{i}=P_{H_{0}}(X\\in I_{i})=\\sum_{k\\in I_{i}}\\frac{1}{\\sqrt{2}s}exp\\left(-\\frac{\\sqrt{2}}{s}|x-\\overline{x}|\\right)$\n",
        "\n",
        "$I_{1}=[-6,-5,2], n_{1}=7$\n",
        "\n",
        "$P_{1}=\\frac{1}{\\sqrt{2}\\cdot0.3}exp\\left(-\\frac{\\sqrt{2}}{0.3}|-6+4.9|\\right)+\\frac{1}{\\sqrt{2}\\cdot0.3}exp\\left(-\\frac{\\sqrt{2}}{0.3}|-5,2+4.9|\\right)=0,59\\implies nP_{1}=29,5$\n",
        "\n",
        "$I_{2}=(-5,2,-5], n_{2}=17$\n",
        "\n",
        "$P_{2}=\\frac{1}{\\sqrt{2}\\cdot0,3}exp\\left(-\\frac{\\sqrt{2}}{0,3}|-5,2+4,9|\\right)+\\frac{1}{\\sqrt{2}\\cdot0,3}exp\\left(-\\frac{\\sqrt{2}}{0,3}|-5+4,9|\\right)=2\\implies nP_{2}=100$\n",
        "\n",
        "$I_{3}=(-5,-4,6], n_{3}=17$\n",
        "\n",
        "$P_{3}=\\frac{1}{\\sqrt{2}\\cdot0,3}exp\\left(-\\frac{\\sqrt{2}}{0,3}|-5+4,9|\\right)+\\frac{1}{\\sqrt{2}\\cdot0,3}exp\\left(-\\frac{\\sqrt{2}}{0,3}|-4,6+4,9|\\right)=2\\implies nP_{3}=100$\n",
        "\n",
        "$I_{4}=(-4,6,-3,8], n_{4}=9$\n",
        "\n",
        "$P_{4}=\\frac{1}{\\sqrt{2}\\cdot0,3}exp\\left(-\\frac{\\sqrt{2}}{0,3}|-4,6+4,9|\\right)+\\frac{1}{\\sqrt{2}\\cdot0,3}exp\\left(-\\frac{\\sqrt{2}}{0,3}|-3,8+4,9|\\right)=0,59\\implies nP_{4}=29,5$\n",
        "\n",
        "Критерий $\\mathcal{X}^{2}: \\mathcal{X}^{2}_{набл}=\\sum_{i=1}^{4}\\frac{(n_{i}-np_{i})^{2}}{np_{i}}=169$\n",
        "\n",
        "$\\mathcal{X}^{2}_{N-1,1-\\alpha_{2}}=\\mathcal{X}^{2}_{3,0.8}\\sim 4,64$\n",
        "\n",
        "$\\mathcal{X}^{2}> \\mathcal{X}^{2}_{3,0.8}\\implies$ по критерию Пирсона мы отвергаем гипотезу\n",
        "\n",
        "Eровень значимости, на котором ещё нет оснований отвергнуть гипотезу, много меньше чем $10^{-15}$"
      ]
    },
    {
      "cell_type": "markdown",
      "metadata": {
        "id": "QX7-VGUuZf9G"
      },
      "source": [
        "## Выводы\n",
        "\n",
        "В ходе практической работы было изучено и реализовано применение методов математической статистики для решения задач статистического анализа. Были изучены основные концепции и методы для анализа выборочных данных, построения доверительных интервалов, проверки гипотез и т.д.Были использованы программные пакеты, такие как Python с библиотеками NumPy, Scipy с пакетами stats,norm и так далее. "
      ]
    }
  ],
  "metadata": {
    "colab": {
      "provenance": []
    },
    "kernelspec": {
      "display_name": "Python 3",
      "name": "python3"
    },
    "language_info": {
      "codemirror_mode": {
        "name": "ipython",
        "version": 3
      },
      "file_extension": ".py",
      "mimetype": "text/x-python",
      "name": "python",
      "nbconvert_exporter": "python",
      "pygments_lexer": "ipython3",
      "version": "3.9.13"
    }
  },
  "nbformat": 4,
  "nbformat_minor": 0
}
