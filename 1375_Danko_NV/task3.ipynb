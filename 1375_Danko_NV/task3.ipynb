{
  "cells": [
    {
      "cell_type": "markdown",
      "metadata": {
        "id": "D4iZJ4dQO4v8"
      },
      "source": [
        "# Практическая работа №3: Регрессионный анализ.\n",
        "\n",
        "Выполнил студент гр. 1375 Данько Никита. Вариант №10"
      ]
    },
    {
      "cell_type": "markdown",
      "metadata": {
        "id": "TBtmx-W-lxyX"
      },
      "source": [
        "## Цель работы\n",
        "\n",
        "Ознакомление с основными положениями метода наименьших квадратов (МНК), со статистическими свойствами МНК-оценок, с понятием функции регрессии и роли МНК в регрессионном анализе."
      ]
    },
    {
      "cell_type": "markdown",
      "metadata": {
        "id": "RrAONuI-l4nl"
      },
      "source": [
        "## Постановка задачи\n",
        "\n",
        "Результаты статистического эксперимента представлены в виде двух переменных. Требуется оценить характер (случайной) зависимости переменной Y от переменной X. Полученные результаты содержательно проинтерпретировать."
      ]
    },
    {
      "cell_type": "markdown",
      "metadata": {
        "id": "-HyJsTCSmEOB"
      },
      "source": [
        "## Основные теоретические положения"
      ]
    },
    {
      "cell_type": "markdown",
      "metadata": {
        "id": "lZ2gBe09mXHZ"
      },
      "source": [
        "Статистические данные: $(Y,z), Y-наблюдение,z-ковариата$\n",
        "\n",
        "Линейная регрессионная модель: $\\mathbb{E}_{\\theta}(Y\\mid z)=x(z)^\\intercal\\beta$\n",
        "\n",
        "Линейная регрессионная модель: $\\mathbb{E}_{\\theta}(Y\\mid z)=x(z)^\\intercal\\beta$\n",
        "\n",
        "Статистическая модель: $\\mathbb{E}_{\\theta}(Y\\mid z)=X^\\intercal\\beta,\\space Var(Y|z) = \\sigma^2E$\n",
        "\n",
        "Альтернативная форма записи модели линейной регрессии: $Y = X^\\intercal\\beta + \\varepsilon=\\beta_0+\\beta_1 x+\\varepsilon, \\space\\mathbb{E}_{\\theta}\\varepsilon = 0,\\space Var_{\\theta}\\varepsilon = \\sigma^2E$\n",
        "\n",
        "Метод наименьших квадратов: $RSS(\\beta)=\\left\\| Y-X^\\intercal\\beta \\right\\|^2=(Y-X^\\intercal\\beta)^\\intercal(Y-X^\\intercal\\beta)\\to \\min_\\beta$\n",
        "\n",
        "Нормальные уравнения: $XX^\\intercal\\beta=XY$\n",
        "\n",
        "Решение системы нормальных уравнений в регулярном случае: $\\hat{\\beta}=(XX^\\intercal)^{-1}XY$\n",
        "\n",
        "Оценивание параметра дисперсии, ДНО функции параметра\n",
        "\n",
        "Оценка параметра $\\sigma^2$: $S^2 =\\frac{SS_e}{n-r} =\\frac{RSS(\\hat{\\beta})}{n-r}$, $\\space S^2$-несмещенная оценка дисперсии\n",
        "\n",
        "Линейная функция параметра: $\\psi(\\beta) = C^\\intercal\\beta$\n",
        "\n",
        "Будем говорить, что $\\psi(\\beta)$ допускает несмещенное оценивание, если $\\exists L(Y) = B Y : \\forall \\beta : \\mathbb{E}_\\beta L(Y) = C^\\intercal\\beta$\n",
        "\n",
        "Теорема Гаусса-Маркова: В модели линейной регрессии любая ДНО-функция параметра $\\psi(\\beta) = C^\\intercal\\beta$, $C = (c_1, \\dots, c_m)^\\intercal$ имеет НРМД - оценку $\\hat{\\psi}$. Эта оценка единственна в классе линейных несмещенных оценок и равна $\\hat{\\psi} = \\sum_{i = 1}^{m}c_i\\hat{\\beta}_i$, где $\\hat{\\beta}$ - произвольное решение системы нормальных уравнений.\n",
        "\n",
        "Доверительное оценивание\n",
        "\n",
        "Доверительный интервал: $\\left[\\hat{\\psi} - x_\\alpha S \\sqrt{b_\\psi}; \\hat{\\psi} + x_\\alpha S \\sqrt{b_\\psi}\\right]$, где $x_\\alpha: S_{n-r}(x_\\alpha) = 1 - \\frac{\\alpha}{2}$\n",
        "\n",
        "Доверительный эллипсоид: $\\left\\{\\overrightarrow{x} : \\left(\\overrightarrow{x} - \\hat{\\psi}\\right)^\\intercal b_\\psi^{-1} \\left(\\overrightarrow{x} - \\hat{\\psi}\\right) \\le q S^2 x_\\alpha\\right\\}$,где $x_\\alpha: \\mathcal{F}_{q, n-r}(x_\\alpha) = 1 - \\alpha$\n",
        "\n",
        "Проверка гипотез\n",
        "\n",
        "Основная гипотеза $H_0:\\psi=0$\n",
        "\n",
        "F-cтатистика: $\\mathbb{F} = \\frac{SS_H/q}{SS_e/(n-r)}$, где $SS_H = RSS(\\hat{\\beta}_H) - RSS(\\hat{\\beta})$, где $\\hat{\\beta}_H$ - МНК оценка при выполнении основной гипотезы, $SS_e=RSS(\\hat{\\beta})$"
      ]
    },
    {
      "cell_type": "markdown",
      "metadata": {
        "id": "qMU2i2atUS5O"
      },
      "source": [
        "## Выполнение работы"
      ]
    },
    {
      "cell_type": "markdown",
      "metadata": {
        "id": "wgJ_sjTjcM76"
      },
      "source": [
        "### 1. Построить графически результаты эксперимента. Сформулировать линейную регерессионную модель переменной $Y$ по переменной $X$. Построить МНК оценки параметров сдвига $\\beta_0$ и масштаба $\\beta_1$. Построить полученную линию регрессии. Оценить визуально соответствие полученных данных и построенной оценки."
      ]
    },
    {
      "cell_type": "code",
      "execution_count": 1,
      "metadata": {
        "id": "UohhzyZUT4vA"
      },
      "outputs": [],
      "source": [
        "import pandas as pd\n",
        "import matplotlib.pyplot as plt\n",
        "import numpy as np\n",
        "from numpy.linalg import inv\n",
        "from IPython.display import Markdown as md\n",
        "import scipy.stats as sps\n",
        "import scipy\n",
        "import sympy\n",
        "import random"
      ]
    },
    {
      "cell_type": "code",
      "execution_count": 3,
      "metadata": {
        "id": "jdMprLdGTuh_"
      },
      "outputs": [],
      "source": [
        "X = np.array([2, 2, 2, 1, 0, 0, 1, 1, 1, 1, 1, 0, 1, 0, 0, 2, 2, 2, 2, 0, 1, 2, 0, 1, 1, 2, 0, 2, 1, 0, 0, 2, 2, 2, 0,\n",
        "                0, 1, 1, 1, 2, 0, 1, 0, 0, 0, 0, 2, 0, 1, 2])\n",
        "Y = np.array([8.03, 4.91, 1.08, 10.58, 3.25, 0.62, 9.49, 8.29, 11.45, 7.55, 9.87, 8.29, 3.76, 11.56, 7.84, 13.96, 7.3,\n",
        "                4.66, 10.0, 4.33, 2.53, 7.43, 6.15, 3.39, 7.07, 3.62, 5.81, 7.42, 2.23, 5.05, 6.81, 12.86, 7.15, 10.54,\n",
        "                9.94, 8.12, 4.52, 11.2, 7.23, 7.75, 9.45, 7.32, 5.58, 9.0, 7.02, 4.92, 9.29, 4.72, 13.77, 5.93])"
      ]
    },
    {
      "cell_type": "code",
      "execution_count": 7,
      "metadata": {
        "id": "O0QSq7AtTzmp"
      },
      "outputs": [
        {
          "name": "stdout",
          "output_type": "stream",
          "text": [
            "    X      Y\n",
            "0   2   8.03\n",
            "1   2   4.91\n",
            "2   2   1.08\n",
            "3   1  10.58\n",
            "4   0   3.25\n",
            "5   0   0.62\n",
            "6   1   9.49\n",
            "7   1   8.29\n",
            "8   1  11.45\n",
            "9   1   7.55\n",
            "10  1   9.87\n",
            "11  0   8.29\n",
            "12  1   3.76\n",
            "13  0  11.56\n",
            "14  0   7.84\n",
            "15  2  13.96\n",
            "16  2   7.30\n",
            "17  2   4.66\n",
            "18  2  10.00\n",
            "19  0   4.33\n",
            "20  1   2.53\n",
            "21  2   7.43\n",
            "22  0   6.15\n",
            "23  1   3.39\n",
            "24  1   7.07\n",
            "25  2   3.62\n",
            "26  0   5.81\n",
            "27  2   7.42\n",
            "28  1   2.23\n",
            "29  0   5.05\n",
            "30  0   6.81\n",
            "31  2  12.86\n",
            "32  2   7.15\n",
            "33  2  10.54\n",
            "34  0   9.94\n",
            "35  0   8.12\n",
            "36  1   4.52\n",
            "37  1  11.20\n",
            "38  1   7.23\n",
            "39  2   7.75\n",
            "40  0   9.45\n",
            "41  1   7.32\n",
            "42  0   5.58\n",
            "43  0   9.00\n",
            "44  0   7.02\n",
            "45  0   4.92\n",
            "46  2   9.29\n",
            "47  0   4.72\n",
            "48  1  13.77\n",
            "49  2   5.93\n"
          ]
        }
      ],
      "source": [
        "df = pd.DataFrame({'X':X, 'Y':Y})\n",
        "print(df)"
      ]
    },
    {
      "cell_type": "code",
      "execution_count": 10,
      "metadata": {
        "colab": {
          "base_uri": "https://localhost:8080/",
          "height": 487
        },
        "id": "ELfpXXTmUgBH",
        "outputId": "3c4a2625-c53c-440a-b06c-087f494e18ee"
      },
      "outputs": [
        {
          "data": {
            "image/png": "[encoded data removed]",
            "text/plain": [
              "<Figure size 800x300 with 1 Axes>"
            ]
          },
          "metadata": {},
          "output_type": "display_data"
        }
      ],
      "source": [
        "plt.figure(figsize = (8, 3))\n",
        "plt.scatter(X,Y)\n",
        "plt.title('График наблюдений:')\n",
        "plt.ylabel('Y')\n",
        "plt.xlabel('X')\n",
        "plt.show()"
      ]
    },
    {
      "cell_type": "markdown",
      "metadata": {
        "id": "sI1oiMQrdBNz"
      },
      "source": [
        "Линейная модель Y относительно X имеет вид:\n",
        "\n",
        "$ Y = X^{T}\\beta + ϵ$\n",
        "\n",
        "Оценка вектора параметров $\\beta$ по МНК:\n",
        "\n",
        "$\\beta = (XX^{T})^{-1}XY$"
      ]
    },
    {
      "cell_type": "code",
      "execution_count": 28,
      "metadata": {
        "id": "4slt4nH9UtET"
      },
      "outputs": [],
      "source": [
        "X_bias = np.insert(X.reshape(50, -1), 0, 1, axis = 1)"
      ]
    },
    {
      "cell_type": "markdown",
      "metadata": {
        "id": "VjMlpKnzGTGm"
      },
      "source": [
        "Оценки параметров $\\beta_{0}$ и $\\beta_{1}$:"
      ]
    },
    {
      "cell_type": "code",
      "execution_count": 26,
      "metadata": {
        "colab": {
          "base_uri": "https://localhost:8080/"
        },
        "id": "2fXfiTXaU6z8",
        "outputId": "32deb9fd-1aac-482c-e9e2-4aafc4b838c2"
      },
      "outputs": [
        {
          "name": "stdout",
          "output_type": "stream",
          "text": [
            "Определитель X*X^T: 1696.0000000000002  значит есть обратная\n",
            "beta_0: [6.70632075]\n",
            "beta_1: [0.52758255]\n"
          ]
        }
      ],
      "source": [
        "XX = np.vstack([np.ones_like(X),X])\n",
        "transposed_X = XX.T\n",
        "result = np.dot(XX, transposed_X)\n",
        "determinant = np.linalg.det(result)\n",
        "print('Определитель X*X^T:',determinant, ' значит есть обратная')\n",
        "y = Y.reshape(50, 1)\n",
        "beta=np.dot(np.dot(np.linalg.inv(result),XX),y)\n",
        "beta_0=beta[0]\n",
        "beta_1=beta[1]\n",
        "print('beta_0:',beta_0)\n",
        "print('beta_1:',beta_1)"
      ]
    },
    {
      "cell_type": "code",
      "execution_count": 27,
      "metadata": {
        "colab": {
          "base_uri": "https://localhost:8080/",
          "height": 487
        },
        "id": "T2I3RDgLvgUL",
        "outputId": "7396f6e9-78f6-4308-8520-f2c7e25c9c8c"
      },
      "outputs": [
        {
          "data": {
            "image/png": "[encoded data removed]",
            "text/plain": [
              "<Figure size 1000x500 with 1 Axes>"
            ]
          },
          "metadata": {},
          "output_type": "display_data"
        }
      ],
      "source": [
        "plt.figure(figsize = (10, 5))\n",
        "plt.scatter(X,Y)\n",
        "plt.plot(X, X * beta_1 + beta_0, c = 'r')\n",
        "plt.title('График наблюдений и линия регрессии:')\n",
        "plt.ylabel('Y')\n",
        "plt.xlabel('X')\n",
        "plt.show()"
      ]
    },
    {
      "cell_type": "markdown",
      "metadata": {
        "id": "t8LxtCi2wKW-"
      },
      "source": [
        "Линия регрессии имеет небольшой коэффициент наклона, и это говорит о том, что зависимость почти нет."
      ]
    },
    {
      "cell_type": "markdown",
      "metadata": {
        "id": "i2VBS4GAzaA1"
      },
      "source": [
        "### 2. Построить и интерпретировать несмещенную оценку дисперсии. На базе ошибок построить гистограмму с шагом $h$. Проверить гипотезу нормальности ошибок на уровне значимости $\\alpha$ по $\\chi^2$. Оценить расстояние полученной оценки до класса нормальных распределений по Колмогорову. Визуально оценить данный факт."
      ]
    },
    {
      "cell_type": "code",
      "execution_count": 17,
      "metadata": {
        "colab": {
          "base_uri": "https://localhost:8080/"
        },
        "id": "-04qENWkyyVM",
        "outputId": "d9358f68-20ff-4ea6-fdaf-3d35176d2fcf"
      },
      "outputs": [
        {
          "data": {
            "text/plain": [
              "2"
            ]
          },
          "execution_count": 17,
          "metadata": {},
          "output_type": "execute_result"
        }
      ],
      "source": [
        "np.linalg.matrix_rank(X_bias)#ранг матрицы X"
      ]
    },
    {
      "cell_type": "code",
      "execution_count": 18,
      "metadata": {
        "id": "OcrpqZZHCv-o"
      },
      "outputs": [],
      "source": [
        "beta = np.array([beta_0, beta_1])#вектор оценок параметров регрессии"
      ]
    },
    {
      "cell_type": "code",
      "execution_count": 33,
      "metadata": {
        "colab": {
          "base_uri": "https://localhost:8080/"
        },
        "id": "7JKb6CzvzQxP",
        "outputId": "9f29964f-84fc-40b0-f6c9-a88473027ca7"
      },
      "outputs": [
        {
          "name": "stdout",
          "output_type": "stream",
          "text": [
            "Несмещенная оценка дисперсии: 9.681575673469387\n"
          ]
        }
      ],
      "source": [
        "n = len(Y)\n",
        "s_2 = np.var(Y, ddof=1)\n",
        "print(\"Несмещенная оценка дисперсии:\", s_2)"
      ]
    },
    {
      "cell_type": "code",
      "execution_count": 80,
      "metadata": {},
      "outputs": [
        {
          "name": "stdout",
          "output_type": "stream",
          "text": [
            "[-6.68148585 -4.88148585 -3.08148585 -1.28148585  0.51851415  2.31851415\n",
            "  4.11851415  5.91851415  7.71851415]\n"
          ]
        },
        {
          "data": {
            "image/png": "[encoded data removed]",
            "text/plain": [
              "<Figure size 640x480 with 1 Axes>"
            ]
          },
          "metadata": {},
          "output_type": "display_data"
        }
      ],
      "source": [
        "h = 1.8\n",
        "bin=np.arange(np.min(mistakes), np.max(mistakes) + h, h)\n",
        "print(bin)\n",
        "weights = [1/(len(mistakes)) for _ in mistakes]\n",
        "plt.hist(mistakes, bins=bin, edgecolor='black',weights =weights)\n",
        "plt.xlabel('Ошибки')\n",
        "plt.ylabel('Частота')\n",
        "plt.title('Гистограмма ошибок ')\n",
        "plt.show()\n",
        "mistakes.sort()\n"
      ]
    },
    {
      "cell_type": "markdown",
      "metadata": {
        "id": "FZPSsjziHPAP"
      },
      "source": [
        "Проверка гипотезы нормальности ошибок:"
      ]
    },
    {
      "cell_type": "markdown",
      "metadata": {
        "id": "VDSp7GcwGa5B"
      },
      "source": [
        "$X_1, X_2, \\dots, X_n \\sim \\mathbb{p_{\\theta}(x)}$.\n",
        "\n",
        "$H_0 : p \\equiv N(0,s^{2})$\n",
        "\n",
        "$H_A : \\exists x : \\mathbb{p_{\\theta}(x)} \\neq p_{N(0,s^{2})}(x)$\n"
      ]
    },
    {
      "cell_type": "code",
      "execution_count": 54,
      "metadata": {
        "id": "UoFCjeUYyXOQ"
      },
      "outputs": [],
      "source": [
        "X = np.array(X)\n",
        "Y = np.array(Y)"
      ]
    },
    {
      "cell_type": "code",
      "execution_count": 97,
      "metadata": {
        "id": "09-vJzIXMXSe"
      },
      "outputs": [
        {
          "name": "stdout",
          "output_type": "stream",
          "text": [
            "[-10  -4  -1   1   8]\n"
          ]
        }
      ],
      "source": [
        "n = 50\n",
        "alpha =  0.05\n",
        "borders = np.array([-10,-4, -1, 1, 8])\n",
        "print(borders)"
      ]
    },
    {
      "cell_type": "code",
      "execution_count": 98,
      "metadata": {
        "id": "3o5DeU8BMcvd"
      },
      "outputs": [
        {
          "name": "stdout",
          "output_type": "stream",
          "text": [
            "[ 5 12 14 19]\n",
            "4\n"
          ]
        }
      ],
      "source": [
        "#абсолютные частоты\n",
        "v, _ = np.histogram(mistakes, bins=borders)\n",
        "print(v)\n",
        "print(len(v))"
      ]
    },
    {
      "cell_type": "code",
      "execution_count": 118,
      "metadata": {
        "id": "0LggKl5UR2AA"
      },
      "outputs": [
        {
          "name": "stdout",
          "output_type": "stream",
          "text": [
            "4\n",
            "0.9942762067454407\n"
          ]
        }
      ],
      "source": [
        "#теоретические частоты\n",
        "p = []\n",
        "for i in range(1,len(borders)):\n",
        "    p.append(sps.norm(0,np.sqrt(s_2)).cdf(borders[i]) - sps.norm(0,np.sqrt(s_2)).cdf(borders[i - 1]))\n",
        "p = np.array(p)\n",
        "print(len(p))\n",
        "print(np.sum(p)) # Выводит значение близкое к 1"
      ]
    },
    {
      "cell_type": "code",
      "execution_count": 103,
      "metadata": {
        "id": "lfqdP6t-4DLN"
      },
      "outputs": [],
      "source": [
        "intervals = ['[-$\\inf$,-4)', '[-4,-1)', '[-1, 1)','[1,+$\\inf$)']"
      ]
    },
    {
      "cell_type": "markdown",
      "metadata": {
        "id": "XvSK9GmjHVcx"
      },
      "source": [
        "Таблица абсолютных и относительных частот:"
      ]
    },
    {
      "cell_type": "code",
      "execution_count": 119,
      "metadata": {
        "colab": {
          "base_uri": "https://localhost:8080/",
          "height": 206
        },
        "id": "NCrwewzbSeDa",
        "outputId": "253d1989-88ce-41fb-82ba-2c5206197625"
      },
      "outputs": [
        {
          "data": {
            "text/html": [
              "<div>\n",
              "<style scoped>\n",
              "    .dataframe tbody tr th:only-of-type {\n",
              "        vertical-align: middle;\n",
              "    }\n",
              "\n",
              "    .dataframe tbody tr th {\n",
              "        vertical-align: top;\n",
              "    }\n",
              "\n",
              "    .dataframe thead th {\n",
              "        text-align: right;\n",
              "    }\n",
              "</style>\n",
              "<table border=\"1\" class=\"dataframe\">\n",
              "  <thead>\n",
              "    <tr style=\"text-align: right;\">\n",
              "      <th></th>\n",
              "      <th>interval</th>\n",
              "      <th>absolute frequences</th>\n",
              "      <th>theoretical frequences</th>\n",
              "    </tr>\n",
              "  </thead>\n",
              "  <tbody>\n",
              "    <tr>\n",
              "      <th>0</th>\n",
              "      <td>[-$\\inf$,-4)</td>\n",
              "      <td>5</td>\n",
              "      <td>4.932315</td>\n",
              "    </tr>\n",
              "    <tr>\n",
              "      <th>1</th>\n",
              "      <td>[-4,-1)</td>\n",
              "      <td>12</td>\n",
              "      <td>13.732891</td>\n",
              "    </tr>\n",
              "    <tr>\n",
              "      <th>2</th>\n",
              "      <td>[-1, 1)</td>\n",
              "      <td>14</td>\n",
              "      <td>12.604106</td>\n",
              "    </tr>\n",
              "    <tr>\n",
              "      <th>3</th>\n",
              "      <td>[1,+$\\inf$)</td>\n",
              "      <td>19</td>\n",
              "      <td>18.444498</td>\n",
              "    </tr>\n",
              "  </tbody>\n",
              "</table>\n",
              "</div>"
            ],
            "text/plain": [
              "       interval  absolute frequences  theoretical frequences\n",
              "0  [-$\\inf$,-4)                    5                4.932315\n",
              "1       [-4,-1)                   12               13.732891\n",
              "2       [-1, 1)                   14               12.604106\n",
              "3   [1,+$\\inf$)                   19               18.444498"
            ]
          },
          "execution_count": 119,
          "metadata": {},
          "output_type": "execute_result"
        }
      ],
      "source": [
        "pd.DataFrame({'interval':intervals, 'absolute frequences':v, 'theoretical frequences':np.array(p) * n})"
      ]
    },
    {
      "cell_type": "markdown",
      "metadata": {
        "id": "f0cy7kf6gYrC"
      },
      "source": [
        "Рассчет статистики $\\chi^2$:"
      ]
    },
    {
      "cell_type": "code",
      "execution_count": 120,
      "metadata": {
        "colab": {
          "base_uri": "https://localhost:8080/"
        },
        "id": "tF6Cd6jb4fm2",
        "outputId": "402d426b-2d92-42f4-cdc1-2c950ac189e6"
      },
      "outputs": [
        {
          "data": {
            "text/plain": [
              "0.3909188878790159"
            ]
          },
          "execution_count": 120,
          "metadata": {},
          "output_type": "execute_result"
        }
      ],
      "source": [
        "np.sum(np.square(v - n * p)/(n * p))"
      ]
    },
    {
      "cell_type": "markdown",
      "metadata": {
        "id": "Ck_Xdka2gbdX"
      },
      "source": [
        "Рассчет критического значения на уровне значимости $\\alpha$:"
      ]
    },
    {
      "cell_type": "code",
      "execution_count": 121,
      "metadata": {
        "colab": {
          "base_uri": "https://localhost:8080/"
        },
        "id": "1s4zZbOU312o",
        "outputId": "eca49b79-8903-4773-ca60-88e33a264688"
      },
      "outputs": [
        {
          "data": {
            "text/plain": [
              "7.814727903251179"
            ]
          },
          "execution_count": 121,
          "metadata": {},
          "output_type": "execute_result"
        }
      ],
      "source": [
        "sps.chi2.ppf(1 - alpha, df = len(v)- 1)"
      ]
    },
    {
      "cell_type": "markdown",
      "metadata": {
        "id": "WXB23QwKH2wN"
      },
      "source": [
        "$\\chi^2 \\approx 0.39$\n",
        "\n",
        "$x_{\\alpha} \\approx 7.81$\n",
        "\n",
        "$\\chi^2 < x_{\\alpha_2}$"
      ]
    },
    {
      "cell_type": "markdown",
      "metadata": {
        "id": "vDjpjJGa4Lrs"
      },
      "source": [
        "Статистика $\\chi^2$ в пределах критического значения уровня значимости $\\alpha$. Гипотеза $H_{0}$ принимается."
      ]
    },
    {
      "cell_type": "markdown",
      "metadata": {
        "id": "-D6QEGs3xYYt"
      },
      "source": [
        "Рассчет статистики Колмогорова:"
      ]
    },
    {
      "cell_type": "code",
      "execution_count": 123,
      "metadata": {
        "colab": {
          "base_uri": "https://localhost:8080/"
        },
        "id": "C8R2T879w8eQ",
        "outputId": "204cff01-13d6-4efa-9fea-15b2dda5de7e"
      },
      "outputs": [
        {
          "name": "stdout",
          "output_type": "stream",
          "text": [
            "0.562442860407597\n"
          ]
        }
      ],
      "source": [
        "D, _  = sps.kstest(mistakes, 'norm', args = [0, np.sqrt(s_2)])\n",
        "eta = np.sqrt(n) * D\n",
        "print(eta)"
      ]
    },
    {
      "cell_type": "markdown",
      "metadata": {
        "id": "NCXnCI6pxh-L"
      },
      "source": [
        "Рассчет критического значения на уровне значимости 1 - $\\alpha$"
      ]
    },
    {
      "cell_type": "code",
      "execution_count": 125,
      "metadata": {
        "colab": {
          "base_uri": "https://localhost:8080/"
        },
        "id": "Af3nzws2xeYC",
        "outputId": "f7e23ead-a5e3-40be-a7e3-5d575d8c216e"
      },
      "outputs": [
        {
          "data": {
            "text/plain": [
              "1.3580986393225505"
            ]
          },
          "execution_count": 125,
          "metadata": {},
          "output_type": "execute_result"
        }
      ],
      "source": [
        "sps.kstwobign.ppf(1 - alpha)"
      ]
    },
    {
      "cell_type": "markdown",
      "metadata": {
        "id": "qh9W_H0lx7mg"
      },
      "source": [
        "$\\hat D_n < x_\\alpha$\n",
        "\n",
        "Статистика Колмогорова оказалась в пределах критического значения уровня значимости $\\alpha$. Гипотеза $H_{0}$ принимается."
      ]
    },
    {
      "cell_type": "markdown",
      "metadata": {
        "id": "LtqsZGHN6QoR"
      },
      "source": [
        "### 3. В предположении нормальности ошибок построить доверительные интервалы для параметров $\\beta_0$ и $\\beta_1$ уровня доверия $1-\\alpha$. Построить доверительный эллипс уровня доверия $1-\\alpha$ для $\\left( \\beta_0,\\beta_1 \\right)$ (вычислить его полуоси)."
      ]
    },
    {
      "cell_type": "markdown",
      "metadata": {
        "id": "h99gKTnEbL2q"
      },
      "source": [
        "#### Доверительный интервал для $\\beta_{0}$:\n",
        "\n"
      ]
    },
    {
      "cell_type": "markdown",
      "metadata": {
        "id": "HkaATnhy-6JB"
      },
      "source": [
        "МНК-оценка: $ψ = C^{T}\\hat{\\beta}$"
      ]
    },
    {
      "cell_type": "code",
      "execution_count": 178,
      "metadata": {
        "id": "8FmoOlnqaosv"
      },
      "outputs": [],
      "source": [
        "C = np.array([1, 0])\n",
        "psi_est = C.T.dot(beta)\n",
        "X = np.array(X)\n",
        "X = X.reshape(50, 1)\n",
        "X_matrix = np.concatenate([np.ones(n).reshape(n,1), X], axis = 1)"
      ]
    },
    {
      "cell_type": "markdown",
      "metadata": {
        "id": "fb_2UE1K_Om3"
      },
      "source": [
        "Элемент диcперсии оценки: $b_{\\psi} = C^{T}(X^{T}X)C$"
      ]
    },
    {
      "cell_type": "code",
      "execution_count": 179,
      "metadata": {
        "colab": {
          "base_uri": "https://localhost:8080/"
        },
        "id": "KEIfRORWggQU",
        "outputId": "9470057f-03cf-4094-e305-9f8fd29d347f"
      },
      "outputs": [
        {
          "data": {
            "text/plain": [
              "0.04716981132075471"
            ]
          },
          "execution_count": 179,
          "metadata": {},
          "output_type": "execute_result"
        }
      ],
      "source": [
        "b = C.T.dot(np.linalg.inv(X_matrix.T.dot(X_matrix))).dot(C)\n",
        "b"
      ]
    },
    {
      "cell_type": "markdown",
      "metadata": {
        "id": "zHRlWF5B9_cw"
      },
      "source": [
        "$x_{\\alpha}: S_{n - r}(x_{\\alpha}) = 1 - \\frac{\\alpha}{2}$"
      ]
    },
    {
      "cell_type": "code",
      "execution_count": 180,
      "metadata": {
        "colab": {
          "base_uri": "https://localhost:8080/"
        },
        "id": "WumTLcWp9yD_",
        "outputId": "549c30d9-705b-4846-ef94-8414f4f65c18"
      },
      "outputs": [
        {
          "data": {
            "text/plain": [
              "2.0106347546964454"
            ]
          },
          "execution_count": 180,
          "metadata": {},
          "output_type": "execute_result"
        }
      ],
      "source": [
        "x_alpha = sps.t(df = n - 2).ppf(1- alpha/2)\n",
        "x_alpha"
      ]
    },
    {
      "cell_type": "markdown",
      "metadata": {
        "id": "GiE4T0SvAQlw"
      },
      "source": [
        "Доверительный интервал уровня доверия $1 - \\alpha$:"
      ]
    },
    {
      "cell_type": "code",
      "execution_count": 181,
      "metadata": {
        "colab": {
          "base_uri": "https://localhost:8080/"
        },
        "id": "fd7AEM-S-rhP",
        "outputId": "824a2f73-d5c0-43eb-dec8-5dce6fb621f3"
      },
      "outputs": [
        {
          "name": "stdout",
          "output_type": "stream",
          "text": [
            " Доверительный интервал для b_0:[[5.34757476], [8.06506675]]\n"
          ]
        }
      ],
      "source": [
        "left = psi_est - x_alpha * np.sqrt(s_2) * np.sqrt(b)\n",
        "right = psi_est + x_alpha * np.sqrt(s_2) * np.sqrt(b)\n",
        "\n",
        "print(f' Доверительный интервал для b_0:[{left}, {right}]')"
      ]
    },
    {
      "cell_type": "markdown",
      "metadata": {
        "id": "kxHIAU_WIMl2"
      },
      "source": [
        "#### Доверительный интервал для $\\beta_{1}$:"
      ]
    },
    {
      "cell_type": "code",
      "execution_count": 171,
      "metadata": {
        "id": "J2LMzD9DIiCa"
      },
      "outputs": [],
      "source": [
        "C = np.array([0, 1])"
      ]
    },
    {
      "cell_type": "code",
      "execution_count": 172,
      "metadata": {
        "id": "kOJ3zVAWIiCa"
      },
      "outputs": [],
      "source": [
        "psi_est = C.T.dot(beta)"
      ]
    },
    {
      "cell_type": "markdown",
      "metadata": {
        "id": "FJQxYWryIiCb"
      },
      "source": [
        "Элемент диcперсии оценки: $b_{\\psi} = C^{T}(X^{T}X)C$"
      ]
    },
    {
      "cell_type": "code",
      "execution_count": 174,
      "metadata": {
        "colab": {
          "base_uri": "https://localhost:8080/"
        },
        "id": "mcVUMkVsIiCb",
        "outputId": "f42da347-d25d-4bd3-ef4a-09d1adce8646"
      },
      "outputs": [
        {
          "data": {
            "text/plain": [
              "0.029481132075471695"
            ]
          },
          "execution_count": 174,
          "metadata": {},
          "output_type": "execute_result"
        }
      ],
      "source": [
        "b = C.T.dot(np.linalg.inv(X_matrix.T.dot(X_matrix))).dot(C)\n",
        "b"
      ]
    },
    {
      "cell_type": "markdown",
      "metadata": {
        "id": "6GhjB6vxIiCb"
      },
      "source": [
        "$x_{\\alpha}: S_{n - r}(x_{\\alpha}) = 1 - \\frac{\\alpha}{2}$"
      ]
    },
    {
      "cell_type": "code",
      "execution_count": 175,
      "metadata": {
        "colab": {
          "base_uri": "https://localhost:8080/"
        },
        "id": "OerTnKvCIiCb",
        "outputId": "60335873-fcae-4d6c-e80a-fe38157506bf"
      },
      "outputs": [
        {
          "data": {
            "text/plain": [
              "2.0106347546964454"
            ]
          },
          "execution_count": 175,
          "metadata": {},
          "output_type": "execute_result"
        }
      ],
      "source": [
        "x_alpha = sps.t(df = n - 2).ppf(1 - alpha/2)\n",
        "x_alpha"
      ]
    },
    {
      "cell_type": "markdown",
      "metadata": {
        "id": "1fdDhxxgIiCb"
      },
      "source": [
        "Доверительный интервал уровня доверия $1 - \\alpha$:"
      ]
    },
    {
      "cell_type": "code",
      "execution_count": 176,
      "metadata": {
        "colab": {
          "base_uri": "https://localhost:8080/"
        },
        "id": "kwW5CRIoIiCc",
        "outputId": "39ea18b1-47c0-440e-adfc-8bb7b34d292d"
      },
      "outputs": [
        {
          "name": "stdout",
          "output_type": "stream",
          "text": [
            " Доверительный интервал для b_1:[[-0.54660048], [1.60176557]]\n"
          ]
        }
      ],
      "source": [
        "left = psi_est - x_alpha * np.sqrt(s_2) * np.sqrt(b)\n",
        "right = psi_est + x_alpha * np.sqrt(s_2) * np.sqrt(b)\n",
        "\n",
        "print(f' Доверительный интервал для b_1:[{left}, {right}]')"
      ]
    },
    {
      "cell_type": "markdown",
      "metadata": {
        "id": "FxHavs3KJhVe"
      },
      "source": [
        "#### Нахождения уравнения доверительного эллипса:"
      ]
    },
    {
      "cell_type": "code",
      "execution_count": 164,
      "metadata": {
        "id": "xtRzN2YsThKP"
      },
      "outputs": [],
      "source": [
        "C = np.array([[1, 0],[0, 1]])\n",
        "psi_est = C.T.dot(beta)\n",
        "B = C.T.dot(np.linalg.inv(X_matrix.T.dot(X_matrix))).dot(C)"
      ]
    },
    {
      "cell_type": "code",
      "execution_count": 144,
      "metadata": {
        "colab": {
          "base_uri": "https://localhost:8080/"
        },
        "id": "ORhbQ8VlpzW6",
        "outputId": "e30f26f3-a25d-469c-bd5c-c7ec2d098977"
      },
      "outputs": [
        {
          "name": "stdout",
          "output_type": "stream",
          "text": [
            "Неравенство эллипса: 50.0*x**2 + 96.0*x*y - 721.28*x + 80.0*y**2 - 728.22*y + 2610.66559823113 <= 61.782536312398285\n"
          ]
        }
      ],
      "source": [
        "x_symbol = sympy.Symbol('x')\n",
        "y_symbol = sympy.Symbol('y')\n",
        "x_vec = np.matrix([[x_symbol], [y_symbol]])\n",
        "expr = (x_vec - psi_est).T * inv(B) * (x_vec - psi_est)\n",
        "print(f\"Неравенство эллипса: {expr[0,0].as_poly().as_expr()} <= {2 * s_2 * sps.f(2, n - 2).ppf(1 - alpha)}\")"
      ]
    },
    {
      "cell_type": "markdown",
      "metadata": {
        "id": "oAahUy2Vd8Bl"
      },
      "source": [
        "Рассчет полуосей:"
      ]
    },
    {
      "cell_type": "code",
      "execution_count": 162,
      "metadata": {},
      "outputs": [
        {
          "name": "stdout",
          "output_type": "stream",
          "text": [
            "Полуось 1: 0.26072418630107724\n",
            "Полуось 2: 0.09313346377037393\n"
          ]
        }
      ],
      "source": [
        "import numpy as np\n",
        "\n",
        "# Матрица коэффициентов эллипса\n",
        "A = np.array([[50.0, 48.0], [48.0, 80.0]])\n",
        "\n",
        "# Нахождение собственных значений и собственных векторов\n",
        "eigenvalues, eigenvectors = np.linalg.eig(A)\n",
        "\n",
        "# Полуоси эллипса\n",
        "semi_axis_1 = np.sqrt(1 / eigenvalues[0])\n",
        "semi_axis_2 = np.sqrt(1 / eigenvalues[1])\n",
        "\n",
        "print(\"Полуось 1:\", semi_axis_1)\n",
        "print(\"Полуось 2:\", semi_axis_2)"
      ]
    },
    {
      "cell_type": "markdown",
      "metadata": {
        "id": "vXxCU2L_d58y"
      },
      "source": [
        "Первая полуось $≈$ 0.26072418630107724\n",
        "\n",
        "Вторая полуось $≈$ 0.09313346377037393"
      ]
    },
    {
      "cell_type": "markdown",
      "metadata": {
        "id": "QUCQCwCLbD93"
      },
      "source": [
        "### 4. Сформулировать гипотезу независимости Y от X. Провести проверку значимости."
      ]
    },
    {
      "cell_type": "markdown",
      "metadata": {
        "id": "woGDXDLBEjO2"
      },
      "source": [
        "$H_{0}: \\beta_{1} = 0$\n",
        "\n",
        "$H_{A}: \\beta_{1} \\not= 0$\n"
      ]
    },
    {
      "cell_type": "markdown",
      "metadata": {
        "id": "0XFuBomcKPdm"
      },
      "source": [
        "Рассчет F - статистики:"
      ]
    },
    {
      "cell_type": "code",
      "execution_count": 203,
      "metadata": {},
      "outputs": [
        {
          "name": "stdout",
          "output_type": "stream",
          "text": [
            "F-критерий 0.00936650126229589\n",
            "Критическое значение F =  3.190727335928499\n",
            "Принимаем нулевую гипотезу. Нет существенной зависимости между Y и X.\n"
          ]
        }
      ],
      "source": [
        "from scipy.stats import f\n",
        "\n",
        "p = 2  \n",
        "SSE = np.sum((Y - (beta_0 + beta_1 * X)) ** 2)\n",
        "SSR = np.sum((beta_0 + beta_1 * X - np.mean(Y)) ** 2)\n",
        "SST = SSE + SSR\n",
        "MSE = SSE / (n - p)  \n",
        "MSR = SSR / p  \n",
        "F = MSR / MSE\n",
        "alpha = 0.05\n",
        "F_critical = f.ppf(1 - alpha, p, n - p) \n",
        "print(\"F-критерий\",F)\n",
        "print(\"Критическое значение F = \",F_critical)\n",
        "if F > F_critical:\n",
        "    print(\"Отвергаем нулевую гипотезу. Существует значимая зависимость между Y и X.\")\n",
        "else:\n",
        "    print(\"Принимаем нулевую гипотезу. Нет существенной зависимости между Y и X.\")"
      ]
    },
    {
      "cell_type": "markdown",
      "metadata": {
        "id": "T_fzTnM-Lrqd"
      },
      "source": [
        "### 5. Сформулировать модель, включающую дополнительный член с $\\chi^2$. Построить МНК оценки параметров $\\beta_0,\\beta_1,\\beta_2$ в данной модели. Изобразить графически полученную регрессионную зависимость."
      ]
    },
    {
      "cell_type": "markdown",
      "metadata": {},
      "source": [
        "Линейная регрессионная модель переменной Y по переменной X формулируется следующим образом:\n",
        "\n",
        "$Y = \\beta_0 + \\beta_1 X + \\beta_2 X^2 + \\epsilon$"
      ]
    },
    {
      "cell_type": "code",
      "execution_count": 207,
      "metadata": {},
      "outputs": [
        {
          "name": "stdout",
          "output_type": "stream",
          "text": [
            "Оценки параметров:\n",
            "β0 =  6.58111111111111\n",
            "β1 =  1.3492708333333303\n",
            "β2 =  -0.4147569444444419\n"
          ]
        },
        {
          "data": {
            "image/png": "[encoded data removed]",
            "text/plain": [
              "<Figure size 640x480 with 1 Axes>"
            ]
          },
          "metadata": {},
          "output_type": "display_data"
        }
      ],
      "source": [
        "X_2 = X ** 2\n",
        "X_stacked = np.column_stack((np.ones_like(X), X, X_2))\n",
        "\n",
        "\n",
        "beta = np.linalg.lstsq(X_stacked, Y, rcond=None)[0]\n",
        "\n",
        "beta_0 = beta[0]\n",
        "beta_1 = beta[1]\n",
        "beta_2 = beta[2]\n",
        "\n",
        "print(\"Оценки параметров:\")\n",
        "print(\"β0 = \",beta_0)\n",
        "print(\"β1 = \",beta_1)\n",
        "print(\"β2 = \",beta_2)\n",
        "\n",
        "x = np.linspace(min(X), max(X), 100)\n",
        "y = beta_0 + beta_1 * x + beta_2 * x ** 2\n",
        "\n",
        "plt.scatter(X, Y, label='Исходные данные')\n",
        "plt.plot(x, y, 'r', label='Регрессионная модель')\n",
        "plt.xlabel('X')\n",
        "plt.ylabel('Y')\n",
        "plt.title('Модель регрессии с ')\n",
        "plt.legend()\n",
        "plt.show()"
      ]
    },
    {
      "cell_type": "markdown",
      "metadata": {
        "id": "-SOr0-wqg1yA"
      },
      "source": [
        "### 6. Построить несмещенную оценку дисперсии. Провести исследование нормальности ошибок как в пункте 2."
      ]
    },
    {
      "cell_type": "code",
      "execution_count": 215,
      "metadata": {
        "colab": {
          "base_uri": "https://localhost:8080/"
        },
        "id": "WPKmaH4ECLI3",
        "outputId": "ece39252-a294-4702-c992-725f539b7cda"
      },
      "outputs": [
        {
          "name": "stdout",
          "output_type": "stream",
          "text": [
            "Несмещенная оценка дисперсии: 9.681575673469387\n"
          ]
        }
      ],
      "source": [
        "n = len(Y)\n",
        "s_2 = np.var(Y, ddof=1)\n",
        "print(\"Несмещенная оценка дисперсии:\", s_2)"
      ]
    },
    {
      "cell_type": "code",
      "execution_count": 218,
      "metadata": {
        "colab": {
          "base_uri": "https://localhost:8080/",
          "height": 487
        },
        "id": "2PduoLI1gnnS",
        "outputId": "f92291ac-66ab-40ab-93e3-f67d5a9a35b0"
      },
      "outputs": [
        {
          "data": {
            "image/png": "[encoded data removed]",
            "text/plain": [
              "<Figure size 640x480 with 1 Axes>"
            ]
          },
          "metadata": {},
          "output_type": "display_data"
        }
      ],
      "source": [
        "h = 1.8\n",
        "mistakes = Y - X_matrix.dot(beta)\n",
        "bins = np.arange(mistakes.min(), mistakes.max() + h, h)\n",
        "plt.hist(mistakes, bins=bin, edgecolor='black')\n",
        "plt.xlabel('Ошибки')\n",
        "plt.ylabel('Частота')\n",
        "plt.title('Гистограмма ошибок ')\n",
        "plt.show()\n",
        "mistakes.sort()\n"
      ]
    },
    {
      "cell_type": "markdown",
      "metadata": {
        "id": "GtoeXoXeEIhY"
      },
      "source": [
        "$X_1, X_2, \\dots, X_n \\sim \\mathbb{p_{\\theta}(x)}$.\n",
        "\n",
        "$H_0 : p \\equiv N(\\bar{X},s^{2})$\n",
        "\n",
        "$H_A : \\exists x : \\mathbb{p_{\\theta}(x)} \\neq p_{N(\\bar{X},s^{2})}(x)$\n",
        "\n",
        " Оценка параметра - ОМП: $\\hat{\\theta} = (\\bar{X},s^{2})$"
      ]
    },
    {
      "cell_type": "code",
      "execution_count": 223,
      "metadata": {
        "id": "2DOLvT3VEIhY"
      },
      "outputs": [],
      "source": [
        "n = 50\n",
        "alpha =  0.05\n",
        "borders = [-8,-2,0,3,8]\n",
        "mistakes.sort()"
      ]
    },
    {
      "cell_type": "code",
      "execution_count": 224,
      "metadata": {
        "colab": {
          "base_uri": "https://localhost:8080/"
        },
        "id": "kwFTthXDOXTV",
        "outputId": "f3ba1a0d-d677-4cb0-e894-d99fb473deae"
      },
      "outputs": [
        {
          "data": {
            "text/plain": [
              "[-8, -2, 0, 3, 8]"
            ]
          },
          "execution_count": 224,
          "metadata": {},
          "output_type": "execute_result"
        }
      ],
      "source": [
        "borders"
      ]
    },
    {
      "cell_type": "code",
      "execution_count": 225,
      "metadata": {
        "colab": {
          "base_uri": "https://localhost:8080/"
        },
        "id": "GEPJHNoJEIhY",
        "outputId": "ab6d304b-c559-4c23-dd63-cc18aa6e0d73"
      },
      "outputs": [
        {
          "data": {
            "text/plain": [
              "(2.4371615836571438e-14, 9.261725305555554)"
            ]
          },
          "execution_count": 225,
          "metadata": {},
          "output_type": "execute_result"
        }
      ],
      "source": [
        "mu = np.mean(mistakes)\n",
        "s_2 = (1/n)*(np.sum((mistakes - mu)**2))\n",
        "mu, s_2"
      ]
    },
    {
      "cell_type": "code",
      "execution_count": 227,
      "metadata": {
        "id": "U8sehBuVEIhZ"
      },
      "outputs": [
        {
          "name": "stdout",
          "output_type": "stream",
          "text": [
            "[12 14 16  8]\n"
          ]
        }
      ],
      "source": [
        "#абсолютные частоты\n",
        "v, _ = np.histogram(mistakes, bins=borders)\n",
        "print(v)\n"
      ]
    },
    {
      "cell_type": "code",
      "execution_count": 228,
      "metadata": {
        "id": "_KzPvBwrEIhZ"
      },
      "outputs": [
        {
          "name": "stdout",
          "output_type": "stream",
          "text": [
            "4\n",
            "0.9914292659528734\n"
          ]
        }
      ],
      "source": [
        "#теоретические частоты\n",
        "p = []\n",
        "for i in range(1,len(borders)):\n",
        "    p.append(sps.norm(0,np.sqrt(s_2)).cdf(borders[i]) - sps.norm(0,np.sqrt(s_2)).cdf(borders[i - 1]))\n",
        "p = np.array(p)\n",
        "print(len(p))\n",
        "print(np.sum(p))"
      ]
    },
    {
      "cell_type": "code",
      "execution_count": 229,
      "metadata": {
        "id": "IS50WfFnEIhZ"
      },
      "outputs": [],
      "source": [
        "intervals = ['[-8,-2)', '[-2,0)', '[0, 3)','[3,+inf)']"
      ]
    },
    {
      "cell_type": "code",
      "execution_count": 230,
      "metadata": {
        "colab": {
          "base_uri": "https://localhost:8080/",
          "height": 269
        },
        "id": "RF4Pd7s-EIhZ",
        "outputId": "ef96cb37-e266-45a3-9f3f-89da88aa2f80"
      },
      "outputs": [
        {
          "data": {
            "text/html": [
              "<div>\n",
              "<style scoped>\n",
              "    .dataframe tbody tr th:only-of-type {\n",
              "        vertical-align: middle;\n",
              "    }\n",
              "\n",
              "    .dataframe tbody tr th {\n",
              "        vertical-align: top;\n",
              "    }\n",
              "\n",
              "    .dataframe thead th {\n",
              "        text-align: right;\n",
              "    }\n",
              "</style>\n",
              "<table border=\"1\" class=\"dataframe\">\n",
              "  <thead>\n",
              "    <tr style=\"text-align: right;\">\n",
              "      <th></th>\n",
              "      <th>interval</th>\n",
              "      <th>absolute frequences</th>\n",
              "      <th>theoretical frequences</th>\n",
              "    </tr>\n",
              "  </thead>\n",
              "  <tbody>\n",
              "    <tr>\n",
              "      <th>0</th>\n",
              "      <td>[-8,-2)</td>\n",
              "      <td>12</td>\n",
              "      <td>12.562368</td>\n",
              "    </tr>\n",
              "    <tr>\n",
              "      <th>1</th>\n",
              "      <td>[-2,0)</td>\n",
              "      <td>14</td>\n",
              "      <td>12.223363</td>\n",
              "    </tr>\n",
              "    <tr>\n",
              "      <th>2</th>\n",
              "      <td>[0, 3)</td>\n",
              "      <td>16</td>\n",
              "      <td>16.893842</td>\n",
              "    </tr>\n",
              "    <tr>\n",
              "      <th>3</th>\n",
              "      <td>[3,+inf)</td>\n",
              "      <td>8</td>\n",
              "      <td>7.891889</td>\n",
              "    </tr>\n",
              "  </tbody>\n",
              "</table>\n",
              "</div>"
            ],
            "text/plain": [
              "   interval  absolute frequences  theoretical frequences\n",
              "0   [-8,-2)                   12               12.562368\n",
              "1    [-2,0)                   14               12.223363\n",
              "2    [0, 3)                   16               16.893842\n",
              "3  [3,+inf)                    8                7.891889"
            ]
          },
          "execution_count": 230,
          "metadata": {},
          "output_type": "execute_result"
        }
      ],
      "source": [
        "pd.DataFrame({'interval':intervals, 'absolute frequences':v, 'theoretical frequences':p * n})"
      ]
    },
    {
      "cell_type": "markdown",
      "metadata": {
        "id": "KUu2i5QKeak4"
      },
      "source": [
        "Рассчет статистики $\\chi^{2}$:"
      ]
    },
    {
      "cell_type": "code",
      "execution_count": 231,
      "metadata": {
        "colab": {
          "base_uri": "https://localhost:8080/"
        },
        "id": "xKYYkGVwEIhZ",
        "outputId": "e3d4b067-7791-485f-9a07-0a86282a4b54"
      },
      "outputs": [
        {
          "data": {
            "text/plain": [
              "0.3321785373699884"
            ]
          },
          "execution_count": 231,
          "metadata": {},
          "output_type": "execute_result"
        }
      ],
      "source": [
        "np.sum(np.square(v - n * p)/(n * p))"
      ]
    },
    {
      "cell_type": "markdown",
      "metadata": {
        "id": "XxSGkrIWgAUx"
      },
      "source": [
        "Рассчет критического значения на уровне значимости $\\alpha$"
      ]
    },
    {
      "cell_type": "code",
      "execution_count": 232,
      "metadata": {
        "colab": {
          "base_uri": "https://localhost:8080/"
        },
        "id": "1ujegOL3EIhZ",
        "outputId": "da1d80c3-cde6-482f-cd23-9e0e7a4824d7"
      },
      "outputs": [
        {
          "data": {
            "text/plain": [
              "7.814727903251179"
            ]
          },
          "execution_count": 232,
          "metadata": {},
          "output_type": "execute_result"
        }
      ],
      "source": [
        "sps.chi2.ppf(1 - alpha, df = len(v)- 1)"
      ]
    },
    {
      "cell_type": "markdown",
      "metadata": {
        "id": "4cHN5LssK2bN"
      },
      "source": [
        "$\\chi^2 \\approx 0.3321785373699884$\n",
        "\n",
        "$x_{\\alpha} \\approx 7.814727903251179$\n",
        "\n",
        "$\\chi^2 < x_{\\alpha_2}$"
      ]
    },
    {
      "cell_type": "markdown",
      "metadata": {
        "id": "xc7q1RcfEyZM"
      },
      "source": [
        "Статистика $\\chi^{2}$ в пределах критического значения уровня значимости $\\alpha$. Гипотеза $H_{0}$ принимается."
      ]
    },
    {
      "cell_type": "markdown",
      "metadata": {
        "id": "V10SJ8xeycov"
      },
      "source": [
        "Рассчет статистики колмогорова:"
      ]
    },
    {
      "cell_type": "code",
      "execution_count": 233,
      "metadata": {
        "colab": {
          "base_uri": "https://localhost:8080/"
        },
        "id": "4aeav8DAycov",
        "outputId": "d7e60011-9608-44f8-cb0d-7db24fcdf3d8"
      },
      "outputs": [
        {
          "data": {
            "text/plain": [
              "0.5554433768512925"
            ]
          },
          "execution_count": 233,
          "metadata": {},
          "output_type": "execute_result"
        }
      ],
      "source": [
        "D, _  = sps.kstest(mistakes, 'norm', args = [0, np.sqrt(s_2)])\n",
        "eta = np.sqrt(n) * D\n",
        "eta"
      ]
    },
    {
      "cell_type": "markdown",
      "metadata": {
        "id": "hiqMgPVcycow"
      },
      "source": [
        "Рассчет критического значения на уровне значимости 1 - $\\alpha$"
      ]
    },
    {
      "cell_type": "code",
      "execution_count": 234,
      "metadata": {
        "colab": {
          "base_uri": "https://localhost:8080/"
        },
        "id": "RtM7BffWycow",
        "outputId": "1cb743b1-59af-4985-e558-dab8d25c6dad"
      },
      "outputs": [
        {
          "data": {
            "text/plain": [
              "1.3580986393225505"
            ]
          },
          "execution_count": 234,
          "metadata": {},
          "output_type": "execute_result"
        }
      ],
      "source": [
        "sps.kstwobign.ppf(1 - alpha)"
      ]
    },
    {
      "cell_type": "markdown",
      "metadata": {
        "id": "JP2aDOjkycow"
      },
      "source": [
        "$\\hat D_n < x_\\alpha$\n",
        "\n",
        "Статистика Колмогорова оказалась в пределах критического значения уровня значимости $\\alpha$. Гипотеза $H_{0}$ принимается."
      ]
    },
    {
      "cell_type": "markdown",
      "metadata": {
        "id": "X3OJ7fijPtC3"
      },
      "source": [
        "### 7.В предположении нормальности ошибок построить доверительные интервалы для параметров $\\beta_0,\\beta_1,\\beta_2$ уровня доверия $1-\\alpha$. Написать уравнение доверительного эллипсоида уровня доверия $1-\\alpha$. "
      ]
    },
    {
      "cell_type": "markdown",
      "metadata": {
        "id": "yd2_vPwwY2sX"
      },
      "source": [
        "#### Доверительный интервал для $\\beta_{0}$:\n",
        "\n"
      ]
    },
    {
      "cell_type": "code",
      "execution_count": null,
      "metadata": {
        "id": "xP_dMKk8bdN6"
      },
      "outputs": [],
      "source": [
        "beta = [beta_0, beta_1, beta_2]\n",
        "C = np.array([1,0, 0])\n",
        "psi_est = C.T.dot(beta)"
      ]
    },
    {
      "cell_type": "markdown",
      "metadata": {
        "id": "pD8D0oYFY2sY"
      },
      "source": [
        "Элемент диcперсии оценки: $b_{\\psi} = C^{T}(X^{T}X)C$"
      ]
    },
    {
      "cell_type": "code",
      "execution_count": 237,
      "metadata": {
        "colab": {
          "base_uri": "https://localhost:8080/"
        },
        "id": "iFFRR3yOY2sY",
        "outputId": "a320d52a-0583-4f34-8fc7-c9deb9b76dc8"
      },
      "outputs": [
        {
          "data": {
            "text/plain": [
              "0.055555555555555525"
            ]
          },
          "execution_count": 237,
          "metadata": {},
          "output_type": "execute_result"
        }
      ],
      "source": [
        "b = C.T.dot(np.linalg.inv(X_matrix.T.dot(X_matrix))).dot(C)\n",
        "b"
      ]
    },
    {
      "cell_type": "markdown",
      "metadata": {
        "id": "1ysqtQAmY2sY"
      },
      "source": [
        "$x_{\\alpha}: S_{n - r}(x_{\\alpha}) = 1 - \\frac{\\alpha}{2}$"
      ]
    },
    {
      "cell_type": "code",
      "execution_count": 238,
      "metadata": {
        "colab": {
          "base_uri": "https://localhost:8080/"
        },
        "id": "N6vpZNuuY2sZ",
        "outputId": "c8f5fe39-b8ac-4246-da73-cb7110479109"
      },
      "outputs": [
        {
          "data": {
            "text/plain": [
              "2.0106347546964454"
            ]
          },
          "execution_count": 238,
          "metadata": {},
          "output_type": "execute_result"
        }
      ],
      "source": [
        "x_alpha = sps.t(df = n - 2).ppf(1 - alpha/2)\n",
        "x_alpha"
      ]
    },
    {
      "cell_type": "markdown",
      "metadata": {
        "id": "r4e56wG8Y2sZ"
      },
      "source": [
        "Доверительный интервал уровня доверия $1 - \\alpha$:"
      ]
    },
    {
      "cell_type": "code",
      "execution_count": 239,
      "metadata": {
        "colab": {
          "base_uri": "https://localhost:8080/"
        },
        "id": "3TRXz0n2Y2sZ",
        "outputId": "3b50ddf1-5d89-4285-e8ff-0c2fbb2ce6f0"
      },
      "outputs": [
        {
          "name": "stdout",
          "output_type": "stream",
          "text": [
            " Доверительный интервал:[5.1388533630788595, 8.023368859143305]\n"
          ]
        }
      ],
      "source": [
        "left = psi_est - x_alpha * np.sqrt(s_2) * np.sqrt(b)\n",
        "right = psi_est + x_alpha * np.sqrt(s_2) * np.sqrt(b)\n",
        "\n",
        "print(f' Доверительный интервал:[{left}, {right}]')"
      ]
    },
    {
      "cell_type": "markdown",
      "metadata": {
        "id": "8bpx4T-uY2sZ"
      },
      "source": [
        "#### Доверительный интервал для $\\beta_{1}$:"
      ]
    },
    {
      "cell_type": "code",
      "execution_count": 240,
      "metadata": {
        "id": "l4z3oRn_Y2sZ"
      },
      "outputs": [],
      "source": [
        "C = np.array([0, 1, 0])\n",
        "psi_est = C.T.dot(beta)"
      ]
    },
    {
      "cell_type": "code",
      "execution_count": 241,
      "metadata": {
        "colab": {
          "base_uri": "https://localhost:8080/"
        },
        "id": "gLIJohwTY2sZ",
        "outputId": "05dc4b7e-860d-445d-a105-77e9720180b3"
      },
      "outputs": [
        {
          "data": {
            "text/plain": [
              "0.3906249999999994"
            ]
          },
          "execution_count": 241,
          "metadata": {},
          "output_type": "execute_result"
        }
      ],
      "source": [
        "b = C.T.dot(np.linalg.inv(X_matrix.T.dot(X_matrix))).dot(C)\n",
        "b"
      ]
    },
    {
      "cell_type": "code",
      "execution_count": 242,
      "metadata": {
        "colab": {
          "base_uri": "https://localhost:8080/"
        },
        "id": "Pm7eZzYkY2sa",
        "outputId": "22dfd831-4f85-4de1-9d85-76a784dd8e80"
      },
      "outputs": [
        {
          "data": {
            "text/plain": [
              "2.0106347546964454"
            ]
          },
          "execution_count": 242,
          "metadata": {},
          "output_type": "execute_result"
        }
      ],
      "source": [
        "x_alpha = sps.t(df = n - 2).ppf(1 - alpha/2)\n",
        "x_alpha"
      ]
    },
    {
      "cell_type": "markdown",
      "metadata": {
        "id": "Mxd80UI9Y2sa"
      },
      "source": [
        "Доверительный интервал уровня доверия $1 - \\alpha$:"
      ]
    },
    {
      "cell_type": "code",
      "execution_count": 243,
      "metadata": {
        "colab": {
          "base_uri": "https://localhost:8080/"
        },
        "id": "lFZTXBveY2sa",
        "outputId": "144b6ed4-aaa9-49be-899b-70143d2157a0"
      },
      "outputs": [
        {
          "name": "stdout",
          "output_type": "stream",
          "text": [
            " Доверительный интервал:[-2.4750925436132585, 5.173634210279916]\n"
          ]
        }
      ],
      "source": [
        "left = psi_est - x_alpha * np.sqrt(s_2) * np.sqrt(b)\n",
        "right = psi_est + x_alpha * np.sqrt(s_2) * np.sqrt(b)\n",
        "\n",
        "print(f' Доверительный интервал:[{left}, {right}]')"
      ]
    },
    {
      "cell_type": "markdown",
      "metadata": {
        "id": "vubbaSSZe14M"
      },
      "source": [
        "#### Доверительный интервал для $\\beta_{2}$:"
      ]
    },
    {
      "cell_type": "code",
      "execution_count": 244,
      "metadata": {
        "id": "c8s3RYySe14M"
      },
      "outputs": [],
      "source": [
        "C = np.array([0, 0, 1])\n",
        "psi_est = C.T.dot(beta)"
      ]
    },
    {
      "cell_type": "markdown",
      "metadata": {
        "id": "GcfzuqB2e14M"
      },
      "source": [
        "Элемент диcперсии оценки: $b_{\\psi} = C^{T}(X^{T}X)C$"
      ]
    },
    {
      "cell_type": "code",
      "execution_count": 245,
      "metadata": {
        "colab": {
          "base_uri": "https://localhost:8080/"
        },
        "id": "jpKJhCuge14N",
        "outputId": "0fe82ee4-bee5-4460-dc77-323cb8037190"
      },
      "outputs": [
        {
          "data": {
            "text/plain": [
              "0.09201388888888874"
            ]
          },
          "execution_count": 245,
          "metadata": {},
          "output_type": "execute_result"
        }
      ],
      "source": [
        "b = C.T.dot(np.linalg.inv(X_matrix.T.dot(X_matrix))).dot(C)\n",
        "b"
      ]
    },
    {
      "cell_type": "markdown",
      "metadata": {
        "id": "YXg_Y2Zfe14N"
      },
      "source": [
        "$x_{\\alpha}: S_{n - r}(x_{\\alpha}) = 1 - \\frac{\\alpha}{2}$"
      ]
    },
    {
      "cell_type": "code",
      "execution_count": 246,
      "metadata": {
        "colab": {
          "base_uri": "https://localhost:8080/"
        },
        "id": "uRR59ujve14N",
        "outputId": "d68481a1-5a59-4461-d4f1-121277f6cdfc"
      },
      "outputs": [
        {
          "data": {
            "text/plain": [
              "2.0106347546964454"
            ]
          },
          "execution_count": 246,
          "metadata": {},
          "output_type": "execute_result"
        }
      ],
      "source": [
        "x_alpha = sps.t(df = n - 2).ppf(1 - alpha/2)\n",
        "x_alpha"
      ]
    },
    {
      "cell_type": "markdown",
      "metadata": {
        "id": "yBfkMOO2e14N"
      },
      "source": [
        "Доверительный интервал уровня доверия $1 - \\alpha$:"
      ]
    },
    {
      "cell_type": "code",
      "execution_count": 247,
      "metadata": {
        "colab": {
          "base_uri": "https://localhost:8080/"
        },
        "id": "8W9amjhne14N",
        "outputId": "fb2ad742-8661-4acf-d1cf-30da1ba05aa5"
      },
      "outputs": [
        {
          "name": "stdout",
          "output_type": "stream",
          "text": [
            " Доверительный интервал:[-2.2708759871585116, 1.4413620982696336]\n"
          ]
        }
      ],
      "source": [
        "left = psi_est - x_alpha * np.sqrt(s_2) * np.sqrt(b)\n",
        "right = psi_est + x_alpha * np.sqrt(s_2) * np.sqrt(b)\n",
        "\n",
        "print(f' Доверительный интервал:[{left}, {right}]')"
      ]
    },
    {
      "cell_type": "markdown",
      "metadata": {
        "id": "yPXNDGL2gqkr"
      },
      "source": [
        "#### Уравнение доверительного эллипсоида:"
      ]
    },
    {
      "cell_type": "code",
      "execution_count": 249,
      "metadata": {
        "colab": {
          "base_uri": "https://localhost:8080/"
        },
        "id": "jqDzaaWpgueS",
        "outputId": "b35962cc-17ab-4dcb-a860-41ab756af5e3"
      },
      "outputs": [
        {
          "data": {
            "text/plain": [
              "array([[1, 0, 0],\n",
              "       [0, 1, 0],\n",
              "       [0, 0, 1]])"
            ]
          },
          "execution_count": 249,
          "metadata": {},
          "output_type": "execute_result"
        }
      ],
      "source": [
        "C = np.diag(np.full(3,1))\n",
        "C"
      ]
    },
    {
      "cell_type": "code",
      "execution_count": 250,
      "metadata": {
        "colab": {
          "base_uri": "https://localhost:8080/"
        },
        "id": "lpsih3SnhHrQ",
        "outputId": "62e24e68-09f0-4d8e-e13a-6c67127414bc"
      },
      "outputs": [
        {
          "name": "stdout",
          "output_type": "stream",
          "text": [
            "Неравенство эллипса: 50.0000000000002*x**2 + 96.0000000000005*x*y + 160.000000000001*x*z - 2342.87555555556*x + 80.0000000000003*y**2 + 288.000000000001*y*z - 3580.12444444444*y + 272.000000000001*z**2 - 6528.46222222222*z + 40972.2281901232 <= 59.103280220593675\n"
          ]
        }
      ],
      "source": [
        "psi_est = C.T.dot(beta)\n",
        "B = C.T.dot(np.linalg.inv(X_matrix.T.dot(X_matrix))).dot(C)\n",
        "x_symbol = sympy.Symbol('x')\n",
        "y_symbol = sympy.Symbol('y')\n",
        "z_symbol = sympy.Symbol('z')\n",
        "\n",
        "x_vec = np.matrix([[x_symbol], [y_symbol], [z_symbol]])\n",
        "expr = (x_vec - psi_est).T * inv(B) * (x_vec - psi_est)\n",
        "print(f\"Неравенство эллипса: {expr[0,0].as_poly().as_expr()} <= {2 * s_2 * sps.f(2, n - 2).ppf(1 - alpha)}\")"
      ]
    },
    {
      "cell_type": "markdown",
      "metadata": {
        "id": "MFzTzgRQeV_9"
      },
      "source": [
        "Рассчет полуосей:"
      ]
    },
    {
      "cell_type": "code",
      "execution_count": 251,
      "metadata": {
        "colab": {
          "base_uri": "https://localhost:8080/"
        },
        "id": "jKpp6Cv4b0yM",
        "outputId": "5d100096-7a15-4c0d-840a-72a351c3ee78"
      },
      "outputs": [
        {
          "data": {
            "text/plain": [
              "array([0.04964881, 0.19543598, 0.6766097 ])"
            ]
          },
          "execution_count": 251,
          "metadata": {},
          "output_type": "execute_result"
        }
      ],
      "source": [
        "cov = inv(B)\n",
        "eigenvalues, _ = np.linalg.eig(cov)\n",
        "np.sqrt(1/eigenvalues * (alpha * 2 * s_2))"
      ]
    },
    {
      "cell_type": "markdown",
      "metadata": {
        "id": "IdErXVl4cPpq"
      },
      "source": [
        "Первая полуось $≈$ 0.04964881\n",
        "\n",
        "Вторая полуось $≈$ 0.19543598\n",
        "\n",
        "Третья полуось $≈$ 0.6766097"
      ]
    },
    {
      "cell_type": "markdown",
      "metadata": {
        "id": "bb3X2UaOCsVj"
      },
      "source": [
        "### 8.Сформулировать гипотезу линейной регрессионной зависимости переменной Y от X и проверить ее значимость на уровне $\\alpha$"
      ]
    },
    {
      "cell_type": "markdown",
      "metadata": {
        "id": "ZUpTegNFb8aU"
      },
      "source": [
        "$H_{0}: \\bar\\beta = (0, \\hat\\beta_{1}, 0)^{T}$\n",
        "\n",
        "$H_{A}: \\beta_{1} \\not= (0, \\hat\\beta_{1}, 0)^{T}$"
      ]
    },
    {
      "cell_type": "markdown",
      "metadata": {
        "id": "NnenAwpQkDEf"
      },
      "source": [
        "Рассчет F - статистики:"
      ]
    },
    {
      "cell_type": "code",
      "execution_count": 8,
      "metadata": {},
      "outputs": [
        {
          "name": "stdout",
          "output_type": "stream",
          "text": [
            "F = 0.3937126354426744\n",
            "Критическое значение = 2.80235517609617\n",
            "Гипотеза линейной регрессионной зависимости переменной Y от переменной X не значима на уровне 0.05.\n"
          ]
        }
      ],
      "source": [
        "import numpy as np\n",
        "from scipy.stats import f\n",
        "beta_0 = 6.58\n",
        "beta_1 = 1.35\n",
        "beta_2 = -0.41\n",
        "X = np.array([2, 2, 2, 1, 0, 0, 1, 1, 1, 1, 1, 0, 1, 0, 0, 2, 2, 2, 2, 0, 1, 2, 0, 1, 1, 2, 0, 2, 1, 0, 0, 2, 2, 2, 0,\n",
        "                0, 1, 1, 1, 2, 0, 1, 0, 0, 0, 0, 2, 0, 1, 2])\n",
        "Y = np.array([8.03, 4.91, 1.08, 10.58, 3.25, 0.62, 9.49, 8.29, 11.45, 7.55, 9.87, 8.29, 3.76, 11.56, 7.84, 13.96, 7.3,\n",
        "                4.66, 10.0, 4.33, 2.53, 7.43, 6.15, 3.39, 7.07, 3.62, 5.81, 7.42, 2.23, 5.05, 6.81, 12.86, 7.15, 10.54,\n",
        "                9.94, 8.12, 4.52, 11.2, 7.23, 7.75, 9.45, 7.32, 5.58, 9.0, 7.02, 4.92, 9.29, 4.72, 13.77, 5.93])\n",
        "SSR = np.sum((beta_0 + beta_1 * X + beta_2 * X ** 2 - np.mean(Y)) ** 2)\n",
        "n=50\n",
        "SSE = np.sum((Y - (beta_0 + beta_1 * X + beta_2 * X ** 2)) ** 2)\n",
        "p = 3\n",
        "# Выводим общую сумму квадратов отклонений\n",
        "SST = SSE + SSR\n",
        "MSE = SSE / (n - p)  # среднеквадратичное отклонение остатков\n",
        "MSR = SSR / p  # среднеквадратичное отклонение объясненных отклонений\n",
        "F = MSR / MSE  # вычисляем значение F-критерия\n",
        "\n",
        "alpha = 0.05\n",
        "\n",
        "F_critical = f.ppf(1 - alpha, p, n - p)  # критическое значение F-критерия\n",
        "\n",
        "print(\"F =\",F)\n",
        "print(\"Критическое значение =\", F_critical)\n",
        "# Проверка значимости гипотезы\n",
        "if F_critical < 0.05:\n",
        "    print(\"Гипотеза линейной регрессионной зависимости переменной Y от переменной X значима на уровне 0.05.\")\n",
        "else:\n",
        "    print(\"Гипотеза линейной регрессионной зависимости переменной Y от переменной X не значима на уровне 0.05.\")"
      ]
    },
    {
      "cell_type": "markdown",
      "metadata": {
        "id": "cRKavl_skDEg"
      },
      "source": [
        "$F < x_\\alpha $ - гипотеза отвергается"
      ]
    },
    {
      "cell_type": "markdown",
      "metadata": {
        "id": "lCPF7OH4L_0I"
      },
      "source": [
        "## Выводы"
      ]
    },
    {
      "cell_type": "markdown",
      "metadata": {
        "id": "_EWUXzVROoxS"
      },
      "source": [
        "В процессе выполнения практической работы был изучен регрессионный анализ, который представляет собой важный инструмент как в области статистики, так и в машинном обучении. В рамках работы были выполнены несколько этапов: построение регрессионной модели, оценка параметров модели и их значимость, проверка гипотезы о независимости и линейной регрессионной зависимости, а также оценка нормальности ошибок и создание доверительных интервалов и эллипсов.Для решения поставленных задач использовались специализированные библиотеки и функции языка программирования Python. Например, одной из таких библиотек является SciPy, которая предоставляет классы и функции для выполнения различных статистических вычислений. Для оценки расстояния полученной оценки до класса нормальных распределений был использован критерий Колмогорова, доступный в библиотеке SciPy, с помощью функций kstest или scipy.stats."
      ]
    }
  ],
  "metadata": {
    "colab": {
      "provenance": []
    },
    "kernelspec": {
      "display_name": "Python 3",
      "name": "python3"
    },
    "language_info": {
      "codemirror_mode": {
        "name": "ipython",
        "version": 3
      },
      "file_extension": ".py",
      "mimetype": "text/x-python",
      "name": "python",
      "nbconvert_exporter": "python",
      "pygments_lexer": "ipython3",
      "version": "3.9.13"
    }
  },
  "nbformat": 4,
  "nbformat_minor": 0
}
