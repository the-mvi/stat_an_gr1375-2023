{
  "cells": [
    {
      "cell_type": "markdown",
      "metadata": {
        "id": "5OelOlEII-VF"
      },
      "source": [
        "# Практическая работа №3: Регрессионный анализ\n",
        "Выполнила студентка гр. 1375 Сницарь Валерия. Вариант №25"
      ]
    },
    {
      "cell_type": "markdown",
      "metadata": {
        "id": "xe8_Nk45I-VM"
      },
      "source": [
        "## Цель работы\n",
        "Ознакомление с основными положениями метода наименьших квадратов (МНК), со статистическими свойствами МНК-оценок, с понятием функции регрессии и роли МНК в регрессионном анализе."
      ]
    },
    {
      "cell_type": "markdown",
      "metadata": {
        "id": "6uAzcfMZI-VN"
      },
      "source": [
        "## Основные теоретические положения\n",
        "1.Линейная регрессионная модель/\n",
        "Линейная регрессия некоторой зависимой переменной $y$ на наборе независимых переменных $x = (x_1, …, x_n)$, где n – это число наблюдений, предполагает, что линейное отношение между $y$ и $x$: $y =\\beta_0  + \\beta_1 x_1 + ⋯ + \\beta_n x_n + \\varepsilon$ - уравнение регрессии. $\\beta_0, \\beta_1, …, \\beta_n$ – коэффициенты регрессии (параметры), и $\\varepsilon$ – случайная ошибка.\n",
        "\n",
        "2.МНК (Метод Наименьших Квадратов)\n",
        "$RSS(\\beta)=\\left\\| Y-X^{\\intercal}\\beta \\right\\|=(Y-X^{\\intercal}\\beta)^{\\intercal}\\cdot(Y-X^{\\intercal}\\beta)\\to min\\beta$\n",
        "\n",
        "Нормальные уравнения: $XX^{\\intercal}\\beta=XY$\\\n",
        "Решение системы нормальных уравнений в регулярном случае: $\\widehat{\\beta}=(XX^{\\intercal})^{-1}XY$\n",
        "\n",
        "$RSS(\\beta)=\\sum_{i=1}^{n}\\left( Y_{i}-\\sum_{j=1}^{m}x_{ji}\\beta_{j} \\right)^{2}$\n",
        "\n",
        "$\\frac{\\partial RSS}{\\partial \\beta_{k}} = -2\\sum_{i=1}^{n}x_{ki}\\left(Y_{i}- \\sum_{j=1}^{m}x_{ji}\\beta_{j}\\right)=0, k=1...m$\n",
        "\n",
        "3.Доверительный интервал\n",
        "ДНО функции:$\\psi=C^{\\intercal}\\beta$\\\n",
        "МНК-оценка: $\\widehat{\\psi}=C^{\\intercal}\\beta$\n",
        "\n",
        "Элемент дисперсии оценки: $b_{\\psi}=C^{\\intercal}(XX^{\\intercal})^{-1}C$\\\n",
        "Распределение $\\widehat{\\psi} \\sim \\mathcal{N}(\\psi,\\sigma^{2}b)$\\\n",
        "$\\displaystyle \\frac{\\widehat{\\psi}-\\psi}{S\\sqrt{b}} \\sim \\mathcal{S}_{n-r}$\n",
        "\n",
        "Доверительный интервал уровня доверия $1-\\alpha: \\left[ \\widehat{\\psi} - X_{\\alpha}S\\sqrt{b},\\widehat{\\psi} + X_{\\alpha}S\\sqrt{b} \\right]$,\\\n",
        "где $\\displaystyle X_{\\alpha}: \\mathcal{S}_{n-r}(X_{\\alpha})=1-\\frac{\\alpha}{2}$\n",
        "\n",
        "5.Уравнение доверительного эллипсоида: $A_{\\alpha}=\\left\\{ \\overrightarrow{X}:(\\overrightarrow{X}-\\widehat{\\psi})^{\\intercal}B^{-1}(\\overrightarrow{X}-\\widehat{\\psi})\\le qS^{2}X_{\\alpha} \\right\\}$\n",
        "\n",
        "6.Критерий $\\chi^2$ для проверки гипотез\n",
        "\n",
        "Если $\\mathcal{X}^{2}_{N-1,1-\\alpha_{1}} \\lt \\chi^2_{набл}$, то гипотезу отвергаем\n",
        "\n",
        "Если $\\mathcal{X}^{2}_{N-1,1-\\alpha_{1}} \\gt \\chi^2_{набл}$, то гипотезу принимаем\n"
      ]
    },
    {
      "cell_type": "markdown",
      "metadata": {
        "id": "X2xadqVdI-VN"
      },
      "source": [
        "## Постановка задачи\n",
        "Результаты статистического эксперимента представлены в виде двух переменных. Требуется оценить характер (случайной) зависимости переменной Y\n",
        " от переменной X\n",
        ". Полученные результаты содержательно проинтерпретировать."
      ]
    },
    {
      "cell_type": "code",
      "source": [
        "import scipy.optimize as spo\n",
        "import scipy.stats as sps\n",
        "import matplotlib.pyplot as plt"
      ],
      "metadata": {
        "id": "0H72H2TLsz4A"
      },
      "execution_count": 10,
      "outputs": []
    },
    {
      "cell_type": "markdown",
      "metadata": {
        "id": "rjS5vppWI-VO"
      },
      "source": [
        "## Выполнение работы\n",
        "1. Построить графически результаты эксперимента. Сформулировать линейную регрессионную модель переменной Y по переменной X. Построить метод наименьшего квадрата оценки параметров сдвига  β0  и масштаба  β1 . Построить полученную линию регрессии. Оценить визуально соответствие полученных данных и построенной оценки\n",
        "\n",
        "  * Линейная регрессионная модель переменной Y по переменной X:\n",
        "  $Y = \\beta_0 + \\beta_1X + \\varepsilon,$ $\\mathbb{E}_\\theta e = 0,Var_\\theta e = \\sigma^2 E$\n"
      ]
    },
    {
      "cell_type": "code",
      "source": [
        "from mpl_toolkits import mplot3d\n",
        "import numpy as np\n",
        "\n",
        "X = np.array([4, 8, 9, 4, 7, 2, 6, 8, 1, 2, 7, 0, 4, 4, 7, 0, 4, 6, 3, 4, 7, 2, 9, 8, 1, 3, 2, 9, 7, 4, 4, 4, 8, 0, 8, 9, 4, 7, 1, 8, 6, 1, 7, 3, 6, 7, 7, 9, 2, 8])\n",
        "Y = np.array([0.02, 6.35, 5.48, 0.38, 0.94, 3.69, 2.23, 5.75, 8.57, 5.88, 2.80, 2.22, 0.48, 4.23, 1.36, 8.83, 2.22, 6.23, 0.01, 3.38, 3.01, 0.78, 5.13, 11.22, 2.00, 3.11, 7.64, 11.31, 3.53, 7.77, 0.84, 4.91, 9.77, 3.52, 12.50, 5.52, 8.27, 4.41, 7.68, 6.39, 4.45, 12.28, 8.04, 6.74, 3.30, 1.04, 5.87, 6.72, 5.42, 7.31])\n",
        "\n",
        "plt.title('График зависимости Y от X')\n",
        "plt.xlabel('X', fontsize=13)\n",
        "plt.ylabel('Y', fontsize=13)\n",
        "plt.scatter(X, Y, color='red')\n",
        "plt.show()"
      ],
      "metadata": {
        "colab": {
          "base_uri": "https://localhost:8080/",
          "height": 476
        },
        "id": "PV4MYyxRsTFB",
        "outputId": "3376afcf-4ea6-4055-e916-5a919cefc79e"
      },
      "execution_count": 11,
      "outputs": [
        {
          "output_type": "display_data",
          "data": {
            "text/plain": [
              "<Figure size 640x480 with 1 Axes>"
            ],
            "image/png": "[encoded data removed]"
          },
          "metadata": {}
        }
      ]
    },
    {
      "cell_type": "markdown",
      "source": [
        "  * Нормальные уравнения: $ X X^{\\intercal} \\beta = X Y $\n",
        "  * Решение системы нормальных уравнений в регулярном случае $\\hat{\\beta} = (X X^{\\intercal})^{-1} XY $"
      ],
      "metadata": {
        "id": "Bx6AooXRwA5j"
      }
    },
    {
      "cell_type": "code",
      "source": [
        "import numpy as np\n",
        "from numpy.linalg import matrix_power\n",
        "X = np.array([[1]*50, [4, 8, 9, 4, 7, 2, 6, 8, 1, 2, 7, 0, 4, 4, 7, 0, 4, 6, 3, 4, 7, 2, 9, 8, 1, 3, 2, 9, 7, 4, 4, 4, 8, 0, 8, 9, 4, 7, 1, 8, 6, 1, 7, 3, 6, 7, 7, 9, 2, 8]])\n",
        "Y = np.array([0.02, 6.35, 5.48, 0.38, 0.94, 3.69, 2.23, 5.75, 8.57, 5.88, 2.80, 2.22, 0.48, 4.23, 1.36, 8.83, 2.22, 6.23, 0.01, 3.38, 3.01, 0.78, 5.13, 11.22, 2.00, 3.11, 7.64, 11.31, 3.53, 7.77, 0.84, 4.91, 9.77, 3.52, 12.50, 5.52, 8.27, 4.41, 7.68, 6.39, 4.45, 12.28, 8.04, 6.74, 3.30, 1.04, 5.87, 6.72, 5.42, 7.31])\n",
        "\n",
        "XT = X.transpose()\n",
        "\n",
        "XXT = np.dot(X, XT)\n",
        "\n",
        "XY = np.dot(X, Y)\n",
        "\n",
        "b = np.dot(np.linalg.inv(XXT), XY)\n",
        "\n",
        "print(\"b0:\", round(b[0], 10), \"b1:\", round(b[1], 10))\n"
      ],
      "metadata": {
        "colab": {
          "base_uri": "https://localhost:8080/"
        },
        "id": "fRi4D8VJwJst",
        "outputId": "93272baf-576a-4808-868b-abc8d8ca76c0"
      },
      "execution_count": 12,
      "outputs": [
        {
          "output_type": "stream",
          "name": "stdout",
          "text": [
            "b0: 4.1237348964 b1: 0.180650419\n"
          ]
        }
      ]
    },
    {
      "cell_type": "markdown",
      "source": [
        "  * МНК-оценки параметров\n",
        "$ \\hat{\\beta} = \\left(\\begin{array}{c} \\hat\\beta_0 \\\\ \\hat\\beta_1 \\end{array} \\right) = \\left(\\begin{array}{c} 4.1237348964 \\\\ 0.180650419 \\end{array} \\right) \\rightarrow Y \\approx 4.1237348964 + 0.180650419X$\n"
      ],
      "metadata": {
        "id": "QfcZrHWT3CM7"
      }
    },
    {
      "cell_type": "code",
      "source": [
        "X = np.array([[1]*50, [4, 8, 9, 4, 7, 2, 6, 8, 1, 2, 7, 0, 4, 4, 7, 0, 4, 6, 3, 4, 7, 2, 9, 8, 1, 3, 2, 9, 7, 4, 4, 4, 8, 0, 8, 9, 4, 7, 1, 8, 6, 1, 7, 3, 6, 7, 7, 9, 2, 8]])\n",
        "Y = np.array([0.02, 6.35, 5.48, 0.38, 0.94, 3.69, 2.23, 5.75, 8.57, 5.88, 2.80, 2.22, 0.48, 4.23, 1.36, 8.83, 2.22, 6.23, 0.01, 3.38, 3.01, 0.78, 5.13, 11.22, 2.00, 3.11, 7.64, 11.31, 3.53, 7.77, 0.84, 4.91, 9.77, 3.52, 12.50, 5.52, 8.27, 4.41, 7.68, 6.39, 4.45, 12.28, 8.04, 6.74, 3.30, 1.04, 5.87, 6.72, 5.42, 7.31])\n",
        "b = np.array([4.1237348964, 0.180650419])\n",
        "\n",
        "XT = X.transpose()\n",
        "\n",
        "plt.title('Линия регрессии')\n",
        "plt.xlabel('X', fontsize=13)\n",
        "plt.ylabel('Y', fontsize=13)\n",
        "plt.scatter(X[1], Y, color='red')\n",
        "plt.plot(X[1], np.dot(XT, b), 'green')\n",
        "plt.show()"
      ],
      "metadata": {
        "colab": {
          "base_uri": "https://localhost:8080/",
          "height": 476
        },
        "id": "Qmc1yXvc3SZj",
        "outputId": "c089098b-544a-4012-c470-e3dba70feb4d"
      },
      "execution_count": 13,
      "outputs": [
        {
          "output_type": "display_data",
          "data": {
            "text/plain": [
              "<Figure size 640x480 with 1 Axes>"
            ],
            "image/png": "[encoded data removed]"
          },
          "metadata": {}
        }
      ]
    },
    {
      "cell_type": "markdown",
      "source": [
        "Визуально оценивая полученные данные и построенную оценку, можно сказать, что оценка по линии регрессии соответствует исходным данным."
      ],
      "metadata": {
        "id": "5xwuslVU9IK4"
      }
    },
    {
      "cell_type": "markdown",
      "source": [
        "2. Построить и интерпретировать несмещённую оценку дисперсии. На базе ошибок построить гистограмму с шагом h. Проверить гипотезу нормальности ошибок на уровне значимости $\\alpha$ по $\\chi^2$ . Оценить расстояние полученной оценки до класса нормальных распределений по Колмогорову. Визуально оценить данный факт."
      ],
      "metadata": {
        "id": "EZZJrccHGcxz"
      }
    },
    {
      "cell_type": "markdown",
      "source": [
        "  * Несмещённая оценка дисперсии находится по формуле\\\n",
        "$ \\displaystyle s^2 =  \\frac{SS_e}{ n - r } = \\frac{RSS( \\hat{\\beta} )}{ n - r } = \\frac{(Y - X^{\\intercal} \\hat{\\beta})^{\\intercal} (Y - X^{\\intercal} \\hat{\\beta})}{n - r},$ $r$ - ранг матрицы $X,$ $n$ - кол-во пар-ов"
      ],
      "metadata": {
        "id": "2vcI3WbIHz4T"
      }
    },
    {
      "cell_type": "code",
      "source": [
        "from numpy.linalg import matrix_rank\n",
        "X = np.array([[1]*50, [4, 8, 9, 4, 7, 2, 6, 8, 1, 2, 7, 0, 4, 4, 7, 0, 4, 6, 3, 4, 7, 2, 9, 8, 1, 3, 2, 9, 7, 4, 4, 4, 8, 0, 8, 9, 4, 7, 1, 8, 6, 1, 7, 3, 6, 7, 7, 9, 2, 8]])\n",
        "Y = np.array([0.02, 6.35, 5.48, 0.38, 0.94, 3.69, 2.23, 5.75, 8.57, 5.88, 2.80, 2.22, 0.48, 4.23, 1.36, 8.83, 2.22, 6.23, 0.01, 3.38, 3.01, 0.78, 5.13, 11.22, 2.00, 3.11, 7.64, 11.31, 3.53, 7.77, 0.84, 4.91, 9.77, 3.52, 12.50, 5.52, 8.27, 4.41, 7.68, 6.39, 4.45, 12.28, 8.04, 6.74, 3.30, 1.04, 5.87, 6.72, 5.42, 7.31])\n",
        "b = np.array([4.1237348964, 0.180650419])\n",
        "\n",
        "n = 50\n",
        "r = np.linalg.matrix_rank(X)\n",
        "XT = X.transpose()\n",
        "\n",
        "e = Y - np.dot(XT, b)\n",
        "eT = e.transpose()\n",
        "\n",
        "s_2 = np.dot(eT, e) / (n - r)\n",
        "\n",
        "print(\"Несмещённая оценка дисперсии =\", round(s_2, 10))\n"
      ],
      "metadata": {
        "colab": {
          "base_uri": "https://localhost:8080/"
        },
        "id": "QZkbGkrzIyr7",
        "outputId": "7c9d0070-8963-4cb7-b00b-45247339056e"
      },
      "execution_count": 14,
      "outputs": [
        {
          "output_type": "stream",
          "name": "stdout",
          "text": [
            "Несмещённая оценка дисперсии = 10.7428101134\n"
          ]
        }
      ]
    },
    {
      "cell_type": "markdown",
      "source": [
        "  * $ \\displaystyle s^2 \\approx 10.7428101134$"
      ],
      "metadata": {
        "id": "CiddcsRyKvdk"
      }
    },
    {
      "cell_type": "markdown",
      "source": [
        "  * На базе ошибок построим гистограмму с шагом $h = 2.20$"
      ],
      "metadata": {
        "id": "oomDev5NLrfm"
      }
    },
    {
      "cell_type": "code",
      "source": [
        "from scipy.stats import chisquare, kstest, norm, chi2, stats, t\n",
        "from numpy.linalg import matrix_rank\n",
        "import numpy as np\n",
        "X = np.array([4, 8, 9, 4, 7, 2, 6, 8, 1, 2, 7, 0, 4, 4, 7, 0, 4, 6, 3, 4, 7, 2, 9, 8, 1, 3, 2, 9, 7, 4, 4, 4, 8, 0, 8, 9, 4, 7, 1, 8, 6, 1, 7, 3, 6, 7, 7, 9, 2, 8])\n",
        "Y = np.array([0.02, 6.35, 5.48, 0.38, 0.94, 3.69, 2.23, 5.75, 8.57, 5.88, 2.80, 2.22, 0.48, 4.23, 1.36, 8.83, 2.22, 6.23, 0.01, 3.38, 3.01, 0.78, 5.13, 11.22, 2.00, 3.11, 7.64, 11.31, 3.53, 7.77, 0.84, 4.91, 9.77, 3.52, 12.50, 5.52, 8.27, 4.41, 7.68, 6.39, 4.45, 12.28, 8.04, 6.74, 3.30, 1.04, 5.87, 6.72, 5.42, 7.31])\n",
        "b = np.array([4.1237348964, 0.180650419])\n",
        "\n",
        "Y_1 = b[0] + b[1] * X\n",
        "err = Y - Y_1\n",
        "err_mi = min(err)\n",
        "err_ma = max(err)\n",
        "\n",
        "h = 2.20\n",
        "plt.hist(err, bins = np.arange(err_mi, err_ma + h, h),edgecolor='red', color='green')\n",
        "plt.title('Гистограмма на базе ошибок')\n",
        "plt.xlabel('Ошибки', fontsize=13)\n",
        "plt.ylabel('Частота', fontsize=13)\n",
        "plt.show()"
      ],
      "metadata": {
        "colab": {
          "base_uri": "https://localhost:8080/",
          "height": 476
        },
        "id": "IRub8-SqMZWj",
        "outputId": "df11abb2-bcc7-46a5-edba-d90247bc9612"
      },
      "execution_count": 15,
      "outputs": [
        {
          "output_type": "display_data",
          "data": {
            "text/plain": [
              "<Figure size 640x480 with 1 Axes>"
            ],
            "image/png": "[encoded data removed]"
          },
          "metadata": {}
        }
      ]
    },
    {
      "cell_type": "markdown",
      "source": [
        "* **Проверка гипотезы нормальности**\n",
        "\n",
        "Основная гипотеза $H_0$: $\\vec{\\epsilon} \\sim \\mathcal{N}(0, \\sigma^2)$\n"
      ],
      "metadata": {
        "id": "JKsMac5pxf7D"
      }
    },
    {
      "cell_type": "code",
      "source": [
        "a = 0\n",
        "sigma = 10.74**0.5\n",
        "alpha = 0.01\n",
        "\n",
        "inters = [[-np.inf, -2.7], [-2.7, 0], [0, 3], [3,np.inf]]\n",
        "\n",
        "def p(x):\n",
        "    return norm.cdf(x, a, sigma)\n",
        "\n",
        "cr = 0\n",
        "for inter in inters:\n",
        "    p_ = p(inter[1]) - p(inter[0])\n",
        "    n_ = len([x for x in err if inter[0] < x <= inter[1]])\n",
        "    n_p = len(err)*p_\n",
        "    temp = ((n_-n_p)**2)/(n_p)\n",
        "    cr += temp\n",
        "    print(inter ,'n =', n_, 'p =',round(p_, 2), 'np =', round(n_p, 2), ' ', round(temp, 2))\n",
        "\n",
        "print(cr)"
      ],
      "metadata": {
        "colab": {
          "base_uri": "https://localhost:8080/"
        },
        "id": "6WPd4iEG1Ym-",
        "outputId": "16af2210-d373-4f48-b705-5db6ef46fc9a"
      },
      "execution_count": 68,
      "outputs": [
        {
          "output_type": "stream",
          "name": "stdout",
          "text": [
            "[-inf, -2.7] n = 10 p = 0.21 np = 10.25   0.01\n",
            "[-2.7, 0] n = 17 p = 0.29 np = 14.75   0.34\n",
            "[0, 3] n = 13 p = 0.32 np = 16.0   0.56\n",
            "[3, inf] n = 10 p = 0.18 np = 9.0   0.11\n",
            "1.0234191830893076\n"
          ]
        }
      ]
    },
    {
      "cell_type": "markdown",
      "source": [
        "$I_1 = (\\infty, -2.7]$ $n_1 = 10$  $p_1 = 0.21$  $np_1 = 10.25$   $\\frac{(n_1-np_1)^{2}}{np_1} = 0.01$\n",
        "\n",
        "$I_2 = (-2.7, 0]$ $n_2 = 17$  $p_2 = 0.29$  $np_2 = 14.75$   $\\frac{(n_2-np_2)^{2}}{np_2} = 0.34$\n",
        "\n",
        "$I_3 = (0, 3]$ $n_3 = 13$  $p_3 = 0.32$  $np_3 = 16.0$   $\\frac{(n_3-np_3)^{2}}{np_3} = 0.56$\n",
        "\n",
        "$I_4 = (3, \\infty)$ $n_4 = 10$  $p_4 = 0.18$  $np_4 = 9.0$   $\\frac{(n_4-np_4)^{2}}{np_4} = 0.11$\n",
        "\n",
        "$\\mathcal{X}^2 = \\sum_{i=1}^{4}\\frac{(n_i - np_i)^2}{np_i} = 1.02$\n",
        "\n",
        "$\\mathcal{X}^2_{N-1,\\alpha} = \\mathcal{X}^2_{3,0.01} \\simeq 11.34$(табличное значение)\n",
        "\n",
        "$\\mathcal{X}^{2} <  \\mathcal{X}^2_{3,0.01} \\Rightarrow$ нет оснований отвергнуть гипотезу\n"
      ],
      "metadata": {
        "id": "rb3VCVB33Dmw"
      }
    },
    {
      "cell_type": "markdown",
      "source": [
        "* Оценка расстояния до класса нормальных распределений по Колмогорову"
      ],
      "metadata": {
        "id": "_ibtAyPg7Kzw"
      }
    },
    {
      "cell_type": "markdown",
      "source": [
        "Выборочный критерий Колмогорова $\\eta = \\sqrt{n}D_n$"
      ],
      "metadata": {
        "id": "7qrk8NE37mk8"
      }
    },
    {
      "cell_type": "code",
      "source": [
        "sigma = np.sqrt(10.74)\n",
        "\n",
        "Dn, _ = kstest(X, norm.cdf(x, loc = 0, scale = sigma))\n",
        "eta = n**0.5 * Dn\n",
        "print('Критерий Колмогорова:',eta)"
      ],
      "metadata": {
        "colab": {
          "base_uri": "https://localhost:8080/"
        },
        "id": "_XT5ghVR7pgP",
        "outputId": "634cb04c-5c53-4feb-c326-2d518239e716"
      },
      "execution_count": 72,
      "outputs": [
        {
          "output_type": "stream",
          "name": "stdout",
          "text": [
            "Критерий Колмогорова: 6.646803743153547\n"
          ]
        }
      ]
    },
    {
      "cell_type": "markdown",
      "source": [
        "Уровень значимости $\\alpha = 0.01$.\n",
        "\n",
        "Квантиль $d_{1 - \\alpha}$\n"
      ],
      "metadata": {
        "id": "imJwPeJW9A9M"
      }
    },
    {
      "cell_type": "code",
      "source": [
        "from scipy.stats import kstwobign\n",
        "d = kstwobign.ppf(1 - alpha)\n",
        "print('Квантиль: ', d)"
      ],
      "metadata": {
        "colab": {
          "base_uri": "https://localhost:8080/"
        },
        "id": "ada0m_mD9UI7",
        "outputId": "e31c827b-971c-4f35-946e-74084085c719"
      },
      "execution_count": 74,
      "outputs": [
        {
          "output_type": "stream",
          "name": "stdout",
          "text": [
            "Квантиль:  1.6276236115189502\n"
          ]
        }
      ]
    },
    {
      "cell_type": "markdown",
      "source": [
        "Критическая область $V_k = (d_{1 - \\alpha},+ \\infty)  = (1.63, + \\infty)$\n",
        "\n",
        "$\\eta \\in V_k \\Rightarrow$ гипотеза отвергается."
      ],
      "metadata": {
        "id": "6NhZ_wu09wWP"
      }
    },
    {
      "cell_type": "code",
      "source": [
        "y, edges, _= plt.hist(err, edgecolor='black', bins=np.arange(err_mi, err_ma + h, h), weights=np.ones_like(err) / n)\n",
        "values = np.linspace(min(err), max(err), 100)\n",
        "\n",
        "plt.title('Гистограмма ошибок')\n",
        "plt.xlabel('Ошибки', fontsize=13)\n",
        "plt.ylabel('Частота', fontsize=13)\n",
        "plt.plot(values, norm.pdf(values, np.array(err).mean(), np.array(err).std()), color='red')\n",
        "plt.show()\n"
      ],
      "metadata": {
        "colab": {
          "base_uri": "https://localhost:8080/",
          "height": 476
        },
        "id": "qA2FzY3n-tFw",
        "outputId": "114e5064-4d6b-4850-80d2-d6aedfde80d9"
      },
      "execution_count": 82,
      "outputs": [
        {
          "output_type": "display_data",
          "data": {
            "text/plain": [
              "<Figure size 640x480 with 1 Axes>"
            ],
            "image/png": "[encoded data removed]"
          },
          "metadata": {}
        }
      ]
    },
    {
      "cell_type": "markdown",
      "source": [
        "Распределение ошибок визуально не похоже на нормальное распределение."
      ],
      "metadata": {
        "id": "qiOrNIchLEtC"
      }
    },
    {
      "cell_type": "markdown",
      "source": [
        "3. В предположении нормальности ошибок построить доверительный интервал для параметров $\\beta_0,\\beta_1$ уровня доверия $1-\\alpha$.Построить доверительный эллипс уровня доверия $1-\\alpha$ для ($\\beta_0,\\beta_1$) (вычислить его полуоси)."
      ],
      "metadata": {
        "id": "qpzb43Fhx44G"
      }
    },
    {
      "cell_type": "markdown",
      "source": [
        "$\\displaystyle \\frac{\\hat{\\psi} - \\psi}{s \\sqrt{b}} \\sim S_{n - r} $, где\n",
        "$ \\hat{\\psi} = C^{\\intercal} \\hat{\\beta}$ (МНК-оценка) $,b_\\psi = C^{\\intercal} (X X^{\\intercal})^{-1} C$(элемент дисперсии оценки). Пусть $ C_0 = \\left( \\begin{array}{c} 1 \\\\ 0 \\end{array} \\right)$  и $C_1 = \\left( \\begin{array}{c} 0 \\\\ 1 \\end{array} \\right) $ \\\n",
        "$ \\hat{\\psi_0} = \\left( \\begin{array}{c} 1 & 0 \\end{array} \\right) \\left( \\begin{array}{c} 4.1237348964 \\\\ 0.180650419 \\end{array} \\right)$\n",
        "\n",
        "\n",
        "$ \\hat{\\psi_1} = \\left( \\begin{array}{c} 0 & 1 \\end{array} \\right) \\left( \\begin{array}{c} 4.1237348964 \\\\ 0.180650419 \\end{array} \\right) $\n",
        "\n",
        "\n",
        "$b_{\\psi_0} = C_0^{\\intercal} (X X^{\\intercal})^{-1} C_0$\n",
        "\n",
        "$b_{\\psi_1} = C_1^{\\intercal} (X X^{\\intercal})^{-1} C_1$"
      ],
      "metadata": {
        "id": "4zzegr04aEDV"
      }
    },
    {
      "cell_type": "code",
      "source": [
        "X = np.array([[1]*50, [4, 8, 9, 4, 7, 2, 6, 8, 1, 2, 7, 0, 4, 4, 7, 0, 4, 6, 3, 4, 7, 2, 9, 8, 1, 3, 2, 9, 7, 4, 4, 4, 8, 0, 8, 9, 4, 7, 1, 8, 6, 1, 7, 3, 6, 7, 7, 9, 2, 8]])\n",
        "\n",
        "C_0 = np.array([1, 0])\n",
        "C_1 = np.array([0, 1])\n",
        "mnk = np.array([4.12373489640,0.180650419])\n",
        "fi_0 = np.matmul(C_0,mnk)\n",
        "fi_1 = np.matmul(C_1,mnk)\n",
        "print(fi_0)\n",
        "print(fi_1)"
      ],
      "metadata": {
        "colab": {
          "base_uri": "https://localhost:8080/"
        },
        "id": "BIrgAs78cdmq",
        "outputId": "67d1e46e-b1ec-4ae0-ec38-e39f464b1fe0"
      },
      "execution_count": 16,
      "outputs": [
        {
          "output_type": "stream",
          "name": "stdout",
          "text": [
            "4.1237348964\n",
            "0.180650419\n"
          ]
        }
      ]
    },
    {
      "cell_type": "markdown",
      "source": [
        "$ \\hat{\\psi_0} = 4.1237348964$\n",
        "\n",
        "\n",
        "$ \\hat{\\psi_1} = 0.180650419$"
      ],
      "metadata": {
        "id": "SzDNDod4eYbV"
      }
    },
    {
      "cell_type": "code",
      "source": [
        "X = np.array([[1]*50, [4, 8, 9, 4, 7, 2, 6, 8, 1, 2, 7, 0, 4, 4, 7, 0, 4, 6, 3, 4, 7, 2, 9, 8, 1, 3, 2, 9, 7, 4, 4, 4, 8, 0, 8, 9, 4, 7, 1, 8, 6, 1, 7, 3, 6, 7, 7, 9, 2, 8]])\n",
        "\n",
        "C_0 = np.array([1, 0])\n",
        "C_1 = np.array([0, 1])\n",
        "\n",
        "CT_0 = C_0.transpose()\n",
        "CT_1 = C_1.transpose()\n",
        "\n",
        "XT = X.transpose()\n",
        "XXT = np.dot(X, XT)\n",
        "\n",
        "b_0 = np.dot(np.dot(CT_0, np.linalg.inv(XXT)), C_0)\n",
        "print(\"b_0 =\",  round(b_0, 10))\n",
        "\n",
        "\n",
        "b_1 = np.dot(np.dot(CT_1, np.linalg.inv(XXT)), C_1)\n",
        "print(\"b_1 =\", round(b_1, 10))"
      ],
      "metadata": {
        "colab": {
          "base_uri": "https://localhost:8080/"
        },
        "id": "VhYzAilmfJmZ",
        "outputId": "b03033b9-722e-467a-c34b-434526fe1749"
      },
      "execution_count": 17,
      "outputs": [
        {
          "output_type": "stream",
          "name": "stdout",
          "text": [
            "b_0 = 0.0847858502\n",
            "b_1 = 0.0025708263\n"
          ]
        }
      ]
    },
    {
      "cell_type": "markdown",
      "source": [
        "$b_{\\psi_0} = 0.0847858502$\n",
        "\n",
        "$b_{\\psi_1} = 0.0025708263$\n"
      ],
      "metadata": {
        "id": "WYHFYN7HeGrN"
      }
    },
    {
      "cell_type": "markdown",
      "source": [
        "Доверительный интервал:\n",
        "$ \\psi \\in \\left[ \\hat{\\psi} - x_\\alpha S \\sqrt{b_\\psi}, \\hat{\\psi} + x_\\alpha S \\sqrt{b_\\psi} \\right] $, где $\\displaystyle x_\\alpha : S_{n - r} = S_{48} = 1 - \\frac{\\alpha}{2} = 0.995$"
      ],
      "metadata": {
        "id": "KNrNKB1KhRT8"
      }
    },
    {
      "cell_type": "code",
      "source": [
        "S = 0.995\n",
        "x_a = sps.t.ppf(S, 48)\n",
        "\n",
        "print(\"x_a =\", round(x_a, 3))\n",
        "print(\"Функция распределения S =\", round(sps.t.cdf(x_a, 48), 2))"
      ],
      "metadata": {
        "colab": {
          "base_uri": "https://localhost:8080/"
        },
        "id": "lW8LnLkZiHcy",
        "outputId": "baf7b73e-1774-4e59-a2a6-31aff03e4e03"
      },
      "execution_count": 55,
      "outputs": [
        {
          "output_type": "stream",
          "name": "stdout",
          "text": [
            "x_a = 2.682\n",
            "Функция распределения S = 1.0\n"
          ]
        }
      ]
    },
    {
      "cell_type": "markdown",
      "source": [
        "$x_\\alpha : S_{n - r} = S_{48} = 1 - \\frac{\\alpha}{2}=  0.995$\n",
        "\n",
        "$x_\\alpha = 2.682$"
      ],
      "metadata": {
        "id": "mUnbrBrKqu6z"
      }
    },
    {
      "cell_type": "code",
      "source": [
        "print(\"Доверительный интервал b0 от\", round(4.12373489640 - 2.682 * (10.7428101134 * 0.0847858502) ** 0.5, 10), \"до\", round(4.12373489640 + 2.682 * (10.7428101134 * 0.0847858502) ** 0.5, 10))\n",
        "print(\"Доверительный интервал b1 от\", round(0.180650419 - 2.682 * (10.7428101134 * 0.0025708263) ** 0.5, 10), \"до\", round(0.180650419 + 2.682 * (10.7428101134 * 0.0025708263) ** 0.5, 10))"
      ],
      "metadata": {
        "colab": {
          "base_uri": "https://localhost:8080/"
        },
        "id": "ao7owaj9rDDi",
        "outputId": "ad062a2e-cc8a-480f-ad4b-bbe310cdd07b"
      },
      "execution_count": 56,
      "outputs": [
        {
          "output_type": "stream",
          "name": "stdout",
          "text": [
            "Доверительный интервал b0 от 1.5640918047 до 6.6833779881\n",
            "Доверительный интервал b1 от -0.2650613382 до 0.6263621762\n"
          ]
        }
      ]
    },
    {
      "cell_type": "markdown",
      "source": [
        "$ \\beta_0 \\in \\left[ 1.5640918047, 6.6833779881 \\right] $\n",
        "\n",
        "$ \\beta_1 \\in \\left[ -0.2650613382, 0.6263621762 \\right] $"
      ],
      "metadata": {
        "id": "usqRMgbuvUdt"
      }
    },
    {
      "cell_type": "markdown",
      "source": [
        "Построим доверительный эллипс для параметров $( \\beta_0, \\beta_1 )$.\\\n",
        "$ A_\\alpha = \\{ \\vec{x} : ( \\vec{x} - \\hat{\\psi} )^{\\intercal}  B^{-1} ( \\vec{x} - \\hat{\\psi} ) \\leq q S^2 x_\\alpha \\} $, где $ x_\\alpha :\n",
        "\\mathcal{F_{q,n-r}}(x_\\alpha) = 1 - \\alpha = \\mathcal {F_{2,48}} = 0.99;  \n",
        "B = C^{\\intercal}  (X X^{\\intercal} )^{-1} C$\\\n",
        "$C = \\left( \\begin{array}{c} 1 & 0 \\\\ 0 & 1 \\end{array} \\right) = E$.\\\n",
        "Тогда матрица $B = (X X^{\\intercal} )^{-1} \\implies B^{-1} = X X^{\\intercal} $\n",
        "\n",
        "Тогда, $\\begin{pmatrix} x \\\\ y \\end{pmatrix} = P\\left(\\widehat{\\psi} - \\psi\\right)$ , где $P$ - матрица собственных векторов матрицы $XX^{\\intercal}$.\n",
        "\n",
        "Уравнение доверительного эллипса:\n",
        "\n",
        "$\\left(\\widehat{\\psi} - \\psi\\right)^{\\intercal}B^{-1}\\left(\\widehat{\\psi} - \\psi\\right) = \\lambda_1x^2 + \\lambda_2y^2 \\leq qs^2x_{\\alpha}$\n",
        "\n",
        "Найдём $x_\\alpha$"
      ],
      "metadata": {
        "id": "qimp0tR2wqaE"
      }
    },
    {
      "cell_type": "code",
      "source": [
        "F = 0.99\n",
        "x_a1 = sps.f.ppf(F, 2, 48)\n",
        "\n",
        "\n",
        "print(\"При квантиле x_a =\", round(x_a, 10))\n",
        "print(\"F =\", round(sps.f.cdf(x_a, 2, 48), 10))"
      ],
      "metadata": {
        "colab": {
          "base_uri": "https://localhost:8080/"
        },
        "id": "t7g7NdHM0pAl",
        "outputId": "a15d32df-fc2b-48b9-beaf-62c668fe5615"
      },
      "execution_count": 54,
      "outputs": [
        {
          "output_type": "stream",
          "name": "stdout",
          "text": [
            "При квантиле x_a = 2.2041823911\n",
            "F = 0.8786121906\n"
          ]
        }
      ]
    },
    {
      "cell_type": "code",
      "source": [
        "eigenvalues, eigenvectors = np.linalg.eig(np.array(XXT))\n",
        "print('P =\\n', eigenvectors)"
      ],
      "metadata": {
        "colab": {
          "base_uri": "https://localhost:8080/"
        },
        "id": "muyH92WA3DDU",
        "outputId": "3291bb0b-0189-4c8e-8896-2f66f9b90c5b"
      },
      "execution_count": 21,
      "outputs": [
        {
          "output_type": "stream",
          "name": "stdout",
          "text": [
            "P =\n",
            " [[-0.98845494 -0.15151515]\n",
            " [ 0.15151515 -0.98845494]]\n"
          ]
        }
      ]
    },
    {
      "cell_type": "markdown",
      "source": [
        "Матрица собственных векторов\n",
        "$ P\\left(\\widehat{\\psi} - \\psi\\right) = \\begin{pmatrix} -0.99 & -0.15 \\\\ 0.15 & -0.99\\end{pmatrix} \\begin{pmatrix} 4.12 - \\beta_0 \\\\ 0.18 - \\beta_1 \\end{pmatrix} = \\begin{pmatrix} -4.1058 + 0.99\\beta_0 + 0.15\\beta_1 \\\\ 0.4398 - 0.15\\beta_0 + 0.99\\beta_1\\end{pmatrix}$\n"
      ],
      "metadata": {
        "id": "FQFoXtpf3NtE"
      }
    },
    {
      "cell_type": "markdown",
      "source": [
        "$q = 2$ - размер модели"
      ],
      "metadata": {
        "id": "hfID1SMI5ptV"
      }
    },
    {
      "cell_type": "code",
      "source": [
        "q = 2\n",
        "x_a1 = 2.2041823911\n",
        "s2 = 10.74\n",
        "a = eigenvalues[0] / (q*s2*x_a)\n",
        "b = eigenvalues[1] / (q*s2*x_a)\n",
        "\n",
        "def ellipse(b1, b2):\n",
        "  return (( -4.1058 + 0.99 * b1 + 0.35 * b2)**2 * a) + (( 0.4398 - 0.15 * b1 + 0.99 * b2)**2 * b)\n",
        "\n",
        "\n",
        "x = np.linspace(0, 10, 200)\n",
        "y = np.linspace(-1, 2.5, 200)\n",
        "X_plot, Y_plot = np.meshgrid(x, y)\n",
        "\n",
        "\n",
        "\n",
        "plt.title(\"Эллипс\")\n",
        "plt.xlabel(\"X\")\n",
        "plt.ylabel(\"Y\")\n",
        "plt.contour(X_plot, Y_plot, ellipse(X_plot, Y_plot), levels=[1], colors='green')\n",
        "plt.show()"
      ],
      "metadata": {
        "colab": {
          "base_uri": "https://localhost:8080/",
          "height": 472
        },
        "id": "hqlIt7nw5xfk",
        "outputId": "cd22aba5-04cb-4f07-d80f-b454326f68af"
      },
      "execution_count": 57,
      "outputs": [
        {
          "output_type": "display_data",
          "data": {
            "text/plain": [
              "<Figure size 640x480 with 1 Axes>"
            ],
            "image/png": "[encoded data removed]"
          },
          "metadata": {}
        }
      ]
    },
    {
      "cell_type": "markdown",
      "source": [
        "$\\large \\frac{\\lambda_1x^2}{qs^2x_{\\alpha}} + \\frac{\\lambda_2y^2}{qs^2x_{\\alpha}} \\normalsize \\leq 1$(возьмём =1)\n",
        "\n",
        "Малая полуось: $a = \\large \\sqrt{\\frac{\\lambda_1}{qs^2x_{\\alpha}}}$\n",
        "\n",
        "Большая полуось: $b = \\large \\sqrt{\\frac{\\lambda_2}{qs^2x_{\\alpha}}}$"
      ],
      "metadata": {
        "id": "FVayLxlwDe4f"
      }
    },
    {
      "cell_type": "code",
      "source": [
        "a = (eigenvalues[0] / (q*s2*x_a1))**0.5\n",
        "print('а =', a)\n",
        "\n",
        "\n",
        "b = (eigenvalues[1] / (q*s2*x_a1))**0.5\n",
        "print('b =', b)"
      ],
      "metadata": {
        "colab": {
          "base_uri": "https://localhost:8080/"
        },
        "id": "x1RjeBbTFQ_J",
        "outputId": "5f111105-e9d8-4cbf-f144-f5122705ebfc"
      },
      "execution_count": 58,
      "outputs": [
        {
          "output_type": "stream",
          "name": "stdout",
          "text": [
            "а = 0.4933886184981324\n",
            "b = 5.970046387526231\n"
          ]
        }
      ]
    },
    {
      "cell_type": "markdown",
      "source": [
        "Малая полуось: 0.4933886184981324\n",
        "\n",
        "Большая полуось: 5.970046387526231\n"
      ],
      "metadata": {
        "id": "f8SdT0SvGnZy"
      }
    },
    {
      "cell_type": "markdown",
      "source": [
        "4. Сформулировать гипотезу независимости переменной $Y$ от переменной $X$. Провести проверку значимости."
      ],
      "metadata": {
        "id": "ihzkr1_EI9To"
      }
    },
    {
      "cell_type": "markdown",
      "source": [
        "Нулевая гипотеза: $H_0: \\beta_1 = 0$\n",
        "\n",
        "Альтернативная гипотеза: $H_A: \\beta_1 \\neq 0$\n",
        "\n",
        "$\\mathbb{F}$-статистика: $\\mathbb{F} =\\large \\frac{SS_н}{q} \\cdot \\frac{n - r}{SS_e} \\normalsize = \\large \\frac{\\widehat{\\psi}^{\\intercal}B^{-1}\\widehat{\\psi}}{qs^2} \\sim \\mathcal{F}_{q, n - r}$ ,\n",
        "\n",
        "$B = C^{\\intercal}\\left(XX^{\\intercal}\\right)^{-1}C$\n",
        "\n",
        "$C = \\begin{pmatrix} 0 \\\\ 1 \\end{pmatrix}$.\n",
        "\n",
        "Тогда $\\widehat{\\psi} = C^{\\intercal}\\widehat{\\beta} = \\widehat{\\beta_1}$, а значит $\\mathbb{F} = \\large \\frac{\\widehat{\\beta_1}^2}{bqs^2}$\n"
      ],
      "metadata": {
        "id": "XseiTC7AJRi3"
      }
    },
    {
      "cell_type": "markdown",
      "source": [
        "$x_{\\alpha}: \\mathrm{F}(x_{\\alpha}) = 1 - \\alpha = 0.99 \\rightarrow x_{\\alpha} = 2.68$"
      ],
      "metadata": {
        "id": "MKIL7GVHLcem"
      }
    },
    {
      "cell_type": "code",
      "source": [
        "from scipy.stats import f\n",
        "\n",
        "F = 0.99\n",
        "x_a1 = sps.f.ppf(F, 2, 48)\n",
        "print(\"При квантиле x_a =\", round(x_a, 10))\n",
        "\n",
        "C = np.array([0, 1])\n",
        "CT = C.transpose()\n",
        "b = np.matmul(np.matmul(CT, np.linalg.inv(XXT)), C)\n",
        "F = (0.180650419**2) / (b*q*s2)\n",
        "print('F - критерий = ', F)\n",
        "\n",
        "\n",
        "q = 1\n",
        "r = 2\n",
        "alpha = 0.01\n",
        "F_q = f.ppf(1 - alpha, q, n - r)\n",
        "print('Критическое значение:', F_q)"
      ],
      "metadata": {
        "colab": {
          "base_uri": "https://localhost:8080/"
        },
        "id": "tA8JuaabLB0r",
        "outputId": "e106f6e2-ceef-4ef7-80fd-a9c73a647749"
      },
      "execution_count": 59,
      "outputs": [
        {
          "output_type": "stream",
          "name": "stdout",
          "text": [
            "При квантиле x_a = 2.682204027\n",
            "F - критерий =  0.5909774930046037\n",
            "Критическое значение: 7.194218442187959\n"
          ]
        }
      ]
    },
    {
      "cell_type": "markdown",
      "source": [
        "Не отвергаем нулевую гипотезу, так как статистика критерия меньше табличного значения"
      ],
      "metadata": {
        "id": "r4EFZw8LQT0D"
      }
    },
    {
      "cell_type": "markdown",
      "source": [
        "5. Сформулировать модель, включающую дополнительный член с $X^2$. Построить МНК оценки параметров $\\beta_0$, $\\beta_1$, $\\beta_2$ в данной модели. Изобразить графически полученную регрессионную модель."
      ],
      "metadata": {
        "id": "TzgnfpE-Thay"
      }
    },
    {
      "cell_type": "markdown",
      "source": [
        "Квадратичная регрессионная модель: $Y = \\beta_0 + \\beta_1X  + \\beta_2X^2 + \\epsilon$\n",
        "\n",
        "$X = \\begin{pmatrix} 1 & 1  & 1 & \\cdots & 1 \\\\ x_1 & x_2 & x_3 & \\cdots & x_{50} \\\\ x_1^2 & x_2^2 & x_3^2 & \\cdots & x_{50}^2\\end{pmatrix}$"
      ],
      "metadata": {
        "id": "VC5RrLkwT3gT"
      }
    },
    {
      "cell_type": "code",
      "source": [
        "X = np.array([4, 8, 9, 4, 7, 2, 6, 8, 1, 2, 7, 0, 4, 4, 7, 0, 4, 6, 3, 4, 7, 2, 9, 8, 1, 3, 2, 9, 7, 4, 4, 4, 8, 0, 8, 9, 4, 7, 1, 8, 6, 1, 7, 3, 6, 7, 7, 9, 2, 8])\n",
        "X2 = [i**2 for i in X]\n",
        "\n",
        "X_2 = [np.array([1]*50), X, X2]\n",
        "\n",
        "XT_2 = np.transpose(X_2)\n",
        "XXT_2 = np.matmul(X_2, XT_2)\n",
        "print( XXT_2)\n"
      ],
      "metadata": {
        "colab": {
          "base_uri": "https://localhost:8080/"
        },
        "id": "4KL3H7TCUOv1",
        "outputId": "92a958e4-392d-4d02-9b61-c5fa31a5f700"
      },
      "execution_count": 25,
      "outputs": [
        {
          "output_type": "stream",
          "name": "stdout",
          "text": [
            "[[   50   251  1649]\n",
            " [  251  1649 11945]\n",
            " [ 1649 11945 91157]]\n"
          ]
        }
      ]
    },
    {
      "cell_type": "markdown",
      "source": [
        "$XX^{\\intercal} =  \\begin{pmatrix}50 & 251 & 1649\\\\ 251 & 1649 & 11945 \\\\ 1649 & 11945 & 91157 \\end{pmatrix}$"
      ],
      "metadata": {
        "id": "wg6vykfwZFH1"
      }
    },
    {
      "cell_type": "code",
      "source": [
        "X = np.array([[1]*50, [4, 8, 9, 4, 7, 2, 6, 8, 1, 2, 7, 0, 4, 4, 7, 0, 4, 6, 3, 4, 7, 2, 9, 8, 1, 3, 2, 9, 7, 4, 4, 4, 8, 0, 8, 9, 4, 7, 1, 8, 6, 1, 7, 3, 6, 7, 7, 9, 2, 8]])\n",
        "Y = np.array([0.02, 6.35, 5.48, 0.38, 0.94, 3.69, 2.23, 5.75, 8.57, 5.88, 2.80, 2.22, 0.48, 4.23, 1.36, 8.83, 2.22, 6.23, 0.01, 3.38, 3.01, 0.78, 5.13, 11.22, 2.00, 3.11, 7.64, 11.31, 3.53, 7.77, 0.84, 4.91, 9.77, 3.52, 12.50, 5.52, 8.27, 4.41, 7.68, 6.39, 4.45, 12.28, 8.04, 6.74, 3.30, 1.04, 5.87, 6.72, 5.42, 7.31])\n",
        "\n",
        "XXT_2 = np.dot(X_2, XT_2)\n",
        "\n",
        "XY_2 = np.dot(X_2, Y)\n",
        "\n",
        "b_2 = np.dot(np.linalg.inv(XXT_2), XY_2)\n",
        "\n",
        "\n",
        "print(\"b0:\", round(b_2[0], 10), \"b1:\", round(b_2[1], 10), \"b2:\",round(b_2[2],10))"
      ],
      "metadata": {
        "colab": {
          "base_uri": "https://localhost:8080/"
        },
        "id": "LVuSv0_vZ0aj",
        "outputId": "2ea092f1-054b-45ab-bb45-2b6f4d45b159"
      },
      "execution_count": 33,
      "outputs": [
        {
          "output_type": "stream",
          "name": "stdout",
          "text": [
            "b0: 6.9828463696 b1: -1.6983181169 b2: 0.1993120248\n"
          ]
        }
      ]
    },
    {
      "cell_type": "markdown",
      "source": [
        "$\\widehat{\\beta} = \\left(XX^{\\intercal}\\right)^{-1}XY = \\begin{pmatrix} 6.98 \\\\ -1.70 \\\\ 0.20 \\end{pmatrix} \\rightarrow Y \\approx 6.98 - 1.70X + 0.20X^2$"
      ],
      "metadata": {
        "id": "f07hw81cbZDI"
      }
    },
    {
      "cell_type": "code",
      "source": [
        "X = np.array([4, 8, 9, 4, 7, 2, 6, 8, 1, 2, 7, 0, 4, 4, 7, 0, 4, 6, 3, 4, 7, 2, 9, 8, 1, 3, 2, 9, 7, 4, 4, 4, 8, 0, 8, 9, 4, 7, 1, 8, 6, 1, 7, 3, 6, 7, 7, 9, 2, 8])\n",
        "Y = np.array([0.02, 6.35, 5.48, 0.38, 0.94, 3.69, 2.23, 5.75, 8.57, 5.88, 2.80, 2.22, 0.48, 4.23, 1.36, 8.83, 2.22, 6.23, 0.01, 3.38, 3.01, 0.78, 5.13, 11.22, 2.00, 3.11, 7.64, 11.31, 3.53, 7.77, 0.84, 4.91, 9.77, 3.52, 12.50, 5.52, 8.27, 4.41, 7.68, 6.39, 4.45, 12.28, 8.04, 6.74, 3.30, 1.04, 5.87, 6.72, 5.42, 7.31])\n",
        "x_v = np.unique(X)\n",
        "Y2 = b_2[0] + b_2[1] * x_v + b_2[2] * x_v**2\n",
        "\n",
        "plt.title('Регрессионная модель')\n",
        "plt.xlabel('X')\n",
        "plt.ylabel('Y')\n",
        "plt.grid()\n",
        "plt.scatter(X, Y, color = 'red')\n",
        "plt.plot(x_v, Y2, color = 'green');"
      ],
      "metadata": {
        "colab": {
          "base_uri": "https://localhost:8080/",
          "height": 472
        },
        "id": "gSSh8xjvbytY",
        "outputId": "4a8d1756-0dd7-4ba1-bab3-c7f97d283b81"
      },
      "execution_count": 35,
      "outputs": [
        {
          "output_type": "display_data",
          "data": {
            "text/plain": [
              "<Figure size 640x480 with 1 Axes>"
            ],
            "image/png": "[encoded data removed]"
          },
          "metadata": {}
        }
      ]
    },
    {
      "cell_type": "markdown",
      "source": [
        "6. Построить несмещённую оценку дисперсии. Провести исследование нормальности ошибок как в пункте 2."
      ],
      "metadata": {
        "id": "pBwyTzIwt6r4"
      }
    },
    {
      "cell_type": "markdown",
      "source": [
        "$ \\displaystyle S^2 = \\frac{RSS( \\hat{\\beta} )}{ n - r } = \\frac{(Y - X^T \\hat{\\beta})^T (Y - X^T \\hat{\\beta})}{47} = \\frac{1}{n - r} \\cdot \\sum \\limits_{i = 1}^n\\left(Y_i - \\widehat{\\beta_0} - \\widehat{\\beta_1}X_i - \\widehat{\\beta_2}X_i^2\\right) ≈ 8.74 $"
      ],
      "metadata": {
        "id": "h3-FiKCauFnl"
      }
    },
    {
      "cell_type": "code",
      "source": [
        "X = np.array([4, 8, 9, 4, 7, 2, 6, 8, 1, 2, 7, 0, 4, 4, 7, 0, 4, 6, 3, 4, 7, 2, 9, 8, 1, 3, 2, 9, 7, 4, 4, 4, 8, 0, 8, 9, 4, 7, 1, 8, 6, 1, 7, 3, 6, 7, 7, 9, 2, 8])\n",
        "X2 = [i**2 for i in X]\n",
        "\n",
        "Y = np.array([0.02, 6.35, 5.48, 0.38, 0.94, 3.69, 2.23, 5.75, 8.57, 5.88, 2.80, 2.22, 0.48, 4.23, 1.36, 8.83, 2.22, 6.23, 0.01, 3.38, 3.01, 0.78, 5.13, 11.22, 2.00, 3.11, 7.64, 11.31, 3.53, 7.77, 0.84, 4.91, 9.77, 3.52, 12.50, 5.52, 8.27, 4.41, 7.68, 6.39, 4.45, 12.28, 8.04, 6.74, 3.30, 1.04, 5.87, 6.72, 5.42, 7.31])\n",
        "b2 = np.array([6.9828463696, -1.6983181169, 0.1993120248])\n",
        "\n",
        "n = 50\n",
        "r = np.linalg.matrix_rank(X)\n",
        "\n",
        "sum_2 = np.sum((Y - b2[0] - b2[1] * np.array(X) - b2[2]*np.array(X2))**2)\n",
        "s2_2 = sum_2 / (n - r)\n",
        "print(s2_2)\n"
      ],
      "metadata": {
        "colab": {
          "base_uri": "https://localhost:8080/"
        },
        "id": "b5XlM2FQuL1E",
        "outputId": "c9a7b078-af5b-4f77-e7a9-aef119815a77"
      },
      "execution_count": 50,
      "outputs": [
        {
          "output_type": "stream",
          "name": "stdout",
          "text": [
            "8.737562915054273\n"
          ]
        }
      ]
    },
    {
      "cell_type": "markdown",
      "source": [
        "  * На базе ошибок построим гистограмму с шагом $h = 2.20$"
      ],
      "metadata": {
        "id": "Eqmd5LduIZy3"
      }
    },
    {
      "cell_type": "code",
      "source": [
        "from scipy.stats import chisquare, kstest, norm, chi2, stats, t\n",
        "from numpy.linalg import matrix_rank\n",
        "import numpy as np\n",
        "X = np.array([4, 8, 9, 4, 7, 2, 6, 8, 1, 2, 7, 0, 4, 4, 7, 0, 4, 6, 3, 4, 7, 2, 9, 8, 1, 3, 2, 9, 7, 4, 4, 4, 8, 0, 8, 9, 4, 7, 1, 8, 6, 1, 7, 3, 6, 7, 7, 9, 2, 8])\n",
        "\n",
        "b = np.array([6.9828463696, -1.6983181169, 0.1993120248])\n",
        "\n",
        "Y_1 = b[0] + b[1] * X + b[2]* X**2\n",
        "err_2 = Y - Y_1\n",
        "err_mi2 = min(err_2)\n",
        "err_ma2 = max(err_2)\n",
        "\n",
        "h = 2.20\n",
        "plt.hist(err_2, bins = np.arange(err_mi2, err_ma2 + h, h),edgecolor='red', color='green')\n",
        "plt.title('Гистограмма на базе ошибок')\n",
        "plt.xlabel('Ошибки', fontsize=13)\n",
        "plt.ylabel('Частота', fontsize=13)\n",
        "plt.show()\n"
      ],
      "metadata": {
        "colab": {
          "base_uri": "https://localhost:8080/",
          "height": 476
        },
        "id": "r5fJwhcBIcIg",
        "outputId": "1ec07880-8d1d-40f9-c1eb-278873f42af3"
      },
      "execution_count": 83,
      "outputs": [
        {
          "output_type": "display_data",
          "data": {
            "text/plain": [
              "<Figure size 640x480 with 1 Axes>"
            ],
            "image/png": "[encoded data removed]"
          },
          "metadata": {}
        }
      ]
    },
    {
      "cell_type": "markdown",
      "source": [
        "* Проверка гипотезы нормальности\n",
        "\n",
        "Основная гипотеза $H_0$: $\\vec{\\epsilon} \\sim \\mathcal{N}(0, \\sigma^2)$"
      ],
      "metadata": {
        "id": "nX_QIbx4Kyvm"
      }
    },
    {
      "cell_type": "code",
      "source": [
        "a = 0\n",
        "sigma = 8.74**0.5\n",
        "alpha = 0.01\n",
        "\n",
        "inters = [[-np.inf, -2.7], [-2.7, 0], [0, 3], [3,np.inf]]\n",
        "\n",
        "def p(x):\n",
        "    return norm.cdf(x, a, sigma)\n",
        "\n",
        "cr = 0\n",
        "for inter in inters:\n",
        "    p_ = p(inter[1]) - p(inter[0])\n",
        "    n_ = len([x for x in err if inter[0] < x <= inter[1]])\n",
        "    n_p = len(err)*p_\n",
        "    temp = ((n_-n_p)**2)/(n_p)\n",
        "    cr += temp\n",
        "    print(inter ,'n =', n_, 'p =',round(p_, 2), 'np =', round(n_p, 2), ' ', round(temp, 2))\n",
        "\n",
        "print(cr)"
      ],
      "metadata": {
        "colab": {
          "base_uri": "https://localhost:8080/"
        },
        "id": "9OCxRXn_K1m5",
        "outputId": "fc1d6224-65c9-4346-c484-67b672bd7da9"
      },
      "execution_count": 84,
      "outputs": [
        {
          "output_type": "stream",
          "name": "stdout",
          "text": [
            "[-inf, -2.7] n = 10 p = 0.18 np = 9.03   0.1\n",
            "[-2.7, 0] n = 17 p = 0.32 np = 15.97   0.07\n",
            "[0, 3] n = 13 p = 0.34 np = 17.24   1.04\n",
            "[3, inf] n = 10 p = 0.16 np = 7.76   0.65\n",
            "1.8652456924224965\n"
          ]
        }
      ]
    },
    {
      "cell_type": "markdown",
      "source": [
        "$I_1 = (\\infty, -2.7]$ $n_1 = 10$  $p_1 = 0.18$  $np_1 = 9.03$   $\\frac{(n_1-np_1)^{2}}{np_1} = 0.1$\n",
        "\n",
        "$I_2 = (-2.7, 0]$ $n_2 = 17$  $p_2 = 0.32$  $np_2 = 15.97$   $\\frac{(n_2-np_2)^{2}}{np_2} = 0.07$\n",
        "\n",
        "$I_3 = (0, 3]$ $n_3 = 13$  $p_3 = 0.34$  $np_3 = 17.24$   $\\frac{(n_3-np_3)^{2}}{np_3} = 1.04$\n",
        "\n",
        "$I_4 = (3, \\infty)$ $n_4 = 10$  $p_4 = 0.16$  $np_4 = 7.76$   $\\frac{(n_4-np_4)^{2}}{np_4} = 0.65$\n",
        "\n",
        "$\\mathcal{X}^2 = \\sum_{i=1}^{4}\\frac{(n_i - np_i)^2}{np_i} = 1.87$\n",
        "\n",
        "$\\mathcal{X}^2_{N-1,\\alpha} = \\mathcal{X}^2_{3,0.01} \\simeq 11.34$(табличное значение)\n",
        "\n",
        "$\\mathcal{X}^{2} <  \\mathcal{X}^2_{3,0.01} \\Rightarrow$ нет оснований отвергнуть гипотезу\n"
      ],
      "metadata": {
        "id": "-m0btr9QOcfq"
      }
    },
    {
      "cell_type": "markdown",
      "source": [
        "* Оценка расстояния до класса нормальных распределений по Колмогорову"
      ],
      "metadata": {
        "id": "qNcl1CbrSmqw"
      }
    },
    {
      "cell_type": "markdown",
      "source": [
        "Выборочный критерий Колмогорова $\\eta = \\sqrt{n}D_n$"
      ],
      "metadata": {
        "id": "-hGvQBaeSpmg"
      }
    },
    {
      "cell_type": "code",
      "source": [
        "sigma = np.sqrt(8.74)\n",
        "\n",
        "Dn, _ = kstest(X, norm.cdf(x, loc = 0, scale = sigma))\n",
        "eta = n**0.5 * Dn\n",
        "print('Критерий Колмогорова:',eta)"
      ],
      "metadata": {
        "colab": {
          "base_uri": "https://localhost:8080/"
        },
        "id": "j5yg8j5YSzde",
        "outputId": "65f818c0-de3f-4365-9a29-764a879883cd"
      },
      "execution_count": 85,
      "outputs": [
        {
          "output_type": "stream",
          "name": "stdout",
          "text": [
            "Критерий Колмогорова: 6.646803743153547\n"
          ]
        }
      ]
    },
    {
      "cell_type": "markdown",
      "source": [
        "Уровень значимости $\\alpha = 0.01$.\n",
        "\n",
        "Квантиль $d_{1 - \\alpha}$"
      ],
      "metadata": {
        "id": "J2RLlDDtTCkZ"
      }
    },
    {
      "cell_type": "code",
      "source": [
        "from scipy.stats import kstwobign\n",
        "d = kstwobign.ppf(1 - alpha)\n",
        "print('Квантиль: ', d)"
      ],
      "metadata": {
        "colab": {
          "base_uri": "https://localhost:8080/"
        },
        "id": "R3GhTjSlTOHw",
        "outputId": "6af9914e-dc2f-45f3-ba07-8b97372b7d67"
      },
      "execution_count": 86,
      "outputs": [
        {
          "output_type": "stream",
          "name": "stdout",
          "text": [
            "Квантиль:  1.6276236115189502\n"
          ]
        }
      ]
    },
    {
      "cell_type": "markdown",
      "source": [
        "Критическая область $V_k = (d_{1 - \\alpha},+ \\infty)  = (1.63, + \\infty)$\n",
        "\n",
        "$\\eta \\in V_k \\Rightarrow$ гипотеза отвергается."
      ],
      "metadata": {
        "id": "gpd4EXGMToO7"
      }
    },
    {
      "cell_type": "code",
      "source": [
        "y, edges, _= plt.hist(err_2, edgecolor='black', bins=np.arange(err_mi2, err_ma2 + h, h), weights=np.ones_like(err_2) / n)\n",
        "values = np.linspace(err_mi2, err_ma2, 100)\n",
        "\n",
        "plt.title('Гистограмма ошибок')\n",
        "plt.xlabel('Ошибки', fontsize=13)\n",
        "plt.ylabel('Частота', fontsize=13)\n",
        "plt.plot(values, norm.pdf(values, np.array(err_2).mean(), np.array(err_2).std()), color='red')\n",
        "plt.show()"
      ],
      "metadata": {
        "colab": {
          "base_uri": "https://localhost:8080/",
          "height": 476
        },
        "id": "JqU4TlxcT4nP",
        "outputId": "055a63e0-da19-4c0b-e2e3-26c8720408c2"
      },
      "execution_count": 87,
      "outputs": [
        {
          "output_type": "display_data",
          "data": {
            "text/plain": [
              "<Figure size 640x480 with 1 Axes>"
            ],
            "image/png": "[encoded data removed]"
          },
          "metadata": {}
        }
      ]
    },
    {
      "cell_type": "markdown",
      "source": [
        "Распределение ошибок визульно не похоже на нормальное распределение."
      ],
      "metadata": {
        "id": "YL9YjIuSU3Bk"
      }
    },
    {
      "cell_type": "markdown",
      "source": [
        "7. В предположении нормальности ошибок построить доверительные интервалы для параметров $\\beta_0$, $\\beta_1$, $\\beta_2$ уровня доверия $1 - \\alpha$. Напистаь уравнение доверительного эллипсоида уровня доверия $1 - \\alpha$."
      ],
      "metadata": {
        "id": "KmdZQtywjQI2"
      }
    },
    {
      "cell_type": "markdown",
      "source": [
        "$\\beta_0$: $C = \\begin{pmatrix} 1 \\\\ 0 \\\\ 0\\end{pmatrix};$\n",
        "$\\beta_1$: $C = \\begin{pmatrix} 0 \\\\ 1 \\\\ 0\\end{pmatrix};$\n",
        "$\\beta_2$: $C = \\begin{pmatrix} 0 \\\\ 0 \\\\ 1\\end{pmatrix}$"
      ],
      "metadata": {
        "id": "Y3LUUom1jgtN"
      }
    },
    {
      "cell_type": "code",
      "source": [
        "C2_0 = np.array([1, 0, 0])\n",
        "C2_1 = np.array([0, 1, 0])\n",
        "C2_2 = np.array([0, 0, 1])\n",
        "mnk_2 = np.array([6.9828463696, -1.6983181169, 0.1993120248])\n",
        "fi_0 = np.matmul(C2_0,mnk_2)\n",
        "fi_1 = np.matmul(C2_1,mnk_2)\n",
        "fi_2 = np.matmul(C2_2,mnk_2)\n",
        "print('fi_0 = ', fi_0)\n",
        "print('fi_1 = ',fi_1)\n",
        "print('fi_2 = ', fi_2)"
      ],
      "metadata": {
        "colab": {
          "base_uri": "https://localhost:8080/"
        },
        "id": "Pj3S7j3gkmVa",
        "outputId": "d5f49d9c-21a3-433d-ff34-b546b4396332"
      },
      "execution_count": 40,
      "outputs": [
        {
          "output_type": "stream",
          "name": "stdout",
          "text": [
            "fi_0 =  6.9828463696\n",
            "fi_1 =  -1.6983181169\n",
            "fi_2 =  0.1993120248\n"
          ]
        }
      ]
    },
    {
      "cell_type": "code",
      "source": [
        "CT2_0 = C2_0.transpose()\n",
        "CT2_1 = C2_1.transpose()\n",
        "CT2_2 = C2_2.transpose()\n",
        "\n",
        "\n",
        "\n",
        "b_0 = np.dot(np.dot(CT2_0, np.linalg.inv(XXT_2)), C2_0)\n",
        "print(\"b_0 =\",  round(b_0, 10))\n",
        "\n",
        "\n",
        "b_1 = np.dot(np.dot(CT2_1, np.linalg.inv(XXT_2)), C2_1)\n",
        "print(\"b_1 =\", round(b_1, 10))\n",
        "\n",
        "b_2 = np.dot(np.dot(CT2_2, np.linalg.inv(XXT_2)), C2_2)\n",
        "print(\"b_2 =\", round(b_2, 10))"
      ],
      "metadata": {
        "colab": {
          "base_uri": "https://localhost:8080/"
        },
        "id": "wyLwEWwymDOZ",
        "outputId": "3c5cbd70-7494-46e5-e138-87ccd5471d22"
      },
      "execution_count": 41,
      "outputs": [
        {
          "output_type": "stream",
          "name": "stdout",
          "text": [
            "b_0 = 0.1781936495\n",
            "b_1 = 0.0429130635\n",
            "b_2 = 0.000453929\n"
          ]
        }
      ]
    },
    {
      "cell_type": "markdown",
      "source": [
        "$ \\psi \\in \\left[ \\hat{\\psi} - x_\\alpha S \\sqrt{b_\\psi}, \\hat{\\psi} + x_\\alpha S \\sqrt{b_\\psi} \\right] $, где $\\displaystyle x_\\alpha : S_{n - r} = 1 - \\frac{\\alpha}{2}$"
      ],
      "metadata": {
        "id": "P94Z9cCKoGRj"
      }
    },
    {
      "cell_type": "code",
      "source": [
        "alpha = 0.01\n",
        "r = 3\n",
        "x2_a = t.ppf(1 - alpha/2, (n-r))\n",
        "print('x_alpha =', x2_a)\n",
        "print(\"Функция распределения S =\", round(sps.t.cdf(x2_a, 47), 3))"
      ],
      "metadata": {
        "colab": {
          "base_uri": "https://localhost:8080/"
        },
        "id": "YOFjH4n8o6Rm",
        "outputId": "e727241d-08f4-4ace-864a-1385f37ddd12"
      },
      "execution_count": 60,
      "outputs": [
        {
          "output_type": "stream",
          "name": "stdout",
          "text": [
            "x_alpha = 2.6845556178665215\n",
            "Функция распределения S = 0.995\n"
          ]
        }
      ]
    },
    {
      "cell_type": "code",
      "source": [
        "print(\"Доверительный интервал b0 от\", round(6.9828463696 - 2.68 * (8.737562915054273 * 0.1781936495) ** 0.5, 10), \"до\", round(6.9828463696 + 2.68 * (8.737562915054273 * 0.1781936495) ** 0.5, 10))\n",
        "print(\"Доверительный интервал b1 от\", round(-1.6983181169 - 2.68 * (8.737562915054273 * 0.0429130635) ** 0.5, 10), \"до\", round(-1.6983181169 + 2.68 * (8.737562915054273 * 0.0429130635) ** 0.5, 10))\n",
        "print(\"Доверительный интервал b2 от\", round(0.1993120248 - 2.68 * (8.737562915054273 * 0.000453929) ** 0.5, 10), \"до\", round(0.1993120248 + 2.68 * (8.737562915054273 * 0.000453929) ** 0.5, 10))\n"
      ],
      "metadata": {
        "colab": {
          "base_uri": "https://localhost:8080/"
        },
        "id": "c5Qw7a-1pt4J",
        "outputId": "17903df7-9731-4c8a-d61d-e8730c5fdac5"
      },
      "execution_count": 51,
      "outputs": [
        {
          "output_type": "stream",
          "name": "stdout",
          "text": [
            "Доверительный интервал b0 от 3.6387709528 до 10.3269217864\n",
            "Доверительный интервал b1 от -3.3393790681 до -0.0572571657\n",
            "Доверительный интервал b2 от 0.0305308845 до 0.3680931651\n"
          ]
        }
      ]
    },
    {
      "cell_type": "markdown",
      "source": [
        "$ \\beta_0 \\in \\left[ 3.6387709528, 10.3269217864 \\right] $\n",
        "\n",
        "$ \\beta_1 \\in \\left[ -3.3393790681, -0.0572571657 \\right] $\n",
        "\n",
        "$ \\beta_2 \\in \\left[ 0.0305308845, 0.3680931651\\right] $\n"
      ],
      "metadata": {
        "id": "ChXetIURT28v"
      }
    },
    {
      "cell_type": "markdown",
      "source": [
        "Доверительный эллипсоид\n",
        "\n",
        "$A_{\\alpha} = \\left\\{\\vec{x} : \\left(\\vec{x} - \\widehat{\\psi}\\right)^{\\intercal}B^{-1} \\left(\\vec{x} - \\widehat{\\psi}\\right) \\leq qs^2x_{\\alpha}\\right\\}$ , где $x_{\\alpha} : \\mathrm{F}_{q, n-r} = 1 - \\alpha$, $B = C^{\\intercal}\\left(XX^{\\intercal}\\right)^{-1}C$\n",
        "\n",
        "$C = \\begin{pmatrix}1 & 0 & 0 \\\\ 0 & 1 & 0 \\\\ 0 & 0 & 1\\end{pmatrix} = E$\n",
        "\n",
        "Уравнение доверительного эллипсоида:\n",
        "\n",
        "$\\left(\\widehat{\\psi} - \\psi\\right)^{\\intercal}B^{-1}\\left(\\widehat{\\psi} - \\psi\\right) = \\lambda_1x^2 + \\lambda_2y^2 + \\lambda_3z^2 \\leq qs^2x_{\\alpha}$\n",
        "\n",
        "Таким образом $\\large \\frac{\\lambda_1x^2}{qs^2x_{\\alpha}} + \\frac{\\lambda_2y^2}{qs^2x_{\\alpha}} + \\frac{\\lambda_3z^2}{qs^2x_{\\alpha}}\\normalsize \\leq 1$, где $\\lambda_1$ , $\\lambda_2$ , $\\lambda_3$ - собственные вектора\n",
        "\n",
        "Найдём $x_\\alpha$"
      ],
      "metadata": {
        "id": "H7vt3rYoYu2W"
      }
    },
    {
      "cell_type": "code",
      "source": [
        "F = 0.99\n",
        "x_a = sps.f.ppf(F, 3, 47)\n",
        "\n",
        "\n",
        "print(\"При квантиле x_a =\", round(x_a, 3))\n",
        "print(\"Функция распределения Фишера-Синдекора F_3_47(x_a) =\", round(sps.f.cdf(x_a, 3, 47), 3))"
      ],
      "metadata": {
        "colab": {
          "base_uri": "https://localhost:8080/"
        },
        "id": "FqwRPgnsbCg2",
        "outputId": "8c7427f7-6b70-4752-a90e-f531194161b7"
      },
      "execution_count": 61,
      "outputs": [
        {
          "output_type": "stream",
          "name": "stdout",
          "text": [
            "При квантиле x_a = 4.228\n",
            "Функция распределения Фишера-Синдекора F_3_47(x_a) = 0.99\n"
          ]
        }
      ]
    },
    {
      "cell_type": "code",
      "source": [
        "XT_2 = np.transpose(X_2)\n",
        "x = np.matmul(X_2,XT_2)\n",
        "print(x)"
      ],
      "metadata": {
        "colab": {
          "base_uri": "https://localhost:8080/"
        },
        "id": "7k4x5HRodFSg",
        "outputId": "aa32afb6-a61a-4a1a-b3a3-d46dd1518d5d"
      },
      "execution_count": 53,
      "outputs": [
        {
          "output_type": "stream",
          "name": "stdout",
          "text": [
            "[[   50   251  1649]\n",
            " [  251  1649 11945]\n",
            " [ 1649 11945 91157]]\n"
          ]
        }
      ]
    },
    {
      "cell_type": "markdown",
      "source": [
        "$XX^{\\intercal} =  \\begin{pmatrix}50 & 251 & 1649\\\\ 251 & 1649 & 11945 \\\\ 1649 & 11945 & 91157 \\end{pmatrix}$"
      ],
      "metadata": {
        "id": "r-s_DMp-dz-q"
      }
    },
    {
      "cell_type": "markdown",
      "source": [
        "$(\\vec{x} - \\hat{\\psi} )^{\\intercal} B^{-1} ( \\vec{x} - \\hat{\\psi} ) = \\left( \\left( \\begin{array}{c} \\beta_0 \\\\ \\beta_1 \\\\ \\beta_2 \\end{array} \\right) - \\left( \\begin{array}{c} 6.98 \\\\ -1.70 \\\\ 0.20 \\end{array} \\right) \\right)^{\\intercal} X X^{\\intercal} \\left( \\left( \\begin{array}{c} \\beta_0 \\\\ \\beta_1 \\\\ \\beta_2 \\end{array} \\right) - \\left( \\begin{array}{c} 6.98 \\\\ -1.70 \\\\ 0.20 \\end{array} \\right) \\right)$\\\n",
        "$= \\left( \\begin{array}{c} \\beta_0 -  6.98 \\\\ \\beta_1 + 1.70 \\\\ \\beta_2 - 0.20 \\end{array} \\right)^{\\intercal} \\left( \\begin{array}{c} 50 & 251 & 1649 \\\\ 251 & 1649 & 11945 \\\\ 1649 & 11945 & 91157 \\end{array} \\right) \\left( \\begin{array}{c} \\beta_0 -  6.98 \\\\ \\beta_1 + 1.70 \\\\ \\beta_2 - 0.20 \\end{array} \\right)$\n",
        "\n",
        "Перепишем коэффициенты квадратичной формы в матрицу.\\\n",
        "$ A = \\left( \\begin{array}{c} 50 & 251 & 1649 \\\\ 251 & 1649 & 11945 \\\\ 1649 & 11945 & 91157 \\end{array} \\right)$\n",
        "\n",
        "Найдём собственные числа.\\\n",
        "$ \\left| \\begin{array}{c} 50 - \\lambda & 251 & 1649 \\\\ 251 & 1649 - \\lambda & 11945 \\\\ 1649 & 11945 & 91157 - \\lambda \\end{array} \\right| = 0 ⇒ \\lambda_1 = 14.708, \\lambda_2 = 1395.110,\\lambda_3 = 91446.182$\n",
        "\n",
        "$ \\lambda_1 \\cdot x^2 + \\lambda_2 \\cdot y^2 + \\lambda_3 \\cdot z^2 \\leq q S^2 x_\\alpha$\\\n",
        "$  14.708 \\cdot x^2 + 1395.110 \\cdot y^2 + 91446.182 \\cdot z^2 \\leq 57.79$\\\n",
        "$ 0.25 \\cdot x^2 +  24.14 \\cdot y^2 + 1582.39 \\cdot z^2 \\leq 1$\n"
      ],
      "metadata": {
        "id": "NzoSJ3L_bnA0"
      }
    },
    {
      "cell_type": "markdown",
      "source": [
        "8. Сформулировать гипотезу линейной регрессионной зависимости переменной $Y$ от переменной $X$ и проверить её значимость на уровне $\\alpha = 0.01$."
      ],
      "metadata": {
        "id": "7R4Tj7lcYLpc"
      }
    },
    {
      "cell_type": "markdown",
      "source": [
        "Нулевая гипотеза: $H_0: \\beta_2 = 0$\n",
        "\n",
        "Альтернативная гипотеза: $H_A: \\beta_2 \\neq 0$\n",
        "\n",
        "$\\mathbb{F}$-статистика: $\\mathbb{F} =\\large \\frac{SS_н}{q} \\cdot \\frac{n - r}{SS_e} \\normalsize = \\large \\frac{\\widehat{\\psi}^{\\intercal}B^{-1}\\widehat{\\psi}}{qs^2} \\sim \\mathcal{F}_{q, n - r}$ , $B = C^{\\intercal}\\left(XX^{\\intercal}\\right)^{-1}C$\n",
        "\n",
        "$C = \\begin{pmatrix} 0 \\\\ 0 \\\\ 1 \\end{pmatrix}$. Тогда $\\widehat{\\psi} = C^{\\intercal}\\widehat{\\beta} = \\widehat{\\beta_2} ⇒ \\mathbb{F} = \\large \\frac{\\widehat{\\beta_2}^2}{bqs^2}$\n",
        "\n",
        "Квантиль:\n",
        "\n",
        "$x_{\\alpha}: \\mathrm{F}(x_{\\alpha}) = 1 - \\alpha = 0.99 \\rightarrow x_{\\alpha} = 7.2$"
      ],
      "metadata": {
        "id": "7pEPkqHYifPH"
      }
    },
    {
      "cell_type": "code",
      "source": [
        "n = 50\n",
        "r = 3\n",
        "alpha = 0.01\n",
        "\n",
        "q = 1\n",
        "s2 = 8.74\n",
        "x_alpha = f.ppf(1 - alpha, q, n - r)\n",
        "print('x_alpha =', x_alpha)\n",
        "\n",
        "C = np.array([0, 0, 1])\n",
        "CT_2 = C.transpose()\n",
        "b_2 = np.matmul(np.matmul(CT_2, np.linalg.inv(XXT_2)), C)\n",
        "F_2 = (0.1993120248**2) / (b_2*q*s2)\n",
        "print('F - критерий = ', F_2)\n",
        "\n",
        "\n",
        "F_q = f.ppf(1 - alpha, q, n - r)\n",
        "print('Критическое значение:', F_q)\n"
      ],
      "metadata": {
        "colab": {
          "base_uri": "https://localhost:8080/"
        },
        "id": "SKY7wQZjjPTQ",
        "outputId": "38e3a99e-6d51-4cb3-d338-297282e72d6c"
      },
      "execution_count": 63,
      "outputs": [
        {
          "output_type": "stream",
          "name": "stdout",
          "text": [
            "x_alpha = 7.2068388654187014\n",
            "F - критерий =  10.013078102878808\n",
            "Критическое значение: 7.2068388654187014\n"
          ]
        }
      ]
    },
    {
      "cell_type": "markdown",
      "source": [
        "Так как статистика критерия F больше критического значения, **гипотеза отвергается**"
      ],
      "metadata": {
        "id": "KO-khOYFqwDy"
      }
    },
    {
      "cell_type": "markdown",
      "metadata": {
        "id": "y6Y-WaoBI-VS"
      },
      "source": [
        "## Выводы\n",
        "\n",
        "В ходе практической работы был использован метод наименьших квадратов (МНК) для создания модели линейной регрессии, оценены параметры модели и проверена гипотеза о нормальности ошибок. Также были построены доверительные интервалы и оценены доверительные эллипсоиды для параметров с заданным уровнем доверия. Была также проверена гипотеза о независимости переменных Y и X. В процессе работы была изучена тема линейной зависимости между переменными с учетом дополнительного параметра. Результаты практической работы включают в себя анализ линейной регрессии, построение модели, проверку гипотез и использование статистических инструментов, таких как критерий Колмогорова, для оценки полученных данных."
      ]
    }
  ],
  "metadata": {
    "colab": {
      "provenance": []
    },
    "kernelspec": {
      "display_name": "Python 3",
      "name": "python3"
    },
    "language_info": {
      "codemirror_mode": {
        "name": "ipython",
        "version": 3
      },
      "file_extension": ".py",
      "mimetype": "text/x-python",
      "name": "python",
      "nbconvert_exporter": "python",
      "pygments_lexer": "ipython3",
      "version": "3.11.6"
    }
  },
  "nbformat": 4,
  "nbformat_minor": 0
}