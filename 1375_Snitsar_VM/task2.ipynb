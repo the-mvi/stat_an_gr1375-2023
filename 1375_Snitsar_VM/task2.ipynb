{
  "cells": [
    {
      "cell_type": "markdown",
      "metadata": {
        "id": "5OelOlEII-VF"
      },
      "source": [
        "# Практическая работа №2: Классические методы математической статистики\n",
        "Выполнила студентка гр. 1375 Сницарь Валерия. Вариант №25"
      ]
    },
    {
      "cell_type": "markdown",
      "metadata": {
        "id": "xe8_Nk45I-VM"
      },
      "source": [
        "## Цель работы\n",
        "Научится применять методы математической статистики для решения задач статистического анализа; сформировать навыки реализации методов с помощью прикладных программных пакетов."
      ]
    },
    {
      "cell_type": "markdown",
      "metadata": {
        "id": "6uAzcfMZI-VN"
      },
      "source": [
        "## Основные теоретические положения\n",
        "1. Упорядоченный набор наблюдений $ X_{(1)} \\ll$  $...$ $\\ll X_{(n)}$ - вариационный ряд:  \n",
        "  * Элементы вариационного ряда - порядковые статистики\n",
        "  * Переход от исходного набора наблюдений к порядковым статистикам необратим\n",
        "  * Для восстановления исходного набора наблюдений требуются ранги $R_1, ..., R_n $ (ранг i-го наблюдения $R_i$ - его номер в вариационном ряду)\n",
        "\n",
        "2. Выборочные числовые характеристики\n",
        "  * Мат. ожидание: $\\overline{X}=\\frac{1}{n}\\sum_{i=1}^{n}X_{i}$\n",
        "  * Дисперсия:  $S^{2}=\\frac{1}{n}\\sum_{i=1}^{n}\\left( X_{i}-\\overline{X} \\right)^{2}=\\overline{X^{2}}-\\overline{X}^{2}$\n",
        "  * Коэф.асимметрии(скошености): $\\widehat{S_{kew}}X=\\frac{\\left(\\frac{1}{n}\\sum_{i=1}^{n}\\left( X_{i}-\\overline{X} \\right)^{3} \\right)}{S^{3}}$\n",
        "  * Коэф.эксцесса(островершинности): $\\widehat{K_{urt}}X=\\frac{\\frac{1}{n}\\sum_{i=1}^{n}\\left( X_{i}-\\overline{X}^{4} \\right)}{S^{4}}-3$\n",
        "\n",
        "3. Оценка максимального правдоподобия\n",
        "  * Оценка $\\widehat{\\theta}(X)$, максимизирующая ф - ю правдоподобия $L(\\overrightarrow{X};θ)$ по $θ$ при каждом фикс. X:\n",
        "  $$L(\\overrightarrow{X};\\widehat{\\theta}(\\overrightarrow{X})) \\geqslant L(\\overrightarrow{X};\\widetilde{\\theta}(\\overrightarrow{X})), \\forall x \\in \\mathfrak{X}, \\forall \\hat{\\theta}(\\overrightarrow{X})$$\n",
        "  называется оценкой максимального правдоподобия(ОМП).\n",
        "\n",
        "  * Если $X_{1}, \\ldots X_{n}$ - выборка из распределения с плотностью  распределения $p_{\\theta}, \\theta \\in \\Theta $, то:\n",
        "    1. функция правдоподобия распадается на произведения:\n",
        "  $$L(\\overrightarrow{X}; \\theta)=\\prod_{i=1}^{n} p_{\\theta}\\left(x_{i}\\right)$$\n",
        "    2. Логарифм функции правдоподобия представляет:\n",
        "$$ LL(\\overrightarrow{X}; \\theta)=\\ln L(\\overrightarrow{X}; \\theta)=\\sum_{i=1}^{n} \\ln p_{\\theta}\\left(x_{i}\\right) $$\n",
        "    3. В силу монотонности логарифма задача максимизации функции правдоподобия сводится к задаче максимизации ее логарифма по всем $ \\theta \\in \\Theta $\n",
        "\n",
        "$$LL(\\overrightarrow{X}; \\theta)=\\sum_{i=1}^{n} \\ln p_{\\theta}\\left(x_{i}\\right)$$\n",
        "\n",
        "\n",
        "\n"
      ]
    },
    {
      "cell_type": "markdown",
      "source": [
        "4. НРМД\n",
        "  * Оценка $\\widehat{\\theta}(\\overrightarrow{X})$ параметра $θ$ называется несмещенной, если при любом значении параметра $θ \\in Θ$:\n",
        "  $$\\mathbb{E}_{\\theta} \\hat{\\theta}(\\overrightarrow{X})= 0 $$\n",
        "  * Несмещенная оценка $\\widehat{\\theta}(\\overrightarrow{X})$ параметра $θ$ называется несмещенной с равномерно-минимальной дисперсией(НРМД), если для любой несмещенной оценки $\\theta^{*}$\n",
        "  $$R_{\\hat{\\theta}}(\\theta) \\leqslant R_{\\theta^{*}}(\\theta)$$\n",
        "  * Т: Может существовать не более одной НРМД-оценки параметра  $θ \\in Θ$\n",
        "  * Алгоритм поиска НРМД-оценок:\n",
        "    1. Найти оценку $\\hat{\\theta}(T)$, явл. функцией от МДС Т\n",
        "    2. Доказать полноту МДС Т\n",
        "    3. Скорректировать смещение:\n",
        "  $$\\widetilde{\\theta}(T)=f(\\hat{\\theta}(T), T): \\mathbb{E}_{\\theta} \\hat{\\theta}(T)=\\theta, \\forall \\theta \\in \\Theta$$"
      ],
      "metadata": {
        "id": "tFajE5A1304h"
      }
    },
    {
      "cell_type": "markdown",
      "source": [
        "5. Асимптотический доверительный интервал\n",
        "  * Пусть $(\\mathfrak{X}, \\mathfrak{F},\\mathcal{P}), \\mathcal{P}=\\left\\{P_{\\theta}: 0 \\in \\Theta\\right\\}$ - статистический эксперимент.  \n",
        "  $\\mathcal{Y}$ - совокупность подмножеств множества $Θ$ опр. формы  $\\alpha \\in(0,1)$ - малое число\n",
        "\n",
        "  * Статистика $\\hat{\\Theta}: \\mathfrak{X} \\rightarrow \\mathcal{Y}$, удовл. условию $$\\mathbb{P}_{\\theta}(\\hat{\\theta} \\ni \\theta) \\geqslant 1-\\alpha$$\n",
        "  называется доверительной оценкой пар-ра $θ$ уровня доверия $1-\\alpha$\n",
        "\n",
        "  * Статистика $\\hat{\\Theta}: \\mathfrak{X} \\rightarrow \\mathbb{R}^{2}$ , удовл. усл\n",
        "  $$\\mathbb{P}_{\\theta}\\left(\\left[T_{1}(\\vec{X}), T_{2}(\\vec{X})\\right] \\ni \\theta\\right) \\geqslant 1-\\alpha, \\forall \\theta \\in \\Theta $$\n",
        "  называется доверительным интервалом параметра $θ$ уровня доверия $1-\\alpha$\n",
        "  * Оценка $\\hat{\\theta}(\\overrightarrow{X})$ nap-pa $\\theta$ называется состоятельной, если при каждом значении $\\theta \\in \\Theta$ для любого $\\varepsilon>0$ : $$\\lim _{n \\rightarrow \\infty} \\mathbb{P}_{\\theta}(|\\hat{\\theta}(\\overrightarrow{X})-\\theta|>\\varepsilon)=0$$\n",
        "  и сильно состоятельной, если $$\\lim _{n \\rightarrow \\infty} \\hat{\\theta}(\\overrightarrow{X})=\\theta,$$ с вероятностью  $\\mathbb{P}_{\\theta}=1$ при каждом $\\theta \\in \\Theta$\n",
        "  * Оценка $\\hat{\\theta}(\\overrightarrow{X})$ называется асимптотически нормальной, если при каждом $\\theta \\in Θ$ сущ. $\\sigma^{2}(\\theta)$ :\n",
        "  $$\\begin{aligned}\n",
        "& \\mathbb{P_\\theta}\\left(\\sqrt{n} \\cdot(\\hat{\\theta}(\\overrightarrow{X})-\\theta)<x\\right) \\rightarrow \\Phi\\left(x \\mid \\sigma(\\theta)\\right),  где \\\\\n",
        "& \\Phi(x)=\\int_{-\\infty}^{x} \\frac{1}{\\sqrt{2 \\pi}} \\cdot \\exp \\left(-\\frac{t^{2}}{2}\\right) d t\n",
        "\\end{aligned}\n",
        "$$\n",
        "\n",
        "  * Методы построения:\n",
        "    1.  На базе асимптотической нормальности $\\hat{\\theta}$\n",
        "    * Ас. нормальность: $\\sqrt{n}(\\hat{\\theta}(\\overrightarrow{X})-\\theta) \\sim \\mathcal{N}\\left(0, \\sigma^{2}(\\theta)\\right)$\n",
        "\n",
        "    * $\\sqrt{n} \\frac{\\hat{\\theta}(\\overrightarrow{X})-\\hat{\\theta}}{\\sigma(\\hat{\\theta}(X))} \\sim \\mathcal{N}(0,1)$\n",
        "    * $x_{\\alpha}: \\Phi\\left(x_{\\alpha}\\right)=1-\\frac{\\alpha}{2}$\n",
        "    * Д.и. $\\left[\\hat{\\theta}(\\overrightarrow{X})-\\frac{x_{\\alpha} \\cdot \\sigma(\\hat{\\theta}(\\overrightarrow{X}))}{\\sqrt{n}} ; \\hat{\\theta}(\\overrightarrow{X})+\\frac{x_{\\alpha} \\cdot \\sigma(\\hat{\\theta}(\\overrightarrow{X}))}{\\sqrt{n}}\\right]\\ni \\theta$\n",
        "    2. На базе ОМП\n",
        "    * $\\hat{\\theta}(\\overrightarrow{X})$ - ОМП\n",
        "    * При выполнении опр. условий:\n",
        "       $\\sqrt{n} \\cdot(\\hat{\\theta}(\\overrightarrow{X})-\\theta) \\sim \\mathcal{N}\\left(0, \\frac{1}{I(\\theta)}\\right)$\n",
        "    * $\\sqrt{n \\cdot I(\\hat{\\theta})}(\\hat{\\theta}(\\overrightarrow{X})-\\theta) \\sim \\mathcal{N}(0,1)$\n",
        "    * $x_{\\alpha}: \\Phi\\left(x_{\\alpha}\\right)=1-\\frac{\\alpha}{2}$\n",
        "    * $\\left[\\hat{\\theta}(\\overrightarrow{X})-\\frac{x_{\\alpha}}{\\sqrt{n \\cdot I(\\hat{\\theta})}}, \\hat{\\theta}(\\overrightarrow{X})+\\frac{x_{\\alpha}}{\\sqrt{n ⋅ I(\\hat{\\theta})}}\\right] \\ni \\theta$\n",
        "      "
      ],
      "metadata": {
        "id": "jZuxWMGy4BEB"
      }
    },
    {
      "cell_type": "markdown",
      "source": [
        "6. Статистическая гипотеза\n",
        "  * Пусть $(\\mathfrak{X}, \\mathfrak{F}, \\mathcal{P}),\\left\\{P_{\\theta}: \\theta \\in \\Theta\\right\\}$ - статистический эксперимент\n",
        "\n",
        "    Статистической гипотезой называется утверждение о параметре вида $$H: \\theta \\in \\Theta^{*} \\subseteq \\Theta$$\n",
        "  *  Одноточечная гипотеза $H_{0}: \\theta=\\theta^{*}$, определяющая точное значение параметра, называется простой\n",
        "    - $\\theta^{*} \\in \\Theta$ - фиксированное значение параметра\n",
        "  * Другие гипотезы называются сложными\n",
        "  * В классической постановке выдвигают:\n",
        "    - основную (или нулевую) гипотезу $H_{0}: \\theta \\in \\Theta_{0}$\n",
        "    - альтернативную гипотезу (альтернативу) $H_{A}: \\theta \\in \\Theta_{A}$ :  $\\Theta_{0} \\cap \\Theta_{A}=\\varnothing$.\n",
        "    - Задача исследователя - по результатам наблюдений сделать выбор между основной гипотезой и альтернативой\n",
        "    - Иногда выдвигают несколько взаимоисключающих гипотез, из которых требуется выбрать одну\n",
        "7. Проверка согласия статистических гипотез\n",
        "  * Данные представляют собой однородный набор наблюдений(типичной моделью является выборка)\n",
        "  * Гипотеза согласия ставится в терминах распределения отдельных наблюдений\n",
        "    - простая: о согласии с некоторым фиксированным распределением\n",
        "    - сложная: о принадлежности некоторому множеству распределений\n",
        "8. Статистический критерий\n",
        "  * Статистическим критерием (тестом) называется статистика $\\phi: \\mathfrak{X} \\rightarrow[0,1]$, определяющая вероятность отвергнуть основную гипотезу по результатам наблюдений.\n",
        "    - Критерий - правило, согласно которому принимается или отвергается основная гипотеза\n",
        "      1. доверительная область: $\\{X \\in \\mathfrak{X}: \\phi(X)=0\\}$ - основная гипотеза принимается\n",
        "      2. критическая область: $\\{X \\in \\mathfrak{X}: \\phi(X)=1\\}$ - основная гипотеза отвергается\n",
        "      3. область сомнений: $\\{X \\in \\mathfrak{X}: \\phi(X) \\in(0,1)\\}$ - решение принимается в результате проведения испытания с вероятностью отвержения основная гипотезы $\\phi(X)$ и вероятностью ее принятия $1-\\phi(X)$.\n",
        "  * Характеристики статистического критерия\n",
        "    - Статистический критерий определяет вероятности ошибок I и II рода\n",
        "       - $P_{\\theta}=\\mathbb{E}_{\\theta} \\phi(X), \\theta \\in \\Theta_{0}$ - вероятность ошибки I рода\n",
        "       - $P_{\\theta}=1-\\mathbb{E}_{\\theta} \\phi(X), \\theta \\in \\Theta_{A^{-}}$ - вероятность ошибки II рода\n",
        "    - Мощность статистического критерия $ \\phi $  \n",
        "  $b_{\\phi}(\\theta)=1-P_{\\theta}=\\mathbb{E}_{\\theta} \\phi(X), \\theta \\in \\Theta_{A}$\n",
        "    - Уровень значимости статистического критерия $\\phi$\n",
        "      * Классический подход Неймана-Пирсона заключается в том, чтобы ограничить ошибку I рода малым наперед заданным числом $\\alpha$\n",
        "      * Значение $\\alpha$, ограничивающее вероятность ошибки I рода называется уровнем значимости критерия.\n",
        "    - Функция $b_{\\phi}(\\theta)=\\mathbb{E}_{\\theta} \\phi(X)$ определяет\n",
        "      - вероятность ошибки I рода при $\\theta \\in \\Theta_{0}$\n",
        "      - мощность критерия при $\\theta \\in \\Theta_{A}$"
      ],
      "metadata": {
        "id": "sF_D0Jgd4dao"
      }
    },
    {
      "cell_type": "markdown",
      "source": [
        "9. Наиболее мощный критерий\n",
        "  * Т: Пусть семейство $\\mathcal{P}$ имеет монотонное отношение правдоподобия относительно $θ_{*}$ и некоторой статистики $T$ (для определенности считаем, что $LR^{*}$ возрастает). Тогда существует равномерно наиболее мощный критерий проверки гипотезы $H_{0}$ при альтернативе $H_{A}$, который имеет вид\n",
        "  $$\\phi(x)=\\left\\{\\begin{array}{l}\n",
        "1, \\text { если } T(X)>c ; \\\\\n",
        "p, \\text { если } T(X)=c ; \\\\\n",
        "0, \\text { если } T(X)<c,\n",
        "\\end{array}\\right.$$\n",
        "\n",
        "   где константы $c$ и $p \\in[0,1)$ выбираются из уравнения $$\n",
        "\\sup_{\\theta \\leq \\theta_{*}}\\mathbb{E}_{\\theta} \\phi(X)=\\mathbb{E}_{\\theta_{\\star}} \\phi(X)=P_{\\theta_{*}}(T(X)>c)+p P_{\\theta_{*}}(T(X)=c)=\\alpha\n",
        "$$\n",
        "  * Построенный в теореме критерий - единственный наиболее мощный $T$ - измеримый с точностью до множеств нулевой вероятности\n"
      ],
      "metadata": {
        "id": "vkQG46RA44o5"
      }
    },
    {
      "cell_type": "markdown",
      "source": [
        "10. Критерий $\\chi^2$ для проверки гипотез\n",
        "\n",
        "  * $I_{1}, ..., I_{N}:$ $I_{i} = (a_{i-1}, a_i], i = \\overline {1,N}$, данные интервалы не пересекаются и покрывают всё множество возможных значений сл. вел. X\n",
        "  * $p_{i}$ - теоритическая вероятность попадания сл. вел. X в интервал $I_{i}$, при условии, что справедлива $H_{0}$.\n",
        "  $$p_{i} = P(X \\in I_{i}|H_{0})$$\n",
        "\n",
        "  * $n_{i} = num(x_{j} \\in I_{i})$ - число наблюдений выборки\n",
        "\n",
        "  * Статистика критерия основана на сравнении относительной частоты и теоритической.\n",
        "$$\\chi^{2}_{набл} = \\sum \\limits_{i=1}^{N} \\frac{n}{p_{i}} \\bigg ( \\frac{n_{i}}{n} - p_{i} \\bigg )^{2} = \\sum \\limits_{i=1}^{N} \\frac{(n_{i} - p_{i} n)^{2}}{n p_{i}} \\sim \\chi^{2}_{N-1}$$\n",
        "\n",
        "  * Если $\\mathcal{X}^{2}_{N-1,1-\\alpha_{1}} \\lt \\chi^2_{набл}$, то гипотезу отвергаем\n",
        "  \n",
        "  * Если $\\mathcal{X}^{2}_{N-1,1-\\alpha_{1}} \\gt \\chi^2_{набл}$, то гипотезу принимаем"
      ],
      "metadata": {
        "id": "589qkBTS48xy"
      }
    },
    {
      "cell_type": "markdown",
      "source": [
        "11. Теорема Колмогорова\n",
        "  * Статистика критерия Колмогорова: $D_{n}=\\sup _{x \\in \\mathbb{R}}\\left|F_{n}(x)-F_{0}(x)\\right|$, где\n",
        "  $F_{n}(x)=\\frac{1}{n} \\sum_{i=1}^{n} 1_{\\left\\{x_{i}<x\\right\\}}$ - выборочная функция распределения\n",
        "  * Теорема Колмогорова: $\\sqrt{n} D_{n} \\Rightarrow \\mathcal{K}$ при основной гипотезе, или\n",
        "$$P_{F_{0}}\\left(\\sqrt{n} D_{n}<x\\right) \\rightarrow K(x), x \\in \\mathbb{R}$$ где\n",
        "\n",
        "     - $\\mathcal{K}$ - распределение Колмогорова\n",
        "     - $K(x)$ - функция распределения Колмогорова\n",
        "     - существует точное распределение статистики $D_{n}$\n",
        "     - $K_{n}$ - функция точного распределения $D_{n}$\n",
        "  * Критерий Колмогорова\n",
        "     - Выбираем уровень значимости $\\alpha>0$ - малое число\n",
        "     - Критерий уровня значимости $\\alpha$\n",
        "\n",
        "  $$\\tilde{\\phi}(x)= \\begin{cases}0, & \\text { при } \\widehat{D}_{n} \\leq x_{\\alpha} \\\\ 1, & \\text { при } \\widehat{D}_{n}>x_{\\alpha}\\end{cases}$$\n",
        "  * $x_{\\alpha}: K\\left(x_{\\alpha} / \\sqrt{n}\\right)=1-\\alpha$ для асимптотического критерия\n",
        "\n",
        "     $x_{\\alpha}: K_{n}\\left(x_{\\alpha}\\right)=1-\\alpha$ для точного критерия\n",
        "  * Асимптотический критерий можно применять при $n \\geq 5$"
      ],
      "metadata": {
        "id": "vNVG33P95Afw"
      }
    },
    {
      "cell_type": "markdown",
      "metadata": {
        "id": "X2xadqVdI-VN"
      },
      "source": [
        "## Постановка задачи\n",
        "Для полученных в результате эксперимента наборов данных выполнить статистическую обработку. Полученные результаты содержательно проинтерпретировать."
      ]
    },
    {
      "cell_type": "markdown",
      "metadata": {
        "id": "rjS5vppWI-VO"
      },
      "source": [
        "## Выполнение работы\n",
        "1. В результате эксперимента получены данные, приведенные в таблице 1.\n",
        "\n",
        "Таблица 1.\n",
        "\n",
        "$\\alpha_1 = 0.01$  $a = 3.90$  $b = 7.19$  $\\lambda_0 = 8.00$  $\\lambda_1 = 4.00$\n",
        "\n",
        "\n",
        "3 8 11 1 2 4 2 10 6 1 9 1 1 2 11 0 8 19 18 1 0 1 4 1 1 5 7 6 0 3 0 6 3 14 5 0 32 1 0 6 7 0 3 12 6 1 21 4 1 6"
      ]
    },
    {
      "cell_type": "code",
      "execution_count": null,
      "metadata": {
        "id": "mHNxfhClO73j"
      },
      "outputs": [],
      "source": [
        "alpha_1 = 0.01\n",
        "a = 3.90\n",
        "b = 7.19\n",
        "lambda_0 = 8.00\n",
        "lambda_1 = 4.00\n",
        "data = [3, 8, 11, 1, 2, 4, 2, 2, 10, 6, 1, 9, 1, 1, 2, 11, 0, 8, 19, 18, 1, 0, 1, 4, 1, 1, 5, 7, 6, 0, 3, 0, 6, 3, 14, 5, 0, 32, 1, 0, 6, 7, 0, 3, 12, 6, 1, 21, 4, 1, 6]"
      ]
    },
    {
      "cell_type": "markdown",
      "metadata": {
        "id": "NkDcmHAAOtQq"
      },
      "source": [
        "a) Построить вариационный ряд, эмпирическую функцию распределения и гистограмму частот."
      ]
    },
    {
      "cell_type": "code",
      "execution_count": null,
      "metadata": {
        "colab": {
          "base_uri": "https://localhost:8080/"
        },
        "id": "oYkGEDHOI-VP",
        "outputId": "b01700b0-9d07-43bb-a83d-bc29480cbebd"
      },
      "outputs": [
        {
          "name": "stdout",
          "output_type": "stream",
          "text": [
            "Вариационный ряд:\n",
            "[0, 0, 0, 0, 0, 0, 0, 1, 1, 1, 1, 1, 1, 1, 1, 1, 1, 1, 2, 2, 2, 2, 3, 3, 3, 3, 4, 4, 4, 5, 5, 6, 6, 6, 6, 6, 6, 7, 7, 8, 8, 9, 10, 11, 11, 12, 14, 18, 19, 21, 32]\n"
          ]
        }
      ],
      "source": [
        "#Вариационный ряд\n",
        "var_range = data.copy()\n",
        "var_range.sort()\n",
        "print(\"Вариационный ряд:\")\n",
        "print(var_range)"
      ]
    },
    {
      "cell_type": "code",
      "execution_count": null,
      "metadata": {
        "colab": {
          "base_uri": "https://localhost:8080/"
        },
        "id": "ntAJcUqrR_5W",
        "outputId": "b86e95d2-8aeb-48b3-c872-dd89e4f28bed"
      },
      "outputs": [
        {
          "name": "stdout",
          "output_type": "stream",
          "text": [
            "[0, 1, 2, 3, 4, 5, 6, 7, 8, 9, 10, 11, 12, 14, 18, 19, 21, 32]\n",
            "[0.13725490196078433, 0.35294117647058826, 0.43137254901960786, 0.5098039215686274, 0.5686274509803921, 0.6078431372549019, 0.7254901960784313, 0.7647058823529411, 0.803921568627451, 0.8235294117647058, 0.8431372549019608, 0.8823529411764706, 0.9019607843137255, 0.9215686274509803, 0.9411764705882353, 0.9607843137254902, 0.9803921568627451, 1.0]\n"
          ]
        },
        {
          "data": {
            "image/png": "[encoded data removed]",
            "text/plain": [
              "<Figure size 640x480 with 1 Axes>"
            ]
          },
          "metadata": {},
          "output_type": "display_data"
        }
      ],
      "source": [
        "#Эмпирическая функция распределения\n",
        "import matplotlib.pyplot as plt\n",
        "\n",
        "#Таблица эмпирического распределения\n",
        "table = [[], []]\n",
        "for x in var_range:\n",
        "    if x not in table[0]:\n",
        "        table[0].append(x)\n",
        "        table[1].append(len([y for y in var_range if y==x]))\n",
        "\n",
        "for i in range(1, len(table[0])):\n",
        "    table[1][i] += table[1][i-1]\n",
        "for i in range(len(table[0])):\n",
        "    table[1][i] /= len(data)\n",
        "\n",
        "print(table[0])\n",
        "print(table[1])\n",
        "\n",
        "#График\n",
        "plt.figure()\n",
        "plt.title(\"Эмпирическая функция распределения\")\n",
        "l = len(table[0])\n",
        "x = [table[0][0]-3, table[0][0]]\n",
        "y = [0, 0]\n",
        "plt.plot(x, y, color='blue')\n",
        "\n",
        "for i in range(l-1):\n",
        "    x = [table[0][i], table[0][i+1]]\n",
        "    y = [table[1][i], table[1][i]]\n",
        "    plt.plot(x, y, color='blue')\n",
        "    plt.plot(table[0][i], table[1][i], 'o', mec = 'blue', mfc = 'white')\n",
        "x = [table[0][l-1], table[0][l-1]+3]\n",
        "y = [table[1][l-1], table[1][l-1]]\n",
        "plt.plot(x, y, color='blue')\n",
        "plt.plot(table[0][l-1], table[1][l-1], 'o', mec = 'blue', mfc = 'white')\n",
        "plt.show()\n"
      ]
    },
    {
      "cell_type": "code",
      "execution_count": null,
      "metadata": {
        "id": "Ku7D3XwN3L9i",
        "outputId": "702a92f9-dbfc-42b3-c147-24645a924ff0"
      },
      "outputs": [
        {
          "data": {
            "image/png": "[encoded data removed]",
            "text/plain": [
              "<Figure size 640x480 with 1 Axes>"
            ]
          },
          "metadata": {},
          "output_type": "display_data"
        }
      ],
      "source": [
        "#Гистограмма частот\n",
        "import numpy as np\n",
        "h = 1\n",
        "plt.title(\"Гистограмма и полигон частот\")\n",
        "bins = np.arange(min(data), max(data) + h, h)\n",
        "plt.hist(var_range, bins=bins, edgecolor='black')\n",
        "plt.show()"
      ]
    },
    {
      "cell_type": "markdown",
      "metadata": {
        "id": "Lqqitsvt3L9j"
      },
      "source": [
        "b) Вычислить выборочные аналоги следующих числовых характеристик: математического ожидания, дисперсии, СКО, медианы, асимметрии, эксцесса, вероятности $\\mathbb{P}(X \\in [a, b])$"
      ]
    },
    {
      "cell_type": "code",
      "execution_count": null,
      "metadata": {
        "id": "cTeOsaTx3L9j",
        "outputId": "4581261a-5d9b-4956-d927-b97fb19172b8"
      },
      "outputs": [
        {
          "name": "stdout",
          "output_type": "stream",
          "text": [
            "Математическое ожидание: 5.41\n",
            "Дисперсия:  39.65\n",
            "СКО:  6.3\n",
            "Медиана: \n",
            "Коэффициент асимметрии:  2.06\n",
            "Коэффициент эксцесса: 4.97\n",
            "P(a <= x <= b):  0.25\n"
          ]
        }
      ],
      "source": [
        "import numpy as np\n",
        "\n",
        "# Выборочное математическое ожидание\n",
        "M = np.mean(data)\n",
        "\n",
        "# Дисперсия\n",
        "D = np.var(data)\n",
        "\n",
        "#СКО\n",
        "s=np.std(data)\n",
        "\n",
        "# Медиана\n",
        "m = np.median(data)\n",
        "\n",
        "#Коэффициент асимметрии\n",
        "Skew = 0\n",
        "for i in range(len(var_range)):\n",
        "    Skew += ((var_range[i] - M)**3) / (s**3)\n",
        "Skew /= len(var_range)\n",
        "\n",
        "\n",
        "#Коэффициент эксцесса\n",
        "Kurt = 0\n",
        "for i in range(len(var_range)):\n",
        "    Kurt += ((var_range[i] - M)**4) / (s**4)\n",
        "Kurt /= len(var_range)\n",
        "Kurt -= 3\n",
        "\n",
        "\n",
        "#P(a <= x <= b)\n",
        "def P(a, b):\n",
        "    P_1 = 0 #P(x < a)\n",
        "    for x in var_range:\n",
        "        if x < a:\n",
        "            P_1 += 1\n",
        "    P_1 /= len(var_range)\n",
        "\n",
        "    P_2 = 0 #P(x <=b)\n",
        "    for x in var_range:\n",
        "        if x <= b:\n",
        "            P_2 += 1\n",
        "    P_2 /= len(var_range)\n",
        "    return round(P_2-P_1, 2)\n",
        "\n",
        "print(\"Математическое ожидание:\", round(M,2))\n",
        "print(\"Дисперсия: \", round(D, 2))\n",
        "print(\"СКО: \", round(s, 2))\n",
        "print(\"Медиана: \")\n",
        "print(\"Коэффициент асимметрии: \", round(Skew, 2))\n",
        "print(\"Коэффициент эксцесса:\", round(Kurt,2))\n",
        "print(\"P(a <= x <= b): \", P(a, b))"
      ]
    },
    {
      "cell_type": "markdown",
      "metadata": {
        "id": "XmDsFKFo3L9j"
      },
      "source": [
        "c)В предположении, что исходные наблюдения являются выборкой из распределения Пуассона, построить оценку максимального правдоподобия параметра $\\lambda$ и соответствующую оценку по методу моментов. Найти смещение оценок.\n",
        "\n",
        "ОМП:\n",
        "\n",
        "Функция плотности распределения:\n",
        "\n",
        "$ P_\\lambda(X=k) = \\frac{\\lambda^k}{k!} \\cdot \\exp(-\\lambda) $\n",
        "\n",
        "Построим функцию правдоподобия\n",
        "\n",
        "$ L(\\overrightarrow{X}; \\theta) = \\prod_{i=1}^{n} \\frac{\\lambda^{X_i}}{X_i!} \\cdot \\exp(-\\lambda) = \\lambda^{\\sum_{i=1}^{n} X_i} \\cdot \\prod_{i=1}^{n} \\frac{1}{X_i} \\cdot \\exp(-n \\lambda)$\n",
        "\n",
        "Построим логарифмическую функцию правдоподобия\n",
        "\n",
        "$ LL(\\overrightarrow{X}; \\theta) = \\sum_{i=1}^n X_i \\cdot \\ln(\\lambda) + \\ln(\\prod_{i=1}^{n} \\frac{1}{X_i}) - n \\cdot \\lambda$\n",
        "\n",
        "Продифференцируем логарифмическую функцию правдоподобия по $\\lambda$, приравняем частную производную к нулю, получим параметр.\n",
        "\n",
        "$ \\frac{\\partial LL(\\overrightarrow{X};\\theta)}{\\partial \\lambda} = \\frac{\\sum_{i=1}^n X_i}{\\lambda} - n = 0$\n",
        "\n",
        "$ \\lambda=\\frac{1}{n}\\cdot \\sum_{i=1}^{n}X_{i} = \\overline{X} $\n",
        "\n",
        "$ \\widehat{\\theta}=\\widehat{\\lambda}=\\overline{X} $\n",
        "\n",
        "Найдем смещение\n",
        "\n",
        "$\\mathbb{E}_{\\theta}\\widehat{\\theta} = \\mathbb{E}_{\\theta}\\overline{X} = \\mathbb{E}_{\\theta}\\frac{1}{n}\\sum_{i=1}^{n}X_i = \\frac{1}{n} \\cdot \\normalsize n \\cdot \\lambda = \\lambda \\Rightarrow \\widehat{\\theta}$ - несмещённая оценка.\n"
      ]
    },
    {
      "cell_type": "code",
      "execution_count": null,
      "metadata": {
        "id": "Ug4GlBHV3L9j",
        "outputId": "f5763a09-f726-43c2-a7c1-b737b873eb0d"
      },
      "outputs": [
        {
          "name": "stdout",
          "output_type": "stream",
          "text": [
            "ОМП:  5.41\n"
          ]
        }
      ],
      "source": [
        "#ОМП\n",
        "print(\"ОМП: \", round(M, 2))"
      ]
    },
    {
      "cell_type": "markdown",
      "metadata": {
        "id": "U2vL42Ut3L9k"
      },
      "source": [
        "\n",
        "ОММ:\n",
        "\n",
        "$\\mathbb{E}X_1 = \\lambda$ - математическое ожидание\n",
        "\n",
        "$\\mathrm{M_1} = \\overline{X}$ - выборочное среднее\n",
        "\n",
        "$\\widetilde{\\theta} = \\widetilde{\\lambda} = \\overline{X}$\n",
        "\n",
        "Найдем смещение\n",
        "\n",
        "$\\mathbb{E}_{\\theta}\\widetilde{\\theta} = \\mathbb{E}_{\\theta}\\overline{X} = \\mathbb{E}_{\\theta}\\frac{1}{n}\\sum_{i=1}^{n}X_i = \\frac{1}{n} \\cdot  n \\cdot \\lambda = \\lambda \\Rightarrow$ несмещённая оценка."
      ]
    },
    {
      "cell_type": "code",
      "execution_count": null,
      "metadata": {
        "id": "kPloFZ1N3L9k",
        "outputId": "8cac4991-115d-458c-f703-ddbc1bb6b433"
      },
      "outputs": [
        {
          "name": "stdout",
          "output_type": "stream",
          "text": [
            "ОММ:  5.41\n"
          ]
        }
      ],
      "source": [
        "#ОММ\n",
        "print(\"ОММ: \", round(M, 2))"
      ]
    },
    {
      "cell_type": "markdown",
      "metadata": {
        "id": "8DBQJNGH3L9k"
      },
      "source": [
        "d) Построить асимптотический доверительный интервал уровня значимости $\\alpha_1$ для параметра $\\lambda$ на базе оценки максимального правдоподобия.\n",
        "\n",
        "Найдем информацию Фишера\n",
        "\n",
        "$I_n(\\theta)=-\\mathbb{E}\\left( \\frac{\\partial^{2} LL}{\\partial \\lambda^{2}} \\right)=-\\mathbb{E}\\left( -\\frac{\\sum_{i=1}^{n}X_{i}}{\\lambda^{2}} \\right)=\\frac{n}{\\lambda^{2}}$\n",
        "\n",
        "$I(\\theta)= \\frac{1}{\\lambda^{2}}$\n",
        "\n",
        "$\\sqrt{n\\cdot I\\left(  \\widehat{\\theta}(\\overrightarrow{X})\\right)}\\left( \\widehat{\\theta}(\\overrightarrow{X})-\\theta \\right)\\sim N(0,1)$\n",
        "\n",
        "Найдем $X_{\\alpha}, \\alpha_1 = 0.01$\n",
        "\n",
        "$\\mathrm{Ф}(X_{\\alpha})=1-\\frac{\\alpha_{1}}{2}=1-\\frac{0.01}{2}=0.995 \\Rightarrow X_{0.01}=2.58$\n",
        "\n",
        "Построим асимптотический доверительный интервал\n",
        "\n",
        "$\\left[ \\overline{X}-\\frac{X_{0.01}}{\\sqrt{n\\cdot \\frac{1}{\\overline{X}^2}}}; \\overline{X}+\\frac{X_{0.01}}{\\sqrt{n \\cdot \\frac{1}{\\overline{X}^2}}}\\right] \\ni \\lambda $\n"
      ]
    },
    {
      "cell_type": "code",
      "execution_count": null,
      "metadata": {
        "id": "6NEnaKE63L9l",
        "outputId": "f02080b2-2bcb-4052-c930-2ef4ee239f22"
      },
      "outputs": [
        {
          "name": "stdout",
          "output_type": "stream",
          "text": [
            "[ 3.46 ; 7.37 ]\n"
          ]
        }
      ],
      "source": [
        "#Асимптотический доверительный интервал:\n",
        "\n",
        "dif = 2.58 / ((len(data) * (1 / (M**2)))**(1/2))\n",
        "print('[', round(M - dif, 2), ';', round(M + dif, 2), ']')"
      ]
    },
    {
      "cell_type": "markdown",
      "metadata": {
        "id": "xr-EOck33L9l"
      },
      "source": [
        "e) Используя гистограмму частот, построить критерий значимости $\\mathcal{X^2}$ проверки простой гипотезы согласия с распределением Пуассона с параметром $\\lambda_0$. Проверить гипотезу на уровень значимости $\\alpha_1$. Вычислить наибольшее значение уровня значимости, на котором ещё нет оснований отвергнуть данную гипотезу.\n",
        "\n",
        "$\\alpha_1 = 0.01$  $\\lambda_0 = 8.00$\n"
      ]
    },
    {
      "cell_type": "code",
      "execution_count": null,
      "metadata": {
        "id": "dBWdU7SD3L9l",
        "outputId": "0cc91c35-f7ef-45d3-bcc5-8a8e2a801f04"
      },
      "outputs": [
        {
          "name": "stdout",
          "output_type": "stream",
          "text": [
            "[0, 1, 2, 3, 4, 5, 6, 7, 8, 9, 10, 11, 12, 14, 18, 19, 21, 32]\n",
            "[7, 11, 4, 4, 3, 2, 6, 2, 2, 1, 1, 2, 1, 1, 1, 1, 1, 1]\n"
          ]
        }
      ],
      "source": [
        "table = [[], []]\n",
        "for x in var_range:\n",
        "    if x not in table[0]:\n",
        "        table[0].append(x)\n",
        "        table[1].append(len([y for y in var_range if y==x]))\n",
        "print(table[0])\n",
        "print(table[1])\n",
        "\n"
      ]
    },
    {
      "cell_type": "markdown",
      "metadata": {
        "id": "Q3A9Z0HU3L9m"
      },
      "source": [
        "$ p_i = \\sum_{k\\in I_{i}}\\frac{\\lambda_0^{k_i}}{k_i!} \\cdot \\exp(-\\lambda_0) $"
      ]
    },
    {
      "cell_type": "code",
      "execution_count": null,
      "metadata": {
        "id": "d16gPZk33L9m",
        "outputId": "499721df-904b-489a-f13a-c299980f95d5"
      },
      "outputs": [
        {
          "name": "stdout",
          "output_type": "stream",
          "text": [
            "[0] n = 7 p = 0.0003 np = 0.0023   20852.71\n",
            "[1] n = 11 p = 0.0027 np = 0.0295   4076.85\n",
            "[2, 3] n = 8 p = 0.0394 np = 0.3149   187.56\n",
            "[4, 5] n = 5 p = 0.1489 np = 0.7443   24.33\n",
            "[6] n = 6 p = 0.1221 np = 0.7328   37.86\n",
            "[7, 8, 9, 10] n = 6 p = 0.5025 np = 3.0151   2.96\n",
            "[11, 12, 14, 18, 19, 21, 32] n = 8 p = 0.1386 np = 1.1091   42.81\n",
            "25225.07\n"
          ]
        }
      ],
      "source": [
        "import math\n",
        "\n",
        "def p(x):\n",
        "    return ((lambda_0**x)/(math.factorial(x)))*np.exp(-lambda_0)\n",
        "\n",
        "\n",
        "groups = [[0],[1],[2,3],[4,5],[6],[7,8,9,10],[11,12,14,18,19,21,32]]\n",
        "\n",
        "cr = 0\n",
        "for gr in groups:\n",
        "    p_ = 0\n",
        "    for x in gr:\n",
        "        p_ += p(x)\n",
        "    n_ = len([x for x in var_range if x in gr])\n",
        "    n_p = n_*p_\n",
        "    temp = ((n_-n_p)**2)/(n_p)\n",
        "    cr += temp\n",
        "    print(gr ,'n =', n_, 'p =',round(p_, 4), 'np =', round(n_p, 4), ' ', round(temp, 2))\n",
        "\n",
        "print(round(cr, 2))"
      ]
    },
    {
      "cell_type": "markdown",
      "metadata": {
        "id": "WHeOmcSf3L9m"
      },
      "source": [
        "$I_1 = [0]$ $n_1 = 7$  $p_1 = 0.0003$  $np_1 = 0.0023$   $\\frac{(n_1-np_1)^{2}}{np_1} = 20852.71$\n",
        "\n",
        "$I_2 = [1]$ $n_2 = 11$  $p_2 = 0.0027$  $np_2 = 0.0295$   $\\frac{(n_2-np_2)^{2}}{np_2} = 4076.85$\n",
        "\n",
        "$I_3 = [2, 3]$ $n_3 = 8$  $p_3 = 0.0394$  $np_3 = 0.3149$   $\\frac{(n_3-np_3)^{2}}{np_3} = 187.56$\n",
        "\n",
        "$I_4 = [4, 5]$ $n_4 = 5$  $p_4 = 0.1489$  $np_4 = 0.7443$   $\\frac{(n_4-np_4)^{2}}{np_4} = 24.33$\n",
        "\n",
        "$I_5 = [6]$ $n_5 = 6$  $p_5 = 0.1121$  $np_5 = 0.7328$   $\\frac{(n_5-np_5)^{2}}{np_5} = 37.87 $\n",
        "\n",
        "$I_6 = [7, 8, 9, 10]$ $n_6 = 6$  $p_6 = 0.5025$  $np_6 = 3.0151$   $\\frac{(n_6-np_6)^{2}}{np_6} = 2.96$\n",
        "\n",
        "$I_7 = [11, 12, 14, 18, 19, 21, 32]$ $n_7 = 8$  $p_7 = 0.1386$  $np_7 = 1.1091$   $\\frac{(n_7-np_7)^{2}}{np_7} = 42.81$\n",
        "\n",
        "Критерий $\\mathcal{X}^{2} =\\sum_{i=1}^{7}\\frac{(n_{i}-np_{i})^{2}}{np_{i}} = 25225.07$\n",
        "\n",
        "$\\mathcal{X}^{2}_{N-1,\\alpha_{1}}=\\mathcal{X}^{2}_{6,0.01}\\simeq 16.812$\n",
        "\n",
        "$\\mathcal{X}^{2} > \\mathcal{X}^{2}_{6,0.01} \\Rightarrow$ отвергаем гипотезу\n",
        "\n",
        "Наибольшее значение уровня значимости, при котором нет еще оснований отвергнуть данную гипотезу, ничтожно мало  << 0.01"
      ]
    },
    {
      "cell_type": "markdown",
      "metadata": {
        "id": "1kgWmrdw3L9m"
      },
      "source": [
        "f) Построить критерий значимости  $\\mathcal{X}^2$ проверки сложной гипотезы согласия с распределением Пуассона. Проверить гипотезу по уровню значимости $\\alpha_1 $.Вычислить наибольшее значение уровня значимости, на котором ещё нет оснований отвергнуть данную гипотезу.\n",
        "\n",
        "$\\alpha_1 = 0.01$  $\\overline{X} = 5.41$\n",
        "\n",
        "$ p_i = \\sum_{k\\in I_{i}}\\frac{\\overline{X}^{k_i}}{k_i!} \\cdot \\exp(-\\overline{X}) $"
      ]
    },
    {
      "cell_type": "code",
      "execution_count": null,
      "metadata": {
        "id": "9vHefG-Z3L9m",
        "outputId": "b3a13e6d-6df9-46e8-a0c7-c4761cf2e18c"
      },
      "outputs": [
        {
          "name": "stdout",
          "output_type": "stream",
          "text": [
            "[0] n = 7 p = 0.0045 np = 0.0312   1554.22\n",
            "[1] n = 11 p = 0.0242 np = 0.2657   433.62\n",
            "[2, 3] n = 8 p = 0.1833 np = 1.4662   29.12\n",
            "[4, 5] n = 5 p = 0.3322 np = 1.661   6.71\n",
            "[6] n = 6 p = 0.1557 np = 0.9344   27.46\n",
            "[7, 8, 9, 10] n = 6 p = 0.2773 np = 1.664   11.3\n",
            "[11, 12, 14, 18, 19, 21, 32] n = 8 p = 0.0199 np = 0.1591   386.55\n",
            "2448.97\n"
          ]
        }
      ],
      "source": [
        "def p(x):\n",
        "    return ((M**x)/(math.factorial(x)))*np.exp(-M)\n",
        "\n",
        "\n",
        "groups = [[0],[1],[2,3],[4,5],[6],[7,8,9,10],[11,12,14,18,19,21,32]]\n",
        "\n",
        "cr = 0\n",
        "for gr in groups:\n",
        "    p_ = 0\n",
        "    for x in gr:\n",
        "        p_ += p(x)\n",
        "    n_ = len([x for x in var_range if x in gr])\n",
        "    n_p = n_*p_\n",
        "    temp = ((n_-n_p)**2)/(n_p)\n",
        "    cr += temp\n",
        "    print(gr ,'n =', n_, 'p =',round(p_, 4), 'np =', round(n_p, 4), ' ', round(temp, 2))\n",
        "\n",
        "print(round(cr, 2))"
      ]
    },
    {
      "cell_type": "markdown",
      "metadata": {
        "id": "_8LiusFu3L9n"
      },
      "source": [
        "$I_1 = [0]$ $n_1 = 7$  $p_1 = 0.0045$  $np_1 = 0.0312$   $\\frac{(n_1-np_1)^{2}}{np_1} = 1554.22$\n",
        "\n",
        "$I_2 = [1]$ $n_2 = 11$  $p_2 = 0.0242$  $np_2 = 0.2657$   $\\frac{(n_2-np_2)^{2}}{np_2} = 433.62$\n",
        "\n",
        "$I_3 = [2, 3]$ $n_3 = 8$  $p_3 = 0.1833$  $np_3 = 1.4662$   $\\frac{(n_3-np_3)^{2}}{np_3} = 29.12$\n",
        "\n",
        "$I_4 = [4, 5]$ $n_4 = 5$  $p_4 = 0.3322$  $np_4 = 1.661$   $\\frac{(n_4-np_4)^{2}}{np_4} = 6.71$\n",
        "\n",
        "$I_5 = [6]$ $n_5 = 6$  $p_5 = 0.1557$  $np_5 = 0.9344$   $\\frac{(n_5-np_5)^{2}}{np_5} = 27.46 $\n",
        "\n",
        "$I_6 = [7, 8, 9, 10]$ $n_6 = 6$  $p_6 = 0.2773$  $np_6 = 1.664$   $\\frac{(n_6-np_6)^{2}}{np_6} = 11.3$\n",
        "\n",
        "$I_7 = [11, 12, 14, 18, 19, 21, 32]$ $n_7 = 8$  $p_7 = 0.0199$  $np_7 = 0.1591$   $\\frac{(n_7-np_7)^{2}}{np_7} = 386.55$\n",
        "\n",
        "Критерий $\\mathcal{X}^{2} =\\sum_{i=1}^{7}\\frac{(n_{i}-np_{i})^{2}}{np_{i}} = 2448.97$\n",
        "\n",
        "$\\mathcal{X}^{2}_{N-1,\\alpha_{1}}=\\mathcal{X}^{2}_{6,0.01}\\simeq 16.812$\n",
        "\n",
        "$\\mathcal{X}^{2} > \\mathcal{X}^{2}_{6,0.01} \\Rightarrow$ отвергаем гипотезу\n",
        "\n",
        "Наибольшее значение уровня значимости, при котором нет еще оснований отвергнуть данную гипотезу, ничтожно мало  << 0.01"
      ]
    },
    {
      "cell_type": "markdown",
      "metadata": {
        "id": "z6UPDVHO3L9n"
      },
      "source": [
        "g) Построить наиболее мощный критерий проверки простой гипотезы пауссоновости с параметром $\\lambda=\\lambda_0$ при альтернативе пуассоновсти с параметром $\\lambda=\\lambda_1$. Проверить гипотезу на уровне значимости $\\alpha_1$. Что получится, если поменять местами основную и альтернативную гипотезы?\n",
        "\n",
        "$\\lambda_0 = 8.00$  $\\lambda_1 = 4.00$\n",
        "\n",
        "$H_{0}: \\theta = \\lambda_0$\n",
        "\n",
        "$H_{A}: \\theta = \\lambda_1$\n",
        "\n",
        "Статистическое отношение правдоподобия:\n",
        "\n",
        "$LR(\\overrightarrow{X},\\lambda_{1},\\lambda_{0}) = \\frac{L\\left( \\overrightarrow{X},\\lambda_{1} \\right)}{L\\left( \\overrightarrow{X},\\lambda_{0} \\right)}= \\frac{\\lambda_{1}^{\\sum_{i=1}^{n}X_{i}}\\cdot exp(-n\\cdot \\lambda_{1})}{\\lambda_{0}^{\\sum_{i=1}^{n}X_{i}}\\cdot exp(-n\\cdot \\lambda_{0})}$\n",
        "\n",
        "В силу монотонности статистики $LR(\\overrightarrow{X})$ относительно МДС\n",
        "\n",
        "$LR(\\overrightarrow{X},\\lambda_{0},\\lambda_{1}) > c \\Leftrightarrow \\overline{X} < c^* $\n",
        "\n",
        "\n",
        "$ \\phi(x) =\\left\\{\\begin{array}{l} 1, \\overline{X} < c^* \\\\ p, \\overline{X} = c^* \\\\ 0, \\overline{X} > c^*\\\\ \\end{array}\\right.$\n",
        "\n",
        "по ЦПТ:\n",
        "\n",
        "$\\sqrt{n} \\frac{\\overline{X} - \\mathbb{E}x}{\\sqrt{\\mathbb{D}}} \\sim \\mathcal{N}(0, 1)$\n",
        "\n",
        "$\\sqrt{n} \\frac{\\overline{X} - \\lambda_0}{\\sqrt{\\lambda_0}}\\sim \\mathcal{N}(0, 1)$, при $H_0$\n",
        "\n",
        "$\\Phi\\left(\\sqrt{n} \\frac{\\overline{X} - \\lambda_0}{\\sqrt{\\lambda_0}} \\geq \\sqrt{n} \\frac{c^* - \\lambda_0}{\\sqrt{\\lambda_0}}\\right) =1 - \\Phi\\left(\\sqrt{n} \\frac{c^* - \\lambda_0}{\\sqrt{\\lambda_0}}\\right) = \\alpha_1$\n",
        "\n",
        "Квантиль:\n",
        "\n",
        "$x_{\\alpha} : \\Phi(x_{\\alpha}) = 1 - \\alpha_1 = 0.99 \\Rightarrow x_{\\alpha} = 2.33$\n",
        "\n",
        "$c^* = \\frac{x_{\\alpha} \\sqrt{\\lambda_0}}{\\sqrt{n}} + \\lambda_0 = 8.932$\n",
        "\n",
        "$\\overline{X} = 5.41$\n",
        "\n",
        "\n",
        "$\\overline{X} < c^* \\Rightarrow$  гипотезу принимаем.\n",
        "\n",
        "Поменяем теперь основную и альтернативную гипотезу местами:\n",
        "\n",
        "$H_{0}: \\theta = \\lambda_1$\n",
        "\n",
        "$H_{A}: \\theta = \\lambda_0$\n",
        "\n",
        "Статистическое отношение правдоподобия:\n",
        "\n",
        "$LR(\\overrightarrow{X},\\lambda_{0},\\lambda_{1}) = \\frac{L\\left( \\overrightarrow{X},\\lambda_{0} \\right)}{L\\left( \\overrightarrow{X},\\lambda_{1} \\right)}= \\frac{\\lambda_{0}^{\\sum_{i=1}^{n}X_{i}}\\cdot exp(-n\\cdot \\lambda_{0})}{\\lambda_{1}^{\\sum_{i=1}^{n}X_{i}}\\cdot exp(-n\\cdot \\lambda_{1})}$\n",
        "\n",
        "В силу монотонности статистики $LR(\\overrightarrow{X})$ относительно МДС\n",
        "\n",
        "$LR(\\overrightarrow{X},\\lambda_{0},\\lambda_{1}) > c \\Leftrightarrow \\overline{X} < c^* $\n",
        "\n",
        "\n",
        "$ \\phi(x) =\\left\\{\\begin{array}{l} 1, \\overline{X} < c^* \\\\ p, \\overline{X} = c^* \\\\ 0, \\overline{X} >c^*\\\\ \\end{array}\\right.$\n",
        "\n",
        "по ЦПТ:\n",
        "\n",
        "$\\sqrt{n} \\frac{\\overline{X} - \\mathbb{E}x}{\\sqrt{\\mathbb{D}}} \\sim \\mathcal{N}(0, 1)$\n",
        "\n",
        "$\\sqrt{n} \\frac{\\overline{X} - \\lambda_1}{\\sqrt{\\lambda_1}}\\sim \\mathcal{N}(0, 1)$, при $H_0$\n",
        "\n",
        "$P\\left(\\sqrt{n} \\frac{\\overline{X} - \\lambda_0}{\\sqrt{\\lambda_1}} \\geq \\sqrt{n} \\frac{c^* - \\lambda_1}{\\sqrt{\\lambda_1}}\\right) =1 - \\Phi\\left(\\sqrt{n} \\frac{c^* - \\lambda_1}{\\sqrt{\\lambda_1}}\\right) = \\alpha_1$\n",
        "\n",
        "Квантиль:\n",
        "\n",
        "$x_{\\alpha} : \\Phi(x_{\\alpha}) = 1 - \\alpha_1 = 0.99 \\Rightarrow x_{\\alpha} = 2.33$\n",
        "\n",
        "$c^* = \\frac{x_{\\alpha} \\sqrt{\\lambda_1}}{\\sqrt{n}} + \\lambda_1= 4.65$\n",
        "\n",
        "$\\overline{X} = 5.41$\n",
        "\n",
        "\n",
        "$\\overline{X} > c^* \\Rightarrow$  гипотезу отвергаем."
      ]
    },
    {
      "cell_type": "markdown",
      "metadata": {
        "id": "8DhcD9uQ3L9n"
      },
      "source": [
        "h) В пунктах (c)-(f) заменить семейство распределений Пуассона на семейство геометрических распределений:\n",
        "$\\mathbb{P}_{\\lambda}(X=k)=\\frac{\\lambda^k}{(\\lambda+1)^{k+1}}, k\\in \\mathbb{Z_+}$\n"
      ]
    },
    {
      "cell_type": "markdown",
      "metadata": {
        "id": "TvZPLGk13L9n"
      },
      "source": [
        "h.c)\n",
        "\n",
        "ОМП:\n",
        "\n",
        "Плотность распределения:\n",
        "\n",
        "$P_{\\lambda}(X=k)=\\frac{\\lambda^{k}}{(\\lambda+1)^{k+1}}$\n",
        "\n",
        "Построим функцию правдоподобия\n",
        "\n",
        "$L(\\overrightarrow{X};\\theta)=\\prod_{i=1}^{n}\\frac{\\lambda^{X_{i}}}{(\\lambda+1)^{X_{i}}}=\\frac{\\lambda^{\\sum_{i=1}^{n}X_{i}}}{(\\lambda+1)^{\\sum_{i=1}^{n}X_{i}+n}}$\n",
        "\n",
        "Построим логарифмическую функцию правдоподобия\n",
        "\n",
        "$LL(\\overrightarrow{X};\\theta)= \\sum_{i=1}^{n}X_{i}\\cdot \\ln(\\lambda)-(\\sum_{i=1}^{n}X_{i}+n)\\ln(\\lambda+1)$\n",
        "\n",
        "Продифференцируем логарифмическую функцию правдоподобия по $\\lambda$, приравняем частную производную к нулю, получим параметр.\n",
        "\n",
        "$\\frac{\\partial LL(\\overrightarrow{X};\\theta)}{\\partial \\lambda} = \\frac{\\sum_{i=1}^{n}X_{i}}{\\lambda}-\\frac{\\sum_{i=1}^{50}X_{i}+n}{\\lambda+1}=0$\n",
        "\n",
        "$\\frac{\\lambda+1}{\\lambda} = \\frac{\\sum_{i=1}^n X_i + n}{{\\sum_{i=1}^n X_i}}$\n",
        "\n",
        "$\\widehat{\\theta}=\\widehat{\\lambda}=\\overline{X}$\n",
        "\n",
        "Найдем смещение\n",
        "\n",
        "$\\mathbb{E}_{\\theta}\\widehat{\\theta} = \\mathbb{E}_{\\theta}\\overline{X} = \\mathbb{E}_{\\theta}\\frac{1}{n}\\sum_{i=1}^{n}X_i = \\frac{1}{n} \\cdot \\normalsize n \\cdot \\lambda = \\lambda \\Rightarrow \\widehat{\\theta}$ - несмещенная оценка"
      ]
    },
    {
      "cell_type": "code",
      "execution_count": null,
      "metadata": {
        "id": "8fJH1gF33L9n",
        "outputId": "fb8bb952-8209-487c-feca-3af197142097"
      },
      "outputs": [
        {
          "name": "stdout",
          "output_type": "stream",
          "text": [
            "ОМП:  5.41\n"
          ]
        }
      ],
      "source": [
        "#ОМП\n",
        "print(\"ОМП: \", round(M, 2))"
      ]
    },
    {
      "cell_type": "markdown",
      "metadata": {
        "id": "9fieCskz3L9n"
      },
      "source": [
        "$\\mathbb{E}X_1 = \\lambda$ - математическое ожидание\n",
        "\n",
        "$\\mathrm{M_1} = \\overline{X}$ - выборочное среднее\n",
        "\n",
        "$\\widetilde{\\theta} = \\widetilde{\\lambda} = \\overline{X}$\n",
        "\n",
        "Найдем смещение:\n",
        "\n",
        "$\\mathbb{E}_{\\theta}\\widetilde{\\theta} = \\mathbb{E}_{\\theta}\\overline{X} = \\mathbb{E}_{\\theta}\\frac{1}{n}\\sum_{i=1}^{n}X_i = \\frac{1}{n} \\cdot  n \\cdot \\lambda = \\lambda \\Rightarrow$ несмещённая оценка."
      ]
    },
    {
      "cell_type": "code",
      "execution_count": null,
      "metadata": {
        "id": "-Nom3e2S3L9o",
        "outputId": "051a94f2-dab1-4aa3-8639-e4cb8b1f49d8"
      },
      "outputs": [
        {
          "name": "stdout",
          "output_type": "stream",
          "text": [
            "ОММ:  5.41\n"
          ]
        }
      ],
      "source": [
        "#ОММ\n",
        "print(\"ОММ: \", round(M, 2))"
      ]
    },
    {
      "cell_type": "markdown",
      "metadata": {
        "id": "hza8QQUp3L9o"
      },
      "source": [
        "h.d) А.Д.И. Уровня значимости $\\alpha_1$\n",
        "\n",
        "Найдем информацию Фишера\n",
        "\n",
        "$I_n(\\theta)=-\\mathbb{E}\\left( \\frac{\\partial^{2} LL}{\\partial \\lambda^{2}} \\right)=-\\mathbb{E}\\left( -\\frac{\\sum_{i=1}^{n}X_{i}}{\\lambda^{2}}+\\frac{\\sum_{i=1}^{n}X_{i}+n}{(\\lambda +1)^{2}} \\right)=\\frac{n}{\\lambda^{2}}-\\mathbb{E}\\left( \\frac{\\sum_{i=1}^{n}X_{i}+n}{(\\lambda+1)^{2}} \\right) =\\frac{n}{\\lambda^{2}}-\\frac{n}{(\\lambda+1)^{2}}-\\frac{n}{(\\lambda+1)^{2}}=\\frac{n(\\lambda^{2}+1)}{(\\lambda+1)^{2}\\cdot \\lambda^{2}}$\n",
        "\n",
        "$I(\\theta)= \\frac{(\\lambda^{2}+1)}{(\\lambda+1)^{2}\\cdot \\lambda^{2}}$\n",
        "\n",
        "$\\sqrt{n\\cdot I\\left(  \\widehat{\\theta}(\\overrightarrow{X})\\right)}\\left( \\widehat{\\theta}(\\overrightarrow{X})-\\theta \\right)\\sim N(0,1)$\n",
        "\n",
        "Найдем $x_{\\alpha}$:\n",
        "\n",
        "$\\mathrm{Ф}(x_{\\alpha})=1-\\frac{\\alpha_{1}}{2}=0.995 \\Rightarrow x_{0.01}= 2.58$\n",
        "\n",
        "А.Д.И.\n",
        "\n",
        "$\\left[ \\overline{X}-\\frac{x_{0.01}}{\\sqrt{n\\cdot \\frac{(\\overline{X}^{2}+1)}{(\\overline{X}+1)^{2}\\cdot \\overline{X}^{2}}}}; \\overline{X}+\\frac{x_{0.01}}{\\sqrt{n \\cdot \\frac{(\\overline{X}^{2}+1)}{(\\overline{X}+1)^{2}\\cdot \\overline{X}^{2}}}}\\right] \\ni \\lambda $"
      ]
    },
    {
      "cell_type": "code",
      "execution_count": null,
      "metadata": {
        "id": "kKwg3mig3L9o",
        "outputId": "6292dba7-1b8e-433f-c3d0-eefea492012a"
      },
      "outputs": [
        {
          "name": "stdout",
          "output_type": "stream",
          "text": [
            "А.Д.И.: [ 4.28 ; 6.54 ]\n"
          ]
        }
      ],
      "source": [
        "dif = 1.28 / ((len(data) * (M**2+1)/(((M+1)**2)*M**2))**(1/2))\n",
        "print('А.Д.И.: [', round(M - dif, 2), ';', round(M + dif, 2), ']')"
      ]
    },
    {
      "cell_type": "markdown",
      "metadata": {
        "id": "eQDxeV5V3L9o"
      },
      "source": [
        "h.e) Используя гистограмму частот, построить критерий значимости $\\mathcal{X^2}$ проверки простой гипотезы согласия с геометрическим распределением а с параметром $\\lambda_0$. Проверить гипотезу на уровень значимости $\\alpha_1$. Вычислить наибольшее значение уровня значимости, на котором ещё нет оснований отвергнуть данную гипотезу.\n"
      ]
    },
    {
      "cell_type": "markdown",
      "metadata": {
        "id": "MMoPJY7R3L9o"
      },
      "source": [
        "$\\alpha_1 = 0.01$  $\\lambda_0 = 8.00$"
      ]
    },
    {
      "cell_type": "code",
      "execution_count": null,
      "metadata": {
        "id": "5NExdMzR3L9o",
        "outputId": "46061d01-4b52-48f3-f3bc-4fb3e3b54f34"
      },
      "outputs": [
        {
          "name": "stdout",
          "output_type": "stream",
          "text": [
            "[0, 1, 2, 3, 4, 5, 6, 7, 8, 9, 10, 11, 12, 14, 18, 19, 21, 32]\n",
            "[7, 11, 4, 4, 3, 2, 6, 2, 2, 1, 1, 2, 1, 1, 1, 1, 1, 1]\n"
          ]
        }
      ],
      "source": [
        "table = [[], []]\n",
        "for x in var_range:\n",
        "    if x not in table[0]:\n",
        "        table[0].append(x)\n",
        "        table[1].append(len([y for y in var_range if y==x]))\n",
        "print(table[0])\n",
        "print(table[1])"
      ]
    },
    {
      "cell_type": "markdown",
      "metadata": {
        "id": "Navlnf5N3L9o"
      },
      "source": [
        "$ p_i = \\sum_{k_i\\in I_i}\\frac{\\lambda^{k_i}_0}{(\\lambda_0+1)^{k_i+1}} $"
      ]
    },
    {
      "cell_type": "code",
      "execution_count": null,
      "metadata": {
        "id": "jKxkAf4b3L9p",
        "outputId": "f33b96fb-4250-48d8-8462-4268769f3801"
      },
      "outputs": [
        {
          "name": "stdout",
          "output_type": "stream",
          "text": [
            "[0] n = 7 p = 0.1111 np = 0.7778   49.78\n",
            "[1] n = 11 p = 0.0988 np = 1.0864   90.46\n",
            "[2, 3] n = 8 p = 0.1658 np = 1.3266   33.57\n",
            "[4, 5] n = 5 p = 0.131 np = 0.6551   28.82\n",
            "[6] n = 6 p = 0.0548 np = 0.3288   97.8\n",
            "[7, 8, 9, 10] n = 6 p = 0.1647 np = 0.9884   25.41\n",
            "[11, 12, 14, 18, 19, 21, 32] n = 8 p = 0.1159 np = 0.9274   53.93\n",
            "379.77\n"
          ]
        }
      ],
      "source": [
        "import math\n",
        "\n",
        "def p(x):\n",
        "    return ((lambda_0**x)/((lambda_0+1)**(x+1)))\n",
        "\n",
        "\n",
        "groups = [[0],[1],[2,3],[4,5],[6],[7,8,9,10],[11,12,14,18,19,21,32]]\n",
        "\n",
        "cr = 0\n",
        "for gr in groups:\n",
        "    p_ = 0\n",
        "    for x in gr:\n",
        "        p_ += p(x)\n",
        "    n_ = len([x for x in var_range if x in gr])\n",
        "    n_p = n_*p_\n",
        "    temp = ((n_-n_p)**2)/(n_p)\n",
        "    cr += temp\n",
        "    print(gr ,'n =', n_, 'p =',round(p_, 4), 'np =', round(n_p, 4), ' ', round(temp, 2))\n",
        "\n",
        "print(round(cr, 2))"
      ]
    },
    {
      "cell_type": "markdown",
      "metadata": {
        "id": "0oFm6Mfs3L9q"
      },
      "source": [
        "$I_1 = [0]$ $n_1 = 7$  $p_1 = 0.1111$  $np_1 = 0.7778$   $\\frac{(n_1-np_1)^{2}}{np_1} = 49.78$\n",
        "\n",
        "$I_2 = [1]$ $n_2 = 11$  $p_2 = 0.0988$  $np_2 = 1.0864$   $\\frac{(n_2-np_2)^{2}}{np_2} = 90.46$\n",
        "\n",
        "$I_3 = [2, 3]$ $n_3 = 8$  $p_3 = 0.1658$  $np_3 = 1.3266$   $\\frac{(n_3-np_3)^{2}}{np_3} = 33.57$\n",
        "\n",
        "$I_4 = [4, 5]$ $n_4 = 5$  $p_4 = 0.131$  $np_4 = 0.6551$   $\\frac{(n_4-np_4)^{2}}{np_4} = 28.82$\n",
        "\n",
        "$I_5 = [6]$ $n_5 = 6$  $p_5 = 0.0548$  $np_5 = 0.3288$   $\\frac{(n_5-np_5)^{2}}{np_5} = 97.8 $\n",
        "\n",
        "$I_6 = [7, 8, 9, 10]$ $n_6 = 6$  $p_6 = 0.1647$  $np_6 = 0.9884$   $\\frac{(n_6-np_6)^{2}}{np_6} = 25.41$\n",
        "\n",
        "$I_7 = [11, 12, 14, 18, 19, 21, 32]$ $n_7 = 8$  $p_7 = 0.1159$  $np_7 = 0.9274$   $\\frac{(n_7-np_7)^{2}}{np_7} = 53.93$\n",
        "\n",
        "Критерий $\\mathcal{X}^{2} =\\sum_{i=1}^{7}\\frac{(n_{i}-np_{i})^{2}}{np_{i}} = 379.77$\n",
        "\n",
        "$\\mathcal{X}^{2}_{N-1,\\alpha_{1}}=\\mathcal{X}^{2}_{6,0.01}\\simeq 16.812$\n",
        "\n",
        "$\\mathcal{X}^{2} > \\mathcal{X}^{2}_{6,0.01} \\Rightarrow$ отвергаем гипотезу\n",
        "\n",
        "Наибольшее значение уровня значимости, при котором нет еще оснований отвергнуть данную гипотезу, ничтожно мало  << 0.01"
      ]
    },
    {
      "cell_type": "markdown",
      "metadata": {
        "id": "cjGgb1eq3L9q"
      },
      "source": [
        "h.f) Построить критерий значимости  $\\mathcal{X}^2$ проверки сложной гипотезы согласия с геометрическим распределением. Проверить гипотезу по уровню значимости $\\alpha_1 $.Вычислить наибольшее значение уровня значимости, на котором ещё нет оснований отвергнуть данную гипотезу.\n"
      ]
    },
    {
      "cell_type": "markdown",
      "metadata": {
        "id": "xvVcfvNy3L9q"
      },
      "source": [
        "$\\alpha_1 = 0.01$   $\\overline{X} = 5.41$\n",
        "\n",
        "$ p_i = \\sum_{k_i\\in I_i}\\frac{\\lambda^{k_i}_0}{(\\lambda_0+1)^{k_i+1}} $"
      ]
    },
    {
      "cell_type": "code",
      "execution_count": null,
      "metadata": {
        "id": "8NK8w-Wx3L9q",
        "outputId": "6015437b-e44d-4087-9ea7-8fa458168688"
      },
      "outputs": [
        {
          "name": "stdout",
          "output_type": "stream",
          "text": [
            "[0] n = 7 p = 0.156 np = 1.0917   31.97\n",
            "[1] n = 11 p = 0.1316 np = 1.448   63.01\n",
            "[2, 3] n = 8 p = 0.2049 np = 1.6391   24.68\n",
            "[4, 5] n = 5 p = 0.146 np = 0.7298   24.99\n",
            "[6] n = 6 p = 0.0564 np = 0.3383   94.74\n",
            "[7, 8, 9, 10] n = 6 p = 0.1503 np = 0.9017   28.82\n",
            "[11, 12, 14, 18, 19, 21, 32] n = 8 p = 0.0778 np = 0.6222   87.48\n",
            "355.7\n"
          ]
        }
      ],
      "source": [
        "def p(x):\n",
        "    return ((M**x)/((M+1)**(x+1)))\n",
        "\n",
        "\n",
        "groups = [[0],[1],[2,3],[4,5],[6],[7,8,9,10],[11,12,14,18,19,21,32]]\n",
        "\n",
        "cr = 0\n",
        "for gr in groups:\n",
        "    p_ = 0\n",
        "    for x in gr:\n",
        "        p_ += p(x)\n",
        "    n_ = len([x for x in var_range if x in gr])\n",
        "    n_p = n_*p_\n",
        "    temp = ((n_-n_p)**2)/(n_p)\n",
        "    cr += temp\n",
        "    print(gr ,'n =', n_, 'p =',round(p_, 4), 'np =', round(n_p, 4), ' ', round(temp, 2))\n",
        "\n",
        "print(round(cr, 2))"
      ]
    },
    {
      "cell_type": "markdown",
      "metadata": {
        "id": "TWnGXDnN3L9q"
      },
      "source": [
        "$I_1 = [0]$ $n_1 = 7$  $p_1 = 0.156$  $np_1 = 1.0917$   $\\frac{(n_1-np_1)^{2}}{np_1} = 31.97$\n",
        "\n",
        "$I_2 = [1]$ $n_2 = 11$  $p_2 = 0.1316$  $np_2 = 1.448$   $\\frac{(n_2-np_2)^{2}}{np_2} = 63.01$\n",
        "\n",
        "$I_3 = [2, 3]$ $n_3 = 8$  $p_3 = 0.2049$  $np_3 = 1.6391$   $\\frac{(n_3-np_3)^{2}}{np_3} = 24.68$\n",
        "\n",
        "$I_4 = [4, 5]$ $n_4 = 5$  $p_4 = 0.146$  $np_4 =0.7298$   $\\frac{(n_4-np_4)^{2}}{np_4} = 24.99$\n",
        "\n",
        "$I_5 = [6]$ $n_5 = 6$  $p_5 = 0.0564$  $np_5 = 0.3383$   $\\frac{(n_5-np_5)^{2}}{np_5} = 94.74 $\n",
        "\n",
        "$I_6 = [7, 8, 9, 10]$ $n_6 = 6$  $p_6 = 0.1503$  $np_6 = 0.99017$   $\\frac{(n_6-np_6)^{2}}{np_6} = 28.82$\n",
        "\n",
        "$I_7 = [11, 12, 14, 18, 19, 21, 32]$ $n_7 = 8$  $p_7 = 0.0778$  $np_7 = 0.6222$   $\\frac{(n_7-np_7)^{2}}{np_7} = 87.48$\n",
        "\n",
        "Критерий $\\mathcal{X}^{2} =\\sum_{i=1}^{7}\\frac{(n_{i}-np_{i})^{2}}{np_{i}} = 355.7$\n",
        "\n",
        "$\\mathcal{X}^{2}_{N-1,\\alpha_{1}}=\\mathcal{X}^{2}_{6,0.01}\\simeq 16.812$\n",
        "\n",
        "$\\mathcal{X}^{2} > \\mathcal{X}^{2}_{6,0.01} \\Rightarrow$ отвергаем гипотезу\n",
        "\n",
        "Наибольшее значение уровня значимости, при котором нет еще оснований отвергнуть данную гипотезу, ничтожно мало  << 0.01"
      ]
    },
    {
      "cell_type": "markdown",
      "metadata": {
        "id": "aNIO4KOC3L9r"
      },
      "source": [
        "2. В результате эксперимента получены данные, приведенные в таблице 2.\n",
        "\n",
        "Таблица 2\n",
        "\n",
        "$\\alpha_2 = 0.20; c = 0.00; d = 3.60; h = 0.80; \\lambda_0 = 0.20, \\lambda_1 = 0.50$\n",
        "\n",
        "1.440 1.487 0.093 0.840 5.280 0.540 4.476 1.800 0.189 4.161 2.134 0.750 1.371 0.839 0.287 0.419 0.625 4.894 0.691 0.665 0.237 0.882 1.178 2.731 6.078 1.137 0.720 4.224 0.794 0.354 3.735 0.788 0.885 7.955 2.596 4.158 4.148 2.520 2.101 0.389 0.081 7.726 5.396 0.912 1.501 1.000 0.452 0.910 0.218 3.143"
      ]
    },
    {
      "cell_type": "code",
      "execution_count": null,
      "metadata": {
        "id": "pbAq21D83L9r"
      },
      "outputs": [],
      "source": [
        "data = [1.440, 1.487, 0.093, 0.840, 5.280, 0.540, 4.476, 1.800, 0.189, 4.161, 2.134, 0.750, 1.371, 0.839, 0.287, 0.419, 0.625, 4.894, 0.691, 0.665, 0.237, 0.882, 1.178, 2.731, 6.078, 1.137, 0.720, 4.224, 0.794, 0.354, 3.735, 0.788, 0.885, 7.955, 2.596, 4.158, 4.148, 2.520, 2.101, 0.389, 0.081, 7.726, 5.396, 0.912, 1.501, 1.000, 0.452, 0.910, 0.218, 3.143]"
      ]
    },
    {
      "cell_type": "markdown",
      "metadata": {
        "id": "PPjDETjY3L9r"
      },
      "source": [
        "a) Построить вариационный ряд, эмпирическую функцию распределения и гистограмму и полигон частот с шагом $h$."
      ]
    },
    {
      "cell_type": "code",
      "execution_count": null,
      "metadata": {
        "id": "xzKlsF4G3L9r",
        "outputId": "1f1d9e4d-82e4-47b9-ff9e-0177c23267e7"
      },
      "outputs": [
        {
          "name": "stdout",
          "output_type": "stream",
          "text": [
            "[0.081, 0.093, 0.189, 0.218, 0.237, 0.287, 0.354, 0.389, 0.419, 0.452, 0.54, 0.625, 0.665, 0.691, 0.72, 0.75, 0.788, 0.794, 0.839, 0.84, 0.882, 0.885, 0.91, 0.912, 1.0, 1.137, 1.178, 1.371, 1.44, 1.487, 1.501, 1.8, 2.101, 2.134, 2.52, 2.596, 2.731, 3.143, 3.735, 4.148, 4.158, 4.161, 4.224, 4.476, 4.894, 5.28, 5.396, 6.078, 7.726, 7.955]\n"
          ]
        }
      ],
      "source": [
        "\n",
        "#Вариационный ряд\n",
        "var_range = data.copy()\n",
        "var_range.sort()\n",
        "print(var_range)"
      ]
    },
    {
      "cell_type": "code",
      "execution_count": null,
      "metadata": {
        "id": "8AwzI7eA3L9r",
        "outputId": "3fa87ac9-74ae-4e4c-9f62-9d8d2097cfdd"
      },
      "outputs": [
        {
          "name": "stdout",
          "output_type": "stream",
          "text": [
            "[0.081, 0.093, 0.189, 0.218, 0.237, 0.287, 0.354, 0.389, 0.419, 0.452, 0.54, 0.625, 0.665, 0.691, 0.72, 0.75, 0.788, 0.794, 0.839, 0.84, 0.882, 0.885, 0.91, 0.912, 1.0, 1.137, 1.178, 1.371, 1.44, 1.487, 1.501, 1.8, 2.101, 2.134, 2.52, 2.596, 2.731, 3.143, 3.735, 4.148, 4.158, 4.161, 4.224, 4.476, 4.894, 5.28, 5.396, 6.078, 7.726, 7.955]\n",
            "[0.02, 0.04, 0.06, 0.08, 0.1, 0.12, 0.14, 0.16, 0.18, 0.2, 0.22, 0.24, 0.26, 0.28, 0.3, 0.32, 0.34, 0.36, 0.38, 0.4, 0.42, 0.44, 0.46, 0.48, 0.5, 0.52, 0.54, 0.56, 0.58, 0.6, 0.62, 0.64, 0.66, 0.68, 0.7, 0.72, 0.74, 0.76, 0.78, 0.8, 0.82, 0.84, 0.86, 0.88, 0.9, 0.92, 0.94, 0.96, 0.98, 1.0]\n"
          ]
        },
        {
          "data": {
            "image/png": "[encoded data removed]",
            "text/plain": [
              "<Figure size 640x480 with 1 Axes>"
            ]
          },
          "metadata": {},
          "output_type": "display_data"
        }
      ],
      "source": [
        "#Эмпирическая функция распределения\n",
        "import matplotlib.pyplot as plt\n",
        "\n",
        "#Таблица эмпирического распределения\n",
        "table = [[], []]\n",
        "for x in var_range:\n",
        "    if x not in table[0]:\n",
        "        table[0].append(x)\n",
        "        table[1].append(len([y for y in var_range if y==x]))\n",
        "\n",
        "for i in range(1, len(table[0])):\n",
        "    table[1][i] += table[1][i-1]\n",
        "for i in range(len(table[0])):\n",
        "    table[1][i] /= len(data)\n",
        "\n",
        "print(table[0])\n",
        "print(table[1])\n",
        "\n",
        "#График\n",
        "plt.figure()\n",
        "plt.title(\"Эмпирическая функция распределения\")\n",
        "l = len(table[0])\n",
        "x = [table[0][0]-3, table[0][0]]\n",
        "y = [0, 0]\n",
        "plt.plot(x, y, color='blue')\n",
        "\n",
        "for i in range(l-1):\n",
        "    x = [table[0][i], table[0][i+1]]\n",
        "    y = [table[1][i], table[1][i]]\n",
        "    plt.plot(x, y, color='blue')\n",
        "    plt.plot(table[0][i], table[1][i], 'o', mec = 'blue', mfc = 'white')\n",
        "x = [table[0][l-1], table[0][l-1]+3]\n",
        "y = [table[1][l-1], table[1][l-1]]\n",
        "plt.plot(x, y, color='blue')\n",
        "plt.plot(table[0][l-1], table[1][l-1], 'o', mec = 'blue', mfc = 'white')\n",
        "plt.show()"
      ]
    },
    {
      "cell_type": "code",
      "execution_count": null,
      "metadata": {
        "id": "9r8zGt7F3L9s",
        "outputId": "ecdeacbd-c769-4604-8ed3-d05539637294"
      },
      "outputs": [
        {
          "data": {
            "image/png": "[encoded data removed]",
            "text/plain": [
              "<Figure size 640x480 with 1 Axes>"
            ]
          },
          "metadata": {},
          "output_type": "display_data"
        }
      ],
      "source": [
        "import numpy as np\n",
        "\n",
        "plt.title(\"Гистограмма и полигон частот\")\n",
        "h = 0.8\n",
        "bins = np.arange(min(data), max(data) + h, h)\n",
        "plt.hist(var_range, bins=bins, edgecolor='black')\n",
        "\n",
        "x = []\n",
        "y = []\n",
        "for i in range(len(bins)-1):\n",
        "    y.append(len([x_ for x_ in var_range if bins[i]<= x_ < bins[i+1]]))\n",
        "    x.append((bins[i]+bins[i+1])/2)\n",
        "plt.plot(x,y, '-o', color='red')\n",
        "plt.show()"
      ]
    },
    {
      "cell_type": "code",
      "execution_count": null,
      "metadata": {
        "id": "DE019LYQ3L9s",
        "outputId": "ae8586ef-b39a-4f66-805b-19aa93a0a784"
      },
      "outputs": [
        {
          "name": "stdout",
          "output_type": "stream",
          "text": [
            "Математическое ожидание: 2.04\n",
            "Дисперсия:  4.02\n",
            "СКО:  2.0\n",
            "Медиана: \n",
            "Коэффициент асимметрии:  1.3\n",
            "Коэффициент эксцесса: 0.85\n",
            "P(a <= x <= b):  0.76\n"
          ]
        }
      ],
      "source": [
        "import numpy as np\n",
        "\n",
        "\n",
        "# Выборочное математическое ожидание\n",
        "M = np.mean(data)\n",
        "\n",
        "# Дисперсия\n",
        "D = np.var(data)\n",
        "\n",
        "#СКО\n",
        "s=np.std(data)\n",
        "\n",
        "# Медиана\n",
        "m = np.median(data)\n",
        "\n",
        "#Коэффициент асимметрии\n",
        "Skew = 0\n",
        "for i in range(len(var_range)):\n",
        "    Skew += ((var_range[i] - M)**3) / (s**3)\n",
        "Skew /= len(var_range)\n",
        "\n",
        "\n",
        "#Коэффициент эксцесса\n",
        "Kurt = 0\n",
        "for i in range(len(var_range)):\n",
        "    Kurt += ((var_range[i] - M)**4) / (s**4)\n",
        "Kurt /= len(var_range)\n",
        "Kurt -= 3\n",
        "\n",
        "\n",
        "#P(a <= x <= b)\n",
        "c = 0\n",
        "d = 3.6\n",
        "def P(a, b):\n",
        "    P_1 = 0 #P(x < a)\n",
        "    for x in var_range:\n",
        "        if x < a:\n",
        "            P_1 += 1\n",
        "    P_1 /= len(var_range)\n",
        "\n",
        "    P_2 = 0 #P(x <=b)\n",
        "    for x in var_range:\n",
        "        if x <= b:\n",
        "            P_2 += 1\n",
        "    P_2 /= len(var_range)\n",
        "    return round(P_2-P_1, 2)\n",
        "\n",
        "print(\"Математическое ожидание:\", round(M,2))\n",
        "print(\"Дисперсия: \", round(D, 2))\n",
        "print(\"СКО: \", round(s, 2))\n",
        "print(\"Медиана: \")\n",
        "print(\"Коэффициент асимметрии: \", round(Skew, 2))\n",
        "print(\"Коэффициент эксцесса:\", round(Kurt,2))\n",
        "print(\"P(a <= x <= b): \", P(c, d))"
      ]
    },
    {
      "cell_type": "markdown",
      "metadata": {
        "id": "j8pD2erk3L9s"
      },
      "source": [
        "c) В предположении, что исходные наблюдения являются выборкой из показательного распределения, построить оценку максимального правдоподобия параметра $\\lambda$ и соответствующую оценку по методу моментов. Найти смещение оценок.\n",
        "\n",
        "ОМП:\n",
        "\n",
        "$ p_{\\theta}(x)= \\lambda e^{- \\lambda x} , x ≥0 $\n",
        "\n",
        "Построим функцию правдоподобия\n",
        "\n",
        "$ L( \\vec{X}, θ)= \\lambda^ne^{-\\lambda\\sum_{i=1}^n X_i} $\n",
        "\n",
        "Построим логарифмическую функцию правдоподобия\n",
        "\n",
        "$ LL( \\vec{X}, θ)= n \\ln{\\lambda} - \\lambda\\sum_{i=1}^n X_i $\n",
        "\n",
        "Продифференцируем логарифмическую функцию правдоподобия по $\\lambda$, приравняем частную производную к нулю, получим параметр.\n",
        "\n",
        "$ \\frac{\\partial LL}{\\partial λ} = \\frac{n}{λ}-\\sum_{i=1}^n X_i=0 $\n",
        "\n",
        "$ \\hat{λ}=\\frac{n}{\\sum_{i=1}^n X_i}=\\frac1{\\overline{X}} $\n"
      ]
    },
    {
      "cell_type": "code",
      "execution_count": null,
      "metadata": {
        "id": "eIBaYltP3L9s",
        "outputId": "af27c34b-00a7-47e2-f3c4-3099a31673e0"
      },
      "outputs": [
        {
          "name": "stdout",
          "output_type": "stream",
          "text": [
            "ОМП:  0.49053271853232605\n"
          ]
        }
      ],
      "source": [
        "print(\"ОМП: \", 1/M)"
      ]
    },
    {
      "cell_type": "markdown",
      "metadata": {
        "id": "bzv8Cdhj3L9t"
      },
      "source": [
        "\n",
        "\n",
        "ОММ:\n",
        "\n",
        "$ EX_1=\\frac1{\\lambda}=M_1 $\n",
        "\n",
        "$ \\widetilde{\\lambda} = \\frac1{\\overline{X}} $"
      ]
    },
    {
      "cell_type": "code",
      "execution_count": null,
      "metadata": {
        "id": "0PF6KI7M3L9t",
        "outputId": "86414984-74a7-4cf0-9f74-bcc94ae081e0"
      },
      "outputs": [
        {
          "name": "stdout",
          "output_type": "stream",
          "text": [
            "ОММ: 0.49053271853232605\n"
          ]
        }
      ],
      "source": [
        "print(\"ОММ:\", 1/M)"
      ]
    },
    {
      "cell_type": "markdown",
      "metadata": {
        "id": "nG_2oYkA3L9t"
      },
      "source": [
        "d) Построить асимптотический доверительный интервал уровня значимости $\\alpha_2$ для параметра $\\lambda$ на базе оценки максимального правдоподобия\n",
        "\n",
        "$ \\sqrt{nI(\\hat{\\lambda})}(\\hat{\\lambda}-\\lambda) \\sim N(0,1) $\n",
        "\n",
        "Найдем информацию Фишера\n",
        "\n",
        "$ I_n(\\lambda)=- \\mathbb{E}( \\frac{\\partial^2 LL}{\\partial \\lambda^2})= - \\mathbb{E}( - \\frac{n}{\\lambda^2}) = \\frac{n}{\\lambda^2} $\n",
        "\n",
        "$ I(\\lambda)= \\frac{1}{\\lambda^2} $\n",
        "\n",
        "$\\sqrt{n\\cdot I\\left(  \\widehat{\\theta}(\\overrightarrow{X})\\right)}\\left( \\widehat{\\theta}(\\overrightarrow{X})-\\theta \\right)\\sim N(0,1)$\n",
        "\n",
        "\n",
        "$ x_\\alpha: Ф(x_\\alpha)=1-\\frac{\\alpha}{2}=1-\\frac{0.2}{2}=0.9 \\Rightarrow x_\\alpha = 1.28$\n",
        "\n",
        "$\\left[ \\overline{X}-\\frac{x_\\alpha}{\\sqrt{n\\cdot \\frac{1}{\\overline{X}^2}}}; \\overline{X}+\\frac{x_\\alpha}{\\sqrt{n \\cdot \\frac{1}{\\overline{X}^2}}}\\right] \\ni \\lambda $"
      ]
    },
    {
      "cell_type": "code",
      "execution_count": null,
      "metadata": {
        "id": "LFMxdafi3L9t",
        "outputId": "b8d32e49-0eeb-4966-cf65-04746c4171e8"
      },
      "outputs": [
        {
          "name": "stdout",
          "output_type": "stream",
          "text": [
            "А.Д.И: [ 1.67 ; 2.41 ]\n"
          ]
        }
      ],
      "source": [
        "dif = round(1.28 / ((len(data) * (1 / (M**2)))**(1/2)), 2)\n",
        "print('А.Д.И: [', round(M - dif, 2), ';', round(M + dif, 2), ']')"
      ]
    },
    {
      "cell_type": "markdown",
      "metadata": {
        "id": "wzKkFPdq3L9t"
      },
      "source": [
        "e) С использованием теоремы Колмогорова построить критерий значимости проверки простой гипотезы согласия с показательным распределением с параметром $\\lambda_0$. Проверить гипотезу на уровне значимости $\\alpha_2$. Вычислить наибольшее значение уровня значимости, на котором еще нет оснований отвергнуть данную гипотезу."
      ]
    },
    {
      "cell_type": "code",
      "execution_count": null,
      "metadata": {
        "id": "iK_m1vjY3L9t",
        "outputId": "530090ea-8273-4398-cce7-f6c23febb54c"
      },
      "outputs": [
        {
          "name": "stdout",
          "output_type": "stream",
          "text": [
            "1.5678425118733448\n",
            "1.0729830131446736\n",
            "Гипотеза опровергнута\n",
            "Максимальное значение уровная значимости:  -0.0\n"
          ]
        }
      ],
      "source": [
        "from scipy.stats import expon\n",
        "\n",
        "lambda_0 = 0.2\n",
        "alpha_2 = 0.2\n",
        "\n",
        "def F(x):\n",
        "    res = 0\n",
        "    for X in var_range:\n",
        "        if X < x:\n",
        "            res += 1\n",
        "    res /= len(var_range)\n",
        "    return res\n",
        "\n",
        "def Kolmogorov_criteria():\n",
        "    table = []\n",
        "    for x in var_range:\n",
        "        val = np.abs(F(x) - expon.cdf(x, lambda_0))\n",
        "        table.append(val)\n",
        "    D = max(table)\n",
        "    return np.sqrt(len(data))*D\n",
        "\n",
        "def critical(alpha):\n",
        "    return np.sqrt(-0.5 * np.log((alpha) / 2))\n",
        "\n",
        "\n",
        "print(Kolmogorov_criteria())\n",
        "print(critical(alpha_2))\n",
        "\n",
        "if Kolmogorov_criteria() < critical(alpha_2):\n",
        "    print(\"Гипотеза принимается\")\n",
        "else:\n",
        "    print(\"Гипотеза опровергнута\")\n",
        "\n",
        "alpha_max = alpha_2\n",
        "while Kolmogorov_criteria() > critical(alpha_2) and alpha_max > 0:\n",
        "    alpha_max -= 0.0001\n",
        "print(\"Максимальное значение уровная значимости: \", round(alpha_max, 3))"
      ]
    },
    {
      "cell_type": "markdown",
      "metadata": {
        "id": "QY8JXFIs3L9u"
      },
      "source": [
        "Максимальное значение уровня значимости ничтожно мало."
      ]
    },
    {
      "cell_type": "markdown",
      "metadata": {
        "id": "DBtDZPYz3L9u"
      },
      "source": [
        "f) Используя гистограмму частот, построить критерий значимости $\\mathcal{X^2}$ проверки простой гипотезы согласия с показательным распределением с параметром $\\lambda_0$. Проверить гипотезу на уровень значимости $\\alpha_2$. Вычислить наибольшее значение уровня значимости, на котором ещё нет оснований отвергнуть данную гипотезу."
      ]
    },
    {
      "cell_type": "code",
      "execution_count": null,
      "metadata": {
        "id": "kKDuo3Yx3L9u",
        "outputId": "10549e9f-3f6c-45e0-e7c3-e5771fd50acf"
      },
      "outputs": [
        {
          "name": "stdout",
          "output_type": "stream",
          "text": [
            "[-inf, 1] n = 25 p = 0.55 np = 13.77   9.17\n",
            "[1, 2] n = 8 p = 0.28 np = 2.27   14.44\n",
            "[2, 4] n = 7 p = 0.14 np = 1.0   35.98\n",
            "[4, inf] n = 11 p = 0.02 np = 0.25   469.96\n",
            "529.5394762059613\n"
          ]
        }
      ],
      "source": [
        "inters = [[-np.inf, 1], [1, 2], [2, 4], [4, np.inf]]\n",
        "\n",
        "def p(x):\n",
        "    return expon.cdf(x, lambda_0)\n",
        "\n",
        "cr = 0\n",
        "for inter in inters:\n",
        "    p_ = p(inter[1]) - p(inter[0])\n",
        "    n_ = len([x for x in var_range if inter[0] <= x <= inter[1]])\n",
        "    n_p = n_*p_\n",
        "    temp = ((n_-n_p)**2)/(n_p)\n",
        "    cr += temp\n",
        "    print(inter ,'n =', n_, 'p =',round(p_, 2), 'np =', round(n_p, 2), ' ', round(temp, 2))\n",
        "\n",
        "print(cr)"
      ]
    },
    {
      "cell_type": "markdown",
      "metadata": {
        "id": "IJvh8unC3L9u"
      },
      "source": [
        "$I_1 = (\\infty, 1]$ $n_1 = 25$  $p_1 = 0.55$  $np_1 = 13.77$   $\\frac{(n_1-np_1)^{2}}{np_1} = 9.17$\n",
        "\n",
        "$I_2 = (1, 2]$ $n_2 = 8$  $p_2 = 0.28$  $np_2 = 2.27$   $\\frac{(n_2-np_2)^{2}}{np_2} = 14.44$\n",
        "\n",
        "$I_3 = (2, 4]$ $n_3 = 7$  $p_3 = 0.14$  $np_3 = 1.0$   $\\frac{(n_3-np_3)^{2}}{np_3} = 35.98$\n",
        "\n",
        "$I_4 = (4, \\infty)$ $n_4 = 11$  $p_4 = 0.02$  $np_4 = 0.25$   $\\frac{(n_4-np_4)^{2}}{np_4} = 469.96$\n",
        "\n",
        "$\\mathcal{X}^2 = \\sum_{i=1}^{4}\\frac{(n_i - np_i)^2}{np_i} = 529.54$\n",
        "\n",
        "$\\mathcal{X}^2_{N-1,\\alpha_2} = \\mathcal{X}^2_{3,0.2} \\simeq 4.642$\n",
        "\n",
        "$\\mathcal{X}^{2} >  \\mathcal{X}^2_{3,0.2} \\Rightarrow$ отвергаем гипотезу\n",
        "\n",
        "Наибольшее значение уровня значимости, на котором еще нет оснований отвергнуть данную гипотезу, ничтожно мало."
      ]
    },
    {
      "cell_type": "markdown",
      "metadata": {
        "id": "3zDKqBLj3L9u"
      },
      "source": [
        "g) Построить критерий значимости $\\mathcal{X^2}$ проверки сложной гипотезы согласия с показательным распределением. Проверить гипотезу на уровень значимости $\\alpha_2$. Вычислить наибольшее значение уровня значимости, на котором ещё нет оснований отвергнуть данную гипотезу.\n",
        "\n",
        "$\\lambda = \\frac{1}{\\overline{X}}$"
      ]
    },
    {
      "cell_type": "code",
      "execution_count": null,
      "metadata": {
        "id": "2b3R9wlN3L9u",
        "outputId": "682700cc-13f9-4667-90fa-5b0f1d0c5447"
      },
      "outputs": [
        {
          "name": "stdout",
          "output_type": "stream",
          "text": [
            "[-inf, 1] n = 25 p = 0.4 np = 9.98   22.61\n",
            "[1, 2] n = 8 p = 0.38 np = 3.04   8.1\n",
            "[2, 4] n = 7 p = 0.19 np = 1.34   23.96\n",
            "[4, inf] n = 11 p = 0.03 np = 0.33   346.06\n",
            "400.7390265152852\n"
          ]
        }
      ],
      "source": [
        "inters = [[-np.inf, 1], [1, 2], [2, 4], [4, np.inf]]\n",
        "\n",
        "def p(x):\n",
        "    return expon.cdf(x, 1/M)\n",
        "\n",
        "cr = 0\n",
        "for inter in inters:\n",
        "    p_ = p(inter[1]) - p(inter[0])\n",
        "    n_ = len([x for x in var_range if inter[0] <= x <= inter[1]])\n",
        "    n_p = n_*p_\n",
        "    temp = ((n_-n_p)**2)/(n_p)\n",
        "    cr += temp\n",
        "    print(inter ,'n =', n_, 'p =',round(p_, 2), 'np =', round(n_p, 2), ' ', round(temp, 2))\n",
        "\n",
        "print(cr)"
      ]
    },
    {
      "cell_type": "markdown",
      "metadata": {
        "id": "DrkuVRJI3L9v"
      },
      "source": [
        "$I_1 = (\\infty, 1]$ $n_1 = 25$  $p_1 = 0.4$  $np_1 = 9.98$   $\\frac{(n_1-np_1)^{2}}{np_1} = 22.61$\n",
        "\n",
        "$I_2 = (1, 2]$ $n_2 = 8$  $p_2 = 0.38$  $np_2 = 3.04$   $\\frac{(n_2-np_2)^{2}}{np_2} = 8.1$\n",
        "\n",
        "$I_3 = (2, 4]$ $n_3 = 7$  $p_3 = 0.19$  $np_3 = 1.34$   $\\frac{(n_3-np_3)^{2}}{np_3} = 23.96$\n",
        "\n",
        "$I_4 = (4, \\infty)$ $n_4 = 11$  $p_4 = 0.03$  $np_4 = 0.33$   $\\frac{(n_4-np_4)^{2}}{np_4} = 346.06$\n",
        "\n",
        "$\\mathcal{X}^2 = \\sum_{i=1}^{4}\\frac{(n_i - np_i)^2}{np_i} = 400.739$\n",
        "\n",
        "$\\mathcal{X}^2_{N-1,\\alpha_2} = \\mathcal{X}^2_{3,0.2} \\simeq 4.642$\n",
        "\n",
        "$\\mathcal{X}^{2} >  \\mathcal{X}^2_{3,0.2} \\Rightarrow$ отвергаем гипотезу\n",
        "\n",
        "Наибольшее значение уровня значимости, на котором еще нет оснований отвергнуть данную гипотезу, ничтожно мало."
      ]
    },
    {
      "cell_type": "markdown",
      "metadata": {
        "id": "9XdLhOnY3L9v"
      },
      "source": [
        "h) Построить наиболее мощный критерий проверки простой гипотезы о показательности с параметром $\\lambda = \\lambda_0$ при альтернативе показательности с параметром $\\lambda = \\lambda_1$. Проверить гипотезу на уровне значимости $\\alpha_2$. Что получится, если поменять местами основную и альтернативную гипотезы?"
      ]
    },
    {
      "cell_type": "markdown",
      "metadata": {
        "id": "u-k5wmhh3L9v"
      },
      "source": [
        "$\\lambda_0 = 0.20$  $\\lambda_1 = 0.50$\n",
        "\n",
        "$H_{0}: \\theta = \\lambda_0$\n",
        "\n",
        "$H_{A}: \\theta = \\lambda_1$\n",
        "\n",
        "Статистическое отношение правдоподобия:\n",
        "\n",
        "$ LR( \\vec{X}, θ)=(\\frac{ \\lambda_1}{\\lambda_0})^ne^{-\\lambda_1\\sum_{i=1}^n X_i+\\lambda_0\\sum_{i=1}^n X_i} $\n",
        "\n",
        "В силу монотонности статистики $LR(\\overrightarrow{X})$ относительно МДС\n",
        "\n",
        "$LR(\\overrightarrow{X},\\lambda_{0},\\lambda_{1}) > c \\Leftrightarrow \\overline{X} < c^* $\n",
        "\n",
        "\n",
        "$ \\phi(x) =\\left\\{\\begin{array}{l} 1, \\overline{X} < c^* \\\\ p, \\overline{X} = c^* \\\\ 0, \\overline{X} > c^*\\\\ \\end{array}\\right.$\n",
        "\n",
        "по ЦПТ:\n",
        "\n",
        "$\\sqrt{n} \\frac{\\overline{X} - \\mathbb{E}x}{\\sqrt{\\mathbb{D}}} \\sim \\mathcal{N}(0, 1)$\n",
        "\n",
        "$ \\sqrt{n} \\frac{ \\overline{X}-\\frac1{\\lambda_0}}{\\frac{1}{(\\lambda_0)^2}} \\sim N(0,1) $, при $H_0$\n",
        "\n",
        "$ P(\\sqrt{n} \\frac{ \\overline{X}-\\frac{1}{\\lambda_0}}{\\frac1{(\\lambda_0)^2}} ≥\\sqrt{n} \\frac{ c^*-\\frac1{\\lambda_0}}{\\frac1{(λ_0)^2}})=1-Ф(\\sqrt{n} \\frac{ c^*-\\frac1{\\lambda_0}}{\\frac1{(\\lambda_0)^2}})= \\alpha $\n",
        "\n",
        "Квантиль:\n",
        "\n",
        "$x_{\\alpha} : \\Phi(x_{\\alpha}) = 1 - \\alpha_2 = 0.8 \\Rightarrow x_{\\alpha} = 0.84$\n",
        "\n",
        "$c^* = \\frac{\\frac{x_\\alpha}{\\lambda_0 \\sqrt{n}} + 1}{\\lambda_0} = 7.9$\n",
        "\n",
        "$\\overline{X} = 2.04$\n",
        "\n",
        "\n",
        "$\\overline{X} < c^* \\Rightarrow$  гипотезу принимаем.\n"
      ]
    },
    {
      "cell_type": "markdown",
      "metadata": {
        "id": "bpSdC0mv3L9v"
      },
      "source": [
        "Поменяем местами нулевую и альтернативную гипотезы.\n",
        "\n",
        "$H_{0}: \\theta = \\lambda_1$\n",
        "\n",
        "$H_{A}: \\theta = \\lambda_0$\n",
        "\n",
        "Статистическое отношение правдоподобия:\n",
        "\n",
        "$ LR( \\vec{X}, θ)=(\\frac{ \\lambda_0}{\\lambda_1})^ne^{-\\lambda_0\\sum_{i=1}^n X_i+\\lambda_1\\sum_{i=1}^n X_i} $\n",
        "\n",
        "В силу монотонности статистики $LR(\\overrightarrow{X})$ относительно МДС\n",
        "\n",
        "$LR(\\overrightarrow{X},\\lambda_1,\\lambda_0) > c \\Leftrightarrow \\overline{X} < c^* $\n",
        "\n",
        "\n",
        "$ \\phi(x) =\\left\\{\\begin{array}{l} 1, \\overline{X} < c^* \\\\ p, \\overline{X} = c^* \\\\ 0, \\overline{X} > c^*\\\\ \\end{array}\\right.$\n",
        "\n",
        "по ЦПТ:\n",
        "\n",
        "$\\sqrt{n} \\frac{\\overline{X} - \\mathbb{E}x}{\\sqrt{\\mathbb{D}}} \\sim \\mathcal{N}(0, 1)$\n",
        "\n",
        "$ \\sqrt{n} \\frac{ \\overline{X}-\\frac1{\\lambda_1}}{\\frac1{(\\lambda_1)^2}} \\sim N(0,1) $, при $H_0$\n",
        "\n",
        "$ P(\\sqrt{n} \\frac{ \\overline{X}-\\frac1{\\lambda_1}}{\\frac1{(\\lambda_1)^2}} ≥\\sqrt{n} \\frac{ c^*-\\frac1{\\lambda_1}}{\\frac1{(\\lambda_1)^2}})=1-\\Phi(\\sqrt{n} \\frac{ c^*-\\frac1{\\lambda_1}}{\\frac1{(\\lambda_1)^2}})= \\alpha $\n",
        "\n",
        "Квантиль:\n",
        "\n",
        "$x_{\\alpha} : \\Phi(x_{\\alpha}) = 1 - \\alpha_2 = 0.8 \\Rightarrow x_{\\alpha} = 0.84$\n",
        "\n",
        "$c^* = \\frac{\\frac{x_\\alpha}{\\lambda_1 \\sqrt{n}} + 1}{\\lambda_1} = 2.47$\n",
        "\n",
        "$\\overline{X} = 2.04$\n",
        "\n",
        "\n",
        "$\\overline{X} < c^* \\Rightarrow$  гипотезу принимаем."
      ]
    },
    {
      "cell_type": "markdown",
      "metadata": {
        "id": "Zs-MEpeM3L9v"
      },
      "source": [
        "i) В пунктах (c)-(h) заменить семейство показательных распределений на семейство гамма-распределений с плотностями $ p_\\lambda(x)= \\frac{ \\sqrt{\\lambda}  \\exp({-\\lambda\\frac{x}2})}{\\sqrt{2 \\pi x}}$"
      ]
    },
    {
      "cell_type": "markdown",
      "metadata": {
        "id": "l7zJbuwu3L9w"
      },
      "source": [
        "i.c) ОМП, ОММ\n",
        "\n",
        "ОМП:\n",
        "\n",
        "$ L( \\vec{X}, θ)= \\frac{\\lambda^{n/2}e^{-\\frac{\\lambda}2\\sum_{i=1}^n X_i}}{2 \\pi^{n/2}\\prod_{i=1}^n \\sqrt{X_i}} $\n",
        "\n",
        "$ LL( \\vec{X}, θ)= \\frac{n}2 \\ln{\\lambda}-\\frac{\\lambda}2\\sum_{i=1}^n X_i-\\frac{n}2 \\ln{2 \\pi}-\\frac1{2}\\sum_{i=1}^n ln(X_i)  $\n",
        "\n",
        "$ \\frac{\\partial LL}{\\partial λ} = \\frac{n}{2λ}-\\frac1{2}\\sum_{i=1}^n X_i=0 $\n",
        "\n",
        "$ \\hat{λ}=\\frac{n}{\\sum_{i=1}^n X_i}=\\frac1{\\overline{X}} $"
      ]
    },
    {
      "cell_type": "code",
      "execution_count": null,
      "metadata": {
        "id": "criEH4mK3L9w",
        "outputId": "e5dd630a-e829-43f4-847b-ba9c0bceb7b8"
      },
      "outputs": [
        {
          "name": "stdout",
          "output_type": "stream",
          "text": [
            "ОМП: 0.49053271853232605\n"
          ]
        }
      ],
      "source": [
        "print(\"ОМП:\", 1/M)"
      ]
    },
    {
      "cell_type": "markdown",
      "metadata": {
        "id": "pR-prcBG3L9w"
      },
      "source": [
        "ОММ:\n",
        "\n",
        "$ \\mathbb{E}X_1=\\frac1{\\lambda}=M_1 $\n",
        "\n",
        "$ \\widetilde{\\lambda} = \\frac1{\\overline{X}} $"
      ]
    },
    {
      "cell_type": "markdown",
      "metadata": {
        "id": "oKkmo49P3L9w"
      },
      "source": [
        "i.d) А.Д.И.\n"
      ]
    },
    {
      "cell_type": "markdown",
      "metadata": {
        "id": "VYtP2-mu3L9w"
      },
      "source": [
        "$ \\sqrt{nI(\\hat{\\lambda})}(\\hat{\\lambda}-\\lambda) \\sim N(0,1) $\n",
        "\n",
        "Найдем информацию Фишера\n",
        "\n",
        "$ I_n(\\lambda)=- -\\mathbb{E}(- \\frac{n}{2λ^2})= \\frac{n}{2λ^2}  $\n",
        "\n",
        "$ I(\\lambda)= \\frac{1}{2\\lambda^2} $\n",
        "\n",
        "$\\sqrt{n\\cdot I\\left(  \\widehat{\\theta}(\\overrightarrow{X})\\right)}\\left( \\widehat{\\theta}(\\overrightarrow{X})-\\theta \\right)\\sim N(0,1)$\n",
        "\n",
        "\n",
        "$ x_\\alpha: Ф(x_\\alpha)=1-\\frac{\\alpha}{2}=1-\\frac{0.2}{2}=0.9 \\Rightarrow x_\\alpha = 1.28$\n",
        "\n",
        "$\\left[ \\overline{X}-\\frac{x_\\alpha}{\\sqrt{n\\cdot \\frac{1}{2\\overline{X}^2}}}; \\overline{X}+\\frac{x_\\alpha}{\\sqrt{n \\cdot \\frac{1}{2\\overline{X}^2}}}\\right] \\ni \\lambda $"
      ]
    },
    {
      "cell_type": "code",
      "execution_count": null,
      "metadata": {
        "id": "Uil6dBDw3L9x",
        "outputId": "f53f5b24-4a2e-4384-953d-522a47fb1279"
      },
      "outputs": [
        {
          "name": "stdout",
          "output_type": "stream",
          "text": [
            "А.Д.И: [ -0.03 ; 1.01 ]\n"
          ]
        }
      ],
      "source": [
        "dif = round(1.28 / ((len(data) * (1 / (2*M**2)))**(1/2)), 2)\n",
        "print('А.Д.И: [', round(1/M - dif, 2), ';', round(1/M + dif, 2), ']')"
      ]
    },
    {
      "cell_type": "markdown",
      "metadata": {
        "id": "JYEEL3UU3L9x"
      },
      "source": [
        "i.e) С использованием теоремы Колмогорова построить критерий значимости проверки простой гипотезы согласия с гамма-распределением с параметром $\\lambda_0$. Проверить гипотезу на уровне значимости $\\alpha_2$. Вычислить наибольшее значение уровня значимости, на котором еще нет оснований отвергнуть данную гипотезу."
      ]
    },
    {
      "cell_type": "code",
      "execution_count": null,
      "metadata": {
        "id": "keSHpRVW3L9x",
        "outputId": "9d5e6076-0426-421f-eef0-d3a0c7404042"
      },
      "outputs": [
        {
          "name": "stdout",
          "output_type": "stream",
          "text": [
            "5.0722018798840445\n",
            "1.0729830131446736\n",
            "Гипотеза опровергнута\n",
            "Максимальное значение уровня значимости:  -0.0\n"
          ]
        }
      ],
      "source": [
        "from scipy.stats import gamma\n",
        "\n",
        "lambda_0 = 0.2\n",
        "alpha_2 = 0.2\n",
        "\n",
        "def F(x):\n",
        "    res = 0\n",
        "    for X in var_range:\n",
        "        if X < x:\n",
        "            res += 1\n",
        "    res /= len(var_range)\n",
        "    return res\n",
        "\n",
        "\n",
        "def Kolmogorov_criteria():\n",
        "    table = []\n",
        "    for x in var_range:\n",
        "        val = np.abs(F(x) - gamma.cdf(x, lambda_0))\n",
        "        table.append(val)\n",
        "    D = max(table)\n",
        "    return np.sqrt(len(data))*D\n",
        "\n",
        "def critical(alpha):\n",
        "    return np.sqrt(-0.5 * np.log((alpha) / 2))\n",
        "\n",
        "\n",
        "print(Kolmogorov_criteria())\n",
        "print(critical(alpha_2))\n",
        "\n",
        "if Kolmogorov_criteria() < critical(alpha_2):\n",
        "    print(\"Гипотеза принимается\")\n",
        "else:\n",
        "    print(\"Гипотеза опровергнута\")\n",
        "\n",
        "alpha_max = alpha_2\n",
        "while Kolmogorov_criteria() > critical(alpha_2) and alpha_max > 0:\n",
        "    alpha_max -= 0.0001\n",
        "print(\"Максимальное значение уровня значимости: \", round(alpha_max, 3))"
      ]
    },
    {
      "cell_type": "markdown",
      "metadata": {
        "id": "Fd2hN1An3L9x"
      },
      "source": [
        "Максимальное значение уровня значимости ничтожно мало."
      ]
    },
    {
      "cell_type": "markdown",
      "metadata": {
        "id": "x8UwjxzV3L9y"
      },
      "source": [
        "i.f) Используя гистограмму частот, построить критерий значимости $\\mathcal{X^2}$ проверки простой гипотезы согласия с гамма-распределением с параметром $\\lambda_0$. Проверить гипотезу на уровень значимости $\\alpha_2$. Вычислить наибольшее значение уровня значимости, на котором ещё нет оснований отвергнуть данную гипотезу.\n",
        "\n",
        "$ p_\\lambda(x)= \\frac{ \\sqrt{\\lambda}  \\exp({-\\lambda\\frac{x}2})}{\\sqrt{2 \\pi x}}$\n"
      ]
    },
    {
      "cell_type": "code",
      "execution_count": null,
      "metadata": {
        "id": "B9gNFrCv3L9y",
        "outputId": "f6568e33-949f-46b6-ec9e-ea83645108e1"
      },
      "outputs": [
        {
          "name": "stdout",
          "output_type": "stream",
          "text": [
            "[0, 1] n = 25 p = 0.948 np = 23.69   0.07\n",
            "[1, 2] n = 8 p = 0.039 np = 0.32   187.39\n",
            "[2, 4] n = 7 p = 0.012 np = 0.08   576.29\n",
            "[4, inf] n = 11 p = 0.001 np = 0.01   9744.34\n",
            "10508.097340733464\n"
          ]
        }
      ],
      "source": [
        "inters = [[0, 1], [1, 2], [2, 4], [4, np.inf]]\n",
        "\n",
        "\n",
        "cr = 0\n",
        "for inter in inters:\n",
        "    p_ = gamma.cdf(inter[1], lambda_0) - gamma.cdf(inter[0], lambda_0)\n",
        "    n_ = len([x for x in var_range if inter[0] <= x <= inter[1]])\n",
        "    n_p = n_*p_\n",
        "    temp = ((n_-n_p)**2)/(n_p)\n",
        "    cr += temp\n",
        "    print(inter ,'n =', n_, 'p =',round(p_, 3), 'np =', round(n_p, 2), ' ', round(temp, 2))\n",
        "\n",
        "print(cr)"
      ]
    },
    {
      "cell_type": "markdown",
      "metadata": {
        "id": "CBEOJFAl3L9y"
      },
      "source": [
        "$I_1 = [0, 1]$ $n_1 = 25$  $p_1 = 0.95$  $np_1 = 23.69$   $\\frac{(n_1-np_1)^{2}}{np_1} = 0.07$\n",
        "\n",
        "$I_2 = (1, 2]$ $n_2 = 8$  $p_2 = 0.04$  $np_2 = 0.32$   $\\frac{(n_2-np_2)^{2}}{np_2} = 187.39$\n",
        "\n",
        "$I_3 = (2, 4]$ $n_3 = 7$  $p_3 = 0.01$  $np_3 = 0.08$   $\\frac{(n_3-np_3)^{2}}{np_3} = 576.29$\n",
        "\n",
        "$I_4 = (4, \\infty)$ $n_4 = 11$  $p_4 = 0.001$  $np_4 = 0.01$   $\\frac{(n_4-np_4)^{2}}{np_4} = 9744.34$\n",
        "\n",
        "$\\mathcal{X}^2 = \\sum_{i=1}^{4}\\frac{(n_i - np_i)^2}{np_i} = 10508.1$\n",
        "\n",
        "$\\mathcal{X}^2_{N-1,\\alpha_2} = \\mathcal{X}^2_{3,0.2} \\simeq 4.642$\n",
        "\n",
        "$\\mathcal{X}^{2} >  \\mathcal{X}^2_{3,0.2} \\Rightarrow$ отвергаем гипотезу\n",
        "\n",
        "Наибольшее значение уровня значимости, на котором еще нет оснований отвергнуть данную гипотезу, ничтожно мало."
      ]
    },
    {
      "cell_type": "markdown",
      "metadata": {
        "id": "u9abzFwh3L9y"
      },
      "source": [
        "i.g) Построить критерий значимости $\\mathcal{X^2}$ проверки сложной гипотезы согласия с гамма-распределением. Проверить гипотезу на уровень значимости $\\alpha_2$. Вычислить наибольшее значение уровня значимости, на котором ещё нет оснований отвергнуть данную гипотезу."
      ]
    },
    {
      "cell_type": "code",
      "execution_count": null,
      "metadata": {
        "id": "0EXfhVeE3L9y",
        "outputId": "d4c96f48-4e52-41c3-98b4-aac104a02562"
      },
      "outputs": [
        {
          "name": "stdout",
          "output_type": "stream",
          "text": [
            "[0, 1] n = 25 p = 0.948 np = 23.69   0.07\n",
            "[1, 2] n = 8 p = 0.039 np = 0.32   187.39\n",
            "[2, 4] n = 7 p = 0.012 np = 0.08   576.29\n",
            "[4, inf] n = 11 p = 0.001 np = 0.01   9744.34\n",
            "10508.097340733464\n"
          ]
        }
      ],
      "source": [
        "inters = [[0, 1], [1, 2], [2, 4], [4, np.inf]]\n",
        "\n",
        "\n",
        "cr = 0\n",
        "for inter in inters:\n",
        "    p_ = gamma.cdf(inter[1], lambda_0) - gamma.cdf(inter[0], lambda_0)\n",
        "    n_ = len([x for x in var_range if inter[0] <= x <= inter[1]])\n",
        "    n_p = n_*p_\n",
        "    temp = ((n_-n_p)**2)/(n_p)\n",
        "    cr += temp\n",
        "    print(inter ,'n =', n_, 'p =',round(p_, 3), 'np =', round(n_p, 2), ' ', round(temp, 2))\n",
        "\n",
        "print(cr)"
      ]
    },
    {
      "cell_type": "markdown",
      "metadata": {
        "id": "k0NsKlfc3L9z"
      },
      "source": [
        "$I_1 = [0, 1]$ $n_1 = 25$  $p_1 = 0.846$  $np_1 = 21.16$   $\\frac{(n_1-np_1)^{2}}{np_1} = 0.7$\n",
        "\n",
        "$I_2 = (1, 2]$ $n_2 = 8$  $p_2 = 0.109$  $np_2 = 0.88$   $\\frac{(n_2-np_2)^{2}}{np_2} = 58.01$\n",
        "\n",
        "$I_3 = (2, 4]$ $n_3 = 7$  $p_3 = 0.04$  $np_3 = 0.28$   $\\frac{(n_3-np_3)^{2}}{np_3} = 162.59$\n",
        "\n",
        "$I_4 = (4, \\infty)$ $n_4 = 11$  $p_4 = 0.005$  $np_4 = 0.05$   $\\frac{(n_4-np_4)^{2}}{np_4} =2410.34$\n",
        "\n",
        "$\\mathcal{X}^2 = \\sum_{i=1}^{4}\\frac{(n_i - np_i)^2}{np_i} = 2631.63$\n",
        "\n",
        "$\\mathcal{X}^2_{N-1,\\alpha_2} = \\mathcal{X}^2_{3,0.2} \\simeq 4.642$\n",
        "\n",
        "$\\mathcal{X}^{2} >  \\mathcal{X}^2_{3,0.2} \\Rightarrow$ отвергаем гипотезу\n",
        "\n",
        "Наибольшее значение уровня значимости, на котором еще нет оснований отвергнуть данную гипотезу, ничтожно мало."
      ]
    },
    {
      "cell_type": "markdown",
      "metadata": {
        "id": "vyaFt7Gz3L9z"
      },
      "source": [
        "i.h) Построить наиболее мощный критерий проверки простой гипотезы"
      ]
    },
    {
      "cell_type": "markdown",
      "metadata": {
        "id": "3qvvF-oo3L9z"
      },
      "source": [
        "$\\lambda_0 = 0.20$  $\\lambda_1 = 0.50$\n",
        "\n",
        "$H_{0}: \\theta = \\lambda_0$\n",
        "\n",
        "$H_{A}: \\theta = \\lambda_1$\n",
        "\n",
        "Статистическое отношение правдоподобия:\n",
        "\n",
        "\n",
        "$ LR( \\vec{X}, θ)=(\\frac{ \\lambda_1}{\\lambda_0})^{\\frac{n}2} \\exp(\\frac{\\sum_{i=1}^n X_i}2(\\lambda_0-\\lambda_1))$\n",
        "\n",
        "В силу монотонности статистики $LR(\\overrightarrow{X})$ относительно МДС\n",
        "\n",
        "$LR(\\overrightarrow{X},\\lambda_{0},\\lambda_{1}) > c \\Leftrightarrow \\overline{X} < c^* $\n",
        "\n",
        "\n",
        "$ \\phi(x) =\\left\\{\\begin{array}{l} 1, \\overline{X} < c^* \\\\ p, \\overline{X} = c^* \\\\ 0, \\overline{X} > c^*\\\\ \\end{array}\\right.$\n",
        "\n",
        "по ЦПТ:\n",
        "\n",
        "$ \\sqrt{n} \\frac{ \\overline{X}-\\frac1{\\lambda_0}}{\\frac2{(\\lambda_0)^2}} \\sim N(0,1) $\n",
        "\n",
        "$ P(\\sqrt{n} \\frac{ \\overline{X}-\\frac1{\\lambda_0}}{\\frac2{(\\lambda_0)^2}} ≥\\sqrt{n} \\frac{ c^*-\\frac1{λ_0}}{\\frac2{(λ_0)^2}})=1-\\Phi(\\sqrt{n} \\frac{ c^*-\\frac1{\\lambda_0}}{\\frac2{(\\lambda_0)^2}})= α $\n",
        "\n",
        "Квантиль:\n",
        "\n",
        "$x_{\\alpha} : \\Phi(x_{\\alpha}) = 1 - \\alpha_2 = 0.8 \\Rightarrow x_{\\alpha} = 0.84$\n",
        "\n",
        "$c^* = \\frac{2x_\\alpha}{\\lambda_0^2\\sqrt{n}} + \\frac{1}{\\lambda_0} = 10.9$\n",
        "\n",
        "$\\overline{X} = 2.04$\n",
        "\n",
        "\n",
        "$\\overline{X} < c^* \\Rightarrow$  гипотезу принимаем."
      ]
    },
    {
      "cell_type": "markdown",
      "metadata": {
        "id": "bpNV7bCQ3L9z"
      },
      "source": [
        "Поменяем местами нулевую и альтернативную гипотезы:\n",
        "$H_{0}: \\theta = \\lambda_1$\n",
        "\n",
        "$H_{A}: \\theta = \\lambda_0$\n",
        "\n",
        "Статистическое отношение правдоподобия:\n",
        "\n",
        "\n",
        "$ LR( \\vec{X}, θ)=(\\frac{ \\lambda_0}{\\lambda_1})^{\\frac{n}2} \\exp(\\frac{\\sum_{i=1}^n X_i}2(\\lambda_1-\\lambda_0))$\n",
        "\n",
        "В силу монотонности статистики $LR(\\overrightarrow{X})$ относительно МДС\n",
        "\n",
        "$LR(\\overrightarrow{X},\\lambda_{1},\\lambda_{0}) > c \\Leftrightarrow \\overline{X} < c^* $\n",
        "\n",
        "\n",
        "$ \\phi(x) =\\left\\{\\begin{array}{l} 1, \\overline{X} < c^* \\\\ p, \\overline{X} = c^* \\\\ 0, \\overline{X} > c^*\\\\ \\end{array}\\right.$\n",
        "\n",
        "по ЦПТ:\n",
        "\n",
        "$ \\sqrt{n} \\frac{ \\overline{X}-\\frac1{\\lambda_1}}{\\frac2{(\\lambda_1)^2}} \\sim N(0,1) $\n",
        "\n",
        "$ P(\\sqrt{n} \\frac{ \\overline{X}-\\frac1{\\lambda_1}}{\\frac2{(\\lambda_1)^2}} ≥\\sqrt{n} \\frac{ c^*-\\frac1{\\lambda_1}}{\\frac2{(\\lambda_1)^2}})=1-\\Phi(\\sqrt{n} \\frac{ c^*-\\frac1{\\lambda_1}}{\\frac2{(\\lambda_1)^2}})= \\alpha $\n",
        "\n",
        "Квантиль:\n",
        "\n",
        "$x_{\\alpha} : \\Phi(x_{\\alpha}) = 1 - \\alpha_2 = 0.8 \\Rightarrow x_{\\alpha} = 0.84$\n",
        "\n",
        "$c^* = \\frac{2x_\\alpha}{\\lambda_1^2\\sqrt{n}} + \\frac{1}{\\lambda_1} = 2.95$\n",
        "\n",
        "$\\overline{X} = 2.04$\n",
        "\n",
        "\n",
        "$\\overline{X} < c^* \\Rightarrow$  гипотезу принимаем."
      ]
    },
    {
      "cell_type": "markdown",
      "metadata": {
        "id": "y6Y-WaoBI-VS"
      },
      "source": [
        "## Выводы\n",
        "\n",
        "В данной лабораторной работе были изучены методы математической статистики для решения задач статистического анализа и сформированы навыки реализации методов с помощью прикладных программных пакетов.\n",
        "Была проведена статистическая обработка данных с помощью встроенных методов Python: найдены выборочные аналоги числовых характеристик, построены ОМП и НРМД оценки, доверительные интервалы и проведена работа с гипотезами."
      ]
    }
  ],
  "metadata": {
    "colab": {
      "provenance": []
    },
    "kernelspec": {
      "display_name": "Python 3",
      "name": "python3"
    },
    "language_info": {
      "codemirror_mode": {
        "name": "ipython",
        "version": 3
      },
      "file_extension": ".py",
      "mimetype": "text/x-python",
      "name": "python",
      "nbconvert_exporter": "python",
      "pygments_lexer": "ipython3",
      "version": "3.11.6"
    }
  },
  "nbformat": 4,
  "nbformat_minor": 0
}