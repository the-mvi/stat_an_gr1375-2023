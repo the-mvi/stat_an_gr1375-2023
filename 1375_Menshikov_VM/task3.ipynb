{
 "cells": [
  {
   "cell_type": "markdown",
   "metadata": {},
   "source": [
    "# Лабораторная работа №3: Регрессионный анализ\n",
    "Выполнил студент гр. 1375 Меньшиков Валерий. Вариант №16"
   ]
  },
  {
   "cell_type": "markdown",
   "metadata": {},
   "source": [
    "## Цель работы\n",
    "Ознакомление с основными положениями метода наименьших квадратов (МНК), со статистическими свойствами МНК-оценок, с понятием функции регрессии и роли МНК в регрессионном анализе."
   ]
  },
  {
   "cell_type": "markdown",
   "metadata": {},
   "source": [
    "## Цель работы\n",
    "Ознакомление с основными положениями метода наименьших квадратов (МНК), со статистическими свойствами МНК-оценок, с понятием функции регрессии и роли МНК в регрессионном анализе."
   ]
  },
  {
   "cell_type": "markdown",
   "metadata": {},
   "source": [
    "## Основные теоретические положения\n",
    "\n",
    "1. **Линейная регрессионная модель**\n",
    "   - Уравнение регрессии: $y = \\beta_0 + \\beta_1x_1 + ⋯ + \\beta_nx_n + \\epsilon $.\n",
    "<br><br>\n",
    "2. **МНК (Метод Наименьших Квадратов)**\n",
    "   - Минимизация  $RSS(\\beta)=\\left\\| Y-X^{\\intercal}\\beta \\right\\| $.\n",
    "   - Решение через нормальные уравнения:  $XX^{\\intercal}\\beta=XY $.\n",
    "   - Несмещенная оценка дисперсии  $S^{2} = \\frac{RSS(\\widehat{\\beta})}{n-r} $.\n",
    "<br><br>\n",
    "3. **Доверительный интервал**\n",
    "   - ДНО функции:  $\\psi=с^{\\intercal}\\beta $.\n",
    "   - Распределение  $\\widehat{\\psi}\\sim \\mathcal{N}(\\psi,\\sigma^{2}b) $.\n",
    "   - Доверительный интервал:  $[\\widehat{\\psi} - X_{\\alpha}S\\sqrt{b}; \\widehat{\\psi} + X_{\\alpha}S\\sqrt{b}] $.\n",
    "<br><br>\n",
    "4. **Доверительный эллипсоид**\n",
    "   - Уравнение  $A_{\\alpha} $ - доверительного эллипсоида.\n",
    "   - Параметры:  $\\widehat{\\psi} $ (вектор оценок),  $B $ (матрица ковариации),  $S^{2} $ (оценка дисперсии),  $q $ (пороговая точка),  $X_{\\alpha} $.\n",
    "<br><br>\n",
    "5. **Критерий  $\\chi^2 $ для проверки гипотез**\n",
    "   - Статистика  $\\chi^{2}_{набл} $ сравнивается с  $\\mathcal{X}^{2}_{N-1,1-\\alpha_{1}} $.\n",
    "<br><br>\n",
    "6. **Теорема Колмогорова**\n",
    "   - Сходимость  $D_{n}(\\overrightarrow{X}) $ к распределению Колмогорова при верной гипотезе  $H_{0} $.\n",
    "<br><br>\n",
    "7. **$\\mathbb{F}$ - критерий**\n",
    "   - Статистика  $\\mathbb{F}=\\frac{MSR}{MSE} $для проверки гипотезы о равенстве дисперсий.\n",
    "   - Сравнение с  $\\mathbb{F}_{кр} $ при уровне значимости  $\\alpha $."
   ]
  },
  {
   "cell_type": "markdown",
   "metadata": {},
   "source": [
    "## Постановка задачи\n",
    "Результаты статистического эксперимента представлены в виде двух переменных. Требуется оценить характер (случайной) зависимости переменной $Y$ от переменной $X$. Полученные результаты содержательно проинтерпретировать."
   ]
  },
  {
   "cell_type": "markdown",
   "metadata": {},
   "source": [
    "## Выполнение работы"
   ]
  },
  {
   "cell_type": "markdown",
   "metadata": {},
   "source": [
    "### 1.Построить графически результаты эксперимента. Сформулировать линейную регрессионную модель переменной Y по переменной X. Построить МНК оценки параметров сдвига $\\beta_0$ и масштаба $\\beta_1$.  Построить полученную линию регрессии. Оценить визуально соответствие полученных данных и построенной оценки"
   ]
  },
  {
   "cell_type": "markdown",
   "metadata": {},
   "source": [
    "Линейная регрессионная модель:\n",
    "\n",
    "$\\mathbb{E}_{\\theta}(Y|z) = x(z)^{\\intercal}\\beta$\n",
    "\n",
    "\n",
    "Альтернативная форма записи модели линейной регрессии\n",
    "\n",
    "$ Y = X^T \\beta + e  \\quad \\mathbb{E}_\\theta +\\varepsilon = 0 \\quad Var_\\theta e = \\sigma^2 E$\n",
    "\n",
    "Система нормальных уравнений:\n",
    "\n",
    "$ X X^T \\beta = X Y $\n",
    "\n",
    "Решение системы нормальных уравнений в регулярном случае:\n",
    "\n",
    "$ \\hat{\\beta} = (X X^T)^{-1} XY $"
   ]
  },
  {
   "cell_type": "code",
   "execution_count": 80,
   "metadata": {},
   "outputs": [
    {
     "data": {
      "image/png": "[encoded data removed]",
      "text/plain": [
       "<Figure size 640x480 with 1 Axes>"
      ]
     },
     "metadata": {},
     "output_type": "display_data"
    }
   ],
   "source": [
    "import pandas as pd\n",
    "import numpy as np\n",
    "from matplotlib import pyplot as plt\n",
    "import statistics as st\n",
    "import scipy.stats as sc\n",
    "from scipy.stats import chi2\n",
    "import scipy.stats as sps\n",
    "import scipy.optimize as spo\n",
    "\n",
    "\n",
    "\n",
    "y = np.array( [2.17, 12.99, 12.51, 9.43, 9.36, 10.63, 15.14, 8.68, 5.05, 15.78,\n",
    "    13.47, 27.91, 15.02, 10.36, 8.75, 21.16, 28.80, 24.63, 7.85, 20.56,\n",
    "    9.86, 16.88, 4.15, 8.35, 24.33, 14.25, 10.15, 0.56, 23.16, 16.49,\n",
    "    11.29, 8.99, 8.27, 10.20, 14.65, 30.08, 20.19, 1.83, 11.10, 19.00,\n",
    "    15.21, 8.98, 14.54, 20.63, 17.27, 8.92, 17.26, 11.29, 14.95, 17.17\n",
    "    ])\n",
    "\n",
    "x = np.array( [8, 4, 8, 3, 6, 2, 0, 5, 1, 3,\n",
    "    7, 7, 8, 3, 6, 4, 9, 3, 4, 3,\n",
    "    0, 1, 0, 4, 9, 9, 4, 4, 9, 4,\n",
    "    5, 8, 7, 9, 7, 7, 9, 7, 7, 1,\n",
    "    3, 0, 6, 9, 8, 6, 1, 4, 7, 2\n",
    "    ])\n",
    "\n",
    "\n",
    "plt.scatter(x, y)\n",
    "plt.xlabel(\"x\")\n",
    "plt.ylabel(\"y\")\n",
    "plt.title(\"Графическое представление результатов эксперимента\")\n",
    "plt.scatter(x, y, color='lightblue', edgecolors='black', linewidths=0.5)\n",
    "plt.show()"
   ]
  },
  {
   "cell_type": "markdown",
   "metadata": {},
   "source": [
    "МНК-оценки\n",
    "$ \\hat{\\beta} = \\left( \\begin{array}{c} \\hat\\beta_0 \\\\ \\hat\\beta_1 \\end{array} \\right) = \\left( \\begin{array}{c} 11.106 \\\\ 0.538 \\end{array} \\right) $"
   ]
  },
  {
   "cell_type": "code",
   "execution_count": 81,
   "metadata": {},
   "outputs": [
    {
     "name": "stdout",
     "output_type": "stream",
     "text": [
      "β0: 11.106\n",
      "β1: 0.538\n"
     ]
    }
   ],
   "source": [
    "Y_matrix = np.matrix(y).T\n",
    "X_matrix = np.matrix([[1] * len(x), x])\n",
    "Beta_matrix = np.linalg.inv(X_matrix * X_matrix.T) * X_matrix * Y_matrix\n",
    "beta_0 = float(Beta_matrix[0, 0])\n",
    "beta_1 = float(Beta_matrix[1, 0])\n",
    "XX_T_inv = np.linalg.inv(X_matrix * X_matrix.T)\n",
    "print(\"β0:\", round(beta_0, 3) )\n",
    "print(\"β1:\", round(beta_1, 3))\n"
   ]
  },
  {
   "cell_type": "code",
   "execution_count": 82,
   "metadata": {},
   "outputs": [
    {
     "data": {
      "image/png": "[encoded data removed]",
      "text/plain": [
       "<Figure size 640x480 with 1 Axes>"
      ]
     },
     "metadata": {},
     "output_type": "display_data"
    }
   ],
   "source": [
    "b = np.array([beta_0, beta_1])\n",
    "plt.scatter(x, y)\n",
    "plt.plot([min(x), max(x)], [beta_0 + beta_1 * min(x), beta_0 + beta_1 * max(x)], color='darkgreen')\n",
    "plt.xlabel(\"X\")\n",
    "plt.ylabel(\"Y\")\n",
    "plt.title(\"Линейная регрессия\")\n",
    "plt.scatter(x, y, color='lightblue', edgecolors='black', linewidths=0.5)\n",
    "plt.show()"
   ]
  },
  {
   "cell_type": "markdown",
   "metadata": {},
   "source": [
    "При визуальном анализе данных можно заметить, что линия регрессии пересекает диапазон результатов эксперимента, и при этом её значение совпадает с средним значением результатов эксперимента при одинаковых значениях переменной X."
   ]
  },
  {
   "cell_type": "markdown",
   "metadata": {},
   "source": [
    "### 2. Построить и интерпретировать несмещённую оценку дисперсии. На базе ошибок построить гистограмму с шагом $h =  2.60 $. Проверить гипотезу нормальности ошибок на уровне значимости $\\alpha = 0.20$ по $\\chi^2$. Оценить расстояние полученной оценки до класса нормальных распределений по Колмогорову. Визуально оценить данный факт."
   ]
  },
  {
   "cell_type": "markdown",
   "metadata": {},
   "source": [
    "Несмещённая оценка дисперсии:\n",
    "\n",
    "$ \\displaystyle S^2 = \\frac{RSS( \\hat{\\beta} )}{ n - r } = \\frac{(Y - X^T \\hat{\\beta})^T (Y - X^T \\hat{\\beta})}{48} \\approx 44.4$\n",
    "\n",
    "Где r - ранг матрицы = 2"
   ]
  },
  {
   "cell_type": "code",
   "execution_count": 83,
   "metadata": {},
   "outputs": [
    {
     "name": "stdout",
     "output_type": "stream",
     "text": [
      "Ранг матрицы(r) = 2\n",
      "Несмещённая оценка дисперсии = 44.4094537665651\n"
     ]
    }
   ],
   "source": [
    "D = np.linalg.norm((Y_matrix - X_matrix.T * Beta_matrix).T*(Y_matrix - X_matrix.T * Beta_matrix)) /(len(x) - np.linalg.matrix_rank(X_matrix))\n",
    "print(\"Ранг матрицы(r) =\",np.linalg.matrix_rank(X_matrix))\n",
    "print(\"Несмещённая оценка дисперсии =\", D)"
   ]
  },
  {
   "cell_type": "code",
   "execution_count": 84,
   "metadata": {},
   "outputs": [
    {
     "name": "stdout",
     "output_type": "stream",
     "text": [
      "Минимальная ошибка:  -13.237213130866385\n",
      "Максимальная ошибка:  15.210442282176023\n"
     ]
    },
    {
     "data": {
      "image/png": "[encoded data removed]",
      "text/plain": [
       "<Figure size 640x480 with 1 Axes>"
      ]
     },
     "metadata": {},
     "output_type": "display_data"
    }
   ],
   "source": [
    "mistakes = Y_matrix - X_matrix.T * Beta_matrix\n",
    "mean_mistakes = 0\n",
    "std_mistakes = np.sqrt(D)\n",
    "mistakes = Y_matrix - X_matrix.T * Beta_matrix\n",
    "min_mistake_scalar = float(np.min(mistakes))\n",
    "max_mistake_scalar = float(np.max(mistakes))\n",
    "h = 2.6\n",
    "plt.title(\"Гистограмма ошибок\")\n",
    "plt.xlabel('x', fontsize=12)\n",
    "plt.ylabel('H(x)', fontsize=12)\n",
    "min_mistake_scalar = float(np.min(mistakes))\n",
    "max_mistake_scalar = float(np.max(mistakes))\n",
    "\n",
    "print(\"Минимальная ошибка: \", min_mistake_scalar)\n",
    "\n",
    "print(\"Максимальная ошибка: \",max_mistake_scalar)\n",
    "\n",
    "\n",
    "counts, bins = np.histogram(mistakes, bins=[i / 100 for i in range((int(min_mistake_scalar)*100)-30, (int(max_mistake_scalar)*100)+300, int(h*100))])\n",
    "plt.hist(bins[:-1], edgecolor='black', weights=counts, bins=bins, color='lightblue')\n",
    "plt.show()"
   ]
  },
  {
   "cell_type": "markdown",
   "metadata": {},
   "source": [
    "**Оценим соответствует ли распределение ошибок нормальному распредлению.**\n",
    "\n",
    "При $ a_0 = 0 $ и $ \\sigma^2 = 44.4$ и $ \\alpha_1 = 0.2 $\n",
    "\n",
    "$I_{1}=\\left(-13.237,  -8.037 \\right], n_{1}=3$ \n",
    "\n",
    "$P_{1}=0.09$  \n",
    "\n",
    "$I_{2}=\\left( -8.037,  -5.437\\right], n_{2}= 6$ \n",
    "\n",
    "$P_{2}=0.093$   \n",
    "\n",
    "\n",
    "$I_{3}=\\left(-5.437,-2.837\\right], n_{3}=8$  \n",
    "\n",
    "$P_{3}=0.128$  \n",
    "\n",
    "\n",
    "$I_{4}=\\left(-2.837, -0.237\\right], n_{4}=10$  \n",
    "\n",
    "$P_{4}=0.15$  \n",
    "\n",
    "\n",
    "$I_{5}=\\left(-0.237, 2.363\\right], n_{4}=5$  \n",
    "\n",
    "$P_{5}=0.153$  \n",
    "\n",
    "\n",
    "$I_{6}=\\left(2.363, 4.963\\right], n_{4}=6$  \n",
    "\n",
    "$P_{6}=0.133$  \n",
    "\n",
    "\n",
    "$I_{7}=\\left(4.963, 7.563\\right], n_{4}=5$  \n",
    "\n",
    "$P_{7}=0.10$  \n",
    "\n",
    "\n",
    "$I_{8}=\\left(7.563, +\\infty \\right], n_{4}=7$  \n",
    "\n",
    "$P_{8}=0.128$  \n",
    "\n",
    "\n",
    "\n",
    "\n",
    "\n",
    "\n",
    "\n",
    "\n",
    " **Вычисление статистики критерия $\\chi^2$:**\n",
    "\n",
    "   $\\chi^2 = \\sum \\limits_{i=1}^7 \\large \\frac{\\left(n_i - n\\mathbb{P}_i\\right)^2}{n\\mathbb{P}_i}  \\normalsize = 3.13$\n",
    "\n",
    "   **Сравнение с критическим значением:**\n",
    "   - Из таблицы для распределения $\\chi^2$ с 7 степенями свободы при уровне значимости $\\alpha = 0.2$ значение критерия составляет $\\chi_{7, 0.8}^2 \\approx 9.803$.\n",
    "   - Так как $\\chi_{7, 0.8}^2 > \\chi^2 $, Нет основания отвергнуть гипотезу.\n",
    "\n",
    "   Наибольшее значение уровня значимости, при котором ещё нет оснований отвергнуть данную гипотезу, равняется $0.878$\n",
    "\n",
    "\n"
   ]
  },
  {
   "cell_type": "code",
   "execution_count": 85,
   "metadata": {},
   "outputs": [
    {
     "name": "stdout",
     "output_type": "stream",
     "text": [
      "[0.0904057, 0.0933829, 0.1278699, 0.1506582, 0.1527365, 0.133235, 0.1000042, 0.1282093]\n",
      "χ2 =  3.13269608\n",
      "χ_alpha = 9.803\n",
      "Наибольшее значение уровня значимости = 0.878\n"
     ]
    }
   ],
   "source": [
    "from re import match\n",
    "from math import inf\n",
    "\n",
    "I = [  (-13.237, -8.037),\n",
    "    (-8.037, -5.437),\n",
    "    (-5.437, -2.837),\n",
    "    (-2.837, -0.237),\n",
    "    (-0.237, 2.363),\n",
    "    (2.363, 4.963),\n",
    "    (4.963, 7.563),\n",
    "    (7.563, +inf)]\n",
    "\n",
    "a0=0\n",
    "sigma0= D\n",
    "n=len(y)\n",
    "alpha = 0.2\n",
    "n_i = [3, 6, 8, 10, 5, 6, 5, 7];p_i = [];np_i = [];n_i_np_i = [];res = []\n",
    "for i in I:\n",
    " p_i.append(round(sc.norm.cdf(i[1], loc=a0,scale=std_mistakes) - sc.norm.cdf(i[0], loc=a0,scale=std_mistakes), 7))\n",
    "print(p_i)\n",
    "for i in range (8):\n",
    " np_i.append(round(n*p_i[i],7))\n",
    "for i in range(8):\n",
    " n_i_np_i.append(round(n_i[i] - np_i[i], 8))\n",
    "for i in range(8):\n",
    " res.append(round((n_i_np_i[i] ** 2) / np_i[i] , 8))\n",
    "print(\"χ2 = \", sum(res))\n",
    "chi2_val_5_09 = chi2.ppf(1-alpha, 7)\n",
    "print('χ_alpha =',round(chi2_val_5_09,3))\n",
    "chi2 = 3.078\n",
    "print(\"Наибольшее значение уровня значимости =\", round(1 - sps.chi2.cdf(chi2, 7), 3))"
   ]
  },
  {
   "cell_type": "code",
   "execution_count": 86,
   "metadata": {},
   "outputs": [
    {
     "name": "stdout",
     "output_type": "stream",
     "text": [
      "Колмогоров: 0.10754427408257183\n",
      "x_alpha =  0.12362978909230184\n",
      "Наибольшее значение уровня значимости = 0.29341077555123674\n"
     ]
    }
   ],
   "source": [
    "Dn = sps.kstest([element[0,0] for element in mistakes], \"norm\", args = (mean_mistakes,std_mistakes)).statistic\n",
    "print(\"Колмогоров:\", Dn)\n",
    "x_a = sps.ksone.ppf(1-alpha, 50)\n",
    "print(\"x_alpha = \",x_a)\n",
    "\n",
    "\n",
    "print(\"Наибольшее значение уровня значимости =\", 1 - sps.ksone.cdf(Dn, 50))"
   ]
  },
  {
   "cell_type": "markdown",
   "metadata": {},
   "source": [
    "Критерий Колмогорова\\\n",
    "$\\widehat{\\varphi(\\vec{X})} = \\begin{cases} 0, \\quad \\widehat{D_n} \\leq 0.108 \\\\ 1, \\quad \\widehat{D_n} > 0.108 \\end{cases}$\n",
    "\n",
    "\n",
    "Т.к. $\\widehat{D_n} < x_\\alpha$, гипотеза  принимается.\n",
    "\n",
    "   Наибольшее значение уровня значимости, при котором ещё нет оснований отвергнуть данную гипотезу, равняется $0.293$"
   ]
  },
  {
   "cell_type": "code",
   "execution_count": 87,
   "metadata": {},
   "outputs": [
    {
     "data": {
      "image/png": "[encoded data removed]",
      "text/plain": [
       "<Figure size 640x480 with 1 Axes>"
      ]
     },
     "metadata": {},
     "output_type": "display_data"
    }
   ],
   "source": [
    "mistakes = Y_matrix - X_matrix.T * Beta_matrix\n",
    "fig, ax = plt.subplots()\n",
    "counts, bins = np.histogram(mistakes, bins=[i / 100 for i in range((int(min_mistake_scalar)*100)-30, (int(max_mistake_scalar)*100)+300, int(h*100))])\n",
    "plt.hist(bins[:-1], edgecolor='black', weights=counts, bins=bins, color='lightblue', density= True)\n",
    "mistakes_range = np.arange(min(mistakes), max(mistakes) + 1, 0.01)\n",
    "\n",
    "\n",
    "plt.plot(mistakes_range, sps.norm.pdf(mistakes_range, mean_mistakes, std_mistakes))\n",
    "ax.set_title(\"Сравнение гистограммы и функции плотности нормального распределения\")\n",
    "plt.show()"
   ]
  },
  {
   "cell_type": "markdown",
   "metadata": {},
   "source": [
    "При рассмотрении построенного графика можно утверждать, что в общем случае расстояние между функциями распределения довольно невелико. Однако, следует отметить, что визуальная оценка может оказаться недостаточной для определения нормальности данных без дополнительного анализа."
   ]
  },
  {
   "cell_type": "markdown",
   "metadata": {},
   "source": [
    "### 3.В предположении нормальности ошибок построить доверительный интервал для параметров $\\beta_0,\\beta_1$ уровня доверия $1-\\alpha$.Построить доверительный эллипс уровня доверия $1-\\alpha$ для ($\\beta_0,\\beta_1$) (вычислить его полуоси)."
   ]
  },
  {
   "cell_type": "markdown",
   "metadata": {},
   "source": [
    "ДНО функция: $\\psi = C^T \\beta $\n",
    "\n",
    "Элемент дисперсии оценки: $ b_\\psi = C^T (XX^T)^{-1}C$\n",
    "\n",
    "Тогда: $ \\cfrac{\\widehat \\psi - \\psi}{s\\sqrt{b}} \\sim S_{n-r} $\n",
    "\n",
    "Доверительный интервал уровня доверия $1 - \\alpha$:\n",
    "\n",
    "$ P_\\theta(-x_\\alpha \\le \\cfrac{\\widehat \\psi - \\psi}{s\\sqrt{b}} \\le x_\\alpha) = 1 -\\alpha $, \n",
    "\n",
    "\n",
    "$[ \\widehat \\psi -x_{\\alpha}s\\sqrt{b} , \\widehat \\psi + x_{\\alpha}s\\sqrt{b}] \\ni \\psi$ \n",
    "\n",
    "где квантиль $ x_\\alpha : S_{n-r}(x_\\alpha) = 1 -\\frac{\\alpha}{2} $\n",
    "\n",
    "$x_{\\alpha} = S_{n - 2}(1 - \\frac{\\alpha}{2}) = 1.2994$\n",
    "\n",
    "\n",
    "- **Вычислим $\\beta_0:$** \n",
    "\n",
    "  $\\psi_{\\beta_0} = \\begin{pmatrix}\n",
    "    1 \\\\\n",
    "    0\n",
    "    \\end{pmatrix}  ^ {\\intercal} \\cdot  \\begin{pmatrix}\n",
    "    \\beta_0 \\\\\n",
    "    \\beta_1\n",
    "    \\end{pmatrix}$\n",
    "\n",
    "    $b_{\\psi_{\\beta_0}} =  \\begin{pmatrix}\n",
    "    1 & 0\n",
    "    \\end{pmatrix} (XX^{\\intercal})^{-1} \\begin{pmatrix}\n",
    "    1 \\\\ 0\n",
    "    \\end{pmatrix} = 0.082$\n",
    "\n",
    "    \n",
    "  \n",
    "- **Вычислим $\\beta_1:$**\n",
    "\n",
    "  $\\psi_{\\beta_1} = \\begin{pmatrix}\n",
    "    0 \\\\\n",
    "    1\n",
    "    \\end{pmatrix}  ^ {\\intercal} \\cdot  \\begin{pmatrix}\n",
    "    \\beta_0 \\\\\n",
    "    \\beta_1\n",
    "    \\end{pmatrix}$\n",
    "  \n",
    "    $b_{\\psi_{\\beta_1}} =  \\begin{pmatrix}\n",
    "    0 & 1\n",
    "    \\end{pmatrix} (XX^{\\intercal})^{-1} \\begin{pmatrix}\n",
    "    0 \\\\ 1\n",
    "    \\end{pmatrix} = 0.0025$\n",
    "\n",
    "\n",
    "$ \\cfrac{\\widehat \\psi - \\psi}{s\\sqrt{b_{\\psi_{\\beta_0}}}} \\sim S_{n-2} $\n",
    "\n",
    "$ \\cfrac{\\widehat \\psi - \\psi}{s\\sqrt{b_{\\psi_{\\beta_1}}}} \\sim S_{n-2} $\n",
    "\n",
    "\n"
   ]
  },
  {
   "cell_type": "code",
   "execution_count": 88,
   "metadata": {},
   "outputs": [
    {
     "name": "stdout",
     "output_type": "stream",
     "text": [
      "x_alpha: 1.2994\n",
      "[[0.08192049]]\n",
      "[[0.00245712]]\n",
      "Интервал для b1 ( [[8.62746462]] [[13.58447504]] )\n",
      "Интервал для b2 ( [[0.10840864]] [[0.96690219]] )\n"
     ]
    }
   ],
   "source": [
    "from scipy import stats\n",
    "import scipy\n",
    "\n",
    "r = np.linalg.matrix_rank(X_matrix)\n",
    "n = len(x)\n",
    "func = stats.t(n - 2)\n",
    "x_alpha = func.ppf(1 - alpha/2)\n",
    "print(f'x_alpha: {round(x_alpha, 4)}')\n",
    "e =  np.array([1, 0]).reshape((2, 1))\n",
    "e1 = np.array([1,0])\n",
    "e2 = np.array([0,1])\n",
    "e3 =  np.array([0, 1]).reshape((2, 1))\n",
    "\n",
    "\n",
    "b1 = e1 * XX_T_inv * e\n",
    "b2 = e2 *XX_T_inv*e3\n",
    "print(b1)\n",
    "print(b2)\n",
    "\n",
    "\n",
    "left = beta_0 - x_alpha * np.sqrt(D) * np.sqrt(b1)\n",
    "right = beta_0 + x_alpha * np.sqrt(D) * np.sqrt(b1)\n",
    "print(\"Интервал для b1 (\",left,right,\")\")\n",
    "\n",
    "left = beta_1 - x_alpha * np.sqrt(D) * np.sqrt(b2)\n",
    "right = beta_1 + x_alpha * np.sqrt(D) * np.sqrt(b2)\n",
    "print(\"Интервал для b2 (\",left,right,\")\")"
   ]
  },
  {
   "cell_type": "markdown",
   "metadata": {},
   "source": [
    "**Построим доверительный эллипс для параметра $(\\beta_0, \\beta_1)$ уровня доверия 1 - $\\alpha$** (вычислим полуоси)\n",
    "\n",
    "$ A_\\alpha = \\{\\overrightarrow{x}: (\\overrightarrow{x} - \\widehat \\psi)^T B^{-1} (\\overrightarrow{x} - \\widehat \\psi) \\le qs^2x_\\alpha\\}$\n",
    "\n",
    "$ A_\\alpha = \\{\\overrightarrow{x}: (\\overrightarrow{x} - \\widehat \\psi)^T (C^T (XX^T)^{-1}C)^{-1}(\\overrightarrow{x} - \\widehat \\psi) \\le qs^2x_\\alpha\\}$, \n",
    "\n",
    "где $ x_\\alpha  = 1 - \\alpha$"
   ]
  },
  {
   "cell_type": "markdown",
   "metadata": {},
   "source": [
    "$C = \\begin{pmatrix}\n",
    "    1 & 0\\\\\n",
    "    0 & 1\n",
    "\\end{pmatrix} $\n",
    "\n",
    "Пусть $ \\begin{pmatrix}\n",
    "    x\\\\\n",
    "    y\n",
    "\\end{pmatrix}  = P(\\widehat \\psi - \\psi)$, где P - матрица собственных векторов.\n",
    "\n",
    "Тогда уравнение доверительного эллипсоида выглядит таким образом:\n",
    "\n",
    "$(\\widehat \\psi -  \\psi)^T (C^T (XX^T)^{-1}C)^{-1}(\\widehat \\psi -  \\psi) = \\lambda_1 x^2 + \\lambda_2 y^2 \\le qs^2x_\\alpha$, где $\\lambda_1$ и $\\lambda_2$ - собственные числа матрицы $XX^T$\n",
    "\n",
    "$\\cfrac{\\lambda_1}{qs^2x_\\alpha}x^2 + \\cfrac{\\lambda_2}{qs^2x_\\alpha}y^2 \\le 1$\n",
    "\n",
    "\n",
    "Большая полуось\\\n",
    "$ 3.5197$\n",
    "\\\n",
    "Малая полуось\\\n",
    "$ 0.2945 $"
   ]
  },
  {
   "cell_type": "code",
   "execution_count": 89,
   "metadata": {},
   "outputs": [
    {
     "name": "stdout",
     "output_type": "stream",
     "text": [
      "x_alpha: 1.6646\n",
      "Большая полуось: 3.5197\n",
      "Малая полуось: 0.2945\n"
     ]
    }
   ],
   "source": [
    "XX_T = np.dot(X_matrix, X_matrix.T)\n",
    "eigenvalues, eigenvectors = np.linalg.eig(XX_T)\n",
    "\n",
    "\n",
    "\n",
    "func = stats.f(2, n - 2)\n",
    "x_alpha = func.ppf(1 - alpha)\n",
    "print(f'x_alpha: {round(x_alpha, 4)}')\n",
    "\n",
    "a = np.sqrt((2 * D * x_alpha) / eigenvalues[0])\n",
    "b =  np.sqrt((2 * D * x_alpha) / eigenvalues[1])\n",
    "\n",
    "print(f'Большая полуось: {round(a, 4)}')\n",
    "print(f'Малая полуось: {round(b, 4)}')\n"
   ]
  },
  {
   "cell_type": "markdown",
   "metadata": {},
   "source": [
    "### 4.Сформулировать гипотезу независимой переменной Y от переменной X. Провести проверку зависимости."
   ]
  },
  {
   "cell_type": "markdown",
   "metadata": {},
   "source": [
    "Основная гипотеза: $H_0 : \\psi = 0$\n",
    "\n",
    "ДНО функция: \n",
    "$\\psi = C^T \\beta $\n",
    "\n",
    "$ C = \\begin{pmatrix}\n",
    "    0 \\\\\n",
    "    1\n",
    "\\end{pmatrix} \\Rightarrow$, $\\widehat \\psi = \\widehat \\beta_1 $\n",
    "\n",
    "$\\mathbb{F} \\approx 2.65$\n",
    "\n",
    "$x_{\\alpha} \\approx 1.69$\n",
    "\n",
    "$\\mathbb{F} > x_{\\alpha} \\to$ Нет оснований принять гипотезу"
   ]
  },
  {
   "cell_type": "code",
   "execution_count": 90,
   "metadata": {},
   "outputs": [
    {
     "name": "stdout",
     "output_type": "stream",
     "text": [
      "Статистика F =  [[2.6491447]]\n",
      "x_alpha =  1.6885413994027616\n",
      "p = 0.11\n"
     ]
    }
   ],
   "source": [
    "c = np.array([0, 1])\n",
    "b = np.dot(np.dot(c.T, XX_T_inv), c)\n",
    "q = 1\n",
    "r = 2\n",
    "F = beta_1**2 / ( b*D)\n",
    "print(\"Статистика F = \" , F)\n",
    "\n",
    "x_alpha = stats.f(q, 48).ppf(1 - alpha)\n",
    "print(\"x_alpha = \" , x_alpha)\n",
    "F = 2.65\n",
    "print(\"p =\", round(1 - sps.f.cdf(F, 1, 48), 3))"
   ]
  },
  {
   "cell_type": "markdown",
   "metadata": {},
   "source": [
    "### 5.Сформулировать модель включающую доплнительный член с $X^2$.Построить МНК оценки параметров $\\beta_0,\\beta_1,\\beta_2$ в данной модели. Изобразить графически полученную регрессионную модель.\n",
    "\n"
   ]
  },
  {
   "cell_type": "markdown",
   "metadata": {},
   "source": [
    "Линейная регрессионная модель:\n",
    "\n",
    "$\\mathbb{E}_{\\theta}(Y|z) = x(z)^{\\intercal}\\beta$"
   ]
  },
  {
   "cell_type": "markdown",
   "metadata": {},
   "source": [
    "МНК-оценки параметров\n",
    "$ \\hat{\\beta} = \\left( \\begin{array}{c} \\hat\\beta_0 \\\\ \\hat\\beta_1 \\\\ \\hat\\beta_2 \\end{array} \\right) = \\left( \\begin{array}{c} 13.249 \\\\ -0.898 \\\\ 0.152 \\end{array} \\right) $"
   ]
  },
  {
   "cell_type": "code",
   "execution_count": 91,
   "metadata": {},
   "outputs": [
    {
     "name": "stdout",
     "output_type": "stream",
     "text": [
      "β0: 13.249\n",
      "β1: -0.898\n",
      "β2: 0.152\n"
     ]
    }
   ],
   "source": [
    "Y_matrix = np.matrix(y).T\n",
    "X_matrix = np.matrix([[1] * len(x), x, [i**2 for i in x]])\n",
    "Beta_matrix = np.linalg.inv(X_matrix * X_matrix.T) * X_matrix * Y_matrix\n",
    "beta_0 = float(Beta_matrix[0, 0])\n",
    "beta_1 = float(Beta_matrix[1, 0])\n",
    "beta_2 = float(Beta_matrix[2, 0])\n",
    "XX_T_inv = np.linalg.inv(X_matrix * X_matrix.T)\n",
    "print(\"β0:\", round(beta_0, 3) )\n",
    "print(\"β1:\", round(beta_1, 3))\n",
    "print(\"β2:\", round(beta_2, 3))\n"
   ]
  },
  {
   "cell_type": "code",
   "execution_count": 92,
   "metadata": {},
   "outputs": [
    {
     "data": {
      "image/png": "[encoded data removed]",
      "text/plain": [
       "<Figure size 640x480 with 1 Axes>"
      ]
     },
     "metadata": {},
     "output_type": "display_data"
    }
   ],
   "source": [
    "b = [beta_0, beta_1, beta_2]\n",
    "plt.title('Линия регрессии и исходные данные')\n",
    "plt.xlabel('x', fontsize=12)\n",
    "plt.ylabel('y', fontsize=12)\n",
    "plt.scatter(x, y, color='lightblue', edgecolors='black', linewidths=0.5)\n",
    "\n",
    "X_val = np.array(sorted(x))\n",
    "X = np.array([[1] * 50, X_val, X_val**2])\n",
    "\n",
    "plt.plot(X_val, np.dot(np.transpose(X), b), 'r')\n",
    "plt.show()"
   ]
  },
  {
   "cell_type": "markdown",
   "metadata": {},
   "source": [
    "### 6.Построить несмещенную оценку дисперсии. Провести исследование нормальности ошибок как в пункте 2."
   ]
  },
  {
   "cell_type": "markdown",
   "metadata": {},
   "source": [
    "Несмещённая оценка дисперсии:\n",
    "\n",
    "$ \\displaystyle S^2 = \\frac{RSS( \\hat{\\beta} )}{ n - r } = \\frac{(Y - X^T \\hat{\\beta})^T (Y - X^T \\hat{\\beta})}{48} \\approx 44.036$\n",
    "\n",
    "r = 3"
   ]
  },
  {
   "cell_type": "code",
   "execution_count": 93,
   "metadata": {},
   "outputs": [
    {
     "name": "stdout",
     "output_type": "stream",
     "text": [
      "r = 3\n",
      "Несмещённая оценка дисперсии = 44.03615252733759\n"
     ]
    }
   ],
   "source": [
    "D = np.linalg.norm((Y_matrix - X_matrix.T * Beta_matrix).T*(Y_matrix - X_matrix.T * Beta_matrix)) /(len(x) - np.linalg.matrix_rank(X_matrix))\n",
    "print(\"r =\",np.linalg.matrix_rank(X_matrix))\n",
    "print(\"Несмещённая оценка дисперсии =\", D)"
   ]
  },
  {
   "cell_type": "code",
   "execution_count": 94,
   "metadata": {},
   "outputs": [
    {
     "name": "stdout",
     "output_type": "stream",
     "text": [
      "[[-13.61613321]] [[15.67452754]]\n"
     ]
    },
    {
     "data": {
      "image/png": "[encoded data removed]",
      "text/plain": [
       "<Figure size 640x480 with 1 Axes>"
      ]
     },
     "metadata": {},
     "output_type": "display_data"
    }
   ],
   "source": [
    "mistakes = Y_matrix - X_matrix.T * Beta_matrix\n",
    "mean_mistakes = 0\n",
    "std_mistakes = np.sqrt(D)\n",
    "mistakes = Y_matrix - X_matrix.T * Beta_matrix\n",
    "\n",
    "plt.hist(mistakes, bins=np.arange(min(mistakes), max(mistakes) + h, h), edgecolor='black',color = \"lightblue\")\n",
    "print(min(mistakes), max(mistakes))\n",
    "plt.xlabel('X')\n",
    "plt.ylabel('H(X)')\n",
    "plt.show()\n",
    "\n"
   ]
  },
  {
   "cell_type": "markdown",
   "metadata": {},
   "source": [
    "При $ a_0 = 0 $ и $ \\sigma^2 = 44.04$ и $ \\alpha_1 = 0.2 $\n",
    "\n",
    "$I_{1}=\\left(-13.61,  -8.41 \\right], n_{1}= 4$ \n",
    "\n",
    "$P_{1}=0.082$  \n",
    "\n",
    "$I_{2}=\\left( -8.41,  -5.81\\right], n_{2}= 4$ \n",
    "\n",
    "$P_{2}=0.09$   \n",
    "\n",
    "\n",
    "$I_{3}=\\left(-5.81,-3.21\\right], n_{3}=11$  \n",
    "\n",
    "$P_{3}=0.124$  \n",
    "\n",
    "\n",
    "$I_{4}=\\left(-3.21, -0.61\\right], n_{4}=8$  \n",
    "\n",
    "$P_{4}=0.15$  \n",
    "\n",
    "\n",
    "$I_{5}=\\left(-0.61, 1.99\\right], n_{4}=6$  \n",
    "\n",
    "$P_{5}=0.154$  \n",
    "\n",
    "\n",
    "$I_{6}=\\left(1.99, 4.59\\right], n_{4}=6$  \n",
    "\n",
    "$P_{6}=0.138$  \n",
    "\n",
    "\n",
    "$I_{7}=\\left(4.59, 7.19\\right], n_{4}=5$  \n",
    "\n",
    "$P_{7}=0.105$  \n",
    "\n",
    "\n",
    "$I_{8}=\\left(7.19, +\\infty \\right], n_{4}=6$  \n",
    "\n",
    "$P_{8}=0.139$  \n",
    "\n",
    "\n",
    "\n",
    "\n",
    "\n",
    "\n",
    "\n",
    "\n",
    " **Вычисление статистики критерия $\\chi^2$:**\n",
    "\n",
    "   $\\chi^2 = \\sum \\limits_{i=1}^7 \\large \\frac{\\left(n_i - n\\mathbb{P}_i\\right)^2}{n\\mathbb{P}_i}  \\normalsize = 4.479$\n",
    "\n",
    "   **Сравнение с критическим значением:**\n",
    "   - Из таблицы для распределения $\\chi^2$ с 7 степенями свободы при уровне значимости $\\alpha = 0.2$ значение критерия составляет $\\chi_{7, 0.8}^2 \\approx 9.803$.\n",
    "   - Так как $\\chi_{7, 0.8}^2 > \\chi^2 $, Нет основания отвергнуть гипотезу.\n",
    "\n",
    "   Наибольшее значение уровня значимости, при котором ещё нет оснований отвергнуть данную гипотезу, равняется $0.81$"
   ]
  },
  {
   "cell_type": "code",
   "execution_count": 95,
   "metadata": {},
   "outputs": [
    {
     "name": "stdout",
     "output_type": "stream",
     "text": [
      "[0.0823815, 0.0881247, 0.1236472, 0.1490897, 0.1544864, 0.1375663, 0.1052719, 0.1392959]\n",
      "χ2 =  4.4789174\n",
      "χ_alpha = 9.803\n",
      "Наибольшее значение уровня значимости = 0.81\n"
     ]
    }
   ],
   "source": [
    "from re import match\n",
    "from math import inf\n",
    "from scipy.stats import chi2\n",
    "I = [\n",
    "    (-13.61, -8.41),\n",
    "    (-8.41, -5.81),\n",
    "    (-5.81, -3.21),\n",
    "    (-3.21, -0.61),\n",
    "    (-0.61, 1.99),\n",
    "    (1.99, 4.59),\n",
    "    (4.59, 7.19),\n",
    "    (7.19, float('inf'))\n",
    "]\n",
    "a0=0\n",
    "sigma0= D\n",
    "n=len(y)\n",
    "\n",
    "alpha = 0.2\n",
    "n_i = [4, 4, 11, 8, 6, 6, 5, 6];p_i = [];np_i = [];n_i_np_i = [];res = []\n",
    "for i in I:\n",
    " p_i.append(round(sc.norm.cdf(i[1], loc=a0,scale=sigma0**0.5) - sc.norm.cdf(i[0], loc=a0,scale=sigma0**0.5), 7))\n",
    "print(p_i)\n",
    "for i in range (8):\n",
    " np_i.append(round(n*p_i[i],7))\n",
    "for i in range(8):\n",
    " n_i_np_i.append(round(n_i[i] - np_i[i], 7))\n",
    "for i in range(8):\n",
    " res.append(round((n_i_np_i[i] ** 2) / np_i[i] , 7))\n",
    "print(\"χ2 = \", sum(res))\n",
    "chi2_val_5_09 = chi2.ppf(1-alpha, 7)\n",
    "print('χ_alpha =',round(chi2_val_5_09,3))\n",
    "chi2 = 3.73\n",
    "print(\"Наибольшее значение уровня значимости =\", round(1 - sps.chi2.cdf(chi2, 7), 3))"
   ]
  },
  {
   "cell_type": "code",
   "execution_count": 96,
   "metadata": {},
   "outputs": [
    {
     "name": "stdout",
     "output_type": "stream",
     "text": [
      "Колмогоров:  0.08595637222796693\n",
      "0.12362978909230184\n",
      "Наибольшее значение уровня значимости = 0.45200106631498416\n"
     ]
    }
   ],
   "source": [
    "Dn = sps.kstest([element[0,0] for element in mistakes], \"norm\", args = (mean_mistakes,std_mistakes)).statistic\n",
    "print(\"Колмогоров: \", Dn)\n",
    "x_a = sps.ksone.ppf(1-alpha, 50)\n",
    "print(x_a)\n",
    "print(\"Наибольшее значение уровня значимости =\", 1 - sps.ksone.cdf(Dn, 50))"
   ]
  },
  {
   "cell_type": "markdown",
   "metadata": {},
   "source": [
    "Критерий Колмогорова\\\n",
    "$\\widehat{\\varphi(\\vec{X})} = \\begin{cases} 0, \\quad \\widehat{D_n} \\leq 0.123 \\\\ 1, \\quad \\widehat{D_n} > 0.123 \\end{cases}$\n",
    "\n",
    "\n",
    "Т.к. $\\widehat{D_n} < x_\\alpha$, Нет основания отвергнуть гипотезу.\n",
    "\n",
    "   Наибольшее значение уровня значимости, при котором ещё нет оснований отвергнуть данную гипотезу, равняется $0.452$"
   ]
  },
  {
   "cell_type": "code",
   "execution_count": 97,
   "metadata": {},
   "outputs": [
    {
     "name": "stdout",
     "output_type": "stream",
     "text": [
      "[[-13.61613321]] [[15.67452754]]\n"
     ]
    },
    {
     "data": {
      "image/png": "[encoded data removed]",
      "text/plain": [
       "<Figure size 640x480 with 1 Axes>"
      ]
     },
     "metadata": {},
     "output_type": "display_data"
    }
   ],
   "source": [
    "\n",
    "plt.plot(mistakes_range, sps.norm.pdf(mistakes_range, mean_mistakes, std_mistakes))\n",
    "plt.hist(mistakes, bins=np.arange(min(mistakes), max(mistakes) + h, h), edgecolor='black',color = \"lightblue\",density= True)\n",
    "print(min(mistakes), max(mistakes))\n",
    "plt.xlabel('X')\n",
    "plt.ylabel('H(X)')\n",
    "plt.show()"
   ]
  },
  {
   "cell_type": "markdown",
   "metadata": {},
   "source": [
    "### 7.В предположении нормальности ошибок построить доверительные интервалы для параметров $\\beta_0,\\beta_1,\\beta_2$ уровня доверия $1-\\alpha$. Написать уравнение доверительного эллипсоида уровня доверия $1-\\alpha$."
   ]
  },
  {
   "cell_type": "code",
   "execution_count": 98,
   "metadata": {},
   "outputs": [
    {
     "name": "stdout",
     "output_type": "stream",
     "text": [
      "x_alpha: 1.2998\n",
      "b1 =  [[0.15608182]]\n",
      "b2 =  [[0.0357454]]\n",
      "b3 =  [[0.00037262]]\n",
      "Интервал для b0 ( [[9.84174596]] [[16.65721428]] )\n",
      "Интервал для b1 ( [[-2.52923338]] [[0.73235869]] )\n",
      "Интервал для b2 ( [[-0.01456406]] [[0.3184438]] )\n"
     ]
    }
   ],
   "source": [
    "x_alpha = stats.t(n - 3).ppf(1 - alpha / 2)\n",
    "print(f'x_alpha: {round(x_alpha, 4)}')\n",
    "\n",
    "\n",
    "e0 = np.array([1, 0, 0])\n",
    "e0_1 = np.array([[1], [0], [0]])\n",
    "e1 = np.array([0, 1, 0])\n",
    "e1_1 = np.array([[0], [1], [0]])\n",
    "e2 = np.array([0, 0, 1])\n",
    "e2_1 = np.array([[0], [0], [1]])\n",
    "\n",
    "b1 = e0*XX_T_inv*e0_1\n",
    "b2 = e1*XX_T_inv*e1_1\n",
    "b3 = e2*XX_T_inv*e2_1\n",
    "print(\"b1 = \", b1)\n",
    "print(\"b2 = \", b2)\n",
    "print(\"b3 = \", b3)\n",
    "left = beta_0 - x_alpha * np.sqrt(D) * np.sqrt(b1)\n",
    "right = beta_0 + x_alpha * np.sqrt(D) * np.sqrt(b1)\n",
    "print(\"Интервал для b0 (\",left,right,\")\")\n",
    "\n",
    "left = beta_1 - x_alpha * np.sqrt(D) * np.sqrt(b2)\n",
    "right = beta_1 + x_alpha * np.sqrt(D) * np.sqrt(b2)\n",
    "print(\"Интервал для b1 (\",left,right,\")\")\n",
    "\n",
    "left = beta_2 - x_alpha * np.sqrt(D) * np.sqrt(b3)\n",
    "right = beta_2 + x_alpha * np.sqrt(D) * np.sqrt(b3)\n",
    "print(\"Интервал для b2 (\",left,right,\")\")\n",
    "\n"
   ]
  },
  {
   "cell_type": "markdown",
   "metadata": {},
   "source": [
    "ДНО функция: $\\psi = C^T \\beta $\n",
    "\n",
    "Элемент дисперсии оценки: $ b_\\psi = C^T (XX^T)^{-1}C$\n",
    "\n",
    "Тогда: $ \\cfrac{\\widehat \\psi - \\psi}{s\\sqrt{b}} \\sim S_{n-r} $\n",
    "\n",
    "Доверительный интервал уровня доверия $1 - \\alpha$:\n",
    "\n",
    "$ P_\\theta(-x_\\alpha \\le \\cfrac{\\widehat \\psi - \\psi}{s\\sqrt{b}} \\le x_\\alpha) = 1 -\\alpha $\n",
    "\n",
    "\n",
    "$[ \\widehat \\psi -x_{\\alpha}s\\sqrt{b} , \\widehat \\psi + x_{\\alpha}s\\sqrt{b}] \\ni \\psi$ \n",
    "\n",
    "где квантиль $ x_\\alpha : S_{n-r}(x_\\alpha) = 1 -\\frac{\\alpha}{2} $\n",
    "\n",
    "$x_{\\alpha} = S_{n - 3}(1 - \\frac{\\alpha}{2}) = 1.2998$\n",
    "\n",
    "- **Вычислим $\\beta_0:$**\n",
    "\n",
    "  $\\psi_{\\beta_0} = \\begin{pmatrix}\n",
    "    1 \\\\\n",
    "    0 \\\\\n",
    "    0\n",
    "    \\end{pmatrix}  ^ {\\intercal} \\cdot  \\begin{pmatrix}\n",
    "    \\beta_0 \\\\\n",
    "    \\beta_1 \\\\\n",
    "    \\beta_2\n",
    "    \\end{pmatrix}$\n",
    "\n",
    "    $b_{\\psi_{\\beta_0}} =  \\begin{pmatrix}\n",
    "    1 & 0 & 0\n",
    "    \\end{pmatrix} (XX^{\\intercal})^{-1} \\begin{pmatrix}\n",
    "    1 \\\\ 0 \\\\ 0\n",
    "    \\end{pmatrix} = 0.156$\n",
    "\n",
    "    \n",
    "  \n",
    "- **Вычислим $\\beta_1:$**\n",
    "\n",
    "  $\\psi_{\\beta_1} = \\begin{pmatrix}\n",
    "    0 \\\\\n",
    "    1 \\\\\n",
    "    0\n",
    "    \\end{pmatrix}  ^ {\\intercal} \\cdot  \\begin{pmatrix}\n",
    "    \\beta_0 \\\\\n",
    "    \\beta_1 \\\\\n",
    "    \\beta_2\n",
    "    \\end{pmatrix}$\n",
    "  \n",
    "    $b_{\\psi_{\\beta_1}} =  \\begin{pmatrix}\n",
    "    0 & 1 & 0\n",
    "    \\end{pmatrix} (XX^{\\intercal})^{-1} \\begin{pmatrix}\n",
    "    0 \\\\ 1 \\\\ 0\n",
    "    \\end{pmatrix} = 0.0357$\n",
    "\n",
    "- **Вычислим $\\beta_2:$**\n",
    "\n",
    "  $\\psi_{\\beta_2} = \\begin{pmatrix}\n",
    "    0 \\\\\n",
    "    0 \\\\\n",
    "    1\n",
    "    \\end{pmatrix}  ^ {\\intercal} \\cdot  \\begin{pmatrix}\n",
    "    \\beta_0 \\\\\n",
    "    \\beta_1 \\\\\n",
    "    \\beta_2\n",
    "    \\end{pmatrix}$\n",
    "  \n",
    "    $b_{\\psi_{\\beta_2}} =  \\begin{pmatrix}\n",
    "    0 & 0 & 1\n",
    "    \\end{pmatrix} (XX^{\\intercal})^{-1} \\begin{pmatrix}\n",
    "    0 \\\\ 0 \\\\ 1\n",
    "    \\end{pmatrix} = 0.00037$\n",
    "\n",
    "    \n",
    "$ \\cfrac{\\widehat \\psi - \\psi}{s\\sqrt{b_{\\psi_{\\beta_0}}}} \\sim S_{n-3} $\n",
    "\n",
    "$ \\cfrac{\\widehat \\psi - \\psi}{s\\sqrt{b_{\\psi_{\\beta_1}}}} \\sim S_{n-3} $\n",
    "\n",
    "$ \\cfrac{\\widehat \\psi - \\psi}{s\\sqrt{b_{\\psi_{\\beta_2}}}} \\sim S_{n-3} $\n",
    "\n",
    "\n"
   ]
  },
  {
   "cell_type": "markdown",
   "metadata": {},
   "source": [
    "**Построим доверительный эллипс для параметра $(\\beta_0, \\beta_1)$ уровня доверия 1 - $\\alpha$ (найдём полуоси)**\n",
    "\n",
    "$ A_\\alpha = \\{\\overrightarrow{x}: (\\overrightarrow{x} - \\widehat \\psi)^T B^{-1} (\\overrightarrow{x} - \\widehat \\psi) \\le qs^2x_\\alpha\\}$\n",
    "\n",
    "$ A_\\alpha = \\{\\overrightarrow{x}: (\\overrightarrow{x} - \\widehat \\psi)^T (C^T (XX^T)^{-1}C)^{-1}(\\overrightarrow{x} - \\widehat \\psi) \\le qs^2x_\\alpha\\}$, \n",
    "\n",
    "где $ x_\\alpha = F_{q, n-r}(x_\\alpha) = 1 - \\alpha$\n",
    "\n",
    "$C = \\begin{pmatrix}\n",
    "    1 & 0 & 0 \\\\\n",
    "    0 & 1 & 0 \\\\\n",
    "    0 & 0 & 1\n",
    "\\end{pmatrix} $\n",
    "\n",
    "Пусть $ \\begin{pmatrix}\n",
    "    x\\\\\n",
    "    y\n",
    "\\end{pmatrix}  = P(\\widehat \\psi - \\psi)$, где P - матрица собственных векторов.\n",
    "\n",
    "Тогда уравнение доверительного эллипсоида выглядит таким образом:\n",
    "\n",
    "$(\\widehat \\psi -  \\psi)^T (C^T (XX^T)^{-1}C)^{-1}(\\widehat \\psi -  \\psi) = \\lambda_1 x^2 + \\lambda_2 y^2 + \\lambda_2 z^2 \\le qs^2x_\\alpha$, где $\\lambda_1$, $\\lambda_2$ и $\\lambda_3$ - собственные числа матрицы $XX^T$\n",
    "\n",
    "$\\cfrac{\\lambda_1}{qs^2x_\\alpha}x^2 + \\cfrac{\\lambda_2}{qs^2x_\\alpha}y^2  + \\cfrac{\\lambda_2}{qs^2x_\\alpha}z^2\\le 1$\n",
    "\n",
    "**Уравнение Элипса:**\n",
    "\n",
    "$349.03x^2 + 0.058y^2 + 0.6192z^2 < 1$ "
   ]
  },
  {
   "cell_type": "code",
   "execution_count": 99,
   "metadata": {},
   "outputs": [
    {
     "name": "stdout",
     "output_type": "stream",
     "text": [
      "x_alpha: 1.6072\n",
      "Большая полуось: 5.0831\n",
      "Малая полуось: 0.0384\n"
     ]
    }
   ],
   "source": [
    "XX_T = np.dot(X_matrix, X_matrix.T)\n",
    "eigenvalues, eigenvectors = np.linalg.eig(XX_T)\n",
    "beta = [beta_0, beta_1, beta_2]\n",
    "\n",
    "\n",
    "x_alpha = stats.f(3, n - 2).ppf(1 - alpha)\n",
    "print(f'x_alpha: {round(x_alpha, 4)}')\n",
    "\n",
    "a = np.sqrt((2 * D * x_alpha) / eigenvalues[0])\n",
    "b =  np.sqrt((2 * D * x_alpha) / eigenvalues[1])\n",
    "\n",
    "print(f'Большая полуось: {round(b, 4)}')\n",
    "print(f'Малая полуось: {round(a, 4)}')\n",
    "\n",
    "\n",
    "\n",
    "    \n"
   ]
  },
  {
   "cell_type": "markdown",
   "metadata": {},
   "source": [
    "Большая полуось: 5.0831\n",
    "\n",
    "Малая полуось: 0.0384"
   ]
  },
  {
   "cell_type": "markdown",
   "metadata": {},
   "source": [
    "### 8.Сформулировать гипотезу линейной регрессионной зависимости переменной Y от переменной X и проверить её значимость на уровне $\\alpha$."
   ]
  },
  {
   "cell_type": "markdown",
   "metadata": {},
   "source": [
    "Основная гипотеза: $H_0 : \\psi = 0$\n",
    "\n",
    "ДНО - функция: \n",
    "$\\psi = C^T \\beta $\n",
    "\n",
    "$ C = \\begin{pmatrix}\n",
    "    0 \\\\\n",
    "    0 \\\\\n",
    "    1\n",
    "\\end{pmatrix} \\Rightarrow$, $\\widehat \\psi = \\widehat \\beta_2 $\n",
    "\n",
    "$\\mathbb{F} \\approx 1.407$\n",
    "\n",
    "$x_{\\alpha} \\approx 1.69$\n",
    "\n",
    "$\\mathbb{F} < x_{\\alpha_2} \\to$ Нет основания отвергнуть гипотезу."
   ]
  },
  {
   "cell_type": "code",
   "execution_count": 100,
   "metadata": {},
   "outputs": [
    {
     "name": "stdout",
     "output_type": "stream",
     "text": [
      "Статистика F =  [[1.40690338]]\n",
      "x_alpha =  1.6895448936537667\n",
      "p_value 0.297\n"
     ]
    }
   ],
   "source": [
    "c = np.array([0, 0, 1])\n",
    "b = np.dot(np.dot(c.T, XX_T_inv), c)\n",
    "\n",
    "q = 1\n",
    "r = 3\n",
    "F = beta_2 ** 2 / (b * q * D)\n",
    "print(\"Статистика F = \" , F)\n",
    "\n",
    "x_alpha = stats.f(q, 47).ppf(1 - alpha)\n",
    "print(\"x_alpha = \" , x_alpha)\n",
    "\n",
    "F = 1.11\n",
    "print(\"p_value\", round(1 - sps.f.cdf(F, 1, 47), 3))"
   ]
  },
  {
   "cell_type": "markdown",
   "metadata": {},
   "source": [
    "## Выводы\n",
    "В рамках выполнения практической работы была создана модель линейной регрессии для анализа взаимосвязи переменной Y от X. Метод наименьших квадратов (МНК) использовался для определения параметров модели. Дополнительно были вычислены несмещенные оценки дисперсии, проведена проверка гипотезы о нормальности ошибок с уровнем значимости $\\alpha$ с использованием критерия $\\chi^2$, а также оценено расстояние до нормального распределения по методу Колмогорова. Работа также включает в себя приобретение навыков построения МНК оценок, доверительных эллипсов и эллипсоидов, а также проверки гипотез о независимости и наличии линейной регрессионной зависимости."
   ]
  }
 ],
 "metadata": {
  "kernelspec": {
   "display_name": "Python 3",
   "language": "python",
   "name": "python3"
  },
  "language_info": {
   "codemirror_mode": {
    "name": "ipython",
    "version": 3
   },
   "file_extension": ".py",
   "mimetype": "text/x-python",
   "name": "python",
   "nbconvert_exporter": "python",
   "pygments_lexer": "ipython3",
   "version": "3.8.10"
  }
 },
 "nbformat": 4,
 "nbformat_minor": 2
}
